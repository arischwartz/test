{
 "metadata": {
  "name": "",
  "signature": "sha256:59015908ce55cc393028a481292766670e6e5e837e6304bf80be609b7f5bfcaa"
 },
 "nbformat": 3,
 "nbformat_minor": 0,
 "worksheets": [
  {
   "cells": [
    {
     "cell_type": "markdown",
     "metadata": {},
     "source": [
      "# Description:\n",
      "\n",
      "* Simulating bacterial communities using all of the bacterial genomes available.\n",
      "\n",
      "\n",
      "### Workflow:\n",
      "\n",
      "* symlink all genomes\n",
      "* index all genomes"
     ]
    },
    {
     "cell_type": "code",
     "collapsed": false,
     "input": [
      "workDir = '/home/nick/notebook/SIPSim/dev/bac_genome_all/'\n",
      "SIPSimExe = '/home/nick/notebook/SIPSim/SIPSim'\n",
      "genomeDir = '/var/seq_data/ncbi_db/genome/'"
     ],
     "language": "python",
     "metadata": {},
     "outputs": [],
     "prompt_number": 48
    },
    {
     "cell_type": "code",
     "collapsed": false,
     "input": [
      "import os,sys\n",
      "import numpy as np\n",
      "import pandas as pd\n",
      "from ggplot import *\n",
      "import matplotlib.pyplot as plt"
     ],
     "language": "python",
     "metadata": {},
     "outputs": [],
     "prompt_number": 32
    },
    {
     "cell_type": "code",
     "collapsed": false,
     "input": [
      "%load_ext rpy2.ipython\n",
      "%matplotlib inline"
     ],
     "language": "python",
     "metadata": {},
     "outputs": [
      {
       "output_type": "stream",
       "stream": "stdout",
       "text": [
        "The rpy2.ipython extension is already loaded. To reload it, use:\n",
        "  %reload_ext rpy2.ipython\n"
       ]
      }
     ],
     "prompt_number": 10
    },
    {
     "cell_type": "code",
     "collapsed": false,
     "input": [
      "if not os.path.isdir(workDir):\n",
      "    os.mkdir(workDir)"
     ],
     "language": "python",
     "metadata": {},
     "outputs": [],
     "prompt_number": 20
    },
    {
     "cell_type": "code",
     "collapsed": false,
     "input": [
      "genomeDir = os.path.join(workDir, 'genomes')\n",
      "if not os.path.isdir(genomeDir):\n",
      "    os.mkdir(genomeDir)"
     ],
     "language": "python",
     "metadata": {},
     "outputs": [],
     "prompt_number": 21
    },
    {
     "cell_type": "markdown",
     "metadata": {},
     "source": [
      "# Getting genomes from ncbi\n",
      "\n",
      "* Updating list of genomes from ncbi\n",
      "* Date: 2/18/2014"
     ]
    },
    {
     "cell_type": "code",
     "collapsed": false,
     "input": [
      "# using 'prokaryote.txt' file from the NCBI genome ftp site\n",
      "!cd $genomeDir; \\\n",
      "    wget ftp://ftp.ncbi.nih.gov/genomes/GENOME_REPORTS/prokaryotes.txt"
     ],
     "language": "python",
     "metadata": {},
     "outputs": [
      {
       "output_type": "stream",
       "stream": "stdout",
       "text": [
        "--2015-02-17 20:00:03--  ftp://ftp.ncbi.nih.gov/genomes/GENOME_REPORTS/prokaryotes.txt\r\n",
        "           => `prokaryotes.txt'\r\n",
        "Resolving ftp.ncbi.nih.gov (ftp.ncbi.nih.gov)... 130.14.250.11, 2607:f220:41e:250::11\r\n",
        "Connecting to ftp.ncbi.nih.gov (ftp.ncbi.nih.gov)|130.14.250.11|:21... "
       ]
      },
      {
       "output_type": "stream",
       "stream": "stdout",
       "text": [
        "connected.\r\n",
        "Logging in as anonymous ... "
       ]
      },
      {
       "output_type": "stream",
       "stream": "stdout",
       "text": [
        "Logged in!\r\n",
        "==> SYST ... done.    ==> PWD ... "
       ]
      },
      {
       "output_type": "stream",
       "stream": "stdout",
       "text": [
        "done.\r\n",
        "==> TYPE I ... "
       ]
      },
      {
       "output_type": "stream",
       "stream": "stdout",
       "text": [
        "done.  ==> CWD (1) /genomes/GENOME_REPORTS ... "
       ]
      },
      {
       "output_type": "stream",
       "stream": "stdout",
       "text": [
        "done.\r\n",
        "==> SIZE prokaryotes.txt ... 7628235\r\n",
        "==> PASV ... "
       ]
      },
      {
       "output_type": "stream",
       "stream": "stdout",
       "text": [
        "done.    ==> RETR prokaryotes.txt ... done.\r\n",
        "Length: 7628235 (7.3M) (unauthoritative)\r\n",
        "\r\n",
        "\r",
        " 0% [                                       ] 0           --.-K/s              "
       ]
      },
      {
       "output_type": "stream",
       "stream": "stdout",
       "text": [
        "\r",
        " 2% [                                       ] 170,864      770K/s              "
       ]
      },
      {
       "output_type": "stream",
       "stream": "stdout",
       "text": [
        "\r",
        " 8% [==>                                    ] 626,488     1.38M/s              "
       ]
      },
      {
       "output_type": "stream",
       "stream": "stdout",
       "text": [
        "\r",
        "21% [=======>                               ] 1,647,824   2.41M/s              "
       ]
      },
      {
       "output_type": "stream",
       "stream": "stdout",
       "text": [
        "\r",
        "46% [=================>                     ] 3,576,560   3.93M/s              "
       ]
      },
      {
       "output_type": "stream",
       "stream": "stdout",
       "text": [
        "\r",
        "89% [=================================>     ] 6,819,828   5.98M/s              "
       ]
      },
      {
       "output_type": "stream",
       "stream": "stdout",
       "text": [
        "\r",
        "100%[======================================>] 7,628,235   6.47M/s   in 1.1s    \r\n",
        "\r\n",
        "2015-02-17 20:00:05 (6.47 MB/s) - `prokaryotes.txt' saved [7628235]\r\n",
        "\r\n"
       ]
      }
     ],
     "prompt_number": 50
    },
    {
     "cell_type": "code",
     "collapsed": false,
     "input": [
      "! printf \"Number of lines in old (delta-GC dataset) version of prokaryotes.txt: \"\n",
      "! cd $genomeDir; \\\n",
      "    wc -l archive/deltaGC_dataset/prokaryotes.txt | perl -pe 's/ .+//'\n",
      "! printf \"Number of lines in new version of prokaryotes.txt: \"\n",
      "! cd $genomeDir; \\\n",
      "    wc -l prokaryotes.txt | perl -pe 's/ .+//'"
     ],
     "language": "python",
     "metadata": {},
     "outputs": [
      {
       "output_type": "stream",
       "stream": "stdout",
       "text": [
        "Number of lines in old (delta-GC dataset) version of prokaryotes.txt: "
       ]
      },
      {
       "output_type": "stream",
       "stream": "stdout",
       "text": [
        "23504\r\n"
       ]
      },
      {
       "output_type": "stream",
       "stream": "stdout",
       "text": [
        "Number of lines in new version of prokaryotes.txt: "
       ]
      },
      {
       "output_type": "stream",
       "stream": "stdout",
       "text": [
        "31501\r\n"
       ]
      }
     ],
     "prompt_number": 53
    },
    {
     "cell_type": "code",
     "collapsed": false,
     "input": [
      "os.chdir(genomeDir)\n",
      "\n",
      "# loading table\n",
      "proks = pd.read_csv('prokaryotes.txt', sep='\\t')\n",
      "print \"Number of rows: {}\".format(proks.shape[0])\n",
      "\n",
      "# filtering table\n",
      "## just closed genomes (1 scaffold per chromosome)\n",
      "### *Complete* in 'Status' field\n",
      "proks = proks.loc[proks['Status'].isin(['Complete','Complete Genome'])]\n",
      "print \"Number of rows: {}\".format(proks.shape[0])"
     ],
     "language": "python",
     "metadata": {},
     "outputs": [
      {
       "output_type": "stream",
       "stream": "stdout",
       "text": [
        "Number of rows: 31500\n",
        "Number of rows: 3601\n"
       ]
      }
     ],
     "prompt_number": 63
    },
    {
     "cell_type": "markdown",
     "metadata": {},
     "source": [
      "### Filtering prokaryotes file"
     ]
    },
    {
     "cell_type": "code",
     "collapsed": false,
     "input": [
      "!cd $genomeDir; \\\n",
      "    seqDB_tools NCBIprokaryoteTableFilter \\\n",
      "    -t 30 prokaryotes.txt \\\n",
      "    > prokaryotes_filt.txt 2> NCBIprokaryoteTableFilter.log"
     ],
     "language": "python",
     "metadata": {},
     "outputs": [],
     "prompt_number": 71
    },
    {
     "cell_type": "code",
     "collapsed": false,
     "input": [
      "!cd $genomeDir; \\\n",
      "    wc -l prokaryotes_filt.txt"
     ],
     "language": "python",
     "metadata": {},
     "outputs": [
      {
       "output_type": "stream",
       "stream": "stdout",
       "text": [
        "3314 prokaryotes_filt.txt\r\n"
       ]
      }
     ],
     "prompt_number": 72
    },
    {
     "cell_type": "code",
     "collapsed": false,
     "input": [
      "!cd $genomeDir; \\\n",
      "    head NCBIprokaryoteTableFilter.log"
     ],
     "language": "python",
     "metadata": {},
     "outputs": [
      {
       "output_type": "stream",
       "stream": "stdout",
       "text": [
        "Loading table...\r\n",
        "Just keeping most recent entries for same organism...\r\n",
        "Adding taxonomy to each entry...\r\n",
        "\r\n",
        "------------- EXCEPTION: Bio::Root::Exception -------------\r\n",
        "MSG: Can't query website: 500 Can't connect to eutils.ncbi.nlm.nih.gov:80 (Connection timed out)\r\n",
        "STACK: Error::throw\r\n",
        "STACK: Bio::Root::Root::throw /usr/local/share/perl/5.14.2/Bio/Root/Root.pm:449\r\n",
        "STACK: Bio::DB::Taxonomy::entrez::_run_query /usr/local/share/perl/5.14.2/Bio/DB/Taxonomy/entrez.pm:658\r\n",
        "STACK: Bio::DB::Taxonomy::entrez::get_taxon /usr/local/share/perl/5.14.2/Bio/DB/Taxonomy/entrez.pm:326\r\n"
       ]
      }
     ],
     "prompt_number": 73
    },
    {
     "cell_type": "markdown",
     "metadata": {},
     "source": [
      "### Random selection of 1 from each species\n",
      "\n",
      "* filtered out all genomes w/out accession numbers"
     ]
    },
    {
     "cell_type": "code",
     "collapsed": false,
     "input": [
      "%%bash -s \"$genomeDir\"\n",
      "\n",
      "cd $1\n",
      "\n",
      "NY_misc_perl tblRandomByField -c 32 \\\n",
      "    -header <(perl -ne '@l=split /\\t/; print unless \\$l[9] eq \"-\"' prokaryotes_filt.txt) \\\n",
      "    > prokaryotes_filt_rand.txt"
     ],
     "language": "python",
     "metadata": {},
     "outputs": [],
     "prompt_number": 95
    },
    {
     "cell_type": "code",
     "collapsed": false,
     "input": [
      "!cd $genomeDir; \\\n",
      "    wc -l prokaryotes_filt_rand.txt"
     ],
     "language": "python",
     "metadata": {},
     "outputs": [
      {
       "output_type": "stream",
       "stream": "stdout",
       "text": [
        "1333 prokaryotes_filt_rand.txt\r\n"
       ]
      }
     ],
     "prompt_number": 96
    },
    {
     "cell_type": "code",
     "collapsed": false,
     "input": [
      "!cd $genomeDir; \\\n",
      "    head -n 2 prokaryotes_filt_rand.txt"
     ],
     "language": "python",
     "metadata": {},
     "outputs": [
      {
       "output_type": "stream",
       "stream": "stdout",
       "text": [
        "#Organism/Name\tTaxID\tBioProject Accession\tBioProject ID\tGroup\tSubGroup\tSize (Mb)\tGC%\tChromosomes/RefSeq\tChromosomes/INSDC\tPlasmids/RefSeq\tPlasmids/INSDC\tWGS\tScaffolds\tGenes\tProteins\tRelease Date\tModify Date\tStatus\tCenter\tBioSample Accession\tAssembly Accession\tReference\tFTP Path\tPubmed ID\r",
        "\tsuperkingdom\tphylum\tclass\torder\tfamily\tgenus\tspecies\r\n",
        "Paludibacter propionicigenes WB4\t694427\tPRJNA42009\t42009\tBacteroidetes/Chlorobi group\tBacteroidetes\t3.6855\t38.9\tNC_014734.1\tCP002345.1\t-\t-\t-\t1\t3041\t2967\t2010/11/23\t2014/12/17\tComplete Genome\tUS DOE Joint Genome Institute (JGI-PGF)\tSAMN00016731\tGCA_000183135.1\tREPR\tPaludibacter_propionicigenes/GCF_000183135\t21475585\tBacteria\tBacteroidetes\tBacteroidia\tBacteroidales\tPorphyromonadaceae\tPaludibacter\tPaludibacter propionicigenes\r\n"
       ]
      }
     ],
     "prompt_number": 97
    },
    {
     "cell_type": "markdown",
     "metadata": {},
     "source": [
      "### Parsing by domain\n",
      "\n",
      "* Also, must have a genus taxonomic classification"
     ]
    },
    {
     "cell_type": "code",
     "collapsed": false,
     "input": [
      "%%bash -s \"$genomeDir\"\n",
      "\n",
      "perl -ne '@l=split /\\t/; print if $l[25] =~/bacteria|superkingdom/i && $l[31] !~ /NA/' \\\n",
      "    prokaryotes_filt_rand.txt > prok-bac_filt_rand.txt\n",
      "printf \"Number of bacterial genomes: \"\n",
      "wc -l prok-bac_filt_rand.txt\n",
      "\n",
      "\n",
      "perl -ne '@l=split /\\t/; print if $l[25] =~/archaea|superkingdom/i && $l[31] !~ /NA/' \\\n",
      "    prokaryotes_filt_rand.txt > prok-arc_filt_rand.txt\n",
      "printf \"Number of archaeal genomes: \"\n",
      "wc -l prok-arc_filt_rand.txt"
     ],
     "language": "python",
     "metadata": {},
     "outputs": [
      {
       "output_type": "stream",
       "stream": "stdout",
       "text": [
        "Number of bacterial genomes: 1207 prok-bac_filt_rand.txt\n",
        "Number of archaeal genomes: 126 prok-arc_filt_rand.txt\n"
       ]
      }
     ],
     "prompt_number": 98
    },
    {
     "cell_type": "markdown",
     "metadata": {},
     "source": [
      "### Downloading genomes"
     ]
    },
    {
     "cell_type": "code",
     "collapsed": false,
     "input": [
      "!cd $genomeDir; \\\n",
      "    seqDB_tools NCBIprokaryoteTableFilter prok-bac_filt_rand.txt -t 30 -w -d prok-bac-genomes"
     ],
     "language": "python",
     "metadata": {},
     "outputs": [
      {
       "output_type": "stream",
       "stream": "stdout",
       "text": [
        "Writing out fastas of each genome (fastas from GenBank accession numbers)...\r\n"
       ]
      },
      {
       "output_type": "stream",
       "stream": "stdout",
       "text": [
        "Processing Helicobacter hepaticus ATCC 51449\r\n",
        "Processing Borrelia burgdorferi CA382\r\n",
        "Processing Lactobacillus casei 12A\r\n",
        "Processing Mycoplasma bovis HB0801\r\n",
        "Processing Leptothrix cholodnii SP-6\r\n",
        "Processing Streptococcus pyogenes MGAS315\r\n",
        "Processing Flavobacterium columnare ATCC 49512\r\n",
        "Processing Ramlibacter tataouinensis TTB310\r\n",
        "Processing Rhizobium etli CFN 42\r\n",
        "Processing Acidovorax avenae subsp. avenae ATCC 19860\r\n",
        "Processing Natranaerobius thermophilus JW/NM-WN-LF\r\n",
        "Processing Acidothermus cellulolyticus 11B\r\n",
        "Processing Bartonella australis Aust/NH1\r\n",
        "Processing Rhodobacter capsulatus SB 1003\r\n",
        "Processing Mycoplasma haemocanis str. Illinois\r\n",
        "Processing Nitrobacter hamburgensis X14\r\n",
        "Processing Deinococcus maricopensis DSM 21211\r\n",
        "Processing Desulfosporosinus meridiei DSM 13257\r\n",
        "Processing Campylobacter coli CVM N29710\r\n",
        "Processing Teredinibacter turnerae T7901\r\n",
        "Processing Streptococcus parauberis NCFD 2020\r\n",
        "Processing Vibrio campbellii ATCC BAA-1116\r\n",
        "Processing Escherichia fergusonii ATCC 35469\r\n",
        "Processing Candidatus Kinetoplastibacterium crithidii (ex Angomonas deanei ATCC 30255)\r\n",
        "Processing Prevotella intermedia 17\r\n",
        "Processing Enterococcus mundtii QU 25\r\n",
        "Processing Bacteroides salanitronis DSM 18170\r\n",
        "Processing Alcanivorax dieselolei B5\r\n",
        "Processing Burkholderia phytofirmans PsJN\r\n",
        "Processing Thermoanaerobacter mathranii subsp. mathranii str. A3\r\n"
       ]
      },
      {
       "output_type": "stream",
       "stream": "stdout",
       "text": [
        "Processing Elusimicrobium minutum Pei191\r\n"
       ]
      },
      {
       "output_type": "stream",
       "stream": "stdout",
       "text": [
        "Processing Porphyromonas gingivalis W83\r\n"
       ]
      },
      {
       "output_type": "stream",
       "stream": "stdout",
       "text": [
        "Processing Rickettsia philipii str. 364D\r\n",
        "Processing Arcobacter nitrofigilis DSM 7299\r\n"
       ]
      },
      {
       "output_type": "stream",
       "stream": "stdout",
       "text": [
        "Processing Paenibacillus polymyxa M1\r\n"
       ]
      },
      {
       "output_type": "stream",
       "stream": "stdout",
       "text": [
        "Processing Comamonas testosteroni CNB-1\r\n"
       ]
      },
      {
       "output_type": "stream",
       "stream": "stdout",
       "text": [
        "Processing Stenotrophomonas maltophilia JV3\r\n"
       ]
      },
      {
       "output_type": "stream",
       "stream": "stdout",
       "text": [
        "Processing Shewanella putrefaciens 200\r\n"
       ]
      },
      {
       "output_type": "stream",
       "stream": "stdout",
       "text": [
        "Processing Shigella flexneri Shi06HN006\r\n"
       ]
      },
      {
       "output_type": "stream",
       "stream": "stdout",
       "text": [
        "Processing Vibrio alginolyticus NBRC 15630 = ATCC 17749\r\n"
       ]
      },
      {
       "output_type": "stream",
       "stream": "stdout",
       "text": [
        "Processing Mycoplasma suis KI3806\r\n"
       ]
      },
      {
       "output_type": "stream",
       "stream": "stdout",
       "text": [
        "Processing Fervidobacterium nodosum Rt17-B1\r\n"
       ]
      },
      {
       "output_type": "stream",
       "stream": "stdout",
       "text": [
        "Processing Coraliomargarita akajimensis DSM 45221\r\n",
        "Processing Caldicellulosiruptor saccharolyticus DSM 8903\r\n"
       ]
      },
      {
       "output_type": "stream",
       "stream": "stdout",
       "text": [
        "Processing Frateuria aurantia DSM 6220\r\n"
       ]
      },
      {
       "output_type": "stream",
       "stream": "stdout",
       "text": [
        "Processing Serratia liquefaciens ATCC 27592\r\n"
       ]
      },
      {
       "output_type": "stream",
       "stream": "stdout",
       "text": [
        "Processing Oscillatoria nigro-viridis PCC 7112\r\n"
       ]
      },
      {
       "output_type": "stream",
       "stream": "stdout",
       "text": [
        "Processing Spiroplasma sabaudiense Ar-1343\r\n"
       ]
      },
      {
       "output_type": "stream",
       "stream": "stdout",
       "text": [
        "Processing Kutzneria albida DSM 43870\r\n"
       ]
      },
      {
       "output_type": "stream",
       "stream": "stdout",
       "text": [
        "Processing Dehalobacter restrictus DSM 9455\r\n",
        "Processing Tistrella mobilis KA081020-065\r\n",
        "Processing Edwardsiella tarda FL6-60\r\n"
       ]
      },
      {
       "output_type": "stream",
       "stream": "stdout",
       "text": [
        "Processing Alcanivorax pacificus W11-5\r\n"
       ]
      },
      {
       "output_type": "stream",
       "stream": "stdout",
       "text": [
        "Processing Pseudomonas entomophila L48\r\n",
        "Processing Treponema succinifaciens DSM 2489\r\n"
       ]
      },
      {
       "output_type": "stream",
       "stream": "stdout",
       "text": [
        "Processing Clostridium beijerinckii ATCC 35702\r\n"
       ]
      },
      {
       "output_type": "stream",
       "stream": "stdout",
       "text": [
        "Processing Pseudomonas syringae pv. syringae B728a\r\n"
       ]
      },
      {
       "output_type": "stream",
       "stream": "stdout",
       "text": [
        "Processing Atopobium parvulum DSM 20469\r\n"
       ]
      },
      {
       "output_type": "stream",
       "stream": "stdout",
       "text": [
        "Processing Desulfotomaculum gibsoniae DSM 7213\r\n"
       ]
      },
      {
       "output_type": "stream",
       "stream": "stdout",
       "text": [
        "Processing Acidithiobacillus ferrivorans SS3\r\n",
        "Processing Deinococcus gobiensis I-0\r\n"
       ]
      },
      {
       "output_type": "stream",
       "stream": "stdout",
       "text": [
        "Processing Borrelia bissettii DN127\r\n"
       ]
      },
      {
       "output_type": "stream",
       "stream": "stdout",
       "text": [
        "Processing Amycolatopsis mediterranei S699\r\n"
       ]
      },
      {
       "output_type": "stream",
       "stream": "stdout",
       "text": [
        "Processing Mannheimia succiniciproducens MBEL55E\r\n"
       ]
      },
      {
       "output_type": "stream",
       "stream": "stdout",
       "text": [
        "Processing Magnetospirillum magneticum AMB-1\r\n"
       ]
      },
      {
       "output_type": "stream",
       "stream": "stdout",
       "text": [
        "Processing Mesorhizobium opportunistum WSM2075\r\n"
       ]
      },
      {
       "output_type": "stream",
       "stream": "stdout",
       "text": [
        "Processing Pseudonocardia dioxanivorans CB1190\r\n"
       ]
      },
      {
       "output_type": "stream",
       "stream": "stdout",
       "text": [
        "Processing Leptospira biflexa serovar Patoc strain 'Patoc 1 (Paris)'\r\n"
       ]
      },
      {
       "output_type": "stream",
       "stream": "stdout",
       "text": [
        "Processing Candidatus Desulforudis audaxviator MP104C\r\n"
       ]
      },
      {
       "output_type": "stream",
       "stream": "stdout",
       "text": [
        "Processing Catenulispora acidiphila DSM 44928\r\n"
       ]
      },
      {
       "output_type": "stream",
       "stream": "stdout",
       "text": [
        "Processing Herbaspirillum seropedicae SmR1\r\n"
       ]
      },
      {
       "output_type": "stream",
       "stream": "stdout",
       "text": [
        "Processing Citrobacter koseri ATCC BAA-895\r\n"
       ]
      },
      {
       "output_type": "stream",
       "stream": "stdout",
       "text": [
        "Processing Saprospira grandis str. Lewin\r\n"
       ]
      },
      {
       "output_type": "stream",
       "stream": "stdout",
       "text": [
        "Processing Anaplasma centrale str. Israel\r\n",
        "Processing Lactobacillus gasseri ADH\r\n"
       ]
      },
      {
       "output_type": "stream",
       "stream": "stdout",
       "text": [
        "Processing Edwardsiella piscicida C07-087\r\n"
       ]
      },
      {
       "output_type": "stream",
       "stream": "stdout",
       "text": [
        "Processing Intrasporangium calvum DSM 43043\r\n",
        "Processing Corynebacterium argentoratense DSM 44202\r\n"
       ]
      },
      {
       "output_type": "stream",
       "stream": "stdout",
       "text": [
        "Processing Francisella noatunensis subsp. orientalis str. Toba 04\r\n",
        "Processing Kosakonia sacchari SP1\r\n",
        "Processing Anaplasma phagocytophilum str. HZ2\r\n"
       ]
      },
      {
       "output_type": "stream",
       "stream": "stdout",
       "text": [
        "Processing Marinithermus hydrothermalis DSM 14884\r\n"
       ]
      },
      {
       "output_type": "stream",
       "stream": "stdout",
       "text": [
        "Processing Lactobacillus amylovorus GRL1118\r\n"
       ]
      },
      {
       "output_type": "stream",
       "stream": "stdout",
       "text": [
        "Processing Coriobacterium glomerans PW2\r\n"
       ]
      },
      {
       "output_type": "stream",
       "stream": "stdout",
       "text": [
        "Processing Chlorobaculum parvum NCIB 8327\r\n"
       ]
      },
      {
       "output_type": "stream",
       "stream": "stdout",
       "text": [
        "Processing Streptococcus intermedius C270\r\n"
       ]
      },
      {
       "output_type": "stream",
       "stream": "stdout",
       "text": [
        "Processing Rickettsia prowazekii str. Rp22\r\n"
       ]
      },
      {
       "output_type": "stream",
       "stream": "stdout",
       "text": [
        "Processing Mycoplasma arthritidis 158L3-1\r\n"
       ]
      },
      {
       "output_type": "stream",
       "stream": "stdout",
       "text": [
        "Processing Microbacterium testaceum StLB037\r\n",
        "Processing Chlamydia trachomatis RC-J(s)/122\r\n",
        "Processing Bacteroides thetaiotaomicron VPI-5482\r\n"
       ]
      },
      {
       "output_type": "stream",
       "stream": "stdout",
       "text": [
        "Processing Prevotella ruminicola 23\r\n"
       ]
      },
      {
       "output_type": "stream",
       "stream": "stdout",
       "text": [
        "Processing Streptomyces griseus subsp. griseus NBRC 13350\r\n"
       ]
      },
      {
       "output_type": "stream",
       "stream": "stdout",
       "text": [
        "Processing Thermosipho africanus TCF52B\r\n",
        "Processing Komagataeibacter xylinus E25\r\n"
       ]
      },
      {
       "output_type": "stream",
       "stream": "stdout",
       "text": [
        "Processing Mycobacterium rhodesiae NBB3\r\n"
       ]
      },
      {
       "output_type": "stream",
       "stream": "stdout",
       "text": [
        "Processing Vibrio fischeri ES114\r\n"
       ]
      },
      {
       "output_type": "stream",
       "stream": "stdout",
       "text": [
        "Processing Arthrobacter chlorophenolicus A6\r\n",
        "Processing Bacillus licheniformis 9945A\r\n"
       ]
      },
      {
       "output_type": "stream",
       "stream": "stdout",
       "text": [
        "Processing Mycobacterium intracellulare MOTT-02\r\n"
       ]
      },
      {
       "output_type": "stream",
       "stream": "stdout",
       "text": [
        "Processing Enterobacter cloacae subsp. cloacae ATCC 13047\r\n",
        "Processing Xanthomonas axonopodis pv. citri str. 306\r\n"
       ]
      },
      {
       "output_type": "stream",
       "stream": "stdout",
       "text": [
        "Processing Campylobacter insulaenigrae NCTC 12927\r\n"
       ]
      },
      {
       "output_type": "stream",
       "stream": "stdout",
       "text": [
        "Processing Haemophilus influenzae R2866\r\n"
       ]
      },
      {
       "output_type": "stream",
       "stream": "stdout",
       "text": [
        "Processing Rickettsia heilongjiangensis 054\r\n",
        "Processing Blattabacterium sp. (Periplaneta americana) str. BPLAN\r\n",
        "Processing Borrelia parkeri HR1\r\n"
       ]
      },
      {
       "output_type": "stream",
       "stream": "stdout",
       "text": [
        "Processing Clostridium autoethanogenum DSM 10061\r\n"
       ]
      },
      {
       "output_type": "stream",
       "stream": "stdout",
       "text": [
        "Processing Treponema brennaborense DSM 12168\r\n"
       ]
      },
      {
       "output_type": "stream",
       "stream": "stdout",
       "text": [
        "Processing Pelobacter propionicus DSM 2379\r\n"
       ]
      },
      {
       "output_type": "stream",
       "stream": "stdout",
       "text": [
        "Processing Francisella philomiragia subsp. philomiragia ATCC 25015\r\n"
       ]
      },
      {
       "output_type": "stream",
       "stream": "stdout",
       "text": [
        "Processing Trichodesmium erythraeum IMS101\r\n"
       ]
      },
      {
       "output_type": "stream",
       "stream": "stdout",
       "text": [
        "Processing Desulfovibrio vulgaris str. Hildenborough\r\n"
       ]
      },
      {
       "output_type": "stream",
       "stream": "stdout",
       "text": [
        "Processing Niastella koreensis GR20-10\r\n"
       ]
      },
      {
       "output_type": "stream",
       "stream": "stdout",
       "text": [
        "Processing Nitrosococcus oceani ATCC 19707\r\n"
       ]
      },
      {
       "output_type": "stream",
       "stream": "stdout",
       "text": [
        "Processing Mycoplasma penetrans HF-2\r\n"
       ]
      },
      {
       "output_type": "stream",
       "stream": "stdout",
       "text": [
        "Processing Mycobacterium yongonense 05-1390\r\n"
       ]
      },
      {
       "output_type": "stream",
       "stream": "stdout",
       "text": [
        "Processing Achromobacter xylosoxidans A8\r\n"
       ]
      },
      {
       "output_type": "stream",
       "stream": "stdout",
       "text": [
        "Processing Candidatus Kinetoplastibacterium desouzaii TCC079E\r\n"
       ]
      },
      {
       "output_type": "stream",
       "stream": "stdout",
       "text": [
        "Processing Terriglobus roseus DSM 18391\r\n"
       ]
      },
      {
       "output_type": "stream",
       "stream": "stdout",
       "text": [
        "Processing Buchnera aphidicola str. Sg (Schizaphis graminum)\r\n"
       ]
      },
      {
       "output_type": "stream",
       "stream": "stdout",
       "text": [
        "Processing Slackia heliotrinireducens DSM 20476\r\n"
       ]
      },
      {
       "output_type": "stream",
       "stream": "stdout",
       "text": [
        "Processing Candidatus Kinetoplastibacterium blastocrithidii TCC012E\r\n"
       ]
      },
      {
       "output_type": "stream",
       "stream": "stdout",
       "text": [
        "Processing Chlamydophila felis Fe/C-56\r\n"
       ]
      },
      {
       "output_type": "stream",
       "stream": "stdout",
       "text": [
        "Processing Calditerrivibrio nitroreducens DSM 19672\r\n"
       ]
      },
      {
       "output_type": "stream",
       "stream": "stdout",
       "text": [
        "Processing Brucella melitensis bv. 1 str. 16M\r\n",
        "Processing Psychrobacter cryohalolentis K5\r\n"
       ]
      },
      {
       "output_type": "stream",
       "stream": "stdout",
       "text": [
        "Processing Burkholderia glumae BGR1\r\n"
       ]
      },
      {
       "output_type": "stream",
       "stream": "stdout",
       "text": [
        "Processing Streptococcus mutans NN2025\r\n",
        "Processing Maricaulis maris MCS10\r\n"
       ]
      },
      {
       "output_type": "stream",
       "stream": "stdout",
       "text": [
        "Processing Singulisphaera acidiphila DSM 18658\r\n"
       ]
      },
      {
       "output_type": "stream",
       "stream": "stdout",
       "text": [
        "Processing Candidatus Blochmannia chromaiodes str. 640\r\n"
       ]
      },
      {
       "output_type": "stream",
       "stream": "stdout",
       "text": [
        "Processing Corynebacterium marinum DSM 44953\r\n"
       ]
      },
      {
       "output_type": "stream",
       "stream": "stdout",
       "text": [
        "Processing Oligotropha carboxidovorans OM4\r\n"
       ]
      },
      {
       "output_type": "stream",
       "stream": "stdout",
       "text": [
        "Processing Neisseria lactamica 020-06\r\n"
       ]
      },
      {
       "output_type": "stream",
       "stream": "stdout",
       "text": [
        "Processing Thermoanaerobacterium thermosaccharolyticum M0795\r\n"
       ]
      },
      {
       "output_type": "stream",
       "stream": "stdout",
       "text": [
        "Processing Candidatus Uzinura diaspidicola str. ASNER\r\n"
       ]
      },
      {
       "output_type": "stream",
       "stream": "stdout",
       "text": [
        "Processing Brevundimonas subvibrioides ATCC 15264\r\n"
       ]
      },
      {
       "output_type": "stream",
       "stream": "stdout",
       "text": [
        "Processing Fimbriimonas ginsengisoli Gsoil 348\r\n"
       ]
      },
      {
       "output_type": "stream",
       "stream": "stdout",
       "text": [
        "Processing Lactococcus garvieae ATCC 49156\r\n",
        "Processing Vibrio cholerae LMA3984-4\r\n"
       ]
      },
      {
       "output_type": "stream",
       "stream": "stdout",
       "text": [
        "Processing Pantoea vagans C9-1\r\n"
       ]
      },
      {
       "output_type": "stream",
       "stream": "stdout",
       "text": [
        "Processing Caldicellulosiruptor hydrothermalis 108\r\n",
        "Processing Blastococcus saxobsidens DD2\r\n"
       ]
      },
      {
       "output_type": "stream",
       "stream": "stdout",
       "text": [
        "Processing Salinibacter ruber DSM 13855\r\n"
       ]
      },
      {
       "output_type": "stream",
       "stream": "stdout",
       "text": [
        "Processing Streptomyces fulvissimus DSM 40593\r\n"
       ]
      },
      {
       "output_type": "stream",
       "stream": "stdout",
       "text": [
        "Processing Syntrophomonas wolfei subsp. wolfei str. Goettingen G311\r\n"
       ]
      },
      {
       "output_type": "stream",
       "stream": "stdout",
       "text": [
        "Processing Micromonospora aurantiaca ATCC 27029\r\n"
       ]
      },
      {
       "output_type": "stream",
       "stream": "stdout",
       "text": [
        "Processing Borrelia valaisiana VS116\r\n"
       ]
      },
      {
       "output_type": "stream",
       "stream": "stdout",
       "text": [
        "Processing Actinobacillus pleuropneumoniae serovar 5b str. L20\r\n"
       ]
      },
      {
       "output_type": "stream",
       "stream": "stdout",
       "text": [
        "Processing Rhodospirillum rubrum F11\r\n",
        "Processing [Cellvibrio] gilvus ATCC 13127\r\n"
       ]
      },
      {
       "output_type": "stream",
       "stream": "stdout",
       "text": [
        "Processing Desulfatibacillum alkenivorans AK-01\r\n"
       ]
      },
      {
       "output_type": "stream",
       "stream": "stdout",
       "text": [
        "Processing Spirosoma linguale DSM 74\r\n"
       ]
      },
      {
       "output_type": "stream",
       "stream": "stdout",
       "text": [
        "Processing Desulfohalobium retbaense DSM 5692\r\n"
       ]
      },
      {
       "output_type": "stream",
       "stream": "stdout",
       "text": [
        "Processing Methylacidiphilum infernorum V4\r\n"
       ]
      },
      {
       "output_type": "stream",
       "stream": "stdout",
       "text": [
        "Processing Streptomyces cattleya NRRL 8057 = DSM 46488\r\n"
       ]
      },
      {
       "output_type": "stream",
       "stream": "stdout",
       "text": [
        "Processing Herpetosiphon aurantiacus DSM 785\r\n",
        "Processing Thermotoga profunda AZM34c06\r\n",
        "Processing Rickettsia africae ESF-5\r\n"
       ]
      },
      {
       "output_type": "stream",
       "stream": "stdout",
       "text": [
        "Processing Flavobacterium branchiophilum FL-15\r\n"
       ]
      },
      {
       "output_type": "stream",
       "stream": "stdout",
       "text": [
        "Processing Novosphingobium pentaromativorans US6-1\r\n"
       ]
      },
      {
       "output_type": "stream",
       "stream": "stdout",
       "text": [
        "Processing Rickettsia typhi str. Wilmington\r\n"
       ]
      },
      {
       "output_type": "stream",
       "stream": "stdout",
       "text": [
        "Processing Nocardia nova SH22a\r\n"
       ]
      },
      {
       "output_type": "stream",
       "stream": "stdout",
       "text": [
        "Processing Candidatus Ruthia magnifica str. Cm (Calyptogena magnifica)\r\n"
       ]
      },
      {
       "output_type": "stream",
       "stream": "stdout",
       "text": [
        "Processing Sphingobium chlorophenolicum L-1\r\n"
       ]
      },
      {
       "output_type": "stream",
       "stream": "stdout",
       "text": [
        "Processing Desulfomonile tiedjei DSM 6799\r\n",
        "Processing Helicobacter acinonychis str. Sheeba\r\n"
       ]
      },
      {
       "output_type": "stream",
       "stream": "stdout",
       "text": [
        "Processing Thiocystis violascens DSM 198\r\n"
       ]
      },
      {
       "output_type": "stream",
       "stream": "stdout",
       "text": [
        "Processing Oceanithermus profundus DSM 14977\r\n"
       ]
      },
      {
       "output_type": "stream",
       "stream": "stdout",
       "text": [
        "Processing Oscillatoria acuminata PCC 6304\r\n"
       ]
      },
      {
       "output_type": "stream",
       "stream": "stdout",
       "text": [
        "Processing Rickettsia bellii RML369-C\r\n"
       ]
      },
      {
       "output_type": "stream",
       "stream": "stdout",
       "text": [
        "Processing Paracoccus denitrificans PD1222\r\n"
       ]
      },
      {
       "output_type": "stream",
       "stream": "stdout",
       "text": [
        "Processing Thermotoga lettingae TMO\r\n"
       ]
      },
      {
       "output_type": "stream",
       "stream": "stdout",
       "text": [
        "Processing Bacillus cereus 03BB102\r\n"
       ]
      },
      {
       "output_type": "stream",
       "stream": "stdout",
       "text": [
        "Processing Spiribacter salinus M19-40\r\n",
        "Processing Granulibacter bethesdensis CGDNIH3\r\n"
       ]
      },
      {
       "output_type": "stream",
       "stream": "stdout",
       "text": [
        "Processing Clostridium kluyveri NBRC 12016\r\n"
       ]
      },
      {
       "output_type": "stream",
       "stream": "stdout",
       "text": [
        "Processing Methylobacillus flagellatus KT\r\n"
       ]
      },
      {
       "output_type": "stream",
       "stream": "stdout",
       "text": [
        "Processing Ehrlichia ruminantium str. Welgevonden\r\n"
       ]
      },
      {
       "output_type": "stream",
       "stream": "stdout",
       "text": [
        "Processing Rhodothermus marinus DSM 4252\r\n"
       ]
      },
      {
       "output_type": "stream",
       "stream": "stdout",
       "text": [
        "Processing Pseudomonas stutzeri DSM 10701\r\n"
       ]
      },
      {
       "output_type": "stream",
       "stream": "stdout",
       "text": [
        "Processing Rickettsia helvetica C9P9\r\n"
       ]
      },
      {
       "output_type": "stream",
       "stream": "stdout",
       "text": [
        "Processing Odoribacter splanchnicus DSM 20712\r\n"
       ]
      },
      {
       "output_type": "stream",
       "stream": "stdout",
       "text": [
        "Processing Dickeya zeae EC1\r\n"
       ]
      },
      {
       "output_type": "stream",
       "stream": "stdout",
       "text": [
        "Processing Granulicella mallensis MP5ACTX8\r\n"
       ]
      },
      {
       "output_type": "stream",
       "stream": "stdout",
       "text": [
        "Processing Streptococcus infantarius subsp. infantarius CJ18\r\n"
       ]
      },
      {
       "output_type": "stream",
       "stream": "stdout",
       "text": [
        "Processing Fervidobacterium pennivorans DSM 9078\r\n"
       ]
      },
      {
       "output_type": "stream",
       "stream": "stdout",
       "text": [
        "Processing Burkholderia gladioli BSR3\r\n"
       ]
      },
      {
       "output_type": "stream",
       "stream": "stdout",
       "text": [
        "Processing Gloeobacter kilaueensis JS1\r\n"
       ]
      },
      {
       "output_type": "stream",
       "stream": "stdout",
       "text": [
        "Processing Cycloclasticus zancles 7-ME\r\n"
       ]
      },
      {
       "output_type": "stream",
       "stream": "stdout",
       "text": [
        "Processing Spiroplasma syrphidicola EA-1\r\n"
       ]
      },
      {
       "output_type": "stream",
       "stream": "stdout",
       "text": [
        "Processing Sphingomonas sanxanigenens DSM 19645 = NX02\r\n"
       ]
      },
      {
       "output_type": "stream",
       "stream": "stdout",
       "text": [
        "Processing Anabaena variabilis ATCC 29413\r\n"
       ]
      },
      {
       "output_type": "stream",
       "stream": "stdout",
       "text": [
        "Processing Acidovorax ebreus TPSY\r\n"
       ]
      },
      {
       "output_type": "stream",
       "stream": "stdout",
       "text": [
        "Processing Veillonella parvula DSM 2008\r\n"
       ]
      },
      {
       "output_type": "stream",
       "stream": "stdout",
       "text": [
        "Processing Candidatus Koribacter versatilis Ellin345\r\n"
       ]
      },
      {
       "output_type": "stream",
       "stream": "stdout",
       "text": [
        "Processing Pseudomonas fulva 12-X\r\n"
       ]
      },
      {
       "output_type": "stream",
       "stream": "stdout",
       "text": [
        "Processing Bifidobacterium animalis subsp. lactis V9\r\n"
       ]
      },
      {
       "output_type": "stream",
       "stream": "stdout",
       "text": [
        "Processing Azotobacter chroococcum NCIMB 8003\r\n"
       ]
      },
      {
       "output_type": "stream",
       "stream": "stdout",
       "text": [
        "Processing Serratia proteamaculans 568\r\n",
        "Processing Salmonella bongori NCTC 12419\r\n"
       ]
      },
      {
       "output_type": "stream",
       "stream": "stdout",
       "text": [
        "Processing Brachyspira hyodysenteriae WA1\r\n"
       ]
      },
      {
       "output_type": "stream",
       "stream": "stdout",
       "text": [
        "Processing Candidatus Rickettsia amblyommii str. GAT-30V\r\n"
       ]
      },
      {
       "output_type": "stream",
       "stream": "stdout",
       "text": [
        "Processing Rickettsia slovaca str. D-CWPP\r\n"
       ]
      },
      {
       "output_type": "stream",
       "stream": "stdout",
       "text": [
        "Processing Fusobacterium nucleatum subsp. nucleatum ATCC 25586\r\n"
       ]
      },
      {
       "output_type": "stream",
       "stream": "stdout",
       "text": [
        "Processing Mesotoga prima MesG1.Ag.4.2\r\n"
       ]
      },
      {
       "output_type": "stream",
       "stream": "stdout",
       "text": [
        "Processing Robiginitalea biformata HTCC2501\r\n"
       ]
      },
      {
       "output_type": "stream",
       "stream": "stdout",
       "text": [
        "Processing Amycolatopsis methanolica 239\r\n"
       ]
      },
      {
       "output_type": "stream",
       "stream": "stdout",
       "text": [
        "Processing Halomonas elongata DSM 2581\r\n"
       ]
      },
      {
       "output_type": "stream",
       "stream": "stdout",
       "text": [
        "Processing Pedobacter saltans DSM 12145\r\n"
       ]
      },
      {
       "output_type": "stream",
       "stream": "stdout",
       "text": [
        "Processing Eggerthella lenta DSM 2243\r\n"
       ]
      },
      {
       "output_type": "stream",
       "stream": "stdout",
       "text": [
        "Processing Yersinia pestis CO92\r\n"
       ]
      },
      {
       "output_type": "stream",
       "stream": "stdout",
       "text": [
        "Processing Halobacteroides halobius DSM 5150\r\n"
       ]
      },
      {
       "output_type": "stream",
       "stream": "stdout",
       "text": [
        "Processing Klebsiella variicola At-22\r\n"
       ]
      },
      {
       "output_type": "stream",
       "stream": "stdout",
       "text": [
        "Processing Sulfurospirillum barnesii SES-3\r\n"
       ]
      },
      {
       "output_type": "stream",
       "stream": "stdout",
       "text": [
        "Processing Thermotoga neapolitana DSM 4359\r\n"
       ]
      },
      {
       "output_type": "stream",
       "stream": "stdout",
       "text": [
        "Processing Weeksella virosa DSM 16922\r\n"
       ]
      },
      {
       "output_type": "stream",
       "stream": "stdout",
       "text": [
        "Processing Planctomyces limnophilus DSM 3776\r\n"
       ]
      },
      {
       "output_type": "stream",
       "stream": "stdout",
       "text": [
        "Processing Ketogulonicigenium vulgare WSH-001\r\n"
       ]
      },
      {
       "output_type": "stream",
       "stream": "stdout",
       "text": [
        "Processing Syntrophus aciditrophicus SB\r\n",
        "Processing Rickettsia rickettsii str. 'Sheila Smith'\r\n"
       ]
      },
      {
       "output_type": "stream",
       "stream": "stdout",
       "text": [
        "Processing Orientia tsutsugamushi str. Boryong\r\n"
       ]
      },
      {
       "output_type": "stream",
       "stream": "stdout",
       "text": [
        "Processing Rhodospirillum photometricum DSM 122\r\n"
       ]
      },
      {
       "output_type": "stream",
       "stream": "stdout",
       "text": [
        "Processing Ureaplasma parvum serovar 3 str. ATCC 700970\r\n",
        "Processing Taylorella equigenitalis MCE9\r\n"
       ]
      },
      {
       "output_type": "stream",
       "stream": "stdout",
       "text": [
        "Processing Xylanimonas cellulosilytica DSM 15894\r\n"
       ]
      },
      {
       "output_type": "stream",
       "stream": "stdout",
       "text": [
        "Processing Desulfobacca acetoxidans DSM 11109\r\n"
       ]
      },
      {
       "output_type": "stream",
       "stream": "stdout",
       "text": [
        "Processing Candidatus Arthromitus sp. SFB-mouse-Yit\r\n"
       ]
      },
      {
       "output_type": "stream",
       "stream": "stdout",
       "text": [
        "Processing Haemophilus somnus 129PT\r\n",
        "Processing Bacillus methanolicus MGA3\r\n"
       ]
      },
      {
       "output_type": "stream",
       "stream": "stdout",
       "text": [
        "Processing Cronobacter sakazakii SP291\r\n",
        "Processing Tsukamurella paurometabola DSM 20162\r\n"
       ]
      },
      {
       "output_type": "stream",
       "stream": "stdout",
       "text": [
        "Processing Erwinia amylovora LA635\r\n"
       ]
      },
      {
       "output_type": "stream",
       "stream": "stdout",
       "text": [
        "Processing Geobacter metallireducens GS-15\r\n"
       ]
      },
      {
       "output_type": "stream",
       "stream": "stdout",
       "text": [
        "Processing Shigella dysenteriae Sd197\r\n"
       ]
      },
      {
       "output_type": "stream",
       "stream": "stdout",
       "text": [
        "Processing Gluconacetobacter diazotrophicus PA1 5\r\n"
       ]
      },
      {
       "output_type": "stream",
       "stream": "stdout",
       "text": [
        "Processing Parabacteroides distasonis ATCC 8503\r\n"
       ]
      },
      {
       "output_type": "stream",
       "stream": "stdout",
       "text": [
        "Processing Desulfosporosinus acidiphilus SJ4\r\n"
       ]
      },
      {
       "output_type": "stream",
       "stream": "stdout",
       "text": [
        "Processing Bifidobacterium bifidum PRL2010\r\n",
        "Processing Deinococcus deserti VCD115\r\n"
       ]
      },
      {
       "output_type": "stream",
       "stream": "stdout",
       "text": [
        "Processing Sanguibacter keddieii DSM 10542\r\n",
        "Processing Eubacterium rectale ATCC 33656\r\n"
       ]
      },
      {
       "output_type": "stream",
       "stream": "stdout",
       "text": [
        "Processing Lactococcus lactis subsp. cremoris NZ9000\r\n"
       ]
      },
      {
       "output_type": "stream",
       "stream": "stdout",
       "text": [
        "Processing Chlamydophila caviae GPIC\r\n"
       ]
      },
      {
       "output_type": "stream",
       "stream": "stdout",
       "text": [
        "Processing Agrobacterium vitis S4\r\n",
        "Processing Streptococcus suis SC84\r\n"
       ]
      },
      {
       "output_type": "stream",
       "stream": "stdout",
       "text": [
        "Processing Bacillus halodurans C-125\r\n"
       ]
      },
      {
       "output_type": "stream",
       "stream": "stdout",
       "text": [
        "Processing Thermobifida fusca YX\r\n"
       ]
      },
      {
       "output_type": "stream",
       "stream": "stdout",
       "text": [
        "Processing Chromobacterium violaceum ATCC 12472\r\n"
       ]
      },
      {
       "output_type": "stream",
       "stream": "stdout",
       "text": [
        "Processing Hymenobacter swuensis DY53\r\n",
        "Processing Cyanobium gracile PCC 6307\r\n"
       ]
      },
      {
       "output_type": "stream",
       "stream": "stdout",
       "text": [
        "Processing Anaerolinea thermophila UNI-1\r\n"
       ]
      },
      {
       "output_type": "stream",
       "stream": "stdout",
       "text": [
        "Processing Caldisericum exile AZM16c01\r\n"
       ]
      },
      {
       "output_type": "stream",
       "stream": "stdout",
       "text": [
        "Processing Aggregatibacter aphrophilus NJ8700\r\n"
       ]
      },
      {
       "output_type": "stream",
       "stream": "stdout",
       "text": [
        "Processing Wolbachia endosymbiont of Onchocerca volvulus str. Cameroon\r\n"
       ]
      },
      {
       "output_type": "stream",
       "stream": "stdout",
       "text": [
        "Processing Candidatus Accumulibacter phosphatis clade IIA str. UW-1\r\n"
       ]
      },
      {
       "output_type": "stream",
       "stream": "stdout",
       "text": [
        "Processing Isosphaera pallida ATCC 43644\r\n"
       ]
      },
      {
       "output_type": "stream",
       "stream": "stdout",
       "text": [
        "Processing Acidovorax citrulli AAC00-1\r\n",
        "Processing Cryptobacterium curtum DSM 15641\r\n"
       ]
      },
      {
       "output_type": "stream",
       "stream": "stdout",
       "text": [
        "Processing Caldicellulosiruptor bescii DSM 6725\r\n"
       ]
      },
      {
       "output_type": "stream",
       "stream": "stdout",
       "text": [
        "Processing Pseudomonas knackmussii B13\r\n",
        "Processing Lactobacillus fermentum CECT 5716\r\n"
       ]
      },
      {
       "output_type": "stream",
       "stream": "stdout",
       "text": [
        "Processing [Clostridium] clariflavum DSM 19732\r\n"
       ]
      },
      {
       "output_type": "stream",
       "stream": "stdout",
       "text": [
        "Processing Renibacterium salmoninarum ATCC 33209\r\n"
       ]
      },
      {
       "output_type": "stream",
       "stream": "stdout",
       "text": [
        "Processing Pseudomonas putida GB-1\r\n"
       ]
      },
      {
       "output_type": "stream",
       "stream": "stdout",
       "text": [
        "Processing Tepidanaerobacter acetatoxydans Re1\r\n"
       ]
      },
      {
       "output_type": "stream",
       "stream": "stdout",
       "text": [
        "Processing Caldicellulosiruptor obsidiansis OB47\r\n"
       ]
      },
      {
       "output_type": "stream",
       "stream": "stdout",
       "text": [
        "Processing Nitrosomonas europaea ATCC 19718\r\n"
       ]
      },
      {
       "output_type": "stream",
       "stream": "stdout",
       "text": [
        "Processing Thermobaculum terrenum ATCC BAA-798\r\n"
       ]
      },
      {
       "output_type": "stream",
       "stream": "stdout",
       "text": [
        "Processing cyanobacterium endosymbiont of Epithemia turgida isolate EtSB Lake Yunoko\r\n"
       ]
      },
      {
       "output_type": "stream",
       "stream": "stdout",
       "text": [
        "Processing Borrelia recurrentis A1\r\n"
       ]
      },
      {
       "output_type": "stream",
       "stream": "stdout",
       "text": [
        "Processing Brucella suis bv. 1 str. S2\r\n",
        "Processing Marinitoga piezophila KA3\r\n",
        "Processing Sinorhizobium meliloti Rm41\r\n"
       ]
      },
      {
       "output_type": "stream",
       "stream": "stdout",
       "text": [
        "Processing Thermoanaerobacter italicus Ab9\r\n"
       ]
      },
      {
       "output_type": "stream",
       "stream": "stdout",
       "text": [
        "Processing Marivirga tractuosa DSM 4126\r\n"
       ]
      },
      {
       "output_type": "stream",
       "stream": "stdout",
       "text": [
        "Processing Pleurocapsa sp. PCC 7327\r\n",
        "Processing Corynebacterium callunae DSM 20147\r\n"
       ]
      },
      {
       "output_type": "stream",
       "stream": "stdout",
       "text": [
        "Processing Lactobacillus sakei subsp. sakei 23K\r\n",
        "Processing Chlamydophila abortus S26/3\r\n"
       ]
      },
      {
       "output_type": "stream",
       "stream": "stdout",
       "text": [
        "Processing Streptococcus salivarius 57.I\r\n"
       ]
      },
      {
       "output_type": "stream",
       "stream": "stdout",
       "text": [
        "Processing Cardinium endosymbiont cEper1 of Encarsia pergandiella\r\n"
       ]
      },
      {
       "output_type": "stream",
       "stream": "stdout",
       "text": [
        "Processing Anoxybacillus flavithermus WK1\r\n"
       ]
      },
      {
       "output_type": "stream",
       "stream": "stdout",
       "text": [
        "Processing Hyphomonas neptunium ATCC 15444\r\n"
       ]
      },
      {
       "output_type": "stream",
       "stream": "stdout",
       "text": [
        "Processing Leisingera methylohalidivorans DSM 14336\r\n"
       ]
      },
      {
       "output_type": "stream",
       "stream": "stdout",
       "text": [
        "Processing Magnetococcus marinus MC-1\r\n"
       ]
      },
      {
       "output_type": "stream",
       "stream": "stdout",
       "text": [
        "Processing Heliobacterium modesticaldum Ice1\r\n"
       ]
      },
      {
       "output_type": "stream",
       "stream": "stdout",
       "text": [
        "Processing Clostridium acetobutylicum DSM 1731\r\n"
       ]
      },
      {
       "output_type": "stream",
       "stream": "stdout",
       "text": [
        "Processing Dickeya dadantii 3937\r\n"
       ]
      },
      {
       "output_type": "stream",
       "stream": "stdout",
       "text": [
        "Processing Desulfurella acetivorans A63\r\n",
        "Processing Pediococcus claussenii ATCC BAA-344\r\n"
       ]
      },
      {
       "output_type": "stream",
       "stream": "stdout",
       "text": [
        "Processing Barnesiella viscericola DSM 18177\r\n"
       ]
      },
      {
       "output_type": "stream",
       "stream": "stdout",
       "text": [
        "Processing Ruminococcus albus 7 = DSM 20455\r\n"
       ]
      },
      {
       "output_type": "stream",
       "stream": "stdout",
       "text": [
        "Processing Thermotoga petrophila RKU-1\r\n",
        "Processing Thermotoga hypogea NBRC 106472\r\n"
       ]
      },
      {
       "output_type": "stream",
       "stream": "stdout",
       "text": [
        "Processing Pasteurella multocida subsp. multocida str. 3480\r\n"
       ]
      },
      {
       "output_type": "stream",
       "stream": "stdout",
       "text": [
        "Processing Staphylococcus pseudintermedius ED99\r\n",
        "Processing Corallococcus coralloides DSM 2259\r\n"
       ]
      },
      {
       "output_type": "stream",
       "stream": "stdout",
       "text": [
        "Processing Elizabethkingia anophelis NUHP1\r\n"
       ]
      },
      {
       "output_type": "stream",
       "stream": "stdout",
       "text": [
        "Processing Sinorhizobium fredii NGR234\r\n"
       ]
      },
      {
       "output_type": "stream",
       "stream": "stdout",
       "text": [
        "Processing Acidimicrobium ferrooxidans DSM 10331\r\n"
       ]
      },
      {
       "output_type": "stream",
       "stream": "stdout",
       "text": [
        "Processing Streptomyces avermitilis MA-4680 = NBRC 14893\r\n"
       ]
      },
      {
       "output_type": "stream",
       "stream": "stdout",
       "text": [
        "Processing Yersinia frederiksenii Y225\r\n"
       ]
      },
      {
       "output_type": "stream",
       "stream": "stdout",
       "text": [
        "Processing Clostridium lentocellum DSM 5427\r\n"
       ]
      },
      {
       "output_type": "stream",
       "stream": "stdout",
       "text": [
        "Processing Staphylococcus lugdunensis N920143\r\n"
       ]
      },
      {
       "output_type": "stream",
       "stream": "stdout",
       "text": [
        "Processing Candidatus Kinetoplastibacterium galatii TCC219\r\n"
       ]
      },
      {
       "output_type": "stream",
       "stream": "stdout",
       "text": [
        "Processing Bifidobacterium pseudolongum PV8-2\r\n"
       ]
      },
      {
       "output_type": "stream",
       "stream": "stdout",
       "text": [
        "Processing Yersinia enterocolitica subsp. palearctica Y11\r\n",
        "Processing Desulfitobacterium dehalogenans ATCC 51507\r\n"
       ]
      },
      {
       "output_type": "stream",
       "stream": "stdout",
       "text": [
        "Processing Treponema denticola ATCC 35405\r\n"
       ]
      },
      {
       "output_type": "stream",
       "stream": "stdout",
       "text": [
        "Processing Mycoplasma wenyonii str. Massachusetts\r\n",
        "Processing Enterobacter lignolyticus SCF1\r\n"
       ]
      },
      {
       "output_type": "stream",
       "stream": "stdout",
       "text": [
        "Processing Acetobacterium woodii DSM 1030\r\n",
        "Processing Propionibacterium freudenreichii subsp. shermanii CIRM-BIA1\r\n"
       ]
      },
      {
       "output_type": "stream",
       "stream": "stdout",
       "text": [
        "Processing Streptomyces hygroscopicus subsp. jinggangensis 5008\r\n",
        "Processing Caulobacter segnis ATCC 21756\r\n"
       ]
      },
      {
       "output_type": "stream",
       "stream": "stdout",
       "text": [
        "Processing Spiroplasma mirum ATCC 29335\r\n",
        "Processing Acidobacterium capsulatum ATCC 51196\r\n"
       ]
      },
      {
       "output_type": "stream",
       "stream": "stdout",
       "text": [
        "Processing Desulfitobacterium hafniense DCB-2\r\n"
       ]
      },
      {
       "output_type": "stream",
       "stream": "stdout",
       "text": [
        "Processing Pelotomaculum thermopropionicum SI\r\n"
       ]
      },
      {
       "output_type": "stream",
       "stream": "stdout",
       "text": [
        "Processing Macrococcus caseolyticus JCSC5402\r\n"
       ]
      },
      {
       "output_type": "stream",
       "stream": "stdout",
       "text": [
        "Processing Thermotoga thermarum DSM 5069\r\n"
       ]
      },
      {
       "output_type": "stream",
       "stream": "stdout",
       "text": [
        "Processing Spirochaeta thermophila DSM 6578\r\n",
        "Processing Thiobacillus denitrificans ATCC 25259\r\n"
       ]
      },
      {
       "output_type": "stream",
       "stream": "stdout",
       "text": [
        "Processing Lactobacillus buchneri NRRL B-30929\r\n",
        "Processing Belliella baltica DSM 15883\r\n"
       ]
      },
      {
       "output_type": "stream",
       "stream": "stdout",
       "text": [
        "Processing Serratia plymuthica AS9\r\n"
       ]
      },
      {
       "output_type": "stream",
       "stream": "stdout",
       "text": [
        "Processing Desulfobacterium autotrophicum HRM2\r\n"
       ]
      },
      {
       "output_type": "stream",
       "stream": "stdout",
       "text": [
        "Processing Fibrobacter succinogenes subsp. succinogenes S85\r\n"
       ]
      },
      {
       "output_type": "stream",
       "stream": "stdout",
       "text": [
        "Processing Aminobacterium colombiense DSM 12261\r\n"
       ]
      },
      {
       "output_type": "stream",
       "stream": "stdout",
       "text": [
        "Processing Mobiluncus curtisii ATCC 43063\r\n",
        "Processing Bradyrhizobium japonicum USDA 6\r\n"
       ]
      },
      {
       "output_type": "stream",
       "stream": "stdout",
       "text": [
        "Processing Butyrivibrio proteoclasticus B316\r\n"
       ]
      },
      {
       "output_type": "stream",
       "stream": "stdout",
       "text": [
        "Processing Rhodobacter sphaeroides WS8N\r\n"
       ]
      },
      {
       "output_type": "stream",
       "stream": "stdout",
       "text": [
        "Processing Planktomarina temperata RCA23\r\n"
       ]
      },
      {
       "output_type": "stream",
       "stream": "stdout",
       "text": [
        "Processing Staphylococcus epidermidis RP62A\r\n"
       ]
      },
      {
       "output_type": "stream",
       "stream": "stdout",
       "text": [
        "Processing Sulfurimonas denitrificans DSM 1251\r\n"
       ]
      },
      {
       "output_type": "stream",
       "stream": "stdout",
       "text": [
        "Processing Dyella japonica A8\r\n"
       ]
      },
      {
       "output_type": "stream",
       "stream": "stdout",
       "text": [
        "Processing Wolbachia endosymbiont of Drosophila simulans wHa\r\n"
       ]
      },
      {
       "output_type": "stream",
       "stream": "stdout",
       "text": [
        "Processing Candidatus Liberibacter solanacearum CLso-ZC1\r\n"
       ]
      },
      {
       "output_type": "stream",
       "stream": "stdout",
       "text": [
        "Processing Rhodococcus erythropolis PR4\r\n"
       ]
      },
      {
       "output_type": "stream",
       "stream": "stdout",
       "text": [
        "Processing [Clostridium] acidurici 9a\r\n"
       ]
      },
      {
       "output_type": "stream",
       "stream": "stdout",
       "text": [
        "Processing Mycoplasma mycoides subsp. capri LC str. 95010\r\n"
       ]
      },
      {
       "output_type": "stream",
       "stream": "stdout",
       "text": [
        "Processing Psychroflexus torquis ATCC 700755\r\n"
       ]
      },
      {
       "output_type": "stream",
       "stream": "stdout",
       "text": [
        "Processing Corynebacterium halotolerans YIM 70093 = DSM 44683\r\n"
       ]
      },
      {
       "output_type": "stream",
       "stream": "stdout",
       "text": [
        "Processing Bacillus clausii KSM-K16\r\n",
        "Processing Dinoroseobacter shibae DFL 12 = DSM 16493\r\n"
       ]
      },
      {
       "output_type": "stream",
       "stream": "stdout",
       "text": [
        "Processing Raoultella ornithinolytica B6\r\n"
       ]
      },
      {
       "output_type": "stream",
       "stream": "stdout",
       "text": [
        "Processing Thermodesulfovibrio yellowstonii DSM 11347\r\n"
       ]
      },
      {
       "output_type": "stream",
       "stream": "stdout",
       "text": [
        "Processing Legionella pneumophila subsp. pneumophila\r\n"
       ]
      },
      {
       "output_type": "stream",
       "stream": "stdout",
       "text": [
        "Processing Actinobacillus equuli subsp. equuli\r\n",
        "Processing Desulfococcus oleovorans Hxd3\r\n"
       ]
      },
      {
       "output_type": "stream",
       "stream": "stdout",
       "text": [
        "Processing Haemophilus ducreyi 35000HP\r\n"
       ]
      },
      {
       "output_type": "stream",
       "stream": "stdout",
       "text": [
        "Processing Bdellovibrio bacteriovorus W\r\n",
        "Processing Ralstonia pickettii 12D\r\n"
       ]
      },
      {
       "output_type": "stream",
       "stream": "stdout",
       "text": [
        "Processing Thermobacillus composti KWC4\r\n"
       ]
      },
      {
       "output_type": "stream",
       "stream": "stdout",
       "text": [
        "Processing Alkaliphilus oremlandii OhILAs\r\n"
       ]
      },
      {
       "output_type": "stream",
       "stream": "stdout",
       "text": [
        "Processing Dehalogenimonas lykanthroporepellens BL-DC-9\r\n"
       ]
      },
      {
       "output_type": "stream",
       "stream": "stdout",
       "text": [
        "Processing Bartonella vinsonii subsp. berkhoffii str. Winnie\r\n"
       ]
      },
      {
       "output_type": "stream",
       "stream": "stdout",
       "text": [
        "Processing Amycolicicoccus subflavus DQS3-9A1\r\n"
       ]
      },
      {
       "output_type": "stream",
       "stream": "stdout",
       "text": [
        "Processing Kribbella flavida DSM 17836\r\n"
       ]
      },
      {
       "output_type": "stream",
       "stream": "stdout",
       "text": [
        "Processing Campylobacter subantarcticus LMG 24377\r\n"
       ]
      },
      {
       "output_type": "stream",
       "stream": "stdout",
       "text": [
        "Processing Erythrobacter litoralis HTCC2594\r\n"
       ]
      },
      {
       "output_type": "stream",
       "stream": "stdout",
       "text": [
        "Processing Mycoplasma crocodyli MP145\r\n"
       ]
      },
      {
       "output_type": "stream",
       "stream": "stdout",
       "text": [
        "Processing Chloroherpeton thalassium ATCC 35110\r\n"
       ]
      },
      {
       "output_type": "stream",
       "stream": "stdout",
       "text": [
        "Processing Eubacterium acidaminophilum DSM 3953\r\n"
       ]
      },
      {
       "output_type": "stream",
       "stream": "stdout",
       "text": [
        "Processing Shewanella piezotolerans WP3\r\n"
       ]
      },
      {
       "output_type": "stream",
       "stream": "stdout",
       "text": [
        "Processing Oceanobacillus iheyensis HTE831\r\n"
       ]
      },
      {
       "output_type": "stream",
       "stream": "stdout",
       "text": [
        "Processing Peptoclostridium difficile CD196\r\n"
       ]
      },
      {
       "output_type": "stream",
       "stream": "stdout",
       "text": [
        "Processing Anaplasma marginale str. Florida\r\n"
       ]
      },
      {
       "output_type": "stream",
       "stream": "stdout",
       "text": [
        "Processing Francisella tularensis subsp. tularensis TI0902\r\n"
       ]
      },
      {
       "output_type": "stream",
       "stream": "stdout",
       "text": [
        "Processing Mannheimia haemolytica D171\r\n"
       ]
      },
      {
       "output_type": "stream",
       "stream": "stdout",
       "text": [
        "Processing Mycoplasma bovoculi M165/69\r\n",
        "Processing Bifidobacterium thermophilum RBL67\r\n",
        "Processing Desulfocapsa sulfexigens DSM 10523\r\n"
       ]
      },
      {
       "output_type": "stream",
       "stream": "stdout",
       "text": [
        "Processing Sphaerochaeta pleomorpha str. Grapes\r\n",
        "Processing Leptospirillum ferrooxidans C2-3\r\n"
       ]
      },
      {
       "output_type": "stream",
       "stream": "stdout",
       "text": [
        "Processing Candidatus Azobacteroides pseudotrichonymphae genomovar. CFP2\r\n"
       ]
      },
      {
       "output_type": "stream",
       "stream": "stdout",
       "text": [
        "Processing Helicobacter cetorum MIT 00-7128\r\n"
       ]
      },
      {
       "output_type": "stream",
       "stream": "stdout",
       "text": [
        "Processing Nitrosospira multiformis ATCC 25196\r\n"
       ]
      },
      {
       "output_type": "stream",
       "stream": "stdout",
       "text": [
        "Processing Thermodesulfobium narugense DSM 14796\r\n",
        "Processing Sphaerochaeta globosa str. Buddy\r\n",
        "Processing Ruminiclostridium thermocellum DSM 1313\r\n"
       ]
      },
      {
       "output_type": "stream",
       "stream": "stdout",
       "text": [
        "Processing Beijerinckia indica subsp. indica ATCC 9039\r\n"
       ]
      },
      {
       "output_type": "stream",
       "stream": "stdout",
       "text": [
        "Processing Cytophaga hutchinsonii ATCC 33406\r\n"
       ]
      },
      {
       "output_type": "stream",
       "stream": "stdout",
       "text": [
        "Processing Thermodesulfobacterium geofontis OPF15\r\n"
       ]
      },
      {
       "output_type": "stream",
       "stream": "stdout",
       "text": [
        "Processing Agrobacterium radiobacter K84\r\n"
       ]
      },
      {
       "output_type": "stream",
       "stream": "stdout",
       "text": [
        "Processing Shewanella violacea DSS12\r\n"
       ]
      },
      {
       "output_type": "stream",
       "stream": "stdout",
       "text": [
        "Processing Desulfurivibrio alkaliphilus AHT2\r\n"
       ]
      },
      {
       "output_type": "stream",
       "stream": "stdout",
       "text": [
        "Processing Burkholderia vietnamiensis G4\r\n"
       ]
      },
      {
       "output_type": "stream",
       "stream": "stdout",
       "text": [
        "Processing Solibacillus silvestris StLB046\r\n",
        "Processing Methylococcus capsulatus str. Bath\r\n"
       ]
      },
      {
       "output_type": "stream",
       "stream": "stdout",
       "text": [
        "Processing Rhodospirillum centenum SW\r\n"
       ]
      },
      {
       "output_type": "stream",
       "stream": "stdout",
       "text": [
        "Processing Pseudomonas monteilii SB3101\r\n"
       ]
      },
      {
       "output_type": "stream",
       "stream": "stdout",
       "text": [
        "Processing Alicyclobacillus acidocaldarius subsp. acidocaldarius DSM 446\r\n"
       ]
      },
      {
       "output_type": "stream",
       "stream": "stdout",
       "text": [
        "Processing Bordetella parapertussis Bpp5\r\n",
        "Processing Stigmatella aurantiaca DW4/3-1\r\n"
       ]
      },
      {
       "output_type": "stream",
       "stream": "stdout",
       "text": [
        "Processing Capnocytophaga canimorsus Cc5\r\n"
       ]
      },
      {
       "output_type": "stream",
       "stream": "stdout",
       "text": [
        "Processing Thermoanaerobacter wiegelii Rt8.B1\r\n"
       ]
      },
      {
       "output_type": "stream",
       "stream": "stdout",
       "text": [
        "Processing Alteromonas macleodii ATCC 27126\r\n"
       ]
      },
      {
       "output_type": "stream",
       "stream": "stdout",
       "text": [
        "Processing Borrelia garinii PBi\r\n"
       ]
      },
      {
       "output_type": "stream",
       "stream": "stdout",
       "text": [
        "Processing Actinoplanes missouriensis 431\r\n"
       ]
      },
      {
       "output_type": "stream",
       "stream": "stdout",
       "text": [
        "Processing Candidatus Ishikawaella capsulata Mpkobe\r\n"
       ]
      },
      {
       "output_type": "stream",
       "stream": "stdout",
       "text": [
        "Processing Thermomonospora curvata DSM 43183\r\n"
       ]
      },
      {
       "output_type": "stream",
       "stream": "stdout",
       "text": [
        "Processing Castellaniella defragrans 65Phen\r\n"
       ]
      },
      {
       "output_type": "stream",
       "stream": "stdout",
       "text": [
        "Processing Bartonella grahamii as4aup\r\n",
        "Processing Nakamurella multipartita DSM 44233\r\n",
        "Processing Burkholderia thailandensis MSMB59\r\n"
       ]
      },
      {
       "output_type": "stream",
       "stream": "stdout",
       "text": [
        "Processing Lawsonia intracellularis N343\r\n"
       ]
      },
      {
       "output_type": "stream",
       "stream": "stdout",
       "text": [
        "Processing Nocardia farcinica IFM 10152\r\n"
       ]
      },
      {
       "output_type": "stream",
       "stream": "stdout",
       "text": [
        "Processing Bacillus toyonensis BCT-7112\r\n"
       ]
      },
      {
       "output_type": "stream",
       "stream": "stdout",
       "text": [
        "Processing Hirschia baltica ATCC 49814\r\n"
       ]
      },
      {
       "output_type": "stream",
       "stream": "stdout",
       "text": [
        "Processing Lactobacillus kefiranofaciens ZW3\r\n",
        "Processing Liberibacter crescens BT-1\r\n"
       ]
      },
      {
       "output_type": "stream",
       "stream": "stdout",
       "text": [
        "Processing Candidatus Sodalis pierantonius str. SOPE\r\n"
       ]
      },
      {
       "output_type": "stream",
       "stream": "stdout",
       "text": [
        "Processing Oenococcus kitaharae DSM 17330\r\n",
        "Processing Corynebacterium casei LMG S-19264\r\n"
       ]
      },
      {
       "output_type": "stream",
       "stream": "stdout",
       "text": [
        "Processing Clavibacter michiganensis subsp. sepedonicus\r\n"
       ]
      },
      {
       "output_type": "stream",
       "stream": "stdout",
       "text": [
        "Processing Sulfurimonas gotlandica GD1\r\n"
       ]
      },
      {
       "output_type": "stream",
       "stream": "stdout",
       "text": [
        "Processing Cyclobacterium marinum DSM 745\r\n"
       ]
      },
      {
       "output_type": "stream",
       "stream": "stdout",
       "text": [
        "Processing Aeromonas salmonicida subsp. salmonicida A449\r\n"
       ]
      },
      {
       "output_type": "stream",
       "stream": "stdout",
       "text": [
        "Processing Psychromonas ingrahamii 37\r\n"
       ]
      },
      {
       "output_type": "stream",
       "stream": "stdout",
       "text": [
        "Processing Bordetella pertussis B1917\r\n"
       ]
      },
      {
       "output_type": "stream",
       "stream": "stdout",
       "text": [
        "Processing Eubacterium limosum KIST612\r\n"
       ]
      },
      {
       "output_type": "stream",
       "stream": "stdout",
       "text": [
        "Processing Caulobacter crescentus NA1000\r\n"
       ]
      },
      {
       "output_type": "stream",
       "stream": "stdout",
       "text": [
        "Processing Dictyoglomus turgidum DSM 6724\r\n"
       ]
      },
      {
       "output_type": "stream",
       "stream": "stdout",
       "text": [
        "Processing Chlorobium phaeovibrioides DSM 265\r\n"
       ]
      },
      {
       "output_type": "stream",
       "stream": "stdout",
       "text": [
        "Processing Ralstonia eutropha H16\r\n"
       ]
      },
      {
       "output_type": "stream",
       "stream": "stdout",
       "text": [
        "Processing Erwinia billingiae Eb661\r\n",
        "Processing Mycoplasma ovis str. Michigan\r\n",
        "Processing Candidatus Portiera aleyrodidarum BT-QVLC\r\n"
       ]
      },
      {
       "output_type": "stream",
       "stream": "stdout",
       "text": [
        "Processing Burkholderia cepacia GG4\r\n"
       ]
      },
      {
       "output_type": "stream",
       "stream": "stdout",
       "text": [
        "Processing Mesorhizobium australicum WSM2073\r\n"
       ]
      },
      {
       "output_type": "stream",
       "stream": "stdout",
       "text": [
        "Processing Thermanaerovibrio acidaminovorans DSM 6589\r\n"
       ]
      },
      {
       "output_type": "stream",
       "stream": "stdout",
       "text": [
        "Processing Chitinophaga pinensis DSM 2588\r\n"
       ]
      },
      {
       "output_type": "stream",
       "stream": "stdout",
       "text": [
        "Processing Kyrpidia tusciae DSM 2912\r\n"
       ]
      },
      {
       "output_type": "stream",
       "stream": "stdout",
       "text": [
        "Processing Xanthobacter autotrophicus Py2\r\n"
       ]
      },
      {
       "output_type": "stream",
       "stream": "stdout",
       "text": [
        "Processing Rickettsia australis str. Cutlack\r\n"
       ]
      },
      {
       "output_type": "stream",
       "stream": "stdout",
       "text": [
        "Processing Shewanella denitrificans OS217\r\n"
       ]
      },
      {
       "output_type": "stream",
       "stream": "stdout",
       "text": [
        "Processing Deferribacter desulfuricans SSM1\r\n"
       ]
      },
      {
       "output_type": "stream",
       "stream": "stdout",
       "text": [
        "Processing Roseiflexus castenholzii DSM 13941\r\n"
       ]
      },
      {
       "output_type": "stream",
       "stream": "stdout",
       "text": [
        "Processing Moorella thermoacetica ATCC 39073\r\n"
       ]
      },
      {
       "output_type": "stream",
       "stream": "stdout",
       "text": [
        "Processing Desulfotomaculum kuznetsovii DSM 6115\r\n"
       ]
      },
      {
       "output_type": "stream",
       "stream": "stdout",
       "text": [
        "Processing Desulfarculus baarsii DSM 2075\r\n"
       ]
      },
      {
       "output_type": "stream",
       "stream": "stdout",
       "text": [
        "Processing Geobacillus thermoleovorans CCB_US3_UF5\r\n"
       ]
      },
      {
       "output_type": "stream",
       "stream": "stdout",
       "text": [
        "Processing Chlorobium phaeobacteroides DSM 266\r\n",
        "Processing Aster yellows witches'-broom phytoplasma AYWB\r\n"
       ]
      },
      {
       "output_type": "stream",
       "stream": "stdout",
       "text": [
        "Processing Anabaena cylindrica PCC 7122\r\n"
       ]
      },
      {
       "output_type": "stream",
       "stream": "stdout",
       "text": [
        "Processing Xanthomonas axonopodis pv. citrumelo F1\r\n"
       ]
      },
      {
       "output_type": "stream",
       "stream": "stdout",
       "text": [
        "Processing Acidithiobacillus ferrooxidans ATCC 53993\r\n",
        "Processing Arthrobacter aurescens TC1\r\n"
       ]
      },
      {
       "output_type": "stream",
       "stream": "stdout",
       "text": [
        "Processing Bacillus coagulans 36D1\r\n"
       ]
      },
      {
       "output_type": "stream",
       "stream": "stdout",
       "text": [
        "Processing Corynebacterium jeikeium K411\r\n"
       ]
      },
      {
       "output_type": "stream",
       "stream": "stdout",
       "text": [
        "Processing Cellulophaga algicola DSM 14237\r\n",
        "Processing Tannerella forsythia ATCC 43037\r\n"
       ]
      },
      {
       "output_type": "stream",
       "stream": "stdout",
       "text": [
        "Processing Xanthomonas axonopodis Xac29-1\r\n"
       ]
      },
      {
       "output_type": "stream",
       "stream": "stdout",
       "text": [
        "Processing Bacillus cytotoxicus NVH 391-98\r\n"
       ]
      },
      {
       "output_type": "stream",
       "stream": "stdout",
       "text": [
        "Processing Rhizobium tropici CIAT 899\r\n"
       ]
      },
      {
       "output_type": "stream",
       "stream": "stdout",
       "text": [
        "Processing Acinetobacter oleivorans DR1\r\n"
       ]
      },
      {
       "output_type": "stream",
       "stream": "stdout",
       "text": [
        "Processing Isoptericola variabilis 225\r\n"
       ]
      },
      {
       "output_type": "stream",
       "stream": "stdout",
       "text": [
        "Processing Vibrio tasmaniensis LGP32\r\n"
       ]
      },
      {
       "output_type": "stream",
       "stream": "stdout",
       "text": [
        "Processing Streptococcus dysgalactiae subsp. equisimilis ATCC 12394\r\n"
       ]
      },
      {
       "output_type": "stream",
       "stream": "stdout",
       "text": [
        "Processing Bifidobacterium adolescentis ATCC 15703\r\n"
       ]
      },
      {
       "output_type": "stream",
       "stream": "stdout",
       "text": [
        "Processing Pedobacter heparinus DSM 2366\r\n"
       ]
      },
      {
       "output_type": "stream",
       "stream": "stdout",
       "text": [
        "Processing Campylobacter fetus subsp. fetus 82-40\r\n"
       ]
      },
      {
       "output_type": "stream",
       "stream": "stdout",
       "text": [
        "Processing Xanthomonas albilineans GPE PC73\r\n"
       ]
      },
      {
       "output_type": "stream",
       "stream": "stdout",
       "text": [
        "Processing Desulfovibrio aespoeensis Aspo-2\r\n"
       ]
      },
      {
       "output_type": "stream",
       "stream": "stdout",
       "text": [
        "Processing Pirellula staleyi DSM 6068\r\n"
       ]
      },
      {
       "output_type": "stream",
       "stream": "stdout",
       "text": [
        "Processing Leptotrichia buccalis C-1013-b\r\n"
       ]
      },
      {
       "output_type": "stream",
       "stream": "stdout",
       "text": [
        "Processing Nocardia cyriacigeorgica GUH-2\r\n",
        "Processing Neorhizobium galegae bv. officinalis bv. officinalis str. HAMBI 1141\r\n"
       ]
      },
      {
       "output_type": "stream",
       "stream": "stdout",
       "text": [
        "Processing Prosthecochloris aestuarii DSM 271\r\n",
        "Processing Rhodococcus jostii RHA1\r\n"
       ]
      },
      {
       "output_type": "stream",
       "stream": "stdout",
       "text": [
        "Processing Melioribacter roseus P3M-2\r\n",
        "Processing Candidatus Pelagibacter ubique HTCC1062\r\n"
       ]
      },
      {
       "output_type": "stream",
       "stream": "stdout",
       "text": [
        "Processing Bacillus thuringiensis str. Al Hakam\r\n"
       ]
      },
      {
       "output_type": "stream",
       "stream": "stdout",
       "text": [
        "Processing Serratia fonticola RB-25\r\n"
       ]
      },
      {
       "output_type": "stream",
       "stream": "stdout",
       "text": [
        "Processing Sphaerochaeta coccoides DSM 17374\r\n",
        "Processing Mannheimia varigena USDA-ARS-USMARC-1388\r\n"
       ]
      },
      {
       "output_type": "stream",
       "stream": "stdout",
       "text": [
        "Processing Thermus thermophilus SG0.5JP17-16\r\n"
       ]
      },
      {
       "output_type": "stream",
       "stream": "stdout",
       "text": [
        "Processing Streptococcus oralis Uo5\r\n",
        "Processing Mycoplasma capricolum subsp. capricolum ATCC 27343\r\n"
       ]
      },
      {
       "output_type": "stream",
       "stream": "stdout",
       "text": [
        "Processing Caldicellulosiruptor kronotskyensis 2002\r\n"
       ]
      },
      {
       "output_type": "stream",
       "stream": "stdout",
       "text": [
        "Processing Pandoraea pnomenusa 3kgm\r\n"
       ]
      },
      {
       "output_type": "stream",
       "stream": "stdout",
       "text": [
        "Processing Caldicellulosiruptor lactoaceticus 6A\r\n"
       ]
      },
      {
       "output_type": "stream",
       "stream": "stdout",
       "text": [
        "Processing Blattabacterium sp. (Mastotermes darwiniensis) str. MADAR\r\n"
       ]
      },
      {
       "output_type": "stream",
       "stream": "stdout",
       "text": [
        "Processing Bifidobacterium longum subsp. longum JCM 1217\r\n"
       ]
      },
      {
       "output_type": "stream",
       "stream": "stdout",
       "text": [
        "Processing Candidatus Mycoplasma haemolamae str. Purdue\r\n",
        "Processing Mycobacterium kansasii 824\r\n",
        "Processing Mycoplasma flocculare ATCC 27399\r\n"
       ]
      },
      {
       "output_type": "stream",
       "stream": "stdout",
       "text": [
        "Processing Rhodoferax ferrireducens T118\r\n",
        "Processing Neorickettsia sennetsu str. Miyayama\r\n"
       ]
      },
      {
       "output_type": "stream",
       "stream": "stdout",
       "text": [
        "Processing Azorhizobium caulinodans ORS 571\r\n"
       ]
      },
      {
       "output_type": "stream",
       "stream": "stdout",
       "text": [
        "Processing Corynebacterium glycinophilum AJ 3170\r\n"
       ]
      },
      {
       "output_type": "stream",
       "stream": "stdout",
       "text": [
        "Processing Variovorax paradoxus EPS\r\n"
       ]
      },
      {
       "output_type": "stream",
       "stream": "stdout",
       "text": [
        "Processing Methylotenera mobilis JLW8\r\n"
       ]
      },
      {
       "output_type": "stream",
       "stream": "stdout",
       "text": [
        "Processing Vibrio furnissii NCTC 11218\r\n"
       ]
      },
      {
       "output_type": "stream",
       "stream": "stdout",
       "text": [
        "Processing Capnocytophaga ochracea DSM 7271\r\n"
       ]
      },
      {
       "output_type": "stream",
       "stream": "stdout",
       "text": [
        "Processing Streptococcus lutetiensis 033\r\n"
       ]
      },
      {
       "output_type": "stream",
       "stream": "stdout",
       "text": [
        "Processing Ralstonia solanacearum PSI07\r\n"
       ]
      },
      {
       "output_type": "stream",
       "stream": "stdout",
       "text": [
        "Processing Pseudomonas protegens Cab57\r\n"
       ]
      },
      {
       "output_type": "stream",
       "stream": "stdout",
       "text": [
        "Processing Rickettsia massiliae MTU5\r\n"
       ]
      },
      {
       "output_type": "stream",
       "stream": "stdout",
       "text": [
        "Processing Amphibacillus xylanus NBRC 15112\r\n"
       ]
      },
      {
       "output_type": "stream",
       "stream": "stdout",
       "text": [
        "Processing Thalassospira xiamenensis M-5 = DSM 17429\r\n"
       ]
      },
      {
       "output_type": "stream",
       "stream": "stdout",
       "text": [
        "Processing Spiroplasma chrysopicola DF-1\r\n"
       ]
      },
      {
       "output_type": "stream",
       "stream": "stdout",
       "text": [
        "Processing Leuconostoc citreum KM20\r\n",
        "Processing Bartonella clarridgeiae 73\r\n",
        "Processing Zunongwangia profunda SM-A87\r\n"
       ]
      },
      {
       "output_type": "stream",
       "stream": "stdout",
       "text": [
        "Processing Beutenbergia cavernae DSM 12333\r\n"
       ]
      },
      {
       "output_type": "stream",
       "stream": "stdout",
       "text": [
        "Processing Campylobacter concisus 13826\r\n"
       ]
      },
      {
       "output_type": "stream",
       "stream": "stdout",
       "text": [
        "Processing Mycobacterium tuberculosis RGTB327\r\n"
       ]
      },
      {
       "output_type": "stream",
       "stream": "stdout",
       "text": [
        "Processing Ralstonia eutropha JMP134\r\n"
       ]
      },
      {
       "output_type": "stream",
       "stream": "stdout",
       "text": [
        "Processing Aeromonas hydrophila J-1\r\n"
       ]
      },
      {
       "output_type": "stream",
       "stream": "stdout",
       "text": [
        "Processing Chlamydia pecorum P787\r\n"
       ]
      },
      {
       "output_type": "stream",
       "stream": "stdout",
       "text": [
        "Processing Aliivibrio salmonicida LFI1238\r\n"
       ]
      },
      {
       "output_type": "stream",
       "stream": "stdout",
       "text": [
        "Processing Treponema pallidum subsp. pallidum str. Sea 81-4\r\n"
       ]
      },
      {
       "output_type": "stream",
       "stream": "stdout",
       "text": [
        "Processing Salinispora arenicola CNS-205\r\n"
       ]
      },
      {
       "output_type": "stream",
       "stream": "stdout",
       "text": [
        "Processing Xanthomonas oryzae pv. oryzae PXO99A\r\n"
       ]
      },
      {
       "output_type": "stream",
       "stream": "stdout",
       "text": [
        "Processing Bacillus infantis NRRL B-14911\r\n"
       ]
      },
      {
       "output_type": "stream",
       "stream": "stdout",
       "text": [
        "Processing Stanieria cyanosphaera PCC 7437\r\n"
       ]
      },
      {
       "output_type": "stream",
       "stream": "stdout",
       "text": [
        "Processing Pseudoxanthomonas suwonensis 11-1\r\n"
       ]
      },
      {
       "output_type": "stream",
       "stream": "stdout",
       "text": [
        "Processing Haliangium ochraceum DSM 14365\r\n"
       ]
      },
      {
       "output_type": "stream",
       "stream": "stdout",
       "text": [
        "Processing Janthinobacterium agaricidamnosum NBRC 102515 = DSM 9628\r\n"
       ]
      },
      {
       "output_type": "stream",
       "stream": "stdout",
       "text": [
        "Processing Wigglesworthia glossinidia endosymbiont of Glossina brevipalpis\r\n"
       ]
      },
      {
       "output_type": "stream",
       "stream": "stdout",
       "text": [
        "Processing Geobacter daltonii FRC-32\r\n"
       ]
      },
      {
       "output_type": "stream",
       "stream": "stdout",
       "text": [
        "Processing Arcanobacterium haemolyticum DSM 20595\r\n"
       ]
      },
      {
       "output_type": "stream",
       "stream": "stdout",
       "text": [
        "Processing Candidatus Nasuia deltocephalinicola str. NAS-ALF\r\n"
       ]
      },
      {
       "output_type": "stream",
       "stream": "stdout",
       "text": [
        "Processing Ethanoligenens harbinense YUAN-3\r\n"
       ]
      },
      {
       "output_type": "stream",
       "stream": "stdout",
       "text": [
        "Processing Shewanella frigidimarina NCIMB 400\r\n",
        "Processing Pseudomonas resinovorans NBRC 106553\r\n"
       ]
      },
      {
       "output_type": "stream",
       "stream": "stdout",
       "text": [
        "Processing Thioalkalimicrobium cyclicum ALM1\r\n"
       ]
      },
      {
       "output_type": "stream",
       "stream": "stdout",
       "text": [
        "Processing Flavobacterium indicum GPTSA100-9 = DSM 17447\r\n"
       ]
      },
      {
       "output_type": "stream",
       "stream": "stdout",
       "text": [
        "Processing Candidatus Blochmannia pennsylvanicus str. BPEN\r\n",
        "Processing Streptococcus gallolyticus subsp. gallolyticus ATCC 43143\r\n"
       ]
      },
      {
       "output_type": "stream",
       "stream": "stdout",
       "text": [
        "Processing Deinococcus peraridilitoris DSM 19664\r\n"
       ]
      },
      {
       "output_type": "stream",
       "stream": "stdout",
       "text": [
        "Processing Borrelia duttonii Ly\r\n"
       ]
      },
      {
       "output_type": "stream",
       "stream": "stdout",
       "text": [
        "Processing Mycobacterium africanum GM041182\r\n",
        "Processing Opitutus terrae PB90-1\r\n"
       ]
      },
      {
       "output_type": "stream",
       "stream": "stdout",
       "text": [
        "Processing Methylobacterium oryzae CBMB20\r\n"
       ]
      },
      {
       "output_type": "stream",
       "stream": "stdout",
       "text": [
        "Processing Campylobacter jejuni subsp. jejuni NCTC 11168-mfK12E5\r\n"
       ]
      },
      {
       "output_type": "stream",
       "stream": "stdout",
       "text": [
        "Processing Leifsonia xyli subsp. cynodontis DSM 46306\r\n"
       ]
      },
      {
       "output_type": "stream",
       "stream": "stdout",
       "text": [
        "Processing Chloroflexus aurantiacus J-10-fl\r\n"
       ]
      },
      {
       "output_type": "stream",
       "stream": "stdout",
       "text": [
        "Processing Bordetella holmesii 44057\r\n"
       ]
      },
      {
       "output_type": "stream",
       "stream": "stdout",
       "text": [
        "Processing Kitasatospora setae KM-6054\r\n"
       ]
      },
      {
       "output_type": "stream",
       "stream": "stdout",
       "text": [
        "Processing Candidatus Chloracidobacterium thermophilum B\r\n"
       ]
      },
      {
       "output_type": "stream",
       "stream": "stdout",
       "text": [
        "Processing Corynebacterium ulcerans 809\r\n"
       ]
      },
      {
       "output_type": "stream",
       "stream": "stdout",
       "text": [
        "Processing Chlamydia psittaci 02DC15\r\n"
       ]
      },
      {
       "output_type": "stream",
       "stream": "stdout",
       "text": [
        "Processing Xanthomonas campestris pv. campestris str. ATCC 33913\r\n"
       ]
      },
      {
       "output_type": "stream",
       "stream": "stdout",
       "text": [
        "Processing Cyanobacterium aponinum PCC 10605\r\n"
       ]
      },
      {
       "output_type": "stream",
       "stream": "stdout",
       "text": [
        "Processing Streptococcus uberis 0140J\r\n"
       ]
      },
      {
       "output_type": "stream",
       "stream": "stdout",
       "text": [
        "Processing Nostoc punctiforme PCC 73102\r\n"
       ]
      },
      {
       "output_type": "stream",
       "stream": "stdout",
       "text": [
        "Processing Arthrobacter arilaitensis Re117\r\n",
        "Processing Advenella mimigardefordensis DPN7\r\n"
       ]
      },
      {
       "output_type": "stream",
       "stream": "stdout",
       "text": [
        "Processing Saccharomonospora viridis DSM 43017\r\n"
       ]
      },
      {
       "output_type": "stream",
       "stream": "stdout",
       "text": [
        "Processing Basilea psittacipulmonis DSM 24701\r\n"
       ]
      },
      {
       "output_type": "stream",
       "stream": "stdout",
       "text": [
        "Processing Mycobacterium liflandii 128FXT\r\n"
       ]
      },
      {
       "output_type": "stream",
       "stream": "stdout",
       "text": [
        "Processing Gallibacterium anatis UMN179\r\n"
       ]
      },
      {
       "output_type": "stream",
       "stream": "stdout",
       "text": [
        "Processing Mycoplasma cynos C142\r\n"
       ]
      },
      {
       "output_type": "stream",
       "stream": "stdout",
       "text": [
        "Processing Lactobacillus paracasei subsp. paracasei JCM 8130\r\n"
       ]
      },
      {
       "output_type": "stream",
       "stream": "stdout",
       "text": [
        "Processing Sodalis glossinidius str. 'morsitans'\r\n"
       ]
      },
      {
       "output_type": "stream",
       "stream": "stdout",
       "text": [
        "Processing Desulfotomaculum reducens MI-1\r\n"
       ]
      },
      {
       "output_type": "stream",
       "stream": "stdout",
       "text": [
        "Processing Bibersteinia trehalosi USDA-ARS-USMARC-189\r\n"
       ]
      },
      {
       "output_type": "stream",
       "stream": "stdout",
       "text": [
        "Processing Neisseria gonorrhoeae FA 1090\r\n"
       ]
      },
      {
       "output_type": "stream",
       "stream": "stdout",
       "text": [
        "Processing Emticicia oligotrophica DSM 17448\r\n",
        "Processing Cronobacter turicensis z3032\r\n"
       ]
      },
      {
       "output_type": "stream",
       "stream": "stdout",
       "text": [
        "Processing Corynebacterium doosanense CAU 212 = DSM 45436\r\n",
        "Processing Sorangium cellulosum So ce56\r\n"
       ]
      },
      {
       "output_type": "stream",
       "stream": "stdout",
       "text": [
        "Processing Coxiella burnetii CbuK_Q154\r\n"
       ]
      },
      {
       "output_type": "stream",
       "stream": "stdout",
       "text": [
        "Processing Leadbetterella byssophila DSM 17132\r\n"
       ]
      },
      {
       "output_type": "stream",
       "stream": "stdout",
       "text": [
        "Processing Mycoplasma putrefaciens KS1\r\n"
       ]
      },
      {
       "output_type": "stream",
       "stream": "stdout",
       "text": [
        "Processing Olsenella uli DSM 7084\r\n",
        "Processing Pectobacterium carotovorum subsp. odoriferum\r\n"
       ]
      },
      {
       "output_type": "stream",
       "stream": "stdout",
       "text": [
        "Processing Nautilia profundicola AmH\r\n"
       ]
      },
      {
       "output_type": "stream",
       "stream": "stdout",
       "text": [
        "Processing Candidatus Hodgkinia cicadicola Dsem\r\n"
       ]
      },
      {
       "output_type": "stream",
       "stream": "stdout",
       "text": [
        "Processing Ignavibacterium album JCM 16511\r\n"
       ]
      },
      {
       "output_type": "stream",
       "stream": "stdout",
       "text": [
        "Processing Staphylococcus haemolyticus JCSC1435\r\n"
       ]
      },
      {
       "output_type": "stream",
       "stream": "stdout",
       "text": [
        "Processing Desulfobacula toluolica Tol2\r\n"
       ]
      },
      {
       "output_type": "stream",
       "stream": "stdout",
       "text": [
        "Processing Aerococcus urinae ACS-120-V-Col10a\r\n"
       ]
      },
      {
       "output_type": "stream",
       "stream": "stdout",
       "text": [
        "Processing Candidatus Midichloria mitochondrii IricVA\r\n"
       ]
      },
      {
       "output_type": "stream",
       "stream": "stdout",
       "text": [
        "Processing Mycobacterium bovis BCG str. Pasteur 1173P2\r\n",
        "Processing Dictyoglomus thermophilum H-6-12\r\n"
       ]
      },
      {
       "output_type": "stream",
       "stream": "stdout",
       "text": [
        "Processing Corynebacterium glutamicum ATCC 13032\r\n"
       ]
      },
      {
       "output_type": "stream",
       "stream": "stdout",
       "text": [
        "Processing Shewanella loihica PV-4\r\n",
        "Processing Mycobacterium gilvum PYR-GCK\r\n"
       ]
      },
      {
       "output_type": "stream",
       "stream": "stdout",
       "text": [
        "Processing Geobacillus thermoglucosidasius C56-YS93\r\n"
       ]
      },
      {
       "output_type": "stream",
       "stream": "stdout",
       "text": [
        "Processing Bacillus amyloliquefaciens subsp. plantarum str. FZB42\r\n"
       ]
      },
      {
       "output_type": "stream",
       "stream": "stdout",
       "text": [
        "Processing Neisseria elongata subsp. glycolytica ATCC 29315\r\n",
        "Processing Nitrobacter winogradskyi Nb-255\r\n"
       ]
      },
      {
       "output_type": "stream",
       "stream": "stdout",
       "text": [
        "Processing Shigella sonnei 53G\r\n"
       ]
      },
      {
       "output_type": "stream",
       "stream": "stdout",
       "text": [
        "Processing Moraxella catarrhalis BBH18\r\n"
       ]
      },
      {
       "output_type": "stream",
       "stream": "stdout",
       "text": [
        "Processing Campylobacter peloridis LMG 23910\r\n"
       ]
      },
      {
       "output_type": "stream",
       "stream": "stdout",
       "text": [
        "Processing Desulfotomaculum ruminis DSM 2154\r\n"
       ]
      },
      {
       "output_type": "stream",
       "stream": "stdout",
       "text": [
        "Processing Streptococcus pneumoniae INV200\r\n",
        "Processing Acaryochloris marina MBIC11017\r\n"
       ]
      },
      {
       "output_type": "stream",
       "stream": "stdout",
       "text": [
        "Processing Borrelia miyamotoi LB-2001\r\n"
       ]
      },
      {
       "output_type": "stream",
       "stream": "stdout",
       "text": [
        "Processing Mycobacterium leprae Br4923\r\n"
       ]
      },
      {
       "output_type": "stream",
       "stream": "stdout",
       "text": [
        "Processing Acidiphilium cryptum JF-5\r\n"
       ]
      },
      {
       "output_type": "stream",
       "stream": "stdout",
       "text": [
        "Processing Leuconostoc carnosum JB16\r\n"
       ]
      },
      {
       "output_type": "stream",
       "stream": "stdout",
       "text": [
        "Processing Sulfurospirillum deleyianum DSM 6946\r\n"
       ]
      },
      {
       "output_type": "stream",
       "stream": "stdout",
       "text": [
        "Processing Streptomyces lividans TK24\r\n"
       ]
      },
      {
       "output_type": "stream",
       "stream": "stdout",
       "text": [
        "Processing Deinococcus proteolyticus MRP\r\n"
       ]
      },
      {
       "output_type": "stream",
       "stream": "stdout",
       "text": [
        "Processing Exiguobacterium sibiricum 255-15\r\n"
       ]
      },
      {
       "output_type": "stream",
       "stream": "stdout",
       "text": [
        "Processing Staphylococcus carnosus subsp. carnosus TM300\r\n"
       ]
      },
      {
       "output_type": "stream",
       "stream": "stdout",
       "text": [
        "Processing Actinobacillus suis ATCC 33415\r\n",
        "Processing Caldicellulosiruptor owensensis OL\r\n"
       ]
      },
      {
       "output_type": "stream",
       "stream": "stdout",
       "text": [
        "Processing Paenibacillus terrae HPL-003\r\n",
        "Processing Pelagibacterium halotolerans B2\r\n"
       ]
      },
      {
       "output_type": "stream",
       "stream": "stdout",
       "text": [
        "Processing Bartonella quintana RM-11\r\n"
       ]
      },
      {
       "output_type": "stream",
       "stream": "stdout",
       "text": [
        "Processing Nocardia brasiliensis ATCC 700358\r\n"
       ]
      },
      {
       "output_type": "stream",
       "stream": "stdout",
       "text": [
        "Processing Thermosipho melanesiensis BI429\r\n",
        "Processing Crinalium epipsammum PCC 9333\r\n"
       ]
      },
      {
       "output_type": "stream",
       "stream": "stdout",
       "text": [
        "Processing Bifidobacterium asteroides PRL2011\r\n"
       ]
      },
      {
       "output_type": "stream",
       "stream": "stdout",
       "text": [
        "Processing Candidatus Liberibacter asiaticus str. psy62\r\n"
       ]
      },
      {
       "output_type": "stream",
       "stream": "stdout",
       "text": [
        "Processing Simkania negevensis Z\r\n"
       ]
      },
      {
       "output_type": "stream",
       "stream": "stdout",
       "text": [
        "Processing Anaeromyxobacter dehalogenans 2CP-C\r\n"
       ]
      },
      {
       "output_type": "stream",
       "stream": "stdout",
       "text": [
        "Processing Mycoplasma fermentans JER\r\n"
       ]
      },
      {
       "output_type": "stream",
       "stream": "stdout",
       "text": [
        "Processing Lactobacillus sanfranciscensis TMW 1.1304\r\n",
        "Processing Candidatus Riesia pediculicola USDA\r\n"
       ]
      },
      {
       "output_type": "stream",
       "stream": "stdout",
       "text": [
        "Processing Saccharothrix espanaensis DSM 44229\r\n"
       ]
      },
      {
       "output_type": "stream",
       "stream": "stdout",
       "text": [
        "Processing Micavibrio aeruginosavorus EPB\r\n"
       ]
      },
      {
       "output_type": "stream",
       "stream": "stdout",
       "text": [
        "Processing Mycoplasma agalactiae PG2\r\n"
       ]
      },
      {
       "output_type": "stream",
       "stream": "stdout",
       "text": [
        "Processing Prevotella melaninogenica ATCC 25845\r\n"
       ]
      },
      {
       "output_type": "stream",
       "stream": "stdout",
       "text": [
        "Processing Acetobacter pasteurianus IFO 3283-03\r\n"
       ]
      },
      {
       "output_type": "stream",
       "stream": "stdout",
       "text": [
        "Processing Streptomyces bingchenggensis BCW-1\r\n"
       ]
      },
      {
       "output_type": "stream",
       "stream": "stdout",
       "text": [
        "Processing Aeromonas veronii B565\r\n"
       ]
      },
      {
       "output_type": "stream",
       "stream": "stdout",
       "text": [
        "Processing Nitratifractor salsuginis DSM 16511\r\n"
       ]
      },
      {
       "output_type": "stream",
       "stream": "stdout",
       "text": [
        "Processing Propionibacterium acnes HL096PA1\r\n",
        "Processing Lactobacillus plantarum ZJ316\r\n"
       ]
      },
      {
       "output_type": "stream",
       "stream": "stdout",
       "text": [
        "Processing Mesoplasma florum L1\r\n"
       ]
      },
      {
       "output_type": "stream",
       "stream": "stdout",
       "text": [
        "Processing Pseudomonas poae RE*1-1-14\r\n"
       ]
      },
      {
       "output_type": "stream",
       "stream": "stdout",
       "text": [
        "Processing Ochrobactrum anthropi ATCC 49188\r\n"
       ]
      },
      {
       "output_type": "stream",
       "stream": "stdout",
       "text": [
        "Processing Helicobacter felis ATCC 49179\r\n",
        "Processing Parvibaculum lavamentivorans DS-1\r\n"
       ]
      },
      {
       "output_type": "stream",
       "stream": "stdout",
       "text": [
        "Processing Methylobacterium populi BJ001\r\n"
       ]
      },
      {
       "output_type": "stream",
       "stream": "stdout",
       "text": [
        "Processing Petrotoga mobilis SJ95\r\n"
       ]
      },
      {
       "output_type": "stream",
       "stream": "stdout",
       "text": [
        "Processing Laribacter hongkongensis HLHK9\r\n"
       ]
      },
      {
       "output_type": "stream",
       "stream": "stdout",
       "text": [
        "Processing Brucella canis HSK A52141\r\n"
       ]
      },
      {
       "output_type": "stream",
       "stream": "stdout",
       "text": [
        "Processing Listeria monocytogenes L99\r\n"
       ]
      },
      {
       "output_type": "stream",
       "stream": "stdout",
       "text": [
        "Processing Shewanella oneidensis MR-1\r\n"
       ]
      },
      {
       "output_type": "stream",
       "stream": "stdout",
       "text": [
        "Processing Geobacillus kaustophilus HTA426\r\n"
       ]
      },
      {
       "output_type": "stream",
       "stream": "stdout",
       "text": [
        "Processing Syntrophothermus lipocalidus DSM 12680\r\n"
       ]
      },
      {
       "output_type": "stream",
       "stream": "stdout",
       "text": [
        "Processing Sulfuricella denitrificans skB26\r\n"
       ]
      },
      {
       "output_type": "stream",
       "stream": "stdout",
       "text": [
        "Processing Xylella fastidiosa MUL0034\r\n"
       ]
      },
      {
       "output_type": "stream",
       "stream": "stdout",
       "text": [
        "Processing Yersinia aldovae 670-83\r\n"
       ]
      },
      {
       "output_type": "stream",
       "stream": "stdout",
       "text": [
        "Processing Nocardiopsis dassonvillei subsp. dassonvillei DSM 43111\r\n"
       ]
      },
      {
       "output_type": "stream",
       "stream": "stdout",
       "text": [
        "Processing Ferrimonas balearica DSM 9799\r\n"
       ]
      },
      {
       "output_type": "stream",
       "stream": "stdout",
       "text": [
        "Processing Terriglobus saanensis SP1PR4\r\n"
       ]
      },
      {
       "output_type": "stream",
       "stream": "stdout",
       "text": [
        "Processing Listeria seeligeri serovar 1/2b str. SLCC3954\r\n"
       ]
      },
      {
       "output_type": "stream",
       "stream": "stdout",
       "text": [
        "Processing Leptospirillum ferriphilum YSK\r\n"
       ]
      },
      {
       "output_type": "stream",
       "stream": "stdout",
       "text": [
        "Processing Methylobacterium radiotolerans JCM 2831\r\n"
       ]
      },
      {
       "output_type": "stream",
       "stream": "stdout",
       "text": [
        "Processing Burkholderia phymatum STM815\r\n"
       ]
      },
      {
       "output_type": "stream",
       "stream": "stdout",
       "text": [
        "Processing Bartonella henselae str. Houston-1\r\n",
        "Processing Treponema azotonutricium ZAS-9\r\n"
       ]
      },
      {
       "output_type": "stream",
       "stream": "stdout",
       "text": [
        "Processing Carnobacterium maltaromaticum LMA28\r\n"
       ]
      },
      {
       "output_type": "stream",
       "stream": "stdout",
       "text": [
        "Processing Lactobacillus helveticus H9\r\n"
       ]
      },
      {
       "output_type": "stream",
       "stream": "stdout",
       "text": [
        "Processing Acidiphilium multivorum AIU301\r\n"
       ]
      },
      {
       "output_type": "stream",
       "stream": "stdout",
       "text": [
        "Processing Blattabacterium sp. (Cryptocercus punctulatus) str. Cpu\r\n"
       ]
      },
      {
       "output_type": "stream",
       "stream": "stdout",
       "text": [
        "Processing Burkholderia multivorans ATCC 17616\r\n"
       ]
      },
      {
       "output_type": "stream",
       "stream": "stdout",
       "text": [
        "Processing Thermomicrobium roseum DSM 5159\r\n"
       ]
      },
      {
       "output_type": "stream",
       "stream": "stdout",
       "text": [
        "Processing Polynucleobacter necessarius subsp. necessarius STIR1\r\n",
        "Processing Campylobacter hominis ATCC BAA-381\r\n"
       ]
      },
      {
       "output_type": "stream",
       "stream": "stdout",
       "text": [
        "Processing Phycisphaera mikurensis NBRC 102666\r\n"
       ]
      },
      {
       "output_type": "stream",
       "stream": "stdout",
       "text": [
        "Processing Sulfurihydrogenibium azorense Az-Fu1\r\n"
       ]
      },
      {
       "output_type": "stream",
       "stream": "stdout",
       "text": [
        "Processing Sphaerobacter thermophilus DSM 20745\r\n"
       ]
      },
      {
       "output_type": "stream",
       "stream": "stdout",
       "text": [
        "Processing Escherichia albertii KF1\r\n"
       ]
      },
      {
       "output_type": "stream",
       "stream": "stdout",
       "text": [
        "Processing Ammonifex degensii KC4\r\n"
       ]
      },
      {
       "output_type": "stream",
       "stream": "stdout",
       "text": [
        "Processing Streptococcus constellatus subsp. pharyngis C1050\r\n"
       ]
      },
      {
       "output_type": "stream",
       "stream": "stdout",
       "text": [
        "Processing Edwardsiella ictaluri 93-146\r\n"
       ]
      },
      {
       "output_type": "stream",
       "stream": "stdout",
       "text": [
        "Processing Melissococcus plutonius DAT561\r\n",
        "Processing Corynebacterium kroppenstedtii DSM 44385\r\n"
       ]
      },
      {
       "output_type": "stream",
       "stream": "stdout",
       "text": [
        "Processing Tropheryma whipplei str. Twist\r\n",
        "Processing Onion yellows phytoplasma OY-M\r\n"
       ]
      },
      {
       "output_type": "stream",
       "stream": "stdout",
       "text": [
        "Processing Flavobacterium johnsoniae UW101\r\n"
       ]
      },
      {
       "output_type": "stream",
       "stream": "stdout",
       "text": [
        "Processing Pseudomonas mendocina NK-01\r\n"
       ]
      },
      {
       "output_type": "stream",
       "stream": "stdout",
       "text": [
        "Processing Verrucosispora maris AB-18-032\r\n"
       ]
      },
      {
       "output_type": "stream",
       "stream": "stdout",
       "text": [
        "Processing Dehalococcoides mccartyi CG4\r\n"
       ]
      },
      {
       "output_type": "stream",
       "stream": "stdout",
       "text": [
        "Processing Coprothermobacter proteolyticus DSM 5265\r\n"
       ]
      },
      {
       "output_type": "stream",
       "stream": "stdout",
       "text": [
        "Processing Mycoplasma californicum HAZ160_1\r\n"
       ]
      },
      {
       "output_type": "stream",
       "stream": "stdout",
       "text": [
        "Processing Bordetella bronchiseptica 253\r\n"
       ]
      },
      {
       "output_type": "stream",
       "stream": "stdout",
       "text": [
        "Processing Streptococcus macedonicus ACA-DC 198\r\n"
       ]
      },
      {
       "output_type": "stream",
       "stream": "stdout",
       "text": [
        "Processing Mycoplasma hominis ATCC 23114\r\n"
       ]
      },
      {
       "output_type": "stream",
       "stream": "stdout",
       "text": [
        "Processing Mycoplasma genitalium G37\r\n",
        "Processing Synechococcus elongatus PCC 7942\r\n"
       ]
      },
      {
       "output_type": "stream",
       "stream": "stdout",
       "text": [
        "Processing Gordonia polyisoprenivorans VH2\r\n"
       ]
      },
      {
       "output_type": "stream",
       "stream": "stdout",
       "text": [
        "Processing Paracoccus aminophilus JCM 7686\r\n"
       ]
      },
      {
       "output_type": "stream",
       "stream": "stdout",
       "text": [
        "Processing Sideroxydans lithotrophicus ES-1\r\n"
       ]
      },
      {
       "output_type": "stream",
       "stream": "stdout",
       "text": [
        "Processing Thermosynechococcus elongatus BP-1\r\n"
       ]
      },
      {
       "output_type": "stream",
       "stream": "stdout",
       "text": [
        "Processing Paludibacter propionicigenes WB4\r\n"
       ]
      },
      {
       "output_type": "stream",
       "stream": "stdout",
       "text": [
        "Processing Bartonella tribocorum CIP 105476\r\n"
       ]
      },
      {
       "output_type": "stream",
       "stream": "stdout",
       "text": [
        "Processing Burkholderia ambifaria AMMD\r\n"
       ]
      },
      {
       "output_type": "stream",
       "stream": "stdout",
       "text": [
        "Processing Sulfobacillus acidophilus DSM 10332\r\n"
       ]
      },
      {
       "output_type": "stream",
       "stream": "stdout",
       "text": [
        "Processing Rickettsia felis URRWXCal2\r\n"
       ]
      },
      {
       "output_type": "stream",
       "stream": "stdout",
       "text": [
        "Processing Treponema paraluiscuniculi Cuniculi A\r\n"
       ]
      },
      {
       "output_type": "stream",
       "stream": "stdout",
       "text": [
        "Processing Thioalkalivibrio sulfidiphilus HL-EbGr7\r\n",
        "Processing Mycoplasma hyorhinis MCLD\r\n"
       ]
      },
      {
       "output_type": "stream",
       "stream": "stdout",
       "text": [
        "Processing Psychrobacter arcticus 273-4\r\n"
       ]
      },
      {
       "output_type": "stream",
       "stream": "stdout",
       "text": [
        "Processing Amycolatopsis orientalis HCCB10007\r\n"
       ]
      },
      {
       "output_type": "stream",
       "stream": "stdout",
       "text": [
        "Processing Cupriavidus metallidurans CH34\r\n"
       ]
      },
      {
       "output_type": "stream",
       "stream": "stdout",
       "text": [
        "Processing Taylorella asinigenitalis MCE3\r\n"
       ]
      },
      {
       "output_type": "stream",
       "stream": "stdout",
       "text": [
        "Processing Parvularcula bermudensis HTCC2503\r\n"
       ]
      },
      {
       "output_type": "stream",
       "stream": "stdout",
       "text": [
        "Processing Rhodococcus equi 103S\r\n",
        "Processing Hyphomicrobium denitrificans 1NES1\r\n",
        "Processing Clostridium novyi NT\r\n"
       ]
      },
      {
       "output_type": "stream",
       "stream": "stdout",
       "text": [
        "Processing Treponema pedis str. T A4\r\n"
       ]
      },
      {
       "output_type": "stream",
       "stream": "stdout",
       "text": [
        "Processing Prochlorococcus marinus str. MIT 9312\r\n"
       ]
      },
      {
       "output_type": "stream",
       "stream": "stdout",
       "text": [
        "Processing Treponema primitia ZAS-2\r\n"
       ]
      },
      {
       "output_type": "stream",
       "stream": "stdout",
       "text": [
        "Processing Shewanella amazonensis SB2B\r\n"
       ]
      },
      {
       "output_type": "stream",
       "stream": "stdout",
       "text": [
        "Processing Shewanella baltica BA175\r\n",
        "Processing Burkholderia mallei SAVP1\r\n"
       ]
      },
      {
       "output_type": "stream",
       "stream": "stdout",
       "text": [
        "Processing Streptococcus equi subsp. equi 4047\r\n"
       ]
      },
      {
       "output_type": "stream",
       "stream": "stdout",
       "text": [
        "Processing Mycoplasma synoviae 53\r\n"
       ]
      },
      {
       "output_type": "stream",
       "stream": "stdout",
       "text": [
        "Processing Clostridiales genomosp. BVAB3 str. UPII9-5\r\n"
       ]
      },
      {
       "output_type": "stream",
       "stream": "stdout",
       "text": [
        "Processing Mesorhizobium ciceri biovar biserrulae WSM1271\r\n"
       ]
      },
      {
       "output_type": "stream",
       "stream": "stdout",
       "text": [
        "Processing Ureaplasma urealyticum serovar 10 str. ATCC 33699\r\n"
       ]
      },
      {
       "output_type": "stream",
       "stream": "stdout",
       "text": [
        "Processing Erysipelothrix rhusiopathiae SY1027\r\n"
       ]
      },
      {
       "output_type": "stream",
       "stream": "stdout",
       "text": [
        "Processing Hafnia alvei FB1\r\n"
       ]
      },
      {
       "output_type": "stream",
       "stream": "stdout",
       "text": [
        "Processing Thermotoga naphthophila RKU-10\r\n"
       ]
      },
      {
       "output_type": "stream",
       "stream": "stdout",
       "text": [
        "Processing Spiroplasma diminutum CUAS-1\r\n"
       ]
      },
      {
       "output_type": "stream",
       "stream": "stdout",
       "text": [
        "Processing Ilyobacter polytropus DSM 2926\r\n"
       ]
      },
      {
       "output_type": "stream",
       "stream": "stdout",
       "text": [
        "Processing Oscillibacter valericigenes Sjm18-20\r\n",
        "Processing Streptosporangium roseum DSM 43021\r\n"
       ]
      },
      {
       "output_type": "stream",
       "stream": "stdout",
       "text": [
        "Processing Bacillus pumilus SAFR-032\r\n"
       ]
      },
      {
       "output_type": "stream",
       "stream": "stdout",
       "text": [
        "Processing Ehrlichia chaffeensis str. Osceola\r\n",
        "Processing Pseudomonas fluorescens Pf0-1\r\n"
       ]
      },
      {
       "output_type": "stream",
       "stream": "stdout",
       "text": [
        "Processing Mycobacterium abscessus subsp. bolletii 103\r\n"
       ]
      },
      {
       "output_type": "stream",
       "stream": "stdout",
       "text": [
        "Processing Streptomyces pratensis ATCC 33331\r\n"
       ]
      },
      {
       "output_type": "stream",
       "stream": "stdout",
       "text": [
        "Processing Yersinia pseudotuberculosis str. PA3606\r\n"
       ]
      },
      {
       "output_type": "stream",
       "stream": "stdout",
       "text": [
        "Processing Methylovorus glucosetrophus SIP3-4\r\n"
       ]
      },
      {
       "output_type": "stream",
       "stream": "stdout",
       "text": [
        "Processing Roseobacter litoralis Och 149\r\n",
        "Processing Brevibacillus brevis NBRC 100599\r\n",
        "Processing Rickettsia peacockii str. Rustic\r\n"
       ]
      },
      {
       "output_type": "stream",
       "stream": "stdout",
       "text": [
        "Processing Corynebacterium efficiens YS-314\r\n"
       ]
      },
      {
       "output_type": "stream",
       "stream": "stdout",
       "text": [
        "Processing Thermotoga elfii NBRC 107921\r\n"
       ]
      },
      {
       "output_type": "stream",
       "stream": "stdout",
       "text": [
        "Processing Zymomonas mobilis subsp. mobilis ZM4 = ATCC 31821\r\n"
       ]
      },
      {
       "output_type": "stream",
       "stream": "stdout",
       "text": [
        "Processing Proteus mirabilis BB2000\r\n"
       ]
      },
      {
       "output_type": "stream",
       "stream": "stdout",
       "text": [
        "Processing Selenomonas sputigena ATCC 35185\r\n"
       ]
      },
      {
       "output_type": "stream",
       "stream": "stdout",
       "text": [
        "Processing Enterobacter aerogenes KCTC 2190\r\n"
       ]
      },
      {
       "output_type": "stream",
       "stream": "stdout",
       "text": [
        "Processing Thermus oshimai JL-2\r\n"
       ]
      },
      {
       "output_type": "stream",
       "stream": "stdout",
       "text": [
        "Processing Spirochaeta africana DSM 8902\r\n"
       ]
      },
      {
       "output_type": "stream",
       "stream": "stdout",
       "text": [
        "Processing Flavobacterium psychrophilum FPG101\r\n"
       ]
      },
      {
       "output_type": "stream",
       "stream": "stdout",
       "text": [
        "Processing Myxococcus fulvus HW-1\r\n"
       ]
      },
      {
       "output_type": "stream",
       "stream": "stdout",
       "text": [
        "Processing Porphyromonas asaccharolytica DSM 20707\r\n"
       ]
      },
      {
       "output_type": "stream",
       "stream": "stdout",
       "text": [
        "Processing Chlamydia avium 10DC88\r\n"
       ]
      },
      {
       "output_type": "stream",
       "stream": "stdout",
       "text": [
        "Processing Lactobacillus acidophilus La-14\r\n",
        "Processing Rhodococcus opacus B4\r\n"
       ]
      },
      {
       "output_type": "stream",
       "stream": "stdout",
       "text": [
        "Processing Candidatus Zinderia insecticola CARI\r\n"
       ]
      },
      {
       "output_type": "stream",
       "stream": "stdout",
       "text": [
        "Processing Clostridium ljungdahlii DSM 13528\r\n",
        "Processing Borrelia garinii BgVir\r\n"
       ]
      },
      {
       "output_type": "stream",
       "stream": "stdout",
       "text": [
        "Processing Rhodopseudomonas palustris BisB18\r\n"
       ]
      },
      {
       "output_type": "stream",
       "stream": "stdout",
       "text": [
        "Processing Granulicella tundricola MP5ACTX9\r\n"
       ]
      },
      {
       "output_type": "stream",
       "stream": "stdout",
       "text": [
        "Processing Leuconostoc kimchii IMSNU 11154\r\n"
       ]
      },
      {
       "output_type": "stream",
       "stream": "stdout",
       "text": [
        "Processing Campylobacter volucris LMG 24379\r\n"
       ]
      },
      {
       "output_type": "stream",
       "stream": "stdout",
       "text": [
        "Processing Blattabacterium sp. (Blattella germanica) str. Bge\r\n"
       ]
      },
      {
       "output_type": "stream",
       "stream": "stdout",
       "text": [
        "Processing Alistipes finegoldii DSM 17242\r\n",
        "Processing Octadecabacter antarcticus 307\r\n"
       ]
      },
      {
       "output_type": "stream",
       "stream": "stdout",
       "text": [
        "Processing Verrucomicrobium spinosum DSM 4136 = JCM 18804\r\n"
       ]
      },
      {
       "output_type": "stream",
       "stream": "stdout",
       "text": [
        "Processing Kocuria rhizophila DC2201\r\n"
       ]
      },
      {
       "output_type": "stream",
       "stream": "stdout",
       "text": [
        "Processing Advenella kashmirensis WT001\r\n"
       ]
      },
      {
       "output_type": "stream",
       "stream": "stdout",
       "text": [
        "Processing Candidatus Puniceispirillum marinum IMCC1322\r\n"
       ]
      },
      {
       "output_type": "stream",
       "stream": "stdout",
       "text": [
        "Processing Marinobacter hydrocarbonoclasticus ATCC 49840\r\n"
       ]
      },
      {
       "output_type": "stream",
       "stream": "stdout",
       "text": [
        "Processing Haemophilus parasuis ZJ0906\r\n"
       ]
      },
      {
       "output_type": "stream",
       "stream": "stdout",
       "text": [
        "Processing Corynebacterium resistens DSM 45100\r\n"
       ]
      },
      {
       "output_type": "stream",
       "stream": "stdout",
       "text": [
        "Processing Desulfotomaculum carboxydivorans CO-1-SRB\r\n"
       ]
      },
      {
       "output_type": "stream",
       "stream": "stdout",
       "text": [
        "Processing Ruegeria pomeroyi DSS-3\r\n"
       ]
      },
      {
       "output_type": "stream",
       "stream": "stdout",
       "text": [
        "Processing Corynebacterium humireducens NBRC 106098 = DSM 45392\r\n"
       ]
      },
      {
       "output_type": "stream",
       "stream": "stdout",
       "text": [
        "Processing Geobacter sulfurreducens KN400\r\n",
        "Processing Bacteroides helcogenes P 36-108\r\n"
       ]
      },
      {
       "output_type": "stream",
       "stream": "stdout",
       "text": [
        "Processing Candidatus Endolissoclinum faulkneri L2\r\n"
       ]
      },
      {
       "output_type": "stream",
       "stream": "stdout",
       "text": [
        "Processing Persephonella marina EX-H1\r\n"
       ]
      },
      {
       "output_type": "stream",
       "stream": "stdout",
       "text": [
        "Processing Azospirillum lipoferum 4B\r\n"
       ]
      },
      {
       "output_type": "stream",
       "stream": "stdout",
       "text": [
        "Processing Croceibacter atlanticus HTCC2559\r\n"
       ]
      },
      {
       "output_type": "stream",
       "stream": "stdout",
       "text": [
        "Processing Brachyspira pilosicoli B2904\r\n"
       ]
      },
      {
       "output_type": "stream",
       "stream": "stdout",
       "text": [
        "Processing Desulfosporosinus orientis DSM 765\r\n"
       ]
      },
      {
       "output_type": "stream",
       "stream": "stdout",
       "text": [
        "Processing Leuconostoc mesenteroides subsp. mesenteroides ATCC 8293\r\n"
       ]
      },
      {
       "output_type": "stream",
       "stream": "stdout",
       "text": [
        "Processing Hydrogenobacter thermophilus TK-6\r\n"
       ]
      },
      {
       "output_type": "stream",
       "stream": "stdout",
       "text": [
        "Processing Thermoanaerobacter brockii subsp. finnii Ako-1\r\n"
       ]
      },
      {
       "output_type": "stream",
       "stream": "stdout",
       "text": [
        "Processing Mycoplasma pneumoniae 309\r\n"
       ]
      },
      {
       "output_type": "stream",
       "stream": "stdout",
       "text": [
        "Processing Vibrio tubiashii ATCC 19109\r\n"
       ]
      },
      {
       "output_type": "stream",
       "stream": "stdout",
       "text": [
        "Processing Clostridium cellulolyticum H10\r\n"
       ]
      },
      {
       "output_type": "stream",
       "stream": "stdout",
       "text": [
        "Processing Mycoplasma gallisepticum WI01_2001.043-13-2P\r\n"
       ]
      },
      {
       "output_type": "stream",
       "stream": "stdout",
       "text": [
        "Processing Rhizobium gallicum bv. gallicum R602\r\n"
       ]
      },
      {
       "output_type": "stream",
       "stream": "stdout",
       "text": [
        "Processing Pseudomonas denitrificans ATCC 13867\r\n",
        "Processing Simiduia agarivorans SA1 = DSM 21679\r\n"
       ]
      },
      {
       "output_type": "stream",
       "stream": "stdout",
       "text": [
        "Processing Mycobacterium ulcerans Agy99\r\n",
        "Processing Clostridium pasteurianum DSM 525 = ATCC 6013\r\n"
       ]
      },
      {
       "output_type": "stream",
       "stream": "stdout",
       "text": [
        "Processing Thermaerobacter marianensis DSM 12885\r\n"
       ]
      },
      {
       "output_type": "stream",
       "stream": "stdout",
       "text": [
        "Processing Treponema caldaria DSM 7334\r\n",
        "Processing Candidatus Vesicomyosocius okutanii HA\r\n",
        "Processing Filifactor alocis ATCC 35896\r\n"
       ]
      },
      {
       "output_type": "stream",
       "stream": "stdout",
       "text": [
        "Processing Sinorhizobium medicae WSM419\r\n",
        "Processing Finegoldia magna ATCC 29328\r\n"
       ]
      },
      {
       "output_type": "stream",
       "stream": "stdout",
       "text": [
        "Processing Rhodomicrobium vannielii ATCC 17100\r\n",
        "Processing Shewanella halifaxensis HAW-EB4\r\n"
       ]
      },
      {
       "output_type": "stream",
       "stream": "stdout",
       "text": [
        "Processing Thermodesulfatator indicus DSM 15286\r\n"
       ]
      },
      {
       "output_type": "stream",
       "stream": "stdout",
       "text": [
        "Processing Desulfitobacterium metallireducens DSM 15288\r\n",
        "Processing Hippea maritima DSM 10411\r\n"
       ]
      },
      {
       "output_type": "stream",
       "stream": "stdout",
       "text": [
        "Processing Jonesia denitrificans DSM 20603\r\n",
        "Processing Thermocrinis albus DSM 14484\r\n"
       ]
      },
      {
       "output_type": "stream",
       "stream": "stdout",
       "text": [
        "Processing Chlamydia muridarum str. Nigg3 CMUT3-5\r\n",
        "Processing Bifidobacterium indicum LMG 11587 = DSM 20214\r\n",
        "Processing Desulfobulbus propionicus DSM 2032\r\n"
       ]
      },
      {
       "output_type": "stream",
       "stream": "stdout",
       "text": [
        "Processing Kineococcus radiotolerans SRS30216 = ATCC BAA-149\r\n"
       ]
      },
      {
       "output_type": "stream",
       "stream": "stdout",
       "text": [
        "Processing Nitrosococcus watsonii C-113\r\n"
       ]
      },
      {
       "output_type": "stream",
       "stream": "stdout",
       "text": [
        "Processing Chlorobium limicola DSM 245\r\n"
       ]
      },
      {
       "output_type": "stream",
       "stream": "stdout",
       "text": [
        "Processing Octadecabacter arcticus 238\r\n"
       ]
      },
      {
       "output_type": "stream",
       "stream": "stdout",
       "text": [
        "Processing Cellulomonas flavigena DSM 20109\r\n"
       ]
      },
      {
       "output_type": "stream",
       "stream": "stdout",
       "text": [
        "Processing Saccharopolyspora erythraea NRRL 2338\r\n"
       ]
      },
      {
       "output_type": "stream",
       "stream": "stdout",
       "text": [
        "Processing Methylomonas methanica MC09\r\n"
       ]
      },
      {
       "output_type": "stream",
       "stream": "stdout",
       "text": [
        "Processing 'Nostoc azollae' 0708\r\n"
       ]
      },
      {
       "output_type": "stream",
       "stream": "stdout",
       "text": [
        "Processing Delftia acidovorans SPH-1\r\n"
       ]
      },
      {
       "output_type": "stream",
       "stream": "stdout",
       "text": [
        "Processing Micrococcus luteus NCTC 2665\r\n"
       ]
      },
      {
       "output_type": "stream",
       "stream": "stdout",
       "text": [
        "Processing Streptobacillus moniliformis DSM 12112\r\n"
       ]
      },
      {
       "output_type": "stream",
       "stream": "stdout",
       "text": [
        "Processing Desulfotalea psychrophila LSv54\r\n"
       ]
      },
      {
       "output_type": "stream",
       "stream": "stdout",
       "text": [
        "Processing Riemerella anatipestifer RA-CH-1\r\n"
       ]
      },
      {
       "output_type": "stream",
       "stream": "stdout",
       "text": [
        "Processing Collimonas fungivorans Ter331\r\n",
        "Processing Myxococcus stipitatus DSM 14675\r\n"
       ]
      },
      {
       "output_type": "stream",
       "stream": "stdout",
       "text": [
        "Processing Pelodictyon phaeoclathratiforme BU-1\r\n"
       ]
      },
      {
       "output_type": "stream",
       "stream": "stdout",
       "text": [
        "Processing Pseudoalteromonas atlantica T6c\r\n"
       ]
      },
      {
       "output_type": "stream",
       "stream": "stdout",
       "text": [
        "Processing Dactylococcopsis salina PCC 8305\r\n"
       ]
      },
      {
       "output_type": "stream",
       "stream": "stdout",
       "text": [
        "Processing Mycoplasma parvum str. Indiana\r\n",
        "Processing Candidatus Moranella endobia PCVAL\r\n"
       ]
      },
      {
       "output_type": "stream",
       "stream": "stdout",
       "text": [
        "Processing Caldilinea aerophila DSM 14535 = NBRC 104270\r\n"
       ]
      },
      {
       "output_type": "stream",
       "stream": "stdout",
       "text": [
        "Processing Mesorhizobium loti MAFF303099\r\n"
       ]
      },
      {
       "output_type": "stream",
       "stream": "stdout",
       "text": [
        "Processing Acidithiobacillus caldus ATCC 51756\r\n"
       ]
      },
      {
       "output_type": "stream",
       "stream": "stdout",
       "text": [
        "Processing Blattabacterium sp. (Blatta orientalis) str. Tarazona\r\n"
       ]
      },
      {
       "output_type": "stream",
       "stream": "stdout",
       "text": [
        "Processing Bacteroides vulgatus ATCC 8482\r\n"
       ]
      },
      {
       "output_type": "stream",
       "stream": "stdout",
       "text": [
        "Processing Adlercreutzia equolifaciens DSM 19450\r\n"
       ]
      },
      {
       "output_type": "stream",
       "stream": "stdout",
       "text": [
        "Processing Polaromonas naphthalenivorans CJ2\r\n",
        "Processing Corynebacterium maris DSM 45190\r\n"
       ]
      },
      {
       "output_type": "stream",
       "stream": "stdout",
       "text": [
        "Processing Ilumatobacter coccineus YM16-304\r\n",
        "Processing Campylobacter lari RM16712\r\n"
       ]
      },
      {
       "output_type": "stream",
       "stream": "stdout",
       "text": [
        "Processing Methylobacterium extorquens CM4\r\n"
       ]
      },
      {
       "output_type": "stream",
       "stream": "stdout",
       "text": [
        "Processing Vibrio parahaemolyticus O1:Kuk str. FDA_R31\r\n",
        "Processing Planctomyces brasiliensis DSM 5305\r\n"
       ]
      },
      {
       "output_type": "stream",
       "stream": "stdout",
       "text": [
        "Processing Bordetella avium 197N\r\n"
       ]
      },
      {
       "output_type": "stream",
       "stream": "stdout",
       "text": [
        "Processing Pectobacterium wasabiae WPP163\r\n"
       ]
      },
      {
       "output_type": "stream",
       "stream": "stdout",
       "text": [
        "Processing Alkaliphilus metalliredigens QYMF\r\n",
        "Processing Nonlabens dokdonensis DSW-6\r\n"
       ]
      },
      {
       "output_type": "stream",
       "stream": "stdout",
       "text": [
        "Processing Geobacter bemidjiensis Bem\r\n"
       ]
      },
      {
       "output_type": "stream",
       "stream": "stdout",
       "text": [
        "Processing Thermoanaerobacterium saccharolyticum JW/SL-YS485\r\n"
       ]
      },
      {
       "output_type": "stream",
       "stream": "stdout",
       "text": [
        "Processing Xenorhabdus bovienii SS-2004\r\n"
       ]
      },
      {
       "output_type": "stream",
       "stream": "stdout",
       "text": [
        "Processing Lactobacillus johnsonii FI9785\r\n",
        "Processing Desulfitobacterium dichloroeliminans LMG P-21439\r\n"
       ]
      },
      {
       "output_type": "stream",
       "stream": "stdout",
       "text": [
        "Processing Desulfurobacterium thermolithotrophum DSM 11699\r\n"
       ]
      },
      {
       "output_type": "stream",
       "stream": "stdout",
       "text": [
        "Processing Nocardiopsis alba ATCC BAA-2165\r\n"
       ]
      },
      {
       "output_type": "stream",
       "stream": "stdout",
       "text": [
        "Processing Bacillus lehensis G1\r\n"
       ]
      },
      {
       "output_type": "stream",
       "stream": "stdout",
       "text": [
        "Processing Frankia alni ACN14a\r\n",
        "Processing Rubrobacter xylanophilus DSM 9941\r\n"
       ]
      },
      {
       "output_type": "stream",
       "stream": "stdout",
       "text": [
        "Processing Glaciecola psychrophila 170\r\n"
       ]
      },
      {
       "output_type": "stream",
       "stream": "stdout",
       "text": [
        "Processing Salinispora tropica CNB-440\r\n"
       ]
      },
      {
       "output_type": "stream",
       "stream": "stdout",
       "text": [
        "Processing Bacillus atrophaeus 1942\r\n"
       ]
      },
      {
       "output_type": "stream",
       "stream": "stdout",
       "text": [
        "Processing Paenibacillus sabinae T27\r\n",
        "Processing Phaeobacter inhibens DSM 17395\r\n"
       ]
      },
      {
       "output_type": "stream",
       "stream": "stdout",
       "text": [
        "Processing Akkermansia muciniphila ATCC BAA-835\r\n"
       ]
      },
      {
       "output_type": "stream",
       "stream": "stdout",
       "text": [
        "Processing Thermosediminibacter oceani DSM 16646\r\n"
       ]
      },
      {
       "output_type": "stream",
       "stream": "stdout",
       "text": [
        "Processing Thioalkalimicrobium aerophilum AL3\r\n"
       ]
      },
      {
       "output_type": "stream",
       "stream": "stdout",
       "text": [
        "Processing Sulfuritalea hydrogenivorans sk43H\r\n"
       ]
      },
      {
       "output_type": "stream",
       "stream": "stdout",
       "text": [
        "Processing Streptococcus thermophilus ND03\r\n"
       ]
      },
      {
       "output_type": "stream",
       "stream": "stdout",
       "text": [
        "Processing Marinomonas posidonica IVIA-Po-181\r\n"
       ]
      },
      {
       "output_type": "stream",
       "stream": "stdout",
       "text": [
        "Processing Morganella morganii subsp. morganii KT\r\n"
       ]
      },
      {
       "output_type": "stream",
       "stream": "stdout",
       "text": [
        "Processing Mycobacterium neoaurum VKM Ac-1815D\r\n"
       ]
      },
      {
       "output_type": "stream",
       "stream": "stdout",
       "text": [
        "Processing Xanthomonas campestris pv. vesicatoria str. 85-10\r\n"
       ]
      },
      {
       "output_type": "stream",
       "stream": "stdout",
       "text": [
        "Processing Fluviicola taffensis DSM 16823\r\n",
        "Processing Citrobacter freundii CFNIH1\r\n"
       ]
      },
      {
       "output_type": "stream",
       "stream": "stdout",
       "text": [
        "Processing Mycobacterium indicus pranii MTCC 9506\r\n"
       ]
      },
      {
       "output_type": "stream",
       "stream": "stdout",
       "text": [
        "Processing Corynebacterium vitaeruminis DSM 20294\r\n"
       ]
      },
      {
       "output_type": "stream",
       "stream": "stdout",
       "text": [
        "Processing Rickettsia sibirica 246\r\n"
       ]
      },
      {
       "output_type": "stream",
       "stream": "stdout",
       "text": [
        "Processing Pseudomonas balearica DSM 6083\r\n"
       ]
      },
      {
       "output_type": "stream",
       "stream": "stdout",
       "text": [
        "Processing Wolbachia endosymbiont strain TRS of Brugia malayi\r\n"
       ]
      },
      {
       "output_type": "stream",
       "stream": "stdout",
       "text": [
        "Processing Caldicellulosiruptor kristjanssonii I77R1B\r\n"
       ]
      },
      {
       "output_type": "stream",
       "stream": "stdout",
       "text": [
        "Processing Thermobispora bispora DSM 43833\r\n"
       ]
      },
      {
       "output_type": "stream",
       "stream": "stdout",
       "text": [
        "Processing [Eubacterium] eligens ATCC 27750\r\n"
       ]
      },
      {
       "output_type": "stream",
       "stream": "stdout",
       "text": [
        "Processing Thermacetogenium phaeum DSM 12270\r\n",
        "Processing Snodgrassella alvi wkB2\r\n",
        "Processing Roseburia hominis A2-183\r\n"
       ]
      },
      {
       "output_type": "stream",
       "stream": "stdout",
       "text": [
        "Processing Streptomyces violaceusniger Tu 4113\r\n"
       ]
      },
      {
       "output_type": "stream",
       "stream": "stdout",
       "text": [
        "Processing Bacteriovorax marinus SJ\r\n"
       ]
      },
      {
       "output_type": "stream",
       "stream": "stdout",
       "text": [
        "Processing Paenibacillus larvae subsp. larvae DSM 25430\r\n"
       ]
      },
      {
       "output_type": "stream",
       "stream": "stdout",
       "text": [
        "Processing Colwellia psychrerythraea 34H\r\n"
       ]
      },
      {
       "output_type": "stream",
       "stream": "stdout",
       "text": [
        "Processing Flexistipes sinusarabici DSM 4947\r\n",
        "Processing Haemophilus parainfluenzae T3T1\r\n"
       ]
      },
      {
       "output_type": "stream",
       "stream": "stdout",
       "text": [
        "Processing Brachyspira intermedia PWS/A\r\n"
       ]
      },
      {
       "output_type": "stream",
       "stream": "stdout",
       "text": [
        "Processing Helicobacter cinaedi PAGU611\r\n",
        "Processing Roseibacterium elongatum DSM 19469\r\n"
       ]
      },
      {
       "output_type": "stream",
       "stream": "stdout",
       "text": [
        "Processing Acinetobacter calcoaceticus PHEA-2\r\n"
       ]
      },
      {
       "output_type": "stream",
       "stream": "stdout",
       "text": [
        "Processing Enterococcus faecium Aus0085\r\n"
       ]
      },
      {
       "output_type": "stream",
       "stream": "stdout",
       "text": [
        "Processing Sphingomonas wittichii RW1\r\n"
       ]
      },
      {
       "output_type": "stream",
       "stream": "stdout",
       "text": [
        "Processing Denitrovibrio acetiphilus DSM 12809\r\n"
       ]
      },
      {
       "output_type": "stream",
       "stream": "stdout",
       "text": [
        "Processing Bacteroides fragilis 638R\r\n"
       ]
      },
      {
       "output_type": "stream",
       "stream": "stdout",
       "text": [
        "Processing Rubrivivax gelatinosus IL144\r\n"
       ]
      },
      {
       "output_type": "stream",
       "stream": "stdout",
       "text": [
        "Processing Pseudomonas mosselii SJ10\r\n"
       ]
      },
      {
       "output_type": "stream",
       "stream": "stdout",
       "text": [
        "Processing Clostridium saccharobutylicum DSM 13864\r\n"
       ]
      },
      {
       "output_type": "stream",
       "stream": "stdout",
       "text": [
        "Processing Shigella boydii Sb227\r\n"
       ]
      },
      {
       "output_type": "stream",
       "stream": "stdout",
       "text": [
        "Processing Mahella australiensis 50-1 BON\r\n"
       ]
      },
      {
       "output_type": "stream",
       "stream": "stdout",
       "text": [
        "Processing Owenweeksia hongkongensis DSM 17368\r\n"
       ]
      },
      {
       "output_type": "stream",
       "stream": "stdout",
       "text": [
        "Processing Thiomonas intermedia K12\r\n"
       ]
      },
      {
       "output_type": "stream",
       "stream": "stdout",
       "text": [
        "Processing Calothrix sp. PCC 6303\r\n"
       ]
      },
      {
       "output_type": "stream",
       "stream": "stdout",
       "text": [
        "Processing Streptococcus iniae SF1\r\n"
       ]
      },
      {
       "output_type": "stream",
       "stream": "stdout",
       "text": [
        "Processing Bdellovibrio exovorus JSS\r\n",
        "Processing Streptococcus pseudopneumoniae IS7493\r\n"
       ]
      },
      {
       "output_type": "stream",
       "stream": "stdout",
       "text": [
        "Processing Anaerococcus prevotii DSM 20548\r\n"
       ]
      },
      {
       "output_type": "stream",
       "stream": "stdout",
       "text": [
        "Processing Methylocella silvestris BL2\r\n",
        "Processing Corynebacterium pseudotuberculosis I19\r\n",
        "Processing Streptococcus anginosus C238\r\n"
       ]
      },
      {
       "output_type": "stream",
       "stream": "stdout",
       "text": [
        "Processing Lactobacillus ruminis ATCC 27782\r\n"
       ]
      },
      {
       "output_type": "stream",
       "stream": "stdout",
       "text": [
        "Processing Flexibacter litoralis DSM 6794\r\n"
       ]
      },
      {
       "output_type": "stream",
       "stream": "stdout",
       "text": [
        "Processing Brucella abortus S19\r\n"
       ]
      },
      {
       "output_type": "stream",
       "stream": "stdout",
       "text": [
        "Processing Clostridium baratii str. Sullivan\r\n"
       ]
      },
      {
       "output_type": "stream",
       "stream": "stdout",
       "text": [
        "Processing Rickettsia akari str. Hartford\r\n"
       ]
      },
      {
       "output_type": "stream",
       "stream": "stdout",
       "text": [
        "Processing Meiothermus silvanus DSM 9946\r\n"
       ]
      },
      {
       "output_type": "stream",
       "stream": "stdout",
       "text": [
        "Processing Blattabacterium sp. (Panesthia angustipennis spadica) str. BPAA\r\n"
       ]
      },
      {
       "output_type": "stream",
       "stream": "stdout",
       "text": [
        "Processing Chlamydophila pneumoniae LPCoLN\r\n"
       ]
      },
      {
       "output_type": "stream",
       "stream": "stdout",
       "text": [
        "Processing Bifidobacterium breve JCM 7019\r\n"
       ]
      },
      {
       "output_type": "stream",
       "stream": "stdout",
       "text": [
        "Processing Rhizobium leguminosarum bv. viciae 3841\r\n"
       ]
      },
      {
       "output_type": "stream",
       "stream": "stdout",
       "text": [
        "Processing Kangiella koreensis DSM 16069\r\n"
       ]
      },
      {
       "output_type": "stream",
       "stream": "stdout",
       "text": [
        "Processing Burkholderia pseudomallei HBPUB10134a\r\n"
       ]
      },
      {
       "output_type": "stream",
       "stream": "stdout",
       "text": [
        "Processing Chlorobium luteolum DSM 273\r\n"
       ]
      },
      {
       "output_type": "stream",
       "stream": "stdout",
       "text": [
        "Processing Alkalilimnicola ehrlichii MLHE-1\r\n"
       ]
      },
      {
       "output_type": "stream",
       "stream": "stdout",
       "text": [
        "Processing Shimwellia blattae DSM 4481 = NBRC 105725\r\n"
       ]
      },
      {
       "output_type": "stream",
       "stream": "stdout",
       "text": [
        "Processing Aeromonas media WS\r\n"
       ]
      },
      {
       "output_type": "stream",
       "stream": "stdout",
       "text": [
        "Processing Pseudoalteromonas haloplanktis TAC125\r\n"
       ]
      },
      {
       "output_type": "stream",
       "stream": "stdout",
       "text": [
        "Processing Rhodococcus pyridinivorans SB3094\r\n"
       ]
      },
      {
       "output_type": "stream",
       "stream": "stdout",
       "text": [
        "Processing Sphingobium japonicum UT26S\r\n"
       ]
      },
      {
       "output_type": "stream",
       "stream": "stdout",
       "text": [
        "Processing Aromatoleum aromaticum EbN1\r\n"
       ]
      },
      {
       "output_type": "stream",
       "stream": "stdout",
       "text": [
        "Processing Chlorobium chlorochromatii CaD3\r\n"
       ]
      },
      {
       "output_type": "stream",
       "stream": "stdout",
       "text": [
        "Processing Bacillus pseudofirmus OF4\r\n"
       ]
      },
      {
       "output_type": "stream",
       "stream": "stdout",
       "text": [
        "Processing Candidatus Tremblaya phenacola PAVE\r\n"
       ]
      },
      {
       "output_type": "stream",
       "stream": "stdout",
       "text": [
        "Processing Prevotella dentalis DSM 3688\r\n"
       ]
      },
      {
       "output_type": "stream",
       "stream": "stdout",
       "text": [
        "Processing Halothiobacillus neapolitanus c2\r\n"
       ]
      },
      {
       "output_type": "stream",
       "stream": "stdout",
       "text": [
        "Processing Allochromatium vinosum DSM 180\r\n",
        "Processing Thermotoga caldifontis AZM44c09\r\n"
       ]
      },
      {
       "output_type": "stream",
       "stream": "stdout",
       "text": [
        "Processing Phaeobacter gallaeciensis 2.10\r\n"
       ]
      },
      {
       "output_type": "stream",
       "stream": "stdout",
       "text": [
        "Processing Arthrobacter phenanthrenivorans Sphe3\r\n",
        "Processing Acholeplasma laidlawii PG-8A\r\n"
       ]
      },
      {
       "output_type": "stream",
       "stream": "stdout",
       "text": [
        "Processing Verminephrobacter eiseniae EF01-2\r\n"
       ]
      },
      {
       "output_type": "stream",
       "stream": "stdout",
       "text": [
        "Processing Gramella forsetii KT0803\r\n"
       ]
      },
      {
       "output_type": "stream",
       "stream": "stdout",
       "text": [
        "Processing Thermovirga lienii DSM 17291\r\n"
       ]
      },
      {
       "output_type": "stream",
       "stream": "stdout",
       "text": [
        "Processing Campylobacter curvus 525.92\r\n"
       ]
      },
      {
       "output_type": "stream",
       "stream": "stdout",
       "text": [
        "Processing Cellvibrio japonicus Ueda107\r\n",
        "Processing Aequorivita sublithincola DSM 14238\r\n"
       ]
      },
      {
       "output_type": "stream",
       "stream": "stdout",
       "text": [
        "Processing Corynebacterium diphtheriae VA01\r\n"
       ]
      },
      {
       "output_type": "stream",
       "stream": "stdout",
       "text": [
        "Processing Enterobacter asburiae LF7a\r\n"
       ]
      },
      {
       "output_type": "stream",
       "stream": "stdout",
       "text": [
        "Processing Carboxydothermus hydrogenoformans Z-2901\r\n",
        "Processing Bradyrhizobium diazoefficiens USDA 110\r\n"
       ]
      },
      {
       "output_type": "stream",
       "stream": "stdout",
       "text": [
        "Processing Prevotella denticola F0289\r\n"
       ]
      },
      {
       "output_type": "stream",
       "stream": "stdout",
       "text": [
        "Processing Sulfuricurvum kujiense DSM 16994\r\n"
       ]
      },
      {
       "output_type": "stream",
       "stream": "stdout",
       "text": [
        "Processing Leptospira interrogans serovar Lai str. 56601\r\n"
       ]
      },
      {
       "output_type": "stream",
       "stream": "stdout",
       "text": [
        "Processing Candidatus Sulcia muelleri PSPU\r\n",
        "Processing Syntrophobotulus glycolicus DSM 8271\r\n"
       ]
      },
      {
       "output_type": "stream",
       "stream": "stdout",
       "text": [
        "Processing [Clostridium] stercorarium subsp. stercorarium DSM 8532\r\n"
       ]
      },
      {
       "output_type": "stream",
       "stream": "stdout",
       "text": [
        "Processing Roseobacter denitrificans OCh 114\r\n",
        "Processing Dechlorosoma suillum PS\r\n"
       ]
      },
      {
       "output_type": "stream",
       "stream": "stdout",
       "text": [
        "Processing Gemmatimonas aurantiaca T-27\r\n"
       ]
      },
      {
       "output_type": "stream",
       "stream": "stdout",
       "text": [
        "Processing Echinicola vietnamensis DSM 17526\r\n"
       ]
      },
      {
       "output_type": "stream",
       "stream": "stdout",
       "text": [
        "Processing Listeria welshimeri serovar 6b str. SLCC5334\r\n",
        "Processing Bradyrhizobium oligotrophicum S58\r\n"
       ]
      },
      {
       "output_type": "stream",
       "stream": "stdout",
       "text": [
        "Processing Lysinibacillus sphaericus C3-41\r\n"
       ]
      },
      {
       "output_type": "stream",
       "stream": "stdout",
       "text": [
        "Processing Symbiobacterium thermophilum IAM 14863\r\n"
       ]
      },
      {
       "output_type": "stream",
       "stream": "stdout",
       "text": [
        "Processing Staphylococcus pasteuri SP1\r\n"
       ]
      },
      {
       "output_type": "stream",
       "stream": "stdout",
       "text": [
        "Processing Staphylococcus warneri SG1\r\n"
       ]
      },
      {
       "output_type": "stream",
       "stream": "stdout",
       "text": [
        "Processing Desulfovibrio desulfuricans subsp. desulfuricans str. ATCC 27774\r\n"
       ]
      },
      {
       "output_type": "stream",
       "stream": "stdout",
       "text": [
        "Processing Escherichia coli O157:H7 str. SS52\r\n"
       ]
      },
      {
       "output_type": "stream",
       "stream": "stdout",
       "text": [
        "Processing Conexibacter woesei DSM 14684\r\n"
       ]
      },
      {
       "output_type": "stream",
       "stream": "stdout",
       "text": [
        "Processing Mycoplasma haemofelis str. Langford 1\r\n"
       ]
      },
      {
       "output_type": "stream",
       "stream": "stdout",
       "text": [
        "Processing Thermoanaerobacterium xylanolyticum LX-11\r\n",
        "Processing Pediococcus pentosaceus ATCC 25745\r\n"
       ]
      },
      {
       "output_type": "stream",
       "stream": "stdout",
       "text": [
        "Processing Brucella ovis ATCC 25840\r\n"
       ]
      },
      {
       "output_type": "stream",
       "stream": "stdout",
       "text": [
        "Processing Komagataeibacter medellinensis NBRC 3288\r\n"
       ]
      },
      {
       "output_type": "stream",
       "stream": "stdout",
       "text": [
        "Processing Oenococcus oeni PSU-1\r\n",
        "Processing Rahnella aquatilis HX2\r\n"
       ]
      },
      {
       "output_type": "stream",
       "stream": "stdout",
       "text": [
        "Processing Pelobacter carbinolicus DSM 2380\r\n"
       ]
      },
      {
       "output_type": "stream",
       "stream": "stdout",
       "text": [
        "Processing Geobacillus thermodenitrificans NG80-2\r\n"
       ]
      },
      {
       "output_type": "stream",
       "stream": "stdout",
       "text": [
        "Processing Mycoplasma mobile 163K\r\n"
       ]
      },
      {
       "output_type": "stream",
       "stream": "stdout",
       "text": [
        "Processing Halothermothrix orenii H 168\r\n",
        "Processing Muricauda ruestringensis DSM 13258\r\n",
        "Processing Chroococcidiopsis thermalis PCC 7203\r\n"
       ]
      },
      {
       "output_type": "stream",
       "stream": "stdout",
       "text": [
        "Processing Shewanella pealeana ATCC 700345\r\n"
       ]
      },
      {
       "output_type": "stream",
       "stream": "stdout",
       "text": [
        "Processing Listeria ivanovii subsp. ivanovii PAM 55\r\n"
       ]
      },
      {
       "output_type": "stream",
       "stream": "stdout",
       "text": [
        "Processing Cellulophaga baltica NN016038\r\n"
       ]
      },
      {
       "output_type": "stream",
       "stream": "stdout",
       "text": [
        "Processing Bacillus anthracis str. H9401\r\n"
       ]
      },
      {
       "output_type": "stream",
       "stream": "stdout",
       "text": [
        "Processing Lactobacillus delbrueckii subsp. bulgaricus ND02\r\n",
        "Processing Glaciecola nitratireducens FR1064\r\n"
       ]
      },
      {
       "output_type": "stream",
       "stream": "stdout",
       "text": [
        "Processing Spirochaeta smaragdinae DSM 11293\r\n"
       ]
      },
      {
       "output_type": "stream",
       "stream": "stdout",
       "text": [
        "Processing Azotobacter vinelandii CA\r\n"
       ]
      },
      {
       "output_type": "stream",
       "stream": "stdout",
       "text": [
        "Processing Enterococcus hirae ATCC 9790\r\n"
       ]
      },
      {
       "output_type": "stream",
       "stream": "stdout",
       "text": [
        "Processing Exiguobacterium antarcticum B7\r\n"
       ]
      },
      {
       "output_type": "stream",
       "stream": "stdout",
       "text": [
        "Processing Runella slithyformis DSM 19594\r\n"
       ]
      },
      {
       "output_type": "stream",
       "stream": "stdout",
       "text": [
        "Processing Baumannia cicadellinicola str. Hc (Homalodisca coagulata)\r\n"
       ]
      },
      {
       "output_type": "stream",
       "stream": "stdout",
       "text": [
        "Processing Thermincola potens JR\r\n"
       ]
      },
      {
       "output_type": "stream",
       "stream": "stdout",
       "text": [
        "Processing Burkholderia xenovorans LB400\r\n",
        "Processing Methylobacterium nodulans ORS 2060\r\n"
       ]
      },
      {
       "output_type": "stream",
       "stream": "stdout",
       "text": [
        "Processing Streptococcus mitis B6\r\n"
       ]
      },
      {
       "output_type": "stream",
       "stream": "stdout",
       "text": [
        "Processing Neisseria meningitidis M01-240355\r\n"
       ]
      },
      {
       "output_type": "stream",
       "stream": "stdout",
       "text": [
        "Processing Streptococcus pasteurianus ATCC 43144\r\n"
       ]
      },
      {
       "output_type": "stream",
       "stream": "stdout",
       "text": [
        "Processing Stackebrandtia nassauensis DSM 44728\r\n"
       ]
      },
      {
       "output_type": "stream",
       "stream": "stdout",
       "text": [
        "Processing Idiomarina loihiensis GSL 199\r\n"
       ]
      },
      {
       "output_type": "stream",
       "stream": "stdout",
       "text": [
        "Processing Ehrlichia muris AS145\r\n"
       ]
      },
      {
       "output_type": "stream",
       "stream": "stdout",
       "text": [
        "Processing Microlunatus phosphovorus NM-1\r\n"
       ]
      },
      {
       "output_type": "stream",
       "stream": "stdout",
       "text": [
        "Processing Alicycliphilus denitrificans BC\r\n"
       ]
      },
      {
       "output_type": "stream",
       "stream": "stdout",
       "text": [
        "Processing Clostridium cellulovorans 743B\r\n"
       ]
      },
      {
       "output_type": "stream",
       "stream": "stdout",
       "text": [
        "Processing Nitrosococcus halophilus Nc 4\r\n",
        "Processing Propionibacterium acidipropionici ATCC 4875\r\n",
        "Processing Candidatus Hepatoplasma crinochetorum Av\r\n"
       ]
      },
      {
       "output_type": "stream",
       "stream": "stdout",
       "text": [
        "Processing Corynebacterium urealyticum DSM 7109\r\n",
        "Processing Synechocystis sp. PCC 6803 substr. PCC-P\r\n"
       ]
      },
      {
       "output_type": "stream",
       "stream": "stdout",
       "text": [
        "Processing Marinomonas mediterranea MMB-1\r\n"
       ]
      },
      {
       "output_type": "stream",
       "stream": "stdout",
       "text": [
        "Processing Desulfurispirillum indicum S5\r\n"
       ]
      },
      {
       "output_type": "stream",
       "stream": "stdout",
       "text": [
        "Processing Rothia mucilaginosa DY-18\r\n"
       ]
      },
      {
       "output_type": "stream",
       "stream": "stdout",
       "text": [
        "Processing Clostridium saccharoperbutylacetonicum N1-4(HMT)\r\n"
       ]
      },
      {
       "output_type": "stream",
       "stream": "stdout",
       "text": [
        "Processing Vibrio vulnificus MO6-24/O\r\n"
       ]
      },
      {
       "output_type": "stream",
       "stream": "stdout",
       "text": [
        "Processing Bacillus weihenstephanensis KBAB4\r\n",
        "Processing Bacillus subtilis QB928\r\n"
       ]
      },
      {
       "output_type": "stream",
       "stream": "stdout",
       "text": [
        "Processing Geodermatophilus obscurus DSM 43160\r\n",
        "Processing Candidatus Kinetoplastibacterium oncopeltii TCC290E\r\n"
       ]
      },
      {
       "output_type": "stream",
       "stream": "stdout",
       "text": [
        "Processing Prevotella sp. oral taxon 299 str. F0039\r\n",
        "Processing Sphingopyxis alaskensis RB2256\r\n"
       ]
      },
      {
       "output_type": "stream",
       "stream": "stdout",
       "text": [
        "Processing [Clostridium] saccharolyticum WM1\r\n"
       ]
      },
      {
       "output_type": "stream",
       "stream": "stdout",
       "text": [
        "Processing Tetragenococcus halophilus NBRC 12172\r\n"
       ]
      },
      {
       "output_type": "stream",
       "stream": "stdout",
       "text": [
        "Processing Helicobacter mustelae 12198\r\n",
        "Processing Providencia stuartii MRSN 2154\r\n"
       ]
      },
      {
       "output_type": "stream",
       "stream": "stdout",
       "text": [
        "Processing Cellulomonas fimi ATCC 484\r\n"
       ]
      },
      {
       "output_type": "stream",
       "stream": "stdout",
       "text": [
        "Processing Pseudomonas aeruginosa VRFPA04\r\n"
       ]
      },
      {
       "output_type": "stream",
       "stream": "stdout",
       "text": [
        "Processing Microcystis aeruginosa NIES-843\r\n"
       ]
      },
      {
       "output_type": "stream",
       "stream": "stdout",
       "text": [
        "Processing Candidatus Blochmannia vafer str. BVAF\r\n"
       ]
      },
      {
       "output_type": "stream",
       "stream": "stdout",
       "text": [
        "Processing Acidaminococcus fermentans DSM 20731\r\n"
       ]
      },
      {
       "output_type": "stream",
       "stream": "stdout",
       "text": [
        "Processing Streptococcus agalactiae 2603V/R\r\n"
       ]
      },
      {
       "output_type": "stream",
       "stream": "stdout",
       "text": [
        "Processing Brucella microti CCM 4915\r\n"
       ]
      },
      {
       "output_type": "stream",
       "stream": "stdout",
       "text": [
        "Processing Citrobacter rodentium ICC168\r\n"
       ]
      },
      {
       "output_type": "stream",
       "stream": "stdout",
       "text": [
        "Processing Wolbachia endosymbiont wPip_Mol of Culex molestus\r\n"
       ]
      },
      {
       "output_type": "stream",
       "stream": "stdout",
       "text": [
        "Processing Phenylobacterium zucineum HLK1\r\n",
        "Processing Kytococcus sedentarius DSM 20547\r\n"
       ]
      },
      {
       "output_type": "stream",
       "stream": "stdout",
       "text": [
        "Processing Streptomyces albus J1074\r\n"
       ]
      },
      {
       "output_type": "stream",
       "stream": "stdout",
       "text": [
        "Processing Mycoplasma hyopneumoniae 168-L\r\n"
       ]
      },
      {
       "output_type": "stream",
       "stream": "stdout",
       "text": [
        "Processing Dichelobacter nodosus VCS1703A\r\n"
       ]
      },
      {
       "output_type": "stream",
       "stream": "stdout",
       "text": [
        "Processing Salmonella enterica subsp. arizonae serovar 62:z4,z23:-\r\n"
       ]
      },
      {
       "output_type": "stream",
       "stream": "stdout",
       "text": [
        "Processing Ornithobacterium rhinotracheale ORT-UMN 88\r\n"
       ]
      },
      {
       "output_type": "stream",
       "stream": "stdout",
       "text": [
        "Processing Enterococcus faecalis DENG1\r\n"
       ]
      },
      {
       "output_type": "stream",
       "stream": "stdout",
       "text": [
        "Processing Arcobacter butzleri RM4018\r\n"
       ]
      },
      {
       "output_type": "stream",
       "stream": "stdout",
       "text": [
        "Processing Corynebacterium variabile DSM 44702\r\n",
        "Processing Selenomonas ruminantium subsp. lactilytica TAM6421\r\n"
       ]
      },
      {
       "output_type": "stream",
       "stream": "stdout",
       "text": [
        "Processing Pseudomonas brassicacearum subsp. brassicacearum NFM421\r\n"
       ]
      },
      {
       "output_type": "stream",
       "stream": "stdout",
       "text": [
        "Processing Klebsiella pneumoniae subsp. pneumoniae KPNIH27\r\n"
       ]
      },
      {
       "output_type": "stream",
       "stream": "stdout",
       "text": [
        "Processing Thermus scotoductus SA-01\r\n"
       ]
      },
      {
       "output_type": "stream",
       "stream": "stdout",
       "text": [
        "Processing Pseudomonas syringae pv. tomato str. DC3000\r\n",
        "Processing Gardnerella vaginalis HMP9231\r\n"
       ]
      },
      {
       "output_type": "stream",
       "stream": "stdout",
       "text": [
        "Processing Truepera radiovictrix DSM 17093\r\n"
       ]
      },
      {
       "output_type": "stream",
       "stream": "stdout",
       "text": [
        "Processing Rickettsia parkeri str. Portsmouth\r\n"
       ]
      },
      {
       "output_type": "stream",
       "stream": "stdout",
       "text": [
        "Processing Anaerobaculum mobile DSM 13181\r\n"
       ]
      },
      {
       "output_type": "stream",
       "stream": "stdout",
       "text": [
        "Processing Thioalkalivibrio nitratireducens DSM 14787\r\n",
        "Processing Rothia dentocariosa ATCC 17931\r\n"
       ]
      },
      {
       "output_type": "stream",
       "stream": "stdout",
       "text": [
        "Processing Dechloromonas aromatica RCB\r\n",
        "Processing Rickettsia rhipicephali str. 3-7-female6-CWPP\r\n"
       ]
      },
      {
       "output_type": "stream",
       "stream": "stdout",
       "text": [
        "Processing Brucella ceti TE28753-12\r\n"
       ]
      },
      {
       "output_type": "stream",
       "stream": "stdout",
       "text": [
        "Processing Actinosynnema mirum DSM 43827\r\n"
       ]
      },
      {
       "output_type": "stream",
       "stream": "stdout",
       "text": [
        "Processing Marinobacter adhaerens HP15\r\n"
       ]
      },
      {
       "output_type": "stream",
       "stream": "stdout",
       "text": [
        "Processing Methylotenera versatilis 301\r\n"
       ]
      },
      {
       "output_type": "stream",
       "stream": "stdout",
       "text": [
        "Processing Pseudomonas cichorii JBC1\r\n"
       ]
      },
      {
       "output_type": "stream",
       "stream": "stdout",
       "text": [
        "Processing Gloeobacter violaceus PCC 7421\r\n"
       ]
      },
      {
       "output_type": "stream",
       "stream": "stdout",
       "text": [
        "Processing Mycobacterium marinum M\r\n"
       ]
      },
      {
       "output_type": "stream",
       "stream": "stdout",
       "text": [
        "Processing Candidatus Carsonella ruddii CS isolate Thao2000\r\n",
        "Processing Corynebacterium terpenotabidum Y-11\r\n"
       ]
      },
      {
       "output_type": "stream",
       "stream": "stdout",
       "text": [
        "Processing Hyphomicrobium nitrativorans NL23\r\n"
       ]
      },
      {
       "output_type": "stream",
       "stream": "stdout",
       "text": [
        "Processing Gallionella capsiferriformans ES-2\r\n"
       ]
      },
      {
       "output_type": "stream",
       "stream": "stdout",
       "text": [
        "Processing Cellulophaga lytica DSM 7489\r\n"
       ]
      },
      {
       "output_type": "stream",
       "stream": "stdout",
       "text": [
        "Processing Erwinia tasmaniensis Et1/99\r\n",
        "Processing Sebaldella termitidis ATCC 33386\r\n"
       ]
      },
      {
       "output_type": "stream",
       "stream": "stdout",
       "text": [
        "Processing Clostridium tetani E88\r\n"
       ]
      },
      {
       "output_type": "stream",
       "stream": "stdout",
       "text": [
        "Processing Bacillus megaterium NBRC 15308 = ATCC 14581\r\n"
       ]
      },
      {
       "output_type": "stream",
       "stream": "stdout",
       "text": [
        "Processing Streptococcus parasanguinis ATCC 15912\r\n"
       ]
      },
      {
       "output_type": "stream",
       "stream": "stdout",
       "text": [
        "Processing Geobacter uraniireducens Rf4\r\n"
       ]
      },
      {
       "output_type": "stream",
       "stream": "stdout",
       "text": [
        "Processing Pseudomonas chlororaphis subsp. aurantiaca\r\n"
       ]
      },
      {
       "output_type": "stream",
       "stream": "stdout",
       "text": [
        "Processing Pectobacterium atrosepticum SCRI1043\r\n",
        "Processing Spiroplasma taiwanense CT-1\r\n"
       ]
      },
      {
       "output_type": "stream",
       "stream": "stdout",
       "text": [
        "Processing Mycobacterium avium 104\r\n",
        "Processing Neorickettsia helminthoeca str. Oregon\r\n"
       ]
      },
      {
       "output_type": "stream",
       "stream": "stdout",
       "text": [
        "Processing Pseudomonas syringae pv. phaseolicola 1448A\r\n"
       ]
      },
      {
       "output_type": "stream",
       "stream": "stdout",
       "text": [
        "Processing Saccharophagus degradans 2-40\r\n",
        "Processing Dyadobacter fermentans DSM 18053\r\n"
       ]
      },
      {
       "output_type": "stream",
       "stream": "stdout",
       "text": [
        "Processing Bifidobacterium dentium Bd1\r\n"
       ]
      },
      {
       "output_type": "stream",
       "stream": "stdout",
       "text": [
        "Processing Rickettsia conorii str. Malish 7\r\n"
       ]
      },
      {
       "output_type": "stream",
       "stream": "stdout",
       "text": [
        "Processing Chromohalobacter salexigens DSM 3043\r\n"
       ]
      },
      {
       "output_type": "stream",
       "stream": "stdout",
       "text": [
        "Processing Rickettsia japonica YH\r\n"
       ]
      },
      {
       "output_type": "stream",
       "stream": "stdout",
       "text": [
        "Processing Starkeya novella DSM 506\r\n"
       ]
      },
      {
       "output_type": "stream",
       "stream": "stdout",
       "text": [
        "Processing Spiroplasma culicicola AES-1\r\n"
       ]
      },
      {
       "output_type": "stream",
       "stream": "stdout",
       "text": [
        "Processing Shewanella woodyi ATCC 51908\r\n"
       ]
      },
      {
       "output_type": "stream",
       "stream": "stdout",
       "text": [
        "Processing Gluconobacter oxydans DSM 3504\r\n"
       ]
      },
      {
       "output_type": "stream",
       "stream": "stdout",
       "text": [
        "Processing Erwinia pyrifoliae Ep1/96\r\n",
        "Processing Sulfurimonas autotrophica DSM 16294\r\n"
       ]
      },
      {
       "output_type": "stream",
       "stream": "stdout",
       "text": [
        "Processing Burkholderia rhizoxinica HKI 454\r\n"
       ]
      },
      {
       "output_type": "stream",
       "stream": "stdout",
       "text": [
        "Processing Aquifex aeolicus VF5\r\n"
       ]
      },
      {
       "output_type": "stream",
       "stream": "stdout",
       "text": [
        "Processing Pantoea ananatis PA13\r\n"
       ]
      },
      {
       "output_type": "stream",
       "stream": "stdout",
       "text": [
        "Processing Novosphingobium aromaticivorans DSM 12444\r\n"
       ]
      },
      {
       "output_type": "stream",
       "stream": "stdout",
       "text": [
        "Processing Shewanella sediminis HAW-EB3\r\n"
       ]
      },
      {
       "output_type": "stream",
       "stream": "stdout",
       "text": [
        "Processing Desulfovibrio alaskensis G20\r\n"
       ]
      },
      {
       "output_type": "stream",
       "stream": "stdout",
       "text": [
        "Processing Halorhodospira halophila SL1\r\n"
       ]
      },
      {
       "output_type": "stream",
       "stream": "stdout",
       "text": [
        "Processing Candidatus Solibacter usitatus Ellin6076\r\n"
       ]
      },
      {
       "output_type": "stream",
       "stream": "stdout",
       "text": [
        "Processing Paenibacillus mucilaginosus K02\r\n"
       ]
      },
      {
       "output_type": "stream",
       "stream": "stdout",
       "text": [
        "Processing Weissella koreensis KACC 15510\r\n"
       ]
      },
      {
       "output_type": "stream",
       "stream": "stdout",
       "text": [
        "Processing Halanaerobium praevalens DSM 2228\r\n"
       ]
      },
      {
       "output_type": "stream",
       "stream": "stdout",
       "text": [
        "Processing Brachybacterium faecium DSM 4810\r\n"
       ]
      },
      {
       "output_type": "stream",
       "stream": "stdout",
       "text": [
        "Processing Propionibacterium avidum 44067\r\n"
       ]
      },
      {
       "output_type": "stream",
       "stream": "stdout",
       "text": [
        "Processing Leuconostoc gelidum JB7\r\n"
       ]
      },
      {
       "output_type": "stream",
       "stream": "stdout",
       "text": [
        "Processing Strawberry lethal yellows phytoplasma (CPA) str. NZSb11\r\n"
       ]
      },
      {
       "output_type": "stream",
       "stream": "stdout",
       "text": [
        "Processing Chloroflexus aggregans DSM 9485\r\n"
       ]
      },
      {
       "output_type": "stream",
       "stream": "stdout",
       "text": [
        "Processing Listonella anguillarum M3\r\n"
       ]
      },
      {
       "output_type": "stream",
       "stream": "stdout",
       "text": [
        "Processing Trueperella pyogenes TP8\r\n"
       ]
      },
      {
       "output_type": "stream",
       "stream": "stdout",
       "text": [
        "Processing Corynebacterium aurimucosum ATCC 700975\r\n"
       ]
      },
      {
       "output_type": "stream",
       "stream": "stdout",
       "text": [
        "Processing Leptospira borgpetersenii serovar Hardjo-bovis str. L550\r\n",
        "Processing Klebsiella oxytoca KONIH1\r\n"
       ]
      },
      {
       "output_type": "stream",
       "stream": "stdout",
       "text": [
        "Processing Staphylococcus saprophyticus subsp. saprophyticus ATCC 15305\r\n"
       ]
      },
      {
       "output_type": "stream",
       "stream": "stdout",
       "text": [
        "Processing Mycoplasma leachii PG50\r\n"
       ]
      },
      {
       "output_type": "stream",
       "stream": "stdout",
       "text": [
        "Processing Desulfovibrio salexigens DSM 2638\r\n",
        "Processing Lactobacillus salivarius CECT 5713\r\n"
       ]
      },
      {
       "output_type": "stream",
       "stream": "stdout",
       "text": [
        "Processing Mycobacterium canettii CIPT 140010059\r\n"
       ]
      },
      {
       "output_type": "stream",
       "stream": "stdout",
       "text": [
        "Processing Legionella oakridgensis ATCC 33761 = DSM 21215\r\n"
       ]
      },
      {
       "output_type": "stream",
       "stream": "stdout",
       "text": [
        "Processing Thiomicrospira crunogena XCL-2\r\n"
       ]
      },
      {
       "output_type": "stream",
       "stream": "stdout",
       "text": [
        "Processing Pseudoxanthomonas spadix BD-a59\r\n",
        "Processing Mycobacterium vanbaalenii PYR-1\r\n"
       ]
      },
      {
       "output_type": "stream",
       "stream": "stdout",
       "text": [
        "Processing Bartonella bacilliformis KC583\r\n"
       ]
      },
      {
       "output_type": "stream",
       "stream": "stdout",
       "text": [
        "Processing Thermovibrio ammonificans HB-1\r\n"
       ]
      },
      {
       "output_type": "stream",
       "stream": "stdout",
       "text": [
        "Processing Bacillus cellulosilyticus DSM 2522\r\n",
        "Processing Acetohalobium arabaticum DSM 5501\r\n"
       ]
      },
      {
       "output_type": "stream",
       "stream": "stdout",
       "text": [
        "Processing Thermotoga maritima MSB8\r\n"
       ]
      },
      {
       "output_type": "stream",
       "stream": "stdout",
       "text": [
        "Processing Tolumonas auensis DSM 9187\r\n",
        "Processing Serratia symbiotica str. 'Cinara cedri'\r\n"
       ]
      },
      {
       "output_type": "stream",
       "stream": "stdout",
       "text": [
        "Processing Chlorobium tepidum TLS\r\n"
       ]
      },
      {
       "output_type": "stream",
       "stream": "stdout",
       "text": [
        "Processing Brucella pinnipedialis B2/94\r\n"
       ]
      },
      {
       "output_type": "stream",
       "stream": "stdout",
       "text": [
        "Processing Cyanobacterium stanieri PCC 7202\r\n"
       ]
      },
      {
       "output_type": "stream",
       "stream": "stdout",
       "text": [
        "Processing Desulfomicrobium baculatum DSM 4028\r\n"
       ]
      },
      {
       "output_type": "stream",
       "stream": "stdout",
       "text": [
        "Processing Methylibium petroleiphilum PM1\r\n",
        "Processing Thermodesulfobacterium commune DSM 2178\r\n",
        "Processing Lactobacillus rhamnosus Lc 705\r\n"
       ]
      },
      {
       "output_type": "stream",
       "stream": "stdout",
       "text": [
        "Processing Ehrlichia canis str. Jake\r\n"
       ]
      },
      {
       "output_type": "stream",
       "stream": "stdout",
       "text": [
        "Processing Rickettsia canadensis str. McKiel\r\n"
       ]
      },
      {
       "output_type": "stream",
       "stream": "stdout",
       "text": [
        "Processing Segniliparus rotundus DSM 44985\r\n"
       ]
      },
      {
       "output_type": "stream",
       "stream": "stdout",
       "text": [
        "Processing Borrelia turicatae 91E135\r\n"
       ]
      },
      {
       "output_type": "stream",
       "stream": "stdout",
       "text": [
        "Processing Streptomyces scabiei 87.22\r\n"
       ]
      },
      {
       "output_type": "stream",
       "stream": "stdout",
       "text": [
        "Processing Gordonia bronchialis DSM 43247\r\n"
       ]
      },
      {
       "output_type": "stream",
       "stream": "stdout",
       "text": [
        "Processing Meiothermus ruber DSM 1279\r\n"
       ]
      },
      {
       "output_type": "stream",
       "stream": "stdout",
       "text": [
        "Processing Thalassolituus oleivorans MIL-1\r\n"
       ]
      },
      {
       "output_type": "stream",
       "stream": "stdout",
       "text": [
        "Processing Lactobacillus brevis ATCC 367\r\n"
       ]
      },
      {
       "output_type": "stream",
       "stream": "stdout",
       "text": [
        "Processing Deinococcus radiodurans R1\r\n"
       ]
      },
      {
       "output_type": "stream",
       "stream": "stdout",
       "text": [
        "Processing Actinobacillus succinogenes 130Z\r\n"
       ]
      },
      {
       "output_type": "stream",
       "stream": "stdout",
       "text": [
        "Processing Thermoanaerobacter pseudethanolicus ATCC 33223\r\n"
       ]
      },
      {
       "output_type": "stream",
       "stream": "stdout",
       "text": [
        "Processing Neorickettsia risticii str. Illinois\r\n",
        "Processing Turneriella parva DSM 21527\r\n"
       ]
      },
      {
       "output_type": "stream",
       "stream": "stdout",
       "text": [
        "Processing Propionibacterium propionicum F0230a\r\n"
       ]
      },
      {
       "output_type": "stream",
       "stream": "stdout",
       "text": [
        "Processing Acidaminococcus intestini RyC-MR95\r\n"
       ]
      },
      {
       "output_type": "stream",
       "stream": "stdout",
       "text": [
        "Processing Corynebacterium falsenii DSM 44353\r\n"
       ]
      },
      {
       "output_type": "stream",
       "stream": "stdout",
       "text": [
        "Processing Aggregatibacter actinomycetemcomitans ANH9381\r\n",
        "Processing Desulfotomaculum acetoxidans DSM 771\r\n"
       ]
      },
      {
       "output_type": "stream",
       "stream": "stdout",
       "text": [
        "Processing Bacillus bombysepticus str. Wang\r\n"
       ]
      },
      {
       "output_type": "stream",
       "stream": "stdout",
       "text": [
        "Processing Asticcacaulis excentricus CB 48\r\n"
       ]
      },
      {
       "output_type": "stream",
       "stream": "stdout",
       "text": [
        "Processing Borrelia afzelii Tom3107\r\n"
       ]
      },
      {
       "output_type": "stream",
       "stream": "stdout",
       "text": [
        "Processing Thioflavicoccus mobilis 8321\r\n"
       ]
      },
      {
       "output_type": "stream",
       "stream": "stdout",
       "text": [
        "Processing Thioalkalivibrio thiocyanoxidans ARh 4\r\n",
        "Processing Desulfovibrio africanus str. Walvis Bay\r\n"
       ]
      },
      {
       "output_type": "stream",
       "stream": "stdout",
       "text": [
        "Processing Candidatus Cloacimonas acidaminovorans str. Evry\r\n"
       ]
      },
      {
       "output_type": "stream",
       "stream": "stdout",
       "text": [
        "Processing Haliscomenobacter hydrossis DSM 1100\r\n"
       ]
      },
      {
       "output_type": "stream",
       "stream": "stdout",
       "text": [
        "Processing Myxococcus xanthus DK 1622\r\n"
       ]
      },
      {
       "output_type": "stream",
       "stream": "stdout",
       "text": [
        "Processing Solitalea canadensis DSM 3403\r\n"
       ]
      },
      {
       "output_type": "stream",
       "stream": "stdout",
       "text": [
        "Processing Waddlia chondrophila WSU 86-1044\r\n"
       ]
      },
      {
       "output_type": "stream",
       "stream": "stdout",
       "text": [
        "Processing Mycobacterium chubuense NBB4\r\n"
       ]
      },
      {
       "output_type": "stream",
       "stream": "stdout",
       "text": [
        "Processing Lachnoclostridium phytofermentans ISDg\r\n",
        "Processing Deinococcus geothermalis DSM 11300\r\n"
       ]
      },
      {
       "output_type": "stream",
       "stream": "stdout",
       "text": [
        "Processing Serratia marcescens SM39\r\n"
       ]
      },
      {
       "output_type": "stream",
       "stream": "stdout",
       "text": [
        "Processing Streptococcus oligofermentans AS 1.3089\r\n"
       ]
      },
      {
       "output_type": "stream",
       "stream": "stdout",
       "text": [
        "Processing Rickettsia montanensis str. OSU 85-930\r\n"
       ]
      },
      {
       "output_type": "stream",
       "stream": "stdout",
       "text": [
        "Processing Clostridium botulinum A str. Hall\r\n",
        "Processing Candidatus Amoebophilus asiaticus 5a2\r\n"
       ]
      },
      {
       "output_type": "stream",
       "stream": "stdout",
       "text": [
        "Processing Streptomyces collinus Tu 365\r\n",
        "Processing Geobacter lovleyi SZ\r\n"
       ]
      },
      {
       "output_type": "stream",
       "stream": "stdout",
       "text": [
        "Processing Burkholderia cenocepacia J2315\r\n"
       ]
      },
      {
       "output_type": "stream",
       "stream": "stdout",
       "text": [
        "Processing Actinoplanes friuliensis DSM 7358\r\n"
       ]
      },
      {
       "output_type": "stream",
       "stream": "stdout",
       "text": [
        "Processing Legionella longbeachae NSW150\r\n"
       ]
      },
      {
       "output_type": "stream",
       "stream": "stdout",
       "text": [
        "Processing Burkholderia phenoliruptrix BR3459a\r\n"
       ]
      },
      {
       "output_type": "stream",
       "stream": "stdout",
       "text": [
        "Processing Magnetospirillum gryphiswaldense MSR-1 v2\r\n"
       ]
      },
      {
       "output_type": "stream",
       "stream": "stdout",
       "text": [
        "Processing Clostridium perfringens str. 13\r\n"
       ]
      },
      {
       "output_type": "stream",
       "stream": "stdout",
       "text": [
        "Processing Helicobacter pylori OK113\r\n"
       ]
      },
      {
       "output_type": "stream",
       "stream": "stdout",
       "text": [
        "Processing [Bacillus] selenitireducens MLS10\r\n"
       ]
      },
      {
       "output_type": "stream",
       "stream": "stdout",
       "text": [
        "Processing Bifidobacterium kashiwanohense PV20-2\r\n"
       ]
      },
      {
       "output_type": "stream",
       "stream": "stdout",
       "text": [
        "Processing Nitrosomonas eutropha C91\r\n"
       ]
      },
      {
       "output_type": "stream",
       "stream": "stdout",
       "text": [
        "Processing Sulfurospirillum multivorans DSM 12446\r\n"
       ]
      },
      {
       "output_type": "stream",
       "stream": "stdout",
       "text": [
        "Processing Parachlamydia acanthamoebae UV-7\r\n"
       ]
      },
      {
       "output_type": "stream",
       "stream": "stdout",
       "text": [
        "Processing Staphylococcus aureus subsp. aureus ST772-MRSA-V\r\n"
       ]
      },
      {
       "output_type": "stream",
       "stream": "stdout",
       "text": [
        "Processing Enterococcus casseliflavus EC20\r\n"
       ]
      },
      {
       "output_type": "stream",
       "stream": "stdout",
       "text": [
        "Processing Brachyspira murdochii DSM 12563\r\n"
       ]
      },
      {
       "output_type": "stream",
       "stream": "stdout",
       "text": [
        "Processing Desulfovibrio magneticus RS-1\r\n"
       ]
      },
      {
       "output_type": "stream",
       "stream": "stdout",
       "text": [
        "Processing Acinetobacter baumannii ZW85-1\r\n"
       ]
      },
      {
       "output_type": "stream",
       "stream": "stdout",
       "text": [
        "Processing Kosmotoga olearia TBF 19.5.1\r\n"
       ]
      },
      {
       "output_type": "stream",
       "stream": "stdout",
       "text": [
        "Processing Candidatus Liberibacter americanus str. Sao Paulo\r\n"
       ]
      },
      {
       "output_type": "stream",
       "stream": "stdout",
       "text": [
        "Processing Mycobacterium smegmatis JS623\r\n"
       ]
      },
      {
       "output_type": "stream",
       "stream": "stdout",
       "text": [
        "Processing Lactobacillus reuteri JCM 1112\r\n"
       ]
      },
      {
       "output_type": "stream",
       "stream": "stdout",
       "text": [
        "Processing Hahella chejuensis KCTC 2396\r\n"
       ]
      },
      {
       "output_type": "stream",
       "stream": "stdout",
       "text": [
        "Processing Caldanaerobacter subterraneus subsp. tengcongensis MB4\r\n"
       ]
      },
      {
       "output_type": "stream",
       "stream": "stdout",
       "text": [
        "Processing Alcanivorax borkumensis SK2\r\n"
       ]
      },
      {
       "output_type": "stream",
       "stream": "stdout",
       "text": [
        "Processing Spiroplasma apis B31\r\n",
        "Processing Halobacillus halophilus DSM 2266\r\n"
       ]
      },
      {
       "output_type": "stream",
       "stream": "stdout",
       "text": [
        "Processing Agrobacterium fabrum str. C58\r\n"
       ]
      },
      {
       "output_type": "stream",
       "stream": "stdout",
       "text": [
        "Processing Polymorphum gilvum SL003B-26A1\r\n"
       ]
      },
      {
       "output_type": "stream",
       "stream": "stdout",
       "text": [
        "Processing Streptococcus gordonii str. Challis substr. CH1\r\n"
       ]
      },
      {
       "output_type": "stream",
       "stream": "stdout",
       "text": [
        "Processing Candidatus Symbiobacter mobilis CR\r\n",
        "Processing Candidatus Tremblaya princeps PCVAL\r\n"
       ]
      },
      {
       "output_type": "stream",
       "stream": "stdout",
       "text": [
        "Processing Syntrophobacter fumaroxidans MPOB\r\n"
       ]
      },
      {
       "output_type": "stream",
       "stream": "stdout",
       "text": [
        "Processing Streptococcus sanguinis SK36\r\n"
       ]
      },
      {
       "output_type": "stream",
       "stream": "stdout",
       "text": [
        "^CTraceback (most recent call last):\r\n",
        "  File \"/home/nick/dev/seqDB_tools/seqDB_tools\", line 68, in <module>\r\n",
        "    exit(call(cmd))\r\n",
        "  File \"/opt/anaconda/lib/python2.7/subprocess.py\", line 522, in call\r\n",
        "    return Popen(*popenargs, **kwargs).wait()\r\n",
        "  File \"/opt/anaconda/lib/python2.7/subprocess.py\", line 1384, in wait\r\n",
        "    pid, sts = _eintr_retry_call(os.waitpid, self.pid, 0)\r\n",
        "  File \"/opt/anaconda/lib/python2.7/subprocess.py\", line 476, in _eintr_retry_call\r\n",
        "    return func(*args)\r\n",
        "KeyboardInterrupt\r\n",
        "\r\n"
       ]
      }
     ],
     "prompt_number": 99
    },
    {
     "cell_type": "code",
     "collapsed": false,
     "input": [
      "!cd $genomeDir; \\\n",
      "    seqDB_tools NCBIprokaryoteTableFilter prok-arc_filt_rand.txt -t 30 -w -d prok-arc-genomes"
     ],
     "language": "python",
     "metadata": {},
     "outputs": [
      {
       "output_type": "stream",
       "stream": "stdout",
       "text": [
        "Writing out fastas of each genome (fastas from GenBank accession numbers)...\r\n",
        "Processing Methanohalobium evestigatum Z-7303\r\n",
        "Processing Methanolacinia petrolearia DSM 11571\r\n",
        "Processing Thermoproteus uzoniensis 768-20\r\n",
        "Processing Methanosaeta concilii GP6\r\n",
        "Processing Aeropyrum pernix K1\r\n",
        "Processing Haloarcula marismortui ATCC 43049\r\n",
        "Processing Haloterrigena turkmenica DSM 5511\r\n",
        "Processing Methanosphaerula palustris E1-9c\r\n",
        "Processing Picrophilus torridus DSM 9790\r\n",
        "Processing Haloferax volcanii DS2\r\n",
        "Processing Pyrobaculum neutrophilum V24Sta\r\n",
        "Processing Haloquadratum walsbyi C23\r\n",
        "Processing Thermococcus onnurineus NA1\r\n",
        "Processing Methanopyrus kandleri AV19\r\n",
        "Processing Methanococcus aeolicus Nankai-3\r\n",
        "Processing Methanoculleus marisnigri JR1\r\n",
        "Processing Candidatus Nitrosopumilus koreensis AR1\r\n",
        "Processing Methanotorris igneus Kol 5\r\n",
        "Processing Natrinema pellirubrum DSM 15624\r\n",
        "Processing Methanocella arvoryzae MRE50\r\n",
        "Processing Palaeococcus pacificus DY20341\r\n",
        "Processing Methanocaldococcus vulcanius M7\r\n",
        "Processing Sulfolobus tokodaii str. 7\r\n",
        "Processing Candidatus Methanomethylophilus alvus Mx1201\r\n",
        "Processing Methanomethylovorans hollandica DSM 15978\r\n"
       ]
      },
      {
       "output_type": "stream",
       "stream": "stdout",
       "text": [
        "Processing Ferroplasma acidarmanus fer1\r\n",
        "Processing Vulcanisaeta moutnovskia 768-28\r\n",
        "Processing Archaeoglobus sulfaticallidus PM70-1\r\n",
        "Processing Sulfolobus acidocaldarius N8\r\n",
        "Processing Hyperthermus butylicus DSM 5456\r\n"
       ]
      },
      {
       "output_type": "stream",
       "stream": "stdout",
       "text": [
        "Processing Desulfurococcus mucosus DSM 2162\r\n"
       ]
      },
      {
       "output_type": "stream",
       "stream": "stdout",
       "text": [
        "Processing Methanococcus voltae A3\r\n"
       ]
      },
      {
       "output_type": "stream",
       "stream": "stdout",
       "text": [
        "Processing Thermogladius cellulolyticus 1633\r\n"
       ]
      },
      {
       "output_type": "stream",
       "stream": "stdout",
       "text": [
        "Processing Methanococcoides burtonii DSM 6242\r\n",
        "Processing Candidatus Nitrososphaera gargensis Ga9.2\r\n"
       ]
      },
      {
       "output_type": "stream",
       "stream": "stdout",
       "text": [
        "Processing Pyrococcus horikoshii OT3\r\n"
       ]
      },
      {
       "output_type": "stream",
       "stream": "stdout",
       "text": [
        "Processing Halorhabdus tiamatea SARL4B\r\n"
       ]
      },
      {
       "output_type": "stream",
       "stream": "stdout",
       "text": [
        "Processing Archaeoglobus veneficus SNP6\r\n"
       ]
      },
      {
       "output_type": "stream",
       "stream": "stdout",
       "text": [
        "Processing Thermococcus barophilus MP\r\n"
       ]
      },
      {
       "output_type": "stream",
       "stream": "stdout",
       "text": [
        "Processing Fervidicoccus fontis Kam940\r\n"
       ]
      },
      {
       "output_type": "stream",
       "stream": "stdout",
       "text": [
        "Processing Natronobacterium gregoryi SP2\r\n"
       ]
      },
      {
       "output_type": "stream",
       "stream": "stdout",
       "text": [
        "Processing Halalkalicoccus jeotgali B3\r\n",
        "Processing Natronomonas pharaonis DSM 2160\r\n"
       ]
      },
      {
       "output_type": "stream",
       "stream": "stdout",
       "text": [
        "Processing Pyrobaculum calidifontis JCM 11548\r\n"
       ]
      },
      {
       "output_type": "stream",
       "stream": "stdout",
       "text": [
        "Processing Thermococcus kodakarensis KOD1\r\n"
       ]
      },
      {
       "output_type": "stream",
       "stream": "stdout",
       "text": [
        "Processing Candidatus Methanomassiliicoccus intestinalis Issoire-Mx1\r\n",
        "Processing Methanocaldococcus jannaschii DSM 2661\r\n"
       ]
      },
      {
       "output_type": "stream",
       "stream": "stdout",
       "text": [
        "Processing Methanohalophilus mahii DSM 5219\r\n",
        "Processing Methanothermococcus okinawensis IH1\r\n",
        "Processing Methanococcus maripaludis C5\r\n"
       ]
      },
      {
       "output_type": "stream",
       "stream": "stdout",
       "text": [
        "Processing Thermoproteus tenax Kra 1\r\n",
        "Processing Thermosphaera aggregans DSM 11486\r\n"
       ]
      },
      {
       "output_type": "stream",
       "stream": "stdout",
       "text": [
        "Processing Methanosarcina barkeri str. Fusaro\r\n",
        "Processing Natronomonas moolapensis 8.8.11\r\n"
       ]
      },
      {
       "output_type": "stream",
       "stream": "stdout",
       "text": [
        "Processing Methanolobus psychrophilus R15\r\n"
       ]
      },
      {
       "output_type": "stream",
       "stream": "stdout",
       "text": [
        "Processing Metallosphaera sedula DSM 5348\r\n"
       ]
      },
      {
       "output_type": "stream",
       "stream": "stdout",
       "text": [
        "Processing Acidianus hospitalis W1\r\n"
       ]
      },
      {
       "output_type": "stream",
       "stream": "stdout",
       "text": [
        "Processing Methanoregula formicica SMSP\r\n"
       ]
      },
      {
       "output_type": "stream",
       "stream": "stdout",
       "text": [
        "Processing Halogeometricum borinquense DSM 11551\r\n"
       ]
      },
      {
       "output_type": "stream",
       "stream": "stdout",
       "text": [
        "Processing Methanocella paludicola SANAE\r\n"
       ]
      },
      {
       "output_type": "stream",
       "stream": "stdout",
       "text": [
        "Processing Sulfolobus islandicus LAL14/1\r\n",
        "Processing Methanothermobacter thermautotrophicus str. Delta H\r\n"
       ]
      },
      {
       "output_type": "stream",
       "stream": "stdout",
       "text": [
        "Processing Thermofilum carboxyditrophus 1505\r\n"
       ]
      },
      {
       "output_type": "stream",
       "stream": "stdout",
       "text": [
        "Processing Archaeoglobus fulgidus DSM 4304\r\n"
       ]
      },
      {
       "output_type": "stream",
       "stream": "stdout",
       "text": [
        "Processing Halomicrobium mukohataei DSM 12286\r\n",
        "Processing Halovivax ruber XH-70\r\n"
       ]
      },
      {
       "output_type": "stream",
       "stream": "stdout",
       "text": [
        "Processing Pyrobaculum islandicum DSM 4184\r\n"
       ]
      },
      {
       "output_type": "stream",
       "stream": "stdout",
       "text": [
        "Processing Thermofilum pendens Hrk 5\r\n",
        "Processing Halorhabdus utahensis DSM 12940\r\n"
       ]
      },
      {
       "output_type": "stream",
       "stream": "stdout",
       "text": [
        "Processing Methanosalsum zhilinae DSM 4017\r\n"
       ]
      },
      {
       "output_type": "stream",
       "stream": "stdout",
       "text": [
        "Processing Candidatus Korarchaeum cryptofilum OPF8\r\n"
       ]
      },
      {
       "output_type": "stream",
       "stream": "stdout",
       "text": [
        "Processing Methanosaeta thermophila PT\r\n",
        "Processing Nitrososphaera viennensis EN76\r\n",
        "Processing Candidatus Nitrososphaera evergladensis SR1\r\n"
       ]
      },
      {
       "output_type": "stream",
       "stream": "stdout",
       "text": [
        "Processing Ignisphaera aggregans DSM 17230\r\n",
        "Processing Methanocorpusculum labreanum Z\r\n"
       ]
      },
      {
       "output_type": "stream",
       "stream": "stdout",
       "text": [
        "Processing Methanobrevibacter smithii ATCC 35061\r\n"
       ]
      },
      {
       "output_type": "stream",
       "stream": "stdout",
       "text": [
        "Processing Methanosphaera stadtmanae DSM 3091\r\n"
       ]
      },
      {
       "output_type": "stream",
       "stream": "stdout",
       "text": [
        "Processing Pyrococcus yayanosii CH1\r\n"
       ]
      },
      {
       "output_type": "stream",
       "stream": "stdout",
       "text": [
        "Processing Natrialba magadii ATCC 43099\r\n"
       ]
      },
      {
       "output_type": "stream",
       "stream": "stdout",
       "text": [
        "Processing Thermoplasma volcanium GSS1\r\n"
       ]
      },
      {
       "output_type": "stream",
       "stream": "stdout",
       "text": [
        "Processing Halopiger xanaduensis SH-6\r\n"
       ]
      },
      {
       "output_type": "stream",
       "stream": "stdout",
       "text": [
        "Processing Methanosaeta harundinacea 6Ac\r\n"
       ]
      },
      {
       "output_type": "stream",
       "stream": "stdout",
       "text": [
        "Processing Methanosarcina mazei Tuc01\r\n"
       ]
      },
      {
       "output_type": "stream",
       "stream": "stdout",
       "text": [
        "Processing Aeropyrum camini SY1 = JCM 12091\r\n"
       ]
      },
      {
       "output_type": "stream",
       "stream": "stdout",
       "text": [
        "Processing Methanothermus fervidus DSM 2088\r\n",
        "Processing Halorubrum lacusprofundi ATCC 49239\r\n"
       ]
      },
      {
       "output_type": "stream",
       "stream": "stdout",
       "text": [
        "Processing Aciduliprofundum boonei T469\r\n"
       ]
      },
      {
       "output_type": "stream",
       "stream": "stdout",
       "text": [
        "Processing Methanocaldococcus fervens AG86\r\n"
       ]
      },
      {
       "output_type": "stream",
       "stream": "stdout",
       "text": [
        "Processing Methanocella conradii HZ254\r\n",
        "Processing Nitrosopumilus maritimus SCM1\r\n"
       ]
      },
      {
       "output_type": "stream",
       "stream": "stdout",
       "text": [
        "Processing Desulfurococcus fermentans DSM 16532\r\n"
       ]
      },
      {
       "output_type": "stream",
       "stream": "stdout",
       "text": [
        "Processing Methanocaldococcus infernus ME\r\n"
       ]
      },
      {
       "output_type": "stream",
       "stream": "stdout",
       "text": [
        "Processing Halobacterium sp. NRC-1\r\n",
        "Processing Natronococcus occultus SP4\r\n",
        "Processing Thermococcus gammatolerans EJ3\r\n"
       ]
      },
      {
       "output_type": "stream",
       "stream": "stdout",
       "text": [
        "Processing Ignicoccus hospitalis KIN4/I\r\n"
       ]
      },
      {
       "output_type": "stream",
       "stream": "stdout",
       "text": [
        "Processing Pyrobaculum oguniense TE7\r\n"
       ]
      },
      {
       "output_type": "stream",
       "stream": "stdout",
       "text": [
        "Processing Nanoarchaeum equitans Kin4-M\r\n"
       ]
      },
      {
       "output_type": "stream",
       "stream": "stdout",
       "text": [
        "Processing Staphylothermus hellenicus DSM 12710\r\n",
        "Processing Metallosphaera cuprina Ar-4\r\n"
       ]
      },
      {
       "output_type": "stream",
       "stream": "stdout",
       "text": [
        "Processing Pyrobaculum arsenaticum DSM 13514\r\n"
       ]
      },
      {
       "output_type": "stream",
       "stream": "stdout",
       "text": [
        "Processing Thermococcus litoralis DSM 5473\r\n"
       ]
      },
      {
       "output_type": "stream",
       "stream": "stdout",
       "text": [
        "Processing Sulfolobus solfataricus P2\r\n"
       ]
      },
      {
       "output_type": "stream",
       "stream": "stdout",
       "text": [
        "Processing Methanothermobacter marburgensis str. Marburg\r\n"
       ]
      },
      {
       "output_type": "stream",
       "stream": "stdout",
       "text": [
        "Processing Archaeoglobus profundus DSM 5631\r\n"
       ]
      },
      {
       "output_type": "stream",
       "stream": "stdout",
       "text": [
        "Processing Methanobrevibacter ruminantium M1\r\n"
       ]
      },
      {
       "output_type": "stream",
       "stream": "stdout",
       "text": [
        "Processing Methanoregula boonei 6A8\r\n"
       ]
      },
      {
       "output_type": "stream",
       "stream": "stdout",
       "text": [
        "Processing Methanococcus vannielii SB\r\n",
        "Processing Acidilobus saccharovorans 345-15\r\n"
       ]
      },
      {
       "output_type": "stream",
       "stream": "stdout",
       "text": [
        "Processing Desulfurococcus kamchatkensis 1221n\r\n"
       ]
      },
      {
       "output_type": "stream",
       "stream": "stdout",
       "text": [
        "Processing Thermococcus sibiricus MM 739\r\n"
       ]
      },
      {
       "output_type": "stream",
       "stream": "stdout",
       "text": [
        "Processing Methanospirillum hungatei JF-1\r\n",
        "Processing Pyrobaculum aerophilum str. IM2\r\n"
       ]
      },
      {
       "output_type": "stream",
       "stream": "stdout",
       "text": [
        "Processing Methanosarcina acetivorans C2A\r\n"
       ]
      },
      {
       "output_type": "stream",
       "stream": "stdout",
       "text": [
        "Processing Vulcanisaeta distributa DSM 14429\r\n"
       ]
      },
      {
       "output_type": "stream",
       "stream": "stdout",
       "text": [
        "Processing Halostagnicola larsenii XH-48\r\n"
       ]
      },
      {
       "output_type": "stream",
       "stream": "stdout",
       "text": [
        "Processing Pyrococcus furiosus COM1\r\n",
        "Processing Haloferax mediterranei ATCC 33500\r\n"
       ]
      },
      {
       "output_type": "stream",
       "stream": "stdout",
       "text": [
        "Processing Ferroglobus placidus DSM 10642\r\n",
        "Processing Pyrolobus fumarii 1A\r\n"
       ]
      },
      {
       "output_type": "stream",
       "stream": "stdout",
       "text": [
        "Processing Caldivirga maquilingensis IC-167\r\n"
       ]
      },
      {
       "output_type": "stream",
       "stream": "stdout",
       "text": [
        "Processing Staphylothermus marinus F1\r\n"
       ]
      },
      {
       "output_type": "stream",
       "stream": "stdout",
       "text": [
        "Processing Haloarcula hispanica N601\r\n"
       ]
      },
      {
       "output_type": "stream",
       "stream": "stdout",
       "text": [
        "Processing Caldisphaera lagunensis DSM 15908\r\n"
       ]
      }
     ],
     "prompt_number": 100
    },
    {
     "cell_type": "markdown",
     "metadata": {},
     "source": [
      "### Copying and renaming genomes\n",
      "\n",
      "* Need to have each scaffold/chromosome name as 1 string be MFEprimer is terrible"
     ]
    },
    {
     "cell_type": "code",
     "collapsed": false,
     "input": [
      "bacGenomeDir = os.path.join(genomeDir, 'prok-bac-genomes')"
     ],
     "language": "python",
     "metadata": {},
     "outputs": [],
     "prompt_number": 141
    },
    {
     "cell_type": "code",
     "collapsed": false,
     "input": [
      "genomeLocalDir = os.path.join(workDir, 'genomes')\n",
      "\n",
      "if not os.path.isdir(genomeLocalDir):\n",
      "    os.mkdir(genomeLocalDir)"
     ],
     "language": "python",
     "metadata": {},
     "outputs": [],
     "prompt_number": 142
    },
    {
     "cell_type": "code",
     "collapsed": false,
     "input": [
      "%%bash -s \"$genomeLocalDir\" \"$bacGenomeDir\"\n",
      "\n",
      "cd $1\n",
      "\n",
      "find $2 -name \"*fasta\" |\\\n",
      "    perl -pe 's/.+\\///' | \\\n",
      "    xargs -P 24 -I % bash -c \"perl -pe 'if(/^>/){s/\\W/_/g; s/^_*(.*?)_*\\$/>\\$1\\n/}' $2/% > %\""
     ],
     "language": "python",
     "metadata": {},
     "outputs": [],
     "prompt_number": 158
    },
    {
     "cell_type": "code",
     "collapsed": false,
     "input": [
      "!printf \"Number of genomes: \"\n",
      "!cd $genomeLocalDir; \\\n",
      "    find . -name \"*fasta\" | wc -l"
     ],
     "language": "python",
     "metadata": {},
     "outputs": [
      {
       "output_type": "stream",
       "stream": "stdout",
       "text": [
        "Number of genomes: "
       ]
      },
      {
       "output_type": "stream",
       "stream": "stdout",
       "text": [
        "1206\r\n"
       ]
      }
     ],
     "prompt_number": 159
    },
    {
     "cell_type": "code",
     "collapsed": false,
     "input": [
      "# list of all genomes files and their associated names\n",
      "!cd $genomeLocalDir; \\\n",
      "    find . -name \"*fasta\" | \\\n",
      "    perl -pe 's/.+\\///' | \\\n",
      "    perl -pe 's/(.+)(\\.[^.]+)/\\$1\\t\\$1\\$2/' > genomes_all_list.txt"
     ],
     "language": "python",
     "metadata": {},
     "outputs": [],
     "prompt_number": 161
    },
    {
     "cell_type": "markdown",
     "metadata": {},
     "source": [
      "# Indexing genomes\n",
      "\n",
      "* Needed for *in-silico* PCR"
     ]
    },
    {
     "cell_type": "code",
     "collapsed": false,
     "input": [
      "!cd $workDir; \\\n",
      "    $SIPSimExe indexGenomes genomes/genomes_all_list.txt \\\n",
      "    --fp ./genomes/ --np 30 > genomes/index_log.txt"
     ],
     "language": "python",
     "metadata": {},
     "outputs": [
      {
       "output_type": "stream",
       "stream": "stdout",
       "text": [
        "Indexing: \"Kangiella_koreensis_DSM_16069\"\r\n",
        "Indexing: \"Polymorphum_gilvum_SL003B-26A1\"\r\n",
        "Indexing: \"_Cellvibrio_gilvus_ATCC_13127\"\r\n",
        "Indexing: \"Croceibacter_atlanticus_HTCC2559\"\r\n",
        "Indexing: \"Sulfuricurvum_kujiense_DSM_16994\"\r\n",
        "Indexing: \"Eubacterium_rectale_ATCC_33656\"\r\n",
        "Indexing: \"Nocardia_nova_SH22a\"\r\n",
        "Indexing: \"Gordonia_polyisoprenivorans_VH2\"\r\n",
        "Indexing: \"Aeromonas_salmonicida_subsp_salmonicida_A449\"\r\n",
        "Indexing: \"Thermodesulfobium_narugense_DSM_14796\"\r\n",
        "Indexing: \"Brevibacillus_brevis_NBRC_100599\"\r\n",
        "Indexing: \"Spiroplasma_culicicola_AES-1\"\r\n",
        "Indexing: \"Isoptericola_variabilis_225\"\r\n",
        "Indexing: \"Oscillibacter_valericigenes_Sjm18-20\"\r\n",
        "Indexing: \"Desulfocapsa_sulfexigens_DSM_10523\"\r\n",
        "Indexing: \"Planktomarina_temperata_RCA23\"\r\n",
        "Indexing: \"Marinithermus_hydrothermalis_DSM_14884\"\r\n",
        "Indexing: \"Desulfosporosinus_orientis_DSM_765\"\r\n",
        "Indexing: \"Halobacillus_halophilus_DSM_2266\"\r\n",
        "Indexing: \"Cronobacter_sakazakii_SP291\"\r\n",
        "Indexing: \"Chromohalobacter_salexigens_DSM_3043\"\r\n",
        "Indexing: \"Sulfurimonas_denitrificans_DSM_1251\"\r\n",
        "Indexing: \"Desulfotomaculum_carboxydivorans_CO-1-SRB\"\r\n",
        "Indexing: \"Candidatus_Portiera_aleyrodidarum_BT-QVLC\"\r\n",
        "Indexing: \"Edwardsiella_ictaluri_93-146\"\r\n",
        "Indexing: \"Acidovorax_citrulli_AAC00-1\"\r\n",
        "Indexing: \"Bartonella_grahamii_as4aup\"\r\n",
        "Indexing: \"Mycoplasma_bovoculi_M165_69\"\r\n",
        "Indexing: \"Clostridiales_genomosp_BVAB3_str_UPII9-5\"\r\n",
        "Indexing: \"Crinalium_epipsammum_PCC_9333\"\r\n"
       ]
      },
      {
       "output_type": "stream",
       "stream": "stdout",
       "text": [
        "Indexing: \"Herbaspirillum_seropedicae_SmR1\"\r\n"
       ]
      },
      {
       "output_type": "stream",
       "stream": "stdout",
       "text": [
        "Indexing: \"Shewanella_baltica_BA175\"\r\n"
       ]
      },
      {
       "output_type": "stream",
       "stream": "stdout",
       "text": [
        "Indexing: \"Streptococcus_anginosus_C238\"\r\n"
       ]
      },
      {
       "output_type": "stream",
       "stream": "stdout",
       "text": [
        "Indexing: \"Desulfosporosinus_acidiphilus_SJ4\"\r\n"
       ]
      },
      {
       "output_type": "stream",
       "stream": "stdout",
       "text": [
        "Indexing: \"Thermincola_potens_JR\"\r\n"
       ]
      },
      {
       "output_type": "stream",
       "stream": "stdout",
       "text": [
        "Indexing: \"Serratia_symbiotica_str_Cinara_cedri\"\r\n"
       ]
      },
      {
       "output_type": "stream",
       "stream": "stdout",
       "text": [
        "Indexing: \"Caldicellulosiruptor_kristjanssonii_I77R1B\"\r\n"
       ]
      },
      {
       "output_type": "stream",
       "stream": "stdout",
       "text": [
        "Indexing: \"Corynebacterium_casei_LMG_S-19264\"\r\n"
       ]
      },
      {
       "output_type": "stream",
       "stream": "stdout",
       "text": [
        "Indexing: \"Stackebrandtia_nassauensis_DSM_44728\"\r\n"
       ]
      },
      {
       "output_type": "stream",
       "stream": "stdout",
       "text": [
        "Indexing: \"Caldicellulosiruptor_saccharolyticus_DSM_8903\"\r\n"
       ]
      },
      {
       "output_type": "stream",
       "stream": "stdout",
       "text": [
        "Indexing: \"Ignavibacterium_album_JCM_16511\"\r\n"
       ]
      },
      {
       "output_type": "stream",
       "stream": "stdout",
       "text": [
        "Indexing: \"Mycoplasma_hyorhinis_MCLD\"\r\n"
       ]
      },
      {
       "output_type": "stream",
       "stream": "stdout",
       "text": [
        "Indexing: \"Pseudonocardia_dioxanivorans_CB1190\"\r\n"
       ]
      },
      {
       "output_type": "stream",
       "stream": "stdout",
       "text": [
        "Indexing: \"Haemophilus_somnus_129PT\"\r\n"
       ]
      },
      {
       "output_type": "stream",
       "stream": "stdout",
       "text": [
        "Indexing: \"Pseudomonas_protegens_Cab57\"\r\n"
       ]
      },
      {
       "output_type": "stream",
       "stream": "stdout",
       "text": [
        "Indexing: \"Granulicella_mallensis_MP5ACTX8\"\r\n"
       ]
      },
      {
       "output_type": "stream",
       "stream": "stdout",
       "text": [
        "Indexing: \"Bifidobacterium_bifidum_PRL2010\"\r\n"
       ]
      },
      {
       "output_type": "stream",
       "stream": "stdout",
       "text": [
        "Indexing: \"Vibrio_tasmaniensis_LGP32\"\r\n"
       ]
      },
      {
       "output_type": "stream",
       "stream": "stdout",
       "text": [
        "Indexing: \"Kosmotoga_olearia_TBF_19_5_1\"\r\n"
       ]
      },
      {
       "output_type": "stream",
       "stream": "stdout",
       "text": [
        "Indexing: \"Denitrovibrio_acetiphilus_DSM_12809\"\r\n"
       ]
      },
      {
       "output_type": "stream",
       "stream": "stdout",
       "text": [
        "Indexing: \"Listeria_ivanovii_subsp_ivanovii_PAM_55\"\r\n"
       ]
      },
      {
       "output_type": "stream",
       "stream": "stdout",
       "text": [
        "Indexing: \"Clostridium_perfringens_str_13\"\r\n"
       ]
      },
      {
       "output_type": "stream",
       "stream": "stdout",
       "text": [
        "Indexing: \"Nocardia_farcinica_IFM_10152\"\r\n"
       ]
      },
      {
       "output_type": "stream",
       "stream": "stdout",
       "text": [
        "Indexing: \"Myxococcus_stipitatus_DSM_14675\"\r\n"
       ]
      },
      {
       "output_type": "stream",
       "stream": "stdout",
       "text": [
        "Indexing: \"Melissococcus_plutonius_DAT561\"\r\n"
       ]
      },
      {
       "output_type": "stream",
       "stream": "stdout",
       "text": [
        "Indexing: \"Borrelia_garinii_PBi\"\r\n"
       ]
      },
      {
       "output_type": "stream",
       "stream": "stdout",
       "text": [
        "Indexing: \"Rickettsia_typhi_str_Wilmington\"\r\n"
       ]
      },
      {
       "output_type": "stream",
       "stream": "stdout",
       "text": [
        "Indexing: \"Geobacillus_thermoleovorans_CCB_US3_UF5\"\r\n"
       ]
      },
      {
       "output_type": "stream",
       "stream": "stdout",
       "text": [
        "Indexing: \"Lactobacillus_gasseri_ADH\"\r\n"
       ]
      },
      {
       "output_type": "stream",
       "stream": "stdout",
       "text": [
        "Indexing: \"Lactobacillus_fermentum_CECT_5716\"\r\n"
       ]
      },
      {
       "output_type": "stream",
       "stream": "stdout",
       "text": [
        "Indexing: \"Halomonas_elongata_DSM_2581\"\r\n"
       ]
      },
      {
       "output_type": "stream",
       "stream": "stdout",
       "text": [
        "Indexing: \"Edwardsiella_piscicida_C07-087\"\r\n"
       ]
      },
      {
       "output_type": "stream",
       "stream": "stdout",
       "text": [
        "Indexing: \"Leptospira_borgpetersenii_serovar_Hardjo-bovis_str_L550\"\r\n"
       ]
      },
      {
       "output_type": "stream",
       "stream": "stdout",
       "text": [
        "Indexing: \"Nocardiopsis_alba_ATCC_BAA-2165\"\r\n"
       ]
      },
      {
       "output_type": "stream",
       "stream": "stdout",
       "text": [
        "Indexing: \"Propionibacterium_avidum_44067\"\r\n"
       ]
      },
      {
       "output_type": "stream",
       "stream": "stdout",
       "text": [
        "Indexing: \"Anaplasma_centrale_str_Israel\"\r\n"
       ]
      },
      {
       "output_type": "stream",
       "stream": "stdout",
       "text": [
        "Indexing: \"Rickettsia_australis_str_Cutlack\"\r\n"
       ]
      },
      {
       "output_type": "stream",
       "stream": "stdout",
       "text": [
        "Indexing: \"Sulfurihydrogenibium_azorense_Az-Fu1\"\r\n"
       ]
      },
      {
       "output_type": "stream",
       "stream": "stdout",
       "text": [
        "Indexing: \"Salmonella_enterica_subsp_arizonae_serovar_62_z4,z23_-\"\r\n"
       ]
      },
      {
       "output_type": "stream",
       "stream": "stdout",
       "text": [
        "Indexing: \"Alicyclobacillus_acidocaldarius_subsp_acidocaldarius_DSM_446\"\r\n"
       ]
      },
      {
       "output_type": "stream",
       "stream": "stdout",
       "text": [
        "Indexing: \"Campylobacter_lari_RM16712\"\r\n"
       ]
      },
      {
       "output_type": "stream",
       "stream": "stdout",
       "text": [
        "Indexing: \"Dyadobacter_fermentans_DSM_18053\"\r\n"
       ]
      },
      {
       "output_type": "stream",
       "stream": "stdout",
       "text": [
        "Indexing: \"Oceanithermus_profundus_DSM_14977\"\r\n"
       ]
      },
      {
       "output_type": "stream",
       "stream": "stdout",
       "text": [
        "Indexing: \"Bifidobacterium_dentium_Bd1\"\r\n"
       ]
      },
      {
       "output_type": "stream",
       "stream": "stdout",
       "text": [
        "Indexing: \"Dehalogenimonas_lykanthroporepellens_BL-DC-9\"\r\n"
       ]
      },
      {
       "output_type": "stream",
       "stream": "stdout",
       "text": [
        "Indexing: \"Granulicella_tundricola_MP5ACTX9\"\r\n"
       ]
      },
      {
       "output_type": "stream",
       "stream": "stdout",
       "text": [
        "Indexing: \"Candidatus_Zinderia_insecticola_CARI\"\r\n"
       ]
      },
      {
       "output_type": "stream",
       "stream": "stdout",
       "text": [
        "Indexing: \"Desulfovibrio_africanus_str_Walvis_Bay\"\r\n"
       ]
      },
      {
       "output_type": "stream",
       "stream": "stdout",
       "text": [
        "Indexing: \"Bradyrhizobium_diazoefficiens_USDA_110\"\r\n"
       ]
      },
      {
       "output_type": "stream",
       "stream": "stdout",
       "text": [
        "Indexing: \"Ilumatobacter_coccineus_YM16-304\"\r\n"
       ]
      },
      {
       "output_type": "stream",
       "stream": "stdout",
       "text": [
        "Indexing: \"Capnocytophaga_canimorsus_Cc5\"\r\n"
       ]
      },
      {
       "output_type": "stream",
       "stream": "stdout",
       "text": [
        "Indexing: \"Lysinibacillus_sphaericus_C3-41\"\r\n"
       ]
      },
      {
       "output_type": "stream",
       "stream": "stdout",
       "text": [
        "Indexing: \"Mycoplasma_hyopneumoniae_168-L\"\r\n"
       ]
      },
      {
       "output_type": "stream",
       "stream": "stdout",
       "text": [
        "Indexing: \"Aeromonas_veronii_B565\"\r\n"
       ]
      },
      {
       "output_type": "stream",
       "stream": "stdout",
       "text": [
        "Indexing: \"Thermus_thermophilus_SG0_5JP17-16\"\r\n"
       ]
      },
      {
       "output_type": "stream",
       "stream": "stdout",
       "text": [
        "Indexing: \"Cronobacter_turicensis_z3032\"\r\n"
       ]
      },
      {
       "output_type": "stream",
       "stream": "stdout",
       "text": [
        "Indexing: \"Candidatus_Carsonella_ruddii_CS_isolate_Thao2000\"\r\n"
       ]
      },
      {
       "output_type": "stream",
       "stream": "stdout",
       "text": [
        "Indexing: \"Kocuria_rhizophila_DC2201\"\r\n"
       ]
      },
      {
       "output_type": "stream",
       "stream": "stdout",
       "text": [
        "Indexing: \"Azotobacter_vinelandii_CA\"\r\n"
       ]
      },
      {
       "output_type": "stream",
       "stream": "stdout",
       "text": [
        "Indexing: \"Thermodesulfovibrio_yellowstonii_DSM_11347\"\r\n"
       ]
      },
      {
       "output_type": "stream",
       "stream": "stdout",
       "text": [
        "Indexing: \"Desulfovibrio_magneticus_RS-1\"\r\n"
       ]
      },
      {
       "output_type": "stream",
       "stream": "stdout",
       "text": [
        "Indexing: \"Rhodoferax_ferrireducens_T118\"\r\n"
       ]
      },
      {
       "output_type": "stream",
       "stream": "stdout",
       "text": [
        "Indexing: \"Vibrio_parahaemolyticus_O1_Kuk_str_FDA_R31\"\r\n"
       ]
      },
      {
       "output_type": "stream",
       "stream": "stdout",
       "text": [
        "Indexing: \"Vibrio_furnissii_NCTC_11218\"\r\n"
       ]
      },
      {
       "output_type": "stream",
       "stream": "stdout",
       "text": [
        "Indexing: \"Cardinium_endosymbiont_cEper1_of_Encarsia_pergandiella\"\r\n"
       ]
      },
      {
       "output_type": "stream",
       "stream": "stdout",
       "text": [
        "Indexing: \"Staphylococcus_haemolyticus_JCSC1435\"\r\n"
       ]
      },
      {
       "output_type": "stream",
       "stream": "stdout",
       "text": [
        "Indexing: \"Candidatus_Solibacter_usitatus_Ellin6076\"\r\n"
       ]
      },
      {
       "output_type": "stream",
       "stream": "stdout",
       "text": [
        "Indexing: \"Cyanobacterium_stanieri_PCC_7202\"\r\n"
       ]
      },
      {
       "output_type": "stream",
       "stream": "stdout",
       "text": [
        "Indexing: \"Clostridium_cellulovorans_743B\"\r\n"
       ]
      },
      {
       "output_type": "stream",
       "stream": "stdout",
       "text": [
        "Indexing: \"Lactobacillus_ruminis_ATCC_27782\"\r\n"
       ]
      },
      {
       "output_type": "stream",
       "stream": "stdout",
       "text": [
        "Indexing: \"Mycobacterium_africanum_GM041182\"\r\n",
        "Indexing: \"Tropheryma_whipplei_str_Twist\"\r\n"
       ]
      },
      {
       "output_type": "stream",
       "stream": "stdout",
       "text": [
        "Indexing: \"Candidatus_Chloracidobacterium_thermophilum_B\"\r\n"
       ]
      },
      {
       "output_type": "stream",
       "stream": "stdout",
       "text": [
        "Indexing: \"Nakamurella_multipartita_DSM_44233\"\r\n"
       ]
      },
      {
       "output_type": "stream",
       "stream": "stdout",
       "text": [
        "Indexing: \"Bacillus_infantis_NRRL_B-14911\"\r\n"
       ]
      },
      {
       "output_type": "stream",
       "stream": "stdout",
       "text": [
        "Indexing: \"Fimbriimonas_ginsengisoli_Gsoil_348\"\r\n"
       ]
      },
      {
       "output_type": "stream",
       "stream": "stdout",
       "text": [
        "Indexing: \"Clostridium_lentocellum_DSM_5427\"\r\n"
       ]
      },
      {
       "output_type": "stream",
       "stream": "stdout",
       "text": [
        "Indexing: \"Aromatoleum_aromaticum_EbN1\"\r\n"
       ]
      },
      {
       "output_type": "stream",
       "stream": "stdout",
       "text": [
        "Indexing: \"Cellulophaga_algicola_DSM_14237\"\r\n"
       ]
      },
      {
       "output_type": "stream",
       "stream": "stdout",
       "text": [
        "Indexing: \"Bibersteinia_trehalosi_USDA-ARS-USMARC-189\"\r\n"
       ]
      },
      {
       "output_type": "stream",
       "stream": "stdout",
       "text": [
        "Indexing: \"Beijerinckia_indica_subsp_indica_ATCC_9039\"\r\n"
       ]
      },
      {
       "output_type": "stream",
       "stream": "stdout",
       "text": [
        "Indexing: \"Marivirga_tractuosa_DSM_4126\"\r\n"
       ]
      },
      {
       "output_type": "stream",
       "stream": "stdout",
       "text": [
        "Indexing: \"Citrobacter_freundii_CFNIH1\"\r\n"
       ]
      },
      {
       "output_type": "stream",
       "stream": "stdout",
       "text": [
        "Indexing: \"Pelotomaculum_thermopropionicum_SI\"\r\n"
       ]
      },
      {
       "output_type": "stream",
       "stream": "stdout",
       "text": [
        "Indexing: \"Thermoanaerobacter_brockii_subsp_finnii_Ako-1\"\r\n"
       ]
      },
      {
       "output_type": "stream",
       "stream": "stdout",
       "text": [
        "Indexing: \"Desulfitobacterium_hafniense_DCB-2\"\r\n"
       ]
      },
      {
       "output_type": "stream",
       "stream": "stdout",
       "text": [
        "Indexing: \"Streptomyces_collinus_Tu_365\"\r\n"
       ]
      },
      {
       "output_type": "stream",
       "stream": "stdout",
       "text": [
        "Indexing: \"Chlamydophila_abortus_S26_3\"\r\n"
       ]
      },
      {
       "output_type": "stream",
       "stream": "stdout",
       "text": [
        "Indexing: \"Mycoplasma_californicum_HAZ160_1\"\r\n"
       ]
      },
      {
       "output_type": "stream",
       "stream": "stdout",
       "text": [
        "Indexing: \"Lactobacillus_sanfranciscensis_TMW_1_1304\"\r\n"
       ]
      },
      {
       "output_type": "stream",
       "stream": "stdout",
       "text": [
        "Indexing: \"Vibrio_tubiashii_ATCC_19109\"\r\n"
       ]
      },
      {
       "output_type": "stream",
       "stream": "stdout",
       "text": [
        "Indexing: \"Geobacillus_thermoglucosidasius_C56-YS93\"\r\n"
       ]
      },
      {
       "output_type": "stream",
       "stream": "stdout",
       "text": [
        "Indexing: \"Borrelia_burgdorferi_CA382\"\r\n"
       ]
      },
      {
       "output_type": "stream",
       "stream": "stdout",
       "text": [
        "Indexing: \"Mycoplasma_penetrans_HF-2\"\r\n"
       ]
      },
      {
       "output_type": "stream",
       "stream": "stdout",
       "text": [
        "Indexing: \"Mycoplasma_crocodyli_MP145\"\r\n",
        "Indexing: \"Chlamydophila_felis_Fe_C-56\"\r\n"
       ]
      },
      {
       "output_type": "stream",
       "stream": "stdout",
       "text": [
        "Indexing: \"Slackia_heliotrinireducens_DSM_20476\"\r\n"
       ]
      },
      {
       "output_type": "stream",
       "stream": "stdout",
       "text": [
        "Indexing: \"Deferribacter_desulfuricans_SSM1\"\r\n"
       ]
      },
      {
       "output_type": "stream",
       "stream": "stdout",
       "text": [
        "Indexing: \"Catenulispora_acidiphila_DSM_44928\"\r\n"
       ]
      },
      {
       "output_type": "stream",
       "stream": "stdout",
       "text": [
        "Indexing: \"Bacteroides_vulgatus_ATCC_8482\"\r\n"
       ]
      },
      {
       "output_type": "stream",
       "stream": "stdout",
       "text": [
        "Indexing: \"Bartonella_australis_Aust_NH1\"\r\n"
       ]
      },
      {
       "output_type": "stream",
       "stream": "stdout",
       "text": [
        "Indexing: \"Gallionella_capsiferriformans_ES-2\"\r\n"
       ]
      },
      {
       "output_type": "stream",
       "stream": "stdout",
       "text": [
        "Indexing: \"Glaciecola_psychrophila_170\"\r\n"
       ]
      },
      {
       "output_type": "stream",
       "stream": "stdout",
       "text": [
        "Indexing: \"Francisella_tularensis_subsp_tularensis_TI0902\"\r\n"
       ]
      },
      {
       "output_type": "stream",
       "stream": "stdout",
       "text": [
        "Indexing: \"Selenomonas_ruminantium_subsp_lactilytica_TAM6421\"\r\n"
       ]
      },
      {
       "output_type": "stream",
       "stream": "stdout",
       "text": [
        "Indexing: \"Mycobacterium_chubuense_NBB4\"\r\n"
       ]
      },
      {
       "output_type": "stream",
       "stream": "stdout",
       "text": [
        "Indexing: \"Corynebacterium_resistens_DSM_45100\"\r\n"
       ]
      },
      {
       "output_type": "stream",
       "stream": "stdout",
       "text": [
        "Indexing: \"Myxococcus_fulvus_HW-1\"\r\n"
       ]
      },
      {
       "output_type": "stream",
       "stream": "stdout",
       "text": [
        "Indexing: \"Thermosipho_melanesiensis_BI429\"\r\n"
       ]
      },
      {
       "output_type": "stream",
       "stream": "stdout",
       "text": [
        "Indexing: \"Mycobacterium_canettii_CIPT_140010059\"\r\n"
       ]
      },
      {
       "output_type": "stream",
       "stream": "stdout",
       "text": [
        "Indexing: \"Mycoplasma_capricolum_subsp_capricolum_ATCC_27343\"\r\n"
       ]
      },
      {
       "output_type": "stream",
       "stream": "stdout",
       "text": [
        "Indexing: \"Nautilia_profundicola_AmH\"\r\n"
       ]
      },
      {
       "output_type": "stream",
       "stream": "stdout",
       "text": [
        "Indexing: \"Staphylococcus_saprophyticus_subsp_saprophyticus_ATCC_15305\"\r\n"
       ]
      },
      {
       "output_type": "stream",
       "stream": "stdout",
       "text": [
        "Indexing: \"Caldicellulosiruptor_bescii_DSM_6725\"\r\n"
       ]
      },
      {
       "output_type": "stream",
       "stream": "stdout",
       "text": [
        "Indexing: \"Chlamydia_muridarum_str_Nigg3_CMUT3-5\"\r\n"
       ]
      },
      {
       "output_type": "stream",
       "stream": "stdout",
       "text": [
        "Indexing: \"Arthrobacter_phenanthrenivorans_Sphe3\"\r\n"
       ]
      },
      {
       "output_type": "stream",
       "stream": "stdout",
       "text": [
        "Indexing: \"Desulfurella_acetivorans_A63\"\r\n"
       ]
      },
      {
       "output_type": "stream",
       "stream": "stdout",
       "text": [
        "Indexing: \"Rhodomicrobium_vannielii_ATCC_17100\"\r\n"
       ]
      },
      {
       "output_type": "stream",
       "stream": "stdout",
       "text": [
        "Indexing: \"Aggregatibacter_aphrophilus_NJ8700\"\r\n"
       ]
      },
      {
       "output_type": "stream",
       "stream": "stdout",
       "text": [
        "Indexing: \"Thermotoga_thermarum_DSM_5069\"\r\n"
       ]
      },
      {
       "output_type": "stream",
       "stream": "stdout",
       "text": [
        "Indexing: \"Candidatus_Ishikawaella_capsulata_Mpkobe\"\r\n"
       ]
      },
      {
       "output_type": "stream",
       "stream": "stdout",
       "text": [
        "Indexing: \"Blattabacterium_sp_Cryptocercus_punctulatus_str_Cpu\"\r\n"
       ]
      },
      {
       "output_type": "stream",
       "stream": "stdout",
       "text": [
        "Indexing: \"Candidatus_Liberibacter_asiaticus_str_psy62\"\r\n"
       ]
      },
      {
       "output_type": "stream",
       "stream": "stdout",
       "text": [
        "Indexing: \"Simkania_negevensis_Z\"\r\n"
       ]
      },
      {
       "output_type": "stream",
       "stream": "stdout",
       "text": [
        "Indexing: \"Chlorobium_luteolum_DSM_273\"\r\n"
       ]
      },
      {
       "output_type": "stream",
       "stream": "stdout",
       "text": [
        "Indexing: \"Thermoanaerobacterium_saccharolyticum_JW_SL-YS485\"\r\n"
       ]
      },
      {
       "output_type": "stream",
       "stream": "stdout",
       "text": [
        "Indexing: \"Cyanobium_gracile_PCC_6307\"\r\n"
       ]
      },
      {
       "output_type": "stream",
       "stream": "stdout",
       "text": [
        "Indexing: \"Corynebacterium_glycinophilum_AJ_3170\"\r\n"
       ]
      },
      {
       "output_type": "stream",
       "stream": "stdout",
       "text": [
        "Indexing: \"Chitinophaga_pinensis_DSM_2588\"\r\n"
       ]
      },
      {
       "output_type": "stream",
       "stream": "stdout",
       "text": [
        "Indexing: \"Rhodobacter_capsulatus_SB_1003\"\r\n"
       ]
      },
      {
       "output_type": "stream",
       "stream": "stdout",
       "text": [
        "Indexing: \"Aeromonas_media_WS\"\r\n"
       ]
      },
      {
       "output_type": "stream",
       "stream": "stdout",
       "text": [
        "Indexing: \"Solibacillus_silvestris_StLB046\"\r\n"
       ]
      },
      {
       "output_type": "stream",
       "stream": "stdout",
       "text": [
        "Indexing: \"Elusimicrobium_minutum_Pei191\"\r\n"
       ]
      },
      {
       "output_type": "stream",
       "stream": "stdout",
       "text": [
        "Indexing: \"Nitrosococcus_oceani_ATCC_19707\"\r\n"
       ]
      },
      {
       "output_type": "stream",
       "stream": "stdout",
       "text": [
        "Indexing: \"Neisseria_gonorrhoeae_FA_1090\"\r\n"
       ]
      },
      {
       "output_type": "stream",
       "stream": "stdout",
       "text": [
        "Indexing: \"Niastella_koreensis_GR20-10\"\r\n"
       ]
      },
      {
       "output_type": "stream",
       "stream": "stdout",
       "text": [
        "Indexing: \"Arcanobacterium_haemolyticum_DSM_20595\"\r\n"
       ]
      },
      {
       "output_type": "stream",
       "stream": "stdout",
       "text": [
        "Indexing: \"Rickettsia_peacockii_str_Rustic\"\r\n"
       ]
      },
      {
       "output_type": "stream",
       "stream": "stdout",
       "text": [
        "Indexing: \"Dickeya_dadantii_3937\"\r\n"
       ]
      },
      {
       "output_type": "stream",
       "stream": "stdout",
       "text": [
        "Indexing: \"Waddlia_chondrophila_WSU_86-1044\"\r\n"
       ]
      },
      {
       "output_type": "stream",
       "stream": "stdout",
       "text": [
        "Indexing: \"Oceanobacillus_iheyensis_HTE831\"\r\n"
       ]
      },
      {
       "output_type": "stream",
       "stream": "stdout",
       "text": [
        "Indexing: \"Porphyromonas_gingivalis_W83\"\r\n"
       ]
      },
      {
       "output_type": "stream",
       "stream": "stdout",
       "text": [
        "Indexing: \"Alkalilimnicola_ehrlichii_MLHE-1\"\r\n"
       ]
      },
      {
       "output_type": "stream",
       "stream": "stdout",
       "text": [
        "Indexing: \"Desulfovibrio_aespoeensis_Aspo-2\"\r\n"
       ]
      },
      {
       "output_type": "stream",
       "stream": "stdout",
       "text": [
        "Indexing: \"Allochromatium_vinosum_DSM_180\"\r\n"
       ]
      },
      {
       "output_type": "stream",
       "stream": "stdout",
       "text": [
        "Indexing: \"Bacillus_licheniformis_9945A\"\r\n"
       ]
      },
      {
       "output_type": "stream",
       "stream": "stdout",
       "text": [
        "Indexing: \"Deinococcus_gobiensis_I-0\"\r\n"
       ]
      },
      {
       "output_type": "stream",
       "stream": "stdout",
       "text": [
        "Indexing: \"Belliella_baltica_DSM_15883\"\r\n"
       ]
      },
      {
       "output_type": "stream",
       "stream": "stdout",
       "text": [
        "Indexing: \"Marinobacter_hydrocarbonoclasticus_ATCC_49840\"\r\n"
       ]
      },
      {
       "output_type": "stream",
       "stream": "stdout",
       "text": [
        "Indexing: \"Ethanoligenens_harbinense_YUAN-3\"\r\n"
       ]
      },
      {
       "output_type": "stream",
       "stream": "stdout",
       "text": [
        "Indexing: \"Stigmatella_aurantiaca_DW4_3-1\"\r\n"
       ]
      },
      {
       "output_type": "stream",
       "stream": "stdout",
       "text": [
        "Indexing: \"Blattabacterium_sp_Periplaneta_americana_str_BPLAN\"\r\n"
       ]
      },
      {
       "output_type": "stream",
       "stream": "stdout",
       "text": [
        "Indexing: \"Deinococcus_proteolyticus_MRP\"\r\n"
       ]
      },
      {
       "output_type": "stream",
       "stream": "stdout",
       "text": [
        "Indexing: \"Methylovorus_glucosetrophus_SIP3-4\"\r\n"
       ]
      },
      {
       "output_type": "stream",
       "stream": "stdout",
       "text": [
        "Indexing: \"Streptococcus_constellatus_subsp_pharyngis_C1050\"\r\n"
       ]
      },
      {
       "output_type": "stream",
       "stream": "stdout",
       "text": [
        "Indexing: \"Salinispora_tropica_CNB-440\"\r\n"
       ]
      },
      {
       "output_type": "stream",
       "stream": "stdout",
       "text": [
        "Indexing: \"Burkholderia_mallei_SAVP1\"\r\n"
       ]
      },
      {
       "output_type": "stream",
       "stream": "stdout",
       "text": [
        "Indexing: \"Pelagibacterium_halotolerans_B2\"\r\n"
       ]
      },
      {
       "output_type": "stream",
       "stream": "stdout",
       "text": [
        "Indexing: \"Herpetosiphon_aurantiacus_DSM_785\"\r\n"
       ]
      },
      {
       "output_type": "stream",
       "stream": "stdout",
       "text": [
        "Indexing: \"Legionella_oakridgensis_ATCC_33761_DSM_21215\"\r\n"
       ]
      },
      {
       "output_type": "stream",
       "stream": "stdout",
       "text": [
        "Indexing: \"Ramlibacter_tataouinensis_TTB310\"\r\n"
       ]
      },
      {
       "output_type": "stream",
       "stream": "stdout",
       "text": [
        "Indexing: \"Desulfobacca_acetoxidans_DSM_11109\"\r\n"
       ]
      },
      {
       "output_type": "stream",
       "stream": "stdout",
       "text": [
        "Indexing: \"Saprospira_grandis_str_Lewin\"\r\n"
       ]
      },
      {
       "output_type": "stream",
       "stream": "stdout",
       "text": [
        "Indexing: \"Moorella_thermoacetica_ATCC_39073\"\r\n"
       ]
      },
      {
       "output_type": "stream",
       "stream": "stdout",
       "text": [
        "Indexing: \"Chlorobium_phaeovibrioides_DSM_265\"\r\n"
       ]
      },
      {
       "output_type": "stream",
       "stream": "stdout",
       "text": [
        "Indexing: \"Amycolatopsis_orientalis_HCCB10007\"\r\n"
       ]
      },
      {
       "output_type": "stream",
       "stream": "stdout",
       "text": [
        "Indexing: \"Xanthomonas_axonopodis_Xac29-1\"\r\n"
       ]
      },
      {
       "output_type": "stream",
       "stream": "stdout",
       "text": [
        "Indexing: \"Terriglobus_saanensis_SP1PR4\"\r\n"
       ]
      },
      {
       "output_type": "stream",
       "stream": "stdout",
       "text": [
        "Indexing: \"Microlunatus_phosphovorus_NM-1\"\r\n"
       ]
      },
      {
       "output_type": "stream",
       "stream": "stdout",
       "text": [
        "Indexing: \"Rhodothermus_marinus_DSM_4252\"\r\n",
        "Indexing: \"Komagataeibacter_xylinus_E25\"\r\n"
       ]
      },
      {
       "output_type": "stream",
       "stream": "stdout",
       "text": [
        "Indexing: \"Streptococcus_gordonii_str_Challis_substr_CH1\"\r\n"
       ]
      },
      {
       "output_type": "stream",
       "stream": "stdout",
       "text": [
        "Indexing: \"Phenylobacterium_zucineum_HLK1\"\r\n"
       ]
      },
      {
       "output_type": "stream",
       "stream": "stdout",
       "text": [
        "Indexing: \"Sanguibacter_keddieii_DSM_10542\"\r\n"
       ]
      },
      {
       "output_type": "stream",
       "stream": "stdout",
       "text": [
        "Indexing: \"Riemerella_anatipestifer_RA-CH-1\"\r\n"
       ]
      },
      {
       "output_type": "stream",
       "stream": "stdout",
       "text": [
        "Indexing: \"Caldicellulosiruptor_owensensis_OL\"\r\n"
       ]
      },
      {
       "output_type": "stream",
       "stream": "stdout",
       "text": [
        "Indexing: \"Xanthomonas_axonopodis_pv_citrumelo_F1\"\r\n"
       ]
      },
      {
       "output_type": "stream",
       "stream": "stdout",
       "text": [
        "Indexing: \"Bacillus_coagulans_36D1\"\r\n"
       ]
      },
      {
       "output_type": "stream",
       "stream": "stdout",
       "text": [
        "Indexing: \"Verminephrobacter_eiseniae_EF01-2\"\r\n"
       ]
      },
      {
       "output_type": "stream",
       "stream": "stdout",
       "text": [
        "Indexing: \"Roseiflexus_castenholzii_DSM_13941\"\r\n"
       ]
      },
      {
       "output_type": "stream",
       "stream": "stdout",
       "text": [
        "Indexing: \"Ralstonia_eutropha_JMP134\"\r\n"
       ]
      },
      {
       "output_type": "stream",
       "stream": "stdout",
       "text": [
        "Indexing: \"Legionella_longbeachae_NSW150\"\r\n"
       ]
      },
      {
       "output_type": "stream",
       "stream": "stdout",
       "text": [
        "Indexing: \"Mycobacterium_abscessus_subsp_bolletii_103\"\r\n"
       ]
      },
      {
       "output_type": "stream",
       "stream": "stdout",
       "text": [
        "Indexing: \"Sinorhizobium_meliloti_Rm41\"\r\n"
       ]
      },
      {
       "output_type": "stream",
       "stream": "stdout",
       "text": [
        "Indexing: \"Halorhodospira_halophila_SL1\"\r\n"
       ]
      },
      {
       "output_type": "stream",
       "stream": "stdout",
       "text": [
        "Indexing: \"Pseudomonas_poae_RE*1-1-14\"\r\n"
       ]
      },
      {
       "output_type": "stream",
       "stream": "stdout",
       "text": [
        "Indexing: \"Saccharothrix_espanaensis_DSM_44229\"\r\n"
       ]
      },
      {
       "output_type": "stream",
       "stream": "stdout",
       "text": [
        "Indexing: \"Candidatus_Arthromitus_sp_SFB-mouse-Yit\"\r\n"
       ]
      },
      {
       "output_type": "stream",
       "stream": "stdout",
       "text": [
        "Indexing: \"Spiroplasma_sabaudiense_Ar-1343\"\r\n"
       ]
      },
      {
       "output_type": "stream",
       "stream": "stdout",
       "text": [
        "Indexing: \"Bartonella_tribocorum_CIP_105476\"\r\n"
       ]
      },
      {
       "output_type": "stream",
       "stream": "stdout",
       "text": [
        "Indexing: \"Gramella_forsetii_KT0803\"\r\n"
       ]
      },
      {
       "output_type": "stream",
       "stream": "stdout",
       "text": [
        "Indexing: \"Burkholderia_cenocepacia_J2315\"\r\n"
       ]
      },
      {
       "output_type": "stream",
       "stream": "stdout",
       "text": [
        "Indexing: \"Ehrlichia_canis_str_Jake\"\r\n"
       ]
      },
      {
       "output_type": "stream",
       "stream": "stdout",
       "text": [
        "Indexing: \"Thermobifida_fusca_YX\"\r\n"
       ]
      },
      {
       "output_type": "stream",
       "stream": "stdout",
       "text": [
        "Indexing: \"Streptococcus_pasteurianus_ATCC_43144\"\r\n"
       ]
      },
      {
       "output_type": "stream",
       "stream": "stdout",
       "text": [
        "Indexing: \"Streptococcus_parauberis_NCFD_2020\"\r\n"
       ]
      },
      {
       "output_type": "stream",
       "stream": "stdout",
       "text": [
        "Indexing: \"Rhizobium_etli_CFN_42\"\r\n"
       ]
      },
      {
       "output_type": "stream",
       "stream": "stdout",
       "text": [
        "No Fasta format sequences in the database\r\n"
       ]
      },
      {
       "output_type": "stream",
       "stream": "stdout",
       "text": [
        "Indexing: \"Mycoplasma_pneumoniae_309\"\r\n"
       ]
      },
      {
       "output_type": "stream",
       "stream": "stdout",
       "text": [
        "Indexing: \"Rhodobacter_sphaeroides_WS8N\"\r\n"
       ]
      },
      {
       "output_type": "stream",
       "stream": "stdout",
       "text": [
        "Indexing: \"Rhizobium_leguminosarum_bv_viciae_3841\"\r\n"
       ]
      },
      {
       "output_type": "stream",
       "stream": "stdout",
       "text": [
        "Indexing: \"Thermosynechococcus_elongatus_BP-1\"\r\n"
       ]
      },
      {
       "output_type": "stream",
       "stream": "stdout",
       "text": [
        "Indexing: \"Acidothermus_cellulolyticus_11B\"\r\n"
       ]
      },
      {
       "output_type": "stream",
       "stream": "stdout",
       "text": [
        "Indexing: \"Desulfotomaculum_gibsoniae_DSM_7213\"\r\n"
       ]
      },
      {
       "output_type": "stream",
       "stream": "stdout",
       "text": [
        "Indexing: \"Aquifex_aeolicus_VF5\"\r\n"
       ]
      },
      {
       "output_type": "stream",
       "stream": "stdout",
       "text": [
        "Indexing: \"Sphingomonas_sanxanigenens_DSM_19645_NX02\"\r\n"
       ]
      },
      {
       "output_type": "stream",
       "stream": "stdout",
       "text": [
        "Indexing: \"Acidovorax_ebreus_TPSY\"\r\n"
       ]
      },
      {
       "output_type": "stream",
       "stream": "stdout",
       "text": [
        "Indexing: \"Leuconostoc_gelidum_JB7\"\r\n"
       ]
      },
      {
       "output_type": "stream",
       "stream": "stdout",
       "text": [
        "Indexing: \"Pelobacter_propionicus_DSM_2379\"\r\n"
       ]
      },
      {
       "output_type": "stream",
       "stream": "stdout",
       "text": [
        "Indexing: \"Arcobacter_butzleri_RM4018\"\r\n"
       ]
      },
      {
       "output_type": "stream",
       "stream": "stdout",
       "text": [
        "Indexing: \"Methylibium_petroleiphilum_PM1\"\r\n"
       ]
      },
      {
       "output_type": "stream",
       "stream": "stdout",
       "text": [
        "Indexing: \"Flexibacter_litoralis_DSM_6794\"\r\n"
       ]
      },
      {
       "output_type": "stream",
       "stream": "stdout",
       "text": [
        "Indexing: \"Borrelia_recurrentis_A1\"\r\n"
       ]
      },
      {
       "output_type": "stream",
       "stream": "stdout",
       "text": [
        "Indexing: \"Shewanella_piezotolerans_WP3\"\r\n"
       ]
      },
      {
       "output_type": "stream",
       "stream": "stdout",
       "text": [
        "Indexing: \"Escherichia_albertii_KF1\"\r\n"
       ]
      },
      {
       "output_type": "stream",
       "stream": "stdout",
       "text": [
        "Indexing: \"Leisingera_methylohalidivorans_DSM_14336\"\r\n"
       ]
      },
      {
       "output_type": "stream",
       "stream": "stdout",
       "text": [
        "Indexing: \"Treponema_pedis_str_T_A4\"\r\n"
       ]
      },
      {
       "output_type": "stream",
       "stream": "stdout",
       "text": [
        "Indexing: \"Gloeobacter_violaceus_PCC_7421\"\r\n"
       ]
      },
      {
       "output_type": "stream",
       "stream": "stdout",
       "text": [
        "Indexing: \"Solitalea_canadensis_DSM_3403\"\r\n"
       ]
      },
      {
       "output_type": "stream",
       "stream": "stdout",
       "text": [
        "Indexing: \"Campylobacter_subantarcticus_LMG_24377\"\r\n"
       ]
      },
      {
       "output_type": "stream",
       "stream": "stdout",
       "text": [
        "Indexing: \"Pseudomonas_mosselii_SJ10\"\r\n"
       ]
      },
      {
       "output_type": "stream",
       "stream": "stdout",
       "text": [
        "Indexing: \"Serratia_proteamaculans_568\"\r\n"
       ]
      },
      {
       "output_type": "stream",
       "stream": "stdout",
       "text": [
        "Indexing: \"Propionibacterium_acnes_HL096PA1\"\r\n"
       ]
      },
      {
       "output_type": "stream",
       "stream": "stdout",
       "text": [
        "Indexing: \"Clostridium_pasteurianum_DSM_525_ATCC_6013\"\r\n"
       ]
      },
      {
       "output_type": "stream",
       "stream": "stdout",
       "text": [
        "Indexing: \"Zymomonas_mobilis_subsp_mobilis_ZM4_ATCC_31821\"\r\n"
       ]
      },
      {
       "output_type": "stream",
       "stream": "stdout",
       "text": [
        "Indexing: \"Serratia_marcescens_SM39\"\r\n"
       ]
      },
      {
       "output_type": "stream",
       "stream": "stdout",
       "text": [
        "Indexing: \"Hydrogenobacter_thermophilus_TK-6\"\r\n"
       ]
      },
      {
       "output_type": "stream",
       "stream": "stdout",
       "text": [
        "Indexing: \"Pantoea_vagans_C9-1\"\r\n"
       ]
      },
      {
       "output_type": "stream",
       "stream": "stdout",
       "text": [
        "Indexing: \"Caldicellulosiruptor_kronotskyensis_2002\"\r\n"
       ]
      },
      {
       "output_type": "stream",
       "stream": "stdout",
       "text": [
        "Indexing: \"Rickettsia_philipii_str_364D\"\r\n"
       ]
      },
      {
       "output_type": "stream",
       "stream": "stdout",
       "text": [
        "Indexing: \"Fervidobacterium_nodosum_Rt17-B1\"\r\n"
       ]
      },
      {
       "output_type": "stream",
       "stream": "stdout",
       "text": [
        "Indexing: \"Pedobacter_saltans_DSM_12145\"\r\n"
       ]
      },
      {
       "output_type": "stream",
       "stream": "stdout",
       "text": [
        "Indexing: \"Francisella_noatunensis_subsp_orientalis_str_Toba_04\"\r\n"
       ]
      },
      {
       "output_type": "stream",
       "stream": "stdout",
       "text": [
        "Indexing: \"Cyclobacterium_marinum_DSM_745\"\r\n"
       ]
      },
      {
       "output_type": "stream",
       "stream": "stdout",
       "text": [
        "Indexing: \"Geodermatophilus_obscurus_DSM_43160\"\r\n"
       ]
      },
      {
       "output_type": "stream",
       "stream": "stdout",
       "text": [
        "Indexing: \"Thermoanaerobacter_mathranii_subsp_mathranii_str_A3\"\r\n"
       ]
      },
      {
       "output_type": "stream",
       "stream": "stdout",
       "text": [
        "Indexing: \"Persephonella_marina_EX-H1\"\r\n"
       ]
      },
      {
       "output_type": "stream",
       "stream": "stdout",
       "text": [
        "Indexing: \"Thermomicrobium_roseum_DSM_5159\"\r\n"
       ]
      },
      {
       "output_type": "stream",
       "stream": "stdout",
       "text": [
        "Indexing: \"Methylobacillus_flagellatus_KT\"\r\n"
       ]
      },
      {
       "output_type": "stream",
       "stream": "stdout",
       "text": [
        "Indexing: \"Clostridium_cellulolyticum_H10\"\r\n"
       ]
      },
      {
       "output_type": "stream",
       "stream": "stdout",
       "text": [
        "Indexing: \"Vibrio_vulnificus_MO6-24_O\"\r\n"
       ]
      },
      {
       "output_type": "stream",
       "stream": "stdout",
       "text": [
        "Indexing: \"Anaeromyxobacter_dehalogenans_2CP-C\"\r\n"
       ]
      },
      {
       "output_type": "stream",
       "stream": "stdout",
       "text": [
        "Indexing: \"Bacillus_pseudofirmus_OF4\"\r\n"
       ]
      },
      {
       "output_type": "stream",
       "stream": "stdout",
       "text": [
        "Indexing: \"Ralstonia_pickettii_12D\"\r\n"
       ]
      },
      {
       "output_type": "stream",
       "stream": "stdout",
       "text": [
        "Indexing: \"Mycoplasma_putrefaciens_KS1\"\r\n"
       ]
      },
      {
       "output_type": "stream",
       "stream": "stdout",
       "text": [
        "Indexing: \"Phaeobacter_gallaeciensis_2_10\"\r\n"
       ]
      },
      {
       "output_type": "stream",
       "stream": "stdout",
       "text": [
        "Indexing: \"Shimwellia_blattae_DSM_4481_NBRC_105725\"\r\n"
       ]
      },
      {
       "output_type": "stream",
       "stream": "stdout",
       "text": [
        "Indexing: \"Thermotoga_profunda_AZM34c06\"\r\n"
       ]
      },
      {
       "output_type": "stream",
       "stream": "stdout",
       "text": [
        "Indexing: \"Aliivibrio_salmonicida_LFI1238\"\r\n"
       ]
      },
      {
       "output_type": "stream",
       "stream": "stdout",
       "text": [
        "Indexing: \"Pseudomonas_syringae_pv_phaseolicola_1448A\"\r\n"
       ]
      },
      {
       "output_type": "stream",
       "stream": "stdout",
       "text": [
        "Indexing: \"Salmonella_bongori_NCTC_12419\"\r\n"
       ]
      },
      {
       "output_type": "stream",
       "stream": "stdout",
       "text": [
        "Indexing: \"Candidatus_Hodgkinia_cicadicola_Dsem\"\r\n"
       ]
      },
      {
       "output_type": "stream",
       "stream": "stdout",
       "text": [
        "Indexing: \"Sulfobacillus_acidophilus_DSM_10332\"\r\n"
       ]
      },
      {
       "output_type": "stream",
       "stream": "stdout",
       "text": [
        "Indexing: \"Brachyspira_murdochii_DSM_12563\"\r\n"
       ]
      },
      {
       "output_type": "stream",
       "stream": "stdout",
       "text": [
        "Indexing: \"Roseburia_hominis_A2-183\"\r\n"
       ]
      },
      {
       "output_type": "stream",
       "stream": "stdout",
       "text": [
        "Indexing: \"Ralstonia_eutropha_H16\"\r\n"
       ]
      },
      {
       "output_type": "stream",
       "stream": "stdout",
       "text": [
        "Indexing: \"Sinorhizobium_medicae_WSM419\"\r\n"
       ]
      },
      {
       "output_type": "stream",
       "stream": "stdout",
       "text": [
        "Indexing: \"Bacillus_weihenstephanensis_KBAB4\"\r\n"
       ]
      },
      {
       "output_type": "stream",
       "stream": "stdout",
       "text": [
        "Indexing: \"Advenella_kashmirensis_WT001\"\r\n"
       ]
      },
      {
       "output_type": "stream",
       "stream": "stdout",
       "text": [
        "Indexing: \"Microcystis_aeruginosa_NIES-843\"\r\n"
       ]
      },
      {
       "output_type": "stream",
       "stream": "stdout",
       "text": [
        "Indexing: \"Marinomonas_mediterranea_MMB-1\"\r\n"
       ]
      },
      {
       "output_type": "stream",
       "stream": "stdout",
       "text": [
        "Indexing: \"Bacillus_anthracis_str_H9401\"\r\n"
       ]
      },
      {
       "output_type": "stream",
       "stream": "stdout",
       "text": [
        "Indexing: \"Lactobacillus_sakei_subsp_sakei_23K\"\r\n"
       ]
      },
      {
       "output_type": "stream",
       "stream": "stdout",
       "text": [
        "Indexing: \"Bacillus_bombysepticus_str_Wang\"\r\n"
       ]
      },
      {
       "output_type": "stream",
       "stream": "stdout",
       "text": [
        "Indexing: \"Mycoplasma_mobile_163K\"\r\n"
       ]
      },
      {
       "output_type": "stream",
       "stream": "stdout",
       "text": [
        "Indexing: \"Serratia_plymuthica_AS9\"\r\n"
       ]
      },
      {
       "output_type": "stream",
       "stream": "stdout",
       "text": [
        "Indexing: \"Actinobacillus_pleuropneumoniae_serovar_5b_str_L20\"\r\n"
       ]
      },
      {
       "output_type": "stream",
       "stream": "stdout",
       "text": [
        "Indexing: \"Shewanella_frigidimarina_NCIMB_400\"\r\n"
       ]
      },
      {
       "output_type": "stream",
       "stream": "stdout",
       "text": [
        "Indexing: \"Micrococcus_luteus_NCTC_2665\"\r\n"
       ]
      },
      {
       "output_type": "stream",
       "stream": "stdout",
       "text": [
        "Indexing: \"Sodalis_glossinidius_str_morsitans\"\r\n"
       ]
      },
      {
       "output_type": "stream",
       "stream": "stdout",
       "text": [
        "Indexing: \"Magnetospirillum_magneticum_AMB-1\"\r\n"
       ]
      },
      {
       "output_type": "stream",
       "stream": "stdout",
       "text": [
        "Indexing: \"Sphingomonas_wittichii_RW1\"\r\n"
       ]
      },
      {
       "output_type": "stream",
       "stream": "stdout",
       "text": [
        "Indexing: \"Pelobacter_carbinolicus_DSM_2380\"\r\n"
       ]
      },
      {
       "output_type": "stream",
       "stream": "stdout",
       "text": [
        "Indexing: \"Cryptobacterium_curtum_DSM_15641\"\r\n"
       ]
      },
      {
       "output_type": "stream",
       "stream": "stdout",
       "text": [
        "Indexing: \"Saccharophagus_degradans_2-40\"\r\n"
       ]
      },
      {
       "output_type": "stream",
       "stream": "stdout",
       "text": [
        "Indexing: \"Desulfovibrio_alaskensis_G20\"\r\n"
       ]
      },
      {
       "output_type": "stream",
       "stream": "stdout",
       "text": [
        "Indexing: \"Pediococcus_claussenii_ATCC_BAA-344\"\r\n"
       ]
      },
      {
       "output_type": "stream",
       "stream": "stdout",
       "text": [
        "Indexing: \"Methylobacterium_populi_BJ001\"\r\n"
       ]
      },
      {
       "output_type": "stream",
       "stream": "stdout",
       "text": [
        "Indexing: \"Candidatus_Cloacimonas_acidaminovorans_str_Evry\"\r\n"
       ]
      },
      {
       "output_type": "stream",
       "stream": "stdout",
       "text": [
        "Indexing: \"Borrelia_valaisiana_VS116\"\r\n"
       ]
      },
      {
       "output_type": "stream",
       "stream": "stdout",
       "text": [
        "Indexing: \"Coprothermobacter_proteolyticus_DSM_5265\"\r\n"
       ]
      },
      {
       "output_type": "stream",
       "stream": "stdout",
       "text": [
        "Indexing: \"Thermus_scotoductus_SA-01\"\r\n"
       ]
      },
      {
       "output_type": "stream",
       "stream": "stdout",
       "text": [
        "Indexing: \"Zunongwangia_profunda_SM-A87\"\r\n",
        "Indexing: \"Bacillus_atrophaeus_1942\"\r\n"
       ]
      },
      {
       "output_type": "stream",
       "stream": "stdout",
       "text": [
        "Indexing: \"Prevotella_dentalis_DSM_3688\"\r\n"
       ]
      },
      {
       "output_type": "stream",
       "stream": "stdout",
       "text": [
        "Indexing: \"Tsukamurella_paurometabola_DSM_20162\"\r\n"
       ]
      },
      {
       "output_type": "stream",
       "stream": "stdout",
       "text": [
        "Indexing: \"Acidaminococcus_fermentans_DSM_20731\"\r\n"
       ]
      },
      {
       "output_type": "stream",
       "stream": "stdout",
       "text": [
        "Indexing: \"Cycloclasticus_zancles_7-ME\"\r\n"
       ]
      },
      {
       "output_type": "stream",
       "stream": "stdout",
       "text": [
        "Indexing: \"Campylobacter_hominis_ATCC_BAA-381\"\r\n"
       ]
      },
      {
       "output_type": "stream",
       "stream": "stdout",
       "text": [
        "Indexing: \"Propionibacterium_propionicum_F0230a\"\r\n"
       ]
      },
      {
       "output_type": "stream",
       "stream": "stdout",
       "text": [
        "Indexing: \"Actinobacillus_succinogenes_130Z\"\r\n"
       ]
      },
      {
       "output_type": "stream",
       "stream": "stdout",
       "text": [
        "Indexing: \"Streptococcus_uberis_0140J\"\r\n"
       ]
      },
      {
       "output_type": "stream",
       "stream": "stdout",
       "text": [
        "Indexing: \"Klebsiella_variicola_At-22\"\r\n"
       ]
      },
      {
       "output_type": "stream",
       "stream": "stdout",
       "text": [
        "Indexing: \"Rickettsia_akari_str_Hartford\"\r\n"
       ]
      },
      {
       "output_type": "stream",
       "stream": "stdout",
       "text": [
        "Indexing: \"Campylobacter_volucris_LMG_24379\"\r\n"
       ]
      },
      {
       "output_type": "stream",
       "stream": "stdout",
       "text": [
        "Indexing: \"Prochlorococcus_marinus_str_MIT_9312\"\r\n"
       ]
      },
      {
       "output_type": "stream",
       "stream": "stdout",
       "text": [
        "Indexing: \"Mycoplasma_arthritidis_158L3-1\"\r\n"
       ]
      },
      {
       "output_type": "stream",
       "stream": "stdout",
       "text": [
        "Indexing: \"Truepera_radiovictrix_DSM_17093\"\r\n"
       ]
      },
      {
       "output_type": "stream",
       "stream": "stdout",
       "text": [
        "Indexing: \"Eubacterium_acidaminophilum_DSM_3953\"\r\n"
       ]
      },
      {
       "output_type": "stream",
       "stream": "stdout",
       "text": [
        "Indexing: \"Gemmatimonas_aurantiaca_T-27\"\r\n"
       ]
      },
      {
       "output_type": "stream",
       "stream": "stdout",
       "text": [
        "Indexing: \"Alcanivorax_borkumensis_SK2\"\r\n"
       ]
      },
      {
       "output_type": "stream",
       "stream": "stdout",
       "text": [
        "Indexing: \"Thermotoga_lettingae_TMO\"\r\n"
       ]
      },
      {
       "output_type": "stream",
       "stream": "stdout",
       "text": [
        "Indexing: \"Clostridium_novyi_NT\"\r\n"
       ]
      },
      {
       "output_type": "stream",
       "stream": "stdout",
       "text": [
        "Indexing: \"Rhodococcus_jostii_RHA1\"\r\n"
       ]
      },
      {
       "output_type": "stream",
       "stream": "stdout",
       "text": [
        "Indexing: \"Thermovirga_lienii_DSM_17291\"\r\n"
       ]
      },
      {
       "output_type": "stream",
       "stream": "stdout",
       "text": [
        "Indexing: \"Desulfitobacterium_dichloroeliminans_LMG_P-21439\"\r\n"
       ]
      },
      {
       "output_type": "stream",
       "stream": "stdout",
       "text": [
        "Indexing: \"Helicobacter_cinaedi_PAGU611\"\r\n"
       ]
      },
      {
       "output_type": "stream",
       "stream": "stdout",
       "text": [
        "Indexing: \"Desulfarculus_baarsii_DSM_2075\"\r\n"
       ]
      },
      {
       "output_type": "stream",
       "stream": "stdout",
       "text": [
        "Indexing: \"Desulfotomaculum_ruminis_DSM_2154\"\r\n"
       ]
      },
      {
       "output_type": "stream",
       "stream": "stdout",
       "text": [
        "Indexing: \"Mycoplasma_mycoides_subsp_capri_LC_str_95010\"\r\n"
       ]
      },
      {
       "output_type": "stream",
       "stream": "stdout",
       "text": [
        "Indexing: \"Mycobacterium_rhodesiae_NBB3\"\r\n"
       ]
      },
      {
       "output_type": "stream",
       "stream": "stdout",
       "text": [
        "Indexing: \"Thermotoga_caldifontis_AZM44c09\"\r\n"
       ]
      },
      {
       "output_type": "stream",
       "stream": "stdout",
       "text": [
        "Indexing: \"Thiocystis_violascens_DSM_198\"\r\n"
       ]
      },
      {
       "output_type": "stream",
       "stream": "stdout",
       "text": [
        "Indexing: \"Desulfobulbus_propionicus_DSM_2032\"\r\n"
       ]
      },
      {
       "output_type": "stream",
       "stream": "stdout",
       "text": [
        "Indexing: \"Chlamydophila_caviae_GPIC\"\r\n"
       ]
      },
      {
       "output_type": "stream",
       "stream": "stdout",
       "text": [
        "Indexing: \"Lactobacillus_kefiranofaciens_ZW3\"\r\n"
       ]
      },
      {
       "output_type": "stream",
       "stream": "stdout",
       "text": [
        "Indexing: \"Rhodococcus_equi_103S\"\r\n"
       ]
      },
      {
       "output_type": "stream",
       "stream": "stdout",
       "text": [
        "Indexing: \"Pseudomonas_brassicacearum_subsp_brassicacearum_NFM421\"\r\n"
       ]
      },
      {
       "output_type": "stream",
       "stream": "stdout",
       "text": [
        "Indexing: \"Candidatus_Nasuia_deltocephalinicola_str_NAS-ALF\"\r\n"
       ]
      },
      {
       "output_type": "stream",
       "stream": "stdout",
       "text": [
        "Indexing: \"Caldisericum_exile_AZM16c01\"\r\n"
       ]
      },
      {
       "output_type": "stream",
       "stream": "stdout",
       "text": [
        "Indexing: \"Enterobacter_cloacae_subsp_cloacae_ATCC_13047\"\r\n"
       ]
      },
      {
       "output_type": "stream",
       "stream": "stdout",
       "text": [
        "Indexing: \"Syntrophomonas_wolfei_subsp_wolfei_str_Goettingen_G311\"\r\n"
       ]
      },
      {
       "output_type": "stream",
       "stream": "stdout",
       "text": [
        "Indexing: \"Xanthomonas_axonopodis_pv_citri_str_306\"\r\n"
       ]
      },
      {
       "output_type": "stream",
       "stream": "stdout",
       "text": [
        "Indexing: \"Yersinia_pseudotuberculosis_str_PA3606\"\r\n"
       ]
      },
      {
       "output_type": "stream",
       "stream": "stdout",
       "text": [
        "Indexing: \"Shewanella_loihica_PV-4\"\r\n"
       ]
      },
      {
       "output_type": "stream",
       "stream": "stdout",
       "text": [
        "Indexing: \"Sulfurospirillum_deleyianum_DSM_6946\"\r\n"
       ]
      },
      {
       "output_type": "stream",
       "stream": "stdout",
       "text": [
        "Indexing: \"Bartonella_quintana_RM-11\"\r\n"
       ]
      },
      {
       "output_type": "stream",
       "stream": "stdout",
       "text": [
        "Indexing: \"Amycolicicoccus_subflavus_DQS3-9A1\"\r\n"
       ]
      },
      {
       "output_type": "stream",
       "stream": "stdout",
       "text": [
        "Indexing: \"Borrelia_bissettii_DN127\"\r\n"
       ]
      },
      {
       "output_type": "stream",
       "stream": "stdout",
       "text": [
        "Indexing: \"Lactobacillus_rhamnosus_Lc_705\"\r\n"
       ]
      },
      {
       "output_type": "stream",
       "stream": "stdout",
       "text": [
        "Indexing: \"Pseudomonas_fulva_12-X\"\r\n"
       ]
      },
      {
       "output_type": "stream",
       "stream": "stdout",
       "text": [
        "Indexing: \"Rhizobium_tropici_CIAT_899\"\r\n"
       ]
      },
      {
       "output_type": "stream",
       "stream": "stdout",
       "text": [
        "Indexing: \"Bradyrhizobium_oligotrophicum_S58\"\r\n"
       ]
      },
      {
       "output_type": "stream",
       "stream": "stdout",
       "text": [
        "Indexing: \"Thioalkalimicrobium_cyclicum_ALM1\"\r\n"
       ]
      },
      {
       "output_type": "stream",
       "stream": "stdout",
       "text": [
        "Indexing: \"Streptococcus_thermophilus_ND03\"\r\n"
       ]
      },
      {
       "output_type": "stream",
       "stream": "stdout",
       "text": [
        "Indexing: \"Sphaerochaeta_coccoides_DSM_17374\"\r\n"
       ]
      },
      {
       "output_type": "stream",
       "stream": "stdout",
       "text": [
        "Indexing: \"Caldanaerobacter_subterraneus_subsp_tengcongensis_MB4\"\r\n"
       ]
      },
      {
       "output_type": "stream",
       "stream": "stdout",
       "text": [
        "Indexing: \"Pectobacterium_atrosepticum_SCRI1043\"\r\n"
       ]
      },
      {
       "output_type": "stream",
       "stream": "stdout",
       "text": [
        "Indexing: \"Streptomyces_scabiei_87_22\"\r\n"
       ]
      },
      {
       "output_type": "stream",
       "stream": "stdout",
       "text": [
        "Indexing: \"Brachyspira_pilosicoli_B2904\"\r\n"
       ]
      },
      {
       "output_type": "stream",
       "stream": "stdout",
       "text": [
        "Indexing: \"Mycoplasma_hominis_ATCC_23114\"\r\n"
       ]
      },
      {
       "output_type": "stream",
       "stream": "stdout",
       "text": [
        "Indexing: \"Neisseria_elongata_subsp_glycolytica_ATCC_29315\"\r\n"
       ]
      },
      {
       "output_type": "stream",
       "stream": "stdout",
       "text": [
        "Indexing: \"Bdellovibrio_bacteriovorus_W\"\r\n"
       ]
      },
      {
       "output_type": "stream",
       "stream": "stdout",
       "text": [
        "Indexing: \"Desulfovibrio_desulfuricans_subsp_desulfuricans_str_ATCC_27774\"\r\n"
       ]
      },
      {
       "output_type": "stream",
       "stream": "stdout",
       "text": [
        "Indexing: \"Spiroplasma_syrphidicola_EA-1\"\r\n"
       ]
      },
      {
       "output_type": "stream",
       "stream": "stdout",
       "text": [
        "Indexing: \"Odoribacter_splanchnicus_DSM_20712\"\r\n"
       ]
      },
      {
       "output_type": "stream",
       "stream": "stdout",
       "text": [
        "Indexing: \"Chlorobaculum_parvum_NCIB_8327\"\r\n"
       ]
      },
      {
       "output_type": "stream",
       "stream": "stdout",
       "text": [
        "Indexing: \"Bartonella_clarridgeiae_73\"\r\n"
       ]
      },
      {
       "output_type": "stream",
       "stream": "stdout",
       "text": [
        "Indexing: \"Wigglesworthia_glossinidia_endosymbiont_of_Glossina_brevipalpis\"\r\n"
       ]
      },
      {
       "output_type": "stream",
       "stream": "stdout",
       "text": [
        "Indexing: \"Lactobacillus_casei_12A\"\r\n"
       ]
      },
      {
       "output_type": "stream",
       "stream": "stdout",
       "text": [
        "Indexing: \"Dictyoglomus_thermophilum_H-6-12\"\r\n"
       ]
      },
      {
       "output_type": "stream",
       "stream": "stdout",
       "text": [
        "Indexing: \"Mycobacterium_gilvum_PYR-GCK\"\r\n"
       ]
      },
      {
       "output_type": "stream",
       "stream": "stdout",
       "text": [
        "Indexing: \"Candidatus_Moranella_endobia_PCVAL\"\r\n"
       ]
      },
      {
       "output_type": "stream",
       "stream": "stdout",
       "text": [
        "Indexing: \"Acidiphilium_multivorum_AIU301\"\r\n"
       ]
      },
      {
       "output_type": "stream",
       "stream": "stdout",
       "text": [
        "Indexing: \"Mesorhizobium_opportunistum_WSM2075\"\r\n"
       ]
      },
      {
       "output_type": "stream",
       "stream": "stdout",
       "text": [
        "Indexing: \"Campylobacter_coli_CVM_N29710\"\r\n"
       ]
      },
      {
       "output_type": "stream",
       "stream": "stdout",
       "text": [
        "Indexing: \"Pectobacterium_carotovorum_subsp_odoriferum\"\r\n"
       ]
      },
      {
       "output_type": "stream",
       "stream": "stdout",
       "text": [
        "Indexing: \"Leuconostoc_citreum_KM20\"\r\n"
       ]
      },
      {
       "output_type": "stream",
       "stream": "stdout",
       "text": [
        "Indexing: \"Roseobacter_litoralis_Och_149\"\r\n"
       ]
      },
      {
       "output_type": "stream",
       "stream": "stdout",
       "text": [
        "Indexing: \"Shewanella_sediminis_HAW-EB3\"\r\n"
       ]
      },
      {
       "output_type": "stream",
       "stream": "stdout",
       "text": [
        "Indexing: \"Sphaerochaeta_globosa_str_Buddy\"\r\n"
       ]
      },
      {
       "output_type": "stream",
       "stream": "stdout",
       "text": [
        "Indexing: \"Sulfurimonas_autotrophica_DSM_16294\"\r\n"
       ]
      },
      {
       "output_type": "stream",
       "stream": "stdout",
       "text": [
        "Indexing: \"Acinetobacter_baumannii_ZW85-1\"\r\n"
       ]
      },
      {
       "output_type": "stream",
       "stream": "stdout",
       "text": [
        "Indexing: \"Thermobaculum_terrenum_ATCC_BAA-798\"\r\n"
       ]
      },
      {
       "output_type": "stream",
       "stream": "stdout",
       "text": [
        "Indexing: \"Xanthomonas_oryzae_pv_oryzae_PXO99A\"\r\n"
       ]
      },
      {
       "output_type": "stream",
       "stream": "stdout",
       "text": [
        "Indexing: \"Cellulomonas_flavigena_DSM_20109\"\r\n"
       ]
      },
      {
       "output_type": "stream",
       "stream": "stdout",
       "text": [
        "Indexing: \"Mycoplasma_flocculare_ATCC_27399\"\r\n"
       ]
      },
      {
       "output_type": "stream",
       "stream": "stdout",
       "text": [
        "Indexing: \"Spirosoma_linguale_DSM_74\"\r\n"
       ]
      },
      {
       "output_type": "stream",
       "stream": "stdout",
       "text": [
        "Indexing: \"Chlorobium_chlorochromatii_CaD3\"\r\n"
       ]
      },
      {
       "output_type": "stream",
       "stream": "stdout",
       "text": [
        "Indexing: \"Burkholderia_phytofirmans_PsJN\"\r\n"
       ]
      },
      {
       "output_type": "stream",
       "stream": "stdout",
       "text": [
        "Indexing: \"Streptococcus_mitis_B6\"\r\n"
       ]
      },
      {
       "output_type": "stream",
       "stream": "stdout",
       "text": [
        "Indexing: \"Streptococcus_parasanguinis_ATCC_15912\"\r\n"
       ]
      },
      {
       "output_type": "stream",
       "stream": "stdout",
       "text": [
        "Indexing: \"Corallococcus_coralloides_DSM_2259\"\r\n"
       ]
      },
      {
       "output_type": "stream",
       "stream": "stdout",
       "text": [
        "Indexing: \"Dechloromonas_aromatica_RCB\"\r\n"
       ]
      },
      {
       "output_type": "stream",
       "stream": "stdout",
       "text": [
        "Indexing: \"Citrobacter_rodentium_ICC168\"\r\n"
       ]
      },
      {
       "output_type": "stream",
       "stream": "stdout",
       "text": [
        "Indexing: \"Wolbachia_endosymbiont_of_Onchocerca_volvulus_str_Cameroon\"\r\n"
       ]
      },
      {
       "output_type": "stream",
       "stream": "stdout",
       "text": [
        "Indexing: \"Candidatus_Kinetoplastibacterium_oncopeltii_TCC290E\"\r\n"
       ]
      },
      {
       "output_type": "stream",
       "stream": "stdout",
       "text": [
        "Indexing: \"Chlorobium_phaeobacteroides_DSM_266\"\r\n"
       ]
      },
      {
       "output_type": "stream",
       "stream": "stdout",
       "text": [
        "Indexing: \"Lactobacillus_acidophilus_La-14\"\r\n"
       ]
      },
      {
       "output_type": "stream",
       "stream": "stdout",
       "text": [
        "Indexing: \"Robiginitalea_biformata_HTCC2501\"\r\n"
       ]
      },
      {
       "output_type": "stream",
       "stream": "stdout",
       "text": [
        "Indexing: \"Thermoanaerobacterium_xylanolyticum_LX-11\"\r\n"
       ]
      },
      {
       "output_type": "stream",
       "stream": "stdout",
       "text": [
        "Indexing: \"Xylella_fastidiosa_MUL0034\"\r\n"
       ]
      },
      {
       "output_type": "stream",
       "stream": "stdout",
       "text": [
        "Indexing: \"Actinobacillus_equuli_subsp_equuli\"\r\n"
       ]
      },
      {
       "output_type": "stream",
       "stream": "stdout",
       "text": [
        "Indexing: \"Lactobacillus_reuteri_JCM_1112\"\r\n"
       ]
      },
      {
       "output_type": "stream",
       "stream": "stdout",
       "text": [
        "Indexing: \"Desulfitobacterium_metallireducens_DSM_15288\"\r\n"
       ]
      },
      {
       "output_type": "stream",
       "stream": "stdout",
       "text": [
        "Indexing: \"Taylorella_equigenitalis_MCE9\"\r\n"
       ]
      },
      {
       "output_type": "stream",
       "stream": "stdout",
       "text": [
        "Indexing: \"Desulfitobacterium_dehalogenans_ATCC_51507\"\r\n"
       ]
      },
      {
       "output_type": "stream",
       "stream": "stdout",
       "text": [
        "Indexing: \"Bacillus_cereus_03BB102\"\r\n"
       ]
      },
      {
       "output_type": "stream",
       "stream": "stdout",
       "text": [
        "Indexing: \"Alkaliphilus_oremlandii_OhILAs\"\r\n"
       ]
      },
      {
       "output_type": "stream",
       "stream": "stdout",
       "text": [
        "Indexing: \"Thermoanaerobacter_pseudethanolicus_ATCC_33223\"\r\n"
       ]
      },
      {
       "output_type": "stream",
       "stream": "stdout",
       "text": [
        "Indexing: \"Corynebacterium_glutamicum_ATCC_13032\"\r\n"
       ]
      },
      {
       "output_type": "stream",
       "stream": "stdout",
       "text": [
        "Indexing: \"Xenorhabdus_bovienii_SS-2004\"\r\n"
       ]
      },
      {
       "output_type": "stream",
       "stream": "stdout",
       "text": [
        "Indexing: \"Acidiphilium_cryptum_JF-5\"\r\n"
       ]
      },
      {
       "output_type": "stream",
       "stream": "stdout",
       "text": [
        "Indexing: \"Streptomyces_violaceusniger_Tu_4113\"\r\n"
       ]
      },
      {
       "output_type": "stream",
       "stream": "stdout",
       "text": [
        "Indexing: \"Alteromonas_macleodii_ATCC_27126\"\r\n"
       ]
      },
      {
       "output_type": "stream",
       "stream": "stdout",
       "text": [
        "Indexing: \"Pantoea_ananatis_PA13\"\r\n"
       ]
      },
      {
       "output_type": "stream",
       "stream": "stdout",
       "text": [
        "Indexing: \"Mycobacterium_neoaurum_VKM_Ac-1815D\"\r\n"
       ]
      },
      {
       "output_type": "stream",
       "stream": "stdout",
       "text": [
        "Indexing: \"Oenococcus_kitaharae_DSM_17330\"\r\n"
       ]
      },
      {
       "output_type": "stream",
       "stream": "stdout",
       "text": [
        "Indexing: \"Streptococcus_dysgalactiae_subsp_equisimilis_ATCC_12394\"\r\n"
       ]
      },
      {
       "output_type": "stream",
       "stream": "stdout",
       "text": [
        "Indexing: \"Geobacter_daltonii_FRC-32\"\r\n"
       ]
      },
      {
       "output_type": "stream",
       "stream": "stdout",
       "text": [
        "Indexing: \"Nocardia_brasiliensis_ATCC_700358\"\r\n"
       ]
      },
      {
       "output_type": "stream",
       "stream": "stdout",
       "text": [
        "Indexing: \"Burkholderia_vietnamiensis_G4\"\r\n"
       ]
      },
      {
       "output_type": "stream",
       "stream": "stdout",
       "text": [
        "Indexing: \"Sulfurimonas_gotlandica_GD1\"\r\n"
       ]
      },
      {
       "output_type": "stream",
       "stream": "stdout",
       "text": [
        "Indexing: \"Kutzneria_albida_DSM_43870\"\r\n"
       ]
      },
      {
       "output_type": "stream",
       "stream": "stdout",
       "text": [
        "Indexing: \"Treponema_succinifaciens_DSM_2489\"\r\n"
       ]
      },
      {
       "output_type": "stream",
       "stream": "stdout",
       "text": [
        "Indexing: \"Thermodesulfatator_indicus_DSM_15286\"\r\n"
       ]
      },
      {
       "output_type": "stream",
       "stream": "stdout",
       "text": [
        "Indexing: \"Caldicellulosiruptor_obsidiansis_OB47\"\r\n"
       ]
      },
      {
       "output_type": "stream",
       "stream": "stdout",
       "text": [
        "Indexing: \"Actinobacillus_suis_ATCC_33415\"\r\n"
       ]
      },
      {
       "output_type": "stream",
       "stream": "stdout",
       "text": [
        "Indexing: \"Cupriavidus_metallidurans_CH34\"\r\n"
       ]
      },
      {
       "output_type": "stream",
       "stream": "stdout",
       "text": [
        "Indexing: \"Methylotenera_versatilis_301\"\r\n"
       ]
      },
      {
       "output_type": "stream",
       "stream": "stdout",
       "text": [
        "Indexing: \"Corynebacterium_argentoratense_DSM_44202\"\r\n"
       ]
      },
      {
       "output_type": "stream",
       "stream": "stdout",
       "text": [
        "Indexing: \"Cytophaga_hutchinsonii_ATCC_33406\"\r\n"
       ]
      },
      {
       "output_type": "stream",
       "stream": "stdout",
       "text": [
        "Indexing: \"Thermomonospora_curvata_DSM_43183\"\r\n"
       ]
      },
      {
       "output_type": "stream",
       "stream": "stdout",
       "text": [
        "Indexing: \"Acetobacterium_woodii_DSM_1030\"\r\n"
       ]
      },
      {
       "output_type": "stream",
       "stream": "stdout",
       "text": [
        "Indexing: \"Rickettsia_massiliae_MTU5\"\r\n"
       ]
      },
      {
       "output_type": "stream",
       "stream": "stdout",
       "text": [
        "Indexing: \"Staphylococcus_pseudintermedius_ED99\"\r\n"
       ]
      },
      {
       "output_type": "stream",
       "stream": "stdout",
       "text": [
        "Indexing: \"Haemophilus_parainfluenzae_T3T1\"\r\n"
       ]
      },
      {
       "output_type": "stream",
       "stream": "stdout",
       "text": [
        "Indexing: \"Mahella_australiensis_50-1_BON\"\r\n"
       ]
      },
      {
       "output_type": "stream",
       "stream": "stdout",
       "text": [
        "Indexing: \"Halothiobacillus_neapolitanus_c2\"\r\n"
       ]
      },
      {
       "output_type": "stream",
       "stream": "stdout",
       "text": [
        "Indexing: \"Muricauda_ruestringensis_DSM_13258\"\r\n"
       ]
      },
      {
       "output_type": "stream",
       "stream": "stdout",
       "text": [
        "Indexing: \"Alcanivorax_dieselolei_B5\"\r\n"
       ]
      },
      {
       "output_type": "stream",
       "stream": "stdout",
       "text": [
        "Indexing: \"Leuconostoc_kimchii_IMSNU_11154\"\r\n"
       ]
      },
      {
       "output_type": "stream",
       "stream": "stdout",
       "text": [
        "Indexing: \"Parvularcula_bermudensis_HTCC2503\"\r\n"
       ]
      },
      {
       "output_type": "stream",
       "stream": "stdout",
       "text": [
        "Indexing: \"Alkaliphilus_metalliredigens_QYMF\"\r\n"
       ]
      },
      {
       "output_type": "stream",
       "stream": "stdout",
       "text": [
        "Indexing: \"Thioalkalimicrobium_aerophilum_AL3\"\r\n"
       ]
      },
      {
       "output_type": "stream",
       "stream": "stdout",
       "text": [
        "Indexing: \"Runella_slithyformis_DSM_19594\""
       ]
      },
      {
       "output_type": "stream",
       "stream": "stdout",
       "text": [
        "\r\n"
       ]
      },
      {
       "output_type": "stream",
       "stream": "stdout",
       "text": [
        "Indexing: \"Weeksella_virosa_DSM_16922\"\r\n"
       ]
      },
      {
       "output_type": "stream",
       "stream": "stdout",
       "text": [
        "Indexing: \"Sulfuricella_denitrificans_skB26\"\r\n",
        "Indexing: \"Cellulophaga_lytica_DSM_7489\"\r\n"
       ]
      },
      {
       "output_type": "stream",
       "stream": "stdout",
       "text": [
        "Indexing: \"Bifidobacterium_adolescentis_ATCC_15703\"\r\n"
       ]
      },
      {
       "output_type": "stream",
       "stream": "stdout",
       "text": [
        "Indexing: \"Rickettsia_canadensis_str_McKiel\"\r\n"
       ]
      },
      {
       "output_type": "stream",
       "stream": "stdout",
       "text": [
        "Indexing: \"Mycoplasma_ovis_str_Michigan\"\r\n"
       ]
      },
      {
       "output_type": "stream",
       "stream": "stdout",
       "text": [
        "Indexing: \"Bacillus_cellulosilyticus_DSM_2522\"\r\n"
       ]
      },
      {
       "output_type": "stream",
       "stream": "stdout",
       "text": [
        "Indexing: \"Nitrosospira_multiformis_ATCC_25196\"\r\n"
       ]
      },
      {
       "output_type": "stream",
       "stream": "stdout",
       "text": [
        "Indexing: \"Bifidobacterium_thermophilum_RBL67\"\r\n"
       ]
      },
      {
       "output_type": "stream",
       "stream": "stdout",
       "text": [
        "Indexing: \"Corynebacterium_jeikeium_K411\"\r\n"
       ]
      },
      {
       "output_type": "stream",
       "stream": "stdout",
       "text": [
        "Indexing: \"Porphyromonas_asaccharolytica_DSM_20707\"\r\n"
       ]
      },
      {
       "output_type": "stream",
       "stream": "stdout",
       "text": [
        "Indexing: \"Candidatus_Uzinura_diaspidicola_str_ASNER\"\r\n"
       ]
      },
      {
       "output_type": "stream",
       "stream": "stdout",
       "text": [
        "Indexing: \"Mycoplasma_bovis_HB0801\"\r\n"
       ]
      },
      {
       "output_type": "stream",
       "stream": "stdout",
       "text": [
        "Indexing: \"Staphylococcus_pasteuri_SP1\"\r\n"
       ]
      },
      {
       "output_type": "stream",
       "stream": "stdout",
       "text": [
        "Indexing: \"Thiomicrospira_crunogena_XCL-2\"\r\n"
       ]
      },
      {
       "output_type": "stream",
       "stream": "stdout",
       "text": [
        "Indexing: \"Klebsiella_pneumoniae_subsp_pneumoniae_KPNIH27\"\r\n"
       ]
      },
      {
       "output_type": "stream",
       "stream": "stdout",
       "text": [
        "Indexing: \"Candidatus_Koribacter_versatilis_Ellin345\"\r\n",
        "Indexing: \"Neorickettsia_sennetsu_str_Miyayama\"\r\n"
       ]
      },
      {
       "output_type": "stream",
       "stream": "stdout",
       "text": [
        "Indexing: \"Gluconacetobacter_diazotrophicus_PA1_5\"\r\n"
       ]
      },
      {
       "output_type": "stream",
       "stream": "stdout",
       "text": [
        "Indexing: \"Streptococcus_lutetiensis_033\"\r\n"
       ]
      },
      {
       "output_type": "stream",
       "stream": "stdout",
       "text": [
        "Indexing: \"Propionibacterium_acidipropionici_ATCC_4875\"\r\n"
       ]
      },
      {
       "output_type": "stream",
       "stream": "stdout",
       "text": [
        "Indexing: \"Ruegeria_pomeroyi_DSS-3\"\r\n"
       ]
      },
      {
       "output_type": "stream",
       "stream": "stdout",
       "text": [
        "Indexing: \"Acetobacter_pasteurianus_IFO_3283-03\"\r\n"
       ]
      },
      {
       "output_type": "stream",
       "stream": "stdout",
       "text": [
        "Indexing: \"Helicobacter_felis_ATCC_49179\"\r\n"
       ]
      },
      {
       "output_type": "stream",
       "stream": "stdout",
       "text": [
        "Indexing: \"Candidatus_Liberibacter_solanacearum_CLso-ZC1\"\r\n"
       ]
      },
      {
       "output_type": "stream",
       "stream": "stdout",
       "text": [
        "Indexing: \"Micavibrio_aeruginosavorus_EPB\"\r\n"
       ]
      },
      {
       "output_type": "stream",
       "stream": "stdout",
       "text": [
        "Indexing: \"Desulfobacula_toluolica_Tol2\"\r\n"
       ]
      },
      {
       "output_type": "stream",
       "stream": "stdout",
       "text": [
        "Indexing: \"Campylobacter_insulaenigrae_NCTC_12927\"\r\n"
       ]
      },
      {
       "output_type": "stream",
       "stream": "stdout",
       "text": [
        "Indexing: \"Pseudomonas_syringae_pv_tomato_str_DC3000\""
       ]
      },
      {
       "output_type": "stream",
       "stream": "stdout",
       "text": [
        "\r\n"
       ]
      },
      {
       "output_type": "stream",
       "stream": "stdout",
       "text": [
        "Indexing: \"Psychroflexus_torquis_ATCC_700755\"\r\n"
       ]
      },
      {
       "output_type": "stream",
       "stream": "stdout",
       "text": [
        "Indexing: \"Meiothermus_ruber_DSM_1279\"\r\n"
       ]
      },
      {
       "output_type": "stream",
       "stream": "stdout",
       "text": [
        "Indexing: \"Ehrlichia_muris_AS145\"\r\n"
       ]
      },
      {
       "output_type": "stream",
       "stream": "stdout",
       "text": [
        "Indexing: \"Mycobacterium_indicus_pranii_MTCC_9506\"\r\n"
       ]
      },
      {
       "output_type": "stream",
       "stream": "stdout",
       "text": [
        "Indexing: \"Candidatus_Desulforudis_audaxviator_MP104C\"\r\n"
       ]
      },
      {
       "output_type": "stream",
       "stream": "stdout",
       "text": [
        "Indexing: \"Yersinia_aldovae_670-83\"\r\n"
       ]
      },
      {
       "output_type": "stream",
       "stream": "stdout",
       "text": [
        "Indexing: \"Prevotella_intermedia_17\"\r\n"
       ]
      },
      {
       "output_type": "stream",
       "stream": "stdout",
       "text": [
        "Indexing: \"Campylobacter_fetus_subsp_fetus_82-40\""
       ]
      },
      {
       "output_type": "stream",
       "stream": "stdout",
       "text": [
        "\r\n"
       ]
      },
      {
       "output_type": "stream",
       "stream": "stdout",
       "text": [
        "Indexing: \"Rickettsia_heilongjiangensis_054\"\r\n"
       ]
      },
      {
       "output_type": "stream",
       "stream": "stdout",
       "text": [
        "Indexing: \"Bordetella_holmesii_44057\"\r\n"
       ]
      },
      {
       "output_type": "stream",
       "stream": "stdout",
       "text": [
        "Indexing: \"Pseudomonas_resinovorans_NBRC_106553\"\r\n"
       ]
      },
      {
       "output_type": "stream",
       "stream": "stdout",
       "text": [
        "Indexing: \"Brucella_abortus_S19\"\r\n"
       ]
      },
      {
       "output_type": "stream",
       "stream": "stdout",
       "text": [
        "Indexing: \"Thermoanaerobacter_wiegelii_Rt8_B1\"\r\n"
       ]
      },
      {
       "output_type": "stream",
       "stream": "stdout",
       "text": [
        "Indexing: \"Thiobacillus_denitrificans_ATCC_25259\"\r\n"
       ]
      },
      {
       "output_type": "stream",
       "stream": "stdout",
       "text": [
        "Indexing: \"Candidatus_Vesicomyosocius_okutanii_HA\"\r\n"
       ]
      },
      {
       "output_type": "stream",
       "stream": "stdout",
       "text": [
        "Indexing: \"Orientia_tsutsugamushi_str_Boryong\"\r\n"
       ]
      },
      {
       "output_type": "stream",
       "stream": "stdout",
       "text": [
        "Indexing: \"Bacteroides_salanitronis_DSM_18170\"\r\n"
       ]
      },
      {
       "output_type": "stream",
       "stream": "stdout",
       "text": [
        "Indexing: \"Bacteroides_thetaiotaomicron_VPI-5482\"\r\n"
       ]
      },
      {
       "output_type": "stream",
       "stream": "stdout",
       "text": [
        "Indexing: \"Bacteroides_fragilis_638R\"\r\n",
        "Indexing: \"Macrococcus_caseolyticus_JCSC5402\"\r\n"
       ]
      },
      {
       "output_type": "stream",
       "stream": "stdout",
       "text": [
        "Indexing: \"Lactococcus_lactis_subsp_cremoris_NZ9000\"\r\n"
       ]
      },
      {
       "output_type": "stream",
       "stream": "stdout",
       "text": [
        "Indexing: \"Lactobacillus_brevis_ATCC_367\"\r\n"
       ]
      },
      {
       "output_type": "stream",
       "stream": "stdout",
       "text": [
        "Indexing: \"Symbiobacterium_thermophilum_IAM_14863\"\r\n"
       ]
      },
      {
       "output_type": "stream",
       "stream": "stdout",
       "text": [
        "Indexing: \"Kineococcus_radiotolerans_SRS30216_ATCC_BAA-149\"\r\n"
       ]
      },
      {
       "output_type": "stream",
       "stream": "stdout",
       "text": [
        "Indexing: \"Xanthomonas_albilineans_GPE_PC73\"\r\n"
       ]
      },
      {
       "output_type": "stream",
       "stream": "stdout",
       "text": [
        "Indexing: \"Myxococcus_xanthus_DK_1622\"\r\n"
       ]
      },
      {
       "output_type": "stream",
       "stream": "stdout",
       "text": [
        "Indexing: \"Halanaerobium_praevalens_DSM_2228\"\r\n"
       ]
      },
      {
       "output_type": "stream",
       "stream": "stdout",
       "text": [
        "Indexing: \"Acetohalobium_arabaticum_DSM_5501\"\r\n"
       ]
      },
      {
       "output_type": "stream",
       "stream": "stdout",
       "text": [
        "Indexing: \"Weissella_koreensis_KACC_15510\"\r\n"
       ]
      },
      {
       "output_type": "stream",
       "stream": "stdout",
       "text": [
        "Indexing: \"Rhodococcus_erythropolis_PR4\"\r\n"
       ]
      },
      {
       "output_type": "stream",
       "stream": "stdout",
       "text": [
        "Indexing: \"Arthrobacter_chlorophenolicus_A6\"\r\n"
       ]
      },
      {
       "output_type": "stream",
       "stream": "stdout",
       "text": [
        "Indexing: \"Streptomyces_griseus_subsp_griseus_NBRC_13350\"\r\n"
       ]
      },
      {
       "output_type": "stream",
       "stream": "stdout",
       "text": [
        "Indexing: \"Streptomyces_albus_J1074\"\r\n"
       ]
      },
      {
       "output_type": "stream",
       "stream": "stdout",
       "text": [
        "Indexing: \"Flavobacterium_psychrophilum_FPG101\"\r\n"
       ]
      },
      {
       "output_type": "stream",
       "stream": "stdout",
       "text": [
        "Indexing: \"Bartonella_bacilliformis_KC583\"\r\n"
       ]
      },
      {
       "output_type": "stream",
       "stream": "stdout",
       "text": [
        "Indexing: \"Streptomyces_avermitilis_MA-4680_NBRC_14893\"\r\n"
       ]
      },
      {
       "output_type": "stream",
       "stream": "stdout",
       "text": [
        "Indexing: \"Pseudomonas_monteilii_SB3101\"\r\n"
       ]
      },
      {
       "output_type": "stream",
       "stream": "stdout",
       "text": [
        "Indexing: \"Coxiella_burnetii_CbuK_Q154\"\r\n"
       ]
      },
      {
       "output_type": "stream",
       "stream": "stdout",
       "text": [
        "Indexing: \"Oenococcus_oeni_PSU-1\"\r\n"
       ]
      },
      {
       "output_type": "stream",
       "stream": "stdout",
       "text": [
        "Indexing: \"Shewanella_putrefaciens_200\"\r\n"
       ]
      },
      {
       "output_type": "stream",
       "stream": "stdout",
       "text": [
        "Indexing: \"Dictyoglomus_turgidum_DSM_6724\"\r\n"
       ]
      },
      {
       "output_type": "stream",
       "stream": "stdout",
       "text": [
        "Indexing: \"Chlamydia_avium_10DC88\"\r\n"
       ]
      },
      {
       "output_type": "stream",
       "stream": "stdout",
       "text": [
        "Indexing: \"Colwellia_psychrerythraea_34H\"\r\n"
       ]
      },
      {
       "output_type": "stream",
       "stream": "stdout",
       "text": [
        "Indexing: \"Streptomyces_lividans_TK24\"\r\n"
       ]
      },
      {
       "output_type": "stream",
       "stream": "stdout",
       "text": [
        "Indexing: \"Raoultella_ornithinolytica_B6\"\r\n"
       ]
      },
      {
       "output_type": "stream",
       "stream": "stdout",
       "text": [
        "Indexing: \"Enterococcus_hirae_ATCC_9790\"\r\n"
       ]
      },
      {
       "output_type": "stream",
       "stream": "stdout",
       "text": [
        "Indexing: \"Acidithiobacillus_ferrivorans_SS3\"\r\n"
       ]
      },
      {
       "output_type": "stream",
       "stream": "stdout",
       "text": [
        "Indexing: \"Paludibacter_propionicigenes_WB4\"\r\n"
       ]
      },
      {
       "output_type": "stream",
       "stream": "stdout",
       "text": [
        "Indexing: \"Sphingobium_chlorophenolicum_L-1\"\r\n"
       ]
      },
      {
       "output_type": "stream",
       "stream": "stdout",
       "text": [
        "Indexing: \"Streptomyces_hygroscopicus_subsp_jinggangensis_5008\"\r\n"
       ]
      },
      {
       "output_type": "stream",
       "stream": "stdout",
       "text": [
        "Indexing: \"Desulfurivibrio_alkaliphilus_AHT2\"\r\n"
       ]
      },
      {
       "output_type": "stream",
       "stream": "stdout",
       "text": [
        "Indexing: \"Lactococcus_garvieae_ATCC_49156\"\r\n"
       ]
      },
      {
       "output_type": "stream",
       "stream": "stdout",
       "text": [
        "Indexing: \"Neorickettsia_risticii_str_Illinois\"\r\n"
       ]
      },
      {
       "output_type": "stream",
       "stream": "stdout",
       "text": [
        "Indexing: \"Maricaulis_maris_MCS10\"\r\n"
       ]
      },
      {
       "output_type": "stream",
       "stream": "stdout",
       "text": [
        "Indexing: \"Rhodococcus_pyridinivorans_SB3094\"\r\n"
       ]
      },
      {
       "output_type": "stream",
       "stream": "stdout",
       "text": [
        "Indexing: \"Streptococcus_pneumoniae_INV200\"\r\n"
       ]
      },
      {
       "output_type": "stream",
       "stream": "stdout",
       "text": [
        "Indexing: \"Leuconostoc_carnosum_JB16\"\r\n"
       ]
      },
      {
       "output_type": "stream",
       "stream": "stdout",
       "text": [
        "Indexing: \"_Bacillus_selenitireducens_MLS10\"\r\n"
       ]
      },
      {
       "output_type": "stream",
       "stream": "stdout",
       "text": [
        "Indexing: \"Capnocytophaga_ochracea_DSM_7271\"\r\n"
       ]
      },
      {
       "output_type": "stream",
       "stream": "stdout",
       "text": [
        "Indexing: \"Streptococcus_macedonicus_ACA-DC_198\"\r\n"
       ]
      },
      {
       "output_type": "stream",
       "stream": "stdout",
       "text": [
        "Indexing: \"Listeria_seeligeri_serovar_1_2b_str_SLCC3954\"\r\n"
       ]
      },
      {
       "output_type": "stream",
       "stream": "stdout",
       "text": [
        "Indexing: \"Arthrobacter_aurescens_TC1\"\r\n"
       ]
      },
      {
       "output_type": "stream",
       "stream": "stdout",
       "text": [
        "Indexing: \"Planctomyces_brasiliensis_DSM_5305\"\r\n"
       ]
      },
      {
       "output_type": "stream",
       "stream": "stdout",
       "text": [
        "Indexing: \"Sphingobium_japonicum_UT26S\"\r\n"
       ]
      },
      {
       "output_type": "stream",
       "stream": "stdout",
       "text": [
        "Indexing: \"Carboxydothermus_hydrogenoformans_Z-2901\"\r\n"
       ]
      },
      {
       "output_type": "stream",
       "stream": "stdout",
       "text": [
        "Indexing: \"Psychrobacter_cryohalolentis_K5\"\r\n"
       ]
      },
      {
       "output_type": "stream",
       "stream": "stdout",
       "text": [
        "Indexing: \"Bartonella_vinsonii_subsp_berkhoffii_str_Winnie\"\r\n"
       ]
      },
      {
       "output_type": "stream",
       "stream": "stdout",
       "text": [
        "Indexing: \"Micromonospora_aurantiaca_ATCC_27029\"\r\n"
       ]
      },
      {
       "output_type": "stream",
       "stream": "stdout",
       "text": [
        "Indexing: \"Bifidobacterium_kashiwanohense_PV20-2\"\r\n"
       ]
      },
      {
       "output_type": "stream",
       "stream": "stdout",
       "text": [
        "Indexing: \"Streptococcus_agalactiae_2603V_R\"\r\n"
       ]
      },
      {
       "output_type": "stream",
       "stream": "stdout",
       "text": [
        "Indexing: \"Burkholderia_glumae_BGR1\"\r\n"
       ]
      },
      {
       "output_type": "stream",
       "stream": "stdout",
       "text": [
        "Indexing: \"Frankia_alni_ACN14a\"\r\n"
       ]
      },
      {
       "output_type": "stream",
       "stream": "stdout",
       "text": [
        "Indexing: \"Salinibacter_ruber_DSM_13855\"\r\n"
       ]
      },
      {
       "output_type": "stream",
       "stream": "stdout",
       "text": [
        "Indexing: \"Ilyobacter_polytropus_DSM_2926\"\r\n"
       ]
      },
      {
       "output_type": "stream",
       "stream": "stdout",
       "text": [
        "Indexing: \"Enterococcus_mundtii_QU_25\"\r\n"
       ]
      },
      {
       "output_type": "stream",
       "stream": "stdout",
       "text": [
        "Indexing: \"Chloroflexus_aurantiacus_J-10-fl\"\r\n"
       ]
      },
      {
       "output_type": "stream",
       "stream": "stdout",
       "text": [
        "Indexing: \"Cyanobacterium_aponinum_PCC_10605\"\r\n"
       ]
      },
      {
       "output_type": "stream",
       "stream": "stdout",
       "text": [
        "Indexing: \"Intrasporangium_calvum_DSM_43043\"\r\n"
       ]
      },
      {
       "output_type": "stream",
       "stream": "stdout",
       "text": [
        "Indexing: \"Streptococcus_salivarius_57_I\"\r\n"
       ]
      },
      {
       "output_type": "stream",
       "stream": "stdout",
       "text": [
        "Indexing: \"Methylotenera_mobilis_JLW8\"\r\n"
       ]
      },
      {
       "output_type": "stream",
       "stream": "stdout",
       "text": [
        "Indexing: \"Thermocrinis_albus_DSM_14484\"\r\n"
       ]
      },
      {
       "output_type": "stream",
       "stream": "stdout",
       "text": [
        "Indexing: \"Tetragenococcus_halophilus_NBRC_12172\"\r\n"
       ]
      },
      {
       "output_type": "stream",
       "stream": "stdout",
       "text": [
        "Indexing: \"Haemophilus_parasuis_ZJ0906\"\r\n",
        "Indexing: \"Lactobacillus_johnsonii_FI9785\"\r\n"
       ]
      },
      {
       "output_type": "stream",
       "stream": "stdout",
       "text": [
        "Indexing: \"Rickettsia_parkeri_str_Portsmouth\"\r\n"
       ]
      },
      {
       "output_type": "stream",
       "stream": "stdout",
       "text": [
        "Indexing: \"Thermotoga_hypogea_NBRC_106472\"\r\n"
       ]
      },
      {
       "output_type": "stream",
       "stream": "stdout",
       "text": [
        "Indexing: \"Haemophilus_ducreyi_35000HP\"\r\n"
       ]
      },
      {
       "output_type": "stream",
       "stream": "stdout",
       "text": [
        "Indexing: \"Atopobium_parvulum_DSM_20469\"\r\n"
       ]
      },
      {
       "output_type": "stream",
       "stream": "stdout",
       "text": [
        "Indexing: \"Chlamydophila_pneumoniae_LPCoLN\"\r\n"
       ]
      },
      {
       "output_type": "stream",
       "stream": "stdout",
       "text": [
        "Indexing: \"Bacillus_halodurans_C-125\"\r\n"
       ]
      },
      {
       "output_type": "stream",
       "stream": "stdout",
       "text": [
        "Indexing: \"Agrobacterium_radiobacter_K84\"\r\n"
       ]
      },
      {
       "output_type": "stream",
       "stream": "stdout",
       "text": [
        "Indexing: \"Burkholderia_thailandensis_MSMB59\"\r\n"
       ]
      },
      {
       "output_type": "stream",
       "stream": "stdout",
       "text": [
        "Indexing: \"Pseudomonas_cichorii_JBC1\"\r\n"
       ]
      },
      {
       "output_type": "stream",
       "stream": "stdout",
       "text": [
        "Indexing: \"Alistipes_finegoldii_DSM_17242\"\r\n"
       ]
      },
      {
       "output_type": "stream",
       "stream": "stdout",
       "text": [
        "Indexing: \"Propionibacterium_freudenreichii_subsp_shermanii_CIRM-BIA1\"\r\n"
       ]
      },
      {
       "output_type": "stream",
       "stream": "stdout",
       "text": [
        "Indexing: \"Thalassospira_xiamenensis_M-5_DSM_17429\"\r\n"
       ]
      },
      {
       "output_type": "stream",
       "stream": "stdout",
       "text": [
        "Indexing: \"Corynebacterium_pseudotuberculosis_I19\"\r\n"
       ]
      },
      {
       "output_type": "stream",
       "stream": "stdout",
       "text": [
        "Indexing: \"Oscillatoria_acuminata_PCC_6304\"\r\n"
       ]
      },
      {
       "output_type": "stream",
       "stream": "stdout",
       "text": [
        "Indexing: \"Hyphomicrobium_nitrativorans_NL23\"\r\n"
       ]
      },
      {
       "output_type": "stream",
       "stream": "stdout",
       "text": [
        "Indexing: \"Lactobacillus_amylovorus_GRL1118\"\r\n"
       ]
      },
      {
       "output_type": "stream",
       "stream": "stdout",
       "text": [
        "Indexing: \"Kyrpidia_tusciae_DSM_2912\"\r\n"
       ]
      },
      {
       "output_type": "stream",
       "stream": "stdout",
       "text": [
        "Indexing: \"Collimonas_fungivorans_Ter331\"\r\n"
       ]
      },
      {
       "output_type": "stream",
       "stream": "stdout",
       "text": [
        "Indexing: \"Fusobacterium_nucleatum_subsp_nucleatum_ATCC_25586\"\r\n"
       ]
      },
      {
       "output_type": "stream",
       "stream": "stdout",
       "text": [
        "Indexing: \"Candidatus_Blochmannia_pennsylvanicus_str_BPEN\"\r\n"
       ]
      },
      {
       "output_type": "stream",
       "stream": "stdout",
       "text": [
        "Indexing: \"Brucella_melitensis_bv_1_str_16M\"\r\n"
       ]
      },
      {
       "output_type": "stream",
       "stream": "stdout",
       "text": [
        "Indexing: \"Corynebacterium_maris_DSM_45190\"\r\n"
       ]
      },
      {
       "output_type": "stream",
       "stream": "stdout",
       "text": [
        "Indexing: \"Leuconostoc_mesenteroides_subsp_mesenteroides_ATCC_8293\"\r\n"
       ]
      },
      {
       "output_type": "stream",
       "stream": "stdout",
       "text": [
        "Indexing: \"Dactylococcopsis_salina_PCC_8305\"\r\n"
       ]
      },
      {
       "output_type": "stream",
       "stream": "stdout",
       "text": [
        "Indexing: \"Rhizobium_gallicum_bv_gallicum_R602\"\r\n"
       ]
      },
      {
       "output_type": "stream",
       "stream": "stdout",
       "text": [
        "Indexing: \"Leptothrix_cholodnii_SP-6\"\r\n"
       ]
      },
      {
       "output_type": "stream",
       "stream": "stdout",
       "text": [
        "Indexing: \"Anaplasma_phagocytophilum_str_HZ2\"\r\n"
       ]
      },
      {
       "output_type": "stream",
       "stream": "stdout",
       "text": [
        "Indexing: \"Roseibacterium_elongatum_DSM_19469\"\r\n"
       ]
      },
      {
       "output_type": "stream",
       "stream": "stdout",
       "text": [
        "Indexing: \"Corynebacterium_variabile_DSM_44702\"\r\n"
       ]
      },
      {
       "output_type": "stream",
       "stream": "stdout",
       "text": [
        "Indexing: \"_Clostridium_saccharolyticum_WM1\"\r\n"
       ]
      },
      {
       "output_type": "stream",
       "stream": "stdout",
       "text": [
        "Indexing: \"Nitrosococcus_watsonii_C-113\"\r\n"
       ]
      },
      {
       "output_type": "stream",
       "stream": "stdout",
       "text": [
        "Indexing: \"Streptococcus_oralis_Uo5\"\r\n"
       ]
      },
      {
       "output_type": "stream",
       "stream": "stdout",
       "text": [
        "Indexing: \"Desulfomonile_tiedjei_DSM_6799\"\r\n"
       ]
      },
      {
       "output_type": "stream",
       "stream": "stdout",
       "text": [
        "Indexing: \"Citrobacter_koseri_ATCC_BAA-895\"\r\n"
       ]
      },
      {
       "output_type": "stream",
       "stream": "stdout",
       "text": [
        "Indexing: \"Aminobacterium_colombiense_DSM_12261\"\r\n"
       ]
      },
      {
       "output_type": "stream",
       "stream": "stdout",
       "text": [
        "Indexing: \"Mesorhizobium_loti_MAFF303099\"\r\n"
       ]
      },
      {
       "output_type": "stream",
       "stream": "stdout",
       "text": [
        "Indexing: \"Psychrobacter_arcticus_273-4\"\r\n"
       ]
      },
      {
       "output_type": "stream",
       "stream": "stdout",
       "text": [
        "Indexing: \"Sorangium_cellulosum_So_ce56\"\r\n"
       ]
      },
      {
       "output_type": "stream",
       "stream": "stdout",
       "text": [
        "Indexing: \"Clostridium_saccharoperbutylacetonicum_N1-4_HMT\"\r\n"
       ]
      },
      {
       "output_type": "stream",
       "stream": "stdout",
       "text": [
        "Indexing: \"Paenibacillus_sabinae_T27\"\r\n"
       ]
      },
      {
       "output_type": "stream",
       "stream": "stdout",
       "text": [
        "Indexing: \"Sphaerochaeta_pleomorpha_str_Grapes\"\r\n"
       ]
      },
      {
       "output_type": "stream",
       "stream": "stdout",
       "text": [
        "Indexing: \"Finegoldia_magna_ATCC_29328\"\r\n"
       ]
      },
      {
       "output_type": "stream",
       "stream": "stdout",
       "text": [
        "Indexing: \"Bifidobacterium_longum_subsp_longum_JCM_1217\"\r\n"
       ]
      },
      {
       "output_type": "stream",
       "stream": "stdout",
       "text": [
        "Indexing: \"Yersinia_pestis_CO92\"\r\n"
       ]
      },
      {
       "output_type": "stream",
       "stream": "stdout",
       "text": [
        "Indexing: \"Xanthobacter_autotrophicus_Py2\"\r\n"
       ]
      },
      {
       "output_type": "stream",
       "stream": "stdout",
       "text": [
        "Indexing: \"Pandoraea_pnomenusa_3kgm\"\r\n"
       ]
      },
      {
       "output_type": "stream",
       "stream": "stdout",
       "text": [
        "Indexing: \"Streptococcus_sanguinis_SK36\"\r\n"
       ]
      },
      {
       "output_type": "stream",
       "stream": "stdout",
       "text": [
        "Indexing: \"Streptomyces_pratensis_ATCC_33331\"\r\n"
       ]
      },
      {
       "output_type": "stream",
       "stream": "stdout",
       "text": [
        "Indexing: \"Onion_yellows_phytoplasma_OY-M\"\r\n"
       ]
      },
      {
       "output_type": "stream",
       "stream": "stdout",
       "text": [
        "Indexing: \"Dinoroseobacter_shibae_DFL_12_DSM_16493\"\r\n"
       ]
      },
      {
       "output_type": "stream",
       "stream": "stdout",
       "text": [
        "Indexing: \"Tepidanaerobacter_acetatoxydans_Re1\"\r\n"
       ]
      },
      {
       "output_type": "stream",
       "stream": "stdout",
       "text": [
        "Indexing: \"Spiribacter_salinus_M19-40\"\r\n"
       ]
      },
      {
       "output_type": "stream",
       "stream": "stdout",
       "text": [
        "Indexing: \"Hirschia_baltica_ATCC_49814\"\r\n"
       ]
      },
      {
       "output_type": "stream",
       "stream": "stdout",
       "text": [
        "Indexing: \"Synechococcus_elongatus_PCC_7942\"\r\n"
       ]
      },
      {
       "output_type": "stream",
       "stream": "stdout",
       "text": [
        "Indexing: \"Brachyspira_hyodysenteriae_WA1\"\r\n"
       ]
      },
      {
       "output_type": "stream",
       "stream": "stdout",
       "text": [
        "Indexing: \"Corynebacterium_kroppenstedtii_DSM_44385\"\r\n"
       ]
      },
      {
       "output_type": "stream",
       "stream": "stdout",
       "text": [
        "Indexing: \"Mycobacterium_ulcerans_Agy99\"\r\n"
       ]
      },
      {
       "output_type": "stream",
       "stream": "stdout",
       "text": [
        "Indexing: \"Bordetella_parapertussis_Bpp5\"\r\n"
       ]
      },
      {
       "output_type": "stream",
       "stream": "stdout",
       "text": [
        "Indexing: \"Enterococcus_faecium_Aus0085\"\r\n"
       ]
      },
      {
       "output_type": "stream",
       "stream": "stdout",
       "text": [
        "Indexing: \"Lactobacillus_plantarum_ZJ316\"\r\n"
       ]
      },
      {
       "output_type": "stream",
       "stream": "stdout",
       "text": [
        "Indexing: \"Echinicola_vietnamensis_DSM_17526\"\r\n"
       ]
      },
      {
       "output_type": "stream",
       "stream": "stdout",
       "text": [
        "Indexing: \"Tistrella_mobilis_KA081020-065\"\r\n"
       ]
      },
      {
       "output_type": "stream",
       "stream": "stdout",
       "text": [
        "Indexing: \"Clostridium_ljungdahlii_DSM_13528\"\r\n"
       ]
      },
      {
       "output_type": "stream",
       "stream": "stdout",
       "text": [
        "Indexing: \"Liberibacter_crescens_BT-1\"\r\n"
       ]
      },
      {
       "output_type": "stream",
       "stream": "stdout",
       "text": [
        "Indexing: \"Burkholderia_gladioli_BSR3\"\r\n"
       ]
      },
      {
       "output_type": "stream",
       "stream": "stdout",
       "text": [
        "Indexing: \"Mycoplasma_cynos_C142\"\r\n"
       ]
      },
      {
       "output_type": "stream",
       "stream": "stdout",
       "text": [
        "Indexing: \"Actinoplanes_friuliensis_DSM_7358\"\r\n"
       ]
      },
      {
       "output_type": "stream",
       "stream": "stdout",
       "text": [
        "Indexing: \"Candidatus_Mycoplasma_haemolamae_str_Purdue\"\r\n"
       ]
      },
      {
       "output_type": "stream",
       "stream": "stdout",
       "text": [
        "Indexing: \"Candidatus_Endolissoclinum_faulkneri_L2\"\r\n"
       ]
      },
      {
       "output_type": "stream",
       "stream": "stdout",
       "text": [
        "Indexing: \"Filifactor_alocis_ATCC_35896\"\r\n"
       ]
      },
      {
       "output_type": "stream",
       "stream": "stdout",
       "text": [
        "Indexing: \"Mobiluncus_curtisii_ATCC_43063\"\r\n"
       ]
      },
      {
       "output_type": "stream",
       "stream": "stdout",
       "text": [
        "Indexing: \"Caulobacter_crescentus_NA1000\"\r\n"
       ]
      },
      {
       "output_type": "stream",
       "stream": "stdout",
       "text": [
        "Indexing: \"Thermoanaerobacter_italicus_Ab9\"\r\n"
       ]
      },
      {
       "output_type": "stream",
       "stream": "stdout",
       "text": [
        "Indexing: \"Thermosediminibacter_oceani_DSM_16646\"\r\n"
       ]
      },
      {
       "output_type": "stream",
       "stream": "stdout",
       "text": [
        "Indexing: \"Mycoplasma_genitalium_G37\"\r\n"
       ]
      },
      {
       "output_type": "stream",
       "stream": "stdout",
       "text": [
        "Indexing: \"Bacillus_toyonensis_BCT-7112\"\r\n"
       ]
      },
      {
       "output_type": "stream",
       "stream": "stdout",
       "text": [
        "Indexing: \"Ruminococcus_albus_7_DSM_20455\"\r\n"
       ]
      },
      {
       "output_type": "stream",
       "stream": "stdout",
       "text": [
        "Indexing: \"Clostridium_beijerinckii_ATCC_35702\"\r\n"
       ]
      },
      {
       "output_type": "stream",
       "stream": "stdout",
       "text": [
        "Indexing: \"Blattabacterium_sp_Mastotermes_darwiniensis_str_MADAR\"\r\n"
       ]
      },
      {
       "output_type": "stream",
       "stream": "stdout",
       "text": [
        "Indexing: \"Geobacillus_kaustophilus_HTA426\"\r\n"
       ]
      },
      {
       "output_type": "stream",
       "stream": "stdout",
       "text": [
        "Indexing: \"Streptococcus_mutans_NN2025\"\r\n"
       ]
      },
      {
       "output_type": "stream",
       "stream": "stdout",
       "text": [
        "Indexing: \"Ureaplasma_urealyticum_serovar_10_str_ATCC_33699\"\r\n"
       ]
      },
      {
       "output_type": "stream",
       "stream": "stdout",
       "text": [
        "Indexing: \"Shewanella_pealeana_ATCC_700345\"\r\n"
       ]
      },
      {
       "output_type": "stream",
       "stream": "stdout",
       "text": [
        "Indexing: \"Anaplasma_marginale_str_Florida\"\r\n"
       ]
      },
      {
       "output_type": "stream",
       "stream": "stdout",
       "text": [
        "Indexing: \"Coraliomargarita_akajimensis_DSM_45221\"\r\n"
       ]
      },
      {
       "output_type": "stream",
       "stream": "stdout",
       "text": [
        "Indexing: \"Methylocella_silvestris_BL2\"\r\n"
       ]
      },
      {
       "output_type": "stream",
       "stream": "stdout",
       "text": [
        "Indexing: \"Bacillus_cytotoxicus_NVH_391-98\"\r\n"
       ]
      },
      {
       "output_type": "stream",
       "stream": "stdout",
       "text": [
        "Indexing: \"Mesorhizobium_ciceri_biovar_biserrulae_WSM1271\"\r\n"
       ]
      },
      {
       "output_type": "stream",
       "stream": "stdout",
       "text": [
        "Indexing: \"Brucella_suis_bv_1_str_S2\"\r\n"
       ]
      },
      {
       "output_type": "stream",
       "stream": "stdout",
       "text": [
        "Indexing: \"Tolumonas_auensis_DSM_9187\"\r\n"
       ]
      },
      {
       "output_type": "stream",
       "stream": "stdout",
       "text": [
        "Indexing: \"Desulfovibrio_salexigens_DSM_2638\"\r\n"
       ]
      },
      {
       "output_type": "stream",
       "stream": "stdout",
       "text": [
        "Indexing: \"Lawsonia_intracellularis_N343\"\r\n"
       ]
      },
      {
       "output_type": "stream",
       "stream": "stdout",
       "text": [
        "Indexing: \"Glaciecola_nitratireducens_FR1064\"\r\n"
       ]
      },
      {
       "output_type": "stream",
       "stream": "stdout",
       "text": [
        "Indexing: \"Natranaerobius_thermophilus_JW_NM-WN-LF\"\r\n"
       ]
      },
      {
       "output_type": "stream",
       "stream": "stdout",
       "text": [
        "Indexing: \"Singulisphaera_acidiphila_DSM_18658\"\r\n"
       ]
      },
      {
       "output_type": "stream",
       "stream": "stdout",
       "text": [
        "Indexing: \"Spiroplasma_apis_B31\"\r\n"
       ]
      },
      {
       "output_type": "stream",
       "stream": "stdout",
       "text": [
        "Indexing: \"Anaerococcus_prevotii_DSM_20548\"\r\n"
       ]
      },
      {
       "output_type": "stream",
       "stream": "stdout",
       "text": [
        "Indexing: \"Polaromonas_naphthalenivorans_CJ2\"\r\n"
       ]
      },
      {
       "output_type": "stream",
       "stream": "stdout",
       "text": [
        "Indexing: \"Providencia_stuartii_MRSN_2154\"\r\n"
       ]
      },
      {
       "output_type": "stream",
       "stream": "stdout",
       "text": [
        "Indexing: \"Enterococcus_casseliflavus_EC20\"\r\n"
       ]
      },
      {
       "output_type": "stream",
       "stream": "stdout",
       "text": [
        "Indexing: \"Pseudomonas_denitrificans_ATCC_13867\"\r\n"
       ]
      },
      {
       "output_type": "stream",
       "stream": "stdout",
       "text": [
        "Indexing: \"Haliangium_ochraceum_DSM_14365\"\r\n"
       ]
      },
      {
       "output_type": "stream",
       "stream": "stdout",
       "text": [
        "Indexing: \"Burkholderia_pseudomallei_HBPUB10134a\"\r\n"
       ]
      },
      {
       "output_type": "stream",
       "stream": "stdout",
       "text": [
        "Indexing: \"Pseudomonas_stutzeri_DSM_10701\"\r\n"
       ]
      },
      {
       "output_type": "stream",
       "stream": "stdout",
       "text": [
        "Indexing: \"Treponema_denticola_ATCC_35405\"\r\n"
       ]
      },
      {
       "output_type": "stream",
       "stream": "stdout",
       "text": [
        "Indexing: \"Simiduia_agarivorans_SA1_DSM_21679\"\r\n"
       ]
      },
      {
       "output_type": "stream",
       "stream": "stdout",
       "text": [
        "Indexing: \"Candidatus_Riesia_pediculicola_USDA\"\r\n"
       ]
      },
      {
       "output_type": "stream",
       "stream": "stdout",
       "text": [
        "Indexing: \"Heliobacterium_modesticaldum_Ice1\"\r\n"
       ]
      },
      {
       "output_type": "stream",
       "stream": "stdout",
       "text": [
        "Indexing: \"Amycolatopsis_mediterranei_S699\"\r\n"
       ]
      },
      {
       "output_type": "stream",
       "stream": "stdout",
       "text": [
        "Indexing: \"Borrelia_turicatae_91E135\"\r\n"
       ]
      },
      {
       "output_type": "stream",
       "stream": "stdout",
       "text": [
        "Indexing: \"Anabaena_cylindrica_PCC_7122\"\r\n"
       ]
      },
      {
       "output_type": "stream",
       "stream": "stdout",
       "text": [
        "Indexing: \"Acinetobacter_calcoaceticus_PHEA-2\"\r\n"
       ]
      },
      {
       "output_type": "stream",
       "stream": "stdout",
       "text": [
        "Indexing: \"Mesotoga_prima_MesG1_Ag_4_2\"\r\n"
       ]
      },
      {
       "output_type": "stream",
       "stream": "stdout",
       "text": [
        "Indexing: \"Idiomarina_loihiensis_GSL_199\"\r\n"
       ]
      },
      {
       "output_type": "stream",
       "stream": "stdout",
       "text": [
        "Indexing: \"Spirochaeta_smaragdinae_DSM_11293\"\r\n"
       ]
      },
      {
       "output_type": "stream",
       "stream": "stdout",
       "text": [
        "Indexing: \"Hafnia_alvei_FB1\"\r\n"
       ]
      },
      {
       "output_type": "stream",
       "stream": "stdout",
       "text": [
        "Indexing: \"Shewanella_oneidensis_MR-1\"\r\n"
       ]
      },
      {
       "output_type": "stream",
       "stream": "stdout",
       "text": [
        "Indexing: \"Candidatus_Accumulibacter_phosphatis_clade_IIA_str_UW-1\"\r\n"
       ]
      },
      {
       "output_type": "stream",
       "stream": "stdout",
       "text": [
        "Indexing: \"Candidatus_Sulcia_muelleri_PSPU\"\r\n"
       ]
      },
      {
       "output_type": "stream",
       "stream": "stdout",
       "text": [
        "Indexing: \"Haliscomenobacter_hydrossis_DSM_1100\"\r\n"
       ]
      },
      {
       "output_type": "stream",
       "stream": "stdout",
       "text": [
        "Indexing: \"Bifidobacterium_pseudolongum_PV8-2\"\r\n"
       ]
      },
      {
       "output_type": "stream",
       "stream": "stdout",
       "text": [
        "Indexing: \"Arcobacter_nitrofigilis_DSM_7299\"\r\n"
       ]
      },
      {
       "output_type": "stream",
       "stream": "stdout",
       "text": [
        "Indexing: \"Mycoplasma_parvum_str_Indiana\"\r\n"
       ]
      },
      {
       "output_type": "stream",
       "stream": "stdout",
       "text": [
        "Indexing: \"Phaeobacter_inhibens_DSM_17395\"\r\n"
       ]
      },
      {
       "output_type": "stream",
       "stream": "stdout",
       "text": [
        "Indexing: \"Erwinia_pyrifoliae_Ep1_96\"\r\n"
       ]
      },
      {
       "output_type": "stream",
       "stream": "stdout",
       "text": [
        "Indexing: \"Agrobacterium_vitis_S4\"\r\n"
       ]
      },
      {
       "output_type": "stream",
       "stream": "stdout",
       "text": [
        "Indexing: \"Candidatus_Liberibacter_americanus_str_Sao_Paulo\"\r\n"
       ]
      },
      {
       "output_type": "stream",
       "stream": "stdout",
       "text": [
        "Indexing: \"Yersinia_enterocolitica_subsp_palearctica_Y11\"\r\n"
       ]
      },
      {
       "output_type": "stream",
       "stream": "stdout",
       "text": [
        "Indexing: \"Chlorobium_tepidum_TLS\"\r\n"
       ]
      },
      {
       "output_type": "stream",
       "stream": "stdout",
       "text": [
        "Indexing: \"Nocardia_cyriacigeorgica_GUH-2\"\r\n"
       ]
      },
      {
       "output_type": "stream",
       "stream": "stdout",
       "text": [
        "Indexing: \"Beutenbergia_cavernae_DSM_12333\"\r\n"
       ]
      },
      {
       "output_type": "stream",
       "stream": "stdout",
       "text": [
        "Indexing: \"Ehrlichia_ruminantium_str_Welgevonden\"\r\n"
       ]
      },
      {
       "output_type": "stream",
       "stream": "stdout",
       "text": [
        "Indexing: \"Basilea_psittacipulmonis_DSM_24701\"\r\n"
       ]
      },
      {
       "output_type": "stream",
       "stream": "stdout",
       "text": [
        "Indexing: \"Methylomonas_methanica_MC09\"\r\n"
       ]
      },
      {
       "output_type": "stream",
       "stream": "stdout",
       "text": [
        "Indexing: \"Chloroherpeton_thalassium_ATCC_35110\"\r\n"
       ]
      },
      {
       "output_type": "stream",
       "stream": "stdout",
       "text": [
        "Indexing: \"Saccharopolyspora_erythraea_NRRL_2338\"\r\n"
       ]
      },
      {
       "output_type": "stream",
       "stream": "stdout",
       "text": [
        "Indexing: \"Streptococcus_gallolyticus_subsp_gallolyticus_ATCC_43143\"\r\n"
       ]
      },
      {
       "output_type": "stream",
       "stream": "stdout",
       "text": [
        "Indexing: \"Verrucosispora_maris_AB-18-032\"\r\n"
       ]
      },
      {
       "output_type": "stream",
       "stream": "stdout",
       "text": [
        "Indexing: \"Bifidobacterium_asteroides_PRL2011\"\r\n"
       ]
      },
      {
       "output_type": "stream",
       "stream": "stdout",
       "text": [
        "Indexing: \"Thermotoga_neapolitana_DSM_4359\"\r\n"
       ]
      },
      {
       "output_type": "stream",
       "stream": "stdout",
       "text": [
        "Indexing: \"Candidatus_Blochmannia_vafer_str_BVAF\"\r\n"
       ]
      },
      {
       "output_type": "stream",
       "stream": "stdout",
       "text": [
        "Indexing: \"Corynebacterium_halotolerans_YIM_70093_DSM_44683\"\r\n"
       ]
      },
      {
       "output_type": "stream",
       "stream": "stdout",
       "text": [
        "Indexing: \"Wolbachia_endosymbiont_wPip_Mol_of_Culex_molestus\"\r\n"
       ]
      },
      {
       "output_type": "stream",
       "stream": "stdout",
       "text": [
        "Indexing: \"Rothia_mucilaginosa_DY-18\"\r\n"
       ]
      },
      {
       "output_type": "stream",
       "stream": "stdout",
       "text": [
        "Indexing: \"Morganella_morganii_subsp_morganii_KT\"\r\n"
       ]
      },
      {
       "output_type": "stream",
       "stream": "stdout",
       "text": [
        "Indexing: \"Borrelia_parkeri_HR1\"\r\n"
       ]
      },
      {
       "output_type": "stream",
       "stream": "stdout",
       "text": [
        "Indexing: \"Paenibacillus_larvae_subsp_larvae_DSM_25430\"\r\n"
       ]
      },
      {
       "output_type": "stream",
       "stream": "stdout",
       "text": [
        "Indexing: \"Brucella_ceti_TE28753-12\"\r\n"
       ]
      },
      {
       "output_type": "stream",
       "stream": "stdout",
       "text": [
        "Indexing: \"Nonlabens_dokdonensis_DSW-6\"\r\n"
       ]
      },
      {
       "output_type": "stream",
       "stream": "stdout",
       "text": [
        "Indexing: \"Hippea_maritima_DSM_10411\"\r\n"
       ]
      },
      {
       "output_type": "stream",
       "stream": "stdout",
       "text": [
        "Indexing: \"Anaerolinea_thermophila_UNI-1\"\r\n"
       ]
      },
      {
       "output_type": "stream",
       "stream": "stdout",
       "text": [
        "Indexing: \"Achromobacter_xylosoxidans_A8\"\r\n"
       ]
      },
      {
       "output_type": "stream",
       "stream": "stdout",
       "text": [
        "Indexing: \"Octadecabacter_arcticus_238\"\r\n"
       ]
      },
      {
       "output_type": "stream",
       "stream": "stdout",
       "text": [
        "Indexing: \"Acaryochloris_marina_MBIC11017\"\r\n"
       ]
      },
      {
       "output_type": "stream",
       "stream": "stdout",
       "text": [
        "Indexing: \"Streptococcus_pseudopneumoniae_IS7493\"\r\n"
       ]
      },
      {
       "output_type": "stream",
       "stream": "stdout",
       "text": [
        "Indexing: \"Alicycliphilus_denitrificans_BC\"\r\n"
       ]
      },
      {
       "output_type": "stream",
       "stream": "stdout",
       "text": [
        "Indexing: \"Mesorhizobium_australicum_WSM2073\"\r\n"
       ]
      },
      {
       "output_type": "stream",
       "stream": "stdout",
       "text": [
        "Indexing: \"Trichodesmium_erythraeum_IMS101\"\r\n"
       ]
      },
      {
       "output_type": "stream",
       "stream": "stdout",
       "text": [
        "Indexing: \"Adlercreutzia_equolifaciens_DSM_19450\"\r\n"
       ]
      },
      {
       "output_type": "stream",
       "stream": "stdout",
       "text": [
        "Indexing: \"Candidatus_Tremblaya_princeps_PCVAL\"\r\n"
       ]
      },
      {
       "output_type": "stream",
       "stream": "stdout",
       "text": [
        "Indexing: \"Thermotoga_petrophila_RKU-1\"\r\n"
       ]
      },
      {
       "output_type": "stream",
       "stream": "stdout",
       "text": [
        "Indexing: \"Spirochaeta_africana_DSM_8902\"\r\n"
       ]
      },
      {
       "output_type": "stream",
       "stream": "stdout",
       "text": [
        "Indexing: \"Streptococcus_equi_subsp_equi_4047\"\r\n"
       ]
      },
      {
       "output_type": "stream",
       "stream": "stdout",
       "text": [
        "Indexing: \"Vibrio_cholerae_LMA3984-4\"\r\n"
       ]
      },
      {
       "output_type": "stream",
       "stream": "stdout",
       "text": [
        "Indexing: \"Acholeplasma_laidlawii_PG-8A\"\r\n"
       ]
      },
      {
       "output_type": "stream",
       "stream": "stdout",
       "text": [
        "Indexing: \"Mycoplasma_haemocanis_str_Illinois\"\r\n"
       ]
      },
      {
       "output_type": "stream",
       "stream": "stdout",
       "text": [
        "Indexing: \"Bacillus_megaterium_NBRC_15308_ATCC_14581\"\r\n"
       ]
      },
      {
       "output_type": "stream",
       "stream": "stdout",
       "text": [
        "Indexing: \"Francisella_philomiragia_subsp_philomiragia_ATCC_25015\"\r\n"
       ]
      },
      {
       "output_type": "stream",
       "stream": "stdout",
       "text": [
        "Indexing: \"Treponema_azotonutricium_ZAS-9\"\r\n"
       ]
      },
      {
       "output_type": "stream",
       "stream": "stdout",
       "text": [
        "Indexing: \"Corynebacterium_doosanense_CAU_212_DSM_45436\"\r\n"
       ]
      },
      {
       "output_type": "stream",
       "stream": "stdout",
       "text": [
        "Indexing: \"Exiguobacterium_sibiricum_255-15\"\r\n"
       ]
      },
      {
       "output_type": "stream",
       "stream": "stdout",
       "text": [
        "Indexing: \"Chromobacterium_violaceum_ATCC_12472\"\r\n"
       ]
      },
      {
       "output_type": "stream",
       "stream": "stdout",
       "text": [
        "Indexing: \"Nostoc_punctiforme_PCC_73102\"\r\n"
       ]
      },
      {
       "output_type": "stream",
       "stream": "stdout",
       "text": [
        "Indexing: \"Octadecabacter_antarcticus_307\"\r\n"
       ]
      },
      {
       "output_type": "stream",
       "stream": "stdout",
       "text": [
        "Indexing: \"Candidatus_Symbiobacter_mobilis_CR\"\r\n"
       ]
      },
      {
       "output_type": "stream",
       "stream": "stdout",
       "text": [
        "Indexing: \"Kytococcus_sedentarius_DSM_20547\"\r\n"
       ]
      },
      {
       "output_type": "stream",
       "stream": "stdout",
       "text": [
        "Indexing: \"Castellaniella_defragrans_65Phen\"\r\n"
       ]
      },
      {
       "output_type": "stream",
       "stream": "stdout",
       "text": [
        "Indexing: \"Syntrophothermus_lipocalidus_DSM_12680\"\r\n"
       ]
      },
      {
       "output_type": "stream",
       "stream": "stdout",
       "text": [
        "Indexing: \"Caldicellulosiruptor_hydrothermalis_108\"\r\n"
       ]
      },
      {
       "output_type": "stream",
       "stream": "stdout",
       "text": [
        "Indexing: \"Dehalococcoides_mccartyi_CG4\"\r\n"
       ]
      },
      {
       "output_type": "stream",
       "stream": "stdout",
       "text": [
        "Indexing: \"Prevotella_sp_oral_taxon_299_str_F0039\"\r\n"
       ]
      },
      {
       "output_type": "stream",
       "stream": "stdout",
       "text": [
        "Indexing: \"Mannheimia_haemolytica_D171\"\r\n"
       ]
      },
      {
       "output_type": "stream",
       "stream": "stdout",
       "text": [
        "Indexing: \"Leptospira_biflexa_serovar_Patoc_strain_Patoc_1_Paris\"\r\n"
       ]
      },
      {
       "output_type": "stream",
       "stream": "stdout",
       "text": [
        "Indexing: \"Rickettsia_felis_URRWXCal2\"\r\n"
       ]
      },
      {
       "output_type": "stream",
       "stream": "stdout",
       "text": [
        "Indexing: \"Burkholderia_ambifaria_AMMD\"\r\n"
       ]
      },
      {
       "output_type": "stream",
       "stream": "stdout",
       "text": [
        "Indexing: \"Enterococcus_faecalis_DENG1\"\r\n"
       ]
      },
      {
       "output_type": "stream",
       "stream": "stdout",
       "text": [
        "Indexing: \"Hyphomicrobium_denitrificans_1NES1\"\r\n"
       ]
      },
      {
       "output_type": "stream",
       "stream": "stdout",
       "text": [
        "Indexing: \"Parachlamydia_acanthamoebae_UV-7\"\r\n"
       ]
      },
      {
       "output_type": "stream",
       "stream": "stdout",
       "text": [
        "Indexing: \"Blattabacterium_sp_Panesthia_angustipennis_spadica_str_BPAA\"\r\n"
       ]
      },
      {
       "output_type": "stream",
       "stream": "stdout",
       "text": [
        "Indexing: \"Lachnoclostridium_phytofermentans_ISDg\"\r\n"
       ]
      },
      {
       "output_type": "stream",
       "stream": "stdout",
       "text": [
        "Indexing: \"Acidithiobacillus_ferrooxidans_ATCC_53993\"\r\n"
       ]
      },
      {
       "output_type": "stream",
       "stream": "stdout",
       "text": [
        "Indexing: \"Shewanella_amazonensis_SB2B\"\r\n"
       ]
      },
      {
       "output_type": "stream",
       "stream": "stdout",
       "text": [
        "Indexing: \"Staphylococcus_lugdunensis_N920143\"\r\n"
       ]
      },
      {
       "output_type": "stream",
       "stream": "stdout",
       "text": [
        "Indexing: \"Meiothermus_silvanus_DSM_9946\"\r\n"
       ]
      },
      {
       "output_type": "stream",
       "stream": "stdout",
       "text": [
        "Indexing: \"Bartonella_henselae_str_Houston-1\"\r\n"
       ]
      },
      {
       "output_type": "stream",
       "stream": "stdout",
       "text": [
        "Indexing: \"Azotobacter_chroococcum_NCIMB_8003\"\r\n"
       ]
      },
      {
       "output_type": "stream",
       "stream": "stdout",
       "text": [
        "Indexing: \"Desulfurobacterium_thermolithotrophum_DSM_11699\"\r\n"
       ]
      },
      {
       "output_type": "stream",
       "stream": "stdout",
       "text": [
        "Indexing: \"Ochrobactrum_anthropi_ATCC_49188\"\r\n"
       ]
      },
      {
       "output_type": "stream",
       "stream": "stdout",
       "text": [
        "Indexing: \"Burkholderia_cepacia_GG4\"\r\n"
       ]
      },
      {
       "output_type": "stream",
       "stream": "stdout",
       "text": [
        "Indexing: \"Bacillus_methanolicus_MGA3\"\r\n"
       ]
      },
      {
       "output_type": "stream",
       "stream": "stdout",
       "text": [
        "Indexing: \"Erysipelothrix_rhusiopathiae_SY1027\"\r\n"
       ]
      },
      {
       "output_type": "stream",
       "stream": "stdout",
       "text": [
        "Indexing: \"Leadbetterella_byssophila_DSM_17132\"\r\n"
       ]
      },
      {
       "output_type": "stream",
       "stream": "stdout",
       "text": [
        "Indexing: \"Thioalkalivibrio_sulfidiphilus_HL-EbGr7\"\r\n"
       ]
      },
      {
       "output_type": "stream",
       "stream": "stdout",
       "text": [
        "Indexing: \"Burkholderia_xenovorans_LB400\"\r\n"
       ]
      },
      {
       "output_type": "stream",
       "stream": "stdout",
       "text": [
        "Indexing: \"Corynebacterium_urealyticum_DSM_7109\"\r\n"
       ]
      },
      {
       "output_type": "stream",
       "stream": "stdout",
       "text": [
        "Indexing: \"Borrelia_duttonii_Ly\"\r\n"
       ]
      },
      {
       "output_type": "stream",
       "stream": "stdout",
       "text": [
        "Indexing: \"Novosphingobium_pentaromativorans_US6-1\"\r\n"
       ]
      },
      {
       "output_type": "stream",
       "stream": "stdout",
       "text": [
        "Indexing: \"Candidatus_Midichloria_mitochondrii_IricVA\"\r\n"
       ]
      },
      {
       "output_type": "stream",
       "stream": "stdout",
       "text": [
        "Indexing: \"Pedobacter_heparinus_DSM_2366\"\r\n"
       ]
      },
      {
       "output_type": "stream",
       "stream": "stdout",
       "text": [
        "Indexing: \"Wolbachia_endosymbiont_of_Drosophila_simulans_wHa\"\r\n"
       ]
      },
      {
       "output_type": "stream",
       "stream": "stdout",
       "text": [
        "Indexing: \"Shewanella_denitrificans_OS217\"\r\n"
       ]
      },
      {
       "output_type": "stream",
       "stream": "stdout",
       "text": [
        "Indexing: \"Shigella_flexneri_Shi06HN006\"\r\n"
       ]
      },
      {
       "output_type": "stream",
       "stream": "stdout",
       "text": [
        "Indexing: \"Thermosipho_africanus_TCF52B\"\r\n"
       ]
      },
      {
       "output_type": "stream",
       "stream": "stdout",
       "text": [
        "Indexing: \"Desulfovibrio_vulgaris_str_Hildenborough\"\r\n"
       ]
      },
      {
       "output_type": "stream",
       "stream": "stdout",
       "text": [
        "Indexing: \"Pseudomonas_entomophila_L48\"\r\n"
       ]
      },
      {
       "output_type": "stream",
       "stream": "stdout",
       "text": [
        "Indexing: \"Pirellula_staleyi_DSM_6068\"\r\n"
       ]
      },
      {
       "output_type": "stream",
       "stream": "stdout",
       "text": [
        "Indexing: \"Agrobacterium_fabrum_str_C58\"\r\n"
       ]
      },
      {
       "output_type": "stream",
       "stream": "stdout",
       "text": [
        "Indexing: \"Corynebacterium_marinum_DSM_44953\"\r\n"
       ]
      },
      {
       "output_type": "stream",
       "stream": "stdout",
       "text": [
        "Indexing: \"Azospirillum_lipoferum_4B\"\r\n"
       ]
      },
      {
       "output_type": "stream",
       "stream": "stdout",
       "text": [
        "Indexing: \"Dickeya_zeae_EC1\"\r\n"
       ]
      },
      {
       "output_type": "stream",
       "stream": "stdout",
       "text": [
        "Indexing: \"Erwinia_amylovora_LA635\"\r\n"
       ]
      },
      {
       "output_type": "stream",
       "stream": "stdout",
       "text": [
        "Indexing: \"Spirochaeta_thermophila_DSM_6578\"\r\n"
       ]
      },
      {
       "output_type": "stream",
       "stream": "stdout",
       "text": [
        "Indexing: \"Rickettsia_africae_ESF-5\"\r\n"
       ]
      },
      {
       "output_type": "stream",
       "stream": "stdout",
       "text": [
        "Indexing: \"Mycobacterium_liflandii_128FXT\"\r\n"
       ]
      },
      {
       "output_type": "stream",
       "stream": "stdout",
       "text": [
        "Indexing: \"Sulfuritalea_hydrogenivorans_sk43H\"\r\n"
       ]
      },
      {
       "output_type": "stream",
       "stream": "stdout",
       "text": [
        "Indexing: \"Candidatus_Kinetoplastibacterium_crithidii_ex_Angomonas_deanei_ATCC_30255\"\r\n"
       ]
      },
      {
       "output_type": "stream",
       "stream": "stdout",
       "text": [
        "Indexing: \"Elizabethkingia_anophelis_NUHP1\"\r\n"
       ]
      },
      {
       "output_type": "stream",
       "stream": "stdout",
       "text": [
        "Indexing: \"Microbacterium_testaceum_StLB037\"\r\n"
       ]
      },
      {
       "output_type": "stream",
       "stream": "stdout",
       "text": [
        "Indexing: \"Thermotoga_naphthophila_RKU-10\"\r\n"
       ]
      },
      {
       "output_type": "stream",
       "stream": "stdout",
       "text": [
        "Indexing: \"Brucella_ovis_ATCC_25840\"\r\n"
       ]
      },
      {
       "output_type": "stream",
       "stream": "stdout",
       "text": [
        "Indexing: \"Kosakonia_sacchari_SP1\"\r\n"
       ]
      },
      {
       "output_type": "stream",
       "stream": "stdout",
       "text": [
        "Indexing: \"Terriglobus_roseus_DSM_18391\"\r\n"
       ]
      },
      {
       "output_type": "stream",
       "stream": "stdout",
       "text": [
        "Indexing: \"Methylobacterium_oryzae_CBMB20\"\r\n"
       ]
      },
      {
       "output_type": "stream",
       "stream": "stdout",
       "text": [
        "Indexing: \"Mycobacterium_marinum_M\"\r\n"
       ]
      },
      {
       "output_type": "stream",
       "stream": "stdout",
       "text": [
        "Indexing: \"Segniliparus_rotundus_DSM_44985\"\r\n"
       ]
      },
      {
       "output_type": "stream",
       "stream": "stdout",
       "text": [
        "Indexing: \"Nostoc_azollae_0708\"\r\n"
       ]
      },
      {
       "output_type": "stream",
       "stream": "stdout",
       "text": [
        "Indexing: \"Gloeobacter_kilaueensis_JS1\"\r\n"
       ]
      },
      {
       "output_type": "stream",
       "stream": "stdout",
       "text": [
        "Indexing: \"Campylobacter_peloridis_LMG_23910\"\r\n"
       ]
      },
      {
       "output_type": "stream",
       "stream": "stdout",
       "text": [
        "Indexing: \"Thermotoga_elfii_NBRC_107921\"\r\n"
       ]
      },
      {
       "output_type": "stream",
       "stream": "stdout",
       "text": [
        "Indexing: \"Methylacidiphilum_infernorum_V4\"\r\n"
       ]
      },
      {
       "output_type": "stream",
       "stream": "stdout",
       "text": [
        "Indexing: \"Bacillus_clausii_KSM-K16\"\r\n"
       ]
      },
      {
       "output_type": "stream",
       "stream": "stdout",
       "text": [
        "Indexing: \"Desulfosporosinus_meridiei_DSM_13257\"\r\n"
       ]
      },
      {
       "output_type": "stream",
       "stream": "stdout",
       "text": [
        "Indexing: \"Mycoplasma_fermentans_JER\"\r\n"
       ]
      },
      {
       "output_type": "stream",
       "stream": "stdout",
       "text": [
        "Indexing: \"Enterobacter_lignolyticus_SCF1\"\r\n"
       ]
      },
      {
       "output_type": "stream",
       "stream": "stdout",
       "text": [
        "Indexing: \"Candidatus_Amoebophilus_asiaticus_5a2\"\r\n"
       ]
      },
      {
       "output_type": "stream",
       "stream": "stdout",
       "text": [
        "Indexing: \"Kitasatospora_setae_KM-6054\"\r\n"
       ]
      },
      {
       "output_type": "stream",
       "stream": "stdout",
       "text": [
        "Indexing: \"Variovorax_paradoxus_EPS\"\r\n"
       ]
      },
      {
       "output_type": "stream",
       "stream": "stdout",
       "text": [
        "Indexing: \"Hyphomonas_neptunium_ATCC_15444\"\r\n"
       ]
      },
      {
       "output_type": "stream",
       "stream": "stdout",
       "text": [
        "Indexing: \"Geobacter_uraniireducens_Rf4\"\r\n"
       ]
      },
      {
       "output_type": "stream",
       "stream": "stdout",
       "text": [
        "Indexing: \"Nitrosococcus_halophilus_Nc_4\"\r\n"
       ]
      },
      {
       "output_type": "stream",
       "stream": "stdout",
       "text": [
        "Indexing: \"Desulfohalobium_retbaense_DSM_5692\"\r\n"
       ]
      },
      {
       "output_type": "stream",
       "stream": "stdout",
       "text": [
        "Indexing: \"Snodgrassella_alvi_wkB2\"\r\n"
       ]
      },
      {
       "output_type": "stream",
       "stream": "stdout",
       "text": [
        "Indexing: \"Akkermansia_muciniphila_ATCC_BAA-835\"\r\n"
       ]
      },
      {
       "output_type": "stream",
       "stream": "stdout",
       "text": [
        "Indexing: \"Pseudomonas_putida_GB-1\"\r\n"
       ]
      },
      {
       "output_type": "stream",
       "stream": "stdout",
       "text": [
        "Indexing: \"Clostridium_autoethanogenum_DSM_10061\"\r\n"
       ]
      },
      {
       "output_type": "stream",
       "stream": "stdout",
       "text": [
        "Indexing: \"Enterobacter_aerogenes_KCTC_2190\"\r\n"
       ]
      },
      {
       "output_type": "stream",
       "stream": "stdout",
       "text": [
        "Indexing: \"Mycobacterium_vanbaalenii_PYR-1\"\r\n"
       ]
      },
      {
       "output_type": "stream",
       "stream": "stdout",
       "text": [
        "Indexing: \"Deinococcus_radiodurans_R1\"\r\n"
       ]
      },
      {
       "output_type": "stream",
       "stream": "stdout",
       "text": [
        "Indexing: \"Helicobacter_pylori_OK113\"\r\n"
       ]
      },
      {
       "output_type": "stream",
       "stream": "stdout",
       "text": [
        "Indexing: \"Corynebacterium_diphtheriae_VA01\"\r\n"
       ]
      },
      {
       "output_type": "stream",
       "stream": "stdout",
       "text": [
        "Indexing: \"Mycobacterium_yongonense_05-1390\"\r\n"
       ]
      },
      {
       "output_type": "stream",
       "stream": "stdout",
       "text": [
        "Indexing: \"Treponema_paraluiscuniculi_Cuniculi_A\"\r\n"
       ]
      },
      {
       "output_type": "stream",
       "stream": "stdout",
       "text": [
        "Indexing: \"Brevundimonas_subvibrioides_ATCC_15264\"\r\n"
       ]
      },
      {
       "output_type": "stream",
       "stream": "stdout",
       "text": [
        "Indexing: \"Chroococcidiopsis_thermalis_PCC_7203\"\r\n"
       ]
      },
      {
       "output_type": "stream",
       "stream": "stdout",
       "text": [
        "Indexing: \"Butyrivibrio_proteoclasticus_B316\"\r\n"
       ]
      },
      {
       "output_type": "stream",
       "stream": "stdout",
       "text": [
        "Indexing: \"Bordetella_pertussis_B1917\"\r\n"
       ]
      },
      {
       "output_type": "stream",
       "stream": "stdout",
       "text": [
        "Indexing: \"Rickettsia_rhipicephali_str_3-7-female6-CWPP\"\r\n"
       ]
      },
      {
       "output_type": "stream",
       "stream": "stdout",
       "text": [
        "Indexing: \"Pseudomonas_chlororaphis_subsp_aurantiaca\"\r\n"
       ]
      },
      {
       "output_type": "stream",
       "stream": "stdout",
       "text": [
        "Indexing: \"Serratia_fonticola_RB-25\"\r\n"
       ]
      },
      {
       "output_type": "stream",
       "stream": "stdout",
       "text": [
        "Indexing: \"Acidovorax_avenae_subsp_avenae_ATCC_19860\"\r\n"
       ]
      },
      {
       "output_type": "stream",
       "stream": "stdout",
       "text": [
        "Indexing: \"Anaerobaculum_mobile_DSM_13181\"\r\n"
       ]
      },
      {
       "output_type": "stream",
       "stream": "stdout",
       "text": [
        "Indexing: \"Cellulophaga_baltica_NN016038\"\r\n"
       ]
      },
      {
       "output_type": "stream",
       "stream": "stdout",
       "text": [
        "Indexing: \"Dichelobacter_nodosus_VCS1703A\"\r\n"
       ]
      },
      {
       "output_type": "stream",
       "stream": "stdout",
       "text": [
        "Indexing: \"Bradyrhizobium_japonicum_USDA_6\"\r\n"
       ]
      },
      {
       "output_type": "stream",
       "stream": "stdout",
       "text": [
        "Indexing: \"Bifidobacterium_indicum_LMG_11587_DSM_20214\"\r\n"
       ]
      },
      {
       "output_type": "stream",
       "stream": "stdout",
       "text": [
        "Indexing: \"Magnetococcus_marinus_MC-1\"\r\n"
       ]
      },
      {
       "output_type": "stream",
       "stream": "stdout",
       "text": [
        "Indexing: \"Deinococcus_geothermalis_DSM_11300\"\r\n"
       ]
      },
      {
       "output_type": "stream",
       "stream": "stdout",
       "text": [
        "Indexing: \"Flexistipes_sinusarabici_DSM_4947\"\r\n"
       ]
      },
      {
       "output_type": "stream",
       "stream": "stdout",
       "text": [
        "Indexing: \"Klebsiella_oxytoca_KONIH1\"\r\n"
       ]
      },
      {
       "output_type": "stream",
       "stream": "stdout",
       "text": [
        "Indexing: \"Corynebacterium_vitaeruminis_DSM_20294\"\r\n"
       ]
      },
      {
       "output_type": "stream",
       "stream": "stdout",
       "text": [
        "Indexing: \"Candidatus_Puniceispirillum_marinum_IMCC1322\"\r\n"
       ]
      },
      {
       "output_type": "stream",
       "stream": "stdout",
       "text": [
        "Indexing: \"Delftia_acidovorans_SPH-1\"\r\n"
       ]
      },
      {
       "output_type": "stream",
       "stream": "stdout",
       "text": [
        "Indexing: \"Lactobacillus_paracasei_subsp_paracasei_JCM_8130\"\r\n"
       ]
      },
      {
       "output_type": "stream",
       "stream": "stdout",
       "text": [
        "Indexing: \"Olsenella_uli_DSM_7084\"\r\n"
       ]
      },
      {
       "output_type": "stream",
       "stream": "stdout",
       "text": [
        "Indexing: \"Mycobacterium_bovis_BCG_str_Pasteur_1173P2\"\r\n"
       ]
      },
      {
       "output_type": "stream",
       "stream": "stdout",
       "text": [
        "Indexing: \"Amphibacillus_xylanus_NBRC_15112\"\r\n"
       ]
      },
      {
       "output_type": "stream",
       "stream": "stdout",
       "text": [
        "Indexing: \"Desulfotomaculum_kuznetsovii_DSM_6115\"\r\n"
       ]
      },
      {
       "output_type": "stream",
       "stream": "stdout",
       "text": [
        "Indexing: \"Corynebacterium_efficiens_YS-314\"\r\n"
       ]
      },
      {
       "output_type": "stream",
       "stream": "stdout",
       "text": [
        "Indexing: \"Magnetospirillum_gryphiswaldense_MSR-1_v2\"\r\n"
       ]
      },
      {
       "output_type": "stream",
       "stream": "stdout",
       "text": [
        "Indexing: \"Corynebacterium_humireducens_NBRC_106098_DSM_45392\"\r\n"
       ]
      },
      {
       "output_type": "stream",
       "stream": "stdout",
       "text": [
        "Indexing: \"Helicobacter_acinonychis_str_Sheeba\"\r\n"
       ]
      },
      {
       "output_type": "stream",
       "stream": "stdout",
       "text": [
        "Indexing: \"Brucella_microti_CCM_4915\"\r\n"
       ]
      },
      {
       "output_type": "stream",
       "stream": "stdout",
       "text": [
        "Indexing: \"Deinococcus_maricopensis_DSM_21211\"\r\n"
       ]
      },
      {
       "output_type": "stream",
       "stream": "stdout",
       "text": [
        "Indexing: \"Candidatus_Hepatoplasma_crinochetorum_Av\"\r\n"
       ]
      },
      {
       "output_type": "stream",
       "stream": "stdout",
       "text": [
        "Indexing: \"Comamonas_testosteroni_CNB-1\"\r\n"
       ]
      },
      {
       "output_type": "stream",
       "stream": "stdout",
       "text": [
        "Indexing: \"Thalassolituus_oleivorans_MIL-1\"\r\n"
       ]
      },
      {
       "output_type": "stream",
       "stream": "stdout",
       "text": [
        "Indexing: \"Rothia_dentocariosa_ATCC_17931\"\r\n"
       ]
      },
      {
       "output_type": "stream",
       "stream": "stdout",
       "text": [
        "Indexing: \"Spiroplasma_mirum_ATCC_29335\"\r\n"
       ]
      },
      {
       "output_type": "stream",
       "stream": "stdout",
       "text": [
        "Indexing: \"Blastococcus_saxobsidens_DD2\"\r\n"
       ]
      },
      {
       "output_type": "stream",
       "stream": "stdout",
       "text": [
        "Indexing: \"Alcanivorax_pacificus_W11-5\"\r\n"
       ]
      },
      {
       "output_type": "stream",
       "stream": "stdout",
       "text": [
        "Indexing: \"Flavobacterium_indicum_GPTSA100-9_DSM_17447\"\r\n"
       ]
      },
      {
       "output_type": "stream",
       "stream": "stdout",
       "text": [
        "Indexing: \"Clostridium_saccharobutylicum_DSM_13864\"\r\n"
       ]
      },
      {
       "output_type": "stream",
       "stream": "stdout",
       "text": [
        "Indexing: \"Taylorella_asinigenitalis_MCE3\"\r\n"
       ]
      },
      {
       "output_type": "stream",
       "stream": "stdout",
       "text": [
        "Indexing: \"Corynebacterium_callunae_DSM_20147\"\r\n"
       ]
      },
      {
       "output_type": "stream",
       "stream": "stdout",
       "text": [
        "Indexing: \"Deinococcus_peraridilitoris_DSM_19664\"\r\n"
       ]
      },
      {
       "output_type": "stream",
       "stream": "stdout",
       "text": [
        "Indexing: \"Legionella_pneumophila_subsp_pneumophila\"\r\n"
       ]
      },
      {
       "output_type": "stream",
       "stream": "stdout",
       "text": [
        "Indexing: \"Neisseria_lactamica_020-06\"\r\n"
       ]
      },
      {
       "output_type": "stream",
       "stream": "stdout",
       "text": [
        "Indexing: \"Rickettsia_conorii_str_Malish_7\"\r\n"
       ]
      },
      {
       "output_type": "stream",
       "stream": "stdout",
       "text": [
        "Indexing: \"Borrelia_afzelii_Tom3107\"\r\n"
       ]
      },
      {
       "output_type": "stream",
       "stream": "stdout",
       "text": [
        "Indexing: \"Bacillus_amyloliquefaciens_subsp_plantarum_str_FZB42\"\r\n"
       ]
      },
      {
       "output_type": "stream",
       "stream": "stdout",
       "text": [
        "Indexing: \"Borrelia_miyamotoi_LB-2001\"\r\n"
       ]
      },
      {
       "output_type": "stream",
       "stream": "stdout",
       "text": [
        "Indexing: \"Lactobacillus_buchneri_NRRL_B-30929\"\r\n"
       ]
      },
      {
       "output_type": "stream",
       "stream": "stdout",
       "text": [
        "Indexing: \"Tannerella_forsythia_ATCC_43037\"\r\n"
       ]
      },
      {
       "output_type": "stream",
       "stream": "stdout",
       "text": [
        "Indexing: \"Flavobacterium_branchiophilum_FL-15\"\r\n"
       ]
      },
      {
       "output_type": "stream",
       "stream": "stdout",
       "text": [
        "Indexing: \"Anoxybacillus_flavithermus_WK1\"\r\n"
       ]
      },
      {
       "output_type": "stream",
       "stream": "stdout",
       "text": [
        "Indexing: \"Rubrivivax_gelatinosus_IL144\"\r\n"
       ]
      },
      {
       "output_type": "stream",
       "stream": "stdout",
       "text": [
        "Indexing: \"Strawberry_lethal_yellows_phytoplasma_CPA_str_NZSb11\"\r\n"
       ]
      },
      {
       "output_type": "stream",
       "stream": "stdout",
       "text": [
        "Indexing: \"Aerococcus_urinae_ACS-120-V-Col10a\"\r\n"
       ]
      },
      {
       "output_type": "stream",
       "stream": "stdout",
       "text": [
        "Indexing: \"Janthinobacterium_agaricidamnosum_NBRC_102515_DSM_9628\"\r\n"
       ]
      },
      {
       "output_type": "stream",
       "stream": "stdout",
       "text": [
        "Indexing: \"Sideroxydans_lithotrophicus_ES-1\"\r\n"
       ]
      },
      {
       "output_type": "stream",
       "stream": "stdout",
       "text": [
        "Indexing: \"Streptococcus_suis_SC84\"\r\n"
       ]
      },
      {
       "output_type": "stream",
       "stream": "stdout",
       "text": [
        "Indexing: \"Thermanaerovibrio_acidaminovorans_DSM_6589\"\r\n"
       ]
      },
      {
       "output_type": "stream",
       "stream": "stdout",
       "text": [
        "Indexing: \"Pseudoalteromonas_haloplanktis_TAC125\"\r\n"
       ]
      },
      {
       "output_type": "stream",
       "stream": "stdout",
       "text": [
        "Indexing: \"Treponema_caldaria_DSM_7334\"\r\n"
       ]
      },
      {
       "output_type": "stream",
       "stream": "stdout",
       "text": [
        "Indexing: \"Leptotrichia_buccalis_C-1013-b\"\r\n"
       ]
      },
      {
       "output_type": "stream",
       "stream": "stdout",
       "text": [
        "Indexing: \"Acinetobacter_oleivorans_DR1\"\r\n"
       ]
      },
      {
       "output_type": "stream",
       "stream": "stdout",
       "text": [
        "Indexing: \"Candidatus_Kinetoplastibacterium_galatii_TCC219\"\r\n"
       ]
      },
      {
       "output_type": "stream",
       "stream": "stdout",
       "text": [
        "Indexing: \"Sebaldella_termitidis_ATCC_33386\"\r\n"
       ]
      },
      {
       "output_type": "stream",
       "stream": "stdout",
       "text": [
        "Indexing: \"Bifidobacterium_animalis_subsp_lactis_V9\"\r\n"
       ]
      },
      {
       "output_type": "stream",
       "stream": "stdout",
       "text": [
        "Indexing: \"Mannheimia_succiniciproducens_MBEL55E\"\r\n"
       ]
      },
      {
       "output_type": "stream",
       "stream": "stdout",
       "text": [
        "Indexing: \"Mycobacterium_tuberculosis_RGTB327\"\r\n"
       ]
      },
      {
       "output_type": "stream",
       "stream": "stdout",
       "text": [
        "Indexing: \"Nitratifractor_salsuginis_DSM_16511\"\r\n"
       ]
      },
      {
       "output_type": "stream",
       "stream": "stdout",
       "text": [
        "Indexing: \"Melioribacter_roseus_P3M-2\"\r\n"
       ]
      },
      {
       "output_type": "stream",
       "stream": "stdout",
       "text": [
        "Indexing: \"Burkholderia_phymatum_STM815\"\r\n"
       ]
      },
      {
       "output_type": "stream",
       "stream": "stdout",
       "text": [
        "Indexing: \"Ferrimonas_balearica_DSM_9799\"\r\n"
       ]
      },
      {
       "output_type": "stream",
       "stream": "stdout",
       "text": [
        "Indexing: \"Mannheimia_varigena_USDA-ARS-USMARC-1388\"\r\n"
       ]
      },
      {
       "output_type": "stream",
       "stream": "stdout",
       "text": [
        "Indexing: \"Bacteroides_helcogenes_P_36-108\"\r\n"
       ]
      },
      {
       "output_type": "stream",
       "stream": "stdout",
       "text": [
        "Indexing: \"Nitrobacter_winogradskyi_Nb-255\"\r\n"
       ]
      },
      {
       "output_type": "stream",
       "stream": "stdout",
       "text": [
        "Indexing: \"Mycoplasma_agalactiae_PG2\"\r\n"
       ]
      },
      {
       "output_type": "stream",
       "stream": "stdout",
       "text": [
        "Indexing: \"Methylobacterium_radiotolerans_JCM_2831\"\r\n"
       ]
      },
      {
       "output_type": "stream",
       "stream": "stdout",
       "text": [
        "Indexing: \"Pelodictyon_phaeoclathratiforme_BU-1\"\r\n"
       ]
      },
      {
       "output_type": "stream",
       "stream": "stdout",
       "text": [
        "Indexing: \"Thiomonas_intermedia_K12\"\r\n"
       ]
      },
      {
       "output_type": "stream",
       "stream": "stdout",
       "text": [
        "Indexing: \"Paenibacillus_polymyxa_M1\"\r\n"
       ]
      },
      {
       "output_type": "stream",
       "stream": "stdout",
       "text": [
        "Indexing: \"Sinorhizobium_fredii_NGR234\"\r\n"
       ]
      },
      {
       "output_type": "stream",
       "stream": "stdout",
       "text": [
        "Indexing: \"Coriobacterium_glomerans_PW2\"\r\n"
       ]
      },
      {
       "output_type": "stream",
       "stream": "stdout",
       "text": [
        "Indexing: \"Gluconobacter_oxydans_DSM_3504\"\r\n"
       ]
      },
      {
       "output_type": "stream",
       "stream": "stdout",
       "text": [
        "Indexing: \"Yersinia_frederiksenii_Y225\"\r\n"
       ]
      },
      {
       "output_type": "stream",
       "stream": "stdout",
       "text": [
        "Indexing: \"Burkholderia_rhizoxinica_HKI_454\"\r\n"
       ]
      },
      {
       "output_type": "stream",
       "stream": "stdout",
       "text": [
        "Indexing: \"Acidithiobacillus_caldus_ATCC_51756\"\r\n"
       ]
      },
      {
       "output_type": "stream",
       "stream": "stdout",
       "text": [
        "Indexing: \"Neorhizobium_galegae_bv_officinalis_bv_officinalis_str_HAMBI_1141\"\r\n"
       ]
      },
      {
       "output_type": "stream",
       "stream": "stdout",
       "text": [
        "Indexing: \"Conexibacter_woesei_DSM_14684\"\r\n"
       ]
      },
      {
       "output_type": "stream",
       "stream": "stdout",
       "text": [
        "Indexing: \"Streptomyces_fulvissimus_DSM_40593\"\r\n"
       ]
      },
      {
       "output_type": "stream",
       "stream": "stdout",
       "text": [
        "Indexing: \"Thioflavicoccus_mobilis_8321\"\r\n"
       ]
      },
      {
       "output_type": "stream",
       "stream": "stdout",
       "text": [
        "Indexing: \"Leptospirillum_ferriphilum_YSK\"\r\n"
       ]
      },
      {
       "output_type": "stream",
       "stream": "stdout",
       "text": [
        "Indexing: \"Roseobacter_denitrificans_OCh_114\"\r\n"
       ]
      },
      {
       "output_type": "stream",
       "stream": "stdout",
       "text": [
        "Indexing: \"Leifsonia_xyli_subsp_cynodontis_DSM_46306\"\r\n"
       ]
      },
      {
       "output_type": "stream",
       "stream": "stdout",
       "text": [
        "Indexing: \"Mycoplasma_suis_KI3806\"\r\n"
       ]
      },
      {
       "output_type": "stream",
       "stream": "stdout",
       "text": [
        "Indexing: \"Eggerthella_lenta_DSM_2243\"\r\n"
       ]
      },
      {
       "output_type": "stream",
       "stream": "stdout",
       "text": [
        "Indexing: \"Serratia_liquefaciens_ATCC_27592\"\r\n"
       ]
      },
      {
       "output_type": "stream",
       "stream": "stdout",
       "text": [
        "Indexing: \"Streptobacillus_moniliformis_DSM_12112\"\r\n"
       ]
      },
      {
       "output_type": "stream",
       "stream": "stdout",
       "text": [
        "Indexing: \"Ornithobacterium_rhinotracheale_ORT-UMN_88\"\r\n"
       ]
      },
      {
       "output_type": "stream",
       "stream": "stdout",
       "text": [
        "Indexing: \"Pseudomonas_aeruginosa_VRFPA04\"\r\n"
       ]
      },
      {
       "output_type": "stream",
       "stream": "stdout",
       "text": [
        "Indexing: \"Rahnella_aquatilis_HX2\"\r\n"
       ]
      },
      {
       "output_type": "stream",
       "stream": "stdout",
       "text": [
        "Indexing: \"Lactobacillus_salivarius_CECT_5713\"\r\n"
       ]
      },
      {
       "output_type": "stream",
       "stream": "stdout",
       "text": [
        "Indexing: \"Moraxella_catarrhalis_BBH18\"\r\n"
       ]
      },
      {
       "output_type": "stream",
       "stream": "stdout",
       "text": [
        "Indexing: \"Pectobacterium_wasabiae_WPP163\"\r\n"
       ]
      },
      {
       "output_type": "stream",
       "stream": "stdout",
       "text": [
        "Indexing: \"Owenweeksia_hongkongensis_DSM_17368\"\r\n"
       ]
      },
      {
       "output_type": "stream",
       "stream": "stdout",
       "text": [
        "Indexing: \"Thermobacillus_composti_KWC4\"\r\n"
       ]
      },
      {
       "output_type": "stream",
       "stream": "stdout",
       "text": [
        "Indexing: \"Paenibacillus_terrae_HPL-003\"\r\n"
       ]
      },
      {
       "output_type": "stream",
       "stream": "stdout",
       "text": [
        "Indexing: \"Asticcacaulis_excentricus_CB_48\"\r\n"
       ]
      },
      {
       "output_type": "stream",
       "stream": "stdout",
       "text": [
        "Indexing: \"Edwardsiella_tarda_FL6-60\"\r\n"
       ]
      },
      {
       "output_type": "stream",
       "stream": "stdout",
       "text": [
        "Indexing: \"Barnesiella_viscericola_DSM_18177\"\r\n"
       ]
      },
      {
       "output_type": "stream",
       "stream": "stdout",
       "text": [
        "Indexing: \"Erwinia_billingiae_Eb661\"\r\n"
       ]
      },
      {
       "output_type": "stream",
       "stream": "stdout",
       "text": [
        "Indexing: \"Geobacter_metallireducens_GS-15\"\r\n"
       ]
      },
      {
       "output_type": "stream",
       "stream": "stdout",
       "text": [
        "Indexing: \"Mycoplasma_synoviae_53\"\r\n"
       ]
      },
      {
       "output_type": "stream",
       "stream": "stdout",
       "text": [
        "Indexing: \"Ketogulonicigenium_vulgare_WSH-001\"\r\n"
       ]
      },
      {
       "output_type": "stream",
       "stream": "stdout",
       "text": [
        "Indexing: \"Xylanimonas_cellulosilytica_DSM_15894\"\r\n"
       ]
      },
      {
       "output_type": "stream",
       "stream": "stdout",
       "text": [
        "Indexing: \"Lactobacillus_helveticus_H9\"\r\n"
       ]
      },
      {
       "output_type": "stream",
       "stream": "stdout",
       "text": [
        "Indexing: \"Desulfotomaculum_acetoxidans_DSM_771\"\r\n"
       ]
      },
      {
       "output_type": "stream",
       "stream": "stdout",
       "text": [
        "Indexing: \"Bacillus_lehensis_G1\"\r\n"
       ]
      },
      {
       "output_type": "stream",
       "stream": "stdout",
       "text": [
        "Indexing: \"Streptococcus_iniae_SF1\"\r\n"
       ]
      },
      {
       "output_type": "stream",
       "stream": "stdout",
       "text": [
        "Indexing: \"Geobacter_bemidjiensis_Bem\"\r\n"
       ]
      },
      {
       "output_type": "stream",
       "stream": "stdout",
       "text": [
        "Indexing: \"Rhodospirillum_centenum_SW\"\r\n"
       ]
      },
      {
       "output_type": "stream",
       "stream": "stdout",
       "text": [
        "Indexing: \"Burkholderia_multivorans_ATCC_17616\"\r\n"
       ]
      },
      {
       "output_type": "stream",
       "stream": "stdout",
       "text": [
        "Indexing: \"Lactobacillus_delbrueckii_subsp_bulgaricus_ND02\"\r\n"
       ]
      },
      {
       "output_type": "stream",
       "stream": "stdout",
       "text": [
        "Indexing: \"Deinococcus_deserti_VCD115\"\r\n"
       ]
      },
      {
       "output_type": "stream",
       "stream": "stdout",
       "text": [
        "Indexing: \"Frateuria_aurantia_DSM_6220\"\r\n"
       ]
      },
      {
       "output_type": "stream",
       "stream": "stdout",
       "text": [
        "Indexing: \"Treponema_primitia_ZAS-2\"\r\n"
       ]
      },
      {
       "output_type": "stream",
       "stream": "stdout",
       "text": [
        "Indexing: \"Thermotoga_maritima_MSB8\"\r\n"
       ]
      },
      {
       "output_type": "stream",
       "stream": "stdout",
       "text": [
        "Indexing: \"Neorickettsia_helminthoeca_str_Oregon\"\r\n"
       ]
      },
      {
       "output_type": "stream",
       "stream": "stdout",
       "text": [
        "Indexing: \"Nitrosomonas_eutropha_C91\"\r\n"
       ]
      },
      {
       "output_type": "stream",
       "stream": "stdout",
       "text": [
        "Indexing: \"Rickettsia_japonica_YH\"\r\n"
       ]
      },
      {
       "output_type": "stream",
       "stream": "stdout",
       "text": [
        "Indexing: \"Rubrobacter_xylanophilus_DSM_9941\"\r\n"
       ]
      },
      {
       "output_type": "stream",
       "stream": "stdout",
       "text": [
        "Indexing: \"Syntrophus_aciditrophicus_SB\"\r\n"
       ]
      },
      {
       "output_type": "stream",
       "stream": "stdout",
       "text": [
        "Indexing: \"Stanieria_cyanosphaera_PCC_7437\"\r\n"
       ]
      },
      {
       "output_type": "stream",
       "stream": "stdout",
       "text": [
        "Indexing: \"Erythrobacter_litoralis_HTCC2594\"\r\n"
       ]
      },
      {
       "output_type": "stream",
       "stream": "stdout",
       "text": [
        "Indexing: \"Candidatus_Azobacteroides_pseudotrichonymphae_genomovar_CFP2\"\r\n"
       ]
      },
      {
       "output_type": "stream",
       "stream": "stdout",
       "text": [
        "Indexing: \"Streptococcus_infantarius_subsp_infantarius_CJ18\"\r\n"
       ]
      },
      {
       "output_type": "stream",
       "stream": "stdout",
       "text": [
        "Indexing: \"Clostridium_tetani_E88\"\r\n"
       ]
      },
      {
       "output_type": "stream",
       "stream": "stdout",
       "text": [
        "Indexing: \"Geobacter_lovleyi_SZ\"\r\n"
       ]
      },
      {
       "output_type": "stream",
       "stream": "stdout",
       "text": [
        "Indexing: \"Treponema_brennaborense_DSM_12168\"\r\n"
       ]
      },
      {
       "output_type": "stream",
       "stream": "stdout",
       "text": [
        "Indexing: \"Thermovibrio_ammonificans_HB-1\"\r\n"
       ]
      },
      {
       "output_type": "stream",
       "stream": "stdout",
       "text": [
        "Indexing: \"Desulfotalea_psychrophila_LSv54\"\r\n",
        "Indexing: \"Komagataeibacter_medellinensis_NBRC_3288\"\r\n"
       ]
      },
      {
       "output_type": "stream",
       "stream": "stdout",
       "text": [
        "Indexing: \"Streptosporangium_roseum_DSM_43021\"\r\n"
       ]
      },
      {
       "output_type": "stream",
       "stream": "stdout",
       "text": [
        "Indexing: \"Caldilinea_aerophila_DSM_14535_NBRC_104270\"\r\n"
       ]
      },
      {
       "output_type": "stream",
       "stream": "stdout",
       "text": [
        "Indexing: \"Eubacterium_limosum_KIST612\"\r\n"
       ]
      },
      {
       "output_type": "stream",
       "stream": "stdout",
       "text": [
        "Indexing: \"Corynebacterium_ulcerans_809\"\r\n"
       ]
      },
      {
       "output_type": "stream",
       "stream": "stdout",
       "text": [
        "Indexing: \"Flavobacterium_columnare_ATCC_49512\"\r\n"
       ]
      },
      {
       "output_type": "stream",
       "stream": "stdout",
       "text": [
        "Indexing: \"Staphylococcus_aureus_subsp_aureus_ST772-MRSA-V\"\r\n"
       ]
      },
      {
       "output_type": "stream",
       "stream": "stdout",
       "text": [
        "Indexing: \"Acidimicrobium_ferrooxidans_DSM_10331\"\r\n"
       ]
      },
      {
       "output_type": "stream",
       "stream": "stdout",
       "text": [
        "Indexing: \"Thioalkalivibrio_nitratireducens_DSM_14787\"\r\n"
       ]
      },
      {
       "output_type": "stream",
       "stream": "stdout",
       "text": [
        "Indexing: \"Desulfotomaculum_reducens_MI-1\"\r\n"
       ]
      },
      {
       "output_type": "stream",
       "stream": "stdout",
       "text": [
        "Indexing: \"_Clostridium_stercorarium_subsp_stercorarium_DSM_8532\"\r\n"
       ]
      },
      {
       "output_type": "stream",
       "stream": "stdout",
       "text": [
        "Indexing: \"Shigella_sonnei_53G\"\r\n"
       ]
      },
      {
       "output_type": "stream",
       "stream": "stdout",
       "text": [
        "Indexing: \"Prevotella_ruminicola_23\""
       ]
      },
      {
       "output_type": "stream",
       "stream": "stdout",
       "text": [
        "\r\n"
       ]
      },
      {
       "output_type": "stream",
       "stream": "stdout",
       "text": [
        "Indexing: \"Granulibacter_bethesdensis_CGDNIH3\"\r\n"
       ]
      },
      {
       "output_type": "stream",
       "stream": "stdout",
       "text": [
        "Indexing: \"Bordetella_bronchiseptica_253\"\r\n"
       ]
      },
      {
       "output_type": "stream",
       "stream": "stdout",
       "text": [
        "Indexing: \"Shigella_boydii_Sb227\"\r\n"
       ]
      },
      {
       "output_type": "stream",
       "stream": "stdout",
       "text": [
        "Indexing: \"Mycobacterium_kansasii_824\"\r\n"
       ]
      },
      {
       "output_type": "stream",
       "stream": "stdout",
       "text": [
        "Indexing: \"Amycolatopsis_methanolica_239\"\r\n"
       ]
      },
      {
       "output_type": "stream",
       "stream": "stdout",
       "text": [
        "Indexing: \"Halothermothrix_orenii_H_168\"\r\n"
       ]
      },
      {
       "output_type": "stream",
       "stream": "stdout",
       "text": [
        "Indexing: \"Rickettsia_sibirica_246\"\r\n"
       ]
      },
      {
       "output_type": "stream",
       "stream": "stdout",
       "text": [
        "Indexing: \"Brucella_pinnipedialis_B2_94\"\r\n"
       ]
      },
      {
       "output_type": "stream",
       "stream": "stdout",
       "text": [
        "Indexing: \"Actinoplanes_missouriensis_431\"\r\n"
       ]
      },
      {
       "output_type": "stream",
       "stream": "stdout",
       "text": [
        "Indexing: \"Thermacetogenium_phaeum_DSM_12270\"\r\n"
       ]
      },
      {
       "output_type": "stream",
       "stream": "stdout",
       "text": [
        "Indexing: \"Nitrobacter_hamburgensis_X14\"\r\n"
       ]
      },
      {
       "output_type": "stream",
       "stream": "stdout",
       "text": [
        "Indexing: \"Advenella_mimigardefordensis_DPN7\"\r\n"
       ]
      },
      {
       "output_type": "stream",
       "stream": "stdout",
       "text": [
        "Indexing: \"Candidatus_Rickettsia_amblyommii_str_GAT-30V\"\r\n"
       ]
      },
      {
       "output_type": "stream",
       "stream": "stdout",
       "text": [
        "Indexing: \"Desulfurispirillum_indicum_S5\"\r\n"
       ]
      },
      {
       "output_type": "stream",
       "stream": "stdout",
       "text": [
        "Indexing: \"Spiroplasma_diminutum_CUAS-1\"\r\n"
       ]
      },
      {
       "output_type": "stream",
       "stream": "stdout",
       "text": [
        "Indexing: \"Thermobispora_bispora_DSM_43833\"\r\n"
       ]
      },
      {
       "output_type": "stream",
       "stream": "stdout",
       "text": [
        "Indexing: \"Clostridium_botulinum_A_str_Hall\"\r\n"
       ]
      },
      {
       "output_type": "stream",
       "stream": "stdout",
       "text": [
        "Indexing: \"Caulobacter_segnis_ATCC_21756\"\r\n"
       ]
      },
      {
       "output_type": "stream",
       "stream": "stdout",
       "text": [
        "Indexing: \"Corynebacterium_terpenotabidum_Y-11\"\r\n"
       ]
      },
      {
       "output_type": "stream",
       "stream": "stdout",
       "text": [
        "Indexing: \"Rickettsia_helvetica_C9P9\"\r\n"
       ]
      },
      {
       "output_type": "stream",
       "stream": "stdout",
       "text": [
        "Indexing: \"Brachybacterium_faecium_DSM_4810\"\r\n"
       ]
      },
      {
       "output_type": "stream",
       "stream": "stdout",
       "text": [
        "Indexing: \"Marinobacter_adhaerens_HP15\"\r\n"
       ]
      },
      {
       "output_type": "stream",
       "stream": "stdout",
       "text": [
        "Indexing: \"Helicobacter_cetorum_MIT_00-7128\"\r\n"
       ]
      },
      {
       "output_type": "stream",
       "stream": "stdout",
       "text": [
        "Indexing: \"Rickettsia_prowazekii_str_Rp22\"\r\n"
       ]
      },
      {
       "output_type": "stream",
       "stream": "stdout",
       "text": [
        "Indexing: \"Mycobacterium_avium_104\"\r\n"
       ]
      },
      {
       "output_type": "stream",
       "stream": "stdout",
       "text": [
        "Indexing: \"Geobacillus_thermodenitrificans_NG80-2\"\r\n"
       ]
      },
      {
       "output_type": "stream",
       "stream": "stdout",
       "text": [
        "Indexing: \"Paenibacillus_mucilaginosus_K02\"\r\n"
       ]
      },
      {
       "output_type": "stream",
       "stream": "stdout",
       "text": [
        "Indexing: \"Hymenobacter_swuensis_DY53\"\r\n"
       ]
      },
      {
       "output_type": "stream",
       "stream": "stdout",
       "text": [
        "Indexing: \"Pseudoxanthomonas_suwonensis_11-1\"\r\n"
       ]
      },
      {
       "output_type": "stream",
       "stream": "stdout",
       "text": [
        "Indexing: \"Arthrobacter_arilaitensis_Re117\"\r\n"
       ]
      },
      {
       "output_type": "stream",
       "stream": "stdout",
       "text": [
        "Indexing: \"Isosphaera_pallida_ATCC_43644\"\r\n"
       ]
      },
      {
       "output_type": "stream",
       "stream": "stdout",
       "text": [
        "Indexing: \"Phycisphaera_mikurensis_NBRC_102666\"\r\n"
       ]
      },
      {
       "output_type": "stream",
       "stream": "stdout",
       "text": [
        "Indexing: \"Streptococcus_pyogenes_MGAS315\"\r\n"
       ]
      },
      {
       "output_type": "stream",
       "stream": "stdout",
       "text": [
        "Indexing: \"Chlamydia_pecorum_P787\"\r\n"
       ]
      },
      {
       "output_type": "stream",
       "stream": "stdout",
       "text": [
        "Indexing: \"Baumannia_cicadellinicola_str_Hc_Homalodisca_coagulata\"\r\n"
       ]
      },
      {
       "output_type": "stream",
       "stream": "stdout",
       "text": [
        "Indexing: \"Shewanella_woodyi_ATCC_51908\"\r\n"
       ]
      },
      {
       "output_type": "stream",
       "stream": "stdout",
       "text": [
        "Indexing: \"Pleurocapsa_sp_PCC_7327\"\r\n"
       ]
      },
      {
       "output_type": "stream",
       "stream": "stdout",
       "text": [
        "Indexing: \"Calothrix_sp_PCC_6303\"\r\n"
       ]
      },
      {
       "output_type": "stream",
       "stream": "stdout",
       "text": [
        "Indexing: \"cyanobacterium_endosymbiont_of_Epithemia_turgida_isolate_EtSB_Lake_Yunoko\"\r\n"
       ]
      },
      {
       "output_type": "stream",
       "stream": "stdout",
       "text": [
        "Indexing: \"Listonella_anguillarum_M3\"\r\n"
       ]
      },
      {
       "output_type": "stream",
       "stream": "stdout",
       "text": [
        "Indexing: \"Campylobacter_jejuni_subsp_jejuni_NCTC_11168-mfK12E5\"\r\n"
       ]
      },
      {
       "output_type": "stream",
       "stream": "stdout",
       "text": [
        "Indexing: \"Streptomyces_cattleya_NRRL_8057_DSM_46488\"\r\n"
       ]
      },
      {
       "output_type": "stream",
       "stream": "stdout",
       "text": [
        "Indexing: \"Helicobacter_mustelae_12198\"\r\n"
       ]
      },
      {
       "output_type": "stream",
       "stream": "stdout",
       "text": [
        "Indexing: \"Mycoplasma_gallisepticum_WI01_2001_043-13-2P\"\r\n"
       ]
      },
      {
       "output_type": "stream",
       "stream": "stdout",
       "text": [
        "Indexing: \"Erwinia_tasmaniensis_Et1_99\"\r\n"
       ]
      },
      {
       "output_type": "stream",
       "stream": "stdout",
       "text": [
        "Indexing: \"Prevotella_denticola_F0289\"\r\n"
       ]
      },
      {
       "output_type": "stream",
       "stream": "stdout",
       "text": [
        "Indexing: \"Mycoplasma_haemofelis_str_Langford_1\"\r\n"
       ]
      },
      {
       "output_type": "stream",
       "stream": "stdout",
       "text": [
        "Indexing: \"Jonesia_denitrificans_DSM_20603\"\r\n"
       ]
      },
      {
       "output_type": "stream",
       "stream": "stdout",
       "text": [
        "Indexing: \"Buchnera_aphidicola_str_Sg_Schizaphis_graminum\"\r\n"
       ]
      },
      {
       "output_type": "stream",
       "stream": "stdout",
       "text": [
        "Indexing: \"Mesoplasma_florum_L1\"\r\n"
       ]
      },
      {
       "output_type": "stream",
       "stream": "stdout",
       "text": [
        "Indexing: \"_Clostridium_acidurici_9a\"\r\n"
       ]
      },
      {
       "output_type": "stream",
       "stream": "stdout",
       "text": [
        "Indexing: \"Pseudoxanthomonas_spadix_BD-a59\"\r\n"
       ]
      },
      {
       "output_type": "stream",
       "stream": "stdout",
       "text": [
        "Indexing: \"Clavibacter_michiganensis_subsp_sepedonicus\"\r\n"
       ]
      },
      {
       "output_type": "stream",
       "stream": "stdout",
       "text": [
        "Indexing: \"Proteus_mirabilis_BB2000\"\r\n"
       ]
      },
      {
       "output_type": "stream",
       "stream": "stdout",
       "text": [
        "Indexing: \"Borrelia_garinii_BgVir\"\r\n"
       ]
      },
      {
       "output_type": "stream",
       "stream": "stdout",
       "text": [
        "Indexing: \"Fluviicola_taffensis_DSM_16823\"\r\n"
       ]
      },
      {
       "output_type": "stream",
       "stream": "stdout",
       "text": [
        "Indexing: \"Fervidobacterium_pennivorans_DSM_9078\"\r\n"
       ]
      },
      {
       "output_type": "stream",
       "stream": "stdout",
       "text": [
        "Indexing: \"Sulfurospirillum_barnesii_SES-3\"\r\n"
       ]
      },
      {
       "output_type": "stream",
       "stream": "stdout",
       "text": [
        "Indexing: \"Ehrlichia_chaffeensis_str_Osceola\"\r\n"
       ]
      },
      {
       "output_type": "stream",
       "stream": "stdout",
       "text": [
        "Indexing: \"Rickettsia_rickettsii_str_Sheila_Smith\"\r\n"
       ]
      },
      {
       "output_type": "stream",
       "stream": "stdout",
       "text": [
        "Indexing: \"Escherichia_fergusonii_ATCC_35469\"\r\n"
       ]
      },
      {
       "output_type": "stream",
       "stream": "stdout",
       "text": [
        "Indexing: \"Candidatus_Blochmannia_chromaiodes_str_640\"\r\n"
       ]
      },
      {
       "output_type": "stream",
       "stream": "stdout",
       "text": [
        "Indexing: \"Sphaerobacter_thermophilus_DSM_20745\"\r\n"
       ]
      },
      {
       "output_type": "stream",
       "stream": "stdout",
       "text": [
        "Indexing: \"Cellvibrio_japonicus_Ueda107\"\r\n"
       ]
      },
      {
       "output_type": "stream",
       "stream": "stdout",
       "text": [
        "Indexing: \"Nitrosomonas_europaea_ATCC_19718\"\r\n"
       ]
      },
      {
       "output_type": "stream",
       "stream": "stdout",
       "text": [
        "Indexing: \"Kribbella_flavida_DSM_17836\"\r\n"
       ]
      },
      {
       "output_type": "stream",
       "stream": "stdout",
       "text": [
        "Indexing: \"Paracoccus_denitrificans_PD1222\"\r\n"
       ]
      },
      {
       "output_type": "stream",
       "stream": "stdout",
       "text": [
        "Indexing: \"Rhodococcus_opacus_B4\"\r\n"
       ]
      },
      {
       "output_type": "stream",
       "stream": "stdout",
       "text": [
        "Indexing: \"Chloroflexus_aggregans_DSM_9485\"\r\n"
       ]
      },
      {
       "output_type": "stream",
       "stream": "stdout",
       "text": [
        "Indexing: \"Teredinibacter_turnerae_T7901\"\r\n"
       ]
      },
      {
       "output_type": "stream",
       "stream": "stdout",
       "text": [
        "Indexing: \"Campylobacter_curvus_525_92\"\r\n"
       ]
      },
      {
       "output_type": "stream",
       "stream": "stdout",
       "text": [
        "Indexing: \"Rickettsia_slovaca_str_D-CWPP\"\r\n"
       ]
      },
      {
       "output_type": "stream",
       "stream": "stdout",
       "text": [
        "Indexing: \"Marinomonas_posidonica_IVIA-Po-181\"\r\n"
       ]
      },
      {
       "output_type": "stream",
       "stream": "stdout",
       "text": [
        "Indexing: \"Oligotropha_carboxidovorans_OM4\"\r\n"
       ]
      },
      {
       "output_type": "stream",
       "stream": "stdout",
       "text": [
        "Indexing: \"Geobacter_sulfurreducens_KN400\"\r\n"
       ]
      },
      {
       "output_type": "stream",
       "stream": "stdout",
       "text": [
        "Indexing: \"Azorhizobium_caulinodans_ORS_571\"\r\n"
       ]
      },
      {
       "output_type": "stream",
       "stream": "stdout",
       "text": [
        "Indexing: \"Leptospirillum_ferrooxidans_C2-3\"\r\n"
       ]
      },
      {
       "output_type": "stream",
       "stream": "stdout",
       "text": [
        "Indexing: \"Rickettsia_montanensis_str_OSU_85-930\"\r\n"
       ]
      },
      {
       "output_type": "stream",
       "stream": "stdout",
       "text": [
        "Indexing: \"Rhodopseudomonas_palustris_BisB18\"\r\n"
       ]
      },
      {
       "output_type": "stream",
       "stream": "stdout",
       "text": [
        "Indexing: \"Xanthomonas_campestris_pv_vesicatoria_str_85-10\"\r\n"
       ]
      },
      {
       "output_type": "stream",
       "stream": "stdout",
       "text": [
        "Indexing: \"Methylococcus_capsulatus_str_Bath\"\r\n"
       ]
      },
      {
       "output_type": "stream",
       "stream": "stdout",
       "text": [
        "Indexing: \"Staphylococcus_epidermidis_RP62A\"\r\n"
       ]
      },
      {
       "output_type": "stream",
       "stream": "stdout",
       "text": [
        "Indexing: \"Blattabacterium_sp_Blattella_germanica_str_Bge\"\r\n"
       ]
      },
      {
       "output_type": "stream",
       "stream": "stdout",
       "text": [
        "Indexing: \"Vibrio_campbellii_ATCC_BAA-1116\"\r\n"
       ]
      },
      {
       "output_type": "stream",
       "stream": "stdout",
       "text": [
        "Indexing: \"Prevotella_melaninogenica_ATCC_25845\"\r\n"
       ]
      },
      {
       "output_type": "stream",
       "stream": "stdout",
       "text": [
        "Indexing: \"Thioalkalivibrio_thiocyanoxidans_ARh_4\"\r\n"
       ]
      },
      {
       "output_type": "stream",
       "stream": "stdout",
       "text": [
        "Indexing: \"Enterobacter_asburiae_LF7a\"\r\n"
       ]
      },
      {
       "output_type": "stream",
       "stream": "stdout",
       "text": [
        "Indexing: \"Candidatus_Tremblaya_phenacola_PAVE\"\r\n"
       ]
      },
      {
       "output_type": "stream",
       "stream": "stdout",
       "text": [
        "Indexing: \"_Clostridium_clariflavum_DSM_19732\"\r\n"
       ]
      },
      {
       "output_type": "stream",
       "stream": "stdout",
       "text": [
        "Indexing: \"Shewanella_halifaxensis_HAW-EB4\"\r\n"
       ]
      },
      {
       "output_type": "stream",
       "stream": "stdout",
       "text": [
        "Indexing: \"Anabaena_variabilis_ATCC_29413\"\r\n"
       ]
      },
      {
       "output_type": "stream",
       "stream": "stdout",
       "text": [
        "Indexing: \"Opitutus_terrae_PB90-1\"\r\n"
       ]
      },
      {
       "output_type": "stream",
       "stream": "stdout",
       "text": [
        "Indexing: \"Planctomyces_limnophilus_DSM_3776\"\r\n"
       ]
      },
      {
       "output_type": "stream",
       "stream": "stdout",
       "text": [
        "Indexing: \"Shewanella_violacea_DSS12\"\r\n"
       ]
      },
      {
       "output_type": "stream",
       "stream": "stdout",
       "text": [
        "Indexing: \"Candidatus_Ruthia_magnifica_str_Cm_Calyptogena_magnifica\"\r\n"
       ]
      },
      {
       "output_type": "stream",
       "stream": "stdout",
       "text": [
        "Indexing: \"Streptococcus_oligofermentans_AS_1_3089\"\r\n"
       ]
      },
      {
       "output_type": "stream",
       "stream": "stdout",
       "text": [
        "Indexing: \"Thermoanaerobacterium_thermosaccharolyticum_M0795\"\r\n"
       ]
      },
      {
       "output_type": "stream",
       "stream": "stdout",
       "text": [
        "Indexing: \"Vibrio_alginolyticus_NBRC_15630_ATCC_17749\"\r\n"
       ]
      },
      {
       "output_type": "stream",
       "stream": "stdout",
       "text": [
        "Indexing: \"Campylobacter_concisus_13826\"\r\n"
       ]
      },
      {
       "output_type": "stream",
       "stream": "stdout",
       "text": [
        "Indexing: \"Dyella_japonica_A8\"\r\n"
       ]
      },
      {
       "output_type": "stream",
       "stream": "stdout",
       "text": [
        "Indexing: \"Bordetella_avium_197N\"\r\n"
       ]
      },
      {
       "output_type": "stream",
       "stream": "stdout",
       "text": [
        "Indexing: \"Dehalobacter_restrictus_DSM_9455\"\r\n"
       ]
      },
      {
       "output_type": "stream",
       "stream": "stdout",
       "text": [
        "Indexing: \"Fibrobacter_succinogenes_subsp_succinogenes_S85\"\r\n"
       ]
      },
      {
       "output_type": "stream",
       "stream": "stdout",
       "text": [
        "Indexing: \"Brucella_canis_HSK_A52141\"\r\n"
       ]
      },
      {
       "output_type": "stream",
       "stream": "stdout",
       "text": [
        "Indexing: \"Bacillus_subtilis_QB928\"\r\n"
       ]
      },
      {
       "output_type": "stream",
       "stream": "stdout",
       "text": [
        "Indexing: \"Turneriella_parva_DSM_21527\"\r\n"
       ]
      },
      {
       "output_type": "stream",
       "stream": "stdout",
       "text": [
        "Indexing: \"Desulfococcus_oleovorans_Hxd3\"\r\n"
       ]
      },
      {
       "output_type": "stream",
       "stream": "stdout",
       "text": [
        "Indexing: \"Bifidobacterium_breve_JCM_7019\"\r\n"
       ]
      },
      {
       "output_type": "stream",
       "stream": "stdout",
       "text": [
        "Indexing: \"Thermaerobacter_marianensis_DSM_12885\"\r\n"
       ]
      },
      {
       "output_type": "stream",
       "stream": "stdout",
       "text": [
        "Indexing: \"Gordonia_bronchialis_DSM_43247\"\r\n"
       ]
      },
      {
       "output_type": "stream",
       "stream": "stdout",
       "text": [
        "Indexing: \"Mycoplasma_leachii_PG50\"\r\n"
       ]
      },
      {
       "output_type": "stream",
       "stream": "stdout",
       "text": [
        "Indexing: \"Halobacteroides_halobius_DSM_5150\"\r\n"
       ]
      },
      {
       "output_type": "stream",
       "stream": "stdout",
       "text": [
        "Indexing: \"Pediococcus_pentosaceus_ATCC_25745\"\r\n"
       ]
      },
      {
       "output_type": "stream",
       "stream": "stdout",
       "text": [
        "Indexing: \"Listeria_welshimeri_serovar_6b_str_SLCC5334\"\r\n"
       ]
      },
      {
       "output_type": "stream",
       "stream": "stdout",
       "text": [
        "Indexing: \"Veillonella_parvula_DSM_2008\"\r\n"
       ]
      },
      {
       "output_type": "stream",
       "stream": "stdout",
       "text": [
        "Indexing: \"Streptomyces_bingchenggensis_BCW-1\"\r\n"
       ]
      },
      {
       "output_type": "stream",
       "stream": "stdout",
       "text": [
        "Indexing: \"Calditerrivibrio_nitroreducens_DSM_19672\"\r\n"
       ]
      },
      {
       "output_type": "stream",
       "stream": "stdout",
       "text": [
        "Indexing: \"Burkholderia_phenoliruptrix_BR3459a\"\r\n"
       ]
      },
      {
       "output_type": "stream",
       "stream": "stdout",
       "text": [
        "Indexing: \"Salinispora_arenicola_CNS-205\"\r\n"
       ]
      },
      {
       "output_type": "stream",
       "stream": "stdout",
       "text": [
        "Indexing: \"Dechlorosoma_suillum_PS\"\r\n"
       ]
      },
      {
       "output_type": "stream",
       "stream": "stdout",
       "text": [
        "Indexing: \"Verrucomicrobium_spinosum_DSM_4136_JCM_18804\"\r\n"
       ]
      },
      {
       "output_type": "stream",
       "stream": "stdout",
       "text": [
        "Indexing: \"Methylobacterium_extorquens_CM4\"\r\n"
       ]
      },
      {
       "output_type": "stream",
       "stream": "stdout",
       "text": [
        "Indexing: \"Synechocystis_sp_PCC_6803_substr_PCC-P\"\r\n"
       ]
      },
      {
       "output_type": "stream",
       "stream": "stdout",
       "text": [
        "Indexing: \"Ammonifex_degensii_KC4\"\r\n"
       ]
      },
      {
       "output_type": "stream",
       "stream": "stdout",
       "text": [
        "Indexing: \"Cellulomonas_fimi_ATCC_484\"\r\n"
       ]
      },
      {
       "output_type": "stream",
       "stream": "stdout",
       "text": [
        "Indexing: \"Bacillus_thuringiensis_str_Al_Hakam\"\r\n"
       ]
      },
      {
       "output_type": "stream",
       "stream": "stdout",
       "text": [
        "Indexing: \"Nocardiopsis_dassonvillei_subsp_dassonvillei_DSM_43111\"\r\n"
       ]
      },
      {
       "output_type": "stream",
       "stream": "stdout",
       "text": [
        "Indexing: \"Aequorivita_sublithincola_DSM_14238\"\r\n"
       ]
      },
      {
       "output_type": "stream",
       "stream": "stdout",
       "text": [
        "Indexing: \"Desulfomicrobium_baculatum_DSM_4028\"\r\n"
       ]
      },
      {
       "output_type": "stream",
       "stream": "stdout",
       "text": [
        "Indexing: \"Aster_yellows_witches-broom_phytoplasma_AYWB\"\r\n"
       ]
      },
      {
       "output_type": "stream",
       "stream": "stdout",
       "text": [
        "Indexing: \"Escherichia_coli_O157_H7_str_SS52\"\r\n"
       ]
      },
      {
       "output_type": "stream",
       "stream": "stdout",
       "text": [
        "Indexing: \"Pseudoalteromonas_atlantica_T6c\"\r\n"
       ]
      },
      {
       "output_type": "stream",
       "stream": "stdout",
       "text": [
        "Indexing: \"Emticicia_oligotrophica_DSM_17448\"\r\n"
       ]
      },
      {
       "output_type": "stream",
       "stream": "stdout",
       "text": [
        "Indexing: \"Rhodospirillum_photometricum_DSM_122\"\r\n"
       ]
      },
      {
       "output_type": "stream",
       "stream": "stdout",
       "text": [
        "Indexing: \"Haemophilus_influenzae_R2866\"\r\n"
       ]
      },
      {
       "output_type": "stream",
       "stream": "stdout",
       "text": [
        "Indexing: \"Rickettsia_bellii_RML369-C\"\r\n"
       ]
      },
      {
       "output_type": "stream",
       "stream": "stdout",
       "text": [
        "Indexing: \"Blattabacterium_sp_Blatta_orientalis_str_Tarazona\"\r\n"
       ]
      },
      {
       "output_type": "stream",
       "stream": "stdout",
       "text": [
        "Indexing: \"Saccharomonospora_viridis_DSM_43017\"\r\n"
       ]
      },
      {
       "output_type": "stream",
       "stream": "stdout",
       "text": [
        "Indexing: \"Candidatus_Pelagibacter_ubique_HTCC1062\"\r\n"
       ]
      },
      {
       "output_type": "stream",
       "stream": "stdout",
       "text": [
        "Indexing: \"Renibacterium_salmoninarum_ATCC_33209\"\r\n"
       ]
      },
      {
       "output_type": "stream",
       "stream": "stdout",
       "text": [
        "Indexing: \"Acidaminococcus_intestini_RyC-MR95\"\r\n"
       ]
      },
      {
       "output_type": "stream",
       "stream": "stdout",
       "text": [
        "Indexing: \"Corynebacterium_aurimucosum_ATCC_700975\"\r\n"
       ]
      },
      {
       "output_type": "stream",
       "stream": "stdout",
       "text": [
        "Indexing: \"Vibrio_fischeri_ES114\"\r\n"
       ]
      },
      {
       "output_type": "stream",
       "stream": "stdout",
       "text": [
        "Indexing: \"Mycobacterium_leprae_Br4923\"\r\n"
       ]
      },
      {
       "output_type": "stream",
       "stream": "stdout",
       "text": [
        "Indexing: \"Sphingopyxis_alaskensis_RB2256\"\r\n"
       ]
      },
      {
       "output_type": "stream",
       "stream": "stdout",
       "text": [
        "Indexing: \"Paracoccus_aminophilus_JCM_7686\"\r\n"
       ]
      },
      {
       "output_type": "stream",
       "stream": "stdout",
       "text": [
        "Indexing: \"Thermodesulfobacterium_commune_DSM_2178\"\r\n"
       ]
      },
      {
       "output_type": "stream",
       "stream": "stdout",
       "text": [
        "Indexing: \"Trueperella_pyogenes_TP8\"\r\n"
       ]
      },
      {
       "output_type": "stream",
       "stream": "stdout",
       "text": [
        "Indexing: \"Syntrophobacter_fumaroxidans_MPOB\"\r\n"
       ]
      },
      {
       "output_type": "stream",
       "stream": "stdout",
       "text": [
        "Indexing: \"Pseudomonas_fluorescens_Pf0-1\"\r\n"
       ]
      },
      {
       "output_type": "stream",
       "stream": "stdout",
       "text": [
        "Indexing: \"Gardnerella_vaginalis_HMP9231\"\r\n"
       ]
      },
      {
       "output_type": "stream",
       "stream": "stdout",
       "text": [
        "Indexing: \"Pseudomonas_balearica_DSM_6083\"\r\n"
       ]
      },
      {
       "output_type": "stream",
       "stream": "stdout",
       "text": [
        "Indexing: \"Streptococcus_intermedius_C270\"\r\n"
       ]
      },
      {
       "output_type": "stream",
       "stream": "stdout",
       "text": [
        "Indexing: \"Caldicellulosiruptor_lactoaceticus_6A\"\r\n"
       ]
      },
      {
       "output_type": "stream",
       "stream": "stdout",
       "text": [
        "Indexing: \"Stenotrophomonas_maltophilia_JV3\"\r\n"
       ]
      },
      {
       "output_type": "stream",
       "stream": "stdout",
       "text": [
        "Indexing: \"Syntrophobotulus_glycolicus_DSM_8271\"\r\n"
       ]
      },
      {
       "output_type": "stream",
       "stream": "stdout",
       "text": [
        "Indexing: \"Neisseria_meningitidis_M01-240355\"\r\n"
       ]
      },
      {
       "output_type": "stream",
       "stream": "stdout",
       "text": [
        "Indexing: \"Polynucleobacter_necessarius_subsp_necessarius_STIR1\"\r\n"
       ]
      },
      {
       "output_type": "stream",
       "stream": "stdout",
       "text": [
        "Indexing: \"Gallibacterium_anatis_UMN179\"\r\n"
       ]
      },
      {
       "output_type": "stream",
       "stream": "stdout",
       "text": [
        "Indexing: \"Mycoplasma_wenyonii_str_Massachusetts\"\r\n"
       ]
      },
      {
       "output_type": "stream",
       "stream": "stdout",
       "text": [
        "Indexing: \"Thermodesulfobacterium_geofontis_OPF15\"\r\n"
       ]
      },
      {
       "output_type": "stream",
       "stream": "stdout",
       "text": [
        "Indexing: \"Exiguobacterium_antarcticum_B7\"\r\n"
       ]
      },
      {
       "output_type": "stream",
       "stream": "stdout",
       "text": [
        "Indexing: \"Ruminiclostridium_thermocellum_DSM_1313\"\r\n"
       ]
      },
      {
       "output_type": "stream",
       "stream": "stdout",
       "text": [
        "Indexing: \"Peptoclostridium_difficile_CD196\"\r\n"
       ]
      },
      {
       "output_type": "stream",
       "stream": "stdout",
       "text": [
        "Indexing: \"Pasteurella_multocida_subsp_multocida_str_3480\"\r\n"
       ]
      },
      {
       "output_type": "stream",
       "stream": "stdout",
       "text": [
        "Indexing: \"Starkeya_novella_DSM_506\"\r\n"
       ]
      },
      {
       "output_type": "stream",
       "stream": "stdout",
       "text": [
        "Indexing: \"Staphylococcus_warneri_SG1\"\r\n"
       ]
      },
      {
       "output_type": "stream",
       "stream": "stdout",
       "text": [
        "Indexing: \"Mycobacterium_smegmatis_JS623\"\r\n"
       ]
      },
      {
       "output_type": "stream",
       "stream": "stdout",
       "text": [
        "Indexing: \"Chlamydia_trachomatis_RC-J_s_122\"\r\n"
       ]
      },
      {
       "output_type": "stream",
       "stream": "stdout",
       "text": [
        "Indexing: \"Chlorobium_limicola_DSM_245\"\r\n"
       ]
      },
      {
       "output_type": "stream",
       "stream": "stdout",
       "text": [
        "Indexing: \"Bacillus_pumilus_SAFR-032\"\r\n"
       ]
      },
      {
       "output_type": "stream",
       "stream": "stdout",
       "text": [
        "Indexing: \"Spiroplasma_chrysopicola_DF-1\"\r\n"
       ]
      },
      {
       "output_type": "stream",
       "stream": "stdout",
       "text": [
        "Indexing: \"Candidatus_Kinetoplastibacterium_blastocrithidii_TCC012E\"\r\n"
       ]
      },
      {
       "output_type": "stream",
       "stream": "stdout",
       "text": [
        "Indexing: \"_Eubacterium_eligens_ATCC_27750\"\r\n"
       ]
      },
      {
       "output_type": "stream",
       "stream": "stdout",
       "text": [
        "Indexing: \"Novosphingobium_aromaticivorans_DSM_12444\"\r\n"
       ]
      },
      {
       "output_type": "stream",
       "stream": "stdout",
       "text": [
        "Indexing: \"Desulfatibacillum_alkenivorans_AK-01\"\r\n"
       ]
      },
      {
       "output_type": "stream",
       "stream": "stdout",
       "text": [
        "Indexing: \"Sulfurospirillum_multivorans_DSM_12446\"\r\n"
       ]
      },
      {
       "output_type": "stream",
       "stream": "stdout",
       "text": [
        "Indexing: \"Candidatus_Kinetoplastibacterium_desouzaii_TCC079E\"\r\n"
       ]
      },
      {
       "output_type": "stream",
       "stream": "stdout",
       "text": [
        "Indexing: \"Carnobacterium_maltaromaticum_LMA28\"\r\n"
       ]
      },
      {
       "output_type": "stream",
       "stream": "stdout",
       "text": [
        "Indexing: \"Corynebacterium_falsenii_DSM_44353\"\r\n"
       ]
      },
      {
       "output_type": "stream",
       "stream": "stdout",
       "text": [
        "Indexing: \"Methylobacterium_nodulans_ORS_2060\"\r\n"
       ]
      },
      {
       "output_type": "stream",
       "stream": "stdout",
       "text": [
        "Indexing: \"Psychromonas_ingrahamii_37\"\r\n"
       ]
      },
      {
       "output_type": "stream",
       "stream": "stdout",
       "text": [
        "Indexing: \"Hahella_chejuensis_KCTC_2396\"\r\n"
       ]
      },
      {
       "output_type": "stream",
       "stream": "stdout",
       "text": [
        "Indexing: \"Flavobacterium_johnsoniae_UW101\"\r\n"
       ]
      },
      {
       "output_type": "stream",
       "stream": "stdout",
       "text": [
        "Indexing: \"Clostridium_kluyveri_NBRC_12016\"\r\n"
       ]
      },
      {
       "output_type": "stream",
       "stream": "stdout",
       "text": [
        "Indexing: \"Parabacteroides_distasonis_ATCC_8503\"\r\n"
       ]
      },
      {
       "output_type": "stream",
       "stream": "stdout",
       "text": [
        "Indexing: \"Prosthecochloris_aestuarii_DSM_271\"\r\n"
       ]
      },
      {
       "output_type": "stream",
       "stream": "stdout",
       "text": [
        "Indexing: \"Aeromonas_hydrophila_J-1\"\r\n"
       ]
      },
      {
       "output_type": "stream",
       "stream": "stdout",
       "text": [
        "Indexing: \"Rhodospirillum_rubrum_F11\"\r\n"
       ]
      },
      {
       "output_type": "stream",
       "stream": "stdout",
       "text": [
        "Indexing: \"Selenomonas_sputigena_ATCC_35185\"\r\n"
       ]
      },
      {
       "output_type": "stream",
       "stream": "stdout",
       "text": [
        "Indexing: \"Listeria_monocytogenes_L99\"\r\n"
       ]
      },
      {
       "output_type": "stream",
       "stream": "stdout",
       "text": [
        "Indexing: \"Oscillatoria_nigro-viridis_PCC_7112\"\r\n"
       ]
      },
      {
       "output_type": "stream",
       "stream": "stdout",
       "text": [
        "Indexing: \"Spiroplasma_taiwanense_CT-1\"\r\n"
       ]
      },
      {
       "output_type": "stream",
       "stream": "stdout",
       "text": [
        "Indexing: \"Mycobacterium_intracellulare_MOTT-02\"\r\n"
       ]
      },
      {
       "output_type": "stream",
       "stream": "stdout",
       "text": [
        "Indexing: \"Treponema_pallidum_subsp_pallidum_str_Sea_81-4\"\r\n"
       ]
      },
      {
       "output_type": "stream",
       "stream": "stdout",
       "text": [
        "Indexing: \"Pseudomonas_mendocina_NK-01\"\r\n"
       ]
      },
      {
       "output_type": "stream",
       "stream": "stdout",
       "text": [
        "Indexing: \"Thermus_oshimai_JL-2\"\r\n"
       ]
      },
      {
       "output_type": "stream",
       "stream": "stdout",
       "text": [
        "Indexing: \"Helicobacter_hepaticus_ATCC_51449\"\r\n"
       ]
      },
      {
       "output_type": "stream",
       "stream": "stdout",
       "text": [
        "Indexing: \"Xanthomonas_campestris_pv_campestris_str_ATCC_33913\"\r\n"
       ]
      },
      {
       "output_type": "stream",
       "stream": "stdout",
       "text": [
        "Indexing: \"Petrotoga_mobilis_SJ95\"\r\n"
       ]
      },
      {
       "output_type": "stream",
       "stream": "stdout",
       "text": [
        "Indexing: \"Chlamydia_psittaci_02DC15\"\r\n"
       ]
      },
      {
       "output_type": "stream",
       "stream": "stdout",
       "text": [
        "Indexing: \"Ralstonia_solanacearum_PSI07\"\r\n"
       ]
      },
      {
       "output_type": "stream",
       "stream": "stdout",
       "text": [
        "Indexing: \"Actinosynnema_mirum_DSM_43827\"\r\n"
       ]
      },
      {
       "output_type": "stream",
       "stream": "stdout",
       "text": [
        "Indexing: \"Aggregatibacter_actinomycetemcomitans_ANH9381\"\r\n"
       ]
      },
      {
       "output_type": "stream",
       "stream": "stdout",
       "text": [
        "Indexing: \"Pseudomonas_knackmussii_B13\"\r\n"
       ]
      },
      {
       "output_type": "stream",
       "stream": "stdout",
       "text": [
        "Indexing: \"Laribacter_hongkongensis_HLHK9\"\r\n"
       ]
      },
      {
       "output_type": "stream",
       "stream": "stdout",
       "text": [
        "Indexing: \"Acidobacterium_capsulatum_ATCC_51196\"\r\n"
       ]
      },
      {
       "output_type": "stream",
       "stream": "stdout",
       "text": [
        "Indexing: \"Bacteriovorax_marinus_SJ\"\r\n"
       ]
      },
      {
       "output_type": "stream",
       "stream": "stdout",
       "text": [
        "Indexing: \"Brachyspira_intermedia_PWS_A\"\r\n"
       ]
      },
      {
       "output_type": "stream",
       "stream": "stdout",
       "text": [
        "Indexing: \"Clostridium_acetobutylicum_DSM_1731\"\r\n"
       ]
      },
      {
       "output_type": "stream",
       "stream": "stdout",
       "text": [
        "Indexing: \"Bdellovibrio_exovorus_JSS\"\r\n"
       ]
      },
      {
       "output_type": "stream",
       "stream": "stdout",
       "text": [
        "Indexing: \"Leptospira_interrogans_serovar_Lai_str_56601\"\r\n"
       ]
      },
      {
       "output_type": "stream",
       "stream": "stdout",
       "text": [
        "Indexing: \"Pseudomonas_syringae_pv_syringae_B728a\"\r\n"
       ]
      },
      {
       "output_type": "stream",
       "stream": "stdout",
       "text": [
        "Indexing: \"Marinitoga_piezophila_KA3\"\r\n"
       ]
      },
      {
       "output_type": "stream",
       "stream": "stdout",
       "text": [
        "Indexing: \"Candidatus_Sodalis_pierantonius_str_SOPE\"\r\n"
       ]
      },
      {
       "output_type": "stream",
       "stream": "stdout",
       "text": [
        "Indexing: \"Clostridium_baratii_str_Sullivan\"\r\n"
       ]
      },
      {
       "output_type": "stream",
       "stream": "stdout",
       "text": [
        "Indexing: \"Desulfobacterium_autotrophicum_HRM2\"\r\n"
       ]
      },
      {
       "output_type": "stream",
       "stream": "stdout",
       "text": [
        "Indexing: \"Shigella_dysenteriae_Sd197\"\r\n"
       ]
      },
      {
       "output_type": "stream",
       "stream": "stdout",
       "text": [
        "Indexing: \"Staphylococcus_carnosus_subsp_carnosus_TM300\"\r\n"
       ]
      },
      {
       "output_type": "stream",
       "stream": "stdout",
       "text": [
        "Indexing: \"Ureaplasma_parvum_serovar_3_str_ATCC_700970\"\r\n"
       ]
      },
      {
       "output_type": "stream",
       "stream": "stdout",
       "text": [
        "Indexing: \"Parvibaculum_lavamentivorans_DS-1\"\r\n"
       ]
      },
      {
       "output_type": "stream",
       "stream": "stdout",
       "text": [
        "Indexing: \"Wolbachia_endosymbiont_strain_TRS_of_Brugia_malayi\"\r\n"
       ]
      }
     ],
     "prompt_number": 162
    },
    {
     "cell_type": "markdown",
     "metadata": {},
     "source": [
      "# Simulating amplicon fragments & calculating GC"
     ]
    },
    {
     "cell_type": "markdown",
     "metadata": {},
     "source": [
      "## Determining how many reads to simulate\n",
      "\n",
      "* Going to simulate >=1X coverage for each genome (1X for largest genome)"
     ]
    },
    {
     "cell_type": "code",
     "collapsed": false,
     "input": [
      "# determining the largest genome\n",
      "!cd $workDir; \\\n",
      "    find genomes/ -name \"*fasta\" | \\\n",
      "    xargs -I % bash -c \"printf '%    '; NY_misc_perl contig_lengths %\" \\\n",
      "    > genomes/genome_lengths.txt"
     ],
     "language": "python",
     "metadata": {},
     "outputs": []
    },
    {
     "cell_type": "code",
     "collapsed": false,
     "input": [
      "# reading in list; combining lengths if multiple contigs\n",
      "inFile = \"genome_lengths.txt\"\n",
      "filePath = os.path.join(workDir, 'genomes', inFile)\n",
      "\n",
      "tbl = []\n",
      "with open(filePath, 'r') as inF:\n",
      "    lastTaxon = []\n",
      "    for line in inF.readlines():\n",
      "        line = line.rstrip().split('    ')\n",
      "        if len(line) == 2:\n",
      "            if len(lastTaxon) > 0:\n",
      "                tbl.append(lastTaxon)\n",
      "            lastTaxon = line\n",
      "        elif len(line) == 1:\n",
      "            lastTaxon[1] += line[0]\n",
      "        else:\n",
      "            raise IOError, \"Each line must have 1 or 2 columns!\"\n",
      "    else:\n",
      "        tbl.append(lastTaxon)"
     ],
     "language": "python",
     "metadata": {},
     "outputs": []
    },
    {
     "cell_type": "code",
     "collapsed": false,
     "input": [
      "df = pd.DataFrame(tbl)\n",
      "df.columns = ['taxon', 'genome_length']\n",
      "df['genome_length'] = df['genome_length']\n",
      "df"
     ],
     "language": "python",
     "metadata": {},
     "outputs": [
      {
       "html": [
        "<div style=\"max-height:1000px;max-width:1500px;overflow:auto;\">\n",
        "<table border=\"1\" class=\"dataframe\">\n",
        "  <thead>\n",
        "    <tr style=\"text-align: right;\">\n",
        "      <th></th>\n",
        "      <th>taxon</th>\n",
        "      <th>genome_length</th>\n",
        "    </tr>\n",
        "  </thead>\n",
        "  <tbody>\n",
        "    <tr>\n",
        "      <th>0  </th>\n",
        "      <td>       genomes/Kangiella_koreensis_DSM_16069.fasta</td>\n",
        "      <td>              2852073</td>\n",
        "    </tr>\n",
        "    <tr>\n",
        "      <th>1  </th>\n",
        "      <td>      genomes/Polymorphum_gilvum_SL003B-26A1.fasta</td>\n",
        "      <td>              4649365</td>\n",
        "    </tr>\n",
        "    <tr>\n",
        "      <th>2  </th>\n",
        "      <td>       genomes/_Cellvibrio_gilvus_ATCC_13127.fasta</td>\n",
        "      <td>              3526441</td>\n",
        "    </tr>\n",
        "    <tr>\n",
        "      <th>3  </th>\n",
        "      <td>    genomes/Croceibacter_atlanticus_HTCC2559.fasta</td>\n",
        "      <td>              2952962</td>\n",
        "    </tr>\n",
        "    <tr>\n",
        "      <th>4  </th>\n",
        "      <td>    genomes/Sulfuricurvum_kujiense_DSM_16994.fasta</td>\n",
        "      <td>              2574824</td>\n",
        "    </tr>\n",
        "    <tr>\n",
        "      <th>5  </th>\n",
        "      <td>      genomes/Eubacterium_rectale_ATCC_33656.fasta</td>\n",
        "      <td>              3449685</td>\n",
        "    </tr>\n",
        "    <tr>\n",
        "      <th>6  </th>\n",
        "      <td>                 genomes/Nocardia_nova_SH22a.fasta</td>\n",
        "      <td>              8348532</td>\n",
        "    </tr>\n",
        "    <tr>\n",
        "      <th>7  </th>\n",
        "      <td>     genomes/Gordonia_polyisoprenivorans_VH2.fasta</td>\n",
        "      <td>              5669805</td>\n",
        "    </tr>\n",
        "    <tr>\n",
        "      <th>8  </th>\n",
        "      <td> genomes/Aeromonas_salmonicida_subsp_salmonicid...</td>\n",
        "      <td>              4702402</td>\n",
        "    </tr>\n",
        "    <tr>\n",
        "      <th>9  </th>\n",
        "      <td> genomes/Thermodesulfobium_narugense_DSM_14796....</td>\n",
        "      <td>              1898865</td>\n",
        "    </tr>\n",
        "    <tr>\n",
        "      <th>10 </th>\n",
        "      <td>    genomes/Brevibacillus_brevis_NBRC_100599.fasta</td>\n",
        "      <td>              6296436</td>\n",
        "    </tr>\n",
        "    <tr>\n",
        "      <th>11 </th>\n",
        "      <td>        genomes/Chthonomonas_calidirosea_T49.fasta</td>\n",
        "      <td>              6854712</td>\n",
        "    </tr>\n",
        "    <tr>\n",
        "      <th>12 </th>\n",
        "      <td>        genomes/Spiroplasma_culicicola_AES-1.fasta</td>\n",
        "      <td>              1175131</td>\n",
        "    </tr>\n",
        "    <tr>\n",
        "      <th>13 </th>\n",
        "      <td>         genomes/Isoptericola_variabilis_225.fasta</td>\n",
        "      <td>              3307740</td>\n",
        "    </tr>\n",
        "    <tr>\n",
        "      <th>14 </th>\n",
        "      <td> genomes/Oscillibacter_valericigenes_Sjm18-20.f...</td>\n",
        "      <td>              4410036</td>\n",
        "    </tr>\n",
        "    <tr>\n",
        "      <th>15 </th>\n",
        "      <td> genomes/Ornithobacterium_rhinotracheale_DSM_15...</td>\n",
        "      <td>              4798350</td>\n",
        "    </tr>\n",
        "    <tr>\n",
        "      <th>16 </th>\n",
        "      <td>  genomes/Desulfocapsa_sulfexigens_DSM_10523.fasta</td>\n",
        "      <td>              3986761</td>\n",
        "    </tr>\n",
        "    <tr>\n",
        "      <th>17 </th>\n",
        "      <td>       genomes/Planktomarina_temperata_RCA23.fasta</td>\n",
        "      <td>              3288122</td>\n",
        "    </tr>\n",
        "    <tr>\n",
        "      <th>18 </th>\n",
        "      <td> genomes/Marinithermus_hydrothermalis_DSM_14884...</td>\n",
        "      <td>              2269167</td>\n",
        "    </tr>\n",
        "    <tr>\n",
        "      <th>19 </th>\n",
        "      <td>  genomes/Desulfosporosinus_orientis_DSM_765.fasta</td>\n",
        "      <td>              5863081</td>\n",
        "    </tr>\n",
        "    <tr>\n",
        "      <th>20 </th>\n",
        "      <td>    genomes/Halobacillus_halophilus_DSM_2266.fasta</td>\n",
        "      <td>              4150632</td>\n",
        "    </tr>\n",
        "    <tr>\n",
        "      <th>21 </th>\n",
        "      <td>         genomes/Cronobacter_sakazakii_SP291.fasta</td>\n",
        "      <td>              4344092</td>\n",
        "    </tr>\n",
        "    <tr>\n",
        "      <th>22 </th>\n",
        "      <td> genomes/Gluconacetobacter_diazotrophicus_PAl_5...</td>\n",
        "      <td>              7774984</td>\n",
        "    </tr>\n",
        "    <tr>\n",
        "      <th>23 </th>\n",
        "      <td> genomes/Chromohalobacter_salexigens_DSM_3043.f...</td>\n",
        "      <td>              3696649</td>\n",
        "    </tr>\n",
        "    <tr>\n",
        "      <th>24 </th>\n",
        "      <td> genomes/Sulfurimonas_denitrificans_DSM_1251.fasta</td>\n",
        "      <td>              2201561</td>\n",
        "    </tr>\n",
        "    <tr>\n",
        "      <th>25 </th>\n",
        "      <td>              genomes/Bacillus_subtilis_PY79.fasta</td>\n",
        "      <td>              8066918</td>\n",
        "    </tr>\n",
        "    <tr>\n",
        "      <th>26 </th>\n",
        "      <td> genomes/Desulfotomaculum_carboxydivorans_CO-1-...</td>\n",
        "      <td>              2892255</td>\n",
        "    </tr>\n",
        "    <tr>\n",
        "      <th>27 </th>\n",
        "      <td> genomes/Candidatus_Portiera_aleyrodidarum_BT-Q...</td>\n",
        "      <td>               350928</td>\n",
        "    </tr>\n",
        "    <tr>\n",
        "      <th>28 </th>\n",
        "      <td>        genomes/Edwardsiella_ictaluri_93-146.fasta</td>\n",
        "      <td>              3812301</td>\n",
        "    </tr>\n",
        "    <tr>\n",
        "      <th>29 </th>\n",
        "      <td>         genomes/Acidovorax_citrulli_AAC00-1.fasta</td>\n",
        "      <td>              5352772</td>\n",
        "    </tr>\n",
        "    <tr>\n",
        "      <th>...</th>\n",
        "      <td>...</td>\n",
        "      <td>...</td>\n",
        "    </tr>\n",
        "    <tr>\n",
        "      <th>235</th>\n",
        "      <td>      genomes/Microlunatus_phosphovorus_NM-1.fasta</td>\n",
        "      <td>              5683123</td>\n",
        "    </tr>\n",
        "    <tr>\n",
        "      <th>236</th>\n",
        "      <td>       genomes/Rhodothermus_marinus_DSM_4252.fasta</td>\n",
        "      <td>              3261604</td>\n",
        "    </tr>\n",
        "    <tr>\n",
        "      <th>237</th>\n",
        "      <td>        genomes/Komagataeibacter_xylinus_E25.fasta</td>\n",
        "      <td>              3447725</td>\n",
        "    </tr>\n",
        "    <tr>\n",
        "      <th>238</th>\n",
        "      <td> genomes/Streptococcus_gordonii_str_Challis_sub...</td>\n",
        "      <td>              2196662</td>\n",
        "    </tr>\n",
        "    <tr>\n",
        "      <th>239</th>\n",
        "      <td>      genomes/Phenylobacterium_zucineum_HLK1.fasta</td>\n",
        "      <td>              3996255</td>\n",
        "    </tr>\n",
        "    <tr>\n",
        "      <th>240</th>\n",
        "      <td>     genomes/Sanguibacter_keddieii_DSM_10542.fasta</td>\n",
        "      <td>              4253413</td>\n",
        "    </tr>\n",
        "    <tr>\n",
        "      <th>241</th>\n",
        "      <td>    genomes/Riemerella_anatipestifer_RA-CH-1.fasta</td>\n",
        "      <td>              2309519</td>\n",
        "    </tr>\n",
        "    <tr>\n",
        "      <th>242</th>\n",
        "      <td>  genomes/Caldicellulosiruptor_owensensis_OL.fasta</td>\n",
        "      <td>              2428903</td>\n",
        "    </tr>\n",
        "    <tr>\n",
        "      <th>243</th>\n",
        "      <td>      genomes/Lactobacillus_helveticus_R0052.fasta</td>\n",
        "      <td>              4258406</td>\n",
        "    </tr>\n",
        "    <tr>\n",
        "      <th>244</th>\n",
        "      <td> genomes/Corynebacterium_pseudotuberculosis_42_...</td>\n",
        "      <td>              4675212</td>\n",
        "    </tr>\n",
        "    <tr>\n",
        "      <th>245</th>\n",
        "      <td> genomes/Xanthomonas_axonopodis_pv_citrumelo_F1...</td>\n",
        "      <td>              4967469</td>\n",
        "    </tr>\n",
        "    <tr>\n",
        "      <th>246</th>\n",
        "      <td>             genomes/Bacillus_coagulans_36D1.fasta</td>\n",
        "      <td>              3552226</td>\n",
        "    </tr>\n",
        "    <tr>\n",
        "      <th>247</th>\n",
        "      <td>   genomes/Verminephrobacter_eiseniae_EF01-2.fasta</td>\n",
        "      <td>              5566749</td>\n",
        "    </tr>\n",
        "    <tr>\n",
        "      <th>248</th>\n",
        "      <td>  genomes/Roseiflexus_castenholzii_DSM_13941.fasta</td>\n",
        "      <td>              5723298</td>\n",
        "    </tr>\n",
        "    <tr>\n",
        "      <th>249</th>\n",
        "      <td>           genomes/Ralstonia_eutropha_JMP134.fasta</td>\n",
        "      <td>       38065332726152</td>\n",
        "    </tr>\n",
        "    <tr>\n",
        "      <th>250</th>\n",
        "      <td>       genomes/Legionella_longbeachae_NSW150.fasta</td>\n",
        "      <td>              4077332</td>\n",
        "    </tr>\n",
        "    <tr>\n",
        "      <th>251</th>\n",
        "      <td> genomes/Mycobacterium_abscessus_subsp_bolletii...</td>\n",
        "      <td>              5051394</td>\n",
        "    </tr>\n",
        "    <tr>\n",
        "      <th>252</th>\n",
        "      <td>         genomes/Sinorhizobium_meliloti_Rm41.fasta</td>\n",
        "      <td>              3679105</td>\n",
        "    </tr>\n",
        "    <tr>\n",
        "      <th>253</th>\n",
        "      <td>        genomes/Halorhodospira_halophila_SL1.fasta</td>\n",
        "      <td>              2678452</td>\n",
        "    </tr>\n",
        "    <tr>\n",
        "      <th>254</th>\n",
        "      <td>          genomes/Pseudomonas_poae_RE*1-1-14.fasta</td>\n",
        "      <td>              5512241</td>\n",
        "    </tr>\n",
        "    <tr>\n",
        "      <th>255</th>\n",
        "      <td> genomes/Saccharothrix_espanaensis_DSM_44229.fasta</td>\n",
        "      <td>              9360653</td>\n",
        "    </tr>\n",
        "    <tr>\n",
        "      <th>256</th>\n",
        "      <td> genomes/Candidatus_Arthromitus_sp_SFB-mouse-Yi...</td>\n",
        "      <td>              1586397</td>\n",
        "    </tr>\n",
        "    <tr>\n",
        "      <th>257</th>\n",
        "      <td>     genomes/Spiroplasma_sabaudiense_Ar-1343.fasta</td>\n",
        "      <td>              1075953</td>\n",
        "    </tr>\n",
        "    <tr>\n",
        "      <th>258</th>\n",
        "      <td>         genomes/Paenibacillus_polymyxa_E681.fasta</td>\n",
        "      <td>             10789768</td>\n",
        "    </tr>\n",
        "    <tr>\n",
        "      <th>259</th>\n",
        "      <td>    genomes/Bartonella_tribocorum_CIP_105476.fasta</td>\n",
        "      <td>              2619061</td>\n",
        "    </tr>\n",
        "    <tr>\n",
        "      <th>260</th>\n",
        "      <td>            genomes/Gramella_forsetii_KT0803.fasta</td>\n",
        "      <td>              3798465</td>\n",
        "    </tr>\n",
        "    <tr>\n",
        "      <th>261</th>\n",
        "      <td>      genomes/Burkholderia_cenocepacia_J2315.fasta</td>\n",
        "      <td> 87597738700823217062</td>\n",
        "    </tr>\n",
        "    <tr>\n",
        "      <th>262</th>\n",
        "      <td>            genomes/Ehrlichia_canis_str_Jake.fasta</td>\n",
        "      <td>              1315030</td>\n",
        "    </tr>\n",
        "    <tr>\n",
        "      <th>263</th>\n",
        "      <td>               genomes/Thermobifida_fusca_YX.fasta</td>\n",
        "      <td>              3642249</td>\n",
        "    </tr>\n",
        "    <tr>\n",
        "      <th>264</th>\n",
        "      <td> genomes/Streptococcus_pasteurianus_ATCC_43144....</td>\n",
        "      <td>              2100077</td>\n",
        "    </tr>\n",
        "  </tbody>\n",
        "</table>\n",
        "<p>265 rows \u00d7 2 columns</p>\n",
        "</div>"
       ],
       "metadata": {},
       "output_type": "pyout",
       "prompt_number": 132,
       "text": [
        "                                                 taxon         genome_length\n",
        "0          genomes/Kangiella_koreensis_DSM_16069.fasta               2852073\n",
        "1         genomes/Polymorphum_gilvum_SL003B-26A1.fasta               4649365\n",
        "2          genomes/_Cellvibrio_gilvus_ATCC_13127.fasta               3526441\n",
        "3       genomes/Croceibacter_atlanticus_HTCC2559.fasta               2952962\n",
        "4       genomes/Sulfuricurvum_kujiense_DSM_16994.fasta               2574824\n",
        "5         genomes/Eubacterium_rectale_ATCC_33656.fasta               3449685\n",
        "6                    genomes/Nocardia_nova_SH22a.fasta               8348532\n",
        "7        genomes/Gordonia_polyisoprenivorans_VH2.fasta               5669805\n",
        "8    genomes/Aeromonas_salmonicida_subsp_salmonicid...               4702402\n",
        "9    genomes/Thermodesulfobium_narugense_DSM_14796....               1898865\n",
        "10      genomes/Brevibacillus_brevis_NBRC_100599.fasta               6296436\n",
        "11          genomes/Chthonomonas_calidirosea_T49.fasta               6854712\n",
        "12          genomes/Spiroplasma_culicicola_AES-1.fasta               1175131\n",
        "13           genomes/Isoptericola_variabilis_225.fasta               3307740\n",
        "14   genomes/Oscillibacter_valericigenes_Sjm18-20.f...               4410036\n",
        "15   genomes/Ornithobacterium_rhinotracheale_DSM_15...               4798350\n",
        "16    genomes/Desulfocapsa_sulfexigens_DSM_10523.fasta               3986761\n",
        "17         genomes/Planktomarina_temperata_RCA23.fasta               3288122\n",
        "18   genomes/Marinithermus_hydrothermalis_DSM_14884...               2269167\n",
        "19    genomes/Desulfosporosinus_orientis_DSM_765.fasta               5863081\n",
        "20      genomes/Halobacillus_halophilus_DSM_2266.fasta               4150632\n",
        "21           genomes/Cronobacter_sakazakii_SP291.fasta               4344092\n",
        "22   genomes/Gluconacetobacter_diazotrophicus_PAl_5...               7774984\n",
        "23   genomes/Chromohalobacter_salexigens_DSM_3043.f...               3696649\n",
        "24   genomes/Sulfurimonas_denitrificans_DSM_1251.fasta               2201561\n",
        "25                genomes/Bacillus_subtilis_PY79.fasta               8066918\n",
        "26   genomes/Desulfotomaculum_carboxydivorans_CO-1-...               2892255\n",
        "27   genomes/Candidatus_Portiera_aleyrodidarum_BT-Q...                350928\n",
        "28          genomes/Edwardsiella_ictaluri_93-146.fasta               3812301\n",
        "29           genomes/Acidovorax_citrulli_AAC00-1.fasta               5352772\n",
        "..                                                 ...                   ...\n",
        "235       genomes/Microlunatus_phosphovorus_NM-1.fasta               5683123\n",
        "236        genomes/Rhodothermus_marinus_DSM_4252.fasta               3261604\n",
        "237         genomes/Komagataeibacter_xylinus_E25.fasta               3447725\n",
        "238  genomes/Streptococcus_gordonii_str_Challis_sub...               2196662\n",
        "239       genomes/Phenylobacterium_zucineum_HLK1.fasta               3996255\n",
        "240      genomes/Sanguibacter_keddieii_DSM_10542.fasta               4253413\n",
        "241     genomes/Riemerella_anatipestifer_RA-CH-1.fasta               2309519\n",
        "242   genomes/Caldicellulosiruptor_owensensis_OL.fasta               2428903\n",
        "243       genomes/Lactobacillus_helveticus_R0052.fasta               4258406\n",
        "244  genomes/Corynebacterium_pseudotuberculosis_42_...               4675212\n",
        "245  genomes/Xanthomonas_axonopodis_pv_citrumelo_F1...               4967469\n",
        "246              genomes/Bacillus_coagulans_36D1.fasta               3552226\n",
        "247    genomes/Verminephrobacter_eiseniae_EF01-2.fasta               5566749\n",
        "248   genomes/Roseiflexus_castenholzii_DSM_13941.fasta               5723298\n",
        "249            genomes/Ralstonia_eutropha_JMP134.fasta        38065332726152\n",
        "250        genomes/Legionella_longbeachae_NSW150.fasta               4077332\n",
        "251  genomes/Mycobacterium_abscessus_subsp_bolletii...               5051394\n",
        "252          genomes/Sinorhizobium_meliloti_Rm41.fasta               3679105\n",
        "253         genomes/Halorhodospira_halophila_SL1.fasta               2678452\n",
        "254           genomes/Pseudomonas_poae_RE*1-1-14.fasta               5512241\n",
        "255  genomes/Saccharothrix_espanaensis_DSM_44229.fasta               9360653\n",
        "256  genomes/Candidatus_Arthromitus_sp_SFB-mouse-Yi...               1586397\n",
        "257      genomes/Spiroplasma_sabaudiense_Ar-1343.fasta               1075953\n",
        "258          genomes/Paenibacillus_polymyxa_E681.fasta              10789768\n",
        "259     genomes/Bartonella_tribocorum_CIP_105476.fasta               2619061\n",
        "260             genomes/Gramella_forsetii_KT0803.fasta               3798465\n",
        "261       genomes/Burkholderia_cenocepacia_J2315.fasta  87597738700823217062\n",
        "262             genomes/Ehrlichia_canis_str_Jake.fasta               1315030\n",
        "263                genomes/Thermobifida_fusca_YX.fasta               3642249\n",
        "264  genomes/Streptococcus_pasteurianus_ATCC_43144....               2100077\n",
        "\n",
        "[265 rows x 2 columns]"
       ]
      }
     ],
     "prompt_number": 132
    },
    {
     "cell_type": "markdown",
     "metadata": {},
     "source": [
      "## Simulating genome fragments\n",
      "\n",
      "* simulating enough fragments for 50X coverage of each genome\n",
      "* using 'ideal' fragment length distribution\n",
      "  * skewed normal distribution; no fragments < 4kb"
     ]
    },
    {
     "cell_type": "code",
     "collapsed": false,
     "input": [
      "!cd $workDir; \\\n",
      "     $SIPSimExe fragGC genomes/genomes_all_list.txt \\\n",
      "    --fp ./genomes/ \\\n",
      "    --fr 515Fm-927Rm.fna \\\n",
      "    --\n",
      "    --nf 50X \\\n",
      "    > genomeAll_ampFragGC_50X.txt"
     ],
     "language": "python",
     "metadata": {},
     "outputs": [
      {
       "output_type": "stream",
       "stream": "stdout",
       "text": [
        "Processing: \"Kangiella_koreensis_DSM_16069\"\r\n"
       ]
      },
      {
       "output_type": "stream",
       "stream": "stdout",
       "text": [
        "^CTraceback (most recent call last):\r\n",
        "  File \"/home/nick/notebook/SIPSim/bin/fragGC.py\", line 210, in <module>\r\n",
        "Traceback (most recent call last):\r\n",
        "  File \"/home/nick/notebook/SIPSim/SIPSim\", line 42, in <module>\r\n",
        "        exit(call(['python', scriptFile] + args['<args>']))    \r\n",
        "for x in itertools.starmap(by_genome_part,genomeList):\r\n",
        "  File \"/opt/anaconda/lib/python2.7/subprocess.py\", line 522, in call\r\n",
        "  File \"/home/nick/notebook/SIPSim/bin/fragGC.py\", line 156, in by_genome\r\n",
        "    (scaf,fragStart,fragEnd,fragSeq) = simFO.simFrag(genome)\r\n",
        "  File \"/home/nick/notebook/SIPSim/bin/../lib/SimFrags.py\", line 71, in simFrag\r\n",
        "        return Popen(*popenargs, **kwargs).wait()\r\n",
        "readTempPos = self._get_randPos_amp(genome)\r\n",
        "  File \"/opt/anaconda/lib/python2.7/subprocess.py\", line 1384, in wait\r\n",
        "  File \"/home/nick/notebook/SIPSim/bin/../lib/SimFrags.py\", line 197, in _get_randPos_amp\r\n",
        "    row = genome.get_MFEprimerRes().iloc[i]\r\n",
        "  File \"/opt/anaconda/lib/python2.7/site-packages/pandas/core/indexing.py\", line 1202, in __getitem__\r\n",
        "    pid, sts = _eintr_retry_call(os.waitpid, self.pid, 0)\r\n",
        "  File \"/opt/anaconda/lib/python2.7/subprocess.py\", line 476, in _eintr_retry_call\r\n",
        "    return func(*args)\r\n",
        "KeyboardInterrupt\r\n",
        "    return self._getitem_axis(key, axis=0)\r\n",
        "  File \"/opt/anaconda/lib/python2.7/site-packages/pandas/core/indexing.py\", line 1472, in _getitem_axis\r\n",
        "    return self._get_loc(key, axis=axis)\r\n",
        "  File \"/opt/anaconda/lib/python2.7/site-packages/pandas/core/indexing.py\", line 91, in _get_loc\r\n",
        "    return self.obj._ixs(key, axis=axis)\r\n",
        "  File \"/opt/anaconda/lib/python2.7/site-packages/pandas/core/frame.py\", line 1715, in _ixs\r\n",
        "    name=self.index[i], dtype=new_values.dtype)\r\n",
        "  File \"/opt/anaconda/lib/python2.7/site-packages/pandas/core/series.py\", line 211, in __init__\r\n",
        "    raise_cast_failure=True)\r\n",
        "  File \"/opt/anaconda/lib/python2.7/site-packages/pandas/core/series.py\", line 2562, in _sanitize_array\r\n",
        "    def _sanitize_array(data, index, dtype=None, copy=False,\r\n",
        "KeyboardInterrupt\r\n",
        "\r\n"
       ]
      }
     ],
     "prompt_number": 166
    },
    {
     "cell_type": "code",
     "collapsed": false,
     "input": [],
     "language": "python",
     "metadata": {},
     "outputs": []
    }
   ],
   "metadata": {}
  }
 ]
}