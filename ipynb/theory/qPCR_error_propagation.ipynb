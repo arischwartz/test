{
 "cells": [
  {
   "cell_type": "markdown",
   "metadata": {},
   "source": [
    "# Goal\n",
    "\n",
    "* Assessing the error in taxon abundances when using qPCR data + 16S sequence relative abundances to determine taxon proportional absolute abundances"
   ]
  },
  {
   "cell_type": "markdown",
   "metadata": {},
   "source": [
    "# Init"
   ]
  },
  {
   "cell_type": "code",
   "execution_count": 1,
   "metadata": {
    "collapsed": true
   },
   "outputs": [],
   "source": [
    "%load_ext rpy2.ipython"
   ]
  },
  {
   "cell_type": "code",
   "execution_count": 2,
   "metadata": {
    "collapsed": false
   },
   "outputs": [
    {
     "name": "stderr",
     "output_type": "stream",
     "text": [
      "/opt/anaconda/lib/python2.7/site-packages/rpy2/robjects/functions.py:106: UserWarning: \n",
      "Attaching package: ‘dplyr’\n",
      "\n",
      "\n",
      "  res = super(Function, self).__call__(*new_args, **new_kwargs)\n",
      "/opt/anaconda/lib/python2.7/site-packages/rpy2/robjects/functions.py:106: UserWarning: The following objects are masked from ‘package:stats’:\n",
      "\n",
      "    filter, lag\n",
      "\n",
      "\n",
      "  res = super(Function, self).__call__(*new_args, **new_kwargs)\n",
      "/opt/anaconda/lib/python2.7/site-packages/rpy2/robjects/functions.py:106: UserWarning: The following objects are masked from ‘package:base’:\n",
      "\n",
      "    intersect, setdiff, setequal, union\n",
      "\n",
      "\n",
      "  res = super(Function, self).__call__(*new_args, **new_kwargs)\n"
     ]
    }
   ],
   "source": [
    "%%R\n",
    "library(ggplot2)\n",
    "library(dplyr)\n",
    "library(tidyr)"
   ]
  },
  {
   "cell_type": "code",
   "execution_count": 3,
   "metadata": {
    "collapsed": true
   },
   "outputs": [],
   "source": [
    "def neg_binom_err(m, r, negs=False):\n",
    "    \"\"\"Adding negative binomial distribuiton error, where variance\n",
    "    scales more with the mean than a poisson distribution if (r < inf).\n",
    "\n",
    "    Parameters\n",
    "    ----------\n",
    "    m : float\n",
    "        Mean value\n",
    "    r : float\n",
    "        Negative binomial dispersion parameter\n",
    "    negs : bool\n",
    "        Negative values allowed? (otherwise 0)\n",
    "    \"\"\"\n",
    "    sigma = np.sqrt(m + m**2 / r)\n",
    "    x =  np.random.normal(m, sigma)\n",
    "    if negs==False and x < 0:\n",
    "        x = 0\n",
    "    return x"
   ]
  },
  {
   "cell_type": "markdown",
   "metadata": {},
   "source": [
    "# Making dataset"
   ]
  },
  {
   "cell_type": "code",
   "execution_count": 4,
   "metadata": {
    "collapsed": false
   },
   "outputs": [
    {
     "data": {
      "image/png": "[encoded data removed]"
     },
     "metadata": {},
     "output_type": "display_data"
    }
   ],
   "source": [
    "%%R -w 900 -h 300\n",
    "\n",
    "n = 500\n",
    "meanlog = 0.5\n",
    "sdlog = 1\n",
    "\n",
    "comm = rlnorm(n, meanlog, sdlog)\n",
    "comm = data.frame(1:length(comm), comm)\n",
    "colnames(comm) = c('taxon', 'count')\n",
    "\n",
    "comm = comm %>%\n",
    "    mutate(taxon = as.character(taxon)) %>%\n",
    "    group_by() %>%\n",
    "    mutate(rel_abund = count / sum(count)) %>%\n",
    "    ungroup()\n",
    "\n",
    "comm$taxon = reorder(comm$taxon, -comm$rel_abund)\n",
    "\n",
    "ggplot(comm, aes(taxon, rel_abund)) +\n",
    "    geom_point() +\n",
    "    theme_bw() +\n",
    "    theme(\n",
    "        axis.text.x = element_blank()\n",
    "    )"
   ]
  },
  {
   "cell_type": "markdown",
   "metadata": {},
   "source": [
    "# Simulating qPCR data"
   ]
  },
  {
   "cell_type": "code",
   "execution_count": 62,
   "metadata": {
    "collapsed": false
   },
   "outputs": [],
   "source": [
    "%%R\n",
    "\n",
    "exp_series = function(e_start, e_end){\n",
    "    sapply(e_start:e_end, function(x) cumprod(rep(10, x))[x])\n",
    "}\n",
    "\n",
    "neg_binom_err = function(m, r, n_reps=1, negs=FALSE){\n",
    "    sigma = sqrt(m + (m**2 / r))\n",
    "    print(c(m, sigma))\n",
    "    x = rnorm(n_reps, m, sigma)\n",
    "    if (negs==FALSE & x < 0){\n",
    "        x[x<0] = 0\n",
    "    }\n",
    "    return(x)\n",
    "}\n"
   ]
  },
  {
   "cell_type": "code",
   "execution_count": 63,
   "metadata": {
    "collapsed": false
   },
   "outputs": [
    {
     "data": {
      "text/plain": [
       "[1] 1000000000 1414213563\n",
       "[1] 1318057825\n"
      ]
     },
     "metadata": {},
     "output_type": "display_data"
    }
   ],
   "source": [
    "%%R\n",
    "# test\n",
    "exp_series(1,3)\n",
    "\n",
    "neg_binom_err(1e9, 0.5, n_reps=1)"
   ]
  },
  {
   "cell_type": "code",
   "execution_count": 36,
   "metadata": {
    "collapsed": false
   },
   "outputs": [
    {
     "data": {
      "text/plain": [
       "        [,1]     [,2]      [,3]       [,4]        [,5]\n",
       "[1,] 2343453        0  24214819 2383267265 28595805348\n",
       "[2,]       0  1555189 110732035          0           0\n",
       "[3,] 1951529 16729086         0  824000453  1595748080\n"
      ]
     },
     "metadata": {},
     "output_type": "display_data"
    }
   ],
   "source": [
    "%%R\n",
    "\n",
    "# params\n",
    "r = 0.5\n",
    "n_reps = 3\n",
    "total_copies = exp_series(6, 10)\n",
    "\n",
    "# qPCR \n",
    "sapply(total_copies, function(x) qPCR(x, r=r, n_reps=n_reps))"
   ]
  },
  {
   "cell_type": "code",
   "execution_count": null,
   "metadata": {
    "collapsed": true
   },
   "outputs": [],
   "source": []
  }
 ],
 "metadata": {
  "hide_input": true,
  "kernelspec": {
   "display_name": "Python 2",
   "language": "python",
   "name": "python2"
  },
  "language_info": {
   "codemirror_mode": {
    "name": "ipython",
    "version": 2
   },
   "file_extension": ".py",
   "mimetype": "text/x-python",
   "name": "python",
   "nbconvert_exporter": "python",
   "pygments_lexer": "ipython2",
   "version": "2.7.11"
  }
 },
 "nbformat": 4,
 "nbformat_minor": 0
}
