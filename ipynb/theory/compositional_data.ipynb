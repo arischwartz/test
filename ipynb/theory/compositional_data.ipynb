{
 "cells": [
  {
   "cell_type": "code",
   "execution_count": 1,
   "metadata": {
    "collapsed": true
   },
   "outputs": [],
   "source": [
    "import numpy as np"
   ]
  },
  {
   "cell_type": "markdown",
   "metadata": {},
   "source": [
    "# subcompositional coherence"
   ]
  },
  {
   "cell_type": "code",
   "execution_count": 57,
   "metadata": {
    "collapsed": false
   },
   "outputs": [
    {
     "name": "stdout",
     "output_type": "stream",
     "text": [
      "[ 500.  300.  200.   10.   10.    5.    5.    5.    5.]\n",
      "[ 1500.   300.   200.    10.    10.     5.     5.     5.     5.]\n",
      "[ 500.  300.  200.   10.   10.]\n"
     ]
    }
   ],
   "source": [
    "# create communities with absolute abundances\n",
    "\n",
    "## community 1\n",
    "comm1 = np.array([500.0, 300.0, 200.0, 10.0, 10.0, 5.0, 5.0, 5.0, 5.0])\n",
    "\n",
    "## commuity 2 (1st taxon has higher counts, but the others are the same)\n",
    "comm2 = np.copy(comm1)\n",
    "comm2[0] = comm2[0] + 1000.0\n",
    "\n",
    "## commuity 3 (1st taxon has higher counts, but the others are the same)\n",
    "comm3 = np.copy(comm1)\n",
    "comm3 = comm3[comm3 > 5]\n",
    "\n",
    "\n",
    "print comm1\n",
    "print comm2\n",
    "print comm3"
   ]
  },
  {
   "cell_type": "code",
   "execution_count": 58,
   "metadata": {
    "collapsed": false
   },
   "outputs": [
    {
     "name": "stdout",
     "output_type": "stream",
     "text": [
      "[ 500.  300.  200.   10.   10.    5.    5.    5.    5.]\n",
      "[ 1500.   300.   200.    10.    10.     5.     5.     5.     5.]\n",
      "[ 500.  300.  200.   10.   10.]\n"
     ]
    }
   ],
   "source": [
    "# tranform absolute to relative abundace\n",
    "\n",
    "comm1_rel = comm1 / np.sum(comm1)\n",
    "comm2_rel = comm2 / np.sum(comm2)\n",
    "comm3_rel = comm3 / np.sum(comm3)\n",
    "\n",
    "print comm1\n",
    "print comm2\n",
    "print comm3"
   ]
  },
  {
   "cell_type": "code",
   "execution_count": 59,
   "metadata": {
    "collapsed": false
   },
   "outputs": [
    {
     "name": "stdout",
     "output_type": "stream",
     "text": [
      "[ 300.  200.   10.   10.    5.    5.    5.    5.]\n",
      "[ 300.  200.   10.   10.    5.    5.    5.    5.]\n",
      "[ 300.  200.   10.   10.]\n"
     ]
    }
   ],
   "source": [
    "# pull out subset of taxa\n",
    "#subs = np.arange(1,9)\n",
    "comm1_sub = comm1[np.arange(1,comm1.shape[0])] \n",
    "comm2_sub = comm2[np.arange(1,comm2.shape[0])] \n",
    "comm3_sub = comm3[np.arange(1,comm3.shape[0])] \n",
    "\n",
    "print comm1_sub \n",
    "print comm2_sub \n",
    "print comm3_sub"
   ]
  },
  {
   "cell_type": "code",
   "execution_count": 60,
   "metadata": {
    "collapsed": false
   },
   "outputs": [
    {
     "name": "stdout",
     "output_type": "stream",
     "text": [
      "[ 0.55555556  0.37037037  0.01851852  0.01851852  0.00925926  0.00925926\n",
      "  0.00925926  0.00925926]\n",
      "[ 0.55555556  0.37037037  0.01851852  0.01851852  0.00925926  0.00925926\n",
      "  0.00925926  0.00925926]\n",
      "[ 0.57692308  0.38461538  0.01923077  0.01923077]\n"
     ]
    }
   ],
   "source": [
    "# performing closure\n",
    "comm1_sub_cls = comm1_sub / np.sum(comm1_sub)\n",
    "comm2_sub_cls = comm2_sub / np.sum(comm2_sub)\n",
    "comm3_sub_cls = comm3_sub / np.sum(comm3_sub)\n",
    "\n",
    "print comm1_sub_cls\n",
    "print comm2_sub_cls\n",
    "print comm3_sub_cls"
   ]
  },
  {
   "cell_type": "code",
   "execution_count": 68,
   "metadata": {
    "collapsed": false
   },
   "outputs": [
    {
     "name": "stdout",
     "output_type": "stream",
     "text": [
      "[ 0.55555556  0.37037037  0.01851852  0.01851852]\n",
      "[ 0.55555556  0.37037037  0.01851852  0.01851852]\n",
      "[ 0.57692308  0.38461538  0.01923077  0.01923077]\n"
     ]
    }
   ],
   "source": [
    "# overlapping taxa\n",
    "\n",
    "print comm1_sub_cls[np.arange(4)]\n",
    "print comm2_sub_cls[np.arange(4)]\n",
    "print comm3_sub_cls[np.arange(4)]"
   ]
  },
  {
   "cell_type": "code",
   "execution_count": 66,
   "metadata": {
    "collapsed": false
   },
   "outputs": [
    {
     "name": "stdout",
     "output_type": "stream",
     "text": [
      "\n",
      "Abundance ratios of subset taxa (absolute abundances)\n",
      "30.0\n",
      "30.0\n",
      "30.0\n",
      "\n",
      "Abundance ratios of subset taxa (relative abundances)\n",
      "30.0\n",
      "30.0\n",
      "30.0\n",
      "\n",
      "Abundance ratios of subset taxa after transforming by the sum of the subset\n",
      "30.0\n",
      "30.0\n",
      "30.0\n"
     ]
    }
   ],
   "source": [
    "# ratios of abundances\n",
    "\n",
    "print '\\nAbundance ratios of subset taxa (absolute abundances)'\n",
    "print comm1[1] /  comm1[4]\n",
    "print comm2[1] /  comm2[4]\n",
    "print comm3[1] /  comm3[4]\n",
    "\n",
    "print '\\nAbundance ratios of subset taxa (relative abundances)'\n",
    "print comm1_sub[0] /  comm1_sub[3]\n",
    "print comm2_sub[0] /  comm2_sub[3]\n",
    "print comm3_sub[0] /  comm3_sub[3]\n",
    "\n",
    "print '\\nAbundance ratios of subset taxa after transforming by the sum of the subset'\n",
    "print comm1_sub_cls[0] /  comm1_sub_cls[3]\n",
    "print comm2_sub_cls[0] /  comm2_sub_cls[3]\n",
    "print comm3_sub_cls[0] /  comm3_sub_cls[3]"
   ]
  },
  {
   "cell_type": "markdown",
   "metadata": {},
   "source": [
    "#### Notes\n",
    "\n",
    "* As the example illustrates, the subset relative abundances (post-transformation) are equivalent to the ratios of absolute abundances"
   ]
  },
  {
   "cell_type": "code",
   "execution_count": null,
   "metadata": {
    "collapsed": true
   },
   "outputs": [],
   "source": []
  },
  {
   "cell_type": "code",
   "execution_count": null,
   "metadata": {
    "collapsed": true
   },
   "outputs": [],
   "source": []
  }
 ],
 "metadata": {
  "hide_input": true,
  "kernelspec": {
   "display_name": "Python 2",
   "language": "python",
   "name": "python2"
  },
  "language_info": {
   "codemirror_mode": {
    "name": "ipython",
    "version": 2
   },
   "file_extension": ".py",
   "mimetype": "text/x-python",
   "name": "python",
   "nbconvert_exporter": "python",
   "pygments_lexer": "ipython2",
   "version": "2.7.11"
  }
 },
 "nbformat": 4,
 "nbformat_minor": 0
}
