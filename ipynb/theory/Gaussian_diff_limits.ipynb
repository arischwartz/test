{
 "cells": [
  {
   "cell_type": "markdown",
   "metadata": {},
   "source": [
    "# Goal\n",
    "\n",
    "* If the DNA species distribution is truely Gaussian in a buoyant density gradient, then what sigma would be needed to reproduce the detection of all taxa > 0.1% in abundance throughout the entire gradient\n",
    "* If 1e10 16S rRNA copies in community, then 0.1% abundant taxon = 1e7\n",
    "  * If detection limit = 1 molecule, then probability density of normal distribution across the entire gradient that we sequence must be >= 1e-7 \n",
    "    * ie., at least 1 of the 1e7 16S rRNA DNA molecules in every gradient fraction\n",
    "\n",
    "## Method\n",
    "\n",
    "* assess PDF across gradient for different levels of sigma"
   ]
  },
  {
   "cell_type": "markdown",
   "metadata": {},
   "source": [
    "# Setting parameters"
   ]
  },
  {
   "cell_type": "code",
   "execution_count": 4,
   "metadata": {
    "collapsed": false
   },
   "outputs": [
    {
     "name": "stdout",
     "output_type": "stream",
     "text": [
      "The rpy2.ipython extension is already loaded. To reload it, use:\n",
      "  %reload_ext rpy2.ipython\n"
     ]
    }
   ],
   "source": [
    "%load_ext rpy2.ipython"
   ]
  },
  {
   "cell_type": "code",
   "execution_count": 77,
   "metadata": {
    "collapsed": true
   },
   "outputs": [],
   "source": [
    "workDir = '/home/nick/notebook/SIPSim/dev/fullCyc/frag_norm_9_2.5_n5/default_run/'"
   ]
  },
  {
   "cell_type": "code",
   "execution_count": 75,
   "metadata": {
    "collapsed": true
   },
   "outputs": [],
   "source": [
    "%%R\n",
    "\n",
    "sigmas = seq(1, 50, 1)\n",
    "means = seq(30, 70, 1)    # mean GC content of 30 to 70%\n",
    "\n",
    "## max 13C shift\n",
    "max_13C_shift_in_BD = 0.036\n",
    "## min BD (that we care about)\n",
    "min_GC = 13.5\n",
    "min_BD = min_GC/100.0 * 0.098 + 1.66\n",
    "## max BD (that we care about)\n",
    "max_GC = 80\n",
    "max_BD = max_GC / 100.0 * 0.098 + 1.66    # 80.0% G+C\n",
    "max_BD = max_BD + max_13C_shift_in_BD"
   ]
  },
  {
   "cell_type": "markdown",
   "metadata": {},
   "source": [
    "# Init"
   ]
  },
  {
   "cell_type": "code",
   "execution_count": 52,
   "metadata": {
    "collapsed": false
   },
   "outputs": [],
   "source": [
    "%%R\n",
    "library(dplyr)\n",
    "library(tidyr)\n",
    "library(ggplot2)\n",
    "library(gridExtra)"
   ]
  },
  {
   "cell_type": "code",
   "execution_count": 79,
   "metadata": {
    "collapsed": true
   },
   "outputs": [],
   "source": [
    "import numpy as np         \n",
    "import pandas as pd                                                             \n",
    "import scipy.stats as stats\n",
    "import dill"
   ]
  },
  {
   "cell_type": "code",
   "execution_count": 54,
   "metadata": {
    "collapsed": false
   },
   "outputs": [
    {
     "data": {
      "text/plain": [
       "[1] 1.709\n",
       "[1] 50\n"
      ]
     },
     "metadata": {},
     "output_type": "display_data"
    }
   ],
   "source": [
    "%%R\n",
    "\n",
    "GC2BD = function(GC) GC / 100.0 * 0.098 + 1.66     \n",
    "GC2BD(50) %>% print\n",
    "BD2GC = function(BD) (BD - 1.66) / 0.098 * 100\n",
    "BD2GC(1.709) %>% print    "
   ]
  },
  {
   "cell_type": "markdown",
   "metadata": {},
   "source": [
    "# GC min-max"
   ]
  },
  {
   "cell_type": "code",
   "execution_count": 55,
   "metadata": {
    "collapsed": false
   },
   "outputs": [
    {
     "data": {
      "text/plain": [
       "Min-max GC: 13.5 116.7347 \n"
      ]
     },
     "metadata": {},
     "output_type": "display_data"
    }
   ],
   "source": [
    "%%R\n",
    "min_GC = BD2GC(min_BD)\n",
    "max_GC = BD2GC(max_BD)\n",
    "cat('Min-max GC:', min_GC, max_GC, '\\n')"
   ]
  },
  {
   "cell_type": "markdown",
   "metadata": {},
   "source": [
    "# How big must sigma be to detect throughout the gradient"
   ]
  },
  {
   "cell_type": "code",
   "execution_count": 69,
   "metadata": {
    "collapsed": false
   },
   "outputs": [
    {
     "data": {
      "text/plain": [
       "  mean sigma detect\n",
       "1   30     1  FALSE\n",
       "2   31     1  FALSE\n",
       "3   32     1  FALSE\n",
       "4   33     1  FALSE\n"
      ]
     },
     "metadata": {},
     "output_type": "display_data"
    }
   ],
   "source": [
    "%%R \n",
    "\n",
    "# where is density > 1e-7\n",
    "detect_thresh = function(mean, sd){\n",
    "    dens = dnorm(0:117, mean=mean, sd=sd)\n",
    "    all(dens > 1e-7)\n",
    "    }\n",
    "\n",
    "df = expand.grid(means, sigmas)\n",
    "colnames(df) = c('mean', 'sigma')\n",
    "df$detect = mapply(detect_thresh, mean=df$mean, sd=df$sigma)\n",
    "df %>% head(n=4)"
   ]
  },
  {
   "cell_type": "code",
   "execution_count": 74,
   "metadata": {
    "collapsed": false
   },
   "outputs": [
    {
     "data": {
      "image/png": "[encoded data removed]"
     },
     "metadata": {},
     "output_type": "display_data"
    }
   ],
   "source": [
    "%%R -w 600\n",
    "# plotting\n",
    "ggplot(df, aes(mean, sigma, fill=detect)) +\n",
    "    geom_tile(color='black') +\n",
    "    theme_bw() +\n",
    "    theme(\n",
    "        text = element_text(size=16)\n",
    "    )"
   ]
  },
  {
   "cell_type": "markdown",
   "metadata": {},
   "source": [
    "#### Notes\n",
    "\n",
    "* sigma must be >= 18 to have taxon detected in all gradients\n",
    "  * assuming mean GC of taxon fragments is 30%\n",
    "* How small would the fragments need to be to explain this just from diffusion (Clay et al., 2003)?"
   ]
  },
  {
   "cell_type": "markdown",
   "metadata": {},
   "source": [
    "# How small of fragments would be needed to get the observed detection threshold?"
   ]
  },
  {
   "cell_type": "markdown",
   "metadata": {},
   "source": [
    "## sigma distribution of fragment GC for the reference dataset genomes"
   ]
  },
  {
   "cell_type": "code",
   "execution_count": 124,
   "metadata": {
    "collapsed": false
   },
   "outputs": [],
   "source": [
    "# loading fragments\n",
    "F = os.path.join(workDir, '1', 'fragsParsed.pkl')\n",
    "with open(F, 'rb') as inFH:\n",
    "    frags = dill.load(inFH)"
   ]
  },
  {
   "cell_type": "code",
   "execution_count": 166,
   "metadata": {
    "collapsed": false
   },
   "outputs": [],
   "source": [
    "stds = []\n",
    "for x in frags:\n",
    "    otu = x[0]\n",
    "    for scaf,arr in x[1].items():\n",
    "        arr = np.array(arr)\n",
    "        sd = np.std(arr[:,2])   # fragment GC\n",
    "        stds.append([otu, scaf, sd])\n",
    "stds = np.array(stds)"
   ]
  },
  {
   "cell_type": "code",
   "execution_count": 116,
   "metadata": {
    "collapsed": false
   },
   "outputs": [
    {
     "data": {
      "image/png": "[encoded data removed]"
     },
     "metadata": {},
     "output_type": "display_data"
    }
   ],
   "source": [
    "%%R -i stds -w 500 -h 300\n",
    "\n",
    "stds = stds %>% as.data.frame\n",
    "colnames(stds) = c('taxon', 'scaffold', 'sigma')\n",
    "stds = stds %>%\n",
    "    mutate(sigma = sigma %>% as.character %>% as.numeric)\n",
    "\n",
    "ggplot(stds, aes(sigma)) +\n",
    "    geom_histogram() +\n",
    "    theme_bw() +\n",
    "    theme(\n",
    "        text = element_text(size=16)\n",
    "    )"
   ]
  },
  {
   "cell_type": "code",
   "execution_count": 130,
   "metadata": {
    "collapsed": false
   },
   "outputs": [
    {
     "data": {
      "text/plain": [
       "[1] 1.819238\n"
      ]
     },
     "metadata": {},
     "output_type": "display_data"
    }
   ],
   "source": [
    "%%R\n",
    "# using 10% quantile \n",
    "## a relatively small, but not totally outlier of a sigma \n",
    "## this will require a lot of diffusion\n",
    "q10 = quantile(stds$sigma, probs=c(0.1)) %>% as.vector\n",
    "q10"
   ]
  },
  {
   "cell_type": "code",
   "execution_count": 156,
   "metadata": {
    "collapsed": false
   },
   "outputs": [
    {
     "data": {
      "text/plain": [
       "  length__kb     sigma\n",
       "1        0.1 21.173323\n",
       "2        0.2 15.026963\n",
       "3        0.3 12.314340\n",
       "4        0.4 10.703253\n",
       "5        0.5  9.607790\n",
       "6        0.6  8.802062\n"
      ]
     },
     "metadata": {},
     "output_type": "display_data"
    }
   ],
   "source": [
    "%%R\n",
    "# function for sigma diffusion (Clay et al., 2003)\n",
    "sigma_dif = function(L){\n",
    "    sqrt(44.5 / L)\n",
    "}\n",
    "\n",
    "# function for calculating total sigma (fragment buoyant density) based on mean fragment length\n",
    "total_sigma = function(L, sigma_start){\n",
    "    # L = fragment length (kb)\n",
    "    # start_sigma = genome sigma prior to diffusion\n",
    "    sigma_D = sigma_dif(L)\n",
    "    sqrt(sigma_D**2 + sigma_start**2)\n",
    "}\n",
    "\n",
    "frag_lens = seq(0.1, 20, 0.1)\n",
    "\n",
    "total_sd = sapply(frag_lens, total_sigma, sigma_start=q10)\n",
    "df = data.frame('length__kb' = frag_lens, 'sigma' = total_sd)\n",
    "df %>% head"
   ]
  },
  {
   "cell_type": "code",
   "execution_count": 157,
   "metadata": {
    "collapsed": false
   },
   "outputs": [
    {
     "data": {
      "image/png": "[encoded data removed]"
     },
     "metadata": {},
     "output_type": "display_data"
    }
   ],
   "source": [
    "%%R -w 600 -h 350\n",
    "# plotting\n",
    "ggplot(df, aes(length__kb, sigma)) +\n",
    "    geom_point() +\n",
    "    geom_line() +\n",
    "    geom_hline(yintercept=18, linetype='dashed', alpha=0.7) +\n",
    "    labs(x='Fragment length (kb)', y='Standard deviation of fragment BD\\n(+diffusion)') +\n",
    "    theme_bw() +\n",
    "    theme(\n",
    "        text = element_text(size=16)\n",
    "    )"
   ]
  },
  {
   "cell_type": "markdown",
   "metadata": {},
   "source": [
    "### Percent of taxa that would be detected in all fraction depending on the fragment BD stdev with accounting for diffusion"
   ]
  },
  {
   "cell_type": "code",
   "execution_count": 158,
   "metadata": {
    "collapsed": false
   },
   "outputs": [
    {
     "data": {
      "text/plain": [
       "Source: local data frame [3 x 4]\n",
       "\n",
       "  length__kb     n detected detect_perc\n",
       "       (dbl) (int)    (dbl)       (dbl)\n",
       "1        0.1  1954     1954         100\n",
       "2        0.2  1954        0           0\n",
       "3        0.3  1954        0           0\n"
      ]
     },
     "metadata": {},
     "output_type": "display_data"
    }
   ],
   "source": [
    "%%R\n",
    "sigma_thresh = 18\n",
    "\n",
    "frag_lens = seq(0.1, 20, 0.1)\n",
    "df = expand.grid(stds$sigma, frag_lens) \n",
    "colnames(df) = c('sigma', 'length__kb')\n",
    "\n",
    "df$total_sd = mapply(total_sigma, df$length__kb, df$sigma)\n",
    "df$detect = ifelse(df$total_sd >= sigma_thresh, 1, 0) \n",
    "\n",
    "df = df %>%\n",
    "    group_by(length__kb) %>%\n",
    "    summarize(n = n(),\n",
    "              detected = sum(detect),\n",
    "              detect_perc = detected / n * 100)\n",
    "df %>% head(n=3)"
   ]
  },
  {
   "cell_type": "code",
   "execution_count": 167,
   "metadata": {
    "collapsed": false
   },
   "outputs": [
    {
     "data": {
      "image/png": "[encoded data removed]"
     },
     "metadata": {},
     "output_type": "display_data"
    }
   ],
   "source": [
    "%%R -w 600 -h 350\n",
    "# plotting\n",
    "ggplot(df, aes(length__kb, detect_perc)) +\n",
    "    geom_point() +\n",
    "    geom_line() +\n",
    "    labs(x='Fragment length (kb)', y='% of taxa detected in all\\ngradient fractions') +\n",
    "    theme_bw() +\n",
    "    theme(\n",
    "        text = element_text(size=16)\n",
    "    )"
   ]
  },
  {
   "cell_type": "markdown",
   "metadata": {},
   "source": [
    "#### Notes\n",
    "\n",
    "* This analysis indicates that using a gaussian distribution to model the distribution of DNA fragments in a CsCl gradient does not fit the emperical observation that taxa of >0.1% abundance are detected in all gradient fractions.\n",
    "* Even when including diffusion (Clay et al., 2003), the mean fragment size would have to be <= 100 bp to have taxa detected in all gradient fractions."
   ]
  },
  {
   "cell_type": "markdown",
   "metadata": {},
   "source": [
    "#### Future work\n",
    "\n",
    "* Need to test with out the assumption that genome fragment are homogenous in GC content.\n",
    "* Method:\n",
    "  * SIPSim simulations with differing fragment length distrubutions (differing diffusion):\n",
    "     * 100 - 1000 bp\n",
    "     * 1000 - 2000 bp\n",
    "     * 4000 - 5000 bp\n",
    "  * Assessing which taxa are present in all 'sequenced' gradient fractions\n",
    "     * Determine approx abundance threshold for taxa present in fractions\n",
    "       * Is it near 0.1%?"
   ]
  },
  {
   "cell_type": "code",
   "execution_count": null,
   "metadata": {
    "collapsed": true
   },
   "outputs": [],
   "source": []
  }
 ],
 "metadata": {
  "hide_input": true,
  "kernelspec": {
   "display_name": "Python 2",
   "language": "python",
   "name": "python2"
  },
  "language_info": {
   "codemirror_mode": {
    "name": "ipython",
    "version": 2
   },
   "file_extension": ".py",
   "mimetype": "text/x-python",
   "name": "python",
   "nbconvert_exporter": "python",
   "pygments_lexer": "ipython2",
   "version": "2.7.10"
  }
 },
 "nbformat": 4,
 "nbformat_minor": 0
}
