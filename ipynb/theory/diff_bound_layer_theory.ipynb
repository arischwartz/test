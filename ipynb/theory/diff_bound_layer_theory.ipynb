{
 "cells": [
  {
   "cell_type": "markdown",
   "metadata": {},
   "source": [
    "# Goal:\n",
    "\n",
    "* Modeling a theoretical diffusive boundary layer (DBL). \n",
    "  * A DBL may be contributing to 'smearing' observed in 16S rRNA MiSeq data from real experiments."
   ]
  },
  {
   "cell_type": "markdown",
   "metadata": {},
   "source": [
    "# Init"
   ]
  },
  {
   "cell_type": "code",
   "execution_count": 38,
   "metadata": {
    "collapsed": false
   },
   "outputs": [
    {
     "name": "stdout",
     "output_type": "stream",
     "text": [
      "The rpy2.ipython extension is already loaded. To reload it, use:\n",
      "  %reload_ext rpy2.ipython\n"
     ]
    }
   ],
   "source": [
    "%load_ext rpy2.ipython"
   ]
  },
  {
   "cell_type": "code",
   "execution_count": 39,
   "metadata": {
    "collapsed": false
   },
   "outputs": [],
   "source": [
    "%%R\n",
    "library(readxl)\n",
    "library(dplyr)\n",
    "library(tidyr)\n",
    "library(ggplot2)\n",
    "library(rootSolve)"
   ]
  },
  {
   "cell_type": "markdown",
   "metadata": {},
   "source": [
    "# Setting parameters"
   ]
  },
  {
   "cell_type": "code",
   "execution_count": 57,
   "metadata": {
    "collapsed": true
   },
   "outputs": [],
   "source": [
    "%%R\n",
    "# tube characteristics (cm)\n",
    "tube_diam = 1.3   \n",
    "tube_height = 4.8\n",
    "tube_round_bottom_height = 0.65\n",
    "tube_capacity__ml = 4.7\n",
    "tube_composition = 'polypropylene'\n",
    "\n",
    "# rotor (cm)\n",
    "rotor_id = 'TLA-110'\n",
    "r_min = 2.6\n",
    "r_ave = 3.72\n",
    "r_max = 4.85\n",
    "frac_tube_angle = 90 \n",
    "\n",
    "# cfg run\n",
    "## rpm of run\n",
    "rpm = 55000\n",
    "## angular velocity (w^2)\n",
    "angular_velocity = 17545933.74\n",
    "## average particle density\n",
    "ave_gradient_density = 1.70\n",
    "## beta^o  \n",
    "BetaO = 1.14e9  # CsCl at density of 1.70\n",
    "## position of particle at equilibrium \n",
    "particle_at_eq = 3.78 \n",
    "## max 13C shift\n",
    "max_13C_shift_in_BD = 0.036\n",
    "## min BD (that we care about)\n",
    "min_GC = 13.5\n",
    "min_BD = min_GC/100.0 * 0.098 + 1.66\n",
    "## max BD (that we care about)\n",
    "max_GC = 80\n",
    "max_BD = max_GC / 100.0 * 0.098 + 1.66    # 80.0% G+C\n",
    "max_BD = max_BD + max_13C_shift_in_BD\n",
    "\n",
    "# diffusive boundary layer (DBL)\n",
    "DBL_size_range__micron = c(10,100)\n",
    "\n",
    "\n",
    "# misc\n",
    "fraction_vol__cm3 = 0.1"
   ]
  },
  {
   "cell_type": "code",
   "execution_count": 41,
   "metadata": {
    "collapsed": false
   },
   "outputs": [
    {
     "data": {
      "text/plain": [
       "Tube angle from axis of rotation: 27.95319 \n"
      ]
     },
     "metadata": {},
     "output_type": "display_data"
    }
   ],
   "source": [
    "%%R\n",
    "# rotor angle\n",
    "## sin(x) = opp / hypo\n",
    "## x = sin**-1(opp/hypo)\n",
    "\n",
    "rad2deg = function(rad) {\n",
    "    return((180 * rad) / pi)\n",
    "}\n",
    "deg2rad = function(deg){\n",
    "    return(deg * pi / 180)\n",
    "}\n",
    "\n",
    "\n",
    "x = r_max - r_min\n",
    "hyp = tube_height\n",
    "rotor_tube_angle = rad2deg(asin(x / hyp))\n",
    "cat(\"Tube angle from axis of rotation:\", rotor_tube_angle, \"\\n\")"
   ]
  },
  {
   "cell_type": "code",
   "execution_count": 42,
   "metadata": {
    "collapsed": false
   },
   "outputs": [
    {
     "data": {
      "text/plain": [
       "Tube angle from axis of rotation: 27.95319 \n"
      ]
     },
     "metadata": {},
     "output_type": "display_data"
    }
   ],
   "source": [
    "%%R\n",
    "# rotor angle\n",
    "## sin(x) = opp / hypo\n",
    "## x = sin**-1(opp/hypo)\n",
    "\n",
    "rad2deg = function(rad) {\n",
    "    return((180 * rad) / pi)\n",
    "}\n",
    "deg2rad = function(deg){\n",
    "    return(deg * pi / 180)\n",
    "}\n",
    "\n",
    "\n",
    "x = r_max - r_min\n",
    "hyp = tube_height\n",
    "rotor_tube_angle = rad2deg(asin(x / hyp))\n",
    "cat(\"Tube angle from axis of rotation:\", rotor_tube_angle, \"\\n\")"
   ]
  },
  {
   "cell_type": "code",
   "execution_count": 43,
   "metadata": {
    "collapsed": false
   },
   "outputs": [
    {
     "data": {
      "text/plain": [
       "Isoconcentration point: 3.781204 (cm)\n"
      ]
     },
     "metadata": {},
     "output_type": "display_data"
    }
   ],
   "source": [
    "%%R\n",
    "# isoconcentration point\n",
    "## Formula 6.7 in Birnine and Rickwood 1978\n",
    "#r_top = r_min__mm / 10\n",
    "#r_bottom = r_max__mm / 10\n",
    "I = sqrt((r_min**2 + r_min * r_max + r_max**2)/3)\n",
    "\n",
    "cat('Isoconcentration point:', I, '(cm)\\n')"
   ]
  },
  {
   "cell_type": "markdown",
   "metadata": {},
   "source": [
    "# Determining DBL from fragment G+C content \n",
    "\n",
    "* fragment GC -->\n",
    "* BD (diffusive boundary layer) --> \n",
    "* angled tube position of DBL -->\n",
    "* vertical tube position range of DBL (min, mid, max)"
   ]
  },
  {
   "cell_type": "markdown",
   "metadata": {},
   "source": [
    "# Functions for calculating DBL"
   ]
  },
  {
   "cell_type": "markdown",
   "metadata": {},
   "source": [
    "## GC to BD"
   ]
  },
  {
   "cell_type": "code",
   "execution_count": 12,
   "metadata": {
    "collapsed": false
   },
   "outputs": [
    {
     "data": {
      "text/plain": [
       "[1] 1.6894 1.6992 1.7090 1.7188 1.7286 1.7384\n"
      ]
     },
     "metadata": {},
     "output_type": "display_data"
    }
   ],
   "source": [
    "%%R\n",
    "GC2BD = function(GC){ \n",
    "    # GC = percent G+C\n",
    "    GC / 100.0 * 0.098 + 1.66 \n",
    "}\n",
    "\n",
    "# test\n",
    "GC = seq(30, 80, 10)\n",
    "sapply(GC, GC2BD)"
   ]
  },
  {
   "cell_type": "markdown",
   "metadata": {},
   "source": [
    "## BD to distance from the axis of rotation"
   ]
  },
  {
   "cell_type": "code",
   "execution_count": 29,
   "metadata": {
    "collapsed": false
   },
   "outputs": [
    {
     "data": {
      "text/plain": [
       "radius range for BD-min to BD-max:  3.289207 to 4.895445 \n"
      ]
     },
     "metadata": {},
     "output_type": "display_data"
    }
   ],
   "source": [
    "%%R\n",
    "BD2distFromAxis = function(BD, D, BetaO, w2, I){\n",
    "    # converting BD to distance from axis of rotation\n",
    "    # BD  = density at a given radius\n",
    "    # w^2 = angular velocity\n",
    "    # \\beta^o = beta coef\n",
    "    # I = isocencentration point (cm)\n",
    "    # D = average density of gradient\n",
    "    sqrt(((BD-D)*2*BetaO/w2) + I^2)\n",
    "}\n",
    "\n",
    "# test\n",
    "min_BD_r = BD2distFromAxis(min_BD, ave_gradient_density, BetaO, angular_velocity, I)\n",
    "max_BD_r = BD2distFromAxis(max_BD, ave_gradient_density, BetaO, angular_velocity, I)\n",
    "\n",
    "cat('radius range for BD-min to BD-max: ', min_BD_r, 'to', max_BD_r, '\\n')"
   ]
  },
  {
   "cell_type": "markdown",
   "metadata": {},
   "source": [
    "# distance from axis of rotation to tube height of BD 'band' \n",
    "\n",
    "* The band is angled in the tube, so the BD band in the gradient (angled tube) will touch the wall of the tube at a min/max height of h1 and h2. This function determines those tube height values."
   ]
  },
  {
   "cell_type": "code",
   "execution_count": 31,
   "metadata": {
    "collapsed": false
   },
   "outputs": [
    {
     "data": {
      "text/plain": [
       "[1] 1.985218 4.435318\n",
       "[1] 2.4501\n"
      ]
     },
     "metadata": {},
     "output_type": "display_data"
    }
   ],
   "source": [
    "%%R\n",
    "\n",
    "distFromAxis2tubePos = function(x, r, D, A){\n",
    "  # converting distance from axis of rotation to cfg tube position (min & max of tube height)\n",
    "  # x = a distance from the axis of rotation\n",
    "  # r = radius of cfg tube\n",
    "  # D = max tube distance from axis of rotation\n",
    "  # A = angle of tube to axis of rotation (degrees)\n",
    "  \n",
    "  # Equation for finding the lower point of the band  \n",
    "  if(x >= D-(r*aspace::cos_d(A))-r) {\n",
    "    d = x-(D-r)\n",
    "    a = A-aspace::asin_d(d/r)\n",
    "    LowH = r-r*aspace::cos_d(a)\n",
    "    #print(LowH)                ## This band will be in the rounded part\n",
    "  }else{\n",
    "    d = D-(r*aspace::cos_d(A))-r-x\n",
    "    hc = d/aspace::sin_d(A)\n",
    "    LowH = r+hc\n",
    "  # print(LowH)                 ## This band will be in the cylinder part\n",
    "  }\n",
    "\n",
    "  # Equation for finding the upper band\n",
    "  if(x > D-(r-r*aspace::cos_d(A))) {\n",
    "    d = x-(D-r)\n",
    "    a = (A)-(180-aspace::asin_d(d/r))\n",
    "    HighH = r-r*aspace::cos_d(a)\n",
    "    #print(HighH)                ## This band will be in the rounded part\n",
    "  }else{\n",
    "    d = D-(r-r*aspace::cos_d(A))-x\n",
    "  hc = d/aspace::sin_d(A)\n",
    "  HighH = r+hc\n",
    "  #print(HighH)                ## This band will be in the cylinder part\n",
    "  }\n",
    "  \n",
    "  return(c(LowH, HighH))\n",
    "}\n",
    "\n",
    "\n",
    "# test\n",
    "r = 0.65   # radius of tube (cm)\n",
    "D = 4.85   # distance from axis of rotation to furthest part of tube (cm)\n",
    "A = 27.95  # angle of tube to axis of rotation (degrees)\n",
    "x = 3     # some distance from axis of rotation (from equation)\n",
    "\n",
    "pos = distFromAxis2angleTubePos(x, r, D, A)\n",
    "pos %>% print\n",
    "delta = pos[2] - pos[1]\n",
    "delta %>% print"
   ]
  },
  {
   "cell_type": "markdown",
   "metadata": {},
   "source": [
    "## Python version"
   ]
  },
  {
   "cell_type": "code",
   "execution_count": 87,
   "metadata": {
    "collapsed": false
   },
   "outputs": [
    {
     "data": {
      "text/plain": [
       "(0.31999130190182146, 2.6004594091294315)"
      ]
     },
     "execution_count": 87,
     "metadata": {},
     "output_type": "execute_result"
    }
   ],
   "source": [
    "sin_d = lambda d : np.sin(np.deg2rad(d))    \n",
    "cos_d = lambda d : np.cos(np.deg2rad(d))    \n",
    "asin_d = lambda x : np.arcsin(x) * 180/np.pi  #np.arcsin(np.deg2rad(d))\n",
    "acos_d = lambda x : np.arccos(x) * 180/np.pi  #np.arccos(np.deg2rad(d))\n",
    "\n",
    "def axisDist2angledTubePos(x, tube_radius, r_max, A):\n",
    "    if np.isnan(x):\n",
    "        return (x, x)\n",
    "    \n",
    "    if(x >= r_max - (tube_radius * cos_d(A)) - tube_radius):\n",
    "        # band in rounded bottom of cfg tube\n",
    "        d = x - (r_max - tube_radius)\n",
    "        a = A - asin_d(d / tube_radius)\n",
    "        LowH = tube_radius - tube_radius * cos_d(a)\n",
    "        #print LowH\n",
    "    else:\n",
    "        # band in cylinder of cfg tube\n",
    "        d = r_max - (tube_radius * cos_d(A)) - tube_radius - x\n",
    "        h_c = d/sin_d(A)\n",
    "        LowH = tube_radius + h_c\n",
    "        # print LowH\n",
    "    \n",
    "    if(x > r_max - (tube_radius - tube_radius * cos_d(A))):\n",
    "        # Equation for finding the upper band\n",
    "        d = x - (r_max - tube_radius)\n",
    "        a = A - (180 - asin_d(d/tube_radius))\n",
    "        HighH = tube_radius - tube_radius * cos_d(a)\n",
    "        #print HighH\n",
    "    else:\n",
    "        # This band will be in the cylinder part\n",
    "        d = r_max - (tube_radius - tube_radius * cos_d(A)) - x\n",
    "        h_c = d/sin_d(A)\n",
    "        HighH = tube_radius + h_c\n",
    "        #print(HighH)\n",
    "    return(LowH, HighH)\n",
    "\n",
    "# test\n",
    "r = 0.65   # radius of tube (cm)\n",
    "D = 4.85   # distance from axis of rotation to furthest part of tube (cm)\n",
    "A = 27.95  # angle of tube to axis of rotation (degrees)\n",
    "x = 3.86    # some distance from axis of rotation (from equation)\n",
    "\n",
    "axisDist2angledTubePos(x, r, D, A)"
   ]
  },
  {
   "cell_type": "markdown",
   "metadata": {},
   "source": [
    "# Test run of SIPSim DBL"
   ]
  },
  {
   "cell_type": "code",
   "execution_count": 70,
   "metadata": {
    "collapsed": false
   },
   "outputs": [
    {
     "name": "stdout",
     "output_type": "stream",
     "text": [
      "DBL_index file written: \"DBL_index.txt\"\n",
      "Processing: Nocardia_nova_SH22a\n",
      "Processing: Aeromonas_salmonicida_subsp_salmonicida_A449\n",
      "Processing: Geobacillus_thermoleovorans_CCB_US3_UF5\n",
      "Processing: Thermincola_potens_JR\n",
      "Processing: Myxococcus_stipitatus_DSM_14675\n",
      "Processing: Mycoplasma_bovoculi_M165_69\n",
      "Processing: Sulfurihydrogenibium_azorense_Az-Fu1\n",
      "Processing: Mycoplasma_yeatsii_GM274B\n",
      "Processing: Spiroplasma_culicicola_AES-1\n",
      "Processing: Pseudonocardia_dioxanivorans_CB1190\n",
      "Processing: Oceanithermus_profundus_DSM_14977\n",
      "Processing: Bradyrhizobium_diazoefficiens_USDA_110\n",
      "Processing: Leptospira_borgpetersenii_serovar_Hardjo-bovis_str_L550\n",
      "Processing: Kangiella_koreensis_DSM_16069\n",
      "Processing: Kosmotoga_olearia_TBF_19_5_1\n",
      "Processing: Mycobacterium_abscessus_subsp_bolletii_50594\n",
      "Processing: Bacillus_subtilis_PY79\n",
      "Processing: Capnocytophaga_canimorsus_Cc5\n",
      "Processing: Vibrio_furnissii_NCTC_11218\n",
      "Processing: Dehalogenimonas_lykanthroporepellens_BL-DC-9\n",
      "Processing: Haemophilus_influenzae_PittEE\n",
      "Processing: Clostridium_perfringens_str_13\n",
      "Processing: Aeromonas_veronii_B565\n",
      "Processing: Caldicellulosiruptor_saccharolyticus_DSM_8903\n",
      "Processing: Planktomarina_temperata_RCA23\n",
      "Processing: Cronobacter_turicensis_z3032\n",
      "Processing: Candidatus_Liberibacter_asiaticus_str_Ishi-1\n",
      "Processing: Rhodoferax_ferrireducens_T118\n",
      "Processing: Vibrio_tasmaniensis_LGP32\n",
      "Processing: Oscillibacter_valericigenes_Sjm18-20\n",
      "Processing: Desulfosporosinus_orientis_DSM_765\n",
      "Processing: Desulfovibrio_africanus_str_Walvis_Bay\n",
      "Processing: Haemophilus_somnus_129PT\n",
      "Processing: Propionibacterium_avidum_44067\n",
      "Processing: Desulfosporosinus_acidiphilus_SJ4\n",
      "Processing: Candidatus_Zinderia_insecticola_CARI\n",
      "Processing: Desulfotomaculum_carboxydivorans_CO-1-SRB\n",
      "Processing: Rickettsia_australis_str_Cutlack\n",
      "Processing: Campylobacter_fetus_subsp_venerealis_cfvi03_293\n",
      "Processing: Denitrovibrio_acetiphilus_DSM_12809\n",
      "Processing: _Cellvibrio_gilvus_ATCC_13127\n",
      "Processing: Eubacterium_rectale_ATCC_33656\n",
      "Processing: Sulfuricurvum_kujiense_DSM_16994\n",
      "Processing: Halobacillus_halophilus_DSM_2266\n",
      "Processing: Shewanella_baltica_OS117\n",
      "Processing: Thermodesulfobium_narugense_DSM_14796\n",
      "Processing: Halomonas_elongata_DSM_2581\n",
      "Processing: Thermodesulfovibrio_yellowstonii_DSM_11347\n",
      "Processing: Chromohalobacter_salexigens_DSM_3043\n",
      "Processing: Granulicella_mallensis_MP5ACTX8\n",
      "Processing: Lactobacillus_ruminis_ATCC_27782\n",
      "Processing: Borrelia_garinii_PBi\n",
      "Processing: Cardinium_endosymbiont_cEper1_of_Encarsia_pergandiella\n",
      "Processing: Vibrio_cholerae_MJ-1236\n",
      "Processing: Nocardiopsis_alba_ATCC_BAA-2165\n",
      "Processing: Streptococcus_anginosus_C238\n",
      "Processing: Brevibacillus_brevis_NBRC_100599\n",
      "Processing: Melissococcus_plutonius_DAT561\n",
      "Processing: Tropheryma_whipplei_str_Twist\n",
      "Processing: Clostridiales_genomosp_BVAB3_str_UPII9-5\n",
      "Processing: Lysinibacillus_sphaericus_C3-41\n",
      "Processing: Herbaspirillum_seropedicae_SmR1\n",
      "Processing: Corynebacterium_pseudotuberculosis_FRC41\n",
      "Processing: Serratia_symbiotica_str_Cinara_cedri\n",
      "Processing: Marinithermus_hydrothermalis_DSM_14884\n",
      "Processing: Bartonella_grahamii_as4aup\n",
      "Processing: Desulfocapsa_sulfexigens_DSM_10523\n",
      "Processing: Alicyclobacillus_acidocaldarius_subsp_acidocaldarius_DSM_446\n",
      "Processing: Clostridium_cellulovorans_743B\n",
      "Processing: Campylobacter_coli_RM1875\n",
      "Processing: Bifidobacterium_dentium_Bd1\n",
      "Processing: Acidovorax_citrulli_AAC00-1\n",
      "Processing: Kocuria_rhizophila_DC2201\n",
      "Processing: Desulfovibrio_magneticus_RS-1\n",
      "Processing: Stackebrandtia_nassauensis_DSM_44728\n",
      "Processing: Gordonia_polyisoprenivorans_VH2\n",
      "Processing: Ignavibacterium_album_JCM_16511\n",
      "Processing: Candidatus_Solibacter_usitatus_Ellin6076\n",
      "Processing: Ilumatobacter_coccineus_YM16-304\n",
      "Processing: Edwardsiella_ictaluri_93-146\n",
      "Processing: Granulicella_tundricola_MP5ACTX9\n",
      "Processing: Cyanobacterium_stanieri_PCC_7202\n",
      "Processing: Caldicellulosiruptor_kristjanssonii_I77R1B\n",
      "Processing: Cronobacter_sakazakii_SP291\n",
      "Processing: Sulfurimonas_denitrificans_DSM_1251\n",
      "Processing: Pseudomonas_mandelii_JR-1\n",
      "Processing: Staphylococcus_haemolyticus_JCSC1435\n",
      "Processing: Mycobacterium_avium_subsp_avium_2285_R\n",
      "Processing: Croceibacter_atlanticus_HTCC2559\n",
      "Processing: Anaplasma_centrale_str_Israel\n",
      "Processing: Isoptericola_variabilis_225\n",
      "Processing: Corynebacterium_casei_LMG_S-19264\n",
      "Processing: Edwardsiella_piscicida_C07-087\n",
      "Processing: Crinalium_epipsammum_PCC_9333\n",
      "Processing: Mycobacterium_intracellulare_1956\n",
      "Processing: Nocardia_farcinica_IFM_10152\n",
      "Processing: Mycobacterium_africanum_GM041182\n",
      "Processing: Dyadobacter_fermentans_DSM_18053\n",
      "Processing: Polymorphum_gilvum_SL003B-26A1\n",
      "Processing: Erwinia_amylovora_LA636\n"
     ]
    }
   ],
   "source": [
    "runDir = '/home/nick/notebook/SIPSim/t/genome100/'\n",
    "!cd $runDir; \\\n",
    "    SIPSim DBL \\\n",
    "        --np 4 \\\n",
    "        ampFrag_skewN90-25-n5-nS_dif_kde.pkl \\\n",
    "        > ampFrag_skewN90-25-n5-nS_dif_DBL_kde.pkl "
   ]
  },
  {
   "cell_type": "markdown",
   "metadata": {},
   "source": [
    "# Plotting DBL index"
   ]
  },
  {
   "cell_type": "code",
   "execution_count": 71,
   "metadata": {
    "collapsed": false,
    "scrolled": false
   },
   "outputs": [
    {
     "data": {
      "image/png": "[encoded data removed]"
     },
     "metadata": {},
     "output_type": "display_data"
    }
   ],
   "source": [
    "%%R -w 600\n",
    "inFile = '/home/nick/notebook/SIPSim/t/genome100/DBL_index.txt'\n",
    "df = read.delim(inFile, sep='\\t') %>%\n",
    "    gather(pos, vert_grad_BD, vert_gradient_BD_low, vert_gradient_BD_high)\n",
    "\n",
    "# example\n",
    "df.ex = data.frame('DBL_BD' = c(1.667, 1.733), 'vert_grad_BD' = c(1.7, 1.7))\n",
    "\n",
    "# plot\n",
    "ggplot(df, aes(DBL_BD, vert_grad_BD, color=pos, group=DBL_BD)) +\n",
    "    #geom_point() +\n",
    "    geom_line(color='black', size=1) +\n",
    "    geom_point(data=df.ex, color='red', size=4) +\n",
    "    geom_line(data=df.ex, aes(group=vert_grad_BD), color='red', linetype='dashed', size=1.2) +\n",
    "    geom_vline(xintercept=1.774, linetype='dashed', alpha=0.5, color='blue') +  # theoretical max fragment BD\n",
    "    scale_y_reverse() +\n",
    "    labs(x='BD of DBL', y='BD of vertical gradient\\n(during fractionation)') +\n",
    "    theme_bw() +\n",
    "    theme(\n",
    "        text = element_text(size=16)\n",
    "    )"
   ]
  },
  {
   "cell_type": "code",
   "execution_count": 68,
   "metadata": {
    "collapsed": false
   },
   "outputs": [
    {
     "data": {
      "text/plain": [
       "[1] 1.600000 1.728997\n"
      ]
     },
     "metadata": {},
     "output_type": "display_data"
    }
   ],
   "source": [
    "%%R\n",
    "\n",
    "w = 17545933.74\n",
    "B = 1.14e9  \n",
    "r_min = 2.6\n",
    "r_max = 4.85\n",
    "\n",
    "gradientRange = function(w, B, r_min, r_max){\n",
    "    w / (2*B) * (r_max**2 - r_min**2)\n",
    "}\n",
    "\n",
    "gr = gradientRange(w, B, r_min, r_max)\n",
    "print(c(1.6, 1.6 + gr))"
   ]
  },
  {
   "cell_type": "code",
   "execution_count": 63,
   "metadata": {
    "collapsed": false
   },
   "outputs": [
    {
     "data": {
      "text/plain": [
       "  [1]        NaN        NaN        NaN        NaN        NaN        NaN\n",
       "  [7]        NaN        NaN        NaN        NaN        NaN        NaN\n",
       " [13]        NaN        NaN        NaN        NaN        NaN        NaN\n",
       " [19]        NaN        NaN        NaN        NaN        NaN        NaN\n",
       " [25]        NaN        NaN        NaN        NaN        NaN        NaN\n",
       " [31]        NaN        NaN        NaN        NaN        NaN        NaN\n",
       " [37]        NaN        NaN        NaN        NaN        NaN        NaN\n",
       " [43]        NaN        NaN        NaN        NaN        NaN        NaN\n",
       " [49]        NaN        NaN        NaN        NaN        NaN        NaN\n",
       " [55]        NaN        NaN        NaN        NaN        NaN        NaN\n",
       " [61]        NaN        NaN        NaN        NaN        NaN        NaN\n",
       " [67]        NaN        NaN        NaN        NaN        NaN        NaN\n",
       " [73]        NaN        NaN        NaN        NaN        NaN        NaN\n",
       " [79]        NaN        NaN        NaN        NaN        NaN        NaN\n",
       " [85]        NaN        NaN        NaN        NaN        NaN        NaN\n",
       " [91]        NaN        NaN        NaN        NaN        NaN        NaN\n",
       " [97]        NaN        NaN        NaN        NaN 0.05994632 0.36542879\n",
       "[103] 0.51330579 0.62723797 0.72344462 0.80828012 0.88502056 0.95561814\n",
       "[109] 1.02134747 1.08309524 1.14150775 1.19707334 1.25017167 1.30110486\n",
       "[115] 1.35011795 1.39741301 1.44315895 1.48749871 1.53055449 1.57243177\n",
       "[121] 1.61322234 1.65300664 1.69185566 1.72983243 1.76699317 1.80338834\n",
       "[127] 1.83906339 1.87405944 1.90841385 1.94216067 1.97533103 2.00795352\n",
       "[133] 2.04005440 2.07165794 2.10278654 2.13346101 2.16370065 2.19352346\n",
       "[139] 2.22294620 2.25198455 2.28065321 2.30896594 2.33693567 2.36457459\n",
       "[145] 2.39189415 2.41890518 2.44561789 2.47204197 2.49818657 2.52406038\n",
       "[151] 2.54967163 2.57502817 2.60013744 2.62500654 2.64964224 2.67405098\n",
       "[157] 2.69823892 2.72221195 2.74597570 2.76953555 2.79289667 2.81606400\n",
       "[163] 2.83904228 2.86183608 2.88444975 2.90688751 2.92915340 2.95125131\n",
       "[169] 2.97318498 2.99495802 3.01657392 3.03803601 3.05934756 3.08051166\n",
       "[175] 3.10153135 3.12240955 3.14314906 3.16375262 3.18422287 3.20456236\n",
       "[181] 3.22477357 3.24485889 3.26482064 3.28466109 3.30438241 3.32398673\n",
       "[187] 3.34347609 3.36285251 3.38211793 3.40127422 3.42032322 3.43926672\n",
       "[193] 3.45810645 3.47684409 3.49548130 3.51401965 3.53246072 3.55080602\n",
       "[199] 3.56905702 3.58721517 3.60528186\n"
      ]
     },
     "metadata": {},
     "output_type": "display_data"
    }
   ],
   "source": [
    "%%R\n",
    "#-- debug\n",
    "\n",
    "# cfg run\n",
    "w = 17545933.74\n",
    "D = 1.71\n",
    "B = 1.14e9  # CsCl at density of 1.70\n",
    "I = 3.781204\n",
    "\n",
    "\n",
    "BD2radius = function(x){ sqrt( ((x-D)*2*B/w) + I^2 ) }\n",
    "\n",
    "BDs = seq(1.5, 1.7, 0.001)\n",
    "sapply(BDs, BD2radius)"
   ]
  }
 ],
 "metadata": {
  "hide_input": true,
  "kernelspec": {
   "display_name": "Python 2",
   "language": "python",
   "name": "python2"
  },
  "language_info": {
   "codemirror_mode": {
    "name": "ipython",
    "version": 2
   },
   "file_extension": ".py",
   "mimetype": "text/x-python",
   "name": "python",
   "nbconvert_exporter": "python",
   "pygments_lexer": "ipython2",
   "version": "2.7.10"
  }
 },
 "nbformat": 4,
 "nbformat_minor": 0
}
