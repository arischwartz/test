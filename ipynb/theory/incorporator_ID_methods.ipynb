{
 "cells": [
  {
   "cell_type": "markdown",
   "metadata": {},
   "source": [
    "# Goal\n",
    "\n",
    "* Summary of the methods used by SIP studies to ID isotope incorporators\n",
    "  * focus on high throughput sequencing methods\n",
    " "
   ]
  },
  {
   "cell_type": "markdown",
   "metadata": {},
   "source": [
    "## 'Heavy' window method\n",
    "\n",
    "Anything found in the 'heavy' fraction is classified as an incorporator.\n",
    "\n",
    "* Methanotrophic bacteria in warm geothermal spring sediments identified using stable-isotope probing\n",
    "  * Christine E. Sharp, Azucena Martínez-Lorenzo, Allyson L. Brady, Stephen E. Grasby, Peter F. Dunfield\n",
    "  * https://femsec.oxfordjournals.org/content/90/1/92\n",
    "  * nucleotide: DNA\n",
    "  * gradient: CsCl\n",
    "  * isotope: 13CH4\n",
    "  * marker: pmoA\n",
    "  * sequencing: pyrosequencing\n",
    "  * heavy window: 1.72-1.74\t  \n",
    "  \n",
    "* Identification of Nitrogen-Incorporating Bacteria in Petroleum-Contaminated Arctic Soils by Using [15N]DNA-Based Stable Isotope Probing and Pyrosequencing\n",
    "  * Terrence H. Bell1,2, Etienne Yergeau2, Christine Martineau1,2, David Juck2, Lyle G. Whyte1 and Charles W. Greer2\n",
    "  * http://aem.asm.org/content/77/12/4163.full.pdf+html  \n",
    "  * nucleotide: DNA\n",
    "  * gradient: CsCl\n",
    "  * isotope: 15N-MAP\n",
    "  * marker: 16S rRNA\n",
    "  * sequencing: pyrosequencing\n",
    "  * heavy window: 1.727-1.735\n",
    "\n",
    "* Detection of autotrophic verrucomicrobial methanotrophs in a geothermal environment using stable isotope probing\n",
    "  * CE Sharp, MB Stott, PF Dunfield\n",
    "  * http://journal.frontiersin.org/article/10.3389/fmicb.2012.00303/abstract\n",
    "  * nucleotide: DNA\n",
    "  * gradient: CsCl\n",
    "  * isotope: 13C-CH4 + 13CO2\n",
    "  * marker: 16S rRNA\n",
    "  * sequencing: pyrosequencing\n",
    "  * heavy window: 1.73-1.75\n",
    "  * light window: 1.69\n",
    "  \n",
    "* Combining metagenomics with metaproteomics and stable isotope probing reveals metabolic pathways used by a naturally occurring marine methylotroph\n",
    "  * Carolina Grob,1† Martin Taubert, Alexandra M. Howat,1 Oliver J. Burns, Joanna L. Dixon,3 Hans H. Richnow,4, Nico Jehmlich,5 Martin von Bergen,5,6,7 Yin Chen8 and J. Colin Murrell1\n",
    "  * http://onlinelibrary.wiley.com/doi/10.1111/1462-2920.12935/full\n",
    "  * nucleotide: DNA\n",
    "  * gradient: CsCl\n",
    "  * isotope: 13C-methanol\n",
    "  * marker: 16S rRNA\n",
    "  * sequencing: pyrosequencing\n",
    "  * heavy window: 1.725\n",
    "  * light window: 1.7\n",
    "  \n",
    "\n",
    "\n",
    "* Identification of Cellulose-Responsive Bacterial and Fungal Communities in Geographically and Edaphically Different Soils by Using Stable Isotope Probing \n",
    "  * http://aem.asm.org/content/78/7/2316.full.pdf+html\n",
    "  * nucleotide: DNA\n",
    "  * gradient: CsCl\n",
    "  * isotope: 13C-cellulose\n",
    "  * marker: 16S rRNA\n",
    "  * sequencing: clone library + Sanger\n",
    "  * heavy window: ?!?!?!\n",
    "\n",
    "* http://onlinelibrary.wiley.com/doi/10.1111/j.1462-2920.2011.02501.x/epdf\n",
    "  * nucleotide: DNA\n",
    "  * gradient: CsCl\n",
    "  * isotope: 13C-PAHs\n",
    "  * marker: 16S rRNA\n",
    "  * sequencing: clone library + Sanger\n",
    "  * heavy window: ?!?!?!"
   ]
  },
  {
   "cell_type": "code",
   "execution_count": null,
   "metadata": {
    "collapsed": true
   },
   "outputs": [],
   "source": []
  }
 ],
 "metadata": {
  "hide_input": true,
  "kernelspec": {
   "display_name": "Python 2",
   "language": "python",
   "name": "python2"
  },
  "language_info": {
   "codemirror_mode": {
    "name": "ipython",
    "version": 2
   },
   "file_extension": ".py",
   "mimetype": "text/x-python",
   "name": "python",
   "nbconvert_exporter": "python",
   "pygments_lexer": "ipython2",
   "version": "2.7.11"
  }
 },
 "nbformat": 4,
 "nbformat_minor": 0
}
