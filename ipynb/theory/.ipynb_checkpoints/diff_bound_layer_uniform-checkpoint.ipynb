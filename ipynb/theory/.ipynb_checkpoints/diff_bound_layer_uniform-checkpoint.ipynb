{
 "cells": [
  {
   "cell_type": "markdown",
   "metadata": {},
   "source": [
    "# Goal\n",
    "\n",
    "* Assessing the effect on DNA molecule distribution if DNA becomes bound to cfg tube upon initial loading, then diffuses back into the CsCl solution at a constant rate as the gradient is being fractionated."
   ]
  },
  {
   "cell_type": "markdown",
   "metadata": {},
   "source": [
    "# Literative on diffusive boundary layers (DBL)\n",
    "\n",
    "## DNA binding to plastics\n",
    "\n",
    "* [blog on adsorbtion](http://core-genomics.blogspot.com/2014/03/how-long-can-you-store-your-ngs.html)\n",
    "  * 5-25% DNA adsorbed to polypropylene\n",
    "  * [Belotserkovkii](http://www.ncbi.nlm.nih.gov/pubmed/8539626)\n",
    "  * [whitepaper](https://www.researchgate.net/publication/228649995_Avoiding_DNA_loss_and_denaturation_upon_storage_in_plastic_microtubes)\n",
    "  * [Gaillard and Strauss](http://www.sciencedirect.com/science/article/pii/S1366212008701016)\n",
    "* http://www.sciencedirect.com/science/article/pii/S0003269703000514\n",
    "* http://ac.els-cdn.com/S0003269785712717/1-s2.0-S0003269785712717-main.pdf?_tid=5920ba7a-9acf-11e5-94e8-00000aacb362&acdnat=1449265285_3576aa92de9eb1df4e7f299ef05389ff\n",
    "* Beckman ultra-cfg tubes:\n",
    "  * http://www.centrifugebybeckman.com/?page_id=788/?pi_ad_id=62362322836&gclid=CLHP0c3gxckCFYQfHwodfp8CBg\n",
    "  * surface properties to **'prevent adherence of nucleic acids and proteins'**\n",
    "  \n",
    "## Diffusion of DNA \n",
    "\n",
    "* http://www.pnas.org/content/103/19/7310.full.pdf\n",
    "  * $D \\sim L^{-v}$\n",
    "    * $v_L$ = 0.571 +/- 0.014\n",
    "      * linear DNA\n",
    "    * L in microns\n",
    "    * D = uM^2/sec\n"
   ]
  },
  {
   "cell_type": "markdown",
   "metadata": {},
   "source": [
    "# Init"
   ]
  },
  {
   "cell_type": "code",
   "execution_count": 2,
   "metadata": {
    "collapsed": true
   },
   "outputs": [],
   "source": [
    "%load_ext rpy2.ipython"
   ]
  },
  {
   "cell_type": "code",
   "execution_count": 17,
   "metadata": {
    "collapsed": false
   },
   "outputs": [],
   "source": [
    "%%R\n",
    "library(readxl)\n",
    "library(dplyr)\n",
    "library(tidyr)\n",
    "library(ggplot2)"
   ]
  },
  {
   "cell_type": "markdown",
   "metadata": {},
   "source": [
    "# Setting parameters"
   ]
  },
  {
   "cell_type": "code",
   "execution_count": 5,
   "metadata": {
    "collapsed": false
   },
   "outputs": [],
   "source": [
    "%%R\n",
    "\n",
    "# tube characteristics\n",
    "tube_diam__mm = 13\n",
    "tube_height__mm = 48\n",
    "tube_round_bottom_height__mm = 6.5\n",
    "tube_capacity__ml = 4.7\n",
    "tube_composition = 'polypropylene'\n",
    "\n",
    "# rotor \n",
    "rotor_id = 'TLA-110'\n",
    "r_min__mm = 26\n",
    "r_ave__mm = 37.2\n",
    "r_max__mm = 48.5\n",
    "frac_tube_angle = 90 \n",
    "\n",
    "# cfg run\n",
    "## rpm of run\n",
    "rpm = 55000\n",
    "## angular velocity (w^2)\n",
    "angular_velocity = 17545933.74\n",
    "## average particle density\n",
    "ave_gradient_density = 1.70\n",
    "## beta^o  \n",
    "BetaO = 1.14e9  # CsCl at density of 1.70\n",
    "## position of particle at equilibrium \n",
    "particle_at_eq = 3.78 \n",
    "## max 13C shift\n",
    "max_13C_shift_in_BD = 0.036\n",
    "## min BD (that we care about)\n",
    "min_GC = 13.5\n",
    "min_BD = min_GC/100.0 * 0.098 + 1.66\n",
    "## max BD (that we care about)\n",
    "max_GC = 80\n",
    "max_BD = max_GC / 100.0 * 0.098 + 1.66    # 80.0% G+C\n",
    "max_BD = max_BD + max_13C_shift_in_BD\n",
    "\n",
    "# diffusive boundary layer (DBL)\n",
    "DBL_size_range__micron = c(10,100)\n",
    "perc_attached = c(0.1, 1, 10, 25)\n",
    "\n",
    "# misc\n",
    "fraction_vol__cm3 = 0.1"
   ]
  },
  {
   "cell_type": "markdown",
   "metadata": {},
   "source": [
    "# Relationship between amount of diffusion back into solution and time"
   ]
  },
  {
   "cell_type": "code",
   "execution_count": 12,
   "metadata": {
    "collapsed": false
   },
   "outputs": [
    {
     "data": {
      "text/plain": [
       "[1] 0.68\n"
      ]
     },
     "metadata": {},
     "output_type": "display_data"
    }
   ],
   "source": [
    "%%R\n",
    "# n_nucleotide ~ length__uM\n",
    "## 1 nucleotide = 3.4 angstroms\n",
    "## 1 angstrom = 0.0001 uM\n",
    "\n",
    "nNuc2uM = function(n){\n",
    "    # n = number of nucleotides in DNA polymer\n",
    "    ## returns in uM unit\n",
    "    n * 3.4 * 0.0001\n",
    "}\n",
    "\n",
    "DNA_bp = 2000   # length in bp\n",
    "DNA_uM = nNuc2uM(DNA_bp)\n",
    "DNA_uM"
   ]
  },
  {
   "cell_type": "code",
   "execution_count": 13,
   "metadata": {
    "collapsed": false
   },
   "outputs": [],
   "source": [
    "%%R\n",
    "\n",
    "len2diff = function(L){\n",
    "    # return units in uM^2/sec\n",
    "    L**-0.571\n",
    "    }\n",
    "\n",
    "DNA_D = len2diff(DNA_uM)"
   ]
  },
  {
   "cell_type": "code",
   "execution_count": 18,
   "metadata": {
    "collapsed": false
   },
   "outputs": [
    {
     "data": {
      "text/plain": [
       "[1] 16.04695\n",
       "[1] 160.4695\n"
      ]
     },
     "metadata": {},
     "output_type": "display_data"
    }
   ],
   "source": [
    "%%R\n",
    "# time to span DBL\n",
    "\n",
    "time2leave_DBL = function(D, DBL){\n",
    "    # return units in secs\n",
    "    DBL / (D / 2)\n",
    "}\n",
    "\n",
    "## Number of seconds to diffuse\n",
    "time2leave_DBL(DNA_D, 10) %>% print\n",
    "time2leave_DBL(DNA_D, 100) %>% print"
   ]
  },
  {
   "cell_type": "code",
   "execution_count": null,
   "metadata": {
    "collapsed": true
   },
   "outputs": [],
   "source": []
  }
 ],
 "metadata": {
  "hide_input": true,
  "kernelspec": {
   "display_name": "Python 2",
   "language": "python",
   "name": "python2"
  },
  "language_info": {
   "codemirror_mode": {
    "name": "ipython",
    "version": 2
   },
   "file_extension": ".py",
   "mimetype": "text/x-python",
   "name": "python",
   "nbconvert_exporter": "python",
   "pygments_lexer": "ipython2",
   "version": "2.7.10"
  }
 },
 "nbformat": 4,
 "nbformat_minor": 0
}
