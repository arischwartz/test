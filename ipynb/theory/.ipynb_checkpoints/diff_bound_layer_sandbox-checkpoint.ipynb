{
 "cells": [
  {
   "cell_type": "markdown",
   "metadata": {},
   "source": [
    "# Goal:\n",
    "\n",
    "* Basic assessment on whether the diffusive boundary layer of the ultracentrifugation tubes may be causing the broad OTU abundance distributions (most span the entire gradient)"
   ]
  },
  {
   "cell_type": "markdown",
   "metadata": {},
   "source": [
    "# Literative on diffusive boundary layers (DBL)\n",
    "\n",
    "## DNA binding to plastics\n",
    "\n",
    "* [blog on adsorbtion](http://core-genomics.blogspot.com/2014/03/how-long-can-you-store-your-ngs.html)\n",
    "  * 5-25% DNA adsorbed to polypropylene\n",
    "  * [Belotserkovkii](http://www.ncbi.nlm.nih.gov/pubmed/8539626)\n",
    "  * [whitepaper](https://www.researchgate.net/publication/228649995_Avoiding_DNA_loss_and_denaturation_upon_storage_in_plastic_microtubes)\n",
    "  * [Gaillard and Strauss](http://www.sciencedirect.com/science/article/pii/S1366212008701016)\n",
    "* http://www.sciencedirect.com/science/article/pii/S0003269703000514\n",
    "* http://ac.els-cdn.com/S0003269785712717/1-s2.0-S0003269785712717-main.pdf?_tid=5920ba7a-9acf-11e5-94e8-00000aacb362&acdnat=1449265285_3576aa92de9eb1df4e7f299ef05389ff\n",
    "* Beckman ultra-cfg tubes:\n",
    "  * http://www.centrifugebybeckman.com/?page_id=788/?pi_ad_id=62362322836&gclid=CLHP0c3gxckCFYQfHwodfp8CBg\n",
    "  * surface properties to 'prevent adherence of nucleic acids and proteins'\n",
    "  \n",
    "## Diffusion of DNA \n",
    "\n",
    "* http://www.pnas.org/content/103/19/7310.full.pdf\n",
    "  * $D \\sim L^{-v}$\n",
    "    * $v_L$ = 0.571 +/- 0.014\n",
    "      * linear DNA\n",
    "    * L in microns\n",
    "    * D = uM^2/sec"
   ]
  },
  {
   "cell_type": "markdown",
   "metadata": {},
   "source": [
    "# Init"
   ]
  },
  {
   "cell_type": "code",
   "execution_count": 9,
   "metadata": {
    "collapsed": false
   },
   "outputs": [
    {
     "name": "stdout",
     "output_type": "stream",
     "text": [
      "The rpy2.ipython extension is already loaded. To reload it, use:\n",
      "  %reload_ext rpy2.ipython\n"
     ]
    }
   ],
   "source": [
    "%load_ext rpy2.ipython"
   ]
  },
  {
   "cell_type": "code",
   "execution_count": 10,
   "metadata": {
    "collapsed": false
   },
   "outputs": [],
   "source": [
    "%%R\n",
    "library(readxl)\n",
    "library(dplyr)\n",
    "library(tidyr)\n",
    "library(ggplot2)\n",
    "library(rootSolve)"
   ]
  },
  {
   "cell_type": "markdown",
   "metadata": {},
   "source": [
    "# Setting parameters"
   ]
  },
  {
   "cell_type": "code",
   "execution_count": 11,
   "metadata": {
    "collapsed": true
   },
   "outputs": [],
   "source": [
    "%%R\n",
    "SIPdbFile = '/home/nick/db/SIPdb/DOE_SIP_db.xlsx'\n",
    "sheet.id = 'Fractions'"
   ]
  },
  {
   "cell_type": "code",
   "execution_count": 12,
   "metadata": {
    "collapsed": true
   },
   "outputs": [],
   "source": [
    "%%R\n",
    "\n",
    "# tube characteristics\n",
    "tube_diam__mm = 13\n",
    "tube_height__mm = 48\n",
    "tube_round_bottom_height__mm = 6.5\n",
    "tube_capacity__ml = 4.7\n",
    "tube_composition = 'polypropylene'\n",
    "\n",
    "# rotor \n",
    "rotor_id = 'TLA-110'\n",
    "r_min__mm = 26\n",
    "r_ave__mm = 37.2\n",
    "r_max__mm = 48.5\n",
    "frac_tube_angle = 90 \n",
    "\n",
    "# cfg run\n",
    "## rpm of run\n",
    "rpm = 55000\n",
    "## angular velocity (w^2)\n",
    "angular_velocity = 17545933.74\n",
    "## average particle density\n",
    "ave_gradient_density = 1.70\n",
    "## beta^o  \n",
    "BetaO = 1.14e9  # CsCl at density of 1.70\n",
    "## position of particle at equilibrium \n",
    "particle_at_eq = 3.78 \n",
    "## max 13C shift\n",
    "max_13C_shift_in_BD = 0.036\n",
    "## min BD (that we care about)\n",
    "min_GC = 13.5\n",
    "min_BD = min_GC/100.0 * 0.098 + 1.66\n",
    "## max BD (that we care about)\n",
    "max_GC = 80\n",
    "max_BD = max_GC / 100.0 * 0.098 + 1.66    # 80.0% G+C\n",
    "max_BD = max_BD + max_13C_shift_in_BD\n",
    "\n",
    "# diffusive boundary layer (DBL)\n",
    "DBL_size_range__micron = c(10,100)\n",
    "\n",
    "\n",
    "# misc\n",
    "fraction_vol__cm3 = 0.1"
   ]
  },
  {
   "cell_type": "code",
   "execution_count": 13,
   "metadata": {
    "collapsed": false
   },
   "outputs": [
    {
     "data": {
      "text/plain": [
       "Tube angle from axis of rotation: 27.95319 \n"
      ]
     },
     "metadata": {},
     "output_type": "display_data"
    }
   ],
   "source": [
    "%%R\n",
    "# rotor angle\n",
    "## sin(x) = opp / hypo\n",
    "## x = sin**-1(opp/hypo)\n",
    "\n",
    "rad2deg = function(rad) {\n",
    "    return((180 * rad) / pi)\n",
    "}\n",
    "deg2rad = function(deg){\n",
    "    return(deg * pi / 180)\n",
    "}\n",
    "\n",
    "\n",
    "x = r_max__mm - r_min__mm \n",
    "hyp = tube_height__mm\n",
    "rotor_tube_angle = rad2deg(asin(x / hyp))\n",
    "cat(\"Tube angle from axis of rotation:\", rotor_tube_angle, \"\\n\")"
   ]
  },
  {
   "cell_type": "code",
   "execution_count": 14,
   "metadata": {
    "collapsed": false
   },
   "outputs": [
    {
     "data": {
      "text/plain": [
       "[1] 0.4878751\n"
      ]
     },
     "metadata": {},
     "output_type": "display_data"
    }
   ],
   "source": [
    "%%R\n",
    "x = r_max__mm - r_min__mm \n",
    "hyp = tube_height__mm\n",
    "asin(x / hyp)"
   ]
  },
  {
   "cell_type": "markdown",
   "metadata": {},
   "source": [
    "## Isoconcentration point \n",
    "\n",
    "* Formula 6.7 in Birnine and Rickwood 1978"
   ]
  },
  {
   "cell_type": "code",
   "execution_count": 15,
   "metadata": {
    "collapsed": false
   },
   "outputs": [
    {
     "data": {
      "text/plain": [
       "Isoconcentration point: 3.781204 (cm)\n"
      ]
     },
     "metadata": {},
     "output_type": "display_data"
    }
   ],
   "source": [
    "%%R\n",
    "# isoconcentration point\n",
    "r_top = r_min__mm / 10\n",
    "r_bottom = r_max__mm / 10\n",
    "I__cm = sqrt((r_top**2 + r_top * r_bottom + r_bottom**2)/3)\n",
    "\n",
    "cat('Isoconcentration point:', I__cm, '(cm)\\n')"
   ]
  },
  {
   "cell_type": "markdown",
   "metadata": {},
   "source": [
    "## Fraction size range (based on previous run data)"
   ]
  },
  {
   "cell_type": "code",
   "execution_count": 16,
   "metadata": {
    "collapsed": false
   },
   "outputs": [
    {
     "data": {
      "text/plain": [
       "      sample_id gradient_date fractionation_date fraction_id well_id     RI\n",
       "1 13C-Ami.D3.R1    2015-01-27         2015-01-30           1      A1 1.4075\n",
       "2 13C-Ami.D3.R1    2015-01-27         2015-01-30           2      B1 1.4071\n",
       "3 13C-Ami.D3.R1    2015-01-27         2015-01-30           3      C1 1.4067\n",
       "  RI_corrected       BD volume experiment\n",
       "1       1.4059 1.770113     NA    fullCyc\n",
       "2       1.4055 1.765742     NA    fullCyc\n",
       "3       1.4051 1.761371     NA    fullCyc\n"
      ]
     },
     "metadata": {},
     "output_type": "display_data"
    }
   ],
   "source": [
    "%%R\n",
    "# loading SIPdb info\n",
    "df.SIPdb = read_excel(SIPdbFile, sheet=sheet.id)\n",
    "df.SIPdb %>% head(n=3) %>% as.data.frame "
   ]
  },
  {
   "cell_type": "code",
   "execution_count": 17,
   "metadata": {
    "collapsed": false
   },
   "outputs": [
    {
     "data": {
      "text/plain": [
       "    Min.  1st Qu.   Median     Mean  3rd Qu.     Max.     NA's \n",
       "-0.00219  0.00328  0.00437  0.00440  0.00546  0.01748      120 \n"
      ]
     },
     "metadata": {},
     "output_type": "display_data"
    },
    {
     "data": {
      "image/png": "[encoded data removed]"
     },
     "metadata": {},
     "output_type": "display_data"
    }
   ],
   "source": [
    "%%R -w 550 -h 300\n",
    "# BD range\n",
    "df.SIPdb = df.SIPdb %>%\n",
    "    group_by(sample_id, fractionation_date) %>%\n",
    "    arrange(fraction_id) %>%\n",
    "    mutate(BD_range = BD - lead(BD)) \n",
    "\n",
    "df.SIPdb$BD_range %>% summary %>% print\n",
    "\n",
    "ggplot(df.SIPdb, aes(BD_range)) + \n",
    "    geom_histogram(binwidth=0.001) +\n",
    "    labs(x = 'gradient fraction size (delta BD)') +\n",
    "    theme_bw() +\n",
    "    theme(\n",
    "        text = element_text(size=16)\n",
    "    )"
   ]
  },
  {
   "cell_type": "code",
   "execution_count": 18,
   "metadata": {
    "collapsed": true
   },
   "outputs": [],
   "source": [
    "%%R\n",
    "# fraction size range (1st & 3rd quartiles)\n",
    "frac_size_range__BD = c(0.003, 0.005)"
   ]
  },
  {
   "cell_type": "markdown",
   "metadata": {},
   "source": [
    "## band width distribution\n",
    "\n",
    "* tube height of fraction = volume of fraction \n",
    "\n",
    "$100 ul = 0.1 cm^3$\n",
    "\n",
    "$v = pi*r^2*h$\n",
    "\n",
    "$h = v / (pi * r^2)$"
   ]
  },
  {
   "cell_type": "code",
   "execution_count": 19,
   "metadata": {
    "collapsed": false
   },
   "outputs": [
    {
     "data": {
      "text/plain": [
       "The height of each fraction in vertically oriented tube: 0.07533962 (cm)\n",
       "(Just applies to cylinder)\n"
      ]
     },
     "metadata": {},
     "output_type": "display_data"
    }
   ],
   "source": [
    "%%R\n",
    "frac_size__ul = 100\n",
    "frac_vol__cm3 = frac_size__ul / 1000\n",
    "tube_radius__cm = tube_diam__mm / (2 * 10)\n",
    "frac_height = frac_vol__cm3 / (pi * tube_radius__cm **2)\n",
    "cat('The height of each fraction in vertically oriented tube:', frac_height, '(cm)\\n')\n",
    "cat('(Just applies to cylinder)\\n')"
   ]
  },
  {
   "cell_type": "code",
   "execution_count": 20,
   "metadata": {
    "collapsed": false
   },
   "outputs": [
    {
     "data": {
      "text/plain": [
       "Tube bottom volume: 0.5751733 (cm^3)\n",
       "Number of fractions in tube bottom: 5.751733 \n"
      ]
     },
     "metadata": {},
     "output_type": "display_data"
    }
   ],
   "source": [
    "%%R\n",
    "# round bottom volume = (4/3 * pi * r**3) / 2\n",
    "tube_radius__cm = tube_diam__mm / (2*10)\n",
    "bottom_volume__cm3 = (4/3 * pi * tube_radius__cm**3) / 2\n",
    "cat('Tube bottom volume:', bottom_volume__cm3, '(cm^3)\\n') \n",
    "cat('Number of fractions in tube bottom:', bottom_volume__cm3 / 0.1, '\\n')"
   ]
  },
  {
   "cell_type": "code",
   "execution_count": 21,
   "metadata": {
    "collapsed": false
   },
   "outputs": [
    {
     "data": {
      "text/plain": [
       "Source: local data frame [6 x 3]\n",
       "Groups: sample_id [3]\n",
       "\n",
       "       sample_id fractionation_date BD_heaviest\n",
       "           (chr)             (time)       (dbl)\n",
       "1 12C-Con.D14.R1         2015-02-23    1.769020\n",
       "2 12C-Con.D14.R1         2015-07-17    1.771206\n",
       "3  12C-Con.D1.R2         2015-02-16    1.769020\n",
       "4  12C-Con.D1.R2         2015-06-26    1.773391\n",
       "5 12C-Con.D30.R1         2015-03-09    1.772298\n",
       "6 12C-Con.D30.R1         2015-05-04    1.766835\n"
      ]
     },
     "metadata": {},
     "output_type": "display_data"
    }
   ],
   "source": [
    "%%R\n",
    "df.SIPdb.f = df.SIPdb %>%\n",
    "    filter(BD <= max_BD) %>%\n",
    "    arrange(fraction_id) %>%\n",
    "    group_by(sample_id, fractionation_date) %>%\n",
    "    summarize(BD_heaviest = first(BD)) %>% head %>% print"
   ]
  },
  {
   "cell_type": "code",
   "execution_count": 22,
   "metadata": {
    "collapsed": false
   },
   "outputs": [
    {
     "data": {
      "image/png": "[encoded data removed]"
     },
     "metadata": {},
     "output_type": "display_data"
    }
   ],
   "source": [
    "%%R \n",
    "# plotting fraction vs fraction height in verticle tube\n",
    "## calculating culmulative fraction height\n",
    "df.SIPdb = df.SIPdb %>%\n",
    "    ungroup() %>%\n",
    "    mutate(frac_height = frac_height) %>%\n",
    "    group_by(sample_id, fractionation_date) %>%\n",
    "    arrange(fraction_id) %>%\n",
    "    mutate(cum_frac_height = cumsum(frac_height))\n",
    "\n",
    "## first fraction kept (max BD fraction used for each gradient)\n",
    "heavy.frac = df.SIPdb %>%\n",
    "    filter(BD <= max_BD) %>%\n",
    "    arrange(fraction_id) %>%\n",
    "    group_by(sample_id, fractionation_date) %>%\n",
    "    summarize(BD_heaviest = first(BD))\n",
    "heavy.frac = inner_join(heavy.frac, df.SIPdb, c('sample_id' = 'sample_id',\n",
    "                                        'fractionation_date' = 'fractionation_date',\n",
    "                                        'BD_heaviest' = 'BD')) %>%\n",
    "    select(sample_id, fractionation_date, BD_heaviest, cum_frac_height, BD_range, fraction_id) \n",
    "\n",
    "\n",
    "## plotting\n",
    "ggplot(df.SIPdb, aes(cum_frac_height, BD_range)) +\n",
    "    geom_density2d() +\n",
    "    geom_rug(data=heavy.frac, sides='b', size=1, alpha=0.25, aes(color=fraction_id)) +\n",
    "    #geom_point(alpha=0.25) +\n",
    "    #stat_smooth(formula= y ~ poly(x, 2), method='lm') +\n",
    "    labs(x='Height of fraction\\nfrom tube bottom (cm)', y='BD span of fraction') +\n",
    "    theme_bw() +\n",
    "    theme(\n",
    "        text = element_text(size=16)\n",
    "    )"
   ]
  },
  {
   "cell_type": "code",
   "execution_count": 23,
   "metadata": {
    "collapsed": false
   },
   "outputs": [
    {
     "data": {
      "text/plain": [
       "   Min. 1st Qu.  Median    Mean 3rd Qu.    Max. \n",
       "0.07534 0.37670 0.37670 0.39240 0.45200 0.52740 \n",
       "   Min. 1st Qu.  Median    Mean 3rd Qu.    Max. \n",
       "  1.000   5.000   5.000   5.208   6.000   7.000 \n"
      ]
     },
     "metadata": {},
     "output_type": "display_data"
    }
   ],
   "source": [
    "%%R\n",
    "# summary of where in tube the heaviest fraction is used (cm from the bottom)\n",
    "heavy.frac$cum_frac_height %>% summary %>% print\n",
    "heavy.frac$fraction_id %>% summary %>% print"
   ]
  },
  {
   "cell_type": "markdown",
   "metadata": {},
   "source": [
    "#### Figure description:\n",
    "\n",
    "* rug plot is showing the heaviest gradient fraction actually used further in SIP pipeline\n",
    "\n",
    "#### Notes: \n",
    "\n",
    "* similar to Flamm et al., 1972 on fixed angle rotors\n",
    "* near the bottom of the tube, the density changes most rapidly\n",
    "  * smaller bandwidths at bottom of the tube"
   ]
  },
  {
   "cell_type": "markdown",
   "metadata": {},
   "source": [
    "## Converting verticle bandwidth to angled bandwidth\n",
    "\n",
    "* Flamm et al., 1966\n",
    "\n",
    "Width of band in angled rotor (at speed):\n",
    " \n",
    "$w = \\frac{V}{\\pi*r*b}$\n",
    "\n",
    "Width of band in vertical position:\n",
    "\n",
    "$w' = \\frac{V}{\\pi*r^2}$\n",
    "\n",
    "Where:\n",
    "\n",
    "* V = common volume\n",
    "* r = tube radius\n",
    "* b = band ellipse major axis (at speed)"
   ]
  },
  {
   "cell_type": "markdown",
   "metadata": {},
   "source": [
    "# surface to volume ratio of each fraction"
   ]
  },
  {
   "cell_type": "markdown",
   "metadata": {},
   "source": [
    "## Rough approximation"
   ]
  },
  {
   "cell_type": "code",
   "execution_count": 24,
   "metadata": {
    "collapsed": false
   },
   "outputs": [],
   "source": [
    "%%R\n",
    "frac_size__mm = 1\n",
    "tube_diam__mm = 13\n",
    "DBL_size__mm = 0.1"
   ]
  },
  {
   "cell_type": "code",
   "execution_count": 25,
   "metadata": {
    "collapsed": false
   },
   "outputs": [
    {
     "data": {
      "text/plain": [
       "Percent of fraction that is DBL: 0.0188349%\n"
      ]
     },
     "metadata": {},
     "output_type": "display_data"
    }
   ],
   "source": [
    "%%R\n",
    "tube_circ = 2 * pi * tube_diam__mm**2\n",
    "nonDBL_circ = tube_circ - 2 * DBL_size__mm\n",
    "frac_vol = tube_circ * frac_size__mm\n",
    "nonDBL_vol = nonDBL_circ * frac_size__mm\n",
    "DBL_vol = frac_vol - nonDBL_vol\n",
    "DBL_to_frac = DBL_vol / frac_vol * 100\n",
    "\n",
    "cat('Percent of fraction that is DBL: ', DBL_to_frac, '%\\n', sep='')"
   ]
  },
  {
   "cell_type": "markdown",
   "metadata": {},
   "source": [
    "# Stability of gradient\n",
    "\n",
    "$t = 0.3(r_b - r_t)^2$\n",
    "\n",
    "* r unit: cm\n",
    "* t unit: hours"
   ]
  },
  {
   "cell_type": "code",
   "execution_count": 26,
   "metadata": {
    "collapsed": false
   },
   "outputs": [
    {
     "data": {
      "text/plain": [
       "Time span of stability: 1.51875 (h)\n"
      ]
     },
     "metadata": {},
     "output_type": "display_data"
    }
   ],
   "source": [
    "%%R\n",
    "r_t = r_min__mm / 10\n",
    "r_b = r_max__mm / 10\n",
    "t = 0.3 * (r_b - r_t)**2\n",
    "cat('Time span of stability:', t, '(h)\\n')"
   ]
  },
  {
   "cell_type": "markdown",
   "metadata": {},
   "source": [
    "# Tube position of fraction (during spin; at equilibrium)\n",
    "\n",
    "* angled tube: this sets up the diffusive boundary layer\n",
    "* Determining tube location of each density band:\n",
    "  * For density range of interest:\n",
    "    * determine location range in tube\n",
    "* Determining where each density band touched on the tube during ultracentrifugation:\n",
    "  * gradient is basically a set of ellipsoids (angled cross sections) of the tube (cylinder)\n",
    "    * Need to determine the ellipsoid main axis diameter for each position in the gradient\n",
    "  * For each location range in tube (see above):\n",
    "    * Determine the ellipsoid major axis length\n",
    "    * Determine the tube side wall locations (bottom & top) for the ellipsoid\n",
    "      * This is the location of the diffusive boundary layer for the ellispoid"
   ]
  },
  {
   "cell_type": "markdown",
   "metadata": {},
   "source": [
    "## Tube location of each density band\n",
    "\n",
    "Density at a given radius from axis of rotation:\n",
    "\n",
    "$ x = \\big(\\frac{w^2}{2*\\beta^o} * (r_d^2 - I^2)\\big) + D$\n",
    "\n",
    "* where:\n",
    "  * $x$ = density at a given radius\n",
    "  * $w^2$ = angular velocity\n",
    "  * $\\beta^o$ = beta coef\n",
    "  * $r_d$ = radius of desired density (cm)\n",
    "  * $I$ = isocencentration point (cm)\n",
    "  * $D$ = average density of gradient\n",
    "  \n",
    "\n",
    "Radius from axis of rotation for a given density:\n",
    "\n",
    "$ r_d = \\sqrt{\\frac{(x - D) * 2\\beta^o}{w^2} + I^2} $\n",
    "\n",
    "\n",
    "\n"
   ]
  },
  {
   "cell_type": "code",
   "execution_count": 27,
   "metadata": {
    "collapsed": false
   },
   "outputs": [
    {
     "data": {
      "text/plain": [
       "isoconcentration point: 3.781204 \n",
       "radius range for BD-min to BD-max:  3.289207 to 4.895445 \n"
      ]
     },
     "metadata": {},
     "output_type": "display_data"
    }
   ],
   "source": [
    "%%R\n",
    "BD2radius = function(x, D, BetaO, w2, I){\n",
    "    sqrt( ((x-D)*2*BetaO/w2) + I^2)\n",
    "}\n",
    "  \n",
    "min_BD_r = BD2radius(min_BD, ave_gradient_density, BetaO, angular_velocity, I__cm)\n",
    "max_BD_r = BD2radius(max_BD, ave_gradient_density, BetaO, angular_velocity, I__cm)\n",
    "\n",
    "cat('isoconcentration point:', I__cm, '\\n')\n",
    "cat('radius range for BD-min to BD-max: ', min_BD_r, 'to', max_BD_r, '\\n')"
   ]
  },
  {
   "cell_type": "markdown",
   "metadata": {},
   "source": [
    "## Geometry of a angled cross sections in the ultracentrifugation tube"
   ]
  },
  {
   "cell_type": "code",
   "execution_count": 117,
   "metadata": {
    "collapsed": false
   },
   "outputs": [
    {
     "data": {
      "text/plain": [
       "ellipsoid major axis length in tube (cylinder) cross section: 2.664616 (cm)\n"
      ]
     },
     "metadata": {},
     "output_type": "display_data"
    }
   ],
   "source": [
    "%%R\n",
    "tube_diam__cm = tube_diam__mm / 10\n",
    "elps_main_axis__cm = tube_diam__cm / deg2rad(rotor_tube_angle) \n",
    "cat('ellipsoid major axis length in tube (cylinder) cross section:', elps_main_axis__cm, '(cm)\\n')"
   ]
  },
  {
   "cell_type": "code",
   "execution_count": 29,
   "metadata": {
    "collapsed": false
   },
   "outputs": [
    {
     "data": {
      "text/plain": [
       "radius position where round bottom comes into play: 3.55 \n"
      ]
     },
     "metadata": {},
     "output_type": "display_data"
    }
   ],
   "source": [
    "%%R\n",
    "# radius position where rounded tube bottom affects ellipsoid major axis \n",
    "## should just be round bottom diameter\n",
    "round_bottom_diam__cm = tube_diam__mm / 10\n",
    "r_round_bottom = r_max__mm / 10 - round_bottom_diam__cm\n",
    "cat('radius position where round bottom comes into play:', r_round_bottom, '\\n')"
   ]
  },
  {
   "cell_type": "markdown",
   "metadata": {},
   "source": [
    "#### Notes:\n",
    "\n",
    "* Need to take into account round bottom because it falls into the radius range for BD min-max"
   ]
  },
  {
   "cell_type": "markdown",
   "metadata": {},
   "source": [
    "## Tube position of band (angled tube top & bottom) as a function distance from axis of rotation\n",
    "\n",
    ">Thanks Sam!"
   ]
  },
  {
   "cell_type": "code",
   "execution_count": 30,
   "metadata": {
    "collapsed": false
   },
   "outputs": [
    {
     "data": {
      "text/plain": [
       "[1] 1.079949 1.288330\n"
      ]
     },
     "metadata": {},
     "output_type": "display_data"
    }
   ],
   "source": [
    "%%R\n",
    "## Equation for lower point of band in the rounded part of tube\n",
    "distFromAxis2angleTubePos = function(x, r, D, A){\n",
    "    # x = a distance from the axis of rotation\n",
    "    # r = radius of cfg tube\n",
    "    # D = max tube distance from axis of rotation\n",
    "    # A = angle of tube to axis of rotation (degrees)\n",
    "    if(x >= D-(r*aspace::cos_d(A))-r) {\n",
    "      d = D - x\n",
    "      hv = sqrt(d*(2*r-d))\n",
    "      if (x >= D-(r-r*aspace::sin_d(A))) {\n",
    "        a = (90-A)-aspace::asin_d(hv/r)\n",
    "      }\n",
    "      else if (x < D-(r-r*aspace::sin_d(A))) {\n",
    "        a = -(90-A)-aspace::asin_d(hv/r)\n",
    "      }\n",
    "      LowH = r-r*aspace::cos_d(a)\n",
    "      #print(LowH)\n",
    "    }\n",
    "    \n",
    "    ## Equation for lower point of band in column part of tube\n",
    "    \n",
    "    if(x < D-(r*aspace::cos_d(A))-r) {\n",
    "     d = D-x-r\n",
    "     hc = d/aspace::sin_d(A)\n",
    "     LowH = r+hc\n",
    "     #print(LowH)\n",
    "    }\n",
    "    \n",
    "    ## Equation for upper point of band in rounded part of tube\n",
    "    \n",
    "    if(x > D-(r-r*aspace::cos_d(A))) {\n",
    "      d = D - x\n",
    "      hv = sqrt(d*(2*r-d))\n",
    "      a = (90-A)+aspace::asin_d(hv/r)\n",
    "      HighH = r-r*aspace::cos_d(a)\n",
    "      #print(HighH)\n",
    "    }\n",
    "    \n",
    "    ## Equation for upper point of band in cylindrical part of tube\n",
    "    if(x <= D-(r-r*aspace::cos_d(A))) {\n",
    "      d = D-(r-r*aspace::cos_d(A))-x\n",
    "      hc = d/aspace::sin_d(A)\n",
    "      HighH = r+hc\n",
    "      #print(HighH)\n",
    "    }\n",
    "    return(c(LowH, HighH))\n",
    "}\n",
    "\n",
    "# test\n",
    "r = 0.65   # radius of tube\n",
    "D = 4.85   # distance from axis of rotation to furthest part of tube\n",
    "A = 37.95  # angle of tube to axis of rotation (degrees)\n",
    "x = 4.32    # some distance from axis of rotation (from equation)\n",
    "\n",
    "distFromAxis2angleTubePos(x, r, D, A)"
   ]
  },
  {
   "cell_type": "code",
   "execution_count": 95,
   "metadata": {
    "collapsed": false
   },
   "outputs": [
    {
     "data": {
      "text/plain": [
       "[1] 0.2200512 1.2883299\n"
      ]
     },
     "metadata": {},
     "output_type": "display_data"
    }
   ],
   "source": [
    "%%R\n",
    "## Equation for lower point of band in the rounded part of tube\n",
    "distFromAxis2angleTubePos = function(x, r, D, A){    \n",
    "    if(x >= D-(r*aspace::cos_d(A))-r) {\n",
    "      if (x >= D-(r-r*aspace::sin_d(A))) {\n",
    "        d = D - x\n",
    "        hv = sqrt(d*(2*r-d))\n",
    "        a = (90-A)-aspace::asin_d(hv/r)\n",
    "      } else{\n",
    "        d = r-(D-x-r)\n",
    "        hv = sqrt(d*(2*r-d))\n",
    "        a = (90+A)-aspace::asin_d(hv/r)\n",
    "      }\n",
    "      LowH = r-r*aspace::cos_d(a)\n",
    "      #print(LowH)                ## This band will be in the rounded part\n",
    "    } else {\n",
    "     d = D-(r*aspace::cos_d(A))-r-x\n",
    "     hc = d/aspace::sin_d(A)\n",
    "     LowH = r+hc\n",
    "     #print(LowH)                 ## This band will be in the cylinder part\n",
    "    }\n",
    "    \n",
    "    ## Equation for upper point of band\n",
    "    \n",
    "    if(x > D-(r-r*aspace::cos_d(A))) {\n",
    "      d = D - x\n",
    "      hv = sqrt(d*(2*r-d))\n",
    "      a = (90-A)+aspace::asin_d(hv/r)\n",
    "      HighH = r-r*aspace::cos_d(a)\n",
    "      #print(HighH)                ## This band will be in the rounded part\n",
    "    } else {\n",
    "      d = D-(r-r*aspace::cos_d(A))-x\n",
    "      hc = d/aspace::sin_d(A)\n",
    "      HighH = r+hc\n",
    "      #print(HighH)                ## This band will be in the cylinder part\n",
    "    }   \n",
    "    return(c(LowH, HighH))\n",
    "}\n",
    "        # test\n",
    "r = 0.65   # radius of tube\n",
    "D = 4.85   # distance from axis of rotation to furthest part of tube\n",
    "A = 37.95  # angle of tube to axis of rotation (degrees)\n",
    "x = 4.32    # some distance from axis of rotation (from equation)\n",
    "\n",
    "distFromAxis2angleTubePos(x, r, D, A)"
   ]
  },
  {
   "cell_type": "markdown",
   "metadata": {},
   "source": [
    "## tube\\_band\\_position ~ BD\n",
    "\n",
    "* For tube in rotor with gradient at equilibrium, where on the tube height does each gradient band touch\n",
    "  * Both bottom of tube and top \n",
    "  \n",
    "  ~~~\n",
    "         /  /\n",
    "  top-->/  /\n",
    "       /| /\n",
    "      / |/\n",
    "     (  /<--bottom\n",
    "      ^^\n",
    "~~~      \n",
    "      "
   ]
  },
  {
   "cell_type": "code",
   "execution_count": 96,
   "metadata": {
    "collapsed": false
   },
   "outputs": [
    {
     "data": {
      "text/plain": [
       "  tube_low__cm tube_high__cm      BD particle_pos\n",
       "1     2.348916      3.573801 1.67323     3.289207\n",
       "2     2.306902      3.531787 1.67423     3.308901\n",
       "3     2.265136      3.490021 1.67523     3.328479\n",
       "4     2.223614      3.448500 1.67623     3.347942\n",
       "5     2.182333      3.407218 1.67723     3.367293\n",
       "6     2.141287      3.366173 1.67823     3.386533\n"
      ]
     },
     "metadata": {},
     "output_type": "display_data"
    }
   ],
   "source": [
    "%%R\n",
    "# params\n",
    "tube_radius__cm = tube_diam__mm / (2*20)\n",
    "r_max__cm = r_max__mm / 10\n",
    "## sequence of BD values in gradient\n",
    "BDs = seq(min_BD, max_BD, 0.001)\n",
    "## converting BD to position in gradient (assuming equilibrium)\n",
    "rads = sapply(BDs, BD2radius, \n",
    "              D=ave_gradient_density, \n",
    "              BetaO=BetaO, \n",
    "              w2=angular_velocity, \n",
    "              I=I__cm)\n",
    "\n",
    "# converting to band position in gradient to position in vertical tube height\n",
    "angle.tube.pos = sapply(rads, distFromAxis2angleTubePos, \n",
    "                        r=tube_radius__cm, \n",
    "                        D=r_max__cm, \n",
    "                        A=rotor_tube_angle)\n",
    "angle.tube.pos = angle.tube.pos %>% t %>% as.data.frame\n",
    "colnames(angle.tube.pos) = c('tube_low__cm', 'tube_high__cm')\n",
    "angle.tube.pos$BD = BDs\n",
    "angle.tube.pos$particle_pos = rads \n",
    "angle.tube.pos %>% head"
   ]
  },
  {
   "cell_type": "code",
   "execution_count": 97,
   "metadata": {
    "collapsed": false
   },
   "outputs": [
    {
     "data": {
      "image/png": "[encoded data removed]"
     },
     "metadata": {},
     "output_type": "display_data"
    }
   ],
   "source": [
    "%%R -w 600\n",
    "# plotting\n",
    "angle.tube.pos.g = angle.tube.pos %>%\n",
    "    gather(tube_pos, tube_pos__cm, tube_low__cm, tube_high__cm)\n",
    "\n",
    "ggplot(angle.tube.pos.g, aes(BD, tube_pos__cm, color=tube_pos, group=BD)) +\n",
    "    geom_point() +\n",
    "    geom_line(alpha=0.5) +\n",
    "    labs(x='Particle buoyant density', y='Band position on tube wall (cm)') +\n",
    "    theme_bw() +\n",
    "    theme(\n",
    "        text = element_text(size=18)\n",
    "    )"
   ]
  },
  {
   "cell_type": "markdown",
   "metadata": {},
   "source": [
    "## Misc"
   ]
  },
  {
   "cell_type": "code",
   "execution_count": 178,
   "metadata": {
    "collapsed": false
   },
   "outputs": [
    {
     "data": {
      "text/plain": [
       "The height of each fraction in vertically oriented tube: 0.07533962 (cm)\n",
       "(Just applies to cylinder)\n"
      ]
     },
     "metadata": {},
     "output_type": "display_data"
    }
   ],
   "source": [
    "%%R\n",
    "frac_size__ul = 100\n",
    "frac_vol__cm3 = frac_size__ul / 1000\n",
    "tube_radius__cm = tube_diam__mm / (2 * 10)\n",
    "frac_height = frac_vol__cm3 / (pi * tube_radius__cm **2)\n",
    "cat('The height of each fraction in vertically oriented tube:', frac_height, '(cm)\\n')\n",
    "cat('(Just applies to cylinder)\\n')"
   ]
  },
  {
   "cell_type": "code",
   "execution_count": 179,
   "metadata": {
    "collapsed": false
   },
   "outputs": [
    {
     "data": {
      "text/plain": [
       "Tube bottom volume: 0.5751733 (cm^3)\n",
       "Number of fractions in tube bottom: 5.751733 \n"
      ]
     },
     "metadata": {},
     "output_type": "display_data"
    }
   ],
   "source": [
    "%%R\n",
    "# round bottom volume = (4/3 * pi * r**3) / 2\n",
    "tube_radius__cm = tube_diam__mm / (2*10)\n",
    "bottom_volume__cm3 = (4/3 * pi * tube_radius__cm**3) / 2\n",
    "cat('Tube bottom volume:', bottom_volume__cm3, '(cm^3)\\n') \n",
    "cat('Number of fractions in tube bottom:', bottom_volume__cm3 / 0.1, '\\n')\n",
    "\n",
    "# need to determine the tube height of each of these first 6 fractions"
   ]
  },
  {
   "cell_type": "code",
   "execution_count": 180,
   "metadata": {
    "collapsed": false
   },
   "outputs": [
    {
     "data": {
      "text/plain": [
       "Source: local data frame [6 x 3]\n",
       "Groups: sample_id [3]\n",
       "\n",
       "       sample_id fractionation_date BD_heaviest\n",
       "           (chr)             (time)       (dbl)\n",
       "1 12C-Con.D14.R1         2015-02-23    1.769020\n",
       "2 12C-Con.D14.R1         2015-07-17    1.771206\n",
       "3  12C-Con.D1.R2         2015-02-16    1.769020\n",
       "4  12C-Con.D1.R2         2015-06-26    1.773391\n",
       "5 12C-Con.D30.R1         2015-03-09    1.772298\n",
       "6 12C-Con.D30.R1         2015-05-04    1.766835\n"
      ]
     },
     "metadata": {},
     "output_type": "display_data"
    }
   ],
   "source": [
    "%%R\n",
    "df.SIPdb.f = df.SIPdb %>%\n",
    "    filter(BD <= max_BD) %>%\n",
    "    arrange(fraction_id) %>%\n",
    "    group_by(sample_id, fractionation_date) %>%\n",
    "    summarize(BD_heaviest = first(BD)) %>% head %>% print"
   ]
  },
  {
   "cell_type": "markdown",
   "metadata": {},
   "source": [
    "# Tube position of fraction in vertical position\n",
    "\n",
    "* For each density band:\n",
    "  * Determine the height in the tube\n",
    "  * This will rely on empirical data to determine the relationship between BD and tube height (vertical position)"
   ]
  },
  {
   "cell_type": "markdown",
   "metadata": {},
   "source": [
    "## Relationship between density and tube height\n",
    "\n",
    "* volume ~ BD\n",
    "* tube height ~ volume"
   ]
  },
  {
   "cell_type": "markdown",
   "metadata": {},
   "source": [
    "### tube height ~ volume\n",
    "\n",
    "Cylinder volume:\n",
    "\n",
    "$v = \\pi r^2$ h\n",
    "\n",
    "Sphere volume:\n",
    "\n",
    "$v = \\frac{4}{3} \\pi r^3$\n",
    "\n",
    "Spherical cap volume:\n",
    "\n",
    "$V = \\frac{\\pi * h^2}{3} (3r-h)$"
   ]
  },
  {
   "cell_type": "code",
   "execution_count": 62,
   "metadata": {
    "collapsed": false
   },
   "outputs": [
    {
     "data": {
      "text/plain": [
       "[1] 0.2360648\n"
      ]
     },
     "metadata": {},
     "output_type": "display_data"
    },
    {
     "data": {
      "image/png": "[encoded data removed]"
     },
     "metadata": {},
     "output_type": "display_data"
    }
   ],
   "source": [
    "%%R \n",
    "# relationship: volume ~ height\n",
    "r = 0.65\n",
    "\n",
    "f = function(x){x**3 - 3*r*x**2 + 3*0.1/pi}\n",
    "uniroot.all(f, c(0, r*2)) %>% print\n",
    "curve((pi*x**2)/3 * (3*r - x), from=-1, to=4)"
   ]
  },
  {
   "cell_type": "code",
   "execution_count": 63,
   "metadata": {
    "collapsed": false
   },
   "outputs": [
    {
     "data": {
      "text/plain": [
       "[1] 0.07533962\n"
      ]
     },
     "metadata": {},
     "output_type": "display_data"
    }
   ],
   "source": [
    "%%R\n",
    "# converting cylinder volume to cylinder height (cm)\n",
    "cyl_vol2height = function(v, r){v / (pi * r**2)}\n",
    "\n",
    "cyl_vol2height(0.1, 0.65)"
   ]
  },
  {
   "cell_type": "code",
   "execution_count": 64,
   "metadata": {
    "collapsed": false
   },
   "outputs": [
    {
     "data": {
      "text/plain": [
       "[1] 0.2360648\n"
      ]
     },
     "metadata": {},
     "output_type": "display_data"
    }
   ],
   "source": [
    "%%R\n",
    "# converting sphere cap volume to sphere height (cm)\n",
    "sphr_vol2height = function(v, r){\n",
    "    # h**3 - 3*r*h**2 + (3v / pi) = 0\n",
    "    f = function(x){x**3 - 3*r*x**2 + 3*v/pi}\n",
    "    roots = uniroot.all(f, c(0, r*2))\n",
    "    if(length(roots) > 1){\n",
    "        root_str = paste(roots, sep=',')\n",
    "        cat('ERROR: Number of roots > 1 for volume:', v, '\\n roots:', root_str, '\\n')\n",
    "        stop()\n",
    "    } else if (length(roots) == 0){\n",
    "        cat('WARNING: no roots for volume:', v, '\\n')\n",
    "        roots = NA\n",
    "    }\n",
    "    return(roots[1])\n",
    "}\n",
    "\n",
    "sphr_vol2height(0.1, 0.65)"
   ]
  },
  {
   "cell_type": "code",
   "execution_count": 65,
   "metadata": {
    "collapsed": true
   },
   "outputs": [],
   "source": [
    "%%R\n",
    "# -- check on calculation of sphere hight from bottom --\n",
    "# height of rounded tube bottom \n",
    "h_bottom = tube_diam__mm / (2*10)\n",
    "# volume of rounded portion of tube\n",
    "v_bottom = (4/3 * pi * h_bottom**3)/2\n",
    "\n",
    "stopifnot(sphr_vol2height(v_bottom, 0.65) == h_bottom)"
   ]
  },
  {
   "cell_type": "code",
   "execution_count": 66,
   "metadata": {
    "collapsed": false
   },
   "outputs": [
    {
     "data": {
      "text/plain": [
       " [1] 0.0000000 0.2360648 0.3449723 0.4348016 0.5161206 0.5932149 0.6687044\n",
       " [8] 0.7440440 0.8193836 0.8947232 0.9700628 1.0454025 1.1207421 1.1960817\n",
       "[15] 1.2714213 1.3467609 1.4221006 1.4974402 1.5727798 1.6481194 1.7234590\n",
       "[22] 1.7987986 1.8741383 1.9494779 2.0248175 2.1001571 2.1754967 2.2508364\n",
       "[29] 2.3261760 2.4015156 2.4768552 2.5521948 2.6275344 2.7028741 2.7782137\n",
       "[36] 2.8535533 2.9288929 3.0042325 3.0795722 3.1549118 3.2302514\n"
      ]
     },
     "metadata": {},
     "output_type": "display_data"
    }
   ],
   "source": [
    "%%R\n",
    "\n",
    "# function to convert volume filling cfg tube to tube height\n",
    "tubeVol2height = function(v, r=0.65){\n",
    "    # v = volume (cm^3)\n",
    "    # r = sphere radius\n",
    "    stopifnot(length(v) == 1)\n",
    "    \n",
    "    sphr_cap_vol = (4/3 * pi * r**3)/2\n",
    "    \n",
    "    if(v <= sphr_cap_vol){\n",
    "        # height does not extend to cylinder\n",
    "        h = sphr_vol2height(v, r)\n",
    "    } else {\n",
    "        # height = sphere_cap + cylinder\n",
    "        sphr_cap_height = sphr_vol2height(sphr_cap_vol, r)\n",
    "        h =  sphr_cap_height + cyl_vol2height(v - sphr_cap_vol, r)\n",
    "    }\n",
    "    return(h)\n",
    "}\n",
    "\n",
    "\n",
    "# test\n",
    "tube_radius__cm = tube_diam__mm / (2*10)\n",
    "vol = 0.1   # 100 ul\n",
    "\n",
    "vols = seq(0, 4, 0.1)\n",
    "sapply(vols, tubeVol2height, r=tube_radius__cm)"
   ]
  },
  {
   "cell_type": "code",
   "execution_count": 68,
   "metadata": {
    "collapsed": false
   },
   "outputs": [
    {
     "data": {
      "image/png": "[encoded data removed]"
     },
     "metadata": {},
     "output_type": "display_data"
    }
   ],
   "source": [
    "%%R\n",
    "# plotting\n",
    "\n",
    "n_fracs = 32\n",
    "x = seq(0, 0.1*(n_fracs+1), 0.1)\n",
    "df = data.frame('x' = x, 'y' = sapply(x, tubeVol2height))\n",
    "ggplot(df, aes(x, y)) +\n",
    "    geom_point(color='blue') +\n",
    "    geom_line(color='blue') +\n",
    "    stat_function(fun = function(x) x, linetype='dashed', alpha=0.7) +\n",
    "    labs(x='Culmulative fraction volume (ml)',\n",
    "         y='Tube height (cm)') +\n",
    "    theme_bw() +\n",
    "    theme(\n",
    "        text = element_text(size=16)\n",
    "    )"
   ]
  },
  {
   "cell_type": "markdown",
   "metadata": {},
   "source": [
    "### fraction volume ~ BD\n",
    "\n",
    "* determining from empirical data"
   ]
  },
  {
   "cell_type": "code",
   "execution_count": 104,
   "metadata": {
    "collapsed": false
   },
   "outputs": [
    {
     "data": {
      "text/plain": [
       "      sample_id gradient_date fractionation_date fraction_id well_id     RI\n",
       "1 13C-Ami.D3.R1    2015-01-27         2015-01-30           1      A1 1.4075\n",
       "2 13C-Ami.D3.R1    2015-01-27         2015-01-30           2      B1 1.4071\n",
       "3 13C-Ami.D3.R1    2015-01-27         2015-01-30           3      C1 1.4067\n",
       "  RI_corrected       BD volume experiment\n",
       "1       1.4059 1.770113     NA    fullCyc\n",
       "2       1.4055 1.765742     NA    fullCyc\n",
       "3       1.4051 1.761371     NA    fullCyc\n"
      ]
     },
     "metadata": {},
     "output_type": "display_data"
    }
   ],
   "source": [
    "%%R\n",
    "# loading SIPdb info\n",
    "df.SIPdb = read_excel(SIPdbFile, sheet=sheet.id)\n",
    "df.SIPdb %>% head(n=3) %>% as.data.frame "
   ]
  },
  {
   "cell_type": "code",
   "execution_count": 105,
   "metadata": {
    "collapsed": true
   },
   "outputs": [],
   "source": [
    "%%R\n",
    "# BD range\n",
    "df.SIPdb = df.SIPdb %>%\n",
    "    group_by(sample_id, fractionation_date) %>%\n",
    "    arrange(fraction_id) %>%\n",
    "    mutate(BD_range = BD - lead(BD)) "
   ]
  },
  {
   "cell_type": "code",
   "execution_count": 106,
   "metadata": {
    "collapsed": false
   },
   "outputs": [
    {
     "data": {
      "text/plain": [
       "Tube bottom volume: 0.5751733 (cm^3)\n",
       "Number of fractions in tube bottom: 5.751733 \n"
      ]
     },
     "metadata": {},
     "output_type": "display_data"
    }
   ],
   "source": [
    "%%R\n",
    "# round bottom volume = (4/3 * pi * r**3) / 2\n",
    "tube_radius__cm = tube_diam__mm / (2*10)\n",
    "bottom_volume__cm3 = (4/3 * pi * tube_radius__cm**3) / 2\n",
    "cat('Tube bottom volume:', bottom_volume__cm3, '(cm^3)\\n') \n",
    "cat('Number of fractions in tube bottom:', bottom_volume__cm3 / 0.1, '\\n')"
   ]
  },
  {
   "cell_type": "code",
   "execution_count": 107,
   "metadata": {
    "collapsed": false
   },
   "outputs": [
    {
     "data": {
      "image/png": "[encoded data removed]"
     },
     "metadata": {},
     "output_type": "display_data"
    }
   ],
   "source": [
    "%%R \n",
    "# plotting fraction vs fraction height in verticle tube\n",
    "## calculating culmulative fraction height\n",
    "\n",
    "df.SIPdb = df.SIPdb %>%\n",
    "    ungroup() %>%\n",
    "    mutate(frac_vol = fraction_vol__cm3) %>%  \n",
    "    group_by(sample_id, fractionation_date) %>%\n",
    "    arrange(fraction_id) %>%\n",
    "    mutate(culm_frac_vol = cumsum(frac_vol))\n",
    "\n",
    "## plotting\n",
    "ggplot(df.SIPdb, aes(BD, culm_frac_vol)) +\n",
    "    geom_point() +\n",
    "    geom_smooth() +\n",
    "    labs(y='Culmulative fraction volume (cm^3)', x='fraction BD') +\n",
    "    theme_bw() +\n",
    "    theme(\n",
    "        text = element_text(size=16)\n",
    "    )"
   ]
  },
  {
   "cell_type": "code",
   "execution_count": 108,
   "metadata": {
    "collapsed": false
   },
   "outputs": [
    {
     "data": {
      "text/plain": [
       "\n",
       "Call:\n",
       "lm(formula = y ~ x + I(x^2) + I(x^3), data = dataset)\n",
       "\n",
       "Coefficients:\n",
       "(Intercept)            x       I(x^2)       I(x^3)  \n",
       "    -2761.6       4943.8      -2931.8        576.5  \n",
       "\n"
      ]
     },
     "metadata": {},
     "output_type": "display_data"
    },
    {
     "data": {
      "image/png": "[encoded data removed]"
     },
     "metadata": {},
     "output_type": "display_data"
    }
   ],
   "source": [
    "%%R \n",
    "# curve fit for: culm_frac_vol ~ fraction_BD\n",
    "\n",
    "dataset = df.SIPdb %>%\n",
    "    select(BD, culm_frac_vol) %>%\n",
    "    rename('x' = BD, 'y' = culm_frac_vol) %>%\n",
    "    as.data.frame\n",
    "\n",
    "fit = lm(y~x+I(x^2)+I(x^3), data=dataset)\n",
    "fit %>% print\n",
    "dataset$y_pred = predict(fit)\n",
    "\n",
    "ggplot(dataset, aes(x)) +\n",
    "    geom_point(aes(y=y)) +\n",
    "    geom_line(aes(y=y_pred), color='red') +\n",
    "    labs(y='Culmulative fraction volume (cm^3)', x='fraction BD') +\n",
    "    theme_bw() +\n",
    "    theme(\n",
    "        text = element_text(size=16)\n",
    "    )"
   ]
  },
  {
   "cell_type": "code",
   "execution_count": 109,
   "metadata": {
    "collapsed": false
   },
   "outputs": [
    {
     "data": {
      "text/plain": [
       "[1] 3.338287\n",
       "[1] 2.0457\n",
       "[1] 0.8140625\n",
       "[1] 0.0528\n",
       "WARNING: BD value 1.9 is > 1.809, where tube volume = 0 Setting BD to 1.809\n",
       "WARNING: tube volume < 0 for BD:  1.809 \n",
       " Setting volume to 0\n",
       "[1] 0\n"
      ]
     },
     "metadata": {},
     "output_type": "display_data"
    }
   ],
   "source": [
    "%%R\n",
    "BD2tubeVol = function(BD){\n",
    "    if(BD > 1.809){\n",
    "        cat('WARNING: BD value', BD, 'is > 1.809, where tube volume = 0', \n",
    "            'Setting BD to 1.809\\n')\n",
    "        BD = 1.809\n",
    "    }\n",
    "    tube_vol = 545.9*BD**3 - 2771.9*BD**2 + 4664.9*BD - 2599.5\n",
    "    if(tube_vol < 0){\n",
    "        cat('WARNING: tube volume < 0 for BD: ', BD, \n",
    "            '\\n Setting volume to 0\\n')\n",
    "        tube_vol = 0\n",
    "    }\n",
    "    return(tube_vol)\n",
    "}\n",
    "\n",
    "# check\n",
    "BD2tubeVol(1.65) %>% print\n",
    "BD2tubeVol(1.7) %>% print\n",
    "BD2tubeVol(1.75) %>% print\n",
    "BD2tubeVol(1.8) %>% print\n",
    "BD2tubeVol(1.9) %>% print"
   ]
  },
  {
   "cell_type": "markdown",
   "metadata": {},
   "source": [
    "### tube height ~ BD"
   ]
  },
  {
   "cell_type": "code",
   "execution_count": 110,
   "metadata": {
    "collapsed": false
   },
   "outputs": [
    {
     "data": {
      "image/png": "[encoded data removed]"
     },
     "metadata": {},
     "output_type": "display_data"
    }
   ],
   "source": [
    "%%R\n",
    "BD_gradient = rev(seq(min_BD, max_BD, 0.001))\n",
    "\n",
    "# wrapper function for BD2tubeVol & tubeVol2height\n",
    "BD2tubeHeight = function(BD, r){\n",
    "    stopifnot(length(BD) == 1)\n",
    "    v = BD2tubeVol(BD)\n",
    "    tubeVol2height(v, r)    \n",
    "}\n",
    "\n",
    "h = sapply(BD_gradient, BD2tubeHeight,  r=tube_radius__cm)\n",
    "df = data.frame('BD' = BD_gradient, 'height' = h)\n",
    "\n",
    "ggplot(df, aes(BD, h)) +\n",
    "    geom_point() +\n",
    "    labs(x='Buoyant density',\n",
    "         y='Tube height (cm)') +\n",
    "    theme_bw() +\n",
    "    theme(\n",
    "        text = element_text(size=16)\n",
    "    )"
   ]
  },
  {
   "cell_type": "code",
   "execution_count": 111,
   "metadata": {
    "collapsed": false
   },
   "outputs": [
    {
     "data": {
      "text/plain": [
       "WARNING: BD value 1.811638 is > 1.809, where tube volume = 0 Setting BD to 1.809\n",
       "WARNING: tube volume < 0 for BD:  1.809 \n",
       " Setting volume to 0\n",
       "WARNING: BD value 1.810545 is > 1.809, where tube volume = 0 Setting BD to 1.809\n",
       "WARNING: tube volume < 0 for BD:  1.809 \n",
       " Setting volume to 0\n",
       "WARNING: BD value 1.809452 is > 1.809, where tube volume = 0 Setting BD to 1.809\n",
       "WARNING: tube volume < 0 for BD:  1.809 \n",
       " Setting volume to 0\n",
       "WARNING: BD value 1.811638 is > 1.809, where tube volume = 0 Setting BD to 1.809\n",
       "WARNING: tube volume < 0 for BD:  1.809 \n",
       " Setting volume to 0\n",
       "WARNING: BD value 1.810545 is > 1.809, where tube volume = 0 Setting BD to 1.809\n",
       "WARNING: tube volume < 0 for BD:  1.809 \n",
       " Setting volume to 0\n",
       "WARNING: BD value 1.813823 is > 1.809, where tube volume = 0 Setting BD to 1.809\n",
       "WARNING: tube volume < 0 for BD:  1.809 \n",
       " Setting volume to 0\n"
      ]
     },
     "metadata": {},
     "output_type": "display_data"
    },
    {
     "data": {
      "image/png": "[encoded data removed]"
     },
     "metadata": {},
     "output_type": "display_data"
    }
   ],
   "source": [
    "%%R -w 400 -h 350\n",
    "# plotting relationship between BD and tube height for SIPdb data\n",
    "df.SIPdb = df.SIPdb %>%\n",
    "    mutate(tube_height__cm = sapply(BD, BD2tubeHeight, r=tube_radius__cm))\n",
    "\n",
    "\n",
    "## plotting\n",
    "ggplot(df.SIPdb, aes(BD, tube_height__cm, color=-fraction_id)) +\n",
    "    #geom_point(alpha=0.5, shape='O') +\n",
    "    geom_point() +\n",
    "    geom_vline(xintercept=min_BD, linetype='dashed', alpha=0.5) +\n",
    "    geom_vline(xintercept=max_BD, linetype='dashed', alpha=0.5) +\n",
    "    labs(title='All SIPdb gradient data', \n",
    "         y='Height of fraction\\nfrom tube bottom (cm)', \n",
    "         x='Fraction BD') +\n",
    "    theme_bw() +\n",
    "    theme(\n",
    "        text = element_text(size=16),\n",
    "        legend.position = 'none'\n",
    "    )"
   ]
  },
  {
   "cell_type": "code",
   "execution_count": 112,
   "metadata": {
    "collapsed": false
   },
   "outputs": [
    {
     "data": {
      "image/png": "[encoded data removed]"
     },
     "metadata": {},
     "output_type": "display_data"
    }
   ],
   "source": [
    "%%R -w 600\n",
    "# do the BD bands expand further up in the gradient?\n",
    "\n",
    "df.SIPdb = df.SIPdb %>%\n",
    "    group_by(sample_id, fractionation_date) %>%\n",
    "    arrange(fraction_id) %>%\n",
    "    mutate(delta_tube_height = lead(tube_height__cm) - tube_height__cm) \n",
    "\n",
    "df.SIPdb.f = df.SIPdb %>%\n",
    "    filter(delta_tube_height > 0)\n",
    "\n",
    "ggplot(df.SIPdb.f, aes(BD, delta_tube_height, color=tube_height__cm)) +\n",
    "    geom_point() +\n",
    "    scale_x_continuous(limits=c(1.65, 1.80)) +\n",
    "    scale_y_continuous(limits=c(0, 0.2)) +\n",
    "    labs(title='All SIPdb data',\n",
    "         x='Buoyant density',\n",
    "         y='Change in tube height between fractions (cm)') +\n",
    "    theme_bw() +\n",
    "    theme(\n",
    "        text = element_text(size=16)\n",
    "    )"
   ]
  },
  {
   "cell_type": "markdown",
   "metadata": {},
   "source": [
    "# DBL overlap in fractions \n",
    "\n",
    "* max delta BD between fraction in rotor orientation vs when the orientation set to verticle for fractionation"
   ]
  },
  {
   "cell_type": "code",
   "execution_count": 114,
   "metadata": {
    "collapsed": false
   },
   "outputs": [
    {
     "data": {
      "text/plain": [
       "  tube_low__cm tube_high__cm      BD particle_pos tube_vert__cm\n",
       "1     2.348916      3.573801 1.67323     3.289207      8.414473\n",
       "2     2.306902      3.531787 1.67423     3.308901      8.335767\n",
       "3     2.265136      3.490021 1.67523     3.328479      8.256880\n",
       "4     2.223614      3.448500 1.67623     3.347942      8.177822\n"
      ]
     },
     "metadata": {},
     "output_type": "display_data"
    }
   ],
   "source": [
    "%%R\n",
    "## df of tube position for gradient in rotor (assuming equilibrium)\n",
    "angle.tube.pos %>% head(n=4)"
   ]
  },
  {
   "cell_type": "code",
   "execution_count": 115,
   "metadata": {
    "collapsed": false
   },
   "outputs": [
    {
     "data": {
      "image/png": "[encoded data removed]"
     },
     "metadata": {},
     "output_type": "display_data"
    }
   ],
   "source": [
    "%%R -w 600\n",
    "# converting BD to tube height for vertical gradient\n",
    "angle.tube.pos$tube_vert__cm = sapply(angle.tube.pos$BD, BD2tubeHeight,  r=tube_radius__cm)\n",
    "\n",
    "# plotting\n",
    "angle.tube.pos.g = angle.tube.pos %>%\n",
    "    gather(tube_pos, tube_pos__cm, tube_low__cm, tube_high__cm, tube_vert__cm)\n",
    "\n",
    "ggplot(angle.tube.pos.g, aes(BD, tube_pos__cm, color=tube_pos, group=BD)) +\n",
    "    geom_line(alpha=0.25, color='black') +\n",
    "    geom_point() +\n",
    "    labs(y='Tube vertical height (cm)', x='Band position on tube wall (cm)') +\n",
    "    theme_bw() +\n",
    "    theme(\n",
    "        text = element_text(size=18)\n",
    "    )"
   ]
  },
  {
   "cell_type": "markdown",
   "metadata": {},
   "source": [
    "# Sandbox"
   ]
  },
  {
   "cell_type": "code",
   "execution_count": 535,
   "metadata": {
    "collapsed": false
   },
   "outputs": [
    {
     "data": {
      "text/plain": [
       "[1] 1.079949\n",
       "[1] 1.28833\n"
      ]
     },
     "metadata": {},
     "output_type": "display_data"
    }
   ],
   "source": [
    "%%R\n",
    "## Libraries\n",
    "library(aspace)\n",
    "## Given values\n",
    "r = 0.65   # radius of tube\n",
    "D = 4.85   # distance from axis of rotation to furthest part of tube\n",
    "A = 37.95  # angle of tube to axis of rotation (degrees)\n",
    "x = 4.32    # some distance from axis of rotation (from equation)\n",
    "\n",
    "## Equation for lower point of band in the rounded part of tube\n",
    "\n",
    "if(x >= D-(r*cos_d(A))-r) {\n",
    "  d = D - x\n",
    "  hv = sqrt(d*(2*r-d))\n",
    "  if (x >= D-(r-r*sin_d(A))) {\n",
    "    a = (90-A)-asin_d(hv/r)\n",
    "  }\n",
    "  else if (x < D-(r-r*sin_d(A))) {\n",
    "    a = -(90-A)-asin_d(hv/r)\n",
    "  }\n",
    "  LowH = r-r*cos_d(a)\n",
    "  print(LowH)\n",
    "}\n",
    "\n",
    "## Equation for lower point of band in column part of tube\n",
    "\n",
    "if(x < D-(r*cos_d(A))-r) {\n",
    " d = D-x-r\n",
    " hc = d/sin_d(A)\n",
    " LowH = r+hc\n",
    " print(LowH)\n",
    "}\n",
    "\n",
    "## Equation for upper point of band in rounded part of tube\n",
    "\n",
    "if(x > D-(r-r*cos_d(A))) {\n",
    "  d = D - x\n",
    "  hv = sqrt(d*(2*r-d))\n",
    "  a = (90-A)+asin_d(hv/r)\n",
    "  HighH = r-r*cos_d(a)\n",
    "  print(HighH)\n",
    "}\n",
    "\n",
    "## Equation for upper point of band in cylindrical part of tube\n",
    "if(x <= D-(r-r*cos_d(A))) {\n",
    "  d = D-(r-r*cos_d(A))-x\n",
    "  hc = d/sin_d(A)\n",
    "  HighH = r+hc\n",
    "  print(HighH)\n",
    "}\n"
   ]
  },
  {
   "cell_type": "code",
   "execution_count": 6,
   "metadata": {
    "collapsed": false
   },
   "outputs": [
    {
     "data": {
      "text/plain": [
       "[1] 1.079949 1.288330\n"
      ]
     },
     "metadata": {},
     "output_type": "display_data"
    }
   ],
   "source": [
    "%%R\n",
    "## Equation for lower point of band in the rounded part of tube\n",
    "distFromAxis2angleTubePos = function(x, r, D, A){\n",
    "    # x = a distance from the axis of rotation\n",
    "    # r = radius of cfg tube\n",
    "    # D = max tube distance from axis of rotation\n",
    "    # A = angle of tube to axis of rotation (degrees)\n",
    "    if(x >= D-(r*aspace::cos_d(A))-r) {\n",
    "      d = D - x\n",
    "      hv = sqrt(d*(2*r-d))\n",
    "      if (x >= D-(r-r*aspace::sin_d(A))) {\n",
    "        a = (90-A)-aspace::asin_d(hv/r)\n",
    "      }\n",
    "      else if (x < D-(r-r*aspace::sin_d(A))) {\n",
    "        a = -(90-A)-aspace::asin_d(hv/r)\n",
    "      }\n",
    "      LowH = r-r*aspace::cos_d(a)\n",
    "      #print(LowH)\n",
    "    }\n",
    "    \n",
    "    ## Equation for lower point of band in column part of tube\n",
    "    \n",
    "    if(x < D-(r*aspace::cos_d(A))-r) {\n",
    "     d = D-x-r\n",
    "     hc = d/aspace::sin_d(A)\n",
    "     LowH = r+hc\n",
    "     #print(LowH)\n",
    "    }\n",
    "    \n",
    "    ## Equation for upper point of band in rounded part of tube\n",
    "    \n",
    "    if(x > D-(r-r*aspace::cos_d(A))) {\n",
    "      d = D - x\n",
    "      hv = sqrt(d*(2*r-d))\n",
    "      a = (90-A)+aspace::asin_d(hv/r)\n",
    "      HighH = r-r*aspace::cos_d(a)\n",
    "      #print(HighH)\n",
    "    }\n",
    "    \n",
    "    ## Equation for upper point of band in cylindrical part of tube\n",
    "    if(x <= D-(r-r*aspace::cos_d(A))) {\n",
    "      d = D-(r-r*aspace::cos_d(A))-x\n",
    "      hc = d/aspace::sin_d(A)\n",
    "      HighH = r+hc\n",
    "      #print(HighH)\n",
    "    }\n",
    "    return(c(LowH, HighH))\n",
    "}\n",
    "\n",
    "# test\n",
    "r = 0.65   # radius of tube\n",
    "D = 4.85   # distance from axis of rotation to furthest part of tube\n",
    "A = 37.95  # angle of tube to axis of rotation (degrees)\n",
    "x = 4.32    # some distance from axis of rotation (from equation)\n",
    "\n",
    "distFromAxis2angleTubePos(x, r, D, A)"
   ]
  },
  {
   "cell_type": "code",
   "execution_count": 7,
   "metadata": {
    "collapsed": false
   },
   "outputs": [
    {
     "data": {
      "text/plain": [
       "          [,1]     [,2]     [,3]     [,4]     [,5]     [,6]     [,7]\n",
       "[1,]  9.610939 8.544161 7.477382 6.410604 5.343825 4.277047 3.210268\n",
       "[2,] 10.835989 9.769211 8.702432 7.635654 6.568875 5.502097 4.435318\n"
      ]
     },
     "metadata": {},
     "output_type": "display_data"
    }
   ],
   "source": [
    "%%R\n",
    "x = seq(0,3, 0.5)\n",
    "r = 0.65   # radius of tube\n",
    "D = 4.85   # distance from axis of rotation to furthest part of tube\n",
    "A = 27.95  # angle of tube to axis of rotation (degrees)\n",
    "\n",
    "sapply(x, distFromAxis2angleTubePos, r=r, D=D, A=A)"
   ]
  }
 ],
 "metadata": {
  "hide_input": true,
  "kernelspec": {
   "display_name": "Python 2",
   "language": "python",
   "name": "python2"
  },
  "language_info": {
   "codemirror_mode": {
    "name": "ipython",
    "version": 2
   },
   "file_extension": ".py",
   "mimetype": "text/x-python",
   "name": "python",
   "nbconvert_exporter": "python",
   "pygments_lexer": "ipython2",
   "version": "2.7.10"
  }
 },
 "nbformat": 4,
 "nbformat_minor": 0
}
