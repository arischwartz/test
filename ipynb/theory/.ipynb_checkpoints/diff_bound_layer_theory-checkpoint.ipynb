{
 "cells": [
  {
   "cell_type": "markdown",
   "metadata": {},
   "source": [
    "# Goal:\n",
    "\n",
    "* Modeling a theoretical diffusive boundary layer (DBL). \n",
    "  * A DBL may be contributing to 'smearing' observed in 16S rRNA MiSeq data from real experiments."
   ]
  },
  {
   "cell_type": "markdown",
   "metadata": {},
   "source": [
    "# Init"
   ]
  },
  {
   "cell_type": "code",
   "execution_count": 38,
   "metadata": {
    "collapsed": false
   },
   "outputs": [
    {
     "name": "stdout",
     "output_type": "stream",
     "text": [
      "The rpy2.ipython extension is already loaded. To reload it, use:\n",
      "  %reload_ext rpy2.ipython\n"
     ]
    }
   ],
   "source": [
    "%load_ext rpy2.ipython"
   ]
  },
  {
   "cell_type": "code",
   "execution_count": 39,
   "metadata": {
    "collapsed": false
   },
   "outputs": [],
   "source": [
    "%%R\n",
    "library(readxl)\n",
    "library(dplyr)\n",
    "library(tidyr)\n",
    "library(ggplot2)\n",
    "library(rootSolve)"
   ]
  },
  {
   "cell_type": "markdown",
   "metadata": {},
   "source": [
    "# Setting parameters"
   ]
  },
  {
   "cell_type": "code",
   "execution_count": 40,
   "metadata": {
    "collapsed": true
   },
   "outputs": [],
   "source": [
    "%%R\n",
    "# tube characteristics (cm)\n",
    "tube_diam = 1.3   \n",
    "tube_height = 4.8\n",
    "tube_round_bottom_height = 0.65\n",
    "tube_capacity__ml = 4.7\n",
    "tube_composition = 'polypropylene'\n",
    "\n",
    "# rotor (cm)\n",
    "rotor_id = 'TLA-110'\n",
    "r_min = 2.6\n",
    "r_ave = 3.72\n",
    "r_max = 4.85\n",
    "frac_tube_angle = 90 \n",
    "\n",
    "# cfg run\n",
    "## rpm of run\n",
    "rpm = 55000\n",
    "## angular velocity (w^2)\n",
    "angular_velocity = 17545933.74\n",
    "## average particle density\n",
    "ave_gradient_density = 1.70\n",
    "## beta^o  \n",
    "BetaO = 1.14e9  # CsCl at density of 1.70\n",
    "## position of particle at equilibrium \n",
    "particle_at_eq = 3.78 \n",
    "## max 13C shift\n",
    "max_13C_shift_in_BD = 0.036\n",
    "## min BD (that we care about)\n",
    "min_GC = 13.5\n",
    "min_BD = min_GC/100.0 * 0.098 + 1.66\n",
    "## max BD (that we care about)\n",
    "max_GC = 80\n",
    "max_BD = max_GC / 100.0 * 0.098 + 1.66    # 80.0% G+C\n",
    "max_BD = max_BD + max_13C_shift_in_BD\n",
    "\n",
    "# diffusive boundary layer (DBL)\n",
    "DBL_size_range__micron = c(10,100)\n",
    "\n",
    "\n",
    "# misc\n",
    "fraction_vol__cm3 = 0.1"
   ]
  },
  {
   "cell_type": "code",
   "execution_count": 41,
   "metadata": {
    "collapsed": false
   },
   "outputs": [
    {
     "data": {
      "text/plain": [
       "Tube angle from axis of rotation: 27.95319 \n"
      ]
     },
     "metadata": {},
     "output_type": "display_data"
    }
   ],
   "source": [
    "%%R\n",
    "# rotor angle\n",
    "## sin(x) = opp / hypo\n",
    "## x = sin**-1(opp/hypo)\n",
    "\n",
    "rad2deg = function(rad) {\n",
    "    return((180 * rad) / pi)\n",
    "}\n",
    "deg2rad = function(deg){\n",
    "    return(deg * pi / 180)\n",
    "}\n",
    "\n",
    "\n",
    "x = r_max - r_min\n",
    "hyp = tube_height\n",
    "rotor_tube_angle = rad2deg(asin(x / hyp))\n",
    "cat(\"Tube angle from axis of rotation:\", rotor_tube_angle, \"\\n\")"
   ]
  },
  {
   "cell_type": "code",
   "execution_count": 42,
   "metadata": {
    "collapsed": false
   },
   "outputs": [
    {
     "data": {
      "text/plain": [
       "Tube angle from axis of rotation: 27.95319 \n"
      ]
     },
     "metadata": {},
     "output_type": "display_data"
    }
   ],
   "source": [
    "%%R\n",
    "# rotor angle\n",
    "## sin(x) = opp / hypo\n",
    "## x = sin**-1(opp/hypo)\n",
    "\n",
    "rad2deg = function(rad) {\n",
    "    return((180 * rad) / pi)\n",
    "}\n",
    "deg2rad = function(deg){\n",
    "    return(deg * pi / 180)\n",
    "}\n",
    "\n",
    "\n",
    "x = r_max - r_min\n",
    "hyp = tube_height\n",
    "rotor_tube_angle = rad2deg(asin(x / hyp))\n",
    "cat(\"Tube angle from axis of rotation:\", rotor_tube_angle, \"\\n\")"
   ]
  },
  {
   "cell_type": "code",
   "execution_count": 43,
   "metadata": {
    "collapsed": false
   },
   "outputs": [
    {
     "data": {
      "text/plain": [
       "Isoconcentration point: 3.781204 (cm)\n"
      ]
     },
     "metadata": {},
     "output_type": "display_data"
    }
   ],
   "source": [
    "%%R\n",
    "# isoconcentration point\n",
    "## Formula 6.7 in Birnine and Rickwood 1978\n",
    "#r_top = r_min__mm / 10\n",
    "#r_bottom = r_max__mm / 10\n",
    "I = sqrt((r_min**2 + r_min * r_max + r_max**2)/3)\n",
    "\n",
    "cat('Isoconcentration point:', I, '(cm)\\n')"
   ]
  },
  {
   "cell_type": "markdown",
   "metadata": {},
   "source": [
    "# Determining DBL from fragment G+C content \n",
    "\n",
    "* fragment GC -->\n",
    "* BD (diffusive boundary layer) --> \n",
    "* angled tube position of DBL -->\n",
    "* vertical tube position range of DBL (min, mid, max)"
   ]
  },
  {
   "cell_type": "markdown",
   "metadata": {},
   "source": [
    "# Functions for calculating DBL"
   ]
  },
  {
   "cell_type": "markdown",
   "metadata": {},
   "source": [
    "## GC to BD"
   ]
  },
  {
   "cell_type": "code",
   "execution_count": 12,
   "metadata": {
    "collapsed": false
   },
   "outputs": [
    {
     "data": {
      "text/plain": [
       "[1] 1.6894 1.6992 1.7090 1.7188 1.7286 1.7384\n"
      ]
     },
     "metadata": {},
     "output_type": "display_data"
    }
   ],
   "source": [
    "%%R\n",
    "GC2BD = function(GC){ \n",
    "    # GC = percent G+C\n",
    "    GC / 100.0 * 0.098 + 1.66 \n",
    "}\n",
    "\n",
    "# test\n",
    "GC = seq(30, 80, 10)\n",
    "sapply(GC, GC2BD)"
   ]
  },
  {
   "cell_type": "markdown",
   "metadata": {},
   "source": [
    "## BD to distance from the axis of rotation"
   ]
  },
  {
   "cell_type": "code",
   "execution_count": 29,
   "metadata": {
    "collapsed": false
   },
   "outputs": [
    {
     "data": {
      "text/plain": [
       "radius range for BD-min to BD-max:  3.289207 to 4.895445 \n"
      ]
     },
     "metadata": {},
     "output_type": "display_data"
    }
   ],
   "source": [
    "%%R\n",
    "BD2distFromAxis = function(BD, D, BetaO, w2, I){\n",
    "    # converting BD to distance from axis of rotation\n",
    "    # BD  = density at a given radius\n",
    "    # w^2 = angular velocity\n",
    "    # \\beta^o = beta coef\n",
    "    # I = isocencentration point (cm)\n",
    "    # D = average density of gradient\n",
    "    sqrt(((BD-D)*2*BetaO/w2) + I^2)\n",
    "}\n",
    "\n",
    "# test\n",
    "min_BD_r = BD2distFromAxis(min_BD, ave_gradient_density, BetaO, angular_velocity, I)\n",
    "max_BD_r = BD2distFromAxis(max_BD, ave_gradient_density, BetaO, angular_velocity, I)\n",
    "\n",
    "cat('radius range for BD-min to BD-max: ', min_BD_r, 'to', max_BD_r, '\\n')"
   ]
  },
  {
   "cell_type": "markdown",
   "metadata": {},
   "source": [
    "# distance from axis of rotation to tube height of BD 'band' \n",
    "\n",
    "* The band is angled in the tube, so the BD band in the gradient (angled tube) will touch the wall of the tube at a min/max height of h1 and h2. This function determines those tube height values."
   ]
  },
  {
   "cell_type": "code",
   "execution_count": 31,
   "metadata": {
    "collapsed": false
   },
   "outputs": [
    {
     "data": {
      "text/plain": [
       "[1] 1.985218 4.435318\n",
       "[1] 2.4501\n"
      ]
     },
     "metadata": {},
     "output_type": "display_data"
    }
   ],
   "source": [
    "%%R\n",
    "\n",
    "distFromAxis2tubePos = function(x, r, D, A){\n",
    "  # converting distance from axis of rotation to cfg tube position (min & max of tube height)\n",
    "  # x = a distance from the axis of rotation\n",
    "  # r = radius of cfg tube\n",
    "  # D = max tube distance from axis of rotation\n",
    "  # A = angle of tube to axis of rotation (degrees)\n",
    "  \n",
    "  # Equation for finding the lower point of the band  \n",
    "  if(x >= D-(r*aspace::cos_d(A))-r) {\n",
    "    d = x-(D-r)\n",
    "    a = A-aspace::asin_d(d/r)\n",
    "    LowH = r-r*aspace::cos_d(a)\n",
    "    #print(LowH)                ## This band will be in the rounded part\n",
    "  }else{\n",
    "    d = D-(r*aspace::cos_d(A))-r-x\n",
    "    hc = d/aspace::sin_d(A)\n",
    "    LowH = r+hc\n",
    "  # print(LowH)                 ## This band will be in the cylinder part\n",
    "  }\n",
    "\n",
    "  # Equation for finding the upper band\n",
    "  if(x > D-(r-r*aspace::cos_d(A))) {\n",
    "    d = x-(D-r)\n",
    "    a = (A)-(180-aspace::asin_d(d/r))\n",
    "    HighH = r-r*aspace::cos_d(a)\n",
    "    #print(HighH)                ## This band will be in the rounded part\n",
    "  }else{\n",
    "    d = D-(r-r*aspace::cos_d(A))-x\n",
    "  hc = d/aspace::sin_d(A)\n",
    "  HighH = r+hc\n",
    "  #print(HighH)                ## This band will be in the cylinder part\n",
    "  }\n",
    "  \n",
    "  return(c(LowH, HighH))\n",
    "}\n",
    "\n",
    "\n",
    "# test\n",
    "r = 0.65   # radius of tube (cm)\n",
    "D = 4.85   # distance from axis of rotation to furthest part of tube (cm)\n",
    "A = 27.95  # angle of tube to axis of rotation (degrees)\n",
    "x = 3     # some distance from axis of rotation (from equation)\n",
    "\n",
    "pos = distFromAxis2angleTubePos(x, r, D, A)\n",
    "pos %>% print\n",
    "delta = pos[2] - pos[1]\n",
    "delta %>% print"
   ]
  },
  {
   "cell_type": "markdown",
   "metadata": {},
   "source": [
    "## Python version"
   ]
  },
  {
   "cell_type": "code",
   "execution_count": 87,
   "metadata": {
    "collapsed": false
   },
   "outputs": [
    {
     "data": {
      "text/plain": [
       "(0.31999130190182146, 2.6004594091294315)"
      ]
     },
     "execution_count": 87,
     "metadata": {},
     "output_type": "execute_result"
    }
   ],
   "source": [
    "sin_d = lambda d : np.sin(np.deg2rad(d))    \n",
    "cos_d = lambda d : np.cos(np.deg2rad(d))    \n",
    "asin_d = lambda x : np.arcsin(x) * 180/np.pi  #np.arcsin(np.deg2rad(d))\n",
    "acos_d = lambda x : np.arccos(x) * 180/np.pi  #np.arccos(np.deg2rad(d))\n",
    "\n",
    "def axisDist2angledTubePos(x, tube_radius, r_max, A):\n",
    "    if np.isnan(x):\n",
    "        return (x, x)\n",
    "    \n",
    "    if(x >= r_max - (tube_radius * cos_d(A)) - tube_radius):\n",
    "        # band in rounded bottom of cfg tube\n",
    "        d = x - (r_max - tube_radius)\n",
    "        a = A - asin_d(d / tube_radius)\n",
    "        LowH = tube_radius - tube_radius * cos_d(a)\n",
    "        #print LowH\n",
    "    else:\n",
    "        # band in cylinder of cfg tube\n",
    "        d = r_max - (tube_radius * cos_d(A)) - tube_radius - x\n",
    "        h_c = d/sin_d(A)\n",
    "        LowH = tube_radius + h_c\n",
    "        # print LowH\n",
    "    \n",
    "    if(x > r_max - (tube_radius - tube_radius * cos_d(A))):\n",
    "        # Equation for finding the upper band\n",
    "        d = x - (r_max - tube_radius)\n",
    "        a = A - (180 - asin_d(d/tube_radius))\n",
    "        HighH = tube_radius - tube_radius * cos_d(a)\n",
    "        #print HighH\n",
    "    else:\n",
    "        # This band will be in the cylinder part\n",
    "        d = r_max - (tube_radius - tube_radius * cos_d(A)) - x\n",
    "        h_c = d/sin_d(A)\n",
    "        HighH = tube_radius + h_c\n",
    "        #print(HighH)\n",
    "    return(LowH, HighH)\n",
    "\n",
    "# test\n",
    "r = 0.65   # radius of tube (cm)\n",
    "D = 4.85   # distance from axis of rotation to furthest part of tube (cm)\n",
    "A = 27.95  # angle of tube to axis of rotation (degrees)\n",
    "x = 3.86    # some distance from axis of rotation (from equation)\n",
    "\n",
    "axisDist2angledTubePos(x, r, D, A)"
   ]
  }
 ],
 "metadata": {
  "hide_input": true,
  "kernelspec": {
   "display_name": "Python 2",
   "language": "python",
   "name": "python2"
  },
  "language_info": {
   "codemirror_mode": {
    "name": "ipython",
    "version": 2
   },
   "file_extension": ".py",
   "mimetype": "text/x-python",
   "name": "python",
   "nbconvert_exporter": "python",
   "pygments_lexer": "ipython2",
   "version": "2.7.10"
  }
 },
 "nbformat": 4,
 "nbformat_minor": 0
}
