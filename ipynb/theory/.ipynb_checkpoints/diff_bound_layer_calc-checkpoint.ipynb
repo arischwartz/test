{
 "cells": [
  {
   "cell_type": "markdown",
   "metadata": {},
   "source": [
    "# Goal:\n",
    "\n",
    "* Calculation pipeline for modeling 'smearing' caused by a diffusive boudary layer of DNA bound to tube"
   ]
  },
  {
   "cell_type": "markdown",
   "metadata": {},
   "source": [
    "# Init"
   ]
  },
  {
   "cell_type": "code",
   "execution_count": 1,
   "metadata": {
    "collapsed": false
   },
   "outputs": [],
   "source": [
    "%load_ext rpy2.ipython"
   ]
  },
  {
   "cell_type": "code",
   "execution_count": 2,
   "metadata": {
    "collapsed": false
   },
   "outputs": [
    {
     "name": "stderr",
     "output_type": "stream",
     "text": [
      "/opt/anaconda/lib/python2.7/site-packages/rpy2/robjects/functions.py:106: UserWarning: \n",
      "Attaching package: ‘dplyr’\n",
      "\n",
      "\n",
      "  res = super(Function, self).__call__(*new_args, **new_kwargs)\n",
      "/opt/anaconda/lib/python2.7/site-packages/rpy2/robjects/functions.py:106: UserWarning: The following objects are masked from ‘package:stats’:\n",
      "\n",
      "    filter, lag\n",
      "\n",
      "\n",
      "  res = super(Function, self).__call__(*new_args, **new_kwargs)\n",
      "/opt/anaconda/lib/python2.7/site-packages/rpy2/robjects/functions.py:106: UserWarning: The following objects are masked from ‘package:base’:\n",
      "\n",
      "    intersect, setdiff, setequal, union\n",
      "\n",
      "\n",
      "  res = super(Function, self).__call__(*new_args, **new_kwargs)\n"
     ]
    }
   ],
   "source": [
    "%%R\n",
    "library(readxl)\n",
    "library(dplyr)\n",
    "library(tidyr)\n",
    "library(ggplot2)\n",
    "library(rootSolve)"
   ]
  },
  {
   "cell_type": "markdown",
   "metadata": {},
   "source": [
    "# Setting parameters"
   ]
  },
  {
   "cell_type": "code",
   "execution_count": 8,
   "metadata": {
    "collapsed": true
   },
   "outputs": [],
   "source": [
    "%%R\n",
    "# SIPdb info\n",
    "SIPdbFile = '/home/nick/db/SIPdb/DOE_SIP_db.xlsx'\n",
    "sheet.id = 'Fractions'"
   ]
  },
  {
   "cell_type": "code",
   "execution_count": 17,
   "metadata": {
    "collapsed": true
   },
   "outputs": [],
   "source": [
    "%%R\n",
    "# tube characteristics (cm)\n",
    "tube_diam = 1.3   \n",
    "tube_height = 4.8\n",
    "tube_round_bottom_height = 0.65\n",
    "tube_capacity__ml = 4.7\n",
    "tube_composition = 'polypropylene'\n",
    "\n",
    "# rotor (cm)\n",
    "rotor_id = 'TLA-110'\n",
    "r_min = 2.6\n",
    "r_ave = 3.72\n",
    "r_max = 4.85\n",
    "frac_tube_angle = 90 \n",
    "\n",
    "# cfg run\n",
    "## rpm of run\n",
    "rpm = 55000\n",
    "## angular velocity (w^2)\n",
    "angular_velocity = 17545933.74\n",
    "## average particle density\n",
    "ave_gradient_density = 1.70\n",
    "## beta^o  \n",
    "BetaO = 1.14e9  # CsCl at density of 1.70\n",
    "## position of particle at equilibrium \n",
    "particle_at_eq = 3.78 \n",
    "## max 13C shift\n",
    "max_13C_shift_in_BD = 0.036\n",
    "## min BD (that we care about)\n",
    "min_GC = 13.5\n",
    "min_BD = min_GC/100.0 * 0.098 + 1.66\n",
    "## max BD (that we care about)\n",
    "max_GC = 80\n",
    "max_BD = max_GC / 100.0 * 0.098 + 1.66    # 80.0% G+C\n",
    "max_BD = max_BD + max_13C_shift_in_BD\n",
    "\n",
    "# diffusive boundary layer (DBL)\n",
    "DBL_size_range__micron = c(10,100)\n",
    "\n",
    "\n",
    "# misc\n",
    "fraction_vol__cm3 = 0.1"
   ]
  },
  {
   "cell_type": "code",
   "execution_count": 18,
   "metadata": {
    "collapsed": false
   },
   "outputs": [
    {
     "data": {
      "text/plain": [
       "Tube angle from axis of rotation: 27.95319 \n"
      ]
     },
     "metadata": {},
     "output_type": "display_data"
    }
   ],
   "source": [
    "%%R\n",
    "# rotor angle\n",
    "## sin(x) = opp / hypo\n",
    "## x = sin**-1(opp/hypo)\n",
    "\n",
    "rad2deg = function(rad) {\n",
    "    return((180 * rad) / pi)\n",
    "}\n",
    "deg2rad = function(deg){\n",
    "    return(deg * pi / 180)\n",
    "}\n",
    "\n",
    "\n",
    "x = r_max - r_min\n",
    "hyp = tube_height\n",
    "rotor_tube_angle = rad2deg(asin(x / hyp))\n",
    "cat(\"Tube angle from axis of rotation:\", rotor_tube_angle, \"\\n\")"
   ]
  },
  {
   "cell_type": "code",
   "execution_count": 20,
   "metadata": {
    "collapsed": false
   },
   "outputs": [
    {
     "data": {
      "text/plain": [
       "Isoconcentration point: 3.781204 (cm)\n"
      ]
     },
     "metadata": {},
     "output_type": "display_data"
    }
   ],
   "source": [
    "%%R\n",
    "# isoconcentration point\n",
    "## Formula 6.7 in Birnine and Rickwood 1978\n",
    "#r_top = r_min__mm / 10\n",
    "#r_bottom = r_max__mm / 10\n",
    "I = sqrt((r_min**2 + r_min * r_max + r_max**2)/3)\n",
    "\n",
    "cat('Isoconcentration point:', I, '(cm)\\n')"
   ]
  },
  {
   "cell_type": "code",
   "execution_count": 8,
   "metadata": {
    "collapsed": false
   },
   "outputs": [
    {
     "data": {
      "text/plain": [
       "      sample_id gradient_date fractionation_date fraction_id well_id     RI\n",
       "1 13C-Ami.D3.R1    2015-01-27         2015-01-30           1      A1 1.4075\n",
       "2 13C-Ami.D3.R1    2015-01-27         2015-01-30           2      B1 1.4071\n",
       "3 13C-Ami.D3.R1    2015-01-27         2015-01-30           3      C1 1.4067\n",
       "  RI_corrected       BD volume experiment\n",
       "1       1.4059 1.770113     NA    fullCyc\n",
       "2       1.4055 1.765742     NA    fullCyc\n",
       "3       1.4051 1.761371     NA    fullCyc\n"
      ]
     },
     "metadata": {},
     "output_type": "display_data"
    }
   ],
   "source": [
    "%%R\n",
    "# loading SIPdb info\n",
    "#df.SIPdb = read_excel(SIPdbFile, sheet=sheet.id)\n",
    "#df.SIPdb %>% head(n=3) %>% as.data.frame "
   ]
  },
  {
   "cell_type": "markdown",
   "metadata": {},
   "source": [
    "# Determining DBL from fragment G+C content \n",
    "\n",
    "* fragment GC -->\n",
    "* BD (diffusive boundary layer) --> \n",
    "* angled tube position of DBL -->\n",
    "* vertical tube position range of DBL (min, mid, max)"
   ]
  },
  {
   "cell_type": "markdown",
   "metadata": {},
   "source": [
    "## Functions"
   ]
  },
  {
   "cell_type": "code",
   "execution_count": 12,
   "metadata": {
    "collapsed": false
   },
   "outputs": [
    {
     "data": {
      "text/plain": [
       "[1] 1.6894 1.6992 1.7090 1.7188 1.7286 1.7384\n"
      ]
     },
     "metadata": {},
     "output_type": "display_data"
    }
   ],
   "source": [
    "%%R\n",
    "GC2BD = function(GC){ \n",
    "    # GC = percent G+C\n",
    "    GC / 100.0 * 0.098 + 1.66 \n",
    "}\n",
    "\n",
    "# test\n",
    "GC = seq(30, 80, 10)\n",
    "sapply(GC, GC2BD)"
   ]
  },
  {
   "cell_type": "code",
   "execution_count": 29,
   "metadata": {
    "collapsed": false
   },
   "outputs": [
    {
     "data": {
      "text/plain": [
       "radius range for BD-min to BD-max:  3.289207 to 4.895445 \n"
      ]
     },
     "metadata": {},
     "output_type": "display_data"
    }
   ],
   "source": [
    "%%R\n",
    "BD2distFromAxis = function(BD, D, BetaO, w2, I){\n",
    "    # converting BD to distance from axis of rotation\n",
    "    # BD  = density at a given radius\n",
    "    # w^2 = angular velocity\n",
    "    # \\beta^o = beta coef\n",
    "    # I = isocencentration point (cm)\n",
    "    # D = average density of gradient\n",
    "    sqrt(((BD-D)*2*BetaO/w2) + I^2)\n",
    "}\n",
    "\n",
    "# test\n",
    "min_BD_r = BD2distFromAxis(min_BD, ave_gradient_density, BetaO, angular_velocity, I)\n",
    "max_BD_r = BD2distFromAxis(max_BD, ave_gradient_density, BetaO, angular_velocity, I)\n",
    "\n",
    "cat('radius range for BD-min to BD-max: ', min_BD_r, 'to', max_BD_r, '\\n')"
   ]
  },
  {
   "cell_type": "code",
   "execution_count": 31,
   "metadata": {
    "collapsed": false
   },
   "outputs": [
    {
     "data": {
      "text/plain": [
       "[1] 1.985218 4.435318\n",
       "[1] 2.4501\n"
      ]
     },
     "metadata": {},
     "output_type": "display_data"
    }
   ],
   "source": [
    "%%R\n",
    "\n",
    "distFromAxis2tubePos = function(x, r, D, A){\n",
    "  # converting distance from axis of rotation to cfg tube position (min & max of tube height)\n",
    "  # x = a distance from the axis of rotation\n",
    "  # r = radius of cfg tube\n",
    "  # D = max tube distance from axis of rotation\n",
    "  # A = angle of tube to axis of rotation (degrees)\n",
    "  \n",
    "  # Equation for finding the lower point of the band  \n",
    "  if(x >= D-(r*aspace::cos_d(A))-r) {\n",
    "    d = x-(D-r)\n",
    "    a = A-aspace::asin_d(d/r)\n",
    "    LowH = r-r*aspace::cos_d(a)\n",
    "    #print(LowH)                ## This band will be in the rounded part\n",
    "  }else{\n",
    "    d = D-(r*aspace::cos_d(A))-r-x\n",
    "    hc = d/aspace::sin_d(A)\n",
    "    LowH = r+hc\n",
    "  # print(LowH)                 ## This band will be in the cylinder part\n",
    "  }\n",
    "\n",
    "  # Equation for finding the upper band\n",
    "  if(x > D-(r-r*aspace::cos_d(A))) {\n",
    "    d = x-(D-r)\n",
    "    a = (A)-(180-aspace::asin_d(d/r))\n",
    "    HighH = r-r*aspace::cos_d(a)\n",
    "    #print(HighH)                ## This band will be in the rounded part\n",
    "  }else{\n",
    "    d = D-(r-r*aspace::cos_d(A))-x\n",
    "  hc = d/aspace::sin_d(A)\n",
    "  HighH = r+hc\n",
    "  #print(HighH)                ## This band will be in the cylinder part\n",
    "  }\n",
    "  \n",
    "  return(c(LowH, HighH))\n",
    "}\n",
    "\n",
    "\n",
    "# test\n",
    "r = 0.65   # radius of tube (cm)\n",
    "D = 4.85   # distance from axis of rotation to furthest part of tube (cm)\n",
    "A = 27.95  # angle of tube to axis of rotation (degrees)\n",
    "x = 3     # some distance from axis of rotation (from equation)\n",
    "\n",
    "pos = distFromAxis2angleTubePos(x, r, D, A)\n",
    "pos %>% print\n",
    "delta = pos[2] - pos[1]\n",
    "delta %>% print"
   ]
  },
  {
   "cell_type": "code",
   "execution_count": null,
   "metadata": {
    "collapsed": true
   },
   "outputs": [],
   "source": [
    "%%R\n",
    "\n",
    "tubeHeight2tubeVolume = function(h, r=0.65){\n",
    "    # function to convert vertical tube height to vertical tube volume (up to that height)\n",
    "    # h = tube height (cm)\n",
    "    # r = sphere radius\n",
    "#     stopifnot(length(v) == 1)\n",
    "    \n",
    "#     sphr_cap_vol = (4/3 * pi * r**3)/2\n",
    "    \n",
    "#     if(v <= sphr_cap_vol){\n",
    "#         # height does not extend to cylinder\n",
    "#         h = sphr_vol2height(v, r)\n",
    "#     } else {\n",
    "#         # height = sphere_cap + cylinder\n",
    "#         sphr_cap_height = sphr_vol2height(sphr_cap_vol, r)\n",
    "#         h =  sphr_cap_height + cyl_vol2height(v - sphr_cap_vol, r)\n",
    "#     }\n",
    "#     return(h)\n",
    "}"
   ]
  },
  {
   "cell_type": "code",
   "execution_count": null,
   "metadata": {
    "collapsed": true
   },
   "outputs": [],
   "source": []
  },
  {
   "cell_type": "code",
   "execution_count": null,
   "metadata": {
    "collapsed": true
   },
   "outputs": [],
   "source": []
  },
  {
   "cell_type": "code",
   "execution_count": null,
   "metadata": {
    "collapsed": true
   },
   "outputs": [],
   "source": [
    "%%R\n",
    "BD2tubeVol = function(BD){\n",
    "    if(BD > 1.809){\n",
    "        cat('WARNING: BD value', BD, 'is > 1.809, where tube volume = 0', \n",
    "            'Setting BD to 1.809\\n')\n",
    "        BD = 1.809\n",
    "    }\n",
    "    tube_vol = 545.9*BD**3 - 2771.9*BD**2 + 4664.9*BD - 2599.5\n",
    "    if(tube_vol < 0){\n",
    "        cat('WARNING: tube volume < 0 for BD: ', BD, \n",
    "            '\\n Setting volume to 0\\n')\n",
    "        tube_vol = 0\n",
    "    }\n",
    "    return(tube_vol)\n",
    "}\n",
    "\n",
    "# check\n",
    "BD2tubeVol(1.65) %>% print\n",
    "BD2tubeVol(1.7) %>% print\n",
    "BD2tubeVol(1.75) %>% print\n",
    "BD2tubeVol(1.8) %>% print\n",
    "BD2tubeVol(1.9) %>% print"
   ]
  },
  {
   "cell_type": "code",
   "execution_count": null,
   "metadata": {
    "collapsed": true
   },
   "outputs": [],
   "source": [
    "%%R\n",
    "# function to convert volume filling cfg tube to tube height\n",
    "tubeVol2height = function(v, r=0.65){\n",
    "    # v = volume (cm^3)\n",
    "    # r = sphere radius\n",
    "    stopifnot(length(v) == 1)\n",
    "    \n",
    "    sphr_cap_vol = (4/3 * pi * r**3)/2\n",
    "    \n",
    "    if(v <= sphr_cap_vol){\n",
    "        # height does not extend to cylinder\n",
    "        h = sphr_vol2height(v, r)\n",
    "    } else {\n",
    "        # height = sphere_cap + cylinder\n",
    "        sphr_cap_height = sphr_vol2height(sphr_cap_vol, r)\n",
    "        h =  sphr_cap_height + cyl_vol2height(v - sphr_cap_vol, r)\n",
    "    }\n",
    "    return(h)\n",
    "}\n"
   ]
  },
  {
   "cell_type": "code",
   "execution_count": null,
   "metadata": {
    "collapsed": true
   },
   "outputs": [],
   "source": [
    "%%R\n",
    "BD_gradient = rev(seq(min_BD, max_BD, 0.001))\n",
    "\n",
    "# wrapper function for BD2tubeVol & tubeVol2height\n",
    "BD2tubeHeight = function(BD, r){\n",
    "    stopifnot(length(BD) == 1)\n",
    "    v = BD2tubeVol(BD)\n",
    "    tubeVol2height(v, r)    \n",
    "}\n",
    "\n",
    "h = sapply(BD_gradient, BD2tubeHeight,  r=tube_radius__cm)\n",
    "df = data.frame('BD' = BD_gradient, 'height' = h)\n",
    "\n",
    "ggplot(df, aes(BD, h)) +\n",
    "    geom_point() +\n",
    "    labs(x='Buoyant density',\n",
    "         y='Tube height (cm)') +\n",
    "    theme_bw() +\n",
    "    theme(\n",
    "        text = element_text(size=16)\n",
    "    )"
   ]
  }
 ],
 "metadata": {
  "hide_input": true,
  "kernelspec": {
   "display_name": "Python 2",
   "language": "python",
   "name": "python2"
  },
  "language_info": {
   "codemirror_mode": {
    "name": "ipython",
    "version": 2
   },
   "file_extension": ".py",
   "mimetype": "text/x-python",
   "name": "python",
   "nbconvert_exporter": "python",
   "pygments_lexer": "ipython2",
   "version": "2.7.10"
  }
 },
 "nbformat": 4,
 "nbformat_minor": 0
}
