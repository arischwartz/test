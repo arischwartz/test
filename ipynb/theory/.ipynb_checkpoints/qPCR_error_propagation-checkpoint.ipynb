{
 "cells": [
  {
   "cell_type": "markdown",
   "metadata": {},
   "source": [
    "# Goal\n",
    "\n",
    "* Assessing the error in taxon abundances when using qPCR data + 16S sequence relative abundances to determine taxon proportional absolute abundances"
   ]
  },
  {
   "cell_type": "markdown",
   "metadata": {},
   "source": [
    "# Init"
   ]
  },
  {
   "cell_type": "code",
   "execution_count": 2,
   "metadata": {
    "collapsed": true
   },
   "outputs": [],
   "source": [
    "%load_ext rpy2.ipython"
   ]
  },
  {
   "cell_type": "code",
   "execution_count": 4,
   "metadata": {
    "collapsed": false
   },
   "outputs": [
    {
     "name": "stderr",
     "output_type": "stream",
     "text": [
      "/opt/anaconda/lib/python2.7/site-packages/rpy2/robjects/functions.py:106: UserWarning: \n",
      "Attaching package: ‘dplyr’\n",
      "\n",
      "\n",
      "  res = super(Function, self).__call__(*new_args, **new_kwargs)\n",
      "/opt/anaconda/lib/python2.7/site-packages/rpy2/robjects/functions.py:106: UserWarning: The following objects are masked from ‘package:stats’:\n",
      "\n",
      "    filter, lag\n",
      "\n",
      "\n",
      "  res = super(Function, self).__call__(*new_args, **new_kwargs)\n",
      "/opt/anaconda/lib/python2.7/site-packages/rpy2/robjects/functions.py:106: UserWarning: The following objects are masked from ‘package:base’:\n",
      "\n",
      "    intersect, setdiff, setequal, union\n",
      "\n",
      "\n",
      "  res = super(Function, self).__call__(*new_args, **new_kwargs)\n"
     ]
    }
   ],
   "source": [
    "%%R\n",
    "library(ggplot2)\n",
    "library(dplyr)\n",
    "library(tidyr)"
   ]
  },
  {
   "cell_type": "code",
   "execution_count": 3,
   "metadata": {
    "collapsed": true
   },
   "outputs": [],
   "source": [
    "def neg_binom_err(m, r, negs=False):\n",
    "    \"\"\"Adding negative binomial distribuiton error, where variance\n",
    "    scales more with the mean than a poisson distribution if (r < inf).\n",
    "\n",
    "    Parameters\n",
    "    ----------\n",
    "    m : float\n",
    "        Mean value\n",
    "    r : float\n",
    "        Negative binomial dispersion parameter\n",
    "    negs : bool\n",
    "        Negative values allowed? (otherwise 0)\n",
    "    \"\"\"\n",
    "    sigma = np.sqrt(m + m**2 / r)\n",
    "    x =  np.random.normal(m, sigma)\n",
    "    if negs==False and x < 0:\n",
    "        x = 0\n",
    "    return x"
   ]
  },
  {
   "cell_type": "markdown",
   "metadata": {},
   "source": [
    "# Making dataset"
   ]
  },
  {
   "cell_type": "code",
   "execution_count": 23,
   "metadata": {
    "collapsed": false
   },
   "outputs": [
    {
     "data": {
      "image/png": "[encoded data removed]"
     },
     "metadata": {},
     "output_type": "display_data"
    }
   ],
   "source": [
    "%%R -w 900 -h 300\n",
    "\n",
    "n = 500\n",
    "meanlog = 0.5\n",
    "sdlog = 1\n",
    "\n",
    "comm = rlnorm(n, meanlog, sdlog)\n",
    "comm = data.frame(1:length(comm), comm)\n",
    "colnames(comm) = c('taxon', 'count')\n",
    "\n",
    "comm = comm %>%\n",
    "    mutate(taxon = as.character(taxon)) %>%\n",
    "    group_by() %>%\n",
    "    mutate(rel_abund = count / sum(count)) %>%\n",
    "    ungroup()\n",
    "\n",
    "comm$taxon = reorder(comm$taxon, -comm$rel_abund)\n",
    "\n",
    "ggplot(comm, aes(taxon, rel_abund)) +\n",
    "    geom_point() +\n",
    "    theme_bw() +\n",
    "    theme(\n",
    "        axis.text.x = element_blank()\n",
    "    )"
   ]
  },
  {
   "cell_type": "markdown",
   "metadata": {},
   "source": [
    "# Simulating qPCR data"
   ]
  },
  {
   "cell_type": "code",
   "execution_count": null,
   "metadata": {
    "collapsed": false
   },
   "outputs": [],
   "source": [
    "%%R\n",
    "\n",
    "neg_binom_err = function(m, r, negs=FALSE){\n",
    "    sigma = sqrt(m + m**2 / r)\n",
    "    x = rnorm(1, m, sigma)\n",
    "    if (negs==FALSE & x < 0){\n",
    "        x = 0\n",
    "    }\n",
    "    return(x)\n",
    "}"
   ]
  },
  {
   "cell_type": "code",
   "execution_count": null,
   "metadata": {
    "collapsed": false
   },
   "outputs": [],
   "source": [
    "%%R\n",
    "\n",
    "total_copies = 1e9\n",
    "n_reps = 3\n",
    "r = 0.5\n",
    "\n",
    "neg_binom_err(total_copies, r)\n",
    "\n",
    "#sapply(1:n_reps, function(x) neg_binom_err(total_copies, r))"
   ]
  }
 ],
 "metadata": {
  "hide_input": true,
  "kernelspec": {
   "display_name": "Python 2",
   "language": "python",
   "name": "python2"
  },
  "language_info": {
   "codemirror_mode": {
    "name": "ipython",
    "version": 2
   },
   "file_extension": ".py",
   "mimetype": "text/x-python",
   "name": "python",
   "nbconvert_exporter": "python",
   "pygments_lexer": "ipython2",
   "version": "2.7.11"
  }
 },
 "nbformat": 4,
 "nbformat_minor": 0
}
