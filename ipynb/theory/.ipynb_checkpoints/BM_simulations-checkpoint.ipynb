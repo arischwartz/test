{
 "cells": [
  {
   "cell_type": "markdown",
   "metadata": {},
   "source": [
    "# Description\n",
    "\n",
    "Some tests on simulating brownian motion evolution"
   ]
  },
  {
   "cell_type": "markdown",
   "metadata": {},
   "source": [
    "## brownian motion model:\n",
    "\n",
    "> dX(t) = sigma * d * B(t)\n",
    "\n",
    "* sigma = standard deviation\n",
    "* B = random noise\n",
    "* t = time"
   ]
  },
  {
   "cell_type": "code",
   "execution_count": 2,
   "metadata": {
    "collapsed": true
   },
   "outputs": [],
   "source": [
    "import dendropy\n",
    "from scipy.stats import norm"
   ]
  },
  {
   "cell_type": "code",
   "execution_count": 12,
   "metadata": {
    "collapsed": false
   },
   "outputs": [
    {
     "data": {
      "text/plain": [
       "0.44491847561971076"
      ]
     },
     "execution_count": 12,
     "metadata": {},
     "output_type": "execute_result"
    }
   ],
   "source": [
    "def brownian(x0, n, dt, delta):\n",
    "    for i in xrange(n):\n",
    "        x0 += np.random.normal(scale=delta**2*dt)\n",
    "    return x0\n",
    "\n",
    "brownian(0.5, 10, 0.5, 0.25)"
   ]
  },
  {
   "cell_type": "code",
   "execution_count": 4,
   "metadata": {
    "collapsed": false
   },
   "outputs": [
    {
     "name": "stdout",
     "output_type": "stream",
     "text": [
      "T1 : -0.541148641712\n",
      "T2 : -0.616271210654\n",
      "T3 : 0.653110263093\n",
      "T4 : 0.962124941326\n",
      "T5 : -0.36967857664\n",
      "T6 : 1.69251796248\n",
      "T7 : 1.71744530603\n",
      "T8 : -0.00492935851821\n",
      "T9 : -0.176923455264\n",
      "T10 : -0.00337972505324\n"
     ]
    }
   ],
   "source": [
    "import random\n",
    "import dendropy\n",
    "\n",
    "def process_node(node, start=1.0):\n",
    "    if node.parent_node is None:\n",
    "        node.value = start\n",
    "    else:\n",
    "        node.value = random.gauss(node.parent_node.value, node.edge.length)\n",
    "    for child in node.child_nodes():\n",
    "        process_node(child)\n",
    "    if node.taxon is not None:\n",
    "        print(\"%s : %s\" % (node.taxon, node.value))\n",
    "\n",
    "        \n",
    "mle = dendropy.treesim.birth_death(birth_rate=1, death_rate=0.5, ntax=10)\n",
    "process_node(mle.seed_node)\n"
   ]
  },
  {
   "cell_type": "code",
   "execution_count": 44,
   "metadata": {
    "collapsed": false
   },
   "outputs": [
    {
     "name": "stdout",
     "output_type": "stream",
     "text": [
      "[ 0.88498692]\n",
      "[ 0.70247526]\n",
      "[ 0.64399443]\n",
      "[ 0.84922204]\n",
      "[ 0.34150368]\n",
      "[-0.03608391]\n",
      "[ 0.28334593]\n",
      "[ 0.60437544]\n",
      "[ 0.63495074]\n",
      "[ 0.55608189]\n"
     ]
    }
   ],
   "source": [
    "from math import sqrt\n",
    "from scipy.stats import norm\n",
    "import numpy as np\n",
    "     \n",
    "     \n",
    "def brownian(x0, n, dt, delta):\n",
    "    \"\"\"\\\n",
    "    Generate an instance of Brownian motion (i.e. the Wiener process):\n",
    "     \n",
    "        X(t) = X(0) + N(0, delta**2 * t; 0, t)\n",
    "     \n",
    "    where N(a,b; t0, t1) is a normally distributed random variable with mean a and\n",
    "    variance b.  The parameters t0 and t1 make explicit the statistical\n",
    "    independence of N on different time intervals; that is, if [t0, t1) and\n",
    "    [t2, t3) are disjoint intervals, then N(a, b; t0, t1) and N(a, b; t2, t3)\n",
    "    are independent.\n",
    "    \n",
    "    Arguments\n",
    "    ---------\n",
    "    x0 : float or numpy array (or something that can be converted to a numpy array\n",
    "         using numpy.asarray(x0)).\n",
    "        The initial condition(s) (i.e. position(s)) of the Brownian motion.\n",
    "    n : int\n",
    "        The number of steps to take.\n",
    "    dt : float\n",
    "        The time step.\n",
    "    delta : float\n",
    "        delta determines the \"speed\" of the Brownian motion.  The random variable\n",
    "        of the position at time t, X(t), has a normal distribution whose mean is\n",
    "        the position at time t=0 and whose variance is delta**2*t.\n",
    "\n",
    "    Returns\n",
    "    -------\n",
    "    A numpy array of floats with shape `x0.shape + (n,)`.\n",
    "    \n",
    "    Note that the initial value `x0` is not included in the returned array.\n",
    "    \"\"\"\n",
    "     \n",
    "    x0 = np.asarray(x0)\n",
    "     \n",
    "    # For each element of x0, generate a sample of n numbers from a\n",
    "    # normal distribution.\n",
    "    r = np.random.normal(size=x0.shape + (n,), scale=delta*np.sqrt(dt))\n",
    "     \n",
    "    # If `out` was not given, create an output array.\n",
    "    if out is None:\n",
    "        out = np.empty(r.shape)\n",
    "     \n",
    "    # This computes the Brownian motion by forming the cumulative sum of\n",
    "    # the random samples. \n",
    "    np.cumsum(r, axis=-1, out=out)\n",
    "     \n",
    "    # Add the initial condition.\n",
    "    out += np.expand_dims(x0, axis=-1)\n",
    "     \n",
    "    return out\n",
    "\n",
    "for i in xrange(10):\n",
    "    print brownian(0.5, 1, 1, 0.25)"
   ]
  },
  {
   "cell_type": "code",
   "execution_count": 50,
   "metadata": {
    "collapsed": false
   },
   "outputs": [
    {
     "name": "stdout",
     "output_type": "stream",
     "text": [
      "T1 : 1\n",
      "T2 : 0.778752702556\n",
      "T3 : 0.839397868542\n",
      "T4 : 0.910064289584\n",
      "T5 : 1\n",
      "T6 : 1\n",
      "T7 : 1\n",
      "T8 : 0.890143644791\n",
      "T9 : 1\n",
      "T10 : 0.664577232122\n"
     ]
    }
   ],
   "source": [
    "import random\n",
    "import dendropy\n",
    "\n",
    "def process_node(node, start=1.0):\n",
    "    if node.parent_node is None:\n",
    "        node.value = start\n",
    "    else:\n",
    "        x = brownian(node.parent_node.value, \n",
    "                                      n = 1,\n",
    "                                      dt = node.edge.length,\n",
    "                                      delta = 0.25)\n",
    "        x = float(x[-1])\n",
    "        x = x if x >=0 else 0\n",
    "        x = x if x <= 1 else 1\n",
    "        node.value = x\n",
    "    for child in node.child_nodes():\n",
    "        process_node(child)\n",
    "    if node.taxon is not None:\n",
    "        print(\"%s : %s\" % (node.taxon, node.value))\n",
    "\n",
    "        \n",
    "mle = dendropy.treesim.birth_death(birth_rate=1, death_rate=0.5, ntax=10)\n",
    "process_node(mle.seed_node)"
   ]
  },
  {
   "cell_type": "markdown",
   "metadata": {},
   "source": [
    "## brownian motion and purely random \n",
    "\n",
    "* function composed of both brownian motion and purely random selection\n",
    "* Idea from paper: \"How to measure and test phylogenetic signal\"\n",
    "  * http://onlinelibrary.wiley.com/doi/10.1111/j.2041-210X.2012.00196.x/epdf\n",
    "\n",
    "* a ratio parameter determines how much of the brownian motion vs random continuous value is use\n",
    "  * range of 0-1, 0 = random, 1 = BM\n",
    "  * BD_value * ratio + random_value * (1-ratio)\n",
    "  "
   ]
  },
  {
   "cell_type": "code",
   "execution_count": 158,
   "metadata": {
    "collapsed": false
   },
   "outputs": [
    {
     "name": "stdout",
     "output_type": "stream",
     "text": [
      "T1 : 0.00578562556579\n",
      "T2 : 0.158996438024\n",
      "T3 : 0.189514631499\n",
      "T4 : 0.186688554744\n",
      "T5 : -0.0387722622727\n",
      "T6 : 0.0052849461139\n",
      "T7 : 0.0860671259267\n",
      "T8 : 0.0135340232601\n",
      "T9 : -0.0110602888484\n",
      "T10 : -0.099397459099\n",
      "                          /--------------------------------------- T1 \n",
      "/-------------------------+                                           \n",
      "|                         |            /-------------------------- T2 \n",
      "|                         \\------------+                              \n",
      "|                                      |            /------------- T3 \n",
      "|                                      \\------------+                 \n",
      "|                                                   \\------------- T4 \n",
      "+                                                                     \n",
      "|                                      /-------------------------- T5 \n",
      "|                         /------------+                              \n",
      "|                         |            |            /------------- T6 \n",
      "|            /------------+            \\------------+                 \n",
      "|            |            |                         \\------------- T7 \n",
      "|            |            |                                           \n",
      "\\------------+            \\--------------------------------------- T8 \n",
      "             |                                                        \n",
      "             |                                      /------------- T9 \n",
      "             \\--------------------------------------+                 \n",
      "                                                    \\------------- T10\n",
      "                                                                      \n",
      "                                                                      \n"
     ]
    }
   ],
   "source": [
    "import numpy as np\n",
    "import scipy.stats as stats\n",
    "import dendropy\n",
    "\n",
    "def sim_trait(node, start=0, sigma=0.1, ratio=0.5, verbose=False):\n",
    "    if node.parent_node is None:\n",
    "        node.value = start\n",
    "    else:\n",
    "        BM = np.random.normal(loc=node.parent_node.value, scale=sigma)\n",
    "        #rnd = np.random.uniform(minVal, maxVal) \n",
    "        rnd = np.random.normal(loc=start, scale=sigma) \n",
    "        node.value = BM * ratio + rnd * (1 - ratio)\n",
    "        #print([BM, rnd, node.value])\n",
    "        #node.value = node.value if node.value >= minVal else minVal\n",
    "        #node.value = node.value if node.value <= maxVal else maxVal\n",
    "    for child in node.child_nodes():\n",
    "        sim_trait(child, start=start, sigma=sigma,\n",
    "                  ratio=ratio, verbose=verbose)\n",
    "    if verbose and node.taxon is not None:\n",
    "        print('{} : {}'.format(node.taxon, node.value))\n",
    "\n",
    "        \n",
    "mle = dendropy.treesim.birth_death(birth_rate=1, death_rate=0.5, ntax=10)\n",
    "sim_trait(mle.seed_node, verbose=True)\n",
    "mle.print_plot(display_width=70)"
   ]
  },
  {
   "cell_type": "markdown",
   "metadata": {},
   "source": [
    "## 2nd attempt"
   ]
  },
  {
   "cell_type": "code",
   "execution_count": null,
   "metadata": {
    "collapsed": true
   },
   "outputs": [],
   "source": [
    "from math import sqrt\n",
    "from scipy.stats import norm\n",
    "import numpy as np\n",
    "     \n",
    "     \n",
    "def brownian(x0, n, dt, delta):\n",
    "    \"\"\"\\\n",
    "    Generate an instance of Brownian motion (i.e. the Wiener process):\n",
    "     \n",
    "        X(t) = X(0) + N(0, delta**2 * t; 0, t)\n",
    "     \n",
    "    where N(a,b; t0, t1) is a normally distributed random variable with mean a and\n",
    "    variance b.  The parameters t0 and t1 make explicit the statistical\n",
    "    independence of N on different time intervals; that is, if [t0, t1) and\n",
    "    [t2, t3) are disjoint intervals, then N(a, b; t0, t1) and N(a, b; t2, t3)\n",
    "    are independent.\n",
    "    \n",
    "    Arguments\n",
    "    ---------\n",
    "    x0 : float or numpy array (or something that can be converted to a numpy array\n",
    "         using numpy.asarray(x0)).\n",
    "        The initial condition(s) (i.e. position(s)) of the Brownian motion.\n",
    "    n : int\n",
    "        The number of steps to take.\n",
    "    dt : float\n",
    "        The time step.\n",
    "    delta : float\n",
    "        delta determines the \"speed\" of the Brownian motion.  The random variable\n",
    "        of the position at time t, X(t), has a normal distribution whose mean is\n",
    "        the position at time t=0 and whose variance is delta**2*t.\n",
    "\n",
    "    Returns\n",
    "    -------\n",
    "    A numpy array of floats with shape `x0.shape + (n,)`.\n",
    "    \n",
    "    Note that the initial value `x0` is not included in the returned array.\n",
    "    \"\"\"\n",
    "     \n",
    "    x0 = np.asarray(x0)\n",
    "     \n",
    "    # For each element of x0, generate a sample of n numbers from a\n",
    "    # normal distribution.\n",
    "    r = np.random.normal(size=x0.shape + (n,), scale=delta*np.sqrt(dt))\n",
    "     \n",
    "    # If `out` was not given, create an output array.\n",
    "    if out is None:\n",
    "        out = np.empty(r.shape)\n",
    "     \n",
    "    # This computes the Brownian motion by forming the cumulative sum of\n",
    "    # the random samples. \n",
    "    np.cumsum(r, axis=-1, out=out)\n",
    "     \n",
    "    # Add the initial condition.\n",
    "    out += np.expand_dims(x0, axis=-1)\n",
    "     \n",
    "    return out\n",
    "\n",
    "for i in xrange(10):\n",
    "    print brownian(0.5, 1, 1, 0.25)"
   ]
  },
  {
   "cell_type": "code",
   "execution_count": 167,
   "metadata": {
    "collapsed": false
   },
   "outputs": [
    {
     "name": "stdout",
     "output_type": "stream",
     "text": [
      "T1 : -0.891054451744\n",
      "T2 : -0.322280465379\n",
      "T3 : -2.44657691116\n",
      "T4 : -0.0740668194434\n",
      "T5 : 0.997935100731\n",
      "T6 : 1.81915911621\n",
      "T7 : 0.884005888766\n",
      "T8 : 0.0804171223293\n",
      "T9 : -0.0614338765143\n",
      "T10 : 0.636976007026\n",
      "                                                       /---------- T1 \n",
      "                      /--------------------------------+              \n",
      "                      |                                \\---------- T2 \n",
      "                      |                                               \n",
      "           /----------+                                /---------- T3 \n",
      "           |          |          /---------------------+              \n",
      "           |          |          |                     \\---------- T4 \n",
      "           |          \\----------+                                    \n",
      "           |                     |          /--------------------- T5 \n",
      "/----------+                     \\----------+                         \n",
      "|          |                                |          /---------- T6 \n",
      "|          |                                \\----------+              \n",
      "|          |                                           \\---------- T7 \n",
      "+          |                                                          \n",
      "|          \\------------------------------------------------------ T8 \n",
      "|                                                                     \n",
      "|                                                      /---------- T9 \n",
      "\\------------------------------------------------------+              \n",
      "                                                       \\---------- T10\n",
      "                                                                      \n",
      "                                                                      \n"
     ]
    }
   ],
   "source": [
    "import numpy as np\n",
    "import dendropy\n",
    "\n",
    "def sim_traits(tree, start=0, sigma=0.1, weight=0.5, verbose=False):\n",
    "    \"\"\"Trait simulation as detailed in:\n",
    "    author = {Münkemüller, Tamara and Lavergne, Sébastien and Bzeznik,\n",
    "              Bruno and Dray, Stéphane and Jombart,\n",
    "              Thibaut and Schiffers, Katja and Thuiller, Wilfried},\n",
    "    title = {How to measure and test phylogenetic signal},\n",
    "    journal = {Methods in Ecology and Evolution}\n",
    "    \n",
    "    Args:\n",
    "    tree -- dendropy tree object\n",
    "    start -- starting value for continuous character evolution\n",
    "    sigma -- sigma use for drawing from a normal distribution\n",
    "    weight -- weight parameter for random vs Brownian motion\n",
    "              range: 0-1; 0 = purely random; 1 = purely Brownian\n",
    "    verbose -- verbose output\n",
    "    \"\"\"\n",
    "    ntaxa = len(tree.nodes())\n",
    "    # simulate brownian motion\n",
    "    BM = np.random.normal(loc=0, scale=sigma, size=ntaxa)\n",
    "    BM = np.cumsum(BM) + start\n",
    "    # random values\n",
    "    rnd = np.random.permutation(BM)\n",
    "    # making weighted sums\n",
    "    ws = weight * BM + (1-weight) * rnd\n",
    "    # z-scaling weighted sums\n",
    "    ws = (ws - np.mean(ws)) / np.std(ws)\n",
    "    \n",
    "    for i, node in enumerate(tree.preorder_node_iter()):\n",
    "        node.value = ws[i]\n",
    "        if verbose and node.taxon is not None:\n",
    "            print('{} : {}'.format(node.taxon, node.value))\n",
    "            \n",
    "    \n",
    "\n",
    "mle = dendropy.treesim.birth_death(birth_rate=1, death_rate=0.5, ntax=10)\n",
    "sim_traits(mle, verbose=True)\n",
    "mle.print_plot(display_width=70)"
   ]
  },
  {
   "cell_type": "code",
   "execution_count": 169,
   "metadata": {
    "collapsed": false
   },
   "outputs": [
    {
     "name": "stdout",
     "output_type": "stream",
     "text": [
      "T1 : 1.50565341718\n",
      "T2 : 0.508000165942\n",
      "T3 : 0.144948439186\n",
      "T4 : 0.84560056451\n",
      "T5 : 0.39228645008\n",
      "T6 : -0.0694699478639\n",
      "T7 : -1.25830579824\n",
      "T8 : -1.63654304486\n",
      "T9 : -0.610682714374\n",
      "T10 : -1.32751346635\n",
      "                /------------------------------------------------- T1 \n",
      "/---------------+                                                     \n",
      "|               |                /-------------------------------- T2 \n",
      "|               \\----------------+                                    \n",
      "|                                |               /---------------- T3 \n",
      "|                                \\---------------+                    \n",
      "+                                                \\---------------- T4 \n",
      "|                                                                     \n",
      "|                                                /---------------- T5 \n",
      "|               /--------------------------------+                    \n",
      "|               |                                \\---------------- T6 \n",
      "|               |                                                     \n",
      "\\---------------+                                /---------------- T7 \n",
      "                |                /---------------+                    \n",
      "                |                |               \\---------------- T8 \n",
      "                \\----------------+                                    \n",
      "                                 |               /---------------- T9 \n",
      "                                 \\---------------+                    \n",
      "                                                 \\---------------- T10\n",
      "                                                                      \n",
      "                                                                      \n"
     ]
    }
   ],
   "source": [
    "mle = dendropy.treesim.birth_death(birth_rate=1, death_rate=0.5, ntax=10)\n",
    "sim_traits(mle, weight=1, verbose=True)\n",
    "mle.print_plot(display_width=70)"
   ]
  },
  {
   "cell_type": "code",
   "execution_count": 170,
   "metadata": {
    "collapsed": false
   },
   "outputs": [
    {
     "name": "stdout",
     "output_type": "stream",
     "text": [
      "T1 : -1.35914169871\n",
      "T2 : -0.154150467806\n",
      "T3 : -1.40942068381\n",
      "T4 : -0.586737000775\n",
      "T5 : 1.2507582239\n",
      "T6 : -1.17633229963\n",
      "T7 : -0.223550833593\n",
      "T8 : 0.442030123667\n",
      "T9 : 0.556943323431\n",
      "T10 : -2.51103996866\n",
      "                      /------------------------------------------- T1 \n",
      "                      |                                               \n",
      "                      |                                /---------- T2 \n",
      "           /----------+                     /----------+              \n",
      "           |          |          /----------+          \\---------- T3 \n",
      "           |          |          |          |                         \n",
      "           |          \\----------+          \\--------------------- T4 \n",
      "/----------+                     |                                    \n",
      "|          |                     |                     /---------- T5 \n",
      "|          |                     \\---------------------+              \n",
      "|          |                                           \\---------- T6 \n",
      "+          |                                                          \n",
      "|          \\------------------------------------------------------ T7 \n",
      "|                                                                     \n",
      "|                                                      /---------- T8 \n",
      "|                                           /----------+              \n",
      "\\-------------------------------------------+          \\---------- T9 \n",
      "                                            |                         \n",
      "                                            \\--------------------- T10\n",
      "                                                                      \n",
      "                                                                      \n"
     ]
    }
   ],
   "source": [
    "mle = dendropy.treesim.birth_death(birth_rate=1, death_rate=0.5, ntax=10)\n",
    "sim_traits(mle, weight=0, verbose=True)\n",
    "mle.print_plot(display_width=70)"
   ]
  },
  {
   "cell_type": "markdown",
   "metadata": {},
   "source": [
    "# Dendropy sandbox"
   ]
  },
  {
   "cell_type": "code",
   "execution_count": 171,
   "metadata": {
    "collapsed": true
   },
   "outputs": [],
   "source": [
    "tree = dendropy.treesim.birth_death(birth_rate=1, death_rate=0.5, ntax=10)\n",
    "tree.find_node"
   ]
  },
  {
   "cell_type": "code",
   "execution_count": 178,
   "metadata": {
    "collapsed": false
   },
   "outputs": [],
   "source": [
    "chrMtx = dendropy.ContinuousCharacterMatrix()\n",
    "chrMtx.extend?"
   ]
  },
  {
   "cell_type": "code",
   "execution_count": 177,
   "metadata": {
    "collapsed": false
   },
   "outputs": [],
   "source": []
  }
 ],
 "metadata": {
  "hide_input": true,
  "kernelspec": {
   "display_name": "Python 2",
   "language": "python",
   "name": "python2"
  },
  "language_info": {
   "codemirror_mode": {
    "name": "ipython",
    "version": 2
   },
   "file_extension": ".py",
   "mimetype": "text/x-python",
   "name": "python",
   "nbconvert_exporter": "python",
   "pygments_lexer": "ipython2",
   "version": "2.7.10"
  }
 },
 "nbformat": 4,
 "nbformat_minor": 0
}
