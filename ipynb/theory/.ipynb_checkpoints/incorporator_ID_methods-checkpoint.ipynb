{
 "cells": [
  {
   "cell_type": "markdown",
   "metadata": {},
   "source": [
    "# Goal\n",
    "\n",
    "* Summary of the methods used by SIP studies to ID isotope incorporators"
   ]
  },
  {
   "cell_type": "markdown",
   "metadata": {},
   "source": [
    "## 'Heavy' fraction\n",
    "\n",
    "Anything found in the 'heavy' fraction is classified as an incorporator.\n",
    "\n",
    "* Methanotrophic bacteria in warm geothermal spring sediments identified using stable-isotope probing\n",
    "  * Christine E. Sharp, Azucena Martínez-Lorenzo, Allyson L. Brady, Stephen E. Grasby, Peter F. Dunfield\n",
    "  * https://femsec.oxfordjournals.org/content/90/1/92\n",
    "  * heavy window: 1.72-1.74\t\n",
    "  * nucleotide: DNA\n",
    "  * gradient CsCl\n",
    "  * isotope: 13CH4\n",
    "  * marker: pmoA\n",
    "  * sequencing: pyrosequencing"
   ]
  },
  {
   "cell_type": "code",
   "execution_count": null,
   "metadata": {
    "collapsed": true
   },
   "outputs": [],
   "source": []
  }
 ],
 "metadata": {
  "hide_input": true,
  "kernelspec": {
   "display_name": "Python 2",
   "language": "python",
   "name": "python2"
  },
  "language_info": {
   "codemirror_mode": {
    "name": "ipython",
    "version": 2
   },
   "file_extension": ".py",
   "mimetype": "text/x-python",
   "name": "python",
   "nbconvert_exporter": "python",
   "pygments_lexer": "ipython2",
   "version": "2.7.11"
  }
 },
 "nbformat": 4,
 "nbformat_minor": 0
}
