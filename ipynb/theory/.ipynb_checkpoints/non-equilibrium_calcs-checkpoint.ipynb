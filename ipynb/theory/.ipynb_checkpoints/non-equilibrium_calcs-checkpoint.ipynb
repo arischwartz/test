{
 "cells": [
  {
   "cell_type": "markdown",
   "metadata": {},
   "source": [
    "# Description:\n",
    "\n",
    "* calculations for modeling fragments in a CsCl gradient under non-equilibrium conditions"
   ]
  },
  {
   "cell_type": "markdown",
   "metadata": {},
   "source": [
    "# Notes"
   ]
  },
  {
   "cell_type": "markdown",
   "metadata": {},
   "source": [
    "* Good chapter on determining G+C content from CsCl gradient analysis\n",
    "  * http://www.academia.edu/428160/Using_Analytical_Ultracentrifugation_of_DNA_in_CsCl_Gradients_to_Explore_Large-Scale_Properties_of_Genomes\n",
    "\n",
    "* http://www.analyticalultracentrifugation.com/dynamic_density_gradients.htm\n",
    "\n",
    "* Meselson et al. - 1957 - Equilibrium Sedimentation of Macromolecules in Den\n",
    "\n",
    "* Vinograd et al. - 1963 - Band-Centrifugation of Macromolecules and Viruses \n",
    "\n",
    "* http://onlinelibrary.wiley.com.proxy.library.cornell.edu/doi/10.1002/bip.360101011/pdf\n",
    "\n",
    "\n",
    "## Ultracentrigation book\n",
    "http://books.google.com/books?hl=en&lr=&id=vxcSBQAAQBAJ&oi=fnd&pg=PA143&dq=Measurement+of+Density+Heterogeneity+by+Sedimentation+in&ots=l8ObYN-zVv&sig=Vcldf9_aqrJ-u7nQ1lBRKbknHps#v=onepage&q&f=false\n",
    "\n",
    "\n",
    "## Forum info\n",
    "* http://stackoverflow.com/questions/18624005/how-do-i-perform-a-convolution-in-python-with-a-variable-width-gaussian\n",
    "* http://timstaley.co.uk/posts/convolving-pdfs-in-python/\n",
    "\n",
    "\n",
    "## Possible workflows:\n",
    "\n",
    "### KDE convolution\n",
    "* KDE of fragment GC values\n",
    "* bandwidth cross validation: https://jakevdp.github.io/blog/2013/12/01/kernel-density-estimation/\n",
    "* convolution of KDE with diffusion function:\n",
    "\t* gaussian w/ mean of 0 and scale param = 44.5 (kb) / (mean fragment length)\n",
    "\t\t* http://www.academia.edu/428160/Using_Analytical_Ultracentrifugation_of_DNA_in_CsCl_Gradients_to_Explore_Large-Scale_Properties_of_Genomes\n",
    "\t* http://nbviewer.ipython.org/github/timstaley/ipython-notebooks/blob/compiled/probabilistic_programming/convolving_distributions_illustration.ipynb\n",
    "\n",
    "## variable KDE \n",
    "* variable KDE of fragment GC values where kernel sigma is determined by mean fragment length\n",
    "\t* gaussian w/ scale param = 44.5 (kb) / fragment length\n",
    "\n"
   ]
  },
  {
   "cell_type": "markdown",
   "metadata": {},
   "source": [
    "# Standard deviation of homogeneous DNA fragments"
   ]
  },
  {
   "cell_type": "markdown",
   "metadata": {},
   "source": [
    "Vinograd et al., 1963; (band-centrifugation): \n",
    "\n",
    "\\begin{align}\n",
    "\\sigma^2 = \\frac{r_0}{r_0^0} \\left\\{ \\frac{r_0}{r_0^0} + 2D \\left( t - t^0 \\right) \\right\\}\n",
    "\\end{align}"
   ]
  },
  {
   "cell_type": "markdown",
   "metadata": {},
   "source": [
    "## Standard deviation of Gaussian band (assuming equilibrium), Meselson et al., 1957:\n",
    "\n",
    "\\begin{align}\n",
    "\\sigma^2 = -\\sqrt{w} \\\\\n",
    "w = \\textrm{molecular weight}\n",
    "\\end{align}"
   ]
  },
  {
   "cell_type": "markdown",
   "metadata": {},
   "source": [
    "## Standard deviation of Gaussian band at a given time, Meselson et al., 1957:\n",
    "\n",
    "\\begin{equation}\n",
    "t^* = \\frac{\\sigma^2}{D} \\left(ln \\frac{L}{\\sigma} + 1.26 \\right), \\quad L\\gg\\sigma \\\\\n",
    "\\sigma^2 = \\textrm{stdev at equilibrium} \\\\\n",
    "L = \\textrm{length of column}\n",
    "\\end{equation}\n",
    "\n",
    "\n",
    "\n",
    "\n",
    "* Gaussian within 1% of equillibrium value from center.\n",
    "* ! assumes density gradient established at t = 0\n",
    "\n",
    "\n",
    "### Alternative form (from isopynic tech manual):\n",
    "\n",
    "\\begin{align}\n",
    "t = \\frac{\\beta^{\\circ}(p_p - p_m)}{w^4 r_p^2 s} * \\left(1.26 + ln \\frac{r_b - r_t}{\\sigma}\\right)\n",
    "\\end{align}\n",
    "\n",
    "\n",
    "\\begin{equation}\n",
    "t = \\textrm{time in seconds} \\\\\n",
    "\\beta^{\\circ} = \\beta^{\\circ} \\textrm{ of salt forming the density gradient (CsCl = ?)} \\\\\n",
    "p_p = \\textrm{buoyant density of the the particle in the salt} \\\\\n",
    "p_m = \\textrm{density of the medium (at the given radius?)} \\\\\n",
    "w = \\textrm{angular velocity} \\\\\n",
    "r_p = \\textrm{distance (cm) of particle from from the axis of rotation} \\\\\n",
    "s = \\textrm{sedimentation rate } (S_{20,w} * 10^{-13}) \\\\\n",
    "r_b = \\textrm{distance to top of gradient} \\\\\n",
    "r_t = \\textrm{distance to bottom of gradient} \\\\\n",
    "r_b - r_t = \\textrm{length of gradient (L)}\n",
    "\\end{equation}\n",
    "\n",
    "\n",
    "### Solving for sigma:\n",
    "\n",
    "\\begin{align}\n",
    "\\sigma = \\frac{L}{e^{\\left(\\frac{w^4 r_p^2 s t}{\\beta^{\\circ}(p_p - p_m)} - 1.26\\right)}}\n",
    "\\end{align}"
   ]
  },
  {
   "cell_type": "markdown",
   "metadata": {},
   "source": [
    "# Variables specific to the Buckley lab setup\n",
    "\n",
    "\\begin{equation}\n",
    "\\omega = (2\\pi \\times \\textrm{RPM}) /60, \\quad \\textrm{RPM} = 55000 \\\\\n",
    "\\beta^{\\circ} = 1.14 \\times 10^9 \\\\\n",
    "r_b = 4.85 \\\\\n",
    "r_t = 2.6 \\\\\n",
    "L = r_b - r_t \\\\\n",
    "s = S_{20,w} * 10^{-13} = 2.8 + 0.00834 * (l*666)^{0.479}, \\quad \\textrm{where l = length of fragment} \\\\\n",
    "p_m = 1.7 \\\\\n",
    "p_p = \\textrm{buoyant density of the particle in CsCl} \\\\\n",
    "r_p = ? \\\\\n",
    "t = \\textrm{independent variable}\n",
    "\\end{equation}\n",
    "\n",
    "\n",
    "__isoconcentration point__\n",
    "\n",
    "\\begin{equation}\n",
    "r_c = \\sqrt{(r_t^2 + r_t * r_b + r_b^2)/3}\n",
    "\\end{equation}\n",
    "\n",
    "__r<sub>p</sub> in relation to the particle's buoyant density (assuming equilibrium?)__\n",
    "\n",
    "\\begin{equation}\n",
    "r_p = \\sqrt{ ((p_p-p_m)*2*\\frac{\\beta^{\\circ}}{w}) + r_c^2 } \\\\\n",
    "p_p = \\textrm{buoyant density}\n",
    "\\end{equation}\n",
    "\n",
    "Maybe this should be drawn from a uniform distribution (particules distributed evenly across the gradient)???\n",
    "\n",
    "__buoyant density of a DNA fragment in CsCl__\n",
    "\n",
    "\\begin{equation}\n",
    "p_p = 0.098F + 1.66, \\quad \\textrm{where F = G+C molar fraction}\n",
    "\\end{equation}\n",
    "\n",
    "__calculating gradient density at specific radius (to calculate p_m)__\n",
    "\n",
    "??\n",
    "\n",
    "__info needed on a DNA fragment to determine it's sigma of the Guassian distribution__\n",
    "\n",
    "* fragment length\n",
    "* fragment G+C"
   ]
  },
  {
   "cell_type": "markdown",
   "metadata": {},
   "source": [
    "# Coding equations"
   ]
  },
  {
   "cell_type": "code",
   "execution_count": 1,
   "metadata": {
    "collapsed": true
   },
   "outputs": [],
   "source": [
    "%load_ext rpy2.ipython"
   ]
  },
  {
   "cell_type": "code",
   "execution_count": 43,
   "metadata": {
    "collapsed": false
   },
   "outputs": [],
   "source": [
    "%%R\n",
    "library(dplyr)\n",
    "library(tidyr)\n",
    "library(ggplot2)\n",
    "library(gridExtra)"
   ]
  },
  {
   "cell_type": "code",
   "execution_count": 31,
   "metadata": {
    "collapsed": false
   },
   "outputs": [],
   "source": [
    "%%R\n",
    "GC2BD = function(GC){\n",
    "    # GC = percentage\n",
    "    GC / 100 * 0.098 + 1.66\n",
    "}\n",
    "\n",
    "rpm2w2 = function(rpm){\n",
    "    x = 2 * pi * rpm / 60\n",
    "    x**2\n",
    "}\n",
    "\n",
    "calc_R_c = function(r_t, r_b){\n",
    "    x = r_t**2 + r_t * r_b + r_b**2\n",
    "    sqrt(x/3) \n",
    "}\n",
    "\n",
    "calc_R_p = function(p_p, p_m, B, w, r_c){\n",
    "    # distance of the particle from the axis of rotation (at equilibrium)\n",
    "    x = ((p_p - p_m) * 2 * B / w) + r_c**2\n",
    "    sqrt(x)\n",
    "}\n",
    "\n",
    "calc_S = function(l){\n",
    "    S = 2.8 + 0.00834 * (l * 666)**0.479 \n",
    "    S = S * 1e-13\n",
    "}\n",
    "\n",
    "calc_dif_sigma = function(L, w, r_p, S, t, B, p_p, p_m){\n",
    "    nom = w**2 * r_p**2 * S * t\n",
    "    denom = B * (p_p - p_m)\n",
    "    x = nom / denom - 1.26\n",
    "    sigma = L / exp(x)\n",
    "}\n",
    "\n",
    "\n",
    "R_p2BD = function(r_p, p_m, B, w, r_c){\n",
    "    # converting a distance from center of rotation of a particle to buoyant density\n",
    "    ## inverse of `calc_R_p`\n",
    "    nom = (r_p**2 - r_c**2) * w\n",
    "    nom / (2 * B) + p_m\n",
    "}\n",
    "\n",
    "sigma2BD = function(r_p, sigma, p_m, B, w, r_c){\n",
    "    BD_low = R_p2BD(r_p - sigma, p_m, B, w, r_c)\n",
    "    BD_high = R_p2BD(r_p + sigma, p_m, B, w, r_c)\n",
    "    BD_high - BD_low\n",
    "}"
   ]
  },
  {
   "cell_type": "code",
   "execution_count": 32,
   "metadata": {
    "collapsed": false
   },
   "outputs": [
    {
     "data": {
      "text/plain": [
       "[1] 4.987628\n"
      ]
     },
     "metadata": {},
     "output_type": "display_data"
    }
   ],
   "source": [
    "%%R\n",
    "rpm = 55000\n",
    "B = 1.14e9\n",
    "r_b = 4.85\n",
    "r_t = 2.6\n",
    "L = r_b - r_t\n",
    "p_m = 1.7\n",
    "\n",
    "l = 50000     # bp\n",
    "GC = 50       # percent\n",
    "t = 80        # hours\n",
    "\n",
    "S = calc_S(l)\n",
    "w2 = rpm2w2(rpm)\n",
    "p_p = GC2BD(GC)\n",
    "r_c = calc_R_c(r_t, r_b)\n",
    "r_p = calc_R_p(p_p, p_m, B, w2, r_c)\n",
    "\n",
    "sigma = calc_dif_sigma(L, w2, r_p, S, t, B, p_p, p_m)\n",
    "sigma"
   ]
  },
  {
   "cell_type": "markdown",
   "metadata": {},
   "source": [
    "# Graphing sigma as a function of time & fragment length"
   ]
  },
  {
   "cell_type": "code",
   "execution_count": 46,
   "metadata": {
    "collapsed": false
   },
   "outputs": [
    {
     "data": {
      "image/png": "[encoded data removed]"
     },
     "metadata": {},
     "output_type": "display_data"
    }
   ],
   "source": [
    "%%R -h 300 -w 850\n",
    "calc_sigma_BD = function(t, l, rpm, GC, r_t, r_b, p_m, B, w2, L){\n",
    "    S = calc_S(l)\n",
    "    w2 = rpm2w2(rpm)\n",
    "    p_p = GC2BD(GC)\n",
    "    r_c = calc_R_c(r_t, r_b)\n",
    "    r_p = calc_R_p(p_p, p_m, B, w2, r_c)\n",
    "    sigma = calc_dif_sigma(L, w2, r_p, S, t, B, p_p, p_m)\n",
    "    sigma_BD = sigma2BD(r_p, sigma, p_m, B, w2, r_c)\n",
    "    return(sigma_BD)\n",
    "}\n",
    "\n",
    "# plotting\n",
    "l = 50**seq(1,3, by=0.05)\n",
    "t = 6**seq(1,7.5, by=0.05)\n",
    "mtx = outer(l, t, calc_sigma_BD, rpm=rpm, GC=GC, r_t=r_t, r_b=r_b, p_m=p_m, B=B, w2=w2, L=L)\n",
    "colnames(mtx) = t\n",
    "rownames(mtx) = l\n",
    "mtx = as.data.frame(mtx) %>%\n",
    "    mutate(l = rownames(.)) %>%\n",
    "    gather(t, sigma, 1:length(t)) %>%\n",
    "    mutate(t = t %>% as.numeric,\n",
    "           l = l %>% as.numeric)\n",
    "\n",
    "cols = rainbow(12)\n",
    "\n",
    "p1 = ggplot(mtx, aes(t, l, fill=sigma)) +\n",
    "    geom_tile() +\n",
    "    scale_x_log10(expand=c(0,0)) +\n",
    "    scale_y_log10(expand=c(0,0)) +\n",
    "    scale_fill_gradientn(colors=cols) +\n",
    "    geom_hline(yintercept=4000, linetype='dashed', color='black') +\n",
    "    geom_vline(xintercept=60*60*66, linetype='dashed', color='black') +\n",
    "    labs(x='Time', y='Length') +\n",
    "    theme_bw() +\n",
    "    theme(\n",
    "        text = element_text(size=16)\n",
    "    )\n",
    "\n",
    "p2 = p1 + scale_fill_gradientn(colors=cols, trans='log10')\n",
    "grid.arrange(p1, p2, ncol=2)"
   ]
  },
  {
   "cell_type": "markdown",
   "metadata": {},
   "source": [
    "### What is the largest sigma for fragments in Buckley Lab HR-SIP?"
   ]
  },
  {
   "cell_type": "code",
   "execution_count": 72,
   "metadata": {
    "collapsed": false
   },
   "outputs": [
    {
     "data": {
      "image/png": "[encoded data removed]"
     },
     "metadata": {},
     "output_type": "display_data"
    }
   ],
   "source": [
    "%%R -h 300\n",
    "max_sigma = mtx %>% \n",
    "    filter(l >= 500, t>= 360*66) %>%\n",
    "    filter(sigma == max(sigma))\n",
    "\n",
    "max_sigma = max_sigma[3] %>% as.numeric\n",
    "\n",
    "\n",
    "BD_range = seq(1.66, 1.8, 0.001)\n",
    "density = dnorm(BD_range, mean=1.7, sd=max_sigma) \n",
    "df = data.frame(BD_range=BD_range, density=density)\n",
    "\n",
    "# plotting\n",
    "ggplot(df, aes(BD_range, density)) +\n",
    "    geom_area() +\n",
    "    theme_bw() +\n",
    "    theme(\n",
    "        text = element_text(size=16)\n",
    "    )\n"
   ]
  },
  {
   "cell_type": "markdown",
   "metadata": {},
   "source": [
    "# Graphing the equations above"
   ]
  },
  {
   "cell_type": "code",
   "execution_count": null,
   "metadata": {
    "collapsed": false
   },
   "outputs": [],
   "source": [
    "%pylab inline"
   ]
  },
  {
   "cell_type": "code",
   "execution_count": null,
   "metadata": {
    "collapsed": false
   },
   "outputs": [],
   "source": [
    "import scipy as sp\n",
    "import numpy as np\n",
    "import pandas as pd\n",
    "import matplotlib.pyplot as plt\n",
    "import mixture\n",
    "#import sklearn.mixture as mixture"
   ]
  },
  {
   "cell_type": "markdown",
   "metadata": {},
   "source": [
    "## Generating fragments"
   ]
  },
  {
   "cell_type": "code",
   "execution_count": null,
   "metadata": {
    "collapsed": false
   },
   "outputs": [],
   "source": [
    "n_frags = 10000\n",
    "frag_GC = np.random.normal(0.5,0.1,n_frags)\n",
    "frag_GC[frag_GC < 0] = 0\n",
    "frag_GC[frag_GC > 1] = 1\n",
    "frag_len = np.random.normal(10000,1000,n_frags)"
   ]
  },
  {
   "cell_type": "code",
   "execution_count": null,
   "metadata": {
    "collapsed": false
   },
   "outputs": [],
   "source": [
    "ret = plt.hist2d(frag_GC, frag_len, bins=100)"
   ]
  },
  {
   "cell_type": "markdown",
   "metadata": {},
   "source": [
    "## Setting variables"
   ]
  },
  {
   "cell_type": "code",
   "execution_count": null,
   "metadata": {
    "collapsed": false
   },
   "outputs": [],
   "source": [
    "RPM = 55000\n",
    "omega = (2 * np.pi * RPM) / 60\n",
    "\n",
    "beta_o = 1.14 * 10**9\n",
    "\n",
    "radius_bottom = 4.85 \n",
    "radius_top = 2.6 \n",
    "col_len = radius_bottom - radius_top\n",
    "\n",
    "density_medium = 1.7"
   ]
  },
  {
   "cell_type": "markdown",
   "metadata": {},
   "source": [
    "## Calculation functions"
   ]
  },
  {
   "cell_type": "code",
   "execution_count": null,
   "metadata": {
    "collapsed": false
   },
   "outputs": [],
   "source": [
    "# BD from GC\n",
    "frag_BD = 0.098 * frag_GC + 1.66\n",
    "\n",
    "ret = plt.hist(frag_BD, bins=100)"
   ]
  },
  {
   "cell_type": "code",
   "execution_count": null,
   "metadata": {
    "collapsed": false
   },
   "outputs": [],
   "source": [
    "sedimentation = (frag_len*666)**0.479 * 0.00834 + 2.8   # l = length of fragment\n",
    "\n",
    "ret = plt.hist(sedimentation, bins=100)"
   ]
  },
  {
   "cell_type": "code",
   "execution_count": null,
   "metadata": {
    "collapsed": false
   },
   "outputs": [],
   "source": [
    "# sedimentation as a function of fragment length \n",
    "len_range = np.arange(1,10000, 100)\n",
    "\n",
    "ret = plt.scatter(len_range, 2.8 + 0.00834 * (len_range*666)**0.479 )"
   ]
  },
  {
   "cell_type": "code",
   "execution_count": null,
   "metadata": {
    "collapsed": false
   },
   "outputs": [],
   "source": [
    "# isoconcentration point\n",
    "iso_point = sqrt((radius_top**2 + radius_top * radius_bottom + radius_bottom**2)/3)\n",
    "iso_point"
   ]
  },
  {
   "cell_type": "code",
   "execution_count": null,
   "metadata": {
    "collapsed": false
   },
   "outputs": [],
   "source": [
    "# radius of particle\n",
    "\n",
    "#radius_particle = np.sqrt( (frag_BD - density_medium)*2*(beta_o/omega) + iso_point**2 )\n",
    "\n",
    "\n",
    "#ret = plt.hist(radius_particle)"
   ]
  },
  {
   "cell_type": "code",
   "execution_count": null,
   "metadata": {
    "collapsed": false
   },
   "outputs": [],
   "source": []
  },
  {
   "cell_type": "markdown",
   "metadata": {},
   "source": [
    "# Testing out speed of mixture models"
   ]
  },
  {
   "cell_type": "code",
   "execution_count": null,
   "metadata": {
    "collapsed": false
   },
   "outputs": [],
   "source": [
    "n_dists = 10\n",
    "n_samp = 10000"
   ]
  },
  {
   "cell_type": "code",
   "execution_count": null,
   "metadata": {
    "collapsed": false
   },
   "outputs": [],
   "source": [
    "def make_mm(n_dists):\n",
    "    dist_loc = np.random.uniform(0,1,n_dists)\n",
    "    dist_scale = np.random.uniform(0,0.1, n_dists)\n",
    "    dists = [mixture.NormalDistribution(x,y) for x,y in zip(dist_loc, dist_scale)]\n",
    "    eq_weights = np.array([1.0 / n_dists] * n_dists)\n",
    "    eq_weights[0] += 1.0 - np.sum(eq_weights)\n",
    "    return mixture.MixtureModel(n_dists, eq_weights, dists)"
   ]
  },
  {
   "cell_type": "code",
   "execution_count": null,
   "metadata": {
    "collapsed": false
   },
   "outputs": [],
   "source": [
    "mm = make_mm(n_dists)"
   ]
  },
  {
   "cell_type": "code",
   "execution_count": null,
   "metadata": {
    "collapsed": false
   },
   "outputs": [],
   "source": [
    "%%timeit\n",
    "smp = mm.sampleDataSet(n_samp).getInternalFeature(0).flatten()"
   ]
  },
  {
   "cell_type": "code",
   "execution_count": null,
   "metadata": {
    "collapsed": false
   },
   "outputs": [],
   "source": [
    "%%timeit\n",
    "smp = np.array([mm.sample() for i in arange(n_samp)])"
   ]
  },
  {
   "cell_type": "code",
   "execution_count": null,
   "metadata": {
    "collapsed": false
   },
   "outputs": [],
   "source": [
    "n_dists = 1000\n",
    "mm = make_mm(n_dists)"
   ]
  },
  {
   "cell_type": "code",
   "execution_count": null,
   "metadata": {
    "collapsed": false
   },
   "outputs": [],
   "source": [
    "%%timeit\n",
    "smp = mm.sampleDataSet(n_samp).getInternalFeature(0).flatten()"
   ]
  },
  {
   "cell_type": "code",
   "execution_count": null,
   "metadata": {
    "collapsed": false
   },
   "outputs": [],
   "source": [
    "%%timeit\n",
    "smp = np.array([mm.sample() for i in arange(n_samp)])"
   ]
  },
  {
   "cell_type": "code",
   "execution_count": null,
   "metadata": {
    "collapsed": false
   },
   "outputs": [],
   "source": [
    "n_dists = 10000\n",
    "mm = make_mm(n_dists)"
   ]
  },
  {
   "cell_type": "code",
   "execution_count": null,
   "metadata": {
    "collapsed": false
   },
   "outputs": [],
   "source": [
    "%%timeit\n",
    "smp = mm.sampleDataSet(n_samp).getInternalFeature(0).flatten()"
   ]
  },
  {
   "cell_type": "code",
   "execution_count": null,
   "metadata": {
    "collapsed": false
   },
   "outputs": [],
   "source": [
    "%%timeit\n",
    "smp = np.array([mm.sample() for i in arange(n_samp)])"
   ]
  },
  {
   "cell_type": "code",
   "execution_count": null,
   "metadata": {
    "collapsed": false
   },
   "outputs": [],
   "source": [
    "n_samp = 100000"
   ]
  },
  {
   "cell_type": "code",
   "execution_count": null,
   "metadata": {
    "collapsed": false
   },
   "outputs": [],
   "source": [
    "%%timeit\n",
    "smp = mm.sampleDataSet(n_samp).getInternalFeature(0).flatten()"
   ]
  },
  {
   "cell_type": "code",
   "execution_count": null,
   "metadata": {
    "collapsed": false
   },
   "outputs": [],
   "source": [
    "%%timeit\n",
    "smp = np.array([mm.sample() for i in arange(n_samp)])"
   ]
  },
  {
   "cell_type": "markdown",
   "metadata": {},
   "source": [
    "__Notes:__\n",
    "\n",
    "* a mixture model with many distributions (>1000) is very slow for sampling"
   ]
  },
  {
   "cell_type": "code",
   "execution_count": null,
   "metadata": {
    "collapsed": false
   },
   "outputs": [],
   "source": [
    "x = np.random.normal(3, 1, 100)\n",
    "y = np.random.normal(1, 1, 100)\n",
    "H, xedges, yedges = np.histogram2d(y, x, bins=100)"
   ]
  },
  {
   "cell_type": "code",
   "execution_count": null,
   "metadata": {
    "collapsed": false
   },
   "outputs": [],
   "source": [
    "H"
   ]
  },
  {
   "cell_type": "markdown",
   "metadata": {},
   "source": [
    "***\n",
    "***"
   ]
  },
  {
   "cell_type": "markdown",
   "metadata": {},
   "source": [
    "# Workflow for modeling DNA fragment locations in a gradient\n",
    "\n",
    "For each genome in mock community, simulate N fragments and calculate their Guassian distributions in the gradient.\n",
    "Create a mixture model of those Guassian distributions to sample A<sub>a</sub> fragments,\n",
    "where A<sub>a</sub> = the absolute abundance of the taxon in the mock community.\n",
    "One mixture model per genome.\n",
    "\n",
    "## User defined:\n",
    "\n",
    "* Rotor specs\n",
    "* cfg parameters (RPM, time)\n",
    "\n",
    "## Generate fragment density distributions\n",
    "\n",
    "* For each genome in the mock community:\n",
    "  * Simulate fragments\n",
    "  * Calculate sigma of Gaussian density distribution\n",
    "  * Create mixture model from all Gaussians of the fragments\n",
    "  \n",
    "## Simulate fraction communities\n",
    "\n",
    "* For each genome in mock community:\n",
    "  * sample fragments from mixture model based on total abundance of taxon in mock community\n",
    "  * bin fragments into gradient fractions"
   ]
  },
  {
   "cell_type": "code",
   "execution_count": null,
   "metadata": {
    "collapsed": false
   },
   "outputs": [],
   "source": []
  }
 ],
 "metadata": {
  "hide_input": true,
  "kernelspec": {
   "display_name": "Python 2",
   "language": "python",
   "name": "python2"
  },
  "language_info": {
   "codemirror_mode": {
    "name": "ipython",
    "version": 2
   },
   "file_extension": ".py",
   "mimetype": "text/x-python",
   "name": "python",
   "nbconvert_exporter": "python",
   "pygments_lexer": "ipython2",
   "version": "2.7.11"
  }
 },
 "nbformat": 4,
 "nbformat_minor": 0
}
