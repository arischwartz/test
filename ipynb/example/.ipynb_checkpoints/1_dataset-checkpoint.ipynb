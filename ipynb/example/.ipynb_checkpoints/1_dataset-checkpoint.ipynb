{
 "cells": [
  {
   "cell_type": "markdown",
   "metadata": {
    "deletable": true,
    "editable": true
   },
   "source": [
    "# Description:\n",
    "\n",
    "* The first thing to do is download a microbial genome dataset.\n",
    "* Here, we will be downloading 3 bacterial genomes with differing G+C contents:\n",
    "  * Clostridium ljungdahlii DSM13528 (G+C = 31.1)\n",
    "  * Escherichia coli 1303 (G+C = 50.7)\n",
    "  * Streptomyces pratensis ATCC33331 (G+C = 71.1)"
   ]
  },
  {
   "cell_type": "markdown",
   "metadata": {
    "deletable": true,
    "editable": true
   },
   "source": [
    "# Setting variables\n",
    "\n",
    "* \"workDir\" is the path to the working directory for this analysis (where the files will be download to) \n",
    "* **NOTE:** MAKE SURE to modify this path to the directory where YOU want to run the example. "
   ]
  },
  {
   "cell_type": "code",
   "execution_count": 51,
   "metadata": {
    "ExecuteTime": {
     "end_time": "2017-07-09T13:56:59.339267",
     "start_time": "2017-07-09T13:56:59.335394"
    },
    "collapsed": true,
    "deletable": true,
    "editable": true
   },
   "outputs": [],
   "source": [
    "workDir = '/home/nick/t/SIPSim_wSeq/'"
   ]
  },
  {
   "cell_type": "markdown",
   "metadata": {
    "deletable": true,
    "editable": true
   },
   "source": [
    "# Initializing\n",
    "\n",
    "* Loading packages & libraries\n",
    "* Make sure you have all of the dependencies!"
   ]
  },
  {
   "cell_type": "code",
   "execution_count": 52,
   "metadata": {
    "ExecuteTime": {
     "end_time": "2017-07-09T13:56:59.601067",
     "start_time": "2017-07-09T13:56:59.597820"
    },
    "collapsed": false,
    "deletable": true,
    "editable": true
   },
   "outputs": [],
   "source": [
    "import os"
   ]
  },
  {
   "cell_type": "code",
   "execution_count": 53,
   "metadata": {
    "ExecuteTime": {
     "end_time": "2017-07-09T13:56:59.732980",
     "start_time": "2017-07-09T13:56:59.727633"
    },
    "collapsed": false,
    "deletable": true,
    "editable": true
   },
   "outputs": [
    {
     "name": "stdout",
     "output_type": "stream",
     "text": [
      "The rpy2.ipython extension is already loaded. To reload it, use:\n",
      "  %reload_ext rpy2.ipython\n"
     ]
    }
   ],
   "source": [
    "%load_ext rpy2.ipython"
   ]
  },
  {
   "cell_type": "code",
   "execution_count": 54,
   "metadata": {
    "ExecuteTime": {
     "end_time": "2017-07-09T13:56:59.890715",
     "start_time": "2017-07-09T13:56:59.862895"
    },
    "collapsed": false,
    "deletable": true,
    "editable": true
   },
   "outputs": [
    {
     "name": "stdout",
     "output_type": "stream",
     "text": [
      "/home/nick/t/SIPSim_wSeq\n"
     ]
    }
   ],
   "source": [
    "# making directories\n",
    "## working directory\n",
    "if not os.path.isdir(workDir):\n",
    "    os.makedirs(workDir)\n",
    "%cd $workDir"
   ]
  },
  {
   "cell_type": "code",
   "execution_count": 55,
   "metadata": {
    "ExecuteTime": {
     "end_time": "2017-07-09T13:57:00.357262",
     "start_time": "2017-07-09T13:57:00.330647"
    },
    "collapsed": false,
    "deletable": true,
    "editable": true
   },
   "outputs": [
    {
     "name": "stdout",
     "output_type": "stream",
     "text": [
      "/home/nick/t/SIPSim_wSeq/genomes\n"
     ]
    }
   ],
   "source": [
    "# making directories\n",
    "## genome directory\n",
    "workDirGenome = os.path.join(workDir, 'genomes')\n",
    "if not os.path.isdir(workDirGenome):\n",
    "    os.mkdir(workDirGenome)  \n",
    "print(workDirGenome)"
   ]
  },
  {
   "cell_type": "markdown",
   "metadata": {
    "deletable": true,
    "editable": true
   },
   "source": [
    "**Let's check that SIPSim is installed**"
   ]
  },
  {
   "cell_type": "code",
   "execution_count": 56,
   "metadata": {
    "ExecuteTime": {
     "end_time": "2017-07-09T13:57:05.298309",
     "start_time": "2017-07-09T13:57:01.660773"
    },
    "collapsed": false,
    "deletable": true,
    "editable": true
   },
   "outputs": [
    {
     "name": "stdout",
     "output_type": "stream",
     "text": [
      "#-- Commands --#\n",
      "BD_shift\n",
      "communities\n",
      "DBL\n",
      "deltaBD\n",
      "diffusion\n",
      "fragment_KDE\n",
      "fragment_KDE_cat\n",
      "fragment_parse\n",
      "fragments\n",
      "genome_download\n",
      "genome_index\n",
      "genome_rename\n",
      "gradient_fractions\n",
      "HRSIP\n",
      "incorp_config_example\n",
      "isotope_incorp\n",
      "KDE_bandwidth\n",
      "KDE_info\n",
      "KDE_parse\n",
      "KDE_plot\n",
      "KDE_sample\n",
      "KDE_select_taxa\n",
      "OTU_add_error\n",
      "OTU_PCR\n",
      "OTU_sample_data\n",
      "OTU_subsample\n",
      "OTU_sum\n",
      "OTU_table\n",
      "OTU_wide_long\n",
      "qSIP\n",
      "qSIP_atom_excess\n",
      "tree_sim\n"
     ]
    }
   ],
   "source": [
    "%%bash\n",
    "source activate py27\n",
    "SIPSim -l"
   ]
  },
  {
   "cell_type": "markdown",
   "metadata": {
    "deletable": true,
    "editable": true
   },
   "source": [
    "# Downloading genomes\n",
    "\n",
    "* Downloading the genome sequences from NCBI based on their accession numbers.\n",
    "* If you had Taxonomy IDs, then you could use [ncbi-genome-download](https://github.com/kblin/ncbi-genome-download) instead for downloading."
   ]
  },
  {
   "cell_type": "code",
   "execution_count": 60,
   "metadata": {
    "ExecuteTime": {
     "end_time": "2017-07-09T13:57:05.317915",
     "start_time": "2017-07-09T13:57:05.312641"
    },
    "collapsed": false,
    "deletable": true,
    "editable": true
   },
   "outputs": [
    {
     "name": "stdout",
     "output_type": "stream",
     "text": [
      "File written: /home/nick/t/SIPSim_wSeq/genome_list.txt\n"
     ]
    }
   ],
   "source": [
    "taxa=\"\"\"Clostridium_ljungdahlii_DSM_13528\tNC_014328.1\n",
    "Escherichia_coli_1303\tNZ_CP009166.1\n",
    "Streptomyces_pratensis_ATCC_33331\tNC_016114.1\n",
    "\"\"\"\n",
    "\n",
    "genome_file = os.path.join(workDir, 'genome_list.txt')\n",
    "with open(genome_file, 'wb') as oFH:\n",
    "    oFH.write(taxa)\n",
    "    \n",
    "print 'File written: {}'.format(genome_file)"
   ]
  },
  {
   "cell_type": "code",
   "execution_count": 69,
   "metadata": {
    "ExecuteTime": {
     "end_time": "2017-07-09T14:02:04.476896",
     "start_time": "2017-07-09T14:01:57.082041"
    },
    "collapsed": false,
    "deletable": true,
    "editable": true
   },
   "outputs": [
    {
     "name": "stderr",
     "output_type": "stream",
     "text": [
      "File written: genomes/Clostridium_ljungdahlii_DSM_13528.fna\n",
      "File written: genomes/Escherichia_coli_1303.fna\n",
      "File written: genomes/Streptomyces_pratensis_ATCC_33331.fna\n"
     ]
    }
   ],
   "source": [
    "%%bash -s $genome_file\n",
    "source activate py27\n",
    "\n",
    "# downloading genomes\n",
    "SIPSim genome_download -d genomes -n 3 $1"
   ]
  },
  {
   "cell_type": "code",
   "execution_count": 70,
   "metadata": {
    "ExecuteTime": {
     "end_time": "2017-07-09T14:02:04.601045",
     "start_time": "2017-07-09T14:02:04.479723"
    },
    "collapsed": false,
    "deletable": true,
    "editable": true
   },
   "outputs": [
    {
     "name": "stdout",
     "output_type": "stream",
     "text": [
      "total 17M\r\n",
      "-rw-rw-r-- 1 nick nick 7.1M Jul  9 14:02 Streptomyces_pratensis_ATCC_33331.fna\r\n",
      "-rw-rw-r-- 1 nick nick 4.8M Jul  9 14:02 Escherichia_coli_1303.fna\r\n",
      "-rw-rw-r-- 1 nick nick 4.5M Jul  9 14:02 Clostridium_ljungdahlii_DSM_13528.fna\r\n"
     ]
    }
   ],
   "source": [
    "!ls -thlc genomes"
   ]
  },
  {
   "cell_type": "markdown",
   "metadata": {
    "deletable": true,
    "editable": true
   },
   "source": [
    "Hopefully all 3 genomes downloaded (the files should be non-empty)"
   ]
  },
  {
   "cell_type": "markdown",
   "metadata": {
    "deletable": true,
    "editable": true
   },
   "source": [
    "# Renaming genome sequences\n",
    "\n",
    "* Let's make the genome sequences a bit simpler "
   ]
  },
  {
   "cell_type": "code",
   "execution_count": 71,
   "metadata": {
    "ExecuteTime": {
     "end_time": "2017-07-09T14:02:09.614408",
     "start_time": "2017-07-09T14:02:09.485481"
    },
    "collapsed": false,
    "deletable": true,
    "editable": true
   },
   "outputs": [
    {
     "name": "stdout",
     "output_type": "stream",
     "text": [
      ">NC_014328.1 Clostridium ljungdahlii DSM 13528, complete genome\r\n",
      ">NZ_CP009166.1 Escherichia coli 1303, complete genome\r\n",
      ">NC_016114.1 Streptomyces pratensis ATCC 33331, complete genome\r\n"
     ]
    }
   ],
   "source": [
    "# current sequence names\n",
    "!grep \">\" genomes/*fna | perl -pe 's/.+:>/>/'"
   ]
  },
  {
   "cell_type": "code",
   "execution_count": 73,
   "metadata": {
    "ExecuteTime": {
     "end_time": "2017-07-09T14:02:46.365047",
     "start_time": "2017-07-09T14:02:42.675529"
    },
    "collapsed": false,
    "deletable": true,
    "editable": true
   },
   "outputs": [
    {
     "name": "stderr",
     "output_type": "stream",
     "text": [
      "File written: /home/nick/t/SIPSim_wSeq/genomes_rn/Escherichia_coli_1303.fna\n",
      "File written: /home/nick/t/SIPSim_wSeq/genomes_rn/Clostridium_ljungdahlii_DSM_13528.fna\n",
      "File written: /home/nick/t/SIPSim_wSeq/genomes_rn/Streptomyces_pratensis_ATCC_33331.fna\n"
     ]
    }
   ],
   "source": [
    "%%bash \n",
    "source activate py27\n",
    "\n",
    "# making sure each sequence is unique\n",
    "find ./genomes/ -name \"*fna\" | \\\n",
    "    SIPSim genome_rename -n 3 --prefix genomes_rn - "
   ]
  },
  {
   "cell_type": "code",
   "execution_count": 74,
   "metadata": {
    "ExecuteTime": {
     "end_time": "2017-07-09T14:02:46.483175",
     "start_time": "2017-07-09T14:02:46.366649"
    },
    "collapsed": false,
    "deletable": true,
    "editable": true
   },
   "outputs": [
    {
     "name": "stdout",
     "output_type": "stream",
     "text": [
      ">NC_014328_1_Clostridium_ljungdahlii_DSM_13528\r\n",
      ">NZ_CP009166_1_Escherichia_coli_1303\r\n",
      ">NC_016114_1_Streptomyces_pratensis_ATCC_33331\r\n"
     ]
    }
   ],
   "source": [
    "# NEW sequence names\n",
    "!grep \">\" genomes_rn/*fna | perl -pe 's/.+:>/>/'"
   ]
  },
  {
   "cell_type": "markdown",
   "metadata": {
    "deletable": true,
    "editable": true
   },
   "source": [
    "# Indexing genomes\n",
    "\n",
    "* One more step!\n",
    "  * Creating genome indices is needed for the upcoming *in-silico* PCR step"
   ]
  },
  {
   "cell_type": "code",
   "execution_count": 75,
   "metadata": {
    "ExecuteTime": {
     "end_time": "2017-07-09T14:03:15.200889",
     "start_time": "2017-07-09T14:03:15.196035"
    },
    "collapsed": false,
    "deletable": true,
    "editable": true
   },
   "outputs": [
    {
     "name": "stdout",
     "output_type": "stream",
     "text": [
      "/home/nick/t/SIPSim_wSeq/genomes_rn\n"
     ]
    }
   ],
   "source": [
    "# changing the working directory\n",
    "workDirGenome = os.path.join(workDir, 'genomes_rn')\n",
    "%cd $workDirGenome"
   ]
  },
  {
   "cell_type": "code",
   "execution_count": 76,
   "metadata": {
    "ExecuteTime": {
     "end_time": "2017-07-09T14:03:22.506741",
     "start_time": "2017-07-09T14:03:22.500659"
    },
    "collapsed": false,
    "deletable": true,
    "editable": true
   },
   "outputs": [
    {
     "name": "stdout",
     "output_type": "stream",
     "text": [
      "File written: /home/nick/t/SIPSim_wSeq/genomes_rn/genome_index.txt\n"
     ]
    }
   ],
   "source": [
    "# making index file (taxon_name<tab>taxon_genome_file_name)\n",
    "indexFile = \"\"\"Clostridium_ljungdahlii_DSM_13528 Clostridium_ljungdahlii_DSM_13528.fna\n",
    "Escherichia_coli_1303 Escherichia_coli_1303.fna\n",
    "Streptomyces_pratensis_ATCC_33331 Streptomyces_pratensis_ATCC_33331.fna\"\"\".replace(' ', '\\t')\n",
    "\n",
    "F = os.path.join(workDirGenome, 'genome_index.txt')\n",
    "with open(F, 'wb') as oFH:\n",
    "    oFH.write(indexFile)\n",
    "\n",
    "print 'File written: {}'.format(F)"
   ]
  },
  {
   "cell_type": "markdown",
   "metadata": {
    "deletable": true,
    "editable": true
   },
   "source": [
    "**Note:** this next step will use 3 processors (`--np`). Change this option if needed."
   ]
  },
  {
   "cell_type": "code",
   "execution_count": 77,
   "metadata": {
    "ExecuteTime": {
     "end_time": "2017-07-09T14:04:26.829635",
     "start_time": "2017-07-09T14:03:24.337532"
    },
    "collapsed": false,
    "deletable": true,
    "editable": true
   },
   "outputs": [
    {
     "name": "stderr",
     "output_type": "stream",
     "text": [
      "Indexing: \"Clostridium_ljungdahlii_DSM_13528\"\n",
      "Indexing: \"Escherichia_coli_1303\"\n",
      "Indexing: \"Streptomyces_pratensis_ATCC_33331\"\n",
      "#-- All genomes indexed --#\n"
     ]
    }
   ],
   "source": [
    "%%bash\n",
    "source activate py27\n",
    "# indexing genomes; saving log \n",
    "SIPSim genome_index genome_index.txt --fp . --np 3 > index_log.txt"
   ]
  },
  {
   "cell_type": "code",
   "execution_count": 78,
   "metadata": {
    "ExecuteTime": {
     "end_time": "2017-07-09T14:04:26.948876",
     "start_time": "2017-07-09T14:04:26.832235"
    },
    "collapsed": false,
    "deletable": true,
    "editable": true
   },
   "outputs": [
    {
     "name": "stdout",
     "output_type": "stream",
     "text": [
      "total 319M\r\n",
      "-rw-rw-r-- 1 nick nick 4.4K Jul  9 14:04 index_log.txt\r\n",
      "-rw-r--r-- 1 nick nick 135M Jul  9 14:04 Streptomyces_pratensis_ATCC_33331.fna.sqlite3.db\r\n",
      "-rw-r--r-- 1 nick nick  83M Jul  9 14:04 Escherichia_coli_1303.fna.sqlite3.db\r\n",
      "-rw-r--r-- 1 nick nick  82M Jul  9 14:04 Clostridium_ljungdahlii_DSM_13528.fna.sqlite3.db\r\n",
      "-rw-rw-r-- 1 nick nick 1.8M Jul  9 14:03 Streptomyces_pratensis_ATCC_33331.fna.2bit\r\n",
      "-rw-rw-r-- 1 nick nick 1.2M Jul  9 14:03 Escherichia_coli_1303.fna.2bit\r\n",
      "-rw-rw-r-- 1 nick nick 1.2M Jul  9 14:03 Clostridium_ljungdahlii_DSM_13528.fna.2bit\r\n",
      "-rw-rw-r-- 1 nick nick   91 Jul  9 14:03 Streptomyces_pratensis_ATCC_33331.fna.uni\r\n",
      "-rw-rw-r-- 1 nick nick   81 Jul  9 14:03 Escherichia_coli_1303.fna.uni\r\n",
      "-rw-rw-r-- 1 nick nick   91 Jul  9 14:03 Clostridium_ljungdahlii_DSM_13528.fna.uni\r\n",
      "-rw-rw-r-- 1 nick nick  191 Jul  9 14:03 genome_index.txt\r\n",
      "-rw-rw-r-- 1 nick nick 7.1M Jul  9 14:02 Streptomyces_pratensis_ATCC_33331.fna\r\n",
      "-rw-rw-r-- 1 nick nick 4.5M Jul  9 14:02 Clostridium_ljungdahlii_DSM_13528.fna\r\n",
      "-rw-rw-r-- 1 nick nick 4.8M Jul  9 14:02 Escherichia_coli_1303.fna\r\n"
     ]
    }
   ],
   "source": [
    "# checking all of the files produced in the ./genome_rn/ directory\n",
    "!ls -thlc"
   ]
  },
  {
   "cell_type": "markdown",
   "metadata": {
    "collapsed": false,
    "deletable": true,
    "editable": true
   },
   "source": [
    "# Next steps\n",
    "\n",
    "Now its time to move on to a [simulation](./2_simulation-shotgun.ipynb)! \n",
    "We will simulate some shotgun genome sequences. "
   ]
  },
  {
   "cell_type": "code",
   "execution_count": null,
   "metadata": {
    "collapsed": true,
    "deletable": true,
    "editable": true
   },
   "outputs": [],
   "source": []
  }
 ],
 "metadata": {
  "anaconda-cloud": {},
  "hide_input": true,
  "kernelspec": {
   "display_name": "Python [conda env:py27]",
   "language": "python",
   "name": "conda-env-py27-py"
  },
  "language_info": {
   "codemirror_mode": {
    "name": "ipython",
    "version": 2
   },
   "file_extension": ".py",
   "mimetype": "text/x-python",
   "name": "python",
   "nbconvert_exporter": "python",
   "pygments_lexer": "ipython2",
   "version": "2.7.13"
  },
  "toc": {
   "colors": {
    "hover_highlight": "#DAA520",
    "running_highlight": "#FF0000",
    "selected_highlight": "#FFD700"
   },
   "moveMenuLeft": true,
   "nav_menu": {
    "height": "138px",
    "width": "252px"
   },
   "navigate_menu": true,
   "number_sections": true,
   "sideBar": true,
   "threshold": 4,
   "toc_cell": false,
   "toc_section_display": "block",
   "toc_window_display": false
  }
 },
 "nbformat": 4,
 "nbformat_minor": 0
}
