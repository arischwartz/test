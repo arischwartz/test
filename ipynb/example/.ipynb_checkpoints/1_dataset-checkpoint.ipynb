{
 "cells": [
  {
   "cell_type": "markdown",
   "metadata": {
    "deletable": true,
    "editable": true
   },
   "source": [
    "# Description:\n",
    "\n",
    "* The first thing to do is download a microbial genome dataset.\n",
    "* Here, we will be downloading 3 bacterial genomes with differing G+C contents:\n",
    "  * Clostridium ljungdahlii DSM13528 (G+C = 31.1)\n",
    "  * Escherichia coli 1303 (G+C = 50.7)\n",
    "  * Streptomyces pratensis ATCC33331 (G+C = 71.1)"
   ]
  },
  {
   "cell_type": "markdown",
   "metadata": {
    "deletable": true,
    "editable": true
   },
   "source": [
    "# Setting variables\n",
    "\n",
    "> \"workDir\" is the path to the working directory for this analysis (where the files will be download to) "
   ]
  },
  {
   "cell_type": "code",
   "execution_count": 6,
   "metadata": {
    "ExecuteTime": {
     "end_time": "2017-07-13T14:29:22.863532",
     "start_time": "2017-07-13T14:29:22.861051"
    },
    "collapsed": true,
    "deletable": true,
    "editable": true
   },
   "outputs": [],
   "source": [
    "workDir = '../../t/SIPSim_example/'"
   ]
  },
  {
   "cell_type": "markdown",
   "metadata": {
    "deletable": true,
    "editable": true
   },
   "source": [
    "# Initializing\n",
    "\n",
    "* Loading packages & libraries\n",
    "* Make sure you have all of the dependencies!"
   ]
  },
  {
   "cell_type": "code",
   "execution_count": 7,
   "metadata": {
    "ExecuteTime": {
     "end_time": "2017-07-13T14:29:26.199277",
     "start_time": "2017-07-13T14:29:26.196786"
    },
    "collapsed": false,
    "deletable": true,
    "editable": true
   },
   "outputs": [],
   "source": [
    "import os"
   ]
  },
  {
   "cell_type": "code",
   "execution_count": 8,
   "metadata": {
    "ExecuteTime": {
     "end_time": "2017-07-13T14:29:27.448566",
     "start_time": "2017-07-13T14:29:26.334586"
    },
    "collapsed": false,
    "deletable": true,
    "editable": true
   },
   "outputs": [],
   "source": [
    "%load_ext rpy2.ipython"
   ]
  },
  {
   "cell_type": "code",
   "execution_count": 10,
   "metadata": {
    "ExecuteTime": {
     "end_time": "2017-07-13T14:29:48.841303",
     "start_time": "2017-07-13T14:29:48.836671"
    },
    "collapsed": false,
    "deletable": true,
    "editable": true
   },
   "outputs": [
    {
     "name": "stdout",
     "output_type": "stream",
     "text": [
      "/home/nick/notebook/SIPSim/t/SIPSim_example\n"
     ]
    }
   ],
   "source": [
    "# making directories\n",
    "## working directory\n",
    "workDir = os.path.abspath(workDir)\n",
    "if not os.path.isdir(workDir):\n",
    "    os.makedirs(workDir)\n",
    "%cd $workDir"
   ]
  },
  {
   "cell_type": "code",
   "execution_count": 11,
   "metadata": {
    "ExecuteTime": {
     "end_time": "2017-07-13T14:29:49.099801",
     "start_time": "2017-07-13T14:29:49.095789"
    },
    "collapsed": false,
    "deletable": true,
    "editable": true
   },
   "outputs": [
    {
     "name": "stdout",
     "output_type": "stream",
     "text": [
      "/home/nick/notebook/SIPSim/t/SIPSim_example/genomes\n"
     ]
    }
   ],
   "source": [
    "# making directories\n",
    "## genome directory\n",
    "workDirGenome = os.path.join(workDir, 'genomes')\n",
    "if not os.path.isdir(workDirGenome):\n",
    "    os.mkdir(workDirGenome)  \n",
    "print(workDirGenome)"
   ]
  },
  {
   "cell_type": "markdown",
   "metadata": {},
   "source": [
    "## SIPSim install & conda environment\n",
    "\n",
    "This example uses a conda environment called `SIPSim`"
   ]
  },
  {
   "cell_type": "code",
   "execution_count": 37,
   "metadata": {
    "ExecuteTime": {
     "end_time": "2017-07-13T14:53:31.129286",
     "start_time": "2017-07-13T14:53:30.245619"
    },
    "collapsed": false
   },
   "outputs": [
    {
     "name": "stdout",
     "output_type": "stream",
     "text": [
      "# packages in environment at /home/nick/bin/anaconda3/envs/SIPSim:\n",
      "#\n",
      "biopython                 1.70                      <pip>\n",
      "cairo                     1.12.18                       6  \n",
      "cython                    0.25.2                   py27_0  \n",
      "dill                      0.2.6                    py27_0  \n",
      "docopt                    0.6.2                    py27_0  \n",
      "fontconfig                2.11.1                        6  \n",
      "freetype                  2.5.5                         1  \n",
      "ghmm                      0.9                      py27_0    bioconda\n",
      "glib                      2.50.2                        1  \n",
      "gsl                       2.2.1                         0  \n",
      "intervaltree              2.1.0                    py27_0    bioconda\n",
      "libffi                    3.2.1                         1  \n",
      "libgcc                    5.2.0                         0  \n",
      "libgfortran               3.0.0                         1  \n",
      "libiconv                  1.14                          0  \n",
      "libpng                    1.6.17                        0  \n",
      "libuuid                   1.0.3                         0  \n",
      "libxcb                    1.12                          1  \n",
      "libxml2                   2.9.4                         0  \n",
      "matplotlib                1.4.3               np110py27_2  \n",
      "mkl                       11.3.3                        0  \n",
      "mpmath                    0.19                     py27_1  \n",
      "multiprocess              0.70.5                    <pip>\n",
      "multiprocess              0.70.5                   py27_0    conda-forge\n",
      "nomkl                     1.0                           0  \n",
      "numpy                     1.10.4             py27_nomkl_2  [nomkl]\n",
      "openblas                  0.2.14                        4  \n",
      "openssl                   1.0.2l                        0  \n",
      "pandas                    0.18.1              np110py27_0  \n",
      "pathos                    0.2.0                    py27_1    conda-forge\n",
      "pathos                    0.2.1                     <pip>\n",
      "pcre                      8.39                          1  \n",
      "pip                       9.0.1                    py27_1  \n",
      "pixman                    0.32.6                        0  \n",
      "pox                       0.2.3                    py27_0    conda-forge\n",
      "ppft                      1.6.4.7.1                py27_0    conda-forge\n",
      "py2cairo                  1.10.0                   py27_2  \n",
      "pyfasta                   0.5.2                    py27_0    bioconda\n",
      "pymix                     0.8                      py27_0    bioconda\n",
      "pyparsing                 2.0.3                    py27_0  \n",
      "pyqt                      4.11.4                   py27_4  \n",
      "python                    2.7.13                        0  \n",
      "python-dateutil           2.3                      py27_0    bioconda\n",
      "pytz                      2017.2                   py27_0  \n",
      "qt                        4.8.7                         3  \n",
      "readline                  6.2                           2  \n",
      "scipy                     0.17.1          np110py27_nomkl_1  [nomkl]\n",
      "setuptools                27.2.0                   py27_0  \n",
      "sip                       4.18                     py27_0  \n",
      "SIPSim                    0.2                       <pip>\n",
      "SIPSim-cpp                0.0.0                     <pip>\n",
      "six                       1.10.0                   py27_0  \n",
      "sortedcontainers          1.5.7                    py27_0  \n",
      "sqlite                    3.13.0                        0  \n",
      "swig                      3.0.10                        0  \n",
      "sympy                     1.1                      py27_0  \n",
      "tk                        8.5.18                        0  \n",
      "wheel                     0.29.0                   py27_0  \n",
      "xorg-kbproto              1.0.7                         1    conda-forge\n",
      "xorg-libice               1.0.9                         2    conda-forge\n",
      "xorg-libsm                1.2.2                         2    conda-forge\n",
      "xorg-libx11               1.6.4                         6    conda-forge\n",
      "xorg-libxau               1.0.8                         3    conda-forge\n",
      "xorg-libxdmcp             1.1.2                         3    conda-forge\n",
      "xorg-libxext              1.3.3                         2    conda-forge\n",
      "xorg-libxrender           0.9.10                        0    conda-forge\n",
      "xorg-renderproto          0.11.1                        1    conda-forge\n",
      "xorg-xextproto            7.3.0                         1    conda-forge\n",
      "xorg-xproto               7.0.31                        6    conda-forge\n",
      "zlib                      1.2.8                         3  \n"
     ]
    }
   ],
   "source": [
    "!conda list -n SIPSim "
   ]
  },
  {
   "cell_type": "markdown",
   "metadata": {
    "deletable": true,
    "editable": true
   },
   "source": [
    "**Let's check that SIPSim is installed properly**"
   ]
  },
  {
   "cell_type": "code",
   "execution_count": 13,
   "metadata": {
    "ExecuteTime": {
     "end_time": "2017-07-13T14:31:54.472632",
     "start_time": "2017-07-13T14:31:49.314506"
    },
    "collapsed": false,
    "deletable": true,
    "editable": true
   },
   "outputs": [
    {
     "name": "stdout",
     "output_type": "stream",
     "text": [
      "#-- Commands --#\n",
      "BD_shift\n",
      "communities\n",
      "DBL\n",
      "deltaBD\n",
      "diffusion\n",
      "fragment_KDE\n",
      "fragment_KDE_cat\n",
      "fragment_parse\n",
      "fragments\n",
      "genome_download\n",
      "genome_index\n",
      "genome_rename\n",
      "gradient_fractions\n",
      "HRSIP\n",
      "incorp_config_example\n",
      "isotope_incorp\n",
      "KDE_bandwidth\n",
      "KDE_info\n",
      "KDE_parse\n",
      "KDE_plot\n",
      "KDE_sample\n",
      "KDE_select_taxa\n",
      "OTU_add_error\n",
      "OTU_PCR\n",
      "OTU_sample_data\n",
      "OTU_subsample\n",
      "OTU_sum\n",
      "OTU_table\n",
      "OTU_wide_long\n",
      "qSIP\n",
      "qSIP_atom_excess\n",
      "tree_sim\n"
     ]
    }
   ],
   "source": [
    "%%bash\n",
    "source activate SIPSim \n",
    "\n",
    "SIPSim -l"
   ]
  },
  {
   "cell_type": "markdown",
   "metadata": {
    "deletable": true,
    "editable": true
   },
   "source": [
    "# Downloading genomes\n",
    "\n",
    "* Downloading the genome sequences from NCBI based on their accession numbers.\n",
    "* If you had Taxonomy IDs, then you could use [ncbi-genome-download](https://github.com/kblin/ncbi-genome-download) instead for downloading."
   ]
  },
  {
   "cell_type": "code",
   "execution_count": 15,
   "metadata": {
    "ExecuteTime": {
     "end_time": "2017-07-13T14:33:01.566936",
     "start_time": "2017-07-13T14:33:01.561832"
    },
    "collapsed": false,
    "deletable": true,
    "editable": true
   },
   "outputs": [
    {
     "name": "stdout",
     "output_type": "stream",
     "text": [
      "File written: /home/nick/notebook/SIPSim/t/SIPSim_example/genome_list.txt\n"
     ]
    }
   ],
   "source": [
    "taxa=\"\"\"Clostridium_ljungdahlii_DSM_13528\tNC_014328.1\n",
    "Escherichia_coli_1303\tNZ_CP009166.1\n",
    "Streptomyces_pratensis_ATCC_33331\tNC_016114.1\n",
    "\"\"\"\n",
    "\n",
    "genome_file = os.path.join(workDir, 'genome_list.txt')\n",
    "with open(genome_file, 'wb') as oFH:\n",
    "    oFH.write(taxa)\n",
    "    \n",
    "print 'File written: {}'.format(genome_file)"
   ]
  },
  {
   "cell_type": "code",
   "execution_count": 16,
   "metadata": {
    "ExecuteTime": {
     "end_time": "2017-07-13T14:33:09.063970",
     "start_time": "2017-07-13T14:33:01.966278"
    },
    "collapsed": false,
    "deletable": true,
    "editable": true
   },
   "outputs": [
    {
     "name": "stderr",
     "output_type": "stream",
     "text": [
      "File written: genomes/Clostridium_ljungdahlii_DSM_13528.fna\n",
      "File written: genomes/Escherichia_coli_1303.fna\n",
      "File written: genomes/Streptomyces_pratensis_ATCC_33331.fna\n"
     ]
    }
   ],
   "source": [
    "%%bash -s $genome_file\n",
    "source activate SIPSim\n",
    "\n",
    "# downloading genomes\n",
    "SIPSim genome_download -d genomes -n 3 $1"
   ]
  },
  {
   "cell_type": "code",
   "execution_count": 18,
   "metadata": {
    "ExecuteTime": {
     "end_time": "2017-07-13T14:33:11.249642",
     "start_time": "2017-07-13T14:33:11.135818"
    },
    "collapsed": false,
    "deletable": true,
    "editable": true
   },
   "outputs": [
    {
     "name": "stdout",
     "output_type": "stream",
     "text": [
      "total 17M\r\n",
      "-rw-rw-r-- 1 nick nick 7.1M Jul 13 14:33 Streptomyces_pratensis_ATCC_33331.fna\r\n",
      "-rw-rw-r-- 1 nick nick 4.8M Jul 13 14:33 Escherichia_coli_1303.fna\r\n",
      "-rw-rw-r-- 1 nick nick 4.5M Jul 13 14:33 Clostridium_ljungdahlii_DSM_13528.fna\r\n"
     ]
    }
   ],
   "source": [
    "!ls -thlc ./genomes"
   ]
  },
  {
   "cell_type": "markdown",
   "metadata": {
    "deletable": true,
    "editable": true
   },
   "source": [
    "Hopefully all 3 genomes downloaded (the files should be non-empty)"
   ]
  },
  {
   "cell_type": "markdown",
   "metadata": {
    "deletable": true,
    "editable": true
   },
   "source": [
    "# Renaming genome sequences\n",
    "\n",
    "* Let's make the genome sequences a bit simpler "
   ]
  },
  {
   "cell_type": "code",
   "execution_count": 19,
   "metadata": {
    "ExecuteTime": {
     "end_time": "2017-07-13T14:33:13.348477",
     "start_time": "2017-07-13T14:33:13.229629"
    },
    "collapsed": false,
    "deletable": true,
    "editable": true
   },
   "outputs": [
    {
     "name": "stdout",
     "output_type": "stream",
     "text": [
      ">NC_014328.1 Clostridium ljungdahlii DSM 13528, complete genome\r\n",
      ">NZ_CP009166.1 Escherichia coli 1303, complete genome\r\n",
      ">NC_016114.1 Streptomyces pratensis ATCC 33331, complete genome\r\n"
     ]
    }
   ],
   "source": [
    "# current sequence names\n",
    "!grep \">\" genomes/*fna | perl -pe 's/.+:>/>/'"
   ]
  },
  {
   "cell_type": "code",
   "execution_count": 20,
   "metadata": {
    "ExecuteTime": {
     "end_time": "2017-07-13T14:33:20.567747",
     "start_time": "2017-07-13T14:33:15.134206"
    },
    "collapsed": false,
    "deletable": true,
    "editable": true
   },
   "outputs": [
    {
     "name": "stderr",
     "output_type": "stream",
     "text": [
      "File written: /home/nick/notebook/SIPSim/t/SIPSim_example/genomes_rn/Clostridium_ljungdahlii_DSM_13528.fna\n",
      "File written: /home/nick/notebook/SIPSim/t/SIPSim_example/genomes_rn/Escherichia_coli_1303.fna\n",
      "File written: /home/nick/notebook/SIPSim/t/SIPSim_example/genomes_rn/Streptomyces_pratensis_ATCC_33331.fna\n"
     ]
    }
   ],
   "source": [
    "%%bash \n",
    "source activate SIPSim\n",
    "\n",
    "# making sure each sequence is unique\n",
    "find ./genomes/ -name \"*fna\" | \\\n",
    "    SIPSim genome_rename -n 3 --prefix genomes_rn - "
   ]
  },
  {
   "cell_type": "code",
   "execution_count": 21,
   "metadata": {
    "ExecuteTime": {
     "end_time": "2017-07-13T14:33:20.690485",
     "start_time": "2017-07-13T14:33:20.570543"
    },
    "collapsed": false,
    "deletable": true,
    "editable": true
   },
   "outputs": [
    {
     "name": "stdout",
     "output_type": "stream",
     "text": [
      ">NC_014328_1_Clostridium_ljungdahlii_DSM_13528\r\n",
      ">NZ_CP009166_1_Escherichia_coli_1303\r\n",
      ">NC_016114_1_Streptomyces_pratensis_ATCC_33331\r\n"
     ]
    }
   ],
   "source": [
    "# NEW sequence names\n",
    "!grep \">\" genomes_rn/*fna | perl -pe 's/.+:>/>/'"
   ]
  },
  {
   "cell_type": "markdown",
   "metadata": {
    "deletable": true,
    "editable": true
   },
   "source": [
    "# Indexing genomes\n",
    "\n",
    "* One more step!\n",
    "  * Creating genome indices is needed for the upcoming *in-silico* PCR step"
   ]
  },
  {
   "cell_type": "markdown",
   "metadata": {},
   "source": [
    "### We need `MFPrimer_linux` to be installed\n",
    "\n",
    "* you can install it from https://github.com/nick-youngblut/MFEprimer_linux if you haven't installed it yet"
   ]
  },
  {
   "cell_type": "code",
   "execution_count": 30,
   "metadata": {
    "ExecuteTime": {
     "end_time": "2017-07-13T14:39:18.571854",
     "start_time": "2017-07-13T14:39:15.267546"
    },
    "collapsed": false
   },
   "outputs": [
    {
     "name": "stdout",
     "output_type": "stream",
     "text": [
      "usage: MFEprimer.py [options] -i primers.fasta -d Human.genomic.fasta\n",
      "\n",
      "MFEprimer: A fast and thermodynamics-based PCR primer specificity checking\n",
      "program.\n",
      "\n",
      "optional arguments:\n",
      "  -h, --help            show this help message and exit\n",
      "  -i [INFILE], --infile [INFILE]\n",
      "                        [Required] Primer sequences for specificity checking.\n",
      "                        [File]\n"
     ]
    }
   ],
   "source": [
    "%%bash\n",
    "source activate SIPSim\n",
    "\n",
    "# Checking that MFE_primer.py (and associated scripts) are installed\n",
    "MFE_primer.py -h | head"
   ]
  },
  {
   "cell_type": "code",
   "execution_count": 31,
   "metadata": {
    "ExecuteTime": {
     "end_time": "2017-07-13T14:39:22.575137",
     "start_time": "2017-07-13T14:39:22.570840"
    },
    "collapsed": false,
    "deletable": true,
    "editable": true
   },
   "outputs": [
    {
     "name": "stdout",
     "output_type": "stream",
     "text": [
      "/home/nick/notebook/SIPSim/t/SIPSim_example/genomes_rn\n"
     ]
    }
   ],
   "source": [
    "# changing the working directory\n",
    "workDirGenome = os.path.join(workDir, 'genomes_rn')\n",
    "%cd $workDirGenome"
   ]
  },
  {
   "cell_type": "code",
   "execution_count": 32,
   "metadata": {
    "ExecuteTime": {
     "end_time": "2017-07-13T14:39:23.535782",
     "start_time": "2017-07-13T14:39:23.530628"
    },
    "collapsed": false,
    "deletable": true,
    "editable": true
   },
   "outputs": [
    {
     "name": "stdout",
     "output_type": "stream",
     "text": [
      "File written: /home/nick/notebook/SIPSim/t/SIPSim_example/genomes_rn/genome_index.txt\n"
     ]
    }
   ],
   "source": [
    "# making index file (taxon_name<tab>taxon_genome_file_name)\n",
    "indexFile = \"\"\"Clostridium_ljungdahlii_DSM_13528 Clostridium_ljungdahlii_DSM_13528.fna\n",
    "Escherichia_coli_1303 Escherichia_coli_1303.fna\n",
    "Streptomyces_pratensis_ATCC_33331 Streptomyces_pratensis_ATCC_33331.fna\"\"\".replace(' ', '\\t')\n",
    "\n",
    "F = os.path.join(workDirGenome, 'genome_index.txt')\n",
    "with open(F, 'wb') as oFH:\n",
    "    oFH.write(indexFile)\n",
    "\n",
    "print 'File written: {}'.format(F)"
   ]
  },
  {
   "cell_type": "markdown",
   "metadata": {
    "deletable": true,
    "editable": true
   },
   "source": [
    "> Note: This next step will use 3 processors (`--np`). Change this option if needed. Even with 3 processors, it will take a minute to complete\n",
    "\n",
    "While you wait, here's turtle...\n",
    "\n",
    "~~~\n",
    "                       ____,------------------,______\n",
    "                   ___/    \\            /            \\_____\n",
    "                __/         \\__________/              \\___ \\___\n",
    "  ,^------.____/\\           /          \\              /   `----\\_\n",
    "  | (O))      /  \\_________/            \\____________/         \\ \\\n",
    "  \\_____,--' /   /         \\            /            \\          \\ \\\n",
    "    \\___,---|___/_______,---`----------'----,_________\\__________\\_\\\n",
    "              /  :__________________________/  :___________________/\n",
    "             /   :          /   :          /   :          /   :\n",
    "            /    :         /    :         /    :         /    :\n",
    "        (^^^     )     (^^^     )     (^^^     )     (^^^     )\n",
    "         ^^^^^^^^       ^^^^^^^^       ^^^^^^^^       ^^^^^^^^\n",
    "\n",
    "                 \n",
    "~~~                 "
   ]
  },
  {
   "cell_type": "code",
   "execution_count": 33,
   "metadata": {
    "ExecuteTime": {
     "end_time": "2017-07-13T14:40:55.076214",
     "start_time": "2017-07-13T14:39:24.473621"
    },
    "collapsed": false,
    "deletable": true,
    "editable": true
   },
   "outputs": [
    {
     "name": "stderr",
     "output_type": "stream",
     "text": [
      "Indexing: \"Clostridium_ljungdahlii_DSM_13528\"\n",
      "Indexing: \"Escherichia_coli_1303\"\n",
      "Indexing: \"Streptomyces_pratensis_ATCC_33331\"\n",
      "#-- All genomes indexed --#\n"
     ]
    }
   ],
   "source": [
    "%%bash\n",
    "source activate SIPSim\n",
    "# indexing genomes; saving log \n",
    "SIPSim genome_index \\\n",
    "    genome_index.txt \\\n",
    "    --fp . --np 3 \\\n",
    "    > index_log.txt"
   ]
  },
  {
   "cell_type": "code",
   "execution_count": 36,
   "metadata": {
    "ExecuteTime": {
     "end_time": "2017-07-13T14:44:35.634212",
     "start_time": "2017-07-13T14:44:35.521746"
    },
    "collapsed": false,
    "deletable": true,
    "editable": true
   },
   "outputs": [
    {
     "name": "stdout",
     "output_type": "stream",
     "text": [
      "total 21M\r\n",
      "-rw-rw-r-- 1 nick nick 4.6K Jul 13 14:40 index_log.txt\r\n",
      "-rw-r--r-- 1 nick nick 8.0K Jul 13 14:39 Streptomyces_pratensis_ATCC_33331.fna.sqlite3.db\r\n",
      "-rw-r--r-- 1 nick nick 8.0K Jul 13 14:39 Escherichia_coli_1303.fna.sqlite3.db\r\n",
      "-rw-r--r-- 1 nick nick 8.0K Jul 13 14:39 Clostridium_ljungdahlii_DSM_13528.fna.sqlite3.db\r\n",
      "-rw-rw-r-- 1 nick nick 1.8M Jul 13 14:39 Streptomyces_pratensis_ATCC_33331.fna.2bit\r\n",
      "-rw-rw-r-- 1 nick nick 1.2M Jul 13 14:39 Escherichia_coli_1303.fna.2bit\r\n",
      "-rw-rw-r-- 1 nick nick   91 Jul 13 14:39 Streptomyces_pratensis_ATCC_33331.fna.uni\r\n",
      "-rw-rw-r-- 1 nick nick 1.2M Jul 13 14:39 Clostridium_ljungdahlii_DSM_13528.fna.2bit\r\n",
      "-rw-rw-r-- 1 nick nick   81 Jul 13 14:39 Escherichia_coli_1303.fna.uni\r\n",
      "-rw-rw-r-- 1 nick nick   91 Jul 13 14:39 Clostridium_ljungdahlii_DSM_13528.fna.uni\r\n",
      "-rw-rw-r-- 1 nick nick  191 Jul 13 14:39 genome_index.txt\r\n",
      "-rw-rw-r-- 1 nick nick 7.1M Jul 13 14:33 Streptomyces_pratensis_ATCC_33331.fna\r\n",
      "-rw-rw-r-- 1 nick nick 4.8M Jul 13 14:33 Escherichia_coli_1303.fna\r\n",
      "-rw-rw-r-- 1 nick nick 4.5M Jul 13 14:33 Clostridium_ljungdahlii_DSM_13528.fna\r\n"
     ]
    }
   ],
   "source": [
    "# checking all of the files produced in the ./genome_rn/ directory\n",
    "!ls -thlc"
   ]
  },
  {
   "cell_type": "markdown",
   "metadata": {
    "collapsed": false,
    "deletable": true,
    "editable": true
   },
   "source": [
    "# Next steps\n",
    "\n",
    "...and now on to the [simulation](./2_simulation-shotgun.ipynb)! \n",
    "\n",
    "We will simulate some shotgun genome sequences. "
   ]
  },
  {
   "cell_type": "code",
   "execution_count": null,
   "metadata": {
    "collapsed": true
   },
   "outputs": [],
   "source": []
  }
 ],
 "metadata": {
  "anaconda-cloud": {},
  "hide_input": true,
  "kernelspec": {
   "display_name": "Python [conda env:py27]",
   "language": "python",
   "name": "conda-env-py27-py"
  },
  "language_info": {
   "codemirror_mode": {
    "name": "ipython",
    "version": 2
   },
   "file_extension": ".py",
   "mimetype": "text/x-python",
   "name": "python",
   "nbconvert_exporter": "python",
   "pygments_lexer": "ipython2",
   "version": "2.7.13"
  },
  "toc": {
   "colors": {
    "hover_highlight": "#DAA520",
    "running_highlight": "#FF0000",
    "selected_highlight": "#FFD700"
   },
   "moveMenuLeft": true,
   "nav_menu": {
    "height": "138px",
    "width": "252px"
   },
   "navigate_menu": true,
   "number_sections": true,
   "sideBar": true,
   "threshold": 4,
   "toc_cell": false,
   "toc_section_display": "block",
   "toc_window_display": false
  }
 },
 "nbformat": 4,
 "nbformat_minor": 0
}
