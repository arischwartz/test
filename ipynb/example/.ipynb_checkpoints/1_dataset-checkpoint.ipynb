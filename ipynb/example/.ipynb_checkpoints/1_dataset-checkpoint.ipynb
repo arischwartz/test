{
 "cells": [
  {
   "cell_type": "markdown",
   "metadata": {},
   "source": [
    "# Description:\n",
    "\n",
    "* The first thing to do is download a microbial genome dataset.\n",
    "* Here, we will be downloading 3 bacterial genomes with differing G+C contents:\n",
    "  * Clostridium ljungdahlii DSM13528 (G+C = 31.1)\n",
    "  * Escherichia coli 1303  \n",
    "  * Streptomyces pratensis ATCC33331"
   ]
  },
  {
   "cell_type": "markdown",
   "metadata": {},
   "source": [
    "# Setting variables"
   ]
  },
  {
   "cell_type": "code",
   "execution_count": 14,
   "metadata": {
    "collapsed": true
   },
   "outputs": [],
   "source": [
    "workDir = '/home/nick/notebook/SIPSim/dev/bac_genome3/'\n",
    "SIPSimExe = '/home/nick/notebook/SIPSim/SIPSim'\n",
    "genomeDir = '/home/nick/notebook/SIPSim/dev/bac_genome1210/genomes/'\n",
    "#genomeTable = '/var/seq_data/ncbi_db/genome/prok-bac_filt_rand.txt'"
   ]
  },
  {
   "cell_type": "markdown",
   "metadata": {},
   "source": [
    "# Init"
   ]
  },
  {
   "cell_type": "code",
   "execution_count": 2,
   "metadata": {
    "collapsed": false
   },
   "outputs": [],
   "source": [
    "import os,sys\n",
    "import numpy as np\n",
    "import pandas as pd\n",
    "from ggplot import *\n",
    "import matplotlib.pyplot as plt"
   ]
  },
  {
   "cell_type": "code",
   "execution_count": 3,
   "metadata": {
    "collapsed": false
   },
   "outputs": [],
   "source": [
    "%load_ext rpy2.ipython\n",
    "%matplotlib inline"
   ]
  },
  {
   "cell_type": "code",
   "execution_count": 4,
   "metadata": {
    "collapsed": false
   },
   "outputs": [
    {
     "data": {
      "text/plain": [
       "\n",
       "Attaching package: ‘dplyr’\n",
       "\n",
       "The following objects are masked from ‘package:stats’:\n",
       "\n",
       "    filter, lag\n",
       "\n",
       "The following objects are masked from ‘package:base’:\n",
       "\n",
       "    intersect, setdiff, setequal, union\n",
       "\n",
       "Loading required package: grid\n"
      ]
     },
     "metadata": {},
     "output_type": "display_data"
    }
   ],
   "source": [
    "%%R\n",
    "library(ggplot2)\n",
    "library(dplyr)\n",
    "library(tidyr)\n",
    "library(gridExtra)"
   ]
  },
  {
   "cell_type": "code",
   "execution_count": 15,
   "metadata": {
    "collapsed": false
   },
   "outputs": [],
   "source": [
    "if not os.path.isdir(workDir):\n",
    "    os.mkdir(workDir)"
   ]
  },
  {
   "cell_type": "code",
   "execution_count": 16,
   "metadata": {
    "collapsed": false
   },
   "outputs": [],
   "source": [
    "workDirGenome = os.path.join(workDir, 'genomes')\n",
    "if not os.path.isdir(workDirGenome):\n",
    "    os.mkdir(workDirGenome)"
   ]
  },
  {
   "cell_type": "markdown",
   "metadata": {},
   "source": [
    "# Selecting genomes based on GC\n",
    "\n",
    "* need a example of low, mid, & high GC genomes"
   ]
  },
  {
   "cell_type": "markdown",
   "metadata": {},
   "source": [
    "## Calc genome GC for all genomes in dataset"
   ]
  },
  {
   "cell_type": "code",
   "execution_count": 11,
   "metadata": {
    "collapsed": false
   },
   "outputs": [],
   "source": [
    "%%bash -s \"$genomeDir\"\n",
    "\n",
    "cd $1\n",
    "\n",
    "find . -name \"*fasta\" | \\\n",
    "    perl -pe 's/\\.fasta//' | \\\n",
    "    xargs -P 24 -I % bash -c \\\n",
    "    \"seq_tools GC_content < %.fasta > %_GC.txt\""
   ]
  },
  {
   "cell_type": "code",
   "execution_count": 12,
   "metadata": {
    "collapsed": false
   },
   "outputs": [
    {
     "name": "stdout",
     "output_type": "stream",
     "text": [
      "CP001666_Clostridium_ljungdahlii_DSM_13528\t4630065\t31.1059347978916\n",
      "CP009166_Escherichia_coli_1303\t4948797\t50.7275000368777\n",
      "CP002475_Streptomyces_pratensis_ATCC_33331\t7337497\t71.1423118810134\n"
     ]
    }
   ],
   "source": [
    "%%bash -s \"$genomeDir\"\n",
    "\n",
    "cd $1\n",
    "\n",
    "cat ./Clostridium_ljungdahlii_DSM_13528_GC.txt\n",
    "cat ./Escherichia_coli_1303_GC.txt\n",
    "cat ./Streptomyces_pratensis_ATCC_33331_GC.txt"
   ]
  },
  {
   "cell_type": "markdown",
   "metadata": {},
   "source": [
    "# Copying genomes"
   ]
  },
  {
   "cell_type": "code",
   "execution_count": 18,
   "metadata": {
    "collapsed": false
   },
   "outputs": [],
   "source": [
    "%%bash -s \"$genomeDir\" \"$workDirGenome\"\n",
    "\n",
    "cp $1/Clostridium_ljungdahlii_DSM_13528.fasta $2\n",
    "cp $1/Escherichia_coli_1303.fasta $2\n",
    "cp $1/Streptomyces_pratensis_ATCC_33331.fasta $2"
   ]
  },
  {
   "cell_type": "markdown",
   "metadata": {},
   "source": [
    "# Indexing genomes\n",
    "\n",
    "* Needed for *in-silico* PCR"
   ]
  },
  {
   "cell_type": "code",
   "execution_count": 25,
   "metadata": {
    "collapsed": false
   },
   "outputs": [],
   "source": [
    "!cd $workDirGenome; \\\n",
    "printf \"Clostridium_ljungdahlii_DSM_13528 Clostridium_ljungdahlii_DSM_13528.fasta\\n\\\n",
    "Escherichia_coli_1303 Escherichia_coli_1303.fasta\\n\\\n",
    "Streptomyces_pratensis_ATCC_33331 Streptomyces_pratensis_ATCC_33331.fasta\" > genome_index.txt\n",
    "\n",
    "!cd $workDirGenome; \\\n",
    "    perl -pi -e 's/ /\\t/' genome_index.txt"
   ]
  },
  {
   "cell_type": "code",
   "execution_count": 26,
   "metadata": {
    "collapsed": false
   },
   "outputs": [
    {
     "name": "stdout",
     "output_type": "stream",
     "text": [
      "Indexing: \"Clostridium_ljungdahlii_DSM_13528\"\n",
      "Indexing: \"Escherichia_coli_1303\"\n",
      "Indexing: \"Streptomyces_pratensis_ATCC_33331\"\n",
      "#-- All genomes indexed --#\n"
     ]
    }
   ],
   "source": [
    "!cd $workDir; \\\n",
    "    $SIPSimExe genome_index genomes/genome_index.txt \\\n",
    "    --fp ./genomes/ --np 30 > genomes/index_log.txt"
   ]
  },
  {
   "cell_type": "code",
   "execution_count": null,
   "metadata": {
    "collapsed": false
   },
   "outputs": [],
   "source": []
  },
  {
   "cell_type": "code",
   "execution_count": null,
   "metadata": {
    "collapsed": false
   },
   "outputs": [],
   "source": []
  },
  {
   "cell_type": "code",
   "execution_count": null,
   "metadata": {
    "collapsed": false
   },
   "outputs": [],
   "source": []
  },
  {
   "cell_type": "code",
   "execution_count": null,
   "metadata": {
    "collapsed": false
   },
   "outputs": [],
   "source": []
  }
 ],
 "metadata": {
  "hide_input": true,
  "kernelspec": {
   "display_name": "Python 2",
   "language": "python",
   "name": "python2"
  },
  "language_info": {
   "codemirror_mode": {
    "name": "ipython",
    "version": 2
   },
   "file_extension": ".py",
   "mimetype": "text/x-python",
   "name": "python",
   "nbconvert_exporter": "python",
   "pygments_lexer": "ipython2",
   "version": "2.7.11"
  }
 },
 "nbformat": 4,
 "nbformat_minor": 0
}
