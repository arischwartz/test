{
 "cells": [
  {
   "cell_type": "markdown",
   "metadata": {},
   "source": [
    "# Description\n",
    "\n",
    "* Time to make a simple SIP data simulation with the [dataset](./1_dataset.ipynb) that you alreadly created"
   ]
  },
  {
   "cell_type": "markdown",
   "metadata": {},
   "source": [
    "# Setting variables\n",
    "\n",
    "* \"workDir\" is the path to the working directory for this analysis (where the files will be download to)\n",
    "  * **NOTE:** MAKE SURE to modify this path to the directory where YOU want to run the example.\n",
    "* \"nprocs\" is the number of processors to use (3 by default, since only 3 genomes). Change this if needed."
   ]
  },
  {
   "cell_type": "code",
   "execution_count": 1,
   "metadata": {
    "collapsed": true
   },
   "outputs": [],
   "source": [
    "workDir = '/home/nick/t/SIPSim/'\n",
    "nprocs = 3"
   ]
  },
  {
   "cell_type": "markdown",
   "metadata": {},
   "source": [
    "# Init"
   ]
  },
  {
   "cell_type": "code",
   "execution_count": 2,
   "metadata": {
    "collapsed": true
   },
   "outputs": [],
   "source": [
    "import os\n",
    "import glob"
   ]
  },
  {
   "cell_type": "code",
   "execution_count": 3,
   "metadata": {
    "collapsed": false
   },
   "outputs": [],
   "source": [
    "%load_ext rpy2.ipython"
   ]
  },
  {
   "cell_type": "code",
   "execution_count": 4,
   "metadata": {
    "collapsed": false
   },
   "outputs": [
    {
     "name": "stderr",
     "output_type": "stream",
     "text": [
      "/opt/anaconda/lib/python2.7/site-packages/rpy2/robjects/functions.py:106: UserWarning: \n",
      "Attaching package: ‘dplyr’\n",
      "\n",
      "\n",
      "  res = super(Function, self).__call__(*new_args, **new_kwargs)\n",
      "/opt/anaconda/lib/python2.7/site-packages/rpy2/robjects/functions.py:106: UserWarning: The following objects are masked from ‘package:stats’:\n",
      "\n",
      "    filter, lag\n",
      "\n",
      "\n",
      "  res = super(Function, self).__call__(*new_args, **new_kwargs)\n",
      "/opt/anaconda/lib/python2.7/site-packages/rpy2/robjects/functions.py:106: UserWarning: The following objects are masked from ‘package:base’:\n",
      "\n",
      "    intersect, setdiff, setequal, union\n",
      "\n",
      "\n",
      "  res = super(Function, self).__call__(*new_args, **new_kwargs)\n"
     ]
    }
   ],
   "source": [
    "%%R\n",
    "library(ggplot2)\n",
    "library(dplyr)\n",
    "library(tidyr)"
   ]
  },
  {
   "cell_type": "code",
   "execution_count": 5,
   "metadata": {
    "collapsed": false
   },
   "outputs": [
    {
     "name": "stdout",
     "output_type": "stream",
     "text": [
      "/home/nick/t/SIPSim\n"
     ]
    }
   ],
   "source": [
    "if not os.path.isdir(workDir):\n",
    "    os.makedirs(workDir)\n",
    "%cd $workDir    \n",
    "\n",
    "genomeDir = os.path.join(workDir, 'genomes_rn')"
   ]
  },
  {
   "cell_type": "markdown",
   "metadata": {},
   "source": [
    "# Experimental design\n",
    "\n",
    "* How many gradients?\n",
    "* Which are labeled treatments & which are controls?\n",
    "* For this tutorial, we'll keep things simple and just simulate one control & one treatment\n",
    "  * For the labeled treatment, 34% of the taxa (1 of 3) will incorporate 50% isotope"
   ]
  },
  {
   "cell_type": "markdown",
   "metadata": {},
   "source": [
    "The script below (\"`SIPSim incorpConfigExample`\") is helpful for making simple experimental designs"
   ]
  },
  {
   "cell_type": "code",
   "execution_count": 6,
   "metadata": {
    "collapsed": true
   },
   "outputs": [],
   "source": [
    "# this file\n",
    "!SIPSim incorpConfigExample \\\n",
    "  --percTaxa 34 \\\n",
    "  --percIncorpUnif 50 \\\n",
    "  --n_reps 1 \\\n",
    "  > incorp.config"
   ]
  },
  {
   "cell_type": "code",
   "execution_count": 7,
   "metadata": {
    "collapsed": false
   },
   "outputs": [
    {
     "name": "stdout",
     "output_type": "stream",
     "text": [
      "\r\n",
      "[1]\r\n",
      "    # baseline: no incorporation\r\n",
      "    treatment = control\r\n",
      "    \r\n",
      "    [[intraPopDist 1]]\r\n",
      "        distribution = uniform\r\n",
      "        \r\n",
      "        [[[start]]]\r\n",
      "            \r\n",
      "            [[[[interPopDist 1]]]]\r\n",
      "                distribution = uniform\r\n",
      "                start = 0\r\n",
      "                end = 0\r\n",
      "        \r\n",
      "        [[[end]]]\r\n",
      "            \r\n",
      "            [[[[interPopDist 1]]]]\r\n",
      "                distribution = uniform\r\n",
      "                start = 0\r\n",
      "                end = 0\r\n",
      "[2]\r\n",
      "    # 'treatment' community: possible incorporation\r\n",
      "    treatment = labeled\r\n",
      "    max_perc_taxa_incorp = 34\r\n",
      "    \r\n",
      "    [[intraPopDist 1]]\r\n",
      "        distribution = uniform\r\n",
      "        \r\n",
      "        [[[start]]]\r\n",
      "            [[[[interPopDist 1]]]]\r\n",
      "                start = 50\r\n",
      "                distribution = uniform\r\n",
      "                end = 50\r\n",
      "        \r\n",
      "        [[[end]]]\r\n",
      "            [[[[interPopDist 1]]]]\r\n",
      "                start = 50\r\n",
      "                distribution = uniform\r\n",
      "                end = 50\r\n",
      "    \r\n"
     ]
    }
   ],
   "source": [
    "!cat incorp.config"
   ]
  },
  {
   "cell_type": "markdown",
   "metadata": {},
   "source": [
    "## Pre-fractionation communities\n",
    "\n",
    "* What is the relative abundance of taxa in the pre-fractionation samples?"
   ]
  },
  {
   "cell_type": "code",
   "execution_count": 8,
   "metadata": {
    "collapsed": true
   },
   "outputs": [],
   "source": [
    "!SIPSim communities \\\n",
    "    --config incorp.config \\\n",
    "    ./genomes_rn/genome_index.txt \\\n",
    "    > comm.txt  "
   ]
  },
  {
   "cell_type": "code",
   "execution_count": 9,
   "metadata": {
    "collapsed": false
   },
   "outputs": [
    {
     "name": "stdout",
     "output_type": "stream",
     "text": [
      "library\ttaxon_name\trel_abund_perc\trank\r\n",
      "1\tClostridium_ljungdahlii_DSM_13528\t64.715653095\t1\r\n",
      "1\tStreptomyces_pratensis_ATCC_33331\t31.317397427\t2\r\n",
      "1\tEscherichia_coli_1303\t3.966949478\t3\r\n",
      "2\tClostridium_ljungdahlii_DSM_13528\t67.718695142\t1\r\n",
      "2\tStreptomyces_pratensis_ATCC_33331\t26.828563580\t2\r\n",
      "2\tEscherichia_coli_1303\t5.452741278\t3\r\n"
     ]
    }
   ],
   "source": [
    "!cat comm.txt"
   ]
  },
  {
   "cell_type": "markdown",
   "metadata": {},
   "source": [
    "**Note:** \"library\" = gradient"
   ]
  },
  {
   "cell_type": "markdown",
   "metadata": {},
   "source": [
    "## Simulating gradient fractions\n",
    "\n",
    "* BD size ranges for each fraction (& start/end of the total BD range)"
   ]
  },
  {
   "cell_type": "code",
   "execution_count": 10,
   "metadata": {
    "collapsed": true
   },
   "outputs": [],
   "source": [
    "!SIPSim gradient_fractions \\\n",
    "    --BD_min 1.67323 \\\n",
    "    --BD_max 1.7744 \\\n",
    "    comm.txt \\\n",
    "    > fracs.txt    "
   ]
  },
  {
   "cell_type": "code",
   "execution_count": 11,
   "metadata": {
    "collapsed": false
   },
   "outputs": [
    {
     "name": "stdout",
     "output_type": "stream",
     "text": [
      "library\tfraction\tBD_min\tBD_max\tfraction_size\r\n",
      "1\t1\t1.673\t1.676\t0.003\r\n",
      "1\t2\t1.676\t1.68\t0.004\r\n",
      "1\t3\t1.68\t1.686\t0.006\r\n",
      "1\t4\t1.686\t1.69\t0.004\r\n",
      "1\t5\t1.69\t1.694\t0.004\r\n"
     ]
    }
   ],
   "source": [
    "!head -n 6 fracs.txt"
   ]
  },
  {
   "cell_type": "markdown",
   "metadata": {},
   "source": [
    "# Simulating fragments\n",
    "\n",
    "* Simulating amplicon-fragments\n",
    "  * gDNA fragments that contain the template for the amplicon\n",
    "  * These fragments are the actual DNA fragments distributed in the CsCl gradient\n",
    "    * But, only the PCR amplicons generated from these fragments are what we sequence.\n",
    "* Fragment length distribution: skewed-normal"
   ]
  },
  {
   "cell_type": "markdown",
   "metadata": {},
   "source": [
    "### Primer sequences"
   ]
  },
  {
   "cell_type": "code",
   "execution_count": 12,
   "metadata": {
    "collapsed": false
   },
   "outputs": [
    {
     "name": "stdout",
     "output_type": "stream",
     "text": [
      "File written: /home/nick/t/SIPSim/515F-806R.fna\n"
     ]
    }
   ],
   "source": [
    "primers = \"\"\">515F\n",
    "GTGCCAGCMGCCGCGGTAA\n",
    ">806R\n",
    "GGACTACHVGGGTWTCTAAT\n",
    "\"\"\"\n",
    "\n",
    "F = os.path.join(workDir, '515F-806R.fna')\n",
    "with open(F, 'wb') as oFH:\n",
    "    oFH.write(primers)\n",
    "    \n",
    "print 'File written: {}'.format(F)"
   ]
  },
  {
   "cell_type": "markdown",
   "metadata": {},
   "source": [
    "### Simulation"
   ]
  },
  {
   "cell_type": "code",
   "execution_count": 13,
   "metadata": {
    "collapsed": false
   },
   "outputs": [
    {
     "name": "stdout",
     "output_type": "stream",
     "text": [
      "Processing: \"Clostridium_ljungdahlii_DSM_13528\"\n",
      "Processing: \"Escherichia_coli_1303\"\n",
      "Processing: \"Streptomyces_pratensis_ATCC_33331\"\n",
      "  Genome name: Escherichia_coli_1303\n",
      "  Genome length (bp): 4948797\n",
      "  Number of amplicons: 7\n",
      "  Number of fragments simulated: 10000\n",
      "  Genome name: Streptomyces_pratensis_ATCC_33331\n",
      "  Genome name: Clostridium_ljungdahlii_DSM_13528\n",
      "  Genome length (bp): 4630065\n",
      "  Number of amplicons: 9\n",
      "  Number of fragments simulated: 10000\n",
      "  Genome length (bp): 7337497\n",
      "  Number of amplicons: 6\n",
      "  Number of fragments simulated: 10000\n"
     ]
    }
   ],
   "source": [
    "# skewed-normal\n",
    "!SIPSim fragments \\\n",
    "    $genomeDir/genome_index.txt \\\n",
    "    --fp $genomeDir \\\n",
    "    --fr 515F-806R.fna \\\n",
    "    --fld skewed-normal,9000,2500,-5 \\\n",
    "    --flr None,None \\\n",
    "    --nf 10000 \\\n",
    "    --np $nprocs \\\n",
    "    --tbl \\\n",
    "    > ampFrags.txt       "
   ]
  },
  {
   "cell_type": "code",
   "execution_count": 14,
   "metadata": {
    "collapsed": false
   },
   "outputs": [
    {
     "name": "stdout",
     "output_type": "stream",
     "text": [
      "taxon_name\tscaffoldID\tfragStart\tfragLength\tfragGC\r\n",
      "Clostridium_ljungdahlii_DSM_13528\tClostridium_ljungdahlii_DSM_13528\t684708\t7863\t42.4138369579\r\n",
      "Clostridium_ljungdahlii_DSM_13528\tClostridium_ljungdahlii_DSM_13528\t105534\t7909\t38.247566064\r\n",
      "Clostridium_ljungdahlii_DSM_13528\tClostridium_ljungdahlii_DSM_13528\t108807\t6586\t44.5034922563\r\n",
      "Clostridium_ljungdahlii_DSM_13528\tClostridium_ljungdahlii_DSM_13528\t686241\t7309\t43.3027773977\r\n"
     ]
    }
   ],
   "source": [
    "!head -n 5 ampFrags.txt"
   ]
  },
  {
   "cell_type": "markdown",
   "metadata": {},
   "source": [
    "### Plotting fragments"
   ]
  },
  {
   "cell_type": "code",
   "execution_count": 15,
   "metadata": {
    "collapsed": false
   },
   "outputs": [
    {
     "data": {
      "image/png": "[encoded data removed]"
     },
     "metadata": {},
     "output_type": "display_data"
    }
   ],
   "source": [
    "%%R -w 700 -h 350\n",
    "\n",
    "df = read.delim('ampFrags.txt')\n",
    "\n",
    "ggplot(df, aes(fragGC, fragLength, color=taxon_name)) +\n",
    "    geom_density2d() +\n",
    "    scale_color_discrete('Taxon') +\n",
    "    labs(x='Fragment G+C', y='Fragment length (bp)') +\n",
    "    theme_bw() +\n",
    "    theme(\n",
    "        text = element_text(size=16)\n",
    "    )"
   ]
  },
  {
   "cell_type": "markdown",
   "metadata": {},
   "source": [
    "**Note:** for information on what's going on in this config file, use the command: `SIPSim isotope_incorp -h`"
   ]
  },
  {
   "cell_type": "markdown",
   "metadata": {},
   "source": [
    "## Converting fragments to a 2d-KDE\n",
    "\n",
    "* Estimating the joint-probabilty for fragment G+C & length"
   ]
  },
  {
   "cell_type": "code",
   "execution_count": 16,
   "metadata": {
    "collapsed": false
   },
   "outputs": [],
   "source": [
    "!SIPSim fragment_KDE \\\n",
    "    ampFrags.txt \\\n",
    "    > ampFrags_kde.pkl"
   ]
  },
  {
   "cell_type": "markdown",
   "metadata": {},
   "source": [
    "* **Note:** The generated list of KDEs (1 per taxon per gradient) are in a binary file format\n",
    "  * To get a table of length/G+C values, use the command: `SIPSim KDE_sample`"
   ]
  },
  {
   "cell_type": "markdown",
   "metadata": {},
   "source": [
    "## Adding diffusion \n",
    "\n",
    "* Simulating the BD distribution of fragments as Gaussian distributions. \n",
    "  * One Gaussian distribution per homogeneous set of DNA molecules (same G+C and length)"
   ]
  },
  {
   "cell_type": "code",
   "execution_count": 17,
   "metadata": {
    "collapsed": false
   },
   "outputs": [
    {
     "name": "stdout",
     "output_type": "stream",
     "text": [
      "Index size: 90508\n",
      "Processing: Streptomyces_pratensis_ATCC_33331\n",
      "Processing: Escherichia_coli_1303\n",
      "Processing: Clostridium_ljungdahlii_DSM_13528\n"
     ]
    }
   ],
   "source": [
    "!SIPSim diffusion \\\n",
    "    ampFrags_kde.pkl \\\n",
    "    --np $nprocs \\\n",
    "    > ampFrags_kde_dif.pkl        "
   ]
  },
  {
   "cell_type": "markdown",
   "metadata": {},
   "source": [
    "# Plotting fragment distribution w/ and w/out diffusion"
   ]
  },
  {
   "cell_type": "markdown",
   "metadata": {},
   "source": [
    "## Making a table of fragment values from KDEs"
   ]
  },
  {
   "cell_type": "code",
   "execution_count": 20,
   "metadata": {
    "collapsed": false
   },
   "outputs": [
    {
     "name": "stdout",
     "output_type": "stream",
     "text": [
      "-rw-rw-r-- 1 nick nick 4.2M Jun 28 14:10 ampFrags_kde_dif.txt\r\n",
      "-rw-rw-r-- 1 nick nick 4.2M Jun 28 14:10 ampFrags_kde.txt\r\n"
     ]
    }
   ],
   "source": [
    "n = 100000\n",
    "!SIPSim KDE_sample -n $n ampFrags_kde.pkl > ampFrags_kde.txt\n",
    "!SIPSim KDE_sample -n $n ampFrags_kde_dif.pkl > ampFrags_kde_dif.txt\n",
    "\n",
    "!ls -thlc ampFrags_kde*.txt"
   ]
  },
  {
   "cell_type": "markdown",
   "metadata": {},
   "source": [
    "## Plotting"
   ]
  },
  {
   "cell_type": "code",
   "execution_count": 32,
   "metadata": {
    "collapsed": false
   },
   "outputs": [
    {
     "data": {
      "text/plain": [
       "  libID         data                              Taxon       BD\n",
       "1     1 no diffusion Clostridium_ljungdahlii\\nDSM_13528 1.701521\n",
       "2     1 no diffusion Clostridium_ljungdahlii\\nDSM_13528 1.701100\n",
       "3     1 no diffusion Clostridium_ljungdahlii\\nDSM_13528 1.702217\n"
      ]
     },
     "metadata": {},
     "output_type": "display_data"
    }
   ],
   "source": [
    "%%R\n",
    "df1 = read.delim('ampFrags_kde.txt', sep='\\t')\n",
    "df2 = read.delim('ampFrags_kde_dif.txt', sep='\\t')\n",
    "\n",
    "df1$data = 'no diffusion'\n",
    "df2$data = 'diffusion'\n",
    "df = rbind(df1, df2) %>%\n",
    "    gather(Taxon, BD, Clostridium_ljungdahlii_DSM_13528, \n",
    "           Escherichia_coli_1303, Streptomyces_pratensis_ATCC_33331) %>%\n",
    "    mutate(Taxon = gsub('_(ATCC|DSM)', '\\n\\\\1', Taxon))\n",
    "\n",
    "df %>% head(n=3)"
   ]
  },
  {
   "cell_type": "code",
   "execution_count": 33,
   "metadata": {
    "collapsed": false
   },
   "outputs": [
    {
     "data": {
      "image/png": "[encoded data removed]"
     },
     "metadata": {},
     "output_type": "display_data"
    }
   ],
   "source": [
    "%%R -w 800 -h 300\n",
    "\n",
    "ggplot(df, aes(BD, fill=data)) +\n",
    "    geom_density(alpha=0.25) +\n",
    "    facet_wrap( ~ Taxon) +    \n",
    "    scale_fill_discrete('') +\n",
    "    theme_bw() +\n",
    "    theme(\n",
    "        text=element_text(size=16),\n",
    "        axis.title.y = element_text(vjust=1),\n",
    "        axis.text.x = element_text(angle=50, hjust=1)\n",
    "        )"
   ]
  },
  {
   "cell_type": "markdown",
   "metadata": {
    "collapsed": true
   },
   "source": [
    "# Adding diffusive boundary layer (DBL) effects"
   ]
  },
  {
   "cell_type": "code",
   "execution_count": 34,
   "metadata": {
    "collapsed": false
   },
   "outputs": [
    {
     "name": "stdout",
     "output_type": "stream",
     "text": [
      "DBL_index file written: \"DBL_index.txt\"\n",
      "Processing: Clostridium_ljungdahlii_DSM_13528\n",
      "Processing: Streptomyces_pratensis_ATCC_33331\n",
      "Processing: Escherichia_coli_1303\n"
     ]
    }
   ],
   "source": [
    "!SIPSim DBL \\\n",
    "    ampFrags_kde_dif.pkl \\\n",
    "    --np $nprocs \\\n",
    "    > ampFrags_kde_dif_DBL.pkl"
   ]
  },
  {
   "cell_type": "code",
   "execution_count": 35,
   "metadata": {
    "collapsed": false
   },
   "outputs": [
    {
     "name": "stdout",
     "output_type": "stream",
     "text": [
      "-rw-rw-r-- 1 nick nick  12M Jun 28 14:16 ampFrags_kde_dif_DBL.pkl\r\n",
      "-rw-rw-r-- 1 nick nick  12M Jun 28 14:08 ampFrags_kde_dif.pkl\r\n",
      "-rw-rw-r-- 1 nick nick 471K Jun 28 14:04 ampFrags_kde.pkl\r\n"
     ]
    }
   ],
   "source": [
    "# viewing DBL logs\n",
    "!ls -thlc *pkl"
   ]
  },
  {
   "cell_type": "markdown",
   "metadata": {
    "collapsed": true
   },
   "source": [
    "# Adding isotope incorporation\n",
    "\n",
    "* Using the config file produced in the Experimental Design section"
   ]
  },
  {
   "cell_type": "code",
   "execution_count": 61,
   "metadata": {
    "collapsed": false
   },
   "outputs": [
    {
     "name": "stdout",
     "output_type": "stream",
     "text": [
      "Loading KDE object...\n",
      "Processing library: 1\n",
      "Processing: Clostridium_ljungdahlii_DSM_13528\n",
      "Processing: Escherichia_coli_1303\n",
      "Processing: Streptomyces_pratensis_ATCC_33331\n",
      "Processing library: 2\n",
      "WARNING: config library 2 not found in KDEs.Using a different KDE object\n",
      "Processing: Clostridium_ljungdahlii_DSM_13528\n",
      "Processing: Escherichia_coli_1303\n",
      "Processing: Streptomyces_pratensis_ATCC_33331\n",
      "File written: BD-shift_stats.txt\n"
     ]
    }
   ],
   "source": [
    "!SIPSim isotope_incorp \\\n",
    "    --comm comm.txt \\\n",
    "    --np $nprocs \\\n",
    "    ampFrags_kde_dif_DBL.pkl \\\n",
    "    incorp.config \\\n",
    "    > ampFrags_KDE_dif_DBL_inc.pkl"
   ]
  },
  {
   "cell_type": "code",
   "execution_count": 62,
   "metadata": {
    "collapsed": false
   },
   "outputs": [
    {
     "name": "stdout",
     "output_type": "stream",
     "text": [
      "-rw-rw-r-- 1 nick nick  23M Jun 28 14:32 ampFrags_KDE_dif_DBL_inc.pkl\r\n",
      "-rw-rw-r-- 1 nick nick  12M Jun 28 14:16 ampFrags_kde_dif_DBL.pkl\r\n",
      "-rw-rw-r-- 1 nick nick  12M Jun 28 14:08 ampFrags_kde_dif.pkl\r\n",
      "-rw-rw-r-- 1 nick nick 471K Jun 28 14:04 ampFrags_kde.pkl\r\n"
     ]
    }
   ],
   "source": [
    "!ls -thlc *.pkl"
   ]
  },
  {
   "cell_type": "markdown",
   "metadata": {},
   "source": [
    "**Note:** statistics on how much isotope was incorporated by each taxon are listed in \"BD-shift_stats.txt\""
   ]
  },
  {
   "cell_type": "code",
   "execution_count": 63,
   "metadata": {
    "collapsed": false
   },
   "outputs": [
    {
     "data": {
      "text/plain": [
       "  library                             taxon          min          q25\n",
       "1       1 Clostridium_ljungdahlii_DSM_13528 2.220446e-15 5.995204e-15\n",
       "2       1             Escherichia_coli_1303 1.376677e-14 1.554312e-14\n",
       "3       1 Streptomyces_pratensis_ATCC_33331 3.108624e-15 4.884981e-15\n",
       "4       2 Clostridium_ljungdahlii_DSM_13528 0.000000e+00 0.000000e+00\n",
       "5       2             Escherichia_coli_1303 1.800000e-02 1.800000e-02\n",
       "6       2 Streptomyces_pratensis_ATCC_33331 0.000000e+00 0.000000e+00\n",
       "          mean       median          q75          max\n",
       "1 9.724844e-15 9.769963e-15 1.354472e-14 1.731948e-14\n",
       "2 1.733329e-14 1.731948e-14 1.909584e-14 2.109424e-14\n",
       "3 6.595556e-15 6.661338e-15 8.437695e-15 9.992007e-15\n",
       "4 0.000000e+00 0.000000e+00 0.000000e+00 0.000000e+00\n",
       "5 1.800000e-02 1.800000e-02 1.800000e-02 1.800000e-02\n",
       "6 0.000000e+00 0.000000e+00 0.000000e+00 0.000000e+00\n"
      ]
     },
     "metadata": {},
     "output_type": "display_data"
    }
   ],
   "source": [
    "%%R\n",
    "df = read.delim('BD-shift_stats.txt', sep='\\t')\n",
    "df "
   ]
  },
  {
   "cell_type": "markdown",
   "metadata": {},
   "source": [
    "# Making an OTU table\n",
    "\n",
    "* Number of amplicon-fragment in each fraction in each gradient\n",
    "* Assuming a total pre-fractionation community size of 1e7"
   ]
  },
  {
   "cell_type": "code",
   "execution_count": 64,
   "metadata": {
    "collapsed": false
   },
   "outputs": [
    {
     "name": "stdout",
     "output_type": "stream",
     "text": [
      "Loading files...\n",
      "Simulating OTUs...\n",
      "Processing library: \"1\"\n",
      "  Processing taxon: \"Clostridium_ljungdahlii_DSM_13528\"\n",
      "   taxon abs-abundance:  6471565\n",
      "  Processing taxon: \"Streptomyces_pratensis_ATCC_33331\"\n",
      "   taxon abs-abundance:  3131740\n",
      "  Processing taxon: \"Escherichia_coli_1303\"\n",
      "   taxon abs-abundance:  396695\n",
      "Processing library: \"2\"\n",
      "  Processing taxon: \"Clostridium_ljungdahlii_DSM_13528\"\n",
      "   taxon abs-abundance:  6771870\n",
      "  Processing taxon: \"Streptomyces_pratensis_ATCC_33331\"\n",
      "   taxon abs-abundance:  2682856\n",
      "  Processing taxon: \"Escherichia_coli_1303\"\n",
      "   taxon abs-abundance:  545274\n"
     ]
    }
   ],
   "source": [
    "!SIPSim OTU_table \\\n",
    "    --abs 1e7 \\\n",
    "    --np $nprocs \\\n",
    "    ampFrags_KDE_dif_DBL_inc.pkl \\\n",
    "    comm.txt \\\n",
    "    fracs.txt \\\n",
    "    > OTU.txt"
   ]
  },
  {
   "cell_type": "code",
   "execution_count": 65,
   "metadata": {
    "collapsed": false
   },
   "outputs": [
    {
     "name": "stdout",
     "output_type": "stream",
     "text": [
      "library\ttaxon\tfraction\tBD_min\tBD_mid\tBD_max\tcount\trel_abund\r\n",
      "1\tClostridium_ljungdahlii_DSM_13528\t-inf-1.673\t-inf\t1.672\t1.672\t1539\t0.782409761057\r\n",
      "1\tClostridium_ljungdahlii_DSM_13528\t1.673-1.676\t1.673\t1.675\t1.676\t122\t0.462121212121\r\n",
      "1\tClostridium_ljungdahlii_DSM_13528\t1.676-1.680\t1.676\t1.678\t1.68\t230\t0.756578947368\r\n",
      "1\tClostridium_ljungdahlii_DSM_13528\t1.680-1.686\t1.68\t1.683\t1.686\t6312\t0.976787372331\r\n",
      "1\tClostridium_ljungdahlii_DSM_13528\t1.686-1.690\t1.686\t1.688\t1.69\t140925\t0.999347596389\r\n",
      "1\tClostridium_ljungdahlii_DSM_13528\t1.690-1.694\t1.69\t1.692\t1.694\t776468\t0.99981329182\r\n"
     ]
    }
   ],
   "source": [
    "!head -n 7 OTU.txt"
   ]
  },
  {
   "cell_type": "markdown",
   "metadata": {},
   "source": [
    "### Plotting fragment count distributions"
   ]
  },
  {
   "cell_type": "code",
   "execution_count": 77,
   "metadata": {
    "collapsed": false
   },
   "outputs": [
    {
     "data": {
      "image/png": "[encoded data removed]"
     },
     "metadata": {},
     "output_type": "display_data"
    }
   ],
   "source": [
    "%%R -h 350 -w 750\n",
    "\n",
    "df = read.delim('OTU.txt', sep='\\t')\n",
    "\n",
    "\n",
    "p = ggplot(df, aes(BD_mid, count, fill=taxon)) +\n",
    "    geom_area(stat='identity', position='dodge', alpha=0.5) +\n",
    "    scale_x_continuous(expand=c(0,0)) +\n",
    "    labs(x='Buoyant density') +\n",
    "    labs(y='Amplicon fragment counts') +\n",
    "    facet_grid(library ~ .) +\n",
    "    theme_bw() +\n",
    "    theme( \n",
    "        text = element_text(size=16),\n",
    "        axis.title.y = element_text(vjust=1),        \n",
    "        axis.title.x = element_blank()\n",
    "    )\n",
    "p"
   ]
  },
  {
   "cell_type": "markdown",
   "metadata": {},
   "source": [
    "**Notes:** \n",
    "\n",
    "* This plot represents the theoretical number of amplicon-fragments at each BD across each gradient. \n",
    "  * Derived from subsampling the fragment BD proability distributions generated in earlier steps.\n",
    "* The fragment BD distribution of one of the 3 taxa should have shifted in Gradient 2 (the treatment gradient).\n",
    "* The fragment BD distributions of the other 2 taxa should be approx. the same between the two gradients."
   ]
  },
  {
   "cell_type": "markdown",
   "metadata": {},
   "source": [
    "### Viewing fragment counts as relative quantities "
   ]
  },
  {
   "cell_type": "code",
   "execution_count": 79,
   "metadata": {
    "collapsed": false
   },
   "outputs": [
    {
     "data": {
      "image/png": "[encoded data removed]"
     },
     "metadata": {},
     "output_type": "display_data"
    }
   ],
   "source": [
    "%%R -h 350 -w 750\n",
    "\n",
    "p = ggplot(df, aes(BD_mid, count, fill=taxon)) +\n",
    "    geom_area(stat='identity', position='fill') +\n",
    "    scale_x_continuous(expand=c(0,0)) +\n",
    "    scale_y_continuous(expand=c(0,0)) +\n",
    "    labs(x='Buoyant density') +\n",
    "    labs(y='Amplicon fragment counts') +\n",
    "    facet_grid(library ~ .) +\n",
    "    theme_bw() +\n",
    "    theme( \n",
    "        text = element_text(size=16),\n",
    "        axis.title.y = element_text(vjust=1),        \n",
    "        axis.title.x = element_blank()\n",
    "    )\n",
    "p"
   ]
  },
  {
   "cell_type": "markdown",
   "metadata": {},
   "source": [
    "# Adding effects of PCR\n",
    "\n",
    "* This will alter the fragment counts based on the PCR kinetic model of:\n",
    ">Suzuki MT, Giovannoni SJ. (1996). Bias caused by template annealing in the\n",
    "  amplification of mixtures of 16S rRNA genes by PCR. Appl Environ Microbiol\n",
    "  62:625-630."
   ]
  },
  {
   "cell_type": "code",
   "execution_count": 67,
   "metadata": {
    "collapsed": true
   },
   "outputs": [],
   "source": [
    "!SIPSim OTU_PCR OTU.txt > OTU_PCR.txt    "
   ]
  },
  {
   "cell_type": "code",
   "execution_count": 68,
   "metadata": {
    "collapsed": false
   },
   "outputs": [
    {
     "name": "stdout",
     "output_type": "stream",
     "text": [
      "library\ttaxon\tfraction\tBD_min\tBD_mid\tBD_max\tcount\trel_abund\r\n",
      "1\tClostridium_ljungdahlii_DSM_13528\t-inf-1.673\t-inf\t1.672\t1.672\t9302618\t0.465130921533\r\n",
      "1\tClostridium_ljungdahlii_DSM_13528\t1.673-1.676\t1.673\t1.675\t1.676\t8092843\t0.404642150502\r\n",
      "1\tClostridium_ljungdahlii_DSM_13528\t1.676-1.680\t1.676\t1.678\t1.68\t9247046\t0.462352286332\r\n",
      "1\tClostridium_ljungdahlii_DSM_13528\t1.680-1.686\t1.68\t1.683\t1.686\t12067018\t0.603350916911\r\n"
     ]
    }
   ],
   "source": [
    "!head -n 5 OTU_PCR.txt"
   ]
  },
  {
   "cell_type": "markdown",
   "metadata": {},
   "source": [
    "**Notes**\n",
    "\n",
    "* The table is in the same format as with the original OTU table, but the counts and relative abundances should be altered."
   ]
  },
  {
   "cell_type": "markdown",
   "metadata": {},
   "source": [
    "# Simulating sequencing\n",
    "\n",
    "* Sampling from the OTU table"
   ]
  },
  {
   "cell_type": "code",
   "execution_count": 69,
   "metadata": {
    "collapsed": true
   },
   "outputs": [],
   "source": [
    "!SIPSim OTU_subsample OTU_PCR.txt > OTU_PCR_sub.txt"
   ]
  },
  {
   "cell_type": "code",
   "execution_count": 70,
   "metadata": {
    "collapsed": false
   },
   "outputs": [
    {
     "name": "stdout",
     "output_type": "stream",
     "text": [
      "library\tfraction\ttaxon\tBD_min\tBD_mid\tBD_max\tcount\trel_abund\r\n",
      "1\t-inf-1.673\tClostridium_ljungdahlii_DSM_13528\t-inf\t1.672\t1.672\t13753\t0.465840192392\r\n",
      "1\t1.673-1.676\tClostridium_ljungdahlii_DSM_13528\t1.673\t1.675\t1.676\t9977\t0.405289027908\r\n",
      "1\t1.676-1.680\tClostridium_ljungdahlii_DSM_13528\t1.676\t1.678\t1.68\t9665\t0.463326941515\r\n",
      "1\t1.680-1.686\tClostridium_ljungdahlii_DSM_13528\t1.68\t1.683\t1.686\t13122\t0.599862857143\r\n"
     ]
    }
   ],
   "source": [
    "!head -n 5 OTU_PCR_sub.txt"
   ]
  },
  {
   "cell_type": "markdown",
   "metadata": {},
   "source": [
    "**Notes**\n",
    "\n",
    "* The table is in the same format as with the original OTU table, but the counts and relative abundances should be altered."
   ]
  },
  {
   "cell_type": "markdown",
   "metadata": {},
   "source": [
    "### Plotting"
   ]
  },
  {
   "cell_type": "code",
   "execution_count": 80,
   "metadata": {
    "collapsed": false
   },
   "outputs": [
    {
     "data": {
      "image/png": "[encoded data removed]"
     },
     "metadata": {},
     "output_type": "display_data"
    }
   ],
   "source": [
    "%%R -h 350 -w 750\n",
    "\n",
    "df = read.delim('OTU_PCR_sub.txt', sep='\\t')\n",
    "\n",
    "\n",
    "p = ggplot(df, aes(BD_mid, rel_abund, fill=taxon)) +\n",
    "    geom_area(stat='identity', position='fill') +\n",
    "    scale_x_continuous(expand=c(0,0)) +\n",
    "    scale_y_continuous(expand=c(0,0)) +\n",
    "    labs(x='Buoyant density') +\n",
    "    labs(y='Taxon relative abundances') +\n",
    "    facet_grid(library ~ .) +\n",
    "    theme_bw() +\n",
    "    theme( \n",
    "        text = element_text(size=16),\n",
    "        axis.title.y = element_text(vjust=1),        \n",
    "        axis.title.x = element_blank()\n",
    "    )\n",
    "p"
   ]
  },
  {
   "cell_type": "markdown",
   "metadata": {},
   "source": [
    "**Notes**\n",
    "\n",
    "* The BD shift of 1 taxon in the treatment gradient is harder to see after simulating PCR & sequencing versus just looking at all fragments in the gradient (the original OTU table of fragment counts)"
   ]
  },
  {
   "cell_type": "markdown",
   "metadata": {},
   "source": [
    "# Misc"
   ]
  },
  {
   "cell_type": "markdown",
   "metadata": {},
   "source": [
    "### A 'wide' OTU table\n",
    "\n",
    "* If you want to reformat the OTU table to a more standard 'wide' format (as used in Mothur or QIIME):"
   ]
  },
  {
   "cell_type": "code",
   "execution_count": 81,
   "metadata": {
    "collapsed": true
   },
   "outputs": [],
   "source": [
    "!SIPSim OTU_wideLong -w \\\n",
    "    OTU_PCR_sub.txt \\\n",
    "    > OTU_PCR_sub_wide.txt"
   ]
  },
  {
   "cell_type": "code",
   "execution_count": 82,
   "metadata": {
    "collapsed": false
   },
   "outputs": [
    {
     "name": "stdout",
     "output_type": "stream",
     "text": [
      "taxon\t1__-inf-1.673\t1__1.673-1.676\t1__1.676-1.680\t1__1.680-1.686\t1__1.686-1.690\t1__1.690-1.694\t1__1.694-1.699\t1__1.699-1.703\t1__1.703-1.707\t1__1.707-1.712\t1__1.712-1.718\t1__1.718-1.721\t1__1.721-1.729\t1__1.729-1.733\t1__1.733-1.735\t1__1.735-1.738\t1__1.738-1.742\t1__1.742-1.747\t1__1.747-1.750\t1__1.750-1.753\t1__1.753-1.754\t1__1.754-1.757\t1__1.757-1.759\t1__1.759-1.765\t1__1.765-1.771\t1__1.771-1.774\t1__1.774-inf\t2__-inf-1.673\t2__1.673-1.674\t2__1.674-1.679\t2__1.679-1.682\t2__1.682-1.684\t2__1.684-1.689\t2__1.689-1.692\t2__1.692-1.698\t2__1.698-1.701\t2__1.701-1.708\t2__1.708-1.709\t2__1.709-1.714\t2__1.714-1.716\t2__1.716-1.721\t2__1.721-1.724\t2__1.724-1.726\t2__1.726-1.731\t2__1.731-1.735\t2__1.735-1.738\t2__1.738-1.744\t2__1.744-1.747\t2__1.747-1.753\t2__1.753-1.758\t2__1.758-1.762\t2__1.762-1.765\t2__1.765-1.769\t2__1.769-1.774\t2__1.774-inf\r\n",
      "Clostridium_ljungdahlii_DSM_13528\t13753\t9977\t9665\t13122\t15752\t10233\t22097\t15205\t15622\t7054\t5983\t4180\t2969\t3343\t4575\t8192\t8202\t13756\t9469\t7289\t8301\t9191\t14931\t7656\t8457\t8168\t5960\t12759\t12175\t10827\t9051\t12294\t15073\t14461\t18100\t19499\t22285\t12995\t9394\t6660\t4392\t1726\t1138\t1181\t3900\t3685\t8124\t6460\t9609\t7936\t8553\t7857\t6847\t8901\t7410\r\n",
      "Escherichia_coli_1303\t6298\t4370\t4206\t3202\t575\t155\t1193\t3097\t7571\t6798\t8043\t4263\t1360\t1428\t1831\t4073\t3975\t6730\t3895\t2654\t4990\t4439\t4304\t4193\t4339\t3323\t4114\t4502\t5490\t5947\t4742\t3442\t1664\t473\t496\t142\t366\t534\t386\t1512\t3777\t5699\t8220\t9846\t17498\t8632\t8577\t5185\t5109\t3946\t5179\t4851\t3510\t4906\t5875\r\n",
      "Streptomyces_pratensis_ATCC_33331\t9472\t10270\t6989\t5551\t2772\t1051\t1315\t1266\t2657\t4200\t12723\t18412\t15683\t10655\t8450\t10089\t6385\t10796\t7833\t5199\t6155\t7437\t9537\t7415\t7284\t6270\t7396\t8895\t8755\t7822\t6400\t6317\t3405\t982\t1118\t1321\t4761\t6006\t8920\t13573\t15809\t11761\t11230\t9317\t11433\t4136\t5687\t5314\t7120\t6540\t6613\t6953\t5355\t6828\t8140\r\n"
     ]
    }
   ],
   "source": [
    "!head -n 4 OTU_PCR_sub_wide.txt"
   ]
  },
  {
   "cell_type": "markdown",
   "metadata": {},
   "source": [
    "### SIP metadata\n",
    "\n",
    "* If you want to make a table of SIP sample metadata"
   ]
  },
  {
   "cell_type": "code",
   "execution_count": 83,
   "metadata": {
    "collapsed": true
   },
   "outputs": [],
   "source": [
    "!SIPSim OTU_sampleData \\\n",
    "    OTU_PCR_sub.txt \\\n",
    "    > OTU_PCR_sub_meta.txt"
   ]
  },
  {
   "cell_type": "code",
   "execution_count": 86,
   "metadata": {
    "collapsed": false
   },
   "outputs": [
    {
     "name": "stdout",
     "output_type": "stream",
     "text": [
      "sample\tlibrary\tfraction\tBD_min\tBD_max\tBD_mid\r\n",
      "1__-inf-1.673\t1\t-inf-1.673\t-inf\t1.673\t-inf\r\n",
      "1__1.673-1.676\t1\t1.673-1.676\t1.673\t1.676\t1.6745\r\n",
      "1__1.676-1.680\t1\t1.676-1.680\t1.676\t1.680\t1.678\r\n",
      "1__1.680-1.686\t1\t1.680-1.686\t1.680\t1.686\t1.683\r\n",
      "1__1.686-1.690\t1\t1.686-1.690\t1.686\t1.690\t1.688\r\n",
      "1__1.690-1.694\t1\t1.690-1.694\t1.690\t1.694\t1.692\r\n",
      "1__1.694-1.699\t1\t1.694-1.699\t1.694\t1.699\t1.6965\r\n",
      "1__1.699-1.703\t1\t1.699-1.703\t1.699\t1.703\t1.701\r\n",
      "1__1.703-1.707\t1\t1.703-1.707\t1.703\t1.707\t1.705\r\n"
     ]
    }
   ],
   "source": [
    "!head OTU_PCR_sub_meta.txt"
   ]
  },
  {
   "cell_type": "markdown",
   "metadata": {},
   "source": [
    "### Other SIPSim commands\n",
    "\n",
    "`SIPSim -l` will list all available SIPSim commands"
   ]
  },
  {
   "cell_type": "code",
   "execution_count": 87,
   "metadata": {
    "collapsed": false
   },
   "outputs": [
    {
     "name": "stdout",
     "output_type": "stream",
     "text": [
      "BD_shift: Determine the shift in BD based on KDE overlap\r\n",
      "communities: simulate communities in the samples used for SIP\r\n",
      "DBL: include diffusion boundary layer contamination into G+C variance\r\n",
      "deltaBD: simulate quantitative SIP data\r\n",
      "diffusion: incorporate gradient diffusion error in fragment buoyant density estimates\r\n",
      "fragment_KDE: make a 2d kernel density estimate of fragment\r\n",
      "fragment_KDE_cat: concatenating 2 fragment_kde objects\r\n",
      "fragment_parse: parsing out fragment objects for certain genomes\r\n",
      "fragments: simulate genome fragments that would be found in a isopycnic gradient\r\n",
      "genome_index: index genomes for in-silico PCR; required for\r\n",
      "genome_rename: formatting genome sequences in a multi-fasta file for SIPSim\r\n",
      "gradient_fractions: Simulate the fraction produced during gradient fractionation\r\n",
      "HRSIP: conduct high-resolution SIP method\r\n",
      "incorpConfigExample: create example isotope incorporation config file\r\n",
      "isotope_incorp.py\r\n",
      "KDE_bandwidth: get the bandwidth of each KDE\r\n",
      "KDE_info: get info on KDE object files\r\n",
      "KDE_parse: parse out KDEs for certain taxa\r\n",
      "KDE_plot: make plots of each KDE (1D or 2D)\r\n",
      "KDE_sample: sample from each KDE and write a table of values\r\n",
      "KDE_selectTaxa: Select a set of taxa to be incorporators\r\n",
      "OTU_add_error: adding error to abundance values\r\n",
      "OTU_PCR: simulate PCR of gradient fraction DNA samples\r\n",
      "OTU_sampleData: make a 'sample_data' table (phyloseq) from the OTU table\r\n",
      "OTU_subsample: simulate sequencing by subsampling from an OTU table\r\n",
      "OTU_sum: Sum OTU counts (by group)\r\n",
      "OTU_table: simulate OTUs for gradient fractions\r\n",
      "OTU_wideLong: convert OTU table from wide to long or vice versa\r\n",
      "qSIP: simulate quantitative SIP data\r\n",
      "qSIP_atomExcess: calculate isotope enrichment from qSIP data\r\n",
      "tree_sim: Simulate a phylogeny for a specified set of taxa\r\n"
     ]
    }
   ],
   "source": [
    "!SIPSim -l"
   ]
  },
  {
   "cell_type": "markdown",
   "metadata": {},
   "source": [
    "### Other SIPSim-associated commands\n",
    "\n",
    "`SIPSimR -l` will list all available SIPSim R commands for data analyses"
   ]
  },
  {
   "cell_type": "code",
   "execution_count": 90,
   "metadata": {
    "collapsed": false
   },
   "outputs": [
    {
     "name": "stdout",
     "output_type": "stream",
     "text": [
      "BD_span_calc.r [options] <data> <data_preFrac>\r\n",
      "comm_add_richness.r [options] <comm> <richness>\r\n",
      "comm_add_target.r [options] <comm> <target>\r\n",
      "comm_beta_div.r [options] <comm>\r\n",
      "comm_set_abund.r [options] <comm>\r\n",
      "comm_shuffle_taxa.r [options] <comm>\r\n",
      "correlogram_make.r [options] <data>\r\n",
      "DESeq2_rare-dominant.r [options] <DESeq2> <comm> <BD_shift>\r\n",
      "DESeq2_combine.r [options] <DESeq2>...\r\n",
      "DESeq2_confuseMtx.r [options] <BD_shift> <DESeq2>\r\n",
      "DESeq2_listTaxa.r [options] <DESeq2>\r\n",
      "DESeq2_rare-dominant.r [options] <DESeq2> <comm>\r\n",
      "heavy_confuseMtx.r [options] <BD_shift> <OTU_table>\r\n",
      "OTU_taxonAbund.r [options] <OTU>\r\n",
      "phyloseq2comm.r [options] <phyloseq>\r\n",
      "phyloseq_DESeq2.r [options] <phyloseq>\r\n",
      "phyloseq_edit.r [options] <phyloseq>\r\n",
      "phyloseq_make.r [options] <OTU>\r\n",
      "phyloseq_ordination.r [options] <phyloseq> <outFile>\r\n",
      "qSIP_confuseMtx.r [options] <BD_shift> <qSIP_atomExcess>\r\n",
      "rTraitContW.r\r\n",
      "shannon_calc.r [options] <data>\r\n"
     ]
    }
   ],
   "source": [
    "!SIPSimR -l"
   ]
  },
  {
   "cell_type": "code",
   "execution_count": null,
   "metadata": {
    "collapsed": true
   },
   "outputs": [],
   "source": []
  }
 ],
 "metadata": {
  "hide_input": true,
  "kernelspec": {
   "display_name": "Python 2",
   "language": "python",
   "name": "python2"
  },
  "language_info": {
   "codemirror_mode": {
    "name": "ipython",
    "version": 2
   },
   "file_extension": ".py",
   "mimetype": "text/x-python",
   "name": "python",
   "nbconvert_exporter": "python",
   "pygments_lexer": "ipython2",
   "version": "2.7.11"
  },
  "notify_time": "5"
 },
 "nbformat": 4,
 "nbformat_minor": 0
}
