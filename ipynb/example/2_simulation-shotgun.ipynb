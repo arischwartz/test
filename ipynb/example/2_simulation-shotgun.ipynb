{
 "cells": [
  {
   "cell_type": "markdown",
   "metadata": {
    "deletable": true,
    "editable": true
   },
   "source": [
    "# Description\n",
    "\n",
    "* Time to make a simple SIP data simulation with the [dataset](./1_dataset.ipynb) that you alreadly created"
   ]
  },
  {
   "cell_type": "markdown",
   "metadata": {
    "deletable": true,
    "editable": true
   },
   "source": [
    "# Setting variables\n",
    "\n",
    "* \"workDir\" is the path to the working directory for this analysis (where the files will be download to)\n",
    "  * **NOTE:** MAKE SURE to modify this path to the directory where YOU want to run the example.\n",
    "* \"nprocs\" is the number of processors to use (3 by default, since only 3 genomes). Change this if needed."
   ]
  },
  {
   "cell_type": "code",
   "execution_count": 84,
   "metadata": {
    "ExecuteTime": {
     "end_time": "2017-07-09T14:04:52.567608",
     "start_time": "2017-07-09T14:04:52.563487"
    },
    "collapsed": true,
    "deletable": true,
    "editable": true
   },
   "outputs": [],
   "source": [
    "workDir = '/home/nick/t/SIPSim_wSeq/'\n",
    "nprocs = 3"
   ]
  },
  {
   "cell_type": "markdown",
   "metadata": {
    "deletable": true,
    "editable": true
   },
   "source": [
    "# Init"
   ]
  },
  {
   "cell_type": "code",
   "execution_count": 85,
   "metadata": {
    "ExecuteTime": {
     "end_time": "2017-07-09T14:04:53.223754",
     "start_time": "2017-07-09T14:04:53.219951"
    },
    "collapsed": true,
    "deletable": true,
    "editable": true
   },
   "outputs": [],
   "source": [
    "import os\n",
    "import glob"
   ]
  },
  {
   "cell_type": "code",
   "execution_count": 86,
   "metadata": {
    "ExecuteTime": {
     "end_time": "2017-07-09T14:04:53.631513",
     "start_time": "2017-07-09T14:04:53.626163"
    },
    "collapsed": false,
    "deletable": true,
    "editable": true
   },
   "outputs": [
    {
     "name": "stdout",
     "output_type": "stream",
     "text": [
      "The rpy2.ipython extension is already loaded. To reload it, use:\n",
      "  %reload_ext rpy2.ipython\n"
     ]
    }
   ],
   "source": [
    "%load_ext rpy2.ipython"
   ]
  },
  {
   "cell_type": "code",
   "execution_count": 87,
   "metadata": {
    "ExecuteTime": {
     "end_time": "2017-07-09T14:04:53.948958",
     "start_time": "2017-07-09T14:04:53.940262"
    },
    "collapsed": false,
    "deletable": true,
    "editable": true
   },
   "outputs": [],
   "source": [
    "%%R\n",
    "library(ggplot2)\n",
    "library(dplyr)\n",
    "library(tidyr)"
   ]
  },
  {
   "cell_type": "code",
   "execution_count": 88,
   "metadata": {
    "ExecuteTime": {
     "end_time": "2017-07-09T14:04:54.487922",
     "start_time": "2017-07-09T14:04:54.480634"
    },
    "collapsed": false,
    "deletable": true,
    "editable": true
   },
   "outputs": [
    {
     "name": "stdout",
     "output_type": "stream",
     "text": [
      "/home/nick/t/SIPSim_wSeq\n"
     ]
    }
   ],
   "source": [
    "if not os.path.isdir(workDir):\n",
    "    os.makedirs(workDir)\n",
    "%cd $workDir    \n",
    "\n",
    "genomeDir = os.path.join(workDir, 'genomes_rn')"
   ]
  },
  {
   "cell_type": "markdown",
   "metadata": {
    "deletable": true,
    "editable": true
   },
   "source": [
    "# Experimental design\n",
    "\n",
    "* How many gradients?\n",
    "* Which are labeled treatments & which are controls?\n",
    "* For this tutorial, we'll keep things simple and just simulate one control & one treatment\n",
    "  * For the labeled treatment, 34% of the taxa (1 of 3) will incorporate 50% isotope"
   ]
  },
  {
   "cell_type": "markdown",
   "metadata": {
    "deletable": true,
    "editable": true
   },
   "source": [
    "The script below (\"`SIPSim incorpConfigExample`\") is helpful for making simple experimental designs"
   ]
  },
  {
   "cell_type": "code",
   "execution_count": 89,
   "metadata": {
    "ExecuteTime": {
     "end_time": "2017-07-09T14:04:59.347202",
     "start_time": "2017-07-09T14:04:55.691251"
    },
    "collapsed": false,
    "deletable": true,
    "editable": true
   },
   "outputs": [],
   "source": [
    "%%bash\n",
    "source activate py27\n",
    "\n",
    "# creating example config\n",
    "SIPSim incorp_config_example \\\n",
    "  --percTaxa 34 \\\n",
    "  --percIncorpUnif 50 \\\n",
    "  --n_reps 1 \\\n",
    "  > incorp.config"
   ]
  },
  {
   "cell_type": "code",
   "execution_count": 90,
   "metadata": {
    "ExecuteTime": {
     "end_time": "2017-07-09T14:04:59.713477",
     "start_time": "2017-07-09T14:04:59.349674"
    },
    "collapsed": false,
    "deletable": true,
    "editable": true
   },
   "outputs": [
    {
     "name": "stdout",
     "output_type": "stream",
     "text": [
      "\r\n",
      "[1]\r\n",
      "    # baseline: no incorporation\r\n",
      "    treatment = control\r\n",
      "    \r\n",
      "    [[intraPopDist 1]]\r\n",
      "        distribution = uniform\r\n",
      "        \r\n",
      "        [[[start]]]\r\n",
      "            \r\n",
      "            [[[[interPopDist 1]]]]\r\n",
      "                distribution = uniform\r\n",
      "                start = 0\r\n",
      "                end = 0\r\n",
      "        \r\n",
      "        [[[end]]]\r\n",
      "            \r\n",
      "            [[[[interPopDist 1]]]]\r\n",
      "                distribution = uniform\r\n",
      "                start = 0\r\n",
      "                end = 0\r\n",
      "[2]\r\n",
      "    # 'treatment' community: possible incorporation\r\n",
      "    treatment = labeled\r\n",
      "    max_perc_taxa_incorp = 34\r\n",
      "    \r\n",
      "    [[intraPopDist 1]]\r\n",
      "        distribution = uniform\r\n",
      "        \r\n",
      "        [[[start]]]\r\n",
      "            [[[[interPopDist 1]]]]\r\n",
      "                start = 50\r\n",
      "                distribution = uniform\r\n",
      "                end = 50\r\n",
      "        \r\n",
      "        [[[end]]]\r\n",
      "            [[[[interPopDist 1]]]]\r\n",
      "                start = 50\r\n",
      "                distribution = uniform\r\n",
      "                end = 50\r\n",
      "    \r\n"
     ]
    }
   ],
   "source": [
    "!cat incorp.config"
   ]
  },
  {
   "cell_type": "markdown",
   "metadata": {
    "deletable": true,
    "editable": true
   },
   "source": [
    "## Pre-fractionation communities\n",
    "\n",
    "* What is the relative abundance of taxa in the pre-fractionation samples?"
   ]
  },
  {
   "cell_type": "code",
   "execution_count": 91,
   "metadata": {
    "ExecuteTime": {
     "end_time": "2017-07-09T14:05:06.146539",
     "start_time": "2017-07-09T14:05:02.363843"
    },
    "collapsed": true,
    "deletable": true,
    "editable": true
   },
   "outputs": [],
   "source": [
    "%%bash\n",
    "source activate py27\n",
    "\n",
    "SIPSim communities \\\n",
    "    --config incorp.config \\\n",
    "    ./genomes_rn/genome_index.txt \\\n",
    "    > comm.txt  "
   ]
  },
  {
   "cell_type": "code",
   "execution_count": 92,
   "metadata": {
    "ExecuteTime": {
     "end_time": "2017-07-09T14:05:06.300110",
     "start_time": "2017-07-09T14:05:06.148989"
    },
    "collapsed": false,
    "deletable": true,
    "editable": true
   },
   "outputs": [
    {
     "name": "stdout",
     "output_type": "stream",
     "text": [
      "library\ttaxon_name\trel_abund_perc\trank\r\n",
      "1\tClostridium_ljungdahlii_DSM_13528\t50.800380062\t1\r\n",
      "1\tStreptomyces_pratensis_ATCC_33331\t46.262806759\t2\r\n",
      "1\tEscherichia_coli_1303\t2.936813179\t3\r\n",
      "2\tClostridium_ljungdahlii_DSM_13528\t58.573608475\t1\r\n",
      "2\tStreptomyces_pratensis_ATCC_33331\t37.205285797\t2\r\n",
      "2\tEscherichia_coli_1303\t4.221105728\t3\r\n"
     ]
    }
   ],
   "source": [
    "!cat comm.txt"
   ]
  },
  {
   "cell_type": "markdown",
   "metadata": {
    "deletable": true,
    "editable": true
   },
   "source": [
    "**Note:** \"library\" = gradient"
   ]
  },
  {
   "cell_type": "markdown",
   "metadata": {
    "deletable": true,
    "editable": true
   },
   "source": [
    "## Simulating gradient fractions\n",
    "\n",
    "* BD size ranges for each fraction (& start/end of the total BD range)"
   ]
  },
  {
   "cell_type": "code",
   "execution_count": 93,
   "metadata": {
    "ExecuteTime": {
     "end_time": "2017-07-09T14:05:12.630757",
     "start_time": "2017-07-09T14:05:08.522196"
    },
    "collapsed": true,
    "deletable": true,
    "editable": true
   },
   "outputs": [],
   "source": [
    "%%bash \n",
    "source activate py27\n",
    "\n",
    "SIPSim gradient_fractions \\\n",
    "    --BD_min 1.67323 \\\n",
    "    --BD_max 1.7744 \\\n",
    "    comm.txt \\\n",
    "    > fracs.txt    "
   ]
  },
  {
   "cell_type": "code",
   "execution_count": 94,
   "metadata": {
    "ExecuteTime": {
     "end_time": "2017-07-09T14:05:12.884382",
     "start_time": "2017-07-09T14:05:12.632463"
    },
    "collapsed": false,
    "deletable": true,
    "editable": true
   },
   "outputs": [
    {
     "name": "stdout",
     "output_type": "stream",
     "text": [
      "library\tfraction\tBD_min\tBD_max\tfraction_size\r\n",
      "1\t1\t1.673\t1.674\t0.001\r\n",
      "1\t2\t1.674\t1.678\t0.004\r\n",
      "1\t3\t1.678\t1.681\t0.003\r\n",
      "1\t4\t1.681\t1.684\t0.003\r\n",
      "1\t5\t1.684\t1.688\t0.004\r\n"
     ]
    }
   ],
   "source": [
    "!head -n 6 fracs.txt"
   ]
  },
  {
   "cell_type": "markdown",
   "metadata": {
    "deletable": true,
    "editable": true
   },
   "source": [
    "# Simulating fragments\n",
    "\n",
    "* Simulating shotgun-fragments\n",
    "* Fragment length distribution: skewed-normal"
   ]
  },
  {
   "cell_type": "markdown",
   "metadata": {
    "deletable": true,
    "editable": true
   },
   "source": [
    "### Primer sequences\n",
    "\n",
    "* If you were to simulate amplicons, instead of shotgun fragments, you can use something like the following"
   ]
  },
  {
   "cell_type": "code",
   "execution_count": 95,
   "metadata": {
    "ExecuteTime": {
     "end_time": "2017-07-09T14:05:13.196107",
     "start_time": "2017-07-09T14:05:13.192144"
    },
    "collapsed": false,
    "deletable": true,
    "editable": true
   },
   "outputs": [],
   "source": [
    "# primers = \"\"\">515F\n",
    "# GTGCCAGCMGCCGCGGTAA\n",
    "# >806R\n",
    "# GGACTACHVGGGTWTCTAAT\n",
    "# \"\"\"\n",
    "\n",
    "# F = os.path.join(workDir, '515F-806R.fna')\n",
    "# with open(F, 'wb') as oFH:\n",
    "#     oFH.write(primers)\n",
    "    \n",
    "# print 'File written: {}'.format(F)"
   ]
  },
  {
   "cell_type": "markdown",
   "metadata": {
    "deletable": true,
    "editable": true
   },
   "source": [
    "### Simulation"
   ]
  },
  {
   "cell_type": "code",
   "execution_count": 96,
   "metadata": {
    "ExecuteTime": {
     "end_time": "2017-07-09T14:05:19.864389",
     "start_time": "2017-07-09T14:05:14.676520"
    },
    "collapsed": false,
    "deletable": true,
    "editable": true
   },
   "outputs": [
    {
     "name": "stderr",
     "output_type": "stream",
     "text": [
      "Processing: \"Clostridium_ljungdahlii_DSM_13528\"\n",
      "  Genome name: Clostridium_ljungdahlii_DSM_13528\n",
      "  Genome length (bp): 4630065\n",
      "  Number of amplicons: None\n",
      "  Number of fragments simulated: 1000\n",
      "Processing: \"Escherichia_coli_1303\"\n",
      "  Genome name: Escherichia_coli_1303\n",
      "  Genome length (bp): 4948797\n",
      "  Number of amplicons: None\n",
      "  Number of fragments simulated: 1000\n",
      "Processing: \"Streptomyces_pratensis_ATCC_33331\"\n",
      "  Genome name: Streptomyces_pratensis_ATCC_33331\n",
      "  Genome length (bp): 7337497\n",
      "  Number of amplicons: None\n",
      "  Number of fragments simulated: 1000\n"
     ]
    }
   ],
   "source": [
    "%%bash -s $genomeDir\n",
    "source activate py27 \n",
    "\n",
    "# skewed-normal\n",
    "SIPSim fragments \\\n",
    "    $1/genome_index.txt \\\n",
    "    --fp $1 \\\n",
    "    --fld skewed-normal,9000,2500,-5 \\\n",
    "    --flr None,None \\\n",
    "    --nf 1000 \\\n",
    "    --debug \\\n",
    "    --tbl \\\n",
    "    > shotFrags.txt       "
   ]
  },
  {
   "cell_type": "code",
   "execution_count": 97,
   "metadata": {
    "ExecuteTime": {
     "end_time": "2017-07-09T14:05:20.232640",
     "start_time": "2017-07-09T14:05:19.866144"
    },
    "collapsed": false,
    "deletable": true,
    "editable": true
   },
   "outputs": [
    {
     "name": "stdout",
     "output_type": "stream",
     "text": [
      "taxon_name\tscaffoldID\tfragStart\tfragLength\tfragGC\n",
      "Clostridium_ljungdahlii_DSM_13528\tNC_014328_1_Clostridium_ljungdahlii_DSM_13528\t2155647\t7507\t29.7056080991\n",
      "Clostridium_ljungdahlii_DSM_13528\tNC_014328_1_Clostridium_ljungdahlii_DSM_13528\t2717579\t9035\t28.43386829\n",
      "Clostridium_ljungdahlii_DSM_13528\tNC_014328_1_Clostridium_ljungdahlii_DSM_13528\t4462489\t7510\t33.1424766977\n",
      "Clostridium_ljungdahlii_DSM_13528\tNC_014328_1_Clostridium_ljungdahlii_DSM_13528\t3115878\t6481\t31.5229131307\n",
      "Streptomyces_pratensis_ATCC_33331\tNC_016114_1_Streptomyces_pratensis_ATCC_33331\t7011878\t5852\t69.6855775803\n",
      "Streptomyces_pratensis_ATCC_33331\tNC_016114_1_Streptomyces_pratensis_ATCC_33331\t1132328\t8404\t76.0352213232\n",
      "Streptomyces_pratensis_ATCC_33331\tNC_016114_1_Streptomyces_pratensis_ATCC_33331\t2762390\t9433\t71.7163150641\n",
      "Streptomyces_pratensis_ATCC_33331\tNC_016114_1_Streptomyces_pratensis_ATCC_33331\t3936713\t7896\t67.8064842958\n",
      "Streptomyces_pratensis_ATCC_33331\tNC_016114_1_Streptomyces_pratensis_ATCC_33331\t3085501\t6888\t68.2200929152\n"
     ]
    }
   ],
   "source": [
    "!head -n 5 shotFrags.txt\n",
    "!tail -n 5 shotFrags.txt"
   ]
  },
  {
   "cell_type": "markdown",
   "metadata": {
    "deletable": true,
    "editable": true
   },
   "source": [
    "### Plotting fragments"
   ]
  },
  {
   "cell_type": "code",
   "execution_count": 98,
   "metadata": {
    "ExecuteTime": {
     "end_time": "2017-07-09T14:05:23.188003",
     "start_time": "2017-07-09T14:05:22.238648"
    },
    "collapsed": false,
    "deletable": true,
    "editable": true
   },
   "outputs": [
    {
     "data": {
      "image/png": "[encoded data removed]"
     },
     "metadata": {},
     "output_type": "display_data"
    }
   ],
   "source": [
    "%%R -w 700 -h 350\n",
    "\n",
    "df = read.delim('shotFrags.txt')\n",
    "\n",
    "p = ggplot(df, aes(fragGC, fragLength, color=taxon_name)) +\n",
    "    geom_density2d() +\n",
    "    scale_color_discrete('Taxon') +\n",
    "    labs(x='Fragment G+C', y='Fragment length (bp)') +\n",
    "    theme_bw() +\n",
    "    theme(\n",
    "        text = element_text(size=16)\n",
    "    )\n",
    "plot(p)"
   ]
  },
  {
   "cell_type": "markdown",
   "metadata": {
    "deletable": true,
    "editable": true
   },
   "source": [
    "**Note:** for information on what's going on in this config file, use the command: `SIPSim isotope_incorp -h`"
   ]
  },
  {
   "cell_type": "markdown",
   "metadata": {
    "deletable": true,
    "editable": true
   },
   "source": [
    "## Converting fragments to a 2d-KDE\n",
    "\n",
    "* Estimating the joint-probabilty for fragment G+C & length"
   ]
  },
  {
   "cell_type": "code",
   "execution_count": 99,
   "metadata": {
    "ExecuteTime": {
     "end_time": "2017-07-09T14:05:28.443553",
     "start_time": "2017-07-09T14:05:24.200452"
    },
    "collapsed": false,
    "deletable": true,
    "editable": true
   },
   "outputs": [],
   "source": [
    "%%bash \n",
    "source activate py27\n",
    "\n",
    "SIPSim fragment_KDE \\\n",
    "    shotFrags.txt \\\n",
    "    > shotFrags_kde.pkl"
   ]
  },
  {
   "cell_type": "code",
   "execution_count": 100,
   "metadata": {
    "ExecuteTime": {
     "end_time": "2017-07-09T14:05:28.637912",
     "start_time": "2017-07-09T14:05:28.446199"
    },
    "collapsed": false
   },
   "outputs": [
    {
     "name": "stdout",
     "output_type": "stream",
     "text": [
      "-rw-rw-r-- 1 nick nick 49K Jul  9 14:05 shotFrags_kde.pkl\r\n"
     ]
    }
   ],
   "source": [
    "!ls -thlc shotFrags_kde.pkl"
   ]
  },
  {
   "cell_type": "markdown",
   "metadata": {
    "deletable": true,
    "editable": true
   },
   "source": [
    "* **Note:** The generated list of KDEs (1 per taxon per gradient) are in a binary file format\n",
    "  * To get a table of length/G+C values, use the command: `SIPSim KDE_sample`"
   ]
  },
  {
   "cell_type": "markdown",
   "metadata": {
    "deletable": true,
    "editable": true
   },
   "source": [
    "## Adding diffusion \n",
    "\n",
    "* Simulating the BD distribution of fragments as Gaussian distributions. \n",
    "  * One Gaussian distribution per homogeneous set of DNA molecules (same G+C and length)"
   ]
  },
  {
   "cell_type": "code",
   "execution_count": 101,
   "metadata": {
    "ExecuteTime": {
     "end_time": "2017-07-09T14:05:44.335349",
     "start_time": "2017-07-09T14:05:28.639714"
    },
    "collapsed": false,
    "deletable": true,
    "editable": true
   },
   "outputs": [
    {
     "name": "stderr",
     "output_type": "stream",
     "text": [
      "Index size: 90508\n",
      "Processing: Escherichia_coli_1303\n",
      "Processing: Streptomyces_pratensis_ATCC_33331\n",
      "Processing: Clostridium_ljungdahlii_DSM_13528\n"
     ]
    }
   ],
   "source": [
    "%%bash \n",
    "source activate py27\n",
    "\n",
    "SIPSim diffusion \\\n",
    "    shotFrags_kde.pkl \\\n",
    "    --np 3 \\\n",
    "    > shotFrags_kde_dif.pkl        "
   ]
  },
  {
   "cell_type": "code",
   "execution_count": 102,
   "metadata": {
    "ExecuteTime": {
     "end_time": "2017-07-09T14:05:44.514787",
     "start_time": "2017-07-09T14:05:44.337438"
    },
    "collapsed": false
   },
   "outputs": [
    {
     "name": "stdout",
     "output_type": "stream",
     "text": [
      "-rw-rw-r-- 1 nick nick 12M Jul  9 14:05 shotFrags_kde_dif.pkl\r\n"
     ]
    }
   ],
   "source": [
    "!ls -thlc shotFrags_kde_dif.pkl "
   ]
  },
  {
   "cell_type": "markdown",
   "metadata": {
    "deletable": true,
    "editable": true
   },
   "source": [
    "# Plotting fragment distribution w/ and w/out diffusion"
   ]
  },
  {
   "cell_type": "markdown",
   "metadata": {
    "deletable": true,
    "editable": true
   },
   "source": [
    "## Making a table of fragment values from KDEs"
   ]
  },
  {
   "cell_type": "code",
   "execution_count": 103,
   "metadata": {
    "ExecuteTime": {
     "end_time": "2017-07-09T14:05:44.521824",
     "start_time": "2017-07-09T14:05:44.517579"
    },
    "collapsed": true
   },
   "outputs": [],
   "source": [
    "n = 100000"
   ]
  },
  {
   "cell_type": "code",
   "execution_count": 104,
   "metadata": {
    "ExecuteTime": {
     "end_time": "2017-07-09T14:05:50.362678",
     "start_time": "2017-07-09T14:05:44.524056"
    },
    "collapsed": false,
    "deletable": true,
    "editable": true
   },
   "outputs": [
    {
     "name": "stdout",
     "output_type": "stream",
     "text": [
      "-rw-rw-r-- 1 nick nick 4.2M Jul  9 14:05 shotFrags_kde_dif.txt\n",
      "-rw-rw-r-- 1 nick nick 4.2M Jul  9 14:05 shotFrags_kde.txt\n"
     ]
    }
   ],
   "source": [
    "%%bash -s $n\n",
    "source activate py27\n",
    "\n",
    "SIPSim KDE_sample -n $1 shotFrags_kde.pkl > shotFrags_kde.txt\n",
    "SIPSim KDE_sample -n $1 shotFrags_kde_dif.pkl > shotFrags_kde_dif.txt\n",
    "\n",
    "ls -thlc shotFrags_kde*.txt"
   ]
  },
  {
   "cell_type": "markdown",
   "metadata": {
    "deletable": true,
    "editable": true
   },
   "source": [
    "## Plotting"
   ]
  },
  {
   "cell_type": "code",
   "execution_count": 105,
   "metadata": {
    "ExecuteTime": {
     "end_time": "2017-07-09T14:05:53.646755",
     "start_time": "2017-07-09T14:05:50.364356"
    },
    "collapsed": false,
    "deletable": true,
    "editable": true
   },
   "outputs": [
    {
     "data": {
      "text/plain": [
       "  libID         data                              Taxon       BD\n",
       "1     1 no diffusion Clostridium_ljungdahlii\\nDSM_13528 1.690149\n",
       "2     1 no diffusion Clostridium_ljungdahlii\\nDSM_13528 1.690362\n",
       "3     1 no diffusion Clostridium_ljungdahlii\\nDSM_13528 1.687843\n"
      ]
     },
     "metadata": {},
     "output_type": "display_data"
    }
   ],
   "source": [
    "%%R\n",
    "df1 = read.delim('shotFrags_kde.txt', sep='\\t')\n",
    "df2 = read.delim('shotFrags_kde_dif.txt', sep='\\t')\n",
    "\n",
    "df1$data = 'no diffusion'\n",
    "df2$data = 'diffusion'\n",
    "df = rbind(df1, df2) %>%\n",
    "    gather(Taxon, BD, Clostridium_ljungdahlii_DSM_13528, \n",
    "           Escherichia_coli_1303, Streptomyces_pratensis_ATCC_33331) %>%\n",
    "    mutate(Taxon = gsub('_(ATCC|DSM)', '\\n\\\\1', Taxon))\n",
    "\n",
    "df %>% head(n=3)"
   ]
  },
  {
   "cell_type": "code",
   "execution_count": 106,
   "metadata": {
    "ExecuteTime": {
     "end_time": "2017-07-09T14:05:56.396933",
     "start_time": "2017-07-09T14:05:53.648486"
    },
    "collapsed": false,
    "deletable": true,
    "editable": true
   },
   "outputs": [
    {
     "data": {
      "image/png": "[encoded data removed]"
     },
     "metadata": {},
     "output_type": "display_data"
    }
   ],
   "source": [
    "%%R -w 800 -h 300\n",
    "\n",
    "p = ggplot(df, aes(BD, fill=data)) +\n",
    "    geom_density(alpha=0.25) +\n",
    "    facet_wrap( ~ Taxon) +    \n",
    "    scale_fill_discrete('') +\n",
    "    theme_bw() +\n",
    "    theme(\n",
    "        text=element_text(size=16),\n",
    "        axis.title.y = element_text(vjust=1),\n",
    "        axis.text.x = element_text(angle=50, hjust=1)\n",
    "        )\n",
    "\n",
    "plot(p)"
   ]
  },
  {
   "cell_type": "markdown",
   "metadata": {
    "collapsed": true,
    "deletable": true,
    "editable": true
   },
   "source": [
    "# Adding diffusive boundary layer (DBL) effects"
   ]
  },
  {
   "cell_type": "code",
   "execution_count": 109,
   "metadata": {
    "ExecuteTime": {
     "end_time": "2017-07-09T14:06:53.063210",
     "start_time": "2017-07-09T14:06:45.511174"
    },
    "collapsed": false,
    "deletable": true,
    "editable": true
   },
   "outputs": [
    {
     "name": "stderr",
     "output_type": "stream",
     "text": [
      "DBL_index file written: \"DBL_index.txt\"\n",
      "Processing: Clostridium_ljungdahlii_DSM_13528\n",
      "Processing: Streptomyces_pratensis_ATCC_33331\n",
      "Processing: Escherichia_coli_1303\n"
     ]
    }
   ],
   "source": [
    "%%bash \n",
    "source activate py27\n",
    "\n",
    "SIPSim DBL \\\n",
    "    shotFrags_kde_dif.pkl \\\n",
    "    --np 3 \\\n",
    "    > shotFrags_kde_dif_DBL.pkl"
   ]
  },
  {
   "cell_type": "code",
   "execution_count": 110,
   "metadata": {
    "ExecuteTime": {
     "end_time": "2017-07-09T14:06:53.196129",
     "start_time": "2017-07-09T14:06:53.065312"
    },
    "collapsed": false,
    "deletable": true,
    "editable": true
   },
   "outputs": [
    {
     "name": "stdout",
     "output_type": "stream",
     "text": [
      "-rw-rw-r-- 1 nick nick 12M Jul  9 14:06 shotFrags_kde_dif_DBL.pkl\r\n",
      "-rw-rw-r-- 1 nick nick 12M Jul  9 14:05 shotFrags_kde_dif.pkl\r\n",
      "-rw-rw-r-- 1 nick nick 49K Jul  9 14:05 shotFrags_kde.pkl\r\n"
     ]
    }
   ],
   "source": [
    "# viewing DBL logs\n",
    "!ls -thlc *pkl"
   ]
  },
  {
   "cell_type": "markdown",
   "metadata": {
    "collapsed": true,
    "deletable": true,
    "editable": true
   },
   "source": [
    "# Adding isotope incorporation\n",
    "\n",
    "* Using the config file produced in the Experimental Design section"
   ]
  },
  {
   "cell_type": "code",
   "execution_count": 111,
   "metadata": {
    "ExecuteTime": {
     "end_time": "2017-07-09T14:07:05.362862",
     "start_time": "2017-07-09T14:06:53.201493"
    },
    "collapsed": false,
    "deletable": true,
    "editable": true
   },
   "outputs": [
    {
     "name": "stderr",
     "output_type": "stream",
     "text": [
      "Loading KDE object...\n",
      "Processing library: 1\n",
      "Processing: Clostridium_ljungdahlii_DSM_13528\n",
      "Processing: Escherichia_coli_1303\n",
      "Processing: Streptomyces_pratensis_ATCC_33331\n",
      "Processing library: 2\n",
      "WARNING: config library 2 not found in KDEs.Using a different KDE object\n",
      "Processing: Clostridium_ljungdahlii_DSM_13528\n",
      "Processing: Escherichia_coli_1303\n",
      "Processing: Streptomyces_pratensis_ATCC_33331\n",
      "File written: BD-shift_stats.txt\n"
     ]
    }
   ],
   "source": [
    "%%bash\n",
    "source activate py27\n",
    "\n",
    "SIPSim isotope_incorp \\\n",
    "    --comm comm.txt \\\n",
    "    --np 3 \\\n",
    "    shotFrags_kde_dif_DBL.pkl \\\n",
    "    incorp.config \\\n",
    "    > shotFrags_KDE_dif_DBL_inc.pkl"
   ]
  },
  {
   "cell_type": "code",
   "execution_count": 112,
   "metadata": {
    "ExecuteTime": {
     "end_time": "2017-07-09T14:07:05.496490",
     "start_time": "2017-07-09T14:07:05.365511"
    },
    "collapsed": false,
    "deletable": true,
    "editable": true
   },
   "outputs": [
    {
     "name": "stdout",
     "output_type": "stream",
     "text": [
      "-rw-rw-r-- 1 nick nick 23M Jul  9 14:07 shotFrags_KDE_dif_DBL_inc.pkl\r\n",
      "-rw-rw-r-- 1 nick nick 12M Jul  9 14:06 shotFrags_kde_dif_DBL.pkl\r\n",
      "-rw-rw-r-- 1 nick nick 12M Jul  9 14:05 shotFrags_kde_dif.pkl\r\n",
      "-rw-rw-r-- 1 nick nick 49K Jul  9 14:05 shotFrags_kde.pkl\r\n"
     ]
    }
   ],
   "source": [
    "!ls -thlc *.pkl"
   ]
  },
  {
   "cell_type": "markdown",
   "metadata": {
    "deletable": true,
    "editable": true
   },
   "source": [
    "**Note:** statistics on how much isotope was incorporated by each taxon are listed in \"BD-shift_stats.txt\""
   ]
  },
  {
   "cell_type": "code",
   "execution_count": 113,
   "metadata": {
    "ExecuteTime": {
     "end_time": "2017-07-09T14:07:05.517298",
     "start_time": "2017-07-09T14:07:05.498998"
    },
    "collapsed": false,
    "deletable": true,
    "editable": true
   },
   "outputs": [
    {
     "data": {
      "text/plain": [
       "  library                             taxon          min          q25\n",
       "1       1 Clostridium_ljungdahlii_DSM_13528 9.992007e-15 1.554312e-14\n",
       "2       1             Escherichia_coli_1303 1.909584e-14 2.131628e-14\n",
       "3       1 Streptomyces_pratensis_ATCC_33331 2.953193e-14 3.108624e-14\n",
       "4       2 Clostridium_ljungdahlii_DSM_13528 0.000000e+00 0.000000e+00\n",
       "5       2             Escherichia_coli_1303 1.800000e-02 1.800000e-02\n",
       "6       2 Streptomyces_pratensis_ATCC_33331 0.000000e+00 0.000000e+00\n",
       "          mean       median          q75          max\n",
       "1 2.128831e-14 2.131628e-14 2.686740e-14 3.264056e-14\n",
       "2 2.359371e-14 2.353673e-14 2.575717e-14 2.797762e-14\n",
       "3 3.264068e-14 3.264056e-14 3.419487e-14 3.574918e-14\n",
       "4 0.000000e+00 0.000000e+00 0.000000e+00 0.000000e+00\n",
       "5 1.800000e-02 1.800000e-02 1.800000e-02 1.800000e-02\n",
       "6 0.000000e+00 0.000000e+00 0.000000e+00 0.000000e+00\n"
      ]
     },
     "metadata": {},
     "output_type": "display_data"
    }
   ],
   "source": [
    "%%R\n",
    "df = read.delim('BD-shift_stats.txt', sep='\\t')\n",
    "df "
   ]
  },
  {
   "cell_type": "markdown",
   "metadata": {
    "deletable": true,
    "editable": true
   },
   "source": [
    "# Making an OTU table\n",
    "\n",
    "* Number of amplicon-fragment in each fraction in each gradient\n",
    "* Assuming a total pre-fractionation community size of 1e7"
   ]
  },
  {
   "cell_type": "code",
   "execution_count": 114,
   "metadata": {
    "ExecuteTime": {
     "end_time": "2017-07-09T14:07:25.449450",
     "start_time": "2017-07-09T14:07:05.519542"
    },
    "collapsed": false,
    "deletable": true,
    "editable": true
   },
   "outputs": [
    {
     "name": "stderr",
     "output_type": "stream",
     "text": [
      "Loading files...\n",
      "Simulating OTUs...\n",
      "Processing library: \"1\"\n",
      "  Processing taxon: \"Clostridium_ljungdahlii_DSM_13528\"\n",
      "   taxon abs-abundance:  5080038\n",
      "  Processing taxon: \"Streptomyces_pratensis_ATCC_33331\"\n",
      "   taxon abs-abundance:  4626281\n",
      "  Processing taxon: \"Escherichia_coli_1303\"\n",
      "   taxon abs-abundance:  293681\n",
      "Processing library: \"2\"\n",
      "  Processing taxon: \"Clostridium_ljungdahlii_DSM_13528\"\n",
      "   taxon abs-abundance:  5857361\n",
      "  Processing taxon: \"Streptomyces_pratensis_ATCC_33331\"\n",
      "   taxon abs-abundance:  3720529\n",
      "  Processing taxon: \"Escherichia_coli_1303\"\n",
      "   taxon abs-abundance:  422111\n"
     ]
    }
   ],
   "source": [
    "%%bash\n",
    "source activate py27\n",
    "\n",
    "SIPSim OTU_table \\\n",
    "    --abs 1e7 \\\n",
    "    --np 3 \\\n",
    "    shotFrags_KDE_dif_DBL_inc.pkl \\\n",
    "    comm.txt \\\n",
    "    fracs.txt \\\n",
    "    > OTU.txt"
   ]
  },
  {
   "cell_type": "code",
   "execution_count": 115,
   "metadata": {
    "ExecuteTime": {
     "end_time": "2017-07-09T14:07:25.601501",
     "start_time": "2017-07-09T14:07:25.451485"
    },
    "collapsed": false,
    "deletable": true,
    "editable": true
   },
   "outputs": [
    {
     "name": "stdout",
     "output_type": "stream",
     "text": [
      "library\ttaxon\tfraction\tBD_min\tBD_mid\tBD_max\tcount\trel_abund\r\n",
      "1\tClostridium_ljungdahlii_DSM_13528\t-inf-1.673\t-inf\t1.672\t1.672\t2183\t0.832253145254\r\n",
      "1\tClostridium_ljungdahlii_DSM_13528\t1.673-1.674\t1.673\t1.673\t1.674\t268\t0.943661971831\r\n",
      "1\tClostridium_ljungdahlii_DSM_13528\t1.674-1.678\t1.674\t1.676\t1.678\t3454\t0.96832071769\r\n",
      "1\tClostridium_ljungdahlii_DSM_13528\t1.678-1.681\t1.678\t1.679\t1.681\t20758\t0.99258834218\r\n",
      "1\tClostridium_ljungdahlii_DSM_13528\t1.681-1.684\t1.681\t1.683\t1.684\t133251\t0.99932503881\r\n",
      "1\tClostridium_ljungdahlii_DSM_13528\t1.684-1.688\t1.684\t1.686\t1.688\t1054980\t0.999822776868\r\n"
     ]
    }
   ],
   "source": [
    "!head -n 7 OTU.txt"
   ]
  },
  {
   "cell_type": "markdown",
   "metadata": {
    "deletable": true,
    "editable": true
   },
   "source": [
    "### Plotting fragment count distributions"
   ]
  },
  {
   "cell_type": "code",
   "execution_count": 116,
   "metadata": {
    "ExecuteTime": {
     "end_time": "2017-07-09T14:07:26.207579",
     "start_time": "2017-07-09T14:07:25.603391"
    },
    "collapsed": false,
    "deletable": true,
    "editable": true
   },
   "outputs": [
    {
     "data": {
      "image/png": "[encoded data removed]"
     },
     "metadata": {},
     "output_type": "display_data"
    }
   ],
   "source": [
    "%%R -h 350 -w 750\n",
    "\n",
    "df = read.delim('OTU.txt', sep='\\t')\n",
    "\n",
    "p = ggplot(df, aes(BD_mid, count, fill=taxon)) +\n",
    "    geom_area(stat='identity', position='dodge', alpha=0.5) +\n",
    "    scale_x_continuous(expand=c(0,0)) +\n",
    "    labs(x='Buoyant density') +\n",
    "    labs(y='Shotgun fragment counts') +\n",
    "    facet_grid(library ~ .) +\n",
    "    theme_bw() +\n",
    "    theme( \n",
    "        text = element_text(size=16),\n",
    "        axis.title.y = element_text(vjust=1),        \n",
    "        axis.title.x = element_blank()\n",
    "    )\n",
    "plot(p)"
   ]
  },
  {
   "cell_type": "markdown",
   "metadata": {
    "deletable": true,
    "editable": true
   },
   "source": [
    "**Notes:** \n",
    "\n",
    "* This plot represents the theoretical number of amplicon-fragments at each BD across each gradient. \n",
    "  * Derived from subsampling the fragment BD proability distributions generated in earlier steps.\n",
    "* The fragment BD distribution of one of the 3 taxa should have shifted in Gradient 2 (the treatment gradient).\n",
    "* The fragment BD distributions of the other 2 taxa should be approx. the same between the two gradients."
   ]
  },
  {
   "cell_type": "markdown",
   "metadata": {
    "deletable": true,
    "editable": true
   },
   "source": [
    "### Viewing fragment counts as relative quantities "
   ]
  },
  {
   "cell_type": "code",
   "execution_count": 117,
   "metadata": {
    "ExecuteTime": {
     "end_time": "2017-07-09T14:07:26.781716",
     "start_time": "2017-07-09T14:07:26.209554"
    },
    "collapsed": false,
    "deletable": true,
    "editable": true
   },
   "outputs": [
    {
     "data": {
      "image/png": "[encoded data removed]"
     },
     "metadata": {},
     "output_type": "display_data"
    }
   ],
   "source": [
    "%%R -h 350 -w 750\n",
    "\n",
    "p = ggplot(df, aes(BD_mid, count, fill=taxon)) +\n",
    "    geom_area(stat='identity', position='fill') +\n",
    "    scale_x_continuous(expand=c(0,0)) +\n",
    "    scale_y_continuous(expand=c(0,0)) +\n",
    "    labs(x='Buoyant density') +\n",
    "    labs(y='Shotgun fragment counts') +\n",
    "    facet_grid(library ~ .) +\n",
    "    theme_bw() +\n",
    "    theme( \n",
    "        text = element_text(size=16),\n",
    "        axis.title.y = element_text(vjust=1),        \n",
    "        axis.title.x = element_blank()\n",
    "    )\n",
    "plot(p)"
   ]
  },
  {
   "cell_type": "markdown",
   "metadata": {
    "deletable": true,
    "editable": true
   },
   "source": [
    "# Adding effects of PCR\n",
    "\n",
    "* This will alter the fragment counts based on the PCR kinetic model of:\n",
    ">Suzuki MT, Giovannoni SJ. (1996). Bias caused by template annealing in the\n",
    "  amplification of mixtures of 16S rRNA genes by PCR. Appl Environ Microbiol\n",
    "  62:625-630."
   ]
  },
  {
   "cell_type": "code",
   "execution_count": 118,
   "metadata": {
    "ExecuteTime": {
     "end_time": "2017-07-09T14:07:30.554798",
     "start_time": "2017-07-09T14:07:26.783100"
    },
    "collapsed": true,
    "deletable": true,
    "editable": true
   },
   "outputs": [],
   "source": [
    "%%bash\n",
    "source activate py27\n",
    "\n",
    "SIPSim OTU_PCR OTU.txt > OTU_PCR.txt    "
   ]
  },
  {
   "cell_type": "code",
   "execution_count": 119,
   "metadata": {
    "ExecuteTime": {
     "end_time": "2017-07-09T14:07:30.824042",
     "start_time": "2017-07-09T14:07:30.557068"
    },
    "collapsed": false,
    "deletable": true,
    "editable": true
   },
   "outputs": [
    {
     "name": "stdout",
     "output_type": "stream",
     "text": [
      "library\ttaxon\tfraction\tBD_min\tBD_mid\tBD_max\tcount\trel_abund\n",
      "1\tClostridium_ljungdahlii_DSM_13528\t-inf-1.673\t-inf\t1.672\t1.672\t9676914\t0.483845684798\n",
      "1\tClostridium_ljungdahlii_DSM_13528\t1.673-1.674\t1.673\t1.673\t1.674\t13026686\t0.651334263393\n",
      "1\tClostridium_ljungdahlii_DSM_13528\t1.674-1.678\t1.674\t1.676\t1.678\t11957464\t0.597873188777\n",
      "1\tClostridium_ljungdahlii_DSM_13528\t1.678-1.681\t1.678\t1.679\t1.681\t14304771\t0.715238538468\n",
      "2\tStreptomyces_pratensis_ATCC_33331\t1.758-1.765\t1.758\t1.761\t1.765\t7457624\t0.372881205372\n",
      "2\tStreptomyces_pratensis_ATCC_33331\t1.765-1.767\t1.765\t1.766\t1.767\t7981631\t0.39908154703\n",
      "2\tStreptomyces_pratensis_ATCC_33331\t1.767-1.769\t1.767\t1.768\t1.769\t7610264\t0.380513183931\n",
      "2\tStreptomyces_pratensis_ATCC_33331\t1.769-1.774\t1.769\t1.772\t1.774\t7990077\t0.39950381567\n",
      "2\tStreptomyces_pratensis_ATCC_33331\t1.774-inf\t1.775\t1.775\tinf\t9523320\t0.476166000541\n"
     ]
    }
   ],
   "source": [
    "!head -n 5 OTU_PCR.txt\n",
    "!tail -n 5 OTU_PCR.txt"
   ]
  },
  {
   "cell_type": "markdown",
   "metadata": {
    "deletable": true,
    "editable": true
   },
   "source": [
    "**Notes**\n",
    "\n",
    "* The table is in the same format as with the original OTU table, but the counts and relative abundances should be altered."
   ]
  },
  {
   "cell_type": "markdown",
   "metadata": {
    "deletable": true,
    "editable": true
   },
   "source": [
    "# Simulating sequencing\n",
    "\n",
    "* Sampling from the OTU table"
   ]
  },
  {
   "cell_type": "code",
   "execution_count": 120,
   "metadata": {
    "ExecuteTime": {
     "end_time": "2017-07-09T14:07:35.165189",
     "start_time": "2017-07-09T14:07:30.825891"
    },
    "collapsed": true,
    "deletable": true,
    "editable": true
   },
   "outputs": [],
   "source": [
    "%%bash\n",
    "source activate py27\n",
    "\n",
    "SIPSim OTU_subsample OTU_PCR.txt > OTU_PCR_sub.txt"
   ]
  },
  {
   "cell_type": "code",
   "execution_count": 121,
   "metadata": {
    "ExecuteTime": {
     "end_time": "2017-07-09T14:07:35.316783",
     "start_time": "2017-07-09T14:07:35.167033"
    },
    "collapsed": false,
    "deletable": true,
    "editable": true
   },
   "outputs": [
    {
     "name": "stdout",
     "output_type": "stream",
     "text": [
      "library\tfraction\ttaxon\tBD_min\tBD_mid\tBD_max\tcount\trel_abund\r\n",
      "1\t-inf-1.673\tClostridium_ljungdahlii_DSM_13528\t-inf\t1.672\t1.672\t9781\t0.481135323921\r\n",
      "1\t1.673-1.674\tClostridium_ljungdahlii_DSM_13528\t1.673\t1.673\t1.674\t12535\t0.647435566345\r\n",
      "1\t1.674-1.678\tClostridium_ljungdahlii_DSM_13528\t1.674\t1.676\t1.678\t10638\t0.598750492486\r\n",
      "1\t1.678-1.681\tClostridium_ljungdahlii_DSM_13528\t1.678\t1.679\t1.681\t10253\t0.718601065321\r\n"
     ]
    }
   ],
   "source": [
    "!head -n 5 OTU_PCR_sub.txt"
   ]
  },
  {
   "cell_type": "markdown",
   "metadata": {
    "deletable": true,
    "editable": true
   },
   "source": [
    "**Notes**\n",
    "\n",
    "* The table is in the same format as with the original OTU table, but the counts and relative abundances should be altered."
   ]
  },
  {
   "cell_type": "markdown",
   "metadata": {
    "deletable": true,
    "editable": true
   },
   "source": [
    "### Plotting"
   ]
  },
  {
   "cell_type": "code",
   "execution_count": 122,
   "metadata": {
    "ExecuteTime": {
     "end_time": "2017-07-09T14:07:35.971623",
     "start_time": "2017-07-09T14:07:35.318665"
    },
    "collapsed": false,
    "deletable": true,
    "editable": true
   },
   "outputs": [
    {
     "data": {
      "image/png": "[encoded data removed]"
     },
     "metadata": {},
     "output_type": "display_data"
    }
   ],
   "source": [
    "%%R -h 350 -w 750\n",
    "\n",
    "df = read.delim('OTU_PCR_sub.txt', sep='\\t')\n",
    "\n",
    "\n",
    "p = ggplot(df, aes(BD_mid, rel_abund, fill=taxon)) +\n",
    "    geom_area(stat='identity', position='fill') +\n",
    "    scale_x_continuous(expand=c(0,0)) +\n",
    "    scale_y_continuous(expand=c(0,0)) +\n",
    "    labs(x='Buoyant density') +\n",
    "    labs(y='Taxon relative abundances') +\n",
    "    facet_grid(library ~ .) +\n",
    "    theme_bw() +\n",
    "    theme( \n",
    "        text = element_text(size=16),\n",
    "        axis.title.y = element_text(vjust=1),        \n",
    "        axis.title.x = element_blank()\n",
    "    )\n",
    "plot(p)"
   ]
  },
  {
   "cell_type": "markdown",
   "metadata": {
    "deletable": true,
    "editable": true
   },
   "source": [
    "**Notes**\n",
    "\n",
    "* The BD shift of 1 taxon in the treatment gradient is harder to see after simulating PCR & sequencing versus just looking at all fragments in the gradient (the original OTU table of fragment counts)"
   ]
  },
  {
   "cell_type": "markdown",
   "metadata": {
    "deletable": true,
    "editable": true
   },
   "source": [
    "# Misc"
   ]
  },
  {
   "cell_type": "markdown",
   "metadata": {
    "deletable": true,
    "editable": true
   },
   "source": [
    "### A 'wide' OTU table\n",
    "\n",
    "* If you want to reformat the OTU table to a more standard 'wide' format (as used in Mothur or QIIME):"
   ]
  },
  {
   "cell_type": "code",
   "execution_count": 123,
   "metadata": {
    "ExecuteTime": {
     "end_time": "2017-07-09T14:07:39.357567",
     "start_time": "2017-07-09T14:07:35.973127"
    },
    "collapsed": true,
    "deletable": true,
    "editable": true
   },
   "outputs": [],
   "source": [
    "%%bash\n",
    "source activate py27\n",
    "\n",
    "SIPSim OTU_wide_long -w \\\n",
    "    OTU_PCR_sub.txt \\\n",
    "    > OTU_PCR_sub_wide.txt"
   ]
  },
  {
   "cell_type": "code",
   "execution_count": 124,
   "metadata": {
    "ExecuteTime": {
     "end_time": "2017-07-09T14:07:39.502774",
     "start_time": "2017-07-09T14:07:39.359403"
    },
    "collapsed": false,
    "deletable": true,
    "editable": true
   },
   "outputs": [
    {
     "name": "stdout",
     "output_type": "stream",
     "text": [
      "taxon\t1__-inf-1.673\t1__1.673-1.674\t1__1.674-1.678\t1__1.678-1.681\t1__1.681-1.684\t1__1.684-1.688\t1__1.688-1.691\t1__1.691-1.697\t1__1.697-1.701\t1__1.701-1.705\t1__1.705-1.708\t1__1.708-1.711\t1__1.711-1.715\t1__1.715-1.717\t1__1.717-1.721\t1__1.721-1.726\t1__1.726-1.730\t1__1.730-1.736\t1__1.736-1.738\t1__1.738-1.742\t1__1.742-1.747\t1__1.747-1.751\t1__1.751-1.754\t1__1.754-1.758\t1__1.758-1.761\t1__1.761-1.766\t1__1.766-1.768\t1__1.768-1.774\t1__1.774-inf\t2__-inf-1.673\t2__1.673-1.675\t2__1.675-1.681\t2__1.681-1.685\t2__1.685-1.689\t2__1.689-1.694\t2__1.694-1.697\t2__1.697-1.702\t2__1.702-1.703\t2__1.703-1.706\t2__1.706-1.709\t2__1.709-1.710\t2__1.710-1.714\t2__1.714-1.717\t2__1.717-1.722\t2__1.722-1.726\t2__1.726-1.731\t2__1.731-1.736\t2__1.736-1.738\t2__1.738-1.743\t2__1.743-1.749\t2__1.749-1.753\t2__1.753-1.758\t2__1.758-1.765\t2__1.765-1.767\t2__1.767-1.769\t2__1.769-1.774\t2__1.774-inf\r\n",
      "Clostridium_ljungdahlii_DSM_13528\t9781\t12535\t10638\t10253\t13021\t23727\t16779\t22471\t14246\t9940\t4555\t5470\t3002\t3051\t3533\t862\t1170\t1394\t4223\t4982\t3552\t6784\t9017\t8868\t8491\t5645\t0\t6833\t4496\t11089\t11134\t4582\t16245\t15466\t14780\t26718\t19687\t11676\t11233\t10752\t6751\t7265\t5639\t2927\t946\t390\t524\t3141\t4135\t6446\t9740\t7324\t8967\t9194\t12262\t8281\t5202\r\n",
      "Escherichia_coli_1303\t4252\t0\t2280\t523\t958\t864\t1445\t4896\t7205\t8871\t6888\t11747\t8041\t12962\t9487\t1892\t372\t210\t647\t1161\t2158\t3224\t3642\t4305\t5498\t2564\t5848\t3604\t4422\t2979\t3440\t446\t802\t94\t145\t705\t1263\t1983\t2586\t4890\t5042\t7706\t10078\t10194\t7620\t7283\t6005\t9967\t7118\t5036\t6019\t3808\t5292\t3213\t4719\t4158\t6507\r\n",
      "Streptomyces_pratensis_ATCC_33331\t6296\t6826\t4849\t3492\t2258\t2411\t890\t1589\t2308\t2275\t1152\t2962\t3452\t9476\t13595\t8307\t17103\t16516\t18249\t15060\t6690\t7932\t9743\t8964\t9405\t5589\t10876\t8157\t10312\t6424\t6354\t1351\t2294\t898\t754\t2522\t3848\t3164\t3354\t4130\t3923\t6502\t10397\t11958\t10862\t12043\t10983\t18750\t13378\t9817\t12992\t6238\t8414\t8213\t10219\t8288\t10359\r\n"
     ]
    }
   ],
   "source": [
    "!head -n 4 OTU_PCR_sub_wide.txt"
   ]
  },
  {
   "cell_type": "markdown",
   "metadata": {
    "deletable": true,
    "editable": true
   },
   "source": [
    "### SIP metadata\n",
    "\n",
    "* If you want to make a table of SIP sample metadata"
   ]
  },
  {
   "cell_type": "code",
   "execution_count": 125,
   "metadata": {
    "ExecuteTime": {
     "end_time": "2017-07-09T14:07:42.970532",
     "start_time": "2017-07-09T14:07:39.504641"
    },
    "collapsed": true,
    "deletable": true,
    "editable": true
   },
   "outputs": [],
   "source": [
    "%%bash\n",
    "source activate py27\n",
    "\n",
    "SIPSim OTU_sample_data \\\n",
    "    OTU_PCR_sub.txt \\\n",
    "    > OTU_PCR_sub_meta.txt"
   ]
  },
  {
   "cell_type": "code",
   "execution_count": 126,
   "metadata": {
    "ExecuteTime": {
     "end_time": "2017-07-09T14:07:43.100150",
     "start_time": "2017-07-09T14:07:42.972362"
    },
    "collapsed": false,
    "deletable": true,
    "editable": true
   },
   "outputs": [
    {
     "name": "stdout",
     "output_type": "stream",
     "text": [
      "sample\tlibrary\tfraction\tBD_min\tBD_max\tBD_mid\r\n",
      "1__-inf-1.673\t1\t-inf-1.673\t-inf\t1.673\t-inf\r\n",
      "1__1.673-1.674\t1\t1.673-1.674\t1.673\t1.674\t1.6735\r\n",
      "1__1.674-1.678\t1\t1.674-1.678\t1.674\t1.678\t1.676\r\n",
      "1__1.678-1.681\t1\t1.678-1.681\t1.678\t1.681\t1.6795\r\n",
      "1__1.681-1.684\t1\t1.681-1.684\t1.681\t1.684\t1.6825\r\n",
      "1__1.684-1.688\t1\t1.684-1.688\t1.684\t1.688\t1.686\r\n",
      "1__1.688-1.691\t1\t1.688-1.691\t1.688\t1.691\t1.6895\r\n",
      "1__1.691-1.697\t1\t1.691-1.697\t1.691\t1.697\t1.694\r\n",
      "1__1.697-1.701\t1\t1.697-1.701\t1.697\t1.701\t1.699\r\n"
     ]
    }
   ],
   "source": [
    "!head OTU_PCR_sub_meta.txt"
   ]
  },
  {
   "cell_type": "markdown",
   "metadata": {
    "deletable": true,
    "editable": true
   },
   "source": [
    "### Other SIPSim commands\n",
    "\n",
    "`SIPSim -l` will list all available SIPSim commands"
   ]
  },
  {
   "cell_type": "code",
   "execution_count": 127,
   "metadata": {
    "ExecuteTime": {
     "end_time": "2017-07-09T14:07:46.457964",
     "start_time": "2017-07-09T14:07:43.101989"
    },
    "collapsed": false,
    "deletable": true,
    "editable": true
   },
   "outputs": [
    {
     "name": "stdout",
     "output_type": "stream",
     "text": [
      "#-- Commands --#\n",
      "BD_shift\n",
      "communities\n",
      "DBL\n",
      "deltaBD\n",
      "diffusion\n",
      "fragment_KDE\n",
      "fragment_KDE_cat\n",
      "fragment_parse\n",
      "fragments\n",
      "genome_download\n",
      "genome_index\n",
      "genome_rename\n",
      "gradient_fractions\n",
      "HRSIP\n",
      "incorp_config_example\n",
      "isotope_incorp\n",
      "KDE_bandwidth\n",
      "KDE_info\n",
      "KDE_parse\n",
      "KDE_plot\n",
      "KDE_sample\n",
      "KDE_select_taxa\n",
      "OTU_add_error\n",
      "OTU_PCR\n",
      "OTU_sample_data\n",
      "OTU_subsample\n",
      "OTU_sum\n",
      "OTU_table\n",
      "OTU_wide_long\n",
      "qSIP\n",
      "qSIP_atom_excess\n",
      "tree_sim\n"
     ]
    }
   ],
   "source": [
    "%%bash\n",
    "source activate py27\n",
    "\n",
    "SIPSim -l"
   ]
  }
 ],
 "metadata": {
  "anaconda-cloud": {},
  "hide_input": true,
  "kernelspec": {
   "display_name": "Python [conda env:py35]",
   "language": "python",
   "name": "conda-env-py35-py"
  },
  "language_info": {
   "codemirror_mode": {
    "name": "ipython",
    "version": 3
   },
   "file_extension": ".py",
   "mimetype": "text/x-python",
   "name": "python",
   "nbconvert_exporter": "python",
   "pygments_lexer": "ipython3",
   "version": "3.5.2"
  },
  "notify_time": "5",
  "toc": {
   "colors": {
    "hover_highlight": "#DAA520",
    "running_highlight": "#FF0000",
    "selected_highlight": "#FFD700"
   },
   "moveMenuLeft": true,
   "nav_menu": {
    "height": "512px",
    "width": "252px"
   },
   "navigate_menu": true,
   "number_sections": true,
   "sideBar": true,
   "threshold": 4,
   "toc_cell": false,
   "toc_section_display": "block",
   "toc_window_display": true
  }
 },
 "nbformat": 4,
 "nbformat_minor": 0
}
