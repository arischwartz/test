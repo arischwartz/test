{
 "cells": [
  {
   "cell_type": "markdown",
   "metadata": {},
   "source": [
    "# Description:\n",
    "\n",
    "* The first thing to do is download a microbial genome dataset.\n",
    "* Here, we will be downloading 3 bacterial genomes with differing G+C contents:\n",
    "  * Clostridium ljungdahlii DSM13528 (G+C = 31.1)\n",
    "  * Escherichia coli 1303 (G+C = 50.7)\n",
    "  * Streptomyces pratensis ATCC33331 (G+C = 71.1)"
   ]
  },
  {
   "cell_type": "markdown",
   "metadata": {},
   "source": [
    "# Setting variables\n",
    "\n",
    "* \"workDir\" is the path to the working directory for this analysis (where the files will be download to) \n",
    "* **NOTE:** MAKE SURE to modify this path to the directory where YOU want to run the example. "
   ]
  },
  {
   "cell_type": "code",
   "execution_count": 1,
   "metadata": {
    "collapsed": true
   },
   "outputs": [],
   "source": [
    "workDir = '/home/nick/t/SIPSim/'"
   ]
  },
  {
   "cell_type": "markdown",
   "metadata": {},
   "source": [
    "# Initializing\n",
    "\n",
    "* Loading packages & libraries\n",
    "* Make sure you have all of the dependencies!"
   ]
  },
  {
   "cell_type": "code",
   "execution_count": 2,
   "metadata": {
    "collapsed": false
   },
   "outputs": [],
   "source": [
    "import os"
   ]
  },
  {
   "cell_type": "code",
   "execution_count": 3,
   "metadata": {
    "collapsed": false
   },
   "outputs": [],
   "source": [
    "%load_ext rpy2.ipython"
   ]
  },
  {
   "cell_type": "code",
   "execution_count": 4,
   "metadata": {
    "collapsed": false
   },
   "outputs": [
    {
     "name": "stdout",
     "output_type": "stream",
     "text": [
      "/home/nick/t/SIPSim\n",
      "/home/nick/t/SIPSim/genomes\n"
     ]
    }
   ],
   "source": [
    "# making directories\n",
    "## working directory\n",
    "if not os.path.isdir(workDir):\n",
    "    os.makedirs(workDir)\n",
    "%cd $workDir\n",
    "\n",
    "## genome directory\n",
    "workDirGenome = os.path.join(workDir, 'genomes')\n",
    "if not os.path.isdir(workDirGenome):\n",
    "    os.mkdir(workDirGenome)  \n",
    "print(workDirGenome)"
   ]
  },
  {
   "cell_type": "markdown",
   "metadata": {},
   "source": [
    "**Let's check that SIPSim is installed**"
   ]
  },
  {
   "cell_type": "code",
   "execution_count": 5,
   "metadata": {
    "collapsed": false
   },
   "outputs": [
    {
     "name": "stdout",
     "output_type": "stream",
     "text": [
      "SIPSim: simulate gradient fractionation of microbial community DNA\r\n",
      "\r\n",
      "Usage:\r\n",
      "  SIPSim <command> [<args>...]\r\n",
      "  SIPSim -l | --list\r\n",
      "  SIPSim -h | --help\r\n",
      "  SIPSim --version\r\n",
      "\r\n",
      "Options:\r\n",
      "  -l --list     List subcommands.\r\n",
      "  -h --help     Show this screen.\r\n",
      "  --version     Show version.\r\n",
      "\r\n",
      "Commands:\r\n",
      "  Use the `list` option.\r\n",
      "Description:\r\n",
      "  Simulate how taxa would be distributed in isopycnic gradients as assessed by\r\n",
      "  high throughput sequencing.\r\n"
     ]
    }
   ],
   "source": [
    "!SIPSim -h"
   ]
  },
  {
   "cell_type": "markdown",
   "metadata": {},
   "source": [
    "# Downloading genomes\n",
    "\n",
    "* Downloading the genome sequences from NCBI based on their accession numbers.\n",
    "* Here, I'm using a helper script `seqDB_tools` for downloading the genomes, but there are other ways."
   ]
  },
  {
   "cell_type": "code",
   "execution_count": 6,
   "metadata": {
    "collapsed": false
   },
   "outputs": [
    {
     "name": "stdout",
     "output_type": "stream",
     "text": [
      "File written: /home/nick/t/SIPSim/genome_list.txt\n"
     ]
    }
   ],
   "source": [
    "taxa=\"\"\"Clostridium_ljungdahlii_DSM_13528\tNC_014328.1\n",
    "Escherichia_coli_1303\tNZ_CP009166.1\n",
    "Streptomyces_pratensis_ATCC_33331\tNC_016114.1\n",
    "\"\"\"\n",
    "\n",
    "F = os.path.join(workDir, 'genome_list.txt')\n",
    "with open(F, 'wb') as oFH:\n",
    "    oFH.write(taxa)\n",
    "    \n",
    "print 'File written: {}'.format(F)"
   ]
  },
  {
   "cell_type": "markdown",
   "metadata": {},
   "source": [
    "**Note:** For the next step, `seqDB_tools` should be installed. See [here](https://github.com/nyoungb2/seqDB_tools) for installation"
   ]
  },
  {
   "cell_type": "code",
   "execution_count": 7,
   "metadata": {
    "collapsed": false
   },
   "outputs": [
    {
     "name": "stdout",
     "output_type": "stream",
     "text": [
      "Starting batch->trial: 0->1\n",
      "\n",
      "--------------------- WARNING ---------------------\n",
      "MSG: No whitespace allowed in FASTA ID [NC_014328|Clostridium ljungdahlii DSM 13528, complete genome.]\n",
      "---------------------------------------------------\n",
      "\n",
      "--------------------- WARNING ---------------------\n",
      "MSG: No whitespace allowed in FASTA ID [NC_014328|Clostridium ljungdahlii DSM 13528, complete genome.]\n",
      "---------------------------------------------------\n",
      "\n",
      "--------------------- WARNING ---------------------\n",
      "MSG: No whitespace allowed in FASTA ID [NC_016114|Streptomyces pratensis ATCC 33331, complete genome.]\n",
      "---------------------------------------------------\n",
      "\n",
      "--------------------- WARNING ---------------------\n",
      "MSG: No whitespace allowed in FASTA ID [NC_016114|Streptomyces pratensis ATCC 33331, complete genome.]\n",
      "---------------------------------------------------\n",
      "\n",
      "--------------------- WARNING ---------------------\n",
      "MSG: No whitespace allowed in FASTA ID [NZ_CP009166|Escherichia coli 1303, complete genome.]\n",
      "---------------------------------------------------\n",
      "\n",
      "--------------------- WARNING ---------------------\n",
      "MSG: No whitespace allowed in FASTA ID [NZ_CP009166|Escherichia coli 1303, complete genome.]\n",
      "---------------------------------------------------\n"
     ]
    }
   ],
   "source": [
    "# Don't worry about 'WARNING', this should happen\n",
    "!seqDB_tools accession-GI2fasta -n 1 -a 2 -o genomes < genome_list.txt"
   ]
  },
  {
   "cell_type": "code",
   "execution_count": 8,
   "metadata": {
    "collapsed": false
   },
   "outputs": [
    {
     "name": "stdout",
     "output_type": "stream",
     "text": [
      "total 17M\r\n",
      "-rw-rw-r-- 1 nick nick 4.8M Jun 28 13:17 Escherichia_coli_1303.fna\r\n",
      "-rw-rw-r-- 1 nick nick 7.2M Jun 28 13:16 Streptomyces_pratensis_ATCC_33331.fna\r\n",
      "-rw-rw-r-- 1 nick nick 4.5M Jun 28 13:15 Clostridium_ljungdahlii_DSM_13528.fna\r\n"
     ]
    }
   ],
   "source": [
    "!ls -thlc genomes/"
   ]
  },
  {
   "cell_type": "markdown",
   "metadata": {},
   "source": [
    "Hopefully all 3 genomes downloaded (the files should be non-empty)"
   ]
  },
  {
   "cell_type": "markdown",
   "metadata": {},
   "source": [
    "# Renaming genome sequences\n",
    "\n",
    "* Let's make the genome sequences a bit simpler "
   ]
  },
  {
   "cell_type": "code",
   "execution_count": 9,
   "metadata": {
    "collapsed": false
   },
   "outputs": [
    {
     "name": "stdout",
     "output_type": "stream",
     "text": [
      ">NC_014328|Clostridium ljungdahlii DSM 13528, complete genome. Clostridium ljungdahlii DSM 13528, complete genome.\r\n",
      ">NZ_CP009166|Escherichia coli 1303, complete genome. Escherichia coli 1303, complete genome.\r\n",
      ">NC_016114|Streptomyces pratensis ATCC 33331, complete genome. Streptomyces pratensis ATCC 33331, complete genome.\r\n"
     ]
    }
   ],
   "source": [
    "# current sequence names\n",
    "!grep \">\" genomes/*fna | perl -pe 's/.+:>/>/'"
   ]
  },
  {
   "cell_type": "code",
   "execution_count": 12,
   "metadata": {
    "collapsed": false
   },
   "outputs": [
    {
     "name": "stdout",
     "output_type": "stream",
     "text": [
      "File written: /home/nick/t/SIPSim/genomes_rn/Clostridium_ljungdahlii_DSM_13528.fna\n",
      "File written: /home/nick/t/SIPSim/genomes_rn/Escherichia_coli_1303.fna\n",
      "File written: /home/nick/t/SIPSim/genomes_rn/Streptomyces_pratensis_ATCC_33331.fna\n"
     ]
    }
   ],
   "source": [
    "# making sure each sequence is unique\n",
    "!find ./genomes/ -name \"*fna\" | \\\n",
    "    SIPSim genome_rename -n 3 --prefix genomes_rn - "
   ]
  },
  {
   "cell_type": "code",
   "execution_count": 13,
   "metadata": {
    "collapsed": false
   },
   "outputs": [
    {
     "name": "stdout",
     "output_type": "stream",
     "text": [
      ">Clostridium_ljungdahlii_DSM_13528\r\n",
      ">Escherichia_coli_1303\r\n",
      ">Streptomyces_pratensis_ATCC_33331\r\n"
     ]
    }
   ],
   "source": [
    "# NEW sequence names\n",
    "!grep \">\" genomes_rn/*fna | perl -pe 's/.+:>/>/'"
   ]
  },
  {
   "cell_type": "markdown",
   "metadata": {},
   "source": [
    "# Indexing genomes\n",
    "\n",
    "* One more step!\n",
    "  * Creating genome indices is needed for the upcoming *in-silico* PCR step"
   ]
  },
  {
   "cell_type": "code",
   "execution_count": 14,
   "metadata": {
    "collapsed": false
   },
   "outputs": [
    {
     "name": "stdout",
     "output_type": "stream",
     "text": [
      "/home/nick/t/SIPSim/genomes_rn\n"
     ]
    }
   ],
   "source": [
    "# changing the working directory\n",
    "workDirGenome = os.path.join(workDir, 'genomes_rn')\n",
    "%cd $workDirGenome"
   ]
  },
  {
   "cell_type": "code",
   "execution_count": 15,
   "metadata": {
    "collapsed": false
   },
   "outputs": [
    {
     "name": "stdout",
     "output_type": "stream",
     "text": [
      "File written: /home/nick/t/SIPSim/genomes_rn/genome_index.txt\n"
     ]
    }
   ],
   "source": [
    "# making index file (taxon_name<tab>taxon_genome_file_name)\n",
    "indexFile = \"\"\"Clostridium_ljungdahlii_DSM_13528 Clostridium_ljungdahlii_DSM_13528.fna\n",
    "Escherichia_coli_1303 Escherichia_coli_1303.fna\n",
    "Streptomyces_pratensis_ATCC_33331 Streptomyces_pratensis_ATCC_33331.fna\"\"\".replace(' ', '\\t')\n",
    "\n",
    "F = os.path.join(workDirGenome, 'genome_index.txt')\n",
    "with open(F, 'wb') as oFH:\n",
    "    oFH.write(indexFile)\n",
    "\n",
    "print 'File written: {}'.format(F)"
   ]
  },
  {
   "cell_type": "markdown",
   "metadata": {},
   "source": [
    "**Note:** this next step will use 3 processors (`--np`). Change this option if needed."
   ]
  },
  {
   "cell_type": "code",
   "execution_count": 16,
   "metadata": {
    "collapsed": false
   },
   "outputs": [
    {
     "name": "stdout",
     "output_type": "stream",
     "text": [
      "Indexing: \"Clostridium_ljungdahlii_DSM_13528\"\n",
      "Indexing: \"Escherichia_coli_1303\"\n",
      "Indexing: \"Streptomyces_pratensis_ATCC_33331\"\n",
      "#-- All genomes indexed --#\n"
     ]
    }
   ],
   "source": [
    "!SIPSim genome_index genome_index.txt --fp . --np 3 > index_log.txt"
   ]
  },
  {
   "cell_type": "code",
   "execution_count": 17,
   "metadata": {
    "collapsed": false
   },
   "outputs": [
    {
     "name": "stdout",
     "output_type": "stream",
     "text": [
      "total 333M\r\n",
      "-rw-rw-r-- 1 nick nick 4.4K Jun 28 13:18 index_log.txt\r\n",
      "-rw-r--r-- 1 nick nick 130M Jun 28 13:18 Streptomyces_pratensis_ATCC_33331.fna.sqlite3.db\r\n",
      "-rw-r--r-- 1 nick nick  97M Jun 28 13:18 Escherichia_coli_1303.fna.sqlite3.db\r\n",
      "-rw-r--r-- 1 nick nick  87M Jun 28 13:18 Clostridium_ljungdahlii_DSM_13528.fna.sqlite3.db\r\n",
      "-rw-rw-r-- 1 nick nick 1.8M Jun 28 13:17 Streptomyces_pratensis_ATCC_33331.fna.2bit\r\n",
      "-rw-rw-r-- 1 nick nick 1.2M Jun 28 13:17 Escherichia_coli_1303.fna.2bit\r\n",
      "-rw-rw-r-- 1 nick nick   79 Jun 28 13:17 Streptomyces_pratensis_ATCC_33331.fna.uni\r\n",
      "-rw-rw-r-- 1 nick nick 1.2M Jun 28 13:17 Clostridium_ljungdahlii_DSM_13528.fna.2bit\r\n",
      "-rw-rw-r-- 1 nick nick   67 Jun 28 13:17 Escherichia_coli_1303.fna.uni\r\n",
      "-rw-rw-r-- 1 nick nick   79 Jun 28 13:17 Clostridium_ljungdahlii_DSM_13528.fna.uni\r\n",
      "-rw-rw-r-- 1 nick nick  191 Jun 28 13:17 genome_index.txt\r\n",
      "-rw-rw-r-- 1 nick nick 7.2M Jun 28 13:17 Streptomyces_pratensis_ATCC_33331.fna\r\n",
      "-rw-rw-r-- 1 nick nick 4.8M Jun 28 13:17 Escherichia_coli_1303.fna\r\n",
      "-rw-rw-r-- 1 nick nick 4.5M Jun 28 13:17 Clostridium_ljungdahlii_DSM_13528.fna\r\n"
     ]
    }
   ],
   "source": [
    "# checking all of the files produced in the ./genome_rn/ directory\n",
    "!ls -thlc"
   ]
  },
  {
   "cell_type": "markdown",
   "metadata": {
    "collapsed": false
   },
   "source": [
    "# Next steps\n",
    "\n",
    "Now its time to move on to a [simulation](./2_simulation-simple.ipynb)!"
   ]
  }
 ],
 "metadata": {
  "hide_input": true,
  "kernelspec": {
   "display_name": "Python 2",
   "language": "python",
   "name": "python2"
  },
  "language_info": {
   "codemirror_mode": {
    "name": "ipython",
    "version": 2
   },
   "file_extension": ".py",
   "mimetype": "text/x-python",
   "name": "python",
   "nbconvert_exporter": "python",
   "pygments_lexer": "ipython2",
   "version": "2.7.11"
  }
 },
 "nbformat": 4,
 "nbformat_minor": 0
}
