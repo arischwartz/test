{
 "cells": [
  {
   "cell_type": "code",
   "execution_count": 1,
   "metadata": {
    "collapsed": true
   },
   "outputs": [],
   "source": [
    "%load_ext rpy2.ipython"
   ]
  },
  {
   "cell_type": "code",
   "execution_count": 4,
   "metadata": {
    "collapsed": false
   },
   "outputs": [
    {
     "data": {
      "text/plain": [
       "Loading required package: lattice\n"
      ]
     },
     "metadata": {},
     "output_type": "display_data"
    }
   ],
   "source": [
    "%%R\n",
    "library(ggplot2)\n",
    "library(dplyr)\n",
    "library(tidyr)\n",
    "library(caret)"
   ]
  },
  {
   "cell_type": "code",
   "execution_count": 7,
   "metadata": {
    "collapsed": false
   },
   "outputs": [
    {
     "data": {
      "text/plain": [
       "  Palmitic Stearic Oleic Linoleic Linolenic Eicosanoic Eicosenoic\n",
       "1      9.7     5.2  31.0     52.7       0.4        0.4        0.1\n",
       "2     11.1     5.0  32.9     49.8       0.3        0.4        0.1\n",
       "3     11.5     5.2  35.0     47.2       0.2        0.4        0.1\n",
       "4     10.0     4.8  30.4     53.5       0.3        0.4        0.1\n",
       "5     12.2     5.0  31.1     50.5       0.3        0.4        0.1\n",
       "6      9.8     4.2  43.0     39.2       2.4        0.4        0.5\n"
      ]
     },
     "metadata": {},
     "output_type": "display_data"
    }
   ],
   "source": [
    "%%R\n",
    "data(oil)\n",
    "\n",
    "head(fattyAcids)"
   ]
  }
 ],
 "metadata": {
  "kernelspec": {
   "display_name": "Python 2",
   "language": "python",
   "name": "python2"
  },
  "language_info": {
   "codemirror_mode": {
    "name": "ipython",
    "version": 2
   },
   "file_extension": ".py",
   "mimetype": "text/x-python",
   "name": "python",
   "nbconvert_exporter": "python",
   "pygments_lexer": "ipython2",
   "version": "2.7.9"
  }
 },
 "nbformat": 4,
 "nbformat_minor": 0
}
