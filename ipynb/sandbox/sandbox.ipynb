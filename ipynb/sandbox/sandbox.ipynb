{
 "cells": [
  {
   "cell_type": "code",
   "execution_count": 1,
   "metadata": {
    "collapsed": true
   },
   "outputs": [],
   "source": [
    "%load_ext rpy2.ipython"
   ]
  },
  {
   "cell_type": "code",
   "execution_count": 4,
   "metadata": {
    "collapsed": false
   },
   "outputs": [],
   "source": [
    "%%R\n",
    "library(dplyr)\n",
    "library(tidyr)\n",
    "library(ggplot2)\n",
    "library(vegan)"
   ]
  },
  {
   "cell_type": "code",
   "execution_count": 6,
   "metadata": {
    "collapsed": false
   },
   "outputs": [
    {
     "data": {
      "text/plain": [
       "   Callvulg Empenigr Rhodtome Vaccmyrt Vaccviti Pinusylv Descflex Betupube\n",
       "18     0.55    11.13     0.00     0.00    17.80     0.07     0.00        0\n",
       "15     0.67     0.17     0.00     0.35    12.13     0.12     0.00        0\n",
       "24     0.10     1.55     0.00     0.00    13.47     0.25     0.00        0\n",
       "27     0.00    15.13     2.42     5.92    15.97     0.00     3.70        0\n",
       "23     0.00    12.68     0.00     0.00    23.73     0.03     0.00        0\n",
       "19     0.00     8.92     0.00     2.42    10.28     0.12     0.02        0\n",
       "   Vacculig Diphcomp Dicrsp Dicrfusc Dicrpoly Hylosple Pleuschr Polypili\n",
       "18     1.60     2.07   0.00     1.62     0.00      0.0     4.67     0.02\n",
       "15     0.00     0.00   0.33    10.92     0.02      0.0    37.75     0.02\n",
       "24     0.00     0.00  23.43     0.00     1.68      0.0    32.92     0.00\n",
       "27     1.12     0.00   0.00     3.63     0.00      6.7    58.07     0.00\n",
       "23     0.00     0.00   0.00     3.42     0.02      0.0    19.42     0.02\n",
       "19     0.00     0.00   0.00     0.32     0.02      0.0    21.03     0.02\n",
       "   Polyjuni Polycomm Pohlnuta Ptilcili Barbhatc Cladarbu Cladrang Cladstel\n",
       "18     0.13     0.00     0.13     0.12     0.00    21.73    21.47     3.50\n",
       "15     0.23     0.00     0.03     0.02     0.00    12.05     8.13     0.18\n",
       "24     0.23     0.00     0.32     0.03     0.00     3.58     5.52     0.07\n",
       "27     0.00     0.13     0.02     0.08     0.08     1.42     7.63     2.55\n",
       "23     2.12     0.00     0.17     1.80     0.02     9.08     9.22     0.05\n",
       "19     1.58     0.18     0.07     0.27     0.02     7.23     4.95    22.08\n",
       "   Cladunci Cladcocc Cladcorn Cladgrac Cladfimb Cladcris Cladchlo Cladbotr\n",
       "18     0.30     0.18     0.23     0.25     0.25     0.23     0.00     0.00\n",
       "15     2.65     0.13     0.18     0.23     0.25     1.23     0.00     0.00\n",
       "24     8.93     0.00     0.20     0.48     0.00     0.07     0.10     0.02\n",
       "27     0.15     0.00     0.38     0.12     0.10     0.03     0.00     0.02\n",
       "23     0.73     0.08     1.42     0.50     0.17     1.78     0.05     0.05\n",
       "19     0.25     0.10     0.25     0.18     0.10     0.12     0.05     0.02\n",
       "   Cladamau Cladsp Cetreric Cetrisla Flavniva Nepharct Stersp Peltapht Icmaeric\n",
       "18     0.08   0.02     0.02     0.00     0.12     0.02   0.62     0.02        0\n",
       "15     0.00   0.00     0.15     0.03     0.00     0.00   0.85     0.00        0\n",
       "24     0.00   0.00     0.78     0.12     0.00     0.00   0.03     0.00        0\n",
       "27     0.00   0.02     0.00     0.00     0.00     0.00   0.00     0.07        0\n",
       "23     0.00   0.00     0.00     0.00     0.02     0.00   1.58     0.33        0\n",
       "19     0.00   0.00     0.00     0.00     0.02     0.00   0.28     0.00        0\n",
       "   Cladcerv Claddefo Cladphyl\n",
       "18        0     0.25        0\n",
       "15        0     1.00        0\n",
       "24        0     0.33        0\n",
       "27        0     0.15        0\n",
       "23        0     1.97        0\n",
       "19        0     0.37        0\n"
      ]
     },
     "metadata": {},
     "output_type": "display_data"
    }
   ],
   "source": [
    "%%R\n",
    "data(varespec)\n",
    "varespec %>% head"
   ]
  },
  {
   "cell_type": "code",
   "execution_count": null,
   "metadata": {
    "collapsed": true
   },
   "outputs": [],
   "source": []
  }
 ],
 "metadata": {
  "hide_input": true,
  "kernelspec": {
   "display_name": "Python 2",
   "language": "python",
   "name": "python2"
  },
  "language_info": {
   "codemirror_mode": {
    "name": "ipython",
    "version": 2
   },
   "file_extension": ".py",
   "mimetype": "text/x-python",
   "name": "python",
   "nbconvert_exporter": "python",
   "pygments_lexer": "ipython2",
   "version": "2.7.11"
  }
 },
 "nbformat": 4,
 "nbformat_minor": 0
}
