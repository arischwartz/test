{
 "cells": [
  {
   "cell_type": "markdown",
   "metadata": {},
   "source": [
    "# Developing simulation of PCR step in the HR-SIP pipeline\n",
    "\n",
    "* Main goal is to add in template saturation, which should flatten out the abundance distributions of the abundant taxa\n",
    "\n",
    "\n",
    "## Method\n",
    "\n",
    "Based on:\n",
    "> Suzuki MT, Giovannoni SJ. (1996). Bias caused by template annealing in the amplification of mixtures of 16S rRNA genes by PCR. Appl Environ Microbiol 62:625–630.\n",
    "\n",
    "\n",
    "* User-input\n",
    "  * Molarity of DNA used for PCRs\n",
    "    * distribution\n",
    "  * Molarity of primers used for PCRs\n",
    "    * distribution\n",
    "  * Number of PCR cycles\n",
    "    * default: 30\n",
    "  * Starting efficiency\n",
    "* workflow\n",
    "  * OTU_table --> PCR_sim --> subsample \n",
    "    * PCR_sim input/output = OTU_table"
   ]
  },
  {
   "cell_type": "markdown",
   "metadata": {},
   "source": [
    "# Setting variables"
   ]
  },
  {
   "cell_type": "code",
   "execution_count": 2,
   "metadata": {
    "collapsed": true
   },
   "outputs": [],
   "source": [
    "# dirs\n",
    "workDir = '/home/nick/notebook/SIPSim/dev/bac_genome3/PCR_sim/'\n",
    "genomeDir = '/home/nick/notebook/SIPSim/dev/bac_genome3/genomes/'\n",
    "R_dir = '/home/nick/notebook/SIPSim/lib/R/'\n",
    "\n",
    "# input files\n",
    "genomeIndexFile = '/home/nick/notebook/SIPSim/dev/bac_genome3/genomes/genome_index.txt'\n",
    "fragBD_file = '/home/nick/notebook/SIPSim/dev/bac_genome3/validation/ampFrags_real_kde_dif.pkl'\n",
    "\n",
    "# params\n",
    "nprocs = 24"
   ]
  },
  {
   "cell_type": "markdown",
   "metadata": {},
   "source": [
    "# Init"
   ]
  },
  {
   "cell_type": "code",
   "execution_count": 3,
   "metadata": {
    "collapsed": false
   },
   "outputs": [],
   "source": [
    "import os,sys\n",
    "%load_ext rpy2.ipython"
   ]
  },
  {
   "cell_type": "code",
   "execution_count": 4,
   "metadata": {
    "collapsed": false
   },
   "outputs": [
    {
     "name": "stderr",
     "output_type": "stream",
     "text": [
      "/opt/anaconda/lib/python2.7/site-packages/rpy2/robjects/functions.py:106: UserWarning: \n",
      "Attaching package: ‘dplyr’\n",
      "\n",
      "\n",
      "  res = super(Function, self).__call__(*new_args, **new_kwargs)\n",
      "/opt/anaconda/lib/python2.7/site-packages/rpy2/robjects/functions.py:106: UserWarning: The following objects are masked from ‘package:stats’:\n",
      "\n",
      "    filter, lag\n",
      "\n",
      "\n",
      "  res = super(Function, self).__call__(*new_args, **new_kwargs)\n",
      "/opt/anaconda/lib/python2.7/site-packages/rpy2/robjects/functions.py:106: UserWarning: The following objects are masked from ‘package:base’:\n",
      "\n",
      "    intersect, setdiff, setequal, union\n",
      "\n",
      "\n",
      "  res = super(Function, self).__call__(*new_args, **new_kwargs)\n",
      "/opt/anaconda/lib/python2.7/site-packages/rpy2/robjects/functions.py:106: UserWarning: Loading required package: grid\n",
      "\n",
      "  res = super(Function, self).__call__(*new_args, **new_kwargs)\n"
     ]
    }
   ],
   "source": [
    "%%R\n",
    "library(ggplot2)\n",
    "library(dplyr)\n",
    "library(tidyr)\n",
    "library(gridExtra)"
   ]
  },
  {
   "cell_type": "code",
   "execution_count": 7,
   "metadata": {
    "collapsed": true
   },
   "outputs": [],
   "source": [
    "if not os.path.isdir(workDir):\n",
    "    os.makedirs(workDir)"
   ]
  },
  {
   "cell_type": "markdown",
   "metadata": {},
   "source": [
    "# Making a community file"
   ]
  },
  {
   "cell_type": "code",
   "execution_count": 8,
   "metadata": {
    "collapsed": false
   },
   "outputs": [
    {
     "name": "stdout",
     "output_type": "stream",
     "text": [
      "library\ttaxon_name\trel_abund_perc\trank\r\n",
      "1\tEscherichia_coli_1303\t55.142898529\t1\r\n",
      "1\tClostridium_ljungdahlii_DSM_13528\t41.256294112\t2\r\n",
      "1\tStreptomyces_pratensis_ATCC_33331\t3.600807359\t3\r\n"
     ]
    }
   ],
   "source": [
    "commFile = 'comm_n1.txt'\n",
    "\n",
    "!cd $workDir; \\\n",
    "    SIPSim communities \\\n",
    "    $genomeIndexFile \\\n",
    "    > $commFile\n",
    "    \n",
    "!cd $workDir; \\\n",
    "    head $commFile"
   ]
  },
  {
   "cell_type": "markdown",
   "metadata": {},
   "source": [
    "# Making an incorp config file"
   ]
  },
  {
   "cell_type": "code",
   "execution_count": 9,
   "metadata": {
    "collapsed": false
   },
   "outputs": [
    {
     "name": "stdout",
     "output_type": "stream",
     "text": [
      "\r\n",
      "[1]\r\n",
      "    # baseline: no incorporation\r\n",
      "    \r\n",
      "    [[intraPopDist 1]]\r\n",
      "        distribution = uniform\r\n",
      "        \r\n",
      "        [[[start]]]\r\n",
      "            \r\n",
      "            [[[[interPopDist 1]]]]\r\n"
     ]
    }
   ],
   "source": [
    "incorpConfigFile = 'PT0_PI0.config'\n",
    "\n",
    "!cd $workDir; \\\n",
    "    SIPSim incorpConfigExample \\\n",
    "    --percTaxa 0 \\\n",
    "    --percIncorpUnif 0 \\\n",
    "    > $incorpConfigFile\n",
    "    \n",
    "!cd $workDir; \\\n",
    "    head $incorpConfigFile"
   ]
  },
  {
   "cell_type": "markdown",
   "metadata": {},
   "source": [
    "# Adding isotope incorporation to BD distribution"
   ]
  },
  {
   "cell_type": "code",
   "execution_count": 10,
   "metadata": {
    "collapsed": false
   },
   "outputs": [
    {
     "name": "stdout",
     "output_type": "stream",
     "text": [
      "Processing: Clostridium_ljungdahlii_DSM_13528\n",
      "Processing: Streptomyces_pratensis_ATCC_33331\n",
      "Processing: Escherichia_coli_1303\n",
      "Processing: Clostridium_ljungdahlii_DSM_13528\n",
      "Processing: Streptomyces_pratensis_ATCC_33331\n",
      "Processing: Escherichia_coli_1303\n",
      "-rw-rw-r-- 1 nick nick 4.6M Sep  7 10:50 /home/nick/notebook/SIPSim/dev/bac_genome3/validation/ampFrags_real_kde_dif_incorp.pkl\n"
     ]
    }
   ],
   "source": [
    "wIncorpFile = os.path.splitext(fragBD_file)[0] + '_incorp.pkl'\n",
    "\n",
    "!cd $workDir; \\\n",
    "    SIPSim isotope_incorp \\\n",
    "    $fragBD_file \\\n",
    "    $incorpConfigFile \\\n",
    "    --comm $commFile \\\n",
    "    --np $nprocs \\\n",
    "    > $wIncorpFile\n",
    "    \n",
    "!cd $workDir; \\\n",
    "    ls -thlc $wIncorpFile"
   ]
  },
  {
   "cell_type": "markdown",
   "metadata": {},
   "source": [
    "# Simulating gradient fractions"
   ]
  },
  {
   "cell_type": "code",
   "execution_count": 11,
   "metadata": {
    "collapsed": false
   },
   "outputs": [
    {
     "name": "stdout",
     "output_type": "stream",
     "text": [
      "library\tfraction\tBD_min\tBD_max\tfraction_size\r\n",
      "1\t1\t1.66\t1.664\t0.004\r\n",
      "1\t2\t1.664\t1.669\t0.005\r\n",
      "1\t3\t1.669\t1.672\t0.003\r\n"
     ]
    }
   ],
   "source": [
    "fracsFile = 'fracs.txt'\n",
    "\n",
    "!cd $workDir; \\\n",
    "    SIPSim gradient_fractions \\\n",
    "    comm_n1.txt \\\n",
    "    > $fracsFile\n",
    "    \n",
    "!cd $workDir; \\\n",
    "    head -n 4 $fracsFile"
   ]
  },
  {
   "cell_type": "markdown",
   "metadata": {},
   "source": [
    "# Simulating an OTU table"
   ]
  },
  {
   "cell_type": "code",
   "execution_count": null,
   "metadata": {
    "collapsed": false
   },
   "outputs": [
    {
     "name": "stdout",
     "output_type": "stream",
     "text": [
      "Loading files...\n",
      "Simulating OTUs...\n",
      "Processing library: \"1\"\n",
      "  Processing taxon: \"Escherichia_coli_1303\"\n",
      "   taxon abs-abundance:  551428985\n",
      "  Processing taxon: \"Clostridium_ljungdahlii_DSM_13528\"\n",
      "   taxon abs-abundance:  412562941\n",
      "  Processing taxon: \"Streptomyces_pratensis_ATCC_33331\"\n",
      "   taxon abs-abundance:  36008074\n"
     ]
    }
   ],
   "source": [
    "otuTableFile = 'OTU_abs1e9.txt'\n",
    "\n",
    "!cd $workDir; \\\n",
    "    SIPSim OTU_table \\\n",
    "    $wIncorpFile \\\n",
    "    $commFile \\\n",
    "    $fracsFile \\\n",
    "    --abs 1e9 \\\n",
    "    --np $nprocs \\\n",
    "    > $otuTableFile\n",
    "    \n",
    "!cd $workDir; \\\n",
    "    head -n 4 $otuTableFile"
   ]
  },
  {
   "cell_type": "code",
   "execution_count": null,
   "metadata": {
    "collapsed": false
   },
   "outputs": [],
   "source": [
    "%%R -i workDir -i otuTableFile\n",
    "setwd(workDir) \n",
    "\n",
    "tbl.otu = read.delim(otuTableFile, sep='\\t')\n",
    "tbl.otu %>% head(n=3)"
   ]
  },
  {
   "cell_type": "code",
   "execution_count": null,
   "metadata": {
    "collapsed": false
   },
   "outputs": [],
   "source": [
    "%%R -w 900 -h 300\n",
    "ggplot(tbl.otu, aes(BD_mid, rel_abund, fill=taxon)) +\n",
    "    geom_area(stat='identity') +\n",
    "    labs(x = 'Buoyant density', y = 'Relative abundance') +\n",
    "    theme_bw() +\n",
    "    theme(\n",
    "        text = element_text(size=16)\n",
    "    )"
   ]
  },
  {
   "cell_type": "markdown",
   "metadata": {},
   "source": [
    "# Simulating PCR\n",
    "\n",
    "* assuming 5 ng of DNA in a 30 ul rxn\n",
    "  * Avg. MW of dNTPs = 499.5 g/mol\n",
    "  * molarity of DNA in rxn = `5 * 1e-9 * (1 / 499.5) * (1 / (30 * 1e-6))`\n",
    "* molarity of primers:\n",
    "  * 1 uM (each)\n",
    "* number of PCR cycles:\n",
    "  * 30\n",
    "*  \n",
    "  \n",
    "## Model from Suzuki MT & Giovannoni SJ (1996)\n",
    "  \n",
    "* equation for modeling increase in polymerized DNA conc.\n",
    "  * $M = M_0 * e^{f*n}$\n",
    "* equation for modeling rxn effeciency\n",
    "  * $f(n) = f_0 * \\big(\\frac{P(n)}{k * M(n) + P(n)}\\big)$\n",
    "  \n",
    "  \n",
    "## algorithm\n",
    "\n",
    "* deepcopy of OTU table object\n",
    "  * perc_rel_abund = 0 (to be filled in later)\n",
    "  * post_PCR_conc = 0 \n",
    "* foreach column (fraction community) in OTU table:\n",
    "  * select total start DNA from distribution\n",
    "  * foreach taxon:\n",
    "    * taxon_DNA_conc = rel_abund_perc / 100 * DNA_molarity\n",
    "      * (starting DNA conc. for taxon) = M_0\n",
    "    * foreach PCR cycle:\n",
    "      * calculate effeciency (f)\n",
    "      * calculate new concentration (M)\n",
    "    * add to dataframe: post_PCR_conc\n",
    "  * Normalize all post_PCR_conc by total sample conc\n",
    "    * this is the new perc_rel_abund"
   ]
  },
  {
   "cell_type": "code",
   "execution_count": null,
   "metadata": {
    "collapsed": false
   },
   "outputs": [],
   "source": [
    "otu_PCR_file = 'OTU_abs1e9_PCR.txt'\n",
    "\n",
    "!cd $workDir; \\\n",
    "    SIPSim OTU_PCR \\\n",
    "    $otuTableFile \\\n",
    "    > $otu_PCR_file\n",
    "    \n",
    "!cd $workDir; \\\n",
    "    head -n 4 $otu_PCR_file"
   ]
  },
  {
   "cell_type": "code",
   "execution_count": null,
   "metadata": {
    "collapsed": false
   },
   "outputs": [],
   "source": [
    "%%R -i workDir -i otu_PCR_file -i  otuTableFile\n",
    "setwd(workDir) \n",
    "\n",
    "tbl.otu = read.delim(otuTableFile, sep='\\t') \n",
    "tbl.otu.g = tbl.otu %>% gather('type', 'value', c(count, rel_abund))\n",
    "#tbl.otu.g %>% head %>% print\n",
    "\n",
    "tbl.otu.PCR = read.delim(otu_PCR_file, sep='\\t') %>%\n",
    "    select(-count) \n",
    "tbl.otu.PCR.g = tbl.otu.PCR %>% gather('type', 'value', c(rel_abund)) %>%\n",
    "    mutate(type = 'rel_abund_PCR')\n",
    "#tbl.otu.PCR.g %>% head(n=3) %>% print\n",
    "\n",
    "tbl.otu.c = rbind(tbl.otu.g, tbl.otu.PCR.g)\n",
    "tbl.otu.c %>% head(n=3)"
   ]
  },
  {
   "cell_type": "code",
   "execution_count": null,
   "metadata": {
    "collapsed": false
   },
   "outputs": [],
   "source": [
    "%%R -w 900 -h 400\n",
    "\n",
    "ggplot(tbl.otu.c, aes(BD_mid, value, fill=taxon)) +\n",
    "    geom_area() +\n",
    "    facet_grid(type ~ ., scales='free_y') +\n",
    "    theme_bw() +\n",
    "    theme(\n",
    "        text = element_text(size=16)\n",
    "    )"
   ]
  },
  {
   "cell_type": "code",
   "execution_count": null,
   "metadata": {
    "collapsed": false
   },
   "outputs": [],
   "source": [
    "%%R -w 900 -h 400\n",
    "\n",
    "tbl.otu.c.f = tbl.otu.c %>%\n",
    "    filter(type != 'count')\n",
    "\n",
    "tbl.otu.c.f$taxon = gsub('^([a-zA-Z0-9_]{10,15})_', '\\\\1\\n', tbl.otu.c.f$taxon)\n",
    "tbl.otu.c.f$taxon = gsub('\\n([a-zA-Z0-9_]{10,15})_', '\\n\\\\1\\n', tbl.otu.c.f$taxon)\n",
    "\n",
    "ggplot(tbl.otu.c.f, aes(BD_mid, value, fill=type)) +\n",
    "    geom_area(position='dodge', alpha=0.4) +\n",
    "    facet_grid(taxon ~ .) +\n",
    "    theme_bw() +\n",
    "    theme(\n",
    "        text = element_text(size=16)\n",
    "    )"
   ]
  },
  {
   "cell_type": "markdown",
   "metadata": {},
   "source": [
    "#### Notes\n",
    "\n",
    "* The PCR step has the effect of leveling out abundance distributions (as expected)"
   ]
  },
  {
   "cell_type": "markdown",
   "metadata": {},
   "source": [
    "# Subsampling"
   ]
  },
  {
   "cell_type": "markdown",
   "metadata": {},
   "source": [
    "## w/out PCR"
   ]
  },
  {
   "cell_type": "code",
   "execution_count": null,
   "metadata": {
    "collapsed": false
   },
   "outputs": [],
   "source": [
    "otu_sub_file = 'OTU_abs1e9_sub.txt'\n",
    "\n",
    "!cd $workDir; \\\n",
    "    SIPSim OTU_subsample \\\n",
    "    $otuTableFile \\\n",
    "    > $otu_sub_file\n",
    "    \n",
    "!cd $workDir; \\\n",
    "    head -n 4 $otu_sub_file"
   ]
  },
  {
   "cell_type": "markdown",
   "metadata": {},
   "source": [
    "## w/ PCR"
   ]
  },
  {
   "cell_type": "code",
   "execution_count": null,
   "metadata": {
    "collapsed": false
   },
   "outputs": [],
   "source": [
    "otu_PCR_sub_file = 'OTU_abs1e9_PCR_sub.txt'\n",
    "\n",
    "!cd $workDir; \\\n",
    "    SIPSim OTU_subsample \\\n",
    "    $otu_PCR_file \\\n",
    "    > $otu_PCR_sub_file\n",
    "    \n",
    "!cd $workDir; \\\n",
    "    head -n 4 $otu_PCR_sub_file"
   ]
  },
  {
   "cell_type": "markdown",
   "metadata": {},
   "source": [
    "## Plotting"
   ]
  },
  {
   "cell_type": "code",
   "execution_count": null,
   "metadata": {
    "collapsed": false
   },
   "outputs": [],
   "source": [
    "%%R -i workDir -i otu_sub_file -i otu_PCR_sub_file\n",
    "setwd(workDir)\n",
    "\n",
    "tbl.otu1 = read.delim(otu_sub_file, sep='\\t') %>%\n",
    "    mutate(file = 'no_PCR')\n",
    "tbl.otu2 = read.delim(otu_PCR_sub_file, sep='\\t') %>%\n",
    "    mutate(file = 'PCR')\n",
    "tbl.otu = rbind(tbl.otu1, tbl.otu2)\n",
    "tbl.otu %>% head(n=3)"
   ]
  },
  {
   "cell_type": "code",
   "execution_count": null,
   "metadata": {
    "collapsed": false
   },
   "outputs": [],
   "source": [
    "%%R -w 900 -h 400\n",
    "\n",
    "ggplot(tbl.otu, aes(BD_mid, rel_abund, fill=taxon)) +\n",
    "    geom_area() +\n",
    "    facet_grid(file ~ .) +\n",
    "    theme_bw() +\n",
    "    theme(\n",
    "        text = element_text(size=16)\n",
    "    )"
   ]
  },
  {
   "cell_type": "code",
   "execution_count": null,
   "metadata": {
    "collapsed": true
   },
   "outputs": [],
   "source": []
  }
 ],
 "metadata": {
  "kernelspec": {
   "display_name": "Python 2",
   "language": "python",
   "name": "python2"
  },
  "language_info": {
   "codemirror_mode": {
    "name": "ipython",
    "version": 2
   },
   "file_extension": ".py",
   "mimetype": "text/x-python",
   "name": "python",
   "nbconvert_exporter": "python",
   "pygments_lexer": "ipython2",
   "version": "2.7.10"
  }
 },
 "nbformat": 4,
 "nbformat_minor": 0
}
