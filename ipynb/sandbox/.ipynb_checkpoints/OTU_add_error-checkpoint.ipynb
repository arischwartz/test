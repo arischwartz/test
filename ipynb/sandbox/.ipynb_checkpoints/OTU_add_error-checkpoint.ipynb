{
 "cells": [
  {
   "cell_type": "markdown",
   "metadata": {},
   "source": [
    "# Adding error to OTU count values\n",
    "\n",
    "* Drawing from a distribution that simulates error in count data\n",
    "  * For instance: over-dispersion (negative binomial)"
   ]
  },
  {
   "cell_type": "markdown",
   "metadata": {},
   "source": [
    "# Setting variables"
   ]
  },
  {
   "cell_type": "code",
   "execution_count": 2,
   "metadata": {
    "collapsed": true
   },
   "outputs": [],
   "source": [
    "# dirs\n",
    "workDir = '/home/nick/notebook/SIPSim/dev/bac_genome3/PCR_sim/'\n",
    "genomeDir = '/home/nick/notebook/SIPSim/dev/bac_genome3/genomes/'\n",
    "R_dir = '/home/nick/notebook/SIPSim/lib/R/'\n",
    "\n",
    "# input files\n",
    "OTU_table_file = os.path.join(workDir, 'OTU_abs1e9.txt')\n",
    "\n",
    "# params\n",
    "nprocs = 24"
   ]
  },
  {
   "cell_type": "markdown",
   "metadata": {},
   "source": [
    "# Init"
   ]
  },
  {
   "cell_type": "code",
   "execution_count": 15,
   "metadata": {
    "collapsed": true
   },
   "outputs": [],
   "source": [
    "import numpy as np\n",
    "import matplotlib.pyplot as plt"
   ]
  },
  {
   "cell_type": "code",
   "execution_count": 16,
   "metadata": {
    "collapsed": false
   },
   "outputs": [
    {
     "name": "stdout",
     "output_type": "stream",
     "text": [
      "The rpy2.ipython extension is already loaded. To reload it, use:\n",
      "  %reload_ext rpy2.ipython\n"
     ]
    }
   ],
   "source": [
    "%load_ext rpy2.ipython\n",
    "%matplotlib inline  "
   ]
  },
  {
   "cell_type": "code",
   "execution_count": 6,
   "metadata": {
    "collapsed": false
   },
   "outputs": [],
   "source": [
    "%%R\n",
    "library(ggplot2)\n",
    "library(dplyr)\n",
    "library(tidyr)\n",
    "library(gridExtra)"
   ]
  },
  {
   "cell_type": "markdown",
   "metadata": {},
   "source": [
    "# Testing distribution functions"
   ]
  },
  {
   "cell_type": "markdown",
   "metadata": {},
   "source": [
    "### Modeling in R"
   ]
  },
  {
   "cell_type": "code",
   "execution_count": 247,
   "metadata": {
    "collapsed": true
   },
   "outputs": [],
   "source": [
    "%%R\n",
    "NegBin = function(mu, alpha=0.5, n=1) {\n",
    "    mu = mu * rgamma(n, shape = alpha, scale=alpha) #rate = 1/alpha)\n",
    "    rpois(n, lambda = mu)\n",
    "}"
   ]
  },
  {
   "cell_type": "code",
   "execution_count": 248,
   "metadata": {
    "collapsed": false
   },
   "outputs": [
    {
     "data": {
      "image/png": "[encoded data removed]"
     },
     "metadata": {},
     "output_type": "display_data"
    }
   ],
   "source": [
    "%%R\n",
    "# taxon abundances\n",
    "abunds = runif(1000, min=1, max=1000)\n",
    "hist(abunds, 50)"
   ]
  },
  {
   "cell_type": "code",
   "execution_count": 249,
   "metadata": {
    "collapsed": false
   },
   "outputs": [
    {
     "data": {
      "image/png": "[encoded data removed]"
     },
     "metadata": {},
     "output_type": "display_data"
    }
   ],
   "source": [
    "%%R\n",
    "hist(sapply(abunds, NegBin), 50)"
   ]
  },
  {
   "cell_type": "code",
   "execution_count": 250,
   "metadata": {
    "collapsed": false
   },
   "outputs": [
    {
     "data": {
      "text/plain": [
       "[1]  17.89898 174.11652 510.73830   7.64625  31.38903 180.54050\n"
      ]
     },
     "metadata": {},
     "output_type": "display_data"
    }
   ],
   "source": [
    "%%R\n",
    "# abunds with error: repeating count draw many times to increase variance estimation\n",
    "alpha = 0.1\n",
    "NegBin.a = function(x){\n",
    "    NegBin(x, alpha=alpha)\n",
    "}\n",
    "\n",
    "abund.l = list()\n",
    "for (i in 1:1000){\n",
    "    abund.l[[i]] = sapply(abunds, NegBin.a)\n",
    "    }\n",
    "abund.e = do.call(rbind, abund.l) %>%\n",
    "    as.data.frame %>% t\n",
    "var.e = apply(abund.e, 1, var) %>% as.vector\n",
    "var.e %>% head"
   ]
  },
  {
   "cell_type": "code",
   "execution_count": 251,
   "metadata": {
    "collapsed": false
   },
   "outputs": [
    {
     "data": {
      "image/png": "[encoded data removed]"
     },
     "metadata": {},
     "output_type": "display_data"
    }
   ],
   "source": [
    "%%R\n",
    "df = data.frame(abund = abunds, var.e = var.e)\n",
    "ggplot(df, aes(abund, var.e)) +\n",
    "    geom_point()"
   ]
  },
  {
   "cell_type": "code",
   "execution_count": 252,
   "metadata": {
    "collapsed": false
   },
   "outputs": [
    {
     "data": {
      "text/plain": [
       "[1]   1678.727  27276.143 117199.021   1463.502   4276.306  19977.746\n"
      ]
     },
     "metadata": {},
     "output_type": "display_data"
    }
   ],
   "source": [
    "%%R\n",
    "# abunds with error: repeating count draw many times to increase variance estimation\n",
    "alpha = 0.5\n",
    "NegBin.a = function(x){\n",
    "    NegBin(x, alpha=alpha)\n",
    "}\n",
    "\n",
    "abund.l = list()\n",
    "for (i in 1:1000){\n",
    "    abund.l[[i]] = sapply(abunds, NegBin.a)\n",
    "    }\n",
    "abund.e = do.call(rbind, abund.l) %>%\n",
    "    as.data.frame %>% t\n",
    "var.e = apply(abund.e, 1, var) %>% as.vector\n",
    "var.e %>% head"
   ]
  },
  {
   "cell_type": "code",
   "execution_count": 253,
   "metadata": {
    "collapsed": false
   },
   "outputs": [
    {
     "data": {
      "image/png": "[encoded data removed]"
     },
     "metadata": {},
     "output_type": "display_data"
    }
   ],
   "source": [
    "%%R\n",
    "df = data.frame(abund = abunds, var.e = var.e)\n",
    "ggplot(df, aes(abund, var.e)) +\n",
    "    geom_point()"
   ]
  },
  {
   "cell_type": "code",
   "execution_count": 254,
   "metadata": {
    "collapsed": false
   },
   "outputs": [
    {
     "data": {
      "text/plain": [
       "[1]  12262909 215725167 871203383  11086432  31895701 140438396\n"
      ]
     },
     "metadata": {},
     "output_type": "display_data"
    }
   ],
   "source": [
    "%%R\n",
    "# abunds with error: repeating count draw many times to increase variance estimation\n",
    "alpha = 10\n",
    "NegBin.a = function(x){\n",
    "    NegBin(x, alpha=alpha)\n",
    "}\n",
    "\n",
    "abund.l = list()\n",
    "for (i in 1:1000){\n",
    "    abund.l[[i]] = sapply(abunds, NegBin.a)\n",
    "    }\n",
    "abund.e = do.call(rbind, abund.l) %>%\n",
    "    as.data.frame %>% t\n",
    "var.e = apply(abund.e, 1, var) %>% as.vector\n",
    "var.e %>% head"
   ]
  },
  {
   "cell_type": "code",
   "execution_count": 255,
   "metadata": {
    "collapsed": false
   },
   "outputs": [
    {
     "data": {
      "image/png": "[encoded data removed]"
     },
     "metadata": {},
     "output_type": "display_data"
    }
   ],
   "source": [
    "%%R\n",
    "df = data.frame(abund = abunds, var.e = var.e)\n",
    "ggplot(df, aes(abund, var.e)) +\n",
    "    geom_point() "
   ]
  },
  {
   "cell_type": "markdown",
   "metadata": {},
   "source": [
    "### Modeling in python"
   ]
  },
  {
   "cell_type": "code",
   "execution_count": 223,
   "metadata": {
    "collapsed": false
   },
   "outputs": [],
   "source": [
    "def neg_binom(mu, alpha=0.5, size=None):\n",
    "    mu = mu * np.random.gamma(shape=alpha, scale=alpha, size=size)\n",
    "    f = lambda x: np.random.poisson(size=1, lam=x)[0]\n",
    "    return [f(x) for x in mu]"
   ]
  },
  {
   "cell_type": "code",
   "execution_count": 224,
   "metadata": {
    "collapsed": false
   },
   "outputs": [
    {
     "data": {
      "text/plain": [
       "(array([ 11.,  27.,  17.,  17.,  17.,  17.,  22.,  16.,  13.,  26.,  19.,\n",
       "         15.,  20.,  14.,  19.,  13.,  22.,  28.,  19.,  18.,  21.,  21.,\n",
       "         23.,  11.,  18.,  24.,  21.,  26.,  20.,  17.,  27.,  24.,  22.,\n",
       "         14.,  20.,  20.,  29.,  27.,  23.,  18.,  23.,  19.,  19.,  11.,\n",
       "         19.,  25.,  25.,  13.,  24.,  26.]),\n",
       " array([   1.61623873,   21.5696432 ,   41.52304767,   61.47645213,\n",
       "          81.4298566 ,  101.38326107,  121.33666553,  141.29007   ,\n",
       "         161.24347447,  181.19687893,  201.1502834 ,  221.10368786,\n",
       "         241.05709233,  261.0104968 ,  280.96390126,  300.91730573,\n",
       "         320.8707102 ,  340.82411466,  360.77751913,  380.7309236 ,\n",
       "         400.68432806,  420.63773253,  440.591137  ,  460.54454146,\n",
       "         480.49794593,  500.45135039,  520.40475486,  540.35815933,\n",
       "         560.31156379,  580.26496826,  600.21837273,  620.17177719,\n",
       "         640.12518166,  660.07858613,  680.03199059,  699.98539506,\n",
       "         719.93879953,  739.89220399,  759.84560846,  779.79901292,\n",
       "         799.75241739,  819.70582186,  839.65922632,  859.61263079,\n",
       "         879.56603526,  899.51943972,  919.47284419,  939.42624866,\n",
       "         959.37965312,  979.33305759,  999.28646206]),\n",
       " <a list of 50 Patch objects>)"
      ]
     },
     "execution_count": 224,
     "metadata": {},
     "output_type": "execute_result"
    },
    {
     "data": {
      "image/png": "[encoded data removed]",
      "text/plain": [
       "<matplotlib.figure.Figure at 0x7f68b287d510>"
      ]
     },
     "metadata": {},
     "output_type": "display_data"
    }
   ],
   "source": [
    "counts = np.random.uniform(1000, 1, 1000)\n",
    "plt.hist(counts, 50)"
   ]
  },
  {
   "cell_type": "code",
   "execution_count": 260,
   "metadata": {
    "collapsed": true
   },
   "outputs": [],
   "source": [
    "n_counts = len(counts)\n",
    "n_rep = 1000\n",
    "alpha = 0.1\n",
    "ar = np.zeros((n_rep, n_counts))\n",
    "neg_binom_a = lambda x : neg_binom(x, alpha=alpha)\n",
    "for i in range(n_rep):\n",
    "    ar[i,] = np.apply_along_axis(neg_binom_a, 0, counts)\n",
    "\n",
    "counts_var = np.var(ar, 0)"
   ]
  },
  {
   "cell_type": "code",
   "execution_count": 261,
   "metadata": {
    "collapsed": false
   },
   "outputs": [
    {
     "data": {
      "text/plain": [
       "(0, 919.84718399997769)"
      ]
     },
     "execution_count": 261,
     "metadata": {},
     "output_type": "execute_result"
    },
    {
     "data": {
      "image/png": "[encoded data removed]",
      "text/plain": [
       "<matplotlib.figure.Figure at 0x7f6895471690>"
      ]
     },
     "metadata": {},
     "output_type": "display_data"
    }
   ],
   "source": [
    "fig = plt.figure()\n",
    "ax = fig.add_subplot(111)\n",
    "ax.scatter(counts, counts_var, s=1)\n",
    "xl = ax.set_xlabel(\"Counts\")\n",
    "yl = ax.set_ylabel(\"Variance\")\n",
    "ax.set_xlim([0,np.max(counts)])\n",
    "ax.set_ylim([0,np.max(counts_var)])"
   ]
  },
  {
   "cell_type": "code",
   "execution_count": 256,
   "metadata": {
    "collapsed": false
   },
   "outputs": [],
   "source": [
    "n_counts = len(counts)\n",
    "n_rep = 1000\n",
    "alpha = 0.5\n",
    "ar = np.zeros((n_rep, n_counts))\n",
    "neg_binom_a = lambda x : neg_binom(x, alpha=alpha)\n",
    "for i in range(n_rep):\n",
    "    ar[i,] = np.apply_along_axis(neg_binom_a, 0, counts)\n",
    "\n",
    "counts_var = np.var(ar, 0)"
   ]
  },
  {
   "cell_type": "code",
   "execution_count": 257,
   "metadata": {
    "collapsed": false
   },
   "outputs": [
    {
     "data": {
      "text/plain": [
       "(0, 115118.56703599979)"
      ]
     },
     "execution_count": 257,
     "metadata": {},
     "output_type": "execute_result"
    },
    {
     "data": {
      "image/png": "[encoded data removed]",
      "text/plain": [
       "<matplotlib.figure.Figure at 0x7f6895823410>"
      ]
     },
     "metadata": {},
     "output_type": "display_data"
    }
   ],
   "source": [
    "fig = plt.figure()\n",
    "ax = fig.add_subplot(111)\n",
    "ax.scatter(counts, counts_var, s=1)\n",
    "xl = ax.set_xlabel(\"Counts\")\n",
    "yl = ax.set_ylabel(\"Variance\")\n",
    "ax.set_xlim([0,np.max(counts)])\n",
    "ax.set_ylim([0,np.max(counts_var)])"
   ]
  },
  {
   "cell_type": "code",
   "execution_count": 258,
   "metadata": {
    "collapsed": true
   },
   "outputs": [],
   "source": [
    "n_counts = len(counts)\n",
    "n_rep = 1000\n",
    "alpha = 10\n",
    "ar = np.zeros((n_rep, n_counts))\n",
    "neg_binom_a = lambda x : neg_binom(x, alpha=alpha)\n",
    "for i in range(n_rep):\n",
    "    ar[i,] = np.apply_along_axis(neg_binom_a, 0, counts)\n",
    "\n",
    "counts_var = np.var(ar, 0)"
   ]
  },
  {
   "cell_type": "code",
   "execution_count": 259,
   "metadata": {
    "collapsed": false
   },
   "outputs": [
    {
     "data": {
      "text/plain": [
       "(0, 1043632103.6068968)"
      ]
     },
     "execution_count": 259,
     "metadata": {},
     "output_type": "execute_result"
    },
    {
     "data": {
      "image/png": "[encoded data removed]",
      "text/plain": [
       "<matplotlib.figure.Figure at 0x7f6895521a10>"
      ]
     },
     "metadata": {},
     "output_type": "display_data"
    }
   ],
   "source": [
    "fig = plt.figure()\n",
    "ax = fig.add_subplot(111)\n",
    "ax.scatter(counts, counts_var, s=1)\n",
    "xl = ax.set_xlabel(\"Counts\")\n",
    "yl = ax.set_ylabel(\"Variance\")\n",
    "ax.set_xlim([0,np.max(counts)])\n",
    "ax.set_ylim([0,np.max(counts_var)])"
   ]
  },
  {
   "cell_type": "markdown",
   "metadata": {},
   "source": [
    "# Adding error"
   ]
  },
  {
   "cell_type": "code",
   "execution_count": null,
   "metadata": {
    "collapsed": true
   },
   "outputs": [],
   "source": [
    "!cd $workDir; \\\n",
    "    SIPSim OTU_add_error \\\n",
    "    OTU_abs1e9.txt > \n",
    "    OTU_abs1e9_err.txt\n",
    "    \n",
    "!cd $workDir; \\\n",
    "    head OTU_abs1e9_err.txt"
   ]
  },
  {
   "cell_type": "code",
   "execution_count": null,
   "metadata": {
    "collapsed": true
   },
   "outputs": [],
   "source": []
  }
 ],
 "metadata": {
  "kernelspec": {
   "display_name": "Python 2",
   "language": "python",
   "name": "python2"
  },
  "language_info": {
   "codemirror_mode": {
    "name": "ipython",
    "version": 2
   },
   "file_extension": ".py",
   "mimetype": "text/x-python",
   "name": "python",
   "nbconvert_exporter": "python",
   "pygments_lexer": "ipython2",
   "version": "2.7.10"
  }
 },
 "nbformat": 4,
 "nbformat_minor": 0
}
