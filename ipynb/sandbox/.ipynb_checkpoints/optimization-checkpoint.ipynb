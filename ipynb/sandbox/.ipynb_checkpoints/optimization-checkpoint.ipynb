{
 "metadata": {
  "name": "",
  "signature": "sha256:e6e44dddff20b1dc61df3c6158b07ff55a06ba1ae89a27147538a0860cedd486"
 },
 "nbformat": 3,
 "nbformat_minor": 0,
 "worksheets": [
  {
   "cells": [
    {
     "cell_type": "markdown",
     "metadata": {},
     "source": [
      "* Trying to increase the speed and efficiency of SIPSim"
     ]
    },
    {
     "cell_type": "code",
     "collapsed": false,
     "input": [
      "import os,sys\n",
      "import numpy as np\n",
      "import pandas as pd\n",
      "import scipy.stats as stats\n",
      "from collections import defaultdict"
     ],
     "language": "python",
     "metadata": {},
     "outputs": [
      {
       "output_type": "stream",
       "stream": "stderr",
       "text": [
        "/opt/anaconda/lib/python2.7/site-packages/pytz/__init__.py:29: UserWarning: Module argparse was already imported from /opt/anaconda/lib/python2.7/argparse.pyc, but /opt/anaconda/lib/python2.7/site-packages is being added to sys.path\n",
        "  from pkg_resources import resource_stream\n"
       ]
      }
     ],
     "prompt_number": 15
    },
    {
     "cell_type": "markdown",
     "metadata": {},
     "source": [
      "## Distributions"
     ]
    },
    {
     "cell_type": "code",
     "collapsed": false,
     "input": [
      "%%timeit\n",
      "\n",
      "np.random.normal(size=1)"
     ],
     "language": "python",
     "metadata": {},
     "outputs": [
      {
       "output_type": "stream",
       "stream": "stdout",
       "text": [
        "1000000 loops, best of 3: 1.62 \u00b5s per loop\n"
       ]
      }
     ],
     "prompt_number": 8
    },
    {
     "cell_type": "code",
     "collapsed": false,
     "input": [
      "%%timeit\n",
      "\n",
      "stats.norm().rvs()"
     ],
     "language": "python",
     "metadata": {},
     "outputs": [
      {
       "output_type": "stream",
       "stream": "stdout",
       "text": [
        "1000 loops, best of 3: 680 \u00b5s per loop\n"
       ]
      }
     ],
     "prompt_number": 9
    },
    {
     "cell_type": "markdown",
     "metadata": {},
     "source": [
      "## dict of pd.DataFrames versus 3d numpy array"
     ]
    },
    {
     "cell_type": "code",
     "collapsed": false,
     "input": [
      "ddf = {'a': pd.DataFrame({'a':range(10), 'b':range(10)}),\n",
      "       'b': pd.DataFrame({'a':range(10), 'b':range(10)})\n",
      "       }\n",
      "\n",
      "narr = np.array([np.array(range(10) + range(10)).reshape(2,10).transpose(),\n",
      "                np.array(range(10) + range(10)).reshape(2,10).transpose()\n",
      "                ])"
     ],
     "language": "python",
     "metadata": {},
     "outputs": [],
     "prompt_number": 26
    },
    {
     "cell_type": "code",
     "collapsed": false,
     "input": [
      "ddf"
     ],
     "language": "python",
     "metadata": {},
     "outputs": [
      {
       "metadata": {},
       "output_type": "pyout",
       "prompt_number": 27,
       "text": [
        "{'a':    a  b\n",
        " 0  0  0\n",
        " 1  1  1\n",
        " 2  2  2\n",
        " 3  3  3\n",
        " 4  4  4\n",
        " 5  5  5\n",
        " 6  6  6\n",
        " 7  7  7\n",
        " 8  8  8\n",
        " 9  9  9, 'b':    a  b\n",
        " 0  0  0\n",
        " 1  1  1\n",
        " 2  2  2\n",
        " 3  3  3\n",
        " 4  4  4\n",
        " 5  5  5\n",
        " 6  6  6\n",
        " 7  7  7\n",
        " 8  8  8\n",
        " 9  9  9}"
       ]
      }
     ],
     "prompt_number": 27
    },
    {
     "cell_type": "code",
     "collapsed": false,
     "input": [
      "narr"
     ],
     "language": "python",
     "metadata": {},
     "outputs": [
      {
       "metadata": {},
       "output_type": "pyout",
       "prompt_number": 28,
       "text": [
        "array([[[0, 0],\n",
        "        [1, 1],\n",
        "        [2, 2],\n",
        "        [3, 3],\n",
        "        [4, 4],\n",
        "        [5, 5],\n",
        "        [6, 6],\n",
        "        [7, 7],\n",
        "        [8, 8],\n",
        "        [9, 9]],\n",
        "\n",
        "       [[0, 0],\n",
        "        [1, 1],\n",
        "        [2, 2],\n",
        "        [3, 3],\n",
        "        [4, 4],\n",
        "        [5, 5],\n",
        "        [6, 6],\n",
        "        [7, 7],\n",
        "        [8, 8],\n",
        "        [9, 9]]])"
       ]
      }
     ],
     "prompt_number": 28
    },
    {
     "cell_type": "code",
     "collapsed": false,
     "input": [],
     "language": "python",
     "metadata": {},
     "outputs": []
    }
   ],
   "metadata": {}
  }
 ]
}