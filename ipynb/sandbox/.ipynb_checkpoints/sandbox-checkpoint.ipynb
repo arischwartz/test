{
 "cells": [
  {
   "cell_type": "code",
   "execution_count": 7,
   "metadata": {
    "collapsed": true
   },
   "outputs": [],
   "source": [
    "from scipy import stats\n",
    "import numpy as np\n",
    "def measure(n):\n",
    "    \"\"\"Measurement model, return two coupled measurements.\n",
    "    \"\"\"\n",
    "    m1 = np.random.normal(size=n)\n",
    "    m2 = np.random.normal(scale=0.5, size=n)\n",
    "    return m1+m2, m1-m2"
   ]
  },
  {
   "cell_type": "code",
   "execution_count": 8,
   "metadata": {
    "collapsed": true
   },
   "outputs": [],
   "source": [
    "m1, m2 = measure(2000)\n",
    "xmin = m1.min()\n",
    "xmax = m1.max()\n",
    "ymin = m2.min()\n",
    "ymax = m2.max()"
   ]
  },
  {
   "cell_type": "code",
   "execution_count": 9,
   "metadata": {
    "collapsed": false
   },
   "outputs": [],
   "source": [
    "X, Y = np.mgrid[xmin:xmax:100j, ymin:ymax:100j]\n",
    "positions = np.vstack([X.ravel(), Y.ravel()])\n",
    "values = np.vstack([m1, m2])\n",
    "kernel = stats.gaussian_kde(values)\n",
    "Z = np.reshape(kernel(positions).T, X.shape)"
   ]
  },
  {
   "cell_type": "markdown",
   "metadata": {},
   "source": [
    "# KDE without dataset saved in object\n",
    "\n",
    "* Less storage & memory needed"
   ]
  },
  {
   "cell_type": "code",
   "execution_count": 159,
   "metadata": {
    "collapsed": false
   },
   "outputs": [],
   "source": [
    "from scipy import stats\n",
    "import numpy as np\n",
    "\n",
    "# making kde\n",
    "values = np.arange(10)\n",
    "kde = stats.gaussian_kde(values)"
   ]
  },
  {
   "cell_type": "code",
   "execution_count": 160,
   "metadata": {
    "collapsed": false
   },
   "outputs": [
    {
     "data": {
      "text/plain": [
       "4.5073174299614047"
      ]
     },
     "execution_count": 160,
     "metadata": {},
     "output_type": "execute_result"
    }
   ],
   "source": [
    "np.median(kde.resample(100000))"
   ]
  },
  {
   "cell_type": "code",
   "execution_count": 161,
   "metadata": {
    "collapsed": false
   },
   "outputs": [],
   "source": [
    "def KDE_make_means(kde, size=10):\n",
    "    func = lambda x : np.random.randint(0, x.n, size=x.d)\n",
    "    kde.means = [kde.dataset[:, func(kde)] for i in xrange(size)]\n",
    "    kde.means_n = len(kde.means)\n",
    "    #kde.dataset = None   \n",
    "\n",
    "#KDE_make_means(kde)"
   ]
  },
  {
   "cell_type": "code",
   "execution_count": 162,
   "metadata": {
    "collapsed": false
   },
   "outputs": [],
   "source": [
    "def KDE_save_means(kde, size):\n",
    "    indices = np.random.randint(0, kde.n, size=size)\n",
    "    kde.means = kde.dataset[:, indices]\n",
    "    kde.means_size = size\n",
    "    \n",
    "KDE_save_means(kde, size=10)\n",
    "kde.dataset = None"
   ]
  },
  {
   "cell_type": "code",
   "execution_count": 166,
   "metadata": {
    "collapsed": false
   },
   "outputs": [
    {
     "name": "stdout",
     "output_type": "stream",
     "text": [
      "[[3 6 1 8 4 2 1 7 7 3]]\n"
     ]
    },
    {
     "data": {
      "text/plain": [
       "array([[  2.27665471,   6.45279986,   0.76167366,  11.36411559,\n",
       "          5.66182709,  -0.20468706,   1.86112105,   8.3382336 ,\n",
       "          6.72463729,   2.70542962]])"
      ]
     },
     "execution_count": 166,
     "metadata": {},
     "output_type": "execute_result"
    }
   ],
   "source": [
    "def KDE_resample(kde):\n",
    "    norm = np.transpose(np.random.multivariate_normal(np.zeros((kde.d,), float), kde.covariance, \n",
    "                                                      size=kde.means_size))\n",
    "    print(kde.means)\n",
    "    return kde.means + norm\n",
    "\n",
    "KDE_resample(kde)"
   ]
  },
  {
   "cell_type": "markdown",
   "metadata": {},
   "source": [
    "#### Notes:\n",
    "\n",
    "* cannot get rid of `dataset` attribute in order to free up memory"
   ]
  },
  {
   "cell_type": "markdown",
   "metadata": {},
   "source": [
    "***"
   ]
  },
  {
   "cell_type": "code",
   "execution_count": 1,
   "metadata": {
    "collapsed": true
   },
   "outputs": [],
   "source": [
    "%load_ext rpy2.ipython"
   ]
  },
  {
   "cell_type": "code",
   "execution_count": 4,
   "metadata": {
    "collapsed": false
   },
   "outputs": [],
   "source": [
    "%%R\n",
    "library(dplyr)\n",
    "library(tidyr)\n",
    "library(ggplot2)\n",
    "library(vegan)"
   ]
  },
  {
   "cell_type": "code",
   "execution_count": 6,
   "metadata": {
    "collapsed": false
   },
   "outputs": [
    {
     "data": {
      "text/plain": [
       "   Callvulg Empenigr Rhodtome Vaccmyrt Vaccviti Pinusylv Descflex Betupube\n",
       "18     0.55    11.13     0.00     0.00    17.80     0.07     0.00        0\n",
       "15     0.67     0.17     0.00     0.35    12.13     0.12     0.00        0\n",
       "24     0.10     1.55     0.00     0.00    13.47     0.25     0.00        0\n",
       "27     0.00    15.13     2.42     5.92    15.97     0.00     3.70        0\n",
       "23     0.00    12.68     0.00     0.00    23.73     0.03     0.00        0\n",
       "19     0.00     8.92     0.00     2.42    10.28     0.12     0.02        0\n",
       "   Vacculig Diphcomp Dicrsp Dicrfusc Dicrpoly Hylosple Pleuschr Polypili\n",
       "18     1.60     2.07   0.00     1.62     0.00      0.0     4.67     0.02\n",
       "15     0.00     0.00   0.33    10.92     0.02      0.0    37.75     0.02\n",
       "24     0.00     0.00  23.43     0.00     1.68      0.0    32.92     0.00\n",
       "27     1.12     0.00   0.00     3.63     0.00      6.7    58.07     0.00\n",
       "23     0.00     0.00   0.00     3.42     0.02      0.0    19.42     0.02\n",
       "19     0.00     0.00   0.00     0.32     0.02      0.0    21.03     0.02\n",
       "   Polyjuni Polycomm Pohlnuta Ptilcili Barbhatc Cladarbu Cladrang Cladstel\n",
       "18     0.13     0.00     0.13     0.12     0.00    21.73    21.47     3.50\n",
       "15     0.23     0.00     0.03     0.02     0.00    12.05     8.13     0.18\n",
       "24     0.23     0.00     0.32     0.03     0.00     3.58     5.52     0.07\n",
       "27     0.00     0.13     0.02     0.08     0.08     1.42     7.63     2.55\n",
       "23     2.12     0.00     0.17     1.80     0.02     9.08     9.22     0.05\n",
       "19     1.58     0.18     0.07     0.27     0.02     7.23     4.95    22.08\n",
       "   Cladunci Cladcocc Cladcorn Cladgrac Cladfimb Cladcris Cladchlo Cladbotr\n",
       "18     0.30     0.18     0.23     0.25     0.25     0.23     0.00     0.00\n",
       "15     2.65     0.13     0.18     0.23     0.25     1.23     0.00     0.00\n",
       "24     8.93     0.00     0.20     0.48     0.00     0.07     0.10     0.02\n",
       "27     0.15     0.00     0.38     0.12     0.10     0.03     0.00     0.02\n",
       "23     0.73     0.08     1.42     0.50     0.17     1.78     0.05     0.05\n",
       "19     0.25     0.10     0.25     0.18     0.10     0.12     0.05     0.02\n",
       "   Cladamau Cladsp Cetreric Cetrisla Flavniva Nepharct Stersp Peltapht Icmaeric\n",
       "18     0.08   0.02     0.02     0.00     0.12     0.02   0.62     0.02        0\n",
       "15     0.00   0.00     0.15     0.03     0.00     0.00   0.85     0.00        0\n",
       "24     0.00   0.00     0.78     0.12     0.00     0.00   0.03     0.00        0\n",
       "27     0.00   0.02     0.00     0.00     0.00     0.00   0.00     0.07        0\n",
       "23     0.00   0.00     0.00     0.00     0.02     0.00   1.58     0.33        0\n",
       "19     0.00   0.00     0.00     0.00     0.02     0.00   0.28     0.00        0\n",
       "   Cladcerv Claddefo Cladphyl\n",
       "18        0     0.25        0\n",
       "15        0     1.00        0\n",
       "24        0     0.33        0\n",
       "27        0     0.15        0\n",
       "23        0     1.97        0\n",
       "19        0     0.37        0\n"
      ]
     },
     "metadata": {},
     "output_type": "display_data"
    }
   ],
   "source": [
    "%%R\n",
    "data(varespec)\n",
    "varespec %>% head"
   ]
  },
  {
   "cell_type": "code",
   "execution_count": null,
   "metadata": {
    "collapsed": true
   },
   "outputs": [],
   "source": []
  }
 ],
 "metadata": {
  "hide_input": true,
  "kernelspec": {
   "display_name": "Python 2",
   "language": "python",
   "name": "python2"
  },
  "language_info": {
   "codemirror_mode": {
    "name": "ipython",
    "version": 2
   },
   "file_extension": ".py",
   "mimetype": "text/x-python",
   "name": "python",
   "nbconvert_exporter": "python",
   "pygments_lexer": "ipython2",
   "version": "2.7.11"
  }
 },
 "nbformat": 4,
 "nbformat_minor": 0
}
