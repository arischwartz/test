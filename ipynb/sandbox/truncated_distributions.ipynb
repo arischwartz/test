{
 "metadata": {
  "name": "",
  "signature": "sha256:fd07ed62da80935a34f4e99b577958b13c5d46f5f4383b72bdfdb5b846c6fd28"
 },
 "nbformat": 3,
 "nbformat_minor": 0,
 "worksheets": [
  {
   "cells": [
    {
     "cell_type": "markdown",
     "metadata": {},
     "source": [
      "# Description:\n",
      "\n",
      "* Exploring how to best create truncated distributions (e.g., values constrained to [0,100])"
     ]
    },
    {
     "cell_type": "code",
     "collapsed": false,
     "input": [
      "%pylab inline"
     ],
     "language": "python",
     "metadata": {},
     "outputs": [
      {
       "output_type": "stream",
       "stream": "stdout",
       "text": [
        "Populating the interactive namespace from numpy and matplotlib\n"
       ]
      }
     ],
     "prompt_number": 1
    },
    {
     "cell_type": "code",
     "collapsed": false,
     "input": [
      "import scipy.stats as stats\n",
      "import matplotlib.pyplot as plt\n",
      "import numpy as np\n",
      "import numpy.random as rnd\n",
      "\n",
      "# distribution truncated to: \n",
      "trunc_start = -1\n",
      "trunc_end = 2\n",
      "\n",
      "#plot the original distribution\n",
      "xrng=np.arange(-10,10,.1)\n",
      "yrng=stats.logistic.pdf(xrng)\n",
      "plt.plot(xrng,yrng)\n",
      "\n",
      "#plot the truncated distribution\n",
      "nrm=stats.logistic.cdf(trunc_end)-stats.logistic.cdf(trunc_start)\n",
      "xrng=np.arange(trunc_start,trunc_end,.01)\n",
      "yrng=stats.logistic.pdf(xrng)/nrm\n",
      "plt.plot(xrng,yrng)\n",
      "\n",
      "#sample using the inverse cdf\n",
      "yr=rnd.rand(100000)*(nrm)+stats.logistic.cdf(trunc_start)\n",
      "xr=stats.logistic.ppf(yr)\n",
      "plt.hist(xr,normed=True)\n",
      "\n",
      "plt.show()"
     ],
     "language": "python",
     "metadata": {},
     "outputs": [
      {
       "metadata": {},
       "output_type": "display_data",
       "png": "[encoded data removed]",
       "text": [
        "<matplotlib.figure.Figure at 0x7f357ca0c090>"
       ]
      }
     ],
     "prompt_number": 12
    }
   ],
   "metadata": {}
  }
 ]
}