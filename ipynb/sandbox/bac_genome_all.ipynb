{
 "metadata": {
  "name": "",
  "signature": "sha256:3445211ccf0344e8c97ad2ac7d44ca71bc43405a19dc2392255f7cfc3073a8ee"
 },
 "nbformat": 3,
 "nbformat_minor": 0,
 "worksheets": [
  {
   "cells": [
    {
     "cell_type": "markdown",
     "metadata": {},
     "source": [
      "# Description:\n",
      "\n",
      "* Simulating bacterial communities using all of the bacterial genomes available.\n",
      "\n",
      "\n",
      "### Workflow:\n",
      "\n",
      "* symlink all genomes\n",
      "* index all genomes"
     ]
    },
    {
     "cell_type": "code",
     "collapsed": false,
     "input": [
      "workDir = '/home/nick/notebook/SIPSim/dev/bac_genome_all/'\n",
      "SIPSimExe = '/home/nick/notebook/SIPSim/SIPSim'\n",
      "genomeDir = '/var/seq_data/ncbi_db/genome/'"
     ],
     "language": "python",
     "metadata": {},
     "outputs": [],
     "prompt_number": 48
    },
    {
     "cell_type": "code",
     "collapsed": false,
     "input": [
      "import os,sys\n",
      "import numpy as np\n",
      "import pandas as pd\n",
      "from ggplot import *\n",
      "import matplotlib.pyplot as plt"
     ],
     "language": "python",
     "metadata": {},
     "outputs": [],
     "prompt_number": 32
    },
    {
     "cell_type": "code",
     "collapsed": false,
     "input": [
      "%load_ext rpy2.ipython\n",
      "%matplotlib inline"
     ],
     "language": "python",
     "metadata": {},
     "outputs": [
      {
       "output_type": "stream",
       "stream": "stdout",
       "text": [
        "The rpy2.ipython extension is already loaded. To reload it, use:\n",
        "  %reload_ext rpy2.ipython\n"
       ]
      }
     ],
     "prompt_number": 10
    },
    {
     "cell_type": "code",
     "collapsed": false,
     "input": [
      "%%R\n",
      "library(ggplot2)\n",
      "library(dplyr)\n",
      "library(tidyr)\n",
      "library(gridExtra)"
     ],
     "language": "python",
     "metadata": {},
     "outputs": [
      {
       "metadata": {},
       "output_type": "display_data",
       "text": [
        "Need help? Try the ggplot2 mailing list: http://groups.google.com/group/ggplot2.\n",
        "\n",
        "Attaching package: \u2018dplyr\u2019\n",
        "\n",
        "The following object is masked from \u2018package:stats\u2019:\n",
        "\n",
        "    filter\n",
        "\n",
        "The following objects are masked from \u2018package:base\u2019:\n",
        "\n",
        "    intersect, setdiff, setequal, union\n",
        "\n",
        "Loading required package: grid\n"
       ]
      }
     ],
     "prompt_number": 247
    },
    {
     "cell_type": "code",
     "collapsed": false,
     "input": [
      "if not os.path.isdir(workDir):\n",
      "    os.mkdir(workDir)"
     ],
     "language": "python",
     "metadata": {},
     "outputs": [],
     "prompt_number": 20
    },
    {
     "cell_type": "code",
     "collapsed": false,
     "input": [
      "genomeDir = os.path.join(workDir, 'genomes')\n",
      "if not os.path.isdir(genomeDir):\n",
      "    os.mkdir(genomeDir)"
     ],
     "language": "python",
     "metadata": {},
     "outputs": [],
     "prompt_number": 21
    },
    {
     "cell_type": "markdown",
     "metadata": {},
     "source": [
      "# Getting genomes from ncbi\n",
      "\n",
      "* Updating list of genomes from ncbi"
     ]
    },
    {
     "cell_type": "markdown",
     "metadata": {},
     "source": [
      "## Getting table of prokaryote genomes"
     ]
    },
    {
     "cell_type": "code",
     "collapsed": false,
     "input": [
      "# using 'prokaryote.txt' file from the NCBI genome ftp site\n",
      "!cd $genomeDir; \\\n",
      "    wget ftp://ftp.ncbi.nih.gov/genomes/GENOME_REPORTS/prokaryotes.txt"
     ],
     "language": "python",
     "metadata": {},
     "outputs": [
      {
       "output_type": "stream",
       "stream": "stdout",
       "text": [
        "--2015-02-26 14:51:50--  ftp://ftp.ncbi.nih.gov/genomes/GENOME_REPORTS/prokaryotes.txt\r\n",
        "           => `prokaryotes.txt'\r\n",
        "Resolving ftp.ncbi.nih.gov (ftp.ncbi.nih.gov)... 130.14.250.13, 2607:f220:41e:250::10\r\n",
        "Connecting to ftp.ncbi.nih.gov (ftp.ncbi.nih.gov)|130.14.250.13|:21... connected.\r\n",
        "Logging in as anonymous ... "
       ]
      },
      {
       "output_type": "stream",
       "stream": "stdout",
       "text": [
        "Logged in!\r\n",
        "==> SYST ... done.    ==> PWD ... done.\r\n",
        "==> TYPE I ... done.  ==> CWD (1) /genomes/GENOME_REPORTS ... "
       ]
      },
      {
       "output_type": "stream",
       "stream": "stdout",
       "text": [
        "done.\r\n",
        "==> SIZE prokaryotes.txt ... 7665180\r\n",
        "==> PASV ... "
       ]
      },
      {
       "output_type": "stream",
       "stream": "stdout",
       "text": [
        "done.    ==> RETR prokaryotes.txt ... done.\r\n",
        "Length: 7665180 (7.3M) (unauthoritative)\r\n",
        "\r\n",
        "\r",
        " 0% [                                       ] 0           --.-K/s              "
       ]
      },
      {
       "output_type": "stream",
       "stream": "stdout",
       "text": [
        "\r",
        "13% [====>                                  ] 1,048,352   4.91M/s              "
       ]
      },
      {
       "output_type": "stream",
       "stream": "stdout",
       "text": [
        "\r",
        "77% [=============================>         ] 5,978,792   14.0M/s              "
       ]
      },
      {
       "output_type": "stream",
       "stream": "stdout",
       "text": [
        "\r",
        "100%[======================================>] 7,665,180   16.6M/s   in 0.4s    \r\n",
        "\r\n",
        "2015-02-26 14:51:51 (16.6 MB/s) - `prokaryotes.txt' saved [7665180]\r\n",
        "\r\n"
       ]
      }
     ],
     "prompt_number": 178
    },
    {
     "cell_type": "code",
     "collapsed": false,
     "input": [
      "! printf \"Number of lines in old (delta-GC dataset) version of prokaryotes.txt: \"\n",
      "! cd $genomeDir; \\\n",
      "    wc -l archive/deltaGC_dataset/prokaryotes.txt | perl -pe 's/ .+//'\n",
      "! printf \"Number of lines in new version of prokaryotes.txt: \"\n",
      "! cd $genomeDir; \\\n",
      "    wc -l prokaryotes.txt | perl -pe 's/ .+//'"
     ],
     "language": "python",
     "metadata": {},
     "outputs": [
      {
       "output_type": "stream",
       "stream": "stdout",
       "text": [
        "Number of lines in old (delta-GC dataset) version of prokaryotes.txt: "
       ]
      },
      {
       "output_type": "stream",
       "stream": "stdout",
       "text": [
        "23504\r\n"
       ]
      },
      {
       "output_type": "stream",
       "stream": "stdout",
       "text": [
        "Number of lines in new version of prokaryotes.txt: "
       ]
      },
      {
       "output_type": "stream",
       "stream": "stdout",
       "text": [
        "31639\r\n"
       ]
      }
     ],
     "prompt_number": 179
    },
    {
     "cell_type": "code",
     "collapsed": false,
     "input": [
      "os.chdir(genomeDir)\n",
      "\n",
      "# loading table\n",
      "proks = pd.read_csv('prokaryotes.txt', sep='\\t')\n",
      "print \"Number of rows in full table: {}\".format(proks.shape[0])\n",
      "\n",
      "# filtering table\n",
      "## just closed genomes (1 scaffold per chromosome)\n",
      "### *Complete* in 'Status' field\n",
      "proks = proks.loc[proks['Status'].isin(['Complete','Complete Genome'])]\n",
      "print \"Number of rows with a complete genome entry: {}\".format(proks.shape[0])"
     ],
     "language": "python",
     "metadata": {},
     "outputs": [
      {
       "output_type": "stream",
       "stream": "stdout",
       "text": [
        "Number of rows in full table: 31638\n",
        "Number of rows with a complete genome entry: 3612\n"
       ]
      }
     ],
     "prompt_number": 181
    },
    {
     "cell_type": "markdown",
     "metadata": {},
     "source": [
      "### Filtering prokaryotes file\n",
      "\n",
      "* Only using 'complete' genomes.\n",
      "* Using the most recent version of each genome.\n",
      "* Adding taxonomy for each entry."
     ]
    },
    {
     "cell_type": "code",
     "collapsed": false,
     "input": [
      "!cd $genomeDir; \\\n",
      "    seqDB_tools NCBIprokaryoteTableFilter \\\n",
      "    -t 30 prokaryotes.txt \\\n",
      "    > prokaryotes_filt.txt 2> NCBIprokaryoteTableFilter.log"
     ],
     "language": "python",
     "metadata": {},
     "outputs": [],
     "prompt_number": 188
    },
    {
     "cell_type": "code",
     "collapsed": false,
     "input": [
      "!printf \"Number of rows in filtered prokaryote table: \"\n",
      "!cd $genomeDir; wc -l prokaryotes_filt.txt | perl -pe 's/ .+//'"
     ],
     "language": "python",
     "metadata": {},
     "outputs": [
      {
       "output_type": "stream",
       "stream": "stdout",
       "text": [
        "Number of rows in filtered prokaryote table: "
       ]
      },
      {
       "output_type": "stream",
       "stream": "stdout",
       "text": [
        "3320\r\n"
       ]
      }
     ],
     "prompt_number": 189
    },
    {
     "cell_type": "code",
     "collapsed": false,
     "input": [
      "!wc -l NCBIprokaryoteTableFilter.log\n",
      "!cd $genomeDir; \\\n",
      "    head -n 50 NCBIprokaryoteTableFilter.log"
     ],
     "language": "python",
     "metadata": {},
     "outputs": [
      {
       "output_type": "stream",
       "stream": "stdout",
       "text": [
        "47 NCBIprokaryoteTableFilter.log\r\n"
       ]
      },
      {
       "output_type": "stream",
       "stream": "stdout",
       "text": [
        "Loading table...\r\n",
        "Just keeping most recent entries for same organism...\r\n",
        "Adding taxonomy to each entry...\r\n",
        "\r\n",
        "------------- EXCEPTION: Bio::Root::Exception -------------\r\n",
        "MSG: Can't query website: 500 Can't connect to eutils.ncbi.nlm.nih.gov:80 (Connection timed out)\r\n",
        "STACK: Error::throw\r\n",
        "STACK: Bio::Root::Root::throw /usr/local/share/perl/5.14.2/Bio/Root/Root.pm:449\r\n",
        "STACK: Bio::DB::Taxonomy::entrez::_run_query /usr/local/share/perl/5.14.2/Bio/DB/Taxonomy/entrez.pm:658\r\n",
        "STACK: Bio::DB::Taxonomy::entrez::get_taxon /usr/local/share/perl/5.14.2/Bio/DB/Taxonomy/entrez.pm:326\r\n",
        "STACK: main::get_lineage /home/nick/dev/seqDB_tools/bin/NCBIprokaryoteTableFilter.pl:305\r\n",
        "STACK: main::add_taxonomy /home/nick/dev/seqDB_tools/bin/NCBIprokaryoteTableFilter.pl:289\r\n",
        "STACK: /home/nick/dev/seqDB_tools/bin/NCBIprokaryoteTableFilter.pl:176\r\n",
        "-----------------------------------------------------------\r\n",
        "\r\n",
        "------------- EXCEPTION: Bio::Root::Exception -------------\r\n",
        "MSG: Can't query website: 500 Can't connect to eutils.ncbi.nlm.nih.gov:80 (Connection timed out)\r\n",
        "STACK: Error::throw\r\n",
        "STACK: Bio::Root::Root::throw /usr/local/share/perl/5.14.2/Bio/Root/Root.pm:449\r\n",
        "STACK: Bio::DB::Taxonomy::entrez::_run_query /usr/local/share/perl/5.14.2/Bio/DB/Taxonomy/entrez.pm:658\r\n",
        "STACK: Bio::DB::Taxonomy::entrez::get_taxon /usr/local/share/perl/5.14.2/Bio/DB/Taxonomy/entrez.pm:326\r\n",
        "STACK: main::get_lineage /home/nick/dev/seqDB_tools/bin/NCBIprokaryoteTableFilter.pl:305\r\n",
        "STACK: main::add_taxonomy /home/nick/dev/seqDB_tools/bin/NCBIprokaryoteTableFilter.pl:289\r\n",
        "STACK: /home/nick/dev/seqDB_tools/bin/NCBIprokaryoteTableFilter.pl:176\r\n",
        "-----------------------------------------------------------\r\n",
        "\r\n",
        "------------- EXCEPTION: Bio::Root::Exception -------------\r\n",
        "MSG: Can't query website: 500 Can't connect to eutils.ncbi.nlm.nih.gov:80 (Connection timed out)\r\n",
        "STACK: Error::throw\r\n",
        "STACK: Bio::Root::Root::throw /usr/local/share/perl/5.14.2/Bio/Root/Root.pm:449\r\n",
        "STACK: Bio::DB::Taxonomy::entrez::_run_query /usr/local/share/perl/5.14.2/Bio/DB/Taxonomy/entrez.pm:658\r\n",
        "STACK: Bio::DB::Taxonomy::entrez::get_taxon /usr/local/share/perl/5.14.2/Bio/DB/Taxonomy/entrez.pm:326\r\n",
        "STACK: main::get_lineage /home/nick/dev/seqDB_tools/bin/NCBIprokaryoteTableFilter.pl:305\r\n",
        "STACK: main::add_taxonomy /home/nick/dev/seqDB_tools/bin/NCBIprokaryoteTableFilter.pl:289\r\n",
        "STACK: /home/nick/dev/seqDB_tools/bin/NCBIprokaryoteTableFilter.pl:176\r\n",
        "-----------------------------------------------------------\r\n",
        "\r\n",
        "------------- EXCEPTION: Bio::Root::Exception -------------\r\n",
        "MSG: Can't query website: 500 Can't connect to eutils.ncbi.nlm.nih.gov:80 (Connection timed out)\r\n",
        "STACK: Error::throw\r\n",
        "STACK: Bio::Root::Root::throw /usr/local/share/perl/5.14.2/Bio/Root/Root.pm:449\r\n",
        "STACK: Bio::DB::Taxonomy::entrez::_run_query /usr/local/share/perl/5.14.2/Bio/DB/Taxonomy/entrez.pm:658\r\n",
        "STACK: Bio::DB::Taxonomy::entrez::get_taxon /usr/local/share/perl/5.14.2/Bio/DB/Taxonomy/entrez.pm:326\r\n",
        "STACK: main::get_lineage /home/nick/dev/seqDB_tools/bin/NCBIprokaryoteTableFilter.pl:305\r\n",
        "STACK: main::add_taxonomy /home/nick/dev/seqDB_tools/bin/NCBIprokaryoteTableFilter.pl:289\r\n",
        "STACK: /home/nick/dev/seqDB_tools/bin/NCBIprokaryoteTableFilter.pl:176\r\n",
        "-----------------------------------------------------------\r\n"
       ]
      }
     ],
     "prompt_number": 190
    },
    {
     "cell_type": "markdown",
     "metadata": {},
     "source": [
      "### Manual filtering\n",
      "\n",
      "* Rhizobium_etli_CFN_42\n",
      "    * no genome\n",
      "* Lactobacillus_gasseri_ADH\n",
      "    * phage genome"
     ]
    },
    {
     "cell_type": "code",
     "collapsed": false,
     "input": [
      "!cd $genomeDir; \\\n",
      "    perl -ne 'print if /Rhizobium etli CFN |Lactobacillus gasseri ADH/' prokaryotes_filt.txt"
     ],
     "language": "python",
     "metadata": {},
     "outputs": [
      {
       "output_type": "stream",
       "stream": "stdout",
       "text": [
        "Rhizobium etli CFN 42\t347834\tPRJNA13932\t13932\tProteobacteria\tAlphaproteobacteria\t6.53023\t61.0458\tNC_007761.1\tCP000133.1\tNC_007763.1,NC_007765.1,NC_004041.2,NC_007766.1,NC_007762.1,NC_007764.1\tCP000135.1,CP000137.1,U80928.5,CP000138.1,CP000134.1,CP000136.1\t-\t7\t6235\t6001\t2006/02/01\t2015/02/08\tComplete Genome\tCentro de Ciencias Genomicas, Universidad Nacional Autonoma de Mexico\tSAMN02603106\tGCA_000092045.1\tREPR\tRhizobium_etli/GCF_000092045\t16505379\tBacteria\tProteobacteria\tAlphaproteobacteria\tRhizobiales\tRhizobiaceae\tRhizobium\tRhizobium etli\r\n",
        "Lactobacillus gasseri ADH\t1395514\tPRJNA249087\t249087\tFirmicutes\tBacilli\t0.038269\t37.4\t-\tKF767351.1\t-\t-\t-\t-\t54\t54\t2014/04/03\t2014/05/27\tComplete\tNCBI\t-\t-\t-\t-\t24682298\tBacteria\tFirmicutes\tBacilli\tLactobacillales\tLactobacillaceae\tLactobacillus\tLactobacillus gasseri\r\n"
       ]
      }
     ],
     "prompt_number": 194
    },
    {
     "cell_type": "code",
     "collapsed": false,
     "input": [
      "!cd $genomeDir; \\\n",
      "    perl -ni -e 'print unless /Rhizobium etli CFN |Lactobacillus gasseri ADH/' prokaryotes_filt.txt"
     ],
     "language": "python",
     "metadata": {},
     "outputs": [],
     "prompt_number": 195
    },
    {
     "cell_type": "code",
     "collapsed": false,
     "input": [
      "!cd $genomeDir; \\\n",
      "    perl -ne 'print if /Rhizobium etli CFN |Lactobacillus gasseri ADH/' prokaryotes_filt.txt"
     ],
     "language": "python",
     "metadata": {},
     "outputs": [],
     "prompt_number": 196
    },
    {
     "cell_type": "markdown",
     "metadata": {},
     "source": [
      "### Random selection of 1 from each species\n",
      "\n",
      "* filtered out all genomes w/out accession numbers"
     ]
    },
    {
     "cell_type": "code",
     "collapsed": false,
     "input": [
      "%%bash -s \"$genomeDir\"\n",
      "\n",
      "cd $1\n",
      "\n",
      "NY_misc_perl tblRandomByField -c 32 \\\n",
      "    -header <(perl -ne '@l=split /\\t/; print unless \\$l[9] eq \"-\"' prokaryotes_filt.txt) \\\n",
      "    > prokaryotes_filt_rand.txt"
     ],
     "language": "python",
     "metadata": {},
     "outputs": [],
     "prompt_number": 197
    },
    {
     "cell_type": "code",
     "collapsed": false,
     "input": [
      "!cd $genomeDir; \\\n",
      "    wc -l prokaryotes_filt_rand.txt"
     ],
     "language": "python",
     "metadata": {},
     "outputs": [
      {
       "output_type": "stream",
       "stream": "stdout",
       "text": [
        "1337 prokaryotes_filt_rand.txt\r\n"
       ]
      }
     ],
     "prompt_number": 198
    },
    {
     "cell_type": "code",
     "collapsed": false,
     "input": [
      "!cd $genomeDir; \\\n",
      "    head -n 2 prokaryotes_filt_rand.txt"
     ],
     "language": "python",
     "metadata": {},
     "outputs": [
      {
       "output_type": "stream",
       "stream": "stdout",
       "text": [
        "#Organism/Name\tTaxID\tBioProject Accession\tBioProject ID\tGroup\tSubGroup\tSize (Mb)\tGC%\tChromosomes/RefSeq\tChromosomes/INSDC\tPlasmids/RefSeq\tPlasmids/INSDC\tWGS\tScaffolds\tGenes\tProteins\tRelease Date\tModify Date\tStatus\tCenter\tBioSample Accession\tAssembly Accession\tReference\tFTP Path\tPubmed ID\r",
        "\tsuperkingdom\tphylum\tclass\torder\tfamily\tgenus\tspecies\r\n",
        "Paludibacter propionicigenes WB4\t694427\tPRJNA42009\t42009\tBacteroidetes/Chlorobi group\tBacteroidetes\t3.6855\t38.9\tNC_014734.1\tCP002345.1\t-\t-\t-\t1\t3041\t2967\t2010/11/23\t2014/12/17\tComplete Genome\tUS DOE Joint Genome Institute (JGI-PGF)\tSAMN00016731\tGCA_000183135.1\tREPR\tPaludibacter_propionicigenes/GCF_000183135\t21475585\tBacteria\tBacteroidetes\tBacteroidia\tBacteroidales\tPorphyromonadaceae\tPaludibacter\tPaludibacter propionicigenes\r\n"
       ]
      }
     ],
     "prompt_number": 199
    },
    {
     "cell_type": "markdown",
     "metadata": {},
     "source": [
      "### Parsing by domain\n",
      "\n",
      "* Also, must have a genus taxonomic classification"
     ]
    },
    {
     "cell_type": "code",
     "collapsed": false,
     "input": [
      "%%bash -s \"$genomeDir\"\n",
      "\n",
      "perl -ne '@l=split /\\t/; print if $l[25] =~/bacteria|superkingdom/i && $l[31] !~ /NA/' \\\n",
      "    prokaryotes_filt_rand.txt > prok-bac_filt_rand.txt\n",
      "printf \"Number of bacterial genomes: \"\n",
      "wc -l prok-bac_filt_rand.txt\n",
      "\n",
      "\n",
      "perl -ne '@l=split /\\t/; print if $l[25] =~/archaea|superkingdom/i && $l[31] !~ /NA/' \\\n",
      "    prokaryotes_filt_rand.txt > prok-arc_filt_rand.txt\n",
      "printf \"Number of archaeal genomes: \"\n",
      "wc -l prok-arc_filt_rand.txt"
     ],
     "language": "python",
     "metadata": {},
     "outputs": [
      {
       "output_type": "stream",
       "stream": "stdout",
       "text": [
        "Number of bacterial genomes: 1211 prok-bac_filt_rand.txt\n",
        "Number of archaeal genomes: 126 prok-arc_filt_rand.txt\n"
       ]
      }
     ],
     "prompt_number": 200
    },
    {
     "cell_type": "markdown",
     "metadata": {},
     "source": [
      "### Downloading genomes"
     ]
    },
    {
     "cell_type": "code",
     "collapsed": false,
     "input": [
      "%%bash -s \"$genomeDir\"\n",
      "\n",
      "cd $1\n",
      "\n",
      "seqDB_tools NCBIprokaryoteTableFilter prok-bac_filt_rand.txt -t 30 -w -d prok-bac-genomes"
     ],
     "language": "python",
     "metadata": {},
     "outputs": [
      {
       "output_type": "stream",
       "stream": "stderr",
       "text": [
        "Writing out fastas of each genome (fastas from GenBank accession numbers)...\n",
        "Downloading Helicobacter hepaticus ATCC 51449\n",
        "Downloading Mycoplasma bovis HB0801\n",
        "Downloading Leptothrix cholodnii SP-6\n",
        "Downloading Flavobacterium columnare ATCC 49512\n",
        "Downloading Ramlibacter tataouinensis TTB310\n",
        "Downloading Acidovorax avenae subsp. avenae ATCC 19860\n",
        "Downloading Natranaerobius thermophilus JW/NM-WN-LF\n",
        "Downloading Acidothermus cellulolyticus 11B\n",
        "Downloading Bartonella australis Aust/NH1\n",
        "Downloading Rhodobacter capsulatus SB 1003\n",
        "Downloading Methylobacterium extorquens AM1\n",
        "Downloading Mycoplasma haemocanis str. Illinois\n",
        "Downloading Nitrobacter hamburgensis X14\n",
        "Downloading Deinococcus maricopensis DSM 21211\n",
        "Downloading Desulfosporosinus meridiei DSM 13257\n",
        "Downloading Teredinibacter turnerae T7901\n",
        "Downloading Streptococcus parauberis NCFD 2020\n",
        "Downloading Vibrio campbellii ATCC BAA-1116\n",
        "Downloading Escherichia fergusonii ATCC 35469\n",
        "Downloading Candidatus Kinetoplastibacterium crithidii (ex Angomonas deanei ATCC 30255)\n",
        "Downloading Corynebacterium diphtheriae C7 (beta)\n",
        "Downloading Prevotella intermedia 17\n",
        "Downloading Enterococcus mundtii QU 25\n",
        "Downloading Bacteroides salanitronis DSM 18170\n",
        "Downloading Burkholderia phytofirmans PsJN\n",
        "Downloading Thermoanaerobacter mathranii subsp. mathranii str. A3\n",
        "Downloading Alcanivorax dieselolei B5\n",
        "Downloading Elusimicrobium minutum Pei191\n",
        "Downloading Xanthomonas campestris pv. raphani 756C\n",
        "Downloading Rickettsia philipii str. 364D\n",
        "Successful download: Elusimicrobium minutum Pei191\n",
        "Downloading Arcobacter nitrofigilis DSM 7299\n",
        "Successful download: Candidatus Kinetoplastibacterium crithidii (ex Angomonas deanei ATCC 30255)\n",
        "Downloading Shewanella putrefaciens 200\n",
        "Successful download: Mycoplasma haemocanis str. Illinois\n",
        "Downloading Shigella flexneri Shi06HN006\n",
        "Successful download: Rickettsia philipii str. 364D\n",
        "Downloading Vibrio alginolyticus NBRC 15630 = ATCC 17749\n",
        "Successful download: Helicobacter hepaticus ATCC 51449\n",
        "Downloading Mycoplasma suis KI3806\n",
        "Successful download: Streptococcus parauberis NCFD 2020\n",
        "Downloading Fervidobacterium nodosum Rt17-B1\n",
        "Successful download: Bartonella australis Aust/NH1\n",
        "Downloading Coraliomargarita akajimensis DSM 45221\n",
        "Successful download: Corynebacterium diphtheriae C7 (beta)\n",
        "Downloading Caldicellulosiruptor saccharolyticus DSM 8903\n",
        "Successful download: Mycoplasma bovis HB0801\n",
        "Downloading Frateuria aurantia DSM 6220\n",
        "Successful download: Natranaerobius thermophilus JW/NM-WN-LF\n",
        "Successful download: Acidothermus cellulolyticus 11B\n",
        "Downloading Serratia liquefaciens ATCC 27592\n",
        "Downloading Oscillatoria nigro-viridis PCC 7112\n",
        "Successful download: Rhodobacter capsulatus SB 1003\n",
        "Downloading Spiroplasma sabaudiense Ar-1343\n",
        "Successful download: Mycoplasma suis KI3806\n",
        "Downloading Kutzneria albida DSM 43870\n",
        "Successful download: Enterococcus mundtii QU 25\n",
        "Downloading Dehalobacter restrictus DSM 9455\n",
        "Successful download: Flavobacterium columnare ATCC 49512\n",
        "Downloading Tistrella mobilis KA081020-065\n",
        "Successful download: Alcanivorax dieselolei B5\n",
        "Downloading Edwardsiella tarda FL6-60\n",
        "Successful download: Ramlibacter tataouinensis TTB310\n",
        "Downloading Alcanivorax pacificus W11-5\n",
        "Successful download: Prevotella intermedia 17\n",
        "Downloading Lactobacillus helveticus H10\n",
        "Successful download: Fervidobacterium nodosum Rt17-B1\n",
        "Downloading Pseudomonas entomophila L48\n",
        "Successful download: Thermoanaerobacter mathranii subsp. mathranii str. A3\n",
        "Downloading uncultured Termite group 1 bacterium phylotype Rs-D17\n",
        "Successful download: Spiroplasma sabaudiense Ar-1343\n",
        "Downloading Treponema succinifaciens DSM 2489\n",
        "Successful download: Teredinibacter turnerae T7901\n",
        "Downloading Clostridium beijerinckii ATCC 35702\n",
        "Successful download: Bacteroides salanitronis DSM 18170\n",
        "Downloading Pseudomonas syringae pv. syringae B728a\n",
        "Successful download: Leptothrix cholodnii SP-6\n",
        "Successful download: Nitrobacter hamburgensis X14\n",
        "Downloading Leuconostoc mesenteroides subsp. mesenteroides J18\n",
        "Downloading Atopobium parvulum DSM 20469\n",
        "Successful download: Arcobacter nitrofigilis DSM 7299\n",
        "Downloading Desulfotomaculum gibsoniae DSM 7213\n",
        "Successful download: Methylobacterium extorquens AM1\n",
        "Downloading Acidithiobacillus ferrivorans SS3\n",
        "Successful download: Deinococcus maricopensis DSM 21211\n",
        "Successful download: Caldicellulosiruptor saccharolyticus DSM 8903\n",
        "Downloading Deinococcus gobiensis I-0\n",
        "Downloading Listeria monocytogenes serotype 4b str. CLIP 80459\n",
        "Successful download: Xanthomonas campestris pv. raphani 756C\n",
        "Downloading Borrelia bissettii DN127\n",
        "Successful download: uncultured Termite group 1 bacterium phylotype Rs-D17\n",
        "Downloading Amycolatopsis mediterranei S699\n",
        "Successful download: Shewanella putrefaciens 200\n",
        "Downloading Mannheimia succiniciproducens MBEL55E\n",
        "Successful download: Vibrio campbellii ATCC BAA-1116\n",
        "Downloading Magnetospirillum magneticum AMB-1\n",
        "Successful download: Escherichia fergusonii ATCC 35469\n",
        "Successful download: Coraliomargarita akajimensis DSM 45221\n",
        "Downloading Mesorhizobium opportunistum WSM2075\n",
        "Downloading Pseudonocardia dioxanivorans CB1190\n",
        "Successful download: Frateuria aurantia DSM 6220\n",
        "Downloading Leptospira biflexa serovar Patoc strain 'Patoc 1 (Paris)'\n",
        "Successful download: Lactobacillus helveticus H10\n",
        "Downloading Candidatus Desulforudis audaxviator MP104C\n",
        "Successful download: Borrelia bissettii DN127\n",
        "Downloading Catenulispora acidiphila DSM 44928\n",
        "Successful download: Atopobium parvulum DSM 20469\n",
        "Downloading Herbaspirillum seropedicae SmR1\n",
        "Successful download: Vibrio alginolyticus NBRC 15630 = ATCC 17749\n",
        "Downloading Citrobacter koseri ATCC BAA-895\n",
        "Successful download: Desulfosporosinus meridiei DSM 13257\n",
        "Downloading Saprospira grandis str. Lewin\n",
        "Successful download: Acidovorax avenae subsp. avenae ATCC 19860\n",
        "Downloading Anaplasma centrale str. Israel\n",
        "Successful download: Leuconostoc mesenteroides subsp. mesenteroides J18\n",
        "Downloading Edwardsiella piscicida C07-087\n",
        "Successful download: Edwardsiella tarda FL6-60\n",
        "Downloading Intrasporangium calvum DSM 43043\n",
        "Successful download: Tistrella mobilis KA081020-065\n",
        "Downloading Corynebacterium argentoratense DSM 44202\n",
        "Successful download: Shigella flexneri Shi06HN006\n",
        "Downloading Francisella noatunensis subsp. orientalis str. Toba 04\n",
        "Successful download: Treponema succinifaciens DSM 2489\n",
        "Downloading Kosakonia sacchari SP1\n",
        "Successful download: Mannheimia succiniciproducens MBEL55E\n",
        "Downloading Anaplasma phagocytophilum str. HZ2\n",
        "Successful download: Anaplasma centrale str. Israel\n",
        "Downloading Marinithermus hydrothermalis DSM 14884\n",
        "Successful download: Deinococcus gobiensis I-0\n",
        "Downloading Leptospira interrogans serovar Copenhageni str. Fiocruz L1-130\n",
        "Successful download: Burkholderia phytofirmans PsJN\n",
        "Downloading Lactobacillus amylovorus GRL1118\n",
        "Successful download: Dehalobacter restrictus DSM 9455\n",
        "Downloading Coriobacterium glomerans PW2\n",
        "Successful download: Candidatus Desulforudis audaxviator MP104C\n",
        "Downloading Chlorobaculum parvum NCIB 8327\n",
        "Successful download: Listeria monocytogenes serotype 4b str. CLIP 80459\n",
        "Downloading Mycoplasma arthritidis 158L3-1\n",
        "Successful download: Acidithiobacillus ferrivorans SS3\n",
        "Successful download: Anaplasma phagocytophilum str. HZ2\n",
        "Downloading Microbacterium testaceum StLB037\n",
        "Downloading Bacteroides thetaiotaomicron VPI-5482\n",
        "Successful download: Francisella noatunensis subsp. orientalis str. Toba 04\n",
        "Downloading Lactobacillus reuteri SD2112\n",
        "Successful download: Desulfotomaculum gibsoniae DSM 7213\n",
        "Downloading Prevotella ruminicola 23\n",
        "Successful download: Corynebacterium argentoratense DSM 44202\n",
        "Downloading Streptomyces griseus subsp. griseus NBRC 13350\n",
        "Successful download: Magnetospirillum magneticum AMB-1\n",
        "Downloading Thermosipho africanus TCF52B\n",
        "Successful download: Serratia liquefaciens ATCC 27592\n",
        "Downloading Komagataeibacter xylinus E25\n",
        "Successful download: Lactobacillus amylovorus GRL1118\n",
        "Downloading Mycobacterium rhodesiae NBB3\n",
        "Successful download: Oscillatoria nigro-viridis PCC 7112\n",
        "Downloading Vibrio fischeri ES114\n",
        "Successful download: Leptospira biflexa serovar Patoc strain 'Patoc 1 (Paris)'\n",
        "Downloading Stenotrophomonas maltophilia R551-3\n",
        "Successful download: Mycoplasma arthritidis 158L3-1\n",
        "Downloading Rhizobium etli bv. phaseoli str. IE4803\n",
        "Successful download: Clostridium beijerinckii ATCC 35702\n",
        "Downloading Arthrobacter chlorophenolicus A6\n",
        "Successful download: Coriobacterium glomerans PW2\n",
        "Successful download: Pseudomonas entomophila L48\n",
        "Downloading Enterobacter cloacae subsp. cloacae ATCC 13047\n",
        "Downloading Xanthomonas axonopodis pv. citri str. 306\n",
        "Successful download: Saprospira grandis str. Lewin\n",
        "Downloading Campylobacter insulaenigrae NCTC 12927\n",
        "Successful download: Intrasporangium calvum DSM 43043\n",
        "Downloading Rickettsia heilongjiangensis 054\n",
        "Successful download: Herbaspirillum seropedicae SmR1\n",
        "Successful download: Marinithermus hydrothermalis DSM 14884\n",
        "Downloading Blattabacterium sp. (Periplaneta americana) str. BPLAN\n",
        "Downloading Candidatus Liberibacter asiaticus str. Ishi-1\n",
        "Successful download: Chlorobaculum parvum NCIB 8327\n",
        "Downloading Borrelia parkeri HR1\n",
        "Successful download: Lactobacillus reuteri SD2112\n",
        "Downloading Clostridium autoethanogenum DSM 10061\n",
        "Successful download: Pseudomonas syringae pv. syringae B728a\n",
        "Successful download: Alcanivorax pacificus W11-5\n",
        "Downloading Neisseria meningitidis LNP21362\n",
        "Downloading Treponema brennaborense DSM 12168\n",
        "Successful download: Citrobacter koseri ATCC BAA-895\n",
        "Downloading Pelobacter propionicus DSM 2379\n",
        "Successful download: Leptospira interrogans serovar Copenhageni str. Fiocruz L1-130\n",
        "Downloading Campylobacter jejuni subsp. jejuni M1\n",
        "Successful download: Thermosipho africanus TCF52B\n",
        "Downloading Francisella philomiragia subsp. philomiragia ATCC 25015\n",
        "Successful download: Pseudonocardia dioxanivorans CB1190\n",
        "Successful download: Blattabacterium sp. (Periplaneta americana) str. BPLAN\n",
        "Downloading Trichodesmium erythraeum IMS101\n",
        "Downloading Niastella koreensis GR20-10\n",
        "Successful download: Edwardsiella piscicida C07-087\n",
        "Downloading Nitrosococcus oceani ATCC 19707\n",
        "Successful download: Prevotella ruminicola 23\n",
        "Downloading Paenibacillus polymyxa CR1\n",
        "Successful download: Borrelia parkeri HR1\n",
        "Downloading Mycoplasma penetrans HF-2\n",
        "Successful download: Rickettsia heilongjiangensis 054\n",
        "Downloading Mycobacterium yongonense 05-1390\n",
        "Successful download: Candidatus Liberibacter asiaticus str. Ishi-1\n",
        "Downloading Achromobacter xylosoxidans A8\n",
        "Successful download: Mesorhizobium opportunistum WSM2075\n",
        "Downloading Candidatus Kinetoplastibacterium desouzaii TCC079E\n",
        "Successful download: Komagataeibacter xylinus E25\n",
        "Downloading Terriglobus roseus DSM 18391\n",
        "Successful download: Bacteroides thetaiotaomicron VPI-5482\n",
        "Downloading Slackia heliotrinireducens DSM 20476\n",
        "Successful download: Neisseria meningitidis LNP21362\n",
        "Downloading Candidatus Kinetoplastibacterium blastocrithidii TCC012E\n",
        "Successful download: Microbacterium testaceum StLB037\n",
        "Downloading Prochlorococcus marinus str. MIT 9313\n",
        "Successful download: Campylobacter insulaenigrae NCTC 12927\n",
        "Successful download: Vibrio fischeri ES114\n",
        "Downloading Chlamydophila felis Fe/C-56\n",
        "Downloading Calditerrivibrio nitroreducens DSM 19672\n",
        "Successful download: Francisella philomiragia subsp. philomiragia ATCC 25015\n",
        "Downloading Psychrobacter cryohalolentis K5\n",
        "Successful download: Candidatus Kinetoplastibacterium desouzaii TCC079E\n",
        "Successful download: Mycoplasma penetrans HF-2\n",
        "Downloading Burkholderia glumae BGR1\n",
        "Downloading Streptococcus mutans NN2025\n",
        "Successful download: Amycolatopsis mediterranei S699\n",
        "Downloading Maricaulis maris MCS10\n",
        "Successful download: Treponema brennaborense DSM 12168\n",
        "Downloading Singulisphaera acidiphila DSM 18658\n",
        "Successful download: Campylobacter jejuni subsp. jejuni M1\n",
        "Downloading Rhizobium leguminosarum bv. trifolii WSM2304\n",
        "Successful download: Stenotrophomonas maltophilia R551-3\n",
        "Successful download: Candidatus Kinetoplastibacterium blastocrithidii TCC012E\n",
        "Downloading Candidatus Blochmannia chromaiodes str. 640\n",
        "Downloading Corynebacterium marinum DSM 44953\n",
        "Successful download: Arthrobacter chlorophenolicus A6\n",
        "Downloading Streptococcus thermophilus LMG 18311\n",
        "Successful download: Rhizobium etli bv. phaseoli str. IE4803\n",
        "Downloading Oligotropha carboxidovorans OM4\n",
        "Successful download: Clostridium autoethanogenum DSM 10061\n",
        "Downloading Neisseria lactamica 020-06\n",
        "Successful download: Chlamydophila felis Fe/C-56\n",
        "Downloading Thermoanaerobacterium thermosaccharolyticum M0795\n",
        "Successful download: Pelobacter propionicus DSM 2379\n",
        "Successful download: Xanthomonas axonopodis pv. citri str. 306\n",
        "Downloading Candidatus Uzinura diaspidicola str. ASNER\n",
        "Downloading Brevundimonas subvibrioides ATCC 15264\n",
        "Successful download: Nitrosococcus oceani ATCC 19707\n",
        "Downloading Fimbriimonas ginsengisoli Gsoil 348\n",
        "Successful download: Mycobacterium rhodesiae NBB3\n",
        "Downloading Lactococcus garvieae ATCC 49156\n",
        "Successful download: Candidatus Blochmannia chromaiodes str. 640\n",
        "Downloading Corynebacterium pseudotuberculosis FRC41\n",
        "Successful download: Candidatus Uzinura diaspidicola str. ASNER\n",
        "Downloading Mycobacterium abscessus subsp. bolletii 50594\n",
        "Successful download: Streptomyces griseus subsp. griseus NBRC 13350\n",
        "Downloading Pantoea vagans C9-1\n",
        "Successful download: Slackia heliotrinireducens DSM 20476\n",
        "Downloading Caldicellulosiruptor hydrothermalis 108\n",
        "Successful download: Streptococcus mutans NN2025\n",
        "Downloading Blastococcus saxobsidens DD2\n",
        "Successful download: Calditerrivibrio nitroreducens DSM 19672\n",
        "Downloading Salinibacter ruber DSM 13855\n",
        "Successful download: Enterobacter cloacae subsp. cloacae ATCC 13047\n",
        "Downloading Streptomyces fulvissimus DSM 40593\n",
        "Successful download: Prochlorococcus marinus str. MIT 9313\n",
        "Downloading Syntrophomonas wolfei subsp. wolfei str. Goettingen G311\n",
        "Successful download: Kutzneria albida DSM 43870\n",
        "Downloading Micromonospora aurantiaca ATCC 27029\n",
        "Successful download: Kosakonia sacchari SP1\n",
        "Downloading Borrelia valaisiana VS116\n",
        "Successful download: Psychrobacter cryohalolentis K5\n",
        "Downloading Actinobacillus pleuropneumoniae serovar 5b str. L20\n",
        "Successful download: Streptococcus thermophilus LMG 18311\n",
        "Successful download: Corynebacterium marinum DSM 44953\n",
        "Downloading Rhodospirillum rubrum F11\n",
        "Downloading [Cellvibrio] gilvus ATCC 13127\n",
        "Successful download: Trichodesmium erythraeum IMS101\n",
        "Successful download: Maricaulis maris MCS10\n",
        "Downloading Desulfatibacillum alkenivorans AK-01\n",
        "Downloading Spirosoma linguale DSM 74\n",
        "Successful download: Lactococcus garvieae ATCC 49156\n",
        "Downloading Desulfohalobium retbaense DSM 5692\n",
        "Successful download: Neisseria lactamica 020-06\n",
        "Downloading Methylacidiphilum infernorum V4\n",
        "Successful download: Corynebacterium pseudotuberculosis FRC41\n",
        "Downloading Streptomyces cattleya NRRL 8057 = DSM 46488\n",
        "Successful download: Terriglobus roseus DSM 18391\n",
        "Downloading Herpetosiphon aurantiacus DSM 785\n",
        "Successful download: Mycobacterium yongonense 05-1390\n",
        "Downloading Thermotoga profunda AZM34c06\n",
        "Successful download: Thermoanaerobacterium thermosaccharolyticum M0795\n",
        "Downloading Ralstonia pickettii 12J\n",
        "Successful download: Oligotropha carboxidovorans OM4\n",
        "Downloading Rickettsia africae ESF-5\n",
        "Successful download: Borrelia valaisiana VS116\n",
        "Downloading Flavobacterium branchiophilum FL-15\n",
        "Successful download: Rhizobium leguminosarum bv. trifolii WSM2304\n",
        "Downloading Novosphingobium pentaromativorans US6-1\n",
        "Successful download: Thermotoga profunda AZM34c06\n",
        "Downloading Nocardia nova SH22a\n",
        "Successful download: Actinobacillus pleuropneumoniae serovar 5b str. L20\n",
        "Downloading Zymomonas mobilis subsp. mobilis NRRL B-12526\n",
        "Successful download: Brevundimonas subvibrioides ATCC 15264\n",
        "Downloading Candidatus Ruthia magnifica str. Cm (Calyptogena magnifica)\n",
        "Successful download: Caldicellulosiruptor hydrothermalis 108\n",
        "Downloading Sphingobium chlorophenolicum L-1\n",
        "Successful download: Salinibacter ruber DSM 13855\n",
        "Downloading Desulfomonile tiedjei DSM 6799\n",
        "Successful download: Rickettsia africae ESF-5\n",
        "Downloading Helicobacter acinonychis str. Sheeba\n",
        "Successful download: Fimbriimonas ginsengisoli Gsoil 348\n",
        "Successful download: Pantoea vagans C9-1\n",
        "Downloading Thiocystis violascens DSM 198\n",
        "Downloading Oceanithermus profundus DSM 14977\n",
        "Successful download: Catenulispora acidiphila DSM 44928\n",
        "Successful download: Methylacidiphilum infernorum V4\n",
        "Downloading Oscillatoria acuminata PCC 6304\n",
        "Downloading Rickettsia bellii RML369-C\n",
        "Successful download: Burkholderia glumae BGR1\n",
        "Downloading Paracoccus denitrificans PD1222\n",
        "Successful download: Niastella koreensis GR20-10\n",
        "Downloading Thermotoga lettingae TMO\n",
        "Successful download: Mycobacterium abscessus subsp. bolletii 50594\n",
        "Downloading Buchnera aphidicola str. G002 (Myzus persicae)\n",
        "Successful download: Candidatus Ruthia magnifica str. Cm (Calyptogena magnifica)\n",
        "Downloading Pseudomonas putida F1\n",
        "Successful download: Desulfohalobium retbaense DSM 5692\n",
        "Downloading Burkholderia pseudomallei BPC006\n",
        "Successful download: [Cellvibrio] gilvus ATCC 13127\n",
        "Downloading Spiribacter salinus M19-40\n",
        "Successful download: Syntrophomonas wolfei subsp. wolfei str. Goettingen G311\n",
        "Downloading Clostridium kluyveri NBRC 12016\n",
        "Successful download: Zymomonas mobilis subsp. mobilis NRRL B-12526\n",
        "Downloading Desulfovibrio vulgaris str. 'Miyazaki F'\n",
        "Successful download: Rhodospirillum rubrum F11\n",
        "Downloading Methylobacillus flagellatus KT\n",
        "Successful download: Helicobacter acinonychis str. Sheeba\n",
        "Downloading Ehrlichia ruminantium str. Welgevonden\n",
        "Successful download: Achromobacter xylosoxidans A8\n",
        "Downloading Rhodothermus marinus DSM 4252\n",
        "Successful download: Flavobacterium branchiophilum FL-15\n",
        "Downloading Rickettsia helvetica C9P9\n",
        "Successful download: Buchnera aphidicola str. G002 (Myzus persicae)\n",
        "Downloading Odoribacter splanchnicus DSM 20712\n",
        "Successful download: Rickettsia bellii RML369-C\n",
        "Downloading Dickeya zeae EC1\n",
        "Successful download: Singulisphaera acidiphila DSM 18658\n",
        "Successful download: Rickettsia helvetica C9P9\n",
        "Downloading Granulicella mallensis MP5ACTX8\n",
        "Downloading Streptococcus infantarius subsp. infantarius CJ18\n",
        "Successful download: Spiribacter salinus M19-40\n",
        "Downloading Fervidobacterium pennivorans DSM 9078\n",
        "Successful download: Micromonospora aurantiaca ATCC 27029\n",
        "Downloading Clostridium botulinum 202F\n",
        "Successful download: Oceanithermus profundus DSM 14977\n",
        "Downloading Burkholderia gladioli BSR3\n",
        "Successful download: Thermotoga lettingae TMO\n",
        "Downloading Gloeobacter kilaueensis JS1\n",
        "Successful download: Ehrlichia ruminantium str. Welgevonden\n",
        "Downloading Cycloclasticus zancles 7-ME\n",
        "Successful download: Paenibacillus polymyxa CR1\n",
        "Downloading Spiroplasma syrphidicola EA-1\n",
        "Successful download: Streptomyces cattleya NRRL 8057 = DSM 46488\n",
        "Downloading Sphingomonas sanxanigenens DSM 19645 = NX02\n",
        "Successful download: Sphingobium chlorophenolicum L-1\n",
        "Downloading Anabaena variabilis ATCC 29413\n",
        "Successful download: Blastococcus saxobsidens DD2\n",
        "Downloading Acidovorax ebreus TPSY\n",
        "Successful download: Clostridium kluyveri NBRC 12016\n",
        "Downloading Veillonella parvula DSM 2008\n",
        "Successful download: Desulfovibrio vulgaris str. 'Miyazaki F'\n",
        "Downloading Candidatus Koribacter versatilis Ellin345\n",
        "Successful download: Rhodothermus marinus DSM 4252\n",
        "Downloading Pseudomonas fulva 12-X\n",
        "Successful download: Streptococcus infantarius subsp. infantarius CJ18\n",
        "Downloading Azotobacter chroococcum NCIMB 8003\n",
        "Successful download: Fervidobacterium pennivorans DSM 9078\n",
        "Successful download: Paracoccus denitrificans PD1222\n",
        "Downloading Serratia proteamaculans 568\n",
        "Downloading Pasteurella multocida subsp. multocida str. HN06\n",
        "Successful download: Thiocystis violascens DSM 198\n",
        "Downloading Salmonella bongori NCTC 12419\n",
        "Successful download: Spiroplasma syrphidicola EA-1\n",
        "Downloading Brachyspira hyodysenteriae WA1\n",
        "Successful download: Desulfomonile tiedjei DSM 6799\n",
        "Downloading Candidatus Rickettsia amblyommii str. GAT-30V\n",
        "Successful download: Herpetosiphon aurantiacus DSM 785\n",
        "Successful download: Ralstonia pickettii 12J\n",
        "Downloading Rickettsia slovaca str. D-CWPP\n",
        "Downloading Acetobacter pasteurianus IFO 3283-12\n",
        "Successful download: Odoribacter splanchnicus DSM 20712\n",
        "Downloading Fusobacterium nucleatum subsp. nucleatum ATCC 25586\n",
        "Successful download: Cycloclasticus zancles 7-ME\n",
        "Downloading Mesotoga prima MesG1.Ag.4.2\n",
        "Successful download: Spirosoma linguale DSM 74\n",
        "Successful download: Methylobacillus flagellatus KT\n",
        "Downloading Robiginitalea biformata HTCC2501\n",
        "Downloading Amycolatopsis methanolica 239\n",
        "Successful download: Nocardia nova SH22a\n",
        "Downloading Halomonas elongata DSM 2581\n",
        "Successful download: Dickeya zeae EC1\n",
        "Downloading Pedobacter saltans DSM 12145\n",
        "Successful download: Novosphingobium pentaromativorans US6-1\n",
        "Downloading Eggerthella lenta DSM 2243\n",
        "Successful download: Clostridium botulinum 202F\n",
        "Successful download: Pseudomonas putida F1\n",
        "Downloading Halobacteroides halobius DSM 5150\n",
        "Downloading Klebsiella variicola At-22\n",
        "Successful download: Veillonella parvula DSM 2008\n",
        "Downloading Sulfurospirillum barnesii SES-3\n",
        "Successful download: Oscillatoria acuminata PCC 6304\n",
        "Downloading Thermotoga neapolitana DSM 4359\n",
        "Successful download: Candidatus Rickettsia amblyommii str. GAT-30V\n",
        "Downloading Weeksella virosa DSM 16922\n",
        "Successful download: Gloeobacter kilaueensis JS1\n",
        "Downloading Planctomyces limnophilus DSM 3776\n",
        "Successful download: Pasteurella multocida subsp. multocida str. HN06\n",
        "Downloading Ketogulonicigenium vulgare WSH-001\n",
        "Successful download: Rickettsia slovaca str. D-CWPP\n",
        "Downloading Syntrophus aciditrophicus SB\n",
        "Successful download: Fusobacterium nucleatum subsp. nucleatum ATCC 25586\n",
        "Downloading Orientia tsutsugamushi str. Boryong\n",
        "Successful download: Acidovorax ebreus TPSY\n",
        "Successful download: Burkholderia pseudomallei BPC006\n",
        "Downloading Rhodospirillum photometricum DSM 122\n",
        "Downloading Ureaplasma parvum serovar 3 str. ATCC 700970\n",
        "Successful download: Streptomyces fulvissimus DSM 40593\n",
        "Downloading Taylorella equigenitalis MCE9\n",
        "Successful download: Granulicella mallensis MP5ACTX8\n",
        "Downloading Xylanimonas cellulosilytica DSM 15894\n",
        "Successful download: Acetobacter pasteurianus IFO 3283-12\n",
        "Downloading Streptococcus agalactiae COH1\n",
        "Successful download: Brachyspira hyodysenteriae WA1\n",
        "Downloading Desulfobacca acetoxidans DSM 11109\n",
        "Successful download: Mesotoga prima MesG1.Ag.4.2\n",
        "Downloading Candidatus Arthromitus sp. SFB-mouse-Yit\n",
        "Successful download: Desulfatibacillum alkenivorans AK-01\n",
        "Successful download: Ureaplasma parvum serovar 3 str. ATCC 700970\n",
        "Downloading Haemophilus somnus 129PT\n",
        "Downloading Streptococcus pneumoniae ST556\n",
        "Successful download: Robiginitalea biformata HTCC2501\n",
        "Downloading Bacillus methanolicus MGA3\n",
        "Successful download: Thermotoga neapolitana DSM 4359\n",
        "Downloading Cronobacter sakazakii SP291\n",
        "Successful download: Halobacteroides halobius DSM 5150\n",
        "Downloading Tsukamurella paurometabola DSM 20162\n",
        "Successful download: Candidatus Koribacter versatilis Ellin345\n",
        "Downloading Geobacter metallireducens GS-15\n",
        "Successful download: Weeksella virosa DSM 16922\n",
        "Downloading Shigella dysenteriae Sd197\n",
        "Successful download: Azotobacter chroococcum NCIMB 8003\n",
        "Downloading Gluconacetobacter diazotrophicus PA1 5\n",
        "Successful download: Taylorella equigenitalis MCE9\n",
        "Downloading Streptococcus constellatus subsp. pharyngis C232\n",
        "Successful download: Sulfurospirillum barnesii SES-3\n",
        "Successful download: Ketogulonicigenium vulgare WSH-001\n",
        "Downloading Parabacteroides distasonis ATCC 8503\n",
        "Downloading Borrelia burgdorferi ZS7\n",
        "Successful download: Orientia tsutsugamushi str. Boryong\n",
        "Downloading Desulfosporosinus acidiphilus SJ4\n",
        "Successful download: Pseudomonas fulva 12-X\n",
        "Downloading Deinococcus deserti VCD115\n",
        "Successful download: Burkholderia gladioli BSR3\n",
        "Downloading Sanguibacter keddieii DSM 10542\n",
        "Successful download: Candidatus Arthromitus sp. SFB-mouse-Yit\n",
        "Successful download: Anabaena variabilis ATCC 29413\n",
        "Downloading Eubacterium rectale ATCC 33656\n",
        "Downloading Chlamydophila caviae GPIC\n",
        "Successful download: Halomonas elongata DSM 2581\n",
        "Downloading Agrobacterium vitis S4\n",
        "Successful download: Eggerthella lenta DSM 2243\n",
        "Successful download: Syntrophus aciditrophicus SB\n",
        "Downloading Bacillus halodurans C-125\n",
        "Downloading Candidatus Carsonella ruddii PV\n",
        "Successful download: Pedobacter saltans DSM 12145\n",
        "Downloading Salmonella enterica subsp. enterica serovar Heidelberg str. CFSAN002069\n",
        "Successful download: Haemophilus somnus 129PT\n",
        "Successful download: Streptococcus agalactiae COH1\n",
        "Downloading Thermobifida fusca YX\n",
        "Successful download: Sphingomonas sanxanigenens DSM 19645 = NX02\n",
        "Downloading Chromobacterium violaceum ATCC 12472\n",
        "Downloading Hymenobacter swuensis DY53\n",
        "Successful download: Streptococcus pneumoniae ST556\n",
        "Downloading Cyanobium gracile PCC 6307\n",
        "Successful download: Borrelia burgdorferi ZS7\n",
        "Downloading Anaerolinea thermophila UNI-1\n",
        "Successful download: Candidatus Carsonella ruddii PV\n",
        "Downloading Caldisericum exile AZM16c01\n",
        "Successful download: Desulfobacca acetoxidans DSM 11109\n",
        "Downloading Aggregatibacter aphrophilus NJ8700\n",
        "Successful download: Chlamydophila caviae GPIC\n",
        "Downloading Wolbachia endosymbiont of Onchocerca volvulus str. Cameroon\n",
        "Successful download: Streptococcus constellatus subsp. pharyngis C232\n",
        "Downloading Candidatus Accumulibacter phosphatis clade IIA str. UW-1\n",
        "Successful download: Xylanimonas cellulosilytica DSM 15894\n",
        "Downloading Bacillus licheniformis DSM 13 = ATCC 14580\n",
        "Successful download: Planctomyces limnophilus DSM 3776\n",
        "Downloading Isosphaera pallida ATCC 43644\n",
        "Successful download: Wolbachia endosymbiont of Onchocerca volvulus str. Cameroon\n",
        "Downloading Acidovorax citrulli AAC00-1\n",
        "Successful download: Bacillus methanolicus MGA3\n",
        "Downloading Cryptobacterium curtum DSM 15641\n",
        "Successful download: Klebsiella variicola At-22\n",
        "Downloading Caldicellulosiruptor bescii DSM 6725\n",
        "Successful download: Salmonella bongori NCTC 12419\n",
        "Downloading Pseudomonas knackmussii B13\n",
        "Successful download: Deinococcus deserti VCD115\n",
        "Downloading [Clostridium] clariflavum DSM 19732\n",
        "Successful download: Rhodospirillum photometricum DSM 122\n",
        "Downloading Renibacterium salmoninarum ATCC 33209\n",
        "Successful download: Serratia proteamaculans 568\n",
        "Downloading Tepidanaerobacter acetatoxydans Re1\n",
        "Successful download: Cronobacter sakazakii SP291\n",
        "Downloading Caldicellulosiruptor obsidiansis OB47\n",
        "Successful download: Geobacter metallireducens GS-15\n",
        "Downloading Bacillus amyloliquefaciens SQR9\n",
        "Successful download: Sanguibacter keddieii DSM 10542\n",
        "Downloading Nitrosomonas europaea ATCC 19718\n",
        "Successful download: Caldisericum exile AZM16c01\n",
        "Downloading Thermobaculum terrenum ATCC BAA-798\n",
        "Successful download: Shigella dysenteriae Sd197\n",
        "Downloading cyanobacterium endosymbiont of Epithemia turgida isolate EtSB Lake Yunoko\n",
        "Successful download: Tsukamurella paurometabola DSM 20162\n",
        "Downloading Borrelia recurrentis A1\n",
        "Successful download: Amycolatopsis methanolica 239\n",
        "Downloading Bacillus subtilis PY79\n",
        "Successful download: Aggregatibacter aphrophilus NJ8700\n",
        "Downloading Brucella suis bv. 1 str. S2\n",
        "Successful download: Eubacterium rectale ATCC 33656\n",
        "Downloading Corynebacterium ulcerans BR-AD22\n",
        "Successful download: Bacillus halodurans C-125\n",
        "Downloading Streptococcus salivarius JIM8777\n",
        "Successful download: Cryptobacterium curtum DSM 15641\n",
        "Downloading Marinitoga piezophila KA3\n",
        "Successful download: Desulfosporosinus acidiphilus SJ4\n",
        "Downloading Thermoanaerobacter italicus Ab9\n",
        "Successful download: Gluconacetobacter diazotrophicus PA1 5\n",
        "Successful download: Thermobifida fusca YX\n",
        "Downloading Marivirga tractuosa DSM 4126\n",
        "Downloading Pleurocapsa sp. PCC 7327\n",
        "Successful download: Anaerolinea thermophila UNI-1\n",
        "Downloading Corynebacterium callunae DSM 20147\n",
        "Successful download: Borrelia recurrentis A1\n",
        "Downloading Lactobacillus sakei subsp. sakei 23K\n",
        "Successful download: Hymenobacter swuensis DY53\n",
        "Downloading Chlamydophila abortus S26/3\n",
        "Successful download: Bacillus licheniformis DSM 13 = ATCC 14580\n",
        "Downloading Cardinium endosymbiont cEper1 of Encarsia pergandiella\n",
        "Successful download: Caldicellulosiruptor obsidiansis OB47\n",
        "Downloading Anoxybacillus flavithermus WK1\n",
        "Successful download: Cyanobium gracile PCC 6307\n",
        "Downloading Hyphomonas neptunium ATCC 15444\n",
        "Successful download: Chromobacterium violaceum ATCC 12472\n",
        "Downloading Leisingera methylohalidivorans DSM 14336\n",
        "Successful download: Agrobacterium vitis S4\n",
        "Downloading Magnetococcus marinus MC-1\n",
        "Successful download: Corynebacterium ulcerans BR-AD22\n",
        "Downloading Heliobacterium modesticaldum Ice1\n",
        "Successful download: Tepidanaerobacter acetatoxydans Re1\n",
        "Downloading Clostridium acetobutylicum DSM 1731\n",
        "Successful download: Isosphaera pallida ATCC 43644\n",
        "Downloading Brucella melitensis ATCC 23457\n",
        "Successful download: Streptococcus salivarius JIM8777\n",
        "Downloading Dickeya dadantii 3937\n",
        "Successful download: Cardinium endosymbiont cEper1 of Encarsia pergandiella\n",
        "Downloading Desulfurella acetivorans A63\n",
        "Successful download: Caldicellulosiruptor bescii DSM 6725\n",
        "Successful download: Marinitoga piezophila KA3\n",
        "Successful download: Candidatus Accumulibacter phosphatis clade IIA str. UW-1\n",
        "Downloading Pediococcus claussenii ATCC BAA-344\n",
        "Downloading Barnesiella viscericola DSM 18177\n",
        "Downloading Ruminococcus albus 7 = DSM 20455\n",
        "Successful download: Parabacteroides distasonis ATCC 8503\n",
        "Downloading Thermotoga petrophila RKU-1\n",
        "Successful download: Salmonella enterica subsp. enterica serovar Heidelberg str. CFSAN002069\n",
        "Downloading Thermotoga hypogea NBRC 106472\n",
        "Successful download: cyanobacterium endosymbiont of Epithemia turgida isolate EtSB Lake Yunoko\n",
        "Downloading Staphylococcus pseudintermedius ED99\n",
        "Successful download: Brucella suis bv. 1 str. S2\n",
        "Downloading Corallococcus coralloides DSM 2259\n",
        "Successful download: Acidovorax citrulli AAC00-1\n",
        "Downloading Elizabethkingia anophelis NUHP1\n",
        "Successful download: Renibacterium salmoninarum ATCC 33209\n",
        "Downloading Sinorhizobium fredii NGR234\n",
        "Successful download: Chlamydophila abortus S26/3\n",
        "Successful download: Corynebacterium callunae DSM 20147\n",
        "Downloading Acidimicrobium ferrooxidans DSM 10331\n",
        "Downloading Peptoclostridium difficile BI1\n",
        "Successful download: Nitrosomonas europaea ATCC 19718\n",
        "Downloading Streptomyces avermitilis MA-4680 = NBRC 14893\n",
        "Successful download: Thermobaculum terrenum ATCC BAA-798\n",
        "Downloading Yersinia frederiksenii Y225\n",
        "Successful download: Bacillus amyloliquefaciens SQR9\n",
        "Downloading Clostridium lentocellum DSM 5427\n",
        "Successful download: Thermoanaerobacter italicus Ab9\n",
        "Downloading Staphylococcus lugdunensis N920143\n",
        "Successful download: Thermotoga hypogea NBRC 106472\n",
        "Downloading Candidatus Kinetoplastibacterium galatii TCC219\n",
        "Successful download: Bacillus subtilis PY79\n",
        "Downloading Propionibacterium acnes 6609\n",
        "Successful download: Lactobacillus sakei subsp. sakei 23K\n",
        "Downloading Bifidobacterium pseudolongum PV8-2\n",
        "Successful download: Anoxybacillus flavithermus WK1\n",
        "Downloading Desulfitobacterium dehalogenans ATCC 51507\n",
        "Successful download: Candidatus Kinetoplastibacterium galatii TCC219\n",
        "Downloading Treponema denticola ATCC 35405\n",
        "Successful download: [Clostridium] clariflavum DSM 19732\n",
        "Downloading Mycoplasma wenyonii str. Massachusetts\n",
        "Successful download: Thermotoga petrophila RKU-1\n",
        "Downloading Enterobacter lignolyticus SCF1\n",
        "Successful download: Hyphomonas neptunium ATCC 15444\n",
        "Downloading Acetobacterium woodii DSM 1030\n",
        "Successful download: Heliobacterium modesticaldum Ice1\n",
        "Downloading Propionibacterium freudenreichii subsp. shermanii CIRM-BIA1\n",
        "Successful download: Desulfurella acetivorans A63\n",
        "Downloading Streptomyces hygroscopicus subsp. jinggangensis 5008\n",
        "Successful download: Staphylococcus pseudintermedius ED99\n",
        "Downloading Caulobacter segnis ATCC 21756\n",
        "Successful download: Marivirga tractuosa DSM 4126\n",
        "Downloading Spiroplasma mirum ATCC 29335\n",
        "Successful download: Pediococcus claussenii ATCC BAA-344\n",
        "Downloading Acidobacterium capsulatum ATCC 51196\n",
        "Successful download: Acidimicrobium ferrooxidans DSM 10331\n",
        "Downloading Desulfitobacterium hafniense DCB-2\n",
        "Successful download: Barnesiella viscericola DSM 18177\n",
        "Downloading Pelotomaculum thermopropionicum SI\n",
        "Successful download: Pleurocapsa sp. PCC 7327\n",
        "Downloading Macrococcus caseolyticus JCSC5402\n",
        "Successful download: Peptoclostridium difficile BI1\n",
        "Downloading Thermotoga thermarum DSM 5069\n",
        "Successful download: Mycoplasma wenyonii str. Massachusetts\n",
        "Downloading Spirochaeta thermophila DSM 6578\n",
        "Successful download: Bifidobacterium pseudolongum PV8-2\n",
        "Downloading Thiobacillus denitrificans ATCC 25259\n",
        "Successful download: Leisingera methylohalidivorans DSM 14336\n",
        "Downloading Lactobacillus buchneri NRRL B-30929\n",
        "Successful download: Magnetococcus marinus MC-1\n",
        "Downloading Belliella baltica DSM 15883\n",
        "Successful download: Brucella melitensis ATCC 23457\n",
        "Downloading Desulfobacterium autotrophicum HRM2\n",
        "Successful download: Propionibacterium acnes 6609\n",
        "Downloading Fibrobacter succinogenes subsp. succinogenes S85\n",
        "Successful download: Clostridium acetobutylicum DSM 1731\n",
        "Downloading Aminobacterium colombiense DSM 12261\n",
        "Successful download: Pseudomonas knackmussii B13\n",
        "Successful download: Sinorhizobium fredii NGR234\n",
        "Downloading Mobiluncus curtisii ATCC 43063\n",
        "Downloading Bradyrhizobium japonicum USDA 6\n",
        "Successful download: Spiroplasma mirum ATCC 29335\n",
        "Downloading Butyrivibrio proteoclasticus B316\n",
        "Successful download: Staphylococcus lugdunensis N920143\n",
        "Downloading Planktomarina temperata RCA23\n",
        "Successful download: Ruminococcus albus 7 = DSM 20455\n",
        "Downloading Staphylococcus epidermidis RP62A\n",
        "Successful download: Treponema denticola ATCC 35405\n",
        "Downloading Sulfurimonas denitrificans DSM 1251\n",
        "Successful download: Macrococcus caseolyticus JCSC5402\n",
        "Downloading Dyella japonica A8\n",
        "Successful download: Propionibacterium freudenreichii subsp. shermanii CIRM-BIA1\n",
        "Downloading Wolbachia endosymbiont of Drosophila simulans wHa\n",
        "Successful download: Elizabethkingia anophelis NUHP1\n",
        "Downloading Candidatus Liberibacter solanacearum CLso-ZC1\n",
        "Successful download: Dickeya dadantii 3937\n",
        "Downloading Rhodococcus erythropolis PR4\n",
        "Successful download: Thermotoga thermarum DSM 5069\n",
        "Downloading [Clostridium] acidurici 9a\n",
        "Successful download: Desulfitobacterium dehalogenans ATCC 51507\n",
        "Downloading Psychroflexus torquis ATCC 700755\n",
        "Successful download: Acetobacterium woodii DSM 1030\n",
        "Downloading Corynebacterium halotolerans YIM 70093 = DSM 44683\n",
        "Successful download: Pelotomaculum thermopropionicum SI\n",
        "Downloading Bacillus clausii KSM-K16\n",
        "Successful download: Spirochaeta thermophila DSM 6578\n",
        "Downloading Dinoroseobacter shibae DFL 12 = DSM 16493\n",
        "Successful download: Clostridium lentocellum DSM 5427\n",
        "Downloading Raoultella ornithinolytica B6\n",
        "Successful download: Aminobacterium colombiense DSM 12261\n",
        "Downloading Thermodesulfovibrio yellowstonii DSM 11347\n",
        "Successful download: Yersinia frederiksenii Y225\n",
        "Downloading Lactobacillus delbrueckii subsp. bulgaricus 2038\n",
        "Successful download: Thiobacillus denitrificans ATCC 25259\n",
        "Downloading Mycobacterium intracellulare 1956\n",
        "Successful download: Candidatus Liberibacter solanacearum CLso-ZC1\n",
        "Downloading Actinobacillus equuli subsp. equuli\n",
        "Successful download: Wolbachia endosymbiont of Drosophila simulans wHa\n",
        "Downloading Desulfococcus oleovorans Hxd3\n",
        "Successful download: Lactobacillus buchneri NRRL B-30929\n",
        "Successful download: Sulfurimonas denitrificans DSM 1251\n",
        "Downloading Haemophilus ducreyi 35000HP\n",
        "Downloading Bdellovibrio bacteriovorus W\n",
        "Successful download: Staphylococcus epidermidis RP62A\n",
        "Downloading Thermobacillus composti KWC4\n",
        "Successful download: Mobiluncus curtisii ATCC 43063\n",
        "Downloading Alkaliphilus oremlandii OhILAs\n",
        "Successful download: Acidobacterium capsulatum ATCC 51196\n",
        "Downloading Dehalogenimonas lykanthroporepellens BL-DC-9\n",
        "Successful download: Caulobacter segnis ATCC 21756\n",
        "Successful download: Enterobacter lignolyticus SCF1\n",
        "Downloading Bartonella vinsonii subsp. berkhoffii str. Winnie\n",
        "Downloading Amycolicicoccus subflavus DQS3-9A1\n",
        "Successful download: Butyrivibrio proteoclasticus B316\n",
        "Downloading Kribbella flavida DSM 17836\n",
        "Successful download: Streptomyces avermitilis MA-4680 = NBRC 14893\n",
        "Downloading Campylobacter subantarcticus LMG 24377\n",
        "Successful download: Corallococcus coralloides DSM 2259\n",
        "Downloading Arcobacter butzleri 7h1h\n",
        "Successful download: Belliella baltica DSM 15883\n",
        "Downloading Erythrobacter litoralis HTCC2594\n",
        "Successful download: Fibrobacter succinogenes subsp. succinogenes S85\n",
        "Downloading Mycoplasma crocodyli MP145\n",
        "Successful download: Lactobacillus delbrueckii subsp. bulgaricus 2038\n",
        "Downloading Chloroherpeton thalassium ATCC 35110\n",
        "Successful download: Desulfobacterium autotrophicum HRM2\n",
        "Downloading Eubacterium acidaminophilum DSM 3953\n",
        "Successful download: Thermodesulfovibrio yellowstonii DSM 11347\n",
        "Downloading Shewanella piezotolerans WP3\n",
        "Successful download: [Clostridium] acidurici 9a\n",
        "Downloading Oceanobacillus iheyensis HTE831\n",
        "Successful download: Haemophilus ducreyi 35000HP\n",
        "Downloading Anaplasma marginale str. Florida\n",
        "Successful download: Actinobacillus equuli subsp. equuli\n",
        "Downloading Mycoplasma genitalium M6320\n",
        "Successful download: Psychroflexus torquis ATCC 700755\n",
        "Downloading Mycoplasma bovoculi M165/69\n",
        "Successful download: Dyella japonica A8\n",
        "Downloading Bifidobacterium thermophilum RBL67\n",
        "Successful download: Corynebacterium halotolerans YIM 70093 = DSM 44683\n",
        "Downloading Desulfocapsa sulfexigens DSM 10523\n",
        "Successful download: Bartonella vinsonii subsp. berkhoffii str. Winnie\n",
        "Downloading Sphaerochaeta pleomorpha str. Grapes\n",
        "Successful download: Mycoplasma crocodyli MP145\n",
        "Downloading Leptospirillum ferrooxidans C2-3\n",
        "Successful download: Bdellovibrio bacteriovorus W\n",
        "Downloading Candidatus Azobacteroides pseudotrichonymphae genomovar. CFP2\n",
        "Successful download: Bacillus clausii KSM-K16\n",
        "Downloading Helicobacter cetorum MIT 00-7128\n",
        "Successful download: Dinoroseobacter shibae DFL 12 = DSM 16493\n",
        "Downloading Nitrosospira multiformis ATCC 25196\n",
        "Successful download: Mycoplasma genitalium M6320\n",
        "Downloading Borrelia garinii SZ\n",
        "Successful download: Mycoplasma bovoculi M165/69\n",
        "Downloading Thermodesulfobium narugense DSM 14796\n",
        "Successful download: Campylobacter subantarcticus LMG 24377\n",
        "Downloading Sphaerochaeta globosa str. Buddy\n",
        "Successful download: Dehalogenimonas lykanthroporepellens BL-DC-9\n",
        "Downloading Bifidobacterium longum DJO10A\n",
        "Successful download: Desulfitobacterium hafniense DCB-2\n",
        "Downloading Ruminiclostridium thermocellum DSM 1313\n",
        "Successful download: Eubacterium acidaminophilum DSM 3953\n",
        "Successful download: Anaplasma marginale str. Florida\n",
        "Downloading Beijerinckia indica subsp. indica ATCC 9039\n",
        "Downloading Cytophaga hutchinsonii ATCC 33406\n",
        "Successful download: Arcobacter butzleri 7h1h\n",
        "Downloading Thermodesulfobacterium geofontis OPF15\n",
        "Successful download: Candidatus Azobacteroides pseudotrichonymphae genomovar. CFP2\n",
        "Downloading Agrobacterium radiobacter K84\n",
        "Successful download: Streptomyces hygroscopicus subsp. jinggangensis 5008\n",
        "Successful download: Desulfococcus oleovorans Hxd3\n",
        "Downloading Shewanella violacea DSS12\n",
        "Downloading Desulfurivibrio alkaliphilus AHT2\n",
        "Successful download: Bifidobacterium thermophilum RBL67\n",
        "Downloading Burkholderia vietnamiensis G4\n",
        "Successful download: Alkaliphilus oremlandii OhILAs\n",
        "Downloading Solibacillus silvestris StLB046\n",
        "Successful download: Borrelia garinii SZ\n",
        "Downloading Methylococcus capsulatus str. Bath\n",
        "Successful download: Thermobacillus composti KWC4\n",
        "Downloading Rhodospirillum centenum SW\n",
        "Successful download: Rhodococcus erythropolis PR4\n",
        "Successful download: Mycobacterium intracellulare 1956\n",
        "Downloading Pseudomonas monteilii SB3101\n",
        "Downloading Alicyclobacillus acidocaldarius subsp. acidocaldarius DSM 446\n",
        "Successful download: Erythrobacter litoralis HTCC2594\n",
        "Downloading Bordetella parapertussis Bpp5\n",
        "Successful download: Chloroherpeton thalassium ATCC 35110\n",
        "Downloading Stigmatella aurantiaca DW4/3-1\n",
        "Successful download: Bradyrhizobium japonicum USDA 6\n",
        "Downloading Capnocytophaga canimorsus Cc5\n",
        "Successful download: Helicobacter cetorum MIT 00-7128\n",
        "Downloading Thermoanaerobacter wiegelii Rt8.B1\n",
        "Successful download: Amycolicicoccus subflavus DQS3-9A1\n",
        "Downloading Borrelia garinii PBi\n",
        "Successful download: Leptospirillum ferrooxidans C2-3\n",
        "Downloading Streptococcus dysgalactiae subsp. equisimilis 167\n",
        "Successful download: Raoultella ornithinolytica B6\n",
        "Downloading Actinoplanes missouriensis 431\n",
        "Successful download: Thermodesulfobium narugense DSM 14796\n",
        "Downloading Aeromonas hydrophila AL09-71\n",
        "Successful download: Planktomarina temperata RCA23\n",
        "Downloading Candidatus Ishikawaella capsulata Mpkobe\n",
        "Successful download: Oceanobacillus iheyensis HTE831\n",
        "Downloading Thermomonospora curvata DSM 43183\n",
        "Successful download: Bifidobacterium longum DJO10A\n",
        "Downloading Castellaniella defragrans 65Phen\n",
        "Successful download: Thermodesulfobacterium geofontis OPF15\n",
        "Downloading Bartonella grahamii as4aup\n",
        "Successful download: Shewanella piezotolerans WP3\n",
        "Downloading Nakamurella multipartita DSM 44233\n",
        "Successful download: Sphaerochaeta pleomorpha str. Grapes\n",
        "Downloading Lawsonia intracellularis N343\n",
        "Successful download: Nitrosospira multiformis ATCC 25196\n",
        "Downloading Nocardia farcinica IFM 10152\n",
        "Successful download: Desulfocapsa sulfexigens DSM 10523\n",
        "Downloading Bacillus toyonensis BCT-7112\n",
        "Successful download: Borrelia garinii PBi\n",
        "Downloading Hirschia baltica ATCC 49814\n",
        "Successful download: Candidatus Ishikawaella capsulata Mpkobe\n",
        "Downloading Lactobacillus kefiranofaciens ZW3\n",
        "Successful download: Desulfurivibrio alkaliphilus AHT2\n",
        "Successful download: Sphaerochaeta globosa str. Buddy\n",
        "Downloading Liberibacter crescens BT-1\n",
        "Downloading Gardnerella vaginalis ATCC 14019\n",
        "Successful download: Ruminiclostridium thermocellum DSM 1313\n",
        "Downloading Candidatus Sodalis pierantonius str. SOPE\n",
        "Successful download: Bordetella parapertussis Bpp5\n",
        "Downloading Mycoplasma yeatsii GM274B\n",
        "Successful download: Cytophaga hutchinsonii ATCC 33406\n",
        "Downloading Mycobacterium avium subsp. avium 2285 (R)\n",
        "Successful download: Methylococcus capsulatus str. Bath\n",
        "Downloading Oenococcus kitaharae DSM 17330\n",
        "Successful download: Capnocytophaga canimorsus Cc5\n",
        "Downloading Corynebacterium casei LMG S-19264\n",
        "Successful download: Streptococcus dysgalactiae subsp. equisimilis 167\n",
        "Downloading Clavibacter michiganensis subsp. sepedonicus\n",
        "Successful download: Beijerinckia indica subsp. indica ATCC 9039\n",
        "Downloading Sulfurimonas gotlandica GD1\n",
        "Successful download: Lawsonia intracellularis N343\n",
        "Downloading Cyclobacterium marinum DSM 745\n",
        "Successful download: Bartonella grahamii as4aup\n",
        "Downloading Aeromonas salmonicida subsp. salmonicida A449\n",
        "Successful download: Thermoanaerobacter wiegelii Rt8.B1\n",
        "Downloading Psychromonas ingrahamii 37\n",
        "Successful download: Mycoplasma yeatsii GM274B\n",
        "Successful download: Kribbella flavida DSM 17836\n",
        "Downloading Eubacterium limosum KIST612\n",
        "Downloading Mycobacterium kansasii ATCC 12478\n",
        "Successful download: Alicyclobacillus acidocaldarius subsp. acidocaldarius DSM 446\n",
        "Downloading Caulobacter crescentus NA1000\n",
        "Successful download: Lactobacillus kefiranofaciens ZW3\n",
        "Downloading Dehalococcoides mccartyi CG5\n",
        "Successful download: Rhodospirillum centenum SW\n",
        "Downloading Mycoplasma mycoides subsp. mycoides\n",
        "Successful download: Liberibacter crescens BT-1\n",
        "Downloading Dictyoglomus turgidum DSM 6724\n",
        "Successful download: Gardnerella vaginalis ATCC 14019\n",
        "Downloading Comamonas testosteroni TK102\n",
        "Successful download: Oenococcus kitaharae DSM 17330\n",
        "Downloading Chlorobium phaeovibrioides DSM 265\n",
        "Successful download: Solibacillus silvestris StLB046\n",
        "Downloading Ralstonia eutropha H16\n",
        "Successful download: Shewanella violacea DSS12\n",
        "Downloading Erwinia billingiae Eb661\n",
        "Successful download: Aeromonas hydrophila AL09-71\n",
        "Downloading Mycoplasma ovis str. Michigan\n",
        "Successful download: Agrobacterium radiobacter K84\n",
        "Successful download: Corynebacterium casei LMG S-19264\n",
        "Downloading Burkholderia cepacia GG4\n",
        "Successful download: Mycoplasma mycoides subsp. mycoides\n",
        "Downloading Mesorhizobium australicum WSM2073\n",
        "Successful download: Pseudomonas monteilii SB3101\n",
        "Downloading Thermanaerovibrio acidaminovorans DSM 6589\n",
        "Downloading Chitinophaga pinensis DSM 2588\n",
        "Successful download: Castellaniella defragrans 65Phen\n",
        "Downloading Lactobacillus fermentum F-6\n",
        "Successful download: Hirschia baltica ATCC 49814\n",
        "Downloading Kyrpidia tusciae DSM 2912\n",
        "Successful download: Dehalococcoides mccartyi CG5\n",
        "Downloading Xanthobacter autotrophicus Py2\n",
        "Successful download: Sulfurimonas gotlandica GD1\n",
        "Downloading Rickettsia australis str. Cutlack\n",
        "Successful download: Dictyoglomus turgidum DSM 6724\n",
        "Downloading Candidatus Atelocyanobacterium thalassa isolate ALOHA\n",
        "Successful download: Candidatus Sodalis pierantonius str. SOPE\n",
        "Downloading Shewanella denitrificans OS217\n",
        "Successful download: Chlorobium phaeovibrioides DSM 265\n",
        "Downloading Deferribacter desulfuricans SSM1\n",
        "Successful download: Mycoplasma ovis str. Michigan\n",
        "Downloading Roseiflexus castenholzii DSM 13941\n",
        "Successful download: Thermomonospora curvata DSM 43183\n",
        "Downloading Moorella thermoacetica ATCC 39073\n",
        "Successful download: Bacillus toyonensis BCT-7112\n",
        "Downloading Desulfotomaculum kuznetsovii DSM 6115\n",
        "Successful download: Stigmatella aurantiaca DW4/3-1\n",
        "Downloading Desulfarculus baarsii DSM 2075\n",
        "Successful download: Mycobacterium avium subsp. avium 2285 (R)\n",
        "Downloading Geobacillus thermoleovorans CCB_US3_UF5\n",
        "Successful download: Lactobacillus fermentum F-6\n",
        "Downloading Chlorobium phaeobacteroides DSM 266\n",
        "Successful download: Thermanaerovibrio acidaminovorans DSM 6589\n",
        "Downloading Aster yellows witches'-broom phytoplasma AYWB\n",
        "Successful download: Caulobacter crescentus NA1000\n",
        "Downloading Anabaena cylindrica PCC 7122\n",
        "Successful download: Clavibacter michiganensis subsp. sepedonicus\n",
        "Downloading Xanthomonas axonopodis pv. citrumelo F1\n",
        "Successful download: Candidatus Atelocyanobacterium thalassa isolate ALOHA\n",
        "Downloading Acidithiobacillus ferrooxidans ATCC 53993\n",
        "Successful download: Nakamurella multipartita DSM 44233\n",
        "Downloading Arthrobacter aurescens TC1\n",
        "Successful download: Aeromonas salmonicida subsp. salmonicida A449\n",
        "Downloading Corynebacterium jeikeium K411\n",
        "Successful download: Eubacterium limosum KIST612\n",
        "Downloading Chlamydia psittaci MN\n",
        "Successful download: Rickettsia australis str. Cutlack\n",
        "Downloading Cellulophaga algicola DSM 14237\n",
        "Successful download: Nocardia farcinica IFM 10152\n",
        "Downloading Tannerella forsythia ATCC 43037\n",
        "Successful download: Psychromonas ingrahamii 37\n",
        "Downloading Xanthomonas axonopodis Xac29-1\n",
        "Successful download: Aster yellows witches'-broom phytoplasma AYWB\n",
        "Downloading Bacillus cytotoxicus NVH 391-98\n",
        "Successful download: Deferribacter desulfuricans SSM1\n",
        "Downloading Rhizobium tropici CIAT 899\n",
        "Successful download: Actinoplanes missouriensis 431\n",
        "Downloading Chlamydophila pneumoniae CWL029\n",
        "Successful download: Kyrpidia tusciae DSM 2912\n",
        "Downloading Acinetobacter oleivorans DR1\n",
        "Successful download: Mycobacterium kansasii ATCC 12478\n",
        "Downloading Isoptericola variabilis 225\n",
        "Successful download: Chlamydia psittaci MN\n",
        "Successful download: Comamonas testosteroni TK102\n",
        "Downloading Vibrio tasmaniensis LGP32\n",
        "Downloading Bifidobacterium adolescentis ATCC 15703\n",
        "Successful download: Moorella thermoacetica ATCC 39073\n",
        "Downloading Pedobacter heparinus DSM 2366\n",
        "Successful download: Burkholderia vietnamiensis G4\n",
        "Downloading Xanthomonas albilineans GPE PC73\n",
        "Successful download: Chlorobium phaeobacteroides DSM 266\n",
        "Downloading Desulfovibrio aespoeensis Aspo-2\n",
        "Successful download: Shewanella denitrificans OS217\n",
        "Downloading Pirellula staleyi DSM 6068\n",
        "Successful download: Chlamydophila pneumoniae CWL029\n",
        "Downloading Leptotrichia buccalis C-1013-b\n",
        "Successful download: Acidithiobacillus ferrooxidans ATCC 53993\n",
        "Downloading Nocardia cyriacigeorgica GUH-2\n",
        "Successful download: Desulfotomaculum kuznetsovii DSM 6115\n",
        "Downloading Neorhizobium galegae bv. officinalis bv. officinalis str. HAMBI 1141\n",
        "Successful download: Corynebacterium jeikeium K411\n",
        "Downloading Prosthecochloris aestuarii DSM 271\n",
        "Successful download: Cyclobacterium marinum DSM 745\n",
        "Downloading Rhodococcus jostii RHA1\n",
        "Successful download: Geobacillus thermoleovorans CCB_US3_UF5\n",
        "Successful download: Desulfarculus baarsii DSM 2075\n",
        "Downloading Melioribacter roseus P3M-2\n",
        "Downloading Candidatus Pelagibacter ubique HTCC1062\n",
        "Successful download: Xanthobacter autotrophicus Py2\n",
        "Downloading Serratia fonticola RB-25\n",
        "Successful download: Bifidobacterium adolescentis ATCC 15703\n",
        "Downloading Sphaerochaeta coccoides DSM 17374\n",
        "Successful download: Tannerella forsythia ATCC 43037\n",
        "Downloading Mycobacterium tuberculosis str. Beijing/NITR203\n",
        "Successful download: Roseiflexus castenholzii DSM 13941\n",
        "Successful download: Xanthomonas axonopodis pv. citrumelo F1\n",
        "Downloading Mannheimia varigena USDA-ARS-USMARC-1388\n",
        "Downloading Streptococcus oralis Uo5\n",
        "Successful download: Erwinia billingiae Eb661\n",
        "Downloading Mycoplasma capricolum subsp. capricolum ATCC 27343\n",
        "Successful download: Mesorhizobium australicum WSM2073\n",
        "Downloading Caldicellulosiruptor kronotskyensis 2002\n",
        "Successful download: Arthrobacter aurescens TC1\n",
        "Downloading Pandoraea pnomenusa 3kgm\n",
        "Successful download: Rhizobium tropici CIAT 899\n",
        "Downloading Caldicellulosiruptor lactoaceticus 6A\n",
        "Successful download: Burkholderia cepacia GG4\n",
        "Downloading Blattabacterium sp. (Mastotermes darwiniensis) str. MADAR\n",
        "Successful download: Ralstonia eutropha H16\n",
        "Downloading Candidatus Mycoplasma haemolamae str. Purdue\n",
        "Successful download: Isoptericola variabilis 225\n",
        "Downloading Burkholderia thailandensis 2002721723\n",
        "Successful download: Mycoplasma capricolum subsp. capricolum ATCC 27343\n",
        "Downloading Mycoplasma flocculare ATCC 27399\n",
        "Successful download: Cellulophaga algicola DSM 14237\n",
        "Downloading Rhodoferax ferrireducens T118\n",
        "Successful download: Leptotrichia buccalis C-1013-b\n",
        "Successful download: Candidatus Pelagibacter ubique HTCC1062\n",
        "Downloading Neorickettsia sennetsu str. Miyayama\n",
        "Downloading Azorhizobium caulinodans ORS 571\n",
        "Successful download: Prosthecochloris aestuarii DSM 271\n",
        "Downloading Corynebacterium glycinophilum AJ 3170\n",
        "Successful download: Candidatus Mycoplasma haemolamae str. Purdue\n",
        "Downloading Xylella fastidiosa subsp. fastidiosa GB514\n",
        "Successful download: Blattabacterium sp. (Mastotermes darwiniensis) str. MADAR\n",
        "Downloading Variovorax paradoxus EPS\n",
        "Successful download: Xanthomonas axonopodis Xac29-1\n",
        "Successful download: Acinetobacter oleivorans DR1\n",
        "Downloading Lactobacillus acidophilus NCFM\n",
        "Downloading Methylotenera mobilis JLW8\n",
        "Successful download: Bacillus cytotoxicus NVH 391-98\n",
        "Downloading Vibrio furnissii NCTC 11218\n",
        "Successful download: Streptococcus oralis Uo5\n",
        "Downloading Capnocytophaga ochracea DSM 7271\n",
        "Successful download: Mycoplasma flocculare ATCC 27399\n",
        "Downloading Ralstonia solanacearum GMI1000\n",
        "Successful download: Xanthomonas albilineans GPE PC73\n",
        "Downloading Streptococcus lutetiensis 033\n",
        "Successful download: Pedobacter heparinus DSM 2366\n",
        "Downloading Rickettsia massiliae MTU5\n",
        "Successful download: Sphaerochaeta coccoides DSM 17374\n",
        "Downloading Amphibacillus xylanus NBRC 15112\n",
        "Successful download: Melioribacter roseus P3M-2\n",
        "Successful download: Desulfovibrio aespoeensis Aspo-2\n",
        "Downloading Thalassospira xiamenensis M-5 = DSM 17429\n",
        "Downloading Spiroplasma chrysopicola DF-1\n",
        "Successful download: Neorickettsia sennetsu str. Miyayama\n",
        "Downloading Leuconostoc citreum KM20\n",
        "Successful download: Mannheimia varigena USDA-ARS-USMARC-1388\n",
        "Downloading Bartonella clarridgeiae 73\n",
        "Successful download: Chitinophaga pinensis DSM 2588\n",
        "Downloading Zunongwangia profunda SM-A87\n",
        "Successful download: Neorhizobium galegae bv. officinalis bv. officinalis str. HAMBI 1141\n",
        "Downloading Beutenbergia cavernae DSM 12333\n",
        "Successful download: Vibrio tasmaniensis LGP32\n",
        "Downloading Campylobacter concisus 13826\n",
        "Successful download: Caldicellulosiruptor lactoaceticus 6A\n",
        "Downloading Ralstonia eutropha JMP134\n",
        "Successful download: Anabaena cylindrica PCC 7122\n",
        "Downloading Chlamydia pecorum P787\n",
        "Successful download: Caldicellulosiruptor kronotskyensis 2002\n",
        "Downloading Aliivibrio salmonicida LFI1238\n",
        "Successful download: Rickettsia massiliae MTU5\n",
        "Downloading Treponema pallidum subsp. pallidum str. Sea 81-4\n",
        "Successful download: Xylella fastidiosa subsp. fastidiosa GB514\n",
        "Downloading Salinispora arenicola CNS-205\n",
        "Successful download: Lactobacillus acidophilus NCFM\n",
        "Downloading Xanthomonas oryzae pv. oryzae PXO99A\n",
        "Successful download: Spiroplasma chrysopicola DF-1\n",
        "Downloading Bacillus infantis NRRL B-14911\n",
        "Successful download: Streptococcus lutetiensis 033\n",
        "Downloading Stanieria cyanosphaera PCC 7437\n",
        "Successful download: Nocardia cyriacigeorgica GUH-2\n",
        "Successful download: Pirellula staleyi DSM 6068\n",
        "Downloading Pseudoxanthomonas suwonensis 11-1\n",
        "Downloading Haliangium ochraceum DSM 14365\n",
        "Successful download: Leuconostoc citreum KM20\n",
        "Downloading Janthinobacterium agaricidamnosum NBRC 102515 = DSM 9628\n",
        "Successful download: Capnocytophaga ochracea DSM 7271\n",
        "Successful download: Chlamydia pecorum P787\n",
        "Downloading Wigglesworthia glossinidia endosymbiont of Glossina brevipalpis\n",
        "Downloading Geobacter daltonii FRC-32\n",
        "Successful download: Mycobacterium tuberculosis str. Beijing/NITR203\n",
        "Downloading Arcanobacterium haemolyticum DSM 20595\n",
        "Successful download: Amphibacillus xylanus NBRC 15112\n",
        "Downloading Candidatus Nasuia deltocephalinicola str. NAS-ALF\n",
        "Successful download: Methylotenera mobilis JLW8\n",
        "Downloading Ethanoligenens harbinense YUAN-3\n",
        "Successful download: Corynebacterium glycinophilum AJ 3170\n",
        "Downloading Shewanella frigidimarina NCIMB 400\n",
        "Successful download: Bartonella clarridgeiae 73\n",
        "Downloading Pseudomonas resinovorans NBRC 106553\n",
        "Successful download: Campylobacter concisus 13826\n",
        "Downloading Thioalkalimicrobium cyclicum ALM1\n",
        "Successful download: Candidatus Nasuia deltocephalinicola str. NAS-ALF\n",
        "Downloading Flavobacterium indicum GPTSA100-9 = DSM 17447\n",
        "Successful download: Serratia fonticola RB-25\n",
        "Downloading Candidatus Blochmannia pennsylvanicus str. BPEN\n",
        "Successful download: Treponema pallidum subsp. pallidum str. Sea 81-4\n",
        "Downloading Deinococcus peraridilitoris DSM 19664\n",
        "Successful download: Wigglesworthia glossinidia endosymbiont of Glossina brevipalpis\n",
        "Downloading Borrelia duttonii Ly\n",
        "Successful download: Rhodoferax ferrireducens T118\n",
        "Downloading Mycobacterium africanum GM041182\n",
        "Successful download: Azorhizobium caulinodans ORS 571\n",
        "Downloading Bifidobacterium bifidum BGN4\n",
        "Successful download: Ralstonia solanacearum GMI1000\n",
        "Successful download: Burkholderia thailandensis 2002721723\n",
        "Downloading Helicobacter pylori F16\n",
        "Downloading Opitutus terrae PB90-1\n",
        "Successful download: Candidatus Blochmannia pennsylvanicus str. BPEN\n",
        "Downloading Methylobacterium oryzae CBMB20\n",
        "Successful download: Rhodococcus jostii RHA1\n",
        "Downloading Leifsonia xyli subsp. cynodontis DSM 46306\n",
        "Successful download: Vibrio furnissii NCTC 11218\n",
        "Downloading Chloroflexus aurantiacus J-10-fl\n",
        "Successful download: Thalassospira xiamenensis M-5 = DSM 17429\n",
        "Successful download: Borrelia duttonii Ly\n",
        "Downloading Bordetella holmesii 44057\n",
        "Downloading Kitasatospora setae KM-6054\n",
        "Successful download: Beutenbergia cavernae DSM 12333\n",
        "Downloading Candidatus Chloracidobacterium thermophilum B\n",
        "Successful download: Zunongwangia profunda SM-A87\n",
        "Downloading Serratia marcescens subsp. marcescens Db11\n",
        "Successful download: Arcanobacterium haemolyticum DSM 20595\n",
        "Downloading Cyanobacterium aponinum PCC 10605\n",
        "Successful download: Thioalkalimicrobium cyclicum ALM1\n",
        "Downloading Streptococcus uberis 0140J\n",
        "Successful download: Flavobacterium indicum GPTSA100-9 = DSM 17447\n",
        "Downloading Nostoc punctiforme PCC 73102\n",
        "Successful download: Bifidobacterium bifidum BGN4\n",
        "Downloading Arthrobacter arilaitensis Re117\n",
        "Successful download: Helicobacter pylori F16\n",
        "Downloading Advenella mimigardefordensis DPN7\n",
        "Successful download: Variovorax paradoxus EPS\n",
        "Downloading Yersinia pseudotuberculosis YPIII\n",
        "Successful download: Xanthomonas oryzae pv. oryzae PXO99A\n",
        "Downloading Lactobacillus johnsonii DPC 6026\n",
        "Successful download: Salinispora arenicola CNS-205\n",
        "Downloading Saccharomonospora viridis DSM 43017\n",
        "Successful download: Ralstonia eutropha JMP134\n",
        "Downloading Basilea psittacipulmonis DSM 24701\n",
        "Successful download: Pseudoxanthomonas suwonensis 11-1\n",
        "Downloading Alteromonas macleodii str. 'Balearic Sea AD45'\n",
        "Successful download: Geobacter daltonii FRC-32\n",
        "Downloading Mycobacterium liflandii 128FXT\n",
        "Successful download: Leifsonia xyli subsp. cynodontis DSM 46306\n",
        "Downloading Gallibacterium anatis UMN179\n",
        "Successful download: Mycobacterium africanum GM041182\n",
        "Successful download: Bacillus infantis NRRL B-14911\n",
        "Downloading Mycoplasma cynos C142\n",
        "Downloading Lactobacillus paracasei subsp. paracasei JCM 8130\n",
        "Successful download: Deinococcus peraridilitoris DSM 19664\n",
        "Downloading Coxiella burnetii Dugway 5J108-111\n",
        "Successful download: Streptococcus uberis 0140J\n",
        "Downloading Sodalis glossinidius str. 'morsitans'\n",
        "Successful download: Ethanoligenens harbinense YUAN-3\n",
        "Downloading Lactobacillus gasseri ATCC 33323 = JCM 1131\n",
        "Successful download: Aliivibrio salmonicida LFI1238\n",
        "Downloading Desulfotomaculum reducens MI-1\n",
        "Successful download: Pandoraea pnomenusa 3kgm\n",
        "Downloading Bibersteinia trehalosi USDA-ARS-USMARC-189\n",
        "Successful download: Lactobacillus johnsonii DPC 6026\n",
        "Downloading Bordetella pertussis 18323\n",
        "Successful download: Chloroflexus aurantiacus J-10-fl\n",
        "Downloading Neisseria gonorrhoeae FA 1090\n",
        "Successful download: Cyanobacterium aponinum PCC 10605\n",
        "Downloading Erwinia amylovora LA636\n",
        "Successful download: Candidatus Chloracidobacterium thermophilum B\n",
        "Downloading Emticicia oligotrophica DSM 17448\n",
        "Successful download: Pseudomonas resinovorans NBRC 106553\n",
        "Downloading Cronobacter turicensis z3032\n",
        "Successful download: Arthrobacter arilaitensis Re117\n",
        "Downloading Corynebacterium doosanense CAU 212 = DSM 45436\n",
        "Successful download: Mycoplasma cynos C142\n",
        "Successful download: Janthinobacterium agaricidamnosum NBRC 102515 = DSM 9628\n",
        "Downloading Streptococcus intermedius JTH08\n",
        "Successful download: Bordetella holmesii 44057\n",
        "Downloading Sorangium cellulosum So ce56\n",
        "Downloading Lactobacillus casei subsp. casei ATCC 393\n",
        "Successful download: Basilea psittacipulmonis DSM 24701\n",
        "Downloading Leadbetterella byssophila DSM 17132\n",
        "Successful download: Shewanella frigidimarina NCIMB 400\n",
        "Downloading Mycoplasma putrefaciens KS1\n",
        "Successful download: Coxiella burnetii Dugway 5J108-111\n",
        "Downloading Olsenella uli DSM 7084\n",
        "Successful download: Stanieria cyanosphaera PCC 7437\n",
        "Successful download: Gallibacterium anatis UMN179\n",
        "Downloading Pectobacterium carotovorum subsp. odoriferum\n",
        "Downloading Nautilia profundicola AmH\n",
        "Successful download: Advenella mimigardefordensis DPN7\n",
        "Downloading Candidatus Hodgkinia cicadicola Dsem\n",
        "Successful download: Lactobacillus paracasei subsp. paracasei JCM 8130\n",
        "Downloading Ignavibacterium album JCM 16511\n",
        "Successful download: Opitutus terrae PB90-1\n",
        "Downloading Staphylococcus haemolyticus JCSC1435\n",
        "Successful download: Lactobacillus gasseri ATCC 33323 = JCM 1131\n",
        "Downloading Desulfobacula toluolica Tol2\n",
        "Successful download: Candidatus Hodgkinia cicadicola Dsem\n",
        "Downloading Aerococcus urinae ACS-120-V-Col10a\n",
        "Successful download: Neisseria gonorrhoeae FA 1090\n",
        "Downloading Candidatus Midichloria mitochondrii IricVA\n",
        "Successful download: Mycoplasma putrefaciens KS1\n",
        "Downloading Granulibacter bethesdensis CGDNIH4\n",
        "Successful download: Saccharomonospora viridis DSM 43017\n",
        "Downloading Mycobacterium bovis BCG str. Pasteur 1173P2\n",
        "Successful download: Yersinia pseudotuberculosis YPIII\n",
        "Successful download: Haliangium ochraceum DSM 14365\n",
        "Successful download: Bordetella pertussis 18323\n",
        "Successful download: Sodalis glossinidius str. 'morsitans'\n",
        "Downloading Dictyoglomus thermophilum H-6-12\n",
        "Downloading Campylobacter lari RM2100\n",
        "Downloading Corynebacterium glutamicum ATCC 13032\n",
        "Downloading Shewanella loihica PV-4\n",
        "Successful download: Streptococcus intermedius JTH08\n",
        "Downloading Mycobacterium gilvum PYR-GCK\n",
        "Successful download: Methylobacterium oryzae CBMB20\n",
        "Downloading Geobacillus thermoglucosidasius C56-YS93\n",
        "Successful download: Bibersteinia trehalosi USDA-ARS-USMARC-189\n",
        "Downloading Neisseria elongata subsp. glycolytica ATCC 29315\n",
        "Successful download: Nautilia profundicola AmH\n",
        "Successful download: Mycobacterium liflandii 128FXT\n",
        "Downloading Nitrobacter winogradskyi Nb-255\n",
        "Downloading Shigella sonnei 53G\n",
        "Successful download: Nostoc punctiforme PCC 73102\n",
        "Successful download: Corynebacterium doosanense CAU 212 = DSM 45436\n",
        "Downloading Moraxella catarrhalis BBH18\n",
        "Downloading Campylobacter peloridis LMG 23910\n",
        "Successful download: Kitasatospora setae KM-6054\n",
        "Successful download: Olsenella uli DSM 7084\n",
        "Downloading Desulfotomaculum ruminis DSM 2154\n",
        "Downloading Flavobacterium psychrophilum JIP02/86\n",
        "Successful download: Candidatus Midichloria mitochondrii IricVA\n",
        "Downloading Acaryochloris marina MBIC11017\n",
        "Successful download: Lactobacillus casei subsp. casei ATCC 393\n",
        "Downloading Borrelia miyamotoi LB-2001\n",
        "Successful download: Serratia marcescens subsp. marcescens Db11\n",
        "Downloading Mycobacterium leprae Br4923\n",
        "Successful download: Desulfotomaculum reducens MI-1\n",
        "Downloading Acidiphilium cryptum JF-5\n",
        "Successful download: Aerococcus urinae ACS-120-V-Col10a\n",
        "Downloading Leuconostoc carnosum JB16\n",
        "Successful download: Alteromonas macleodii str. 'Balearic Sea AD45'\n",
        "Downloading Sulfurospirillum deleyianum DSM 6946\n",
        "Successful download: Campylobacter lari RM2100\n",
        "Downloading Streptomyces lividans TK24\n",
        "Successful download: Dictyoglomus thermophilum H-6-12\n",
        "Downloading Deinococcus proteolyticus MRP\n",
        "Successful download: Shigella sonnei 53G\n",
        "Downloading Exiguobacterium sibiricum 255-15\n",
        "Successful download: Ignavibacterium album JCM 16511\n",
        "Downloading Staphylococcus carnosus subsp. carnosus TM300\n",
        "Successful download: Staphylococcus haemolyticus JCSC1435\n",
        "Downloading Actinobacillus suis ATCC 33415\n",
        "Successful download: Borrelia miyamotoi LB-2001\n",
        "Downloading Caldicellulosiruptor owensensis OL\n",
        "Successful download: Cronobacter turicensis z3032\n",
        "Downloading Paenibacillus terrae HPL-003\n",
        "Successful download: Leadbetterella byssophila DSM 17132\n",
        "Downloading Pelagibacterium halotolerans B2\n",
        "Successful download: Campylobacter peloridis LMG 23910\n",
        "Downloading Pseudomonas mandelii JR-1\n",
        "Successful download: Corynebacterium glutamicum ATCC 13032\n",
        "Downloading Bartonella quintana RM-11\n",
        "Successful download: Neisseria elongata subsp. glycolytica ATCC 29315\n",
        "Successful download: Granulibacter bethesdensis CGDNIH4\n",
        "Downloading Nocardia brasiliensis ATCC 700358\n",
        "Downloading Thermosipho melanesiensis BI429\n",
        "Successful download: Moraxella catarrhalis BBH18\n",
        "Downloading Crinalium epipsammum PCC 9333\n",
        "Successful download: Emticicia oligotrophica DSM 17448\n",
        "Downloading Bifidobacterium asteroides PRL2011\n",
        "Successful download: Pectobacterium carotovorum subsp. odoriferum\n",
        "Successful download: Leuconostoc carnosum JB16\n",
        "Downloading Simkania negevensis Z\n",
        "Downloading Anaeromyxobacter dehalogenans 2CP-C\n",
        "Successful download: Mycobacterium leprae Br4923\n",
        "Downloading Mycoplasma fermentans JER\n",
        "Successful download: Erwinia amylovora LA636\n",
        "Downloading Lactobacillus sanfranciscensis TMW 1.1304\n",
        "Successful download: Nitrobacter winogradskyi Nb-255\n",
        "Downloading Candidatus Riesia pediculicola USDA\n",
        "Successful download: Sulfurospirillum deleyianum DSM 6946\n",
        "Downloading Saccharothrix espanaensis DSM 44229\n",
        "Successful download: Flavobacterium psychrophilum JIP02/86\n",
        "Downloading Micavibrio aeruginosavorus EPB\n",
        "Successful download: Deinococcus proteolyticus MRP\n",
        "Downloading Mycoplasma agalactiae PG2\n",
        "Successful download: Acidiphilium cryptum JF-5\n",
        "Downloading Prevotella melaninogenica ATCC 25845\n",
        "Successful download: Bartonella quintana RM-11\n",
        "Downloading Streptomyces bingchenggensis BCW-1\n",
        "Successful download: Geobacillus thermoglucosidasius C56-YS93\n",
        "Downloading Aeromonas veronii B565\n",
        "Successful download: Mycobacterium bovis BCG str. Pasteur 1173P2\n",
        "Downloading Nitratifractor salsuginis DSM 16511\n",
        "Successful download: Mycoplasma fermentans JER\n",
        "Downloading Lactobacillus plantarum ZJ316\n",
        "Successful download: Desulfobacula toluolica Tol2\n",
        "Downloading Mesoplasma florum L1\n",
        "Successful download: Actinobacillus suis ATCC 33415\n",
        "Downloading Klebsiella pneumoniae 30660/NJST258_1\n",
        "Successful download: Desulfotomaculum ruminis DSM 2154\n",
        "Downloading Pseudomonas poae RE*1-1-14\n",
        "Successful download: Candidatus Riesia pediculicola USDA\n",
        "Downloading Ochrobactrum anthropi ATCC 49188\n",
        "Successful download: Caldicellulosiruptor owensensis OL\n",
        "Downloading Mycoplasma gallisepticum str. F\n",
        "Successful download: Bifidobacterium asteroides PRL2011\n",
        "Downloading Helicobacter felis ATCC 49179\n",
        "Successful download: Exiguobacterium sibiricum 255-15\n",
        "Successful download: Thermosipho melanesiensis BI429\n",
        "Downloading Parvibaculum lavamentivorans DS-1\n",
        "Downloading Methylobacterium populi BJ001\n",
        "Successful download: Staphylococcus carnosus subsp. carnosus TM300\n",
        "Downloading Petrotoga mobilis SJ95\n",
        "Successful download: Mycoplasma agalactiae PG2\n",
        "Downloading Laribacter hongkongensis HLHK9\n",
        "Successful download: Mesoplasma florum L1\n",
        "Successful download: Lactobacillus sanfranciscensis TMW 1.1304\n",
        "Downloading Brucella canis HSK A52141\n",
        "Downloading Shewanella oneidensis MR-1\n",
        "Successful download: Mycobacterium gilvum PYR-GCK\n",
        "Successful download: Simkania negevensis Z\n",
        "Downloading Geobacillus kaustophilus HTA426\n",
        "Downloading Syntrophothermus lipocalidus DSM 12680\n",
        "Successful download: Pelagibacterium halotolerans B2\n",
        "Downloading Sulfuricella denitrificans skB26\n",
        "Successful download: Mycoplasma gallisepticum str. F\n",
        "Downloading Yersinia aldovae 670-83\n",
        "Successful download: Acaryochloris marina MBIC11017\n",
        "Downloading Nocardiopsis dassonvillei subsp. dassonvillei DSM 43111\n",
        "Successful download: Micavibrio aeruginosavorus EPB\n",
        "Downloading Ferrimonas balearica DSM 9799\n",
        "Successful download: Nitratifractor salsuginis DSM 16511\n",
        "Downloading Terriglobus saanensis SP1PR4\n",
        "Successful download: Prevotella melaninogenica ATCC 25845\n",
        "Downloading Listeria seeligeri serovar 1/2b str. SLCC3954\n",
        "Successful download: Lactobacillus plantarum ZJ316\n",
        "Downloading Leptospirillum ferriphilum YSK\n",
        "Successful download: Aeromonas veronii B565\n",
        "Downloading Methylobacterium radiotolerans JCM 2831\n",
        "Successful download: Paenibacillus terrae HPL-003\n",
        "Downloading Burkholderia phymatum STM815\n",
        "Successful download: Shewanella loihica PV-4\n",
        "Downloading Bartonella henselae str. Houston-1\n",
        "Successful download: Petrotoga mobilis SJ95\n",
        "Downloading Treponema azotonutricium ZAS-9\n",
        "Successful download: Streptomyces lividans TK24\n",
        "Downloading Carnobacterium maltaromaticum LMA28\n",
        "Successful download: Helicobacter felis ATCC 49179\n",
        "Downloading Acidiphilium multivorum AIU301\n",
        "Successful download: Pseudomonas mandelii JR-1\n",
        "Downloading Blattabacterium sp. (Cryptocercus punctulatus) str. Cpu\n",
        "Successful download: Laribacter hongkongensis HLHK9\n",
        "Downloading Burkholderia multivorans ATCC 17616\n",
        "Successful download: Syntrophothermus lipocalidus DSM 12680\n",
        "Downloading Thermomicrobium roseum DSM 5159\n",
        "Successful download: Brucella canis HSK A52141\n",
        "Downloading Polynucleobacter necessarius subsp. necessarius STIR1\n",
        "Successful download: Sorangium cellulosum So ce56\n",
        "Downloading Campylobacter hominis ATCC BAA-381\n",
        "Successful download: Sulfuricella denitrificans skB26\n",
        "Downloading Phycisphaera mikurensis NBRC 102666\n",
        "Successful download: Geobacillus kaustophilus HTA426\n",
        "Downloading Sulfurihydrogenibium azorense Az-Fu1\n",
        "Successful download: Blattabacterium sp. (Cryptocercus punctulatus) str. Cpu\n",
        "Downloading Sphaerobacter thermophilus DSM 20745\n",
        "Successful download: Bartonella henselae str. Houston-1\n",
        "Downloading Rhodopseudomonas palustris BisB5\n",
        "Successful download: Yersinia aldovae 670-83\n",
        "Downloading Escherichia albertii KF1\n",
        "Successful download: Klebsiella pneumoniae 30660/NJST258_1\n",
        "Downloading Ammonifex degensii KC4\n",
        "Successful download: Leptospirillum ferriphilum YSK\n",
        "Downloading Edwardsiella ictaluri 93-146\n",
        "Successful download: Parvibaculum lavamentivorans DS-1\n",
        "Downloading Melissococcus plutonius DAT561\n",
        "Successful download: Shewanella oneidensis MR-1\n",
        "Downloading Corynebacterium kroppenstedtii DSM 44385\n",
        "Successful download: Polynucleobacter necessarius subsp. necessarius STIR1\n",
        "Downloading Tropheryma whipplei str. Twist\n",
        "Successful download: Anaeromyxobacter dehalogenans 2CP-C\n",
        "Downloading Onion yellows phytoplasma OY-M\n",
        "Successful download: Listeria seeligeri serovar 1/2b str. SLCC3954\n",
        "Downloading Flavobacterium johnsoniae UW101\n",
        "Successful download: Crinalium epipsammum PCC 9333\n",
        "Successful download: Campylobacter hominis ATCC BAA-381\n",
        "Downloading Pseudomonas mendocina NK-01\n",
        "Downloading Burkholderia mallei ATCC 23344\n",
        "Successful download: Ferrimonas balearica DSM 9799\n",
        "Successful download: Sulfurihydrogenibium azorense Az-Fu1\n",
        "Downloading Verrucosispora maris AB-18-032\n",
        "Downloading Coprothermobacter proteolyticus DSM 5265\n",
        "Successful download: Ochrobactrum anthropi ATCC 49188\n",
        "Downloading Mycoplasma californicum HAZ160_1\n",
        "Successful download: Nocardia brasiliensis ATCC 700358\n",
        "Downloading Rickettsia typhi str. TH1527\n",
        "Successful download: Tropheryma whipplei str. Twist\n",
        "Downloading Bordetella bronchiseptica 253\n",
        "Successful download: Onion yellows phytoplasma OY-M\n",
        "Downloading Streptococcus macedonicus ACA-DC 198\n",
        "Successful download: Pseudomonas poae RE*1-1-14\n",
        "Downloading Mycoplasma hominis ATCC 23114\n",
        "Successful download: Thermomicrobium roseum DSM 5159\n",
        "Downloading Synechococcus elongatus PCC 7942\n",
        "Successful download: Melissococcus plutonius DAT561\n",
        "Downloading Azotobacter vinelandii CA6\n",
        "Successful download: Terriglobus saanensis SP1PR4\n",
        "Downloading Gordonia polyisoprenivorans VH2\n",
        "Successful download: Treponema azotonutricium ZAS-9\n",
        "Downloading Paracoccus aminophilus JCM 7686\n",
        "Successful download: Acidiphilium multivorum AIU301\n",
        "Downloading Sideroxydans lithotrophicus ES-1\n",
        "Successful download: Carnobacterium maltaromaticum LMA28\n",
        "Downloading Escherichia coli 1303\n",
        "Successful download: Saccharothrix espanaensis DSM 44229\n",
        "Downloading Thermosynechococcus elongatus BP-1\n",
        "Successful download: Corynebacterium kroppenstedtii DSM 44385\n",
        "Downloading Paludibacter propionicigenes WB4\n",
        "Successful download: Mycoplasma californicum HAZ160_1\n",
        "Downloading Bartonella tribocorum CIP 105476\n",
        "Successful download: Phycisphaera mikurensis NBRC 102666\n",
        "Downloading Burkholderia ambifaria AMMD\n",
        "Successful download: Ammonifex degensii KC4\n",
        "Downloading Sulfobacillus acidophilus DSM 10332\n",
        "Successful download: Coprothermobacter proteolyticus DSM 5265\n",
        "Downloading Rickettsia felis URRWXCal2\n",
        "Successful download: Nocardiopsis dassonvillei subsp. dassonvillei DSM 43111\n",
        "Successful download: Rickettsia typhi str. TH1527\n",
        "Downloading Treponema paraluiscuniculi Cuniculi A\n",
        "Downloading Thioalkalivibrio sulfidiphilus HL-EbGr7\n",
        "Successful download: Mycoplasma hominis ATCC 23114\n",
        "Downloading Pseudomonas stutzeri DSM 4166\n",
        "Successful download: Methylobacterium radiotolerans JCM 2831\n",
        "Downloading Psychrobacter arcticus 273-4\n",
        "Successful download: Methylobacterium populi BJ001\n",
        "Downloading Amycolatopsis orientalis HCCB10007\n",
        "Successful download: Edwardsiella ictaluri 93-146\n",
        "Downloading Cupriavidus metallidurans CH34\n",
        "Successful download: Burkholderia phymatum STM815\n",
        "Downloading Taylorella asinigenitalis MCE3\n",
        "Successful download: Escherichia albertii KF1\n",
        "Downloading Parvularcula bermudensis HTCC2503\n",
        "Successful download: Sphaerobacter thermophilus DSM 20745\n",
        "Downloading Ehrlichia chaffeensis str. West Paces\n",
        "Successful download: Burkholderia multivorans ATCC 17616\n",
        "Downloading Rhodococcus equi 103S\n",
        "Successful download: Treponema paraluiscuniculi Cuniculi A\n",
        "Downloading Hyphomicrobium denitrificans 1NES1\n",
        "Successful download: Bordetella bronchiseptica 253\n",
        "Downloading Clostridium novyi NT\n",
        "Successful download: Rhodopseudomonas palustris BisB5\n",
        "Downloading Treponema pedis str. T A4\n",
        "Successful download: Synechococcus elongatus PCC 7942\n",
        "Downloading Treponema primitia ZAS-2\n",
        "Successful download: Streptococcus macedonicus ACA-DC 198\n",
        "Downloading Shewanella amazonensis SB2B\n",
        "Successful download: Rickettsia felis URRWXCal2\n",
        "Downloading Mycoplasma synoviae 53\n",
        "Successful download: Streptomyces bingchenggensis BCW-1\n",
        "Downloading Clostridiales genomosp. BVAB3 str. UPII9-5\n",
        "Successful download: Paracoccus aminophilus JCM 7686\n",
        "Downloading Mesorhizobium ciceri biovar biserrulae WSM1271\n",
        "Successful download: Pseudomonas mendocina NK-01\n",
        "Downloading Ureaplasma urealyticum serovar 10 str. ATCC 33699\n",
        "Successful download: Sideroxydans lithotrophicus ES-1\n",
        "Downloading Erysipelothrix rhusiopathiae SY1027\n",
        "Successful download: Ehrlichia chaffeensis str. West Paces\n",
        "Downloading Hafnia alvei FB1\n",
        "Successful download: Taylorella asinigenitalis MCE3\n",
        "Downloading Thermotoga naphthophila RKU-10\n",
        "Successful download: Psychrobacter arcticus 273-4\n",
        "Downloading Spiroplasma diminutum CUAS-1\n",
        "Successful download: Thermosynechococcus elongatus BP-1\n",
        "Downloading Ilyobacter polytropus DSM 2926\n",
        "Successful download: Mycoplasma synoviae 53\n",
        "Downloading Oscillibacter valericigenes Sjm18-20\n",
        "Successful download: Ureaplasma urealyticum serovar 10 str. ATCC 33699\n",
        "Downloading Streptosporangium roseum DSM 43021\n",
        "Successful download: Flavobacterium johnsoniae UW101\n",
        "Downloading Bacillus pumilus SAFR-032\n",
        "Successful download: Sulfobacillus acidophilus DSM 10332\n",
        "Downloading Streptomyces pratensis ATCC 33331\n",
        "Successful download: Thioalkalivibrio sulfidiphilus HL-EbGr7\n",
        "Downloading Methylovorus glucosetrophus SIP3-4\n",
        "Successful download: Spiroplasma diminutum CUAS-1\n",
        "Downloading Roseobacter litoralis Och 149\n",
        "Successful download: Pseudomonas stutzeri DSM 4166\n",
        "Downloading Brevibacillus brevis NBRC 100599\n",
        "Successful download: Escherichia coli 1303\n",
        "Downloading Rickettsia peacockii str. Rustic\n",
        "Successful download: Bartonella tribocorum CIP 105476\n",
        "Downloading Corynebacterium efficiens YS-314\n",
        "Successful download: Azotobacter vinelandii CA6\n",
        "Successful download: Clostridiales genomosp. BVAB3 str. UPII9-5\n",
        "Downloading Thermotoga elfii NBRC 107921\n",
        "Downloading Proteus mirabilis BB2000\n",
        "Successful download: Parvularcula bermudensis HTCC2503\n",
        "Downloading Selenomonas sputigena ATCC 35185\n",
        "Successful download: Cupriavidus metallidurans CH34\n",
        "Successful download: Treponema pedis str. T A4\n",
        "Downloading Enterobacter aerogenes KCTC 2190\n",
        "Downloading Thermus oshimai JL-2\n",
        "Successful download: Erysipelothrix rhusiopathiae SY1027\n",
        "Downloading Spirochaeta africana DSM 8902\n",
        "Successful download: Clostridium novyi NT\n",
        "Downloading Myxococcus fulvus HW-1\n",
        "Successful download: Gordonia polyisoprenivorans VH2\n",
        "Downloading Porphyromonas asaccharolytica DSM 20707\n",
        "Successful download: Hyphomicrobium denitrificans 1NES1\n",
        "Downloading Chlamydia avium 10DC88\n",
        "Successful download: Ilyobacter polytropus DSM 2926\n",
        "Downloading Rhodococcus opacus B4\n",
        "Successful download: Thermotoga naphthophila RKU-10\n",
        "Downloading Candidatus Zinderia insecticola CARI\n",
        "Successful download: Treponema primitia ZAS-2\n",
        "Downloading Lactococcus lactis subsp. cremoris UC509.9\n",
        "Successful download: Verrucosispora maris AB-18-032\n",
        "Downloading Clostridium ljungdahlii DSM 13528\n",
        "Successful download: Thermotoga elfii NBRC 107921\n",
        "Successful download: Rickettsia peacockii str. Rustic\n",
        "Downloading Granulicella tundricola MP5ACTX9\n",
        "Downloading Pseudomonas aeruginosa RP73\n",
        "Successful download: Burkholderia mallei ATCC 23344\n",
        "Successful download: Paludibacter propionicigenes WB4\n",
        "Downloading Leuconostoc kimchii IMSNU 11154\n",
        "Downloading Campylobacter volucris LMG 24379\n",
        "Successful download: Shewanella amazonensis SB2B\n",
        "Downloading Blattabacterium sp. (Blattella germanica) str. Bge\n",
        "Successful download: Candidatus Zinderia insecticola CARI\n",
        "Downloading Alistipes finegoldii DSM 17242\n",
        "Successful download: Hafnia alvei FB1\n",
        "Downloading Octadecabacter antarcticus 307\n",
        "Successful download: Thermus oshimai JL-2\n",
        "Downloading Verrucomicrobium spinosum DSM 4136 = JCM 18804\n",
        "Successful download: Oscillibacter valericigenes Sjm18-20\n",
        "Downloading Kocuria rhizophila DC2201\n",
        "Successful download: Chlamydia avium 10DC88\n",
        "Downloading Advenella kashmirensis WT001\n",
        "Successful download: Lactococcus lactis subsp. cremoris UC509.9\n",
        "Downloading Candidatus Puniceispirillum marinum IMCC1322\n",
        "Successful download: Campylobacter volucris LMG 24379\n",
        "Downloading Marinobacter hydrocarbonoclasticus ATCC 49840\n",
        "Successful download: Blattabacterium sp. (Blattella germanica) str. Bge\n",
        "Downloading Haemophilus parasuis ZJ0906\n",
        "Successful download: Methylovorus glucosetrophus SIP3-4\n",
        "Downloading Corynebacterium resistens DSM 45100\n",
        "Successful download: Selenomonas sputigena ATCC 35185\n",
        "Downloading Desulfotomaculum carboxydivorans CO-1-SRB\n",
        "Successful download: Proteus mirabilis BB2000\n",
        "Successful download: Burkholderia ambifaria AMMD\n",
        "Downloading Ruegeria pomeroyi DSS-3\n",
        "Downloading Corynebacterium humireducens NBRC 106098 = DSM 45392\n",
        "Successful download: Porphyromonas asaccharolytica DSM 20707\n",
        "Downloading Geobacter sulfurreducens KN400\n",
        "Successful download: Amycolatopsis orientalis HCCB10007\n",
        "Downloading Bacteroides helcogenes P 36-108\n",
        "Successful download: Bacillus pumilus SAFR-032\n",
        "Downloading Candidatus Endolissoclinum faulkneri L2\n",
        "Successful download: Mesorhizobium ciceri biovar biserrulae WSM1271\n",
        "Successful download: Spirochaeta africana DSM 8902\n",
        "Downloading Persephonella marina EX-H1\n",
        "Downloading Azospirillum lipoferum 4B\n",
        "Successful download: Roseobacter litoralis Och 149\n",
        "Downloading Croceibacter atlanticus HTCC2559\n",
        "Successful download: Corynebacterium efficiens YS-314\n",
        "Downloading Desulfosporosinus orientis DSM 765\n",
        "Successful download: Rhodococcus equi 103S\n",
        "Downloading Hydrogenobacter thermophilus TK-6\n",
        "Successful download: Kocuria rhizophila DC2201\n",
        "Downloading Aggregatibacter actinomycetemcomitans D7S-1\n",
        "Successful download: Haemophilus parasuis ZJ0906\n",
        "Downloading Thermoanaerobacter brockii subsp. finnii Ako-1\n",
        "Successful download: Enterobacter aerogenes KCTC 2190\n",
        "Downloading Mycoplasma pneumoniae 309\n",
        "Successful download: Candidatus Endolissoclinum faulkneri L2\n",
        "Successful download: Clostridium ljungdahlii DSM 13528\n",
        "Downloading Vibrio tubiashii ATCC 19109\n",
        "Downloading Clostridium cellulolyticum H10\n",
        "Successful download: Candidatus Puniceispirillum marinum IMCC1322\n",
        "Downloading Rhizobium gallicum bv. gallicum R602\n",
        "Successful download: Leuconostoc kimchii IMSNU 11154\n",
        "Downloading Pseudomonas denitrificans ATCC 13867\n",
        "Successful download: Corynebacterium resistens DSM 45100\n",
        "Downloading Simiduia agarivorans SA1 = DSM 21679\n",
        "Successful download: Desulfotomaculum carboxydivorans CO-1-SRB\n",
        "Downloading Mycobacterium ulcerans Agy99\n",
        "Successful download: Alistipes finegoldii DSM 17242\n",
        "Downloading Clostridium pasteurianum DSM 525 = ATCC 6013\n",
        "Successful download: Persephonella marina EX-H1\n",
        "Downloading Thermaerobacter marianensis DSM 12885\n",
        "Successful download: Granulicella tundricola MP5ACTX9\n",
        "Downloading Treponema caldaria DSM 7334\n",
        "Successful download: Corynebacterium humireducens NBRC 106098 = DSM 45392\n",
        "Downloading Candidatus Vesicomyosocius okutanii HA\n",
        "Successful download: Verrucomicrobium spinosum DSM 4136 = JCM 18804\n",
        "Downloading Filifactor alocis ATCC 35896\n",
        "Successful download: Mycoplasma pneumoniae 309\n",
        "Downloading Sinorhizobium medicae WSM419\n",
        "Successful download: Advenella kashmirensis WT001\n",
        "Downloading Finegoldia magna ATCC 29328\n",
        "Successful download: Octadecabacter antarcticus 307\n",
        "Downloading Rhodomicrobium vannielii ATCC 17100\n",
        "Successful download: Ruegeria pomeroyi DSS-3\n",
        "Downloading Shewanella halifaxensis HAW-EB4\n",
        "Successful download: Pseudomonas aeruginosa RP73\n",
        "Downloading Thermodesulfatator indicus DSM 15286\n",
        "Successful download: Croceibacter atlanticus HTCC2559\n",
        "Downloading Desulfitobacterium metallireducens DSM 15288\n",
        "Successful download: Geobacter sulfurreducens KN400\n",
        "Downloading Hippea maritima DSM 10411\n",
        "Successful download: Marinobacter hydrocarbonoclasticus ATCC 49840\n",
        "Downloading Jonesia denitrificans DSM 20603\n",
        "Successful download: Azospirillum lipoferum 4B\n",
        "Successful download: Hydrogenobacter thermophilus TK-6\n",
        "Downloading Sinorhizobium meliloti AK83\n",
        "Downloading Thermocrinis albus DSM 14484\n",
        "Successful download: Aggregatibacter actinomycetemcomitans D7S-1\n",
        "Downloading Chlamydia muridarum str. Nigg3 CMUT3-5\n",
        "Successful download: Candidatus Vesicomyosocius okutanii HA\n",
        "Downloading Bifidobacterium indicum LMG 11587 = DSM 20214\n",
        "Successful download: Bacteroides helcogenes P 36-108\n",
        "Downloading Desulfobulbus propionicus DSM 2032\n",
        "Successful download: Rhodococcus opacus B4\n",
        "Downloading Kineococcus radiotolerans SRS30216 = ATCC BAA-149\n",
        "Successful download: Thermoanaerobacter brockii subsp. finnii Ako-1\n",
        "Downloading Nitrosococcus watsonii C-113\n",
        "Successful download: Streptomyces pratensis ATCC 33331\n",
        "Downloading Chlorobium limicola DSM 245\n",
        "Successful download: Filifactor alocis ATCC 35896\n",
        "Downloading Octadecabacter arcticus 238\n",
        "Successful download: Finegoldia magna ATCC 29328\n",
        "Downloading Cellulomonas flavigena DSM 20109\n",
        "Successful download: Streptosporangium roseum DSM 43021\n",
        "Successful download: Myxococcus fulvus HW-1\n",
        "Successful download: Brevibacillus brevis NBRC 100599\n",
        "Downloading Saccharopolyspora erythraea NRRL 2338\n",
        "Downloading Methylomonas methanica MC09\n",
        "Downloading 'Nostoc azollae' 0708\n",
        "Successful download: Chlamydia muridarum str. Nigg3 CMUT3-5\n",
        "Downloading Delftia acidovorans SPH-1\n",
        "Successful download: Desulfosporosinus orientis DSM 765\n",
        "Successful download: Hippea maritima DSM 10411\n",
        "Downloading Micrococcus luteus NCTC 2665\n",
        "Downloading Streptobacillus moniliformis DSM 12112\n",
        "Successful download: Clostridium cellulolyticum H10\n",
        "Downloading Desulfotalea psychrophila LSv54\n",
        "Successful download: Rhizobium gallicum bv. gallicum R602\n",
        "Downloading Collimonas fungivorans Ter331\n",
        "Successful download: Bifidobacterium indicum LMG 11587 = DSM 20214\n",
        "Downloading Myxococcus stipitatus DSM 14675\n",
        "Successful download: Clostridium pasteurianum DSM 525 = ATCC 6013\n",
        "Downloading Pelodictyon phaeoclathratiforme BU-1\n",
        "Successful download: Thermodesulfatator indicus DSM 15286\n",
        "Downloading Pseudoalteromonas atlantica T6c\n",
        "Successful download: Thermocrinis albus DSM 14484\n",
        "Downloading Dactylococcopsis salina PCC 8305\n",
        "Successful download: Vibrio tubiashii ATCC 19109\n",
        "Downloading Mycoplasma parvum str. Indiana\n",
        "Successful download: Simiduia agarivorans SA1 = DSM 21679\n",
        "Downloading Candidatus Moranella endobia PCVAL\n",
        "Successful download: Thermaerobacter marianensis DSM 12885\n",
        "Downloading Caldilinea aerophila DSM 14535 = NBRC 104270\n",
        "Successful download: Treponema caldaria DSM 7334\n",
        "Successful download: Sinorhizobium medicae WSM419\n",
        "Downloading Mesorhizobium loti MAFF303099\n",
        "Downloading Acidithiobacillus caldus ATCC 51756\n",
        "Successful download: Mycobacterium ulcerans Agy99\n",
        "Downloading Blattabacterium sp. (Blatta orientalis) str. Tarazona\n",
        "Successful download: Rhodomicrobium vannielii ATCC 17100\n",
        "Downloading Shewanella baltica OS117\n",
        "Successful download: Nitrosococcus watsonii C-113\n",
        "Downloading Bacteroides vulgatus ATCC 8482\n",
        "Successful download: Desulfitobacterium metallireducens DSM 15288\n",
        "Downloading Vibrio cholerae MJ-1236\n",
        "Successful download: Candidatus Moranella endobia PCVAL\n",
        "Successful download: Pseudomonas denitrificans ATCC 13867\n",
        "Downloading Adlercreutzia equolifaciens DSM 19450\n",
        "Successful download: Mycoplasma parvum str. Indiana\n",
        "Downloading Polaromonas naphthalenivorans CJ2\n",
        "Downloading Corynebacterium maris DSM 45190\n",
        "Successful download: Jonesia denitrificans DSM 20603\n",
        "Downloading Ilumatobacter coccineus YM16-304\n",
        "Successful download: Chlorobium limicola DSM 245\n",
        "Downloading Bacillus thuringiensis serovar galleriae\n",
        "Successful download: Streptobacillus moniliformis DSM 12112\n",
        "Downloading Bacillus cereus G9241\n",
        "Successful download: Desulfobulbus propionicus DSM 2032\n",
        "Downloading Planctomyces brasiliensis DSM 5305\n",
        "Successful download: Blattabacterium sp. (Blatta orientalis) str. Tarazona\n",
        "Downloading Bordetella avium 197N\n",
        "Successful download: Micrococcus luteus NCTC 2665\n",
        "Downloading Pectobacterium wasabiae WPP163\n",
        "Successful download: Cellulomonas flavigena DSM 20109\n",
        "Downloading Alkaliphilus metalliredigens QYMF\n",
        "Successful download: Kineococcus radiotolerans SRS30216 = ATCC BAA-149\n",
        "Downloading Nonlabens dokdonensis DSW-6\n",
        "Successful download: Octadecabacter arcticus 238\n",
        "Downloading Geobacter bemidjiensis Bem\n",
        "Successful download: Pelodictyon phaeoclathratiforme BU-1\n",
        "Downloading Thermoanaerobacterium saccharolyticum JW/SL-YS485\n",
        "Successful download: 'Nostoc azollae' 0708\n",
        "Successful download: Acidithiobacillus caldus ATCC 51756\n",
        "Downloading Xenorhabdus bovienii SS-2004\n",
        "Downloading Desulfitobacterium dichloroeliminans LMG P-21439\n",
        "Successful download: Desulfotalea psychrophila LSv54\n",
        "Downloading Desulfurobacterium thermolithotrophum DSM 11699\n",
        "Successful download: Shewanella halifaxensis HAW-EB4\n",
        "Downloading Yersinia pestis biovar Microtus str. 91001\n",
        "Successful download: Dactylococcopsis salina PCC 8305\n",
        "Downloading Nocardiopsis alba ATCC BAA-2165\n",
        "Successful download: Corynebacterium maris DSM 45190\n",
        "Downloading Bacillus lehensis G1\n",
        "Successful download: Collimonas fungivorans Ter331\n",
        "Downloading Frankia alni ACN14a\n",
        "Successful download: Adlercreutzia equolifaciens DSM 19450\n",
        "Downloading Rubrobacter xylanophilus DSM 9941\n",
        "Successful download: Methylomonas methanica MC09\n",
        "Downloading Glaciecola psychrophila 170\n",
        "Successful download: Caldilinea aerophila DSM 14535 = NBRC 104270\n",
        "Downloading Salinispora tropica CNB-440\n",
        "Successful download: Pseudoalteromonas atlantica T6c\n",
        "Downloading Bacillus atrophaeus 1942\n",
        "Successful download: Delftia acidovorans SPH-1\n",
        "Downloading Paenibacillus sabinae T27\n",
        "Successful download: Desulfurobacterium thermolithotrophum DSM 11699\n",
        "Downloading Phaeobacter inhibens DSM 17395\n",
        "Successful download: Vibrio cholerae MJ-1236\n",
        "Downloading Akkermansia muciniphila ATCC BAA-835\n",
        "Successful download: Sinorhizobium meliloti AK83\n",
        "Downloading Thermosediminibacter oceani DSM 16646\n",
        "Successful download: Nonlabens dokdonensis DSW-6\n",
        "Downloading Thioalkalimicrobium aerophilum AL3\n",
        "Successful download: Bacteroides vulgatus ATCC 8482\n",
        "Downloading Sulfuritalea hydrogenivorans sk43H\n",
        "Successful download: Polaromonas naphthalenivorans CJ2\n",
        "Downloading Marinomonas posidonica IVIA-Po-181\n",
        "Successful download: Bacillus cereus G9241\n",
        "Downloading Morganella morganii subsp. morganii KT\n",
        "Successful download: Pectobacterium wasabiae WPP163\n",
        "Successful download: Bacillus thuringiensis serovar galleriae\n",
        "Downloading Mycobacterium neoaurum VKM Ac-1815D\n",
        "Downloading Xanthomonas campestris pv. vesicatoria str. 85-10\n",
        "Successful download: Bordetella avium 197N\n",
        "Downloading Fluviicola taffensis DSM 16823\n",
        "Successful download: Thermoanaerobacterium saccharolyticum JW/SL-YS485\n",
        "Successful download: Desulfitobacterium dichloroeliminans LMG P-21439\n",
        "Downloading Citrobacter freundii CFNIH1\n",
        "Downloading Mycobacterium indicus pranii MTCC 9506\n",
        "Successful download: Alkaliphilus metalliredigens QYMF\n",
        "Downloading Corynebacterium vitaeruminis DSM 20294\n",
        "Successful download: Bacillus lehensis G1\n",
        "Downloading Rickettsia sibirica 246\n",
        "Successful download: Geobacter bemidjiensis Bem\n",
        "Downloading Pseudomonas balearica DSM 6083\n",
        "Successful download: Myxococcus stipitatus DSM 14675\n",
        "Downloading Wolbachia endosymbiont strain TRS of Brugia malayi\n",
        "Successful download: Akkermansia muciniphila ATCC BAA-835\n",
        "Downloading Caldicellulosiruptor kristjanssonii I77R1B\n",
        "Successful download: Rubrobacter xylanophilus DSM 9941\n",
        "Downloading Thermobispora bispora DSM 43833\n",
        "Successful download: Thioalkalimicrobium aerophilum AL3\n",
        "Downloading [Eubacterium] eligens ATCC 27750\n",
        "Successful download: Mesorhizobium loti MAFF303099\n",
        "Downloading Thermacetogenium phaeum DSM 12270\n",
        "Successful download: Rickettsia sibirica 246\n",
        "Downloading Snodgrassella alvi wkB2\n",
        "Successful download: Ilumatobacter coccineus YM16-304\n",
        "Downloading Legionella pneumophila subsp. pneumophila str. Philadelphia 1\n",
        "Successful download: Thermosediminibacter oceani DSM 16646\n",
        "Successful download: Wolbachia endosymbiont strain TRS of Brugia malayi\n",
        "Downloading Roseburia hominis A2-183\n",
        "Downloading Streptomyces violaceusniger Tu 4113\n",
        "Successful download: Bacillus atrophaeus 1942\n",
        "Downloading Klebsiella oxytoca E718\n",
        "Successful download: Yersinia pestis biovar Microtus str. 91001\n",
        "Downloading Bacteriovorax marinus SJ\n",
        "Successful download: Sulfuritalea hydrogenivorans sk43H\n",
        "Downloading Paenibacillus larvae subsp. larvae DSM 25430\n",
        "Successful download: Planctomyces brasiliensis DSM 5305\n",
        "Successful download: Phaeobacter inhibens DSM 17395\n",
        "Downloading Colwellia psychrerythraea 34H\n",
        "Downloading Flexistipes sinusarabici DSM 4947\n",
        "Successful download: Shewanella baltica OS117\n",
        "Downloading Haemophilus parainfluenzae T3T1\n",
        "Successful download: Salinispora tropica CNB-440\n",
        "Downloading Brachyspira intermedia PWS/A\n",
        "Successful download: Nocardiopsis alba ATCC BAA-2165\n",
        "Downloading Helicobacter cinaedi PAGU611\n",
        "Successful download: Corynebacterium vitaeruminis DSM 20294\n",
        "Successful download: Morganella morganii subsp. morganii KT\n",
        "Downloading Roseibacterium elongatum DSM 19469\n",
        "Downloading Acinetobacter calcoaceticus PHEA-2\n",
        "Successful download: Paenibacillus sabinae T27\n",
        "Downloading Sphingomonas wittichii RW1\n",
        "Successful download: Marinomonas posidonica IVIA-Po-181\n",
        "Successful download: Caldicellulosiruptor kristjanssonii I77R1B\n",
        "Downloading Denitrovibrio acetiphilus DSM 12809\n",
        "Downloading Bacteroides fragilis 638R\n",
        "Successful download: [Eubacterium] eligens ATCC 27750\n",
        "Downloading Streptococcus pyogenes NZ131\n",
        "Successful download: Frankia alni ACN14a\n",
        "Downloading Rubrivivax gelatinosus IL144\n",
        "Successful download: Thermacetogenium phaeum DSM 12270\n",
        "Downloading Pseudomonas mosselii SJ10\n",
        "Successful download: Glaciecola psychrophila 170\n",
        "Downloading Clostridium saccharobutylicum DSM 13864\n",
        "Successful download: Pseudomonas balearica DSM 6083\n",
        "Downloading Shigella boydii Sb227\n",
        "Successful download: Snodgrassella alvi wkB2\n",
        "Downloading Mahella australiensis 50-1 BON\n",
        "Successful download: Legionella pneumophila subsp. pneumophila str. Philadelphia 1\n",
        "Downloading Owenweeksia hongkongensis DSM 17368\n",
        "Successful download: Mycobacterium indicus pranii MTCC 9506\n",
        "Downloading Streptococcus gallolyticus UCN34\n",
        "Successful download: Thermobispora bispora DSM 43833\n",
        "Successful download: Xenorhabdus bovienii SS-2004\n",
        "Downloading Thiomonas intermedia K12\n",
        "Downloading Calothrix sp. PCC 6303\n",
        "Successful download: Helicobacter cinaedi PAGU611\n",
        "Successful download: Roseburia hominis A2-183\n",
        "Downloading Streptococcus iniae SF1\n",
        "Downloading Bdellovibrio exovorus JSS\n",
        "Successful download: Xanthomonas campestris pv. vesicatoria str. 85-10\n",
        "Downloading Streptococcus pseudopneumoniae IS7493\n",
        "Successful download: Citrobacter freundii CFNIH1\n",
        "Downloading Anaerococcus prevotii DSM 20548\n",
        "Successful download: Saccharopolyspora erythraea NRRL 2338\n",
        "Downloading Methylocella silvestris BL2\n",
        "Successful download: Haemophilus parainfluenzae T3T1\n",
        "Downloading Burkholderia cenocepacia HI2424\n",
        "Successful download: Flexistipes sinusarabici DSM 4947\n",
        "Downloading Streptococcus anginosus C238\n",
        "Successful download: Fluviicola taffensis DSM 16823\n",
        "Downloading Lactobacillus ruminis ATCC 27782\n",
        "Successful download: Streptococcus pyogenes NZ131\n",
        "Downloading Flexibacter litoralis DSM 6794\n",
        "Successful download: Brachyspira intermedia PWS/A\n",
        "Downloading Brucella abortus S19\n",
        "Successful download: Paenibacillus larvae subsp. larvae DSM 25430\n",
        "Downloading Clostridium baratii str. Sullivan\n",
        "Successful download: Acinetobacter calcoaceticus PHEA-2\n",
        "Downloading Rickettsia akari str. Hartford\n",
        "Successful download: Bacteriovorax marinus SJ\n",
        "Downloading Meiothermus silvanus DSM 9946\n",
        "Successful download: Streptococcus iniae SF1\n",
        "Downloading Blattabacterium sp. (Panesthia angustipennis spadica) str. BPAA\n",
        "Successful download: Denitrovibrio acetiphilus DSM 12809\n",
        "Downloading Haemophilus influenzae PittEE\n",
        "Successful download: Klebsiella oxytoca E718\n",
        "Downloading Kangiella koreensis DSM 16069\n",
        "Successful download: Bdellovibrio exovorus JSS\n",
        "Downloading Chlorobium luteolum DSM 273\n",
        "Successful download: Anaerococcus prevotii DSM 20548\n",
        "Downloading Alkalilimnicola ehrlichii MLHE-1\n",
        "Successful download: Roseibacterium elongatum DSM 19469\n",
        "Downloading Shimwellia blattae DSM 4481 = NBRC 105725\n",
        "Successful download: Rubrivivax gelatinosus IL144\n",
        "Downloading Porphyromonas gingivalis TDC60\n",
        "Successful download: Lactobacillus ruminis ATCC 27782\n",
        "Downloading Aeromonas media WS\n",
        "Successful download: Streptococcus anginosus C238\n",
        "Downloading Pseudoalteromonas haloplanktis TAC125\n",
        "Successful download: Rickettsia akari str. Hartford\n",
        "Downloading Rhodococcus pyridinivorans SB3094\n",
        "Successful download: Streptococcus gallolyticus UCN34\n",
        "Downloading Sphingobium japonicum UT26S\n",
        "Successful download: Colwellia psychrerythraea 34H\n",
        "Downloading Aromatoleum aromaticum EbN1\n",
        "Successful download: Blattabacterium sp. (Panesthia angustipennis spadica) str. BPAA\n",
        "Downloading Chlorobium chlorochromatii CaD3\n",
        "Successful download: Mahella australiensis 50-1 BON\n",
        "Downloading Bacillus pseudofirmus OF4\n",
        "Successful download: Streptococcus pseudopneumoniae IS7493\n",
        "Downloading Candidatus Tremblaya phenacola PAVE\n",
        "Successful download: Shigella boydii Sb227\n",
        "Downloading Serratia plymuthica RVH1\n",
        "Successful download: Clostridium saccharobutylicum DSM 13864\n",
        "Downloading Prevotella dentalis DSM 3688\n",
        "Successful download: Sphingomonas wittichii RW1\n",
        "Downloading Halothiobacillus neapolitanus c2\n",
        "Successful download: Haemophilus influenzae PittEE\n",
        "Successful download: Candidatus Tremblaya phenacola PAVE\n",
        "Downloading Allochromatium vinosum DSM 180\n",
        "Downloading Thermotoga caldifontis AZM44c09\n",
        "Successful download: Owenweeksia hongkongensis DSM 17368\n",
        "Downloading Phaeobacter gallaeciensis 2.10\n",
        "Successful download: Clostridium baratii str. Sullivan\n",
        "Downloading Arthrobacter phenanthrenivorans Sphe3\n",
        "Successful download: Methylocella silvestris BL2\n",
        "Downloading Acholeplasma laidlawii PG-8A\n",
        "Successful download: Thiomonas intermedia K12\n",
        "Downloading Verminephrobacter eiseniae EF01-2\n",
        "Successful download: Chlorobium luteolum DSM 273\n",
        "Downloading Gramella forsetii KT0803\n",
        "Successful download: Meiothermus silvanus DSM 9946\n",
        "Downloading Francisella cf. tularensis subsp. novicida 3523\n",
        "Successful download: Serratia plymuthica RVH1\n",
        "Downloading Rickettsia prowazekii str. GvV257\n",
        "Successful download: Kangiella koreensis DSM 16069\n",
        "Downloading Thermovirga lienii DSM 17291\n",
        "Successful download: Bacteroides fragilis 638R\n",
        "Downloading Mycoplasma hyopneumoniae 7448\n",
        "Successful download: Brucella abortus S19\n",
        "Downloading Campylobacter curvus 525.92\n",
        "Successful download: Flexibacter litoralis DSM 6794\n",
        "Downloading Cellvibrio japonicus Ueda107\n",
        "Successful download: Thermotoga caldifontis AZM44c09\n",
        "Downloading Rickettsia rickettsii str. Hino\n",
        "Successful download: Mycobacterium neoaurum VKM Ac-1815D\n",
        "Downloading Aequorivita sublithincola DSM 14238\n",
        "Successful download: Porphyromonas gingivalis TDC60\n",
        "Downloading Enterobacter asburiae LF7a\n",
        "Successful download: Chlorobium chlorochromatii CaD3\n",
        "Downloading Carboxydothermus hydrogenoformans Z-2901\n",
        "Successful download: Mycoplasma hyopneumoniae 7448\n",
        "Downloading Bradyrhizobium diazoefficiens USDA 110\n",
        "Successful download: Rickettsia prowazekii str. GvV257\n",
        "Downloading Prevotella denticola F0289\n",
        "Successful download: Halothiobacillus neapolitanus c2\n",
        "Downloading Sulfuricurvum kujiense DSM 16994\n",
        "Successful download: Pseudomonas mosselii SJ10\n",
        "Successful download: Acholeplasma laidlawii PG-8A\n",
        "Downloading Vibrio parahaemolyticus RIMD 2210633\n",
        "Downloading Candidatus Sulcia muelleri PSPU\n",
        "Successful download: Francisella cf. tularensis subsp. novicida 3523\n",
        "Downloading Syntrophobotulus glycolicus DSM 8271\n",
        "Successful download: Rickettsia rickettsii str. Hino\n",
        "Successful download: Candidatus Sulcia muelleri PSPU\n",
        "Downloading [Clostridium] stercorarium subsp. stercorarium DSM 8532\n",
        "Downloading Roseobacter denitrificans OCh 114\n",
        "Successful download: Alkalilimnicola ehrlichii MLHE-1\n",
        "Downloading Enterococcus faecalis D32\n",
        "Successful download: Calothrix sp. PCC 6303\n",
        "Downloading Dechlorosoma suillum PS\n",
        "Successful download: Sphingobium japonicum UT26S\n",
        "Downloading Gemmatimonas aurantiaca T-27\n",
        "Successful download: Campylobacter curvus 525.92\n",
        "Downloading Echinicola vietnamensis DSM 17526\n",
        "Successful download: Prevotella dentalis DSM 3688\n",
        "Downloading Listeria welshimeri serovar 6b str. SLCC5334\n",
        "Successful download: Streptomyces violaceusniger Tu 4113\n",
        "Downloading Bradyrhizobium oligotrophicum S58\n",
        "Successful download: Pseudoalteromonas haloplanktis TAC125\n",
        "Downloading Lysinibacillus sphaericus C3-41\n",
        "Successful download: Aeromonas media WS\n",
        "Downloading Symbiobacterium thermophilum IAM 14863\n",
        "Successful download: Thermovirga lienii DSM 17291\n",
        "Downloading Staphylococcus pasteuri SP1\n",
        "Successful download: Shimwellia blattae DSM 4481 = NBRC 105725\n",
        "Downloading Staphylococcus warneri SG1\n",
        "Successful download: Allochromatium vinosum DSM 180\n",
        "Downloading Desulfovibrio desulfuricans subsp. desulfuricans str. ATCC 27774\n",
        "Successful download: Aromatoleum aromaticum EbN1\n",
        "Downloading Conexibacter woesei DSM 14684\n",
        "Successful download: Arthrobacter phenanthrenivorans Sphe3\n",
        "Successful download: Bacillus pseudofirmus OF4\n",
        "Downloading Mycoplasma haemofelis str. Langford 1\n",
        "Downloading Pseudomonas fluorescens F113\n",
        "Successful download: Phaeobacter gallaeciensis 2.10\n",
        "Downloading Thermoanaerobacterium xylanolyticum LX-11\n",
        "Successful download: Prevotella denticola F0289\n",
        "Downloading Listeria ivanovii subsp. ivanovii\n",
        "Successful download: Gramella forsetii KT0803\n",
        "Downloading Pediococcus pentosaceus ATCC 25745\n",
        "Successful download: Carboxydothermus hydrogenoformans Z-2901\n",
        "Downloading Brucella ovis ATCC 25840\n",
        "Successful download: Aequorivita sublithincola DSM 14238\n",
        "Downloading Komagataeibacter medellinensis NBRC 3288\n",
        "Successful download: Sulfuricurvum kujiense DSM 16994\n",
        "Downloading Oenococcus oeni PSU-1\n",
        "Successful download: Enterobacter asburiae LF7a\n",
        "Downloading Pseudomonas protegens Pf-5\n",
        "Successful download: Burkholderia cenocepacia HI2424\n",
        "Downloading Rahnella aquatilis HX2\n",
        "Successful download: Enterococcus faecalis D32\n",
        "Successful download: Staphylococcus pasteuri SP1\n",
        "Downloading Mannheimia haemolytica USDA-ARS-USMARC-185\n",
        "Downloading Pelobacter carbinolicus DSM 2380\n",
        "Successful download: [Clostridium] stercorarium subsp. stercorarium DSM 8532\n",
        "Successful download: Verminephrobacter eiseniae EF01-2\n",
        "Downloading Geobacillus thermodenitrificans NG80-2\n",
        "Downloading Mycoplasma mobile 163K\n",
        "Successful download: Staphylococcus warneri SG1\n",
        "Downloading Halothermothrix orenii H 168\n",
        "Successful download: Mycoplasma haemofelis str. Langford 1\n",
        "Downloading Muricauda ruestringensis DSM 13258\n",
        "Successful download: Listeria welshimeri serovar 6b str. SLCC5334\n",
        "Downloading Chroococcidiopsis thermalis PCC 7203\n",
        "Successful download: Desulfovibrio desulfuricans subsp. desulfuricans str. ATCC 27774\n",
        "Downloading Shewanella pealeana ATCC 700345\n",
        "Successful download: Roseobacter denitrificans OCh 114\n",
        "Downloading Cellulophaga baltica NN016038\n",
        "Successful download: Pediococcus pentosaceus ATCC 25745\n",
        "Downloading Bacillus anthracis str. H9401\n",
        "Successful download: Oenococcus oeni PSU-1\n",
        "Downloading Glaciecola nitratireducens FR1064\n",
        "Successful download: Mycoplasma mobile 163K\n",
        "Downloading Spirochaeta smaragdinae DSM 11293\n",
        "Successful download: Syntrophobotulus glycolicus DSM 8271\n",
        "Downloading Enterococcus hirae ATCC 9790\n",
        "Successful download: Vibrio parahaemolyticus RIMD 2210633\n",
        "Downloading Exiguobacterium antarcticum B7\n",
        "Successful download: Rhodococcus pyridinivorans SB3094\n",
        "Downloading Runella slithyformis DSM 19594\n",
        "Successful download: Dechlorosoma suillum PS\n",
        "Downloading Baumannia cicadellinicola str. Hc (Homalodisca coagulata)\n",
        "Successful download: Lysinibacillus sphaericus C3-41\n",
        "Downloading Thermincola potens JR\n",
        "Successful download: Thermoanaerobacterium xylanolyticum LX-11\n",
        "Downloading Burkholderia xenovorans LB400\n",
        "Successful download: Echinicola vietnamensis DSM 17526\n",
        "Downloading Methylobacterium nodulans ORS 2060\n",
        "Successful download: Gemmatimonas aurantiaca T-27\n",
        "Successful download: Komagataeibacter medellinensis NBRC 3288\n",
        "Successful download: Listeria ivanovii subsp. ivanovii\n",
        "Downloading Streptococcus mitis B6\n",
        "Downloading Paenibacillus mucilaginosus KNP414\n",
        "Downloading Streptococcus pasteurianus ATCC 43144\n",
        "Successful download: Baumannia cicadellinicola str. Hc (Homalodisca coagulata)\n",
        "Downloading Stackebrandtia nassauensis DSM 44728\n",
        "Successful download: Cellvibrio japonicus Ueda107\n",
        "Downloading Idiomarina loihiensis GSL 199\n",
        "Successful download: Geobacillus thermodenitrificans NG80-2\n",
        "Downloading Ehrlichia muris AS145\n",
        "Successful download: Mannheimia haemolytica USDA-ARS-USMARC-185\n",
        "Downloading Microlunatus phosphovorus NM-1\n",
        "Successful download: Symbiobacterium thermophilum IAM 14863\n",
        "Downloading Alicycliphilus denitrificans BC\n",
        "Successful download: Brucella ovis ATCC 25840\n",
        "Downloading Clostridium cellulovorans 743B\n",
        "Successful download: Bradyrhizobium diazoefficiens USDA 110\n",
        "Downloading Riemerella anatipestifer RA-GD\n",
        "Successful download: Halothermothrix orenii H 168\n",
        "Downloading Staphylococcus aureus subsp. aureus T0131\n",
        "Successful download: Enterococcus hirae ATCC 9790\n",
        "Downloading Nitrosococcus halophilus Nc 4\n",
        "Successful download: Pseudomonas fluorescens F113\n",
        "Successful download: Pelobacter carbinolicus DSM 2380\n",
        "Successful download: Rahnella aquatilis HX2\n",
        "Downloading Propionibacterium acidipropionici ATCC 4875\n",
        "Downloading Candidatus Hepatoplasma crinochetorum Av\n",
        "Downloading Corynebacterium urealyticum DSM 7109\n",
        "Successful download: Ehrlichia muris AS145\n",
        "Downloading Synechocystis sp. PCC 6803 substr. PCC-P\n",
        "Successful download: Bradyrhizobium oligotrophicum S58\n",
        "Downloading Marinomonas mediterranea MMB-1\n",
        "Successful download: Streptococcus pasteurianus ATCC 43144\n",
        "Downloading Desulfurispirillum indicum S5\n",
        "Successful download: Streptococcus mitis B6\n",
        "Downloading Rothia mucilaginosa DY-18\n",
        "Successful download: Conexibacter woesei DSM 14684\n",
        "Downloading Clostridium saccharoperbutylacetonicum N1-4(HMT)\n",
        "Successful download: Exiguobacterium antarcticum B7\n",
        "Downloading Vibrio vulnificus MO6-24/O\n",
        "Successful download: Candidatus Hepatoplasma crinochetorum Av\n",
        "Downloading Bacillus weihenstephanensis KBAB4\n",
        "Successful download: Thermincola potens JR\n",
        "Downloading Geodermatophilus obscurus DSM 43160\n",
        "Successful download: Bacillus anthracis str. H9401\n",
        "Successful download: Idiomarina loihiensis GSL 199\n",
        "Downloading Candidatus Kinetoplastibacterium oncopeltii TCC290E\n",
        "Downloading Prevotella sp. oral taxon 299 str. F0039\n",
        "Successful download: Riemerella anatipestifer RA-GD\n",
        "Downloading Sphingopyxis alaskensis RB2256\n",
        "Successful download: Spirochaeta smaragdinae DSM 11293\n",
        "Downloading Brachyspira pilosicoli 95/1000\n",
        "Successful download: Pseudomonas protegens Pf-5\n",
        "Downloading [Clostridium] saccharolyticum WM1\n",
        "Successful download: Prevotella sp. oral taxon 299 str. F0039\n",
        "Downloading Tetragenococcus halophilus NBRC 12172\n",
        "Successful download: Muricauda ruestringensis DSM 13258\n",
        "Downloading Helicobacter mustelae 12198\n",
        "Successful download: Shewanella pealeana ATCC 700345\n",
        "Downloading Rhodobacter sphaeroides 2.4.1\n",
        "Successful download: Candidatus Kinetoplastibacterium oncopeltii TCC290E\n",
        "Downloading Providencia stuartii MRSN 2154\n",
        "Successful download: Chroococcidiopsis thermalis PCC 7203\n",
        "Successful download: Runella slithyformis DSM 19594\n",
        "Downloading Cellulomonas fimi ATCC 484\n",
        "Downloading Microcystis aeruginosa NIES-843\n",
        "Successful download: Cellulophaga baltica NN016038\n",
        "Downloading Candidatus Blochmannia vafer str. BVAF\n",
        "Successful download: Rothia mucilaginosa DY-18\n",
        "Downloading Acidaminococcus fermentans DSM 20731\n",
        "Successful download: Staphylococcus aureus subsp. aureus T0131\n",
        "Downloading Brucella microti CCM 4915\n",
        "Successful download: Corynebacterium urealyticum DSM 7109\n",
        "Downloading Thermus thermophilus HB8\n",
        "Successful download: Glaciecola nitratireducens FR1064\n",
        "Downloading Citrobacter rodentium ICC168\n",
        "Successful download: Propionibacterium acidipropionici ATCC 4875\n",
        "Downloading Wolbachia endosymbiont wPip_Mol of Culex molestus\n",
        "Successful download: Synechocystis sp. PCC 6803 substr. PCC-P\n",
        "Downloading Phenylobacterium zucineum HLK1\n",
        "Successful download: Candidatus Blochmannia vafer str. BVAF\n",
        "Downloading Kytococcus sedentarius DSM 20547\n",
        "Successful download: Desulfurispirillum indicum S5\n",
        "Successful download: Nitrosococcus halophilus Nc 4\n",
        "Downloading Streptomyces albus J1074\n",
        "Downloading Dichelobacter nodosus VCS1703A\n",
        "Successful download: Brachyspira pilosicoli 95/1000\n",
        "Downloading Ornithobacterium rhinotracheale ORT-UMN 88\n",
        "Successful download: Alicycliphilus denitrificans BC\n",
        "Downloading Corynebacterium variabile DSM 44702\n",
        "Successful download: Marinomonas mediterranea MMB-1\n",
        "Downloading Selenomonas ruminantium subsp. lactilytica TAM6421\n",
        "Successful download: Microlunatus phosphovorus NM-1\n",
        "Downloading Pseudomonas brassicacearum subsp. brassicacearum NFM421\n",
        "Successful download: Clostridium cellulovorans 743B\n",
        "Downloading Thermus scotoductus SA-01\n",
        "Successful download: Tetragenococcus halophilus NBRC 12172\n",
        "Downloading Chlamydia trachomatis L3/404/LN\n",
        "Successful download: Rhodobacter sphaeroides 2.4.1\n",
        "Downloading Pseudomonas syringae pv. tomato str. DC3000\n",
        "Successful download: Wolbachia endosymbiont wPip_Mol of Culex molestus\n",
        "Downloading Truepera radiovictrix DSM 17093\n",
        "Successful download: Helicobacter mustelae 12198\n",
        "Downloading Rickettsia parkeri str. Portsmouth\n",
        "Successful download: Sphingopyxis alaskensis RB2256\n",
        "Downloading Anaerobaculum mobile DSM 13181\n",
        "Successful download: Dichelobacter nodosus VCS1703A\n",
        "Downloading Thioalkalivibrio nitratireducens DSM 14787\n",
        "Successful download: Clostridium saccharoperbutylacetonicum N1-4(HMT)\n",
        "Downloading Rothia dentocariosa ATCC 17931\n",
        "Successful download: Chlamydia trachomatis L3/404/LN\n",
        "Downloading Dechloromonas aromatica RCB\n",
        "Successful download: Acidaminococcus fermentans DSM 20731\n",
        "Downloading Rickettsia rhipicephali str. 3-7-female6-CWPP\n",
        "Successful download: Stackebrandtia nassauensis DSM 44728\n",
        "Downloading Brucella ceti TE28753-12\n",
        "Successful download: Vibrio vulnificus MO6-24/O\n",
        "Downloading Actinosynnema mirum DSM 43827\n",
        "Successful download: Bacillus weihenstephanensis KBAB4\n",
        "Downloading Acinetobacter baumannii BJAB07104\n",
        "Successful download: Kytococcus sedentarius DSM 20547\n",
        "Downloading Marinobacter adhaerens HP15\n",
        "Successful download: Geodermatophilus obscurus DSM 43160\n",
        "Downloading Methylotenera versatilis 301\n",
        "Successful download: Paenibacillus mucilaginosus KNP414\n",
        "Downloading Pseudomonas cichorii JBC1\n",
        "Successful download: Rickettsia parkeri str. Portsmouth\n",
        "Downloading Gloeobacter violaceus PCC 7421\n",
        "Successful download: Thermus thermophilus HB8\n",
        "Downloading Mycobacterium marinum M\n",
        "Successful download: Brucella microti CCM 4915\n",
        "Downloading Corynebacterium terpenotabidum Y-11\n",
        "Successful download: Burkholderia xenovorans LB400\n",
        "Downloading Hyphomicrobium nitrativorans NL23\n",
        "Successful download: Phenylobacterium zucineum HLK1\n",
        "Downloading Gallionella capsiferriformans ES-2\n",
        "Successful download: Corynebacterium variabile DSM 44702\n",
        "Downloading Cellulophaga lytica DSM 7489\n",
        "Successful download: Methylobacterium nodulans ORS 2060\n",
        "Downloading Erwinia tasmaniensis Et1/99\n",
        "Successful download: Rickettsia rhipicephali str. 3-7-female6-CWPP\n",
        "Downloading Sebaldella termitidis ATCC 33386\n",
        "Successful download: Providencia stuartii MRSN 2154\n",
        "Downloading Clostridium tetani E88\n",
        "Successful download: Cellulomonas fimi ATCC 484\n",
        "Downloading Bacillus megaterium NBRC 15308 = ATCC 14581\n",
        "Successful download: [Clostridium] saccharolyticum WM1\n",
        "Successful download: Ornithobacterium rhinotracheale ORT-UMN 88\n",
        "Downloading Streptococcus parasanguinis ATCC 15912\n",
        "Downloading Geobacter uraniireducens Rf4\n",
        "Successful download: Selenomonas ruminantium subsp. lactilytica TAM6421\n",
        "Downloading Pseudomonas chlororaphis subsp. aurantiaca\n",
        "Successful download: Thermus scotoductus SA-01\n",
        "Downloading Pectobacterium atrosepticum SCRI1043\n",
        "Successful download: Rothia dentocariosa ATCC 17931\n",
        "Downloading Spiroplasma taiwanense CT-1\n",
        "Successful download: Anaerobaculum mobile DSM 13181\n",
        "Downloading Neorickettsia helminthoeca str. Oregon\n",
        "Successful download: Truepera radiovictrix DSM 17093\n",
        "Downloading Pseudomonas syringae pv. phaseolicola 1448A\n",
        "Successful download: Microcystis aeruginosa NIES-843\n",
        "Downloading Saccharophagus degradans 2-40\n",
        "Successful download: Thioalkalivibrio nitratireducens DSM 14787\n",
        "Downloading Dyadobacter fermentans DSM 18053\n",
        "Successful download: Neorickettsia helminthoeca str. Oregon\n",
        "Downloading Bifidobacterium dentium Bd1\n",
        "Successful download: Corynebacterium terpenotabidum Y-11\n",
        "Downloading Rickettsia conorii str. Malish 7\n",
        "Successful download: Brucella ceti TE28753-12\n",
        "Successful download: Methylotenera versatilis 301\n",
        "Downloading Chromohalobacter salexigens DSM 3043\n",
        "Downloading Rickettsia japonica YH\n",
        "Successful download: Spiroplasma taiwanense CT-1\n",
        "Downloading Starkeya novella DSM 506\n",
        "Successful download: Acinetobacter baumannii BJAB07104\n",
        "Downloading Spiroplasma culicicola AES-1\n",
        "Successful download: Pseudomonas brassicacearum subsp. brassicacearum NFM421\n",
        "Downloading Shewanella woodyi ATCC 51908\n",
        "Successful download: Dechloromonas aromatica RCB\n",
        "Downloading Gluconobacter oxydans DSM 3504\n",
        "Successful download: Streptococcus parasanguinis ATCC 15912\n",
        "Downloading Erwinia pyrifoliae Ep1/96\n",
        "Successful download: Marinobacter adhaerens HP15\n",
        "Downloading Sulfurimonas autotrophica DSM 16294\n",
        "Successful download: Streptomyces albus J1074\n",
        "Downloading Burkholderia rhizoxinica HKI 454\n",
        "Successful download: Clostridium tetani E88\n",
        "Downloading Aquifex aeolicus VF5\n",
        "Successful download: Gloeobacter violaceus PCC 7421\n",
        "Downloading Pantoea ananatis PA13\n",
        "Successful download: Rickettsia japonica YH\n",
        "Downloading Novosphingobium aromaticivorans DSM 12444\n",
        "Successful download: Cellulophaga lytica DSM 7489\n",
        "Downloading Shewanella sediminis HAW-EB3\n",
        "Successful download: Gallionella capsiferriformans ES-2\n",
        "Downloading Desulfovibrio alaskensis G20\n",
        "Successful download: Spiroplasma culicicola AES-1\n",
        "Downloading Halorhodospira halophila SL1\n",
        "Successful download: Rickettsia conorii str. Malish 7\n",
        "Downloading Candidatus Solibacter usitatus Ellin6076\n",
        "Successful download: Citrobacter rodentium ICC168\n",
        "Downloading Weissella koreensis KACC 15510\n",
        "Successful download: Hyphomicrobium nitrativorans NL23\n",
        "Downloading Bacillus coagulans DSM 1 = ATCC 7050\n",
        "Successful download: Bifidobacterium dentium Bd1\n",
        "Downloading Halanaerobium praevalens DSM 2228\n",
        "Successful download: Pseudomonas cichorii JBC1\n",
        "Downloading Brachybacterium faecium DSM 4810\n",
        "Successful download: Sebaldella termitidis ATCC 33386\n",
        "Downloading Propionibacterium avidum 44067\n",
        "Successful download: Mycobacterium marinum M\n",
        "Downloading Leuconostoc gelidum JB7\n",
        "Successful download: Saccharophagus degradans 2-40\n",
        "Downloading Streptococcus suis 6407\n",
        "Successful download: Sulfurimonas autotrophica DSM 16294\n",
        "Downloading Strawberry lethal yellows phytoplasma (CPA) str. NZSb11\n",
        "Successful download: Aquifex aeolicus VF5\n",
        "Downloading Chloroflexus aggregans DSM 9485\n",
        "Successful download: Weissella koreensis KACC 15510\n",
        "Successful download: Burkholderia rhizoxinica HKI 454\n",
        "Downloading Listonella anguillarum M3\n",
        "Downloading Trueperella pyogenes TP8\n",
        "Successful download: Erwinia tasmaniensis Et1/99\n",
        "Downloading Corynebacterium aurimucosum ATCC 700975\n",
        "Successful download: Chromohalobacter salexigens DSM 3043\n",
        "Downloading Leptospira borgpetersenii serovar Hardjo-bovis str. L550\n",
        "Successful download: Pseudomonas syringae pv. phaseolicola 1448A\n",
        "Downloading Staphylococcus saprophyticus subsp. saprophyticus ATCC 15305\n",
        "Successful download: Erwinia pyrifoliae Ep1/96\n",
        "Downloading Mycoplasma leachii PG50\n",
        "Successful download: Geobacter uraniireducens Rf4\n",
        "Downloading Desulfovibrio salexigens DSM 2638\n",
        "Successful download: Leuconostoc gelidum JB7\n",
        "Downloading Lactobacillus salivarius CECT 5713\n",
        "Successful download: Actinosynnema mirum DSM 43827\n",
        "Downloading Mycobacterium canettii CIPT 140010059\n",
        "Successful download: Halorhodospira halophila SL1\n",
        "Downloading Legionella oakridgensis ATCC 33761 = DSM 21215\n",
        "Successful download: Pseudomonas syringae pv. tomato str. DC3000\n",
        "Downloading Thiomicrospira crunogena XCL-2\n",
        "Successful download: Dyadobacter fermentans DSM 18053\n",
        "Downloading Pseudoxanthomonas spadix BD-a59\n",
        "Successful download: Pseudomonas chlororaphis subsp. aurantiaca\n",
        "Downloading Mycobacterium vanbaalenii PYR-1\n",
        "Successful download: Propionibacterium avidum 44067\n",
        "Downloading Bartonella bacilliformis KC583\n",
        "Successful download: Novosphingobium aromaticivorans DSM 12444\n",
        "Downloading Thermovibrio ammonificans HB-1\n",
        "Successful download: Strawberry lethal yellows phytoplasma (CPA) str. NZSb11\n",
        "Downloading Bacillus cellulosilyticus DSM 2522\n",
        "Successful download: Streptococcus suis 6407\n",
        "Downloading Acetohalobium arabaticum DSM 5501\n",
        "Successful download: Desulfovibrio alaskensis G20\n",
        "Downloading Thermotoga maritima MSB8\n",
        "Successful download: Gluconobacter oxydans DSM 3504\n",
        "Downloading Tolumonas auensis DSM 9187\n",
        "Successful download: Pantoea ananatis PA13\n",
        "Downloading Serratia symbiotica str. 'Cinara cedri'\n",
        "Successful download: Brachybacterium faecium DSM 4810\n",
        "Downloading Enterococcus faecium NRRL B-2354\n",
        "Successful download: Trueperella pyogenes TP8\n",
        "Downloading Chlorobium tepidum TLS\n",
        "Successful download: Mycoplasma leachii PG50\n",
        "Downloading Brucella pinnipedialis B2/94\n",
        "Successful download: Pectobacterium atrosepticum SCRI1043\n",
        "Successful download: Starkeya novella DSM 506\n",
        "Downloading Cyanobacterium stanieri PCC 7202\n",
        "Downloading Bifidobacterium animalis subsp. lactis ATCC 27673\n",
        "Successful download: Corynebacterium aurimucosum ATCC 700975\n",
        "Downloading Desulfomicrobium baculatum DSM 4028\n",
        "Successful download: Shewanella woodyi ATCC 51908\n",
        "Downloading Campylobacter fetus subsp. venerealis cfvi03/293\n",
        "Successful download: Staphylococcus saprophyticus subsp. saprophyticus ATCC 15305\n",
        "Downloading Methylibium petroleiphilum PM1\n",
        "Successful download: Lactobacillus salivarius CECT 5713\n",
        "Downloading Thermodesulfobacterium commune DSM 2178\n",
        "Successful download: Halanaerobium praevalens DSM 2228\n",
        "Downloading Lactobacillus rhamnosus Lc 705\n",
        "Successful download: Shewanella sediminis HAW-EB3\n",
        "Downloading Ehrlichia canis str. Jake\n",
        "Successful download: Bacillus coagulans DSM 1 = ATCC 7050\n",
        "Downloading Rickettsia canadensis str. McKiel\n",
        "Successful download: Bacillus megaterium NBRC 15308 = ATCC 14581\n",
        "Downloading Segniliparus rotundus DSM 44985\n",
        "Successful download: Serratia symbiotica str. 'Cinara cedri'\n",
        "Downloading Borrelia turicatae 91E135\n",
        "Successful download: Thiomicrospira crunogena XCL-2\n",
        "Downloading Streptomyces scabiei 87.22\n",
        "Successful download: Thermotoga maritima MSB8\n",
        "Downloading Gordonia bronchialis DSM 43247\n",
        "Successful download: Thermovibrio ammonificans HB-1\n",
        "Downloading Meiothermus ruber DSM 1279\n",
        "Successful download: Chloroflexus aggregans DSM 9485\n",
        "Successful download: Leptospira borgpetersenii serovar Hardjo-bovis str. L550\n",
        "Downloading Thalassolituus oleivorans MIL-1\n",
        "Downloading Lactobacillus brevis ATCC 367\n",
        "Successful download: Listonella anguillarum M3\n",
        "Downloading Deinococcus radiodurans R1\n",
        "Successful download: Bartonella bacilliformis KC583\n",
        "Downloading Actinobacillus succinogenes 130Z\n",
        "Successful download: Bifidobacterium animalis subsp. lactis ATCC 27673\n",
        "Successful download: Campylobacter fetus subsp. venerealis cfvi03/293\n",
        "Downloading Thermoanaerobacter pseudethanolicus ATCC 33223\n",
        "Downloading Neorickettsia risticii str. Illinois\n",
        "Successful download: Legionella oakridgensis ATCC 33761 = DSM 21215\n",
        "Downloading Turneriella parva DSM 21527\n",
        "Successful download: Borrelia turicatae 91E135\n",
        "Downloading Propionibacterium propionicum F0230a\n",
        "Successful download: Acetohalobium arabaticum DSM 5501\n",
        "Downloading Mycoplasma hyorhinis SK76\n",
        "Successful download: Rickettsia canadensis str. McKiel\n",
        "Downloading Acidaminococcus intestini RyC-MR95\n",
        "Successful download: Pseudoxanthomonas spadix BD-a59\n",
        "Downloading Corynebacterium falsenii DSM 44353\n",
        "Successful download: Ehrlichia canis str. Jake\n",
        "Downloading Desulfotomaculum acetoxidans DSM 771\n",
        "Successful download: Thermodesulfobacterium commune DSM 2178\n",
        "Downloading Bacillus bombysepticus str. Wang\n",
        "Successful download: Chlorobium tepidum TLS\n",
        "Downloading Asticcacaulis excentricus CB 48\n",
        "Successful download: Desulfovibrio salexigens DSM 2638\n",
        "Downloading Borrelia afzelii Tom3107\n",
        "Successful download: Tolumonas auensis DSM 9187\n",
        "Downloading Thioflavicoccus mobilis 8321\n",
        "Successful download: Brucella pinnipedialis B2/94\n",
        "Downloading Thioalkalivibrio thiocyanoxidans ARh 4\n",
        "Successful download: Cyanobacterium stanieri PCC 7202\n",
        "Downloading Desulfovibrio africanus str. Walvis Bay\n",
        "Successful download: Mycobacterium canettii CIPT 140010059\n",
        "Downloading Candidatus Cloacimonas acidaminovorans str. Evry\n",
        "Successful download: Neorickettsia risticii str. Illinois\n",
        "Downloading Haliscomenobacter hydrossis DSM 1100\n",
        "Successful download: Mycoplasma hyorhinis SK76\n",
        "Downloading Myxococcus xanthus DK 1622\n",
        "Successful download: Lactobacillus rhamnosus Lc 705\n",
        "Downloading Solitalea canadensis DSM 3403\n",
        "Successful download: Enterococcus faecium NRRL B-2354\n",
        "Downloading Waddlia chondrophila WSU 86-1044\n",
        "Successful download: Lactobacillus brevis ATCC 367\n",
        "Downloading Mycobacterium chubuense NBB4\n",
        "Successful download: Methylibium petroleiphilum PM1\n",
        "Downloading Lachnoclostridium phytofermentans ISDg\n",
        "Successful download: Desulfomicrobium baculatum DSM 4028\n",
        "Downloading Deinococcus geothermalis DSM 11300\n",
        "Successful download: Actinobacillus succinogenes 130Z\n",
        "Successful download: Borrelia afzelii Tom3107\n",
        "Downloading Candidatus Portiera aleyrodidarum MED (Bemisia tabaci)\n",
        "Downloading Streptococcus oligofermentans AS 1.3089\n",
        "Successful download: Segniliparus rotundus DSM 44985\n",
        "Downloading Rickettsia montanensis str. OSU 85-930\n",
        "Successful download: Candidatus Solibacter usitatus Ellin6076\n",
        "Downloading Candidatus Amoebophilus asiaticus 5a2\n",
        "Successful download: Bacillus cellulosilyticus DSM 2522\n",
        "Downloading Streptomyces collinus Tu 365\n",
        "Successful download: Acidaminococcus intestini RyC-MR95\n",
        "Downloading Campylobacter coli RM1875\n",
        "Successful download: Candidatus Portiera aleyrodidarum MED (Bemisia tabaci)\n",
        "Downloading Geobacter lovleyi SZ\n",
        "Successful download: Meiothermus ruber DSM 1279\n",
        "Downloading Actinoplanes friuliensis DSM 7358\n",
        "Successful download: Corynebacterium falsenii DSM 44353\n",
        "Successful download: Deinococcus radiodurans R1\n",
        "Downloading Legionella longbeachae NSW150\n",
        "Downloading Burkholderia phenoliruptrix BR3459a\n",
        "Successful download: Propionibacterium propionicum F0230a\n",
        "Downloading Magnetospirillum gryphiswaldense MSR-1 v2\n",
        "Successful download: Candidatus Cloacimonas acidaminovorans str. Evry\n",
        "Downloading Clostridium perfringens str. 13\n",
        "Successful download: Thalassolituus oleivorans MIL-1\n",
        "Downloading [Bacillus] selenitireducens MLS10\n",
        "Successful download: Waddlia chondrophila WSU 86-1044\n",
        "Downloading Bifidobacterium kashiwanohense PV20-2\n",
        "Successful download: Rickettsia montanensis str. OSU 85-930\n",
        "Downloading Nitrosomonas eutropha C91\n",
        "Successful download: Mycobacterium vanbaalenii PYR-1\n",
        "Downloading Sulfurospirillum multivorans DSM 12446\n",
        "Successful download: Streptococcus oligofermentans AS 1.3089\n",
        "Successful download: Thermoanaerobacter pseudethanolicus ATCC 33223\n",
        "Downloading Bifidobacterium breve 689b\n",
        "Downloading Parachlamydia acanthamoebae UV-7\n",
        "Successful download: Candidatus Amoebophilus asiaticus 5a2\n",
        "Downloading Enterococcus casseliflavus EC20\n",
        "Successful download: Desulfotomaculum acetoxidans DSM 771\n",
        "Downloading Brachyspira murdochii DSM 12563\n",
        "Successful download: Thioflavicoccus mobilis 8321\n",
        "Downloading Desulfovibrio magneticus RS-1\n",
        "Successful download: Asticcacaulis excentricus CB 48\n",
        "Downloading Kosmotoga olearia TBF 19.5.1\n",
        "Successful download: Turneriella parva DSM 21527\n",
        "Downloading Candidatus Liberibacter americanus str. Sao Paulo\n",
        "Successful download: Gordonia bronchialis DSM 43247\n",
        "Downloading Mycobacterium smegmatis JS623\n",
        "Successful download: Thioalkalivibrio thiocyanoxidans ARh 4\n",
        "Downloading Hahella chejuensis KCTC 2396\n",
        "Successful download: Campylobacter coli RM1875\n",
        "Downloading Caldanaerobacter subterraneus subsp. tengcongensis MB4\n",
        "Successful download: Bacillus bombysepticus str. Wang\n",
        "Downloading Alcanivorax borkumensis SK2\n",
        "Successful download: Desulfovibrio africanus str. Walvis Bay\n",
        "Downloading Yersinia enterocolitica subsp. palearctica 105.5R(r)\n",
        "Successful download: Bifidobacterium kashiwanohense PV20-2\n",
        "Downloading Spiroplasma apis B31\n",
        "Successful download: Solitalea canadensis DSM 3403\n",
        "Downloading Halobacillus halophilus DSM 2266\n",
        "Successful download: Candidatus Liberibacter americanus str. Sao Paulo\n",
        "Downloading Agrobacterium fabrum str. C58\n",
        "Successful download: Clostridium perfringens str. 13\n",
        "Downloading Polymorphum gilvum SL003B-26A1\n",
        "Successful download: Deinococcus geothermalis DSM 11300\n",
        "Downloading Streptococcus gordonii str. Challis substr. CH1\n",
        "Successful download: Bifidobacterium breve 689b\n",
        "Downloading Candidatus Symbiobacter mobilis CR\n",
        "Successful download: Nitrosomonas eutropha C91\n",
        "Downloading Streptococcus equi subsp. zooepidemicus\n",
        "Successful download: Geobacter lovleyi SZ\n",
        "Downloading Candidatus Tremblaya princeps PCVAL\n",
        "Successful download: Legionella longbeachae NSW150\n",
        "Downloading Syntrophobacter fumaroxidans MPOB\n",
        "Successful download: Lachnoclostridium phytofermentans ISDg\n",
        "Downloading Streptococcus sanguinis SK36\n",
        "Successful download: Parachlamydia acanthamoebae UV-7\n",
        "Successful download: Candidatus Tremblaya princeps PCVAL\n",
        "Successful download: Spiroplasma apis B31\n",
        "Successful download: Sulfurospirillum multivorans DSM 12446\n",
        "Successful download: Kosmotoga olearia TBF 19.5.1\n",
        "Successful download: [Bacillus] selenitireducens MLS10\n",
        "Successful download: Brachyspira murdochii DSM 12563\n",
        "Successful download: Magnetospirillum gryphiswaldense MSR-1 v2\n",
        "Successful download: Mycobacterium chubuense NBB4\n",
        "Successful download: Enterococcus casseliflavus EC20\n",
        "Successful download: Myxococcus xanthus DK 1622\n",
        "Successful download: Streptococcus gordonii str. Challis substr. CH1\n",
        "Successful download: Caldanaerobacter subterraneus subsp. tengcongensis MB4\n",
        "Successful download: Desulfovibrio magneticus RS-1\n",
        "Successful download: Alcanivorax borkumensis SK2\n",
        "Successful download: Streptococcus sanguinis SK36\n",
        "Successful download: Yersinia enterocolitica subsp. palearctica 105.5R(r)\n",
        "Successful download: Candidatus Symbiobacter mobilis CR\n",
        "Successful download: Haliscomenobacter hydrossis DSM 1100\n",
        "Successful download: Halobacillus halophilus DSM 2266\n",
        "Successful download: Streptomyces collinus Tu 365\n",
        "Successful download: Burkholderia phenoliruptrix BR3459a\n",
        "Successful download: Polymorphum gilvum SL003B-26A1\n",
        "Successful download: Syntrophobacter fumaroxidans MPOB\n",
        "Successful download: Mycobacterium smegmatis JS623\n",
        "Successful download: Agrobacterium fabrum str. C58\n",
        "Successful download: Streptococcus equi subsp. zooepidemicus\n",
        "Successful download: Hahella chejuensis KCTC 2396\n",
        "Successful download: Streptomyces scabiei 87.22\n",
        "Successful download: Actinoplanes friuliensis DSM 7358\n"
       ]
      }
     ],
     "prompt_number": 232
    },
    {
     "cell_type": "code",
     "collapsed": false,
     "input": [
      "!cd $genomeDir; \\\n",
      "    seqDB_tools NCBIprokaryoteTableFilter prok-arc_filt_rand.txt -t 30 -w -d prok-arc-genomes"
     ],
     "language": "python",
     "metadata": {},
     "outputs": [
      {
       "output_type": "stream",
       "stream": "stdout",
       "text": [
        "Writing out fastas of each genome (fastas from GenBank accession numbers)...\r\n"
       ]
      },
      {
       "output_type": "stream",
       "stream": "stdout",
       "text": [
        "Downloading Methanohalobium evestigatum Z-7303\r\n",
        "Downloading Methanolacinia petrolearia DSM 11571\r\n",
        "Downloading Thermoproteus uzoniensis 768-20\r\n",
        "Downloading Methanosaeta concilii GP6\r\n",
        "Downloading Aeropyrum pernix K1\r\n",
        "Downloading Haloarcula marismortui ATCC 43049\r\n",
        "Downloading Haloterrigena turkmenica DSM 5511\r\n",
        "Downloading Methanosphaerula palustris E1-9c\r\n",
        "Downloading Picrophilus torridus DSM 9790\r\n",
        "Downloading Haloferax volcanii DS2\r\n",
        "Downloading Pyrobaculum neutrophilum V24Sta\r\n",
        "Downloading Haloquadratum walsbyi C23\r\n",
        "Downloading Thermococcus onnurineus NA1\r\n",
        "Downloading Methanopyrus kandleri AV19\r\n",
        "Downloading Methanococcus aeolicus Nankai-3\r\n",
        "Downloading Methanoculleus marisnigri JR1\r\n",
        "Downloading Candidatus Nitrosopumilus koreensis AR1\r\n",
        "Downloading Methanotorris igneus Kol 5\r\n",
        "Downloading Natrinema pellirubrum DSM 15624\r\n",
        "Downloading Methanocella arvoryzae MRE50\r\n",
        "Downloading Palaeococcus pacificus DY20341\r\n",
        "Downloading Methanocaldococcus vulcanius M7\r\n",
        "Downloading Archaeoglobus sulfaticallidus PM70-1\r\n",
        "Downloading Sulfolobus tokodaii str. 7\r\n",
        "Downloading Ferroplasma acidarmanus fer1\r\n",
        "Downloading Candidatus Methanomethylophilus alvus Mx1201\r\n",
        "Downloading Hyperthermus butylicus DSM 5456\r\n",
        "Downloading Vulcanisaeta moutnovskia 768-28\r\n",
        "Downloading Methanomethylovorans hollandica DSM 15978\r\n",
        "Downloading Methanococcus voltae A3\r\n"
       ]
      },
      {
       "output_type": "stream",
       "stream": "stdout",
       "text": [
        "Successful download: Aeropyrum pernix K1\r\n"
       ]
      },
      {
       "output_type": "stream",
       "stream": "stdout",
       "text": [
        "Downloading Thermogladius cellulolyticus 1633\r\n"
       ]
      },
      {
       "output_type": "stream",
       "stream": "stdout",
       "text": [
        "Successful download: Hyperthermus butylicus DSM 5456\r\n",
        "Downloading Methanococcoides burtonii DSM 6242\r\n",
        "Successful download: Methanococcus aeolicus Nankai-3\r\n"
       ]
      },
      {
       "output_type": "stream",
       "stream": "stdout",
       "text": [
        "Downloading Candidatus Nitrososphaera gargensis Ga9.2\r\n"
       ]
      },
      {
       "output_type": "stream",
       "stream": "stdout",
       "text": [
        "Successful download: Thermoproteus uzoniensis 768-20\r\n",
        "Downloading Pyrococcus horikoshii OT3\r\n"
       ]
      },
      {
       "output_type": "stream",
       "stream": "stdout",
       "text": [
        "Successful download: Picrophilus torridus DSM 9790\r\n",
        "Downloading Halorhabdus tiamatea SARL4B\r\n"
       ]
      },
      {
       "output_type": "stream",
       "stream": "stdout",
       "text": [
        "Successful download: Methanopyrus kandleri AV19\r\n",
        "Downloading Archaeoglobus veneficus SNP6\r\n"
       ]
      },
      {
       "output_type": "stream",
       "stream": "stdout",
       "text": [
        "Successful download: Thermococcus onnurineus NA1\r\n",
        "Downloading Thermococcus barophilus MP\r\n",
        "Successful download: Candidatus Methanomethylophilus alvus Mx1201\r\n",
        "Downloading Fervidicoccus fontis Kam940\r\n"
       ]
      },
      {
       "output_type": "stream",
       "stream": "stdout",
       "text": [
        "Successful download: Palaeococcus pacificus DY20341\r\n",
        "Successful download: Methanococcus voltae A3\r\n",
        "Downloading Natronobacterium gregoryi SP2\r\n",
        "Downloading Halalkalicoccus jeotgali B3\r\n"
       ]
      },
      {
       "output_type": "stream",
       "stream": "stdout",
       "text": [
        "Successful download: Methanotorris igneus Kol 5\r\n"
       ]
      },
      {
       "output_type": "stream",
       "stream": "stdout",
       "text": [
        "Downloading Natronomonas pharaonis DSM 2160\r\n"
       ]
      },
      {
       "output_type": "stream",
       "stream": "stdout",
       "text": [
        "Successful download: Vulcanisaeta moutnovskia 768-28\r\n",
        "Downloading Pyrobaculum calidifontis JCM 11548\r\n"
       ]
      },
      {
       "output_type": "stream",
       "stream": "stdout",
       "text": [
        "Successful download: Methanocaldococcus vulcanius M7\r\n",
        "Successful download: Methanohalobium evestigatum Z-7303\r\n",
        "Downloading Thermococcus kodakarensis KOD1\r\n",
        "Downloading Candidatus Methanomassiliicoccus intestinalis Issoire-Mx1\r\n"
       ]
      },
      {
       "output_type": "stream",
       "stream": "stdout",
       "text": [
        "Successful download: Thermogladius cellulolyticus 1633\r\n",
        "Downloading Methanocaldococcus jannaschii DSM 2661\r\n"
       ]
      },
      {
       "output_type": "stream",
       "stream": "stdout",
       "text": [
        "Successful download: Archaeoglobus sulfaticallidus PM70-1\r\n",
        "Downloading Methanohalophilus mahii DSM 5219\r\n"
       ]
      },
      {
       "output_type": "stream",
       "stream": "stdout",
       "text": [
        "Successful download: Pyrobaculum neutrophilum V24Sta\r\n",
        "Downloading Methanothermococcus okinawensis IH1\r\n"
       ]
      },
      {
       "output_type": "stream",
       "stream": "stdout",
       "text": [
        "Successful download: Candidatus Nitrosopumilus koreensis AR1\r\n"
       ]
      },
      {
       "output_type": "stream",
       "stream": "stdout",
       "text": [
        "Downloading Thermoproteus tenax Kra 1\r\n"
       ]
      },
      {
       "output_type": "stream",
       "stream": "stdout",
       "text": [
        "Successful download: Sulfolobus tokodaii str. 7\r\n"
       ]
      },
      {
       "output_type": "stream",
       "stream": "stdout",
       "text": [
        "Downloading Sulfolobus acidocaldarius DSM 639\r\n"
       ]
      },
      {
       "output_type": "stream",
       "stream": "stdout",
       "text": [
        "Successful download: Methanosaeta concilii GP6\r\n"
       ]
      },
      {
       "output_type": "stream",
       "stream": "stdout",
       "text": [
        "Downloading Thermosphaera aggregans DSM 11486\r\n"
       ]
      },
      {
       "output_type": "stream",
       "stream": "stdout",
       "text": [
        "Successful download: Fervidicoccus fontis Kam940\r\n",
        "Successful download: Ferroplasma acidarmanus fer1\r\n",
        "Downloading Methanosarcina barkeri str. Fusaro\r\n",
        "Downloading Natronomonas moolapensis 8.8.11\r\n"
       ]
      },
      {
       "output_type": "stream",
       "stream": "stdout",
       "text": [
        "Successful download: Methanolacinia petrolearia DSM 11571\r\n",
        "Downloading Methanolobus psychrophilus R15\r\n"
       ]
      },
      {
       "output_type": "stream",
       "stream": "stdout",
       "text": [
        "Successful download: Pyrococcus horikoshii OT3\r\n",
        "Downloading Metallosphaera sedula DSM 5348\r\n"
       ]
      },
      {
       "output_type": "stream",
       "stream": "stdout",
       "text": [
        "Successful download: Methanomethylovorans hollandica DSM 15978\r\n",
        "Downloading Acidianus hospitalis W1\r\n"
       ]
      },
      {
       "output_type": "stream",
       "stream": "stdout",
       "text": [
        "Successful download: Haloarcula marismortui ATCC 43049\r\n",
        "Downloading Methanoregula formicica SMSP\r\n"
       ]
      },
      {
       "output_type": "stream",
       "stream": "stdout",
       "text": [
        "Successful download: Haloterrigena turkmenica DSM 5511\r\n"
       ]
      },
      {
       "output_type": "stream",
       "stream": "stdout",
       "text": [
        "Downloading Halogeometricum borinquense DSM 11551\r\n"
       ]
      },
      {
       "output_type": "stream",
       "stream": "stdout",
       "text": [
        "Successful download: Methanocella arvoryzae MRE50\r\n",
        "Downloading Methanocella paludicola SANAE\r\n"
       ]
      },
      {
       "output_type": "stream",
       "stream": "stdout",
       "text": [
        "Successful download: Methanococcoides burtonii DSM 6242\r\n",
        "Downloading Sulfolobus islandicus LAL14/1\r\n"
       ]
      },
      {
       "output_type": "stream",
       "stream": "stdout",
       "text": [
        "Successful download: Haloferax volcanii DS2\r\n",
        "Downloading Methanothermobacter thermautotrophicus str. Delta H\r\n"
       ]
      },
      {
       "output_type": "stream",
       "stream": "stdout",
       "text": [
        "Successful download: Thermococcus barophilus MP\r\n",
        "Successful download: Methanosphaerula palustris E1-9c\r\n",
        "Downloading Thermofilum carboxyditrophus 1505\r\n",
        "Downloading Archaeoglobus fulgidus DSM 4304\r\n"
       ]
      },
      {
       "output_type": "stream",
       "stream": "stdout",
       "text": [
        "Successful download: Methanoculleus marisnigri JR1\r\n",
        "Downloading Halomicrobium mukohataei DSM 12286\r\n"
       ]
      },
      {
       "output_type": "stream",
       "stream": "stdout",
       "text": [
        "Successful download: Archaeoglobus veneficus SNP6\r\n"
       ]
      },
      {
       "output_type": "stream",
       "stream": "stdout",
       "text": [
        "Downloading Halovivax ruber XH-70\r\n"
       ]
      },
      {
       "output_type": "stream",
       "stream": "stdout",
       "text": [
        "Successful download: Haloquadratum walsbyi C23\r\n",
        "Downloading Pyrobaculum islandicum DSM 4184\r\n",
        "Successful download: Methanothermococcus okinawensis IH1\r\n",
        "Successful download: Halorhabdus tiamatea SARL4B\r\n",
        "Downloading Thermofilum pendens Hrk 5\r\n",
        "Downloading Halorhabdus utahensis DSM 12940\r\n"
       ]
      },
      {
       "output_type": "stream",
       "stream": "stdout",
       "text": [
        "Successful download: Thermococcus kodakarensis KOD1\r\n",
        "Downloading Methanosalsum zhilinae DSM 4017\r\n"
       ]
      },
      {
       "output_type": "stream",
       "stream": "stdout",
       "text": [
        "Successful download: Candidatus Nitrososphaera gargensis Ga9.2\r\n",
        "Successful download: Methanocaldococcus jannaschii DSM 2661\r\n",
        "Downloading Candidatus Korarchaeum cryptofilum OPF8\r\n",
        "Downloading Methanosaeta thermophila PT\r\n"
       ]
      },
      {
       "output_type": "stream",
       "stream": "stdout",
       "text": [
        "Successful download: Candidatus Methanomassiliicoccus intestinalis Issoire-Mx1\r\n",
        "Downloading Nitrososphaera viennensis EN76\r\n",
        "Successful download: Thermoproteus tenax Kra 1\r\n",
        "Downloading Candidatus Nitrososphaera evergladensis SR1\r\n"
       ]
      },
      {
       "output_type": "stream",
       "stream": "stdout",
       "text": [
        "Successful download: Methanohalophilus mahii DSM 5219\r\n",
        "Downloading Ignisphaera aggregans DSM 17230\r\n",
        "Successful download: Pyrobaculum calidifontis JCM 11548\r\n"
       ]
      },
      {
       "output_type": "stream",
       "stream": "stdout",
       "text": [
        "Downloading Methanocorpusculum labreanum Z\r\n"
       ]
      },
      {
       "output_type": "stream",
       "stream": "stdout",
       "text": [
        "Successful download: Thermosphaera aggregans DSM 11486\r\n",
        "Successful download: Halalkalicoccus jeotgali B3\r\n",
        "Downloading Methanobrevibacter smithii ATCC 35061\r\n",
        "Downloading Methanosphaera stadtmanae DSM 3091\r\n"
       ]
      },
      {
       "output_type": "stream",
       "stream": "stdout",
       "text": [
        "Successful download: Sulfolobus acidocaldarius DSM 639\r\n",
        "Downloading Pyrococcus yayanosii CH1\r\n"
       ]
      },
      {
       "output_type": "stream",
       "stream": "stdout",
       "text": [
        "Successful download: Natronomonas pharaonis DSM 2160\r\n",
        "Downloading Natrialba magadii ATCC 43099\r\n"
       ]
      },
      {
       "output_type": "stream",
       "stream": "stdout",
       "text": [
        "Successful download: Natronobacterium gregoryi SP2\r\n",
        "Successful download: Metallosphaera sedula DSM 5348\r\n",
        "Downloading Thermoplasma volcanium GSS1\r\n",
        "Downloading Halopiger xanaduensis SH-6\r\n",
        "Successful download: Acidianus hospitalis W1\r\n",
        "Downloading Methanosaeta harundinacea 6Ac\r\n",
        "Successful download: Thermofilum carboxyditrophus 1505\r\n",
        "Downloading Methanosarcina mazei Tuc01\r\n"
       ]
      },
      {
       "output_type": "stream",
       "stream": "stdout",
       "text": [
        "Successful download: Methanolobus psychrophilus R15\r\n",
        "Downloading Aeropyrum camini SY1 = JCM 12091\r\n"
       ]
      },
      {
       "output_type": "stream",
       "stream": "stdout",
       "text": [
        "Successful download: Natrinema pellirubrum DSM 15624\r\n",
        "Downloading Methanothermus fervidus DSM 2088\r\n"
       ]
      },
      {
       "output_type": "stream",
       "stream": "stdout",
       "text": [
        "Successful download: Methanocella paludicola SANAE\r\n",
        "Downloading Halorubrum lacusprofundi ATCC 49239\r\n",
        "Successful download: Halogeometricum borinquense DSM 11551\r\n",
        "Downloading Aciduliprofundum boonei T469\r\n"
       ]
      },
      {
       "output_type": "stream",
       "stream": "stdout",
       "text": [
        "Successful download: Natronomonas moolapensis 8.8.11\r\n",
        "Downloading Methanolinea tarda NOBI-1\r\n"
       ]
      },
      {
       "output_type": "stream",
       "stream": "stdout",
       "text": [
        "Successful download: Thermofilum pendens Hrk 5\r\n",
        "Downloading Methanocaldococcus fervens AG86\r\n",
        "Successful download: Methanosphaera stadtmanae DSM 3091\r\n",
        "Downloading Methanocella conradii HZ254\r\n"
       ]
      },
      {
       "output_type": "stream",
       "stream": "stdout",
       "text": [
        "Successful download: Methanosarcina barkeri str. Fusaro\r\n",
        "Successful download: Archaeoglobus fulgidus DSM 4304\r\n",
        "Downloading Nitrosopumilus maritimus SCM1\r\n",
        "Downloading Desulfurococcus fermentans DSM 16532\r\n"
       ]
      },
      {
       "output_type": "stream",
       "stream": "stdout",
       "text": [
        "Successful download: Candidatus Korarchaeum cryptofilum OPF8\r\n",
        "Downloading Methanocaldococcus infernus ME\r\n"
       ]
      },
      {
       "output_type": "stream",
       "stream": "stdout",
       "text": [
        "Successful download: Ignisphaera aggregans DSM 17230\r\n"
       ]
      },
      {
       "output_type": "stream",
       "stream": "stdout",
       "text": [
        "Downloading Halobacterium sp. NRC-1\r\n",
        "Successful download: Methanosalsum zhilinae DSM 4017\r\n"
       ]
      },
      {
       "output_type": "stream",
       "stream": "stdout",
       "text": [
        "Downloading Natronococcus occultus SP4\r\n",
        "Successful download: Methanosaeta thermophila PT\r\n",
        "Downloading Thermococcus gammatolerans EJ3\r\n"
       ]
      },
      {
       "output_type": "stream",
       "stream": "stdout",
       "text": [
        "Successful download: Sulfolobus islandicus LAL14/1\r\n",
        "Downloading Ignicoccus hospitalis KIN4/I\r\n"
       ]
      },
      {
       "output_type": "stream",
       "stream": "stdout",
       "text": [
        "Successful download: Halomicrobium mukohataei DSM 12286\r\n",
        "Downloading Pyrobaculum oguniense TE7\r\n"
       ]
      },
      {
       "output_type": "stream",
       "stream": "stdout",
       "text": [
        "Successful download: Pyrobaculum islandicum DSM 4184\r\n",
        "Downloading Nanoarchaeum equitans Kin4-M\r\n"
       ]
      },
      {
       "output_type": "stream",
       "stream": "stdout",
       "text": [
        "Successful download: Pyrococcus yayanosii CH1\r\n",
        "Downloading Staphylothermus hellenicus DSM 12710\r\n",
        "Successful download: Halorhabdus utahensis DSM 12940\r\n",
        "Successful download: Methanothermobacter thermautotrophicus str. Delta H\r\n",
        "Downloading Metallosphaera cuprina Ar-4\r\n",
        "Downloading Pyrobaculum arsenaticum DSM 13514\r\n",
        "Successful download: Methanobrevibacter smithii ATCC 35061\r\n",
        "Downloading Thermococcus litoralis DSM 5473\r\n"
       ]
      },
      {
       "output_type": "stream",
       "stream": "stdout",
       "text": [
        "Successful download: Methanolinea tarda NOBI-1\r\n",
        "Downloading Sulfolobus solfataricus P2\r\n"
       ]
      },
      {
       "output_type": "stream",
       "stream": "stdout",
       "text": [
        "Successful download: Thermoplasma volcanium GSS1\r\n",
        "Downloading Methanothermobacter marburgensis str. Marburg\r\n"
       ]
      },
      {
       "output_type": "stream",
       "stream": "stdout",
       "text": [
        "Successful download: Halovivax ruber XH-70\r\n",
        "Successful download: Nitrososphaera viennensis EN76\r\n",
        "Downloading Archaeoglobus profundus DSM 5631\r\n",
        "Successful download: Methanoregula formicica SMSP\r\n",
        "Downloading Methanobrevibacter ruminantium M1\r\n",
        "Downloading Methanococcus maripaludis X1\r\n"
       ]
      },
      {
       "output_type": "stream",
       "stream": "stdout",
       "text": [
        "Successful download: Methanothermus fervidus DSM 2088\r\n",
        "Downloading Methanoregula boonei 6A8\r\n"
       ]
      },
      {
       "output_type": "stream",
       "stream": "stdout",
       "text": [
        "Successful download: Aeropyrum camini SY1 = JCM 12091\r\n",
        "Downloading Methanococcus vannielii SB\r\n"
       ]
      },
      {
       "output_type": "stream",
       "stream": "stdout",
       "text": [
        "Successful download: Aciduliprofundum boonei T469\r\n"
       ]
      },
      {
       "output_type": "stream",
       "stream": "stdout",
       "text": [
        "Successful download: Methanosaeta harundinacea 6Ac\r\n",
        "Downloading Acidilobus saccharovorans 345-15\r\n",
        "Downloading Desulfurococcus kamchatkensis 1221n\r\n"
       ]
      },
      {
       "output_type": "stream",
       "stream": "stdout",
       "text": [
        "Successful download: Nanoarchaeum equitans Kin4-M\r\n",
        "Downloading Thermococcus sibiricus MM 739\r\n"
       ]
      },
      {
       "output_type": "stream",
       "stream": "stdout",
       "text": [
        "Successful download: Methanocorpusculum labreanum Z\r\n",
        "Downloading Methanospirillum hungatei JF-1\r\n",
        "Successful download: Methanocaldococcus fervens AG86\r\n",
        "Downloading Pyrobaculum aerophilum str. IM2\r\n"
       ]
      },
      {
       "output_type": "stream",
       "stream": "stdout",
       "text": [
        "Successful download: Candidatus Nitrososphaera evergladensis SR1\r\n"
       ]
      },
      {
       "output_type": "stream",
       "stream": "stdout",
       "text": [
        "Downloading Methanosarcina acetivorans C2A\r\n",
        "Successful download: Desulfurococcus fermentans DSM 16532\r\n"
       ]
      },
      {
       "output_type": "stream",
       "stream": "stdout",
       "text": [
        "Downloading Vulcanisaeta distributa DSM 14429\r\n"
       ]
      },
      {
       "output_type": "stream",
       "stream": "stdout",
       "text": [
        "Successful download: Ignicoccus hospitalis KIN4/I\r\n",
        "Downloading Halostagnicola larsenii XH-48\r\n"
       ]
      },
      {
       "output_type": "stream",
       "stream": "stdout",
       "text": [
        "Successful download: Methanosarcina mazei Tuc01\r\n",
        "Downloading Pyrococcus furiosus COM1\r\n",
        "Successful download: Methanocaldococcus infernus ME\r\n",
        "Successful download: Nitrosopumilus maritimus SCM1\r\n",
        "Downloading Haloferax mediterranei ATCC 33500\r\n",
        "Downloading Ferroglobus placidus DSM 10642\r\n"
       ]
      },
      {
       "output_type": "stream",
       "stream": "stdout",
       "text": [
        "Successful download: Methanocella conradii HZ254\r\n",
        "Downloading Pyrolobus fumarii 1A\r\n"
       ]
      },
      {
       "output_type": "stream",
       "stream": "stdout",
       "text": [
        "Successful download: Halobacterium sp. NRC-1\r\n"
       ]
      },
      {
       "output_type": "stream",
       "stream": "stdout",
       "text": [
        "Downloading Caldivirga maquilingensis IC-167\r\n"
       ]
      },
      {
       "output_type": "stream",
       "stream": "stdout",
       "text": [
        "Successful download: Natrialba magadii ATCC 43099\r\n",
        "Downloading Staphylothermus marinus F1\r\n"
       ]
      },
      {
       "output_type": "stream",
       "stream": "stdout",
       "text": [
        "Successful download: Staphylothermus hellenicus DSM 12710\r\n",
        "Downloading Haloarcula hispanica N601\r\n"
       ]
      },
      {
       "output_type": "stream",
       "stream": "stdout",
       "text": [
        "Successful download: Halopiger xanaduensis SH-6\r\n"
       ]
      },
      {
       "output_type": "stream",
       "stream": "stdout",
       "text": [
        "Downloading Caldisphaera lagunensis DSM 15908\r\n"
       ]
      },
      {
       "output_type": "stream",
       "stream": "stdout",
       "text": [
        "Successful download: Methanothermobacter marburgensis str. Marburg\r\n"
       ]
      },
      {
       "output_type": "stream",
       "stream": "stdout",
       "text": [
        "Successful download: Metallosphaera cuprina Ar-4\r\n"
       ]
      },
      {
       "output_type": "stream",
       "stream": "stdout",
       "text": [
        "Successful download: Acidilobus saccharovorans 345-15\r\n",
        "Successful download: Pyrobaculum arsenaticum DSM 13514\r\n",
        "Successful download: Pyrobaculum oguniense TE7\r\n"
       ]
      },
      {
       "output_type": "stream",
       "stream": "stdout",
       "text": [
        "Successful download: Thermococcus litoralis DSM 5473\r\n"
       ]
      },
      {
       "output_type": "stream",
       "stream": "stdout",
       "text": [
        "Successful download: Desulfurococcus kamchatkensis 1221n\r\n"
       ]
      },
      {
       "output_type": "stream",
       "stream": "stdout",
       "text": [
        "Successful download: Halorubrum lacusprofundi ATCC 49239\r\n",
        "Successful download: Methanococcus maripaludis X1\r\n",
        "Successful download: Methanococcus vannielii SB\r\n"
       ]
      },
      {
       "output_type": "stream",
       "stream": "stdout",
       "text": [
        "Successful download: Archaeoglobus profundus DSM 5631\r\n"
       ]
      },
      {
       "output_type": "stream",
       "stream": "stdout",
       "text": [
        "Successful download: Methanobrevibacter ruminantium M1\r\n"
       ]
      },
      {
       "output_type": "stream",
       "stream": "stdout",
       "text": [
        "Successful download: Sulfolobus solfataricus P2\r\n"
       ]
      },
      {
       "output_type": "stream",
       "stream": "stdout",
       "text": [
        "Successful download: Thermococcus sibiricus MM 739\r\n"
       ]
      },
      {
       "output_type": "stream",
       "stream": "stdout",
       "text": [
        "Successful download: Thermococcus gammatolerans EJ3\r\n"
       ]
      },
      {
       "output_type": "stream",
       "stream": "stdout",
       "text": [
        "Successful download: Pyrococcus furiosus COM1\r\n"
       ]
      },
      {
       "output_type": "stream",
       "stream": "stdout",
       "text": [
        "Successful download: Pyrobaculum aerophilum str. IM2\r\n",
        "Successful download: Methanoregula boonei 6A8\r\n"
       ]
      },
      {
       "output_type": "stream",
       "stream": "stdout",
       "text": [
        "Successful download: Natronococcus occultus SP4\r\n"
       ]
      },
      {
       "output_type": "stream",
       "stream": "stdout",
       "text": [
        "Successful download: Vulcanisaeta distributa DSM 14429\r\n",
        "Successful download: Caldivirga maquilingensis IC-167\r\n",
        "Successful download: Caldisphaera lagunensis DSM 15908\r\n"
       ]
      },
      {
       "output_type": "stream",
       "stream": "stdout",
       "text": [
        "Successful download: Staphylothermus marinus F1\r\n"
       ]
      },
      {
       "output_type": "stream",
       "stream": "stdout",
       "text": [
        "Successful download: Methanospirillum hungatei JF-1\r\n"
       ]
      },
      {
       "output_type": "stream",
       "stream": "stdout",
       "text": [
        "Successful download: Pyrolobus fumarii 1A\r\n"
       ]
      },
      {
       "output_type": "stream",
       "stream": "stdout",
       "text": [
        "Successful download: Ferroglobus placidus DSM 10642\r\n"
       ]
      },
      {
       "output_type": "stream",
       "stream": "stdout",
       "text": [
        "Successful download: Halostagnicola larsenii XH-48\r\n",
        "Successful download: Haloferax mediterranei ATCC 33500\r\n"
       ]
      },
      {
       "output_type": "stream",
       "stream": "stdout",
       "text": [
        "Successful download: Methanosarcina acetivorans C2A\r\n"
       ]
      },
      {
       "output_type": "stream",
       "stream": "stdout",
       "text": [
        "Successful download: Haloarcula hispanica N601\r\n"
       ]
      }
     ],
     "prompt_number": 233
    },
    {
     "cell_type": "markdown",
     "metadata": {},
     "source": [
      "### Copying and renaming genomes\n",
      "\n",
      "* Need to have each scaffold/chromosome name as 1 string be MFEprimer is terrible"
     ]
    },
    {
     "cell_type": "code",
     "collapsed": false,
     "input": [
      "bacGenomeDir = os.path.join(genomeDir, 'prok-bac-genomes')"
     ],
     "language": "python",
     "metadata": {},
     "outputs": [],
     "prompt_number": 234
    },
    {
     "cell_type": "code",
     "collapsed": false,
     "input": [
      "genomeLocalDir = os.path.join(workDir, 'genomes')\n",
      "\n",
      "if not os.path.isdir(genomeLocalDir):\n",
      "    os.mkdir(genomeLocalDir)"
     ],
     "language": "python",
     "metadata": {},
     "outputs": [],
     "prompt_number": 235
    },
    {
     "cell_type": "code",
     "collapsed": false,
     "input": [
      "%%bash -s \"$genomeLocalDir\" \"$bacGenomeDir\"\n",
      "# renaming sequences\n",
      "cd $1\n",
      "\n",
      "# making sure each sequence is unique\n",
      "find $2 -name \"*fasta\" |\\\n",
      "    perl -pe 's/.+\\///' | \\\n",
      "    xargs -P 24 -I % bash -c \\\n",
      "    \"/var/seq_data/ncbi_db/genome/genome_rename.pl < $2/% > %\""
     ],
     "language": "python",
     "metadata": {},
     "outputs": [],
     "prompt_number": 263
    },
    {
     "cell_type": "code",
     "collapsed": false,
     "input": [
      "#find $2 -name \"*fasta\" |\\\n",
      "#    perl -pe 's/.+\\///' | \\\n",
      "#    xargs -P 24 -I % bash -c \\\n",
      "#    \"perl -pe 'if(/^>/){s/\\W/_/g; s/^_*(.*?)_*\\$/>\\$1\\n/; s/_complete_genome//; s/(.{79}).+/\\$1/}' $2/% > %\""
     ],
     "language": "python",
     "metadata": {},
     "outputs": []
    },
    {
     "cell_type": "code",
     "collapsed": false,
     "input": [
      "!printf \"Number of bacterial genomes: \"\n",
      "!cd $genomeLocalDir; \\\n",
      "    find . -name \"*fasta\" | wc -l"
     ],
     "language": "python",
     "metadata": {},
     "outputs": [
      {
       "output_type": "stream",
       "stream": "stdout",
       "text": [
        "Number of bacterial genomes: "
       ]
      },
      {
       "output_type": "stream",
       "stream": "stdout",
       "text": [
        "1210\r\n"
       ]
      }
     ],
     "prompt_number": 271
    },
    {
     "cell_type": "code",
     "collapsed": false,
     "input": [
      "# list of all genomes files and their associated names\n",
      "!cd $genomeLocalDir; \\\n",
      "    find . -name \"*fasta\" | \\\n",
      "    perl -pe 's/.+\\///' | \\\n",
      "    perl -pe 's/(.+)(\\.[^.]+)/\\$1\\t\\$1\\$2/' > genome_index.txt"
     ],
     "language": "python",
     "metadata": {},
     "outputs": [],
     "prompt_number": 265
    },
    {
     "cell_type": "markdown",
     "metadata": {},
     "source": [
      "# Checking genome info\n",
      "\n",
      "* Making sure there are no outliers that need to be filtered out"
     ]
    },
    {
     "cell_type": "code",
     "collapsed": false,
     "input": [
      "# determining the largest genome\n",
      "!cd $genomeLocalDir; \\\n",
      "    find . -name \"*fasta\" | \\\n",
      "    xargs -I % NY_misc fasta_info % --fn --tn --tl --tgc --sn --sl --sgc \\\n",
      "    > genome_info.txt"
     ],
     "language": "python",
     "metadata": {},
     "outputs": [],
     "prompt_number": 266
    },
    {
     "cell_type": "markdown",
     "metadata": {},
     "source": [
      "### loading table and plotting"
     ]
    },
    {
     "cell_type": "code",
     "collapsed": false,
     "input": [
      "%%R -i genomeLocalDir\n",
      "\n",
      "setwd(genomeLocalDir)\n",
      "\n",
      "tbl = read.delim('genome_info.txt', sep='\\t', header=FALSE)\n",
      "colnames(tbl) = c('file_name', 'total_seqs', 'total_length', 'total_GC', 'seq_name', 'seq_length', 'seq_GC')"
     ],
     "language": "python",
     "metadata": {},
     "outputs": [],
     "prompt_number": 267
    },
    {
     "cell_type": "code",
     "collapsed": false,
     "input": [
      "%%R -w 500 -h 350\n",
      "# genome lengths\n",
      "ggplot(tbl, aes(total_length)) +\n",
      "    geom_histogram(binwidth=50000)"
     ],
     "language": "python",
     "metadata": {},
     "outputs": [
      {
       "metadata": {},
       "output_type": "display_data",
       "png": "[encoded data removed]"
      }
     ],
     "prompt_number": 272
    },
    {
     "cell_type": "code",
     "collapsed": false,
     "input": [
      "%%R\n",
      "summary(tbl$total_length)"
     ],
     "language": "python",
     "metadata": {},
     "outputs": [
      {
       "metadata": {},
       "output_type": "display_data",
       "text": [
        "    Min.  1st Qu.   Median     Mean  3rd Qu.     Max. \n",
        "  112100  2206000  3473000  3729000  4865000 13030000 \n"
       ]
      }
     ],
     "prompt_number": 284
    },
    {
     "cell_type": "code",
     "collapsed": false,
     "input": [
      "%%R -w 500 -h 350\n",
      "# genome GC\n",
      "ggplot(tbl, aes(total_GC)) +\n",
      "    geom_histogram(binwidth=1)"
     ],
     "language": "python",
     "metadata": {},
     "outputs": [
      {
       "metadata": {},
       "output_type": "display_data",
       "png": "[encoded data removed]"
      }
     ],
     "prompt_number": 273
    },
    {
     "cell_type": "code",
     "collapsed": false,
     "input": [
      "%%R\n",
      "summary(tbl$total_GC)"
     ],
     "language": "python",
     "metadata": {},
     "outputs": [
      {
       "metadata": {},
       "output_type": "display_data",
       "text": [
        "   Min. 1st Qu.  Median    Mean 3rd Qu.    Max. \n",
        "  13.54   37.89   49.03   49.69   62.36   74.91 \n"
       ]
      }
     ],
     "prompt_number": 285
    },
    {
     "cell_type": "code",
     "collapsed": false,
     "input": [
      "%%R -w 500 -h 350\n",
      "# genome GC\n",
      "ggplot(tbl, aes(total_GC)) +\n",
      "    geom_density(fill='red', alpha=0.3) +\n",
      "    scale_x_continuous(limits=c(10,90))"
     ],
     "language": "python",
     "metadata": {},
     "outputs": [
      {
       "metadata": {},
       "output_type": "display_data",
       "png": "[encoded data removed]"
      }
     ],
     "prompt_number": 282
    },
    {
     "cell_type": "code",
     "collapsed": false,
     "input": [
      "%%R -w 500 -h 350\n",
      "# sequences per genome\n",
      "ggplot(tbl, aes(total_seqs)) +\n",
      "    geom_histogram(binwidth=1)"
     ],
     "language": "python",
     "metadata": {},
     "outputs": [
      {
       "metadata": {},
       "output_type": "display_data",
       "png": "[encoded data removed]"
      }
     ],
     "prompt_number": 274
    },
    {
     "cell_type": "markdown",
     "metadata": {},
     "source": [
      "# Indexing genomes\n",
      "\n",
      "* Needed for *in-silico* PCR"
     ]
    },
    {
     "cell_type": "code",
     "collapsed": false,
     "input": [
      "!cd $workDir; \\\n",
      "    $SIPSimExe indexGenomes genomes/genome_index.txt \\\n",
      "    --fp ./genomes/ --np 30 > genomes/index_log.txt"
     ],
     "language": "python",
     "metadata": {},
     "outputs": [
      {
       "output_type": "stream",
       "stream": "stdout",
       "text": [
        "Indexing: \"Kangiella_koreensis_DSM_16069\"\r\n",
        "Indexing: \"Polymorphum_gilvum_SL003B-26A1\"\r\n",
        "Indexing: \"_Cellvibrio_gilvus_ATCC_13127\"\r\n",
        "Indexing: \"Croceibacter_atlanticus_HTCC2559\"\r\n",
        "Indexing: \"Sulfuricurvum_kujiense_DSM_16994\"\r\n",
        "Indexing: \"Eubacterium_rectale_ATCC_33656\"\r\n",
        "Indexing: \"Nocardia_nova_SH22a\"\r\n",
        "Indexing: \"Gordonia_polyisoprenivorans_VH2\"\r\n",
        "Indexing: \"Aeromonas_salmonicida_subsp_salmonicida_A449\"\r\n",
        "Indexing: \"Thermodesulfobium_narugense_DSM_14796\"\r\n",
        "Indexing: \"Brevibacillus_brevis_NBRC_100599\"\r\n",
        "Indexing: \"Spiroplasma_culicicola_AES-1\"\r\n",
        "Indexing: \"Isoptericola_variabilis_225\"\r\n",
        "Indexing: \"Oscillibacter_valericigenes_Sjm18-20\"\r\n",
        "Indexing: \"Desulfocapsa_sulfexigens_DSM_10523\"\r\n",
        "Indexing: \"Planktomarina_temperata_RCA23\"\r\n",
        "Indexing: \"Marinithermus_hydrothermalis_DSM_14884\"\r\n",
        "Indexing: \"Shewanella_baltica_OS117\"\r\n",
        "Indexing: \"Desulfosporosinus_orientis_DSM_765\"\r\n",
        "Indexing: \"Halobacillus_halophilus_DSM_2266\"\r\n",
        "Indexing: \"Cronobacter_sakazakii_SP291\"\r\n",
        "Indexing: \"Chromohalobacter_salexigens_DSM_3043\"\r\n",
        "Indexing: \"Sulfurimonas_denitrificans_DSM_1251\"\r\n",
        "Indexing: \"Bacillus_subtilis_PY79\"\r\n",
        "Indexing: \"Desulfotomaculum_carboxydivorans_CO-1-SRB\"\r\n",
        "Indexing: \"Edwardsiella_ictaluri_93-146\"\r\n",
        "Indexing: \"Acidovorax_citrulli_AAC00-1\"\r\n",
        "Indexing: \"Bartonella_grahamii_as4aup\"\r\n",
        "Indexing: \"Mycoplasma_bovoculi_M165_69\"\r\n",
        "Indexing: \"Clostridiales_genomosp_BVAB3_str_UPII9-5\"\r\n"
       ]
      },
      {
       "output_type": "stream",
       "stream": "stdout",
       "text": [
        "Indexing: \"Crinalium_epipsammum_PCC_9333\"\r\n"
       ]
      },
      {
       "output_type": "stream",
       "stream": "stdout",
       "text": [
        "Indexing: \"Herbaspirillum_seropedicae_SmR1\"\r\n"
       ]
      },
      {
       "output_type": "stream",
       "stream": "stdout",
       "text": [
        "Indexing: \"Streptococcus_anginosus_C238\"\r\n"
       ]
      },
      {
       "output_type": "stream",
       "stream": "stdout",
       "text": [
        "Indexing: \"Desulfosporosinus_acidiphilus_SJ4\"\r\n"
       ]
      },
      {
       "output_type": "stream",
       "stream": "stdout",
       "text": [
        "Indexing: \"Thermincola_potens_JR\"\r\n"
       ]
      },
      {
       "output_type": "stream",
       "stream": "stdout",
       "text": [
        "Indexing: \"Serratia_symbiotica_str_Cinara_cedri\"\r\n"
       ]
      },
      {
       "output_type": "stream",
       "stream": "stdout",
       "text": [
        "Indexing: \"Caldicellulosiruptor_kristjanssonii_I77R1B\"\r\n"
       ]
      },
      {
       "output_type": "stream",
       "stream": "stdout",
       "text": [
        "Indexing: \"Corynebacterium_casei_LMG_S-19264\"\r\n"
       ]
      },
      {
       "output_type": "stream",
       "stream": "stdout",
       "text": [
        "Indexing: \"Mycobacterium_intracellulare_1956\"\r\n"
       ]
      },
      {
       "output_type": "stream",
       "stream": "stdout",
       "text": [
        "Indexing: \"Stackebrandtia_nassauensis_DSM_44728\"\r\n"
       ]
      },
      {
       "output_type": "stream",
       "stream": "stdout",
       "text": [
        "Indexing: \"Caldicellulosiruptor_saccharolyticus_DSM_8903\"\r\n"
       ]
      },
      {
       "output_type": "stream",
       "stream": "stdout",
       "text": [
        "Indexing: \"Mycobacterium_abscessus_subsp_bolletii_50594\"\r\n"
       ]
      },
      {
       "output_type": "stream",
       "stream": "stdout",
       "text": [
        "Indexing: \"Ignavibacterium_album_JCM_16511\"\r\n"
       ]
      },
      {
       "output_type": "stream",
       "stream": "stdout",
       "text": [
        "Indexing: \"Erwinia_amylovora_LA636\"\r\n"
       ]
      },
      {
       "output_type": "stream",
       "stream": "stdout",
       "text": [
        "Indexing: \"Pseudonocardia_dioxanivorans_CB1190\"\r\n"
       ]
      },
      {
       "output_type": "stream",
       "stream": "stdout",
       "text": [
        "Indexing: \"Haemophilus_somnus_129PT\"\r\n"
       ]
      },
      {
       "output_type": "stream",
       "stream": "stdout",
       "text": [
        "Indexing: \"Granulicella_mallensis_MP5ACTX8\"\r\n"
       ]
      },
      {
       "output_type": "stream",
       "stream": "stdout",
       "text": [
        "Indexing: \"Campylobacter_coli_RM1875\"\r\n"
       ]
      },
      {
       "output_type": "stream",
       "stream": "stdout",
       "text": [
        "Indexing: \"Vibrio_tasmaniensis_LGP32\"\r\n"
       ]
      },
      {
       "output_type": "stream",
       "stream": "stdout",
       "text": [
        "Indexing: \"Kosmotoga_olearia_TBF_19_5_1\"\r\n"
       ]
      },
      {
       "output_type": "stream",
       "stream": "stdout",
       "text": [
        "Indexing: \"Denitrovibrio_acetiphilus_DSM_12809\"\r\n"
       ]
      },
      {
       "output_type": "stream",
       "stream": "stdout",
       "text": [
        "Indexing: \"Clostridium_perfringens_str_13\"\r\n"
       ]
      },
      {
       "output_type": "stream",
       "stream": "stdout",
       "text": [
        "Indexing: \"Nocardia_farcinica_IFM_10152\"\r\n"
       ]
      },
      {
       "output_type": "stream",
       "stream": "stdout",
       "text": [
        "Indexing: \"Myxococcus_stipitatus_DSM_14675\"\r\n"
       ]
      },
      {
       "output_type": "stream",
       "stream": "stdout",
       "text": [
        "Indexing: \"Melissococcus_plutonius_DAT561\"\r\n"
       ]
      },
      {
       "output_type": "stream",
       "stream": "stdout",
       "text": [
        "Indexing: \"Borrelia_garinii_PBi\"\r\n"
       ]
      },
      {
       "output_type": "stream",
       "stream": "stdout",
       "text": [
        "Indexing: \"Geobacillus_thermoleovorans_CCB_US3_UF5\"\r\n"
       ]
      },
      {
       "output_type": "stream",
       "stream": "stdout",
       "text": [
        "Indexing: \"Halomonas_elongata_DSM_2581\"\r\n"
       ]
      },
      {
       "output_type": "stream",
       "stream": "stdout",
       "text": [
        "Indexing: \"Edwardsiella_piscicida_C07-087\"\r\n"
       ]
      },
      {
       "output_type": "stream",
       "stream": "stdout",
       "text": [
        "Indexing: \"Leptospira_borgpetersenii_serovar_Hardjo-bovis_str_L550\"\r\n"
       ]
      },
      {
       "output_type": "stream",
       "stream": "stdout",
       "text": [
        "Indexing: \"Nocardiopsis_alba_ATCC_BAA-2165\"\r\n"
       ]
      },
      {
       "output_type": "stream",
       "stream": "stdout",
       "text": [
        "Indexing: \"Propionibacterium_avidum_44067\"\r\n"
       ]
      },
      {
       "output_type": "stream",
       "stream": "stdout",
       "text": [
        "Indexing: \"Anaplasma_centrale_str_Israel\"\r\n"
       ]
      },
      {
       "output_type": "stream",
       "stream": "stdout",
       "text": [
        "Indexing: \"Rickettsia_australis_str_Cutlack\"\r\n"
       ]
      },
      {
       "output_type": "stream",
       "stream": "stdout",
       "text": [
        "Indexing: \"Candidatus_Liberibacter_asiaticus_str_Ishi-1\"\r\n"
       ]
      },
      {
       "output_type": "stream",
       "stream": "stdout",
       "text": [
        "Indexing: \"Sulfurihydrogenibium_azorense_Az-Fu1\"\r\n"
       ]
      },
      {
       "output_type": "stream",
       "stream": "stdout",
       "text": [
        "Indexing: \"Alicyclobacillus_acidocaldarius_subsp_acidocaldarius_DSM_446\"\r\n"
       ]
      },
      {
       "output_type": "stream",
       "stream": "stdout",
       "text": [
        "Indexing: \"Dyadobacter_fermentans_DSM_18053\"\r\n"
       ]
      },
      {
       "output_type": "stream",
       "stream": "stdout",
       "text": [
        "Indexing: \"Oceanithermus_profundus_DSM_14977\"\r\n"
       ]
      },
      {
       "output_type": "stream",
       "stream": "stdout",
       "text": [
        "Indexing: \"Bifidobacterium_dentium_Bd1\"\r\n"
       ]
      },
      {
       "output_type": "stream",
       "stream": "stdout",
       "text": [
        "Indexing: \"Dehalogenimonas_lykanthroporepellens_BL-DC-9\"\r\n"
       ]
      },
      {
       "output_type": "stream",
       "stream": "stdout",
       "text": [
        "Indexing: \"Granulicella_tundricola_MP5ACTX9\"\r\n"
       ]
      },
      {
       "output_type": "stream",
       "stream": "stdout",
       "text": [
        "Indexing: \"Candidatus_Zinderia_insecticola_CARI\"\r\n"
       ]
      },
      {
       "output_type": "stream",
       "stream": "stdout",
       "text": [
        "Indexing: \"Desulfovibrio_africanus_str_Walvis_Bay\"\r\n"
       ]
      },
      {
       "output_type": "stream",
       "stream": "stdout",
       "text": [
        "Indexing: \"Haemophilus_influenzae_PittEE\"\r\n"
       ]
      },
      {
       "output_type": "stream",
       "stream": "stdout",
       "text": [
        "Indexing: \"Bradyrhizobium_diazoefficiens_USDA_110\"\r\n"
       ]
      },
      {
       "output_type": "stream",
       "stream": "stdout",
       "text": [
        "Indexing: \"Ilumatobacter_coccineus_YM16-304\"\r\n"
       ]
      },
      {
       "output_type": "stream",
       "stream": "stdout",
       "text": [
        "Indexing: \"Capnocytophaga_canimorsus_Cc5\"\r\n"
       ]
      },
      {
       "output_type": "stream",
       "stream": "stdout",
       "text": [
        "Indexing: \"Lysinibacillus_sphaericus_C3-41\"\r\n"
       ]
      },
      {
       "output_type": "stream",
       "stream": "stdout",
       "text": [
        "Indexing: \"Pseudomonas_mandelii_JR-1\"\r\n"
       ]
      },
      {
       "output_type": "stream",
       "stream": "stdout",
       "text": [
        "Indexing: \"Aeromonas_veronii_B565\"\r\n"
       ]
      },
      {
       "output_type": "stream",
       "stream": "stdout",
       "text": [
        "Indexing: \"Cronobacter_turicensis_z3032\"\r\n"
       ]
      },
      {
       "output_type": "stream",
       "stream": "stdout",
       "text": [
        "Indexing: \"Corynebacterium_pseudotuberculosis_FRC41\"\r\n"
       ]
      },
      {
       "output_type": "stream",
       "stream": "stdout",
       "text": [
        "Indexing: \"Vibrio_cholerae_MJ-1236\"\r\n"
       ]
      },
      {
       "output_type": "stream",
       "stream": "stdout",
       "text": [
        "Indexing: \"Kocuria_rhizophila_DC2201\"\r\n"
       ]
      },
      {
       "output_type": "stream",
       "stream": "stdout",
       "text": [
        "Indexing: \"Thermodesulfovibrio_yellowstonii_DSM_11347\"\r\n"
       ]
      },
      {
       "output_type": "stream",
       "stream": "stdout",
       "text": [
        "Indexing: \"Desulfovibrio_magneticus_RS-1\"\r\n"
       ]
      },
      {
       "output_type": "stream",
       "stream": "stdout",
       "text": [
        "Indexing: \"Rhodoferax_ferrireducens_T118\"\r\n"
       ]
      },
      {
       "output_type": "stream",
       "stream": "stdout",
       "text": [
        "Indexing: \"Mycobacterium_avium_subsp_avium_2285_R\"\r\n"
       ]
      },
      {
       "output_type": "stream",
       "stream": "stdout",
       "text": [
        "Indexing: \"Campylobacter_fetus_subsp_venerealis_cfvi03_293\"\r\n"
       ]
      },
      {
       "output_type": "stream",
       "stream": "stdout",
       "text": [
        "Indexing: \"Vibrio_furnissii_NCTC_11218\"\r\n"
       ]
      },
      {
       "output_type": "stream",
       "stream": "stdout",
       "text": [
        "Indexing: \"Cardinium_endosymbiont_cEper1_of_Encarsia_pergandiella\"\r\n"
       ]
      },
      {
       "output_type": "stream",
       "stream": "stdout",
       "text": [
        "Indexing: \"Staphylococcus_haemolyticus_JCSC1435\"\r\n"
       ]
      },
      {
       "output_type": "stream",
       "stream": "stdout",
       "text": [
        "Indexing: \"Mycoplasma_yeatsii_GM274B\"\r\n"
       ]
      },
      {
       "output_type": "stream",
       "stream": "stdout",
       "text": [
        "Indexing: \"Candidatus_Solibacter_usitatus_Ellin6076\"\r\n"
       ]
      },
      {
       "output_type": "stream",
       "stream": "stdout",
       "text": [
        "Indexing: \"Cyanobacterium_stanieri_PCC_7202\"\r\n"
       ]
      },
      {
       "output_type": "stream",
       "stream": "stdout",
       "text": [
        "Indexing: \"Clostridium_cellulovorans_743B\"\r\n"
       ]
      },
      {
       "output_type": "stream",
       "stream": "stdout",
       "text": [
        "Indexing: \"Lactobacillus_ruminis_ATCC_27782\"\r\n"
       ]
      },
      {
       "output_type": "stream",
       "stream": "stdout",
       "text": [
        "Indexing: \"Mycobacterium_africanum_GM041182\"\r\n"
       ]
      },
      {
       "output_type": "stream",
       "stream": "stdout",
       "text": [
        "Indexing: \"Tropheryma_whipplei_str_Twist\"\r\n"
       ]
      },
      {
       "output_type": "stream",
       "stream": "stdout",
       "text": [
        "Indexing: \"Candidatus_Chloracidobacterium_thermophilum_B\"\r\n"
       ]
      },
      {
       "output_type": "stream",
       "stream": "stdout",
       "text": [
        "Indexing: \"Nakamurella_multipartita_DSM_44233\"\r\n"
       ]
      },
      {
       "output_type": "stream",
       "stream": "stdout",
       "text": [
        "Indexing: \"Bacillus_infantis_NRRL_B-14911\"\r\n"
       ]
      },
      {
       "output_type": "stream",
       "stream": "stdout",
       "text": [
        "Indexing: \"Candidatus_Atelocyanobacterium_thalassa_isolate_ALOHA\"\r\n"
       ]
      },
      {
       "output_type": "stream",
       "stream": "stdout",
       "text": [
        "Indexing: \"Fimbriimonas_ginsengisoli_Gsoil_348\"\r\n"
       ]
      },
      {
       "output_type": "stream",
       "stream": "stdout",
       "text": [
        "Indexing: \"Clostridium_lentocellum_DSM_5427\"\r\n"
       ]
      },
      {
       "output_type": "stream",
       "stream": "stdout",
       "text": [
        "Indexing: \"Aromatoleum_aromaticum_EbN1\"\r\n"
       ]
      },
      {
       "output_type": "stream",
       "stream": "stdout",
       "text": [
        "Indexing: \"Cellulophaga_algicola_DSM_14237\"\r\n"
       ]
      },
      {
       "output_type": "stream",
       "stream": "stdout",
       "text": [
        "Indexing: \"Bibersteinia_trehalosi_USDA-ARS-USMARC-189\"\r\n"
       ]
      },
      {
       "output_type": "stream",
       "stream": "stdout",
       "text": [
        "Indexing: \"Beijerinckia_indica_subsp_indica_ATCC_9039\"\r\n"
       ]
      },
      {
       "output_type": "stream",
       "stream": "stdout",
       "text": [
        "Indexing: \"Marivirga_tractuosa_DSM_4126\"\r\n"
       ]
      },
      {
       "output_type": "stream",
       "stream": "stdout",
       "text": [
        "Indexing: \"Citrobacter_freundii_CFNIH1\"\r\n"
       ]
      },
      {
       "output_type": "stream",
       "stream": "stdout",
       "text": [
        "Indexing: \"Pelotomaculum_thermopropionicum_SI\"\r\n"
       ]
      },
      {
       "output_type": "stream",
       "stream": "stdout",
       "text": [
        "Indexing: \"Thermoanaerobacter_brockii_subsp_finnii_Ako-1\"\r\n"
       ]
      },
      {
       "output_type": "stream",
       "stream": "stdout",
       "text": [
        "Indexing: \"Desulfitobacterium_hafniense_DCB-2\"\r\n"
       ]
      },
      {
       "output_type": "stream",
       "stream": "stdout",
       "text": [
        "Indexing: \"Streptomyces_collinus_Tu_365\"\r\n"
       ]
      },
      {
       "output_type": "stream",
       "stream": "stdout",
       "text": [
        "Indexing: \"Chlamydophila_abortus_S26_3\"\r\n"
       ]
      },
      {
       "output_type": "stream",
       "stream": "stdout",
       "text": [
        "Indexing: \"Mycoplasma_californicum_HAZ160_1\"\r\n"
       ]
      },
      {
       "output_type": "stream",
       "stream": "stdout",
       "text": [
        "Indexing: \"Lactobacillus_sanfranciscensis_TMW_1_1304\"\r\n"
       ]
      },
      {
       "output_type": "stream",
       "stream": "stdout",
       "text": [
        "Indexing: \"Vibrio_tubiashii_ATCC_19109\"\r\n"
       ]
      },
      {
       "output_type": "stream",
       "stream": "stdout",
       "text": [
        "Indexing: \"Candidatus_Carsonella_ruddii_PV\"\r\n"
       ]
      },
      {
       "output_type": "stream",
       "stream": "stdout",
       "text": [
        "Indexing: \"Geobacillus_thermoglucosidasius_C56-YS93\"\r\n"
       ]
      },
      {
       "output_type": "stream",
       "stream": "stdout",
       "text": [
        "Indexing: \"Mycoplasma_penetrans_HF-2\"\r\n"
       ]
      },
      {
       "output_type": "stream",
       "stream": "stdout",
       "text": [
        "Indexing: \"Mycoplasma_crocodyli_MP145\"\r\n"
       ]
      },
      {
       "output_type": "stream",
       "stream": "stdout",
       "text": [
        "Indexing: \"Chlamydophila_felis_Fe_C-56\"\r\n"
       ]
      },
      {
       "output_type": "stream",
       "stream": "stdout",
       "text": [
        "Indexing: \"Slackia_heliotrinireducens_DSM_20476\"\r\n"
       ]
      },
      {
       "output_type": "stream",
       "stream": "stdout",
       "text": [
        "Indexing: \"Escherichia_coli_1303\"\r\n"
       ]
      },
      {
       "output_type": "stream",
       "stream": "stdout",
       "text": [
        "Indexing: \"Deferribacter_desulfuricans_SSM1\"\r\n"
       ]
      },
      {
       "output_type": "stream",
       "stream": "stdout",
       "text": [
        "Indexing: \"Catenulispora_acidiphila_DSM_44928\"\r\n"
       ]
      },
      {
       "output_type": "stream",
       "stream": "stdout",
       "text": [
        "Indexing: \"Bacteroides_vulgatus_ATCC_8482\"\r\n"
       ]
      },
      {
       "output_type": "stream",
       "stream": "stdout",
       "text": [
        "Indexing: \"Bartonella_australis_Aust_NH1\"\r\n"
       ]
      },
      {
       "output_type": "stream",
       "stream": "stdout",
       "text": [
        "Indexing: \"Streptococcus_gallolyticus_UCN34\"\r\n"
       ]
      },
      {
       "output_type": "stream",
       "stream": "stdout",
       "text": [
        "Indexing: \"Gallionella_capsiferriformans_ES-2\"\r\n"
       ]
      },
      {
       "output_type": "stream",
       "stream": "stdout",
       "text": [
        "Indexing: \"Glaciecola_psychrophila_170\"\r\n"
       ]
      },
      {
       "output_type": "stream",
       "stream": "stdout",
       "text": [
        "Indexing: \"Selenomonas_ruminantium_subsp_lactilytica_TAM6421\"\r\n"
       ]
      },
      {
       "output_type": "stream",
       "stream": "stdout",
       "text": [
        "Indexing: \"Mycobacterium_chubuense_NBB4\"\r\n"
       ]
      },
      {
       "output_type": "stream",
       "stream": "stdout",
       "text": [
        "Indexing: \"Corynebacterium_resistens_DSM_45100\"\r\n"
       ]
      },
      {
       "output_type": "stream",
       "stream": "stdout",
       "text": [
        "Indexing: \"Myxococcus_fulvus_HW-1\"\r\n"
       ]
      },
      {
       "output_type": "stream",
       "stream": "stdout",
       "text": [
        "Indexing: \"Thermosipho_melanesiensis_BI429\"\r\n"
       ]
      },
      {
       "output_type": "stream",
       "stream": "stdout",
       "text": [
        "Indexing: \"Mycobacterium_canettii_CIPT_140010059\"\r\n"
       ]
      },
      {
       "output_type": "stream",
       "stream": "stdout",
       "text": [
        "Indexing: \"Mycoplasma_capricolum_subsp_capricolum_ATCC_27343\"\r\n"
       ]
      },
      {
       "output_type": "stream",
       "stream": "stdout",
       "text": [
        "Indexing: \"Nautilia_profundicola_AmH\"\r\n"
       ]
      },
      {
       "output_type": "stream",
       "stream": "stdout",
       "text": [
        "Indexing: \"Lactobacillus_acidophilus_NCFM\"\r\n"
       ]
      },
      {
       "output_type": "stream",
       "stream": "stdout",
       "text": [
        "Indexing: \"Staphylococcus_saprophyticus_subsp_saprophyticus_ATCC_15305\"\r\n"
       ]
      },
      {
       "output_type": "stream",
       "stream": "stdout",
       "text": [
        "Indexing: \"Caldicellulosiruptor_bescii_DSM_6725\"\r\n"
       ]
      },
      {
       "output_type": "stream",
       "stream": "stdout",
       "text": [
        "Indexing: \"Chlamydia_muridarum_str_Nigg3_CMUT3-5\"\r\n"
       ]
      },
      {
       "output_type": "stream",
       "stream": "stdout",
       "text": [
        "Indexing: \"Arthrobacter_phenanthrenivorans_Sphe3\"\r\n"
       ]
      },
      {
       "output_type": "stream",
       "stream": "stdout",
       "text": [
        "Indexing: \"Desulfurella_acetivorans_A63\"\r\n"
       ]
      },
      {
       "output_type": "stream",
       "stream": "stdout",
       "text": [
        "Indexing: \"Streptococcus_intermedius_JTH08\"\r\n"
       ]
      },
      {
       "output_type": "stream",
       "stream": "stdout",
       "text": [
        "Indexing: \"Rhodomicrobium_vannielii_ATCC_17100\"\r\n"
       ]
      },
      {
       "output_type": "stream",
       "stream": "stdout",
       "text": [
        "Indexing: \"Aggregatibacter_aphrophilus_NJ8700\"\r\n"
       ]
      },
      {
       "output_type": "stream",
       "stream": "stdout",
       "text": [
        "Indexing: \"Thermotoga_thermarum_DSM_5069\"\r\n"
       ]
      },
      {
       "output_type": "stream",
       "stream": "stdout",
       "text": [
        "Indexing: \"Candidatus_Ishikawaella_capsulata_Mpkobe\"\r\n"
       ]
      },
      {
       "output_type": "stream",
       "stream": "stdout",
       "text": [
        "Indexing: \"Blattabacterium_sp_Cryptocercus_punctulatus_str_Cpu\"\r\n"
       ]
      },
      {
       "output_type": "stream",
       "stream": "stdout",
       "text": [
        "Indexing: \"Vibrio_parahaemolyticus_RIMD_2210633\"\r\n"
       ]
      },
      {
       "output_type": "stream",
       "stream": "stdout",
       "text": [
        "Indexing: \"Simkania_negevensis_Z\"\r\n"
       ]
      },
      {
       "output_type": "stream",
       "stream": "stdout",
       "text": [
        "Indexing: \"Campylobacter_jejuni_subsp_jejuni_M1\"\r\n"
       ]
      },
      {
       "output_type": "stream",
       "stream": "stdout",
       "text": [
        "Indexing: \"Chlorobium_luteolum_DSM_273\"\r\n"
       ]
      },
      {
       "output_type": "stream",
       "stream": "stdout",
       "text": [
        "Indexing: \"Thermoanaerobacterium_saccharolyticum_JW_SL-YS485\"\r\n"
       ]
      },
      {
       "output_type": "stream",
       "stream": "stdout",
       "text": [
        "Indexing: \"Cyanobium_gracile_PCC_6307\"\r\n"
       ]
      },
      {
       "output_type": "stream",
       "stream": "stdout",
       "text": [
        "Indexing: \"Corynebacterium_glycinophilum_AJ_3170\"\r\n"
       ]
      },
      {
       "output_type": "stream",
       "stream": "stdout",
       "text": [
        "Indexing: \"Chitinophaga_pinensis_DSM_2588\"\r\n"
       ]
      },
      {
       "output_type": "stream",
       "stream": "stdout",
       "text": [
        "Indexing: \"Rhodobacter_capsulatus_SB_1003\"\r\n"
       ]
      },
      {
       "output_type": "stream",
       "stream": "stdout",
       "text": [
        "Indexing: \"Aeromonas_media_WS\"\r\n"
       ]
      },
      {
       "output_type": "stream",
       "stream": "stdout",
       "text": [
        "Indexing: \"Solibacillus_silvestris_StLB046\"\r\n"
       ]
      },
      {
       "output_type": "stream",
       "stream": "stdout",
       "text": [
        "Indexing: \"Rhizobium_etli_bv_phaseoli_str_IE4803\"\r\n"
       ]
      },
      {
       "output_type": "stream",
       "stream": "stdout",
       "text": [
        "Indexing: \"Clostridium_botulinum_202F\"\r\n"
       ]
      },
      {
       "output_type": "stream",
       "stream": "stdout",
       "text": [
        "Indexing: \"Elusimicrobium_minutum_Pei191\"\r\n"
       ]
      },
      {
       "output_type": "stream",
       "stream": "stdout",
       "text": [
        "Indexing: \"Nitrosococcus_oceani_ATCC_19707\"\r\n"
       ]
      },
      {
       "output_type": "stream",
       "stream": "stdout",
       "text": [
        "Indexing: \"Neisseria_gonorrhoeae_FA_1090\"\r\n"
       ]
      },
      {
       "output_type": "stream",
       "stream": "stdout",
       "text": [
        "Indexing: \"Niastella_koreensis_GR20-10\"\r\n"
       ]
      },
      {
       "output_type": "stream",
       "stream": "stdout",
       "text": [
        "Indexing: \"Pseudomonas_stutzeri_DSM_4166\"\r\n"
       ]
      },
      {
       "output_type": "stream",
       "stream": "stdout",
       "text": [
        "Indexing: \"Arcanobacterium_haemolyticum_DSM_20595\"\r\n"
       ]
      },
      {
       "output_type": "stream",
       "stream": "stdout",
       "text": [
        "Indexing: \"Rickettsia_peacockii_str_Rustic\"\r\n"
       ]
      },
      {
       "output_type": "stream",
       "stream": "stdout",
       "text": [
        "Indexing: \"Dickeya_dadantii_3937\"\r\n"
       ]
      },
      {
       "output_type": "stream",
       "stream": "stdout",
       "text": [
        "Indexing: \"Waddlia_chondrophila_WSU_86-1044\"\r\n"
       ]
      },
      {
       "output_type": "stream",
       "stream": "stdout",
       "text": [
        "Indexing: \"Oceanobacillus_iheyensis_HTE831\"\r\n"
       ]
      },
      {
       "output_type": "stream",
       "stream": "stdout",
       "text": [
        "Indexing: \"Alkalilimnicola_ehrlichii_MLHE-1\"\r\n"
       ]
      },
      {
       "output_type": "stream",
       "stream": "stdout",
       "text": [
        "Indexing: \"Desulfovibrio_aespoeensis_Aspo-2\"\r\n"
       ]
      },
      {
       "output_type": "stream",
       "stream": "stdout",
       "text": [
        "Indexing: \"Allochromatium_vinosum_DSM_180\"\r\n"
       ]
      },
      {
       "output_type": "stream",
       "stream": "stdout",
       "text": [
        "Indexing: \"Deinococcus_gobiensis_I-0\"\r\n"
       ]
      },
      {
       "output_type": "stream",
       "stream": "stdout",
       "text": [
        "Indexing: \"Belliella_baltica_DSM_15883\"\r\n"
       ]
      },
      {
       "output_type": "stream",
       "stream": "stdout",
       "text": [
        "Indexing: \"Marinobacter_hydrocarbonoclasticus_ATCC_49840\"\r\n"
       ]
      },
      {
       "output_type": "stream",
       "stream": "stdout",
       "text": [
        "Indexing: \"Ethanoligenens_harbinense_YUAN-3\"\r\n"
       ]
      },
      {
       "output_type": "stream",
       "stream": "stdout",
       "text": [
        "Indexing: \"Stigmatella_aurantiaca_DW4_3-1\"\r\n"
       ]
      },
      {
       "output_type": "stream",
       "stream": "stdout",
       "text": [
        "Indexing: \"Blattabacterium_sp_Periplaneta_americana_str_BPLAN\"\r\n"
       ]
      },
      {
       "output_type": "stream",
       "stream": "stdout",
       "text": [
        "Indexing: \"Deinococcus_proteolyticus_MRP\"\r\n"
       ]
      },
      {
       "output_type": "stream",
       "stream": "stdout",
       "text": [
        "Indexing: \"Methylovorus_glucosetrophus_SIP3-4\"\r\n"
       ]
      },
      {
       "output_type": "stream",
       "stream": "stdout",
       "text": [
        "Indexing: \"Salinispora_tropica_CNB-440\"\r\n"
       ]
      },
      {
       "output_type": "stream",
       "stream": "stdout",
       "text": [
        "Indexing: \"Mycoplasma_hyopneumoniae_7448\"\r\n"
       ]
      },
      {
       "output_type": "stream",
       "stream": "stdout",
       "text": [
        "Indexing: \"Pelagibacterium_halotolerans_B2\"\r\n"
       ]
      },
      {
       "output_type": "stream",
       "stream": "stdout",
       "text": [
        "Indexing: \"Herpetosiphon_aurantiacus_DSM_785\"\r\n"
       ]
      },
      {
       "output_type": "stream",
       "stream": "stdout",
       "text": [
        "Indexing: \"Legionella_oakridgensis_ATCC_33761_DSM_21215\"\r\n"
       ]
      },
      {
       "output_type": "stream",
       "stream": "stdout",
       "text": [
        "Indexing: \"Ramlibacter_tataouinensis_TTB310\"\r\n"
       ]
      },
      {
       "output_type": "stream",
       "stream": "stdout",
       "text": [
        "Indexing: \"Desulfobacca_acetoxidans_DSM_11109\"\r\n"
       ]
      },
      {
       "output_type": "stream",
       "stream": "stdout",
       "text": [
        "Indexing: \"Saprospira_grandis_str_Lewin\"\r\n"
       ]
      },
      {
       "output_type": "stream",
       "stream": "stdout",
       "text": [
        "Indexing: \"Enterococcus_faecalis_D32\"\r\n"
       ]
      },
      {
       "output_type": "stream",
       "stream": "stdout",
       "text": [
        "Indexing: \"Moorella_thermoacetica_ATCC_39073\"\r\n"
       ]
      },
      {
       "output_type": "stream",
       "stream": "stdout",
       "text": [
        "Indexing: \"Chlorobium_phaeovibrioides_DSM_265\"\r\n"
       ]
      },
      {
       "output_type": "stream",
       "stream": "stdout",
       "text": [
        "Indexing: \"Amycolatopsis_orientalis_HCCB10007\"\r\n"
       ]
      },
      {
       "output_type": "stream",
       "stream": "stdout",
       "text": [
        "Indexing: \"Xanthomonas_axonopodis_Xac29-1\"\r\n"
       ]
      },
      {
       "output_type": "stream",
       "stream": "stdout",
       "text": [
        "Indexing: \"Terriglobus_saanensis_SP1PR4\"\r\n"
       ]
      },
      {
       "output_type": "stream",
       "stream": "stdout",
       "text": [
        "Indexing: \"Microlunatus_phosphovorus_NM-1\"\r\n"
       ]
      },
      {
       "output_type": "stream",
       "stream": "stdout",
       "text": [
        "Indexing: \"Rhodothermus_marinus_DSM_4252\"\r\n"
       ]
      },
      {
       "output_type": "stream",
       "stream": "stdout",
       "text": [
        "Indexing: \"Komagataeibacter_xylinus_E25\"\r\n"
       ]
      },
      {
       "output_type": "stream",
       "stream": "stdout",
       "text": [
        "Indexing: \"Streptococcus_gordonii_str_Challis_substr_CH1\"\r\n"
       ]
      },
      {
       "output_type": "stream",
       "stream": "stdout",
       "text": [
        "Indexing: \"Phenylobacterium_zucineum_HLK1\"\r\n"
       ]
      },
      {
       "output_type": "stream",
       "stream": "stdout",
       "text": [
        "Indexing: \"Sanguibacter_keddieii_DSM_10542\"\r\n"
       ]
      },
      {
       "output_type": "stream",
       "stream": "stdout",
       "text": [
        "Indexing: \"Caldicellulosiruptor_owensensis_OL\"\r\n"
       ]
      },
      {
       "output_type": "stream",
       "stream": "stdout",
       "text": [
        "Indexing: \"Xanthomonas_axonopodis_pv_citrumelo_F1\"\r\n"
       ]
      },
      {
       "output_type": "stream",
       "stream": "stdout",
       "text": [
        "Indexing: \"Verminephrobacter_eiseniae_EF01-2\"\r\n"
       ]
      },
      {
       "output_type": "stream",
       "stream": "stdout",
       "text": [
        "Indexing: \"Roseiflexus_castenholzii_DSM_13941\"\r\n"
       ]
      },
      {
       "output_type": "stream",
       "stream": "stdout",
       "text": [
        "Indexing: \"Ralstonia_eutropha_JMP134\"\r\n"
       ]
      },
      {
       "output_type": "stream",
       "stream": "stdout",
       "text": [
        "Indexing: \"Legionella_longbeachae_NSW150\"\r\n"
       ]
      },
      {
       "output_type": "stream",
       "stream": "stdout",
       "text": [
        "Indexing: \"Halorhodospira_halophila_SL1\"\r\n"
       ]
      },
      {
       "output_type": "stream",
       "stream": "stdout",
       "text": [
        "Indexing: \"Pseudomonas_poae_RE*1-1-14\"\r\n"
       ]
      },
      {
       "output_type": "stream",
       "stream": "stdout",
       "text": [
        "Indexing: \"Saccharothrix_espanaensis_DSM_44229\"\r\n"
       ]
      },
      {
       "output_type": "stream",
       "stream": "stdout",
       "text": [
        "Indexing: \"Staphylococcus_aureus_subsp_aureus_T0131\"\r\n"
       ]
      },
      {
       "output_type": "stream",
       "stream": "stdout",
       "text": [
        "Indexing: \"Candidatus_Arthromitus_sp_SFB-mouse-Yit\"\r\n"
       ]
      },
      {
       "output_type": "stream",
       "stream": "stdout",
       "text": [
        "Indexing: \"Spiroplasma_sabaudiense_Ar-1343\"\r\n"
       ]
      },
      {
       "output_type": "stream",
       "stream": "stdout",
       "text": [
        "Indexing: \"Bartonella_tribocorum_CIP_105476\"\r\n"
       ]
      },
      {
       "output_type": "stream",
       "stream": "stdout",
       "text": [
        "Indexing: \"Gramella_forsetii_KT0803\"\r\n"
       ]
      },
      {
       "output_type": "stream",
       "stream": "stdout",
       "text": [
        "Indexing: \"Ehrlichia_canis_str_Jake\"\r\n"
       ]
      },
      {
       "output_type": "stream",
       "stream": "stdout",
       "text": [
        "Indexing: \"Thermobifida_fusca_YX\"\r\n"
       ]
      },
      {
       "output_type": "stream",
       "stream": "stdout",
       "text": [
        "Indexing: \"Streptococcus_pasteurianus_ATCC_43144\"\r\n"
       ]
      },
      {
       "output_type": "stream",
       "stream": "stdout",
       "text": [
        "Indexing: \"Streptococcus_parauberis_NCFD_2020\"\r\n",
        "Indexing: \"Mycoplasma_pneumoniae_309\"\r\n"
       ]
      },
      {
       "output_type": "stream",
       "stream": "stdout",
       "text": [
        "Indexing: \"Thermosynechococcus_elongatus_BP-1\"\r\n"
       ]
      },
      {
       "output_type": "stream",
       "stream": "stdout",
       "text": [
        "Indexing: \"Legionella_pneumophila_subsp_pneumophila_str_Philadelphia_1\"\r\n"
       ]
      },
      {
       "output_type": "stream",
       "stream": "stdout",
       "text": [
        "Indexing: \"Acidothermus_cellulolyticus_11B\"\r\n"
       ]
      },
      {
       "output_type": "stream",
       "stream": "stdout",
       "text": [
        "Indexing: \"Desulfotomaculum_gibsoniae_DSM_7213\"\r\n"
       ]
      },
      {
       "output_type": "stream",
       "stream": "stdout",
       "text": [
        "Indexing: \"Listeria_ivanovii_subsp_ivanovii\"\r\n"
       ]
      },
      {
       "output_type": "stream",
       "stream": "stdout",
       "text": [
        "Indexing: \"Aquifex_aeolicus_VF5\"\r\n"
       ]
      },
      {
       "output_type": "stream",
       "stream": "stdout",
       "text": [
        "Indexing: \"Sphingomonas_sanxanigenens_DSM_19645_NX02\"\r\n"
       ]
      },
      {
       "output_type": "stream",
       "stream": "stdout",
       "text": [
        "Indexing: \"Acidovorax_ebreus_TPSY\"\r\n"
       ]
      },
      {
       "output_type": "stream",
       "stream": "stdout",
       "text": [
        "Indexing: \"Leuconostoc_gelidum_JB7\"\r\n"
       ]
      },
      {
       "output_type": "stream",
       "stream": "stdout",
       "text": [
        "Indexing: \"Pelobacter_propionicus_DSM_2379\"\r\n"
       ]
      },
      {
       "output_type": "stream",
       "stream": "stdout",
       "text": [
        "Indexing: \"Methylibium_petroleiphilum_PM1\"\r\n"
       ]
      },
      {
       "output_type": "stream",
       "stream": "stdout",
       "text": [
        "Indexing: \"Flexibacter_litoralis_DSM_6794\"\r\n"
       ]
      },
      {
       "output_type": "stream",
       "stream": "stdout",
       "text": [
        "Indexing: \"Borrelia_recurrentis_A1\"\r\n"
       ]
      },
      {
       "output_type": "stream",
       "stream": "stdout",
       "text": [
        "Indexing: \"Shewanella_piezotolerans_WP3\"\r\n"
       ]
      },
      {
       "output_type": "stream",
       "stream": "stdout",
       "text": [
        "Indexing: \"Escherichia_albertii_KF1\"\r\n"
       ]
      },
      {
       "output_type": "stream",
       "stream": "stdout",
       "text": [
        "Indexing: \"Mycoplasma_gallisepticum_str_F\"\r\n"
       ]
      },
      {
       "output_type": "stream",
       "stream": "stdout",
       "text": [
        "Indexing: \"Ralstonia_pickettii_12J\"\r\n"
       ]
      },
      {
       "output_type": "stream",
       "stream": "stdout",
       "text": [
        "Indexing: \"Leisingera_methylohalidivorans_DSM_14336\"\r\n"
       ]
      },
      {
       "output_type": "stream",
       "stream": "stdout",
       "text": [
        "Indexing: \"Treponema_pedis_str_T_A4\"\r\n"
       ]
      },
      {
       "output_type": "stream",
       "stream": "stdout",
       "text": [
        "Indexing: \"Gloeobacter_violaceus_PCC_7421\"\r\n"
       ]
      },
      {
       "output_type": "stream",
       "stream": "stdout",
       "text": [
        "Indexing: \"Solitalea_canadensis_DSM_3403\"\r\n"
       ]
      },
      {
       "output_type": "stream",
       "stream": "stdout",
       "text": [
        "Indexing: \"Ehrlichia_chaffeensis_str_West_Paces\"\r\n"
       ]
      },
      {
       "output_type": "stream",
       "stream": "stdout",
       "text": [
        "Indexing: \"Campylobacter_subantarcticus_LMG_24377\"\r\n"
       ]
      },
      {
       "output_type": "stream",
       "stream": "stdout",
       "text": [
        "Indexing: \"Pseudomonas_mosselii_SJ10\"\r\n"
       ]
      },
      {
       "output_type": "stream",
       "stream": "stdout",
       "text": [
        "Indexing: \"Serratia_proteamaculans_568\"\r\n"
       ]
      },
      {
       "output_type": "stream",
       "stream": "stdout",
       "text": [
        "Indexing: \"Clostridium_pasteurianum_DSM_525_ATCC_6013\"\r\n"
       ]
      },
      {
       "output_type": "stream",
       "stream": "stdout",
       "text": [
        "Indexing: \"Peptoclostridium_difficile_BI1\"\r\n"
       ]
      },
      {
       "output_type": "stream",
       "stream": "stdout",
       "text": [
        "Indexing: \"Hydrogenobacter_thermophilus_TK-6\"\r\n"
       ]
      },
      {
       "output_type": "stream",
       "stream": "stdout",
       "text": [
        "Indexing: \"Pantoea_vagans_C9-1\"\r\n"
       ]
      },
      {
       "output_type": "stream",
       "stream": "stdout",
       "text": [
        "Indexing: \"Caldicellulosiruptor_kronotskyensis_2002\"\r\n"
       ]
      },
      {
       "output_type": "stream",
       "stream": "stdout",
       "text": [
        "Indexing: \"Rhizobium_leguminosarum_bv_trifolii_WSM2304\"\r\n"
       ]
      },
      {
       "output_type": "stream",
       "stream": "stdout",
       "text": [
        "Indexing: \"Rickettsia_philipii_str_364D\"\r\n"
       ]
      },
      {
       "output_type": "stream",
       "stream": "stdout",
       "text": [
        "Indexing: \"Fervidobacterium_nodosum_Rt17-B1\"\r\n"
       ]
      },
      {
       "output_type": "stream",
       "stream": "stdout",
       "text": [
        "Indexing: \"Pedobacter_saltans_DSM_12145\"\r\n"
       ]
      },
      {
       "output_type": "stream",
       "stream": "stdout",
       "text": [
        "Indexing: \"Francisella_noatunensis_subsp_orientalis_str_Toba_04\"\r\n"
       ]
      },
      {
       "output_type": "stream",
       "stream": "stdout",
       "text": [
        "Indexing: \"Cyclobacterium_marinum_DSM_745\"\r\n"
       ]
      },
      {
       "output_type": "stream",
       "stream": "stdout",
       "text": [
        "Indexing: \"Geodermatophilus_obscurus_DSM_43160\"\r\n"
       ]
      },
      {
       "output_type": "stream",
       "stream": "stdout",
       "text": [
        "Indexing: \"Thermoanaerobacter_mathranii_subsp_mathranii_str_A3\"\r\n"
       ]
      },
      {
       "output_type": "stream",
       "stream": "stdout",
       "text": [
        "Indexing: \"Persephonella_marina_EX-H1\"\r\n"
       ]
      },
      {
       "output_type": "stream",
       "stream": "stdout",
       "text": [
        "Indexing: \"Thermomicrobium_roseum_DSM_5159\"\r\n"
       ]
      },
      {
       "output_type": "stream",
       "stream": "stdout",
       "text": [
        "Indexing: \"Methylobacillus_flagellatus_KT\"\r\n"
       ]
      },
      {
       "output_type": "stream",
       "stream": "stdout",
       "text": [
        "Indexing: \"Clostridium_cellulolyticum_H10\"\r\n"
       ]
      },
      {
       "output_type": "stream",
       "stream": "stdout",
       "text": [
        "Indexing: \"Streptococcus_suis_6407\"\r\n"
       ]
      },
      {
       "output_type": "stream",
       "stream": "stdout",
       "text": [
        "Indexing: \"Vibrio_vulnificus_MO6-24_O\"\r\n"
       ]
      },
      {
       "output_type": "stream",
       "stream": "stdout",
       "text": [
        "Indexing: \"Anaeromyxobacter_dehalogenans_2CP-C\"\r\n"
       ]
      },
      {
       "output_type": "stream",
       "stream": "stdout",
       "text": [
        "Indexing: \"Streptococcus_agalactiae_COH1\"\r\n"
       ]
      },
      {
       "output_type": "stream",
       "stream": "stdout",
       "text": [
        "Indexing: \"Bacillus_pseudofirmus_OF4\"\r\n"
       ]
      },
      {
       "output_type": "stream",
       "stream": "stdout",
       "text": [
        "Indexing: \"Mycoplasma_putrefaciens_KS1\"\r\n"
       ]
      },
      {
       "output_type": "stream",
       "stream": "stdout",
       "text": [
        "Indexing: \"Phaeobacter_gallaeciensis_2_10\"\r\n"
       ]
      },
      {
       "output_type": "stream",
       "stream": "stdout",
       "text": [
        "Indexing: \"Shimwellia_blattae_DSM_4481_NBRC_105725\"\r\n"
       ]
      },
      {
       "output_type": "stream",
       "stream": "stdout",
       "text": [
        "Indexing: \"Thermotoga_profunda_AZM34c06\"\r\n"
       ]
      },
      {
       "output_type": "stream",
       "stream": "stdout",
       "text": [
        "Indexing: \"Aliivibrio_salmonicida_LFI1238\"\r\n"
       ]
      },
      {
       "output_type": "stream",
       "stream": "stdout",
       "text": [
        "Indexing: \"Pseudomonas_syringae_pv_phaseolicola_1448A\"\r\n"
       ]
      },
      {
       "output_type": "stream",
       "stream": "stdout",
       "text": [
        "Indexing: \"Salmonella_bongori_NCTC_12419\"\r\n"
       ]
      },
      {
       "output_type": "stream",
       "stream": "stdout",
       "text": [
        "Indexing: \"Candidatus_Hodgkinia_cicadicola_Dsem\"\r\n"
       ]
      },
      {
       "output_type": "stream",
       "stream": "stdout",
       "text": [
        "Indexing: \"Sulfobacillus_acidophilus_DSM_10332\"\r\n"
       ]
      },
      {
       "output_type": "stream",
       "stream": "stdout",
       "text": [
        "Indexing: \"Brachyspira_murdochii_DSM_12563\"\r\n"
       ]
      },
      {
       "output_type": "stream",
       "stream": "stdout",
       "text": [
        "Indexing: \"Porphyromonas_gingivalis_TDC60\"\r\n"
       ]
      },
      {
       "output_type": "stream",
       "stream": "stdout",
       "text": [
        "Indexing: \"Roseburia_hominis_A2-183\"\r\n"
       ]
      },
      {
       "output_type": "stream",
       "stream": "stdout",
       "text": [
        "Indexing: \"Ralstonia_eutropha_H16\"\r\n"
       ]
      },
      {
       "output_type": "stream",
       "stream": "stdout",
       "text": [
        "Indexing: \"Sinorhizobium_medicae_WSM419\"\r\n"
       ]
      },
      {
       "output_type": "stream",
       "stream": "stdout",
       "text": [
        "Indexing: \"Bacillus_weihenstephanensis_KBAB4\"\r\n"
       ]
      },
      {
       "output_type": "stream",
       "stream": "stdout",
       "text": [
        "Indexing: \"Advenella_kashmirensis_WT001\"\r\n"
       ]
      },
      {
       "output_type": "stream",
       "stream": "stdout",
       "text": [
        "Indexing: \"Microcystis_aeruginosa_NIES-843\"\r\n"
       ]
      },
      {
       "output_type": "stream",
       "stream": "stdout",
       "text": [
        "Indexing: \"Marinomonas_mediterranea_MMB-1\"\r\n"
       ]
      },
      {
       "output_type": "stream",
       "stream": "stdout",
       "text": [
        "Indexing: \"Bacillus_anthracis_str_H9401\"\r\n"
       ]
      },
      {
       "output_type": "stream",
       "stream": "stdout",
       "text": [
        "Indexing: \"Lactobacillus_sakei_subsp_sakei_23K\"\r\n"
       ]
      },
      {
       "output_type": "stream",
       "stream": "stdout",
       "text": [
        "Indexing: \"Bacillus_bombysepticus_str_Wang\"\r\n"
       ]
      },
      {
       "output_type": "stream",
       "stream": "stdout",
       "text": [
        "Indexing: \"Mycoplasma_mobile_163K\"\r\n"
       ]
      },
      {
       "output_type": "stream",
       "stream": "stdout",
       "text": [
        "Indexing: \"Actinobacillus_pleuropneumoniae_serovar_5b_str_L20\"\r\n"
       ]
      },
      {
       "output_type": "stream",
       "stream": "stdout",
       "text": [
        "Indexing: \"Shewanella_frigidimarina_NCIMB_400\"\r\n"
       ]
      },
      {
       "output_type": "stream",
       "stream": "stdout",
       "text": [
        "Indexing: \"Micrococcus_luteus_NCTC_2665\"\r\n"
       ]
      },
      {
       "output_type": "stream",
       "stream": "stdout",
       "text": [
        "Indexing: \"Sodalis_glossinidius_str_morsitans\"\r\n"
       ]
      },
      {
       "output_type": "stream",
       "stream": "stdout",
       "text": [
        "Indexing: \"Acetobacter_pasteurianus_IFO_3283-12\"\r\n"
       ]
      },
      {
       "output_type": "stream",
       "stream": "stdout",
       "text": [
        "Indexing: \"Magnetospirillum_magneticum_AMB-1\"\r\n",
        "Indexing: \"Sphingomonas_wittichii_RW1\"\r\n"
       ]
      },
      {
       "output_type": "stream",
       "stream": "stdout",
       "text": [
        "Indexing: \"Pelobacter_carbinolicus_DSM_2380\"\r\n"
       ]
      },
      {
       "output_type": "stream",
       "stream": "stdout",
       "text": [
        "Indexing: \"Streptococcus_thermophilus_LMG_18311\"\r\n"
       ]
      },
      {
       "output_type": "stream",
       "stream": "stdout",
       "text": [
        "Indexing: \"Cryptobacterium_curtum_DSM_15641\"\r\n"
       ]
      },
      {
       "output_type": "stream",
       "stream": "stdout",
       "text": [
        "Indexing: \"Saccharophagus_degradans_2-40\"\r\n"
       ]
      },
      {
       "output_type": "stream",
       "stream": "stdout",
       "text": [
        "Indexing: \"Desulfovibrio_alaskensis_G20\"\r\n"
       ]
      },
      {
       "output_type": "stream",
       "stream": "stdout",
       "text": [
        "Indexing: \"Flavobacterium_psychrophilum_JIP02_86\"\r\n"
       ]
      },
      {
       "output_type": "stream",
       "stream": "stdout",
       "text": [
        "Indexing: \"Pediococcus_claussenii_ATCC_BAA-344\"\r\n"
       ]
      },
      {
       "output_type": "stream",
       "stream": "stdout",
       "text": [
        "Indexing: \"Methylobacterium_populi_BJ001\"\r\n"
       ]
      },
      {
       "output_type": "stream",
       "stream": "stdout",
       "text": [
        "Indexing: \"Candidatus_Cloacimonas_acidaminovorans_str_Evry\"\r\n"
       ]
      },
      {
       "output_type": "stream",
       "stream": "stdout",
       "text": [
        "Indexing: \"Borrelia_valaisiana_VS116\"\r\n"
       ]
      },
      {
       "output_type": "stream",
       "stream": "stdout",
       "text": [
        "Indexing: \"Coprothermobacter_proteolyticus_DSM_5265\"\r\n"
       ]
      },
      {
       "output_type": "stream",
       "stream": "stdout",
       "text": [
        "Indexing: \"Thermus_scotoductus_SA-01\"\r\n"
       ]
      },
      {
       "output_type": "stream",
       "stream": "stdout",
       "text": [
        "Indexing: \"Zunongwangia_profunda_SM-A87\"\r\n"
       ]
      },
      {
       "output_type": "stream",
       "stream": "stdout",
       "text": [
        "Indexing: \"Bacillus_atrophaeus_1942\"\r\n"
       ]
      },
      {
       "output_type": "stream",
       "stream": "stdout",
       "text": [
        "Indexing: \"Prevotella_dentalis_DSM_3688\"\r\n"
       ]
      },
      {
       "output_type": "stream",
       "stream": "stdout",
       "text": [
        "Indexing: \"Tsukamurella_paurometabola_DSM_20162\"\r\n"
       ]
      },
      {
       "output_type": "stream",
       "stream": "stdout",
       "text": [
        "Indexing: \"Acidaminococcus_fermentans_DSM_20731\"\r\n"
       ]
      },
      {
       "output_type": "stream",
       "stream": "stdout",
       "text": [
        "Indexing: \"Cycloclasticus_zancles_7-ME\"\r\n"
       ]
      },
      {
       "output_type": "stream",
       "stream": "stdout",
       "text": [
        "Indexing: \"Campylobacter_hominis_ATCC_BAA-381\"\r\n"
       ]
      },
      {
       "output_type": "stream",
       "stream": "stdout",
       "text": [
        "Indexing: \"Propionibacterium_propionicum_F0230a\"\r\n"
       ]
      },
      {
       "output_type": "stream",
       "stream": "stdout",
       "text": [
        "Indexing: \"Actinobacillus_succinogenes_130Z\"\r\n"
       ]
      },
      {
       "output_type": "stream",
       "stream": "stdout",
       "text": [
        "Indexing: \"Streptococcus_uberis_0140J\"\r\n",
        "Indexing: \"Klebsiella_variicola_At-22\"\r\n"
       ]
      },
      {
       "output_type": "stream",
       "stream": "stdout",
       "text": [
        "Indexing: \"Rickettsia_akari_str_Hartford\"\r\n"
       ]
      },
      {
       "output_type": "stream",
       "stream": "stdout",
       "text": [
        "Indexing: \"Campylobacter_volucris_LMG_24379\"\r\n"
       ]
      },
      {
       "output_type": "stream",
       "stream": "stdout",
       "text": [
        "Indexing: \"Mycoplasma_arthritidis_158L3-1\"\r\n"
       ]
      },
      {
       "output_type": "stream",
       "stream": "stdout",
       "text": [
        "Indexing: \"Truepera_radiovictrix_DSM_17093\"\r\n"
       ]
      },
      {
       "output_type": "stream",
       "stream": "stdout",
       "text": [
        "Indexing: \"Eubacterium_acidaminophilum_DSM_3953\"\r\n"
       ]
      },
      {
       "output_type": "stream",
       "stream": "stdout",
       "text": [
        "Indexing: \"Gemmatimonas_aurantiaca_T-27\"\r\n"
       ]
      },
      {
       "output_type": "stream",
       "stream": "stdout",
       "text": [
        "Indexing: \"Alcanivorax_borkumensis_SK2\"\r\n"
       ]
      },
      {
       "output_type": "stream",
       "stream": "stdout",
       "text": [
        "Indexing: \"Thermotoga_lettingae_TMO\"\r\n"
       ]
      },
      {
       "output_type": "stream",
       "stream": "stdout",
       "text": [
        "Indexing: \"Clostridium_novyi_NT\"\r\n"
       ]
      },
      {
       "output_type": "stream",
       "stream": "stdout",
       "text": [
        "Indexing: \"Rhodococcus_jostii_RHA1\"\r\n"
       ]
      },
      {
       "output_type": "stream",
       "stream": "stdout",
       "text": [
        "Indexing: \"Thermovirga_lienii_DSM_17291\"\r\n"
       ]
      },
      {
       "output_type": "stream",
       "stream": "stdout",
       "text": [
        "Indexing: \"Desulfitobacterium_dichloroeliminans_LMG_P-21439\"\r\n"
       ]
      },
      {
       "output_type": "stream",
       "stream": "stdout",
       "text": [
        "Indexing: \"Helicobacter_cinaedi_PAGU611\"\r\n"
       ]
      },
      {
       "output_type": "stream",
       "stream": "stdout",
       "text": [
        "Indexing: \"Desulfarculus_baarsii_DSM_2075\"\r\n"
       ]
      },
      {
       "output_type": "stream",
       "stream": "stdout",
       "text": [
        "Indexing: \"Desulfotomaculum_ruminis_DSM_2154\"\r\n"
       ]
      },
      {
       "output_type": "stream",
       "stream": "stdout",
       "text": [
        "Indexing: \"Mycobacterium_rhodesiae_NBB3\"\r\n"
       ]
      },
      {
       "output_type": "stream",
       "stream": "stdout",
       "text": [
        "Indexing: \"Thermotoga_caldifontis_AZM44c09\"\r\n"
       ]
      },
      {
       "output_type": "stream",
       "stream": "stdout",
       "text": [
        "Indexing: \"Thiocystis_violascens_DSM_198\"\r\n"
       ]
      },
      {
       "output_type": "stream",
       "stream": "stdout",
       "text": [
        "Indexing: \"Pseudomonas_fluorescens_F113\"\r\n"
       ]
      },
      {
       "output_type": "stream",
       "stream": "stdout",
       "text": [
        "Indexing: \"Desulfobulbus_propionicus_DSM_2032\"\r\n"
       ]
      },
      {
       "output_type": "stream",
       "stream": "stdout",
       "text": [
        "Indexing: \"Chlamydophila_caviae_GPIC\"\r\n"
       ]
      },
      {
       "output_type": "stream",
       "stream": "stdout",
       "text": [
        "Indexing: \"Lactobacillus_kefiranofaciens_ZW3\"\r\n"
       ]
      },
      {
       "output_type": "stream",
       "stream": "stdout",
       "text": [
        "Indexing: \"Rhodococcus_equi_103S\"\r\n"
       ]
      },
      {
       "output_type": "stream",
       "stream": "stdout",
       "text": [
        "Indexing: \"Pseudomonas_brassicacearum_subsp_brassicacearum_NFM421\"\r\n"
       ]
      },
      {
       "output_type": "stream",
       "stream": "stdout",
       "text": [
        "Indexing: \"Candidatus_Nasuia_deltocephalinicola_str_NAS-ALF\"\r\n"
       ]
      },
      {
       "output_type": "stream",
       "stream": "stdout",
       "text": [
        "Indexing: \"Caldisericum_exile_AZM16c01\"\r\n"
       ]
      },
      {
       "output_type": "stream",
       "stream": "stdout",
       "text": [
        "Indexing: \"Enterobacter_cloacae_subsp_cloacae_ATCC_13047\"\r\n"
       ]
      },
      {
       "output_type": "stream",
       "stream": "stdout",
       "text": [
        "Indexing: \"Syntrophomonas_wolfei_subsp_wolfei_str_Goettingen_G311\"\r\n"
       ]
      },
      {
       "output_type": "stream",
       "stream": "stdout",
       "text": [
        "Indexing: \"Xanthomonas_axonopodis_pv_citri_str_306\"\r\n"
       ]
      },
      {
       "output_type": "stream",
       "stream": "stdout",
       "text": [
        "Indexing: \"Burkholderia_pseudomallei_BPC006\"\r\n"
       ]
      },
      {
       "output_type": "stream",
       "stream": "stdout",
       "text": [
        "Indexing: \"Shewanella_loihica_PV-4\"\r\n"
       ]
      },
      {
       "output_type": "stream",
       "stream": "stdout",
       "text": [
        "Indexing: \"Sulfurospirillum_deleyianum_DSM_6946\"\r\n"
       ]
      },
      {
       "output_type": "stream",
       "stream": "stdout",
       "text": [
        "Indexing: \"Bartonella_quintana_RM-11\"\r\n"
       ]
      },
      {
       "output_type": "stream",
       "stream": "stdout",
       "text": [
        "Indexing: \"Amycolicicoccus_subflavus_DQS3-9A1\"\r\n"
       ]
      },
      {
       "output_type": "stream",
       "stream": "stdout",
       "text": [
        "Indexing: \"Borrelia_bissettii_DN127\"\r\n"
       ]
      },
      {
       "output_type": "stream",
       "stream": "stdout",
       "text": [
        "Indexing: \"Lactobacillus_rhamnosus_Lc_705\"\r\n"
       ]
      },
      {
       "output_type": "stream",
       "stream": "stdout",
       "text": [
        "Indexing: \"Pseudomonas_fulva_12-X\"\r\n"
       ]
      },
      {
       "output_type": "stream",
       "stream": "stdout",
       "text": [
        "Indexing: \"Desulfovibrio_vulgaris_str_Miyazaki_F\"\r\n"
       ]
      },
      {
       "output_type": "stream",
       "stream": "stdout",
       "text": [
        "Indexing: \"Rhizobium_tropici_CIAT_899\"\r\n"
       ]
      },
      {
       "output_type": "stream",
       "stream": "stdout",
       "text": [
        "Indexing: \"Bradyrhizobium_oligotrophicum_S58\"\r\n"
       ]
      },
      {
       "output_type": "stream",
       "stream": "stdout",
       "text": [
        "Indexing: \"Thioalkalimicrobium_cyclicum_ALM1\"\r\n"
       ]
      },
      {
       "output_type": "stream",
       "stream": "stdout",
       "text": [
        "Indexing: \"Sphaerochaeta_coccoides_DSM_17374\"\r\n"
       ]
      },
      {
       "output_type": "stream",
       "stream": "stdout",
       "text": [
        "Indexing: \"Caldanaerobacter_subterraneus_subsp_tengcongensis_MB4\"\r\n"
       ]
      },
      {
       "output_type": "stream",
       "stream": "stdout",
       "text": [
        "Indexing: \"Pectobacterium_atrosepticum_SCRI1043\"\r\n"
       ]
      },
      {
       "output_type": "stream",
       "stream": "stdout",
       "text": [
        "Indexing: \"Streptomyces_scabiei_87_22\"\r\n"
       ]
      },
      {
       "output_type": "stream",
       "stream": "stdout",
       "text": [
        "Indexing: \"Mycoplasma_hominis_ATCC_23114\"\r\n"
       ]
      },
      {
       "output_type": "stream",
       "stream": "stdout",
       "text": [
        "Indexing: \"Neisseria_elongata_subsp_glycolytica_ATCC_29315\"\r\n"
       ]
      },
      {
       "output_type": "stream",
       "stream": "stdout",
       "text": [
        "Indexing: \"Bdellovibrio_bacteriovorus_W\"\r\n"
       ]
      },
      {
       "output_type": "stream",
       "stream": "stdout",
       "text": [
        "Indexing: \"Desulfovibrio_desulfuricans_subsp_desulfuricans_str_ATCC_27774\"\r\n"
       ]
      },
      {
       "output_type": "stream",
       "stream": "stdout",
       "text": [
        "Indexing: \"Spiroplasma_syrphidicola_EA-1\"\r\n"
       ]
      },
      {
       "output_type": "stream",
       "stream": "stdout",
       "text": [
        "Indexing: \"Pasteurella_multocida_subsp_multocida_str_HN06\"\r\n"
       ]
      },
      {
       "output_type": "stream",
       "stream": "stdout",
       "text": [
        "Indexing: \"Odoribacter_splanchnicus_DSM_20712\"\r\n"
       ]
      },
      {
       "output_type": "stream",
       "stream": "stdout",
       "text": [
        "Indexing: \"Leptospira_interrogans_serovar_Copenhageni_str_Fiocruz_L1-130\"\r\n"
       ]
      },
      {
       "output_type": "stream",
       "stream": "stdout",
       "text": [
        "Indexing: \"Chlorobaculum_parvum_NCIB_8327\"\r\n"
       ]
      },
      {
       "output_type": "stream",
       "stream": "stdout",
       "text": [
        "Indexing: \"Bartonella_clarridgeiae_73\"\r\n"
       ]
      },
      {
       "output_type": "stream",
       "stream": "stdout",
       "text": [
        "Indexing: \"Wigglesworthia_glossinidia_endosymbiont_of_Glossina_brevipalpis\"\r\n"
       ]
      },
      {
       "output_type": "stream",
       "stream": "stdout",
       "text": [
        "Indexing: \"Dictyoglomus_thermophilum_H-6-12\"\r\n"
       ]
      },
      {
       "output_type": "stream",
       "stream": "stdout",
       "text": [
        "Indexing: \"Mycobacterium_gilvum_PYR-GCK\"\r\n"
       ]
      },
      {
       "output_type": "stream",
       "stream": "stdout",
       "text": [
        "Indexing: \"Candidatus_Moranella_endobia_PCVAL\"\r\n"
       ]
      },
      {
       "output_type": "stream",
       "stream": "stdout",
       "text": [
        "Indexing: \"Acidiphilium_multivorum_AIU301\"\r\n"
       ]
      },
      {
       "output_type": "stream",
       "stream": "stdout",
       "text": [
        "Indexing: \"Mesorhizobium_opportunistum_WSM2075\"\r\n"
       ]
      },
      {
       "output_type": "stream",
       "stream": "stdout",
       "text": [
        "Indexing: \"Granulibacter_bethesdensis_CGDNIH4\"\r\n"
       ]
      },
      {
       "output_type": "stream",
       "stream": "stdout",
       "text": [
        "Indexing: \"Chlamydia_trachomatis_L3_404_LN\"\r\n"
       ]
      },
      {
       "output_type": "stream",
       "stream": "stdout",
       "text": [
        "Indexing: \"Pectobacterium_carotovorum_subsp_odoriferum\"\r\n"
       ]
      },
      {
       "output_type": "stream",
       "stream": "stdout",
       "text": [
        "Indexing: \"Leuconostoc_citreum_KM20\"\r\n"
       ]
      },
      {
       "output_type": "stream",
       "stream": "stdout",
       "text": [
        "Indexing: \"Roseobacter_litoralis_Och_149\"\r\n"
       ]
      },
      {
       "output_type": "stream",
       "stream": "stdout",
       "text": [
        "Indexing: \"Shewanella_sediminis_HAW-EB3\"\r\n"
       ]
      },
      {
       "output_type": "stream",
       "stream": "stdout",
       "text": [
        "Indexing: \"Sphaerochaeta_globosa_str_Buddy\"\r\n"
       ]
      },
      {
       "output_type": "stream",
       "stream": "stdout",
       "text": [
        "Indexing: \"Sulfurimonas_autotrophica_DSM_16294\"\r\n"
       ]
      },
      {
       "output_type": "stream",
       "stream": "stdout",
       "text": [
        "Indexing: \"Thermobaculum_terrenum_ATCC_BAA-798\"\r\n"
       ]
      },
      {
       "output_type": "stream",
       "stream": "stdout",
       "text": [
        "Indexing: \"Mycobacterium_tuberculosis_str_Beijing_NITR203\"\r\n"
       ]
      },
      {
       "output_type": "stream",
       "stream": "stdout",
       "text": [
        "Indexing: \"Xanthomonas_oryzae_pv_oryzae_PXO99A\"\r\n"
       ]
      },
      {
       "output_type": "stream",
       "stream": "stdout",
       "text": [
        "Indexing: \"Cellulomonas_flavigena_DSM_20109\"\r\n"
       ]
      },
      {
       "output_type": "stream",
       "stream": "stdout",
       "text": [
        "Indexing: \"Mycoplasma_flocculare_ATCC_27399\"\r\n"
       ]
      },
      {
       "output_type": "stream",
       "stream": "stdout",
       "text": [
        "Indexing: \"Spirosoma_linguale_DSM_74\"\r\n"
       ]
      },
      {
       "output_type": "stream",
       "stream": "stdout",
       "text": [
        "Indexing: \"Chlorobium_chlorochromatii_CaD3\"\r\n"
       ]
      },
      {
       "output_type": "stream",
       "stream": "stdout",
       "text": [
        "Indexing: \"Burkholderia_phytofirmans_PsJN\"\r\n"
       ]
      },
      {
       "output_type": "stream",
       "stream": "stdout",
       "text": [
        "Indexing: \"Lactobacillus_casei_subsp_casei_ATCC_393\"\r\n"
       ]
      },
      {
       "output_type": "stream",
       "stream": "stdout",
       "text": [
        "Indexing: \"Streptococcus_mitis_B6\"\r\n"
       ]
      },
      {
       "output_type": "stream",
       "stream": "stdout",
       "text": [
        "Indexing: \"Streptococcus_parasanguinis_ATCC_15912\"\r\n"
       ]
      },
      {
       "output_type": "stream",
       "stream": "stdout",
       "text": [
        "Indexing: \"Corallococcus_coralloides_DSM_2259\"\r\n"
       ]
      },
      {
       "output_type": "stream",
       "stream": "stdout",
       "text": [
        "Indexing: \"Chlamydophila_pneumoniae_CWL029\"\r\n"
       ]
      },
      {
       "output_type": "stream",
       "stream": "stdout",
       "text": [
        "Indexing: \"Dechloromonas_aromatica_RCB\"\r\n"
       ]
      },
      {
       "output_type": "stream",
       "stream": "stdout",
       "text": [
        "Indexing: \"Citrobacter_rodentium_ICC168\"\r\n"
       ]
      },
      {
       "output_type": "stream",
       "stream": "stdout",
       "text": [
        "Indexing: \"Wolbachia_endosymbiont_of_Onchocerca_volvulus_str_Cameroon\"\r\n"
       ]
      },
      {
       "output_type": "stream",
       "stream": "stdout",
       "text": [
        "Indexing: \"Candidatus_Kinetoplastibacterium_oncopeltii_TCC290E\"\r\n"
       ]
      },
      {
       "output_type": "stream",
       "stream": "stdout",
       "text": [
        "Indexing: \"Chlorobium_phaeobacteroides_DSM_266\"\r\n"
       ]
      },
      {
       "output_type": "stream",
       "stream": "stdout",
       "text": [
        "Indexing: \"Robiginitalea_biformata_HTCC2501\"\r\n"
       ]
      },
      {
       "output_type": "stream",
       "stream": "stdout",
       "text": [
        "Indexing: \"Thermoanaerobacterium_xylanolyticum_LX-11\"\r\n"
       ]
      },
      {
       "output_type": "stream",
       "stream": "stdout",
       "text": [
        "Indexing: \"Actinobacillus_equuli_subsp_equuli\"\r\n"
       ]
      },
      {
       "output_type": "stream",
       "stream": "stdout",
       "text": [
        "Indexing: \"Desulfitobacterium_metallireducens_DSM_15288\"\r\n"
       ]
      },
      {
       "output_type": "stream",
       "stream": "stdout",
       "text": [
        "Indexing: \"Taylorella_equigenitalis_MCE9\"\r\n"
       ]
      },
      {
       "output_type": "stream",
       "stream": "stdout",
       "text": [
        "Indexing: \"Desulfitobacterium_dehalogenans_ATCC_51507\"\r\n"
       ]
      },
      {
       "output_type": "stream",
       "stream": "stdout",
       "text": [
        "Indexing: \"Alkaliphilus_oremlandii_OhILAs\"\r\n"
       ]
      },
      {
       "output_type": "stream",
       "stream": "stdout",
       "text": [
        "Indexing: \"Thermoanaerobacter_pseudethanolicus_ATCC_33223\"\r\n"
       ]
      },
      {
       "output_type": "stream",
       "stream": "stdout",
       "text": [
        "Indexing: \"Corynebacterium_glutamicum_ATCC_13032\"\r\n"
       ]
      },
      {
       "output_type": "stream",
       "stream": "stdout",
       "text": [
        "Indexing: \"Xenorhabdus_bovienii_SS-2004\"\r\n"
       ]
      },
      {
       "output_type": "stream",
       "stream": "stdout",
       "text": [
        "Indexing: \"Acidiphilium_cryptum_JF-5\"\r\n"
       ]
      },
      {
       "output_type": "stream",
       "stream": "stdout",
       "text": [
        "Indexing: \"Streptomyces_violaceusniger_Tu_4113\"\r\n"
       ]
      },
      {
       "output_type": "stream",
       "stream": "stdout",
       "text": [
        "Indexing: \"Paenibacillus_mucilaginosus_KNP414\"\r\n"
       ]
      },
      {
       "output_type": "stream",
       "stream": "stdout",
       "text": [
        "Indexing: \"Pantoea_ananatis_PA13\"\r\n"
       ]
      },
      {
       "output_type": "stream",
       "stream": "stdout",
       "text": [
        "Indexing: \"Mycobacterium_neoaurum_VKM_Ac-1815D\"\r\n"
       ]
      },
      {
       "output_type": "stream",
       "stream": "stdout",
       "text": [
        "Indexing: \"Oenococcus_kitaharae_DSM_17330\"\r\n"
       ]
      },
      {
       "output_type": "stream",
       "stream": "stdout",
       "text": [
        "Indexing: \"Borrelia_garinii_SZ\"\r\n"
       ]
      },
      {
       "output_type": "stream",
       "stream": "stdout",
       "text": [
        "Indexing: \"Geobacter_daltonii_FRC-32\"\r\n"
       ]
      },
      {
       "output_type": "stream",
       "stream": "stdout",
       "text": [
        "Indexing: \"Nocardia_brasiliensis_ATCC_700358\"\r\n"
       ]
      },
      {
       "output_type": "stream",
       "stream": "stdout",
       "text": [
        "Indexing: \"Burkholderia_vietnamiensis_G4\"\r\n"
       ]
      },
      {
       "output_type": "stream",
       "stream": "stdout",
       "text": [
        "Indexing: \"Sulfurimonas_gotlandica_GD1\"\r\n"
       ]
      },
      {
       "output_type": "stream",
       "stream": "stdout",
       "text": [
        "Indexing: \"Lactobacillus_gasseri_ATCC_33323_JCM_1131\"\r\n"
       ]
      },
      {
       "output_type": "stream",
       "stream": "stdout",
       "text": [
        "Indexing: \"Kutzneria_albida_DSM_43870\"\r\n"
       ]
      },
      {
       "output_type": "stream",
       "stream": "stdout",
       "text": [
        "Indexing: \"Treponema_succinifaciens_DSM_2489\"\r\n",
        "Indexing: \"Thermodesulfatator_indicus_DSM_15286\"\r\n"
       ]
      },
      {
       "output_type": "stream",
       "stream": "stdout",
       "text": [
        "Indexing: \"Caldicellulosiruptor_obsidiansis_OB47\"\r\n"
       ]
      },
      {
       "output_type": "stream",
       "stream": "stdout",
       "text": [
        "Indexing: \"Actinobacillus_suis_ATCC_33415\"\r\n"
       ]
      },
      {
       "output_type": "stream",
       "stream": "stdout",
       "text": [
        "Indexing: \"Cupriavidus_metallidurans_CH34\"\r\n"
       ]
      },
      {
       "output_type": "stream",
       "stream": "stdout",
       "text": [
        "Indexing: \"Sinorhizobium_meliloti_AK83\"\r\n"
       ]
      },
      {
       "output_type": "stream",
       "stream": "stdout",
       "text": [
        "Indexing: \"Methylotenera_versatilis_301\"\r\n"
       ]
      },
      {
       "output_type": "stream",
       "stream": "stdout",
       "text": [
        "Indexing: \"Buchnera_aphidicola_str_G002_Myzus_persicae\"\r\n"
       ]
      },
      {
       "output_type": "stream",
       "stream": "stdout",
       "text": [
        "Indexing: \"Corynebacterium_argentoratense_DSM_44202\"\r\n"
       ]
      },
      {
       "output_type": "stream",
       "stream": "stdout",
       "text": [
        "Indexing: \"Cytophaga_hutchinsonii_ATCC_33406\"\r\n"
       ]
      },
      {
       "output_type": "stream",
       "stream": "stdout",
       "text": [
        "Indexing: \"Thermomonospora_curvata_DSM_43183\"\r\n"
       ]
      },
      {
       "output_type": "stream",
       "stream": "stdout",
       "text": [
        "Indexing: \"Acetobacterium_woodii_DSM_1030\"\r\n"
       ]
      },
      {
       "output_type": "stream",
       "stream": "stdout",
       "text": [
        "Indexing: \"Rickettsia_massiliae_MTU5\"\r\n"
       ]
      },
      {
       "output_type": "stream",
       "stream": "stdout",
       "text": [
        "Indexing: \"Staphylococcus_pseudintermedius_ED99\"\r\n"
       ]
      },
      {
       "output_type": "stream",
       "stream": "stdout",
       "text": [
        "Indexing: \"Haemophilus_parainfluenzae_T3T1\"\r\n"
       ]
      },
      {
       "output_type": "stream",
       "stream": "stdout",
       "text": [
        "Indexing: \"Mahella_australiensis_50-1_BON\"\r\n"
       ]
      },
      {
       "output_type": "stream",
       "stream": "stdout",
       "text": [
        "Indexing: \"Gardnerella_vaginalis_ATCC_14019\"\r\n"
       ]
      },
      {
       "output_type": "stream",
       "stream": "stdout",
       "text": [
        "Indexing: \"Halothiobacillus_neapolitanus_c2\"\r\n"
       ]
      },
      {
       "output_type": "stream",
       "stream": "stdout",
       "text": [
        "Indexing: \"Muricauda_ruestringensis_DSM_13258\"\r\n"
       ]
      },
      {
       "output_type": "stream",
       "stream": "stdout",
       "text": [
        "Indexing: \"Alcanivorax_dieselolei_B5\"\r\n"
       ]
      },
      {
       "output_type": "stream",
       "stream": "stdout",
       "text": [
        "Indexing: \"Leuconostoc_kimchii_IMSNU_11154\"\r\n"
       ]
      },
      {
       "output_type": "stream",
       "stream": "stdout",
       "text": [
        "Indexing: \"Parvularcula_bermudensis_HTCC2503\"\r\n"
       ]
      },
      {
       "output_type": "stream",
       "stream": "stdout",
       "text": [
        "Indexing: \"Alkaliphilus_metalliredigens_QYMF\"\r\n"
       ]
      },
      {
       "output_type": "stream",
       "stream": "stdout",
       "text": [
        "Indexing: \"Thioalkalimicrobium_aerophilum_AL3\"\r\n"
       ]
      },
      {
       "output_type": "stream",
       "stream": "stdout",
       "text": [
        "Indexing: \"Chlamydia_psittaci_MN\"\r\n"
       ]
      },
      {
       "output_type": "stream",
       "stream": "stdout",
       "text": [
        "Indexing: \"Runella_slithyformis_DSM_19594\"\r\n"
       ]
      },
      {
       "output_type": "stream",
       "stream": "stdout",
       "text": [
        "Indexing: \"Weeksella_virosa_DSM_16922\"\r\n"
       ]
      },
      {
       "output_type": "stream",
       "stream": "stdout",
       "text": [
        "Indexing: \"Sulfuricella_denitrificans_skB26\"\r\n"
       ]
      },
      {
       "output_type": "stream",
       "stream": "stdout",
       "text": [
        "Indexing: \"Cellulophaga_lytica_DSM_7489\"\r\n"
       ]
      },
      {
       "output_type": "stream",
       "stream": "stdout",
       "text": [
        "Indexing: \"Bifidobacterium_adolescentis_ATCC_15703\"\r\n"
       ]
      },
      {
       "output_type": "stream",
       "stream": "stdout",
       "text": [
        "Indexing: \"Rickettsia_canadensis_str_McKiel\"\r\n"
       ]
      },
      {
       "output_type": "stream",
       "stream": "stdout",
       "text": [
        "Indexing: \"Aggregatibacter_actinomycetemcomitans_D7S-1\"\r\n"
       ]
      },
      {
       "output_type": "stream",
       "stream": "stdout",
       "text": [
        "Indexing: \"Mycoplasma_ovis_str_Michigan\"\r\n"
       ]
      },
      {
       "output_type": "stream",
       "stream": "stdout",
       "text": [
        "Indexing: \"Bacillus_cellulosilyticus_DSM_2522\"\r\n"
       ]
      },
      {
       "output_type": "stream",
       "stream": "stdout",
       "text": [
        "Indexing: \"Nitrosospira_multiformis_ATCC_25196\"\r\n"
       ]
      },
      {
       "output_type": "stream",
       "stream": "stdout",
       "text": [
        "Indexing: \"Bifidobacterium_thermophilum_RBL67\"\r\n"
       ]
      },
      {
       "output_type": "stream",
       "stream": "stdout",
       "text": [
        "Indexing: \"Corynebacterium_jeikeium_K411\"\r\n"
       ]
      },
      {
       "output_type": "stream",
       "stream": "stdout",
       "text": [
        "Indexing: \"Porphyromonas_asaccharolytica_DSM_20707\"\r\n"
       ]
      },
      {
       "output_type": "stream",
       "stream": "stdout",
       "text": [
        "Indexing: \"Candidatus_Uzinura_diaspidicola_str_ASNER\"\r\n"
       ]
      },
      {
       "output_type": "stream",
       "stream": "stdout",
       "text": [
        "Indexing: \"Mycoplasma_bovis_HB0801\"\r\n"
       ]
      },
      {
       "output_type": "stream",
       "stream": "stdout",
       "text": [
        "Indexing: \"Staphylococcus_pasteuri_SP1\"\r\n"
       ]
      },
      {
       "output_type": "stream",
       "stream": "stdout",
       "text": [
        "Indexing: \"Thiomicrospira_crunogena_XCL-2\"\r\n"
       ]
      },
      {
       "output_type": "stream",
       "stream": "stdout",
       "text": [
        "Indexing: \"Candidatus_Koribacter_versatilis_Ellin345\"\r\n"
       ]
      },
      {
       "output_type": "stream",
       "stream": "stdout",
       "text": [
        "Indexing: \"Listeria_monocytogenes_serotype_4b_str_CLIP_80459\"\r\n"
       ]
      },
      {
       "output_type": "stream",
       "stream": "stdout",
       "text": [
        "Indexing: \"Neorickettsia_sennetsu_str_Miyayama\"\r\n"
       ]
      },
      {
       "output_type": "stream",
       "stream": "stdout",
       "text": [
        "Indexing: \"Gluconacetobacter_diazotrophicus_PA1_5\"\r\n"
       ]
      },
      {
       "output_type": "stream",
       "stream": "stdout",
       "text": [
        "Indexing: \"Streptococcus_lutetiensis_033\"\r\n"
       ]
      },
      {
       "output_type": "stream",
       "stream": "stdout",
       "text": [
        "Indexing: \"Propionibacterium_acidipropionici_ATCC_4875\"\r\n"
       ]
      },
      {
       "output_type": "stream",
       "stream": "stdout",
       "text": [
        "Indexing: \"Ruegeria_pomeroyi_DSS-3\"\r\n"
       ]
      },
      {
       "output_type": "stream",
       "stream": "stdout",
       "text": [
        "Indexing: \"Helicobacter_felis_ATCC_49179\"\r\n"
       ]
      },
      {
       "output_type": "stream",
       "stream": "stdout",
       "text": [
        "Indexing: \"Serratia_marcescens_subsp_marcescens_Db11\"\r\n"
       ]
      },
      {
       "output_type": "stream",
       "stream": "stdout",
       "text": [
        "Indexing: \"Candidatus_Liberibacter_solanacearum_CLso-ZC1\"\r\n"
       ]
      },
      {
       "output_type": "stream",
       "stream": "stdout",
       "text": [
        "Indexing: \"Micavibrio_aeruginosavorus_EPB\"\r\n"
       ]
      },
      {
       "output_type": "stream",
       "stream": "stdout",
       "text": [
        "Indexing: \"Desulfobacula_toluolica_Tol2\"\r\n"
       ]
      },
      {
       "output_type": "stream",
       "stream": "stdout",
       "text": [
        "Indexing: \"Campylobacter_insulaenigrae_NCTC_12927\"\r\n"
       ]
      },
      {
       "output_type": "stream",
       "stream": "stdout",
       "text": [
        "Indexing: \"Pseudomonas_syringae_pv_tomato_str_DC3000\"\r\n"
       ]
      },
      {
       "output_type": "stream",
       "stream": "stdout",
       "text": [
        "Indexing: \"Psychroflexus_torquis_ATCC_700755\"\r\n"
       ]
      },
      {
       "output_type": "stream",
       "stream": "stdout",
       "text": [
        "Indexing: \"Meiothermus_ruber_DSM_1279\"\r\n"
       ]
      },
      {
       "output_type": "stream",
       "stream": "stdout",
       "text": [
        "Indexing: \"Ehrlichia_muris_AS145\"\r\n"
       ]
      },
      {
       "output_type": "stream",
       "stream": "stdout",
       "text": [
        "Indexing: \"Mycobacterium_indicus_pranii_MTCC_9506\"\r\n"
       ]
      },
      {
       "output_type": "stream",
       "stream": "stdout",
       "text": [
        "Indexing: \"Candidatus_Desulforudis_audaxviator_MP104C\"\r\n"
       ]
      },
      {
       "output_type": "stream",
       "stream": "stdout",
       "text": [
        "Indexing: \"Yersinia_aldovae_670-83\"\r\n"
       ]
      },
      {
       "output_type": "stream",
       "stream": "stdout",
       "text": [
        "Indexing: \"Prevotella_intermedia_17\"\r\n"
       ]
      },
      {
       "output_type": "stream",
       "stream": "stdout",
       "text": [
        "Indexing: \"Rickettsia_heilongjiangensis_054\"\r\n"
       ]
      },
      {
       "output_type": "stream",
       "stream": "stdout",
       "text": [
        "Indexing: \"Bordetella_holmesii_44057\"\r\n"
       ]
      },
      {
       "output_type": "stream",
       "stream": "stdout",
       "text": [
        "Indexing: \"Pseudomonas_resinovorans_NBRC_106553\"\r\n"
       ]
      },
      {
       "output_type": "stream",
       "stream": "stdout",
       "text": [
        "Indexing: \"Brucella_abortus_S19\"\r\n"
       ]
      },
      {
       "output_type": "stream",
       "stream": "stdout",
       "text": [
        "Indexing: \"Thermoanaerobacter_wiegelii_Rt8_B1\"\r\n"
       ]
      },
      {
       "output_type": "stream",
       "stream": "stdout",
       "text": [
        "Indexing: \"Thiobacillus_denitrificans_ATCC_25259\"\r\n"
       ]
      },
      {
       "output_type": "stream",
       "stream": "stdout",
       "text": [
        "Indexing: \"Borrelia_burgdorferi_ZS7\"\r\n"
       ]
      },
      {
       "output_type": "stream",
       "stream": "stdout",
       "text": [
        "Indexing: \"Candidatus_Vesicomyosocius_okutanii_HA\"\r\n"
       ]
      },
      {
       "output_type": "stream",
       "stream": "stdout",
       "text": [
        "Indexing: \"Orientia_tsutsugamushi_str_Boryong\"\r\n"
       ]
      },
      {
       "output_type": "stream",
       "stream": "stdout",
       "text": [
        "Indexing: \"Bacteroides_salanitronis_DSM_18170\"\r\n"
       ]
      },
      {
       "output_type": "stream",
       "stream": "stdout",
       "text": [
        "Indexing: \"Bacteroides_thetaiotaomicron_VPI-5482\"\r\n"
       ]
      },
      {
       "output_type": "stream",
       "stream": "stdout",
       "text": [
        "Indexing: \"Bacteroides_fragilis_638R\"\r\n"
       ]
      },
      {
       "output_type": "stream",
       "stream": "stdout",
       "text": [
        "Indexing: \"Macrococcus_caseolyticus_JCSC5402\"\r\n"
       ]
      },
      {
       "output_type": "stream",
       "stream": "stdout",
       "text": [
        "Indexing: \"Paenibacillus_polymyxa_CR1\"\r\n"
       ]
      },
      {
       "output_type": "stream",
       "stream": "stdout",
       "text": [
        "Indexing: \"Lactobacillus_brevis_ATCC_367\"\r\n"
       ]
      },
      {
       "output_type": "stream",
       "stream": "stdout",
       "text": [
        "Indexing: \"Symbiobacterium_thermophilum_IAM_14863\"\r\n"
       ]
      },
      {
       "output_type": "stream",
       "stream": "stdout",
       "text": [
        "Indexing: \"Kineococcus_radiotolerans_SRS30216_ATCC_BAA-149\"\r\n"
       ]
      },
      {
       "output_type": "stream",
       "stream": "stdout",
       "text": [
        "Indexing: \"Xanthomonas_albilineans_GPE_PC73\"\r\n"
       ]
      },
      {
       "output_type": "stream",
       "stream": "stdout",
       "text": [
        "Indexing: \"Myxococcus_xanthus_DK_1622\"\r\n"
       ]
      },
      {
       "output_type": "stream",
       "stream": "stdout",
       "text": [
        "Indexing: \"Halanaerobium_praevalens_DSM_2228\"\r\n"
       ]
      },
      {
       "output_type": "stream",
       "stream": "stdout",
       "text": [
        "Indexing: \"Acetohalobium_arabaticum_DSM_5501\"\r\n"
       ]
      },
      {
       "output_type": "stream",
       "stream": "stdout",
       "text": [
        "Indexing: \"Weissella_koreensis_KACC_15510\"\r\n"
       ]
      },
      {
       "output_type": "stream",
       "stream": "stdout",
       "text": [
        "Indexing: \"Rhodococcus_erythropolis_PR4\"\r\n"
       ]
      },
      {
       "output_type": "stream",
       "stream": "stdout",
       "text": [
        "Indexing: \"Arthrobacter_chlorophenolicus_A6\"\r\n"
       ]
      },
      {
       "output_type": "stream",
       "stream": "stdout",
       "text": [
        "Indexing: \"Streptomyces_griseus_subsp_griseus_NBRC_13350\"\r\n"
       ]
      },
      {
       "output_type": "stream",
       "stream": "stdout",
       "text": [
        "Indexing: \"Streptomyces_albus_J1074\"\r\n"
       ]
      },
      {
       "output_type": "stream",
       "stream": "stdout",
       "text": [
        "Indexing: \"Bartonella_bacilliformis_KC583\"\r\n"
       ]
      },
      {
       "output_type": "stream",
       "stream": "stdout",
       "text": [
        "Indexing: \"Streptomyces_avermitilis_MA-4680_NBRC_14893\"\r\n"
       ]
      },
      {
       "output_type": "stream",
       "stream": "stdout",
       "text": [
        "Indexing: \"Pseudomonas_monteilii_SB3101\"\r\n"
       ]
      },
      {
       "output_type": "stream",
       "stream": "stdout",
       "text": [
        "Indexing: \"Oenococcus_oeni_PSU-1\"\r\n"
       ]
      },
      {
       "output_type": "stream",
       "stream": "stdout",
       "text": [
        "Indexing: \"Shewanella_putrefaciens_200\"\r\n"
       ]
      },
      {
       "output_type": "stream",
       "stream": "stdout",
       "text": [
        "Indexing: \"Dictyoglomus_turgidum_DSM_6724\"\r\n"
       ]
      },
      {
       "output_type": "stream",
       "stream": "stdout",
       "text": [
        "Indexing: \"Chlamydia_avium_10DC88\"\r\n"
       ]
      },
      {
       "output_type": "stream",
       "stream": "stdout",
       "text": [
        "Indexing: \"Colwellia_psychrerythraea_34H\"\r\n"
       ]
      },
      {
       "output_type": "stream",
       "stream": "stdout",
       "text": [
        "Indexing: \"Streptomyces_lividans_TK24\"\r\n"
       ]
      },
      {
       "output_type": "stream",
       "stream": "stdout",
       "text": [
        "Indexing: \"Raoultella_ornithinolytica_B6\"\r\n"
       ]
      },
      {
       "output_type": "stream",
       "stream": "stdout",
       "text": [
        "Indexing: \"Enterococcus_hirae_ATCC_9790\"\r\n"
       ]
      },
      {
       "output_type": "stream",
       "stream": "stdout",
       "text": [
        "Indexing: \"Azotobacter_vinelandii_CA6\"\r\n"
       ]
      },
      {
       "output_type": "stream",
       "stream": "stdout",
       "text": [
        "Indexing: \"Acidithiobacillus_ferrivorans_SS3\"\r\n"
       ]
      },
      {
       "output_type": "stream",
       "stream": "stdout",
       "text": [
        "Indexing: \"Paludibacter_propionicigenes_WB4\"\r\n"
       ]
      },
      {
       "output_type": "stream",
       "stream": "stdout",
       "text": [
        "Indexing: \"Sphingobium_chlorophenolicum_L-1\"\r\n"
       ]
      },
      {
       "output_type": "stream",
       "stream": "stdout",
       "text": [
        "Indexing: \"Streptomyces_hygroscopicus_subsp_jinggangensis_5008\"\r\n"
       ]
      },
      {
       "output_type": "stream",
       "stream": "stdout",
       "text": [
        "Indexing: \"Desulfurivibrio_alkaliphilus_AHT2\"\r\n"
       ]
      },
      {
       "output_type": "stream",
       "stream": "stdout",
       "text": [
        "Indexing: \"Lactococcus_garvieae_ATCC_49156\"\r\n"
       ]
      },
      {
       "output_type": "stream",
       "stream": "stdout",
       "text": [
        "Indexing: \"Neorickettsia_risticii_str_Illinois\"\r\n"
       ]
      },
      {
       "output_type": "stream",
       "stream": "stdout",
       "text": [
        "Indexing: \"Maricaulis_maris_MCS10\"\r\n"
       ]
      },
      {
       "output_type": "stream",
       "stream": "stdout",
       "text": [
        "Indexing: \"Rhodococcus_pyridinivorans_SB3094\"\r\n"
       ]
      },
      {
       "output_type": "stream",
       "stream": "stdout",
       "text": [
        "Indexing: \"Leuconostoc_mesenteroides_subsp_mesenteroides_J18\"\r\n",
        "Indexing: \"Pseudomonas_putida_F1\"\r\n"
       ]
      },
      {
       "output_type": "stream",
       "stream": "stdout",
       "text": [
        "Indexing: \"Pseudomonas_aeruginosa_RP73\"\r\n"
       ]
      },
      {
       "output_type": "stream",
       "stream": "stdout",
       "text": [
        "Indexing: \"Leuconostoc_carnosum_JB16\"\r\n"
       ]
      },
      {
       "output_type": "stream",
       "stream": "stdout",
       "text": [
        "Indexing: \"_Bacillus_selenitireducens_MLS10\"\r\n"
       ]
      },
      {
       "output_type": "stream",
       "stream": "stdout",
       "text": [
        "Indexing: \"Capnocytophaga_ochracea_DSM_7271\"\r\n"
       ]
      },
      {
       "output_type": "stream",
       "stream": "stdout",
       "text": [
        "Indexing: \"Streptococcus_constellatus_subsp_pharyngis_C232\"\r\n"
       ]
      },
      {
       "output_type": "stream",
       "stream": "stdout",
       "text": [
        "Indexing: \"Streptococcus_macedonicus_ACA-DC_198\"\r\n"
       ]
      },
      {
       "output_type": "stream",
       "stream": "stdout",
       "text": [
        "Indexing: \"Listeria_seeligeri_serovar_1_2b_str_SLCC3954\"\r\n"
       ]
      },
      {
       "output_type": "stream",
       "stream": "stdout",
       "text": [
        "Indexing: \"Arthrobacter_aurescens_TC1\"\r\n"
       ]
      },
      {
       "output_type": "stream",
       "stream": "stdout",
       "text": [
        "Indexing: \"Planctomyces_brasiliensis_DSM_5305\"\r\n"
       ]
      },
      {
       "output_type": "stream",
       "stream": "stdout",
       "text": [
        "Indexing: \"Sphingobium_japonicum_UT26S\"\r\n"
       ]
      },
      {
       "output_type": "stream",
       "stream": "stdout",
       "text": [
        "Indexing: \"Carboxydothermus_hydrogenoformans_Z-2901\"\r\n"
       ]
      },
      {
       "output_type": "stream",
       "stream": "stdout",
       "text": [
        "Indexing: \"Psychrobacter_cryohalolentis_K5\"\r\n"
       ]
      },
      {
       "output_type": "stream",
       "stream": "stdout",
       "text": [
        "Indexing: \"Bartonella_vinsonii_subsp_berkhoffii_str_Winnie\"\r\n"
       ]
      },
      {
       "output_type": "stream",
       "stream": "stdout",
       "text": [
        "Indexing: \"Micromonospora_aurantiaca_ATCC_27029\"\r\n"
       ]
      },
      {
       "output_type": "stream",
       "stream": "stdout",
       "text": [
        "Indexing: \"Bifidobacterium_kashiwanohense_PV20-2\"\r\n"
       ]
      },
      {
       "output_type": "stream",
       "stream": "stdout",
       "text": [
        "Indexing: \"Burkholderia_glumae_BGR1\"\r\n"
       ]
      },
      {
       "output_type": "stream",
       "stream": "stdout",
       "text": [
        "Indexing: \"Frankia_alni_ACN14a\"\r\n"
       ]
      },
      {
       "output_type": "stream",
       "stream": "stdout",
       "text": [
        "Indexing: \"Salinibacter_ruber_DSM_13855\"\r\n"
       ]
      },
      {
       "output_type": "stream",
       "stream": "stdout",
       "text": [
        "Indexing: \"Ilyobacter_polytropus_DSM_2926\"\r\n"
       ]
      },
      {
       "output_type": "stream",
       "stream": "stdout",
       "text": [
        "Indexing: \"Enterococcus_mundtii_QU_25\"\r\n"
       ]
      },
      {
       "output_type": "stream",
       "stream": "stdout",
       "text": [
        "Indexing: \"Chloroflexus_aurantiacus_J-10-fl\"\r\n"
       ]
      },
      {
       "output_type": "stream",
       "stream": "stdout",
       "text": [
        "Indexing: \"Cyanobacterium_aponinum_PCC_10605\"\r\n"
       ]
      },
      {
       "output_type": "stream",
       "stream": "stdout",
       "text": [
        "Indexing: \"Intrasporangium_calvum_DSM_43043\"\r\n"
       ]
      },
      {
       "output_type": "stream",
       "stream": "stdout",
       "text": [
        "Indexing: \"Methylotenera_mobilis_JLW8\"\r\n"
       ]
      },
      {
       "output_type": "stream",
       "stream": "stdout",
       "text": [
        "Indexing: \"Thermocrinis_albus_DSM_14484\"\r\n"
       ]
      },
      {
       "output_type": "stream",
       "stream": "stdout",
       "text": [
        "Indexing: \"Tetragenococcus_halophilus_NBRC_12172\"\r\n"
       ]
      },
      {
       "output_type": "stream",
       "stream": "stdout",
       "text": [
        "Indexing: \"Haemophilus_parasuis_ZJ0906\"\r\n"
       ]
      },
      {
       "output_type": "stream",
       "stream": "stdout",
       "text": [
        "Indexing: \"Bifidobacterium_bifidum_BGN4\"\r\n"
       ]
      },
      {
       "output_type": "stream",
       "stream": "stdout",
       "text": [
        "Indexing: \"Rickettsia_parkeri_str_Portsmouth\"\r\n"
       ]
      },
      {
       "output_type": "stream",
       "stream": "stdout",
       "text": [
        "Indexing: \"Thermotoga_hypogea_NBRC_106472\"\r\n"
       ]
      },
      {
       "output_type": "stream",
       "stream": "stdout",
       "text": [
        "Indexing: \"Haemophilus_ducreyi_35000HP\"\r\n"
       ]
      },
      {
       "output_type": "stream",
       "stream": "stdout",
       "text": [
        "Indexing: \"Atopobium_parvulum_DSM_20469\"\r\n"
       ]
      },
      {
       "output_type": "stream",
       "stream": "stdout",
       "text": [
        "Indexing: \"Bacillus_halodurans_C-125\"\r\n"
       ]
      },
      {
       "output_type": "stream",
       "stream": "stdout",
       "text": [
        "Indexing: \"Agrobacterium_radiobacter_K84\"\r\n"
       ]
      },
      {
       "output_type": "stream",
       "stream": "stdout",
       "text": [
        "Indexing: \"Mycoplasma_mycoides_subsp_mycoides\"\r\n"
       ]
      },
      {
       "output_type": "stream",
       "stream": "stdout",
       "text": [
        "Indexing: \"Pseudomonas_cichorii_JBC1\"\r\n",
        "Indexing: \"Bifidobacterium_animalis_subsp_lactis_ATCC_27673\"\r\n"
       ]
      },
      {
       "output_type": "stream",
       "stream": "stdout",
       "text": [
        "Indexing: \"Alistipes_finegoldii_DSM_17242\"\r\n"
       ]
      },
      {
       "output_type": "stream",
       "stream": "stdout",
       "text": [
        "Indexing: \"Propionibacterium_freudenreichii_subsp_shermanii_CIRM-BIA1\"\r\n"
       ]
      },
      {
       "output_type": "stream",
       "stream": "stdout",
       "text": [
        "Indexing: \"Thalassospira_xiamenensis_M-5_DSM_17429\"\r\n"
       ]
      },
      {
       "output_type": "stream",
       "stream": "stdout",
       "text": [
        "Indexing: \"Oscillatoria_acuminata_PCC_6304\"\r\n"
       ]
      },
      {
       "output_type": "stream",
       "stream": "stdout",
       "text": [
        "Indexing: \"Hyphomicrobium_nitrativorans_NL23\"\r\n"
       ]
      },
      {
       "output_type": "stream",
       "stream": "stdout",
       "text": [
        "Indexing: \"Lactobacillus_amylovorus_GRL1118\"\r\n"
       ]
      },
      {
       "output_type": "stream",
       "stream": "stdout",
       "text": [
        "Indexing: \"Kyrpidia_tusciae_DSM_2912\"\r\n",
        "Indexing: \"Collimonas_fungivorans_Ter331\"\r\n",
        "Indexing: \"Fusobacterium_nucleatum_subsp_nucleatum_ATCC_25586\"\r\n",
        "Indexing: \"uncultured_Termite_group_1_bacterium_phylotype_Rs-D17\"\r\n"
       ]
      },
      {
       "output_type": "stream",
       "stream": "stdout",
       "text": [
        "Indexing: \"Candidatus_Blochmannia_pennsylvanicus_str_BPEN\"\r\n",
        "Indexing: \"Corynebacterium_maris_DSM_45190\"\r\n",
        "Indexing: \"Dactylococcopsis_salina_PCC_8305\"\r\n",
        "Indexing: \"Rhizobium_gallicum_bv_gallicum_R602\"\r\n"
       ]
      },
      {
       "output_type": "stream",
       "stream": "stdout",
       "text": [
        "Indexing: \"Leptothrix_cholodnii_SP-6\"\r\n",
        "Indexing: \"Anaplasma_phagocytophilum_str_HZ2\"\r\n"
       ]
      },
      {
       "output_type": "stream",
       "stream": "stdout",
       "text": [
        "Indexing: \"Roseibacterium_elongatum_DSM_19469\"\r\n"
       ]
      },
      {
       "output_type": "stream",
       "stream": "stdout",
       "text": [
        "Indexing: \"Corynebacterium_variabile_DSM_44702\"\r\n"
       ]
      },
      {
       "output_type": "stream",
       "stream": "stdout",
       "text": [
        "Indexing: \"_Clostridium_saccharolyticum_WM1\"\r\n"
       ]
      },
      {
       "output_type": "stream",
       "stream": "stdout",
       "text": [
        "Indexing: \"Nitrosococcus_watsonii_C-113\"\r\n"
       ]
      },
      {
       "output_type": "stream",
       "stream": "stdout",
       "text": [
        "Indexing: \"Streptococcus_oralis_Uo5\"\r\n"
       ]
      },
      {
       "output_type": "stream",
       "stream": "stdout",
       "text": [
        "Indexing: \"Desulfomonile_tiedjei_DSM_6799\"\r\n"
       ]
      },
      {
       "output_type": "stream",
       "stream": "stdout",
       "text": [
        "Indexing: \"Citrobacter_koseri_ATCC_BAA-895\"\r\n"
       ]
      },
      {
       "output_type": "stream",
       "stream": "stdout",
       "text": [
        "Indexing: \"Aminobacterium_colombiense_DSM_12261\"\r\n"
       ]
      },
      {
       "output_type": "stream",
       "stream": "stdout",
       "text": [
        "Indexing: \"Mesorhizobium_loti_MAFF303099\"\r\n"
       ]
      },
      {
       "output_type": "stream",
       "stream": "stdout",
       "text": [
        "Indexing: \"Psychrobacter_arcticus_273-4\"\r\n"
       ]
      },
      {
       "output_type": "stream",
       "stream": "stdout",
       "text": [
        "Indexing: \"Sorangium_cellulosum_So_ce56\"\r\n"
       ]
      },
      {
       "output_type": "stream",
       "stream": "stdout",
       "text": [
        "Indexing: \"Streptococcus_salivarius_JIM8777\"\r\n"
       ]
      },
      {
       "output_type": "stream",
       "stream": "stdout",
       "text": [
        "Indexing: \"Clostridium_saccharoperbutylacetonicum_N1-4_HMT\"\r\n"
       ]
      },
      {
       "output_type": "stream",
       "stream": "stdout",
       "text": [
        "Indexing: \"Paenibacillus_sabinae_T27\"\r\n"
       ]
      },
      {
       "output_type": "stream",
       "stream": "stdout",
       "text": [
        "Indexing: \"Sphaerochaeta_pleomorpha_str_Grapes\"\r\n"
       ]
      },
      {
       "output_type": "stream",
       "stream": "stdout",
       "text": [
        "Indexing: \"Finegoldia_magna_ATCC_29328\"\r\n"
       ]
      },
      {
       "output_type": "stream",
       "stream": "stdout",
       "text": [
        "Indexing: \"Xanthobacter_autotrophicus_Py2\"\r\n"
       ]
      },
      {
       "output_type": "stream",
       "stream": "stdout",
       "text": [
        "Indexing: \"Pandoraea_pnomenusa_3kgm\"\r\n"
       ]
      },
      {
       "output_type": "stream",
       "stream": "stdout",
       "text": [
        "Indexing: \"Streptococcus_pyogenes_NZ131\"\r\n"
       ]
      },
      {
       "output_type": "stream",
       "stream": "stdout",
       "text": [
        "Indexing: \"Bacillus_coagulans_DSM_1_ATCC_7050\"\r\n"
       ]
      },
      {
       "output_type": "stream",
       "stream": "stdout",
       "text": [
        "Indexing: \"Streptococcus_sanguinis_SK36\"\r\n"
       ]
      },
      {
       "output_type": "stream",
       "stream": "stdout",
       "text": [
        "Indexing: \"Streptomyces_pratensis_ATCC_33331\"\r\n"
       ]
      },
      {
       "output_type": "stream",
       "stream": "stdout",
       "text": [
        "Indexing: \"Onion_yellows_phytoplasma_OY-M\"\r\n"
       ]
      },
      {
       "output_type": "stream",
       "stream": "stdout",
       "text": [
        "Indexing: \"Dinoroseobacter_shibae_DFL_12_DSM_16493\"\r\n"
       ]
      },
      {
       "output_type": "stream",
       "stream": "stdout",
       "text": [
        "Indexing: \"Tepidanaerobacter_acetatoxydans_Re1\"\r\n"
       ]
      },
      {
       "output_type": "stream",
       "stream": "stdout",
       "text": [
        "Indexing: \"Spiribacter_salinus_M19-40\"\r\n"
       ]
      },
      {
       "output_type": "stream",
       "stream": "stdout",
       "text": [
        "Indexing: \"Hirschia_baltica_ATCC_49814\"\r\n"
       ]
      },
      {
       "output_type": "stream",
       "stream": "stdout",
       "text": [
        "Indexing: \"Synechococcus_elongatus_PCC_7942\"\r\n"
       ]
      },
      {
       "output_type": "stream",
       "stream": "stdout",
       "text": [
        "Indexing: \"Brachyspira_hyodysenteriae_WA1\"\r\n"
       ]
      },
      {
       "output_type": "stream",
       "stream": "stdout",
       "text": [
        "Indexing: \"Corynebacterium_kroppenstedtii_DSM_44385\"\r\n"
       ]
      },
      {
       "output_type": "stream",
       "stream": "stdout",
       "text": [
        "Indexing: \"Mycobacterium_ulcerans_Agy99\"\r\n"
       ]
      },
      {
       "output_type": "stream",
       "stream": "stdout",
       "text": [
        "Indexing: \"Bordetella_parapertussis_Bpp5\"\r\n"
       ]
      },
      {
       "output_type": "stream",
       "stream": "stdout",
       "text": [
        "Indexing: \"Lactobacillus_plantarum_ZJ316\"\r\n"
       ]
      },
      {
       "output_type": "stream",
       "stream": "stdout",
       "text": [
        "Indexing: \"Echinicola_vietnamensis_DSM_17526\"\r\n"
       ]
      },
      {
       "output_type": "stream",
       "stream": "stdout",
       "text": [
        "Indexing: \"Tistrella_mobilis_KA081020-065\"\r\n"
       ]
      },
      {
       "output_type": "stream",
       "stream": "stdout",
       "text": [
        "Indexing: \"Clostridium_ljungdahlii_DSM_13528\"\r\n"
       ]
      },
      {
       "output_type": "stream",
       "stream": "stdout",
       "text": [
        "Indexing: \"Liberibacter_crescens_BT-1\"\r\n"
       ]
      },
      {
       "output_type": "stream",
       "stream": "stdout",
       "text": [
        "Indexing: \"Burkholderia_gladioli_BSR3\"\r\n"
       ]
      },
      {
       "output_type": "stream",
       "stream": "stdout",
       "text": [
        "Indexing: \"Mycoplasma_cynos_C142\"\r\n"
       ]
      },
      {
       "output_type": "stream",
       "stream": "stdout",
       "text": [
        "Indexing: \"Actinoplanes_friuliensis_DSM_7358\"\r\n"
       ]
      },
      {
       "output_type": "stream",
       "stream": "stdout",
       "text": [
        "Indexing: \"Candidatus_Mycoplasma_haemolamae_str_Purdue\"\r\n"
       ]
      },
      {
       "output_type": "stream",
       "stream": "stdout",
       "text": [
        "Indexing: \"Zymomonas_mobilis_subsp_mobilis_NRRL_B-12526\"\r\n"
       ]
      },
      {
       "output_type": "stream",
       "stream": "stdout",
       "text": [
        "Indexing: \"Candidatus_Endolissoclinum_faulkneri_L2\"\r\n"
       ]
      },
      {
       "output_type": "stream",
       "stream": "stdout",
       "text": [
        "Indexing: \"Filifactor_alocis_ATCC_35896\"\r\n"
       ]
      },
      {
       "output_type": "stream",
       "stream": "stdout",
       "text": [
        "Indexing: \"Mobiluncus_curtisii_ATCC_43063\"\r\n"
       ]
      },
      {
       "output_type": "stream",
       "stream": "stdout",
       "text": [
        "Indexing: \"Caulobacter_crescentus_NA1000\"\r\n"
       ]
      },
      {
       "output_type": "stream",
       "stream": "stdout",
       "text": [
        "Indexing: \"Thermoanaerobacter_italicus_Ab9\"\r\n"
       ]
      },
      {
       "output_type": "stream",
       "stream": "stdout",
       "text": [
        "Indexing: \"Xanthomonas_campestris_pv_raphani_756C\"\r\n"
       ]
      },
      {
       "output_type": "stream",
       "stream": "stdout",
       "text": [
        "Indexing: \"Thermosediminibacter_oceani_DSM_16646\"\r\n"
       ]
      },
      {
       "output_type": "stream",
       "stream": "stdout",
       "text": [
        "Indexing: \"Bacillus_toyonensis_BCT-7112\"\r\n"
       ]
      },
      {
       "output_type": "stream",
       "stream": "stdout",
       "text": [
        "Indexing: \"Ruminococcus_albus_7_DSM_20455\"\r\n"
       ]
      },
      {
       "output_type": "stream",
       "stream": "stdout",
       "text": [
        "Indexing: \"Clostridium_beijerinckii_ATCC_35702\"\r\n"
       ]
      },
      {
       "output_type": "stream",
       "stream": "stdout",
       "text": [
        "Indexing: \"Blattabacterium_sp_Mastotermes_darwiniensis_str_MADAR\"\r\n"
       ]
      },
      {
       "output_type": "stream",
       "stream": "stdout",
       "text": [
        "Indexing: \"Geobacillus_kaustophilus_HTA426\"\r\n"
       ]
      },
      {
       "output_type": "stream",
       "stream": "stdout",
       "text": [
        "Indexing: \"Streptococcus_mutans_NN2025\"\r\n"
       ]
      },
      {
       "output_type": "stream",
       "stream": "stdout",
       "text": [
        "Indexing: \"Ureaplasma_urealyticum_serovar_10_str_ATCC_33699\"\r\n"
       ]
      },
      {
       "output_type": "stream",
       "stream": "stdout",
       "text": [
        "Indexing: \"Shewanella_pealeana_ATCC_700345\"\r\n"
       ]
      },
      {
       "output_type": "stream",
       "stream": "stdout",
       "text": [
        "Indexing: \"Anaplasma_marginale_str_Florida\"\r\n"
       ]
      },
      {
       "output_type": "stream",
       "stream": "stdout",
       "text": [
        "Indexing: \"Coraliomargarita_akajimensis_DSM_45221\"\r\n"
       ]
      },
      {
       "output_type": "stream",
       "stream": "stdout",
       "text": [
        "Indexing: \"Methylocella_silvestris_BL2\"\r\n"
       ]
      },
      {
       "output_type": "stream",
       "stream": "stdout",
       "text": [
        "Indexing: \"Bacillus_cytotoxicus_NVH_391-98\"\r\n"
       ]
      },
      {
       "output_type": "stream",
       "stream": "stdout",
       "text": [
        "Indexing: \"Mesorhizobium_ciceri_biovar_biserrulae_WSM1271\"\r\n"
       ]
      },
      {
       "output_type": "stream",
       "stream": "stdout",
       "text": [
        "Indexing: \"Brucella_suis_bv_1_str_S2\"\r\n"
       ]
      },
      {
       "output_type": "stream",
       "stream": "stdout",
       "text": [
        "Indexing: \"Tolumonas_auensis_DSM_9187\"\r\n"
       ]
      },
      {
       "output_type": "stream",
       "stream": "stdout",
       "text": [
        "Indexing: \"Desulfovibrio_salexigens_DSM_2638\"\r\n"
       ]
      },
      {
       "output_type": "stream",
       "stream": "stdout",
       "text": [
        "Indexing: \"Bacillus_licheniformis_DSM_13_ATCC_14580\"\r\n"
       ]
      },
      {
       "output_type": "stream",
       "stream": "stdout",
       "text": [
        "Indexing: \"Lawsonia_intracellularis_N343\"\r\n"
       ]
      },
      {
       "output_type": "stream",
       "stream": "stdout",
       "text": [
        "Indexing: \"Bordetella_pertussis_18323\"\r\n"
       ]
      },
      {
       "output_type": "stream",
       "stream": "stdout",
       "text": [
        "Indexing: \"Glaciecola_nitratireducens_FR1064\"\r\n"
       ]
      },
      {
       "output_type": "stream",
       "stream": "stdout",
       "text": [
        "Indexing: \"Natranaerobius_thermophilus_JW_NM-WN-LF\"\r\n"
       ]
      },
      {
       "output_type": "stream",
       "stream": "stdout",
       "text": [
        "Indexing: \"Enterococcus_faecium_NRRL_B-2354\"\r\n"
       ]
      },
      {
       "output_type": "stream",
       "stream": "stdout",
       "text": [
        "Indexing: \"Singulisphaera_acidiphila_DSM_18658\"\r\n"
       ]
      },
      {
       "output_type": "stream",
       "stream": "stdout",
       "text": [
        "Indexing: \"Spiroplasma_apis_B31\"\r\n"
       ]
      },
      {
       "output_type": "stream",
       "stream": "stdout",
       "text": [
        "Indexing: \"Anaerococcus_prevotii_DSM_20548\"\r\n"
       ]
      },
      {
       "output_type": "stream",
       "stream": "stdout",
       "text": [
        "Indexing: \"Polaromonas_naphthalenivorans_CJ2\"\r\n"
       ]
      },
      {
       "output_type": "stream",
       "stream": "stdout",
       "text": [
        "Indexing: \"Providencia_stuartii_MRSN_2154\"\r\n"
       ]
      },
      {
       "output_type": "stream",
       "stream": "stdout",
       "text": [
        "Indexing: \"Enterococcus_casseliflavus_EC20\"\r\n"
       ]
      },
      {
       "output_type": "stream",
       "stream": "stdout",
       "text": [
        "Indexing: \"Pseudomonas_denitrificans_ATCC_13867\"\r\n"
       ]
      },
      {
       "output_type": "stream",
       "stream": "stdout",
       "text": [
        "Indexing: \"Haliangium_ochraceum_DSM_14365\"\r\n"
       ]
      },
      {
       "output_type": "stream",
       "stream": "stdout",
       "text": [
        "Indexing: \"Treponema_denticola_ATCC_35405\"\r\n"
       ]
      },
      {
       "output_type": "stream",
       "stream": "stdout",
       "text": [
        "Indexing: \"Simiduia_agarivorans_SA1_DSM_21679\"\r\n"
       ]
      },
      {
       "output_type": "stream",
       "stream": "stdout",
       "text": [
        "Indexing: \"Candidatus_Riesia_pediculicola_USDA\"\r\n"
       ]
      },
      {
       "output_type": "stream",
       "stream": "stdout",
       "text": [
        "Indexing: \"Heliobacterium_modesticaldum_Ice1\"\r\n"
       ]
      },
      {
       "output_type": "stream",
       "stream": "stdout",
       "text": [
        "Indexing: \"Bacillus_cereus_G9241\"\r\n"
       ]
      },
      {
       "output_type": "stream",
       "stream": "stdout",
       "text": [
        "Indexing: \"Amycolatopsis_mediterranei_S699\"\r\n"
       ]
      },
      {
       "output_type": "stream",
       "stream": "stdout",
       "text": [
        "Indexing: \"Borrelia_turicatae_91E135\"\r\n"
       ]
      },
      {
       "output_type": "stream",
       "stream": "stdout",
       "text": [
        "Indexing: \"Anabaena_cylindrica_PCC_7122\"\r\n"
       ]
      },
      {
       "output_type": "stream",
       "stream": "stdout",
       "text": [
        "Indexing: \"Streptococcus_pneumoniae_ST556\"\r\n"
       ]
      },
      {
       "output_type": "stream",
       "stream": "stdout",
       "text": [
        "Indexing: \"Acinetobacter_calcoaceticus_PHEA-2\"\r\n"
       ]
      },
      {
       "output_type": "stream",
       "stream": "stdout",
       "text": [
        "Indexing: \"Rhodopseudomonas_palustris_BisB5\"\r\n"
       ]
      },
      {
       "output_type": "stream",
       "stream": "stdout",
       "text": [
        "Indexing: \"Mesotoga_prima_MesG1_Ag_4_2\"\r\n"
       ]
      },
      {
       "output_type": "stream",
       "stream": "stdout",
       "text": [
        "Indexing: \"Idiomarina_loihiensis_GSL_199\"\r\n"
       ]
      },
      {
       "output_type": "stream",
       "stream": "stdout",
       "text": [
        "Indexing: \"Spirochaeta_smaragdinae_DSM_11293\"\r\n"
       ]
      },
      {
       "output_type": "stream",
       "stream": "stdout",
       "text": [
        "Indexing: \"Hafnia_alvei_FB1\"\r\n"
       ]
      },
      {
       "output_type": "stream",
       "stream": "stdout",
       "text": [
        "Indexing: \"Shewanella_oneidensis_MR-1\"\r\n"
       ]
      },
      {
       "output_type": "stream",
       "stream": "stdout",
       "text": [
        "Indexing: \"Candidatus_Accumulibacter_phosphatis_clade_IIA_str_UW-1\"\r\n"
       ]
      },
      {
       "output_type": "stream",
       "stream": "stdout",
       "text": [
        "Indexing: \"Candidatus_Sulcia_muelleri_PSPU\"\r\n"
       ]
      },
      {
       "output_type": "stream",
       "stream": "stdout",
       "text": [
        "Indexing: \"Haliscomenobacter_hydrossis_DSM_1100\"\r\n"
       ]
      },
      {
       "output_type": "stream",
       "stream": "stdout",
       "text": [
        "Indexing: \"Bifidobacterium_pseudolongum_PV8-2\"\r\n"
       ]
      },
      {
       "output_type": "stream",
       "stream": "stdout",
       "text": [
        "Indexing: \"Arcobacter_nitrofigilis_DSM_7299\"\r\n"
       ]
      },
      {
       "output_type": "stream",
       "stream": "stdout",
       "text": [
        "Indexing: \"Rickettsia_typhi_str_TH1527\"\r\n"
       ]
      },
      {
       "output_type": "stream",
       "stream": "stdout",
       "text": [
        "Indexing: \"Mycoplasma_parvum_str_Indiana\"\r\n"
       ]
      },
      {
       "output_type": "stream",
       "stream": "stdout",
       "text": [
        "Indexing: \"Phaeobacter_inhibens_DSM_17395\"\r\n"
       ]
      },
      {
       "output_type": "stream",
       "stream": "stdout",
       "text": [
        "Indexing: \"Erwinia_pyrifoliae_Ep1_96\"\r\n"
       ]
      },
      {
       "output_type": "stream",
       "stream": "stdout",
       "text": [
        "Indexing: \"Lactobacillus_johnsonii_DPC_6026\"\r\n"
       ]
      },
      {
       "output_type": "stream",
       "stream": "stdout",
       "text": [
        "Indexing: \"Agrobacterium_vitis_S4\"\r\n"
       ]
      },
      {
       "output_type": "stream",
       "stream": "stdout",
       "text": [
        "Indexing: \"Candidatus_Liberibacter_americanus_str_Sao_Paulo\"\r\n"
       ]
      },
      {
       "output_type": "stream",
       "stream": "stdout",
       "text": [
        "Indexing: \"Chlorobium_tepidum_TLS\"\r\n"
       ]
      },
      {
       "output_type": "stream",
       "stream": "stdout",
       "text": [
        "Indexing: \"Bacillus_amyloliquefaciens_SQR9\"\r\n"
       ]
      },
      {
       "output_type": "stream",
       "stream": "stdout",
       "text": [
        "Indexing: \"Nocardia_cyriacigeorgica_GUH-2\"\r\n"
       ]
      },
      {
       "output_type": "stream",
       "stream": "stdout",
       "text": [
        "Indexing: \"Beutenbergia_cavernae_DSM_12333\"\r\n"
       ]
      },
      {
       "output_type": "stream",
       "stream": "stdout",
       "text": [
        "Indexing: \"Ehrlichia_ruminantium_str_Welgevonden\"\r\n"
       ]
      },
      {
       "output_type": "stream",
       "stream": "stdout",
       "text": [
        "Indexing: \"Basilea_psittacipulmonis_DSM_24701\"\r\n"
       ]
      },
      {
       "output_type": "stream",
       "stream": "stdout",
       "text": [
        "Indexing: \"Methylomonas_methanica_MC09\"\r\n"
       ]
      },
      {
       "output_type": "stream",
       "stream": "stdout",
       "text": [
        "Indexing: \"Chloroherpeton_thalassium_ATCC_35110\"\r\n"
       ]
      },
      {
       "output_type": "stream",
       "stream": "stdout",
       "text": [
        "Indexing: \"Saccharopolyspora_erythraea_NRRL_2338\"\r\n"
       ]
      },
      {
       "output_type": "stream",
       "stream": "stdout",
       "text": [
        "Indexing: \"Verrucosispora_maris_AB-18-032\"\r\n"
       ]
      },
      {
       "output_type": "stream",
       "stream": "stdout",
       "text": [
        "Indexing: \"Bifidobacterium_asteroides_PRL2011\"\r\n"
       ]
      },
      {
       "output_type": "stream",
       "stream": "stdout",
       "text": [
        "Indexing: \"Thermotoga_neapolitana_DSM_4359\"\r\n"
       ]
      },
      {
       "output_type": "stream",
       "stream": "stdout",
       "text": [
        "Indexing: \"Candidatus_Blochmannia_vafer_str_BVAF\"\r\n"
       ]
      },
      {
       "output_type": "stream",
       "stream": "stdout",
       "text": [
        "Indexing: \"Corynebacterium_halotolerans_YIM_70093_DSM_44683\"\r\n"
       ]
      },
      {
       "output_type": "stream",
       "stream": "stdout",
       "text": [
        "Indexing: \"Streptococcus_equi_subsp_zooepidemicus\"\r\n"
       ]
      },
      {
       "output_type": "stream",
       "stream": "stdout",
       "text": [
        "Indexing: \"Yersinia_enterocolitica_subsp_palearctica_105_5R_r\"\r\n"
       ]
      },
      {
       "output_type": "stream",
       "stream": "stdout",
       "text": [
        "Indexing: \"Wolbachia_endosymbiont_wPip_Mol_of_Culex_molestus\"\r\n"
       ]
      },
      {
       "output_type": "stream",
       "stream": "stdout",
       "text": [
        "Indexing: \"Rothia_mucilaginosa_DY-18\"\r\n"
       ]
      },
      {
       "output_type": "stream",
       "stream": "stdout",
       "text": [
        "Indexing: \"Morganella_morganii_subsp_morganii_KT\"\r\n"
       ]
      },
      {
       "output_type": "stream",
       "stream": "stdout",
       "text": [
        "Indexing: \"Borrelia_parkeri_HR1\"\r\n",
        "Indexing: \"Paenibacillus_larvae_subsp_larvae_DSM_25430\"\r\n"
       ]
      },
      {
       "output_type": "stream",
       "stream": "stdout",
       "text": [
        "Indexing: \"Brucella_ceti_TE28753-12\"\r\n"
       ]
      },
      {
       "output_type": "stream",
       "stream": "stdout",
       "text": [
        "Indexing: \"Rhodobacter_sphaeroides_2_4_1\"\r\n"
       ]
      },
      {
       "output_type": "stream",
       "stream": "stdout",
       "text": [
        "Indexing: \"Nonlabens_dokdonensis_DSW-6\"\r\n"
       ]
      },
      {
       "output_type": "stream",
       "stream": "stdout",
       "text": [
        "Indexing: \"Methylobacterium_extorquens_AM1\"\r\n"
       ]
      },
      {
       "output_type": "stream",
       "stream": "stdout",
       "text": [
        "Indexing: \"Propionibacterium_acnes_6609\"\r\n"
       ]
      },
      {
       "output_type": "stream",
       "stream": "stdout",
       "text": [
        "Indexing: \"Hippea_maritima_DSM_10411\"\r\n"
       ]
      },
      {
       "output_type": "stream",
       "stream": "stdout",
       "text": [
        "Indexing: \"Anaerolinea_thermophila_UNI-1\"\r\n"
       ]
      },
      {
       "output_type": "stream",
       "stream": "stdout",
       "text": [
        "Indexing: \"Achromobacter_xylosoxidans_A8\"\r\n"
       ]
      },
      {
       "output_type": "stream",
       "stream": "stdout",
       "text": [
        "Indexing: \"Octadecabacter_arcticus_238\"\r\n"
       ]
      },
      {
       "output_type": "stream",
       "stream": "stdout",
       "text": [
        "Indexing: \"Acaryochloris_marina_MBIC11017\"\r\n"
       ]
      },
      {
       "output_type": "stream",
       "stream": "stdout",
       "text": [
        "Indexing: \"Streptococcus_pseudopneumoniae_IS7493\"\r\n"
       ]
      },
      {
       "output_type": "stream",
       "stream": "stdout",
       "text": [
        "Indexing: \"Alicycliphilus_denitrificans_BC\"\r\n"
       ]
      },
      {
       "output_type": "stream",
       "stream": "stdout",
       "text": [
        "Indexing: \"Mesorhizobium_australicum_WSM2073\"\r\n"
       ]
      },
      {
       "output_type": "stream",
       "stream": "stdout",
       "text": [
        "Indexing: \"Trichodesmium_erythraeum_IMS101\"\r\n"
       ]
      },
      {
       "output_type": "stream",
       "stream": "stdout",
       "text": [
        "Indexing: \"Adlercreutzia_equolifaciens_DSM_19450\"\r\n"
       ]
      },
      {
       "output_type": "stream",
       "stream": "stdout",
       "text": [
        "Indexing: \"Candidatus_Tremblaya_princeps_PCVAL\"\r\n"
       ]
      },
      {
       "output_type": "stream",
       "stream": "stdout",
       "text": [
        "Indexing: \"Thermotoga_petrophila_RKU-1\"\r\n"
       ]
      },
      {
       "output_type": "stream",
       "stream": "stdout",
       "text": [
        "Indexing: \"Spirochaeta_africana_DSM_8902\"\r\n"
       ]
      },
      {
       "output_type": "stream",
       "stream": "stdout",
       "text": [
        "Indexing: \"Acholeplasma_laidlawii_PG-8A\"\r\n"
       ]
      },
      {
       "output_type": "stream",
       "stream": "stdout",
       "text": [
        "Indexing: \"Mycoplasma_haemocanis_str_Illinois\"\r\n"
       ]
      },
      {
       "output_type": "stream",
       "stream": "stdout",
       "text": [
        "Indexing: \"Bacillus_megaterium_NBRC_15308_ATCC_14581\"\r\n"
       ]
      },
      {
       "output_type": "stream",
       "stream": "stdout",
       "text": [
        "Indexing: \"Burkholderia_cenocepacia_HI2424\"\r\n"
       ]
      },
      {
       "output_type": "stream",
       "stream": "stdout",
       "text": [
        "Indexing: \"Francisella_philomiragia_subsp_philomiragia_ATCC_25015\"\r\n"
       ]
      },
      {
       "output_type": "stream",
       "stream": "stdout",
       "text": [
        "Indexing: \"Treponema_azotonutricium_ZAS-9\"\r\n"
       ]
      },
      {
       "output_type": "stream",
       "stream": "stdout",
       "text": [
        "Indexing: \"Corynebacterium_doosanense_CAU_212_DSM_45436\"\r\n"
       ]
      },
      {
       "output_type": "stream",
       "stream": "stdout",
       "text": [
        "Indexing: \"Exiguobacterium_sibiricum_255-15\"\r\n"
       ]
      },
      {
       "output_type": "stream",
       "stream": "stdout",
       "text": [
        "Indexing: \"Chromobacterium_violaceum_ATCC_12472\"\r\n"
       ]
      },
      {
       "output_type": "stream",
       "stream": "stdout",
       "text": [
        "Indexing: \"Nostoc_punctiforme_PCC_73102\"\r\n"
       ]
      },
      {
       "output_type": "stream",
       "stream": "stdout",
       "text": [
        "Indexing: \"Octadecabacter_antarcticus_307\"\r\n"
       ]
      },
      {
       "output_type": "stream",
       "stream": "stdout",
       "text": [
        "Indexing: \"Candidatus_Symbiobacter_mobilis_CR\"\r\n"
       ]
      },
      {
       "output_type": "stream",
       "stream": "stdout",
       "text": [
        "Indexing: \"Kytococcus_sedentarius_DSM_20547\"\r\n"
       ]
      },
      {
       "output_type": "stream",
       "stream": "stdout",
       "text": [
        "Indexing: \"Castellaniella_defragrans_65Phen\"\r\n"
       ]
      },
      {
       "output_type": "stream",
       "stream": "stdout",
       "text": [
        "Indexing: \"Syntrophothermus_lipocalidus_DSM_12680\"\r\n"
       ]
      },
      {
       "output_type": "stream",
       "stream": "stdout",
       "text": [
        "Indexing: \"Caldicellulosiruptor_hydrothermalis_108\"\r\n"
       ]
      },
      {
       "output_type": "stream",
       "stream": "stdout",
       "text": [
        "Indexing: \"Prevotella_sp_oral_taxon_299_str_F0039\"\r\n"
       ]
      },
      {
       "output_type": "stream",
       "stream": "stdout",
       "text": [
        "Indexing: \"Yersinia_pseudotuberculosis_YPIII\"\r\n"
       ]
      },
      {
       "output_type": "stream",
       "stream": "stdout",
       "text": [
        "Indexing: \"Leptospira_biflexa_serovar_Patoc_strain_Patoc_1_Paris\"\r\n"
       ]
      },
      {
       "output_type": "stream",
       "stream": "stdout",
       "text": [
        "Indexing: \"Rickettsia_felis_URRWXCal2\"\r\n"
       ]
      },
      {
       "output_type": "stream",
       "stream": "stdout",
       "text": [
        "Indexing: \"Burkholderia_ambifaria_AMMD\"\r\n"
       ]
      },
      {
       "output_type": "stream",
       "stream": "stdout",
       "text": [
        "Indexing: \"Hyphomicrobium_denitrificans_1NES1\"\r\n"
       ]
      },
      {
       "output_type": "stream",
       "stream": "stdout",
       "text": [
        "Indexing: \"Parachlamydia_acanthamoebae_UV-7\"\r\n"
       ]
      },
      {
       "output_type": "stream",
       "stream": "stdout",
       "text": [
        "Indexing: \"Blattabacterium_sp_Panesthia_angustipennis_spadica_str_BPAA\"\r\n"
       ]
      },
      {
       "output_type": "stream",
       "stream": "stdout",
       "text": [
        "Indexing: \"Lachnoclostridium_phytofermentans_ISDg\"\r\n"
       ]
      },
      {
       "output_type": "stream",
       "stream": "stdout",
       "text": [
        "Indexing: \"Acidithiobacillus_ferrooxidans_ATCC_53993\"\r\n",
        "Indexing: \"Shewanella_amazonensis_SB2B\"\r\n"
       ]
      },
      {
       "output_type": "stream",
       "stream": "stdout",
       "text": [
        "Indexing: \"Staphylococcus_lugdunensis_N920143\"\r\n"
       ]
      },
      {
       "output_type": "stream",
       "stream": "stdout",
       "text": [
        "Indexing: \"Meiothermus_silvanus_DSM_9946\"\r\n"
       ]
      },
      {
       "output_type": "stream",
       "stream": "stdout",
       "text": [
        "Indexing: \"Bartonella_henselae_str_Houston-1\"\r\n"
       ]
      },
      {
       "output_type": "stream",
       "stream": "stdout",
       "text": [
        "Indexing: \"Azotobacter_chroococcum_NCIMB_8003\"\r\n"
       ]
      },
      {
       "output_type": "stream",
       "stream": "stdout",
       "text": [
        "Indexing: \"Burkholderia_thailandensis_2002721723\"\r\n"
       ]
      },
      {
       "output_type": "stream",
       "stream": "stdout",
       "text": [
        "Indexing: \"Desulfurobacterium_thermolithotrophum_DSM_11699\"\r\n"
       ]
      },
      {
       "output_type": "stream",
       "stream": "stdout",
       "text": [
        "Indexing: \"Ochrobactrum_anthropi_ATCC_49188\"\r\n"
       ]
      },
      {
       "output_type": "stream",
       "stream": "stdout",
       "text": [
        "Indexing: \"Burkholderia_cepacia_GG4\"\r\n"
       ]
      },
      {
       "output_type": "stream",
       "stream": "stdout",
       "text": [
        "Indexing: \"Bacillus_methanolicus_MGA3\"\r\n"
       ]
      },
      {
       "output_type": "stream",
       "stream": "stdout",
       "text": [
        "Indexing: \"Erysipelothrix_rhusiopathiae_SY1027\"\r\n"
       ]
      },
      {
       "output_type": "stream",
       "stream": "stdout",
       "text": [
        "Indexing: \"Leadbetterella_byssophila_DSM_17132\"\r\n"
       ]
      },
      {
       "output_type": "stream",
       "stream": "stdout",
       "text": [
        "Indexing: \"Thioalkalivibrio_sulfidiphilus_HL-EbGr7\"\r\n"
       ]
      },
      {
       "output_type": "stream",
       "stream": "stdout",
       "text": [
        "Indexing: \"Burkholderia_xenovorans_LB400\"\r\n"
       ]
      },
      {
       "output_type": "stream",
       "stream": "stdout",
       "text": [
        "Indexing: \"Brucella_melitensis_ATCC_23457\"\r\n"
       ]
      },
      {
       "output_type": "stream",
       "stream": "stdout",
       "text": [
        "Indexing: \"Corynebacterium_urealyticum_DSM_7109\"\r\n"
       ]
      },
      {
       "output_type": "stream",
       "stream": "stdout",
       "text": [
        "Indexing: \"Borrelia_duttonii_Ly\"\r\n"
       ]
      },
      {
       "output_type": "stream",
       "stream": "stdout",
       "text": [
        "Indexing: \"Novosphingobium_pentaromativorans_US6-1\"\r\n"
       ]
      },
      {
       "output_type": "stream",
       "stream": "stdout",
       "text": [
        "Indexing: \"Candidatus_Midichloria_mitochondrii_IricVA\"\r\n"
       ]
      },
      {
       "output_type": "stream",
       "stream": "stdout",
       "text": [
        "Indexing: \"Pedobacter_heparinus_DSM_2366\"\r\n"
       ]
      },
      {
       "output_type": "stream",
       "stream": "stdout",
       "text": [
        "Indexing: \"Lactococcus_lactis_subsp_cremoris_UC509_9\"\r\n"
       ]
      },
      {
       "output_type": "stream",
       "stream": "stdout",
       "text": [
        "Indexing: \"Wolbachia_endosymbiont_of_Drosophila_simulans_wHa\"\r\n"
       ]
      },
      {
       "output_type": "stream",
       "stream": "stdout",
       "text": [
        "Indexing: \"Shewanella_denitrificans_OS217\"\r\n"
       ]
      },
      {
       "output_type": "stream",
       "stream": "stdout",
       "text": [
        "Indexing: \"Shigella_flexneri_Shi06HN006\"\r\n"
       ]
      },
      {
       "output_type": "stream",
       "stream": "stdout",
       "text": [
        "Indexing: \"Thermosipho_africanus_TCF52B\"\r\n"
       ]
      },
      {
       "output_type": "stream",
       "stream": "stdout",
       "text": [
        "Indexing: \"Pseudomonas_entomophila_L48\"\r\n"
       ]
      },
      {
       "output_type": "stream",
       "stream": "stdout",
       "text": [
        "Indexing: \"Pirellula_staleyi_DSM_6068\"\r\n"
       ]
      },
      {
       "output_type": "stream",
       "stream": "stdout",
       "text": [
        "Indexing: \"Agrobacterium_fabrum_str_C58\"\r\n"
       ]
      },
      {
       "output_type": "stream",
       "stream": "stdout",
       "text": [
        "Indexing: \"Corynebacterium_marinum_DSM_44953\"\r\n"
       ]
      },
      {
       "output_type": "stream",
       "stream": "stdout",
       "text": [
        "Indexing: \"Azospirillum_lipoferum_4B\"\r\n"
       ]
      },
      {
       "output_type": "stream",
       "stream": "stdout",
       "text": [
        "Indexing: \"Dickeya_zeae_EC1\"\r\n"
       ]
      },
      {
       "output_type": "stream",
       "stream": "stdout",
       "text": [
        "Indexing: \"Spirochaeta_thermophila_DSM_6578\"\r\n"
       ]
      },
      {
       "output_type": "stream",
       "stream": "stdout",
       "text": [
        "Indexing: \"Xylella_fastidiosa_subsp_fastidiosa_GB514\"\r\n"
       ]
      },
      {
       "output_type": "stream",
       "stream": "stdout",
       "text": [
        "Indexing: \"Rickettsia_africae_ESF-5\"\r\n"
       ]
      },
      {
       "output_type": "stream",
       "stream": "stdout",
       "text": [
        "Indexing: \"Mycobacterium_liflandii_128FXT\"\r\n"
       ]
      },
      {
       "output_type": "stream",
       "stream": "stdout",
       "text": [
        "Indexing: \"Sulfuritalea_hydrogenivorans_sk43H\"\r\n"
       ]
      },
      {
       "output_type": "stream",
       "stream": "stdout",
       "text": [
        "Indexing: \"Candidatus_Kinetoplastibacterium_crithidii_ex_Angomonas_deanei_ATCC_30255\"\r\n"
       ]
      },
      {
       "output_type": "stream",
       "stream": "stdout",
       "text": [
        "Indexing: \"Elizabethkingia_anophelis_NUHP1\"\r\n"
       ]
      },
      {
       "output_type": "stream",
       "stream": "stdout",
       "text": [
        "Indexing: \"Microbacterium_testaceum_StLB037\"\r\n"
       ]
      },
      {
       "output_type": "stream",
       "stream": "stdout",
       "text": [
        "Indexing: \"Thermotoga_naphthophila_RKU-10\"\r\n"
       ]
      },
      {
       "output_type": "stream",
       "stream": "stdout",
       "text": [
        "Indexing: \"Brucella_ovis_ATCC_25840\"\r\n"
       ]
      },
      {
       "output_type": "stream",
       "stream": "stdout",
       "text": [
        "Indexing: \"Kosakonia_sacchari_SP1\"\r\n"
       ]
      },
      {
       "output_type": "stream",
       "stream": "stdout",
       "text": [
        "Indexing: \"Terriglobus_roseus_DSM_18391\"\r\n"
       ]
      },
      {
       "output_type": "stream",
       "stream": "stdout",
       "text": [
        "Indexing: \"Methylobacterium_oryzae_CBMB20\"\r\n"
       ]
      },
      {
       "output_type": "stream",
       "stream": "stdout",
       "text": [
        "Indexing: \"Streptococcus_dysgalactiae_subsp_equisimilis_167\"\r\n"
       ]
      },
      {
       "output_type": "stream",
       "stream": "stdout",
       "text": [
        "Indexing: \"Mycobacterium_marinum_M\"\r\n"
       ]
      },
      {
       "output_type": "stream",
       "stream": "stdout",
       "text": [
        "Indexing: \"Segniliparus_rotundus_DSM_44985\"\r\n"
       ]
      },
      {
       "output_type": "stream",
       "stream": "stdout",
       "text": [
        "Indexing: \"Lactobacillus_fermentum_F-6\"\r\n",
        "Indexing: \"Nostoc_azollae_0708\"\r\n"
       ]
      },
      {
       "output_type": "stream",
       "stream": "stdout",
       "text": [
        "Indexing: \"Gloeobacter_kilaueensis_JS1\"\r\n"
       ]
      },
      {
       "output_type": "stream",
       "stream": "stdout",
       "text": [
        "Indexing: \"Campylobacter_peloridis_LMG_23910\"\r\n"
       ]
      },
      {
       "output_type": "stream",
       "stream": "stdout",
       "text": [
        "Indexing: \"Thermotoga_elfii_NBRC_107921\"\r\n"
       ]
      },
      {
       "output_type": "stream",
       "stream": "stdout",
       "text": [
        "Indexing: \"Methylacidiphilum_infernorum_V4\"\r\n"
       ]
      },
      {
       "output_type": "stream",
       "stream": "stdout",
       "text": [
        "Indexing: \"Bacillus_clausii_KSM-K16\"\r\n"
       ]
      },
      {
       "output_type": "stream",
       "stream": "stdout",
       "text": [
        "Indexing: \"Desulfosporosinus_meridiei_DSM_13257\"\r\n"
       ]
      },
      {
       "output_type": "stream",
       "stream": "stdout",
       "text": [
        "Indexing: \"Mycoplasma_fermentans_JER\"\r\n"
       ]
      },
      {
       "output_type": "stream",
       "stream": "stdout",
       "text": [
        "Indexing: \"Enterobacter_lignolyticus_SCF1\"\r\n"
       ]
      },
      {
       "output_type": "stream",
       "stream": "stdout",
       "text": [
        "Indexing: \"Candidatus_Amoebophilus_asiaticus_5a2\"\r\n"
       ]
      },
      {
       "output_type": "stream",
       "stream": "stdout",
       "text": [
        "Indexing: \"Kitasatospora_setae_KM-6054\"\r\n"
       ]
      },
      {
       "output_type": "stream",
       "stream": "stdout",
       "text": [
        "Indexing: \"Variovorax_paradoxus_EPS\"\r\n"
       ]
      },
      {
       "output_type": "stream",
       "stream": "stdout",
       "text": [
        "Indexing: \"Hyphomonas_neptunium_ATCC_15444\"\r\n"
       ]
      },
      {
       "output_type": "stream",
       "stream": "stdout",
       "text": [
        "Indexing: \"Geobacter_uraniireducens_Rf4\"\r\n"
       ]
      },
      {
       "output_type": "stream",
       "stream": "stdout",
       "text": [
        "Indexing: \"Nitrosococcus_halophilus_Nc_4\"\r\n"
       ]
      },
      {
       "output_type": "stream",
       "stream": "stdout",
       "text": [
        "Indexing: \"Desulfohalobium_retbaense_DSM_5692\"\r\n"
       ]
      },
      {
       "output_type": "stream",
       "stream": "stdout",
       "text": [
        "Indexing: \"Snodgrassella_alvi_wkB2\"\r\n"
       ]
      },
      {
       "output_type": "stream",
       "stream": "stdout",
       "text": [
        "Indexing: \"Akkermansia_muciniphila_ATCC_BAA-835\"\r\n"
       ]
      },
      {
       "output_type": "stream",
       "stream": "stdout",
       "text": [
        "Indexing: \"Clostridium_autoethanogenum_DSM_10061\"\r\n"
       ]
      },
      {
       "output_type": "stream",
       "stream": "stdout",
       "text": [
        "Indexing: \"Enterobacter_aerogenes_KCTC_2190\"\r\n"
       ]
      },
      {
       "output_type": "stream",
       "stream": "stdout",
       "text": [
        "Indexing: \"Mycobacterium_vanbaalenii_PYR-1\"\r\n"
       ]
      },
      {
       "output_type": "stream",
       "stream": "stdout",
       "text": [
        "Indexing: \"Deinococcus_radiodurans_R1\"\r\n"
       ]
      },
      {
       "output_type": "stream",
       "stream": "stdout",
       "text": [
        "Indexing: \"Mycobacterium_yongonense_05-1390\"\r\n"
       ]
      },
      {
       "output_type": "stream",
       "stream": "stdout",
       "text": [
        "Indexing: \"Treponema_paraluiscuniculi_Cuniculi_A\"\r\n"
       ]
      },
      {
       "output_type": "stream",
       "stream": "stdout",
       "text": [
        "Indexing: \"Brevundimonas_subvibrioides_ATCC_15264\"\r\n"
       ]
      },
      {
       "output_type": "stream",
       "stream": "stdout",
       "text": [
        "Indexing: \"Chroococcidiopsis_thermalis_PCC_7203\"\r\n"
       ]
      },
      {
       "output_type": "stream",
       "stream": "stdout",
       "text": [
        "Indexing: \"Butyrivibrio_proteoclasticus_B316\"\r\n"
       ]
      },
      {
       "output_type": "stream",
       "stream": "stdout",
       "text": [
        "Indexing: \"Rickettsia_rhipicephali_str_3-7-female6-CWPP\"\r\n"
       ]
      },
      {
       "output_type": "stream",
       "stream": "stdout",
       "text": [
        "Indexing: \"Pseudomonas_chlororaphis_subsp_aurantiaca\"\r\n"
       ]
      },
      {
       "output_type": "stream",
       "stream": "stdout",
       "text": [
        "Indexing: \"Serratia_fonticola_RB-25\"\r\n"
       ]
      },
      {
       "output_type": "stream",
       "stream": "stdout",
       "text": [
        "Indexing: \"Acidovorax_avenae_subsp_avenae_ATCC_19860\"\r\n"
       ]
      },
      {
       "output_type": "stream",
       "stream": "stdout",
       "text": [
        "Indexing: \"Anaerobaculum_mobile_DSM_13181\"\r\n"
       ]
      },
      {
       "output_type": "stream",
       "stream": "stdout",
       "text": [
        "Indexing: \"Cellulophaga_baltica_NN016038\"\r\n"
       ]
      },
      {
       "output_type": "stream",
       "stream": "stdout",
       "text": [
        "Indexing: \"Dichelobacter_nodosus_VCS1703A\"\r\n"
       ]
      },
      {
       "output_type": "stream",
       "stream": "stdout",
       "text": [
        "Indexing: \"Bradyrhizobium_japonicum_USDA_6\"\r\n"
       ]
      },
      {
       "output_type": "stream",
       "stream": "stdout",
       "text": [
        "Indexing: \"Bifidobacterium_indicum_LMG_11587_DSM_20214\"\r\n"
       ]
      },
      {
       "output_type": "stream",
       "stream": "stdout",
       "text": [
        "Indexing: \"Magnetococcus_marinus_MC-1\"\r\n"
       ]
      },
      {
       "output_type": "stream",
       "stream": "stdout",
       "text": [
        "Indexing: \"Deinococcus_geothermalis_DSM_11300\"\r\n"
       ]
      },
      {
       "output_type": "stream",
       "stream": "stdout",
       "text": [
        "Indexing: \"Flexistipes_sinusarabici_DSM_4947\"\r\n"
       ]
      },
      {
       "output_type": "stream",
       "stream": "stdout",
       "text": [
        "Indexing: \"Lactobacillus_delbrueckii_subsp_bulgaricus_2038\"\r\n"
       ]
      },
      {
       "output_type": "stream",
       "stream": "stdout",
       "text": [
        "Indexing: \"Corynebacterium_vitaeruminis_DSM_20294\"\r\n"
       ]
      },
      {
       "output_type": "stream",
       "stream": "stdout",
       "text": [
        "Indexing: \"Candidatus_Puniceispirillum_marinum_IMCC1322\"\r\n"
       ]
      },
      {
       "output_type": "stream",
       "stream": "stdout",
       "text": [
        "Indexing: \"Delftia_acidovorans_SPH-1\"\r\n"
       ]
      },
      {
       "output_type": "stream",
       "stream": "stdout",
       "text": [
        "Indexing: \"Lactobacillus_paracasei_subsp_paracasei_JCM_8130\"\r\n"
       ]
      },
      {
       "output_type": "stream",
       "stream": "stdout",
       "text": [
        "Indexing: \"Olsenella_uli_DSM_7084\"\r\n"
       ]
      },
      {
       "output_type": "stream",
       "stream": "stdout",
       "text": [
        "Indexing: \"Mycobacterium_bovis_BCG_str_Pasteur_1173P2\"\r\n"
       ]
      },
      {
       "output_type": "stream",
       "stream": "stdout",
       "text": [
        "Indexing: \"Amphibacillus_xylanus_NBRC_15112\"\r\n"
       ]
      },
      {
       "output_type": "stream",
       "stream": "stdout",
       "text": [
        "Indexing: \"Desulfotomaculum_kuznetsovii_DSM_6115\"\r\n"
       ]
      },
      {
       "output_type": "stream",
       "stream": "stdout",
       "text": [
        "Indexing: \"Corynebacterium_efficiens_YS-314\"\r\n"
       ]
      },
      {
       "output_type": "stream",
       "stream": "stdout",
       "text": [
        "Indexing: \"Magnetospirillum_gryphiswaldense_MSR-1_v2\"\r\n"
       ]
      },
      {
       "output_type": "stream",
       "stream": "stdout",
       "text": [
        "Indexing: \"Corynebacterium_humireducens_NBRC_106098_DSM_45392\"\r\n"
       ]
      },
      {
       "output_type": "stream",
       "stream": "stdout",
       "text": [
        "Indexing: \"Helicobacter_acinonychis_str_Sheeba\"\r\n"
       ]
      },
      {
       "output_type": "stream",
       "stream": "stdout",
       "text": [
        "Indexing: \"Brucella_microti_CCM_4915\"\r\n"
       ]
      },
      {
       "output_type": "stream",
       "stream": "stdout",
       "text": [
        "Indexing: \"Deinococcus_maricopensis_DSM_21211\"\r\n"
       ]
      },
      {
       "output_type": "stream",
       "stream": "stdout",
       "text": [
        "Indexing: \"Candidatus_Hepatoplasma_crinochetorum_Av\"\r\n"
       ]
      },
      {
       "output_type": "stream",
       "stream": "stdout",
       "text": [
        "Indexing: \"Thalassolituus_oleivorans_MIL-1\"\r\n"
       ]
      },
      {
       "output_type": "stream",
       "stream": "stdout",
       "text": [
        "Indexing: \"Rothia_dentocariosa_ATCC_17931\"\r\n"
       ]
      },
      {
       "output_type": "stream",
       "stream": "stdout",
       "text": [
        "Indexing: \"Lactobacillus_helveticus_H10\"\r\n"
       ]
      },
      {
       "output_type": "stream",
       "stream": "stdout",
       "text": [
        "Indexing: \"Spiroplasma_mirum_ATCC_29335\"\r\n"
       ]
      },
      {
       "output_type": "stream",
       "stream": "stdout",
       "text": [
        "Indexing: \"Blastococcus_saxobsidens_DD2\"\r\n"
       ]
      },
      {
       "output_type": "stream",
       "stream": "stdout",
       "text": [
        "Indexing: \"Alcanivorax_pacificus_W11-5\"\r\n"
       ]
      },
      {
       "output_type": "stream",
       "stream": "stdout",
       "text": [
        "Indexing: \"Flavobacterium_indicum_GPTSA100-9_DSM_17447\"\r\n"
       ]
      },
      {
       "output_type": "stream",
       "stream": "stdout",
       "text": [
        "Indexing: \"Clostridium_saccharobutylicum_DSM_13864\"\r\n"
       ]
      },
      {
       "output_type": "stream",
       "stream": "stdout",
       "text": [
        "Indexing: \"Taylorella_asinigenitalis_MCE3\"\r\n"
       ]
      },
      {
       "output_type": "stream",
       "stream": "stdout",
       "text": [
        "Indexing: \"Corynebacterium_callunae_DSM_20147\"\r\n"
       ]
      },
      {
       "output_type": "stream",
       "stream": "stdout",
       "text": [
        "Indexing: \"Deinococcus_peraridilitoris_DSM_19664\"\r\n"
       ]
      },
      {
       "output_type": "stream",
       "stream": "stdout",
       "text": [
        "Indexing: \"Neisseria_lactamica_020-06\"\r\n"
       ]
      },
      {
       "output_type": "stream",
       "stream": "stdout",
       "text": [
        "Indexing: \"Rickettsia_conorii_str_Malish_7\"\r\n"
       ]
      },
      {
       "output_type": "stream",
       "stream": "stdout",
       "text": [
        "Indexing: \"Borrelia_afzelii_Tom3107\"\r\n"
       ]
      },
      {
       "output_type": "stream",
       "stream": "stdout",
       "text": [
        "Indexing: \"Borrelia_miyamotoi_LB-2001\"\r\n"
       ]
      },
      {
       "output_type": "stream",
       "stream": "stdout",
       "text": [
        "Indexing: \"Lactobacillus_buchneri_NRRL_B-30929\"\r\n"
       ]
      },
      {
       "output_type": "stream",
       "stream": "stdout",
       "text": [
        "Indexing: \"Tannerella_forsythia_ATCC_43037\"\r\n"
       ]
      },
      {
       "output_type": "stream",
       "stream": "stdout",
       "text": [
        "Indexing: \"Flavobacterium_branchiophilum_FL-15\"\r\n"
       ]
      },
      {
       "output_type": "stream",
       "stream": "stdout",
       "text": [
        "Indexing: \"Bifidobacterium_breve_689b\"\r\n"
       ]
      },
      {
       "output_type": "stream",
       "stream": "stdout",
       "text": [
        "Indexing: \"Anoxybacillus_flavithermus_WK1\"\r\n"
       ]
      },
      {
       "output_type": "stream",
       "stream": "stdout",
       "text": [
        "Indexing: \"Prochlorococcus_marinus_str_MIT_9313\"\r\n"
       ]
      },
      {
       "output_type": "stream",
       "stream": "stdout",
       "text": [
        "Indexing: \"Rubrivivax_gelatinosus_IL144\"\r\n"
       ]
      },
      {
       "output_type": "stream",
       "stream": "stdout",
       "text": [
        "Indexing: \"Strawberry_lethal_yellows_phytoplasma_CPA_str_NZSb11\"\r\n"
       ]
      },
      {
       "output_type": "stream",
       "stream": "stdout",
       "text": [
        "Indexing: \"Neisseria_meningitidis_LNP21362\"\r\n"
       ]
      },
      {
       "output_type": "stream",
       "stream": "stdout",
       "text": [
        "Indexing: \"Aerococcus_urinae_ACS-120-V-Col10a\"\r\n"
       ]
      },
      {
       "output_type": "stream",
       "stream": "stdout",
       "text": [
        "Indexing: \"Janthinobacterium_agaricidamnosum_NBRC_102515_DSM_9628\"\r\n"
       ]
      },
      {
       "output_type": "stream",
       "stream": "stdout",
       "text": [
        "Indexing: \"Burkholderia_mallei_ATCC_23344\"\r\n"
       ]
      },
      {
       "output_type": "stream",
       "stream": "stdout",
       "text": [
        "Indexing: \"Sideroxydans_lithotrophicus_ES-1\"\r\n"
       ]
      },
      {
       "output_type": "stream",
       "stream": "stdout",
       "text": [
        "Indexing: \"Pseudomonas_protegens_Pf-5\"\r\n"
       ]
      },
      {
       "output_type": "stream",
       "stream": "stdout",
       "text": [
        "Indexing: \"Thermanaerovibrio_acidaminovorans_DSM_6589\"\r\n"
       ]
      },
      {
       "output_type": "stream",
       "stream": "stdout",
       "text": [
        "Indexing: \"Dehalococcoides_mccartyi_CG5\"\r\n"
       ]
      },
      {
       "output_type": "stream",
       "stream": "stdout",
       "text": [
        "Indexing: \"Pseudoalteromonas_haloplanktis_TAC125\"\r\n"
       ]
      },
      {
       "output_type": "stream",
       "stream": "stdout",
       "text": [
        "Indexing: \"Treponema_caldaria_DSM_7334\"\r\n"
       ]
      },
      {
       "output_type": "stream",
       "stream": "stdout",
       "text": [
        "Indexing: \"Leptotrichia_buccalis_C-1013-b\"\r\n"
       ]
      },
      {
       "output_type": "stream",
       "stream": "stdout",
       "text": [
        "Indexing: \"Acinetobacter_oleivorans_DR1\"\r\n"
       ]
      },
      {
       "output_type": "stream",
       "stream": "stdout",
       "text": [
        "Indexing: \"Candidatus_Kinetoplastibacterium_galatii_TCC219\"\r\n"
       ]
      },
      {
       "output_type": "stream",
       "stream": "stdout",
       "text": [
        "Indexing: \"Sebaldella_termitidis_ATCC_33386\"\r\n"
       ]
      },
      {
       "output_type": "stream",
       "stream": "stdout",
       "text": [
        "Indexing: \"Mannheimia_succiniciproducens_MBEL55E\"\r\n"
       ]
      },
      {
       "output_type": "stream",
       "stream": "stdout",
       "text": [
        "Indexing: \"Riemerella_anatipestifer_RA-GD\"\r\n"
       ]
      },
      {
       "output_type": "stream",
       "stream": "stdout",
       "text": [
        "Indexing: \"Nitratifractor_salsuginis_DSM_16511\"\r\n"
       ]
      },
      {
       "output_type": "stream",
       "stream": "stdout",
       "text": [
        "Indexing: \"Melioribacter_roseus_P3M-2\"\r\n"
       ]
      },
      {
       "output_type": "stream",
       "stream": "stdout",
       "text": [
        "Indexing: \"Burkholderia_phymatum_STM815\"\r\n"
       ]
      },
      {
       "output_type": "stream",
       "stream": "stdout",
       "text": [
        "Indexing: \"Ferrimonas_balearica_DSM_9799\"\r\n"
       ]
      },
      {
       "output_type": "stream",
       "stream": "stdout",
       "text": [
        "Indexing: \"Yersinia_pestis_biovar_Microtus_str_91001\"\r\n"
       ]
      },
      {
       "output_type": "stream",
       "stream": "stdout",
       "text": [
        "Indexing: \"Mannheimia_varigena_USDA-ARS-USMARC-1388\"\r\n"
       ]
      },
      {
       "output_type": "stream",
       "stream": "stdout",
       "text": [
        "Indexing: \"Bacteroides_helcogenes_P_36-108\"\r\n"
       ]
      },
      {
       "output_type": "stream",
       "stream": "stdout",
       "text": [
        "Indexing: \"Nitrobacter_winogradskyi_Nb-255\"\r\n"
       ]
      },
      {
       "output_type": "stream",
       "stream": "stdout",
       "text": [
        "Indexing: \"Mycoplasma_agalactiae_PG2\"\r\n"
       ]
      },
      {
       "output_type": "stream",
       "stream": "stdout",
       "text": [
        "Indexing: \"Methylobacterium_radiotolerans_JCM_2831\"\r\n",
        "Indexing: \"Pelodictyon_phaeoclathratiforme_BU-1\"\r\n"
       ]
      },
      {
       "output_type": "stream",
       "stream": "stdout",
       "text": [
        "Indexing: \"Thiomonas_intermedia_K12\"\r\n"
       ]
      },
      {
       "output_type": "stream",
       "stream": "stdout",
       "text": [
        "Indexing: \"Lactobacillus_reuteri_SD2112\"\r\n"
       ]
      },
      {
       "output_type": "stream",
       "stream": "stdout",
       "text": [
        "Indexing: \"Sinorhizobium_fredii_NGR234\"\r\n"
       ]
      },
      {
       "output_type": "stream",
       "stream": "stdout",
       "text": [
        "Indexing: \"Aeromonas_hydrophila_AL09-71\"\r\n"
       ]
      },
      {
       "output_type": "stream",
       "stream": "stdout",
       "text": [
        "Indexing: \"Coriobacterium_glomerans_PW2\"\r\n"
       ]
      },
      {
       "output_type": "stream",
       "stream": "stdout",
       "text": [
        "Indexing: \"Gluconobacter_oxydans_DSM_3504\"\r\n"
       ]
      },
      {
       "output_type": "stream",
       "stream": "stdout",
       "text": [
        "Indexing: \"Yersinia_frederiksenii_Y225\"\r\n"
       ]
      },
      {
       "output_type": "stream",
       "stream": "stdout",
       "text": [
        "Indexing: \"Burkholderia_rhizoxinica_HKI_454\"\r\n"
       ]
      },
      {
       "output_type": "stream",
       "stream": "stdout",
       "text": [
        "Indexing: \"Acidithiobacillus_caldus_ATCC_51756\"\r\n"
       ]
      },
      {
       "output_type": "stream",
       "stream": "stdout",
       "text": [
        "Indexing: \"Neorhizobium_galegae_bv_officinalis_bv_officinalis_str_HAMBI_1141\"\r\n"
       ]
      },
      {
       "output_type": "stream",
       "stream": "stdout",
       "text": [
        "Indexing: \"Conexibacter_woesei_DSM_14684\"\r\n"
       ]
      },
      {
       "output_type": "stream",
       "stream": "stdout",
       "text": [
        "Indexing: \"Streptomyces_fulvissimus_DSM_40593\"\r\n"
       ]
      },
      {
       "output_type": "stream",
       "stream": "stdout",
       "text": [
        "Indexing: \"Thioflavicoccus_mobilis_8321\"\r\n"
       ]
      },
      {
       "output_type": "stream",
       "stream": "stdout",
       "text": [
        "Indexing: \"Coxiella_burnetii_Dugway_5J108-111\"\r\n"
       ]
      },
      {
       "output_type": "stream",
       "stream": "stdout",
       "text": [
        "Indexing: \"Leptospirillum_ferriphilum_YSK\"\r\n"
       ]
      },
      {
       "output_type": "stream",
       "stream": "stdout",
       "text": [
        "Indexing: \"Roseobacter_denitrificans_OCh_114\"\r\n"
       ]
      },
      {
       "output_type": "stream",
       "stream": "stdout",
       "text": [
        "Indexing: \"Leifsonia_xyli_subsp_cynodontis_DSM_46306\"\r\n"
       ]
      },
      {
       "output_type": "stream",
       "stream": "stdout",
       "text": [
        "Indexing: \"Mycoplasma_suis_KI3806\"\r\n"
       ]
      },
      {
       "output_type": "stream",
       "stream": "stdout",
       "text": [
        "Indexing: \"Eggerthella_lenta_DSM_2243\"\r\n"
       ]
      },
      {
       "output_type": "stream",
       "stream": "stdout",
       "text": [
        "Indexing: \"Serratia_liquefaciens_ATCC_27592\"\r\n"
       ]
      },
      {
       "output_type": "stream",
       "stream": "stdout",
       "text": [
        "Indexing: \"Streptobacillus_moniliformis_DSM_12112\"\r\n"
       ]
      },
      {
       "output_type": "stream",
       "stream": "stdout",
       "text": [
        "Indexing: \"Ornithobacterium_rhinotracheale_ORT-UMN_88\"\r\n"
       ]
      },
      {
       "output_type": "stream",
       "stream": "stdout",
       "text": [
        "Indexing: \"Rahnella_aquatilis_HX2\"\r\n"
       ]
      },
      {
       "output_type": "stream",
       "stream": "stdout",
       "text": [
        "Indexing: \"Lactobacillus_salivarius_CECT_5713\"\r\n"
       ]
      },
      {
       "output_type": "stream",
       "stream": "stdout",
       "text": [
        "Indexing: \"Moraxella_catarrhalis_BBH18\"\r\n"
       ]
      },
      {
       "output_type": "stream",
       "stream": "stdout",
       "text": [
        "Indexing: \"Pectobacterium_wasabiae_WPP163\"\r\n"
       ]
      },
      {
       "output_type": "stream",
       "stream": "stdout",
       "text": [
        "Indexing: \"Owenweeksia_hongkongensis_DSM_17368\"\r\n"
       ]
      },
      {
       "output_type": "stream",
       "stream": "stdout",
       "text": [
        "Indexing: \"Thermobacillus_composti_KWC4\"\r\n"
       ]
      },
      {
       "output_type": "stream",
       "stream": "stdout",
       "text": [
        "Indexing: \"Paenibacillus_terrae_HPL-003\"\r\n"
       ]
      },
      {
       "output_type": "stream",
       "stream": "stdout",
       "text": [
        "Indexing: \"Asticcacaulis_excentricus_CB_48\"\r\n"
       ]
      },
      {
       "output_type": "stream",
       "stream": "stdout",
       "text": [
        "Indexing: \"Edwardsiella_tarda_FL6-60\"\r\n"
       ]
      },
      {
       "output_type": "stream",
       "stream": "stdout",
       "text": [
        "Indexing: \"Barnesiella_viscericola_DSM_18177\"\r\n"
       ]
      },
      {
       "output_type": "stream",
       "stream": "stdout",
       "text": [
        "Indexing: \"Erwinia_billingiae_Eb661\"\r\n"
       ]
      },
      {
       "output_type": "stream",
       "stream": "stdout",
       "text": [
        "Indexing: \"Geobacter_metallireducens_GS-15\"\r\n",
        "Indexing: \"Rickettsia_rickettsii_str_Hino\"\r\n"
       ]
      },
      {
       "output_type": "stream",
       "stream": "stdout",
       "text": [
        "Indexing: \"Mycoplasma_synoviae_53\"\r\n"
       ]
      },
      {
       "output_type": "stream",
       "stream": "stdout",
       "text": [
        "Indexing: \"Klebsiella_oxytoca_E718\"\r\n"
       ]
      },
      {
       "output_type": "stream",
       "stream": "stdout",
       "text": [
        "Indexing: \"Ketogulonicigenium_vulgare_WSH-001\"\r\n"
       ]
      },
      {
       "output_type": "stream",
       "stream": "stdout",
       "text": [
        "Indexing: \"Xylanimonas_cellulosilytica_DSM_15894\"\r\n"
       ]
      },
      {
       "output_type": "stream",
       "stream": "stdout",
       "text": [
        "Indexing: \"Desulfotomaculum_acetoxidans_DSM_771\"\r\n"
       ]
      },
      {
       "output_type": "stream",
       "stream": "stdout",
       "text": [
        "Indexing: \"Bacillus_lehensis_G1\"\r\n"
       ]
      },
      {
       "output_type": "stream",
       "stream": "stdout",
       "text": [
        "Indexing: \"Streptococcus_iniae_SF1\"\r\n"
       ]
      },
      {
       "output_type": "stream",
       "stream": "stdout",
       "text": [
        "Indexing: \"Geobacter_bemidjiensis_Bem\"\r\n"
       ]
      },
      {
       "output_type": "stream",
       "stream": "stdout",
       "text": [
        "Indexing: \"Rhodospirillum_centenum_SW\"\r\n"
       ]
      },
      {
       "output_type": "stream",
       "stream": "stdout",
       "text": [
        "Indexing: \"Burkholderia_multivorans_ATCC_17616\"\r\n"
       ]
      },
      {
       "output_type": "stream",
       "stream": "stdout",
       "text": [
        "Indexing: \"Deinococcus_deserti_VCD115\"\r\n"
       ]
      },
      {
       "output_type": "stream",
       "stream": "stdout",
       "text": [
        "Indexing: \"Frateuria_aurantia_DSM_6220\"\r\n"
       ]
      },
      {
       "output_type": "stream",
       "stream": "stdout",
       "text": [
        "Indexing: \"Treponema_primitia_ZAS-2\"\r\n"
       ]
      },
      {
       "output_type": "stream",
       "stream": "stdout",
       "text": [
        "Indexing: \"Thermotoga_maritima_MSB8\"\r\n"
       ]
      },
      {
       "output_type": "stream",
       "stream": "stdout",
       "text": [
        "Indexing: \"Neorickettsia_helminthoeca_str_Oregon\"\r\n"
       ]
      },
      {
       "output_type": "stream",
       "stream": "stdout",
       "text": [
        "Indexing: \"Nitrosomonas_eutropha_C91\"\r\n"
       ]
      },
      {
       "output_type": "stream",
       "stream": "stdout",
       "text": [
        "Indexing: \"Rickettsia_japonica_YH\"\r\n"
       ]
      },
      {
       "output_type": "stream",
       "stream": "stdout",
       "text": [
        "Indexing: \"Rubrobacter_xylanophilus_DSM_9941\"\r\n"
       ]
      },
      {
       "output_type": "stream",
       "stream": "stdout",
       "text": [
        "Indexing: \"Syntrophus_aciditrophicus_SB\"\r\n"
       ]
      },
      {
       "output_type": "stream",
       "stream": "stdout",
       "text": [
        "Indexing: \"Stanieria_cyanosphaera_PCC_7437\"\r\n"
       ]
      },
      {
       "output_type": "stream",
       "stream": "stdout",
       "text": [
        "Indexing: \"Erythrobacter_litoralis_HTCC2594\"\r\n"
       ]
      },
      {
       "output_type": "stream",
       "stream": "stdout",
       "text": [
        "Indexing: \"Candidatus_Azobacteroides_pseudotrichonymphae_genomovar_CFP2\"\r\n"
       ]
      },
      {
       "output_type": "stream",
       "stream": "stdout",
       "text": [
        "Indexing: \"Streptococcus_infantarius_subsp_infantarius_CJ18\"\r\n"
       ]
      },
      {
       "output_type": "stream",
       "stream": "stdout",
       "text": [
        "Indexing: \"Clostridium_tetani_E88\"\r\n"
       ]
      },
      {
       "output_type": "stream",
       "stream": "stdout",
       "text": [
        "Indexing: \"Geobacter_lovleyi_SZ\"\r\n"
       ]
      },
      {
       "output_type": "stream",
       "stream": "stdout",
       "text": [
        "Indexing: \"Treponema_brennaborense_DSM_12168\"\r\n"
       ]
      },
      {
       "output_type": "stream",
       "stream": "stdout",
       "text": [
        "Indexing: \"Thermovibrio_ammonificans_HB-1\"\r\n"
       ]
      },
      {
       "output_type": "stream",
       "stream": "stdout",
       "text": [
        "Indexing: \"Desulfotalea_psychrophila_LSv54\"\r\n"
       ]
      },
      {
       "output_type": "stream",
       "stream": "stdout",
       "text": [
        "Indexing: \"Komagataeibacter_medellinensis_NBRC_3288\"\r\n"
       ]
      },
      {
       "output_type": "stream",
       "stream": "stdout",
       "text": [
        "Indexing: \"Streptosporangium_roseum_DSM_43021\"\r\n"
       ]
      },
      {
       "output_type": "stream",
       "stream": "stdout",
       "text": [
        "Indexing: \"Caldilinea_aerophila_DSM_14535_NBRC_104270\"\r\n"
       ]
      },
      {
       "output_type": "stream",
       "stream": "stdout",
       "text": [
        "Indexing: \"Eubacterium_limosum_KIST612\"\r\n"
       ]
      },
      {
       "output_type": "stream",
       "stream": "stdout",
       "text": [
        "Indexing: \"Mycoplasma_genitalium_M6320\"\r\n"
       ]
      },
      {
       "output_type": "stream",
       "stream": "stdout",
       "text": [
        "Indexing: \"Flavobacterium_columnare_ATCC_49512\"\r\n"
       ]
      },
      {
       "output_type": "stream",
       "stream": "stdout",
       "text": [
        "Indexing: \"Arcobacter_butzleri_7h1h\"\r\n"
       ]
      },
      {
       "output_type": "stream",
       "stream": "stdout",
       "text": [
        "Indexing: \"Acidimicrobium_ferrooxidans_DSM_10331\"\r\n"
       ]
      },
      {
       "output_type": "stream",
       "stream": "stdout",
       "text": [
        "Indexing: \"Thioalkalivibrio_nitratireducens_DSM_14787\"\r\n"
       ]
      },
      {
       "output_type": "stream",
       "stream": "stdout",
       "text": [
        "Indexing: \"Desulfotomaculum_reducens_MI-1\"\r\n"
       ]
      },
      {
       "output_type": "stream",
       "stream": "stdout",
       "text": [
        "Indexing: \"_Clostridium_stercorarium_subsp_stercorarium_DSM_8532\"\r\n"
       ]
      },
      {
       "output_type": "stream",
       "stream": "stdout",
       "text": [
        "Indexing: \"Stenotrophomonas_maltophilia_R551-3\"\r\n"
       ]
      },
      {
       "output_type": "stream",
       "stream": "stdout",
       "text": [
        "Indexing: \"Shigella_sonnei_53G\"\r\n"
       ]
      },
      {
       "output_type": "stream",
       "stream": "stdout",
       "text": [
        "Indexing: \"Prevotella_ruminicola_23\"\r\n"
       ]
      },
      {
       "output_type": "stream",
       "stream": "stdout",
       "text": [
        "Indexing: \"Bordetella_bronchiseptica_253\"\r\n"
       ]
      },
      {
       "output_type": "stream",
       "stream": "stdout",
       "text": [
        "Indexing: \"Shigella_boydii_Sb227\"\r\n"
       ]
      },
      {
       "output_type": "stream",
       "stream": "stdout",
       "text": [
        "Indexing: \"Amycolatopsis_methanolica_239\"\r\n"
       ]
      },
      {
       "output_type": "stream",
       "stream": "stdout",
       "text": [
        "Indexing: \"Halothermothrix_orenii_H_168\"\r\n"
       ]
      },
      {
       "output_type": "stream",
       "stream": "stdout",
       "text": [
        "Indexing: \"Rickettsia_sibirica_246\"\r\n"
       ]
      },
      {
       "output_type": "stream",
       "stream": "stdout",
       "text": [
        "Indexing: \"Brucella_pinnipedialis_B2_94\"\r\n"
       ]
      },
      {
       "output_type": "stream",
       "stream": "stdout",
       "text": [
        "Indexing: \"Actinoplanes_missouriensis_431\"\r\n"
       ]
      },
      {
       "output_type": "stream",
       "stream": "stdout",
       "text": [
        "Indexing: \"Thermacetogenium_phaeum_DSM_12270\"\r\n"
       ]
      },
      {
       "output_type": "stream",
       "stream": "stdout",
       "text": [
        "Indexing: \"Nitrobacter_hamburgensis_X14\"\r\n"
       ]
      },
      {
       "output_type": "stream",
       "stream": "stdout",
       "text": [
        "Indexing: \"Advenella_mimigardefordensis_DPN7\"\r\n"
       ]
      },
      {
       "output_type": "stream",
       "stream": "stdout",
       "text": [
        "Indexing: \"Candidatus_Rickettsia_amblyommii_str_GAT-30V\"\r\n"
       ]
      },
      {
       "output_type": "stream",
       "stream": "stdout",
       "text": [
        "Indexing: \"Comamonas_testosteroni_TK102\"\r\n"
       ]
      },
      {
       "output_type": "stream",
       "stream": "stdout",
       "text": [
        "Indexing: \"Desulfurispirillum_indicum_S5\"\r\n"
       ]
      },
      {
       "output_type": "stream",
       "stream": "stdout",
       "text": [
        "Indexing: \"Bacillus_thuringiensis_serovar_galleriae\"\r\n"
       ]
      },
      {
       "output_type": "stream",
       "stream": "stdout",
       "text": [
        "Indexing: \"Spiroplasma_diminutum_CUAS-1\"\r\n"
       ]
      },
      {
       "output_type": "stream",
       "stream": "stdout",
       "text": [
        "Indexing: \"Thermobispora_bispora_DSM_43833\"\r\n"
       ]
      },
      {
       "output_type": "stream",
       "stream": "stdout",
       "text": [
        "Indexing: \"Caulobacter_segnis_ATCC_21756\"\r\n"
       ]
      },
      {
       "output_type": "stream",
       "stream": "stdout",
       "text": [
        "Indexing: \"Acinetobacter_baumannii_BJAB07104\"\r\n"
       ]
      },
      {
       "output_type": "stream",
       "stream": "stdout",
       "text": [
        "Indexing: \"Corynebacterium_terpenotabidum_Y-11\"\r\n"
       ]
      },
      {
       "output_type": "stream",
       "stream": "stdout",
       "text": [
        "Indexing: \"Rickettsia_helvetica_C9P9\"\r\n"
       ]
      },
      {
       "output_type": "stream",
       "stream": "stdout",
       "text": [
        "Indexing: \"Brachybacterium_faecium_DSM_4810\"\r\n"
       ]
      },
      {
       "output_type": "stream",
       "stream": "stdout",
       "text": [
        "Indexing: \"Marinobacter_adhaerens_HP15\"\r\n"
       ]
      },
      {
       "output_type": "stream",
       "stream": "stdout",
       "text": [
        "Indexing: \"Helicobacter_cetorum_MIT_00-7128\"\r\n"
       ]
      },
      {
       "output_type": "stream",
       "stream": "stdout",
       "text": [
        "Indexing: \"Geobacillus_thermodenitrificans_NG80-2\"\r\n"
       ]
      },
      {
       "output_type": "stream",
       "stream": "stdout",
       "text": [
        "Indexing: \"Hymenobacter_swuensis_DY53\"\r\n"
       ]
      },
      {
       "output_type": "stream",
       "stream": "stdout",
       "text": [
        "Indexing: \"Pseudoxanthomonas_suwonensis_11-1\"\r\n"
       ]
      },
      {
       "output_type": "stream",
       "stream": "stdout",
       "text": [
        "Indexing: \"Arthrobacter_arilaitensis_Re117\"\r\n"
       ]
      },
      {
       "output_type": "stream",
       "stream": "stdout",
       "text": [
        "Indexing: \"Isosphaera_pallida_ATCC_43644\"\r\n"
       ]
      },
      {
       "output_type": "stream",
       "stream": "stdout",
       "text": [
        "Indexing: \"Phycisphaera_mikurensis_NBRC_102666\"\r\n"
       ]
      },
      {
       "output_type": "stream",
       "stream": "stdout",
       "text": [
        "Indexing: \"Corynebacterium_diphtheriae_C7_beta\"\r\n"
       ]
      },
      {
       "output_type": "stream",
       "stream": "stdout",
       "text": [
        "Indexing: \"Mycoplasma_hyorhinis_SK76\"\r\n"
       ]
      },
      {
       "output_type": "stream",
       "stream": "stdout",
       "text": [
        "Indexing: \"Candidatus_Portiera_aleyrodidarum_MED_Bemisia_tabaci\"\r\n"
       ]
      },
      {
       "output_type": "stream",
       "stream": "stdout",
       "text": [
        "Indexing: \"Ralstonia_solanacearum_GMI1000\"\r\n"
       ]
      },
      {
       "output_type": "stream",
       "stream": "stdout",
       "text": [
        "Indexing: \"Chlamydia_pecorum_P787\"\r\n"
       ]
      },
      {
       "output_type": "stream",
       "stream": "stdout",
       "text": [
        "Indexing: \"Baumannia_cicadellinicola_str_Hc_Homalodisca_coagulata\"\r\n"
       ]
      },
      {
       "output_type": "stream",
       "stream": "stdout",
       "text": [
        "Indexing: \"Shewanella_woodyi_ATCC_51908\"\r\n"
       ]
      },
      {
       "output_type": "stream",
       "stream": "stdout",
       "text": [
        "Indexing: \"Pleurocapsa_sp_PCC_7327\"\r\n"
       ]
      },
      {
       "output_type": "stream",
       "stream": "stdout",
       "text": [
        "Indexing: \"Calothrix_sp_PCC_6303\"\r\n"
       ]
      },
      {
       "output_type": "stream",
       "stream": "stdout",
       "text": [
        "Indexing: \"Thermus_thermophilus_HB8\"\r\n"
       ]
      },
      {
       "output_type": "stream",
       "stream": "stdout",
       "text": [
        "Indexing: \"cyanobacterium_endosymbiont_of_Epithemia_turgida_isolate_EtSB_Lake_Yunoko\"\r\n"
       ]
      },
      {
       "output_type": "stream",
       "stream": "stdout",
       "text": [
        "Indexing: \"Listonella_anguillarum_M3\"\r\n"
       ]
      },
      {
       "output_type": "stream",
       "stream": "stdout",
       "text": [
        "Indexing: \"Streptomyces_cattleya_NRRL_8057_DSM_46488\"\r\n"
       ]
      },
      {
       "output_type": "stream",
       "stream": "stdout",
       "text": [
        "Indexing: \"Helicobacter_mustelae_12198\"\r\n"
       ]
      },
      {
       "output_type": "stream",
       "stream": "stdout",
       "text": [
        "Indexing: \"Erwinia_tasmaniensis_Et1_99\"\r\n"
       ]
      },
      {
       "output_type": "stream",
       "stream": "stdout",
       "text": [
        "Indexing: \"Prevotella_denticola_F0289\"\r\n"
       ]
      },
      {
       "output_type": "stream",
       "stream": "stdout",
       "text": [
        "Indexing: \"Mycoplasma_haemofelis_str_Langford_1\"\r\n"
       ]
      },
      {
       "output_type": "stream",
       "stream": "stdout",
       "text": [
        "Indexing: \"Jonesia_denitrificans_DSM_20603\"\r\n"
       ]
      },
      {
       "output_type": "stream",
       "stream": "stdout",
       "text": [
        "Indexing: \"Mesoplasma_florum_L1\"\r\n"
       ]
      },
      {
       "output_type": "stream",
       "stream": "stdout",
       "text": [
        "Indexing: \"_Clostridium_acidurici_9a\"\r\n"
       ]
      },
      {
       "output_type": "stream",
       "stream": "stdout",
       "text": [
        "Indexing: \"Pseudoxanthomonas_spadix_BD-a59\"\r\n"
       ]
      },
      {
       "output_type": "stream",
       "stream": "stdout",
       "text": [
        "Indexing: \"Clavibacter_michiganensis_subsp_sepedonicus\"\r\n"
       ]
      },
      {
       "output_type": "stream",
       "stream": "stdout",
       "text": [
        "Indexing: \"Proteus_mirabilis_BB2000\"\r\n"
       ]
      },
      {
       "output_type": "stream",
       "stream": "stdout",
       "text": [
        "Indexing: \"Fluviicola_taffensis_DSM_16823\"\r\n",
        "Indexing: \"Fervidobacterium_pennivorans_DSM_9078\"\r\n"
       ]
      },
      {
       "output_type": "stream",
       "stream": "stdout",
       "text": [
        "Indexing: \"Sulfurospirillum_barnesii_SES-3\"\r\n"
       ]
      },
      {
       "output_type": "stream",
       "stream": "stdout",
       "text": [
        "Indexing: \"Escherichia_fergusonii_ATCC_35469\"\r\n"
       ]
      },
      {
       "output_type": "stream",
       "stream": "stdout",
       "text": [
        "Indexing: \"Candidatus_Blochmannia_chromaiodes_str_640\"\r\n"
       ]
      },
      {
       "output_type": "stream",
       "stream": "stdout",
       "text": [
        "Indexing: \"Sphaerobacter_thermophilus_DSM_20745\"\r\n"
       ]
      },
      {
       "output_type": "stream",
       "stream": "stdout",
       "text": [
        "Indexing: \"Cellvibrio_japonicus_Ueda107\"\r\n"
       ]
      },
      {
       "output_type": "stream",
       "stream": "stdout",
       "text": [
        "Indexing: \"Nitrosomonas_europaea_ATCC_19718\"\r\n"
       ]
      },
      {
       "output_type": "stream",
       "stream": "stdout",
       "text": [
        "Indexing: \"Kribbella_flavida_DSM_17836\"\r\n"
       ]
      },
      {
       "output_type": "stream",
       "stream": "stdout",
       "text": [
        "Indexing: \"Paracoccus_denitrificans_PD1222\"\r\n"
       ]
      },
      {
       "output_type": "stream",
       "stream": "stdout",
       "text": [
        "Indexing: \"Rhodococcus_opacus_B4\"\r\n"
       ]
      },
      {
       "output_type": "stream",
       "stream": "stdout",
       "text": [
        "Indexing: \"Serratia_plymuthica_RVH1\"\r\n"
       ]
      },
      {
       "output_type": "stream",
       "stream": "stdout",
       "text": [
        "Indexing: \"Chloroflexus_aggregans_DSM_9485\"\r\n"
       ]
      },
      {
       "output_type": "stream",
       "stream": "stdout",
       "text": [
        "Indexing: \"Teredinibacter_turnerae_T7901\"\r\n"
       ]
      },
      {
       "output_type": "stream",
       "stream": "stdout",
       "text": [
        "Indexing: \"Campylobacter_curvus_525_92\"\r\n",
        "Indexing: \"Rickettsia_slovaca_str_D-CWPP\"\r\n"
       ]
      },
      {
       "output_type": "stream",
       "stream": "stdout",
       "text": [
        "Indexing: \"Marinomonas_posidonica_IVIA-Po-181\"\r\n"
       ]
      },
      {
       "output_type": "stream",
       "stream": "stdout",
       "text": [
        "Indexing: \"Oligotropha_carboxidovorans_OM4\"\r\n"
       ]
      },
      {
       "output_type": "stream",
       "stream": "stdout",
       "text": [
        "Indexing: \"Geobacter_sulfurreducens_KN400\"\r\n"
       ]
      },
      {
       "output_type": "stream",
       "stream": "stdout",
       "text": [
        "Indexing: \"Azorhizobium_caulinodans_ORS_571\"\r\n"
       ]
      },
      {
       "output_type": "stream",
       "stream": "stdout",
       "text": [
        "Indexing: \"Leptospirillum_ferrooxidans_C2-3\"\r\n"
       ]
      },
      {
       "output_type": "stream",
       "stream": "stdout",
       "text": [
        "Indexing: \"Rickettsia_montanensis_str_OSU_85-930\"\r\n"
       ]
      },
      {
       "output_type": "stream",
       "stream": "stdout",
       "text": [
        "Indexing: \"Xanthomonas_campestris_pv_vesicatoria_str_85-10\"\r\n"
       ]
      },
      {
       "output_type": "stream",
       "stream": "stdout",
       "text": [
        "Indexing: \"Methylococcus_capsulatus_str_Bath\"\r\n"
       ]
      },
      {
       "output_type": "stream",
       "stream": "stdout",
       "text": [
        "Indexing: \"Staphylococcus_epidermidis_RP62A\"\r\n"
       ]
      },
      {
       "output_type": "stream",
       "stream": "stdout",
       "text": [
        "Indexing: \"Blattabacterium_sp_Blattella_germanica_str_Bge\"\r\n"
       ]
      },
      {
       "output_type": "stream",
       "stream": "stdout",
       "text": [
        "Indexing: \"Vibrio_campbellii_ATCC_BAA-1116\"\r\n"
       ]
      },
      {
       "output_type": "stream",
       "stream": "stdout",
       "text": [
        "Indexing: \"Prevotella_melaninogenica_ATCC_25845\"\r\n"
       ]
      },
      {
       "output_type": "stream",
       "stream": "stdout",
       "text": [
        "Indexing: \"Thioalkalivibrio_thiocyanoxidans_ARh_4\"\r\n"
       ]
      },
      {
       "output_type": "stream",
       "stream": "stdout",
       "text": [
        "Indexing: \"Enterobacter_asburiae_LF7a\"\r\n"
       ]
      },
      {
       "output_type": "stream",
       "stream": "stdout",
       "text": [
        "Indexing: \"Candidatus_Tremblaya_phenacola_PAVE\"\r\n"
       ]
      },
      {
       "output_type": "stream",
       "stream": "stdout",
       "text": [
        "Indexing: \"_Clostridium_clariflavum_DSM_19732\"\r\n"
       ]
      },
      {
       "output_type": "stream",
       "stream": "stdout",
       "text": [
        "Indexing: \"Shewanella_halifaxensis_HAW-EB4\"\r\n"
       ]
      },
      {
       "output_type": "stream",
       "stream": "stdout",
       "text": [
        "Indexing: \"Anabaena_variabilis_ATCC_29413\"\r\n"
       ]
      },
      {
       "output_type": "stream",
       "stream": "stdout",
       "text": [
        "Indexing: \"Opitutus_terrae_PB90-1\"\r\n"
       ]
      },
      {
       "output_type": "stream",
       "stream": "stdout",
       "text": [
        "Indexing: \"Planctomyces_limnophilus_DSM_3776\"\r\n"
       ]
      },
      {
       "output_type": "stream",
       "stream": "stdout",
       "text": [
        "Indexing: \"Shewanella_violacea_DSS12\"\r\n"
       ]
      },
      {
       "output_type": "stream",
       "stream": "stdout",
       "text": [
        "Indexing: \"Candidatus_Ruthia_magnifica_str_Cm_Calyptogena_magnifica\"\r\n"
       ]
      },
      {
       "output_type": "stream",
       "stream": "stdout",
       "text": [
        "Indexing: \"Streptococcus_oligofermentans_AS_1_3089\"\r\n"
       ]
      },
      {
       "output_type": "stream",
       "stream": "stdout",
       "text": [
        "Indexing: \"Thermoanaerobacterium_thermosaccharolyticum_M0795\"\r\n"
       ]
      },
      {
       "output_type": "stream",
       "stream": "stdout",
       "text": [
        "Indexing: \"Vibrio_alginolyticus_NBRC_15630_ATCC_17749\"\r\n"
       ]
      },
      {
       "output_type": "stream",
       "stream": "stdout",
       "text": [
        "Indexing: \"Campylobacter_concisus_13826\"\r\n"
       ]
      },
      {
       "output_type": "stream",
       "stream": "stdout",
       "text": [
        "Indexing: \"Dyella_japonica_A8\"\r\n"
       ]
      },
      {
       "output_type": "stream",
       "stream": "stdout",
       "text": [
        "Indexing: \"Bordetella_avium_197N\"\r\n"
       ]
      },
      {
       "output_type": "stream",
       "stream": "stdout",
       "text": [
        "Indexing: \"Dehalobacter_restrictus_DSM_9455\"\r\n"
       ]
      },
      {
       "output_type": "stream",
       "stream": "stdout",
       "text": [
        "Indexing: \"Fibrobacter_succinogenes_subsp_succinogenes_S85\"\r\n"
       ]
      },
      {
       "output_type": "stream",
       "stream": "stdout",
       "text": [
        "Indexing: \"Brucella_canis_HSK_A52141\"\r\n"
       ]
      },
      {
       "output_type": "stream",
       "stream": "stdout",
       "text": [
        "Indexing: \"Helicobacter_pylori_F16\"\r\n"
       ]
      },
      {
       "output_type": "stream",
       "stream": "stdout",
       "text": [
        "Indexing: \"Turneriella_parva_DSM_21527\"\r\n"
       ]
      },
      {
       "output_type": "stream",
       "stream": "stdout",
       "text": [
        "Indexing: \"Desulfococcus_oleovorans_Hxd3\"\r\n"
       ]
      },
      {
       "output_type": "stream",
       "stream": "stdout",
       "text": [
        "Indexing: \"Thermaerobacter_marianensis_DSM_12885\"\r\n"
       ]
      },
      {
       "output_type": "stream",
       "stream": "stdout",
       "text": [
        "Indexing: \"Gordonia_bronchialis_DSM_43247\"\r\n"
       ]
      },
      {
       "output_type": "stream",
       "stream": "stdout",
       "text": [
        "Indexing: \"Mycoplasma_leachii_PG50\"\r\n"
       ]
      },
      {
       "output_type": "stream",
       "stream": "stdout",
       "text": [
        "Indexing: \"Mycobacterium_kansasii_ATCC_12478\"\r\n"
       ]
      },
      {
       "output_type": "stream",
       "stream": "stdout",
       "text": [
        "Indexing: \"Rickettsia_prowazekii_str_GvV257\"\r\n"
       ]
      },
      {
       "output_type": "stream",
       "stream": "stdout",
       "text": [
        "Indexing: \"Halobacteroides_halobius_DSM_5150\"\r\n"
       ]
      },
      {
       "output_type": "stream",
       "stream": "stdout",
       "text": [
        "Indexing: \"Pediococcus_pentosaceus_ATCC_25745\"\r\n"
       ]
      },
      {
       "output_type": "stream",
       "stream": "stdout",
       "text": [
        "Indexing: \"Listeria_welshimeri_serovar_6b_str_SLCC5334\"\r\n"
       ]
      },
      {
       "output_type": "stream",
       "stream": "stdout",
       "text": [
        "Indexing: \"Veillonella_parvula_DSM_2008\"\r\n"
       ]
      },
      {
       "output_type": "stream",
       "stream": "stdout",
       "text": [
        "Indexing: \"Streptomyces_bingchenggensis_BCW-1\"\r\n"
       ]
      },
      {
       "output_type": "stream",
       "stream": "stdout",
       "text": [
        "Indexing: \"Calditerrivibrio_nitroreducens_DSM_19672\"\r\n"
       ]
      },
      {
       "output_type": "stream",
       "stream": "stdout",
       "text": [
        "Indexing: \"Burkholderia_phenoliruptrix_BR3459a\"\r\n"
       ]
      },
      {
       "output_type": "stream",
       "stream": "stdout",
       "text": [
        "Indexing: \"Salinispora_arenicola_CNS-205\"\r\n"
       ]
      },
      {
       "output_type": "stream",
       "stream": "stdout",
       "text": [
        "Indexing: \"Dechlorosoma_suillum_PS\"\r\n"
       ]
      },
      {
       "output_type": "stream",
       "stream": "stdout",
       "text": [
        "Indexing: \"Verrucomicrobium_spinosum_DSM_4136_JCM_18804\"\r\n"
       ]
      },
      {
       "output_type": "stream",
       "stream": "stdout",
       "text": [
        "Indexing: \"Synechocystis_sp_PCC_6803_substr_PCC-P\"\r\n"
       ]
      },
      {
       "output_type": "stream",
       "stream": "stdout",
       "text": [
        "Indexing: \"Ammonifex_degensii_KC4\"\r\n"
       ]
      },
      {
       "output_type": "stream",
       "stream": "stdout",
       "text": [
        "Indexing: \"Bifidobacterium_longum_DJO10A\"\r\n"
       ]
      },
      {
       "output_type": "stream",
       "stream": "stdout",
       "text": [
        "Indexing: \"Cellulomonas_fimi_ATCC_484\"\r\n"
       ]
      },
      {
       "output_type": "stream",
       "stream": "stdout",
       "text": [
        "Indexing: \"Nocardiopsis_dassonvillei_subsp_dassonvillei_DSM_43111\"\r\n"
       ]
      },
      {
       "output_type": "stream",
       "stream": "stdout",
       "text": [
        "Indexing: \"Aequorivita_sublithincola_DSM_14238\"\r\n"
       ]
      },
      {
       "output_type": "stream",
       "stream": "stdout",
       "text": [
        "Indexing: \"Desulfomicrobium_baculatum_DSM_4028\"\r\n"
       ]
      },
      {
       "output_type": "stream",
       "stream": "stdout",
       "text": [
        "Indexing: \"Aster_yellows_witches-broom_phytoplasma_AYWB\"\r\n"
       ]
      },
      {
       "output_type": "stream",
       "stream": "stdout",
       "text": [
        "Indexing: \"Pseudoalteromonas_atlantica_T6c\"\r\n"
       ]
      },
      {
       "output_type": "stream",
       "stream": "stdout",
       "text": [
        "Indexing: \"Emticicia_oligotrophica_DSM_17448\"\r\n"
       ]
      },
      {
       "output_type": "stream",
       "stream": "stdout",
       "text": [
        "Indexing: \"Rhodospirillum_photometricum_DSM_122\"\r\n"
       ]
      },
      {
       "output_type": "stream",
       "stream": "stdout",
       "text": [
        "Indexing: \"Rickettsia_bellii_RML369-C\"\r\n"
       ]
      },
      {
       "output_type": "stream",
       "stream": "stdout",
       "text": [
        "Indexing: \"Blattabacterium_sp_Blatta_orientalis_str_Tarazona\"\r\n"
       ]
      },
      {
       "output_type": "stream",
       "stream": "stdout",
       "text": [
        "Indexing: \"Saccharomonospora_viridis_DSM_43017\"\r\n"
       ]
      },
      {
       "output_type": "stream",
       "stream": "stdout",
       "text": [
        "Indexing: \"Candidatus_Pelagibacter_ubique_HTCC1062\"\r\n"
       ]
      },
      {
       "output_type": "stream",
       "stream": "stdout",
       "text": [
        "Indexing: \"Renibacterium_salmoninarum_ATCC_33209\"\r\n"
       ]
      },
      {
       "output_type": "stream",
       "stream": "stdout",
       "text": [
        "Indexing: \"Acidaminococcus_intestini_RyC-MR95\"\r\n"
       ]
      },
      {
       "output_type": "stream",
       "stream": "stdout",
       "text": [
        "Indexing: \"Corynebacterium_aurimucosum_ATCC_700975\"\r\n"
       ]
      },
      {
       "output_type": "stream",
       "stream": "stdout",
       "text": [
        "Indexing: \"Francisella_cf_tularensis_subsp_novicida_3523\"\r\n"
       ]
      },
      {
       "output_type": "stream",
       "stream": "stdout",
       "text": [
        "Indexing: \"Vibrio_fischeri_ES114\"\r\n"
       ]
      },
      {
       "output_type": "stream",
       "stream": "stdout",
       "text": [
        "Indexing: \"Mycobacterium_leprae_Br4923\"\r\n"
       ]
      },
      {
       "output_type": "stream",
       "stream": "stdout",
       "text": [
        "Indexing: \"Sphingopyxis_alaskensis_RB2256\"\r\n"
       ]
      },
      {
       "output_type": "stream",
       "stream": "stdout",
       "text": [
        "Indexing: \"Paracoccus_aminophilus_JCM_7686\"\r\n"
       ]
      },
      {
       "output_type": "stream",
       "stream": "stdout",
       "text": [
        "Indexing: \"Thermodesulfobacterium_commune_DSM_2178\"\r\n"
       ]
      },
      {
       "output_type": "stream",
       "stream": "stdout",
       "text": [
        "Indexing: \"Trueperella_pyogenes_TP8\"\r\n"
       ]
      },
      {
       "output_type": "stream",
       "stream": "stdout",
       "text": [
        "Indexing: \"Syntrophobacter_fumaroxidans_MPOB\"\r\n"
       ]
      },
      {
       "output_type": "stream",
       "stream": "stdout",
       "text": [
        "Indexing: \"Pseudomonas_balearica_DSM_6083\"\r\n"
       ]
      },
      {
       "output_type": "stream",
       "stream": "stdout",
       "text": [
        "Indexing: \"Caldicellulosiruptor_lactoaceticus_6A\"\r\n"
       ]
      },
      {
       "output_type": "stream",
       "stream": "stdout",
       "text": [
        "Indexing: \"Corynebacterium_ulcerans_BR-AD22\"\r\n"
       ]
      },
      {
       "output_type": "stream",
       "stream": "stdout",
       "text": [
        "Indexing: \"Salmonella_enterica_subsp_enterica_serovar_Heidelberg_str_CFSAN002069\"\r\n"
       ]
      },
      {
       "output_type": "stream",
       "stream": "stdout",
       "text": [
        "Indexing: \"Syntrophobotulus_glycolicus_DSM_8271\"\r\n"
       ]
      },
      {
       "output_type": "stream",
       "stream": "stdout",
       "text": [
        "Indexing: \"Polynucleobacter_necessarius_subsp_necessarius_STIR1\"\r\n"
       ]
      },
      {
       "output_type": "stream",
       "stream": "stdout",
       "text": [
        "Indexing: \"Gallibacterium_anatis_UMN179\"\r\n"
       ]
      },
      {
       "output_type": "stream",
       "stream": "stdout",
       "text": [
        "Indexing: \"Mycoplasma_wenyonii_str_Massachusetts\"\r\n"
       ]
      },
      {
       "output_type": "stream",
       "stream": "stdout",
       "text": [
        "Indexing: \"Thermodesulfobacterium_geofontis_OPF15\"\r\n"
       ]
      },
      {
       "output_type": "stream",
       "stream": "stdout",
       "text": [
        "Indexing: \"Exiguobacterium_antarcticum_B7\"\r\n"
       ]
      },
      {
       "output_type": "stream",
       "stream": "stdout",
       "text": [
        "Indexing: \"Campylobacter_lari_RM2100\"\r\n"
       ]
      },
      {
       "output_type": "stream",
       "stream": "stdout",
       "text": [
        "Indexing: \"Ruminiclostridium_thermocellum_DSM_1313\"\r\n"
       ]
      },
      {
       "output_type": "stream",
       "stream": "stdout",
       "text": [
        "Indexing: \"Starkeya_novella_DSM_506\"\r\n"
       ]
      },
      {
       "output_type": "stream",
       "stream": "stdout",
       "text": [
        "Indexing: \"Staphylococcus_warneri_SG1\"\r\n"
       ]
      },
      {
       "output_type": "stream",
       "stream": "stdout",
       "text": [
        "Indexing: \"Mycobacterium_smegmatis_JS623\"\r\n"
       ]
      },
      {
       "output_type": "stream",
       "stream": "stdout",
       "text": [
        "Indexing: \"Chlorobium_limicola_DSM_245\"\r\n"
       ]
      },
      {
       "output_type": "stream",
       "stream": "stdout",
       "text": [
        "Indexing: \"Bacillus_pumilus_SAFR-032\"\r\n"
       ]
      },
      {
       "output_type": "stream",
       "stream": "stdout",
       "text": [
        "Indexing: \"Spiroplasma_chrysopicola_DF-1\"\r\n"
       ]
      },
      {
       "output_type": "stream",
       "stream": "stdout",
       "text": [
        "Indexing: \"Candidatus_Kinetoplastibacterium_blastocrithidii_TCC012E\"\r\n"
       ]
      },
      {
       "output_type": "stream",
       "stream": "stdout",
       "text": [
        "Indexing: \"_Eubacterium_eligens_ATCC_27750\"\r\n"
       ]
      },
      {
       "output_type": "stream",
       "stream": "stdout",
       "text": [
        "Indexing: \"Novosphingobium_aromaticivorans_DSM_12444\"\r\n"
       ]
      },
      {
       "output_type": "stream",
       "stream": "stdout",
       "text": [
        "Indexing: \"Desulfatibacillum_alkenivorans_AK-01\"\r\n"
       ]
      },
      {
       "output_type": "stream",
       "stream": "stdout",
       "text": [
        "Indexing: \"Sulfurospirillum_multivorans_DSM_12446\"\r\n"
       ]
      },
      {
       "output_type": "stream",
       "stream": "stdout",
       "text": [
        "Indexing: \"Candidatus_Kinetoplastibacterium_desouzaii_TCC079E\"\r\n"
       ]
      },
      {
       "output_type": "stream",
       "stream": "stdout",
       "text": [
        "Indexing: \"Carnobacterium_maltaromaticum_LMA28\"\r\n"
       ]
      },
      {
       "output_type": "stream",
       "stream": "stdout",
       "text": [
        "Indexing: \"Corynebacterium_falsenii_DSM_44353\"\r\n"
       ]
      },
      {
       "output_type": "stream",
       "stream": "stdout",
       "text": [
        "Indexing: \"Methylobacterium_nodulans_ORS_2060\"\r\n"
       ]
      },
      {
       "output_type": "stream",
       "stream": "stdout",
       "text": [
        "Indexing: \"Psychromonas_ingrahamii_37\"\r\n"
       ]
      },
      {
       "output_type": "stream",
       "stream": "stdout",
       "text": [
        "Indexing: \"Hahella_chejuensis_KCTC_2396\"\r\n"
       ]
      },
      {
       "output_type": "stream",
       "stream": "stdout",
       "text": [
        "Indexing: \"Flavobacterium_johnsoniae_UW101\"\r\n"
       ]
      },
      {
       "output_type": "stream",
       "stream": "stdout",
       "text": [
        "Indexing: \"Clostridium_kluyveri_NBRC_12016\"\r\n"
       ]
      },
      {
       "output_type": "stream",
       "stream": "stdout",
       "text": [
        "Indexing: \"Parabacteroides_distasonis_ATCC_8503\"\r\n"
       ]
      },
      {
       "output_type": "stream",
       "stream": "stdout",
       "text": [
        "Indexing: \"Prosthecochloris_aestuarii_DSM_271\"\r\n"
       ]
      },
      {
       "output_type": "stream",
       "stream": "stdout",
       "text": [
        "Indexing: \"Rhodospirillum_rubrum_F11\"\r\n"
       ]
      },
      {
       "output_type": "stream",
       "stream": "stdout",
       "text": [
        "Indexing: \"Selenomonas_sputigena_ATCC_35185\"\r\n"
       ]
      },
      {
       "output_type": "stream",
       "stream": "stdout",
       "text": [
        "Indexing: \"Oscillatoria_nigro-viridis_PCC_7112\"\r\n"
       ]
      },
      {
       "output_type": "stream",
       "stream": "stdout",
       "text": [
        "Indexing: \"Spiroplasma_taiwanense_CT-1\"\r\n"
       ]
      },
      {
       "output_type": "stream",
       "stream": "stdout",
       "text": [
        "Indexing: \"Treponema_pallidum_subsp_pallidum_str_Sea_81-4\"\r\n"
       ]
      },
      {
       "output_type": "stream",
       "stream": "stdout",
       "text": [
        "Indexing: \"Pseudomonas_mendocina_NK-01\"\r\n"
       ]
      },
      {
       "output_type": "stream",
       "stream": "stdout",
       "text": [
        "Indexing: \"Thermus_oshimai_JL-2\"\r\n"
       ]
      },
      {
       "output_type": "stream",
       "stream": "stdout",
       "text": [
        "Indexing: \"Helicobacter_hepaticus_ATCC_51449\"\r\n"
       ]
      },
      {
       "output_type": "stream",
       "stream": "stdout",
       "text": [
        "Indexing: \"Petrotoga_mobilis_SJ95\"\r\n"
       ]
      },
      {
       "output_type": "stream",
       "stream": "stdout",
       "text": [
        "Indexing: \"Brachyspira_pilosicoli_95_1000\"\r\n"
       ]
      },
      {
       "output_type": "stream",
       "stream": "stdout",
       "text": [
        "Indexing: \"Actinosynnema_mirum_DSM_43827\"\r\n"
       ]
      },
      {
       "output_type": "stream",
       "stream": "stdout",
       "text": [
        "Indexing: \"Pseudomonas_knackmussii_B13\"\r\n"
       ]
      },
      {
       "output_type": "stream",
       "stream": "stdout",
       "text": [
        "Indexing: \"Laribacter_hongkongensis_HLHK9\"\r\n"
       ]
      },
      {
       "output_type": "stream",
       "stream": "stdout",
       "text": [
        "Indexing: \"Alteromonas_macleodii_str_Balearic_Sea_AD45\"\r\n"
       ]
      },
      {
       "output_type": "stream",
       "stream": "stdout",
       "text": [
        "Indexing: \"Acidobacterium_capsulatum_ATCC_51196\"\r\n"
       ]
      },
      {
       "output_type": "stream",
       "stream": "stdout",
       "text": [
        "Indexing: \"Bacteriovorax_marinus_SJ\"\r\n"
       ]
      },
      {
       "output_type": "stream",
       "stream": "stdout",
       "text": [
        "Indexing: \"Brachyspira_intermedia_PWS_A\"\r\n"
       ]
      },
      {
       "output_type": "stream",
       "stream": "stdout",
       "text": [
        "Indexing: \"Clostridium_acetobutylicum_DSM_1731\"\r\n"
       ]
      },
      {
       "output_type": "stream",
       "stream": "stdout",
       "text": [
        "Indexing: \"Klebsiella_pneumoniae_30660_NJST258_1\"\r\n"
       ]
      },
      {
       "output_type": "stream",
       "stream": "stdout",
       "text": [
        "Indexing: \"Bdellovibrio_exovorus_JSS\"\r\n"
       ]
      },
      {
       "output_type": "stream",
       "stream": "stdout",
       "text": [
        "Indexing: \"Pseudomonas_syringae_pv_syringae_B728a\"\r\n"
       ]
      },
      {
       "output_type": "stream",
       "stream": "stdout",
       "text": [
        "Indexing: \"Marinitoga_piezophila_KA3\"\r\n"
       ]
      },
      {
       "output_type": "stream",
       "stream": "stdout",
       "text": [
        "Indexing: \"Candidatus_Sodalis_pierantonius_str_SOPE\"\r\n"
       ]
      },
      {
       "output_type": "stream",
       "stream": "stdout",
       "text": [
        "Indexing: \"Clostridium_baratii_str_Sullivan\"\r\n"
       ]
      },
      {
       "output_type": "stream",
       "stream": "stdout",
       "text": [
        "Indexing: \"Desulfobacterium_autotrophicum_HRM2\"\r\n"
       ]
      },
      {
       "output_type": "stream",
       "stream": "stdout",
       "text": [
        "Indexing: \"Shigella_dysenteriae_Sd197\"\r\n"
       ]
      },
      {
       "output_type": "stream",
       "stream": "stdout",
       "text": [
        "Indexing: \"Staphylococcus_carnosus_subsp_carnosus_TM300\"\r\n"
       ]
      },
      {
       "output_type": "stream",
       "stream": "stdout",
       "text": [
        "Indexing: \"Ureaplasma_parvum_serovar_3_str_ATCC_700970\"\r\n"
       ]
      },
      {
       "output_type": "stream",
       "stream": "stdout",
       "text": [
        "Indexing: \"Parvibaculum_lavamentivorans_DS-1\"\r\n"
       ]
      },
      {
       "output_type": "stream",
       "stream": "stdout",
       "text": [
        "Indexing: \"Mannheimia_haemolytica_USDA-ARS-USMARC-185\"\r\n"
       ]
      },
      {
       "output_type": "stream",
       "stream": "stdout",
       "text": [
        "Indexing: \"Wolbachia_endosymbiont_strain_TRS_of_Brugia_malayi\"\r\n"
       ]
      }
     ],
     "prompt_number": 283
    },
    {
     "cell_type": "code",
     "collapsed": false,
     "input": [],
     "language": "python",
     "metadata": {},
     "outputs": []
    },
    {
     "cell_type": "code",
     "collapsed": false,
     "input": [],
     "language": "python",
     "metadata": {},
     "outputs": []
    },
    {
     "cell_type": "code",
     "collapsed": false,
     "input": [],
     "language": "python",
     "metadata": {},
     "outputs": []
    },
    {
     "cell_type": "code",
     "collapsed": false,
     "input": [],
     "language": "python",
     "metadata": {},
     "outputs": []
    },
    {
     "cell_type": "markdown",
     "metadata": {},
     "source": [
      "# Simulating amplicon fragments & calculating GC"
     ]
    },
    {
     "cell_type": "markdown",
     "metadata": {},
     "source": [
      "## Determining how many reads to simulate\n",
      "\n",
      "* Going to simulate >=1X coverage for each genome (1X for largest genome)"
     ]
    },
    {
     "cell_type": "code",
     "collapsed": false,
     "input": [
      "# determining the largest genome\n",
      "!cd $workDir; \\\n",
      "    find genomes/ -name \"*fasta\" | \\\n",
      "    xargs -I % bash -c \"printf '%    '; NY_misc_perl contig_lengths %\" \\\n",
      "    > genomes/genome_lengths.txt"
     ],
     "language": "python",
     "metadata": {},
     "outputs": []
    },
    {
     "cell_type": "code",
     "collapsed": false,
     "input": [
      "# reading in list; combining lengths if multiple contigs\n",
      "inFile = \"genome_lengths.txt\"\n",
      "filePath = os.path.join(workDir, 'genomes', inFile)\n",
      "\n",
      "tbl = []\n",
      "with open(filePath, 'r') as inF:\n",
      "    lastTaxon = []\n",
      "    for line in inF.readlines():\n",
      "        line = line.rstrip().split('    ')\n",
      "        if len(line) == 2:\n",
      "            if len(lastTaxon) > 0:\n",
      "                tbl.append(lastTaxon)\n",
      "            lastTaxon = line\n",
      "        elif len(line) == 1:\n",
      "            lastTaxon[1] += line[0]\n",
      "        else:\n",
      "            raise IOError, \"Each line must have 1 or 2 columns!\"\n",
      "    else:\n",
      "        tbl.append(lastTaxon)"
     ],
     "language": "python",
     "metadata": {},
     "outputs": []
    },
    {
     "cell_type": "markdown",
     "metadata": {},
     "source": [
      "## Simulating genome fragments\n",
      "\n",
      "* simulating enough fragments for 50X coverage of each genome\n",
      "* using 'ideal' fragment length distribution\n",
      "  * skewed normal distribution; no fragments < 4kb"
     ]
    },
    {
     "cell_type": "code",
     "collapsed": false,
     "input": [
      "!cd $workDir; \\\n",
      "     $SIPSimExe fragGC genomes/genome_index.txt \\\n",
      "    --fp ./genomes/ \\\n",
      "    --fr 515Fm-927Rm.fna \\\n",
      "    --np 24 \\\n",
      "    --nf 50X \\\n",
      "    > genomeAll_ampFragGC_50X.txt"
     ],
     "language": "python",
     "metadata": {},
     "outputs": [
      {
       "output_type": "stream",
       "stream": "stdout",
       "text": [
        "Processing: \"Kangiella_koreensis_DSM_16069\"\r\n",
        "Processing: \"Polymorphum_gilvum_SL003B-26A1\"\r\n",
        "Processing: \"_Cellvibrio_gilvus_ATCC_13127\"\r\n",
        "Processing: \"Croceibacter_atlanticus_HTCC2559\"\r\n",
        "Processing: \"Sulfuricurvum_kujiense_DSM_16994\"\r\n",
        "Processing: \"Eubacterium_rectale_ATCC_33656\"\r\n",
        "Processing: \"Nocardia_nova_SH22a\"\r\n",
        "Processing: \"Gordonia_polyisoprenivorans_VH2\"\r\n",
        "Processing: \"Aeromonas_salmonicida_subsp_salmonicida_A449\"\r\n",
        "Processing: \"Thermodesulfobium_narugense_DSM_14796\"\r\n",
        "Processing: \"Brevibacillus_brevis_NBRC_100599\"\r\n",
        "Processing: \"Spiroplasma_culicicola_AES-1\"\r\n",
        "Processing: \"Isoptericola_variabilis_225\"\r\n",
        "Processing: \"Oscillibacter_valericigenes_Sjm18-20\"\r\n",
        "Processing: \"Desulfocapsa_sulfexigens_DSM_10523\"\r\n",
        "Processing: \"Planktomarina_temperata_RCA23\"\r\n",
        "Processing: \"Marinithermus_hydrothermalis_DSM_14884\"\r\n",
        "Processing: \"Desulfosporosinus_orientis_DSM_765\"\r\n",
        "Processing: \"Halobacillus_halophilus_DSM_2266\"\r\n",
        "Processing: \"Cronobacter_sakazakii_SP291\"\r\n",
        "Processing: \"Chromohalobacter_salexigens_DSM_3043\"\r\n",
        "Processing: \"Sulfurimonas_denitrificans_DSM_1251\"\r\n",
        "Processing: \"Desulfotomaculum_carboxydivorans_CO-1-SRB\"\r\n",
        "Processing: \"Candidatus_Portiera_aleyrodidarum_BT-QVLC\"\r\n"
       ]
      },
      {
       "output_type": "stream",
       "stream": "stdout",
       "text": [
        "  Genome name: Sulfuricurvum_kujiense_DSM_16994\r\n"
       ]
      },
      {
       "output_type": "stream",
       "stream": "stdout",
       "text": [
        "  Genome length (bp): 2574824\r\n",
        "  Number of amplicons: 0\r\n",
        "  Number of fragments simulated: 1\r\n",
        "Processing: \"Edwardsiella_ictaluri_93-146\"\r\n"
       ]
      },
      {
       "output_type": "stream",
       "stream": "stdout",
       "text": [
        "  Genome name: Sulfurimonas_denitrificans_DSM_1251\r\n",
        "  Genome length (bp): 2201561\r\n",
        "  Number of amplicons: 0\r\n",
        "  Number of fragments simulated: 1\r\n",
        "Processing: \"Acidovorax_citrulli_AAC00-1\"\r\n"
       ]
      },
      {
       "output_type": "stream",
       "stream": "stdout",
       "text": [
        "  Genome name: Candidatus_Portiera_aleyrodidarum_BT-QVLC\r\n",
        "  Genome length (bp): 350928\r\n",
        "  Number of amplicons: 1\r\n",
        "  Number of fragments simulated: 2431\r\n",
        "Processing: \"Bartonella_grahamii_as4aup\"\r\n"
       ]
      },
      {
       "output_type": "stream",
       "stream": "stdout",
       "text": [
        "  Genome name: Spiroplasma_culicicola_AES-1\r\n",
        "  Genome length (bp): 1175131\r\n",
        "  Number of amplicons: 1\r\n",
        "  Number of fragments simulated: 8125\r\n",
        "Processing: \"Mycoplasma_bovoculi_M165_69\"\r\n"
       ]
      },
      {
       "output_type": "stream",
       "stream": "stdout",
       "text": [
        "  Genome name: Thermodesulfobium_narugense_DSM_14796\r\n"
       ]
      },
      {
       "output_type": "stream",
       "stream": "stdout",
       "text": [
        "  Genome length (bp): 1898865\r\n",
        "  Number of amplicons: 2\r\n",
        "  Number of fragments simulated: 13118\r\n"
       ]
      },
      {
       "output_type": "stream",
       "stream": "stdout",
       "text": [
        "Processing: \"Clostridiales_genomosp_BVAB3_str_UPII9-5\"\r\n"
       ]
      },
      {
       "output_type": "stream",
       "stream": "stdout",
       "text": [
        "  Genome name: Mycoplasma_bovoculi_M165_69\r\n"
       ]
      },
      {
       "output_type": "stream",
       "stream": "stdout",
       "text": [
        "  Genome length (bp): 760240\r\n",
        "  Number of amplicons: 1\r\n",
        "  Number of fragments simulated: 5275\r\n"
       ]
      },
      {
       "output_type": "stream",
       "stream": "stdout",
       "text": [
        "Processing: \"Crinalium_epipsammum_PCC_9333\"\r\n"
       ]
      },
      {
       "output_type": "stream",
       "stream": "stdout",
       "text": [
        "  Genome name: Marinithermus_hydrothermalis_DSM_14884\r\n",
        "  Genome length (bp): 2269167\r\n",
        "  Number of amplicons: 3\r\n",
        "  Number of fragments simulated: 15708\r\n"
       ]
      },
      {
       "output_type": "stream",
       "stream": "stdout",
       "text": [
        "Processing: \"Herbaspirillum_seropedicae_SmR1\"\r\n"
       ]
      },
      {
       "output_type": "stream",
       "stream": "stdout",
       "text": [
        "  Genome name: Desulfotomaculum_carboxydivorans_CO-1-SRB\r\n"
       ]
      },
      {
       "output_type": "stream",
       "stream": "stdout",
       "text": [
        "  Genome length (bp): 2892255\r\n",
        "  Number of amplicons: 8\r\n",
        "  Number of fragments simulated: 20006\r\n",
        "  Genome name: Bartonella_grahamii_as4aup\r\n"
       ]
      },
      {
       "output_type": "stream",
       "stream": "stdout",
       "text": [
        "  Genome length (bp): 2341328\r\n",
        "  Number of amplicons: 2\r\n",
        "  Number of fragments simulated: 16192\r\n",
        "Processing: \"Shewanella_baltica_BA175\"\r\n"
       ]
      },
      {
       "output_type": "stream",
       "stream": "stdout",
       "text": [
        "Processing: \"Streptococcus_anginosus_C238\"\r\n"
       ]
      },
      {
       "output_type": "stream",
       "stream": "stdout",
       "text": [
        "  Genome name: Planktomarina_temperata_RCA23\r\n"
       ]
      },
      {
       "output_type": "stream",
       "stream": "stdout",
       "text": [
        "  Genome length (bp): 3288122\r\n",
        "  Number of amplicons: 2\r\n",
        "  Number of fragments simulated: 22743\r\n"
       ]
      },
      {
       "output_type": "stream",
       "stream": "stdout",
       "text": [
        "  Genome name: Isoptericola_variabilis_225\r\n"
       ]
      },
      {
       "output_type": "stream",
       "stream": "stdout",
       "text": [
        "Processing: \"Desulfosporosinus_acidiphilus_SJ4\"\r\n",
        "  Genome length (bp): 3307740\r\n",
        "  Number of amplicons: 3\r\n",
        "  Number of fragments simulated: 22873\r\n"
       ]
      },
      {
       "output_type": "stream",
       "stream": "stdout",
       "text": [
        "Processing: \"Thermincola_potens_JR\"\r\n"
       ]
      },
      {
       "output_type": "stream",
       "stream": "stdout",
       "text": [
        "  Genome name: Edwardsiella_ictaluri_93-146\r\n"
       ]
      },
      {
       "output_type": "stream",
       "stream": "stdout",
       "text": [
        "  Genome length (bp): 3812301\r\n",
        "  Number of amplicons: 8\r\n",
        "  Number of fragments simulated: 26372\r\n"
       ]
      },
      {
       "output_type": "stream",
       "stream": "stdout",
       "text": [
        "Processing: \"Serratia_symbiotica_str_Cinara_cedri\"\r\n"
       ]
      },
      {
       "output_type": "stream",
       "stream": "stdout",
       "text": [
        "  Genome name: Desulfocapsa_sulfexigens_DSM_10523\r\n",
        "  Genome length (bp): 3986761\r\n",
        "  Number of amplicons: 3\r\n",
        "  Number of fragments simulated: 27582\r\n"
       ]
      },
      {
       "output_type": "stream",
       "stream": "stdout",
       "text": [
        "  Genome name: Kangiella_koreensis_DSM_16069\r\n"
       ]
      },
      {
       "output_type": "stream",
       "stream": "stdout",
       "text": [
        "  Genome name: Clostridiales_genomosp_BVAB3_str_UPII9-5\r\n",
        "  Genome length (bp): 1809746\r\n",
        "  Number of amplicons: 2\r\n",
        "  Number of fragments simulated: 12551\r\n"
       ]
      },
      {
       "output_type": "stream",
       "stream": "stdout",
       "text": [
        "  Genome length (bp): 2852073\r\n",
        "  Number of amplicons: 2\r\n",
        "  Number of fragments simulated: 19728\r\n",
        "Processing: \"Caldicellulosiruptor_kristjanssonii_I77R1B\"\r\n"
       ]
      },
      {
       "output_type": "stream",
       "stream": "stdout",
       "text": [
        "Processing: \"Corynebacterium_casei_LMG_S-19264\"\r\n"
       ]
      },
      {
       "output_type": "stream",
       "stream": "stdout",
       "text": [
        "  Genome name: Croceibacter_atlanticus_HTCC2559\r\n",
        "Processing: \"Stackebrandtia_nassauensis_DSM_44728\"\r\n"
       ]
      },
      {
       "output_type": "stream",
       "stream": "stdout",
       "text": [
        "  Genome length (bp): 2952962\r\n",
        "  Number of amplicons: 2\r\n",
        "  Number of fragments simulated: 20433\r\n"
       ]
      },
      {
       "output_type": "stream",
       "stream": "stdout",
       "text": [
        "  Genome name: Cronobacter_sakazakii_SP291\r\n"
       ]
      },
      {
       "output_type": "stream",
       "stream": "stdout",
       "text": [
        "  Genome length (bp): 4344092\r\n",
        "  Number of amplicons: 7\r\n",
        "  Number of fragments simulated: 30002\r\n",
        "  Genome name: Oscillibacter_valericigenes_Sjm18-20\r\n"
       ]
      },
      {
       "output_type": "stream",
       "stream": "stdout",
       "text": [
        "Processing: \"Caldicellulosiruptor_saccharolyticus_DSM_8903\"\r\n",
        "  Genome length (bp): 4410036\r\n",
        "  Number of amplicons: 3\r\n",
        "  Number of fragments simulated: 30462\r\n"
       ]
      },
      {
       "output_type": "stream",
       "stream": "stdout",
       "text": [
        "Processing: \"Ignavibacterium_album_JCM_16511\"\r\n"
       ]
      },
      {
       "output_type": "stream",
       "stream": "stdout",
       "text": [
        "Processing: \"Mycoplasma_hyorhinis_MCLD\"\r\n",
        "  Genome name: Polymorphum_gilvum_SL003B-26A1\r\n"
       ]
      },
      {
       "output_type": "stream",
       "stream": "stdout",
       "text": [
        "  Genome name: _Cellvibrio_gilvus_ATCC_13127\r\n",
        "  Genome length (bp): 4649365\r\n",
        "  Number of amplicons: 2\r\n",
        "  Number of fragments simulated: 32139\r\n"
       ]
      },
      {
       "output_type": "stream",
       "stream": "stdout",
       "text": [
        "  Genome length (bp): 3526441\r\n",
        "  Number of amplicons: 2\r\n",
        "  Number of fragments simulated: 24382\r\n"
       ]
      },
      {
       "output_type": "stream",
       "stream": "stdout",
       "text": [
        "Processing: \"Pseudonocardia_dioxanivorans_CB1190\"\r\n"
       ]
      },
      {
       "output_type": "stream",
       "stream": "stdout",
       "text": [
        "  Genome name: Mycoplasma_hyorhinis_MCLD\r\n",
        "  Genome length (bp): 829709\r\n",
        "  Number of amplicons: 0\r\n",
        "  Number of fragments simulated: 1\r\n"
       ]
      },
      {
       "output_type": "stream",
       "stream": "stdout",
       "text": [
        "  Genome name: Eubacterium_rectale_ATCC_33656\r\n"
       ]
      },
      {
       "output_type": "stream",
       "stream": "stdout",
       "text": [
        "  Genome length (bp): 3449685\r\n",
        "  Number of amplicons: 5\r\n",
        "  Number of fragments simulated: 23847\r\n",
        "Processing: \"Haemophilus_somnus_129PT\"\r\n",
        "Processing: \"Pseudomonas_protegens_Cab57\"\r\n"
       ]
      },
      {
       "output_type": "stream",
       "stream": "stdout",
       "text": [
        "Processing: \"Granulicella_mallensis_MP5ACTX8\"\r\n"
       ]
      },
      {
       "output_type": "stream",
       "stream": "stdout",
       "text": [
        "  Genome name: Chromohalobacter_salexigens_DSM_3043\r\n"
       ]
      },
      {
       "output_type": "stream",
       "stream": "stdout",
       "text": [
        "  Genome length (bp): 3696649\r\n",
        "  Number of amplicons: 5\r\n",
        "  Number of fragments simulated: 25546\r\n"
       ]
      },
      {
       "output_type": "stream",
       "stream": "stdout",
       "text": [
        "Processing: \"Bifidobacterium_bifidum_PRL2010\"\r\n"
       ]
      },
      {
       "output_type": "stream",
       "stream": "stdout",
       "text": [
        "  Genome name: Streptococcus_anginosus_C238\r\n",
        "  Genome length (bp): 2233640\r\n",
        "  Number of amplicons: 4\r\n",
        "  Number of fragments simulated: 15429\r\n"
       ]
      },
      {
       "output_type": "stream",
       "stream": "stdout",
       "text": [
        "Processing: \"Vibrio_tasmaniensis_LGP32\"\r\n"
       ]
      },
      {
       "output_type": "stream",
       "stream": "stdout",
       "text": [
        "  Genome name: Halobacillus_halophilus_DSM_2266\r\n"
       ]
      },
      {
       "output_type": "stream",
       "stream": "stdout",
       "text": [
        "  Genome length (bp): 4150632\r\n",
        "  Number of amplicons: 7\r\n",
        "  Number of fragments simulated: 28720\r\n"
       ]
      },
      {
       "output_type": "stream",
       "stream": "stdout",
       "text": [
        "  Genome name: Serratia_symbiotica_str_Cinara_cedri\r\n",
        "  Genome length (bp): 1762765\r\n",
        "  Number of amplicons: 1\r\n",
        "  Number of fragments simulated: 12198\r\n"
       ]
      },
      {
       "output_type": "stream",
       "stream": "stdout",
       "text": [
        "  Genome name: Desulfosporosinus_orientis_DSM_765\r\n"
       ]
      },
      {
       "output_type": "stream",
       "stream": "stdout",
       "text": [
        "  Genome length (bp): 5863081\r\n",
        "  Number of amplicons: 8\r\n",
        "  Number of fragments simulated: 40533\r\n"
       ]
      },
      {
       "output_type": "stream",
       "stream": "stdout",
       "text": [
        "Processing: \"Kosmotoga_olearia_TBF_19_5_1\"\r\n"
       ]
      },
      {
       "output_type": "stream",
       "stream": "stdout",
       "text": [
        "Processing: \"Denitrovibrio_acetiphilus_DSM_12809\"\r\n"
       ]
      },
      {
       "output_type": "stream",
       "stream": "stdout",
       "text": [
        "  Genome name: Aeromonas_salmonicida_subsp_salmonicida_A449\r\n",
        "Processing: \"Listeria_ivanovii_subsp_ivanovii_PAM_55\"\r\n"
       ]
      },
      {
       "output_type": "stream",
       "stream": "stdout",
       "text": [
        "  Genome length (bp): 4702402\r\n",
        "  Number of amplicons: 9\r\n",
        "  Number of fragments simulated: 32496\r\n"
       ]
      },
      {
       "output_type": "stream",
       "stream": "stdout",
       "text": [
        "Processing: \"Clostridium_perfringens_str_13\"\r\n"
       ]
      },
      {
       "output_type": "stream",
       "stream": "stdout",
       "text": [
        "  Genome name: Brevibacillus_brevis_NBRC_100599\r\n"
       ]
      },
      {
       "output_type": "stream",
       "stream": "stdout",
       "text": [
        "  Genome length (bp): 6296436\r\n",
        "  Number of amplicons: 15\r\n",
        "  Number of fragments simulated: 43535\r\n"
       ]
      },
      {
       "output_type": "stream",
       "stream": "stdout",
       "text": [
        "Processing: \"Nocardia_farcinica_IFM_10152\"\r\n"
       ]
      },
      {
       "output_type": "stream",
       "stream": "stdout",
       "text": [
        "  Genome name: Thermincola_potens_JR\r\n",
        "  Genome length (bp): 3157416\r\n",
        "  Number of amplicons: 3\r\n",
        "  Number of fragments simulated: 21841\r\n"
       ]
      },
      {
       "output_type": "stream",
       "stream": "stdout",
       "text": [
        "Processing: \"Myxococcus_stipitatus_DSM_14675\"\r\n"
       ]
      },
      {
       "output_type": "stream",
       "stream": "stdout",
       "text": [
        "  Genome name: Caldicellulosiruptor_kristjanssonii_I77R1B\r\n",
        "  Genome length (bp): 2786473\r\n",
        "  Number of amplicons: 3\r\n",
        "  Number of fragments simulated: 19303\r\n",
        "  Genome name: Acidovorax_citrulli_AAC00-1\r\n"
       ]
      },
      {
       "output_type": "stream",
       "stream": "stdout",
       "text": [
        "Processing: \"Melissococcus_plutonius_DAT561\"\r\n"
       ]
      },
      {
       "output_type": "stream",
       "stream": "stdout",
       "text": [
        "  Genome length (bp): 5352772\r\n",
        "  Number of amplicons: 3\r\n",
        "  Number of fragments simulated: 37003\r\n"
       ]
      },
      {
       "output_type": "stream",
       "stream": "stdout",
       "text": [
        "Processing: \"Borrelia_garinii_PBi\"\r\n"
       ]
      },
      {
       "output_type": "stream",
       "stream": "stdout",
       "text": [
        "  Genome name: Haemophilus_somnus_129PT\r\n"
       ]
      },
      {
       "output_type": "stream",
       "stream": "stdout",
       "text": [
        "  Genome length (bp): 2007700\r\n",
        "  Number of amplicons: 5\r\n",
        "  Number of fragments simulated: 13898\r\n",
        "  Genome name: Crinalium_epipsammum_PCC_9333\r\n"
       ]
      },
      {
       "output_type": "stream",
       "stream": "stdout",
       "text": [
        "Processing: \"Rickettsia_typhi_str_Wilmington\"\r\n"
       ]
      },
      {
       "output_type": "stream",
       "stream": "stdout",
       "text": [
        "  Genome length (bp): 5315554\r\n",
        "  Number of amplicons: 4\r\n",
        "  Number of fragments simulated: 36741\r\n",
        "  Genome name: Gordonia_polyisoprenivorans_VH2\r\n"
       ]
      },
      {
       "output_type": "stream",
       "stream": "stdout",
       "text": [
        "  Genome length (bp): 5669805\r\n",
        "  Number of amplicons: 3\r\n",
        "  Number of fragments simulated: 39178\r\n"
       ]
      },
      {
       "output_type": "stream",
       "stream": "stdout",
       "text": [
        "Processing: \"Geobacillus_thermoleovorans_CCB_US3_UF5\"\r\n"
       ]
      },
      {
       "output_type": "stream",
       "stream": "stdout",
       "text": [
        "Processing: \"Lactobacillus_gasseri_ADH\"\r\n"
       ]
      },
      {
       "output_type": "stream",
       "stream": "stdout",
       "text": [
        "  Genome name: Corynebacterium_casei_LMG_S-19264\r\n"
       ]
      },
      {
       "output_type": "stream",
       "stream": "stdout",
       "text": [
        "  Genome name: Lactobacillus_gasseri_ADH\r\n",
        "  Genome length (bp): 38269\r\n",
        "  Number of amplicons: 0\r\n",
        "  Number of fragments simulated: 1\r\n",
        "Processing: \"Lactobacillus_fermentum_CECT_5716\"\r\n",
        "  Genome length (bp): 3113488\r\n",
        "  Number of amplicons: 4\r\n",
        "  Number of fragments simulated: 21541\r\n"
       ]
      },
      {
       "output_type": "stream",
       "stream": "stdout",
       "text": [
        "  Genome name: Ignavibacterium_album_JCM_16511\r\n"
       ]
      },
      {
       "output_type": "stream",
       "stream": "stdout",
       "text": [
        "  Genome length (bp): 3658997\r\n",
        "  Number of amplicons: 1\r\n",
        "  Number of fragments simulated: 25278\r\n"
       ]
      },
      {
       "output_type": "stream",
       "stream": "stdout",
       "text": [
        "Processing: \"Halomonas_elongata_DSM_2581\"\r\n"
       ]
      },
      {
       "output_type": "stream",
       "stream": "stdout",
       "text": [
        "Processing: \"Edwardsiella_piscicida_C07-087\"\r\n"
       ]
      },
      {
       "output_type": "stream",
       "stream": "stdout",
       "text": [
        "  Genome name: Bifidobacterium_bifidum_PRL2010\r\n",
        "  Genome length (bp): 2214656\r\n",
        "  Number of amplicons: 3\r\n",
        "  Number of fragments simulated: 15306\r\n"
       ]
      },
      {
       "output_type": "stream",
       "stream": "stdout",
       "text": [
        "Processing: \"Leptospira_borgpetersenii_serovar_Hardjo-bovis_str_L550\"\r\n"
       ]
      },
      {
       "output_type": "stream",
       "stream": "stdout",
       "text": [
        "  Genome name: Caldicellulosiruptor_saccharolyticus_DSM_8903\r\n"
       ]
      },
      {
       "output_type": "stream",
       "stream": "stdout",
       "text": [
        "  Genome length (bp): 2970275\r\n",
        "  Number of amplicons: 3\r\n",
        "  Number of fragments simulated: 20578\r\n"
       ]
      },
      {
       "output_type": "stream",
       "stream": "stdout",
       "text": [
        "Processing: \"Nocardiopsis_alba_ATCC_BAA-2165\"\r\n"
       ]
      },
      {
       "output_type": "stream",
       "stream": "stdout",
       "text": [
        "  Genome name: Borrelia_garinii_PBi\r\n",
        "  Genome length (bp): 904246\r\n",
        "  Number of amplicons: 1\r\n",
        "  Number of fragments simulated: 6256\r\n"
       ]
      },
      {
       "output_type": "stream",
       "stream": "stdout",
       "text": [
        "  Genome name: Herbaspirillum_seropedicae_SmR1\r\n",
        "Processing: \"Propionibacterium_avidum_44067\"\r\n"
       ]
      },
      {
       "output_type": "stream",
       "stream": "stdout",
       "text": [
        "  Genome length (bp): 5513887\r\n",
        "  Number of amplicons: 3\r\n",
        "  Number of fragments simulated: 38084\r\n"
       ]
      },
      {
       "output_type": "stream",
       "stream": "stdout",
       "text": [
        "  Genome name: Listeria_ivanovii_subsp_ivanovii_PAM_55\r\n",
        "  Genome length (bp): 2928879\r\n",
        "  Number of amplicons: 6\r\n",
        "  Number of fragments simulated: 20244\r\n"
       ]
      },
      {
       "output_type": "stream",
       "stream": "stdout",
       "text": [
        "  Genome name: Denitrovibrio_acetiphilus_DSM_12809\r\n",
        "  Genome name: Melissococcus_plutonius_DAT561\r\n",
        "  Genome name: Rickettsia_typhi_str_Wilmington\r\n",
        "  Genome length (bp): 3222077\r\n",
        "  Number of amplicons: 2\r\n",
        "  Number of fragments simulated: 22303\r\n",
        "  Genome length (bp): 1846178\r\n",
        "  Number of amplicons: 4\r\n",
        "  Number of fragments simulated: 12771\r\n"
       ]
      },
      {
       "output_type": "stream",
       "stream": "stdout",
       "text": [
        "  Genome length (bp): 1111496\r\n",
        "  Number of amplicons: 1\r\n",
        "  Number of fragments simulated: 7701\r\n",
        "  Genome name: Kosmotoga_olearia_TBF_19_5_1\r\n"
       ]
      },
      {
       "output_type": "stream",
       "stream": "stdout",
       "text": [
        "  Genome length (bp): 2302126\r\n",
        "  Number of amplicons: 2\r\n",
        "  Number of fragments simulated: 15914\r\n",
        "Processing: \"Anaplasma_centrale_str_Israel\"\r\n"
       ]
      },
      {
       "output_type": "stream",
       "stream": "stdout",
       "text": [
        "Processing: \"Rickettsia_australis_str_Cutlack\"\r\n"
       ]
      },
      {
       "output_type": "stream",
       "stream": "stdout",
       "text": [
        "Processing: \"Sulfurihydrogenibium_azorense_Az-Fu1\"\r\n",
        "Processing: \"Salmonella_enterica_subsp_arizonae_serovar_62_z4,z23_-\"\r\n"
       ]
      },
      {
       "output_type": "stream",
       "stream": "stdout",
       "text": [
        "Processing: \"Alicyclobacillus_acidocaldarius_subsp_acidocaldarius_DSM_446\"\r\n"
       ]
      },
      {
       "output_type": "stream",
       "stream": "stdout",
       "text": [
        "  Genome name: Clostridium_perfringens_str_13\r\n"
       ]
      },
      {
       "output_type": "stream",
       "stream": "stdout",
       "text": [
        "  Genome length (bp): 3031430\r\n",
        "  Number of amplicons: 9\r\n",
        "  Number of fragments simulated: 20959\r\n"
       ]
      },
      {
       "output_type": "stream",
       "stream": "stdout",
       "text": [
        "Processing: \"Campylobacter_lari_RM16712\"\r\n"
       ]
      },
      {
       "output_type": "stream",
       "stream": "stdout",
       "text": [
        "Processing: \"Dyadobacter_fermentans_DSM_18053\"\r\n"
       ]
      },
      {
       "output_type": "stream",
       "stream": "stdout",
       "text": [
        "  Genome name: Desulfosporosinus_acidiphilus_SJ4\r\n"
       ]
      },
      {
       "output_type": "stream",
       "stream": "stdout",
       "text": [
        "  Genome name: Campylobacter_lari_RM16712\r\n"
       ]
      },
      {
       "output_type": "stream",
       "stream": "stdout",
       "text": [
        "  Genome length (bp): 1565009\r\n",
        "  Number of amplicons: 0\r\n",
        "  Number of fragments simulated: 1\r\n",
        "Processing: \"Oceanithermus_profundus_DSM_14977\"\r\n",
        "  Genome length (bp): 4926837\r\n",
        "  Number of amplicons: 9\r\n",
        "  Number of fragments simulated: 34053\r\n"
       ]
      },
      {
       "output_type": "stream",
       "stream": "stdout",
       "text": [
        "Processing: \"Bifidobacterium_dentium_Bd1\"\r\n"
       ]
      },
      {
       "output_type": "stream",
       "stream": "stdout",
       "text": [
        "  Genome name: Shewanella_baltica_BA175\r\n"
       ]
      },
      {
       "output_type": "stream",
       "stream": "stdout",
       "text": [
        "  Genome length (bp): 5066051\r\n",
        "  Number of amplicons: 10\r\n",
        "  Number of fragments simulated: 35000\r\n"
       ]
      },
      {
       "output_type": "stream",
       "stream": "stdout",
       "text": [
        "Processing: \"Dehalogenimonas_lykanthroporepellens_BL-DC-9\"\r\n"
       ]
      },
      {
       "output_type": "stream",
       "stream": "stdout",
       "text": [
        "  Genome name: Rickettsia_australis_str_Cutlack\r\n"
       ]
      },
      {
       "output_type": "stream",
       "stream": "stdout",
       "text": [
        "  Genome length (bp): 1296670\r\n",
        "  Number of amplicons: 1\r\n",
        "  Number of fragments simulated: 8969\r\n",
        "Processing: \"Granulicella_tundricola_MP5ACTX9\"\r\n"
       ]
      },
      {
       "output_type": "stream",
       "stream": "stdout",
       "text": [
        "  Genome name: Anaplasma_centrale_str_Israel\r\n",
        "  Genome length (bp): 1206806\r\n",
        "  Number of amplicons: 1\r\n",
        "  Number of fragments simulated: 8333\r\n",
        "  Genome name: Vibrio_tasmaniensis_LGP32\r\n"
       ]
      },
      {
       "output_type": "stream",
       "stream": "stdout",
       "text": [
        "Processing: \"Candidatus_Zinderia_insecticola_CARI\"\r\n"
       ]
      },
      {
       "output_type": "stream",
       "stream": "stdout",
       "text": [
        "  Genome length (bp): 4974818\r\n",
        "  Number of amplicons: 8\r\n",
        "  Number of fragments simulated: 34344\r\n"
       ]
      },
      {
       "output_type": "stream",
       "stream": "stdout",
       "text": [
        "  Genome name: Lactobacillus_fermentum_CECT_5716\r\n",
        "Processing: \"Desulfovibrio_africanus_str_Walvis_Bay\"\r\n"
       ]
      },
      {
       "output_type": "stream",
       "stream": "stdout",
       "text": [
        "  Genome length (bp): 2100449\r\n",
        "  Number of amplicons: 5\r\n",
        "  Number of fragments simulated: 14530\r\n"
       ]
      },
      {
       "output_type": "stream",
       "stream": "stdout",
       "text": [
        "  Genome name: Nocardia_nova_SH22a\r\n",
        "Processing: \"Bradyrhizobium_diazoefficiens_USDA_110\"\r\n"
       ]
      },
      {
       "output_type": "stream",
       "stream": "stdout",
       "text": [
        "  Genome name: Sulfurihydrogenibium_azorense_Az-Fu1\r\n",
        "  Genome length (bp): 1640877\r\n",
        "  Number of amplicons: 2\r\n",
        "  Number of fragments simulated: 11341\r\n"
       ]
      },
      {
       "output_type": "stream",
       "stream": "stdout",
       "text": [
        "  Genome name: Geobacillus_thermoleovorans_CCB_US3_UF5\r\n",
        "  Genome length (bp): 8348532\r\n",
        "  Number of amplicons: 3\r\n",
        "  Number of fragments simulated: 57750\r\n"
       ]
      },
      {
       "output_type": "stream",
       "stream": "stdout",
       "text": [
        "Processing: \"Ilumatobacter_coccineus_YM16-304\"\r\n",
        "  Genome length (bp): 3596620\r\n",
        "  Number of amplicons: 9\r\n",
        "  Number of fragments simulated: 24825\r\n"
       ]
      },
      {
       "output_type": "stream",
       "stream": "stdout",
       "text": [
        "  Genome name: Candidatus_Zinderia_insecticola_CARI\r\n",
        "  Genome length (bp): 208564\r\n",
        "  Number of amplicons: 1\r\n",
        "  Number of fragments simulated: 1441\r\n"
       ]
      },
      {
       "output_type": "stream",
       "stream": "stdout",
       "text": [
        "  Genome name: Pseudomonas_protegens_Cab57\r\n"
       ]
      },
      {
       "output_type": "stream",
       "stream": "stdout",
       "text": [
        "  Genome length (bp): 6827892\r\n",
        "  Number of amplicons: 5\r\n",
        "  Number of fragments simulated: 47214\r\n"
       ]
      },
      {
       "output_type": "stream",
       "stream": "stdout",
       "text": [
        "Processing: \"Capnocytophaga_canimorsus_Cc5\"\r\n"
       ]
      },
      {
       "output_type": "stream",
       "stream": "stdout",
       "text": [
        "  Genome name: Pseudonocardia_dioxanivorans_CB1190\r\n"
       ]
      },
      {
       "output_type": "stream",
       "stream": "stdout",
       "text": [
        "Processing: \"Lysinibacillus_sphaericus_C3-41\"\r\n",
        "  Genome length (bp): 7096571\r\n",
        "  Number of amplicons: 3\r\n",
        "  Number of fragments simulated: 49087\r\n"
       ]
      },
      {
       "output_type": "stream",
       "stream": "stdout",
       "text": [
        "Processing: \"Mycoplasma_hyopneumoniae_168-L\"\r\n"
       ]
      },
      {
       "output_type": "stream",
       "stream": "stdout",
       "text": [
        "Processing: \"Aeromonas_veronii_B565\"\r\n"
       ]
      },
      {
       "output_type": "stream",
       "stream": "stdout",
       "text": [
        "  Genome name: Edwardsiella_piscicida_C07-087\r\n"
       ]
      },
      {
       "output_type": "stream",
       "stream": "stdout",
       "text": [
        "  Genome length (bp): 3857040\r\n",
        "  Number of amplicons: 8\r\n",
        "  Number of fragments simulated: 26669\r\n"
       ]
      },
      {
       "output_type": "stream",
       "stream": "stdout",
       "text": [
        "Processing: \"Thermus_thermophilus_SG0_5JP17-16\"\r\n"
       ]
      },
      {
       "output_type": "stream",
       "stream": "stdout",
       "text": [
        "Processing: \"Cronobacter_turicensis_z3032\"\r\n"
       ]
      },
      {
       "output_type": "stream",
       "stream": "stdout",
       "text": [
        "  Genome name: Halomonas_elongata_DSM_2581\r\n",
        "  Genome name: Alicyclobacillus_acidocaldarius_subsp_acidocaldarius_DSM_446\r\n"
       ]
      },
      {
       "output_type": "stream",
       "stream": "stdout",
       "text": [
        "  Genome length (bp): 3018755\r\n",
        "  Number of amplicons: 6\r\n",
        "  Number of fragments simulated: 20855\r\n",
        "  Genome name: Propionibacterium_avidum_44067\r\n",
        "  Genome length (bp): 4061296\r\n",
        "  Number of amplicons: 4\r\n",
        "  Number of fragments simulated: 28075\r\n"
       ]
      },
      {
       "output_type": "stream",
       "stream": "stdout",
       "text": [
        "  Genome length (bp): 2526138\r\n",
        "  Number of amplicons: 3\r\n",
        "  Number of fragments simulated: 17466\r\n",
        "Processing: \"Candidatus_Carsonella_ruddii_CS_isolate_Thao2000\"\r\n"
       ]
      },
      {
       "output_type": "stream",
       "stream": "stdout",
       "text": [
        "  Genome name: Dehalogenimonas_lykanthroporepellens_BL-DC-9\r\n"
       ]
      },
      {
       "output_type": "stream",
       "stream": "stdout",
       "text": [
        "  Genome length (bp): 1686510\r\n",
        "  Number of amplicons: 1\r\n",
        "  Number of fragments simulated: 11656\r\n",
        "Processing: \"Kocuria_rhizophila_DC2201\"\r\n"
       ]
      },
      {
       "output_type": "stream",
       "stream": "stdout",
       "text": [
        "  Genome name: Nocardia_farcinica_IFM_10152\r\n"
       ]
      },
      {
       "output_type": "stream",
       "stream": "stdout",
       "text": [
        "Processing: \"Azotobacter_vinelandii_CA\"\r\n",
        "  Genome length (bp): 6021225\r\n",
        "  Number of amplicons: 3\r\n",
        "  Number of fragments simulated: 41597\r\n",
        "  Genome name: Candidatus_Carsonella_ruddii_CS_isolate_Thao2000\r\n",
        "  Genome length (bp): 162504\r\n",
        "  Number of amplicons: 1\r\n",
        "  Number of fragments simulated: 1131\r\n"
       ]
      },
      {
       "output_type": "stream",
       "stream": "stdout",
       "text": [
        "Processing: \"Thermodesulfovibrio_yellowstonii_DSM_11347\"\r\n"
       ]
      },
      {
       "output_type": "stream",
       "stream": "stdout",
       "text": [
        "  Genome name: Bifidobacterium_dentium_Bd1\r\n"
       ]
      },
      {
       "output_type": "stream",
       "stream": "stdout",
       "text": [
        "  Genome length (bp): 2636367\r\n",
        "  Number of amplicons: 4\r\n",
        "  Number of fragments simulated: 18212\r\n"
       ]
      },
      {
       "output_type": "stream",
       "stream": "stdout",
       "text": [
        "Processing: \"Desulfovibrio_magneticus_RS-1\"\r\n",
        "Processing: \"Rhodoferax_ferrireducens_T118\"\r\n"
       ]
      },
      {
       "output_type": "stream",
       "stream": "stdout",
       "text": [
        "Processing: \"Vibrio_parahaemolyticus_O1_Kuk_str_FDA_R31\"\r\n"
       ]
      },
      {
       "output_type": "stream",
       "stream": "stdout",
       "text": [
        "  Genome name: Granulicella_mallensis_MP5ACTX8\r\n"
       ]
      },
      {
       "output_type": "stream",
       "stream": "stdout",
       "text": [
        "  Genome name: Oceanithermus_profundus_DSM_14977\r\n",
        "  Genome length (bp): 6237577\r\n",
        "  Number of amplicons: 1\r\n",
        "  Number of fragments simulated: 43103\r\n",
        "  Genome name: Mycoplasma_hyopneumoniae_168-L\r\n"
       ]
      },
      {
       "output_type": "stream",
       "stream": "stdout",
       "text": [
        "  Genome length (bp): 2303940\r\n",
        "  Number of amplicons: 2\r\n",
        "  Number of fragments simulated: 15954\r\n",
        "  Genome length (bp): 921093\r\n",
        "  Number of amplicons: 1\r\n",
        "  Number of fragments simulated: 6354\r\n"
       ]
      },
      {
       "output_type": "stream",
       "stream": "stdout",
       "text": [
        "Processing: \"Vibrio_furnissii_NCTC_11218\"\r\n"
       ]
      },
      {
       "output_type": "stream",
       "stream": "stdout",
       "text": [
        "  Genome name: Stackebrandtia_nassauensis_DSM_44728\r\n"
       ]
      },
      {
       "output_type": "stream",
       "stream": "stdout",
       "text": [
        "  Genome length (bp): 6841557\r\n",
        "  Number of amplicons: 2\r\n",
        "  Number of fragments simulated: 47318\r\n",
        "Processing: \"Cardinium_endosymbiont_cEper1_of_Encarsia_pergandiella\"\r\n"
       ]
      },
      {
       "output_type": "stream",
       "stream": "stdout",
       "text": [
        "Processing: \"Staphylococcus_haemolyticus_JCSC1435\"\r\n"
       ]
      },
      {
       "output_type": "stream",
       "stream": "stdout",
       "text": [
        "Processing: \"Candidatus_Solibacter_usitatus_Ellin6076\"\r\n"
       ]
      },
      {
       "output_type": "stream",
       "stream": "stdout",
       "text": [
        "  Genome name: Thermus_thermophilus_SG0_5JP17-16\r\n"
       ]
      },
      {
       "output_type": "stream",
       "stream": "stdout",
       "text": [
        "  Genome length (bp): 1863201\r\n",
        "  Number of amplicons: 2\r\n",
        "  Number of fragments simulated: 12883\r\n"
       ]
      },
      {
       "output_type": "stream",
       "stream": "stdout",
       "text": [
        "Processing: \"Cyanobacterium_stanieri_PCC_7202\"\r\n"
       ]
      },
      {
       "output_type": "stream",
       "stream": "stdout",
       "text": [
        "  Genome name: Cardinium_endosymbiont_cEper1_of_Encarsia_pergandiella\r\n",
        "  Genome length (bp): 887130\r\n",
        "  Number of amplicons: 1\r\n",
        "  Number of fragments simulated: 6122\r\n"
       ]
      },
      {
       "output_type": "stream",
       "stream": "stdout",
       "text": [
        "Processing: \"Clostridium_cellulovorans_743B\"\r\n"
       ]
      },
      {
       "output_type": "stream",
       "stream": "stdout",
       "text": [
        "  Genome name: Granulicella_tundricola_MP5ACTX9\r\n"
       ]
      },
      {
       "output_type": "stream",
       "stream": "stdout",
       "text": [
        "  Genome length (bp): 4309153\r\n",
        "  Number of amplicons: 1\r\n",
        "  Number of fragments simulated: 29762\r\n"
       ]
      },
      {
       "output_type": "stream",
       "stream": "stdout",
       "text": [
        "  Genome name: Thermodesulfovibrio_yellowstonii_DSM_11347\r\n"
       ]
      },
      {
       "output_type": "stream",
       "stream": "stdout",
       "text": [
        "  Genome length (bp): 2003803\r\n",
        "  Number of amplicons: 1\r\n",
        "  Number of fragments simulated: 13890\r\n",
        "Processing: \"Lactobacillus_ruminis_ATCC_27782\"\r\n"
       ]
      },
      {
       "output_type": "stream",
       "stream": "stdout",
       "text": [
        "Processing: \"Mycobacterium_africanum_GM041182\"\r\n",
        "  Genome name: Desulfovibrio_africanus_str_Walvis_Bay\r\n"
       ]
      },
      {
       "output_type": "stream",
       "stream": "stdout",
       "text": [
        "  Genome length (bp): 4200534\r\n",
        "  Number of amplicons: 3\r\n",
        "  Number of fragments simulated: 29018\r\n"
       ]
      },
      {
       "output_type": "stream",
       "stream": "stdout",
       "text": [
        "Processing: \"Tropheryma_whipplei_str_Twist\"\r\n"
       ]
      },
      {
       "output_type": "stream",
       "stream": "stdout",
       "text": [
        "  Genome name: Capnocytophaga_canimorsus_Cc5\r\n",
        "  Genome name: Kocuria_rhizophila_DC2201\r\n"
       ]
      },
      {
       "output_type": "stream",
       "stream": "stdout",
       "text": [
        "  Genome length (bp): 2571406\r\n",
        "  Number of amplicons: 3\r\n",
        "  Number of fragments simulated: 17766\r\n",
        "  Genome length (bp): 2697540\r\n",
        "  Number of amplicons: 3\r\n",
        "  Number of fragments simulated: 18622\r\n"
       ]
      },
      {
       "output_type": "stream",
       "stream": "stdout",
       "text": [
        "Processing: \"Candidatus_Chloracidobacterium_thermophilum_B\"\r\n"
       ]
      },
      {
       "output_type": "stream",
       "stream": "stdout",
       "text": [
        "Processing: \"Nakamurella_multipartita_DSM_44233\"\r\n"
       ]
      },
      {
       "output_type": "stream",
       "stream": "stdout",
       "text": [
        "  Genome name: Salmonella_enterica_subsp_arizonae_serovar_62_z4,z23_-\r\n"
       ]
      },
      {
       "output_type": "stream",
       "stream": "stdout",
       "text": [
        "  Genome length (bp): 4600800\r\n",
        "  Number of amplicons: 7\r\n",
        "  Number of fragments simulated: 31744\r\n"
       ]
      },
      {
       "output_type": "stream",
       "stream": "stdout",
       "text": [
        "  Genome name: Leptospira_borgpetersenii_serovar_Hardjo-bovis_str_L550\r\n"
       ]
      },
      {
       "output_type": "stream",
       "stream": "stdout",
       "text": [
        "  Genome name: Ilumatobacter_coccineus_YM16-304\r\n",
        "Processing: \"Bacillus_infantis_NRRL_B-14911\"\r\n"
       ]
      },
      {
       "output_type": "stream",
       "stream": "stdout",
       "text": [
        "  Genome length (bp): 3931782\r\n",
        "  Number of amplicons: 2\r\n",
        "  Number of fragments simulated: 27213\r\n"
       ]
      },
      {
       "output_type": "stream",
       "stream": "stdout",
       "text": [
        "  Genome length (bp): 4830181\r\n",
        "  Number of amplicons: 2\r\n",
        "  Number of fragments simulated: 33319\r\n"
       ]
      },
      {
       "output_type": "stream",
       "stream": "stdout",
       "text": [
        "Processing: \"Fimbriimonas_ginsengisoli_Gsoil_348\"\r\n",
        "  Genome name: Lysinibacillus_sphaericus_C3-41\r\n"
       ]
      },
      {
       "output_type": "stream",
       "stream": "stdout",
       "text": [
        "  Genome length (bp): 4639821\r\n",
        "  Number of amplicons: 10\r\n",
        "  Number of fragments simulated: 32021\r\n",
        "  Genome name: Tropheryma_whipplei_str_Twist\r\n",
        "  Genome length (bp): 927303\r\n",
        "  Number of amplicons: 1\r\n",
        "  Number of fragments simulated: 6422\r\n"
       ]
      },
      {
       "output_type": "stream",
       "stream": "stdout",
       "text": [
        "Processing: \"Clostridium_lentocellum_DSM_5427\"\r\n"
       ]
      },
      {
       "output_type": "stream",
       "stream": "stdout",
       "text": [
        "  Genome name: Nocardiopsis_alba_ATCC_BAA-2165\r\n",
        "  Genome name: Staphylococcus_haemolyticus_JCSC1435\r\n"
       ]
      },
      {
       "output_type": "stream",
       "stream": "stdout",
       "text": [
        "  Genome name: Aeromonas_veronii_B565\r\n",
        "Processing: \"Aromatoleum_aromaticum_EbN1\"\r\n",
        "  Genome length (bp): 2685015\r\n",
        "  Number of amplicons: 5\r\n",
        "  Number of fragments simulated: 18530\r\n"
       ]
      },
      {
       "output_type": "stream",
       "stream": "stdout",
       "text": [
        "  Genome length (bp): 4551783\r\n",
        "  Number of amplicons: 10\r\n",
        "  Number of fragments simulated: 31408\r\n",
        "Processing: \"Cellulophaga_algicola_DSM_14237\"\r\n",
        "  Genome length (bp): 5848211\r\n",
        "  Number of amplicons: 5\r\n",
        "  Number of fragments simulated: 40421\r\n"
       ]
      },
      {
       "output_type": "stream",
       "stream": "stdout",
       "text": [
        "Processing: \"Bibersteinia_trehalosi_USDA-ARS-USMARC-189\"\r\n"
       ]
      },
      {
       "output_type": "stream",
       "stream": "stdout",
       "text": [
        "  Genome name: Cronobacter_turicensis_z3032\r\n"
       ]
      },
      {
       "output_type": "stream",
       "stream": "stdout",
       "text": [
        "Processing: \"Beijerinckia_indica_subsp_indica_ATCC_9039\"\r\n",
        "  Genome length (bp): 4384463\r\n",
        "  Number of amplicons: 7\r\n",
        "  Number of fragments simulated: 30267\r\n"
       ]
      },
      {
       "output_type": "stream",
       "stream": "stdout",
       "text": [
        "Processing: \"Marivirga_tractuosa_DSM_4126\"\r\n"
       ]
      },
      {
       "output_type": "stream",
       "stream": "stdout",
       "text": [
        "  Genome name: Myxococcus_stipitatus_DSM_14675\r\n"
       ]
      },
      {
       "output_type": "stream",
       "stream": "stdout",
       "text": [
        "  Genome length (bp): 10350586\r\n",
        "  Number of amplicons: 3\r\n",
        "  Number of fragments simulated: 71540\r\n",
        "Processing: \"Citrobacter_freundii_CFNIH1\"\r\n"
       ]
      },
      {
       "output_type": "stream",
       "stream": "stdout",
       "text": [
        "  Genome name: Lactobacillus_ruminis_ATCC_27782\r\n"
       ]
      },
      {
       "output_type": "stream",
       "stream": "stdout",
       "text": [
        "  Genome length (bp): 2066652\r\n",
        "  Number of amplicons: 6\r\n",
        "  Number of fragments simulated: 14315\r\n"
       ]
      },
      {
       "output_type": "stream",
       "stream": "stdout",
       "text": [
        "  Genome name: Cyanobacterium_stanieri_PCC_7202\r\n"
       ]
      },
      {
       "output_type": "stream",
       "stream": "stdout",
       "text": [
        "  Genome length (bp): 3163381\r\n",
        "  Number of amplicons: 3\r\n",
        "  Number of fragments simulated: 21879\r\n"
       ]
      },
      {
       "output_type": "stream",
       "stream": "stdout",
       "text": [
        "Processing: \"Pelotomaculum_thermopropionicum_SI\"\r\n"
       ]
      },
      {
       "output_type": "stream",
       "stream": "stdout",
       "text": [
        "Processing: \"Thermoanaerobacter_brockii_subsp_finnii_Ako-1\"\r\n"
       ]
      },
      {
       "output_type": "stream",
       "stream": "stdout",
       "text": [
        "Processing: \"Desulfitobacterium_hafniense_DCB-2\"\r\n"
       ]
      },
      {
       "output_type": "stream",
       "stream": "stdout",
       "text": [
        "  Genome name: Azotobacter_vinelandii_CA\r\n"
       ]
      },
      {
       "output_type": "stream",
       "stream": "stdout",
       "text": [
        "  Genome name: Dyadobacter_fermentans_DSM_18053\r\n",
        "  Genome length (bp): 5366370\r\n",
        "  Number of amplicons: 6\r\n",
        "  Number of fragments simulated: 37068\r\n"
       ]
      },
      {
       "output_type": "stream",
       "stream": "stdout",
       "text": [
        "  Genome length (bp): 6967790\r\n",
        "  Number of amplicons: 4\r\n",
        "  Number of fragments simulated: 48163\r\n"
       ]
      },
      {
       "output_type": "stream",
       "stream": "stdout",
       "text": [
        "Processing: \"Streptomyces_collinus_Tu_365\"\r\n"
       ]
      },
      {
       "output_type": "stream",
       "stream": "stdout",
       "text": [
        "  Genome name: Vibrio_parahaemolyticus_O1_Kuk_str_FDA_R31\r\n"
       ]
      },
      {
       "output_type": "stream",
       "stream": "stdout",
       "text": [
        "  Genome length (bp): 5223562\r\n",
        "  Number of amplicons: 12\r\n",
        "  Number of fragments simulated: 36155\r\n"
       ]
      },
      {
       "output_type": "stream",
       "stream": "stdout",
       "text": [
        "Processing: \"Chlamydophila_abortus_S26_3\"\r\n"
       ]
      },
      {
       "output_type": "stream",
       "stream": "stdout",
       "text": [
        "  Genome name: Chlamydophila_abortus_S26_3\r\n",
        "  Genome length (bp): 1144377\r\n",
        "  Number of amplicons: 0\r\n",
        "  Number of fragments simulated: 1\r\n"
       ]
      },
      {
       "output_type": "stream",
       "stream": "stdout",
       "text": [
        "Processing: \"Mycoplasma_californicum_HAZ160_1\"\r\n",
        "Processing: \"Lactobacillus_sanfranciscensis_TMW_1_1304\"\r\n"
       ]
      },
      {
       "output_type": "stream",
       "stream": "stdout",
       "text": [
        "  Genome name: Desulfovibrio_magneticus_RS-1\r\n"
       ]
      },
      {
       "output_type": "stream",
       "stream": "stdout",
       "text": [
        "  Genome length (bp): 5248049\r\n",
        "  Number of amplicons: 3\r\n",
        "  Number of fragments simulated: 36293\r\n"
       ]
      },
      {
       "output_type": "stream",
       "stream": "stdout",
       "text": [
        "  Genome name: Rhodoferax_ferrireducens_T118\r\n"
       ]
      },
      {
       "output_type": "stream",
       "stream": "stdout",
       "text": [
        "Processing: \"Vibrio_tubiashii_ATCC_19109\"\r\n"
       ]
      },
      {
       "output_type": "stream",
       "stream": "stdout",
       "text": [
        "  Genome length (bp): 4712337\r\n",
        "  Number of amplicons: 2\r\n",
        "  Number of fragments simulated: 32525\r\n"
       ]
      },
      {
       "output_type": "stream",
       "stream": "stdout",
       "text": [
        "Processing: \"Geobacillus_thermoglucosidasius_C56-YS93\"\r\n"
       ]
      },
      {
       "output_type": "stream",
       "stream": "stdout",
       "text": [
        "  Genome name: Bibersteinia_trehalosi_USDA-ARS-USMARC-189\r\n"
       ]
      },
      {
       "output_type": "stream",
       "stream": "stdout",
       "text": [
        "  Genome length (bp): 2454127\r\n",
        "  Number of amplicons: 6\r\n",
        "  Number of fragments simulated: 16949\r\n"
       ]
      },
      {
       "output_type": "stream",
       "stream": "stdout",
       "text": [
        "Processing: \"Borrelia_burgdorferi_CA382\"\r\n"
       ]
      },
      {
       "output_type": "stream",
       "stream": "stdout",
       "text": [
        "  Genome name: Mycoplasma_californicum_HAZ160_1\r\n",
        "  Genome length (bp): 799088\r\n",
        "  Number of amplicons: 2\r\n",
        "  Number of fragments simulated: 5526\r\n",
        "Processing: \"Mycoplasma_penetrans_HF-2\"\r\n"
       ]
      },
      {
       "output_type": "stream",
       "stream": "stdout",
       "text": [
        "  Genome name: Pelotomaculum_thermopropionicum_SI\r\n"
       ]
      },
      {
       "output_type": "stream",
       "stream": "stdout",
       "text": [
        "  Genome length (bp): 3025375\r\n",
        "  Number of amplicons: 2\r\n",
        "  Number of fragments simulated: 20912\r\n"
       ]
      },
      {
       "output_type": "stream",
       "stream": "stdout",
       "text": [
        "  Genome name: Mycobacterium_africanum_GM041182\r\n",
        "Processing: \"Mycoplasma_crocodyli_MP145\"\r\n"
       ]
      },
      {
       "output_type": "stream",
       "stream": "stdout",
       "text": [
        "  Genome length (bp): 4389314\r\n",
        "  Number of amplicons: 1\r\n",
        "  Number of fragments simulated: 30306\r\n",
        "  Genome name: Mycoplasma_penetrans_HF-2\r\n",
        "  Genome length (bp): 1358633\r\n",
        "  Number of amplicons: 0\r\n",
        "  Number of fragments simulated: 1\r\n"
       ]
      },
      {
       "output_type": "stream",
       "stream": "stdout",
       "text": [
        "  Genome name: Aromatoleum_aromaticum_EbN1\r\n"
       ]
      },
      {
       "output_type": "stream",
       "stream": "stdout",
       "text": [
        "  Genome length (bp): 4296230\r\n",
        "  Number of amplicons: 4\r\n",
        "  Number of fragments simulated: 29700\r\n"
       ]
      },
      {
       "output_type": "stream",
       "stream": "stdout",
       "text": [
        "Processing: \"Chlamydophila_felis_Fe_C-56\"\r\n",
        "Processing: \"Slackia_heliotrinireducens_DSM_20476\"\r\n"
       ]
      },
      {
       "output_type": "stream",
       "stream": "stdout",
       "text": [
        "Processing: \"Deferribacter_desulfuricans_SSM1\"\r\n"
       ]
      },
      {
       "output_type": "stream",
       "stream": "stdout",
       "text": [
        "  Genome name: Chlamydophila_felis_Fe_C-56\r\n",
        "  Genome name: Beijerinckia_indica_subsp_indica_ATCC_9039\r\n",
        "  Genome length (bp): 1166239\r\n",
        "  Number of amplicons: 0\r\n",
        "  Number of fragments simulated: 1\r\n",
        "Processing: \"Catenulispora_acidiphila_DSM_44928\"\r\n"
       ]
      },
      {
       "output_type": "stream",
       "stream": "stdout",
       "text": [
        "  Genome length (bp): 4170153\r\n",
        "  Number of amplicons: 3\r\n",
        "  Number of fragments simulated: 28880\r\n",
        "  Genome name: Thermoanaerobacter_brockii_subsp_finnii_Ako-1\r\n"
       ]
      },
      {
       "output_type": "stream",
       "stream": "stdout",
       "text": [
        "  Genome name: Vibrio_furnissii_NCTC_11218\r\n",
        "  Genome length (bp): 2344824\r\n",
        "  Number of amplicons: 4\r\n",
        "  Number of fragments simulated: 16217\r\n"
       ]
      },
      {
       "output_type": "stream",
       "stream": "stdout",
       "text": [
        "  Genome length (bp): 4916408\r\n",
        "  Number of amplicons: 7\r\n",
        "  Number of fragments simulated: 34015\r\n",
        "  Genome name: Clostridium_cellulovorans_743B\r\n",
        "Processing: \"Bacteroides_vulgatus_ATCC_8482\"\r\n"
       ]
      },
      {
       "output_type": "stream",
       "stream": "stdout",
       "text": [
        "  Genome length (bp): 5262222\r\n",
        "  Number of amplicons: 9\r\n",
        "  Number of fragments simulated: 36318\r\n"
       ]
      },
      {
       "output_type": "stream",
       "stream": "stdout",
       "text": [
        "  Genome name: Lactobacillus_sanfranciscensis_TMW_1_1304\r\n",
        "Processing: \"Bartonella_australis_Aust_NH1\"\r\n",
        "  Genome length (bp): 1298316\r\n",
        "  Number of amplicons: 7\r\n",
        "  Number of fragments simulated: 8999\r\n"
       ]
      },
      {
       "output_type": "stream",
       "stream": "stdout",
       "text": [
        "  Genome name: Borrelia_burgdorferi_CA382\r\n",
        "  Genome length (bp): 910736\r\n",
        "  Number of amplicons: 1\r\n",
        "  Number of fragments simulated: 6301\r\n"
       ]
      },
      {
       "output_type": "stream",
       "stream": "stdout",
       "text": [
        "Processing: \"Gallionella_capsiferriformans_ES-2\"\r\n"
       ]
      },
      {
       "output_type": "stream",
       "stream": "stdout",
       "text": [
        "  Genome name: Cellulophaga_algicola_DSM_14237\r\n"
       ]
      },
      {
       "output_type": "stream",
       "stream": "stdout",
       "text": [
        "  Genome length (bp): 4888353\r\n",
        "  Number of amplicons: 5\r\n",
        "  Number of fragments simulated: 33813\r\n",
        "Processing: \"Glaciecola_psychrophila_170\"\r\n"
       ]
      },
      {
       "output_type": "stream",
       "stream": "stdout",
       "text": [
        "Processing: \"Francisella_tularensis_subsp_tularensis_TI0902\"\r\n"
       ]
      },
      {
       "output_type": "stream",
       "stream": "stdout",
       "text": [
        "Processing: \"Selenomonas_ruminantium_subsp_lactilytica_TAM6421\"\r\n",
        "  Genome name: Mycoplasma_crocodyli_MP145\r\n",
        "  Genome length (bp): 934379\r\n",
        "  Number of amplicons: 2\r\n",
        "  Number of fragments simulated: 6485\r\n"
       ]
      },
      {
       "output_type": "stream",
       "stream": "stdout",
       "text": [
        "Processing: \"Mycobacterium_chubuense_NBB4\"\r\n"
       ]
      },
      {
       "output_type": "stream",
       "stream": "stdout",
       "text": [
        "  Genome name: Nakamurella_multipartita_DSM_44233\r\n",
        "Processing: \"Corynebacterium_resistens_DSM_45100\"\r\n"
       ]
      },
      {
       "output_type": "stream",
       "stream": "stdout",
       "text": [
        "  Genome length (bp): 6060298\r\n",
        "  Number of amplicons: 2\r\n",
        "  Number of fragments simulated: 41916\r\n"
       ]
      },
      {
       "output_type": "stream",
       "stream": "stdout",
       "text": [
        "Processing: \"Myxococcus_fulvus_HW-1\"\r\n"
       ]
      },
      {
       "output_type": "stream",
       "stream": "stdout",
       "text": [
        "  Genome name: Candidatus_Chloracidobacterium_thermophilum_B\r\n"
       ]
      },
      {
       "output_type": "stream",
       "stream": "stdout",
       "text": [
        "  Genome length (bp): 3695372\r\n",
        "  Number of amplicons: 1\r\n",
        "  Number of fragments simulated: 25587\r\n"
       ]
      },
      {
       "output_type": "stream",
       "stream": "stdout",
       "text": [
        "  Genome name: Bacillus_infantis_NRRL_B-14911\r\n"
       ]
      },
      {
       "output_type": "stream",
       "stream": "stdout",
       "text": [
        "  Genome length (bp): 4884713\r\n",
        "  Number of amplicons: 9\r\n",
        "  Number of fragments simulated: 33769\r\n"
       ]
      },
      {
       "output_type": "stream",
       "stream": "stdout",
       "text": [
        "Processing: \"Thermosipho_melanesiensis_BI429\"\r\n"
       ]
      },
      {
       "output_type": "stream",
       "stream": "stdout",
       "text": [
        "  Genome name: Bradyrhizobium_diazoefficiens_USDA_110\r\n"
       ]
      },
      {
       "output_type": "stream",
       "stream": "stdout",
       "text": [
        "  Genome name: Desulfitobacterium_hafniense_DCB-2\r\n",
        "  Genome length (bp): 9105828\r\n",
        "  Number of amplicons: 1\r\n",
        "  Number of fragments simulated: 62960\r\n"
       ]
      },
      {
       "output_type": "stream",
       "stream": "stdout",
       "text": [
        "Processing: \"Mycobacterium_canettii_CIPT_140010059\"\r\n",
        "  Genome length (bp): 5279134\r\n",
        "  Number of amplicons: 5\r\n",
        "  Number of fragments simulated: 36530\r\n"
       ]
      },
      {
       "output_type": "stream",
       "stream": "stdout",
       "text": [
        "Processing: \"Mycoplasma_capricolum_subsp_capricolum_ATCC_27343\"\r\n"
       ]
      },
      {
       "output_type": "stream",
       "stream": "stdout",
       "text": [
        "  Genome name: Clostridium_lentocellum_DSM_5427\r\n"
       ]
      },
      {
       "output_type": "stream",
       "stream": "stdout",
       "text": [
        "  Genome length (bp): 4714237\r\n",
        "  Number of amplicons: 10\r\n",
        "  Number of fragments simulated: 32626\r\n"
       ]
      },
      {
       "output_type": "stream",
       "stream": "stdout",
       "text": [
        "  Genome name: Marivirga_tractuosa_DSM_4126\r\n",
        "Processing: \"Nautilia_profundicola_AmH\"\r\n"
       ]
      },
      {
       "output_type": "stream",
       "stream": "stdout",
       "text": [
        "  Genome length (bp): 4511574\r\n",
        "  Number of amplicons: 2\r\n",
        "  Number of fragments simulated: 31147\r\n"
       ]
      },
      {
       "output_type": "stream",
       "stream": "stdout",
       "text": [
        "  Genome name: Deferribacter_desulfuricans_SSM1\r\n",
        "  Genome length (bp): 2234389\r\n",
        "  Number of amplicons: 2\r\n",
        "  Number of fragments simulated: 15459\r\n"
       ]
      },
      {
       "output_type": "stream",
       "stream": "stdout",
       "text": [
        "Processing: \"Staphylococcus_saprophyticus_subsp_saprophyticus_ATCC_15305\"\r\n",
        "  Genome name: Fimbriimonas_ginsengisoli_Gsoil_348\r\n"
       ]
      },
      {
       "output_type": "stream",
       "stream": "stdout",
       "text": [
        "  Genome name: Citrobacter_freundii_CFNIH1\r\n"
       ]
      },
      {
       "output_type": "stream",
       "stream": "stdout",
       "text": [
        "  Genome length (bp): 5231762\r\n",
        "  Number of amplicons: 2\r\n",
        "  Number of fragments simulated: 36187\r\n",
        "  Genome length (bp): 5099034\r\n",
        "  Number of amplicons: 8\r\n",
        "  Number of fragments simulated: 35290\r\n",
        "  Genome name: Nautilia_profundicola_AmH\r\n",
        "  Genome length (bp): 1676444\r\n",
        "  Number of amplicons: 0\r\n",
        "  Number of fragments simulated: 1\r\n"
       ]
      },
      {
       "output_type": "stream",
       "stream": "stdout",
       "text": [
        "Processing: \"Caldicellulosiruptor_bescii_DSM_6725\"\r\n"
       ]
      },
      {
       "output_type": "stream",
       "stream": "stdout",
       "text": [
        "Processing: \"Chlamydia_muridarum_str_Nigg3_CMUT3-5\"\r\n"
       ]
      },
      {
       "output_type": "stream",
       "stream": "stdout",
       "text": [
        "  Genome name: Bartonella_australis_Aust_NH1\r\n"
       ]
      },
      {
       "output_type": "stream",
       "stream": "stdout",
       "text": [
        "  Genome length (bp): 1596490\r\n",
        "  Number of amplicons: 2\r\n",
        "  Number of fragments simulated: 11064\r\n"
       ]
      },
      {
       "output_type": "stream",
       "stream": "stdout",
       "text": [
        "  Genome name: Chlamydia_muridarum_str_Nigg3_CMUT3-5\r\n"
       ]
      },
      {
       "output_type": "stream",
       "stream": "stdout",
       "text": [
        "  Genome length (bp): 1072951\r\n",
        "  Number of amplicons: 0\r\n",
        "  Number of fragments simulated: 1\r\n"
       ]
      },
      {
       "output_type": "stream",
       "stream": "stdout",
       "text": [
        "Processing: \"Arthrobacter_phenanthrenivorans_Sphe3\"\r\n"
       ]
      },
      {
       "output_type": "stream",
       "stream": "stdout",
       "text": [
        "Processing: \"Desulfurella_acetivorans_A63\"\r\n",
        "Processing: \"Rhodomicrobium_vannielii_ATCC_17100\"\r\n"
       ]
      },
      {
       "output_type": "stream",
       "stream": "stdout",
       "text": [
        "Processing: \"Aggregatibacter_aphrophilus_NJ8700\"\r\n",
        "Processing: \"Thermotoga_thermarum_DSM_5069\"\r\n"
       ]
      },
      {
       "output_type": "stream",
       "stream": "stdout",
       "text": [
        "  Genome name: Mycoplasma_capricolum_subsp_capricolum_ATCC_27343\r\n",
        "  Genome length (bp): 1010023\r\n",
        "  Number of amplicons: 2\r\n",
        "  Number of fragments simulated: 6999\r\n",
        "Processing: \"Candidatus_Ishikawaella_capsulata_Mpkobe\"\r\n"
       ]
      },
      {
       "output_type": "stream",
       "stream": "stdout",
       "text": [
        "  Genome name: Francisella_tularensis_subsp_tularensis_TI0902\r\n"
       ]
      },
      {
       "output_type": "stream",
       "stream": "stdout",
       "text": [
        "  Genome length (bp): 1892744\r\n",
        "  Number of amplicons: 3\r\n",
        "  Number of fragments simulated: 13103\r\n"
       ]
      },
      {
       "output_type": "stream",
       "stream": "stdout",
       "text": [
        "Processing: \"Blattabacterium_sp_Cryptocercus_punctulatus_str_Cpu\"\r\n"
       ]
      },
      {
       "output_type": "stream",
       "stream": "stdout",
       "text": [
        "  Genome name: Corynebacterium_resistens_DSM_45100\r\n"
       ]
      },
      {
       "output_type": "stream",
       "stream": "stdout",
       "text": [
        "  Genome length (bp): 2601311\r\n",
        "  Number of amplicons: 3\r\n",
        "  Number of fragments simulated: 17949\r\n"
       ]
      },
      {
       "output_type": "stream",
       "stream": "stdout",
       "text": [
        "Processing: \"Candidatus_Liberibacter_asiaticus_str_psy62\"\r\n"
       ]
      },
      {
       "output_type": "stream",
       "stream": "stdout",
       "text": [
        "  Genome name: Slackia_heliotrinireducens_DSM_20476\r\n"
       ]
      },
      {
       "output_type": "stream",
       "stream": "stdout",
       "text": [
        "  Genome name: Geobacillus_thermoglucosidasius_C56-YS93\r\n",
        "  Genome name: Selenomonas_ruminantium_subsp_lactilytica_TAM6421\r\n",
        "  Genome length (bp): 3165038\r\n",
        "  Number of amplicons: 2\r\n",
        "  Number of fragments simulated: 21901\r\n",
        "  Genome length (bp): 3893306\r\n",
        "  Number of amplicons: 10\r\n",
        "  Number of fragments simulated: 26938\r\n"
       ]
      },
      {
       "output_type": "stream",
       "stream": "stdout",
       "text": [
        "  Genome length (bp): 3003680\r\n",
        "  Number of amplicons: 7\r\n",
        "  Number of fragments simulated: 20768\r\n"
       ]
      },
      {
       "output_type": "stream",
       "stream": "stdout",
       "text": [
        "Processing: \"Simkania_negevensis_Z\"\r\n"
       ]
      },
      {
       "output_type": "stream",
       "stream": "stdout",
       "text": [
        "  Genome name: Vibrio_tubiashii_ATCC_19109\r\n"
       ]
      },
      {
       "output_type": "stream",
       "stream": "stdout",
       "text": [
        "  Genome length (bp): 5061072\r\n",
        "  Number of amplicons: 10\r\n",
        "  Number of fragments simulated: 34950\r\n",
        "Processing: \"Chlorobium_luteolum_DSM_273\"\r\n"
       ]
      },
      {
       "output_type": "stream",
       "stream": "stdout",
       "text": [
        "  Genome name: Candidatus_Solibacter_usitatus_Ellin6076\r\n",
        "Processing: \"Thermoanaerobacterium_saccharolyticum_JW_SL-YS485\"\r\n",
        "  Genome name: Thermosipho_melanesiensis_BI429\r\n"
       ]
      },
      {
       "output_type": "stream",
       "stream": "stdout",
       "text": [
        "  Genome name: Candidatus_Ishikawaella_capsulata_Mpkobe\r\n",
        "  Genome name: Simkania_negevensis_Z\r\n",
        "  Genome length (bp): 745590\r\n",
        "  Number of amplicons: 3\r\n",
        "  Number of fragments simulated: 5144\r\n",
        "  Genome length (bp): 1915238\r\n",
        "  Number of amplicons: 4\r\n",
        "  Number of fragments simulated: 13273\r\n"
       ]
      },
      {
       "output_type": "stream",
       "stream": "stdout",
       "text": [
        "  Genome length (bp): 2496337\r\n",
        "  Number of amplicons: 0\r\n",
        "  Number of fragments simulated: 1\r\n",
        "  Genome length (bp): 9965640\r\n",
        "  Number of amplicons: 2\r\n",
        "  Number of fragments simulated: 68933\r\n"
       ]
      },
      {
       "output_type": "stream",
       "stream": "stdout",
       "text": [
        "  Genome name: Blattabacterium_sp_Cryptocercus_punctulatus_str_Cpu\r\n",
        "  Genome length (bp): 605745\r\n",
        "  Number of amplicons: 1\r\n",
        "  Number of fragments simulated: 4199\r\n"
       ]
      },
      {
       "output_type": "stream",
       "stream": "stdout",
       "text": [
        "Processing: \"Cyanobium_gracile_PCC_6307\"\r\n",
        "  Genome name: Gallionella_capsiferriformans_ES-2\r\n"
       ]
      },
      {
       "output_type": "stream",
       "stream": "stdout",
       "text": [
        "Processing: \"Corynebacterium_glycinophilum_AJ_3170\"\r\n",
        "  Genome length (bp): 3162471\r\n",
        "  Number of amplicons: 3\r\n",
        "  Number of fragments simulated: 21882\r\n"
       ]
      },
      {
       "output_type": "stream",
       "stream": "stdout",
       "text": [
        "Processing: \"Chitinophaga_pinensis_DSM_2588\"\r\n",
        "Processing: \"Rhodobacter_capsulatus_SB_1003\"\r\n"
       ]
      },
      {
       "output_type": "stream",
       "stream": "stdout",
       "text": [
        "  Genome name: Bacteroides_vulgatus_ATCC_8482\r\n",
        "Processing: \"Aeromonas_media_WS\"\r\n",
        "  Genome name: Desulfurella_acetivorans_A63\r\n"
       ]
      },
      {
       "output_type": "stream",
       "stream": "stdout",
       "text": [
        "  Genome length (bp): 1816487\r\n",
        "  Number of amplicons: 2\r\n",
        "  Number of fragments simulated: 12551\r\n",
        "  Genome length (bp): 5163189\r\n",
        "  Number of amplicons: 7\r\n",
        "  Number of fragments simulated: 35621\r\n"
       ]
      },
      {
       "output_type": "stream",
       "stream": "stdout",
       "text": [
        "Processing: \"Solibacillus_silvestris_StLB046\"\r\n",
        "  Genome name: Candidatus_Liberibacter_asiaticus_str_psy62\r\n"
       ]
      },
      {
       "output_type": "stream",
       "stream": "stdout",
       "text": [
        "  Genome length (bp): 1227328\r\n",
        "  Number of amplicons: 3\r\n",
        "  Number of fragments simulated: 8484\r\n"
       ]
      },
      {
       "output_type": "stream",
       "stream": "stdout",
       "text": [
        "  Genome name: Thermotoga_thermarum_DSM_5069\r\n",
        "  Genome length (bp): 2039943\r\n",
        "  Number of amplicons: 1\r\n",
        "  Number of fragments simulated: 14083\r\n"
       ]
      },
      {
       "output_type": "stream",
       "stream": "stdout",
       "text": [
        "Processing: \"Elusimicrobium_minutum_Pei191\"\r\n"
       ]
      },
      {
       "output_type": "stream",
       "stream": "stdout",
       "text": [
        "Processing: \"Nitrosococcus_oceani_ATCC_19707\"\r\n"
       ]
      },
      {
       "output_type": "stream",
       "stream": "stdout",
       "text": [
        "Processing: \"Neisseria_gonorrhoeae_FA_1090\"\r\n"
       ]
      },
      {
       "output_type": "stream",
       "stream": "stdout",
       "text": [
        "Processing: \"Niastella_koreensis_GR20-10\"\r\n"
       ]
      },
      {
       "output_type": "stream",
       "stream": "stdout",
       "text": [
        "Processing: \"Arcanobacterium_haemolyticum_DSM_20595\"\r\n"
       ]
      },
      {
       "output_type": "stream",
       "stream": "stdout",
       "text": [
        "  Genome name: Streptomyces_collinus_Tu_365\r\n"
       ]
      },
      {
       "output_type": "stream",
       "stream": "stdout",
       "text": [
        "  Genome name: Staphylococcus_saprophyticus_subsp_saprophyticus_ATCC_15305\r\n"
       ]
      },
      {
       "output_type": "stream",
       "stream": "stdout",
       "text": [
        "  Genome length (bp): 8272925\r\n",
        "  Number of amplicons: 6\r\n",
        "  Number of fragments simulated: 57237\r\n",
        "  Genome length (bp): 2516575\r\n",
        "  Number of amplicons: 6\r\n",
        "  Number of fragments simulated: 17397\r\n"
       ]
      },
      {
       "output_type": "stream",
       "stream": "stdout",
       "text": [
        "  Genome name: Aggregatibacter_aphrophilus_NJ8700\r\n"
       ]
      },
      {
       "output_type": "stream",
       "stream": "stdout",
       "text": [
        "  Genome length (bp): 2313035\r\n",
        "  Number of amplicons: 6\r\n",
        "  Number of fragments simulated: 15991\r\n"
       ]
      },
      {
       "output_type": "stream",
       "stream": "stdout",
       "text": [
        "Processing: \"Rickettsia_peacockii_str_Rustic\"\r\n"
       ]
      },
      {
       "output_type": "stream",
       "stream": "stdout",
       "text": [
        "  Genome name: Glaciecola_psychrophila_170\r\n"
       ]
      },
      {
       "output_type": "stream",
       "stream": "stdout",
       "text": [
        "  Genome length (bp): 5413691\r\n",
        "  Number of amplicons: 6\r\n",
        "  Number of fragments simulated: 37517\r\n",
        "Processing: \"Dickeya_dadantii_3937\"\r\n"
       ]
      },
      {
       "output_type": "stream",
       "stream": "stdout",
       "text": [
        "Processing: \"Waddlia_chondrophila_WSU_86-1044\"\r\n"
       ]
      },
      {
       "output_type": "stream",
       "stream": "stdout",
       "text": [
        "  Genome name: Mycobacterium_chubuense_NBB4\r\n"
       ]
      },
      {
       "output_type": "stream",
       "stream": "stdout",
       "text": [
        "  Genome length (bp): 5583723\r\n",
        "  Number of amplicons: 2\r\n",
        "  Number of fragments simulated: 38523\r\n",
        "Processing: \"Oceanobacillus_iheyensis_HTE831\"\r\n"
       ]
      },
      {
       "output_type": "stream",
       "stream": "stdout",
       "text": [
        "  Genome name: Waddlia_chondrophila_WSU_86-1044\r\n",
        "  Genome name: Caldicellulosiruptor_bescii_DSM_6725\r\n"
       ]
      },
      {
       "output_type": "stream",
       "stream": "stdout",
       "text": [
        "  Genome length (bp): 2116312\r\n",
        "  Number of amplicons: 0\r\n",
        "  Number of fragments simulated: 1\r\n",
        "  Genome length (bp): 2919718\r\n",
        "  Number of amplicons: 3\r\n",
        "  Number of fragments simulated: 20194\r\n"
       ]
      },
      {
       "output_type": "stream",
       "stream": "stdout",
       "text": [
        "Processing: \"Porphyromonas_gingivalis_W83\"\r\n",
        "Processing: \"Alkalilimnicola_ehrlichii_MLHE-1\"\r\n"
       ]
      },
      {
       "output_type": "stream",
       "stream": "stdout",
       "text": [
        "  Genome name: Oceanobacillus_iheyensis_HTE831\r\n"
       ]
      },
      {
       "output_type": "stream",
       "stream": "stdout",
       "text": [
        "  Genome length (bp): 3630528\r\n",
        "  Number of amplicons: 0\r\n",
        "  Number of fragments simulated: 1\r\n"
       ]
      },
      {
       "output_type": "stream",
       "stream": "stdout",
       "text": [
        "Processing: \"Desulfovibrio_aespoeensis_Aspo-2\"\r\n",
        "Processing: \"Allochromatium_vinosum_DSM_180\"\r\n"
       ]
      },
      {
       "output_type": "stream",
       "stream": "stdout",
       "text": [
        "  Genome name: Rhodomicrobium_vannielii_ATCC_17100\r\n"
       ]
      },
      {
       "output_type": "stream",
       "stream": "stdout",
       "text": [
        "  Genome length (bp): 4014469\r\n",
        "  Number of amplicons: 2\r\n",
        "  Number of fragments simulated: 27698\r\n"
       ]
      },
      {
       "output_type": "stream",
       "stream": "stdout",
       "text": [
        "Processing: \"Bacillus_licheniformis_9945A\"\r\n"
       ]
      },
      {
       "output_type": "stream",
       "stream": "stdout",
       "text": [
        "  Genome name: Mycobacterium_canettii_CIPT_140010059\r\n"
       ]
      },
      {
       "output_type": "stream",
       "stream": "stdout",
       "text": [
        "  Genome length (bp): 4482059\r\n",
        "  Number of amplicons: 1\r\n",
        "  Number of fragments simulated: 30982\r\n"
       ]
      },
      {
       "output_type": "stream",
       "stream": "stdout",
       "text": [
        "Processing: \"Deinococcus_gobiensis_I-0\"\r\n"
       ]
      },
      {
       "output_type": "stream",
       "stream": "stdout",
       "text": [
        "  Genome name: Elusimicrobium_minutum_Pei191\r\n",
        "  Genome name: Arthrobacter_phenanthrenivorans_Sphe3\r\n"
       ]
      },
      {
       "output_type": "stream",
       "stream": "stdout",
       "text": [
        "  Genome length (bp): 1643562\r\n",
        "  Number of amplicons: 1\r\n",
        "  Number of fragments simulated: 11345\r\n",
        "Processing: \"Belliella_baltica_DSM_15883\"\r\n",
        "  Genome length (bp): 4250414\r\n",
        "  Number of amplicons: 4\r\n",
        "  Number of fragments simulated: 29375\r\n",
        "  Genome name: Rickettsia_peacockii_str_Rustic\r\n"
       ]
      },
      {
       "output_type": "stream",
       "stream": "stdout",
       "text": [
        "  Genome length (bp): 1288492\r\n",
        "  Number of amplicons: 1\r\n",
        "  Number of fragments simulated: 8915\r\n"
       ]
      },
      {
       "output_type": "stream",
       "stream": "stdout",
       "text": [
        "  Genome name: Chlorobium_luteolum_DSM_273\r\n"
       ]
      },
      {
       "output_type": "stream",
       "stream": "stdout",
       "text": [
        "Processing: \"Marinobacter_hydrocarbonoclasticus_ATCC_49840\"\r\n",
        "  Genome length (bp): 2364842\r\n",
        "  Number of amplicons: 2\r\n",
        "  Number of fragments simulated: 16377\r\n",
        "Processing: \"Ethanoligenens_harbinense_YUAN-3\"\r\n"
       ]
      },
      {
       "output_type": "stream",
       "stream": "stdout",
       "text": [
        "Processing: \"Stigmatella_aurantiaca_DW4_3-1\"\r\n"
       ]
      },
      {
       "output_type": "stream",
       "stream": "stdout",
       "text": [
        "  Genome name: Neisseria_gonorrhoeae_FA_1090\r\n"
       ]
      },
      {
       "output_type": "stream",
       "stream": "stdout",
       "text": [
        "  Genome length (bp): 2153922\r\n",
        "  Number of amplicons: 4\r\n",
        "  Number of fragments simulated: 14929\r\n"
       ]
      },
      {
       "output_type": "stream",
       "stream": "stdout",
       "text": [
        "Processing: \"Blattabacterium_sp_Periplaneta_americana_str_BPLAN\"\r\n"
       ]
      },
      {
       "output_type": "stream",
       "stream": "stdout",
       "text": [
        "  Genome name: Cyanobium_gracile_PCC_6307\r\n"
       ]
      },
      {
       "output_type": "stream",
       "stream": "stdout",
       "text": [
        "  Genome length (bp): 3342364\r\n",
        "  Number of amplicons: 2\r\n",
        "  Number of fragments simulated: 23080\r\n"
       ]
      },
      {
       "output_type": "stream",
       "stream": "stdout",
       "text": [
        "Processing: \"Deinococcus_proteolyticus_MRP\"\r\n"
       ]
      },
      {
       "output_type": "stream",
       "stream": "stdout",
       "text": [
        "  Genome name: Arcanobacterium_haemolyticum_DSM_20595\r\n",
        "  Genome length (bp): 1986154\r\n",
        "  Number of amplicons: 4\r\n",
        "  Number of fragments simulated: 13709\r\n"
       ]
      },
      {
       "output_type": "stream",
       "stream": "stdout",
       "text": [
        "Processing: \"Methylovorus_glucosetrophus_SIP3-4\"\r\n"
       ]
      },
      {
       "output_type": "stream",
       "stream": "stdout",
       "text": [
        "  Genome name: Corynebacterium_glycinophilum_AJ_3170\r\n"
       ]
      },
      {
       "output_type": "stream",
       "stream": "stdout",
       "text": [
        "  Genome length (bp): 3509786\r\n",
        "  Number of amplicons: 4\r\n",
        "  Number of fragments simulated: 24251\r\n"
       ]
      },
      {
       "output_type": "stream",
       "stream": "stdout",
       "text": [
        "  Genome name: Blattabacterium_sp_Periplaneta_americana_str_BPLAN\r\n",
        "  Genome length (bp): 636994\r\n",
        "  Number of amplicons: 1\r\n",
        "  Number of fragments simulated: 4416\r\n"
       ]
      },
      {
       "output_type": "stream",
       "stream": "stdout",
       "text": [
        "Processing: \"Streptococcus_constellatus_subsp_pharyngis_C1050\"\r\n"
       ]
      },
      {
       "output_type": "stream",
       "stream": "stdout",
       "text": [
        "Processing: \"Salinispora_tropica_CNB-440\"\r\n"
       ]
      },
      {
       "output_type": "stream",
       "stream": "stdout",
       "text": [
        "  Genome name: Porphyromonas_gingivalis_W83\r\n",
        "  Genome length (bp): 2343476\r\n",
        "  Number of amplicons: 4\r\n",
        "  Number of fragments simulated: 16197\r\n"
       ]
      },
      {
       "output_type": "stream",
       "stream": "stdout",
       "text": [
        "Processing: \"Burkholderia_mallei_SAVP1\"\r\n"
       ]
      },
      {
       "output_type": "stream",
       "stream": "stdout",
       "text": [
        "  Genome name: Thermoanaerobacterium_saccharolyticum_JW_SL-YS485\r\n"
       ]
      },
      {
       "output_type": "stream",
       "stream": "stdout",
       "text": [
        "  Genome length (bp): 2768468\r\n",
        "  Number of amplicons: 5\r\n",
        "  Number of fragments simulated: 19134\r\n"
       ]
      },
      {
       "output_type": "stream",
       "stream": "stdout",
       "text": [
        "Processing: \"Pelagibacterium_halotolerans_B2\"\r\n"
       ]
      },
      {
       "output_type": "stream",
       "stream": "stdout",
       "text": [
        "  Genome name: Rhodobacter_capsulatus_SB_1003\r\n"
       ]
      },
      {
       "output_type": "stream",
       "stream": "stdout",
       "text": [
        "  Genome length (bp): 3738958\r\n",
        "  Number of amplicons: 4\r\n",
        "  Number of fragments simulated: 25800\r\n"
       ]
      },
      {
       "output_type": "stream",
       "stream": "stdout",
       "text": [
        "Processing: \"Herpetosiphon_aurantiacus_DSM_785\"\r\n"
       ]
      },
      {
       "output_type": "stream",
       "stream": "stdout",
       "text": [
        "  Genome name: Solibacillus_silvestris_StLB046\r\n"
       ]
      },
      {
       "output_type": "stream",
       "stream": "stdout",
       "text": [
        "  Genome length (bp): 3969327\r\n",
        "  Number of amplicons: 11\r\n",
        "  Number of fragments simulated: 27459\r\n"
       ]
      },
      {
       "output_type": "stream",
       "stream": "stdout",
       "text": [
        "  Genome name: Allochromatium_vinosum_DSM_180\r\n"
       ]
      },
      {
       "output_type": "stream",
       "stream": "stdout",
       "text": [
        "  Genome length (bp): 3526903\r\n",
        "  Number of amplicons: 3\r\n",
        "  Number of fragments simulated: 24349\r\n",
        "Processing: \"Legionella_oakridgensis_ATCC_33761_DSM_21215\"\r\n",
        "  Genome name: Desulfovibrio_aespoeensis_Aspo-2\r\n"
       ]
      },
      {
       "output_type": "stream",
       "stream": "stdout",
       "text": [
        "  Genome length (bp): 3629109\r\n",
        "  Number of amplicons: 2\r\n",
        "  Number of fragments simulated: 25057\r\n"
       ]
      },
      {
       "output_type": "stream",
       "stream": "stdout",
       "text": [
        "  Genome name: Deinococcus_proteolyticus_MRP\r\n",
        "Processing: \"Ramlibacter_tataouinensis_TTB310\"\r\n"
       ]
      },
      {
       "output_type": "stream",
       "stream": "stdout",
       "text": [
        "  Genome length (bp): 2147060\r\n",
        "  Number of amplicons: 3\r\n",
        "  Number of fragments simulated: 14833\r\n"
       ]
      },
      {
       "output_type": "stream",
       "stream": "stdout",
       "text": [
        "  Genome name: Nitrosococcus_oceani_ATCC_19707\r\n"
       ]
      },
      {
       "output_type": "stream",
       "stream": "stdout",
       "text": [
        "  Genome name: Aeromonas_media_WS\r\n",
        "Processing: \"Desulfobacca_acetoxidans_DSM_11109\"\r\n",
        "  Genome length (bp): 3481691\r\n",
        "  Number of amplicons: 2\r\n",
        "  Number of fragments simulated: 24033\r\n"
       ]
      },
      {
       "output_type": "stream",
       "stream": "stdout",
       "text": [
        "  Genome name: Deinococcus_gobiensis_I-0\r\n",
        "  Genome length (bp): 4777154\r\n",
        "  Number of amplicons: 11\r\n",
        "  Number of fragments simulated: 32982\r\n"
       ]
      },
      {
       "output_type": "stream",
       "stream": "stdout",
       "text": [
        "Processing: \"Saprospira_grandis_str_Lewin\"\r\n",
        "  Genome length (bp): 3137147\r\n",
        "  Number of amplicons: 5\r\n",
        "  Number of fragments simulated: 21664\r\n"
       ]
      },
      {
       "output_type": "stream",
       "stream": "stdout",
       "text": [
        "  Genome name: Ethanoligenens_harbinense_YUAN-3\r\n"
       ]
      },
      {
       "output_type": "stream",
       "stream": "stdout",
       "text": [
        "  Genome length (bp): 3008576\r\n",
        "  Number of amplicons: 3\r\n",
        "  Number of fragments simulated: 20787\r\n"
       ]
      },
      {
       "output_type": "stream",
       "stream": "stdout",
       "text": [
        "Processing: \"Moorella_thermoacetica_ATCC_39073\"\r\n"
       ]
      },
      {
       "output_type": "stream",
       "stream": "stdout",
       "text": [
        "Processing: \"Chlorobium_phaeovibrioides_DSM_265\"\r\n"
       ]
      },
      {
       "output_type": "stream",
       "stream": "stdout",
       "text": [
        "  Genome name: Alkalilimnicola_ehrlichii_MLHE-1\r\n"
       ]
      },
      {
       "output_type": "stream",
       "stream": "stdout",
       "text": [
        "Processing: \"Amycolatopsis_orientalis_HCCB10007\"\r\n",
        "  Genome length (bp): 3275944\r\n",
        "  Number of amplicons: 2\r\n",
        "  Number of fragments simulated: 22625\r\n"
       ]
      },
      {
       "output_type": "stream",
       "stream": "stdout",
       "text": [
        "Processing: \"Xanthomonas_axonopodis_Xac29-1\"\r\n"
       ]
      },
      {
       "output_type": "stream",
       "stream": "stdout",
       "text": [
        "  Genome name: Bacillus_licheniformis_9945A\r\n"
       ]
      },
      {
       "output_type": "stream",
       "stream": "stdout",
       "text": [
        "  Genome length (bp): 4376305\r\n",
        "  Number of amplicons: 7\r\n",
        "  Number of fragments simulated: 30256\r\n"
       ]
      },
      {
       "output_type": "stream",
       "stream": "stdout",
       "text": [
        "  Genome name: Myxococcus_fulvus_HW-1\r\n",
        "Processing: \"Terriglobus_saanensis_SP1PR4\"\r\n"
       ]
      },
      {
       "output_type": "stream",
       "stream": "stdout",
       "text": [
        "Processing: \"Microlunatus_phosphovorus_NM-1\"\r\n"
       ]
      },
      {
       "output_type": "stream",
       "stream": "stdout",
       "text": [
        "  Genome length (bp): 9003593\r\n",
        "  Number of amplicons: 3\r\n",
        "  Number of fragments simulated: 62221\r\n",
        "  Genome name: Streptococcus_constellatus_subsp_pharyngis_C1050\r\n"
       ]
      },
      {
       "output_type": "stream",
       "stream": "stdout",
       "text": [
        "  Genome length (bp): 1991156\r\n",
        "  Number of amplicons: 4\r\n",
        "  Number of fragments simulated: 13747\r\n"
       ]
      },
      {
       "output_type": "stream",
       "stream": "stdout",
       "text": [
        "  Genome name: Belliella_baltica_DSM_15883\r\n"
       ]
      },
      {
       "output_type": "stream",
       "stream": "stdout",
       "text": [
        "  Genome length (bp): 4196595\r\n",
        "  Number of amplicons: 4\r\n",
        "  Number of fragments simulated: 29015\r\n"
       ]
      },
      {
       "output_type": "stream",
       "stream": "stdout",
       "text": [
        "Processing: \"Rhodothermus_marinus_DSM_4252\"\r\n"
       ]
      },
      {
       "output_type": "stream",
       "stream": "stdout",
       "text": [
        "Processing: \"Komagataeibacter_xylinus_E25\"\r\n"
       ]
      },
      {
       "output_type": "stream",
       "stream": "stdout",
       "text": [
        "  Genome name: Dickeya_dadantii_3937\r\n"
       ]
      },
      {
       "output_type": "stream",
       "stream": "stdout",
       "text": [
        "  Genome name: Methylovorus_glucosetrophus_SIP3-4\r\n"
       ]
      },
      {
       "output_type": "stream",
       "stream": "stdout",
       "text": [
        "Processing: \"Streptococcus_gordonii_str_Challis_substr_CH1\"\r\n",
        "  Genome length (bp): 4922802\r\n",
        "  Number of amplicons: 7\r\n",
        "  Number of fragments simulated: 33990\r\n",
        "  Genome length (bp): 2995511\r\n",
        "  Number of amplicons: 2\r\n",
        "  Number of fragments simulated: 20672\r\n"
       ]
      },
      {
       "output_type": "stream",
       "stream": "stdout",
       "text": [
        "Processing: \"Phenylobacterium_zucineum_HLK1\"\r\n"
       ]
      },
      {
       "output_type": "stream",
       "stream": "stdout",
       "text": [
        "  Genome name: Catenulispora_acidiphila_DSM_44928\r\n"
       ]
      },
      {
       "output_type": "stream",
       "stream": "stdout",
       "text": [
        "Processing: \"Sanguibacter_keddieii_DSM_10542\"\r\n"
       ]
      },
      {
       "output_type": "stream",
       "stream": "stdout",
       "text": [
        "  Genome name: Phenylobacterium_zucineum_HLK1\r\n"
       ]
      },
      {
       "output_type": "stream",
       "stream": "stdout",
       "text": [
        "  Genome length (bp): 10467782\r\n",
        "  Number of amplicons: 3\r\n",
        "  Number of fragments simulated: 72373\r\n"
       ]
      },
      {
       "output_type": "stream",
       "stream": "stdout",
       "text": [
        "  Genome name: Marinobacter_hydrocarbonoclasticus_ATCC_49840\r\n",
        "  Genome length (bp): 3996255\r\n",
        "  Number of amplicons: 0\r\n",
        "  Number of fragments simulated: 1\r\n"
       ]
      },
      {
       "output_type": "stream",
       "stream": "stdout",
       "text": [
        "  Genome length (bp): 3989480\r\n",
        "  Number of amplicons: 3\r\n",
        "  Number of fragments simulated: 27554\r\n"
       ]
      },
      {
       "output_type": "stream",
       "stream": "stdout",
       "text": [
        "Processing: \"Riemerella_anatipestifer_RA-CH-1\"\r\n",
        "Processing: \"Caldicellulosiruptor_owensensis_OL\"\r\n"
       ]
      },
      {
       "output_type": "stream",
       "stream": "stdout",
       "text": [
        "Processing: \"Xanthomonas_axonopodis_pv_citrumelo_F1\"\r\n"
       ]
      },
      {
       "output_type": "stream",
       "stream": "stdout",
       "text": [
        "  Genome name: Legionella_oakridgensis_ATCC_33761_DSM_21215\r\n",
        "  Genome length (bp): 2722964\r\n",
        "  Number of amplicons: 3\r\n",
        "  Number of fragments simulated: 18813\r\n"
       ]
      },
      {
       "output_type": "stream",
       "stream": "stdout",
       "text": [
        "Processing: \"Bacillus_coagulans_36D1\"\r\n"
       ]
      },
      {
       "output_type": "stream",
       "stream": "stdout",
       "text": [
        "  Genome name: Chlorobium_phaeovibrioides_DSM_265\r\n",
        "  Genome length (bp): 1966858\r\n",
        "  Number of amplicons: 1\r\n",
        "  Number of fragments simulated: 13568\r\n"
       ]
      },
      {
       "output_type": "stream",
       "stream": "stdout",
       "text": [
        "Processing: \"Verminephrobacter_eiseniae_EF01-2\"\r\n"
       ]
      },
      {
       "output_type": "stream",
       "stream": "stdout",
       "text": [
        "  Genome name: Desulfobacca_acetoxidans_DSM_11109\r\n"
       ]
      },
      {
       "output_type": "stream",
       "stream": "stdout",
       "text": [
        "  Genome length (bp): 3282536\r\n",
        "  Number of amplicons: 1\r\n",
        "  Number of fragments simulated: 22674\r\n"
       ]
      },
      {
       "output_type": "stream",
       "stream": "stdout",
       "text": [
        "Processing: \"Roseiflexus_castenholzii_DSM_13941\"\r\n"
       ]
      },
      {
       "output_type": "stream",
       "stream": "stdout",
       "text": [
        "  Genome name: Salinispora_tropica_CNB-440\r\n"
       ]
      },
      {
       "output_type": "stream",
       "stream": "stdout",
       "text": [
        "  Genome length (bp): 5183331\r\n",
        "  Number of amplicons: 3\r\n",
        "  Number of fragments simulated: 35843\r\n"
       ]
      },
      {
       "output_type": "stream",
       "stream": "stdout",
       "text": [
        "Processing: \"Ralstonia_eutropha_JMP134\"\r\n"
       ]
      },
      {
       "output_type": "stream",
       "stream": "stdout",
       "text": [
        "  Genome name: Ramlibacter_tataouinensis_TTB310\r\n"
       ]
      },
      {
       "output_type": "stream",
       "stream": "stdout",
       "text": [
        "  Genome length (bp): 4070193\r\n",
        "  Number of amplicons: 1\r\n",
        "  Number of fragments simulated: 28124\r\n"
       ]
      },
      {
       "output_type": "stream",
       "stream": "stdout",
       "text": [
        "Processing: \"Legionella_longbeachae_NSW150\"\r\n"
       ]
      },
      {
       "output_type": "stream",
       "stream": "stdout",
       "text": [
        "  Genome name: Streptococcus_gordonii_str_Challis_substr_CH1\r\n"
       ]
      },
      {
       "output_type": "stream",
       "stream": "stdout",
       "text": [
        "  Genome length (bp): 2196662\r\n",
        "  Number of amplicons: 4\r\n",
        "  Number of fragments simulated: 15178\r\n"
       ]
      },
      {
       "output_type": "stream",
       "stream": "stdout",
       "text": [
        "Processing: \"Mycobacterium_abscessus_subsp_bolletii_103\"\r\n",
        "  Genome name: Moorella_thermoacetica_ATCC_39073\r\n"
       ]
      },
      {
       "output_type": "stream",
       "stream": "stdout",
       "text": [
        "  Genome length (bp): 2628784\r\n",
        "  Number of amplicons: 1\r\n",
        "  Number of fragments simulated: 18159\r\n"
       ]
      },
      {
       "output_type": "stream",
       "stream": "stdout",
       "text": [
        "Processing: \"Sinorhizobium_meliloti_Rm41\"\r\n"
       ]
      },
      {
       "output_type": "stream",
       "stream": "stdout",
       "text": [
        "  Genome name: Pelagibacterium_halotolerans_B2\r\n"
       ]
      },
      {
       "output_type": "stream",
       "stream": "stdout",
       "text": [
        "  Genome name: Saprospira_grandis_str_Lewin\r\n",
        "  Genome length (bp): 3944837\r\n",
        "  Number of amplicons: 2\r\n",
        "  Number of fragments simulated: 27248\r\n"
       ]
      },
      {
       "output_type": "stream",
       "stream": "stdout",
       "text": [
        "  Genome length (bp): 4345237\r\n",
        "  Number of amplicons: 3\r\n",
        "  Number of fragments simulated: 30032\r\n"
       ]
      },
      {
       "output_type": "stream",
       "stream": "stdout",
       "text": [
        "Processing: \"Halorhodospira_halophila_SL1\"\r\n"
       ]
      },
      {
       "output_type": "stream",
       "stream": "stdout",
       "text": [
        "Processing: \"Pseudomonas_poae_RE*1-1-14\"\r\n"
       ]
      },
      {
       "output_type": "stream",
       "stream": "stdout",
       "text": [
        "  Genome name: Chitinophaga_pinensis_DSM_2588\r\n"
       ]
      },
      {
       "output_type": "stream",
       "stream": "stdout",
       "text": [
        "  Genome length (bp): 9127347\r\n",
        "  Number of amplicons: 6\r\n",
        "  Number of fragments simulated: 63070\r\n"
       ]
      },
      {
       "output_type": "stream",
       "stream": "stdout",
       "text": [
        "  Genome name: Rhodothermus_marinus_DSM_4252\r\n"
       ]
      },
      {
       "output_type": "stream",
       "stream": "stdout",
       "text": [
        "  Genome length (bp): 3261604\r\n",
        "  Number of amplicons: 1\r\n",
        "  Number of fragments simulated: 22589\r\n",
        "  Genome name: Burkholderia_mallei_SAVP1\r\n"
       ]
      },
      {
       "output_type": "stream",
       "stream": "stdout",
       "text": [
        "  Genome length (bp): 5232401\r\n",
        "  Number of amplicons: 5\r\n",
        "  Number of fragments simulated: 36158\r\n"
       ]
      },
      {
       "output_type": "stream",
       "stream": "stdout",
       "text": [
        "Processing: \"Saccharothrix_espanaensis_DSM_44229\"\r\n"
       ]
      },
      {
       "output_type": "stream",
       "stream": "stdout",
       "text": [
        "Processing: \"Candidatus_Arthromitus_sp_SFB-mouse-Yit\"\r\n"
       ]
      },
      {
       "output_type": "stream",
       "stream": "stdout",
       "text": [
        "Processing: \"Spiroplasma_sabaudiense_Ar-1343\"\r\n"
       ]
      },
      {
       "output_type": "stream",
       "stream": "stdout",
       "text": [
        "  Genome name: Xanthomonas_axonopodis_Xac29-1\r\n"
       ]
      },
      {
       "output_type": "stream",
       "stream": "stdout",
       "text": [
        "  Genome length (bp): 5153455\r\n",
        "  Number of amplicons: 2\r\n",
        "  Number of fragments simulated: 35634\r\n"
       ]
      },
      {
       "output_type": "stream",
       "stream": "stdout",
       "text": [
        "  Genome name: Caldicellulosiruptor_owensensis_OL\r\n"
       ]
      },
      {
       "output_type": "stream",
       "stream": "stdout",
       "text": [
        "  Genome length (bp): 2428903\r\n",
        "  Number of amplicons: 3\r\n",
        "  Number of fragments simulated: 16794\r\n",
        "Processing: \"Bartonella_tribocorum_CIP_105476\"\r\n"
       ]
      },
      {
       "output_type": "stream",
       "stream": "stdout",
       "text": [
        "  Genome name: Riemerella_anatipestifer_RA-CH-1\r\n"
       ]
      },
      {
       "output_type": "stream",
       "stream": "stdout",
       "text": [
        "  Genome length (bp): 2309519\r\n",
        "  Number of amplicons: 3\r\n",
        "  Number of fragments simulated: 15956\r\n"
       ]
      },
      {
       "output_type": "stream",
       "stream": "stdout",
       "text": [
        "Processing: \"Gramella_forsetii_KT0803\"\r\n"
       ]
      },
      {
       "output_type": "stream",
       "stream": "stdout",
       "text": [
        "Processing: \"Burkholderia_cenocepacia_J2315\"\r\n"
       ]
      },
      {
       "output_type": "stream",
       "stream": "stdout",
       "text": [
        "  Genome name: Komagataeibacter_xylinus_E25\r\n"
       ]
      },
      {
       "output_type": "stream",
       "stream": "stdout",
       "text": [
        "  Genome length (bp): 3447725\r\n",
        "  Number of amplicons: 5\r\n",
        "  Number of fragments simulated: 23811\r\n"
       ]
      },
      {
       "output_type": "stream",
       "stream": "stdout",
       "text": [
        "Processing: \"Ehrlichia_canis_str_Jake\"\r\n"
       ]
      },
      {
       "output_type": "stream",
       "stream": "stdout",
       "text": [
        "  Genome name: Microlunatus_phosphovorus_NM-1\r\n"
       ]
      },
      {
       "output_type": "stream",
       "stream": "stdout",
       "text": [
        "  Genome length (bp): 5683123\r\n",
        "  Number of amplicons: 1\r\n",
        "  Number of fragments simulated: 39320\r\n"
       ]
      },
      {
       "output_type": "stream",
       "stream": "stdout",
       "text": [
        "  Genome name: Spiroplasma_sabaudiense_Ar-1343\r\n",
        "  Genome length (bp): 1075953\r\n",
        "  Number of amplicons: 2\r\n",
        "  Number of fragments simulated: 7433\r\n"
       ]
      },
      {
       "output_type": "stream",
       "stream": "stdout",
       "text": [
        "Processing: \"Thermobifida_fusca_YX\"\r\n"
       ]
      },
      {
       "output_type": "stream",
       "stream": "stdout",
       "text": [
        "Processing: \"Streptococcus_pasteurianus_ATCC_43144\"\r\n"
       ]
      },
      {
       "output_type": "stream",
       "stream": "stdout",
       "text": [
        "  Genome name: Sanguibacter_keddieii_DSM_10542\r\n"
       ]
      },
      {
       "output_type": "stream",
       "stream": "stdout",
       "text": [
        "  Genome length (bp): 4253413\r\n",
        "  Number of amplicons: 4\r\n",
        "  Number of fragments simulated: 29427\r\n"
       ]
      },
      {
       "output_type": "stream",
       "stream": "stdout",
       "text": [
        "Processing: \"Streptococcus_parauberis_NCFD_2020\"\r\n"
       ]
      },
      {
       "output_type": "stream",
       "stream": "stdout",
       "text": [
        "  Genome name: Bacillus_coagulans_36D1\r\n",
        "  Genome name: Halorhodospira_halophila_SL1\r\n"
       ]
      },
      {
       "output_type": "stream",
       "stream": "stdout",
       "text": [
        "  Genome length (bp): 2678452\r\n",
        "  Number of amplicons: 2\r\n",
        "  Number of fragments simulated: 18507\r\n",
        "  Genome length (bp): 3552226\r\n",
        "  Number of amplicons: 10\r\n",
        "  Number of fragments simulated: 24524\r\n"
       ]
      },
      {
       "output_type": "stream",
       "stream": "stdout",
       "text": [
        "Processing: \"Rhizobium_etli_CFN_42\"\r\n"
       ]
      },
      {
       "output_type": "stream",
       "stream": "stdout",
       "text": [
        "Processing: \"Mycoplasma_pneumoniae_309\"\r\n",
        "Processing: \"Rhodobacter_sphaeroides_WS8N\"\r\n",
        "  Genome name: Candidatus_Arthromitus_sp_SFB-mouse-Yit\r\n"
       ]
      },
      {
       "output_type": "stream",
       "stream": "stdout",
       "text": [
        "  Genome length (bp): 1586397\r\n",
        "  Number of amplicons: 5\r\n",
        "  Number of fragments simulated: 10989\r\n",
        "  Genome name: Niastella_koreensis_GR20-10\r\n"
       ]
      },
      {
       "output_type": "stream",
       "stream": "stdout",
       "text": [
        "  Genome length (bp): 9033684\r\n",
        "  Number of amplicons: 3\r\n",
        "  Number of fragments simulated: 62412\r\n"
       ]
      },
      {
       "output_type": "stream",
       "stream": "stdout",
       "text": [
        "  Genome name: Mycoplasma_pneumoniae_309\r\n",
        "  Genome length (bp): 817176\r\n",
        "  Number of amplicons: 0\r\n",
        "  Number of fragments simulated: 1\r\n"
       ]
      },
      {
       "output_type": "stream",
       "stream": "stdout",
       "text": [
        "  Genome name: Terriglobus_saanensis_SP1PR4\r\n"
       ]
      },
      {
       "output_type": "stream",
       "stream": "stdout",
       "text": [
        "  Genome length (bp): 5095226\r\n",
        "  Number of amplicons: 1\r\n",
        "  Number of fragments simulated: 35206\r\n"
       ]
      },
      {
       "output_type": "stream",
       "stream": "stdout",
       "text": [
        "  Genome name: Legionella_longbeachae_NSW150\r\n"
       ]
      },
      {
       "output_type": "stream",
       "stream": "stdout",
       "text": [
        "  Genome length (bp): 4077332\r\n",
        "  Number of amplicons: 4\r\n",
        "  Number of fragments simulated: 28187\r\n"
       ]
      },
      {
       "output_type": "stream",
       "stream": "stdout",
       "text": [
        "Traceback (most recent call last):\r\n",
        "  File \"/home/nick/notebook/SIPSim/bin/fragGC.py\", line 218, in <module>\r\n",
        "    processes=int(args['--np']))\r\n",
        "  File \"/opt/anaconda/lib/python2.7/site-packages/parmap.py\", line 169, in starmap\r\n",
        "    chunksize)\r\n",
        "  File \"/opt/anaconda/lib/python2.7/multiprocessing/pool.py\", line 251, in map\r\n",
        "    return self.map_async(func, iterable, chunksize).get()\r\n",
        "  File \"/opt/anaconda/lib/python2.7/multiprocessing/pool.py\", line 558, in get\r\n",
        "    Processing: \"Rhizobium_leguminosarum_bv_viciae_3841\"\r\n",
        "  Genome name: Herpetosiphon_aurantiacus_DSM_785\r\n"
       ]
      },
      {
       "output_type": "stream",
       "stream": "stdout",
       "text": [
        "raise self._value\r\n",
        "ValueError: cannot mmap an empty file\r\n"
       ]
      },
      {
       "output_type": "stream",
       "stream": "stdout",
       "text": [
        "  Genome length (bp): 6346587\r\n",
        "  Number of amplicons: 5\r\n",
        "  Number of fragments simulated: 43932\r\n"
       ]
      },
      {
       "output_type": "stream",
       "stream": "stdout",
       "text": [
        "  Genome name: Ehrlichia_canis_str_Jake\r\n"
       ]
      },
      {
       "output_type": "stream",
       "stream": "stdout",
       "text": [
        "  Genome length (bp): 1315030\r\n",
        "  Number of amplicons: 1\r\n",
        "  Number of fragments simulated: 9104\r\n"
       ]
      },
      {
       "output_type": "stream",
       "stream": "stdout",
       "text": [
        "  Genome name: Bartonella_tribocorum_CIP_105476\r\n"
       ]
      },
      {
       "output_type": "stream",
       "stream": "stdout",
       "text": [
        "  Genome length (bp): 2619061\r\n",
        "  Number of amplicons: 2\r\n",
        "  Number of fragments simulated: 18142\r\n"
       ]
      },
      {
       "output_type": "stream",
       "stream": "stdout",
       "text": [
        "  Genome name: Roseiflexus_castenholzii_DSM_13941\r\n"
       ]
      },
      {
       "output_type": "stream",
       "stream": "stdout",
       "text": [
        "  Genome length (bp): 5723298\r\n",
        "  Number of amplicons: 2\r\n",
        "  Number of fragments simulated: 39609\r\n"
       ]
      },
      {
       "output_type": "stream",
       "stream": "stdout",
       "text": [
        "  Genome name: Sinorhizobium_meliloti_Rm41\r\n"
       ]
      },
      {
       "output_type": "stream",
       "stream": "stdout",
       "text": [
        "  Genome length (bp): 3679105\r\n",
        "  Number of amplicons: 3\r\n",
        "  Number of fragments simulated: 25472\r\n"
       ]
      },
      {
       "output_type": "stream",
       "stream": "stdout",
       "text": [
        "  Genome name: Mycobacterium_abscessus_subsp_bolletii_103\r\n",
        "  Genome name: Streptococcus_pasteurianus_ATCC_43144\r\n",
        "  Genome length (bp): 2100077\r\n",
        "  Number of amplicons: 5\r\n",
        "  Number of fragments simulated: 14503\r\n"
       ]
      },
      {
       "output_type": "stream",
       "stream": "stdout",
       "text": [
        "  Genome length (bp): 5051394\r\n",
        "  Number of amplicons: 1\r\n",
        "  Number of fragments simulated: 34923\r\n"
       ]
      },
      {
       "output_type": "stream",
       "stream": "stdout",
       "text": [
        "  Genome name: Verminephrobacter_eiseniae_EF01-2\r\n",
        "  Genome name: Xanthomonas_axonopodis_pv_citrumelo_F1\r\n"
       ]
      },
      {
       "output_type": "stream",
       "stream": "stdout",
       "text": [
        "  Genome length (bp): 5566749\r\n",
        "  Number of amplicons: 3\r\n",
        "  Number of fragments simulated: 38531\r\n",
        "  Genome length (bp): 4967469\r\n",
        "  Number of amplicons: 2\r\n",
        "  Number of fragments simulated: 34353\r\n"
       ]
      },
      {
       "output_type": "stream",
       "stream": "stdout",
       "text": [
        "  Genome name: Streptococcus_parauberis_NCFD_2020\r\n"
       ]
      },
      {
       "output_type": "stream",
       "stream": "stdout",
       "text": [
        "  Genome length (bp): 2164480\r\n",
        "  Number of amplicons: 5\r\n",
        "  Number of fragments simulated: 14953\r\n",
        "  Genome name: Stigmatella_aurantiaca_DW4_3-1\r\n"
       ]
      },
      {
       "output_type": "stream",
       "stream": "stdout",
       "text": [
        "  Genome length (bp): 10260756\r\n",
        "  Number of amplicons: 2\r\n",
        "  Number of fragments simulated: 70809\r\n",
        "  Genome name: Pseudomonas_poae_RE*1-1-14\r\n"
       ]
      },
      {
       "output_type": "stream",
       "stream": "stdout",
       "text": [
        "  Genome length (bp): 5512241\r\n",
        "  Number of amplicons: 5\r\n",
        "  Number of fragments simulated: 38039\r\n"
       ]
      },
      {
       "output_type": "stream",
       "stream": "stdout",
       "text": [
        "  Genome name: Gramella_forsetii_KT0803\r\n",
        "  Genome length (bp): 3798465\r\n",
        "  Number of amplicons: 3\r\n",
        "  Number of fragments simulated: 26263\r\n"
       ]
      },
      {
       "output_type": "stream",
       "stream": "stdout",
       "text": [
        "  Genome name: Thermobifida_fusca_YX\r\n"
       ]
      },
      {
       "output_type": "stream",
       "stream": "stdout",
       "text": [
        "  Genome length (bp): 3642249\r\n",
        "  Number of amplicons: 4\r\n",
        "  Number of fragments simulated: 25205\r\n"
       ]
      },
      {
       "output_type": "stream",
       "stream": "stdout",
       "text": [
        "  Genome name: Amycolatopsis_orientalis_HCCB10007\r\n"
       ]
      },
      {
       "output_type": "stream",
       "stream": "stdout",
       "text": [
        "  Genome length (bp): 8948591\r\n",
        "  Number of amplicons: 4\r\n",
        "  Number of fragments simulated: 61822\r\n"
       ]
      },
      {
       "output_type": "stream",
       "stream": "stdout",
       "text": [
        "  Genome name: Ralstonia_eutropha_JMP134\r\n",
        "  Genome name: Rhodobacter_sphaeroides_WS8N\r\n"
       ]
      },
      {
       "output_type": "stream",
       "stream": "stdout",
       "text": [
        "  Genome length (bp): 4107586\r\n",
        "  Number of amplicons: 3\r\n",
        "  Number of fragments simulated: 28406\r\n"
       ]
      },
      {
       "output_type": "stream",
       "stream": "stdout",
       "text": [
        "  Genome length (bp): 6532685\r\n",
        "  Number of amplicons: 6\r\n",
        "  Number of fragments simulated: 45153\r\n"
       ]
      },
      {
       "output_type": "stream",
       "stream": "stdout",
       "text": [
        "  Genome name: Rhizobium_leguminosarum_bv_viciae_3841\r\n"
       ]
      },
      {
       "output_type": "stream",
       "stream": "stdout",
       "text": [
        "  Genome length (bp): 5927163\r\n",
        "  Number of amplicons: 3\r\n",
        "  Number of fragments simulated: 40979\r\n"
       ]
      },
      {
       "output_type": "stream",
       "stream": "stdout",
       "text": [
        "  Genome name: Saccharothrix_espanaensis_DSM_44229\r\n"
       ]
      },
      {
       "output_type": "stream",
       "stream": "stdout",
       "text": [
        "  Genome length (bp): 9360653\r\n",
        "  Number of amplicons: 4\r\n",
        "  Number of fragments simulated: 64701\r\n"
       ]
      },
      {
       "output_type": "stream",
       "stream": "stdout",
       "text": [
        "  Genome name: Burkholderia_cenocepacia_J2315\r\n"
       ]
      },
      {
       "output_type": "stream",
       "stream": "stdout",
       "text": [
        "  Genome length (bp): 7963121\r\n",
        "  Number of amplicons: 6\r\n",
        "  Number of fragments simulated: 55052\r\n"
       ]
      },
      {
       "output_type": "stream",
       "stream": "stdout",
       "text": [
        "^CError in atexit._run_exitfuncs:\r\n",
        "Traceback (most recent call last):\r\n",
        "  File \"/opt/anaconda/lib/python2.7/atexit.py\", line 24, in _run_exitfuncs\r\n",
        "Process PoolWorker-17:\r\n",
        "Process PoolWorker-20:\r\n",
        "Process PoolWorker-23:\r\n",
        "Process PoolWorker-13:\r\n",
        "Process PoolWorker-21:\r\n",
        "Traceback (most recent call last):\r\n",
        "Traceback (most recent call last):\r\n",
        "Traceback (most recent call last):\r\n",
        "Traceback (most recent call last):\r\n",
        "  File \"/home/nick/notebook/SIPSim/SIPSim\", line 42, in <module>\r\n",
        "Process PoolWorker-7:\r\n",
        "Traceback (most recent call last):\r\n",
        "Process PoolWorker-10:\r\n",
        "Process PoolWorker-3:\r\n",
        "Traceback (most recent call last):\r\n",
        "Process PoolWorker-8:\r\n",
        "Traceback (most recent call last):\r\n",
        "      File \"/opt/anaconda/lib/python2.7/multiprocessing/process.py\", line 258, in _bootstrap\r\n",
        "Process PoolWorker-22:\r\n",
        "Traceback (most recent call last):\r\n",
        "  File \"/opt/anaconda/lib/python2.7/multiprocessing/process.py\", line 258, in _bootstrap\r\n",
        "Traceback (most recent call last):\r\n",
        "  File \"/opt/anaconda/lib/python2.7/multiprocessing/process.py\", line 258, in _bootstrap\r\n",
        "Process PoolWorker-15:\r\n",
        "Process PoolWorker-5:\r\n",
        "Process PoolWorker-2:\r\n",
        "Process PoolWorker-11:\r\n",
        "Traceback (most recent call last):\r\n",
        "  File \"/opt/anaconda/lib/python2.7/multiprocessing/process.py\", line 258, in _bootstrap\r\n",
        "Process PoolWorker-24:\r\n",
        "Process PoolWorker-6:\r\n",
        "  File \"/opt/anaconda/lib/python2.7/multiprocessing/process.py\", line 258, in _bootstrap\r\n",
        "Process PoolWorker-4:\r\n",
        "Traceback (most recent call last):\r\n",
        "Traceback (most recent call last):\r\n",
        "Process PoolWorker-14:\r\n",
        "Process PoolWorker-19:\r\n",
        "Traceback (most recent call last):\r\n",
        "Process PoolWorker-1:\r\n",
        "  File \"/opt/anaconda/lib/python2.7/multiprocessing/process.py\", line 258, in _bootstrap\r\n",
        "Traceback (most recent call last):\r\n",
        "Traceback (most recent call last):\r\n",
        "Traceback (most recent call last):\r\n",
        "  File \"/opt/anaconda/lib/python2.7/multiprocessing/process.py\", line 258, in _bootstrap\r\n",
        "Traceback (most recent call last):\r\n",
        "Traceback (most recent call last):\r\n",
        "  File \"/opt/anaconda/lib/python2.7/multiprocessing/process.py\", line 258, in _bootstrap\r\n",
        "Traceback (most recent call last):\r\n",
        "  File \"/opt/anaconda/lib/python2.7/multiprocessing/process.py\", line 258, in _bootstrap\r\n",
        "Process PoolWorker-16:\r\n",
        "  File \"/opt/anaconda/lib/python2.7/multiprocessing/process.py\", line 258, in _bootstrap\r\n",
        "  File \"/opt/anaconda/lib/python2.7/multiprocessing/process.py\", line 258, in _bootstrap\r\n",
        "Traceback (most recent call last):\r\n",
        "Traceback (most recent call last):\r\n",
        "  File \"/opt/anaconda/lib/python2.7/multiprocessing/process.py\", line 258, in _bootstrap\r\n",
        "  File \"/opt/anaconda/lib/python2.7/multiprocessing/process.py\", line 258, in _bootstrap\r\n",
        "  File \"/opt/anaconda/lib/python2.7/multiprocessing/process.py\", line 258, in _bootstrap\r\n",
        "  File \"/opt/anaconda/lib/python2.7/multiprocessing/process.py\", line 258, in _bootstrap\r\n",
        "  File \"/opt/anaconda/lib/python2.7/multiprocessing/process.py\", line 258, in _bootstrap\r\n",
        "  File \"/opt/anaconda/lib/python2.7/multiprocessing/process.py\", line 258, in _bootstrap\r\n",
        "  File \"/opt/anaconda/lib/python2.7/multiprocessing/process.py\", line 258, in _bootstrap\r\n",
        "  File \"/opt/anaconda/lib/python2.7/multiprocessing/process.py\", line 258, in _bootstrap\r\n",
        "Traceback (most recent call last):\r\n",
        "  File \"/opt/anaconda/lib/python2.7/multiprocessing/process.py\", line 258, in _bootstrap\r\n",
        "  File \"/opt/anaconda/lib/python2.7/multiprocessing/process.py\", line 258, in _bootstrap\r\n",
        "exit(call(['python', scriptFile] + args['<args>']))    \r\n",
        "  File \"/opt/anaconda/lib/python2.7/subprocess.py\", line 522, in call\r\n",
        "Process PoolWorker-12:\r\n",
        "Process PoolWorker-9:\r\n",
        "Traceback (most recent call last):\r\n",
        "Traceback (most recent call last):\r\n",
        "    return Popen(*popenargs, **kwargs).wait()\r\n",
        "  File \"/opt/anaconda/lib/python2.7/multiprocessing/process.py\", line 258, in _bootstrap\r\n",
        "  File \"/opt/anaconda/lib/python2.7/multiprocessing/process.py\", line 258, in _bootstrap\r\n",
        "  File \"/opt/anaconda/lib/python2.7/subprocess.py\", line 1384, in wait\r\n",
        "    pid, sts = _eintr_retry_call(os.waitpid, self.pid, 0)\r\n",
        "  File \"/opt/anaconda/lib/python2.7/subprocess.py\", line 476, in _eintr_retry_call\r\n",
        "    return func(*args)\r\n",
        "KeyboardInterrupt\r\n",
        "    func(*targs, **kargs)\r\n",
        "  File \"/opt/anaconda/lib/python2.7/multiprocessing/util.py\", line 305, in _exit_function\r\n",
        "    _run_finalizers(0)\r\n",
        "  File \"/opt/anaconda/lib/python2.7/multiprocessing/util.py\", line 274, in _run_finalizers\r\n",
        "    finalizer()\r\n",
        "  File \"/opt/anaconda/lib/python2.7/multiprocessing/util.py\", line 207, in __call__\r\n",
        "    res = self._callback(*self._args, **self._kwargs)\r\n",
        "  File \"/opt/anaconda/lib/python2.7/multiprocessing/pool.py\", line 491, in _terminate_pool\r\n",
        "    self.run()\r\n",
        "  File \"/opt/anaconda/lib/python2.7/multiprocessing/process.py\", line 114, in run\r\n",
        "    self._target(*self._args, **self._kwargs)\r\n",
        "  File \"/opt/anaconda/lib/python2.7/multiprocessing/pool.py\", line 117, in worker\r\n",
        "    self.run()\r\n",
        "    self.run()\r\n",
        "    self.run()\r\n",
        "  File \"/opt/anaconda/lib/python2.7/multiprocessing/process.py\", line 114, in run\r\n",
        "    self.run()\r\n",
        "    self._target(*self._args, **self._kwargs)\r\n",
        "  File \"/opt/anaconda/lib/python2.7/multiprocessing/process.py\", line 114, in run\r\n",
        "  File \"/opt/anaconda/lib/python2.7/multiprocessing/process.py\", line 114, in run\r\n",
        "  File \"/opt/anaconda/lib/python2.7/multiprocessing/pool.py\", line 117, in worker\r\n",
        "  File \"/opt/anaconda/lib/python2.7/multiprocessing/process.py\", line 114, in run\r\n",
        "    self.run()\r\n",
        "  File \"/opt/anaconda/lib/python2.7/multiprocessing/process.py\", line 114, in run\r\n",
        "    self._target(*self._args, **self._kwargs)\r\n",
        "    self._target(*self._args, **self._kwargs)\r\n",
        "    self._target(*self._args, **self._kwargs)\r\n",
        "    self._target(*self._args, **self._kwargs)\r\n",
        "  File \"/opt/anaconda/lib/python2.7/multiprocessing/pool.py\", line 117, in worker\r\n",
        "  File \"/opt/anaconda/lib/python2.7/multiprocessing/pool.py\", line 117, in worker\r\n",
        "    self.run()\r\n",
        "  File \"/opt/anaconda/lib/python2.7/multiprocessing/pool.py\", line 117, in worker\r\n",
        "  File \"/opt/anaconda/lib/python2.7/multiprocessing/process.py\", line 114, in run\r\n",
        "    self.run()\r\n",
        "  File \"/opt/anaconda/lib/python2.7/multiprocessing/pool.py\", line 117, in worker\r\n",
        "  File \"/opt/anaconda/lib/python2.7/multiprocessing/process.py\", line 114, in run\r\n",
        "    self.run()\r\n",
        "    self._target(*self._args, **self._kwargs)\r\n",
        "    self.run()\r\n",
        "  File \"/opt/anaconda/lib/python2.7/multiprocessing/pool.py\", line 117, in worker\r\n",
        "    self.run()\r\n",
        "    self.run()\r\n",
        "    self._target(*self._args, **self._kwargs)\r\n",
        "    self.run()\r\n",
        "  File \"/opt/anaconda/lib/python2.7/multiprocessing/pool.py\", line 117, in worker\r\n",
        "    self.run()\r\n",
        "    self.run()\r\n",
        "    self.run()\r\n",
        "  File \"/opt/anaconda/lib/python2.7/multiprocessing/process.py\", line 114, in run\r\n",
        "    self.run()\r\n",
        "  File \"/opt/anaconda/lib/python2.7/multiprocessing/process.py\", line 114, in run\r\n",
        "  File \"/opt/anaconda/lib/python2.7/multiprocessing/process.py\", line 114, in run\r\n",
        "    self._target(*self._args, **self._kwargs)\r\n",
        "    self.run()\r\n",
        "  File \"/opt/anaconda/lib/python2.7/multiprocessing/process.py\", line 114, in run\r\n",
        "    self.run()\r\n",
        "  File \"/opt/anaconda/lib/python2.7/multiprocessing/pool.py\", line 117, in worker\r\n",
        "    self._target(*self._args, **self._kwargs)\r\n",
        "  File \"/opt/anaconda/lib/python2.7/multiprocessing/process.py\", line 114, in run\r\n",
        "  File \"/opt/anaconda/lib/python2.7/multiprocessing/process.py\", line 114, in run\r\n",
        "    self._target(*self._args, **self._kwargs)\r\n",
        "  File \"/opt/anaconda/lib/python2.7/multiprocessing/process.py\", line 114, in run\r\n",
        "  File \"/opt/anaconda/lib/python2.7/multiprocessing/pool.py\", line 117, in worker\r\n",
        "    self.run()\r\n",
        "    self._target(*self._args, **self._kwargs)\r\n",
        "  File \"/opt/anaconda/lib/python2.7/multiprocessing/pool.py\", line 117, in worker\r\n",
        "    self._target(*self._args, **self._kwargs)\r\n",
        "  File \"/opt/anaconda/lib/python2.7/multiprocessing/process.py\", line 114, in run\r\n",
        "  File \"/opt/anaconda/lib/python2.7/multiprocessing/pool.py\", line 117, in worker\r\n",
        "    self._target(*self._args, **self._kwargs)\r\n",
        "    self.run()\r\n",
        "  File \"/opt/anaconda/lib/python2.7/multiprocessing/pool.py\", line 102, in worker\r\n",
        "    self._target(*self._args, **self._kwargs)\r\n",
        "  File \"/opt/anaconda/lib/python2.7/multiprocessing/process.py\", line 114, in run\r\n",
        "  File \"/opt/anaconda/lib/python2.7/multiprocessing/pool.py\", line 117, in worker\r\n",
        "    self._target(*self._args, **self._kwargs)\r\n",
        "  File \"/opt/anaconda/lib/python2.7/multiprocessing/pool.py\", line 117, in worker\r\n",
        "  File \"/opt/anaconda/lib/python2.7/multiprocessing/process.py\", line 114, in run\r\n",
        "    self._target(*self._args, **self._kwargs)\r\n",
        "  File \"/opt/anaconda/lib/python2.7/multiprocessing/process.py\", line 114, in run\r\n",
        "  File \"/opt/anaconda/lib/python2.7/multiprocessing/process.py\", line 114, in run\r\n",
        "    self.run()\r\n",
        "    self._target(*self._args, **self._kwargs)\r\n",
        "    self.run()\r\n",
        "  File \"/opt/anaconda/lib/python2.7/multiprocessing/process.py\", line 114, in run\r\n",
        "  File \"/opt/anaconda/lib/python2.7/multiprocessing/pool.py\", line 117, in worker\r\n",
        "    self._target(*self._args, **self._kwargs)\r\n",
        "  File \"/opt/anaconda/lib/python2.7/multiprocessing/process.py\", line 114, in run\r\n",
        "  File \"/opt/anaconda/lib/python2.7/multiprocessing/process.py\", line 114, in run\r\n",
        "    self._target(*self._args, **self._kwargs)\r\n",
        "  File \"/opt/anaconda/lib/python2.7/multiprocessing/pool.py\", line 117, in worker\r\n",
        "    self._target(*self._args, **self._kwargs)\r\n",
        "  File \"/opt/anaconda/lib/python2.7/multiprocessing/pool.py\", line 117, in worker\r\n",
        "  File \"/opt/anaconda/lib/python2.7/multiprocessing/pool.py\", line 117, in worker\r\n",
        "    self._target(*self._args, **self._kwargs)\r\n",
        "    self._target(*self._args, **self._kwargs)\r\n",
        "  File \"/opt/anaconda/lib/python2.7/multiprocessing/pool.py\", line 117, in worker\r\n",
        "  File \"/opt/anaconda/lib/python2.7/multiprocessing/pool.py\", line 117, in worker\r\n",
        "  File \"/opt/anaconda/lib/python2.7/multiprocessing/pool.py\", line 117, in worker\r\n",
        "  File \"/opt/anaconda/lib/python2.7/multiprocessing/pool.py\", line 102, in worker\r\n",
        "    outqueue.put(None)                  # sentinel\r\n",
        "    put((job, i, result))\r\n",
        "  File \"/opt/anaconda/lib/python2.7/multiprocessing/queues.py\", line 388, in put\r\n",
        "    put((job, i, result))\r\n",
        "  File \"/opt/anaconda/lib/python2.7/multiprocessing/queues.py\", line 388, in put\r\n",
        "    put((job, i, result))\r\n",
        "  File \"/opt/anaconda/lib/python2.7/multiprocessing/queues.py\", line 388, in put\r\n",
        "  File \"/opt/anaconda/lib/python2.7/multiprocessing/queues.py\", line 388, in put\r\n",
        "    put((job, i, result))\r\n",
        "    put((job, i, result))\r\n",
        "  File \"/opt/anaconda/lib/python2.7/multiprocessing/queues.py\", line 388, in put\r\n",
        "    put((job, i, result))\r\n",
        "  File \"/opt/anaconda/lib/python2.7/multiprocessing/queues.py\", line 388, in put\r\n",
        "    put((job, i, result))\r\n",
        "  File \"/opt/anaconda/lib/python2.7/multiprocessing/queues.py\", line 388, in put\r\n",
        "    put((job, i, result))\r\n",
        "    put((job, i, result))\r\n",
        "    put((job, i, result))\r\n",
        "  File \"/opt/anaconda/lib/python2.7/multiprocessing/queues.py\", line 388, in put\r\n",
        "  File \"/opt/anaconda/lib/python2.7/multiprocessing/queues.py\", line 388, in put\r\n",
        "\r\n",
        "  File \"/opt/anaconda/lib/python2.7/multiprocessing/queues.py\", line 388, in put\r\n",
        "    put((job, i, result))\r\n",
        "    put((job, i, result))\r\n",
        "    wacquire()\r\n",
        "  File \"/opt/anaconda/lib/python2.7/multiprocessing/queues.py\", line 388, in put\r\n",
        "KeyboardInterrupt\r\n",
        "    task = get()\r\n",
        "    wacquire()\r\n",
        "  File \"/opt/anaconda/lib/python2.7/multiprocessing/queues.py\", line 374, in get\r\n",
        "    put((job, i, result))\r\n",
        "    put((job, i, result))\r\n",
        "  File \"/opt/anaconda/lib/python2.7/multiprocessing/queues.py\", line 388, in put\r\n",
        "    put((job, i, result))\r\n",
        "    racquire()\r\n",
        "    put((job, i, result))\r\n",
        "    put((job, i, result))\r\n",
        "  File \"/opt/anaconda/lib/python2.7/multiprocessing/queues.py\", line 388, in put\r\n",
        "    put((job, i, result))\r\n",
        "    put((job, i, result))\r\n",
        "    put((job, i, result))\r\n",
        "    wacquire()\r\n",
        "    task = get()\r\n",
        "  File \"/opt/anaconda/lib/python2.7/multiprocessing/queues.py\", line 388, in put\r\n",
        "    put((job, i, result))\r\n",
        "KeyboardInterrupt\r\n",
        "    wacquire()\r\n",
        "  File \"/opt/anaconda/lib/python2.7/multiprocessing/queues.py\", line 374, in get\r\n",
        "KeyboardInterrupt\r\n",
        "  File \"/opt/anaconda/lib/python2.7/multiprocessing/queues.py\", line 388, in put\r\n",
        "    wacquire()\r\n",
        "    wacquire()\r\n",
        "    wacquire()\r\n",
        "KeyboardInterrupt\r\n",
        "KeyboardInterrupt\r\n",
        "    wacquire()\r\n",
        "KeyboardInterrupt\r\n",
        "    wacquire()\r\n",
        "    wacquire()\r\n",
        "KeyboardInterrupt\r\n",
        "    wacquire()\r\n",
        "    wacquire()\r\n",
        "    wacquire()\r\n",
        "KeyboardInterrupt\r\n",
        "KeyboardInterrupt\r\n",
        "KeyboardInterrupt\r\n",
        "KeyboardInterrupt\r\n",
        "KeyboardInterrupt\r\n",
        "    racquire()\r\n",
        "    wacquire()\r\n",
        "  File \"/opt/anaconda/lib/python2.7/multiprocessing/queues.py\", line 388, in put\r\n",
        "  File \"/opt/anaconda/lib/python2.7/multiprocessing/queues.py\", line 388, in put\r\n",
        "KeyboardInterrupt\r\n",
        "KeyboardInterrupt\r\n",
        "KeyboardInterrupt\r\n",
        "  File \"/opt/anaconda/lib/python2.7/multiprocessing/queues.py\", line 388, in put\r\n",
        "    wacquire()\r\n",
        "  File \"/opt/anaconda/lib/python2.7/multiprocessing/queues.py\", line 388, in put\r\n",
        "KeyboardInterrupt\r\n",
        "  File \"/opt/anaconda/lib/python2.7/multiprocessing/queues.py\", line 388, in put\r\n",
        "  File \"/opt/anaconda/lib/python2.7/multiprocessing/queues.py\", line 388, in put\r\n",
        "  File \"/opt/anaconda/lib/python2.7/multiprocessing/queues.py\", line 388, in put\r\n",
        "KeyboardInterrupt\r\n",
        "    wacquire()\r\n",
        "    wacquire()\r\n",
        "    wacquire()\r\n",
        "KeyboardInterrupt\r\n",
        "KeyboardInterrupt\r\n",
        "    wacquire()\r\n",
        "KeyboardInterrupt\r\n",
        "KeyboardInterrupt\r\n",
        "    wacquire()\r\n",
        "Error in sys.exitfunc:\r\n",
        "    wacquire()\r\n",
        "KeyboardInterrupt\r\n",
        "KeyboardInterrupt\r\n",
        "    wacquire()\r\n",
        "Traceback (most recent call last):\r\n",
        "KeyboardInterrupt\r\n",
        "  File \"/opt/anaconda/lib/python2.7/atexit.py\", line 24, in _run_exitfuncs\r\n",
        "    func(*targs, **kargs)\r\n",
        "  File \"/opt/anaconda/lib/python2.7/multiprocessing/util.py\", line 305, in _exit_function\r\n",
        "    _run_finalizers(0)\r\n",
        "  File \"/opt/anaconda/lib/python2.7/multiprocessing/util.py\", line 274, in _run_finalizers\r\n",
        "    finalizer()\r\n",
        "  File \"/opt/anaconda/lib/python2.7/multiprocessing/util.py\", line 207, in __call__\r\n",
        "    res = self._callback(*self._args, **self._kwargs)\r\n",
        "  File \"/opt/anaconda/lib/python2.7/multiprocessing/pool.py\", line 491, in _terminate_pool\r\n",
        "    outqueue.put(None)                  # sentinel\r\n",
        "  File \"/opt/anaconda/lib/python2.7/multiprocessing/queues.py\", line 388, in put\r\n",
        "    wacquire()\r\n",
        "KeyboardInterrupt\r\n"
       ]
      }
     ],
     "prompt_number": 176
    },
    {
     "cell_type": "code",
     "collapsed": false,
     "input": [],
     "language": "python",
     "metadata": {},
     "outputs": []
    }
   ],
   "metadata": {}
  }
 ]
}