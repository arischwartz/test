{
 "cells": [
  {
   "cell_type": "code",
   "execution_count": 13,
   "metadata": {
    "collapsed": true
   },
   "outputs": [],
   "source": [
    "from sklearn.neighbors.kde import KernelDensity\n",
    "import scipy.stats as stats"
   ]
  },
  {
   "cell_type": "code",
   "execution_count": 4,
   "metadata": {
    "collapsed": false
   },
   "outputs": [],
   "source": [
    "f = lambda x: KernelDensity(kernel='gaussian').fit(np.random.randn(x))\n",
    "kd1 = f(100)\n",
    "kd2 = f(100)"
   ]
  },
  {
   "cell_type": "code",
   "execution_count": 57,
   "metadata": {
    "collapsed": false
   },
   "outputs": [],
   "source": [
    "n = 100\n",
    "vals = [np.random.normal(loc=50, scale=5, size=n),\n",
    "        np.random.normal(loc=9000, scale=500, size=n)]\n",
    "\n",
    "kde2d = stats.gaussian_kde(vals, bw_method=0.001)"
   ]
  },
  {
   "cell_type": "code",
   "execution_count": null,
   "metadata": {
    "collapsed": true
   },
   "outputs": [],
   "source": []
  },
  {
   "cell_type": "code",
   "execution_count": null,
   "metadata": {
    "collapsed": true
   },
   "outputs": [],
   "source": []
  },
  {
   "cell_type": "code",
   "execution_count": 50,
   "metadata": {
    "collapsed": false
   },
   "outputs": [],
   "source": [
    "import matplotlib.pyplot as plt\n",
    "\n",
    "from sklearn.datasets import load_digits\n",
    "from sklearn.neighbors import KernelDensity\n",
    "from sklearn.decomposition import PCA\n",
    "from sklearn.grid_search import GridSearchCV\n",
    "\n",
    "# creating data\n",
    "n = 100\n",
    "frag_GC_len = np.array([np.random.normal(loc=50, scale=5, size=n),\n",
    "                       np.random.normal(loc=9000, scale=500, size=n)])\n",
    "\n",
    "\n",
    "\n",
    "# project the 64-dimensional data to a lower dimension\n",
    "#pca = PCA(n_components=15, whiten=False)\n",
    "#data = pca.fit_transform(frag_GC_len)\n",
    "\n",
    "# use grid search cross-validation to optimize the bandwidth\n",
    "#params = {'bandwidth': np.logspace(-10, 1, 20)}\n",
    "#grid = GridSearchCV(KernelDensity(), params)\n",
    "#grid.fit(data)\n",
    "\n",
    "kde2d = KernelDensity(kernel='gaussian').fit(frag_GC_len)"
   ]
  },
  {
   "cell_type": "code",
   "execution_count": 48,
   "metadata": {
    "collapsed": false
   },
   "outputs": [
    {
     "data": {
      "text/plain": [
       "array([[  9219.8219628 ,   9151.0201936 ,   8812.90722086,   8967.36285039,\n",
       "          9029.82688696,   8951.53023345,   8588.27464719,   9047.71158239,\n",
       "          9793.34616576,   8894.63970582,   8697.24330903,   9232.81071165,\n",
       "          9846.74119575,   9219.44331398,   9153.70144306,   7924.31976878,\n",
       "          8123.05361622,   8673.99254927,   8644.34200164,   8438.56743974,\n",
       "         10031.73251997,   7774.35357438,   8730.65662231,   7741.59780738,\n",
       "          9495.10110994,   9177.98577903,   9030.77938994,   9809.90060109,\n",
       "          8123.04697428,   9112.19480726,   9529.2481136 ,   8791.09946756,\n",
       "          9315.70593057,   9231.93646796,   7977.67312384,   9244.10022767,\n",
       "          8923.83520431,   8979.63106527,   8734.53644146,   9237.50428527,\n",
       "          9758.64080818,   8910.20188941,   9044.01222208,   9655.29678541,\n",
       "          8705.83425374,   8841.2645952 ,   8951.19269076,   9314.62430433,\n",
       "          9206.04119007,   8681.26352146,   8817.3978402 ,   9330.89943528,\n",
       "          9296.11927806,   8672.37752839,   8374.94801092,   9077.38960594,\n",
       "          9404.07396403,   8857.5129553 ,   8880.56401069,   9415.9385786 ,\n",
       "          8998.00147269,   8444.38250238,   8461.23420117,   9625.47298891,\n",
       "          8474.23452314,   9079.0240809 ,   8680.76377737,   8700.85912272,\n",
       "          8432.61017689,   8338.52929071,   9056.08973161,   8715.22146546,\n",
       "          7926.25893577,   8655.34166053,   9781.69360748,   8893.1535596 ,\n",
       "          9016.32131853,   7980.76754354,   9867.27059314,   9114.38762971,\n",
       "          8212.19120814,   8966.49678734,   9622.15283056,   8793.88639896,\n",
       "          8762.40763847,   9303.54478623,   8847.54476343,   9220.07858838,\n",
       "          9194.69326094,   9297.65363307,   9547.45783764,   8753.0101757 ,\n",
       "          9218.41115836,   9677.51088176,   9320.88084009,   9149.3874263 ,\n",
       "          8698.67483192,   9031.37321775,   8393.2585986 ,   9100.86296066]])"
      ]
     },
     "execution_count": 48,
     "metadata": {},
     "output_type": "execute_result"
    }
   ],
   "source": [
    "kde2d.sample()"
   ]
  },
  {
   "cell_type": "code",
   "execution_count": 29,
   "metadata": {
    "collapsed": false
   },
   "outputs": [
    {
     "data": {
      "text/plain": [
       "KernelDensity(algorithm='auto', atol=0, bandwidth=1.0, breadth_first=True,\n",
       "       kernel='gaussian', leaf_size=40, metric='euclidean',\n",
       "       metric_params=None, rtol=0)"
      ]
     },
     "execution_count": 29,
     "metadata": {},
     "output_type": "execute_result"
    }
   ],
   "source": [
    "KernelDensity(kernel='gaussian').fit(vals)"
   ]
  },
  {
   "cell_type": "code",
   "execution_count": null,
   "metadata": {
    "collapsed": true
   },
   "outputs": [],
   "source": []
  },
  {
   "cell_type": "markdown",
   "metadata": {},
   "source": [
    "# Stats distributions"
   ]
  },
  {
   "cell_type": "code",
   "execution_count": 73,
   "metadata": {
    "collapsed": false
   },
   "outputs": [
    {
     "data": {
      "text/plain": [
       "array([ 0.10352668,  0.21056023,  0.22544972,  0.29572876,  0.42933331,\n",
       "        0.58361611,  0.73373928,  0.8682684 ,  0.96743923,  1.        ])"
      ]
     },
     "execution_count": 73,
     "metadata": {},
     "output_type": "execute_result"
    }
   ],
   "source": [
    "freqs = np.random.uniform(size=10)\n",
    "\n",
    "cs = np.cumsum(freqs)\n",
    "cs /= cs[-1]\n",
    "cs"
   ]
  },
  {
   "cell_type": "code",
   "execution_count": null,
   "metadata": {
    "collapsed": true
   },
   "outputs": [],
   "source": []
  }
 ],
 "metadata": {
  "kernelspec": {
   "display_name": "Python 2",
   "language": "python",
   "name": "python2"
  },
  "language_info": {
   "codemirror_mode": {
    "name": "ipython",
    "version": 2
   },
   "file_extension": ".py",
   "mimetype": "text/x-python",
   "name": "python",
   "nbconvert_exporter": "python",
   "pygments_lexer": "ipython2",
   "version": "2.7.9"
  }
 },
 "nbformat": 4,
 "nbformat_minor": 0
}
