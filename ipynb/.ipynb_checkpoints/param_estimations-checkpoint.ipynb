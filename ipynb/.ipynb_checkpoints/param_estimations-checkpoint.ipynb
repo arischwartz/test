{
 "metadata": {
  "name": "",
  "signature": "sha256:cbdce3f71d57c074934b6c0bdb4bf000ff32eaeb317273cafc19acf552d84bd0"
 },
 "nbformat": 3,
 "nbformat_minor": 0,
 "worksheets": [
  {
   "cells": [
    {
     "cell_type": "markdown",
     "metadata": {},
     "source": [
      "# Number of genome copies in a gram of soil\n",
      "\n",
      "* prokaryotic cells per gram of soil: <= 1e10\n",
      "    * bionumbers\n",
      "* genome copies per prokaryotic cell: "
     ]
    },
    {
     "cell_type": "markdown",
     "metadata": {},
     "source": [
      "# Number of genome copies in X ug of soil DNA\n",
      "\n",
      "* mean DNA conc. in a cell (Fg): 3-18\n",
      "  * bionumbers"
     ]
    },
    {
     "cell_type": "code",
     "collapsed": false,
     "input": [
      "gradientDNA_low = 5e-6 \n",
      "gradientDNA_high = 8e-6 \n",
      "cellDNA_low = 3e-15 \n",
      "cellDNA_high = 18e-15 \n",
      "\n",
      "print \"Number of genome copies in the gradient: \"\n",
      "print '  High: {0:.2e}'.format(gradientDNA_high / cellDNA_low)\n",
      "print '  Low: {0:.2e}'.format(gradientDNA_low / cellDNA_high)"
     ],
     "language": "python",
     "metadata": {},
     "outputs": [
      {
       "output_type": "stream",
       "stream": "stdout",
       "text": [
        "Number of genome copies: \n",
        "  High: 2.67e+09\n",
        "  Low: 2.78e+08\n"
       ]
      }
     ],
     "prompt_number": 16
    },
    {
     "cell_type": "markdown",
     "metadata": {},
     "source": [
      "## Number of bacterial 16S rRNA copies in X ug of soil DNA\n",
      "\n",
      "* 16S rRNA copies per genome: 1-15\n",
      "  * mean copy #: 4.2 \n",
      "  * http://journals.plos.org/plosone/article?id=10.1371/journal.pone.0057923"
     ]
    },
    {
     "cell_type": "code",
     "collapsed": false,
     "input": [
      "mean_16S_copy = 4.2\n",
      "\n",
      "print \"Number of 16S rRNA copies in the gradient: \"\n",
      "print '  High: {0:.2e}'.format(gradientDNA_high / cellDNA_low * mean_16S_copy)\n",
      "print '  Low: {0:.2e}'.format(gradientDNA_low / cellDNA_high * mean_16S_copy)"
     ],
     "language": "python",
     "metadata": {},
     "outputs": [
      {
       "output_type": "stream",
       "stream": "stdout",
       "text": [
        "Number of 16S rRNA copies in the gradient: \n",
        "  High: 1.12e+10\n",
        "  Low: 1.17e+09\n"
       ]
      }
     ],
     "prompt_number": 17
    },
    {
     "cell_type": "markdown",
     "metadata": {},
     "source": [
      "__Notes:__\n",
      "\n",
      "* Will need to simulate >= 1 billion DNA fragments containing a 16S rRNA gene\n",
      "* \\>=10 billion DNA fragments containing a 16S rRNA gene could be present in one gradient"
     ]
    },
    {
     "cell_type": "markdown",
     "metadata": {},
     "source": [
      "## Abundance cutoff for a large BD distribution due to diffusion\n",
      "\n",
      "* Based on E. coli simulations, an abs abundance of 1e8 will produce a fragment BD distribution spanning most of the gradient"
     ]
    },
    {
     "cell_type": "code",
     "collapsed": false,
     "input": [
      "total_abund_high = 1.12e10\n",
      "total_abund_low = 1.17e9\n",
      "\n",
      "print 'Relative abundance where taxon should be observed across most of a gradient: '\n",
      "print '  High: {0:.2f}%'.format(1e8 / total_abund_high * 100)\n",
      "print '  Low: {0:.2f}%'.format(1e8 / total_abund_low * 100)"
     ],
     "language": "python",
     "metadata": {},
     "outputs": [
      {
       "output_type": "stream",
       "stream": "stdout",
       "text": [
        "Relative abundance where taxon should be observed across most of a gradient: \n",
        "  High: 0.89%\n",
        "  Low: 8.55%\n"
       ]
      }
     ],
     "prompt_number": 20
    },
    {
     "cell_type": "markdown",
     "metadata": {},
     "source": [
      "__Notes:__\n",
      "\n",
      "* Numbers seem reasonable based on Ashley's data.\n",
      "  * Ashley's data indicates high end is more likely the case for her dataset."
     ]
    },
    {
     "cell_type": "code",
     "collapsed": false,
     "input": [],
     "language": "python",
     "metadata": {},
     "outputs": []
    }
   ],
   "metadata": {}
  }
 ]
}