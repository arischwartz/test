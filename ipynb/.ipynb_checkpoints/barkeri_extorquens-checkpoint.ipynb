{
 "cells": [
  {
   "cell_type": "markdown",
   "metadata": {},
   "source": [
    "# Description\n",
    "\n",
    "* Simulating CsCl gradient to reproduce the results in:\n",
    "> Lueders T, Manefield M, Friedrich MW. (2004). Enhanced sensitivity of DNA- and rRNA-based stable isotope probing by fractionation and quantitative analysis of isopycnic centrifugation gradients. Environmental Microbiology 6:73–78.\n",
    "\n",
    "* rotor:\n",
    "  * TV865\n",
    "* rotor speed:\n",
    "  * 45000 rpm\n",
    "* spin time:\n",
    "  * \\>36 hr\n",
    "* gradient average density:\n",
    "  * 1.725 g/ml\n",
    "* Fraction sizes:\n",
    "  * 400 ul\n",
    "* Used gDNA\n",
    "  * 13C-labeled\n",
    "  * 13C-methanol\n",
    "  * 5 ug\n",
    "* strains\n",
    "  * Methylobacterium extorquens AM1 DSM 1338\n",
    "  * M. barkeri DSM 800\n",
    "  "
   ]
  },
  {
   "cell_type": "markdown",
   "metadata": {},
   "source": [
    "# Setting variables"
   ]
  },
  {
   "cell_type": "code",
   "execution_count": 30,
   "metadata": {
    "collapsed": true
   },
   "outputs": [],
   "source": [
    "workDir = \"/home/nick/notebook/SIPSim/t/M.bark_M.ext/\""
   ]
  },
  {
   "cell_type": "markdown",
   "metadata": {},
   "source": [
    "# Init"
   ]
  },
  {
   "cell_type": "code",
   "execution_count": 1,
   "metadata": {
    "collapsed": true
   },
   "outputs": [],
   "source": [
    "import os\n",
    "import sys\n",
    "%load_ext rpy2.ipython"
   ]
  },
  {
   "cell_type": "code",
   "execution_count": 2,
   "metadata": {
    "collapsed": false
   },
   "outputs": [
    {
     "data": {
      "text/plain": [
       "\n",
       "Attaching package: ‘dplyr’\n",
       "\n",
       "The following object is masked from ‘package:stats’:\n",
       "\n",
       "    filter\n",
       "\n",
       "The following objects are masked from ‘package:base’:\n",
       "\n",
       "    intersect, setdiff, setequal, union\n",
       "\n"
      ]
     },
     "metadata": {},
     "output_type": "display_data"
    }
   ],
   "source": [
    "%%R\n",
    "library(ggplot2)\n",
    "library(dplyr)\n",
    "library(tidyr)"
   ]
  },
  {
   "cell_type": "markdown",
   "metadata": {},
   "source": [
    "# Downloading genomes\n",
    "\n",
    "* M. barkeri DSM 800\n",
    "  * RefSeq = NC_007355.1, NC_007349.1\n",
    "* Methylobacterium extorquens AM1 DSM 1338\n",
    "  * RefSeq = NC_012808.1, NC_012811.1, NC_012807.1, NC_012809.1, NC_012810.1"
   ]
  },
  {
   "cell_type": "code",
   "execution_count": 4,
   "metadata": {
    "collapsed": false
   },
   "outputs": [
    {
     "name": "stdout",
     "output_type": "stream",
     "text": [
      "Starting batch: 1\n",
      "Starting trial: 1\n",
      "\n",
      "--------------------- WARNING ---------------------\n",
      "MSG: No whitespace allowed in FASTA ID [NC_007355|Methanosarcina barkeri str. Fusaro, complete genome.]\n",
      "---------------------------------------------------\n",
      "\n",
      "--------------------- WARNING ---------------------\n",
      "MSG: No whitespace allowed in FASTA ID [NC_007355|Methanosarcina barkeri str. Fusaro, complete genome.]\n",
      "---------------------------------------------------\n",
      "\n",
      "--------------------- WARNING ---------------------\n",
      "MSG: No whitespace allowed in FASTA ID [NC_007349|Methanosarcina barkeri str. fusaro plasmid 1, complete sequence.]\n",
      "---------------------------------------------------\n",
      "\n",
      "--------------------- WARNING ---------------------\n",
      "MSG: No whitespace allowed in FASTA ID [NC_007349|Methanosarcina barkeri str. fusaro plasmid 1, complete sequence.]\n",
      "---------------------------------------------------\n"
     ]
    }
   ],
   "source": [
    "!cd $workDir; \\\n",
    "    seqDB_tools accession-GI2fasta < M.barkeri_refseq.txt > M.barkeri.fna"
   ]
  },
  {
   "cell_type": "code",
   "execution_count": 5,
   "metadata": {
    "collapsed": false
   },
   "outputs": [
    {
     "name": "stdout",
     "output_type": "stream",
     "text": [
      "Starting batch: 1\n",
      "Starting trial: 1\n",
      "\n",
      "--------------------- WARNING ---------------------\n",
      "MSG: No whitespace allowed in FASTA ID [NC_012808|Methylobacterium extorquens AM1, complete genome.]\n",
      "---------------------------------------------------\n",
      "\n",
      "--------------------- WARNING ---------------------\n",
      "MSG: No whitespace allowed in FASTA ID [NC_012808|Methylobacterium extorquens AM1, complete genome.]\n",
      "---------------------------------------------------\n",
      "\n",
      "--------------------- WARNING ---------------------\n",
      "MSG: No whitespace allowed in FASTA ID [NC_012811|Methylobacterium extorquens AM1 megaplasmid, complete sequence.]\n",
      "---------------------------------------------------\n",
      "\n",
      "--------------------- WARNING ---------------------\n",
      "MSG: No whitespace allowed in FASTA ID [NC_012811|Methylobacterium extorquens AM1 megaplasmid, complete sequence.]\n",
      "---------------------------------------------------\n",
      "\n",
      "--------------------- WARNING ---------------------\n",
      "MSG: No whitespace allowed in FASTA ID [NC_012807|Methylobacterium extorquens AM1 plasmid p1META1, complete sequence.]\n",
      "---------------------------------------------------\n",
      "\n",
      "--------------------- WARNING ---------------------\n",
      "MSG: No whitespace allowed in FASTA ID [NC_012807|Methylobacterium extorquens AM1 plasmid p1META1, complete sequence.]\n",
      "---------------------------------------------------\n",
      "\n",
      "--------------------- WARNING ---------------------\n",
      "MSG: No whitespace allowed in FASTA ID [NC_012809|Methylobacterium extorquens AM1 plasmid p2META1, complete sequence.]\n",
      "---------------------------------------------------\n",
      "\n",
      "--------------------- WARNING ---------------------\n",
      "MSG: No whitespace allowed in FASTA ID [NC_012809|Methylobacterium extorquens AM1 plasmid p2META1, complete sequence.]\n",
      "---------------------------------------------------\n",
      "\n",
      "--------------------- WARNING ---------------------\n",
      "MSG: No whitespace allowed in FASTA ID [NC_012810|Methylobacterium extorquens AM1 plasmid p3META1, complete sequence.]\n",
      "---------------------------------------------------\n",
      "\n",
      "--------------------- WARNING ---------------------\n",
      "MSG: No whitespace allowed in FASTA ID [NC_012810|Methylobacterium extorquens AM1 plasmid p3META1, complete sequence.]\n",
      "---------------------------------------------------\n"
     ]
    }
   ],
   "source": [
    "!cd $workDir; \\\n",
    "    seqDB_tools accession-GI2fasta < M.extorquens_AM1_refseq.txt > M.extorquens_AM1.fna"
   ]
  },
  {
   "cell_type": "markdown",
   "metadata": {},
   "source": [
    "# Indexing genomes"
   ]
  },
  {
   "cell_type": "code",
   "execution_count": 12,
   "metadata": {
    "collapsed": true
   },
   "outputs": [],
   "source": [
    "# renaming genome sequences\n",
    "!cd $workDir; \\\n",
    "    find . -name \"*_rn.fna\" |\\\n",
    "    xargs -I % rm -f %\n",
    "    \n",
    "!cd $workDir; \\\n",
    "    find . -name \"*.fna\" |\\\n",
    "    perl -pe 's/\\.fna$//' | \\\n",
    "    xargs -P 2 -I % bash -c \\\n",
    "    \"SIPSim renameGenomes %.fna > %_rn.fna\""
   ]
  },
  {
   "cell_type": "code",
   "execution_count": 13,
   "metadata": {
    "collapsed": false
   },
   "outputs": [
    {
     "name": "stdout",
     "output_type": "stream",
     "text": [
      "M.extorquens_AM1_rn\tM.extorquens_AM1_rn.fna\r\n",
      "M.barkeri_rn\tM.barkeri_rn.fna\r\n"
     ]
    }
   ],
   "source": [
    "# list of all genomes files and their associated names\n",
    "!cd $workDir; \\\n",
    "    find . -name \"*_rn.fna\" | \\\n",
    "    perl -pe 's/.+\\///' | \\\n",
    "    perl -pe 's/(.+)(\\.[^.]+)/\\$1\\t\\$1\\$2/' > genomes_all_list.txt\n",
    "    \n",
    "!cd $workDir; head genomes_all_list.txt"
   ]
  },
  {
   "cell_type": "code",
   "execution_count": 15,
   "metadata": {
    "collapsed": false
   },
   "outputs": [
    {
     "name": "stdout",
     "output_type": "stream",
     "text": [
      "Indexing: \"M.extorquens_AM1_rn\"\r\n",
      "Indexing: \"M.barkeri_rn\"\r\n"
     ]
    }
   ],
   "source": [
    "!cd $workDir; \\\n",
    "    SIPSim indexGenomes genomes_all_list.txt \\\n",
    "    --np 2 > index_log.txt"
   ]
  },
  {
   "cell_type": "markdown",
   "metadata": {},
   "source": [
    "# Simulating a gradient community"
   ]
  },
  {
   "cell_type": "code",
   "execution_count": 26,
   "metadata": {
    "collapsed": false
   },
   "outputs": [
    {
     "name": "stdout",
     "output_type": "stream",
     "text": [
      "library\ttaxon_name\trel_abund_perc\trank\r\n",
      "1\tM.extorquens_AM1_rn\t50.000000000\t1\r\n",
      "1\tM.barkeri_rn\t50.000000000\t2\r\n"
     ]
    }
   ],
   "source": [
    "!cd $workDir; \\\n",
    "    SIPSim gradientComms \\\n",
    "    --n_comm 1 \\\n",
    "    --abund_dist uniform \\\n",
    "    --abund_dist_p low:1,high:1 \\\n",
    "    genomes_all_list.txt > comm-n1-unif.txt\n",
    "    \n",
    "!cd $workDir; tail comm-n1-unif.txt"
   ]
  },
  {
   "cell_type": "markdown",
   "metadata": {},
   "source": [
    "# Simulating isotope incorporation"
   ]
  },
  {
   "cell_type": "code",
   "execution_count": 27,
   "metadata": {
    "collapsed": true
   },
   "outputs": [],
   "source": [
    "# making config file\n",
    "config = \"\"\"\n",
    "[library 1]\n",
    "  # baseline: no incorp\n",
    "  \n",
    "  [[intraPopDist 1]]\n",
    "  distribution = uniform\n",
    "\n",
    "    [[[start]]]\n",
    "\n",
    "      [[[[interPopDist 1]]]]\n",
    "        distribution = uniform\n",
    "        start = 0\n",
    "        end = 0\n",
    "\n",
    "    [[[end]]]\n",
    "\n",
    "      [[[[interPopDist 1]]]]\n",
    "        distribution = uniform\n",
    "        start = 0\n",
    "        end = 0\n",
    "\"\"\"\n",
    "\n",
    "outfile = os.path.join(workDir, 'incorp.config')\n",
    "\n",
    "outf = open(outfile, 'wb')\n",
    "outf.write(config)\n",
    "outf.close()"
   ]
  },
  {
   "cell_type": "code",
   "execution_count": 28,
   "metadata": {
    "collapsed": false
   },
   "outputs": [
    {
     "name": "stdout",
     "output_type": "stream",
     "text": [
      "library\ttaxon_name\tdistribution_index\tdistribution\tweight\tparam\tparam_value\r\n",
      "1\tM.barkeri_rn\t1\tuniform\t1.0\tstart\t0.0\r\n",
      "1\tM.barkeri_rn\t1\tuniform\t1.0\tend\t0.0\r\n",
      "1\tM.extorquens_AM1_rn\t1\tuniform\t1.0\tstart\t0.0\r\n",
      "1\tM.extorquens_AM1_rn\t1\tuniform\t1.0\tend\t0.0\r\n"
     ]
    }
   ],
   "source": [
    "!cd $workDir; \\\n",
    "    SIPSim isoIncorp \\\n",
    "    comm-n1-unif.txt incorp.config \\\n",
    "    > incorp-n1-unif.txt\n",
    "    \n",
    "!cd $workDir; head incorp-n1-unif.txt"
   ]
  },
  {
   "cell_type": "code",
   "execution_count": 87,
   "metadata": {
    "collapsed": false
   },
   "outputs": [
    {
     "name": "stdout",
     "output_type": "stream",
     "text": [
      "library\ttaxon_name\tdistribution_index\tdistribution\tweight\tparam\tparam_value\n",
      "1\tM.barkeri_rn\t1\tuniform\t1.0\tstart\t0.0\n",
      "1\tM.barkeri_rn\t1\tuniform\t1.0\tend\t0.0\n",
      "1\tM.extorquens_AM1_rn\t1\tuniform\t1.0\tstart\t0.0\n",
      "1\tM.extorquens_AM1_rn\t1\tuniform\t1.0\tend\t0.0\n",
      "2\tM.barkeri_rn\t1\tuniform\t1.0\tstart\t0.0\n",
      "2\tM.barkeri_rn\t1\tuniform\t1.0\tend\t0.0\n",
      "2\tM.extorquens_AM1_rn\t1\tuniform\t1.0\tstart\t100.0\n",
      "2\tM.extorquens_AM1_rn\t1\tuniform\t1.0\tend\t100.0\n"
     ]
    }
   ],
   "source": [
    "%%bash -s \"$workDir\"\n",
    "# adding incorp 100% library for N.extorquens\n",
    "cd $1\n",
    "\n",
    "cat incorp-n1-unif.txt \\\n",
    "    <(tail -n +2 incorp-n1-unif.txt | \\\n",
    "    perl -pe 's/^1/2/' | \\\n",
    "    perl -pe 's/0\\.0/100.0/ if /M.extorquens/') \\\n",
    "    > incorp-n2-unif.txt\n",
    "    \n",
    "    \n",
    "head incorp-n2-unif.txt"
   ]
  },
  {
   "cell_type": "markdown",
   "metadata": {},
   "source": [
    "# Resimulating community (n=2)"
   ]
  },
  {
   "cell_type": "code",
   "execution_count": 90,
   "metadata": {
    "collapsed": false
   },
   "outputs": [
    {
     "name": "stdout",
     "output_type": "stream",
     "text": [
      "library\ttaxon_name\trel_abund_perc\trank\r\n",
      "1\tM.extorquens_AM1_rn\t50.000000000\t1\r\n",
      "1\tM.barkeri_rn\t50.000000000\t2\r\n",
      "2\tM.extorquens_AM1_rn\t50.000000000\t1\r\n",
      "2\tM.barkeri_rn\t50.000000000\t2\r\n"
     ]
    }
   ],
   "source": [
    "!cd $workDir; \\\n",
    "    SIPSim gradientComms \\\n",
    "    --n_comm 2 \\\n",
    "    --abund_dist uniform \\\n",
    "    --abund_dist_p low:1,high:1 \\\n",
    "    genomes_all_list.txt > comm-n2-unif.txt\n",
    "    \n",
    "!cd $workDir; tail comm-n2-unif.txt"
   ]
  },
  {
   "cell_type": "markdown",
   "metadata": {},
   "source": [
    "# Simulating gradient fractions"
   ]
  },
  {
   "cell_type": "code",
   "execution_count": 97,
   "metadata": {
    "collapsed": false
   },
   "outputs": [
    {
     "name": "stdout",
     "output_type": "stream",
     "text": [
      "library\tfraction\tBD_min\tBD_max\tfraction_size\r\n",
      "1\t1\t1.66\t1.666\t0.006\r\n",
      "1\t2\t1.666\t1.67\t0.004\r\n",
      "1\t3\t1.67\t1.671\t0.001\r\n",
      "1\t4\t1.671\t1.676\t0.005\r\n",
      "1\t5\t1.676\t1.678\t0.002\r\n",
      "1\t6\t1.678\t1.681\t0.003\r\n",
      "1\t7\t1.681\t1.686\t0.005\r\n",
      "1\t8\t1.686\t1.69\t0.004\r\n",
      "1\t9\t1.69\t1.694\t0.004\r\n"
     ]
    }
   ],
   "source": [
    "!cd $workDir; \\\n",
    "    SIPSim fractions \\\n",
    "    comm-n2-unif.txt \\\n",
    "    > fracs-n2-unif.txt\n",
    "    \n",
    "!cd $workDir; head fracs-n2-unif.txt"
   ]
  },
  {
   "cell_type": "markdown",
   "metadata": {},
   "source": [
    "# Simulating shotgun fragments & calculating GC"
   ]
  },
  {
   "cell_type": "code",
   "execution_count": 38,
   "metadata": {
    "collapsed": false
   },
   "outputs": [
    {
     "name": "stdout",
     "output_type": "stream",
     "text": [
      "Processing: \"M.extorquens_AM1_rn\"\r\n",
      "Processing: \"M.barkeri_rn\"\r\n",
      "  Genome name: M.barkeri_rn\r\n",
      "  Genome length (bp): 4873766\r\n",
      "  Number of amplicons: None\r\n",
      "  Number of fragments simulated: 34679\r\n",
      "  Genome name: M.extorquens_AM1_rn\r\n",
      "  Genome length (bp): 6879778\r\n",
      "  Number of amplicons: None\r\n",
      "  Number of fragments simulated: 48864\r\n"
     ]
    }
   ],
   "source": [
    "!cd $workDir;\\\n",
    "    SIPSim fragGC \\\n",
    "    genomes_all_list.txt \\\n",
    "    --flr 500,None \\\n",
    "    --fld skewed-normal,9000,2500,-5 \\\n",
    "    --nf 50x \\\n",
    "    --np 24 \\\n",
    "    2> shotFragGC_skewN90-25-n5-nS.log \\\n",
    "    > shotFragGC_skewN90-25-n5-nS.pkl\n",
    "    \n",
    "!cd $workDir; head shotFragGC_skewN90-25-n5-nS.log"
   ]
  },
  {
   "cell_type": "markdown",
   "metadata": {},
   "source": [
    "# Creating OTU table"
   ]
  },
  {
   "cell_type": "code",
   "execution_count": null,
   "metadata": {
    "collapsed": false
   },
   "outputs": [],
   "source": [
    "!cd $workDir; \\\n",
    "    SIPSim OTU_sim \\\n",
    "    shotFragGC_skewN90-25-n5-nS.pkl \\\n",
    "    comm-n2-unif.txt \\\n",
    "    incorp-n2-unif.txt \\\n",
    "    fracs-n2-unif.txt \\\n",
    "    --abs_abund 2e8 \\\n",
    "    2> OTU-n2-unif_skewN90-25-n5-nS_A2e9.log \\\n",
    "    > OTU-n2-unif_skewN90-25-n5-nS_A2e9.txt\n",
    "    \n",
    "!cd $workDir; head OTU-n2-unif_skewN90-25-n5-nS_A2e9.log "
   ]
  },
  {
   "cell_type": "markdown",
   "metadata": {},
   "source": [
    "# Plotting OTU abundances"
   ]
  },
  {
   "cell_type": "code",
   "execution_count": null,
   "metadata": {
    "collapsed": false
   },
   "outputs": [],
   "source": [
    "%%R -i workDir\n",
    "\n",
    "# loading file\n",
    "inFiles = c('OTU-n2-unif_skewN90-25-n5-nS_A2e9.txt')\n",
    "\n",
    "inFiles = sapply(inFiles, function(x){\n",
    "            x = as.character(x)\n",
    "            paste(c(workDir, x), collapse='/')\n",
    "    })\n",
    "\n",
    "\n",
    "tbls = list()\n",
    "for (fileName in inFiles){\n",
    "    tbls[[fileName]] = read.csv(fileName, sep='\\t')\n",
    "    }\n",
    "tbl = do.call(rbind, tbls)\n",
    "tbl$abs_abund = as.numeric(gsub('.+-nS_A|\\\\.txt\\\\.[0-9]+', '', rownames(tbl)))\n",
    "\n",
    "tbl = tbl %>% \n",
    "    filter(!grepl('inf', fractions, ignore.case=T)) %>%\n",
    "    separate(fractions, into = c('BD_min','BD_max'), sep='-', convert=TRUE) %>%\n",
    "    filter(BD_min != 1.795)"
   ]
  },
  {
   "cell_type": "code",
   "execution_count": null,
   "metadata": {
    "collapsed": true
   },
   "outputs": [],
   "source": [
    "%%R\n",
    "## BD for G+C of 0 or 100\n",
    "BD.GCp0 = 0 * 0.098 + 1.66\n",
    "BD.GCp100 = 1 * 0.098 + 1.66"
   ]
  },
  {
   "cell_type": "code",
   "execution_count": null,
   "metadata": {
    "collapsed": false
   },
   "outputs": [],
   "source": [
    "%%R -w 800 -h 400\n",
    "# plotting absolute abundances\n",
    "\n",
    "tbl.s = tbl %>%\n",
    "    mutate(BD_mean = (BD_min + BD_max) / 2) %>%\n",
    "    group_by(abs_abund, BD_mean, library, taxon) %>%\n",
    "    summarize(total_count = sum(count))\n",
    "\n",
    "\n",
    "## plot\n",
    "p = ggplot(tbl.s, aes(BD_mean, total_count, shape=taxon, color=taxon)) +\n",
    "    geom_point() +\n",
    "    geom_line() +\n",
    "    scale_x_continuous(limits=c(1.68,1.78), breaks=seq(1.68,1.78,0.02)) +\n",
    "    labs(x='Buoyant density') +\n",
    "    facet_grid(library ~ .) +\n",
    "    theme( \n",
    "        text = element_text(size=16) \n",
    "    )\n",
    "p"
   ]
  },
  {
   "cell_type": "code",
   "execution_count": null,
   "metadata": {
    "collapsed": true
   },
   "outputs": [],
   "source": []
  },
  {
   "cell_type": "code",
   "execution_count": null,
   "metadata": {
    "collapsed": true
   },
   "outputs": [],
   "source": []
  }
 ],
 "metadata": {
  "kernelspec": {
   "display_name": "Python 2",
   "language": "python",
   "name": "python2"
  },
  "language_info": {
   "codemirror_mode": {
    "name": "ipython",
    "version": 2
   },
   "file_extension": ".py",
   "mimetype": "text/x-python",
   "name": "python",
   "nbconvert_exporter": "python",
   "pygments_lexer": "ipython2",
   "version": "2.7.9"
  }
 },
 "nbformat": 4,
 "nbformat_minor": 0
}
