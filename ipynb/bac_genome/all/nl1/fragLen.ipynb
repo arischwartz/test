{
 "cells": [
  {
   "cell_type": "markdown",
   "metadata": {},
   "source": [
    "# Description:\n",
    "\n",
    "* number libraries = 1\n",
    "* isotope incorp: 0% for all taxa (baseline)\n",
    "\n",
    "## Goals:\n",
    "\n",
    "* assess how fragment length affects distribution of amplicon fragments\n",
    "  * fragment distributions:\n",
    "    * uniform, large range\n",
    "    * uniform, all small fragments\n",
    "    * uniform, all large fragments\n",
    "    * skewed normal, 4 kb size cutoff\n",
    "    * skewed normal, 0.5 kb size cutoff"
   ]
  },
  {
   "cell_type": "markdown",
   "metadata": {},
   "source": [
    "# Init"
   ]
  },
  {
   "cell_type": "code",
   "execution_count": 2,
   "metadata": {
    "collapsed": false
   },
   "outputs": [],
   "source": [
    "workDir = '/home/nick/notebook/SIPSim/dev/bac_genome_all/nl1/fragLen/'\n",
    "baseDir = '/home/nick/notebook/SIPSim/dev/bac_genome_all/'\n",
    "SIPSimExe = '/home/nick/notebook/SIPSim/SIPSim'"
   ]
  },
  {
   "cell_type": "code",
   "execution_count": 3,
   "metadata": {
    "collapsed": false
   },
   "outputs": [],
   "source": [
    "import os,sys\n",
    "import numpy as np\n",
    "import pandas as pd\n",
    "from ggplot import *\n",
    "import matplotlib.pyplot as plt"
   ]
  },
  {
   "cell_type": "code",
   "execution_count": 4,
   "metadata": {
    "collapsed": false
   },
   "outputs": [],
   "source": [
    "%load_ext rpy2.ipython\n",
    "%matplotlib inline"
   ]
  },
  {
   "cell_type": "code",
   "execution_count": 5,
   "metadata": {
    "collapsed": false
   },
   "outputs": [
    {
     "data": {
      "text/plain": [
       "\n",
       "Attaching package: ‘dplyr’\n",
       "\n",
       "The following object is masked from ‘package:stats’:\n",
       "\n",
       "    filter\n",
       "\n",
       "The following objects are masked from ‘package:base’:\n",
       "\n",
       "    intersect, setdiff, setequal, union\n",
       "\n",
       "Loading required package: grid\n",
       "data.table 1.9.4  For help type: ?data.table\n",
       "*** NB: by=.EACHI is now explicit. See README to restore previous behaviour.\n",
       "\n",
       "Attaching package: ‘data.table’\n",
       "\n",
       "The following objects are masked from ‘package:dplyr’:\n",
       "\n",
       "    between, last\n",
       "\n"
      ]
     },
     "metadata": {},
     "output_type": "display_data"
    }
   ],
   "source": [
    "%%R\n",
    "library(ggplot2)\n",
    "library(dplyr)\n",
    "library(tidyr)\n",
    "library(gridExtra)\n",
    "library(data.table)"
   ]
  },
  {
   "cell_type": "code",
   "execution_count": 6,
   "metadata": {
    "collapsed": false
   },
   "outputs": [],
   "source": [
    "if not os.path.isdir(workDir):\n",
    "    os.mkdir(workDir)"
   ]
  },
  {
   "cell_type": "markdown",
   "metadata": {},
   "source": [
    "# Simulating gradient communities"
   ]
  },
  {
   "cell_type": "code",
   "execution_count": 118,
   "metadata": {
    "collapsed": false
   },
   "outputs": [],
   "source": [
    "!cd $workDir; \\\n",
    "    $SIPSimExe gradientComms \\\n",
    "    --abund_dist power \\\n",
    "    --abund_dist_p a:100 \\\n",
    "    $baseDir/genomes/taxon_index.txt > comm-n1-pow.txt"
   ]
  },
  {
   "cell_type": "code",
   "execution_count": 122,
   "metadata": {
    "collapsed": false
   },
   "outputs": [
    {
     "data": {
      "text/plain": [
       "[1] 100\n",
       "     Min.   1st Qu.    Median      Mean   3rd Qu.      Max. \n",
       "0.0000575 0.0248400 0.0554400 0.0826400 0.1203000 0.7323000 \n",
       "[1] 12727.77\n"
      ]
     },
     "metadata": {},
     "output_type": "display_data"
    },
    {
     "data": {
      "image/png": "[encoded data removed]"
     },
     "metadata": {},
     "output_type": "display_data"
    }
   ],
   "source": [
    "%%R -i workDir -w 1200 -h 350 \n",
    "# plotting the abundance distribution\n",
    "setwd(workDir)\n",
    "\n",
    "tbl = read.delim('comm-n1-pow.txt', sep='\\t')\n",
    "\n",
    "print(sum(tbl$rel_abund_perc))\n",
    "print(summary(tbl$rel_abund_perc))\n",
    "print(max(tbl$rel_abund_perc) / min(tbl$rel_abund_perc))\n",
    "\n",
    "# plotting\n",
    "ggplot(tbl, aes(rank, rel_abund_perc)) +\n",
    "    geom_bar(stat='identity') +\n",
    "    theme( text = element_text(size=16))"
   ]
  },
  {
   "cell_type": "markdown",
   "metadata": {},
   "source": [
    "# Simulating isotope incorporation"
   ]
  },
  {
   "cell_type": "code",
   "execution_count": 123,
   "metadata": {
    "collapsed": false
   },
   "outputs": [],
   "source": [
    "# making config file\n",
    "config = \"\"\"\n",
    "[library 1]\n",
    "  # baseline: no incorp\n",
    "  \n",
    "  [[intraPopDist 1]]\n",
    "  distribution = uniform\n",
    "  weight = 1\n",
    "\n",
    "    [[[start]]]\n",
    "\n",
    "      [[[[interPopDist 1]]]]\n",
    "        distribution = uniform\n",
    "        start = 0\n",
    "        end = 0\n",
    "\n",
    "    [[[end]]]\n",
    "\n",
    "      [[[[interPopDist 1]]]]\n",
    "        distribution = uniform\n",
    "        start = 0\n",
    "        end = 0\n",
    "\"\"\"\n",
    "\n",
    "outfile = os.path.join(workDir, 'incorp.config')\n",
    "\n",
    "outf = open(outfile, 'wb')\n",
    "outf.write(config)\n",
    "outf.close()"
   ]
  },
  {
   "cell_type": "code",
   "execution_count": 126,
   "metadata": {
    "collapsed": false
   },
   "outputs": [],
   "source": [
    "!cd $workDir; \\\n",
    "     $SIPSimExe isoIncorp comm-n1-pow.txt incorp.config > incorp-n1-pow.txt"
   ]
  },
  {
   "cell_type": "code",
   "execution_count": 127,
   "metadata": {
    "collapsed": false
   },
   "outputs": [
    {
     "name": "stdout",
     "output_type": "stream",
     "text": [
      "library\ttaxon_name\tdistribution_index\tdistribution\tweight\tparam\tparam_value\r\n",
      "1\tIsosphaera_pallida_ATCC_43644\t1\tuniform\t1.0\tstart\t8.41134849099e-07\r\n",
      "1\tIsosphaera_pallida_ATCC_43644\t1\tuniform\t1.0\tend\t3.86213774981e-06\r\n",
      "1\tCaulobacter_crescentus_NA1000\t1\tuniform\t1.0\tstart\t4.7095790248e-06\r\n",
      "1\tCaulobacter_crescentus_NA1000\t1\tuniform\t1.0\tend\t7.22092768592e-06\r\n",
      "1\tCandidatus_Liberibacter_solanacearum_CLso-ZC1\t1\tuniform\t1.0\tstart\t7.47050104396e-06\r\n",
      "1\tCandidatus_Liberibacter_solanacearum_CLso-ZC1\t1\tuniform\t1.0\tend\t3.75886172964e-06\r\n",
      "1\tRickettsia_parkeri_str_Portsmouth\t1\tuniform\t1.0\tstart\t7.79689107526e-06\r\n",
      "1\tRickettsia_parkeri_str_Portsmouth\t1\tuniform\t1.0\tend\t6.51117262806e-06\r\n",
      "1\tChlamydophila_abortus_S26_3\t1\tuniform\t1.0\tstart\t8.31779429734e-06\r\n"
     ]
    }
   ],
   "source": [
    "!cd $workDir; head incorp-n1-pow.txt"
   ]
  },
  {
   "cell_type": "markdown",
   "metadata": {},
   "source": [
    "# Simulating gradient fractions"
   ]
  },
  {
   "cell_type": "code",
   "execution_count": 138,
   "metadata": {
    "collapsed": false
   },
   "outputs": [],
   "source": [
    "!cd $workDir; \\\n",
    "    $SIPSimExe fractions comm-n1-pow.txt > fracs-n1-pow.txt"
   ]
  },
  {
   "cell_type": "code",
   "execution_count": 145,
   "metadata": {
    "collapsed": false
   },
   "outputs": [
    {
     "data": {
      "image/png": "[encoded data removed]"
     },
     "metadata": {},
     "output_type": "display_data"
    }
   ],
   "source": [
    "%%R -i workDir -h 350 -w 300 \n",
    "# plotting the abundance distribution\n",
    "setwd(workDir)\n",
    "\n",
    "tbl = read.delim('fracs-n1-pow.txt', sep='\\t')\n",
    "tbl$library = as.character(tbl$library)\n",
    "\n",
    "#tbl.m = tbl %>% gather(min_max, BD, BD_min:BD_max )\n",
    "#ggplot(tbl.m, aes(fraction, BD, group=fraction, color=min_max)) +\n",
    "#    geom_point() +\n",
    "#    geom_line(color='black')\n",
    "\n",
    "\n",
    "ggplot(tbl, aes(library, fraction_size)) +\n",
    "    geom_boxplot()"
   ]
  },
  {
   "cell_type": "markdown",
   "metadata": {},
   "source": [
    "# Simulating amplicon fragments & calculating GC"
   ]
  },
  {
   "cell_type": "markdown",
   "metadata": {},
   "source": [
    "## Uniform fragment length distribution: large range\n",
    "\n",
    "* 10k amplicon-fragments per genome"
   ]
  },
  {
   "cell_type": "code",
   "execution_count": 65,
   "metadata": {
    "collapsed": false
   },
   "outputs": [],
   "source": [
    "!cd $workDir; \\\n",
    "    $SIPSimExe fragGC \\\n",
    "    $baseDir/genomes/genome_index.txt \\\n",
    "    --fp $baseDir/genomes/ \\\n",
    "    --fr $baseDir/515Fm-927Rm.fna \\\n",
    "    --fld uniform,500,15000 \\\n",
    "    --flr 500,None \\\n",
    "    --nf 10000 \\\n",
    "    --np 24 \\\n",
    "    2> ampFragGC_unif5-150.log \\\n",
    "    > ampFragGC_unif5-150.pkl"
   ]
  },
  {
   "cell_type": "markdown",
   "metadata": {},
   "source": [
    "## Creating OTU table"
   ]
  },
  {
   "cell_type": "code",
   "execution_count": null,
   "metadata": {
    "collapsed": false
   },
   "outputs": [],
   "source": [
    "!cd $workDir; \\\n",
    "    $SIPSimExe OTU_table \\\n",
    "    ampFragGC_unif5-150.pkl \\\n",
    "    comm-n1-pow.txt \\\n",
    "    incorp-n1-pow.txt \\\n",
    "    fracs-n1-pow.txt \\\n",
    "    --abs_abund 1e9 \\\n",
    "    2> OTU-n1-exp_unif5-150_A1e9.log \\\n",
    "    > OTU-n1-exp_unif5-150_A1e9.txt"
   ]
  },
  {
   "cell_type": "markdown",
   "metadata": {},
   "source": [
    "## Plotting OTU table"
   ]
  },
  {
   "cell_type": "code",
   "execution_count": null,
   "metadata": {
    "collapsed": false
   },
   "outputs": [],
   "source": [
    "%%R -i workDir\n",
    "\n",
    "# loading file\n",
    "infile = paste(c(workDir, 'OTU-n1-exp_unif5-150_A1e9.txt'), collapse='/')\n",
    "tbl = read.csv(infile, sep='\\t')\n",
    "\n",
    "# formatting table\n",
    "tbl$BD_min = gsub('-.+', '', tbl$fractions)\n",
    "tbl$BD_min = as.numeric(tbl$BD_min)\n",
    "tbl$BD_max = gsub('.+-', '', tbl$fractions)\n",
    "tbl$BD_max = as.numeric(tbl$BD_max)"
   ]
  },
  {
   "cell_type": "code",
   "execution_count": null,
   "metadata": {
    "collapsed": false
   },
   "outputs": [],
   "source": [
    "%%R\n",
    "\n",
    "# summarizing counts (should be approx. total abundance)\n",
    "tbl %>%\n",
    "    group_by(library) %>%\n",
    "    summarize(sum(count))"
   ]
  },
  {
   "cell_type": "code",
   "execution_count": null,
   "metadata": {
    "collapsed": false
   },
   "outputs": [],
   "source": [
    "%%R\n",
    "\n",
    "# summarizing counts (should be approx. total abundance)\n",
    "tbl %>%\n",
    "    group_by(BD_min) %>%\n",
    "    summarize(sum(count)) %>% as.data.frame"
   ]
  },
  {
   "cell_type": "code",
   "execution_count": null,
   "metadata": {
    "collapsed": true
   },
   "outputs": [],
   "source": [
    "%%R\n",
    "## BD for G+C of 0 or 100\n",
    "BD.GCp0 = 0 * 0.098 + 1.66\n",
    "BD.GCp100 = 1 * 0.098 + 1.66"
   ]
  },
  {
   "cell_type": "code",
   "execution_count": null,
   "metadata": {
    "collapsed": false
   },
   "outputs": [],
   "source": [
    "%%R -w 800 -h 350\n",
    "# plotting absolute abundances\n",
    "\n",
    "tbl.s = tbl %>%\n",
    "    group_by(BD_min) %>%\n",
    "    summarize(total_count = sum(count))\n",
    "\n",
    "\n",
    "## plot\n",
    "p = ggplot(tbl.s, aes(BD_min, total_count)) +\n",
    "    geom_area(stat='identity', alpha=0.5, position='dodge') +\n",
    "    geom_vline(xintercept=c(BD.GCp0, BD.GCp100), linetype='dashed', alpha=0.5) +\n",
    "    labs(x='Buoyant density') +\n",
    "    theme( \n",
    "        text = element_text(size=16) \n",
    "    )\n",
    "p"
   ]
  },
  {
   "cell_type": "code",
   "execution_count": null,
   "metadata": {
    "collapsed": false
   },
   "outputs": [],
   "source": [
    "%%R -w 800 -h 350\n",
    "\n",
    "p + scale_y_log10()"
   ]
  },
  {
   "cell_type": "code",
   "execution_count": null,
   "metadata": {
    "collapsed": false
   },
   "outputs": [],
   "source": [
    "%%R -w 800 -h 350\n",
    "# plotting relative abundances\n",
    "\n",
    "## plot\n",
    "p = ggplot(tbl, aes(BD_min, count, fill=taxon, group=taxon)) +\n",
    "    geom_area(stat='identity', alpha=0.5, position='fill') +\n",
    "    geom_vline(xintercept=c(BD.GCp0, BD.GCp100), linetype='dashed', alpha=0.5) +\n",
    "    labs(x='Buoyant density') +\n",
    "    theme( \n",
    "        text = element_text(size=16),\n",
    "        legend.position = 'none'\n",
    "    )\n",
    "p"
   ]
  },
  {
   "cell_type": "code",
   "execution_count": null,
   "metadata": {
    "collapsed": false
   },
   "outputs": [],
   "source": [
    "%%R -w 800 -h 350\n",
    "# plotting number of taxa at each BD\n",
    "\n",
    "tbl.nt = tbl %>%\n",
    "    filter(count > 0) %>%\n",
    "    group_by(BD_min) %>%\n",
    "    summarize(n_taxa = n())\n",
    "\n",
    "## plot\n",
    "p = ggplot(tbl.nt, aes(BD_min, n_taxa)) +\n",
    "    geom_area(stat='identity', alpha=0.5, position='dodge') +\n",
    "    geom_vline(xintercept=c(BD.GCp0, BD.GCp100), linetype='dashed', alpha=0.5) +\n",
    "    labs(x='Buoyant density', y='Number of taxa') +\n",
    "    theme( \n",
    "        text = element_text(size=16),\n",
    "        legend.position = 'none'\n",
    "    )\n",
    "p"
   ]
  },
  {
   "cell_type": "code",
   "execution_count": null,
   "metadata": {
    "collapsed": true
   },
   "outputs": [],
   "source": [
    "%%R\n",
    "# plotting the most "
   ]
  },
  {
   "cell_type": "code",
   "execution_count": null,
   "metadata": {
    "collapsed": false
   },
   "outputs": [],
   "source": [
    "%%R -w 800 -h 350\n",
    "# plotting rel abunds for just very heavy BD values\n",
    "\n",
    "BD.low.limit = 1.76\n",
    "BD.high.limit = 1.8\n",
    "\n",
    "tbl.heavy = tbl %>%\n",
    "    filter( BD_min >= BD.low.limit )\n",
    "\n",
    "tbl.hs = tbl.heavy %>%\n",
    "    group_by(taxon) %>%\n",
    "    summarize( total_abund = sum(count) ) %>%\n",
    "    filter(total_abund > 0)\n",
    "\n",
    "tbl.heavy = tbl.heavy %>%\n",
    "    filter(taxon %in% tbl.hs$taxon)\n",
    "\n",
    "\n",
    "## plot\n",
    "p = ggplot(tbl.heavy, aes(BD_min, count, fill=taxon, group=taxon)) +\n",
    "    geom_area(stat='identity', alpha=0.5, position='fill') +\n",
    "    scale_x_continuous( limits=c(BD.low.limit, BD.high.limit) ) +\n",
    "    geom_vline(xintercept=c(BD.GCp0, BD.GCp100), linetype='dashed', alpha=0.5) +\n",
    "    labs(x='Buoyant density') +\n",
    "    theme( \n",
    "        text = element_text(size=16),\n",
    "        legend.position = 'none'\n",
    "    )\n",
    "p\n"
   ]
  },
  {
   "cell_type": "markdown",
   "metadata": {},
   "source": [
    "### Most abundant taxa"
   ]
  },
  {
   "cell_type": "code",
   "execution_count": null,
   "metadata": {
    "collapsed": false
   },
   "outputs": [],
   "source": [
    "%%R -i workDir\n",
    "\n",
    "setwd(workDir)\n",
    "\n",
    "inFile = 'comm-n1-pow.txt'\n",
    "tbl.comm = read.delim(inFile, sep='\\t')\n",
    "\n",
    "head(tbl.comm)"
   ]
  },
  {
   "cell_type": "code",
   "execution_count": null,
   "metadata": {
    "collapsed": false
   },
   "outputs": [],
   "source": [
    "%%R -h 350 -w 600\n",
    "\n",
    "tbl.s = tbl %>%\n",
    "    group_by(taxon) %>%\n",
    "    summarize( total_abund = sum(count) ) %>%\n",
    "    mutate(rank = min_rank(desc(total_abund))) %>%\n",
    "    arrange(rank)\n",
    "\n",
    "ggplot(tbl.s, aes(rank, total_abund)) +\n",
    "    geom_bar(stat='identity') +\n",
    "    theme( text = element_text(size=16))"
   ]
  },
  {
   "cell_type": "code",
   "execution_count": null,
   "metadata": {
    "collapsed": false
   },
   "outputs": [],
   "source": [
    "%%R -w 800 \n",
    "# plotting most abundant taxa\n",
    "\n",
    "tbl.s.a10 = tbl.s %>%\n",
    "    filter(rank <= 10)\n",
    "\n",
    "tbl.a10 = tbl %>%\n",
    "    filter(taxon %in% tbl.s.a10$taxon)\n",
    "\n",
    "## plot\n",
    "p = ggplot(tbl.a10, aes(BD_min, count, fill=taxon, group=taxon)) +\n",
    "    geom_vline(xintercept=c(BD.GCp0, BD.GCp100), linetype='dashed', alpha=0.5) +\n",
    "    labs(x='Buoyant density') +\n",
    "    theme( \n",
    "        text = element_text(size=16),\n",
    "        legend.position = 'none'\n",
    "    )\n",
    "p1 = p + geom_area(stat='identity', alpha=0.5, position='dodge') \n",
    "p2 = p + geom_area(stat='identity', alpha=0.5, position='fill') \n",
    "\n",
    "grid.arrange(p1, p2, ncol=1)"
   ]
  },
  {
   "cell_type": "code",
   "execution_count": null,
   "metadata": {
    "collapsed": false
   },
   "outputs": [],
   "source": []
  },
  {
   "cell_type": "code",
   "execution_count": null,
   "metadata": {
    "collapsed": true
   },
   "outputs": [],
   "source": []
  }
 ],
 "metadata": {
  "kernelspec": {
   "display_name": "Python 2",
   "language": "python",
   "name": "python2"
  },
  "language_info": {
   "codemirror_mode": {
    "name": "ipython",
    "version": 2
   },
   "file_extension": ".py",
   "mimetype": "text/x-python",
   "name": "python",
   "nbconvert_exporter": "python",
   "pygments_lexer": "ipython2",
   "version": "2.7.9"
  }
 },
 "nbformat": 4,
 "nbformat_minor": 0
}
