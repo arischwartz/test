{
 "cells": [
  {
   "cell_type": "markdown",
   "metadata": {},
   "source": [
    "# Description:\n",
    "\n",
    "* number libraries = 1\n",
    "* isotope incorp: 0% for all taxa (baseline)\n",
    "\n",
    "## Goals:\n",
    "\n",
    "* assess how fragment length affects distribution of amplicon fragments\n",
    "  * fragment distributions:\n",
    "    * uniform, large range\n",
    "    * uniform, all small fragments\n",
    "    * uniform, all large fragments\n",
    "    * skewed normal, 4 kb size cutoff\n",
    "    * skewed normal, 0.5 kb size cutoff"
   ]
  },
  {
   "cell_type": "markdown",
   "metadata": {},
   "source": [
    "# Init"
   ]
  },
  {
   "cell_type": "code",
   "execution_count": 3,
   "metadata": {
    "collapsed": false
   },
   "outputs": [],
   "source": [
    "workDir = '/home/nick/notebook/SIPSim/dev/bac_genome_all/nl1/fragLen/'\n",
    "baseDir = '/home/nick/notebook/SIPSim/dev/bac_genome_all/'\n",
    "SIPSimExe = '/home/nick/notebook/SIPSim/SIPSim'"
   ]
  },
  {
   "cell_type": "code",
   "execution_count": 4,
   "metadata": {
    "collapsed": false
   },
   "outputs": [],
   "source": [
    "import os,sys\n",
    "import numpy as np\n",
    "import pandas as pd\n",
    "from ggplot import *\n",
    "import matplotlib.pyplot as plt"
   ]
  },
  {
   "cell_type": "code",
   "execution_count": 5,
   "metadata": {
    "collapsed": false
   },
   "outputs": [],
   "source": [
    "%load_ext rpy2.ipython\n",
    "%matplotlib inline"
   ]
  },
  {
   "cell_type": "code",
   "execution_count": 6,
   "metadata": {
    "collapsed": false
   },
   "outputs": [
    {
     "data": {
      "text/plain": [
       "\n",
       "Attaching package: ‘dplyr’\n",
       "\n",
       "The following object is masked from ‘package:stats’:\n",
       "\n",
       "    filter\n",
       "\n",
       "The following objects are masked from ‘package:base’:\n",
       "\n",
       "    intersect, setdiff, setequal, union\n",
       "\n",
       "Loading required package: grid\n",
       "data.table 1.9.4  For help type: ?data.table\n",
       "*** NB: by=.EACHI is now explicit. See README to restore previous behaviour.\n",
       "\n",
       "Attaching package: ‘data.table’\n",
       "\n",
       "The following objects are masked from ‘package:dplyr’:\n",
       "\n",
       "    between, last\n",
       "\n"
      ]
     },
     "metadata": {},
     "output_type": "display_data"
    }
   ],
   "source": [
    "%%R\n",
    "library(ggplot2)\n",
    "library(dplyr)\n",
    "library(tidyr)\n",
    "library(gridExtra)\n",
    "library(data.table)"
   ]
  },
  {
   "cell_type": "code",
   "execution_count": 7,
   "metadata": {
    "collapsed": false
   },
   "outputs": [],
   "source": [
    "if not os.path.isdir(workDir):\n",
    "    os.mkdir(workDir)"
   ]
  },
  {
   "cell_type": "code",
   "execution_count": 17,
   "metadata": {
    "collapsed": false
   },
   "outputs": [],
   "source": [
    "!cd $baseDir; cut -f 1 genomes/genome_index.txt > genomes/taxon_index.txt"
   ]
  },
  {
   "cell_type": "markdown",
   "metadata": {},
   "source": [
    "# Simulating gradient communities"
   ]
  },
  {
   "cell_type": "code",
   "execution_count": 118,
   "metadata": {
    "collapsed": false
   },
   "outputs": [],
   "source": [
    "!cd $workDir; \\\n",
    "    $SIPSimExe gradientComms \\\n",
    "    --abund_dist power \\\n",
    "    --abund_dist_p a:100 \\\n",
    "    $baseDir/genomes/taxon_index.txt > comm-n1-pow.txt"
   ]
  },
  {
   "cell_type": "code",
   "execution_count": 122,
   "metadata": {
    "collapsed": false
   },
   "outputs": [
    {
     "data": {
      "text/plain": [
       "[1] 100\n",
       "     Min.   1st Qu.    Median      Mean   3rd Qu.      Max. \n",
       "0.0000575 0.0248400 0.0554400 0.0826400 0.1203000 0.7323000 \n",
       "[1] 12727.77\n"
      ]
     },
     "metadata": {},
     "output_type": "display_data"
    },
    {
     "data": {
      "image/png": "[encoded data removed]"
     },
     "metadata": {},
     "output_type": "display_data"
    }
   ],
   "source": [
    "%%R -i workDir -w 1200 -h 350 \n",
    "# plotting the abundance distribution\n",
    "setwd(workDir)\n",
    "\n",
    "tbl = read.delim('comm-n1-pow.txt', sep='\\t')\n",
    "\n",
    "print(sum(tbl$rel_abund_perc))\n",
    "print(summary(tbl$rel_abund_perc))\n",
    "print(max(tbl$rel_abund_perc) / min(tbl$rel_abund_perc))\n",
    "\n",
    "# plotting\n",
    "ggplot(tbl, aes(rank, rel_abund_perc)) +\n",
    "    geom_bar(stat='identity') +\n",
    "    theme( text = element_text(size=16))"
   ]
  },
  {
   "cell_type": "markdown",
   "metadata": {},
   "source": [
    "# Simulating isotope incorporation"
   ]
  },
  {
   "cell_type": "code",
   "execution_count": 123,
   "metadata": {
    "collapsed": false
   },
   "outputs": [],
   "source": [
    "# making config file\n",
    "config = \"\"\"\n",
    "[library 1]\n",
    "  # baseline: no incorp\n",
    "  \n",
    "  [[intraPopDist 1]]\n",
    "  distribution = uniform\n",
    "  weight = 1\n",
    "\n",
    "    [[[start]]]\n",
    "\n",
    "      [[[[interPopDist 1]]]]\n",
    "        distribution = uniform\n",
    "        start = 0\n",
    "        end = 0\n",
    "\n",
    "    [[[end]]]\n",
    "\n",
    "      [[[[interPopDist 1]]]]\n",
    "        distribution = uniform\n",
    "        start = 0\n",
    "        end = 0\n",
    "\"\"\"\n",
    "\n",
    "outfile = os.path.join(workDir, 'incorp.config')\n",
    "\n",
    "outf = open(outfile, 'wb')\n",
    "outf.write(config)\n",
    "outf.close()"
   ]
  },
  {
   "cell_type": "code",
   "execution_count": 126,
   "metadata": {
    "collapsed": false
   },
   "outputs": [],
   "source": [
    "!cd $workDir; \\\n",
    "     $SIPSimExe isoIncorp comm-n1-pow.txt incorp.config > incorp-n1-pow.txt"
   ]
  },
  {
   "cell_type": "code",
   "execution_count": 127,
   "metadata": {
    "collapsed": false
   },
   "outputs": [
    {
     "name": "stdout",
     "output_type": "stream",
     "text": [
      "library\ttaxon_name\tdistribution_index\tdistribution\tweight\tparam\tparam_value\r\n",
      "1\tIsosphaera_pallida_ATCC_43644\t1\tuniform\t1.0\tstart\t8.41134849099e-07\r\n",
      "1\tIsosphaera_pallida_ATCC_43644\t1\tuniform\t1.0\tend\t3.86213774981e-06\r\n",
      "1\tCaulobacter_crescentus_NA1000\t1\tuniform\t1.0\tstart\t4.7095790248e-06\r\n",
      "1\tCaulobacter_crescentus_NA1000\t1\tuniform\t1.0\tend\t7.22092768592e-06\r\n",
      "1\tCandidatus_Liberibacter_solanacearum_CLso-ZC1\t1\tuniform\t1.0\tstart\t7.47050104396e-06\r\n",
      "1\tCandidatus_Liberibacter_solanacearum_CLso-ZC1\t1\tuniform\t1.0\tend\t3.75886172964e-06\r\n",
      "1\tRickettsia_parkeri_str_Portsmouth\t1\tuniform\t1.0\tstart\t7.79689107526e-06\r\n",
      "1\tRickettsia_parkeri_str_Portsmouth\t1\tuniform\t1.0\tend\t6.51117262806e-06\r\n",
      "1\tChlamydophila_abortus_S26_3\t1\tuniform\t1.0\tstart\t8.31779429734e-06\r\n"
     ]
    }
   ],
   "source": [
    "!cd $workDir; head incorp-n1-pow.txt"
   ]
  },
  {
   "cell_type": "markdown",
   "metadata": {},
   "source": [
    "# Simulating gradient fractions"
   ]
  },
  {
   "cell_type": "code",
   "execution_count": 138,
   "metadata": {
    "collapsed": false
   },
   "outputs": [],
   "source": [
    "!cd $workDir; \\\n",
    "    $SIPSimExe fractions comm-n1-pow.txt > fracs-n1-pow.txt"
   ]
  },
  {
   "cell_type": "code",
   "execution_count": 145,
   "metadata": {
    "collapsed": false
   },
   "outputs": [
    {
     "data": {
      "image/png": "[encoded data removed]"
     },
     "metadata": {},
     "output_type": "display_data"
    }
   ],
   "source": [
    "%%R -i workDir -h 350 -w 300 \n",
    "# plotting the abundance distribution\n",
    "setwd(workDir)\n",
    "\n",
    "tbl = read.delim('fracs-n1-pow.txt', sep='\\t')\n",
    "tbl$library = as.character(tbl$library)\n",
    "\n",
    "#tbl.m = tbl %>% gather(min_max, BD, BD_min:BD_max )\n",
    "#ggplot(tbl.m, aes(fraction, BD, group=fraction, color=min_max)) +\n",
    "#    geom_point() +\n",
    "#    geom_line(color='black')\n",
    "\n",
    "\n",
    "ggplot(tbl, aes(library, fraction_size)) +\n",
    "    geom_boxplot()"
   ]
  },
  {
   "cell_type": "markdown",
   "metadata": {},
   "source": [
    "# Simulating amplicon fragments & calculating GC"
   ]
  },
  {
   "cell_type": "markdown",
   "metadata": {},
   "source": [
    "## Uniform fragment length distribution: large range"
   ]
  },
  {
   "cell_type": "code",
   "execution_count": null,
   "metadata": {
    "collapsed": false
   },
   "outputs": [
    {
     "name": "stdout",
     "output_type": "stream",
     "text": [
      "Processing: \"Kangiella_koreensis_DSM_16069\"\n",
      "Processing: \"Polymorphum_gilvum_SL003B-26A1\"\n",
      "Processing: \"_Cellvibrio_gilvus_ATCC_13127\"\n",
      "Processing: \"Croceibacter_atlanticus_HTCC2559\"\n",
      "Processing: \"Sulfuricurvum_kujiense_DSM_16994\"\n",
      "Processing: \"Eubacterium_rectale_ATCC_33656\"\n",
      "  Genome name: Sulfuricurvum_kujiense_DSM_16994\n",
      "  Genome length (bp): 2574824\n",
      "  Number of amplicons: 0\n",
      "  Number of fragments simulated: 0\n",
      "Processing: \"Nocardia_nova_SH22a\"\n",
      "  Genome name: _Cellvibrio_gilvus_ATCC_13127\n",
      "  Genome length (bp): 3526441\n",
      "  Number of amplicons: 2\n",
      "  Number of fragments simulated: 22785\n",
      "  Genome name: Kangiella_koreensis_DSM_16069\n",
      "  Genome length (bp): 2852073\n",
      "  Number of amplicons: 2\n",
      "  Number of fragments simulated: 18375\n",
      "Processing: \"Gordonia_polyisoprenivorans_VH2\"\n",
      "Processing: \"Aeromonas_salmonicida_subsp_salmonicida_A449\"\n",
      "  Genome name: Croceibacter_atlanticus_HTCC2559\n",
      "  Genome length (bp): 2952962\n",
      "  Number of amplicons: 2\n",
      "  Number of fragments simulated: 19050\n",
      "  Genome name: Eubacterium_rectale_ATCC_33656\n",
      "  Genome length (bp): 3449685\n",
      "  Number of amplicons: 5\n",
      "  Number of fragments simulated: 22245\n",
      "Processing: \"Thermodesulfobium_narugense_DSM_14796\"\n",
      "Processing: \"Brevibacillus_brevis_NBRC_100599\"\n",
      "  Genome name: Polymorphum_gilvum_SL003B-26A1\n",
      "  Genome length (bp): 4649365\n",
      "  Number of amplicons: 2\n",
      "  Number of fragments simulated: 30073\n",
      "Processing: \"Spiroplasma_culicicola_AES-1\"\n",
      "  Genome name: Thermodesulfobium_narugense_DSM_14796\n",
      "  Genome length (bp): 1898865\n",
      "  Number of amplicons: 2\n",
      "  Number of fragments simulated: 12263\n",
      "Processing: \"Isoptericola_variabilis_225\"\n",
      "  Genome name: Spiroplasma_culicicola_AES-1\n",
      "  Genome length (bp): 1175131\n",
      "  Number of amplicons: 1\n",
      "  Number of fragments simulated: 7583\n",
      "Processing: \"Oscillibacter_valericigenes_Sjm18-20\"\n",
      "  Genome name: Isoptericola_variabilis_225\n",
      "  Genome length (bp): 3307740\n",
      "  Number of amplicons: 3\n",
      "  Number of fragments simulated: 21316\n",
      "Processing: \"Desulfocapsa_sulfexigens_DSM_10523\"\n",
      "  Genome name: Gordonia_polyisoprenivorans_VH2\n",
      "  Genome length (bp): 5669805\n",
      "  Number of amplicons: 3\n",
      "  Number of fragments simulated: 36568\n",
      "Processing: \"Planktomarina_temperata_RCA23\"\n",
      "  Genome name: Aeromonas_salmonicida_subsp_salmonicida_A449\n",
      "  Genome length (bp): 4702402\n",
      "  Number of amplicons: 9\n",
      "  Number of fragments simulated: 30219\n",
      "Processing: \"Marinithermus_hydrothermalis_DSM_14884\"\n",
      "  Genome name: Brevibacillus_brevis_NBRC_100599\n",
      "  Genome length (bp): 6296436\n",
      "  Number of amplicons: 15\n",
      "  Number of fragments simulated: 40610\n",
      "Processing: \"Shewanella_baltica_OS117\"\n",
      "  Genome name: Nocardia_nova_SH22a\n",
      "  Genome length (bp): 8348532\n",
      "  Number of amplicons: 3\n",
      "  Number of fragments simulated: 54067\n",
      "Processing: \"Desulfosporosinus_orientis_DSM_765\"\n",
      "  Genome name: Marinithermus_hydrothermalis_DSM_14884\n",
      "  Genome length (bp): 2269167\n",
      "  Number of amplicons: 3\n",
      "  Number of fragments simulated: 14656\n",
      "Processing: \"Halobacillus_halophilus_DSM_2266\"\n",
      "  Genome name: Oscillibacter_valericigenes_Sjm18-20\n",
      "  Genome length (bp): 4410036\n",
      "  Number of amplicons: 3\n",
      "  Number of fragments simulated: 28424\n",
      "Processing: \"Cronobacter_sakazakii_SP291\"\n"
     ]
    }
   ],
   "source": [
    "!cd $workDir; \\\n",
    "    $SIPSimExe fragGC \\\n",
    "    $baseDir/genomes/genome_index.txt \\\n",
    "    --fp $baseDir/genomes/ \\\n",
    "    --fr $baseDir/515Fm-927Rm.fna \\\n",
    "    --fld uniform,500,15000 \\\n",
    "    --flr 500,None \\\n",
    "    --nf 50x \\\n",
    "    --np 6 \\\n",
    "    > ampFragGC_unif5-150.txt"
   ]
  },
  {
   "cell_type": "code",
   "execution_count": null,
   "metadata": {
    "collapsed": false
   },
   "outputs": [
    {
     "data": {
      "text/plain": [
       "\r",
       "Read 0.0% of 27511483 rows\r",
       "Read 7.6% of 27511483 rows\r",
       "Read 15.3% of 27511483 rows\r",
       "Read 22.9% of 27511483 rows\r",
       "Read 30.5% of 27511483 rows\r",
       "Read 37.9% of 27511483 rows\r",
       "Read 45.4% of 27511483 rows\r",
       "Read 53.1% of 27511483 rows\r",
       "Read 60.6% of 27511483 rows\r",
       "Read 68.0% of 27511483 rows\r",
       "Read 75.6% of 27511483 rows\r",
       "Read 83.3% of 27511483 rows\r",
       "Read 90.9% of 27511483 rows\r",
       "Read 98.4% of 27511483 rows\r",
       "Read 27511483 rows and 5 (of 5) columns from 2.751 GB file in 00:00:21\n"
      ]
     },
     "metadata": {},
     "output_type": "display_data"
    },
    {
     "data": {
      "image/png": "[encoded data removed]"
     },
     "metadata": {},
     "output_type": "display_data"
    }
   ],
   "source": [
    "%%R -i workDir -w 550 -h 350\n",
    "\n",
    "setwd(workDir)\n",
    "\n",
    "tbl = fread('ampFragGC_unif5-150.txt', sep=\"\\t\")\n",
    "#tbl = fread('test_frag_GC.txt', '\\t')\n",
    "\n",
    "#tbl$fragLen = abs(tbl$fragEnd - tbl$fragStart)\n",
    "tbl[,fragLen:=abs(fragEnd - fragStart)]\n",
    "ggplot(tbl, aes(fragLen)) +\n",
    "    geom_histogram(binwidth=100)"
   ]
  },
  {
   "cell_type": "markdown",
   "metadata": {},
   "source": [
    "## Creating OTU table"
   ]
  },
  {
   "cell_type": "code",
   "execution_count": null,
   "metadata": {
    "collapsed": false
   },
   "outputs": [],
   "source": [
    "!cd $workDir; \\\n",
    "    $SIPSimExe OTU_table \\\n",
    "    ampFragGC_unif5-150.txt \\\n",
    "    comm-n1-pow.txt \\\n",
    "    incorp-n1-pow.txt \\\n",
    "    fracs-n1-pow.txt \\\n",
    "    --abs_abund 1e4 \\\n",
    "    > OTU-n1-exp_unif5-150_A1e4.txt"
   ]
  },
  {
   "cell_type": "code",
   "execution_count": 12,
   "metadata": {
    "collapsed": false
   },
   "outputs": [],
   "source": [
    "# TODO: \n",
    "## finish gradientComm conversion to python\n",
    "## make sure fragGC is set for simulating random fragments from multiple contigs/chromosomes\n"
   ]
  },
  {
   "cell_type": "markdown",
   "metadata": {},
   "source": [
    "***\n",
    "# ~sandbox~"
   ]
  },
  {
   "cell_type": "code",
   "execution_count": 116,
   "metadata": {
    "collapsed": false
   },
   "outputs": [],
   "source": [
    "a = 1000. # shape\n",
    "samples = 10000\n",
    "s = np.random.power(a, samples)"
   ]
  },
  {
   "cell_type": "code",
   "execution_count": 117,
   "metadata": {
    "collapsed": false
   },
   "outputs": [
    {
     "data": {
      "image/png": "[encoded data removed]",
      "text/plain": [
       "<matplotlib.figure.Figure at 0x7f221342e290>"
      ]
     },
     "metadata": {},
     "output_type": "display_data"
    }
   ],
   "source": [
    "import matplotlib.pyplot as plt\n",
    "count, bins, ignored = plt.hist(1 - s, bins=30)"
   ]
  },
  {
   "cell_type": "code",
   "execution_count": null,
   "metadata": {
    "collapsed": false
   },
   "outputs": [],
   "source": []
  }
 ],
 "metadata": {
  "kernelspec": {
   "display_name": "Python 2",
   "language": "python",
   "name": "python2"
  },
  "language_info": {
   "codemirror_mode": {
    "name": "ipython",
    "version": 2
   },
   "file_extension": ".py",
   "mimetype": "text/x-python",
   "name": "python",
   "nbconvert_exporter": "python",
   "pygments_lexer": "ipython2",
   "version": "2.7.9"
  }
 },
 "nbformat": 4,
 "nbformat_minor": 0
}
