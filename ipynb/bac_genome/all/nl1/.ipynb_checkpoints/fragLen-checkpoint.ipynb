{
 "metadata": {
  "name": "",
  "signature": "sha256:bc386141f2643aab879688b53230eed0dddcef2e62310c46ad1513481119498a"
 },
 "nbformat": 3,
 "nbformat_minor": 0,
 "worksheets": [
  {
   "cells": [
    {
     "cell_type": "markdown",
     "metadata": {},
     "source": [
      "# Description:\n",
      "\n",
      "* number libraries = 1\n",
      "* isotope incorp: 0% for all taxa (baseline)\n",
      "\n",
      "## Goals:\n",
      "\n",
      "* assess how fragment length affects distribution of amplicon fragments\n",
      "  * fragment distributions:\n",
      "    * uniform, large range\n",
      "    * uniform, all small fragments\n",
      "    * uniform, all large fragments\n",
      "    * skewed normal, 4 kb size cutoff\n",
      "    * skewed normal, 0.5 kb size cutoff"
     ]
    },
    {
     "cell_type": "markdown",
     "metadata": {},
     "source": [
      "# Init"
     ]
    },
    {
     "cell_type": "code",
     "collapsed": false,
     "input": [
      "workDir = '/home/nick/notebook/SIPSim/dev/bac_genome_all/nl1/fragLen/'\n",
      "baseDir = '/home/nick/notebook/SIPSim/dev/bac_genome_all/'\n",
      "SIPSimExe = '/home/nick/notebook/SIPSim/SIPSim'"
     ],
     "language": "python",
     "metadata": {},
     "outputs": [],
     "prompt_number": 3
    },
    {
     "cell_type": "code",
     "collapsed": false,
     "input": [
      "import os,sys\n",
      "import numpy as np\n",
      "import pandas as pd\n",
      "from ggplot import *\n",
      "import matplotlib.pyplot as plt"
     ],
     "language": "python",
     "metadata": {},
     "outputs": [],
     "prompt_number": 4
    },
    {
     "cell_type": "code",
     "collapsed": false,
     "input": [
      "%load_ext rpy2.ipython\n",
      "%matplotlib inline"
     ],
     "language": "python",
     "metadata": {},
     "outputs": [],
     "prompt_number": 5
    },
    {
     "cell_type": "code",
     "collapsed": false,
     "input": [
      "%%R\n",
      "library(ggplot2)\n",
      "library(dplyr)\n",
      "library(tidyr)\n",
      "library(gridExtra)\n",
      "library(data.table)"
     ],
     "language": "python",
     "metadata": {},
     "outputs": [
      {
       "metadata": {},
       "output_type": "display_data",
       "text": [
        "data.table 1.9.4  For help type: ?data.table\n",
        "*** NB: by=.EACHI is now explicit. See README to restore previous behaviour.\n",
        "\n",
        "Attaching package: \u2018data.table\u2019\n",
        "\n",
        "The following objects are masked from \u2018package:dplyr\u2019:\n",
        "\n",
        "    between, last\n",
        "\n"
       ]
      }
     ],
     "prompt_number": 22
    },
    {
     "cell_type": "code",
     "collapsed": false,
     "input": [
      "if not os.path.isdir(workDir):\n",
      "    os.mkdir(workDir)"
     ],
     "language": "python",
     "metadata": {},
     "outputs": [],
     "prompt_number": 7
    },
    {
     "cell_type": "markdown",
     "metadata": {},
     "source": [
      "# Simulating gradient communities"
     ]
    },
    {
     "cell_type": "code",
     "collapsed": false,
     "input": [
      "%%bash -s \"$workDir\"\n",
      "\n",
      "cd $1 \n",
      "\n",
      "echo \"-sp 100\n",
      "-nl 1\n",
      "-am exponential\" > grinder_profile"
     ],
     "language": "python",
     "metadata": {},
     "outputs": [],
     "prompt_number": 8
    },
    {
     "cell_type": "code",
     "collapsed": false,
     "input": [
      "!cd $workDir; \\\n",
      "    $SIPSimExe gradientComms $baseDir/genomes/genome_index.txt \\\n",
      "    --fp $baseDir/genomes/  --pf grinder_profile \\\n",
      "    > comm-n1-exp.txt"
     ],
     "language": "python",
     "metadata": {},
     "outputs": [
      {
       "output_type": "stream",
       "stream": "stdout",
       "text": [
        "Overall diversity = 1291 genomes\r\n"
       ]
      },
      {
       "output_type": "stream",
       "stream": "stdout",
       "text": [
        "Warning: The number of reads to produce is lower than the required diversity. Increase the coverage or number of reads to achieve this diversity.\r\n"
       ]
      }
     ],
     "prompt_number": 11
    },
    {
     "cell_type": "code",
     "collapsed": false,
     "input": [
      "!cd $workDir; head comm-n1-exp.txt"
     ],
     "language": "python",
     "metadata": {},
     "outputs": [
      {
       "output_type": "stream",
       "stream": "stdout",
       "text": [
        "library\trank\ttaxon_name\tscaffold_id\trel_abund_perc\r\n",
        "1\t1\tActinoplanes_friuliensis_DSM_7358\tCP006272_Actinoplanes_friuliensis_DSM_7358\t34.182307511084\r\n",
        "1\t2\tBurkholderia_ambifaria_AMMD\tCP000440_Burkholderia_ambifaria_AMMD_chromosome_1__complete_sequence\t22.4980060432609\r\n",
        "1\t3\tShigella_dysenteriae_Sd197\tCP000034_Shigella_dysenteriae_Sd197\t14.8076684336912\r\n",
        "1\t4\tDelftia_acidovorans_SPH-1\tCP000884_Delftia_acidovorans_SPH_1\t9.74606567446516\r\n",
        "1\t5\tLactobacillus_brevis_ATCC_367\tCP000416_Lactobacillus_brevis_ATCC_367\t6.41463553538727\r\n",
        "1\t6\tCandidatus_Chloracidobacterium_thermophilum_B\tCP002514_Candidatus_Chloracidobacterium_thermophilum_B_chromosome_1__complete\t4.22196509096592\r\n",
        "1\t7\tKomagataeibacter_medellinensis_NBRC_3288\tAP012159_Gluconacetobacter_xylinus_NBRC_3288_DNA\t2.77880000056133\r\n",
        "1\t8\tCoprothermobacter_proteolyticus_DSM_5265\tCP001145_Coprothermobacter_proteolyticus_DSM_5265\t1.82894203925145\r\n",
        "1\t9\tBrachyspira_pilosicoli_95_1000\tCP002025_Brachyspira_pilosicoli_95_1000\t1.20376744719503\r\n"
       ]
      }
     ],
     "prompt_number": 12
    },
    {
     "cell_type": "markdown",
     "metadata": {},
     "source": [
      "# Simulating isotope incorporation"
     ]
    },
    {
     "cell_type": "code",
     "collapsed": false,
     "input": [
      "# making config file\n",
      "config = \"\"\"\n",
      "[library 1]\n",
      "  # baseline: no incorp\n",
      "  \n",
      "  [[intraPopDist 1]]\n",
      "  distribution = uniform\n",
      "  weight = 1\n",
      "\n",
      "    [[[start]]]\n",
      "\n",
      "      [[[[interPopDist 1]]]]\n",
      "        distribution = uniform\n",
      "        start = 0\n",
      "        end = 0\n",
      "\n",
      "    [[[end]]]\n",
      "\n",
      "      [[[[interPopDist 1]]]]\n",
      "        distribution = uniform\n",
      "        start = 0\n",
      "        end = 0\n",
      "\"\"\"\n",
      "\n",
      "outfile = os.path.join(workDir, 'incorp.config')\n",
      "\n",
      "outf = open(outfile, 'wb')\n",
      "outf.write(config)\n",
      "outf.close()"
     ],
     "language": "python",
     "metadata": {},
     "outputs": [],
     "prompt_number": 13
    },
    {
     "cell_type": "code",
     "collapsed": false,
     "input": [
      "!cd $workDir; \\\n",
      "     $SIPSimExe isoIncorp comm-n1-exp.txt incorp.config > incorp-n1-exp.txt"
     ],
     "language": "python",
     "metadata": {},
     "outputs": [],
     "prompt_number": 14
    },
    {
     "cell_type": "code",
     "collapsed": false,
     "input": [
      "!cd $workDir; head incorp-n1-exp.txt"
     ],
     "language": "python",
     "metadata": {},
     "outputs": [
      {
       "output_type": "stream",
       "stream": "stdout",
       "text": [
        "library\ttaxon_name\tdistribution_index\tdistribution\tweight\tparam\tparam_value\r\n",
        "1\tAster_yellows_witches-broom_phytoplasma_AYWB\t1\tuniform\t1.0\tstart\t5.84087076838e-06\r\n",
        "1\tAster_yellows_witches-broom_phytoplasma_AYWB\t1\tuniform\t1.0\tend\t2.65786271299e-07\r\n",
        "1\tAgrobacterium_fabrum_str_C58\t1\tuniform\t1.0\tstart\t1.24188969472e-06\r\n",
        "1\tAgrobacterium_fabrum_str_C58\t1\tuniform\t1.0\tend\t6.38090286143e-06\r\n",
        "1\tLiberibacter_crescens_BT-1\t1\tuniform\t1.0\tstart\t9.09437491388e-06\r\n",
        "1\tLiberibacter_crescens_BT-1\t1\tuniform\t1.0\tend\t9.91780928811e-06\r\n",
        "1\tSpiroplasma_syrphidicola_EA-1\t1\tuniform\t1.0\tstart\t9.1329123045e-06\r\n",
        "1\tSpiroplasma_syrphidicola_EA-1\t1\tuniform\t1.0\tend\t5.29038758572e-07\r\n",
        "1\tSyntrophobotulus_glycolicus_DSM_8271\t1\tuniform\t1.0\tstart\t4.54457781848e-06\r\n"
       ]
      }
     ],
     "prompt_number": 17
    },
    {
     "cell_type": "markdown",
     "metadata": {},
     "source": [
      "# Simulating gradient fractions"
     ]
    },
    {
     "cell_type": "code",
     "collapsed": false,
     "input": [
      "!cd $workDir; \\\n",
      "    $SIPSimExe fractions comm-n1-exp.txt > fracs-n1-exp.txt"
     ],
     "language": "python",
     "metadata": {},
     "outputs": [],
     "prompt_number": 18
    },
    {
     "cell_type": "code",
     "collapsed": false,
     "input": [
      "!cd $workDir; head fracs-n1-exp.txt"
     ],
     "language": "python",
     "metadata": {},
     "outputs": [
      {
       "output_type": "stream",
       "stream": "stdout",
       "text": [
        "library\tfraction\tBD_min\tBD_max\tfraction_size\r\n",
        "1\t1\t1.66\t1.664\t0.004\r\n",
        "1\t2\t1.664\t1.667\t0.003\r\n",
        "1\t3\t1.667\t1.672\t0.005\r\n",
        "1\t4\t1.672\t1.674\t0.002\r\n",
        "1\t5\t1.674\t1.677\t0.003\r\n",
        "1\t6\t1.677\t1.683\t0.006\r\n",
        "1\t7\t1.683\t1.686\t0.003\r\n",
        "1\t8\t1.686\t1.691\t0.005\r\n",
        "1\t9\t1.691\t1.694\t0.003\r\n"
       ]
      }
     ],
     "prompt_number": 19
    },
    {
     "cell_type": "markdown",
     "metadata": {},
     "source": [
      "# Simulating amplicon fragments & calculating GC"
     ]
    },
    {
     "cell_type": "markdown",
     "metadata": {},
     "source": [
      "## Uniform fragment length distribution: large range"
     ]
    },
    {
     "cell_type": "code",
     "collapsed": false,
     "input": [
      "!cd $workDir; \\\n",
      "    $SIPSimExe fragGC \\\n",
      "    $baseDir/genomes/genome_index.txt \\\n",
      "    --fp $baseDir/genomes/ \\\n",
      "    --fr $baseDir/515Fm-927Rm.fna \\\n",
      "    --fld uniform,500,15000 \\\n",
      "    --flr 500,None \\\n",
      "    --nf 50x \\\n",
      "    --np 6 \\\n",
      "    > ampFragGC_unif5-150.txt"
     ],
     "language": "python",
     "metadata": {},
     "outputs": [
      {
       "output_type": "stream",
       "stream": "stdout",
       "text": [
        "Processing: \"Kangiella_koreensis_DSM_16069\"\r\n",
        "Processing: \"Polymorphum_gilvum_SL003B-26A1\"\r\n",
        "Processing: \"_Cellvibrio_gilvus_ATCC_13127\"\r\n",
        "Processing: \"Croceibacter_atlanticus_HTCC2559\"\r\n",
        "Processing: \"Sulfuricurvum_kujiense_DSM_16994\"\r\n",
        "Processing: \"Eubacterium_rectale_ATCC_33656\"\r\n"
       ]
      },
      {
       "output_type": "stream",
       "stream": "stdout",
       "text": [
        "  Genome name: Sulfuricurvum_kujiense_DSM_16994\r\n"
       ]
      },
      {
       "output_type": "stream",
       "stream": "stdout",
       "text": [
        "  Genome length (bp): 2574824\r\n",
        "  Number of amplicons: 0\r\n",
        "  Number of fragments simulated: 0\r\n",
        "Processing: \"Nocardia_nova_SH22a\"\r\n"
       ]
      },
      {
       "output_type": "stream",
       "stream": "stdout",
       "text": [
        "  Genome name: _Cellvibrio_gilvus_ATCC_13127\r\n",
        "  Genome length (bp): 3526441\r\n",
        "  Number of amplicons: 2\r\n",
        "  Number of fragments simulated: 22785\r\n"
       ]
      },
      {
       "output_type": "stream",
       "stream": "stdout",
       "text": [
        "  Genome name: Kangiella_koreensis_DSM_16069\r\n",
        "  Genome length (bp): 2852073\r\n",
        "  Number of amplicons: 2\r\n",
        "  Number of fragments simulated: 18375\r\n"
       ]
      },
      {
       "output_type": "stream",
       "stream": "stdout",
       "text": [
        "Processing: \"Gordonia_polyisoprenivorans_VH2\"\r\n"
       ]
      },
      {
       "output_type": "stream",
       "stream": "stdout",
       "text": [
        "Processing: \"Aeromonas_salmonicida_subsp_salmonicida_A449\"\r\n"
       ]
      },
      {
       "output_type": "stream",
       "stream": "stdout",
       "text": [
        "  Genome name: Croceibacter_atlanticus_HTCC2559\r\n",
        "  Genome length (bp): 2952962\r\n",
        "  Number of amplicons: 2\r\n",
        "  Number of fragments simulated: 19050\r\n"
       ]
      },
      {
       "output_type": "stream",
       "stream": "stdout",
       "text": [
        "  Genome name: Eubacterium_rectale_ATCC_33656\r\n",
        "  Genome length (bp): 3449685\r\n",
        "  Number of amplicons: 5\r\n",
        "  Number of fragments simulated: 22245\r\n"
       ]
      },
      {
       "output_type": "stream",
       "stream": "stdout",
       "text": [
        "Processing: \"Thermodesulfobium_narugense_DSM_14796\"\r\n"
       ]
      },
      {
       "output_type": "stream",
       "stream": "stdout",
       "text": [
        "Processing: \"Brevibacillus_brevis_NBRC_100599\"\r\n"
       ]
      },
      {
       "output_type": "stream",
       "stream": "stdout",
       "text": [
        "  Genome name: Polymorphum_gilvum_SL003B-26A1\r\n",
        "  Genome length (bp): 4649365\r\n",
        "  Number of amplicons: 2\r\n",
        "  Number of fragments simulated: 30073\r\n"
       ]
      },
      {
       "output_type": "stream",
       "stream": "stdout",
       "text": [
        "Processing: \"Spiroplasma_culicicola_AES-1\"\r\n"
       ]
      },
      {
       "output_type": "stream",
       "stream": "stdout",
       "text": [
        "  Genome name: Thermodesulfobium_narugense_DSM_14796\r\n",
        "  Genome length (bp): 1898865\r\n",
        "  Number of amplicons: 2\r\n",
        "  Number of fragments simulated: 12263\r\n"
       ]
      },
      {
       "output_type": "stream",
       "stream": "stdout",
       "text": [
        "Processing: \"Isoptericola_variabilis_225\"\r\n"
       ]
      },
      {
       "output_type": "stream",
       "stream": "stdout",
       "text": [
        "  Genome name: Spiroplasma_culicicola_AES-1\r\n",
        "  Genome length (bp): 1175131\r\n",
        "  Number of amplicons: 1\r\n",
        "  Number of fragments simulated: 7583\r\n",
        "Processing: \"Oscillibacter_valericigenes_Sjm18-20\"\r\n"
       ]
      },
      {
       "output_type": "stream",
       "stream": "stdout",
       "text": [
        "  Genome name: Isoptericola_variabilis_225\r\n",
        "  Genome length (bp): 3307740\r\n",
        "  Number of amplicons: 3\r\n",
        "  Number of fragments simulated: 21316\r\n"
       ]
      },
      {
       "output_type": "stream",
       "stream": "stdout",
       "text": [
        "Processing: \"Desulfocapsa_sulfexigens_DSM_10523\"\r\n"
       ]
      },
      {
       "output_type": "stream",
       "stream": "stdout",
       "text": [
        "  Genome name: Gordonia_polyisoprenivorans_VH2\r\n",
        "  Genome length (bp): 5669805\r\n",
        "  Number of amplicons: 3\r\n",
        "  Number of fragments simulated: 36568\r\n"
       ]
      },
      {
       "output_type": "stream",
       "stream": "stdout",
       "text": [
        "Processing: \"Planktomarina_temperata_RCA23\"\r\n"
       ]
      },
      {
       "output_type": "stream",
       "stream": "stdout",
       "text": [
        "  Genome name: Aeromonas_salmonicida_subsp_salmonicida_A449\r\n",
        "  Genome length (bp): 4702402\r\n",
        "  Number of amplicons: 9\r\n",
        "  Number of fragments simulated: 30219\r\n"
       ]
      },
      {
       "output_type": "stream",
       "stream": "stdout",
       "text": [
        "Processing: \"Marinithermus_hydrothermalis_DSM_14884\"\r\n"
       ]
      },
      {
       "output_type": "stream",
       "stream": "stdout",
       "text": [
        "  Genome name: Brevibacillus_brevis_NBRC_100599\r\n",
        "  Genome length (bp): 6296436\r\n",
        "  Number of amplicons: 15\r\n",
        "  Number of fragments simulated: 40610\r\n"
       ]
      },
      {
       "output_type": "stream",
       "stream": "stdout",
       "text": [
        "Processing: \"Shewanella_baltica_OS117\"\r\n"
       ]
      },
      {
       "output_type": "stream",
       "stream": "stdout",
       "text": [
        "  Genome name: Nocardia_nova_SH22a\r\n",
        "  Genome length (bp): 8348532\r\n",
        "  Number of amplicons: 3\r\n",
        "  Number of fragments simulated: 54067\r\n"
       ]
      },
      {
       "output_type": "stream",
       "stream": "stdout",
       "text": [
        "Processing: \"Desulfosporosinus_orientis_DSM_765\"\r\n"
       ]
      },
      {
       "output_type": "stream",
       "stream": "stdout",
       "text": [
        "  Genome name: Marinithermus_hydrothermalis_DSM_14884\r\n",
        "  Genome length (bp): 2269167\r\n",
        "  Number of amplicons: 3\r\n",
        "  Number of fragments simulated: 14656\r\n"
       ]
      },
      {
       "output_type": "stream",
       "stream": "stdout",
       "text": [
        "Processing: \"Halobacillus_halophilus_DSM_2266\"\r\n",
        "  Genome name: Oscillibacter_valericigenes_Sjm18-20\r\n",
        "  Genome length (bp): 4410036\r\n",
        "  Number of amplicons: 3\r\n",
        "  Number of fragments simulated: 28424\r\n"
       ]
      },
      {
       "output_type": "stream",
       "stream": "stdout",
       "text": [
        "Processing: \"Cronobacter_sakazakii_SP291\"\r\n"
       ]
      }
     ]
    },
    {
     "cell_type": "code",
     "collapsed": false,
     "input": [
      "%%R -i workDir -w 550 -h 350\n",
      "\n",
      "setwd(workDir)\n",
      "\n",
      "#tbl = fread('ampFragGC_unif5-150.txt', sep=\"\\t\")\n",
      "tbl = fread('test_frag_GC.txt', '\\t')\n",
      "\n",
      "#tbl$fragLen = abs(tbl$fragEnd - tbl$fragStart)\n",
      "tbl[,fragLen:=abs(fragEnd - fragStart)]\n",
      "ggplot(tbl, aes(fragLen)) +\n",
      "    geom_histogram(binwidth=100)"
     ],
     "language": "python",
     "metadata": {},
     "outputs": []
    },
    {
     "cell_type": "code",
     "collapsed": false,
     "input": [],
     "language": "python",
     "metadata": {},
     "outputs": []
    }
   ],
   "metadata": {}
  }
 ]
}