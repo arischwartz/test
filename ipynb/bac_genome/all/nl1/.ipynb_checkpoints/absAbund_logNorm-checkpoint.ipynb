{
 "cells": [
  {
   "cell_type": "markdown",
   "metadata": {},
   "source": [
    "# Description\n",
    "\n",
    "* number libraries = 1\n",
    "* isotope incorp: 0% for all taxa (baseline)\n",
    "* abundance distribution: lognormal\n",
    "\n",
    "## Goals\n",
    "\n",
    "* assess how absolute abundance alters the distribution of amplicon fragments\n",
    "  * abs abund values:\n",
    "    * 1e9, 5e9, 1e10"
   ]
  },
  {
   "cell_type": "markdown",
   "metadata": {},
   "source": [
    "# Init"
   ]
  },
  {
   "cell_type": "code",
   "execution_count": 1,
   "metadata": {
    "collapsed": false
   },
   "outputs": [],
   "source": [
    "workDir = '/home/nick/notebook/SIPSim/dev/bac_genome_all/nl1/absAbund/'\n",
    "copyDir = '/home/nick/notebook/SIPSim/dev/bac_genome_all/nl1/fragLen/'\n",
    "baseDir = '/home/nick/notebook/SIPSim/dev/bac_genome_all/'\n",
    "SIPSimExe = '/home/nick/notebook/SIPSim/SIPSim'"
   ]
  },
  {
   "cell_type": "code",
   "execution_count": 4,
   "metadata": {
    "collapsed": false
   },
   "outputs": [
    {
     "name": "stdout",
     "output_type": "stream",
     "text": [
      "The rpy2.ipython extension is already loaded. To reload it, use:\n",
      "  %reload_ext rpy2.ipython\n"
     ]
    }
   ],
   "source": [
    "%load_ext rpy2.ipython"
   ]
  },
  {
   "cell_type": "code",
   "execution_count": 5,
   "metadata": {
    "collapsed": false
   },
   "outputs": [
    {
     "data": {
      "text/plain": [
       "\n",
       "Attaching package: ‘dplyr’\n",
       "\n",
       "The following object is masked from ‘package:stats’:\n",
       "\n",
       "    filter\n",
       "\n",
       "The following objects are masked from ‘package:base’:\n",
       "\n",
       "    intersect, setdiff, setequal, union\n",
       "\n",
       "Loading required package: grid\n",
       "data.table 1.9.4  For help type: ?data.table\n",
       "*** NB: by=.EACHI is now explicit. See README to restore previous behaviour.\n",
       "\n",
       "Attaching package: ‘data.table’\n",
       "\n",
       "The following objects are masked from ‘package:dplyr’:\n",
       "\n",
       "    between, last\n",
       "\n"
      ]
     },
     "metadata": {},
     "output_type": "display_data"
    }
   ],
   "source": [
    "%%R\n",
    "library(ggplot2)\n",
    "library(dplyr)\n",
    "library(tidyr)\n",
    "library(gridExtra)\n",
    "library(data.table)"
   ]
  },
  {
   "cell_type": "code",
   "execution_count": 6,
   "metadata": {
    "collapsed": false
   },
   "outputs": [],
   "source": [
    "if not os.path.isdir(workDir):\n",
    "    os.mkdir(workDir)"
   ]
  },
  {
   "cell_type": "markdown",
   "metadata": {},
   "source": [
    "# Simulating gradient communities"
   ]
  },
  {
   "cell_type": "code",
   "execution_count": 7,
   "metadata": {
    "collapsed": true
   },
   "outputs": [],
   "source": [
    "comm_file = 'comm-n1-logn.txt'\n",
    "comm_file_cp1 = os.path.join(copyDir, comm_file)\n",
    "comm_file_cp2 = os.path.join(workDir, comm_file)\n",
    "!cp $comm_file_cp1 $comm_file_cp2"
   ]
  },
  {
   "cell_type": "code",
   "execution_count": 8,
   "metadata": {
    "collapsed": false
   },
   "outputs": [
    {
     "data": {
      "text/plain": [
       "[1] 100\n",
       "    Min.  1st Qu.   Median     Mean  3rd Qu.     Max. \n",
       "0.000006 0.003088 0.010750 0.082640 0.040510 8.164000 \n",
       "[1] 1392199\n"
      ]
     },
     "metadata": {},
     "output_type": "display_data"
    },
    {
     "data": {
      "image/png": "[encoded data removed]"
     },
     "metadata": {},
     "output_type": "display_data"
    }
   ],
   "source": [
    "%%R -i workDir -w 1000 -h 350 \n",
    "# plotting the abundance distribution\n",
    "setwd(workDir)\n",
    "\n",
    "tbl = read.delim('comm-n1-logn.txt', sep='\\t')\n",
    "\n",
    "print(sum(tbl$rel_abund_perc))\n",
    "print(summary(tbl$rel_abund_perc))\n",
    "print(max(tbl$rel_abund_perc) / min(tbl$rel_abund_perc))\n",
    "\n",
    "# plotting\n",
    "ggplot(tbl, aes(rank, rel_abund_perc)) +\n",
    "    geom_bar(stat='identity') +\n",
    "    theme( text = element_text(size=16))"
   ]
  },
  {
   "cell_type": "markdown",
   "metadata": {},
   "source": [
    "# Simulating isotope incorporation"
   ]
  },
  {
   "cell_type": "code",
   "execution_count": 9,
   "metadata": {
    "collapsed": true
   },
   "outputs": [],
   "source": [
    "comm_file = 'incorp-n1-logn.txt'\n",
    "comm_file_cp1 = os.path.join(copyDir, comm_file)\n",
    "comm_file_cp2 = os.path.join(workDir, comm_file)\n",
    "!cp $comm_file_cp1 $comm_file_cp2"
   ]
  },
  {
   "cell_type": "code",
   "execution_count": 11,
   "metadata": {
    "collapsed": true
   },
   "outputs": [],
   "source": [
    "comm_file = 'incorp.config'\n",
    "comm_file_cp1 = os.path.join(copyDir, comm_file)\n",
    "comm_file_cp2 = os.path.join(workDir, comm_file)\n",
    "!cp $comm_file_cp1 $comm_file_cp2"
   ]
  },
  {
   "cell_type": "code",
   "execution_count": 12,
   "metadata": {
    "collapsed": false
   },
   "outputs": [],
   "source": [
    "!cd $workDir; \\\n",
    "    $SIPSimExe isoIncorp \\\n",
    "    comm-n1-logn.txt \\\n",
    "    incorp.config \\\n",
    "    > incorp-n1-logn.txt"
   ]
  },
  {
   "cell_type": "code",
   "execution_count": 13,
   "metadata": {
    "collapsed": false
   },
   "outputs": [
    {
     "name": "stdout",
     "output_type": "stream",
     "text": [
      "library\ttaxon_name\tdistribution_index\tdistribution\tweight\tparam\tparam_value\r\n",
      "1\tDyella_japonica_A8\t1\tuniform\t1.0\tstart\t8.77626044816e-06\r\n",
      "1\tDyella_japonica_A8\t1\tuniform\t1.0\tend\t9.83134088922e-06\r\n",
      "1\tSulfurospirillum_deleyianum_DSM_6946\t1\tuniform\t1.0\tstart\t8.28667487953e-06\r\n",
      "1\tSulfurospirillum_deleyianum_DSM_6946\t1\tuniform\t1.0\tend\t6.37507519633e-06\r\n",
      "1\tAcinetobacter_oleivorans_DR1\t1\tuniform\t1.0\tstart\t6.45787008223e-06\r\n",
      "1\tAcinetobacter_oleivorans_DR1\t1\tuniform\t1.0\tend\t8.81781573978e-06\r\n",
      "1\tPelagibacterium_halotolerans_B2\t1\tuniform\t1.0\tstart\t4.11103051824e-06\r\n",
      "1\tPelagibacterium_halotolerans_B2\t1\tuniform\t1.0\tend\t6.23871288891e-06\r\n",
      "1\tSymbiobacterium_thermophilum_IAM_14863\t1\tuniform\t1.0\tstart\t8.76944948894e-06\r\n"
     ]
    }
   ],
   "source": [
    "!cd $workDir; head incorp-n1-logn.txt"
   ]
  },
  {
   "cell_type": "markdown",
   "metadata": {},
   "source": [
    "# Simulating gradient fractions"
   ]
  },
  {
   "cell_type": "code",
   "execution_count": 14,
   "metadata": {
    "collapsed": true
   },
   "outputs": [],
   "source": [
    "comm_file = 'fracs-n1-logn.txt'\n",
    "comm_file_cp1 = os.path.join(copyDir, comm_file)\n",
    "comm_file_cp2 = os.path.join(workDir, comm_file)\n",
    "!cp $comm_file_cp1 $comm_file_cp2"
   ]
  },
  {
   "cell_type": "code",
   "execution_count": 17,
   "metadata": {
    "collapsed": false
   },
   "outputs": [
    {
     "data": {
      "image/png": "[encoded data removed]"
     },
     "metadata": {},
     "output_type": "display_data"
    }
   ],
   "source": [
    "%%R -i workDir -h 350 -w 300 \n",
    "# plotting the abundance distribution\n",
    "setwd(workDir)\n",
    "\n",
    "tbl = read.delim('fracs-n1-logn.txt', sep='\\t')\n",
    "tbl$library = as.character(tbl$library)\n",
    "\n",
    "\n",
    "ggplot(tbl, aes(library, fraction_size)) +\n",
    "    geom_boxplot() +\n",
    "    labs(y='fraction BD range') +\n",
    "    theme( \n",
    "        text = element_text(size=18),\n",
    "        axis.title.y = element_text(vjust=1)\n",
    "    )"
   ]
  },
  {
   "cell_type": "markdown",
   "metadata": {},
   "source": [
    "# Simulating amplicon fragments & calculating GC"
   ]
  },
  {
   "cell_type": "markdown",
   "metadata": {
    "collapsed": false
   },
   "source": [
    "## Skewed-normal fragment length distribution \n",
    "\n",
    "* default params \n",
    "  * I'm explicitly setting the defaults in case they change later\n",
    "  * no real size restrictions"
   ]
  },
  {
   "cell_type": "code",
   "execution_count": 15,
   "metadata": {
    "collapsed": true
   },
   "outputs": [],
   "source": [
    "comm_file = 'ampFragGC_skewN90-25-n5-nS.pkl'\n",
    "comm_file_cp1 = os.path.join(copyDir, comm_file)\n",
    "comm_file_cp2 = os.path.join(workDir, comm_file)\n",
    "!cp $comm_file_cp1 $comm_file_cp2"
   ]
  },
  {
   "cell_type": "markdown",
   "metadata": {},
   "source": [
    "## Creating OTU table: abs-abund = 1e9"
   ]
  },
  {
   "cell_type": "code",
   "execution_count": null,
   "metadata": {
    "collapsed": false
   },
   "outputs": [],
   "source": [
    "!cd $workDir; \\\n",
    "    $SIPSimExe OTU_sim \\\n",
    "    ampFragGC_skewN90-25-n5-nS.pkl \\\n",
    "    comm-n1-logn.txt \\\n",
    "    incorp-n1-logn.txt \\\n",
    "    fracs-n1-logn.txt \\\n",
    "    --abs_abund 1e9 \\\n",
    "    2> OTU-n1-logn_skewN90-25-n5-nS_A1e9.log \\\n",
    "    > OTU-n1-logn_skewN90-25-n5-nS_A1e9.txt"
   ]
  },
  {
   "cell_type": "markdown",
   "metadata": {},
   "source": [
    "## Creating OTU table: abs-abund = 2e9"
   ]
  },
  {
   "cell_type": "code",
   "execution_count": null,
   "metadata": {
    "collapsed": false
   },
   "outputs": [],
   "source": [
    "!cd $workDir; \\\n",
    "    $SIPSimExe OTU_sim \\\n",
    "    ampFragGC_skewN90-25-n5-nS.pkl \\\n",
    "    comm-n1-logn.txt \\\n",
    "    incorp-n1-logn.txt \\\n",
    "    fracs-n1-logn.txt \\\n",
    "    --abs_abund 2e9 \\\n",
    "    2> OTU-n1-logn_skewN90-25-n5-nS_A2e9.log \\\n",
    "    > OTU-n1-logn_skewN90-25-n5-nS_A2e9.txt"
   ]
  },
  {
   "cell_type": "markdown",
   "metadata": {},
   "source": [
    "## Creating OTU table: abs-abund = 4e10"
   ]
  },
  {
   "cell_type": "code",
   "execution_count": null,
   "metadata": {
    "collapsed": true
   },
   "outputs": [],
   "source": [
    "!cd $workDir; \\\n",
    "    $SIPSimExe OTU_sim \\\n",
    "    ampFragGC_skewN90-25-n5-nS.pkl \\\n",
    "    comm-n1-logn.txt \\\n",
    "    incorp-n1-logn.txt \\\n",
    "    fracs-n1-logn.txt \\\n",
    "    --abs_abund 4e9 \\\n",
    "    2> OTU-n1-logn_skewN90-25-n5-nS_A4e9.log \\\n",
    "    > OTU-n1-logn_skewN90-25-n5-nS_A4e9.txt"
   ]
  },
  {
   "cell_type": "markdown",
   "metadata": {},
   "source": [
    "## Plotting OTU tables\n"
   ]
  },
  {
   "cell_type": "code",
   "execution_count": null,
   "metadata": {
    "collapsed": false
   },
   "outputs": [],
   "source": [
    "%%R -i workDir\n",
    "\n",
    "# loading file\n",
    "inFiles = c('OTU-n1-logn_skewN90-25-n5-nS_A1e9.txt',\n",
    "            'OTU-n1-logn_skewN90-25-n5-nS_A2e9.txt',\n",
    "            'OTU-n1-logn_skewN90-25-n5-nS_A4e9.txt')\n",
    "\n",
    "inFiles = sapply(inFiles, function(x){\n",
    "            paste(c(workDir, x), collapse='/')\n",
    "    })\n",
    "\n",
    "tbls = list()\n",
    "for (fileName in names(inFiles)){\n",
    "    tbls[[fileName]] = read.csv(fileName, sep='\\t')\n",
    "    }\n",
    "tbl = do.call(rbind, tbls)\n",
    "tbl$abs_abund = as.numeric(gsub('.+-nS_A|\\\\.txt\\\\.[0-9]+', '', rownames(tbl)))\n",
    "\n",
    "tbl = tbl %>% \n",
    "    separate(fractions, into = c('BD_min','BD_max'), sep='-', convert=TRUE) %>%\n",
    "    filter(BD_min != 1.795)"
   ]
  },
  {
   "cell_type": "code",
   "execution_count": null,
   "metadata": {
    "collapsed": true
   },
   "outputs": [],
   "source": [
    "%%R\n",
    "## BD for G+C of 0 or 100\n",
    "BD.GCp0 = 0 * 0.098 + 1.66\n",
    "BD.GCp100 = 1 * 0.098 + 1.66"
   ]
  },
  {
   "cell_type": "code",
   "execution_count": null,
   "metadata": {
    "collapsed": false
   },
   "outputs": [],
   "source": [
    "%%R -w 800 -h 500\n",
    "# plotting absolute abundances\n",
    "\n",
    "tbl.s = tbl %>%\n",
    "    group_by(abs_abund, BD_min) %>%\n",
    "    summarize(total_count = sum(count))\n",
    "\n",
    "\n",
    "## plot\n",
    "p = ggplot(tbl.s, aes(BD_min, total_count)) +\n",
    "    geom_area(stat='identity', alpha=0.5, position='dodge') +\n",
    "    geom_vline(xintercept=c(BD.GCp0, BD.GCp100), linetype='dashed', alpha=0.5) +\n",
    "    labs(x='Buoyant density') +\n",
    "    facet_grid(abs_abund ~ .) +\n",
    "    theme( \n",
    "        text = element_text(size=16) \n",
    "    )\n",
    "p"
   ]
  },
  {
   "cell_type": "code",
   "execution_count": null,
   "metadata": {
    "collapsed": false
   },
   "outputs": [],
   "source": [
    "%%R -w 800 -h 500\n",
    "\n",
    "p + scale_y_log10()"
   ]
  },
  {
   "cell_type": "code",
   "execution_count": null,
   "metadata": {
    "collapsed": true
   },
   "outputs": [],
   "source": [
    "%%R\n",
    "tax_order = tbl %>%\n",
    "    group_by(taxon) %>%\n",
    "    summarize(taxon_total_abund = sum(count)) %>%\n",
    "    as.data.frame\n",
    "\n",
    "tax_order = unique(tax_order[order(tax_order$taxon_total_abund, decreasing=T),'taxon']) \n",
    "\n",
    "tbl$taxon = factor(tbl$taxon, levels=sort(unique(tbl$taxon), decreasing=T))\n",
    "tbl$taxon_group = factor(tbl$taxon, levels=tax_order)"
   ]
  },
  {
   "cell_type": "code",
   "execution_count": null,
   "metadata": {
    "collapsed": false
   },
   "outputs": [],
   "source": [
    "%%R -w 800 -h 600\n",
    "# plotting relative abundances\n",
    "\n",
    "## plot\n",
    "p = ggplot(tbl, aes(BD_min, count, fill=taxon, order=taxon_group)) +\n",
    "    geom_area(stat='identity', alpha=0.5, position='fill') +\n",
    "    geom_vline(xintercept=c(BD.GCp0, BD.GCp100), linetype='dashed', alpha=0.5) +\n",
    "    labs(x='Buoyant density') +\n",
    "    facet_grid(abs_abund ~ .) +\n",
    "    theme( \n",
    "        text = element_text(size=16),\n",
    "        legend.position = 'none'\n",
    "    )\n",
    "p"
   ]
  },
  {
   "cell_type": "code",
   "execution_count": null,
   "metadata": {
    "collapsed": false
   },
   "outputs": [],
   "source": [
    "%%R -w 800 -h 500\n",
    "# plotting number of taxa at each BD\n",
    "\n",
    "tbl.nt = tbl %>%\n",
    "    filter(count > 0) %>%\n",
    "    group_by(abs_abund, BD_min) %>%\n",
    "    summarize(n_taxa = n())\n",
    "\n",
    "## plot\n",
    "p = ggplot(tbl.nt, aes(BD_min, n_taxa)) +\n",
    "    geom_area(stat='identity', alpha=0.5, position='dodge') +\n",
    "    geom_vline(xintercept=c(BD.GCp0, BD.GCp100), linetype='dashed', alpha=0.5) +\n",
    "    labs(x='Buoyant density', y='Number of taxa') +\n",
    "    facet_grid(abs_abund ~ .) +\n",
    "    theme( \n",
    "        text = element_text(size=16),\n",
    "        legend.position = 'none'\n",
    "    )\n",
    "p"
   ]
  },
  {
   "cell_type": "code",
   "execution_count": null,
   "metadata": {
    "collapsed": false
   },
   "outputs": [],
   "source": [
    "%%R -h 400 -w 650\n",
    "\n",
    "tbl.s = tbl %>%\n",
    "    group_by(abs_abund, taxon) %>%\n",
    "    summarize( total_abund = sum(count) ) %>%\n",
    "    mutate(rank = min_rank(desc(total_abund))) %>%\n",
    "    arrange(rank)\n",
    "\n",
    "ggplot(tbl.s, aes(rank, total_abund)) +\n",
    "    geom_bar(stat='identity') +\n",
    "    facet_grid(abs_abund ~ .) +\n",
    "    theme( text = element_text(size=16))"
   ]
  },
  {
   "cell_type": "code",
   "execution_count": null,
   "metadata": {
    "collapsed": false
   },
   "outputs": [],
   "source": [
    "%%R -w 700 -h 650\n",
    "# plotting most abundant taxa\n",
    "\n",
    "tbl.s.a10 = tbl.s %>%\n",
    "    filter(rank <= 10)\n",
    "\n",
    "tbl.a10 = tbl %>%\n",
    "    filter(taxon %in% tbl.s.a10$taxon)\n",
    "\n",
    "## plot\n",
    "p = ggplot(tbl.a10, aes(BD_min, count, fill=taxon, group=taxon)) +\n",
    "    geom_vline(xintercept=c(BD.GCp0, BD.GCp100), linetype='dashed', alpha=0.5) +\n",
    "    labs(x='Buoyant density') +\n",
    "    facet_grid(abs_abund ~ .) +\n",
    "    theme( \n",
    "        text = element_text(size=16),\n",
    "        legend.position = 'none'\n",
    "    )\n",
    "p1 = p + geom_area(stat='identity', alpha=0.5, position='dodge') \n",
    "p2 = p + geom_area(stat='identity', alpha=0.5, position='fill') \n",
    "\n",
    "grid.arrange(p1, p2, ncol=1)"
   ]
  },
  {
   "cell_type": "markdown",
   "metadata": {},
   "source": [
    "## Measuring the BD range vs total abundance for each taxon"
   ]
  },
  {
   "cell_type": "code",
   "execution_count": null,
   "metadata": {
    "collapsed": false
   },
   "outputs": [],
   "source": [
    "%%R\n",
    "tbl.bdr = tbl %>%\n",
    "    mutate(\n",
    "           GC_min = (BD_min - 1.66) / 0.098 * 100,\n",
    "           GC_max = (BD_max - 1.66) / 0.098 * 100\n",
    "          ) %>%\n",
    "    group_by(abs_abund, taxon) %>%\n",
    "    filter(count > 0) %>%\n",
    "    summarize(\n",
    "              GC_range = max(GC_max) - min(GC_min),\n",
    "              BD_range = max(BD_max) - min(BD_min),\n",
    "              total_abund = sum(count)\n",
    "            )  \n",
    "\n",
    "# plotting \n",
    "ggplot(tbl.bdr, aes(total_abund, BD_range)) +\n",
    "    geom_point(alpha=0.75, shape='O') +\n",
    "    geom_smooth(method='lm') +\n",
    "    scale_x_log10() +\n",
    "    facet_grid(abs_abund ~ .) +\n",
    "    theme(\n",
    "        text = element_text(size=16)\n",
    "        )"
   ]
  },
  {
   "cell_type": "code",
   "execution_count": null,
   "metadata": {
    "collapsed": false
   },
   "outputs": [],
   "source": [
    "%%R -w 800\n",
    "# plotting boxplots\n",
    "tbl.bdr$abs_abund = as.character(tbl.bdr$abs_abund)\n",
    "tbl.bdr$abs_abund = factor(tbl.bdr$abs_abund, levels=c('1e+09','5e+09','1e+10'))\n",
    "\n",
    "p1 = ggplot(tbl.bdr, aes(abs_abund, BD_range)) +\n",
    "    geom_boxplot() +\n",
    "    labs(y='Range of BD for fragments') +\n",
    "    theme(\n",
    "        text = element_text(size=16)\n",
    "        )\n",
    "\n",
    "p2 = ggplot(tbl.bdr, aes(abs_abund, GC_range)) +\n",
    "    geom_boxplot() +\n",
    "    labs(y='Range of %GC for fragments') +\n",
    "    theme(\n",
    "        text = element_text(size=16)\n",
    "        )\n",
    "\n",
    "grid.arrange(p1, p2, ncol=2)"
   ]
  },
  {
   "cell_type": "code",
   "execution_count": null,
   "metadata": {
    "collapsed": false
   },
   "outputs": [],
   "source": [
    "%%R\n",
    "tbl.bdr %>%\n",
    "    group_by(abs_abund) %>%\n",
    "    summarize(\n",
    "        median_BD_range = median(BD_range),\n",
    "        median_GC_range = median(GC_range)\n",
    "    )"
   ]
  },
  {
   "cell_type": "markdown",
   "metadata": {},
   "source": [
    "__Notes:__\n",
    "\n"
   ]
  },
  {
   "cell_type": "markdown",
   "metadata": {},
   "source": [
    "# Subsampling OTU tables\n",
    "\n",
    "* subsample sizes:\n",
    "  * 1k\n",
    "  * 10k\n",
    "  * 50k"
   ]
  },
  {
   "cell_type": "code",
   "execution_count": null,
   "metadata": {
    "collapsed": false
   },
   "outputs": [],
   "source": [
    "!cd $workDir; \\\n",
    "    SIPSim OTU_subsample \\\n",
    "    OTU-n1-logn_skewN90-25-n5-nS_A1e10.txt \\\n",
    "    --dist_params low:1000,high:1000 \\\n",
    "    > OTU-n1-logn_skewN90-25-n5-nS_A1e10_sub1k.txt\n",
    "\n",
    "!cd $workDir; \\\n",
    "    SIPSim OTU_subsample \\\n",
    "    OTU-n1-logn_skewN90-25-n5-nS_A1e10.txt \\\n",
    "    --dist_params low:10000,high:10000 \\\n",
    "    > OTU-n1-logn_skewN90-25-n5-nS_A1e10_sub10k.txt\n",
    "    \n",
    "!cd $workDir; \\\n",
    "    SIPSim OTU_subsample \\\n",
    "    OTU-n1-logn_skewN90-25-n5-nS_A1e10.txt \\\n",
    "    --dist_params low:50000,high:50000 \\\n",
    "    > OTU-n1-logn_skewN90-25-n5-nS_A1e10_sub50k.txt"
   ]
  },
  {
   "cell_type": "code",
   "execution_count": null,
   "metadata": {
    "collapsed": false
   },
   "outputs": [],
   "source": [
    "%%R -i workDir\n",
    "\n",
    "# loading file\n",
    "inFiles = c('OTU-n1-logn_skewN90-25-n5-nS_A1e10_sub1k.txt',\n",
    "            'OTU-n1-logn_skewN90-25-n5-nS_A1e10_sub10k.txt',\n",
    "            'OTU-n1-logn_skewN90-25-n5-nS_A1e10_sub50k.txt')\n",
    "\n",
    "inFiles = sapply(inFiles, function(x){\n",
    "            paste(c(workDir, x), collapse='/')\n",
    "    })\n",
    "\n",
    "tbls = list()\n",
    "for (fileName in names(inFiles)){\n",
    "    tbls[[fileName]] = read.csv(fileName, sep='\\t')\n",
    "    }\n",
    "tbl = do.call(rbind, tbls)\n",
    "tbl$abs_abund = gsub('.+_sub|\\\\.txt\\\\.[0-9]+', '', rownames(tbl))\n",
    "\n",
    "tbl = tbl %>% \n",
    "    separate(fractions, into = c('BD_min','BD_max'), sep='-', convert=TRUE) %>%\n",
    "    filter(BD_min != 1.795)"
   ]
  },
  {
   "cell_type": "code",
   "execution_count": null,
   "metadata": {
    "collapsed": false
   },
   "outputs": [],
   "source": [
    "%%R -w 800 -h 500\n",
    "# plotting absolute abundances\n",
    "\n",
    "tbl.s = tbl %>%\n",
    "    group_by(abs_abund, BD_min) %>%\n",
    "    summarize(total_count = sum(count))\n",
    "\n",
    "\n",
    "## plot\n",
    "p = ggplot(tbl.s, aes(BD_min, total_count)) +\n",
    "    geom_area(stat='identity', alpha=0.5, position='dodge') +\n",
    "    geom_vline(xintercept=c(BD.GCp0, BD.GCp100), linetype='dashed', alpha=0.5) +\n",
    "    labs(x='Buoyant density') +\n",
    "    facet_grid(abs_abund ~ .) +\n",
    "    theme( \n",
    "        text = element_text(size=16) \n",
    "    )\n",
    "p"
   ]
  },
  {
   "cell_type": "code",
   "execution_count": null,
   "metadata": {
    "collapsed": false
   },
   "outputs": [],
   "source": [
    "%%R\n",
    "tax_order = tbl %>%\n",
    "    group_by(taxon) %>%\n",
    "    summarize(taxon_total_abund = sum(count)) %>%\n",
    "    as.data.frame\n",
    "\n",
    "tax_order = unique(tax_order[order(tax_order$taxon_total_abund, decreasing=T),'taxon']) \n",
    "\n",
    "tbl$taxon = factor(tbl$taxon, levels=sort(unique(tbl$taxon), decreasing=T))\n",
    "tbl$taxon_group = factor(tbl$taxon, levels=tax_order)"
   ]
  },
  {
   "cell_type": "code",
   "execution_count": null,
   "metadata": {
    "collapsed": false
   },
   "outputs": [],
   "source": [
    "%%R -w 800 -h 650\n",
    "# plotting abundance\n",
    "\n",
    "tbl$abs_abund = factor(tbl$abs_abund, levels=c('1k','10k','50k'))\n",
    "\n",
    "## plot\n",
    "p = ggplot(tbl, aes(BD_min, count, fill=taxon, order=taxon_group)) +\n",
    "    geom_area(stat='identity', alpha=0.5, position='fill') +\n",
    "    geom_vline(xintercept=c(BD.GCp0, BD.GCp100), linetype='dashed', alpha=0.5) +\n",
    "    labs(x='Buoyant density') +\n",
    "    facet_grid(abs_abund ~ .) +\n",
    "    theme( \n",
    "        text = element_text(size=16),\n",
    "        legend.position = 'none'\n",
    "    )\n",
    "p"
   ]
  },
  {
   "cell_type": "code",
   "execution_count": null,
   "metadata": {
    "collapsed": true
   },
   "outputs": [],
   "source": []
  },
  {
   "cell_type": "code",
   "execution_count": null,
   "metadata": {
    "collapsed": true
   },
   "outputs": [],
   "source": []
  },
  {
   "cell_type": "code",
   "execution_count": null,
   "metadata": {
    "collapsed": true
   },
   "outputs": [],
   "source": []
  }
 ],
 "metadata": {
  "kernelspec": {
   "display_name": "Python 2",
   "language": "python",
   "name": "python2"
  },
  "language_info": {
   "codemirror_mode": {
    "name": "ipython",
    "version": 2
   },
   "file_extension": ".py",
   "mimetype": "text/x-python",
   "name": "python",
   "nbconvert_exporter": "python",
   "pygments_lexer": "ipython2",
   "version": "2.7.9"
  }
 },
 "nbformat": 4,
 "nbformat_minor": 0
}
