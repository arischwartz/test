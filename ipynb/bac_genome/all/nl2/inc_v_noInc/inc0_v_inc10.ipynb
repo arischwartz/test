{
 "cells": [
  {
   "cell_type": "markdown",
   "metadata": {},
   "source": [
    "# Description\n",
    "\n",
    "* Comparing the relative abundances of taxa with and without incorporation.\n",
    "  * log-ratios\n",
    "  * Deseq2\n",
    "* Total number amplicon fragments:\n",
    "  * 2e9\n",
    "* Subsampling size:\n",
    "  * Variable to see how sampling depth affects log ratios"
   ]
  },
  {
   "cell_type": "markdown",
   "metadata": {},
   "source": [
    "# Init"
   ]
  },
  {
   "cell_type": "code",
   "execution_count": 4,
   "metadata": {
    "collapsed": true
   },
   "outputs": [],
   "source": [
    "workDir = '/home/nick/notebook/SIPSim/dev/bac_genome_all/nl2/inc0_v_inc10/'\n",
    "copyDir = '/home/nick/notebook/SIPSim/dev/bac_genome_all/nl1/fragLen/'\n",
    "baseDir = '/home/nick/notebook/SIPSim/dev/bac_genome_all/'\n",
    "SIPSimExe = '/home/nick/notebook/SIPSim/SIPSim'"
   ]
  },
  {
   "cell_type": "code",
   "execution_count": 5,
   "metadata": {
    "collapsed": false
   },
   "outputs": [
    {
     "name": "stdout",
     "output_type": "stream",
     "text": [
      "The rpy2.ipython extension is already loaded. To reload it, use:\n",
      "  %reload_ext rpy2.ipython\n"
     ]
    }
   ],
   "source": [
    "%load_ext rpy2.ipython"
   ]
  },
  {
   "cell_type": "code",
   "execution_count": 6,
   "metadata": {
    "collapsed": false
   },
   "outputs": [],
   "source": [
    "%%R\n",
    "library(ggplot2)\n",
    "library(dplyr)\n",
    "library(tidyr)\n",
    "library(gridExtra)\n",
    "library(data.table)"
   ]
  },
  {
   "cell_type": "code",
   "execution_count": 7,
   "metadata": {
    "collapsed": false
   },
   "outputs": [],
   "source": [
    "if not os.path.isdir(workDir):\n",
    "    os.mkdir(workDir)"
   ]
  },
  {
   "cell_type": "markdown",
   "metadata": {},
   "source": [
    "# Simulating gradient communities"
   ]
  },
  {
   "cell_type": "code",
   "execution_count": 26,
   "metadata": {
    "collapsed": false
   },
   "outputs": [
    {
     "name": "stdout",
     "output_type": "stream",
     "text": [
      "2\tHaliangium_ochraceum_DSM_14365\t0.000070230\t1201\r\n",
      "2\tRubrobacter_xylanophilus_DSM_9941\t0.000068238\t1202\r\n",
      "2\tActinobacillus_succinogenes_130Z\t0.000064316\t1203\r\n",
      "2\tMyxococcus_fulvus_HW-1\t0.000063284\t1204\r\n",
      "2\tCitrobacter_freundii_CFNIH1\t0.000058933\t1205\r\n",
      "2\tEdwardsiella_ictaluri_93-146\t0.000051290\t1206\r\n",
      "2\tDesulfurivibrio_alkaliphilus_AHT2\t0.000044537\t1207\r\n",
      "2\tBorrelia_recurrentis_A1\t0.000043397\t1208\r\n",
      "2\tKlebsiella_oxytoca_E718\t0.000036702\t1209\r\n",
      "2\tRoseiflexus_castenholzii_DSM_13941\t0.000026521\t1210\r\n"
     ]
    }
   ],
   "source": [
    "!cd $workDir; \\\n",
    "    $SIPSimExe gradientComms \\\n",
    "    --n_comm 2 \\\n",
    "    --abund_dist lognormal \\\n",
    "    --abund_dist_p mean:10,sigma:2 \\\n",
    "    $baseDir/genomes/taxon_index.txt > comm-n2-logn.txt\n",
    "    \n",
    "!cd $workDir; tail comm-n2-logn.txt"
   ]
  },
  {
   "cell_type": "code",
   "execution_count": 27,
   "metadata": {
    "collapsed": false
   },
   "outputs": [
    {
     "data": {
      "text/plain": [
       "[1] 200\n",
       "     Min.   1st Qu.    Median      Mean   3rd Qu.      Max. \n",
       " 0.000009  0.002938  0.011170  0.082640  0.042120 10.120000 \n",
       "[1] 1161705\n"
      ]
     },
     "metadata": {},
     "output_type": "display_data"
    },
    {
     "data": {
      "image/png": "[encoded data removed]"
     },
     "metadata": {},
     "output_type": "display_data"
    }
   ],
   "source": [
    "%%R -i workDir -w 800 -h 600 \n",
    "# plotting the abundance distribution\n",
    "setwd(workDir)\n",
    "\n",
    "tbl = read.delim('comm-n2-logn.txt', sep='\\t')\n",
    "\n",
    "print(sum(tbl$rel_abund_perc))\n",
    "print(summary(tbl$rel_abund_perc))\n",
    "print(max(tbl$rel_abund_perc) / min(tbl$rel_abund_perc))\n",
    "\n",
    "\n",
    "# plotting\n",
    "p1 = ggplot(tbl, aes(rank, rel_abund_perc)) +\n",
    "    geom_bar(stat='identity') +\n",
    "    facet_grid(library ~ .) +\n",
    "    theme( text = element_text(size=16))\n",
    "\n",
    "p2 = p1 + scale_y_log10()\n",
    "\n",
    "grid.arrange(p1, p2, ncol=1)"
   ]
  },
  {
   "cell_type": "markdown",
   "metadata": {},
   "source": [
    "# Simulating isotope incorporation"
   ]
  },
  {
   "cell_type": "code",
   "execution_count": 28,
   "metadata": {
    "collapsed": true
   },
   "outputs": [],
   "source": [
    "# making config file\n",
    "config = \"\"\"\n",
    "[library 1]\n",
    "  # baseline: no incorp\n",
    "  \n",
    "  [[intraPopDist 1]]\n",
    "  distribution = uniform\n",
    "  weight = 1\n",
    "\n",
    "    [[[start]]]\n",
    "\n",
    "      [[[[interPopDist 1]]]]\n",
    "        distribution = uniform\n",
    "        start = 0\n",
    "        end = 0\n",
    "\n",
    "    [[[end]]]\n",
    "\n",
    "      [[[[interPopDist 1]]]]\n",
    "        distribution = uniform\n",
    "        start = 0\n",
    "        end = 0\n",
    "        \n",
    "[library 2]\n",
    "  # baseline: no incorp\n",
    "  \n",
    "  [[intraPopDist 1]]\n",
    "  distribution = uniform\n",
    "  weight = 0.1\n",
    "\n",
    "    [[[start]]]\n",
    "\n",
    "      [[[[interPopDist 1]]]]\n",
    "        distribution = uniform\n",
    "        start = 100\n",
    "        end = 100\n",
    "\n",
    "    [[[end]]]\n",
    "\n",
    "      [[[[interPopDist 1]]]]\n",
    "        distribution = uniform\n",
    "        start = 100\n",
    "        end = 100\n",
    "        \n",
    "  [[intraPopDist 2]]\n",
    "  distribution = uniform\n",
    "  weight = 0.9 \n",
    "  \n",
    "      [[[start]]]\n",
    "\n",
    "      [[[[interPopDist 1]]]]\n",
    "        distribution = uniform\n",
    "        start = 0\n",
    "        end = 0\n",
    "\n",
    "    [[[end]]]\n",
    "\n",
    "      [[[[interPopDist 1]]]]\n",
    "        distribution = uniform\n",
    "        start = 0\n",
    "        end = 0\n",
    "\"\"\"\n",
    "\n",
    "outfile = os.path.join(workDir, 'incorp.config')\n",
    "\n",
    "outf = open(outfile, 'wb')\n",
    "outf.write(config)\n",
    "outf.close()"
   ]
  },
  {
   "cell_type": "code",
   "execution_count": 31,
   "metadata": {
    "collapsed": false
   },
   "outputs": [
    {
     "name": "stdout",
     "output_type": "stream",
     "text": [
      "library\ttaxon_name\tdistribution_index\tdistribution\tweight\tparam\tparam_value\r\n",
      "1\tChlorobium_chlorochromatii_CaD3\t1\tuniform\t1.0\tstart\t5.71728791871e-06\r\n",
      "1\tChlorobium_chlorochromatii_CaD3\t1\tuniform\t1.0\tend\t3.71445041501e-06\r\n",
      "1\tGluconobacter_oxydans_DSM_3504\t1\tuniform\t1.0\tstart\t2.32431606857e-06\r\n",
      "1\tGluconobacter_oxydans_DSM_3504\t1\tuniform\t1.0\tend\t3.86516200806e-06\r\n",
      "1\tStackebrandtia_nassauensis_DSM_44728\t1\tuniform\t1.0\tstart\t6.22989329079e-06\r\n",
      "1\tStackebrandtia_nassauensis_DSM_44728\t1\tuniform\t1.0\tend\t6.20494659493e-06\r\n",
      "1\tRickettsia_massiliae_MTU5\t1\tuniform\t1.0\tstart\t6.23152869821e-07\r\n",
      "1\tRickettsia_massiliae_MTU5\t1\tuniform\t1.0\tend\t8.28033404783e-06\r\n",
      "1\tKineococcus_radiotolerans_SRS30216_ATCC_BAA-149\t1\tuniform\t1.0\tstart\t4.82245729213e-08\r\n",
      "2\tTsukamurella_paurometabola_DSM_20162\t2\tuniform\t0.9\tstart\t7.98209666407e-06\r\n",
      "2\tTsukamurella_paurometabola_DSM_20162\t2\tuniform\t0.9\tend\t8.24953896395e-06\r\n",
      "2\tAlkaliphilus_metalliredigens_QYMF\t1\tuniform\t0.1\tstart\t99.9999986845\r\n",
      "2\tAlkaliphilus_metalliredigens_QYMF\t1\tuniform\t0.1\tend\t99.9999942122\r\n",
      "2\tAlkaliphilus_metalliredigens_QYMF\t2\tuniform\t0.9\tstart\t4.92644861415e-06\r\n",
      "2\tAlkaliphilus_metalliredigens_QYMF\t2\tuniform\t0.9\tend\t2.08933107868e-06\r\n",
      "2\tBacillus_cellulosilyticus_DSM_2522\t1\tuniform\t0.1\tstart\t99.9999954085\r\n",
      "2\tBacillus_cellulosilyticus_DSM_2522\t1\tuniform\t0.1\tend\t99.9999979346\r\n",
      "2\tBacillus_cellulosilyticus_DSM_2522\t2\tuniform\t0.9\tstart\t2.6689409354e-06\r\n",
      "2\tBacillus_cellulosilyticus_DSM_2522\t2\tuniform\t0.9\tend\t1.80944583649e-06\r\n"
     ]
    }
   ],
   "source": [
    "!cd $workDir; \\\n",
    "     $SIPSimExe isoIncorp \\\n",
    "    comm-n2-logn.txt incorp.config \\\n",
    "    > incorp-n2-logn.txt\n",
    "    \n",
    "!cd $workDir; head incorp-n2-logn.txt; tail incorp-n2-logn.txt"
   ]
  },
  {
   "cell_type": "markdown",
   "metadata": {},
   "source": [
    "# Simulating gradient fractions"
   ]
  },
  {
   "cell_type": "code",
   "execution_count": 32,
   "metadata": {
    "collapsed": false
   },
   "outputs": [
    {
     "name": "stdout",
     "output_type": "stream",
     "text": [
      "library\tfraction\tBD_min\tBD_max\tfraction_size\r\n",
      "1\t1\t1.66\t1.661\t0.001\r\n",
      "1\t2\t1.661\t1.666\t0.005\r\n",
      "1\t3\t1.666\t1.671\t0.005\r\n",
      "1\t4\t1.671\t1.673\t0.002\r\n",
      "1\t5\t1.673\t1.677\t0.004\r\n",
      "1\t6\t1.677\t1.678\t0.001\r\n",
      "1\t7\t1.678\t1.683\t0.005\r\n",
      "1\t8\t1.683\t1.687\t0.004\r\n",
      "1\t9\t1.687\t1.69\t0.003\r\n",
      "2\t23\t1.753\t1.759\t0.006\r\n",
      "2\t24\t1.759\t1.763\t0.004\r\n",
      "2\t25\t1.763\t1.768\t0.005\r\n",
      "2\t26\t1.768\t1.773\t0.005\r\n",
      "2\t27\t1.773\t1.775\t0.002\r\n",
      "2\t28\t1.775\t1.78\t0.005\r\n",
      "2\t29\t1.78\t1.783\t0.003\r\n",
      "2\t30\t1.783\t1.787\t0.004\r\n",
      "2\t31\t1.787\t1.791\t0.004\r\n",
      "2\t32\t1.791\t1.795\t0.004\r\n"
     ]
    }
   ],
   "source": [
    "!cd $workDir; \\\n",
    "    $SIPSimExe fractions \\\n",
    "    comm-n2-logn.txt \\\n",
    "    > fracs-n2-logn.txt\n",
    "    \n",
    "!cd $workDir; head fracs-n2-logn.txt; tail fracs-n2-logn.txt"
   ]
  },
  {
   "cell_type": "code",
   "execution_count": 38,
   "metadata": {
    "collapsed": false
   },
   "outputs": [
    {
     "data": {
      "image/png": "[encoded data removed]"
     },
     "metadata": {},
     "output_type": "display_data"
    }
   ],
   "source": [
    "%%R -i workDir -h 350 -w 300 \n",
    "# plotting the abundance distribution\n",
    "setwd(workDir)\n",
    "\n",
    "tbl = read.delim('fracs-n2-logn.txt', sep='\\t')\n",
    "tbl$library = as.character(tbl$library)\n",
    "\n",
    "\n",
    "ggplot(tbl, aes(library, fraction_size)) +\n",
    "    geom_boxplot() +\n",
    "    labs(y='fraction BD range') +\n",
    "    theme( \n",
    "        text = element_text(size=18),\n",
    "        axis.title.y = element_text(vjust=1)\n",
    "    )"
   ]
  },
  {
   "cell_type": "markdown",
   "metadata": {},
   "source": [
    "# Simulating amplicon fragments & calculating GC"
   ]
  },
  {
   "cell_type": "markdown",
   "metadata": {},
   "source": [
    "## Skewed-normal fragment length distribution \n",
    "\n",
    "* default params \n",
    "  * I'm explicitly setting the defaults in case they change later\n",
    "  * no real size restrictions on frag length"
   ]
  },
  {
   "cell_type": "code",
   "execution_count": 39,
   "metadata": {
    "collapsed": true
   },
   "outputs": [],
   "source": [
    "!cd $workDir;\\\n",
    "    $SIPSimExe fragGC \\\n",
    "    $baseDir/genomes/genome_index.txt \\\n",
    "    --fp $baseDir/genomes/ \\\n",
    "    --fr $baseDir/515Fm-927Rm.fna \\\n",
    "    --fld skewed-normal,9000,2500,-5 \\\n",
    "    --flr 500,None \\\n",
    "    --nf 10000 \\\n",
    "    --np 24 \\\n",
    "    2> ampFragGC_skewN90-25-n5-nS.log \\\n",
    "    > ampFragGC_skewN90-25-n5-nS.pkl"
   ]
  },
  {
   "cell_type": "markdown",
   "metadata": {},
   "source": [
    "## Creating OTU table"
   ]
  },
  {
   "cell_type": "code",
   "execution_count": 63,
   "metadata": {
    "collapsed": false
   },
   "outputs": [
    {
     "name": "stdout",
     "output_type": "stream",
     "text": [
      "^C\r\n"
     ]
    }
   ],
   "source": [
    "!cd $workDir; \\\n",
    "    $SIPSimExe OTU_sim \\\n",
    "    ampFragGC_skewN90-25-n5-nS.pkl \\\n",
    "    comm-n2-logn.txt \\\n",
    "    incorp-n2-logn.txt \\\n",
    "    fracs-n2-logn.txt \\\n",
    "    --abs_abund 2e9 \\\n",
    "    2> OTU-n1-logn_skewN90-25-n5-nS_A2e9.log \\\n",
    "    > OTU-n1-logn_skewN90-25-n5-nS_A2e9.txt"
   ]
  },
  {
   "cell_type": "code",
   "execution_count": 64,
   "metadata": {
    "collapsed": false
   },
   "outputs": [
    {
     "name": "stdout",
     "output_type": "stream",
     "text": [
      "Error in read.table(file = file, header = header, sep = sep, quote = quote,  : \n",
      "  no lines available in input\n"
     ]
    }
   ],
   "source": [
    "%%R -i workDir\n",
    "\n",
    "# loading file\n",
    "inFiles = c('OTU-n1-logn_skewN90-25-n5-nS_A2e9.txt')\n",
    "\n",
    "inFiles = sapply(inFiles, function(x){\n",
    "            paste(c(workDir, x), collapse='/')\n",
    "    })\n",
    "\n",
    "tbls = list()\n",
    "for (fileName in names(inFiles)){\n",
    "    tbls[[fileName]] = read.csv(fileName, sep='\\t')\n",
    "    }\n",
    "tbl = do.call(rbind, tbls)\n",
    "tbl$abs_abund = as.numeric(gsub('.+-nS_A|\\\\.txt\\\\.[0-9]+', '', rownames(tbl)))\n",
    "\n",
    "tbl = tbl %>% \n",
    "    separate(fractions, into = c('BD_min','BD_max'), sep='-', convert=TRUE) %>%\n",
    "    filter(BD_min != 1.795)"
   ]
  },
  {
   "cell_type": "code",
   "execution_count": 65,
   "metadata": {
    "collapsed": true
   },
   "outputs": [],
   "source": [
    "%%R\n",
    "## BD for G+C of 0 or 100\n",
    "BD.GCp0 = 0 * 0.098 + 1.66\n",
    "BD.GCp100 = 1 * 0.098 + 1.66"
   ]
  },
  {
   "cell_type": "code",
   "execution_count": 66,
   "metadata": {
    "collapsed": false
   },
   "outputs": [
    {
     "name": "stdout",
     "output_type": "stream",
     "text": [
      "Error in eval(expr, envir, enclos) : unknown column 'abs_abund'\n"
     ]
    }
   ],
   "source": [
    "%%R -w 800 -h 500\n",
    "# plotting absolute abundances\n",
    "\n",
    "tbl.s = tbl %>%\n",
    "    group_by(abs_abund, BD_min) %>%\n",
    "    summarize(total_count = sum(count))\n",
    "\n",
    "\n",
    "## plot\n",
    "p = ggplot(tbl.s, aes(BD_min, total_count)) +\n",
    "    geom_area(stat='identity', alpha=0.5, position='dodge') +\n",
    "    geom_vline(xintercept=c(BD.GCp0, BD.GCp100), linetype='dashed', alpha=0.5) +\n",
    "    labs(x='Buoyant density') +\n",
    "    facet_grid(abs_abund ~ .) +\n",
    "    theme( \n",
    "        text = element_text(size=16) \n",
    "    )\n",
    "p"
   ]
  },
  {
   "cell_type": "code",
   "execution_count": 67,
   "metadata": {
    "collapsed": false
   },
   "outputs": [
    {
     "ename": "RRuntimeError",
     "evalue": "Error in layout_base(data, rows, drop = drop) : \n  At least one layer must contain all variables used for facetting\n",
     "output_type": "error",
     "traceback": [
      "\u001b[1;31m---------------------------------------------------------------------------\u001b[0m",
      "\u001b[1;31mRRuntimeError\u001b[0m                             Traceback (most recent call last)",
      "\u001b[1;32m<ipython-input-67-fcb996f4ea3f>\u001b[0m in \u001b[0;36m<module>\u001b[1;34m()\u001b[0m\n\u001b[1;32m----> 1\u001b[1;33m \u001b[0mget_ipython\u001b[0m\u001b[1;33m(\u001b[0m\u001b[1;33m)\u001b[0m\u001b[1;33m.\u001b[0m\u001b[0mrun_cell_magic\u001b[0m\u001b[1;33m(\u001b[0m\u001b[1;34mu'R'\u001b[0m\u001b[1;33m,\u001b[0m \u001b[1;34mu'-w 800 -h 500'\u001b[0m\u001b[1;33m,\u001b[0m \u001b[1;34mu'\\np + scale_y_log10()'\u001b[0m\u001b[1;33m)\u001b[0m\u001b[1;33m\u001b[0m\u001b[0m\n\u001b[0m",
      "\u001b[1;32m/opt/anaconda/lib/python2.7/site-packages/IPython/core/interactiveshell.pyc\u001b[0m in \u001b[0;36mrun_cell_magic\u001b[1;34m(self, magic_name, line, cell)\u001b[0m\n\u001b[0;32m   2259\u001b[0m             \u001b[0mmagic_arg_s\u001b[0m \u001b[1;33m=\u001b[0m \u001b[0mself\u001b[0m\u001b[1;33m.\u001b[0m\u001b[0mvar_expand\u001b[0m\u001b[1;33m(\u001b[0m\u001b[0mline\u001b[0m\u001b[1;33m,\u001b[0m \u001b[0mstack_depth\u001b[0m\u001b[1;33m)\u001b[0m\u001b[1;33m\u001b[0m\u001b[0m\n\u001b[0;32m   2260\u001b[0m             \u001b[1;32mwith\u001b[0m \u001b[0mself\u001b[0m\u001b[1;33m.\u001b[0m\u001b[0mbuiltin_trap\u001b[0m\u001b[1;33m:\u001b[0m\u001b[1;33m\u001b[0m\u001b[0m\n\u001b[1;32m-> 2261\u001b[1;33m                 \u001b[0mresult\u001b[0m \u001b[1;33m=\u001b[0m \u001b[0mfn\u001b[0m\u001b[1;33m(\u001b[0m\u001b[0mmagic_arg_s\u001b[0m\u001b[1;33m,\u001b[0m \u001b[0mcell\u001b[0m\u001b[1;33m)\u001b[0m\u001b[1;33m\u001b[0m\u001b[0m\n\u001b[0m\u001b[0;32m   2262\u001b[0m             \u001b[1;32mreturn\u001b[0m \u001b[0mresult\u001b[0m\u001b[1;33m\u001b[0m\u001b[0m\n\u001b[0;32m   2263\u001b[0m \u001b[1;33m\u001b[0m\u001b[0m\n",
      "\u001b[1;32m/opt/anaconda/lib/python2.7/site-packages/rpy2/ipython/rmagic.pyc\u001b[0m in \u001b[0;36mR\u001b[1;34m(self, line, cell, local_ns)\u001b[0m\n",
      "\u001b[1;32m/opt/anaconda/lib/python2.7/site-packages/IPython/core/magic.pyc\u001b[0m in \u001b[0;36m<lambda>\u001b[1;34m(f, *a, **k)\u001b[0m\n\u001b[0;32m    191\u001b[0m     \u001b[1;31m# but it's overkill for just that one bit of state.\u001b[0m\u001b[1;33m\u001b[0m\u001b[1;33m\u001b[0m\u001b[0m\n\u001b[0;32m    192\u001b[0m     \u001b[1;32mdef\u001b[0m \u001b[0mmagic_deco\u001b[0m\u001b[1;33m(\u001b[0m\u001b[0marg\u001b[0m\u001b[1;33m)\u001b[0m\u001b[1;33m:\u001b[0m\u001b[1;33m\u001b[0m\u001b[0m\n\u001b[1;32m--> 193\u001b[1;33m         \u001b[0mcall\u001b[0m \u001b[1;33m=\u001b[0m \u001b[1;32mlambda\u001b[0m \u001b[0mf\u001b[0m\u001b[1;33m,\u001b[0m \u001b[1;33m*\u001b[0m\u001b[0ma\u001b[0m\u001b[1;33m,\u001b[0m \u001b[1;33m**\u001b[0m\u001b[0mk\u001b[0m\u001b[1;33m:\u001b[0m \u001b[0mf\u001b[0m\u001b[1;33m(\u001b[0m\u001b[1;33m*\u001b[0m\u001b[0ma\u001b[0m\u001b[1;33m,\u001b[0m \u001b[1;33m**\u001b[0m\u001b[0mk\u001b[0m\u001b[1;33m)\u001b[0m\u001b[1;33m\u001b[0m\u001b[0m\n\u001b[0m\u001b[0;32m    194\u001b[0m \u001b[1;33m\u001b[0m\u001b[0m\n\u001b[0;32m    195\u001b[0m         \u001b[1;32mif\u001b[0m \u001b[0mcallable\u001b[0m\u001b[1;33m(\u001b[0m\u001b[0marg\u001b[0m\u001b[1;33m)\u001b[0m\u001b[1;33m:\u001b[0m\u001b[1;33m\u001b[0m\u001b[0m\n",
      "\u001b[1;32m/opt/anaconda/lib/python2.7/site-packages/rpy2/ipython/rmagic.pyc\u001b[0m in \u001b[0;36mR\u001b[1;34m(self, line, cell, local_ns)\u001b[0m\n\u001b[0;32m    640\u001b[0m                     \u001b[0mold_writeconsole\u001b[0m \u001b[1;33m=\u001b[0m \u001b[0mri\u001b[0m\u001b[1;33m.\u001b[0m\u001b[0mget_writeconsole\u001b[0m\u001b[1;33m(\u001b[0m\u001b[1;33m)\u001b[0m\u001b[1;33m\u001b[0m\u001b[0m\n\u001b[0;32m    641\u001b[0m                     \u001b[0mri\u001b[0m\u001b[1;33m.\u001b[0m\u001b[0mset_writeconsole\u001b[0m\u001b[1;33m(\u001b[0m\u001b[0mself\u001b[0m\u001b[1;33m.\u001b[0m\u001b[0mwrite_console\u001b[0m\u001b[1;33m)\u001b[0m\u001b[1;33m\u001b[0m\u001b[0m\n\u001b[1;32m--> 642\u001b[1;33m                     \u001b[0mro\u001b[0m\u001b[1;33m.\u001b[0m\u001b[0mr\u001b[0m\u001b[1;33m.\u001b[0m\u001b[0mshow\u001b[0m\u001b[1;33m(\u001b[0m\u001b[0mresult\u001b[0m\u001b[1;33m)\u001b[0m\u001b[1;33m\u001b[0m\u001b[0m\n\u001b[0m\u001b[0;32m    643\u001b[0m                     \u001b[0mtext_output\u001b[0m \u001b[1;33m+=\u001b[0m \u001b[0mself\u001b[0m\u001b[1;33m.\u001b[0m\u001b[0mflush\u001b[0m\u001b[1;33m(\u001b[0m\u001b[1;33m)\u001b[0m\u001b[1;33m\u001b[0m\u001b[0m\n\u001b[0;32m    644\u001b[0m                     \u001b[0mri\u001b[0m\u001b[1;33m.\u001b[0m\u001b[0mset_writeconsole\u001b[0m\u001b[1;33m(\u001b[0m\u001b[0mold_writeconsole\u001b[0m\u001b[1;33m)\u001b[0m\u001b[1;33m\u001b[0m\u001b[0m\n",
      "\u001b[1;32m/opt/anaconda/lib/python2.7/site-packages/rpy2/robjects/functions.pyc\u001b[0m in \u001b[0;36m__call__\u001b[1;34m(self, *args, **kwargs)\u001b[0m\n\u001b[0;32m    168\u001b[0m                 \u001b[0mv\u001b[0m \u001b[1;33m=\u001b[0m \u001b[0mkwargs\u001b[0m\u001b[1;33m.\u001b[0m\u001b[0mpop\u001b[0m\u001b[1;33m(\u001b[0m\u001b[0mk\u001b[0m\u001b[1;33m)\u001b[0m\u001b[1;33m\u001b[0m\u001b[0m\n\u001b[0;32m    169\u001b[0m                 \u001b[0mkwargs\u001b[0m\u001b[1;33m[\u001b[0m\u001b[0mr_k\u001b[0m\u001b[1;33m]\u001b[0m \u001b[1;33m=\u001b[0m \u001b[0mv\u001b[0m\u001b[1;33m\u001b[0m\u001b[0m\n\u001b[1;32m--> 170\u001b[1;33m         \u001b[1;32mreturn\u001b[0m \u001b[0msuper\u001b[0m\u001b[1;33m(\u001b[0m\u001b[0mSignatureTranslatedFunction\u001b[0m\u001b[1;33m,\u001b[0m \u001b[0mself\u001b[0m\u001b[1;33m)\u001b[0m\u001b[1;33m.\u001b[0m\u001b[0m__call__\u001b[0m\u001b[1;33m(\u001b[0m\u001b[1;33m*\u001b[0m\u001b[0margs\u001b[0m\u001b[1;33m,\u001b[0m \u001b[1;33m**\u001b[0m\u001b[0mkwargs\u001b[0m\u001b[1;33m)\u001b[0m\u001b[1;33m\u001b[0m\u001b[0m\n\u001b[0m\u001b[0;32m    171\u001b[0m \u001b[1;33m\u001b[0m\u001b[0m\n\u001b[0;32m    172\u001b[0m \u001b[0mpattern_link\u001b[0m \u001b[1;33m=\u001b[0m \u001b[0mre\u001b[0m\u001b[1;33m.\u001b[0m\u001b[0mcompile\u001b[0m\u001b[1;33m(\u001b[0m\u001b[1;34mr'\\\\link\\{(.+?)\\}'\u001b[0m\u001b[1;33m)\u001b[0m\u001b[1;33m\u001b[0m\u001b[0m\n",
      "\u001b[1;32m/opt/anaconda/lib/python2.7/site-packages/rpy2/robjects/functions.pyc\u001b[0m in \u001b[0;36m__call__\u001b[1;34m(self, *args, **kwargs)\u001b[0m\n\u001b[0;32m     98\u001b[0m         \u001b[1;32mfor\u001b[0m \u001b[0mk\u001b[0m\u001b[1;33m,\u001b[0m \u001b[0mv\u001b[0m \u001b[1;32min\u001b[0m \u001b[0mkwargs\u001b[0m\u001b[1;33m.\u001b[0m\u001b[0mitems\u001b[0m\u001b[1;33m(\u001b[0m\u001b[1;33m)\u001b[0m\u001b[1;33m:\u001b[0m\u001b[1;33m\u001b[0m\u001b[0m\n\u001b[0;32m     99\u001b[0m             \u001b[0mnew_kwargs\u001b[0m\u001b[1;33m[\u001b[0m\u001b[0mk\u001b[0m\u001b[1;33m]\u001b[0m \u001b[1;33m=\u001b[0m \u001b[0mconversion\u001b[0m\u001b[1;33m.\u001b[0m\u001b[0mpy2ri\u001b[0m\u001b[1;33m(\u001b[0m\u001b[0mv\u001b[0m\u001b[1;33m)\u001b[0m\u001b[1;33m\u001b[0m\u001b[0m\n\u001b[1;32m--> 100\u001b[1;33m         \u001b[0mres\u001b[0m \u001b[1;33m=\u001b[0m \u001b[0msuper\u001b[0m\u001b[1;33m(\u001b[0m\u001b[0mFunction\u001b[0m\u001b[1;33m,\u001b[0m \u001b[0mself\u001b[0m\u001b[1;33m)\u001b[0m\u001b[1;33m.\u001b[0m\u001b[0m__call__\u001b[0m\u001b[1;33m(\u001b[0m\u001b[1;33m*\u001b[0m\u001b[0mnew_args\u001b[0m\u001b[1;33m,\u001b[0m \u001b[1;33m**\u001b[0m\u001b[0mnew_kwargs\u001b[0m\u001b[1;33m)\u001b[0m\u001b[1;33m\u001b[0m\u001b[0m\n\u001b[0m\u001b[0;32m    101\u001b[0m         \u001b[0mres\u001b[0m \u001b[1;33m=\u001b[0m \u001b[0mconversion\u001b[0m\u001b[1;33m.\u001b[0m\u001b[0mri2ro\u001b[0m\u001b[1;33m(\u001b[0m\u001b[0mres\u001b[0m\u001b[1;33m)\u001b[0m\u001b[1;33m\u001b[0m\u001b[0m\n\u001b[0;32m    102\u001b[0m         \u001b[1;32mreturn\u001b[0m \u001b[0mres\u001b[0m\u001b[1;33m\u001b[0m\u001b[0m\n",
      "\u001b[1;31mRRuntimeError\u001b[0m: Error in layout_base(data, rows, drop = drop) : \n  At least one layer must contain all variables used for facetting\n"
     ]
    }
   ],
   "source": [
    "%%R -w 800 -h 500\n",
    "\n",
    "p + scale_y_log10()"
   ]
  },
  {
   "cell_type": "code",
   "execution_count": null,
   "metadata": {
    "collapsed": false
   },
   "outputs": [],
   "source": [
    "%%R\n",
    "# ordering taxa by total abundances\n",
    "tax_order = tbl %>%\n",
    "    group_by(taxon) %>%\n",
    "    summarize(taxon_total_abund = sum(count)) %>%\n",
    "    as.data.frame\n",
    "\n",
    "tax_order = unique(tax_order[order(tax_order$taxon_total_abund, decreasing=T),'taxon']) \n",
    "\n",
    "tbl$taxon = factor(tbl$taxon, levels=sort(unique(tbl$taxon), decreasing=T))\n",
    "tbl$taxon_group = factor(tbl$taxon, levels=tax_order)"
   ]
  },
  {
   "cell_type": "code",
   "execution_count": null,
   "metadata": {
    "collapsed": false
   },
   "outputs": [],
   "source": [
    "%%R -w 800 -h 600\n",
    "# plotting relative abundances\n",
    "\n",
    "## plot\n",
    "p = ggplot(tbl, aes(BD_min, count, fill=taxon, order=taxon_group)) +\n",
    "    geom_area(stat='identity', alpha=0.5, position='fill') +\n",
    "    geom_vline(xintercept=c(BD.GCp0, BD.GCp100), linetype='dashed', alpha=0.5) +\n",
    "    labs(x='Buoyant density') +\n",
    "    facet_grid(abs_abund ~ .) +\n",
    "    theme( \n",
    "        text = element_text(size=16),\n",
    "        legend.position = 'none'\n",
    "    )\n",
    "p"
   ]
  },
  {
   "cell_type": "code",
   "execution_count": null,
   "metadata": {
    "collapsed": true
   },
   "outputs": [],
   "source": [
    "%%R -w 800 -h 500\n",
    "# plotting number of taxa at each BD\n",
    "\n",
    "tbl.nt = tbl %>%\n",
    "    filter(count > 0) %>%\n",
    "    group_by(abs_abund, BD_min) %>%\n",
    "    summarize(n_taxa = n())\n",
    "\n",
    "## plot\n",
    "p = ggplot(tbl.nt, aes(BD_min, n_taxa)) +\n",
    "    geom_area(stat='identity', alpha=0.5, position='dodge') +\n",
    "    geom_vline(xintercept=c(BD.GCp0, BD.GCp100), linetype='dashed', alpha=0.5) +\n",
    "    labs(x='Buoyant density', y='Number of taxa') +\n",
    "    facet_grid(abs_abund ~ .) +\n",
    "    theme( \n",
    "        text = element_text(size=16),\n",
    "        legend.position = 'none'\n",
    "    )\n",
    "p"
   ]
  },
  {
   "cell_type": "code",
   "execution_count": null,
   "metadata": {
    "collapsed": true
   },
   "outputs": [],
   "source": [
    "%%R -h 400 -w 650\n",
    "\n",
    "tbl.s = tbl %>%\n",
    "    group_by(abs_abund, taxon) %>%\n",
    "    summarize( total_abund = sum(count) ) %>%\n",
    "    mutate(rank = min_rank(desc(total_abund))) %>%\n",
    "    arrange(rank)\n",
    "\n",
    "ggplot(tbl.s, aes(rank, total_abund)) +\n",
    "    geom_bar(stat='identity') +\n",
    "    facet_grid(abs_abund ~ .) +\n",
    "    theme( text = element_text(size=16))"
   ]
  },
  {
   "cell_type": "code",
   "execution_count": null,
   "metadata": {
    "collapsed": true
   },
   "outputs": [],
   "source": [
    "%%R -w 700 -h 650\n",
    "# plotting most abundant taxa\n",
    "\n",
    "tbl.s.a10 = tbl.s %>%\n",
    "    filter(rank <= 10)\n",
    "\n",
    "tbl.a10 = tbl %>%\n",
    "    filter(taxon %in% tbl.s.a10$taxon)\n",
    "\n",
    "## plot\n",
    "p = ggplot(tbl.a10, aes(BD_min, count, fill=taxon, group=taxon)) +\n",
    "    geom_vline(xintercept=c(BD.GCp0, BD.GCp100), linetype='dashed', alpha=0.5) +\n",
    "    labs(x='Buoyant density') +\n",
    "    facet_grid(abs_abund ~ .) +\n",
    "    theme( \n",
    "        text = element_text(size=16),\n",
    "        legend.position = 'none'\n",
    "    )\n",
    "p1 = p + geom_area(stat='identity', alpha=0.5, position='dodge') \n",
    "p2 = p + geom_area(stat='identity', alpha=0.5, position='fill') \n",
    "\n",
    "grid.arrange(p1, p2, ncol=1)"
   ]
  },
  {
   "cell_type": "markdown",
   "metadata": {
    "collapsed": true
   },
   "source": [
    "# Plotting abundances of incorp taxa (vs control)"
   ]
  },
  {
   "cell_type": "markdown",
   "metadata": {},
   "source": [
    "## log-fold change"
   ]
  },
  {
   "cell_type": "code",
   "execution_count": null,
   "metadata": {
    "collapsed": true
   },
   "outputs": [],
   "source": []
  }
 ],
 "metadata": {
  "kernelspec": {
   "display_name": "Python 2",
   "language": "python",
   "name": "python2"
  },
  "language_info": {
   "codemirror_mode": {
    "name": "ipython",
    "version": 2
   },
   "file_extension": ".py",
   "mimetype": "text/x-python",
   "name": "python",
   "nbconvert_exporter": "python",
   "pygments_lexer": "ipython2",
   "version": "2.7.9"
  },
  "notify_time": "30"
 },
 "nbformat": 4,
 "nbformat_minor": 0
}
