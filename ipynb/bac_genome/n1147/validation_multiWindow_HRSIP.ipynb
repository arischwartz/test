{
 "cells": [
  {
   "cell_type": "markdown",
   "metadata": {},
   "source": [
    "# Goal\n",
    "\n",
    "* Use validation dataset to test the power of HR-SIP with multiple 'heavy' BD windows\n",
    "  * global adjustment of all hypotheses for all windows\n",
    "  * using 2-4 windows and assessing the power"
   ]
  },
  {
   "cell_type": "markdown",
   "metadata": {},
   "source": [
    "# Setting variables"
   ]
  },
  {
   "cell_type": "code",
   "execution_count": 5,
   "metadata": {
    "collapsed": true
   },
   "outputs": [],
   "source": [
    "workDir = '/home/nick/notebook/SIPSim/dev/bac_genome1147/validation/multiWindow_HRSIP/'\n",
    "genomeDir = '/var/seq_data/ncbi_db/genome/Jan2016/bac_complete_spec-rep1_rn/'\n",
    "figureDir = '/home/nick/notebook/SIPSim/figures/bac_genome_n1147/'\n",
    "\n",
    "# OTU_abs{abs}_PCR_sub.physeq"
   ]
  },
  {
   "cell_type": "markdown",
   "metadata": {},
   "source": [
    "# Init"
   ]
  },
  {
   "cell_type": "code",
   "execution_count": 7,
   "metadata": {
    "collapsed": false
   },
   "outputs": [
    {
     "name": "stdout",
     "output_type": "stream",
     "text": [
      "The rpy2.ipython extension is already loaded. To reload it, use:\n",
      "  %reload_ext rpy2.ipython\n",
      "The pushnote extension is already loaded. To reload it, use:\n",
      "  %reload_ext pushnote\n"
     ]
    }
   ],
   "source": [
    "import glob\n",
    "import nestly\n",
    "import os\n",
    "%load_ext rpy2.ipython\n",
    "%load_ext pushnote"
   ]
  },
  {
   "cell_type": "code",
   "execution_count": 3,
   "metadata": {
    "collapsed": false
   },
   "outputs": [
    {
     "name": "stderr",
     "output_type": "stream",
     "text": [
      "/opt/anaconda/lib/python2.7/site-packages/rpy2/robjects/functions.py:106: UserWarning: \n",
      "Attaching package: ‘dplyr’\n",
      "\n",
      "\n",
      "  res = super(Function, self).__call__(*new_args, **new_kwargs)\n",
      "/opt/anaconda/lib/python2.7/site-packages/rpy2/robjects/functions.py:106: UserWarning: The following objects are masked from ‘package:stats’:\n",
      "\n",
      "    filter, lag\n",
      "\n",
      "\n",
      "  res = super(Function, self).__call__(*new_args, **new_kwargs)\n",
      "/opt/anaconda/lib/python2.7/site-packages/rpy2/robjects/functions.py:106: UserWarning: The following objects are masked from ‘package:base’:\n",
      "\n",
      "    intersect, setdiff, setequal, union\n",
      "\n",
      "\n",
      "  res = super(Function, self).__call__(*new_args, **new_kwargs)\n"
     ]
    }
   ],
   "source": [
    "%%R\n",
    "library(ggplot2)\n",
    "library(dplyr)\n",
    "library(tidyr)\n",
    "library(gridExtra)"
   ]
  },
  {
   "cell_type": "code",
   "execution_count": 6,
   "metadata": {
    "collapsed": false
   },
   "outputs": [
    {
     "name": "stdout",
     "output_type": "stream",
     "text": [
      "/home/nick/notebook/SIPSim/dev/bac_genome1147/validation/multiWindow_HRSIP\n"
     ]
    }
   ],
   "source": [
    "if not os.path.isdir(workDir):\n",
    "    os.makedirs(workDir)\n",
    "        \n",
    "%cd $workDir    "
   ]
  },
  {
   "cell_type": "markdown",
   "metadata": {},
   "source": [
    "# HR-SIP with multiple windows"
   ]
  },
  {
   "cell_type": "code",
   "execution_count": 26,
   "metadata": {
    "collapsed": true
   },
   "outputs": [],
   "source": [
    "def HRSIP_multi_window(physeq, BD_shift, BDs, outname, padj=0.1, log2=0.25):\n",
    "    # HR-SIP for each window\n",
    "    !SIPSim HRSIP --prefix $outname -w $BDs $physeq \n",
    "    # making confusion matrix\n",
    "    outname2 = outname + '_DESeq2'\n",
    "    !SIPSimR DESeq2_confuseMtx --padj $padj --log2 $log2 $BD_shift -o $outname $outname2"
   ]
  },
  {
   "cell_type": "markdown",
   "metadata": {},
   "source": [
    "### 1.70-1.74,1.72-1.76"
   ]
  },
  {
   "cell_type": "code",
   "execution_count": 27,
   "metadata": {
    "collapsed": false
   },
   "outputs": [
    {
     "name": "stdout",
     "output_type": "stream",
     "text": [
      "HR-SIP on BD window: 1.70-1.74\n",
      "Warning message:\n",
      "replacing previous import ‘S4Vectors::Position’ by ‘ggplot2::Position’ when loading ‘DESeq2’ \n",
      "pre-filter: number of samples:56\n",
      "pre-filter: number of taxa:1147\n",
      "post-filter: number of samples:18\n",
      "post-filter: number of taxa:781\n",
      "Warning message:\n",
      "replacing previous import ‘S4Vectors::Position’ by ‘ggplot2::Position’ when loading ‘DESeq2’ \n",
      "converting counts to integer mode\n",
      "using pre-existing size factors\n",
      "estimating dispersions\n",
      "gene-wise dispersion estimates\n",
      "mean-dispersion relationship\n",
      "final dispersion estimates\n",
      "fitting model and testing\n",
      "-- replacing outliers and refitting for 63 genes\n",
      "-- DESeq argument 'minReplicatesForReplace' = 7 \n",
      "-- original counts are preserved in counts(dds)\n",
      "estimating dispersions\n",
      "fitting model and testing\n",
      "HR-SIP on BD window: 1.72-1.76\n",
      "Warning message:\n",
      "replacing previous import ‘S4Vectors::Position’ by ‘ggplot2::Position’ when loading ‘DESeq2’ \n",
      "pre-filter: number of samples:56\n",
      "pre-filter: number of taxa:1147\n",
      "post-filter: number of samples:19\n",
      "post-filter: number of taxa:781\n",
      "Warning message:\n",
      "replacing previous import ‘S4Vectors::Position’ by ‘ggplot2::Position’ when loading ‘DESeq2’ \n",
      "converting counts to integer mode\n",
      "using pre-existing size factors\n",
      "estimating dispersions\n",
      "gene-wise dispersion estimates\n",
      "mean-dispersion relationship\n",
      "final dispersion estimates\n",
      "fitting model and testing\n",
      "-- replacing outliers and refitting for 2 genes\n",
      "-- DESeq argument 'minReplicatesForReplace' = 7 \n",
      "-- original counts are preserved in counts(dds)\n",
      "estimating dispersions\n",
      "fitting model and testing\n",
      "Loading required package: DESeq2\n",
      "Loading required package: S4Vectors\n",
      "Loading required package: stats4\n",
      "Loading required package: BiocGenerics\n",
      "Loading required package: parallel\n",
      "\n",
      "Attaching package: ‘BiocGenerics’\n",
      "\n",
      "The following objects are masked from ‘package:parallel’:\n",
      "\n",
      "    clusterApply, clusterApplyLB, clusterCall, clusterEvalQ,\n",
      "    clusterExport, clusterMap, parApply, parCapply, parLapply,\n",
      "    parLapplyLB, parRapply, parSapply, parSapplyLB\n",
      "\n",
      "The following objects are masked from ‘package:dplyr’:\n",
      "\n",
      "    combine, intersect, setdiff, union\n",
      "\n",
      "The following object is masked from ‘package:stats’:\n",
      "\n",
      "    xtabs\n",
      "\n",
      "The following objects are masked from ‘package:base’:\n",
      "\n",
      "    anyDuplicated, append, as.data.frame, as.vector, cbind, colnames,\n",
      "    do.call, duplicated, eval, evalq, Filter, Find, get, intersect,\n",
      "    is.unsorted, lapply, Map, mapply, match, mget, order, paste, pmax,\n",
      "    pmax.int, pmin, pmin.int, Position, rank, rbind, Reduce, rep.int,\n",
      "    rownames, sapply, setdiff, sort, table, tapply, union, unique,\n",
      "    unlist, unsplit\n",
      "\n",
      "\n",
      "Attaching package: ‘S4Vectors’\n",
      "\n",
      "The following object is masked from ‘package:dplyr’:\n",
      "\n",
      "    rename\n",
      "\n",
      "Loading required package: IRanges\n",
      "\n",
      "Attaching package: ‘IRanges’\n",
      "\n",
      "The following object is masked from ‘package:tidyr’:\n",
      "\n",
      "    expand\n",
      "\n",
      "The following objects are masked from ‘package:dplyr’:\n",
      "\n",
      "    collapse, desc, slice\n",
      "\n",
      "Loading required package: GenomicRanges\n",
      "Loading required package: GenomeInfoDb\n",
      "Loading required package: Rcpp\n",
      "Loading required package: RcppArmadillo\n",
      "Warning message:\n",
      "replacing previous import ‘S4Vectors::Position’ by ‘ggplot2::Position’ when loading ‘DESeq2’ \n",
      "File written: OTU_n2_abs1e9_PCR_subNorm_MW1_DESeq2\n",
      "Log2Fold cutoff: 0.25\n",
      "padj cutoff: 0.1\n",
      "File written: OTU_n2_abs1e9_PCR_subNorm_MW1\n",
      "File written: OTU_n2_abs1e9_PCR_subNorm_MW1_data.txt\n",
      "File written: OTU_n2_abs1e9_PCR_subNorm_MW1_table.txt\n",
      "File written: OTU_n2_abs1e9_PCR_subNorm_MW1_overall.txt\n",
      "File written: OTU_n2_abs1e9_PCR_subNorm_MW1_byClass.txt\n"
     ]
    }
   ],
   "source": [
    "BDs = '1.70-1.74,1.72-1.76'\n",
    "physeq = '../OTU_n2_abs1e9_PCR_subNorm.physeq'\n",
    "BD_shift = '../ampFrags_BD-shift.txt'\n",
    "HRSIP_multi_window(physeq, BD_shift, BDs, 'OTU_n2_abs1e9_PCR_subNorm_MW1')"
   ]
  },
  {
   "cell_type": "markdown",
   "metadata": {},
   "source": [
    "### 1.70-1.75,1.72-1.77"
   ]
  },
  {
   "cell_type": "code",
   "execution_count": null,
   "metadata": {
    "collapsed": false
   },
   "outputs": [],
   "source": [
    "BDs = '1.70-1.75,1.72-1.77'\n",
    "physeq = '../OTU_n2_abs1e9_PCR_subNorm.physeq'\n",
    "BD_shift = '../ampFrags_BD-shift.txt'\n",
    "HRSIP_multi_window(physeq, BD_shift, BDs, 'OTU_n2_abs1e9_PCR_subNorm_MW2')"
   ]
  },
  {
   "cell_type": "markdown",
   "metadata": {},
   "source": [
    "### 1.70-1.73,1.72-1.75,1.74-1.77"
   ]
  },
  {
   "cell_type": "code",
   "execution_count": null,
   "metadata": {
    "collapsed": false
   },
   "outputs": [
    {
     "name": "stdout",
     "output_type": "stream",
     "text": [
      "HR-SIP on BD window: 1.70-1.73\n",
      "Warning message:\n",
      "replacing previous import ‘S4Vectors::Position’ by ‘ggplot2::Position’ when loading ‘DESeq2’ \n",
      "pre-filter: number of samples:56\n",
      "pre-filter: number of taxa:1147\n",
      "post-filter: number of samples:14\n",
      "post-filter: number of taxa:781\n",
      "Warning message:\n",
      "replacing previous import ‘S4Vectors::Position’ by ‘ggplot2::Position’ when loading ‘DESeq2’ \n",
      "converting counts to integer mode\n",
      "using pre-existing size factors\n",
      "estimating dispersions\n",
      "gene-wise dispersion estimates\n",
      "mean-dispersion relationship\n",
      "final dispersion estimates\n",
      "fitting model and testing\n",
      "-- replacing outliers and refitting for 13 genes\n",
      "-- DESeq argument 'minReplicatesForReplace' = 7 \n",
      "-- original counts are preserved in counts(dds)\n",
      "estimating dispersions\n",
      "fitting model and testing\n",
      "HR-SIP on BD window: 1.72-1.75\n",
      "Warning message:\n",
      "replacing previous import ‘S4Vectors::Position’ by ‘ggplot2::Position’ when loading ‘DESeq2’ \n",
      "pre-filter: number of samples:56\n",
      "pre-filter: number of taxa:1147\n",
      "post-filter: number of samples:15\n",
      "post-filter: number of taxa:781\n",
      "Warning message:\n",
      "replacing previous import ‘S4Vectors::Position’ by ‘ggplot2::Position’ when loading ‘DESeq2’ \n",
      "converting counts to integer mode\n",
      "using pre-existing size factors\n",
      "estimating dispersions\n",
      "gene-wise dispersion estimates\n",
      "mean-dispersion relationship\n",
      "final dispersion estimates\n",
      "fitting model and testing\n",
      "-- replacing outliers and refitting for 1 genes\n",
      "-- DESeq argument 'minReplicatesForReplace' = 7 \n",
      "-- original counts are preserved in counts(dds)\n",
      "estimating dispersions\n",
      "fitting model and testing\n",
      "HR-SIP on BD window: 1.74-1.77\n",
      "Warning message:\n",
      "replacing previous import ‘S4Vectors::Position’ by ‘ggplot2::Position’ when loading ‘DESeq2’ \n",
      "pre-filter: number of samples:56\n",
      "pre-filter: number of taxa:1147\n",
      "post-filter: number of samples:16\n",
      "post-filter: number of taxa:781\n",
      "Warning message:\n",
      "replacing previous import ‘S4Vectors::Position’ by ‘ggplot2::Position’ when loading ‘DESeq2’ \n",
      "converting counts to integer mode\n",
      "using pre-existing size factors\n",
      "estimating dispersions\n",
      "gene-wise dispersion estimates\n",
      "mean-dispersion relationship\n",
      "final dispersion estimates\n",
      "fitting model and testing\n",
      "-- replacing outliers and refitting for 34 genes\n",
      "-- DESeq argument 'minReplicatesForReplace' = 7 \n",
      "-- original counts are preserved in counts(dds)\n",
      "estimating dispersions\n",
      "fitting model and testing\n",
      "Loading required package: DESeq2\n",
      "Loading required package: S4Vectors\n",
      "Loading required package: stats4\n",
      "Loading required package: BiocGenerics\n",
      "Loading required package: parallel\n",
      "\n",
      "Attaching package: ‘BiocGenerics’\n",
      "\n",
      "The following objects are masked from ‘package:parallel’:\n",
      "\n",
      "    clusterApply, clusterApplyLB, clusterCall, clusterEvalQ,\n",
      "    clusterExport, clusterMap, parApply, parCapply, parLapply,\n",
      "    parLapplyLB, parRapply, parSapply, parSapplyLB\n",
      "\n",
      "The following objects are masked from ‘package:dplyr’:\n",
      "\n",
      "    combine, intersect, setdiff, union\n",
      "\n",
      "The following object is masked from ‘package:stats’:\n",
      "\n",
      "    xtabs\n",
      "\n",
      "The following objects are masked from ‘package:base’:\n",
      "\n",
      "    anyDuplicated, append, as.data.frame, as.vector, cbind, colnames,\n",
      "    do.call, duplicated, eval, evalq, Filter, Find, get, intersect,\n",
      "    is.unsorted, lapply, Map, mapply, match, mget, order, paste, pmax,\n",
      "    pmax.int, pmin, pmin.int, Position, rank, rbind, Reduce, rep.int,\n",
      "    rownames, sapply, setdiff, sort, table, tapply, union, unique,\n",
      "    unlist, unsplit\n",
      "\n",
      "\n",
      "Attaching package: ‘S4Vectors’\n",
      "\n",
      "The following object is masked from ‘package:dplyr’:\n",
      "\n",
      "    rename\n",
      "\n",
      "Loading required package: IRanges\n",
      "\n",
      "Attaching package: ‘IRanges’\n",
      "\n",
      "The following object is masked from ‘package:tidyr’:\n",
      "\n",
      "    expand\n",
      "\n",
      "The following objects are masked from ‘package:dplyr’:\n",
      "\n",
      "    collapse, desc, slice\n",
      "\n",
      "Loading required package: GenomicRanges\n",
      "Loading required package: GenomeInfoDb\n",
      "Loading required package: Rcpp\n",
      "Loading required package: RcppArmadillo\n",
      "Warning message:\n",
      "replacing previous import ‘S4Vectors::Position’ by ‘ggplot2::Position’ when loading ‘DESeq2’ \n",
      "File written: OTU_n2_abs1e9_PCR_subNorm_MW3_DESeq2\n",
      "Log2Fold cutoff: 0.25\n",
      "padj cutoff: 0.1\n",
      "File written: OTU_n2_abs1e9_PCR_subNorm_MW3\n",
      "File written: OTU_n2_abs1e9_PCR_subNorm_MW3_data.txt\n",
      "File written: OTU_n2_abs1e9_PCR_subNorm_MW3_table.txt\n",
      "File written: OTU_n2_abs1e9_PCR_subNorm_MW3_overall.txt\n",
      "File written: OTU_n2_abs1e9_PCR_subNorm_MW3_byClass.txt\n"
     ]
    }
   ],
   "source": [
    "BDs = '1.70-1.73,1.72-1.75,1.74-1.77'\n",
    "physeq = '../OTU_n2_abs1e9_PCR_subNorm.physeq'\n",
    "BD_shift = '../ampFrags_BD-shift.txt'\n",
    "HRSIP_multi_window(physeq, BD_shift, BDs, 'OTU_n2_abs1e9_PCR_subNorm_MW3')"
   ]
  },
  {
   "cell_type": "markdown",
   "metadata": {},
   "source": [
    "### 1.70-1.72,1.71-1.73,1.72-1.74,1.73-1.75"
   ]
  },
  {
   "cell_type": "code",
   "execution_count": null,
   "metadata": {
    "collapsed": false
   },
   "outputs": [
    {
     "name": "stdout",
     "output_type": "stream",
     "text": [
      "HR-SIP on BD window: 1.70-1.72\n",
      "Warning message:\n",
      "replacing previous import ‘S4Vectors::Position’ by ‘ggplot2::Position’ when loading ‘DESeq2’ \n",
      "pre-filter: number of samples:56\n",
      "pre-filter: number of taxa:1147\n",
      "post-filter: number of samples:9\n",
      "post-filter: number of taxa:781\n",
      "Warning message:\n",
      "replacing previous import ‘S4Vectors::Position’ by ‘ggplot2::Position’ when loading ‘DESeq2’ \n",
      "converting counts to integer mode\n",
      "using pre-existing size factors\n",
      "estimating dispersions\n",
      "gene-wise dispersion estimates\n",
      "mean-dispersion relationship\n",
      "final dispersion estimates\n",
      "fitting model and testing\n",
      "HR-SIP on BD window: 1.71-1.73\n",
      "Warning message:\n",
      "replacing previous import ‘S4Vectors::Position’ by ‘ggplot2::Position’ when loading ‘DESeq2’ \n",
      "pre-filter: number of samples:56\n",
      "pre-filter: number of taxa:1147\n",
      "post-filter: number of samples:10\n",
      "post-filter: number of taxa:781\n",
      "Warning message:\n",
      "replacing previous import ‘S4Vectors::Position’ by ‘ggplot2::Position’ when loading ‘DESeq2’ \n",
      "converting counts to integer mode\n",
      "using pre-existing size factors\n",
      "estimating dispersions\n",
      "gene-wise dispersion estimates\n",
      "mean-dispersion relationship\n",
      "final dispersion estimates\n",
      "fitting model and testing\n",
      "HR-SIP on BD window: 1.72-1.74\n"
     ]
    }
   ],
   "source": [
    "BDs = '1.70-1.72,1.71-1.73,1.72-1.74,1.73-1.75'\n",
    "physeq = '../OTU_n2_abs1e9_PCR_subNorm.physeq'\n",
    "BD_shift = '../ampFrags_BD-shift.txt'\n",
    "HRSIP_multi_window(physeq, BD_shift, BDs, 'OTU_n2_abs1e9_PCR_subNorm_MW4')"
   ]
  },
  {
   "cell_type": "markdown",
   "metadata": {},
   "source": [
    "### 1.71-1.75"
   ]
  },
  {
   "cell_type": "code",
   "execution_count": 55,
   "metadata": {
    "collapsed": false
   },
   "outputs": [
    {
     "name": "stdout",
     "output_type": "stream",
     "text": [
      "HR-SIP on BD window: 1.71-1.75\n",
      "Warning message:\n",
      "replacing previous import ‘S4Vectors::Position’ by ‘ggplot2::Position’ when loading ‘DESeq2’ \n",
      "pre-filter: number of samples:56\n",
      "pre-filter: number of taxa:1147\n",
      "post-filter: number of samples:20\n",
      "post-filter: number of taxa:781\n",
      "Warning message:\n",
      "replacing previous import ‘S4Vectors::Position’ by ‘ggplot2::Position’ when loading ‘DESeq2’ \n",
      "converting counts to integer mode\n",
      "using pre-existing size factors\n",
      "estimating dispersions\n",
      "gene-wise dispersion estimates\n",
      "mean-dispersion relationship\n",
      "final dispersion estimates\n",
      "fitting model and testing\n",
      "-- replacing outliers and refitting for 10 genes\n",
      "-- DESeq argument 'minReplicatesForReplace' = 7 \n",
      "-- original counts are preserved in counts(dds)\n",
      "estimating dispersions\n",
      "fitting model and testing\n",
      "Combining DESeq objects\n",
      "File written: OTU_n2_abs1e9_PCR_subNorm_MW5_1.71-1.75_DESeq2\n",
      "Warning message:\n",
      "replacing previous import ‘S4Vectors::Position’ by ‘ggplot2::Position’ when loading ‘DESeq2’ \n",
      "Log2Fold cutoff: 0.25\n",
      "padj cutoff: 0.1\n",
      "File written: OTU_n2_abs1e9_PCR_subNorm_MW5\n",
      "File written: OTU_n2_abs1e9_PCR_subNorm_MW5_data.txt\n",
      "File written: OTU_n2_abs1e9_PCR_subNorm_MW5_table.txt\n",
      "File written: OTU_n2_abs1e9_PCR_subNorm_MW5_overall.txt\n",
      "File written: OTU_n2_abs1e9_PCR_subNorm_MW5_byClass.txt\n"
     ]
    }
   ],
   "source": [
    "BDs = '1.71-1.75'\n",
    "physeq = '../OTU_n2_abs1e9_PCR_subNorm.physeq'\n",
    "BD_shift = '../ampFrags_BD-shift.txt'\n",
    "HRSIP_multi_window(physeq, BD_shift, BDs, 'OTU_n2_abs1e9_PCR_subNorm_MW5')"
   ]
  },
  {
   "cell_type": "markdown",
   "metadata": {},
   "source": [
    "### 1.71-1.8"
   ]
  },
  {
   "cell_type": "code",
   "execution_count": 56,
   "metadata": {
    "collapsed": false
   },
   "outputs": [
    {
     "name": "stdout",
     "output_type": "stream",
     "text": [
      "HR-SIP on BD window: 1.71-1.8\n",
      "Warning message:\n",
      "replacing previous import ‘S4Vectors::Position’ by ‘ggplot2::Position’ when loading ‘DESeq2’ \n",
      "pre-filter: number of samples:56\n",
      "pre-filter: number of taxa:1147\n",
      "post-filter: number of samples:32\n",
      "post-filter: number of taxa:781\n",
      "Warning message:\n",
      "replacing previous import ‘S4Vectors::Position’ by ‘ggplot2::Position’ when loading ‘DESeq2’ \n",
      "converting counts to integer mode\n",
      "using pre-existing size factors\n",
      "estimating dispersions\n",
      "gene-wise dispersion estimates\n",
      "mean-dispersion relationship\n",
      "final dispersion estimates\n",
      "fitting model and testing\n",
      "-- replacing outliers and refitting for 63 genes\n",
      "-- DESeq argument 'minReplicatesForReplace' = 7 \n",
      "-- original counts are preserved in counts(dds)\n",
      "estimating dispersions\n",
      "fitting model and testing\n",
      "Combining DESeq objects\n",
      "File written: OTU_n2_abs1e9_PCR_subNorm_MW6_1.71-1.8_DESeq2\n",
      "Warning message:\n",
      "replacing previous import ‘S4Vectors::Position’ by ‘ggplot2::Position’ when loading ‘DESeq2’ \n",
      "Log2Fold cutoff: 0.25\n",
      "padj cutoff: 0.1\n",
      "File written: OTU_n2_abs1e9_PCR_subNorm_MW6\n",
      "File written: OTU_n2_abs1e9_PCR_subNorm_MW6_data.txt\n",
      "File written: OTU_n2_abs1e9_PCR_subNorm_MW6_table.txt\n",
      "File written: OTU_n2_abs1e9_PCR_subNorm_MW6_overall.txt\n",
      "File written: OTU_n2_abs1e9_PCR_subNorm_MW6_byClass.txt\n"
     ]
    }
   ],
   "source": [
    "BDs = '1.71-1.8'\n",
    "physeq = '../OTU_n2_abs1e9_PCR_subNorm.physeq'\n",
    "BD_shift = '../ampFrags_BD-shift.txt'\n",
    "HRSIP_multi_window(physeq, BD_shift, BDs, 'OTU_n2_abs1e9_PCR_subNorm_MW6')"
   ]
  },
  {
   "cell_type": "markdown",
   "metadata": {},
   "source": [
    "# Plotting results"
   ]
  },
  {
   "cell_type": "code",
   "execution_count": 57,
   "metadata": {
    "collapsed": false
   },
   "outputs": [
    {
     "data": {
      "text/plain": [
       "['OTU_n2_abs1e9_PCR_subNorm_MW1_byClass.txt',\n",
       " 'OTU_n2_abs1e9_PCR_subNorm_MW2_byClass.txt',\n",
       " 'OTU_n2_abs1e9_PCR_subNorm_MW3_byClass.txt',\n",
       " 'OTU_n2_abs1e9_PCR_subNorm_MW4_byClass.txt',\n",
       " 'OTU_n2_abs1e9_PCR_subNorm_MW5_byClass.txt',\n",
       " 'OTU_n2_abs1e9_PCR_subNorm_MW6_byClass.txt']"
      ]
     },
     "execution_count": 57,
     "metadata": {},
     "output_type": "execute_result"
    }
   ],
   "source": [
    "files = ['OTU_n2_abs1e9_PCR_subNorm_MW{}_byClass.txt'.format(i) for i in xrange(1,7)]\n",
    "files"
   ]
  },
  {
   "cell_type": "code",
   "execution_count": 84,
   "metadata": {
    "collapsed": false
   },
   "outputs": [
    {
     "data": {
      "text/plain": [
       "  library      variables    values file             BD_window\n",
       "1       2    Sensitivity 0.9487179  MW1 1.70-1.74,\\n1.72-1.76\n",
       "2       2    Specificity 1.0000000  MW1 1.70-1.74,\\n1.72-1.76\n",
       "3       2 Pos Pred Value 1.0000000  MW1 1.70-1.74,\\n1.72-1.76\n"
      ]
     },
     "metadata": {},
     "output_type": "display_data"
    }
   ],
   "source": [
    "%%R -i files\n",
    "\n",
    "renames = data.frame(file = c('MW1', 'MW2', 'MW3', 'MW4', 'MW5', 'MW6'),\n",
    "                     BD_window = c('1.70-1.74,\\n1.72-1.76', \n",
    "                                   '1.70-1.75,\\n1.72-1.77',\n",
    "                                   '1.70-1.73,\\n1.72-1.75,\\n1.74-1.77',\n",
    "                                   '1.70-1.72,\\n1.71-1.73,\\n1.72-1.74,\\n1.73-1.75',\n",
    "                                   '1.71-1.75', '1.71-1.8'))\n",
    "\n",
    "df = list()\n",
    "for(F in files){\n",
    "    tmp = read.delim(F, sep='\\t')\n",
    "    df[[F]] = tmp\n",
    "}\n",
    "df = do.call(rbind, df)\n",
    "df$file = gsub('.+(MW[0-9]+).+', '\\\\1', rownames(df))\n",
    "\n",
    "df = inner_join(df, renames, c('file' = 'file')) \n",
    "\n",
    "df %>% head(n=3)"
   ]
  },
  {
   "cell_type": "code",
   "execution_count": 62,
   "metadata": {
    "collapsed": false
   },
   "outputs": [
    {
     "data": {
      "image/png": "[encoded data removed]"
     },
     "metadata": {},
     "output_type": "display_data"
    }
   ],
   "source": [
    "%%R -h 550\n",
    "ggplot(df, aes(variables, values)) +\n",
    "    geom_bar(stat='identity') +\n",
    "    labs(y='Value') +\n",
    "    facet_grid(BD_window ~ .) +\n",
    "    theme_bw() +\n",
    "    theme(\n",
    "        text = element_text(size=16),\n",
    "        axis.title.x = element_blank(),\n",
    "        axis.text.x = element_text(angle=45, hjust=1)\n",
    "    )"
   ]
  },
  {
   "cell_type": "code",
   "execution_count": 83,
   "metadata": {
    "collapsed": false
   },
   "outputs": [
    {
     "data": {
      "image/png": "[encoded data removed]"
     },
     "metadata": {},
     "output_type": "display_data"
    }
   ],
   "source": [
    "%%R -h 250 -w 550\n",
    "df.f = df %>%\n",
    "    filter(variables %in% c('Sensitivity', 'Specificity', 'Balanced Accuracy')) %>%\n",
    "    mutate(variables = gsub(' ', '\\n', variables))\n",
    "\n",
    "ggplot(df.f, aes(BD_window, values, color=variables)) +\n",
    "    geom_point(size=3, alpha=0.7) +\n",
    "    theme_bw() +\n",
    "    theme(\n",
    "        text = element_text(size=16),\n",
    "        axis.title.x = element_blank(),\n",
    "        axis.text.x = element_text(angle=60, hjust=1)\n",
    "    )"
   ]
  }
 ],
 "metadata": {
  "hide_input": true,
  "kernelspec": {
   "display_name": "Python 2",
   "language": "python",
   "name": "python2"
  },
  "language_info": {
   "codemirror_mode": {
    "name": "ipython",
    "version": 2
   },
   "file_extension": ".py",
   "mimetype": "text/x-python",
   "name": "python",
   "nbconvert_exporter": "python",
   "pygments_lexer": "ipython2",
   "version": "2.7.11"
  }
 },
 "nbformat": 4,
 "nbformat_minor": 0
}
