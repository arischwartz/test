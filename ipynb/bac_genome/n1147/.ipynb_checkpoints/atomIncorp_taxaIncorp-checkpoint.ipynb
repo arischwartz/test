{
 "cells": [
  {
   "cell_type": "markdown",
   "metadata": {
    "code_folding": []
   },
   "source": [
    "# Goal\n",
    "\n",
    "Accuracy as a function of isotope incorporation\n",
    "\n",
    "### Variable parameters:\n",
    "\n",
    "* atom % isotope incorporation\n",
    "  * 0, 25, 50, 100\n",
    "* % taxa that incorporate\n",
    "  * __1, 5, 10, 25, 50__\n",
    "* n-reps (stocastic: taxon abundances & which incorporate)\n",
    "  * 10 "
   ]
  },
  {
   "cell_type": "markdown",
   "metadata": {},
   "source": [
    "# Setting paths"
   ]
  },
  {
   "cell_type": "code",
   "execution_count": 3,
   "metadata": {
    "collapsed": false
   },
   "outputs": [],
   "source": [
    "# paths\n",
    "import os\n",
    "\n",
    "workDir = '/home/nick/notebook/SIPSim/dev/bac_genome1147/'\n",
    "buildDir = os.path.join(workDir, 'atomIncorp_taxaIncorp')\n",
    "R_dir = '/home/nick/notebook/SIPSim/lib/R/'\n",
    "\n",
    "fragFile = '/home/nick/notebook/SIPSim/dev/bac_genome1147/validation/ampFrags_kde.pkl'\n",
    "genome_index = '/var/seq_data/ncbi_db/genome/Jan2016/bac_complete_spec-rep1_rn/genome_index.txt'"
   ]
  },
  {
   "cell_type": "markdown",
   "metadata": {},
   "source": [
    "## Init"
   ]
  },
  {
   "cell_type": "code",
   "execution_count": 4,
   "metadata": {
    "collapsed": false
   },
   "outputs": [],
   "source": [
    "import glob\n",
    "import itertools\n",
    "import nestly"
   ]
  },
  {
   "cell_type": "code",
   "execution_count": 5,
   "metadata": {
    "collapsed": false
   },
   "outputs": [],
   "source": [
    "%load_ext rpy2.ipython\n",
    "%load_ext pushnote"
   ]
  },
  {
   "cell_type": "code",
   "execution_count": 6,
   "metadata": {
    "collapsed": false
   },
   "outputs": [
    {
     "name": "stderr",
     "output_type": "stream",
     "text": [
      "/opt/anaconda/lib/python2.7/site-packages/rpy2/robjects/functions.py:106: UserWarning: \n",
      "Attaching package: ‘dplyr’\n",
      "\n",
      "\n",
      "  res = super(Function, self).__call__(*new_args, **new_kwargs)\n",
      "/opt/anaconda/lib/python2.7/site-packages/rpy2/robjects/functions.py:106: UserWarning: The following objects are masked from ‘package:stats’:\n",
      "\n",
      "    filter, lag\n",
      "\n",
      "\n",
      "  res = super(Function, self).__call__(*new_args, **new_kwargs)\n",
      "/opt/anaconda/lib/python2.7/site-packages/rpy2/robjects/functions.py:106: UserWarning: The following objects are masked from ‘package:base’:\n",
      "\n",
      "    intersect, setdiff, setequal, union\n",
      "\n",
      "\n",
      "  res = super(Function, self).__call__(*new_args, **new_kwargs)\n"
     ]
    }
   ],
   "source": [
    "%%R\n",
    "library(ggplot2)\n",
    "library(dplyr)\n",
    "library(tidyr)\n",
    "library(gridExtra)"
   ]
  },
  {
   "cell_type": "code",
   "execution_count": 7,
   "metadata": {
    "collapsed": false
   },
   "outputs": [
    {
     "name": "stdout",
     "output_type": "stream",
     "text": [
      "/home/nick/notebook/SIPSim/dev/bac_genome1147/atomIncorp_taxaIncorp\n"
     ]
    }
   ],
   "source": [
    "if not os.path.isdir(buildDir):\n",
    "    os.makedirs(buildDir)\n",
    "%cd $buildDir"
   ]
  },
  {
   "cell_type": "markdown",
   "metadata": {},
   "source": [
    "### BD min/max"
   ]
  },
  {
   "cell_type": "code",
   "execution_count": 8,
   "metadata": {
    "collapsed": false
   },
   "outputs": [
    {
     "name": "stdout",
     "output_type": "stream",
     "text": [
      "Min BD: 1.67323\n",
      "Max BD: 1.7744\n"
     ]
    }
   ],
   "source": [
    "## min G+C cutoff\n",
    "min_GC = 13.5\n",
    "## max G+C cutoff\n",
    "max_GC = 80\n",
    "## max G+C shift\n",
    "max_13C_shift_in_BD = 0.036\n",
    "\n",
    "\n",
    "min_BD = min_GC/100.0 * 0.098 + 1.66    \n",
    "max_BD = max_GC/100.0 * 0.098 + 1.66    \n",
    "\n",
    "max_BD = max_BD + max_13C_shift_in_BD\n",
    "\n",
    "print 'Min BD: {}'.format(min_BD)\n",
    "print 'Max BD: {}'.format(max_BD)"
   ]
  },
  {
   "cell_type": "markdown",
   "metadata": {},
   "source": [
    "# Nestly\n",
    "\n",
    "* assuming fragments already simulated"
   ]
  },
  {
   "cell_type": "code",
   "execution_count": 84,
   "metadata": {
    "collapsed": false
   },
   "outputs": [
    {
     "name": "stdout",
     "output_type": "stream",
     "text": [
      "1\tcontrol\r\n",
      "2\ttreatment\r\n",
      "3\tcontrol\r\n",
      "4\ttreatment\r\n",
      "5\tcontrol\r\n",
      "6\ttreatment\r\n"
     ]
    }
   ],
   "source": [
    "# making an experimental design file for qSIP\n",
    "x = range(1,7)\n",
    "y = ['control', 'treatment']\n",
    "\n",
    "expDesignFile = os.path.join(buildDir, 'qSIP_exp_design.txt')\n",
    "with open(expDesignFile, 'wb') as outFH:\n",
    "    for i,z in itertools.izip(x,itertools.cycle(y)):\n",
    "        line = '\\t'.join([str(i),z])\n",
    "        outFH.write(line + '\\n')\n",
    "\n",
    "!head $expDesignFile       "
   ]
  },
  {
   "cell_type": "markdown",
   "metadata": {},
   "source": [
    "## Nestly params"
   ]
  },
  {
   "cell_type": "code",
   "execution_count": 85,
   "metadata": {
    "collapsed": false
   },
   "outputs": [],
   "source": [
    "# building tree structure\n",
    "nest = nestly.Nest()\n",
    "\n",
    "# varying params: test\n",
    "#nest.add('percIncorp', [100])\n",
    "#nest.add('percTaxa', [10])\n",
    "#nest.add('rep', range(1,4))\n",
    "\n",
    "# varying params\n",
    "nest.add('percIncorp', [0, 25, 50, 100])\n",
    "nest.add('percTaxa', [1, 5, 10, 25, 50])\n",
    "nest.add('rep', range(1,11))\n",
    "\n",
    "## set params\n",
    "nest.add('abs', ['1e9'], create_dir=False)\n",
    "nest.add('np', [10], create_dir=False)\n",
    "nest.add('Monte_rep', [100000], create_dir=False)\n",
    "nest.add('subsample_dist', ['lognormal'], create_dir=False)\n",
    "nest.add('subsample_mean', [9.432], create_dir=False)\n",
    "nest.add('subsample_scale', [0.5], create_dir=False)\n",
    "nest.add('subsample_min', [10000], create_dir=False)\n",
    "nest.add('subsample_max', [30000], create_dir=False)\n",
    "nest.add('min_BD', [min_BD], create_dir=False)\n",
    "nest.add('max_BD', [max_BD], create_dir=False)\n",
    "nest.add('DBL_scaling', [0.5], create_dir=False)\n",
    "nest.add('bandwidth', [0.8], create_dir=False)\n",
    "nest.add('heavy_BD_min', [1.71], create_dir=False)\n",
    "nest.add('heavy_BD_max', [1.75], create_dir=False)\n",
    "nest.add('topTaxaToPlot', [100], create_dir=False)\n",
    "nest.add('padj', [0.1], create_dir=False)\n",
    "nest.add('log2', [0.25], create_dir=False)\n",
    "\n",
    "### input/output files\n",
    "nest.add('buildDir', [buildDir], create_dir=False)\n",
    "nest.add('R_dir', [R_dir], create_dir=False)\n",
    "nest.add('genome_index', [genome_index], create_dir=False)\n",
    "nest.add('fragFile', [fragFile], create_dir=False)\n",
    "nest.add('exp_design', [expDesignFile], create_dir=False)\n",
    "\n",
    "\n",
    "# building directory tree\n",
    "nest.build(buildDir)\n",
    "\n",
    "# bash file to run\n",
    "bashFile = os.path.join(buildDir, 'SIPSimRun.sh')"
   ]
  },
  {
   "cell_type": "markdown",
   "metadata": {},
   "source": [
    "## Experimental design"
   ]
  },
  {
   "cell_type": "code",
   "execution_count": 179,
   "metadata": {
    "collapsed": false
   },
   "outputs": [
    {
     "data": {
      "text/plain": [
       "'/home/nick/notebook/SIPSim/dev/bac_genome1147/atomIncorp_taxaIncorp/SIPSimRun_expDesign.sh'"
      ]
     },
     "execution_count": 179,
     "metadata": {},
     "output_type": "execute_result"
    }
   ],
   "source": [
    "bashFileTmp = os.path.splitext(bashFile)[0] + '_expDesign.sh'\n",
    "bashFileTmp"
   ]
  },
  {
   "cell_type": "code",
   "execution_count": 180,
   "metadata": {
    "collapsed": false
   },
   "outputs": [
    {
     "name": "stdout",
     "output_type": "stream",
     "text": [
      "Writing /home/nick/notebook/SIPSim/dev/bac_genome1147/atomIncorp_taxaIncorp/SIPSimRun_expDesign.sh\n"
     ]
    }
   ],
   "source": [
    "%%writefile $bashFileTmp\n",
    "#!/bin/bash\n",
    "\n",
    "echo '#-- Experimental design --#'\n",
    "\n",
    "echo '# Making an isotope incorporation config file'\n",
    "echo '## 3 replicate gradients for control & treatment'\n",
    "SIPSim incorpConfigExample \\\n",
    "  --percIncorpUnif {percIncorp} \\\n",
    "  --n_reps 3 \\\n",
    "  > incorp.config\n",
    "\n",
    "echo '# Selecting incorporator taxa'\n",
    "echo '## This is to make the gradient replicates consistent (qSIP finds mean among replicates)'\n",
    "SIPSim KDE_selectTaxa \\\n",
    "    -p {percTaxa} \\\n",
    "    {fragFile} \\\n",
    "    > incorporators.txt\n",
    "\n",
    "echo '# Creating a community file (3 replicate control, 3 replicate treatment)'\n",
    "SIPSim communities \\\n",
    "    --config incorp.config \\\n",
    "    {genome_index} \\\n",
    "    > comm.txt    \n",
    "\n",
    "echo '# simulating gradient fractions'\n",
    "SIPSim gradient_fractions \\\n",
    "    --BD_min {min_BD} \\\n",
    "    --BD_max {max_BD} \\\n",
    "    comm.txt \\\n",
    "    > fracs.txt        "
   ]
  },
  {
   "cell_type": "code",
   "execution_count": 51,
   "metadata": {
    "collapsed": false
   },
   "outputs": [
    {
     "name": "stdout",
     "output_type": "stream",
     "text": [
      "2016-03-28 06:59:24,041 * INFO * Template: ./SIPSimRun.sh\n",
      "2016-03-28 06:59:24,043 * INFO * [145094] Started ./SIPSimRun.sh in atomIncorp_taxaIncorp/50/50/7\n",
      "2016-03-28 06:59:24,044 * INFO * [145095] Started ./SIPSimRun.sh in atomIncorp_taxaIncorp/50/50/9\n",
      "2016-03-28 06:59:24,045 * INFO * [145097] Started ./SIPSimRun.sh in atomIncorp_taxaIncorp/50/50/8\n",
      "2016-03-28 06:59:24,047 * INFO * [145099] Started ./SIPSimRun.sh in atomIncorp_taxaIncorp/50/50/3\n",
      "2016-03-28 06:59:24,048 * INFO * [145101] Started ./SIPSimRun.sh in atomIncorp_taxaIncorp/50/50/10\n",
      "2016-03-28 06:59:24,050 * INFO * [145103] Started ./SIPSimRun.sh in atomIncorp_taxaIncorp/50/50/2\n",
      "2016-03-28 06:59:24,052 * INFO * [145105] Started ./SIPSimRun.sh in atomIncorp_taxaIncorp/50/50/1\n",
      "2016-03-28 06:59:24,054 * INFO * [145107] Started ./SIPSimRun.sh in atomIncorp_taxaIncorp/50/50/4\n",
      "2016-03-28 06:59:24,056 * INFO * [145109] Started ./SIPSimRun.sh in atomIncorp_taxaIncorp/50/50/5\n",
      "2016-03-28 06:59:24,058 * INFO * [145111] Started ./SIPSimRun.sh in atomIncorp_taxaIncorp/50/50/6\n",
      "2016-03-28 06:59:31,558 * INFO * [145109] atomIncorp_taxaIncorp/50/50/5 Finished with 0\n",
      "2016-03-28 06:59:31,560 * INFO * [146304] Started ./SIPSimRun.sh in atomIncorp_taxaIncorp/50/25/7\n",
      "2016-03-28 06:59:31,560 * INFO * [145094] atomIncorp_taxaIncorp/50/50/7 Finished with 0\n",
      "2016-03-28 06:59:31,562 * INFO * [146305] Started ./SIPSimRun.sh in atomIncorp_taxaIncorp/50/25/9\n",
      "2016-03-28 06:59:31,562 * INFO * [145095] atomIncorp_taxaIncorp/50/50/9 Finished with 0\n",
      "2016-03-28 06:59:31,563 * INFO * [146307] Started ./SIPSimRun.sh in atomIncorp_taxaIncorp/50/25/8\n",
      "2016-03-28 06:59:31,563 * INFO * [145097] atomIncorp_taxaIncorp/50/50/8 Finished with 0\n",
      "2016-03-28 06:59:31,565 * INFO * [146309] Started ./SIPSimRun.sh in atomIncorp_taxaIncorp/50/25/3\n",
      "2016-03-28 06:59:31,565 * INFO * [145099] atomIncorp_taxaIncorp/50/50/3 Finished with 0\n",
      "2016-03-28 06:59:31,566 * INFO * [146311] Started ./SIPSimRun.sh in atomIncorp_taxaIncorp/50/25/10\n",
      "2016-03-28 06:59:31,566 * INFO * [145101] atomIncorp_taxaIncorp/50/50/10 Finished with 0\n",
      "2016-03-28 06:59:31,568 * INFO * [146313] Started ./SIPSimRun.sh in atomIncorp_taxaIncorp/50/25/2\n",
      "2016-03-28 06:59:31,568 * INFO * [145103] atomIncorp_taxaIncorp/50/50/2 Finished with 0\n",
      "2016-03-28 06:59:31,569 * INFO * [146315] Started ./SIPSimRun.sh in atomIncorp_taxaIncorp/50/25/1\n",
      "2016-03-28 06:59:31,569 * INFO * [145105] atomIncorp_taxaIncorp/50/50/1 Finished with 0\n",
      "2016-03-28 06:59:31,570 * INFO * [146317] Started ./SIPSimRun.sh in atomIncorp_taxaIncorp/50/25/4\n",
      "2016-03-28 06:59:31,571 * INFO * [145111] atomIncorp_taxaIncorp/50/50/6 Finished with 0\n",
      "2016-03-28 06:59:31,572 * INFO * [146319] Started ./SIPSimRun.sh in atomIncorp_taxaIncorp/50/25/5\n",
      "2016-03-28 06:59:31,573 * INFO * [145107] atomIncorp_taxaIncorp/50/50/4 Finished with 0\n",
      "2016-03-28 06:59:31,574 * INFO * [146321] Started ./SIPSimRun.sh in atomIncorp_taxaIncorp/50/25/6\n",
      "2016-03-28 06:59:36,359 * INFO * [146309] atomIncorp_taxaIncorp/50/25/3 Finished with 0\n",
      "2016-03-28 06:59:36,361 * INFO * [147422] Started ./SIPSimRun.sh in atomIncorp_taxaIncorp/50/10/7\n",
      "2016-03-28 06:59:36,383 * INFO * [146319] atomIncorp_taxaIncorp/50/25/5 Finished with 0\n",
      "2016-03-28 06:59:36,385 * INFO * [147424] Started ./SIPSimRun.sh in atomIncorp_taxaIncorp/50/10/9\n",
      "2016-03-28 06:59:36,404 * INFO * [146321] atomIncorp_taxaIncorp/50/25/6 Finished with 0\n",
      "2016-03-28 06:59:36,406 * INFO * [147426] Started ./SIPSimRun.sh in atomIncorp_taxaIncorp/50/10/8\n",
      "2016-03-28 06:59:36,456 * INFO * [146317] atomIncorp_taxaIncorp/50/25/4 Finished with 0\n",
      "2016-03-28 06:59:36,457 * INFO * [147439] Started ./SIPSimRun.sh in atomIncorp_taxaIncorp/50/10/3\n",
      "2016-03-28 06:59:36,470 * INFO * [146305] atomIncorp_taxaIncorp/50/25/9 Finished with 0\n",
      "2016-03-28 06:59:36,471 * INFO * [147441] Started ./SIPSimRun.sh in atomIncorp_taxaIncorp/50/10/10\n",
      "2016-03-28 06:59:36,488 * INFO * [146315] atomIncorp_taxaIncorp/50/25/1 Finished with 0\n",
      "2016-03-28 06:59:36,490 * INFO * [147443] Started ./SIPSimRun.sh in atomIncorp_taxaIncorp/50/10/2\n",
      "2016-03-28 06:59:36,540 * INFO * [146307] atomIncorp_taxaIncorp/50/25/8 Finished with 0\n",
      "2016-03-28 06:59:36,541 * INFO * [147447] Started ./SIPSimRun.sh in atomIncorp_taxaIncorp/50/10/1\n",
      "2016-03-28 06:59:36,550 * INFO * [146313] atomIncorp_taxaIncorp/50/25/2 Finished with 0\n",
      "2016-03-28 06:59:36,552 * INFO * [147449] Started ./SIPSimRun.sh in atomIncorp_taxaIncorp/50/10/4\n",
      "2016-03-28 06:59:36,604 * INFO * [146304] atomIncorp_taxaIncorp/50/25/7 Finished with 0\n",
      "2016-03-28 06:59:36,606 * INFO * [147452] Started ./SIPSimRun.sh in atomIncorp_taxaIncorp/50/10/5\n",
      "2016-03-28 06:59:36,783 * INFO * [146311] atomIncorp_taxaIncorp/50/25/10 Finished with 0\n",
      "2016-03-28 06:59:36,784 * INFO * [147526] Started ./SIPSimRun.sh in atomIncorp_taxaIncorp/50/10/6\n",
      "2016-03-28 06:59:41,169 * INFO * [147424] atomIncorp_taxaIncorp/50/10/9 Finished with 0\n",
      "2016-03-28 06:59:41,170 * INFO * [148493] Started ./SIPSimRun.sh in atomIncorp_taxaIncorp/50/1/7\n",
      "2016-03-28 06:59:41,303 * INFO * [147441] atomIncorp_taxaIncorp/50/10/10 Finished with 0\n",
      "2016-03-28 06:59:41,304 * INFO * [148534] Started ./SIPSimRun.sh in atomIncorp_taxaIncorp/50/1/9\n",
      "2016-03-28 06:59:41,412 * INFO * [147422] atomIncorp_taxaIncorp/50/10/7 Finished with 0\n",
      "2016-03-28 06:59:41,413 * INFO * [148554] Started ./SIPSimRun.sh in atomIncorp_taxaIncorp/50/1/8\n",
      "2016-03-28 06:59:41,455 * INFO * [147439] atomIncorp_taxaIncorp/50/10/3 Finished with 0\n",
      "2016-03-28 06:59:41,456 * INFO * [148567] Started ./SIPSimRun.sh in atomIncorp_taxaIncorp/50/1/3\n",
      "2016-03-28 06:59:41,462 * INFO * [147426] atomIncorp_taxaIncorp/50/10/8 Finished with 0\n",
      "2016-03-28 06:59:41,465 * INFO * [148569] Started ./SIPSimRun.sh in atomIncorp_taxaIncorp/50/1/10\n",
      "2016-03-28 06:59:41,573 * INFO * [147447] atomIncorp_taxaIncorp/50/10/1 Finished with 0\n",
      "2016-03-28 06:59:41,575 * INFO * [148576] Started ./SIPSimRun.sh in atomIncorp_taxaIncorp/50/1/2\n",
      "2016-03-28 06:59:41,640 * INFO * [147452] atomIncorp_taxaIncorp/50/10/5 Finished with 0\n",
      "2016-03-28 06:59:41,642 * INFO * [148588] Started ./SIPSimRun.sh in atomIncorp_taxaIncorp/50/1/1\n",
      "2016-03-28 06:59:41,665 * INFO * [147443] atomIncorp_taxaIncorp/50/10/2 Finished with 0\n",
      "2016-03-28 06:59:41,667 * INFO * [148592] Started ./SIPSimRun.sh in atomIncorp_taxaIncorp/50/1/4\n",
      "2016-03-28 06:59:41,786 * INFO * [147449] atomIncorp_taxaIncorp/50/10/4 Finished with 0\n",
      "2016-03-28 06:59:41,787 * INFO * [148643] Started ./SIPSimRun.sh in atomIncorp_taxaIncorp/50/1/5\n",
      "2016-03-28 06:59:42,050 * INFO * [147526] atomIncorp_taxaIncorp/50/10/6 Finished with 0\n",
      "2016-03-28 06:59:42,052 * INFO * [148706] Started ./SIPSimRun.sh in atomIncorp_taxaIncorp/50/1/6\n",
      "2016-03-28 06:59:45,927 * INFO * [148493] atomIncorp_taxaIncorp/50/1/7 Finished with 0\n",
      "2016-03-28 06:59:45,928 * INFO * [149529] Started ./SIPSimRun.sh in atomIncorp_taxaIncorp/50/5/7\n",
      "2016-03-28 06:59:46,311 * INFO * [148534] atomIncorp_taxaIncorp/50/1/9 Finished with 0\n",
      "2016-03-28 06:59:46,313 * INFO * [149631] Started ./SIPSimRun.sh in atomIncorp_taxaIncorp/50/5/9\n",
      "2016-03-28 06:59:46,318 * INFO * [148554] atomIncorp_taxaIncorp/50/1/8 Finished with 0\n",
      "2016-03-28 06:59:46,320 * INFO * [149634] Started ./SIPSimRun.sh in atomIncorp_taxaIncorp/50/5/8\n",
      "2016-03-28 06:59:46,544 * INFO * [148592] atomIncorp_taxaIncorp/50/1/4 Finished with 0\n",
      "2016-03-28 06:59:46,545 * INFO * [149698] Started ./SIPSimRun.sh in atomIncorp_taxaIncorp/50/5/3\n",
      "2016-03-28 06:59:46,684 * INFO * [148569] atomIncorp_taxaIncorp/50/1/10 Finished with 0\n",
      "2016-03-28 06:59:46,686 * INFO * [149755] Started ./SIPSimRun.sh in atomIncorp_taxaIncorp/50/5/10\n",
      "2016-03-28 06:59:46,735 * INFO * [148643] atomIncorp_taxaIncorp/50/1/5 Finished with 0\n",
      "2016-03-28 06:59:46,737 * INFO * [149757] Started ./SIPSimRun.sh in atomIncorp_taxaIncorp/50/5/2\n",
      "2016-03-28 06:59:46,782 * INFO * [148706] atomIncorp_taxaIncorp/50/1/6 Finished with 0\n",
      "2016-03-28 06:59:46,784 * INFO * [149759] Started ./SIPSimRun.sh in atomIncorp_taxaIncorp/50/5/1\n",
      "2016-03-28 06:59:46,854 * INFO * [148567] atomIncorp_taxaIncorp/50/1/3 Finished with 0\n",
      "2016-03-28 06:59:46,855 * INFO * [149776] Started ./SIPSimRun.sh in atomIncorp_taxaIncorp/50/5/4\n",
      "2016-03-28 06:59:46,890 * INFO * [148576] atomIncorp_taxaIncorp/50/1/2 Finished with 0\n",
      "2016-03-28 06:59:46,891 * INFO * [149778] Started ./SIPSimRun.sh in atomIncorp_taxaIncorp/50/5/5\n",
      "2016-03-28 06:59:46,935 * INFO * [148588] atomIncorp_taxaIncorp/50/1/1 Finished with 0\n",
      "2016-03-28 06:59:46,936 * INFO * [149781] Started ./SIPSimRun.sh in atomIncorp_taxaIncorp/50/5/6\n",
      "2016-03-28 06:59:50,644 * INFO * [149529] atomIncorp_taxaIncorp/50/5/7 Finished with 0\n",
      "2016-03-28 06:59:50,646 * INFO * [150608] Started ./SIPSimRun.sh in atomIncorp_taxaIncorp/0/50/7\n",
      "2016-03-28 06:59:51,097 * INFO * [149631] atomIncorp_taxaIncorp/50/5/9 Finished with 0\n",
      "2016-03-28 06:59:51,098 * INFO * [150719] Started ./SIPSimRun.sh in atomIncorp_taxaIncorp/0/50/9\n",
      "2016-03-28 06:59:51,317 * INFO * [149634] atomIncorp_taxaIncorp/50/5/8 Finished with 0\n",
      "2016-03-28 06:59:51,319 * INFO * [150782] Started ./SIPSimRun.sh in atomIncorp_taxaIncorp/0/50/8\n",
      "2016-03-28 06:59:51,536 * INFO * [149759] atomIncorp_taxaIncorp/50/5/1 Finished with 0\n",
      "2016-03-28 06:59:51,538 * INFO * [150821] Started ./SIPSimRun.sh in atomIncorp_taxaIncorp/0/50/3\n",
      "2016-03-28 06:59:51,602 * INFO * [149757] atomIncorp_taxaIncorp/50/5/2 Finished with 0\n",
      "2016-03-28 06:59:51,604 * INFO * [150846] Started ./SIPSimRun.sh in atomIncorp_taxaIncorp/0/50/10\n",
      "2016-03-28 06:59:51,653 * INFO * [149778] atomIncorp_taxaIncorp/50/5/5 Finished with 0\n",
      "2016-03-28 06:59:51,655 * INFO * [150859] Started ./SIPSimRun.sh in atomIncorp_taxaIncorp/0/50/2\n",
      "2016-03-28 06:59:51,769 * INFO * [149698] atomIncorp_taxaIncorp/50/5/3 Finished with 0\n",
      "2016-03-28 06:59:51,771 * INFO * [150878] Started ./SIPSimRun.sh in atomIncorp_taxaIncorp/0/50/1\n",
      "2016-03-28 06:59:51,976 * INFO * [149755] atomIncorp_taxaIncorp/50/5/10 Finished with 0\n",
      "2016-03-28 06:59:51,978 * INFO * [150955] Started ./SIPSimRun.sh in atomIncorp_taxaIncorp/0/50/4\n",
      "**OUTPUT MUTED**"
     ]
    }
   ],
   "source": [
    "!chmod 777 $bashFileTmp\n",
    "!cd $workDir; \\\n",
    "    nestrun --template-file $bashFileTmp -d $buildDir --log-file exp_design.log -j 10"
   ]
  },
  {
   "cell_type": "code",
   "execution_count": 52,
   "metadata": {
    "collapsed": true
   },
   "outputs": [],
   "source": [
    "%pushnote exp_design complete: $buildDir"
   ]
  },
  {
   "cell_type": "markdown",
   "metadata": {},
   "source": [
    "## SIPSim pipeline"
   ]
  },
  {
   "cell_type": "code",
   "execution_count": 182,
   "metadata": {
    "collapsed": false
   },
   "outputs": [
    {
     "data": {
      "text/plain": [
       "'/home/nick/notebook/SIPSim/dev/bac_genome1147/atomIncorp_taxaIncorp/SIPSimRun_SIPSim-pipeline.sh'"
      ]
     },
     "execution_count": 182,
     "metadata": {},
     "output_type": "execute_result"
    }
   ],
   "source": [
    "bashFileTmp = os.path.splitext(bashFile)[0] + '_SIPSim-pipeline.sh'\n",
    "bashFileTmp"
   ]
  },
  {
   "cell_type": "code",
   "execution_count": 183,
   "metadata": {
    "collapsed": false
   },
   "outputs": [
    {
     "name": "stdout",
     "output_type": "stream",
     "text": [
      "Writing /home/nick/notebook/SIPSim/dev/bac_genome1147/atomIncorp_taxaIncorp/SIPSimRun_SIPSim-pipeline.sh\n"
     ]
    }
   ],
   "source": [
    "%%writefile $bashFileTmp\n",
    "#!/bin/bash\n",
    "\n",
    "echo '#-- SIPSim pipeline --#'    \n",
    "    \n",
    "echo '# Adding diffusion'    \n",
    "SIPSim diffusion \\\n",
    "    -n {Monte_rep} \\\n",
    "    --bw {bandwidth} \\\n",
    "    --np {np} \\\n",
    "    {fragFile} \\\n",
    "    > ampFrags_KDE_dif.pkl    \n",
    "\n",
    "echo '# Adding DBL contamination; abundance-weighted smearing'\n",
    "SIPSim DBL \\\n",
    "    -n {Monte_rep} \\\n",
    "    --comm comm.txt \\\n",
    "    --commx {DBL_scaling} \\\n",
    "    --np {np} \\\n",
    "    ampFrags_KDE_dif.pkl \\\n",
    "    > ampFrags_KDE_dif_DBL.pkl \n",
    "\n",
    "echo '# Adding isotope incorporation to BD distribution'\n",
    "SIPSim isotope_incorp \\\n",
    "    -n {Monte_rep} \\\n",
    "    --comm comm.txt \\\n",
    "    --taxa incorporators.txt \\\n",
    "    --np {np} \\\n",
    "    ampFrags_KDE_dif_DBL.pkl \\\n",
    "    incorp.config \\\n",
    "    > ampFrags_KDE_dif_DBL_inc.pkl\n",
    "\n",
    "echo '# Simulating an OTU table'\n",
    "SIPSim OTU_table \\\n",
    "    --abs {abs} \\\n",
    "    --np {np} \\\n",
    "    ampFrags_KDE_dif_DBL_inc.pkl \\\n",
    "    comm.txt \\\n",
    "    fracs.txt \\\n",
    "    > OTU_abs{abs}.txt\n",
    "    \n",
    "echo '# Simulating PCR'\n",
    "SIPSim OTU_PCR \\\n",
    "    OTU_abs{abs}.txt \\\n",
    "    > OTU_abs{abs}_PCR.txt    \n",
    "    \n",
    "echo '# Subsampling from the OTU table (simulating sequencing of the DNA pool)'\n",
    "SIPSim OTU_subsample \\\n",
    "    --dist {subsample_dist} \\\n",
    "    --dist_params mean:{subsample_mean},sigma:{subsample_scale} \\\n",
    "    --min_size {subsample_min} \\\n",
    "    --max_size {subsample_max} \\\n",
    "    OTU_abs{abs}_PCR.txt \\\n",
    "    > OTU_abs{abs}_PCR_sub.txt\n",
    "        \n",
    "echo '# Making a wide-formatted table'\n",
    "SIPSim OTU_wideLong -w \\\n",
    "    OTU_abs{abs}_PCR_sub.txt \\\n",
    "    > OTU_abs{abs}_PCR_sub_w.txt\n",
    "    \n",
    "echo '# Making metadata (phyloseq: sample_data)'\n",
    "SIPSim OTU_sampleData \\\n",
    "    OTU_abs{abs}_PCR_sub.txt \\\n",
    "    > OTU_abs{abs}_PCR_sub_meta.txt\n",
    "       \n",
    "\n",
    "#-- removing large intermediate files --#\n",
    "rm -f ampFrags_KDE_dif.pkl\n",
    "rm -f ampFrags_KDE_dif_DBL.pkl\n",
    "rm -f ampFrags_KDE_dif_DBL_inc.pkl    "
   ]
  },
  {
   "cell_type": "code",
   "execution_count": null,
   "metadata": {
    "collapsed": false
   },
   "outputs": [
    {
     "name": "stdout",
     "output_type": "stream",
     "text": [
      "2016-03-28 07:01:04,305 * INFO * Template: ./SIPSimRun.sh\n",
      "2016-03-28 07:01:04,307 * INFO * [167960] Started ./SIPSimRun.sh in atomIncorp_taxaIncorp/50/50/7\n",
      "2016-03-28 07:01:04,308 * INFO * [167961] Started ./SIPSimRun.sh in atomIncorp_taxaIncorp/50/50/9\n",
      "2016-03-28 07:32:58,553 * INFO * [167961] atomIncorp_taxaIncorp/50/50/9 Finished with 0\n",
      "2016-03-28 07:32:58,631 * INFO * [168813] Started ./SIPSimRun.sh in atomIncorp_taxaIncorp/50/50/8\n",
      "2016-03-28 07:38:10,926 * INFO * [167960] atomIncorp_taxaIncorp/50/50/7 Finished with 0\n",
      "2016-03-28 07:38:10,952 * INFO * [169053] Started ./SIPSimRun.sh in atomIncorp_taxaIncorp/50/50/3\n",
      "2016-03-28 08:06:02,932 * INFO * [168813] atomIncorp_taxaIncorp/50/50/8 Finished with 0\n",
      "2016-03-28 08:06:02,954 * INFO * [170001] Started ./SIPSimRun.sh in atomIncorp_taxaIncorp/50/50/10\n",
      "2016-03-28 08:08:42,327 * INFO * [169053] atomIncorp_taxaIncorp/50/50/3 Finished with 0\n",
      "2016-03-28 08:08:42,345 * INFO * [170196] Started ./SIPSimRun.sh in atomIncorp_taxaIncorp/50/50/2\n",
      "2016-03-28 08:39:03,498 * INFO * [170001] atomIncorp_taxaIncorp/50/50/10 Finished with 0\n",
      "2016-03-28 08:39:03,540 * INFO * [172697] Started ./SIPSimRun.sh in atomIncorp_taxaIncorp/50/50/1\n",
      "2016-03-28 08:42:20,119 * INFO * [170196] atomIncorp_taxaIncorp/50/50/2 Finished with 0\n",
      "2016-03-28 08:42:20,144 * INFO * [172903] Started ./SIPSimRun.sh in atomIncorp_taxaIncorp/50/50/4\n",
      "2016-03-28 09:11:29,884 * INFO * [172697] atomIncorp_taxaIncorp/50/50/1 Finished with 0\n",
      "2016-03-28 09:11:29,930 * INFO * [174904] Started ./SIPSimRun.sh in atomIncorp_taxaIncorp/50/50/5\n",
      "2016-03-28 09:17:00,806 * INFO * [172903] atomIncorp_taxaIncorp/50/50/4 Finished with 0\n",
      "2016-03-28 09:17:00,828 * INFO * [175238] Started ./SIPSimRun.sh in atomIncorp_taxaIncorp/50/50/6\n",
      "2016-03-28 09:42:28,383 * INFO * [174904] atomIncorp_taxaIncorp/50/50/5 Finished with 0\n",
      "2016-03-28 09:42:28,440 * INFO * [177635] Started ./SIPSimRun.sh in atomIncorp_taxaIncorp/50/25/7\n",
      "2016-03-28 09:51:10,453 * INFO * [175238] atomIncorp_taxaIncorp/50/50/6 Finished with 0\n",
      "2016-03-28 09:51:10,470 * INFO * [178973] Started ./SIPSimRun.sh in atomIncorp_taxaIncorp/50/25/9\n",
      "2016-03-28 10:14:14,309 * INFO * [177635] atomIncorp_taxaIncorp/50/25/7 Finished with 0\n",
      "2016-03-28 10:14:14,323 * INFO * [180787] Started ./SIPSimRun.sh in atomIncorp_taxaIncorp/50/25/8\n",
      "2016-03-28 10:23:30,493 * INFO * [178973] atomIncorp_taxaIncorp/50/25/9 Finished with 0\n",
      "2016-03-28 10:23:30,520 * INFO * [181770] Started ./SIPSimRun.sh in atomIncorp_taxaIncorp/50/25/3\n",
      "2016-03-28 10:48:40,206 * INFO * [180787] atomIncorp_taxaIncorp/50/25/8 Finished with 0\n",
      "2016-03-28 10:48:40,227 * INFO * [184107] Started ./SIPSimRun.sh in atomIncorp_taxaIncorp/50/25/10\n",
      "2016-03-28 10:52:40,062 * INFO * [181770] atomIncorp_taxaIncorp/50/25/3 Finished with 0\n",
      "2016-03-28 10:52:40,075 * INFO * [184731] Started ./SIPSimRun.sh in atomIncorp_taxaIncorp/50/25/2\n",
      "2016-03-28 11:18:14,366 * INFO * [184107] atomIncorp_taxaIncorp/50/25/10 Finished with 0\n",
      "2016-03-28 11:18:14,402 * INFO * [185986] Started ./SIPSimRun.sh in atomIncorp_taxaIncorp/50/25/1\n",
      "2016-03-28 11:23:56,213 * INFO * [184731] atomIncorp_taxaIncorp/50/25/2 Finished with 0\n",
      "2016-03-28 11:23:56,215 * INFO * [186585] Started ./SIPSimRun.sh in atomIncorp_taxaIncorp/50/25/4\n",
      "2016-03-28 11:51:12,603 * INFO * [185986] atomIncorp_taxaIncorp/50/25/1 Finished with 0\n",
      "2016-03-28 11:51:12,635 * INFO * [187437] Started ./SIPSimRun.sh in atomIncorp_taxaIncorp/50/25/5\n",
      "2016-03-28 11:56:17,298 * INFO * [186585] atomIncorp_taxaIncorp/50/25/4 Finished with 0\n",
      "2016-03-28 11:56:17,300 * INFO * [187618] Started ./SIPSimRun.sh in atomIncorp_taxaIncorp/50/25/6\n",
      "2016-03-28 12:23:02,834 * INFO * [187437] atomIncorp_taxaIncorp/50/25/5 Finished with 0\n",
      "2016-03-28 12:23:02,879 * INFO * [188816] Started ./SIPSimRun.sh in atomIncorp_taxaIncorp/50/10/7\n",
      "2016-03-28 12:28:43,567 * INFO * [187618] atomIncorp_taxaIncorp/50/25/6 Finished with 0\n",
      "2016-03-28 12:28:43,569 * INFO * [189023] Started ./SIPSimRun.sh in atomIncorp_taxaIncorp/50/10/9\n",
      "2016-03-28 12:54:16,127 * INFO * [188816] atomIncorp_taxaIncorp/50/10/7 Finished with 0\n",
      "2016-03-28 12:54:16,136 * INFO * [190833] Started ./SIPSimRun.sh in atomIncorp_taxaIncorp/50/10/8\n",
      "2016-03-28 13:02:31,121 * INFO * [189023] atomIncorp_taxaIncorp/50/10/9 Finished with 0\n",
      "2016-03-28 13:02:31,148 * INFO * [191102] Started ./SIPSimRun.sh in atomIncorp_taxaIncorp/50/10/3\n",
      "2016-03-29 07:06:36,686 * INFO * [228676] atomIncorp_taxaIncorp/0/1/5 Finished with 0\n",
      "2016-03-29 07:06:36,688 * INFO * [231931] Started ./SIPSimRun.sh in atomIncorp_taxaIncorp/0/5/7\n",
      "2016-03-29 07:13:50,275 * INFO * [229034] atomIncorp_taxaIncorp/0/1/6 Finished with 0\n",
      "2016-03-29 07:13:50,297 * INFO * [232285] Started ./SIPSimRun.sh in atomIncorp_taxaIncorp/0/5/9\n",
      "2016-03-29 07:40:20,328 * INFO * [231931] atomIncorp_taxaIncorp/0/5/7 Finished with 0\n",
      "2016-03-29 07:40:20,374 * INFO * [233543] Started ./SIPSimRun.sh in atomIncorp_taxaIncorp/0/5/8\n",
      "2016-03-29 07:47:19,857 * INFO * [232285] atomIncorp_taxaIncorp/0/5/9 Finished with 0\n",
      "2016-03-29 07:47:19,887 * INFO * [233740] Started ./SIPSimRun.sh in atomIncorp_taxaIncorp/0/5/3\n",
      "2016-03-29 08:16:14,651 * INFO * [233543] atomIncorp_taxaIncorp/0/5/8 Finished with 0\n",
      "2016-03-29 08:16:14,718 * INFO * [234489] Started ./SIPSimRun.sh in atomIncorp_taxaIncorp/0/5/10\n",
      "2016-03-29 08:24:10,756 * INFO * [233740] atomIncorp_taxaIncorp/0/5/3 Finished with 0\n",
      "2016-03-29 08:24:10,770 * INFO * [234721] Started ./SIPSimRun.sh in atomIncorp_taxaIncorp/0/5/2\n",
      "2016-03-29 08:50:49,669 * INFO * [234489] atomIncorp_taxaIncorp/0/5/10 Finished with 0\n",
      "2016-03-29 08:50:49,731 * INFO * [235565] Started ./SIPSimRun.sh in atomIncorp_taxaIncorp/0/5/1\n",
      "2016-03-29 08:57:11,648 * INFO * [234721] atomIncorp_taxaIncorp/0/5/2 Finished with 0\n",
      "2016-03-29 08:57:11,663 * INFO * [235763] Started ./SIPSimRun.sh in atomIncorp_taxaIncorp/0/5/4\n",
      "2016-03-29 09:21:34,748 * INFO * [235565] atomIncorp_taxaIncorp/0/5/1 Finished with 0\n",
      "2016-03-29 09:21:34,783 * INFO * [236454] Started ./SIPSimRun.sh in atomIncorp_taxaIncorp/0/5/5\n",
      "2016-03-29 09:26:49,715 * INFO * [235763] atomIncorp_taxaIncorp/0/5/4 Finished with 0\n",
      "2016-03-29 09:26:49,718 * INFO * [236630] Started ./SIPSimRun.sh in atomIncorp_taxaIncorp/0/5/6\n",
      "2016-03-29 09:52:04,756 * INFO * [236454] atomIncorp_taxaIncorp/0/5/5 Finished with 0\n",
      "2016-03-29 09:52:04,775 * INFO * [237192] Started ./SIPSimRun.sh in atomIncorp_taxaIncorp/100/50/7\n",
      "2016-03-29 09:55:02,245 * INFO * [236630] atomIncorp_taxaIncorp/0/5/6 Finished with 0\n",
      "2016-03-29 09:55:02,260 * INFO * [237351] Started ./SIPSimRun.sh in atomIncorp_taxaIncorp/100/50/9\n",
      "2016-03-29 10:23:46,918 * INFO * [237192] atomIncorp_taxaIncorp/100/50/7 Finished with 0\n",
      "2016-03-29 10:23:46,931 * INFO * [237876] Started ./SIPSimRun.sh in atomIncorp_taxaIncorp/100/50/8\n",
      "2016-03-29 10:24:06,294 * INFO * [237351] atomIncorp_taxaIncorp/100/50/9 Finished with 0\n",
      "2016-03-29 10:24:06,311 * INFO * [238012] Started ./SIPSimRun.sh in atomIncorp_taxaIncorp/100/50/3\n",
      "2016-03-29 10:54:35,039 * INFO * [238012] atomIncorp_taxaIncorp/100/50/3 Finished with 0\n",
      "2016-03-29 10:54:35,052 * INFO * [239073] Started ./SIPSimRun.sh in atomIncorp_taxaIncorp/100/50/10\n",
      "2016-03-29 10:56:01,736 * INFO * [237876] atomIncorp_taxaIncorp/100/50/8 Finished with 0\n",
      "2016-03-29 10:56:01,749 * INFO * [239249] Started ./SIPSimRun.sh in atomIncorp_taxaIncorp/100/50/2\n",
      "2016-03-29 11:22:36,439 * INFO * [239073] atomIncorp_taxaIncorp/100/50/10 Finished with 0\n",
      "2016-03-29 11:22:36,453 * INFO * [239804] Started ./SIPSimRun.sh in atomIncorp_taxaIncorp/100/50/1\n",
      "2016-03-29 11:29:09,128 * INFO * [239249] atomIncorp_taxaIncorp/100/50/2 Finished with 0\n",
      "2016-03-29 11:29:09,143 * INFO * [240743] Started ./SIPSimRun.sh in atomIncorp_taxaIncorp/100/50/4\n"
     ]
    }
   ],
   "source": [
    "!chmod 777 $bashFileTmp\n",
    "!cd $workDir; \\\n",
    "    nestrun --template-file $bashFileTmp -d $buildDir --log-file SIPSim_pipeline.log -j 2"
   ]
  },
  {
   "cell_type": "code",
   "execution_count": null,
   "metadata": {
    "collapsed": true
   },
   "outputs": [],
   "source": [
    "%pushnote SIPSim pipeline complete: $buildDir"
   ]
  },
  {
   "cell_type": "markdown",
   "metadata": {},
   "source": [
    "## Summary of simulated data"
   ]
  },
  {
   "cell_type": "code",
   "execution_count": 198,
   "metadata": {
    "collapsed": false
   },
   "outputs": [
    {
     "data": {
      "text/plain": [
       "'/home/nick/notebook/SIPSim/dev/bac_genome1147/atomIncorp_taxaIncorp/SIPSimRun_SIPSim-summary.sh'"
      ]
     },
     "execution_count": 198,
     "metadata": {},
     "output_type": "execute_result"
    }
   ],
   "source": [
    "bashFileTmp = os.path.splitext(bashFile)[0] + '_SIPSim-summary.sh'\n",
    "bashFileTmp"
   ]
  },
  {
   "cell_type": "code",
   "execution_count": 199,
   "metadata": {
    "collapsed": false
   },
   "outputs": [
    {
     "name": "stdout",
     "output_type": "stream",
     "text": [
      "Writing /home/nick/notebook/SIPSim/dev/bac_genome1147/atomIncorp_taxaIncorp/SIPSimRun_SIPSim-summary.sh\n"
     ]
    }
   ],
   "source": [
    "%%writefile $bashFileTmp\n",
    "#!/bin/bash\n",
    "   \n",
    "# plotting 'raw' taxon abundances\n",
    "SIPSimR OTU_taxonAbund \\\n",
    "    OTU_abs{abs}.txt \\\n",
    "    -r {topTaxaToPlot} \\\n",
    "    -o OTU_abs{abs}\n",
    "\n",
    "# plotting 'sequenced' taxon abundances\n",
    "SIPSimR OTU_taxonAbund \\\n",
    "    OTU_abs{abs}_PCR_sub.txt \\\n",
    "    -r {topTaxaToPlot} \\\n",
    "    -o OTU_abs{abs}_PCR_sub"
   ]
  },
  {
   "cell_type": "code",
   "execution_count": null,
   "metadata": {
    "collapsed": false
   },
   "outputs": [],
   "source": [
    "!chmod 777 $bashFileTmp\n",
    "!cd $workDir; \\\n",
    "    nestrun --template-file $bashFileTmp -d $buildDir --log-file SIPSim_summary.log -j 10"
   ]
  },
  {
   "cell_type": "markdown",
   "metadata": {},
   "source": [
    "## HR-SIP: DESeq2"
   ]
  },
  {
   "cell_type": "code",
   "execution_count": 185,
   "metadata": {
    "collapsed": false
   },
   "outputs": [
    {
     "data": {
      "text/plain": [
       "'/home/nick/notebook/SIPSim/dev/bac_genome1147/atomIncorp_taxaIncorp/SIPSimRun_HRSIP.sh'"
      ]
     },
     "execution_count": 185,
     "metadata": {},
     "output_type": "execute_result"
    }
   ],
   "source": [
    "bashFileTmp = os.path.splitext(bashFile)[0] + '_HRSIP.sh'\n",
    "bashFileTmp"
   ]
  },
  {
   "cell_type": "code",
   "execution_count": 186,
   "metadata": {
    "collapsed": false
   },
   "outputs": [
    {
     "name": "stdout",
     "output_type": "stream",
     "text": [
      "Writing /home/nick/notebook/SIPSim/dev/bac_genome1147/atomIncorp_taxaIncorp/SIPSimRun_HRSIP.sh\n"
     ]
    }
   ],
   "source": [
    "%%writefile $bashFileTmp\n",
    "#!/bin/bash\n",
    "\n",
    "# phyloseq\n",
    "## making phyloseq object from OTU table\n",
    "SIPSimR phyloseq_make \\\n",
    "    OTU_abs{abs}_PCR_sub_w.txt \\\n",
    "    -s OTU_abs{abs}_PCR_sub_meta.txt \\\n",
    "    > OTU_abs{abs}_PCR_sub.physeq\n",
    "\n",
    "## filtering phyloseq object to just 'heavy' fractions\n",
    "SIPSimR phyloseq_edit \\\n",
    "    OTU_abs{abs}_PCR_sub.physeq \\\n",
    "    --BD_min {heavy_BD_min} \\\n",
    "    --BD_max {heavy_BD_max} \\\n",
    "    > OTU_abs{abs}_PCR_sub_filt.physeq\n",
    "\n",
    "## making ordination\n",
    "SIPSimR phyloseq_ordination \\\n",
    "    OTU_abs{abs}_PCR_sub_filt.physeq \\\n",
    "    OTU_abs{abs}_PCR_sub_filt_bray-NMDS.pdf\n",
    "\n",
    "# DESeq2\n",
    "SIPSimR phyloseq_DESeq2 \\\n",
    "    --log2 {log2} \\\n",
    "    --hypo greater \\\n",
    "    --cont 1,3,5 \\\n",
    "    --treat 2,4,6 \\\n",
    "    OTU_abs{abs}_PCR_sub_filt.physeq \\\n",
    "    > OTU_abs{abs}_PCR_sub_filt_DESeq2"
   ]
  },
  {
   "cell_type": "code",
   "execution_count": null,
   "metadata": {
    "collapsed": false
   },
   "outputs": [],
   "source": [
    "!chmod 777 $bashFileTmp\n",
    "!cd $workDir; \\\n",
    "    nestrun --template-file $bashFileTmp -d $buildDir --log-file HR-SIP.log -j 10"
   ]
  },
  {
   "cell_type": "code",
   "execution_count": null,
   "metadata": {
    "collapsed": true
   },
   "outputs": [],
   "source": [
    "%pushnote HR-SIP complete: $buildDir"
   ]
  },
  {
   "cell_type": "markdown",
   "metadata": {},
   "source": [
    "## qSIP"
   ]
  },
  {
   "cell_type": "code",
   "execution_count": 105,
   "metadata": {
    "collapsed": false
   },
   "outputs": [
    {
     "data": {
      "text/plain": [
       "'/home/nick/notebook/SIPSim/dev/bac_genome1147/atomIncorp_taxaIncorp/SIPSimRun_qSIP.sh'"
      ]
     },
     "execution_count": 105,
     "metadata": {},
     "output_type": "execute_result"
    }
   ],
   "source": [
    "bashFileTmp = os.path.splitext(bashFile)[0] + '_qSIP.sh'\n",
    "bashFileTmp"
   ]
  },
  {
   "cell_type": "code",
   "execution_count": 106,
   "metadata": {
    "collapsed": false
   },
   "outputs": [
    {
     "name": "stdout",
     "output_type": "stream",
     "text": [
      "Overwriting /home/nick/notebook/SIPSim/dev/bac_genome1147/atomIncorp_taxaIncorp/SIPSimRun_qSIP.sh\n"
     ]
    }
   ],
   "source": [
    "%%writefile $bashFileTmp\n",
    "#!/bin/bash\n",
    "\n",
    "\n",
    "# qSIP\n",
    "SIPSim qSIP \\\n",
    "    OTU_abs{abs}.txt \\\n",
    "    OTU_abs{abs}_PCR_sub.txt \\\n",
    "    > OTU_abs{abs}_PCR_sub_qSIP.txt\n",
    "        \n",
    "\n",
    "# qSIP: atom excess\n",
    "SIPSim qSIP_atomExcess \\\n",
    "    --np {np} \\\n",
    "    OTU_abs{abs}_PCR_sub_qSIP.txt \\\n",
    "    {exp_design} \\\n",
    "    > OTU_abs{abs}_PCR_sub_qSIP_atom.txt  "
   ]
  },
  {
   "cell_type": "code",
   "execution_count": null,
   "metadata": {
    "collapsed": false
   },
   "outputs": [
    {
     "name": "stdout",
     "output_type": "stream",
     "text": [
      "2016-04-07 13:06:21,844 * INFO * Template: ./SIPSimRun_qSIP.sh\n",
      "2016-04-07 13:06:21,867 * INFO * [116857] Started ./SIPSimRun_qSIP.sh in /home/nick/notebook/SIPSim/dev/bac_genome1147/atomIncorp_taxaIncorp/50/50/7\n",
      "2016-04-07 13:06:21,874 * INFO * [116859] Started ./SIPSimRun_qSIP.sh in /home/nick/notebook/SIPSim/dev/bac_genome1147/atomIncorp_taxaIncorp/50/50/9\n"
     ]
    }
   ],
   "source": [
    "!chmod 777 $bashFileTmp\n",
    "!cd $workDir; \\\n",
    "    nestrun --template-file $bashFileTmp -d $buildDir --log-file qSIP.log -j 2"
   ]
  },
  {
   "cell_type": "code",
   "execution_count": null,
   "metadata": {
    "collapsed": true
   },
   "outputs": [],
   "source": [
    "%pushnote qSIP complete: $buildDir"
   ]
  },
  {
   "cell_type": "markdown",
   "metadata": {},
   "source": [
    "## deltaBD"
   ]
  },
  {
   "cell_type": "code",
   "execution_count": 86,
   "metadata": {
    "collapsed": false
   },
   "outputs": [
    {
     "data": {
      "text/plain": [
       "'/home/nick/notebook/SIPSim/dev/bac_genome1147/atomIncorp_taxaIncorp/SIPSimRun_dBD.sh'"
      ]
     },
     "execution_count": 86,
     "metadata": {},
     "output_type": "execute_result"
    }
   ],
   "source": [
    "bashFileTmp = os.path.splitext(bashFile)[0] + '_dBD.sh'\n",
    "bashFileTmp"
   ]
  },
  {
   "cell_type": "code",
   "execution_count": 87,
   "metadata": {
    "collapsed": false
   },
   "outputs": [
    {
     "name": "stdout",
     "output_type": "stream",
     "text": [
      "Writing /home/nick/notebook/SIPSim/dev/bac_genome1147/atomIncorp_taxaIncorp/SIPSimRun_dBD.sh\n"
     ]
    }
   ],
   "source": [
    "%%writefile $bashFileTmp\n",
    "#!/bin/bash\n",
    "\n",
    "#deltaBD \n",
    "SIPSim deltaBD \\\n",
    "    OTU_abs{abs}_PCR_sub.txt \\\n",
    "    {exp_design} \\\n",
    "    > OTU_abs{abs}_PCR_sub_dBD.txt  "
   ]
  },
  {
   "cell_type": "code",
   "execution_count": 89,
   "metadata": {
    "collapsed": false
   },
   "outputs": [
    {
     "name": "stdout",
     "output_type": "stream",
     "text": [
      "2016-04-26 11:44:36,592 * INFO * Template: ./SIPSimRun_dBD.sh\n",
      "2016-04-26 11:44:36,594 * INFO * [223246] Started ./SIPSimRun_dBD.sh in /home/nick/notebook/SIPSim/dev/bac_genome1147/atomIncorp_taxaIncorp/50/50/7\n",
      "2016-04-26 11:44:36,596 * INFO * [223247] Started ./SIPSimRun_dBD.sh in /home/nick/notebook/SIPSim/dev/bac_genome1147/atomIncorp_taxaIncorp/50/50/9\n",
      "2016-04-26 11:44:36,599 * INFO * [223249] Started ./SIPSimRun_dBD.sh in /home/nick/notebook/SIPSim/dev/bac_genome1147/atomIncorp_taxaIncorp/50/50/8\n",
      "2016-04-26 11:44:36,603 * INFO * [223251] Started ./SIPSimRun_dBD.sh in /home/nick/notebook/SIPSim/dev/bac_genome1147/atomIncorp_taxaIncorp/50/50/3\n",
      "2016-04-26 11:44:36,606 * INFO * [223253] Started ./SIPSimRun_dBD.sh in /home/nick/notebook/SIPSim/dev/bac_genome1147/atomIncorp_taxaIncorp/50/50/10\n",
      "2016-04-26 11:44:36,608 * INFO * [223256] Started ./SIPSimRun_dBD.sh in /home/nick/notebook/SIPSim/dev/bac_genome1147/atomIncorp_taxaIncorp/50/50/2\n",
      "2016-04-26 11:44:36,610 * INFO * [223257] Started ./SIPSimRun_dBD.sh in /home/nick/notebook/SIPSim/dev/bac_genome1147/atomIncorp_taxaIncorp/50/50/1\n",
      "2016-04-26 11:44:36,611 * INFO * [223259] Started ./SIPSimRun_dBD.sh in /home/nick/notebook/SIPSim/dev/bac_genome1147/atomIncorp_taxaIncorp/50/50/4\n",
      "2016-04-26 11:44:36,613 * INFO * [223261] Started ./SIPSimRun_dBD.sh in /home/nick/notebook/SIPSim/dev/bac_genome1147/atomIncorp_taxaIncorp/50/50/5\n",
      "2016-04-26 11:44:36,614 * INFO * [223263] Started ./SIPSimRun_dBD.sh in /home/nick/notebook/SIPSim/dev/bac_genome1147/atomIncorp_taxaIncorp/50/50/6\n",
      "2016-04-26 11:44:40,779 * INFO * [223257] /home/nick/notebook/SIPSim/dev/bac_genome1147/atomIncorp_taxaIncorp/50/50/1 Finished with 0\n",
      "2016-04-26 11:44:40,781 * INFO * [223536] Started ./SIPSimRun_dBD.sh in /home/nick/notebook/SIPSim/dev/bac_genome1147/atomIncorp_taxaIncorp/50/25/7\n",
      "2016-04-26 11:44:40,886 * INFO * [223249] /home/nick/notebook/SIPSim/dev/bac_genome1147/atomIncorp_taxaIncorp/50/50/8 Finished with 0\n",
      "2016-04-26 11:44:40,888 * INFO * [223538] Started ./SIPSimRun_dBD.sh in /home/nick/notebook/SIPSim/dev/bac_genome1147/atomIncorp_taxaIncorp/50/25/9\n",
      "2016-04-26 11:44:41,007 * INFO * [223263] /home/nick/notebook/SIPSim/dev/bac_genome1147/atomIncorp_taxaIncorp/50/50/6 Finished with 0\n",
      "2016-04-26 11:44:41,009 * INFO * [223540] Started ./SIPSimRun_dBD.sh in /home/nick/notebook/SIPSim/dev/bac_genome1147/atomIncorp_taxaIncorp/50/25/8\n",
      "2016-04-26 11:44:41,062 * INFO * [223261] /home/nick/notebook/SIPSim/dev/bac_genome1147/atomIncorp_taxaIncorp/50/50/5 Finished with 0\n",
      "2016-04-26 11:44:41,065 * INFO * [223542] Started ./SIPSimRun_dBD.sh in /home/nick/notebook/SIPSim/dev/bac_genome1147/atomIncorp_taxaIncorp/50/25/3\n",
      "2016-04-26 11:44:41,074 * INFO * [223256] /home/nick/notebook/SIPSim/dev/bac_genome1147/atomIncorp_taxaIncorp/50/50/2 Finished with 0\n",
      "2016-04-26 11:44:41,076 * INFO * [223544] Started ./SIPSimRun_dBD.sh in /home/nick/notebook/SIPSim/dev/bac_genome1147/atomIncorp_taxaIncorp/50/25/10\n",
      "2016-04-26 11:44:41,076 * INFO * [223246] /home/nick/notebook/SIPSim/dev/bac_genome1147/atomIncorp_taxaIncorp/50/50/7 Finished with 0\n",
      "2016-04-26 11:44:41,077 * INFO * [223545] Started ./SIPSimRun_dBD.sh in /home/nick/notebook/SIPSim/dev/bac_genome1147/atomIncorp_taxaIncorp/50/25/2\n",
      "2016-04-26 11:44:41,088 * INFO * [223251] /home/nick/notebook/SIPSim/dev/bac_genome1147/atomIncorp_taxaIncorp/50/50/3 Finished with 0\n",
      "2016-04-26 11:44:41,089 * INFO * [223548] Started ./SIPSimRun_dBD.sh in /home/nick/notebook/SIPSim/dev/bac_genome1147/atomIncorp_taxaIncorp/50/25/1\n",
      "2016-04-26 11:44:41,170 * INFO * [223259] /home/nick/notebook/SIPSim/dev/bac_genome1147/atomIncorp_taxaIncorp/50/50/4 Finished with 0\n",
      "2016-04-26 11:44:41,172 * INFO * [223551] Started ./SIPSimRun_dBD.sh in /home/nick/notebook/SIPSim/dev/bac_genome1147/atomIncorp_taxaIncorp/50/25/4\n",
      "2016-04-26 11:44:41,709 * INFO * [223253] /home/nick/notebook/SIPSim/dev/bac_genome1147/atomIncorp_taxaIncorp/50/50/10 Finished with 0\n",
      "2016-04-26 11:44:41,711 * INFO * [223667] Started ./SIPSimRun_dBD.sh in /home/nick/notebook/SIPSim/dev/bac_genome1147/atomIncorp_taxaIncorp/50/25/5\n",
      "2016-04-26 11:44:42,177 * INFO * [223247] /home/nick/notebook/SIPSim/dev/bac_genome1147/atomIncorp_taxaIncorp/50/50/9 Finished with 0\n",
      "2016-04-26 11:44:42,179 * INFO * [223772] Started ./SIPSimRun_dBD.sh in /home/nick/notebook/SIPSim/dev/bac_genome1147/atomIncorp_taxaIncorp/50/25/6\n",
      "2016-04-26 11:44:44,860 * INFO * [223538] /home/nick/notebook/SIPSim/dev/bac_genome1147/atomIncorp_taxaIncorp/50/25/9 Finished with 0\n",
      "2016-04-26 11:44:44,862 * INFO * [223835] Started ./SIPSimRun_dBD.sh in /home/nick/notebook/SIPSim/dev/bac_genome1147/atomIncorp_taxaIncorp/50/10/7\n",
      "2016-04-26 11:44:45,108 * INFO * [223536] /home/nick/notebook/SIPSim/dev/bac_genome1147/atomIncorp_taxaIncorp/50/25/7 Finished with 0\n",
      "2016-04-26 11:44:45,130 * INFO * [223837] Started ./SIPSimRun_dBD.sh in /home/nick/notebook/SIPSim/dev/bac_genome1147/atomIncorp_taxaIncorp/50/10/9\n",
      "2016-04-26 11:44:45,130 * INFO * [223540] /home/nick/notebook/SIPSim/dev/bac_genome1147/atomIncorp_taxaIncorp/50/25/8 Finished with 0\n",
      "2016-04-26 11:44:45,132 * INFO * [223838] Started ./SIPSimRun_dBD.sh in /home/nick/notebook/SIPSim/dev/bac_genome1147/atomIncorp_taxaIncorp/50/10/8\n",
      "2016-04-26 11:44:45,209 * INFO * [223542] /home/nick/notebook/SIPSim/dev/bac_genome1147/atomIncorp_taxaIncorp/50/25/3 Finished with 0\n",
      "2016-04-26 11:44:45,212 * INFO * [223852] Started ./SIPSimRun_dBD.sh in /home/nick/notebook/SIPSim/dev/bac_genome1147/atomIncorp_taxaIncorp/50/10/3\n",
      "2016-04-26 11:44:45,227 * INFO * [223548] /home/nick/notebook/SIPSim/dev/bac_genome1147/atomIncorp_taxaIncorp/50/25/1 Finished with 0\n",
      "2016-04-26 11:44:45,229 * INFO * [223854] Started ./SIPSimRun_dBD.sh in /home/nick/notebook/SIPSim/dev/bac_genome1147/atomIncorp_taxaIncorp/50/10/10\n",
      "2016-04-26 11:44:45,243 * INFO * [223545] /home/nick/notebook/SIPSim/dev/bac_genome1147/atomIncorp_taxaIncorp/50/25/2 Finished with 0\n",
      "2016-04-26 11:44:45,244 * INFO * [223856] Started ./SIPSimRun_dBD.sh in /home/nick/notebook/SIPSim/dev/bac_genome1147/atomIncorp_taxaIncorp/50/10/2\n",
      "2016-04-26 11:44:45,333 * INFO * [223544] /home/nick/notebook/SIPSim/dev/bac_genome1147/atomIncorp_taxaIncorp/50/25/10 Finished with 0\n",
      "2016-04-26 11:44:45,335 * INFO * [223860] Started ./SIPSimRun_dBD.sh in /home/nick/notebook/SIPSim/dev/bac_genome1147/atomIncorp_taxaIncorp/50/10/1\n",
      "2016-04-26 11:44:45,447 * INFO * [223551] /home/nick/notebook/SIPSim/dev/bac_genome1147/atomIncorp_taxaIncorp/50/25/4 Finished with 0\n",
      "2016-04-26 11:44:45,448 * INFO * [223863] Started ./SIPSimRun_dBD.sh in /home/nick/notebook/SIPSim/dev/bac_genome1147/atomIncorp_taxaIncorp/50/10/4\n",
      "2016-04-26 11:44:45,741 * INFO * [223667] /home/nick/notebook/SIPSim/dev/bac_genome1147/atomIncorp_taxaIncorp/50/25/5 Finished with 0\n",
      "2016-04-26 11:44:45,743 * INFO * [223943] Started ./SIPSimRun_dBD.sh in /home/nick/notebook/SIPSim/dev/bac_genome1147/atomIncorp_taxaIncorp/50/10/5\n",
      "2016-04-26 11:44:46,227 * INFO * [223772] /home/nick/notebook/SIPSim/dev/bac_genome1147/atomIncorp_taxaIncorp/50/25/6 Finished with 0\n",
      "2016-04-26 11:44:46,229 * INFO * [224031] Started ./SIPSimRun_dBD.sh in /home/nick/notebook/SIPSim/dev/bac_genome1147/atomIncorp_taxaIncorp/50/10/6\n",
      "2016-04-26 11:44:49,251 * INFO * [223838] /home/nick/notebook/SIPSim/dev/bac_genome1147/atomIncorp_taxaIncorp/50/10/8 Finished with 0\n",
      "2016-04-26 11:44:49,253 * INFO * [224141] Started ./SIPSimRun_dBD.sh in /home/nick/notebook/SIPSim/dev/bac_genome1147/atomIncorp_taxaIncorp/50/1/7\n",
      "2016-04-26 11:44:49,311 * INFO * [223837] /home/nick/notebook/SIPSim/dev/bac_genome1147/atomIncorp_taxaIncorp/50/10/9 Finished with 0\n",
      "2016-04-26 11:44:49,313 * INFO * [224143] Started ./SIPSimRun_dBD.sh in /home/nick/notebook/SIPSim/dev/bac_genome1147/atomIncorp_taxaIncorp/50/1/9\n",
      "2016-04-26 11:44:49,389 * INFO * [223856] /home/nick/notebook/SIPSim/dev/bac_genome1147/atomIncorp_taxaIncorp/50/10/2 Finished with 0\n",
      "2016-04-26 11:44:49,391 * INFO * [224145] Started ./SIPSimRun_dBD.sh in /home/nick/notebook/SIPSim/dev/bac_genome1147/atomIncorp_taxaIncorp/50/1/8\n",
      "2016-04-26 11:44:49,459 * INFO * [223852] /home/nick/notebook/SIPSim/dev/bac_genome1147/atomIncorp_taxaIncorp/50/10/3 Finished with 0\n",
      "2016-04-26 11:44:49,461 * INFO * [224147] Started ./SIPSimRun_dBD.sh in /home/nick/notebook/SIPSim/dev/bac_genome1147/atomIncorp_taxaIncorp/50/1/3\n",
      "2016-04-26 11:44:49,511 * INFO * [223835] /home/nick/notebook/SIPSim/dev/bac_genome1147/atomIncorp_taxaIncorp/50/10/7 Finished with 0\n",
      "2016-04-26 11:44:49,513 * INFO * [224149] Started ./SIPSimRun_dBD.sh in /home/nick/notebook/SIPSim/dev/bac_genome1147/atomIncorp_taxaIncorp/50/1/10\n",
      "2016-04-26 11:44:49,523 * INFO * [223854] /home/nick/notebook/SIPSim/dev/bac_genome1147/atomIncorp_taxaIncorp/50/10/10 Finished with 0\n",
      "2016-04-26 11:44:49,525 * INFO * [224151] Started ./SIPSimRun_dBD.sh in /home/nick/notebook/SIPSim/dev/bac_genome1147/atomIncorp_taxaIncorp/50/1/2\n",
      "2016-04-26 11:44:49,576 * INFO * [223863] /home/nick/notebook/SIPSim/dev/bac_genome1147/atomIncorp_taxaIncorp/50/10/4 Finished with 0\n",
      "2016-04-26 11:44:49,578 * INFO * [224164] Started ./SIPSimRun_dBD.sh in /home/nick/notebook/SIPSim/dev/bac_genome1147/atomIncorp_taxaIncorp/50/1/1\n",
      "2016-04-26 11:44:49,805 * INFO * [223943] /home/nick/notebook/SIPSim/dev/bac_genome1147/atomIncorp_taxaIncorp/50/10/5 Finished with 0\n",
      "2016-04-26 11:44:49,807 * INFO * [224192] Started ./SIPSimRun_dBD.sh in /home/nick/notebook/SIPSim/dev/bac_genome1147/atomIncorp_taxaIncorp/50/1/4\n",
      "2016-04-26 11:44:50,387 * INFO * [223860] /home/nick/notebook/SIPSim/dev/bac_genome1147/atomIncorp_taxaIncorp/50/10/1 Finished with 0\n",
      "2016-04-26 11:44:50,389 * INFO * [224292] Started ./SIPSimRun_dBD.sh in /home/nick/notebook/SIPSim/dev/bac_genome1147/atomIncorp_taxaIncorp/50/1/5\n",
      "2016-04-26 11:44:50,395 * INFO * [224031] /home/nick/notebook/SIPSim/dev/bac_genome1147/atomIncorp_taxaIncorp/50/10/6 Finished with 0\n",
      "2016-04-26 11:44:50,397 * INFO * [224294] Started ./SIPSimRun_dBD.sh in /home/nick/notebook/SIPSim/dev/bac_genome1147/atomIncorp_taxaIncorp/50/1/6\n",
      "**OUTPUT MUTED**"
     ]
    }
   ],
   "source": [
    "!chmod 777 $bashFileTmp\n",
    "!cd $workDir; \\\n",
    "    nestrun --template-file $bashFileTmp -d $buildDir --log-file deltaBD.log -j 10"
   ]
  },
  {
   "cell_type": "code",
   "execution_count": 90,
   "metadata": {
    "collapsed": true
   },
   "outputs": [],
   "source": [
    "%pushnote deltaBD complete: $buildDir"
   ]
  },
  {
   "cell_type": "markdown",
   "metadata": {},
   "source": [
    "## Making confusion matrices"
   ]
  },
  {
   "cell_type": "code",
   "execution_count": 109,
   "metadata": {
    "collapsed": false
   },
   "outputs": [
    {
     "data": {
      "text/plain": [
       "'/home/nick/notebook/SIPSim/dev/bac_genome1147/atomIncorp_taxaIncorp/SIPSimRun_cMtx.sh'"
      ]
     },
     "execution_count": 109,
     "metadata": {},
     "output_type": "execute_result"
    }
   ],
   "source": [
    "bashFileTmp = os.path.splitext(bashFile)[0] + '_cMtx.sh'\n",
    "bashFileTmp"
   ]
  },
  {
   "cell_type": "code",
   "execution_count": 110,
   "metadata": {
    "collapsed": false
   },
   "outputs": [
    {
     "name": "stdout",
     "output_type": "stream",
     "text": [
      "Overwriting /home/nick/notebook/SIPSim/dev/bac_genome1147/atomIncorp_taxaIncorp/SIPSimRun_cMtx.sh\n"
     ]
    }
   ],
   "source": [
    "%%writefile $bashFileTmp\n",
    "#!/bin/bash\n",
    "\n",
    "# HR-SIP\n",
    "SIPSimR DESeq2_confuseMtx \\\n",
    "    --libs 2,4,6 \\\n",
    "    --padj {padj} \\\n",
    "    BD-shift_stats.txt \\\n",
    "    OTU_abs{abs}_PCR_sub_filt_DESeq2\n",
    "\n",
    "# HR-SIP multiple 'heavy' BD windows\n",
    "SIPSimR DESeq2_confuseMtx \\\n",
    "    --libs 2,4,6 \\\n",
    "    --padj {padj} \\\n",
    "    -o DESeq2_multi-cMtx \\\n",
    "    BD-shift_stats.txt \\\n",
    "    OTU_abs1e9_PCR_sub_BD3_DESeq2    \n",
    "    \n",
    "# qSIP    \n",
    "SIPSimR qSIP_confuseMtx \\\n",
    "    --libs 2,4,6 \\\n",
    "    BD-shift_stats.txt \\\n",
    "    OTU_abs{abs}_PCR_sub_qSIP_atom.txt\n",
    "\n",
    "# heavy-SIP    \n",
    "SIPSimR heavy_confuseMtx \\\n",
    "    --libs 2,4,6 \\\n",
    "    BD-shift_stats.txt \\\n",
    "    OTU_abs{abs}_PCR_sub.txt"
   ]
  },
  {
   "cell_type": "code",
   "execution_count": 111,
   "metadata": {
    "collapsed": false,
    "scrolled": false
   },
   "outputs": [
    {
     "name": "stdout",
     "output_type": "stream",
     "text": [
      "2016-04-11 06:47:56,122 * INFO * Template: ./SIPSimRun_cMtx.sh\n",
      "2016-04-11 06:47:56,142 * INFO * [11230] Started ./SIPSimRun_cMtx.sh in /home/nick/notebook/SIPSim/dev/bac_genome1147/atomIncorp_taxaIncorp/50/50/7\n",
      "2016-04-11 06:47:56,144 * INFO * [11231] Started ./SIPSimRun_cMtx.sh in /home/nick/notebook/SIPSim/dev/bac_genome1147/atomIncorp_taxaIncorp/50/50/9\n",
      "2016-04-11 06:47:56,147 * INFO * [11233] Started ./SIPSimRun_cMtx.sh in /home/nick/notebook/SIPSim/dev/bac_genome1147/atomIncorp_taxaIncorp/50/50/8\n",
      "2016-04-11 06:47:56,157 * INFO * [11236] Started ./SIPSimRun_cMtx.sh in /home/nick/notebook/SIPSim/dev/bac_genome1147/atomIncorp_taxaIncorp/50/50/3\n",
      "2016-04-11 06:47:56,160 * INFO * [11238] Started ./SIPSimRun_cMtx.sh in /home/nick/notebook/SIPSim/dev/bac_genome1147/atomIncorp_taxaIncorp/50/50/10\n",
      "2016-04-11 06:47:56,164 * INFO * [11240] Started ./SIPSimRun_cMtx.sh in /home/nick/notebook/SIPSim/dev/bac_genome1147/atomIncorp_taxaIncorp/50/50/2\n",
      "2016-04-11 06:47:56,166 * INFO * [11242] Started ./SIPSimRun_cMtx.sh in /home/nick/notebook/SIPSim/dev/bac_genome1147/atomIncorp_taxaIncorp/50/50/1\n",
      "2016-04-11 06:47:56,168 * INFO * [11244] Started ./SIPSimRun_cMtx.sh in /home/nick/notebook/SIPSim/dev/bac_genome1147/atomIncorp_taxaIncorp/50/50/4\n",
      "2016-04-11 06:47:56,172 * INFO * [11246] Started ./SIPSimRun_cMtx.sh in /home/nick/notebook/SIPSim/dev/bac_genome1147/atomIncorp_taxaIncorp/50/50/5\n",
      "2016-04-11 06:47:56,174 * INFO * [11248] Started ./SIPSimRun_cMtx.sh in /home/nick/notebook/SIPSim/dev/bac_genome1147/atomIncorp_taxaIncorp/50/50/6\n",
      "2016-04-11 06:48:15,713 * INFO * [11231] /home/nick/notebook/SIPSim/dev/bac_genome1147/atomIncorp_taxaIncorp/50/50/9 Finished with 0\n",
      "2016-04-11 06:48:15,729 * INFO * [12421] Started ./SIPSimRun_cMtx.sh in /home/nick/notebook/SIPSim/dev/bac_genome1147/atomIncorp_taxaIncorp/50/25/7\n",
      "2016-04-11 06:48:15,785 * INFO * [11233] /home/nick/notebook/SIPSim/dev/bac_genome1147/atomIncorp_taxaIncorp/50/50/8 Finished with 0\n",
      "2016-04-11 06:48:15,787 * INFO * [12423] Started ./SIPSimRun_cMtx.sh in /home/nick/notebook/SIPSim/dev/bac_genome1147/atomIncorp_taxaIncorp/50/25/9\n",
      "2016-04-11 06:48:16,232 * INFO * [11246] /home/nick/notebook/SIPSim/dev/bac_genome1147/atomIncorp_taxaIncorp/50/50/5 Finished with 0\n",
      "2016-04-11 06:48:16,234 * INFO * [12459] Started ./SIPSimRun_cMtx.sh in /home/nick/notebook/SIPSim/dev/bac_genome1147/atomIncorp_taxaIncorp/50/25/8\n",
      "2016-04-11 06:48:16,565 * INFO * [11240] /home/nick/notebook/SIPSim/dev/bac_genome1147/atomIncorp_taxaIncorp/50/50/2 Finished with 0\n",
      "2016-04-11 06:48:16,572 * INFO * [12482] Started ./SIPSimRun_cMtx.sh in /home/nick/notebook/SIPSim/dev/bac_genome1147/atomIncorp_taxaIncorp/50/25/3\n",
      "2016-04-11 06:48:16,636 * INFO * [11242] /home/nick/notebook/SIPSim/dev/bac_genome1147/atomIncorp_taxaIncorp/50/50/1 Finished with 0\n",
      "2016-04-11 06:48:16,638 * INFO * [12486] Started ./SIPSimRun_cMtx.sh in /home/nick/notebook/SIPSim/dev/bac_genome1147/atomIncorp_taxaIncorp/50/25/10\n",
      "2016-04-11 06:48:16,761 * INFO * [11248] /home/nick/notebook/SIPSim/dev/bac_genome1147/atomIncorp_taxaIncorp/50/50/6 Finished with 0\n",
      "2016-04-11 06:48:16,772 * INFO * [12496] Started ./SIPSimRun_cMtx.sh in /home/nick/notebook/SIPSim/dev/bac_genome1147/atomIncorp_taxaIncorp/50/25/2\n",
      "2016-04-11 06:48:17,225 * INFO * [11244] /home/nick/notebook/SIPSim/dev/bac_genome1147/atomIncorp_taxaIncorp/50/50/4 Finished with 0\n",
      "2016-04-11 06:48:17,238 * INFO * [12551] Started ./SIPSimRun_cMtx.sh in /home/nick/notebook/SIPSim/dev/bac_genome1147/atomIncorp_taxaIncorp/50/25/1\n",
      "2016-04-11 06:48:17,293 * INFO * [11230] /home/nick/notebook/SIPSim/dev/bac_genome1147/atomIncorp_taxaIncorp/50/50/7 Finished with 0\n",
      "2016-04-11 06:48:17,296 * INFO * [12561] Started ./SIPSimRun_cMtx.sh in /home/nick/notebook/SIPSim/dev/bac_genome1147/atomIncorp_taxaIncorp/50/25/4\n",
      "2016-04-11 06:48:17,454 * INFO * [11238] /home/nick/notebook/SIPSim/dev/bac_genome1147/atomIncorp_taxaIncorp/50/50/10 Finished with 0\n",
      "2016-04-11 06:48:17,462 * INFO * [12567] Started ./SIPSimRun_cMtx.sh in /home/nick/notebook/SIPSim/dev/bac_genome1147/atomIncorp_taxaIncorp/50/25/5\n",
      "2016-04-11 06:48:17,463 * INFO * [11236] /home/nick/notebook/SIPSim/dev/bac_genome1147/atomIncorp_taxaIncorp/50/50/3 Finished with 0\n",
      "2016-04-11 06:48:17,465 * INFO * [12569] Started ./SIPSimRun_cMtx.sh in /home/nick/notebook/SIPSim/dev/bac_genome1147/atomIncorp_taxaIncorp/50/25/6\n",
      "2016-04-11 06:48:34,651 * INFO * [12423] /home/nick/notebook/SIPSim/dev/bac_genome1147/atomIncorp_taxaIncorp/50/25/9 Finished with 0\n",
      "2016-04-11 06:48:34,676 * INFO * [13371] Started ./SIPSimRun_cMtx.sh in /home/nick/notebook/SIPSim/dev/bac_genome1147/atomIncorp_taxaIncorp/50/10/7\n",
      "2016-04-11 06:48:34,865 * INFO * [12459] /home/nick/notebook/SIPSim/dev/bac_genome1147/atomIncorp_taxaIncorp/50/25/8 Finished with 0\n",
      "2016-04-11 06:48:34,906 * INFO * [13377] Started ./SIPSimRun_cMtx.sh in /home/nick/notebook/SIPSim/dev/bac_genome1147/atomIncorp_taxaIncorp/50/10/9\n",
      "2016-04-11 06:48:34,954 * INFO * [12421] /home/nick/notebook/SIPSim/dev/bac_genome1147/atomIncorp_taxaIncorp/50/25/7 Finished with 0\n",
      "2016-04-11 06:48:34,956 * INFO * [13390] Started ./SIPSimRun_cMtx.sh in /home/nick/notebook/SIPSim/dev/bac_genome1147/atomIncorp_taxaIncorp/50/10/8\n",
      "2016-04-11 06:48:35,117 * INFO * [12482] /home/nick/notebook/SIPSim/dev/bac_genome1147/atomIncorp_taxaIncorp/50/25/3 Finished with 0\n",
      "2016-04-11 06:48:35,126 * INFO * [13396] Started ./SIPSimRun_cMtx.sh in /home/nick/notebook/SIPSim/dev/bac_genome1147/atomIncorp_taxaIncorp/50/10/3\n",
      "2016-04-11 06:48:35,259 * INFO * [12486] /home/nick/notebook/SIPSim/dev/bac_genome1147/atomIncorp_taxaIncorp/50/25/10 Finished with 0\n",
      "2016-04-11 06:48:35,261 * INFO * [13429] Started ./SIPSimRun_cMtx.sh in /home/nick/notebook/SIPSim/dev/bac_genome1147/atomIncorp_taxaIncorp/50/10/10\n",
      "2016-04-11 06:48:35,515 * INFO * [12561] /home/nick/notebook/SIPSim/dev/bac_genome1147/atomIncorp_taxaIncorp/50/25/4 Finished with 0\n",
      "2016-04-11 06:48:35,526 * INFO * [13486] Started ./SIPSimRun_cMtx.sh in /home/nick/notebook/SIPSim/dev/bac_genome1147/atomIncorp_taxaIncorp/50/10/2\n",
      "2016-04-11 06:48:35,761 * INFO * [12551] /home/nick/notebook/SIPSim/dev/bac_genome1147/atomIncorp_taxaIncorp/50/25/1 Finished with 0\n",
      "2016-04-11 06:48:35,777 * INFO * [13545] Started ./SIPSimRun_cMtx.sh in /home/nick/notebook/SIPSim/dev/bac_genome1147/atomIncorp_taxaIncorp/50/10/1\n",
      "2016-04-11 06:48:36,030 * INFO * [12496] /home/nick/notebook/SIPSim/dev/bac_genome1147/atomIncorp_taxaIncorp/50/25/2 Finished with 0\n",
      "2016-04-11 06:48:36,032 * INFO * [13557] Started ./SIPSimRun_cMtx.sh in /home/nick/notebook/SIPSim/dev/bac_genome1147/atomIncorp_taxaIncorp/50/10/4\n",
      "2016-04-11 06:48:36,359 * INFO * [12567] /home/nick/notebook/SIPSim/dev/bac_genome1147/atomIncorp_taxaIncorp/50/25/5 Finished with 0\n",
      "2016-04-11 06:48:36,362 * INFO * [13586] Started ./SIPSimRun_cMtx.sh in /home/nick/notebook/SIPSim/dev/bac_genome1147/atomIncorp_taxaIncorp/50/10/5\n",
      "2016-04-11 06:48:36,823 * INFO * [12569] /home/nick/notebook/SIPSim/dev/bac_genome1147/atomIncorp_taxaIncorp/50/25/6 Finished with 0\n",
      "2016-04-11 06:48:36,825 * INFO * [13616] Started ./SIPSimRun_cMtx.sh in /home/nick/notebook/SIPSim/dev/bac_genome1147/atomIncorp_taxaIncorp/50/10/6\n",
      "2016-04-11 06:48:53,048 * INFO * [13390] /home/nick/notebook/SIPSim/dev/bac_genome1147/atomIncorp_taxaIncorp/50/10/8 Finished with 0\n",
      "2016-04-11 06:48:53,055 * INFO * [14371] Started ./SIPSimRun_cMtx.sh in /home/nick/notebook/SIPSim/dev/bac_genome1147/atomIncorp_taxaIncorp/50/1/7\n",
      "2016-04-11 06:48:53,339 * INFO * [13396] /home/nick/notebook/SIPSim/dev/bac_genome1147/atomIncorp_taxaIncorp/50/10/3 Finished with 0\n",
      "2016-04-11 06:48:53,341 * INFO * [14386] Started ./SIPSimRun_cMtx.sh in /home/nick/notebook/SIPSim/dev/bac_genome1147/atomIncorp_taxaIncorp/50/1/9\n",
      "2016-04-11 06:48:53,420 * INFO * [13371] /home/nick/notebook/SIPSim/dev/bac_genome1147/atomIncorp_taxaIncorp/50/10/7 Finished with 0\n",
      "2016-04-11 06:48:53,422 * INFO * [14392] Started ./SIPSimRun_cMtx.sh in /home/nick/notebook/SIPSim/dev/bac_genome1147/atomIncorp_taxaIncorp/50/1/8\n",
      "2016-04-11 06:48:53,676 * INFO * [13377] /home/nick/notebook/SIPSim/dev/bac_genome1147/atomIncorp_taxaIncorp/50/10/9 Finished with 0\n",
      "2016-04-11 06:48:53,688 * INFO * [14426] Started ./SIPSimRun_cMtx.sh in /home/nick/notebook/SIPSim/dev/bac_genome1147/atomIncorp_taxaIncorp/50/1/3\n",
      "2016-04-11 06:48:53,872 * INFO * [13545] /home/nick/notebook/SIPSim/dev/bac_genome1147/atomIncorp_taxaIncorp/50/10/1 Finished with 0\n",
      "2016-04-11 06:48:53,873 * INFO * [14438] Started ./SIPSimRun_cMtx.sh in /home/nick/notebook/SIPSim/dev/bac_genome1147/atomIncorp_taxaIncorp/50/1/10\n",
      "2016-04-11 06:48:53,939 * INFO * [13486] /home/nick/notebook/SIPSim/dev/bac_genome1147/atomIncorp_taxaIncorp/50/10/2 Finished with 0\n",
      "2016-04-11 06:48:53,951 * INFO * [14459] Started ./SIPSimRun_cMtx.sh in /home/nick/notebook/SIPSim/dev/bac_genome1147/atomIncorp_taxaIncorp/50/1/2\n",
      "2016-04-11 06:48:55,060 * INFO * [13586] /home/nick/notebook/SIPSim/dev/bac_genome1147/atomIncorp_taxaIncorp/50/10/5 Finished with 0\n",
      "2016-04-11 06:48:55,067 * INFO * [14509] Started ./SIPSimRun_cMtx.sh in /home/nick/notebook/SIPSim/dev/bac_genome1147/atomIncorp_taxaIncorp/50/1/1\n",
      "2016-04-11 06:48:55,280 * INFO * [13557] /home/nick/notebook/SIPSim/dev/bac_genome1147/atomIncorp_taxaIncorp/50/10/4 Finished with 0\n",
      "2016-04-11 06:48:55,282 * INFO * [14515] Started ./SIPSimRun_cMtx.sh in /home/nick/notebook/SIPSim/dev/bac_genome1147/atomIncorp_taxaIncorp/50/1/4\n",
      "2016-04-11 06:48:55,287 * INFO * [13429] /home/nick/notebook/SIPSim/dev/bac_genome1147/atomIncorp_taxaIncorp/50/10/10 Finished with 0\n",
      "2016-04-11 06:48:55,289 * INFO * [14517] Started ./SIPSimRun_cMtx.sh in /home/nick/notebook/SIPSim/dev/bac_genome1147/atomIncorp_taxaIncorp/50/1/5\n",
      "2016-04-11 06:48:55,942 * INFO * [13616] /home/nick/notebook/SIPSim/dev/bac_genome1147/atomIncorp_taxaIncorp/50/10/6 Finished with 0\n",
      "2016-04-11 06:48:55,945 * INFO * [14578] Started ./SIPSimRun_cMtx.sh in /home/nick/notebook/SIPSim/dev/bac_genome1147/atomIncorp_taxaIncorp/50/1/6\n",
      "**OUTPUT MUTED**"
     ]
    }
   ],
   "source": [
    "!chmod 777 $bashFileTmp\n",
    "!cd $workDir; \\\n",
    "    nestrun --template-file $bashFileTmp -d $buildDir --log-file cMtx.log -j 10"
   ]
  },
  {
   "cell_type": "markdown",
   "metadata": {},
   "source": [
    "### Aggregating the confusion matrix data"
   ]
  },
  {
   "cell_type": "code",
   "execution_count": 112,
   "metadata": {
    "collapsed": false
   },
   "outputs": [],
   "source": [
    "def agg_cMtx(prefix):\n",
    "    # all data\n",
    "    #!nestagg delim \\\n",
    "    #    -d $buildDir \\\n",
    "    #    -k percIncorp,percTaxa,rep \\\n",
    "    #    -o $prefix-cMtx_data.txt \\\n",
    "    #    --tab \\\n",
    "    #    $prefix-cMtx_data.txt\n",
    "\n",
    "    # overall\n",
    "    x = prefix + '-cMtx_overall.txt'\n",
    "    !nestagg delim \\\n",
    "        -d $buildDir \\\n",
    "        -k percIncorp,percTaxa,rep \\\n",
    "        -o $x \\\n",
    "        --tab \\\n",
    "        $x\n",
    "\n",
    "    # by class\n",
    "    x = prefix + '-cMtx_byClass.txt'\n",
    "    !nestagg delim \\\n",
    "        -d $buildDir \\\n",
    "        -k percIncorp,percTaxa,rep \\\n",
    "        -o $x \\\n",
    "        --tab \\\n",
    "        $x\n",
    "        \n",
    "agg_cMtx('DESeq2')\n",
    "agg_cMtx('qSIP') \n",
    "agg_cMtx('heavy') "
   ]
  },
  {
   "cell_type": "code",
   "execution_count": 113,
   "metadata": {
    "collapsed": true
   },
   "outputs": [],
   "source": [
    "%pushnote atomIncorp_taxaIncorp complete!"
   ]
  },
  {
   "cell_type": "markdown",
   "metadata": {},
   "source": [
    "***\n",
    "# --End of simulation--#\n",
    "***"
   ]
  },
  {
   "cell_type": "markdown",
   "metadata": {},
   "source": [
    "# Plotting results"
   ]
  },
  {
   "cell_type": "code",
   "execution_count": 114,
   "metadata": {
    "collapsed": false
   },
   "outputs": [
    {
     "data": {
      "text/plain": [
       "['/home/nick/notebook/SIPSim/dev/bac_genome1147/atomIncorp_taxaIncorp/DESeq2-cMtx_byClass.txt',\n",
       " '/home/nick/notebook/SIPSim/dev/bac_genome1147/atomIncorp_taxaIncorp/qSIP-cMtx_byClass.txt',\n",
       " '/home/nick/notebook/SIPSim/dev/bac_genome1147/atomIncorp_taxaIncorp/heavy-cMtx_byClass.txt']"
      ]
     },
     "execution_count": 114,
     "metadata": {},
     "output_type": "execute_result"
    }
   ],
   "source": [
    "F = os.path.join(buildDir, '*-cMtx_byClass.txt')\n",
    "files = glob.glob(F)\n",
    "files"
   ]
  },
  {
   "cell_type": "code",
   "execution_count": 115,
   "metadata": {
    "collapsed": false
   },
   "outputs": [
    {
     "data": {
      "text/plain": [
       "  library      variables    values percIncorp percTaxa rep\n",
       "1       2    Sensitivity 0.4752475         50       50   7\n",
       "2       2    Specificity 1.0000000         50       50   7\n",
       "3       2 Pos Pred Value 1.0000000         50       50   7\n",
       "                     file method\n",
       "1 DESeq2-cMtx_byClass.txt DESeq2\n",
       "2 DESeq2-cMtx_byClass.txt DESeq2\n",
       "3 DESeq2-cMtx_byClass.txt DESeq2\n"
      ]
     },
     "metadata": {},
     "output_type": "display_data"
    }
   ],
   "source": [
    "%%R -i files\n",
    "\n",
    "df_byClass = list()\n",
    "for (f in files){\n",
    "    ff = strsplit(f, '/') %>% unlist\n",
    "    fff = ff[length(ff)]\n",
    "    df_byClass[[fff]] = read.delim(f, sep='\\t')\n",
    "}\n",
    "\n",
    "df_byClass = do.call(rbind, df_byClass)\n",
    "df_byClass$file = gsub('\\\\.[0-9]+$', '', rownames(df_byClass))\n",
    "df_byClass$method = gsub('-.+', '', df_byClass$file)\n",
    "rownames(df_byClass) = 1:nrow(df_byClass)\n",
    "\n",
    "df_byClass %>% head(n=3)"
   ]
  },
  {
   "cell_type": "code",
   "execution_count": 116,
   "metadata": {
    "collapsed": false
   },
   "outputs": [
    {
     "data": {
      "text/plain": [
       "  library      variables    values percIncorp percTaxa rep\n",
       "1       2    Sensitivity 0.4752475         50       50   7\n",
       "2       2    Specificity 1.0000000         50       50   7\n",
       "3       2 Pos Pred Value 1.0000000         50       50   7\n",
       "                     file method\n",
       "1 DESeq2-cMtx_byClass.txt HR-SIP\n",
       "2 DESeq2-cMtx_byClass.txt HR-SIP\n",
       "3 DESeq2-cMtx_byClass.txt HR-SIP\n"
      ]
     },
     "metadata": {},
     "output_type": "display_data"
    }
   ],
   "source": [
    "%%R\n",
    "# renaming method\n",
    "rename = data.frame(method = c('DESeq2', 'DESeq2_multi', 'heavy', 'qSIP'), \n",
    "                   method_new = c('HR-SIP', 'MW-HR-SIP', 'Heavy-SIP', 'qSIP'))\n",
    "\n",
    "df_byClass = inner_join(df_byClass, rename, c('method'='method')) %>%\n",
    "    select(-method) %>%\n",
    "    rename('method' = method_new) \n",
    "\n",
    "df_byClass %>% head(n=3)"
   ]
  },
  {
   "cell_type": "code",
   "execution_count": 117,
   "metadata": {
    "collapsed": false
   },
   "outputs": [
    {
     "data": {
      "image/png": "[encoded data removed]"
     },
     "metadata": {},
     "output_type": "display_data"
    }
   ],
   "source": [
    "%%R -w 800 -h 550\n",
    "# summarize by SIPSim rep & library rep\n",
    "df_byClass.s = df_byClass %>%\n",
    "    group_by(method, percIncorp, percTaxa, variables) %>%\n",
    "    summarize(mean_value = mean(values),\n",
    "              sd_value = sd(values))\n",
    "\n",
    "# plotting\n",
    "ggplot(df_byClass.s, aes(variables, mean_value, color=method,\n",
    "                         ymin=mean_value-sd_value,\n",
    "                         ymax=mean_value+sd_value)) +\n",
    "    geom_pointrange(alpha=0.8, size=0.2) +\n",
    "    labs(y='Value') +\n",
    "    facet_grid(percTaxa ~ percIncorp) +\n",
    "    theme_bw() +\n",
    "    theme(\n",
    "        text = element_text(size=16),\n",
    "        axis.title.x = element_blank(),\n",
    "        axis.text.x = element_text(angle=45, hjust=1)\n",
    "    )"
   ]
  },
  {
   "cell_type": "code",
   "execution_count": 118,
   "metadata": {
    "collapsed": false
   },
   "outputs": [
    {
     "data": {
      "image/png": "[encoded data removed]"
     },
     "metadata": {},
     "output_type": "display_data"
    }
   ],
   "source": [
    "%%R -w 800 -h 600\n",
    "# summarize by SIPSim rep & library rep\n",
    "vars = c('Balanced Accuracy', 'Sensitivity', 'Specificity')\n",
    "df_byClass.s.f = df_byClass.s %>%\n",
    "    filter(variables %in% vars) \n",
    "\n",
    "# plotting\n",
    "ggplot(df_byClass.s.f, aes(variables, mean_value, fill=method,\n",
    "                         ymin=mean_value-sd_value,\n",
    "                         ymax=mean_value+sd_value)) +\n",
    "    #geom_pointrange(alpha=0.8, size=0.2) +\n",
    "    geom_bar(stat='identity', position='dodge', width=0.8) +\n",
    "    geom_errorbar(stat='identity', position='dodge', width=0.8) +\n",
    "    scale_y_continuous(breaks=seq(0, 1, 0.2)) +\n",
    "    labs(y='Value') +\n",
    "    facet_grid(percTaxa ~ percIncorp) +\n",
    "    theme_bw() +\n",
    "    theme(\n",
    "        text = element_text(size=16),\n",
    "        axis.title.x = element_blank(),\n",
    "        axis.text.x = element_text(angle=50, hjust=1)\n",
    "    )"
   ]
  },
  {
   "cell_type": "markdown",
   "metadata": {},
   "source": [
    "# atom excess estimates"
   ]
  },
  {
   "cell_type": "markdown",
   "metadata": {},
   "source": [
    "## qSIP"
   ]
  },
  {
   "cell_type": "code",
   "execution_count": 111,
   "metadata": {
    "collapsed": false
   },
   "outputs": [
    {
     "data": {
      "text/plain": [
       "250"
      ]
     },
     "execution_count": 111,
     "metadata": {},
     "output_type": "execute_result"
    }
   ],
   "source": [
    "atomX_files = glob.glob('*/*/*/*_atom.txt')\n",
    "len(atomX_files)"
   ]
  },
  {
   "cell_type": "code",
   "execution_count": 112,
   "metadata": {
    "collapsed": false
   },
   "outputs": [
    {
     "data": {
      "text/plain": [
       "                                 taxon  control treatment      BD_diff\n",
       "1       Acaryochloris_marina_MBIC11017       NA  1.735000           NA\n",
       "2 Acetobacter_pasteurianus_IFO_3283-03 1.711478  1.730446  0.018967947\n",
       "3       Acetobacterium_woodii_DSM_1030 1.706348  1.698732 -0.007615707\n",
       "  control_GC control_MW treatment_max_MW treatment_MW atom_fraction_excess\n",
       "1         NA         NA               NA           NA                   NA\n",
       "2  0.7834275   308.0796         317.6634     311.4940            0.3523052\n",
       "3  0.7219901   308.0491         317.6636     306.6742           -0.1414111\n",
       "  atom_CI_low atom_CI_high percIncorp percTaxa rep\n",
       "1          NA           NA         50       50   7\n",
       "2   0.3287802   0.37572502         50       50   7\n",
       "3  -0.2018421  -0.07953983         50       50   7\n",
       "                              file\n",
       "1 OTU_abs1e9_PCR_sub_qSIP_atom.txt\n",
       "2 OTU_abs1e9_PCR_sub_qSIP_atom.txt\n",
       "3 OTU_abs1e9_PCR_sub_qSIP_atom.txt\n"
      ]
     },
     "metadata": {},
     "output_type": "display_data"
    }
   ],
   "source": [
    "%%R -i atomX_files\n",
    "\n",
    "df_atomX = list()\n",
    "for(F in atomX_files){\n",
    "    tmp = read.delim(F, sep='\\t') \n",
    "    FF = strsplit(F, '/') %>% unlist\n",
    "    tmp$percIncorp = FF[1]\n",
    "    tmp$percTaxa = FF[2]\n",
    "    tmp$rep = FF[3]\n",
    "    tmp$file = FF[4]\n",
    "    df_atomX[[F]] = tmp\n",
    "}\n",
    "\n",
    "df_atomX = do.call(rbind, df_atomX)\n",
    "rownames(df_atomX) = 1:nrow(df_atomX)\n",
    "df_atomX %>% head(n=3)"
   ]
  },
  {
   "cell_type": "code",
   "execution_count": 113,
   "metadata": {
    "collapsed": false
   },
   "outputs": [
    {
     "data": {
      "text/plain": [
       "250"
      ]
     },
     "execution_count": 113,
     "metadata": {},
     "output_type": "execute_result"
    }
   ],
   "source": [
    "BDshift_files = glob.glob('*/*/*/BD-shift_stats.txt')\n",
    "len(BDshift_files)"
   ]
  },
  {
   "cell_type": "code",
   "execution_count": 114,
   "metadata": {
    "collapsed": false
   },
   "outputs": [
    {
     "data": {
      "text/plain": [
       "Source: local data frame [3 x 5]\n",
       "\n",
       "                           taxon percIncorp percTaxa   rep median_true_BD_shift\n",
       "                          (fctr)      (chr)    (chr) (chr)                (dbl)\n",
       "1 Acaryochloris_marina_MBIC11017          0        1     1                    0\n",
       "2 Acaryochloris_marina_MBIC11017          0        1    10                    0\n",
       "3 Acaryochloris_marina_MBIC11017          0        1     2                    0\n"
      ]
     },
     "metadata": {},
     "output_type": "display_data"
    }
   ],
   "source": [
    "%%R -i BDshift_files\n",
    "\n",
    "df_shift = list()\n",
    "for(F in BDshift_files){\n",
    "    tmp = read.delim(F, sep='\\t') \n",
    "    FF = strsplit(F, '/') %>% unlist\n",
    "    tmp$percIncorp = FF[1]\n",
    "    tmp$percTaxa = FF[2]\n",
    "    tmp$rep = FF[3]\n",
    "    tmp$file = FF[4]\n",
    "    df_shift[[F]] = tmp\n",
    "}\n",
    "\n",
    "df_shift = do.call(rbind, df_shift)\n",
    "rownames(df_shift) = 1:nrow(df_shift)\n",
    "\n",
    "df_shift = df_shift %>%\n",
    "    filter(library %in% c(2,4,6)) %>%\n",
    "    group_by(taxon, percIncorp, percTaxa, rep) %>%\n",
    "    summarize(median = median(median)) %>%\n",
    "    ungroup() %>%\n",
    "    rename('median_true_BD_shift' = median)\n",
    "\n",
    "df_shift %>% head(n=3)"
   ]
  },
  {
   "cell_type": "code",
   "execution_count": 115,
   "metadata": {
    "collapsed": false
   },
   "outputs": [
    {
     "data": {
      "text/plain": [
       "                                 taxon  control treatment       BD_diff\n",
       "1 Acetobacter_pasteurianus_IFO_3283-03 1.711478  1.730446  0.0189679469\n",
       "2       Acetobacterium_woodii_DSM_1030 1.706348  1.698732 -0.0076157075\n",
       "3    Acetohalobium_arabaticum_DSM_5501 1.700596  1.699750 -0.0008456435\n",
       "  control_GC control_MW treatment_max_MW treatment_MW atom_fraction_excess\n",
       "1  0.7834275   308.0796         317.6634     311.4940           0.35230520\n",
       "2  0.7219901   308.0491         317.6636     306.6742          -0.14141112\n",
       "3  0.6531156   308.0149         317.6638     307.8618          -0.01569748\n",
       "  atom_CI_low atom_CI_high percIncorp percTaxa rep\n",
       "1  0.32878016  0.375725017         50       50   7\n",
       "2 -0.20184210 -0.079539834         50       50   7\n",
       "3 -0.03989405  0.007993522         50       50   7\n",
       "                              file median_true_BD_shift true_incorporator\n",
       "1 OTU_abs1e9_PCR_sub_qSIP_atom.txt                0.018              TRUE\n",
       "2 OTU_abs1e9_PCR_sub_qSIP_atom.txt                0.000             FALSE\n",
       "3 OTU_abs1e9_PCR_sub_qSIP_atom.txt                0.000             FALSE\n",
       "  true_atom_fraction_excess\n",
       "1                       0.5\n",
       "2                       0.0\n",
       "3                       0.0\n"
      ]
     },
     "metadata": {},
     "output_type": "display_data"
    }
   ],
   "source": [
    "%%R\n",
    "df.j = inner_join(df_atomX, df_shift, c('taxon' = 'taxon',\n",
    "                                       'percIncorp'='percIncorp',\n",
    "                                       'percTaxa'='percTaxa',\n",
    "                                       'rep'='rep')) %>%\n",
    "    filter(!is.na(BD_diff)) %>%\n",
    "    mutate(true_incorporator = ifelse(median_true_BD_shift > 0.002, TRUE, FALSE),\n",
    "           true_atom_fraction_excess = median_true_BD_shift / 0.036,\n",
    "           atom_fraction_excess = ifelse(is.na(atom_CI_low), 0, atom_fraction_excess))\n",
    "df.j %>% head(n=3)"
   ]
  },
  {
   "cell_type": "code",
   "execution_count": 116,
   "metadata": {
    "collapsed": true
   },
   "outputs": [],
   "source": [
    "%%R\n",
    "# free memory\n",
    "df_shift = df_atomX = NULL"
   ]
  },
  {
   "cell_type": "code",
   "execution_count": 117,
   "metadata": {
    "collapsed": false
   },
   "outputs": [
    {
     "data": {
      "image/png": "[encoded data removed]"
     },
     "metadata": {},
     "output_type": "display_data"
    }
   ],
   "source": [
    "%%R -h 250 \n",
    "# difference between true and estimated\n",
    "df.j.dis.qSIP = df.j %>%\n",
    "    mutate(delta_excess = atom_fraction_excess * 100 - true_atom_fraction_excess * 100) %>%\n",
    "    group_by(percIncorp, percTaxa, true_incorporator) %>%\n",
    "    summarize(mean_delta_excess = mean(delta_excess),\n",
    "              sd_delta_excess = sd(delta_excess)) %>%\n",
    "    ungroup() %>%\n",
    "    mutate(percIncorp = percIncorp %>% reorder(percIncorp %>% as.numeric),\n",
    "           percTaxa = percTaxa %>% reorder(percTaxa %>% as.numeric)) %>%\n",
    "    filter(true_incorporator == TRUE)\n",
    "   \n",
    "# plotting\n",
    "ggplot(df.j.dis.qSIP, aes(percIncorp, mean_delta_excess, \n",
    "                      color=percTaxa, group=percTaxa,\n",
    "                      ymin=mean_delta_excess-sd_delta_excess,\n",
    "                     ymax=mean_delta_excess+sd_delta_excess)) +\n",
    "    geom_pointrange(alpha=0.8, size=0.2) +\n",
    "    geom_line() +\n",
    "    scale_color_discrete('% taxa as\\nincorporators') +\n",
    "    labs(x='13C atom % excess', y='atom % excess\\n(truth - estimate)') +\n",
    "    theme_bw() +\n",
    "    theme(\n",
    "        text = element_text(size=16)\n",
    "    )"
   ]
  },
  {
   "cell_type": "markdown",
   "metadata": {},
   "source": [
    "## deltaBD"
   ]
  },
  {
   "cell_type": "code",
   "execution_count": 118,
   "metadata": {
    "collapsed": false
   },
   "outputs": [
    {
     "data": {
      "text/plain": [
       "250"
      ]
     },
     "execution_count": 118,
     "metadata": {},
     "output_type": "execute_result"
    }
   ],
   "source": [
    "dBD_files = glob.glob('*/*/*/*_dBD.txt')\n",
    "len(dBD_files)"
   ]
  },
  {
   "cell_type": "code",
   "execution_count": 119,
   "metadata": {
    "collapsed": false
   },
   "outputs": [
    {
     "data": {
      "text/plain": [
       "                                 taxon mean_CM_control mean_CM_treatment\n",
       "1       Acaryochloris_marina_MBIC11017        1.742474          1.738216\n",
       "2 Acetobacter_pasteurianus_IFO_3283-03        1.715840          1.732343\n",
       "3       Acetobacterium_woodii_DSM_1030        1.713479          1.695490\n",
       "  stdev_CM_control stdev_CM_treatment     delta_BD percIncorp percTaxa rep\n",
       "1      0.000000000        0.003112361 -0.004257915         50       50   7\n",
       "2      0.003060431        0.003842456  0.016502104         50       50   7\n",
       "3      0.006503952        0.001694501 -0.017989063         50       50   7\n",
       "                        file\n",
       "1 OTU_abs1e9_PCR_sub_dBD.txt\n",
       "2 OTU_abs1e9_PCR_sub_dBD.txt\n",
       "3 OTU_abs1e9_PCR_sub_dBD.txt\n"
      ]
     },
     "metadata": {},
     "output_type": "display_data"
    }
   ],
   "source": [
    "%%R -i dBD_files\n",
    "\n",
    "df_dBD = list()\n",
    "for(F in dBD_files){\n",
    "    tmp = read.delim(F, sep='\\t') \n",
    "    FF = strsplit(F, '/') %>% unlist\n",
    "    tmp$percIncorp = FF[1]\n",
    "    tmp$percTaxa = FF[2]\n",
    "    tmp$rep = FF[3]\n",
    "    tmp$file = FF[4]\n",
    "    df_dBD[[F]] = tmp\n",
    "}\n",
    "\n",
    "df_dBD = do.call(rbind, df_dBD)\n",
    "rownames(df_dBD) = 1:nrow(df_dBD)\n",
    "df_dBD %>% head(n=3)"
   ]
  },
  {
   "cell_type": "code",
   "execution_count": 120,
   "metadata": {
    "collapsed": false
   },
   "outputs": [
    {
     "data": {
      "text/plain": [
       "250"
      ]
     },
     "execution_count": 120,
     "metadata": {},
     "output_type": "execute_result"
    }
   ],
   "source": [
    "BDshift_files = glob.glob('*/*/*/BD-shift_stats.txt')\n",
    "len(BDshift_files)"
   ]
  },
  {
   "cell_type": "code",
   "execution_count": 121,
   "metadata": {
    "collapsed": false
   },
   "outputs": [
    {
     "data": {
      "text/plain": [
       "Source: local data frame [3 x 5]\n",
       "\n",
       "                           taxon percIncorp percTaxa   rep median_true_BD_shift\n",
       "                          (fctr)      (chr)    (chr) (chr)                (dbl)\n",
       "1 Acaryochloris_marina_MBIC11017          0        1     1                    0\n",
       "2 Acaryochloris_marina_MBIC11017          0        1    10                    0\n",
       "3 Acaryochloris_marina_MBIC11017          0        1     2                    0\n"
      ]
     },
     "metadata": {},
     "output_type": "display_data"
    }
   ],
   "source": [
    "%%R -i BDshift_files\n",
    "\n",
    "df_shift = list()\n",
    "for(F in BDshift_files){\n",
    "    tmp = read.delim(F, sep='\\t') \n",
    "    FF = strsplit(F, '/') %>% unlist\n",
    "    tmp$percIncorp = FF[1]\n",
    "    tmp$percTaxa = FF[2]\n",
    "    tmp$rep = FF[3]\n",
    "    tmp$file = FF[4]\n",
    "    df_shift[[F]] = tmp\n",
    "}\n",
    "\n",
    "df_shift = do.call(rbind, df_shift)\n",
    "rownames(df_shift) = 1:nrow(df_shift)\n",
    "\n",
    "df_shift = df_shift %>%\n",
    "    filter(library %in% c(2,4,6)) %>%\n",
    "    group_by(taxon, percIncorp, percTaxa, rep) %>%\n",
    "    summarize(median = median(median)) %>%\n",
    "    ungroup() %>%\n",
    "    rename('median_true_BD_shift' = median)\n",
    "\n",
    "df_shift %>% head(n=3)"
   ]
  },
  {
   "cell_type": "code",
   "execution_count": 122,
   "metadata": {
    "collapsed": false
   },
   "outputs": [
    {
     "data": {
      "text/plain": [
       "                                 taxon mean_CM_control mean_CM_treatment\n",
       "1       Acaryochloris_marina_MBIC11017        1.742474          1.738216\n",
       "2 Acetobacter_pasteurianus_IFO_3283-03        1.715840          1.732343\n",
       "3       Acetobacterium_woodii_DSM_1030        1.713479          1.695490\n",
       "  stdev_CM_control stdev_CM_treatment     delta_BD percIncorp percTaxa rep\n",
       "1      0.000000000        0.003112361 -0.004257915         50       50   7\n",
       "2      0.003060431        0.003842456  0.016502104         50       50   7\n",
       "3      0.006503952        0.001694501 -0.017989063         50       50   7\n",
       "                        file median_true_BD_shift true_incorporator\n",
       "1 OTU_abs1e9_PCR_sub_dBD.txt                0.018              TRUE\n",
       "2 OTU_abs1e9_PCR_sub_dBD.txt                0.018              TRUE\n",
       "3 OTU_abs1e9_PCR_sub_dBD.txt                0.000             FALSE\n",
       "  true_atom_fraction_excess atom_fraction_excess\n",
       "1                       0.5           -0.1182754\n",
       "2                       0.5            0.4583918\n",
       "3                       0.0           -0.4996962\n"
      ]
     },
     "metadata": {},
     "output_type": "display_data"
    }
   ],
   "source": [
    "%%R\n",
    "df.j = inner_join(df_dBD, df_shift, c('taxon' = 'taxon',\n",
    "                                       'percIncorp'='percIncorp',\n",
    "                                       'percTaxa'='percTaxa',\n",
    "                                       'rep'='rep')) %>%\n",
    "    filter(!is.na(delta_BD)) %>%\n",
    "    mutate(true_incorporator = ifelse(median_true_BD_shift > 0.002, TRUE, FALSE),\n",
    "           true_atom_fraction_excess = median_true_BD_shift / 0.036,\n",
    "           atom_fraction_excess = delta_BD / 0.036)\n",
    "df.j %>% head(n=3)"
   ]
  },
  {
   "cell_type": "code",
   "execution_count": 123,
   "metadata": {
    "collapsed": false
   },
   "outputs": [],
   "source": [
    "%%R\n",
    "# free memory\n",
    "df_shift = df_dBD = NULL"
   ]
  },
  {
   "cell_type": "code",
   "execution_count": 124,
   "metadata": {
    "collapsed": false
   },
   "outputs": [
    {
     "data": {
      "image/png": "[encoded data removed]"
     },
     "metadata": {},
     "output_type": "display_data"
    }
   ],
   "source": [
    "%%R -h 250 \n",
    "# difference between true and estimated\n",
    "df.j.dis.dBD = df.j %>%\n",
    "    mutate(delta_excess = atom_fraction_excess * 100 - true_atom_fraction_excess * 100) %>%\n",
    "    group_by(percIncorp, percTaxa, true_incorporator) %>%\n",
    "    summarize(mean_delta_excess = mean(delta_excess),\n",
    "              sd_delta_excess = sd(delta_excess)) %>%\n",
    "    ungroup() %>%\n",
    "    mutate(percIncorp = percIncorp %>% reorder(percIncorp %>% as.numeric),\n",
    "           percTaxa = percTaxa %>% reorder(percTaxa %>% as.numeric)) %>%\n",
    "    filter(true_incorporator == TRUE)\n",
    "   \n",
    "# plotting\n",
    "ggplot(df.j.dis.dBD, aes(percIncorp, mean_delta_excess, \n",
    "                      color=percTaxa, group=percTaxa,\n",
    "                      ymin=mean_delta_excess-sd_delta_excess,\n",
    "                     ymax=mean_delta_excess+sd_delta_excess)) +\n",
    "    geom_pointrange(alpha=0.8, size=0.2) +\n",
    "    geom_line() +\n",
    "    scale_color_discrete('% taxa as\\nincorporators') +\n",
    "    labs(x='13C atom % excess', y='atom % excess\\n(truth - estimate)') +\n",
    "    theme_bw() +\n",
    "    theme(\n",
    "        text = element_text(size=16)\n",
    "    )"
   ]
  },
  {
   "cell_type": "markdown",
   "metadata": {},
   "source": [
    "## combined plot"
   ]
  },
  {
   "cell_type": "code",
   "execution_count": 134,
   "metadata": {
    "collapsed": false
   },
   "outputs": [
    {
     "data": {
      "image/png": "[encoded data removed]"
     },
     "metadata": {},
     "output_type": "display_data"
    }
   ],
   "source": [
    "%%R -w 650 -h 250\n",
    "df.jj = rbind(df.j.dis.qSIP %>% mutate(method='qSIP'),\n",
    "              df.j.dis.dBD %>% mutate(method='deltaBD'))\n",
    "\n",
    "# plotting\n",
    "ggplot(df.jj, aes(percIncorp, mean_delta_excess, \n",
    "                      color=percTaxa, group=percTaxa,\n",
    "                      ymin=mean_delta_excess-sd_delta_excess,\n",
    "                     ymax=mean_delta_excess+sd_delta_excess)) +\n",
    "    geom_pointrange(alpha=0.8, size=0.2) +\n",
    "    geom_line() +\n",
    "    scale_color_discrete('% taxa as\\nincorporators') +\n",
    "    labs(x='13C atom % excess (truth)', y='13C atom % excess\\n(truth - estimate)') +\n",
    "    facet_grid(. ~ method) +\n",
    "    theme_bw() +\n",
    "    theme(\n",
    "        text = element_text(size=16)\n",
    "    )"
   ]
  },
  {
   "cell_type": "markdown",
   "metadata": {
    "collapsed": true
   },
   "source": [
    "%pushnote atomIncorp_taxaIncorp complete"
   ]
  },
  {
   "cell_type": "markdown",
   "metadata": {},
   "source": [
    "***"
   ]
  },
  {
   "cell_type": "markdown",
   "metadata": {},
   "source": [
    "# --re-run--\n",
    "\n",
    "* for all simulations that died due to a memory error"
   ]
  },
  {
   "cell_type": "code",
   "execution_count": 93,
   "metadata": {
    "collapsed": true
   },
   "outputs": [],
   "source": [
    "import glob"
   ]
  },
  {
   "cell_type": "markdown",
   "metadata": {},
   "source": [
    "## Function for detecting missing/empty files"
   ]
  },
  {
   "cell_type": "code",
   "execution_count": 194,
   "metadata": {
    "collapsed": false
   },
   "outputs": [
    {
     "name": "stdout",
     "output_type": "stream",
     "text": [
      "Union length: 200\n",
      "Number of missing: 0\n",
      "Number of empties: 1\n"
     ]
    },
    {
     "data": {
      "text/plain": [
       "{'empty': ['/home/nick/notebook/SIPSim/dev/bac_genome1147/atomIncorp_taxaIncorp/100/25/6'],\n",
       " 'missing': []}"
      ]
     },
     "execution_count": 194,
     "metadata": {},
     "output_type": "execute_result"
    }
   ],
   "source": [
    "def find_missing_files(filepath, empty_cut=10000):\n",
    "    # directories\n",
    "    dirpath = os.path.split(filepath)[0]\n",
    "    chk = os.path.join(buildDir, dirpath) + '/'\n",
    "    D = set([os.path.split(x)[0] for x in glob.glob(chk)])\n",
    "    \n",
    "    # files\n",
    "    chk = os.path.join(buildDir, filepath)\n",
    "    F = glob.glob(chk)\n",
    "    \n",
    "    # check for missing files\n",
    "    Fd = set([os.path.split(f)[0] for f in F])\n",
    "    missing = D - Fd    \n",
    "    print 'Union length: {}'.format(len(D | Fd))\n",
    "    print 'Number of missing: {}'.format(len(missing))\n",
    "\n",
    "    # check for empty files\n",
    "    empties = [os.path.split(f)[0] for f in F if os.path.getsize(f) < empty_cut]\n",
    "    print 'Number of empties: {}'.format(len(empties))\n",
    "    \n",
    "    # ret\n",
    "    return {'missing' : list(missing), 'empty' : empties}\n",
    "    \n",
    "find_missing_files('*/*/*/OTU_abs1e9.txt')    "
   ]
  },
  {
   "cell_type": "markdown",
   "metadata": {},
   "source": [
    "## Finding all SIPSim pipeline incompletes"
   ]
  },
  {
   "cell_type": "code",
   "execution_count": 195,
   "metadata": {
    "collapsed": false
   },
   "outputs": [
    {
     "name": "stdout",
     "output_type": "stream",
     "text": [
      "Union length: 200\n",
      "Number of missing: 0\n",
      "Number of empties: 1\n"
     ]
    }
   ],
   "source": [
    "pipeline_me = find_missing_files('*/*/*/OTU_abs1e9.txt')   "
   ]
  },
  {
   "cell_type": "code",
   "execution_count": 196,
   "metadata": {
    "collapsed": false
   },
   "outputs": [
    {
     "data": {
      "text/plain": [
       "{'empty': ['/home/nick/notebook/SIPSim/dev/bac_genome1147/atomIncorp_taxaIncorp/100/25/6'],\n",
       " 'missing': []}"
      ]
     },
     "execution_count": 196,
     "metadata": {},
     "output_type": "execute_result"
    }
   ],
   "source": [
    "pipeline_me"
   ]
  },
  {
   "cell_type": "code",
   "execution_count": 197,
   "metadata": {
    "collapsed": false
   },
   "outputs": [
    {
     "name": "stdout",
     "output_type": "stream",
     "text": [
      "#-- SIPSim pipeline --#\n",
      "# Adding diffusion\n",
      "# Adding DBL contamination; abundance-weighted smearing\n",
      "# Adding isotope incorporation to BD distribution\n",
      "# Simulating an OTU table\n",
      "# Simulating PCR\n",
      "# Subsampling from the OTU table (simulating sequencing of the DNA pool)\n",
      "# Making a wide-formatted table\n",
      "# Making metadata (phyloseq: sample_data)\n"
     ]
    }
   ],
   "source": [
    "# rerunning \n",
    "exe = '/home/nick/notebook/SIPSim/dev/bac_genome1147/atomIncorp_taxaIncorp/100/25/6/SIPSimRun_SIPSim-pipeline.sh'\n",
    "exe += ' 2> /home/nick/notebook/SIPSim/dev/bac_genome1147/atomIncorp_taxaIncorp/100/25/6/SIPSim_pipeline.log'\n",
    "!$exe \n",
    "%pushnote SIPSim pipeline rerun complete"
   ]
  },
  {
   "cell_type": "code",
   "execution_count": 205,
   "metadata": {
    "collapsed": true
   },
   "outputs": [],
   "source": [
    "exe = '/home/nick/notebook/SIPSim/dev/bac_genome1147/atomIncorp_taxaIncorp/100/25/6/SIPSimRun_SIPSim-summary.sh'\n",
    "exe += ' 2> /home/nick/notebook/SIPSim/dev/bac_genome1147/atomIncorp_taxaIncorp/100/25/6/SIPSim_summary.log'\n",
    "!$exe \n",
    "%pushnote pipeline summary rerun complete"
   ]
  },
  {
   "cell_type": "code",
   "execution_count": 202,
   "metadata": {
    "collapsed": true
   },
   "outputs": [],
   "source": [
    "# exe = '/home/nick/notebook/SIPSim/dev/bac_genome1147/atomIncorp_taxaIncorp/100/25/6/SIPSimRun_HRSIP.sh'\n",
    "# exe += ' 2> /home/nick/notebook/SIPSim/dev/bac_genome1147/atomIncorp_taxaIncorp/100/25/6/HR-SIP.log'\n",
    "# !$exe \n",
    "# %pushnote HRSIP rerun complete"
   ]
  },
  {
   "cell_type": "code",
   "execution_count": 203,
   "metadata": {
    "collapsed": false
   },
   "outputs": [
    {
     "name": "stdout",
     "output_type": "stream",
     "text": [
      "Union length: 200\n",
      "Number of missing: 0\n",
      "Number of empties: 1\n"
     ]
    }
   ],
   "source": [
    "pipeline_me = find_missing_files('*/*/*/OTU_abs1e9.txt')  "
   ]
  },
  {
   "cell_type": "markdown",
   "metadata": {},
   "source": [
    "## Finding all HR-SIP incompletes"
   ]
  },
  {
   "cell_type": "code",
   "execution_count": 231,
   "metadata": {
    "collapsed": false
   },
   "outputs": [
    {
     "name": "stdout",
     "output_type": "stream",
     "text": [
      "Union length: 200\n",
      "Number of missing: 75\n",
      "Number of empties: 0\n"
     ]
    }
   ],
   "source": [
    "HRSIP_me = find_missing_files('*/*/*/OTU_abs1e9_PCR_sub_filt_DESeq2') "
   ]
  },
  {
   "cell_type": "code",
   "execution_count": 238,
   "metadata": {
    "collapsed": false
   },
   "outputs": [
    {
     "name": "stdout",
     "output_type": "stream",
     "text": [
      "Processing: /home/nick/notebook/SIPSim/dev/bac_genome1147/atomIncorp_taxaIncorp/25/50/1\n",
      "Square root transformation\n",
      "Wisconsin double standardization\n",
      "Run 0 stress 0.1306591 \n",
      "Run 1 stress 0.1303777 \n",
      "... New best solution\n",
      "... procrustes: rmse 0.007102089  max resid 0.0444321 \n",
      "Run 2 stress 0.1948695 \n",
      "Run 3 stress 0.1306245 \n",
      "... procrustes: rmse 0.007451967  max resid 0.04495998 \n",
      "Run 4 stress 0.130682 \n",
      "... procrustes: rmse 0.006855106  max resid 0.04451128 \n",
      "Run 5 stress 0.2935093 \n",
      "Run 6 stress 0.2017967 \n",
      "Run 7 stress 0.1302226 \n",
      "... New best solution\n",
      "... procrustes: rmse 0.003597437  max resid 0.01851154 \n",
      "Run 8 stress 0.1835123 \n",
      "Run 9 stress 0.130223 \n",
      "... procrustes: rmse 4.537866e-05  max resid 0.0001128968 \n",
      "*** Solution reached\n",
      "Processing: /home/nick/notebook/SIPSim/dev/bac_genome1147/atomIncorp_taxaIncorp/25/5/3\n",
      "Square root transformation\n",
      "Wisconsin double standardization\n",
      "Run 0 stress 0.08853476 \n",
      "Run 1 stress 0.08856917 \n",
      "... procrustes: rmse 0.001831047  max resid 0.01022147 \n",
      "Run 2 stress 0.08856917 \n",
      "... procrustes: rmse 0.001836033  max resid 0.01029533 \n",
      "Run 3 stress 0.08856933 \n",
      "... procrustes: rmse 0.001816577  max resid 0.01000817 \n",
      "Run 4 stress 0.08856948 \n",
      "... procrustes: rmse 0.001810952  max resid 0.01005284 \n",
      "Run 5 stress 0.08853466 \n",
      "... New best solution\n",
      "... procrustes: rmse 3.687737e-05  max resid 0.0002295488 \n",
      "*** Solution reached\n",
      "Processing: /home/nick/notebook/SIPSim/dev/bac_genome1147/atomIncorp_taxaIncorp/25/50/3\n",
      "Square root transformation\n",
      "Wisconsin double standardization\n",
      "Run 0 stress 0.1106961 \n",
      "Run 1 stress 0.1106961 \n",
      "... New best solution\n",
      "... procrustes: rmse 3.162156e-05  max resid 0.0001619347 \n",
      "*** Solution reached\n",
      "Processing: /home/nick/notebook/SIPSim/dev/bac_genome1147/atomIncorp_taxaIncorp/25/50/2\n",
      "Square root transformation\n",
      "Wisconsin double standardization\n",
      "Run 0 stress 0.1347496 \n",
      "Run 1 stress 0.1347496 \n",
      "... New best solution\n",
      "... procrustes: rmse 3.508869e-06  max resid 1.440743e-05 \n",
      "*** Solution reached\n",
      "Processing: /home/nick/notebook/SIPSim/dev/bac_genome1147/atomIncorp_taxaIncorp/25/50/5\n",
      "Square root transformation\n",
      "Wisconsin double standardization\n",
      "Run 0 stress 0.1203735 \n",
      "Run 1 stress 0.1551046 \n",
      "Run 2 stress 0.1845447 \n",
      "Run 3 stress 0.1203154 \n",
      "... New best solution\n",
      "... procrustes: rmse 0.003830316  max resid 0.0265058 \n",
      "Run 4 stress 0.1203154 \n",
      "... New best solution\n",
      "... procrustes: rmse 6.026132e-06  max resid 2.813622e-05 \n",
      "*** Solution reached\n",
      "Processing: /home/nick/notebook/SIPSim/dev/bac_genome1147/atomIncorp_taxaIncorp/25/50/4\n",
      "Square root transformation\n",
      "Wisconsin double standardization\n",
      "Run 0 stress 0.1134243 \n",
      "Run 1 stress 0.2015223 \n",
      "Run 2 stress 0.1134133 \n",
      "... New best solution\n",
      "... procrustes: rmse 0.001119014  max resid 0.006327094 \n",
      "*** Solution reached\n",
      "Processing: /home/nick/notebook/SIPSim/dev/bac_genome1147/atomIncorp_taxaIncorp/25/50/7\n",
      "Square root transformation\n",
      "Wisconsin double standardization\n",
      "Run 0 stress 0.112631 \n",
      "Run 1 stress 0.183573 \n",
      "Run 2 stress 0.1479789 \n",
      "Run 3 stress 0.1128627 \n",
      "... procrustes: rmse 0.01213448  max resid 0.06714753 \n",
      "Run 4 stress 0.112631 \n",
      "... New best solution\n",
      "... procrustes: rmse 1.279183e-05  max resid 4.305486e-05 \n",
      "*** Solution reached\n",
      "Processing: /home/nick/notebook/SIPSim/dev/bac_genome1147/atomIncorp_taxaIncorp/25/50/6\n",
      "Square root transformation\n",
      "Wisconsin double standardization\n",
      "Run 0 stress 0.1331264 \n",
      "Run 1 stress 0.1331264 \n",
      "... New best solution\n",
      "... procrustes: rmse 4.535944e-06  max resid 1.407154e-05 \n",
      "*** Solution reached\n",
      "Processing: /home/nick/notebook/SIPSim/dev/bac_genome1147/atomIncorp_taxaIncorp/25/50/9\n",
      "Square root transformation\n",
      "Wisconsin double standardization\n",
      "Run 0 stress 0.1244531 \n",
      "Run 1 stress 0.1248421 \n",
      "... procrustes: rmse 0.008808623  max resid 0.02972768 \n",
      "Run 2 stress 0.1248422 \n",
      "... procrustes: rmse 0.008837484  max resid 0.02979646 \n",
      "Run 3 stress 0.1244607 \n",
      "... procrustes: rmse 0.01575284  max resid 0.05489619 \n",
      "Run 4 stress 0.1593665 \n",
      "Run 5 stress 0.1248421 \n",
      "... procrustes: rmse 0.00880284  max resid 0.02971 \n",
      "Run 6 stress 0.1931544 \n",
      "Run 7 stress 0.1856622 \n",
      "Run 8 stress 0.1745682 \n",
      "Run 9 stress 0.1539621 \n",
      "Run 10 stress 0.1244607 \n",
      "... procrustes: rmse 0.01575155  max resid 0.05489122 \n",
      "Run 11 stress 0.1593665 \n",
      "Run 12 stress 0.1635021 \n",
      "Run 13 stress 0.1244533 \n",
      "... procrustes: rmse 0.0001718541  max resid 0.0006560815 \n",
      "*** Solution reached\n",
      "Processing: /home/nick/notebook/SIPSim/dev/bac_genome1147/atomIncorp_taxaIncorp/25/50/8\n",
      "Square root transformation\n",
      "Wisconsin double standardization\n",
      "Run 0 stress 0.1240794 \n",
      "Run 1 stress 0.1713324 \n",
      "Run 2 stress 0.1246767 \n",
      "Run 3 stress 0.1236839 \n",
      "... New best solution\n",
      "... procrustes: rmse 0.01243634  max resid 0.05753224 \n",
      "Run 4 stress 0.1240687 \n",
      "... procrustes: rmse 0.01294737  max resid 0.05852382 \n",
      "Run 5 stress 0.1242769 \n",
      "Run 6 stress 0.1240677 \n",
      "... procrustes: rmse 0.01292224  max resid 0.05845632 \n",
      "Run 7 stress 0.1240685 \n",
      "... procrustes: rmse 0.01292835  max resid 0.05845659 \n",
      "Run 8 stress 0.1242769 \n",
      "Run 9 stress 0.1834162 \n",
      "Run 10 stress 0.1240793 \n",
      "... procrustes: rmse 0.01248793  max resid 0.05821776 \n",
      "Run 11 stress 0.1374477 \n",
      "Run 12 stress 0.1242769 \n",
      "Run 13 stress 0.1242769 \n",
      "Run 14 stress 0.1895549 \n",
      "Run 15 stress 0.123687 \n",
      "... procrustes: rmse 0.002090789  max resid 0.0134433 \n",
      "Run 16 stress 0.123687 \n",
      "... procrustes: rmse 0.002090931  max resid 0.01344554 \n",
      "Run 17 stress 0.1240677 \n",
      "... procrustes: rmse 0.01292356  max resid 0.05846123 \n",
      "Run 18 stress 0.1921161 \n",
      "Run 19 stress 0.1373245 \n",
      "Run 20 stress 0.1240677 \n",
      "... procrustes: rmse 0.01293267  max resid 0.05849495 \n",
      "Processing: /home/nick/notebook/SIPSim/dev/bac_genome1147/atomIncorp_taxaIncorp/25/25/9\n",
      "Square root transformation\n",
      "Wisconsin double standardization\n",
      "Run 0 stress 0.1107951 \n",
      "Run 1 stress 0.1107951 \n",
      "... procrustes: rmse 4.085169e-05  max resid 0.0002500245 \n",
      "*** Solution reached\n",
      "Processing: /home/nick/notebook/SIPSim/dev/bac_genome1147/atomIncorp_taxaIncorp/25/1/10\n",
      "Square root transformation\n",
      "Wisconsin double standardization\n",
      "Run 0 stress 0.07875643 \n",
      "Run 1 stress 0.1792806 \n",
      "Run 2 stress 0.07875673 \n",
      "... procrustes: rmse 4.427152e-05  max resid 0.0002313388 \n",
      "*** Solution reached\n",
      "Processing: /home/nick/notebook/SIPSim/dev/bac_genome1147/atomIncorp_taxaIncorp/25/10/3\n",
      "Square root transformation\n",
      "Wisconsin double standardization\n",
      "Run 0 stress 0.09022194 \n",
      "Run 1 stress 0.1237548 \n",
      "Run 2 stress 0.1173634 \n",
      "Run 3 stress 0.09022194 \n",
      "... procrustes: rmse 9.755399e-06  max resid 6.275165e-05 \n",
      "*** Solution reached\n",
      "Processing: /home/nick/notebook/SIPSim/dev/bac_genome1147/atomIncorp_taxaIncorp/25/25/10\n",
      "Square root transformation\n",
      "Wisconsin double standardization\n",
      "Run 0 stress 0.1126639 \n",
      "Run 1 stress 0.1126639 \n",
      "... New best solution\n",
      "... procrustes: rmse 9.302003e-06  max resid 5.451662e-05 \n",
      "*** Solution reached\n",
      "Processing: /home/nick/notebook/SIPSim/dev/bac_genome1147/atomIncorp_taxaIncorp/25/1/8\n",
      "Square root transformation\n",
      "Wisconsin double standardization\n",
      "Run 0 stress 0.08773048 \n",
      "Run 1 stress 0.1709648 \n",
      "Run 2 stress 0.08773049 \n",
      "... procrustes: rmse 6.796153e-06  max resid 4.134755e-05 \n",
      "*** Solution reached\n",
      "Processing: /home/nick/notebook/SIPSim/dev/bac_genome1147/atomIncorp_taxaIncorp/25/5/6\n",
      "Square root transformation\n",
      "Wisconsin double standardization\n",
      "Run 0 stress 0.09573879 \n",
      "Run 1 stress 0.09584208 \n",
      "... procrustes: rmse 0.003182333  max resid 0.0132016 \n",
      "Run 2 stress 0.1784272 \n",
      "Run 3 stress 0.09573869 \n",
      "... New best solution\n",
      "... procrustes: rmse 9.105396e-05  max resid 0.0004967772 \n",
      "*** Solution reached\n",
      "Processing: /home/nick/notebook/SIPSim/dev/bac_genome1147/atomIncorp_taxaIncorp/25/5/5\n",
      "Square root transformation\n",
      "Wisconsin double standardization\n",
      "Run 0 stress 0.08112191 \n",
      "Run 1 stress 0.08112191 \n",
      "... procrustes: rmse 5.091931e-06  max resid 2.429293e-05 \n",
      "*** Solution reached\n",
      "Processing: /home/nick/notebook/SIPSim/dev/bac_genome1147/atomIncorp_taxaIncorp/100/1/4\n",
      "Square root transformation\n",
      "Wisconsin double standardization\n",
      "Run 0 stress 0.0983163 \n",
      "Run 1 stress 0.09831449 \n",
      "... New best solution\n",
      "... procrustes: rmse 0.001815793  max resid 0.0126965 \n",
      "Run 2 stress 0.09831732 \n",
      "... procrustes: rmse 0.001014557  max resid 0.005381796 \n",
      "*** Solution reached\n",
      "Processing: /home/nick/notebook/SIPSim/dev/bac_genome1147/atomIncorp_taxaIncorp/25/5/4\n",
      "Square root transformation\n",
      "Wisconsin double standardization\n",
      "Run 0 stress 0.09043094 \n",
      "Run 1 stress 0.09043094 \n",
      "... New best solution\n",
      "... procrustes: rmse 1.357128e-06  max resid 7.363228e-06 \n",
      "*** Solution reached\n",
      "Processing: /home/nick/notebook/SIPSim/dev/bac_genome1147/atomIncorp_taxaIncorp/25/10/8\n",
      "Square root transformation\n",
      "Wisconsin double standardization\n",
      "Run 0 stress 0.09670357 \n",
      "Run 1 stress 0.09675156 \n",
      "... procrustes: rmse 0.001239911  max resid 0.007523251 \n",
      "*** Solution reached\n",
      "Processing: /home/nick/notebook/SIPSim/dev/bac_genome1147/atomIncorp_taxaIncorp/100/1/5\n",
      "Square root transformation\n",
      "Wisconsin double standardization\n",
      "Run 0 stress 0.09067075 \n",
      "Run 1 stress 0.1702241 \n",
      "Run 2 stress 0.09105925 \n",
      "... procrustes: rmse 0.004367738  max resid 0.02382829 \n",
      "Run 3 stress 0.09105925 \n",
      "... procrustes: rmse 0.00436775  max resid 0.02382645 \n",
      "Run 4 stress 0.09131854 \n",
      "Run 5 stress 0.1750379 \n",
      "Run 6 stress 0.09105925 \n",
      "... procrustes: rmse 0.004368944  max resid 0.02385645 \n",
      "Run 7 stress 0.09131854 \n",
      "Run 8 stress 0.09131854 \n",
      "Run 9 stress 0.09067075 \n",
      "... New best solution\n",
      "... procrustes: rmse 7.404192e-06  max resid 3.200759e-05 \n",
      "*** Solution reached\n",
      "Processing: /home/nick/notebook/SIPSim/dev/bac_genome1147/atomIncorp_taxaIncorp/25/5/7\n",
      "Square root transformation\n",
      "Wisconsin double standardization\n",
      "Run 0 stress 0.08930792 \n",
      "Run 1 stress 0.08937975 \n",
      "... procrustes: rmse 0.002153854  max resid 0.0113435 \n",
      "Run 2 stress 0.1229354 \n",
      "Run 3 stress 0.1400184 \n",
      "Run 4 stress 0.08957023 \n",
      "... procrustes: rmse 0.004427693  max resid 0.02591182 \n",
      "Run 5 stress 0.122919 \n",
      "Run 6 stress 0.08930156 \n",
      "... New best solution\n",
      "... procrustes: rmse 0.0008481135  max resid 0.004945288 \n",
      "*** Solution reached\n",
      "**OUTPUT MUTED**"
     ]
    }
   ],
   "source": [
    "def run_HRSIP(dirpath):\n",
    "    cmd = 'cd {}; {} 2> {}'.format(dirpath, './SIPSimRun_HRSIP.sh', 'HR-SIP.log')\n",
    "    !$cmd\n",
    "\n",
    "for FL in HRSIP_me.values():\n",
    "    for D in FL:\n",
    "        print 'Processing: {}'.format(D)\n",
    "        run_HRSIP(D)"
   ]
  },
  {
   "cell_type": "code",
   "execution_count": 239,
   "metadata": {
    "collapsed": false
   },
   "outputs": [
    {
     "name": "stdout",
     "output_type": "stream",
     "text": [
      "Union length: 200\n",
      "Number of missing: 0\n",
      "Number of empties: 0\n"
     ]
    }
   ],
   "source": [
    "HRSIP_me = find_missing_files('*/*/*/OTU_abs1e9_PCR_sub_filt_DESeq2') "
   ]
  },
  {
   "cell_type": "markdown",
   "metadata": {},
   "source": [
    "## Finding all qSIP pipeline incompletes"
   ]
  },
  {
   "cell_type": "code",
   "execution_count": 212,
   "metadata": {
    "collapsed": false
   },
   "outputs": [
    {
     "name": "stdout",
     "output_type": "stream",
     "text": [
      "Union length: 200\n",
      "Number of missing: 80\n",
      "Number of empties: 1\n"
     ]
    }
   ],
   "source": [
    "qSIP_me = find_missing_files('*/*/*/*qSIP_atom.txt')  "
   ]
  },
  {
   "cell_type": "markdown",
   "metadata": {},
   "source": [
    "### re-running qSIP"
   ]
  },
  {
   "cell_type": "code",
   "execution_count": null,
   "metadata": {
    "collapsed": false
   },
   "outputs": [
    {
     "name": "stdout",
     "output_type": "stream",
     "text": [
      "Processing: /home/nick/notebook/SIPSim/dev/bac_genome1147/atomIncorp_taxaIncorp/100/25/6\n"
     ]
    }
   ],
   "source": [
    "def run_qSIP(dirpath):\n",
    "    #cmd = os.path.join(dirpath, 'SIPSimRun_qSIP.sh')\n",
    "    #log = os.path.join(dirpath, 'qSIP.log')\n",
    "    cmd = 'cd {}; perl -pi -e \"s/--np 10/--np 20/\" {}'.format(dirpath, 'SIPSimRun_qSIP.sh')\n",
    "    !$cmd\n",
    "    cmd = 'cd {}; {} 2> {}'.format(dirpath, './SIPSimRun_qSIP.sh', 'qSIP.log')\n",
    "    !$cmd\n",
    "\n",
    "for FL in qSIP_me.values():\n",
    "    for D in FL:\n",
    "        print 'Processing: {}'.format(D)\n",
    "        run_qSIP(D)"
   ]
  },
  {
   "cell_type": "code",
   "execution_count": null,
   "metadata": {
    "collapsed": true
   },
   "outputs": [],
   "source": [
    "%pushnote qSIP rerun complete"
   ]
  },
  {
   "cell_type": "markdown",
   "metadata": {},
   "source": [
    "### re-running cMtx"
   ]
  },
  {
   "cell_type": "code",
   "execution_count": 228,
   "metadata": {
    "collapsed": false
   },
   "outputs": [
    {
     "name": "stdout",
     "output_type": "stream",
     "text": [
      "Union length: 200\n",
      "Number of missing: 82\n",
      "Number of empties: 0\n"
     ]
    }
   ],
   "source": [
    "cMtx_me = find_missing_files('*/*/*/qSIP-cMtx_overall.txt', empty_cut=200)  "
   ]
  },
  {
   "cell_type": "code",
   "execution_count": 242,
   "metadata": {
    "collapsed": false
   },
   "outputs": [
    {
     "name": "stdout",
     "output_type": "stream",
     "text": [
      "Processing: /home/nick/notebook/SIPSim/dev/bac_genome1147/atomIncorp_taxaIncorp/25/50/1\n",
      "Processing: /home/nick/notebook/SIPSim/dev/bac_genome1147/atomIncorp_taxaIncorp/25/5/3\n",
      "Processing: /home/nick/notebook/SIPSim/dev/bac_genome1147/atomIncorp_taxaIncorp/25/50/3\n",
      "Processing: /home/nick/notebook/SIPSim/dev/bac_genome1147/atomIncorp_taxaIncorp/25/50/2\n",
      "Processing: /home/nick/notebook/SIPSim/dev/bac_genome1147/atomIncorp_taxaIncorp/25/50/5\n",
      "Processing: /home/nick/notebook/SIPSim/dev/bac_genome1147/atomIncorp_taxaIncorp/25/50/4\n",
      "Processing: /home/nick/notebook/SIPSim/dev/bac_genome1147/atomIncorp_taxaIncorp/25/50/7\n",
      "Processing: /home/nick/notebook/SIPSim/dev/bac_genome1147/atomIncorp_taxaIncorp/25/50/6\n",
      "Processing: /home/nick/notebook/SIPSim/dev/bac_genome1147/atomIncorp_taxaIncorp/25/50/9\n",
      "Processing: /home/nick/notebook/SIPSim/dev/bac_genome1147/atomIncorp_taxaIncorp/25/50/8\n",
      "Processing: /home/nick/notebook/SIPSim/dev/bac_genome1147/atomIncorp_taxaIncorp/25/25/9\n",
      "Processing: /home/nick/notebook/SIPSim/dev/bac_genome1147/atomIncorp_taxaIncorp/100/10/10\n",
      "Processing: /home/nick/notebook/SIPSim/dev/bac_genome1147/atomIncorp_taxaIncorp/100/5/10\n",
      "Processing: /home/nick/notebook/SIPSim/dev/bac_genome1147/atomIncorp_taxaIncorp/25/1/10\n",
      "Processing: /home/nick/notebook/SIPSim/dev/bac_genome1147/atomIncorp_taxaIncorp/25/10/3\n",
      "Processing: /home/nick/notebook/SIPSim/dev/bac_genome1147/atomIncorp_taxaIncorp/25/25/10\n",
      "Processing: /home/nick/notebook/SIPSim/dev/bac_genome1147/atomIncorp_taxaIncorp/25/1/8\n",
      "Processing: /home/nick/notebook/SIPSim/dev/bac_genome1147/atomIncorp_taxaIncorp/25/5/6\n",
      "Processing: /home/nick/notebook/SIPSim/dev/bac_genome1147/atomIncorp_taxaIncorp/25/5/5\n",
      "Processing: /home/nick/notebook/SIPSim/dev/bac_genome1147/atomIncorp_taxaIncorp/100/1/4\n",
      "Processing: /home/nick/notebook/SIPSim/dev/bac_genome1147/atomIncorp_taxaIncorp/25/5/4\n",
      "Processing: /home/nick/notebook/SIPSim/dev/bac_genome1147/atomIncorp_taxaIncorp/25/10/8\n",
      "Processing: /home/nick/notebook/SIPSim/dev/bac_genome1147/atomIncorp_taxaIncorp/100/1/5\n",
      "Processing: /home/nick/notebook/SIPSim/dev/bac_genome1147/atomIncorp_taxaIncorp/25/5/7\n",
      "Processing: /home/nick/notebook/SIPSim/dev/bac_genome1147/atomIncorp_taxaIncorp/100/1/7\n",
      "Processing: /home/nick/notebook/SIPSim/dev/bac_genome1147/atomIncorp_taxaIncorp/100/1/6\n",
      "Processing: /home/nick/notebook/SIPSim/dev/bac_genome1147/atomIncorp_taxaIncorp/100/1/1\n",
      "Processing: /home/nick/notebook/SIPSim/dev/bac_genome1147/atomIncorp_taxaIncorp/25/25/8\n",
      "Processing: /home/nick/notebook/SIPSim/dev/bac_genome1147/atomIncorp_taxaIncorp/100/1/3\n",
      "Processing: /home/nick/notebook/SIPSim/dev/bac_genome1147/atomIncorp_taxaIncorp/100/1/2\n",
      "Processing: /home/nick/notebook/SIPSim/dev/bac_genome1147/atomIncorp_taxaIncorp/25/25/5\n",
      "Processing: /home/nick/notebook/SIPSim/dev/bac_genome1147/atomIncorp_taxaIncorp/25/25/4\n",
      "Processing: /home/nick/notebook/SIPSim/dev/bac_genome1147/atomIncorp_taxaIncorp/25/25/7\n",
      "Processing: /home/nick/notebook/SIPSim/dev/bac_genome1147/atomIncorp_taxaIncorp/25/25/6\n",
      "Processing: /home/nick/notebook/SIPSim/dev/bac_genome1147/atomIncorp_taxaIncorp/100/1/9\n",
      "Processing: /home/nick/notebook/SIPSim/dev/bac_genome1147/atomIncorp_taxaIncorp/100/1/8\n",
      "Processing: /home/nick/notebook/SIPSim/dev/bac_genome1147/atomIncorp_taxaIncorp/25/25/3\n",
      "Processing: /home/nick/notebook/SIPSim/dev/bac_genome1147/atomIncorp_taxaIncorp/25/25/2\n",
      "Processing: /home/nick/notebook/SIPSim/dev/bac_genome1147/atomIncorp_taxaIncorp/100/1/10\n",
      "Processing: /home/nick/notebook/SIPSim/dev/bac_genome1147/atomIncorp_taxaIncorp/25/5/2\n",
      "Processing: /home/nick/notebook/SIPSim/dev/bac_genome1147/atomIncorp_taxaIncorp/25/10/10\n",
      "Processing: /home/nick/notebook/SIPSim/dev/bac_genome1147/atomIncorp_taxaIncorp/25/50/10\n",
      "Processing: /home/nick/notebook/SIPSim/dev/bac_genome1147/atomIncorp_taxaIncorp/25/5/1\n",
      "Processing: /home/nick/notebook/SIPSim/dev/bac_genome1147/atomIncorp_taxaIncorp/25/5/10\n",
      "Processing: /home/nick/notebook/SIPSim/dev/bac_genome1147/atomIncorp_taxaIncorp/25/10/5\n",
      "Processing: /home/nick/notebook/SIPSim/dev/bac_genome1147/atomIncorp_taxaIncorp/25/10/4\n",
      "Processing: /home/nick/notebook/SIPSim/dev/bac_genome1147/atomIncorp_taxaIncorp/25/10/7\n",
      "Processing: /home/nick/notebook/SIPSim/dev/bac_genome1147/atomIncorp_taxaIncorp/25/10/6\n",
      "Processing: /home/nick/notebook/SIPSim/dev/bac_genome1147/atomIncorp_taxaIncorp/25/10/1\n",
      "Processing: /home/nick/notebook/SIPSim/dev/bac_genome1147/atomIncorp_taxaIncorp/100/10/9\n",
      "Processing: /home/nick/notebook/SIPSim/dev/bac_genome1147/atomIncorp_taxaIncorp/100/25/6\n",
      "Processing: /home/nick/notebook/SIPSim/dev/bac_genome1147/atomIncorp_taxaIncorp/25/10/2\n",
      "Processing: /home/nick/notebook/SIPSim/dev/bac_genome1147/atomIncorp_taxaIncorp/100/10/4\n",
      "Processing: /home/nick/notebook/SIPSim/dev/bac_genome1147/atomIncorp_taxaIncorp/100/10/5\n",
      "Processing: /home/nick/notebook/SIPSim/dev/bac_genome1147/atomIncorp_taxaIncorp/100/10/6\n",
      "Processing: /home/nick/notebook/SIPSim/dev/bac_genome1147/atomIncorp_taxaIncorp/100/10/7\n",
      "Processing: /home/nick/notebook/SIPSim/dev/bac_genome1147/atomIncorp_taxaIncorp/25/10/9\n",
      "Processing: /home/nick/notebook/SIPSim/dev/bac_genome1147/atomIncorp_taxaIncorp/100/10/1\n",
      "Processing: /home/nick/notebook/SIPSim/dev/bac_genome1147/atomIncorp_taxaIncorp/100/10/2\n",
      "Processing: /home/nick/notebook/SIPSim/dev/bac_genome1147/atomIncorp_taxaIncorp/100/10/3\n",
      "Processing: /home/nick/notebook/SIPSim/dev/bac_genome1147/atomIncorp_taxaIncorp/100/5/9\n",
      "Processing: /home/nick/notebook/SIPSim/dev/bac_genome1147/atomIncorp_taxaIncorp/100/5/8\n",
      "Processing: /home/nick/notebook/SIPSim/dev/bac_genome1147/atomIncorp_taxaIncorp/25/1/9\n",
      "Processing: /home/nick/notebook/SIPSim/dev/bac_genome1147/atomIncorp_taxaIncorp/100/5/1\n",
      "Processing: /home/nick/notebook/SIPSim/dev/bac_genome1147/atomIncorp_taxaIncorp/25/25/1\n",
      "Processing: /home/nick/notebook/SIPSim/dev/bac_genome1147/atomIncorp_taxaIncorp/100/5/3\n",
      "Processing: /home/nick/notebook/SIPSim/dev/bac_genome1147/atomIncorp_taxaIncorp/100/5/2\n",
      "Processing: /home/nick/notebook/SIPSim/dev/bac_genome1147/atomIncorp_taxaIncorp/100/5/5\n",
      "Processing: /home/nick/notebook/SIPSim/dev/bac_genome1147/atomIncorp_taxaIncorp/100/5/4\n",
      "Processing: /home/nick/notebook/SIPSim/dev/bac_genome1147/atomIncorp_taxaIncorp/100/5/7\n",
      "Processing: /home/nick/notebook/SIPSim/dev/bac_genome1147/atomIncorp_taxaIncorp/100/5/6\n",
      "Processing: /home/nick/notebook/SIPSim/dev/bac_genome1147/atomIncorp_taxaIncorp/25/1/2\n",
      "Processing: /home/nick/notebook/SIPSim/dev/bac_genome1147/atomIncorp_taxaIncorp/25/1/3\n",
      "Processing: /home/nick/notebook/SIPSim/dev/bac_genome1147/atomIncorp_taxaIncorp/25/1/1\n",
      "Processing: /home/nick/notebook/SIPSim/dev/bac_genome1147/atomIncorp_taxaIncorp/25/1/6\n",
      "Processing: /home/nick/notebook/SIPSim/dev/bac_genome1147/atomIncorp_taxaIncorp/25/5/8\n",
      "Processing: /home/nick/notebook/SIPSim/dev/bac_genome1147/atomIncorp_taxaIncorp/25/1/4\n",
      "Processing: /home/nick/notebook/SIPSim/dev/bac_genome1147/atomIncorp_taxaIncorp/25/1/5\n",
      "Processing: /home/nick/notebook/SIPSim/dev/bac_genome1147/atomIncorp_taxaIncorp/100/10/8\n",
      "Processing: /home/nick/notebook/SIPSim/dev/bac_genome1147/atomIncorp_taxaIncorp/25/1/7\n",
      "Processing: /home/nick/notebook/SIPSim/dev/bac_genome1147/atomIncorp_taxaIncorp/25/5/9\n",
      "Processing: /home/nick/notebook/SIPSim/dev/bac_genome1147/atomIncorp_taxaIncorp/100/25/5\n"
     ]
    }
   ],
   "source": [
    "def run_cMtx(dirpath):\n",
    "    cmd = 'cd {}; {} 2> {}'.format(dirpath, './SIPSimRun_cMtx.sh', 'cMtx.log')\n",
    "    !$cmd\n",
    "\n",
    "for FL in cMtx_me.values():\n",
    "    for D in FL:\n",
    "        print 'Processing: {}'.format(D)\n",
    "        run_cMtx(D)"
   ]
  },
  {
   "cell_type": "code",
   "execution_count": 243,
   "metadata": {
    "collapsed": false
   },
   "outputs": [
    {
     "name": "stdout",
     "output_type": "stream",
     "text": [
      "Union length: 200\n",
      "Number of missing: 0\n",
      "Number of empties: 0\n"
     ]
    }
   ],
   "source": [
    "cMtx_me = find_missing_files('*/*/*/qSIP-cMtx_overall.txt', empty_cut=200)  "
   ]
  },
  {
   "cell_type": "code",
   "execution_count": 244,
   "metadata": {
    "collapsed": true
   },
   "outputs": [],
   "source": [
    "%pushnote cMtx rerun complete"
   ]
  },
  {
   "cell_type": "code",
   "execution_count": null,
   "metadata": {
    "collapsed": true
   },
   "outputs": [],
   "source": []
  },
  {
   "cell_type": "code",
   "execution_count": null,
   "metadata": {
    "collapsed": true
   },
   "outputs": [],
   "source": []
  },
  {
   "cell_type": "markdown",
   "metadata": {},
   "source": [
    "# -- Sandbox --#"
   ]
  },
  {
   "cell_type": "code",
   "execution_count": 97,
   "metadata": {
    "collapsed": false
   },
   "outputs": [
    {
     "data": {
      "text/plain": [
       "      A lag(A)\n",
       "1  TRUE     NA\n",
       "2 FALSE   TRUE\n",
       "3  TRUE  FALSE\n",
       "4  TRUE   TRUE\n"
      ]
     },
     "metadata": {},
     "output_type": "display_data"
    }
   ],
   "source": [
    "%%R\n",
    "df = data.frame(A = c(TRUE, FALSE, TRUE, TRUE))\n",
    "df %>% mutate(lag(A))"
   ]
  }
 ],
 "metadata": {
  "hide_input": true,
  "kernelspec": {
   "display_name": "Python 2",
   "language": "python",
   "name": "python2"
  },
  "language_info": {
   "codemirror_mode": {
    "name": "ipython",
    "version": 2
   },
   "file_extension": ".py",
   "mimetype": "text/x-python",
   "name": "python",
   "nbconvert_exporter": "python",
   "pygments_lexer": "ipython2",
   "version": "2.7.11"
  }
 },
 "nbformat": 4,
 "nbformat_minor": 0
}
