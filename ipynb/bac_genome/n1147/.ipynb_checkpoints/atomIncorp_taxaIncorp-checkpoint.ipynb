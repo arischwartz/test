{
 "cells": [
  {
   "cell_type": "markdown",
   "metadata": {
    "code_folding": []
   },
   "source": [
    "# Goal\n",
    "\n",
    "Accuracy as a function of isotope incorporation\n",
    "\n",
    "### Variable parameters:\n",
    "\n",
    "* atom % isotope incorporation\n",
    "  * 0, 25, 50, 100\n",
    "* % taxa that incorporate\n",
    "  * __1, 5, 10, 25, 50__\n",
    "* n-reps (stocastic: taxon abundances & which incorporate)\n",
    "  * 10 "
   ]
  },
  {
   "cell_type": "markdown",
   "metadata": {},
   "source": [
    "## Init"
   ]
  },
  {
   "cell_type": "code",
   "execution_count": 42,
   "metadata": {
    "collapsed": false
   },
   "outputs": [],
   "source": [
    "import os\n",
    "import glob\n",
    "import itertools\n",
    "import nestly"
   ]
  },
  {
   "cell_type": "code",
   "execution_count": 43,
   "metadata": {
    "collapsed": false
   },
   "outputs": [
    {
     "name": "stdout",
     "output_type": "stream",
     "text": [
      "The rpy2.ipython extension is already loaded. To reload it, use:\n",
      "  %reload_ext rpy2.ipython\n",
      "The pushnote extension is already loaded. To reload it, use:\n",
      "  %reload_ext pushnote\n"
     ]
    }
   ],
   "source": [
    "%load_ext rpy2.ipython\n",
    "%load_ext pushnote"
   ]
  },
  {
   "cell_type": "code",
   "execution_count": 44,
   "metadata": {
    "collapsed": false
   },
   "outputs": [],
   "source": [
    "%%R\n",
    "library(ggplot2)\n",
    "library(dplyr)\n",
    "library(tidyr)\n",
    "library(gridExtra)"
   ]
  },
  {
   "cell_type": "markdown",
   "metadata": {},
   "source": [
    "### BD min/max"
   ]
  },
  {
   "cell_type": "code",
   "execution_count": 45,
   "metadata": {
    "collapsed": false
   },
   "outputs": [
    {
     "name": "stdout",
     "output_type": "stream",
     "text": [
      "Min BD: 1.67323\n",
      "Max BD: 1.7744\n"
     ]
    }
   ],
   "source": [
    "## min G+C cutoff\n",
    "min_GC = 13.5\n",
    "## max G+C cutoff\n",
    "max_GC = 80\n",
    "## max G+C shift\n",
    "max_13C_shift_in_BD = 0.036\n",
    "\n",
    "\n",
    "min_BD = min_GC/100.0 * 0.098 + 1.66    \n",
    "max_BD = max_GC/100.0 * 0.098 + 1.66    \n",
    "\n",
    "max_BD = max_BD + max_13C_shift_in_BD\n",
    "\n",
    "print 'Min BD: {}'.format(min_BD)\n",
    "print 'Max BD: {}'.format(max_BD)"
   ]
  },
  {
   "cell_type": "markdown",
   "metadata": {},
   "source": [
    "# Nestly\n",
    "\n",
    "* assuming fragments already simulated"
   ]
  },
  {
   "cell_type": "code",
   "execution_count": 46,
   "metadata": {
    "collapsed": false
   },
   "outputs": [],
   "source": [
    "# paths\n",
    "workDir = '/home/nick/notebook/SIPSim/dev/bac_genome1147/'\n",
    "buildDir = os.path.join(workDir, 'atomIncorp_taxaIncorp')\n",
    "R_dir = '/home/nick/notebook/SIPSim/lib/R/'\n",
    "\n",
    "fragFile = '/home/nick/notebook/SIPSim/dev/bac_genome1147/validation/ampFrags_kde.pkl'\n",
    "genome_index = '/var/seq_data/ncbi_db/genome/Jan2016/bac_complete_spec-rep1_rn/genome_index.txt'"
   ]
  },
  {
   "cell_type": "code",
   "execution_count": 47,
   "metadata": {
    "collapsed": false
   },
   "outputs": [
    {
     "name": "stdout",
     "output_type": "stream",
     "text": [
      "/home/nick/notebook/SIPSim/dev/bac_genome1147/atomIncorp_taxaIncorp\n"
     ]
    }
   ],
   "source": [
    "if not os.path.isdir(buildDir):\n",
    "    os.makedirs(buildDir)\n",
    "%cd $buildDir"
   ]
  },
  {
   "cell_type": "code",
   "execution_count": 48,
   "metadata": {
    "collapsed": false
   },
   "outputs": [
    {
     "name": "stdout",
     "output_type": "stream",
     "text": [
      "1\tcontrol\r\n",
      "2\ttreatment\r\n",
      "3\tcontrol\r\n",
      "4\ttreatment\r\n",
      "5\tcontrol\r\n",
      "6\ttreatment\r\n"
     ]
    }
   ],
   "source": [
    "# making an experimental design file for qSIP\n",
    "x = range(1,7)\n",
    "y = ['control', 'treatment']\n",
    "\n",
    "expDesignFile = os.path.join(buildDir, 'qSIP_exp_design.txt')\n",
    "with open(expDesignFile, 'wb') as outFH:\n",
    "    for i,z in itertools.izip(x,itertools.cycle(y)):\n",
    "        line = '\\t'.join([str(i),z])\n",
    "        outFH.write(line + '\\n')\n",
    "\n",
    "!head $expDesignFile       "
   ]
  },
  {
   "cell_type": "markdown",
   "metadata": {},
   "source": [
    "## Nestly params"
   ]
  },
  {
   "cell_type": "code",
   "execution_count": 49,
   "metadata": {
    "collapsed": false
   },
   "outputs": [],
   "source": [
    "# building tree structure\n",
    "nest = nestly.Nest()\n",
    "\n",
    "# varying params: test\n",
    "#nest.add('percIncorp', [100])\n",
    "#nest.add('percTaxa', [10])\n",
    "#nest.add('rep', range(1,4))\n",
    "\n",
    "# varying params\n",
    "nest.add('percIncorp', [0, 25, 50, 100])\n",
    "nest.add('percTaxa', [1, 5, 10, 25, 50])\n",
    "nest.add('rep', range(1,11))\n",
    "\n",
    "## set params\n",
    "nest.add('abs', ['1e9'], create_dir=False)\n",
    "nest.add('np', [10], create_dir=False)\n",
    "nest.add('Monte_rep', [100000], create_dir=False)\n",
    "nest.add('subsample_dist', ['lognormal'], create_dir=False)\n",
    "nest.add('subsample_mean', [9.432], create_dir=False)\n",
    "nest.add('subsample_scale', [0.5], create_dir=False)\n",
    "nest.add('subsample_min', [10000], create_dir=False)\n",
    "nest.add('subsample_max', [30000], create_dir=False)\n",
    "nest.add('min_BD', [min_BD], create_dir=False)\n",
    "nest.add('max_BD', [max_BD], create_dir=False)\n",
    "nest.add('DBL_scaling', [0.5], create_dir=False)\n",
    "nest.add('bandwidth', [0.8], create_dir=False)\n",
    "nest.add('heavy_BD_min', [1.71], create_dir=False)\n",
    "nest.add('heavy_BD_max', [1.75], create_dir=False)\n",
    "nest.add('topTaxaToPlot', [100], create_dir=False)\n",
    "nest.add('padj', [0.1], create_dir=False)\n",
    "nest.add('log2', [0.25], create_dir=False)\n",
    "\n",
    "### input/output files\n",
    "nest.add('buildDir', [buildDir], create_dir=False)\n",
    "nest.add('R_dir', [R_dir], create_dir=False)\n",
    "nest.add('genome_index', [genome_index], create_dir=False)\n",
    "nest.add('fragFile', [fragFile], create_dir=False)\n",
    "nest.add('exp_design', [expDesignFile], create_dir=False)\n",
    "\n",
    "\n",
    "# building directory tree\n",
    "nest.build(buildDir)\n",
    "\n",
    "# bash file to run\n",
    "bashFile = os.path.join(buildDir, 'SIPSimRun.sh')"
   ]
  },
  {
   "cell_type": "markdown",
   "metadata": {},
   "source": [
    "## Experimental design"
   ]
  },
  {
   "cell_type": "code",
   "execution_count": 72,
   "metadata": {
    "collapsed": false
   },
   "outputs": [
    {
     "data": {
      "text/plain": [
       "'/home/nick/notebook/SIPSim/dev/bac_genome1147/atomIncorp_taxaIncorp/SIPSimRun_expDesign.sh'"
      ]
     },
     "execution_count": 72,
     "metadata": {},
     "output_type": "execute_result"
    }
   ],
   "source": [
    "bashFileTmp = os.path.splitext(bashFile)[0] + '_expDesign.sh'\n",
    "bashFileTmp"
   ]
  },
  {
   "cell_type": "code",
   "execution_count": 73,
   "metadata": {
    "collapsed": false
   },
   "outputs": [
    {
     "name": "stdout",
     "output_type": "stream",
     "text": [
      "Writing /home/nick/notebook/SIPSim/dev/bac_genome1147/atomIncorp_taxaIncorp/SIPSimRun_expDesign.sh\n"
     ]
    }
   ],
   "source": [
    "%%writefile $bashFileTmp\n",
    "#!/bin/bash\n",
    "\n",
    "echo '#-- Experimental design --#'\n",
    "\n",
    "echo '# Making an isotope incorporation config file'\n",
    "echo '## 3 replicate gradients for control & treatment'\n",
    "SIPSim incorpConfigExample \\\n",
    "  --percIncorpUnif {percIncorp} \\\n",
    "  --n_reps 3 \\\n",
    "  > incorp.config\n",
    "\n",
    "echo '# Selecting incorporator taxa'\n",
    "echo '## This is to make the gradient replicates consistent (qSIP finds mean among replicates)'\n",
    "SIPSim KDE_selectTaxa \\\n",
    "    -p {percTaxa} \\\n",
    "    {fragFile} \\\n",
    "    > incorporators.txt\n",
    "\n",
    "echo '# Creating a community file (3 replicate control, 3 replicate treatment)'\n",
    "SIPSim communities \\\n",
    "    --config incorp.config \\\n",
    "    {genome_index} \\\n",
    "    > comm.txt    \n",
    "\n",
    "echo '# simulating gradient fractions'\n",
    "SIPSim gradient_fractions \\\n",
    "    --BD_min {min_BD} \\\n",
    "    --BD_max {max_BD} \\\n",
    "    comm.txt \\\n",
    "    > fracs.txt        "
   ]
  },
  {
   "cell_type": "code",
   "execution_count": 51,
   "metadata": {
    "collapsed": false
   },
   "outputs": [
    {
     "name": "stdout",
     "output_type": "stream",
     "text": [
      "2016-03-28 06:59:24,041 * INFO * Template: ./SIPSimRun.sh\n",
      "2016-03-28 06:59:24,043 * INFO * [145094] Started ./SIPSimRun.sh in atomIncorp_taxaIncorp/50/50/7\n",
      "2016-03-28 06:59:24,044 * INFO * [145095] Started ./SIPSimRun.sh in atomIncorp_taxaIncorp/50/50/9\n",
      "2016-03-28 06:59:24,045 * INFO * [145097] Started ./SIPSimRun.sh in atomIncorp_taxaIncorp/50/50/8\n",
      "2016-03-28 06:59:24,047 * INFO * [145099] Started ./SIPSimRun.sh in atomIncorp_taxaIncorp/50/50/3\n",
      "2016-03-28 06:59:24,048 * INFO * [145101] Started ./SIPSimRun.sh in atomIncorp_taxaIncorp/50/50/10\n",
      "2016-03-28 06:59:24,050 * INFO * [145103] Started ./SIPSimRun.sh in atomIncorp_taxaIncorp/50/50/2\n",
      "2016-03-28 06:59:24,052 * INFO * [145105] Started ./SIPSimRun.sh in atomIncorp_taxaIncorp/50/50/1\n",
      "2016-03-28 06:59:24,054 * INFO * [145107] Started ./SIPSimRun.sh in atomIncorp_taxaIncorp/50/50/4\n",
      "2016-03-28 06:59:24,056 * INFO * [145109] Started ./SIPSimRun.sh in atomIncorp_taxaIncorp/50/50/5\n",
      "2016-03-28 06:59:24,058 * INFO * [145111] Started ./SIPSimRun.sh in atomIncorp_taxaIncorp/50/50/6\n",
      "2016-03-28 06:59:31,558 * INFO * [145109] atomIncorp_taxaIncorp/50/50/5 Finished with 0\n",
      "2016-03-28 06:59:31,560 * INFO * [146304] Started ./SIPSimRun.sh in atomIncorp_taxaIncorp/50/25/7\n",
      "2016-03-28 06:59:31,560 * INFO * [145094] atomIncorp_taxaIncorp/50/50/7 Finished with 0\n",
      "2016-03-28 06:59:31,562 * INFO * [146305] Started ./SIPSimRun.sh in atomIncorp_taxaIncorp/50/25/9\n",
      "2016-03-28 06:59:31,562 * INFO * [145095] atomIncorp_taxaIncorp/50/50/9 Finished with 0\n",
      "2016-03-28 06:59:31,563 * INFO * [146307] Started ./SIPSimRun.sh in atomIncorp_taxaIncorp/50/25/8\n",
      "2016-03-28 06:59:31,563 * INFO * [145097] atomIncorp_taxaIncorp/50/50/8 Finished with 0\n",
      "2016-03-28 06:59:31,565 * INFO * [146309] Started ./SIPSimRun.sh in atomIncorp_taxaIncorp/50/25/3\n",
      "2016-03-28 06:59:31,565 * INFO * [145099] atomIncorp_taxaIncorp/50/50/3 Finished with 0\n",
      "2016-03-28 06:59:31,566 * INFO * [146311] Started ./SIPSimRun.sh in atomIncorp_taxaIncorp/50/25/10\n",
      "2016-03-28 06:59:31,566 * INFO * [145101] atomIncorp_taxaIncorp/50/50/10 Finished with 0\n",
      "2016-03-28 06:59:31,568 * INFO * [146313] Started ./SIPSimRun.sh in atomIncorp_taxaIncorp/50/25/2\n",
      "2016-03-28 06:59:31,568 * INFO * [145103] atomIncorp_taxaIncorp/50/50/2 Finished with 0\n",
      "2016-03-28 06:59:31,569 * INFO * [146315] Started ./SIPSimRun.sh in atomIncorp_taxaIncorp/50/25/1\n",
      "2016-03-28 06:59:31,569 * INFO * [145105] atomIncorp_taxaIncorp/50/50/1 Finished with 0\n",
      "2016-03-28 06:59:31,570 * INFO * [146317] Started ./SIPSimRun.sh in atomIncorp_taxaIncorp/50/25/4\n",
      "2016-03-28 06:59:31,571 * INFO * [145111] atomIncorp_taxaIncorp/50/50/6 Finished with 0\n",
      "2016-03-28 06:59:31,572 * INFO * [146319] Started ./SIPSimRun.sh in atomIncorp_taxaIncorp/50/25/5\n",
      "2016-03-28 06:59:31,573 * INFO * [145107] atomIncorp_taxaIncorp/50/50/4 Finished with 0\n",
      "2016-03-28 06:59:31,574 * INFO * [146321] Started ./SIPSimRun.sh in atomIncorp_taxaIncorp/50/25/6\n",
      "2016-03-28 06:59:36,359 * INFO * [146309] atomIncorp_taxaIncorp/50/25/3 Finished with 0\n",
      "2016-03-28 06:59:36,361 * INFO * [147422] Started ./SIPSimRun.sh in atomIncorp_taxaIncorp/50/10/7\n",
      "2016-03-28 06:59:36,383 * INFO * [146319] atomIncorp_taxaIncorp/50/25/5 Finished with 0\n",
      "2016-03-28 06:59:36,385 * INFO * [147424] Started ./SIPSimRun.sh in atomIncorp_taxaIncorp/50/10/9\n",
      "2016-03-28 06:59:36,404 * INFO * [146321] atomIncorp_taxaIncorp/50/25/6 Finished with 0\n",
      "2016-03-28 06:59:36,406 * INFO * [147426] Started ./SIPSimRun.sh in atomIncorp_taxaIncorp/50/10/8\n",
      "2016-03-28 06:59:36,456 * INFO * [146317] atomIncorp_taxaIncorp/50/25/4 Finished with 0\n",
      "2016-03-28 06:59:36,457 * INFO * [147439] Started ./SIPSimRun.sh in atomIncorp_taxaIncorp/50/10/3\n",
      "2016-03-28 06:59:36,470 * INFO * [146305] atomIncorp_taxaIncorp/50/25/9 Finished with 0\n",
      "2016-03-28 06:59:36,471 * INFO * [147441] Started ./SIPSimRun.sh in atomIncorp_taxaIncorp/50/10/10\n",
      "2016-03-28 06:59:36,488 * INFO * [146315] atomIncorp_taxaIncorp/50/25/1 Finished with 0\n",
      "2016-03-28 06:59:36,490 * INFO * [147443] Started ./SIPSimRun.sh in atomIncorp_taxaIncorp/50/10/2\n",
      "2016-03-28 06:59:36,540 * INFO * [146307] atomIncorp_taxaIncorp/50/25/8 Finished with 0\n",
      "2016-03-28 06:59:36,541 * INFO * [147447] Started ./SIPSimRun.sh in atomIncorp_taxaIncorp/50/10/1\n",
      "2016-03-28 06:59:36,550 * INFO * [146313] atomIncorp_taxaIncorp/50/25/2 Finished with 0\n",
      "2016-03-28 06:59:36,552 * INFO * [147449] Started ./SIPSimRun.sh in atomIncorp_taxaIncorp/50/10/4\n",
      "2016-03-28 06:59:36,604 * INFO * [146304] atomIncorp_taxaIncorp/50/25/7 Finished with 0\n",
      "2016-03-28 06:59:36,606 * INFO * [147452] Started ./SIPSimRun.sh in atomIncorp_taxaIncorp/50/10/5\n",
      "2016-03-28 06:59:36,783 * INFO * [146311] atomIncorp_taxaIncorp/50/25/10 Finished with 0\n",
      "2016-03-28 06:59:36,784 * INFO * [147526] Started ./SIPSimRun.sh in atomIncorp_taxaIncorp/50/10/6\n",
      "2016-03-28 06:59:41,169 * INFO * [147424] atomIncorp_taxaIncorp/50/10/9 Finished with 0\n",
      "2016-03-28 06:59:41,170 * INFO * [148493] Started ./SIPSimRun.sh in atomIncorp_taxaIncorp/50/1/7\n",
      "2016-03-28 06:59:41,303 * INFO * [147441] atomIncorp_taxaIncorp/50/10/10 Finished with 0\n",
      "2016-03-28 06:59:41,304 * INFO * [148534] Started ./SIPSimRun.sh in atomIncorp_taxaIncorp/50/1/9\n",
      "2016-03-28 06:59:41,412 * INFO * [147422] atomIncorp_taxaIncorp/50/10/7 Finished with 0\n",
      "2016-03-28 06:59:41,413 * INFO * [148554] Started ./SIPSimRun.sh in atomIncorp_taxaIncorp/50/1/8\n",
      "2016-03-28 06:59:41,455 * INFO * [147439] atomIncorp_taxaIncorp/50/10/3 Finished with 0\n",
      "2016-03-28 06:59:41,456 * INFO * [148567] Started ./SIPSimRun.sh in atomIncorp_taxaIncorp/50/1/3\n",
      "2016-03-28 06:59:41,462 * INFO * [147426] atomIncorp_taxaIncorp/50/10/8 Finished with 0\n",
      "2016-03-28 06:59:41,465 * INFO * [148569] Started ./SIPSimRun.sh in atomIncorp_taxaIncorp/50/1/10\n",
      "2016-03-28 06:59:41,573 * INFO * [147447] atomIncorp_taxaIncorp/50/10/1 Finished with 0\n",
      "2016-03-28 06:59:41,575 * INFO * [148576] Started ./SIPSimRun.sh in atomIncorp_taxaIncorp/50/1/2\n",
      "2016-03-28 06:59:41,640 * INFO * [147452] atomIncorp_taxaIncorp/50/10/5 Finished with 0\n",
      "2016-03-28 06:59:41,642 * INFO * [148588] Started ./SIPSimRun.sh in atomIncorp_taxaIncorp/50/1/1\n",
      "2016-03-28 06:59:41,665 * INFO * [147443] atomIncorp_taxaIncorp/50/10/2 Finished with 0\n",
      "2016-03-28 06:59:41,667 * INFO * [148592] Started ./SIPSimRun.sh in atomIncorp_taxaIncorp/50/1/4\n",
      "2016-03-28 06:59:41,786 * INFO * [147449] atomIncorp_taxaIncorp/50/10/4 Finished with 0\n",
      "2016-03-28 06:59:41,787 * INFO * [148643] Started ./SIPSimRun.sh in atomIncorp_taxaIncorp/50/1/5\n",
      "2016-03-28 06:59:42,050 * INFO * [147526] atomIncorp_taxaIncorp/50/10/6 Finished with 0\n",
      "2016-03-28 06:59:42,052 * INFO * [148706] Started ./SIPSimRun.sh in atomIncorp_taxaIncorp/50/1/6\n",
      "2016-03-28 06:59:45,927 * INFO * [148493] atomIncorp_taxaIncorp/50/1/7 Finished with 0\n",
      "2016-03-28 06:59:45,928 * INFO * [149529] Started ./SIPSimRun.sh in atomIncorp_taxaIncorp/50/5/7\n",
      "2016-03-28 06:59:46,311 * INFO * [148534] atomIncorp_taxaIncorp/50/1/9 Finished with 0\n",
      "2016-03-28 06:59:46,313 * INFO * [149631] Started ./SIPSimRun.sh in atomIncorp_taxaIncorp/50/5/9\n",
      "2016-03-28 06:59:46,318 * INFO * [148554] atomIncorp_taxaIncorp/50/1/8 Finished with 0\n",
      "2016-03-28 06:59:46,320 * INFO * [149634] Started ./SIPSimRun.sh in atomIncorp_taxaIncorp/50/5/8\n",
      "2016-03-28 06:59:46,544 * INFO * [148592] atomIncorp_taxaIncorp/50/1/4 Finished with 0\n",
      "2016-03-28 06:59:46,545 * INFO * [149698] Started ./SIPSimRun.sh in atomIncorp_taxaIncorp/50/5/3\n",
      "2016-03-28 06:59:46,684 * INFO * [148569] atomIncorp_taxaIncorp/50/1/10 Finished with 0\n",
      "2016-03-28 06:59:46,686 * INFO * [149755] Started ./SIPSimRun.sh in atomIncorp_taxaIncorp/50/5/10\n",
      "2016-03-28 06:59:46,735 * INFO * [148643] atomIncorp_taxaIncorp/50/1/5 Finished with 0\n",
      "2016-03-28 06:59:46,737 * INFO * [149757] Started ./SIPSimRun.sh in atomIncorp_taxaIncorp/50/5/2\n",
      "2016-03-28 06:59:46,782 * INFO * [148706] atomIncorp_taxaIncorp/50/1/6 Finished with 0\n",
      "2016-03-28 06:59:46,784 * INFO * [149759] Started ./SIPSimRun.sh in atomIncorp_taxaIncorp/50/5/1\n",
      "2016-03-28 06:59:46,854 * INFO * [148567] atomIncorp_taxaIncorp/50/1/3 Finished with 0\n",
      "2016-03-28 06:59:46,855 * INFO * [149776] Started ./SIPSimRun.sh in atomIncorp_taxaIncorp/50/5/4\n",
      "2016-03-28 06:59:46,890 * INFO * [148576] atomIncorp_taxaIncorp/50/1/2 Finished with 0\n",
      "2016-03-28 06:59:46,891 * INFO * [149778] Started ./SIPSimRun.sh in atomIncorp_taxaIncorp/50/5/5\n",
      "2016-03-28 06:59:46,935 * INFO * [148588] atomIncorp_taxaIncorp/50/1/1 Finished with 0\n",
      "2016-03-28 06:59:46,936 * INFO * [149781] Started ./SIPSimRun.sh in atomIncorp_taxaIncorp/50/5/6\n",
      "2016-03-28 06:59:50,644 * INFO * [149529] atomIncorp_taxaIncorp/50/5/7 Finished with 0\n",
      "2016-03-28 06:59:50,646 * INFO * [150608] Started ./SIPSimRun.sh in atomIncorp_taxaIncorp/0/50/7\n",
      "2016-03-28 06:59:51,097 * INFO * [149631] atomIncorp_taxaIncorp/50/5/9 Finished with 0\n",
      "2016-03-28 06:59:51,098 * INFO * [150719] Started ./SIPSimRun.sh in atomIncorp_taxaIncorp/0/50/9\n",
      "2016-03-28 06:59:51,317 * INFO * [149634] atomIncorp_taxaIncorp/50/5/8 Finished with 0\n",
      "2016-03-28 06:59:51,319 * INFO * [150782] Started ./SIPSimRun.sh in atomIncorp_taxaIncorp/0/50/8\n",
      "2016-03-28 06:59:51,536 * INFO * [149759] atomIncorp_taxaIncorp/50/5/1 Finished with 0\n",
      "2016-03-28 06:59:51,538 * INFO * [150821] Started ./SIPSimRun.sh in atomIncorp_taxaIncorp/0/50/3\n",
      "2016-03-28 06:59:51,602 * INFO * [149757] atomIncorp_taxaIncorp/50/5/2 Finished with 0\n",
      "2016-03-28 06:59:51,604 * INFO * [150846] Started ./SIPSimRun.sh in atomIncorp_taxaIncorp/0/50/10\n",
      "2016-03-28 06:59:51,653 * INFO * [149778] atomIncorp_taxaIncorp/50/5/5 Finished with 0\n",
      "2016-03-28 06:59:51,655 * INFO * [150859] Started ./SIPSimRun.sh in atomIncorp_taxaIncorp/0/50/2\n",
      "2016-03-28 06:59:51,769 * INFO * [149698] atomIncorp_taxaIncorp/50/5/3 Finished with 0\n",
      "2016-03-28 06:59:51,771 * INFO * [150878] Started ./SIPSimRun.sh in atomIncorp_taxaIncorp/0/50/1\n",
      "2016-03-28 06:59:51,976 * INFO * [149755] atomIncorp_taxaIncorp/50/5/10 Finished with 0\n",
      "2016-03-28 06:59:51,978 * INFO * [150955] Started ./SIPSimRun.sh in atomIncorp_taxaIncorp/0/50/4\n",
      "**OUTPUT MUTED**"
     ]
    }
   ],
   "source": [
    "!chmod 777 $bashFileTmp\n",
    "!cd $workDir; \\\n",
    "    nestrun --template-file $bashFileTmp -d $buildDir --log-file exp_design.log -j 10"
   ]
  },
  {
   "cell_type": "code",
   "execution_count": 52,
   "metadata": {
    "collapsed": true
   },
   "outputs": [],
   "source": [
    "%pushnote exp_design complete: $buildDir"
   ]
  },
  {
   "cell_type": "markdown",
   "metadata": {},
   "source": [
    "## SIPSim pipeline"
   ]
  },
  {
   "cell_type": "code",
   "execution_count": 75,
   "metadata": {
    "collapsed": false
   },
   "outputs": [
    {
     "data": {
      "text/plain": [
       "'/home/nick/notebook/SIPSim/dev/bac_genome1147/atomIncorp_taxaIncorp/SIPSimRun_SIPSim-pipeline.sh'"
      ]
     },
     "execution_count": 75,
     "metadata": {},
     "output_type": "execute_result"
    }
   ],
   "source": [
    "bashFileTmp = os.path.splitext(bashFile)[0] + '_SIPSim-pipeline.sh'\n",
    "bashFileTmp"
   ]
  },
  {
   "cell_type": "code",
   "execution_count": 76,
   "metadata": {
    "collapsed": false
   },
   "outputs": [
    {
     "name": "stdout",
     "output_type": "stream",
     "text": [
      "Writing /home/nick/notebook/SIPSim/dev/bac_genome1147/atomIncorp_taxaIncorp/SIPSimRun_SIPSim-pipeline.sh\n"
     ]
    }
   ],
   "source": [
    "%%writefile $bashFileTmp\n",
    "#!/bin/bash\n",
    "\n",
    "echo '#-- SIPSim pipeline --#'    \n",
    "    \n",
    "echo '# Adding diffusion'    \n",
    "SIPSim diffusion \\\n",
    "    -n {Monte_rep} \\\n",
    "    --bw {bandwidth} \\\n",
    "    --np {np} \\\n",
    "    {fragFile} \\\n",
    "    > ampFrags_KDE_dif.pkl    \n",
    "\n",
    "echo '# Adding DBL contamination; abundance-weighted smearing'\n",
    "SIPSim DBL \\\n",
    "    -n {Monte_rep} \\\n",
    "    --comm comm.txt \\\n",
    "    --commx {DBL_scaling} \\\n",
    "    --np {np} \\\n",
    "    ampFrags_KDE_dif.pkl \\\n",
    "    > ampFrags_KDE_dif_DBL.pkl \n",
    "\n",
    "echo '# Adding isotope incorporation to BD distribution'\n",
    "SIPSim isotope_incorp \\\n",
    "    -n {Monte_rep} \\\n",
    "    --comm comm.txt \\\n",
    "    --taxa incorporators.txt \\\n",
    "    --np {np} \\\n",
    "    ampFrags_KDE_dif_DBL.pkl \\\n",
    "    incorp.config \\\n",
    "    > ampFrags_KDE_dif_DBL_inc.pkl\n",
    "\n",
    "echo '# Simulating an OTU table'\n",
    "SIPSim OTU_table \\\n",
    "    --abs {abs} \\\n",
    "    --np {np} \\\n",
    "    ampFrags_KDE_dif_DBL_inc.pkl \\\n",
    "    comm.txt \\\n",
    "    fracs.txt \\\n",
    "    > OTU_abs{abs}.txt\n",
    "    \n",
    "echo '# Simulating PCR'\n",
    "SIPSim OTU_PCR \\\n",
    "    OTU_abs{abs}.txt \\\n",
    "    > OTU_abs{abs}_PCR.txt    \n",
    "    \n",
    "echo '# Subsampling from the OTU table (simulating sequencing of the DNA pool)'\n",
    "SIPSim OTU_subsample \\\n",
    "    --dist {subsample_dist} \\\n",
    "    --dist_params mean:{subsample_mean},sigma:{subsample_scale} \\\n",
    "    --min_size {subsample_min} \\\n",
    "    --max_size {subsample_max} \\\n",
    "    OTU_abs{abs}_PCR.txt \\\n",
    "    > OTU_abs{abs}_PCR_sub.txt\n",
    "        \n",
    "echo '# Making a wide-formatted table'\n",
    "SIPSim OTU_wideLong -w \\\n",
    "    OTU_abs{abs}_PCR_sub.txt \\\n",
    "    > OTU_abs{abs}_PCR_sub_w.txt\n",
    "    \n",
    "echo '# Making metadata (phyloseq: sample_data)'\n",
    "SIPSim OTU_sampleData \\\n",
    "    OTU_abs{abs}_PCR_sub.txt \\\n",
    "    > OTU_abs{abs}_PCR_sub_meta.txt\n",
    "       \n",
    "\n",
    "#-- removing large intermediate files --#\n",
    "rm -f ampFrags_KDE_dif.pkl\n",
    "rm -f ampFrags_KDE_dif_DBL.pkl\n",
    "rm -f ampFrags_KDE_dif_DBL_inc.pkl    "
   ]
  },
  {
   "cell_type": "code",
   "execution_count": null,
   "metadata": {
    "collapsed": false
   },
   "outputs": [
    {
     "name": "stdout",
     "output_type": "stream",
     "text": [
      "2016-03-28 07:01:04,305 * INFO * Template: ./SIPSimRun.sh\n",
      "2016-03-28 07:01:04,307 * INFO * [167960] Started ./SIPSimRun.sh in atomIncorp_taxaIncorp/50/50/7\n",
      "2016-03-28 07:01:04,308 * INFO * [167961] Started ./SIPSimRun.sh in atomIncorp_taxaIncorp/50/50/9\n",
      "2016-03-28 07:32:58,553 * INFO * [167961] atomIncorp_taxaIncorp/50/50/9 Finished with 0\n",
      "2016-03-28 07:32:58,631 * INFO * [168813] Started ./SIPSimRun.sh in atomIncorp_taxaIncorp/50/50/8\n",
      "2016-03-28 07:38:10,926 * INFO * [167960] atomIncorp_taxaIncorp/50/50/7 Finished with 0\n",
      "2016-03-28 07:38:10,952 * INFO * [169053] Started ./SIPSimRun.sh in atomIncorp_taxaIncorp/50/50/3\n",
      "2016-03-28 08:06:02,932 * INFO * [168813] atomIncorp_taxaIncorp/50/50/8 Finished with 0\n",
      "2016-03-28 08:06:02,954 * INFO * [170001] Started ./SIPSimRun.sh in atomIncorp_taxaIncorp/50/50/10\n",
      "2016-03-28 08:08:42,327 * INFO * [169053] atomIncorp_taxaIncorp/50/50/3 Finished with 0\n",
      "2016-03-28 08:08:42,345 * INFO * [170196] Started ./SIPSimRun.sh in atomIncorp_taxaIncorp/50/50/2\n",
      "2016-03-28 08:39:03,498 * INFO * [170001] atomIncorp_taxaIncorp/50/50/10 Finished with 0\n",
      "2016-03-28 08:39:03,540 * INFO * [172697] Started ./SIPSimRun.sh in atomIncorp_taxaIncorp/50/50/1\n",
      "2016-03-28 08:42:20,119 * INFO * [170196] atomIncorp_taxaIncorp/50/50/2 Finished with 0\n",
      "2016-03-28 08:42:20,144 * INFO * [172903] Started ./SIPSimRun.sh in atomIncorp_taxaIncorp/50/50/4\n",
      "2016-03-28 09:11:29,884 * INFO * [172697] atomIncorp_taxaIncorp/50/50/1 Finished with 0\n",
      "2016-03-28 09:11:29,930 * INFO * [174904] Started ./SIPSimRun.sh in atomIncorp_taxaIncorp/50/50/5\n",
      "2016-03-28 09:17:00,806 * INFO * [172903] atomIncorp_taxaIncorp/50/50/4 Finished with 0\n",
      "2016-03-28 09:17:00,828 * INFO * [175238] Started ./SIPSimRun.sh in atomIncorp_taxaIncorp/50/50/6\n",
      "2016-03-28 09:42:28,383 * INFO * [174904] atomIncorp_taxaIncorp/50/50/5 Finished with 0\n",
      "2016-03-28 09:42:28,440 * INFO * [177635] Started ./SIPSimRun.sh in atomIncorp_taxaIncorp/50/25/7\n",
      "2016-03-28 09:51:10,453 * INFO * [175238] atomIncorp_taxaIncorp/50/50/6 Finished with 0\n",
      "2016-03-28 09:51:10,470 * INFO * [178973] Started ./SIPSimRun.sh in atomIncorp_taxaIncorp/50/25/9\n",
      "2016-03-28 10:14:14,309 * INFO * [177635] atomIncorp_taxaIncorp/50/25/7 Finished with 0\n",
      "2016-03-28 10:14:14,323 * INFO * [180787] Started ./SIPSimRun.sh in atomIncorp_taxaIncorp/50/25/8\n",
      "2016-03-28 10:23:30,493 * INFO * [178973] atomIncorp_taxaIncorp/50/25/9 Finished with 0\n",
      "2016-03-28 10:23:30,520 * INFO * [181770] Started ./SIPSimRun.sh in atomIncorp_taxaIncorp/50/25/3\n",
      "2016-03-28 10:48:40,206 * INFO * [180787] atomIncorp_taxaIncorp/50/25/8 Finished with 0\n",
      "2016-03-28 10:48:40,227 * INFO * [184107] Started ./SIPSimRun.sh in atomIncorp_taxaIncorp/50/25/10\n",
      "2016-03-28 10:52:40,062 * INFO * [181770] atomIncorp_taxaIncorp/50/25/3 Finished with 0\n",
      "2016-03-28 10:52:40,075 * INFO * [184731] Started ./SIPSimRun.sh in atomIncorp_taxaIncorp/50/25/2\n",
      "2016-03-28 11:18:14,366 * INFO * [184107] atomIncorp_taxaIncorp/50/25/10 Finished with 0\n",
      "2016-03-28 11:18:14,402 * INFO * [185986] Started ./SIPSimRun.sh in atomIncorp_taxaIncorp/50/25/1\n",
      "2016-03-28 11:23:56,213 * INFO * [184731] atomIncorp_taxaIncorp/50/25/2 Finished with 0\n",
      "2016-03-28 11:23:56,215 * INFO * [186585] Started ./SIPSimRun.sh in atomIncorp_taxaIncorp/50/25/4\n",
      "2016-03-28 11:51:12,603 * INFO * [185986] atomIncorp_taxaIncorp/50/25/1 Finished with 0\n",
      "2016-03-28 11:51:12,635 * INFO * [187437] Started ./SIPSimRun.sh in atomIncorp_taxaIncorp/50/25/5\n",
      "2016-03-28 11:56:17,298 * INFO * [186585] atomIncorp_taxaIncorp/50/25/4 Finished with 0\n",
      "2016-03-28 11:56:17,300 * INFO * [187618] Started ./SIPSimRun.sh in atomIncorp_taxaIncorp/50/25/6\n",
      "2016-03-28 12:23:02,834 * INFO * [187437] atomIncorp_taxaIncorp/50/25/5 Finished with 0\n",
      "2016-03-28 12:23:02,879 * INFO * [188816] Started ./SIPSimRun.sh in atomIncorp_taxaIncorp/50/10/7\n",
      "2016-03-28 12:28:43,567 * INFO * [187618] atomIncorp_taxaIncorp/50/25/6 Finished with 0\n",
      "2016-03-28 12:28:43,569 * INFO * [189023] Started ./SIPSimRun.sh in atomIncorp_taxaIncorp/50/10/9\n",
      "2016-03-28 12:54:16,127 * INFO * [188816] atomIncorp_taxaIncorp/50/10/7 Finished with 0\n",
      "2016-03-28 12:54:16,136 * INFO * [190833] Started ./SIPSimRun.sh in atomIncorp_taxaIncorp/50/10/8\n",
      "2016-03-28 13:02:31,121 * INFO * [189023] atomIncorp_taxaIncorp/50/10/9 Finished with 0\n",
      "2016-03-28 13:02:31,148 * INFO * [191102] Started ./SIPSimRun.sh in atomIncorp_taxaIncorp/50/10/3\n",
      "2016-03-29 07:06:36,686 * INFO * [228676] atomIncorp_taxaIncorp/0/1/5 Finished with 0\n",
      "2016-03-29 07:06:36,688 * INFO * [231931] Started ./SIPSimRun.sh in atomIncorp_taxaIncorp/0/5/7\n",
      "2016-03-29 07:13:50,275 * INFO * [229034] atomIncorp_taxaIncorp/0/1/6 Finished with 0\n",
      "2016-03-29 07:13:50,297 * INFO * [232285] Started ./SIPSimRun.sh in atomIncorp_taxaIncorp/0/5/9\n",
      "2016-03-29 07:40:20,328 * INFO * [231931] atomIncorp_taxaIncorp/0/5/7 Finished with 0\n",
      "2016-03-29 07:40:20,374 * INFO * [233543] Started ./SIPSimRun.sh in atomIncorp_taxaIncorp/0/5/8\n",
      "2016-03-29 07:47:19,857 * INFO * [232285] atomIncorp_taxaIncorp/0/5/9 Finished with 0\n",
      "2016-03-29 07:47:19,887 * INFO * [233740] Started ./SIPSimRun.sh in atomIncorp_taxaIncorp/0/5/3\n",
      "2016-03-29 08:16:14,651 * INFO * [233543] atomIncorp_taxaIncorp/0/5/8 Finished with 0\n",
      "2016-03-29 08:16:14,718 * INFO * [234489] Started ./SIPSimRun.sh in atomIncorp_taxaIncorp/0/5/10\n",
      "2016-03-29 08:24:10,756 * INFO * [233740] atomIncorp_taxaIncorp/0/5/3 Finished with 0\n",
      "2016-03-29 08:24:10,770 * INFO * [234721] Started ./SIPSimRun.sh in atomIncorp_taxaIncorp/0/5/2\n",
      "2016-03-29 08:50:49,669 * INFO * [234489] atomIncorp_taxaIncorp/0/5/10 Finished with 0\n",
      "2016-03-29 08:50:49,731 * INFO * [235565] Started ./SIPSimRun.sh in atomIncorp_taxaIncorp/0/5/1\n",
      "2016-03-29 08:57:11,648 * INFO * [234721] atomIncorp_taxaIncorp/0/5/2 Finished with 0\n",
      "2016-03-29 08:57:11,663 * INFO * [235763] Started ./SIPSimRun.sh in atomIncorp_taxaIncorp/0/5/4\n",
      "2016-03-29 09:21:34,748 * INFO * [235565] atomIncorp_taxaIncorp/0/5/1 Finished with 0\n",
      "2016-03-29 09:21:34,783 * INFO * [236454] Started ./SIPSimRun.sh in atomIncorp_taxaIncorp/0/5/5\n",
      "2016-03-29 09:26:49,715 * INFO * [235763] atomIncorp_taxaIncorp/0/5/4 Finished with 0\n",
      "2016-03-29 09:26:49,718 * INFO * [236630] Started ./SIPSimRun.sh in atomIncorp_taxaIncorp/0/5/6\n",
      "2016-03-29 09:52:04,756 * INFO * [236454] atomIncorp_taxaIncorp/0/5/5 Finished with 0\n",
      "2016-03-29 09:52:04,775 * INFO * [237192] Started ./SIPSimRun.sh in atomIncorp_taxaIncorp/100/50/7\n",
      "2016-03-29 09:55:02,245 * INFO * [236630] atomIncorp_taxaIncorp/0/5/6 Finished with 0\n",
      "2016-03-29 09:55:02,260 * INFO * [237351] Started ./SIPSimRun.sh in atomIncorp_taxaIncorp/100/50/9\n",
      "2016-03-29 10:23:46,918 * INFO * [237192] atomIncorp_taxaIncorp/100/50/7 Finished with 0\n",
      "2016-03-29 10:23:46,931 * INFO * [237876] Started ./SIPSimRun.sh in atomIncorp_taxaIncorp/100/50/8\n",
      "2016-03-29 10:24:06,294 * INFO * [237351] atomIncorp_taxaIncorp/100/50/9 Finished with 0\n",
      "2016-03-29 10:24:06,311 * INFO * [238012] Started ./SIPSimRun.sh in atomIncorp_taxaIncorp/100/50/3\n",
      "2016-03-29 10:54:35,039 * INFO * [238012] atomIncorp_taxaIncorp/100/50/3 Finished with 0\n",
      "2016-03-29 10:54:35,052 * INFO * [239073] Started ./SIPSimRun.sh in atomIncorp_taxaIncorp/100/50/10\n",
      "2016-03-29 10:56:01,736 * INFO * [237876] atomIncorp_taxaIncorp/100/50/8 Finished with 0\n",
      "2016-03-29 10:56:01,749 * INFO * [239249] Started ./SIPSimRun.sh in atomIncorp_taxaIncorp/100/50/2\n",
      "2016-03-29 11:22:36,439 * INFO * [239073] atomIncorp_taxaIncorp/100/50/10 Finished with 0\n",
      "2016-03-29 11:22:36,453 * INFO * [239804] Started ./SIPSimRun.sh in atomIncorp_taxaIncorp/100/50/1\n",
      "2016-03-29 11:29:09,128 * INFO * [239249] atomIncorp_taxaIncorp/100/50/2 Finished with 0\n",
      "2016-03-29 11:29:09,143 * INFO * [240743] Started ./SIPSimRun.sh in atomIncorp_taxaIncorp/100/50/4\n"
     ]
    }
   ],
   "source": [
    "!chmod 777 $bashFileTmp\n",
    "!cd $workDir; \\\n",
    "    nestrun --template-file $bashFileTmp -d $buildDir --log-file SIPSim_pipeline.log -j 2"
   ]
  },
  {
   "cell_type": "code",
   "execution_count": null,
   "metadata": {
    "collapsed": true
   },
   "outputs": [],
   "source": [
    "%pushnote SIPSim pipeline complete: $buildDir"
   ]
  },
  {
   "cell_type": "markdown",
   "metadata": {},
   "source": [
    "## Summary of simulated data"
   ]
  },
  {
   "cell_type": "code",
   "execution_count": 78,
   "metadata": {
    "collapsed": false
   },
   "outputs": [
    {
     "data": {
      "text/plain": [
       "'/home/nick/notebook/SIPSim/dev/bac_genome1147/atomIncorp_taxaIncorp/SIPSimRun_SIPSim-summary.sh'"
      ]
     },
     "execution_count": 78,
     "metadata": {},
     "output_type": "execute_result"
    }
   ],
   "source": [
    "bashFileTmp = os.path.splitext(bashFile)[0] + '_SIPSim-summary.sh'\n",
    "bashFileTmp"
   ]
  },
  {
   "cell_type": "code",
   "execution_count": 79,
   "metadata": {
    "collapsed": false
   },
   "outputs": [
    {
     "name": "stdout",
     "output_type": "stream",
     "text": [
      "Writing /home/nick/notebook/SIPSim/dev/bac_genome1147/atomIncorp_taxaIncorp/SIPSimRun_SIPSim-summary.sh\n"
     ]
    }
   ],
   "source": [
    "%%writefile $bashFileTmp\n",
    "#!/bin/bash\n",
    "   \n",
    "# plotting 'raw' taxon abundances\n",
    "SIPSimR OTU_taxonAbund \\\n",
    "    OTU_abs{abs}.txt \\\n",
    "    -r {topTaxaToPlot} \\\n",
    "    -o OTU_abs{abs}\n",
    "\n",
    "# plotting 'sequenced' taxon abundances\n",
    "SIPSimR OTU_taxonAbund \\\n",
    "    OTU_abs{abs}_PCR_sub.txt \\\n",
    "    -r {topTaxaToPlot} \\\n",
    "    -o OTU_abs{abs}_PCR_sub"
   ]
  },
  {
   "cell_type": "code",
   "execution_count": null,
   "metadata": {
    "collapsed": false
   },
   "outputs": [],
   "source": [
    "!chmod 777 $bashFileTmp\n",
    "!cd $workDir; \\\n",
    "    nestrun --template-file $bashFileTmp -d $buildDir --log-file SIPSim_summary.log -j 10"
   ]
  },
  {
   "cell_type": "markdown",
   "metadata": {},
   "source": [
    "## HR-SIP: DESeq2"
   ]
  },
  {
   "cell_type": "code",
   "execution_count": 81,
   "metadata": {
    "collapsed": false
   },
   "outputs": [
    {
     "data": {
      "text/plain": [
       "'/home/nick/notebook/SIPSim/dev/bac_genome1147/atomIncorp_taxaIncorp/SIPSimRun_HRSIP.sh'"
      ]
     },
     "execution_count": 81,
     "metadata": {},
     "output_type": "execute_result"
    }
   ],
   "source": [
    "bashFileTmp = os.path.splitext(bashFile)[0] + '_HRSIP.sh'\n",
    "bashFileTmp"
   ]
  },
  {
   "cell_type": "code",
   "execution_count": 82,
   "metadata": {
    "collapsed": false
   },
   "outputs": [
    {
     "name": "stdout",
     "output_type": "stream",
     "text": [
      "Writing /home/nick/notebook/SIPSim/dev/bac_genome1147/atomIncorp_taxaIncorp/SIPSimRun_HRSIP.sh\n"
     ]
    }
   ],
   "source": [
    "%%writefile $bashFileTmp\n",
    "#!/bin/bash\n",
    "\n",
    "# phyloseq\n",
    "## making phyloseq object from OTU table\n",
    "SIPSimR phyloseq_make \\\n",
    "    OTU_abs{abs}_PCR_sub_w.txt \\\n",
    "    -s OTU_abs{abs}_PCR_sub_meta.txt \\\n",
    "    > OTU_abs{abs}_PCR_sub.physeq\n",
    "\n",
    "## filtering phyloseq object to just 'heavy' fractions\n",
    "SIPSimR phyloseq_edit \\\n",
    "    OTU_abs{abs}_PCR_sub.physeq \\\n",
    "    --BD_min {heavy_BD_min} \\\n",
    "    --BD_max {heavy_BD_max} \\\n",
    "    > OTU_abs{abs}_PCR_sub_filt.physeq\n",
    "\n",
    "## making ordination\n",
    "SIPSimR phyloseq_ordination \\\n",
    "    OTU_abs{abs}_PCR_sub_filt.physeq \\\n",
    "    OTU_abs{abs}_PCR_sub_filt_bray-NMDS.pdf\n",
    "\n",
    "# DESeq2\n",
    "SIPSimR phyloseq_DESeq2 \\\n",
    "    --log2 {log2} \\\n",
    "    --hypo greater \\\n",
    "    --cont 1,3,5 \\\n",
    "    --treat 2,4,6 \\\n",
    "    OTU_abs{abs}_PCR_sub_filt.physeq \\\n",
    "    > OTU_abs{abs}_PCR_sub_filt_DESeq2"
   ]
  },
  {
   "cell_type": "code",
   "execution_count": null,
   "metadata": {
    "collapsed": false
   },
   "outputs": [],
   "source": [
    "!chmod 777 $bashFileTmp\n",
    "!cd $workDir; \\\n",
    "    nestrun --template-file $bashFileTmp -d $buildDir --log-file HR-SIP.log -j 10"
   ]
  },
  {
   "cell_type": "code",
   "execution_count": null,
   "metadata": {
    "collapsed": true
   },
   "outputs": [],
   "source": [
    "%pushnote HR-SIP complete: $buildDir"
   ]
  },
  {
   "cell_type": "markdown",
   "metadata": {},
   "source": [
    "## qSIP"
   ]
  },
  {
   "cell_type": "code",
   "execution_count": 84,
   "metadata": {
    "collapsed": false
   },
   "outputs": [
    {
     "data": {
      "text/plain": [
       "'/home/nick/notebook/SIPSim/dev/bac_genome1147/atomIncorp_taxaIncorp/SIPSimRun_qSIP.sh'"
      ]
     },
     "execution_count": 84,
     "metadata": {},
     "output_type": "execute_result"
    }
   ],
   "source": [
    "bashFileTmp = os.path.splitext(bashFile)[0] + '_qSIP.sh'\n",
    "bashFileTmp"
   ]
  },
  {
   "cell_type": "code",
   "execution_count": 85,
   "metadata": {
    "collapsed": false
   },
   "outputs": [
    {
     "name": "stdout",
     "output_type": "stream",
     "text": [
      "Writing /home/nick/notebook/SIPSim/dev/bac_genome1147/atomIncorp_taxaIncorp/SIPSimRun_qSIP.sh\n"
     ]
    }
   ],
   "source": [
    "%%writefile $bashFileTmp\n",
    "#!/bin/bash\n",
    "\n",
    "\n",
    "# qSIP\n",
    "SIPSim qSIP \\\n",
    "    OTU_abs{abs}.txt \\\n",
    "    OTU_abs{abs}_PCR_sub.txt \\\n",
    "    > OTU_abs{abs}_PCR_sub_qSIP.txt\n",
    "        \n",
    "\n",
    "# qSIP: atom excess\n",
    "SIPSim qSIP_atomExcess \\\n",
    "    --np {np} \\\n",
    "    OTU_abs{abs}_PCR_sub_qSIP.txt \\\n",
    "    {exp_design} \\\n",
    "    > OTU_abs{abs}_PCR_sub_qSIP_atom.txt  "
   ]
  },
  {
   "cell_type": "code",
   "execution_count": null,
   "metadata": {
    "collapsed": false
   },
   "outputs": [],
   "source": [
    "!chmod 777 $bashFileTmp\n",
    "!cd $workDir; \\\n",
    "    nestrun --template-file $bashFileTmp -d $buildDir --log-file qSIP.log -j 2"
   ]
  },
  {
   "cell_type": "code",
   "execution_count": null,
   "metadata": {
    "collapsed": true
   },
   "outputs": [],
   "source": [
    "%pushnote qSIP complete: $buildDir"
   ]
  },
  {
   "cell_type": "markdown",
   "metadata": {},
   "source": [
    "## Making confusion matrices"
   ]
  },
  {
   "cell_type": "code",
   "execution_count": 87,
   "metadata": {
    "collapsed": false
   },
   "outputs": [
    {
     "data": {
      "text/plain": [
       "'/home/nick/notebook/SIPSim/dev/bac_genome1147/atomIncorp_taxaIncorp/SIPSimRun_cMtx.sh'"
      ]
     },
     "execution_count": 87,
     "metadata": {},
     "output_type": "execute_result"
    }
   ],
   "source": [
    "bashFileTmp = os.path.splitext(bashFile)[0] + '_cMtx.sh'\n",
    "bashFileTmp"
   ]
  },
  {
   "cell_type": "code",
   "execution_count": 88,
   "metadata": {
    "collapsed": false
   },
   "outputs": [
    {
     "name": "stdout",
     "output_type": "stream",
     "text": [
      "Writing /home/nick/notebook/SIPSim/dev/bac_genome1147/atomIncorp_taxaIncorp/SIPSimRun_cMtx.sh\n"
     ]
    }
   ],
   "source": [
    "%%writefile $bashFileTmp\n",
    "#!/bin/bash\n",
    "\n",
    "SIPSimR DESeq2_confuseMtx \\\n",
    "    --libs 2,4,6 \\\n",
    "    --padj {padj} \\\n",
    "    BD-shift_stats.txt \\\n",
    "    OTU_abs{abs}_PCR_sub_filt_DESeq2\n",
    "    \n",
    "SIPSimR qSIP_confuseMtx \\\n",
    "    --libs 2,4,6 \\\n",
    "    BD-shift_stats.txt \\\n",
    "    OTU_abs{abs}_PCR_sub_qSIP_atom.txt\n",
    "     \n",
    "SIPSimR heavy_confuseMtx \\\n",
    "    --libs 2,4,6 \\\n",
    "    BD-shift_stats.txt \\\n",
    "    OTU_abs{abs}_PCR_sub.txt"
   ]
  },
  {
   "cell_type": "code",
   "execution_count": null,
   "metadata": {
    "collapsed": false
   },
   "outputs": [],
   "source": [
    "!chmod 777 $bashFileTmp\n",
    "!cd $workDir; \\\n",
    "    nestrun --template-file $bashFileTmp -d $buildDir --log-file cMtx.log -j 10"
   ]
  },
  {
   "cell_type": "markdown",
   "metadata": {},
   "source": [
    "### Aggregating the confusion matrix data"
   ]
  },
  {
   "cell_type": "code",
   "execution_count": null,
   "metadata": {
    "collapsed": false
   },
   "outputs": [],
   "source": [
    "def agg_cMtx(prefix):\n",
    "    # all data\n",
    "    !nestagg delim \\\n",
    "        -d $buildDir \\\n",
    "        -k percIncorp,percTaxa,rep \\\n",
    "        -o $prefix-cMtx_data.txt \\\n",
    "        --tab \\\n",
    "        $prefix-cMtx_data.txt\n",
    "\n",
    "    # overall\n",
    "    !nestagg delim \\\n",
    "        -d $buildDir \\\n",
    "        -k percIncorp,percTaxa,rep \\\n",
    "        -o $prefix-cMtx_overall.txt \\\n",
    "        --tab \\\n",
    "        $prefix-cMtx_overall.txt\n",
    "\n",
    "    # by class\n",
    "    !nestagg delim \\\n",
    "        -d $buildDir \\\n",
    "        -k percIncorp,percTaxa,rep \\\n",
    "        -o $prefix-cMtx_byClass.txt \\\n",
    "        --tab \\\n",
    "        $prefix-cMtx_byClass.txt\n",
    "        \n",
    "agg_cMtx('DESeq2') \n",
    "agg_cMtx('qSIP') \n",
    "agg_cMtx('heavy') "
   ]
  },
  {
   "cell_type": "code",
   "execution_count": null,
   "metadata": {
    "collapsed": true
   },
   "outputs": [],
   "source": [
    "%pushnote atomIncorp_taxaIncorp complete!"
   ]
  },
  {
   "cell_type": "markdown",
   "metadata": {},
   "source": [
    "***\n",
    "# --End of simulation--#\n",
    "***"
   ]
  },
  {
   "cell_type": "markdown",
   "metadata": {},
   "source": [
    "# Plotting results"
   ]
  },
  {
   "cell_type": "code",
   "execution_count": null,
   "metadata": {
    "collapsed": false
   },
   "outputs": [],
   "source": [
    "F = os.path.join(buildDir, '*-cMtx_byClass.txt')\n",
    "files = glob.glob(F)\n",
    "files"
   ]
  },
  {
   "cell_type": "code",
   "execution_count": null,
   "metadata": {
    "collapsed": false
   },
   "outputs": [],
   "source": [
    "%%R -i files\n",
    "\n",
    "df_byClass = list()\n",
    "for (f in files){\n",
    "    ff = strsplit(f, '/') %>% unlist\n",
    "    fff = ff[length(ff)]\n",
    "    df_byClass[[fff]] = read.delim(f, sep='\\t')\n",
    "}\n",
    "\n",
    "df_byClass = do.call(rbind, df_byClass)\n",
    "df_byClass$file = gsub('\\\\.[0-9]+$', '', rownames(df_byClass))\n",
    "df_byClass$method = gsub('-.+', '', df_byClass$file)\n",
    "rownames(df_byClass) = 1:nrow(df_byClass)\n",
    "\n",
    "df_byClass %>% head(n=3)"
   ]
  },
  {
   "cell_type": "code",
   "execution_count": null,
   "metadata": {
    "collapsed": false
   },
   "outputs": [],
   "source": [
    "%%R -w 800 -h 550\n",
    "# summarize by SIPSim rep & library rep\n",
    "df_byClass.s = df_byClass %>%\n",
    "    group_by(method, percIncorp, percTaxa, variables) %>%\n",
    "    summarize(mean_value = mean(values),\n",
    "              sd_value = sd(values))\n",
    "\n",
    "# plotting\n",
    "ggplot(df_byClass.s, aes(variables, mean_value, color=method,\n",
    "                         ymin=mean_value-sd_value,\n",
    "                         ymax=mean_value+sd_value)) +\n",
    "    geom_pointrange(alpha=0.8) +\n",
    "    labs(y='Value') +\n",
    "    facet_grid(percIncorp ~ percTaxa) +\n",
    "    theme_bw() +\n",
    "    theme(\n",
    "        text = element_text(size=16),\n",
    "        axis.title.x = element_blank(),\n",
    "        axis.text.x = element_text(angle=45, hjust=1)\n",
    "    )"
   ]
  },
  {
   "cell_type": "code",
   "execution_count": null,
   "metadata": {
    "collapsed": true
   },
   "outputs": [],
   "source": []
  },
  {
   "cell_type": "markdown",
   "metadata": {},
   "source": [
    "# --re-run--"
   ]
  },
  {
   "cell_type": "code",
   "execution_count": 93,
   "metadata": {
    "collapsed": true
   },
   "outputs": [],
   "source": [
    "import glob"
   ]
  },
  {
   "cell_type": "markdown",
   "metadata": {},
   "source": [
    "## Function for detecting missing/empty files"
   ]
  },
  {
   "cell_type": "code",
   "execution_count": 154,
   "metadata": {
    "collapsed": false
   },
   "outputs": [
    {
     "data": {
      "text/plain": [
       "('/home/test', '')"
      ]
     },
     "execution_count": 154,
     "metadata": {},
     "output_type": "execute_result"
    }
   ],
   "source": [
    "tmp = '/home/test/'\n",
    "os.path.split(tmp)"
   ]
  },
  {
   "cell_type": "code",
   "execution_count": 164,
   "metadata": {
    "collapsed": false
   },
   "outputs": [
    {
     "name": "stdout",
     "output_type": "stream",
     "text": [
      "Union length: 200\n",
      "Number of missing: 0\n",
      "Number of empties: 0\n"
     ]
    },
    {
     "data": {
      "text/plain": [
       "{'empty': [], 'missing': []}"
      ]
     },
     "execution_count": 164,
     "metadata": {},
     "output_type": "execute_result"
    }
   ],
   "source": [
    "def find_missing_files(filepath):\n",
    "    # directories\n",
    "    dirpath = os.path.split(filepath)[0]\n",
    "    chk = os.path.join(buildDir, dirpath) + '/'\n",
    "    D = set([os.path.split(x)[0] for x in glob.glob(chk)])\n",
    "    \n",
    "    # files\n",
    "    chk = os.path.join(buildDir, filepath)\n",
    "    F = glob.glob(chk)\n",
    "    \n",
    "    # check for missing files\n",
    "    Fd = set([os.path.split(f)[0] for f in F])\n",
    "    missing = D - Fd    \n",
    "    print 'Union length: {}'.format(len(D | Fd))\n",
    "    print 'Number of missing: {}'.format(len(missing))\n",
    "\n",
    "    # check for empty files\n",
    "    empties = [os.path.split(f)[0] for f in F if os.path.getsize(f) < 1000]\n",
    "    print 'Number of empties: {}'.format(len(empties))\n",
    "    \n",
    "    # ret\n",
    "    return {'missing' : list(missing), 'empty' : empties}\n",
    "    \n",
    "find_missing_files('*/*/*/OTU_abs1e9.txt')    "
   ]
  },
  {
   "cell_type": "markdown",
   "metadata": {},
   "source": [
    "## Finding all SIPSim pipeline incompletes"
   ]
  },
  {
   "cell_type": "code",
   "execution_count": 126,
   "metadata": {
    "collapsed": false
   },
   "outputs": [
    {
     "name": "stdout",
     "output_type": "stream",
     "text": [
      "Union length: 200\n",
      "Number of missing: 0\n",
      "Number of empties: 1\n"
     ]
    }
   ],
   "source": [
    "pipeline_me = find_missing_files('*/*/*/OTU_abs1e9.txt')   "
   ]
  },
  {
   "cell_type": "code",
   "execution_count": 128,
   "metadata": {
    "collapsed": false
   },
   "outputs": [
    {
     "data": {
      "text/plain": [
       "{'empty': ['/home/nick/notebook/SIPSim/dev/bac_genome1147/atomIncorp_taxaIncorp/100/25/6/OTU_abs1e9.txt'],\n",
       " 'missing': []}"
      ]
     },
     "execution_count": 128,
     "metadata": {},
     "output_type": "execute_result"
    }
   ],
   "source": [
    "pipeline_me"
   ]
  },
  {
   "cell_type": "code",
   "execution_count": 134,
   "metadata": {
    "collapsed": false
   },
   "outputs": [
    {
     "name": "stdout",
     "output_type": "stream",
     "text": [
      "#-- SIPSim pipeline --#\n",
      "# Adding diffusion\n",
      "# Adding DBL contamination; abundance-weighted smearing\n",
      "# Adding isotope incorporation to BD distribution\n",
      "# Simulating an OTU table\n",
      "# Simulating PCR\n",
      "# Subsampling from the OTU table (simulating sequencing of the DNA pool)\n",
      "# Making a wide-formatted table\n",
      "# Making metadata (phyloseq: sample_data)\n"
     ]
    }
   ],
   "source": [
    "# rerunning \n",
    "exe = '/home/nick/notebook/SIPSim/dev/bac_genome1147/atomIncorp_taxaIncorp/100/25/6/SIPSimRun_SIPSim-pipeline.sh'\n",
    "exe += ' 2> /home/nick/notebook/SIPSim/dev/bac_genome1147/atomIncorp_taxaIncorp/100/25/6/SIPSim_pipeline.log'\n",
    "!$exe \n",
    "%pushnote SIPSim pipeline rerun complete"
   ]
  },
  {
   "cell_type": "code",
   "execution_count": 135,
   "metadata": {
    "collapsed": true
   },
   "outputs": [],
   "source": [
    "exe = '/home/nick/notebook/SIPSim/dev/bac_genome1147/atomIncorp_taxaIncorp/100/25/6/SIPSimRun_SIPSim-summary.sh'\n",
    "exe += ' 2> /home/nick/notebook/SIPSim/dev/bac_genome1147/atomIncorp_taxaIncorp/100/25/6/SIPSim_summary.log'\n",
    "!$exe \n",
    "%pushnote pipeline summary rerun complete"
   ]
  },
  {
   "cell_type": "code",
   "execution_count": 136,
   "metadata": {
    "collapsed": true
   },
   "outputs": [],
   "source": [
    "exe = '/home/nick/notebook/SIPSim/dev/bac_genome1147/atomIncorp_taxaIncorp/100/25/6/SIPSimRun_HRSIP.sh'\n",
    "exe += ' 2> /home/nick/notebook/SIPSim/dev/bac_genome1147/atomIncorp_taxaIncorp/100/25/6/HR-SIP.log'\n",
    "!$exe \n",
    "%pushnote HRSIP rerun complete"
   ]
  },
  {
   "cell_type": "code",
   "execution_count": 160,
   "metadata": {
    "collapsed": false
   },
   "outputs": [
    {
     "name": "stdout",
     "output_type": "stream",
     "text": [
      "Union length: 200\n",
      "Number of missing: 0\n",
      "Number of empties: 0\n"
     ]
    }
   ],
   "source": [
    "pipeline_me = find_missing_files('*/*/*/OTU_abs1e9.txt')  "
   ]
  },
  {
   "cell_type": "markdown",
   "metadata": {},
   "source": [
    "## Finding all HR-SIP incompletes"
   ]
  },
  {
   "cell_type": "code",
   "execution_count": 165,
   "metadata": {
    "collapsed": false
   },
   "outputs": [
    {
     "name": "stdout",
     "output_type": "stream",
     "text": [
      "Union length: 200\n",
      "Number of missing: 74\n",
      "Number of empties: 0\n"
     ]
    }
   ],
   "source": [
    "HRSIP_me = find_missing_files('*/*/*/OTU_abs1e9_PCR_sub_filt_DESeq2') "
   ]
  },
  {
   "cell_type": "code",
   "execution_count": 166,
   "metadata": {
    "collapsed": false
   },
   "outputs": [
    {
     "data": {
      "text/plain": [
       "{'empty': [],\n",
       " 'missing': ['/home/nick/notebook/SIPSim/dev/bac_genome1147/atomIncorp_taxaIncorp/25/50/1',\n",
       "  '/home/nick/notebook/SIPSim/dev/bac_genome1147/atomIncorp_taxaIncorp/25/5/3',\n",
       "  '/home/nick/notebook/SIPSim/dev/bac_genome1147/atomIncorp_taxaIncorp/25/50/3',\n",
       "  '/home/nick/notebook/SIPSim/dev/bac_genome1147/atomIncorp_taxaIncorp/25/50/2',\n",
       "  '/home/nick/notebook/SIPSim/dev/bac_genome1147/atomIncorp_taxaIncorp/25/50/5',\n",
       "  '/home/nick/notebook/SIPSim/dev/bac_genome1147/atomIncorp_taxaIncorp/25/50/4',\n",
       "  '/home/nick/notebook/SIPSim/dev/bac_genome1147/atomIncorp_taxaIncorp/25/50/7',\n",
       "  '/home/nick/notebook/SIPSim/dev/bac_genome1147/atomIncorp_taxaIncorp/25/50/6',\n",
       "  '/home/nick/notebook/SIPSim/dev/bac_genome1147/atomIncorp_taxaIncorp/25/50/9',\n",
       "  '/home/nick/notebook/SIPSim/dev/bac_genome1147/atomIncorp_taxaIncorp/25/50/8',\n",
       "  '/home/nick/notebook/SIPSim/dev/bac_genome1147/atomIncorp_taxaIncorp/25/25/9',\n",
       "  '/home/nick/notebook/SIPSim/dev/bac_genome1147/atomIncorp_taxaIncorp/25/1/10',\n",
       "  '/home/nick/notebook/SIPSim/dev/bac_genome1147/atomIncorp_taxaIncorp/25/25/10',\n",
       "  '/home/nick/notebook/SIPSim/dev/bac_genome1147/atomIncorp_taxaIncorp/25/1/8',\n",
       "  '/home/nick/notebook/SIPSim/dev/bac_genome1147/atomIncorp_taxaIncorp/25/5/6',\n",
       "  '/home/nick/notebook/SIPSim/dev/bac_genome1147/atomIncorp_taxaIncorp/25/5/5',\n",
       "  '/home/nick/notebook/SIPSim/dev/bac_genome1147/atomIncorp_taxaIncorp/100/1/4',\n",
       "  '/home/nick/notebook/SIPSim/dev/bac_genome1147/atomIncorp_taxaIncorp/25/5/4',\n",
       "  '/home/nick/notebook/SIPSim/dev/bac_genome1147/atomIncorp_taxaIncorp/25/10/8',\n",
       "  '/home/nick/notebook/SIPSim/dev/bac_genome1147/atomIncorp_taxaIncorp/100/1/5',\n",
       "  '/home/nick/notebook/SIPSim/dev/bac_genome1147/atomIncorp_taxaIncorp/25/5/7',\n",
       "  '/home/nick/notebook/SIPSim/dev/bac_genome1147/atomIncorp_taxaIncorp/100/1/7',\n",
       "  '/home/nick/notebook/SIPSim/dev/bac_genome1147/atomIncorp_taxaIncorp/100/1/6',\n",
       "  '/home/nick/notebook/SIPSim/dev/bac_genome1147/atomIncorp_taxaIncorp/100/1/1',\n",
       "  '/home/nick/notebook/SIPSim/dev/bac_genome1147/atomIncorp_taxaIncorp/25/25/8',\n",
       "  '/home/nick/notebook/SIPSim/dev/bac_genome1147/atomIncorp_taxaIncorp/100/1/3',\n",
       "  '/home/nick/notebook/SIPSim/dev/bac_genome1147/atomIncorp_taxaIncorp/100/1/2',\n",
       "  '/home/nick/notebook/SIPSim/dev/bac_genome1147/atomIncorp_taxaIncorp/25/25/5',\n",
       "  '/home/nick/notebook/SIPSim/dev/bac_genome1147/atomIncorp_taxaIncorp/25/25/4',\n",
       "  '/home/nick/notebook/SIPSim/dev/bac_genome1147/atomIncorp_taxaIncorp/25/25/7',\n",
       "  '/home/nick/notebook/SIPSim/dev/bac_genome1147/atomIncorp_taxaIncorp/25/25/6',\n",
       "  '/home/nick/notebook/SIPSim/dev/bac_genome1147/atomIncorp_taxaIncorp/100/1/9',\n",
       "  '/home/nick/notebook/SIPSim/dev/bac_genome1147/atomIncorp_taxaIncorp/100/1/8',\n",
       "  '/home/nick/notebook/SIPSim/dev/bac_genome1147/atomIncorp_taxaIncorp/25/25/3',\n",
       "  '/home/nick/notebook/SIPSim/dev/bac_genome1147/atomIncorp_taxaIncorp/25/25/2',\n",
       "  '/home/nick/notebook/SIPSim/dev/bac_genome1147/atomIncorp_taxaIncorp/100/1/10',\n",
       "  '/home/nick/notebook/SIPSim/dev/bac_genome1147/atomIncorp_taxaIncorp/25/5/2',\n",
       "  '/home/nick/notebook/SIPSim/dev/bac_genome1147/atomIncorp_taxaIncorp/25/10/10',\n",
       "  '/home/nick/notebook/SIPSim/dev/bac_genome1147/atomIncorp_taxaIncorp/25/50/10',\n",
       "  '/home/nick/notebook/SIPSim/dev/bac_genome1147/atomIncorp_taxaIncorp/25/5/1',\n",
       "  '/home/nick/notebook/SIPSim/dev/bac_genome1147/atomIncorp_taxaIncorp/25/5/10',\n",
       "  '/home/nick/notebook/SIPSim/dev/bac_genome1147/atomIncorp_taxaIncorp/25/10/5',\n",
       "  '/home/nick/notebook/SIPSim/dev/bac_genome1147/atomIncorp_taxaIncorp/25/10/4',\n",
       "  '/home/nick/notebook/SIPSim/dev/bac_genome1147/atomIncorp_taxaIncorp/25/10/7',\n",
       "  '/home/nick/notebook/SIPSim/dev/bac_genome1147/atomIncorp_taxaIncorp/25/10/6',\n",
       "  '/home/nick/notebook/SIPSim/dev/bac_genome1147/atomIncorp_taxaIncorp/25/10/1',\n",
       "  '/home/nick/notebook/SIPSim/dev/bac_genome1147/atomIncorp_taxaIncorp/100/5/10',\n",
       "  '/home/nick/notebook/SIPSim/dev/bac_genome1147/atomIncorp_taxaIncorp/25/10/3',\n",
       "  '/home/nick/notebook/SIPSim/dev/bac_genome1147/atomIncorp_taxaIncorp/25/10/2',\n",
       "  '/home/nick/notebook/SIPSim/dev/bac_genome1147/atomIncorp_taxaIncorp/100/10/4',\n",
       "  '/home/nick/notebook/SIPSim/dev/bac_genome1147/atomIncorp_taxaIncorp/100/10/5',\n",
       "  '/home/nick/notebook/SIPSim/dev/bac_genome1147/atomIncorp_taxaIncorp/100/10/6',\n",
       "  '/home/nick/notebook/SIPSim/dev/bac_genome1147/atomIncorp_taxaIncorp/25/10/9',\n",
       "  '/home/nick/notebook/SIPSim/dev/bac_genome1147/atomIncorp_taxaIncorp/100/10/1',\n",
       "  '/home/nick/notebook/SIPSim/dev/bac_genome1147/atomIncorp_taxaIncorp/100/5/9',\n",
       "  '/home/nick/notebook/SIPSim/dev/bac_genome1147/atomIncorp_taxaIncorp/100/5/8',\n",
       "  '/home/nick/notebook/SIPSim/dev/bac_genome1147/atomIncorp_taxaIncorp/25/1/9',\n",
       "  '/home/nick/notebook/SIPSim/dev/bac_genome1147/atomIncorp_taxaIncorp/100/5/1',\n",
       "  '/home/nick/notebook/SIPSim/dev/bac_genome1147/atomIncorp_taxaIncorp/25/25/1',\n",
       "  '/home/nick/notebook/SIPSim/dev/bac_genome1147/atomIncorp_taxaIncorp/100/5/3',\n",
       "  '/home/nick/notebook/SIPSim/dev/bac_genome1147/atomIncorp_taxaIncorp/100/5/2',\n",
       "  '/home/nick/notebook/SIPSim/dev/bac_genome1147/atomIncorp_taxaIncorp/100/5/5',\n",
       "  '/home/nick/notebook/SIPSim/dev/bac_genome1147/atomIncorp_taxaIncorp/100/5/4',\n",
       "  '/home/nick/notebook/SIPSim/dev/bac_genome1147/atomIncorp_taxaIncorp/100/5/7',\n",
       "  '/home/nick/notebook/SIPSim/dev/bac_genome1147/atomIncorp_taxaIncorp/100/5/6',\n",
       "  '/home/nick/notebook/SIPSim/dev/bac_genome1147/atomIncorp_taxaIncorp/25/1/2',\n",
       "  '/home/nick/notebook/SIPSim/dev/bac_genome1147/atomIncorp_taxaIncorp/25/1/3',\n",
       "  '/home/nick/notebook/SIPSim/dev/bac_genome1147/atomIncorp_taxaIncorp/25/1/1',\n",
       "  '/home/nick/notebook/SIPSim/dev/bac_genome1147/atomIncorp_taxaIncorp/25/1/6',\n",
       "  '/home/nick/notebook/SIPSim/dev/bac_genome1147/atomIncorp_taxaIncorp/25/5/8',\n",
       "  '/home/nick/notebook/SIPSim/dev/bac_genome1147/atomIncorp_taxaIncorp/25/1/4',\n",
       "  '/home/nick/notebook/SIPSim/dev/bac_genome1147/atomIncorp_taxaIncorp/25/1/5',\n",
       "  '/home/nick/notebook/SIPSim/dev/bac_genome1147/atomIncorp_taxaIncorp/25/1/7',\n",
       "  '/home/nick/notebook/SIPSim/dev/bac_genome1147/atomIncorp_taxaIncorp/25/5/9']}"
      ]
     },
     "execution_count": 166,
     "metadata": {},
     "output_type": "execute_result"
    }
   ],
   "source": [
    "HRSIP_me"
   ]
  },
  {
   "cell_type": "code",
   "execution_count": null,
   "metadata": {
    "collapsed": false
   },
   "outputs": [
    {
     "name": "stdout",
     "output_type": "stream",
     "text": [
      "Processing: /home/nick/notebook/SIPSim/dev/bac_genome1147/atomIncorp_taxaIncorp/25/5/9\n",
      "Warning messages:\n",
      "1: replacing previous import by ‘scales::alpha’ when loading ‘phyloseq’ \n",
      "2: replacing previous import by ‘ggplot2::Position’ when loading ‘DESeq2’ \n",
      "Error in read.table(file = file, header = header, sep = sep, quote = quote,  : \n",
      "  no lines available in input\n",
      "Calls: read.delim -> read.table\n",
      "Execution halted\n",
      "Warning messages:\n",
      "1: replacing previous import by ‘scales::alpha’ when loading ‘phyloseq’ \n",
      "2: replacing previous import by ‘ggplot2::Position’ when loading ‘DESeq2’ \n",
      "Error in readRDS(opts[[\"<phyloseq>\"]]) : error reading from connection\n",
      "Execution halted\n",
      "Warning messages:\n",
      "1: replacing previous import by ‘scales::alpha’ when loading ‘phyloseq’ \n",
      "2: replacing previous import by ‘ggplot2::Position’ when loading ‘DESeq2’ \n",
      "Error in readRDS(opts[[\"<phyloseq>\"]]) : error reading from connection\n",
      "Execution halted\n",
      "^CTraceback (most recent call last):\n",
      "  File \"/home/nick/notebook/SIPSim/SIPSimR\", line 56, in <module>\n",
      "    exit(call(['Rscript', scriptFile] + args['<args>']))    \n",
      "  File \"/opt/anaconda/lib/python2.7/subprocess.py\", line 522, in call\n",
      "    return Popen(*popenargs, **kwargs).wait()\n",
      "  File \"/opt/anaconda/lib/python2.7/subprocess.py\", line 1384, in wait\n",
      "    pid, sts = _eintr_retry_call(os.waitpid, self.pid, 0)\n",
      "  File \"/opt/anaconda/lib/python2.7/subprocess.py\", line 476, in _eintr_retry_call\n",
      "    return func(*args)\n",
      "KeyboardInterrupt\n",
      "\n",
      "Warning message:\n",
      "replacing previous import by ‘scales::alpha’ when loading ‘phyloseq’ \n",
      "Execution halted\n",
      "\n",
      "Processing: /home/nick/notebook/SIPSim/dev/bac_genome1147/atomIncorp_taxaIncorp/25/5/9\n",
      "Warning messages:\n",
      "1: replacing previous import by ‘scales::alpha’ when loading ‘phyloseq’ \n",
      "2: replacing previous import by ‘ggplot2::Position’ when loading ‘DESeq2’ \n",
      "Error in read.table(file = file, header = header, sep = sep, quote = quote,  : \n",
      "  no lines available in input\n",
      "Calls: read.delim -> read.table\n",
      "Execution halted\n",
      "Warning messages:\n",
      "1: replacing previous import by ‘scales::alpha’ when loading ‘phyloseq’ \n",
      "2: replacing previous import by ‘ggplot2::Position’ when loading ‘DESeq2’ \n",
      "Error in readRDS(opts[[\"<phyloseq>\"]]) : error reading from connection\n",
      "Execution halted\n",
      "Warning messages:\n",
      "1: replacing previous import by ‘scales::alpha’ when loading ‘phyloseq’ \n",
      "2: replacing previous import by ‘ggplot2::Position’ when loading ‘DESeq2’ \n",
      "Error in readRDS(opts[[\"<phyloseq>\"]]) : error reading from connection\n",
      "Execution halted\n",
      "Warning messages:\n",
      "1: replacing previous import by ‘scales::alpha’ when loading ‘phyloseq’ \n",
      "2: replacing previous import by ‘ggplot2::Position’ when loading ‘DESeq2’ \n",
      "Error in readRDS(opts[[\"<phyloseq>\"]]) : error reading from connection\n",
      "Execution halted\n",
      "Processing: /home/nick/notebook/SIPSim/dev/bac_genome1147/atomIncorp_taxaIncorp/25/5/9\n",
      "^CTraceback (most recent call last):\n",
      "\n",
      "  File \"/home/nick/notebook/SIPSim/SIPSimR\", line 56, in <module>\n",
      "Warning message:\n",
      "replacing previous import by ‘scales::alpha’ when loading ‘phyloseq’ \n",
      "    exit(call(['Rscript', scriptFile] + args['<args>']))    \n",
      "  File \"/opt/anaconda/lib/python2.7/subprocess.py\", line 522, in call\n",
      "Execution halted\n",
      "    return Popen(*popenargs, **kwargs).wait()\n",
      "  File \"/opt/anaconda/lib/python2.7/subprocess.py\", line 1384, in wait\n",
      "    pid, sts = _eintr_retry_call(os.waitpid, self.pid, 0)\n",
      "  File \"/opt/anaconda/lib/python2.7/subprocess.py\", line 476, in _eintr_retry_call\n",
      "    return func(*args)\n",
      "KeyboardInterrupt\n",
      "\n",
      "Processing: /home/nick/notebook/SIPSim/dev/bac_genome1147/atomIncorp_taxaIncorp/25/5/9\n",
      "Warning messages:\n",
      "1: replacing previous import by ‘scales::alpha’ when loading ‘phyloseq’ \n",
      "2: replacing previous import by ‘ggplot2::Position’ when loading ‘DESeq2’ \n",
      "Error in read.table(file = file, header = header, sep = sep, quote = quote,  : \n",
      "  no lines available in input\n",
      "Calls: read.delim -> read.table\n",
      "Execution halted\n",
      "Warning messages:\n",
      "1: replacing previous import by ‘scales::alpha’ when loading ‘phyloseq’ \n",
      "2: replacing previous import by ‘ggplot2::Position’ when loading ‘DESeq2’ \n",
      "Error in readRDS(opts[[\"<phyloseq>\"]]) : error reading from connection\n",
      "Execution halted\n"
     ]
    }
   ],
   "source": [
    "def run_HRSIP(dirpath):\n",
    "    cmd = os.path.join(dirpath, 'SIPSimRun_HRSIP.sh')\n",
    "    log = os.path.join(dirpath, 'HR-SIP.log')    \n",
    "    !$cmd\n",
    "\n",
    "for FL in HRSIP_me.values():\n",
    "    for D in FL:\n",
    "        print 'Processing: {}'.format(F)\n",
    "        run_HRSIP(D)"
   ]
  },
  {
   "cell_type": "markdown",
   "metadata": {},
   "source": [
    "## Finding all qSIP pipeline incompletes"
   ]
  },
  {
   "cell_type": "code",
   "execution_count": 137,
   "metadata": {
    "collapsed": false
   },
   "outputs": [
    {
     "name": "stdout",
     "output_type": "stream",
     "text": [
      "Union length: 200\n",
      "Number of missing: 80\n",
      "Number of empties: 1\n"
     ]
    }
   ],
   "source": [
    "qSIP_me = find_missing_files('*/*/*/*qSIP_atom.txt')  "
   ]
  },
  {
   "cell_type": "markdown",
   "metadata": {},
   "source": [
    "### re-running qSIP"
   ]
  },
  {
   "cell_type": "code",
   "execution_count": null,
   "metadata": {
    "collapsed": true
   },
   "outputs": [],
   "source": [
    "def run_qSIP(dirpath):\n",
    "    cmd = os.path.join(dirpath, 'SIPSimRun_qSIP.sh')\n",
    "    log = os.path.join(dirpath, 'qSIP.log')    \n",
    "    cmd = '{} 2> {}'.format(cmd, log)\n",
    "    #!cmd\n",
    "\n",
    "for FL in qSIP_me.values():\n",
    "    for D in FL:\n",
    "        print 'Processing: {}'.format(D)"
   ]
  },
  {
   "cell_type": "markdown",
   "metadata": {},
   "source": [
    "### re-running cMtx"
   ]
  },
  {
   "cell_type": "code",
   "execution_count": null,
   "metadata": {
    "collapsed": true
   },
   "outputs": [],
   "source": []
  }
 ],
 "metadata": {
  "hide_input": true,
  "kernelspec": {
   "display_name": "Python 2",
   "language": "python",
   "name": "python2"
  },
  "language_info": {
   "codemirror_mode": {
    "name": "ipython",
    "version": 2
   },
   "file_extension": ".py",
   "mimetype": "text/x-python",
   "name": "python",
   "nbconvert_exporter": "python",
   "pygments_lexer": "ipython2",
   "version": "2.7.11"
  }
 },
 "nbformat": 4,
 "nbformat_minor": 0
}
