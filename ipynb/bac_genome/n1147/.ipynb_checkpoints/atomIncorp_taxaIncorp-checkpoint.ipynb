{
 "cells": [
  {
   "cell_type": "markdown",
   "metadata": {
    "code_folding": []
   },
   "source": [
    "# Goal\n",
    "\n",
    "Accuracy as a function of isotope incorporation\n",
    "\n",
    "### Variable parameters:\n",
    "\n",
    "* atom % isotope incorporation\n",
    "  * 0, 25, 50, 100\n",
    "* % taxa that incorporate\n",
    "  * __1, 5, 10, 25, 50__\n",
    "* n-reps (stocastic: taxon abundances & which incorporate)\n",
    "  * 10 "
   ]
  },
  {
   "cell_type": "markdown",
   "metadata": {},
   "source": [
    "## Init"
   ]
  },
  {
   "cell_type": "code",
   "execution_count": 1,
   "metadata": {
    "collapsed": false
   },
   "outputs": [],
   "source": [
    "import os\n",
    "import glob\n",
    "import itertools\n",
    "import nestly"
   ]
  },
  {
   "cell_type": "code",
   "execution_count": 2,
   "metadata": {
    "collapsed": false
   },
   "outputs": [],
   "source": [
    "%load_ext rpy2.ipython\n",
    "%load_ext pushnote"
   ]
  },
  {
   "cell_type": "code",
   "execution_count": 3,
   "metadata": {
    "collapsed": false
   },
   "outputs": [
    {
     "name": "stderr",
     "output_type": "stream",
     "text": [
      "/opt/anaconda/lib/python2.7/site-packages/rpy2/robjects/functions.py:106: UserWarning: Need help? Try the ggplot2 mailing list:\n",
      "http://groups.google.com/group/ggplot2.\n",
      "\n",
      "  res = super(Function, self).__call__(*new_args, **new_kwargs)\n",
      "/opt/anaconda/lib/python2.7/site-packages/rpy2/robjects/functions.py:106: UserWarning: \n",
      "Attaching package: ‘dplyr’\n",
      "\n",
      "\n",
      "  res = super(Function, self).__call__(*new_args, **new_kwargs)\n",
      "/opt/anaconda/lib/python2.7/site-packages/rpy2/robjects/functions.py:106: UserWarning: The following objects are masked from ‘package:stats’:\n",
      "\n",
      "    filter, lag\n",
      "\n",
      "\n",
      "  res = super(Function, self).__call__(*new_args, **new_kwargs)\n",
      "/opt/anaconda/lib/python2.7/site-packages/rpy2/robjects/functions.py:106: UserWarning: The following objects are masked from ‘package:base’:\n",
      "\n",
      "    intersect, setdiff, setequal, union\n",
      "\n",
      "\n",
      "  res = super(Function, self).__call__(*new_args, **new_kwargs)\n"
     ]
    }
   ],
   "source": [
    "%%R\n",
    "library(ggplot2)\n",
    "library(dplyr)\n",
    "library(tidyr)\n",
    "library(gridExtra)"
   ]
  },
  {
   "cell_type": "markdown",
   "metadata": {},
   "source": [
    "### BD min/max"
   ]
  },
  {
   "cell_type": "code",
   "execution_count": 4,
   "metadata": {
    "collapsed": false
   },
   "outputs": [
    {
     "name": "stdout",
     "output_type": "stream",
     "text": [
      "Min BD: 1.67323\n",
      "Max BD: 1.7744\n"
     ]
    }
   ],
   "source": [
    "## min G+C cutoff\n",
    "min_GC = 13.5\n",
    "## max G+C cutoff\n",
    "max_GC = 80\n",
    "## max G+C shift\n",
    "max_13C_shift_in_BD = 0.036\n",
    "\n",
    "\n",
    "min_BD = min_GC/100.0 * 0.098 + 1.66    \n",
    "max_BD = max_GC/100.0 * 0.098 + 1.66    \n",
    "\n",
    "max_BD = max_BD + max_13C_shift_in_BD\n",
    "\n",
    "print 'Min BD: {}'.format(min_BD)\n",
    "print 'Max BD: {}'.format(max_BD)"
   ]
  },
  {
   "cell_type": "markdown",
   "metadata": {},
   "source": [
    "# Nestly\n",
    "\n",
    "* assuming fragments already simulated"
   ]
  },
  {
   "cell_type": "code",
   "execution_count": 5,
   "metadata": {
    "collapsed": false
   },
   "outputs": [],
   "source": [
    "# paths\n",
    "workDir = '/home/nick/notebook/SIPSim/dev/bac_genome1147/'\n",
    "buildDir = os.path.join(workDir, 'atomIncorp_taxaIncorp')\n",
    "R_dir = '/home/nick/notebook/SIPSim/lib/R/'\n",
    "\n",
    "fragFile = '/home/nick/notebook/SIPSim/dev/bac_genome1147/validation/ampFrags_kde.pkl'\n",
    "genome_index = '/var/seq_data/ncbi_db/genome/Jan2016/bac_complete_spec-rep1_rn/genome_index.txt'"
   ]
  },
  {
   "cell_type": "code",
   "execution_count": 6,
   "metadata": {
    "collapsed": false
   },
   "outputs": [
    {
     "name": "stdout",
     "output_type": "stream",
     "text": [
      "/home/nick/notebook/SIPSim/dev/bac_genome1147/atomIncorp_taxaIncorp\n"
     ]
    }
   ],
   "source": [
    "if not os.path.isdir(buildDir):\n",
    "    os.makedirs(buildDir)\n",
    "%cd $buildDir"
   ]
  },
  {
   "cell_type": "code",
   "execution_count": 7,
   "metadata": {
    "collapsed": false
   },
   "outputs": [
    {
     "name": "stdout",
     "output_type": "stream",
     "text": [
      "1\tcontrol\r\n",
      "2\ttreatment\r\n",
      "3\tcontrol\r\n",
      "4\ttreatment\r\n",
      "5\tcontrol\r\n",
      "6\ttreatment\r\n"
     ]
    }
   ],
   "source": [
    "# making an experimental design file for qSIP\n",
    "x = range(1,7)\n",
    "y = ['control', 'treatment']\n",
    "\n",
    "expDesignFile = os.path.join(buildDir, 'qSIP_exp_design.txt')\n",
    "with open(expDesignFile, 'wb') as outFH:\n",
    "    for i,z in itertools.izip(x,itertools.cycle(y)):\n",
    "        line = '\\t'.join([str(i),z])\n",
    "        outFH.write(line + '\\n')\n",
    "\n",
    "!head $expDesignFile       "
   ]
  },
  {
   "cell_type": "code",
   "execution_count": 8,
   "metadata": {
    "collapsed": false
   },
   "outputs": [
    {
     "data": {
      "text/plain": [
       "'/home/nick/notebook/SIPSim/dev/bac_genome1147/atomIncorp_taxaIncorp/qSIP_exp_design.txt'"
      ]
     },
     "execution_count": 8,
     "metadata": {},
     "output_type": "execute_result"
    }
   ],
   "source": [
    "expDesignFile "
   ]
  },
  {
   "cell_type": "markdown",
   "metadata": {},
   "source": [
    "## Nestly params"
   ]
  },
  {
   "cell_type": "code",
   "execution_count": 9,
   "metadata": {
    "collapsed": false
   },
   "outputs": [],
   "source": [
    "# building tree structure\n",
    "nest = nestly.Nest()\n",
    "\n",
    "# varying params: test\n",
    "nest.add('fracIncorp', [0.5])\n",
    "nest.add('percTaxa', [10])\n",
    "nest.add('rep', range(1,3))\n",
    "\n",
    "\n",
    "# varying params\n",
    "#nest.add('fracIncorp', [0, 0.25, 0.5, 1])\n",
    "#nest.add('percTaxa', [1, 5, 10, 25, 50])\n",
    "#nest.add('rep', range(1,11))\n",
    "\n",
    "## set params\n",
    "nest.add('abs', ['1e9'], create_dir=False)\n",
    "nest.add('np', [10], create_dir=False)\n",
    "nest.add('subsample_dist', ['lognormal'], create_dir=False)\n",
    "nest.add('subsample_mean', [9.432], create_dir=False)\n",
    "nest.add('subsample_scale', [0.5], create_dir=False)\n",
    "nest.add('subsample_min', [10000], create_dir=False)\n",
    "nest.add('subsample_max', [30000], create_dir=False)\n",
    "nest.add('min_BD', [min_BD], create_dir=False)\n",
    "nest.add('max_BD', [max_BD], create_dir=False)\n",
    "nest.add('DBL_scaling', [0.5], create_dir=False)\n",
    "nest.add('bandwidth', [0.8], create_dir=False)\n",
    "nest.add('heavy_BD_min', [1.71], create_dir=False)\n",
    "nest.add('heavy_BD_max', [1.75], create_dir=False)\n",
    "nest.add('topTaxaToPlot', [100], create_dir=False)\n",
    "nest.add('padj', [0.1], create_dir=False)\n",
    "nest.add('log2', [0.25], create_dir=False)\n",
    "\n",
    "### input/output files\n",
    "nest.add('buildDir', [buildDir], create_dir=False)\n",
    "nest.add('R_dir', [R_dir], create_dir=False)\n",
    "nest.add('genome_index', [genome_index], create_dir=False)\n",
    "nest.add('fragFile', [fragFile], create_dir=False)\n",
    "nest.add('exp_design', [expDesignFile], create_dir=False)\n",
    "\n",
    "\n",
    "# building directory tree\n",
    "nest.build(buildDir)\n",
    "\n",
    "# bash file to run\n",
    "bashFile = os.path.join(buildDir, 'SIPSimRun.sh')"
   ]
  },
  {
   "cell_type": "markdown",
   "metadata": {},
   "source": [
    "## Experimental design"
   ]
  },
  {
   "cell_type": "code",
   "execution_count": 10,
   "metadata": {
    "collapsed": false
   },
   "outputs": [
    {
     "name": "stdout",
     "output_type": "stream",
     "text": [
      "Writing /home/nick/notebook/SIPSim/dev/bac_genome1147/atomIncorp_taxaIncorp/SIPSimRun.sh\n"
     ]
    }
   ],
   "source": [
    "%%writefile $bashFile\n",
    "#!/bin/bash\n",
    "\n",
    "echo '#-- Experimental design --#'\n",
    "\n",
    "echo '# Making an isotope incorporation config file'\n",
    "echo '## 3 replicate gradients for control & treatment'\n",
    "SIPSim incorpConfigExample \\\n",
    "  --percTaxa {percTaxa} \\\n",
    "  --n_reps 3 \\\n",
    "  > incorp.config\n",
    "\n",
    "echo '# Selecting incorporator taxa'\n",
    "echo '## This is to make the gradient replicates consistent (qSIP finds mean among replicates)'\n",
    "SIPSim KDE_selectTaxa \\\n",
    "    -f {fracIncorp} \\\n",
    "    {fragFile} \\\n",
    "    > incorporators.txt\n",
    "\n",
    "echo '# Creating a community file (3 replicate control, 3 replicate treatment)'\n",
    "SIPSim communities \\\n",
    "    --config incorp.config \\\n",
    "    {genome_index} \\\n",
    "    > comm.txt    \n",
    "\n",
    "echo '# simulating gradient fractions'\n",
    "SIPSim gradient_fractions \\\n",
    "    --BD_min {min_BD} \\\n",
    "    --BD_max {max_BD} \\\n",
    "    comm.txt \\\n",
    "    > fracs.txt        "
   ]
  },
  {
   "cell_type": "code",
   "execution_count": 11,
   "metadata": {
    "collapsed": false
   },
   "outputs": [
    {
     "name": "stdout",
     "output_type": "stream",
     "text": [
      "2016-03-19 13:13:17,834 * INFO * Template: ./SIPSimRun.sh\n",
      "2016-03-19 13:13:17,836 * INFO * [213609] Started ./SIPSimRun.sh in atomIncorp_taxaIncorp/0.5/10/2\n",
      "2016-03-19 13:13:17,838 * INFO * [213610] Started ./SIPSimRun.sh in atomIncorp_taxaIncorp/0.5/10/1\n",
      "2016-03-19 13:13:21,451 * INFO * [213609] atomIncorp_taxaIncorp/0.5/10/2 Finished with 0\n",
      "2016-03-19 13:13:21,451 * INFO * [213610] atomIncorp_taxaIncorp/0.5/10/1 Finished with 0\n"
     ]
    }
   ],
   "source": [
    "!chmod 777 $bashFile\n",
    "!cd $workDir; \\\n",
    "    nestrun --template-file $bashFile -d atomIncorp_taxaIncorp --log-file exp_design.log -j 10"
   ]
  },
  {
   "cell_type": "markdown",
   "metadata": {},
   "source": [
    "## SIPSim pipeline"
   ]
  },
  {
   "cell_type": "code",
   "execution_count": null,
   "metadata": {
    "collapsed": false
   },
   "outputs": [
    {
     "name": "stdout",
     "output_type": "stream",
     "text": [
      "Overwriting /home/nick/notebook/SIPSim/dev/bac_genome1147/atomIncorp_taxaIncorp/SIPSimRun.sh\n"
     ]
    }
   ],
   "source": [
    "%%writefile $bashFile\n",
    "#!/bin/bash\n",
    "\n",
    "echo '#-- SIPSim pipeline --#'    \n",
    "    \n",
    "echo '# Adding diffusion'    \n",
    "SIPSim diffusion \\\n",
    "    -n 100000 \\\n",
    "    --bw {bandwidth} \\\n",
    "    --np {np} \\\n",
    "    {fragFile} \\\n",
    "    > ampFrags_KDE_dif.pkl    \n",
    "\n",
    "echo '# Adding DBL contamination; abundance-weighted smearing'\n",
    "SIPSim DBL \\\n",
    "    -n 100000 \\\n",
    "    --comm comm.txt \\\n",
    "    --commx {DBL_scaling} \\\n",
    "    --np {np} \\\n",
    "    ampFrags_KDE_dif.pkl \\\n",
    "    > ampFrags_KDE_dif_DBL.pkl \n",
    "\n",
    "echo '# Adding isotope incorporation to BD distribution'\n",
    "SIPSim isotope_incorp \\\n",
    "    -n 100000 \\\n",
    "    --comm comm.txt \\\n",
    "    --taxa incorporators.txt \\\n",
    "    --np {np} \\\n",
    "    ampFrags_KDE_dif_DBL.pkl \\\n",
    "    incorp.config \\\n",
    "    > ampFrags_KDE_dif_DBL_inc.pkl\n",
    "\n",
    "echo '# Simulating an OTU table'\n",
    "SIPSim OTU_table \\\n",
    "    --abs {abs} \\\n",
    "    --np {np} \\\n",
    "    ampFrags_KDE_dif_DBL_inc.pkl \\\n",
    "    comm.txt \\\n",
    "    fracs.txt \\\n",
    "    > OTU_abs{abs}.txt\n",
    "    \n",
    "echo '# Simulating PCR'\n",
    "SIPSim OTU_PCR \\\n",
    "    OTU_abs{abs}.txt \\\n",
    "    > OTU_abs{abs}_PCR.txt    \n",
    "    \n",
    "echo '# Subsampling from the OTU table (simulating sequencing of the DNA pool)'\n",
    "SIPSim OTU_subsample \\\n",
    "    --dist {subsample_dist} \\\n",
    "    --dist_params mean:{subsample_mean},sigma:{subsample_scale} \\\n",
    "    --min_size {subsample_min} \\\n",
    "    --max_size {subsample_max} \\\n",
    "    OTU_abs{abs}_PCR.txt \\\n",
    "    > OTU_abs{abs}_PCR_sub.txt\n",
    "        \n",
    "echo '# Making a wide-formatted table'\n",
    "SIPSim OTU_wideLong -w \\\n",
    "    OTU_abs{abs}_PCR_sub.txt \\\n",
    "    > OTU_abs{abs}_PCR_sub_w.txt\n",
    "    \n",
    "echo '# Making metadata (phyloseq: sample_data)'\n",
    "SIPSim OTU_sampleData \\\n",
    "    OTU_abs{abs}_PCR_sub.txt \\\n",
    "    > OTU_abs{abs}_PCR_sub_meta.txt\n",
    "    \n",
    "    \n",
    "\n",
    "#-- removing large intermediate files --#\n",
    "#rm -f ampFrags_KDE_dif.pkl\n",
    "#rm -f ampFrags_KDE_dif_DBL.pkl\n",
    "#rm -f ampFrags_KDE_dif_DBL_inc.pkl    "
   ]
  },
  {
   "cell_type": "code",
   "execution_count": null,
   "metadata": {
    "collapsed": false
   },
   "outputs": [
    {
     "name": "stdout",
     "output_type": "stream",
     "text": [
      "2016-03-19 13:13:21,736 * INFO * Template: ./SIPSimRun.sh\r\n",
      "2016-03-19 13:13:21,738 * INFO * [213735] Started ./SIPSimRun.sh in atomIncorp_taxaIncorp/0.5/10/2\r\n",
      "2016-03-19 13:13:21,741 * INFO * [213736] Started ./SIPSimRun.sh in atomIncorp_taxaIncorp/0.5/10/1\r\n"
     ]
    }
   ],
   "source": [
    "!chmod 777 $bashFile\n",
    "!cd $workDir; \\\n",
    "    nestrun --template-file $bashFile -d atomIncorp_taxaIncorp --log-file SIPSim_pipeline.log -j 2"
   ]
  },
  {
   "cell_type": "code",
   "execution_count": null,
   "metadata": {
    "collapsed": true
   },
   "outputs": [],
   "source": [
    "%pushnote SIPSim pipeline complete"
   ]
  },
  {
   "cell_type": "markdown",
   "metadata": {},
   "source": [
    "## HR-SIP"
   ]
  },
  {
   "cell_type": "code",
   "execution_count": null,
   "metadata": {
    "collapsed": false
   },
   "outputs": [],
   "source": [
    "%%writefile $bashFile\n",
    "#!/bin/bash\n",
    "\n",
    "#-- R analysis --#\n",
    "export PATH={R_dir}:$PATH\n",
    "   \n",
    "\n",
    "# plotting 'raw' taxon abundances\n",
    "OTU_taxonAbund.r \\\n",
    "    OTU_abs{abs}.txt \\\n",
    "    -r {topTaxaToPlot} \\\n",
    "    -o OTU_abs{abs}\n",
    "# plotting 'sequenced' taxon abundances\n",
    "OTU_taxonAbund.r \\\n",
    "    OTU_abs{abs}_PCR_sub.txt \\\n",
    "    -r {topTaxaToPlot} \\\n",
    "    -o OTU_abs{abs}_PCR_sub\n",
    "\n",
    "# running DeSeq2\n",
    "## making phyloseq object from OTU table\n",
    "phyloseq_make.r \\\n",
    "    OTU_abs{abs}_PCR_sub_w.txt \\\n",
    "    -s OTU_abs{abs}_PCR_sub_meta.txt \\\n",
    "    > OTU_abs{abs}_PCR_sub.physeq\n",
    "## filtering phyloseq object to just 'heavy' fractions\n",
    "phyloseq_edit.r \\\n",
    "    OTU_abs{abs}_PCR_sub.physeq \\\n",
    "    --BD_min {heavy_BD_min} \\\n",
    "    --BD_max {heavy_BD_max} \\\n",
    "    > OTU_abs{abs}_PCR_sub_filt.physeq\n",
    "\n",
    "## making ordination\n",
    "phyloseq_ordination.r \\\n",
    "    OTU_abs{abs}_PCR_sub_filt.physeq \\\n",
    "    OTU_abs{abs}_PCR_sub_filt_bray-NMDS.pdf\n",
    "\n",
    "## DESeq2\n",
    "phyloseq_DESeq2.r \\\n",
    "    OTU_abs{abs}_PCR_sub_filt.physeq \\\n",
    "    --log2 {log2} \\\n",
    "    --hypo greater \\\n",
    "    > OTU_abs{abs}_PCR_sub_filt_DESeq2\n",
    "    \n",
    "## Confusion matrix\n",
    "DESeq2_confuseMtx.r \\\n",
    "    -o HR-SIP_DESeq2-cMtx \\\n",
    "    BD-shift_stats.txt \\\n",
    "    OTU_abs{abs}_PCR_sub_filt_DESeq2 \\\n",
    "    --padj {padj} "
   ]
  },
  {
   "cell_type": "code",
   "execution_count": null,
   "metadata": {
    "collapsed": false
   },
   "outputs": [],
   "source": [
    "!chmod 777 $bashFile\n",
    "!cd $workDir; \\\n",
    "    nestrun --template-file $bashFile -d atomIncorp_taxaIncorp --log-file HR-SIP.log -j 10"
   ]
  },
  {
   "cell_type": "markdown",
   "metadata": {},
   "source": [
    "### Aggregating the confusion matrix data"
   ]
  },
  {
   "cell_type": "code",
   "execution_count": null,
   "metadata": {
    "collapsed": false
   },
   "outputs": [],
   "source": [
    "# all data\n",
    "!nestagg delim \\\n",
    "        -d $buildDir \\\n",
    "        -k fracIncorp,percTaxa,rep \\\n",
    "        -o HR-SIP_DESeq2-cMtx_data.txt \\\n",
    "        --tab \\\n",
    "        HR-SIP_DESeq2-cMtx_data.txt\n",
    "\n",
    "# overall\n",
    "!nestagg delim \\\n",
    "        -d $buildDir \\\n",
    "        -k fracIncorp,percTaxa,rep \\\n",
    "        -o HR-SIP_DESeq2-cMtx_overall.txt \\\n",
    "        --tab \\\n",
    "        HR-SIP_DESeq2-cMtx_overall.txt\n",
    "\n",
    "# by class\n",
    "!nestagg delim \\\n",
    "        -d $buildDir \\\n",
    "        -k fracIncorp,percTaxa,rep \\\n",
    "        -o HR-SIP_DESeq2-cMtx_byClass.txt \\\n",
    "        --tab \\\n",
    "        HR-SIP_DESeq2-cMtx_byClass.txt"
   ]
  },
  {
   "cell_type": "markdown",
   "metadata": {},
   "source": [
    "## qSIP"
   ]
  },
  {
   "cell_type": "code",
   "execution_count": null,
   "metadata": {
    "collapsed": false
   },
   "outputs": [],
   "source": [
    "%%writefile $bashFile\n",
    "#!/bin/bash\n",
    "\n",
    "#-- qSIP --#\n",
    "echo '# qSIP'\n",
    "SIPSim qSIP \\\n",
    "    --reps 3 \\\n",
    "    OTU_abs{abs}.txt \\\n",
    "    OTU_abs{abs}_PCR_sub.txt \\\n",
    "    > OTU_abs{abs}_PCR_sub_qSIP.txt\n",
    "        \n",
    "# atom excess\n",
    "echo '# qSIP: atom excess'\n",
    "SIPSim qSIP_atomExcess \\\n",
    "    --np {np} \\\n",
    "    OTU_abs{abs}_PCR_sub_qSIP.txt \\\n",
    "    {exp_design} \\\n",
    "    > OTU_abs{abs}_PCR_sub_qSIP_atom.txt  "
   ]
  },
  {
   "cell_type": "code",
   "execution_count": null,
   "metadata": {
    "collapsed": false
   },
   "outputs": [],
   "source": [
    "!chmod 777 $bashFile\n",
    "!cd $workDir; \\\n",
    "    nestrun --template-file $bashFile -d atomIncorp_taxaIncorp --log-file qSIP.log -j 2"
   ]
  },
  {
   "cell_type": "code",
   "execution_count": null,
   "metadata": {
    "collapsed": true
   },
   "outputs": [],
   "source": [
    "%pushnote qSIP complete"
   ]
  },
  {
   "cell_type": "code",
   "execution_count": null,
   "metadata": {
    "collapsed": true
   },
   "outputs": [],
   "source": []
  }
 ],
 "metadata": {
  "hide_input": true,
  "kernelspec": {
   "display_name": "Python 2",
   "language": "python",
   "name": "python2"
  },
  "language_info": {
   "codemirror_mode": {
    "name": "ipython",
    "version": 2
   },
   "file_extension": ".py",
   "mimetype": "text/x-python",
   "name": "python",
   "nbconvert_exporter": "python",
   "pygments_lexer": "ipython2",
   "version": "2.7.11"
  }
 },
 "nbformat": 4,
 "nbformat_minor": 0
}
