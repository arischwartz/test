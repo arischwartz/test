{
 "cells": [
  {
   "cell_type": "markdown",
   "metadata": {},
   "source": [
    "# Goal\n",
    "\n",
    "* Use validation dataset to test the power of HR-SIP with multiple 'heavy' BD windows\n",
    "  * global adjustment of all hypotheses for all windows\n",
    "  * using 2-4 windows and assessing the power"
   ]
  },
  {
   "cell_type": "markdown",
   "metadata": {},
   "source": [
    "# Setting variables"
   ]
  },
  {
   "cell_type": "code",
   "execution_count": 99,
   "metadata": {
    "collapsed": true
   },
   "outputs": [],
   "source": [
    "workDir = '/home/nick/notebook/SIPSim/dev/bac_genome1147/validation/multiWindow_HRSIP/'\n",
    "genomeDir = '/var/seq_data/ncbi_db/genome/Jan2016/bac_complete_spec-rep1_rn/'\n",
    "figureDir = '/home/nick/notebook/SIPSim/figures/bac_genome_n1147/'\n",
    "\n",
    "# OTU_abs{abs}_PCR_sub.physeq"
   ]
  },
  {
   "cell_type": "markdown",
   "metadata": {},
   "source": [
    "# Init"
   ]
  },
  {
   "cell_type": "code",
   "execution_count": 100,
   "metadata": {
    "collapsed": false
   },
   "outputs": [
    {
     "name": "stdout",
     "output_type": "stream",
     "text": [
      "The rpy2.ipython extension is already loaded. To reload it, use:\n",
      "  %reload_ext rpy2.ipython\n",
      "The pushnote extension is already loaded. To reload it, use:\n",
      "  %reload_ext pushnote\n"
     ]
    }
   ],
   "source": [
    "import glob\n",
    "import nestly\n",
    "import os\n",
    "%load_ext rpy2.ipython\n",
    "%load_ext pushnote"
   ]
  },
  {
   "cell_type": "code",
   "execution_count": 101,
   "metadata": {
    "collapsed": false
   },
   "outputs": [],
   "source": [
    "%%R\n",
    "library(ggplot2)\n",
    "library(dplyr)\n",
    "library(tidyr)\n",
    "library(gridExtra)"
   ]
  },
  {
   "cell_type": "code",
   "execution_count": 102,
   "metadata": {
    "collapsed": false
   },
   "outputs": [
    {
     "name": "stdout",
     "output_type": "stream",
     "text": [
      "/home/nick/notebook/SIPSim/dev/bac_genome1147/validation/multiWindow_HRSIP\n"
     ]
    }
   ],
   "source": [
    "if not os.path.isdir(workDir):\n",
    "    os.makedirs(workDir)\n",
    "        \n",
    "%cd $workDir    "
   ]
  },
  {
   "cell_type": "markdown",
   "metadata": {},
   "source": [
    "# HR-SIP with multiple windows"
   ]
  },
  {
   "cell_type": "code",
   "execution_count": 103,
   "metadata": {
    "collapsed": true
   },
   "outputs": [],
   "source": [
    "def HRSIP_multi_window(physeq, BD_shift, BDs, outname, padj=0.1, log2=0.25):\n",
    "    # HR-SIP for each window\n",
    "    occurs = ','.join([str(x/100.0) for x in range(0,55,5)])\n",
    "    outname2 = outname + '_DS2.txt'\n",
    "    !SIPSimR phyloseq_DESeq2 --occur_all $occurs -w $BDs $physeq > $outname2\n",
    "    # making confusion matrix\n",
    "    !SIPSimR DESeq2_confuseMtx --padj $padj --log2 $log2 $BD_shift -o $outname $outname2"
   ]
  },
  {
   "cell_type": "markdown",
   "metadata": {},
   "source": [
    "### 1.70-1.74,1.72-1.76"
   ]
  },
  {
   "cell_type": "code",
   "execution_count": null,
   "metadata": {
    "collapsed": false,
    "scrolled": true
   },
   "outputs": [
    {
     "name": "stdout",
     "output_type": "stream",
     "text": [
      "Warning message:\n",
      "replacing previous import ‘S4Vectors::Position’ by ‘ggplot2::Position’ when loading ‘DESeq2’ \n",
      "# occurance cutoff: 0\n",
      " pre-filter: number of taxa: 1147\n",
      " post-filter: number of taxa: 1090\n",
      "# \"heavy\" BD window: 1.7-1.74\n",
      " pre-filter: number of samples: 56\n",
      " post-filter: number of samples: 18\n",
      "# occurance cutoff: 0\n",
      " pre-filter: number of taxa: 1090\n",
      " post-filter: number of taxa: 1070\n",
      "# DESeq2 run\n",
      "converting counts to integer mode\n",
      "using pre-existing size factors\n",
      "estimating dispersions\n",
      "gene-wise dispersion estimates\n",
      "mean-dispersion relationship\n",
      "final dispersion estimates\n",
      "fitting model and testing\n",
      "-- replacing outliers and refitting for 75 genes\n",
      "-- DESeq argument 'minReplicatesForReplace' = 7 \n",
      "-- original counts are preserved in counts(dds)\n",
      "estimating dispersions\n",
      "fitting model and testing\n",
      "# Number of rejected hypotheses: 0\n",
      "\n",
      "# occurance cutoff: 0.05\n",
      " pre-filter: number of taxa: 1147\n",
      " post-filter: number of taxa: 1056\n",
      "# \"heavy\" BD window: 1.7-1.74\n",
      " pre-filter: number of samples: 56\n",
      " post-filter: number of samples: 18\n",
      "# occurance cutoff: 0\n",
      " pre-filter: number of taxa: 1056\n",
      " post-filter: number of taxa: 1041\n",
      "# DESeq2 run\n",
      "converting counts to integer mode\n",
      "using pre-existing size factors\n",
      "estimating dispersions\n",
      "gene-wise dispersion estimates\n",
      "mean-dispersion relationship\n",
      "final dispersion estimates\n",
      "fitting model and testing\n",
      "-- replacing outliers and refitting for 74 genes\n",
      "-- DESeq argument 'minReplicatesForReplace' = 7 \n",
      "-- original counts are preserved in counts(dds)\n",
      "estimating dispersions\n",
      "fitting model and testing\n",
      "# Number of rejected hypotheses: 0\n",
      "\n",
      "# occurance cutoff: 0.1\n",
      " pre-filter: number of taxa: 1147\n",
      " post-filter: number of taxa: 990\n",
      "# \"heavy\" BD window: 1.7-1.74\n",
      " pre-filter: number of samples: 56\n",
      " post-filter: number of samples: 18\n",
      "# occurance cutoff: 0\n",
      " pre-filter: number of taxa: 990\n",
      " post-filter: number of taxa: 978\n",
      "# DESeq2 run\n",
      "converting counts to integer mode\n",
      "using pre-existing size factors\n",
      "estimating dispersions\n",
      "gene-wise dispersion estimates\n",
      "mean-dispersion relationship\n",
      "final dispersion estimates\n",
      "fitting model and testing\n",
      "-- replacing outliers and refitting for 74 genes\n",
      "-- DESeq argument 'minReplicatesForReplace' = 7 \n",
      "-- original counts are preserved in counts(dds)\n",
      "estimating dispersions\n",
      "fitting model and testing\n",
      "# Number of rejected hypotheses: 0\n",
      "\n",
      "# occurance cutoff: 0.15\n",
      " pre-filter: number of taxa: 1147\n",
      " post-filter: number of taxa: 930\n",
      "# \"heavy\" BD window: 1.7-1.74\n",
      " pre-filter: number of samples: 56\n",
      " post-filter: number of samples: 18\n",
      "# occurance cutoff: 0\n",
      " pre-filter: number of taxa: 930\n",
      " post-filter: number of taxa: 919\n",
      "# DESeq2 run\n",
      "converting counts to integer mode\n",
      "using pre-existing size factors\n",
      "estimating dispersions\n",
      "gene-wise dispersion estimates\n",
      "mean-dispersion relationship\n",
      "final dispersion estimates\n",
      "fitting model and testing\n",
      "-- replacing outliers and refitting for 71 genes\n",
      "-- DESeq argument 'minReplicatesForReplace' = 7 \n",
      "-- original counts are preserved in counts(dds)\n",
      "estimating dispersions\n",
      "fitting model and testing\n",
      "# Number of rejected hypotheses: 0\n",
      "\n",
      "# occurance cutoff: 0.2\n",
      " pre-filter: number of taxa: 1147\n",
      " post-filter: number of taxa: 855\n",
      "# \"heavy\" BD window: 1.7-1.74\n",
      " pre-filter: number of samples: 56\n",
      " post-filter: number of samples: 18\n",
      "# occurance cutoff: 0\n",
      " pre-filter: number of taxa: 855\n",
      " post-filter: number of taxa: 849\n",
      "# DESeq2 run\n",
      "converting counts to integer mode\n",
      "using pre-existing size factors\n",
      "estimating dispersions\n",
      "gene-wise dispersion estimates\n",
      "mean-dispersion relationship\n",
      "final dispersion estimates\n",
      "fitting model and testing\n",
      "-- replacing outliers and refitting for 66 genes\n",
      "-- DESeq argument 'minReplicatesForReplace' = 7 \n",
      "-- original counts are preserved in counts(dds)\n",
      "estimating dispersions\n",
      "fitting model and testing\n",
      "# Number of rejected hypotheses: 0\n",
      "\n",
      "# occurance cutoff: 0.25\n",
      " pre-filter: number of taxa: 1147\n",
      " post-filter: number of taxa: 781\n",
      "# \"heavy\" BD window: 1.7-1.74\n",
      " pre-filter: number of samples: 56\n",
      " post-filter: number of samples: 18\n",
      "# occurance cutoff: 0\n",
      " pre-filter: number of taxa: 781\n",
      " post-filter: number of taxa: 777\n",
      "# DESeq2 run\n",
      "converting counts to integer mode\n",
      "using pre-existing size factors\n",
      "estimating dispersions\n",
      "gene-wise dispersion estimates\n",
      "mean-dispersion relationship\n",
      "final dispersion estimates\n",
      "fitting model and testing\n",
      "-- replacing outliers and refitting for 63 genes\n",
      "-- DESeq argument 'minReplicatesForReplace' = 7 \n",
      "-- original counts are preserved in counts(dds)\n",
      "estimating dispersions\n",
      "fitting model and testing\n",
      "# Number of rejected hypotheses: 0\n",
      "\n",
      "# occurance cutoff: 0.3\n",
      " pre-filter: number of taxa: 1147\n",
      " post-filter: number of taxa: 715\n",
      "# \"heavy\" BD window: 1.7-1.74\n",
      " pre-filter: number of samples: 56\n",
      " post-filter: number of samples: 18\n",
      "# occurance cutoff: 0\n",
      " pre-filter: number of taxa: 715\n",
      " post-filter: number of taxa: 715\n",
      "# DESeq2 run\n",
      "converting counts to integer mode\n",
      "using pre-existing size factors\n",
      "estimating dispersions\n",
      "gene-wise dispersion estimates\n",
      "mean-dispersion relationship\n",
      "final dispersion estimates\n",
      "fitting model and testing\n",
      "-- replacing outliers and refitting for 60 genes\n",
      "-- DESeq argument 'minReplicatesForReplace' = 7 \n",
      "-- original counts are preserved in counts(dds)\n",
      "estimating dispersions\n",
      "fitting model and testing\n",
      "# Number of rejected hypotheses: 0\n",
      "\n",
      "# occurance cutoff: 0.35\n",
      " pre-filter: number of taxa: 1147\n",
      " post-filter: number of taxa: 638\n",
      "# \"heavy\" BD window: 1.7-1.74\n",
      " pre-filter: number of samples: 56\n",
      " post-filter: number of samples: 18\n",
      "# occurance cutoff: 0\n",
      " pre-filter: number of taxa: 638\n",
      " post-filter: number of taxa: 638\n",
      "# DESeq2 run\n",
      "converting counts to integer mode\n",
      "using pre-existing size factors\n",
      "estimating dispersions\n",
      "gene-wise dispersion estimates\n",
      "mean-dispersion relationship\n",
      "final dispersion estimates\n",
      "fitting model and testing\n",
      "-- replacing outliers and refitting for 53 genes\n",
      "-- DESeq argument 'minReplicatesForReplace' = 7 \n",
      "-- original counts are preserved in counts(dds)\n",
      "estimating dispersions\n",
      "fitting model and testing\n",
      "# Number of rejected hypotheses: 0\n",
      "\n",
      "# occurance cutoff: 0.4\n",
      " pre-filter: number of taxa: 1147\n",
      " post-filter: number of taxa: 555\n",
      "# \"heavy\" BD window: 1.7-1.74\n",
      " pre-filter: number of samples: 56\n",
      " post-filter: number of samples: 18\n",
      "# occurance cutoff: 0\n",
      " pre-filter: number of taxa: 555\n",
      " post-filter: number of taxa: 555\n",
      "# DESeq2 run\n",
      "converting counts to integer mode\n",
      "using pre-existing size factors\n",
      "estimating dispersions\n",
      "gene-wise dispersion estimates\n",
      "mean-dispersion relationship\n",
      "final dispersion estimates\n",
      "fitting model and testing\n",
      "-- replacing outliers and refitting for 49 genes\n",
      "-- DESeq argument 'minReplicatesForReplace' = 7 \n",
      "-- original counts are preserved in counts(dds)\n",
      "estimating dispersions\n",
      "fitting model and testing\n",
      "# Number of rejected hypotheses: 0\n",
      "\n",
      "# occurance cutoff: 0.45\n",
      " pre-filter: number of taxa: 1147\n",
      " post-filter: number of taxa: 502\n",
      "# \"heavy\" BD window: 1.7-1.74\n",
      " pre-filter: number of samples: 56\n",
      " post-filter: number of samples: 18\n",
      "# occurance cutoff: 0\n",
      " pre-filter: number of taxa: 502\n",
      " post-filter: number of taxa: 502\n",
      "# DESeq2 run\n",
      "converting counts to integer mode\n",
      "using pre-existing size factors\n",
      "estimating dispersions\n",
      "gene-wise dispersion estimates\n",
      "mean-dispersion relationship\n",
      "final dispersion estimates\n",
      "fitting model and testing\n",
      "-- replacing outliers and refitting for 44 genes\n",
      "-- DESeq argument 'minReplicatesForReplace' = 7 \n",
      "-- original counts are preserved in counts(dds)\n",
      "estimating dispersions\n",
      "fitting model and testing\n",
      "# Number of rejected hypotheses: 0\n",
      "\n",
      "# occurance cutoff: 0.5\n",
      " pre-filter: number of taxa: 1147\n",
      " post-filter: number of taxa: 438\n",
      "# \"heavy\" BD window: 1.7-1.74\n",
      " pre-filter: number of samples: 56\n",
      " post-filter: number of samples: 18\n",
      "# occurance cutoff: 0\n",
      " pre-filter: number of taxa: 438\n",
      " post-filter: number of taxa: 438\n",
      "# DESeq2 run\n",
      "converting counts to integer mode\n",
      "using pre-existing size factors\n",
      "estimating dispersions\n",
      "gene-wise dispersion estimates\n",
      "mean-dispersion relationship\n",
      "final dispersion estimates\n",
      "fitting model and testing\n",
      "-- replacing outliers and refitting for 33 genes\n",
      "-- DESeq argument 'minReplicatesForReplace' = 7 \n",
      "-- original counts are preserved in counts(dds)\n",
      "estimating dispersions\n",
      "fitting model and testing\n",
      "# Number of rejected hypotheses: 0\n",
      "\n",
      "# occurance cutoff: 0\n",
      " pre-filter: number of taxa: 1147\n",
      " post-filter: number of taxa: 1090\n",
      "# \"heavy\" BD window: 1.72-1.76\n",
      " pre-filter: number of samples: 56\n",
      " post-filter: number of samples: 19\n",
      "# occurance cutoff: 0\n",
      " pre-filter: number of taxa: 1090\n",
      " post-filter: number of taxa: 973\n",
      "# DESeq2 run\n",
      "converting counts to integer mode\n",
      "using pre-existing size factors\n",
      "estimating dispersions\n",
      "gene-wise dispersion estimates\n",
      "mean-dispersion relationship\n",
      "final dispersion estimates\n",
      "fitting model and testing\n",
      "-- replacing outliers and refitting for 4 genes\n",
      "-- DESeq argument 'minReplicatesForReplace' = 7 \n",
      "-- original counts are preserved in counts(dds)\n",
      "estimating dispersions\n",
      "fitting model and testing\n",
      "# Number of rejected hypotheses: 100\n",
      "\n",
      "# occurance cutoff: 0.05\n",
      " pre-filter: number of taxa: 1147\n",
      " post-filter: number of taxa: 1056\n",
      "# \"heavy\" BD window: 1.72-1.76\n",
      " pre-filter: number of samples: 56\n",
      " post-filter: number of samples: 19\n",
      "# occurance cutoff: 0\n",
      " pre-filter: number of taxa: 1056\n",
      " post-filter: number of taxa: 964\n",
      "# DESeq2 run\n",
      "converting counts to integer mode\n",
      "using pre-existing size factors\n",
      "estimating dispersions\n",
      "gene-wise dispersion estimates\n",
      "mean-dispersion relationship\n",
      "final dispersion estimates\n",
      "fitting model and testing\n",
      "-- replacing outliers and refitting for 5 genes\n",
      "-- DESeq argument 'minReplicatesForReplace' = 7 \n",
      "-- original counts are preserved in counts(dds)\n",
      "estimating dispersions\n",
      "fitting model and testing\n",
      "# Number of rejected hypotheses: 100\n",
      "\n",
      "# occurance cutoff: 0.1\n",
      " pre-filter: number of taxa: 1147\n",
      " post-filter: number of taxa: 990\n",
      "# \"heavy\" BD window: 1.72-1.76\n",
      " pre-filter: number of samples: 56\n",
      "**OUTPUT MUTED**"
     ]
    }
   ],
   "source": [
    "BDs = '1.70-1.74,1.72-1.76'\n",
    "physeq = '../OTU_n2_abs1e9_PCR_subNorm.physeq'\n",
    "BD_shift = '../ampFrags_BD-shift.txt'\n",
    "HRSIP_multi_window(physeq, BD_shift, BDs, 'OTU_n2_abs1e9_PCR_subNorm_MW1')"
   ]
  },
  {
   "cell_type": "markdown",
   "metadata": {},
   "source": [
    "### 1.70-1.75,1.72-1.77"
   ]
  },
  {
   "cell_type": "code",
   "execution_count": null,
   "metadata": {
    "collapsed": false
   },
   "outputs": [],
   "source": [
    "BDs = '1.70-1.75,1.72-1.77'\n",
    "physeq = '../OTU_n2_abs1e9_PCR_subNorm.physeq'\n",
    "BD_shift = '../ampFrags_BD-shift.txt'\n",
    "HRSIP_multi_window(physeq, BD_shift, BDs, 'OTU_n2_abs1e9_PCR_subNorm_MW2')"
   ]
  },
  {
   "cell_type": "markdown",
   "metadata": {},
   "source": [
    "### 1.70-1.73,1.72-1.75,1.74-1.77"
   ]
  },
  {
   "cell_type": "code",
   "execution_count": null,
   "metadata": {
    "collapsed": false
   },
   "outputs": [],
   "source": [
    "BDs = '1.70-1.73,1.72-1.75,1.74-1.77'\n",
    "physeq = '../OTU_n2_abs1e9_PCR_subNorm.physeq'\n",
    "BD_shift = '../ampFrags_BD-shift.txt'\n",
    "HRSIP_multi_window(physeq, BD_shift, BDs, 'OTU_n2_abs1e9_PCR_subNorm_MW3')"
   ]
  },
  {
   "cell_type": "markdown",
   "metadata": {},
   "source": [
    "### 1.70-1.72,1.71-1.73,1.72-1.74,1.73-1.75"
   ]
  },
  {
   "cell_type": "code",
   "execution_count": null,
   "metadata": {
    "collapsed": false
   },
   "outputs": [],
   "source": [
    "BDs = '1.70-1.72,1.71-1.73,1.72-1.74,1.73-1.75'\n",
    "physeq = '../OTU_n2_abs1e9_PCR_subNorm.physeq'\n",
    "BD_shift = '../ampFrags_BD-shift.txt'\n",
    "HRSIP_multi_window(physeq, BD_shift, BDs, 'OTU_n2_abs1e9_PCR_subNorm_MW4')"
   ]
  },
  {
   "cell_type": "markdown",
   "metadata": {},
   "source": [
    "### 1.71-1.75"
   ]
  },
  {
   "cell_type": "code",
   "execution_count": null,
   "metadata": {
    "collapsed": false
   },
   "outputs": [],
   "source": [
    "BDs = '1.71-1.75'\n",
    "physeq = '../OTU_n2_abs1e9_PCR_subNorm.physeq'\n",
    "BD_shift = '../ampFrags_BD-shift.txt'\n",
    "HRSIP_multi_window(physeq, BD_shift, BDs, 'OTU_n2_abs1e9_PCR_subNorm_MW5')"
   ]
  },
  {
   "cell_type": "markdown",
   "metadata": {},
   "source": [
    "### 1.71-1.8"
   ]
  },
  {
   "cell_type": "code",
   "execution_count": null,
   "metadata": {
    "collapsed": false
   },
   "outputs": [],
   "source": [
    "BDs = '1.71-1.8'\n",
    "physeq = '../OTU_n2_abs1e9_PCR_subNorm.physeq'\n",
    "BD_shift = '../ampFrags_BD-shift.txt'\n",
    "HRSIP_multi_window(physeq, BD_shift, BDs, 'OTU_n2_abs1e9_PCR_subNorm_MW6')"
   ]
  },
  {
   "cell_type": "markdown",
   "metadata": {},
   "source": [
    "# Plotting results"
   ]
  },
  {
   "cell_type": "code",
   "execution_count": null,
   "metadata": {
    "collapsed": false
   },
   "outputs": [],
   "source": [
    "files = ['OTU_n2_abs1e9_PCR_subNorm_MW{}_byClass.txt'.format(i) for i in xrange(1,7)]\n",
    "files"
   ]
  },
  {
   "cell_type": "code",
   "execution_count": null,
   "metadata": {
    "collapsed": false
   },
   "outputs": [],
   "source": [
    "%%R -i files\n",
    "\n",
    "renames = data.frame(file = c('MW1', 'MW2', 'MW3', 'MW4', 'MW5', 'MW6'),\n",
    "                     BD_window = c('1.70-1.74,\\n1.72-1.76', \n",
    "                                   '1.70-1.75,\\n1.72-1.77',\n",
    "                                   '1.70-1.73,\\n1.72-1.75,\\n1.74-1.77',\n",
    "                                   '1.70-1.72,\\n1.71-1.73,\\n1.72-1.74,\\n1.73-1.75',\n",
    "                                   '1.71-1.75', '1.71-1.8'))\n",
    "\n",
    "df = list()\n",
    "for(F in files){\n",
    "    tmp = read.delim(F, sep='\\t')\n",
    "    df[[F]] = tmp\n",
    "}\n",
    "df = do.call(rbind, df)\n",
    "df$file = gsub('.+(MW[0-9]+).+', '\\\\1', rownames(df))\n",
    "\n",
    "df = inner_join(df, renames, c('file' = 'file')) \n",
    "\n",
    "df %>% head(n=3)"
   ]
  },
  {
   "cell_type": "code",
   "execution_count": null,
   "metadata": {
    "collapsed": false
   },
   "outputs": [],
   "source": [
    "%%R -h 550\n",
    "ggplot(df, aes(variables, values)) +\n",
    "    geom_bar(stat='identity') +\n",
    "    labs(y='Value') +\n",
    "    facet_grid(BD_window ~ .) +\n",
    "    theme_bw() +\n",
    "    theme(\n",
    "        text = element_text(size=16),\n",
    "        axis.title.x = element_blank(),\n",
    "        axis.text.x = element_text(angle=45, hjust=1)\n",
    "    )"
   ]
  },
  {
   "cell_type": "code",
   "execution_count": null,
   "metadata": {
    "collapsed": false
   },
   "outputs": [],
   "source": [
    "%%R -h 250 -w 550\n",
    "df.f = df %>%\n",
    "    filter(variables %in% c('Sensitivity', 'Specificity', 'Balanced Accuracy')) %>%\n",
    "    mutate(variables = gsub(' ', '\\n', variables))\n",
    "\n",
    "ggplot(df.f, aes(BD_window, values, color=variables)) +\n",
    "    geom_point(size=3, alpha=0.7) +\n",
    "    theme_bw() +\n",
    "    theme(\n",
    "        text = element_text(size=16),\n",
    "        axis.title.x = element_blank(),\n",
    "        axis.text.x = element_text(angle=60, hjust=1)\n",
    "    )"
   ]
  },
  {
   "cell_type": "code",
   "execution_count": null,
   "metadata": {
    "collapsed": true
   },
   "outputs": [],
   "source": [
    "%pushnote validation MW-HR-SIP complete"
   ]
  },
  {
   "cell_type": "markdown",
   "metadata": {},
   "source": [
    "***"
   ]
  },
  {
   "cell_type": "markdown",
   "metadata": {},
   "source": [
    "# HR-SIP with multiple windows (post-occur)"
   ]
  },
  {
   "cell_type": "code",
   "execution_count": null,
   "metadata": {
    "collapsed": true
   },
   "outputs": [],
   "source": [
    "def HRSIP_multi_window_post(physeq, BD_shift, BDs, outname, padj=0.1, log2=0.25):\n",
    "    # HR-SIP for each window\n",
    "    occurs = ','.join([str(x/100.0) for x in range(0,55,5)])\n",
    "    outname2 = outname + '_DS2.txt'\n",
    "    !SIPSimR phyloseq_DESeq2 --occur_heavy $occurs -w $BDs $physeq > $outname2\n",
    "    # making confusion matrix\n",
    "    !SIPSimR DESeq2_confuseMtx --padj $padj --log2 $log2 $BD_shift -o $outname $outname2"
   ]
  },
  {
   "cell_type": "markdown",
   "metadata": {},
   "source": [
    "### 1.70-1.74,1.72-1.76"
   ]
  },
  {
   "cell_type": "code",
   "execution_count": null,
   "metadata": {
    "collapsed": true
   },
   "outputs": [],
   "source": [
    "BDs = '1.70-1.74,1.72-1.76'\n",
    "physeq = '../OTU_n2_abs1e9_PCR_subNorm.physeq'\n",
    "BD_shift = '../ampFrags_BD-shift.txt'\n",
    "HRSIP_multi_window_post(physeq, BD_shift, BDs, 'OTU_n2_abs1e9_PCR_subNorm_MW1p')"
   ]
  },
  {
   "cell_type": "markdown",
   "metadata": {},
   "source": [
    "### 1.70-1.75,1.72-1.77"
   ]
  },
  {
   "cell_type": "code",
   "execution_count": null,
   "metadata": {
    "collapsed": false
   },
   "outputs": [],
   "source": [
    "BDs = '1.70-1.75,1.72-1.77'\n",
    "physeq = '../OTU_n2_abs1e9_PCR_subNorm.physeq'\n",
    "BD_shift = '../ampFrags_BD-shift.txt'\n",
    "HRSIP_multi_window_post(physeq, BD_shift, BDs, 'OTU_n2_abs1e9_PCR_subNorm_MW2p')"
   ]
  },
  {
   "cell_type": "markdown",
   "metadata": {},
   "source": [
    "### 1.70-1.73,1.72-1.75,1.74-1.77"
   ]
  },
  {
   "cell_type": "code",
   "execution_count": null,
   "metadata": {
    "collapsed": false
   },
   "outputs": [],
   "source": [
    "BDs = '1.70-1.73,1.72-1.75,1.74-1.77'\n",
    "physeq = '../OTU_n2_abs1e9_PCR_subNorm.physeq'\n",
    "BD_shift = '../ampFrags_BD-shift.txt'\n",
    "HRSIP_multi_window_post(physeq, BD_shift, BDs, 'OTU_n2_abs1e9_PCR_subNorm_MW3p')"
   ]
  },
  {
   "cell_type": "markdown",
   "metadata": {},
   "source": [
    "### 1.70-1.72,1.71-1.73,1.72-1.74,1.73-1.75"
   ]
  },
  {
   "cell_type": "code",
   "execution_count": null,
   "metadata": {
    "collapsed": false
   },
   "outputs": [],
   "source": [
    "BDs = '1.70-1.72,1.71-1.73,1.72-1.74,1.73-1.75'\n",
    "physeq = '../OTU_n2_abs1e9_PCR_subNorm.physeq'\n",
    "BD_shift = '../ampFrags_BD-shift.txt'\n",
    "HRSIP_multi_window_post(physeq, BD_shift, BDs, 'OTU_n2_abs1e9_PCR_subNorm_MW4p')"
   ]
  },
  {
   "cell_type": "markdown",
   "metadata": {},
   "source": [
    "### 1.71-1.75"
   ]
  },
  {
   "cell_type": "code",
   "execution_count": null,
   "metadata": {
    "collapsed": false
   },
   "outputs": [],
   "source": [
    "BDs = '1.71-1.75'\n",
    "physeq = '../OTU_n2_abs1e9_PCR_subNorm.physeq'\n",
    "BD_shift = '../ampFrags_BD-shift.txt'\n",
    "HRSIP_multi_window_post(physeq, BD_shift, BDs, 'OTU_n2_abs1e9_PCR_subNorm_MW5p')"
   ]
  },
  {
   "cell_type": "markdown",
   "metadata": {},
   "source": [
    "### 1.71-1.8"
   ]
  },
  {
   "cell_type": "code",
   "execution_count": null,
   "metadata": {
    "collapsed": false
   },
   "outputs": [],
   "source": [
    "BDs = '1.71-1.8'\n",
    "physeq = '../OTU_n2_abs1e9_PCR_subNorm.physeq'\n",
    "BD_shift = '../ampFrags_BD-shift.txt'\n",
    "HRSIP_multi_window_post(physeq, BD_shift, BDs, 'OTU_n2_abs1e9_PCR_subNorm_MW6p')"
   ]
  },
  {
   "cell_type": "markdown",
   "metadata": {},
   "source": [
    "# Plotting results"
   ]
  },
  {
   "cell_type": "code",
   "execution_count": null,
   "metadata": {
    "collapsed": false
   },
   "outputs": [],
   "source": [
    "files = ['OTU_n2_abs1e9_PCR_subNorm_MWp{}_byClass.txt'.format(i) for i in xrange(1,7)]\n",
    "files"
   ]
  },
  {
   "cell_type": "code",
   "execution_count": null,
   "metadata": {
    "collapsed": false
   },
   "outputs": [],
   "source": [
    "%%R -i files\n",
    "\n",
    "renames = data.frame(file = c('MW1', 'MW2', 'MW3', 'MW4', 'MW5', 'MW6'),\n",
    "                     BD_window = c('1.70-1.74,\\n1.72-1.76', \n",
    "                                   '1.70-1.75,\\n1.72-1.77',\n",
    "                                   '1.70-1.73,\\n1.72-1.75,\\n1.74-1.77',\n",
    "                                   '1.70-1.72,\\n1.71-1.73,\\n1.72-1.74,\\n1.73-1.75',\n",
    "                                   '1.71-1.75', '1.71-1.8'))\n",
    "\n",
    "df = list()\n",
    "for(F in files){\n",
    "    tmp = read.delim(F, sep='\\t')\n",
    "    df[[F]] = tmp\n",
    "}\n",
    "df = do.call(rbind, df)\n",
    "df$file = gsub('.+(MW[0-9]+).+', '\\\\1', rownames(df))\n",
    "\n",
    "df = inner_join(df, renames, c('file' = 'file')) \n",
    "\n",
    "df %>% head(n=3)"
   ]
  },
  {
   "cell_type": "code",
   "execution_count": null,
   "metadata": {
    "collapsed": false
   },
   "outputs": [],
   "source": [
    "%%R -h 250 -w 550\n",
    "df.f = df %>%\n",
    "    filter(variables %in% c('Sensitivity', 'Specificity', 'Balanced Accuracy')) %>%\n",
    "    mutate(variables = gsub(' ', '\\n', variables))\n",
    "\n",
    "ggplot(df.f, aes(BD_window, values, color=variables)) +\n",
    "    geom_point(size=3, alpha=0.7) +\n",
    "    theme_bw() +\n",
    "    theme(\n",
    "        text = element_text(size=16),\n",
    "        axis.title.x = element_blank(),\n",
    "        axis.text.x = element_text(angle=60, hjust=1)\n",
    "    )"
   ]
  },
  {
   "cell_type": "code",
   "execution_count": null,
   "metadata": {
    "collapsed": true
   },
   "outputs": [],
   "source": [
    "%pushnote validation MW-HR-SIP complete"
   ]
  },
  {
   "cell_type": "code",
   "execution_count": null,
   "metadata": {
    "collapsed": true
   },
   "outputs": [],
   "source": []
  }
 ],
 "metadata": {
  "hide_input": true,
  "kernelspec": {
   "display_name": "Python 2",
   "language": "python",
   "name": "python2"
  },
  "language_info": {
   "codemirror_mode": {
    "name": "ipython",
    "version": 2
   },
   "file_extension": ".py",
   "mimetype": "text/x-python",
   "name": "python",
   "nbconvert_exporter": "python",
   "pygments_lexer": "ipython2",
   "version": "2.7.11"
  }
 },
 "nbformat": 4,
 "nbformat_minor": 0
}
