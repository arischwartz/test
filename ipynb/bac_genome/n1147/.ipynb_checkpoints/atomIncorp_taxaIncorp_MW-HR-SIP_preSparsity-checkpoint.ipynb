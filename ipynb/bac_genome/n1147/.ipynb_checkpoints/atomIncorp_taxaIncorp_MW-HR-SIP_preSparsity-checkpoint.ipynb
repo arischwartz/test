{
 "cells": [
  {
   "cell_type": "markdown",
   "metadata": {
    "code_folding": []
   },
   "source": [
    "# Goal\n",
    "\n",
    "* Follow-up to: `atomIncorp_taxaIncorp`\n",
    "* Determining the effect of 'heavy' BD window (number of windows & window sizes) on HR-SIP accuracy\n",
    "* Apply a sparsity cutoff *prior* to selecting 'heavy' fraction samples \n",
    "  * In other words, taxa must be present in most of the gradient fractions across the whole gradient\n",
    "\n",
    "### Variable parameters:\n",
    "\n",
    "* 'heavy' BD window sizes"
   ]
  },
  {
   "cell_type": "markdown",
   "metadata": {},
   "source": [
    "## Init"
   ]
  },
  {
   "cell_type": "code",
   "execution_count": 1,
   "metadata": {
    "collapsed": false
   },
   "outputs": [],
   "source": [
    "import os\n",
    "import glob\n",
    "import itertools\n",
    "import nestly"
   ]
  },
  {
   "cell_type": "code",
   "execution_count": 2,
   "metadata": {
    "collapsed": false
   },
   "outputs": [],
   "source": [
    "%load_ext rpy2.ipython\n",
    "%load_ext pushnote"
   ]
  },
  {
   "cell_type": "code",
   "execution_count": 3,
   "metadata": {
    "collapsed": false
   },
   "outputs": [
    {
     "name": "stderr",
     "output_type": "stream",
     "text": [
      "/opt/anaconda/lib/python2.7/site-packages/rpy2/robjects/functions.py:106: UserWarning: \n",
      "Attaching package: ‘dplyr’\n",
      "\n",
      "\n",
      "  res = super(Function, self).__call__(*new_args, **new_kwargs)\n",
      "/opt/anaconda/lib/python2.7/site-packages/rpy2/robjects/functions.py:106: UserWarning: The following objects are masked from ‘package:stats’:\n",
      "\n",
      "    filter, lag\n",
      "\n",
      "\n",
      "  res = super(Function, self).__call__(*new_args, **new_kwargs)\n",
      "/opt/anaconda/lib/python2.7/site-packages/rpy2/robjects/functions.py:106: UserWarning: The following objects are masked from ‘package:base’:\n",
      "\n",
      "    intersect, setdiff, setequal, union\n",
      "\n",
      "\n",
      "  res = super(Function, self).__call__(*new_args, **new_kwargs)\n"
     ]
    }
   ],
   "source": [
    "%%R\n",
    "library(ggplot2)\n",
    "library(dplyr)\n",
    "library(tidyr)\n",
    "library(gridExtra)"
   ]
  },
  {
   "cell_type": "markdown",
   "metadata": {},
   "source": [
    "### BD min/max"
   ]
  },
  {
   "cell_type": "code",
   "execution_count": 4,
   "metadata": {
    "collapsed": false
   },
   "outputs": [
    {
     "name": "stdout",
     "output_type": "stream",
     "text": [
      "Min BD: 1.67323\n",
      "Max BD: 1.7744\n"
     ]
    }
   ],
   "source": [
    "## min G+C cutoff\n",
    "min_GC = 13.5\n",
    "## max G+C cutoff\n",
    "max_GC = 80\n",
    "## max G+C shift\n",
    "max_13C_shift_in_BD = 0.036\n",
    "\n",
    "\n",
    "min_BD = min_GC/100.0 * 0.098 + 1.66    \n",
    "max_BD = max_GC/100.0 * 0.098 + 1.66    \n",
    "\n",
    "max_BD = max_BD + max_13C_shift_in_BD\n",
    "\n",
    "print 'Min BD: {}'.format(min_BD)\n",
    "print 'Max BD: {}'.format(max_BD)"
   ]
  },
  {
   "cell_type": "markdown",
   "metadata": {},
   "source": [
    "# Nestly\n",
    "\n",
    "* assuming fragments already simulated"
   ]
  },
  {
   "cell_type": "code",
   "execution_count": 5,
   "metadata": {
    "collapsed": false
   },
   "outputs": [],
   "source": [
    "# paths\n",
    "workDir = '/home/nick/notebook/SIPSim/dev/bac_genome1147/'\n",
    "buildDir = os.path.join(workDir, 'atomIncorp_taxaIncorp_MW-HR-SIP_preSpar')\n",
    "dataDir = os.path.join(workDir, 'atomIncorp_taxaIncorp')"
   ]
  },
  {
   "cell_type": "code",
   "execution_count": 6,
   "metadata": {
    "code_folding": [],
    "collapsed": false
   },
   "outputs": [
    {
     "name": "stdout",
     "output_type": "stream",
     "text": [
      "/home/nick/notebook/SIPSim/dev/bac_genome1147/atomIncorp_taxaIncorp_MW-HR-SIP_preSpar\n"
     ]
    }
   ],
   "source": [
    "if not os.path.isdir(buildDir):\n",
    "    os.makedirs(buildDir)\n",
    "%cd $buildDir"
   ]
  },
  {
   "cell_type": "code",
   "execution_count": 7,
   "metadata": {
    "collapsed": false
   },
   "outputs": [
    {
     "name": "stdout",
     "output_type": "stream",
     "text": [
      "1\tcontrol\r\n",
      "2\ttreatment\r\n",
      "3\tcontrol\r\n",
      "4\ttreatment\r\n",
      "5\tcontrol\r\n",
      "6\ttreatment\r\n"
     ]
    }
   ],
   "source": [
    "# making an experimental design file for qSIP\n",
    "x = range(1,7)\n",
    "y = ['control', 'treatment']\n",
    "\n",
    "expDesignFile = os.path.join(buildDir, 'qSIP_exp_design.txt')\n",
    "with open(expDesignFile, 'wb') as outFH:\n",
    "    for i,z in itertools.izip(x,itertools.cycle(y)):\n",
    "        line = '\\t'.join([str(i),z])\n",
    "        outFH.write(line + '\\n')\n",
    "\n",
    "!head $expDesignFile       "
   ]
  },
  {
   "cell_type": "markdown",
   "metadata": {},
   "source": [
    "## Nestly params"
   ]
  },
  {
   "cell_type": "code",
   "execution_count": 8,
   "metadata": {
    "collapsed": false
   },
   "outputs": [],
   "source": [
    "# building tree structure\n",
    "nest = nestly.Nest()\n",
    "\n",
    "# varying params\n",
    "nest.add('percIncorp', [0, 15, 25, 50, 100])\n",
    "nest.add('percTaxa', [1, 5, 10, 25, 50])\n",
    "nest.add('rep', range(1,11))\n",
    "\n",
    "## set params\n",
    "nest.add('abs', ['1e9'], create_dir=False)\n",
    "nest.add('np', [10], create_dir=False)\n",
    "nest.add('Monte_rep', [100000], create_dir=False)\n",
    "nest.add('subsample_dist', ['lognormal'], create_dir=False)\n",
    "nest.add('subsample_mean', [9.432], create_dir=False)\n",
    "nest.add('subsample_scale', [0.5], create_dir=False)\n",
    "nest.add('subsample_min', [10000], create_dir=False)\n",
    "nest.add('subsample_max', [30000], create_dir=False)\n",
    "nest.add('min_BD', [min_BD], create_dir=False)\n",
    "nest.add('max_BD', [max_BD], create_dir=False)\n",
    "nest.add('DBL_scaling', [0.5], create_dir=False)\n",
    "nest.add('bandwidth', [0.8], create_dir=False)\n",
    "nest.add('heavy_BD_min', [1.71], create_dir=False)\n",
    "nest.add('heavy_BD_max', [1.75], create_dir=False)\n",
    "nest.add('topTaxaToPlot', [100], create_dir=False)\n",
    "nest.add('padj', [0.1], create_dir=False)\n",
    "nest.add('log2', [0.25], create_dir=False)\n",
    "nest.add('occurs', ['0.0,0.05,0.1,0.15,0.2,0.25,0.3,0.35,0.4,0.45,0.5'], create_dir=False)\n",
    "\n",
    "### input/output files\n",
    "nest.add('buildDir', [buildDir], create_dir=False)\n",
    "nest.add('exp_design', [expDesignFile], create_dir=False)\n",
    "\n",
    "\n",
    "# building directory tree\n",
    "nest.build(buildDir)\n",
    "\n",
    "# bash file to run\n",
    "bashFile = os.path.join(buildDir, 'SIPSimRun.sh')"
   ]
  },
  {
   "cell_type": "markdown",
   "metadata": {},
   "source": [
    "# Copying input files"
   ]
  },
  {
   "cell_type": "code",
   "execution_count": 9,
   "metadata": {
    "collapsed": false
   },
   "outputs": [],
   "source": [
    "files = !find . -name \"*.json\"\n",
    "dirs = [os.path.split(x)[0] for x in files]\n",
    "\n",
    "srcFiles = ['OTU_abs1e9_PCR_sub_w.txt', 'OTU_abs1e9_PCR_sub_meta.txt', 'BD-shift_stats.txt']\n",
    "\n",
    "for d in dirs:\n",
    "    for f in srcFiles:\n",
    "        f1 = os.path.join(dataDir, d, f)\n",
    "        f2 = os.path.join(buildDir, d, f)\n",
    "        cmd = 'cp -f {} {}'.format(f1, f2)\n",
    "        !$cmd"
   ]
  },
  {
   "cell_type": "markdown",
   "metadata": {},
   "source": [
    "## Multi-window HR-SIP"
   ]
  },
  {
   "cell_type": "code",
   "execution_count": 10,
   "metadata": {
    "collapsed": false
   },
   "outputs": [
    {
     "data": {
      "text/plain": [
       "'/home/nick/notebook/SIPSim/dev/bac_genome1147/atomIncorp_taxaIncorp_MW-HR-SIP_preSpar/SIPSimRun_HRSIP_multi.sh'"
      ]
     },
     "execution_count": 10,
     "metadata": {},
     "output_type": "execute_result"
    }
   ],
   "source": [
    "bashFileTmp = os.path.splitext(bashFile)[0] + '_HRSIP_multi.sh'\n",
    "bashFileTmp"
   ]
  },
  {
   "cell_type": "code",
   "execution_count": null,
   "metadata": {
    "collapsed": false
   },
   "outputs": [
    {
     "name": "stdout",
     "output_type": "stream",
     "text": [
      "Writing /home/nick/notebook/SIPSim/dev/bac_genome1147/atomIncorp_taxaIncorp_MW-HR-SIP_preSpar/SIPSimRun_HRSIP_multi.sh\n"
     ]
    }
   ],
   "source": [
    "%%writefile $bashFileTmp\n",
    "#!/bin/bash\n",
    "\n",
    "# phyloseq\n",
    "## making phyloseq object from OTU table\n",
    "SIPSimR phyloseq_make \\\n",
    "    OTU_abs{abs}_PCR_sub_w.txt \\\n",
    "    -s OTU_abs{abs}_PCR_sub_meta.txt \\\n",
    "    > OTU_abs{abs}_PCR_sub.physeq   \n",
    "    \n",
    "## HR SIP pipeline\n",
    "SIPSimR phyloseq_DESeq2 \\\n",
    "    --log2 {log2} \\\n",
    "    --hypo greater \\\n",
    "    --cont 1,3,5 \\\n",
    "    --treat 2,4,6 \\\n",
    "    --occur_all {occurs} \\\n",
    "    -w 1.71-1.75 \\\n",
    "    --all OTU_abs1e9_PCR_sub_MW1_all.txt \\\n",
    "    OTU_abs{abs}_PCR_sub.physeq \\\n",
    "    > OTU_abs1e9_PCR_sub_MW1_DESeq2\n",
    "\n",
    "SIPSimR phyloseq_DESeq2 \\\n",
    "    --log2 {log2} \\\n",
    "    --hypo greater \\\n",
    "    --cont 1,3,5 \\\n",
    "    --treat 2,4,6 \\\n",
    "    --occur_all {occurs} \\\n",
    "    -w 1.69-1.74,1.73-1.78 \\\n",
    "    --all OTU_abs1e9_PCR_sub_MW2_all.txt \\\n",
    "    OTU_abs{abs}_PCR_sub.physeq \\\n",
    "    > OTU_abs1e9_PCR_sub_MW2_DESeq2\n",
    "       \n",
    "SIPSimR phyloseq_DESeq2 \\\n",
    "    --log2 {log2} \\\n",
    "    --hypo greater \\\n",
    "    --cont 1,3,5 \\\n",
    "    --treat 2,4,6 \\\n",
    "    --occur_all {occurs} \\\n",
    "    -w 1.70-1.73,1.72-1.75,1.74-1.77 \\\n",
    "    --all OTU_abs1e9_PCR_sub_MW3_all.txt \\\n",
    "    OTU_abs{abs}_PCR_sub.physeq \\\n",
    "    > OTU_abs1e9_PCR_sub_MW3_DESeq2\n",
    "  \n",
    "SIPSimR phyloseq_DESeq2 \\\n",
    "    --log2 {log2} \\\n",
    "    --hypo greater \\\n",
    "    --cont 1,3,5 \\\n",
    "    --treat 2,4,6 \\\n",
    "    --occur_all {occurs} \\\n",
    "    -w 1.69-1.73,1.72-1.76,1.75-1.79 \\\n",
    "    --all OTU_abs1e9_PCR_sub_MW4_all.txt \\\n",
    "    OTU_abs{abs}_PCR_sub.physeq \\\n",
    "    > OTU_abs1e9_PCR_sub_MW4_DESeq2"
   ]
  },
  {
   "cell_type": "code",
   "execution_count": null,
   "metadata": {
    "collapsed": false
   },
   "outputs": [
    {
     "name": "stdout",
     "output_type": "stream",
     "text": [
      "2016-04-13 15:00:33,511 * INFO * Template: ./SIPSimRun_HRSIP_multi.sh\n",
      "2016-04-13 15:00:33,513 * INFO * [116773] Started ./SIPSimRun_HRSIP_multi.sh in /home/nick/notebook/SIPSim/dev/bac_genome1147/atomIncorp_taxaIncorp_MW-HR-SIP_preSpar/50/50/7\n",
      "2016-04-13 15:00:33,515 * INFO * [116775] Started ./SIPSimRun_HRSIP_multi.sh in /home/nick/notebook/SIPSim/dev/bac_genome1147/atomIncorp_taxaIncorp_MW-HR-SIP_preSpar/50/50/9\n",
      "2016-04-13 15:00:33,516 * INFO * [116777] Started ./SIPSimRun_HRSIP_multi.sh in /home/nick/notebook/SIPSim/dev/bac_genome1147/atomIncorp_taxaIncorp_MW-HR-SIP_preSpar/50/50/8\n",
      "2016-04-13 15:00:33,518 * INFO * [116779] Started ./SIPSimRun_HRSIP_multi.sh in /home/nick/notebook/SIPSim/dev/bac_genome1147/atomIncorp_taxaIncorp_MW-HR-SIP_preSpar/50/50/3\n",
      "2016-04-13 15:00:33,520 * INFO * [116781] Started ./SIPSimRun_HRSIP_multi.sh in /home/nick/notebook/SIPSim/dev/bac_genome1147/atomIncorp_taxaIncorp_MW-HR-SIP_preSpar/50/50/10\n",
      "2016-04-13 15:00:33,522 * INFO * [116783] Started ./SIPSimRun_HRSIP_multi.sh in /home/nick/notebook/SIPSim/dev/bac_genome1147/atomIncorp_taxaIncorp_MW-HR-SIP_preSpar/50/50/2\n",
      "2016-04-13 15:00:33,524 * INFO * [116785] Started ./SIPSimRun_HRSIP_multi.sh in /home/nick/notebook/SIPSim/dev/bac_genome1147/atomIncorp_taxaIncorp_MW-HR-SIP_preSpar/50/50/1\n",
      "2016-04-13 15:00:33,526 * INFO * [116787] Started ./SIPSimRun_HRSIP_multi.sh in /home/nick/notebook/SIPSim/dev/bac_genome1147/atomIncorp_taxaIncorp_MW-HR-SIP_preSpar/50/50/4\n",
      "2016-04-13 15:00:33,528 * INFO * [116789] Started ./SIPSimRun_HRSIP_multi.sh in /home/nick/notebook/SIPSim/dev/bac_genome1147/atomIncorp_taxaIncorp_MW-HR-SIP_preSpar/50/50/5\n",
      "2016-04-13 15:00:33,529 * INFO * [116791] Started ./SIPSimRun_HRSIP_multi.sh in /home/nick/notebook/SIPSim/dev/bac_genome1147/atomIncorp_taxaIncorp_MW-HR-SIP_preSpar/50/50/6\n",
      "2016-04-13 15:07:28,564 * INFO * [116791] /home/nick/notebook/SIPSim/dev/bac_genome1147/atomIncorp_taxaIncorp_MW-HR-SIP_preSpar/50/50/6 Finished with 0\n",
      "2016-04-13 15:07:28,566 * INFO * [122162] Started ./SIPSimRun_HRSIP_multi.sh in /home/nick/notebook/SIPSim/dev/bac_genome1147/atomIncorp_taxaIncorp_MW-HR-SIP_preSpar/50/25/7\n",
      "2016-04-13 15:07:31,056 * INFO * [116783] /home/nick/notebook/SIPSim/dev/bac_genome1147/atomIncorp_taxaIncorp_MW-HR-SIP_preSpar/50/50/2 Finished with 0\n",
      "2016-04-13 15:07:31,058 * INFO * [122187] Started ./SIPSimRun_HRSIP_multi.sh in /home/nick/notebook/SIPSim/dev/bac_genome1147/atomIncorp_taxaIncorp_MW-HR-SIP_preSpar/50/25/9\n",
      "2016-04-13 15:07:45,576 * INFO * [116773] /home/nick/notebook/SIPSim/dev/bac_genome1147/atomIncorp_taxaIncorp_MW-HR-SIP_preSpar/50/50/7 Finished with 0\n",
      "2016-04-13 15:07:45,578 * INFO * [122284] Started ./SIPSimRun_HRSIP_multi.sh in /home/nick/notebook/SIPSim/dev/bac_genome1147/atomIncorp_taxaIncorp_MW-HR-SIP_preSpar/50/25/8\n",
      "2016-04-13 15:07:45,889 * INFO * [116775] /home/nick/notebook/SIPSim/dev/bac_genome1147/atomIncorp_taxaIncorp_MW-HR-SIP_preSpar/50/50/9 Finished with 0\n",
      "2016-04-13 15:07:45,891 * INFO * [122301] Started ./SIPSimRun_HRSIP_multi.sh in /home/nick/notebook/SIPSim/dev/bac_genome1147/atomIncorp_taxaIncorp_MW-HR-SIP_preSpar/50/25/3\n",
      "2016-04-13 15:07:50,524 * INFO * [116789] /home/nick/notebook/SIPSim/dev/bac_genome1147/atomIncorp_taxaIncorp_MW-HR-SIP_preSpar/50/50/5 Finished with 0\n",
      "2016-04-13 15:07:50,526 * INFO * [122334] Started ./SIPSimRun_HRSIP_multi.sh in /home/nick/notebook/SIPSim/dev/bac_genome1147/atomIncorp_taxaIncorp_MW-HR-SIP_preSpar/50/25/10\n",
      "2016-04-13 15:07:58,710 * INFO * [116781] /home/nick/notebook/SIPSim/dev/bac_genome1147/atomIncorp_taxaIncorp_MW-HR-SIP_preSpar/50/50/10 Finished with 0\n",
      "2016-04-13 15:07:58,711 * INFO * [122425] Started ./SIPSimRun_HRSIP_multi.sh in /home/nick/notebook/SIPSim/dev/bac_genome1147/atomIncorp_taxaIncorp_MW-HR-SIP_preSpar/50/25/2\n",
      "2016-04-13 15:08:02,629 * INFO * [116785] /home/nick/notebook/SIPSim/dev/bac_genome1147/atomIncorp_taxaIncorp_MW-HR-SIP_preSpar/50/50/1 Finished with 0\n",
      "2016-04-13 15:08:02,631 * INFO * [122511] Started ./SIPSimRun_HRSIP_multi.sh in /home/nick/notebook/SIPSim/dev/bac_genome1147/atomIncorp_taxaIncorp_MW-HR-SIP_preSpar/50/25/1\n",
      "2016-04-13 15:08:03,310 * INFO * [116787] /home/nick/notebook/SIPSim/dev/bac_genome1147/atomIncorp_taxaIncorp_MW-HR-SIP_preSpar/50/50/4 Finished with 0\n",
      "2016-04-13 15:08:03,312 * INFO * [122536] Started ./SIPSimRun_HRSIP_multi.sh in /home/nick/notebook/SIPSim/dev/bac_genome1147/atomIncorp_taxaIncorp_MW-HR-SIP_preSpar/50/25/4\n",
      "2016-04-13 15:08:18,589 * INFO * [116777] /home/nick/notebook/SIPSim/dev/bac_genome1147/atomIncorp_taxaIncorp_MW-HR-SIP_preSpar/50/50/8 Finished with 0\n",
      "2016-04-13 15:08:18,590 * INFO * [122736] Started ./SIPSimRun_HRSIP_multi.sh in /home/nick/notebook/SIPSim/dev/bac_genome1147/atomIncorp_taxaIncorp_MW-HR-SIP_preSpar/50/25/5\n",
      "2016-04-13 15:08:19,697 * INFO * [116779] /home/nick/notebook/SIPSim/dev/bac_genome1147/atomIncorp_taxaIncorp_MW-HR-SIP_preSpar/50/50/3 Finished with 0\n",
      "2016-04-13 15:08:19,698 * INFO * [122761] Started ./SIPSimRun_HRSIP_multi.sh in /home/nick/notebook/SIPSim/dev/bac_genome1147/atomIncorp_taxaIncorp_MW-HR-SIP_preSpar/50/25/6\n",
      "2016-04-13 15:14:55,941 * INFO * [122284] /home/nick/notebook/SIPSim/dev/bac_genome1147/atomIncorp_taxaIncorp_MW-HR-SIP_preSpar/50/25/8 Finished with 0\n",
      "2016-04-13 15:14:55,944 * INFO * [126543] Started ./SIPSimRun_HRSIP_multi.sh in /home/nick/notebook/SIPSim/dev/bac_genome1147/atomIncorp_taxaIncorp_MW-HR-SIP_preSpar/50/10/7\n",
      "2016-04-13 15:15:27,587 * INFO * [122334] /home/nick/notebook/SIPSim/dev/bac_genome1147/atomIncorp_taxaIncorp_MW-HR-SIP_preSpar/50/25/10 Finished with 0\n",
      "2016-04-13 15:15:27,590 * INFO * [126607] Started ./SIPSimRun_HRSIP_multi.sh in /home/nick/notebook/SIPSim/dev/bac_genome1147/atomIncorp_taxaIncorp_MW-HR-SIP_preSpar/50/10/9\n",
      "2016-04-13 15:15:28,537 * INFO * [122187] /home/nick/notebook/SIPSim/dev/bac_genome1147/atomIncorp_taxaIncorp_MW-HR-SIP_preSpar/50/25/9 Finished with 0\n",
      "2016-04-13 15:15:28,539 * INFO * [126632] Started ./SIPSimRun_HRSIP_multi.sh in /home/nick/notebook/SIPSim/dev/bac_genome1147/atomIncorp_taxaIncorp_MW-HR-SIP_preSpar/50/10/8\n",
      "2016-04-13 15:15:31,399 * INFO * [122511] /home/nick/notebook/SIPSim/dev/bac_genome1147/atomIncorp_taxaIncorp_MW-HR-SIP_preSpar/50/25/1 Finished with 0\n",
      "2016-04-13 15:15:31,401 * INFO * [126658] Started ./SIPSimRun_HRSIP_multi.sh in /home/nick/notebook/SIPSim/dev/bac_genome1147/atomIncorp_taxaIncorp_MW-HR-SIP_preSpar/50/10/3\n",
      "2016-04-13 15:15:34,547 * INFO * [122162] /home/nick/notebook/SIPSim/dev/bac_genome1147/atomIncorp_taxaIncorp_MW-HR-SIP_preSpar/50/25/7 Finished with 0\n",
      "2016-04-13 15:15:34,550 * INFO * [126689] Started ./SIPSimRun_HRSIP_multi.sh in /home/nick/notebook/SIPSim/dev/bac_genome1147/atomIncorp_taxaIncorp_MW-HR-SIP_preSpar/50/10/10\n",
      "2016-04-13 15:15:38,848 * INFO * [122301] /home/nick/notebook/SIPSim/dev/bac_genome1147/atomIncorp_taxaIncorp_MW-HR-SIP_preSpar/50/25/3 Finished with 0\n",
      "2016-04-13 15:15:38,850 * INFO * [126779] Started ./SIPSimRun_HRSIP_multi.sh in /home/nick/notebook/SIPSim/dev/bac_genome1147/atomIncorp_taxaIncorp_MW-HR-SIP_preSpar/50/10/2\n",
      "2016-04-13 15:15:44,897 * INFO * [122425] /home/nick/notebook/SIPSim/dev/bac_genome1147/atomIncorp_taxaIncorp_MW-HR-SIP_preSpar/50/25/2 Finished with 0\n",
      "2016-04-13 15:15:44,899 * INFO * [126860] Started ./SIPSimRun_HRSIP_multi.sh in /home/nick/notebook/SIPSim/dev/bac_genome1147/atomIncorp_taxaIncorp_MW-HR-SIP_preSpar/50/10/1\n",
      "2016-04-13 15:15:50,622 * INFO * [122761] /home/nick/notebook/SIPSim/dev/bac_genome1147/atomIncorp_taxaIncorp_MW-HR-SIP_preSpar/50/25/6 Finished with 0\n",
      "2016-04-13 15:15:50,624 * INFO * [126981] Started ./SIPSimRun_HRSIP_multi.sh in /home/nick/notebook/SIPSim/dev/bac_genome1147/atomIncorp_taxaIncorp_MW-HR-SIP_preSpar/50/10/4\n",
      "2016-04-13 15:15:51,697 * INFO * [122536] /home/nick/notebook/SIPSim/dev/bac_genome1147/atomIncorp_taxaIncorp_MW-HR-SIP_preSpar/50/25/4 Finished with 0\n",
      "2016-04-13 15:15:51,700 * INFO * [127006] Started ./SIPSimRun_HRSIP_multi.sh in /home/nick/notebook/SIPSim/dev/bac_genome1147/atomIncorp_taxaIncorp_MW-HR-SIP_preSpar/50/10/5\n",
      "2016-04-13 15:16:14,636 * INFO * [122736] /home/nick/notebook/SIPSim/dev/bac_genome1147/atomIncorp_taxaIncorp_MW-HR-SIP_preSpar/50/25/5 Finished with 0\n",
      "2016-04-13 15:16:14,639 * INFO * [127324] Started ./SIPSimRun_HRSIP_multi.sh in /home/nick/notebook/SIPSim/dev/bac_genome1147/atomIncorp_taxaIncorp_MW-HR-SIP_preSpar/50/10/6\n",
      "2016-04-13 15:23:48,496 * INFO * [126632] /home/nick/notebook/SIPSim/dev/bac_genome1147/atomIncorp_taxaIncorp_MW-HR-SIP_preSpar/50/10/8 Finished with 0\n",
      "2016-04-13 15:23:48,499 * INFO * [131414] Started ./SIPSimRun_HRSIP_multi.sh in /home/nick/notebook/SIPSim/dev/bac_genome1147/atomIncorp_taxaIncorp_MW-HR-SIP_preSpar/50/1/7\n",
      "2016-04-13 15:24:20,575 * INFO * [126543] /home/nick/notebook/SIPSim/dev/bac_genome1147/atomIncorp_taxaIncorp_MW-HR-SIP_preSpar/50/10/7 Finished with 0\n",
      "2016-04-13 15:24:20,577 * INFO * [131475] Started ./SIPSimRun_HRSIP_multi.sh in /home/nick/notebook/SIPSim/dev/bac_genome1147/atomIncorp_taxaIncorp_MW-HR-SIP_preSpar/50/1/9\n",
      "2016-04-13 15:24:30,983 * INFO * [126658] /home/nick/notebook/SIPSim/dev/bac_genome1147/atomIncorp_taxaIncorp_MW-HR-SIP_preSpar/50/10/3 Finished with 0\n",
      "2016-04-13 15:24:30,986 * INFO * [131542] Started ./SIPSimRun_HRSIP_multi.sh in /home/nick/notebook/SIPSim/dev/bac_genome1147/atomIncorp_taxaIncorp_MW-HR-SIP_preSpar/50/1/8\n",
      "2016-04-13 15:24:40,637 * INFO * [126607] /home/nick/notebook/SIPSim/dev/bac_genome1147/atomIncorp_taxaIncorp_MW-HR-SIP_preSpar/50/10/9 Finished with 0\n",
      "2016-04-13 15:24:40,644 * INFO * [131622] Started ./SIPSimRun_HRSIP_multi.sh in /home/nick/notebook/SIPSim/dev/bac_genome1147/atomIncorp_taxaIncorp_MW-HR-SIP_preSpar/50/1/3\n",
      "2016-04-13 15:24:47,182 * INFO * [126860] /home/nick/notebook/SIPSim/dev/bac_genome1147/atomIncorp_taxaIncorp_MW-HR-SIP_preSpar/50/10/1 Finished with 0\n",
      "2016-04-13 15:24:47,185 * INFO * [131677] Started ./SIPSimRun_HRSIP_multi.sh in /home/nick/notebook/SIPSim/dev/bac_genome1147/atomIncorp_taxaIncorp_MW-HR-SIP_preSpar/50/1/10\n",
      "**OUTPUT MUTED**"
     ]
    }
   ],
   "source": [
    "!chmod 777 $bashFileTmp\n",
    "!cd $workDir; \\\n",
    "    nestrun --template-file $bashFileTmp -d $buildDir --log-file HR-SIP_multi.log -j 10"
   ]
  },
  {
   "cell_type": "code",
   "execution_count": null,
   "metadata": {
    "collapsed": false
   },
   "outputs": [],
   "source": [
    "%pushnote preSpar MW-HR-SIP complete"
   ]
  },
  {
   "cell_type": "markdown",
   "metadata": {},
   "source": [
    "# debug #"
   ]
  },
  {
   "cell_type": "code",
   "execution_count": 23,
   "metadata": {
    "collapsed": false
   },
   "outputs": [
    {
     "data": {
      "text/plain": [
       "[1] 642\n"
      ]
     },
     "metadata": {},
     "output_type": "display_data"
    }
   ],
   "source": [
    "%%R\n",
    "df = readRDS('./50/50/1/OTU_abs1e9_PCR_sub_MW1_DESeq2')\n",
    "df$taxon %>% unique %>% length"
   ]
  },
  {
   "cell_type": "code",
   "execution_count": 25,
   "metadata": {
    "collapsed": false
   },
   "outputs": [
    {
     "data": {
      "text/plain": [
       "   baseMean log2FoldChange     lfcSE      stat       pvalue        padj\n",
       "1 5.8584821     -1.5486735 0.6014142 0.0000000 9.986085e-01 1.000000000\n",
       "2 0.8333004      2.7627217 0.6288556 3.9957057 3.225091e-05 0.003254441\n",
       "3 0.8792955      2.1500470 0.6179025 3.0749951 1.052530e-03 0.015323685\n",
       "4 0.5544048      0.9336759 0.6927978 0.9868332 1.618622e-01 0.455769905\n",
       "5 4.9073540      1.4479596 0.4394583 2.7259913 3.205434e-03 0.027653721\n",
       "6 0.8664943     -0.7981843 0.5719727 0.0000000 9.665673e-01 1.000000000\n",
       "             p     padj.BH occur_all occur_heavy heavy_BD_min heavy_BD_max\n",
       "1 9.986085e-01 1.000000000      0.35           0         1.71         1.75\n",
       "2 3.225091e-05 0.003254441      0.35           0         1.71         1.75\n",
       "3 1.052530e-03 0.015323685      0.35           0         1.71         1.75\n",
       "4 1.618622e-01 0.455769905      0.35           0         1.71         1.75\n",
       "5 3.205434e-03 0.027653721      0.35           0         1.71         1.75\n",
       "6 9.665673e-01 1.000000000      0.35           0         1.71         1.75\n",
       "                                 taxon\n",
       "1       Acaryochloris_marina_MBIC11017\n",
       "2       Acetobacterium_woodii_DSM_1030\n",
       "3         Acholeplasma_laidlawii_PG-8A\n",
       "4             Acholeplasma_palmae_J233\n",
       "5       Achromobacter_xylosoxidans_C54\n",
       "6 Acidaminococcus_fermentans_DSM_20731\n"
      ]
     },
     "metadata": {},
     "output_type": "display_data"
    }
   ],
   "source": [
    "%%R\n",
    "df %>% head"
   ]
  },
  {
   "cell_type": "code",
   "execution_count": 21,
   "metadata": {
    "collapsed": false
   },
   "outputs": [
    {
     "data": {
      "text/plain": [
       "[1] 1099\n"
      ]
     },
     "metadata": {},
     "output_type": "display_data"
    }
   ],
   "source": [
    "%%R\n",
    "df = readRDS('./50/50/1/OTU_abs1e9_PCR_sub_MW2_DESeq2')\n",
    "df$taxon %>% unique %>% length"
   ]
  },
  {
   "cell_type": "code",
   "execution_count": null,
   "metadata": {
    "collapsed": true
   },
   "outputs": [],
   "source": []
  },
  {
   "cell_type": "markdown",
   "metadata": {},
   "source": [
    "## Making confusion matrices"
   ]
  },
  {
   "cell_type": "code",
   "execution_count": 26,
   "metadata": {
    "collapsed": false
   },
   "outputs": [
    {
     "data": {
      "text/plain": [
       "'/home/nick/notebook/SIPSim/dev/bac_genome1147/atomIncorp_taxaIncorp_MW-HR-SIP_preSpar/SIPSimRun_cMtx.sh'"
      ]
     },
     "execution_count": 26,
     "metadata": {},
     "output_type": "execute_result"
    }
   ],
   "source": [
    "bashFileTmp = os.path.splitext(bashFile)[0] + '_cMtx.sh'\n",
    "bashFileTmp"
   ]
  },
  {
   "cell_type": "code",
   "execution_count": 27,
   "metadata": {
    "collapsed": false
   },
   "outputs": [
    {
     "name": "stdout",
     "output_type": "stream",
     "text": [
      "Writing /home/nick/notebook/SIPSim/dev/bac_genome1147/atomIncorp_taxaIncorp_MW-HR-SIP_preSpar/SIPSimRun_cMtx.sh\n"
     ]
    }
   ],
   "source": [
    "%%writefile $bashFileTmp\n",
    "#!/bin/bash\n",
    "\n",
    "# HR-SIP multiple 'heavy' BD windows\n",
    "SIPSimR DESeq2_confuseMtx \\\n",
    "    --libs 2,4,6 \\\n",
    "    --padj {padj} \\\n",
    "    -o DESeq2_MW1-cMtx \\\n",
    "    BD-shift_stats.txt \\\n",
    "    OTU_abs1e9_PCR_sub_MW1_DESeq2\n",
    "    \n",
    "    \n",
    "SIPSimR DESeq2_confuseMtx \\\n",
    "    --libs 2,4,6 \\\n",
    "    --padj {padj} \\\n",
    "    -o DESeq2_MW2-cMtx \\\n",
    "    BD-shift_stats.txt \\\n",
    "    OTU_abs1e9_PCR_sub_MW2_DESeq2\n",
    "    \n",
    "    \n",
    "SIPSimR DESeq2_confuseMtx \\\n",
    "    --libs 2,4,6 \\\n",
    "    --padj {padj} \\\n",
    "    -o DESeq2_MW3-cMtx \\\n",
    "    BD-shift_stats.txt \\\n",
    "    OTU_abs1e9_PCR_sub_MW3_DESeq2\n",
    "    \n",
    "    \n",
    "SIPSimR DESeq2_confuseMtx \\\n",
    "    --libs 2,4,6 \\\n",
    "    --padj {padj} \\\n",
    "    -o DESeq2_MW4-cMtx \\\n",
    "    BD-shift_stats.txt \\\n",
    "    OTU_abs1e9_PCR_sub_MW4_DESeq2"
   ]
  },
  {
   "cell_type": "code",
   "execution_count": null,
   "metadata": {
    "collapsed": false,
    "scrolled": true
   },
   "outputs": [
    {
     "name": "stdout",
     "output_type": "stream",
     "text": [
      "2016-04-13 18:52:20,649 * INFO * Template: ./SIPSimRun_cMtx.sh\n",
      "2016-04-13 18:52:20,651 * INFO * [234016] Started ./SIPSimRun_cMtx.sh in /home/nick/notebook/SIPSim/dev/bac_genome1147/atomIncorp_taxaIncorp_MW-HR-SIP_preSpar/50/50/7\n",
      "2016-04-13 18:52:20,653 * INFO * [234017] Started ./SIPSimRun_cMtx.sh in /home/nick/notebook/SIPSim/dev/bac_genome1147/atomIncorp_taxaIncorp_MW-HR-SIP_preSpar/50/50/9\n",
      "2016-04-13 18:52:20,655 * INFO * [234019] Started ./SIPSimRun_cMtx.sh in /home/nick/notebook/SIPSim/dev/bac_genome1147/atomIncorp_taxaIncorp_MW-HR-SIP_preSpar/50/50/8\n",
      "2016-04-13 18:52:20,656 * INFO * [234021] Started ./SIPSimRun_cMtx.sh in /home/nick/notebook/SIPSim/dev/bac_genome1147/atomIncorp_taxaIncorp_MW-HR-SIP_preSpar/50/50/3\n",
      "2016-04-13 18:52:20,657 * INFO * [234023] Started ./SIPSimRun_cMtx.sh in /home/nick/notebook/SIPSim/dev/bac_genome1147/atomIncorp_taxaIncorp_MW-HR-SIP_preSpar/50/50/10\n",
      "2016-04-13 18:52:20,659 * INFO * [234025] Started ./SIPSimRun_cMtx.sh in /home/nick/notebook/SIPSim/dev/bac_genome1147/atomIncorp_taxaIncorp_MW-HR-SIP_preSpar/50/50/2\n",
      "2016-04-13 18:52:20,664 * INFO * [234027] Started ./SIPSimRun_cMtx.sh in /home/nick/notebook/SIPSim/dev/bac_genome1147/atomIncorp_taxaIncorp_MW-HR-SIP_preSpar/50/50/1\n",
      "2016-04-13 18:52:20,666 * INFO * [234029] Started ./SIPSimRun_cMtx.sh in /home/nick/notebook/SIPSim/dev/bac_genome1147/atomIncorp_taxaIncorp_MW-HR-SIP_preSpar/50/50/4\n",
      "2016-04-13 18:52:20,667 * INFO * [234031] Started ./SIPSimRun_cMtx.sh in /home/nick/notebook/SIPSim/dev/bac_genome1147/atomIncorp_taxaIncorp_MW-HR-SIP_preSpar/50/50/5\n",
      "2016-04-13 18:52:20,669 * INFO * [234033] Started ./SIPSimRun_cMtx.sh in /home/nick/notebook/SIPSim/dev/bac_genome1147/atomIncorp_taxaIncorp_MW-HR-SIP_preSpar/50/50/6\n",
      "2016-04-13 18:52:35,948 * INFO * [234029] /home/nick/notebook/SIPSim/dev/bac_genome1147/atomIncorp_taxaIncorp_MW-HR-SIP_preSpar/50/50/4 Finished with 0\n",
      "2016-04-13 18:52:35,950 * INFO * [234888] Started ./SIPSimRun_cMtx.sh in /home/nick/notebook/SIPSim/dev/bac_genome1147/atomIncorp_taxaIncorp_MW-HR-SIP_preSpar/50/25/7\n",
      "2016-04-13 18:52:36,168 * INFO * [234019] /home/nick/notebook/SIPSim/dev/bac_genome1147/atomIncorp_taxaIncorp_MW-HR-SIP_preSpar/50/50/8 Finished with 0\n",
      "2016-04-13 18:52:36,170 * INFO * [234892] Started ./SIPSimRun_cMtx.sh in /home/nick/notebook/SIPSim/dev/bac_genome1147/atomIncorp_taxaIncorp_MW-HR-SIP_preSpar/50/25/9\n",
      "2016-04-13 18:52:36,336 * INFO * [234027] /home/nick/notebook/SIPSim/dev/bac_genome1147/atomIncorp_taxaIncorp_MW-HR-SIP_preSpar/50/50/1 Finished with 0\n",
      "2016-04-13 18:52:36,340 * INFO * [234907] Started ./SIPSimRun_cMtx.sh in /home/nick/notebook/SIPSim/dev/bac_genome1147/atomIncorp_taxaIncorp_MW-HR-SIP_preSpar/50/25/8\n",
      "2016-04-13 18:52:36,721 * INFO * [234021] /home/nick/notebook/SIPSim/dev/bac_genome1147/atomIncorp_taxaIncorp_MW-HR-SIP_preSpar/50/50/3 Finished with 0\n",
      "2016-04-13 18:52:36,723 * INFO * [234949] Started ./SIPSimRun_cMtx.sh in /home/nick/notebook/SIPSim/dev/bac_genome1147/atomIncorp_taxaIncorp_MW-HR-SIP_preSpar/50/25/3\n",
      "2016-04-13 18:52:36,850 * INFO * [234031] /home/nick/notebook/SIPSim/dev/bac_genome1147/atomIncorp_taxaIncorp_MW-HR-SIP_preSpar/50/50/5 Finished with 0\n",
      "2016-04-13 18:52:36,852 * INFO * [234959] Started ./SIPSimRun_cMtx.sh in /home/nick/notebook/SIPSim/dev/bac_genome1147/atomIncorp_taxaIncorp_MW-HR-SIP_preSpar/50/25/10\n",
      "2016-04-13 18:52:36,896 * INFO * [234033] /home/nick/notebook/SIPSim/dev/bac_genome1147/atomIncorp_taxaIncorp_MW-HR-SIP_preSpar/50/50/6 Finished with 0\n",
      "2016-04-13 18:52:36,899 * INFO * [234961] Started ./SIPSimRun_cMtx.sh in /home/nick/notebook/SIPSim/dev/bac_genome1147/atomIncorp_taxaIncorp_MW-HR-SIP_preSpar/50/25/2\n",
      "2016-04-13 18:52:36,948 * INFO * [234025] /home/nick/notebook/SIPSim/dev/bac_genome1147/atomIncorp_taxaIncorp_MW-HR-SIP_preSpar/50/50/2 Finished with 0\n",
      "2016-04-13 18:52:36,949 * INFO * [234969] Started ./SIPSimRun_cMtx.sh in /home/nick/notebook/SIPSim/dev/bac_genome1147/atomIncorp_taxaIncorp_MW-HR-SIP_preSpar/50/25/1\n",
      "2016-04-13 18:52:37,240 * INFO * [234017] /home/nick/notebook/SIPSim/dev/bac_genome1147/atomIncorp_taxaIncorp_MW-HR-SIP_preSpar/50/50/9 Finished with 0\n",
      "2016-04-13 18:52:37,243 * INFO * [235012] Started ./SIPSimRun_cMtx.sh in /home/nick/notebook/SIPSim/dev/bac_genome1147/atomIncorp_taxaIncorp_MW-HR-SIP_preSpar/50/25/4\n",
      "2016-04-13 18:52:37,258 * INFO * [234023] /home/nick/notebook/SIPSim/dev/bac_genome1147/atomIncorp_taxaIncorp_MW-HR-SIP_preSpar/50/50/10 Finished with 0\n",
      "2016-04-13 18:52:37,260 * INFO * [235027] Started ./SIPSimRun_cMtx.sh in /home/nick/notebook/SIPSim/dev/bac_genome1147/atomIncorp_taxaIncorp_MW-HR-SIP_preSpar/50/25/5\n",
      "2016-04-13 18:52:37,913 * INFO * [234016] /home/nick/notebook/SIPSim/dev/bac_genome1147/atomIncorp_taxaIncorp_MW-HR-SIP_preSpar/50/50/7 Finished with 0\n",
      "2016-04-13 18:52:37,915 * INFO * [235095] Started ./SIPSimRun_cMtx.sh in /home/nick/notebook/SIPSim/dev/bac_genome1147/atomIncorp_taxaIncorp_MW-HR-SIP_preSpar/50/25/6\n",
      "2016-04-13 18:52:50,891 * INFO * [234892] /home/nick/notebook/SIPSim/dev/bac_genome1147/atomIncorp_taxaIncorp_MW-HR-SIP_preSpar/50/25/9 Finished with 0\n",
      "2016-04-13 18:52:50,893 * INFO * [235784] Started ./SIPSimRun_cMtx.sh in /home/nick/notebook/SIPSim/dev/bac_genome1147/atomIncorp_taxaIncorp_MW-HR-SIP_preSpar/50/10/7\n",
      "2016-04-13 18:52:51,590 * INFO * [234888] /home/nick/notebook/SIPSim/dev/bac_genome1147/atomIncorp_taxaIncorp_MW-HR-SIP_preSpar/50/25/7 Finished with 0\n",
      "2016-04-13 18:52:51,592 * INFO * [235829] Started ./SIPSimRun_cMtx.sh in /home/nick/notebook/SIPSim/dev/bac_genome1147/atomIncorp_taxaIncorp_MW-HR-SIP_preSpar/50/10/9\n",
      "2016-04-13 18:52:51,643 * INFO * [234949] /home/nick/notebook/SIPSim/dev/bac_genome1147/atomIncorp_taxaIncorp_MW-HR-SIP_preSpar/50/25/3 Finished with 0\n",
      "2016-04-13 18:52:51,645 * INFO * [235831] Started ./SIPSimRun_cMtx.sh in /home/nick/notebook/SIPSim/dev/bac_genome1147/atomIncorp_taxaIncorp_MW-HR-SIP_preSpar/50/10/8\n",
      "2016-04-13 18:52:52,038 * INFO * [234907] /home/nick/notebook/SIPSim/dev/bac_genome1147/atomIncorp_taxaIncorp_MW-HR-SIP_preSpar/50/25/8 Finished with 0\n",
      "2016-04-13 18:52:52,040 * INFO * [235859] Started ./SIPSimRun_cMtx.sh in /home/nick/notebook/SIPSim/dev/bac_genome1147/atomIncorp_taxaIncorp_MW-HR-SIP_preSpar/50/10/3\n",
      "2016-04-13 18:52:52,726 * INFO * [234961] /home/nick/notebook/SIPSim/dev/bac_genome1147/atomIncorp_taxaIncorp_MW-HR-SIP_preSpar/50/25/2 Finished with 0\n",
      "2016-04-13 18:52:52,728 * INFO * [235896] Started ./SIPSimRun_cMtx.sh in /home/nick/notebook/SIPSim/dev/bac_genome1147/atomIncorp_taxaIncorp_MW-HR-SIP_preSpar/50/10/10\n",
      "2016-04-13 18:52:53,243 * INFO * [234969] /home/nick/notebook/SIPSim/dev/bac_genome1147/atomIncorp_taxaIncorp_MW-HR-SIP_preSpar/50/25/1 Finished with 0\n",
      "2016-04-13 18:52:53,245 * INFO * [235913] Started ./SIPSimRun_cMtx.sh in /home/nick/notebook/SIPSim/dev/bac_genome1147/atomIncorp_taxaIncorp_MW-HR-SIP_preSpar/50/10/2\n",
      "2016-04-13 18:52:53,474 * INFO * [235095] /home/nick/notebook/SIPSim/dev/bac_genome1147/atomIncorp_taxaIncorp_MW-HR-SIP_preSpar/50/25/6 Finished with 0\n",
      "2016-04-13 18:52:53,476 * INFO * [235923] Started ./SIPSimRun_cMtx.sh in /home/nick/notebook/SIPSim/dev/bac_genome1147/atomIncorp_taxaIncorp_MW-HR-SIP_preSpar/50/10/1\n",
      "2016-04-13 18:52:53,964 * INFO * [235012] /home/nick/notebook/SIPSim/dev/bac_genome1147/atomIncorp_taxaIncorp_MW-HR-SIP_preSpar/50/25/4 Finished with 0\n",
      "2016-04-13 18:52:53,968 * INFO * [235978] Started ./SIPSimRun_cMtx.sh in /home/nick/notebook/SIPSim/dev/bac_genome1147/atomIncorp_taxaIncorp_MW-HR-SIP_preSpar/50/10/4\n",
      "2016-04-13 18:52:54,186 * INFO * [235027] /home/nick/notebook/SIPSim/dev/bac_genome1147/atomIncorp_taxaIncorp_MW-HR-SIP_preSpar/50/25/5 Finished with 0\n",
      "2016-04-13 18:52:54,187 * INFO * [235988] Started ./SIPSimRun_cMtx.sh in /home/nick/notebook/SIPSim/dev/bac_genome1147/atomIncorp_taxaIncorp_MW-HR-SIP_preSpar/50/10/5\n",
      "2016-04-13 18:52:54,392 * INFO * [234959] /home/nick/notebook/SIPSim/dev/bac_genome1147/atomIncorp_taxaIncorp_MW-HR-SIP_preSpar/50/25/10 Finished with 0\n",
      "2016-04-13 18:52:54,394 * INFO * [236005] Started ./SIPSimRun_cMtx.sh in /home/nick/notebook/SIPSim/dev/bac_genome1147/atomIncorp_taxaIncorp_MW-HR-SIP_preSpar/50/10/6\n",
      "2016-04-13 18:53:07,056 * INFO * [235784] /home/nick/notebook/SIPSim/dev/bac_genome1147/atomIncorp_taxaIncorp_MW-HR-SIP_preSpar/50/10/7 Finished with 0\n",
      "2016-04-13 18:53:07,058 * INFO * [236716] Started ./SIPSimRun_cMtx.sh in /home/nick/notebook/SIPSim/dev/bac_genome1147/atomIncorp_taxaIncorp_MW-HR-SIP_preSpar/50/1/7\n",
      "2016-04-13 18:53:07,642 * INFO * [235829] /home/nick/notebook/SIPSim/dev/bac_genome1147/atomIncorp_taxaIncorp_MW-HR-SIP_preSpar/50/10/9 Finished with 0\n",
      "2016-04-13 18:53:07,644 * INFO * [236733] Started ./SIPSimRun_cMtx.sh in /home/nick/notebook/SIPSim/dev/bac_genome1147/atomIncorp_taxaIncorp_MW-HR-SIP_preSpar/50/1/9\n",
      "2016-04-13 18:53:07,897 * INFO * [235859] /home/nick/notebook/SIPSim/dev/bac_genome1147/atomIncorp_taxaIncorp_MW-HR-SIP_preSpar/50/10/3 Finished with 0\n",
      "2016-04-13 18:53:07,899 * INFO * [236743] Started ./SIPSimRun_cMtx.sh in /home/nick/notebook/SIPSim/dev/bac_genome1147/atomIncorp_taxaIncorp_MW-HR-SIP_preSpar/50/1/8\n",
      "2016-04-13 18:53:08,493 * INFO * [235923] /home/nick/notebook/SIPSim/dev/bac_genome1147/atomIncorp_taxaIncorp_MW-HR-SIP_preSpar/50/10/1 Finished with 0\n",
      "2016-04-13 18:53:08,495 * INFO * [236785] Started ./SIPSimRun_cMtx.sh in /home/nick/notebook/SIPSim/dev/bac_genome1147/atomIncorp_taxaIncorp_MW-HR-SIP_preSpar/50/1/3\n",
      "2016-04-13 18:53:08,692 * INFO * [235831] /home/nick/notebook/SIPSim/dev/bac_genome1147/atomIncorp_taxaIncorp_MW-HR-SIP_preSpar/50/10/8 Finished with 0\n",
      "2016-04-13 18:53:08,694 * INFO * [236789] Started ./SIPSimRun_cMtx.sh in /home/nick/notebook/SIPSim/dev/bac_genome1147/atomIncorp_taxaIncorp_MW-HR-SIP_preSpar/50/1/10\n",
      "2016-04-13 18:53:08,769 * INFO * [235896] /home/nick/notebook/SIPSim/dev/bac_genome1147/atomIncorp_taxaIncorp_MW-HR-SIP_preSpar/50/10/10 Finished with 0\n",
      "2016-04-13 18:53:08,770 * INFO * [236804] Started ./SIPSimRun_cMtx.sh in /home/nick/notebook/SIPSim/dev/bac_genome1147/atomIncorp_taxaIncorp_MW-HR-SIP_preSpar/50/1/2\n",
      "**OUTPUT MUTED**"
     ]
    }
   ],
   "source": [
    "!chmod 777 $bashFileTmp\n",
    "!cd $workDir; \\\n",
    "    nestrun --template-file $bashFileTmp -d $buildDir --log-file cMtx.log -j 10"
   ]
  },
  {
   "cell_type": "markdown",
   "metadata": {},
   "source": [
    "### Aggregating the confusion matrix data"
   ]
  },
  {
   "cell_type": "code",
   "execution_count": null,
   "metadata": {
    "collapsed": false
   },
   "outputs": [],
   "source": [
    "def agg_cMtx(prefix):\n",
    "    # all data\n",
    "    #!nestagg delim \\\n",
    "    #    -d $buildDir \\\n",
    "    #    -k percIncorp,percTaxa,rep \\\n",
    "    #    -o $prefix-cMtx_data.txt \\\n",
    "    #    --tab \\\n",
    "    #    $prefix-cMtx_data.txt\n",
    "\n",
    "    # overall\n",
    "    x = prefix + '-cMtx_overall.txt'\n",
    "    !nestagg delim \\\n",
    "        -d $buildDir \\\n",
    "        -k percIncorp,percTaxa,rep \\\n",
    "        -o $x \\\n",
    "        --tab \\\n",
    "        $x\n",
    "\n",
    "    # by class\n",
    "    x = prefix + '-cMtx_byClass.txt'\n",
    "    !nestagg delim \\\n",
    "        -d $buildDir \\\n",
    "        -k percIncorp,percTaxa,rep \\\n",
    "        -o $x \\\n",
    "        --tab \\\n",
    "        $x\n",
    "        \n",
    "agg_cMtx('DESeq2_MW1')\n",
    "agg_cMtx('DESeq2_MW2')\n",
    "agg_cMtx('DESeq2_MW3')\n",
    "agg_cMtx('DESeq2_MW4')"
   ]
  },
  {
   "cell_type": "code",
   "execution_count": null,
   "metadata": {
    "collapsed": true
   },
   "outputs": [],
   "source": [
    "%pushnote preSpar MW-HR-SIP run complete!"
   ]
  },
  {
   "cell_type": "markdown",
   "metadata": {},
   "source": [
    "***\n",
    "# --End of simulation--#\n",
    "***"
   ]
  },
  {
   "cell_type": "markdown",
   "metadata": {},
   "source": [
    "# Plotting results"
   ]
  },
  {
   "cell_type": "code",
   "execution_count": null,
   "metadata": {
    "collapsed": false
   },
   "outputs": [],
   "source": [
    "F = os.path.join(buildDir, '*-cMtx_byClass.txt')\n",
    "files = glob.glob(F)\n",
    "files"
   ]
  },
  {
   "cell_type": "code",
   "execution_count": null,
   "metadata": {
    "collapsed": false
   },
   "outputs": [],
   "source": [
    "%%R -i files\n",
    "\n",
    "df_byClass = list()\n",
    "for (f in files){\n",
    "    ff = strsplit(f, '/') %>% unlist\n",
    "    fff = ff[length(ff)]\n",
    "    df_byClass[[fff]] = read.delim(f, sep='\\t')\n",
    "}\n",
    "\n",
    "df_byClass = do.call(rbind, df_byClass)\n",
    "df_byClass$file = gsub('\\\\.[0-9]+$', '', rownames(df_byClass))\n",
    "df_byClass$method = gsub('-cMtx.+', '', df_byClass$file)\n",
    "rownames(df_byClass) = 1:nrow(df_byClass)\n",
    "\n",
    "df_byClass %>% head(n=3)"
   ]
  },
  {
   "cell_type": "code",
   "execution_count": null,
   "metadata": {
    "collapsed": false
   },
   "outputs": [],
   "source": [
    "%%R\n",
    "# renaming method\n",
    "rename = data.frame(method = c('DESeq2_MW1', 'DESeq2_MW2', 'DESeq2_MW3', 'DESeq2_MW4'), \n",
    "                    method_new = c('1.71-1.75',\n",
    "                                   '1.69-1.74,1.73-1.78',\n",
    "                                   '1.70-1.73,1.72-1.75,1.74-1.77',\n",
    "                                   '1.69-1.73,1.72-1.76,1.75-1.79'))\n",
    "\n",
    "df_byClass = inner_join(df_byClass, rename, c('method'='method')) %>%\n",
    "    select(-method) %>%\n",
    "    rename('method' = method_new) \n",
    "\n",
    "df_byClass$method = factor(df_byClass$method, levels=rename$method_new %>% as.vector)\n",
    "\n",
    "df_byClass %>% head(n=3)"
   ]
  },
  {
   "cell_type": "code",
   "execution_count": null,
   "metadata": {
    "collapsed": false
   },
   "outputs": [],
   "source": [
    "%%R -w 800 -h 550\n",
    "# summarize by SIPSim rep & library rep\n",
    "df_byClass.s = df_byClass %>%\n",
    "    group_by(method, percIncorp, percTaxa, variables) %>%\n",
    "    summarize(mean_value = mean(values),\n",
    "              sd_value = sd(values))\n",
    "\n",
    "# plotting\n",
    "ggplot(df_byClass.s, aes(variables, mean_value, color=method,\n",
    "                         ymin=mean_value-sd_value,\n",
    "                         ymax=mean_value+sd_value)) +\n",
    "    geom_pointrange(alpha=0.8, size=0.2) +\n",
    "    labs(y='Value') +\n",
    "    facet_grid(percTaxa ~ percIncorp) +\n",
    "    theme_bw() +\n",
    "    theme(\n",
    "        text = element_text(size=16),\n",
    "        axis.title.x = element_blank(),\n",
    "        axis.text.x = element_text(angle=45, hjust=1)\n",
    "    )"
   ]
  },
  {
   "cell_type": "code",
   "execution_count": null,
   "metadata": {
    "collapsed": false
   },
   "outputs": [],
   "source": [
    "%%R -w 850 -h 600\n",
    "# summarize by SIPSim rep & library rep\n",
    "vars = c('Balanced Accuracy', 'Sensitivity', 'Specificity')\n",
    "df_byClass.s.f = df_byClass.s %>%\n",
    "    filter(variables %in% vars) \n",
    "\n",
    "# plotting\n",
    "ggplot(df_byClass.s.f, aes(variables, mean_value, fill=method,\n",
    "                         ymin=mean_value-sd_value,\n",
    "                         ymax=mean_value+sd_value)) +\n",
    "    #geom_pointrange(alpha=0.8, size=0.2) +\n",
    "    geom_bar(stat='identity', position='dodge', width=0.8) +\n",
    "    geom_errorbar(stat='identity', position='dodge', width=0.8) +\n",
    "    scale_y_continuous(breaks=seq(0, 1, 0.2)) +\n",
    "    scale_fill_discrete('\"Heavy\" BD window(s)') +\n",
    "    facet_grid(percTaxa ~ percIncorp) +\n",
    "    theme_bw() +\n",
    "    theme(\n",
    "        text = element_text(size=16),\n",
    "        axis.title.x = element_blank(),\n",
    "        axis.text.x = element_text(angle=45, hjust=1),\n",
    "        axis.title.y = element_blank()\n",
    "    )"
   ]
  }
 ],
 "metadata": {
  "hide_input": true,
  "kernelspec": {
   "display_name": "Python 2",
   "language": "python",
   "name": "python2"
  },
  "language_info": {
   "codemirror_mode": {
    "name": "ipython",
    "version": 2
   },
   "file_extension": ".py",
   "mimetype": "text/x-python",
   "name": "python",
   "nbconvert_exporter": "python",
   "pygments_lexer": "ipython2",
   "version": "2.7.11"
  }
 },
 "nbformat": 4,
 "nbformat_minor": 0
}
