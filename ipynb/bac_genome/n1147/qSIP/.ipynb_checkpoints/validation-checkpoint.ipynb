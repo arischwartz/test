{
 "cells": [
  {
   "cell_type": "markdown",
   "metadata": {},
   "source": [
    "# Goal\n",
    "\n",
    "* Initial testing, assessment, and debugging of SIPSim qSIP data\n",
    "* **Parameters**\n",
    "  * 12C control & 13C treatment gradients\n",
    "  * n-reps = 3 (n-total = 6)\n",
    "  * % atom excess = 100%\n",
    "  * % taxa with incorporation = 10%"
   ]
  },
  {
   "cell_type": "markdown",
   "metadata": {},
   "source": [
    "# Init"
   ]
  },
  {
   "cell_type": "code",
   "execution_count": 3,
   "metadata": {
    "collapsed": true
   },
   "outputs": [],
   "source": [
    "import os\n",
    "import glob\n",
    "import re\n",
    "import nestly\n",
    "%load_ext rpy2.ipython"
   ]
  },
  {
   "cell_type": "code",
   "execution_count": 4,
   "metadata": {
    "collapsed": false
   },
   "outputs": [
    {
     "name": "stderr",
     "output_type": "stream",
     "text": [
      "/opt/anaconda/lib/python2.7/site-packages/rpy2/robjects/functions.py:106: UserWarning: \n",
      "Attaching package: ‘dplyr’\n",
      "\n",
      "\n",
      "  res = super(Function, self).__call__(*new_args, **new_kwargs)\n",
      "/opt/anaconda/lib/python2.7/site-packages/rpy2/robjects/functions.py:106: UserWarning: The following objects are masked from ‘package:stats’:\n",
      "\n",
      "    filter, lag\n",
      "\n",
      "\n",
      "  res = super(Function, self).__call__(*new_args, **new_kwargs)\n",
      "/opt/anaconda/lib/python2.7/site-packages/rpy2/robjects/functions.py:106: UserWarning: The following objects are masked from ‘package:base’:\n",
      "\n",
      "    intersect, setdiff, setequal, union\n",
      "\n",
      "\n",
      "  res = super(Function, self).__call__(*new_args, **new_kwargs)\n"
     ]
    }
   ],
   "source": [
    "%%R\n",
    "library(ggplot2)\n",
    "library(dplyr)\n",
    "library(tidyr)\n",
    "library(gridExtra)\n",
    "library(phyloseq)\n",
    "\n",
    "## BD for G+C of 0 or 100\n",
    "BD.GCp0 = 0 * 0.098 + 1.66\n",
    "BD.GCp100 = 1 * 0.098 + 1.66"
   ]
  },
  {
   "cell_type": "markdown",
   "metadata": {},
   "source": [
    "# Nestly\n",
    "\n",
    "* assuming fragments already simulated"
   ]
  },
  {
   "cell_type": "code",
   "execution_count": 5,
   "metadata": {
    "collapsed": true
   },
   "outputs": [],
   "source": [
    "workDir = '/home/nick/notebook/SIPSim/dev/n1147/'\n",
    "buildDir = os.path.join(workDir, 'qSIP_rep3')\n",
    "R_dir = '/home/nick/notebook/SIPSim/lib/R/'\n",
    "\n",
    "fragFile = '/home/nick/notebook/SIPSim/dev/bac_genome1147/validation/ampFrags.pkl'\n",
    "genomeIndex = '/var/seq_data/ncbi_db/genome/Jan2016/bac_complete_spec-rep1_rn/genome_index.txt'\n",
    "\n",
    "# simulation parameters\n",
    "prefrac_comm_abundance = '1e9'\n",
    "n_gradients = 6\n",
    "nprocs = 24"
   ]
  },
  {
   "cell_type": "code",
   "execution_count": 7,
   "metadata": {
    "collapsed": true
   },
   "outputs": [],
   "source": [
    "# building tree structure\n",
    "nest = nestly.Nest()\n",
    "\n",
    "## varying params\n",
    "nest.add('abs', [prefrac_comm_abundance])\n",
    "\n",
    "## set params\n",
    "nest.add('percIncorp', [100], create_dir=False)\n",
    "nest.add('percTaxa', [10], create_dir=False)\n",
    "nest.add('n_gradients', [n_gradients], create_dir=False)\n",
    "nest.add('np', [nprocs], create_dir=False)\n",
    "\n",
    "\n",
    "### input/output files\n",
    "nest.add('buildDir', [buildDir], create_dir=False)\n",
    "nest.add('R_dir', [R_dir], create_dir=False)\n",
    "nest.add('fragFile', [fragFile], create_dir=False)\n",
    "\n",
    "# building directory tree\n",
    "nest.build(buildDir)\n",
    "\n",
    "# bash file to run\n",
    "bashFile = os.path.join(buildDir, 'SIPSimRun.sh')"
   ]
  },
  {
   "cell_type": "code",
   "execution_count": null,
   "metadata": {
    "collapsed": true
   },
   "outputs": [],
   "source": [
    "%%writefile $bashFile\n",
    "#!/bin/bash\n",
    "\n",
    "export PATH={R_dir}:$PATH\n",
    "\n",
    "echo '#-- SIPSim pipeline --#'\n",
    "echo '# converting fragments to KDE'\n",
    "SIPSim fragment_KDE \\\n",
    "    {fragFile} \\\n",
    "    > ampFrags_KDE.pkl\n",
    "    \n",
    "echo '# adding diffusion'    \n",
    "SIPSim diffusion \\\n",
    "    ampFrags_KDE.pkl \\\n",
    "    --np {np} \\\n",
    "    > ampFrags_KDE_dif.pkl    \n",
    "\n",
    "echo '# adding DBL contamination'\n",
    "SIPSim DBL \\\n",
    "    ampFrags_KDE_dif.pkl \\\n",
    "    --np {np} \\\n",
    "    > ampFrags_KDE_dif_DBL.pkl      \n",
    "    \n",
    "!cd $workDir; \\\n",
    "    SIPSim communities \\\n",
    "    {genomeIndex} \\\n",
    "    --n_comm {n_gradients} \\\n",
    "    > comm.txt    \n",
    "    \n",
    "    \n",
    "echo '# making incorp file'\n",
    "SIPSim incorpConfigExample \\\n",
    "  --percTaxa {percTaxa} \\\n",
    "  --percIncorpUnif {percIncorp} \\\n",
    "  > {percTaxa}_{percIncorp}.config\n",
    "\n",
    "\n",
    "    \n",
    "    \n",
    "    \n",
    "echo '# adding isotope incorporation to BD distribution'\n",
    "SIPSim isotope_incorp \\\n",
    "    ampFrags_KDE_dif_DBL.pkl \\\n",
    "    {percTaxa}_{percIncorp}.config \\\n",
    "    --comm {physeq_bulkCore}_comm_target.txt \\\n",
    "    --np {np} \\\n",
    "    > fragsParsed_KDE_dif_DBL_inc.pkl\n",
    "    \n",
    "#echo '# calculating BD shift from isotope incorporation'\n",
    "#SIPSim BD_shift \\\n",
    "#    fragsParsed_KDE_dif_DBL.pkl \\\n",
    "#    fragsParsed_KDE_dif_DBL_inc.pkl \\\n",
    "#    --np {np} \\\n",
    "#    > fragsParsed_KDE_dif_DBL_inc_BD-shift.txt\n",
    "\n",
    "echo '# simulating gradient fractions'\n",
    "SIPSim gradient_fractions \\\n",
    "    {physeq_bulkCore}_comm_target.txt \\\n",
    "    > fracs.txt \n",
    "\n",
    "echo '# simulating an OTU table'\n",
    "SIPSim OTU_table \\\n",
    "    fragsParsed_KDE_dif_DBL_inc.pkl \\\n",
    "    {physeq_bulkCore}_comm_target.txt \\\n",
    "    fracs.txt \\\n",
    "    --abs {abs} \\\n",
    "    --np {np} \\\n",
    "    > OTU_abs{abs}.txt\n",
    "    \n",
    "#echo '# simulating PCR'\n",
    "SIPSim OTU_PCR \\\n",
    "    OTU_abs{abs}.txt \\\n",
    "    > OTU_abs{abs}_PCR.txt    \n",
    "    \n",
    "echo '# subsampling from the OTU table (simulating sequencing of the DNA pool)'\n",
    "SIPSim OTU_subsample \\\n",
    "    --dist {subsample_dist} \\\n",
    "    --dist_params mean:{subsample_mean},sigma:{subsample_scale} \\\n",
    "    --min_size {subsample_min} \\\n",
    "    --max_size {subsample_max} \\\n",
    "    OTU_abs{abs}_PCR.txt \\\n",
    "    > OTU_abs{abs}_PCR_sub.txt\n",
    "        \n",
    "echo '# making a wide-formatted table'\n",
    "SIPSim OTU_wideLong -w \\\n",
    "    OTU_abs{abs}_PCR_sub.txt \\\n",
    "    > OTU_abs{abs}_PCR_sub_w.txt\n",
    "    \n",
    "echo '# making metadata (phyloseq: sample_data)'\n",
    "SIPSim OTU_sampleData \\\n",
    "    OTU_abs{abs}_PCR_sub.txt \\\n",
    "    > OTU_abs{abs}_PCR_sub_meta.txt"
   ]
  },
  {
   "cell_type": "code",
   "execution_count": null,
   "metadata": {
    "collapsed": true
   },
   "outputs": [],
   "source": [
    "!chmod 777 $bashFile\n",
    "!cd $workDir; \\\n",
    "    nestrun  --template-file $bashFile -d Day1_default_run --log-file log.txt -j 1"
   ]
  }
 ],
 "metadata": {
  "hide_input": true,
  "kernelspec": {
   "display_name": "Python 2",
   "language": "python",
   "name": "python2"
  },
  "language_info": {
   "codemirror_mode": {
    "name": "ipython",
    "version": 2
   },
   "file_extension": ".py",
   "mimetype": "text/x-python",
   "name": "python",
   "nbconvert_exporter": "python",
   "pygments_lexer": "ipython2",
   "version": "2.7.11"
  }
 },
 "nbformat": 4,
 "nbformat_minor": 0
}
