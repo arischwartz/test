{
 "cells": [
  {
   "cell_type": "markdown",
   "metadata": {},
   "source": [
    "# Goal\n",
    "\n",
    "* Initial testing, assessment, and debugging of SIPSim qSIP data\n",
    "* **Parameters**\n",
    "  * 12C control & 13C treatment gradients\n",
    "  * n-reps = 3 (n-total = 6)\n",
    "  * % atom excess = 100%\n",
    "  * % taxa with incorporation = 10%"
   ]
  },
  {
   "cell_type": "markdown",
   "metadata": {},
   "source": [
    "# Init"
   ]
  },
  {
   "cell_type": "code",
   "execution_count": 1,
   "metadata": {
    "collapsed": true
   },
   "outputs": [],
   "source": [
    "import os\n",
    "import glob\n",
    "import re\n",
    "import nestly\n",
    "%load_ext rpy2.ipython"
   ]
  },
  {
   "cell_type": "code",
   "execution_count": 2,
   "metadata": {
    "collapsed": false
   },
   "outputs": [
    {
     "name": "stderr",
     "output_type": "stream",
     "text": [
      "/opt/anaconda/lib/python2.7/site-packages/rpy2/robjects/functions.py:106: UserWarning: \n",
      "Attaching package: ‘dplyr’\n",
      "\n",
      "\n",
      "  res = super(Function, self).__call__(*new_args, **new_kwargs)\n",
      "/opt/anaconda/lib/python2.7/site-packages/rpy2/robjects/functions.py:106: UserWarning: The following objects are masked from ‘package:stats’:\n",
      "\n",
      "    filter, lag\n",
      "\n",
      "\n",
      "  res = super(Function, self).__call__(*new_args, **new_kwargs)\n",
      "/opt/anaconda/lib/python2.7/site-packages/rpy2/robjects/functions.py:106: UserWarning: The following objects are masked from ‘package:base’:\n",
      "\n",
      "    intersect, setdiff, setequal, union\n",
      "\n",
      "\n",
      "  res = super(Function, self).__call__(*new_args, **new_kwargs)\n"
     ]
    }
   ],
   "source": [
    "%%R\n",
    "library(ggplot2)\n",
    "library(dplyr)\n",
    "library(tidyr)\n",
    "library(gridExtra)\n",
    "library(phyloseq)\n",
    "\n",
    "## BD for G+C of 0 or 100\n",
    "BD.GCp0 = 0 * 0.098 + 1.66\n",
    "BD.GCp100 = 1 * 0.098 + 1.66"
   ]
  },
  {
   "cell_type": "markdown",
   "metadata": {},
   "source": [
    "# Nestly\n",
    "\n",
    "* assuming fragments already simulated"
   ]
  },
  {
   "cell_type": "code",
   "execution_count": 3,
   "metadata": {
    "collapsed": true
   },
   "outputs": [],
   "source": [
    "workDir = '/home/nick/notebook/SIPSim/dev/bac_genome1147/qSIP/'\n",
    "buildDir = os.path.join(workDir, 'default_rep3')\n",
    "R_dir = '/home/nick/notebook/SIPSim/lib/R/'\n",
    "\n",
    "fragFile = '/home/nick/notebook/SIPSim/dev/bac_genome1147/validation/ampFrags.pkl'\n",
    "genomeIndex = '/var/seq_data/ncbi_db/genome/Jan2016/bac_complete_spec-rep1_rn/genome_index.txt'\n",
    "\n",
    "# simulation parameters\n",
    "prefrac_comm_abundance = '1e9'\n",
    "n_gradient_reps = 3\n",
    "nprocs = 24"
   ]
  },
  {
   "cell_type": "code",
   "execution_count": 30,
   "metadata": {
    "collapsed": true
   },
   "outputs": [],
   "source": [
    "# building tree structure\n",
    "nest = nestly.Nest()\n",
    "\n",
    "## varying params\n",
    "nest.add('abs', [prefrac_comm_abundance])\n",
    "\n",
    "## set params\n",
    "nest.add('percIncorp', [100], create_dir=False)\n",
    "nest.add('percTaxa', [10], create_dir=False)\n",
    "nest.add('n_gradient_reps', [n_gradient_reps], create_dir=False)\n",
    "nest.add('np', [nprocs], create_dir=False)\n",
    "\n",
    "\n",
    "### input/output files\n",
    "nest.add('buildDir', [buildDir], create_dir=False)\n",
    "nest.add('R_dir', [R_dir], create_dir=False)\n",
    "nest.add('fragFile', [fragFile], create_dir=False)\n",
    "nest.add('genomeIndex', [genomeIndex], create_dir=False)\n",
    "\n",
    "# building directory tree\n",
    "nest.build(buildDir)\n",
    "\n",
    "# bash file to run\n",
    "bashFile = os.path.join(buildDir, 'SIPSimRun.sh')"
   ]
  },
  {
   "cell_type": "code",
   "execution_count": 31,
   "metadata": {
    "collapsed": false
   },
   "outputs": [
    {
     "name": "stdout",
     "output_type": "stream",
     "text": [
      "Writing /home/nick/notebook/SIPSim/dev/bac_genome1147/qSIP_rep3/SIPSimRun.sh\n"
     ]
    }
   ],
   "source": [
    "%%writefile $bashFile\n",
    "#!/bin/bash\n",
    "\n",
    "export PATH={R_dir}:$PATH\n",
    "\n",
    "echo '#-- SIPSim pipeline --#'\n",
    "echo '# converting fragments to KDE'\n",
    "SIPSim fragment_KDE \\\n",
    "    {fragFile} \\\n",
    "    > ampFrags_KDE.pkl\n",
    "    \n",
    "echo '# adding diffusion'    \n",
    "SIPSim diffusion \\\n",
    "    ampFrags_KDE.pkl \\\n",
    "    --np {np} \\\n",
    "    > ampFrags_KDE_dif.pkl    \n",
    "\n",
    "echo '# adding DBL contamination'\n",
    "SIPSim DBL \\\n",
    "    ampFrags_KDE_dif.pkl \\\n",
    "    --np {np} \\\n",
    "    > ampFrags_KDE_dif_DBL.pkl      \n",
    "    \n",
    "echo '# making incorp file'\n",
    "SIPSim incorpConfigExample \\\n",
    "  --percTaxa {percTaxa} \\\n",
    "  --percIncorpUnif {percIncorp} \\\n",
    "  --n_reps 3 \\\n",
    "  > {percTaxa}_{percIncorp}_{n_gradient_reps}.config\n",
    "\n",
    "echo '# making community file'\n",
    "!cd $workDir; \\\n",
    "    SIPSim communities \\\n",
    "    --config {percTaxa}_{percIncorp}_{n_gradient_reps}.config \\\n",
    "    {genomeIndex} \\\n",
    "    > comm.txt    \n",
    "\n",
    "echo '# adding isotope incorporation to BD distribution'\n",
    "SIPSim isotope_incorp \\\n",
    "    ampFrags_KDE_dif_DBL.pkl \\\n",
    "    {percTaxa}_{percIncorp}_{n_gradient_reps}.config \\\n",
    "    --comm comm.txt \\\n",
    "    --np {np} \\\n",
    "    > ampFrags_KDE_dif_DBL_inc.pkl\n",
    "    \n",
    "echo '# calculating BD shift from isotope incorporation'\n",
    "SIPSim BD_shift \\\n",
    "    ampFrags_KDE_dif_DBL.pkl \\\n",
    "    ampFrags_KDE_dif_DBL_inc.pkl \\\n",
    "    --np {np} \\\n",
    "    > ampFrags_KDE_dif_DBL_inc_BD-shift.pkl\n",
    "\n",
    "echo '# simulating gradient fractions'\n",
    "SIPSim gradient_fractions \\\n",
    "    comm.txt > fracs.txt \n",
    "\n",
    "echo '# simulating an OTU table'\n",
    "SIPSim OTU_table \\\n",
    "    ampFrags_KDE_dif_DBL_inc.pkl \\\n",
    "    comm.txt \\\n",
    "    fracs.txt \\\n",
    "    --abs {abs} \\\n",
    "    --np {np} \\\n",
    "    > OTU_abs{abs}.txt\n",
    "    \n",
    "echo '# simulating PCR'\n",
    "SIPSim OTU_PCR \\\n",
    "    OTU_abs{abs}.txt \\\n",
    "    > OTU_abs{abs}_PCR.txt    \n",
    "    \n",
    "echo '# subsampling from the OTU table (simulating sequencing of the DNA pool)'\n",
    "SIPSim OTU_subsample \\\n",
    "    OTU_abs{abs}_PCR.txt \\\n",
    "    > OTU_abs{abs}_PCR_sub.txt\n",
    "        \n",
    "echo '# making a wide-formatted table'\n",
    "SIPSim OTU_wideLong -w \\\n",
    "    OTU_abs{abs}_PCR_sub.txt \\\n",
    "    > OTU_abs{abs}_PCR_sub_w.txt\n",
    "    \n",
    "echo '# making metadata (phyloseq: sample_data)'\n",
    "SIPSim OTU_sampleData \\\n",
    "    OTU_abs{abs}_PCR_sub.txt \\\n",
    "    > OTU_abs{abs}_PCR_sub_meta.txt\n",
    "    \n",
    "    \n",
    "echo '# Removing control.json file'    \n",
    "rm -f control.json"
   ]
  },
  {
   "cell_type": "code",
   "execution_count": 32,
   "metadata": {
    "collapsed": false
   },
   "outputs": [
    {
     "name": "stdout",
     "output_type": "stream",
     "text": [
      "2016-01-18 10:51:23,348 * INFO * Template: ./SIPSimRun.sh\n",
      "2016-01-18 10:51:23,349 * INFO * [86828] Started ./SIPSimRun.sh in qSIP_rep3/1e9\n",
      "2016-01-18 11:25:40,332 * INFO * [86828] qSIP_rep3/1e9 Finished with 0\n"
     ]
    }
   ],
   "source": [
    "!chmod 777 $bashFile\n",
    "!cd $workDir; \\\n",
    "    nestrun  --template-file $bashFile -d qSIP_rep3 --log-file log.txt -j 1"
   ]
  },
  {
   "cell_type": "markdown",
   "metadata": {},
   "source": [
    "# qSIP"
   ]
  },
  {
   "cell_type": "code",
   "execution_count": 77,
   "metadata": {
    "collapsed": true
   },
   "outputs": [],
   "source": [
    "# building tree structure\n",
    "nest = nestly.Nest()\n",
    "\n",
    "## varying params\n",
    "nest.add('abs', [prefrac_comm_abundance])\n",
    "nest.add('disp_param', [1,5,10,100,1000])\n",
    "\n",
    "# unvarying params\n",
    "expDesignFile = os.path.join(buildDir, 'exp_design.txt')\n",
    "nest.add('expDesignFile', [expDesignFile], create_dir=False)\n",
    "nest.add('buildDir', [buildDir], create_dir=False)\n",
    "\n",
    "# building directory tree\n",
    "nest.build(buildDir)\n",
    "\n",
    "# bash file to run\n",
    "bashFile = os.path.join(buildDir, 'qSIPRun.sh')"
   ]
  },
  {
   "cell_type": "code",
   "execution_count": 78,
   "metadata": {
    "collapsed": false
   },
   "outputs": [
    {
     "name": "stdout",
     "output_type": "stream",
     "text": [
      "Overwriting /home/nick/notebook/SIPSim/dev/bac_genome1147/qSIP/default_rep3/exp_design.txt\n"
     ]
    }
   ],
   "source": [
    "%%writefile $expDesignFile\n",
    "\n",
    "1\tcontrol\n",
    "2\ttreatment\n",
    "3\tcontrol\n",
    "4\ttreatment\n",
    "5\tcontrol\n",
    "6\ttreatment"
   ]
  },
  {
   "cell_type": "code",
   "execution_count": 79,
   "metadata": {
    "collapsed": false
   },
   "outputs": [
    {
     "name": "stdout",
     "output_type": "stream",
     "text": [
      "Overwriting /home/nick/notebook/SIPSim/dev/bac_genome1147/qSIP/default_rep3/qSIPRun.sh\n"
     ]
    }
   ],
   "source": [
    "%%writefile $bashFile\n",
    "#!/bin/bash\n",
    "\n",
    "# qSIP\n",
    "SIPSim qSIP \\\n",
    "    --reps 3 -r {disp_param} \\\n",
    "    {buildDir}/{abs}/OTU_abs1e9.txt {buildDir}/{abs}/OTU_abs1e9_PCR_sub.txt \\\n",
    "    > OTU_abs1e9_PCR_sub_qSIP.txt\n",
    "        \n",
    "# atom excess\n",
    "SIPSim qSIP_atomExcess \\\n",
    "    OTU_abs1e9_PCR_sub_qSIP.txt \\\n",
    "    {expDesignFile} \\\n",
    "    > OTU_abs1e9_PCR_sub_qSIP_atom.txt "
   ]
  },
  {
   "cell_type": "code",
   "execution_count": null,
   "metadata": {
    "collapsed": false
   },
   "outputs": [
    {
     "name": "stdout",
     "output_type": "stream",
     "text": [
      "2016-01-18 14:31:46,131 * INFO * Template: ./qSIPRun.sh\r\n",
      "2016-01-18 14:31:46,133 * INFO * [23914] Started ./qSIPRun.sh in default_rep3/1e9/1000\r\n",
      "2016-01-18 14:31:46,134 * INFO * [23915] Started ./qSIPRun.sh in default_rep3/1e9/100\r\n",
      "2016-01-18 14:31:46,136 * INFO * [23917] Started ./qSIPRun.sh in default_rep3/1e9/10\r\n",
      "2016-01-18 14:31:46,137 * INFO * [23919] Started ./qSIPRun.sh in default_rep3/1e9/1\r\n",
      "2016-01-18 14:31:46,138 * INFO * [23921] Started ./qSIPRun.sh in default_rep3/1e9/5\r\n"
     ]
    }
   ],
   "source": [
    "!chmod 777 $bashFile\n",
    "!cd $workDir; \\\n",
    "    nestrun  --template-file $bashFile -d default_rep3 --log-file log.txt -j 10"
   ]
  },
  {
   "cell_type": "markdown",
   "metadata": {},
   "source": [
    "# Analyzing the results"
   ]
  },
  {
   "cell_type": "markdown",
   "metadata": {},
   "source": [
    "## qPCR values"
   ]
  },
  {
   "cell_type": "code",
   "execution_count": null,
   "metadata": {
    "collapsed": false
   },
   "outputs": [],
   "source": [
    "qPCR_files = !find $buildDir -name \"OTU_abs1e9_PCR_sub_qSIP.txt\"\n",
    "qPCR_files"
   ]
  },
  {
   "cell_type": "code",
   "execution_count": null,
   "metadata": {
    "collapsed": false
   },
   "outputs": [],
   "source": [
    "%%R -i qPCR_files\n",
    "# loading files\n",
    "df = list()\n",
    "for (x in qPCR_files){\n",
    "    f = gsub('/home/nick/notebook/SIPSim/dev/bac_genome1147/qSIP/default_rep3/1e9/', 'r', x)\n",
    "    f = gsub('/OTU_abs1e9_PCR_sub_qSIP.txt', '', f)\n",
    "    df[[f]] = read.delim(x, sep='\\t') %>%\n",
    "        distinct(library, fraction) %>%\n",
    "        select(-taxon) %>%\n",
    "        as.data.frame()\n",
    "    }\n",
    "df = do.call('rbind', df)\n",
    "df$file = gsub('\\\\.[0-9]+$', '', rownames(df))\n",
    "rownames(df) = 1:nrow(df)\n",
    "df = df %>%\n",
    "    mutate(exp_design = ifelse(library %% 2 == 0, 'treatment', 'control'),\n",
    "           library = library %>% as.character)\n",
    "df %>% head(n=3)"
   ]
  },
  {
   "cell_type": "code",
   "execution_count": null,
   "metadata": {
    "collapsed": false
   },
   "outputs": [],
   "source": [
    "%%R -w 800 -h 700\n",
    "\n",
    "ggplot(df, aes(BD_mid, total_qPCR_copies, \n",
    "               color=exp_design, group=library, shape=library)) +\n",
    "    geom_point() +\n",
    "    geom_line() +\n",
    "    facet_grid(file ~ .) +\n",
    "    theme_bw() +\n",
    "    theme(\n",
    "        text = element_text(size=16)\n",
    "    )\n",
    "    "
   ]
  },
  {
   "cell_type": "code",
   "execution_count": null,
   "metadata": {
    "collapsed": true
   },
   "outputs": [],
   "source": []
  }
 ],
 "metadata": {
  "hide_input": true,
  "kernelspec": {
   "display_name": "Python 2",
   "language": "python",
   "name": "python2"
  },
  "language_info": {
   "codemirror_mode": {
    "name": "ipython",
    "version": 2
   },
   "file_extension": ".py",
   "mimetype": "text/x-python",
   "name": "python",
   "nbconvert_exporter": "python",
   "pygments_lexer": "ipython2",
   "version": "2.7.11"
  }
 },
 "nbformat": 4,
 "nbformat_minor": 0
}
