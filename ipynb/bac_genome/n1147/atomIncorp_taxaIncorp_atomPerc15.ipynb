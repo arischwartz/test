{
 "cells": [
  {
   "cell_type": "markdown",
   "metadata": {
    "code_folding": []
   },
   "source": [
    "# Goal\n",
    "\n",
    "Accuracy as a function of isotope incorporation\n",
    "\n",
    "**Note:** just adding another treatment level to `atomIncorp_taxaIncorp` run\n",
    "\n",
    "\n",
    "### Variable parameters:\n",
    "\n",
    "* atom % isotope incorporation\n",
    "  * 15\n",
    "* % taxa that incorporate\n",
    "  * __1, 5, 10, 25, 50__\n",
    "* n-reps (stocastic: taxon abundances & which incorporate)\n",
    "  * 10 "
   ]
  },
  {
   "cell_type": "markdown",
   "metadata": {},
   "source": [
    "## Init"
   ]
  },
  {
   "cell_type": "code",
   "execution_count": 1,
   "metadata": {
    "collapsed": false
   },
   "outputs": [],
   "source": [
    "import os\n",
    "import glob\n",
    "import itertools\n",
    "import nestly"
   ]
  },
  {
   "cell_type": "code",
   "execution_count": 2,
   "metadata": {
    "collapsed": false
   },
   "outputs": [],
   "source": [
    "%load_ext rpy2.ipython\n",
    "%load_ext pushnote"
   ]
  },
  {
   "cell_type": "code",
   "execution_count": 3,
   "metadata": {
    "collapsed": false
   },
   "outputs": [
    {
     "name": "stderr",
     "output_type": "stream",
     "text": [
      "/opt/anaconda/lib/python2.7/site-packages/rpy2/robjects/functions.py:106: UserWarning: \n",
      "Attaching package: ‘dplyr’\n",
      "\n",
      "\n",
      "  res = super(Function, self).__call__(*new_args, **new_kwargs)\n",
      "/opt/anaconda/lib/python2.7/site-packages/rpy2/robjects/functions.py:106: UserWarning: The following objects are masked from ‘package:stats’:\n",
      "\n",
      "    filter, lag\n",
      "\n",
      "\n",
      "  res = super(Function, self).__call__(*new_args, **new_kwargs)\n",
      "/opt/anaconda/lib/python2.7/site-packages/rpy2/robjects/functions.py:106: UserWarning: The following objects are masked from ‘package:base’:\n",
      "\n",
      "    intersect, setdiff, setequal, union\n",
      "\n",
      "\n",
      "  res = super(Function, self).__call__(*new_args, **new_kwargs)\n"
     ]
    }
   ],
   "source": [
    "%%R\n",
    "library(ggplot2)\n",
    "library(dplyr)\n",
    "library(tidyr)\n",
    "library(gridExtra)"
   ]
  },
  {
   "cell_type": "markdown",
   "metadata": {},
   "source": [
    "### BD min/max"
   ]
  },
  {
   "cell_type": "code",
   "execution_count": 4,
   "metadata": {
    "collapsed": false
   },
   "outputs": [
    {
     "name": "stdout",
     "output_type": "stream",
     "text": [
      "Min BD: 1.67323\n",
      "Max BD: 1.7744\n"
     ]
    }
   ],
   "source": [
    "## min G+C cutoff\n",
    "min_GC = 13.5\n",
    "## max G+C cutoff\n",
    "max_GC = 80\n",
    "## max G+C shift\n",
    "max_13C_shift_in_BD = 0.036\n",
    "\n",
    "\n",
    "min_BD = min_GC/100.0 * 0.098 + 1.66    \n",
    "max_BD = max_GC/100.0 * 0.098 + 1.66    \n",
    "\n",
    "max_BD = max_BD + max_13C_shift_in_BD\n",
    "\n",
    "print 'Min BD: {}'.format(min_BD)\n",
    "print 'Max BD: {}'.format(max_BD)"
   ]
  },
  {
   "cell_type": "markdown",
   "metadata": {},
   "source": [
    "# Nestly\n",
    "\n",
    "* assuming fragments already simulated"
   ]
  },
  {
   "cell_type": "code",
   "execution_count": 5,
   "metadata": {
    "collapsed": false
   },
   "outputs": [],
   "source": [
    "# paths\n",
    "workDir = '/home/nick/notebook/SIPSim/dev/bac_genome1147/'\n",
    "buildDir = os.path.join(workDir, 'atomIncorp_taxaIncorp_atomPerc15')\n",
    "R_dir = '/home/nick/notebook/SIPSim/lib/R/'\n",
    "\n",
    "fragFile = '/home/nick/notebook/SIPSim/dev/bac_genome1147/validation/ampFrags_kde.pkl'\n",
    "genome_index = '/var/seq_data/ncbi_db/genome/Jan2016/bac_complete_spec-rep1_rn/genome_index.txt'"
   ]
  },
  {
   "cell_type": "code",
   "execution_count": 6,
   "metadata": {
    "collapsed": false
   },
   "outputs": [
    {
     "name": "stdout",
     "output_type": "stream",
     "text": [
      "/home/nick/notebook/SIPSim/dev/bac_genome1147/atomIncorp_taxaIncorp_atomPerc15\n"
     ]
    }
   ],
   "source": [
    "if not os.path.isdir(buildDir):\n",
    "    os.makedirs(buildDir)\n",
    "%cd $buildDir"
   ]
  },
  {
   "cell_type": "code",
   "execution_count": 7,
   "metadata": {
    "collapsed": false
   },
   "outputs": [
    {
     "name": "stdout",
     "output_type": "stream",
     "text": [
      "1\tcontrol\r\n",
      "2\ttreatment\r\n",
      "3\tcontrol\r\n",
      "4\ttreatment\r\n",
      "5\tcontrol\r\n",
      "6\ttreatment\r\n"
     ]
    }
   ],
   "source": [
    "# making an experimental design file for qSIP\n",
    "x = range(1,7)\n",
    "y = ['control', 'treatment']\n",
    "\n",
    "expDesignFile = os.path.join(buildDir, 'qSIP_exp_design.txt')\n",
    "with open(expDesignFile, 'wb') as outFH:\n",
    "    for i,z in itertools.izip(x,itertools.cycle(y)):\n",
    "        line = '\\t'.join([str(i),z])\n",
    "        outFH.write(line + '\\n')\n",
    "\n",
    "!head $expDesignFile       "
   ]
  },
  {
   "cell_type": "markdown",
   "metadata": {},
   "source": [
    "## Nestly params"
   ]
  },
  {
   "cell_type": "code",
   "execution_count": 8,
   "metadata": {
    "collapsed": false
   },
   "outputs": [],
   "source": [
    "# building tree structure\n",
    "nest = nestly.Nest()\n",
    "\n",
    "# varying params: test\n",
    "#nest.add('percIncorp', [100])\n",
    "#nest.add('percTaxa', [10])\n",
    "#nest.add('rep', range(1,4))\n",
    "\n",
    "# varying params\n",
    "nest.add('percIncorp', [15])\n",
    "nest.add('percTaxa', [1, 5, 10, 25, 50])\n",
    "nest.add('rep', range(1,11))\n",
    "\n",
    "## set params\n",
    "nest.add('abs', ['1e9'], create_dir=False)\n",
    "nest.add('np', [10], create_dir=False)\n",
    "nest.add('Monte_rep', [100000], create_dir=False)\n",
    "nest.add('subsample_dist', ['lognormal'], create_dir=False)\n",
    "nest.add('subsample_mean', [9.432], create_dir=False)\n",
    "nest.add('subsample_scale', [0.5], create_dir=False)\n",
    "nest.add('subsample_min', [10000], create_dir=False)\n",
    "nest.add('subsample_max', [30000], create_dir=False)\n",
    "nest.add('min_BD', [min_BD], create_dir=False)\n",
    "nest.add('max_BD', [max_BD], create_dir=False)\n",
    "nest.add('DBL_scaling', [0.5], create_dir=False)\n",
    "nest.add('bandwidth', [0.8], create_dir=False)\n",
    "nest.add('heavy_BD_min', [1.71], create_dir=False)\n",
    "nest.add('heavy_BD_max', [1.75], create_dir=False)\n",
    "nest.add('topTaxaToPlot', [100], create_dir=False)\n",
    "nest.add('padj', [0.1], create_dir=False)\n",
    "nest.add('log2', [0.25], create_dir=False)\n",
    "\n",
    "### input/output files\n",
    "nest.add('buildDir', [buildDir], create_dir=False)\n",
    "nest.add('R_dir', [R_dir], create_dir=False)\n",
    "nest.add('genome_index', [genome_index], create_dir=False)\n",
    "nest.add('fragFile', [fragFile], create_dir=False)\n",
    "nest.add('exp_design', [expDesignFile], create_dir=False)\n",
    "\n",
    "\n",
    "# building directory tree\n",
    "nest.build(buildDir)\n",
    "\n",
    "# bash file to run\n",
    "bashFile = os.path.join(buildDir, 'SIPSimRun.sh')"
   ]
  },
  {
   "cell_type": "markdown",
   "metadata": {},
   "source": [
    "## Experimental design"
   ]
  },
  {
   "cell_type": "code",
   "execution_count": 9,
   "metadata": {
    "collapsed": false
   },
   "outputs": [
    {
     "data": {
      "text/plain": [
       "'/home/nick/notebook/SIPSim/dev/bac_genome1147/atomIncorp_taxaIncorp_atomPerc15/SIPSimRun_expDesign.sh'"
      ]
     },
     "execution_count": 9,
     "metadata": {},
     "output_type": "execute_result"
    }
   ],
   "source": [
    "bashFileTmp = os.path.splitext(bashFile)[0] + '_expDesign.sh'\n",
    "bashFileTmp"
   ]
  },
  {
   "cell_type": "code",
   "execution_count": 10,
   "metadata": {
    "collapsed": false
   },
   "outputs": [
    {
     "name": "stdout",
     "output_type": "stream",
     "text": [
      "Writing /home/nick/notebook/SIPSim/dev/bac_genome1147/atomIncorp_taxaIncorp_atomPerc15/SIPSimRun_expDesign.sh\n"
     ]
    }
   ],
   "source": [
    "%%writefile $bashFileTmp\n",
    "#!/bin/bash\n",
    "\n",
    "echo '#-- Experimental design --#'\n",
    "\n",
    "echo '# Making an isotope incorporation config file'\n",
    "echo '## 3 replicate gradients for control & treatment'\n",
    "SIPSim incorpConfigExample \\\n",
    "  --percIncorpUnif {percIncorp} \\\n",
    "  --n_reps 3 \\\n",
    "  > incorp.config\n",
    "\n",
    "echo '# Selecting incorporator taxa'\n",
    "echo '## This is to make the gradient replicates consistent (qSIP finds mean among replicates)'\n",
    "SIPSim KDE_selectTaxa \\\n",
    "    -p {percTaxa} \\\n",
    "    {fragFile} \\\n",
    "    > incorporators.txt\n",
    "\n",
    "echo '# Creating a community file (3 replicate control, 3 replicate treatment)'\n",
    "SIPSim communities \\\n",
    "    --config incorp.config \\\n",
    "    {genome_index} \\\n",
    "    > comm.txt    \n",
    "\n",
    "echo '# simulating gradient fractions'\n",
    "SIPSim gradient_fractions \\\n",
    "    --BD_min {min_BD} \\\n",
    "    --BD_max {max_BD} \\\n",
    "    comm.txt \\\n",
    "    > fracs.txt        "
   ]
  },
  {
   "cell_type": "code",
   "execution_count": 11,
   "metadata": {
    "collapsed": false
   },
   "outputs": [
    {
     "name": "stdout",
     "output_type": "stream",
     "text": [
      "2016-04-04 13:21:20,195 * INFO * Template: ./SIPSimRun_expDesign.sh\n",
      "2016-04-04 13:21:20,199 * INFO * [8667] Started ./SIPSimRun_expDesign.sh in /home/nick/notebook/SIPSim/dev/bac_genome1147/atomIncorp_taxaIncorp_atomPerc15/15/50/7\n",
      "2016-04-04 13:21:20,206 * INFO * [8669] Started ./SIPSimRun_expDesign.sh in /home/nick/notebook/SIPSim/dev/bac_genome1147/atomIncorp_taxaIncorp_atomPerc15/15/50/9\n",
      "2016-04-04 13:21:20,208 * INFO * [8671] Started ./SIPSimRun_expDesign.sh in /home/nick/notebook/SIPSim/dev/bac_genome1147/atomIncorp_taxaIncorp_atomPerc15/15/50/8\n",
      "2016-04-04 13:21:20,212 * INFO * [8672] Started ./SIPSimRun_expDesign.sh in /home/nick/notebook/SIPSim/dev/bac_genome1147/atomIncorp_taxaIncorp_atomPerc15/15/50/3\n",
      "2016-04-04 13:21:20,220 * INFO * [8674] Started ./SIPSimRun_expDesign.sh in /home/nick/notebook/SIPSim/dev/bac_genome1147/atomIncorp_taxaIncorp_atomPerc15/15/50/10\n",
      "2016-04-04 13:21:20,228 * INFO * [8676] Started ./SIPSimRun_expDesign.sh in /home/nick/notebook/SIPSim/dev/bac_genome1147/atomIncorp_taxaIncorp_atomPerc15/15/50/2\n",
      "2016-04-04 13:21:20,240 * INFO * [8678] Started ./SIPSimRun_expDesign.sh in /home/nick/notebook/SIPSim/dev/bac_genome1147/atomIncorp_taxaIncorp_atomPerc15/15/50/1\n",
      "2016-04-04 13:21:20,247 * INFO * [8681] Started ./SIPSimRun_expDesign.sh in /home/nick/notebook/SIPSim/dev/bac_genome1147/atomIncorp_taxaIncorp_atomPerc15/15/50/4\n",
      "2016-04-04 13:21:20,256 * INFO * [8683] Started ./SIPSimRun_expDesign.sh in /home/nick/notebook/SIPSim/dev/bac_genome1147/atomIncorp_taxaIncorp_atomPerc15/15/50/5\n",
      "2016-04-04 13:21:20,260 * INFO * [8684] Started ./SIPSimRun_expDesign.sh in /home/nick/notebook/SIPSim/dev/bac_genome1147/atomIncorp_taxaIncorp_atomPerc15/15/50/6\n",
      "2016-04-04 13:21:29,295 * INFO * [8667] /home/nick/notebook/SIPSim/dev/bac_genome1147/atomIncorp_taxaIncorp_atomPerc15/15/50/7 Finished with 0\n",
      "2016-04-04 13:21:29,298 * INFO * [9834] Started ./SIPSimRun_expDesign.sh in /home/nick/notebook/SIPSim/dev/bac_genome1147/atomIncorp_taxaIncorp_atomPerc15/15/25/7\n",
      "2016-04-04 13:21:29,331 * INFO * [8683] /home/nick/notebook/SIPSim/dev/bac_genome1147/atomIncorp_taxaIncorp_atomPerc15/15/50/5 Finished with 0\n",
      "2016-04-04 13:21:29,334 * INFO * [9836] Started ./SIPSimRun_expDesign.sh in /home/nick/notebook/SIPSim/dev/bac_genome1147/atomIncorp_taxaIncorp_atomPerc15/15/25/9\n",
      "2016-04-04 13:21:29,420 * INFO * [8676] /home/nick/notebook/SIPSim/dev/bac_genome1147/atomIncorp_taxaIncorp_atomPerc15/15/50/2 Finished with 0\n",
      "2016-04-04 13:21:29,422 * INFO * [9838] Started ./SIPSimRun_expDesign.sh in /home/nick/notebook/SIPSim/dev/bac_genome1147/atomIncorp_taxaIncorp_atomPerc15/15/25/8\n",
      "2016-04-04 13:21:29,461 * INFO * [8671] /home/nick/notebook/SIPSim/dev/bac_genome1147/atomIncorp_taxaIncorp_atomPerc15/15/50/8 Finished with 0\n",
      "2016-04-04 13:21:29,464 * INFO * [9840] Started ./SIPSimRun_expDesign.sh in /home/nick/notebook/SIPSim/dev/bac_genome1147/atomIncorp_taxaIncorp_atomPerc15/15/25/3\n",
      "2016-04-04 13:21:29,464 * INFO * [8672] /home/nick/notebook/SIPSim/dev/bac_genome1147/atomIncorp_taxaIncorp_atomPerc15/15/50/3 Finished with 0\n",
      "2016-04-04 13:21:29,465 * INFO * [9841] Started ./SIPSimRun_expDesign.sh in /home/nick/notebook/SIPSim/dev/bac_genome1147/atomIncorp_taxaIncorp_atomPerc15/15/25/10\n",
      "2016-04-04 13:21:29,468 * INFO * [8681] /home/nick/notebook/SIPSim/dev/bac_genome1147/atomIncorp_taxaIncorp_atomPerc15/15/50/4 Finished with 0\n",
      "2016-04-04 13:21:29,470 * INFO * [9844] Started ./SIPSimRun_expDesign.sh in /home/nick/notebook/SIPSim/dev/bac_genome1147/atomIncorp_taxaIncorp_atomPerc15/15/25/2\n",
      "2016-04-04 13:21:29,477 * INFO * [8684] /home/nick/notebook/SIPSim/dev/bac_genome1147/atomIncorp_taxaIncorp_atomPerc15/15/50/6 Finished with 0\n",
      "2016-04-04 13:21:29,479 * INFO * [9846] Started ./SIPSimRun_expDesign.sh in /home/nick/notebook/SIPSim/dev/bac_genome1147/atomIncorp_taxaIncorp_atomPerc15/15/25/1\n",
      "2016-04-04 13:21:29,589 * INFO * [8678] /home/nick/notebook/SIPSim/dev/bac_genome1147/atomIncorp_taxaIncorp_atomPerc15/15/50/1 Finished with 0\n",
      "2016-04-04 13:21:29,596 * INFO * [9848] Started ./SIPSimRun_expDesign.sh in /home/nick/notebook/SIPSim/dev/bac_genome1147/atomIncorp_taxaIncorp_atomPerc15/15/25/4\n",
      "2016-04-04 13:21:29,598 * INFO * [8669] /home/nick/notebook/SIPSim/dev/bac_genome1147/atomIncorp_taxaIncorp_atomPerc15/15/50/9 Finished with 0\n",
      "2016-04-04 13:21:29,604 * INFO * [9850] Started ./SIPSimRun_expDesign.sh in /home/nick/notebook/SIPSim/dev/bac_genome1147/atomIncorp_taxaIncorp_atomPerc15/15/25/5\n",
      "2016-04-04 13:21:29,616 * INFO * [8674] /home/nick/notebook/SIPSim/dev/bac_genome1147/atomIncorp_taxaIncorp_atomPerc15/15/50/10 Finished with 0\n",
      "2016-04-04 13:21:29,621 * INFO * [9852] Started ./SIPSimRun_expDesign.sh in /home/nick/notebook/SIPSim/dev/bac_genome1147/atomIncorp_taxaIncorp_atomPerc15/15/25/6\n",
      "2016-04-04 13:21:35,888 * INFO * [9846] /home/nick/notebook/SIPSim/dev/bac_genome1147/atomIncorp_taxaIncorp_atomPerc15/15/25/1 Finished with 0\n",
      "2016-04-04 13:21:35,890 * INFO * [10976] Started ./SIPSimRun_expDesign.sh in /home/nick/notebook/SIPSim/dev/bac_genome1147/atomIncorp_taxaIncorp_atomPerc15/15/10/7\n",
      "2016-04-04 13:21:35,972 * INFO * [9840] /home/nick/notebook/SIPSim/dev/bac_genome1147/atomIncorp_taxaIncorp_atomPerc15/15/25/3 Finished with 0\n",
      "2016-04-04 13:21:35,974 * INFO * [10996] Started ./SIPSimRun_expDesign.sh in /home/nick/notebook/SIPSim/dev/bac_genome1147/atomIncorp_taxaIncorp_atomPerc15/15/10/9\n",
      "2016-04-04 13:21:36,293 * INFO * [9841] /home/nick/notebook/SIPSim/dev/bac_genome1147/atomIncorp_taxaIncorp_atomPerc15/15/25/10 Finished with 0\n",
      "2016-04-04 13:21:36,295 * INFO * [11026] Started ./SIPSimRun_expDesign.sh in /home/nick/notebook/SIPSim/dev/bac_genome1147/atomIncorp_taxaIncorp_atomPerc15/15/10/8\n",
      "2016-04-04 13:21:36,295 * INFO * [9836] /home/nick/notebook/SIPSim/dev/bac_genome1147/atomIncorp_taxaIncorp_atomPerc15/15/25/9 Finished with 0\n",
      "2016-04-04 13:21:36,308 * INFO * [11027] Started ./SIPSimRun_expDesign.sh in /home/nick/notebook/SIPSim/dev/bac_genome1147/atomIncorp_taxaIncorp_atomPerc15/15/10/3\n",
      "2016-04-04 13:21:36,347 * INFO * [9838] /home/nick/notebook/SIPSim/dev/bac_genome1147/atomIncorp_taxaIncorp_atomPerc15/15/25/8 Finished with 0\n",
      "2016-04-04 13:21:36,349 * INFO * [11041] Started ./SIPSimRun_expDesign.sh in /home/nick/notebook/SIPSim/dev/bac_genome1147/atomIncorp_taxaIncorp_atomPerc15/15/10/10\n",
      "2016-04-04 13:21:36,357 * INFO * [9834] /home/nick/notebook/SIPSim/dev/bac_genome1147/atomIncorp_taxaIncorp_atomPerc15/15/25/7 Finished with 0\n",
      "2016-04-04 13:21:36,359 * INFO * [11043] Started ./SIPSimRun_expDesign.sh in /home/nick/notebook/SIPSim/dev/bac_genome1147/atomIncorp_taxaIncorp_atomPerc15/15/10/2\n",
      "2016-04-04 13:21:36,408 * INFO * [9852] /home/nick/notebook/SIPSim/dev/bac_genome1147/atomIncorp_taxaIncorp_atomPerc15/15/25/6 Finished with 0\n",
      "2016-04-04 13:21:36,416 * INFO * [11047] Started ./SIPSimRun_expDesign.sh in /home/nick/notebook/SIPSim/dev/bac_genome1147/atomIncorp_taxaIncorp_atomPerc15/15/10/1\n",
      "2016-04-04 13:21:36,468 * INFO * [9848] /home/nick/notebook/SIPSim/dev/bac_genome1147/atomIncorp_taxaIncorp_atomPerc15/15/25/4 Finished with 0\n",
      "2016-04-04 13:21:36,472 * INFO * [11049] Started ./SIPSimRun_expDesign.sh in /home/nick/notebook/SIPSim/dev/bac_genome1147/atomIncorp_taxaIncorp_atomPerc15/15/10/4\n",
      "2016-04-04 13:21:36,532 * INFO * [9844] /home/nick/notebook/SIPSim/dev/bac_genome1147/atomIncorp_taxaIncorp_atomPerc15/15/25/2 Finished with 0\n",
      "2016-04-04 13:21:36,540 * INFO * [11055] Started ./SIPSimRun_expDesign.sh in /home/nick/notebook/SIPSim/dev/bac_genome1147/atomIncorp_taxaIncorp_atomPerc15/15/10/5\n",
      "2016-04-04 13:21:36,740 * INFO * [9850] /home/nick/notebook/SIPSim/dev/bac_genome1147/atomIncorp_taxaIncorp_atomPerc15/15/25/5 Finished with 0\n",
      "2016-04-04 13:21:36,748 * INFO * [11094] Started ./SIPSimRun_expDesign.sh in /home/nick/notebook/SIPSim/dev/bac_genome1147/atomIncorp_taxaIncorp_atomPerc15/15/10/6\n",
      "2016-04-04 13:21:42,961 * INFO * [10996] /home/nick/notebook/SIPSim/dev/bac_genome1147/atomIncorp_taxaIncorp_atomPerc15/15/10/9 Finished with 0\n",
      "2016-04-04 13:21:42,962 * INFO * [12133] Started ./SIPSimRun_expDesign.sh in /home/nick/notebook/SIPSim/dev/bac_genome1147/atomIncorp_taxaIncorp_atomPerc15/15/1/7\n",
      "2016-04-04 13:21:42,988 * INFO * [10976] /home/nick/notebook/SIPSim/dev/bac_genome1147/atomIncorp_taxaIncorp_atomPerc15/15/10/7 Finished with 0\n",
      "2016-04-04 13:21:43,000 * INFO * [12144] Started ./SIPSimRun_expDesign.sh in /home/nick/notebook/SIPSim/dev/bac_genome1147/atomIncorp_taxaIncorp_atomPerc15/15/1/9\n",
      "2016-04-04 13:21:43,530 * INFO * [11043] /home/nick/notebook/SIPSim/dev/bac_genome1147/atomIncorp_taxaIncorp_atomPerc15/15/10/2 Finished with 0\n",
      "2016-04-04 13:21:43,536 * INFO * [12260] Started ./SIPSimRun_expDesign.sh in /home/nick/notebook/SIPSim/dev/bac_genome1147/atomIncorp_taxaIncorp_atomPerc15/15/1/8\n",
      "2016-04-04 13:21:43,536 * INFO * [11027] /home/nick/notebook/SIPSim/dev/bac_genome1147/atomIncorp_taxaIncorp_atomPerc15/15/10/3 Finished with 0\n",
      "2016-04-04 13:21:43,541 * INFO * [12261] Started ./SIPSimRun_expDesign.sh in /home/nick/notebook/SIPSim/dev/bac_genome1147/atomIncorp_taxaIncorp_atomPerc15/15/1/3\n",
      "2016-04-04 13:21:43,542 * INFO * [11049] /home/nick/notebook/SIPSim/dev/bac_genome1147/atomIncorp_taxaIncorp_atomPerc15/15/10/4 Finished with 0\n",
      "2016-04-04 13:21:43,543 * INFO * [12264] Started ./SIPSimRun_expDesign.sh in /home/nick/notebook/SIPSim/dev/bac_genome1147/atomIncorp_taxaIncorp_atomPerc15/15/1/10\n",
      "2016-04-04 13:21:43,636 * INFO * [11055] /home/nick/notebook/SIPSim/dev/bac_genome1147/atomIncorp_taxaIncorp_atomPerc15/15/10/5 Finished with 0\n",
      "2016-04-04 13:21:43,640 * INFO * [12268] Started ./SIPSimRun_expDesign.sh in /home/nick/notebook/SIPSim/dev/bac_genome1147/atomIncorp_taxaIncorp_atomPerc15/15/1/2\n",
      "2016-04-04 13:21:43,686 * INFO * [11047] /home/nick/notebook/SIPSim/dev/bac_genome1147/atomIncorp_taxaIncorp_atomPerc15/15/10/1 Finished with 0\n",
      "2016-04-04 13:21:43,696 * INFO * [12270] Started ./SIPSimRun_expDesign.sh in /home/nick/notebook/SIPSim/dev/bac_genome1147/atomIncorp_taxaIncorp_atomPerc15/15/1/1\n",
      "2016-04-04 13:21:43,699 * INFO * [11026] /home/nick/notebook/SIPSim/dev/bac_genome1147/atomIncorp_taxaIncorp_atomPerc15/15/10/8 Finished with 0\n",
      "2016-04-04 13:21:43,708 * INFO * [12272] Started ./SIPSimRun_expDesign.sh in /home/nick/notebook/SIPSim/dev/bac_genome1147/atomIncorp_taxaIncorp_atomPerc15/15/1/4\n",
      "**OUTPUT MUTED**"
     ]
    }
   ],
   "source": [
    "!chmod 777 $bashFileTmp\n",
    "!cd $workDir; \\\n",
    "    nestrun --template-file $bashFileTmp -d $buildDir --log-file exp_design.log -j 10"
   ]
  },
  {
   "cell_type": "code",
   "execution_count": 12,
   "metadata": {
    "collapsed": true
   },
   "outputs": [],
   "source": [
    "%pushnote exp_design complete: $buildDir"
   ]
  },
  {
   "cell_type": "markdown",
   "metadata": {},
   "source": [
    "## SIPSim pipeline"
   ]
  },
  {
   "cell_type": "code",
   "execution_count": 13,
   "metadata": {
    "collapsed": false
   },
   "outputs": [
    {
     "data": {
      "text/plain": [
       "'/home/nick/notebook/SIPSim/dev/bac_genome1147/atomIncorp_taxaIncorp_atomPerc15/SIPSimRun_SIPSim-pipeline.sh'"
      ]
     },
     "execution_count": 13,
     "metadata": {},
     "output_type": "execute_result"
    }
   ],
   "source": [
    "bashFileTmp = os.path.splitext(bashFile)[0] + '_SIPSim-pipeline.sh'\n",
    "bashFileTmp"
   ]
  },
  {
   "cell_type": "code",
   "execution_count": null,
   "metadata": {
    "collapsed": false
   },
   "outputs": [
    {
     "name": "stdout",
     "output_type": "stream",
     "text": [
      "Writing /home/nick/notebook/SIPSim/dev/bac_genome1147/atomIncorp_taxaIncorp_atomPerc15/SIPSimRun_SIPSim-pipeline.sh\n"
     ]
    }
   ],
   "source": [
    "%%writefile $bashFileTmp\n",
    "#!/bin/bash\n",
    "\n",
    "echo '#-- SIPSim pipeline --#'    \n",
    "    \n",
    "echo '# Adding diffusion'    \n",
    "SIPSim diffusion \\\n",
    "    -n {Monte_rep} \\\n",
    "    --bw {bandwidth} \\\n",
    "    --np {np} \\\n",
    "    {fragFile} \\\n",
    "    > ampFrags_KDE_dif.pkl    \n",
    "\n",
    "echo '# Adding DBL contamination; abundance-weighted smearing'\n",
    "SIPSim DBL \\\n",
    "    -n {Monte_rep} \\\n",
    "    --comm comm.txt \\\n",
    "    --commx {DBL_scaling} \\\n",
    "    --np {np} \\\n",
    "    ampFrags_KDE_dif.pkl \\\n",
    "    > ampFrags_KDE_dif_DBL.pkl \n",
    "\n",
    "echo '# Adding isotope incorporation to BD distribution'\n",
    "SIPSim isotope_incorp \\\n",
    "    -n {Monte_rep} \\\n",
    "    --comm comm.txt \\\n",
    "    --taxa incorporators.txt \\\n",
    "    --np {np} \\\n",
    "    ampFrags_KDE_dif_DBL.pkl \\\n",
    "    incorp.config \\\n",
    "    > ampFrags_KDE_dif_DBL_inc.pkl\n",
    "\n",
    "echo '# Simulating an OTU table'\n",
    "SIPSim OTU_table \\\n",
    "    --abs {abs} \\\n",
    "    --np {np} \\\n",
    "    ampFrags_KDE_dif_DBL_inc.pkl \\\n",
    "    comm.txt \\\n",
    "    fracs.txt \\\n",
    "    > OTU_abs{abs}.txt\n",
    "    \n",
    "echo '# Simulating PCR'\n",
    "SIPSim OTU_PCR \\\n",
    "    OTU_abs{abs}.txt \\\n",
    "    > OTU_abs{abs}_PCR.txt    \n",
    "    \n",
    "echo '# Subsampling from the OTU table (simulating sequencing of the DNA pool)'\n",
    "SIPSim OTU_subsample \\\n",
    "    --dist {subsample_dist} \\\n",
    "    --dist_params mean:{subsample_mean},sigma:{subsample_scale} \\\n",
    "    --min_size {subsample_min} \\\n",
    "    --max_size {subsample_max} \\\n",
    "    OTU_abs{abs}_PCR.txt \\\n",
    "    > OTU_abs{abs}_PCR_sub.txt\n",
    "        \n",
    "echo '# Making a wide-formatted table'\n",
    "SIPSim OTU_wideLong -w \\\n",
    "    OTU_abs{abs}_PCR_sub.txt \\\n",
    "    > OTU_abs{abs}_PCR_sub_w.txt\n",
    "    \n",
    "echo '# Making metadata (phyloseq: sample_data)'\n",
    "SIPSim OTU_sampleData \\\n",
    "    OTU_abs{abs}_PCR_sub.txt \\\n",
    "    > OTU_abs{abs}_PCR_sub_meta.txt\n",
    "       \n",
    "\n",
    "#-- removing large intermediate files --#\n",
    "rm -f ampFrags_KDE_dif*.pkl"
   ]
  },
  {
   "cell_type": "code",
   "execution_count": null,
   "metadata": {
    "collapsed": false
   },
   "outputs": [
    {
     "name": "stdout",
     "output_type": "stream",
     "text": [
      "2016-04-04 13:21:58,222 * INFO * Template: ./SIPSimRun_SIPSim-pipeline.sh\n",
      "2016-04-04 13:21:58,224 * INFO * [14496] Started ./SIPSimRun_SIPSim-pipeline.sh in /home/nick/notebook/SIPSim/dev/bac_genome1147/atomIncorp_taxaIncorp_atomPerc15/15/50/7\n",
      "2016-04-04 13:21:58,225 * INFO * [14497] Started ./SIPSimRun_SIPSim-pipeline.sh in /home/nick/notebook/SIPSim/dev/bac_genome1147/atomIncorp_taxaIncorp_atomPerc15/15/50/9\n",
      "2016-04-04 13:57:30,372 * INFO * [14497] /home/nick/notebook/SIPSim/dev/bac_genome1147/atomIncorp_taxaIncorp_atomPerc15/15/50/9 Finished with 0\n",
      "2016-04-04 13:57:30,411 * INFO * [79465] Started ./SIPSimRun_SIPSim-pipeline.sh in /home/nick/notebook/SIPSim/dev/bac_genome1147/atomIncorp_taxaIncorp_atomPerc15/15/50/8\n",
      "2016-04-04 14:00:02,881 * INFO * [14496] /home/nick/notebook/SIPSim/dev/bac_genome1147/atomIncorp_taxaIncorp_atomPerc15/15/50/7 Finished with 0\n",
      "2016-04-04 14:00:02,902 * INFO * [79643] Started ./SIPSimRun_SIPSim-pipeline.sh in /home/nick/notebook/SIPSim/dev/bac_genome1147/atomIncorp_taxaIncorp_atomPerc15/15/50/3\n",
      "2016-04-04 14:38:50,051 * INFO * [79465] /home/nick/notebook/SIPSim/dev/bac_genome1147/atomIncorp_taxaIncorp_atomPerc15/15/50/8 Finished with 0\n",
      "2016-04-04 14:38:50,063 * INFO * [82896] Started ./SIPSimRun_SIPSim-pipeline.sh in /home/nick/notebook/SIPSim/dev/bac_genome1147/atomIncorp_taxaIncorp_atomPerc15/15/50/10\n",
      "2016-04-04 14:41:58,848 * INFO * [79643] /home/nick/notebook/SIPSim/dev/bac_genome1147/atomIncorp_taxaIncorp_atomPerc15/15/50/3 Finished with 0\n",
      "2016-04-04 14:41:58,869 * INFO * [83050] Started ./SIPSimRun_SIPSim-pipeline.sh in /home/nick/notebook/SIPSim/dev/bac_genome1147/atomIncorp_taxaIncorp_atomPerc15/15/50/2\n",
      "2016-04-04 15:15:56,662 * INFO * [82896] /home/nick/notebook/SIPSim/dev/bac_genome1147/atomIncorp_taxaIncorp_atomPerc15/15/50/10 Finished with 0\n",
      "2016-04-04 15:15:56,688 * INFO * [87446] Started ./SIPSimRun_SIPSim-pipeline.sh in /home/nick/notebook/SIPSim/dev/bac_genome1147/atomIncorp_taxaIncorp_atomPerc15/15/50/1\n",
      "2016-04-04 15:21:02,705 * INFO * [83050] /home/nick/notebook/SIPSim/dev/bac_genome1147/atomIncorp_taxaIncorp_atomPerc15/15/50/2 Finished with 0\n",
      "2016-04-04 15:21:02,716 * INFO * [88710] Started ./SIPSimRun_SIPSim-pipeline.sh in /home/nick/notebook/SIPSim/dev/bac_genome1147/atomIncorp_taxaIncorp_atomPerc15/15/50/4\n"
     ]
    }
   ],
   "source": [
    "!chmod 777 $bashFileTmp\n",
    "!cd $workDir; \\\n",
    "    nestrun --template-file $bashFileTmp -d $buildDir --log-file SIPSim_pipeline.log -j 2"
   ]
  },
  {
   "cell_type": "code",
   "execution_count": null,
   "metadata": {
    "collapsed": true
   },
   "outputs": [],
   "source": [
    "%pushnote SIPSim pipeline complete: $buildDir"
   ]
  },
  {
   "cell_type": "markdown",
   "metadata": {},
   "source": [
    "## Summary of simulated data"
   ]
  },
  {
   "cell_type": "code",
   "execution_count": null,
   "metadata": {
    "collapsed": false
   },
   "outputs": [],
   "source": [
    "bashFileTmp = os.path.splitext(bashFile)[0] + '_SIPSim-summary.sh'\n",
    "bashFileTmp"
   ]
  },
  {
   "cell_type": "code",
   "execution_count": null,
   "metadata": {
    "collapsed": false
   },
   "outputs": [],
   "source": [
    "%%writefile $bashFileTmp\n",
    "#!/bin/bash\n",
    "   \n",
    "# plotting 'raw' taxon abundances\n",
    "SIPSimR OTU_taxonAbund \\\n",
    "    OTU_abs{abs}.txt \\\n",
    "    -r {topTaxaToPlot} \\\n",
    "    -o OTU_abs{abs}\n",
    "\n",
    "# plotting 'sequenced' taxon abundances\n",
    "SIPSimR OTU_taxonAbund \\\n",
    "    OTU_abs{abs}_PCR_sub.txt \\\n",
    "    -r {topTaxaToPlot} \\\n",
    "    -o OTU_abs{abs}_PCR_sub"
   ]
  },
  {
   "cell_type": "code",
   "execution_count": null,
   "metadata": {
    "collapsed": false
   },
   "outputs": [],
   "source": [
    "!chmod 777 $bashFileTmp\n",
    "!cd $workDir; \\\n",
    "    nestrun --template-file $bashFileTmp -d $buildDir --log-file SIPSim_summary.log -j 10"
   ]
  },
  {
   "cell_type": "markdown",
   "metadata": {},
   "source": [
    "## HR-SIP: DESeq2"
   ]
  },
  {
   "cell_type": "code",
   "execution_count": null,
   "metadata": {
    "collapsed": false
   },
   "outputs": [],
   "source": [
    "bashFileTmp = os.path.splitext(bashFile)[0] + '_HRSIP.sh'\n",
    "bashFileTmp"
   ]
  },
  {
   "cell_type": "code",
   "execution_count": null,
   "metadata": {
    "collapsed": false
   },
   "outputs": [],
   "source": [
    "%%writefile $bashFileTmp\n",
    "#!/bin/bash\n",
    "\n",
    "# phyloseq\n",
    "## making phyloseq object from OTU table\n",
    "SIPSimR phyloseq_make \\\n",
    "    OTU_abs{abs}_PCR_sub_w.txt \\\n",
    "    -s OTU_abs{abs}_PCR_sub_meta.txt \\\n",
    "    > OTU_abs{abs}_PCR_sub.physeq\n",
    "\n",
    "## filtering phyloseq object to just 'heavy' fractions\n",
    "SIPSimR phyloseq_edit \\\n",
    "    OTU_abs{abs}_PCR_sub.physeq \\\n",
    "    --BD_min {heavy_BD_min} \\\n",
    "    --BD_max {heavy_BD_max} \\\n",
    "    > OTU_abs{abs}_PCR_sub_filt.physeq\n",
    "\n",
    "## making ordination\n",
    "SIPSimR phyloseq_ordination \\\n",
    "    OTU_abs{abs}_PCR_sub_filt.physeq \\\n",
    "    OTU_abs{abs}_PCR_sub_filt_bray-NMDS.pdf\n",
    "\n",
    "# DESeq2\n",
    "SIPSimR phyloseq_DESeq2 \\\n",
    "    --log2 {log2} \\\n",
    "    --hypo greater \\\n",
    "    --cont 1,3,5 \\\n",
    "    --treat 2,4,6 \\\n",
    "    OTU_abs{abs}_PCR_sub_filt.physeq \\\n",
    "    > OTU_abs{abs}_PCR_sub_filt_DESeq2"
   ]
  },
  {
   "cell_type": "code",
   "execution_count": null,
   "metadata": {
    "collapsed": false
   },
   "outputs": [],
   "source": [
    "!chmod 777 $bashFileTmp\n",
    "!cd $workDir; \\\n",
    "    nestrun --template-file $bashFileTmp -d $buildDir --log-file HR-SIP.log -j 10"
   ]
  },
  {
   "cell_type": "code",
   "execution_count": null,
   "metadata": {
    "collapsed": true
   },
   "outputs": [],
   "source": [
    "%pushnote HR-SIP complete: $buildDir"
   ]
  },
  {
   "cell_type": "markdown",
   "metadata": {},
   "source": [
    "## qSIP"
   ]
  },
  {
   "cell_type": "code",
   "execution_count": null,
   "metadata": {
    "collapsed": false
   },
   "outputs": [],
   "source": [
    "bashFileTmp = os.path.splitext(bashFile)[0] + '_qSIP.sh'\n",
    "bashFileTmp"
   ]
  },
  {
   "cell_type": "code",
   "execution_count": null,
   "metadata": {
    "collapsed": false
   },
   "outputs": [],
   "source": [
    "%%writefile $bashFileTmp\n",
    "#!/bin/bash\n",
    "\n",
    "\n",
    "# qSIP\n",
    "SIPSim qSIP \\\n",
    "    OTU_abs{abs}.txt \\\n",
    "    OTU_abs{abs}_PCR_sub.txt \\\n",
    "    > OTU_abs{abs}_PCR_sub_qSIP.txt\n",
    "        \n",
    "\n",
    "# qSIP: atom excess\n",
    "SIPSim qSIP_atomExcess \\\n",
    "    --np {np} \\\n",
    "    OTU_abs{abs}_PCR_sub_qSIP.txt \\\n",
    "    {exp_design} \\\n",
    "    > OTU_abs{abs}_PCR_sub_qSIP_atom.txt  "
   ]
  },
  {
   "cell_type": "code",
   "execution_count": null,
   "metadata": {
    "collapsed": false
   },
   "outputs": [
    {
     "name": "stdout",
     "output_type": "stream",
     "text": [
      "2016-04-05 07:34:06,827 * INFO * [148871] /home/nick/notebook/SIPSim/dev/bac_genome1147/atomIncorp_taxaIncorp_atomPerc15/15/50/1 Finished with 0\n",
      "2016-04-05 07:34:06,829 * INFO * [156456] Started ./SIPSimRun_qSIP.sh in /home/nick/notebook/SIPSim/dev/bac_genome1147/atomIncorp_taxaIncorp_atomPerc15/15/50/5\n",
      "2016-04-05 07:34:08,522 * INFO * [148887] /home/nick/notebook/SIPSim/dev/bac_genome1147/atomIncorp_taxaIncorp_atomPerc15/15/50/4 Finished with 0\n",
      "2016-04-05 07:34:08,523 * INFO * [156485] Started ./SIPSimRun_qSIP.sh in /home/nick/notebook/SIPSim/dev/bac_genome1147/atomIncorp_taxaIncorp_atomPerc15/15/50/6\n",
      "2016-04-05 08:21:48,379 * INFO * [156456] /home/nick/notebook/SIPSim/dev/bac_genome1147/atomIncorp_taxaIncorp_atomPerc15/15/50/5 Finished with 0\n",
      "2016-04-05 08:21:48,380 * INFO * [166133] Started ./SIPSimRun_qSIP.sh in /home/nick/notebook/SIPSim/dev/bac_genome1147/atomIncorp_taxaIncorp_atomPerc15/15/25/7\n",
      "2016-04-05 08:21:58,464 * INFO * [156485] /home/nick/notebook/SIPSim/dev/bac_genome1147/atomIncorp_taxaIncorp_atomPerc15/15/50/6 Finished with 0\n",
      "2016-04-05 08:21:58,465 * INFO * [166229] Started ./SIPSimRun_qSIP.sh in /home/nick/notebook/SIPSim/dev/bac_genome1147/atomIncorp_taxaIncorp_atomPerc15/15/25/9\n",
      "2016-04-05 09:08:39,218 * INFO * [166229] /home/nick/notebook/SIPSim/dev/bac_genome1147/atomIncorp_taxaIncorp_atomPerc15/15/25/9 Finished with 0\n",
      "2016-04-05 09:08:39,219 * INFO * [177758] Started ./SIPSimRun_qSIP.sh in /home/nick/notebook/SIPSim/dev/bac_genome1147/atomIncorp_taxaIncorp_atomPerc15/15/25/8\n",
      "2016-04-05 09:08:54,062 * INFO * [166133] /home/nick/notebook/SIPSim/dev/bac_genome1147/atomIncorp_taxaIncorp_atomPerc15/15/25/7 Finished with 0\n",
      "2016-04-05 09:08:54,064 * INFO * [177829] Started ./SIPSimRun_qSIP.sh in /home/nick/notebook/SIPSim/dev/bac_genome1147/atomIncorp_taxaIncorp_atomPerc15/15/25/3\n",
      "2016-04-05 09:57:17,724 * INFO * [177758] /home/nick/notebook/SIPSim/dev/bac_genome1147/atomIncorp_taxaIncorp_atomPerc15/15/25/8 Finished with 0\n",
      "2016-04-05 09:57:17,725 * INFO * [188897] Started ./SIPSimRun_qSIP.sh in /home/nick/notebook/SIPSim/dev/bac_genome1147/atomIncorp_taxaIncorp_atomPerc15/15/25/10\n",
      "2016-04-05 09:57:25,253 * INFO * [177829] /home/nick/notebook/SIPSim/dev/bac_genome1147/atomIncorp_taxaIncorp_atomPerc15/15/25/3 Finished with 0\n",
      "2016-04-05 09:57:25,256 * INFO * [189007] Started ./SIPSimRun_qSIP.sh in /home/nick/notebook/SIPSim/dev/bac_genome1147/atomIncorp_taxaIncorp_atomPerc15/15/25/2\n",
      "2016-04-05 10:46:00,431 * INFO * [188897] /home/nick/notebook/SIPSim/dev/bac_genome1147/atomIncorp_taxaIncorp_atomPerc15/15/25/10 Finished with 0\n",
      "2016-04-05 10:46:00,433 * INFO * [197443] Started ./SIPSimRun_qSIP.sh in /home/nick/notebook/SIPSim/dev/bac_genome1147/atomIncorp_taxaIncorp_atomPerc15/15/25/1\n",
      "2016-04-05 10:46:05,552 * INFO * [189007] /home/nick/notebook/SIPSim/dev/bac_genome1147/atomIncorp_taxaIncorp_atomPerc15/15/25/2 Finished with 0\n",
      "2016-04-05 10:46:05,554 * INFO * [197473] Started ./SIPSimRun_qSIP.sh in /home/nick/notebook/SIPSim/dev/bac_genome1147/atomIncorp_taxaIncorp_atomPerc15/15/25/4\n",
      "2016-04-05 11:23:18,961 * INFO * [197443] /home/nick/notebook/SIPSim/dev/bac_genome1147/atomIncorp_taxaIncorp_atomPerc15/15/25/1 Finished with 0\n",
      "2016-04-05 11:23:18,963 * INFO * [212045] Started ./SIPSimRun_qSIP.sh in /home/nick/notebook/SIPSim/dev/bac_genome1147/atomIncorp_taxaIncorp_atomPerc15/15/25/5\n",
      "2016-04-05 11:24:37,371 * INFO * [197473] /home/nick/notebook/SIPSim/dev/bac_genome1147/atomIncorp_taxaIncorp_atomPerc15/15/25/4 Finished with 0\n",
      "2016-04-05 11:24:37,372 * INFO * [213623] Started ./SIPSimRun_qSIP.sh in /home/nick/notebook/SIPSim/dev/bac_genome1147/atomIncorp_taxaIncorp_atomPerc15/15/25/6\n",
      "2016-04-05 11:56:16,353 * INFO * [212045] /home/nick/notebook/SIPSim/dev/bac_genome1147/atomIncorp_taxaIncorp_atomPerc15/15/25/5 Finished with 0\n",
      "2016-04-05 11:56:16,354 * INFO * [243525] Started ./SIPSimRun_qSIP.sh in /home/nick/notebook/SIPSim/dev/bac_genome1147/atomIncorp_taxaIncorp_atomPerc15/15/10/7\n",
      "2016-04-05 11:58:08,496 * INFO * [213623] /home/nick/notebook/SIPSim/dev/bac_genome1147/atomIncorp_taxaIncorp_atomPerc15/15/25/6 Finished with 0\n",
      "2016-04-05 11:58:08,498 * INFO * [243987] Started ./SIPSimRun_qSIP.sh in /home/nick/notebook/SIPSim/dev/bac_genome1147/atomIncorp_taxaIncorp_atomPerc15/15/10/9\n",
      "2016-04-05 12:38:19,829 * INFO * [243525] /home/nick/notebook/SIPSim/dev/bac_genome1147/atomIncorp_taxaIncorp_atomPerc15/15/10/7 Finished with 0\n",
      "2016-04-05 12:38:19,831 * INFO * [29711] Started ./SIPSimRun_qSIP.sh in /home/nick/notebook/SIPSim/dev/bac_genome1147/atomIncorp_taxaIncorp_atomPerc15/15/10/8\n",
      "2016-04-05 12:39:29,251 * INFO * [243987] /home/nick/notebook/SIPSim/dev/bac_genome1147/atomIncorp_taxaIncorp_atomPerc15/15/10/9 Finished with 0\n",
      "2016-04-05 12:39:29,253 * INFO * [29793] Started ./SIPSimRun_qSIP.sh in /home/nick/notebook/SIPSim/dev/bac_genome1147/atomIncorp_taxaIncorp_atomPerc15/15/10/3\n",
      "2016-04-05 13:11:24,167 * INFO * [29711] /home/nick/notebook/SIPSim/dev/bac_genome1147/atomIncorp_taxaIncorp_atomPerc15/15/10/8 Finished with 0\n",
      "2016-04-05 13:11:24,169 * INFO * [38751] Started ./SIPSimRun_qSIP.sh in /home/nick/notebook/SIPSim/dev/bac_genome1147/atomIncorp_taxaIncorp_atomPerc15/15/10/10\n",
      "2016-04-05 13:12:34,872 * INFO * [29793] /home/nick/notebook/SIPSim/dev/bac_genome1147/atomIncorp_taxaIncorp_atomPerc15/15/10/3 Finished with 0\n",
      "2016-04-05 13:12:34,874 * INFO * [39181] Started ./SIPSimRun_qSIP.sh in /home/nick/notebook/SIPSim/dev/bac_genome1147/atomIncorp_taxaIncorp_atomPerc15/15/10/2\n",
      "2016-04-05 13:43:41,459 * INFO * [38751] /home/nick/notebook/SIPSim/dev/bac_genome1147/atomIncorp_taxaIncorp_atomPerc15/15/10/10 Finished with 0\n",
      "2016-04-05 13:43:41,461 * INFO * [49756] Started ./SIPSimRun_qSIP.sh in /home/nick/notebook/SIPSim/dev/bac_genome1147/atomIncorp_taxaIncorp_atomPerc15/15/10/1\n",
      "2016-04-05 13:44:31,950 * INFO * [39181] /home/nick/notebook/SIPSim/dev/bac_genome1147/atomIncorp_taxaIncorp_atomPerc15/15/10/2 Finished with 0\n",
      "2016-04-05 13:44:31,952 * INFO * [49834] Started ./SIPSimRun_qSIP.sh in /home/nick/notebook/SIPSim/dev/bac_genome1147/atomIncorp_taxaIncorp_atomPerc15/15/10/4\n",
      "2016-04-05 14:17:55,144 * INFO * [49756] /home/nick/notebook/SIPSim/dev/bac_genome1147/atomIncorp_taxaIncorp_atomPerc15/15/10/1 Finished with 0\n",
      "2016-04-05 14:17:55,146 * INFO * [66726] Started ./SIPSimRun_qSIP.sh in /home/nick/notebook/SIPSim/dev/bac_genome1147/atomIncorp_taxaIncorp_atomPerc15/15/10/5\n",
      "2016-04-05 14:18:33,566 * INFO * [49834] /home/nick/notebook/SIPSim/dev/bac_genome1147/atomIncorp_taxaIncorp_atomPerc15/15/10/4 Finished with 0\n",
      "2016-04-05 14:18:33,567 * INFO * [67170] Started ./SIPSimRun_qSIP.sh in /home/nick/notebook/SIPSim/dev/bac_genome1147/atomIncorp_taxaIncorp_atomPerc15/15/10/6\n",
      "2016-04-05 14:59:52,302 * INFO * [66726] /home/nick/notebook/SIPSim/dev/bac_genome1147/atomIncorp_taxaIncorp_atomPerc15/15/10/5 Finished with 0\n",
      "2016-04-05 14:59:52,303 * INFO * [80574] Started ./SIPSimRun_qSIP.sh in /home/nick/notebook/SIPSim/dev/bac_genome1147/atomIncorp_taxaIncorp_atomPerc15/15/1/7\n",
      "2016-04-05 15:00:27,830 * INFO * [67170] /home/nick/notebook/SIPSim/dev/bac_genome1147/atomIncorp_taxaIncorp_atomPerc15/15/10/6 Finished with 0\n",
      "2016-04-05 15:00:27,831 * INFO * [80643] Started ./SIPSimRun_qSIP.sh in /home/nick/notebook/SIPSim/dev/bac_genome1147/atomIncorp_taxaIncorp_atomPerc15/15/1/9\n"
     ]
    }
   ],
   "source": [
    "!chmod 777 $bashFileTmp\n",
    "!cd $workDir; \\\n",
    "    nestrun --template-file $bashFileTmp -d $buildDir --log-file qSIP.log -j 2"
   ]
  },
  {
   "cell_type": "code",
   "execution_count": null,
   "metadata": {
    "collapsed": true
   },
   "outputs": [],
   "source": [
    "%pushnote qSIP complete: $buildDir"
   ]
  },
  {
   "cell_type": "markdown",
   "metadata": {},
   "source": [
    "## Making confusion matrices"
   ]
  },
  {
   "cell_type": "code",
   "execution_count": null,
   "metadata": {
    "collapsed": false
   },
   "outputs": [],
   "source": [
    "bashFileTmp = os.path.splitext(bashFile)[0] + '_cMtx.sh'\n",
    "bashFileTmp"
   ]
  },
  {
   "cell_type": "code",
   "execution_count": null,
   "metadata": {
    "collapsed": false
   },
   "outputs": [],
   "source": [
    "%%writefile $bashFileTmp\n",
    "#!/bin/bash\n",
    "\n",
    "SIPSimR DESeq2_confuseMtx \\\n",
    "    --libs 2,4,6 \\\n",
    "    --padj {padj} \\\n",
    "    BD-shift_stats.txt \\\n",
    "    OTU_abs{abs}_PCR_sub_filt_DESeq2\n",
    "    \n",
    "SIPSimR qSIP_confuseMtx \\\n",
    "    --libs 2,4,6 \\\n",
    "    BD-shift_stats.txt \\\n",
    "    OTU_abs{abs}_PCR_sub_qSIP_atom.txt\n",
    "     \n",
    "SIPSimR heavy_confuseMtx \\\n",
    "    --libs 2,4,6 \\\n",
    "    BD-shift_stats.txt \\\n",
    "    OTU_abs{abs}_PCR_sub.txt"
   ]
  },
  {
   "cell_type": "code",
   "execution_count": null,
   "metadata": {
    "collapsed": false
   },
   "outputs": [],
   "source": [
    "!chmod 777 $bashFileTmp\n",
    "!cd $workDir; \\\n",
    "    nestrun --template-file $bashFileTmp -d $buildDir --log-file cMtx.log -j 10"
   ]
  },
  {
   "cell_type": "markdown",
   "metadata": {},
   "source": [
    "### Aggregating the confusion matrix data"
   ]
  },
  {
   "cell_type": "code",
   "execution_count": null,
   "metadata": {
    "collapsed": false
   },
   "outputs": [],
   "source": [
    "def agg_cMtx(prefix):\n",
    "    # all data\n",
    "    #!nestagg delim \\\n",
    "    #    -d $buildDir \\\n",
    "    #    -k percIncorp,percTaxa,rep \\\n",
    "    #    -o $prefix-cMtx_data.txt \\\n",
    "    #    --tab \\\n",
    "    #    $prefix-cMtx_data.txt\n",
    "\n",
    "    # overall\n",
    "    x = prefix + '-cMtx_overall.txt'\n",
    "    !nestagg delim \\\n",
    "        -d $buildDir \\\n",
    "        -k percIncorp,percTaxa,rep \\\n",
    "        -o $x \\\n",
    "        --tab \\\n",
    "        $x\n",
    "\n",
    "    # by class\n",
    "    x = prefix + '-cMtx_byClass.txt'\n",
    "    !nestagg delim \\\n",
    "        -d $buildDir \\\n",
    "        -k percIncorp,percTaxa,rep \\\n",
    "        -o $x \\\n",
    "        --tab \\\n",
    "        $x\n",
    "        \n",
    "agg_cMtx('DESeq2') \n",
    "agg_cMtx('qSIP') \n",
    "agg_cMtx('heavy') "
   ]
  },
  {
   "cell_type": "code",
   "execution_count": null,
   "metadata": {
    "collapsed": true
   },
   "outputs": [],
   "source": [
    "%pushnote atomIncorp_taxaIncorp_atomPerc15 complete!"
   ]
  },
  {
   "cell_type": "markdown",
   "metadata": {},
   "source": [
    "***\n",
    "# --End of simulation--#\n",
    "***"
   ]
  },
  {
   "cell_type": "markdown",
   "metadata": {},
   "source": [
    "# Plotting results"
   ]
  },
  {
   "cell_type": "code",
   "execution_count": 33,
   "metadata": {
    "collapsed": false
   },
   "outputs": [
    {
     "data": {
      "text/plain": [
       "['/home/nick/notebook/SIPSim/dev/bac_genome1147/atomIncorp_taxaIncorp_atomPerc15/DESeq2-cMtx_byClass.txt',\n",
       " '/home/nick/notebook/SIPSim/dev/bac_genome1147/atomIncorp_taxaIncorp_atomPerc15/qSIP-cMtx_byClass.txt',\n",
       " '/home/nick/notebook/SIPSim/dev/bac_genome1147/atomIncorp_taxaIncorp_atomPerc15/heavy-cMtx_byClass.txt']"
      ]
     },
     "execution_count": 33,
     "metadata": {},
     "output_type": "execute_result"
    }
   ],
   "source": [
    "F = os.path.join(buildDir, '*-cMtx_byClass.txt')\n",
    "files = glob.glob(F)\n",
    "files"
   ]
  },
  {
   "cell_type": "code",
   "execution_count": 34,
   "metadata": {
    "collapsed": false
   },
   "outputs": [
    {
     "data": {
      "text/plain": [
       "  library      variables values percIncorp percTaxa rep                    file\n",
       "1       2    Sensitivity      0         15       50   7 DESeq2-cMtx_byClass.txt\n",
       "2       2    Specificity      1         15       50   7 DESeq2-cMtx_byClass.txt\n",
       "3       2 Pos Pred Value     NA         15       50   7 DESeq2-cMtx_byClass.txt\n",
       "  method\n",
       "1 DESeq2\n",
       "2 DESeq2\n",
       "3 DESeq2\n"
      ]
     },
     "metadata": {},
     "output_type": "display_data"
    }
   ],
   "source": [
    "%%R -i files\n",
    "\n",
    "df_byClass = list()\n",
    "for (f in files){\n",
    "    ff = strsplit(f, '/') %>% unlist\n",
    "    fff = ff[length(ff)]\n",
    "    df_byClass[[fff]] = read.delim(f, sep='\\t')\n",
    "}\n",
    "\n",
    "df_byClass = do.call(rbind, df_byClass)\n",
    "df_byClass$file = gsub('\\\\.[0-9]+$', '', rownames(df_byClass))\n",
    "df_byClass$method = gsub('-.+', '', df_byClass$file)\n",
    "rownames(df_byClass) = 1:nrow(df_byClass)\n",
    "\n",
    "df_byClass %>% head(n=3)"
   ]
  },
  {
   "cell_type": "code",
   "execution_count": 35,
   "metadata": {
    "collapsed": false
   },
   "outputs": [
    {
     "data": {
      "text/plain": [
       "  library      variables values percIncorp percTaxa rep                    file\n",
       "1       2    Sensitivity      0         15       50   7 DESeq2-cMtx_byClass.txt\n",
       "2       2    Specificity      1         15       50   7 DESeq2-cMtx_byClass.txt\n",
       "3       2 Pos Pred Value     NA         15       50   7 DESeq2-cMtx_byClass.txt\n",
       "  method\n",
       "1 HR-SIP\n",
       "2 HR-SIP\n",
       "3 HR-SIP\n"
      ]
     },
     "metadata": {},
     "output_type": "display_data"
    }
   ],
   "source": [
    "%%R\n",
    "# renaming method\n",
    "rename = data.frame(method = c('DESeq2', 'heavy', 'qSIP'), \n",
    "                   method_new = c('HR-SIP', 'Heavy-SIP', 'qSIP'))\n",
    "\n",
    "df_byClass = inner_join(df_byClass, rename, c('method'='method')) %>%\n",
    "    select(-method) %>%\n",
    "    rename('method' = method_new) \n",
    "\n",
    "df_byClass %>% head(n=3)"
   ]
  },
  {
   "cell_type": "code",
   "execution_count": 36,
   "metadata": {
    "collapsed": false
   },
   "outputs": [
    {
     "data": {
      "image/png": "[encoded data removed]"
     },
     "metadata": {},
     "output_type": "display_data"
    }
   ],
   "source": [
    "%%R -w 800 -h 550\n",
    "# summarize by SIPSim rep & library rep\n",
    "df_byClass.s = df_byClass %>%\n",
    "    group_by(method, percIncorp, percTaxa, variables) %>%\n",
    "    summarize(mean_value = mean(values),\n",
    "              sd_value = sd(values))\n",
    "\n",
    "# plotting\n",
    "ggplot(df_byClass.s, aes(variables, mean_value, color=method,\n",
    "                         ymin=mean_value-sd_value,\n",
    "                         ymax=mean_value+sd_value)) +\n",
    "    geom_pointrange(alpha=0.8, size=0.2) +\n",
    "    labs(y='Value') +\n",
    "    facet_grid(percTaxa ~ percIncorp) +\n",
    "    theme_bw() +\n",
    "    theme(\n",
    "        text = element_text(size=16),\n",
    "        axis.title.x = element_blank(),\n",
    "        axis.text.x = element_text(angle=45, hjust=1)\n",
    "    )"
   ]
  },
  {
   "cell_type": "code",
   "execution_count": 39,
   "metadata": {
    "collapsed": false
   },
   "outputs": [
    {
     "data": {
      "image/png": "[encoded data removed]"
     },
     "metadata": {},
     "output_type": "display_data"
    }
   ],
   "source": [
    "%%R -w 500 -h 600\n",
    "# summarize by SIPSim rep & library rep\n",
    "vars = c('Balanced Accuracy', 'Sensitivity', 'Specificity')\n",
    "df_byClass.s.f = df_byClass.s %>%\n",
    "    filter(variables %in% vars) \n",
    "\n",
    "# plotting\n",
    "ggplot(df_byClass.s.f, aes(variables, mean_value, fill=method,\n",
    "                         ymin=mean_value-sd_value,\n",
    "                         ymax=mean_value+sd_value)) +\n",
    "    #geom_pointrange(alpha=0.8, size=0.2) +\n",
    "    geom_bar(stat='identity', position='dodge') +\n",
    "    geom_errorbar(stat='identity', position='dodge') +\n",
    "    scale_y_continuous(breaks=seq(0, 1, 0.2)) +\n",
    "    labs(y='Value') +\n",
    "    facet_grid(percTaxa ~ percIncorp) +\n",
    "    theme_bw() +\n",
    "    theme(\n",
    "        text = element_text(size=16),\n",
    "        axis.title.x = element_blank(),\n",
    "        axis.text.x = element_text(angle=45, hjust=1)\n",
    "    )"
   ]
  },
  {
   "cell_type": "markdown",
   "metadata": {},
   "source": [
    "***"
   ]
  },
  {
   "cell_type": "markdown",
   "metadata": {},
   "source": [
    "# --re-run--\n",
    "\n",
    "* for all simulations that died due to a memory error"
   ]
  },
  {
   "cell_type": "code",
   "execution_count": null,
   "metadata": {
    "collapsed": true
   },
   "outputs": [],
   "source": [
    "import glob"
   ]
  },
  {
   "cell_type": "markdown",
   "metadata": {},
   "source": [
    "## Function for detecting missing/empty files"
   ]
  },
  {
   "cell_type": "code",
   "execution_count": null,
   "metadata": {
    "collapsed": false
   },
   "outputs": [],
   "source": [
    "def find_missing_files(filepath, empty_cut=10000):\n",
    "    # directories\n",
    "    dirpath = os.path.split(filepath)[0]\n",
    "    chk = os.path.join(buildDir, dirpath) + '/'\n",
    "    D = set([os.path.split(x)[0] for x in glob.glob(chk)])\n",
    "    \n",
    "    # files\n",
    "    chk = os.path.join(buildDir, filepath)\n",
    "    F = glob.glob(chk)\n",
    "    \n",
    "    # check for missing files\n",
    "    Fd = set([os.path.split(f)[0] for f in F])\n",
    "    missing = D - Fd    \n",
    "    print 'Union length: {}'.format(len(D | Fd))\n",
    "    print 'Number of missing: {}'.format(len(missing))\n",
    "\n",
    "    # check for empty files\n",
    "    empties = [os.path.split(f)[0] for f in F if os.path.getsize(f) < empty_cut]\n",
    "    print 'Number of empties: {}'.format(len(empties))\n",
    "    \n",
    "    # ret\n",
    "    return {'missing' : list(missing), 'empty' : empties}\n",
    "    \n",
    "find_missing_files('*/*/*/OTU_abs1e9.txt')    "
   ]
  },
  {
   "cell_type": "markdown",
   "metadata": {},
   "source": [
    "## Finding all SIPSim pipeline incompletes"
   ]
  },
  {
   "cell_type": "code",
   "execution_count": null,
   "metadata": {
    "collapsed": false
   },
   "outputs": [],
   "source": [
    "pipeline_me = find_missing_files('*/*/*/OTU_abs1e9.txt')   "
   ]
  },
  {
   "cell_type": "code",
   "execution_count": null,
   "metadata": {
    "collapsed": false
   },
   "outputs": [],
   "source": [
    "pipeline_me"
   ]
  },
  {
   "cell_type": "code",
   "execution_count": null,
   "metadata": {
    "collapsed": false
   },
   "outputs": [],
   "source": [
    "# rerunning \n",
    "exe = '/home/nick/notebook/SIPSim/dev/bac_genome1147/atomIncorp_taxaIncorp/100/25/6/SIPSimRun_SIPSim-pipeline.sh'\n",
    "exe += ' 2> /home/nick/notebook/SIPSim/dev/bac_genome1147/atomIncorp_taxaIncorp/100/25/6/SIPSim_pipeline.log'\n",
    "!$exe \n",
    "%pushnote SIPSim pipeline rerun complete"
   ]
  },
  {
   "cell_type": "code",
   "execution_count": null,
   "metadata": {
    "collapsed": true
   },
   "outputs": [],
   "source": [
    "exe = '/home/nick/notebook/SIPSim/dev/bac_genome1147/atomIncorp_taxaIncorp/100/25/6/SIPSimRun_SIPSim-summary.sh'\n",
    "exe += ' 2> /home/nick/notebook/SIPSim/dev/bac_genome1147/atomIncorp_taxaIncorp/100/25/6/SIPSim_summary.log'\n",
    "!$exe \n",
    "%pushnote pipeline summary rerun complete"
   ]
  },
  {
   "cell_type": "code",
   "execution_count": null,
   "metadata": {
    "collapsed": true
   },
   "outputs": [],
   "source": [
    "# exe = '/home/nick/notebook/SIPSim/dev/bac_genome1147/atomIncorp_taxaIncorp/100/25/6/SIPSimRun_HRSIP.sh'\n",
    "# exe += ' 2> /home/nick/notebook/SIPSim/dev/bac_genome1147/atomIncorp_taxaIncorp/100/25/6/HR-SIP.log'\n",
    "# !$exe \n",
    "# %pushnote HRSIP rerun complete"
   ]
  },
  {
   "cell_type": "code",
   "execution_count": null,
   "metadata": {
    "collapsed": false
   },
   "outputs": [],
   "source": [
    "pipeline_me = find_missing_files('*/*/*/OTU_abs1e9.txt')  "
   ]
  },
  {
   "cell_type": "markdown",
   "metadata": {},
   "source": [
    "## Finding all HR-SIP incompletes"
   ]
  },
  {
   "cell_type": "code",
   "execution_count": null,
   "metadata": {
    "collapsed": false
   },
   "outputs": [],
   "source": [
    "HRSIP_me = find_missing_files('*/*/*/OTU_abs1e9_PCR_sub_filt_DESeq2') "
   ]
  },
  {
   "cell_type": "code",
   "execution_count": null,
   "metadata": {
    "collapsed": false
   },
   "outputs": [],
   "source": [
    "def run_HRSIP(dirpath):\n",
    "    cmd = 'cd {}; {} 2> {}'.format(dirpath, './SIPSimRun_HRSIP.sh', 'HR-SIP.log')\n",
    "    !$cmd\n",
    "\n",
    "for FL in HRSIP_me.values():\n",
    "    for D in FL:\n",
    "        print 'Processing: {}'.format(D)\n",
    "        run_HRSIP(D)"
   ]
  },
  {
   "cell_type": "code",
   "execution_count": null,
   "metadata": {
    "collapsed": false
   },
   "outputs": [],
   "source": [
    "HRSIP_me = find_missing_files('*/*/*/OTU_abs1e9_PCR_sub_filt_DESeq2') "
   ]
  },
  {
   "cell_type": "markdown",
   "metadata": {},
   "source": [
    "## Finding all qSIP pipeline incompletes"
   ]
  },
  {
   "cell_type": "code",
   "execution_count": null,
   "metadata": {
    "collapsed": false
   },
   "outputs": [],
   "source": [
    "qSIP_me = find_missing_files('*/*/*/*qSIP_atom.txt')  "
   ]
  },
  {
   "cell_type": "markdown",
   "metadata": {},
   "source": [
    "### re-running qSIP"
   ]
  },
  {
   "cell_type": "code",
   "execution_count": null,
   "metadata": {
    "collapsed": false
   },
   "outputs": [],
   "source": [
    "def run_qSIP(dirpath):\n",
    "    #cmd = os.path.join(dirpath, 'SIPSimRun_qSIP.sh')\n",
    "    #log = os.path.join(dirpath, 'qSIP.log')\n",
    "    cmd = 'cd {}; perl -pi -e \"s/--np 10/--np 20/\" {}'.format(dirpath, 'SIPSimRun_qSIP.sh')\n",
    "    !$cmd\n",
    "    cmd = 'cd {}; {} 2> {}'.format(dirpath, './SIPSimRun_qSIP.sh', 'qSIP.log')\n",
    "    !$cmd\n",
    "\n",
    "for FL in qSIP_me.values():\n",
    "    for D in FL:\n",
    "        print 'Processing: {}'.format(D)\n",
    "        run_qSIP(D)"
   ]
  },
  {
   "cell_type": "code",
   "execution_count": null,
   "metadata": {
    "collapsed": true
   },
   "outputs": [],
   "source": [
    "%pushnote qSIP rerun complete"
   ]
  },
  {
   "cell_type": "markdown",
   "metadata": {},
   "source": [
    "### re-running cMtx"
   ]
  },
  {
   "cell_type": "code",
   "execution_count": null,
   "metadata": {
    "collapsed": false
   },
   "outputs": [],
   "source": [
    "cMtx_me = find_missing_files('*/*/*/qSIP-cMtx_overall.txt', empty_cut=200)  "
   ]
  },
  {
   "cell_type": "code",
   "execution_count": null,
   "metadata": {
    "collapsed": false
   },
   "outputs": [],
   "source": [
    "def run_cMtx(dirpath):\n",
    "    cmd = 'cd {}; {} 2> {}'.format(dirpath, './SIPSimRun_cMtx.sh', 'cMtx.log')\n",
    "    !$cmd\n",
    "\n",
    "for FL in cMtx_me.values():\n",
    "    for D in FL:\n",
    "        print 'Processing: {}'.format(D)\n",
    "        run_cMtx(D)"
   ]
  },
  {
   "cell_type": "code",
   "execution_count": null,
   "metadata": {
    "collapsed": false
   },
   "outputs": [],
   "source": [
    "cMtx_me = find_missing_files('*/*/*/qSIP-cMtx_overall.txt', empty_cut=200)  "
   ]
  },
  {
   "cell_type": "code",
   "execution_count": null,
   "metadata": {
    "collapsed": true
   },
   "outputs": [],
   "source": [
    "%pushnote cMtx rerun complete"
   ]
  },
  {
   "cell_type": "code",
   "execution_count": null,
   "metadata": {
    "collapsed": true
   },
   "outputs": [],
   "source": []
  }
 ],
 "metadata": {
  "hide_input": true,
  "kernelspec": {
   "display_name": "Python 2",
   "language": "python",
   "name": "python2"
  },
  "language_info": {
   "codemirror_mode": {
    "name": "ipython",
    "version": 2
   },
   "file_extension": ".py",
   "mimetype": "text/x-python",
   "name": "python",
   "nbconvert_exporter": "python",
   "pygments_lexer": "ipython2",
   "version": "2.7.11"
  }
 },
 "nbformat": 4,
 "nbformat_minor": 0
}
