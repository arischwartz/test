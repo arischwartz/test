{
 "cells": [
  {
   "cell_type": "markdown",
   "metadata": {
    "code_folding": []
   },
   "source": [
    "# Goal\n",
    "\n",
    "Accuracy as a function of isotope incorporation & community similarity among replicate microcosms\n",
    "\n",
    "**Note:** just adding more levels to the original `microBetaDiv` simulation\n",
    "\n",
    "### Variable parameters:\n",
    "\n",
    "* Shared % of taxa\n",
    "  * 80, 85, 90, 95, 100\n",
    "* Permuted % of rank abundances\n",
    "  * 50, 40, 30\n",
    "* Atom % isotope incorporation\n",
    "  * 100\n",
    "* % taxa that incorporate\n",
    "  * 10\n",
    "* N-reps (stocastic: taxon abundances & which incorporate)\n",
    "  * 10 "
   ]
  },
  {
   "cell_type": "markdown",
   "metadata": {},
   "source": [
    "# Setting paths"
   ]
  },
  {
   "cell_type": "code",
   "execution_count": 1,
   "metadata": {
    "collapsed": false
   },
   "outputs": [],
   "source": [
    "import os\n",
    "\n",
    "# paths\n",
    "workDir = '/home/nick/notebook/SIPSim/dev/bac_genome1147/'\n",
    "buildDir = os.path.join(workDir, 'microBetaDiv_morePerm')\n",
    "R_dir = '/home/nick/notebook/SIPSim/lib/R/'\n",
    "\n",
    "fragFile = '/home/nick/notebook/SIPSim/dev/bac_genome1147/validation/ampFrags_kde.pkl'\n",
    "genome_index = '/var/seq_data/ncbi_db/genome/Jan2016/bac_complete_spec-rep1_rn/genome_index.txt'"
   ]
  },
  {
   "cell_type": "markdown",
   "metadata": {},
   "source": [
    "## Init"
   ]
  },
  {
   "cell_type": "code",
   "execution_count": 2,
   "metadata": {
    "collapsed": false
   },
   "outputs": [],
   "source": [
    "import glob\n",
    "import itertools\n",
    "import nestly"
   ]
  },
  {
   "cell_type": "code",
   "execution_count": 3,
   "metadata": {
    "collapsed": false
   },
   "outputs": [],
   "source": [
    "%load_ext rpy2.ipython\n",
    "%load_ext pushnote"
   ]
  },
  {
   "cell_type": "code",
   "execution_count": 4,
   "metadata": {
    "collapsed": false
   },
   "outputs": [
    {
     "name": "stderr",
     "output_type": "stream",
     "text": [
      "/opt/anaconda/lib/python2.7/site-packages/rpy2/robjects/functions.py:106: UserWarning: Need help getting started? Try the cookbook for R:\n",
      "http://www.cookbook-r.com/Graphs/\n",
      "\n",
      "  res = super(Function, self).__call__(*new_args, **new_kwargs)\n",
      "/opt/anaconda/lib/python2.7/site-packages/rpy2/robjects/functions.py:106: UserWarning: \n",
      "Attaching package: ‘dplyr’\n",
      "\n",
      "\n",
      "  res = super(Function, self).__call__(*new_args, **new_kwargs)\n",
      "/opt/anaconda/lib/python2.7/site-packages/rpy2/robjects/functions.py:106: UserWarning: The following objects are masked from ‘package:stats’:\n",
      "\n",
      "    filter, lag\n",
      "\n",
      "\n",
      "  res = super(Function, self).__call__(*new_args, **new_kwargs)\n",
      "/opt/anaconda/lib/python2.7/site-packages/rpy2/robjects/functions.py:106: UserWarning: The following objects are masked from ‘package:base’:\n",
      "\n",
      "    intersect, setdiff, setequal, union\n",
      "\n",
      "\n",
      "  res = super(Function, self).__call__(*new_args, **new_kwargs)\n"
     ]
    }
   ],
   "source": [
    "%%R\n",
    "library(ggplot2)\n",
    "library(dplyr)\n",
    "library(tidyr)\n",
    "library(gridExtra)"
   ]
  },
  {
   "cell_type": "code",
   "execution_count": 5,
   "metadata": {
    "collapsed": false
   },
   "outputs": [
    {
     "name": "stdout",
     "output_type": "stream",
     "text": [
      "/home/nick/notebook/SIPSim/dev/bac_genome1147/microBetaDiv_morePerm\n"
     ]
    }
   ],
   "source": [
    "if not os.path.isdir(buildDir):\n",
    "    os.makedirs(buildDir)\n",
    "%cd $buildDir"
   ]
  },
  {
   "cell_type": "markdown",
   "metadata": {},
   "source": [
    "### BD min/max"
   ]
  },
  {
   "cell_type": "code",
   "execution_count": 6,
   "metadata": {
    "collapsed": false
   },
   "outputs": [
    {
     "name": "stdout",
     "output_type": "stream",
     "text": [
      "Min BD: 1.67323\n",
      "Max BD: 1.7744\n"
     ]
    }
   ],
   "source": [
    "## min G+C cutoff\n",
    "min_GC = 13.5\n",
    "## max G+C cutoff\n",
    "max_GC = 80\n",
    "## max G+C shift\n",
    "max_13C_shift_in_BD = 0.036\n",
    "\n",
    "\n",
    "min_BD = min_GC/100.0 * 0.098 + 1.66    \n",
    "max_BD = max_GC/100.0 * 0.098 + 1.66    \n",
    "\n",
    "max_BD = max_BD + max_13C_shift_in_BD\n",
    "\n",
    "print 'Min BD: {}'.format(min_BD)\n",
    "print 'Max BD: {}'.format(max_BD)"
   ]
  },
  {
   "cell_type": "markdown",
   "metadata": {},
   "source": [
    "# Nestly\n",
    "\n",
    "* assuming fragments already simulated"
   ]
  },
  {
   "cell_type": "code",
   "execution_count": 7,
   "metadata": {
    "collapsed": false
   },
   "outputs": [
    {
     "name": "stdout",
     "output_type": "stream",
     "text": [
      "1\tcontrol\r\n",
      "2\ttreatment\r\n",
      "3\tcontrol\r\n",
      "4\ttreatment\r\n",
      "5\tcontrol\r\n",
      "6\ttreatment\r\n"
     ]
    }
   ],
   "source": [
    "# making an experimental design file for qSIP\n",
    "x = range(1,7)\n",
    "y = ['control', 'treatment']\n",
    "\n",
    "expDesignFile = os.path.join(buildDir, 'qSIP_exp_design.txt')\n",
    "with open(expDesignFile, 'wb') as outFH:\n",
    "    for i,z in itertools.izip(x,itertools.cycle(y)):\n",
    "        line = '\\t'.join([str(i),z])\n",
    "        outFH.write(line + '\\n')\n",
    "\n",
    "!head $expDesignFile       "
   ]
  },
  {
   "cell_type": "markdown",
   "metadata": {},
   "source": [
    "## Nestly params"
   ]
  },
  {
   "cell_type": "code",
   "execution_count": 10,
   "metadata": {
    "collapsed": false
   },
   "outputs": [],
   "source": [
    "# building tree structure\n",
    "nest = nestly.Nest()\n",
    "\n",
    "# varying params: test\n",
    "#nest.add('shared_perc', [90, 95])\n",
    "#nest.add('perm_perc', [5, 10])\n",
    "#nest.add('rep', range(1,4))\n",
    "\n",
    "# varying params\n",
    "nest.add('shared_perc', [80, 85, 90, 95, 100])\n",
    "nest.add('perm_perc', [30, 40, 50])\n",
    "nest.add('rep', range(1,11))\n",
    "\n",
    "## set params\n",
    "nest.add('percIncorp', [100], create_dir=False)\n",
    "nest.add('percTaxa', [10], create_dir=False)\n",
    "\n",
    "nest.add('abs', ['1e9'], create_dir=False)\n",
    "nest.add('np', [8], create_dir=False)\n",
    "nest.add('Monte_rep', [100000], create_dir=False)\n",
    "nest.add('subsample_dist', ['lognormal'], create_dir=False)\n",
    "nest.add('subsample_mean', [9.432], create_dir=False)\n",
    "nest.add('subsample_scale', [0.5], create_dir=False)\n",
    "nest.add('subsample_min', [10000], create_dir=False)\n",
    "nest.add('subsample_max', [30000], create_dir=False)\n",
    "nest.add('min_BD', [min_BD], create_dir=False)\n",
    "nest.add('max_BD', [max_BD], create_dir=False)\n",
    "nest.add('DBL_scaling', [0.5], create_dir=False)\n",
    "nest.add('bandwidth', [0.8], create_dir=False)\n",
    "nest.add('heavy_BD_min', [1.71], create_dir=False)\n",
    "nest.add('heavy_BD_max', [1.75], create_dir=False)\n",
    "nest.add('topTaxaToPlot', [100], create_dir=False)\n",
    "nest.add('padj', [0.1], create_dir=False)\n",
    "nest.add('log2', [0.25], create_dir=False)\n",
    "\n",
    "### input/output files\n",
    "nest.add('buildDir', [buildDir], create_dir=False)\n",
    "nest.add('R_dir', [R_dir], create_dir=False)\n",
    "nest.add('genome_index', [genome_index], create_dir=False)\n",
    "nest.add('fragFile', [fragFile], create_dir=False)\n",
    "nest.add('exp_design', [expDesignFile], create_dir=False)\n",
    "\n",
    "\n",
    "# building directory tree\n",
    "nest.build(buildDir)\n",
    "\n",
    "# bash file to run\n",
    "bashFile = os.path.join(buildDir, 'SIPSimRun.sh')"
   ]
  },
  {
   "cell_type": "markdown",
   "metadata": {},
   "source": [
    "## Experimental design"
   ]
  },
  {
   "cell_type": "code",
   "execution_count": 11,
   "metadata": {
    "collapsed": false
   },
   "outputs": [
    {
     "data": {
      "text/plain": [
       "'/home/nick/notebook/SIPSim/dev/bac_genome1147/microBetaDiv_morePerm/SIPSimRun_expDesign.sh'"
      ]
     },
     "execution_count": 11,
     "metadata": {},
     "output_type": "execute_result"
    }
   ],
   "source": [
    "bashFileTmp = os.path.splitext(bashFile)[0] + '_expDesign.sh'\n",
    "bashFileTmp"
   ]
  },
  {
   "cell_type": "code",
   "execution_count": 12,
   "metadata": {
    "collapsed": false
   },
   "outputs": [
    {
     "name": "stdout",
     "output_type": "stream",
     "text": [
      "Writing /home/nick/notebook/SIPSim/dev/bac_genome1147/microBetaDiv_morePerm/SIPSimRun_expDesign.sh\n"
     ]
    }
   ],
   "source": [
    "%%writefile $bashFileTmp\n",
    "#!/bin/bash\n",
    "\n",
    "echo '#-- Experimental design --#'\n",
    "\n",
    "echo '# Making an isotope incorporation config file'\n",
    "echo '## 3 replicate gradients for control & treatment'\n",
    "SIPSim incorpConfigExample \\\n",
    "  --percIncorpUnif {percIncorp} \\\n",
    "  --n_reps 3 \\\n",
    "  > incorp.config\n",
    "\n",
    "echo '# Selecting incorporator taxa'\n",
    "echo '## This is to make the gradient replicates consistent (qSIP finds mean among replicates)'\n",
    "SIPSim KDE_selectTaxa \\\n",
    "    -p {percTaxa} \\\n",
    "    {fragFile} \\\n",
    "    > incorporators.txt\n",
    "\n",
    "echo '# Creating a community file (3 replicate control, 3 replicate treatment)'\n",
    "SIPSim communities \\\n",
    "    --richness 950 \\\n",
    "    --config incorp.config \\\n",
    "    --shared_perc {shared_perc} \\\n",
    "    --perm_perc {perm_perc} \\\n",
    "    {genome_index} \\\n",
    "    > comm.txt    \n",
    "\n",
    "echo '# simulating gradient fractions'\n",
    "SIPSim gradient_fractions \\\n",
    "    --BD_min {min_BD} \\\n",
    "    --BD_max {max_BD} \\\n",
    "    comm.txt \\\n",
    "    > fracs.txt        "
   ]
  },
  {
   "cell_type": "code",
   "execution_count": 13,
   "metadata": {
    "collapsed": false
   },
   "outputs": [
    {
     "name": "stdout",
     "output_type": "stream",
     "text": [
      "2016-05-02 13:29:24,453 * INFO * Template: ./SIPSimRun_expDesign.sh\n",
      "2016-05-02 13:29:24,455 * INFO * [138568] Started ./SIPSimRun_expDesign.sh in /home/nick/notebook/SIPSim/dev/bac_genome1147/microBetaDiv_morePerm/80/30/7\n",
      "2016-05-02 13:29:24,457 * INFO * [138569] Started ./SIPSimRun_expDesign.sh in /home/nick/notebook/SIPSim/dev/bac_genome1147/microBetaDiv_morePerm/80/30/9\n",
      "2016-05-02 13:29:24,458 * INFO * [138571] Started ./SIPSimRun_expDesign.sh in /home/nick/notebook/SIPSim/dev/bac_genome1147/microBetaDiv_morePerm/80/30/8\n",
      "2016-05-02 13:29:24,463 * INFO * [138573] Started ./SIPSimRun_expDesign.sh in /home/nick/notebook/SIPSim/dev/bac_genome1147/microBetaDiv_morePerm/80/30/3\n",
      "2016-05-02 13:29:24,465 * INFO * [138575] Started ./SIPSimRun_expDesign.sh in /home/nick/notebook/SIPSim/dev/bac_genome1147/microBetaDiv_morePerm/80/30/10\n",
      "2016-05-02 13:29:24,471 * INFO * [138577] Started ./SIPSimRun_expDesign.sh in /home/nick/notebook/SIPSim/dev/bac_genome1147/microBetaDiv_morePerm/80/30/2\n",
      "2016-05-02 13:29:24,475 * INFO * [138579] Started ./SIPSimRun_expDesign.sh in /home/nick/notebook/SIPSim/dev/bac_genome1147/microBetaDiv_morePerm/80/30/1\n",
      "2016-05-02 13:29:24,479 * INFO * [138581] Started ./SIPSimRun_expDesign.sh in /home/nick/notebook/SIPSim/dev/bac_genome1147/microBetaDiv_morePerm/80/30/4\n",
      "2016-05-02 13:29:24,487 * INFO * [138583] Started ./SIPSimRun_expDesign.sh in /home/nick/notebook/SIPSim/dev/bac_genome1147/microBetaDiv_morePerm/80/30/5\n",
      "2016-05-02 13:29:24,495 * INFO * [138585] Started ./SIPSimRun_expDesign.sh in /home/nick/notebook/SIPSim/dev/bac_genome1147/microBetaDiv_morePerm/80/30/6\n",
      "2016-05-02 13:29:33,709 * INFO * [138571] /home/nick/notebook/SIPSim/dev/bac_genome1147/microBetaDiv_morePerm/80/30/8 Finished with 0\n",
      "2016-05-02 13:29:33,711 * INFO * [139720] Started ./SIPSimRun_expDesign.sh in /home/nick/notebook/SIPSim/dev/bac_genome1147/microBetaDiv_morePerm/80/50/7\n",
      "2016-05-02 13:29:33,797 * INFO * [138573] /home/nick/notebook/SIPSim/dev/bac_genome1147/microBetaDiv_morePerm/80/30/3 Finished with 0\n",
      "2016-05-02 13:29:33,799 * INFO * [139722] Started ./SIPSimRun_expDesign.sh in /home/nick/notebook/SIPSim/dev/bac_genome1147/microBetaDiv_morePerm/80/50/9\n",
      "2016-05-02 13:29:33,816 * INFO * [138583] /home/nick/notebook/SIPSim/dev/bac_genome1147/microBetaDiv_morePerm/80/30/5 Finished with 0\n",
      "2016-05-02 13:29:33,819 * INFO * [139724] Started ./SIPSimRun_expDesign.sh in /home/nick/notebook/SIPSim/dev/bac_genome1147/microBetaDiv_morePerm/80/50/8\n",
      "2016-05-02 13:29:33,921 * INFO * [138577] /home/nick/notebook/SIPSim/dev/bac_genome1147/microBetaDiv_morePerm/80/30/2 Finished with 0\n",
      "2016-05-02 13:29:33,923 * INFO * [139726] Started ./SIPSimRun_expDesign.sh in /home/nick/notebook/SIPSim/dev/bac_genome1147/microBetaDiv_morePerm/80/50/3\n",
      "2016-05-02 13:29:34,015 * INFO * [138581] /home/nick/notebook/SIPSim/dev/bac_genome1147/microBetaDiv_morePerm/80/30/4 Finished with 0\n",
      "2016-05-02 13:29:34,019 * INFO * [139730] Started ./SIPSimRun_expDesign.sh in /home/nick/notebook/SIPSim/dev/bac_genome1147/microBetaDiv_morePerm/80/50/10\n",
      "2016-05-02 13:29:34,054 * INFO * [138575] /home/nick/notebook/SIPSim/dev/bac_genome1147/microBetaDiv_morePerm/80/30/10 Finished with 0\n",
      "2016-05-02 13:29:34,056 * INFO * [139732] Started ./SIPSimRun_expDesign.sh in /home/nick/notebook/SIPSim/dev/bac_genome1147/microBetaDiv_morePerm/80/50/2\n",
      "2016-05-02 13:29:34,098 * INFO * [138585] /home/nick/notebook/SIPSim/dev/bac_genome1147/microBetaDiv_morePerm/80/30/6 Finished with 0\n",
      "2016-05-02 13:29:34,104 * INFO * [139734] Started ./SIPSimRun_expDesign.sh in /home/nick/notebook/SIPSim/dev/bac_genome1147/microBetaDiv_morePerm/80/50/1\n",
      "2016-05-02 13:29:34,105 * INFO * [138569] /home/nick/notebook/SIPSim/dev/bac_genome1147/microBetaDiv_morePerm/80/30/9 Finished with 0\n",
      "2016-05-02 13:29:34,107 * INFO * [139736] Started ./SIPSimRun_expDesign.sh in /home/nick/notebook/SIPSim/dev/bac_genome1147/microBetaDiv_morePerm/80/50/4\n",
      "2016-05-02 13:29:34,180 * INFO * [138579] /home/nick/notebook/SIPSim/dev/bac_genome1147/microBetaDiv_morePerm/80/30/1 Finished with 0\n",
      "2016-05-02 13:29:34,182 * INFO * [139749] Started ./SIPSimRun_expDesign.sh in /home/nick/notebook/SIPSim/dev/bac_genome1147/microBetaDiv_morePerm/80/50/5\n",
      "2016-05-02 13:29:34,353 * INFO * [138568] /home/nick/notebook/SIPSim/dev/bac_genome1147/microBetaDiv_morePerm/80/30/7 Finished with 0\n",
      "2016-05-02 13:29:34,359 * INFO * [139773] Started ./SIPSimRun_expDesign.sh in /home/nick/notebook/SIPSim/dev/bac_genome1147/microBetaDiv_morePerm/80/50/6\n",
      "2016-05-02 13:29:41,209 * INFO * [139722] /home/nick/notebook/SIPSim/dev/bac_genome1147/microBetaDiv_morePerm/80/50/9 Finished with 0\n",
      "2016-05-02 13:29:41,211 * INFO * [140746] Started ./SIPSimRun_expDesign.sh in /home/nick/notebook/SIPSim/dev/bac_genome1147/microBetaDiv_morePerm/80/40/7\n",
      "2016-05-02 13:29:41,554 * INFO * [139730] /home/nick/notebook/SIPSim/dev/bac_genome1147/microBetaDiv_morePerm/80/50/10 Finished with 0\n",
      "2016-05-02 13:29:41,556 * INFO * [140809] Started ./SIPSimRun_expDesign.sh in /home/nick/notebook/SIPSim/dev/bac_genome1147/microBetaDiv_morePerm/80/40/9\n",
      "2016-05-02 13:29:41,742 * INFO * [139773] /home/nick/notebook/SIPSim/dev/bac_genome1147/microBetaDiv_morePerm/80/50/6 Finished with 0\n",
      "2016-05-02 13:29:41,744 * INFO * [140838] Started ./SIPSimRun_expDesign.sh in /home/nick/notebook/SIPSim/dev/bac_genome1147/microBetaDiv_morePerm/80/40/8\n",
      "2016-05-02 13:29:41,889 * INFO * [139726] /home/nick/notebook/SIPSim/dev/bac_genome1147/microBetaDiv_morePerm/80/50/3 Finished with 0\n",
      "2016-05-02 13:29:41,891 * INFO * [140866] Started ./SIPSimRun_expDesign.sh in /home/nick/notebook/SIPSim/dev/bac_genome1147/microBetaDiv_morePerm/80/40/3\n",
      "2016-05-02 13:29:41,997 * INFO * [139724] /home/nick/notebook/SIPSim/dev/bac_genome1147/microBetaDiv_morePerm/80/50/8 Finished with 0\n",
      "2016-05-02 13:29:41,999 * INFO * [140884] Started ./SIPSimRun_expDesign.sh in /home/nick/notebook/SIPSim/dev/bac_genome1147/microBetaDiv_morePerm/80/40/10\n",
      "2016-05-02 13:29:42,134 * INFO * [139720] /home/nick/notebook/SIPSim/dev/bac_genome1147/microBetaDiv_morePerm/80/50/7 Finished with 0\n",
      "2016-05-02 13:29:42,136 * INFO * [140899] Started ./SIPSimRun_expDesign.sh in /home/nick/notebook/SIPSim/dev/bac_genome1147/microBetaDiv_morePerm/80/40/2\n",
      "2016-05-02 13:29:42,171 * INFO * [139732] /home/nick/notebook/SIPSim/dev/bac_genome1147/microBetaDiv_morePerm/80/50/2 Finished with 0\n",
      "2016-05-02 13:29:42,173 * INFO * [140901] Started ./SIPSimRun_expDesign.sh in /home/nick/notebook/SIPSim/dev/bac_genome1147/microBetaDiv_morePerm/80/40/1\n",
      "2016-05-02 13:29:42,236 * INFO * [139736] /home/nick/notebook/SIPSim/dev/bac_genome1147/microBetaDiv_morePerm/80/50/4 Finished with 0\n",
      "2016-05-02 13:29:42,238 * INFO * [140916] Started ./SIPSimRun_expDesign.sh in /home/nick/notebook/SIPSim/dev/bac_genome1147/microBetaDiv_morePerm/80/40/4\n",
      "2016-05-02 13:29:42,247 * INFO * [139734] /home/nick/notebook/SIPSim/dev/bac_genome1147/microBetaDiv_morePerm/80/50/1 Finished with 0\n",
      "2016-05-02 13:29:42,249 * INFO * [140918] Started ./SIPSimRun_expDesign.sh in /home/nick/notebook/SIPSim/dev/bac_genome1147/microBetaDiv_morePerm/80/40/5\n",
      "2016-05-02 13:29:42,642 * INFO * [139749] /home/nick/notebook/SIPSim/dev/bac_genome1147/microBetaDiv_morePerm/80/50/5 Finished with 0\n",
      "2016-05-02 13:29:42,644 * INFO * [140994] Started ./SIPSimRun_expDesign.sh in /home/nick/notebook/SIPSim/dev/bac_genome1147/microBetaDiv_morePerm/80/40/6\n",
      "2016-05-02 13:29:48,840 * INFO * [140809] /home/nick/notebook/SIPSim/dev/bac_genome1147/microBetaDiv_morePerm/80/40/9 Finished with 0\n",
      "2016-05-02 13:29:48,842 * INFO * [141887] Started ./SIPSimRun_expDesign.sh in /home/nick/notebook/SIPSim/dev/bac_genome1147/microBetaDiv_morePerm/95/30/7\n",
      "2016-05-02 13:29:48,991 * INFO * [140746] /home/nick/notebook/SIPSim/dev/bac_genome1147/microBetaDiv_morePerm/80/40/7 Finished with 0\n",
      "2016-05-02 13:29:48,993 * INFO * [141946] Started ./SIPSimRun_expDesign.sh in /home/nick/notebook/SIPSim/dev/bac_genome1147/microBetaDiv_morePerm/95/30/9\n",
      "2016-05-02 13:29:49,287 * INFO * [140916] /home/nick/notebook/SIPSim/dev/bac_genome1147/microBetaDiv_morePerm/80/40/4 Finished with 0\n",
      "2016-05-02 13:29:49,289 * INFO * [141981] Started ./SIPSimRun_expDesign.sh in /home/nick/notebook/SIPSim/dev/bac_genome1147/microBetaDiv_morePerm/95/30/8\n",
      "2016-05-02 13:29:49,341 * INFO * [140918] /home/nick/notebook/SIPSim/dev/bac_genome1147/microBetaDiv_morePerm/80/40/5 Finished with 0\n",
      "2016-05-02 13:29:49,343 * INFO * [141986] Started ./SIPSimRun_expDesign.sh in /home/nick/notebook/SIPSim/dev/bac_genome1147/microBetaDiv_morePerm/95/30/3\n",
      "2016-05-02 13:29:49,403 * INFO * [140866] /home/nick/notebook/SIPSim/dev/bac_genome1147/microBetaDiv_morePerm/80/40/3 Finished with 0\n",
      "2016-05-02 13:29:49,405 * INFO * [142011] Started ./SIPSimRun_expDesign.sh in /home/nick/notebook/SIPSim/dev/bac_genome1147/microBetaDiv_morePerm/95/30/10\n",
      "2016-05-02 13:29:49,538 * INFO * [140899] /home/nick/notebook/SIPSim/dev/bac_genome1147/microBetaDiv_morePerm/80/40/2 Finished with 0\n",
      "2016-05-02 13:29:49,540 * INFO * [142028] Started ./SIPSimRun_expDesign.sh in /home/nick/notebook/SIPSim/dev/bac_genome1147/microBetaDiv_morePerm/95/30/2\n",
      "2016-05-02 13:29:49,787 * INFO * [140901] /home/nick/notebook/SIPSim/dev/bac_genome1147/microBetaDiv_morePerm/80/40/1 Finished with 0\n",
      "2016-05-02 13:29:49,789 * INFO * [142068] Started ./SIPSimRun_expDesign.sh in /home/nick/notebook/SIPSim/dev/bac_genome1147/microBetaDiv_morePerm/95/30/1\n",
      "2016-05-02 13:29:49,803 * INFO * [140838] /home/nick/notebook/SIPSim/dev/bac_genome1147/microBetaDiv_morePerm/80/40/8 Finished with 0\n",
      "2016-05-02 13:29:49,805 * INFO * [142072] Started ./SIPSimRun_expDesign.sh in /home/nick/notebook/SIPSim/dev/bac_genome1147/microBetaDiv_morePerm/95/30/4\n",
      "2016-05-02 13:29:49,909 * INFO * [140884] /home/nick/notebook/SIPSim/dev/bac_genome1147/microBetaDiv_morePerm/80/40/10 Finished with 0\n",
      "2016-05-02 13:29:49,911 * INFO * [142086] Started ./SIPSimRun_expDesign.sh in /home/nick/notebook/SIPSim/dev/bac_genome1147/microBetaDiv_morePerm/95/30/5\n",
      "**OUTPUT MUTED**"
     ]
    }
   ],
   "source": [
    "!chmod 777 $bashFileTmp\n",
    "!cd $workDir; \\\n",
    "    nestrun --template-file $bashFileTmp -d $buildDir --log-file exp_design.log -j 10"
   ]
  },
  {
   "cell_type": "code",
   "execution_count": 14,
   "metadata": {
    "collapsed": true
   },
   "outputs": [],
   "source": [
    "%pushnote exp_design complete: $buildDir"
   ]
  },
  {
   "cell_type": "markdown",
   "metadata": {},
   "source": [
    "## SIPSim pipeline"
   ]
  },
  {
   "cell_type": "code",
   "execution_count": 15,
   "metadata": {
    "collapsed": false
   },
   "outputs": [
    {
     "data": {
      "text/plain": [
       "'/home/nick/notebook/SIPSim/dev/bac_genome1147/microBetaDiv_morePerm/SIPSimRun_SIPSim-pipeline.sh'"
      ]
     },
     "execution_count": 15,
     "metadata": {},
     "output_type": "execute_result"
    }
   ],
   "source": [
    "bashFileTmp = os.path.splitext(bashFile)[0] + '_SIPSim-pipeline.sh'\n",
    "bashFileTmp"
   ]
  },
  {
   "cell_type": "code",
   "execution_count": null,
   "metadata": {
    "collapsed": false
   },
   "outputs": [
    {
     "name": "stdout",
     "output_type": "stream",
     "text": [
      "Writing /home/nick/notebook/SIPSim/dev/bac_genome1147/microBetaDiv_morePerm/SIPSimRun_SIPSim-pipeline.sh\n"
     ]
    }
   ],
   "source": [
    "%%writefile $bashFileTmp\n",
    "#!/bin/bash\n",
    "\n",
    "echo '#-- SIPSim pipeline --#'    \n",
    "    \n",
    "echo '# Adding diffusion'    \n",
    "SIPSim diffusion \\\n",
    "    -n {Monte_rep} \\\n",
    "    --bw {bandwidth} \\\n",
    "    --np {np} \\\n",
    "    {fragFile} \\\n",
    "    > ampFrags_KDE_dif.pkl    \n",
    "\n",
    "echo '# Adding DBL contamination; abundance-weighted smearing'\n",
    "SIPSim DBL \\\n",
    "    -n {Monte_rep} \\\n",
    "    --comm comm.txt \\\n",
    "    --commx {DBL_scaling} \\\n",
    "    --np {np} \\\n",
    "    ampFrags_KDE_dif.pkl \\\n",
    "    > ampFrags_KDE_dif_DBL.pkl \n",
    "\n",
    "echo '# Adding isotope incorporation to BD distribution'\n",
    "SIPSim isotope_incorp \\\n",
    "    -n {Monte_rep} \\\n",
    "    --comm comm.txt \\\n",
    "    --taxa incorporators.txt \\\n",
    "    --np {np} \\\n",
    "    ampFrags_KDE_dif_DBL.pkl \\\n",
    "    incorp.config \\\n",
    "    > ampFrags_KDE_dif_DBL_inc.pkl\n",
    "\n",
    "echo '# Simulating an OTU table'\n",
    "SIPSim OTU_table \\\n",
    "    --abs {abs} \\\n",
    "    --np {np} \\\n",
    "    ampFrags_KDE_dif_DBL_inc.pkl \\\n",
    "    comm.txt \\\n",
    "    fracs.txt \\\n",
    "    > OTU_abs{abs}.txt\n",
    "    \n",
    "echo '# Simulating PCR'\n",
    "SIPSim OTU_PCR \\\n",
    "    OTU_abs{abs}.txt \\\n",
    "    > OTU_abs{abs}_PCR.txt    \n",
    "    \n",
    "echo '# Subsampling from the OTU table (simulating sequencing of the DNA pool)'\n",
    "SIPSim OTU_subsample \\\n",
    "    --dist {subsample_dist} \\\n",
    "    --dist_params mean:{subsample_mean},sigma:{subsample_scale} \\\n",
    "    --min_size {subsample_min} \\\n",
    "    --max_size {subsample_max} \\\n",
    "    OTU_abs{abs}_PCR.txt \\\n",
    "    > OTU_abs{abs}_PCR_sub.txt\n",
    "        \n",
    "echo '# Making a wide-formatted table'\n",
    "SIPSim OTU_wideLong -w \\\n",
    "    OTU_abs{abs}_PCR_sub.txt \\\n",
    "    > OTU_abs{abs}_PCR_sub_w.txt\n",
    "    \n",
    "echo '# Making metadata (phyloseq: sample_data)'\n",
    "SIPSim OTU_sampleData \\\n",
    "    OTU_abs{abs}_PCR_sub.txt \\\n",
    "    > OTU_abs{abs}_PCR_sub_meta.txt\n",
    "       \n",
    "\n",
    "#-- removing large intermediate files --#\n",
    "rm -f ampFrags_KDE_dif.pkl\n",
    "rm -f ampFrags_KDE_dif_DBL.pkl\n",
    "rm -f ampFrags_KDE_dif_DBL_inc.pkl    "
   ]
  },
  {
   "cell_type": "code",
   "execution_count": null,
   "metadata": {
    "collapsed": false
   },
   "outputs": [
    {
     "name": "stdout",
     "output_type": "stream",
     "text": [
      "2016-05-02 13:31:21,097 * INFO * Template: ./SIPSimRun_SIPSim-pipeline.sh\n",
      "2016-05-02 13:31:21,099 * INFO * [155808] Started ./SIPSimRun_SIPSim-pipeline.sh in /home/nick/notebook/SIPSim/dev/bac_genome1147/microBetaDiv_morePerm/80/30/7\n",
      "2016-05-02 13:31:21,101 * INFO * [155809] Started ./SIPSimRun_SIPSim-pipeline.sh in /home/nick/notebook/SIPSim/dev/bac_genome1147/microBetaDiv_morePerm/80/30/9\n",
      "2016-05-02 14:14:19,194 * INFO * [155808] /home/nick/notebook/SIPSim/dev/bac_genome1147/microBetaDiv_morePerm/80/30/7 Finished with 0\n",
      "2016-05-02 14:14:19,243 * INFO * [164247] Started ./SIPSimRun_SIPSim-pipeline.sh in /home/nick/notebook/SIPSim/dev/bac_genome1147/microBetaDiv_morePerm/80/30/8\n",
      "2016-05-02 14:14:25,173 * INFO * [155809] /home/nick/notebook/SIPSim/dev/bac_genome1147/microBetaDiv_morePerm/80/30/9 Finished with 0\n",
      "2016-05-02 14:14:25,176 * INFO * [164347] Started ./SIPSimRun_SIPSim-pipeline.sh in /home/nick/notebook/SIPSim/dev/bac_genome1147/microBetaDiv_morePerm/80/30/3\n",
      "2016-05-02 14:52:37,762 * INFO * [164347] /home/nick/notebook/SIPSim/dev/bac_genome1147/microBetaDiv_morePerm/80/30/3 Finished with 0\n",
      "2016-05-02 14:52:37,790 * INFO * [171645] Started ./SIPSimRun_SIPSim-pipeline.sh in /home/nick/notebook/SIPSim/dev/bac_genome1147/microBetaDiv_morePerm/80/30/10\n",
      "2016-05-02 14:53:36,256 * INFO * [164247] /home/nick/notebook/SIPSim/dev/bac_genome1147/microBetaDiv_morePerm/80/30/8 Finished with 0\n",
      "2016-05-02 14:53:36,288 * INFO * [171891] Started ./SIPSimRun_SIPSim-pipeline.sh in /home/nick/notebook/SIPSim/dev/bac_genome1147/microBetaDiv_morePerm/80/30/2\n"
     ]
    }
   ],
   "source": [
    "!chmod 777 $bashFileTmp\n",
    "!cd $workDir; \\\n",
    "    nestrun --template-file $bashFileTmp -d $buildDir --log-file SIPSim_pipeline.log -j 2"
   ]
  },
  {
   "cell_type": "code",
   "execution_count": null,
   "metadata": {
    "collapsed": true
   },
   "outputs": [],
   "source": [
    "%pushnote SIPSim pipeline complete: $buildDir"
   ]
  },
  {
   "cell_type": "markdown",
   "metadata": {},
   "source": [
    "## Summary of simulated data"
   ]
  },
  {
   "cell_type": "code",
   "execution_count": null,
   "metadata": {
    "collapsed": false
   },
   "outputs": [],
   "source": [
    "bashFileTmp = os.path.splitext(bashFile)[0] + '_SIPSim-summary.sh'\n",
    "bashFileTmp"
   ]
  },
  {
   "cell_type": "code",
   "execution_count": null,
   "metadata": {
    "collapsed": false
   },
   "outputs": [],
   "source": [
    "%%writefile $bashFileTmp\n",
    "#!/bin/bash\n",
    "   \n",
    "# plotting 'raw' taxon abundances\n",
    "SIPSimR OTU_taxonAbund \\\n",
    "    OTU_abs{abs}.txt \\\n",
    "    -r {topTaxaToPlot} \\\n",
    "    -o OTU_abs{abs}\n",
    "\n",
    "# plotting 'sequenced' taxon abundances\n",
    "SIPSimR OTU_taxonAbund \\\n",
    "    OTU_abs{abs}_PCR_sub.txt \\\n",
    "    -r {topTaxaToPlot} \\\n",
    "    -o OTU_abs{abs}_PCR_sub"
   ]
  },
  {
   "cell_type": "code",
   "execution_count": null,
   "metadata": {
    "collapsed": false
   },
   "outputs": [],
   "source": [
    "!chmod 777 $bashFileTmp\n",
    "!cd $workDir; \\\n",
    "    nestrun --template-file $bashFileTmp -d $buildDir --log-file SIPSim_summary.log -j 10"
   ]
  },
  {
   "cell_type": "markdown",
   "metadata": {},
   "source": [
    "## HR-SIP: DESeq2"
   ]
  },
  {
   "cell_type": "code",
   "execution_count": null,
   "metadata": {
    "collapsed": false
   },
   "outputs": [],
   "source": [
    "bashFileTmp = os.path.splitext(bashFile)[0] + '_HRSIP.sh'\n",
    "bashFileTmp"
   ]
  },
  {
   "cell_type": "code",
   "execution_count": null,
   "metadata": {
    "collapsed": false
   },
   "outputs": [],
   "source": [
    "%%writefile $bashFileTmp\n",
    "#!/bin/bash\n",
    "\n",
    "# phyloseq\n",
    "## making phyloseq object from OTU table\n",
    "SIPSimR phyloseq_make \\\n",
    "    OTU_abs{abs}_PCR_sub_w.txt \\\n",
    "    -s OTU_abs{abs}_PCR_sub_meta.txt \\\n",
    "    > OTU_abs{abs}_PCR_sub.physeq\n",
    "\n",
    "## filtering phyloseq object to just 'heavy' fractions\n",
    "SIPSimR phyloseq_edit \\\n",
    "    OTU_abs{abs}_PCR_sub.physeq \\\n",
    "    --BD_min {heavy_BD_min} \\\n",
    "    --BD_max {heavy_BD_max} \\\n",
    "    > OTU_abs{abs}_PCR_sub_filt.physeq\n",
    "\n",
    "## making ordination\n",
    "SIPSimR phyloseq_ordination \\\n",
    "    OTU_abs{abs}_PCR_sub_filt.physeq \\\n",
    "    OTU_abs{abs}_PCR_sub_filt_bray-NMDS.pdf\n",
    "\n",
    "# DESeq2\n",
    "SIPSimR phyloseq_DESeq2 \\\n",
    "    --log2 {log2} \\\n",
    "    --hypo greater \\\n",
    "    --cont 1,3,5 \\\n",
    "    --treat 2,4,6 \\\n",
    "    OTU_abs{abs}_PCR_sub_filt.physeq \\\n",
    "    > OTU_abs{abs}_PCR_sub_filt_DESeq2"
   ]
  },
  {
   "cell_type": "code",
   "execution_count": null,
   "metadata": {
    "collapsed": false
   },
   "outputs": [],
   "source": [
    "!chmod 777 $bashFileTmp\n",
    "!cd $workDir; \\\n",
    "    nestrun --template-file $bashFileTmp -d $buildDir --log-file HR-SIP.log -j 10"
   ]
  },
  {
   "cell_type": "code",
   "execution_count": null,
   "metadata": {
    "collapsed": true
   },
   "outputs": [],
   "source": [
    "%pushnote HR-SIP complete: $buildDir"
   ]
  },
  {
   "cell_type": "markdown",
   "metadata": {},
   "source": [
    "## qSIP"
   ]
  },
  {
   "cell_type": "code",
   "execution_count": null,
   "metadata": {
    "collapsed": false
   },
   "outputs": [],
   "source": [
    "bashFileTmp = os.path.splitext(bashFile)[0] + '_qSIP.sh'\n",
    "bashFileTmp"
   ]
  },
  {
   "cell_type": "code",
   "execution_count": null,
   "metadata": {
    "collapsed": false
   },
   "outputs": [],
   "source": [
    "%%writefile $bashFileTmp\n",
    "#!/bin/bash\n",
    "\n",
    "\n",
    "# qSIP\n",
    "SIPSim qSIP \\\n",
    "    OTU_abs{abs}.txt \\\n",
    "    OTU_abs{abs}_PCR_sub.txt \\\n",
    "    > OTU_abs{abs}_PCR_sub_qSIP.txt\n",
    "        \n",
    "\n",
    "# qSIP: atom excess\n",
    "SIPSim qSIP_atomExcess \\\n",
    "    --np {np} \\\n",
    "    OTU_abs{abs}_PCR_sub_qSIP.txt \\\n",
    "    {exp_design} \\\n",
    "    > OTU_abs{abs}_PCR_sub_qSIP_atom.txt  "
   ]
  },
  {
   "cell_type": "code",
   "execution_count": null,
   "metadata": {
    "collapsed": false
   },
   "outputs": [],
   "source": [
    "!chmod 777 $bashFileTmp\n",
    "!cd $workDir; \\\n",
    "    nestrun --template-file $bashFileTmp -d $buildDir --log-file qSIP.log -j 2"
   ]
  },
  {
   "cell_type": "code",
   "execution_count": null,
   "metadata": {
    "collapsed": true
   },
   "outputs": [],
   "source": [
    "%pushnote qSIP complete: $buildDir"
   ]
  },
  {
   "cell_type": "markdown",
   "metadata": {},
   "source": [
    "## deltaBD"
   ]
  },
  {
   "cell_type": "code",
   "execution_count": null,
   "metadata": {
    "collapsed": false
   },
   "outputs": [],
   "source": [
    "bashFileTmp = os.path.splitext(bashFile)[0] + '_dBD.sh'\n",
    "bashFileTmp"
   ]
  },
  {
   "cell_type": "code",
   "execution_count": null,
   "metadata": {
    "collapsed": false
   },
   "outputs": [],
   "source": [
    "%%writefile $bashFileTmp\n",
    "#!/bin/bash\n",
    "\n",
    "#deltaBD \n",
    "SIPSim deltaBD \\\n",
    "    OTU_abs{abs}_PCR_sub.txt \\\n",
    "    {exp_design} \\\n",
    "    > OTU_abs{abs}_PCR_sub_dBD.txt  "
   ]
  },
  {
   "cell_type": "code",
   "execution_count": null,
   "metadata": {
    "collapsed": false
   },
   "outputs": [],
   "source": [
    "!chmod 777 $bashFileTmp\n",
    "!cd $workDir; \\\n",
    "    nestrun --template-file $bashFileTmp -d $buildDir --log-file deltaBD.log -j 4"
   ]
  },
  {
   "cell_type": "code",
   "execution_count": null,
   "metadata": {
    "collapsed": true
   },
   "outputs": [],
   "source": [
    "%pushnote deltaBD complete: $buildDir"
   ]
  },
  {
   "cell_type": "markdown",
   "metadata": {},
   "source": [
    "## Making confusion matrices"
   ]
  },
  {
   "cell_type": "code",
   "execution_count": null,
   "metadata": {
    "collapsed": false
   },
   "outputs": [],
   "source": [
    "bashFileTmp = os.path.splitext(bashFile)[0] + '_cMtx.sh'\n",
    "bashFileTmp"
   ]
  },
  {
   "cell_type": "code",
   "execution_count": null,
   "metadata": {
    "collapsed": false
   },
   "outputs": [],
   "source": [
    "%%writefile $bashFileTmp\n",
    "#!/bin/bash\n",
    "\n",
    "# HR-SIP\n",
    "SIPSimR DESeq2_confuseMtx \\\n",
    "    --libs 2,4,6 \\\n",
    "    --padj {padj} \\\n",
    "    BD-shift_stats.txt \\\n",
    "    OTU_abs{abs}_PCR_sub_filt_DESeq2\n",
    "\n",
    "# HR-SIP multiple 'heavy' BD windows\n",
    "SIPSimR DESeq2_confuseMtx \\\n",
    "    --libs 2,4,6 \\\n",
    "    --padj {padj} \\\n",
    "    -o DESeq2_multi-cMtx \\\n",
    "    BD-shift_stats.txt \\\n",
    "    OTU_abs1e9_PCR_sub_BD3_DESeq2    \n",
    "    \n",
    "# qSIP    \n",
    "SIPSimR qSIP_confuseMtx \\\n",
    "    --libs 2,4,6 \\\n",
    "    BD-shift_stats.txt \\\n",
    "    OTU_abs{abs}_PCR_sub_qSIP_atom.txt\n",
    "\n",
    "# heavy-SIP    \n",
    "SIPSimR heavy_confuseMtx \\\n",
    "    --libs 2,4,6 \\\n",
    "    BD-shift_stats.txt \\\n",
    "    OTU_abs{abs}_PCR_sub.txt"
   ]
  },
  {
   "cell_type": "code",
   "execution_count": null,
   "metadata": {
    "collapsed": false,
    "scrolled": true
   },
   "outputs": [],
   "source": [
    "!chmod 777 $bashFileTmp\n",
    "!cd $workDir; \\\n",
    "    nestrun --template-file $bashFileTmp -d $buildDir --log-file cMtx.log -j 10"
   ]
  },
  {
   "cell_type": "markdown",
   "metadata": {},
   "source": [
    "### Aggregating the confusion matrix data"
   ]
  },
  {
   "cell_type": "code",
   "execution_count": null,
   "metadata": {
    "collapsed": false
   },
   "outputs": [],
   "source": [
    "def agg_cMtx(prefix):\n",
    "    # all data\n",
    "    #!nestagg delim \\\n",
    "    #    -d $buildDir \\\n",
    "    #    -k percIncorp,percTaxa,rep \\\n",
    "    #    -o $prefix-cMtx_data.txt \\\n",
    "    #    --tab \\\n",
    "    #    $prefix-cMtx_data.txt\n",
    "\n",
    "    # overall\n",
    "    x = prefix + '-cMtx_overall.txt'\n",
    "    !nestagg delim \\\n",
    "        -d $buildDir \\\n",
    "        -k shared_perc,perm_perc,rep \\\n",
    "        -o $x \\\n",
    "        --tab \\\n",
    "        $x\n",
    "\n",
    "    # by class\n",
    "    x = prefix + '-cMtx_byClass.txt'\n",
    "    !nestagg delim \\\n",
    "        -d $buildDir \\\n",
    "        -k shared_perc,perm_perc,rep \\\n",
    "        -o $x \\\n",
    "        --tab \\\n",
    "        $x\n",
    "        \n",
    "agg_cMtx('DESeq2')\n",
    "agg_cMtx('qSIP') \n",
    "agg_cMtx('heavy') "
   ]
  },
  {
   "cell_type": "code",
   "execution_count": null,
   "metadata": {
    "collapsed": true
   },
   "outputs": [],
   "source": [
    "%pushnote microBetaDiv complete!"
   ]
  },
  {
   "cell_type": "markdown",
   "metadata": {},
   "source": [
    "***\n",
    "# --End of simulation--#\n",
    "***"
   ]
  },
  {
   "cell_type": "markdown",
   "metadata": {},
   "source": [
    "# Plotting results"
   ]
  },
  {
   "cell_type": "code",
   "execution_count": null,
   "metadata": {
    "collapsed": false
   },
   "outputs": [],
   "source": [
    "F = os.path.join(buildDir, '*-cMtx_byClass.txt')\n",
    "files = glob.glob(F)\n",
    "files"
   ]
  },
  {
   "cell_type": "code",
   "execution_count": null,
   "metadata": {
    "collapsed": false
   },
   "outputs": [],
   "source": [
    "%%R -i files\n",
    "\n",
    "df_byClass = list()\n",
    "for (f in files){\n",
    "    ff = strsplit(f, '/') %>% unlist\n",
    "    fff = ff[length(ff)]\n",
    "    df_byClass[[fff]] = read.delim(f, sep='\\t')\n",
    "}\n",
    "\n",
    "df_byClass = do.call(rbind, df_byClass)\n",
    "df_byClass$file = gsub('\\\\.[0-9]+$', '', rownames(df_byClass))\n",
    "df_byClass$method = gsub('-.+', '', df_byClass$file)\n",
    "rownames(df_byClass) = 1:nrow(df_byClass)\n",
    "\n",
    "df_byClass %>% head(n=3)"
   ]
  },
  {
   "cell_type": "code",
   "execution_count": null,
   "metadata": {
    "collapsed": false
   },
   "outputs": [],
   "source": [
    "%%R\n",
    "# renaming method\n",
    "rename = data.frame(method = c('DESeq2', 'DESeq2_multi', 'heavy', 'qSIP'), \n",
    "                   method_new = c('HR-SIP', 'MW-HR-SIP', 'Heavy-SIP', 'qSIP'))\n",
    "\n",
    "df_byClass = inner_join(df_byClass, rename, c('method'='method')) %>%\n",
    "    select(-method) %>%\n",
    "    rename('method' = method_new) \n",
    "\n",
    "df_byClass %>% head(n=3)"
   ]
  },
  {
   "cell_type": "code",
   "execution_count": null,
   "metadata": {
    "collapsed": false
   },
   "outputs": [],
   "source": [
    "%%R -w 800 -h 550\n",
    "# summarize by SIPSim rep & library rep\n",
    "df_byClass.s = df_byClass %>%\n",
    "    group_by(method, shared_perc, perm_perc, variables) %>%\n",
    "    summarize(mean_value = mean(values),\n",
    "              sd_value = sd(values))\n",
    "\n",
    "# plotting\n",
    "ggplot(df_byClass.s, aes(variables, mean_value, color=method,\n",
    "                         ymin=mean_value-sd_value,\n",
    "                         ymax=mean_value+sd_value)) +\n",
    "    geom_pointrange(alpha=0.8, size=0.2) +\n",
    "    labs(y='Value') +\n",
    "    facet_grid(shared_perc ~ perm_perc) +\n",
    "    theme_bw() +\n",
    "    theme(\n",
    "        text = element_text(size=16),\n",
    "        axis.title.x = element_blank(),\n",
    "        axis.text.x = element_text(angle=45, hjust=1)\n",
    "    )"
   ]
  },
  {
   "cell_type": "code",
   "execution_count": null,
   "metadata": {
    "collapsed": false
   },
   "outputs": [],
   "source": [
    "%%R -w 800 -h 600\n",
    "# summarize by SIPSim rep & library rep\n",
    "vars = c('Balanced Accuracy', 'Sensitivity', 'Specificity')\n",
    "df_byClass.s.f = df_byClass.s %>%\n",
    "    filter(variables %in% vars) \n",
    "\n",
    "# plotting\n",
    "ggplot(df_byClass.s.f, aes(variables, mean_value, fill=method,\n",
    "                         ymin=mean_value-sd_value,\n",
    "                         ymax=mean_value+sd_value)) +\n",
    "    #geom_pointrange(alpha=0.8, size=0.2) +\n",
    "    geom_bar(stat='identity', position='dodge', width=0.8) +\n",
    "    geom_errorbar(stat='identity', position='dodge', width=0.8) +\n",
    "    scale_y_continuous(breaks=seq(0, 1, 0.2)) +\n",
    "    labs(y='Value') +\n",
    "    facet_grid(shared_perc ~ perm_perc) +\n",
    "    theme_bw() +\n",
    "    theme(\n",
    "        text = element_text(size=16),\n",
    "        axis.title.x = element_blank(),\n",
    "        axis.text.x = element_text(angle=50, hjust=1)\n",
    "    )"
   ]
  },
  {
   "cell_type": "code",
   "execution_count": null,
   "metadata": {
    "collapsed": false
   },
   "outputs": [],
   "source": [
    "%%R -w 800 -h 450\n",
    "# summarize by SIPSim rep & library rep\n",
    "vars = c('Balanced Accuracy', 'Sensitivity', 'Specificity')\n",
    "df_byClass.s.f = df_byClass.s %>%\n",
    "    filter(variables %in% vars) %>%\n",
    "    ungroup() %>%\n",
    "    mutate(perm_perc = perm_perc %>% as.character,\n",
    "           perm_perc = perm_perc %>% reorder(perm_perc %>% as.numeric))\n",
    "\n",
    "# plotting\n",
    "ggplot(df_byClass.s.f, aes(shared_perc, mean_value, \n",
    "                           color=perm_perc, \n",
    "                           ymin=mean_value-sd_value,\n",
    "                           ymax=mean_value+sd_value)) +\n",
    "    geom_pointrange(alpha=0.8, size=0.2) +\n",
    "    geom_line() +\n",
    "    scale_color_discrete('% of rank\\nabundances\\npermuted') +\n",
    "    labs(x='% taxa shared among replicate pre-fraction communities') +\n",
    "    facet_grid(variables ~ method, scales='free_y') +\n",
    "    theme_bw() +\n",
    "    theme(\n",
    "        text = element_text(size=16),\n",
    "        axis.title.y = element_blank()\n",
    "    )"
   ]
  },
  {
   "cell_type": "markdown",
   "metadata": {},
   "source": [
    "***"
   ]
  },
  {
   "cell_type": "markdown",
   "metadata": {},
   "source": [
    "# atom excess estimates"
   ]
  },
  {
   "cell_type": "markdown",
   "metadata": {},
   "source": [
    "## qSIP"
   ]
  },
  {
   "cell_type": "code",
   "execution_count": 60,
   "metadata": {
    "collapsed": false
   },
   "outputs": [
    {
     "data": {
      "text/plain": [
       "150"
      ]
     },
     "execution_count": 60,
     "metadata": {},
     "output_type": "execute_result"
    }
   ],
   "source": [
    "atomX_files = glob.glob('*/*/*/*_atom.txt')\n",
    "len(atomX_files)"
   ]
  },
  {
   "cell_type": "code",
   "execution_count": 61,
   "metadata": {
    "collapsed": false
   },
   "outputs": [
    {
     "data": {
      "text/plain": [
       "                                 taxon  control treatment       BD_diff\n",
       "1       Acaryochloris_marina_MBIC11017 1.708081  1.708174  9.318302e-05\n",
       "2 Acetobacter_pasteurianus_IFO_3283-03 1.711174  1.715641  4.466102e-03\n",
       "3       Acetobacterium_woodii_DSM_1030 1.703430  1.699272 -4.157865e-03\n",
       "  control_GC control_MW treatment_max_MW treatment_MW atom_fraction_excess\n",
       "1  0.7427450   308.0594         317.6635     308.0762           0.00173042\n",
       "2  0.7797938   308.0778         317.6634     308.8818           0.08295063\n",
       "3  0.6870484   308.0318         317.6637     307.2799          -0.07719267\n",
       "   atom_CI_low atom_CI_high shared_perc perm_perc rep\n",
       "1 -0.020004565   0.02127429          80        30   7\n",
       "2  0.008058996   0.14939521          80        30   7\n",
       "3 -0.176977372   0.02339350          80        30   7\n",
       "                              file\n",
       "1 OTU_abs1e9_PCR_sub_qSIP_atom.txt\n",
       "2 OTU_abs1e9_PCR_sub_qSIP_atom.txt\n",
       "3 OTU_abs1e9_PCR_sub_qSIP_atom.txt\n"
      ]
     },
     "metadata": {},
     "output_type": "display_data"
    }
   ],
   "source": [
    "%%R -i atomX_files\n",
    "\n",
    "df_atomX = list()\n",
    "for(F in atomX_files){\n",
    "    tmp = read.delim(F, sep='\\t') \n",
    "    FF = strsplit(F, '/') %>% unlist\n",
    "    tmp$shared_perc = FF[1]\n",
    "    tmp$perm_perc = FF[2]\n",
    "    tmp$rep = FF[3]\n",
    "    tmp$file = FF[4]\n",
    "    df_atomX[[F]] = tmp\n",
    "}\n",
    "\n",
    "df_atomX = do.call(rbind, df_atomX)\n",
    "rownames(df_atomX) = 1:nrow(df_atomX)\n",
    "df_atomX %>% head(n=3)"
   ]
  },
  {
   "cell_type": "code",
   "execution_count": 62,
   "metadata": {
    "collapsed": false
   },
   "outputs": [
    {
     "data": {
      "text/plain": [
       "150"
      ]
     },
     "execution_count": 62,
     "metadata": {},
     "output_type": "execute_result"
    }
   ],
   "source": [
    "BDshift_files = glob.glob('*/*/*/BD-shift_stats.txt')\n",
    "len(BDshift_files)"
   ]
  },
  {
   "cell_type": "code",
   "execution_count": 63,
   "metadata": {
    "collapsed": false
   },
   "outputs": [
    {
     "data": {
      "text/plain": [
       "Source: local data frame [3 x 5]\n",
       "\n",
       "                           taxon shared_perc perm_perc   rep\n",
       "                          (fctr)       (chr)     (chr) (chr)\n",
       "1 Acaryochloris_marina_MBIC11017         100        30     1\n",
       "2 Acaryochloris_marina_MBIC11017         100        30    10\n",
       "3 Acaryochloris_marina_MBIC11017         100        30     2\n",
       "Variables not shown: median_true_BD_shift (dbl)\n"
      ]
     },
     "metadata": {},
     "output_type": "display_data"
    }
   ],
   "source": [
    "%%R -i BDshift_files\n",
    "\n",
    "df_shift = list()\n",
    "for(F in BDshift_files){\n",
    "    tmp = read.delim(F, sep='\\t') \n",
    "    FF = strsplit(F, '/') %>% unlist\n",
    "    tmp$shared_perc = FF[1]\n",
    "    tmp$perm_perc = FF[2]\n",
    "    tmp$rep = FF[3]\n",
    "    tmp$file = FF[4]\n",
    "    df_shift[[F]] = tmp\n",
    "}\n",
    "\n",
    "df_shift = do.call(rbind, df_shift)\n",
    "rownames(df_shift) = 1:nrow(df_shift)\n",
    "\n",
    "df_shift = df_shift %>%\n",
    "    filter(library %in% c(2,4,6)) %>%\n",
    "    group_by(taxon, shared_perc, perm_perc, rep) %>%\n",
    "    summarize(median = median(median)) %>%\n",
    "    ungroup() %>%\n",
    "    rename('median_true_BD_shift' = median)\n",
    "\n",
    "df_shift %>% head(n=3)"
   ]
  },
  {
   "cell_type": "code",
   "execution_count": 64,
   "metadata": {
    "collapsed": false
   },
   "outputs": [
    {
     "data": {
      "text/plain": [
       "                                 taxon  control treatment       BD_diff\n",
       "1       Acaryochloris_marina_MBIC11017 1.708081  1.708174  9.318302e-05\n",
       "2 Acetobacter_pasteurianus_IFO_3283-03 1.711174  1.715641  4.466102e-03\n",
       "3       Acetobacterium_woodii_DSM_1030 1.703430  1.699272 -4.157865e-03\n",
       "  control_GC control_MW treatment_max_MW treatment_MW atom_fraction_excess\n",
       "1  0.7427450   308.0594         317.6635     308.0762           0.00173042\n",
       "2  0.7797938   308.0778         317.6634     308.8818           0.08295063\n",
       "3  0.6870484   308.0318         317.6637     307.2799          -0.07719267\n",
       "   atom_CI_low atom_CI_high shared_perc perm_perc rep\n",
       "1 -0.020004565   0.02127429          80        30   7\n",
       "2  0.008058996   0.14939521          80        30   7\n",
       "3 -0.176977372   0.02339350          80        30   7\n",
       "                              file median_true_BD_shift true_incorporator\n",
       "1 OTU_abs1e9_PCR_sub_qSIP_atom.txt                    0             FALSE\n",
       "2 OTU_abs1e9_PCR_sub_qSIP_atom.txt                    0             FALSE\n",
       "3 OTU_abs1e9_PCR_sub_qSIP_atom.txt                    0             FALSE\n",
       "  true_atom_fraction_excess\n",
       "1                         0\n",
       "2                         0\n",
       "3                         0\n"
      ]
     },
     "metadata": {},
     "output_type": "display_data"
    }
   ],
   "source": [
    "%%R\n",
    "df.j = inner_join(df_atomX, df_shift, c('taxon' = 'taxon',\n",
    "                                       'shared_perc'='shared_perc',\n",
    "                                       'perm_perc'='perm_perc',\n",
    "                                       'rep'='rep')) %>%\n",
    "    filter(!is.na(BD_diff)) %>%\n",
    "    mutate(true_incorporator = ifelse(median_true_BD_shift > 0.002, TRUE, FALSE),\n",
    "           true_atom_fraction_excess = median_true_BD_shift / 0.036,\n",
    "           atom_fraction_excess = ifelse(is.na(atom_CI_low), 0, atom_fraction_excess))\n",
    "df.j %>% head(n=3)"
   ]
  },
  {
   "cell_type": "code",
   "execution_count": null,
   "metadata": {
    "collapsed": true
   },
   "outputs": [],
   "source": [
    "%%R\n",
    "# free memory\n",
    "df_shift = df_atomX = NULL"
   ]
  },
  {
   "cell_type": "code",
   "execution_count": 65,
   "metadata": {
    "collapsed": false
   },
   "outputs": [
    {
     "data": {
      "image/png": "[encoded data removed]"
     },
     "metadata": {},
     "output_type": "display_data"
    }
   ],
   "source": [
    "%%R -h 250 \n",
    "# difference between true and estimated\n",
    "df.j.dis.qSIP = df.j %>%\n",
    "    mutate(delta_excess = atom_fraction_excess * 100 - true_atom_fraction_excess * 100) %>%\n",
    "    group_by(shared_perc, perm_perc, true_incorporator) %>%\n",
    "    summarize(mean_delta_excess = mean(delta_excess),\n",
    "              sd_delta_excess = sd(delta_excess)) %>%\n",
    "    ungroup() %>%\n",
    "    mutate(shared_perc = shared_perc %>% reorder(shared_perc %>% as.numeric),\n",
    "           perm_perc = perm_perc %>% reorder(perm_perc %>% as.numeric)) %>%\n",
    "    filter(true_incorporator == TRUE)\n",
    "   \n",
    "# plotting\n",
    "ggplot(df.j.dis.qSIP, aes(shared_perc, mean_delta_excess, \n",
    "                      color=perm_perc, group=perm_perc,\n",
    "                      ymin=mean_delta_excess-sd_delta_excess,\n",
    "                     ymax=mean_delta_excess+sd_delta_excess)) +\n",
    "    geom_point() +\n",
    "    geom_linerange(alpha=0.5, size=0.8) +\n",
    "    geom_line() +\n",
    "    scale_color_discrete('% taxa ranks\\npermuted') +\n",
    "    labs(x='% taxa shared', y='atom % excess\\n(truth - estimate)') +\n",
    "    theme_bw() +\n",
    "    theme(\n",
    "        text = element_text(size=16)\n",
    "    )"
   ]
  },
  {
   "cell_type": "markdown",
   "metadata": {},
   "source": [
    "## deltaBD"
   ]
  },
  {
   "cell_type": "code",
   "execution_count": 66,
   "metadata": {
    "collapsed": false
   },
   "outputs": [
    {
     "data": {
      "text/plain": [
       "150"
      ]
     },
     "execution_count": 66,
     "metadata": {},
     "output_type": "execute_result"
    }
   ],
   "source": [
    "dBD_files = glob.glob('*/*/*/*_dBD.txt')\n",
    "len(dBD_files)"
   ]
  },
  {
   "cell_type": "code",
   "execution_count": 67,
   "metadata": {
    "collapsed": false
   },
   "outputs": [
    {
     "data": {
      "text/plain": [
       "                                 taxon mean_CM_control mean_CM_treatment\n",
       "1       Acaryochloris_marina_MBIC11017        1.715176          1.706250\n",
       "2 Acetobacter_pasteurianus_IFO_3283-03        1.723370          1.720191\n",
       "3       Acetobacterium_woodii_DSM_1030        1.702231          1.697283\n",
       "  stdev_CM_control stdev_CM_treatment     delta_BD shared_perc perm_perc rep\n",
       "1      0.001707632        0.002344381 -0.008926406          80        30   7\n",
       "2      0.002839386        0.006674992 -0.003179290          80        30   7\n",
       "3      0.002627010        0.004448974 -0.004947882          80        30   7\n",
       "                        file\n",
       "1 OTU_abs1e9_PCR_sub_dBD.txt\n",
       "2 OTU_abs1e9_PCR_sub_dBD.txt\n",
       "3 OTU_abs1e9_PCR_sub_dBD.txt\n"
      ]
     },
     "metadata": {},
     "output_type": "display_data"
    }
   ],
   "source": [
    "%%R -i dBD_files\n",
    "\n",
    "df_dBD = list()\n",
    "for(F in dBD_files){\n",
    "    tmp = read.delim(F, sep='\\t') \n",
    "    FF = strsplit(F, '/') %>% unlist\n",
    "    tmp$shared_perc = FF[1]\n",
    "    tmp$perm_perc = FF[2]\n",
    "    tmp$rep = FF[3]\n",
    "    tmp$file = FF[4]\n",
    "    df_dBD[[F]] = tmp\n",
    "}\n",
    "\n",
    "df_dBD = do.call(rbind, df_dBD)\n",
    "rownames(df_dBD) = 1:nrow(df_dBD)\n",
    "df_dBD %>% head(n=3)"
   ]
  },
  {
   "cell_type": "code",
   "execution_count": 68,
   "metadata": {
    "collapsed": false
   },
   "outputs": [
    {
     "data": {
      "text/plain": [
       "150"
      ]
     },
     "execution_count": 68,
     "metadata": {},
     "output_type": "execute_result"
    }
   ],
   "source": [
    "BDshift_files = glob.glob('*/*/*/BD-shift_stats.txt')\n",
    "len(BDshift_files)"
   ]
  },
  {
   "cell_type": "code",
   "execution_count": 69,
   "metadata": {
    "collapsed": false
   },
   "outputs": [
    {
     "data": {
      "text/plain": [
       "Source: local data frame [3 x 5]\n",
       "\n",
       "                           taxon shared_perc perm_perc   rep\n",
       "                          (fctr)       (chr)     (chr) (chr)\n",
       "1 Acaryochloris_marina_MBIC11017         100        30     1\n",
       "2 Acaryochloris_marina_MBIC11017         100        30    10\n",
       "3 Acaryochloris_marina_MBIC11017         100        30     2\n",
       "Variables not shown: median_true_BD_shift (dbl)\n"
      ]
     },
     "metadata": {},
     "output_type": "display_data"
    }
   ],
   "source": [
    "%%R -i BDshift_files\n",
    "\n",
    "df_shift = list()\n",
    "for(F in BDshift_files){\n",
    "    tmp = read.delim(F, sep='\\t') \n",
    "    FF = strsplit(F, '/') %>% unlist\n",
    "    tmp$shared_perc = FF[1]\n",
    "    tmp$perm_perc = FF[2]\n",
    "    tmp$rep = FF[3]\n",
    "    tmp$file = FF[4]\n",
    "    df_shift[[F]] = tmp\n",
    "}\n",
    "\n",
    "df_shift = do.call(rbind, df_shift)\n",
    "rownames(df_shift) = 1:nrow(df_shift)\n",
    "\n",
    "df_shift = df_shift %>%\n",
    "    filter(library %in% c(2,4,6)) %>%\n",
    "    group_by(taxon, shared_perc, perm_perc, rep) %>%\n",
    "    summarize(median = median(median)) %>%\n",
    "    ungroup() %>%\n",
    "    rename('median_true_BD_shift' = median)\n",
    "\n",
    "df_shift %>% head(n=3)"
   ]
  },
  {
   "cell_type": "code",
   "execution_count": 70,
   "metadata": {
    "collapsed": false
   },
   "outputs": [
    {
     "data": {
      "text/plain": [
       "                                 taxon mean_CM_control mean_CM_treatment\n",
       "1       Acaryochloris_marina_MBIC11017        1.715176          1.706250\n",
       "2 Acetobacter_pasteurianus_IFO_3283-03        1.723370          1.720191\n",
       "3       Acetobacterium_woodii_DSM_1030        1.702231          1.697283\n",
       "  stdev_CM_control stdev_CM_treatment     delta_BD shared_perc perm_perc rep\n",
       "1      0.001707632        0.002344381 -0.008926406          80        30   7\n",
       "2      0.002839386        0.006674992 -0.003179290          80        30   7\n",
       "3      0.002627010        0.004448974 -0.004947882          80        30   7\n",
       "                        file median_true_BD_shift true_incorporator\n",
       "1 OTU_abs1e9_PCR_sub_dBD.txt                    0             FALSE\n",
       "2 OTU_abs1e9_PCR_sub_dBD.txt                    0             FALSE\n",
       "3 OTU_abs1e9_PCR_sub_dBD.txt                    0             FALSE\n",
       "  true_atom_fraction_excess atom_fraction_excess\n",
       "1                         0          -0.24795572\n",
       "2                         0          -0.08831361\n",
       "3                         0          -0.13744117\n"
      ]
     },
     "metadata": {},
     "output_type": "display_data"
    }
   ],
   "source": [
    "%%R\n",
    "df.j = inner_join(df_dBD, df_shift, c('taxon' = 'taxon',\n",
    "                                       'shared_perc'='shared_perc',\n",
    "                                       'perm_perc'='perm_perc',\n",
    "                                       'rep'='rep')) %>%\n",
    "    filter(!is.na(delta_BD)) %>%\n",
    "    mutate(true_incorporator = ifelse(median_true_BD_shift > 0.002, TRUE, FALSE),\n",
    "           true_atom_fraction_excess = median_true_BD_shift / 0.036,\n",
    "           atom_fraction_excess = delta_BD / 0.036)\n",
    "df.j %>% head(n=3)"
   ]
  },
  {
   "cell_type": "code",
   "execution_count": 71,
   "metadata": {
    "collapsed": false
   },
   "outputs": [],
   "source": [
    "%%R\n",
    "# free memory\n",
    "df_shift = df_dBD = NULL"
   ]
  },
  {
   "cell_type": "code",
   "execution_count": 72,
   "metadata": {
    "collapsed": false
   },
   "outputs": [
    {
     "data": {
      "image/png": "[encoded data removed]"
     },
     "metadata": {},
     "output_type": "display_data"
    }
   ],
   "source": [
    "%%R -h 250 \n",
    "# difference between true and estimated\n",
    "df.j.dis.dBD = df.j %>%\n",
    "    mutate(delta_excess = atom_fraction_excess * 100 - true_atom_fraction_excess * 100) %>%\n",
    "    group_by(shared_perc, perm_perc, true_incorporator) %>%\n",
    "    summarize(mean_delta_excess = mean(delta_excess),\n",
    "              sd_delta_excess = sd(delta_excess)) %>%\n",
    "    ungroup() %>%\n",
    "    mutate(shared_perc = shared_perc %>% reorder(shared_perc %>% as.numeric),\n",
    "           perm_perc = perm_perc %>% reorder(perm_perc %>% as.numeric)) %>%\n",
    "    filter(true_incorporator == TRUE)\n",
    "   \n",
    "# plotting\n",
    "ggplot(df.j.dis.dBD, aes(shared_perc, mean_delta_excess, \n",
    "                      color=perm_perc, group=perm_perc,\n",
    "                      ymin=mean_delta_excess-sd_delta_excess,\n",
    "                     ymax=mean_delta_excess+sd_delta_excess)) +\n",
    "    geom_point() +\n",
    "    geom_linerange(alpha=0.5, size=0.8) +\n",
    "    geom_line() +\n",
    "    scale_color_discrete('% taxa ranks\\npermuted') +\n",
    "    labs(x='% taxa shared', y='atom % excess\\n(truth - estimate)') +\n",
    "    theme_bw() +\n",
    "    theme(\n",
    "        text = element_text(size=16)\n",
    "    )"
   ]
  },
  {
   "cell_type": "markdown",
   "metadata": {},
   "source": [
    "## combined plot"
   ]
  },
  {
   "cell_type": "code",
   "execution_count": 73,
   "metadata": {
    "collapsed": false
   },
   "outputs": [
    {
     "data": {
      "image/png": "[encoded data removed]"
     },
     "metadata": {},
     "output_type": "display_data"
    }
   ],
   "source": [
    "%%R -w 670 -h 250\n",
    "df.jj = rbind(df.j.dis.qSIP %>% mutate(method='qSIP'),\n",
    "              df.j.dis.dBD %>% mutate(method='ΔBD'))\n",
    "\n",
    "# plotting\n",
    "ggplot(df.jj, aes(shared_perc, mean_delta_excess, \n",
    "                      color=perm_perc, group=perm_perc,\n",
    "                      ymin=mean_delta_excess-sd_delta_excess,\n",
    "                     ymax=mean_delta_excess+sd_delta_excess)) +\n",
    "    geom_point() +\n",
    "    geom_linerange(alpha=0.5, size=0.5) +\n",
    "    geom_line() +\n",
    "    geom_line() +\n",
    "    scale_color_discrete('% taxa ranks\\npermuted') +\n",
    "    labs(x='% taxa shared', y='13C atom % excess\\n(truth - estimate)') +\n",
    "    facet_grid(. ~ method) +\n",
    "    theme_bw() +\n",
    "    theme(\n",
    "        text = element_text(size=16)\n",
    "    )"
   ]
  },
  {
   "cell_type": "code",
   "execution_count": null,
   "metadata": {
    "collapsed": true
   },
   "outputs": [],
   "source": []
  }
 ],
 "metadata": {
  "hide_input": true,
  "kernelspec": {
   "display_name": "Python 2",
   "language": "python",
   "name": "python2"
  },
  "language_info": {
   "codemirror_mode": {
    "name": "ipython",
    "version": 2
   },
   "file_extension": ".py",
   "mimetype": "text/x-python",
   "name": "python",
   "nbconvert_exporter": "python",
   "pygments_lexer": "ipython2",
   "version": "2.7.11"
  }
 },
 "nbformat": 4,
 "nbformat_minor": 0
}
