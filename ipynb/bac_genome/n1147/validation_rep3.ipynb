{
 "cells": [
  {
   "cell_type": "markdown",
   "metadata": {},
   "source": [
    "# Goal\n",
    "\n",
    "* A basic, full run of the SIPSim pipeline with the whole bacterial genome dataset to see:\n",
    "  * Is the pipeline functional?\n",
    "  * Check of output at each stage of pipeline\n",
    "* simulating 3 isopycnic gradients for both treatment & control  "
   ]
  },
  {
   "cell_type": "markdown",
   "metadata": {},
   "source": [
    "# Setting variables"
   ]
  },
  {
   "cell_type": "code",
   "execution_count": 1,
   "metadata": {
    "collapsed": true
   },
   "outputs": [],
   "source": [
    "workDir = '/home/nick/notebook/SIPSim/dev/bac_genome1147/validation_rep3/'\n",
    "genomeDir = '/var/seq_data/ncbi_db/genome/Jan2016/bac_complete_spec-rep1_rn/'\n",
    "R_dir = '/home/nick/notebook/SIPSim/lib/R/'\n",
    "figureDir = '/home/nick/notebook/SIPSim/figures/bac_genome_n1147/'\n",
    "\n",
    "bandwidth = 0.8\n",
    "DBL_scaling = 0.5\n",
    "subsample_dist = 'lognormal'\n",
    "subsample_mean = 9.432\n",
    "subsample_scale = 0.5\n",
    "subsample_min = 10000\n",
    "subsample_max = 30000"
   ]
  },
  {
   "cell_type": "markdown",
   "metadata": {},
   "source": [
    "# Init"
   ]
  },
  {
   "cell_type": "code",
   "execution_count": 2,
   "metadata": {
    "collapsed": false
   },
   "outputs": [],
   "source": [
    "import glob\n",
    "from os.path import abspath\n",
    "import nestly\n",
    "from IPython.display import Image\n",
    "import os\n",
    "%load_ext rpy2.ipython\n",
    "%load_ext pushnote"
   ]
  },
  {
   "cell_type": "code",
   "execution_count": 3,
   "metadata": {
    "collapsed": false
   },
   "outputs": [
    {
     "name": "stderr",
     "output_type": "stream",
     "text": [
      "/opt/anaconda/lib/python2.7/site-packages/rpy2/robjects/functions.py:106: UserWarning: \n",
      "Attaching package: ‘dplyr’\n",
      "\n",
      "\n",
      "  res = super(Function, self).__call__(*new_args, **new_kwargs)\n",
      "/opt/anaconda/lib/python2.7/site-packages/rpy2/robjects/functions.py:106: UserWarning: The following objects are masked from ‘package:stats’:\n",
      "\n",
      "    filter, lag\n",
      "\n",
      "\n",
      "  res = super(Function, self).__call__(*new_args, **new_kwargs)\n",
      "/opt/anaconda/lib/python2.7/site-packages/rpy2/robjects/functions.py:106: UserWarning: The following objects are masked from ‘package:base’:\n",
      "\n",
      "    intersect, setdiff, setequal, union\n",
      "\n",
      "\n",
      "  res = super(Function, self).__call__(*new_args, **new_kwargs)\n"
     ]
    }
   ],
   "source": [
    "%%R\n",
    "library(ggplot2)\n",
    "library(dplyr)\n",
    "library(tidyr)\n",
    "library(gridExtra)"
   ]
  },
  {
   "cell_type": "code",
   "execution_count": 4,
   "metadata": {
    "collapsed": false
   },
   "outputs": [
    {
     "name": "stdout",
     "output_type": "stream",
     "text": [
      "/home/nick/notebook/SIPSim/dev/bac_genome1147/validation_rep3\n"
     ]
    }
   ],
   "source": [
    "if not os.path.isdir(workDir):\n",
    "    os.makedirs(workDir)\n",
    "    \n",
    "if not os.path.isdir(figureDir):\n",
    "    os.makedirs(figureDir)    \n",
    "    \n",
    "%cd $workDir    "
   ]
  },
  {
   "cell_type": "code",
   "execution_count": 5,
   "metadata": {
    "collapsed": false
   },
   "outputs": [
    {
     "name": "stdout",
     "output_type": "stream",
     "text": [
      "Min BD: 1.67323\n",
      "Max BD: 1.7744\n"
     ]
    }
   ],
   "source": [
    "# Determining min/max BD that \n",
    "## min G+C cutoff\n",
    "min_GC = 13.5\n",
    "## max G+C cutoff\n",
    "max_GC = 80\n",
    "## max G+C shift\n",
    "max_13C_shift_in_BD = 0.036\n",
    "\n",
    "\n",
    "min_range_BD = min_GC/100.0 * 0.098 + 1.66    \n",
    "max_range_BD = max_GC/100.0 * 0.098 + 1.66    \n",
    "\n",
    "max_range_BD = max_range_BD + max_13C_shift_in_BD\n",
    "\n",
    "print 'Min BD: {}'.format(min_range_BD)\n",
    "print 'Max BD: {}'.format(max_range_BD)"
   ]
  },
  {
   "cell_type": "markdown",
   "metadata": {},
   "source": [
    "# Simulating fragments"
   ]
  },
  {
   "cell_type": "code",
   "execution_count": 6,
   "metadata": {
    "collapsed": false
   },
   "outputs": [
    {
     "name": "stdout",
     "output_type": "stream",
     "text": [
      "Average coverage from simulating 10000 fragments: 333.3X\n"
     ]
    }
   ],
   "source": [
    "# estimated coverage\n",
    "mean_frag_size = 9000.0\n",
    "mean_amp_len = 300.0\n",
    "n_frags = 10000\n",
    "\n",
    "coverage = round(n_frags * mean_amp_len / mean_frag_size, 1)\n",
    "msg = 'Average coverage from simulating {} fragments: {}X'\n",
    "print msg.format(n_frags, coverage)"
   ]
  },
  {
   "cell_type": "code",
   "execution_count": null,
   "metadata": {
    "collapsed": false,
    "scrolled": false
   },
   "outputs": [],
   "source": [
    "!SIPSim fragments \\\n",
    "    $genomeDir/genome_index.txt \\\n",
    "    --fp $genomeDir \\\n",
    "    --fr ../../515F-806R.fna \\\n",
    "    --fld skewed-normal,9000,2500,-5 \\\n",
    "    --flr None,None \\\n",
    "    --nf 10000 \\\n",
    "    --np 24 \\\n",
    "    2> ampFrags.log \\\n",
    "    > ampFrags.pkl        "
   ]
  },
  {
   "cell_type": "code",
   "execution_count": null,
   "metadata": {
    "collapsed": false
   },
   "outputs": [],
   "source": [
    "!printf \"Number of taxa with >=1 amplicon: \"\n",
    "!grep \"Number of amplicons: \" ampFrags.log | \\\n",
    "    perl -ne \"s/^.+ +//; print unless /^0$/\" | wc -l"
   ]
  },
  {
   "cell_type": "markdown",
   "metadata": {},
   "source": [
    "## Number of amplicons per taxon"
   ]
  },
  {
   "cell_type": "code",
   "execution_count": null,
   "metadata": {
    "collapsed": false
   },
   "outputs": [],
   "source": [
    "!grep \"Number of amplicons: \" ampFrags.log | \\\n",
    "    perl -pe 's/.+ +//' | hist"
   ]
  },
  {
   "cell_type": "markdown",
   "metadata": {},
   "source": [
    "# Converting fragments to kde object"
   ]
  },
  {
   "cell_type": "code",
   "execution_count": null,
   "metadata": {
    "collapsed": false
   },
   "outputs": [],
   "source": [
    "!SIPSim fragment_KDE \\\n",
    "    ampFrags.pkl \\\n",
    "    > ampFrags_kde.pkl"
   ]
  },
  {
   "cell_type": "markdown",
   "metadata": {},
   "source": [
    "## Checking ampfrag info"
   ]
  },
  {
   "cell_type": "code",
   "execution_count": null,
   "metadata": {
    "collapsed": false
   },
   "outputs": [],
   "source": [
    "!SIPSim KDE_info \\\n",
    "    -s ampFrags_kde.pkl \\\n",
    "    > ampFrags_kde_info.txt"
   ]
  },
  {
   "cell_type": "code",
   "execution_count": null,
   "metadata": {
    "collapsed": false
   },
   "outputs": [],
   "source": [
    "%%R \n",
    "# loading\n",
    "df = read.delim('ampFrags_kde_info.txt', sep='\\t')\n",
    "df.kde1 = df %>%\n",
    "    filter(KDE_ID == 1)\n",
    "df.kde1 %>% head(n=3)\n",
    "\n",
    "BD_GC50 = 0.098 * 0.5 + 1.66"
   ]
  },
  {
   "cell_type": "code",
   "execution_count": null,
   "metadata": {
    "collapsed": false
   },
   "outputs": [],
   "source": [
    "%%R -w 500 -h 250\n",
    "# plotting\n",
    "p.amp = ggplot(df.kde1, aes(median)) +\n",
    "    geom_histogram(binwidth=0.001) +\n",
    "    geom_vline(xintercept=BD_GC50, linetype='dashed', color='red', alpha=0.7) +\n",
    "    labs(x='Median buoyant density') +\n",
    "    theme_bw() +\n",
    "    theme(\n",
    "        text = element_text(size=16)\n",
    "    )\n",
    "p.amp"
   ]
  },
  {
   "cell_type": "markdown",
   "metadata": {},
   "source": [
    "# Making an incorp config file\n",
    "\n",
    "* 10% of taxa with 100% atom excess 13C"
   ]
  },
  {
   "cell_type": "code",
   "execution_count": null,
   "metadata": {
    "collapsed": false
   },
   "outputs": [],
   "source": [
    "!SIPSim incorpConfigExample \\\n",
    "    --percTaxa 10 \\\n",
    "    --percIncorpUnif 100 \\\n",
    "    --n_reps 3 \\\n",
    "    > PT10_PI100.config\n",
    "    \n",
    "# checking output\n",
    "!cat PT10_PI100.config"
   ]
  },
  {
   "cell_type": "markdown",
   "metadata": {},
   "source": [
    "# Selecting incorporator taxa\n",
    "\n",
    "* This is to make the gradient replicates consistent (qSIP finds mean among replicates)"
   ]
  },
  {
   "cell_type": "code",
   "execution_count": null,
   "metadata": {
    "collapsed": false
   },
   "outputs": [],
   "source": [
    "!SIPSim KDE_selectTaxa \\\n",
    "    -f 0.1 \\\n",
    "    ampFrags_kde.pkl \\\n",
    "    > incorporators.txt"
   ]
  },
  {
   "cell_type": "markdown",
   "metadata": {},
   "source": [
    "# Creating a community file\n",
    "\n",
    "* 2 communities\n",
    "  * control vs treatment"
   ]
  },
  {
   "cell_type": "code",
   "execution_count": null,
   "metadata": {
    "collapsed": false
   },
   "outputs": [],
   "source": [
    "!SIPSim communities \\\n",
    "    --config PT10_PI100.config \\\n",
    "    $genomeDir/genome_index.txt \\\n",
    "    > comm.txt"
   ]
  },
  {
   "cell_type": "markdown",
   "metadata": {},
   "source": [
    "## Plotting community rank abundances"
   ]
  },
  {
   "cell_type": "code",
   "execution_count": null,
   "metadata": {
    "collapsed": false
   },
   "outputs": [],
   "source": [
    "%%R -w 750 -h 300\n",
    "\n",
    "\n",
    "tbl = read.delim('comm.txt', sep='\\t') %>%\n",
    "    mutate(library = library %>% as.character %>% as.numeric,\n",
    "           condition = ifelse(library %% 2 == 0, 'Control', 'Treatment'))\n",
    "\n",
    "ggplot(tbl, aes(rank, rel_abund_perc, color=condition, group=library)) +\n",
    "    geom_line() +\n",
    "    scale_y_log10() +\n",
    "    scale_color_discrete('Community') +\n",
    "    labs(x='Rank', y='Relative abundance (%)') +\n",
    "    theme_bw() +\n",
    "    theme(\n",
    "        text=element_text(size=16)\n",
    "        )"
   ]
  },
  {
   "cell_type": "markdown",
   "metadata": {},
   "source": [
    "# Simulating gradient fractions"
   ]
  },
  {
   "cell_type": "code",
   "execution_count": null,
   "metadata": {
    "collapsed": false
   },
   "outputs": [],
   "source": [
    "!SIPSim gradient_fractions \\\n",
    "    --BD_min $min_range_BD \\\n",
    "    --BD_max $max_range_BD \\\n",
    "    comm.txt \\\n",
    "    > fracs.txt    "
   ]
  },
  {
   "cell_type": "markdown",
   "metadata": {},
   "source": [
    "## Plotting fractions"
   ]
  },
  {
   "cell_type": "code",
   "execution_count": null,
   "metadata": {
    "collapsed": false
   },
   "outputs": [],
   "source": [
    "%%R -w 600 -h 500\n",
    "\n",
    "tbl = read.delim('fracs.txt', sep='\\t')\n",
    "\n",
    "ggplot(tbl, aes(fraction, fraction_size)) +\n",
    "    geom_bar(stat='identity') +\n",
    "    facet_grid(library ~ .) +\n",
    "    labs(y='fraction size') +\n",
    "    theme_bw() +\n",
    "    theme(\n",
    "        text=element_text(size=16)\n",
    "        )"
   ]
  },
  {
   "cell_type": "code",
   "execution_count": null,
   "metadata": {
    "collapsed": false
   },
   "outputs": [],
   "source": [
    "%%R -w 450 -h 250\n",
    "tbl$library = as.character(tbl$library)\n",
    "\n",
    "ggplot(tbl, aes(library, fraction_size)) +\n",
    "    geom_boxplot() +\n",
    "    labs(y='fraction size') +\n",
    "    theme_bw() +\n",
    "    theme(\n",
    "        text=element_text(size=16)\n",
    "        )"
   ]
  },
  {
   "cell_type": "markdown",
   "metadata": {},
   "source": [
    "# Adding diffusion"
   ]
  },
  {
   "cell_type": "code",
   "execution_count": null,
   "metadata": {
    "collapsed": false
   },
   "outputs": [],
   "source": [
    "!SIPSim diffusion \\\n",
    "    --bw $bandwidth \\\n",
    "    --np 20 \\\n",
    "    ampFrags_kde.pkl \\\n",
    "    > ampFrags_kde_dif.pkl \\\n",
    "    2> ampFrags_kde_dif.log"
   ]
  },
  {
   "cell_type": "markdown",
   "metadata": {},
   "source": [
    "# Adding DBL 'smearing'\n",
    "\n",
    "* DBL = diffusive boundary layer"
   ]
  },
  {
   "cell_type": "code",
   "execution_count": null,
   "metadata": {
    "collapsed": false
   },
   "outputs": [],
   "source": [
    "!SIPSim DBL \\\n",
    "    --comm comm.txt \\\n",
    "    --commx $DBL_scaling \\\n",
    "    --np 20 \\\n",
    "    -o ampFrags_kde_dif_DBL.pkl \\\n",
    "    ampFrags_kde_dif.pkl \\\n",
    "    2> ampFrags_kde_dif_DBL.log\n",
    "    \n",
    "# checking output    \n",
    "!tail -n 5 ampFrags_kde_dif_DBL.log"
   ]
  },
  {
   "cell_type": "markdown",
   "metadata": {},
   "source": [
    "## Comparing DBL+diffusion to diffusion"
   ]
  },
  {
   "cell_type": "code",
   "execution_count": null,
   "metadata": {
    "collapsed": false
   },
   "outputs": [],
   "source": [
    "# none\n",
    "!SIPSim KDE_info \\\n",
    "    -s ampFrags_kde.pkl \\\n",
    "    > ampFrags_kde_info.txt\n",
    "    \n",
    "# diffusion\n",
    "!SIPSim KDE_info \\\n",
    "    -s ampFrags_kde_dif.pkl \\\n",
    "    > ampFrags_kde_dif_info.txt\n",
    "    \n",
    "# diffusion + DBL    \n",
    "!SIPSim KDE_info \\\n",
    "    -s ampFrags_kde_dif_DBL.pkl \\\n",
    "    > ampFrags_kde_dif_DBL_info.txt"
   ]
  },
  {
   "cell_type": "code",
   "execution_count": null,
   "metadata": {
    "collapsed": false
   },
   "outputs": [],
   "source": [
    "%%R \n",
    "\n",
    "inFile = 'ampFrags_kde_info.txt'\n",
    "df.raw = read.delim(inFile, sep='\\t')\n",
    "df.raw$stage = 'raw'\n",
    "\n",
    "inFile = 'ampFrags_kde_dif_info.txt'\n",
    "df.dif = read.delim(inFile, sep='\\t')\n",
    "df.dif$stage = 'diffusion'\n",
    "\n",
    "inFile = 'ampFrags_kde_dif_DBL_info.txt'\n",
    "df.DBL = read.delim(inFile, sep='\\t')\n",
    "df.DBL$stage = 'diffusion +\\nDBL'\n",
    "\n",
    "df = rbind(df.raw, df.dif, df.DBL)\n",
    "df.dif = ''\n",
    "df.DBL = ''\n",
    "df %>% head(n=3)"
   ]
  },
  {
   "cell_type": "code",
   "execution_count": null,
   "metadata": {
    "collapsed": false,
    "scrolled": true
   },
   "outputs": [],
   "source": [
    "%%R -w 350 -h 300\n",
    "\n",
    "df$stage = factor(df$stage, levels=c('raw', 'diffusion', 'diffusion +\\nDBL'))\n",
    "\n",
    "ggplot(df, aes(stage)) +\n",
    "    geom_boxplot(aes(y=min), color='red') +\n",
    "    geom_boxplot(aes(y=median), color='darkgreen') +\n",
    "    geom_boxplot(aes(y=max), color='blue') +\n",
    "    labs(y = 'Buoyant density (g ml^-1)') +\n",
    "    theme_bw() +\n",
    "    theme(\n",
    "        text = element_text(size=16),\n",
    "        axis.title.x = element_blank()\n",
    "    )"
   ]
  },
  {
   "cell_type": "markdown",
   "metadata": {},
   "source": [
    "# Adding isotope incorporation to BD distribution"
   ]
  },
  {
   "cell_type": "code",
   "execution_count": null,
   "metadata": {
    "collapsed": false,
    "scrolled": true
   },
   "outputs": [],
   "source": [
    "!SIPSim isotope_incorp \\\n",
    "    --comm comm.txt \\\n",
    "    --shift ampFrags_BD-shift.txt \\\n",
    "    --taxa incorporators.txt \\\n",
    "    --np 18 \\\n",
    "    -o ampFrags_kde_dif_DBL_incorp.pkl \\\n",
    "    ampFrags_kde_dif_DBL.pkl \\\n",
    "    PT10_PI100.config \\\n",
    "    2> ampFrags_kde_dif_DBL_incorp.log\n",
    "    \n",
    "# checking log\n",
    "!tail -n 5 ampFrags_kde_dif_DBL_incorp.log"
   ]
  },
  {
   "cell_type": "markdown",
   "metadata": {},
   "source": [
    "# Plotting stats on BD shift from isotope incorporation"
   ]
  },
  {
   "cell_type": "code",
   "execution_count": null,
   "metadata": {
    "collapsed": false
   },
   "outputs": [],
   "source": [
    "%%R\n",
    "inFile = 'ampFrags_BD-shift.txt'\n",
    "df = read.delim(inFile, sep='\\t') %>%\n",
    "    mutate(library = library %>% as.character)"
   ]
  },
  {
   "cell_type": "code",
   "execution_count": null,
   "metadata": {
    "collapsed": false
   },
   "outputs": [],
   "source": [
    "%%R -h 275 -w 375\n",
    "\n",
    "inFile = 'ampFrags_BD-shift.txt'\n",
    "df = read.delim(inFile, sep='\\t') %>%\n",
    "    mutate(library = library %>% as.character %>% as.numeric)\n",
    "\n",
    "df.s = df %>% \n",
    "    mutate(incorporator = ifelse(min > 0.001, TRUE, FALSE),\n",
    "           incorporator = ifelse(is.na(incorporator), 'NA', incorporator),\n",
    "           condition = ifelse(library %% 2 == 0, 'control', 'treatment')) %>%\n",
    "    group_by(library, incorporator, condition) %>%\n",
    "    summarize(n_incorps = n())\n",
    "\n",
    "\n",
    "# plotting\n",
    "ggplot(df.s, aes(library %>% as.character, n_incorps, fill=incorporator)) +\n",
    "    geom_bar(stat='identity') +\n",
    "    labs(x='Community', y = 'Count', title='Number of incorporators\\n(according to BD shift)') +\n",
    "    theme_bw() +\n",
    "    theme(\n",
    "        text = element_text(size=16)\n",
    "    )"
   ]
  },
  {
   "cell_type": "markdown",
   "metadata": {},
   "source": [
    "# Simulating an OTU table"
   ]
  },
  {
   "cell_type": "code",
   "execution_count": null,
   "metadata": {
    "collapsed": false,
    "scrolled": true
   },
   "outputs": [],
   "source": [
    "!SIPSim OTU_table \\\n",
    "    --abs 1e9 \\\n",
    "    --np 20 \\\n",
    "    ampFrags_kde_dif_DBL_incorp.pkl \\\n",
    "    comm.txt \\\n",
    "    fracs.txt \\\n",
    "    > OTU_n2_abs1e9.txt \\\n",
    "    2> OTU_n2_abs1e9.log \n",
    "    \n",
    "# checking log\n",
    "!tail -n 5 OTU_n2_abs1e9.log "
   ]
  },
  {
   "cell_type": "markdown",
   "metadata": {},
   "source": [
    "## Plotting taxon abundances"
   ]
  },
  {
   "cell_type": "code",
   "execution_count": null,
   "metadata": {
    "collapsed": true
   },
   "outputs": [],
   "source": [
    "%%R\n",
    "## BD for G+C of 0 or 100\n",
    "BD.GCp0 = 0 * 0.098 + 1.66\n",
    "BD.GCp50 = 0.5 * 0.098 + 1.66\n",
    "BD.GCp100 = 1 * 0.098 + 1.66"
   ]
  },
  {
   "cell_type": "code",
   "execution_count": null,
   "metadata": {
    "collapsed": false
   },
   "outputs": [],
   "source": [
    "%%R -w 700 -h 450\n",
    "# plotting absolute abundances\n",
    "\n",
    "# loading file\n",
    "df = read.delim('OTU_n2_abs1e9.txt', sep='\\t') \n",
    "\n",
    "df.s = df %>%\n",
    "    group_by(library, BD_mid) %>%\n",
    "    summarize(total_count = sum(count)) \n",
    "\n",
    "## plot\n",
    "p = ggplot(df.s, aes(BD_mid, total_count)) +\n",
    "    #geom_point() +\n",
    "    geom_area(stat='identity', alpha=0.3, position='dodge') +\n",
    "    geom_vline(xintercept=c(BD.GCp50), linetype='dashed', alpha=0.5) +\n",
    "    labs(x='Buoyant density', y='Total abundance') +\n",
    "    facet_grid(library ~ .) +\n",
    "    theme_bw() +\n",
    "    theme( \n",
    "        text = element_text(size=16) \n",
    "    )\n",
    "p"
   ]
  },
  {
   "cell_type": "code",
   "execution_count": null,
   "metadata": {
    "collapsed": false
   },
   "outputs": [],
   "source": [
    "%%R -w 700 -h 450\n",
    "# plotting number of taxa at each BD\n",
    "\n",
    "df.nt = df %>%\n",
    "    filter(count > 0) %>%\n",
    "    group_by(library, BD_mid) %>%\n",
    "    summarize(n_taxa = n())\n",
    "\n",
    "## plot\n",
    "p = ggplot(df.nt, aes(BD_mid, n_taxa)) +\n",
    "    #geom_point() +\n",
    "    geom_area(stat='identity', alpha=0.3, position='dodge') +\n",
    "    #geom_histogram(stat='identity') +\n",
    "    geom_vline(xintercept=c(BD.GCp50), linetype='dashed', alpha=0.5) +\n",
    "    labs(x='Buoyant density', y='Number of taxa') +\n",
    "    facet_grid(library ~ .) +\n",
    "    theme_bw() +\n",
    "    theme( \n",
    "        text = element_text(size=16),\n",
    "        legend.position = 'none'\n",
    "    )\n",
    "p"
   ]
  },
  {
   "cell_type": "code",
   "execution_count": null,
   "metadata": {
    "collapsed": false
   },
   "outputs": [],
   "source": [
    "%%R -w 700 -h 450\n",
    "# plotting relative abundances\n",
    "\n",
    "## plot\n",
    "p = ggplot(df, aes(BD_mid, count, fill=taxon)) +\n",
    "    geom_vline(xintercept=c(BD.GCp50), linetype='dashed', alpha=0.5) +\n",
    "    labs(x='Buoyant density', y='Absolute abundance') +\n",
    "    facet_grid(library ~ .) +\n",
    "    theme_bw() +\n",
    "    theme( \n",
    "        text = element_text(size=16),\n",
    "        legend.position = 'none'\n",
    "    )\n",
    "p + geom_area(stat='identity', position='dodge', alpha=0.5)"
   ]
  },
  {
   "cell_type": "code",
   "execution_count": null,
   "metadata": {
    "collapsed": false
   },
   "outputs": [],
   "source": [
    "%%R -w 700 -h 450\n",
    "p + \n",
    "    geom_area(stat='identity', position='fill') +\n",
    "    labs(x='Buoyant density', y='Relative abundance')"
   ]
  },
  {
   "cell_type": "markdown",
   "metadata": {},
   "source": [
    "# Simulating PCR bias"
   ]
  },
  {
   "cell_type": "code",
   "execution_count": null,
   "metadata": {
    "collapsed": false
   },
   "outputs": [],
   "source": [
    "!SIPSim OTU_PCR \\\n",
    "    OTU_n2_abs1e9.txt \\\n",
    "    --debug \\\n",
    "    > OTU_n2_abs1e9_PCR.txt"
   ]
  },
  {
   "cell_type": "markdown",
   "metadata": {},
   "source": [
    "## Plotting change in relative abundances"
   ]
  },
  {
   "cell_type": "code",
   "execution_count": null,
   "metadata": {
    "collapsed": false
   },
   "outputs": [],
   "source": [
    "%%R -w 800 -h 300\n",
    "# loading file\n",
    "F = 'OTU_n2_abs1e9_PCR.txt'\n",
    "df.SIM = read.delim(F, sep='\\t') %>%\n",
    "    mutate(molarity_increase = final_molarity / init_molarity * 100,\n",
    "           library = library %>% as.character)\n",
    "\n",
    "p1 = ggplot(df.SIM, aes(init_molarity, final_molarity, color=library)) +\n",
    "    geom_point(shape='O', alpha=0.5) +\n",
    "    labs(x='Initial molarity', y='Final molarity') +\n",
    "    theme_bw() +\n",
    "    theme(\n",
    "        text = element_text(size=16)\n",
    "    )\n",
    "\n",
    "p2 = ggplot(df.SIM, aes(init_molarity, molarity_increase, color=library)) +\n",
    "    geom_point(shape='O', alpha=0.5) +\n",
    "    scale_y_log10() +\n",
    "    labs(x='Initial molarity', y='% increase in molarity') +\n",
    "    theme_bw() +\n",
    "    theme(\n",
    "        text = element_text(size=16)\n",
    "    )\n",
    "\n",
    "grid.arrange(p1, p2, ncol=2)"
   ]
  },
  {
   "cell_type": "code",
   "execution_count": null,
   "metadata": {
    "collapsed": false
   },
   "outputs": [],
   "source": [
    "# PCR w/out --debug (no extra output)\n",
    "!SIPSim OTU_PCR \\\n",
    "    OTU_n2_abs1e9.txt \\\n",
    "    > OTU_n2_abs1e9_PCR.txt"
   ]
  },
  {
   "cell_type": "markdown",
   "metadata": {},
   "source": [
    "# Subsampling from the OTU table \n",
    "\n",
    "* simulating sequencing of the DNA pool"
   ]
  },
  {
   "cell_type": "code",
   "execution_count": null,
   "metadata": {
    "collapsed": false
   },
   "outputs": [],
   "source": [
    "!SIPSim OTU_subsample \\\n",
    "    --dist $subsample_dist \\\n",
    "    --dist_params mean:$subsample_mean,sigma:$subsample_scale \\\n",
    "    --min_size $subsample_min \\\n",
    "    --max_size $subsample_max \\\n",
    "    OTU_n2_abs1e9_PCR.txt \\\n",
    "    > OTU_n2_abs1e9_PCR_subNorm.txt"
   ]
  },
  {
   "cell_type": "markdown",
   "metadata": {},
   "source": [
    "### Plotting seq count distribution"
   ]
  },
  {
   "cell_type": "code",
   "execution_count": null,
   "metadata": {
    "collapsed": false
   },
   "outputs": [],
   "source": [
    "%%R -w 350 -h 250\n",
    "\n",
    "df = read.csv('OTU_n2_abs1e9_PCR_subNorm.txt', sep='\\t')\n",
    "\n",
    "df.s = df %>% \n",
    "    group_by(library, fraction) %>%\n",
    "    summarize(total_count = sum(count)) %>%\n",
    "    ungroup() %>%\n",
    "    mutate(library = as.character(library))\n",
    "\n",
    "ggplot(df.s, aes(library, total_count)) +\n",
    "    geom_boxplot() +\n",
    "    labs(y='Number of sequences\\nper fraction') +\n",
    "    theme_bw() +\n",
    "    theme(\n",
    "        text = element_text(size=16)\n",
    "    )"
   ]
  },
  {
   "cell_type": "markdown",
   "metadata": {},
   "source": [
    "# Plotting abundance distributions "
   ]
  },
  {
   "cell_type": "code",
   "execution_count": null,
   "metadata": {
    "collapsed": false
   },
   "outputs": [],
   "source": [
    "%%R \n",
    "\n",
    "# loading file\n",
    "df.abs = read.delim('OTU_n2_abs1e9.txt', sep='\\t')\n",
    "df.sub = read.delim('OTU_n2_abs1e9_PCR_subNorm.txt', sep='\\t')\n",
    "\n",
    "#lib.reval = c('1' = 'control',\n",
    "#              '2' = 'treatment',\n",
    "#              '3' = 'control',\n",
    "#              '4' = 'treatment',\n",
    "#              '5' = 'control',\n",
    "#              '6' = 'treatment')\n",
    "\n",
    "#df.abs = mutate(df.abs, library = plyr::revalue(as.character(library), lib.reval))\n",
    "#df.sub = mutate(df.sub, library = plyr::revalue(as.character(library), lib.reval))"
   ]
  },
  {
   "cell_type": "code",
   "execution_count": null,
   "metadata": {
    "collapsed": false
   },
   "outputs": [],
   "source": [
    "%%R -w 700 -h 1000\n",
    "# plotting absolute abundances\n",
    "## plot\n",
    "p = ggplot(df.abs, aes(BD_mid, count, fill=taxon)) +\n",
    "    geom_vline(xintercept=c(BD.GCp50), linetype='dashed', alpha=0.5) +\n",
    "    labs(x='Buoyant density') +\n",
    "    facet_grid(library ~ .) +\n",
    "    theme_bw() +\n",
    "    theme( \n",
    "        text = element_text(size=16),\n",
    "        axis.title.y = element_text(vjust=1),        \n",
    "        axis.title.x = element_blank(),\n",
    "        legend.position = 'none',\n",
    "        plot.margin=unit(c(1,1,0.1,1), \"cm\")\n",
    "    )\n",
    "p1 = p + geom_area(stat='identity', position='dodge', alpha=0.5) +\n",
    "    labs(y='Total community\\n(absolute abundance)')\n",
    "\n",
    "# plotting absolute abundances of subsampled\n",
    "## plot\n",
    "p = ggplot(df.sub, aes(BD_mid, count, fill=taxon)) +\n",
    "    geom_vline(xintercept=c(BD.GCp50), linetype='dashed', alpha=0.5) +\n",
    "    labs(x='Buoyant density') +\n",
    "    facet_grid(library ~ .) +\n",
    "    theme_bw() +\n",
    "    theme( \n",
    "        text = element_text(size=16),\n",
    "        legend.position = 'none'\n",
    "    )\n",
    "p2 = p + geom_area(stat='identity', position='dodge', alpha=0.5) +\n",
    "    labs(y='Subsampled community\\n(absolute abundance)') +\n",
    "    theme(\n",
    "          axis.title.y = element_text(vjust=1),        \n",
    "          axis.title.x = element_blank(),\n",
    "          plot.margin=unit(c(0.1,1,0.1,1), \"cm\")\n",
    "         )\n",
    "\n",
    "# plotting relative abundances of subsampled\n",
    "p3 = p + geom_area(stat='identity', position='fill') +\n",
    "    geom_vline(xintercept=c(BD.GCp50), linetype='dashed', alpha=0.5) +\n",
    "    labs(y='Subsampled community\\n(relative abundance)') +\n",
    "    theme(\n",
    "          axis.title.y = element_text(vjust=1),\n",
    "          plot.margin=unit(c(0.1,1,1,1.35), \"cm\")\n",
    "        )\n",
    "\n",
    "# combining plots\n",
    "grid.arrange(p1, p2, p3, ncol=1)"
   ]
  },
  {
   "cell_type": "markdown",
   "metadata": {},
   "source": [
    "# Making a wide OTU table"
   ]
  },
  {
   "cell_type": "code",
   "execution_count": null,
   "metadata": {
    "collapsed": false
   },
   "outputs": [],
   "source": [
    "!SIPSim OTU_wideLong -w \\\n",
    "    OTU_n2_abs1e9_PCR_subNorm.txt \\\n",
    "    > OTU_n2_abs1e9_PCR_subNorm_w.txt"
   ]
  },
  {
   "cell_type": "markdown",
   "metadata": {},
   "source": [
    "# Making metadata (phyloseq: sample_data)"
   ]
  },
  {
   "cell_type": "code",
   "execution_count": null,
   "metadata": {
    "collapsed": false
   },
   "outputs": [],
   "source": [
    "!SIPSim OTU_sampleData \\\n",
    "    OTU_n2_abs1e9_PCR_subNorm.txt \\\n",
    "    > OTU_n2_abs1e9_PCR_subNorm_meta.txt"
   ]
  },
  {
   "cell_type": "markdown",
   "metadata": {},
   "source": [
    "# Community analysis"
   ]
  },
  {
   "cell_type": "markdown",
   "metadata": {},
   "source": [
    "## Phyloseq"
   ]
  },
  {
   "cell_type": "code",
   "execution_count": null,
   "metadata": {
    "collapsed": false
   },
   "outputs": [],
   "source": [
    "# making phyloseq object from OTU table\n",
    "!SIPSimR phyloseq_make \\\n",
    "    OTU_n2_abs1e9_PCR_subNorm_w.txt \\\n",
    "    -s OTU_n2_abs1e9_PCR_subNorm_meta.txt \\\n",
    "    > OTU_n2_abs1e9_PCR_subNorm.physeq\n",
    "\n",
    "## making ordination\n",
    "!SIPSimR phyloseq_ordination \\\n",
    "    OTU_n2_abs1e9_PCR_subNorm.physeq \\\n",
    "    OTU_n2_abs1e9_PCR_subNorm_bray-NMDS.pdf    \n",
    "\n",
    "## filtering phyloseq object to just taxa/samples of interest (eg., BD-min/max)\n",
    "!SIPSimR phyloseq_edit \\\n",
    "    --BD_min 1.71 \\\n",
    "    --BD_max 1.75 \\\n",
    "    OTU_n2_abs1e9_PCR_subNorm.physeq \\\n",
    "    > OTU_n2_abs1e9_PCR_subNorm_filt.physeq\n",
    "\n",
    "## making ordination\n",
    "!SIPSimR phyloseq_ordination \\\n",
    "    OTU_n2_abs1e9_PCR_subNorm_filt.physeq \\\n",
    "    OTU_n2_abs1e9_PCR_subNorm_filt_bray-NMDS.pdf\n",
    "    \n",
    "# making png figures\n",
    "!convert OTU_n2_abs1e9_PCR_subNorm_bray-NMDS.pdf OTU_n2_abs1e9_PCR_subNorm_bray-NMDS.png\n",
    "!convert OTU_n2_abs1e9_PCR_subNorm_filt_bray-NMDS.pdf OTU_n2_abs1e9_PCR_subNorm_filt_bray-NMDS.png    "
   ]
  },
  {
   "cell_type": "code",
   "execution_count": null,
   "metadata": {
    "collapsed": false
   },
   "outputs": [],
   "source": [
    "Image(filename='OTU_n2_abs1e9_PCR_subNorm_bray-NMDS.png') "
   ]
  },
  {
   "cell_type": "code",
   "execution_count": null,
   "metadata": {
    "collapsed": false
   },
   "outputs": [],
   "source": [
    "Image(filename='OTU_n2_abs1e9_PCR_subNorm_filt_bray-NMDS.png')"
   ]
  },
  {
   "cell_type": "markdown",
   "metadata": {},
   "source": [
    "## DESeq2"
   ]
  },
  {
   "cell_type": "code",
   "execution_count": null,
   "metadata": {
    "collapsed": false
   },
   "outputs": [],
   "source": [
    "## DESeq2\n",
    "!SIPSimR phyloseq_DESeq2 \\\n",
    "    --log2 0.25 \\\n",
    "    --hypo greater \\\n",
    "    --cont 1,3,5 \\\n",
    "    --treat 2,4,6 \\\n",
    "    OTU_n2_abs1e9_PCR_subNorm_filt.physeq \\\n",
    "    > OTU_n2_abs1e9_PCR_subNorm_DESeq2\n",
    "    \n",
    "## Confusion matrix\n",
    "!SIPSimR DESeq2_confuseMtx \\\n",
    "    --libs 2,4,6 \\\n",
    "    --padj 0.1 \\\n",
    "    ampFrags_BD-shift.txt \\\n",
    "    OTU_n2_abs1e9_PCR_subNorm_DESeq2"
   ]
  },
  {
   "cell_type": "code",
   "execution_count": null,
   "metadata": {
    "collapsed": false
   },
   "outputs": [],
   "source": [
    "%%R -w 500 -h 350\n",
    "\n",
    "byClass = read.delim('DESeq2-cMtx_byClass.txt', sep='\\t') \n",
    "\n",
    "byClass %>% filter(variables=='Balanced Accuracy') %>% print\n",
    "\n",
    "ggplot(byClass, aes(variables, values)) +\n",
    "    geom_bar(stat='identity') +\n",
    "    labs(y='Value') +\n",
    "    facet_grid(library ~ .) +\n",
    "    theme_bw() +\n",
    "    theme(\n",
    "        text = element_text(size=16),\n",
    "        axis.title.x = element_blank(),\n",
    "        axis.text.x = element_text(angle=45, hjust=1)\n",
    "    )"
   ]
  },
  {
   "cell_type": "markdown",
   "metadata": {
    "collapsed": true
   },
   "source": [
    "## Plotting results of DESeq2"
   ]
  },
  {
   "cell_type": "code",
   "execution_count": null,
   "metadata": {
    "collapsed": true
   },
   "outputs": [],
   "source": [
    "%%R\n",
    "\n",
    "clsfy = function(guess,known){\n",
    "    if(is.na(guess) | is.na(known)){\n",
    "        return(NA)\n",
    "        }\n",
    "    if(guess == TRUE){\n",
    "        if(guess == known){\n",
    "            return('True positive')\n",
    "            } else {\n",
    "            return('False positive')\n",
    "            }\n",
    "        } else\n",
    "    if(guess == FALSE){\n",
    "        if(guess == known){\n",
    "            return('True negative')\n",
    "            } else {\n",
    "            return('False negative')\n",
    "            }\n",
    "        } else {\n",
    "        stop('Error: true or false needed')\n",
    "        }\n",
    "    }"
   ]
  },
  {
   "cell_type": "code",
   "execution_count": null,
   "metadata": {
    "collapsed": false
   },
   "outputs": [],
   "source": [
    "%%R \n",
    "\n",
    "df = read.delim('DESeq2-cMtx_data.txt', sep='\\t')\n",
    "\n",
    "df = df %>%\n",
    "    filter(! is.na(log2FoldChange), library %in% c(2,4,6)) %>%\n",
    "    mutate(taxon = reorder(taxon, -log2FoldChange),\n",
    "           cls = mapply(clsfy, incorp.pred, incorp.known))\n",
    "\n",
    "df %>% head(n=3)"
   ]
  },
  {
   "cell_type": "code",
   "execution_count": null,
   "metadata": {
    "collapsed": false
   },
   "outputs": [],
   "source": [
    "%%R -w 800 -h 350\n",
    "\n",
    "df.TN = df %>% filter(cls == 'True negative')\n",
    "df.TP = df %>% filter(cls == 'True positive')\n",
    "df.FP = df %>% filter(cls == 'False negative')\n",
    "\n",
    "ggplot(df, aes(taxon, log2FoldChange, color=cls, \n",
    "                  ymin=log2FoldChange - lfcSE, ymax=log2FoldChange + lfcSE)) +\n",
    "    geom_pointrange(size=0.4, alpha=0.5) +\n",
    "    geom_pointrange(data=df.TP, size=0.4, alpha=0.3) +\n",
    "    geom_pointrange(data=df.FP, size=0.4, alpha=0.3) +\n",
    "    labs(x = 'Taxon', y = 'Log2 fold change') +\n",
    "    facet_grid(library ~ .) +\n",
    "    theme_bw() +\n",
    "    theme(\n",
    "        text = element_text(size=16),\n",
    "        panel.grid.major.x = element_blank(),\n",
    "        panel.grid.minor.x = element_blank(),        \n",
    "        legend.title=element_blank(),\n",
    "        axis.text.x = element_blank(),\n",
    "        legend.position = 'bottom'\n",
    "        )"
   ]
  },
  {
   "cell_type": "code",
   "execution_count": null,
   "metadata": {
    "collapsed": true
   },
   "outputs": [],
   "source": []
  }
 ],
 "metadata": {
  "hide_input": true,
  "kernelspec": {
   "display_name": "Python 2",
   "language": "python",
   "name": "python2"
  },
  "language_info": {
   "codemirror_mode": {
    "name": "ipython",
    "version": 2
   },
   "file_extension": ".py",
   "mimetype": "text/x-python",
   "name": "python",
   "nbconvert_exporter": "python",
   "pygments_lexer": "ipython2",
   "version": "2.7.11"
  },
  "notify_time": "5"
 },
 "nbformat": 4,
 "nbformat_minor": 0
}
