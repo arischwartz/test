{
 "cells": [
  {
   "cell_type": "markdown",
   "metadata": {
    "code_folding": []
   },
   "source": [
    "# Goal\n",
    "\n",
    "* Follow-up to: `atomIncorp_taxaIncorp`\n",
    "* Determining the effect of 'heavy' BD window (number of windows & window sizes) on HR-SIP accuracy\n",
    "\n",
    "### Variable parameters:\n",
    "\n",
    "* 'heavy' BD window sizes"
   ]
  },
  {
   "cell_type": "markdown",
   "metadata": {},
   "source": [
    "## Init"
   ]
  },
  {
   "cell_type": "code",
   "execution_count": 1,
   "metadata": {
    "collapsed": false
   },
   "outputs": [],
   "source": [
    "import os\n",
    "import glob\n",
    "import itertools\n",
    "import nestly"
   ]
  },
  {
   "cell_type": "code",
   "execution_count": 2,
   "metadata": {
    "collapsed": false
   },
   "outputs": [],
   "source": [
    "%load_ext rpy2.ipython\n",
    "%load_ext pushnote"
   ]
  },
  {
   "cell_type": "code",
   "execution_count": 3,
   "metadata": {
    "collapsed": false
   },
   "outputs": [
    {
     "name": "stderr",
     "output_type": "stream",
     "text": [
      "/opt/anaconda/lib/python2.7/site-packages/rpy2/robjects/functions.py:106: UserWarning: Use suppressPackageStartupMessages() to eliminate package startup\n",
      "messages.\n",
      "\n",
      "  res = super(Function, self).__call__(*new_args, **new_kwargs)\n",
      "/opt/anaconda/lib/python2.7/site-packages/rpy2/robjects/functions.py:106: UserWarning: \n",
      "Attaching package: ‘dplyr’\n",
      "\n",
      "\n",
      "  res = super(Function, self).__call__(*new_args, **new_kwargs)\n",
      "/opt/anaconda/lib/python2.7/site-packages/rpy2/robjects/functions.py:106: UserWarning: The following objects are masked from ‘package:stats’:\n",
      "\n",
      "    filter, lag\n",
      "\n",
      "\n",
      "  res = super(Function, self).__call__(*new_args, **new_kwargs)\n",
      "/opt/anaconda/lib/python2.7/site-packages/rpy2/robjects/functions.py:106: UserWarning: The following objects are masked from ‘package:base’:\n",
      "\n",
      "    intersect, setdiff, setequal, union\n",
      "\n",
      "\n",
      "  res = super(Function, self).__call__(*new_args, **new_kwargs)\n"
     ]
    }
   ],
   "source": [
    "%%R\n",
    "library(ggplot2)\n",
    "library(dplyr)\n",
    "library(tidyr)\n",
    "library(gridExtra)"
   ]
  },
  {
   "cell_type": "markdown",
   "metadata": {},
   "source": [
    "### BD min/max"
   ]
  },
  {
   "cell_type": "code",
   "execution_count": 4,
   "metadata": {
    "collapsed": false
   },
   "outputs": [
    {
     "name": "stdout",
     "output_type": "stream",
     "text": [
      "Min BD: 1.67323\n",
      "Max BD: 1.7744\n"
     ]
    }
   ],
   "source": [
    "## min G+C cutoff\n",
    "min_GC = 13.5\n",
    "## max G+C cutoff\n",
    "max_GC = 80\n",
    "## max G+C shift\n",
    "max_13C_shift_in_BD = 0.036\n",
    "\n",
    "\n",
    "min_BD = min_GC/100.0 * 0.098 + 1.66    \n",
    "max_BD = max_GC/100.0 * 0.098 + 1.66    \n",
    "\n",
    "max_BD = max_BD + max_13C_shift_in_BD\n",
    "\n",
    "print 'Min BD: {}'.format(min_BD)\n",
    "print 'Max BD: {}'.format(max_BD)"
   ]
  },
  {
   "cell_type": "markdown",
   "metadata": {},
   "source": [
    "# Nestly\n",
    "\n",
    "* assuming fragments already simulated"
   ]
  },
  {
   "cell_type": "code",
   "execution_count": 5,
   "metadata": {
    "collapsed": false
   },
   "outputs": [],
   "source": [
    "# paths\n",
    "workDir = '/home/nick/notebook/SIPSim/dev/bac_genome1147/'\n",
    "buildDir = os.path.join(workDir, 'atomIncorp_taxaIncorp_MW-HR-SIP')\n",
    "dataDir = os.path.join(workDir, 'atomIncorp_taxaIncorp')"
   ]
  },
  {
   "cell_type": "code",
   "execution_count": 6,
   "metadata": {
    "collapsed": false
   },
   "outputs": [
    {
     "name": "stdout",
     "output_type": "stream",
     "text": [
      "/home/nick/notebook/SIPSim/dev/bac_genome1147/atomIncorp_taxaIncorp_MW-HR-SIP\n"
     ]
    }
   ],
   "source": [
    "if not os.path.isdir(buildDir):\n",
    "    os.makedirs(buildDir)\n",
    "%cd $buildDir"
   ]
  },
  {
   "cell_type": "code",
   "execution_count": 7,
   "metadata": {
    "collapsed": false
   },
   "outputs": [
    {
     "name": "stdout",
     "output_type": "stream",
     "text": [
      "1\tcontrol\r\n",
      "2\ttreatment\r\n",
      "3\tcontrol\r\n",
      "4\ttreatment\r\n",
      "5\tcontrol\r\n",
      "6\ttreatment\r\n"
     ]
    }
   ],
   "source": [
    "# making an experimental design file for qSIP\n",
    "x = range(1,7)\n",
    "y = ['control', 'treatment']\n",
    "\n",
    "expDesignFile = os.path.join(buildDir, 'qSIP_exp_design.txt')\n",
    "with open(expDesignFile, 'wb') as outFH:\n",
    "    for i,z in itertools.izip(x,itertools.cycle(y)):\n",
    "        line = '\\t'.join([str(i),z])\n",
    "        outFH.write(line + '\\n')\n",
    "\n",
    "!head $expDesignFile       "
   ]
  },
  {
   "cell_type": "markdown",
   "metadata": {},
   "source": [
    "## Nestly params"
   ]
  },
  {
   "cell_type": "code",
   "execution_count": 10,
   "metadata": {
    "collapsed": false
   },
   "outputs": [],
   "source": [
    "# building tree structure\n",
    "nest = nestly.Nest()\n",
    "\n",
    "\n",
    "# varying params\n",
    "nest.add('percIncorp', [0, 25, 50, 100])\n",
    "nest.add('percTaxa', [1, 5, 10, 25, 50])\n",
    "nest.add('rep', range(1,11))\n",
    "\n",
    "## set params\n",
    "nest.add('abs', ['1e9'], create_dir=False)\n",
    "nest.add('np', [10], create_dir=False)\n",
    "nest.add('Monte_rep', [100000], create_dir=False)\n",
    "nest.add('subsample_dist', ['lognormal'], create_dir=False)\n",
    "nest.add('subsample_mean', [9.432], create_dir=False)\n",
    "nest.add('subsample_scale', [0.5], create_dir=False)\n",
    "nest.add('subsample_min', [10000], create_dir=False)\n",
    "nest.add('subsample_max', [30000], create_dir=False)\n",
    "nest.add('min_BD', [min_BD], create_dir=False)\n",
    "nest.add('max_BD', [max_BD], create_dir=False)\n",
    "nest.add('DBL_scaling', [0.5], create_dir=False)\n",
    "nest.add('bandwidth', [0.8], create_dir=False)\n",
    "nest.add('heavy_BD_min', [1.71], create_dir=False)\n",
    "nest.add('heavy_BD_max', [1.75], create_dir=False)\n",
    "nest.add('topTaxaToPlot', [100], create_dir=False)\n",
    "nest.add('padj', [0.1], create_dir=False)\n",
    "nest.add('log2', [0.25], create_dir=False)\n",
    "\n",
    "### input/output files\n",
    "nest.add('buildDir', [buildDir], create_dir=False)\n",
    "nest.add('exp_design', [expDesignFile], create_dir=False)\n",
    "\n",
    "\n",
    "# building directory tree\n",
    "nest.build(buildDir)\n",
    "\n",
    "# bash file to run\n",
    "bashFile = os.path.join(buildDir, 'SIPSimRun.sh')"
   ]
  },
  {
   "cell_type": "markdown",
   "metadata": {},
   "source": [
    "# Copying input files"
   ]
  },
  {
   "cell_type": "code",
   "execution_count": 26,
   "metadata": {
    "collapsed": false
   },
   "outputs": [],
   "source": [
    "files = !find . -name \"*.json\"\n",
    "dirs = [os.path.split(x)[0] for x in files]\n",
    "\n",
    "srcFiles = ['OTU_abs1e9_PCR_sub_w.txt', 'OTU_abs1e9_PCR_sub_meta.txt']\n",
    "\n",
    "for d in dirs:\n",
    "    for f in srcFiles:\n",
    "        f1 = os.path.join(dataDir, d, f)\n",
    "        f2 = os.path.join(buildDir, d, f)\n",
    "        cmd = 'cp -f {} {}'.format(f1, f2)\n",
    "        !$cmd"
   ]
  },
  {
   "cell_type": "markdown",
   "metadata": {},
   "source": [
    "## Multi-window HR-SIP\n",
    "\n",
    "* 3 'heavy' windows: 1.69-1.73,1.72-1.76,1.75-1.79\n",
    "  * window 1 = 30-71% G+C  \n",
    "  * window 2 = 61-91% G+C  # fix\n",
    "  * window 3 = 82-122% G+C  # fix\n",
    "  * 100% G+C + 100% 13C = 136.7% G+C (equivalent)\n",
    "  \n",
    "* try1 = 1.7-1.73,1.72-1.75,1.74-1.77  \n",
    "* try2 = 1.69-1.73,1.72-1.75,1.74-1.78  \n",
    "* try3 = 1.69-1.73,1.72-1.76,1.75-1.79"
   ]
  },
  {
   "cell_type": "code",
   "execution_count": 27,
   "metadata": {
    "collapsed": false
   },
   "outputs": [
    {
     "data": {
      "text/plain": [
       "'/home/nick/notebook/SIPSim/dev/bac_genome1147/atomIncorp_taxaIncorp_MW-HR-SIP/SIPSimRun_HRSIP_multi.sh'"
      ]
     },
     "execution_count": 27,
     "metadata": {},
     "output_type": "execute_result"
    }
   ],
   "source": [
    "bashFileTmp = os.path.splitext(bashFile)[0] + '_HRSIP_multi.sh'\n",
    "bashFileTmp"
   ]
  },
  {
   "cell_type": "code",
   "execution_count": 28,
   "metadata": {
    "collapsed": false
   },
   "outputs": [
    {
     "name": "stdout",
     "output_type": "stream",
     "text": [
      "Writing /home/nick/notebook/SIPSim/dev/bac_genome1147/atomIncorp_taxaIncorp_MW-HR-SIP/SIPSimRun_HRSIP_multi.sh\n"
     ]
    }
   ],
   "source": [
    "%%writefile $bashFileTmp\n",
    "#!/bin/bash\n",
    "\n",
    "# phyloseq\n",
    "## making phyloseq object from OTU table\n",
    "SIPSimR phyloseq_make \\\n",
    "    OTU_abs{abs}_PCR_sub_w.txt \\\n",
    "    -s OTU_abs{abs}_PCR_sub_meta.txt \\\n",
    "    > OTU_abs{abs}_PCR_sub.physeq\n",
    "\n",
    "## HR SIP pipeline\n",
    "SIPSim HRSIP \\\n",
    "    --log2 {log2} \\\n",
    "    --hypo greater \\\n",
    "    --cont 1,3,5 \\\n",
    "    --treat 2,4,6 \\\n",
    "    -w 1.71-1.75 \\\n",
    "    --prefix OTU_abs{abs}_PCR_sub_BD3-1 \\\n",
    "    OTU_abs{abs}_PCR_sub.physeq\n",
    "\n",
    "## HR SIP pipeline\n",
    "SIPSim HRSIP \\\n",
    "    --log2 {log2} \\\n",
    "    --hypo greater \\\n",
    "    --cont 1,3,5 \\\n",
    "    --treat 2,4,6 \\\n",
    "    -w 1.69-1.74,1.73-1.78 \\\n",
    "    --prefix OTU_abs{abs}_PCR_sub_BD3-2 \\\n",
    "    OTU_abs{abs}_PCR_sub.physeq    \n",
    "    \n",
    "SIPSim HRSIP \\\n",
    "    --log2 {log2} \\\n",
    "    --hypo greater \\\n",
    "    --cont 1,3,5 \\\n",
    "    --treat 2,4,6 \\\n",
    "    -w 1.70-1.73,1.72-1.75,1.74-1.77 \\\n",
    "    --prefix OTU_abs{abs}_PCR_sub_BD3-3 \\\n",
    "    OTU_abs{abs}_PCR_sub.physeq\n",
    "    \n",
    "SIPSim HRSIP \\\n",
    "    --log2 {log2} \\\n",
    "    --hypo greater \\\n",
    "    --cont 1,3,5 \\\n",
    "    --treat 2,4,6 \\\n",
    "    -w 1.69-1.73,1.72-1.76,1.75-1.79 \\\n",
    "    --prefix OTU_abs{abs}_PCR_sub_BD3-4 \\\n",
    "    OTU_abs{abs}_PCR_sub.physeq    "
   ]
  },
  {
   "cell_type": "code",
   "execution_count": null,
   "metadata": {
    "collapsed": false,
    "scrolled": true
   },
   "outputs": [
    {
     "name": "stdout",
     "output_type": "stream",
     "text": [
      "2016-04-06 07:48:35,771 * INFO * Template: ./SIPSimRun_HRSIP_multi.sh\n",
      "2016-04-06 07:48:35,773 * INFO * [65634] Started ./SIPSimRun_HRSIP_multi.sh in /home/nick/notebook/SIPSim/dev/bac_genome1147/atomIncorp_taxaIncorp_MW-HR-SIP/50/50/7\n",
      "2016-04-06 07:48:35,775 * INFO * [65635] Started ./SIPSimRun_HRSIP_multi.sh in /home/nick/notebook/SIPSim/dev/bac_genome1147/atomIncorp_taxaIncorp_MW-HR-SIP/50/50/9\n",
      "2016-04-06 07:48:35,778 * INFO * [65637] Started ./SIPSimRun_HRSIP_multi.sh in /home/nick/notebook/SIPSim/dev/bac_genome1147/atomIncorp_taxaIncorp_MW-HR-SIP/50/50/8\n",
      "2016-04-06 07:48:35,781 * INFO * [65639] Started ./SIPSimRun_HRSIP_multi.sh in /home/nick/notebook/SIPSim/dev/bac_genome1147/atomIncorp_taxaIncorp_MW-HR-SIP/50/50/3\n",
      "2016-04-06 07:48:35,783 * INFO * [65641] Started ./SIPSimRun_HRSIP_multi.sh in /home/nick/notebook/SIPSim/dev/bac_genome1147/atomIncorp_taxaIncorp_MW-HR-SIP/50/50/10\n",
      "2016-04-06 07:48:35,785 * INFO * [65643] Started ./SIPSimRun_HRSIP_multi.sh in /home/nick/notebook/SIPSim/dev/bac_genome1147/atomIncorp_taxaIncorp_MW-HR-SIP/50/50/2\n",
      "2016-04-06 07:48:35,786 * INFO * [65645] Started ./SIPSimRun_HRSIP_multi.sh in /home/nick/notebook/SIPSim/dev/bac_genome1147/atomIncorp_taxaIncorp_MW-HR-SIP/50/50/1\n",
      "2016-04-06 07:48:35,788 * INFO * [65647] Started ./SIPSimRun_HRSIP_multi.sh in /home/nick/notebook/SIPSim/dev/bac_genome1147/atomIncorp_taxaIncorp_MW-HR-SIP/50/50/4\n",
      "2016-04-06 07:48:35,789 * INFO * [65649] Started ./SIPSimRun_HRSIP_multi.sh in /home/nick/notebook/SIPSim/dev/bac_genome1147/atomIncorp_taxaIncorp_MW-HR-SIP/50/50/5\n",
      "2016-04-06 07:48:35,790 * INFO * [65651] Started ./SIPSimRun_HRSIP_multi.sh in /home/nick/notebook/SIPSim/dev/bac_genome1147/atomIncorp_taxaIncorp_MW-HR-SIP/50/50/6\n",
      "2016-04-06 07:52:04,891 * INFO * [65651] /home/nick/notebook/SIPSim/dev/bac_genome1147/atomIncorp_taxaIncorp_MW-HR-SIP/50/50/6 Finished with 0\n",
      "2016-04-06 07:52:04,892 * INFO * [70566] Started ./SIPSimRun_HRSIP_multi.sh in /home/nick/notebook/SIPSim/dev/bac_genome1147/atomIncorp_taxaIncorp_MW-HR-SIP/50/25/7\n",
      "2016-04-06 07:52:05,080 * INFO * [65634] /home/nick/notebook/SIPSim/dev/bac_genome1147/atomIncorp_taxaIncorp_MW-HR-SIP/50/50/7 Finished with 0\n",
      "2016-04-06 07:52:05,081 * INFO * [70572] Started ./SIPSimRun_HRSIP_multi.sh in /home/nick/notebook/SIPSim/dev/bac_genome1147/atomIncorp_taxaIncorp_MW-HR-SIP/50/25/9\n",
      "2016-04-06 07:52:05,553 * INFO * [65643] /home/nick/notebook/SIPSim/dev/bac_genome1147/atomIncorp_taxaIncorp_MW-HR-SIP/50/50/2 Finished with 0\n",
      "2016-04-06 07:52:05,555 * INFO * [70616] Started ./SIPSimRun_HRSIP_multi.sh in /home/nick/notebook/SIPSim/dev/bac_genome1147/atomIncorp_taxaIncorp_MW-HR-SIP/50/25/8\n",
      "2016-04-06 07:52:06,772 * INFO * [65645] /home/nick/notebook/SIPSim/dev/bac_genome1147/atomIncorp_taxaIncorp_MW-HR-SIP/50/50/1 Finished with 0\n",
      "2016-04-06 07:52:06,773 * INFO * [70681] Started ./SIPSimRun_HRSIP_multi.sh in /home/nick/notebook/SIPSim/dev/bac_genome1147/atomIncorp_taxaIncorp_MW-HR-SIP/50/25/3\n",
      "2016-04-06 07:52:07,312 * INFO * [65649] /home/nick/notebook/SIPSim/dev/bac_genome1147/atomIncorp_taxaIncorp_MW-HR-SIP/50/50/5 Finished with 0\n",
      "2016-04-06 07:52:07,313 * INFO * [70712] Started ./SIPSimRun_HRSIP_multi.sh in /home/nick/notebook/SIPSim/dev/bac_genome1147/atomIncorp_taxaIncorp_MW-HR-SIP/50/25/10\n",
      "2016-04-06 07:52:08,116 * INFO * [65641] /home/nick/notebook/SIPSim/dev/bac_genome1147/atomIncorp_taxaIncorp_MW-HR-SIP/50/50/10 Finished with 0\n",
      "2016-04-06 07:52:08,118 * INFO * [70737] Started ./SIPSimRun_HRSIP_multi.sh in /home/nick/notebook/SIPSim/dev/bac_genome1147/atomIncorp_taxaIncorp_MW-HR-SIP/50/25/2\n",
      "2016-04-06 07:52:08,513 * INFO * [65635] /home/nick/notebook/SIPSim/dev/bac_genome1147/atomIncorp_taxaIncorp_MW-HR-SIP/50/50/9 Finished with 0\n",
      "2016-04-06 07:52:08,515 * INFO * [70767] Started ./SIPSimRun_HRSIP_multi.sh in /home/nick/notebook/SIPSim/dev/bac_genome1147/atomIncorp_taxaIncorp_MW-HR-SIP/50/25/1\n",
      "2016-04-06 07:52:10,716 * INFO * [65639] /home/nick/notebook/SIPSim/dev/bac_genome1147/atomIncorp_taxaIncorp_MW-HR-SIP/50/50/3 Finished with 0\n",
      "2016-04-06 07:52:10,718 * INFO * [70822] Started ./SIPSimRun_HRSIP_multi.sh in /home/nick/notebook/SIPSim/dev/bac_genome1147/atomIncorp_taxaIncorp_MW-HR-SIP/50/25/4\n",
      "2016-04-06 07:52:11,508 * INFO * [65637] /home/nick/notebook/SIPSim/dev/bac_genome1147/atomIncorp_taxaIncorp_MW-HR-SIP/50/50/8 Finished with 0\n",
      "2016-04-06 07:52:11,510 * INFO * [70853] Started ./SIPSimRun_HRSIP_multi.sh in /home/nick/notebook/SIPSim/dev/bac_genome1147/atomIncorp_taxaIncorp_MW-HR-SIP/50/25/5\n",
      "2016-04-06 07:52:13,975 * INFO * [65647] /home/nick/notebook/SIPSim/dev/bac_genome1147/atomIncorp_taxaIncorp_MW-HR-SIP/50/50/4 Finished with 0\n",
      "2016-04-06 07:52:13,976 * INFO * [70993] Started ./SIPSimRun_HRSIP_multi.sh in /home/nick/notebook/SIPSim/dev/bac_genome1147/atomIncorp_taxaIncorp_MW-HR-SIP/50/25/6\n"
     ]
    }
   ],
   "source": [
    "!chmod 777 $bashFileTmp\n",
    "!cd $workDir; \\\n",
    "    nestrun --template-file $bashFileTmp -d $buildDir --log-file HR-SIP_multi.log -j 10"
   ]
  },
  {
   "cell_type": "code",
   "execution_count": null,
   "metadata": {
    "collapsed": true
   },
   "outputs": [],
   "source": [
    "%pushnote HR-SIP multi window complete"
   ]
  },
  {
   "cell_type": "markdown",
   "metadata": {},
   "source": [
    "## Making confusion matrices"
   ]
  },
  {
   "cell_type": "code",
   "execution_count": null,
   "metadata": {
    "collapsed": false
   },
   "outputs": [],
   "source": [
    "bashFileTmp = os.path.splitext(bashFile)[0] + '_cMtx.sh'\n",
    "bashFileTmp"
   ]
  },
  {
   "cell_type": "code",
   "execution_count": null,
   "metadata": {
    "collapsed": false
   },
   "outputs": [],
   "source": [
    "%%writefile $bashFileTmp\n",
    "#!/bin/bash\n",
    "\n",
    "# HR-SIP multiple 'heavy' BD windows\n",
    "SIPSimR DESeq2_confuseMtx \\\n",
    "    --libs 2,4,6 \\\n",
    "    --padj {padj} \\\n",
    "    -o DESeq2_BD3-1-cMtx \\\n",
    "    BD-shift_stats.txt \\\n",
    "    OTU_abs1e9_PCR_sub_BD3-1_DESeq2    \n",
    "    \n",
    "    \n",
    "# HR-SIP multiple 'heavy' BD windows\n",
    "SIPSimR DESeq2_confuseMtx \\\n",
    "    --libs 2,4,6 \\\n",
    "    --padj {padj} \\\n",
    "    -o DESeq2_BD3-2-cMtx \\\n",
    "    BD-shift_stats.txt \\\n",
    "    OTU_abs1e9_PCR_sub_BD3-2_DESeq2   \n",
    "    \n",
    "# HR-SIP multiple 'heavy' BD windows\n",
    "SIPSimR DESeq2_confuseMtx \\\n",
    "    --libs 2,4,6 \\\n",
    "    --padj {padj} \\\n",
    "    -o DESeq2_BD3-3-cMtx \\\n",
    "    BD-shift_stats.txt \\\n",
    "    OTU_abs1e9_PCR_sub_BD3-3_DESeq2   \n",
    "    \n",
    "# HR-SIP multiple 'heavy' BD windows\n",
    "SIPSimR DESeq2_confuseMtx \\\n",
    "    --libs 2,4,6 \\\n",
    "    --padj {padj} \\\n",
    "    -o DESeq2_BD3-4-cMtx \\\n",
    "    BD-shift_stats.txt \\\n",
    "    OTU_abs1e9_PCR_sub_BD3-4_DESeq2       "
   ]
  },
  {
   "cell_type": "code",
   "execution_count": null,
   "metadata": {
    "collapsed": false,
    "scrolled": true
   },
   "outputs": [],
   "source": [
    "!chmod 777 $bashFileTmp\n",
    "!cd $workDir; \\\n",
    "    nestrun --template-file $bashFileTmp -d $buildDir --log-file cMtx.log -j 10"
   ]
  },
  {
   "cell_type": "markdown",
   "metadata": {},
   "source": [
    "### Aggregating the confusion matrix data"
   ]
  },
  {
   "cell_type": "code",
   "execution_count": null,
   "metadata": {
    "collapsed": false
   },
   "outputs": [],
   "source": [
    "def agg_cMtx(prefix):\n",
    "    # all data\n",
    "    #!nestagg delim \\\n",
    "    #    -d $buildDir \\\n",
    "    #    -k percIncorp,percTaxa,rep \\\n",
    "    #    -o $prefix-cMtx_data.txt \\\n",
    "    #    --tab \\\n",
    "    #    $prefix-cMtx_data.txt\n",
    "\n",
    "    # overall\n",
    "    x = prefix + '-cMtx_overall.txt'\n",
    "    !nestagg delim \\\n",
    "        -d $buildDir \\\n",
    "        -k percIncorp,percTaxa,rep \\\n",
    "        -o $x \\\n",
    "        --tab \\\n",
    "        $x\n",
    "\n",
    "    # by class\n",
    "    x = prefix + '-cMtx_byClass.txt'\n",
    "    !nestagg delim \\\n",
    "        -d $buildDir \\\n",
    "        -k percIncorp,percTaxa,rep \\\n",
    "        -o $x \\\n",
    "        --tab \\\n",
    "        $x\n",
    "        \n",
    "agg_cMtx('DESeq2_multi')"
   ]
  },
  {
   "cell_type": "code",
   "execution_count": null,
   "metadata": {
    "collapsed": true
   },
   "outputs": [],
   "source": [
    "%pushnote atomIncorp_taxaIncorp complete!"
   ]
  },
  {
   "cell_type": "markdown",
   "metadata": {},
   "source": [
    "***\n",
    "# --End of simulation--#\n",
    "***"
   ]
  },
  {
   "cell_type": "markdown",
   "metadata": {},
   "source": [
    "# Plotting results"
   ]
  },
  {
   "cell_type": "code",
   "execution_count": 77,
   "metadata": {
    "collapsed": false
   },
   "outputs": [
    {
     "data": {
      "text/plain": [
       "['/home/nick/notebook/SIPSim/dev/bac_genome1147/atomIncorp_taxaIncorp/DESeq2-cMtx_byClass.txt',\n",
       " '/home/nick/notebook/SIPSim/dev/bac_genome1147/atomIncorp_taxaIncorp/qSIP-cMtx_byClass.txt',\n",
       " '/home/nick/notebook/SIPSim/dev/bac_genome1147/atomIncorp_taxaIncorp/heavy-cMtx_byClass.txt',\n",
       " '/home/nick/notebook/SIPSim/dev/bac_genome1147/atomIncorp_taxaIncorp/DESeq2_multi-cMtx_byClass.txt']"
      ]
     },
     "execution_count": 77,
     "metadata": {},
     "output_type": "execute_result"
    }
   ],
   "source": [
    "F = os.path.join(buildDir, '*-cMtx_byClass.txt')\n",
    "files = glob.glob(F)\n",
    "files"
   ]
  },
  {
   "cell_type": "code",
   "execution_count": 78,
   "metadata": {
    "collapsed": false
   },
   "outputs": [
    {
     "data": {
      "text/plain": [
       "  library      variables    values percIncorp percTaxa rep\n",
       "1       2    Sensitivity 0.4752475         50       50   7\n",
       "2       2    Specificity 1.0000000         50       50   7\n",
       "3       2 Pos Pred Value 1.0000000         50       50   7\n",
       "                     file method\n",
       "1 DESeq2-cMtx_byClass.txt DESeq2\n",
       "2 DESeq2-cMtx_byClass.txt DESeq2\n",
       "3 DESeq2-cMtx_byClass.txt DESeq2\n"
      ]
     },
     "metadata": {},
     "output_type": "display_data"
    }
   ],
   "source": [
    "%%R -i files\n",
    "\n",
    "df_byClass = list()\n",
    "for (f in files){\n",
    "    ff = strsplit(f, '/') %>% unlist\n",
    "    fff = ff[length(ff)]\n",
    "    df_byClass[[fff]] = read.delim(f, sep='\\t')\n",
    "}\n",
    "\n",
    "df_byClass = do.call(rbind, df_byClass)\n",
    "df_byClass$file = gsub('\\\\.[0-9]+$', '', rownames(df_byClass))\n",
    "df_byClass$method = gsub('-.+', '', df_byClass$file)\n",
    "rownames(df_byClass) = 1:nrow(df_byClass)\n",
    "\n",
    "df_byClass %>% head(n=3)"
   ]
  },
  {
   "cell_type": "code",
   "execution_count": 79,
   "metadata": {
    "collapsed": false
   },
   "outputs": [
    {
     "data": {
      "text/plain": [
       "  library      variables    values percIncorp percTaxa rep\n",
       "1       2    Sensitivity 0.4752475         50       50   7\n",
       "2       2    Specificity 1.0000000         50       50   7\n",
       "3       2 Pos Pred Value 1.0000000         50       50   7\n",
       "                     file method\n",
       "1 DESeq2-cMtx_byClass.txt HR-SIP\n",
       "2 DESeq2-cMtx_byClass.txt HR-SIP\n",
       "3 DESeq2-cMtx_byClass.txt HR-SIP\n"
      ]
     },
     "metadata": {},
     "output_type": "display_data"
    }
   ],
   "source": [
    "%%R\n",
    "# renaming method\n",
    "rename = data.frame(method = c('DESeq2', 'DESeq2_multi', 'heavy', 'qSIP'), \n",
    "                   method_new = c('HR-SIP', 'MW-HR-SIP', 'Heavy-SIP', 'qSIP'))\n",
    "\n",
    "df_byClass = inner_join(df_byClass, rename, c('method'='method')) %>%\n",
    "    select(-method) %>%\n",
    "    rename('method' = method_new) \n",
    "\n",
    "df_byClass %>% head(n=3)"
   ]
  },
  {
   "cell_type": "code",
   "execution_count": 80,
   "metadata": {
    "collapsed": false
   },
   "outputs": [
    {
     "data": {
      "image/png": "[encoded data removed]"
     },
     "metadata": {},
     "output_type": "display_data"
    }
   ],
   "source": [
    "%%R -w 800 -h 550\n",
    "# summarize by SIPSim rep & library rep\n",
    "df_byClass.s = df_byClass %>%\n",
    "    group_by(method, percIncorp, percTaxa, variables) %>%\n",
    "    summarize(mean_value = mean(values),\n",
    "              sd_value = sd(values))\n",
    "\n",
    "# plotting\n",
    "ggplot(df_byClass.s, aes(variables, mean_value, color=method,\n",
    "                         ymin=mean_value-sd_value,\n",
    "                         ymax=mean_value+sd_value)) +\n",
    "    geom_pointrange(alpha=0.8, size=0.2) +\n",
    "    labs(y='Value') +\n",
    "    facet_grid(percTaxa ~ percIncorp) +\n",
    "    theme_bw() +\n",
    "    theme(\n",
    "        text = element_text(size=16),\n",
    "        axis.title.x = element_blank(),\n",
    "        axis.text.x = element_text(angle=45, hjust=1)\n",
    "    )"
   ]
  },
  {
   "cell_type": "code",
   "execution_count": 81,
   "metadata": {
    "collapsed": false
   },
   "outputs": [
    {
     "data": {
      "image/png": "[encoded data removed]"
     },
     "metadata": {},
     "output_type": "display_data"
    }
   ],
   "source": [
    "%%R -w 800 -h 600\n",
    "# summarize by SIPSim rep & library rep\n",
    "vars = c('Balanced Accuracy', 'Sensitivity', 'Specificity')\n",
    "df_byClass.s.f = df_byClass.s %>%\n",
    "    filter(variables %in% vars) \n",
    "\n",
    "# plotting\n",
    "ggplot(df_byClass.s.f, aes(variables, mean_value, fill=method,\n",
    "                         ymin=mean_value-sd_value,\n",
    "                         ymax=mean_value+sd_value)) +\n",
    "    #geom_pointrange(alpha=0.8, size=0.2) +\n",
    "    geom_bar(stat='identity', position='dodge') +\n",
    "    geom_errorbar(stat='identity', position='dodge') +\n",
    "    scale_y_continuous(breaks=seq(0, 1, 0.2)) +\n",
    "    labs(y='Value') +\n",
    "    facet_grid(percTaxa ~ percIncorp) +\n",
    "    theme_bw() +\n",
    "    theme(\n",
    "        text = element_text(size=16),\n",
    "        axis.title.x = element_blank(),\n",
    "        axis.text.x = element_text(angle=45, hjust=1)\n",
    "    )"
   ]
  },
  {
   "cell_type": "markdown",
   "metadata": {},
   "source": [
    "***"
   ]
  },
  {
   "cell_type": "markdown",
   "metadata": {},
   "source": [
    "# --re-run--\n",
    "\n",
    "* for all simulations that died due to a memory error"
   ]
  },
  {
   "cell_type": "code",
   "execution_count": 93,
   "metadata": {
    "collapsed": true
   },
   "outputs": [],
   "source": [
    "import glob"
   ]
  },
  {
   "cell_type": "markdown",
   "metadata": {},
   "source": [
    "## Function for detecting missing/empty files"
   ]
  },
  {
   "cell_type": "code",
   "execution_count": 194,
   "metadata": {
    "collapsed": false
   },
   "outputs": [
    {
     "name": "stdout",
     "output_type": "stream",
     "text": [
      "Union length: 200\n",
      "Number of missing: 0\n",
      "Number of empties: 1\n"
     ]
    },
    {
     "data": {
      "text/plain": [
       "{'empty': ['/home/nick/notebook/SIPSim/dev/bac_genome1147/atomIncorp_taxaIncorp/100/25/6'],\n",
       " 'missing': []}"
      ]
     },
     "execution_count": 194,
     "metadata": {},
     "output_type": "execute_result"
    }
   ],
   "source": [
    "def find_missing_files(filepath, empty_cut=10000):\n",
    "    # directories\n",
    "    dirpath = os.path.split(filepath)[0]\n",
    "    chk = os.path.join(buildDir, dirpath) + '/'\n",
    "    D = set([os.path.split(x)[0] for x in glob.glob(chk)])\n",
    "    \n",
    "    # files\n",
    "    chk = os.path.join(buildDir, filepath)\n",
    "    F = glob.glob(chk)\n",
    "    \n",
    "    # check for missing files\n",
    "    Fd = set([os.path.split(f)[0] for f in F])\n",
    "    missing = D - Fd    \n",
    "    print 'Union length: {}'.format(len(D | Fd))\n",
    "    print 'Number of missing: {}'.format(len(missing))\n",
    "\n",
    "    # check for empty files\n",
    "    empties = [os.path.split(f)[0] for f in F if os.path.getsize(f) < empty_cut]\n",
    "    print 'Number of empties: {}'.format(len(empties))\n",
    "    \n",
    "    # ret\n",
    "    return {'missing' : list(missing), 'empty' : empties}\n",
    "    \n",
    "find_missing_files('*/*/*/OTU_abs1e9.txt')    "
   ]
  },
  {
   "cell_type": "markdown",
   "metadata": {},
   "source": [
    "## Finding all SIPSim pipeline incompletes"
   ]
  },
  {
   "cell_type": "code",
   "execution_count": 195,
   "metadata": {
    "collapsed": false
   },
   "outputs": [
    {
     "name": "stdout",
     "output_type": "stream",
     "text": [
      "Union length: 200\n",
      "Number of missing: 0\n",
      "Number of empties: 1\n"
     ]
    }
   ],
   "source": [
    "pipeline_me = find_missing_files('*/*/*/OTU_abs1e9.txt')   "
   ]
  },
  {
   "cell_type": "code",
   "execution_count": 196,
   "metadata": {
    "collapsed": false
   },
   "outputs": [
    {
     "data": {
      "text/plain": [
       "{'empty': ['/home/nick/notebook/SIPSim/dev/bac_genome1147/atomIncorp_taxaIncorp/100/25/6'],\n",
       " 'missing': []}"
      ]
     },
     "execution_count": 196,
     "metadata": {},
     "output_type": "execute_result"
    }
   ],
   "source": [
    "pipeline_me"
   ]
  },
  {
   "cell_type": "code",
   "execution_count": 197,
   "metadata": {
    "collapsed": false
   },
   "outputs": [
    {
     "name": "stdout",
     "output_type": "stream",
     "text": [
      "#-- SIPSim pipeline --#\n",
      "# Adding diffusion\n",
      "# Adding DBL contamination; abundance-weighted smearing\n",
      "# Adding isotope incorporation to BD distribution\n",
      "# Simulating an OTU table\n",
      "# Simulating PCR\n",
      "# Subsampling from the OTU table (simulating sequencing of the DNA pool)\n",
      "# Making a wide-formatted table\n",
      "# Making metadata (phyloseq: sample_data)\n"
     ]
    }
   ],
   "source": [
    "# rerunning \n",
    "exe = '/home/nick/notebook/SIPSim/dev/bac_genome1147/atomIncorp_taxaIncorp/100/25/6/SIPSimRun_SIPSim-pipeline.sh'\n",
    "exe += ' 2> /home/nick/notebook/SIPSim/dev/bac_genome1147/atomIncorp_taxaIncorp/100/25/6/SIPSim_pipeline.log'\n",
    "!$exe \n",
    "%pushnote SIPSim pipeline rerun complete"
   ]
  },
  {
   "cell_type": "code",
   "execution_count": 205,
   "metadata": {
    "collapsed": true
   },
   "outputs": [],
   "source": [
    "exe = '/home/nick/notebook/SIPSim/dev/bac_genome1147/atomIncorp_taxaIncorp/100/25/6/SIPSimRun_SIPSim-summary.sh'\n",
    "exe += ' 2> /home/nick/notebook/SIPSim/dev/bac_genome1147/atomIncorp_taxaIncorp/100/25/6/SIPSim_summary.log'\n",
    "!$exe \n",
    "%pushnote pipeline summary rerun complete"
   ]
  },
  {
   "cell_type": "code",
   "execution_count": 202,
   "metadata": {
    "collapsed": true
   },
   "outputs": [],
   "source": [
    "# exe = '/home/nick/notebook/SIPSim/dev/bac_genome1147/atomIncorp_taxaIncorp/100/25/6/SIPSimRun_HRSIP.sh'\n",
    "# exe += ' 2> /home/nick/notebook/SIPSim/dev/bac_genome1147/atomIncorp_taxaIncorp/100/25/6/HR-SIP.log'\n",
    "# !$exe \n",
    "# %pushnote HRSIP rerun complete"
   ]
  },
  {
   "cell_type": "code",
   "execution_count": 203,
   "metadata": {
    "collapsed": false
   },
   "outputs": [
    {
     "name": "stdout",
     "output_type": "stream",
     "text": [
      "Union length: 200\n",
      "Number of missing: 0\n",
      "Number of empties: 1\n"
     ]
    }
   ],
   "source": [
    "pipeline_me = find_missing_files('*/*/*/OTU_abs1e9.txt')  "
   ]
  },
  {
   "cell_type": "markdown",
   "metadata": {},
   "source": [
    "## Finding all HR-SIP incompletes"
   ]
  },
  {
   "cell_type": "code",
   "execution_count": 231,
   "metadata": {
    "collapsed": false
   },
   "outputs": [
    {
     "name": "stdout",
     "output_type": "stream",
     "text": [
      "Union length: 200\n",
      "Number of missing: 75\n",
      "Number of empties: 0\n"
     ]
    }
   ],
   "source": [
    "HRSIP_me = find_missing_files('*/*/*/OTU_abs1e9_PCR_sub_filt_DESeq2') "
   ]
  },
  {
   "cell_type": "code",
   "execution_count": 238,
   "metadata": {
    "collapsed": false
   },
   "outputs": [
    {
     "name": "stdout",
     "output_type": "stream",
     "text": [
      "Processing: /home/nick/notebook/SIPSim/dev/bac_genome1147/atomIncorp_taxaIncorp/25/50/1\n",
      "Square root transformation\n",
      "Wisconsin double standardization\n",
      "Run 0 stress 0.1306591 \n",
      "Run 1 stress 0.1303777 \n",
      "... New best solution\n",
      "... procrustes: rmse 0.007102089  max resid 0.0444321 \n",
      "Run 2 stress 0.1948695 \n",
      "Run 3 stress 0.1306245 \n",
      "... procrustes: rmse 0.007451967  max resid 0.04495998 \n",
      "Run 4 stress 0.130682 \n",
      "... procrustes: rmse 0.006855106  max resid 0.04451128 \n",
      "Run 5 stress 0.2935093 \n",
      "Run 6 stress 0.2017967 \n",
      "Run 7 stress 0.1302226 \n",
      "... New best solution\n",
      "... procrustes: rmse 0.003597437  max resid 0.01851154 \n",
      "Run 8 stress 0.1835123 \n",
      "Run 9 stress 0.130223 \n",
      "... procrustes: rmse 4.537866e-05  max resid 0.0001128968 \n",
      "*** Solution reached\n",
      "Processing: /home/nick/notebook/SIPSim/dev/bac_genome1147/atomIncorp_taxaIncorp/25/5/3\n",
      "Square root transformation\n",
      "Wisconsin double standardization\n",
      "Run 0 stress 0.08853476 \n",
      "Run 1 stress 0.08856917 \n",
      "... procrustes: rmse 0.001831047  max resid 0.01022147 \n",
      "Run 2 stress 0.08856917 \n",
      "... procrustes: rmse 0.001836033  max resid 0.01029533 \n",
      "Run 3 stress 0.08856933 \n",
      "... procrustes: rmse 0.001816577  max resid 0.01000817 \n",
      "Run 4 stress 0.08856948 \n",
      "... procrustes: rmse 0.001810952  max resid 0.01005284 \n",
      "Run 5 stress 0.08853466 \n",
      "... New best solution\n",
      "... procrustes: rmse 3.687737e-05  max resid 0.0002295488 \n",
      "*** Solution reached\n",
      "Processing: /home/nick/notebook/SIPSim/dev/bac_genome1147/atomIncorp_taxaIncorp/25/50/3\n",
      "Square root transformation\n",
      "Wisconsin double standardization\n",
      "Run 0 stress 0.1106961 \n",
      "Run 1 stress 0.1106961 \n",
      "... New best solution\n",
      "... procrustes: rmse 3.162156e-05  max resid 0.0001619347 \n",
      "*** Solution reached\n",
      "Processing: /home/nick/notebook/SIPSim/dev/bac_genome1147/atomIncorp_taxaIncorp/25/50/2\n",
      "Square root transformation\n",
      "Wisconsin double standardization\n",
      "Run 0 stress 0.1347496 \n",
      "Run 1 stress 0.1347496 \n",
      "... New best solution\n",
      "... procrustes: rmse 3.508869e-06  max resid 1.440743e-05 \n",
      "*** Solution reached\n",
      "Processing: /home/nick/notebook/SIPSim/dev/bac_genome1147/atomIncorp_taxaIncorp/25/50/5\n",
      "Square root transformation\n",
      "Wisconsin double standardization\n",
      "Run 0 stress 0.1203735 \n",
      "Run 1 stress 0.1551046 \n",
      "Run 2 stress 0.1845447 \n",
      "Run 3 stress 0.1203154 \n",
      "... New best solution\n",
      "... procrustes: rmse 0.003830316  max resid 0.0265058 \n",
      "Run 4 stress 0.1203154 \n",
      "... New best solution\n",
      "... procrustes: rmse 6.026132e-06  max resid 2.813622e-05 \n",
      "*** Solution reached\n",
      "Processing: /home/nick/notebook/SIPSim/dev/bac_genome1147/atomIncorp_taxaIncorp/25/50/4\n",
      "Square root transformation\n",
      "Wisconsin double standardization\n",
      "Run 0 stress 0.1134243 \n",
      "Run 1 stress 0.2015223 \n",
      "Run 2 stress 0.1134133 \n",
      "... New best solution\n",
      "... procrustes: rmse 0.001119014  max resid 0.006327094 \n",
      "*** Solution reached\n",
      "Processing: /home/nick/notebook/SIPSim/dev/bac_genome1147/atomIncorp_taxaIncorp/25/50/7\n",
      "Square root transformation\n",
      "Wisconsin double standardization\n",
      "Run 0 stress 0.112631 \n",
      "Run 1 stress 0.183573 \n",
      "Run 2 stress 0.1479789 \n",
      "Run 3 stress 0.1128627 \n",
      "... procrustes: rmse 0.01213448  max resid 0.06714753 \n",
      "Run 4 stress 0.112631 \n",
      "... New best solution\n",
      "... procrustes: rmse 1.279183e-05  max resid 4.305486e-05 \n",
      "*** Solution reached\n",
      "Processing: /home/nick/notebook/SIPSim/dev/bac_genome1147/atomIncorp_taxaIncorp/25/50/6\n",
      "Square root transformation\n",
      "Wisconsin double standardization\n",
      "Run 0 stress 0.1331264 \n",
      "Run 1 stress 0.1331264 \n",
      "... New best solution\n",
      "... procrustes: rmse 4.535944e-06  max resid 1.407154e-05 \n",
      "*** Solution reached\n",
      "Processing: /home/nick/notebook/SIPSim/dev/bac_genome1147/atomIncorp_taxaIncorp/25/50/9\n",
      "Square root transformation\n",
      "Wisconsin double standardization\n",
      "Run 0 stress 0.1244531 \n",
      "Run 1 stress 0.1248421 \n",
      "... procrustes: rmse 0.008808623  max resid 0.02972768 \n",
      "Run 2 stress 0.1248422 \n",
      "... procrustes: rmse 0.008837484  max resid 0.02979646 \n",
      "Run 3 stress 0.1244607 \n",
      "... procrustes: rmse 0.01575284  max resid 0.05489619 \n",
      "Run 4 stress 0.1593665 \n",
      "Run 5 stress 0.1248421 \n",
      "... procrustes: rmse 0.00880284  max resid 0.02971 \n",
      "Run 6 stress 0.1931544 \n",
      "Run 7 stress 0.1856622 \n",
      "Run 8 stress 0.1745682 \n",
      "Run 9 stress 0.1539621 \n",
      "Run 10 stress 0.1244607 \n",
      "... procrustes: rmse 0.01575155  max resid 0.05489122 \n",
      "Run 11 stress 0.1593665 \n",
      "Run 12 stress 0.1635021 \n",
      "Run 13 stress 0.1244533 \n",
      "... procrustes: rmse 0.0001718541  max resid 0.0006560815 \n",
      "*** Solution reached\n",
      "Processing: /home/nick/notebook/SIPSim/dev/bac_genome1147/atomIncorp_taxaIncorp/25/50/8\n",
      "Square root transformation\n",
      "Wisconsin double standardization\n",
      "Run 0 stress 0.1240794 \n",
      "Run 1 stress 0.1713324 \n",
      "Run 2 stress 0.1246767 \n",
      "Run 3 stress 0.1236839 \n",
      "... New best solution\n",
      "... procrustes: rmse 0.01243634  max resid 0.05753224 \n",
      "Run 4 stress 0.1240687 \n",
      "... procrustes: rmse 0.01294737  max resid 0.05852382 \n",
      "Run 5 stress 0.1242769 \n",
      "Run 6 stress 0.1240677 \n",
      "... procrustes: rmse 0.01292224  max resid 0.05845632 \n",
      "Run 7 stress 0.1240685 \n",
      "... procrustes: rmse 0.01292835  max resid 0.05845659 \n",
      "Run 8 stress 0.1242769 \n",
      "Run 9 stress 0.1834162 \n",
      "Run 10 stress 0.1240793 \n",
      "... procrustes: rmse 0.01248793  max resid 0.05821776 \n",
      "Run 11 stress 0.1374477 \n",
      "Run 12 stress 0.1242769 \n",
      "Run 13 stress 0.1242769 \n",
      "Run 14 stress 0.1895549 \n",
      "Run 15 stress 0.123687 \n",
      "... procrustes: rmse 0.002090789  max resid 0.0134433 \n",
      "Run 16 stress 0.123687 \n",
      "... procrustes: rmse 0.002090931  max resid 0.01344554 \n",
      "Run 17 stress 0.1240677 \n",
      "... procrustes: rmse 0.01292356  max resid 0.05846123 \n",
      "Run 18 stress 0.1921161 \n",
      "Run 19 stress 0.1373245 \n",
      "Run 20 stress 0.1240677 \n",
      "... procrustes: rmse 0.01293267  max resid 0.05849495 \n",
      "Processing: /home/nick/notebook/SIPSim/dev/bac_genome1147/atomIncorp_taxaIncorp/25/25/9\n",
      "Square root transformation\n",
      "Wisconsin double standardization\n",
      "Run 0 stress 0.1107951 \n",
      "Run 1 stress 0.1107951 \n",
      "... procrustes: rmse 4.085169e-05  max resid 0.0002500245 \n",
      "*** Solution reached\n",
      "Processing: /home/nick/notebook/SIPSim/dev/bac_genome1147/atomIncorp_taxaIncorp/25/1/10\n",
      "Square root transformation\n",
      "Wisconsin double standardization\n",
      "Run 0 stress 0.07875643 \n",
      "Run 1 stress 0.1792806 \n",
      "Run 2 stress 0.07875673 \n",
      "... procrustes: rmse 4.427152e-05  max resid 0.0002313388 \n",
      "*** Solution reached\n",
      "Processing: /home/nick/notebook/SIPSim/dev/bac_genome1147/atomIncorp_taxaIncorp/25/10/3\n",
      "Square root transformation\n",
      "Wisconsin double standardization\n",
      "Run 0 stress 0.09022194 \n",
      "Run 1 stress 0.1237548 \n",
      "Run 2 stress 0.1173634 \n",
      "Run 3 stress 0.09022194 \n",
      "... procrustes: rmse 9.755399e-06  max resid 6.275165e-05 \n",
      "*** Solution reached\n",
      "Processing: /home/nick/notebook/SIPSim/dev/bac_genome1147/atomIncorp_taxaIncorp/25/25/10\n",
      "Square root transformation\n",
      "Wisconsin double standardization\n",
      "Run 0 stress 0.1126639 \n",
      "Run 1 stress 0.1126639 \n",
      "... New best solution\n",
      "... procrustes: rmse 9.302003e-06  max resid 5.451662e-05 \n",
      "*** Solution reached\n",
      "Processing: /home/nick/notebook/SIPSim/dev/bac_genome1147/atomIncorp_taxaIncorp/25/1/8\n",
      "Square root transformation\n",
      "Wisconsin double standardization\n",
      "Run 0 stress 0.08773048 \n",
      "Run 1 stress 0.1709648 \n",
      "Run 2 stress 0.08773049 \n",
      "... procrustes: rmse 6.796153e-06  max resid 4.134755e-05 \n",
      "*** Solution reached\n",
      "Processing: /home/nick/notebook/SIPSim/dev/bac_genome1147/atomIncorp_taxaIncorp/25/5/6\n",
      "Square root transformation\n",
      "Wisconsin double standardization\n",
      "Run 0 stress 0.09573879 \n",
      "Run 1 stress 0.09584208 \n",
      "... procrustes: rmse 0.003182333  max resid 0.0132016 \n",
      "Run 2 stress 0.1784272 \n",
      "Run 3 stress 0.09573869 \n",
      "... New best solution\n",
      "... procrustes: rmse 9.105396e-05  max resid 0.0004967772 \n",
      "*** Solution reached\n",
      "Processing: /home/nick/notebook/SIPSim/dev/bac_genome1147/atomIncorp_taxaIncorp/25/5/5\n",
      "Square root transformation\n",
      "Wisconsin double standardization\n",
      "Run 0 stress 0.08112191 \n",
      "Run 1 stress 0.08112191 \n",
      "... procrustes: rmse 5.091931e-06  max resid 2.429293e-05 \n",
      "*** Solution reached\n",
      "Processing: /home/nick/notebook/SIPSim/dev/bac_genome1147/atomIncorp_taxaIncorp/100/1/4\n",
      "Square root transformation\n",
      "Wisconsin double standardization\n",
      "Run 0 stress 0.0983163 \n",
      "Run 1 stress 0.09831449 \n",
      "... New best solution\n",
      "... procrustes: rmse 0.001815793  max resid 0.0126965 \n",
      "Run 2 stress 0.09831732 \n",
      "... procrustes: rmse 0.001014557  max resid 0.005381796 \n",
      "*** Solution reached\n",
      "Processing: /home/nick/notebook/SIPSim/dev/bac_genome1147/atomIncorp_taxaIncorp/25/5/4\n",
      "Square root transformation\n",
      "Wisconsin double standardization\n",
      "Run 0 stress 0.09043094 \n",
      "Run 1 stress 0.09043094 \n",
      "... New best solution\n",
      "... procrustes: rmse 1.357128e-06  max resid 7.363228e-06 \n",
      "*** Solution reached\n",
      "Processing: /home/nick/notebook/SIPSim/dev/bac_genome1147/atomIncorp_taxaIncorp/25/10/8\n",
      "Square root transformation\n",
      "Wisconsin double standardization\n",
      "Run 0 stress 0.09670357 \n",
      "Run 1 stress 0.09675156 \n",
      "... procrustes: rmse 0.001239911  max resid 0.007523251 \n",
      "*** Solution reached\n",
      "Processing: /home/nick/notebook/SIPSim/dev/bac_genome1147/atomIncorp_taxaIncorp/100/1/5\n",
      "Square root transformation\n",
      "Wisconsin double standardization\n",
      "Run 0 stress 0.09067075 \n",
      "Run 1 stress 0.1702241 \n",
      "Run 2 stress 0.09105925 \n",
      "... procrustes: rmse 0.004367738  max resid 0.02382829 \n",
      "Run 3 stress 0.09105925 \n",
      "... procrustes: rmse 0.00436775  max resid 0.02382645 \n",
      "Run 4 stress 0.09131854 \n",
      "Run 5 stress 0.1750379 \n",
      "Run 6 stress 0.09105925 \n",
      "... procrustes: rmse 0.004368944  max resid 0.02385645 \n",
      "Run 7 stress 0.09131854 \n",
      "Run 8 stress 0.09131854 \n",
      "Run 9 stress 0.09067075 \n",
      "... New best solution\n",
      "... procrustes: rmse 7.404192e-06  max resid 3.200759e-05 \n",
      "*** Solution reached\n",
      "Processing: /home/nick/notebook/SIPSim/dev/bac_genome1147/atomIncorp_taxaIncorp/25/5/7\n",
      "Square root transformation\n",
      "Wisconsin double standardization\n",
      "Run 0 stress 0.08930792 \n",
      "Run 1 stress 0.08937975 \n",
      "... procrustes: rmse 0.002153854  max resid 0.0113435 \n",
      "Run 2 stress 0.1229354 \n",
      "Run 3 stress 0.1400184 \n",
      "Run 4 stress 0.08957023 \n",
      "... procrustes: rmse 0.004427693  max resid 0.02591182 \n",
      "Run 5 stress 0.122919 \n",
      "Run 6 stress 0.08930156 \n",
      "... New best solution\n",
      "... procrustes: rmse 0.0008481135  max resid 0.004945288 \n",
      "*** Solution reached\n",
      "**OUTPUT MUTED**"
     ]
    }
   ],
   "source": [
    "def run_HRSIP(dirpath):\n",
    "    cmd = 'cd {}; {} 2> {}'.format(dirpath, './SIPSimRun_HRSIP.sh', 'HR-SIP.log')\n",
    "    !$cmd\n",
    "\n",
    "for FL in HRSIP_me.values():\n",
    "    for D in FL:\n",
    "        print 'Processing: {}'.format(D)\n",
    "        run_HRSIP(D)"
   ]
  },
  {
   "cell_type": "code",
   "execution_count": 239,
   "metadata": {
    "collapsed": false
   },
   "outputs": [
    {
     "name": "stdout",
     "output_type": "stream",
     "text": [
      "Union length: 200\n",
      "Number of missing: 0\n",
      "Number of empties: 0\n"
     ]
    }
   ],
   "source": [
    "HRSIP_me = find_missing_files('*/*/*/OTU_abs1e9_PCR_sub_filt_DESeq2') "
   ]
  },
  {
   "cell_type": "markdown",
   "metadata": {},
   "source": [
    "## Finding all qSIP pipeline incompletes"
   ]
  },
  {
   "cell_type": "code",
   "execution_count": 212,
   "metadata": {
    "collapsed": false
   },
   "outputs": [
    {
     "name": "stdout",
     "output_type": "stream",
     "text": [
      "Union length: 200\n",
      "Number of missing: 80\n",
      "Number of empties: 1\n"
     ]
    }
   ],
   "source": [
    "qSIP_me = find_missing_files('*/*/*/*qSIP_atom.txt')  "
   ]
  },
  {
   "cell_type": "markdown",
   "metadata": {},
   "source": [
    "### re-running qSIP"
   ]
  },
  {
   "cell_type": "code",
   "execution_count": null,
   "metadata": {
    "collapsed": false
   },
   "outputs": [
    {
     "name": "stdout",
     "output_type": "stream",
     "text": [
      "Processing: /home/nick/notebook/SIPSim/dev/bac_genome1147/atomIncorp_taxaIncorp/100/25/6\n"
     ]
    }
   ],
   "source": [
    "def run_qSIP(dirpath):\n",
    "    #cmd = os.path.join(dirpath, 'SIPSimRun_qSIP.sh')\n",
    "    #log = os.path.join(dirpath, 'qSIP.log')\n",
    "    cmd = 'cd {}; perl -pi -e \"s/--np 10/--np 20/\" {}'.format(dirpath, 'SIPSimRun_qSIP.sh')\n",
    "    !$cmd\n",
    "    cmd = 'cd {}; {} 2> {}'.format(dirpath, './SIPSimRun_qSIP.sh', 'qSIP.log')\n",
    "    !$cmd\n",
    "\n",
    "for FL in qSIP_me.values():\n",
    "    for D in FL:\n",
    "        print 'Processing: {}'.format(D)\n",
    "        run_qSIP(D)"
   ]
  },
  {
   "cell_type": "code",
   "execution_count": null,
   "metadata": {
    "collapsed": true
   },
   "outputs": [],
   "source": [
    "%pushnote qSIP rerun complete"
   ]
  },
  {
   "cell_type": "markdown",
   "metadata": {},
   "source": [
    "### re-running cMtx"
   ]
  },
  {
   "cell_type": "code",
   "execution_count": 228,
   "metadata": {
    "collapsed": false
   },
   "outputs": [
    {
     "name": "stdout",
     "output_type": "stream",
     "text": [
      "Union length: 200\n",
      "Number of missing: 82\n",
      "Number of empties: 0\n"
     ]
    }
   ],
   "source": [
    "cMtx_me = find_missing_files('*/*/*/qSIP-cMtx_overall.txt', empty_cut=200)  "
   ]
  },
  {
   "cell_type": "code",
   "execution_count": 242,
   "metadata": {
    "collapsed": false
   },
   "outputs": [
    {
     "name": "stdout",
     "output_type": "stream",
     "text": [
      "Processing: /home/nick/notebook/SIPSim/dev/bac_genome1147/atomIncorp_taxaIncorp/25/50/1\n",
      "Processing: /home/nick/notebook/SIPSim/dev/bac_genome1147/atomIncorp_taxaIncorp/25/5/3\n",
      "Processing: /home/nick/notebook/SIPSim/dev/bac_genome1147/atomIncorp_taxaIncorp/25/50/3\n",
      "Processing: /home/nick/notebook/SIPSim/dev/bac_genome1147/atomIncorp_taxaIncorp/25/50/2\n",
      "Processing: /home/nick/notebook/SIPSim/dev/bac_genome1147/atomIncorp_taxaIncorp/25/50/5\n",
      "Processing: /home/nick/notebook/SIPSim/dev/bac_genome1147/atomIncorp_taxaIncorp/25/50/4\n",
      "Processing: /home/nick/notebook/SIPSim/dev/bac_genome1147/atomIncorp_taxaIncorp/25/50/7\n",
      "Processing: /home/nick/notebook/SIPSim/dev/bac_genome1147/atomIncorp_taxaIncorp/25/50/6\n",
      "Processing: /home/nick/notebook/SIPSim/dev/bac_genome1147/atomIncorp_taxaIncorp/25/50/9\n",
      "Processing: /home/nick/notebook/SIPSim/dev/bac_genome1147/atomIncorp_taxaIncorp/25/50/8\n",
      "Processing: /home/nick/notebook/SIPSim/dev/bac_genome1147/atomIncorp_taxaIncorp/25/25/9\n",
      "Processing: /home/nick/notebook/SIPSim/dev/bac_genome1147/atomIncorp_taxaIncorp/100/10/10\n",
      "Processing: /home/nick/notebook/SIPSim/dev/bac_genome1147/atomIncorp_taxaIncorp/100/5/10\n",
      "Processing: /home/nick/notebook/SIPSim/dev/bac_genome1147/atomIncorp_taxaIncorp/25/1/10\n",
      "Processing: /home/nick/notebook/SIPSim/dev/bac_genome1147/atomIncorp_taxaIncorp/25/10/3\n",
      "Processing: /home/nick/notebook/SIPSim/dev/bac_genome1147/atomIncorp_taxaIncorp/25/25/10\n",
      "Processing: /home/nick/notebook/SIPSim/dev/bac_genome1147/atomIncorp_taxaIncorp/25/1/8\n",
      "Processing: /home/nick/notebook/SIPSim/dev/bac_genome1147/atomIncorp_taxaIncorp/25/5/6\n",
      "Processing: /home/nick/notebook/SIPSim/dev/bac_genome1147/atomIncorp_taxaIncorp/25/5/5\n",
      "Processing: /home/nick/notebook/SIPSim/dev/bac_genome1147/atomIncorp_taxaIncorp/100/1/4\n",
      "Processing: /home/nick/notebook/SIPSim/dev/bac_genome1147/atomIncorp_taxaIncorp/25/5/4\n",
      "Processing: /home/nick/notebook/SIPSim/dev/bac_genome1147/atomIncorp_taxaIncorp/25/10/8\n",
      "Processing: /home/nick/notebook/SIPSim/dev/bac_genome1147/atomIncorp_taxaIncorp/100/1/5\n",
      "Processing: /home/nick/notebook/SIPSim/dev/bac_genome1147/atomIncorp_taxaIncorp/25/5/7\n",
      "Processing: /home/nick/notebook/SIPSim/dev/bac_genome1147/atomIncorp_taxaIncorp/100/1/7\n",
      "Processing: /home/nick/notebook/SIPSim/dev/bac_genome1147/atomIncorp_taxaIncorp/100/1/6\n",
      "Processing: /home/nick/notebook/SIPSim/dev/bac_genome1147/atomIncorp_taxaIncorp/100/1/1\n",
      "Processing: /home/nick/notebook/SIPSim/dev/bac_genome1147/atomIncorp_taxaIncorp/25/25/8\n",
      "Processing: /home/nick/notebook/SIPSim/dev/bac_genome1147/atomIncorp_taxaIncorp/100/1/3\n",
      "Processing: /home/nick/notebook/SIPSim/dev/bac_genome1147/atomIncorp_taxaIncorp/100/1/2\n",
      "Processing: /home/nick/notebook/SIPSim/dev/bac_genome1147/atomIncorp_taxaIncorp/25/25/5\n",
      "Processing: /home/nick/notebook/SIPSim/dev/bac_genome1147/atomIncorp_taxaIncorp/25/25/4\n",
      "Processing: /home/nick/notebook/SIPSim/dev/bac_genome1147/atomIncorp_taxaIncorp/25/25/7\n",
      "Processing: /home/nick/notebook/SIPSim/dev/bac_genome1147/atomIncorp_taxaIncorp/25/25/6\n",
      "Processing: /home/nick/notebook/SIPSim/dev/bac_genome1147/atomIncorp_taxaIncorp/100/1/9\n",
      "Processing: /home/nick/notebook/SIPSim/dev/bac_genome1147/atomIncorp_taxaIncorp/100/1/8\n",
      "Processing: /home/nick/notebook/SIPSim/dev/bac_genome1147/atomIncorp_taxaIncorp/25/25/3\n",
      "Processing: /home/nick/notebook/SIPSim/dev/bac_genome1147/atomIncorp_taxaIncorp/25/25/2\n",
      "Processing: /home/nick/notebook/SIPSim/dev/bac_genome1147/atomIncorp_taxaIncorp/100/1/10\n",
      "Processing: /home/nick/notebook/SIPSim/dev/bac_genome1147/atomIncorp_taxaIncorp/25/5/2\n",
      "Processing: /home/nick/notebook/SIPSim/dev/bac_genome1147/atomIncorp_taxaIncorp/25/10/10\n",
      "Processing: /home/nick/notebook/SIPSim/dev/bac_genome1147/atomIncorp_taxaIncorp/25/50/10\n",
      "Processing: /home/nick/notebook/SIPSim/dev/bac_genome1147/atomIncorp_taxaIncorp/25/5/1\n",
      "Processing: /home/nick/notebook/SIPSim/dev/bac_genome1147/atomIncorp_taxaIncorp/25/5/10\n",
      "Processing: /home/nick/notebook/SIPSim/dev/bac_genome1147/atomIncorp_taxaIncorp/25/10/5\n",
      "Processing: /home/nick/notebook/SIPSim/dev/bac_genome1147/atomIncorp_taxaIncorp/25/10/4\n",
      "Processing: /home/nick/notebook/SIPSim/dev/bac_genome1147/atomIncorp_taxaIncorp/25/10/7\n",
      "Processing: /home/nick/notebook/SIPSim/dev/bac_genome1147/atomIncorp_taxaIncorp/25/10/6\n",
      "Processing: /home/nick/notebook/SIPSim/dev/bac_genome1147/atomIncorp_taxaIncorp/25/10/1\n",
      "Processing: /home/nick/notebook/SIPSim/dev/bac_genome1147/atomIncorp_taxaIncorp/100/10/9\n",
      "Processing: /home/nick/notebook/SIPSim/dev/bac_genome1147/atomIncorp_taxaIncorp/100/25/6\n",
      "Processing: /home/nick/notebook/SIPSim/dev/bac_genome1147/atomIncorp_taxaIncorp/25/10/2\n",
      "Processing: /home/nick/notebook/SIPSim/dev/bac_genome1147/atomIncorp_taxaIncorp/100/10/4\n",
      "Processing: /home/nick/notebook/SIPSim/dev/bac_genome1147/atomIncorp_taxaIncorp/100/10/5\n",
      "Processing: /home/nick/notebook/SIPSim/dev/bac_genome1147/atomIncorp_taxaIncorp/100/10/6\n",
      "Processing: /home/nick/notebook/SIPSim/dev/bac_genome1147/atomIncorp_taxaIncorp/100/10/7\n",
      "Processing: /home/nick/notebook/SIPSim/dev/bac_genome1147/atomIncorp_taxaIncorp/25/10/9\n",
      "Processing: /home/nick/notebook/SIPSim/dev/bac_genome1147/atomIncorp_taxaIncorp/100/10/1\n",
      "Processing: /home/nick/notebook/SIPSim/dev/bac_genome1147/atomIncorp_taxaIncorp/100/10/2\n",
      "Processing: /home/nick/notebook/SIPSim/dev/bac_genome1147/atomIncorp_taxaIncorp/100/10/3\n",
      "Processing: /home/nick/notebook/SIPSim/dev/bac_genome1147/atomIncorp_taxaIncorp/100/5/9\n",
      "Processing: /home/nick/notebook/SIPSim/dev/bac_genome1147/atomIncorp_taxaIncorp/100/5/8\n",
      "Processing: /home/nick/notebook/SIPSim/dev/bac_genome1147/atomIncorp_taxaIncorp/25/1/9\n",
      "Processing: /home/nick/notebook/SIPSim/dev/bac_genome1147/atomIncorp_taxaIncorp/100/5/1\n",
      "Processing: /home/nick/notebook/SIPSim/dev/bac_genome1147/atomIncorp_taxaIncorp/25/25/1\n",
      "Processing: /home/nick/notebook/SIPSim/dev/bac_genome1147/atomIncorp_taxaIncorp/100/5/3\n",
      "Processing: /home/nick/notebook/SIPSim/dev/bac_genome1147/atomIncorp_taxaIncorp/100/5/2\n",
      "Processing: /home/nick/notebook/SIPSim/dev/bac_genome1147/atomIncorp_taxaIncorp/100/5/5\n",
      "Processing: /home/nick/notebook/SIPSim/dev/bac_genome1147/atomIncorp_taxaIncorp/100/5/4\n",
      "Processing: /home/nick/notebook/SIPSim/dev/bac_genome1147/atomIncorp_taxaIncorp/100/5/7\n",
      "Processing: /home/nick/notebook/SIPSim/dev/bac_genome1147/atomIncorp_taxaIncorp/100/5/6\n",
      "Processing: /home/nick/notebook/SIPSim/dev/bac_genome1147/atomIncorp_taxaIncorp/25/1/2\n",
      "Processing: /home/nick/notebook/SIPSim/dev/bac_genome1147/atomIncorp_taxaIncorp/25/1/3\n",
      "Processing: /home/nick/notebook/SIPSim/dev/bac_genome1147/atomIncorp_taxaIncorp/25/1/1\n",
      "Processing: /home/nick/notebook/SIPSim/dev/bac_genome1147/atomIncorp_taxaIncorp/25/1/6\n",
      "Processing: /home/nick/notebook/SIPSim/dev/bac_genome1147/atomIncorp_taxaIncorp/25/5/8\n",
      "Processing: /home/nick/notebook/SIPSim/dev/bac_genome1147/atomIncorp_taxaIncorp/25/1/4\n",
      "Processing: /home/nick/notebook/SIPSim/dev/bac_genome1147/atomIncorp_taxaIncorp/25/1/5\n",
      "Processing: /home/nick/notebook/SIPSim/dev/bac_genome1147/atomIncorp_taxaIncorp/100/10/8\n",
      "Processing: /home/nick/notebook/SIPSim/dev/bac_genome1147/atomIncorp_taxaIncorp/25/1/7\n",
      "Processing: /home/nick/notebook/SIPSim/dev/bac_genome1147/atomIncorp_taxaIncorp/25/5/9\n",
      "Processing: /home/nick/notebook/SIPSim/dev/bac_genome1147/atomIncorp_taxaIncorp/100/25/5\n"
     ]
    }
   ],
   "source": [
    "def run_cMtx(dirpath):\n",
    "    cmd = 'cd {}; {} 2> {}'.format(dirpath, './SIPSimRun_cMtx.sh', 'cMtx.log')\n",
    "    !$cmd\n",
    "\n",
    "for FL in cMtx_me.values():\n",
    "    for D in FL:\n",
    "        print 'Processing: {}'.format(D)\n",
    "        run_cMtx(D)"
   ]
  },
  {
   "cell_type": "code",
   "execution_count": 243,
   "metadata": {
    "collapsed": false
   },
   "outputs": [
    {
     "name": "stdout",
     "output_type": "stream",
     "text": [
      "Union length: 200\n",
      "Number of missing: 0\n",
      "Number of empties: 0\n"
     ]
    }
   ],
   "source": [
    "cMtx_me = find_missing_files('*/*/*/qSIP-cMtx_overall.txt', empty_cut=200)  "
   ]
  },
  {
   "cell_type": "code",
   "execution_count": 244,
   "metadata": {
    "collapsed": true
   },
   "outputs": [],
   "source": [
    "%pushnote cMtx rerun complete"
   ]
  },
  {
   "cell_type": "code",
   "execution_count": null,
   "metadata": {
    "collapsed": true
   },
   "outputs": [],
   "source": []
  }
 ],
 "metadata": {
  "hide_input": true,
  "kernelspec": {
   "display_name": "Python 2",
   "language": "python",
   "name": "python2"
  },
  "language_info": {
   "codemirror_mode": {
    "name": "ipython",
    "version": 2
   },
   "file_extension": ".py",
   "mimetype": "text/x-python",
   "name": "python",
   "nbconvert_exporter": "python",
   "pygments_lexer": "ipython2",
   "version": "2.7.11"
  }
 },
 "nbformat": 4,
 "nbformat_minor": 0
}
