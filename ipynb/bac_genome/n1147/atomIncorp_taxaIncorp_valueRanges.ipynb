{
 "cells": [
  {
   "cell_type": "markdown",
   "metadata": {},
   "source": [
    "# Goal\n",
    "\n",
    "* Get values ranges for atomIncorp_taxaIncorp simulation run\n",
    "  * values for MS"
   ]
  },
  {
   "cell_type": "markdown",
   "metadata": {},
   "source": [
    "# Setting paths"
   ]
  },
  {
   "cell_type": "code",
   "execution_count": 2,
   "metadata": {
    "collapsed": false
   },
   "outputs": [],
   "source": [
    "# paths\n",
    "import os\n",
    "\n",
    "workDir = '/home/nick/notebook/SIPSim/dev/bac_genome1147/'\n",
    "buildDir = os.path.join(workDir, 'atomIncorp_taxaIncorp')\n",
    "R_dir = '/home/nick/notebook/SIPSim/lib/R/'\n",
    "\n",
    "fragFile = '/home/nick/notebook/SIPSim/dev/bac_genome1147/validation/ampFrags_kde.pkl'\n",
    "genome_index = '/var/seq_data/ncbi_db/genome/Jan2016/bac_complete_spec-rep1_rn/genome_index.txt'"
   ]
  },
  {
   "cell_type": "markdown",
   "metadata": {},
   "source": [
    "## Init"
   ]
  },
  {
   "cell_type": "code",
   "execution_count": 3,
   "metadata": {
    "collapsed": false
   },
   "outputs": [],
   "source": [
    "import glob\n",
    "import itertools\n",
    "import nestly"
   ]
  },
  {
   "cell_type": "code",
   "execution_count": 4,
   "metadata": {
    "collapsed": false
   },
   "outputs": [],
   "source": [
    "%load_ext rpy2.ipython\n",
    "%load_ext pushnote"
   ]
  },
  {
   "cell_type": "code",
   "execution_count": 5,
   "metadata": {
    "collapsed": false
   },
   "outputs": [
    {
     "name": "stderr",
     "output_type": "stream",
     "text": [
      "/opt/anaconda/lib/python2.7/site-packages/rpy2/robjects/functions.py:106: UserWarning: \n",
      "Attaching package: ‘dplyr’\n",
      "\n",
      "\n",
      "  res = super(Function, self).__call__(*new_args, **new_kwargs)\n",
      "/opt/anaconda/lib/python2.7/site-packages/rpy2/robjects/functions.py:106: UserWarning: The following objects are masked from ‘package:stats’:\n",
      "\n",
      "    filter, lag\n",
      "\n",
      "\n",
      "  res = super(Function, self).__call__(*new_args, **new_kwargs)\n",
      "/opt/anaconda/lib/python2.7/site-packages/rpy2/robjects/functions.py:106: UserWarning: The following objects are masked from ‘package:base’:\n",
      "\n",
      "    intersect, setdiff, setequal, union\n",
      "\n",
      "\n",
      "  res = super(Function, self).__call__(*new_args, **new_kwargs)\n",
      "/opt/anaconda/lib/python2.7/site-packages/rpy2/robjects/functions.py:106: UserWarning: \n",
      "Attaching package: ‘gridExtra’\n",
      "\n",
      "\n",
      "  res = super(Function, self).__call__(*new_args, **new_kwargs)\n",
      "/opt/anaconda/lib/python2.7/site-packages/rpy2/robjects/functions.py:106: UserWarning: The following object is masked from ‘package:dplyr’:\n",
      "\n",
      "    combine\n",
      "\n",
      "\n",
      "  res = super(Function, self).__call__(*new_args, **new_kwargs)\n"
     ]
    }
   ],
   "source": [
    "%%R\n",
    "library(ggplot2)\n",
    "library(dplyr)\n",
    "library(tidyr)\n",
    "library(gridExtra)"
   ]
  },
  {
   "cell_type": "markdown",
   "metadata": {},
   "source": [
    "# Getting results"
   ]
  },
  {
   "cell_type": "code",
   "execution_count": 6,
   "metadata": {
    "collapsed": false
   },
   "outputs": [
    {
     "data": {
      "text/plain": [
       "['/home/nick/notebook/SIPSim/dev/bac_genome1147/atomIncorp_taxaIncorp/DESeq2-cMtx_byClass.txt',\n",
       " '/home/nick/notebook/SIPSim/dev/bac_genome1147/atomIncorp_taxaIncorp/qSIP-cMtx_byClass.txt',\n",
       " '/home/nick/notebook/SIPSim/dev/bac_genome1147/atomIncorp_taxaIncorp/heavy-cMtx_byClass.txt',\n",
       " '/home/nick/notebook/SIPSim/dev/bac_genome1147/atomIncorp_taxaIncorp/DESeq2_multi-cMtx_byClass.txt']"
      ]
     },
     "execution_count": 6,
     "metadata": {},
     "output_type": "execute_result"
    }
   ],
   "source": [
    "F = os.path.join(buildDir, '*-cMtx_byClass.txt')\n",
    "files = glob.glob(F)\n",
    "files"
   ]
  },
  {
   "cell_type": "code",
   "execution_count": 7,
   "metadata": {
    "collapsed": false
   },
   "outputs": [
    {
     "data": {
      "text/plain": [
       "  library      variables    values percIncorp percTaxa rep\n",
       "1       2    Sensitivity 0.2805755         50       50   7\n",
       "2       2    Specificity 1.0000000         50       50   7\n",
       "3       2 Pos Pred Value 1.0000000         50       50   7\n",
       "                     file method\n",
       "1 DESeq2-cMtx_byClass.txt DESeq2\n",
       "2 DESeq2-cMtx_byClass.txt DESeq2\n",
       "3 DESeq2-cMtx_byClass.txt DESeq2\n"
      ]
     },
     "metadata": {},
     "output_type": "display_data"
    }
   ],
   "source": [
    "%%R -i files\n",
    "\n",
    "df_byClass = list()\n",
    "for (f in files){\n",
    "    ff = strsplit(f, '/') %>% unlist\n",
    "    fff = ff[length(ff)]\n",
    "    df_byClass[[fff]] = read.delim(f, sep='\\t')\n",
    "}\n",
    "\n",
    "df_byClass = do.call(rbind, df_byClass)\n",
    "df_byClass$file = gsub('\\\\.[0-9]+$', '', rownames(df_byClass))\n",
    "df_byClass$method = gsub('-.+', '', df_byClass$file)\n",
    "rownames(df_byClass) = 1:nrow(df_byClass)\n",
    "\n",
    "df_byClass %>% head(n=3)"
   ]
  },
  {
   "cell_type": "markdown",
   "metadata": {},
   "source": [
    "# min/max"
   ]
  },
  {
   "cell_type": "code",
   "execution_count": 12,
   "metadata": {
    "collapsed": false
   },
   "outputs": [
    {
     "data": {
      "text/plain": [
       "Source: local data frame [4 x 4]\n",
       "Groups: method [?]\n",
       "\n",
       "        method   variables   min_val   max_val\n",
       "         <chr>      <fctr>     <dbl>     <dbl>\n",
       "1       DESeq2 Specificity 0.9984301 1.0000000\n",
       "2 DESeq2_multi Specificity 0.9870490 1.0000000\n",
       "3        heavy Specificity 0.1098004 0.6853767\n",
       "4         qSIP Specificity 0.6666667 0.9813737\n"
      ]
     },
     "metadata": {},
     "output_type": "display_data"
    }
   ],
   "source": [
    "%%R\n",
    "df_byClass %>%\n",
    "    filter(variables == 'Specificity') %>%\n",
    "    group_by(method, variables) %>%\n",
    "    summarize(min_val = min(values, na.rm=TRUE),\n",
    "              max_val = max(values, na.rm=TRUE))"
   ]
  },
  {
   "cell_type": "code",
   "execution_count": 10,
   "metadata": {
    "collapsed": false
   },
   "outputs": [
    {
     "data": {
      "text/plain": [
       "Source: local data frame [4 x 4]\n",
       "Groups: method [?]\n",
       "\n",
       "        method   variables    min_val max_val\n",
       "         <chr>      <fctr>      <dbl>   <dbl>\n",
       "1       DESeq2 Sensitivity 0.00000000       1\n",
       "2 DESeq2_multi Sensitivity 0.01860465       1\n",
       "3        heavy Sensitivity 0.72727273       1\n",
       "4         qSIP Sensitivity 0.54545455       1\n"
      ]
     },
     "metadata": {},
     "output_type": "display_data"
    }
   ],
   "source": [
    "%%R\n",
    "df_byClass %>%\n",
    "    filter(variables == 'Sensitivity') %>%\n",
    "    group_by(method, variables) %>%\n",
    "    summarize(min_val = min(values, na.rm=TRUE),\n",
    "              max_val = max(values, na.rm=TRUE))"
   ]
  },
  {
   "cell_type": "markdown",
   "metadata": {},
   "source": [
    "# mean +/- s.d."
   ]
  },
  {
   "cell_type": "code",
   "execution_count": 9,
   "metadata": {
    "collapsed": false
   },
   "outputs": [
    {
     "data": {
      "text/plain": [
       "Source: local data frame [4 x 4]\n",
       "Groups: method [?]\n",
       "\n",
       "        method   variables  mean_val       sd_val\n",
       "         <chr>      <fctr>     <dbl>        <dbl>\n",
       "1       DESeq2 Specificity 0.9999898 0.0001166902\n",
       "2 DESeq2_multi Specificity 0.9993969 0.0016998115\n",
       "3        heavy Specificity 0.2786951 0.1643863872\n",
       "4         qSIP Specificity 0.8838634 0.0586022230\n"
      ]
     },
     "metadata": {},
     "output_type": "display_data"
    }
   ],
   "source": [
    "%%R\n",
    "df_byClass %>%\n",
    "    filter(variables == 'Specificity') %>%\n",
    "    group_by(method, variables) %>%\n",
    "    summarize(mean_val = mean(values, na.rm=TRUE),\n",
    "              sd_val = sd(values, na.rm=TRUE))"
   ]
  },
  {
   "cell_type": "code",
   "execution_count": 10,
   "metadata": {
    "collapsed": false
   },
   "outputs": [
    {
     "data": {
      "text/plain": [
       "Source: local data frame [4 x 4]\n",
       "Groups: method [?]\n",
       "\n",
       "        method   variables  mean_val     sd_val\n",
       "         <chr>      <fctr>     <dbl>      <dbl>\n",
       "1       DESeq2 Sensitivity 0.4724049 0.31490068\n",
       "2 DESeq2_multi Sensitivity 0.6629941 0.29586940\n",
       "3        heavy Sensitivity 0.9245333 0.06439925\n",
       "4         qSIP Sensitivity 0.9095945 0.05959184\n"
      ]
     },
     "metadata": {},
     "output_type": "display_data"
    }
   ],
   "source": [
    "%%R\n",
    "df_byClass %>%\n",
    "    filter(variables == 'Sensitivity') %>%\n",
    "    group_by(method, variables) %>%\n",
    "    summarize(mean_val = mean(values, na.rm=TRUE),\n",
    "              sd_val = sd(values, na.rm=TRUE))"
   ]
  },
  {
   "cell_type": "markdown",
   "metadata": {},
   "source": [
    "# mean +/- s.d. (by params)"
   ]
  },
  {
   "cell_type": "code",
   "execution_count": 15,
   "metadata": {
    "collapsed": false
   },
   "outputs": [
    {
     "data": {
      "text/plain": [
       "   method   variables percIncorp percTaxa  mean_val     sd_val\n",
       "1    qSIP Specificity        100        1 0.8582665 0.06679054\n",
       "2    qSIP Specificity         25       10 0.8606177 0.06864633\n",
       "3    qSIP Specificity         25       25 0.8656590 0.05045378\n",
       "4    qSIP Specificity          0       50 0.8698730 0.07816412\n",
       "5    qSIP Specificity         15       50 0.8703427 0.04429995\n",
       "6    qSIP Specificity          0        5 0.8721416 0.05364967\n",
       "7    qSIP Specificity        100       50 0.8754534 0.07077869\n",
       "8    qSIP Specificity        100        5 0.8756387 0.09349809\n",
       "9    qSIP Specificity        100       25 0.8767710 0.05752558\n",
       "10   qSIP Specificity         25       50 0.8795854 0.06877459\n",
       "11   qSIP Specificity         50        5 0.8796246 0.06520878\n",
       "12   qSIP Specificity          0       10 0.8818512 0.05212165\n",
       "13   qSIP Specificity         15        5 0.8833004 0.04326785\n",
       "14   qSIP Specificity         25        5 0.8836289 0.06543908\n",
       "15   qSIP Specificity         25        1 0.8844525 0.06073938\n",
       "16   qSIP Specificity         50       10 0.8846595 0.03504214\n",
       "17   qSIP Specificity          0       25 0.8865699 0.03826421\n",
       "18   qSIP Specificity         15        1 0.8881183 0.06476368\n",
       "19   qSIP Specificity         50       25 0.8954663 0.05564128\n",
       "20   qSIP Specificity          0        1 0.8970962 0.03542797\n",
       "21   qSIP Specificity         15       10 0.8984085 0.03882326\n",
       "22   qSIP Specificity         50       50 0.9004672 0.06018125\n",
       "23   qSIP Specificity         15       25 0.9026506 0.05825303\n",
       "24   qSIP Specificity        100       10 0.9117078 0.03659808\n",
       "25   qSIP Specificity         50        1 0.9142342 0.03165473\n"
      ]
     },
     "metadata": {},
     "output_type": "display_data"
    }
   ],
   "source": [
    "%%R\n",
    "df_byClass %>%\n",
    "    filter(variables == 'Specificity',\n",
    "           method=='qSIP') %>%\n",
    "    group_by(method, variables, percIncorp, percTaxa) %>%\n",
    "    summarize(mean_val = mean(values, na.rm=TRUE),\n",
    "              sd_val = sd(values, na.rm=TRUE)) %>%\n",
    "    arrange(mean_val) %>%\n",
    "    as.data.frame"
   ]
  },
  {
   "cell_type": "code",
   "execution_count": 16,
   "metadata": {
    "collapsed": false
   },
   "outputs": [
    {
     "data": {
      "text/plain": [
       "   method   variables percIncorp percTaxa  mean_val      sd_val\n",
       "1    qSIP Sensitivity         15       25 0.8561337 0.028905507\n",
       "2    qSIP Sensitivity         15        5 0.8622943 0.030733507\n",
       "3    qSIP Sensitivity         15       50 0.8653961 0.015116509\n",
       "4    qSIP Sensitivity         15       10 0.8665195 0.034107758\n",
       "5    qSIP Sensitivity         15        1 0.8854545 0.116606330\n",
       "6    qSIP Sensitivity         50        1 0.8945455 0.142177024\n",
       "7    qSIP Sensitivity         25       10 0.8958477 0.031271014\n",
       "8    qSIP Sensitivity         25       50 0.9050348 0.016293899\n",
       "9    qSIP Sensitivity         25        5 0.9050976 0.041106911\n",
       "10   qSIP Sensitivity         25       25 0.9075375 0.013894165\n",
       "11   qSIP Sensitivity         50       50 0.9170469 0.018121752\n",
       "12   qSIP Sensitivity         50        5 0.9170827 0.032738165\n",
       "13   qSIP Sensitivity         50       25 0.9188085 0.010369028\n",
       "14   qSIP Sensitivity         25        1 0.9345455 0.083912587\n",
       "15   qSIP Sensitivity        100       50 0.9345952 0.010085473\n",
       "16   qSIP Sensitivity        100       10 0.9390744 0.006752672\n",
       "17   qSIP Sensitivity         50       10 0.9403575 0.019146335\n",
       "18   qSIP Sensitivity        100       25 0.9437450 0.013289597\n",
       "19   qSIP Sensitivity        100        5 0.9438842 0.026476977\n",
       "20   qSIP Sensitivity        100        1 0.9588889 0.068564929\n",
       "21   qSIP Sensitivity          0        1       NaN         NaN\n",
       "22   qSIP Sensitivity          0        5       NaN         NaN\n",
       "23   qSIP Sensitivity          0       10       NaN         NaN\n",
       "24   qSIP Sensitivity          0       25       NaN         NaN\n",
       "25   qSIP Sensitivity          0       50       NaN         NaN\n"
      ]
     },
     "metadata": {},
     "output_type": "display_data"
    }
   ],
   "source": [
    "%%R\n",
    "df_byClass %>%\n",
    "    filter(variables == 'Sensitivity',\n",
    "           method=='qSIP') %>%\n",
    "    group_by(method, variables, percIncorp, percTaxa) %>%\n",
    "    summarize(mean_val = mean(values, na.rm=TRUE),\n",
    "              sd_val = sd(values, na.rm=TRUE)) %>%\n",
    "    arrange(mean_val) %>%\n",
    "    as.data.frame"
   ]
  },
  {
   "cell_type": "markdown",
   "metadata": {},
   "source": [
    "# Difference between qSIP and MW-HR-SIP"
   ]
  },
  {
   "cell_type": "code",
   "execution_count": 33,
   "metadata": {
    "collapsed": false
   },
   "outputs": [
    {
     "data": {
      "text/plain": [
       "  mean_diff\n",
       "1 0.1161264\n"
      ]
     },
     "metadata": {},
     "output_type": "display_data"
    }
   ],
   "source": [
    "%%R\n",
    "df_byClass %>%\n",
    "    dplyr::select(-file) %>%\n",
    "    group_by(method, variables, percIncorp, percTaxa) %>%\n",
    "    summarize(mean_val = mean(values, na.rm=TRUE)) %>%\n",
    "    ungroup() %>%\n",
    "    filter(variables %in% c('Specificity'),\n",
    "           method %in% c('qSIP', 'DESeq2')) %>%\n",
    "    spread(method, mean_val) %>% \n",
    "    mutate(diff = DESeq2 - qSIP) %>%\n",
    "    summarize(mean_diff = mean(diff)) %>%\n",
    "    as.data.frame"
   ]
  },
  {
   "cell_type": "code",
   "execution_count": null,
   "metadata": {
    "collapsed": true
   },
   "outputs": [],
   "source": []
  }
 ],
 "metadata": {
  "hide_input": true,
  "kernelspec": {
   "display_name": "Python 2",
   "language": "python",
   "name": "python2"
  },
  "language_info": {
   "codemirror_mode": {
    "name": "ipython",
    "version": 2
   },
   "file_extension": ".py",
   "mimetype": "text/x-python",
   "name": "python",
   "nbconvert_exporter": "python",
   "pygments_lexer": "ipython2",
   "version": "2.7.11"
  }
 },
 "nbformat": 4,
 "nbformat_minor": 0
}
