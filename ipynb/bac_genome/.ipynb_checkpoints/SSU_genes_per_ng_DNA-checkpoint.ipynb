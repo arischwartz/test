{
 "cells": [
  {
   "cell_type": "markdown",
   "metadata": {},
   "source": [
    "# Estimating the number of 16S rRNA genes per ng of DNA\n",
    "\n",
    "* Used to estimate the number of 16S genes in a CsCl gradient \n",
    "  * Used ~5 ug of DNA per gradient\n",
    "  \n",
    "## Calculations\n",
    "\n",
    "* Number of genomes in X DNA\n",
    "  * MW of DNA\n",
    "  * Size distribution of bacterial genomes\n",
    "* Number of 16S gene copies in X DNA\n",
    "  * Distribution of 16S gene copy number per genome"
   ]
  },
  {
   "cell_type": "markdown",
   "metadata": {},
   "source": [
    "# Setting variables"
   ]
  },
  {
   "cell_type": "code",
   "execution_count": 58,
   "metadata": {
    "collapsed": true
   },
   "outputs": [],
   "source": [
    "import os\n",
    "\n",
    "workDir = '/home/nick/notebook/SIPSim/dev/bac_genome1210/SSU_genes_per_ng_DNA/'\n",
    "rnammerDir = os.path.join(workDir + 'rnammer')\n",
    "genomeDir = '/home/nick/notebook/SIPSim/dev/bac_genome1210/genomes/'"
   ]
  },
  {
   "cell_type": "markdown",
   "metadata": {},
   "source": [
    "# Init"
   ]
  },
  {
   "cell_type": "code",
   "execution_count": 186,
   "metadata": {
    "collapsed": false
   },
   "outputs": [
    {
     "name": "stdout",
     "output_type": "stream",
     "text": [
      "The rpy2.ipython extension is already loaded. To reload it, use:\n",
      "  %reload_ext rpy2.ipython\n"
     ]
    }
   ],
   "source": [
    "import glob\n",
    "import pyfasta\n",
    "import numpy as np\n",
    "import pandas as pd\n",
    "from collections import Counter\n",
    "import matplotlib.pyplot as plt\n",
    "import scipy.stats as ss\n",
    "from fitter import Fitter\n",
    "from functools import partial\n",
    "\n",
    "%matplotlib inline  \n",
    "%load_ext rpy2.ipython"
   ]
  },
  {
   "cell_type": "code",
   "execution_count": 4,
   "metadata": {
    "collapsed": false
   },
   "outputs": [
    {
     "name": "stderr",
     "output_type": "stream",
     "text": [
      "/opt/anaconda/lib/python2.7/site-packages/rpy2/robjects/functions.py:106: UserWarning: \n",
      "Attaching package: ‘dplyr’\n",
      "\n",
      "\n",
      "  res = super(Function, self).__call__(*new_args, **new_kwargs)\n",
      "/opt/anaconda/lib/python2.7/site-packages/rpy2/robjects/functions.py:106: UserWarning: The following objects are masked from ‘package:stats’:\n",
      "\n",
      "    filter, lag\n",
      "\n",
      "\n",
      "  res = super(Function, self).__call__(*new_args, **new_kwargs)\n",
      "/opt/anaconda/lib/python2.7/site-packages/rpy2/robjects/functions.py:106: UserWarning: The following objects are masked from ‘package:base’:\n",
      "\n",
      "    intersect, setdiff, setequal, union\n",
      "\n",
      "\n",
      "  res = super(Function, self).__call__(*new_args, **new_kwargs)\n"
     ]
    }
   ],
   "source": [
    "%%R\n",
    "library(dplyr) \n",
    "library(tidyr) \n",
    "library(ggplot2) "
   ]
  },
  {
   "cell_type": "code",
   "execution_count": 59,
   "metadata": {
    "collapsed": true
   },
   "outputs": [],
   "source": [
    "if not os.path.isdir(workDir):\n",
    "    os.makedirs(workDir)\n",
    "    \n",
    "if not os.path.isdir(rnammerDir):\n",
    "    os.makedirs(rnammerDir)    "
   ]
  },
  {
   "cell_type": "markdown",
   "metadata": {},
   "source": [
    "# Size distribution of bacterial genomes"
   ]
  },
  {
   "cell_type": "code",
   "execution_count": 12,
   "metadata": {
    "collapsed": false
   },
   "outputs": [
    {
     "name": "stdout",
     "output_type": "stream",
     "text": [
      "Number of genome files: 1210\n"
     ]
    }
   ],
   "source": [
    "p = os.path.join(genomeDir, '*.fasta')\n",
    "genomeFiles = glob.glob(p)\n",
    "\n",
    "print 'Number of genome files: {}'.format(len(genomeFiles))"
   ]
  },
  {
   "cell_type": "markdown",
   "metadata": {},
   "source": [
    "# Distribution of 16S gene copies per genome"
   ]
  },
  {
   "cell_type": "code",
   "execution_count": 44,
   "metadata": {
    "collapsed": false
   },
   "outputs": [],
   "source": [
    "total_seq_len = lambda x: sum([len(y) for y in x.values()])\n",
    "\n",
    "def total_genome_lens(genome_files):\n",
    "    genome_lens = {}\n",
    "    for fasta in genome_files:\n",
    "        name = os.path.split(fasta)[-1]\n",
    "        name = os.path.splitext(name)[0]\n",
    "\n",
    "        pyf = pyfasta.Fasta(fasta)\n",
    "        genome_lens[name] = [total_seq_len(pyf)]\n",
    "    return genome_lens\n",
    "\n",
    "genome_lens = total_genome_lens(genomeFiles)"
   ]
  },
  {
   "cell_type": "code",
   "execution_count": 135,
   "metadata": {
    "collapsed": false
   },
   "outputs": [
    {
     "data": {
      "text/html": [
       "<div>\n",
       "<table border=\"1\" class=\"dataframe\">\n",
       "  <thead>\n",
       "    <tr style=\"text-align: right;\">\n",
       "      <th></th>\n",
       "      <th>0</th>\n",
       "    </tr>\n",
       "  </thead>\n",
       "  <tbody>\n",
       "    <tr>\n",
       "      <th>Acaryochloris_marina_MBIC11017</th>\n",
       "      <td>6503724</td>\n",
       "    </tr>\n",
       "    <tr>\n",
       "      <th>Acetobacter_pasteurianus_IFO_3283-12</th>\n",
       "      <td>2904624</td>\n",
       "    </tr>\n",
       "    <tr>\n",
       "      <th>Acetobacterium_woodii_DSM_1030</th>\n",
       "      <td>4044777</td>\n",
       "    </tr>\n",
       "    <tr>\n",
       "      <th>Acetohalobium_arabaticum_DSM_5501</th>\n",
       "      <td>2469596</td>\n",
       "    </tr>\n",
       "    <tr>\n",
       "      <th>Acholeplasma_laidlawii_PG-8A</th>\n",
       "      <td>1496992</td>\n",
       "    </tr>\n",
       "    <tr>\n",
       "      <th>Achromobacter_xylosoxidans_A8</th>\n",
       "      <td>7013095</td>\n",
       "    </tr>\n",
       "    <tr>\n",
       "      <th>Acidaminococcus_fermentans_DSM_20731</th>\n",
       "      <td>2329769</td>\n",
       "    </tr>\n",
       "    <tr>\n",
       "      <th>Acidaminococcus_intestini_RyC-MR95</th>\n",
       "      <td>2487765</td>\n",
       "    </tr>\n",
       "    <tr>\n",
       "      <th>Acidimicrobium_ferrooxidans_DSM_10331</th>\n",
       "      <td>2158157</td>\n",
       "    </tr>\n",
       "    <tr>\n",
       "      <th>Acidiphilium_cryptum_JF-5</th>\n",
       "      <td>3389227</td>\n",
       "    </tr>\n",
       "    <tr>\n",
       "      <th>Acidiphilium_multivorum_AIU301</th>\n",
       "      <td>3749411</td>\n",
       "    </tr>\n",
       "    <tr>\n",
       "      <th>Acidithiobacillus_caldus_ATCC_51756</th>\n",
       "      <td>2777717</td>\n",
       "    </tr>\n",
       "    <tr>\n",
       "      <th>Acidithiobacillus_ferrivorans_SS3</th>\n",
       "      <td>3207552</td>\n",
       "    </tr>\n",
       "    <tr>\n",
       "      <th>Acidithiobacillus_ferrooxidans_ATCC_53993</th>\n",
       "      <td>2885038</td>\n",
       "    </tr>\n",
       "    <tr>\n",
       "      <th>Acidobacterium_capsulatum_ATCC_51196</th>\n",
       "      <td>4127356</td>\n",
       "    </tr>\n",
       "    <tr>\n",
       "      <th>Acidothermus_cellulolyticus_11B</th>\n",
       "      <td>2443540</td>\n",
       "    </tr>\n",
       "    <tr>\n",
       "      <th>Acidovorax_avenae_subsp_avenae_ATCC_19860</th>\n",
       "      <td>5482170</td>\n",
       "    </tr>\n",
       "    <tr>\n",
       "      <th>Acidovorax_citrulli_AAC00-1</th>\n",
       "      <td>5352772</td>\n",
       "    </tr>\n",
       "    <tr>\n",
       "      <th>Acidovorax_ebreus_TPSY</th>\n",
       "      <td>3796573</td>\n",
       "    </tr>\n",
       "    <tr>\n",
       "      <th>Acinetobacter_baumannii_BJAB07104</th>\n",
       "      <td>3951920</td>\n",
       "    </tr>\n",
       "    <tr>\n",
       "      <th>Acinetobacter_calcoaceticus_PHEA-2</th>\n",
       "      <td>3862530</td>\n",
       "    </tr>\n",
       "    <tr>\n",
       "      <th>Acinetobacter_oleivorans_DR1</th>\n",
       "      <td>4152543</td>\n",
       "    </tr>\n",
       "    <tr>\n",
       "      <th>Actinobacillus_equuli_subsp_equuli</th>\n",
       "      <td>2431533</td>\n",
       "    </tr>\n",
       "    <tr>\n",
       "      <th>Actinobacillus_pleuropneumoniae_serovar_5b_str_L20</th>\n",
       "      <td>2274482</td>\n",
       "    </tr>\n",
       "    <tr>\n",
       "      <th>Actinobacillus_succinogenes_130Z</th>\n",
       "      <td>2319663</td>\n",
       "    </tr>\n",
       "    <tr>\n",
       "      <th>Actinobacillus_suis_ATCC_33415</th>\n",
       "      <td>2501598</td>\n",
       "    </tr>\n",
       "    <tr>\n",
       "      <th>Actinoplanes_friuliensis_DSM_7358</th>\n",
       "      <td>9376071</td>\n",
       "    </tr>\n",
       "    <tr>\n",
       "      <th>Actinoplanes_missouriensis_431</th>\n",
       "      <td>8773466</td>\n",
       "    </tr>\n",
       "    <tr>\n",
       "      <th>Actinosynnema_mirum_DSM_43827</th>\n",
       "      <td>8248144</td>\n",
       "    </tr>\n",
       "    <tr>\n",
       "      <th>Adlercreutzia_equolifaciens_DSM_19450</th>\n",
       "      <td>2862526</td>\n",
       "    </tr>\n",
       "    <tr>\n",
       "      <th>...</th>\n",
       "      <td>...</td>\n",
       "    </tr>\n",
       "    <tr>\n",
       "      <th>Wolbachia_endosymbiont_of_Onchocerca_volvulus_str_Cameroon</th>\n",
       "      <td>960618</td>\n",
       "    </tr>\n",
       "    <tr>\n",
       "      <th>Wolbachia_endosymbiont_strain_TRS_of_Brugia_malayi</th>\n",
       "      <td>1080084</td>\n",
       "    </tr>\n",
       "    <tr>\n",
       "      <th>Wolbachia_endosymbiont_wPip_Mol_of_Culex_molestus</th>\n",
       "      <td>1340443</td>\n",
       "    </tr>\n",
       "    <tr>\n",
       "      <th>Xanthobacter_autotrophicus_Py2</th>\n",
       "      <td>5308934</td>\n",
       "    </tr>\n",
       "    <tr>\n",
       "      <th>Xanthomonas_albilineans_GPE_PC73</th>\n",
       "      <td>3768695</td>\n",
       "    </tr>\n",
       "    <tr>\n",
       "      <th>Xanthomonas_axonopodis_Xac29-1</th>\n",
       "      <td>5153455</td>\n",
       "    </tr>\n",
       "    <tr>\n",
       "      <th>Xanthomonas_axonopodis_pv_citri_str_306</th>\n",
       "      <td>5175554</td>\n",
       "    </tr>\n",
       "    <tr>\n",
       "      <th>Xanthomonas_axonopodis_pv_citrumelo_F1</th>\n",
       "      <td>4967469</td>\n",
       "    </tr>\n",
       "    <tr>\n",
       "      <th>Xanthomonas_campestris_pv_raphani_756C</th>\n",
       "      <td>4941214</td>\n",
       "    </tr>\n",
       "    <tr>\n",
       "      <th>Xanthomonas_campestris_pv_vesicatoria_str_85-10</th>\n",
       "      <td>5178466</td>\n",
       "    </tr>\n",
       "    <tr>\n",
       "      <th>Xanthomonas_oryzae_pv_oryzae_PXO99A</th>\n",
       "      <td>5240075</td>\n",
       "    </tr>\n",
       "    <tr>\n",
       "      <th>Xenorhabdus_bovienii_SS-2004</th>\n",
       "      <td>4225498</td>\n",
       "    </tr>\n",
       "    <tr>\n",
       "      <th>Xylanimonas_cellulosilytica_DSM_15894</th>\n",
       "      <td>3742776</td>\n",
       "    </tr>\n",
       "    <tr>\n",
       "      <th>Xylella_fastidiosa_subsp_fastidiosa_GB514</th>\n",
       "      <td>2491203</td>\n",
       "    </tr>\n",
       "    <tr>\n",
       "      <th>Yersinia_aldovae_670-83</th>\n",
       "      <td>4471090</td>\n",
       "    </tr>\n",
       "    <tr>\n",
       "      <th>Yersinia_enterocolitica_subsp_palearctica_105_5R_r</th>\n",
       "      <td>4552107</td>\n",
       "    </tr>\n",
       "    <tr>\n",
       "      <th>Yersinia_frederiksenii_Y225</th>\n",
       "      <td>4495532</td>\n",
       "    </tr>\n",
       "    <tr>\n",
       "      <th>Yersinia_pestis_biovar_Microtus_str_91001</th>\n",
       "      <td>4595065</td>\n",
       "    </tr>\n",
       "    <tr>\n",
       "      <th>Yersinia_pseudotuberculosis_YPIII</th>\n",
       "      <td>4689436</td>\n",
       "    </tr>\n",
       "    <tr>\n",
       "      <th>Zunongwangia_profunda_SM-A87</th>\n",
       "      <td>5128187</td>\n",
       "    </tr>\n",
       "    <tr>\n",
       "      <th>Zymomonas_mobilis_subsp_mobilis_NRRL_B-12526</th>\n",
       "      <td>2011869</td>\n",
       "    </tr>\n",
       "    <tr>\n",
       "      <th>_Bacillus_selenitireducens_MLS10</th>\n",
       "      <td>3592487</td>\n",
       "    </tr>\n",
       "    <tr>\n",
       "      <th>_Cellvibrio_gilvus_ATCC_13127</th>\n",
       "      <td>3526441</td>\n",
       "    </tr>\n",
       "    <tr>\n",
       "      <th>_Clostridium_acidurici_9a</th>\n",
       "      <td>3105335</td>\n",
       "    </tr>\n",
       "    <tr>\n",
       "      <th>_Clostridium_clariflavum_DSM_19732</th>\n",
       "      <td>4897678</td>\n",
       "    </tr>\n",
       "    <tr>\n",
       "      <th>_Clostridium_saccharolyticum_WM1</th>\n",
       "      <td>4662871</td>\n",
       "    </tr>\n",
       "    <tr>\n",
       "      <th>_Clostridium_stercorarium_subsp_stercorarium_DSM_8532</th>\n",
       "      <td>2970010</td>\n",
       "    </tr>\n",
       "    <tr>\n",
       "      <th>_Eubacterium_eligens_ATCC_27750</th>\n",
       "      <td>2144190</td>\n",
       "    </tr>\n",
       "    <tr>\n",
       "      <th>cyanobacterium_endosymbiont_of_Epithemia_turgida_isolate_EtSB_Lake_Yunoko</th>\n",
       "      <td>2794318</td>\n",
       "    </tr>\n",
       "    <tr>\n",
       "      <th>uncultured_Termite_group_1_bacterium_phylotype_Rs-D17</th>\n",
       "      <td>1125857</td>\n",
       "    </tr>\n",
       "  </tbody>\n",
       "</table>\n",
       "<p>1210 rows × 1 columns</p>\n",
       "</div>"
      ],
      "text/plain": [
       "                                                          0\n",
       "Acaryochloris_marina_MBIC11017                      6503724\n",
       "Acetobacter_pasteurianus_IFO_3283-12                2904624\n",
       "Acetobacterium_woodii_DSM_1030                      4044777\n",
       "Acetohalobium_arabaticum_DSM_5501                   2469596\n",
       "Acholeplasma_laidlawii_PG-8A                        1496992\n",
       "Achromobacter_xylosoxidans_A8                       7013095\n",
       "Acidaminococcus_fermentans_DSM_20731                2329769\n",
       "Acidaminococcus_intestini_RyC-MR95                  2487765\n",
       "Acidimicrobium_ferrooxidans_DSM_10331               2158157\n",
       "Acidiphilium_cryptum_JF-5                           3389227\n",
       "Acidiphilium_multivorum_AIU301                      3749411\n",
       "Acidithiobacillus_caldus_ATCC_51756                 2777717\n",
       "Acidithiobacillus_ferrivorans_SS3                   3207552\n",
       "Acidithiobacillus_ferrooxidans_ATCC_53993           2885038\n",
       "Acidobacterium_capsulatum_ATCC_51196                4127356\n",
       "Acidothermus_cellulolyticus_11B                     2443540\n",
       "Acidovorax_avenae_subsp_avenae_ATCC_19860           5482170\n",
       "Acidovorax_citrulli_AAC00-1                         5352772\n",
       "Acidovorax_ebreus_TPSY                              3796573\n",
       "Acinetobacter_baumannii_BJAB07104                   3951920\n",
       "Acinetobacter_calcoaceticus_PHEA-2                  3862530\n",
       "Acinetobacter_oleivorans_DR1                        4152543\n",
       "Actinobacillus_equuli_subsp_equuli                  2431533\n",
       "Actinobacillus_pleuropneumoniae_serovar_5b_str_L20  2274482\n",
       "Actinobacillus_succinogenes_130Z                    2319663\n",
       "Actinobacillus_suis_ATCC_33415                      2501598\n",
       "Actinoplanes_friuliensis_DSM_7358                   9376071\n",
       "Actinoplanes_missouriensis_431                      8773466\n",
       "Actinosynnema_mirum_DSM_43827                       8248144\n",
       "Adlercreutzia_equolifaciens_DSM_19450               2862526\n",
       "...                                                     ...\n",
       "Wolbachia_endosymbiont_of_Onchocerca_volvulus_s...   960618\n",
       "Wolbachia_endosymbiont_strain_TRS_of_Brugia_malayi  1080084\n",
       "Wolbachia_endosymbiont_wPip_Mol_of_Culex_molestus   1340443\n",
       "Xanthobacter_autotrophicus_Py2                      5308934\n",
       "Xanthomonas_albilineans_GPE_PC73                    3768695\n",
       "Xanthomonas_axonopodis_Xac29-1                      5153455\n",
       "Xanthomonas_axonopodis_pv_citri_str_306             5175554\n",
       "Xanthomonas_axonopodis_pv_citrumelo_F1              4967469\n",
       "Xanthomonas_campestris_pv_raphani_756C              4941214\n",
       "Xanthomonas_campestris_pv_vesicatoria_str_85-10     5178466\n",
       "Xanthomonas_oryzae_pv_oryzae_PXO99A                 5240075\n",
       "Xenorhabdus_bovienii_SS-2004                        4225498\n",
       "Xylanimonas_cellulosilytica_DSM_15894               3742776\n",
       "Xylella_fastidiosa_subsp_fastidiosa_GB514           2491203\n",
       "Yersinia_aldovae_670-83                             4471090\n",
       "Yersinia_enterocolitica_subsp_palearctica_105_5R_r  4552107\n",
       "Yersinia_frederiksenii_Y225                         4495532\n",
       "Yersinia_pestis_biovar_Microtus_str_91001           4595065\n",
       "Yersinia_pseudotuberculosis_YPIII                   4689436\n",
       "Zunongwangia_profunda_SM-A87                        5128187\n",
       "Zymomonas_mobilis_subsp_mobilis_NRRL_B-12526        2011869\n",
       "_Bacillus_selenitireducens_MLS10                    3592487\n",
       "_Cellvibrio_gilvus_ATCC_13127                       3526441\n",
       "_Clostridium_acidurici_9a                           3105335\n",
       "_Clostridium_clariflavum_DSM_19732                  4897678\n",
       "_Clostridium_saccharolyticum_WM1                    4662871\n",
       "_Clostridium_stercorarium_subsp_stercorarium_DS...  2970010\n",
       "_Eubacterium_eligens_ATCC_27750                     2144190\n",
       "cyanobacterium_endosymbiont_of_Epithemia_turgid...  2794318\n",
       "uncultured_Termite_group_1_bacterium_phylotype_...  1125857\n",
       "\n",
       "[1210 rows x 1 columns]"
      ]
     },
     "execution_count": 135,
     "metadata": {},
     "output_type": "execute_result"
    }
   ],
   "source": [
    "df_genome_len = pd.DataFrame(genome_lens).transpose()\n",
    "df_genome_len"
   ]
  },
  {
   "cell_type": "code",
   "execution_count": 57,
   "metadata": {
    "collapsed": false
   },
   "outputs": [
    {
     "data": {
      "text/plain": [
       "(array([  33.,  109.,  127.,  186.,  153.,  139.,  138.,  132.,   51.,\n",
       "          55.,   26.,   12.,   14.,   11.,    7.,   10.,    4.,    0.,\n",
       "           2.,    1.]),\n",
       " array([   112091. ,    758175.4,   1404259.8,   2050344.2,   2696428.6,\n",
       "          3342513. ,   3988597.4,   4634681.8,   5280766.2,   5926850.6,\n",
       "          6572935. ,   7219019.4,   7865103.8,   8511188.2,   9157272.6,\n",
       "          9803357. ,  10449441.4,  11095525.8,  11741610.2,  12387694.6,\n",
       "         13033779. ]),\n",
       " <a list of 20 Patch objects>)"
      ]
     },
     "execution_count": 57,
     "metadata": {},
     "output_type": "execute_result"
    },
    {
     "data": {
      "image/png": "[encoded data removed]",
      "text/plain": [
       "<matplotlib.figure.Figure at 0x7f7ecdf0a410>"
      ]
     },
     "metadata": {},
     "output_type": "display_data"
    }
   ],
   "source": [
    "fig = plt.figure()\n",
    "ax = fig.add_subplot(111)\n",
    "ax.hist(df.ix[:,0], bins=20)"
   ]
  },
  {
   "cell_type": "markdown",
   "metadata": {},
   "source": [
    "### Fitting distribution"
   ]
  },
  {
   "cell_type": "code",
   "execution_count": 136,
   "metadata": {
    "collapsed": false
   },
   "outputs": [
    {
     "name": "stdout",
     "output_type": "stream",
     "text": [
      "Searching best parameters for distribution alpha (error 7.25602686672e-13)\n",
      "Searching best parameters for distribution anglit (error 5.2242181279e-13)\n",
      "Searching best parameters for distribution arcsine (error 1.07314649197e-12)\n",
      "Searching best parameters for distribution beta (error 8.32883368436e-14)\n",
      "Searching best parameters for distribution betaprime (error 2.88429127954e-13)\n",
      "Searching best parameters for distribution bradford (error 4.74183691784e-13)\n",
      "Searching best parameters for distribution burr (error 3.35297185381e-13)\n",
      "Searching best parameters for distribution cauchy (error 2.15268001783e-13)\n",
      "Searching best parameters for distribution chi (error 1.28069608916e-12)\n",
      "Searching best parameters for distribution chi2 (error 1.28069608916e-12)\n",
      "Searching best parameters for distribution cosine (error 3.8892791496e-13)\n",
      "Searching best parameters for distribution dgamma (error 1.03236993114e-13)\n",
      "Searching best parameters for distribution dweibull (error 1.0283080456e-13)\n",
      "Searching best parameters for distribution erlang (error 1.28069608916e-12)\n",
      "Searching best parameters for distribution expon (error 1.28069608916e-12)\n",
      "Searching best parameters for distribution exponnorm (error 1.00036687693e-13)\n",
      "Searching best parameters for distribution exponpow (error 1.28069608916e-12)\n",
      "Searching best parameters for distribution exponweib (error 1.46368686676e-12)\n",
      "Searching best parameters for distribution f (error 2.79446814292e-13)\n",
      "Searching best parameters for distribution fatiguelife (error 9.74931729406e-13)\n",
      "Searching best parameters for distribution fisk (error 1.15293917893e-13)\n",
      "Searching best parameters for distribution foldcauchy (error 1.64126123516e-13)\n",
      "Searching best parameters for distribution foldnorm (error 1.28069608916e-12)\n",
      "Searching best parameters for distribution frechet_l (error 1.28069608916e-12)\n",
      "Searching best parameters for distribution frechet_r (error 1.25169103418e-12)\n",
      "Searching best parameters for distribution gamma (error 8.40678606745e-14)\n",
      "Searching best parameters for distribution gausshyper (error 8.32734624059e-14)\n",
      "Searching best parameters for distribution genexpon (error 8.57982192686e-13)\n",
      "Searching best parameters for distribution genextreme (error 1.28304601714e-12)\n",
      "Searching best parameters for distribution gengamma (error 1.70801807676e-12)\n",
      "Searching best parameters for distribution genhalflogistic (error 2.17720106944e-13)\n",
      "Searching best parameters for distribution genlogistic (error 8.86296556742e-14)\n",
      "Searching best parameters for distribution gennorm (error 1.28049833922e-13)\n",
      "Searching best parameters for distribution genpareto (error 3.52458677122e-13)\n",
      "Searching best parameters for distribution gilbrat (error 2.93947683525e-13)\n",
      "Searching best parameters for distribution gompertz (error 1.28069608916e-12)\n",
      "Searching best parameters for distribution gumbel_l (error 2.93340127703e-13)\n",
      "Searching best parameters for distribution gumbel_r (error 8.86223678302e-14)\n",
      "Searching best parameters for distribution halfcauchy (error 4.63805862992e-13)\n",
      "Searching best parameters for distribution halfgennorm (error 1.99402775968e-12)\n",
      "Searching best parameters for distribution halflogistic (error 1.28069608916e-12)\n",
      "Searching best parameters for distribution halfnorm (error 1.28069608916e-12)\n",
      "Searching best parameters for distribution hypsecant (error 1.29867517344e-13)\n",
      "Searching best parameters for distribution invgamma (error 9.22931664052e-14)\n",
      "Searching best parameters for distribution invgauss (error 5.1664699667e-13)\n",
      "Searching best parameters for distribution invweibull (error 1.04947351678e-13)\n",
      "Searching best parameters for distribution johnsonsb (error 8.52895275965e-14)\n",
      "Searching best parameters for distribution johnsonsu (error 8.72304514835e-14)\n",
      "Searching best parameters for distribution ksone (error nan)\n",
      "Searching best parameters for distribution kstwobign (error 8.37088802271e-14)\n",
      "Searching best parameters for distribution laplace (error 2.02370486484e-13)\n",
      "Searching best parameters for distribution levy (error 5.16646234433e-13)\n",
      "Searching best parameters for distribution levy_l (error 1.00156126379e-12)\n",
      "\n",
      "SKIPPED levy_stable distribution (taking more than 10 seconds)\n",
      "Searching best parameters for distribution loggamma (error 1.2917250732e-13)\n",
      "Searching best parameters for distribution logistic (error 1.17231202738e-13)\n",
      "Searching best parameters for distribution loglaplace (error 1.70078697789e-13)\n",
      "Searching best parameters for distribution lognorm (error 1.30238684302e-12)\n",
      "Searching best parameters for distribution lomax (error 4.99356800565e-13)\n",
      "Searching best parameters for distribution maxwell (error 9.18377452962e-14)\n",
      "Searching best parameters for distribution mielke (error 4.60049633971e-13)\n",
      "Searching best parameters for distribution nakagami (error 8.33576964709e-14)\n",
      "Searching best parameters for distribution ncf (error 1.27808122357e-12)\n",
      "Searching best parameters for distribution nct (error inf)\n",
      "Searching best parameters for distribution ncx2 (error inf)\n",
      "Searching best parameters for distribution norm (error 1.24897056606e-13)\n",
      "Searching best parameters for distribution pareto (error 3.69937503368e-12)\n",
      "Searching best parameters for distribution pearson3 (error 8.40678599194e-14)\n",
      "Searching best parameters for distribution powerlaw (error 6.45341220129e-13)\n",
      "Searching best parameters for distribution powerlognorm (error 1.69235156732e-12)\n",
      "Searching best parameters for distribution powernorm (error nan)\n",
      "Searching best parameters for distribution rayleigh (error 8.29793098903e-14)\n",
      "Searching best parameters for distribution rdist (error 1.24754566513e-13)\n",
      "Searching best parameters for distribution recipinvgauss (error 1.28069608916e-12)\n",
      "Searching best parameters for distribution reciprocal (error 1.28069608916e-12)\n",
      "Searching best parameters for distribution rice (error 8.29793128794e-14)\n",
      "\n",
      "SKIPPED rv_continuous distribution (taking more than 10 seconds)\n",
      "Searching best parameters for distribution semicircular (error 6.29721133996e-13)\n",
      "Searching best parameters for distribution t (error 1.93858232903e-12)\n",
      "Searching best parameters for distribution triang (error 2.54141042783e-13)\n",
      "Searching best parameters for distribution truncexpon (error 4.42424263834e-13)\n",
      "Searching best parameters for distribution truncnorm (error 1.28069608916e-12)\n",
      "Searching best parameters for distribution tukeylambda (error 2.89394361718e-13)\n",
      "Searching best parameters for distribution uniform (error 6.81786179825e-13)\n",
      "Searching best parameters for distribution vonmises (error 4.59243249168e+46)\n",
      "Searching best parameters for distribution vonmises_line (error 6.86179910576e-13)\n",
      "Searching best parameters for distribution wald (error 1.28069608916e-12)\n",
      "Searching best parameters for distribution weibull_max (error 1.28069608916e-12)\n",
      "Searching best parameters for distribution weibull_min (error 1.25169103418e-12)\n",
      "Searching best parameters for distribution wrapcauchy (error nan)\n"
     ]
    }
   ],
   "source": [
    "fo = Fitter(df_genome_len.ix[:,0])\n",
    "fo.fit()"
   ]
  },
  {
   "cell_type": "code",
   "execution_count": 137,
   "metadata": {
    "collapsed": false
   },
   "outputs": [
    {
     "name": "stdout",
     "output_type": "stream",
     "text": [
      "            sumsquare_error\n",
      "rayleigh       8.297931e-14\n",
      "rice           8.297931e-14\n",
      "gausshyper     8.327346e-14\n",
      "beta           8.328834e-14\n",
      "nakagami       8.335770e-14\n"
     ]
    },
    {
     "data": {
      "image/png": "[encoded data removed]",
      "text/plain": [
       "<matplotlib.figure.Figure at 0x7f7ecfc07810>"
      ]
     },
     "metadata": {},
     "output_type": "display_data"
    }
   ],
   "source": [
    "fo.summary()"
   ]
  },
  {
   "cell_type": "code",
   "execution_count": 138,
   "metadata": {
    "collapsed": false
   },
   "outputs": [
    {
     "data": {
      "text/plain": [
       "(-18067.751071571984, 2937372.194656291)"
      ]
     },
     "execution_count": 138,
     "metadata": {},
     "output_type": "execute_result"
    }
   ],
   "source": [
    "genome_len_best_fit = fo.fitted_param['rayleigh']\n",
    "genome_len_best_fit"
   ]
  },
  {
   "cell_type": "code",
   "execution_count": 139,
   "metadata": {
    "collapsed": false
   },
   "outputs": [
    {
     "data": {
      "image/png": "[encoded data removed]",
      "text/plain": [
       "<matplotlib.figure.Figure at 0x7f7eccd76750>"
      ]
     },
     "metadata": {},
     "output_type": "display_data"
    }
   ],
   "source": [
    "# test of distribution\n",
    "x = ss.rayleigh.rvs(*genome_len_best_fit, size=10000)\n",
    "fig = plt.figure()\n",
    "ax = plt.subplot(111)\n",
    "ax.hist(x, bins=50)\n",
    "fig.show()"
   ]
  },
  {
   "cell_type": "markdown",
   "metadata": {},
   "source": [
    "# Distribution of 16S gene copies per genome"
   ]
  },
  {
   "cell_type": "markdown",
   "metadata": {},
   "source": [
    "## rnammer run"
   ]
  },
  {
   "cell_type": "code",
   "execution_count": 60,
   "metadata": {
    "collapsed": true
   },
   "outputs": [],
   "source": [
    "%%bash -s \"$genomeDir\" \"$rnammerDir\"\n",
    "\n",
    "find $1 -name \"*fasta\" | \\\n",
    "    perl -pe 's/.+\\/|\\.fasta//g' | \\\n",
    "    xargs -n 1 -I % -P 30 bash -c \\\n",
    "    \"rnammer -S bac -m ssu -gff $2/%_rrn.gff -f $2/%_rrn.fna -xml $2/%_rrn.xml < $1/%.fasta\""
   ]
  },
  {
   "cell_type": "code",
   "execution_count": 61,
   "metadata": {
    "collapsed": true
   },
   "outputs": [],
   "source": [
    "## Summarizing the results\n",
    "\n",
    "!cd $rnammerDir; \\\n",
    "    egrep -v \"^#\" *.gff | \\\n",
    "    grep \"16s_rRNA\" | \\\n",
    "    perl -pe 's/:/\\t/' > ssu_summary.txt"
   ]
  },
  {
   "cell_type": "code",
   "execution_count": 140,
   "metadata": {
    "collapsed": false
   },
   "outputs": [
    {
     "data": {
      "text/html": [
       "<div>\n",
       "<table border=\"1\" class=\"dataframe\">\n",
       "  <thead>\n",
       "    <tr style=\"text-align: right;\">\n",
       "      <th></th>\n",
       "      <th>0</th>\n",
       "      <th>1</th>\n",
       "      <th>2</th>\n",
       "      <th>3</th>\n",
       "      <th>4</th>\n",
       "      <th>5</th>\n",
       "      <th>6</th>\n",
       "      <th>7</th>\n",
       "      <th>8</th>\n",
       "      <th>9</th>\n",
       "      <th>10</th>\n",
       "    </tr>\n",
       "  </thead>\n",
       "  <tbody>\n",
       "    <tr>\n",
       "      <th>0</th>\n",
       "      <td>Acaryochloris_marina_MBIC11017_rrn.gff</td>\n",
       "      <td>CP000828_Acaryochloris_marina_MBIC11017</td>\n",
       "      <td>RNAmmer-1.2</td>\n",
       "      <td>rRNA</td>\n",
       "      <td>5636180</td>\n",
       "      <td>5637670</td>\n",
       "      <td>1853.9</td>\n",
       "      <td>+</td>\n",
       "      <td>.</td>\n",
       "      <td>16s_rRNA</td>\n",
       "      <td>NaN</td>\n",
       "    </tr>\n",
       "    <tr>\n",
       "      <th>1</th>\n",
       "      <td>Acaryochloris_marina_MBIC11017_rrn.gff</td>\n",
       "      <td>CP000828_Acaryochloris_marina_MBIC11017</td>\n",
       "      <td>RNAmmer-1.2</td>\n",
       "      <td>rRNA</td>\n",
       "      <td>1409155</td>\n",
       "      <td>1410645</td>\n",
       "      <td>1853.9</td>\n",
       "      <td>-</td>\n",
       "      <td>.</td>\n",
       "      <td>16s_rRNA</td>\n",
       "      <td>NaN</td>\n",
       "    </tr>\n",
       "    <tr>\n",
       "      <th>2</th>\n",
       "      <td>Acetobacter_pasteurianus_IFO_3283-12_rrn.gff</td>\n",
       "      <td>AP011170_Acetobacter_pasteurianus_IFO_3283_12_DNA</td>\n",
       "      <td>RNAmmer-1.2</td>\n",
       "      <td>rRNA</td>\n",
       "      <td>2764963</td>\n",
       "      <td>2766438</td>\n",
       "      <td>1933.6</td>\n",
       "      <td>-</td>\n",
       "      <td>.</td>\n",
       "      <td>16s_rRNA</td>\n",
       "      <td>NaN</td>\n",
       "    </tr>\n",
       "    <tr>\n",
       "      <th>3</th>\n",
       "      <td>Acetobacter_pasteurianus_IFO_3283-12_rrn.gff</td>\n",
       "      <td>AP011170_Acetobacter_pasteurianus_IFO_3283_12_DNA</td>\n",
       "      <td>RNAmmer-1.2</td>\n",
       "      <td>rRNA</td>\n",
       "      <td>1733300</td>\n",
       "      <td>1734775</td>\n",
       "      <td>1933.6</td>\n",
       "      <td>-</td>\n",
       "      <td>.</td>\n",
       "      <td>16s_rRNA</td>\n",
       "      <td>NaN</td>\n",
       "    </tr>\n",
       "    <tr>\n",
       "      <th>4</th>\n",
       "      <td>Acetobacter_pasteurianus_IFO_3283-12_rrn.gff</td>\n",
       "      <td>AP011170_Acetobacter_pasteurianus_IFO_3283_12_DNA</td>\n",
       "      <td>RNAmmer-1.2</td>\n",
       "      <td>rRNA</td>\n",
       "      <td>2285489</td>\n",
       "      <td>2286964</td>\n",
       "      <td>1933.6</td>\n",
       "      <td>-</td>\n",
       "      <td>.</td>\n",
       "      <td>16s_rRNA</td>\n",
       "      <td>NaN</td>\n",
       "    </tr>\n",
       "  </tbody>\n",
       "</table>\n",
       "</div>"
      ],
      "text/plain": [
       "                                             0   \\\n",
       "0        Acaryochloris_marina_MBIC11017_rrn.gff   \n",
       "1        Acaryochloris_marina_MBIC11017_rrn.gff   \n",
       "2  Acetobacter_pasteurianus_IFO_3283-12_rrn.gff   \n",
       "3  Acetobacter_pasteurianus_IFO_3283-12_rrn.gff   \n",
       "4  Acetobacter_pasteurianus_IFO_3283-12_rrn.gff   \n",
       "\n",
       "                                                  1            2     3   \\\n",
       "0            CP000828_Acaryochloris_marina_MBIC11017  RNAmmer-1.2  rRNA   \n",
       "1            CP000828_Acaryochloris_marina_MBIC11017  RNAmmer-1.2  rRNA   \n",
       "2  AP011170_Acetobacter_pasteurianus_IFO_3283_12_DNA  RNAmmer-1.2  rRNA   \n",
       "3  AP011170_Acetobacter_pasteurianus_IFO_3283_12_DNA  RNAmmer-1.2  rRNA   \n",
       "4  AP011170_Acetobacter_pasteurianus_IFO_3283_12_DNA  RNAmmer-1.2  rRNA   \n",
       "\n",
       "        4        5       6  7  8         9   10  \n",
       "0  5636180  5637670  1853.9  +  .  16s_rRNA NaN  \n",
       "1  1409155  1410645  1853.9  -  .  16s_rRNA NaN  \n",
       "2  2764963  2766438  1933.6  -  .  16s_rRNA NaN  \n",
       "3  1733300  1734775  1933.6  -  .  16s_rRNA NaN  \n",
       "4  2285489  2286964  1933.6  -  .  16s_rRNA NaN  "
      ]
     },
     "execution_count": 140,
     "metadata": {},
     "output_type": "execute_result"
    }
   ],
   "source": [
    "\n",
    "inFile = os.path.join(rnammerDir, 'ssu_summary.txt')\n",
    "\n",
    "inFH = open(inFile, 'rb')\n",
    "df_ssu = pd.read_csv(inFH, sep='\\t', header=None)\n",
    "df_ssu.head()"
   ]
  },
  {
   "cell_type": "code",
   "execution_count": 141,
   "metadata": {
    "collapsed": false
   },
   "outputs": [
    {
     "data": {
      "image/png": "[encoded data removed]",
      "text/plain": [
       "<matplotlib.figure.Figure at 0x7f7ecc921690>"
      ]
     },
     "metadata": {},
     "output_type": "display_data"
    }
   ],
   "source": [
    "fig = plt.figure()\n",
    "ax = plt.subplot(111)\n",
    "ax.hist(df_ssu.ix[:,6], bins=50)\n",
    "fig.show()"
   ]
  },
  {
   "cell_type": "code",
   "execution_count": 143,
   "metadata": {
    "collapsed": false
   },
   "outputs": [
    {
     "data": {
      "text/html": [
       "<div>\n",
       "<table border=\"1\" class=\"dataframe\">\n",
       "  <thead>\n",
       "    <tr style=\"text-align: right;\">\n",
       "      <th></th>\n",
       "      <th>0</th>\n",
       "      <th>1</th>\n",
       "      <th>2</th>\n",
       "      <th>3</th>\n",
       "      <th>4</th>\n",
       "      <th>5</th>\n",
       "      <th>6</th>\n",
       "      <th>7</th>\n",
       "      <th>8</th>\n",
       "      <th>9</th>\n",
       "      <th>10</th>\n",
       "    </tr>\n",
       "  </thead>\n",
       "  <tbody>\n",
       "    <tr>\n",
       "      <th>0</th>\n",
       "      <td>Acaryochloris_marina_MBIC11017_rrn.gff</td>\n",
       "      <td>CP000828_Acaryochloris_marina_MBIC11017</td>\n",
       "      <td>RNAmmer-1.2</td>\n",
       "      <td>rRNA</td>\n",
       "      <td>5636180</td>\n",
       "      <td>5637670</td>\n",
       "      <td>1853.9</td>\n",
       "      <td>+</td>\n",
       "      <td>.</td>\n",
       "      <td>16s_rRNA</td>\n",
       "      <td>NaN</td>\n",
       "    </tr>\n",
       "    <tr>\n",
       "      <th>1</th>\n",
       "      <td>Acaryochloris_marina_MBIC11017_rrn.gff</td>\n",
       "      <td>CP000828_Acaryochloris_marina_MBIC11017</td>\n",
       "      <td>RNAmmer-1.2</td>\n",
       "      <td>rRNA</td>\n",
       "      <td>1409155</td>\n",
       "      <td>1410645</td>\n",
       "      <td>1853.9</td>\n",
       "      <td>-</td>\n",
       "      <td>.</td>\n",
       "      <td>16s_rRNA</td>\n",
       "      <td>NaN</td>\n",
       "    </tr>\n",
       "    <tr>\n",
       "      <th>2</th>\n",
       "      <td>Acetobacter_pasteurianus_IFO_3283-12_rrn.gff</td>\n",
       "      <td>AP011170_Acetobacter_pasteurianus_IFO_3283_12_DNA</td>\n",
       "      <td>RNAmmer-1.2</td>\n",
       "      <td>rRNA</td>\n",
       "      <td>2764963</td>\n",
       "      <td>2766438</td>\n",
       "      <td>1933.6</td>\n",
       "      <td>-</td>\n",
       "      <td>.</td>\n",
       "      <td>16s_rRNA</td>\n",
       "      <td>NaN</td>\n",
       "    </tr>\n",
       "    <tr>\n",
       "      <th>3</th>\n",
       "      <td>Acetobacter_pasteurianus_IFO_3283-12_rrn.gff</td>\n",
       "      <td>AP011170_Acetobacter_pasteurianus_IFO_3283_12_DNA</td>\n",
       "      <td>RNAmmer-1.2</td>\n",
       "      <td>rRNA</td>\n",
       "      <td>1733300</td>\n",
       "      <td>1734775</td>\n",
       "      <td>1933.6</td>\n",
       "      <td>-</td>\n",
       "      <td>.</td>\n",
       "      <td>16s_rRNA</td>\n",
       "      <td>NaN</td>\n",
       "    </tr>\n",
       "    <tr>\n",
       "      <th>4</th>\n",
       "      <td>Acetobacter_pasteurianus_IFO_3283-12_rrn.gff</td>\n",
       "      <td>AP011170_Acetobacter_pasteurianus_IFO_3283_12_DNA</td>\n",
       "      <td>RNAmmer-1.2</td>\n",
       "      <td>rRNA</td>\n",
       "      <td>2285489</td>\n",
       "      <td>2286964</td>\n",
       "      <td>1933.6</td>\n",
       "      <td>-</td>\n",
       "      <td>.</td>\n",
       "      <td>16s_rRNA</td>\n",
       "      <td>NaN</td>\n",
       "    </tr>\n",
       "  </tbody>\n",
       "</table>\n",
       "</div>"
      ],
      "text/plain": [
       "                                             0   \\\n",
       "0        Acaryochloris_marina_MBIC11017_rrn.gff   \n",
       "1        Acaryochloris_marina_MBIC11017_rrn.gff   \n",
       "2  Acetobacter_pasteurianus_IFO_3283-12_rrn.gff   \n",
       "3  Acetobacter_pasteurianus_IFO_3283-12_rrn.gff   \n",
       "4  Acetobacter_pasteurianus_IFO_3283-12_rrn.gff   \n",
       "\n",
       "                                                  1            2     3   \\\n",
       "0            CP000828_Acaryochloris_marina_MBIC11017  RNAmmer-1.2  rRNA   \n",
       "1            CP000828_Acaryochloris_marina_MBIC11017  RNAmmer-1.2  rRNA   \n",
       "2  AP011170_Acetobacter_pasteurianus_IFO_3283_12_DNA  RNAmmer-1.2  rRNA   \n",
       "3  AP011170_Acetobacter_pasteurianus_IFO_3283_12_DNA  RNAmmer-1.2  rRNA   \n",
       "4  AP011170_Acetobacter_pasteurianus_IFO_3283_12_DNA  RNAmmer-1.2  rRNA   \n",
       "\n",
       "        4        5       6  7  8         9   10  \n",
       "0  5636180  5637670  1853.9  +  .  16s_rRNA NaN  \n",
       "1  1409155  1410645  1853.9  -  .  16s_rRNA NaN  \n",
       "2  2764963  2766438  1933.6  -  .  16s_rRNA NaN  \n",
       "3  1733300  1734775  1933.6  -  .  16s_rRNA NaN  \n",
       "4  2285489  2286964  1933.6  -  .  16s_rRNA NaN  "
      ]
     },
     "execution_count": 143,
     "metadata": {},
     "output_type": "execute_result"
    }
   ],
   "source": [
    "# filtering by gene length of >= 1000 bp\n",
    "df_ssu_f = df_ssu.loc[df[6] >= 1000]\n",
    "df_ssu_f.head()"
   ]
  },
  {
   "cell_type": "code",
   "execution_count": 144,
   "metadata": {
    "collapsed": false
   },
   "outputs": [],
   "source": [
    "# counting number of 16S genes per genome\n",
    "ssu_count = Counter(df_ssu_f[1])"
   ]
  },
  {
   "cell_type": "code",
   "execution_count": 145,
   "metadata": {
    "collapsed": false
   },
   "outputs": [
    {
     "data": {
      "image/png": "[encoded data removed]",
      "text/plain": [
       "<matplotlib.figure.Figure at 0x7f7ecce7e890>"
      ]
     },
     "metadata": {},
     "output_type": "display_data"
    }
   ],
   "source": [
    "ssu_max = max(ssu_count.values())\n",
    "\n",
    "# plotting distribution\n",
    "fig = plt.figure()\n",
    "ax = plt.subplot(111)\n",
    "ax.hist(ssu_count.values(), bins=ssu_max)\n",
    "fig.show()"
   ]
  },
  {
   "cell_type": "markdown",
   "metadata": {},
   "source": [
    "### Fitting distribution"
   ]
  },
  {
   "cell_type": "code",
   "execution_count": 146,
   "metadata": {
    "collapsed": false
   },
   "outputs": [
    {
     "name": "stdout",
     "output_type": "stream",
     "text": [
      "Searching best parameters for distribution alpha (error 6.62649287152)\n",
      "Searching best parameters for distribution anglit (error 6.95100720304)\n",
      "Searching best parameters for distribution arcsine (error 6.66839093441)\n",
      "Searching best parameters for distribution beta (error 6.06120941574)\n",
      "Searching best parameters for distribution betaprime (error 5.93365920893)\n",
      "Searching best parameters for distribution bradford (error 6.5319897191)\n",
      "Searching best parameters for distribution burr (error 5.94627173236)\n",
      "Searching best parameters for distribution cauchy (error 6.76621198964)\n",
      "Searching best parameters for distribution chi (error 5.62886491766)\n",
      "Searching best parameters for distribution chi2 (error 6.15477270179)\n",
      "Searching best parameters for distribution cosine (error 6.91162144256)\n",
      "Searching best parameters for distribution dgamma (error 6.76520787584)\n",
      "Searching best parameters for distribution dweibull (error 6.77318090778)\n",
      "Searching best parameters for distribution erlang (error 6.21095395966)\n",
      "Searching best parameters for distribution expon (error 6.3799593687)\n",
      "Searching best parameters for distribution exponnorm (error 6.37951609583)\n",
      "Searching best parameters for distribution exponpow (error 5.8323919002)\n",
      "Searching best parameters for distribution exponweib (error 6.09672404085)\n",
      "Searching best parameters for distribution f (error 5.79345858675)\n",
      "Searching best parameters for distribution fatiguelife (error 6.27394346353)\n",
      "Searching best parameters for distribution fisk (error 6.18931485601)\n",
      "Searching best parameters for distribution foldcauchy (error 6.45432598182)\n",
      "Searching best parameters for distribution foldnorm (error 6.5449462702)\n",
      "Searching best parameters for distribution frechet_l (error 9.86246230516)\n",
      "Searching best parameters for distribution frechet_r (error 5.71163622526)\n",
      "Searching best parameters for distribution gamma (error 6.13289767029)\n",
      "Searching best parameters for distribution gausshyper (error 6.29098579705)\n",
      "Searching best parameters for distribution genexpon (error 6.38267850517)\n",
      "Searching best parameters for distribution genextreme (error 6.61099429285)\n",
      "Searching best parameters for distribution gengamma (error 6.26426383232)\n",
      "Searching best parameters for distribution genhalflogistic (error 6.49211910248)\n",
      "Searching best parameters for distribution genlogistic (error 6.68625635777)\n",
      "Searching best parameters for distribution gennorm (error 6.76783059949)\n",
      "Searching best parameters for distribution genpareto (error 6.38500207922)\n",
      "Searching best parameters for distribution gilbrat (error 6.54597057997)\n",
      "Searching best parameters for distribution gompertz (error 6.38654457108)\n",
      "Searching best parameters for distribution gumbel_l (error 7.02886512737)\n",
      "Searching best parameters for distribution gumbel_r (error 6.68574707364)\n",
      "Searching best parameters for distribution halfcauchy (error 6.45367411633)\n",
      "Searching best parameters for distribution halfgennorm (error 6.03360768011)\n",
      "Searching best parameters for distribution halflogistic (error 6.49213669043)\n",
      "Searching best parameters for distribution halfnorm (error 6.55212261459)\n",
      "Searching best parameters for distribution hypsecant (error 6.77415408225)\n",
      "Searching best parameters for distribution invgamma (error 6.60188332111)\n",
      "Searching best parameters for distribution invgauss (error 6.55850307511)\n",
      "Searching best parameters for distribution invweibull (error 6.61098847068)\n",
      "Searching best parameters for distribution johnsonsb (error 5.95173395387)\n",
      "Searching best parameters for distribution johnsonsu (error 6.54341025542)\n",
      "Searching best parameters for distribution ksone (error nan)\n",
      "Searching best parameters for distribution kstwobign (error 6.69285243595)\n",
      "Searching best parameters for distribution laplace (error 6.76884823559)\n",
      "Searching best parameters for distribution levy (error 6.31096999024)\n",
      "Searching best parameters for distribution levy_l (error 7.54476996074)\n",
      "\n",
      "SKIPPED levy_stable distribution (taking more than 10 seconds)\n",
      "Searching best parameters for distribution loggamma (error 6.84622916462)\n",
      "Searching best parameters for distribution logistic (error 6.79245601058)\n",
      "Searching best parameters for distribution loglaplace (error 6.67084848615)\n",
      "Searching best parameters for distribution lognorm (error 6.19602793422)\n",
      "Searching best parameters for distribution lomax (error 6.38008443435)\n",
      "Searching best parameters for distribution maxwell (error 6.77442577479)\n",
      "Searching best parameters for distribution mielke (error 6.16802023451)\n",
      "Searching best parameters for distribution nakagami (error 5.84997440138)\n",
      "Searching best parameters for distribution ncf (error 6.59490475857)\n",
      "Searching best parameters for distribution nct (error 6.61134006666)\n",
      "Searching best parameters for distribution ncx2 (error 5.85400517339)\n",
      "Searching best parameters for distribution norm (error 6.84305413682)\n",
      "Searching best parameters for distribution pareto (error 6.31852573307)\n",
      "Searching best parameters for distribution pearson3 (error 5.86859596589)\n",
      "Searching best parameters for distribution powerlaw (error 5.71726168995)\n",
      "Searching best parameters for distribution powerlognorm (error 6.12120501206)\n",
      "Searching best parameters for distribution powernorm (error nan)\n",
      "Searching best parameters for distribution rayleigh (error 6.74999794149)\n",
      "Searching best parameters for distribution rdist (error 7.4232407051)\n",
      "Searching best parameters for distribution recipinvgauss (error 5.7804522244)\n",
      "Searching best parameters for distribution reciprocal (error 7.75811692214)\n",
      "Searching best parameters for distribution rice (error 6.75000357119)\n",
      "\n",
      "SKIPPED rv_continuous distribution (taking more than 10 seconds)\n",
      "Searching best parameters for distribution semicircular (error 7.01897536044)\n",
      "Searching best parameters for distribution t (error 6.77284965607)\n",
      "Searching best parameters for distribution triang (error 6.81988808403)\n",
      "Searching best parameters for distribution truncexpon (error 6.95673350175)\n",
      "Searching best parameters for distribution truncnorm (error 7.75811692214)\n",
      "Searching best parameters for distribution tukeylambda (error 6.91567304891)\n",
      "Searching best parameters for distribution uniform (error 7.24791284051)\n",
      "Searching best parameters for distribution vonmises (error 4263968.93151)\n",
      "Searching best parameters for distribution vonmises_line (error 6.78496442277)\n",
      "Searching best parameters for distribution wald (error 6.55314032693)\n",
      "Searching best parameters for distribution weibull_max (error 9.86246230516)\n",
      "Searching best parameters for distribution weibull_min (error 5.71163622526)\n",
      "Searching best parameters for distribution wrapcauchy (error nan)\n"
     ]
    }
   ],
   "source": [
    "fo = Fitter(ssu_count.values())\n",
    "fo.fit()"
   ]
  },
  {
   "cell_type": "code",
   "execution_count": 147,
   "metadata": {
    "collapsed": false
   },
   "outputs": [
    {
     "name": "stdout",
     "output_type": "stream",
     "text": [
      "               sumsquare_error\n",
      "chi                   5.628865\n",
      "weibull_min           5.711636\n",
      "frechet_r             5.711636\n",
      "powerlaw              5.717262\n",
      "recipinvgauss         5.780452\n"
     ]
    },
    {
     "data": {
      "image/png": "[encoded data removed]",
      "text/plain": [
       "<matplotlib.figure.Figure at 0x7f7eccdf7490>"
      ]
     },
     "metadata": {},
     "output_type": "display_data"
    }
   ],
   "source": [
    "fo.summary()"
   ]
  },
  {
   "cell_type": "code",
   "execution_count": 148,
   "metadata": {
    "collapsed": false
   },
   "outputs": [
    {
     "data": {
      "text/plain": [
       "(-0.42093818866908678, 3.3743881962637636)"
      ]
     },
     "execution_count": 148,
     "metadata": {},
     "output_type": "execute_result"
    }
   ],
   "source": [
    "ssu_ray_fit = fo.fitted_param['rayleigh']\n",
    "ssu_ray_fit"
   ]
  },
  {
   "cell_type": "code",
   "execution_count": 149,
   "metadata": {
    "collapsed": false
   },
   "outputs": [
    {
     "data": {
      "image/png": "[encoded data removed]",
      "text/plain": [
       "<matplotlib.figure.Figure at 0x7f7ecc8d3790>"
      ]
     },
     "metadata": {},
     "output_type": "display_data"
    }
   ],
   "source": [
    "# test of distribution\n",
    "x = ss.rayleigh.rvs(*ssu_ray_fit, size=10000)\n",
    "fig = plt.figure()\n",
    "ax = plt.subplot(111)\n",
    "ax.hist(x, bins=50)\n",
    "fig.show()"
   ]
  },
  {
   "cell_type": "code",
   "execution_count": 150,
   "metadata": {
    "collapsed": false
   },
   "outputs": [
    {
     "data": {
      "text/plain": [
       "(0.74318499540524674,\n",
       " 5.6551351105552428,\n",
       " 0.99999999999999989,\n",
       " 18.430935404032915)"
      ]
     },
     "execution_count": 150,
     "metadata": {},
     "output_type": "execute_result"
    }
   ],
   "source": [
    "ssu_beta_fit = fo.fitted_param['beta']\n",
    "ssu_beta_fit"
   ]
  },
  {
   "cell_type": "code",
   "execution_count": 151,
   "metadata": {
    "collapsed": false
   },
   "outputs": [
    {
     "data": {
      "image/png": "[encoded data removed]",
      "text/plain": [
       "<matplotlib.figure.Figure at 0x7f7ecc64d590>"
      ]
     },
     "metadata": {},
     "output_type": "display_data"
    }
   ],
   "source": [
    "# test of distribution\n",
    "x = ss.beta.rvs(*ssu_beta_fit, size=10000)\n",
    "fig = plt.figure()\n",
    "ax = plt.subplot(111)\n",
    "ax.hist(x, bins=50)\n",
    "fig.show()"
   ]
  },
  {
   "cell_type": "markdown",
   "metadata": {},
   "source": [
    "#### Notes\n",
    "\n",
    "* Using rayleigh distribution"
   ]
  },
  {
   "cell_type": "markdown",
   "metadata": {},
   "source": [
    "# Monte Carlo estimation of 16S gene copies per ng of DNA\n",
    "\n",
    "* M.W. of dsDNA = (# nucleotides x 607.4) + 157.9"
   ]
  },
  {
   "cell_type": "code",
   "execution_count": 123,
   "metadata": {
    "collapsed": false
   },
   "outputs": [
    {
     "data": {
      "text/plain": [
       "991438.8555530971"
      ]
     },
     "execution_count": 123,
     "metadata": {},
     "output_type": "execute_result"
    }
   ],
   "source": [
    "# example of calculations\n",
    "gradient_DNA_conc = 1e-9    # g of DNA\n",
    "avogadro = 6.022e23         # molecules/mole\n",
    "\n",
    "genome_len = 4000000\n",
    "mw_genome = genome_len * 607.4 + 157.9\n",
    "\n",
    "n_genomes = gradient_DNA_conc / mw_genome * avogadro\n",
    "\n",
    "ssu_copy_per_genome = 4\n",
    "\n",
    "n_genomes * ssu_copy_per_genome"
   ]
  },
  {
   "cell_type": "code",
   "execution_count": 195,
   "metadata": {
    "collapsed": false
   },
   "outputs": [
    {
     "data": {
      "text/plain": [
       "991438.8555530971"
      ]
     },
     "execution_count": 195,
     "metadata": {},
     "output_type": "execute_result"
    }
   ],
   "source": [
    "def SSU_copies_in_ng_DNA(DNA_conc, genome_len, ssu_copy_per_genome):\n",
    "    \n",
    "    DNA_conc__g = DNA_conc * 1e-9     # ng --> g of DNA\n",
    "    avogadros = 6.022e23              # molecules/mole\n",
    "\n",
    "    mw_genome = genome_len * 607.4 + 157.9\n",
    "    n_genomes = DNA_conc__g / mw_genome * avogadros\n",
    "    ssu_copies = n_genomes * ssu_copy_per_genome\n",
    "    \n",
    "    return ssu_copies\n",
    "\n",
    "# run\n",
    "SSU_copies_in_ng_DNA(1, 4000000, 4)"
   ]
  },
  {
   "cell_type": "code",
   "execution_count": 197,
   "metadata": {
    "collapsed": true
   },
   "outputs": [],
   "source": [
    "def SSU_copies_MC(DNA_conc, genome_len_dist, ssu_copy_dist, n=100000):\n",
    "    n_copy_dist = []\n",
    "    for i in range(n):\n",
    "        genome_len = genome_len_dist(size=1)[0]\n",
    "        ssu_copy_per_genome = ssu_copy_dist(size=1)[0]\n",
    "        n_copies = SSU_copies_in_ng_DNA(DNA_conc, genome_len, ssu_copy_per_genome)\n",
    "        n_copy_dist.append(n_copies)                     \n",
    "    return n_copy_dist"
   ]
  },
  {
   "cell_type": "code",
   "execution_count": 198,
   "metadata": {
    "collapsed": false
   },
   "outputs": [],
   "source": [
    "# distribution functions\n",
    "genome_len_dist = partial(ss.rayleigh.rvs, *genome_len_best_fit)\n",
    "ssu_copy_dist = partial(ss.rayleigh.rvs, *ssu_ray_fit)\n",
    "\n",
    "# monte carlo estimation of ssu copies in a gradient\n",
    "gradient_dna_conc__ng = 5000\n",
    "n_copy_dist = SSU_copies_MC(gradient_dna_conc__ng, genome_len_dist, ssu_copy_dist, n=10000)"
   ]
  },
  {
   "cell_type": "code",
   "execution_count": 199,
   "metadata": {
    "collapsed": false
   },
   "outputs": [
    {
     "data": {
      "image/png": "[encoded data removed]",
      "text/plain": [
       "<matplotlib.figure.Figure at 0x7f7ecd048e50>"
      ]
     },
     "metadata": {},
     "output_type": "display_data"
    }
   ],
   "source": [
    "fig = plt.figure()\n",
    "ax = plt.subplot(111)\n",
    "ax.hist(n_copy_dist, bins=50)\n",
    "fig.show()"
   ]
  },
  {
   "cell_type": "code",
   "execution_count": 200,
   "metadata": {
    "collapsed": false
   },
   "outputs": [
    {
     "name": "stdout",
     "output_type": "stream",
     "text": [
      "Number of SSU copies in 5000 ng of DNA: 5097287217 +/- 14626056789\n"
     ]
    }
   ],
   "source": [
    "median_copy = int(np.median(n_copy_dist))\n",
    "std_copy = int(np.std(n_copy_dist))\n",
    "\n",
    "print 'Number of SSU copies in {} ng of DNA: {} +/- {}'.format(gradient_dna_conc__ng, median_copy, std_copy)"
   ]
  },
  {
   "cell_type": "code",
   "execution_count": 201,
   "metadata": {
    "collapsed": true
   },
   "outputs": [],
   "source": [
    "def median_confidence_interval(data, confidence=0.95):\n",
    "    a = 1.0*np.array(data)\n",
    "    n = len(a)\n",
    "    m, se = np.median(a), ss.sem(a)\n",
    "    h = se * ss.t._ppf((1+confidence)/2., n-1)\n",
    "    return m, m-h, m+h"
   ]
  },
  {
   "cell_type": "code",
   "execution_count": 204,
   "metadata": {
    "collapsed": false
   },
   "outputs": [
    {
     "name": "stdout",
     "output_type": "stream",
     "text": [
      "Number of SSU copies in 5000 ng of DNA: 5,097,287,217 (low:4,810,572,731, high:5,384,001,703)\n"
     ]
    }
   ],
   "source": [
    "mci = median_confidence_interval(n_copy_dist)\n",
    "mci = map(int, mci)\n",
    "\n",
    "# lci,hci = ss.norm.interval(0.05, loc=np.mean(n_copy_dist), scale=np.std(n_copy_dist))\n",
    "# copy_median = np.median(n_copy_dist)\n",
    "# mci = [copy_median, copy_median - lci, copy_median + hci]\n",
    "\n",
    "print 'Number of SSU copies in {} ng of DNA: {:,d} (low:{:,d}, high:{:,d})'.format(gradient_dna_conc__ng, *mci)"
   ]
  },
  {
   "cell_type": "code",
   "execution_count": null,
   "metadata": {
    "collapsed": true
   },
   "outputs": [],
   "source": []
  }
 ],
 "metadata": {
  "kernelspec": {
   "display_name": "Python 2",
   "language": "python",
   "name": "python2"
  },
  "language_info": {
   "codemirror_mode": {
    "name": "ipython",
    "version": 2
   },
   "file_extension": ".py",
   "mimetype": "text/x-python",
   "name": "python",
   "nbconvert_exporter": "python",
   "pygments_lexer": "ipython2",
   "version": "2.7.10"
  }
 },
 "nbformat": 4,
 "nbformat_minor": 0
}
