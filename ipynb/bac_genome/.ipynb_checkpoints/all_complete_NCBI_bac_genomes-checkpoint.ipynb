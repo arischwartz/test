{
 "cells": [
  {
   "cell_type": "markdown",
   "metadata": {},
   "source": [
    "# Goal: \n",
    "\n",
    "* Download most up-to-date version of NCBI 'complete' genomes"
   ]
  },
  {
   "cell_type": "markdown",
   "metadata": {},
   "source": [
    "# Setting variables"
   ]
  },
  {
   "cell_type": "code",
   "execution_count": 5,
   "metadata": {
    "collapsed": true
   },
   "outputs": [],
   "source": [
    "workDir = '/var/seq_data/ncbi_db/genome/Jan2016/'"
   ]
  },
  {
   "cell_type": "markdown",
   "metadata": {},
   "source": [
    "# Init"
   ]
  },
  {
   "cell_type": "code",
   "execution_count": 6,
   "metadata": {
    "collapsed": false
   },
   "outputs": [],
   "source": [
    "import os\n",
    "%load_ext rpy2.ipython"
   ]
  },
  {
   "cell_type": "code",
   "execution_count": 60,
   "metadata": {
    "collapsed": false
   },
   "outputs": [],
   "source": [
    "%%R\n",
    "library(ggplot2)\n",
    "library(dplyr)\n",
    "library(tidyr)\n",
    "library(genomes)\n",
    "library(permute)"
   ]
  },
  {
   "cell_type": "code",
   "execution_count": 8,
   "metadata": {
    "collapsed": true
   },
   "outputs": [],
   "source": [
    "if not os.path.isdir(workDir):\n",
    "    os.makedirs(workDir)"
   ]
  },
  {
   "cell_type": "markdown",
   "metadata": {},
   "source": [
    "# Assessing NCBI prokaryote genome listing"
   ]
  },
  {
   "cell_type": "code",
   "execution_count": 11,
   "metadata": {
    "collapsed": false
   },
   "outputs": [
    {
     "data": {
      "text/plain": [
       "$`Total genomes`\n",
       "[1] 27570 genome projects on Sep 04, 2014\n",
       "\n",
       "$`By status`\n",
       "                     Total\n",
       "Contig               13074\n",
       "Scaffold             10718\n",
       "Gapless Chromosome    3053\n",
       "Chromosome             373\n",
       "Chromosome with gaps   343\n",
       "Complete                 9\n",
       "\n",
       "$`Recent submissions`\n",
       "  released   name                      status  \n",
       "1 2014-09-02 Altuibacter lentus        Scaffold\n",
       "2 2014-09-02 Bacillus cereus ATCC 4342 Scaffold\n",
       "3 2014-09-02 Bacillus licheniformis    Scaffold\n",
       "4 2014-09-02 Bacillus megaterium       Scaffold\n",
       "5 2014-09-02 Paenibacillus macerans    Scaffold\n",
       "\n"
      ]
     },
     "metadata": {},
     "output_type": "display_data"
    }
   ],
   "source": [
    "%%R\n",
    "data(proks)\n",
    "summary(proks)"
   ]
  },
  {
   "cell_type": "code",
   "execution_count": 12,
   "metadata": {
    "collapsed": false
   },
   "outputs": [
    {
     "name": "stderr",
     "output_type": "stream",
     "text": [
      "/opt/anaconda/lib/python2.7/site-packages/rpy2/robjects/functions.py:106: UserWarning: proks has been successfully updated\n",
      "\n",
      "  res = super(Function, self).__call__(*new_args, **new_kwargs)\n",
      "/opt/anaconda/lib/python2.7/site-packages/rpy2/robjects/functions.py:106: UserWarning: 30013 new project IDs added\n",
      "\n",
      "  res = super(Function, self).__call__(*new_args, **new_kwargs)\n",
      "/opt/anaconda/lib/python2.7/site-packages/rpy2/robjects/functions.py:106: UserWarning: 237 old project IDs removed\n",
      "\n",
      "  res = super(Function, self).__call__(*new_args, **new_kwargs)\n"
     ]
    },
    {
     "data": {
      "text/plain": [
       "$`Total genomes`\n",
       "[1] 57892 genome projects on Jan 12, 2016\n",
       "\n",
       "$`By status`\n",
       "                Total\n",
       "Contig          35209\n",
       "Scaffold        17080\n",
       "Complete Genome  4732\n",
       "Chromosome        871\n",
       "\n",
       "$`Recent submissions`\n",
       "  released   name                 status         \n",
       "1 2016-01-07 Campylobacter jejuni Complete Genome\n",
       "2 2016-01-07 Campylobacter jejuni Complete Genome\n",
       "3 2016-01-07 Campylobacter jejuni Complete Genome\n",
       "4 2016-01-07 Campylobacter jejuni Complete Genome\n",
       "5 2016-01-07 Campylobacter jejuni Complete Genome\n",
       "\n"
      ]
     },
     "metadata": {},
     "output_type": "display_data"
    }
   ],
   "source": [
    "%%R\n",
    "update(proks)\n",
    "summary(proks)"
   ]
  },
  {
   "cell_type": "code",
   "execution_count": 13,
   "metadata": {
    "collapsed": false
   },
   "outputs": [
    {
     "data": {
      "image/png": "[encoded data removed]"
     },
     "metadata": {},
     "output_type": "display_data"
    }
   ],
   "source": [
    "%%R -w 600 -h 300\n",
    "# plotting GC distribution\n",
    "ggplot(proks, aes(gc)) +\n",
    "    geom_histogram(binwidth=1) +\n",
    "    geom_vline(xintercept=50, linetype='dashed', color='red', alpha=0.7) +\n",
    "    labs(x='G+C') +\n",
    "    theme(\n",
    "        text = element_text(size=16)\n",
    "    )"
   ]
  },
  {
   "cell_type": "markdown",
   "metadata": {},
   "source": [
    "# Complete genomes"
   ]
  },
  {
   "cell_type": "code",
   "execution_count": 14,
   "metadata": {
    "collapsed": false
   },
   "outputs": [
    {
     "data": {
      "text/plain": [
       "     pid                           name          status   released  taxid\n",
       "1  12997 Acaryochloris marina MBIC11017 Complete Genome 2007-10-16 329726\n",
       "2  60713 Acetobacterium woodii DSM 1030 Complete Genome 2012-02-14 931626\n",
       "3 242487       Acetobacter pasteurianus Complete Genome 2015-07-21    438\n",
       "   bioproject          group              subgroup    size      gc\n",
       "1  PRJNA12997  Cyanobacteria Oscillatoriophycideae 8.36160 46.9889\n",
       "2  PRJNA60713     Firmicutes            Clostridia 4.04478 39.3000\n",
       "3 PRJNA242487 Proteobacteria   Alphaproteobacteria 2.80615 53.3000\n",
       "         refseq      insdc\n",
       "1   NC_009925.1 CP000828.1\n",
       "2   NC_016894.1 CP002987.1\n",
       "3 NZ_CP012111.1 CP012111.1\n",
       "                                                                                               plasmid.refseq\n",
       "1 NC_009930.1,NC_009928.1,NC_009927.1,NC_009931.1,NC_009933.1,NC_009934.1,NC_009932.1,NC_009926.1,NC_009929.1\n",
       "2                                                                                                        <NA>\n",
       "3                                                                                                        <NA>\n",
       "                                                                                       plasmid.insdc\n",
       "1 CP000842.1,CP000840.1,CP000839.1,CP000843.1,CP000845.1,CP000846.1,CP000844.1,CP000838.1,CP000841.1\n",
       "2                                                                                               <NA>\n",
       "3                                                                                               <NA>\n",
       "   wgs scaffolds genes proteins   modified                             center\n",
       "1 <NA>        10  7469     7187 2015-07-30              Washington University\n",
       "2 <NA>         1  3649     3521 2015-08-18 Georg-August-University Goettingen\n",
       "3 <NA>         1  2688     2535 2015-12-09      Zhejiang Gongshang University\n",
       "     biosample        assembly reference ftp   pubmed\n",
       "1 SAMN02604308 GCA_000018105.1      REFR  NA 18252824\n",
       "2 SAMN02603267 GCA_000247605.1      REFR  NA 22479398\n",
       "3 SAMN02709032 GCA_001183745.1      <NA>  NA     <NA>\n"
      ]
     },
     "metadata": {},
     "output_type": "display_data"
    }
   ],
   "source": [
    "%%R\n",
    "proks.complete = proks %>% as.data.frame %>% \n",
    "    filter(status == 'Complete Genome') \n",
    "proks.complete %>% head(n=3)"
   ]
  },
  {
   "cell_type": "code",
   "execution_count": 15,
   "metadata": {
    "collapsed": false
   },
   "outputs": [
    {
     "data": {
      "image/png": "[encoded data removed]"
     },
     "metadata": {},
     "output_type": "display_data"
    }
   ],
   "source": [
    "%%R -w 600 -h 300\n",
    "# plotting GC distribution\n",
    "ggplot(proks.complete, aes(gc)) +\n",
    "    geom_histogram(binwidth=1) +\n",
    "    geom_vline(xintercept=50, linetype='dashed', color='red', alpha=0.7) +\n",
    "    labs(x='G+C') +\n",
    "    theme(\n",
    "        text = element_text(size=16)\n",
    "    )"
   ]
  },
  {
   "cell_type": "code",
   "execution_count": 16,
   "metadata": {
    "collapsed": false
   },
   "outputs": [
    {
     "data": {
      "text/plain": [
       "   Min. 1st Qu.  Median    Mean 3rd Qu.    Max. \n",
       "  13.50   37.67   46.70   47.77   58.80   74.90 \n"
      ]
     },
     "metadata": {},
     "output_type": "display_data"
    }
   ],
   "source": [
    "%%R\n",
    "proks.complete$gc %>% summary"
   ]
  },
  {
   "cell_type": "markdown",
   "metadata": {},
   "source": [
    "# Adding taxonomy\n",
    "\n",
    "* using taxID"
   ]
  },
  {
   "cell_type": "code",
   "execution_count": 17,
   "metadata": {
    "collapsed": false
   },
   "outputs": [],
   "source": [
    "prokFile = os.path.join(workDir, 'proks_complete.txt')"
   ]
  },
  {
   "cell_type": "code",
   "execution_count": 18,
   "metadata": {
    "collapsed": false
   },
   "outputs": [
    {
     "data": {
      "text/plain": [
       "File written:  /var/seq_data/ncbi_db/genome/Jan2016/proks_complete.txt \n"
      ]
     },
     "metadata": {},
     "output_type": "display_data"
    }
   ],
   "source": [
    "%%R -i prokFile\n",
    "\n",
    "write.table(proks.complete, prokFile, sep='\\t', row.names=F, quote=F)\n",
    "cat('File written: ', prokFile, '\\n')"
   ]
  },
  {
   "cell_type": "code",
   "execution_count": 20,
   "metadata": {
    "collapsed": true
   },
   "outputs": [],
   "source": [
    "taxFile = os.path.splitext(prokFile)[0] + '_tax.txt'"
   ]
  },
  {
   "cell_type": "code",
   "execution_count": 156,
   "metadata": {
    "collapsed": false
   },
   "outputs": [
    {
     "name": "stdout",
     "output_type": "stream",
     "text": [
      "sh: 0: getcwd() failed: No such file or directory\n",
      "Failed query (try=1): 738\n",
      "Failed query (try=1): 741091\n",
      "Failed query (try=1): 741093\n",
      "Failed query (try=1): 91891\n"
     ]
    }
   ],
   "source": [
    "!cd $workDir; \\\n",
    "    tail -n +2 $prokFile | \\\n",
    "    cut -f 5 | sort -u | \\\n",
    "    seqDB_tools taxid2taxonomy -p 30 > $taxFile"
   ]
  },
  {
   "cell_type": "markdown",
   "metadata": {},
   "source": [
    "### Reading in files"
   ]
  },
  {
   "cell_type": "code",
   "execution_count": 21,
   "metadata": {
    "collapsed": false
   },
   "outputs": [
    {
     "data": {
      "text/plain": [
       "[1] 4732\n",
       "[1] 4732\n",
       "     pid                           name          status   released  taxid\n",
       "1  12997 Acaryochloris marina MBIC11017 Complete Genome 2007-10-16 329726\n",
       "2  60713 Acetobacterium woodii DSM 1030 Complete Genome 2012-02-14 931626\n",
       "3 242487       Acetobacter pasteurianus Complete Genome 2015-07-21    438\n",
       "   bioproject          group              subgroup    size      gc\n",
       "1  PRJNA12997  Cyanobacteria Oscillatoriophycideae 8.36160 46.9889\n",
       "2  PRJNA60713     Firmicutes            Clostridia 4.04478 39.3000\n",
       "3 PRJNA242487 Proteobacteria   Alphaproteobacteria 2.80615 53.3000\n",
       "         refseq      insdc\n",
       "1   NC_009925.1 CP000828.1\n",
       "2   NC_016894.1 CP002987.1\n",
       "3 NZ_CP012111.1 CP012111.1\n",
       "                                                                                               plasmid.refseq\n",
       "1 NC_009930.1,NC_009928.1,NC_009927.1,NC_009931.1,NC_009933.1,NC_009934.1,NC_009932.1,NC_009926.1,NC_009929.1\n",
       "2                                                                                                        <NA>\n",
       "3                                                                                                        <NA>\n",
       "                                                                                       plasmid.insdc\n",
       "1 CP000842.1,CP000840.1,CP000839.1,CP000843.1,CP000845.1,CP000846.1,CP000844.1,CP000838.1,CP000841.1\n",
       "2                                                                                               <NA>\n",
       "3                                                                                               <NA>\n",
       "   wgs scaffolds genes proteins   modified                             center\n",
       "1 <NA>        10  7469     7187 2015-07-30              Washington University\n",
       "2 <NA>         1  3649     3521 2015-08-18 Georg-August-University Goettingen\n",
       "3 <NA>         1  2688     2535 2015-12-09      Zhejiang Gongshang University\n",
       "     biosample        assembly reference ftp   pubmed superkingdom\n",
       "1 SAMN02604308 GCA_000018105.1      REFR  NA 18252824     Bacteria\n",
       "2 SAMN02603267 GCA_000247605.1      REFR  NA 22479398     Bacteria\n",
       "3 SAMN02709032 GCA_001183745.1      <NA>  NA     <NA>     Bacteria\n",
       "          phylum               class            order           family\n",
       "1  Cyanobacteria                <NA>    Chroococcales             <NA>\n",
       "2     Firmicutes          Clostridia    Clostridiales   Eubacteriaceae\n",
       "3 Proteobacteria Alphaproteobacteria Rhodospirillales Acetobacteraceae\n",
       "           genus               species\n",
       "1  Acaryochloris  Acaryochloris marina\n",
       "2 Acetobacterium Acetobacterium woodii\n",
       "3    Acetobacter                  <NA>\n"
      ]
     },
     "metadata": {},
     "output_type": "display_data"
    }
   ],
   "source": [
    "%%R -i taxFile\n",
    "\n",
    "df.tax = read.delim(taxFile, sep='\\t') %>%\n",
    "    distinct(taxid)\n",
    "df.proks.complete = dplyr::inner_join(proks.complete, df.tax, c('taxid' = 'taxid'))\n",
    "\n",
    "# checking join\n",
    "proks.complete %>% nrow %>% print\n",
    "df.proks.complete %>% nrow %>% print\n",
    "df.proks.complete %>% head(n=3)"
   ]
  },
  {
   "cell_type": "markdown",
   "metadata": {},
   "source": [
    "# Just Bacteria"
   ]
  },
  {
   "cell_type": "code",
   "execution_count": 217,
   "metadata": {
    "collapsed": false
   },
   "outputs": [
    {
     "data": {
      "text/plain": [
       "[1] 4498\n"
      ]
     },
     "metadata": {},
     "output_type": "display_data"
    }
   ],
   "source": [
    "%%R\n",
    "df.bac.complete = df.proks.complete %>%\n",
    "    filter(superkingdom == 'Bacteria')\n",
    "\n",
    "df.bac.complete %>% nrow"
   ]
  },
  {
   "cell_type": "markdown",
   "metadata": {},
   "source": [
    "### Phylum representation"
   ]
  },
  {
   "cell_type": "code",
   "execution_count": 218,
   "metadata": {
    "collapsed": false
   },
   "outputs": [
    {
     "data": {
      "image/png": "[encoded data removed]"
     },
     "metadata": {},
     "output_type": "display_data"
    }
   ],
   "source": [
    "%%R -w 800\n",
    "df.bac.complete.s = df.bac.complete %>%\n",
    "    group_by(phylum) %>%\n",
    "    summarize(n = n())\n",
    "\n",
    "ggplot(df.bac.complete.s, aes(phylum, n)) +\n",
    "    geom_bar(stat='identity') +\n",
    "    scale_y_log10() +\n",
    "    labs(y = 'Number of genomes') +\n",
    "    theme_bw() +\n",
    "    theme(\n",
    "        text = element_text(size=16),\n",
    "        axis.text.x = element_text(angle=60, hjust=1)\n",
    "    )"
   ]
  },
  {
   "cell_type": "markdown",
   "metadata": {},
   "source": [
    "## Other Filtering"
   ]
  },
  {
   "cell_type": "markdown",
   "metadata": {},
   "source": [
    "### Genome size"
   ]
  },
  {
   "cell_type": "code",
   "execution_count": 219,
   "metadata": {
    "collapsed": false
   },
   "outputs": [
    {
     "data": {
      "text/plain": [
       "        size                                                         name\n",
       "102 0.723970                Aster yellows witches'-broom phytoplasma AYWB\n",
       "103 0.727289                                  Ureaplasma parvum serovar 3\n",
       "104 0.742431                                Mycoplasma suis str. Illinois\n",
       "105 0.749321  Blochmannia endosymbiont of Polyrhachis (Hedomyrma) turneri\n",
       "106 0.751679                  Ureaplasma parvum serovar 3 str. ATCC 27815\n",
       "107 0.751719                 Ureaplasma parvum serovar 3 str. ATCC 700970\n",
       "108 0.752630  Parcubacteria (Campbellbacteria) bacterium GW2011_OD1_34_28\n",
       "109 0.754729                     Candidatus Ishikawaella capsulata Mpkobe\n",
       "110 0.756845                 Candidatus Mycoplasma haemolamae str. Purdue\n",
       "111 0.759425                         Candidatus Baumannia cicadellinicola\n",
       "112 0.760240                                  Mycoplasma bovoculi M165/69\n",
       "113 0.773940 Blochmannia endosymbiont of Camponotus (Colobopsis) obliquus\n",
       "114 0.777079                                       Mycoplasma mobile 163K\n",
       "115 0.778866                             Mycoplasma flocculare ATCC 27399\n",
       "116 0.791219                  Candidatus Blochmannia chromaiodes str. 640\n",
       "117 0.791654              Candidatus Blochmannia pennsylvanicus str. BPEN\n",
       "118 0.793224                                         Mesoplasma florum L1\n",
       "119 0.793841                                      Mycoplasma californicum\n",
       "120 0.799088                             Mycoplasma californicum HAZ160_1\n",
       "121 0.799476                                       Mycoplasma synoviae 53\n"
      ]
     },
     "metadata": {},
     "output_type": "display_data"
    }
   ],
   "source": [
    "%%R\n",
    "df.bac.complete %>%\n",
    "    filter(size < 0.8) %>%\n",
    "    arrange(size) %>%\n",
    "    select(size, name) %>% tail(n=20)"
   ]
  },
  {
   "cell_type": "code",
   "execution_count": 220,
   "metadata": {
    "collapsed": false
   },
   "outputs": [
    {
     "data": {
      "text/plain": [
       "Pre-filter: 4498 \n",
       "Post-filter: 4377 \n"
      ]
     },
     "metadata": {},
     "output_type": "display_data"
    }
   ],
   "source": [
    "%%R\n",
    "\n",
    "cat('Pre-filter:', df.bac.complete %>% nrow, '\\n')\n",
    "df.bac.complete = df.bac.complete %>%\n",
    "    filter(size > 0.8) \n",
    "cat('Post-filter:', df.bac.complete %>% nrow, '\\n')"
   ]
  },
  {
   "cell_type": "markdown",
   "metadata": {},
   "source": [
    "### removing what are really phage/plasmid genomes"
   ]
  },
  {
   "cell_type": "code",
   "execution_count": 221,
   "metadata": {
    "collapsed": false
   },
   "outputs": [
    {
     "data": {
      "text/plain": [
       "Pre-filter: 4377 \n",
       "Post-filter: 4375 \n"
      ]
     },
     "metadata": {},
     "output_type": "display_data"
    }
   ],
   "source": [
    "%%R\n",
    "cat('Pre-filter:', df.bac.complete %>% nrow, '\\n')\n",
    "\n",
    "to.rm = c(\"Thermoanaerobacterium saccharolyticum JW/SL-YS485\",\n",
    "          \"Streptococcus salivarius 57.I\")\n",
    "\n",
    "df.bac.complete = df.bac.complete %>%\n",
    "    filter(! name %in% to.rm)\n",
    "\n",
    "cat('Post-filter:', df.bac.complete %>% nrow, '\\n')"
   ]
  },
  {
   "cell_type": "markdown",
   "metadata": {},
   "source": [
    "## Random selection of just 1 taxon per species"
   ]
  },
  {
   "cell_type": "code",
   "execution_count": 222,
   "metadata": {
    "collapsed": false
   },
   "outputs": [
    {
     "data": {
      "text/plain": [
       "Number of representative genomes: 1234 \n"
      ]
     },
     "metadata": {},
     "output_type": "display_data"
    }
   ],
   "source": [
    "%%R\n",
    "\n",
    "# parsing out representatives\n",
    "df.bac.complete.rep = df.bac.complete %>%\n",
    "    filter(! is.na(refseq)) %>%\n",
    "    group_by(species) %>%\n",
    "    sample_n(1) %>%\n",
    "    ungroup()\n",
    "\n",
    "cat('Number of representative genomes:', df.bac.complete.rep %>% nrow, '\\n')"
   ]
  },
  {
   "cell_type": "markdown",
   "metadata": {},
   "source": [
    "### Phylum representation"
   ]
  },
  {
   "cell_type": "code",
   "execution_count": 223,
   "metadata": {
    "collapsed": false
   },
   "outputs": [
    {
     "data": {
      "image/png": "[encoded data removed]"
     },
     "metadata": {},
     "output_type": "display_data"
    }
   ],
   "source": [
    "%%R -w 800\n",
    "df.bac.complete.rep.s = df.bac.complete.rep %>%\n",
    "    group_by(phylum) %>%\n",
    "    summarize(n = n())\n",
    "\n",
    "ggplot(df.bac.complete.rep.s, aes(phylum, n)) +\n",
    "    geom_bar(stat='identity') +\n",
    "    labs(y = 'Number of representative genomes') +\n",
    "    theme_bw() +\n",
    "    theme(\n",
    "        text = element_text(size=16),\n",
    "        axis.text.x = element_text(angle=60, hjust=1)\n",
    "    )"
   ]
  },
  {
   "cell_type": "markdown",
   "metadata": {},
   "source": [
    "### genome GC content"
   ]
  },
  {
   "cell_type": "code",
   "execution_count": 224,
   "metadata": {
    "collapsed": false
   },
   "outputs": [
    {
     "data": {
      "image/png": "[encoded data removed]"
     },
     "metadata": {},
     "output_type": "display_data"
    }
   ],
   "source": [
    "%%R -w 600 -h 300\n",
    "# plotting GC distribution\n",
    "ggplot(df.bac.complete.rep, aes(gc)) +\n",
    "    geom_histogram(binwidth=1) +\n",
    "    geom_vline(xintercept=50, linetype='dashed', color='red', alpha=0.7) +\n",
    "    labs(x='G+C') +\n",
    "    theme(\n",
    "        text = element_text(size=16)\n",
    "    )"
   ]
  },
  {
   "cell_type": "markdown",
   "metadata": {},
   "source": [
    "#### Notes \n",
    "\n",
    "* A very bi-modal distribution (as see in Youngblut & Buckley (2014))"
   ]
  },
  {
   "cell_type": "markdown",
   "metadata": {},
   "source": [
    "## Reducing bias toward low G+C endosymbionts"
   ]
  },
  {
   "cell_type": "code",
   "execution_count": 225,
   "metadata": {
    "collapsed": false
   },
   "outputs": [
    {
     "data": {
      "image/png": "[encoded data removed]"
     },
     "metadata": {},
     "output_type": "display_data"
    }
   ],
   "source": [
    "%%R -h 400\n",
    "# culmulative function of Genomes w/ GC\n",
    "\n",
    "df.bac.complete.rep.f = df.bac.complete.rep %>%\n",
    "    group_by() %>%\n",
    "    mutate(total_genomes = n()) %>%\n",
    "    ungroup() %>%\n",
    "    arrange(gc) %>%\n",
    "    mutate(n = 1,\n",
    "           culm_perc_total = cumsum(n) / total_genomes * 100) %>%\n",
    "    select(gc, culm_perc_total, phylum, genus) \n",
    "    \n",
    "\n",
    "# plot\n",
    "ggplot(df.bac.complete.rep.f, aes(gc, culm_perc_total)) +\n",
    "    geom_point() +\n",
    "    geom_line() +\n",
    "    labs(x='Genome G+C', y='Culmulative total (%)') +\n",
    "    theme_bw() +\n",
    "    theme(\n",
    "        text = element_text(size=16)\n",
    "    )"
   ]
  },
  {
   "cell_type": "code",
   "execution_count": 226,
   "metadata": {
    "collapsed": false
   },
   "outputs": [
    {
     "data": {
      "image/png": "[encoded data removed]"
     },
     "metadata": {},
     "output_type": "display_data"
    }
   ],
   "source": [
    "%%R -w 1100 -h 500\n",
    "GC_cutoff = 30\n",
    "\n",
    "df.bac.complete.rep.f = df.bac.complete.rep %>% \n",
    "    group_by(genus) %>%\n",
    "    mutate(genus_medianGC = median(gc)) %>%\n",
    "    ungroup() %>%\n",
    "    filter(genus_medianGC <= GC_cutoff) %>%\n",
    "    select(phylum, genus, gc)\n",
    "\n",
    "df.bac.complete.rep.f$genus = reorder(df.bac.complete.rep.f$genus, df.bac.complete.rep.f$phylum)\n",
    "\n",
    "ggplot(df.bac.complete.rep.f, aes(genus, gc, color=phylum)) +\n",
    "    geom_boxplot() +\n",
    "    theme_bw() +\n",
    "    theme(\n",
    "        text = element_text(size=16),\n",
    "        axis.text.x = element_text(angle=60, hjust=1)\n",
    "    )"
   ]
  },
  {
   "cell_type": "markdown",
   "metadata": {},
   "source": [
    "### Making low GC genomes just 1% of dataset"
   ]
  },
  {
   "cell_type": "code",
   "execution_count": 228,
   "metadata": {
    "collapsed": false
   },
   "outputs": [
    {
     "data": {
      "text/plain": [
       "Number of low GC genomes:  79 \n",
       "Low GC genomes make up  6.401945 % of the dataset\n"
      ]
     },
     "metadata": {},
     "output_type": "display_data"
    }
   ],
   "source": [
    "%%R\n",
    "df.bac.complete.rep = df.bac.complete.rep %>% \n",
    "    group_by(genus) %>%\n",
    "    mutate(genus_medianGC = median(gc)) %>%\n",
    "    ungroup()\n",
    "\n",
    "df.lowGC = df.bac.complete.rep %>%\n",
    "    filter(genus_medianGC <= 30)\n",
    "\n",
    "df.highGC = df.bac.complete.rep %>%\n",
    "    filter(genus_medianGC > 30)\n",
    "\n",
    "n.lowGC = df.lowGC %>% nrow\n",
    "n.total = df.bac.complete.rep %>% nrow\n",
    "\n",
    "cat('Number of low GC genomes: ', n.lowGC, '\\n')\n",
    "cat('Low GC genomes make up ', n.lowGC / n.total * 100, '% of the dataset\\n')"
   ]
  },
  {
   "cell_type": "code",
   "execution_count": 229,
   "metadata": {
    "collapsed": false
   },
   "outputs": [
    {
     "data": {
      "text/plain": [
       "Sampling 12 low GC genomes\n",
       "Number of representative genomes: 1155 \n"
      ]
     },
     "metadata": {},
     "output_type": "display_data"
    },
    {
     "data": {
      "image/png": "[encoded data removed]"
     },
     "metadata": {},
     "output_type": "display_data"
    }
   ],
   "source": [
    "%%R -h 300 -w 600\n",
    "n.sample = round(n.total * 0.01, 0)\n",
    "cat('Sampling', n.sample, 'low GC genomes\\n')\n",
    "\n",
    "to.keep = sample(df.bac.complete.rep$name, n.sample, replace=FALSE)\n",
    "to.keep = append(to.keep, df.highGC$name)\n",
    "\n",
    "df.bac.complete.rep.p = df.bac.complete.rep %>%\n",
    "    filter(name %in% to.keep)    \n",
    "\n",
    "cat('Number of representative genomes:', df.bac.complete.rep.p %>% nrow, '\\n')\n",
    "\n",
    "# plotting GC distribution\n",
    "ggplot(df.bac.complete.rep.p, aes(gc)) +\n",
    "    geom_histogram(binwidth=1) +\n",
    "    geom_vline(xintercept=50, linetype='dashed', color='red', alpha=0.7) +\n",
    "    labs(x='G+C') +\n",
    "    theme(\n",
    "        text = element_text(size=16)\n",
    "    )   "
   ]
  },
  {
   "cell_type": "markdown",
   "metadata": {},
   "source": [
    "## Sequence download"
   ]
  },
  {
   "cell_type": "code",
   "execution_count": 230,
   "metadata": {
    "collapsed": true
   },
   "outputs": [],
   "source": [
    "%%R -i workDir\n",
    "\n",
    "outFile = file.path(workDir, 'bac_complete_spec-rep1.txt')\n",
    "write.table(df.bac.complete.rep.p, outFile, sep='\\t', quote=F, row.names=F)"
   ]
  },
  {
   "cell_type": "code",
   "execution_count": null,
   "metadata": {
    "collapsed": false
   },
   "outputs": [],
   "source": [
    "!cd $workDir; \\\n",
    "    seqDB_tools accession-GI2fasta \\\n",
    "        -a 11 -n 2 -f 30 -header \\\n",
    "        -o bac_complete_spec-rep1 \\\n",
    "        < bac_complete_spec-rep1.txt \\\n",
    "        2> bac_complete_spec-rep1.log"
   ]
  },
  {
   "cell_type": "code",
   "execution_count": 239,
   "metadata": {
    "collapsed": false
   },
   "outputs": [
    {
     "name": "stdout",
     "output_type": "stream",
     "text": [
      "Starting batch->trial: 0->1\n",
      "Starting batch->trial: 1->1\n",
      "Starting batch->trial: 3->1\n",
      "Starting batch->trial: 2->1\n",
      "\n",
      "--------------------- WARNING ---------------------\n",
      "MSG: No whitespace allowed in FASTA ID [NC_015387|Marinithermus hydrothermalis DSM 14884, complete genome.]\n",
      "---------------------------------------------------\n",
      "\n",
      "--------------------- WARNING ---------------------\n",
      "MSG: No whitespace allowed in FASTA ID [NC_015387|Marinithermus hydrothermalis DSM 14884, complete genome.]\n",
      "---------------------------------------------------\n",
      "\n",
      "--------------------- WARNING ---------------------\n",
      "MSG: No whitespace allowed in FASTA ID [NC_017094|Leptospirillum ferrooxidans C2-3 DNA, complete genome.]\n",
      "---------------------------------------------------\n",
      "\n",
      "--------------------- WARNING ---------------------\n",
      "MSG: No whitespace allowed in FASTA ID [NC_017094|Leptospirillum ferrooxidans C2-3 DNA, complete genome.]\n",
      "---------------------------------------------------\n",
      "\n",
      "--------------------- WARNING ---------------------\n",
      "MSG: No whitespace allowed in FASTA ID [NC_022041|Paracoccus aminophilus JCM 7686, complete genome.]\n",
      "---------------------------------------------------\n",
      "\n",
      "--------------------- WARNING ---------------------\n",
      "MSG: No whitespace allowed in FASTA ID [NC_022041|Paracoccus aminophilus JCM 7686, complete genome.]\n",
      "---------------------------------------------------\n",
      "\n",
      "--------------------- WARNING ---------------------\n",
      "MSG: No whitespace allowed in FASTA ID [NC_020908|Octadecabacter arcticus 238, complete genome.]\n",
      "---------------------------------------------------\n",
      "\n",
      "--------------------- WARNING ---------------------\n",
      "MSG: No whitespace allowed in FASTA ID [NC_020908|Octadecabacter arcticus 238, complete genome.]\n",
      "---------------------------------------------------\n"
     ]
    }
   ],
   "source": [
    "!cd $workDir; \\\n",
    "    seqDB_tools accession-GI2fasta \\\n",
    "        -a 11 -n 2 -f 30 -b 1 -header \\\n",
    "        -o bac_complete_spec-rep1_tmp \\\n",
    "        < re_bac.txt"
   ]
  },
  {
   "cell_type": "code",
   "execution_count": null,
   "metadata": {
    "collapsed": true
   },
   "outputs": [],
   "source": [
    "Leptospirillum_ferrooxidans_C2-3.fna\n",
    "bac_complete_spec-rep1/Marinithermus_hydrothermalis_DSM_14884.fna\n",
    "bac_complete_spec-rep1/Octadecabacter_arcticus_238.fna\n",
    "bac_complete_spec-rep1/Paracoccus_aminophilus_JCM_7686.fna"
   ]
  },
  {
   "cell_type": "markdown",
   "metadata": {},
   "source": [
    "### Checking output"
   ]
  },
  {
   "cell_type": "code",
   "execution_count": 240,
   "metadata": {
    "collapsed": false
   },
   "outputs": [
    {
     "name": "stdout",
     "output_type": "stream",
     "text": [
      "Number of bacterial genomes: 1147\n"
     ]
    }
   ],
   "source": [
    "genomeDir = os.path.join(workDir, 'bac_complete_spec-rep1')\n",
    "# number of genomes downloaded\n",
    "!printf \"Number of bacterial genomes: \"\n",
    "!cd $genomeDir; \\\n",
    "    find . -name \"*.fna\" | wc -l    "
   ]
  },
  {
   "cell_type": "code",
   "execution_count": 243,
   "metadata": {
    "collapsed": false
   },
   "outputs": [
    {
     "name": "stdout",
     "output_type": "stream",
     "text": [
      "Genome file size distribution (bytes):\n",
      "1\tmin\t721810.00\n",
      "1\tQ1\t2386016.00\n",
      "1\tmean\t3914102.84\n",
      "1\tmedian\t3668349.00\n",
      "1\tQ3\t4991326.00\n",
      "1\tmax\t15028601.00\n",
      "1\tstdev\t1945831.55\n"
     ]
    }
   ],
   "source": [
    "# file size\n",
    "!echo \"Genome file size distribution (bytes):\"\n",
    "!cd $genomeDir; \\\n",
    "    ls -tlc *.fna | \\\n",
    "    perl -pe 's/ +/\\t/g' | \\\n",
    "    cut -f 5 | NY_misc_perl stats_descriptive"
   ]
  },
  {
   "cell_type": "code",
   "execution_count": 242,
   "metadata": {
    "collapsed": false
   },
   "outputs": [],
   "source": [
    "# checking for non-bacterial genomes\n",
    "!find $genomeDir -name \"*fna\" | xargs -P 20 egrep \"phage|virus|phage\""
   ]
  },
  {
   "cell_type": "markdown",
   "metadata": {},
   "source": [
    "# Renaming genomes"
   ]
  },
  {
   "cell_type": "code",
   "execution_count": 251,
   "metadata": {
    "collapsed": false
   },
   "outputs": [
    {
     "data": {
      "text/plain": [
       "'/var/seq_data/ncbi_db/genome/Jan2016/bac_complete_spec-rep1_rn'"
      ]
     },
     "execution_count": 251,
     "metadata": {},
     "output_type": "execute_result"
    }
   ],
   "source": [
    "genomeDirRn = genomeDir + '_rn'\n",
    "genomeDirRn"
   ]
  },
  {
   "cell_type": "code",
   "execution_count": 252,
   "metadata": {
    "collapsed": false,
    "scrolled": true
   },
   "outputs": [
    {
     "name": "stdout",
     "output_type": "stream",
     "text": [
      "File written: /var/seq_data/ncbi_db/genome/Jan2016/bac_complete_spec-rep1_rn/Chlamydia_pecorum_P787.fna\n",
      "File written: /var/seq_data/ncbi_db/genome/Jan2016/bac_complete_spec-rep1_rn/Streptococcus_pyogenes_MGAS8232.fna\n",
      "File written: /var/seq_data/ncbi_db/genome/Jan2016/bac_complete_spec-rep1_rn/Rickettsia_australis_str_Cutlack.fna\n",
      "File written: /var/seq_data/ncbi_db/genome/Jan2016/bac_complete_spec-rep1_rn/Chlamydia_avium_10DC88.fna\n",
      "File written: /var/seq_data/ncbi_db/genome/Jan2016/bac_complete_spec-rep1_rn/Haemophilus_ducreyi_35000HP.fna\n",
      "File written: /var/seq_data/ncbi_db/genome/Jan2016/bac_complete_spec-rep1_rn/Thermotoga_maritima_MSB8.fna\n",
      "File written: /var/seq_data/ncbi_db/genome/Jan2016/bac_complete_spec-rep1_rn/Lactococcus_piscium_MKFS47.fna\n",
      "File written: /var/seq_data/ncbi_db/genome/Jan2016/bac_complete_spec-rep1_rn/Corynebacterium_falsenii_DSM_44353.fna\n",
      "File written: /var/seq_data/ncbi_db/genome/Jan2016/bac_complete_spec-rep1_rn/Helicobacter_cinaedi_PAGU611.fna\n",
      "File written: /var/seq_data/ncbi_db/genome/Jan2016/bac_complete_spec-rep1_rn/Thermodesulfobacterium_commune_DSM_2178.fna\n",
      "File written: /var/seq_data/ncbi_db/genome/Jan2016/bac_complete_spec-rep1_rn/Desulfotomaculum_reducens_MI-1.fna\n",
      "File written: /var/seq_data/ncbi_db/genome/Jan2016/bac_complete_spec-rep1_rn/Bacillus_megaterium_WSH-002.fna\n",
      "File written: /var/seq_data/ncbi_db/genome/Jan2016/bac_complete_spec-rep1_rn/Pantoea_ananatis_AJ13355.fna\n",
      "File written: /var/seq_data/ncbi_db/genome/Jan2016/bac_complete_spec-rep1_rn/Saccharophagus_degradans_2-40.fna\n",
      "File written: /var/seq_data/ncbi_db/genome/Jan2016/bac_complete_spec-rep1_rn/Simkania_negevensis_Z.fna\n",
      "File written: /var/seq_data/ncbi_db/genome/Jan2016/bac_complete_spec-rep1_rn/Solibacillus_silvestris_StLB046.fna\n",
      "File written: /var/seq_data/ncbi_db/genome/Jan2016/bac_complete_spec-rep1_rn/Bdellovibrio_bacteriovorus_str_Tiberius.fna\n",
      "File written: /var/seq_data/ncbi_db/genome/Jan2016/bac_complete_spec-rep1_rn/Streptococcus_uberis_0140J.fna\n",
      "File written: /var/seq_data/ncbi_db/genome/Jan2016/bac_complete_spec-rep1_rn/Pseudomonas_mendocina_ymp.fna\n",
      "File written: /var/seq_data/ncbi_db/genome/Jan2016/bac_complete_spec-rep1_rn/Rickettsia_bellii_OSU_85-389.fna\n",
      "File written: /var/seq_data/ncbi_db/genome/Jan2016/bac_complete_spec-rep1_rn/Desulfovibrio_magneticus_RS-1.fna\n",
      "File written: /var/seq_data/ncbi_db/genome/Jan2016/bac_complete_spec-rep1_rn/Segniliparus_rotundus_DSM_44985.fna\n",
      "File written: /var/seq_data/ncbi_db/genome/Jan2016/bac_complete_spec-rep1_rn/Sphaerobacter_thermophilus_DSM_20745.fna\n",
      "File written: /var/seq_data/ncbi_db/genome/Jan2016/bac_complete_spec-rep1_rn/Thioalkalivibrio_sulfidiphilus_HL-EbGr7.fna\n",
      "File written: /var/seq_data/ncbi_db/genome/Jan2016/bac_complete_spec-rep1_rn/Pseudomonas_pseudoalcaligenes_CECT_5344.fna\n",
      "File written: /var/seq_data/ncbi_db/genome/Jan2016/bac_complete_spec-rep1_rn/Rhodoferax_ferrireducens_T118.fna\n",
      "File written: /var/seq_data/ncbi_db/genome/Jan2016/bac_complete_spec-rep1_rn/Bifidobacterium_kashiwanohense_JCM_15439_DSM_21854.fna\n",
      "File written: /var/seq_data/ncbi_db/genome/Jan2016/bac_complete_spec-rep1_rn/Enterococcus_casseliflavus_EC20.fna\n",
      "File written: /var/seq_data/ncbi_db/genome/Jan2016/bac_complete_spec-rep1_rn/Thioflavicoccus_mobilis_8321.fna\n",
      "File written: /var/seq_data/ncbi_db/genome/Jan2016/bac_complete_spec-rep1_rn/Eubacterium_eligens_ATCC_27750.fna\n",
      "File written: /var/seq_data/ncbi_db/genome/Jan2016/bac_complete_spec-rep1_rn/Providencia_stuartii_MRSN_2154.fna\n",
      "File written: /var/seq_data/ncbi_db/genome/Jan2016/bac_complete_spec-rep1_rn/Sphingomonas_wittichii_RW1.fna\n",
      "File written: /var/seq_data/ncbi_db/genome/Jan2016/bac_complete_spec-rep1_rn/Paludibacter_propionicigenes_WB4.fna\n",
      "File written: /var/seq_data/ncbi_db/genome/Jan2016/bac_complete_spec-rep1_rn/Candidatus_Kinetoplastibacterium_galatii_TCC219.fna\n",
      "File written: /var/seq_data/ncbi_db/genome/Jan2016/bac_complete_spec-rep1_rn/Mycobacterium_gilvum_Spyr1.fna\n",
      "File written: /var/seq_data/ncbi_db/genome/Jan2016/bac_complete_spec-rep1_rn/Aeromonas_media_WS.fna\n",
      "File written: /var/seq_data/ncbi_db/genome/Jan2016/bac_complete_spec-rep1_rn/Xanthomonas_oryzae_pv_oryzicola.fna\n",
      "File written: /var/seq_data/ncbi_db/genome/Jan2016/bac_complete_spec-rep1_rn/Lactobacillus_buchneri_CD034.fna\n",
      "File written: /var/seq_data/ncbi_db/genome/Jan2016/bac_complete_spec-rep1_rn/Streptococcus_oligofermentans_AS_1_3089.fna\n",
      "File written: /var/seq_data/ncbi_db/genome/Jan2016/bac_complete_spec-rep1_rn/Thermoanaerobacter_mathranii_subsp_mathranii_str_A3.fna\n",
      "File written: /var/seq_data/ncbi_db/genome/Jan2016/bac_complete_spec-rep1_rn/Rhodobacter_capsulatus_SB_1003.fna\n",
      "File written: /var/seq_data/ncbi_db/genome/Jan2016/bac_complete_spec-rep1_rn/Francisella_noatunensis_subsp_orientalis_str_Toba_04.fna\n",
      "File written: /var/seq_data/ncbi_db/genome/Jan2016/bac_complete_spec-rep1_rn/Acidothermus_cellulolyticus_11B.fna\n",
      "File written: /var/seq_data/ncbi_db/genome/Jan2016/bac_complete_spec-rep1_rn/Acidaminococcus_fermentans_DSM_20731.fna\n",
      "File written: /var/seq_data/ncbi_db/genome/Jan2016/bac_complete_spec-rep1_rn/Xenorhabdus_poinarii_G6.fna\n",
      "File written: /var/seq_data/ncbi_db/genome/Jan2016/bac_complete_spec-rep1_rn/Mycobacterium_bovis_BCG.fna\n",
      "File written: /var/seq_data/ncbi_db/genome/Jan2016/bac_complete_spec-rep1_rn/Lactobacillus_salivarius_UCC118.fna\n",
      "File written: /var/seq_data/ncbi_db/genome/Jan2016/bac_complete_spec-rep1_rn/Leuconostoc_kimchii_IMSNU_11154.fna\n",
      "File written: /var/seq_data/ncbi_db/genome/Jan2016/bac_complete_spec-rep1_rn/Candidatus_Kinetoplastibacterium_crithidii_ex_Angomonas_deanei_ATCC_30255.fna\n",
      "File written: /var/seq_data/ncbi_db/genome/Jan2016/bac_complete_spec-rep1_rn/Syntrophobotulus_glycolicus_DSM_8271.fna\n",
      "File written: /var/seq_data/ncbi_db/genome/Jan2016/bac_complete_spec-rep1_rn/Campylobacter_hominis_ATCC_BAA-381.fna\n",
      "File written: /var/seq_data/ncbi_db/genome/Jan2016/bac_complete_spec-rep1_rn/Desulfovibrio_salexigens_DSM_2638.fna\n",
      "File written: /var/seq_data/ncbi_db/genome/Jan2016/bac_complete_spec-rep1_rn/Acidiphilium_cryptum_JF-5.fna\n",
      "File written: /var/seq_data/ncbi_db/genome/Jan2016/bac_complete_spec-rep1_rn/Pseudomonas_denitrificans_ATCC_13867.fna\n",
      "File written: /var/seq_data/ncbi_db/genome/Jan2016/bac_complete_spec-rep1_rn/Kangiella_koreensis_DSM_16069.fna\n",
      "File written: /var/seq_data/ncbi_db/genome/Jan2016/bac_complete_spec-rep1_rn/Adlercreutzia_equolifaciens_DSM_19450.fna\n",
      "File written: /var/seq_data/ncbi_db/genome/Jan2016/bac_complete_spec-rep1_rn/Taylorella_equigenitalis_MCE9.fna\n",
      "File written: /var/seq_data/ncbi_db/genome/Jan2016/bac_complete_spec-rep1_rn/Geobacillus_thermoleovorans_CCB_US3_UF5.fna\n",
      "File written: /var/seq_data/ncbi_db/genome/Jan2016/bac_complete_spec-rep1_rn/Parvibaculum_lavamentivorans_DS-1.fna\n",
      "File written: /var/seq_data/ncbi_db/genome/Jan2016/bac_complete_spec-rep1_rn/Acidithiobacillus_ferrooxidans_ATCC_23270.fna\n",
      "File written: /var/seq_data/ncbi_db/genome/Jan2016/bac_complete_spec-rep1_rn/Stenotrophomonas_maltophilia_K279a.fna\n",
      "File written: /var/seq_data/ncbi_db/genome/Jan2016/bac_complete_spec-rep1_rn/Thermobaculum_terrenum_ATCC_BAA-798.fna\n",
      "File written: /var/seq_data/ncbi_db/genome/Jan2016/bac_complete_spec-rep1_rn/Vibrio_parahaemolyticus_RIMD_2210633.fna\n",
      "File written: /var/seq_data/ncbi_db/genome/Jan2016/bac_complete_spec-rep1_rn/Leptospirillum_ferriphilum_ML-04.fna\n",
      "File written: /var/seq_data/ncbi_db/genome/Jan2016/bac_complete_spec-rep1_rn/Streptomyces_collinus_Tu_365.fna\n",
      "File written: /var/seq_data/ncbi_db/genome/Jan2016/bac_complete_spec-rep1_rn/Amycolicicoccus_subflavus_DQS3-9A1.fna\n",
      "File written: /var/seq_data/ncbi_db/genome/Jan2016/bac_complete_spec-rep1_rn/Prevotella_sp_oral_taxon_299_str_F0039.fna\n",
      "File written: /var/seq_data/ncbi_db/genome/Jan2016/bac_complete_spec-rep1_rn/Microbacterium_testaceum_StLB037.fna\n",
      "File written: /var/seq_data/ncbi_db/genome/Jan2016/bac_complete_spec-rep1_rn/Mesotoga_prima_MesG1_Ag_4_2.fna\n",
      "File written: /var/seq_data/ncbi_db/genome/Jan2016/bac_complete_spec-rep1_rn/Helicobacter_mustelae_12198.fna\n",
      "File written: /var/seq_data/ncbi_db/genome/Jan2016/bac_complete_spec-rep1_rn/Sanguibacter_keddieii_DSM_10542.fna\n",
      "File written: /var/seq_data/ncbi_db/genome/Jan2016/bac_complete_spec-rep1_rn/Corynebacterium_kroppenstedtii_DSM_44385.fna\n",
      "File written: /var/seq_data/ncbi_db/genome/Jan2016/bac_complete_spec-rep1_rn/Bacteroides_vulgatus_ATCC_8482.fna\n",
      "File written: /var/seq_data/ncbi_db/genome/Jan2016/bac_complete_spec-rep1_rn/Bifidobacterium_angulatum_DSM_20098_JCM_7096.fna\n",
      "File written: /var/seq_data/ncbi_db/genome/Jan2016/bac_complete_spec-rep1_rn/Treponema_paraluiscuniculi_Cuniculi_A.fna\n",
      "File written: /var/seq_data/ncbi_db/genome/Jan2016/bac_complete_spec-rep1_rn/Pseudomonas_balearica_DSM_6083.fna\n",
      "File written: /var/seq_data/ncbi_db/genome/Jan2016/bac_complete_spec-rep1_rn/Desulfurispirillum_indicum_S5.fna\n",
      "File written: /var/seq_data/ncbi_db/genome/Jan2016/bac_complete_spec-rep1_rn/Intrasporangium_calvum_DSM_43043.fna\n",
      "File written: /var/seq_data/ncbi_db/genome/Jan2016/bac_complete_spec-rep1_rn/Lactococcus_garvieae_Lg2.fna\n",
      "File written: /var/seq_data/ncbi_db/genome/Jan2016/bac_complete_spec-rep1_rn/Kosakonia_sacchari_SP1.fna\n",
      "File written: /var/seq_data/ncbi_db/genome/Jan2016/bac_complete_spec-rep1_rn/Robiginitalea_biformata_HTCC2501.fna\n",
      "File written: /var/seq_data/ncbi_db/genome/Jan2016/bac_complete_spec-rep1_rn/Nitrobacter_hamburgensis_X14.fna\n",
      "File written: /var/seq_data/ncbi_db/genome/Jan2016/bac_complete_spec-rep1_rn/Streptococcus_constellatus_subsp_pharyngis_C1050.fna\n",
      "File written: /var/seq_data/ncbi_db/genome/Jan2016/bac_complete_spec-rep1_rn/Pseudomonas_resinovorans_NBRC_106553.fna\n",
      "File written: /var/seq_data/ncbi_db/genome/Jan2016/bac_complete_spec-rep1_rn/Cellulomonas_flavigena_DSM_20109.fna\n",
      "File written: /var/seq_data/ncbi_db/genome/Jan2016/bac_complete_spec-rep1_rn/Roseburia_hominis_A2-183.fna\n",
      "File written: /var/seq_data/ncbi_db/genome/Jan2016/bac_complete_spec-rep1_rn/Bacillus_thuringiensis_serovar_kurstaki_str_HD73.fna\n",
      "File written: /var/seq_data/ncbi_db/genome/Jan2016/bac_complete_spec-rep1_rn/Anaplasma_marginale_str_St_Maries.fna\n",
      "File written: /var/seq_data/ncbi_db/genome/Jan2016/bac_complete_spec-rep1_rn/Streptococcus_infantarius_subsp_infantarius_CJ18.fna\n",
      "File written: /var/seq_data/ncbi_db/genome/Jan2016/bac_complete_spec-rep1_rn/Burkholderia_phytofirmans_PsJN.fna\n",
      "File written: /var/seq_data/ncbi_db/genome/Jan2016/bac_complete_spec-rep1_rn/Fibrobacter_succinogenes_subsp_succinogenes_S85.fna\n",
      "File written: /var/seq_data/ncbi_db/genome/Jan2016/bac_complete_spec-rep1_rn/Pectobacterium_wasabiae_WPP163.fna\n",
      "File written: /var/seq_data/ncbi_db/genome/Jan2016/bac_complete_spec-rep1_rn/Brucella_ovis_ATCC_25840.fna\n",
      "File written: /var/seq_data/ncbi_db/genome/Jan2016/bac_complete_spec-rep1_rn/Tropheryma_whipplei_str_Twist.fna\n",
      "File written: /var/seq_data/ncbi_db/genome/Jan2016/bac_complete_spec-rep1_rn/Methylacidiphilum_fumariolicum_SolV.fna\n",
      "**OUTPUT MUTED**"
     ]
    }
   ],
   "source": [
    "# making sure each sequence is unique\n",
    "!cd $genomeDir; \\\n",
    "    find . -name \"*fna\" | \\\n",
    "    SIPSim genome_rename -n 24 --prefix $genomeDirRn - "
   ]
  },
  {
   "cell_type": "markdown",
   "metadata": {},
   "source": [
    "## Checking genome info\n",
    "\n",
    "* Making sure there are no outliers that need to be filtered out"
   ]
  },
  {
   "cell_type": "code",
   "execution_count": 256,
   "metadata": {
    "collapsed": false,
    "scrolled": true
   },
   "outputs": [],
   "source": [
    "# determining the largest genome\n",
    "!cd $genomeDirRn; \\\n",
    "    find . -name \"*.fna\" | \\\n",
    "    seq_tools fasta_info --fn --tn --tl --tgc --sn --sl --sgc --header -n 24 - \\\n",
    "    > genome_info.txt"
   ]
  },
  {
   "cell_type": "markdown",
   "metadata": {},
   "source": [
    "### loading table and plotting"
   ]
  },
  {
   "cell_type": "code",
   "execution_count": 260,
   "metadata": {
    "collapsed": false
   },
   "outputs": [
    {
     "data": {
      "text/plain": [
       "                                   file_name total_sequences total_seq_length\n",
       "1      ./Streptococcus_pyogenes_MGAS8232.fna               1          1895017\n",
       "2         ./Helicobacter_cinaedi_PAGU611.fna               1          2078348\n",
       "3 ./Sphaerobacter_thermophilus_DSM_20745.fna               2          3993764\n",
       "  total_GC\n",
       "1    38.55\n",
       "2    38.63\n",
       "3    68.11\n",
       "                                                                       seq_name\n",
       "1    NC_003485_Streptococcus_pyogenes_MGAS8232__Streptococcus_pyogenes_MGAS8232\n",
       "2  NC_017761_Helicobacter_cinaedi_PAGU611_DNA__Helicobacter_cinaedi_PAGU611_DNA\n",
       "3 NC_013523_Sphaerobacter_thermophilus_DSM_20745_chromosome_1__complete_sequenc\n",
       "  seq_length seq_GC\n",
       "1    1895017  38.55\n",
       "2    2078348  38.63\n",
       "3    2741033  68.10\n"
      ]
     },
     "metadata": {},
     "output_type": "display_data"
    }
   ],
   "source": [
    "%%R -i genomeDirRn\n",
    "\n",
    "inFile = file.path(genomeDirRn, 'genome_info.txt')\n",
    "\n",
    "df = read.delim(inFile, sep='\\t')\n",
    "df %>% head(n=3)"
   ]
  },
  {
   "cell_type": "code",
   "execution_count": 263,
   "metadata": {
    "collapsed": false
   },
   "outputs": [
    {
     "data": {
      "image/png": "[encoded data removed]"
     },
     "metadata": {},
     "output_type": "display_data"
    }
   ],
   "source": [
    "%%R -w 500 -h 350\n",
    "# genome lengths\n",
    "ggplot(df, aes(total_seq_length)) +\n",
    "    geom_histogram(binwidth=50000) +\n",
    "    labs(x='Genome length (bp)', y='Count') +\n",
    "    theme_bw() +\n",
    "    theme(\n",
    "        text = element_text(size=16)\n",
    "    )"
   ]
  },
  {
   "cell_type": "code",
   "execution_count": 264,
   "metadata": {
    "collapsed": false
   },
   "outputs": [
    {
     "data": {
      "text/plain": [
       "    Min.  1st Qu.   Median     Mean  3rd Qu.     Max. \n",
       "  709800  2449000  3732000  3957000  4989000 14780000 \n"
      ]
     },
     "metadata": {},
     "output_type": "display_data"
    }
   ],
   "source": [
    "%%R\n",
    "summary(df$total_seq_length)"
   ]
  },
  {
   "cell_type": "code",
   "execution_count": 265,
   "metadata": {
    "collapsed": false
   },
   "outputs": [
    {
     "data": {
      "image/png": "[encoded data removed]"
     },
     "metadata": {},
     "output_type": "display_data"
    }
   ],
   "source": [
    "%%R -w 500 -h 350\n",
    "# genome GC\n",
    "ggplot(df, aes(total_GC)) +\n",
    "    geom_histogram(binwidth=1) +\n",
    "    labs(x='Genome G+C', y='Count') +\n",
    "    theme_bw() +\n",
    "    theme(\n",
    "        text = element_text(size=16)\n",
    "    )"
   ]
  },
  {
   "cell_type": "code",
   "execution_count": 266,
   "metadata": {
    "collapsed": false
   },
   "outputs": [
    {
     "data": {
      "image/png": "[encoded data removed]"
     },
     "metadata": {},
     "output_type": "display_data"
    }
   ],
   "source": [
    "%%R -w 500 -h 350\n",
    "# genome GC\n",
    "ggplot(df, aes(total_GC)) +\n",
    "    geom_density(fill='red', alpha=0.3) +\n",
    "    scale_x_continuous(limits=c(10,90)) +\n",
    "    labs(x='Genome G+C', y='Density') +\n",
    "    theme_bw() +\n",
    "    theme(\n",
    "        text = element_text(size=16)\n",
    "    )"
   ]
  },
  {
   "cell_type": "code",
   "execution_count": 268,
   "metadata": {
    "collapsed": false
   },
   "outputs": [
    {
     "data": {
      "image/png": "[encoded data removed]"
     },
     "metadata": {},
     "output_type": "display_data"
    }
   ],
   "source": [
    "%%R -w 500 -h 350\n",
    "# sequences per genome\n",
    "ggplot(df, aes(total_sequences)) +\n",
    "    geom_histogram(binwidth=1) +\n",
    "    labs(x='Total chromosomes/contigs', y='Count') +\n",
    "    theme_bw() +\n",
    "    theme(\n",
    "        text = element_text(size=16)\n",
    "    )"
   ]
  },
  {
   "cell_type": "markdown",
   "metadata": {},
   "source": [
    "# Indexing genomes"
   ]
  },
  {
   "cell_type": "code",
   "execution_count": 271,
   "metadata": {
    "collapsed": true
   },
   "outputs": [],
   "source": [
    "# list of all genomes files and their associated names\n",
    "!cd $genomeDirRn; \\\n",
    "    find . -name \"*fna\" | \\\n",
    "    perl -pe 's/.+\\///' | \\\n",
    "    perl -pe 's/(.+)(\\.[^.]+)/\\$1\\t\\$1\\$2/' > genome_index.txt"
   ]
  },
  {
   "cell_type": "code",
   "execution_count": null,
   "metadata": {
    "collapsed": false,
    "scrolled": true
   },
   "outputs": [],
   "source": [
    "!cd $genomeDirRn; \\\n",
    "    SIPSim genome_index \\\n",
    "    genome_index.txt \\\n",
    "    --fp . --np 30 > index_log.txt"
   ]
  },
  {
   "cell_type": "markdown",
   "metadata": {},
   "source": [
    "# Summary"
   ]
  },
  {
   "cell_type": "code",
   "execution_count": null,
   "metadata": {
    "collapsed": false
   },
   "outputs": [],
   "source": [
    "!printf 'Genome directory: '; echo $genomeDirRn\n",
    "\n",
    "!printf 'Number of genomes: '\n",
    "!find $genomeDirRn -name \"*.fna\"| wc -l\n",
    "\n",
    "!printf 'Number of indexed genomes: '\n",
    "!find $genomeDirRn -name \"*.fna.sqlite3.db*\" | wc -l"
   ]
  },
  {
   "cell_type": "markdown",
   "metadata": {},
   "source": [
    "***\n",
    "***\n",
    "***"
   ]
  },
  {
   "cell_type": "markdown",
   "metadata": {},
   "source": [
    "# -- OLD --"
   ]
  },
  {
   "cell_type": "markdown",
   "metadata": {},
   "source": [
    "## Weighted sampling of genome dataset\n",
    "\n",
    "* weighting against low GC organisms"
   ]
  },
  {
   "cell_type": "code",
   "execution_count": 285,
   "metadata": {
    "collapsed": false
   },
   "outputs": [
    {
     "data": {
      "image/png": "[encoded data removed]"
     },
     "metadata": {},
     "output_type": "display_data"
    }
   ],
   "source": [
    "%%R\n",
    "\n",
    "curve(-exp(-x/10 + 1), from = 10, to = 70)"
   ]
  },
  {
   "cell_type": "code",
   "execution_count": 293,
   "metadata": {
    "collapsed": false
   },
   "outputs": [
    {
     "data": {
      "image/png": "[encoded data removed]"
     },
     "metadata": {},
     "output_type": "display_data"
    }
   ],
   "source": [
    "%%R -h 300\n",
    "#weights = sapply(df.bac.complete.rep$gc, function(gc) ifelse(gc < 35, 1 - ((35 - gc) / 100), 1))\n",
    "#weights = sapply(df.bac.complete.rep$gc, function(gc) ifelse(gc < 35, 1 - exp(-gc/10), 1))\n",
    "#weights = sapply(df.bac.complete.rep$gc, function(gc) 1 - exp(-gc/50 + 2))\n",
    "weights = data.frame('weights' = weights, 'gc' = df.bac.complete.rep$gc)\n",
    "    \n",
    "ggplot(weights, aes(gc, weights)) +\n",
    "    geom_point() +\n",
    "    theme_bw()"
   ]
  },
  {
   "cell_type": "code",
   "execution_count": 244,
   "metadata": {
    "collapsed": false
   },
   "outputs": [
    {
     "data": {
      "image/png": "[encoded data removed]"
     },
     "metadata": {},
     "output_type": "display_data"
    }
   ],
   "source": [
    "%%R -w 600 -h 300\n",
    "n.sample = 500\n",
    "\n",
    "#weights = sapply(df.bac.complete.rep$gc, function(gc) ifelse(gc < 35, 1 - ((35 - gc) / 50), 1))\n",
    "to.keep = sample(df.bac.complete.rep$name, n.sample, replace=FALSE, prob=weights$weights)\n",
    "    \n",
    "df.bac.complete.rep.p = df.bac.complete.rep %>%\n",
    "    filter(name %in% to.keep)\n",
    "    \n",
    "# plotting GC distribution\n",
    "ggplot(df.bac.complete.rep.p, aes(gc)) +\n",
    "    geom_histogram(binwidth=1) +\n",
    "    geom_vline(xintercept=50, linetype='dashed', color='red', alpha=0.7) +\n",
    "    labs(x='G+C') +\n",
    "    theme(\n",
    "        text = element_text(size=16)\n",
    "    )    "
   ]
  },
  {
   "cell_type": "code",
   "execution_count": null,
   "metadata": {
    "collapsed": true
   },
   "outputs": [],
   "source": []
  }
 ],
 "metadata": {
  "hide_input": true,
  "kernelspec": {
   "display_name": "Python 2",
   "language": "python",
   "name": "python2"
  },
  "language_info": {
   "codemirror_mode": {
    "name": "ipython",
    "version": 2
   },
   "file_extension": ".py",
   "mimetype": "text/x-python",
   "name": "python",
   "nbconvert_exporter": "python",
   "pygments_lexer": "ipython2",
   "version": "2.7.10"
  }
 },
 "nbformat": 4,
 "nbformat_minor": 0
}
