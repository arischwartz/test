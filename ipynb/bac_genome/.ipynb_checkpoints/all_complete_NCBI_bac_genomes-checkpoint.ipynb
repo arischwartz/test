{
 "cells": [
  {
   "cell_type": "markdown",
   "metadata": {},
   "source": [
    "# Goal: \n",
    "\n",
    "* Download most up-to-date version of NCBI 'complete' genomes"
   ]
  },
  {
   "cell_type": "markdown",
   "metadata": {},
   "source": [
    "# Setting variables"
   ]
  },
  {
   "cell_type": "code",
   "execution_count": 1,
   "metadata": {
    "collapsed": true
   },
   "outputs": [],
   "source": [
    "workDir = '/var/seq_data/ncbi_db/genome/Jan2016/'"
   ]
  },
  {
   "cell_type": "markdown",
   "metadata": {},
   "source": [
    "# Init"
   ]
  },
  {
   "cell_type": "code",
   "execution_count": 2,
   "metadata": {
    "collapsed": true
   },
   "outputs": [],
   "source": [
    "import os\n",
    "%load_ext rpy2.ipython"
   ]
  },
  {
   "cell_type": "code",
   "execution_count": 3,
   "metadata": {
    "collapsed": false
   },
   "outputs": [
    {
     "name": "stderr",
     "output_type": "stream",
     "text": [
      "/opt/anaconda/lib/python2.7/site-packages/rpy2/robjects/functions.py:106: UserWarning: \n",
      "Attaching package: ‘dplyr’\n",
      "\n",
      "\n",
      "  res = super(Function, self).__call__(*new_args, **new_kwargs)\n",
      "/opt/anaconda/lib/python2.7/site-packages/rpy2/robjects/functions.py:106: UserWarning: The following objects are masked from ‘package:stats’:\n",
      "\n",
      "    filter, lag\n",
      "\n",
      "\n",
      "  res = super(Function, self).__call__(*new_args, **new_kwargs)\n",
      "/opt/anaconda/lib/python2.7/site-packages/rpy2/robjects/functions.py:106: UserWarning: The following objects are masked from ‘package:base’:\n",
      "\n",
      "    intersect, setdiff, setequal, union\n",
      "\n",
      "\n",
      "  res = super(Function, self).__call__(*new_args, **new_kwargs)\n",
      "/opt/anaconda/lib/python2.7/site-packages/rpy2/robjects/functions.py:106: UserWarning: Loading required package: XML\n",
      "\n",
      "  res = super(Function, self).__call__(*new_args, **new_kwargs)\n",
      "/opt/anaconda/lib/python2.7/site-packages/rpy2/robjects/functions.py:106: UserWarning: \n",
      "Attaching package: ‘XML’\n",
      "\n",
      "\n",
      "  res = super(Function, self).__call__(*new_args, **new_kwargs)\n",
      "/opt/anaconda/lib/python2.7/site-packages/rpy2/robjects/functions.py:106: UserWarning: The following object is masked from ‘package:tools’:\n",
      "\n",
      "    toHTML\n",
      "\n",
      "\n",
      "  res = super(Function, self).__call__(*new_args, **new_kwargs)\n",
      "/opt/anaconda/lib/python2.7/site-packages/rpy2/robjects/functions.py:106: UserWarning: Loading required package: RCurl\n",
      "\n",
      "  res = super(Function, self).__call__(*new_args, **new_kwargs)\n",
      "/opt/anaconda/lib/python2.7/site-packages/rpy2/robjects/functions.py:106: UserWarning: Loading required package: bitops\n",
      "\n",
      "  res = super(Function, self).__call__(*new_args, **new_kwargs)\n",
      "/opt/anaconda/lib/python2.7/site-packages/rpy2/robjects/functions.py:106: UserWarning: \n",
      "Attaching package: ‘RCurl’\n",
      "\n",
      "\n",
      "  res = super(Function, self).__call__(*new_args, **new_kwargs)\n",
      "/opt/anaconda/lib/python2.7/site-packages/rpy2/robjects/functions.py:106: UserWarning: The following object is masked from ‘package:tidyr’:\n",
      "\n",
      "    complete\n",
      "\n",
      "\n",
      "  res = super(Function, self).__call__(*new_args, **new_kwargs)\n",
      "/opt/anaconda/lib/python2.7/site-packages/rpy2/robjects/functions.py:106: UserWarning: Loading required package: GenomicRanges\n",
      "\n",
      "  res = super(Function, self).__call__(*new_args, **new_kwargs)\n",
      "/opt/anaconda/lib/python2.7/site-packages/rpy2/robjects/functions.py:106: UserWarning: Loading required package: BiocGenerics\n",
      "\n",
      "  res = super(Function, self).__call__(*new_args, **new_kwargs)\n",
      "/opt/anaconda/lib/python2.7/site-packages/rpy2/robjects/functions.py:106: UserWarning: Loading required package: parallel\n",
      "\n",
      "  res = super(Function, self).__call__(*new_args, **new_kwargs)\n",
      "/opt/anaconda/lib/python2.7/site-packages/rpy2/robjects/functions.py:106: UserWarning: \n",
      "Attaching package: ‘BiocGenerics’\n",
      "\n",
      "\n",
      "  res = super(Function, self).__call__(*new_args, **new_kwargs)\n",
      "/opt/anaconda/lib/python2.7/site-packages/rpy2/robjects/functions.py:106: UserWarning: The following objects are masked from ‘package:parallel’:\n",
      "\n",
      "    clusterApply, clusterApplyLB, clusterCall, clusterEvalQ,\n",
      "    clusterExport, clusterMap, parApply, parCapply, parLapply,\n",
      "    parLapplyLB, parRapply, parSapply, parSapplyLB\n",
      "\n",
      "\n",
      "  res = super(Function, self).__call__(*new_args, **new_kwargs)\n",
      "/opt/anaconda/lib/python2.7/site-packages/rpy2/robjects/functions.py:106: UserWarning: The following objects are masked from ‘package:dplyr’:\n",
      "\n",
      "    combine, intersect, setdiff, union\n",
      "\n",
      "\n",
      "  res = super(Function, self).__call__(*new_args, **new_kwargs)\n",
      "/opt/anaconda/lib/python2.7/site-packages/rpy2/robjects/functions.py:106: UserWarning: The following object is masked from ‘package:stats’:\n",
      "\n",
      "    xtabs\n",
      "\n",
      "\n",
      "  res = super(Function, self).__call__(*new_args, **new_kwargs)\n",
      "/opt/anaconda/lib/python2.7/site-packages/rpy2/robjects/functions.py:106: UserWarning: The following objects are masked from ‘package:base’:\n",
      "\n",
      "    anyDuplicated, append, as.data.frame, as.vector, cbind, colnames,\n",
      "    do.call, duplicated, eval, evalq, Filter, Find, get, intersect,\n",
      "    is.unsorted, lapply, Map, mapply, match, mget, order, paste, pmax,\n",
      "    pmax.int, pmin, pmin.int, Position, rank, rbind, Reduce, rep.int,\n",
      "    rownames, sapply, setdiff, sort, table, tapply, union, unique,\n",
      "    unlist, unsplit\n",
      "\n",
      "\n",
      "  res = super(Function, self).__call__(*new_args, **new_kwargs)\n",
      "/opt/anaconda/lib/python2.7/site-packages/rpy2/robjects/functions.py:106: UserWarning: Loading required package: S4Vectors\n",
      "\n",
      "  res = super(Function, self).__call__(*new_args, **new_kwargs)\n",
      "/opt/anaconda/lib/python2.7/site-packages/rpy2/robjects/functions.py:106: UserWarning: Loading required package: stats4\n",
      "\n",
      "  res = super(Function, self).__call__(*new_args, **new_kwargs)\n",
      "/opt/anaconda/lib/python2.7/site-packages/rpy2/robjects/functions.py:106: UserWarning: \n",
      "Attaching package: ‘S4Vectors’\n",
      "\n",
      "\n",
      "  res = super(Function, self).__call__(*new_args, **new_kwargs)\n",
      "/opt/anaconda/lib/python2.7/site-packages/rpy2/robjects/functions.py:106: UserWarning: The following object is masked from ‘package:dplyr’:\n",
      "\n",
      "    rename\n",
      "\n",
      "\n",
      "  res = super(Function, self).__call__(*new_args, **new_kwargs)\n",
      "/opt/anaconda/lib/python2.7/site-packages/rpy2/robjects/functions.py:106: UserWarning: Loading required package: IRanges\n",
      "\n",
      "  res = super(Function, self).__call__(*new_args, **new_kwargs)\n",
      "/opt/anaconda/lib/python2.7/site-packages/rpy2/robjects/functions.py:106: UserWarning: \n",
      "Attaching package: ‘IRanges’\n",
      "\n",
      "\n",
      "  res = super(Function, self).__call__(*new_args, **new_kwargs)\n",
      "/opt/anaconda/lib/python2.7/site-packages/rpy2/robjects/functions.py:106: UserWarning: The following object is masked from ‘package:tidyr’:\n",
      "\n",
      "    expand\n",
      "\n",
      "\n",
      "  res = super(Function, self).__call__(*new_args, **new_kwargs)\n",
      "/opt/anaconda/lib/python2.7/site-packages/rpy2/robjects/functions.py:106: UserWarning: The following objects are masked from ‘package:dplyr’:\n",
      "\n",
      "    collapse, desc, slice\n",
      "\n",
      "\n",
      "  res = super(Function, self).__call__(*new_args, **new_kwargs)\n",
      "/opt/anaconda/lib/python2.7/site-packages/rpy2/robjects/functions.py:106: UserWarning: Loading required package: GenomeInfoDb\n",
      "\n",
      "  res = super(Function, self).__call__(*new_args, **new_kwargs)\n",
      "/opt/anaconda/lib/python2.7/site-packages/rpy2/robjects/functions.py:106: UserWarning: Loading required package: Biostrings\n",
      "\n",
      "  res = super(Function, self).__call__(*new_args, **new_kwargs)\n",
      "/opt/anaconda/lib/python2.7/site-packages/rpy2/robjects/functions.py:106: UserWarning: Loading required package: XVector\n",
      "\n",
      "  res = super(Function, self).__call__(*new_args, **new_kwargs)\n",
      "/opt/anaconda/lib/python2.7/site-packages/rpy2/robjects/functions.py:106: UserWarning: \n",
      "Attaching package: ‘genomes’\n",
      "\n",
      "\n",
      "  res = super(Function, self).__call__(*new_args, **new_kwargs)\n",
      "/opt/anaconda/lib/python2.7/site-packages/rpy2/robjects/functions.py:106: UserWarning: The following object is masked from ‘package:GenomeInfoDb’:\n",
      "\n",
      "    species\n",
      "\n",
      "\n",
      "  res = super(Function, self).__call__(*new_args, **new_kwargs)\n"
     ]
    }
   ],
   "source": [
    "%%R\n",
    "library(ggplot2)\n",
    "library(dplyr)\n",
    "library(tidyr)\n",
    "library(genomes)"
   ]
  },
  {
   "cell_type": "markdown",
   "metadata": {},
   "source": [
    "# Assessing NCBI prokaryote genome listing"
   ]
  },
  {
   "cell_type": "code",
   "execution_count": 4,
   "metadata": {
    "collapsed": false
   },
   "outputs": [
    {
     "data": {
      "text/plain": [
       "$`Total genomes`\n",
       "[1] 27570 genome projects on Sep 04, 2014\n",
       "\n",
       "$`By status`\n",
       "                     Total\n",
       "Contig               13074\n",
       "Scaffold             10718\n",
       "Gapless Chromosome    3053\n",
       "Chromosome             373\n",
       "Chromosome with gaps   343\n",
       "Complete                 9\n",
       "\n",
       "$`Recent submissions`\n",
       "  released   name                      status  \n",
       "1 2014-09-02 Altuibacter lentus        Scaffold\n",
       "2 2014-09-02 Bacillus cereus ATCC 4342 Scaffold\n",
       "3 2014-09-02 Bacillus licheniformis    Scaffold\n",
       "4 2014-09-02 Bacillus megaterium       Scaffold\n",
       "5 2014-09-02 Paenibacillus macerans    Scaffold\n",
       "\n"
      ]
     },
     "metadata": {},
     "output_type": "display_data"
    }
   ],
   "source": [
    "%%R\n",
    "data(proks)\n",
    "summary(proks)"
   ]
  },
  {
   "cell_type": "code",
   "execution_count": 5,
   "metadata": {
    "collapsed": false
   },
   "outputs": [
    {
     "name": "stderr",
     "output_type": "stream",
     "text": [
      "/opt/anaconda/lib/python2.7/site-packages/rpy2/robjects/functions.py:106: UserWarning: proks has been successfully updated\n",
      "\n",
      "  res = super(Function, self).__call__(*new_args, **new_kwargs)\n",
      "/opt/anaconda/lib/python2.7/site-packages/rpy2/robjects/functions.py:106: UserWarning: 29217 new project IDs added\n",
      "\n",
      "  res = super(Function, self).__call__(*new_args, **new_kwargs)\n",
      "/opt/anaconda/lib/python2.7/site-packages/rpy2/robjects/functions.py:106: UserWarning: 235 old project IDs removed\n",
      "\n",
      "  res = super(Function, self).__call__(*new_args, **new_kwargs)\n"
     ]
    },
    {
     "data": {
      "text/plain": [
       "$`Total genomes`\n",
       "[1] 57093 genome projects on Jan 06, 2016\n",
       "\n",
       "$`By status`\n",
       "                Total\n",
       "Contig          34539\n",
       "Scaffold        17035\n",
       "Complete Genome  4649\n",
       "Chromosome        870\n",
       "\n",
       "$`Recent submissions`\n",
       "  released   name                       status         \n",
       "1 2015-12-30 Listeria monocytogenes     Complete Genome\n",
       "2 2015-12-30 Listeria monocytogenes     Complete Genome\n",
       "3 2015-12-30 Listeria monocytogenes     Complete Genome\n",
       "4 2015-12-30 Tenacibaculum dicentrarchi Complete Genome\n",
       "5 2015-12-29 Acinetobacter johnsonii    Contig         \n",
       "\n"
      ]
     },
     "metadata": {},
     "output_type": "display_data"
    }
   ],
   "source": [
    "%%R\n",
    "update(proks)\n",
    "summary(proks)"
   ]
  },
  {
   "cell_type": "code",
   "execution_count": 6,
   "metadata": {
    "collapsed": false
   },
   "outputs": [
    {
     "data": {
      "image/png": "[encoded data removed]"
     },
     "metadata": {},
     "output_type": "display_data"
    }
   ],
   "source": [
    "%%R -w 600 -h 300\n",
    "# plotting GC distribution\n",
    "ggplot(proks, aes(gc)) +\n",
    "    geom_histogram(binwidth=1) +\n",
    "    geom_vline(xintercept=50, linetype='dashed', color='red', alpha=0.7) +\n",
    "    labs(x='G+C') +\n",
    "    theme(\n",
    "        text = element_text(size=16)\n",
    "    )"
   ]
  },
  {
   "cell_type": "markdown",
   "metadata": {},
   "source": [
    "## Number per genus"
   ]
  },
  {
   "cell_type": "code",
   "execution_count": 7,
   "metadata": {
    "collapsed": false
   },
   "outputs": [
    {
     "name": "stderr",
     "output_type": "stream",
     "text": [
      "/opt/anaconda/lib/python2.7/site-packages/rpy2/robjects/functions.py:106: UserWarning: `stat_bin()` using `bins = 30`. Pick better value with `binwidth`.\n",
      "\n",
      "  res = super(Function, self).__call__(*new_args, **new_kwargs)\n"
     ]
    },
    {
     "data": {
      "image/png": "[encoded data removed]"
     },
     "metadata": {},
     "output_type": "display_data"
    }
   ],
   "source": [
    "%%R -w 500 -h 250\n",
    "proks$genus = gsub(' .+', '', proks$name)\n",
    "\n",
    "proks.s = proks %>%\n",
    "    group_by(group, genus) %>%\n",
    "    summarize(n = n()) \n",
    "\n",
    "ggplot(proks.s, aes(n)) +\n",
    "    geom_histogram() +\n",
    "    theme(\n",
    "        text = element_text(size=16)\n",
    "    )"
   ]
  },
  {
   "cell_type": "markdown",
   "metadata": {},
   "source": [
    "# Complete genomes"
   ]
  },
  {
   "cell_type": "code",
   "execution_count": 8,
   "metadata": {
    "collapsed": false
   },
   "outputs": [
    {
     "data": {
      "text/plain": [
       "     pid                           name          status   released  taxid\n",
       "1  12997 Acaryochloris marina MBIC11017 Complete Genome 2007-10-16 329726\n",
       "2  60713 Acetobacterium woodii DSM 1030 Complete Genome 2012-02-14 931626\n",
       "3 242487       Acetobacter pasteurianus Complete Genome 2015-07-21    438\n",
       "   bioproject          group              subgroup    size      gc\n",
       "1  PRJNA12997  Cyanobacteria Oscillatoriophycideae 8.36160 46.9889\n",
       "2  PRJNA60713     Firmicutes            Clostridia 4.04478 39.3000\n",
       "3 PRJNA242487 Proteobacteria   Alphaproteobacteria 2.80615 53.3000\n",
       "         refseq      insdc\n",
       "1   NC_009925.1 CP000828.1\n",
       "2   NC_016894.1 CP002987.1\n",
       "3 NZ_CP012111.1 CP012111.1\n",
       "                                                                                               plasmid.refseq\n",
       "1 NC_009926.1,NC_009929.1,NC_009927.1,NC_009928.1,NC_009930.1,NC_009934.1,NC_009931.1,NC_009933.1,NC_009932.1\n",
       "2                                                                                                        <NA>\n",
       "3                                                                                                        <NA>\n",
       "                                                                                       plasmid.insdc\n",
       "1 CP000838.1,CP000841.1,CP000839.1,CP000840.1,CP000842.1,CP000846.1,CP000843.1,CP000845.1,CP000844.1\n",
       "2                                                                                               <NA>\n",
       "3                                                                                               <NA>\n",
       "   wgs scaffolds genes proteins   modified                             center\n",
       "1 <NA>        10  7469     7187 2015-07-30              Washington University\n",
       "2 <NA>         1  3649     3521 2015-08-18 Georg-August-University Goettingen\n",
       "3 <NA>         1  2688     2535 2015-12-09      Zhejiang Gongshang University\n",
       "     biosample        assembly reference ftp   pubmed          genus\n",
       "1 SAMN02604308 GCA_000018105.1      REFR  NA 18252824  Acaryochloris\n",
       "2 SAMN02603267 GCA_000247605.1      REFR  NA 22479398 Acetobacterium\n",
       "3 SAMN02709032 GCA_001183745.1      <NA>  NA     <NA>    Acetobacter\n"
      ]
     },
     "metadata": {},
     "output_type": "display_data"
    }
   ],
   "source": [
    "%%R\n",
    "proks.complete = proks %>% as.data.frame %>% \n",
    "    filter(status == 'Complete Genome') \n",
    "proks.complete %>% head(n=3)"
   ]
  },
  {
   "cell_type": "code",
   "execution_count": 9,
   "metadata": {
    "collapsed": false
   },
   "outputs": [
    {
     "data": {
      "image/png": "[encoded data removed]"
     },
     "metadata": {},
     "output_type": "display_data"
    }
   ],
   "source": [
    "%%R -w 600 -h 300\n",
    "# plotting GC distribution\n",
    "ggplot(proks.complete, aes(gc)) +\n",
    "    geom_histogram(binwidth=1) +\n",
    "    geom_vline(xintercept=50, linetype='dashed', color='red', alpha=0.7) +\n",
    "    labs(x='G+C') +\n",
    "    theme(\n",
    "        text = element_text(size=16)\n",
    "    )"
   ]
  },
  {
   "cell_type": "markdown",
   "metadata": {},
   "source": [
    "## Number per genus"
   ]
  },
  {
   "cell_type": "code",
   "execution_count": 10,
   "metadata": {
    "collapsed": false
   },
   "outputs": [
    {
     "data": {
      "image/png": "[encoded data removed]"
     },
     "metadata": {},
     "output_type": "display_data"
    }
   ],
   "source": [
    "%%R -w 500 -h 250\n",
    "proks.complete.s = proks.complete %>%\n",
    "    group_by(group, genus) %>%\n",
    "    summarize(n = n()) \n",
    "\n",
    "ggplot(proks.complete.s, aes(n)) +\n",
    "    geom_histogram() +\n",
    "    theme(\n",
    "        text = element_text(size=16)\n",
    "    )"
   ]
  },
  {
   "cell_type": "markdown",
   "metadata": {},
   "source": [
    "# Adding taxID"
   ]
  },
  {
   "cell_type": "code",
   "execution_count": 11,
   "metadata": {
    "collapsed": false
   },
   "outputs": [],
   "source": [
    "prokFile = os.path.join(workDir, 'proks_complete.txt')"
   ]
  },
  {
   "cell_type": "code",
   "execution_count": 12,
   "metadata": {
    "collapsed": false
   },
   "outputs": [
    {
     "data": {
      "text/plain": [
       "File written:  /var/seq_data/ncbi_db/genome/Jan2016/proks_complete.txt \n"
      ]
     },
     "metadata": {},
     "output_type": "display_data"
    }
   ],
   "source": [
    "%%R -i prokFile\n",
    "\n",
    "write.table(proks.complete, prokFile, sep='\\t', row.names=F, quote=F)\n",
    "cat('File written: ', prokFile, '\\n')"
   ]
  },
  {
   "cell_type": "code",
   "execution_count": 13,
   "metadata": {
    "collapsed": false
   },
   "outputs": [],
   "source": [
    "taxFile = os.path.splitext(prokFile)[0] + '_tax.txt'\n",
    "\n",
    "!cd $workDir; \\\n",
    "    tail -n +2 $prokFile | cut -f 5 | \\\n",
    "    seqDB_tools taxid2taxonomy -p 20 > $taxFile"
   ]
  },
  {
   "cell_type": "code",
   "execution_count": 14,
   "metadata": {
    "collapsed": false
   },
   "outputs": [
    {
     "data": {
      "text/plain": [
       "[1] 4649\n",
       "[1] 4649\n"
      ]
     },
     "metadata": {},
     "output_type": "display_data"
    }
   ],
   "source": [
    "%%R -i taxFile\n",
    "\n",
    "df.tax = read.delim(taxFile, sep='\\t') %>%\n",
    "    distinct(taxid)\n",
    "df.proks.complete = dplyr::inner_join(proks.complete %>% select(-genus), df.tax, c('taxid' = 'taxid'))\n",
    "\n",
    "# checking join\n",
    "proks.complete %>% nrow %>% print\n",
    "df.proks.complete %>% nrow %>% print"
   ]
  },
  {
   "cell_type": "markdown",
   "metadata": {},
   "source": [
    "# Just Bacteria"
   ]
  },
  {
   "cell_type": "code",
   "execution_count": 15,
   "metadata": {
    "collapsed": false
   },
   "outputs": [
    {
     "data": {
      "text/plain": [
       "[1] 4417\n"
      ]
     },
     "metadata": {},
     "output_type": "display_data"
    }
   ],
   "source": [
    "%%R\n",
    "df.bac.complete = df.proks.complete %>%\n",
    "    filter(superkingdom == 'Bacteria')\n",
    "\n",
    "df.bac.complete %>% nrow"
   ]
  },
  {
   "cell_type": "markdown",
   "metadata": {},
   "source": [
    "### Phylum representation"
   ]
  },
  {
   "cell_type": "code",
   "execution_count": null,
   "metadata": {
    "collapsed": true
   },
   "outputs": [],
   "source": [
    "%%R\n",
    "df.bac.complete.s = df.bac.complete %>%\n",
    "    group_by(phylum) %>%\n",
    "    summarize(n = n())\n",
    "\n",
    "ggplot(df.bac.complete.s, aes(phylum, n)) +\n",
    "    geom_bar(stat='identity') +\n",
    "    labs(y = 'Number of genomes') +\n",
    "    theme_bw() +\n",
    "    theme(\n",
    "        text = element_text(size=16)\n",
    "    )"
   ]
  },
  {
   "cell_type": "markdown",
   "metadata": {},
   "source": [
    "## Random selection of just 1 taxon per species"
   ]
  },
  {
   "cell_type": "code",
   "execution_count": 44,
   "metadata": {
    "collapsed": false
   },
   "outputs": [
    {
     "data": {
      "text/plain": [
       "[1] 1260\n"
      ]
     },
     "metadata": {},
     "output_type": "display_data"
    }
   ],
   "source": [
    "%%R\n",
    "df.bac.complete.rep = df.bac.complete %>%\n",
    "    filter(! is.na(refseq)) %>%\n",
    "    group_by(species) %>%\n",
    "    mutate(rank = row_number(species)) %>%\n",
    "    filter(rank == 1)\n",
    "\n",
    "df.bac.complete.rep %>% nrow"
   ]
  },
  {
   "cell_type": "markdown",
   "metadata": {},
   "source": [
    "### Phylum representation"
   ]
  },
  {
   "cell_type": "code",
   "execution_count": null,
   "metadata": {
    "collapsed": true
   },
   "outputs": [],
   "source": [
    "%%R\n",
    "df.bac.complete.rep.s = df.bac.complete.rep %>%\n",
    "    group_by(phylum) %>%\n",
    "    summarize(n = n())\n",
    "\n",
    "ggplot(df.bac.complete.rep.s, aes(phylum, n)) +\n",
    "    geom_bar(stat='identity') +\n",
    "    labs(y = 'Number of representative genomes') +\n",
    "    theme_bw() +\n",
    "    theme(\n",
    "        text = element_text(size=16)\n",
    "    )"
   ]
  },
  {
   "cell_type": "markdown",
   "metadata": {},
   "source": [
    "### genome GC content"
   ]
  },
  {
   "cell_type": "code",
   "execution_count": 45,
   "metadata": {
    "collapsed": false
   },
   "outputs": [
    {
     "data": {
      "image/png": "[encoded data removed]"
     },
     "metadata": {},
     "output_type": "display_data"
    }
   ],
   "source": [
    "%%R -w 600 -h 300\n",
    "# plotting GC distribution\n",
    "ggplot(df.bac.complete.rep, aes(gc)) +\n",
    "    geom_histogram(binwidth=1) +\n",
    "    geom_vline(xintercept=50, linetype='dashed', color='red', alpha=0.7) +\n",
    "    labs(x='G+C') +\n",
    "    theme(\n",
    "        text = element_text(size=16)\n",
    "    )"
   ]
  },
  {
   "cell_type": "markdown",
   "metadata": {},
   "source": [
    "#### Notes \n",
    "\n",
    "* A very bi-modal distribution (as see in Youngblut & Buckley (2014))"
   ]
  },
  {
   "cell_type": "markdown",
   "metadata": {},
   "source": [
    "## Sequence download"
   ]
  },
  {
   "cell_type": "code",
   "execution_count": 106,
   "metadata": {
    "collapsed": true
   },
   "outputs": [],
   "source": [
    "%%R -i workDir\n",
    "\n",
    "outFile = file.path(workDir, 'bac_complete_rep1.txt')\n",
    "write.table(df.bac.complete.rep, outFile, sep='\\t', quote=F, row.names=F)"
   ]
  },
  {
   "cell_type": "code",
   "execution_count": null,
   "metadata": {
    "collapsed": false
   },
   "outputs": [
    {
     "name": "stdout",
     "output_type": "stream",
     "text": [
      "sh: 0: getcwd() failed: No such file or directory\r\n"
     ]
    }
   ],
   "source": [
    "!cd $workDir; \\\n",
    "    seqDB_tools accession-GI2fasta \\\n",
    "        -a 11 -n 2 -f 20 -header \\\n",
    "        -o bac_complete_rep1 \\\n",
    "        < bac_complete_rep1.txt \\\n",
    "        2> bac_complete_rep1.log"
   ]
  },
  {
   "cell_type": "code",
   "execution_count": null,
   "metadata": {
    "collapsed": true
   },
   "outputs": [],
   "source": [
    "### Checking output\n",
    "genomeDir = os.path.join(workDir, 'bac_complete_rep1')\n",
    "!printf \"Number of bacterial genomes: \"\n",
    "!cd $genomeDir; \\\n",
    "    find . -name \"*.fna\" | wc -l"
   ]
  },
  {
   "cell_type": "code",
   "execution_count": null,
   "metadata": {
    "collapsed": true
   },
   "outputs": [],
   "source": []
  },
  {
   "cell_type": "markdown",
   "metadata": {},
   "source": [
    "# -- OLD -- #"
   ]
  },
  {
   "cell_type": "markdown",
   "metadata": {},
   "source": [
    "## Weighted sampling of genome dataset\n",
    "\n",
    "* weighting for more close to 50% GC content genomes"
   ]
  },
  {
   "cell_type": "code",
   "execution_count": 93,
   "metadata": {
    "collapsed": false
   },
   "outputs": [
    {
     "data": {
      "image/png": "[encoded data removed]"
     },
     "metadata": {},
     "output_type": "display_data"
    }
   ],
   "source": [
    "%%R -w 600 -h 300\n",
    "n.sample = 700\n",
    "\n",
    "weights = sapply(df.bac.complete.rep$gc, function(gc) (50 - abs(50-gc)) / 50)\n",
    "to.keep = sample(df.bac.complete.rep$name, n.sample, replace=FALSE, prob=weights)\n",
    "    \n",
    "df.bac.complete.rep.p = df.bac.complete.rep %>%\n",
    "    filter(name %in% to.keep)\n",
    "    \n",
    "# plotting GC distribution\n",
    "ggplot(df.bac.complete.rep.p, aes(gc)) +\n",
    "    geom_histogram(binwidth=1) +\n",
    "    geom_vline(xintercept=50, linetype='dashed', color='red', alpha=0.7) +\n",
    "    labs(x='G+C') +\n",
    "    theme(\n",
    "        text = element_text(size=16)\n",
    "    )    "
   ]
  },
  {
   "cell_type": "markdown",
   "metadata": {},
   "source": [
    "## sequence download"
   ]
  },
  {
   "cell_type": "code",
   "execution_count": null,
   "metadata": {
    "collapsed": true
   },
   "outputs": [],
   "source": [
    "%%R -i workDir\n",
    "\n",
    "outFile = file.path(workDir, 'bac_complete_gc50-n700.txt')\n",
    "write.table(df.bac.complete.rep.p, outFile, sep='\\t', quote=F, row.names=F)"
   ]
  },
  {
   "cell_type": "code",
   "execution_count": 96,
   "metadata": {
    "collapsed": false
   },
   "outputs": [
    {
     "name": "stdout",
     "output_type": "stream",
     "text": [
      "sh: 0: getcwd() failed: No such file or directory\n",
      "^C\n"
     ]
    }
   ],
   "source": [
    "# sequence download\n",
    "!cd $workDir; \\\n",
    "    seqDB_tools accession-GI2fasta \\\n",
    "        -a 11 -n 2 -f 20 -header \\\n",
    "        -o bac_complete_gc50-n700 \\\n",
    "        < bac_complete_gc50-n700.txt \\\n",
    "        2> bac_complete_gc50-n700.log"
   ]
  },
  {
   "cell_type": "markdown",
   "metadata": {},
   "source": [
    "### Checking output"
   ]
  },
  {
   "cell_type": "code",
   "execution_count": 97,
   "metadata": {
    "collapsed": false
   },
   "outputs": [
    {
     "name": "stdout",
     "output_type": "stream",
     "text": [
      "sh: 0: getcwd() failed: No such file or directory\n",
      "Number of bacterial genomes: sh: 0: getcwd() failed: No such file or directory\n",
      "708\n"
     ]
    }
   ],
   "source": [
    "genomeDir = os.path.join(workDir, 'bac_complete_gc50-n700')\n",
    "!printf \"Number of bacterial genomes: \"\n",
    "!cd $genomeDir; \\\n",
    "    find . -name \"*.fna\" | wc -l"
   ]
  },
  {
   "cell_type": "markdown",
   "metadata": {},
   "source": [
    "## Checking genome info\n",
    "\n",
    "* Making sure there are no outliers that need to be filtered out"
   ]
  },
  {
   "cell_type": "code",
   "execution_count": 98,
   "metadata": {
    "collapsed": false
   },
   "outputs": [
    {
     "name": "stdout",
     "output_type": "stream",
     "text": [
      "sh: 0: getcwd() failed: No such file or directory\n",
      "Traceback (most recent call last):\n",
      "  File \"/home/nick/dev/seq_tools/bin/fasta_info.py\", line 111, in <module>\n",
      "    main(uargs)\n",
      "  File \"/home/nick/dev/seq_tools/bin/fasta_info.py\", line 33, in main\n",
      "    f = pyfasta.Fasta(uargs['<fastaFile>'])\n",
      "  File \"/opt/anaconda/lib/python2.7/site-packages/pyfasta/fasta.py\", line 67, in __init__\n",
      "    raise FastaNotFound('\"' + fasta_name + '\"')\n",
      "pyfasta.fasta.FastaNotFound: \"./Campylobacter_insulaenigrae_NCTC_12927.fna\"\n",
      "Traceback (most recent call last):\n",
      "  File \"/home/nick/dev/seq_tools/bin/fasta_info.py\", line 111, in <module>\n",
      "    main(uargs)\n",
      "  File \"/home/nick/dev/seq_tools/bin/fasta_info.py\", line 33, in main\n",
      "    f = pyfasta.Fasta(uargs['<fastaFile>'])\n",
      "  File \"/opt/anaconda/lib/python2.7/site-packages/pyfasta/fasta.py\", line 67, in __init__\n",
      "    raise FastaNotFound('\"' + fasta_name + '\"')\n",
      "pyfasta.fasta.FastaNotFound: \"./Mycobacterium_marinum_E11.fna\"\n",
      "Traceback (most recent call last):\n",
      "  File \"/home/nick/dev/seq_tools/bin/fasta_info.py\", line 111, in <module>\n",
      "    main(uargs)\n",
      "  File \"/home/nick/dev/seq_tools/bin/fasta_info.py\", line 33, in main\n",
      "    f = pyfasta.Fasta(uargs['<fastaFile>'])\n",
      "  File \"/opt/anaconda/lib/python2.7/site-packages/pyfasta/fasta.py\", line 67, in __init__\n",
      "    raise FastaNotFound('\"' + fasta_name + '\"')\n",
      "pyfasta.fasta.FastaNotFound: \"./Syntrophobotulus_glycolicus_DSM_8271.fna\"\n",
      "Traceback (most recent call last):\n",
      "  File \"/home/nick/dev/seq_tools/bin/fasta_info.py\", line 111, in <module>\n",
      "    main(uargs)\n",
      "  File \"/home/nick/dev/seq_tools/bin/fasta_info.py\", line 33, in main\n",
      "    f = pyfasta.Fasta(uargs['<fastaFile>'])\n",
      "  File \"/opt/anaconda/lib/python2.7/site-packages/pyfasta/fasta.py\", line 67, in __init__\n",
      "    raise FastaNotFound('\"' + fasta_name + '\"')\n",
      "pyfasta.fasta.FastaNotFound: \"./Ehrlichia_canis_str_Jake.fna\"\n",
      "Traceback (most recent call last):\n",
      "  File \"/home/nick/dev/seq_tools/bin/fasta_info.py\", line 111, in <module>\n",
      "    main(uargs)\n",
      "  File \"/home/nick/dev/seq_tools/bin/fasta_info.py\", line 33, in main\n",
      "    f = pyfasta.Fasta(uargs['<fastaFile>'])\n",
      "  File \"/opt/anaconda/lib/python2.7/site-packages/pyfasta/fasta.py\", line 67, in __init__\n",
      "    raise FastaNotFound('\"' + fasta_name + '\"')\n",
      "pyfasta.fasta.FastaNotFound: \"./Mycobacterium_haemophilum_DSM_44634.fna\"\n",
      "Traceback (most recent call last):\n",
      "  File \"/home/nick/dev/seq_tools/bin/fasta_info.py\", line 111, in <module>\n",
      "    main(uargs)\n",
      "  File \"/home/nick/dev/seq_tools/bin/fasta_info.py\", line 33, in main\n",
      "    f = pyfasta.Fasta(uargs['<fastaFile>'])\n",
      "  File \"/opt/anaconda/lib/python2.7/site-packages/pyfasta/fasta.py\", line 67, in __init__\n",
      "    raise FastaNotFound('\"' + fasta_name + '\"')\n",
      "pyfasta.fasta.FastaNotFound: \"./Rhodopseudomonas_palustris_BisA53.fna\"\n",
      "Traceback (most recent call last):\n",
      "  File \"/home/nick/dev/seq_tools/bin/fasta_info.py\", line 111, in <module>\n",
      "    main(uargs)\n",
      "  File \"/home/nick/dev/seq_tools/bin/fasta_info.py\", line 33, in main\n",
      "    f = pyfasta.Fasta(uargs['<fastaFile>'])\n",
      "  File \"/opt/anaconda/lib/python2.7/site-packages/pyfasta/fasta.py\", line 67, in __init__\n",
      "    raise FastaNotFound('\"' + fasta_name + '\"')\n",
      "pyfasta.fasta.FastaNotFound: \"./Streptomyces_violaceusniger_Tu_4113.fna\"\n",
      "Traceback (most recent call last):\n",
      "  File \"/home/nick/dev/seq_tools/bin/fasta_info.py\", line 111, in <module>\n",
      "    main(uargs)\n",
      "  File \"/home/nick/dev/seq_tools/bin/fasta_info.py\", line 33, in main\n",
      "    f = pyfasta.Fasta(uargs['<fastaFile>'])\n",
      "  File \"/opt/anaconda/lib/python2.7/site-packages/pyfasta/fasta.py\", line 67, in __init__\n",
      "    raise FastaNotFound('\"' + fasta_name + '\"')\n",
      "pyfasta.fasta.FastaNotFound: \"./Verrucosispora_maris_AB-18-032.fna\"\n",
      "Traceback (most recent call last):\n",
      "  File \"/home/nick/dev/seq_tools/bin/fasta_info.py\", line 111, in <module>\n",
      "    main(uargs)\n",
      "  File \"/home/nick/dev/seq_tools/bin/fasta_info.py\", line 33, in main\n",
      "    f = pyfasta.Fasta(uargs['<fastaFile>'])\n",
      "  File \"/opt/anaconda/lib/python2.7/site-packages/pyfasta/fasta.py\", line 67, in __init__\n",
      "    raise FastaNotFound('\"' + fasta_name + '\"')\n",
      "pyfasta.fasta.FastaNotFound: \"./Mycoplasma_wenyonii_str_Massachusetts.fna\"\n",
      "Traceback (most recent call last):\n",
      "  File \"/home/nick/dev/seq_tools/bin/fasta_info.py\", line 111, in <module>\n",
      "    main(uargs)\n",
      "  File \"/home/nick/dev/seq_tools/bin/fasta_info.py\", line 33, in main\n",
      "    f = pyfasta.Fasta(uargs['<fastaFile>'])\n",
      "  File \"/opt/anaconda/lib/python2.7/site-packages/pyfasta/fasta.py\", line 67, in __init__\n",
      "    raise FastaNotFound('\"' + fasta_name + '\"')\n",
      "pyfasta.fasta.FastaNotFound: \"./Brevibacillus_laterosporus_LMG_15441.fna\"\n",
      "Traceback (most recent call last):\n",
      "  File \"/home/nick/dev/seq_tools/bin/fasta_info.py\", line 111, in <module>\n",
      "    main(uargs)\n",
      "  File \"/home/nick/dev/seq_tools/bin/fasta_info.py\", line 33, in main\n",
      "    f = pyfasta.Fasta(uargs['<fastaFile>'])\n",
      "  File \"/opt/anaconda/lib/python2.7/site-packages/pyfasta/fasta.py\", line 67, in __init__\n",
      "    raise FastaNotFound('\"' + fasta_name + '\"')\n",
      "pyfasta.fasta.FastaNotFound: \"./Thermotoga_maritima_MSB8.fna\"\n",
      "Traceback (most recent call last):\n",
      "  File \"/home/nick/dev/seq_tools/bin/fasta_info.py\", line 111, in <module>\n",
      "    main(uargs)\n",
      "  File \"/home/nick/dev/seq_tools/bin/fasta_info.py\", line 33, in main\n",
      "    f = pyfasta.Fasta(uargs['<fastaFile>'])\n",
      "  File \"/opt/anaconda/lib/python2.7/site-packages/pyfasta/fasta.py\", line 67, in __init__\n",
      "    raise FastaNotFound('\"' + fasta_name + '\"')\n",
      "pyfasta.fasta.FastaNotFound: \"./Anaplasma_marginale_str_Florida.fna\"\n",
      "Traceback (most recent call last):\n",
      "  File \"/home/nick/dev/seq_tools/bin/fasta_info.py\", line 111, in <module>\n",
      "    main(uargs)\n",
      "  File \"/home/nick/dev/seq_tools/bin/fasta_info.py\", line 33, in main\n",
      "    f = pyfasta.Fasta(uargs['<fastaFile>'])\n",
      "  File \"/opt/anaconda/lib/python2.7/site-packages/pyfasta/fasta.py\", line 67, in __init__\n",
      "    raise FastaNotFound('\"' + fasta_name + '\"')\n",
      "pyfasta.fasta.FastaNotFound: \"./Parvibaculum_lavamentivorans_DS-1.fna\"\n",
      "Traceback (most recent call last):\n",
      "  File \"/home/nick/dev/seq_tools/bin/fasta_info.py\", line 111, in <module>\n",
      "    main(uargs)\n",
      "  File \"/home/nick/dev/seq_tools/bin/fasta_info.py\", line 33, in main\n",
      "    f = pyfasta.Fasta(uargs['<fastaFile>'])\n",
      "  File \"/opt/anaconda/lib/python2.7/site-packages/pyfasta/fasta.py\", line 67, in __init__\n",
      "    raise FastaNotFound('\"' + fasta_name + '\"')\n",
      "pyfasta.fasta.FastaNotFound: \"./Photobacterium_gaetbulicola_Gung47.fna\"\n",
      "Traceback (most recent call last):\n",
      "  File \"/home/nick/dev/seq_tools/bin/fasta_info.py\", line 111, in <module>\n",
      "    main(uargs)\n",
      "  File \"/home/nick/dev/seq_tools/bin/fasta_info.py\", line 33, in main\n",
      "    f = pyfasta.Fasta(uargs['<fastaFile>'])\n",
      "  File \"/opt/anaconda/lib/python2.7/site-packages/pyfasta/fasta.py\", line 67, in __init__\n",
      "    raise FastaNotFound('\"' + fasta_name + '\"')\n",
      "pyfasta.fasta.FastaNotFound: \"./Staphylococcus_capitis_subsp_capitis.fna\"\n",
      "Traceback (most recent call last):\n",
      "  File \"/home/nick/dev/seq_tools/bin/fasta_info.py\", line 111, in <module>\n",
      "    main(uargs)\n",
      "  File \"/home/nick/dev/seq_tools/bin/fasta_info.py\", line 33, in main\n",
      "    f = pyfasta.Fasta(uargs['<fastaFile>'])\n",
      "  File \"/opt/anaconda/lib/python2.7/site-packages/pyfasta/fasta.py\", line 67, in __init__\n",
      "    raise FastaNotFound('\"' + fasta_name + '\"')\n",
      "pyfasta.fasta.FastaNotFound: \"./Riemerella_anatipestifer_ATCC_11845_DSM_15868.fna\"\n",
      "Traceback (most recent call last):\n",
      "  File \"/home/nick/dev/seq_tools/bin/fasta_info.py\", line 111, in <module>\n",
      "    main(uargs)\n",
      "  File \"/home/nick/dev/seq_tools/bin/fasta_info.py\", line 33, in main\n",
      "    f = pyfasta.Fasta(uargs['<fastaFile>'])\n",
      "  File \"/opt/anaconda/lib/python2.7/site-packages/pyfasta/fasta.py\", line 67, in __init__\n",
      "    raise FastaNotFound('\"' + fasta_name + '\"')\n",
      "pyfasta.fasta.FastaNotFound: \"./Fusobacterium_nucleatum_subsp_animalis_4_8.fna\"\n",
      "Traceback (most recent call last):\n",
      "  File \"/home/nick/dev/seq_tools/bin/fasta_info.py\", line 111, in <module>\n",
      "    main(uargs)\n",
      "  File \"/home/nick/dev/seq_tools/bin/fasta_info.py\", line 33, in main\n",
      "    f = pyfasta.Fasta(uargs['<fastaFile>'])\n",
      "  File \"/opt/anaconda/lib/python2.7/site-packages/pyfasta/fasta.py\", line 67, in __init__\n",
      "    raise FastaNotFound('\"' + fasta_name + '\"')\n",
      "pyfasta.fasta.FastaNotFound: \"./Lactococcus_piscium_MKFS47.fna\"\n",
      "Traceback (most recent call last):\n",
      "  File \"/home/nick/dev/seq_tools/bin/fasta_info.py\", line 111, in <module>\n",
      "    main(uargs)\n",
      "  File \"/home/nick/dev/seq_tools/bin/fasta_info.py\", line 33, in main\n",
      "    f = pyfasta.Fasta(uargs['<fastaFile>'])\n",
      "  File \"/opt/anaconda/lib/python2.7/site-packages/pyfasta/fasta.py\", line 67, in __init__\n",
      "    raise FastaNotFound('\"' + fasta_name + '\"')\n",
      "pyfasta.fasta.FastaNotFound: \"./Mycobacterium_bovis_BCG.fna\"\n",
      "Traceback (most recent call last):\n",
      "  File \"/home/nick/dev/seq_tools/bin/fasta_info.py\", line 111, in <module>\n",
      "    main(uargs)\n",
      "  File \"/home/nick/dev/seq_tools/bin/fasta_info.py\", line 33, in main\n",
      "    f = pyfasta.Fasta(uargs['<fastaFile>'])\n",
      "  File \"/opt/anaconda/lib/python2.7/site-packages/pyfasta/fasta.py\", line 67, in __init__\n",
      "    raise FastaNotFound('\"' + fasta_name + '\"')\n",
      "pyfasta.fasta.FastaNotFound: \"./Gordonia_polyisoprenivorans_VH2.fna\"\n",
      "Traceback (most recent call last):\n",
      "  File \"/home/nick/dev/seq_tools/bin/fasta_info.py\", line 111, in <module>\n",
      "    main(uargs)\n",
      "  File \"/home/nick/dev/seq_tools/bin/fasta_info.py\", line 33, in main\n",
      "    f = pyfasta.Fasta(uargs['<fastaFile>'])\n",
      "  File \"/opt/anaconda/lib/python2.7/site-packages/pyfasta/fasta.py\", line 67, in __init__\n",
      "    raise FastaNotFound('\"' + fasta_name + '\"')\n",
      "pyfasta.fasta.FastaNotFound: \"./Chlamydia_psittaci_01DC11.fna\"\n",
      "Traceback (most recent call last):\n",
      "  File \"/home/nick/dev/seq_tools/bin/fasta_info.py\", line 111, in <module>\n",
      "    main(uargs)\n",
      "  File \"/home/nick/dev/seq_tools/bin/fasta_info.py\", line 33, in main\n",
      "    f = pyfasta.Fasta(uargs['<fastaFile>'])\n",
      "  File \"/opt/anaconda/lib/python2.7/site-packages/pyfasta/fasta.py\", line 67, in __init__\n",
      "    raise FastaNotFound('\"' + fasta_name + '\"')\n",
      "pyfasta.fasta.FastaNotFound: \"./Cycloclasticus_zancles_78-ME.fna\"\n",
      "**OUTPUT MUTED**"
     ]
    }
   ],
   "source": [
    "# determining the largest genome\n",
    "!cd $genomeDir; \\\n",
    "    find . -name \"*.fna\" | \\\n",
    "    xargs -I % seq_tools fasta_info % --fn --tn --tl --tgc --sn --sl --sgc \\\n",
    "    > genome_info.txt"
   ]
  },
  {
   "cell_type": "markdown",
   "metadata": {},
   "source": [
    "### loading table and plotting"
   ]
  },
  {
   "cell_type": "code",
   "execution_count": 99,
   "metadata": {
    "collapsed": false
   },
   "outputs": [
    {
     "name": "stdout",
     "output_type": "stream",
     "text": [
      "\n",
      "Error in setwd(genomeDir) : cannot change working directory\n"
     ]
    },
    {
     "name": "stderr",
     "output_type": "stream",
     "text": [
      "/opt/anaconda/lib/python2.7/site-packages/rpy2/robjects/functions.py:106: UserWarning: Error in setwd(genomeDir) : cannot change working directory\n",
      "\n",
      "  res = super(Function, self).__call__(*new_args, **new_kwargs)\n"
     ]
    }
   ],
   "source": [
    "%%R -i genomeDir\n",
    "\n",
    "setwd(genomeDir)\n",
    "\n",
    "tbl = read.delim('genome_info.txt', sep='\\t', header=FALSE)\n",
    "colnames(tbl) = c('file_name', 'total_seqs', 'total_length', 'total_GC', 'seq_name', 'seq_length', 'seq_GC')"
   ]
  },
  {
   "cell_type": "code",
   "execution_count": 100,
   "metadata": {
    "collapsed": false
   },
   "outputs": [
    {
     "data": {
      "image/png": "[encoded data removed]"
     },
     "metadata": {},
     "output_type": "display_data"
    }
   ],
   "source": [
    "%%R -w 500 -h 350\n",
    "# genome lengths\n",
    "ggplot(tbl, aes(total_length)) +\n",
    "    geom_histogram(binwidth=50000)"
   ]
  },
  {
   "cell_type": "code",
   "execution_count": 101,
   "metadata": {
    "collapsed": false
   },
   "outputs": [
    {
     "data": {
      "text/plain": [
       "    Min.  1st Qu.   Median     Mean  3rd Qu.     Max. \n",
       "  564400  2274000  3575000  3735000  4846000 14780000 \n"
      ]
     },
     "metadata": {},
     "output_type": "display_data"
    }
   ],
   "source": [
    "%%R\n",
    "summary(tbl$total_length)"
   ]
  },
  {
   "cell_type": "code",
   "execution_count": 102,
   "metadata": {
    "collapsed": false
   },
   "outputs": [
    {
     "data": {
      "image/png": "[encoded data removed]"
     },
     "metadata": {},
     "output_type": "display_data"
    }
   ],
   "source": [
    "%%R -w 500 -h 350\n",
    "# genome GC\n",
    "ggplot(tbl, aes(total_GC)) +\n",
    "    geom_histogram(binwidth=1)"
   ]
  },
  {
   "cell_type": "code",
   "execution_count": 103,
   "metadata": {
    "collapsed": false
   },
   "outputs": [
    {
     "data": {
      "text/plain": [
       "   Min. 1st Qu.  Median    Mean 3rd Qu.    Max. \n",
       "  23.75   38.73   48.95   49.67   61.12   74.29 \n"
      ]
     },
     "metadata": {},
     "output_type": "display_data"
    }
   ],
   "source": [
    "%%R\n",
    "summary(tbl$total_GC)"
   ]
  },
  {
   "cell_type": "code",
   "execution_count": 104,
   "metadata": {
    "collapsed": false
   },
   "outputs": [
    {
     "data": {
      "image/png": "[encoded data removed]"
     },
     "metadata": {},
     "output_type": "display_data"
    }
   ],
   "source": [
    "%%R -w 500 -h 350\n",
    "# genome GC\n",
    "ggplot(tbl, aes(total_GC)) +\n",
    "    geom_density(fill='red', alpha=0.3) +\n",
    "    scale_x_continuous(limits=c(10,90))"
   ]
  },
  {
   "cell_type": "code",
   "execution_count": 105,
   "metadata": {
    "collapsed": false
   },
   "outputs": [
    {
     "data": {
      "image/png": "[encoded data removed]"
     },
     "metadata": {},
     "output_type": "display_data"
    }
   ],
   "source": [
    "%%R -w 500 -h 350\n",
    "# sequences per genome\n",
    "ggplot(tbl, aes(total_seqs)) +\n",
    "    geom_histogram(binwidth=1)"
   ]
  },
  {
   "cell_type": "code",
   "execution_count": null,
   "metadata": {
    "collapsed": true
   },
   "outputs": [],
   "source": []
  }
 ],
 "metadata": {
  "hide_input": true,
  "kernelspec": {
   "display_name": "Python 2",
   "language": "python",
   "name": "python2"
  },
  "language_info": {
   "codemirror_mode": {
    "name": "ipython",
    "version": 2
   },
   "file_extension": ".py",
   "mimetype": "text/x-python",
   "name": "python",
   "nbconvert_exporter": "python",
   "pygments_lexer": "ipython2",
   "version": "2.7.10"
  }
 },
 "nbformat": 4,
 "nbformat_minor": 0
}
