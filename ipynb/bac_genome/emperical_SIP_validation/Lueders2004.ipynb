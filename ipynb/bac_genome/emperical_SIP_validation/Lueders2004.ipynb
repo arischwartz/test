{
 "cells": [
  {
   "cell_type": "markdown",
   "metadata": {},
   "source": [
    "## Lueders et al., 2004 (barkeri & extorquens)\n",
    " \n",
    "* strain(s)\n",
    "  * Methylobacterium extorquens AM1 DSM 1338\n",
    "  * M. barkeri DSM 800\n",
    "    * *aka* Methanosarcina barkeri MS\n",
    "* isotope(s)\n",
    "  * 13C\n",
    "  * assumed 100% incorporation\n",
    "* gradient\n",
    "  * rotor\n",
    "    * TV865 vertical rotor (Sorvall)\n",
    "  * CsCl density\n",
    "    * 1.725 g/ml\n",
    "  * centrifugation \n",
    "    * 20oC\n",
    "    * \\>36h \n",
    "    * 45 000 r.p.m. (177 000 gav)\n",
    "  * fractionation volume\n",
    "    * 400 ul\n",
    "* Abundance quantification\n",
    "  * DNA\n",
    "  * both qPCR & fluorimetrically\n",
    "  * qPCR primers\n",
    "    * Ar109f/Ar915r (Lueders and Friedrich, 2003) \n",
    "      * Ar109f (5′-ACK GCT CAG TAA CAC GT-3′)\n",
    "      * Ar915r (5′-GTG CTC CCC CGC CAA TTC CT-3′)\n",
    "    * Ba519f/Ba907 (Stubner, 2002)\n",
    "      * Ba519f (CAGCMGCCGCGGTAANWC)\n",
    "      * Ba907r (CCGTCAATTCMTTTRAGTT)"
   ]
  },
  {
   "cell_type": "markdown",
   "metadata": {},
   "source": [
    "# Setting variables"
   ]
  },
  {
   "cell_type": "code",
   "execution_count": 26,
   "metadata": {
    "collapsed": true
   },
   "outputs": [],
   "source": [
    "workDir = '/home/nick/notebook/SIPSim/dev/Leuders2004/'\n",
    "\n",
    "# params\n",
    "bandwidth = 0.6\n",
    "DBL_scale = 0.1"
   ]
  },
  {
   "cell_type": "markdown",
   "metadata": {},
   "source": [
    "# Init"
   ]
  },
  {
   "cell_type": "code",
   "execution_count": 4,
   "metadata": {
    "collapsed": true
   },
   "outputs": [],
   "source": [
    "import os\n",
    "%load_ext rpy2.ipython"
   ]
  },
  {
   "cell_type": "code",
   "execution_count": 5,
   "metadata": {
    "collapsed": false
   },
   "outputs": [
    {
     "name": "stderr",
     "output_type": "stream",
     "text": [
      "/opt/anaconda/lib/python2.7/site-packages/rpy2/robjects/functions.py:106: UserWarning: \n",
      "Attaching package: ‘dplyr’\n",
      "\n",
      "\n",
      "  res = super(Function, self).__call__(*new_args, **new_kwargs)\n",
      "/opt/anaconda/lib/python2.7/site-packages/rpy2/robjects/functions.py:106: UserWarning: The following objects are masked from ‘package:stats’:\n",
      "\n",
      "    filter, lag\n",
      "\n",
      "\n",
      "  res = super(Function, self).__call__(*new_args, **new_kwargs)\n",
      "/opt/anaconda/lib/python2.7/site-packages/rpy2/robjects/functions.py:106: UserWarning: The following objects are masked from ‘package:base’:\n",
      "\n",
      "    intersect, setdiff, setequal, union\n",
      "\n",
      "\n",
      "  res = super(Function, self).__call__(*new_args, **new_kwargs)\n",
      "/opt/anaconda/lib/python2.7/site-packages/rpy2/robjects/functions.py:106: UserWarning: Loading required package: XML\n",
      "\n",
      "  res = super(Function, self).__call__(*new_args, **new_kwargs)\n",
      "/opt/anaconda/lib/python2.7/site-packages/rpy2/robjects/functions.py:106: UserWarning: \n",
      "Attaching package: ‘XML’\n",
      "\n",
      "\n",
      "  res = super(Function, self).__call__(*new_args, **new_kwargs)\n",
      "/opt/anaconda/lib/python2.7/site-packages/rpy2/robjects/functions.py:106: UserWarning: The following object is masked from ‘package:tools’:\n",
      "\n",
      "    toHTML\n",
      "\n",
      "\n",
      "  res = super(Function, self).__call__(*new_args, **new_kwargs)\n",
      "/opt/anaconda/lib/python2.7/site-packages/rpy2/robjects/functions.py:106: UserWarning: Loading required package: RCurl\n",
      "\n",
      "  res = super(Function, self).__call__(*new_args, **new_kwargs)\n",
      "/opt/anaconda/lib/python2.7/site-packages/rpy2/robjects/functions.py:106: UserWarning: Loading required package: bitops\n",
      "\n",
      "  res = super(Function, self).__call__(*new_args, **new_kwargs)\n",
      "/opt/anaconda/lib/python2.7/site-packages/rpy2/robjects/functions.py:106: UserWarning: \n",
      "Attaching package: ‘RCurl’\n",
      "\n",
      "\n",
      "  res = super(Function, self).__call__(*new_args, **new_kwargs)\n",
      "/opt/anaconda/lib/python2.7/site-packages/rpy2/robjects/functions.py:106: UserWarning: The following object is masked from ‘package:tidyr’:\n",
      "\n",
      "    complete\n",
      "\n",
      "\n",
      "  res = super(Function, self).__call__(*new_args, **new_kwargs)\n",
      "/opt/anaconda/lib/python2.7/site-packages/rpy2/robjects/functions.py:106: UserWarning: Loading required package: GenomicRanges\n",
      "\n",
      "  res = super(Function, self).__call__(*new_args, **new_kwargs)\n",
      "/opt/anaconda/lib/python2.7/site-packages/rpy2/robjects/functions.py:106: UserWarning: Loading required package: BiocGenerics\n",
      "\n",
      "  res = super(Function, self).__call__(*new_args, **new_kwargs)\n",
      "/opt/anaconda/lib/python2.7/site-packages/rpy2/robjects/functions.py:106: UserWarning: Loading required package: parallel\n",
      "\n",
      "  res = super(Function, self).__call__(*new_args, **new_kwargs)\n",
      "/opt/anaconda/lib/python2.7/site-packages/rpy2/robjects/functions.py:106: UserWarning: \n",
      "Attaching package: ‘BiocGenerics’\n",
      "\n",
      "\n",
      "  res = super(Function, self).__call__(*new_args, **new_kwargs)\n",
      "/opt/anaconda/lib/python2.7/site-packages/rpy2/robjects/functions.py:106: UserWarning: The following objects are masked from ‘package:parallel’:\n",
      "\n",
      "    clusterApply, clusterApplyLB, clusterCall, clusterEvalQ,\n",
      "    clusterExport, clusterMap, parApply, parCapply, parLapply,\n",
      "    parLapplyLB, parRapply, parSapply, parSapplyLB\n",
      "\n",
      "\n",
      "  res = super(Function, self).__call__(*new_args, **new_kwargs)\n",
      "/opt/anaconda/lib/python2.7/site-packages/rpy2/robjects/functions.py:106: UserWarning: The following objects are masked from ‘package:dplyr’:\n",
      "\n",
      "    combine, intersect, setdiff, union\n",
      "\n",
      "\n",
      "  res = super(Function, self).__call__(*new_args, **new_kwargs)\n",
      "/opt/anaconda/lib/python2.7/site-packages/rpy2/robjects/functions.py:106: UserWarning: The following object is masked from ‘package:stats’:\n",
      "\n",
      "    xtabs\n",
      "\n",
      "\n",
      "  res = super(Function, self).__call__(*new_args, **new_kwargs)\n",
      "/opt/anaconda/lib/python2.7/site-packages/rpy2/robjects/functions.py:106: UserWarning: The following objects are masked from ‘package:base’:\n",
      "\n",
      "    anyDuplicated, append, as.data.frame, as.vector, cbind, colnames,\n",
      "    do.call, duplicated, eval, evalq, Filter, Find, get, intersect,\n",
      "    is.unsorted, lapply, Map, mapply, match, mget, order, paste, pmax,\n",
      "    pmax.int, pmin, pmin.int, Position, rank, rbind, Reduce, rep.int,\n",
      "    rownames, sapply, setdiff, sort, table, tapply, union, unique,\n",
      "    unlist, unsplit\n",
      "\n",
      "\n",
      "  res = super(Function, self).__call__(*new_args, **new_kwargs)\n",
      "/opt/anaconda/lib/python2.7/site-packages/rpy2/robjects/functions.py:106: UserWarning: Loading required package: S4Vectors\n",
      "\n",
      "  res = super(Function, self).__call__(*new_args, **new_kwargs)\n",
      "/opt/anaconda/lib/python2.7/site-packages/rpy2/robjects/functions.py:106: UserWarning: Loading required package: stats4\n",
      "\n",
      "  res = super(Function, self).__call__(*new_args, **new_kwargs)\n",
      "/opt/anaconda/lib/python2.7/site-packages/rpy2/robjects/functions.py:106: UserWarning: \n",
      "Attaching package: ‘S4Vectors’\n",
      "\n",
      "\n",
      "  res = super(Function, self).__call__(*new_args, **new_kwargs)\n",
      "/opt/anaconda/lib/python2.7/site-packages/rpy2/robjects/functions.py:106: UserWarning: The following object is masked from ‘package:dplyr’:\n",
      "\n",
      "    rename\n",
      "\n",
      "\n",
      "  res = super(Function, self).__call__(*new_args, **new_kwargs)\n",
      "/opt/anaconda/lib/python2.7/site-packages/rpy2/robjects/functions.py:106: UserWarning: Loading required package: IRanges\n",
      "\n",
      "  res = super(Function, self).__call__(*new_args, **new_kwargs)\n",
      "/opt/anaconda/lib/python2.7/site-packages/rpy2/robjects/functions.py:106: UserWarning: \n",
      "Attaching package: ‘IRanges’\n",
      "\n",
      "\n",
      "  res = super(Function, self).__call__(*new_args, **new_kwargs)\n",
      "/opt/anaconda/lib/python2.7/site-packages/rpy2/robjects/functions.py:106: UserWarning: The following object is masked from ‘package:tidyr’:\n",
      "\n",
      "    expand\n",
      "\n",
      "\n",
      "  res = super(Function, self).__call__(*new_args, **new_kwargs)\n",
      "/opt/anaconda/lib/python2.7/site-packages/rpy2/robjects/functions.py:106: UserWarning: The following objects are masked from ‘package:dplyr’:\n",
      "\n",
      "    collapse, desc, slice\n",
      "\n",
      "\n",
      "  res = super(Function, self).__call__(*new_args, **new_kwargs)\n",
      "/opt/anaconda/lib/python2.7/site-packages/rpy2/robjects/functions.py:106: UserWarning: Loading required package: GenomeInfoDb\n",
      "\n",
      "  res = super(Function, self).__call__(*new_args, **new_kwargs)\n",
      "/opt/anaconda/lib/python2.7/site-packages/rpy2/robjects/functions.py:106: UserWarning: Loading required package: Biostrings\n",
      "\n",
      "  res = super(Function, self).__call__(*new_args, **new_kwargs)\n",
      "/opt/anaconda/lib/python2.7/site-packages/rpy2/robjects/functions.py:106: UserWarning: Loading required package: XVector\n",
      "\n",
      "  res = super(Function, self).__call__(*new_args, **new_kwargs)\n",
      "/opt/anaconda/lib/python2.7/site-packages/rpy2/robjects/functions.py:106: UserWarning: \n",
      "Attaching package: ‘genomes’\n",
      "\n",
      "\n",
      "  res = super(Function, self).__call__(*new_args, **new_kwargs)\n",
      "/opt/anaconda/lib/python2.7/site-packages/rpy2/robjects/functions.py:106: UserWarning: The following object is masked from ‘package:GenomeInfoDb’:\n",
      "\n",
      "    species\n",
      "\n",
      "\n",
      "  res = super(Function, self).__call__(*new_args, **new_kwargs)\n"
     ]
    }
   ],
   "source": [
    "%%R\n",
    "library(ggplot2)\n",
    "library(dplyr)\n",
    "library(tidyr)\n",
    "library(genomes)"
   ]
  },
  {
   "cell_type": "code",
   "execution_count": 6,
   "metadata": {
    "collapsed": false
   },
   "outputs": [
    {
     "name": "stdout",
     "output_type": "stream",
     "text": [
      "/home/nick/notebook/SIPSim/dev/Leuders2004\n"
     ]
    }
   ],
   "source": [
    "if not os.path.isdir(workDir):\n",
    "    os.makedirs(workDir)\n",
    "%cd $workDir"
   ]
  },
  {
   "cell_type": "markdown",
   "metadata": {},
   "source": [
    "# Getting genomes"
   ]
  },
  {
   "cell_type": "code",
   "execution_count": 3,
   "metadata": {
    "collapsed": false
   },
   "outputs": [
    {
     "data": {
      "text/plain": [
       "$`Total genomes`\n",
       "[1] 27570 genome projects on Sep 04, 2014\n",
       "\n",
       "$`By status`\n",
       "                     Total\n",
       "Contig               13074\n",
       "Scaffold             10718\n",
       "Gapless Chromosome    3053\n",
       "Chromosome             373\n",
       "Chromosome with gaps   343\n",
       "Complete                 9\n",
       "\n",
       "$`Recent submissions`\n",
       "  released   name                      status  \n",
       "1 2014-09-02 Altuibacter lentus        Scaffold\n",
       "2 2014-09-02 Bacillus cereus ATCC 4342 Scaffold\n",
       "3 2014-09-02 Bacillus licheniformis    Scaffold\n",
       "4 2014-09-02 Bacillus megaterium       Scaffold\n",
       "5 2014-09-02 Paenibacillus macerans    Scaffold\n",
       "\n"
      ]
     },
     "metadata": {},
     "output_type": "display_data"
    }
   ],
   "source": [
    "%%R\n",
    "data(proks)\n",
    "summary(proks)"
   ]
  },
  {
   "cell_type": "code",
   "execution_count": 4,
   "metadata": {
    "collapsed": false
   },
   "outputs": [
    {
     "name": "stderr",
     "output_type": "stream",
     "text": [
      "/opt/anaconda/lib/python2.7/site-packages/rpy2/robjects/functions.py:106: UserWarning: proks has been successfully updated\n",
      "\n",
      "  res = super(Function, self).__call__(*new_args, **new_kwargs)\n",
      "/opt/anaconda/lib/python2.7/site-packages/rpy2/robjects/functions.py:106: UserWarning: 33544 new project IDs added\n",
      "\n",
      "  res = super(Function, self).__call__(*new_args, **new_kwargs)\n",
      "/opt/anaconda/lib/python2.7/site-packages/rpy2/robjects/functions.py:106: UserWarning: 246 old project IDs removed\n",
      "\n",
      "  res = super(Function, self).__call__(*new_args, **new_kwargs)\n"
     ]
    },
    {
     "data": {
      "text/plain": [
       "$`Total genomes`\n",
       "[1] 61480 genome projects on Mar 08, 2016\n",
       "\n",
       "$`By status`\n",
       "                Total\n",
       "Contig          28290\n",
       "Scaffold        27265\n",
       "Complete Genome  5037\n",
       "Chromosome        888\n",
       "\n",
       "$`Recent submissions`\n",
       "  released   name                         status  \n",
       "1 2016-03-03 Bacillus cereus              Scaffold\n",
       "2 2016-03-03 Bacteroides cellulosilyticus Scaffold\n",
       "3 2016-03-03 Bacteroides fragilis         Scaffold\n",
       "4 2016-03-03 Campylobacter coli           Contig  \n",
       "5 2016-03-03 Campylobacter coli           Contig  \n",
       "\n"
      ]
     },
     "metadata": {},
     "output_type": "display_data"
    }
   ],
   "source": [
    "%%R\n",
    "update(proks)\n",
    "summary(proks)"
   ]
  },
  {
   "cell_type": "code",
   "execution_count": 24,
   "metadata": {
    "collapsed": false
   },
   "outputs": [
    {
     "data": {
      "text/plain": [
       "File written: genome_info.txt \n"
      ]
     },
     "metadata": {},
     "output_type": "display_data"
    }
   ],
   "source": [
    "%%R\n",
    "M.ext = subset(proks, name %like% 'Methylobacterium extorquens AM1*')\n",
    "M.bark = subset(proks, name %like% 'Methanosarcina barkeri MS*')\n",
    "orgs = rbind(M.ext, M.bark)\n",
    "\n",
    "\n",
    "orgFile = 'genome_info.txt'\n",
    "write.table(orgs, orgFile, sep='\\t', quote=FALSE, row.names=FALSE)\n",
    "cat('File written:', orgFile, '\\n')"
   ]
  },
  {
   "cell_type": "code",
   "execution_count": 25,
   "metadata": {
    "collapsed": false
   },
   "outputs": [
    {
     "name": "stdout",
     "output_type": "stream",
     "text": [
      "Starting batch->trial: 0->1\n",
      "\n",
      "--------------------- WARNING ---------------------\n",
      "MSG: No whitespace allowed in FASTA ID [NZ_CP009528|Methanosarcina barkeri MS, complete genome.]\n",
      "---------------------------------------------------\n",
      "\n",
      "--------------------- WARNING ---------------------\n",
      "MSG: No whitespace allowed in FASTA ID [NZ_CP009528|Methanosarcina barkeri MS, complete genome.]\n",
      "---------------------------------------------------\n",
      "\n",
      "--------------------- WARNING ---------------------\n",
      "MSG: No whitespace allowed in FASTA ID [NC_012808|Methylobacterium extorquens AM1, complete genome.]\n",
      "---------------------------------------------------\n",
      "\n",
      "--------------------- WARNING ---------------------\n",
      "MSG: No whitespace allowed in FASTA ID [NC_012808|Methylobacterium extorquens AM1, complete genome.]\n",
      "---------------------------------------------------\n"
     ]
    }
   ],
   "source": [
    "!seqDB_tools accession-GI2fasta \\\n",
    "        -a 11 -n 2 -f 30 -header \\\n",
    "        -o genomes \\\n",
    "        genome_info.txt "
   ]
  },
  {
   "cell_type": "code",
   "execution_count": 26,
   "metadata": {
    "collapsed": false
   },
   "outputs": [
    {
     "name": "stdout",
     "output_type": "stream",
     "text": [
      "-rw-rw-r-- 1 nick nick 5.4M Mar  8 07:52 genomes/Methylobacterium_extorquens_AM1.fna\r\n",
      "-rw-rw-r-- 1 nick nick 4.4M Mar  8 07:52 genomes/Methanosarcina_barkeri_MS.fna\r\n"
     ]
    }
   ],
   "source": [
    "!ls -thlc genomes/*.fna"
   ]
  },
  {
   "cell_type": "markdown",
   "metadata": {},
   "source": [
    "## renaming genome sequences"
   ]
  },
  {
   "cell_type": "code",
   "execution_count": 44,
   "metadata": {
    "collapsed": false
   },
   "outputs": [
    {
     "name": "stdout",
     "output_type": "stream",
     "text": [
      "File written: /home/nick/notebook/SIPSim/dev/Leuders2004/genomes_rn/Methanosarcina_barkeri_MS.fna\r\n",
      "File written: /home/nick/notebook/SIPSim/dev/Leuders2004/genomes_rn/Methylobacterium_extorquens_AM1.fna\r\n"
     ]
    }
   ],
   "source": [
    "!find ./genomes/ -name \"*.fna\" |\\\n",
    "    xargs -P 2 -I % SIPSim genome_rename --prefix genomes_rn %"
   ]
  },
  {
   "cell_type": "markdown",
   "metadata": {},
   "source": [
    "## Indexing genomes"
   ]
  },
  {
   "cell_type": "code",
   "execution_count": 46,
   "metadata": {
    "collapsed": false
   },
   "outputs": [
    {
     "name": "stdout",
     "output_type": "stream",
     "text": [
      "Methanosarcina_barkeri_MS\tMethanosarcina_barkeri_MS.fna\r\n",
      "Methylobacterium_extorquens_AM1\tMethylobacterium_extorquens_AM1.fna\r\n"
     ]
    }
   ],
   "source": [
    "# making a genome index file\n",
    "## taxonName<tab>genomeSeqFileName\n",
    "!ls -1 genomes_rn/*fna | perl -pe 's/.+\\/|\\.fna//g; s/(.+)/$1\\t$1.fna/' > genome_index.txt\n",
    "!cat genome_index.txt"
   ]
  },
  {
   "cell_type": "code",
   "execution_count": 48,
   "metadata": {
    "collapsed": false
   },
   "outputs": [
    {
     "name": "stdout",
     "output_type": "stream",
     "text": [
      "Indexing: \"Methanosarcina_barkeri_MS\"\n",
      "Indexing: \"Methylobacterium_extorquens_AM1\"\n",
      "#-- All genomes indexed --#\n",
      "0: 87.09%, 0:00:38.349464\n",
      "0: 88.91%, 0:00:39.165708\n",
      "0: 90.72%, 0:00:39.985936\n",
      "0: 92.54%, 0:00:40.808016\n",
      "0: 94.35%, 0:00:41.630796\n",
      "0: 96.17%, 0:00:42.456980\n",
      "0: 97.98%, 0:00:43.277969\n",
      "0: 99.79%, 0:00:44.112970\n",
      "Time used: 0:00:46.621665\n",
      "Done.\n"
     ]
    }
   ],
   "source": [
    "!SIPSim genome_index \\\n",
    "    --fp ./genomes_rn/ \\\n",
    "    --np 2 \\\n",
    "    genome_index.txt \\\n",
    "    > genome_index.log\n",
    "    \n",
    "!tail genome_index.log    "
   ]
  },
  {
   "cell_type": "markdown",
   "metadata": {},
   "source": [
    "# Simulating a gradient community"
   ]
  },
  {
   "cell_type": "code",
   "execution_count": 30,
   "metadata": {
    "collapsed": false
   },
   "outputs": [
    {
     "name": "stdout",
     "output_type": "stream",
     "text": [
      "library\ttaxon_name\trel_abund_perc\trank\r\n",
      "1\tMethylobacterium_extorquens_AM1\t50.000000000\t1\r\n",
      "1\tMethanosarcina_barkeri_MS\t50.000000000\t2\r\n",
      "2\tMethylobacterium_extorquens_AM1\t50.000000000\t1\r\n",
      "2\tMethanosarcina_barkeri_MS\t50.000000000\t2\r\n"
     ]
    }
   ],
   "source": [
    "!SIPSim communities \\\n",
    "    --n_comm 2 \\\n",
    "    --abund_dist uniform \\\n",
    "    --abund_dist_p low:1,high:1 \\\n",
    "    genome_index.txt > comm-n2-unif.txt\n",
    "    \n",
    "!cat comm-n2-unif.txt"
   ]
  },
  {
   "cell_type": "markdown",
   "metadata": {},
   "source": [
    "# Simulating gradient fractions"
   ]
  },
  {
   "cell_type": "code",
   "execution_count": 60,
   "metadata": {
    "collapsed": false
   },
   "outputs": [
    {
     "name": "stdout",
     "output_type": "stream",
     "text": [
      "29 fracs-n2-unif.txt\n",
      "library\tfraction\tBD_min\tBD_max\tfraction_size\n",
      "1\t1\t1.68\t1.688\t0.008\n",
      "1\t2\t1.688\t1.696\t0.008\n",
      "1\t3\t1.696\t1.703\t0.007\n",
      "1\t4\t1.703\t1.711\t0.008\n",
      "2\t10\t1.748\t1.756\t0.008\n",
      "2\t11\t1.756\t1.762\t0.006\n",
      "2\t12\t1.762\t1.77\t0.008\n",
      "2\t13\t1.77\t1.776\t0.006\n",
      "2\t14\t1.776\t1.78\t0.004\n"
     ]
    }
   ],
   "source": [
    "!SIPSim gradient_fractions \\\n",
    "    --BD_min 1.68 \\\n",
    "    --params mu:0.0075,sigma:0.001 \\\n",
    "    comm-n2-unif.txt \\\n",
    "    > fracs-n2-unif.txt\n",
    "\n",
    "!wc -l fracs-n2-unif.txt\n",
    "!head -n 5 fracs-n2-unif.txt\n",
    "!tail -n 5 fracs-n2-unif.txt"
   ]
  },
  {
   "cell_type": "code",
   "execution_count": 61,
   "metadata": {
    "collapsed": false
   },
   "outputs": [
    {
     "data": {
      "text/plain": [
       "Source: local data frame [2 x 2]\n",
       "\n",
       "  library     n\n",
       "    (int) (int)\n",
       "1       1    14\n",
       "2       2    14\n"
      ]
     },
     "metadata": {},
     "output_type": "display_data"
    },
    {
     "data": {
      "image/png": "[encoded data removed]"
     },
     "metadata": {},
     "output_type": "display_data"
    }
   ],
   "source": [
    "%%R -w 800 -h 300\n",
    "# plotting\n",
    "df = read.delim('fracs-n2-unif.txt', sep='\\t')\n",
    "\n",
    "df %>%\n",
    "    group_by(library) %>%\n",
    "    summarize(n=n()) %>%\n",
    "    print\n",
    "\n",
    "ggplot(df, aes(BD_min, fraction_size, group=library, color=library)) +\n",
    "    geom_point() +\n",
    "    geom_line() +\n",
    "    scale_x_continuous(breaks=seq(1.68, 1.78, 0.01)) +\n",
    "    theme(\n",
    "        text = element_text(size=16)\n",
    "    )"
   ]
  },
  {
   "cell_type": "markdown",
   "metadata": {},
   "source": [
    "# TODO\n",
    "\n",
    "* edit fraction simulation so fraction size cutoffs affect light, not heavy gradients"
   ]
  },
  {
   "cell_type": "markdown",
   "metadata": {},
   "source": [
    "# SIPSim of shotgun fragments\n",
    "\n",
    "* for comparing to fluormetric quanitification"
   ]
  },
  {
   "cell_type": "code",
   "execution_count": 7,
   "metadata": {
    "collapsed": false
   },
   "outputs": [
    {
     "name": "stdout",
     "output_type": "stream",
     "text": [
      "Processing: \"Methanosarcina_barkeri_MS\"\r\n",
      "Processing: \"Methylobacterium_extorquens_AM1\"\r\n",
      "  Genome name: Methanosarcina_barkeri_MS\r\n",
      "  Genome length (bp): 4533209\r\n",
      "  Number of amplicons: None\r\n",
      "  Number of fragments simulated: 64371\r\n",
      "  Genome name: Methylobacterium_extorquens_AM1\r\n",
      "  Genome length (bp): 5511322\r\n",
      "  Number of amplicons: None\r\n",
      "  Number of fragments simulated: 78250\r\n"
     ]
    }
   ],
   "source": [
    "!SIPSim fragments \\\n",
    "    genome_index.txt \\\n",
    "    --fp genomes \\\n",
    "    --fld skewed-normal,9000,2500,-5 \\\n",
    "    --flr None,None \\\n",
    "    --nf 100X \\\n",
    "    --np 2 \\\n",
    "    2> shotFrag_skewN90-25-n5-nS.log \\\n",
    "    > shotFrag_skewN90-25-n5-nS.pkl\n",
    "    \n",
    "!tail shotFrag_skewN90-25-n5-nS.log"
   ]
  },
  {
   "cell_type": "markdown",
   "metadata": {},
   "source": [
    "## Converting to 2d-kde objects\n",
    "\n",
    "* Also converts fragment G+C to buoyant density"
   ]
  },
  {
   "cell_type": "code",
   "execution_count": 21,
   "metadata": {
    "collapsed": false
   },
   "outputs": [
    {
     "name": "stdout",
     "output_type": "stream",
     "text": [
      "-rw-rw-r-- 1 nick nick 2.2M Mar  8 09:22 shotFrag_skewN90-25-n5-nS_kde.pkl\r\n"
     ]
    }
   ],
   "source": [
    "!SIPSim fragment_KDE \\\n",
    "    shotFrag_skewN90-25-n5-nS.pkl \\\n",
    "    > shotFrag_skewN90-25-n5-nS_kde.pkl\n",
    "\n",
    "!ls -thlc shotFrag_skewN90-25-n5-nS_kde.pkl"
   ]
  },
  {
   "cell_type": "markdown",
   "metadata": {},
   "source": [
    "## Adding diffusion"
   ]
  },
  {
   "cell_type": "code",
   "execution_count": 25,
   "metadata": {
    "collapsed": false
   },
   "outputs": [
    {
     "name": "stdout",
     "output_type": "stream",
     "text": [
      "Processing: Methylobacterium_extorquens_AM1\n",
      "Processing: Methanosarcina_barkeri_MS\n",
      "-rw-rw-r-- 1 nick nick 7.7M Mar  8 09:26 shotFrag_skewN90-25-n5-nS_dif_kde.pkl\n"
     ]
    }
   ],
   "source": [
    "!SIPSim diffusion \\\n",
    "    shotFrag_skewN90-25-n5-nS_kde.pkl \\\n",
    "    --bw $bandwidth \\\n",
    "    --np 2 \\\n",
    "    > shotFrag_skewN90-25-n5-nS_dif_kde.pkl\n",
    "    \n",
    "!ls -thlc shotFrag_skewN90-25-n5-nS_dif_kde.pkl"
   ]
  },
  {
   "cell_type": "markdown",
   "metadata": {},
   "source": [
    "## Adding DBL smearing"
   ]
  },
  {
   "cell_type": "code",
   "execution_count": 28,
   "metadata": {
    "collapsed": false
   },
   "outputs": [
    {
     "name": "stdout",
     "output_type": "stream",
     "text": [
      "DBL_index file written: \"DBL_index.txt\"\n",
      "Processing: Methylobacterium_extorquens_AM1\n",
      "Processing: Methanosarcina_barkeri_MS\n"
     ]
    }
   ],
   "source": [
    "!SIPSim DBL \\\n",
    "    shotFrag_skewN90-25-n5-nS_dif_kde.pkl \\\n",
    "    --comm comm.txt \\\n",
    "    --commx $DBL_scale \\\n",
    "    --bw $bandwidth \\\n",
    "    --np 2 \\\n",
    "    > shotFrag_skewN90-25-n5-nS_dif_kde_DBL.pkl"
   ]
  },
  {
   "cell_type": "markdown",
   "metadata": {},
   "source": [
    "# SIPSim of amplicon fragments\n",
    "\n",
    "* for comparing to qPCR results"
   ]
  },
  {
   "cell_type": "markdown",
   "metadata": {},
   "source": [
    "## Simulating fragments"
   ]
  },
  {
   "cell_type": "code",
   "execution_count": null,
   "metadata": {
    "collapsed": false
   },
   "outputs": [
    {
     "name": "stdout",
     "output_type": "stream",
     "text": [
      ">Ar109f\r\n",
      "ACKGCTCAGTAACACGT\r\n",
      ">Ar915r\r\n",
      "GTGCTCCCCCGCCAATTCCT\r\n",
      ">Ba519f\r\n",
      "CAGCMGCCGCGGTAANWC\r\n",
      ">Ba907r\r\n",
      "CCGTCAATTCMTTTRAGTT\r\n"
     ]
    }
   ],
   "source": [
    "# primers\n",
    "primers = \"\"\">Ar109f\n",
    "ACKGCTCAGTAACACGT\n",
    ">Ar915r\n",
    "GTGCTCCCCCGCCAATTCCT\n",
    ">Ba519f\n",
    "CAGCMGCCGCGGTAANWC\n",
    ">Ba907r\n",
    "CCGTCAATTCMTTTRAGTT\n",
    "\"\"\"\n",
    "primer_file = 'Ba-Ar_primers.fna'\n",
    "with open(primer_file, 'wb') as outFH:\n",
    "    outFH.write(primers)\n",
    "    \n",
    "!cat $primer_file"
   ]
  },
  {
   "cell_type": "code",
   "execution_count": 16,
   "metadata": {
    "collapsed": false
   },
   "outputs": [
    {
     "name": "stdout",
     "output_type": "stream",
     "text": [
      "Processing: \"Methanosarcina_barkeri_MS\"\r\n",
      "Processing: \"Methylobacterium_extorquens_AM1\"\r\n",
      "  Genome name: Methanosarcina_barkeri_MS\r\n",
      "  Genome length (bp): 4533209\r\n",
      "  Number of amplicons: 3\r\n",
      "  Number of fragments simulated: 10000\r\n",
      "  Genome name: Methylobacterium_extorquens_AM1\r\n",
      "  Genome length (bp): 5511322\r\n",
      "  Number of amplicons: 5\r\n",
      "  Number of fragments simulated: 10000\r\n"
     ]
    }
   ],
   "source": [
    "!SIPSim fragments \\\n",
    "    genome_index.txt \\\n",
    "    --fp genomes_rn \\\n",
    "    --fr Ba-Ar_primers.fna \\\n",
    "    --fld skewed-normal,9000,2500,-5 \\\n",
    "    --flr None,None \\\n",
    "    --nf 10000 \\\n",
    "    --np 2 \\\n",
    "    2> ampFrag_skewN90-25-n5-nS.log \\\n",
    "    > ampFrag_skewN90-25-n5-nS.pkl\n",
    "    \n",
    "!tail ampFrag_skewN90-25-n5-nS.log    "
   ]
  },
  {
   "cell_type": "markdown",
   "metadata": {
    "collapsed": false
   },
   "source": [
    "## Converting to 2d-kde objects\n",
    "\n",
    "* Also converts fragment G+C to buoyant density"
   ]
  },
  {
   "cell_type": "markdown",
   "metadata": {},
   "source": [
    "## Adding diffusion"
   ]
  },
  {
   "cell_type": "markdown",
   "metadata": {},
   "source": [
    "## Adding DBL smearing"
   ]
  }
 ],
 "metadata": {
  "hide_input": true,
  "kernelspec": {
   "display_name": "Python 2",
   "language": "python",
   "name": "python2"
  },
  "language_info": {
   "codemirror_mode": {
    "name": "ipython",
    "version": 2
   },
   "file_extension": ".py",
   "mimetype": "text/x-python",
   "name": "python",
   "nbconvert_exporter": "python",
   "pygments_lexer": "ipython2",
   "version": "2.7.11"
  }
 },
 "nbformat": 4,
 "nbformat_minor": 0
}
