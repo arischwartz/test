{
 "cells": [
  {
   "cell_type": "markdown",
   "metadata": {},
   "source": [
    "# Overview\n",
    "\n",
    "* Goal\n",
    "  * simulating emperical SIP data from validation experiments\n",
    "    * SIP validations consisted of one or a few genomes \n",
    "* Existing datasets\n",
    "  * Lueders et al., 2004 (barkeri vs extorquens)\n",
    "    * Lueders T, Manefield M, Friedrich MW. (2004). Enhanced sensitivity of DNA- and rRNA-based stable isotope probing by fractionation and quantitative analysis of isopycnic centrifugation gradients. Environmental Microbiology 6: 73–78.\n",
    "  * Cupples et al., 2006 (E. coli & M. luteus)\n",
    "    * http://www.sciencedirect.com/science/article/pii/S0944501306000176    \n",
    "  * Wawrik et al, 2009 (Synechococcus)\n",
    "    * http://aem.asm.org/content/75/21/6662.long\n",
    "  * Cupples et al., 2010 (Soil; Polaromonas)\n",
    "    * http://aem.asm.org/content/76/3/956.full.pdf\n",
    "  * Addison et al., 2010 (RNA; N. nitrogenifigens)\n",
    "    * http://www.sciencedirect.com/science/article/pii/S0167701209003534\n",
    "  * Andeer et. al., 2012 (Soil; E. coli, R rhodochrous; Microbacterium)\n",
    "    * http://www.ncbi.nlm.nih.gov/pmc/articles/PMC3255627/pdf/zam163.pdf"
   ]
  },
  {
   "cell_type": "markdown",
   "metadata": {},
   "source": [
    "# Study parameters"
   ]
  },
  {
   "cell_type": "markdown",
   "metadata": {},
   "source": [
    "## Lueders et al., 2004 (barkeri & extorquens)\n",
    " \n",
    "* strain(s)\n",
    "  * Methylobacterium extorquens AM1 DSM 1338\n",
    "  * M. barkeri DSM 800\n",
    "* isotope(s)\n",
    "  * 13C\n",
    "  * assumed 100% incorporation\n",
    "* gradient\n",
    "  * rotor\n",
    "    * TV865 vertical rotor (Sorvall)\n",
    "  * CsCl density\n",
    "    * 1.725 g/ml\n",
    "  * centrifugation \n",
    "    * 20oC\n",
    "    * \\>36h \n",
    "    * 45 000 r.p.m. (177 000 gav)\n",
    "  * fractionation volume\n",
    "    * 400 ul\n",
    "* Abundance quantification\n",
    "  * DNA\n",
    "  * primers\n",
    "    * Ar109f/Ar915r (Lueders and Friedrich, 2003) \n",
    "      * Ar109f (5′-ACK GCT CAG TAA CAC GT-3′)\n",
    "      * Ar915r (5′-GTG CTC CCC CGC CAA TTC CT-3′)\n",
    "    * Ba519f/Ba907 (Stubner, 2002)\n",
    "      * Ba519f (CAGCMGCCGCGGTAANWC)\n",
    "      * Ba907r (CCGTCAATTCMTTTRAGTT)"
   ]
  },
  {
   "cell_type": "markdown",
   "metadata": {},
   "source": [
    "## Cupples et al., 2006 (E. coli & M. luteus)\n",
    "\n",
    "* strain(s)\n",
    "  * E. coli (ATCC 15524)\n",
    "* isotope(s)\n",
    "  * 15N (E. coli & M. luteus)\n",
    "  * 15N + 13C (E. coli)\n",
    "  * assumed 100% incorporation\n",
    "* gradient\n",
    "  * rotor\n",
    "    *  VTi 65.2 vertical rotor (Beckman)\n",
    "  * CsCl density\n",
    "    * 1.725 g/ml ???\n",
    "  * centrifugation \n",
    "    * 20oC\n",
    "    * 30 h\n",
    "    * 228 000 gav \n",
    "  * fractionation volume\n",
    "    * 150 ul\n",
    "  \n",
    "* Abundance quantification\n",
    "  * DNA\n",
    "  * PicoGreen\n",
    "    * **shotgun fragment simulation**"
   ]
  },
  {
   "cell_type": "markdown",
   "metadata": {},
   "source": [
    "## Wawrik et al, 2009 (Synechococcus)\n",
    "\n",
    "* strain(s)\n",
    "  * Synechococcus sp.  strain  WH7803\n",
    "* isotope(s)\n",
    "  * 15N\n",
    "* gradient\n",
    "  * rotor\n",
    "    * Beckman VTI65.2\n",
    "  * CsCl density\n",
    "    * 1.701 g/ml\n",
    "  * centrifugation \n",
    "    * 140000 x g \n",
    "    * 48 h\n",
    "    * 20oC?\n",
    "  * fractionation volume\n",
    "    * 100 ul \n",
    "* Abundance quantification\n",
    "  * DNA\n",
    "  * qPCR\n",
    "    * fwd (CATCAAGCTGTCCGAG)\n",
    "    * rev (TGTTGGCYGTGAAGCC) \n",
    "    "
   ]
  },
  {
   "cell_type": "code",
   "execution_count": null,
   "metadata": {
    "collapsed": true
   },
   "outputs": [],
   "source": []
  }
 ],
 "metadata": {
  "hide_input": true,
  "kernelspec": {
   "display_name": "Python 2",
   "language": "python",
   "name": "python2"
  },
  "language_info": {
   "codemirror_mode": {
    "name": "ipython",
    "version": 2
   },
   "file_extension": ".py",
   "mimetype": "text/x-python",
   "name": "python",
   "nbconvert_exporter": "python",
   "pygments_lexer": "ipython2",
   "version": "2.7.11"
  }
 },
 "nbformat": 4,
 "nbformat_minor": 0
}
