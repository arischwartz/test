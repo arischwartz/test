{
 "cells": [
  {
   "cell_type": "markdown",
   "metadata": {},
   "source": [
    "## Lueders et al., 2004 (barkeri & extorquens)\n",
    " \n",
    "* strain(s)\n",
    "  * Methylobacterium extorquens AM1 DSM 1338\n",
    "    * genome G+C = 68.7\n",
    "  * M. barkeri DSM 800\n",
    "    * *aka* Methanosarcina barkeri MS\n",
    "    * genome G+C = 39.2\n",
    "    * ~63% incorp\n",
    "* isotope(s)\n",
    "  * 13C\n",
    "  * assumed 100% incorporation\n",
    "* gradient\n",
    "  * rotor\n",
    "    * TV865 vertical rotor (Sorvall)\n",
    "      * vertical rotor\n",
    "  * CsCl density\n",
    "    * 1.725 g/ml\n",
    "  * centrifugation \n",
    "    * 20oC\n",
    "    * \\>36h \n",
    "    * 45,000 r.p.m. (177,000 gav)\n",
    "  * fractionation volume\n",
    "    * 400 ul\n",
    "\n",
    "\n",
    "\n",
    "\n",
    "* Abundance quantification\n",
    "  * DNA\n",
    "  * both qPCR & fluorimetrically\n",
    "  * qPCR primers\n",
    "    * Ar109f/Ar915r (Lueders and Friedrich, 2003) \n",
    "      * Ar109f (5′-ACK GCT CAG TAA CAC GT-3′)\n",
    "      * Ar915r (5′-GTG CTC CCC CGC CAA TTC CT-3′)\n",
    "    * Ba519f/Ba907 (Stubner, 2002)\n",
    "      * Ba519f (CAGCMGCCGCGGTAANWC)\n",
    "      * Ba907r (CCGTCAATTCMTTTRAGTT)"
   ]
  },
  {
   "cell_type": "markdown",
   "metadata": {},
   "source": [
    "# Setting variables"
   ]
  },
  {
   "cell_type": "code",
   "execution_count": 175,
   "metadata": {
    "collapsed": true
   },
   "outputs": [],
   "source": [
    "workDir = '/home/nick/notebook/SIPSim/dev/Leuders2004/'\n",
    "\n",
    "# params\n",
    "bw = 0.6\n",
    "DBL_scale = 0.1"
   ]
  },
  {
   "cell_type": "markdown",
   "metadata": {},
   "source": [
    "# Init"
   ]
  },
  {
   "cell_type": "code",
   "execution_count": 2,
   "metadata": {
    "collapsed": true
   },
   "outputs": [],
   "source": [
    "import os\n",
    "%load_ext rpy2.ipython"
   ]
  },
  {
   "cell_type": "code",
   "execution_count": 3,
   "metadata": {
    "collapsed": false
   },
   "outputs": [
    {
     "name": "stderr",
     "output_type": "stream",
     "text": [
      "/opt/anaconda/lib/python2.7/site-packages/rpy2/robjects/functions.py:106: UserWarning: \n",
      "Attaching package: ‘dplyr’\n",
      "\n",
      "\n",
      "  res = super(Function, self).__call__(*new_args, **new_kwargs)\n",
      "/opt/anaconda/lib/python2.7/site-packages/rpy2/robjects/functions.py:106: UserWarning: The following objects are masked from ‘package:stats’:\n",
      "\n",
      "    filter, lag\n",
      "\n",
      "\n",
      "  res = super(Function, self).__call__(*new_args, **new_kwargs)\n",
      "/opt/anaconda/lib/python2.7/site-packages/rpy2/robjects/functions.py:106: UserWarning: The following objects are masked from ‘package:base’:\n",
      "\n",
      "    intersect, setdiff, setequal, union\n",
      "\n",
      "\n",
      "  res = super(Function, self).__call__(*new_args, **new_kwargs)\n",
      "/opt/anaconda/lib/python2.7/site-packages/rpy2/robjects/functions.py:106: UserWarning: Loading required package: XML\n",
      "\n",
      "  res = super(Function, self).__call__(*new_args, **new_kwargs)\n",
      "/opt/anaconda/lib/python2.7/site-packages/rpy2/robjects/functions.py:106: UserWarning: \n",
      "Attaching package: ‘XML’\n",
      "\n",
      "\n",
      "  res = super(Function, self).__call__(*new_args, **new_kwargs)\n",
      "/opt/anaconda/lib/python2.7/site-packages/rpy2/robjects/functions.py:106: UserWarning: The following object is masked from ‘package:tools’:\n",
      "\n",
      "    toHTML\n",
      "\n",
      "\n",
      "  res = super(Function, self).__call__(*new_args, **new_kwargs)\n",
      "/opt/anaconda/lib/python2.7/site-packages/rpy2/robjects/functions.py:106: UserWarning: Loading required package: RCurl\n",
      "\n",
      "  res = super(Function, self).__call__(*new_args, **new_kwargs)\n",
      "/opt/anaconda/lib/python2.7/site-packages/rpy2/robjects/functions.py:106: UserWarning: Loading required package: bitops\n",
      "\n",
      "  res = super(Function, self).__call__(*new_args, **new_kwargs)\n",
      "/opt/anaconda/lib/python2.7/site-packages/rpy2/robjects/functions.py:106: UserWarning: \n",
      "Attaching package: ‘RCurl’\n",
      "\n",
      "\n",
      "  res = super(Function, self).__call__(*new_args, **new_kwargs)\n",
      "/opt/anaconda/lib/python2.7/site-packages/rpy2/robjects/functions.py:106: UserWarning: The following object is masked from ‘package:tidyr’:\n",
      "\n",
      "    complete\n",
      "\n",
      "\n",
      "  res = super(Function, self).__call__(*new_args, **new_kwargs)\n",
      "/opt/anaconda/lib/python2.7/site-packages/rpy2/robjects/functions.py:106: UserWarning: Loading required package: GenomicRanges\n",
      "\n",
      "  res = super(Function, self).__call__(*new_args, **new_kwargs)\n",
      "/opt/anaconda/lib/python2.7/site-packages/rpy2/robjects/functions.py:106: UserWarning: Loading required package: BiocGenerics\n",
      "\n",
      "  res = super(Function, self).__call__(*new_args, **new_kwargs)\n",
      "/opt/anaconda/lib/python2.7/site-packages/rpy2/robjects/functions.py:106: UserWarning: Loading required package: parallel\n",
      "\n",
      "  res = super(Function, self).__call__(*new_args, **new_kwargs)\n",
      "/opt/anaconda/lib/python2.7/site-packages/rpy2/robjects/functions.py:106: UserWarning: \n",
      "Attaching package: ‘BiocGenerics’\n",
      "\n",
      "\n",
      "  res = super(Function, self).__call__(*new_args, **new_kwargs)\n",
      "/opt/anaconda/lib/python2.7/site-packages/rpy2/robjects/functions.py:106: UserWarning: The following objects are masked from ‘package:parallel’:\n",
      "\n",
      "    clusterApply, clusterApplyLB, clusterCall, clusterEvalQ,\n",
      "    clusterExport, clusterMap, parApply, parCapply, parLapply,\n",
      "    parLapplyLB, parRapply, parSapply, parSapplyLB\n",
      "\n",
      "\n",
      "  res = super(Function, self).__call__(*new_args, **new_kwargs)\n",
      "/opt/anaconda/lib/python2.7/site-packages/rpy2/robjects/functions.py:106: UserWarning: The following objects are masked from ‘package:dplyr’:\n",
      "\n",
      "    combine, intersect, setdiff, union\n",
      "\n",
      "\n",
      "  res = super(Function, self).__call__(*new_args, **new_kwargs)\n",
      "/opt/anaconda/lib/python2.7/site-packages/rpy2/robjects/functions.py:106: UserWarning: The following object is masked from ‘package:stats’:\n",
      "\n",
      "    xtabs\n",
      "\n",
      "\n",
      "  res = super(Function, self).__call__(*new_args, **new_kwargs)\n",
      "/opt/anaconda/lib/python2.7/site-packages/rpy2/robjects/functions.py:106: UserWarning: The following objects are masked from ‘package:base’:\n",
      "\n",
      "    anyDuplicated, append, as.data.frame, as.vector, cbind, colnames,\n",
      "    do.call, duplicated, eval, evalq, Filter, Find, get, intersect,\n",
      "    is.unsorted, lapply, Map, mapply, match, mget, order, paste, pmax,\n",
      "    pmax.int, pmin, pmin.int, Position, rank, rbind, Reduce, rep.int,\n",
      "    rownames, sapply, setdiff, sort, table, tapply, union, unique,\n",
      "    unlist, unsplit\n",
      "\n",
      "\n",
      "  res = super(Function, self).__call__(*new_args, **new_kwargs)\n",
      "/opt/anaconda/lib/python2.7/site-packages/rpy2/robjects/functions.py:106: UserWarning: Loading required package: S4Vectors\n",
      "\n",
      "  res = super(Function, self).__call__(*new_args, **new_kwargs)\n",
      "/opt/anaconda/lib/python2.7/site-packages/rpy2/robjects/functions.py:106: UserWarning: Loading required package: stats4\n",
      "\n",
      "  res = super(Function, self).__call__(*new_args, **new_kwargs)\n",
      "/opt/anaconda/lib/python2.7/site-packages/rpy2/robjects/functions.py:106: UserWarning: \n",
      "Attaching package: ‘S4Vectors’\n",
      "\n",
      "\n",
      "  res = super(Function, self).__call__(*new_args, **new_kwargs)\n",
      "/opt/anaconda/lib/python2.7/site-packages/rpy2/robjects/functions.py:106: UserWarning: The following object is masked from ‘package:dplyr’:\n",
      "\n",
      "    rename\n",
      "\n",
      "\n",
      "  res = super(Function, self).__call__(*new_args, **new_kwargs)\n",
      "/opt/anaconda/lib/python2.7/site-packages/rpy2/robjects/functions.py:106: UserWarning: Loading required package: IRanges\n",
      "\n",
      "  res = super(Function, self).__call__(*new_args, **new_kwargs)\n",
      "/opt/anaconda/lib/python2.7/site-packages/rpy2/robjects/functions.py:106: UserWarning: \n",
      "Attaching package: ‘IRanges’\n",
      "\n",
      "\n",
      "  res = super(Function, self).__call__(*new_args, **new_kwargs)\n",
      "/opt/anaconda/lib/python2.7/site-packages/rpy2/robjects/functions.py:106: UserWarning: The following object is masked from ‘package:tidyr’:\n",
      "\n",
      "    expand\n",
      "\n",
      "\n",
      "  res = super(Function, self).__call__(*new_args, **new_kwargs)\n",
      "/opt/anaconda/lib/python2.7/site-packages/rpy2/robjects/functions.py:106: UserWarning: The following objects are masked from ‘package:dplyr’:\n",
      "\n",
      "    collapse, desc, slice\n",
      "\n",
      "\n",
      "  res = super(Function, self).__call__(*new_args, **new_kwargs)\n",
      "/opt/anaconda/lib/python2.7/site-packages/rpy2/robjects/functions.py:106: UserWarning: Loading required package: GenomeInfoDb\n",
      "\n",
      "  res = super(Function, self).__call__(*new_args, **new_kwargs)\n",
      "/opt/anaconda/lib/python2.7/site-packages/rpy2/robjects/functions.py:106: UserWarning: Loading required package: Biostrings\n",
      "\n",
      "  res = super(Function, self).__call__(*new_args, **new_kwargs)\n",
      "/opt/anaconda/lib/python2.7/site-packages/rpy2/robjects/functions.py:106: UserWarning: Loading required package: XVector\n",
      "\n",
      "  res = super(Function, self).__call__(*new_args, **new_kwargs)\n",
      "/opt/anaconda/lib/python2.7/site-packages/rpy2/robjects/functions.py:106: UserWarning: \n",
      "Attaching package: ‘genomes’\n",
      "\n",
      "\n",
      "  res = super(Function, self).__call__(*new_args, **new_kwargs)\n",
      "/opt/anaconda/lib/python2.7/site-packages/rpy2/robjects/functions.py:106: UserWarning: The following object is masked from ‘package:GenomeInfoDb’:\n",
      "\n",
      "    species\n",
      "\n",
      "\n",
      "  res = super(Function, self).__call__(*new_args, **new_kwargs)\n"
     ]
    }
   ],
   "source": [
    "%%R\n",
    "library(ggplot2)\n",
    "library(dplyr)\n",
    "library(tidyr)\n",
    "library(genomes)"
   ]
  },
  {
   "cell_type": "code",
   "execution_count": 4,
   "metadata": {
    "collapsed": false
   },
   "outputs": [
    {
     "name": "stdout",
     "output_type": "stream",
     "text": [
      "/home/nick/notebook/SIPSim/dev/Leuders2004\n"
     ]
    }
   ],
   "source": [
    "if not os.path.isdir(workDir):\n",
    "    os.makedirs(workDir)\n",
    "%cd $workDir"
   ]
  },
  {
   "cell_type": "markdown",
   "metadata": {},
   "source": [
    "# Getting genomes"
   ]
  },
  {
   "cell_type": "code",
   "execution_count": 5,
   "metadata": {
    "collapsed": false
   },
   "outputs": [
    {
     "data": {
      "text/plain": [
       "$`Total genomes`\n",
       "[1] 27570 genome projects on Sep 04, 2014\n",
       "\n",
       "$`By status`\n",
       "                     Total\n",
       "Contig               13074\n",
       "Scaffold             10718\n",
       "Gapless Chromosome    3053\n",
       "Chromosome             373\n",
       "Chromosome with gaps   343\n",
       "Complete                 9\n",
       "\n",
       "$`Recent submissions`\n",
       "  released   name                      status  \n",
       "1 2014-09-02 Altuibacter lentus        Scaffold\n",
       "2 2014-09-02 Bacillus cereus ATCC 4342 Scaffold\n",
       "3 2014-09-02 Bacillus licheniformis    Scaffold\n",
       "4 2014-09-02 Bacillus megaterium       Scaffold\n",
       "5 2014-09-02 Paenibacillus macerans    Scaffold\n",
       "\n"
      ]
     },
     "metadata": {},
     "output_type": "display_data"
    }
   ],
   "source": [
    "%%R\n",
    "data(proks)\n",
    "summary(proks)"
   ]
  },
  {
   "cell_type": "code",
   "execution_count": 6,
   "metadata": {
    "collapsed": false
   },
   "outputs": [
    {
     "name": "stderr",
     "output_type": "stream",
     "text": [
      "/opt/anaconda/lib/python2.7/site-packages/rpy2/robjects/functions.py:106: UserWarning: proks has been successfully updated\n",
      "\n",
      "  res = super(Function, self).__call__(*new_args, **new_kwargs)\n",
      "/opt/anaconda/lib/python2.7/site-packages/rpy2/robjects/functions.py:106: UserWarning: 33548 new project IDs added\n",
      "\n",
      "  res = super(Function, self).__call__(*new_args, **new_kwargs)\n",
      "/opt/anaconda/lib/python2.7/site-packages/rpy2/robjects/functions.py:106: UserWarning: 246 old project IDs removed\n",
      "\n",
      "  res = super(Function, self).__call__(*new_args, **new_kwargs)\n"
     ]
    },
    {
     "data": {
      "text/plain": [
       "$`Total genomes`\n",
       "[1] 61484 genome projects on Mar 11, 2016\n",
       "\n",
       "$`By status`\n",
       "                Total\n",
       "Contig          28292\n",
       "Scaffold        27266\n",
       "Complete Genome  5039\n",
       "Chromosome        887\n",
       "\n",
       "$`Recent submissions`\n",
       "  released   name                         status  \n",
       "1 2016-03-04 Akkermansia sp. KLE1798      Scaffold\n",
       "2 2016-03-04 Escherichia coli             Contig  \n",
       "3 2016-03-03 Bacillus cereus              Scaffold\n",
       "4 2016-03-03 Bacteroides cellulosilyticus Scaffold\n",
       "5 2016-03-03 Bacteroides fragilis         Scaffold\n",
       "\n"
      ]
     },
     "metadata": {},
     "output_type": "display_data"
    }
   ],
   "source": [
    "%%R\n",
    "update(proks)\n",
    "summary(proks)"
   ]
  },
  {
   "cell_type": "code",
   "execution_count": null,
   "metadata": {
    "collapsed": false
   },
   "outputs": [],
   "source": [
    "%%R\n",
    "M.ext = subset(proks, name %like% 'Methylobacterium extorquens AM1*')\n",
    "M.bark = subset(proks, name %like% 'Methanosarcina barkeri MS*')\n",
    "orgs = rbind(M.ext, M.bark)\n",
    "\n",
    "\n",
    "orgFile = 'genome_info.txt'\n",
    "write.table(orgs, orgFile, sep='\\t', quote=FALSE, row.names=FALSE)\n",
    "cat('File written:', orgFile, '\\n')"
   ]
  },
  {
   "cell_type": "code",
   "execution_count": null,
   "metadata": {
    "collapsed": false
   },
   "outputs": [],
   "source": [
    "!seqDB_tools accession-GI2fasta \\\n",
    "        -a 11 -n 2 -f 30 -header \\\n",
    "        -o genomes \\\n",
    "        genome_info.txt "
   ]
  },
  {
   "cell_type": "code",
   "execution_count": null,
   "metadata": {
    "collapsed": false
   },
   "outputs": [],
   "source": [
    "!ls -thlc genomes/*.fna"
   ]
  },
  {
   "cell_type": "markdown",
   "metadata": {},
   "source": [
    "## renaming genome sequences"
   ]
  },
  {
   "cell_type": "code",
   "execution_count": null,
   "metadata": {
    "collapsed": false
   },
   "outputs": [],
   "source": [
    "!find ./genomes/ -name \"*.fna\" |\\\n",
    "    xargs -P 2 -I % SIPSim genome_rename --prefix genomes_rn %"
   ]
  },
  {
   "cell_type": "markdown",
   "metadata": {},
   "source": [
    "## Indexing genomes"
   ]
  },
  {
   "cell_type": "code",
   "execution_count": null,
   "metadata": {
    "collapsed": false
   },
   "outputs": [],
   "source": [
    "# making a genome index file\n",
    "## taxonName<tab>genomeSeqFileName\n",
    "!ls -1 genomes_rn/*fna | perl -pe 's/.+\\/|\\.fna//g; s/(.+)/$1\\t$1.fna/' > genome_index.txt\n",
    "!cat genome_index.txt"
   ]
  },
  {
   "cell_type": "code",
   "execution_count": null,
   "metadata": {
    "collapsed": false
   },
   "outputs": [],
   "source": [
    "!SIPSim genome_index \\\n",
    "    --fp ./genomes_rn/ \\\n",
    "    --np 2 \\\n",
    "    genome_index.txt \\\n",
    "    > genome_index.log\n",
    "    \n",
    "!tail genome_index.log    "
   ]
  },
  {
   "cell_type": "markdown",
   "metadata": {},
   "source": [
    "# Simulating a gradient community"
   ]
  },
  {
   "cell_type": "code",
   "execution_count": 8,
   "metadata": {
    "collapsed": false
   },
   "outputs": [
    {
     "name": "stdout",
     "output_type": "stream",
     "text": [
      "library\ttaxon_name\trel_abund_perc\trank\r\n",
      "1\tMethanosarcina_barkeri_MS\t100.0\t1\r\n",
      "1\tMethylobacterium_extorquens_AM1\t0.0\t2\r\n",
      "2\tMethylobacterium_extorquens_AM1\t100.0\t1\r\n",
      "2\tMethanosarcina_barkeri_MS\t0.0\t2\r\n"
     ]
    }
   ],
   "source": [
    "comm = \"\"\"library\ttaxon_name\trel_abund_perc\trank\n",
    "1\tMethanosarcina_barkeri_MS\t100.0\t1\n",
    "1\tMethylobacterium_extorquens_AM1\t0.0\t2\n",
    "2\tMethylobacterium_extorquens_AM1\t100.0\t1\n",
    "2\tMethanosarcina_barkeri_MS\t0.0\t2\n",
    "\"\"\"\n",
    "\n",
    "comm_file = 'comm-n2-unif.txt'\n",
    "with open(comm_file, 'wb') as oFH:\n",
    "    oFH.write(comm)\n",
    "    \n",
    "!cat $comm_file"
   ]
  },
  {
   "cell_type": "markdown",
   "metadata": {},
   "source": [
    "# Simulating gradient fractions"
   ]
  },
  {
   "cell_type": "code",
   "execution_count": 117,
   "metadata": {
    "collapsed": false
   },
   "outputs": [
    {
     "name": "stdout",
     "output_type": "stream",
     "text": [
      "39 fracs-n2-unif.txt\n",
      "library\tfraction\tBD_min\tBD_max\tfraction_size\n",
      "1\t1\t1.66\t1.662\t0.002\n",
      "1\t2\t1.662\t1.668\t0.006\n",
      "1\t3\t1.668\t1.676\t0.008\n",
      "1\t4\t1.676\t1.684\t0.008\n",
      "2\t15\t1.76\t1.767\t0.007\n",
      "2\t16\t1.767\t1.777\t0.01\n",
      "2\t17\t1.777\t1.785\t0.008\n",
      "2\t18\t1.785\t1.792\t0.007\n",
      "2\t19\t1.792\t1.8\t0.008\n"
     ]
    }
   ],
   "source": [
    "!SIPSim gradient_fractions \\\n",
    "    --BD_min 1.66 \\\n",
    "    --BD_max 1.8 \\\n",
    "    --params mu:0.0075,sigma:0.001 \\\n",
    "    comm-n2-unif.txt \\\n",
    "    > fracs-n2-unif.txt\n",
    "\n",
    "!wc -l fracs-n2-unif.txt\n",
    "!head -n 5 fracs-n2-unif.txt\n",
    "!tail -n 5 fracs-n2-unif.txt"
   ]
  },
  {
   "cell_type": "code",
   "execution_count": 118,
   "metadata": {
    "collapsed": false
   },
   "outputs": [
    {
     "data": {
      "text/plain": [
       "Source: local data frame [2 x 2]\n",
       "\n",
       "  library     n\n",
       "    (int) (int)\n",
       "1       1    19\n",
       "2       2    19\n"
      ]
     },
     "metadata": {},
     "output_type": "display_data"
    },
    {
     "data": {
      "image/png": "[encoded data removed]"
     },
     "metadata": {},
     "output_type": "display_data"
    }
   ],
   "source": [
    "%%R -w 800 -h 300\n",
    "# plotting\n",
    "df = read.delim('fracs-n2-unif.txt', sep='\\t')\n",
    "\n",
    "df %>%\n",
    "    group_by(library) %>%\n",
    "    summarize(n=n()) %>%\n",
    "    print\n",
    "\n",
    "ggplot(df, aes(BD_min, fraction_size, group=library, color=library %>% as.character)) +\n",
    "    geom_point() +\n",
    "    geom_line() +\n",
    "    scale_x_continuous(breaks=seq(1.66, 1.8, 0.01)) +\n",
    "    scale_color_discrete('gradient') +\n",
    "    labs(x='Buoyant density', y='Fraction size (buoyant density)') +\n",
    "    theme_bw() +\n",
    "    theme(\n",
    "        text = element_text(size=16)\n",
    "    )"
   ]
  },
  {
   "cell_type": "markdown",
   "metadata": {},
   "source": [
    "# SIPSim of shotgun fragments\n",
    "\n",
    "* for comparing to fluormetric quanitification"
   ]
  },
  {
   "cell_type": "code",
   "execution_count": 32,
   "metadata": {
    "collapsed": false
   },
   "outputs": [
    {
     "name": "stdout",
     "output_type": "stream",
     "text": [
      "Processing: \"Methanosarcina_barkeri_MS\"\r\n",
      "Processing: \"Methylobacterium_extorquens_AM1\"\r\n",
      "  Genome name: Methanosarcina_barkeri_MS\r\n",
      "  Genome length (bp): 4533209\r\n",
      "  Number of amplicons: None\r\n",
      "  Number of fragments simulated: 64391\r\n",
      "  Genome name: Methylobacterium_extorquens_AM1\r\n",
      "  Genome length (bp): 5511322\r\n",
      "  Number of amplicons: None\r\n",
      "  Number of fragments simulated: 78333\r\n"
     ]
    }
   ],
   "source": [
    "!SIPSim fragments \\\n",
    "    genome_index.txt \\\n",
    "    --fp genomes \\\n",
    "    --fld skewed-normal,9000,2500,-5 \\\n",
    "    --flr None,None \\\n",
    "    --nf 100X \\\n",
    "    --np 2 \\\n",
    "    2> shotFrag_skewN90-25-n5-nS.log \\\n",
    "    > shotFrag_skewN90-25-n5-nS.pkl\n",
    "    \n",
    "!tail shotFrag_skewN90-25-n5-nS.log"
   ]
  },
  {
   "cell_type": "markdown",
   "metadata": {},
   "source": [
    "## Converting to 2d-kde objects\n",
    "\n",
    "* Also converts fragment G+C to buoyant density"
   ]
  },
  {
   "cell_type": "code",
   "execution_count": 207,
   "metadata": {
    "collapsed": false
   },
   "outputs": [
    {
     "name": "stdout",
     "output_type": "stream",
     "text": [
      "-rw-rw-r-- 1 nick nick 2.2M Mar 11 12:59 shotFrag_skewN90-25-n5-nS_kde.pkl\r\n"
     ]
    }
   ],
   "source": [
    "!SIPSim fragment_KDE \\\n",
    "    shotFrag_skewN90-25-n5-nS.pkl \\\n",
    "    --bw $bandwidth \\\n",
    "    > shotFrag_skewN90-25-n5-nS_kde.pkl\n",
    "\n",
    "!ls -thlc shotFrag_skewN90-25-n5-nS_kde.pkl"
   ]
  },
  {
   "cell_type": "markdown",
   "metadata": {},
   "source": [
    "## Adding diffusion"
   ]
  },
  {
   "cell_type": "code",
   "execution_count": 208,
   "metadata": {
    "collapsed": false
   },
   "outputs": [
    {
     "name": "stdout",
     "output_type": "stream",
     "text": [
      "Processing: Methylobacterium_extorquens_AM1\n",
      "Processing: Methanosarcina_barkeri_MS\n",
      "-rw-rw-r-- 1 nick nick 7.7M Mar 11 12:59 shotFrag_skewN90-25-n5-nS_dif_kde.pkl\n"
     ]
    }
   ],
   "source": [
    "!SIPSim diffusion \\\n",
    "    shotFrag_skewN90-25-n5-nS_kde.pkl \\\n",
    "    --np 2 \\\n",
    "    --bw $bandwidth \\\n",
    "    > shotFrag_skewN90-25-n5-nS_dif_kde.pkl\n",
    "    \n",
    "!ls -thlc shotFrag_skewN90-25-n5-nS_dif_kde.pkl"
   ]
  },
  {
   "cell_type": "markdown",
   "metadata": {},
   "source": [
    "## Adding DBL smearing"
   ]
  },
  {
   "cell_type": "code",
   "execution_count": 209,
   "metadata": {
    "collapsed": false
   },
   "outputs": [
    {
     "name": "stdout",
     "output_type": "stream",
     "text": [
      "DBL_index file written: \"DBL_index.txt\"\n",
      "Processing: Methylobacterium_extorquens_AM1\n",
      "Processing: Methanosarcina_barkeri_MS\n",
      "Processing: Methylobacterium_extorquens_AM1\n",
      "Processing: Methanosarcina_barkeri_MS\n"
     ]
    }
   ],
   "source": [
    "!SIPSim DBL \\\n",
    "    shotFrag_skewN90-25-n5-nS_dif_kde.pkl \\\n",
    "    --comm comm-n2-unif.txt \\\n",
    "    --commx $DBL_scale \\\n",
    "    -D 1.725 \\\n",
    "    -w 19807714 \\\n",
    "    --tube_height 5.1 \\\n",
    "    --r_min 7.47 \\\n",
    "    --r_max 8.79 \\\n",
    "    --vertical \\\n",
    "    --np 2 \\\n",
    "    > shotFrag_skewN90-25-n5-nS_dif_kde_DBL.pkl"
   ]
  },
  {
   "cell_type": "markdown",
   "metadata": {},
   "source": [
    "## Simulating isotope incorporation"
   ]
  },
  {
   "cell_type": "code",
   "execution_count": null,
   "metadata": {
    "collapsed": true
   },
   "outputs": [],
   "source": [
    "# making config file\n",
    "config = \"\"\"\n",
    "[1]\n",
    "  # baseline: no incorp\n",
    "  \n",
    "  [[intraPopDist 1]]\n",
    "  distribution = uniform\n",
    "\n",
    "    [[[start]]]\n",
    "\n",
    "      [[[[interPopDist 1]]]]\n",
    "        distribution = uniform\n",
    "        start = 0\n",
    "        end = 0\n",
    "\n",
    "    [[[end]]]\n",
    "\n",
    "      [[[[interPopDist 1]]]]\n",
    "        distribution = uniform\n",
    "        start = 0\n",
    "        end = 0\n",
    "        \n",
    "[2]\n",
    "  # half of taxa incorporate\n",
    "  max_perc_taxa_incorp = 100\n",
    "  \n",
    "  [[intraPopDist 1]]\n",
    "  distribution = uniform\n",
    "\n",
    "    [[[start]]]\n",
    "\n",
    "      [[[[interPopDist 1]]]]\n",
    "        distribution = uniform\n",
    "        start = 100\n",
    "        end = 100\n",
    "\n",
    "    [[[end]]]\n",
    "\n",
    "      [[[[interPopDist 1]]]]\n",
    "        distribution = uniform\n",
    "        start = 100\n",
    "        end = 100 \n",
    "\"\"\"\n",
    "\n",
    "outfile = os.path.join(workDir, 'incorp.config')\n",
    "\n",
    "outf = open(outfile, 'wb')\n",
    "outf.write(config)\n",
    "outf.close()"
   ]
  },
  {
   "cell_type": "code",
   "execution_count": null,
   "metadata": {
    "collapsed": false
   },
   "outputs": [
    {
     "name": "stdout",
     "output_type": "stream",
     "text": [
      "Loading KDE object...\n",
      "Processing library: 1\n",
      "Processing: Methylobacterium_extorquens_AM1\n",
      "Processing: Methanosarcina_barkeri_MS\n",
      "Processing library: 2\n",
      "Processing: Methylobacterium_extorquens_AM1\n",
      "Processing: Methanosarcina_barkeri_MS\n"
     ]
    }
   ],
   "source": [
    "!SIPSim isotope_incorp \\\n",
    "    shotFrag_skewN90-25-n5-nS_dif_kde_DBL.pkl \\\n",
    "    incorp.config \\\n",
    "    --comm comm-n2-unif.txt \\\n",
    "    --np 2 \\\n",
    "    > shotFrag_skewN90-25-n5-nS_dif_kde_DBL_incorp.pkl "
   ]
  },
  {
   "cell_type": "markdown",
   "metadata": {},
   "source": [
    "## Calculating BD shift from incorporation \n",
    "\n",
    "* KDEs: \n",
    "  * BD-diffusion\n",
    "  * BD-diffusion-isoIncorp\n",
    "* BD_shift = 1 - KDE_intersection"
   ]
  },
  {
   "cell_type": "code",
   "execution_count": null,
   "metadata": {
    "collapsed": false
   },
   "outputs": [],
   "source": [
    "# !SIPSim BD_shift \\\n",
    "#     shotFrag_skewN90-25-n5-nS_dif_kde_DBL.pkl \\\n",
    "#     shotFrag_skewN90-25-n5-nS_dif_kde_DBL_incorp.pkl \\\n",
    "#     --np 2 \\\n",
    "#     > shotFrag_skewN90-25-n5-nS_BD-shift.txt\n",
    " \n",
    "# !cat shotFrag_skewN90-25-n5-nS_BD-shift.txt"
   ]
  },
  {
   "cell_type": "markdown",
   "metadata": {},
   "source": [
    "## Making OTU table"
   ]
  },
  {
   "cell_type": "code",
   "execution_count": null,
   "metadata": {
    "collapsed": false
   },
   "outputs": [],
   "source": [
    "!SIPSim OTU_table \\\n",
    "    shotFrag_skewN90-25-n5-nS_dif_kde_DBL_incorp.pkl \\\n",
    "    comm-n2-unif.txt \\\n",
    "    fracs-n2-unif.txt \\\n",
    "    --abs 1e7 \\\n",
    "    --np 2 \\\n",
    "    > shotFrag_OTU_n2_abs1e9.txt\n",
    "    \n",
    "!head shotFrag_OTU_n2_abs1e9.txt"
   ]
  },
  {
   "cell_type": "markdown",
   "metadata": {},
   "source": [
    "## Plotting OTU abundances"
   ]
  },
  {
   "cell_type": "code",
   "execution_count": null,
   "metadata": {
    "collapsed": false
   },
   "outputs": [],
   "source": [
    "%%R -i workDir\n",
    "\n",
    "# loading file\n",
    "F = file.path(workDir, 'shotFrag_OTU_n2_abs1e9.txt')\n",
    "df =  read.delim(F)\n",
    "\n",
    "df1 = df %>%\n",
    "    filter(library == 1,\n",
    "           taxon == 'Methanosarcina_barkeri_MS')\n",
    "df2 = df %>%\n",
    "    filter(library == 2,\n",
    "           taxon == 'Methylobacterium_extorquens_AM1')\n",
    "df = rbind(df1, df2)\n",
    "\n",
    "df = df %>% \n",
    "    group_by(library) %>%\n",
    "    mutate(rel_abund = count / max(count)) %>%\n",
    "    ungroup()\n",
    "df %>% head(n=3) %>% as.data.frame"
   ]
  },
  {
   "cell_type": "code",
   "execution_count": null,
   "metadata": {
    "collapsed": false
   },
   "outputs": [],
   "source": [
    "%%R -w 500 -h 300\n",
    "\n",
    "# max possible shift for M barkeri (using mean G+C)\n",
    "max_shift = 1.727326 + 0.036\n",
    "\n",
    "# plotting\n",
    "p = ggplot(df, aes(BD_min, rel_abund, color=taxon)) +\n",
    "    geom_point(size=3.5) +\n",
    "    geom_line() +\n",
    "    #geom_vline(xintercept=c(1.698416, 1.727326), linetype='dashed', alpha=0.5) +\n",
    "    #geom_vline(xintercept=c(max_shift), linetype='dashed', alpha=0.5, color='blue') +\n",
    "    scale_x_continuous(limits=c(1.68, 1.78), breaks=seq(1.68, 1.78, 0.02)) +\n",
    "    scale_color_discrete('') +\n",
    "    labs(x='CsCl buoyant density [g ml^-1]', y='Ratio of maximum quantities', \n",
    "         title='All DNA fragments') +\n",
    "    theme_bw() +\n",
    "    theme( \n",
    "        text = element_text(size=16),\n",
    "        legend.position = 'bottom'\n",
    "    )\n",
    "p"
   ]
  },
  {
   "cell_type": "markdown",
   "metadata": {},
   "source": [
    "# SIPSim of amplicon fragments\n",
    "\n",
    "* for comparing to qPCR results"
   ]
  },
  {
   "cell_type": "markdown",
   "metadata": {},
   "source": [
    "## Simulating fragments"
   ]
  },
  {
   "cell_type": "code",
   "execution_count": 136,
   "metadata": {
    "collapsed": false
   },
   "outputs": [
    {
     "name": "stdout",
     "output_type": "stream",
     "text": [
      ">Ar109f\r\n",
      "ACKGCTCAGTAACACGT\r\n",
      ">Ar915r\r\n",
      "GTGCTCCCCCGCCAATTCCT\r\n",
      ">Ba519f\r\n",
      "CAGCMGCCGCGGTAANWC\r\n",
      ">Ba907r\r\n",
      "CCGTCAATTCMTTTRAGTT\r\n"
     ]
    }
   ],
   "source": [
    "# primers\n",
    "primers = \"\"\">Ar109f\n",
    "ACKGCTCAGTAACACGT\n",
    ">Ar915r\n",
    "GTGCTCCCCCGCCAATTCCT\n",
    ">Ba519f\n",
    "CAGCMGCCGCGGTAANWC\n",
    ">Ba907r\n",
    "CCGTCAATTCMTTTRAGTT\n",
    "\"\"\"\n",
    "primer_file = 'Ba-Ar_primers.fna'\n",
    "with open(primer_file, 'wb') as outFH:\n",
    "    outFH.write(primers)\n",
    "    \n",
    "!cat $primer_file"
   ]
  },
  {
   "cell_type": "code",
   "execution_count": 137,
   "metadata": {
    "collapsed": false
   },
   "outputs": [
    {
     "name": "stdout",
     "output_type": "stream",
     "text": [
      "Processing: \"Methanosarcina_barkeri_MS\"\r\n",
      "Processing: \"Methylobacterium_extorquens_AM1\"\r\n",
      "  Genome name: Methanosarcina_barkeri_MS\r\n",
      "  Genome name: Methylobacterium_extorquens_AM1\r\n",
      "  Genome length (bp): 4533209\r\n",
      "  Number of amplicons: 3\r\n",
      "  Number of fragments simulated: 10000\r\n",
      "  Genome length (bp): 5511322\r\n",
      "  Number of amplicons: 5\r\n",
      "  Number of fragments simulated: 10000\r\n"
     ]
    }
   ],
   "source": [
    "!SIPSim fragments \\\n",
    "    genome_index.txt \\\n",
    "    --fp genomes_rn \\\n",
    "    --fr Ba-Ar_primers.fna \\\n",
    "    --fld skewed-normal,9000,2500,-5 \\\n",
    "    --flr None,None \\\n",
    "    --nf 10000 \\\n",
    "    --np 2 \\\n",
    "    2> ampFrag_skewN90-25-n5-nS.log \\\n",
    "    > ampFrag_skewN90-25-n5-nS.pkl\n",
    "    \n",
    "!tail ampFrag_skewN90-25-n5-nS.log    "
   ]
  },
  {
   "cell_type": "markdown",
   "metadata": {
    "collapsed": false
   },
   "source": [
    "## Converting to 2d-kde objects\n",
    "\n",
    "* Also converts fragment G+C to buoyant density"
   ]
  },
  {
   "cell_type": "code",
   "execution_count": 138,
   "metadata": {
    "collapsed": false
   },
   "outputs": [
    {
     "name": "stdout",
     "output_type": "stream",
     "text": [
      "-rw-rw-r-- 1 nick nick 314K Mar 11 09:14 ampFrag_skewN90-25-n5-nS_kde.pkl\r\n"
     ]
    }
   ],
   "source": [
    "!SIPSim fragment_KDE \\\n",
    "    ampFrag_skewN90-25-n5-nS.pkl \\\n",
    "    > ampFrag_skewN90-25-n5-nS_kde.pkl\n",
    "\n",
    "!ls -thlc ampFrag_skewN90-25-n5-nS_kde.pkl"
   ]
  },
  {
   "cell_type": "markdown",
   "metadata": {},
   "source": [
    "## Adding diffusion"
   ]
  },
  {
   "cell_type": "code",
   "execution_count": 139,
   "metadata": {
    "collapsed": false
   },
   "outputs": [
    {
     "name": "stdout",
     "output_type": "stream",
     "text": [
      "Processing: Methylobacterium_extorquens_AM1\n",
      "Processing: Methanosarcina_barkeri_MS\n",
      "-rw-rw-r-- 1 nick nick 7.7M Mar 11 09:14 ampFrag_skewN90-25-n5-nS_dif_kde.pkl\n"
     ]
    }
   ],
   "source": [
    "!SIPSim diffusion \\\n",
    "    ampFrag_skewN90-25-n5-nS_kde.pkl \\\n",
    "    --np 2 \\\n",
    "    > ampFrag_skewN90-25-n5-nS_dif_kde.pkl\n",
    "    \n",
    "!ls -thlc ampFrag_skewN90-25-n5-nS_dif_kde.pkl"
   ]
  },
  {
   "cell_type": "markdown",
   "metadata": {},
   "source": [
    "## Adding DBL smearing"
   ]
  },
  {
   "cell_type": "code",
   "execution_count": 146,
   "metadata": {
    "collapsed": false
   },
   "outputs": [
    {
     "name": "stdout",
     "output_type": "stream",
     "text": [
      "DBL_index file written: \"DBL_index.txt\"\n",
      "Processing: Methylobacterium_extorquens_AM1\n",
      "Processing: Methanosarcina_barkeri_MS\n",
      "Processing: Methylobacterium_extorquens_AM1\n",
      "Processing: Methanosarcina_barkeri_MS\n"
     ]
    }
   ],
   "source": [
    "!SIPSim DBL \\\n",
    "    ampFrag_skewN90-25-n5-nS_dif_kde.pkl \\\n",
    "    --comm comm-n2-unif.txt \\\n",
    "    --commx $DBL_scale \\\n",
    "    -D 1.725 \\\n",
    "    -w 19807714 \\\n",
    "    --tube_height 5.1 \\\n",
    "    --r_min 7.47 \\\n",
    "    --r_max 8.79 \\\n",
    "    --vertical \\\n",
    "    --np 2 \\\n",
    "    > ampFrag_skewN90-25-n5-nS_dif_kde_DBL.pkl"
   ]
  },
  {
   "cell_type": "markdown",
   "metadata": {},
   "source": [
    "## Simulating isotope incorporation"
   ]
  },
  {
   "cell_type": "code",
   "execution_count": 147,
   "metadata": {
    "collapsed": false
   },
   "outputs": [
    {
     "name": "stdout",
     "output_type": "stream",
     "text": [
      "Loading KDE object...\n",
      "Processing library: 1\n",
      "Processing: Methylobacterium_extorquens_AM1\n",
      "Processing: Methanosarcina_barkeri_MS\n",
      "Processing library: 2\n",
      "Processing: Methylobacterium_extorquens_AM1\n",
      "Processing: Methanosarcina_barkeri_MS\n"
     ]
    }
   ],
   "source": [
    "!SIPSim isotope_incorp \\\n",
    "    ampFrag_skewN90-25-n5-nS_dif_kde_DBL.pkl \\\n",
    "    incorp.config \\\n",
    "    --comm comm-n2-unif.txt \\\n",
    "    --np 2 \\\n",
    "    > ampFrag_skewN90-25-n5-nS_dif_kde_DBL_incorp.pkl "
   ]
  },
  {
   "cell_type": "markdown",
   "metadata": {},
   "source": [
    "## Calculating BD shift from incorporation \n",
    "\n",
    "* KDEs: \n",
    "  * BD-diffusion\n",
    "  * BD-diffusion-isoIncorp\n",
    "* BD_shift = 1 - KDE_intersection"
   ]
  },
  {
   "cell_type": "code",
   "execution_count": 148,
   "metadata": {
    "collapsed": false
   },
   "outputs": [
    {
     "name": "stdout",
     "output_type": "stream",
     "text": [
      "Loading KDE objects...\n",
      "Calculating BD shifts...\n",
      "  Comparing libraries: \"1\", \"1\"\n",
      "  Processing: Methylobacterium_extorquens_AM1\n",
      "  Processing: Methanosarcina_barkeri_MS\n",
      "  Comparing libraries: \"1\", \"2\"\n",
      "  Processing: Methylobacterium_extorquens_AM1\n",
      "  Processing: Methanosarcina_barkeri_MS\n",
      "  Comparing libraries: \"2\", \"1\"\n",
      "  Processing: Methylobacterium_extorquens_AM1\n",
      "  Processing: Methanosarcina_barkeri_MS\n",
      "  Comparing libraries: \"2\", \"2\"\n",
      "  Processing: Methylobacterium_extorquens_AM1\n",
      "  Processing: Methanosarcina_barkeri_MS\n",
      "lib1\tlib2\ttaxon\tBD_shift\n",
      "1\t1\tMethylobacterium_extorquens_AM1\t0.00333026924523\n",
      "1\t1\tMethanosarcina_barkeri_MS\t0.0293392269894\n",
      "1\t2\tMethylobacterium_extorquens_AM1\t0.983845123912\n",
      "1\t2\tMethanosarcina_barkeri_MS\t0.984520913805\n",
      "2\t1\tMethylobacterium_extorquens_AM1\t0.0904310773936\n",
      "2\t1\tMethanosarcina_barkeri_MS\t0.119498840539\n",
      "2\t2\tMethylobacterium_extorquens_AM1\t0.919059748235\n",
      "2\t2\tMethanosarcina_barkeri_MS\t0.999243471639\n"
     ]
    }
   ],
   "source": [
    "!SIPSim BD_shift \\\n",
    "    ampFrag_skewN90-25-n5-nS_dif_kde_DBL.pkl \\\n",
    "    ampFrag_skewN90-25-n5-nS_dif_kde_DBL_incorp.pkl \\\n",
    "    --np 2 \\\n",
    "    > ampFrag_skewN90-25-n5-nS_BD-shift.txt\n",
    " \n",
    "!cat ampFrag_skewN90-25-n5-nS_BD-shift.txt"
   ]
  },
  {
   "cell_type": "markdown",
   "metadata": {},
   "source": [
    "## Making OTU table"
   ]
  },
  {
   "cell_type": "code",
   "execution_count": 149,
   "metadata": {
    "collapsed": false
   },
   "outputs": [
    {
     "name": "stdout",
     "output_type": "stream",
     "text": [
      "Loading files...\n",
      "Simulating OTUs...\n",
      "Processing library: \"1\"\n",
      "  Processing taxon: \"Methanosarcina_barkeri_MS\"\n",
      "   taxon abs-abundance:  1000000000\n",
      "  Processing taxon: \"Methylobacterium_extorquens_AM1\"\n",
      "   taxon abs-abundance:  0\n",
      "Processing library: \"2\"\n",
      "  Processing taxon: \"Methanosarcina_barkeri_MS\"\n",
      "   taxon abs-abundance:  0\n",
      "  Processing taxon: \"Methylobacterium_extorquens_AM1\"\n",
      "   taxon abs-abundance:  1000000000\n",
      "library\ttaxon\tfraction\tBD_min\tBD_mid\tBD_max\tcount\trel_abund\n",
      "1\tMethanosarcina_barkeri_MS\t-inf-1.660\t-inf\t1.659\t1.659\t22637663\t1\n",
      "1\tMethanosarcina_barkeri_MS\t1.660-1.662\t1.66\t1.661\t1.662\t1053896\t1\n",
      "1\tMethanosarcina_barkeri_MS\t1.662-1.668\t1.662\t1.665\t1.668\t3066705\t1\n",
      "1\tMethanosarcina_barkeri_MS\t1.668-1.676\t1.668\t1.672\t1.676\t4404903\t1\n",
      "1\tMethanosarcina_barkeri_MS\t1.676-1.684\t1.676\t1.68\t1.684\t4468257\t1\n",
      "1\tMethanosarcina_barkeri_MS\t1.684-1.691\t1.684\t1.688\t1.691\t3970034\t1\n",
      "1\tMethanosarcina_barkeri_MS\t1.691-1.697\t1.691\t1.694\t1.697\t15963030\t1\n",
      "1\tMethanosarcina_barkeri_MS\t1.697-1.705\t1.697\t1.701\t1.705\t409507968\t1\n",
      "1\tMethanosarcina_barkeri_MS\t1.705-1.714\t1.705\t1.71\t1.714\t467931542\t1\n"
     ]
    }
   ],
   "source": [
    "!SIPSim OTU_table \\\n",
    "    ampFrag_skewN90-25-n5-nS_dif_kde_DBL_incorp.pkl \\\n",
    "    comm-n2-unif.txt \\\n",
    "    fracs-n2-unif.txt \\\n",
    "    --abs 1e9 \\\n",
    "    --np 2 \\\n",
    "    > ampFrag_OTU_n2_abs1e9.txt\n",
    "    \n",
    "!head ampFrag_OTU_n2_abs1e9.txt"
   ]
  },
  {
   "cell_type": "markdown",
   "metadata": {},
   "source": [
    "## Plotting OTU abundances"
   ]
  },
  {
   "cell_type": "code",
   "execution_count": 169,
   "metadata": {
    "collapsed": false
   },
   "outputs": [
    {
     "data": {
      "text/plain": [
       "  library                     taxon    fraction BD_min BD_mid BD_max    count\n",
       "1       1 Methanosarcina_barkeri_MS  -inf-1.660   -Inf  1.659  1.659 22637663\n",
       "2       1 Methanosarcina_barkeri_MS 1.660-1.662  1.660  1.661  1.662  1053896\n",
       "3       1 Methanosarcina_barkeri_MS 1.662-1.668  1.662  1.665  1.668  3066705\n",
       "    rel_abund\n",
       "1 0.048378151\n",
       "2 0.002252244\n",
       "3 0.006553747\n"
      ]
     },
     "metadata": {},
     "output_type": "display_data"
    }
   ],
   "source": [
    "%%R -i workDir\n",
    "\n",
    "# loading file\n",
    "F = file.path(workDir, 'ampFrag_OTU_n2_abs1e9.txt')\n",
    "df =  read.delim(F)\n",
    "\n",
    "df1 = df %>%\n",
    "    filter(library == 1,\n",
    "           taxon == 'Methanosarcina_barkeri_MS')\n",
    "df2 = df %>%\n",
    "    filter(library == 2,\n",
    "           taxon == 'Methylobacterium_extorquens_AM1')\n",
    "df = rbind(df1, df2)\n",
    "\n",
    "df = df %>% \n",
    "    group_by(library) %>%\n",
    "    mutate(rel_abund = count / max(count)) %>%\n",
    "    ungroup()\n",
    "df %>% head(n=3) %>% as.data.frame"
   ]
  },
  {
   "cell_type": "code",
   "execution_count": 170,
   "metadata": {
    "collapsed": false
   },
   "outputs": [
    {
     "data": {
      "image/png": "[encoded data removed]"
     },
     "metadata": {},
     "output_type": "display_data"
    }
   ],
   "source": [
    "%%R -w 500 -h 300\n",
    "\n",
    "# max possible shift for M barkeri (using mean G+C)\n",
    "max_shift = 1.727326 + 0.036\n",
    "\n",
    "# plotting\n",
    "p = ggplot(df, aes(BD_min, rel_abund, color=taxon)) +\n",
    "    geom_point(size=3.5) +\n",
    "    geom_line() +\n",
    "    #geom_vline(xintercept=c(1.698416, 1.727326), linetype='dashed', alpha=0.5) +\n",
    "    #geom_vline(xintercept=c(max_shift), linetype='dashed', alpha=0.5, color='blue') +\n",
    "    scale_x_continuous(limits=c(1.68, 1.78), breaks=seq(1.68, 1.78, 0.02)) +\n",
    "    scale_color_discrete('') +\n",
    "    labs(x='CsCl buoyant density [g ml^-1]', y='Ratio of maximum quantities', \n",
    "         title='DNA fragments containing 16S rRNA genes') +\n",
    "    theme_bw() +\n",
    "    theme( \n",
    "        text = element_text(size=16),\n",
    "        legend.position = 'bottom'\n",
    "    )\n",
    "p"
   ]
  },
  {
   "cell_type": "code",
   "execution_count": null,
   "metadata": {
    "collapsed": true
   },
   "outputs": [],
   "source": []
  },
  {
   "cell_type": "code",
   "execution_count": null,
   "metadata": {
    "collapsed": true
   },
   "outputs": [],
   "source": []
  }
 ],
 "metadata": {
  "hide_input": true,
  "kernelspec": {
   "display_name": "Python 2",
   "language": "python",
   "name": "python2"
  },
  "language_info": {
   "codemirror_mode": {
    "name": "ipython",
    "version": 2
   },
   "file_extension": ".py",
   "mimetype": "text/x-python",
   "name": "python",
   "nbconvert_exporter": "python",
   "pygments_lexer": "ipython2",
   "version": "2.7.11"
  }
 },
 "nbformat": 4,
 "nbformat_minor": 0
}
