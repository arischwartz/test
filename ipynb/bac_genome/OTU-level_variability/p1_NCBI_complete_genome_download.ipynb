{
 "cells": [
  {
   "cell_type": "markdown",
   "metadata": {},
   "source": [
    "# Goal: \n",
    "\n",
    "* Download most up-to-date version of NCBI 'complete' genomes"
   ]
  },
  {
   "cell_type": "markdown",
   "metadata": {},
   "source": [
    "# Setting variables"
   ]
  },
  {
   "cell_type": "code",
   "execution_count": 17,
   "metadata": {
    "collapsed": true
   },
   "outputs": [],
   "source": [
    "workDir = '/var/seq_data/ncbi_db/genome/Jan2016/'\n",
    "proksFile = 'proks_complete.txt'\n",
    "taxFile = 'proks_complete_tax.txt'"
   ]
  },
  {
   "cell_type": "markdown",
   "metadata": {},
   "source": [
    "# Init"
   ]
  },
  {
   "cell_type": "code",
   "execution_count": 2,
   "metadata": {
    "collapsed": false
   },
   "outputs": [],
   "source": [
    "import os\n",
    "%load_ext rpy2.ipython\n",
    "%load_ext pushnote"
   ]
  },
  {
   "cell_type": "code",
   "execution_count": 3,
   "metadata": {
    "collapsed": false
   },
   "outputs": [
    {
     "name": "stderr",
     "output_type": "stream",
     "text": [
      "/opt/anaconda/lib/python2.7/site-packages/rpy2/robjects/functions.py:106: UserWarning: \n",
      "Attaching package: ‘dplyr’\n",
      "\n",
      "\n",
      "  res = super(Function, self).__call__(*new_args, **new_kwargs)\n",
      "/opt/anaconda/lib/python2.7/site-packages/rpy2/robjects/functions.py:106: UserWarning: The following objects are masked from ‘package:stats’:\n",
      "\n",
      "    filter, lag\n",
      "\n",
      "\n",
      "  res = super(Function, self).__call__(*new_args, **new_kwargs)\n",
      "/opt/anaconda/lib/python2.7/site-packages/rpy2/robjects/functions.py:106: UserWarning: The following objects are masked from ‘package:base’:\n",
      "\n",
      "    intersect, setdiff, setequal, union\n",
      "\n",
      "\n",
      "  res = super(Function, self).__call__(*new_args, **new_kwargs)\n",
      "/opt/anaconda/lib/python2.7/site-packages/rpy2/robjects/functions.py:106: UserWarning: Loading required package: XML\n",
      "\n",
      "  res = super(Function, self).__call__(*new_args, **new_kwargs)\n",
      "/opt/anaconda/lib/python2.7/site-packages/rpy2/robjects/functions.py:106: UserWarning: \n",
      "Attaching package: ‘XML’\n",
      "\n",
      "\n",
      "  res = super(Function, self).__call__(*new_args, **new_kwargs)\n",
      "/opt/anaconda/lib/python2.7/site-packages/rpy2/robjects/functions.py:106: UserWarning: The following object is masked from ‘package:tools’:\n",
      "\n",
      "    toHTML\n",
      "\n",
      "\n",
      "  res = super(Function, self).__call__(*new_args, **new_kwargs)\n",
      "/opt/anaconda/lib/python2.7/site-packages/rpy2/robjects/functions.py:106: UserWarning: Loading required package: RCurl\n",
      "\n",
      "  res = super(Function, self).__call__(*new_args, **new_kwargs)\n",
      "/opt/anaconda/lib/python2.7/site-packages/rpy2/robjects/functions.py:106: UserWarning: Loading required package: bitops\n",
      "\n",
      "  res = super(Function, self).__call__(*new_args, **new_kwargs)\n",
      "/opt/anaconda/lib/python2.7/site-packages/rpy2/robjects/functions.py:106: UserWarning: \n",
      "Attaching package: ‘RCurl’\n",
      "\n",
      "\n",
      "  res = super(Function, self).__call__(*new_args, **new_kwargs)\n",
      "/opt/anaconda/lib/python2.7/site-packages/rpy2/robjects/functions.py:106: UserWarning: The following object is masked from ‘package:tidyr’:\n",
      "\n",
      "    complete\n",
      "\n",
      "\n",
      "  res = super(Function, self).__call__(*new_args, **new_kwargs)\n",
      "/opt/anaconda/lib/python2.7/site-packages/rpy2/robjects/functions.py:106: UserWarning: Loading required package: GenomicRanges\n",
      "\n",
      "  res = super(Function, self).__call__(*new_args, **new_kwargs)\n",
      "/opt/anaconda/lib/python2.7/site-packages/rpy2/robjects/functions.py:106: UserWarning: Loading required package: BiocGenerics\n",
      "\n",
      "  res = super(Function, self).__call__(*new_args, **new_kwargs)\n",
      "/opt/anaconda/lib/python2.7/site-packages/rpy2/robjects/functions.py:106: UserWarning: Loading required package: parallel\n",
      "\n",
      "  res = super(Function, self).__call__(*new_args, **new_kwargs)\n",
      "/opt/anaconda/lib/python2.7/site-packages/rpy2/robjects/functions.py:106: UserWarning: \n",
      "Attaching package: ‘BiocGenerics’\n",
      "\n",
      "\n",
      "  res = super(Function, self).__call__(*new_args, **new_kwargs)\n",
      "/opt/anaconda/lib/python2.7/site-packages/rpy2/robjects/functions.py:106: UserWarning: The following objects are masked from ‘package:parallel’:\n",
      "\n",
      "    clusterApply, clusterApplyLB, clusterCall, clusterEvalQ,\n",
      "    clusterExport, clusterMap, parApply, parCapply, parLapply,\n",
      "    parLapplyLB, parRapply, parSapply, parSapplyLB\n",
      "\n",
      "\n",
      "  res = super(Function, self).__call__(*new_args, **new_kwargs)\n",
      "/opt/anaconda/lib/python2.7/site-packages/rpy2/robjects/functions.py:106: UserWarning: The following objects are masked from ‘package:dplyr’:\n",
      "\n",
      "    combine, intersect, setdiff, union\n",
      "\n",
      "\n",
      "  res = super(Function, self).__call__(*new_args, **new_kwargs)\n",
      "/opt/anaconda/lib/python2.7/site-packages/rpy2/robjects/functions.py:106: UserWarning: The following object is masked from ‘package:stats’:\n",
      "\n",
      "    xtabs\n",
      "\n",
      "\n",
      "  res = super(Function, self).__call__(*new_args, **new_kwargs)\n",
      "/opt/anaconda/lib/python2.7/site-packages/rpy2/robjects/functions.py:106: UserWarning: The following objects are masked from ‘package:base’:\n",
      "\n",
      "    anyDuplicated, append, as.data.frame, as.vector, cbind, colnames,\n",
      "    do.call, duplicated, eval, evalq, Filter, Find, get, intersect,\n",
      "    is.unsorted, lapply, Map, mapply, match, mget, order, paste, pmax,\n",
      "    pmax.int, pmin, pmin.int, Position, rank, rbind, Reduce, rep.int,\n",
      "    rownames, sapply, setdiff, sort, table, tapply, union, unique,\n",
      "    unlist, unsplit\n",
      "\n",
      "\n",
      "  res = super(Function, self).__call__(*new_args, **new_kwargs)\n",
      "/opt/anaconda/lib/python2.7/site-packages/rpy2/robjects/functions.py:106: UserWarning: Loading required package: S4Vectors\n",
      "\n",
      "  res = super(Function, self).__call__(*new_args, **new_kwargs)\n",
      "/opt/anaconda/lib/python2.7/site-packages/rpy2/robjects/functions.py:106: UserWarning: Loading required package: stats4\n",
      "\n",
      "  res = super(Function, self).__call__(*new_args, **new_kwargs)\n",
      "/opt/anaconda/lib/python2.7/site-packages/rpy2/robjects/functions.py:106: UserWarning: \n",
      "Attaching package: ‘S4Vectors’\n",
      "\n",
      "\n",
      "  res = super(Function, self).__call__(*new_args, **new_kwargs)\n",
      "/opt/anaconda/lib/python2.7/site-packages/rpy2/robjects/functions.py:106: UserWarning: The following object is masked from ‘package:dplyr’:\n",
      "\n",
      "    rename\n",
      "\n",
      "\n",
      "  res = super(Function, self).__call__(*new_args, **new_kwargs)\n",
      "/opt/anaconda/lib/python2.7/site-packages/rpy2/robjects/functions.py:106: UserWarning: Loading required package: IRanges\n",
      "\n",
      "  res = super(Function, self).__call__(*new_args, **new_kwargs)\n",
      "/opt/anaconda/lib/python2.7/site-packages/rpy2/robjects/functions.py:106: UserWarning: \n",
      "Attaching package: ‘IRanges’\n",
      "\n",
      "\n",
      "  res = super(Function, self).__call__(*new_args, **new_kwargs)\n",
      "/opt/anaconda/lib/python2.7/site-packages/rpy2/robjects/functions.py:106: UserWarning: The following object is masked from ‘package:tidyr’:\n",
      "\n",
      "    expand\n",
      "\n",
      "\n",
      "  res = super(Function, self).__call__(*new_args, **new_kwargs)\n",
      "/opt/anaconda/lib/python2.7/site-packages/rpy2/robjects/functions.py:106: UserWarning: The following objects are masked from ‘package:dplyr’:\n",
      "\n",
      "    collapse, desc, slice\n",
      "\n",
      "\n",
      "  res = super(Function, self).__call__(*new_args, **new_kwargs)\n",
      "/opt/anaconda/lib/python2.7/site-packages/rpy2/robjects/functions.py:106: UserWarning: Loading required package: GenomeInfoDb\n",
      "\n",
      "  res = super(Function, self).__call__(*new_args, **new_kwargs)\n",
      "/opt/anaconda/lib/python2.7/site-packages/rpy2/robjects/functions.py:106: UserWarning: Loading required package: Biostrings\n",
      "\n",
      "  res = super(Function, self).__call__(*new_args, **new_kwargs)\n",
      "/opt/anaconda/lib/python2.7/site-packages/rpy2/robjects/functions.py:106: UserWarning: Loading required package: XVector\n",
      "\n",
      "  res = super(Function, self).__call__(*new_args, **new_kwargs)\n",
      "/opt/anaconda/lib/python2.7/site-packages/rpy2/robjects/functions.py:106: UserWarning: \n",
      "Attaching package: ‘genomes’\n",
      "\n",
      "\n",
      "  res = super(Function, self).__call__(*new_args, **new_kwargs)\n",
      "/opt/anaconda/lib/python2.7/site-packages/rpy2/robjects/functions.py:106: UserWarning: The following object is masked from ‘package:GenomeInfoDb’:\n",
      "\n",
      "    species\n",
      "\n",
      "\n",
      "  res = super(Function, self).__call__(*new_args, **new_kwargs)\n"
     ]
    }
   ],
   "source": [
    "%%R\n",
    "library(ggplot2)\n",
    "library(dplyr)\n",
    "library(tidyr)\n",
    "library(genomes)"
   ]
  },
  {
   "cell_type": "code",
   "execution_count": 55,
   "metadata": {
    "collapsed": false
   },
   "outputs": [
    {
     "name": "stdout",
     "output_type": "stream",
     "text": [
      "/var/seq_data/ncbi_db/genome/Jan2016\n"
     ]
    }
   ],
   "source": [
    "if not os.path.isdir(workDir):\n",
    "    os.makedirs(workDir)\n",
    "\n",
    "%cd $workDir"
   ]
  },
  {
   "cell_type": "markdown",
   "metadata": {},
   "source": [
    "# Loading list of complete prok genomes"
   ]
  },
  {
   "cell_type": "code",
   "execution_count": 19,
   "metadata": {
    "collapsed": false
   },
   "outputs": [
    {
     "data": {
      "text/plain": [
       "[1] 4732\n",
       "     pid                           name          status   released  taxid\n",
       "1  12997 Acaryochloris marina MBIC11017 Complete Genome 2007-10-16 329726\n",
       "2  60713 Acetobacterium woodii DSM 1030 Complete Genome 2012-02-14 931626\n",
       "3 242487       Acetobacter pasteurianus Complete Genome 2015-07-21    438\n",
       "   bioproject          group              subgroup    size      gc\n",
       "1  PRJNA12997  Cyanobacteria Oscillatoriophycideae 8.36160 46.9889\n",
       "2  PRJNA60713     Firmicutes            Clostridia 4.04478 39.3000\n",
       "3 PRJNA242487 Proteobacteria   Alphaproteobacteria 2.80615 53.3000\n",
       "         refseq      insdc\n",
       "1   NC_009925.1 CP000828.1\n",
       "2   NC_016894.1 CP002987.1\n",
       "3 NZ_CP012111.1 CP012111.1\n",
       "                                                                                               plasmid.refseq\n",
       "1 NC_009930.1,NC_009928.1,NC_009927.1,NC_009931.1,NC_009933.1,NC_009934.1,NC_009932.1,NC_009926.1,NC_009929.1\n",
       "2                                                                                                        <NA>\n",
       "3                                                                                                        <NA>\n",
       "                                                                                       plasmid.insdc\n",
       "1 CP000842.1,CP000840.1,CP000839.1,CP000843.1,CP000845.1,CP000846.1,CP000844.1,CP000838.1,CP000841.1\n",
       "2                                                                                               <NA>\n",
       "3                                                                                               <NA>\n",
       "   wgs scaffolds genes proteins   modified                             center\n",
       "1 <NA>        10  7469     7187 2015-07-30              Washington University\n",
       "2 <NA>         1  3649     3521 2015-08-18 Georg-August-University Goettingen\n",
       "3 <NA>         1  2688     2535 2015-12-09      Zhejiang Gongshang University\n",
       "     biosample        assembly reference ftp   pubmed\n",
       "1 SAMN02604308 GCA_000018105.1      REFR  NA 18252824\n",
       "2 SAMN02603267 GCA_000247605.1      REFR  NA 22479398\n",
       "3 SAMN02709032 GCA_001183745.1      <NA>  NA     <NA>\n"
      ]
     },
     "metadata": {},
     "output_type": "display_data"
    }
   ],
   "source": [
    "%%R -i workDir -i proksFile \n",
    "\n",
    "F = file.path(workDir, proksFile)\n",
    "\n",
    "df.proks.complete = read.delim(F, sep='\\t')\n",
    "\n",
    "# checking join\n",
    "df.proks.complete %>% nrow %>% print\n",
    "df.proks.complete %>% head(n=3)"
   ]
  },
  {
   "cell_type": "code",
   "execution_count": 20,
   "metadata": {
    "collapsed": false
   },
   "outputs": [
    {
     "data": {
      "text/plain": [
       "[1] 4732\n",
       "[1] 4732\n",
       "     pid                           name          status   released  taxid\n",
       "1  12997 Acaryochloris marina MBIC11017 Complete Genome 2007-10-16 329726\n",
       "2  60713 Acetobacterium woodii DSM 1030 Complete Genome 2012-02-14 931626\n",
       "3 242487       Acetobacter pasteurianus Complete Genome 2015-07-21    438\n",
       "   bioproject          group              subgroup    size      gc\n",
       "1  PRJNA12997  Cyanobacteria Oscillatoriophycideae 8.36160 46.9889\n",
       "2  PRJNA60713     Firmicutes            Clostridia 4.04478 39.3000\n",
       "3 PRJNA242487 Proteobacteria   Alphaproteobacteria 2.80615 53.3000\n",
       "         refseq      insdc\n",
       "1   NC_009925.1 CP000828.1\n",
       "2   NC_016894.1 CP002987.1\n",
       "3 NZ_CP012111.1 CP012111.1\n",
       "                                                                                               plasmid.refseq\n",
       "1 NC_009930.1,NC_009928.1,NC_009927.1,NC_009931.1,NC_009933.1,NC_009934.1,NC_009932.1,NC_009926.1,NC_009929.1\n",
       "2                                                                                                        <NA>\n",
       "3                                                                                                        <NA>\n",
       "                                                                                       plasmid.insdc\n",
       "1 CP000842.1,CP000840.1,CP000839.1,CP000843.1,CP000845.1,CP000846.1,CP000844.1,CP000838.1,CP000841.1\n",
       "2                                                                                               <NA>\n",
       "3                                                                                               <NA>\n",
       "   wgs scaffolds genes proteins   modified                             center\n",
       "1 <NA>        10  7469     7187 2015-07-30              Washington University\n",
       "2 <NA>         1  3649     3521 2015-08-18 Georg-August-University Goettingen\n",
       "3 <NA>         1  2688     2535 2015-12-09      Zhejiang Gongshang University\n",
       "     biosample        assembly reference ftp   pubmed superkingdom\n",
       "1 SAMN02604308 GCA_000018105.1      REFR  NA 18252824     Bacteria\n",
       "2 SAMN02603267 GCA_000247605.1      REFR  NA 22479398     Bacteria\n",
       "3 SAMN02709032 GCA_001183745.1      <NA>  NA     <NA>     Bacteria\n",
       "          phylum               class            order           family\n",
       "1  Cyanobacteria                <NA>    Chroococcales             <NA>\n",
       "2     Firmicutes          Clostridia    Clostridiales   Eubacteriaceae\n",
       "3 Proteobacteria Alphaproteobacteria Rhodospirillales Acetobacteraceae\n",
       "           genus               species\n",
       "1  Acaryochloris  Acaryochloris marina\n",
       "2 Acetobacterium Acetobacterium woodii\n",
       "3    Acetobacter                  <NA>\n"
      ]
     },
     "metadata": {},
     "output_type": "display_data"
    }
   ],
   "source": [
    "%%R -i workDir -i taxFile\n",
    "\n",
    "F = file.path(workDir, taxFile)\n",
    "\n",
    "df.tax = read.delim(F, sep='\\t') %>%\n",
    "    distinct(taxid)\n",
    "df.proks.complete = dplyr::inner_join(df.proks.complete, df.tax, c('taxid' = 'taxid'))\n",
    "\n",
    "# checking join\n",
    "df.proks.complete %>% nrow %>% print\n",
    "df.proks.complete %>% nrow %>% print\n",
    "df.proks.complete %>% head(n=3)"
   ]
  },
  {
   "cell_type": "markdown",
   "metadata": {},
   "source": [
    "# Just Bacteria"
   ]
  },
  {
   "cell_type": "code",
   "execution_count": 21,
   "metadata": {
    "collapsed": false
   },
   "outputs": [
    {
     "data": {
      "text/plain": [
       "[1] 4498\n"
      ]
     },
     "metadata": {},
     "output_type": "display_data"
    }
   ],
   "source": [
    "%%R\n",
    "df.bac.complete = df.proks.complete %>%\n",
    "    filter(superkingdom == 'Bacteria')\n",
    "\n",
    "df.bac.complete %>% nrow"
   ]
  },
  {
   "cell_type": "markdown",
   "metadata": {},
   "source": [
    "### Phylum representation"
   ]
  },
  {
   "cell_type": "code",
   "execution_count": 22,
   "metadata": {
    "collapsed": false
   },
   "outputs": [
    {
     "data": {
      "image/png": "[encoded data removed]"
     },
     "metadata": {},
     "output_type": "display_data"
    }
   ],
   "source": [
    "%%R -w 800\n",
    "df.bac.complete.s = df.bac.complete %>%\n",
    "    group_by(phylum) %>%\n",
    "    summarize(n = n()) %>%\n",
    "    filter(! is.na(n), n > 0)\n",
    "\n",
    "ggplot(df.bac.complete.s, aes(phylum, n)) +\n",
    "    geom_bar(stat='identity') +\n",
    "    scale_y_log10() +\n",
    "    labs(y = 'Number of genomes') +\n",
    "    theme_bw() +\n",
    "    theme(\n",
    "        text = element_text(size=16),\n",
    "        axis.text.x = element_text(angle=60, hjust=1)\n",
    "    )"
   ]
  },
  {
   "cell_type": "markdown",
   "metadata": {},
   "source": [
    "### removing what are really phage/plasmid genomes"
   ]
  },
  {
   "cell_type": "code",
   "execution_count": 23,
   "metadata": {
    "collapsed": false,
    "scrolled": true
   },
   "outputs": [
    {
     "data": {
      "text/plain": [
       "Pre-filter: 4498 \n",
       "Post-filter: 4496 \n"
      ]
     },
     "metadata": {},
     "output_type": "display_data"
    }
   ],
   "source": [
    "%%R\n",
    "cat('Pre-filter:', df.bac.complete %>% nrow, '\\n')\n",
    "\n",
    "to.rm = c(\"Thermoanaerobacterium saccharolyticum JW/SL-YS485\",\n",
    "          \"Streptococcus salivarius 57.I\")\n",
    "\n",
    "df.bac.complete = df.bac.complete %>%\n",
    "    filter(! name %in% to.rm)\n",
    "\n",
    "cat('Post-filter:', df.bac.complete %>% nrow, '\\n')\n"
   ]
  },
  {
   "cell_type": "markdown",
   "metadata": {},
   "source": [
    "# Sequence download"
   ]
  },
  {
   "cell_type": "code",
   "execution_count": 56,
   "metadata": {
    "collapsed": false
   },
   "outputs": [],
   "source": [
    "%%R -i workDir\n",
    "\n",
    "outFile = file.path(workDir, 'bac_complete.txt')\n",
    "write.table(df.bac.complete, outFile, sep='\\t', quote=FALSE, row.names=FALSE)"
   ]
  },
  {
   "cell_type": "code",
   "execution_count": null,
   "metadata": {
    "code_folding": [],
    "collapsed": false
   },
   "outputs": [],
   "source": [
    "!seqDB_tools accession-GI2fasta \\\n",
    "    -a 11 -n 2 -f 12 -header -o bac_complete \\\n",
    "    < bac_complete.txt \\\n",
    "    2> bac_complete.log"
   ]
  },
  {
   "cell_type": "code",
   "execution_count": null,
   "metadata": {
    "collapsed": true
   },
   "outputs": [],
   "source": [
    "%pushnote genome download complete"
   ]
  },
  {
   "cell_type": "markdown",
   "metadata": {},
   "source": [
    "### Getting list of empty genome files"
   ]
  },
  {
   "cell_type": "code",
   "execution_count": 60,
   "metadata": {
    "collapsed": false
   },
   "outputs": [
    {
     "name": "stdout",
     "output_type": "stream",
     "text": [
      "Number of empty genome files: 0 empty_genome_files.txt\n"
     ]
    }
   ],
   "source": [
    "fileSizes = !ls -tlc *.fna | perl -pe 's/[ \\t]+/ /g' \n",
    "\n",
    "outFile = 'empty_genome_files.txt'\n",
    "with open(outFile, 'wb') as outFH:\n",
    "    for x in fileSizes:\n",
    "        xx = x.split(' ')\n",
    "        if xx[4] == '0':\n",
    "            xx[-1] = xx[-1].replace('_', ' ').rstrip('.fna')\n",
    "            outFH.write(xx[-1] + '\\n')\n",
    "\n",
    "# status\n",
    "!printf 'Number of empty genome files: '     \n",
    "!wc -l $outFile\n",
    "!head $outFile"
   ]
  },
  {
   "cell_type": "markdown",
   "metadata": {},
   "source": [
    "### Deleting empty files"
   ]
  },
  {
   "cell_type": "code",
   "execution_count": 61,
   "metadata": {
    "collapsed": false
   },
   "outputs": [],
   "source": [
    "fileSizes = !ls -tlc bac_complete/*.fna | perl -pe 's/[ \\t]+/ /g' \n",
    "\n",
    "for x in fileSizes:\n",
    "    xx = x.split(' ')\n",
    "    if float(xx[4]) < 100000.0:\n",
    "        os.remove(xx[-1])"
   ]
  },
  {
   "cell_type": "markdown",
   "metadata": {},
   "source": [
    "### Checking output"
   ]
  },
  {
   "cell_type": "code",
   "execution_count": 62,
   "metadata": {
    "collapsed": false
   },
   "outputs": [
    {
     "name": "stdout",
     "output_type": "stream",
     "text": [
      "/var/seq_data/ncbi_db/genome/Jan2016/bac_complete\n"
     ]
    }
   ],
   "source": [
    "genomeDir = os.path.join(workDir, 'bac_complete')\n",
    "%cd $genomeDir"
   ]
  },
  {
   "cell_type": "code",
   "execution_count": 63,
   "metadata": {
    "collapsed": false
   },
   "outputs": [
    {
     "name": "stdout",
     "output_type": "stream",
     "text": [
      "Number of bacterial genomes: 3508\n"
     ]
    }
   ],
   "source": [
    "# number of genomes downloaded\n",
    "!printf \"Number of bacterial genomes: \"\n",
    "!find . -name \"*.fna\" | wc -l    "
   ]
  },
  {
   "cell_type": "code",
   "execution_count": 64,
   "metadata": {
    "collapsed": false
   },
   "outputs": [
    {
     "name": "stdout",
     "output_type": "stream",
     "text": [
      "Genome file size distribution (bytes):\n",
      "1\tmin\t160314.00\n",
      "1\tQ1\t2124608.00\n",
      "1\tmean\t3679260.40\n",
      "1\tmedian\t3480661.00\n",
      "1\tQ3\t4913670.00\n",
      "1\tmax\t15028601.00\n",
      "1\tstdev\t1949951.34\n"
     ]
    }
   ],
   "source": [
    "# file size\n",
    "!echo \"Genome file size distribution (bytes):\"\n",
    "!ls -tlc *.fna | \\\n",
    "    perl -pe 's/ +/\\t/g' | \\\n",
    "    cut -f 5 | NY_misc_perl stats_descriptive"
   ]
  },
  {
   "cell_type": "code",
   "execution_count": 68,
   "metadata": {
    "collapsed": false
   },
   "outputs": [],
   "source": [
    "# checking for non-bacterial genomes\n",
    "!find . -name \"*.fna\" | xargs -P 26 -I % bash -c 'egrep \"phage|virus|plasmid\" %'"
   ]
  },
  {
   "cell_type": "code",
   "execution_count": 69,
   "metadata": {
    "collapsed": true
   },
   "outputs": [],
   "source": [
    "# deleting non-bacterial genomes\n",
    "#!rm -f ./Clostridium_perfringens_SM101.fna \\\n",
    "#    ./Chlamydophila_pneumoniae_AR39.fna \\\n",
    "#    ./Enterococcus_faecalis_62.fna"
   ]
  },
  {
   "cell_type": "code",
   "execution_count": 70,
   "metadata": {
    "collapsed": false
   },
   "outputs": [
    {
     "name": "stdout",
     "output_type": "stream",
     "text": [
      "Number of bacterial genomes: 3508\n"
     ]
    }
   ],
   "source": [
    "# number of genomes downloaded\n",
    "!printf \"Number of bacterial genomes: \"\n",
    "!find . -name \"*.fna\" | wc -l   "
   ]
  },
  {
   "cell_type": "markdown",
   "metadata": {},
   "source": [
    "# Renaming genomes"
   ]
  },
  {
   "cell_type": "code",
   "execution_count": 73,
   "metadata": {
    "collapsed": false
   },
   "outputs": [
    {
     "data": {
      "text/plain": [
       "'/var/seq_data/ncbi_db/genome/Jan2016/bac_complete_rn'"
      ]
     },
     "execution_count": 73,
     "metadata": {},
     "output_type": "execute_result"
    }
   ],
   "source": [
    "genomeDirRn = genomeDir + '_rn'\n",
    "genomeDirRn"
   ]
  },
  {
   "cell_type": "code",
   "execution_count": 74,
   "metadata": {
    "collapsed": false,
    "scrolled": true
   },
   "outputs": [
    {
     "name": "stdout",
     "output_type": "stream",
     "text": [
      "File written: /var/seq_data/ncbi_db/genome/Jan2016/bac_complete_rn/Chlamydophila_pneumoniae_CWL029.fna\n",
      "File written: /var/seq_data/ncbi_db/genome/Jan2016/bac_complete_rn/Helicobacter_cetorum_MIT_99-5656.fna\n",
      "File written: /var/seq_data/ncbi_db/genome/Jan2016/bac_complete_rn/Chlamydia_trachomatis_B_TZ1A828_OT.fna\n",
      "File written: /var/seq_data/ncbi_db/genome/Jan2016/bac_complete_rn/Streptococcus_anginosus_C238.fna\n",
      "File written: /var/seq_data/ncbi_db/genome/Jan2016/bac_complete_rn/Bibersteinia_trehalosi_USDA-ARS-USMARC-190.fna\n",
      "File written: /var/seq_data/ncbi_db/genome/Jan2016/bac_complete_rn/Comamonadaceae_bacterium_A1.fna\n",
      "File written: /var/seq_data/ncbi_db/genome/Jan2016/bac_complete_rn/Lactobacillus_johnsonii_DPC_6026.fna\n",
      "File written: /var/seq_data/ncbi_db/genome/Jan2016/bac_complete_rn/Segniliparus_rotundus_DSM_44985.fna\n",
      "File written: /var/seq_data/ncbi_db/genome/Jan2016/bac_complete_rn/Thermacetogenium_phaeum_DSM_12270.fna\n",
      "File written: /var/seq_data/ncbi_db/genome/Jan2016/bac_complete_rn/Neisseria_meningitidis_G2136.fna\n",
      "File written: /var/seq_data/ncbi_db/genome/Jan2016/bac_complete_rn/Desulfotomaculum_reducens_MI-1.fna\n",
      "File written: /var/seq_data/ncbi_db/genome/Jan2016/bac_complete_rn/Corynebacterium_falsenii_DSM_44353.fna\n",
      "File written: /var/seq_data/ncbi_db/genome/Jan2016/bac_complete_rn/Candidatus_Kinetoplastibacterium_galatii_TCC219.fna\n",
      "File written: /var/seq_data/ncbi_db/genome/Jan2016/bac_complete_rn/Streptococcus_pneumoniae_P1031.fna\n",
      "File written: /var/seq_data/ncbi_db/genome/Jan2016/bac_complete_rn/Chlamydia_trachomatis_Ia_SotonIa3.fna\n",
      "File written: /var/seq_data/ncbi_db/genome/Jan2016/bac_complete_rn/Muricauda_lutaonensis.fna\n",
      "File written: /var/seq_data/ncbi_db/genome/Jan2016/bac_complete_rn/Salmonella_enterica_subsp_enterica_serovar_Enteritidis_str_EC20110353.fna\n",
      "File written: /var/seq_data/ncbi_db/genome/Jan2016/bac_complete_rn/Acinetobacter_baumannii_AYE.fna\n",
      "File written: /var/seq_data/ncbi_db/genome/Jan2016/bac_complete_rn/Chlamydia_trachomatis_L3_404_LN.fna\n",
      "File written: /var/seq_data/ncbi_db/genome/Jan2016/bac_complete_rn/Shewanella_baltica_OS678.fna\n",
      "File written: /var/seq_data/ncbi_db/genome/Jan2016/bac_complete_rn/Clostridium_botulinum_A3_str_Loch_Maree.fna\n",
      "File written: /var/seq_data/ncbi_db/genome/Jan2016/bac_complete_rn/Streptococcus_constellatus_subsp_pharyngis_C1050.fna\n",
      "File written: /var/seq_data/ncbi_db/genome/Jan2016/bac_complete_rn/Bartonella_tribocorum_CIP_105476.fna\n",
      "File written: /var/seq_data/ncbi_db/genome/Jan2016/bac_complete_rn/Planococcus_kocurii.fna\n",
      "File written: /var/seq_data/ncbi_db/genome/Jan2016/bac_complete_rn/Lactococcus_piscium_MKFS47.fna\n",
      "File written: /var/seq_data/ncbi_db/genome/Jan2016/bac_complete_rn/Campylobacter_coli_15-537360.fna\n",
      "File written: /var/seq_data/ncbi_db/genome/Jan2016/bac_complete_rn/Brevibacterium_flavum.fna\n",
      "File written: /var/seq_data/ncbi_db/genome/Jan2016/bac_complete_rn/Chlamydia_psittaci_C19_98.fna\n",
      "File written: /var/seq_data/ncbi_db/genome/Jan2016/bac_complete_rn/Rickettsia_prowazekii_str_Chernikova.fna\n",
      "File written: /var/seq_data/ncbi_db/genome/Jan2016/bac_complete_rn/Escherichia_coli_O139:H28_str_E24377A.fna\n",
      "File written: /var/seq_data/ncbi_db/genome/Jan2016/bac_complete_rn/Wolbachia_endosymbiont_of_Onchocerca_ochengi.fna\n",
      "File written: /var/seq_data/ncbi_db/genome/Jan2016/bac_complete_rn/Escherichia_coli_UTI89.fna\n",
      "File written: /var/seq_data/ncbi_db/genome/Jan2016/bac_complete_rn/Sanguibacter_keddieii_DSM_10542.fna\n",
      "File written: /var/seq_data/ncbi_db/genome/Jan2016/bac_complete_rn/Mycobacterium_tuberculosis_49-02.fna\n",
      "File written: /var/seq_data/ncbi_db/genome/Jan2016/bac_complete_rn/Acidithiobacillus_ferrooxidans_ATCC_23270.fna\n",
      "File written: /var/seq_data/ncbi_db/genome/Jan2016/bac_complete_rn/Pseudomonas_putida_ND6.fna\n",
      "File written: /var/seq_data/ncbi_db/genome/Jan2016/bac_complete_rn/Xanthomonas_campestris_pv_campestris_str_8004.fna\n",
      "File written: /var/seq_data/ncbi_db/genome/Jan2016/bac_complete_rn/Mycobacterium_marinum_E11.fna\n",
      "File written: /var/seq_data/ncbi_db/genome/Jan2016/bac_complete_rn/Roseburia_hominis_A2-183.fna\n",
      "File written: /var/seq_data/ncbi_db/genome/Jan2016/bac_complete_rn/Mycobacterium_tuberculosis_KZN_1435.fna\n",
      "File written: /var/seq_data/ncbi_db/genome/Jan2016/bac_complete_rn/Dehalogenimonas_lykanthroporepellens_BL-DC-9.fna\n",
      "File written: /var/seq_data/ncbi_db/genome/Jan2016/bac_complete_rn/Arthrobacter_sp_FB24.fna\n",
      "File written: /var/seq_data/ncbi_db/genome/Jan2016/bac_complete_rn/Methyloceanibacter_caenitepidi.fna\n",
      "File written: /var/seq_data/ncbi_db/genome/Jan2016/bac_complete_rn/Salmonella_enterica_subsp_enterica_serovar_Typhimurium_str_LT2.fna\n",
      "File written: /var/seq_data/ncbi_db/genome/Jan2016/bac_complete_rn/Escherichia_albertii_KF1.fna\n",
      "File written: /var/seq_data/ncbi_db/genome/Jan2016/bac_complete_rn/Hymenobacter_sp_DG25A.fna\n",
      "File written: /var/seq_data/ncbi_db/genome/Jan2016/bac_complete_rn/Escherichia_coli_O157:H7_str_EC4115.fna\n",
      "File written: /var/seq_data/ncbi_db/genome/Jan2016/bac_complete_rn/Mycobacterium_avium_subsp_paratuberculosis.fna\n",
      "File written: /var/seq_data/ncbi_db/genome/Jan2016/bac_complete_rn/Tropheryma_whipplei_str_Twist.fna\n",
      "File written: /var/seq_data/ncbi_db/genome/Jan2016/bac_complete_rn/Chlorobaculum_parvum_NCIB_8327.fna\n",
      "File written: /var/seq_data/ncbi_db/genome/Jan2016/bac_complete_rn/Bacillus_subtilis_subsp_subtilis_str_RO-NN-1.fna\n",
      "File written: /var/seq_data/ncbi_db/genome/Jan2016/bac_complete_rn/Helicobacter_pylori_oki673.fna\n",
      "File written: /var/seq_data/ncbi_db/genome/Jan2016/bac_complete_rn/Buchnera_aphidicola_BCc.fna\n",
      "File written: /var/seq_data/ncbi_db/genome/Jan2016/bac_complete_rn/Bartonella_bacilliformis_KC583.fna\n",
      "File written: /var/seq_data/ncbi_db/genome/Jan2016/bac_complete_rn/Bacillus_methanolicus_MGA3.fna\n",
      "File written: /var/seq_data/ncbi_db/genome/Jan2016/bac_complete_rn/Helicobacter_pylori_PeCan18.fna\n",
      "File written: /var/seq_data/ncbi_db/genome/Jan2016/bac_complete_rn/Bacillus_methylotrophicus_NJN-6.fna\n",
      "File written: /var/seq_data/ncbi_db/genome/Jan2016/bac_complete_rn/Plautia_stali_symbiont.fna\n",
      "File written: /var/seq_data/ncbi_db/genome/Jan2016/bac_complete_rn/Mycobacterium_tuberculosis_str_Kurono.fna\n",
      "File written: /var/seq_data/ncbi_db/genome/Jan2016/bac_complete_rn/Chlamydia_trachomatis_6276.fna\n",
      "File written: /var/seq_data/ncbi_db/genome/Jan2016/bac_complete_rn/Chlamydia_trachomatis_D_s_2923.fna\n",
      "File written: /var/seq_data/ncbi_db/genome/Jan2016/bac_complete_rn/Xanthomonas_oryzae_pv_oryzae_MAFF_311018.fna\n",
      "File written: /var/seq_data/ncbi_db/genome/Jan2016/bac_complete_rn/Rickettsia_bellii_OSU_85-389.fna\n",
      "File written: /var/seq_data/ncbi_db/genome/Jan2016/bac_complete_rn/Mycoplasma_suis_KI3806.fna\n",
      "File written: /var/seq_data/ncbi_db/genome/Jan2016/bac_complete_rn/Coxiella_burnetii_RSA_493.fna\n",
      "File written: /var/seq_data/ncbi_db/genome/Jan2016/bac_complete_rn/Acinetobacter_baumannii_MDR-TJ.fna\n",
      "File written: /var/seq_data/ncbi_db/genome/Jan2016/bac_complete_rn/Rhodococcus_sp_B7740.fna\n",
      "File written: /var/seq_data/ncbi_db/genome/Jan2016/bac_complete_rn/Allochromatium_vinosum_DSM_180.fna\n",
      "File written: /var/seq_data/ncbi_db/genome/Jan2016/bac_complete_rn/Escherichia_coli_O103:H2_str_12009.fna\n",
      "File written: /var/seq_data/ncbi_db/genome/Jan2016/bac_complete_rn/Belliella_baltica_DSM_15883.fna\n",
      "File written: /var/seq_data/ncbi_db/genome/Jan2016/bac_complete_rn/Mycoplasma_hyorhinis_MCLD.fna\n",
      "File written: /var/seq_data/ncbi_db/genome/Jan2016/bac_complete_rn/Candidatus_Desulforudis_audaxviator_MP104C.fna\n",
      "File written: /var/seq_data/ncbi_db/genome/Jan2016/bac_complete_rn/Pediococcus_claussenii_ATCC_BAA-344.fna\n",
      "File written: /var/seq_data/ncbi_db/genome/Jan2016/bac_complete_rn/Thioalkalivibrio_sulfidiphilus_HL-EbGr7.fna\n",
      "File written: /var/seq_data/ncbi_db/genome/Jan2016/bac_complete_rn/Mycoplasma_haemofelis_str_Langford_1.fna\n",
      "File written: /var/seq_data/ncbi_db/genome/Jan2016/bac_complete_rn/Salmonella_enterica_subsp_enterica_serovar_Choleraesuis_str_ATCC_10708.fna\n",
      "File written: /var/seq_data/ncbi_db/genome/Jan2016/bac_complete_rn/Fusobacterium_hwasookii_ChDC_F300.fna\n",
      "File written: /var/seq_data/ncbi_db/genome/Jan2016/bac_complete_rn/Mycobacterium_bovis_BCG.fna\n",
      "File written: /var/seq_data/ncbi_db/genome/Jan2016/bac_complete_rn/Robiginitalea_biformata_HTCC2501.fna\n",
      "File written: /var/seq_data/ncbi_db/genome/Jan2016/bac_complete_rn/Pararhodospirillum_photometricum_DSM_122.fna\n",
      "File written: /var/seq_data/ncbi_db/genome/Jan2016/bac_complete_rn/Streptococcus_salivarius_JIM8777.fna\n",
      "File written: /var/seq_data/ncbi_db/genome/Jan2016/bac_complete_rn/Lactobacillus_helveticus_H9.fna\n",
      "File written: /var/seq_data/ncbi_db/genome/Jan2016/bac_complete_rn/Bacillus_anthracis_str_Sterne.fna\n",
      "File written: /var/seq_data/ncbi_db/genome/Jan2016/bac_complete_rn/Chlamydia_trachomatis_L2b_795.fna\n",
      "File written: /var/seq_data/ncbi_db/genome/Jan2016/bac_complete_rn/Brucella_suis_bv_3_str_686.fna\n",
      "File written: /var/seq_data/ncbi_db/genome/Jan2016/bac_complete_rn/Cronobacter_sakazakii_CMCC_45402.fna\n",
      "File written: /var/seq_data/ncbi_db/genome/Jan2016/bac_complete_rn/Mycoplasma_hyorhinis_DBS_1050.fna\n",
      "File written: /var/seq_data/ncbi_db/genome/Jan2016/bac_complete_rn/Herbaspirillum_hiltneri_N3.fna\n",
      "File written: /var/seq_data/ncbi_db/genome/Jan2016/bac_complete_rn/Pasteurella_multocida_subsp_multocida_str_3480.fna\n",
      "File written: /var/seq_data/ncbi_db/genome/Jan2016/bac_complete_rn/Streptococcus_sp_VT_162.fna\n",
      "File written: /var/seq_data/ncbi_db/genome/Jan2016/bac_complete_rn/Xenorhabdus_poinarii_G6.fna\n",
      "File written: /var/seq_data/ncbi_db/genome/Jan2016/bac_complete_rn/Leptospira_borgpetersenii_serovar_Hardjo-bovis_str_L550.fna\n",
      "File written: /var/seq_data/ncbi_db/genome/Jan2016/bac_complete_rn/Shigella_flexneri_2a_str_301.fna\n",
      "File written: /var/seq_data/ncbi_db/genome/Jan2016/bac_complete_rn/Paenibacillus_sp_FSL_R7-0273.fna\n",
      "File written: /var/seq_data/ncbi_db/genome/Jan2016/bac_complete_rn/Brucella_abortus_bv_6_str_870.fna\n",
      "File written: /var/seq_data/ncbi_db/genome/Jan2016/bac_complete_rn/Neisseria_meningitidis_alpha14.fna\n",
      "File written: /var/seq_data/ncbi_db/genome/Jan2016/bac_complete_rn/Salmonella_enterica_subsp_enterica_serovar_Enteritidis_str_EC20120916.fna\n",
      "File written: /var/seq_data/ncbi_db/genome/Jan2016/bac_complete_rn/Nitrobacter_hamburgensis_X14.fna\n",
      "File written: /var/seq_data/ncbi_db/genome/Jan2016/bac_complete_rn/Streptococcus_pneumoniae_AP200.fna\n",
      "File written: /var/seq_data/ncbi_db/genome/Jan2016/bac_complete_rn/Pectobacterium_wasabiae_WPP163.fna\n",
      "File written: /var/seq_data/ncbi_db/genome/Jan2016/bac_complete_rn/Streptococcus_pyogenes_MGAS8232.fna\n",
      "File written: /var/seq_data/ncbi_db/genome/Jan2016/bac_complete_rn/Lactobacillus_paracasei.fna\n",
      "File written: /var/seq_data/ncbi_db/genome/Jan2016/bac_complete_rn/Ruegeria_sp_TM1040.fna\n",
      "File written: /var/seq_data/ncbi_db/genome/Jan2016/bac_complete_rn/Burkholderia_thailandensis_USAMRU_Malaysia_#20.fna\n",
      "File written: /var/seq_data/ncbi_db/genome/Jan2016/bac_complete_rn/Chlamydia_psittaci_CP3.fna\n",
      "File written: /var/seq_data/ncbi_db/genome/Jan2016/bac_complete_rn/Streptococcus_pneumoniae_ATCC_700669.fna\n",
      "File written: /var/seq_data/ncbi_db/genome/Jan2016/bac_complete_rn/Cronobacter_muytjensii_ATCC_51329.fna\n",
      "File written: /var/seq_data/ncbi_db/genome/Jan2016/bac_complete_rn/Actinobacillus_succinogenes_130Z.fna\n",
      "File written: /var/seq_data/ncbi_db/genome/Jan2016/bac_complete_rn/Burkholderia_pseudomallei_HBPUB10134a.fna\n",
      "**OUTPUT MUTED**"
     ]
    }
   ],
   "source": [
    "# renameing\n",
    "!find . -name \"*.fna\" | \\\n",
    "    SIPSim genome_rename -n 26 --prefix $genomeDirRn - "
   ]
  },
  {
   "cell_type": "code",
   "execution_count": null,
   "metadata": {
    "collapsed": true
   },
   "outputs": [],
   "source": []
  }
 ],
 "metadata": {
  "hide_input": true,
  "kernelspec": {
   "display_name": "Python 2",
   "language": "python",
   "name": "python2"
  },
  "language_info": {
   "codemirror_mode": {
    "name": "ipython",
    "version": 2
   },
   "file_extension": ".py",
   "mimetype": "text/x-python",
   "name": "python",
   "nbconvert_exporter": "python",
   "pygments_lexer": "ipython2",
   "version": "2.7.11"
  }
 },
 "nbformat": 4,
 "nbformat_minor": 0
}
