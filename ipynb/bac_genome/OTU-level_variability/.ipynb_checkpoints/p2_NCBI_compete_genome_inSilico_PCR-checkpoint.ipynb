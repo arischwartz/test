{
 "cells": [
  {
   "cell_type": "markdown",
   "metadata": {},
   "source": [
    "# Goal\n",
    "\n",
    "* in silico PCR with 515F-806R primers on all NCBI compelete genomes\n",
    "  * amplicons will be clustered to produce OTUs"
   ]
  },
  {
   "cell_type": "markdown",
   "metadata": {},
   "source": [
    "# Setting variables"
   ]
  },
  {
   "cell_type": "code",
   "execution_count": 99,
   "metadata": {
    "collapsed": true
   },
   "outputs": [],
   "source": [
    "import os\n",
    "workDir = '/var/seq_data/ncbi_db/genome/Jan2016/'\n",
    "genomeDir = os.path.join(workDir, 'bac_complete_rn')\n",
    "primerFile = '/home/nick/notebook/SIPSim/dev/515F-806R.fna'"
   ]
  },
  {
   "cell_type": "markdown",
   "metadata": {},
   "source": [
    "# Init"
   ]
  },
  {
   "cell_type": "code",
   "execution_count": 100,
   "metadata": {
    "collapsed": false
   },
   "outputs": [
    {
     "name": "stdout",
     "output_type": "stream",
     "text": [
      "The rpy2.ipython extension is already loaded. To reload it, use:\n",
      "  %reload_ext rpy2.ipython\n",
      "The pushnote extension is already loaded. To reload it, use:\n",
      "  %reload_ext pushnote\n"
     ]
    }
   ],
   "source": [
    "%load_ext rpy2.ipython\n",
    "%load_ext pushnote"
   ]
  },
  {
   "cell_type": "code",
   "execution_count": 101,
   "metadata": {
    "collapsed": false
   },
   "outputs": [],
   "source": [
    "%%R\n",
    "library(dplyr)\n",
    "library(tidyr)\n",
    "library(ggplot2)"
   ]
  },
  {
   "cell_type": "code",
   "execution_count": 102,
   "metadata": {
    "collapsed": false
   },
   "outputs": [
    {
     "name": "stdout",
     "output_type": "stream",
     "text": [
      "/var/seq_data/ncbi_db/genome/Jan2016\n"
     ]
    }
   ],
   "source": [
    "if not os.path.isdir(workDir):\n",
    "    os.makedirs(workDir)\n",
    "    \n",
    "%cd $workDir"
   ]
  },
  {
   "cell_type": "markdown",
   "metadata": {},
   "source": [
    "# concat all genome sequences"
   ]
  },
  {
   "cell_type": "code",
   "execution_count": 104,
   "metadata": {
    "collapsed": false
   },
   "outputs": [],
   "source": [
    "#catGenomeFile = 'bac_complete_rn.fna'\n",
    "#!rm -f $catGenomeFile\n",
    "#!find $genomeDir -name \"*.fna\" | xargs -I % bash -c \"cat %; echo\" >> $catGenomeFile"
   ]
  },
  {
   "cell_type": "code",
   "execution_count": 105,
   "metadata": {
    "collapsed": true
   },
   "outputs": [],
   "source": [
    "# fixing issues of no line breaks for new sequence IDs in fastas\n",
    "#!perl -pi -e 's/>/\\n>/ if /.+>/' $catGenomeFile"
   ]
  },
  {
   "cell_type": "code",
   "execution_count": 109,
   "metadata": {
    "collapsed": false
   },
   "outputs": [
    {
     "name": "stdout",
     "output_type": "stream",
     "text": [
      "3779\r\n"
     ]
    }
   ],
   "source": [
    "# checking number of sequences\n",
    "#!grep -c \">\" $catGenomeFile"
   ]
  },
  {
   "cell_type": "code",
   "execution_count": 110,
   "metadata": {
    "collapsed": false
   },
   "outputs": [],
   "source": [
    "# checking for duplicate sequence IDs\n",
    "#ret = !grep \">\" $catGenomeFile | sort | uniq -c\n",
    "#for x in ret:\n",
    "#    x = x.lstrip().split(' ')\n",
    "#    x[0] = int(x[0])\n",
    "#    if x[0] > 1:\n",
    "#        print x"
   ]
  },
  {
   "cell_type": "markdown",
   "metadata": {},
   "source": [
    "# rnammer to ID 16S genes"
   ]
  },
  {
   "cell_type": "code",
   "execution_count": 112,
   "metadata": {
    "collapsed": true
   },
   "outputs": [],
   "source": [
    "rnammerDir = os.path.join(workDir, 'rnammer')\n",
    "if not os.path.isdir(rnammerDir):\n",
    "    os.makedirs(rnammerDir)   "
   ]
  },
  {
   "cell_type": "code",
   "execution_count": null,
   "metadata": {
    "collapsed": true
   },
   "outputs": [],
   "source": [
    "%%bash -s \"$genomeDir\" \"$rnammerDir\"\n",
    "\n",
    "find $1 -name \"*.fna\" | \\\n",
    "    perl -pe 's/.+\\/|\\.fna//g' | \\\n",
    "    xargs -n 1 -I % -P 30 bash -c \\\n",
    "    \"rnammer -S bac -m ssu -gff $2/%_rrn.gff -f $2/%_rrn.fna -xml $2/%_rrn.xml < $1/%.fna\""
   ]
  },
  {
   "cell_type": "code",
   "execution_count": null,
   "metadata": {
    "collapsed": true
   },
   "outputs": [],
   "source": [
    "!cd $rnammerDir; \\\n",
    "    egrep -v \"^#\" *.gff | \\\n",
    "    grep \"16s_rRNA\" | \\\n",
    "    perl -pe 's/:/\\t/' > ssu_summary.txt"
   ]
  },
  {
   "cell_type": "code",
   "execution_count": null,
   "metadata": {
    "collapsed": true
   },
   "outputs": [],
   "source": [
    "%%bash -s \"$rnammerDir\"\n",
    "cd $1\n",
    "\n",
    "printf \"ssu gene length distribution:\\n\"\n",
    "cut -d $'\\t' -f 7 ssu_summary.txt | NY_misc_perl stats_descriptive"
   ]
  },
  {
   "cell_type": "code",
   "execution_count": null,
   "metadata": {
    "collapsed": true
   },
   "outputs": [],
   "source": [
    "# combining sequences\n",
    "!cd $rnammerDir; \\\n",
    "    cat *_rrn.fna > ssu_all.fna\n",
    "    \n",
    "!printf \"Number of sequences: \"\n",
    "!cd $rnammerDir; \\\n",
    "    grep -c \">\" ssu_all.fna"
   ]
  },
  {
   "cell_type": "code",
   "execution_count": null,
   "metadata": {
    "collapsed": true
   },
   "outputs": [],
   "source": [
    "%pushnote rnammer complete"
   ]
  },
  {
   "cell_type": "markdown",
   "metadata": {},
   "source": [
    "# in-silco PCR\n",
    "\n",
    "* using `pcr.seqs` command from Mothur"
   ]
  },
  {
   "cell_type": "markdown",
   "metadata": {},
   "source": [
    "## Making an oligos file"
   ]
  },
  {
   "cell_type": "code",
   "execution_count": 10,
   "metadata": {
    "collapsed": false
   },
   "outputs": [
    {
     "name": "stdout",
     "output_type": "stream",
     "text": [
      "forward GTGCCAGCMGCCGCGGTAA\r\n",
      "reverse GGACTACHVGGGTWTCTAAT\r\n"
     ]
    }
   ],
   "source": [
    "seqs = !grep -v \">\" $primerFile\n",
    "oligoFile = os.path.splitext(primerFile)[0] + '.oligo'\n",
    "with open(oligoFile, 'wb') as outFH:\n",
    "    for i,x in enumerate(seqs):    \n",
    "        if i == 0:\n",
    "            primer = 'forward'\n",
    "        elif i == 1:\n",
    "            primer = 'reverse'\n",
    "        else:\n",
    "            break\n",
    "        outFH.write('{} {}\\n'.format(primer, x))\n",
    "\n",
    "# checking output\n",
    "!head $oligoFile"
   ]
  },
  {
   "cell_type": "markdown",
   "metadata": {},
   "source": [
    "## Calling mothur"
   ]
  },
  {
   "cell_type": "code",
   "execution_count": null,
   "metadata": {
    "collapsed": false
   },
   "outputs": [
    {
     "name": "stdout",
     "output_type": "stream",
     "text": [
      "\u001b[H\u001b[2J\n",
      "\n",
      "\n",
      "\n",
      "\n",
      "\n",
      "mothur v.1.35.1\n",
      "Last updated: 03/31/2015\n",
      "\n",
      "by\n",
      "Patrick D. Schloss\n",
      "\n",
      "Department of Microbiology & Immunology\n",
      "University of Michigan\n",
      "pschloss@umich.edu\n",
      "http://www.mothur.org\n",
      "\n",
      "When using, please cite:\n",
      "Schloss, P.D., et al., Introducing mothur: Open-source, platform-independent, community-supported software for describing and comparing microbial communities. Appl Environ Microbiol, 2009. 75(23):7537-41.\n",
      "\n",
      "Distributed under the GNU General Public License\n",
      "\n",
      "Type 'help()' for information on the commands that are available\n",
      "\n",
      "Type 'quit()' to exit program\n",
      "\n",
      "\n",
      "\n",
      "mothur > pcr.seqs(fasta=bac_complete.fna, oligos=/home/nick/notebook/SIPSim/dev/515F-806R.oligo, pdiffs=2, processors=24)\n",
      "\n",
      "Using 24 processors.\n",
      "Processing sequence: 100\n",
      "Processing sequence: 100\n",
      "Processing sequence: 100\n",
      "Processing sequence: 100\n",
      "Processing sequence: 100\n",
      "Processing sequence: 100\n",
      "Processing sequence: 100\n",
      "Processing sequence: 100\n",
      "Processing sequence: 100\n",
      "Processing sequence: 100\n",
      "Processing sequence: 100\n",
      "Processing sequence: 100\n",
      "Processing sequence: 100\n",
      "Processing sequence: 100\n",
      "Processing sequence: 100\n",
      "Processing sequence: 100\n",
      "Processing sequence: 100\n",
      "Processing sequence: 100\n",
      "Processing sequence: 100\n",
      "Processing sequence: 100\n"
     ]
    }
   ],
   "source": [
    "cmd = 'mothur \"#pcr.seqs(fasta={}, oligos={}, pdiffs=1, processors=24)\"'.format(catGenomeFile, oligoFile)\n",
    "!$cmd"
   ]
  },
  {
   "cell_type": "markdown",
   "metadata": {},
   "source": [
    "# Filtering out large sequences"
   ]
  },
  {
   "cell_type": "code",
   "execution_count": 79,
   "metadata": {
    "collapsed": false
   },
   "outputs": [
    {
     "name": "stdout",
     "output_type": "stream",
     "text": [
      "NC_017540_Klebsiella_pneumoniae_KCTC_2242__Klebsiella_pneumoniae_KCTC_2242\tfpdiffs=0(match) rpdiffs=0(match)\t4857180\r\n",
      "NZ_CP012349_Salmonella_enterica_subsp__enterica_serovar_Sloterdijk_str__ATCC_\tfpdiffs=0(match) rpdiffs=0(match)\t702714\r\n",
      "NC_014622_Paenibacillus_polymyxa_SC2__Paenibacillus_polymyxa_SC2\tfpdiffs=0(match) rpdiffs=0(match)\t2632047\r\n"
     ]
    }
   ],
   "source": [
    "!seq_tools fasta_info --sn --sl bac_complete.pcr.fna > bac_complete.pcr_len.txt\n",
    "!head -n 3 bac_complete.pcr_len.txt"
   ]
  },
  {
   "cell_type": "code",
   "execution_count": 74,
   "metadata": {
    "collapsed": false
   },
   "outputs": [
    {
     "data": {
      "image/png": "[encoded data removed]"
     },
     "metadata": {},
     "output_type": "display_data"
    }
   ],
   "source": [
    "%%R -i workDir -h 300 -w 600\n",
    "F = file.path(workDir, 'bac_complete.pcr_len.txt')\n",
    "df = read.delim(F, sep='\\t', header=FALSE)\n",
    "\n",
    "ggplot(df, aes(V3)) +\n",
    "    geom_histogram() +\n",
    "    labs(x='amplicon length (bp)')"
   ]
  },
  {
   "cell_type": "code",
   "execution_count": 75,
   "metadata": {
    "collapsed": false
   },
   "outputs": [
    {
     "data": {
      "image/png": "[encoded data removed]"
     },
     "metadata": {},
     "output_type": "display_data"
    }
   ],
   "source": [
    "%%R -h 300 -w 600\n",
    "df.f = df %>%\n",
    "    filter(V3 < 500) \n",
    "\n",
    "ggplot(df.f, aes(V3)) +\n",
    "    geom_histogram() +\n",
    "    labs(x='amplicon length (bp)')"
   ]
  },
  {
   "cell_type": "code",
   "execution_count": 84,
   "metadata": {
    "collapsed": false
   },
   "outputs": [],
   "source": [
    "%%R\n",
    "outFile = 'bac_complete.pcr.accnos'\n",
    "write.table(df.f %>% select(V1, V2), outFile, sep='\\t', quote=FALSE, row.names=FALSE, col.names=FALSE)"
   ]
  },
  {
   "cell_type": "code",
   "execution_count": 85,
   "metadata": {
    "collapsed": false
   },
   "outputs": [
    {
     "name": "stdout",
     "output_type": "stream",
     "text": [
      "\u001b[H\u001b[2J\n",
      "\n",
      "\n",
      "\n",
      "\n",
      "\n",
      "mothur v.1.35.1\n",
      "Last updated: 03/31/2015\n",
      "\n",
      "by\n",
      "Patrick D. Schloss\n",
      "\n",
      "Department of Microbiology & Immunology\n",
      "University of Michigan\n",
      "pschloss@umich.edu\n",
      "http://www.mothur.org\n",
      "\n",
      "When using, please cite:\n",
      "Schloss, P.D., et al., Introducing mothur: Open-source, platform-independent, community-supported software for describing and comparing microbial communities. Appl Environ Microbiol, 2009. 75(23):7537-41.\n",
      "\n",
      "Distributed under the GNU General Public License\n",
      "\n",
      "Type 'help()' for information on the commands that are available\n",
      "\n",
      "Type 'quit()' to exit program\n",
      "\n",
      "\n",
      "\n",
      "mothur > get.seqs(fasta=bac_complete.pcr.fna, accnos=bac_complete.pcr.accnos)\n",
      "Selected 902 sequences from your fasta file.\n",
      "\n",
      "Output File Names: \n",
      "bac_complete.pcr.pick.fna\n",
      "\n",
      "\n",
      "mothur > quit()\n"
     ]
    }
   ],
   "source": [
    "cmd = 'mothur \"#get.seqs(fasta={}, accnos={})\"'.format('bac_complete.pcr.fna', 'bac_complete.pcr.accnos')\n",
    "!$cmd"
   ]
  },
  {
   "cell_type": "markdown",
   "metadata": {},
   "source": [
    "## Checking final, filtered amplicon pool"
   ]
  },
  {
   "cell_type": "code",
   "execution_count": 86,
   "metadata": {
    "collapsed": false
   },
   "outputs": [
    {
     "name": "stdout",
     "output_type": "stream",
     "text": [
      "\u001b[H\u001b[2J\r\n",
      "\r\n",
      "\r\n",
      "\r\n",
      "\r\n",
      "\r\n",
      "mothur v.1.35.1\r\n",
      "Last updated: 03/31/2015\r\n",
      "\r\n",
      "by\r\n",
      "Patrick D. Schloss\r\n",
      "\r\n",
      "Department of Microbiology & Immunology\r\n",
      "University of Michigan\r\n",
      "pschloss@umich.edu\r\n",
      "http://www.mothur.org\r\n",
      "\r\n",
      "When using, please cite:\r\n",
      "Schloss, P.D., et al., Introducing mothur: Open-source, platform-independent, community-supported software for describing and comparing microbial communities. Appl Environ Microbiol, 2009. 75(23):7537-41.\r\n",
      "\r\n",
      "Distributed under the GNU General Public License\r\n",
      "\r\n",
      "Type 'help()' for information on the commands that are available\r\n",
      "\r\n",
      "Type 'quit()' to exit program\r\n",
      "\r\n",
      "\r\n",
      "\r\n",
      "mothur > summary.seqs(fasta=bac_complete.pcr.pick.fna)\r\n",
      "\r\n",
      "Using 1 processors.\r\n",
      "\r\n",
      "\t\tStart\tEnd\tNBases\tAmbigs\tPolymer\tNumSeqs\r\n",
      "Minimum:\t1\t246\t246\t0\t3\t1\r\n",
      "2.5%-tile:\t1\t252\t252\t0\t3\t23\r\n",
      "25%-tile:\t1\t253\t253\t0\t4\t226\r\n",
      "Median: \t1\t253\t253\t0\t4\t452\r\n",
      "75%-tile:\t1\t253\t253\t0\t5\t677\r\n",
      "97.5%-tile:\t1\t254\t254\t0\t6\t880\r\n",
      "Maximum:\t1\t255\t255\t0\t7\t902\r\n",
      "Mean:\t1\t252.919\t252.919\t0\t4.67295\r\n",
      "# of Seqs:\t902\r\n",
      "\r\n",
      "Output File Names: \r\n",
      "bac_complete.pcr.pick.summary\r\n",
      "\r\n",
      "It took 0 secs to summarize 902 sequences.\r\n",
      "\r\n",
      "mothur > quit()\r\n"
     ]
    }
   ],
   "source": [
    "cmd = 'mothur \"#summary.seqs(fasta={})\"'.format('bac_complete.pcr.pick.fna')\n",
    "!$cmd"
   ]
  },
  {
   "cell_type": "code",
   "execution_count": 87,
   "metadata": {
    "collapsed": false
   },
   "outputs": [],
   "source": [
    "# checking for multiple amplicons from the same genome\n",
    "ret = !grep \">\" bac_complete.pcr.pick.fna\n",
    "cnt = {}\n",
    "for x in ret:\n",
    "    x = x.split('\\t')[0]\n",
    "    try:\n",
    "        cnt[x] += 1\n",
    "    except KeyError:\n",
    "        cnt[x] = 1      \n",
    "        \n",
    "for x,y in cnt.items():\n",
    "    if y > 1:\n",
    "        print x\n",
    "        \n",
    "cnt = None        "
   ]
  },
  {
   "cell_type": "code",
   "execution_count": null,
   "metadata": {
    "collapsed": true
   },
   "outputs": [],
   "source": []
  }
 ],
 "metadata": {
  "hide_input": true,
  "kernelspec": {
   "display_name": "Python 2",
   "language": "python",
   "name": "python2"
  },
  "language_info": {
   "codemirror_mode": {
    "name": "ipython",
    "version": 2
   },
   "file_extension": ".py",
   "mimetype": "text/x-python",
   "name": "python",
   "nbconvert_exporter": "python",
   "pygments_lexer": "ipython2",
   "version": "2.7.11"
  }
 },
 "nbformat": 4,
 "nbformat_minor": 0
}
