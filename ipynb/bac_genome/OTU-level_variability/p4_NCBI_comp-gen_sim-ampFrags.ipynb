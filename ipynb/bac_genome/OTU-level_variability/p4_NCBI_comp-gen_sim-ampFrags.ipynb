{
 "cells": [
  {
   "cell_type": "markdown",
   "metadata": {},
   "source": [
    "# Goal\n",
    "\n",
    "* simulating amplicon fragments for genomes in non-singleton OTUs"
   ]
  },
  {
   "cell_type": "markdown",
   "metadata": {},
   "source": [
    "# Setting variables"
   ]
  },
  {
   "cell_type": "code",
   "execution_count": 1,
   "metadata": {
    "collapsed": true
   },
   "outputs": [],
   "source": [
    "import os\n",
    "\n",
    "workDir = '/var/seq_data/ncbi_db/genome/Jan2016/ampFrags/'\n",
    "genomeDir = '/var/seq_data/ncbi_db/genome/Jan2016/bac_complete_rn/'\n",
    "ampliconFile = '/var/seq_data/ncbi_db/genome/Jan2016/rnammer_aln/otusn_map_nonSingle.txt'"
   ]
  },
  {
   "cell_type": "markdown",
   "metadata": {},
   "source": [
    "# Init"
   ]
  },
  {
   "cell_type": "code",
   "execution_count": 2,
   "metadata": {
    "collapsed": false
   },
   "outputs": [],
   "source": [
    "%load_ext rpy2.ipython\n",
    "%load_ext pushnote"
   ]
  },
  {
   "cell_type": "code",
   "execution_count": 3,
   "metadata": {
    "collapsed": false
   },
   "outputs": [
    {
     "name": "stderr",
     "output_type": "stream",
     "text": [
      "/opt/anaconda/lib/python2.7/site-packages/rpy2/robjects/functions.py:106: UserWarning: \n",
      "Attaching package: ‘dplyr’\n",
      "\n",
      "\n",
      "  res = super(Function, self).__call__(*new_args, **new_kwargs)\n",
      "/opt/anaconda/lib/python2.7/site-packages/rpy2/robjects/functions.py:106: UserWarning: The following objects are masked from ‘package:stats’:\n",
      "\n",
      "    filter, lag\n",
      "\n",
      "\n",
      "  res = super(Function, self).__call__(*new_args, **new_kwargs)\n",
      "/opt/anaconda/lib/python2.7/site-packages/rpy2/robjects/functions.py:106: UserWarning: The following objects are masked from ‘package:base’:\n",
      "\n",
      "    intersect, setdiff, setequal, union\n",
      "\n",
      "\n",
      "  res = super(Function, self).__call__(*new_args, **new_kwargs)\n"
     ]
    }
   ],
   "source": [
    "%%R\n",
    "library(dplyr)\n",
    "library(tidyr)\n",
    "library(ggplot2)"
   ]
  },
  {
   "cell_type": "code",
   "execution_count": 4,
   "metadata": {
    "collapsed": false
   },
   "outputs": [
    {
     "name": "stdout",
     "output_type": "stream",
     "text": [
      "/var/seq_data/ncbi_db/genome/Jan2016/ampFrags\n"
     ]
    }
   ],
   "source": [
    "if not os.path.isdir(workDir):\n",
    "    os.makedirs(workDir)\n",
    "    \n",
    "%cd $workDir"
   ]
  },
  {
   "cell_type": "code",
   "execution_count": 5,
   "metadata": {
    "collapsed": true
   },
   "outputs": [],
   "source": [
    "# simlink amplicon OTU map file\n",
    "tmp = os.path.join(workDir, '../', ampliconFile)\n",
    "!ln -s -f $tmp ."
   ]
  },
  {
   "cell_type": "markdown",
   "metadata": {
    "collapsed": true
   },
   "source": [
    "# Indexing genomes"
   ]
  },
  {
   "cell_type": "code",
   "execution_count": 6,
   "metadata": {
    "collapsed": false
   },
   "outputs": [
    {
     "name": "stdout",
     "output_type": "stream",
     "text": [
      "rRNA_NZ_CP009129_Planococcus_sp__PAMC_21323__Planococcus_sp__PAMC_21323_424242-425779_DIR+\tOTU.1\t100\t253\t0\t0\t1\t253\t1\t253\t*\t*\tPlanococcus_sp_PAMC_21323.fna\t39\r\n",
      "rRNA_NZ_CP009129_Planococcus_sp__PAMC_21323__Planococcus_sp__PAMC_21323_836724-838261_DIR+\tOTU.1\t100\t253\t0\t0\t1\t253\t1\t253\t*\t*\tPlanococcus_sp_PAMC_21323.fna\t39\r\n",
      "rRNA_NZ_CP009129_Planococcus_sp__PAMC_21323__Planococcus_sp__PAMC_21323_3114313-3115850_DIR+\tOTU.1\t100\t253\t0\t0\t1\t253\t1\t253\t*\t*\tPlanococcus_sp_PAMC_21323.fna\t39\r\n"
     ]
    }
   ],
   "source": [
    "!head -n 3 $ampliconFile"
   ]
  },
  {
   "cell_type": "code",
   "execution_count": 7,
   "metadata": {
    "collapsed": false
   },
   "outputs": [
    {
     "name": "stdout",
     "output_type": "stream",
     "text": [
      "Planococcus_sp_PAMC_21323.fna\r\n",
      "Planococcus_sp_PAMC_21323.fna\r\n",
      "Planococcus_sp_PAMC_21323.fna\r\n",
      "Planococcus_sp_PAMC_21323.fna\r\n",
      "Planococcus_sp_PAMC_21323.fna\r\n",
      "Plautia_stali_symbiont.fna\r\n",
      "Pluralibacter_gergoviae.fna\r\n",
      "Planococcus_sp_PAMC_21323.fna\r\n",
      "Plautia_stali_symbiont.fna\r\n",
      "Plautia_stali_symbiont.fna\r\n",
      "cut: write error: Broken pipe\r\n"
     ]
    }
   ],
   "source": [
    "!cut -f 13 $ampliconFile | head"
   ]
  },
  {
   "cell_type": "markdown",
   "metadata": {},
   "source": [
    "## symlinking all genomes of interest"
   ]
  },
  {
   "cell_type": "code",
   "execution_count": 8,
   "metadata": {
    "collapsed": false
   },
   "outputs": [],
   "source": [
    "!cut -f 13 $ampliconFile | \\\n",
    "    sort -u | \\\n",
    "    perl -pe 's|^|../bac_complete_rn/|' | \\\n",
    "    xargs -I % ln -s -f % ."
   ]
  },
  {
   "cell_type": "code",
   "execution_count": 9,
   "metadata": {
    "collapsed": false
   },
   "outputs": [
    {
     "name": "stdout",
     "output_type": "stream",
     "text": [
      "3217\n",
      "3217\n"
     ]
    }
   ],
   "source": [
    "!cut -f 13 $ampliconFile | sort -u | wc -l\n",
    "!find . -name \"*.fna\" | wc -l"
   ]
  },
  {
   "cell_type": "code",
   "execution_count": 10,
   "metadata": {
    "collapsed": false
   },
   "outputs": [
    {
     "name": "stdout",
     "output_type": "stream",
     "text": [
      "total 3.1M\r\n",
      "lrwxrwxrwx 1 nick seq_data_users  67 Feb 14 10:26 Zymomonas_mobilis_subsp_mobilis_NRRL_B-12526.fna -> ../bac_complete_rn/Zymomonas_mobilis_subsp_mobilis_NRRL_B-12526.fna\r\n",
      "lrwxrwxrwx 1 nick seq_data_users  75 Feb 14 10:26 Zymomonas_mobilis_subsp_mobilis_str_CP4_NRRL_B-14023.fna -> ../bac_complete_rn/Zymomonas_mobilis_subsp_mobilis_str_CP4_NRRL_B-14023.fna\r\n",
      "lrwxrwxrwx 1 nick seq_data_users  69 Feb 14 10:26 Zymomonas_mobilis_subsp_mobilis_ZM4_ATCC_31821.fna -> ../bac_complete_rn/Zymomonas_mobilis_subsp_mobilis_ZM4_ATCC_31821.fna\r\n"
     ]
    }
   ],
   "source": [
    "!ls -thlc 2>/dev/null | head -n 4"
   ]
  },
  {
   "cell_type": "markdown",
   "metadata": {},
   "source": [
    "## Making genome -> genome_file index "
   ]
  },
  {
   "cell_type": "code",
   "execution_count": 13,
   "metadata": {
    "collapsed": false
   },
   "outputs": [
    {
     "name": "stdout",
     "output_type": "stream",
     "text": [
      "3217 genome_index.txt\n",
      "Acaryochloris_marina_MBIC11017\tAcaryochloris_marina_MBIC11017.fna\n",
      "Acetobacterium_woodii_DSM_1030\tAcetobacterium_woodii_DSM_1030.fna\n",
      "Acetobacter_pasteurianus_386B\tAcetobacter_pasteurianus_386B.fna\n",
      "Acetobacter_pasteurianus\tAcetobacter_pasteurianus.fna\n",
      "Acetobacter_pasteurianus_IFO_3283-01-42C\tAcetobacter_pasteurianus_IFO_3283-01-42C.fna\n",
      "Acetobacter_pasteurianus_IFO_3283-01\tAcetobacter_pasteurianus_IFO_3283-01.fna\n",
      "Acetobacter_pasteurianus_IFO_3283-03\tAcetobacter_pasteurianus_IFO_3283-03.fna\n",
      "Acetobacter_pasteurianus_IFO_3283-07\tAcetobacter_pasteurianus_IFO_3283-07.fna\n",
      "Acetobacter_pasteurianus_IFO_3283-12\tAcetobacter_pasteurianus_IFO_3283-12.fna\n",
      "Acetobacter_pasteurianus_IFO_3283-22\tAcetobacter_pasteurianus_IFO_3283-22.fna\n"
     ]
    }
   ],
   "source": [
    "!cut -f 13 $ampliconFile | perl -pe 's/(.+).fna/\\$1\\t\\$1\\.fna/' | sort -u > genome_index.txt\n",
    "!wc -l genome_index.txt\n",
    "!head genome_index.txt"
   ]
  },
  {
   "cell_type": "markdown",
   "metadata": {},
   "source": [
    "# Index genomes"
   ]
  },
  {
   "cell_type": "code",
   "execution_count": 14,
   "metadata": {
    "collapsed": false
   },
   "outputs": [],
   "source": [
    "!SIPSim genome_index \\\n",
    "    genome_index.txt \\\n",
    "    --fp . --np 26 \\\n",
    "    > index_log.txt \\\n",
    "    2> index_log_err.txt"
   ]
  },
  {
   "cell_type": "code",
   "execution_count": 17,
   "metadata": {
    "collapsed": false
   },
   "outputs": [
    {
     "name": "stdout",
     "output_type": "stream",
     "text": [
      "3217\r\n"
     ]
    }
   ],
   "source": [
    "!find . -name \"*sqlite3.db\" | wc -l"
   ]
  },
  {
   "cell_type": "markdown",
   "metadata": {},
   "source": [
    "# Simulating fragments"
   ]
  },
  {
   "cell_type": "code",
   "execution_count": 18,
   "metadata": {
    "collapsed": true
   },
   "outputs": [],
   "source": [
    "# copy primer file\n",
    "!cp /home/nick/notebook/SIPSim/dev/515F-806R.fna ../"
   ]
  },
  {
   "cell_type": "code",
   "execution_count": null,
   "metadata": {
    "collapsed": true
   },
   "outputs": [],
   "source": [
    "!SIPSim fragments \\\n",
    "    genome_index.txt \\\n",
    "    --fp $workDir \\\n",
    "    --fr ../515F-806R.fna \\\n",
    "    --fld skewed-normal,9000,2500,-5 \\\n",
    "    --flr None,None \\\n",
    "    --nf 10000 \\\n",
    "    --np 20 \\\n",
    "    2> ../ampFrags.log \\\n",
    "    > ../ampFrags.pkl      "
   ]
  },
  {
   "cell_type": "code",
   "execution_count": 21,
   "metadata": {
    "collapsed": false
   },
   "outputs": [
    {
     "name": "stdout",
     "output_type": "stream",
     "text": [
      "-rw-rw-r-- 1 nick seq_data_users 1.5G Feb 14 15:01 ../ampFrags.pkl\r\n"
     ]
    }
   ],
   "source": [
    "!ls -thlc ../ampFrags.pkl"
   ]
  },
  {
   "cell_type": "markdown",
   "metadata": {},
   "source": [
    "# Converting to a KDE"
   ]
  },
  {
   "cell_type": "code",
   "execution_count": 23,
   "metadata": {
    "collapsed": false
   },
   "outputs": [],
   "source": [
    "!SIPSim fragment_KDE ../ampFrags.pkl > ../ampFrags_KDE.pkl"
   ]
  },
  {
   "cell_type": "code",
   "execution_count": 25,
   "metadata": {
    "collapsed": false
   },
   "outputs": [
    {
     "name": "stdout",
     "output_type": "stream",
     "text": [
      "-rw-rw-r-- 1 nick seq_data_users 464M Feb 15 08:03 ../ampFrags_KDE.pkl\r\n"
     ]
    }
   ],
   "source": [
    "!ls -thlc ../ampFrags_KDE.pkl"
   ]
  },
  {
   "cell_type": "code",
   "execution_count": null,
   "metadata": {
    "collapsed": true
   },
   "outputs": [],
   "source": []
  }
 ],
 "metadata": {
  "hide_input": true,
  "kernelspec": {
   "display_name": "Python 2",
   "language": "python",
   "name": "python2"
  },
  "language_info": {
   "codemirror_mode": {
    "name": "ipython",
    "version": 2
   },
   "file_extension": ".py",
   "mimetype": "text/x-python",
   "name": "python",
   "nbconvert_exporter": "python",
   "pygments_lexer": "ipython2",
   "version": "2.7.11"
  }
 },
 "nbformat": 4,
 "nbformat_minor": 0
}
