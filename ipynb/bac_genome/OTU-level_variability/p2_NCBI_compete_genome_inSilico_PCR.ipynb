{
 "cells": [
  {
   "cell_type": "markdown",
   "metadata": {},
   "source": [
    "# Goal\n",
    "\n",
    "* in silico PCR with 515F-806R primers on all NCBI compelete genomes\n",
    "  * amplicons will be clustered to produce OTUs"
   ]
  },
  {
   "cell_type": "markdown",
   "metadata": {},
   "source": [
    "# Setting variables"
   ]
  },
  {
   "cell_type": "code",
   "execution_count": 99,
   "metadata": {
    "collapsed": true
   },
   "outputs": [],
   "source": [
    "import os\n",
    "workDir = '/var/seq_data/ncbi_db/genome/Jan2016/'\n",
    "genomeDir = os.path.join(workDir, 'bac_complete_rn')\n",
    "primerFile = '/home/nick/notebook/SIPSim/dev/515F-806R.fna'"
   ]
  },
  {
   "cell_type": "markdown",
   "metadata": {},
   "source": [
    "# Init"
   ]
  },
  {
   "cell_type": "code",
   "execution_count": 100,
   "metadata": {
    "collapsed": false
   },
   "outputs": [
    {
     "name": "stdout",
     "output_type": "stream",
     "text": [
      "The rpy2.ipython extension is already loaded. To reload it, use:\n",
      "  %reload_ext rpy2.ipython\n",
      "The pushnote extension is already loaded. To reload it, use:\n",
      "  %reload_ext pushnote\n"
     ]
    }
   ],
   "source": [
    "%load_ext rpy2.ipython\n",
    "%load_ext pushnote"
   ]
  },
  {
   "cell_type": "code",
   "execution_count": 101,
   "metadata": {
    "collapsed": false
   },
   "outputs": [],
   "source": [
    "%%R\n",
    "library(dplyr)\n",
    "library(tidyr)\n",
    "library(ggplot2)"
   ]
  },
  {
   "cell_type": "code",
   "execution_count": 102,
   "metadata": {
    "collapsed": false
   },
   "outputs": [
    {
     "name": "stdout",
     "output_type": "stream",
     "text": [
      "/var/seq_data/ncbi_db/genome/Jan2016\n"
     ]
    }
   ],
   "source": [
    "if not os.path.isdir(workDir):\n",
    "    os.makedirs(workDir)\n",
    "    \n",
    "%cd $workDir"
   ]
  },
  {
   "cell_type": "markdown",
   "metadata": {},
   "source": [
    "# concat all genome sequences"
   ]
  },
  {
   "cell_type": "code",
   "execution_count": 104,
   "metadata": {
    "collapsed": false
   },
   "outputs": [],
   "source": [
    "#catGenomeFile = 'bac_complete_rn.fna'\n",
    "#!rm -f $catGenomeFile\n",
    "#!find $genomeDir -name \"*.fna\" | xargs -I % bash -c \"cat %; echo\" >> $catGenomeFile"
   ]
  },
  {
   "cell_type": "code",
   "execution_count": 105,
   "metadata": {
    "collapsed": true
   },
   "outputs": [],
   "source": [
    "# fixing issues of no line breaks for new sequence IDs in fastas\n",
    "#!perl -pi -e 's/>/\\n>/ if /.+>/' $catGenomeFile"
   ]
  },
  {
   "cell_type": "code",
   "execution_count": 109,
   "metadata": {
    "collapsed": false
   },
   "outputs": [
    {
     "name": "stdout",
     "output_type": "stream",
     "text": [
      "3779\r\n"
     ]
    }
   ],
   "source": [
    "# checking number of sequences\n",
    "#!grep -c \">\" $catGenomeFile"
   ]
  },
  {
   "cell_type": "code",
   "execution_count": 110,
   "metadata": {
    "collapsed": false
   },
   "outputs": [],
   "source": [
    "# checking for duplicate sequence IDs\n",
    "#ret = !grep \">\" $catGenomeFile | sort | uniq -c\n",
    "#for x in ret:\n",
    "#    x = x.lstrip().split(' ')\n",
    "#    x[0] = int(x[0])\n",
    "#    if x[0] > 1:\n",
    "#        print x"
   ]
  },
  {
   "cell_type": "markdown",
   "metadata": {},
   "source": [
    "# rnammer to ID 16S genes"
   ]
  },
  {
   "cell_type": "code",
   "execution_count": 112,
   "metadata": {
    "collapsed": true
   },
   "outputs": [],
   "source": [
    "rnammerDir = os.path.join(workDir, 'rnammer')\n",
    "if not os.path.isdir(rnammerDir):\n",
    "    os.makedirs(rnammerDir)   "
   ]
  },
  {
   "cell_type": "code",
   "execution_count": 114,
   "metadata": {
    "collapsed": true
   },
   "outputs": [],
   "source": [
    "%%bash -s \"$genomeDir\" \"$rnammerDir\"\n",
    "\n",
    "find $1 -name \"*.fna\" | \\\n",
    "    perl -pe 's/.+\\/|\\.fna//g' | \\\n",
    "    xargs -n 1 -I % -P 30 bash -c \\\n",
    "    \"rnammer -S bac -m ssu -gff $2/%_rrn.gff -f $2/%_rrn.fna -xml $2/%_rrn.xml < $1/%.fna\""
   ]
  },
  {
   "cell_type": "code",
   "execution_count": 115,
   "metadata": {
    "collapsed": true
   },
   "outputs": [],
   "source": [
    "!cd $rnammerDir; \\\n",
    "    egrep -v \"^#\" *.gff | \\\n",
    "    grep \"16s_rRNA\" | \\\n",
    "    perl -pe 's/:/\\t/' > ssu_summary.txt"
   ]
  },
  {
   "cell_type": "code",
   "execution_count": 116,
   "metadata": {
    "collapsed": false
   },
   "outputs": [
    {
     "name": "stdout",
     "output_type": "stream",
     "text": [
      "ssu gene length distribution:\n",
      "1\tmin\t175.90\n",
      "1\tQ1\t1906.30\n",
      "1\tmean\t1925.95\n",
      "1\tmedian\t1950.40\n",
      "1\tQ3\t1994.50\n",
      "1\tmax\t2090.20\n",
      "1\tstdev\t128.81\n"
     ]
    }
   ],
   "source": [
    "%%bash -s \"$rnammerDir\"\n",
    "cd $1\n",
    "\n",
    "printf \"ssu gene length distribution:\\n\"\n",
    "cut -d $'\\t' -f 7 ssu_summary.txt | NY_misc_perl stats_descriptive"
   ]
  },
  {
   "cell_type": "code",
   "execution_count": 121,
   "metadata": {
    "collapsed": false
   },
   "outputs": [
    {
     "name": "stdout",
     "output_type": "stream",
     "text": [
      "Number of rRNA SSU sequences: 15226\n"
     ]
    }
   ],
   "source": [
    "# combining sequences\n",
    "ssu_all_file = os.path.join(rnammerDir, 'ssu_all.fna')\n",
    "!cd $rnammerDir; \\\n",
    "    cat *_rrn.fna > $ssu_all_file\n",
    "    \n",
    "!printf \"Number of rRNA SSU sequences: \"\n",
    "!grep -c \">\" $ssu_all_file"
   ]
  },
  {
   "cell_type": "markdown",
   "metadata": {},
   "source": [
    "# in-silco PCR\n",
    "\n",
    "* using `pcr.seqs` command from Mothur"
   ]
  },
  {
   "cell_type": "markdown",
   "metadata": {},
   "source": [
    "## Making an oligos file"
   ]
  },
  {
   "cell_type": "code",
   "execution_count": 119,
   "metadata": {
    "collapsed": false
   },
   "outputs": [
    {
     "name": "stdout",
     "output_type": "stream",
     "text": [
      "forward GTGCCAGCMGCCGCGGTAA\r\n",
      "reverse GGACTACHVGGGTWTCTAAT\r\n"
     ]
    }
   ],
   "source": [
    "seqs = !grep -v \">\" $primerFile\n",
    "oligoFile = os.path.splitext(primerFile)[0] + '.oligo'\n",
    "with open(oligoFile, 'wb') as outFH:\n",
    "    for i,x in enumerate(seqs):    \n",
    "        if i == 0:\n",
    "            primer = 'forward'\n",
    "        elif i == 1:\n",
    "            primer = 'reverse'\n",
    "        else:\n",
    "            break\n",
    "        outFH.write('{} {}\\n'.format(primer, x))\n",
    "\n",
    "# checking output\n",
    "!head $oligoFile"
   ]
  },
  {
   "cell_type": "markdown",
   "metadata": {},
   "source": [
    "## Calling mothur pcr.seqs"
   ]
  },
  {
   "cell_type": "code",
   "execution_count": 122,
   "metadata": {
    "collapsed": false
   },
   "outputs": [
    {
     "name": "stdout",
     "output_type": "stream",
     "text": [
      "\u001b[H\u001b[2J\n",
      "\n",
      "\n",
      "\n",
      "\n",
      "\n",
      "mothur v.1.35.1\n",
      "Last updated: 03/31/2015\n",
      "\n",
      "by\n",
      "Patrick D. Schloss\n",
      "\n",
      "Department of Microbiology & Immunology\n",
      "University of Michigan\n",
      "pschloss@umich.edu\n",
      "http://www.mothur.org\n",
      "\n",
      "When using, please cite:\n",
      "Schloss, P.D., et al., Introducing mothur: Open-source, platform-independent, community-supported software for describing and comparing microbial communities. Appl Environ Microbiol, 2009. 75(23):7537-41.\n",
      "\n",
      "Distributed under the GNU General Public License\n",
      "\n",
      "Type 'help()' for information on the commands that are available\n",
      "\n",
      "Type 'quit()' to exit program\n",
      "\n",
      "\n",
      "\n",
      "mothur > pcr.seqs(fasta=/var/seq_data/ncbi_db/genome/Jan2016/rnammer/ssu_all.fna, oligos=/home/nick/notebook/SIPSim/dev/515F-806R.oligo, pdiffs=1, processors=24)\n",
      "\n",
      "Using 24 processors.\n",
      "Processing sequence: 100\n",
      "Processing sequence: 100\n",
      "Processing sequence: 100\n",
      "Processing sequence: 100\n",
      "Processing sequence: 100\n",
      "Processing sequence: 100\n",
      "Processing sequence: 100\n",
      "Processing sequence: 100\n",
      "Processing sequence: 100\n",
      "Processing sequence: 100\n",
      "Processing sequence: 100\n",
      "Processing sequence: 100\n",
      "Processing sequence: 100\n",
      "Processing sequence: 100\n",
      "Processing sequence: 200\n",
      "Processing sequence: 200\n",
      "Processing sequence: 100\n",
      "Processing sequence: 100\n",
      "Processing sequence: 200\n",
      "Processing sequence: 200\n",
      "Processing sequence: 100\n",
      "Processing sequence: 300\n",
      "Processing sequence: 100\n",
      "Processing sequence: 200\n",
      "Processing sequence: 200\n",
      "Processing sequence: 100\n",
      "Processing sequence: 300\n",
      "Processing sequence: 300\n",
      "Processing sequence: 100\n",
      "Processing sequence: 100\n",
      "Processing sequence: 200\n",
      "Processing sequence: 200\n",
      "Processing sequence: 400\n",
      "Processing sequence: 200\n",
      "Processing sequence: 100\n",
      "Processing sequence: 200\n",
      "Processing sequence: 300\n",
      "Processing sequence: 200\n",
      "Processing sequence: 200\n",
      "Processing sequence: 500\n",
      "Processing sequence: 400\n",
      "Processing sequence: 300\n",
      "Processing sequence: 300\n",
      "Processing sequence: 200\n",
      "Processing sequence: 200\n",
      "Processing sequence: 200\n",
      "Processing sequence: 300\n",
      "Processing sequence: 200\n",
      "Processing sequence: 500\n",
      "Processing sequence: 200\n",
      "Processing sequence: 300\n",
      "Processing sequence: 300\n",
      "Processing sequence: 200\n",
      "Processing sequence: 300\n",
      "Processing sequence: 300\n",
      "Processing sequence: 400\n",
      "Processing sequence: 400\n",
      "Processing sequence: 300\n",
      "Processing sequence: 400\n",
      "Processing sequence: 300\n",
      "Processing sequence: 300\n",
      "Processing sequence: 400\n",
      "Processing sequence: 400\n",
      "Processing sequence: 200\n",
      "Processing sequence: 400\n",
      "Processing sequence: 400\n",
      "Processing sequence: 400\n",
      "Processing sequence: 500\n",
      "Processing sequence: 500\n",
      "Processing sequence: 500\n",
      "Processing sequence: 300\n",
      "Processing sequence: 500\n",
      "Processing sequence: 100\n",
      "Processing sequence: 400\n",
      "Processing sequence: 400\n",
      "Processing sequence: 400\n",
      "Processing sequence: 300\n",
      "Processing sequence: 300\n",
      "Processing sequence: 300\n",
      "Processing sequence: 400\n",
      "Processing sequence: 300\n",
      "Processing sequence: 600\n",
      "Processing sequence: 500\n",
      "Processing sequence: 600\n",
      "Processing sequence: 600\n",
      "Processing sequence: 636\n",
      "Processing sequence: 200\n",
      "Processing sequence: 500\n",
      "Processing sequence: 500\n",
      "Processing sequence: 400\n",
      "Processing sequence: 400\n",
      "Processing sequence: 500\n",
      "Processing sequence: 400\n",
      "Processing sequence: 500\n",
      "Processing sequence: 500\n",
      "Processing sequence: 600\n",
      "Processing sequence: 635\n",
      "Processing sequence: 300\n",
      "Processing sequence: 400\n",
      "Processing sequence: 400\n",
      "Processing sequence: 634\n",
      "Processing sequence: 600\n",
      "Processing sequence: 632\n",
      "Processing sequence: 600\n",
      "Processing sequence: 600\n",
      "Processing sequence: 500\n",
      "Processing sequence: 637\n",
      "Processing sequence: 400\n",
      "Processing sequence: 633\n",
      "Processing sequence: 600\n",
      "Processing sequence: 633\n",
      "Processing sequence: 600\n",
      "Processing sequence: 631\n",
      "Processing sequence: 634\n",
      "Processing sequence: 500\n",
      "Processing sequence: 500\n",
      "Processing sequence: 600\n",
      "Processing sequence: 633\n",
      "Processing sequence: 500\n",
      "Processing sequence: 600\n",
      "Processing sequence: 500\n",
      "Processing sequence: 634\n",
      "Processing sequence: 600\n",
      "Processing sequence: 500\n",
      "Processing sequence: 600\n",
      "Processing sequence: 600\n",
      "Processing sequence: 625\n",
      "Processing sequence: 600\n",
      "Processing sequence: 631\n",
      "Processing sequence: 634\n",
      "Processing sequence: 638\n",
      "Processing sequence: 600\n",
      "Processing sequence: 500\n",
      "Processing sequence: 600\n",
      "Processing sequence: 638\n",
      "Processing sequence: 500\n",
      "Processing sequence: 600\n",
      "Processing sequence: 600\n",
      "Processing sequence: 628\n",
      "Processing sequence: 637\n",
      "Processing sequence: 639\n",
      "Processing sequence: 600\n",
      "Processing sequence: 200\n",
      "Processing sequence: 634\n",
      "Processing sequence: 300\n",
      "Processing sequence: 400\n",
      "Processing sequence: 500\n",
      "Processing sequence: 600\n",
      "Processing sequence: 633\n",
      "Processing sequence: 200\n",
      "Processing sequence: 300\n",
      "Processing sequence: 400\n",
      "Processing sequence: 500\n",
      "Processing sequence: 600\n",
      "Processing sequence: 640\n",
      "Processing sequence: 200\n",
      "Processing sequence: 300\n",
      "Processing sequence: 400\n",
      "Processing sequence: 500\n",
      "Processing sequence: 600\n",
      "Processing sequence: 638\n",
      "Processing sequence: 100\n",
      "Processing sequence: 200\n",
      "Processing sequence: 300\n",
      "Processing sequence: 400\n",
      "Processing sequence: 500\n",
      "Processing sequence: 600\n",
      "Processing sequence: 639\n",
      "\n",
      "Output File Names: \n",
      "/var/seq_data/ncbi_db/genome/Jan2016/rnammer/ssu_all.pcr.fna\n",
      "/var/seq_data/ncbi_db/genome/Jan2016/rnammer/ssu_all.bad.accnos\n",
      "/var/seq_data/ncbi_db/genome/Jan2016/rnammer/ssu_all.scrap.pcr.fna\n",
      "\n",
      "\n",
      "It took 5 secs to screen 15226 sequences.\n",
      "\n",
      "mothur > quit()\n"
     ]
    }
   ],
   "source": [
    "cmd = 'mothur \"#pcr.seqs(fasta={}, oligos={}, pdiffs=1, processors=24)\"'.format(ssu_all_file, oligoFile)\n",
    "!$cmd"
   ]
  },
  {
   "cell_type": "code",
   "execution_count": 127,
   "metadata": {
    "collapsed": false
   },
   "outputs": [
    {
     "name": "stdout",
     "output_type": "stream",
     "text": [
      "\u001b[H\u001b[2J\n",
      "\n",
      "\n",
      "\n",
      "\n",
      "\n",
      "mothur v.1.35.1\n",
      "Last updated: 03/31/2015\n",
      "\n",
      "by\n",
      "Patrick D. Schloss\n",
      "\n",
      "Department of Microbiology & Immunology\n",
      "University of Michigan\n",
      "pschloss@umich.edu\n",
      "http://www.mothur.org\n",
      "\n",
      "When using, please cite:\n",
      "Schloss, P.D., et al., Introducing mothur: Open-source, platform-independent, community-supported software for describing and comparing microbial communities. Appl Environ Microbiol, 2009. 75(23):7537-41.\n",
      "\n",
      "Distributed under the GNU General Public License\n",
      "\n",
      "Type 'help()' for information on the commands that are available\n",
      "\n",
      "Type 'quit()' to exit program\n",
      "\n",
      "\n",
      "\n",
      "mothur > summary.seqs(fasta=/var/seq_data/ncbi_db/genome/Jan2016/rnammer/ssu_all.pcr.fna)\n",
      "\n",
      "Using 1 processors.\n",
      "\n",
      "\t\tStart\tEnd\tNBases\tAmbigs\tPolymer\tNumSeqs\n",
      "Minimum:\t1\t193\t193\t0\t3\t1\n",
      "2.5%-tile:\t1\t252\t252\t0\t4\t378\n",
      "25%-tile:\t1\t253\t253\t0\t4\t3777\n",
      "Median: \t1\t253\t253\t0\t5\t7554\n",
      "75%-tile:\t1\t253\t253\t0\t6\t11330\n",
      "97.5%-tile:\t1\t254\t254\t0\t6\t14729\n",
      "Maximum:\t1\t542\t542\t4\t9\t15106\n",
      "Mean:\t1\t253.035\t253.035\t0.00205216\t4.87277\n",
      "# of Seqs:\t15106\n",
      "\n",
      "Output File Names: \n",
      "/var/seq_data/ncbi_db/genome/Jan2016/rnammer/ssu_all.pcr.summary\n",
      "\n",
      "It took 0 secs to summarize 15106 sequences.\n",
      "\n",
      "mothur > quit()\n"
     ]
    }
   ],
   "source": [
    "ssu_pcr_file = os.path.splitext(ssu_all_file)[0] + '.pcr.fna'\n",
    "cmd = 'mothur \"#summary.seqs(fasta={})\"'.format(ssu_pcr_file)\n",
    "!$cmd"
   ]
  },
  {
   "cell_type": "markdown",
   "metadata": {},
   "source": [
    "## Quality filtering ssu amplicon sequences"
   ]
  },
  {
   "cell_type": "code",
   "execution_count": 137,
   "metadata": {
    "collapsed": false,
    "scrolled": false
   },
   "outputs": [
    {
     "name": "stdout",
     "output_type": "stream",
     "text": [
      "Processing sequence: 13200\r\n",
      "Processing sequence: 13300\r\n",
      "Processing sequence: 13400\r\n",
      "Processing sequence: 13500\r\n",
      "Processing sequence: 13600\r\n",
      "Processing sequence: 13700\r\n",
      "Processing sequence: 13800\r\n",
      "Processing sequence: 13900\r\n",
      "Processing sequence: 14000\r\n",
      "Processing sequence: 14100\r\n",
      "Processing sequence: 14200\r\n",
      "Processing sequence: 14300\r\n",
      "Processing sequence: 14400\r\n",
      "Processing sequence: 14500\r\n",
      "Processing sequence: 14600\r\n",
      "Processing sequence: 14700\r\n",
      "Processing sequence: 14800\r\n",
      "Processing sequence: 14900\r\n",
      "Processing sequence: 15000\r\n",
      "Processing sequence: 15100\r\n",
      "Processing sequence: 15106\r\n",
      "\r\n",
      "Output File Names: \r\n",
      "/var/seq_data/ncbi_db/genome/Jan2016/rnammer/ssu_all.pcr.good.fna\r\n",
      "/var/seq_data/ncbi_db/genome/Jan2016/rnammer/ssu_all.pcr.bad.accnos\r\n",
      "\r\n",
      "\r\n",
      "It took 0 secs to screen 15106 sequences.\r\n",
      "\r\n",
      "mothur > quit()\r\n"
     ]
    }
   ],
   "source": [
    "cmd = 'mothur \"#screen.seqs(fasta={}, maxlength=300, minlength=252, maxambig=0, maxhomop=8)\"'.format(ssu_pcr_file)\n",
    "!$cmd | tail -n 30"
   ]
  },
  {
   "cell_type": "code",
   "execution_count": 138,
   "metadata": {
    "collapsed": false
   },
   "outputs": [
    {
     "name": "stdout",
     "output_type": "stream",
     "text": [
      "\u001b[H\u001b[2J\n",
      "\n",
      "\n",
      "\n",
      "\n",
      "\n",
      "mothur v.1.35.1\n",
      "Last updated: 03/31/2015\n",
      "\n",
      "by\n",
      "Patrick D. Schloss\n",
      "\n",
      "Department of Microbiology & Immunology\n",
      "University of Michigan\n",
      "pschloss@umich.edu\n",
      "http://www.mothur.org\n",
      "\n",
      "When using, please cite:\n",
      "Schloss, P.D., et al., Introducing mothur: Open-source, platform-independent, community-supported software for describing and comparing microbial communities. Appl Environ Microbiol, 2009. 75(23):7537-41.\n",
      "\n",
      "Distributed under the GNU General Public License\n",
      "\n",
      "Type 'help()' for information on the commands that are available\n",
      "\n",
      "Type 'quit()' to exit program\n",
      "\n",
      "\n",
      "\n",
      "mothur > summary.seqs(fasta=/var/seq_data/ncbi_db/genome/Jan2016/rnammer/ssu_all.pcr.good.fna)\n",
      "\n",
      "Using 1 processors.\n",
      "\n",
      "\t\tStart\tEnd\tNBases\tAmbigs\tPolymer\tNumSeqs\n",
      "Minimum:\t1\t252\t252\t0\t3\t1\n",
      "2.5%-tile:\t1\t252\t252\t0\t4\t377\n",
      "25%-tile:\t1\t253\t253\t0\t4\t3762\n",
      "Median: \t1\t253\t253\t0\t5\t7523\n",
      "75%-tile:\t1\t253\t253\t0\t6\t11284\n",
      "97.5%-tile:\t1\t254\t254\t0\t6\t14668\n",
      "Maximum:\t1\t262\t262\t0\t8\t15044\n",
      "Mean:\t1\t252.943\t252.943\t0\t4.8735\n",
      "# of Seqs:\t15044\n",
      "\n",
      "Output File Names: \n",
      "/var/seq_data/ncbi_db/genome/Jan2016/rnammer/ssu_all.pcr.good.summary\n",
      "\n",
      "It took 1 secs to summarize 15044 sequences.\n",
      "\n",
      "mothur > quit()\n"
     ]
    }
   ],
   "source": [
    "ssu_pcr_filt_file = os.path.splitext(ssu_pcr_file)[0] + '.good.fna'\n",
    "cmd = 'mothur \"#summary.seqs(fasta={})\"'.format(ssu_pcr_filt_file)\n",
    "!$cmd"
   ]
  },
  {
   "cell_type": "code",
   "execution_count": 139,
   "metadata": {
    "collapsed": false
   },
   "outputs": [
    {
     "name": "stdout",
     "output_type": "stream",
     "text": [
      ">rRNA_NC_009925_Acaryochloris_marina_MBIC11017__Acaryochloris_marina_MBIC11017_5636180-5637670_DIR+\tfpdiffs=0(match) rpdiffs=0(match) \t /molecule=16s_rRNA /score=1853.9\r\n",
      "GACGGAGGAGGCAAGCGTTATCCGGAATTATTGGGCGTAAAGCGTCCGCAGGTGGCCTATCAAGTCTGTTGTTAAAGCCCAGGGCTCAACTCTGGATCAGCAATGGAAACTGAAAGGCTAGAGTACGGTAGGGGTAGAGGGAATTCCCAGTGTAGCGGTGAAATGCGTAGATATTGGGAAGAACACCAGTGGCGAAGGCGCTCTGCTGGGCCGTAACTGACACTCATGGACGAAAGCTAGGGGAGCGAAAGGG\r\n",
      ">rRNA_NC_009925_Acaryochloris_marina_MBIC11017__Acaryochloris_marina_MBIC11017_1409155-1410645_DIR-\tfpdiffs=0(match) rpdiffs=0(match) \t /molecule=16s_rRNA /score=1853.9\r\n",
      "GACGGAGGAGGCAAGCGTTATCCGGAATTATTGGGCGTAAAGCGTCCGCAGGTGGCCTATCAAGTCTGTTGTTAAAGCCCAGGGCTCAACTCTGGATCAGCAATGGAAACTGAAAGGCTAGAGTACGGTAGGGGTAGAGGGAATTCCCAGTGTAGCGGTGAAATGCGTAGATATTGGGAAGAACACCAGTGGCGAAGGCGCTCTGCTGGGCCGTAACTGACACTCATGGACGAAAGCTAGGGGAGCGAAAGGG\r\n"
     ]
    }
   ],
   "source": [
    "!head -n 4 $ssu_pcr_filt_file"
   ]
  },
  {
   "cell_type": "code",
   "execution_count": 140,
   "metadata": {
    "collapsed": false
   },
   "outputs": [
    {
     "data": {
      "text/plain": [
       "'/var/seq_data/ncbi_db/genome/Jan2016/rnammer/ssu_all.pcr.good.fna'"
      ]
     },
     "execution_count": 140,
     "metadata": {},
     "output_type": "execute_result"
    }
   ],
   "source": [
    "ssu_pcr_filt_file "
   ]
  },
  {
   "cell_type": "code",
   "execution_count": null,
   "metadata": {
    "collapsed": true
   },
   "outputs": [],
   "source": []
  }
 ],
 "metadata": {
  "hide_input": true,
  "kernelspec": {
   "display_name": "Python 2",
   "language": "python",
   "name": "python2"
  },
  "language_info": {
   "codemirror_mode": {
    "name": "ipython",
    "version": 2
   },
   "file_extension": ".py",
   "mimetype": "text/x-python",
   "name": "python",
   "nbconvert_exporter": "python",
   "pygments_lexer": "ipython2",
   "version": "2.7.11"
  }
 },
 "nbformat": 4,
 "nbformat_minor": 0
}
