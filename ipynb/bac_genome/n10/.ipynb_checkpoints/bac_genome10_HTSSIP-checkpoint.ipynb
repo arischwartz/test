{
 "cells": [
  {
   "cell_type": "markdown",
   "metadata": {
    "deletable": true,
    "editable": true
   },
   "source": [
    "# Description:\n",
    "\n",
    "* dev dataset\n",
    "* just using 10 random bacteria genomes\n",
    "* dataset copied from wPDF_py\n",
    "* re-coding how diffusion is modeled\n",
    "  * modeling diffusion as a function of fragment length, but altering how it is implemented for speed"
   ]
  },
  {
   "cell_type": "markdown",
   "metadata": {
    "deletable": true,
    "editable": true
   },
   "source": [
    "# Var"
   ]
  },
  {
   "cell_type": "code",
   "execution_count": 1,
   "metadata": {
    "ExecuteTime": {
     "end_time": "2017-07-16T06:35:05.483594",
     "start_time": "2017-07-16T06:35:05.477415"
    },
    "collapsed": false,
    "deletable": true,
    "editable": true
   },
   "outputs": [],
   "source": [
    "workDir = '/home/nick/notebook/SIPSim/dev/bac_genome10/HTSSIP/'\n",
    "\n",
    "# params\n",
    "nprocs = 10\n",
    "bandwidth = 0.8\n",
    "DBL_scaling = 0.5\n",
    "subsample_dist = 'lognormal'\n",
    "subsample_mean = 9.432\n",
    "subsample_scale = 0.5\n",
    "subsample_min = 10000\n",
    "subsample_max = 30000"
   ]
  },
  {
   "cell_type": "markdown",
   "metadata": {
    "deletable": true,
    "editable": true
   },
   "source": [
    "# Init"
   ]
  },
  {
   "cell_type": "code",
   "execution_count": 2,
   "metadata": {
    "ExecuteTime": {
     "end_time": "2017-07-16T06:35:05.775334",
     "start_time": "2017-07-16T06:35:05.772753"
    },
    "collapsed": false,
    "deletable": true,
    "editable": true
   },
   "outputs": [],
   "source": [
    "import os\n",
    "import sys"
   ]
  },
  {
   "cell_type": "code",
   "execution_count": 3,
   "metadata": {
    "ExecuteTime": {
     "end_time": "2017-07-16T06:35:06.406208",
     "start_time": "2017-07-16T06:35:05.907784"
    },
    "collapsed": false,
    "deletable": true,
    "editable": true
   },
   "outputs": [],
   "source": [
    "%load_ext rpy2.ipython"
   ]
  },
  {
   "cell_type": "code",
   "execution_count": 4,
   "metadata": {
    "ExecuteTime": {
     "end_time": "2017-07-16T06:35:07.122360",
     "start_time": "2017-07-16T06:35:06.407854"
    },
    "collapsed": false,
    "deletable": true,
    "editable": true
   },
   "outputs": [
    {
     "name": "stderr",
     "output_type": "stream",
     "text": [
      "/home/nick/bin/anaconda3/envs/py35/lib/python3.5/site-packages/rpy2/rinterface/__init__.py:186: RRuntimeWarning: \n",
      "Attaching package: ‘dplyr’\n",
      "\n",
      "\n",
      "  warnings.warn(x, RRuntimeWarning)\n",
      "/home/nick/bin/anaconda3/envs/py35/lib/python3.5/site-packages/rpy2/rinterface/__init__.py:186: RRuntimeWarning: The following objects are masked from ‘package:stats’:\n",
      "\n",
      "    filter, lag\n",
      "\n",
      "\n",
      "  warnings.warn(x, RRuntimeWarning)\n",
      "/home/nick/bin/anaconda3/envs/py35/lib/python3.5/site-packages/rpy2/rinterface/__init__.py:186: RRuntimeWarning: The following objects are masked from ‘package:base’:\n",
      "\n",
      "    intersect, setdiff, setequal, union\n",
      "\n",
      "\n",
      "  warnings.warn(x, RRuntimeWarning)\n"
     ]
    }
   ],
   "source": [
    "%%R\n",
    "library(dplyr)\n",
    "library(tidyr)\n",
    "library(ggplot2)"
   ]
  },
  {
   "cell_type": "code",
   "execution_count": 5,
   "metadata": {
    "ExecuteTime": {
     "end_time": "2017-07-16T06:35:07.128222",
     "start_time": "2017-07-16T06:35:07.123828"
    },
    "collapsed": false,
    "deletable": true,
    "editable": true
   },
   "outputs": [
    {
     "name": "stdout",
     "output_type": "stream",
     "text": [
      "/home/nick/notebook/SIPSim/dev/bac_genome10/HTSSIP\n"
     ]
    }
   ],
   "source": [
    "if not os.path.isdir(workDir):\n",
    "    os.makedirs(workDir)\n",
    "%cd $workDir"
   ]
  },
  {
   "cell_type": "code",
   "execution_count": 6,
   "metadata": {
    "ExecuteTime": {
     "end_time": "2017-07-16T06:35:12.061725",
     "start_time": "2017-07-16T06:35:12.054740"
    },
    "collapsed": false,
    "deletable": true,
    "editable": true
   },
   "outputs": [
    {
     "name": "stdout",
     "output_type": "stream",
     "text": [
      "Min BD: 1.67323\n",
      "Max BD: 1.7744\n"
     ]
    }
   ],
   "source": [
    "# Determining min/max BD that \n",
    "## min G+C cutoff\n",
    "min_GC = 13.5\n",
    "## max G+C cutoff\n",
    "max_GC = 80\n",
    "## max G+C shift\n",
    "max_13C_shift_in_BD = 0.036\n",
    "\n",
    "\n",
    "min_range_BD = min_GC/100.0 * 0.098 + 1.66    \n",
    "max_range_BD = max_GC/100.0 * 0.098 + 1.66    \n",
    "\n",
    "max_range_BD = max_range_BD + max_13C_shift_in_BD\n",
    "\n",
    "print('Min BD: {}'.format(min_range_BD))\n",
    "print('Max BD: {}'.format(max_range_BD))"
   ]
  },
  {
   "cell_type": "markdown",
   "metadata": {
    "deletable": true,
    "editable": true
   },
   "source": [
    "# Simulation"
   ]
  },
  {
   "cell_type": "markdown",
   "metadata": {
    "deletable": true,
    "editable": true
   },
   "source": [
    "## Indexing genomes\n",
    "\n",
    "* needed for *in silico* PCR to simulate amplicon-fragments"
   ]
  },
  {
   "cell_type": "code",
   "execution_count": 7,
   "metadata": {
    "ExecuteTime": {
     "end_time": "2017-07-16T06:35:59.279307",
     "start_time": "2017-07-16T06:35:13.971712"
    },
    "collapsed": false,
    "deletable": true,
    "editable": true
   },
   "outputs": [
    {
     "name": "stdout",
     "output_type": "stream",
     "text": [
      "0: 85.38%, 0:00:32.896777\n",
      "0: 87.32%, 0:00:33.679537\n",
      "0: 89.26%, 0:00:34.461325\n",
      "0: 91.20%, 0:00:35.248926\n",
      "0: 93.14%, 0:00:36.038003\n",
      "0: 95.08%, 0:00:36.834498\n",
      "0: 97.02%, 0:00:37.646834\n",
      "0: 98.96%, 0:00:38.436043\n",
      "Time used: 0:00:41.231442\n",
      "Done.\n"
     ]
    },
    {
     "name": "stderr",
     "output_type": "stream",
     "text": [
      "Indexing: \"Roseobacter_litoralis_Och_149\"\n",
      "Indexing: \"Idiomarina_loihiensis_GSL_199\"\n",
      "Indexing: \"Bacillus_cereus_F837_76\"\n",
      "Indexing: \"Micrococcus_luteus_NCTC_2665\"\n",
      "Indexing: \"Geobacter_lovleyi_SZ\"\n",
      "Indexing: \"Cyanobium_gracile_PCC_6307\"\n",
      "Indexing: \"Leuconostoc_citreum_KM20\"\n",
      "Indexing: \"Escherichia_coli_APEC_O78\"\n",
      "Indexing: \"Xanthomonas_axonopodis_Xac29-1\"\n",
      "Indexing: \"Nitrosomonas_europaea_ATCC_19718\"\n",
      "#-- All genomes indexed --#\n"
     ]
    }
   ],
   "source": [
    "%%bash -s $nprocs\n",
    "source activate SIPSim\n",
    "\n",
    "SIPSim genome_index \\\n",
    "    ../genomes/genomes10.txt \\\n",
    "    --fp ../genomes/ \\\n",
    "    --np $1 \\\n",
    "    > index_log.txt\n",
    "    \n",
    "tail index_log.txt"
   ]
  },
  {
   "cell_type": "markdown",
   "metadata": {
    "deletable": true,
    "editable": true
   },
   "source": [
    "## Making incorporator config file"
   ]
  },
  {
   "cell_type": "code",
   "execution_count": 30,
   "metadata": {
    "ExecuteTime": {
     "end_time": "2017-07-16T06:47:31.218220",
     "start_time": "2017-07-16T06:47:31.214980"
    },
    "collapsed": false,
    "deletable": true,
    "editable": true,
    "scrolled": true
   },
   "outputs": [],
   "source": [
    "# %%bash -s $nprocs\n",
    "# source activate SIPSim\n",
    "\n",
    "# SIPSim incorp_config_example \\\n",
    "#     --percTaxa 50 \\\n",
    "#     --percIncorpMean 50 \\\n",
    "#     --percIncorpSD 1 \\\n",
    "#     --n_reps 3 \\\n",
    "#     > incorp.config\n",
    "    \n",
    "# # checking output\n",
    "# cat incorp.config"
   ]
  },
  {
   "cell_type": "code",
   "execution_count": 65,
   "metadata": {
    "ExecuteTime": {
     "end_time": "2017-07-16T06:55:52.855855",
     "start_time": "2017-07-16T06:55:52.825937"
    },
    "collapsed": true
   },
   "outputs": [],
   "source": [
    "incorp_config = \"\"\"\n",
    "[1]\n",
    "    # baseline: no incorporation\n",
    "    treatment = control\n",
    "    \n",
    "    [[intraPopDist 1]]\n",
    "        distribution = uniform\n",
    "        \n",
    "        [[[start]]]\n",
    "            \n",
    "            [[[[interPopDist 1]]]]\n",
    "                distribution = uniform\n",
    "                start = 0\n",
    "                end = 0\n",
    "        \n",
    "        [[[end]]]\n",
    "            \n",
    "            [[[[interPopDist 1]]]]\n",
    "                distribution = uniform\n",
    "                start = 0\n",
    "                end = 0\n",
    "[2]\n",
    "    # 'treatment' community: possible incorporation\n",
    "    treatment = labeled\n",
    "    max_perc_taxa_incorp = 50\n",
    "    \n",
    "    [[intraPopDist 1]]\n",
    "        distribution = normal\n",
    "        [[[mu]]]\n",
    "            [[[[interPopDist 1]]]]\n",
    "                start = 30\n",
    "                distribution = uniform\n",
    "                end = 90\n",
    "        [[[sigma]]]\n",
    "            [[[[interPopDist 1]]]]\n",
    "                start = 1\n",
    "                distribution = uniform\n",
    "                end = 1\n",
    "    \n",
    "\n",
    "[3]\n",
    "    # baseline: no incorporation\n",
    "    treatment = control\n",
    "    \n",
    "    [[intraPopDist 1]]\n",
    "        distribution = uniform\n",
    "        \n",
    "        [[[start]]]\n",
    "            \n",
    "            [[[[interPopDist 1]]]]\n",
    "                distribution = uniform\n",
    "                start = 0\n",
    "                end = 0\n",
    "        \n",
    "        [[[end]]]\n",
    "            \n",
    "            [[[[interPopDist 1]]]]\n",
    "                distribution = uniform\n",
    "                start = 0\n",
    "                end = 0\n",
    "[4]\n",
    "    # 'treatment' community: possible incorporation\n",
    "    treatment = labeled\n",
    "    max_perc_taxa_incorp = 50\n",
    "    \n",
    "    [[intraPopDist 1]]\n",
    "        distribution = normal\n",
    "        [[[mu]]]\n",
    "            [[[[interPopDist 1]]]]\n",
    "                start = 30\n",
    "                distribution = uniform\n",
    "                end = 90\n",
    "        [[[sigma]]]\n",
    "            [[[[interPopDist 1]]]]\n",
    "                start = 1\n",
    "                distribution = uniform\n",
    "                end = 1\n",
    "    \n",
    "\n",
    "[5]\n",
    "    # baseline: no incorporation\n",
    "    treatment = control\n",
    "    \n",
    "    [[intraPopDist 1]]\n",
    "        distribution = uniform\n",
    "        \n",
    "        [[[start]]]\n",
    "            \n",
    "            [[[[interPopDist 1]]]]\n",
    "                distribution = uniform\n",
    "                start = 0\n",
    "                end = 0\n",
    "        \n",
    "        [[[end]]]\n",
    "            \n",
    "            [[[[interPopDist 1]]]]\n",
    "                distribution = uniform\n",
    "                start = 0\n",
    "                end = 0\n",
    "[6]\n",
    "    # 'treatment' community: possible incorporation\n",
    "    treatment = labeled\n",
    "    max_perc_taxa_incorp = 50\n",
    "    \n",
    "    [[intraPopDist 1]]\n",
    "        distribution = normal\n",
    "        [[[mu]]]\n",
    "            [[[[interPopDist 1]]]]\n",
    "                start = 30\n",
    "                distribution = uniform\n",
    "                end = 90\n",
    "        [[[sigma]]]\n",
    "            [[[[interPopDist 1]]]]\n",
    "                start = 1\n",
    "                distribution = uniform\n",
    "                end = 1\n",
    "\n",
    "\"\"\"\n",
    "with open('incorp.config', 'w') as outF:\n",
    "    outF.write(incorp_config)"
   ]
  },
  {
   "cell_type": "markdown",
   "metadata": {
    "deletable": true,
    "editable": true
   },
   "source": [
    "## Simulating communities"
   ]
  },
  {
   "cell_type": "code",
   "execution_count": 66,
   "metadata": {
    "ExecuteTime": {
     "end_time": "2017-07-16T06:55:56.778918",
     "start_time": "2017-07-16T06:55:53.425189"
    },
    "collapsed": false,
    "deletable": true,
    "editable": true
   },
   "outputs": [
    {
     "name": "stdout",
     "output_type": "stream",
     "text": [
      "library\ttaxon_name\trel_abund_perc\trank\n",
      "1\tCyanobium_gracile_PCC_6307\t38.674661093\t1\n",
      "1\tNitrosomonas_europaea_ATCC_19718\t13.010951761\t2\n",
      "1\tIdiomarina_loihiensis_GSL_199\t10.533246482\t3\n",
      "1\tBacillus_cereus_F837_76\t10.437157914\t4\n"
     ]
    }
   ],
   "source": [
    "%%bash \n",
    "source activate SIPSim\n",
    "\n",
    "SIPSim communities \\\n",
    "    --config incorp.config \\\n",
    "    --abund_dist_p mean:4,sigma:1 \\\n",
    "    ../genomes/genomes10.txt \\\n",
    "    > comm.txt\n",
    "    \n",
    "head -n 5 comm.txt    "
   ]
  },
  {
   "cell_type": "markdown",
   "metadata": {
    "deletable": true,
    "editable": true
   },
   "source": [
    "## Simulating gradient fractions"
   ]
  },
  {
   "cell_type": "code",
   "execution_count": 67,
   "metadata": {
    "ExecuteTime": {
     "end_time": "2017-07-16T06:56:00.075253",
     "start_time": "2017-07-16T06:55:56.780508"
    },
    "collapsed": false,
    "deletable": true,
    "editable": true
   },
   "outputs": [
    {
     "name": "stdout",
     "output_type": "stream",
     "text": [
      "library\tfraction\tBD_min\tBD_max\tfraction_size\n",
      "1\t1\t1.673\t1.675\t0.002\n",
      "1\t2\t1.675\t1.678\t0.003\n",
      "1\t3\t1.678\t1.681\t0.003\n",
      "1\t4\t1.681\t1.685\t0.004\n"
     ]
    }
   ],
   "source": [
    "%%bash -s $min_range_BD $max_range_BD\n",
    "source activate SIPSim\n",
    "\n",
    "SIPSim gradient_fractions \\\n",
    "    --BD_min $1 \\\n",
    "    --BD_max $2 \\\n",
    "    comm.txt \\\n",
    "    > fracs.txt  \n",
    "    \n",
    "head -n 5 fracs.txt"
   ]
  },
  {
   "cell_type": "markdown",
   "metadata": {
    "deletable": true,
    "editable": true
   },
   "source": [
    "## Simulating fragments"
   ]
  },
  {
   "cell_type": "code",
   "execution_count": 68,
   "metadata": {
    "ExecuteTime": {
     "end_time": "2017-07-16T06:56:21.253141",
     "start_time": "2017-07-16T06:56:00.076931"
    },
    "collapsed": false,
    "deletable": true,
    "editable": true
   },
   "outputs": [
    {
     "name": "stderr",
     "output_type": "stream",
     "text": [
      "Processing: \"Roseobacter_litoralis_Och_149\"\n",
      "Processing: \"Idiomarina_loihiensis_GSL_199\"\n",
      "Processing: \"Bacillus_cereus_F837_76\"\n",
      "Processing: \"Micrococcus_luteus_NCTC_2665\"\n",
      "Processing: \"Geobacter_lovleyi_SZ\"\n",
      "Processing: \"Cyanobium_gracile_PCC_6307\"\n",
      "Processing: \"Leuconostoc_citreum_KM20\"\n",
      "Processing: \"Escherichia_coli_APEC_O78\"\n",
      "Processing: \"Xanthomonas_axonopodis_Xac29-1\"\n",
      "Processing: \"Nitrosomonas_europaea_ATCC_19718\"\n",
      "  Genome name: Leuconostoc_citreum_KM20\n",
      "  Genome name: Xanthomonas_axonopodis_Xac29-1\n",
      "  Genome name: Roseobacter_litoralis_Och_149\n",
      "  Genome name: Geobacter_lovleyi_SZ\n",
      "  Genome length (bp): 1796284\n",
      "  Number of amplicons: 4\n",
      "  Number of fragments simulated: 10000\n",
      "  Genome name: Idiomarina_loihiensis_GSL_199\n",
      "  Genome length (bp): 2839759\n",
      "  Number of amplicons: 4\n",
      "  Number of fragments simulated: 10000\n",
      "  Genome length (bp): 3917761\n",
      "  Number of amplicons: 2\n",
      "  Number of fragments simulated: 10000\n",
      "  Genome name: Cyanobium_gracile_PCC_6307\n",
      "  Genome length (bp): 4505211\n",
      "  Number of amplicons: 1\n",
      "  Number of fragments simulated: 10000\n",
      "  Genome length (bp): 5153455\n",
      "  Number of amplicons: 2\n",
      "  Number of fragments simulated: 10000\n",
      "  Genome name: Micrococcus_luteus_NCTC_2665\n",
      "  Genome length (bp): 3342364\n",
      "  Number of amplicons: 2\n",
      "  Number of fragments simulated: 10000\n",
      "  Genome name: Nitrosomonas_europaea_ATCC_19718\n",
      "  Genome length (bp): 2501097\n",
      "  Number of amplicons: 2\n",
      "  Number of fragments simulated: 10000\n",
      "  Genome length (bp): 2812094\n",
      "  Number of amplicons: 1\n",
      "  Number of fragments simulated: 10000\n",
      "  Genome name: Escherichia_coli_APEC_O78\n",
      "  Genome length (bp): 4798435\n",
      "  Number of amplicons: 6\n",
      "  Number of fragments simulated: 10000\n",
      "  Genome name: Bacillus_cereus_F837_76\n",
      "  Genome length (bp): 5222906\n",
      "  Number of amplicons: 12\n",
      "  Number of fragments simulated: 10000\n"
     ]
    }
   ],
   "source": [
    "%%bash -s $nprocs \n",
    "source activate SIPSim\n",
    "\n",
    "# creating amplicon fragments\n",
    "SIPSim fragments \\\n",
    "    ../genomes/genomes10.txt \\\n",
    "    --fp ../genomes/ \\\n",
    "    --fr ../515Fm-927Rm.fna \\\n",
    "    --fld skewed-normal,9000,2500,-5 \\\n",
    "    --flr None,None \\\n",
    "    --np $1 \\\n",
    "    > genome10_ampFrag.pkl"
   ]
  },
  {
   "cell_type": "markdown",
   "metadata": {
    "deletable": true,
    "editable": true
   },
   "source": [
    "## Converting to KDE objects"
   ]
  },
  {
   "cell_type": "code",
   "execution_count": 69,
   "metadata": {
    "ExecuteTime": {
     "end_time": "2017-07-16T06:56:25.006936",
     "start_time": "2017-07-16T06:56:21.254991"
    },
    "collapsed": false,
    "deletable": true,
    "editable": true
   },
   "outputs": [],
   "source": [
    "%%bash -s $bandwidth\n",
    "source activate SIPSim\n",
    "\n",
    "SIPSim fragment_KDE \\\n",
    "    genome10_ampFrag.pkl \\\n",
    "    --bw $1 \\\n",
    "    > genome10_ampFrag_KDE.pkl"
   ]
  },
  {
   "cell_type": "markdown",
   "metadata": {
    "deletable": true,
    "editable": true
   },
   "source": [
    "### Checking fragment KDEs"
   ]
  },
  {
   "cell_type": "code",
   "execution_count": 70,
   "metadata": {
    "ExecuteTime": {
     "end_time": "2017-07-16T06:56:28.289230",
     "start_time": "2017-07-16T06:56:25.008701"
    },
    "collapsed": false,
    "deletable": true,
    "editable": true
   },
   "outputs": [
    {
     "name": "stderr",
     "output_type": "stream",
     "text": [
      "Loading KDEs...\n"
     ]
    }
   ],
   "source": [
    "%%bash -s $nprocs \n",
    "source activate SIPSim\n",
    "\n",
    "# info on KDEs\n",
    "SIPSim KDE_info \\\n",
    "    -s genome10_ampFrag_KDE.pkl \\\n",
    "    > genome10_ampFrag_info.txt"
   ]
  },
  {
   "cell_type": "code",
   "execution_count": 71,
   "metadata": {
    "ExecuteTime": {
     "end_time": "2017-07-16T06:56:28.303345",
     "start_time": "2017-07-16T06:56:28.290840"
    },
    "collapsed": true,
    "deletable": true,
    "editable": true
   },
   "outputs": [],
   "source": [
    "%%R \n",
    "# loading\n",
    "df = read.delim('genome10_ampFrag_info.txt', sep='\\t')\n",
    "df_kde1 = df %>%\n",
    "    filter(KDE_ID == 1)\n",
    "df_kde1 %>% head(n=3)\n",
    "\n",
    "BD_GC50 = 0.098 * 0.5 + 1.66"
   ]
  },
  {
   "cell_type": "code",
   "execution_count": 72,
   "metadata": {
    "ExecuteTime": {
     "end_time": "2017-07-16T06:56:28.575051",
     "start_time": "2017-07-16T06:56:28.304884"
    },
    "collapsed": false,
    "deletable": true,
    "editable": true
   },
   "outputs": [
    {
     "data": {
      "image/png": "[encoded data removed]"
     },
     "metadata": {},
     "output_type": "display_data"
    }
   ],
   "source": [
    "%%R -w 500 -h 400\n",
    "# plotting\n",
    "p_amp = ggplot(df_kde1, aes(taxon_ID, median)) +\n",
    "    geom_pointrange(aes(ymin=median-stdev, ymax=median+stdev)) +\n",
    "    geom_hline(yintercept=BD_GC50, linetype='dashed', color='red', alpha=0.7) +\n",
    "    labs(x='Median buoyant density') +\n",
    "    theme_bw() +\n",
    "    theme(\n",
    "        text = element_text(size=16),\n",
    "        axis.text.x = element_text(angle=65, hjust=1)\n",
    "    )\n",
    "plot(p_amp)"
   ]
  },
  {
   "cell_type": "markdown",
   "metadata": {
    "deletable": true,
    "editable": true
   },
   "source": [
    "## Adding diffusion"
   ]
  },
  {
   "cell_type": "code",
   "execution_count": 73,
   "metadata": {
    "ExecuteTime": {
     "end_time": "2017-07-16T06:56:44.460061",
     "start_time": "2017-07-16T06:56:28.576428"
    },
    "collapsed": false,
    "deletable": true,
    "editable": true
   },
   "outputs": [
    {
     "name": "stderr",
     "output_type": "stream",
     "text": [
      "Index size: 90508\n",
      "Processing: Roseobacter_litoralis_Och_149\n",
      "Processing: Leuconostoc_citreum_KM20\n",
      "Processing: Idiomarina_loihiensis_GSL_199\n",
      "Processing: Xanthomonas_axonopodis_Xac29-1\n",
      "Processing: Micrococcus_luteus_NCTC_2665\n",
      "Processing: Escherichia_coli_APEC_O78\n",
      "Processing: Nitrosomonas_europaea_ATCC_19718\n",
      "Processing: Bacillus_cereus_F837_76\n",
      "Processing: Geobacter_lovleyi_SZ\n",
      "Processing: Cyanobium_gracile_PCC_6307\n"
     ]
    }
   ],
   "source": [
    "%%bash -s $bandwidth $nprocs\n",
    "source activate SIPSim\n",
    "\n",
    "SIPSim diffusion \\\n",
    "    genome10_ampFrag_KDE.pkl \\\n",
    "    --bw $1 \\\n",
    "    --np $2 \\\n",
    "    > genome10_ampFrag_dif_KDE.pkl"
   ]
  },
  {
   "cell_type": "markdown",
   "metadata": {
    "deletable": true,
    "editable": true
   },
   "source": [
    "## Adding DBL effects"
   ]
  },
  {
   "cell_type": "code",
   "execution_count": 74,
   "metadata": {
    "ExecuteTime": {
     "end_time": "2017-07-16T06:56:56.285681",
     "start_time": "2017-07-16T06:56:44.461747"
    },
    "collapsed": false,
    "deletable": true,
    "editable": true
   },
   "outputs": [
    {
     "name": "stdout",
     "output_type": "stream",
     "text": [
      "DBL_index file written: \"DBL_index.txt\"\n",
      "Processing: Bacillus_cereus_F837_76\n",
      "Processing: Escherichia_coli_APEC_O78\n",
      "Processing: Micrococcus_luteus_NCTC_2665\n",
      "Processing: Roseobacter_litoralis_Och_149\n",
      "...\n",
      "Processing: Nitrosomonas_europaea_ATCC_19718\n",
      "Processing: Xanthomonas_axonopodis_Xac29-1\n",
      "Processing: Cyanobium_gracile_PCC_6307\n",
      "Processing: Leuconostoc_citreum_KM20\n",
      "Processing: Geobacter_lovleyi_SZ\n"
     ]
    }
   ],
   "source": [
    "%%bash -s $DBL_scaling $nprocs\n",
    "source activate SIPSim\n",
    "\n",
    "SIPSim DBL \\\n",
    "    --comm comm.txt \\\n",
    "    --commx $1 \\\n",
    "    --np $2 \\\n",
    "    -o genome10_ampFrag_dif_DBL_KDE.pkl \\\n",
    "    genome10_ampFrag_dif_KDE.pkl \\\n",
    "    2> genome10_ampFrag_dif_DBL_KDE.log\n",
    "    \n",
    "# checking output    \n",
    "head -n 5 genome10_ampFrag_dif_DBL_KDE.log\n",
    "echo \"...\"\n",
    "tail -n 5 genome10_ampFrag_dif_DBL_KDE.log"
   ]
  },
  {
   "cell_type": "markdown",
   "metadata": {
    "deletable": true,
    "editable": true
   },
   "source": [
    "## Adding isotope incorporation"
   ]
  },
  {
   "cell_type": "markdown",
   "metadata": {
    "deletable": true,
    "editable": true
   },
   "source": [
    "### Selecting incorporators"
   ]
  },
  {
   "cell_type": "code",
   "execution_count": 75,
   "metadata": {
    "ExecuteTime": {
     "end_time": "2017-07-16T06:56:59.468015",
     "start_time": "2017-07-16T06:56:56.287393"
    },
    "collapsed": false,
    "deletable": true,
    "editable": true
   },
   "outputs": [
    {
     "name": "stdout",
     "output_type": "stream",
     "text": [
      "Bacillus_cereus_F837_76\n",
      "Geobacter_lovleyi_SZ\n",
      "Nitrosomonas_europaea_ATCC_19718\n",
      "Escherichia_coli_APEC_O78\n",
      "Micrococcus_luteus_NCTC_2665\n"
     ]
    },
    {
     "name": "stderr",
     "output_type": "stream",
     "text": [
      "Loading KDEs...\n",
      "Subsampled 5 taxa\n"
     ]
    }
   ],
   "source": [
    "%%bash -s $nprocs\n",
    "source activate SIPSim\n",
    "\n",
    "SIPSim KDE_select_taxa \\\n",
    "    -f 0.5 \\\n",
    "    genome10_ampFrag_KDE.pkl \\\n",
    "    > incorporators.txt\n",
    "    \n",
    "tail incorporators.txt"
   ]
  },
  {
   "cell_type": "markdown",
   "metadata": {
    "deletable": true,
    "editable": true
   },
   "source": [
    "### Simulating incorp"
   ]
  },
  {
   "cell_type": "code",
   "execution_count": 76,
   "metadata": {
    "ExecuteTime": {
     "end_time": "2017-07-16T06:57:19.196420",
     "start_time": "2017-07-16T06:56:59.469827"
    },
    "collapsed": false,
    "deletable": true,
    "editable": true
   },
   "outputs": [
    {
     "name": "stdout",
     "output_type": "stream",
     "text": [
      "Loading KDE object...\n",
      "Processing library: 1\n",
      "Processing: Bacillus_cereus_F837_76\n",
      "Processing: Escherichia_coli_APEC_O78\n",
      "Processing: Micrococcus_luteus_NCTC_2665\n",
      "...\n",
      "Processing: Xanthomonas_axonopodis_Xac29-1\n",
      "Processing: Cyanobium_gracile_PCC_6307\n",
      "Processing: Leuconostoc_citreum_KM20\n",
      "Processing: Geobacter_lovleyi_SZ\n",
      "File written: genome10_ampFrag_BD-shift.txt\n"
     ]
    }
   ],
   "source": [
    "%%bash -s $nprocs\n",
    "source activate SIPSim\n",
    "\n",
    "SIPSim isotope_incorp \\\n",
    "    --comm comm.txt \\\n",
    "    --shift genome10_ampFrag_BD-shift.txt \\\n",
    "    --taxa incorporators.txt \\\n",
    "    --np $1 \\\n",
    "    -o genome10_ampFrag_dif_DBL_incorp_KDE.pkl \\\n",
    "    genome10_ampFrag_dif_DBL_KDE.pkl \\\n",
    "    incorp.config \\\n",
    "    2> genome10_ampFrag_dif_DBL_incorp_KDE.log\n",
    "    \n",
    "# checking log\n",
    "head -n 5 genome10_ampFrag_dif_DBL_incorp_KDE.log\n",
    "echo \"...\"\n",
    "tail -n 5 genome10_ampFrag_dif_DBL_incorp_KDE.log"
   ]
  },
  {
   "cell_type": "markdown",
   "metadata": {},
   "source": [
    "### Plotting BD shift\n",
    "\n",
    "* distribution of BD shifts for all fragments per genome"
   ]
  },
  {
   "cell_type": "code",
   "execution_count": 77,
   "metadata": {
    "ExecuteTime": {
     "end_time": "2017-07-16T06:57:20.801804",
     "start_time": "2017-07-16T06:57:19.198080"
    },
    "collapsed": false
   },
   "outputs": [
    {
     "data": {
      "image/png": "[encoded data removed]"
     },
     "metadata": {},
     "output_type": "display_data"
    }
   ],
   "source": [
    "%%R -w 1000 -h 350\n",
    "df = read.delim('genome10_ampFrag_BD-shift.txt', sep='\\t') %>%\n",
    "    mutate(library = library %>% as.character)\n",
    "\n",
    "p = ggplot(df, aes(taxon, mean, fill=library)) +\n",
    "    geom_boxplot(aes(ymin=min, lower=q25, middle=median, upper=q75, ymax=max)) +\n",
    "    labs(y='BD shift') + \n",
    "    theme_bw() +\n",
    "    theme(\n",
    "        axis.text.x = element_text(angle=45, hjust=1)\n",
    "    )\n",
    "plot(p)"
   ]
  },
  {
   "cell_type": "markdown",
   "metadata": {
    "deletable": true,
    "editable": true
   },
   "source": [
    "## Simulating OTU table"
   ]
  },
  {
   "cell_type": "code",
   "execution_count": null,
   "metadata": {
    "ExecuteTime": {
     "start_time": "2017-07-16T10:57:49.030Z"
    },
    "collapsed": false,
    "deletable": true,
    "editable": true
   },
   "outputs": [],
   "source": [
    "%%bash -s $nprocs\n",
    "source activate SIPSim\n",
    "\n",
    "SIPSim OTU_table \\\n",
    "    --abs 1e9 \\\n",
    "    --np $1 \\\n",
    "    genome10_ampFrag_dif_DBL_incorp_KDE.pkl \\\n",
    "    comm.txt \\\n",
    "    fracs.txt \\\n",
    "    > OTU_n3_abs1e9.txt \\\n",
    "    2> OTU_n3_abs1e9.log \n",
    "    \n",
    "# checking log\n",
    "head -n 3 OTU_n3_abs1e9.log \n",
    "echo '...'\n",
    "tail -n 3 OTU_n3_abs1e9.log "
   ]
  },
  {
   "cell_type": "markdown",
   "metadata": {
    "deletable": true,
    "editable": true
   },
   "source": [
    "### Creating 'wide' table"
   ]
  },
  {
   "cell_type": "code",
   "execution_count": null,
   "metadata": {
    "ExecuteTime": {
     "start_time": "2017-07-16T10:57:49.309Z"
    },
    "collapsed": false,
    "deletable": true,
    "editable": true
   },
   "outputs": [],
   "source": [
    "%%bash \n",
    "source activate SIPSim\n",
    "\n",
    "SIPSim OTU_wide_long -w \\\n",
    "    OTU_n3_abs1e9.txt \\\n",
    "    > OTU_n3_abs1e9_w.txt"
   ]
  },
  {
   "cell_type": "markdown",
   "metadata": {
    "deletable": true,
    "editable": true
   },
   "source": [
    "## Dataset from 'raw' counts"
   ]
  },
  {
   "cell_type": "markdown",
   "metadata": {
    "deletable": true,
    "editable": true
   },
   "source": [
    "### Creating 'wide' OTU table"
   ]
  },
  {
   "cell_type": "code",
   "execution_count": null,
   "metadata": {
    "ExecuteTime": {
     "start_time": "2017-07-16T10:57:49.957Z"
    },
    "collapsed": false,
    "deletable": true,
    "editable": true
   },
   "outputs": [],
   "source": [
    "%%bash \n",
    "source activate SIPSim\n",
    "\n",
    "SIPSim OTU_wide_long -w \\\n",
    "    OTU_n3_abs1e9.txt \\\n",
    "    > OTU_n3_abs1e9_w.txt"
   ]
  },
  {
   "cell_type": "markdown",
   "metadata": {
    "deletable": true,
    "editable": true
   },
   "source": [
    "### Making metadata"
   ]
  },
  {
   "cell_type": "code",
   "execution_count": null,
   "metadata": {
    "ExecuteTime": {
     "start_time": "2017-07-16T10:57:50.389Z"
    },
    "collapsed": false,
    "deletable": true,
    "editable": true
   },
   "outputs": [],
   "source": [
    "%%bash \n",
    "source activate SIPSim\n",
    "\n",
    "SIPSim OTU_sample_data \\\n",
    "    OTU_n3_abs1e9.txt \\\n",
    "    > OTU_n3_abs1e9_meta.txt"
   ]
  },
  {
   "cell_type": "markdown",
   "metadata": {
    "deletable": true,
    "editable": true
   },
   "source": [
    "### Simulating qPCR data"
   ]
  },
  {
   "cell_type": "code",
   "execution_count": null,
   "metadata": {
    "ExecuteTime": {
     "start_time": "2017-07-16T10:57:50.701Z"
    },
    "collapsed": false,
    "deletable": true,
    "editable": true
   },
   "outputs": [],
   "source": [
    "%%bash \n",
    "source activate SIPSim\n",
    "\n",
    "SIPSim qSIP \\\n",
    "    OTU_n3_abs1e9.txt \\\n",
    "    OTU_n3_abs1e9.txt \\\n",
    "    > OTU_n3_abs1e9_qSIP.txt"
   ]
  },
  {
   "cell_type": "markdown",
   "metadata": {
    "deletable": true,
    "editable": true
   },
   "source": [
    "### Creating phyloseq object"
   ]
  },
  {
   "cell_type": "code",
   "execution_count": null,
   "metadata": {
    "ExecuteTime": {
     "start_time": "2017-07-16T10:57:50.965Z"
    },
    "collapsed": false,
    "deletable": true,
    "editable": true
   },
   "outputs": [],
   "source": [
    "%%bash \n",
    "source activate SIPSim\n",
    "\n",
    "# getting around `WARNING: ignoring environment value of R_HOME` to STDOUT error\n",
    "unset R_HOME\n",
    "\n",
    "# making phyloseq object\n",
    "phyloseq_make.R OTU_n3_abs1e9_w.txt \\\n",
    "    -s OTU_n3_abs1e9_meta.txt \\\n",
    "   > OTU_n3_abs1e9.physeq"
   ]
  },
  {
   "cell_type": "markdown",
   "metadata": {
    "deletable": true,
    "editable": true
   },
   "source": [
    "## Simulating PCR"
   ]
  },
  {
   "cell_type": "code",
   "execution_count": null,
   "metadata": {
    "ExecuteTime": {
     "start_time": "2017-07-16T10:57:51.942Z"
    },
    "collapsed": false,
    "deletable": true,
    "editable": true
   },
   "outputs": [],
   "source": [
    "%%bash\n",
    "source activate SIPSim\n",
    "\n",
    "SIPSim OTU_PCR \\\n",
    "    OTU_n3_abs1e9.txt \\\n",
    "    > OTU_n3_abs1e9_PCR.txt"
   ]
  },
  {
   "cell_type": "markdown",
   "metadata": {
    "deletable": true,
    "editable": true
   },
   "source": [
    "## Subsampling from the OTU table \n",
    "\n",
    "* simulating sequencing of the DNA pool"
   ]
  },
  {
   "cell_type": "code",
   "execution_count": null,
   "metadata": {
    "ExecuteTime": {
     "start_time": "2017-07-16T10:57:52.243Z"
    },
    "collapsed": false,
    "deletable": true,
    "editable": true
   },
   "outputs": [],
   "source": [
    "%%bash -s $subsample_dist $subsample_mean $subsample_scale $subsample_min $subsample_max\n",
    "source activate SIPSim\n",
    "\n",
    "SIPSim OTU_subsample \\\n",
    "    --dist $1 \\\n",
    "    --dist_params mean:$2,sigma:$3 \\\n",
    "    --min_size $4 \\\n",
    "    --max_size $5 \\\n",
    "    OTU_n3_abs1e9_PCR.txt \\\n",
    "    > OTU_n3_abs1e9_PCR_subNorm.txt"
   ]
  },
  {
   "cell_type": "markdown",
   "metadata": {
    "deletable": true,
    "editable": true
   },
   "source": [
    "### Creating 'wide' OTU table"
   ]
  },
  {
   "cell_type": "code",
   "execution_count": null,
   "metadata": {
    "ExecuteTime": {
     "start_time": "2017-07-16T10:57:52.565Z"
    },
    "collapsed": false,
    "deletable": true,
    "editable": true
   },
   "outputs": [],
   "source": [
    "%%bash \n",
    "source activate SIPSim\n",
    "\n",
    "SIPSim OTU_wide_long -w \\\n",
    "    OTU_n3_abs1e9_PCR_subNorm.txt \\\n",
    "    > OTU_n3_abs1e9_PCR_subNorm_w.txt"
   ]
  },
  {
   "cell_type": "markdown",
   "metadata": {
    "deletable": true,
    "editable": true
   },
   "source": [
    "## Making metadata"
   ]
  },
  {
   "cell_type": "code",
   "execution_count": null,
   "metadata": {
    "ExecuteTime": {
     "start_time": "2017-07-16T10:57:52.861Z"
    },
    "collapsed": false,
    "deletable": true,
    "editable": true
   },
   "outputs": [],
   "source": [
    "%%bash \n",
    "source activate SIPSim\n",
    "\n",
    "SIPSim OTU_sample_data \\\n",
    "    OTU_n3_abs1e9_PCR_subNorm.txt \\\n",
    "    > OTU_n3_abs1e9_PCR_subNorm_meta.txt"
   ]
  },
  {
   "cell_type": "markdown",
   "metadata": {
    "deletable": true,
    "editable": true
   },
   "source": [
    "## Simulating qPCR data\n",
    "\n",
    "* needed for qSIP"
   ]
  },
  {
   "cell_type": "code",
   "execution_count": null,
   "metadata": {
    "ExecuteTime": {
     "start_time": "2017-07-16T10:57:53.157Z"
    },
    "collapsed": false,
    "deletable": true,
    "editable": true
   },
   "outputs": [],
   "source": [
    "%%bash \n",
    "source activate SIPSim\n",
    "\n",
    "SIPSim qSIP \\\n",
    "    OTU_n3_abs1e9.txt \\\n",
    "    OTU_n3_abs1e9_PCR_subNorm.txt \\\n",
    "    > OTU_n3_abs1e9_PCR_subNorm_qSIP.txt"
   ]
  },
  {
   "cell_type": "markdown",
   "metadata": {
    "deletable": true,
    "editable": true
   },
   "source": [
    "## Creating phyloseq object"
   ]
  },
  {
   "cell_type": "code",
   "execution_count": null,
   "metadata": {
    "ExecuteTime": {
     "start_time": "2017-07-16T10:57:53.805Z"
    },
    "collapsed": false,
    "deletable": true,
    "editable": true
   },
   "outputs": [],
   "source": [
    "%%bash \n",
    "source activate SIPSim\n",
    "\n",
    "# getting around `WARNING: ignoring environment value of R_HOME` to STDOUT error\n",
    "unset R_HOME\n",
    "\n",
    "# making phyloseq object\n",
    "phyloseq_make.R OTU_n3_abs1e9_PCR_subNorm_w.txt \\\n",
    "    -s OTU_n3_abs1e9_PCR_subNorm_meta.txt \\\n",
    "   > OTU_n3_abs1e9_PCR_subNorm.physeq"
   ]
  },
  {
   "cell_type": "code",
   "execution_count": null,
   "metadata": {
    "collapsed": true
   },
   "outputs": [],
   "source": []
  }
 ],
 "metadata": {
  "anaconda-cloud": {},
  "kernelspec": {
   "display_name": "Python [conda env:py35]",
   "language": "python",
   "name": "conda-env-py35-py"
  },
  "language_info": {
   "codemirror_mode": {
    "name": "ipython",
    "version": 3
   },
   "file_extension": ".py",
   "mimetype": "text/x-python",
   "name": "python",
   "nbconvert_exporter": "python",
   "pygments_lexer": "ipython3",
   "version": "3.5.2"
  },
  "toc": {
   "colors": {
    "hover_highlight": "#DAA520",
    "running_highlight": "#FF0000",
    "selected_highlight": "#FFD700"
   },
   "moveMenuLeft": true,
   "nav_menu": {
    "height": "426px",
    "width": "252px"
   },
   "navigate_menu": true,
   "number_sections": true,
   "sideBar": true,
   "threshold": 4,
   "toc_cell": false,
   "toc_position": {
    "height": "789px",
    "left": "0px",
    "right": "1381px",
    "top": "106px",
    "width": "212px"
   },
   "toc_section_display": "block",
   "toc_window_display": true
  }
 },
 "nbformat": 4,
 "nbformat_minor": 0
}
