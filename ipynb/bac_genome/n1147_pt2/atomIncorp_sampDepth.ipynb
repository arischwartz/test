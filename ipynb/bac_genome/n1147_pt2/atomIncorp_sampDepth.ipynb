{
 "cells": [
  {
   "cell_type": "markdown",
   "metadata": {},
   "source": [
    "# Goal\n",
    "\n",
    "Accuracy as a function of isotope incorporation & sampling depth\n",
    "\n",
    "`acc ~ depth + incorp`\n",
    "\n",
    "### Variable parameters:\n",
    "\n",
    "* atom % isotope incorporation\n",
    "  * 0, 15, 25, 50, 100\n",
    "* sampling depth\n",
    "  * 1e2, 1e3, 1e4, 1e5\n",
    "* n-reps (stocastic: taxon abundances & which incorporate)\n",
    "  * 10 "
   ]
  },
  {
   "cell_type": "markdown",
   "metadata": {},
   "source": [
    "# Setting paths"
   ]
  },
  {
   "cell_type": "code",
   "execution_count": 1,
   "metadata": {
    "ExecuteTime": {
     "end_time": "2017-07-30T15:16:25.540716",
     "start_time": "2017-07-30T15:16:25.532729"
    },
    "collapsed": true
   },
   "outputs": [],
   "source": [
    "# paths\n",
    "import os\n",
    "\n",
    "workDir = '/ebio/abt3_projects/methanogen_host_evo/SIPSim_pt2/data/bac_genome1147/'\n",
    "buildDir = os.path.join(workDir, 'atomIncorp_sampDepth')\n",
    "R_dir = '/ebio/abt3_projects/methanogen_host_evo/SIPSim_pt2/SIPSimR/scripts/'\n",
    "\n",
    "fragFile = '/ebio/abt3_projects/methanogen_host_evo/SIPSim_pt2/data/bac_genome1147/ampFrags_kde.pkl'\n",
    "genome_index = '/ebio/abt3_projects/methanogen_host_evo/SIPSim_pt2/data/bac_genome1147/genome_index.txt'"
   ]
  },
  {
   "cell_type": "markdown",
   "metadata": {},
   "source": [
    "# Init"
   ]
  },
  {
   "cell_type": "code",
   "execution_count": 2,
   "metadata": {
    "ExecuteTime": {
     "end_time": "2017-07-30T15:16:25.840493",
     "start_time": "2017-07-30T15:16:25.831763"
    },
    "collapsed": true
   },
   "outputs": [],
   "source": [
    "import glob\n",
    "import itertools\n",
    "import nestly"
   ]
  },
  {
   "cell_type": "code",
   "execution_count": 3,
   "metadata": {
    "ExecuteTime": {
     "end_time": "2017-07-30T15:16:26.108585",
     "start_time": "2017-07-30T15:16:25.984511"
    },
    "collapsed": true
   },
   "outputs": [],
   "source": [
    "%load_ext pushmsg"
   ]
  },
  {
   "cell_type": "code",
   "execution_count": 4,
   "metadata": {
    "ExecuteTime": {
     "end_time": "2017-07-30T15:16:26.188528",
     "start_time": "2017-07-30T15:16:26.178325"
    }
   },
   "outputs": [
    {
     "name": "stdout",
     "output_type": "stream",
     "text": [
      "/ebio/abt3_projects/methanogen_host_evo/SIPSim_pt2/data/bac_genome1147/atomIncorp_sampDepth\n"
     ]
    }
   ],
   "source": [
    "if not os.path.isdir(buildDir):\n",
    "    os.makedirs(buildDir)\n",
    "%cd $buildDir"
   ]
  },
  {
   "cell_type": "markdown",
   "metadata": {},
   "source": [
    "## BD min/max"
   ]
  },
  {
   "cell_type": "code",
   "execution_count": 5,
   "metadata": {
    "ExecuteTime": {
     "end_time": "2017-07-30T15:16:26.684446",
     "start_time": "2017-07-30T15:16:26.677684"
    }
   },
   "outputs": [
    {
     "name": "stdout",
     "output_type": "stream",
     "text": [
      "Min BD: 1.67323\n",
      "Max BD: 1.7744\n"
     ]
    }
   ],
   "source": [
    "## min G+C cutoff\n",
    "min_GC = 13.5\n",
    "## max G+C cutoff\n",
    "max_GC = 80\n",
    "## max G+C shift\n",
    "max_13C_shift_in_BD = 0.036\n",
    "\n",
    "\n",
    "min_BD = min_GC/100.0 * 0.098 + 1.66    \n",
    "max_BD = max_GC/100.0 * 0.098 + 1.66    \n",
    "\n",
    "max_BD = max_BD + max_13C_shift_in_BD\n",
    "\n",
    "print('Min BD: {}'.format(min_BD))\n",
    "print('Max BD: {}'.format(max_BD))"
   ]
  },
  {
   "cell_type": "markdown",
   "metadata": {},
   "source": [
    "# Nestly"
   ]
  },
  {
   "cell_type": "code",
   "execution_count": 6,
   "metadata": {
    "ExecuteTime": {
     "end_time": "2017-07-30T15:16:27.760660",
     "start_time": "2017-07-30T15:16:27.637720"
    }
   },
   "outputs": [
    {
     "name": "stdout",
     "output_type": "stream",
     "text": [
      "1\tcontrol\r\n",
      "2\ttreatment\r\n",
      "3\tcontrol\r\n",
      "4\ttreatment\r\n",
      "5\tcontrol\r\n",
      "6\ttreatment\r\n"
     ]
    }
   ],
   "source": [
    "# making an experimental design file for qSIP\n",
    "x = range(1,7)\n",
    "y = ['control', 'treatment']\n",
    "\n",
    "expDesignFile = os.path.join(buildDir, 'qSIP_exp_design.txt')\n",
    "with open(expDesignFile, 'wb') as outFH:\n",
    "    for i,z in itertools.izip(x,itertools.cycle(y)):\n",
    "        line = '\\t'.join([str(i),z])\n",
    "        outFH.write(line + '\\n')\n",
    "\n",
    "!head $expDesignFile       "
   ]
  },
  {
   "cell_type": "markdown",
   "metadata": {},
   "source": [
    "## Nestly params"
   ]
  },
  {
   "cell_type": "code",
   "execution_count": 7,
   "metadata": {
    "ExecuteTime": {
     "end_time": "2017-07-30T15:16:31.844645",
     "start_time": "2017-07-30T15:16:31.406418"
    },
    "collapsed": true
   },
   "outputs": [],
   "source": [
    "# building tree structure\n",
    "nest = nestly.Nest()\n",
    "\n",
    "# varying params: TEST\n",
    "#nest.add('percIncorp', [0, 100])\n",
    "#nest.add('subsample_size', [100, 10000])\n",
    "#nest.add('rep', [1])\n",
    "\n",
    "# varying params\n",
    "nest.add('percIncorp', [0, 15, 25, 50, 100])\n",
    "nest.add('subsample_size', [100, 1000, 10000, 100000])\n",
    "nest.add('rep', range(1,11))\n",
    "\n",
    "\n",
    "## set params\n",
    "nest.add('percTaxa', [10], create_dir=False)\n",
    "nest.add('abs', ['1e9'], create_dir=False)\n",
    "#nest.add('abs', ['1e7'], create_dir=False)   # TESTING\n",
    "nest.add('np', [4], create_dir=False)\n",
    "nest.add('Monte_rep', [100000], create_dir=False)\n",
    "nest.add('subsample_dist', ['uniform'], create_dir=False)\n",
    "nest.add('min_BD', [min_BD], create_dir=False)\n",
    "nest.add('max_BD', [max_BD], create_dir=False)\n",
    "nest.add('DBL_scaling', [0.5], create_dir=False)\n",
    "nest.add('bandwidth', [0.8], create_dir=False)\n",
    "nest.add('heavy_BD_min', [1.71], create_dir=False)\n",
    "nest.add('heavy_BD_max', [1.75], create_dir=False)\n",
    "nest.add('topTaxaToPlot', [100], create_dir=False)\n",
    "nest.add('padj', [0.1], create_dir=False)\n",
    "nest.add('log2', [0.25], create_dir=False)\n",
    "\n",
    "### input/output files\n",
    "nest.add('buildDir', [buildDir], create_dir=False)\n",
    "nest.add('R_dir', [R_dir], create_dir=False)\n",
    "nest.add('genome_index', [genome_index], create_dir=False)\n",
    "nest.add('fragFile', [fragFile], create_dir=False)\n",
    "nest.add('exp_design', [expDesignFile], create_dir=False)\n",
    "\n",
    "\n",
    "# building directory tree\n",
    "nest.build(buildDir)\n",
    "\n",
    "# bash file to run\n",
    "bashFile = os.path.join(buildDir, 'SIPSimRun.sh')"
   ]
  },
  {
   "cell_type": "code",
   "execution_count": 8,
   "metadata": {
    "ExecuteTime": {
     "end_time": "2017-07-30T15:16:33.952497",
     "start_time": "2017-07-30T15:16:33.940696"
    },
    "collapsed": true
   },
   "outputs": [],
   "source": [
    "# # building tree structure\n",
    "# nest = nestly.Nest()\n",
    "\n",
    "# # varying params: TEST\n",
    "# nest.add('percIncorp', [0, 100])\n",
    "# nest.add('frac_mu', [0.004, 0.020])\n",
    "# nest.add('rep', [1])\n",
    "\n",
    "# # varying params\n",
    "# #nest.add('percIncorp', [0, 15, 25, 50, 100])\n",
    "# nest.add('frac_mu', [0.004, 0.008, 0.016, 0.020])\n",
    "# #nest.add('rep', range(1,11))\n",
    "\n",
    "\n",
    "# ## set params\n",
    "# nest.add('percTaxa', [10], create_dir=False)\n",
    "# nest.add('abs', ['1e9'], create_dir=False)\n",
    "# #nest.add('abs', ['1e7'], create_dir=False)   # TESTING\n",
    "# nest.add('np', [4], create_dir=False)\n",
    "# nest.add('Monte_rep', [100000], create_dir=False)\n",
    "# nest.add('subsample_dist', ['lognormal'], create_dir=False)\n",
    "# nest.add('subsample_mean', [9.432], create_dir=False)\n",
    "# nest.add('subsample_scale', [0.5], create_dir=False)\n",
    "# nest.add('subsample_min', [10000], create_dir=False)\n",
    "# nest.add('subsample_max', [30000], create_dir=False)\n",
    "# nest.add('min_BD', [min_BD], create_dir=False)\n",
    "# nest.add('max_BD', [max_BD], create_dir=False)\n",
    "# nest.add('DBL_scaling', [0.5], create_dir=False)\n",
    "# nest.add('bandwidth', [0.8], create_dir=False)\n",
    "# nest.add('heavy_BD_min', [1.71], create_dir=False)\n",
    "# nest.add('heavy_BD_max', [1.75], create_dir=False)\n",
    "# nest.add('topTaxaToPlot', [100], create_dir=False)\n",
    "# nest.add('padj', [0.1], create_dir=False)\n",
    "# nest.add('log2', [0.25], create_dir=False)\n",
    "\n",
    "# ### input/output files\n",
    "# nest.add('buildDir', [buildDir], create_dir=False)\n",
    "# nest.add('R_dir', [R_dir], create_dir=False)\n",
    "# nest.add('genome_index', [genome_index], create_dir=False)\n",
    "# nest.add('fragFile', [fragFile], create_dir=False)\n",
    "# nest.add('exp_design', [expDesignFile], create_dir=False)\n",
    "\n",
    "\n",
    "# # building directory tree\n",
    "# nest.build(buildDir)\n",
    "\n",
    "# # bash file to run\n",
    "# bashFile = os.path.join(buildDir, 'SIPSimRun.sh')"
   ]
  },
  {
   "cell_type": "markdown",
   "metadata": {},
   "source": [
    "## Experimental design"
   ]
  },
  {
   "cell_type": "code",
   "execution_count": 9,
   "metadata": {
    "ExecuteTime": {
     "end_time": "2017-07-30T15:16:36.076463",
     "start_time": "2017-07-30T15:16:36.060696"
    }
   },
   "outputs": [
    {
     "data": {
      "text/plain": [
       "'/ebio/abt3_projects/methanogen_host_evo/SIPSim_pt2/data/bac_genome1147/atomIncorp_sampDepth/SIPSimRun_expDesign.sh'"
      ]
     },
     "execution_count": 9,
     "metadata": {},
     "output_type": "execute_result"
    }
   ],
   "source": [
    "bashFileTmp = os.path.splitext(bashFile)[0] + '_expDesign.sh'\n",
    "bashFileTmp"
   ]
  },
  {
   "cell_type": "code",
   "execution_count": 10,
   "metadata": {
    "ExecuteTime": {
     "end_time": "2017-07-30T15:16:36.632522",
     "start_time": "2017-07-30T15:16:36.623268"
    }
   },
   "outputs": [
    {
     "name": "stdout",
     "output_type": "stream",
     "text": [
      "Writing /ebio/abt3_projects/methanogen_host_evo/SIPSim_pt2/data/bac_genome1147/atomIncorp_sampDepth/SIPSimRun_expDesign.sh\n"
     ]
    }
   ],
   "source": [
    "%%writefile $bashFileTmp\n",
    "#!/bin/bash\n",
    "source activate SIPSim\n",
    "# OPENBLAS threads \n",
    "export OMP_NUM_THREADS=1\n",
    "\n",
    "echo '#-- Experimental design --#'\n",
    "\n",
    "echo '# Making an isotope incorporation config file'\n",
    "echo '## 3 replicate gradients for control & treatment'\n",
    "SIPSim incorp_config_example \\\n",
    "  --percIncorpUnif {percIncorp} \\\n",
    "  --n_reps 3 \\\n",
    "  > incorp.config\n",
    "\n",
    "echo '# Selecting incorporator taxa'\n",
    "echo '## This is to make the gradient replicates consistent (qSIP finds mean among replicates)'\n",
    "SIPSim KDE_select_taxa \\\n",
    "    -p {percTaxa} \\\n",
    "    {fragFile} \\\n",
    "    > incorporators.txt\n",
    "\n",
    "echo '# Creating a community file (3 replicate control, 3 replicate treatment)'\n",
    "SIPSim communities \\\n",
    "    --config incorp.config \\\n",
    "    {genome_index} \\\n",
    "    > comm.txt    \n",
    "\n",
    "echo '# simulating gradient fractions'\n",
    "SIPSim gradient_fractions \\\n",
    "    --BD_min {min_BD} \\\n",
    "    --BD_max {max_BD} \\\n",
    "    comm.txt \\\n",
    "    > fracs.txt        "
   ]
  },
  {
   "cell_type": "code",
   "execution_count": 11,
   "metadata": {
    "ExecuteTime": {
     "end_time": "2017-07-30T15:16:37.480629",
     "start_time": "2017-07-30T15:16:37.364747"
    },
    "collapsed": true
   },
   "outputs": [],
   "source": [
    "!chmod 755 $bashFileTmp"
   ]
  },
  {
   "cell_type": "code",
   "execution_count": 12,
   "metadata": {
    "ExecuteTime": {
     "end_time": "2017-07-30T15:18:40.108667",
     "start_time": "2017-07-30T15:16:37.996400"
    }
   },
   "outputs": [
    {
     "name": "stdout",
     "output_type": "stream",
     "text": [
      "2017-07-30 15:16:48,135 * INFO * Template: ./SIPSimRun_expDesign.sh\n",
      "2017-07-30 15:16:48,140 * INFO * [44847] Started ./SIPSimRun_expDesign.sh in /ebio/abt3_projects/methanogen_host_evo/SIPSim_pt2/data/bac_genome1147/atomIncorp_sampDepth/0/100/1\n",
      "2017-07-30 15:16:48,145 * INFO * [44850] Started ./SIPSimRun_expDesign.sh in /ebio/abt3_projects/methanogen_host_evo/SIPSim_pt2/data/bac_genome1147/atomIncorp_sampDepth/0/100/2\n",
      "2017-07-30 15:16:48,149 * INFO * [44858] Started ./SIPSimRun_expDesign.sh in /ebio/abt3_projects/methanogen_host_evo/SIPSim_pt2/data/bac_genome1147/atomIncorp_sampDepth/0/100/3\n",
      "2017-07-30 15:16:48,156 * INFO * [44866] Started ./SIPSimRun_expDesign.sh in /ebio/abt3_projects/methanogen_host_evo/SIPSim_pt2/data/bac_genome1147/atomIncorp_sampDepth/0/100/4\n",
      "2017-07-30 15:16:48,160 * INFO * [44874] Started ./SIPSimRun_expDesign.sh in /ebio/abt3_projects/methanogen_host_evo/SIPSim_pt2/data/bac_genome1147/atomIncorp_sampDepth/0/100/5\n",
      "2017-07-30 15:16:48,167 * INFO * [44885] Started ./SIPSimRun_expDesign.sh in /ebio/abt3_projects/methanogen_host_evo/SIPSim_pt2/data/bac_genome1147/atomIncorp_sampDepth/0/100/6\n",
      "2017-07-30 15:16:48,171 * INFO * [44890] Started ./SIPSimRun_expDesign.sh in /ebio/abt3_projects/methanogen_host_evo/SIPSim_pt2/data/bac_genome1147/atomIncorp_sampDepth/0/100/7\n",
      "2017-07-30 15:16:48,177 * INFO * [44900] Started ./SIPSimRun_expDesign.sh in /ebio/abt3_projects/methanogen_host_evo/SIPSim_pt2/data/bac_genome1147/atomIncorp_sampDepth/0/100/8\n",
      "2017-07-30 15:16:48,184 * INFO * [44908] Started ./SIPSimRun_expDesign.sh in /ebio/abt3_projects/methanogen_host_evo/SIPSim_pt2/data/bac_genome1147/atomIncorp_sampDepth/0/100/9\n",
      "2017-07-30 15:16:48,189 * INFO * [44916] Started ./SIPSimRun_expDesign.sh in /ebio/abt3_projects/methanogen_host_evo/SIPSim_pt2/data/bac_genome1147/atomIncorp_sampDepth/0/100/10\n",
      "2017-07-30 15:16:48,195 * INFO * [44924] Started ./SIPSimRun_expDesign.sh in /ebio/abt3_projects/methanogen_host_evo/SIPSim_pt2/data/bac_genome1147/atomIncorp_sampDepth/0/1000/1\n",
      "2017-07-30 15:16:48,201 * INFO * [44931] Started ./SIPSimRun_expDesign.sh in /ebio/abt3_projects/methanogen_host_evo/SIPSim_pt2/data/bac_genome1147/atomIncorp_sampDepth/0/1000/2\n",
      "2017-07-30 15:16:48,207 * INFO * [44940] Started ./SIPSimRun_expDesign.sh in /ebio/abt3_projects/methanogen_host_evo/SIPSim_pt2/data/bac_genome1147/atomIncorp_sampDepth/0/1000/3\n",
      "2017-07-30 15:16:48,214 * INFO * [44946] Started ./SIPSimRun_expDesign.sh in /ebio/abt3_projects/methanogen_host_evo/SIPSim_pt2/data/bac_genome1147/atomIncorp_sampDepth/0/1000/4\n",
      "2017-07-30 15:16:48,221 * INFO * [44958] Started ./SIPSimRun_expDesign.sh in /ebio/abt3_projects/methanogen_host_evo/SIPSim_pt2/data/bac_genome1147/atomIncorp_sampDepth/0/1000/5\n",
      "2017-07-30 15:16:48,226 * INFO * [44964] Started ./SIPSimRun_expDesign.sh in /ebio/abt3_projects/methanogen_host_evo/SIPSim_pt2/data/bac_genome1147/atomIncorp_sampDepth/0/1000/6\n",
      "2017-07-30 15:16:48,234 * INFO * [44972] Started ./SIPSimRun_expDesign.sh in /ebio/abt3_projects/methanogen_host_evo/SIPSim_pt2/data/bac_genome1147/atomIncorp_sampDepth/0/1000/7\n",
      "2017-07-30 15:16:48,241 * INFO * [44980] Started ./SIPSimRun_expDesign.sh in /ebio/abt3_projects/methanogen_host_evo/SIPSim_pt2/data/bac_genome1147/atomIncorp_sampDepth/0/1000/8\n",
      "2017-07-30 15:16:48,246 * INFO * [44986] Started ./SIPSimRun_expDesign.sh in /ebio/abt3_projects/methanogen_host_evo/SIPSim_pt2/data/bac_genome1147/atomIncorp_sampDepth/0/1000/9\n",
      "2017-07-30 15:16:48,254 * INFO * [44994] Started ./SIPSimRun_expDesign.sh in /ebio/abt3_projects/methanogen_host_evo/SIPSim_pt2/data/bac_genome1147/atomIncorp_sampDepth/0/1000/10\n",
      "2017-07-30 15:17:01,916 * INFO * [44916] /ebio/abt3_projects/methanogen_host_evo/SIPSim_pt2/data/bac_genome1147/atomIncorp_sampDepth/0/100/10 Finished with 0\n",
      "2017-07-30 15:17:01,926 * INFO * [45628] Started ./SIPSimRun_expDesign.sh in /ebio/abt3_projects/methanogen_host_evo/SIPSim_pt2/data/bac_genome1147/atomIncorp_sampDepth/0/10000/1\n",
      "2017-07-30 15:17:01,954 * INFO * [44964] /ebio/abt3_projects/methanogen_host_evo/SIPSim_pt2/data/bac_genome1147/atomIncorp_sampDepth/0/1000/6 Finished with 0\n",
      "2017-07-30 15:17:01,963 * INFO * [45639] Started ./SIPSimRun_expDesign.sh in /ebio/abt3_projects/methanogen_host_evo/SIPSim_pt2/data/bac_genome1147/atomIncorp_sampDepth/0/10000/2\n",
      "2017-07-30 15:17:01,998 * INFO * [44866] /ebio/abt3_projects/methanogen_host_evo/SIPSim_pt2/data/bac_genome1147/atomIncorp_sampDepth/0/100/4 Finished with 0\n",
      "2017-07-30 15:17:02,021 * INFO * [45647] Started ./SIPSimRun_expDesign.sh in /ebio/abt3_projects/methanogen_host_evo/SIPSim_pt2/data/bac_genome1147/atomIncorp_sampDepth/0/10000/3\n",
      "2017-07-30 15:17:02,021 * INFO * [44890] /ebio/abt3_projects/methanogen_host_evo/SIPSim_pt2/data/bac_genome1147/atomIncorp_sampDepth/0/100/7 Finished with 0\n",
      "2017-07-30 15:17:02,025 * INFO * [45650] Started ./SIPSimRun_expDesign.sh in /ebio/abt3_projects/methanogen_host_evo/SIPSim_pt2/data/bac_genome1147/atomIncorp_sampDepth/0/10000/4\n",
      "2017-07-30 15:17:02,026 * INFO * [44900] /ebio/abt3_projects/methanogen_host_evo/SIPSim_pt2/data/bac_genome1147/atomIncorp_sampDepth/0/100/8 Finished with 0\n",
      "2017-07-30 15:17:02,032 * INFO * [45660] Started ./SIPSimRun_expDesign.sh in /ebio/abt3_projects/methanogen_host_evo/SIPSim_pt2/data/bac_genome1147/atomIncorp_sampDepth/0/10000/5\n",
      "2017-07-30 15:17:02,032 * INFO * [44885] /ebio/abt3_projects/methanogen_host_evo/SIPSim_pt2/data/bac_genome1147/atomIncorp_sampDepth/0/100/6 Finished with 0\n",
      "2017-07-30 15:17:02,043 * INFO * [45671] Started ./SIPSimRun_expDesign.sh in /ebio/abt3_projects/methanogen_host_evo/SIPSim_pt2/data/bac_genome1147/atomIncorp_sampDepth/0/10000/6\n",
      "2017-07-30 15:17:02,044 * INFO * [44931] /ebio/abt3_projects/methanogen_host_evo/SIPSim_pt2/data/bac_genome1147/atomIncorp_sampDepth/0/1000/2 Finished with 0\n",
      "2017-07-30 15:17:02,050 * INFO * [45677] Started ./SIPSimRun_expDesign.sh in /ebio/abt3_projects/methanogen_host_evo/SIPSim_pt2/data/bac_genome1147/atomIncorp_sampDepth/0/10000/7\n",
      "2017-07-30 15:17:02,066 * INFO * [44858] /ebio/abt3_projects/methanogen_host_evo/SIPSim_pt2/data/bac_genome1147/atomIncorp_sampDepth/0/100/3 Finished with 0\n",
      "2017-07-30 15:17:02,073 * INFO * [45687] Started ./SIPSimRun_expDesign.sh in /ebio/abt3_projects/methanogen_host_evo/SIPSim_pt2/data/bac_genome1147/atomIncorp_sampDepth/0/10000/8\n",
      "2017-07-30 15:17:02,074 * INFO * [44994] /ebio/abt3_projects/methanogen_host_evo/SIPSim_pt2/data/bac_genome1147/atomIncorp_sampDepth/0/1000/10 Finished with 0\n",
      "2017-07-30 15:17:02,085 * INFO * [45691] Started ./SIPSimRun_expDesign.sh in /ebio/abt3_projects/methanogen_host_evo/SIPSim_pt2/data/bac_genome1147/atomIncorp_sampDepth/0/10000/9\n",
      "2017-07-30 15:17:02,087 * INFO * [44850] /ebio/abt3_projects/methanogen_host_evo/SIPSim_pt2/data/bac_genome1147/atomIncorp_sampDepth/0/100/2 Finished with 0\n",
      "2017-07-30 15:17:02,093 * INFO * [45698] Started ./SIPSimRun_expDesign.sh in /ebio/abt3_projects/methanogen_host_evo/SIPSim_pt2/data/bac_genome1147/atomIncorp_sampDepth/0/10000/10\n",
      "2017-07-30 15:17:02,095 * INFO * [44924] /ebio/abt3_projects/methanogen_host_evo/SIPSim_pt2/data/bac_genome1147/atomIncorp_sampDepth/0/1000/1 Finished with 0\n",
      "2017-07-30 15:17:02,102 * INFO * [45710] Started ./SIPSimRun_expDesign.sh in /ebio/abt3_projects/methanogen_host_evo/SIPSim_pt2/data/bac_genome1147/atomIncorp_sampDepth/0/100000/1\n",
      "2017-07-30 15:17:02,137 * INFO * [44940] /ebio/abt3_projects/methanogen_host_evo/SIPSim_pt2/data/bac_genome1147/atomIncorp_sampDepth/0/1000/3 Finished with 0\n",
      "2017-07-30 15:17:02,144 * INFO * [45719] Started ./SIPSimRun_expDesign.sh in /ebio/abt3_projects/methanogen_host_evo/SIPSim_pt2/data/bac_genome1147/atomIncorp_sampDepth/0/100000/2\n",
      "2017-07-30 15:17:02,176 * INFO * [44908] /ebio/abt3_projects/methanogen_host_evo/SIPSim_pt2/data/bac_genome1147/atomIncorp_sampDepth/0/100/9 Finished with 0\n",
      "2017-07-30 15:17:02,183 * INFO * [45727] Started ./SIPSimRun_expDesign.sh in /ebio/abt3_projects/methanogen_host_evo/SIPSim_pt2/data/bac_genome1147/atomIncorp_sampDepth/0/100000/3\n",
      "2017-07-30 15:17:02,183 * INFO * [44980] /ebio/abt3_projects/methanogen_host_evo/SIPSim_pt2/data/bac_genome1147/atomIncorp_sampDepth/0/1000/8 Finished with 0\n",
      "2017-07-30 15:17:02,189 * INFO * [45730] Started ./SIPSimRun_expDesign.sh in /ebio/abt3_projects/methanogen_host_evo/SIPSim_pt2/data/bac_genome1147/atomIncorp_sampDepth/0/100000/4\n",
      "2017-07-30 15:17:02,189 * INFO * [44946] /ebio/abt3_projects/methanogen_host_evo/SIPSim_pt2/data/bac_genome1147/atomIncorp_sampDepth/0/1000/4 Finished with 0\n",
      "2017-07-30 15:17:02,198 * INFO * [45738] Started ./SIPSimRun_expDesign.sh in /ebio/abt3_projects/methanogen_host_evo/SIPSim_pt2/data/bac_genome1147/atomIncorp_sampDepth/0/100000/5\n",
      "2017-07-30 15:17:02,198 * INFO * [44847] /ebio/abt3_projects/methanogen_host_evo/SIPSim_pt2/data/bac_genome1147/atomIncorp_sampDepth/0/100/1 Finished with 0\n",
      "2017-07-30 15:17:02,203 * INFO * [45746] Started ./SIPSimRun_expDesign.sh in /ebio/abt3_projects/methanogen_host_evo/SIPSim_pt2/data/bac_genome1147/atomIncorp_sampDepth/0/100000/6\n",
      "2017-07-30 15:17:02,203 * INFO * [44958] /ebio/abt3_projects/methanogen_host_evo/SIPSim_pt2/data/bac_genome1147/atomIncorp_sampDepth/0/1000/5 Finished with 0\n",
      "2017-07-30 15:17:02,208 * INFO * [45755] Started ./SIPSimRun_expDesign.sh in /ebio/abt3_projects/methanogen_host_evo/SIPSim_pt2/data/bac_genome1147/atomIncorp_sampDepth/0/100000/7\n",
      "2017-07-30 15:17:02,212 * INFO * [44972] /ebio/abt3_projects/methanogen_host_evo/SIPSim_pt2/data/bac_genome1147/atomIncorp_sampDepth/0/1000/7 Finished with 0\n",
      "2017-07-30 15:17:02,219 * INFO * [45767] Started ./SIPSimRun_expDesign.sh in /ebio/abt3_projects/methanogen_host_evo/SIPSim_pt2/data/bac_genome1147/atomIncorp_sampDepth/0/100000/8\n",
      "2017-07-30 15:17:02,220 * INFO * [44874] /ebio/abt3_projects/methanogen_host_evo/SIPSim_pt2/data/bac_genome1147/atomIncorp_sampDepth/0/100/5 Finished with 0\n",
      "2017-07-30 15:17:02,228 * INFO * [45774] Started ./SIPSimRun_expDesign.sh in /ebio/abt3_projects/methanogen_host_evo/SIPSim_pt2/data/bac_genome1147/atomIncorp_sampDepth/0/100000/9\n",
      "2017-07-30 15:17:02,243 * INFO * [44986] /ebio/abt3_projects/methanogen_host_evo/SIPSim_pt2/data/bac_genome1147/atomIncorp_sampDepth/0/1000/9 Finished with 0\n",
      "2017-07-30 15:17:02,251 * INFO * [45783] Started ./SIPSimRun_expDesign.sh in /ebio/abt3_projects/methanogen_host_evo/SIPSim_pt2/data/bac_genome1147/atomIncorp_sampDepth/0/100000/10\n",
      "2017-07-30 15:17:12,319 * INFO * [45639] /ebio/abt3_projects/methanogen_host_evo/SIPSim_pt2/data/bac_genome1147/atomIncorp_sampDepth/0/10000/2 Finished with 0\n",
      "2017-07-30 15:17:12,324 * INFO * [46417] Started ./SIPSimRun_expDesign.sh in /ebio/abt3_projects/methanogen_host_evo/SIPSim_pt2/data/bac_genome1147/atomIncorp_sampDepth/15/100/1\n",
      "2017-07-30 15:17:12,396 * INFO * [45671] /ebio/abt3_projects/methanogen_host_evo/SIPSim_pt2/data/bac_genome1147/atomIncorp_sampDepth/0/10000/6 Finished with 0\n",
      "2017-07-30 15:17:12,416 * INFO * [46425] Started ./SIPSimRun_expDesign.sh in /ebio/abt3_projects/methanogen_host_evo/SIPSim_pt2/data/bac_genome1147/atomIncorp_sampDepth/15/100/2\n",
      "2017-07-30 15:17:12,428 * INFO * [45628] /ebio/abt3_projects/methanogen_host_evo/SIPSim_pt2/data/bac_genome1147/atomIncorp_sampDepth/0/10000/1 Finished with 0\n",
      "2017-07-30 15:17:12,435 * INFO * [46433] Started ./SIPSimRun_expDesign.sh in /ebio/abt3_projects/methanogen_host_evo/SIPSim_pt2/data/bac_genome1147/atomIncorp_sampDepth/15/100/3\n",
      "2017-07-30 15:17:12,465 * INFO * [45755] /ebio/abt3_projects/methanogen_host_evo/SIPSim_pt2/data/bac_genome1147/atomIncorp_sampDepth/0/100000/7 Finished with 0\n",
      "2017-07-30 15:17:12,472 * INFO * [46441] Started ./SIPSimRun_expDesign.sh in /ebio/abt3_projects/methanogen_host_evo/SIPSim_pt2/data/bac_genome1147/atomIncorp_sampDepth/15/100/4\n",
      "2017-07-30 15:17:12,472 * INFO * [45660] /ebio/abt3_projects/methanogen_host_evo/SIPSim_pt2/data/bac_genome1147/atomIncorp_sampDepth/0/10000/5 Finished with 0\n",
      "2017-07-30 15:17:12,478 * INFO * [46444] Started ./SIPSimRun_expDesign.sh in /ebio/abt3_projects/methanogen_host_evo/SIPSim_pt2/data/bac_genome1147/atomIncorp_sampDepth/15/100/5\n",
      "2017-07-30 15:17:12,478 * INFO * [45698] /ebio/abt3_projects/methanogen_host_evo/SIPSim_pt2/data/bac_genome1147/atomIncorp_sampDepth/0/10000/10 Finished with 0\n",
      "2017-07-30 15:17:12,491 * INFO * [46453] Started ./SIPSimRun_expDesign.sh in /ebio/abt3_projects/methanogen_host_evo/SIPSim_pt2/data/bac_genome1147/atomIncorp_sampDepth/15/100/6\n",
      "2017-07-30 15:17:12,491 * INFO * [45677] /ebio/abt3_projects/methanogen_host_evo/SIPSim_pt2/data/bac_genome1147/atomIncorp_sampDepth/0/10000/7 Finished with 0\n",
      "2017-07-30 15:17:12,498 * INFO * [46462] Started ./SIPSimRun_expDesign.sh in /ebio/abt3_projects/methanogen_host_evo/SIPSim_pt2/data/bac_genome1147/atomIncorp_sampDepth/15/100/7\n",
      "2017-07-30 15:17:12,498 * INFO * [45687] /ebio/abt3_projects/methanogen_host_evo/SIPSim_pt2/data/bac_genome1147/atomIncorp_sampDepth/0/10000/8 Finished with 0\n",
      "2017-07-30 15:17:12,504 * INFO * [46468] Started ./SIPSimRun_expDesign.sh in /ebio/abt3_projects/methanogen_host_evo/SIPSim_pt2/data/bac_genome1147/atomIncorp_sampDepth/15/100/8\n",
      "2017-07-30 15:17:12,505 * INFO * [45650] /ebio/abt3_projects/methanogen_host_evo/SIPSim_pt2/data/bac_genome1147/atomIncorp_sampDepth/0/10000/4 Finished with 0\n",
      "2017-07-30 15:17:12,510 * INFO * [46477] Started ./SIPSimRun_expDesign.sh in /ebio/abt3_projects/methanogen_host_evo/SIPSim_pt2/data/bac_genome1147/atomIncorp_sampDepth/15/100/9\n",
      "2017-07-30 15:17:12,510 * INFO * [45719] /ebio/abt3_projects/methanogen_host_evo/SIPSim_pt2/data/bac_genome1147/atomIncorp_sampDepth/0/100000/2 Finished with 0\n",
      "2017-07-30 15:17:12,516 * INFO * [46484] Started ./SIPSimRun_expDesign.sh in /ebio/abt3_projects/methanogen_host_evo/SIPSim_pt2/data/bac_genome1147/atomIncorp_sampDepth/15/100/10\n",
      "2017-07-30 15:17:12,516 * INFO * [45691] /ebio/abt3_projects/methanogen_host_evo/SIPSim_pt2/data/bac_genome1147/atomIncorp_sampDepth/0/10000/9 Finished with 0\n",
      "2017-07-30 15:17:12,522 * INFO * [46494] Started ./SIPSimRun_expDesign.sh in /ebio/abt3_projects/methanogen_host_evo/SIPSim_pt2/data/bac_genome1147/atomIncorp_sampDepth/15/1000/1\n",
      "2017-07-30 15:17:12,523 * INFO * [45647] /ebio/abt3_projects/methanogen_host_evo/SIPSim_pt2/data/bac_genome1147/atomIncorp_sampDepth/0/10000/3 Finished with 0\n",
      "2017-07-30 15:17:12,531 * INFO * [46504] Started ./SIPSimRun_expDesign.sh in /ebio/abt3_projects/methanogen_host_evo/SIPSim_pt2/data/bac_genome1147/atomIncorp_sampDepth/15/1000/2\n",
      "2017-07-30 15:17:12,537 * INFO * [45738] /ebio/abt3_projects/methanogen_host_evo/SIPSim_pt2/data/bac_genome1147/atomIncorp_sampDepth/0/100000/5 Finished with 0\n",
      "2017-07-30 15:17:12,543 * INFO * [46513] Started ./SIPSimRun_expDesign.sh in /ebio/abt3_projects/methanogen_host_evo/SIPSim_pt2/data/bac_genome1147/atomIncorp_sampDepth/15/1000/3\n",
      "2017-07-30 15:17:12,574 * INFO * [45774] /ebio/abt3_projects/methanogen_host_evo/SIPSim_pt2/data/bac_genome1147/atomIncorp_sampDepth/0/100000/9 Finished with 0\n",
      "2017-07-30 15:17:12,581 * INFO * [46521] Started ./SIPSimRun_expDesign.sh in /ebio/abt3_projects/methanogen_host_evo/SIPSim_pt2/data/bac_genome1147/atomIncorp_sampDepth/15/1000/4\n",
      "2017-07-30 15:17:12,582 * INFO * [45710] /ebio/abt3_projects/methanogen_host_evo/SIPSim_pt2/data/bac_genome1147/atomIncorp_sampDepth/0/100000/1 Finished with 0\n",
      "2017-07-30 15:17:12,587 * INFO * [46524] Started ./SIPSimRun_expDesign.sh in /ebio/abt3_projects/methanogen_host_evo/SIPSim_pt2/data/bac_genome1147/atomIncorp_sampDepth/15/1000/5\n",
      "2017-07-30 15:17:12,629 * INFO * [45767] /ebio/abt3_projects/methanogen_host_evo/SIPSim_pt2/data/bac_genome1147/atomIncorp_sampDepth/0/100000/8 Finished with 0\n",
      "2017-07-30 15:17:12,636 * INFO * [46537] Started ./SIPSimRun_expDesign.sh in /ebio/abt3_projects/methanogen_host_evo/SIPSim_pt2/data/bac_genome1147/atomIncorp_sampDepth/15/1000/6\n",
      "2017-07-30 15:17:12,640 * INFO * [45783] /ebio/abt3_projects/methanogen_host_evo/SIPSim_pt2/data/bac_genome1147/atomIncorp_sampDepth/0/100000/10 Finished with 0\n",
      "2017-07-30 15:17:12,650 * INFO * [46545] Started ./SIPSimRun_expDesign.sh in /ebio/abt3_projects/methanogen_host_evo/SIPSim_pt2/data/bac_genome1147/atomIncorp_sampDepth/15/1000/7\n",
      "2017-07-30 15:17:12,650 * INFO * [45727] /ebio/abt3_projects/methanogen_host_evo/SIPSim_pt2/data/bac_genome1147/atomIncorp_sampDepth/0/100000/3 Finished with 0\n",
      "2017-07-30 15:17:12,659 * INFO * [46552] Started ./SIPSimRun_expDesign.sh in /ebio/abt3_projects/methanogen_host_evo/SIPSim_pt2/data/bac_genome1147/atomIncorp_sampDepth/15/1000/8\n",
      "2017-07-30 15:17:12,659 * INFO * [45730] /ebio/abt3_projects/methanogen_host_evo/SIPSim_pt2/data/bac_genome1147/atomIncorp_sampDepth/0/100000/4 Finished with 0\n",
      "2017-07-30 15:17:12,664 * INFO * [46558] Started ./SIPSimRun_expDesign.sh in /ebio/abt3_projects/methanogen_host_evo/SIPSim_pt2/data/bac_genome1147/atomIncorp_sampDepth/15/1000/9\n",
      "2017-07-30 15:17:12,664 * INFO * [45746] /ebio/abt3_projects/methanogen_host_evo/SIPSim_pt2/data/bac_genome1147/atomIncorp_sampDepth/0/100000/6 Finished with 0\n",
      "2017-07-30 15:17:12,674 * INFO * [46569] Started ./SIPSimRun_expDesign.sh in /ebio/abt3_projects/methanogen_host_evo/SIPSim_pt2/data/bac_genome1147/atomIncorp_sampDepth/15/1000/10\n",
      "2017-07-30 15:17:22,543 * INFO * [46433] /ebio/abt3_projects/methanogen_host_evo/SIPSim_pt2/data/bac_genome1147/atomIncorp_sampDepth/15/100/3 Finished with 0\n",
      "2017-07-30 15:17:22,549 * INFO * [47198] Started ./SIPSimRun_expDesign.sh in /ebio/abt3_projects/methanogen_host_evo/SIPSim_pt2/data/bac_genome1147/atomIncorp_sampDepth/15/10000/1\n",
      "2017-07-30 15:17:22,709 * INFO * [46462] /ebio/abt3_projects/methanogen_host_evo/SIPSim_pt2/data/bac_genome1147/atomIncorp_sampDepth/15/100/7 Finished with 0\n",
      "2017-07-30 15:17:22,714 * INFO * [47206] Started ./SIPSimRun_expDesign.sh in /ebio/abt3_projects/methanogen_host_evo/SIPSim_pt2/data/bac_genome1147/atomIncorp_sampDepth/15/10000/2\n",
      "2017-07-30 15:17:22,714 * INFO * [46444] /ebio/abt3_projects/methanogen_host_evo/SIPSim_pt2/data/bac_genome1147/atomIncorp_sampDepth/15/100/5 Finished with 0\n",
      "2017-07-30 15:17:22,722 * INFO * [47211] Started ./SIPSimRun_expDesign.sh in /ebio/abt3_projects/methanogen_host_evo/SIPSim_pt2/data/bac_genome1147/atomIncorp_sampDepth/15/10000/3\n",
      "2017-07-30 15:17:22,723 * INFO * [46484] /ebio/abt3_projects/methanogen_host_evo/SIPSim_pt2/data/bac_genome1147/atomIncorp_sampDepth/15/100/10 Finished with 0\n",
      "2017-07-30 15:17:22,729 * INFO * [47219] Started ./SIPSimRun_expDesign.sh in /ebio/abt3_projects/methanogen_host_evo/SIPSim_pt2/data/bac_genome1147/atomIncorp_sampDepth/15/10000/4\n",
      "2017-07-30 15:17:22,746 * INFO * [46468] /ebio/abt3_projects/methanogen_host_evo/SIPSim_pt2/data/bac_genome1147/atomIncorp_sampDepth/15/100/8 Finished with 0\n",
      "2017-07-30 15:17:22,764 * INFO * [47230] Started ./SIPSimRun_expDesign.sh in /ebio/abt3_projects/methanogen_host_evo/SIPSim_pt2/data/bac_genome1147/atomIncorp_sampDepth/15/10000/5\n",
      "2017-07-30 15:17:22,765 * INFO * [46494] /ebio/abt3_projects/methanogen_host_evo/SIPSim_pt2/data/bac_genome1147/atomIncorp_sampDepth/15/1000/1 Finished with 0\n",
      "2017-07-30 15:17:22,769 * INFO * [47233] Started ./SIPSimRun_expDesign.sh in /ebio/abt3_projects/methanogen_host_evo/SIPSim_pt2/data/bac_genome1147/atomIncorp_sampDepth/15/10000/6\n",
      "2017-07-30 15:17:22,777 * INFO * [46417] /ebio/abt3_projects/methanogen_host_evo/SIPSim_pt2/data/bac_genome1147/atomIncorp_sampDepth/15/100/1 Finished with 0\n",
      "2017-07-30 15:17:22,782 * INFO * [47246] Started ./SIPSimRun_expDesign.sh in /ebio/abt3_projects/methanogen_host_evo/SIPSim_pt2/data/bac_genome1147/atomIncorp_sampDepth/15/10000/7\n",
      "2017-07-30 15:17:22,796 * INFO * [46477] /ebio/abt3_projects/methanogen_host_evo/SIPSim_pt2/data/bac_genome1147/atomIncorp_sampDepth/15/100/9 Finished with 0\n",
      "2017-07-30 15:17:22,809 * INFO * [47254] Started ./SIPSimRun_expDesign.sh in /ebio/abt3_projects/methanogen_host_evo/SIPSim_pt2/data/bac_genome1147/atomIncorp_sampDepth/15/10000/8\n",
      "2017-07-30 15:17:22,809 * INFO * [46441] /ebio/abt3_projects/methanogen_host_evo/SIPSim_pt2/data/bac_genome1147/atomIncorp_sampDepth/15/100/4 Finished with 0\n",
      "2017-07-"
     ]
    },
    {
     "data": {
      "text/html": [
       "<b>limit_output extension: Maximum message size of 20000 exceeded with 67908 characters</b>"
      ]
     },
     "metadata": {},
     "output_type": "display_data"
    }
   ],
   "source": [
    "%%bash -s $workDir $bashFileTmp $buildDir\n",
    "# offset job start to prevent conda activate errors\n",
    "sleep $[ ( $RANDOM % 10 )  + 1 ]s\n",
    "source activate py2_ley0.4\n",
    "# change to working dir\n",
    "cd $1\n",
    "# run job \n",
    "nestrun --template-file $2 -d $3 --log-file exp_design.log -j 20"
   ]
  },
  {
   "cell_type": "code",
   "execution_count": 13,
   "metadata": {
    "ExecuteTime": {
     "end_time": "2017-07-30T15:18:41.068550",
     "start_time": "2017-07-30T15:18:40.110927"
    },
    "collapsed": true
   },
   "outputs": [],
   "source": [
    "%pushmsg \"exp_design complete: $buildDir\""
   ]
  },
  {
   "cell_type": "markdown",
   "metadata": {},
   "source": [
    "## SIPSim pipeline"
   ]
  },
  {
   "cell_type": "code",
   "execution_count": 14,
   "metadata": {
    "ExecuteTime": {
     "end_time": "2017-07-30T15:19:10.456504",
     "start_time": "2017-07-30T15:19:10.449952"
    }
   },
   "outputs": [
    {
     "data": {
      "text/plain": [
       "'/ebio/abt3_projects/methanogen_host_evo/SIPSim_pt2/data/bac_genome1147/atomIncorp_sampDepth/SIPSimRun_SIPSim-pipeline.sh'"
      ]
     },
     "execution_count": 14,
     "metadata": {},
     "output_type": "execute_result"
    }
   ],
   "source": [
    "bashFileTmp = os.path.splitext(bashFile)[0] + '_SIPSim-pipeline.sh'\n",
    "bashFileTmp"
   ]
  },
  {
   "cell_type": "code",
   "execution_count": 15,
   "metadata": {
    "ExecuteTime": {
     "end_time": "2017-07-30T15:19:11.188514",
     "start_time": "2017-07-30T15:19:11.179222"
    }
   },
   "outputs": [
    {
     "name": "stdout",
     "output_type": "stream",
     "text": [
      "Writing /ebio/abt3_projects/methanogen_host_evo/SIPSim_pt2/data/bac_genome1147/atomIncorp_sampDepth/SIPSimRun_SIPSim-pipeline.sh\n"
     ]
    }
   ],
   "source": [
    "%%writefile $bashFileTmp\n",
    "#!/bin/bash\n",
    "# offset job start to prevent conda activate errors\n",
    "sleep $[ ( $RANDOM % 10 )  + 1 ]s\n",
    "source activate SIPSim\n",
    "# OPENBLAS threads \n",
    "export OMP_NUM_THREADS=1\n",
    "\n",
    "\n",
    "echo '#-- SIPSim pipeline --#'    \n",
    "    \n",
    "echo '# Adding diffusion'    \n",
    "SIPSim diffusion \\\n",
    "    -n {Monte_rep} \\\n",
    "    --bw {bandwidth} \\\n",
    "    --np {np} \\\n",
    "    {fragFile} \\\n",
    "    > ampFrags_KDE_dif.pkl    \n",
    "\n",
    "echo '# Adding DBL contamination; abundance-weighted smearing'\n",
    "SIPSim DBL \\\n",
    "    -n {Monte_rep} \\\n",
    "    --comm comm.txt \\\n",
    "    --commx {DBL_scaling} \\\n",
    "    --np {np} \\\n",
    "    ampFrags_KDE_dif.pkl \\\n",
    "    > ampFrags_KDE_dif_DBL.pkl \n",
    "\n",
    "echo '# Adding isotope incorporation to BD distribution'\n",
    "SIPSim isotope_incorp \\\n",
    "    -n {Monte_rep} \\\n",
    "    --comm comm.txt \\\n",
    "    --taxa incorporators.txt \\\n",
    "    --np {np} \\\n",
    "    ampFrags_KDE_dif_DBL.pkl \\\n",
    "    incorp.config \\\n",
    "    > ampFrags_KDE_dif_DBL_inc.pkl\n",
    "\n",
    "echo '# Simulating an OTU table'\n",
    "SIPSim OTU_table \\\n",
    "    --abs {abs} \\\n",
    "    --np {np} \\\n",
    "    ampFrags_KDE_dif_DBL_inc.pkl \\\n",
    "    comm.txt \\\n",
    "    fracs.txt \\\n",
    "    > OTU_abs{abs}.txt\n",
    "    \n",
    "echo '# Simulating PCR'\n",
    "SIPSim OTU_PCR \\\n",
    "    OTU_abs{abs}.txt \\\n",
    "    > OTU_abs{abs}_PCR.txt    \n",
    "    \n",
    "echo '# Subsampling from the OTU table (simulating sequencing of the DNA pool)'\n",
    "SIPSim OTU_subsample \\\n",
    "    --dist {subsample_dist} \\\n",
    "    --dist_params low:{subsample_size},high:{subsample_size} \\\n",
    "    OTU_abs{abs}_PCR.txt \\\n",
    "    > OTU_abs{abs}_PCR_sub.txt\n",
    "        \n",
    "echo '# Making a wide-formatted table'\n",
    "SIPSim OTU_wide_long -w \\\n",
    "    OTU_abs{abs}_PCR_sub.txt \\\n",
    "    > OTU_abs{abs}_PCR_sub_w.txt\n",
    "    \n",
    "echo '# Making metadata (phyloseq: sample_data)'\n",
    "SIPSim OTU_sample_data \\\n",
    "    OTU_abs{abs}_PCR_sub.txt \\\n",
    "    > OTU_abs{abs}_PCR_sub_meta.txt\n",
    "       \n",
    "\n",
    "#-- removing large intermediate files --#\n",
    "rm -f ampFrags_KDE_dif.pkl\n",
    "rm -f ampFrags_KDE_dif_DBL.pkl\n",
    "rm -f ampFrags_KDE_dif_DBL_inc.pkl    "
   ]
  },
  {
   "cell_type": "code",
   "execution_count": 16,
   "metadata": {
    "ExecuteTime": {
     "end_time": "2017-07-30T15:19:12.380686",
     "start_time": "2017-07-30T15:19:12.263206"
    },
    "collapsed": true
   },
   "outputs": [],
   "source": [
    "!chmod 755 $bashFileTmp"
   ]
  },
  {
   "cell_type": "code",
   "execution_count": null,
   "metadata": {
    "ExecuteTime": {
     "start_time": "2017-07-30T13:19:12.931Z"
    },
    "collapsed": true
   },
   "outputs": [],
   "source": [
    "%%bash -s $workDir $bashFileTmp $buildDir\n",
    "source activate py2_ley0.4\n",
    "cd $1\n",
    "\n",
    "nestrun --template-file $2 -d $3 --log-file SIPSim_pipeline.log -j 6 --stop-on-error"
   ]
  },
  {
   "cell_type": "code",
   "execution_count": null,
   "metadata": {
    "ExecuteTime": {
     "start_time": "2017-07-30T13:19:13.234Z"
    },
    "collapsed": true
   },
   "outputs": [],
   "source": [
    "%pushmsg \"SIPSim pipeline complete: $buildDir\""
   ]
  },
  {
   "cell_type": "markdown",
   "metadata": {},
   "source": [
    "## Summary of simulated data"
   ]
  },
  {
   "cell_type": "code",
   "execution_count": null,
   "metadata": {
    "ExecuteTime": {
     "start_time": "2017-07-30T13:20:14.153Z"
    },
    "collapsed": true
   },
   "outputs": [],
   "source": [
    "bashFileTmp = os.path.splitext(bashFile)[0] + '_SIPSim-summary.sh'\n",
    "bashFileTmp"
   ]
  },
  {
   "cell_type": "code",
   "execution_count": null,
   "metadata": {
    "ExecuteTime": {
     "start_time": "2017-07-30T13:20:14.409Z"
    },
    "collapsed": true
   },
   "outputs": [],
   "source": [
    "%%writefile $bashFileTmp\n",
    "#!/bin/bash\n",
    "# offset job start to prevent conda activate errors\n",
    "sleep $[ ( $RANDOM % 10 )  + 1 ]s\n",
    "source activate SIPSim \n",
    "\n",
    "echo \"# Plotting taxon abundances\"\n",
    "\n",
    "# plotting 'raw' taxon abundances\n",
    "Rscript {R_dir}OTU_taxonAbund.R \\\n",
    "    OTU_abs{abs}.txt \\\n",
    "    -r {topTaxaToPlot} \\\n",
    "    -o OTU_abs{abs}\n",
    "\n",
    "# plotting 'sequenced' taxon abundances\n",
    "Rscript {R_dir}OTU_taxonAbund.R \\\n",
    "    OTU_abs{abs}_PCR_sub.txt \\\n",
    "    -r {topTaxaToPlot} \\\n",
    "    -o OTU_abs{abs}_PCR_sub"
   ]
  },
  {
   "cell_type": "code",
   "execution_count": null,
   "metadata": {
    "ExecuteTime": {
     "start_time": "2017-07-30T13:20:14.817Z"
    },
    "collapsed": true
   },
   "outputs": [],
   "source": [
    "!chmod 755 $bashFileTmp"
   ]
  },
  {
   "cell_type": "code",
   "execution_count": null,
   "metadata": {
    "ExecuteTime": {
     "start_time": "2017-07-30T13:20:15.369Z"
    },
    "collapsed": true
   },
   "outputs": [],
   "source": [
    "%%bash -s $workDir $bashFileTmp $buildDir\n",
    "source activate py2_ley0.4\n",
    "cd $1\n",
    "\n",
    "nestrun --template-file $2 -d $3 --log-file SIPSim_summary.log -j 20"
   ]
  },
  {
   "cell_type": "markdown",
   "metadata": {},
   "source": [
    "## HR-SIP"
   ]
  },
  {
   "cell_type": "code",
   "execution_count": null,
   "metadata": {
    "ExecuteTime": {
     "start_time": "2017-07-30T13:20:15.866Z"
    },
    "collapsed": true
   },
   "outputs": [],
   "source": [
    "bashFileTmp = os.path.splitext(bashFile)[0] + '_HRSIP.sh'\n",
    "bashFileTmp"
   ]
  },
  {
   "cell_type": "code",
   "execution_count": null,
   "metadata": {
    "ExecuteTime": {
     "start_time": "2017-07-30T13:20:16.168Z"
    },
    "collapsed": true
   },
   "outputs": [],
   "source": [
    "%%writefile $bashFileTmp\n",
    "#!/bin/bash\n",
    "# offset job start to prevent conda activate errors\n",
    "sleep $[ ( $RANDOM % 10 )  + 1 ]s\n",
    "source activate SIPSim \n",
    "\n",
    "# phyloseq\n",
    "## making phyloseq object from OTU table\n",
    "Rscript {R_dir}phyloseq_make.R \\\n",
    "    OTU_abs{abs}_PCR_sub_w.txt \\\n",
    "    -s OTU_abs{abs}_PCR_sub_meta.txt \\\n",
    "    > OTU_abs{abs}_PCR_sub.physeq\n",
    "\n",
    "## filtering phyloseq object to just 'heavy' fractions\n",
    "Rscript {R_dir}phyloseq_edit.R \\\n",
    "    OTU_abs{abs}_PCR_sub.physeq \\\n",
    "    --BD_min {heavy_BD_min} \\\n",
    "    --BD_max {heavy_BD_max} \\\n",
    "    > OTU_abs{abs}_PCR_sub_filt.physeq\n",
    "\n",
    "## making ordination\n",
    "Rscript {R_dir}phyloseq_ordination.R \\\n",
    "    OTU_abs{abs}_PCR_sub_filt.physeq \\\n",
    "    OTU_abs{abs}_PCR_sub_filt_bray-NMDS.pdf\n",
    "\n",
    "# DESeq2\n",
    "Rscript {R_dir}phyloseq_DESeq2.R \\\n",
    "    --log2 {log2} \\\n",
    "    --hypo greater \\\n",
    "    --cont 1,3,5 \\\n",
    "    --treat 2,4,6 \\\n",
    "    OTU_abs{abs}_PCR_sub_filt.physeq \\\n",
    "    > OTU_abs{abs}_PCR_sub_filt_DESeq2"
   ]
  },
  {
   "cell_type": "code",
   "execution_count": null,
   "metadata": {
    "ExecuteTime": {
     "start_time": "2017-07-30T13:20:16.657Z"
    },
    "collapsed": true
   },
   "outputs": [],
   "source": [
    "!chmod 755 $bashFileTmp"
   ]
  },
  {
   "cell_type": "code",
   "execution_count": null,
   "metadata": {
    "ExecuteTime": {
     "start_time": "2017-07-30T13:20:17.057Z"
    },
    "collapsed": true
   },
   "outputs": [],
   "source": [
    "%%bash -s $workDir $bashFileTmp $buildDir\n",
    "source activate py2_ley0.4\n",
    "cd $1\n",
    "\n",
    "nestrun --template-file $2 -d $3 --log-file HR-SIP.log -j 20"
   ]
  },
  {
   "cell_type": "code",
   "execution_count": null,
   "metadata": {
    "ExecuteTime": {
     "start_time": "2017-07-30T13:20:17.520Z"
    },
    "collapsed": true
   },
   "outputs": [],
   "source": [
    "%pushmsg \"HR-SIP complete: $buildDir\""
   ]
  },
  {
   "cell_type": "markdown",
   "metadata": {},
   "source": [
    "## MW-HR-SIP"
   ]
  },
  {
   "cell_type": "code",
   "execution_count": 60,
   "metadata": {
    "ExecuteTime": {
     "end_time": "2017-08-03T09:20:45.788749",
     "start_time": "2017-08-03T09:20:45.776091"
    }
   },
   "outputs": [
    {
     "data": {
      "text/plain": [
       "'/ebio/abt3_projects/methanogen_host_evo/SIPSim_pt2/data/bac_genome1147/atomIncorp_sampDepth/SIPSimRun_MWHRSIP.sh'"
      ]
     },
     "execution_count": 60,
     "metadata": {},
     "output_type": "execute_result"
    }
   ],
   "source": [
    "bashFileTmp = os.path.splitext(bashFile)[0] + '_MWHRSIP.sh'\n",
    "bashFileTmp"
   ]
  },
  {
   "cell_type": "code",
   "execution_count": 61,
   "metadata": {
    "ExecuteTime": {
     "end_time": "2017-08-03T09:20:48.540637",
     "start_time": "2017-08-03T09:20:48.527796"
    }
   },
   "outputs": [
    {
     "name": "stdout",
     "output_type": "stream",
     "text": [
      "Overwriting /ebio/abt3_projects/methanogen_host_evo/SIPSim_pt2/data/bac_genome1147/atomIncorp_sampDepth/SIPSimRun_MWHRSIP.sh\n"
     ]
    }
   ],
   "source": [
    "%%writefile $bashFileTmp\n",
    "#!/bin/bash\n",
    "# offset job start to prevent conda activate errors\n",
    "sleep $[ ( $RANDOM % 10 )  + 1 ]s\n",
    "source activate SIPSim \n",
    "\n",
    "## HR SIP pipeline\n",
    "Rscript {R_dir}phyloseq_DESeq2.R \\\n",
    "    --log2 {log2} \\\n",
    "    --hypo greater \\\n",
    "    --cont 1,3,5 \\\n",
    "    --treat 2,4,6 \\\n",
    "    --occur_all 0.0,0.05,0.1,0.15,0.2,0.25,0.3,0.35,0.4,0.45,0.5 \\\n",
    "    -w 1.70-1.73,1.72-1.75,1.74-1.77 \\\n",
    "    --all OTU_abs1e9_PCR_sub_MW-all.txt \\\n",
    "    OTU_abs{abs}_PCR_sub.physeq \\\n",
    "    > OTU_abs{abs}_PCR_sub_filt_MW_DESeq2"
   ]
  },
  {
   "cell_type": "code",
   "execution_count": 62,
   "metadata": {
    "ExecuteTime": {
     "end_time": "2017-08-03T09:20:49.580778",
     "start_time": "2017-08-03T09:20:49.457654"
    },
    "collapsed": true
   },
   "outputs": [],
   "source": [
    "!chmod 755 $bashFileTmp"
   ]
  },
  {
   "cell_type": "code",
   "execution_count": null,
   "metadata": {
    "ExecuteTime": {
     "start_time": "2017-08-03T07:21:27.187Z"
    },
    "collapsed": true
   },
   "outputs": [],
   "source": [
    "%%bash -s $workDir $bashFileTmp $buildDir\n",
    "source activate py2_ley0.4\n",
    "cd $1\n",
    "\n",
    "nestrun --template-file $2 -d $3 --log-file MW-HR-SIP.log -j 20"
   ]
  },
  {
   "cell_type": "code",
   "execution_count": null,
   "metadata": {
    "ExecuteTime": {
     "start_time": "2017-08-03T07:21:35.130Z"
    },
    "collapsed": true
   },
   "outputs": [],
   "source": [
    "%pushmsg \"MW-HR-SIP complete: $buildDir\""
   ]
  },
  {
   "cell_type": "markdown",
   "metadata": {},
   "source": [
    "## q-SIP"
   ]
  },
  {
   "cell_type": "code",
   "execution_count": null,
   "metadata": {
    "ExecuteTime": {
     "start_time": "2017-07-30T13:20:20.401Z"
    },
    "collapsed": true
   },
   "outputs": [],
   "source": [
    "bashFileTmp = os.path.splitext(bashFile)[0] + '_qSIP.sh'\n",
    "bashFileTmp"
   ]
  },
  {
   "cell_type": "code",
   "execution_count": null,
   "metadata": {
    "ExecuteTime": {
     "start_time": "2017-07-30T13:20:20.704Z"
    },
    "collapsed": true
   },
   "outputs": [],
   "source": [
    "%%writefile $bashFileTmp\n",
    "#!/bin/bash\n",
    "# offset job start to prevent conda activate errors\n",
    "sleep $[ ( $RANDOM % 10 )  + 1 ]s\n",
    "source activate SIPSim \n",
    "# OPENBLAS threads \n",
    "export OMP_NUM_THREADS=1\n",
    "\n",
    "# qSIP\n",
    "SIPSim qSIP \\\n",
    "    OTU_abs{abs}.txt \\\n",
    "    OTU_abs{abs}_PCR_sub.txt \\\n",
    "    > OTU_abs{abs}_PCR_sub_qSIP.txt\n",
    "        \n",
    "\n",
    "# qSIP: atom excess\n",
    "SIPSim qSIP_atom_excess \\\n",
    "    --np {np} \\\n",
    "    OTU_abs{abs}_PCR_sub_qSIP.txt \\\n",
    "    {exp_design} \\\n",
    "    > OTU_abs{abs}_PCR_sub_qSIP_atom.txt  "
   ]
  },
  {
   "cell_type": "code",
   "execution_count": null,
   "metadata": {
    "ExecuteTime": {
     "start_time": "2017-07-30T13:20:21.210Z"
    },
    "collapsed": true
   },
   "outputs": [],
   "source": [
    "!chmod 755 $bashFileTmp"
   ]
  },
  {
   "cell_type": "code",
   "execution_count": null,
   "metadata": {
    "ExecuteTime": {
     "start_time": "2017-07-30T13:20:21.489Z"
    },
    "collapsed": true
   },
   "outputs": [],
   "source": [
    "%%bash -s $workDir $bashFileTmp $buildDir\n",
    "source activate py2_ley0.4\n",
    "cd $1\n",
    "\n",
    "nestrun --template-file $2 -d $3 --log-file qSIP.log -j 6"
   ]
  },
  {
   "cell_type": "code",
   "execution_count": null,
   "metadata": {
    "ExecuteTime": {
     "start_time": "2017-07-30T13:20:21.696Z"
    },
    "collapsed": true
   },
   "outputs": [],
   "source": [
    "%pushmsg \"q-SIP complete: $buildDir\""
   ]
  },
  {
   "cell_type": "markdown",
   "metadata": {},
   "source": [
    "## delta-BD"
   ]
  },
  {
   "cell_type": "code",
   "execution_count": null,
   "metadata": {
    "ExecuteTime": {
     "start_time": "2017-07-30T13:20:22.409Z"
    },
    "collapsed": true
   },
   "outputs": [],
   "source": [
    "bashFileTmp = os.path.splitext(bashFile)[0] + '_dBD.sh'\n",
    "bashFileTmp"
   ]
  },
  {
   "cell_type": "code",
   "execution_count": null,
   "metadata": {
    "ExecuteTime": {
     "start_time": "2017-07-30T13:20:22.753Z"
    },
    "collapsed": true
   },
   "outputs": [],
   "source": [
    "%%writefile $bashFileTmp\n",
    "#!/bin/bash\n",
    "# offset job start to prevent conda activate errors\n",
    "sleep $[ ( $RANDOM % 10 )  + 1 ]s\n",
    "source activate SIPSim \n",
    "# OPENBLAS threads \n",
    "export OMP_NUM_THREADS=1\n",
    "\n",
    "#deltaBD \n",
    "SIPSim deltaBD \\\n",
    "    OTU_abs{abs}_PCR_sub.txt \\\n",
    "    {exp_design} \\\n",
    "    > OTU_abs{abs}_PCR_sub_dBD.txt  "
   ]
  },
  {
   "cell_type": "code",
   "execution_count": null,
   "metadata": {
    "ExecuteTime": {
     "start_time": "2017-07-30T13:20:23.112Z"
    },
    "collapsed": true
   },
   "outputs": [],
   "source": [
    "!chmod 755 $bashFileTmp"
   ]
  },
  {
   "cell_type": "code",
   "execution_count": null,
   "metadata": {
    "ExecuteTime": {
     "start_time": "2017-07-30T13:20:23.457Z"
    },
    "collapsed": true
   },
   "outputs": [],
   "source": [
    "%%bash -s $workDir $bashFileTmp $buildDir\n",
    "source activate py2_ley0.4\n",
    "cd $1\n",
    "\n",
    "nestrun --template-file $2 -d $3 --log-file deltaBD.log -j 20"
   ]
  },
  {
   "cell_type": "code",
   "execution_count": null,
   "metadata": {
    "ExecuteTime": {
     "start_time": "2017-07-30T13:20:23.682Z"
    },
    "collapsed": true
   },
   "outputs": [],
   "source": [
    "%pushmsg \"deltaBD complete: $buildDir\""
   ]
  },
  {
   "cell_type": "markdown",
   "metadata": {},
   "source": [
    "## Making confusion matrices"
   ]
  },
  {
   "cell_type": "code",
   "execution_count": 65,
   "metadata": {
    "ExecuteTime": {
     "end_time": "2017-08-11T09:06:09.176550",
     "start_time": "2017-08-11T09:06:09.168258"
    }
   },
   "outputs": [
    {
     "data": {
      "text/plain": [
       "'/ebio/abt3_projects/methanogen_host_evo/SIPSim_pt2/data/bac_genome1147/atomIncorp_sampDepth/SIPSimRun_cMtx.sh'"
      ]
     },
     "execution_count": 65,
     "metadata": {},
     "output_type": "execute_result"
    }
   ],
   "source": [
    "bashFileTmp = os.path.splitext(bashFile)[0] + '_cMtx.sh'\n",
    "bashFileTmp"
   ]
  },
  {
   "cell_type": "code",
   "execution_count": 66,
   "metadata": {
    "ExecuteTime": {
     "end_time": "2017-08-11T09:06:09.648519",
     "start_time": "2017-08-11T09:06:09.639021"
    }
   },
   "outputs": [
    {
     "name": "stdout",
     "output_type": "stream",
     "text": [
      "Overwriting /ebio/abt3_projects/methanogen_host_evo/SIPSim_pt2/data/bac_genome1147/atomIncorp_sampDepth/SIPSimRun_cMtx.sh\n"
     ]
    }
   ],
   "source": [
    "%%writefile $bashFileTmp\n",
    "#!/bin/bash\n",
    "# offset job start to prevent conda activate errors\n",
    "sleep $[ ( $RANDOM % 10 )  + 1 ]s\n",
    "source activate SIPSim\n",
    "\n",
    "# HR-SIP\n",
    "Rscript {R_dir}DESeq2_confuseMtx.R \\\n",
    "    --libs 2,4,6 \\\n",
    "    --padj {padj} \\\n",
    "    BD-shift_stats.txt \\\n",
    "    OTU_abs{abs}_PCR_sub_filt_DESeq2\n",
    "\n",
    "# HR-SIP multiple 'heavy' BD windows\n",
    "Rscript {R_dir}DESeq2_confuseMtx.R \\\n",
    "    --libs 2,4,6 \\\n",
    "    --padj {padj} \\\n",
    "    -o DESeq2_multi-cMtx \\\n",
    "    BD-shift_stats.txt \\\n",
    "    OTU_abs{abs}_PCR_sub_filt_MW_DESeq2\n",
    "    \n",
    "# qSIP    \n",
    "Rscript {R_dir}qSIP_confuseMtx.R \\\n",
    "    --libs 2,4,6 \\\n",
    "    BD-shift_stats.txt \\\n",
    "    OTU_abs{abs}_PCR_sub_qSIP_atom.txt\n",
    "\n",
    "# heavy-SIP    \n",
    "Rscript {R_dir}heavy_confuseMtx.R \\\n",
    "    --treat 2,4,6 \\\n",
    "    --con 1,3,5 \\\n",
    "    --method 1 \\\n",
    "    BD-shift_stats.txt \\\n",
    "    OTU_abs{abs}_PCR_sub.txt"
   ]
  },
  {
   "cell_type": "code",
   "execution_count": 67,
   "metadata": {
    "ExecuteTime": {
     "end_time": "2017-08-11T09:06:11.148805",
     "start_time": "2017-08-11T09:06:11.020200"
    },
    "collapsed": true
   },
   "outputs": [],
   "source": [
    "!chmod 755 $bashFileTmp"
   ]
  },
  {
   "cell_type": "code",
   "execution_count": 68,
   "metadata": {
    "ExecuteTime": {
     "end_time": "2017-08-11T09:11:38.388560",
     "start_time": "2017-08-11T09:06:11.600755"
    },
    "scrolled": true
   },
   "outputs": [
    {
     "name": "stdout",
     "output_type": "stream",
     "text": [
      "2017-08-11 09:06:31,306 * INFO * Template: ./SIPSimRun_cMtx.sh\n",
      "2017-08-11 09:06:31,313 * INFO * [59200] Started ./SIPSimRun_cMtx.sh in /ebio/abt3_projects/methanogen_host_evo/SIPSim_pt2/data/bac_genome1147/atomIncorp_sampDepth/0/100/1\n",
      "2017-08-11 09:06:31,320 * INFO * [59202] Started ./SIPSimRun_cMtx.sh in /ebio/abt3_projects/methanogen_host_evo/SIPSim_pt2/data/bac_genome1147/atomIncorp_sampDepth/0/100/2\n",
      "2017-08-11 09:06:31,326 * INFO * [59204] Started ./SIPSimRun_cMtx.sh in /ebio/abt3_projects/methanogen_host_evo/SIPSim_pt2/data/bac_genome1147/atomIncorp_sampDepth/0/100/3\n",
      "2017-08-11 09:06:31,332 * INFO * [59206] Started ./SIPSimRun_cMtx.sh in /ebio/abt3_projects/methanogen_host_evo/SIPSim_pt2/data/bac_genome1147/atomIncorp_sampDepth/0/100/4\n",
      "2017-08-11 09:06:31,345 * INFO * [59208] Started ./SIPSimRun_cMtx.sh in /ebio/abt3_projects/methanogen_host_evo/SIPSim_pt2/data/bac_genome1147/atomIncorp_sampDepth/0/100/5\n",
      "2017-08-11 09:06:31,352 * INFO * [59210] Started ./SIPSimRun_cMtx.sh in /ebio/abt3_projects/methanogen_host_evo/SIPSim_pt2/data/bac_genome1147/atomIncorp_sampDepth/0/100/6\n",
      "2017-08-11 09:06:31,366 * INFO * [59212] Started ./SIPSimRun_cMtx.sh in /ebio/abt3_projects/methanogen_host_evo/SIPSim_pt2/data/bac_genome1147/atomIncorp_sampDepth/0/100/7\n",
      "2017-08-11 09:06:31,372 * INFO * [59214] Started ./SIPSimRun_cMtx.sh in /ebio/abt3_projects/methanogen_host_evo/SIPSim_pt2/data/bac_genome1147/atomIncorp_sampDepth/0/100/8\n",
      "2017-08-11 09:06:31,379 * INFO * [59216] Started ./SIPSimRun_cMtx.sh in /ebio/abt3_projects/methanogen_host_evo/SIPSim_pt2/data/bac_genome1147/atomIncorp_sampDepth/0/100/9\n",
      "2017-08-11 09:06:31,385 * INFO * [59218] Started ./SIPSimRun_cMtx.sh in /ebio/abt3_projects/methanogen_host_evo/SIPSim_pt2/data/bac_genome1147/atomIncorp_sampDepth/0/100/10\n",
      "2017-08-11 09:06:31,392 * INFO * [59220] Started ./SIPSimRun_cMtx.sh in /ebio/abt3_projects/methanogen_host_evo/SIPSim_pt2/data/bac_genome1147/atomIncorp_sampDepth/0/1000/1\n",
      "2017-08-11 09:06:31,401 * INFO * [59222] Started ./SIPSimRun_cMtx.sh in /ebio/abt3_projects/methanogen_host_evo/SIPSim_pt2/data/bac_genome1147/atomIncorp_sampDepth/0/1000/2\n",
      "2017-08-11 09:06:31,407 * INFO * [59224] Started ./SIPSimRun_cMtx.sh in /ebio/abt3_projects/methanogen_host_evo/SIPSim_pt2/data/bac_genome1147/atomIncorp_sampDepth/0/1000/3\n",
      "2017-08-11 09:06:31,415 * INFO * [59226] Started ./SIPSimRun_cMtx.sh in /ebio/abt3_projects/methanogen_host_evo/SIPSim_pt2/data/bac_genome1147/atomIncorp_sampDepth/0/1000/4\n",
      "2017-08-11 09:06:31,421 * INFO * [59228] Started ./SIPSimRun_cMtx.sh in /ebio/abt3_projects/methanogen_host_evo/SIPSim_pt2/data/bac_genome1147/atomIncorp_sampDepth/0/1000/5\n",
      "2017-08-11 09:06:31,427 * INFO * [59230] Started ./SIPSimRun_cMtx.sh in /ebio/abt3_projects/methanogen_host_evo/SIPSim_pt2/data/bac_genome1147/atomIncorp_sampDepth/0/1000/6\n",
      "2017-08-11 09:06:31,435 * INFO * [59232] Started ./SIPSimRun_cMtx.sh in /ebio/abt3_projects/methanogen_host_evo/SIPSim_pt2/data/bac_genome1147/atomIncorp_sampDepth/0/1000/7\n",
      "2017-08-11 09:06:31,444 * INFO * [59234] Started ./SIPSimRun_cMtx.sh in /ebio/abt3_projects/methanogen_host_evo/SIPSim_pt2/data/bac_genome1147/atomIncorp_sampDepth/0/1000/8\n",
      "2017-08-11 09:06:31,450 * INFO * [59236] Started ./SIPSimRun_cMtx.sh in /ebio/abt3_projects/methanogen_host_evo/SIPSim_pt2/data/bac_genome1147/atomIncorp_sampDepth/0/1000/9\n",
      "2017-08-11 09:06:31,457 * INFO * [59238] Started ./SIPSimRun_cMtx.sh in /ebio/abt3_projects/methanogen_host_evo/SIPSim_pt2/data/bac_genome1147/atomIncorp_sampDepth/0/1000/10\n",
      "2017-08-11 09:06:59,385 * INFO * [59200] /ebio/abt3_projects/methanogen_host_evo/SIPSim_pt2/data/bac_genome1147/atomIncorp_sampDepth/0/100/1 Finished with 0\n",
      "2017-08-11 09:06:59,392 * INFO * [60508] Started ./SIPSimRun_cMtx.sh in /ebio/abt3_projects/methanogen_host_evo/SIPSim_pt2/data/bac_genome1147/atomIncorp_sampDepth/0/10000/1\n",
      "2017-08-11 09:06:59,534 * INFO * [59238] /ebio/abt3_projects/methanogen_host_evo/SIPSim_pt2/data/bac_genome1147/atomIncorp_sampDepth/0/1000/10 Finished with 0\n",
      "2017-08-11 09:06:59,540 * INFO * [60512] Started ./SIPSimRun_cMtx.sh in /ebio/abt3_projects/methanogen_host_evo/SIPSim_pt2/data/bac_genome1147/atomIncorp_sampDepth/0/10000/2\n",
      "2017-08-11 09:06:59,814 * INFO * [59212] /ebio/abt3_projects/methanogen_host_evo/SIPSim_pt2/data/bac_genome1147/atomIncorp_sampDepth/0/100/7 Finished with 0\n",
      "2017-08-11 09:06:59,822 * INFO * [60516] Started ./SIPSimRun_cMtx.sh in /ebio/abt3_projects/methanogen_host_evo/SIPSim_pt2/data/bac_genome1147/atomIncorp_sampDepth/0/10000/3\n",
      "2017-08-11 09:07:00,169 * INFO * [59236] /ebio/abt3_projects/methanogen_host_evo/SIPSim_pt2/data/bac_genome1147/atomIncorp_sampDepth/0/1000/9 Finished with 0\n",
      "2017-08-11 09:07:00,176 * INFO * [60520] Started ./SIPSimRun_cMtx.sh in /ebio/abt3_projects/methanogen_host_evo/SIPSim_pt2/data/bac_genome1147/atomIncorp_sampDepth/0/10000/4\n",
      "2017-08-11 09:07:00,296 * INFO * [59234] /ebio/abt3_projects/methanogen_host_evo/SIPSim_pt2/data/bac_genome1147/atomIncorp_sampDepth/0/1000/8 Finished with 0\n",
      "2017-08-11 09:07:00,306 * INFO * [60526] Started ./SIPSimRun_cMtx.sh in /ebio/abt3_projects/methanogen_host_evo/SIPSim_pt2/data/bac_genome1147/atomIncorp_sampDepth/0/10000/5\n",
      "2017-08-11 09:07:00,306 * INFO * [59226] /ebio/abt3_projects/methanogen_host_evo/SIPSim_pt2/data/bac_genome1147/atomIncorp_sampDepth/0/1000/4 Finished with 0\n",
      "2017-08-11 09:07:00,311 * INFO * [60528] Started ./SIPSimRun_cMtx.sh in /ebio/abt3_projects/methanogen_host_evo/SIPSim_pt2/data/bac_genome1147/atomIncorp_sampDepth/0/10000/6\n",
      "2017-08-11 09:07:00,333 * INFO * [59224] /ebio/abt3_projects/methanogen_host_evo/SIPSim_pt2/data/bac_genome1147/atomIncorp_sampDepth/0/1000/3 Finished with 0\n",
      "2017-08-11 09:07:00,340 * INFO * [60532] Started ./SIPSimRun_cMtx.sh in /ebio/abt3_projects/methanogen_host_evo/SIPSim_pt2/data/bac_genome1147/atomIncorp_sampDepth/0/10000/7\n",
      "2017-08-11 09:07:00,597 * INFO * [59228] /ebio/abt3_projects/methanogen_host_evo/SIPSim_pt2/data/bac_genome1147/atomIncorp_sampDepth/0/1000/5 Finished with 0\n",
      "2017-08-11 09:07:00,602 * INFO * [60536] Started ./SIPSimRun_cMtx.sh in /ebio/abt3_projects/methanogen_host_evo/SIPSim_pt2/data/bac_genome1147/atomIncorp_sampDepth/0/10000/8\n",
      "2017-08-11 09:07:00,930 * INFO * [59220] /ebio/abt3_projects/methanogen_host_evo/SIPSim_pt2/data/bac_genome1147/atomIncorp_sampDepth/0/1000/1 Finished with 0\n",
      "2017-08-11 09:07:00,937 * INFO * [60547] Started ./SIPSimRun_cMtx.sh in /ebio/abt3_projects/methanogen_host_evo/SIPSim_pt2/data/bac_genome1147/atomIncorp_sampDepth/0/10000/9\n",
      "2017-08-11 09:07:01,037 * INFO * [59214] /ebio/abt3_projects/methanogen_host_evo/SIPSim_pt2/data/bac_genome1147/atomIncorp_sampDepth/0/100/8 Finished with 0\n",
      "2017-08-11 09:07:01,057 * INFO * [60551] Started ./SIPSimRun_cMtx.sh in /ebio/abt3_projects/methanogen_host_evo/SIPSim_pt2/data/bac_genome1147/atomIncorp_sampDepth/0/10000/10\n",
      "2017-08-11 09:07:01,113 * INFO * [59218] /ebio/abt3_projects/methanogen_host_evo/SIPSim_pt2/data/bac_genome1147/atomIncorp_sampDepth/0/100/10 Finished with 0\n",
      "2017-08-11 09:07:01,122 * INFO * [60555] Started ./SIPSimRun_cMtx.sh in /ebio/abt3_projects/methanogen_host_evo/SIPSim_pt2/data/bac_genome1147/atomIncorp_sampDepth/0/100000/1\n",
      "2017-08-11 09:07:01,204 * INFO * [59232] /ebio/abt3_projects/methanogen_host_evo/SIPSim_pt2/data/bac_genome1147/atomIncorp_sampDepth/0/1000/7 Finished with 0\n",
      "2017-08-11 09:07:01,209 * INFO * [60559] Started ./SIPSimRun_cMtx.sh in /ebio/abt3_projects/methanogen_host_evo/SIPSim_pt2/data/bac_genome1147/atomIncorp_sampDepth/0/100000/2\n",
      "2017-08-11 09:07:03,275 * INFO * [59216] /ebio/abt3_projects/methanogen_host_evo/SIPSim_pt2/data/bac_genome1147/atomIncorp_sampDepth/0/100/9 Finished with 0\n",
      "2017-08-11 09:07:03,281 * INFO * [60602] Started ./SIPSimRun_cMtx.sh in /ebio/abt3_projects/methanogen_host_evo/SIPSim_pt2/data/bac_genome1147/atomIncorp_sampDepth/0/100000/3\n",
      "2017-08-11 09:07:03,305 * INFO * [59210] /ebio/abt3_projects/methanogen_host_evo/SIPSim_pt2/data/bac_genome1147/atomIncorp_sampDepth/0/100/6 Finished with 0\n",
      "2017-08-11 09:07:03,309 * INFO * [60606] Started ./SIPSimRun_cMtx.sh in /ebio/abt3_projects/methanogen_host_evo/SIPSim_pt2/data/bac_genome1147/atomIncorp_sampDepth/0/100000/4\n",
      "2017-08-11 09:07:03,372 * INFO * [59202] /ebio/abt3_projects/methanogen_host_evo/SIPSim_pt2/data/bac_genome1147/atomIncorp_sampDepth/0/100/2 Finished with 0\n",
      "2017-08-11 09:07:03,380 * INFO * [60617] Started ./SIPSimRun_cMtx.sh in /ebio/abt3_projects/methanogen_host_evo/SIPSim_pt2/data/bac_genome1147/atomIncorp_sampDepth/0/100000/5\n",
      "2017-08-11 09:07:03,636 * INFO * [59206] /ebio/abt3_projects/methanogen_host_evo/SIPSim_pt2/data/bac_genome1147/atomIncorp_sampDepth/0/100/4 Finished with 0\n",
      "2017-08-11 09:07:03,642 * INFO * [60635] Started ./SIPSimRun_cMtx.sh in /ebio/abt3_projects/methanogen_host_evo/SIPSim_pt2/data/bac_genome1147/atomIncorp_sampDepth/0/100000/6\n",
      "2017-08-11 09:07:03,998 * INFO * [59222] /ebio/abt3_projects/methanogen_host_evo/SIPSim_pt2/data/bac_genome1147/atomIncorp_sampDepth/0/1000/2 Finished with 0\n",
      "2017-08-11 09:07:04,005 * INFO * [60656] Started ./SIPSimRun_cMtx.sh in /ebio/abt3_projects/methanogen_host_evo/SIPSim_pt2/data/bac_genome1147/atomIncorp_sampDepth/0/100000/7\n",
      "2017-08-11 09:07:05,126 * INFO * [59204] /ebio/abt3_projects/methanogen_host_evo/SIPSim_pt2/data/bac_genome1147/atomIncorp_sampDepth/0/100/3 Finished with 0\n",
      "2017-08-11 09:07:05,132 * INFO * [60733] Started ./SIPSimRun_cMtx.sh in /ebio/abt3_projects/methanogen_host_evo/SIPSim_pt2/data/bac_genome1147/atomIncorp_sampDepth/0/100000/8\n",
      "2017-08-11 09:07:05,146 * INFO * [59208] /ebio/abt3_projects/methanogen_host_evo/SIPSim_pt2/data/bac_genome1147/atomIncorp_sampDepth/0/100/5 Finished with 0\n",
      "2017-08-11 09:07:05,152 * INFO * [60736] Started ./SIPSimRun_cMtx.sh in /ebio/abt3_projects/methanogen_host_evo/SIPSim_pt2/data/bac_genome1147/atomIncorp_sampDepth/0/100000/9\n",
      "2017-08-11 09:07:05,590 * INFO * [59230] /ebio/abt3_projects/methanogen_host_evo/SIPSim_pt2/data/bac_genome1147/atomIncorp_sampDepth/0/1000/6 Finished with 0\n",
      "2017-08-11 09:07:05,596 * INFO * [60753] Started ./SIPSimRun_cMtx.sh in /ebio/abt3_projects/methanogen_host_evo/SIPSim_pt2/data/bac_genome1147/atomIncorp_sampDepth/0/100000/10\n",
      "2017-08-11 09:07:25,006 * INFO * [60516] /ebio/abt3_projects/methanogen_host_evo/SIPSim_pt2/data/bac_genome1147/atomIncorp_sampDepth/0/10000/3 Finished with 0\n",
      "2017-08-11 09:07:25,013 * INFO * [61723] Started ./SIPSimRun_cMtx.sh in /ebio/abt3_projects/methanogen_host_evo/SIPSim_pt2/data/bac_genome1147/atomIncorp_sampDepth/15/100/1\n",
      "2017-08-11 09:07:25,732 * INFO * [60512] /ebio/abt3_projects/methanogen_host_evo/SIPSim_pt2/data/bac_genome1147/atomIncorp_sampDepth/0/10000/2 Finished with 0\n",
      "2017-08-11 09:07:25,738 * INFO * [61727] Started ./SIPSimRun_cMtx.sh in /ebio/abt3_projects/methanogen_host_evo/SIPSim_pt2/data/bac_genome1147/atomIncorp_sampDepth/15/100/2\n",
      "2017-08-11 09:07:27,292 * INFO * [60528] /ebio/abt3_projects/methanogen_host_evo/SIPSim_pt2/data/bac_genome1147/atomIncorp_sampDepth/0/10000/6 Finished with 0\n",
      "2017-08-11 09:07:27,298 * INFO * [61779] Started ./SIPSimRun_cMtx.sh in /ebio/abt3_projects/methanogen_host_evo/SIPSim_pt2/data/bac_genome1147/atomIncorp_sampDepth/15/100/3\n",
      "2017-08-11 09:07:27,424 * INFO * [60617] /ebio/abt3_projects/methanogen_host_evo/SIPSim_pt2/data/bac_genome1147/atomIncorp_sampDepth/0/100000/5 Finished with 0\n",
      "2017-08-11 09:07:27,430 * INFO * [61783] Started ./SIPSimRun_cMtx.sh in /ebio/abt3_projects/methanogen_host_evo/SIPSim_pt2/data/bac_genome1147/atomIncorp_sampDepth/15/100/4\n",
      "2017-08-11 09:07:27,485 * INFO * [60508] /ebio/abt3_projects/methanogen_host_evo/SIPSim_pt2/data/bac_genome1147/atomIncorp_sampDepth/0/10000/1 Finished with 0\n",
      "2017-08-11 09:07:27,490 * INFO * [61787] Started ./SIPSimRun_cMtx.sh in /ebio/abt3_projects/methanogen_host_evo/SIPSim_pt2/data/bac_genome1147/atomIncorp_sampDepth/15/100/5\n",
      "2017-08-11 09:07:27,942 * INFO * [60551] /ebio/abt3_projects/methanogen_host_evo/SIPSim_pt2/data/bac_genome1147/atomIncorp_sampDepth/0/10000/10 Finished with 0\n",
      "2017-08-11 09:07:27,951 * INFO * [61799] Started ./SIPSimRun_cMtx.sh in /ebio/abt3_projects/methanogen_host_evo/SIPSim_pt2/data/bac_genome1147/atomIncorp_sampDepth/15/100/6\n",
      "2017-08-11 09:07:28,414 * INFO * [60536] /ebio/abt3_projects/methanogen_host_evo/SIPSim_pt2/data/bac_genome1147/atomIncorp_sampDepth/0/10000/8 Finished with 0\n",
      "2017-08-11 09:07:28,422 * INFO * [61803] Started ./SIPSimRun_cMtx.sh in /ebio/abt3_projects/methanogen_host_evo/SIPSim_pt2/data/bac_genome1147/atomIncorp_sampDepth/15/100/7\n",
      "2017-08-11 09:07:28,585 * INFO * [60736] /ebio/abt3_projects/methanogen_host_evo/SIPSim_pt2/data/bac_genome1147/atomIncorp_sampDepth/0/100000/9 Finished with 0\n",
      "2017-08-11 09:07:28,592 * INFO * [61815] Started ./SIPSimRun_cMtx.sh in /ebio/abt3_projects/methanogen_host_evo/SIPSim_pt2/data/bac_genome1147/atomIncorp_sampDepth/15/100/8\n",
      "2017-08-11 09:07:29,573 * INFO * [60520] /ebio/abt3_projects/methanogen_host_evo/SIPSim_pt2/data/bac_genome1147/atomIncorp_sampDepth/0/10000/4 Finished with 0\n",
      "2017-08-11 09:07:29,581 * INFO * [61826] Started ./SIPSimRun_cMtx.sh in /ebio/abt3_projects/methanogen_host_evo/SIPSim_pt2/data/bac_genome1147/atomIncorp_sampDepth/15/100/9\n",
      "2017-08-11 09:07:29,919 * INFO * [60559] /ebio/abt3_projects/methanogen_host_evo/SIPSim_pt2/data/bac_genome1147/atomIncorp_sampDepth/0/100000/2 Finished with 0\n",
      "2017-08-11 09:07:29,929 * INFO * [61837] Started ./SIPSimRun_cMtx.sh in /ebio/abt3_projects/methanogen_host_evo/SIPSim_pt2/data/bac_genome1147/atomIncorp_sampDepth/15/100/10\n",
      "2017-08-11 09:07:30,670 * INFO * [60547] /ebio/abt3_projects/methanogen_host_evo/SIPSim_pt2/data/bac_genome1147/atomIncorp_sampDepth/0/10000/9 Finished with 0\n",
      "2017-08-11 09:07:30,716 * INFO * [61843] Started ./SIPSimRun_cMtx.sh in /ebio/abt3_projects/methanogen_host_evo/SIPSim_pt2/data/bac_genome1147/atomIncorp_sampDepth/15/1000/1\n",
      "2017-08-11 09:07:30,987 * INFO * [60526] /ebio/abt3_projects/methanogen_host_evo/SIPSim_pt2/data/bac_genome1147/atomIncorp_sampDepth/0/10000/5 Finished with 0\n",
      "2017-08-11 09:07:30,993 * INFO * [61867] Started ./SIPSimRun_cMtx.sh in /ebio/abt3_projects/methanogen_host_evo/SIPSim_pt2/data/bac_genome1147/atomIncorp_sampDepth/15/1000/2\n",
      "2017-08-11 09:07:33,623 * INFO * [60532] /ebio/abt3_projects/methanogen_host_evo/SIPSim_pt2/data/bac_genome1147/atomIncorp_sampDepth/0/10000/7 Finished with 0\n",
      "2017-08-11 09:07:33,628 * INFO * [61980] Started ./SIPSimRun_cMtx.sh in /ebio/abt3_projects/methanogen_host_evo/SIPSim_pt2/data/bac_genome1147/atomIncorp_sampDepth/15/1000/3\n",
      "2017-08-11 09:07:34,153 * INFO * [60733] /ebio/abt3_projects/methanogen_host_evo/SIPSim_pt2/data/bac_genome1147/atomIncorp_sampDepth/0/100000/8 Finished with 0\n",
      "2017-08-11 09:07:34,163 * INFO * [62014] Started ./SIPSimRun_cMtx.sh in /ebio/abt3_projects/methanogen_host_evo/SIPSim_pt2/data/bac_genome1147/atomIncorp_sampDepth/15/1000/4\n",
      "2017-08-11 09:07:34,256 * INFO * [60635] /ebio/abt3_projects/methanogen_host_evo/SIPSim_pt2/data/bac_genome1147/atomIncorp_sampDepth/0/100000/6 Finished with 0\n",
      "2017-08-11 09:07:34,263 * INFO * [62020] Started ./SIPSimRun_cMtx.sh in /ebio/abt3_projects/methanogen_host_evo/SIPSim_pt2/data/bac_genome1147/atomIncorp_sampDepth/15/1000/5\n",
      "2017-08-11 09:07:34,376 * INFO * [60602] /ebio/abt3_projects/methanogen_host_evo/SIPSim_pt2/data/bac_genome1147/atomIncorp_sampDepth/0/100000/3 Finished with 0\n",
      "2017-08-11 09:07:34,385 * INFO * [62024] Started ./SIPSimRun_cMtx.sh in /ebio/abt3_projects/methanogen_host_evo/SIPSim_pt2/data/bac_genome1147/atomIncorp_sampDepth/15/1000/6\n",
      "2017-08-11 09:07:34,900 * INFO * [60656] /ebio/abt3_projects/methanogen_host_evo/SIPSim_pt2/data/bac_genome1147/atomIncorp_sampDepth/0/100000/7 Finished with 0\n",
      "2017-08-11 09:07:34,909 * INFO * [62061] Started ./SIPSimRun_cMtx.sh in /ebio/abt3_projects/methanogen_host_evo/SIPSim_pt2/data/bac_genome1147/atomIncorp_sampDepth/15/1000/7\n",
      "2017-08-11 09:07:35,579 * INFO * [60555] /ebio/abt3_projects/methanogen_host_evo/SIPSim_pt2/data/bac_genome1147/atomIncorp_sampDepth/0/100000/1 Finished with 0\n",
      "2017-08-11 09:07:35,590 * INFO * [62100] Started ./SIPSimRun_cMtx.sh in /ebio/abt3_projects/methanogen_host_evo/SIPSim_pt2/data/bac_genome1147/atomIncorp_sampDepth/15/1000/8\n",
      "2017-08-11 09:07:36,236 * INFO * [60606] /ebio/abt3_projects/methanogen_host_evo/SIPSim_pt2/data/bac_genome1147/atomIncorp_sampDepth/0/100000/4 Finished with 0\n",
      "2017-08-11 09:07:36,243 * INFO * [62149] Started ./SIPSimRun_cMtx.sh in /ebio/abt3_projects/methanogen_host_evo/SIPSim_pt2/data/bac_genome1147/atomIncorp_sampDepth/15/1000/9\n",
      "2017-08-11 09:07:39,514 * INFO * [60753] /ebio/abt3_projects/methanogen_host_evo/SIPSim_pt2/data/bac_genome1147/atomIncorp_sampDepth/0/100000/10 Finished with 0\n",
      "2017-08-11 09:07:39,519 * INFO * [62365] Started ./SIPSimRun_cMtx.sh in /ebio/abt3_projects/methanogen_host_evo/SIPSim_pt2/data/bac_genome1147/atomIncorp_sampDepth/15/1000/10\n",
      "2017-08-11 09:07:52,899 * INFO * [61727] /ebio/abt3_projects/methanogen_host_evo/SIPSim_pt2/data/bac_genome1147/atomIncorp_sampDepth/15/100/2 Finished with 0\n",
      "2017-08-11 09:07:52,907 * INFO * [62979] Started ./SIPSimRun_cMtx.sh in /ebio/abt3_projects/methanogen_host_evo/SIPSim_pt2/data/bac_genome1147/atomIncorp_sampDepth/15/10000/1\n",
      "2017-08-11 09:07:53,422 * INFO * [61783] /ebio/abt3_projects/methanogen_host_evo/SIPSim_pt2/data/bac_genome1147/atomIncorp_sampDepth/15/100/4 Finished with 0\n",
      "2017-08-11 09:07:53,429 * INFO * [62983] Started ./SIPSimRun_cMtx.sh in /ebio/abt3_projects/methanogen_host_evo/SIPSim_pt2/data/bac_genome1147/atomIncorp_sampDepth/15/10000/2\n",
      "2017-08-11 09:07:54,847 * INFO * [61826] /ebio/abt3_projects/methanogen_host_evo/SIPSim_pt2/data/bac_genome1147/atomIncorp_sampDepth/15/100/9 Finished with 0\n",
      "2017-08-11 09:07:54,854 * INFO * [63019] Started ./SIPSimRun_cMtx.sh in /ebio/abt3_projects/methanogen_host_evo/SIPSim_pt2/data/bac_genome1147/atomIncorp_sampDepth/15/10000/3\n",
      "2017-08-11 09:07:54,936 * INFO * [61803] /ebio/abt3_projects/methanogen_host_evo/SIPSim_pt2/data/bac_genome1147/atomIncorp_sampDepth/15/100/7 Finished with 0\n",
      "2017-08-11 09:07:54,944 * INFO * [63023] Started ./SIPSimRun_cMtx.sh in /ebio/abt3_projects/methanogen_host_evo/SIPSim_pt2/data/bac_genome1147/atomIncorp_sampDepth/15/10000/4\n",
      "2017-08-11 09:07:55,806 * INFO * [61787] /ebio/abt3_projects/methanogen_host_evo/SIPSim_pt2/data/bac_genome1147/atomIncorp_sampDepth/15/100/5 Finished with 0\n",
      "2017-08-11 09:07:55,813 * INFO * [63042] Started ./SIPSimRun_cMtx.sh in /ebio/abt3_projects/methanogen_host_evo/SIPSim_pt2/data/bac_genome1147/atomIncorp_sampDepth/15/10000/5\n",
      "2017-08-11 09:07:56,947 * INFO * [61799] /ebio/abt3_projects/methanogen_host_evo/SIPSim_pt2/data/bac_genome1147/atomIncorp_sampDepth/15/100/6 Finished with 0\n",
      "2017-08-11 09:07:56,952 * INFO * [63090] Started ./SIPSimRun_cMtx.sh in /ebio/abt3_projects/methanogen_host_evo/SIPSim_pt2/data/bac_genome1147/atomIncorp_sampDepth/15/10000/6\n",
      "2017-08-11 09:07:58,355 * INFO * [61723] /ebio/abt3_projects/methanogen_host_evo/SIPSim_pt2/data/bac_genome1147/atomIncorp_sampDepth/15/100/1 Finished with 0\n",
      "2017-08-11 09:07:58,361 * INFO * [63132] Started ./SIPSimRun_cMtx.sh in /ebio/abt3_projects/methanogen_host_evo/SIPSim_pt2/data/bac_genome1147/atomIncorp_sampDepth/15/10000/7\n",
      "2017-08-11 09:07:58,745 * INFO * [61815] /ebio/abt3_projects/methanogen_host_evo/SIPSim_pt2/data/bac_genome1147/atomIncorp_sampDepth/15/100/8 Finished with 0\n",
      "2017-08-11 09:07:58,757 * INFO * [63169] Started ./SIPSimRun_cMtx.sh in /ebio/abt3_projects/methanogen_host_evo/SIPSim_pt2/data/bac_genome1147/atomIncorp_sampDepth/15/10000/8\n",
      "2017-08-11 09:07:59,365 * INFO * [61843] /ebio/abt3_projects/methanogen_host_evo/SIPSim_pt2/data/bac_genome1147/atomIncorp_sampDepth/15/1000/1 Finished with 0\n",
      "2017-08-11 09:07:59,377 * INFO * [63196] Started ./SIPSimRun_cMtx.sh in /ebio/abt3_projects/methanogen_host_evo/SIPSim_pt2/data/bac_genome1147/atomIncorp_sampDepth/15/10000/9\n",
      "2017-08-11 09:07:59,817 * INFO * [61837] /ebio/abt3_projects/methanogen_host_evo/SIPSim_pt2/data/bac_genome1147/atomIncorp_sampDepth/15/100/10 Finished with 0\n",
      "2017-08-11 09:07:59,"
     ]
    },
    {
     "data": {
      "text/html": [
       "<b>limit_output extension: Maximum message size of 20000 exceeded with 66903 characters</b>"
      ]
     },
     "metadata": {},
     "output_type": "display_data"
    }
   ],
   "source": [
    "%%bash -s $workDir $bashFileTmp $buildDir\n",
    "source activate py2_ley0.4\n",
    "cd $1\n",
    "\n",
    "nestrun --template-file $2 -d $3 --log-file cMtx.log -j 20"
   ]
  },
  {
   "cell_type": "markdown",
   "metadata": {},
   "source": [
    "### Aggregating confusion matrices"
   ]
  },
  {
   "cell_type": "code",
   "execution_count": 69,
   "metadata": {
    "ExecuteTime": {
     "end_time": "2017-08-11T09:13:40.344701",
     "start_time": "2017-08-11T09:11:38.391161"
    }
   },
   "outputs": [],
   "source": [
    "def agg_cMtx(prefix):\n",
    "    # all data\n",
    "    x = prefix + '-cMtx_data.txt'\n",
    "    !nestagg delim \\\n",
    "       -d $buildDir \\\n",
    "       -k percIncorp,subsample_size,rep \\\n",
    "       -o $x \\\n",
    "       --tab \\\n",
    "       $x\n",
    "\n",
    "    # overall\n",
    "    x = prefix + '-cMtx_overall.txt'\n",
    "    !nestagg delim \\\n",
    "        -d $buildDir \\\n",
    "        -k percIncorp,subsample_size,rep \\\n",
    "        -o $x \\\n",
    "        --tab \\\n",
    "        $x\n",
    "\n",
    "    # by class\n",
    "    x = prefix + '-cMtx_byClass.txt'\n",
    "    !nestagg delim \\\n",
    "        -d $buildDir \\\n",
    "        -k percIncorp,subsample_size,rep \\\n",
    "        -o $x \\\n",
    "        --tab \\\n",
    "        $x\n",
    "        \n",
    "agg_cMtx('DESeq2')\n",
    "agg_cMtx('DESeq2_multi')\n",
    "agg_cMtx('qSIP') \n",
    "agg_cMtx('heavy') "
   ]
  },
  {
   "cell_type": "code",
   "execution_count": 70,
   "metadata": {
    "ExecuteTime": {
     "end_time": "2017-08-11T09:13:41.592747",
     "start_time": "2017-08-11T09:13:40.346872"
    },
    "collapsed": true
   },
   "outputs": [],
   "source": [
    "%pushmsg \"atomIncorp_sampleDepth complete!\""
   ]
  },
  {
   "cell_type": "markdown",
   "metadata": {},
   "source": [
    "# --End of simulation--"
   ]
  },
  {
   "cell_type": "markdown",
   "metadata": {},
   "source": [
    "***"
   ]
  },
  {
   "cell_type": "markdown",
   "metadata": {},
   "source": [
    "# Results"
   ]
  },
  {
   "cell_type": "code",
   "execution_count": 71,
   "metadata": {
    "ExecuteTime": {
     "end_time": "2017-08-11T09:13:41.604571",
     "start_time": "2017-08-11T09:13:41.595435"
    }
   },
   "outputs": [
    {
     "data": {
      "text/plain": [
       "['/ebio/abt3_projects/methanogen_host_evo/SIPSim_pt2/data/bac_genome1147/atomIncorp_sampDepth/DESeq2-cMtx_byClass.txt',\n",
       " '/ebio/abt3_projects/methanogen_host_evo/SIPSim_pt2/data/bac_genome1147/atomIncorp_sampDepth/DESeq2_multi-cMtx_byClass.txt',\n",
       " '/ebio/abt3_projects/methanogen_host_evo/SIPSim_pt2/data/bac_genome1147/atomIncorp_sampDepth/qSIP-cMtx_byClass.txt',\n",
       " '/ebio/abt3_projects/methanogen_host_evo/SIPSim_pt2/data/bac_genome1147/atomIncorp_sampDepth/heavy-cMtx_byClass.txt']"
      ]
     },
     "execution_count": 71,
     "metadata": {},
     "output_type": "execute_result"
    }
   ],
   "source": [
    "F = os.path.join(buildDir, '*-cMtx_byClass.txt')\n",
    "files = glob.glob(F)\n",
    "files"
   ]
  },
  {
   "cell_type": "markdown",
   "metadata": {
    "collapsed": true
   },
   "source": [
    "# WAITING\n",
    "\n",
    "/ebio/abt3_projects/methanogen_host_evo/SIPSim_pt2/data/bac_genome1147/atomIncorp_sampDepth/100/100/8"
   ]
  },
  {
   "cell_type": "code",
   "execution_count": null,
   "metadata": {
    "collapsed": true
   },
   "outputs": [],
   "source": []
  }
 ],
 "metadata": {
  "kernelspec": {
   "display_name": "Python [conda env:py2_ley0.4]",
   "language": "python",
   "name": "conda-env-py2_ley0.4-py"
  },
  "language_info": {
   "codemirror_mode": {
    "name": "ipython",
    "version": 2
   },
   "file_extension": ".py",
   "mimetype": "text/x-python",
   "name": "python",
   "nbconvert_exporter": "python",
   "pygments_lexer": "ipython2",
   "version": "2.7.12"
  },
  "toc": {
   "colors": {
    "hover_highlight": "#DAA520",
    "running_highlight": "#FF0000",
    "selected_highlight": "#FFD700"
   },
   "moveMenuLeft": true,
   "nav_menu": {
    "height": "354px",
    "width": "252px"
   },
   "navigate_menu": true,
   "number_sections": true,
   "sideBar": true,
   "threshold": 4,
   "toc_cell": false,
   "toc_position": {
    "height": "789px",
    "left": "0px",
    "right": "1381px",
    "top": "106px",
    "width": "212px"
   },
   "toc_section_display": "block",
   "toc_window_display": true
  }
 },
 "nbformat": 4,
 "nbformat_minor": 2
}
