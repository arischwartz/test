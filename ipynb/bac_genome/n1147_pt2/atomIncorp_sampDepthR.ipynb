{
 "cells": [
  {
   "cell_type": "markdown",
   "metadata": {},
   "source": [
    "# Goal\n",
    "\n",
    "* Analyze results from `atomIncorp_sampDepth` simulation"
   ]
  },
  {
   "cell_type": "markdown",
   "metadata": {},
   "source": [
    "# Var"
   ]
  },
  {
   "cell_type": "code",
   "execution_count": 1,
   "metadata": {
    "ExecuteTime": {
     "end_time": "2017-07-30T08:01:30.747440",
     "start_time": "2017-07-30T06:01:31.114Z"
    },
    "collapsed": true
   },
   "outputs": [],
   "source": [
    "workDir = '/ebio/abt3_projects/methanogen_host_evo/SIPSim_pt2/data/bac_genome1147/atomIncorp_sampDepth/'"
   ]
  },
  {
   "cell_type": "markdown",
   "metadata": {},
   "source": [
    "# Init"
   ]
  },
  {
   "cell_type": "code",
   "execution_count": 2,
   "metadata": {
    "ExecuteTime": {
     "end_time": "2017-07-30T08:01:46.853022",
     "start_time": "2017-07-30T06:01:45.752Z"
    }
   },
   "outputs": [
    {
     "name": "stderr",
     "output_type": "stream",
     "text": [
      "\n",
      "Attaching package: ‘dplyr’\n",
      "\n",
      "The following objects are masked from ‘package:stats’:\n",
      "\n",
      "    filter, lag\n",
      "\n",
      "The following objects are masked from ‘package:base’:\n",
      "\n",
      "    intersect, setdiff, setequal, union\n",
      "\n"
     ]
    }
   ],
   "source": [
    "library(dplyr)\n",
    "library(tidyr)\n",
    "library(ggplot2)"
   ]
  },
  {
   "cell_type": "markdown",
   "metadata": {},
   "source": [
    "# Load"
   ]
  },
  {
   "cell_type": "code",
   "execution_count": 11,
   "metadata": {
    "ExecuteTime": {
     "end_time": "2017-07-30T08:04:43.948511",
     "start_time": "2017-07-30T06:04:44.804Z"
    }
   },
   "outputs": [
    {
     "data": {
      "text/html": [
       "<ol class=list-inline>\n",
       "\t<li>'/ebio/abt3_projects/methanogen_host_evo/SIPSim_pt2/data/bac_genome1147/atomIncorp_sampDepth//DESeq2_multi-cMtx_byClass.txt'</li>\n",
       "\t<li>'/ebio/abt3_projects/methanogen_host_evo/SIPSim_pt2/data/bac_genome1147/atomIncorp_sampDepth//DESeq2-cMtx_byClass.txt'</li>\n",
       "\t<li>'/ebio/abt3_projects/methanogen_host_evo/SIPSim_pt2/data/bac_genome1147/atomIncorp_sampDepth//heavy-cMtx_byClass.txt'</li>\n",
       "\t<li>'/ebio/abt3_projects/methanogen_host_evo/SIPSim_pt2/data/bac_genome1147/atomIncorp_sampDepth//qSIP-cMtx_byClass.txt'</li>\n",
       "</ol>\n"
      ],
      "text/latex": [
       "\\begin{enumerate*}\n",
       "\\item '/ebio/abt3\\_projects/methanogen\\_host\\_evo/SIPSim\\_pt2/data/bac\\_genome1147/atomIncorp\\_sampDepth//DESeq2\\_multi-cMtx\\_byClass.txt'\n",
       "\\item '/ebio/abt3\\_projects/methanogen\\_host\\_evo/SIPSim\\_pt2/data/bac\\_genome1147/atomIncorp\\_sampDepth//DESeq2-cMtx\\_byClass.txt'\n",
       "\\item '/ebio/abt3\\_projects/methanogen\\_host\\_evo/SIPSim\\_pt2/data/bac\\_genome1147/atomIncorp\\_sampDepth//heavy-cMtx\\_byClass.txt'\n",
       "\\item '/ebio/abt3\\_projects/methanogen\\_host\\_evo/SIPSim\\_pt2/data/bac\\_genome1147/atomIncorp\\_sampDepth//qSIP-cMtx\\_byClass.txt'\n",
       "\\end{enumerate*}\n"
      ],
      "text/markdown": [
       "1. '/ebio/abt3_projects/methanogen_host_evo/SIPSim_pt2/data/bac_genome1147/atomIncorp_sampDepth//DESeq2_multi-cMtx_byClass.txt'\n",
       "2. '/ebio/abt3_projects/methanogen_host_evo/SIPSim_pt2/data/bac_genome1147/atomIncorp_sampDepth//DESeq2-cMtx_byClass.txt'\n",
       "3. '/ebio/abt3_projects/methanogen_host_evo/SIPSim_pt2/data/bac_genome1147/atomIncorp_sampDepth//heavy-cMtx_byClass.txt'\n",
       "4. '/ebio/abt3_projects/methanogen_host_evo/SIPSim_pt2/data/bac_genome1147/atomIncorp_sampDepth//qSIP-cMtx_byClass.txt'\n",
       "\n",
       "\n"
      ],
      "text/plain": [
       "[1] \"/ebio/abt3_projects/methanogen_host_evo/SIPSim_pt2/data/bac_genome1147/atomIncorp_sampDepth//DESeq2_multi-cMtx_byClass.txt\"\n",
       "[2] \"/ebio/abt3_projects/methanogen_host_evo/SIPSim_pt2/data/bac_genome1147/atomIncorp_sampDepth//DESeq2-cMtx_byClass.txt\"      \n",
       "[3] \"/ebio/abt3_projects/methanogen_host_evo/SIPSim_pt2/data/bac_genome1147/atomIncorp_sampDepth//heavy-cMtx_byClass.txt\"       \n",
       "[4] \"/ebio/abt3_projects/methanogen_host_evo/SIPSim_pt2/data/bac_genome1147/atomIncorp_sampDepth//qSIP-cMtx_byClass.txt\"        "
      ]
     },
     "metadata": {},
     "output_type": "display_data"
    }
   ],
   "source": [
    "# files on simulation accuracy\n",
    "files = list.files(path=workDir, pattern='*-cMtx_byClass.txt', full.names=TRUE)\n",
    "files"
   ]
  },
  {
   "cell_type": "code",
   "execution_count": 12,
   "metadata": {
    "ExecuteTime": {
     "end_time": "2017-07-30T08:04:46.452390",
     "start_time": "2017-07-30T06:04:47.124Z"
    }
   },
   "outputs": [
    {
     "data": {
      "text/html": [
       "<table>\n",
       "<thead><tr><th></th><th scope=col>library</th><th scope=col>variables</th><th scope=col>values</th><th scope=col>percIncorp</th><th scope=col>rep</th><th scope=col>percTaxa</th><th scope=col>file</th><th scope=col>method</th></tr></thead>\n",
       "<tbody>\n",
       "\t<tr><th scope=row>1</th><td>2                            </td><td>Sensitivity                  </td><td>NA                           </td><td>0                            </td><td>1                            </td><td>10                           </td><td>DESeq2_multi-cMtx_byClass.txt</td><td>DESeq2_multi                 </td></tr>\n",
       "\t<tr><th scope=row>2</th><td>2                            </td><td>Specificity                  </td><td>1                            </td><td>0                            </td><td>1                            </td><td>10                           </td><td>DESeq2_multi-cMtx_byClass.txt</td><td>DESeq2_multi                 </td></tr>\n",
       "\t<tr><th scope=row>3</th><td>2                            </td><td>Pos Pred Value               </td><td>NA                           </td><td>0                            </td><td>1                            </td><td>10                           </td><td>DESeq2_multi-cMtx_byClass.txt</td><td>DESeq2_multi                 </td></tr>\n",
       "</tbody>\n",
       "</table>\n"
      ],
      "text/latex": [
       "\\begin{tabular}{r|llllllll}\n",
       "  & library & variables & values & percIncorp & rep & percTaxa & file & method\\\\\n",
       "\\hline\n",
       "\t1 & 2                                 & Sensitivity                       & NA                                & 0                                 & 1                                 & 10                                & DESeq2\\_multi-cMtx\\_byClass.txt & DESeq2\\_multi                   \\\\\n",
       "\t2 & 2                                 & Specificity                       & 1                                 & 0                                 & 1                                 & 10                                & DESeq2\\_multi-cMtx\\_byClass.txt & DESeq2\\_multi                   \\\\\n",
       "\t3 & 2                                 & Pos Pred Value                    & NA                                & 0                                 & 1                                 & 10                                & DESeq2\\_multi-cMtx\\_byClass.txt & DESeq2\\_multi                   \\\\\n",
       "\\end{tabular}\n"
      ],
      "text/plain": [
       "  library      variables values percIncorp rep percTaxa\n",
       "1       2    Sensitivity     NA          0   1       10\n",
       "2       2    Specificity      1          0   1       10\n",
       "3       2 Pos Pred Value     NA          0   1       10\n",
       "                           file       method\n",
       "1 DESeq2_multi-cMtx_byClass.txt DESeq2_multi\n",
       "2 DESeq2_multi-cMtx_byClass.txt DESeq2_multi\n",
       "3 DESeq2_multi-cMtx_byClass.txt DESeq2_multi"
      ]
     },
     "metadata": {},
     "output_type": "display_data"
    }
   ],
   "source": [
    "# combining files\n",
    "df_byClass = list()\n",
    "for (f in files){\n",
    "    ff = strsplit(f, '/') %>% unlist\n",
    "    fff = ff[length(ff)]\n",
    "    df_byClass[[fff]] = read.delim(f, sep='\\t')\n",
    "}\n",
    "\n",
    "df_byClass = do.call(rbind, df_byClass)\n",
    "df_byClass$file = gsub('\\\\.[0-9]+$', '', rownames(df_byClass))\n",
    "df_byClass$method = gsub('-.+', '', df_byClass$file)\n",
    "rownames(df_byClass) = 1:nrow(df_byClass)\n",
    "\n",
    "df_byClass %>% head(n=3)"
   ]
  },
  {
   "cell_type": "code",
   "execution_count": 13,
   "metadata": {
    "ExecuteTime": {
     "end_time": "2017-07-30T08:04:57.737448",
     "start_time": "2017-07-30T06:04:58.569Z"
    }
   },
   "outputs": [
    {
     "name": "stderr",
     "output_type": "stream",
     "text": [
      "Warning message in inner_join_impl(x, y, by$x, by$y, suffix$x, suffix$y):\n",
      "“joining character vector and factor, coercing into character vector”"
     ]
    },
    {
     "data": {
      "text/html": [
       "<table>\n",
       "<thead><tr><th></th><th scope=col>library</th><th scope=col>variables</th><th scope=col>values</th><th scope=col>percIncorp</th><th scope=col>rep</th><th scope=col>percTaxa</th><th scope=col>file</th><th scope=col>method</th></tr></thead>\n",
       "<tbody>\n",
       "\t<tr><th scope=row>1</th><td>2                            </td><td>Sensitivity                  </td><td>NA                           </td><td>0                            </td><td>1                            </td><td>10                           </td><td>DESeq2_multi-cMtx_byClass.txt</td><td>MW-HR-SIP                    </td></tr>\n",
       "\t<tr><th scope=row>2</th><td>2                            </td><td>Specificity                  </td><td>1                            </td><td>0                            </td><td>1                            </td><td>10                           </td><td>DESeq2_multi-cMtx_byClass.txt</td><td>MW-HR-SIP                    </td></tr>\n",
       "\t<tr><th scope=row>3</th><td>2                            </td><td>Pos Pred Value               </td><td>NA                           </td><td>0                            </td><td>1                            </td><td>10                           </td><td>DESeq2_multi-cMtx_byClass.txt</td><td>MW-HR-SIP                    </td></tr>\n",
       "</tbody>\n",
       "</table>\n"
      ],
      "text/latex": [
       "\\begin{tabular}{r|llllllll}\n",
       "  & library & variables & values & percIncorp & rep & percTaxa & file & method\\\\\n",
       "\\hline\n",
       "\t1 & 2                                 & Sensitivity                       & NA                                & 0                                 & 1                                 & 10                                & DESeq2\\_multi-cMtx\\_byClass.txt & MW-HR-SIP                        \\\\\n",
       "\t2 & 2                                 & Specificity                       & 1                                 & 0                                 & 1                                 & 10                                & DESeq2\\_multi-cMtx\\_byClass.txt & MW-HR-SIP                        \\\\\n",
       "\t3 & 2                                 & Pos Pred Value                    & NA                                & 0                                 & 1                                 & 10                                & DESeq2\\_multi-cMtx\\_byClass.txt & MW-HR-SIP                        \\\\\n",
       "\\end{tabular}\n"
      ],
      "text/plain": [
       "  library      variables values percIncorp rep percTaxa\n",
       "1       2    Sensitivity     NA          0   1       10\n",
       "2       2    Specificity      1          0   1       10\n",
       "3       2 Pos Pred Value     NA          0   1       10\n",
       "                           file    method\n",
       "1 DESeq2_multi-cMtx_byClass.txt MW-HR-SIP\n",
       "2 DESeq2_multi-cMtx_byClass.txt MW-HR-SIP\n",
       "3 DESeq2_multi-cMtx_byClass.txt MW-HR-SIP"
      ]
     },
     "metadata": {},
     "output_type": "display_data"
    }
   ],
   "source": [
    "# renaming methods\n",
    "rename = data.frame(method = c('DESeq2', 'DESeq2_multi', 'heavy', 'qSIP'), \n",
    "                   method_new = c('HR-SIP', 'MW-HR-SIP', 'Heavy-SIP', 'q-SIP'))\n",
    "\n",
    "df_byClass = inner_join(df_byClass, rename, c('method'='method')) %>%\n",
    "    select(-method) %>%\n",
    "    rename('method' = method_new) \n",
    "\n",
    "df_byClass %>% head(n=3)"
   ]
  },
  {
   "cell_type": "code",
   "execution_count": null,
   "metadata": {
    "collapsed": true
   },
   "outputs": [],
   "source": [
    "# summarize by SIPSim rep & library rep\n",
    "df_byClass.s = df_byClass %>%\n",
    "    group_by(method, percIncorp, percTaxa, variables) %>%\n",
    "    summarize(mean_value = mean(values, na.rm=TRUE),\n",
    "              sd_value = sd(values, na.rm=TRUE))\n",
    "\n",
    "# plotting\n",
    "ggplot(df_byClass.s, aes(variables, mean_value, color=method,\n",
    "                         ymin=mean_value-sd_value,\n",
    "                         ymax=mean_value+sd_value)) +\n",
    "    geom_pointrange(alpha=0.8, size=0.2) +\n",
    "    labs(y='Value') +\n",
    "    facet_grid(percTaxa ~ percIncorp) +\n",
    "    theme_bw() +\n",
    "    theme(\n",
    "        text = element_text(size=16),\n",
    "        axis.title.x = element_blank(),\n",
    "        axis.text.x = element_text(angle=45, hjust=1)\n",
    "    )"
   ]
  }
 ],
 "metadata": {
  "kernelspec": {
   "display_name": "R [conda env:py3_ley0.4]",
   "language": "R",
   "name": "conda-env-py3_ley0.4-r"
  },
  "language_info": {
   "codemirror_mode": "r",
   "file_extension": ".r",
   "mimetype": "text/x-r-source",
   "name": "R",
   "pygments_lexer": "r",
   "version": "3.3.1"
  },
  "toc": {
   "colors": {
    "hover_highlight": "#DAA520",
    "running_highlight": "#FF0000",
    "selected_highlight": "#FFD700"
   },
   "moveMenuLeft": true,
   "nav_menu": {
    "height": "84px",
    "width": "252px"
   },
   "navigate_menu": true,
   "number_sections": true,
   "sideBar": true,
   "threshold": 4,
   "toc_cell": false,
   "toc_section_display": "block",
   "toc_window_display": false
  }
 },
 "nbformat": 4,
 "nbformat_minor": 2
}
