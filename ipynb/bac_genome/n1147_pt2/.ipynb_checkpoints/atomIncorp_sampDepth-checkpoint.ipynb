{
 "cells": [
  {
   "cell_type": "markdown",
   "metadata": {},
   "source": [
    "# Goal\n",
    "\n",
    "Accuracy as a function of isotope incorporation & sampling depth\n",
    "\n",
    "`acc ~ depth + incorp`\n",
    "\n",
    "### Variable parameters:\n",
    "\n",
    "* atom % isotope incorporation\n",
    "  * 0, 15, 25, 50, 100\n",
    "* sampling depth\n",
    "  * 1e2, 1e3, 1e4, 1e5\n",
    "* n-reps (stocastic: taxon abundances & which incorporate)\n",
    "  * 10 "
   ]
  },
  {
   "cell_type": "markdown",
   "metadata": {},
   "source": [
    "# Setting paths"
   ]
  },
  {
   "cell_type": "code",
   "execution_count": 1,
   "metadata": {
    "ExecuteTime": {
     "end_time": "2017-07-16T19:05:59.432764",
     "start_time": "2017-07-16T19:05:59.424109"
    },
    "collapsed": true
   },
   "outputs": [],
   "source": [
    "# paths\n",
    "import os\n",
    "\n",
    "workDir = '/ebio/abt3_projects/methanogen_host_evo/SIPSim_pt2/data/bac_genome1147/'\n",
    "buildDir = os.path.join(workDir, 'atomIncorp_sampDepth')\n",
    "R_dir = '/ebio/abt3_projects/methanogen_host_evo/SIPSim_pt2/SIPSimR/scripts/'\n",
    "\n",
    "fragFile = '/ebio/abt3_projects/methanogen_host_evo/SIPSim_pt2/data/bac_genome1147/ampFrags_kde.pkl'\n",
    "genome_index = '/ebio/abt3_projects/methanogen_host_evo/SIPSim_pt2/data/bac_genome1147/genome_index.txt'"
   ]
  },
  {
   "cell_type": "markdown",
   "metadata": {},
   "source": [
    "# Init"
   ]
  },
  {
   "cell_type": "code",
   "execution_count": 2,
   "metadata": {
    "ExecuteTime": {
     "end_time": "2017-07-16T19:06:00.024602",
     "start_time": "2017-07-16T19:06:00.015981"
    },
    "collapsed": true
   },
   "outputs": [],
   "source": [
    "import glob\n",
    "import itertools\n",
    "import nestly"
   ]
  },
  {
   "cell_type": "code",
   "execution_count": 3,
   "metadata": {
    "ExecuteTime": {
     "end_time": "2017-07-16T19:06:00.448714",
     "start_time": "2017-07-16T19:06:00.307181"
    }
   },
   "outputs": [],
   "source": [
    "%load_ext pushmsg"
   ]
  },
  {
   "cell_type": "code",
   "execution_count": 4,
   "metadata": {
    "ExecuteTime": {
     "end_time": "2017-07-16T19:06:00.580552",
     "start_time": "2017-07-16T19:06:00.569520"
    }
   },
   "outputs": [
    {
     "name": "stdout",
     "output_type": "stream",
     "text": [
      "/ebio/abt3_projects/methanogen_host_evo/SIPSim_pt2/data/bac_genome1147/atomIncorp_sampDepth\n"
     ]
    }
   ],
   "source": [
    "if not os.path.isdir(buildDir):\n",
    "    os.makedirs(buildDir)\n",
    "%cd $buildDir"
   ]
  },
  {
   "cell_type": "markdown",
   "metadata": {},
   "source": [
    "## BD min/max"
   ]
  },
  {
   "cell_type": "code",
   "execution_count": 5,
   "metadata": {
    "ExecuteTime": {
     "end_time": "2017-07-16T19:06:01.324560",
     "start_time": "2017-07-16T19:06:01.315323"
    }
   },
   "outputs": [
    {
     "name": "stdout",
     "output_type": "stream",
     "text": [
      "Min BD: 1.67323\n",
      "Max BD: 1.7744\n"
     ]
    }
   ],
   "source": [
    "## min G+C cutoff\n",
    "min_GC = 13.5\n",
    "## max G+C cutoff\n",
    "max_GC = 80\n",
    "## max G+C shift\n",
    "max_13C_shift_in_BD = 0.036\n",
    "\n",
    "\n",
    "min_BD = min_GC/100.0 * 0.098 + 1.66    \n",
    "max_BD = max_GC/100.0 * 0.098 + 1.66    \n",
    "\n",
    "max_BD = max_BD + max_13C_shift_in_BD\n",
    "\n",
    "print('Min BD: {}'.format(min_BD))\n",
    "print('Max BD: {}'.format(max_BD))"
   ]
  },
  {
   "cell_type": "markdown",
   "metadata": {},
   "source": [
    "# Nestly"
   ]
  },
  {
   "cell_type": "code",
   "execution_count": 6,
   "metadata": {
    "ExecuteTime": {
     "end_time": "2017-07-16T19:06:02.272605",
     "start_time": "2017-07-16T19:06:02.141416"
    }
   },
   "outputs": [
    {
     "name": "stdout",
     "output_type": "stream",
     "text": [
      "1\tcontrol\r\n",
      "2\ttreatment\r\n",
      "3\tcontrol\r\n",
      "4\ttreatment\r\n",
      "5\tcontrol\r\n",
      "6\ttreatment\r\n"
     ]
    }
   ],
   "source": [
    "# making an experimental design file for qSIP\n",
    "x = range(1,7)\n",
    "y = ['control', 'treatment']\n",
    "\n",
    "expDesignFile = os.path.join(buildDir, 'qSIP_exp_design.txt')\n",
    "with open(expDesignFile, 'wb') as outFH:\n",
    "    for i,z in itertools.izip(x,itertools.cycle(y)):\n",
    "        line = '\\t'.join([str(i),z])\n",
    "        outFH.write(line + '\\n')\n",
    "\n",
    "!head $expDesignFile       "
   ]
  },
  {
   "cell_type": "markdown",
   "metadata": {},
   "source": [
    "## Nestly params"
   ]
  },
  {
   "cell_type": "code",
   "execution_count": 7,
   "metadata": {
    "ExecuteTime": {
     "end_time": "2017-07-16T19:06:03.328547",
     "start_time": "2017-07-16T19:06:03.276633"
    },
    "collapsed": true
   },
   "outputs": [],
   "source": [
    "# building tree structure\n",
    "nest = nestly.Nest()\n",
    "\n",
    "# varying params: test\n",
    "nest.add('percIncorp', [0, 100])\n",
    "nest.add('subsample_size', [1000, 10000])\n",
    "nest.add('rep', [1])\n",
    "\n",
    "# varying params\n",
    "#nest.add('percIncorp', [0, 15, 25, 50, 100])\n",
    "#nest.add('subsample_size', [100, 1000, 10000, 100000])\n",
    "#nest.add('rep', range(1,11))\n",
    "\n",
    "\n",
    "## set params\n",
    "nest.add('percTaxa', [10], create_dir=False)\n",
    "#nest.add('abs', ['1e9'], create_dir=False)\n",
    "nest.add('abs', ['1e7'], create_dir=False)   # test\n",
    "nest.add('np', [10], create_dir=False)\n",
    "nest.add('Monte_rep', [100000], create_dir=False)\n",
    "nest.add('subsample_dist', ['uniform'], create_dir=False)\n",
    "nest.add('min_BD', [min_BD], create_dir=False)\n",
    "nest.add('max_BD', [max_BD], create_dir=False)\n",
    "nest.add('DBL_scaling', [0.5], create_dir=False)\n",
    "nest.add('bandwidth', [0.8], create_dir=False)\n",
    "nest.add('heavy_BD_min', [1.71], create_dir=False)\n",
    "nest.add('heavy_BD_max', [1.75], create_dir=False)\n",
    "nest.add('topTaxaToPlot', [100], create_dir=False)\n",
    "nest.add('padj', [0.1], create_dir=False)\n",
    "nest.add('log2', [0.25], create_dir=False)\n",
    "\n",
    "### input/output files\n",
    "nest.add('buildDir', [buildDir], create_dir=False)\n",
    "nest.add('R_dir', [R_dir], create_dir=False)\n",
    "nest.add('genome_index', [genome_index], create_dir=False)\n",
    "nest.add('fragFile', [fragFile], create_dir=False)\n",
    "nest.add('exp_design', [expDesignFile], create_dir=False)\n",
    "\n",
    "\n",
    "# building directory tree\n",
    "nest.build(buildDir)\n",
    "\n",
    "# bash file to run\n",
    "bashFile = os.path.join(buildDir, 'SIPSimRun.sh')"
   ]
  },
  {
   "cell_type": "markdown",
   "metadata": {},
   "source": [
    "## Experimental design"
   ]
  },
  {
   "cell_type": "code",
   "execution_count": 8,
   "metadata": {
    "ExecuteTime": {
     "end_time": "2017-07-16T19:06:05.180572",
     "start_time": "2017-07-16T19:06:05.164121"
    }
   },
   "outputs": [
    {
     "data": {
      "text/plain": [
       "'/ebio/abt3_projects/methanogen_host_evo/SIPSim_pt2/data/bac_genome1147/atomIncorp_sampDepth/SIPSimRun_expDesign.sh'"
      ]
     },
     "execution_count": 8,
     "metadata": {},
     "output_type": "execute_result"
    }
   ],
   "source": [
    "bashFileTmp = os.path.splitext(bashFile)[0] + '_expDesign.sh'\n",
    "bashFileTmp"
   ]
  },
  {
   "cell_type": "code",
   "execution_count": 9,
   "metadata": {
    "ExecuteTime": {
     "end_time": "2017-07-16T19:06:06.420491",
     "start_time": "2017-07-16T19:06:06.410203"
    }
   },
   "outputs": [
    {
     "name": "stdout",
     "output_type": "stream",
     "text": [
      "Writing /ebio/abt3_projects/methanogen_host_evo/SIPSim_pt2/data/bac_genome1147/atomIncorp_sampDepth/SIPSimRun_expDesign.sh\n"
     ]
    }
   ],
   "source": [
    "%%writefile $bashFileTmp\n",
    "#!/bin/bash\n",
    "source activate SIPSim\n",
    "# OPENBLAS threads \n",
    "export OMP_NUM_THREADS=1\n",
    "\n",
    "echo '#-- Experimental design --#'\n",
    "\n",
    "echo '# Making an isotope incorporation config file'\n",
    "echo '## 3 replicate gradients for control & treatment'\n",
    "SIPSim incorp_config_example \\\n",
    "  --percIncorpUnif {percIncorp} \\\n",
    "  --n_reps 3 \\\n",
    "  > incorp.config\n",
    "\n",
    "echo '# Selecting incorporator taxa'\n",
    "echo '## This is to make the gradient replicates consistent (qSIP finds mean among replicates)'\n",
    "SIPSim KDE_select_taxa \\\n",
    "    -p {percTaxa} \\\n",
    "    {fragFile} \\\n",
    "    > incorporators.txt\n",
    "\n",
    "echo '# Creating a community file (3 replicate control, 3 replicate treatment)'\n",
    "SIPSim communities \\\n",
    "    --config incorp.config \\\n",
    "    {genome_index} \\\n",
    "    > comm.txt    \n",
    "\n",
    "echo '# simulating gradient fractions'\n",
    "SIPSim gradient_fractions \\\n",
    "    --BD_min {min_BD} \\\n",
    "    --BD_max {max_BD} \\\n",
    "    comm.txt \\\n",
    "    > fracs.txt        "
   ]
  },
  {
   "cell_type": "code",
   "execution_count": 10,
   "metadata": {
    "ExecuteTime": {
     "end_time": "2017-07-16T19:06:07.736925",
     "start_time": "2017-07-16T19:06:07.617268"
    },
    "collapsed": true
   },
   "outputs": [],
   "source": [
    "!chmod 755 $bashFileTmp"
   ]
  },
  {
   "cell_type": "code",
   "execution_count": 11,
   "metadata": {
    "ExecuteTime": {
     "end_time": "2017-07-16T19:06:20.516636",
     "start_time": "2017-07-16T19:06:07.938307"
    }
   },
   "outputs": [
    {
     "name": "stdout",
     "output_type": "stream",
     "text": [
      "2017-07-16 19:06:10,426 * INFO * Template: ./SIPSimRun_expDesign.sh\n",
      "2017-07-16 19:06:10,432 * INFO * [17752] Started ./SIPSimRun_expDesign.sh in /ebio/abt3_projects/methanogen_host_evo/SIPSim_pt2/data/bac_genome1147/atomIncorp_sampDepth/0/1000/1\n",
      "2017-07-16 19:06:10,438 * INFO * [17755] Started ./SIPSimRun_expDesign.sh in /ebio/abt3_projects/methanogen_host_evo/SIPSim_pt2/data/bac_genome1147/atomIncorp_sampDepth/0/10000/1\n",
      "2017-07-16 19:06:10,443 * INFO * [17764] Started ./SIPSimRun_expDesign.sh in /ebio/abt3_projects/methanogen_host_evo/SIPSim_pt2/data/bac_genome1147/atomIncorp_sampDepth/100/1000/1\n",
      "2017-07-16 19:06:10,448 * INFO * [17771] Started ./SIPSimRun_expDesign.sh in /ebio/abt3_projects/methanogen_host_evo/SIPSim_pt2/data/bac_genome1147/atomIncorp_sampDepth/100/10000/1\n",
      "2017-07-16 19:06:20,458 * INFO * [17771] /ebio/abt3_projects/methanogen_host_evo/SIPSim_pt2/data/bac_genome1147/atomIncorp_sampDepth/100/10000/1 Finished with 0\n",
      "2017-07-16 19:06:20,483 * INFO * [17752] /ebio/abt3_projects/methanogen_host_evo/SIPSim_pt2/data/bac_genome1147/atomIncorp_sampDepth/0/1000/1 Finished with 0\n",
      "2017-07-16 19:06:20,489 * INFO * [17755] /ebio/abt3_projects/methanogen_host_evo/SIPSim_pt2/data/bac_genome1147/atomIncorp_sampDepth/0/10000/1 Finished with 0\n",
      "2017-07-16 19:06:20,502 * INFO * [17764] /ebio/abt3_projects/methanogen_host_evo/SIPSim_pt2/data/bac_genome1147/atomIncorp_sampDepth/100/1000/1 Finished with 0\n"
     ]
    }
   ],
   "source": [
    "%%bash -s $workDir $bashFileTmp $buildDir\n",
    "source activate py2_ley0.4\n",
    "cd $1\n",
    "\n",
    "nestrun --template-file $2 -d $3 --log-file exp_design.log -j 10"
   ]
  },
  {
   "cell_type": "code",
   "execution_count": 12,
   "metadata": {
    "ExecuteTime": {
     "end_time": "2017-07-16T19:06:21.552728",
     "start_time": "2017-07-16T19:06:20.519136"
    },
    "collapsed": true
   },
   "outputs": [],
   "source": [
    "%pushmsg \"exp_design complete: $buildDir\""
   ]
  },
  {
   "cell_type": "markdown",
   "metadata": {},
   "source": [
    "## SIPSim pipeline"
   ]
  },
  {
   "cell_type": "code",
   "execution_count": 13,
   "metadata": {
    "ExecuteTime": {
     "end_time": "2017-07-16T19:06:21.560517",
     "start_time": "2017-07-16T19:06:21.554953"
    }
   },
   "outputs": [
    {
     "data": {
      "text/plain": [
       "'/ebio/abt3_projects/methanogen_host_evo/SIPSim_pt2/data/bac_genome1147/atomIncorp_sampDepth/SIPSimRun_SIPSim-pipeline.sh'"
      ]
     },
     "execution_count": 13,
     "metadata": {},
     "output_type": "execute_result"
    }
   ],
   "source": [
    "bashFileTmp = os.path.splitext(bashFile)[0] + '_SIPSim-pipeline.sh'\n",
    "bashFileTmp"
   ]
  },
  {
   "cell_type": "code",
   "execution_count": 14,
   "metadata": {
    "ExecuteTime": {
     "end_time": "2017-07-16T19:06:21.572473",
     "start_time": "2017-07-16T19:06:21.562428"
    }
   },
   "outputs": [
    {
     "name": "stdout",
     "output_type": "stream",
     "text": [
      "Writing /ebio/abt3_projects/methanogen_host_evo/SIPSim_pt2/data/bac_genome1147/atomIncorp_sampDepth/SIPSimRun_SIPSim-pipeline.sh\n"
     ]
    }
   ],
   "source": [
    "%%writefile $bashFileTmp\n",
    "#!/bin/bash\n",
    "source activate SIPSim\n",
    "# OPENBLAS threads \n",
    "export OMP_NUM_THREADS=1\n",
    "\n",
    "echo '#-- SIPSim pipeline --#'    \n",
    "    \n",
    "echo '# Adding diffusion'    \n",
    "SIPSim diffusion \\\n",
    "    -n {Monte_rep} \\\n",
    "    --bw {bandwidth} \\\n",
    "    --np {np} \\\n",
    "    {fragFile} \\\n",
    "    > ampFrags_KDE_dif.pkl    \n",
    "\n",
    "echo '# Adding DBL contamination; abundance-weighted smearing'\n",
    "SIPSim DBL \\\n",
    "    -n {Monte_rep} \\\n",
    "    --comm comm.txt \\\n",
    "    --commx {DBL_scaling} \\\n",
    "    --np {np} \\\n",
    "    ampFrags_KDE_dif.pkl \\\n",
    "    > ampFrags_KDE_dif_DBL.pkl \n",
    "\n",
    "echo '# Adding isotope incorporation to BD distribution'\n",
    "SIPSim isotope_incorp \\\n",
    "    -n {Monte_rep} \\\n",
    "    --comm comm.txt \\\n",
    "    --taxa incorporators.txt \\\n",
    "    --np {np} \\\n",
    "    ampFrags_KDE_dif_DBL.pkl \\\n",
    "    incorp.config \\\n",
    "    > ampFrags_KDE_dif_DBL_inc.pkl\n",
    "\n",
    "echo '# Simulating an OTU table'\n",
    "SIPSim OTU_table \\\n",
    "    --abs {abs} \\\n",
    "    --np {np} \\\n",
    "    ampFrags_KDE_dif_DBL_inc.pkl \\\n",
    "    comm.txt \\\n",
    "    fracs.txt \\\n",
    "    > OTU_abs{abs}.txt\n",
    "    \n",
    "echo '# Simulating PCR'\n",
    "SIPSim OTU_PCR \\\n",
    "    OTU_abs{abs}.txt \\\n",
    "    > OTU_abs{abs}_PCR.txt    \n",
    "    \n",
    "echo '# Subsampling from the OTU table (simulating sequencing of the DNA pool)'\n",
    "SIPSim OTU_subsample \\\n",
    "    --dist {subsample_dist} \\\n",
    "    --dist_params low:{subsample_size},high:{subsample_size} \\\n",
    "    OTU_abs{abs}_PCR.txt \\\n",
    "    > OTU_abs{abs}_PCR_sub.txt\n",
    "        \n",
    "echo '# Making a wide-formatted table'\n",
    "SIPSim OTU_wide_long -w \\\n",
    "    OTU_abs{abs}_PCR_sub.txt \\\n",
    "    > OTU_abs{abs}_PCR_sub_w.txt\n",
    "    \n",
    "echo '# Making metadata (phyloseq: sample_data)'\n",
    "SIPSim OTU_sample_data \\\n",
    "    OTU_abs{abs}_PCR_sub.txt \\\n",
    "    > OTU_abs{abs}_PCR_sub_meta.txt\n",
    "       \n",
    "\n",
    "#-- removing large intermediate files --#\n",
    "rm -f ampFrags_KDE_dif.pkl\n",
    "rm -f ampFrags_KDE_dif_DBL.pkl\n",
    "rm -f ampFrags_KDE_dif_DBL_inc.pkl    "
   ]
  },
  {
   "cell_type": "code",
   "execution_count": 16,
   "metadata": {
    "ExecuteTime": {
     "end_time": "2017-07-16T19:06:36.744749",
     "start_time": "2017-07-16T19:06:36.620667"
    },
    "collapsed": true
   },
   "outputs": [],
   "source": [
    "!chmod 755 $bashFileTmp"
   ]
  },
  {
   "cell_type": "code",
   "execution_count": 17,
   "metadata": {
    "ExecuteTime": {
     "end_time": "2017-07-16T19:26:11.828773",
     "start_time": "2017-07-16T19:06:49.361452"
    }
   },
   "outputs": [
    {
     "name": "stdout",
     "output_type": "stream",
     "text": [
      "2017-07-16 19:06:51,644 * INFO * Template: ./SIPSimRun_SIPSim-pipeline.sh\n",
      "2017-07-16 19:06:51,649 * INFO * [17944] Started ./SIPSimRun_SIPSim-pipeline.sh in /ebio/abt3_projects/methanogen_host_evo/SIPSim_pt2/data/bac_genome1147/atomIncorp_sampDepth/0/1000/1\n",
      "2017-07-16 19:06:51,654 * INFO * [17947] Started ./SIPSimRun_SIPSim-pipeline.sh in /ebio/abt3_projects/methanogen_host_evo/SIPSim_pt2/data/bac_genome1147/atomIncorp_sampDepth/0/10000/1\n",
      "2017-07-16 19:06:51,660 * INFO * [17957] Started ./SIPSimRun_SIPSim-pipeline.sh in /ebio/abt3_projects/methanogen_host_evo/SIPSim_pt2/data/bac_genome1147/atomIncorp_sampDepth/100/1000/1\n",
      "2017-07-16 19:06:51,665 * INFO * [17963] Started ./SIPSimRun_SIPSim-pipeline.sh in /ebio/abt3_projects/methanogen_host_evo/SIPSim_pt2/data/bac_genome1147/atomIncorp_sampDepth/100/10000/1\n",
      "2017-07-16 19:26:01,426 * INFO * [17944] /ebio/abt3_projects/methanogen_host_evo/SIPSim_pt2/data/bac_genome1147/atomIncorp_sampDepth/0/1000/1 Finished with 0\n",
      "2017-07-16 19:26:03,816 * INFO * [17957] /ebio/abt3_projects/methanogen_host_evo/SIPSim_pt2/data/bac_genome1147/atomIncorp_sampDepth/100/1000/1 Finished with 0\n",
      "2017-07-16 19:26:05,988 * INFO * [17947] /ebio/abt3_projects/methanogen_host_evo/SIPSim_pt2/data/bac_genome1147/atomIncorp_sampDepth/0/10000/1 Finished with 0\n",
      "2017-07-16 19:26:11,815 * INFO * [17963] /ebio/abt3_projects/methanogen_host_evo/SIPSim_pt2/data/bac_genome1147/atomIncorp_sampDepth/100/10000/1 Finished with 0\n"
     ]
    }
   ],
   "source": [
    "%%bash -s $workDir $bashFileTmp $buildDir\n",
    "source activate py2_ley0.4\n",
    "cd $1\n",
    "\n",
    "nestrun --template-file $2 -d $3 --log-file SIPSim_pipeline.log -j 4 --stop-on-error"
   ]
  },
  {
   "cell_type": "code",
   "execution_count": 18,
   "metadata": {
    "ExecuteTime": {
     "end_time": "2017-07-16T19:26:12.776694",
     "start_time": "2017-07-16T19:26:11.831528"
    },
    "collapsed": true
   },
   "outputs": [],
   "source": [
    "%pushmsg \"SIPSim pipeline complete: $buildDir\""
   ]
  },
  {
   "cell_type": "markdown",
   "metadata": {},
   "source": [
    "## Summary of simulated data"
   ]
  },
  {
   "cell_type": "code",
   "execution_count": 23,
   "metadata": {
    "ExecuteTime": {
     "end_time": "2017-07-16T19:56:34.120546",
     "start_time": "2017-07-16T19:56:34.113700"
    }
   },
   "outputs": [
    {
     "data": {
      "text/plain": [
       "'/ebio/abt3_projects/methanogen_host_evo/SIPSim_pt2/data/bac_genome1147/atomIncorp_sampDepth/SIPSimRun_SIPSim-summary.sh'"
      ]
     },
     "execution_count": 23,
     "metadata": {},
     "output_type": "execute_result"
    }
   ],
   "source": [
    "bashFileTmp = os.path.splitext(bashFile)[0] + '_SIPSim-summary.sh'\n",
    "bashFileTmp"
   ]
  },
  {
   "cell_type": "code",
   "execution_count": 24,
   "metadata": {
    "ExecuteTime": {
     "end_time": "2017-07-16T19:56:34.320545",
     "start_time": "2017-07-16T19:56:34.311365"
    }
   },
   "outputs": [
    {
     "name": "stdout",
     "output_type": "stream",
     "text": [
      "Overwriting /ebio/abt3_projects/methanogen_host_evo/SIPSim_pt2/data/bac_genome1147/atomIncorp_sampDepth/SIPSimRun_SIPSim-summary.sh\n"
     ]
    }
   ],
   "source": [
    "%%writefile $bashFileTmp\n",
    "#!/bin/bash\n",
    "source activate SIPSim \n",
    "   \n",
    "# plotting 'raw' taxon abundances\n",
    "Rscript {R_dir}OTU_taxonAbund.R \\\n",
    "    OTU_abs{abs}.txt \\\n",
    "    -r {topTaxaToPlot} \\\n",
    "    -o OTU_abs{abs}\n",
    "\n",
    "# plotting 'sequenced' taxon abundances\n",
    "Rscript {R_dir}OTU_taxonAbund.R \\\n",
    "    OTU_abs{abs}_PCR_sub.txt \\\n",
    "    -r {topTaxaToPlot} \\\n",
    "    -o OTU_abs{abs}_PCR_sub"
   ]
  },
  {
   "cell_type": "code",
   "execution_count": 25,
   "metadata": {
    "ExecuteTime": {
     "end_time": "2017-07-16T19:56:35.448797",
     "start_time": "2017-07-16T19:56:35.328124"
    },
    "collapsed": true
   },
   "outputs": [],
   "source": [
    "!chmod 755 $bashFileTmp"
   ]
  },
  {
   "cell_type": "code",
   "execution_count": 26,
   "metadata": {
    "ExecuteTime": {
     "end_time": "2017-07-16T19:57:10.224622",
     "start_time": "2017-07-16T19:56:35.605072"
    }
   },
   "outputs": [
    {
     "name": "stdout",
     "output_type": "stream",
     "text": [
      "2017-07-16 19:56:38,267 * INFO * Template: ./SIPSimRun_SIPSim-summary.sh\n",
      "2017-07-16 19:56:38,273 * INFO * [18878] Started ./SIPSimRun_SIPSim-summary.sh in /ebio/abt3_projects/methanogen_host_evo/SIPSim_pt2/data/bac_genome1147/atomIncorp_sampDepth/0/1000/1\n",
      "2017-07-16 19:56:38,281 * INFO * [18883] Started ./SIPSimRun_SIPSim-summary.sh in /ebio/abt3_projects/methanogen_host_evo/SIPSim_pt2/data/bac_genome1147/atomIncorp_sampDepth/0/10000/1\n",
      "2017-07-16 19:56:38,286 * INFO * [18891] Started ./SIPSimRun_SIPSim-summary.sh in /ebio/abt3_projects/methanogen_host_evo/SIPSim_pt2/data/bac_genome1147/atomIncorp_sampDepth/100/1000/1\n",
      "2017-07-16 19:56:38,290 * INFO * [18899] Started ./SIPSimRun_SIPSim-summary.sh in /ebio/abt3_projects/methanogen_host_evo/SIPSim_pt2/data/bac_genome1147/atomIncorp_sampDepth/100/10000/1\n",
      "2017-07-16 19:57:09,369 * INFO * [18883] /ebio/abt3_projects/methanogen_host_evo/SIPSim_pt2/data/bac_genome1147/atomIncorp_sampDepth/0/10000/1 Finished with 0\n",
      "2017-07-16 19:57:10,103 * INFO * [18878] /ebio/abt3_projects/methanogen_host_evo/SIPSim_pt2/data/bac_genome1147/atomIncorp_sampDepth/0/1000/1 Finished with 0\n",
      "2017-07-16 19:57:10,122 * INFO * [18891] /ebio/abt3_projects/methanogen_host_evo/SIPSim_pt2/data/bac_genome1147/atomIncorp_sampDepth/100/1000/1 Finished with 0\n",
      "2017-07-16 19:57:10,210 * INFO * [18899] /ebio/abt3_projects/methanogen_host_evo/SIPSim_pt2/data/bac_genome1147/atomIncorp_sampDepth/100/10000/1 Finished with 0\n"
     ]
    }
   ],
   "source": [
    "%%bash -s $workDir $bashFileTmp $buildDir\n",
    "source activate py2_ley0.4\n",
    "cd $1\n",
    "\n",
    "nestrun --template-file $2 -d $3 --log-file SIPSim_summary.log -j 10"
   ]
  },
  {
   "cell_type": "markdown",
   "metadata": {},
   "source": [
    "## HR-SIP"
   ]
  },
  {
   "cell_type": "code",
   "execution_count": 53,
   "metadata": {
    "ExecuteTime": {
     "end_time": "2017-07-16T20:03:51.060603",
     "start_time": "2017-07-16T20:03:51.052269"
    }
   },
   "outputs": [
    {
     "data": {
      "text/plain": [
       "'/ebio/abt3_projects/methanogen_host_evo/SIPSim_pt2/data/bac_genome1147/atomIncorp_sampDepth/SIPSimRun_HRSIP.sh'"
      ]
     },
     "execution_count": 53,
     "metadata": {},
     "output_type": "execute_result"
    }
   ],
   "source": [
    "bashFileTmp = os.path.splitext(bashFile)[0] + '_HRSIP.sh'\n",
    "bashFileTmp"
   ]
  },
  {
   "cell_type": "code",
   "execution_count": 54,
   "metadata": {
    "ExecuteTime": {
     "end_time": "2017-07-16T20:03:51.544548",
     "start_time": "2017-07-16T20:03:51.534844"
    }
   },
   "outputs": [
    {
     "name": "stdout",
     "output_type": "stream",
     "text": [
      "Overwriting /ebio/abt3_projects/methanogen_host_evo/SIPSim_pt2/data/bac_genome1147/atomIncorp_sampDepth/SIPSimRun_HRSIP.sh\n"
     ]
    }
   ],
   "source": [
    "%%writefile $bashFileTmp\n",
    "#!/bin/bash\n",
    "source activate SIPSim \n",
    "\n",
    "# phyloseq\n",
    "## making phyloseq object from OTU table\n",
    "Rscript {R_dir}phyloseq_make.R \\\n",
    "    OTU_abs{abs}_PCR_sub_w.txt \\\n",
    "    -s OTU_abs{abs}_PCR_sub_meta.txt \\\n",
    "    > OTU_abs{abs}_PCR_sub.physeq\n",
    "\n",
    "## filtering phyloseq object to just 'heavy' fractions\n",
    "Rscript {R_dir}phyloseq_edit.R \\\n",
    "    OTU_abs{abs}_PCR_sub.physeq \\\n",
    "    --BD_min {heavy_BD_min} \\\n",
    "    --BD_max {heavy_BD_max} \\\n",
    "    > OTU_abs{abs}_PCR_sub_filt.physeq\n",
    "\n",
    "## making ordination\n",
    "Rscript {R_dir}phyloseq_ordination.R \\\n",
    "    OTU_abs{abs}_PCR_sub_filt.physeq \\\n",
    "    OTU_abs{abs}_PCR_sub_filt_bray-NMDS.pdf\n",
    "\n",
    "# DESeq2\n",
    "Rscript {R_dir}phyloseq_DESeq2.R \\\n",
    "    --log2 {log2} \\\n",
    "    --hypo greater \\\n",
    "    --cont 1,3,5 \\\n",
    "    --treat 2,4,6 \\\n",
    "    OTU_abs{abs}_PCR_sub_filt.physeq \\\n",
    "    > OTU_abs{abs}_PCR_sub_filt_DESeq2"
   ]
  },
  {
   "cell_type": "code",
   "execution_count": 55,
   "metadata": {
    "ExecuteTime": {
     "end_time": "2017-07-16T20:03:53.516843",
     "start_time": "2017-07-16T20:03:53.391943"
    },
    "collapsed": true
   },
   "outputs": [],
   "source": [
    "!chmod 755 $bashFileTmp"
   ]
  },
  {
   "cell_type": "code",
   "execution_count": null,
   "metadata": {
    "ExecuteTime": {
     "start_time": "2017-07-16T18:03:53.869Z"
    }
   },
   "outputs": [],
   "source": [
    "%%bash -s $workDir $bashFileTmp $buildDir\n",
    "source activate py2_ley0.4\n",
    "cd $1\n",
    "\n",
    "nestrun --template-file $2 -d $3 --log-file HR-SIP.log -j 10"
   ]
  },
  {
   "cell_type": "code",
   "execution_count": null,
   "metadata": {
    "ExecuteTime": {
     "start_time": "2017-07-16T18:03:55.498Z"
    },
    "collapsed": true
   },
   "outputs": [],
   "source": [
    "%pushmsg \"HR-SIP complete: $buildDir\""
   ]
  },
  {
   "cell_type": "markdown",
   "metadata": {},
   "source": [
    "## MW-HR-SIP"
   ]
  },
  {
   "cell_type": "code",
   "execution_count": 32,
   "metadata": {
    "ExecuteTime": {
     "end_time": "2017-07-16T19:57:51.248598",
     "start_time": "2017-07-16T19:57:51.239433"
    }
   },
   "outputs": [
    {
     "data": {
      "text/plain": [
       "'/ebio/abt3_projects/methanogen_host_evo/SIPSim_pt2/data/bac_genome1147/atomIncorp_sampDepth/SIPSimRun_MWHRSIP.sh'"
      ]
     },
     "execution_count": 32,
     "metadata": {},
     "output_type": "execute_result"
    }
   ],
   "source": [
    "bashFileTmp = os.path.splitext(bashFile)[0] + '_MWHRSIP.sh'\n",
    "bashFileTmp"
   ]
  },
  {
   "cell_type": "code",
   "execution_count": 33,
   "metadata": {
    "ExecuteTime": {
     "end_time": "2017-07-16T19:57:51.260462",
     "start_time": "2017-07-16T19:57:51.250620"
    }
   },
   "outputs": [
    {
     "name": "stdout",
     "output_type": "stream",
     "text": [
      "Writing /ebio/abt3_projects/methanogen_host_evo/SIPSim_pt2/data/bac_genome1147/atomIncorp_sampDepth/SIPSimRun_MWHRSIP.sh\n"
     ]
    }
   ],
   "source": [
    "%%writefile $bashFileTmp\n",
    "#!/bin/bash\n",
    "source activate SIPSim \n",
    "\n",
    "## HR SIP pipeline\n",
    "Rscript {R_dir}phyloseq_DESeq2.R \\\n",
    "    --log2 {log2} \\\n",
    "    --hypo greater \\\n",
    "    --cont 1,3,5 \\\n",
    "    --treat 2,4,6 \\\n",
    "    --occur_all 0.0,0.05,0.1,0.15,0.2,0.25,0.3,0.35,0.4,0.45,0.5 \\\n",
    "    -w 1.70-1.73,1.72-1.75,1.74-1.77 \\\n",
    "    --all OTU_abs1e9_PCR_sub_MW-all.txt \\\n",
    "    OTU_abs{abs}_PCR_sub.physeq \\\n",
    "    > OTU_abs{abs}_PCR_sub_filt_MW_DESeq2"
   ]
  },
  {
   "cell_type": "code",
   "execution_count": 34,
   "metadata": {
    "ExecuteTime": {
     "end_time": "2017-07-16T19:57:51.384861",
     "start_time": "2017-07-16T19:57:51.262284"
    },
    "collapsed": true
   },
   "outputs": [],
   "source": [
    "!chmod 755 $bashFileTmp"
   ]
  },
  {
   "cell_type": "code",
   "execution_count": 35,
   "metadata": {
    "ExecuteTime": {
     "end_time": "2017-07-16T19:58:03.812532",
     "start_time": "2017-07-16T19:57:51.388097"
    }
   },
   "outputs": [
    {
     "name": "stdout",
     "output_type": "stream",
     "text": [
      "2017-07-16 19:57:53,898 * INFO * Template: ./SIPSimRun_MWHRSIP.sh\n",
      "2017-07-16 19:57:53,903 * INFO * [19358] Started ./SIPSimRun_MWHRSIP.sh in /ebio/abt3_projects/methanogen_host_evo/SIPSim_pt2/data/bac_genome1147/atomIncorp_sampDepth/0/1000/1\n",
      "2017-07-16 19:57:53,908 * INFO * [19361] Started ./SIPSimRun_MWHRSIP.sh in /ebio/abt3_projects/methanogen_host_evo/SIPSim_pt2/data/bac_genome1147/atomIncorp_sampDepth/0/10000/1\n",
      "2017-07-16 19:57:53,912 * INFO * [19369] Started ./SIPSimRun_MWHRSIP.sh in /ebio/abt3_projects/methanogen_host_evo/SIPSim_pt2/data/bac_genome1147/atomIncorp_sampDepth/100/1000/1\n",
      "2017-07-16 19:57:53,918 * INFO * [19377] Started ./SIPSimRun_MWHRSIP.sh in /ebio/abt3_projects/methanogen_host_evo/SIPSim_pt2/data/bac_genome1147/atomIncorp_sampDepth/100/10000/1\n"
     ]
    },
    {
     "name": "stderr",
     "output_type": "stream",
     "text": [
      "Traceback (most recent call last):\n",
      "  File \"/ebio/abt3_projects/methanogen_host_evo/anaconda3/envs/py2_ley0.4/bin/nestrun\", line 6, in <module>\n",
      "    sys.exit(nestly.scripts.nestrun.main())\n",
      "  File \"/ebio/abt3_projects/methanogen_host_evo/anaconda3/envs/py2_ley0.4/lib/python2.7/site-packages/nestly/scripts/nestrun.py\", line 383, in main\n",
      "    invoke(max_procs, data, json_files)\n",
      "  File \"/ebio/abt3_projects/methanogen_host_evo/anaconda3/envs/py2_ley0.4/lib/python2.7/site-packages/nestly/scripts/nestrun.py\", line 127, in invoke\n",
      "    pid, proc.working_dir, exit_status, proc.log_tail())\n",
      "  File \"/ebio/abt3_projects/methanogen_host_evo/anaconda3/envs/py2_ley0.4/lib/python2.7/site-packages/nestly/scripts/nestrun.py\", line 206, in log_tail\n",
      "    with open(log_path) as fp:\n",
      "IOError: [Errno 2] No such file or directory: '/ebio/abt3_projects/methanogen_host_evo/SIPSim_pt2/data/bac_genome1147/atomIncorp_sampDepth/100/1000/1/log.txt'\n"
     ]
    }
   ],
   "source": [
    "%%bash -s $workDir $bashFileTmp $buildDir\n",
    "source activate py2_ley0.4\n",
    "cd $1\n",
    "\n",
    "nestrun --template-file $2 -d $3 --log-file MW-HR-SIP.log -j 10"
   ]
  },
  {
   "cell_type": "code",
   "execution_count": 36,
   "metadata": {
    "ExecuteTime": {
     "end_time": "2017-07-16T19:58:04.692679",
     "start_time": "2017-07-16T19:58:03.814324"
    },
    "collapsed": true
   },
   "outputs": [],
   "source": [
    "%pushmsg \"MW-HR-SIP complete: $buildDir\""
   ]
  },
  {
   "cell_type": "markdown",
   "metadata": {},
   "source": [
    "## q-SIP"
   ]
  },
  {
   "cell_type": "code",
   "execution_count": 37,
   "metadata": {
    "ExecuteTime": {
     "end_time": "2017-07-16T19:58:04.702692",
     "start_time": "2017-07-16T19:58:04.695067"
    }
   },
   "outputs": [
    {
     "data": {
      "text/plain": [
       "'/ebio/abt3_projects/methanogen_host_evo/SIPSim_pt2/data/bac_genome1147/atomIncorp_sampDepth/SIPSimRun_qSIP.sh'"
      ]
     },
     "execution_count": 37,
     "metadata": {},
     "output_type": "execute_result"
    }
   ],
   "source": [
    "bashFileTmp = os.path.splitext(bashFile)[0] + '_qSIP.sh'\n",
    "bashFileTmp"
   ]
  },
  {
   "cell_type": "code",
   "execution_count": 38,
   "metadata": {
    "ExecuteTime": {
     "end_time": "2017-07-16T19:58:04.720512",
     "start_time": "2017-07-16T19:58:04.704673"
    }
   },
   "outputs": [
    {
     "name": "stdout",
     "output_type": "stream",
     "text": [
      "Writing /ebio/abt3_projects/methanogen_host_evo/SIPSim_pt2/data/bac_genome1147/atomIncorp_sampDepth/SIPSimRun_qSIP.sh\n"
     ]
    }
   ],
   "source": [
    "%%writefile $bashFileTmp\n",
    "#!/bin/bash\n",
    "source activate SIPSim \n",
    "# OPENBLAS threads \n",
    "export OMP_NUM_THREADS=1\n",
    "\n",
    "# qSIP\n",
    "SIPSim qSIP \\\n",
    "    OTU_abs{abs}.txt \\\n",
    "    OTU_abs{abs}_PCR_sub.txt \\\n",
    "    > OTU_abs{abs}_PCR_sub_qSIP.txt\n",
    "        \n",
    "\n",
    "# qSIP: atom excess\n",
    "SIPSim qSIP_atom_excess \\\n",
    "    --np {np} \\\n",
    "    OTU_abs{abs}_PCR_sub_qSIP.txt \\\n",
    "    {exp_design} \\\n",
    "    > OTU_abs{abs}_PCR_sub_qSIP_atom.txt  "
   ]
  },
  {
   "cell_type": "code",
   "execution_count": 39,
   "metadata": {
    "ExecuteTime": {
     "end_time": "2017-07-16T19:58:04.840830",
     "start_time": "2017-07-16T19:58:04.722569"
    },
    "collapsed": true
   },
   "outputs": [],
   "source": [
    "!chmod 755 $bashFileTmp"
   ]
  },
  {
   "cell_type": "code",
   "execution_count": 40,
   "metadata": {
    "ExecuteTime": {
     "end_time": "2017-07-16T19:58:17.304614",
     "start_time": "2017-07-16T19:58:04.843773"
    }
   },
   "outputs": [
    {
     "name": "stdout",
     "output_type": "stream",
     "text": [
      "2017-07-16 19:58:07,115 * INFO * Template: ./SIPSimRun_qSIP.sh\n",
      "2017-07-16 19:58:07,120 * INFO * [19523] Started ./SIPSimRun_qSIP.sh in /ebio/abt3_projects/methanogen_host_evo/SIPSim_pt2/data/bac_genome1147/atomIncorp_sampDepth/0/1000/1\n",
      "2017-07-16 19:58:07,125 * INFO * [19526] Started ./SIPSimRun_qSIP.sh in /ebio/abt3_projects/methanogen_host_evo/SIPSim_pt2/data/bac_genome1147/atomIncorp_sampDepth/0/10000/1\n",
      "2017-07-16 19:58:07,131 * INFO * [19533] Started ./SIPSimRun_qSIP.sh in /ebio/abt3_projects/methanogen_host_evo/SIPSim_pt2/data/bac_genome1147/atomIncorp_sampDepth/100/1000/1\n",
      "2017-07-16 19:58:07,136 * INFO * [19543] Started ./SIPSimRun_qSIP.sh in /ebio/abt3_projects/methanogen_host_evo/SIPSim_pt2/data/bac_genome1147/atomIncorp_sampDepth/100/10000/1\n"
     ]
    },
    {
     "name": "stderr",
     "output_type": "stream",
     "text": [
      "Traceback (most recent call last):\n",
      "  File \"/ebio/abt3_projects/methanogen_host_evo/anaconda3/envs/py2_ley0.4/bin/nestrun\", line 6, in <module>\n",
      "    sys.exit(nestly.scripts.nestrun.main())\n",
      "  File \"/ebio/abt3_projects/methanogen_host_evo/anaconda3/envs/py2_ley0.4/lib/python2.7/site-packages/nestly/scripts/nestrun.py\", line 383, in main\n",
      "    invoke(max_procs, data, json_files)\n",
      "  File \"/ebio/abt3_projects/methanogen_host_evo/anaconda3/envs/py2_ley0.4/lib/python2.7/site-packages/nestly/scripts/nestrun.py\", line 127, in invoke\n",
      "    pid, proc.working_dir, exit_status, proc.log_tail())\n",
      "  File \"/ebio/abt3_projects/methanogen_host_evo/anaconda3/envs/py2_ley0.4/lib/python2.7/site-packages/nestly/scripts/nestrun.py\", line 206, in log_tail\n",
      "    with open(log_path) as fp:\n",
      "IOError: [Errno 2] No such file or directory: '/ebio/abt3_projects/methanogen_host_evo/SIPSim_pt2/data/bac_genome1147/atomIncorp_sampDepth/0/1000/1/log.txt'\n"
     ]
    }
   ],
   "source": [
    "%%bash -s $workDir $bashFileTmp $buildDir\n",
    "source activate py2_ley0.4\n",
    "cd $1\n",
    "\n",
    "nestrun --template-file $2 -d $3 --log-file qSIP.log -j 10"
   ]
  },
  {
   "cell_type": "code",
   "execution_count": 41,
   "metadata": {
    "ExecuteTime": {
     "end_time": "2017-07-16T19:58:18.364697",
     "start_time": "2017-07-16T19:58:17.306777"
    },
    "collapsed": true
   },
   "outputs": [],
   "source": [
    "%pushmsg \"q-SIP complete: $buildDir\""
   ]
  },
  {
   "cell_type": "markdown",
   "metadata": {},
   "source": [
    "## delta-BD"
   ]
  },
  {
   "cell_type": "code",
   "execution_count": 42,
   "metadata": {
    "ExecuteTime": {
     "end_time": "2017-07-16T19:58:18.372560",
     "start_time": "2017-07-16T19:58:18.366824"
    }
   },
   "outputs": [
    {
     "data": {
      "text/plain": [
       "'/ebio/abt3_projects/methanogen_host_evo/SIPSim_pt2/data/bac_genome1147/atomIncorp_sampDepth/SIPSimRun_dBD.sh'"
      ]
     },
     "execution_count": 42,
     "metadata": {},
     "output_type": "execute_result"
    }
   ],
   "source": [
    "bashFileTmp = os.path.splitext(bashFile)[0] + '_dBD.sh'\n",
    "bashFileTmp"
   ]
  },
  {
   "cell_type": "code",
   "execution_count": 43,
   "metadata": {
    "ExecuteTime": {
     "end_time": "2017-07-16T19:58:18.388552",
     "start_time": "2017-07-16T19:58:18.374466"
    }
   },
   "outputs": [
    {
     "name": "stdout",
     "output_type": "stream",
     "text": [
      "Writing /ebio/abt3_projects/methanogen_host_evo/SIPSim_pt2/data/bac_genome1147/atomIncorp_sampDepth/SIPSimRun_dBD.sh\n"
     ]
    }
   ],
   "source": [
    "%%writefile $bashFileTmp\n",
    "#!/bin/bash\n",
    "source activate SIPSim \n",
    "# OPENBLAS threads \n",
    "export OMP_NUM_THREADS=1\n",
    "\n",
    "#deltaBD \n",
    "SIPSim deltaBD \\\n",
    "    OTU_abs{abs}_PCR_sub.txt \\\n",
    "    {exp_design} \\\n",
    "    > OTU_abs{abs}_PCR_sub_dBD.txt  "
   ]
  },
  {
   "cell_type": "code",
   "execution_count": 44,
   "metadata": {
    "ExecuteTime": {
     "end_time": "2017-07-16T19:58:18.512851",
     "start_time": "2017-07-16T19:58:18.390807"
    },
    "collapsed": true
   },
   "outputs": [],
   "source": [
    "!chmod 755 $bashFileTmp"
   ]
  },
  {
   "cell_type": "code",
   "execution_count": 45,
   "metadata": {
    "ExecuteTime": {
     "end_time": "2017-07-16T19:58:24.556594",
     "start_time": "2017-07-16T19:58:18.515784"
    }
   },
   "outputs": [
    {
     "name": "stdout",
     "output_type": "stream",
     "text": [
      "2017-07-16 19:58:20,783 * INFO * Template: ./SIPSimRun_dBD.sh\n",
      "2017-07-16 19:58:20,789 * INFO * [19675] Started ./SIPSimRun_dBD.sh in /ebio/abt3_projects/methanogen_host_evo/SIPSim_pt2/data/bac_genome1147/atomIncorp_sampDepth/0/1000/1\n",
      "2017-07-16 19:58:20,792 * INFO * [19678] Started ./SIPSimRun_dBD.sh in /ebio/abt3_projects/methanogen_host_evo/SIPSim_pt2/data/bac_genome1147/atomIncorp_sampDepth/0/10000/1\n",
      "2017-07-16 19:58:20,796 * INFO * [19684] Started ./SIPSimRun_dBD.sh in /ebio/abt3_projects/methanogen_host_evo/SIPSim_pt2/data/bac_genome1147/atomIncorp_sampDepth/100/1000/1\n",
      "2017-07-16 19:58:20,801 * INFO * [19694] Started ./SIPSimRun_dBD.sh in /ebio/abt3_projects/methanogen_host_evo/SIPSim_pt2/data/bac_genome1147/atomIncorp_sampDepth/100/10000/1\n"
     ]
    },
    {
     "name": "stderr",
     "output_type": "stream",
     "text": [
      "Traceback (most recent call last):\n",
      "  File \"/ebio/abt3_projects/methanogen_host_evo/anaconda3/envs/py2_ley0.4/bin/nestrun\", line 6, in <module>\n",
      "    sys.exit(nestly.scripts.nestrun.main())\n",
      "  File \"/ebio/abt3_projects/methanogen_host_evo/anaconda3/envs/py2_ley0.4/lib/python2.7/site-packages/nestly/scripts/nestrun.py\", line 383, in main\n",
      "    invoke(max_procs, data, json_files)\n",
      "  File \"/ebio/abt3_projects/methanogen_host_evo/anaconda3/envs/py2_ley0.4/lib/python2.7/site-packages/nestly/scripts/nestrun.py\", line 127, in invoke\n",
      "    pid, proc.working_dir, exit_status, proc.log_tail())\n",
      "  File \"/ebio/abt3_projects/methanogen_host_evo/anaconda3/envs/py2_ley0.4/lib/python2.7/site-packages/nestly/scripts/nestrun.py\", line 206, in log_tail\n",
      "    with open(log_path) as fp:\n",
      "IOError: [Errno 2] No such file or directory: '/ebio/abt3_projects/methanogen_host_evo/SIPSim_pt2/data/bac_genome1147/atomIncorp_sampDepth/0/1000/1/log.txt'\n"
     ]
    }
   ],
   "source": [
    "%%bash -s $workDir $bashFileTmp $buildDir\n",
    "source activate py2_ley0.4\n",
    "cd $1\n",
    "\n",
    "nestrun --template-file $2 -d $3 --log-file deltaBD.log -j 10"
   ]
  },
  {
   "cell_type": "code",
   "execution_count": 46,
   "metadata": {
    "ExecuteTime": {
     "end_time": "2017-07-16T19:58:25.440719",
     "start_time": "2017-07-16T19:58:24.558616"
    },
    "collapsed": true
   },
   "outputs": [],
   "source": [
    "%pushmsg \"deltaBD complete: $buildDir\""
   ]
  },
  {
   "cell_type": "markdown",
   "metadata": {},
   "source": [
    "## Making confusion matrices"
   ]
  },
  {
   "cell_type": "code",
   "execution_count": 47,
   "metadata": {
    "ExecuteTime": {
     "end_time": "2017-07-16T19:58:25.448521",
     "start_time": "2017-07-16T19:58:25.442936"
    }
   },
   "outputs": [
    {
     "data": {
      "text/plain": [
       "'/ebio/abt3_projects/methanogen_host_evo/SIPSim_pt2/data/bac_genome1147/atomIncorp_sampDepth/SIPSimRun_cMtx.sh'"
      ]
     },
     "execution_count": 47,
     "metadata": {},
     "output_type": "execute_result"
    }
   ],
   "source": [
    "bashFileTmp = os.path.splitext(bashFile)[0] + '_cMtx.sh'\n",
    "bashFileTmp"
   ]
  },
  {
   "cell_type": "code",
   "execution_count": 48,
   "metadata": {
    "ExecuteTime": {
     "end_time": "2017-07-16T19:58:25.468546",
     "start_time": "2017-07-16T19:58:25.450495"
    }
   },
   "outputs": [
    {
     "name": "stdout",
     "output_type": "stream",
     "text": [
      "Writing /ebio/abt3_projects/methanogen_host_evo/SIPSim_pt2/data/bac_genome1147/atomIncorp_sampDepth/SIPSimRun_cMtx.sh\n"
     ]
    }
   ],
   "source": [
    "%%writefile $bashFileTmp\n",
    "#!/bin/bash\n",
    "source activate SIPSim\n",
    "\n",
    "# HR-SIP\n",
    "Rscript {R_dir}DESeq2_confuseMtx.R \\\n",
    "    --libs 2,4,6 \\\n",
    "    --padj {padj} \\\n",
    "    BD-shift_stats.txt \\\n",
    "    OTU_abs{abs}_PCR_sub_filt_DESeq2\n",
    "\n",
    "# HR-SIP multiple 'heavy' BD windows\n",
    "Rscript {R_dir}DESeq2_confuseMtx.R \\\n",
    "    --libs 2,4,6 \\\n",
    "    --padj {padj} \\\n",
    "    -o DESeq2_multi-cMtx \\\n",
    "    BD-shift_stats.txt \\\n",
    "    OTU_abs{abs}_PCR_sub_filt_MW_DESeq2\n",
    "    \n",
    "# qSIP    \n",
    "Rscript {R_dir}qSIP_confuseMtx.R \\\n",
    "    --libs 2,4,6 \\\n",
    "    BD-shift_stats.txt \\\n",
    "    OTU_abs{abs}_PCR_sub_qSIP_atom.txt\n",
    "\n",
    "# heavy-SIP    \n",
    "Rscript {R_dir}heavy_confuseMtx.R \\\n",
    "    --libs 2,4,6 \\\n",
    "    BD-shift_stats.txt \\\n",
    "    OTU_abs{abs}_PCR_sub.txt"
   ]
  },
  {
   "cell_type": "code",
   "execution_count": 49,
   "metadata": {
    "ExecuteTime": {
     "end_time": "2017-07-16T19:58:25.592890",
     "start_time": "2017-07-16T19:58:25.470823"
    },
    "collapsed": true
   },
   "outputs": [],
   "source": [
    "!chmod 755 $bashFileTmp"
   ]
  },
  {
   "cell_type": "code",
   "execution_count": 50,
   "metadata": {
    "ExecuteTime": {
     "end_time": "2017-07-16T19:58:34.220552",
     "start_time": "2017-07-16T19:58:25.595959"
    }
   },
   "outputs": [
    {
     "name": "stdout",
     "output_type": "stream",
     "text": [
      "2017-07-16 19:58:27,840 * INFO * Template: ./SIPSimRun_cMtx.sh\n",
      "2017-07-16 19:58:27,845 * INFO * [19816] Started ./SIPSimRun_cMtx.sh in /ebio/abt3_projects/methanogen_host_evo/SIPSim_pt2/data/bac_genome1147/atomIncorp_sampDepth/0/1000/1\n",
      "2017-07-16 19:58:27,850 * INFO * [19818] Started ./SIPSimRun_cMtx.sh in /ebio/abt3_projects/methanogen_host_evo/SIPSim_pt2/data/bac_genome1147/atomIncorp_sampDepth/0/10000/1\n",
      "2017-07-16 19:58:27,855 * INFO * [19827] Started ./SIPSimRun_cMtx.sh in /ebio/abt3_projects/methanogen_host_evo/SIPSim_pt2/data/bac_genome1147/atomIncorp_sampDepth/100/1000/1\n",
      "2017-07-16 19:58:27,859 * INFO * [19835] Started ./SIPSimRun_cMtx.sh in /ebio/abt3_projects/methanogen_host_evo/SIPSim_pt2/data/bac_genome1147/atomIncorp_sampDepth/100/10000/1\n"
     ]
    },
    {
     "name": "stderr",
     "output_type": "stream",
     "text": [
      "Traceback (most recent call last):\n",
      "  File \"/ebio/abt3_projects/methanogen_host_evo/anaconda3/envs/py2_ley0.4/bin/nestrun\", line 6, in <module>\n",
      "    sys.exit(nestly.scripts.nestrun.main())\n",
      "  File \"/ebio/abt3_projects/methanogen_host_evo/anaconda3/envs/py2_ley0.4/lib/python2.7/site-packages/nestly/scripts/nestrun.py\", line 383, in main\n",
      "    invoke(max_procs, data, json_files)\n",
      "  File \"/ebio/abt3_projects/methanogen_host_evo/anaconda3/envs/py2_ley0.4/lib/python2.7/site-packages/nestly/scripts/nestrun.py\", line 127, in invoke\n",
      "    pid, proc.working_dir, exit_status, proc.log_tail())\n",
      "  File \"/ebio/abt3_projects/methanogen_host_evo/anaconda3/envs/py2_ley0.4/lib/python2.7/site-packages/nestly/scripts/nestrun.py\", line 206, in log_tail\n",
      "    with open(log_path) as fp:\n",
      "IOError: [Errno 2] No such file or directory: '/ebio/abt3_projects/methanogen_host_evo/SIPSim_pt2/data/bac_genome1147/atomIncorp_sampDepth/0/1000/1/log.txt'\n"
     ]
    }
   ],
   "source": [
    "%%bash -s $workDir $bashFileTmp $buildDir\n",
    "source activate py2_ley0.4\n",
    "cd $1\n",
    "\n",
    "nestrun --template-file $2 -d $3 --log-file cMtx.log -j 10"
   ]
  },
  {
   "cell_type": "markdown",
   "metadata": {},
   "source": [
    "### Aggregating confusion matrices"
   ]
  },
  {
   "cell_type": "code",
   "execution_count": 51,
   "metadata": {
    "ExecuteTime": {
     "end_time": "2017-07-16T19:58:36.580687",
     "start_time": "2017-07-16T19:58:34.222451"
    }
   },
   "outputs": [
    {
     "name": "stdout",
     "output_type": "stream",
     "text": [
      "Traceback (most recent call last):\n",
      "  File \"/ebio/abt3_projects/methanogen_host_evo/anaconda3/envs/py3_ley0.4/bin/nestagg\", line 6, in <module>\n",
      "    sys.exit(nestly.scripts.nestagg.main())\n",
      "  File \"/ebio/abt3_projects/methanogen_host_evo/anaconda3/envs/py3_ley0.4/lib/python3.5/site-packages/nestly/scripts/nestagg.py\", line 142, in main\n",
      "    arguments.func(arguments)\n",
      "  File \"/ebio/abt3_projects/methanogen_host_evo/anaconda3/envs/py3_ley0.4/lib/python3.5/site-packages/nestly/scripts/nestagg.py\", line 96, in delim\n",
      "    r = next(results)\n",
      "  File \"/ebio/abt3_projects/methanogen_host_evo/anaconda3/envs/py3_ley0.4/lib/python3.5/site-packages/nestly/scripts/nestagg.py\", line 64, in map_fn\n",
      "    with open(f) as fp:\n",
      "FileNotFoundError: [Errno 2] No such file or directory: '/ebio/abt3_projects/methanogen_host_evo/SIPSim_pt2/data/bac_genome1147/atomIncorp_sampDepth/0/1000/1/DESeq2-cMtx_data.txt'\n",
      "Traceback (most recent call last):\n",
      "  File \"/ebio/abt3_projects/methanogen_host_evo/anaconda3/envs/py3_ley0.4/bin/nestagg\", line 6, in <module>\n",
      "    sys.exit(nestly.scripts.nestagg.main())\n",
      "  File \"/ebio/abt3_projects/methanogen_host_evo/anaconda3/envs/py3_ley0.4/lib/python3.5/site-packages/nestly/scripts/nestagg.py\", line 142, in main\n",
      "    arguments.func(arguments)\n",
      "  File \"/ebio/abt3_projects/methanogen_host_evo/anaconda3/envs/py3_ley0.4/lib/python3.5/site-packages/nestly/scripts/nestagg.py\", line 96, in delim\n",
      "    r = next(results)\n",
      "  File \"/ebio/abt3_projects/methanogen_host_evo/anaconda3/envs/py3_ley0.4/lib/python3.5/site-packages/nestly/scripts/nestagg.py\", line 64, in map_fn\n",
      "    with open(f) as fp:\n",
      "FileNotFoundError: [Errno 2] No such file or directory: '/ebio/abt3_projects/methanogen_host_evo/SIPSim_pt2/data/bac_genome1147/atomIncorp_sampDepth/0/1000/1/DESeq2-cMtx_overall.txt'\n",
      "Traceback (most recent call last):\n",
      "  File \"/ebio/abt3_projects/methanogen_host_evo/anaconda3/envs/py3_ley0.4/bin/nestagg\", line 6, in <module>\n",
      "    sys.exit(nestly.scripts.nestagg.main())\n",
      "  File \"/ebio/abt3_projects/methanogen_host_evo/anaconda3/envs/py3_ley0.4/lib/python3.5/site-packages/nestly/scripts/nestagg.py\", line 142, in main\n",
      "    arguments.func(arguments)\n",
      "  File \"/ebio/abt3_projects/methanogen_host_evo/anaconda3/envs/py3_ley0.4/lib/python3.5/site-packages/nestly/scripts/nestagg.py\", line 96, in delim\n",
      "    r = next(results)\n",
      "  File \"/ebio/abt3_projects/methanogen_host_evo/anaconda3/envs/py3_ley0.4/lib/python3.5/site-packages/nestly/scripts/nestagg.py\", line 64, in map_fn\n",
      "    with open(f) as fp:\n",
      "FileNotFoundError: [Errno 2] No such file or directory: '/ebio/abt3_projects/methanogen_host_evo/SIPSim_pt2/data/bac_genome1147/atomIncorp_sampDepth/0/1000/1/DESeq2-cMtx_byClass.txt'\n",
      "Traceback (most recent call last):\n",
      "  File \"/ebio/abt3_projects/methanogen_host_evo/anaconda3/envs/py3_ley0.4/bin/nestagg\", line 6, in <module>\n",
      "    sys.exit(nestly.scripts.nestagg.main())\n",
      "  File \"/ebio/abt3_projects/methanogen_host_evo/anaconda3/envs/py3_ley0.4/lib/python3.5/site-packages/nestly/scripts/nestagg.py\", line 142, in main\n",
      "    arguments.func(arguments)\n",
      "  File \"/ebio/abt3_projects/methanogen_host_evo/anaconda3/envs/py3_ley0.4/lib/python3.5/site-packages/nestly/scripts/nestagg.py\", line 96, in delim\n",
      "    r = next(results)\n",
      "  File \"/ebio/abt3_projects/methanogen_host_evo/anaconda3/envs/py3_ley0.4/lib/python3.5/site-packages/nestly/scripts/nestagg.py\", line 64, in map_fn\n",
      "    with open(f) as fp:\n",
      "FileNotFoundError: [Errno 2] No such file or directory: '/ebio/abt3_projects/methanogen_host_evo/SIPSim_pt2/data/bac_genome1147/atomIncorp_sampDepth/0/1000/1/DESeq2_multi-cMtx_data.txt'\n",
      "Traceback (most recent call last):\n",
      "  File \"/ebio/abt3_projects/methanogen_host_evo/anaconda3/envs/py3_ley0.4/bin/nestagg\", line 6, in <module>\n",
      "    sys.exit(nestly.scripts.nestagg.main())\n",
      "  File \"/ebio/abt3_projects/methanogen_host_evo/anaconda3/envs/py3_ley0.4/lib/python3.5/site-packages/nestly/scripts/nestagg.py\", line 142, in main\n",
      "    arguments.func(arguments)\n",
      "  File \"/ebio/abt3_projects/methanogen_host_evo/anaconda3/envs/py3_ley0.4/lib/python3.5/site-packages/nestly/scripts/nestagg.py\", line 96, in delim\n",
      "    r = next(results)\n",
      "  File \"/ebio/abt3_projects/methanogen_host_evo/anaconda3/envs/py3_ley0.4/lib/python3.5/site-packages/nestly/scripts/nestagg.py\", line 64, in map_fn\n",
      "    with open(f) as fp:\n",
      "FileNotFoundError: [Errno 2] No such file or directory: '/ebio/abt3_projects/methanogen_host_evo/SIPSim_pt2/data/bac_genome1147/atomIncorp_sampDepth/0/1000/1/DESeq2_multi-cMtx_overall.txt'\n",
      "Traceback (most recent call last):\n",
      "  File \"/ebio/abt3_projects/methanogen_host_evo/anaconda3/envs/py3_ley0.4/bin/nestagg\", line 6, in <module>\n",
      "    sys.exit(nestly.scripts.nestagg.main())\n",
      "  File \"/ebio/abt3_projects/methanogen_host_evo/anaconda3/envs/py3_ley0.4/lib/python3.5/site-packages/nestly/scripts/nestagg.py\", line 142, in main\n",
      "    arguments.func(arguments)\n",
      "  File \"/ebio/abt3_projects/methanogen_host_evo/anaconda3/envs/py3_ley0.4/lib/python3.5/site-packages/nestly/scripts/nestagg.py\", line 96, in delim\n",
      "    r = next(results)\n",
      "  File \"/ebio/abt3_projects/methanogen_host_evo/anaconda3/envs/py3_ley0.4/lib/python3.5/site-packages/nestly/scripts/nestagg.py\", line 64, in map_fn\n",
      "    with open(f) as fp:\n",
      "FileNotFoundError: [Errno 2] No such file or directory: '/ebio/abt3_projects/methanogen_host_evo/SIPSim_pt2/data/bac_genome1147/atomIncorp_sampDepth/0/1000/1/DESeq2_multi-cMtx_byClass.txt'\n",
      "Traceback (most recent call last):\n",
      "  File \"/ebio/abt3_projects/methanogen_host_evo/anaconda3/envs/py3_ley0.4/bin/nestagg\", line 6, in <module>\n",
      "    sys.exit(nestly.scripts.nestagg.main())\n",
      "  File \"/ebio/abt3_projects/methanogen_host_evo/anaconda3/envs/py3_ley0.4/lib/python3.5/site-packages/nestly/scripts/nestagg.py\", line 142, in main\n",
      "    arguments.func(arguments)\n",
      "  File \"/ebio/abt3_projects/methanogen_host_evo/anaconda3/envs/py3_ley0.4/lib/python3.5/site-packages/nestly/scripts/nestagg.py\", line 96, in delim\n",
      "    r = next(results)\n",
      "  File \"/ebio/abt3_projects/methanogen_host_evo/anaconda3/envs/py3_ley0.4/lib/python3.5/site-packages/nestly/scripts/nestagg.py\", line 64, in map_fn\n",
      "    with open(f) as fp:\n",
      "FileNotFoundError: [Errno 2] No such file or directory: '/ebio/abt3_projects/methanogen_host_evo/SIPSim_pt2/data/bac_genome1147/atomIncorp_sampDepth/0/1000/1/qSIP-cMtx_data.txt'\n",
      "Traceback (most recent call last):\n",
      "  File \"/ebio/abt3_projects/methanogen_host_evo/anaconda3/envs/py3_ley0.4/bin/nestagg\", line 6, in <module>\n",
      "    sys.exit(nestly.scripts.nestagg.main())\n",
      "  File \"/ebio/abt3_projects/methanogen_host_evo/anaconda3/envs/py3_ley0.4/lib/python3.5/site-packages/nestly/scripts/nestagg.py\", line 142, in main\n",
      "    arguments.func(arguments)\n",
      "  File \"/ebio/abt3_projects/methanogen_host_evo/anaconda3/envs/py3_ley0.4/lib/python3.5/site-packages/nestly/scripts/nestagg.py\", line 96, in delim\n",
      "    r = next(results)\n",
      "  File \"/ebio/abt3_projects/methanogen_host_evo/anaconda3/envs/py3_ley0.4/lib/python3.5/site-packages/nestly/scripts/nestagg.py\", line 64, in map_fn\n",
      "    with open(f) as fp:\n",
      "FileNotFoundError: [Errno 2] No such file or directory: '/ebio/abt3_projects/methanogen_host_evo/SIPSim_pt2/data/bac_genome1147/atomIncorp_sampDepth/0/1000/1/qSIP-cMtx_overall.txt'\n",
      "Traceback (most recent call last):\n",
      "  File \"/ebio/abt3_projects/methanogen_host_evo/anaconda3/envs/py3_ley0.4/bin/nestagg\", line 6, in <module>\n",
      "    sys.exit(nestly.scripts.nestagg.main())\n",
      "  File \"/ebio/abt3_projects/methanogen_host_evo/anaconda3/envs/py3_ley0.4/lib/python3.5/site-packages/nestly/scripts/nestagg.py\", line 142, in main\n",
      "    arguments.func(arguments)\n",
      "  File \"/ebio/abt3_projects/methanogen_host_evo/anaconda3/envs/py3_ley0.4/lib/python3.5/site-packages/nestly/scripts/nestagg.py\", line 96, in delim\n",
      "    r = next(results)\n",
      "  File \"/ebio/abt3_projects/methanogen_host_evo/anaconda3/envs/py3_ley0.4/lib/python3.5/site-packages/nestly/scripts/nestagg.py\", line 64, in map_fn\n",
      "    with open(f) as fp:\n",
      "FileNotFoundError: [Errno 2] No such file or directory: '/ebio/abt3_projects/methanogen_host_evo/SIPSim_pt2/data/bac_genome1147/atomIncorp_sampDepth/0/1000/1/qSIP-cMtx_byClass.txt'\n",
      "Traceback (most recent call last):\n",
      "  File \"/ebio/abt3_projects/methanogen_host_evo/anaconda3/envs/py3_ley0.4/bin/nestagg\", line 6, in <module>\n",
      "    sys.exit(nestly.scripts.nestagg.main())\n",
      "  File \"/ebio/abt3_projects/methanogen_host_evo/anaconda3/envs/py3_ley0.4/lib/python3.5/site-packages/nestly/scripts/nestagg.py\", line 142, in main\n",
      "    arguments.func(arguments)\n",
      "  File \"/ebio/abt3_projects/methanogen_host_evo/anaconda3/envs/py3_ley0.4/lib/python3.5/site-packages/nestly/scripts/nestagg.py\", line 96, in delim\n",
      "    r = next(results)\n",
      "  File \"/ebio/abt3_projects/methanogen_host_evo/anaconda3/envs/py3_ley0.4/lib/python3.5/site-packages/nestly/scripts/nestagg.py\", line 64, in map_fn\n",
      "    with open(f) as fp:\n",
      "FileNotFoundError: [Errno 2] No such file or directory: '/ebio/abt3_projects/methanogen_host_evo/SIPSim_pt2/data/bac_genome1147/atomIncorp_sampDepth/0/1000/1/heavy-cMtx_data.txt'\n"
     ]
    },
    {
     "name": "stdout",
     "output_type": "stream",
     "text": [
      "Traceback (most recent call last):\n",
      "  File \"/ebio/abt3_projects/methanogen_host_evo/anaconda3/envs/py3_ley0.4/bin/nestagg\", line 6, in <module>\n",
      "    sys.exit(nestly.scripts.nestagg.main())\n",
      "  File \"/ebio/abt3_projects/methanogen_host_evo/anaconda3/envs/py3_ley0.4/lib/python3.5/site-packages/nestly/scripts/nestagg.py\", line 142, in main\n",
      "    arguments.func(arguments)\n",
      "  File \"/ebio/abt3_projects/methanogen_host_evo/anaconda3/envs/py3_ley0.4/lib/python3.5/site-packages/nestly/scripts/nestagg.py\", line 96, in delim\n",
      "    r = next(results)\n",
      "  File \"/ebio/abt3_projects/methanogen_host_evo/anaconda3/envs/py3_ley0.4/lib/python3.5/site-packages/nestly/scripts/nestagg.py\", line 64, in map_fn\n",
      "    with open(f) as fp:\n",
      "FileNotFoundError: [Errno 2] No such file or directory: '/ebio/abt3_projects/methanogen_host_evo/SIPSim_pt2/data/bac_genome1147/atomIncorp_sampDepth/0/1000/1/heavy-cMtx_overall.txt'\n",
      "Traceback (most recent call last):\n",
      "  File \"/ebio/abt3_projects/methanogen_host_evo/anaconda3/envs/py3_ley0.4/bin/nestagg\", line 6, in <module>\n",
      "    sys.exit(nestly.scripts.nestagg.main())\n",
      "  File \"/ebio/abt3_projects/methanogen_host_evo/anaconda3/envs/py3_ley0.4/lib/python3.5/site-packages/nestly/scripts/nestagg.py\", line 142, in main\n",
      "    arguments.func(arguments)\n",
      "  File \"/ebio/abt3_projects/methanogen_host_evo/anaconda3/envs/py3_ley0.4/lib/python3.5/site-packages/nestly/scripts/nestagg.py\", line 96, in delim\n",
      "    r = next(results)\n",
      "  File \"/ebio/abt3_projects/methanogen_host_evo/anaconda3/envs/py3_ley0.4/lib/python3.5/site-packages/nestly/scripts/nestagg.py\", line 64, in map_fn\n",
      "    with open(f) as fp:\n",
      "FileNotFoundError: [Errno 2] No such file or directory: '/ebio/abt3_projects/methanogen_host_evo/SIPSim_pt2/data/bac_genome1147/atomIncorp_sampDepth/0/1000/1/heavy-cMtx_byClass.txt'\n"
     ]
    }
   ],
   "source": [
    "def agg_cMtx(prefix):\n",
    "    # all data\n",
    "    x = prefix + '-cMtx_data.txt'\n",
    "    !nestagg delim \\\n",
    "       -d $buildDir \\\n",
    "       -k percIncorp,percTaxa,rep \\\n",
    "       -o $x \\\n",
    "       --tab \\\n",
    "       $x\n",
    "\n",
    "    # overall\n",
    "    x = prefix + '-cMtx_overall.txt'\n",
    "    !nestagg delim \\\n",
    "        -d $buildDir \\\n",
    "        -k percIncorp,percTaxa,rep \\\n",
    "        -o $x \\\n",
    "        --tab \\\n",
    "        $x\n",
    "\n",
    "    # by class\n",
    "    x = prefix + '-cMtx_byClass.txt'\n",
    "    !nestagg delim \\\n",
    "        -d $buildDir \\\n",
    "        -k percIncorp,percTaxa,rep \\\n",
    "        -o $x \\\n",
    "        --tab \\\n",
    "        $x\n",
    "        \n",
    "agg_cMtx('DESeq2')\n",
    "agg_cMtx('DESeq2_multi')\n",
    "agg_cMtx('qSIP') \n",
    "agg_cMtx('heavy') "
   ]
  },
  {
   "cell_type": "code",
   "execution_count": 52,
   "metadata": {
    "ExecuteTime": {
     "end_time": "2017-07-16T19:58:37.472751",
     "start_time": "2017-07-16T19:58:36.582974"
    },
    "collapsed": true
   },
   "outputs": [],
   "source": [
    "%pushmsg \"atomIncorp_taxaIncorp complete!\""
   ]
  },
  {
   "cell_type": "markdown",
   "metadata": {},
   "source": [
    "# --End of simulation--"
   ]
  },
  {
   "cell_type": "markdown",
   "metadata": {},
   "source": [
    "***"
   ]
  },
  {
   "cell_type": "markdown",
   "metadata": {},
   "source": [
    "# Plotting results"
   ]
  },
  {
   "cell_type": "code",
   "execution_count": null,
   "metadata": {
    "collapsed": true
   },
   "outputs": [],
   "source": [
    "F = os.path.join(buildDir, '*-cMtx_byClass.txt')\n",
    "files = glob.glob(F)\n",
    "files"
   ]
  },
  {
   "cell_type": "markdown",
   "metadata": {},
   "source": [
    "## USE ANOTHER KERNEL"
   ]
  },
  {
   "cell_type": "code",
   "execution_count": null,
   "metadata": {
    "collapsed": true
   },
   "outputs": [],
   "source": []
  }
 ],
 "metadata": {
  "kernelspec": {
   "display_name": "Python [conda env:py2_ley0.4]",
   "language": "python",
   "name": "conda-env-py2_ley0.4-py"
  },
  "language_info": {
   "codemirror_mode": {
    "name": "ipython",
    "version": 2
   },
   "file_extension": ".py",
   "mimetype": "text/x-python",
   "name": "python",
   "nbconvert_exporter": "python",
   "pygments_lexer": "ipython2",
   "version": "2.7.12"
  },
  "toc": {
   "colors": {
    "hover_highlight": "#DAA520",
    "running_highlight": "#FF0000",
    "selected_highlight": "#FFD700"
   },
   "moveMenuLeft": true,
   "nav_menu": {
    "height": "354px",
    "width": "252px"
   },
   "navigate_menu": true,
   "number_sections": true,
   "sideBar": true,
   "threshold": 4,
   "toc_cell": false,
   "toc_section_display": "block",
   "toc_window_display": true
  }
 },
 "nbformat": 4,
 "nbformat_minor": 2
}
