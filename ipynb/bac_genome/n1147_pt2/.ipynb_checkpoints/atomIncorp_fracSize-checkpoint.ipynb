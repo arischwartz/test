{
 "cells": [
  {
   "cell_type": "markdown",
   "metadata": {},
   "source": [
    "# Goal\n",
    "\n",
    "Accuracy as a function of isotope incorporation & gradient fraction size\n",
    "\n",
    "`acc ~ fraction_size + incorp`\n",
    "\n",
    "### Variable parameters:\n",
    "\n",
    "* atom % isotope incorporation\n",
    "  * `0, 15, 25, 50, 100`\n",
    "* gradient fraction size\n",
    "  * `0.004, 0.008, 0.016, 0.020`\n",
    "* n-reps (stocastic: taxon abundances & which incorporate)\n",
    "  * 10 "
   ]
  },
  {
   "cell_type": "markdown",
   "metadata": {},
   "source": [
    "# Setting paths"
   ]
  },
  {
   "cell_type": "code",
   "execution_count": 1,
   "metadata": {
    "ExecuteTime": {
     "end_time": "2017-08-11T09:18:49.044805",
     "start_time": "2017-08-11T09:18:49.032189"
    },
    "collapsed": true
   },
   "outputs": [],
   "source": [
    "# paths\n",
    "import os\n",
    "\n",
    "workDir = '/ebio/abt3_projects/methanogen_host_evo/SIPSim_pt2/data/bac_genome1147/'\n",
    "buildDir = os.path.join(workDir, 'atomIncorp_fracSize')\n",
    "R_dir = '/ebio/abt3_projects/methanogen_host_evo/SIPSim_pt2/SIPSimR/scripts/'\n",
    "\n",
    "fragFile = '/ebio/abt3_projects/methanogen_host_evo/SIPSim_pt2/data/bac_genome1147/ampFrags_kde.pkl'\n",
    "genome_index = '/ebio/abt3_projects/methanogen_host_evo/SIPSim_pt2/data/bac_genome1147/genome_index.txt'"
   ]
  },
  {
   "cell_type": "markdown",
   "metadata": {},
   "source": [
    "# Init"
   ]
  },
  {
   "cell_type": "code",
   "execution_count": 2,
   "metadata": {
    "ExecuteTime": {
     "end_time": "2017-08-11T09:18:50.044588",
     "start_time": "2017-08-11T09:18:50.029893"
    },
    "collapsed": true
   },
   "outputs": [],
   "source": [
    "import glob\n",
    "import itertools\n",
    "import nestly"
   ]
  },
  {
   "cell_type": "code",
   "execution_count": 3,
   "metadata": {
    "ExecuteTime": {
     "end_time": "2017-08-11T09:18:51.356797",
     "start_time": "2017-08-11T09:18:50.351549"
    },
    "collapsed": true
   },
   "outputs": [],
   "source": [
    "%load_ext pushmsg"
   ]
  },
  {
   "cell_type": "code",
   "execution_count": 4,
   "metadata": {
    "ExecuteTime": {
     "end_time": "2017-08-11T09:18:51.368502",
     "start_time": "2017-08-11T09:18:51.359018"
    }
   },
   "outputs": [
    {
     "name": "stdout",
     "output_type": "stream",
     "text": [
      "/ebio/abt3_projects/methanogen_host_evo/SIPSim_pt2/data/bac_genome1147/atomIncorp_fracSize\n"
     ]
    }
   ],
   "source": [
    "if not os.path.isdir(buildDir):\n",
    "    os.makedirs(buildDir)\n",
    "%cd $buildDir"
   ]
  },
  {
   "cell_type": "markdown",
   "metadata": {},
   "source": [
    "## BD min/max"
   ]
  },
  {
   "cell_type": "code",
   "execution_count": 5,
   "metadata": {
    "ExecuteTime": {
     "end_time": "2017-08-11T09:18:51.880541",
     "start_time": "2017-08-11T09:18:51.869870"
    }
   },
   "outputs": [
    {
     "name": "stdout",
     "output_type": "stream",
     "text": [
      "Min BD: 1.67323\n",
      "Max BD: 1.7744\n"
     ]
    }
   ],
   "source": [
    "## min G+C cutoff\n",
    "min_GC = 13.5\n",
    "## max G+C cutoff\n",
    "max_GC = 80\n",
    "## max G+C shift\n",
    "max_13C_shift_in_BD = 0.036\n",
    "\n",
    "\n",
    "min_BD = min_GC/100.0 * 0.098 + 1.66    \n",
    "max_BD = max_GC/100.0 * 0.098 + 1.66    \n",
    "\n",
    "max_BD = max_BD + max_13C_shift_in_BD\n",
    "\n",
    "print('Min BD: {}'.format(min_BD))\n",
    "print('Max BD: {}'.format(max_BD))"
   ]
  },
  {
   "cell_type": "markdown",
   "metadata": {},
   "source": [
    "# Nestly"
   ]
  },
  {
   "cell_type": "code",
   "execution_count": 6,
   "metadata": {
    "ExecuteTime": {
     "end_time": "2017-08-11T09:18:53.012711",
     "start_time": "2017-08-11T09:18:52.885366"
    }
   },
   "outputs": [
    {
     "name": "stdout",
     "output_type": "stream",
     "text": [
      "1\tcontrol\r\n",
      "2\ttreatment\r\n",
      "3\tcontrol\r\n",
      "4\ttreatment\r\n",
      "5\tcontrol\r\n",
      "6\ttreatment\r\n"
     ]
    }
   ],
   "source": [
    "# making an experimental design file for qSIP\n",
    "x = range(1,7)\n",
    "y = ['control', 'treatment']\n",
    "\n",
    "expDesignFile = os.path.join(buildDir, 'qSIP_exp_design.txt')\n",
    "with open(expDesignFile, 'wb') as outFH:\n",
    "    for i,z in itertools.izip(x,itertools.cycle(y)):\n",
    "        line = '\\t'.join([str(i),z])\n",
    "        outFH.write(line + '\\n')\n",
    "\n",
    "!head $expDesignFile       "
   ]
  },
  {
   "cell_type": "markdown",
   "metadata": {},
   "source": [
    "## Nestly params"
   ]
  },
  {
   "cell_type": "code",
   "execution_count": 7,
   "metadata": {
    "ExecuteTime": {
     "end_time": "2017-08-11T09:19:29.580575",
     "start_time": "2017-08-11T09:19:29.071775"
    },
    "collapsed": true
   },
   "outputs": [],
   "source": [
    "# building tree structure\n",
    "nest = nestly.Nest()\n",
    "\n",
    "# varying params: test fraction size\n",
    "#nest.add('percIncorp', [50])\n",
    "#nest.add('frac_mu', [0.004, 0.006, 0.008, 0.010])\n",
    "#nest.add('rep', range(1,11))\n",
    "\n",
    "\n",
    "# varying params: TEST subset\n",
    "#nest.add('percIncorp', [0, 100])\n",
    "#nest.add('frac_mu', [0.004, 0.020])\n",
    "#nest.add('rep', [1])\n",
    "\n",
    "# varying params\n",
    "nest.add('percIncorp', [0, 15, 25, 50, 100])\n",
    "nest.add('frac_mu', [0.004, 0.008, 0.016, 0.020])\n",
    "nest.add('rep', range(1,11))\n",
    "\n",
    "\n",
    "## set params\n",
    "nest.add('percTaxa', [10], create_dir=False)\n",
    "nest.add('abs', ['1e9'], create_dir=False)\n",
    "#nest.add('abs', ['1e7'], create_dir=False)      # TESTING\n",
    "nest.add('np', [4], create_dir=False)\n",
    "nest.add('Monte_rep', [100000], create_dir=False)\n",
    "nest.add('subsample_dist', ['lognormal'], create_dir=False)\n",
    "nest.add('subsample_mean', [9.432], create_dir=False)\n",
    "nest.add('subsample_scale', [0.5], create_dir=False)\n",
    "nest.add('subsample_min', [10000], create_dir=False)\n",
    "nest.add('subsample_max', [30000], create_dir=False)\n",
    "nest.add('min_BD', [min_BD], create_dir=False)\n",
    "nest.add('max_BD', [max_BD], create_dir=False)\n",
    "nest.add('DBL_scaling', [0.5], create_dir=False)\n",
    "nest.add('bandwidth', [0.8], create_dir=False)\n",
    "nest.add('heavy_BD_min', [1.71], create_dir=False)\n",
    "nest.add('heavy_BD_max', [1.75], create_dir=False)\n",
    "nest.add('topTaxaToPlot', [100], create_dir=False)\n",
    "nest.add('padj', [0.1], create_dir=False)\n",
    "nest.add('log2', [0.25], create_dir=False)\n",
    "\n",
    "### input/output files\n",
    "nest.add('buildDir', [buildDir], create_dir=False)\n",
    "nest.add('R_dir', [R_dir], create_dir=False)\n",
    "nest.add('genome_index', [genome_index], create_dir=False)\n",
    "nest.add('fragFile', [fragFile], create_dir=False)\n",
    "nest.add('exp_design', [expDesignFile], create_dir=False)\n",
    "\n",
    "\n",
    "# building directory tree\n",
    "nest.build(buildDir)\n",
    "\n",
    "# bash file to run\n",
    "bashFile = os.path.join(buildDir, 'SIPSimRun.sh')"
   ]
  },
  {
   "cell_type": "markdown",
   "metadata": {},
   "source": [
    "## Experimental design"
   ]
  },
  {
   "cell_type": "code",
   "execution_count": 8,
   "metadata": {
    "ExecuteTime": {
     "end_time": "2017-08-11T09:19:30.432539",
     "start_time": "2017-08-11T09:19:30.416503"
    }
   },
   "outputs": [
    {
     "data": {
      "text/plain": [
       "'/ebio/abt3_projects/methanogen_host_evo/SIPSim_pt2/data/bac_genome1147/atomIncorp_fracSize/SIPSimRun_expDesign.sh'"
      ]
     },
     "execution_count": 8,
     "metadata": {},
     "output_type": "execute_result"
    }
   ],
   "source": [
    "bashFileTmp = os.path.splitext(bashFile)[0] + '_expDesign.sh'\n",
    "bashFileTmp"
   ]
  },
  {
   "cell_type": "code",
   "execution_count": 9,
   "metadata": {
    "ExecuteTime": {
     "end_time": "2017-08-11T09:19:31.464526",
     "start_time": "2017-08-11T09:19:31.454015"
    }
   },
   "outputs": [
    {
     "name": "stdout",
     "output_type": "stream",
     "text": [
      "Writing /ebio/abt3_projects/methanogen_host_evo/SIPSim_pt2/data/bac_genome1147/atomIncorp_fracSize/SIPSimRun_expDesign.sh\n"
     ]
    }
   ],
   "source": [
    "%%writefile $bashFileTmp\n",
    "#!/bin/bash\n",
    "source activate SIPSim\n",
    "# OPENBLAS threads \n",
    "export OMP_NUM_THREADS=1\n",
    "\n",
    "echo '#-- Experimental design --#'\n",
    "\n",
    "echo '# Making an isotope incorporation config file'\n",
    "echo '## 3 replicate gradients for control & treatment'\n",
    "SIPSim incorp_config_example \\\n",
    "  --percIncorpUnif {percIncorp} \\\n",
    "  --n_reps 3 \\\n",
    "  > incorp.config\n",
    "\n",
    "echo '# Selecting incorporator taxa'\n",
    "echo '## This is to make the gradient replicates consistent (qSIP finds mean among replicates)'\n",
    "SIPSim KDE_select_taxa \\\n",
    "    -p {percTaxa} \\\n",
    "    {fragFile} \\\n",
    "    > incorporators.txt\n",
    "\n",
    "echo '# Creating a community file (3 replicate control, 3 replicate treatment)'\n",
    "SIPSim communities \\\n",
    "    --config incorp.config \\\n",
    "    {genome_index} \\\n",
    "    > comm.txt    \n",
    "\n",
    "echo '# simulating gradient fractions'\n",
    "SIPSim gradient_fractions \\\n",
    "    --params mu:{frac_mu},sigma:0.0015 \\\n",
    "    --BD_min {min_BD} \\\n",
    "    --BD_max {max_BD} \\\n",
    "    comm.txt \\\n",
    "    > fracs.txt        "
   ]
  },
  {
   "cell_type": "code",
   "execution_count": 10,
   "metadata": {
    "ExecuteTime": {
     "end_time": "2017-08-11T09:19:33.004781",
     "start_time": "2017-08-11T09:19:32.884777"
    },
    "collapsed": true
   },
   "outputs": [],
   "source": [
    "!chmod 755 $bashFileTmp"
   ]
  },
  {
   "cell_type": "code",
   "execution_count": null,
   "metadata": {
    "ExecuteTime": {
     "start_time": "2017-08-11T07:19:54.613Z"
    }
   },
   "outputs": [],
   "source": [
    "%%bash -s $workDir $bashFileTmp $buildDir\n",
    "# offset job start to prevent conda activate errors\n",
    "sleep $[ ( $RANDOM % 10 )  + 1 ]s\n",
    "source activate py2_ley0.4\n",
    "# change to working dir\n",
    "cd $1\n",
    "# run job \n",
    "nestrun --template-file $2 -d $3 --log-file exp_design.log -j 20"
   ]
  },
  {
   "cell_type": "code",
   "execution_count": null,
   "metadata": {
    "ExecuteTime": {
     "start_time": "2017-08-11T07:19:55.621Z"
    },
    "collapsed": true
   },
   "outputs": [],
   "source": [
    "%pushmsg \"exp_design complete: $buildDir\""
   ]
  },
  {
   "cell_type": "markdown",
   "metadata": {},
   "source": [
    "## SIPSim pipeline"
   ]
  },
  {
   "cell_type": "code",
   "execution_count": null,
   "metadata": {
    "ExecuteTime": {
     "start_time": "2017-08-11T07:19:56.181Z"
    }
   },
   "outputs": [],
   "source": [
    "bashFileTmp = os.path.splitext(bashFile)[0] + '_SIPSim-pipeline.sh'\n",
    "bashFileTmp"
   ]
  },
  {
   "cell_type": "code",
   "execution_count": null,
   "metadata": {
    "ExecuteTime": {
     "start_time": "2017-08-11T07:19:57.109Z"
    }
   },
   "outputs": [],
   "source": [
    "%%writefile $bashFileTmp\n",
    "#!/bin/bash\n",
    "# offset job start to prevent conda activate errors\n",
    "sleep $[ ( $RANDOM % 10 )  + 1 ]s\n",
    "source activate SIPSim\n",
    "# OPENBLAS threads \n",
    "export OMP_NUM_THREADS=1\n",
    "\n",
    "\n",
    "echo '#-- SIPSim pipeline --#'    \n",
    "    \n",
    "echo '# Adding diffusion'    \n",
    "SIPSim diffusion \\\n",
    "    -n {Monte_rep} \\\n",
    "    --bw {bandwidth} \\\n",
    "    --np {np} \\\n",
    "    {fragFile} \\\n",
    "    > ampFrags_KDE_dif.pkl    \n",
    "\n",
    "echo '# Adding DBL contamination; abundance-weighted smearing'\n",
    "SIPSim DBL \\\n",
    "    -n {Monte_rep} \\\n",
    "    --comm comm.txt \\\n",
    "    --commx {DBL_scaling} \\\n",
    "    --np {np} \\\n",
    "    ampFrags_KDE_dif.pkl \\\n",
    "    > ampFrags_KDE_dif_DBL.pkl \n",
    "\n",
    "echo '# Adding isotope incorporation to BD distribution'\n",
    "SIPSim isotope_incorp \\\n",
    "    -n {Monte_rep} \\\n",
    "    --comm comm.txt \\\n",
    "    --taxa incorporators.txt \\\n",
    "    --np {np} \\\n",
    "    ampFrags_KDE_dif_DBL.pkl \\\n",
    "    incorp.config \\\n",
    "    > ampFrags_KDE_dif_DBL_inc.pkl\n",
    "\n",
    "echo '# Simulating an OTU table'\n",
    "SIPSim OTU_table \\\n",
    "    --abs {abs} \\\n",
    "    --np {np} \\\n",
    "    ampFrags_KDE_dif_DBL_inc.pkl \\\n",
    "    comm.txt \\\n",
    "    fracs.txt \\\n",
    "    > OTU_abs{abs}.txt\n",
    "    \n",
    "echo '# Simulating PCR'\n",
    "SIPSim OTU_PCR \\\n",
    "    OTU_abs{abs}.txt \\\n",
    "    > OTU_abs{abs}_PCR.txt    \n",
    "    \n",
    "echo '# Subsampling from the OTU table (simulating sequencing of the DNA pool)'\n",
    "SIPSim OTU_subsample \\\n",
    "    --dist {subsample_dist} \\\n",
    "    --dist_params mean:{subsample_mean},sigma:{subsample_scale} \\\n",
    "    --min_size {subsample_min} \\\n",
    "    --max_size {subsample_max} \\\n",
    "    OTU_abs{abs}_PCR.txt \\\n",
    "    > OTU_abs{abs}_PCR_sub.txt\n",
    "        \n",
    "echo '# Making a wide-formatted table'\n",
    "SIPSim OTU_wide_long -w \\\n",
    "    OTU_abs{abs}_PCR_sub.txt \\\n",
    "    > OTU_abs{abs}_PCR_sub_w.txt\n",
    "    \n",
    "echo '# Making metadata (phyloseq: sample_data)'\n",
    "SIPSim OTU_sample_data \\\n",
    "    OTU_abs{abs}_PCR_sub.txt \\\n",
    "    > OTU_abs{abs}_PCR_sub_meta.txt\n",
    "       \n",
    "\n",
    "#-- removing large intermediate files --#\n",
    "rm -f ampFrags_KDE_dif.pkl\n",
    "rm -f ampFrags_KDE_dif_DBL.pkl\n",
    "rm -f ampFrags_KDE_dif_DBL_inc.pkl    "
   ]
  },
  {
   "cell_type": "code",
   "execution_count": null,
   "metadata": {
    "ExecuteTime": {
     "start_time": "2017-08-11T07:19:57.764Z"
    },
    "collapsed": true
   },
   "outputs": [],
   "source": [
    "!chmod 755 $bashFileTmp"
   ]
  },
  {
   "cell_type": "code",
   "execution_count": null,
   "metadata": {
    "ExecuteTime": {
     "start_time": "2017-08-11T07:19:57.932Z"
    },
    "collapsed": true
   },
   "outputs": [],
   "source": [
    "%%bash -s $workDir $bashFileTmp $buildDir\n",
    "source activate py2_ley0.4\n",
    "cd $1\n",
    "\n",
    "nestrun --template-file $2 -d $3 --log-file SIPSim_pipeline.log -j 6 --stop-on-error"
   ]
  },
  {
   "cell_type": "code",
   "execution_count": null,
   "metadata": {
    "ExecuteTime": {
     "start_time": "2017-08-11T07:19:58.332Z"
    },
    "collapsed": true
   },
   "outputs": [],
   "source": [
    "%pushmsg \"SIPSim pipeline complete: $buildDir\""
   ]
  },
  {
   "cell_type": "markdown",
   "metadata": {},
   "source": [
    "## Summary of simulated data"
   ]
  },
  {
   "cell_type": "code",
   "execution_count": null,
   "metadata": {
    "ExecuteTime": {
     "start_time": "2017-08-11T07:19:59.499Z"
    },
    "collapsed": true
   },
   "outputs": [],
   "source": [
    "bashFileTmp = os.path.splitext(bashFile)[0] + '_SIPSim-summary.sh'\n",
    "bashFileTmp"
   ]
  },
  {
   "cell_type": "code",
   "execution_count": null,
   "metadata": {
    "ExecuteTime": {
     "start_time": "2017-08-11T07:20:00.562Z"
    },
    "collapsed": true
   },
   "outputs": [],
   "source": [
    "%%writefile $bashFileTmp\n",
    "#!/bin/bash\n",
    "# offset job start to prevent conda activate errors\n",
    "sleep $[ ( $RANDOM % 10 )  + 1 ]s\n",
    "source activate SIPSim \n",
    "\n",
    "echo \"# Plotting taxon abundances\"\n",
    "\n",
    "# plotting 'raw' taxon abundances\n",
    "Rscript {R_dir}OTU_taxonAbund.R \\\n",
    "    OTU_abs{abs}.txt \\\n",
    "    -r {topTaxaToPlot} \\\n",
    "    -o OTU_abs{abs}\n",
    "\n",
    "# plotting 'sequenced' taxon abundances\n",
    "Rscript {R_dir}OTU_taxonAbund.R \\\n",
    "    OTU_abs{abs}_PCR_sub.txt \\\n",
    "    -r {topTaxaToPlot} \\\n",
    "    -o OTU_abs{abs}_PCR_sub"
   ]
  },
  {
   "cell_type": "code",
   "execution_count": null,
   "metadata": {
    "ExecuteTime": {
     "start_time": "2017-08-11T07:20:03.852Z"
    },
    "collapsed": true
   },
   "outputs": [],
   "source": [
    "!chmod 755 $bashFileTmp"
   ]
  },
  {
   "cell_type": "code",
   "execution_count": null,
   "metadata": {
    "ExecuteTime": {
     "start_time": "2017-08-11T07:20:04.348Z"
    },
    "collapsed": true
   },
   "outputs": [],
   "source": [
    "%%bash -s $workDir $bashFileTmp $buildDir\n",
    "source activate py2_ley0.4\n",
    "cd $1\n",
    "\n",
    "nestrun --template-file $2 -d $3 --log-file SIPSim_summary.log -j 20"
   ]
  },
  {
   "cell_type": "markdown",
   "metadata": {},
   "source": [
    "## HR-SIP"
   ]
  },
  {
   "cell_type": "code",
   "execution_count": null,
   "metadata": {
    "ExecuteTime": {
     "start_time": "2017-08-11T07:20:36.364Z"
    },
    "collapsed": true
   },
   "outputs": [],
   "source": [
    "bashFileTmp = os.path.splitext(bashFile)[0] + '_HRSIP.sh'\n",
    "bashFileTmp"
   ]
  },
  {
   "cell_type": "code",
   "execution_count": null,
   "metadata": {
    "ExecuteTime": {
     "start_time": "2017-08-11T07:20:37.580Z"
    },
    "collapsed": true
   },
   "outputs": [],
   "source": [
    "%%writefile $bashFileTmp\n",
    "#!/bin/bash\n",
    "# offset job start to prevent conda activate errors\n",
    "sleep $[ ( $RANDOM % 10 )  + 1 ]s\n",
    "source activate SIPSim \n",
    "\n",
    "# phyloseq\n",
    "## making phyloseq object from OTU table\n",
    "Rscript {R_dir}phyloseq_make.R \\\n",
    "    OTU_abs{abs}_PCR_sub_w.txt \\\n",
    "    -s OTU_abs{abs}_PCR_sub_meta.txt \\\n",
    "    > OTU_abs{abs}_PCR_sub.physeq\n",
    "\n",
    "## filtering phyloseq object to just 'heavy' fractions\n",
    "Rscript {R_dir}phyloseq_edit.R \\\n",
    "    OTU_abs{abs}_PCR_sub.physeq \\\n",
    "    --BD_min {heavy_BD_min} \\\n",
    "    --BD_max {heavy_BD_max} \\\n",
    "    > OTU_abs{abs}_PCR_sub_filt.physeq\n",
    "\n",
    "## making ordination\n",
    "Rscript {R_dir}phyloseq_ordination.R \\\n",
    "    OTU_abs{abs}_PCR_sub_filt.physeq \\\n",
    "    OTU_abs{abs}_PCR_sub_filt_bray-NMDS.pdf\n",
    "\n",
    "# DESeq2\n",
    "Rscript {R_dir}phyloseq_DESeq2.R \\\n",
    "    --log2 {log2} \\\n",
    "    --hypo greater \\\n",
    "    --cont 1,3,5 \\\n",
    "    --treat 2,4,6 \\\n",
    "    OTU_abs{abs}_PCR_sub_filt.physeq \\\n",
    "    > OTU_abs{abs}_PCR_sub_filt_DESeq2"
   ]
  },
  {
   "cell_type": "code",
   "execution_count": null,
   "metadata": {
    "ExecuteTime": {
     "start_time": "2017-08-11T07:20:37.974Z"
    },
    "collapsed": true
   },
   "outputs": [],
   "source": [
    "!chmod 755 $bashFileTmp"
   ]
  },
  {
   "cell_type": "code",
   "execution_count": null,
   "metadata": {
    "ExecuteTime": {
     "start_time": "2017-08-11T07:20:38.403Z"
    },
    "collapsed": true
   },
   "outputs": [],
   "source": [
    "%%bash -s $workDir $bashFileTmp $buildDir\n",
    "source activate py2_ley0.4\n",
    "cd $1\n",
    "\n",
    "nestrun --template-file $2 -d $3 --log-file HR-SIP.log -j 20"
   ]
  },
  {
   "cell_type": "code",
   "execution_count": null,
   "metadata": {
    "ExecuteTime": {
     "start_time": "2017-08-11T07:20:39.292Z"
    },
    "collapsed": true
   },
   "outputs": [],
   "source": [
    "%pushmsg \"HR-SIP complete: $buildDir\""
   ]
  },
  {
   "cell_type": "markdown",
   "metadata": {},
   "source": [
    "## MW-HR-SIP"
   ]
  },
  {
   "cell_type": "code",
   "execution_count": null,
   "metadata": {
    "ExecuteTime": {
     "start_time": "2017-08-11T07:20:40.747Z"
    },
    "collapsed": true
   },
   "outputs": [],
   "source": [
    "bashFileTmp = os.path.splitext(bashFile)[0] + '_MWHRSIP.sh'\n",
    "bashFileTmp"
   ]
  },
  {
   "cell_type": "code",
   "execution_count": null,
   "metadata": {
    "ExecuteTime": {
     "start_time": "2017-08-11T07:20:41.011Z"
    },
    "collapsed": true
   },
   "outputs": [],
   "source": [
    "%%writefile $bashFileTmp\n",
    "#!/bin/bash\n",
    "# offset job start to prevent conda activate errors\n",
    "sleep $[ ( $RANDOM % 10 )  + 1 ]s\n",
    "source activate SIPSim \n",
    "\n",
    "## HR SIP pipeline\n",
    "Rscript {R_dir}phyloseq_DESeq2.R \\\n",
    "    --log2 {log2} \\\n",
    "    --hypo greater \\\n",
    "    --cont 1,3,5 \\\n",
    "    --treat 2,4,6 \\\n",
    "    --occur_all 0.0,0.05,0.1,0.15,0.2,0.25,0.3,0.35,0.4,0.45,0.5 \\\n",
    "    -w 1.70-1.73,1.72-1.75,1.74-1.77 \\\n",
    "    --all OTU_abs1e9_PCR_sub_MW-all.txt \\\n",
    "    OTU_abs{abs}_PCR_sub.physeq \\\n",
    "    > OTU_abs{abs}_PCR_sub_filt_MW_DESeq2"
   ]
  },
  {
   "cell_type": "code",
   "execution_count": null,
   "metadata": {
    "ExecuteTime": {
     "start_time": "2017-08-11T07:20:41.363Z"
    },
    "collapsed": true
   },
   "outputs": [],
   "source": [
    "!chmod 755 $bashFileTmp"
   ]
  },
  {
   "cell_type": "code",
   "execution_count": null,
   "metadata": {
    "ExecuteTime": {
     "start_time": "2017-08-11T07:20:41.603Z"
    },
    "collapsed": true
   },
   "outputs": [],
   "source": [
    "%%bash -s $workDir $bashFileTmp $buildDir\n",
    "source activate py2_ley0.4\n",
    "cd $1\n",
    "\n",
    "nestrun --template-file $2 -d $3 --log-file MW-HR-SIP.log -j 20"
   ]
  },
  {
   "cell_type": "code",
   "execution_count": null,
   "metadata": {
    "ExecuteTime": {
     "start_time": "2017-08-11T07:20:41.803Z"
    },
    "collapsed": true
   },
   "outputs": [],
   "source": [
    "%pushmsg \"MW-HR-SIP complete: $buildDir\""
   ]
  },
  {
   "cell_type": "markdown",
   "metadata": {},
   "source": [
    "## q-SIP"
   ]
  },
  {
   "cell_type": "code",
   "execution_count": null,
   "metadata": {
    "ExecuteTime": {
     "start_time": "2017-08-11T07:20:42.339Z"
    },
    "collapsed": true
   },
   "outputs": [],
   "source": [
    "bashFileTmp = os.path.splitext(bashFile)[0] + '_qSIP.sh'\n",
    "bashFileTmp"
   ]
  },
  {
   "cell_type": "code",
   "execution_count": null,
   "metadata": {
    "ExecuteTime": {
     "start_time": "2017-08-11T07:20:42.795Z"
    },
    "collapsed": true
   },
   "outputs": [],
   "source": [
    "%%writefile $bashFileTmp\n",
    "#!/bin/bash\n",
    "# offset job start to prevent conda activate errors\n",
    "sleep $[ ( $RANDOM % 10 )  + 1 ]s\n",
    "source activate SIPSim \n",
    "# OPENBLAS threads \n",
    "export OMP_NUM_THREADS=1\n",
    "\n",
    "# qSIP\n",
    "SIPSim qSIP \\\n",
    "    OTU_abs{abs}.txt \\\n",
    "    OTU_abs{abs}_PCR_sub.txt \\\n",
    "    > OTU_abs{abs}_PCR_sub_qSIP.txt\n",
    "        \n",
    "\n",
    "# qSIP: atom excess\n",
    "SIPSim qSIP_atom_excess \\\n",
    "    --np {np} \\\n",
    "    OTU_abs{abs}_PCR_sub_qSIP.txt \\\n",
    "    {exp_design} \\\n",
    "    > OTU_abs{abs}_PCR_sub_qSIP_atom.txt  "
   ]
  },
  {
   "cell_type": "code",
   "execution_count": null,
   "metadata": {
    "ExecuteTime": {
     "start_time": "2017-08-11T07:20:43.171Z"
    },
    "collapsed": true
   },
   "outputs": [],
   "source": [
    "!chmod 755 $bashFileTmp"
   ]
  },
  {
   "cell_type": "code",
   "execution_count": null,
   "metadata": {
    "ExecuteTime": {
     "start_time": "2017-08-11T07:20:43.587Z"
    },
    "collapsed": true
   },
   "outputs": [],
   "source": [
    "%%bash -s $workDir $bashFileTmp $buildDir\n",
    "source activate py2_ley0.4\n",
    "cd $1\n",
    "\n",
    "nestrun --template-file $2 -d $3 --log-file qSIP.log -j 6"
   ]
  },
  {
   "cell_type": "code",
   "execution_count": null,
   "metadata": {
    "ExecuteTime": {
     "start_time": "2017-08-11T07:20:43.835Z"
    },
    "collapsed": true
   },
   "outputs": [],
   "source": [
    "%pushmsg \"q-SIP complete: $buildDir\""
   ]
  },
  {
   "cell_type": "markdown",
   "metadata": {},
   "source": [
    "## delta-BD"
   ]
  },
  {
   "cell_type": "code",
   "execution_count": null,
   "metadata": {
    "ExecuteTime": {
     "start_time": "2017-08-11T07:20:44.348Z"
    },
    "collapsed": true
   },
   "outputs": [],
   "source": [
    "bashFileTmp = os.path.splitext(bashFile)[0] + '_dBD.sh'\n",
    "bashFileTmp"
   ]
  },
  {
   "cell_type": "code",
   "execution_count": null,
   "metadata": {
    "ExecuteTime": {
     "start_time": "2017-08-11T07:20:44.611Z"
    },
    "collapsed": true
   },
   "outputs": [],
   "source": [
    "%%writefile $bashFileTmp\n",
    "#!/bin/bash\n",
    "# offset job start to prevent conda activate errors\n",
    "sleep $[ ( $RANDOM % 10 )  + 1 ]s\n",
    "source activate SIPSim \n",
    "# OPENBLAS threads \n",
    "export OMP_NUM_THREADS=1\n",
    "\n",
    "#deltaBD \n",
    "SIPSim deltaBD \\\n",
    "    OTU_abs{abs}_PCR_sub.txt \\\n",
    "    {exp_design} \\\n",
    "    > OTU_abs{abs}_PCR_sub_dBD.txt  "
   ]
  },
  {
   "cell_type": "code",
   "execution_count": null,
   "metadata": {
    "ExecuteTime": {
     "start_time": "2017-08-11T07:20:45.069Z"
    },
    "collapsed": true
   },
   "outputs": [],
   "source": [
    "!chmod 755 $bashFileTmp"
   ]
  },
  {
   "cell_type": "code",
   "execution_count": null,
   "metadata": {
    "ExecuteTime": {
     "start_time": "2017-08-11T07:20:45.539Z"
    },
    "collapsed": true
   },
   "outputs": [],
   "source": [
    "%%bash -s $workDir $bashFileTmp $buildDir\n",
    "source activate py2_ley0.4\n",
    "cd $1\n",
    "\n",
    "nestrun --template-file $2 -d $3 --log-file deltaBD.log -j 20"
   ]
  },
  {
   "cell_type": "code",
   "execution_count": null,
   "metadata": {
    "ExecuteTime": {
     "start_time": "2017-08-11T07:20:45.835Z"
    },
    "collapsed": true
   },
   "outputs": [],
   "source": [
    "%pushmsg \"deltaBD complete: $buildDir\""
   ]
  },
  {
   "cell_type": "markdown",
   "metadata": {},
   "source": [
    "## Making confusion matrices"
   ]
  },
  {
   "cell_type": "code",
   "execution_count": null,
   "metadata": {
    "ExecuteTime": {
     "start_time": "2017-08-11T07:20:46.484Z"
    },
    "collapsed": true
   },
   "outputs": [],
   "source": [
    "bashFileTmp = os.path.splitext(bashFile)[0] + '_cMtx.sh'\n",
    "bashFileTmp"
   ]
  },
  {
   "cell_type": "code",
   "execution_count": null,
   "metadata": {
    "ExecuteTime": {
     "start_time": "2017-08-11T07:20:46.643Z"
    },
    "collapsed": true
   },
   "outputs": [],
   "source": [
    "%%writefile $bashFileTmp\n",
    "#!/bin/bash\n",
    "# offset job start to prevent conda activate errors\n",
    "sleep $[ ( $RANDOM % 10 )  + 1 ]s\n",
    "source activate SIPSim\n",
    "\n",
    "# HR-SIP\n",
    "Rscript {R_dir}DESeq2_confuseMtx.R \\\n",
    "    --libs 2,4,6 \\\n",
    "    --padj {padj} \\\n",
    "    BD-shift_stats.txt \\\n",
    "    OTU_abs{abs}_PCR_sub_filt_DESeq2\n",
    "\n",
    "# HR-SIP multiple 'heavy' BD windows\n",
    "Rscript {R_dir}DESeq2_confuseMtx.R \\\n",
    "    --libs 2,4,6 \\\n",
    "    --padj {padj} \\\n",
    "    -o DESeq2_multi-cMtx \\\n",
    "    BD-shift_stats.txt \\\n",
    "    OTU_abs{abs}_PCR_sub_filt_MW_DESeq2\n",
    "    \n",
    "# qSIP    \n",
    "Rscript {R_dir}qSIP_confuseMtx.R \\\n",
    "    --libs 2,4,6 \\\n",
    "    BD-shift_stats.txt \\\n",
    "    OTU_abs{abs}_PCR_sub_qSIP_atom.txt\n",
    "\n",
    "# heavy-SIP    \n",
    "Rscript {R_dir}heavy_confuseMtx.R \\\n",
    "    --treat 2,4,6 \\\n",
    "    --con 1,3,5 \\\n",
    "    --method 1 \\\n",
    "    BD-shift_stats.txt \\\n",
    "    OTU_abs{abs}_PCR_sub.txt"
   ]
  },
  {
   "cell_type": "code",
   "execution_count": null,
   "metadata": {
    "ExecuteTime": {
     "start_time": "2017-08-11T07:20:46.822Z"
    },
    "collapsed": true
   },
   "outputs": [],
   "source": [
    "!chmod 755 $bashFileTmp"
   ]
  },
  {
   "cell_type": "code",
   "execution_count": null,
   "metadata": {
    "ExecuteTime": {
     "start_time": "2017-08-11T07:20:47.515Z"
    },
    "collapsed": true,
    "scrolled": true
   },
   "outputs": [],
   "source": [
    "%%bash -s $workDir $bashFileTmp $buildDir\n",
    "source activate py2_ley0.4\n",
    "cd $1\n",
    "\n",
    "nestrun --template-file $2 -d $3 --log-file cMtx.log -j 20"
   ]
  },
  {
   "cell_type": "markdown",
   "metadata": {},
   "source": [
    "### Aggregating confusion matrices"
   ]
  },
  {
   "cell_type": "code",
   "execution_count": null,
   "metadata": {
    "ExecuteTime": {
     "start_time": "2017-08-11T07:20:48.701Z"
    },
    "collapsed": true
   },
   "outputs": [],
   "source": [
    "def agg_cMtx(prefix):\n",
    "    # all data\n",
    "    x = prefix + '-cMtx_data.txt'\n",
    "    !nestagg delim \\\n",
    "       -d $buildDir \\\n",
    "       -k percIncorp,frac_mu,rep \\\n",
    "       -o $x \\\n",
    "       --tab \\\n",
    "       $x\n",
    "\n",
    "    # overall\n",
    "    x = prefix + '-cMtx_overall.txt'\n",
    "    !nestagg delim \\\n",
    "        -d $buildDir \\\n",
    "        -k percIncorp,frac_mu,rep \\\n",
    "        -o $x \\\n",
    "        --tab \\\n",
    "        $x\n",
    "\n",
    "    # by class\n",
    "    x = prefix + '-cMtx_byClass.txt'\n",
    "    !nestagg delim \\\n",
    "        -d $buildDir \\\n",
    "        -k percIncorp,frac_mu,rep \\\n",
    "        -o $x \\\n",
    "        --tab \\\n",
    "        $x\n",
    "        \n",
    "agg_cMtx('DESeq2')\n",
    "agg_cMtx('DESeq2_multi')\n",
    "agg_cMtx('qSIP') \n",
    "agg_cMtx('heavy') "
   ]
  },
  {
   "cell_type": "code",
   "execution_count": null,
   "metadata": {
    "ExecuteTime": {
     "start_time": "2017-08-11T07:20:49.083Z"
    },
    "collapsed": true
   },
   "outputs": [],
   "source": [
    "%pushmsg \"atomIncorp_fracSize complete!\""
   ]
  },
  {
   "cell_type": "markdown",
   "metadata": {},
   "source": [
    "# --End of simulation--"
   ]
  },
  {
   "cell_type": "markdown",
   "metadata": {},
   "source": [
    "***"
   ]
  },
  {
   "cell_type": "markdown",
   "metadata": {},
   "source": [
    "# Results"
   ]
  },
  {
   "cell_type": "code",
   "execution_count": null,
   "metadata": {
    "ExecuteTime": {
     "start_time": "2017-08-11T07:20:51.516Z"
    }
   },
   "outputs": [],
   "source": [
    "F = os.path.join(buildDir, '*-cMtx_byClass.txt')\n",
    "files = glob.glob(F)\n",
    "files"
   ]
  },
  {
   "cell_type": "code",
   "execution_count": null,
   "metadata": {
    "collapsed": true
   },
   "outputs": [],
   "source": []
  }
 ],
 "metadata": {
  "kernelspec": {
   "display_name": "Python [conda env:py2_ley0.4]",
   "language": "python",
   "name": "conda-env-py2_ley0.4-py"
  },
  "language_info": {
   "codemirror_mode": {
    "name": "ipython",
    "version": 2
   },
   "file_extension": ".py",
   "mimetype": "text/x-python",
   "name": "python",
   "nbconvert_exporter": "python",
   "pygments_lexer": "ipython2",
   "version": "2.7.12"
  },
  "toc": {
   "colors": {
    "hover_highlight": "#DAA520",
    "running_highlight": "#FF0000",
    "selected_highlight": "#FFD700"
   },
   "moveMenuLeft": true,
   "nav_menu": {
    "height": "354px",
    "width": "252px"
   },
   "navigate_menu": true,
   "number_sections": true,
   "sideBar": true,
   "threshold": 4,
   "toc_cell": false,
   "toc_position": {
    "height": "789px",
    "left": "0px",
    "right": "1381px",
    "top": "106px",
    "width": "212px"
   },
   "toc_section_display": "block",
   "toc_window_display": true
  }
 },
 "nbformat": 4,
 "nbformat_minor": 2
}
