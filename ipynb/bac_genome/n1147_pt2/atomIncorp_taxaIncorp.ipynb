{
 "cells": [
  {
   "cell_type": "markdown",
   "metadata": {},
   "source": [
    "# Goal\n",
    "\n",
    "Accuracy as a function of isotope incorporation & sampling depth\n",
    "\n",
    "`acc ~ n_incorp + perc_incorp`\n",
    "\n",
    "### Variable parameters:\n",
    "\n",
    "* atom % isotope incorporation\n",
    "  * 0, 15, 25, 50, **75**, 100\n",
    "* % taxa as incorporators\n",
    "  * 1, 5, 10, 25, 50\n",
    "* n-reps (stocastic: taxon abundances & which incorporate)\n",
    "  * 10 "
   ]
  },
  {
   "cell_type": "markdown",
   "metadata": {},
   "source": [
    "# Setting paths"
   ]
  },
  {
   "cell_type": "code",
   "execution_count": 1,
   "metadata": {
    "ExecuteTime": {
     "end_time": "2017-08-14T19:57:51.260924",
     "start_time": "2017-08-14T19:57:51.249618"
    },
    "collapsed": true
   },
   "outputs": [],
   "source": [
    "# paths\n",
    "import os\n",
    "\n",
    "workDir = '/ebio/abt3_projects/methanogen_host_evo/SIPSim_pt2/data/bac_genome1147/'\n",
    "buildDir = os.path.join(workDir, 'atomIncorp_taxaIncorp')\n",
    "R_dir = '/ebio/abt3_projects/methanogen_host_evo/SIPSim_pt2/SIPSimR/scripts/'\n",
    "\n",
    "fragFile = '/ebio/abt3_projects/methanogen_host_evo/SIPSim_pt2/data/bac_genome1147/ampFrags_kde.pkl'\n",
    "genome_index = '/ebio/abt3_projects/methanogen_host_evo/SIPSim_pt2/data/bac_genome1147/genome_index.txt'"
   ]
  },
  {
   "cell_type": "markdown",
   "metadata": {},
   "source": [
    "# Init"
   ]
  },
  {
   "cell_type": "code",
   "execution_count": 2,
   "metadata": {
    "ExecuteTime": {
     "end_time": "2017-08-14T19:57:52.516581",
     "start_time": "2017-08-14T19:57:52.502826"
    },
    "collapsed": true
   },
   "outputs": [],
   "source": [
    "import glob\n",
    "import itertools\n",
    "import nestly"
   ]
  },
  {
   "cell_type": "code",
   "execution_count": 3,
   "metadata": {
    "ExecuteTime": {
     "end_time": "2017-08-14T19:57:53.132623",
     "start_time": "2017-08-14T19:57:52.932284"
    },
    "collapsed": true
   },
   "outputs": [],
   "source": [
    "%load_ext pushmsg"
   ]
  },
  {
   "cell_type": "code",
   "execution_count": 4,
   "metadata": {
    "ExecuteTime": {
     "end_time": "2017-08-14T19:57:53.436528",
     "start_time": "2017-08-14T19:57:53.419590"
    }
   },
   "outputs": [
    {
     "name": "stdout",
     "output_type": "stream",
     "text": [
      "/ebio/abt3_projects/methanogen_host_evo/SIPSim_pt2/data/bac_genome1147/atomIncorp_taxaIncorp\n"
     ]
    }
   ],
   "source": [
    "if not os.path.isdir(buildDir):\n",
    "    os.makedirs(buildDir)\n",
    "%cd $buildDir"
   ]
  },
  {
   "cell_type": "markdown",
   "metadata": {},
   "source": [
    "## BD min/max"
   ]
  },
  {
   "cell_type": "code",
   "execution_count": 5,
   "metadata": {
    "ExecuteTime": {
     "end_time": "2017-08-14T19:57:55.028526",
     "start_time": "2017-08-14T19:57:55.020351"
    }
   },
   "outputs": [
    {
     "name": "stdout",
     "output_type": "stream",
     "text": [
      "Min BD: 1.67323\n",
      "Max BD: 1.7744\n"
     ]
    }
   ],
   "source": [
    "## min G+C cutoff\n",
    "min_GC = 13.5\n",
    "## max G+C cutoff\n",
    "max_GC = 80\n",
    "## max G+C shift\n",
    "max_13C_shift_in_BD = 0.036\n",
    "\n",
    "\n",
    "min_BD = min_GC/100.0 * 0.098 + 1.66    \n",
    "max_BD = max_GC/100.0 * 0.098 + 1.66    \n",
    "\n",
    "max_BD = max_BD + max_13C_shift_in_BD\n",
    "\n",
    "print('Min BD: {}'.format(min_BD))\n",
    "print('Max BD: {}'.format(max_BD))"
   ]
  },
  {
   "cell_type": "markdown",
   "metadata": {},
   "source": [
    "# Nestly"
   ]
  },
  {
   "cell_type": "code",
   "execution_count": 6,
   "metadata": {
    "ExecuteTime": {
     "end_time": "2017-08-14T19:57:57.756689",
     "start_time": "2017-08-14T19:57:57.629573"
    }
   },
   "outputs": [
    {
     "name": "stdout",
     "output_type": "stream",
     "text": [
      "1\tcontrol\r\n",
      "2\ttreatment\r\n",
      "3\tcontrol\r\n",
      "4\ttreatment\r\n",
      "5\tcontrol\r\n",
      "6\ttreatment\r\n"
     ]
    }
   ],
   "source": [
    "# making an experimental design file for qSIP\n",
    "x = range(1,7)\n",
    "y = ['control', 'treatment']\n",
    "\n",
    "expDesignFile = os.path.join(buildDir, 'qSIP_exp_design.txt')\n",
    "with open(expDesignFile, 'wb') as outFH:\n",
    "    for i,z in itertools.izip(x,itertools.cycle(y)):\n",
    "        line = '\\t'.join([str(i),z])\n",
    "        outFH.write(line + '\\n')\n",
    "\n",
    "!head $expDesignFile       "
   ]
  },
  {
   "cell_type": "markdown",
   "metadata": {},
   "source": [
    "## Nestly params"
   ]
  },
  {
   "cell_type": "code",
   "execution_count": 7,
   "metadata": {
    "ExecuteTime": {
     "end_time": "2017-08-14T19:58:04.356557",
     "start_time": "2017-08-14T19:58:03.578707"
    },
    "collapsed": true
   },
   "outputs": [],
   "source": [
    "# building tree structure\n",
    "nest = nestly.Nest()\n",
    "\n",
    "# varying params: test\n",
    "#nest.add('percIncorp', [50])\n",
    "#nest.add('percTaxa', [10])\n",
    "#nest.add('rep', [1])\n",
    "\n",
    "# varying params\n",
    "nest.add('percIncorp', [0, 15, 25, 50, 75, 100])\n",
    "nest.add('percTaxa', [1, 5, 10, 25, 50])\n",
    "nest.add('rep', range(1,11))\n",
    "\n",
    "## set params\n",
    "nest.add('abs', ['1e9'], create_dir=False)\n",
    "#nest.add('abs', ['1e7'], create_dir=False)           # TEST\n",
    "nest.add('np', [10], create_dir=False)\n",
    "nest.add('Monte_rep', [100000], create_dir=False)\n",
    "nest.add('subsample_dist', ['lognormal'], create_dir=False)\n",
    "nest.add('subsample_mean', [9.432], create_dir=False)\n",
    "nest.add('subsample_scale', [0.5], create_dir=False)\n",
    "nest.add('subsample_min', [10000], create_dir=False)\n",
    "nest.add('subsample_max', [30000], create_dir=False)\n",
    "nest.add('min_BD', [min_BD], create_dir=False)\n",
    "nest.add('max_BD', [max_BD], create_dir=False)\n",
    "nest.add('DBL_scaling', [0.5], create_dir=False)\n",
    "nest.add('bandwidth', [0.8], create_dir=False)\n",
    "nest.add('heavy_BD_min', [1.71], create_dir=False)\n",
    "nest.add('heavy_BD_max', [1.75], create_dir=False)\n",
    "nest.add('topTaxaToPlot', [100], create_dir=False)\n",
    "nest.add('padj', [0.1], create_dir=False)\n",
    "nest.add('log2', [0.25], create_dir=False)\n",
    "\n",
    "### input/output files\n",
    "nest.add('buildDir', [buildDir], create_dir=False)\n",
    "nest.add('R_dir', [R_dir], create_dir=False)\n",
    "nest.add('genome_index', [genome_index], create_dir=False)\n",
    "nest.add('fragFile', [fragFile], create_dir=False)\n",
    "nest.add('exp_design', [expDesignFile], create_dir=False)\n",
    "\n",
    "\n",
    "# building directory tree\n",
    "nest.build(buildDir)\n",
    "\n",
    "# bash file to run\n",
    "bashFile = os.path.join(buildDir, 'SIPSimRun.sh')"
   ]
  },
  {
   "cell_type": "markdown",
   "metadata": {},
   "source": [
    "## Experimental design"
   ]
  },
  {
   "cell_type": "code",
   "execution_count": 8,
   "metadata": {
    "ExecuteTime": {
     "end_time": "2017-08-14T19:58:05.216522",
     "start_time": "2017-08-14T19:58:05.197701"
    }
   },
   "outputs": [
    {
     "data": {
      "text/plain": [
       "'/ebio/abt3_projects/methanogen_host_evo/SIPSim_pt2/data/bac_genome1147/atomIncorp_taxaIncorp/SIPSimRun_expDesign.sh'"
      ]
     },
     "execution_count": 8,
     "metadata": {},
     "output_type": "execute_result"
    }
   ],
   "source": [
    "bashFileTmp = os.path.splitext(bashFile)[0] + '_expDesign.sh'\n",
    "bashFileTmp"
   ]
  },
  {
   "cell_type": "code",
   "execution_count": 9,
   "metadata": {
    "ExecuteTime": {
     "end_time": "2017-08-14T19:58:06.368522",
     "start_time": "2017-08-14T19:58:06.360778"
    }
   },
   "outputs": [
    {
     "name": "stdout",
     "output_type": "stream",
     "text": [
      "Writing /ebio/abt3_projects/methanogen_host_evo/SIPSim_pt2/data/bac_genome1147/atomIncorp_taxaIncorp/SIPSimRun_expDesign.sh\n"
     ]
    }
   ],
   "source": [
    "%%writefile $bashFileTmp\n",
    "#!/bin/bash\n",
    "source activate SIPSim\n",
    "# OPENBLAS threads \n",
    "export OMP_NUM_THREADS=1\n",
    "\n",
    "echo '#-- Experimental design --#'\n",
    "\n",
    "echo '# Making an isotope incorporation config file'\n",
    "echo '## 3 replicate gradients for control & treatment'\n",
    "SIPSim incorp_config_example \\\n",
    "  --percIncorpUnif {percIncorp} \\\n",
    "  --n_reps 3 \\\n",
    "  > incorp.config\n",
    "\n",
    "echo '# Selecting incorporator taxa'\n",
    "echo '## This is to make the gradient replicates consistent (qSIP finds mean among replicates)'\n",
    "SIPSim KDE_select_taxa \\\n",
    "    -p {percTaxa} \\\n",
    "    {fragFile} \\\n",
    "    > incorporators.txt\n",
    "\n",
    "echo '# Creating a community file (3 replicate control, 3 replicate treatment)'\n",
    "SIPSim communities \\\n",
    "    --config incorp.config \\\n",
    "    {genome_index} \\\n",
    "    > comm.txt    \n",
    "\n",
    "echo '# simulating gradient fractions'\n",
    "SIPSim gradient_fractions \\\n",
    "    --BD_min {min_BD} \\\n",
    "    --BD_max {max_BD} \\\n",
    "    comm.txt \\\n",
    "    > fracs.txt        "
   ]
  },
  {
   "cell_type": "code",
   "execution_count": 10,
   "metadata": {
    "ExecuteTime": {
     "end_time": "2017-08-14T19:58:08.560903",
     "start_time": "2017-08-14T19:58:08.441043"
    },
    "collapsed": true
   },
   "outputs": [],
   "source": [
    "!chmod 755 $bashFileTmp"
   ]
  },
  {
   "cell_type": "code",
   "execution_count": 11,
   "metadata": {
    "ExecuteTime": {
     "end_time": "2017-08-14T20:01:03.612639",
     "start_time": "2017-08-14T19:58:08.842238"
    }
   },
   "outputs": [
    {
     "name": "stdout",
     "output_type": "stream",
     "text": [
      "2017-08-14 19:58:18,435 * INFO * Template: ./SIPSimRun_expDesign.sh\n",
      "2017-08-14 19:58:18,440 * INFO * [46537] Started ./SIPSimRun_expDesign.sh in /ebio/abt3_projects/methanogen_host_evo/SIPSim_pt2/data/bac_genome1147/atomIncorp_taxaIncorp/0/1/1\n",
      "2017-08-14 19:58:18,445 * INFO * [46540] Started ./SIPSimRun_expDesign.sh in /ebio/abt3_projects/methanogen_host_evo/SIPSim_pt2/data/bac_genome1147/atomIncorp_taxaIncorp/0/1/2\n",
      "2017-08-14 19:58:18,449 * INFO * [46547] Started ./SIPSimRun_expDesign.sh in /ebio/abt3_projects/methanogen_host_evo/SIPSim_pt2/data/bac_genome1147/atomIncorp_taxaIncorp/0/1/3\n",
      "2017-08-14 19:58:18,454 * INFO * [46556] Started ./SIPSimRun_expDesign.sh in /ebio/abt3_projects/methanogen_host_evo/SIPSim_pt2/data/bac_genome1147/atomIncorp_taxaIncorp/0/1/4\n",
      "2017-08-14 19:58:18,461 * INFO * [46566] Started ./SIPSimRun_expDesign.sh in /ebio/abt3_projects/methanogen_host_evo/SIPSim_pt2/data/bac_genome1147/atomIncorp_taxaIncorp/0/1/5\n",
      "2017-08-14 19:58:18,467 * INFO * [46572] Started ./SIPSimRun_expDesign.sh in /ebio/abt3_projects/methanogen_host_evo/SIPSim_pt2/data/bac_genome1147/atomIncorp_taxaIncorp/0/1/6\n",
      "2017-08-14 19:58:18,472 * INFO * [46583] Started ./SIPSimRun_expDesign.sh in /ebio/abt3_projects/methanogen_host_evo/SIPSim_pt2/data/bac_genome1147/atomIncorp_taxaIncorp/0/1/7\n",
      "2017-08-14 19:58:18,478 * INFO * [46588] Started ./SIPSimRun_expDesign.sh in /ebio/abt3_projects/methanogen_host_evo/SIPSim_pt2/data/bac_genome1147/atomIncorp_taxaIncorp/0/1/8\n",
      "2017-08-14 19:58:18,483 * INFO * [46598] Started ./SIPSimRun_expDesign.sh in /ebio/abt3_projects/methanogen_host_evo/SIPSim_pt2/data/bac_genome1147/atomIncorp_taxaIncorp/0/1/9\n",
      "2017-08-14 19:58:18,489 * INFO * [46604] Started ./SIPSimRun_expDesign.sh in /ebio/abt3_projects/methanogen_host_evo/SIPSim_pt2/data/bac_genome1147/atomIncorp_taxaIncorp/0/1/10\n",
      "2017-08-14 19:58:18,493 * INFO * [46612] Started ./SIPSimRun_expDesign.sh in /ebio/abt3_projects/methanogen_host_evo/SIPSim_pt2/data/bac_genome1147/atomIncorp_taxaIncorp/0/5/1\n",
      "2017-08-14 19:58:18,498 * INFO * [46620] Started ./SIPSimRun_expDesign.sh in /ebio/abt3_projects/methanogen_host_evo/SIPSim_pt2/data/bac_genome1147/atomIncorp_taxaIncorp/0/5/2\n",
      "2017-08-14 19:58:18,502 * INFO * [46628] Started ./SIPSimRun_expDesign.sh in /ebio/abt3_projects/methanogen_host_evo/SIPSim_pt2/data/bac_genome1147/atomIncorp_taxaIncorp/0/5/3\n",
      "2017-08-14 19:58:18,507 * INFO * [46637] Started ./SIPSimRun_expDesign.sh in /ebio/abt3_projects/methanogen_host_evo/SIPSim_pt2/data/bac_genome1147/atomIncorp_taxaIncorp/0/5/4\n",
      "2017-08-14 19:58:18,513 * INFO * [46644] Started ./SIPSimRun_expDesign.sh in /ebio/abt3_projects/methanogen_host_evo/SIPSim_pt2/data/bac_genome1147/atomIncorp_taxaIncorp/0/5/5\n",
      "2017-08-14 19:58:18,520 * INFO * [46654] Started ./SIPSimRun_expDesign.sh in /ebio/abt3_projects/methanogen_host_evo/SIPSim_pt2/data/bac_genome1147/atomIncorp_taxaIncorp/0/5/6\n",
      "2017-08-14 19:58:18,525 * INFO * [46660] Started ./SIPSimRun_expDesign.sh in /ebio/abt3_projects/methanogen_host_evo/SIPSim_pt2/data/bac_genome1147/atomIncorp_taxaIncorp/0/5/7\n",
      "2017-08-14 19:58:18,532 * INFO * [46671] Started ./SIPSimRun_expDesign.sh in /ebio/abt3_projects/methanogen_host_evo/SIPSim_pt2/data/bac_genome1147/atomIncorp_taxaIncorp/0/5/8\n",
      "2017-08-14 19:58:18,547 * INFO * [46679] Started ./SIPSimRun_expDesign.sh in /ebio/abt3_projects/methanogen_host_evo/SIPSim_pt2/data/bac_genome1147/atomIncorp_taxaIncorp/0/5/9\n",
      "2017-08-14 19:58:18,554 * INFO * [46686] Started ./SIPSimRun_expDesign.sh in /ebio/abt3_projects/methanogen_host_evo/SIPSim_pt2/data/bac_genome1147/atomIncorp_taxaIncorp/0/5/10\n",
      "2017-08-14 19:58:31,981 * INFO * [46588] /ebio/abt3_projects/methanogen_host_evo/SIPSim_pt2/data/bac_genome1147/atomIncorp_taxaIncorp/0/1/8 Finished with 0\n",
      "2017-08-14 19:58:31,986 * INFO * [47317] Started ./SIPSimRun_expDesign.sh in /ebio/abt3_projects/methanogen_host_evo/SIPSim_pt2/data/bac_genome1147/atomIncorp_taxaIncorp/0/10/1\n",
      "2017-08-14 19:58:32,001 * INFO * [46671] /ebio/abt3_projects/methanogen_host_evo/SIPSim_pt2/data/bac_genome1147/atomIncorp_taxaIncorp/0/5/8 Finished with 0\n",
      "2017-08-14 19:58:32,007 * INFO * [47325] Started ./SIPSimRun_expDesign.sh in /ebio/abt3_projects/methanogen_host_evo/SIPSim_pt2/data/bac_genome1147/atomIncorp_taxaIncorp/0/10/2\n",
      "2017-08-14 19:58:32,103 * INFO * [46654] /ebio/abt3_projects/methanogen_host_evo/SIPSim_pt2/data/bac_genome1147/atomIncorp_taxaIncorp/0/5/6 Finished with 0\n",
      "2017-08-14 19:58:32,109 * INFO * [47333] Started ./SIPSimRun_expDesign.sh in /ebio/abt3_projects/methanogen_host_evo/SIPSim_pt2/data/bac_genome1147/atomIncorp_taxaIncorp/0/10/3\n",
      "2017-08-14 19:58:32,109 * INFO * [46686] /ebio/abt3_projects/methanogen_host_evo/SIPSim_pt2/data/bac_genome1147/atomIncorp_taxaIncorp/0/5/10 Finished with 0\n",
      "2017-08-14 19:58:32,123 * INFO * [47336] Started ./SIPSimRun_expDesign.sh in /ebio/abt3_projects/methanogen_host_evo/SIPSim_pt2/data/bac_genome1147/atomIncorp_taxaIncorp/0/10/4\n",
      "2017-08-14 19:58:32,124 * INFO * [46660] /ebio/abt3_projects/methanogen_host_evo/SIPSim_pt2/data/bac_genome1147/atomIncorp_taxaIncorp/0/5/7 Finished with 0\n",
      "2017-08-14 19:58:32,130 * INFO * [47344] Started ./SIPSimRun_expDesign.sh in /ebio/abt3_projects/methanogen_host_evo/SIPSim_pt2/data/bac_genome1147/atomIncorp_taxaIncorp/0/10/5\n",
      "2017-08-14 19:58:32,167 * INFO * [46679] /ebio/abt3_projects/methanogen_host_evo/SIPSim_pt2/data/bac_genome1147/atomIncorp_taxaIncorp/0/5/9 Finished with 0\n",
      "2017-08-14 19:58:32,174 * INFO * [47357] Started ./SIPSimRun_expDesign.sh in /ebio/abt3_projects/methanogen_host_evo/SIPSim_pt2/data/bac_genome1147/atomIncorp_taxaIncorp/0/10/6\n",
      "2017-08-14 19:58:32,188 * INFO * [46598] /ebio/abt3_projects/methanogen_host_evo/SIPSim_pt2/data/bac_genome1147/atomIncorp_taxaIncorp/0/1/9 Finished with 0\n",
      "2017-08-14 19:58:32,194 * INFO * [47365] Started ./SIPSimRun_expDesign.sh in /ebio/abt3_projects/methanogen_host_evo/SIPSim_pt2/data/bac_genome1147/atomIncorp_taxaIncorp/0/10/7\n",
      "2017-08-14 19:58:32,202 * INFO * [46556] /ebio/abt3_projects/methanogen_host_evo/SIPSim_pt2/data/bac_genome1147/atomIncorp_taxaIncorp/0/1/4 Finished with 0\n",
      "2017-08-14 19:58:32,209 * INFO * [47373] Started ./SIPSimRun_expDesign.sh in /ebio/abt3_projects/methanogen_host_evo/SIPSim_pt2/data/bac_genome1147/atomIncorp_taxaIncorp/0/10/8\n",
      "2017-08-14 19:58:32,209 * INFO * [46604] /ebio/abt3_projects/methanogen_host_evo/SIPSim_pt2/data/bac_genome1147/atomIncorp_taxaIncorp/0/1/10 Finished with 0\n",
      "2017-08-14 19:58:32,218 * INFO * [47376] Started ./SIPSimRun_expDesign.sh in /ebio/abt3_projects/methanogen_host_evo/SIPSim_pt2/data/bac_genome1147/atomIncorp_taxaIncorp/0/10/9\n",
      "2017-08-14 19:58:32,219 * INFO * [46612] /ebio/abt3_projects/methanogen_host_evo/SIPSim_pt2/data/bac_genome1147/atomIncorp_taxaIncorp/0/5/1 Finished with 0\n",
      "2017-08-14 19:58:32,226 * INFO * [47387] Started ./SIPSimRun_expDesign.sh in /ebio/abt3_projects/methanogen_host_evo/SIPSim_pt2/data/bac_genome1147/atomIncorp_taxaIncorp/0/10/10\n",
      "2017-08-14 19:58:32,235 * INFO * [46572] /ebio/abt3_projects/methanogen_host_evo/SIPSim_pt2/data/bac_genome1147/atomIncorp_taxaIncorp/0/1/6 Finished with 0\n",
      "2017-08-14 19:58:32,240 * INFO * [47397] Started ./SIPSimRun_expDesign.sh in /ebio/abt3_projects/methanogen_host_evo/SIPSim_pt2/data/bac_genome1147/atomIncorp_taxaIncorp/0/25/1\n",
      "2017-08-14 19:58:32,252 * INFO * [46537] /ebio/abt3_projects/methanogen_host_evo/SIPSim_pt2/data/bac_genome1147/atomIncorp_taxaIncorp/0/1/1 Finished with 0\n",
      "2017-08-14 19:58:32,258 * INFO * [47405] Started ./SIPSimRun_expDesign.sh in /ebio/abt3_projects/methanogen_host_evo/SIPSim_pt2/data/bac_genome1147/atomIncorp_taxaIncorp/0/25/2\n",
      "2017-08-14 19:58:32,302 * INFO * [46637] /ebio/abt3_projects/methanogen_host_evo/SIPSim_pt2/data/bac_genome1147/atomIncorp_taxaIncorp/0/5/4 Finished with 0\n",
      "2017-08-14 19:58:32,311 * INFO * [47413] Started ./SIPSimRun_expDesign.sh in /ebio/abt3_projects/methanogen_host_evo/SIPSim_pt2/data/bac_genome1147/atomIncorp_taxaIncorp/0/25/3\n",
      "2017-08-14 19:58:32,311 * INFO * [46547] /ebio/abt3_projects/methanogen_host_evo/SIPSim_pt2/data/bac_genome1147/atomIncorp_taxaIncorp/0/1/3 Finished with 0\n",
      "2017-08-14 19:58:32,320 * INFO * [47420] Started ./SIPSimRun_expDesign.sh in /ebio/abt3_projects/methanogen_host_evo/SIPSim_pt2/data/bac_genome1147/atomIncorp_taxaIncorp/0/25/4\n",
      "2017-08-14 19:58:32,320 * INFO * [46540] /ebio/abt3_projects/methanogen_host_evo/SIPSim_pt2/data/bac_genome1147/atomIncorp_taxaIncorp/0/1/2 Finished with 0\n",
      "2017-08-14 19:58:32,326 * INFO * [47426] Started ./SIPSimRun_expDesign.sh in /ebio/abt3_projects/methanogen_host_evo/SIPSim_pt2/data/bac_genome1147/atomIncorp_taxaIncorp/0/25/5\n",
      "2017-08-14 19:58:32,327 * INFO * [46566] /ebio/abt3_projects/methanogen_host_evo/SIPSim_pt2/data/bac_genome1147/atomIncorp_taxaIncorp/0/1/5 Finished with 0\n",
      "2017-08-14 19:58:32,335 * INFO * [47434] Started ./SIPSimRun_expDesign.sh in /ebio/abt3_projects/methanogen_host_evo/SIPSim_pt2/data/bac_genome1147/atomIncorp_taxaIncorp/0/25/6\n",
      "2017-08-14 19:58:32,335 * INFO * [46628] /ebio/abt3_projects/methanogen_host_evo/SIPSim_pt2/data/bac_genome1147/atomIncorp_taxaIncorp/0/5/3 Finished with 0\n",
      "2017-08-14 19:58:32,347 * INFO * [47441] Started ./SIPSimRun_expDesign.sh in /ebio/abt3_projects/methanogen_host_evo/SIPSim_pt2/data/bac_genome1147/atomIncorp_taxaIncorp/0/25/7\n",
      "2017-08-14 19:58:32,347 * INFO * [46620] /ebio/abt3_projects/methanogen_host_evo/SIPSim_pt2/data/bac_genome1147/atomIncorp_taxaIncorp/0/5/2 Finished with 0\n",
      "2017-08-14 19:58:32,362 * INFO * [47453] Started ./SIPSimRun_expDesign.sh in /ebio/abt3_projects/methanogen_host_evo/SIPSim_pt2/data/bac_genome1147/atomIncorp_taxaIncorp/0/25/8\n",
      "2017-08-14 19:58:32,363 * INFO * [46583] /ebio/abt3_projects/methanogen_host_evo/SIPSim_pt2/data/bac_genome1147/atomIncorp_taxaIncorp/0/1/7 Finished with 0\n",
      "2017-08-14 19:58:32,370 * INFO * [47461] Started ./SIPSimRun_expDesign.sh in /ebio/abt3_projects/methanogen_host_evo/SIPSim_pt2/data/bac_genome1147/atomIncorp_taxaIncorp/0/25/9\n",
      "2017-08-14 19:58:32,371 * INFO * [46644] /ebio/abt3_projects/methanogen_host_evo/SIPSim_pt2/data/bac_genome1147/atomIncorp_taxaIncorp/0/5/5 Finished with 0\n",
      "2017-08-14 19:58:32,375 * INFO * [47465] Started ./SIPSimRun_expDesign.sh in /ebio/abt3_projects/methanogen_host_evo/SIPSim_pt2/data/bac_genome1147/atomIncorp_taxaIncorp/0/25/10\n",
      "2017-08-14 19:58:42,265 * INFO * [47317] /ebio/abt3_projects/methanogen_host_evo/SIPSim_pt2/data/bac_genome1147/atomIncorp_taxaIncorp/0/10/1 Finished with 0\n",
      "2017-08-14 19:58:42,274 * INFO * [48097] Started ./SIPSimRun_expDesign.sh in /ebio/abt3_projects/methanogen_host_evo/SIPSim_pt2/data/bac_genome1147/atomIncorp_taxaIncorp/0/50/1\n",
      "2017-08-14 19:58:42,289 * INFO * [47333] /ebio/abt3_projects/methanogen_host_evo/SIPSim_pt2/data/bac_genome1147/atomIncorp_taxaIncorp/0/10/3 Finished with 0\n",
      "2017-08-14 19:58:42,306 * INFO * [48105] Started ./SIPSimRun_expDesign.sh in /ebio/abt3_projects/methanogen_host_evo/SIPSim_pt2/data/bac_genome1147/atomIncorp_taxaIncorp/0/50/2\n",
      "2017-08-14 19:58:42,344 * INFO * [47325] /ebio/abt3_projects/methanogen_host_evo/SIPSim_pt2/data/bac_genome1147/atomIncorp_taxaIncorp/0/10/2 Finished with 0\n",
      "2017-08-14 19:58:42,357 * INFO * [48113] Started ./SIPSimRun_expDesign.sh in /ebio/abt3_projects/methanogen_host_evo/SIPSim_pt2/data/bac_genome1147/atomIncorp_taxaIncorp/0/50/3\n",
      "2017-08-14 19:58:42,446 * INFO * [47344] /ebio/abt3_projects/methanogen_host_evo/SIPSim_pt2/data/bac_genome1147/atomIncorp_taxaIncorp/0/10/5 Finished with 0\n",
      "2017-08-14 19:58:42,451 * INFO * [48121] Started ./SIPSimRun_expDesign.sh in /ebio/abt3_projects/methanogen_host_evo/SIPSim_pt2/data/bac_genome1147/atomIncorp_taxaIncorp/0/50/4\n",
      "2017-08-14 19:58:42,489 * INFO * [47365] /ebio/abt3_projects/methanogen_host_evo/SIPSim_pt2/data/bac_genome1147/atomIncorp_taxaIncorp/0/10/7 Finished with 0\n",
      "2017-08-14 19:58:42,502 * INFO * [48129] Started ./SIPSimRun_expDesign.sh in /ebio/abt3_projects/methanogen_host_evo/SIPSim_pt2/data/bac_genome1147/atomIncorp_taxaIncorp/0/50/5\n",
      "2017-08-14 19:58:42,526 * INFO * [47376] /ebio/abt3_projects/methanogen_host_evo/SIPSim_pt2/data/bac_genome1147/atomIncorp_taxaIncorp/0/10/9 Finished with 0\n",
      "2017-08-14 19:58:42,532 * INFO * [48137] Started ./SIPSimRun_expDesign.sh in /ebio/abt3_projects/methanogen_host_evo/SIPSim_pt2/data/bac_genome1147/atomIncorp_taxaIncorp/0/50/6\n",
      "2017-08-14 19:58:42,532 * INFO * [47336] /ebio/abt3_projects/methanogen_host_evo/SIPSim_pt2/data/bac_genome1147/atomIncorp_taxaIncorp/0/10/4 Finished with 0\n",
      "2017-08-14 19:58:42,551 * INFO * [48142] Started ./SIPSimRun_expDesign.sh in /ebio/abt3_projects/methanogen_host_evo/SIPSim_pt2/data/bac_genome1147/atomIncorp_taxaIncorp/0/50/7\n",
      "2017-08-14 19:58:42,551 * INFO * [47426] /ebio/abt3_projects/methanogen_host_evo/SIPSim_pt2/data/bac_genome1147/atomIncorp_taxaIncorp/0/25/5 Finished with 0\n",
      "2017-08-14 19:58:42,556 * INFO * [48149] Started ./SIPSimRun_expDesign.sh in /ebio/abt3_projects/methanogen_host_evo/SIPSim_pt2/data/bac_genome1147/atomIncorp_taxaIncorp/0/50/8\n",
      "2017-08-14 19:58:42,562 * INFO * [47387] /ebio/abt3_projects/methanogen_host_evo/SIPSim_pt2/data/bac_genome1147/atomIncorp_taxaIncorp/0/10/10 Finished with 0\n",
      "2017-08-14 19:58:42,567 * INFO * [48161] Started ./SIPSimRun_expDesign.sh in /ebio/abt3_projects/methanogen_host_evo/SIPSim_pt2/data/bac_genome1147/atomIncorp_taxaIncorp/0/50/9\n",
      "2017-08-14 19:58:42,598 * INFO * [47357] /ebio/abt3_projects/methanogen_host_evo/SIPSim_pt2/data/bac_genome1147/atomIncorp_taxaIncorp/0/10/6 Finished with 0\n",
      "2017-08-14 19:58:42,606 * INFO * [48169] Started ./SIPSimRun_expDesign.sh in /ebio/abt3_projects/methanogen_host_evo/SIPSim_pt2/data/bac_genome1147/atomIncorp_taxaIncorp/0/50/10\n",
      "2017-08-14 19:58:42,612 * INFO * [47413] /ebio/abt3_projects/methanogen_host_evo/SIPSim_pt2/data/bac_genome1147/atomIncorp_taxaIncorp/0/25/3 Finished with 0\n",
      "2017-08-14 19:58:42,618 * INFO * [48177] Started ./SIPSimRun_expDesign.sh in /ebio/abt3_projects/methanogen_host_evo/SIPSim_pt2/data/bac_genome1147/atomIncorp_taxaIncorp/15/1/1\n",
      "2017-08-14 19:58:42,619 * INFO * [47397] /ebio/abt3_projects/methanogen_host_evo/SIPSim_pt2/data/bac_genome1147/atomIncorp_taxaIncorp/0/25/1 Finished with 0\n",
      "2017-08-14 19:58:42,626 * INFO * [48182] Started ./SIPSimRun_expDesign.sh in /ebio/abt3_projects/methanogen_host_evo/SIPSim_pt2/data/bac_genome1147/atomIncorp_taxaIncorp/15/1/2\n",
      "2017-08-14 19:58:42,628 * INFO * [47434] /ebio/abt3_projects/methanogen_host_evo/SIPSim_pt2/data/bac_genome1147/atomIncorp_taxaIncorp/0/25/6 Finished with 0\n",
      "2017-08-14 19:58:42,643 * INFO * [48193] Started ./SIPSimRun_expDesign.sh in /ebio/abt3_projects/methanogen_host_evo/SIPSim_pt2/data/bac_genome1147/atomIncorp_taxaIncorp/15/1/3\n",
      "2017-08-14 19:58:42,643 * INFO * [47453] /ebio/abt3_projects/methanogen_host_evo/SIPSim_pt2/data/bac_genome1147/atomIncorp_taxaIncorp/0/25/8 Finished with 0\n",
      "2017-08-14 19:58:42,649 * INFO * [48196] Started ./SIPSimRun_expDesign.sh in /ebio/abt3_projects/methanogen_host_evo/SIPSim_pt2/data/bac_genome1147/atomIncorp_taxaIncorp/15/1/4\n",
      "2017-08-14 19:58:42,654 * INFO * [47441] /ebio/abt3_projects/methanogen_host_evo/SIPSim_pt2/data/bac_genome1147/atomIncorp_taxaIncorp/0/25/7 Finished with 0\n",
      "2017-08-14 19:58:42,661 * INFO * [48209] Started ./SIPSimRun_expDesign.sh in /ebio/abt3_projects/methanogen_host_evo/SIPSim_pt2/data/bac_genome1147/atomIncorp_taxaIncorp/15/1/5\n",
      "2017-08-14 19:58:42,713 * INFO * [47405] /ebio/abt3_projects/methanogen_host_evo/SIPSim_pt2/data/bac_genome1147/atomIncorp_taxaIncorp/0/25/2 Finished with 0\n",
      "2017-08-14 19:58:42,719 * INFO * [48217] Started ./SIPSimRun_expDesign.sh in /ebio/abt3_projects/methanogen_host_evo/SIPSim_pt2/data/bac_genome1147/atomIncorp_taxaIncorp/15/1/6\n",
      "2017-08-14 19:58:42,719 * INFO * [47461] /ebio/abt3_projects/methanogen_host_evo/SIPSim_pt2/data/bac_genome1147/atomIncorp_taxaIncorp/0/25/9 Finished with 0\n",
      "2017-08-14 19:58:42,725 * INFO * [48220] Started ./SIPSimRun_expDesign.sh in /ebio/abt3_projects/methanogen_host_evo/SIPSim_pt2/data/bac_genome1147/atomIncorp_taxaIncorp/15/1/7\n",
      "2017-08-14 19:58:42,727 * INFO * [47420] /ebio/abt3_projects/methanogen_host_evo/SIPSim_pt2/data/bac_genome1147/atomIncorp_taxaIncorp/0/25/4 Finished with 0\n",
      "2017-08-14 19:58:42,733 * INFO * [48232] Started ./SIPSimRun_expDesign.sh in /ebio/abt3_projects/methanogen_host_evo/SIPSim_pt2/data/bac_genome1147/atomIncorp_taxaIncorp/15/1/8\n",
      "2017-08-14 19:58:42,743 * INFO * [47373] /ebio/abt3_projects/methanogen_host_evo/SIPSim_pt2/data/bac_genome1147/atomIncorp_taxaIncorp/0/10/8 Finished with 0\n",
      "2017-08-14 19:58:42,748 * INFO * [48241] Started ./SIPSimRun_expDesign.sh in /ebio/abt3_projects/methanogen_host_evo/SIPSim_pt2/data/bac_genome1147/atomIncorp_taxaIncorp/15/1/9\n",
      "2017-08-14 19:58:42,805 * INFO * [47465] /ebio/abt3_projects/methanogen_host_evo/SIPSim_pt2/data/bac_genome1147/atomIncorp_taxaIncorp/0/25/10 Finished with 0\n",
      "2017-08-14 19:58:42,811 * INFO * [48249] Started ./SIPSimRun_expDesign.sh in /ebio/abt3_projects/methanogen_host_evo/SIPSim_pt2/data/bac_genome1147/atomIncorp_taxaIncorp/15/1/10\n",
      "2017-08-14 19:58:52,495 * INFO * [48097] /ebio/abt3_projects/methanogen_host_evo/SIPSim_pt2/data/bac_genome1147/atomIncorp_taxaIncorp/0/50/1 Finished with 0\n",
      "2017-08-14 19:58:52,511 * INFO * [48878] Started ./SIPSimRun_expDesign.sh in /ebio/abt3_projects/methanogen_host_evo/SIPSim_pt2/data/bac_genome1147/atomIncorp_taxaIncorp/15/5/1\n",
      "2017-08-14 19:58:52,621 * INFO * [48121] /ebio/abt3_projects/methanogen_host_evo/SIPSim_pt2/data/bac_genome1147/atomIncorp_taxaIncorp/0/50/4 Finished with 0\n",
      "2017-08-14 19:58:52,626 * INFO * [48887] Started ./SIPSimRun_expDesign.sh in /ebio/abt3_projects/methanogen_host_evo/SIPSim_pt2/data/bac_genome1147/atomIncorp_taxaIncorp/15/5/2\n",
      "2017-08-14 19:58:52,712 * INFO * [48113] /ebio/abt3_projects/methanogen_host_evo/SIPSim_pt2/data/bac_genome1147/atomIncorp_taxaIncorp/0/50/3 Finished with 0\n",
      "2017-08-14 19:58:52,717 * INFO * [48895] Started ./SIPSimRun_expDesign.sh in /ebio/abt3_projects/methanogen_host_evo/SIPSim_pt2/data/bac_genome1147/atomIncorp_taxaIncorp/15/5/3\n",
      "2017-08-14 19:58:52,750 * INFO * [48169] /ebio/abt3_projects/methanogen_host_evo/SIPSim_pt2/data/bac_genome1147/atomIncorp_taxaIncorp/0/50/10 Finished with 0\n",
      "2017-08-14 19:58:52,764 * INFO * [48903] Started ./SIPSimRun_expDesign.sh in /ebio/abt3_projects/methanogen_host_evo/SIPSim_pt2/data/bac_genome1147/atomIncorp_taxaIncorp/15/5/4\n",
      "2017-08-14 19:58:52,786 * INFO * [48105] /ebio/abt3_projects/methanogen_host_evo/SIPSim_pt2/data/bac_genome1147/atomIncorp_taxaIncorp/0/50/2 Finished with 0\n",
      "2017-08-14 19:58:52,793 * INFO * [48911] Started ./SIPSimRun_expDesign.sh in /ebio/abt3_projects/methanogen_host_evo/SIPSim_pt2/data/bac_genome1147/atomIncorp_taxaIncorp/15/5/5\n",
      "2017-08-14 19:58:52,824 * INFO * [48149] /ebio/abt3_projects/methanogen_host_evo/SIPSim_pt2/data/bac_genome1147/atomIncorp_taxaIncorp/0/50/8 Finished with 0\n",
      "2017-08-14 19:58:52,829 * INFO * [48919] Started ./SIPSimRun_expDesign.sh in /ebio/abt3_projects/methanogen_host_evo/SIPSim_pt2/data/bac_genome1147/atomIncorp_taxaIncorp/15/5/6\n",
      "2017-08-14 19:58:52,831 * INFO * [48137] /ebio/abt3_projects/methanogen_host_evo/SIPSim_pt2/data/bac_genome1147/atomIncorp_taxaIncorp/0/50/6 Finished with 0\n",
      "2017-08-14 19:58:52,837 * INFO * [48922] Started ./SIPSimRun_expDesign.sh in /ebio/abt3_projects/methanogen_host_evo/SIPSim_pt2/data/bac_genome1147/atomIncorp_taxaIncorp/15/5/7\n",
      "2017-08-14 19:58:52,856 * INFO * [48177] /ebio/abt3_projects/methanogen_host_evo/SIPSim_pt2/data/bac_genome1147/atomIncorp_taxaIncorp/15/1/1 Finished with 0\n",
      "2017-08-14 19:58:52,866 * INFO * [48935] Started ./SIPSimRun_expDesign.sh in /ebio/abt3_projects/methanogen_host_evo/SIPSim_pt2/data/bac_genome1147/atomIncorp_taxaIncorp/15/5/8\n",
      "2017-08-14 19:58:52,870 * INFO * [48129] /ebio/abt3_projects/methanogen_host_evo/SIPSim_pt2/data/bac_genome1147/atomIncorp_taxaIncorp/0/50/5 Finished with 0\n",
      "2017-08-14 19:58:52,874 * INFO * [48940] Started ./SIPSimRun_expDesign.sh in /ebio/abt3_projects/methanogen_host_evo/SIPSim_pt2/data/bac_genome1147/atomIncorp_taxaIncorp/15/5/9\n",
      "2017-08-14 19:58:52,882 * INFO * [48142] /ebio/abt3_pro"
     ]
    },
    {
     "data": {
      "text/html": [
       "<b>limit_output extension: Maximum message size of 20000 exceeded with 100688 characters</b>"
      ]
     },
     "metadata": {},
     "output_type": "display_data"
    }
   ],
   "source": [
    "%%bash -s $workDir $bashFileTmp $buildDir\n",
    "# offset job start to prevent conda activate errors\n",
    "sleep $[ ( $RANDOM % 10 )  + 1 ]s\n",
    "source activate py2_ley0.4\n",
    "# change to working dir\n",
    "cd $1\n",
    "# run job \n",
    "nestrun --template-file $2 -d $3 --log-file exp_design.log -j 20"
   ]
  },
  {
   "cell_type": "code",
   "execution_count": 12,
   "metadata": {
    "ExecuteTime": {
     "end_time": "2017-08-14T20:01:04.608683",
     "start_time": "2017-08-14T20:01:03.614844"
    },
    "collapsed": true
   },
   "outputs": [],
   "source": [
    "%pushmsg \"exp_design complete: $buildDir\""
   ]
  },
  {
   "cell_type": "markdown",
   "metadata": {},
   "source": [
    "## SIPSim pipeline"
   ]
  },
  {
   "cell_type": "code",
   "execution_count": 13,
   "metadata": {
    "ExecuteTime": {
     "end_time": "2017-08-14T20:01:04.620616",
     "start_time": "2017-08-14T20:01:04.611111"
    }
   },
   "outputs": [
    {
     "data": {
      "text/plain": [
       "'/ebio/abt3_projects/methanogen_host_evo/SIPSim_pt2/data/bac_genome1147/atomIncorp_taxaIncorp/SIPSimRun_SIPSim-pipeline.sh'"
      ]
     },
     "execution_count": 13,
     "metadata": {},
     "output_type": "execute_result"
    }
   ],
   "source": [
    "bashFileTmp = os.path.splitext(bashFile)[0] + '_SIPSim-pipeline.sh'\n",
    "bashFileTmp"
   ]
  },
  {
   "cell_type": "code",
   "execution_count": 14,
   "metadata": {
    "ExecuteTime": {
     "end_time": "2017-08-14T20:01:04.632542",
     "start_time": "2017-08-14T20:01:04.622683"
    }
   },
   "outputs": [
    {
     "name": "stdout",
     "output_type": "stream",
     "text": [
      "Writing /ebio/abt3_projects/methanogen_host_evo/SIPSim_pt2/data/bac_genome1147/atomIncorp_taxaIncorp/SIPSimRun_SIPSim-pipeline.sh\n"
     ]
    }
   ],
   "source": [
    "%%writefile $bashFileTmp\n",
    "#!/bin/bash\n",
    "# offset job start to prevent conda activate errors\n",
    "sleep $[ ( $RANDOM % 10 )  + 1 ]s\n",
    "source activate SIPSim\n",
    "# OPENBLAS threads \n",
    "export OMP_NUM_THREADS=1\n",
    "\n",
    "\n",
    "echo '#-- SIPSim pipeline --#'    \n",
    "    \n",
    "echo '# Adding diffusion'    \n",
    "SIPSim diffusion \\\n",
    "    -n {Monte_rep} \\\n",
    "    --bw {bandwidth} \\\n",
    "    --np {np} \\\n",
    "    {fragFile} \\\n",
    "    > ampFrags_KDE_dif.pkl    \n",
    "\n",
    "echo '# Adding DBL contamination; abundance-weighted smearing'\n",
    "SIPSim DBL \\\n",
    "    -n {Monte_rep} \\\n",
    "    --comm comm.txt \\\n",
    "    --commx {DBL_scaling} \\\n",
    "    --np {np} \\\n",
    "    ampFrags_KDE_dif.pkl \\\n",
    "    > ampFrags_KDE_dif_DBL.pkl \n",
    "\n",
    "echo '# Adding isotope incorporation to BD distribution'\n",
    "SIPSim isotope_incorp \\\n",
    "    -n {Monte_rep} \\\n",
    "    --comm comm.txt \\\n",
    "    --taxa incorporators.txt \\\n",
    "    --np {np} \\\n",
    "    ampFrags_KDE_dif_DBL.pkl \\\n",
    "    incorp.config \\\n",
    "    > ampFrags_KDE_dif_DBL_inc.pkl\n",
    "\n",
    "echo '# Simulating an OTU table'\n",
    "SIPSim OTU_table \\\n",
    "    --abs {abs} \\\n",
    "    --np {np} \\\n",
    "    ampFrags_KDE_dif_DBL_inc.pkl \\\n",
    "    comm.txt \\\n",
    "    fracs.txt \\\n",
    "    > OTU_abs{abs}.txt\n",
    "    \n",
    "echo '# Simulating PCR'\n",
    "SIPSim OTU_PCR \\\n",
    "    OTU_abs{abs}.txt \\\n",
    "    > OTU_abs{abs}_PCR.txt    \n",
    "    \n",
    "echo '# Subsampling from the OTU table (simulating sequencing of the DNA pool)'\n",
    "SIPSim OTU_subsample \\\n",
    "    --dist {subsample_dist} \\\n",
    "    --dist_params mean:{subsample_mean},sigma:{subsample_scale} \\\n",
    "    --min_size {subsample_min} \\\n",
    "    --max_size {subsample_max} \\\n",
    "    OTU_abs{abs}_PCR.txt \\\n",
    "    > OTU_abs{abs}_PCR_sub.txt\n",
    "        \n",
    "echo '# Making a wide-formatted table'\n",
    "SIPSim OTU_wide_long -w \\\n",
    "    OTU_abs{abs}_PCR_sub.txt \\\n",
    "    > OTU_abs{abs}_PCR_sub_w.txt\n",
    "    \n",
    "echo '# Making metadata (phyloseq: sample_data)'\n",
    "SIPSim OTU_sample_data \\\n",
    "    OTU_abs{abs}_PCR_sub.txt \\\n",
    "    > OTU_abs{abs}_PCR_sub_meta.txt\n",
    "       \n",
    "\n",
    "#-- removing large intermediate files --#\n",
    "rm -f ampFrags_KDE_dif.pkl\n",
    "rm -f ampFrags_KDE_dif_DBL.pkl\n",
    "rm -f ampFrags_KDE_dif_DBL_inc.pkl    "
   ]
  },
  {
   "cell_type": "code",
   "execution_count": null,
   "metadata": {
    "ExecuteTime": {
     "start_time": "2017-08-14T18:00:03.587Z"
    },
    "collapsed": true
   },
   "outputs": [],
   "source": [
    "!chmod 755 $bashFileTmp"
   ]
  },
  {
   "cell_type": "code",
   "execution_count": null,
   "metadata": {
    "ExecuteTime": {
     "start_time": "2017-08-14T18:00:04.029Z"
    },
    "collapsed": true
   },
   "outputs": [],
   "source": [
    "%%bash -s $workDir $bashFileTmp $buildDir\n",
    "source activate py2_ley0.4\n",
    "cd $1\n",
    "\n",
    "nestrun --template-file $2 -d $3 --log-file SIPSim_pipeline.log -j 6 --stop-on-error"
   ]
  },
  {
   "cell_type": "code",
   "execution_count": null,
   "metadata": {
    "ExecuteTime": {
     "start_time": "2017-08-14T18:00:05.068Z"
    },
    "collapsed": true
   },
   "outputs": [],
   "source": [
    "%pushmsg \"SIPSim pipeline complete: $buildDir\""
   ]
  },
  {
   "cell_type": "markdown",
   "metadata": {},
   "source": [
    "## Summary of simulated data"
   ]
  },
  {
   "cell_type": "code",
   "execution_count": null,
   "metadata": {
    "ExecuteTime": {
     "start_time": "2017-08-14T18:00:07.172Z"
    },
    "collapsed": true
   },
   "outputs": [],
   "source": [
    "bashFileTmp = os.path.splitext(bashFile)[0] + '_SIPSim-summary.sh'\n",
    "bashFileTmp"
   ]
  },
  {
   "cell_type": "code",
   "execution_count": null,
   "metadata": {
    "ExecuteTime": {
     "start_time": "2017-08-14T18:00:08.716Z"
    },
    "collapsed": true
   },
   "outputs": [],
   "source": [
    "%%writefile $bashFileTmp\n",
    "#!/bin/bash\n",
    "# offset job start to prevent conda activate errors\n",
    "sleep $[ ( $RANDOM % 10 )  + 1 ]s\n",
    "source activate SIPSim \n",
    "\n",
    "echo \"# Plotting taxon abundances\"\n",
    "\n",
    "# plotting 'raw' taxon abundances\n",
    "Rscript {R_dir}OTU_taxonAbund.R \\\n",
    "    OTU_abs{abs}.txt \\\n",
    "    -r {topTaxaToPlot} \\\n",
    "    -o OTU_abs{abs}\n",
    "\n",
    "# plotting 'sequenced' taxon abundances\n",
    "Rscript {R_dir}OTU_taxonAbund.R \\\n",
    "    OTU_abs{abs}_PCR_sub.txt \\\n",
    "    -r {topTaxaToPlot} \\\n",
    "    -o OTU_abs{abs}_PCR_sub"
   ]
  },
  {
   "cell_type": "code",
   "execution_count": null,
   "metadata": {
    "ExecuteTime": {
     "start_time": "2017-08-14T18:00:09.508Z"
    },
    "collapsed": true
   },
   "outputs": [],
   "source": [
    "!chmod 755 $bashFileTmp"
   ]
  },
  {
   "cell_type": "code",
   "execution_count": null,
   "metadata": {
    "ExecuteTime": {
     "start_time": "2017-08-14T18:00:10.028Z"
    },
    "collapsed": true
   },
   "outputs": [],
   "source": [
    "%%bash -s $workDir $bashFileTmp $buildDir\n",
    "source activate py2_ley0.4\n",
    "cd $1\n",
    "\n",
    "nestrun --template-file $2 -d $3 --log-file SIPSim_summary.log -j 20"
   ]
  },
  {
   "cell_type": "markdown",
   "metadata": {},
   "source": [
    "## HR-SIP"
   ]
  },
  {
   "cell_type": "code",
   "execution_count": null,
   "metadata": {
    "ExecuteTime": {
     "start_time": "2017-08-14T18:00:10.924Z"
    },
    "collapsed": true
   },
   "outputs": [],
   "source": [
    "bashFileTmp = os.path.splitext(bashFile)[0] + '_HRSIP.sh'\n",
    "bashFileTmp"
   ]
  },
  {
   "cell_type": "code",
   "execution_count": null,
   "metadata": {
    "ExecuteTime": {
     "start_time": "2017-08-14T18:00:12.020Z"
    },
    "collapsed": true
   },
   "outputs": [],
   "source": [
    "%%writefile $bashFileTmp\n",
    "#!/bin/bash\n",
    "# offset job start to prevent conda activate errors\n",
    "sleep $[ ( $RANDOM % 10 )  + 1 ]s\n",
    "source activate SIPSim \n",
    "\n",
    "# phyloseq\n",
    "## making phyloseq object from OTU table\n",
    "Rscript {R_dir}phyloseq_make.R \\\n",
    "    OTU_abs{abs}_PCR_sub_w.txt \\\n",
    "    -s OTU_abs{abs}_PCR_sub_meta.txt \\\n",
    "    > OTU_abs{abs}_PCR_sub.physeq\n",
    "\n",
    "## filtering phyloseq object to just 'heavy' fractions\n",
    "Rscript {R_dir}phyloseq_edit.R \\\n",
    "    OTU_abs{abs}_PCR_sub.physeq \\\n",
    "    --BD_min {heavy_BD_min} \\\n",
    "    --BD_max {heavy_BD_max} \\\n",
    "    > OTU_abs{abs}_PCR_sub_filt.physeq\n",
    "\n",
    "## making ordination\n",
    "Rscript {R_dir}phyloseq_ordination.R \\\n",
    "    OTU_abs{abs}_PCR_sub_filt.physeq \\\n",
    "    OTU_abs{abs}_PCR_sub_filt_bray-NMDS.pdf\n",
    "\n",
    "# DESeq2\n",
    "Rscript {R_dir}phyloseq_DESeq2.R \\\n",
    "    --log2 {log2} \\\n",
    "    --hypo greater \\\n",
    "    --cont 1,3,5 \\\n",
    "    --treat 2,4,6 \\\n",
    "    OTU_abs{abs}_PCR_sub_filt.physeq \\\n",
    "    > OTU_abs{abs}_PCR_sub_filt_DESeq2"
   ]
  },
  {
   "cell_type": "code",
   "execution_count": null,
   "metadata": {
    "ExecuteTime": {
     "start_time": "2017-08-14T18:00:12.907Z"
    },
    "collapsed": true
   },
   "outputs": [],
   "source": [
    "!chmod 755 $bashFileTmp"
   ]
  },
  {
   "cell_type": "code",
   "execution_count": null,
   "metadata": {
    "ExecuteTime": {
     "start_time": "2017-08-14T18:00:13.619Z"
    },
    "collapsed": true
   },
   "outputs": [],
   "source": [
    "%%bash -s $workDir $bashFileTmp $buildDir\n",
    "source activate py2_ley0.4\n",
    "cd $1\n",
    "\n",
    "nestrun --template-file $2 -d $3 --log-file HR-SIP.log -j 20"
   ]
  },
  {
   "cell_type": "code",
   "execution_count": null,
   "metadata": {
    "ExecuteTime": {
     "start_time": "2017-08-14T18:00:13.988Z"
    },
    "collapsed": true
   },
   "outputs": [],
   "source": [
    "%pushmsg \"HR-SIP complete: $buildDir\""
   ]
  },
  {
   "cell_type": "markdown",
   "metadata": {},
   "source": [
    "## MW-HR-SIP"
   ]
  },
  {
   "cell_type": "code",
   "execution_count": null,
   "metadata": {
    "ExecuteTime": {
     "start_time": "2017-08-14T18:00:14.732Z"
    },
    "collapsed": true
   },
   "outputs": [],
   "source": [
    "bashFileTmp = os.path.splitext(bashFile)[0] + '_MWHRSIP.sh'\n",
    "bashFileTmp"
   ]
  },
  {
   "cell_type": "code",
   "execution_count": null,
   "metadata": {
    "ExecuteTime": {
     "start_time": "2017-08-14T18:00:15.100Z"
    },
    "collapsed": true
   },
   "outputs": [],
   "source": [
    "%%writefile $bashFileTmp\n",
    "#!/bin/bash\n",
    "# offset job start to prevent conda activate errors\n",
    "sleep $[ ( $RANDOM % 10 )  + 1 ]s\n",
    "source activate SIPSim \n",
    "\n",
    "## HR SIP pipeline\n",
    "Rscript {R_dir}phyloseq_DESeq2.R \\\n",
    "    --log2 {log2} \\\n",
    "    --hypo greater \\\n",
    "    --cont 1,3,5 \\\n",
    "    --treat 2,4,6 \\\n",
    "    --occur_all 0.0,0.05,0.1,0.15,0.2,0.25,0.3,0.35,0.4,0.45,0.5 \\\n",
    "    -w 1.70-1.73,1.72-1.75,1.74-1.77 \\\n",
    "    --all OTU_abs1e9_PCR_sub_MW-all.txt \\\n",
    "    OTU_abs{abs}_PCR_sub.physeq \\\n",
    "    > OTU_abs{abs}_PCR_sub_filt_MW_DESeq2"
   ]
  },
  {
   "cell_type": "code",
   "execution_count": null,
   "metadata": {
    "ExecuteTime": {
     "start_time": "2017-08-14T18:00:15.725Z"
    },
    "collapsed": true
   },
   "outputs": [],
   "source": [
    "!chmod 755 $bashFileTmp"
   ]
  },
  {
   "cell_type": "code",
   "execution_count": null,
   "metadata": {
    "ExecuteTime": {
     "start_time": "2017-08-14T18:00:16.276Z"
    },
    "collapsed": true
   },
   "outputs": [],
   "source": [
    "%%bash -s $workDir $bashFileTmp $buildDir\n",
    "source activate py2_ley0.4\n",
    "cd $1\n",
    "\n",
    "nestrun --template-file $2 -d $3 --log-file MW-HR-SIP.log -j 20"
   ]
  },
  {
   "cell_type": "code",
   "execution_count": null,
   "metadata": {
    "ExecuteTime": {
     "start_time": "2017-08-14T18:00:16.701Z"
    },
    "collapsed": true
   },
   "outputs": [],
   "source": [
    "%pushmsg \"MW-HR-SIP complete: $buildDir\""
   ]
  },
  {
   "cell_type": "markdown",
   "metadata": {},
   "source": [
    "## q-SIP"
   ]
  },
  {
   "cell_type": "code",
   "execution_count": null,
   "metadata": {
    "ExecuteTime": {
     "start_time": "2017-08-14T18:00:17.476Z"
    },
    "collapsed": true
   },
   "outputs": [],
   "source": [
    "bashFileTmp = os.path.splitext(bashFile)[0] + '_qSIP.sh'\n",
    "bashFileTmp"
   ]
  },
  {
   "cell_type": "code",
   "execution_count": null,
   "metadata": {
    "ExecuteTime": {
     "start_time": "2017-08-14T18:00:18.077Z"
    },
    "collapsed": true
   },
   "outputs": [],
   "source": [
    "%%writefile $bashFileTmp\n",
    "#!/bin/bash\n",
    "# offset job start to prevent conda activate errors\n",
    "sleep $[ ( $RANDOM % 10 )  + 1 ]s\n",
    "source activate SIPSim \n",
    "# OPENBLAS threads \n",
    "export OMP_NUM_THREADS=1\n",
    "\n",
    "# qSIP\n",
    "SIPSim qSIP \\\n",
    "    OTU_abs{abs}.txt \\\n",
    "    OTU_abs{abs}_PCR_sub.txt \\\n",
    "    > OTU_abs{abs}_PCR_sub_qSIP.txt\n",
    "        \n",
    "\n",
    "# qSIP: atom excess\n",
    "SIPSim qSIP_atom_excess \\\n",
    "    --np {np} \\\n",
    "    OTU_abs{abs}_PCR_sub_qSIP.txt \\\n",
    "    {exp_design} \\\n",
    "    > OTU_abs{abs}_PCR_sub_qSIP_atom.txt  "
   ]
  },
  {
   "cell_type": "code",
   "execution_count": null,
   "metadata": {
    "ExecuteTime": {
     "start_time": "2017-08-14T18:00:18.811Z"
    },
    "collapsed": true
   },
   "outputs": [],
   "source": [
    "!chmod 755 $bashFileTmp"
   ]
  },
  {
   "cell_type": "code",
   "execution_count": null,
   "metadata": {
    "ExecuteTime": {
     "start_time": "2017-08-14T18:00:21.387Z"
    },
    "collapsed": true
   },
   "outputs": [],
   "source": [
    "%%bash -s $workDir $bashFileTmp $buildDir\n",
    "source activate py2_ley0.4\n",
    "cd $1\n",
    "\n",
    "nestrun --template-file $2 -d $3 --log-file qSIP.log -j 6"
   ]
  },
  {
   "cell_type": "code",
   "execution_count": null,
   "metadata": {
    "ExecuteTime": {
     "start_time": "2017-08-14T18:00:21.762Z"
    },
    "collapsed": true
   },
   "outputs": [],
   "source": [
    "%pushmsg \"q-SIP complete: $buildDir\""
   ]
  },
  {
   "cell_type": "markdown",
   "metadata": {},
   "source": [
    "## delta-BD"
   ]
  },
  {
   "cell_type": "code",
   "execution_count": null,
   "metadata": {
    "ExecuteTime": {
     "start_time": "2017-08-14T18:00:23.108Z"
    },
    "collapsed": true
   },
   "outputs": [],
   "source": [
    "bashFileTmp = os.path.splitext(bashFile)[0] + '_dBD.sh'\n",
    "bashFileTmp"
   ]
  },
  {
   "cell_type": "code",
   "execution_count": null,
   "metadata": {
    "ExecuteTime": {
     "start_time": "2017-08-14T18:00:23.508Z"
    },
    "collapsed": true
   },
   "outputs": [],
   "source": [
    "%%writefile $bashFileTmp\n",
    "#!/bin/bash\n",
    "# offset job start to prevent conda activate errors\n",
    "sleep $[ ( $RANDOM % 10 )  + 1 ]s\n",
    "source activate SIPSim \n",
    "# OPENBLAS threads \n",
    "export OMP_NUM_THREADS=1\n",
    "\n",
    "#deltaBD \n",
    "SIPSim deltaBD \\\n",
    "    OTU_abs{abs}_PCR_sub.txt \\\n",
    "    {exp_design} \\\n",
    "    > OTU_abs{abs}_PCR_sub_dBD.txt  "
   ]
  },
  {
   "cell_type": "code",
   "execution_count": null,
   "metadata": {
    "ExecuteTime": {
     "start_time": "2017-08-14T18:00:24.604Z"
    },
    "collapsed": true
   },
   "outputs": [],
   "source": [
    "!chmod 755 $bashFileTmp"
   ]
  },
  {
   "cell_type": "code",
   "execution_count": null,
   "metadata": {
    "ExecuteTime": {
     "start_time": "2017-08-14T18:00:24.982Z"
    },
    "collapsed": true
   },
   "outputs": [],
   "source": [
    "%%bash -s $workDir $bashFileTmp $buildDir\n",
    "source activate py2_ley0.4\n",
    "cd $1\n",
    "\n",
    "nestrun --template-file $2 -d $3 --log-file deltaBD.log -j 20"
   ]
  },
  {
   "cell_type": "code",
   "execution_count": null,
   "metadata": {
    "ExecuteTime": {
     "start_time": "2017-08-14T18:00:25.620Z"
    },
    "collapsed": true
   },
   "outputs": [],
   "source": [
    "%pushmsg \"deltaBD complete: $buildDir\""
   ]
  },
  {
   "cell_type": "markdown",
   "metadata": {},
   "source": [
    "## Making confusion matrices"
   ]
  },
  {
   "cell_type": "code",
   "execution_count": 53,
   "metadata": {
    "ExecuteTime": {
     "end_time": "2017-08-26T11:19:51.880587",
     "start_time": "2017-08-26T11:19:51.870823"
    }
   },
   "outputs": [
    {
     "data": {
      "text/plain": [
       "'/ebio/abt3_projects/methanogen_host_evo/SIPSim_pt2/data/bac_genome1147/atomIncorp_taxaIncorp/SIPSimRun_cMtx.sh'"
      ]
     },
     "execution_count": 53,
     "metadata": {},
     "output_type": "execute_result"
    }
   ],
   "source": [
    "bashFileTmp = os.path.splitext(bashFile)[0] + '_cMtx.sh'\n",
    "bashFileTmp"
   ]
  },
  {
   "cell_type": "code",
   "execution_count": 54,
   "metadata": {
    "ExecuteTime": {
     "end_time": "2017-08-26T11:20:29.604642",
     "start_time": "2017-08-26T11:20:29.591588"
    }
   },
   "outputs": [
    {
     "name": "stdout",
     "output_type": "stream",
     "text": [
      "Overwriting /ebio/abt3_projects/methanogen_host_evo/SIPSim_pt2/data/bac_genome1147/atomIncorp_taxaIncorp/SIPSimRun_cMtx.sh\n"
     ]
    }
   ],
   "source": [
    "%%writefile $bashFileTmp\n",
    "#!/bin/bash\n",
    "# offset job start to prevent conda activate errors\n",
    "sleep $[ ( $RANDOM % 10 )  + 1 ]s\n",
    "source activate SIPSim\n",
    "\n",
    "# HR-SIP\n",
    "Rscript {R_dir}DESeq2_confuseMtx.R \\\n",
    "    --libs 2,4,6 \\\n",
    "    --padj {padj} \\\n",
    "    BD-shift_stats.txt \\\n",
    "    OTU_abs{abs}_PCR_sub_filt_DESeq2\n",
    "\n",
    "# HR-SIP multiple 'heavy' BD windows\n",
    "Rscript {R_dir}DESeq2_confuseMtx.R \\\n",
    "    --libs 2,4,6 \\\n",
    "    --padj {padj} \\\n",
    "    -o DESeq2_multi-cMtx \\\n",
    "    BD-shift_stats.txt \\\n",
    "    OTU_abs{abs}_PCR_sub_filt_MW_DESeq2\n",
    "    \n",
    "# qSIP    \n",
    "Rscript {R_dir}qSIP_confuseMtx.R \\\n",
    "    --libs 2,4,6 \\\n",
    "    BD-shift_stats.txt \\\n",
    "    OTU_abs{abs}_PCR_sub_qSIP_atom.txt\n",
    "\n",
    "# heavy-SIP (method 1: default) \n",
    "Rscript {R_dir}heavy_confuseMtx.R \\\n",
    "    --treat 2,4,6 \\\n",
    "    --con 1,3,5 \\\n",
    "    --method 1 \\\n",
    "    -o heavyM1-cMtx \\\n",
    "    BD-shift_stats.txt \\\n",
    "    OTU_abs{abs}_PCR_sub.txt\n",
    "    \n",
    "# heavy-SIP (method 2) \n",
    "Rscript {R_dir}heavy_confuseMtx.R \\\n",
    "    --treat 2,4,6 \\\n",
    "    --con 1,3,5 \\\n",
    "    --method 2 \\\n",
    "    -o heavyM2-cMtx \\\n",
    "    BD-shift_stats.txt \\\n",
    "    OTU_abs{abs}_PCR_sub.txt\n",
    "    \n",
    "# heavy-SIP (method 3) \n",
    "Rscript {R_dir}heavy_confuseMtx.R \\\n",
    "    --treat 2,4,6 \\\n",
    "    --con 1,3,5 \\\n",
    "    --method 3 \\\n",
    "    -o heavyM3-cMtx \\\n",
    "    BD-shift_stats.txt \\\n",
    "    OTU_abs{abs}_PCR_sub.txt\n",
    "    \n",
    "# heavy-SIP (method 4) \n",
    "Rscript {R_dir}heavy_confuseMtx.R \\\n",
    "    --treat 2,4,6 \\\n",
    "    --con 1,3,5 \\\n",
    "    --method 4 \\\n",
    "    -o heavyM4-cMtx \\\n",
    "    BD-shift_stats.txt \\\n",
    "    OTU_abs{abs}_PCR_sub.txt "
   ]
  },
  {
   "cell_type": "code",
   "execution_count": 55,
   "metadata": {
    "ExecuteTime": {
     "end_time": "2017-08-26T11:20:30.572880",
     "start_time": "2017-08-26T11:20:30.442146"
    },
    "collapsed": true
   },
   "outputs": [],
   "source": [
    "!chmod 755 $bashFileTmp"
   ]
  },
  {
   "cell_type": "code",
   "execution_count": 56,
   "metadata": {
    "ExecuteTime": {
     "end_time": "2017-08-26T11:34:26.848538",
     "start_time": "2017-08-26T11:20:31.003184"
    },
    "scrolled": true
   },
   "outputs": [
    {
     "name": "stdout",
     "output_type": "stream",
     "text": [
      "2017-08-26 11:20:37,273 * INFO * Template: ./SIPSimRun_cMtx.sh\n",
      "2017-08-26 11:20:37,292 * INFO * [51707] Started ./SIPSimRun_cMtx.sh in /ebio/abt3_projects/methanogen_host_evo/SIPSim_pt2/data/bac_genome1147/atomIncorp_taxaIncorp/0/1/1\n",
      "2017-08-26 11:20:37,305 * INFO * [51709] Started ./SIPSimRun_cMtx.sh in /ebio/abt3_projects/methanogen_host_evo/SIPSim_pt2/data/bac_genome1147/atomIncorp_taxaIncorp/0/1/2\n",
      "2017-08-26 11:20:37,320 * INFO * [51711] Started ./SIPSimRun_cMtx.sh in /ebio/abt3_projects/methanogen_host_evo/SIPSim_pt2/data/bac_genome1147/atomIncorp_taxaIncorp/0/1/3\n",
      "2017-08-26 11:20:37,334 * INFO * [51713] Started ./SIPSimRun_cMtx.sh in /ebio/abt3_projects/methanogen_host_evo/SIPSim_pt2/data/bac_genome1147/atomIncorp_taxaIncorp/0/1/4\n",
      "2017-08-26 11:20:37,348 * INFO * [51715] Started ./SIPSimRun_cMtx.sh in /ebio/abt3_projects/methanogen_host_evo/SIPSim_pt2/data/bac_genome1147/atomIncorp_taxaIncorp/0/1/5\n",
      "2017-08-26 11:20:37,354 * INFO * [51717] Started ./SIPSimRun_cMtx.sh in /ebio/abt3_projects/methanogen_host_evo/SIPSim_pt2/data/bac_genome1147/atomIncorp_taxaIncorp/0/1/6\n",
      "2017-08-26 11:20:37,359 * INFO * [51719] Started ./SIPSimRun_cMtx.sh in /ebio/abt3_projects/methanogen_host_evo/SIPSim_pt2/data/bac_genome1147/atomIncorp_taxaIncorp/0/1/7\n",
      "2017-08-26 11:20:37,364 * INFO * [51721] Started ./SIPSimRun_cMtx.sh in /ebio/abt3_projects/methanogen_host_evo/SIPSim_pt2/data/bac_genome1147/atomIncorp_taxaIncorp/0/1/8\n",
      "2017-08-26 11:20:37,369 * INFO * [51723] Started ./SIPSimRun_cMtx.sh in /ebio/abt3_projects/methanogen_host_evo/SIPSim_pt2/data/bac_genome1147/atomIncorp_taxaIncorp/0/1/9\n",
      "2017-08-26 11:20:37,375 * INFO * [51725] Started ./SIPSimRun_cMtx.sh in /ebio/abt3_projects/methanogen_host_evo/SIPSim_pt2/data/bac_genome1147/atomIncorp_taxaIncorp/0/1/10\n",
      "2017-08-26 11:20:37,383 * INFO * [51727] Started ./SIPSimRun_cMtx.sh in /ebio/abt3_projects/methanogen_host_evo/SIPSim_pt2/data/bac_genome1147/atomIncorp_taxaIncorp/0/5/1\n",
      "2017-08-26 11:20:37,389 * INFO * [51729] Started ./SIPSimRun_cMtx.sh in /ebio/abt3_projects/methanogen_host_evo/SIPSim_pt2/data/bac_genome1147/atomIncorp_taxaIncorp/0/5/2\n",
      "2017-08-26 11:20:37,397 * INFO * [51731] Started ./SIPSimRun_cMtx.sh in /ebio/abt3_projects/methanogen_host_evo/SIPSim_pt2/data/bac_genome1147/atomIncorp_taxaIncorp/0/5/3\n",
      "2017-08-26 11:20:37,403 * INFO * [51733] Started ./SIPSimRun_cMtx.sh in /ebio/abt3_projects/methanogen_host_evo/SIPSim_pt2/data/bac_genome1147/atomIncorp_taxaIncorp/0/5/4\n",
      "2017-08-26 11:20:37,410 * INFO * [51735] Started ./SIPSimRun_cMtx.sh in /ebio/abt3_projects/methanogen_host_evo/SIPSim_pt2/data/bac_genome1147/atomIncorp_taxaIncorp/0/5/5\n",
      "2017-08-26 11:20:37,416 * INFO * [51737] Started ./SIPSimRun_cMtx.sh in /ebio/abt3_projects/methanogen_host_evo/SIPSim_pt2/data/bac_genome1147/atomIncorp_taxaIncorp/0/5/6\n",
      "2017-08-26 11:20:37,422 * INFO * [51739] Started ./SIPSimRun_cMtx.sh in /ebio/abt3_projects/methanogen_host_evo/SIPSim_pt2/data/bac_genome1147/atomIncorp_taxaIncorp/0/5/7\n",
      "2017-08-26 11:20:37,428 * INFO * [51741] Started ./SIPSimRun_cMtx.sh in /ebio/abt3_projects/methanogen_host_evo/SIPSim_pt2/data/bac_genome1147/atomIncorp_taxaIncorp/0/5/8\n",
      "2017-08-26 11:20:37,432 * INFO * [51743] Started ./SIPSimRun_cMtx.sh in /ebio/abt3_projects/methanogen_host_evo/SIPSim_pt2/data/bac_genome1147/atomIncorp_taxaIncorp/0/5/9\n",
      "2017-08-26 11:20:37,437 * INFO * [51745] Started ./SIPSimRun_cMtx.sh in /ebio/abt3_projects/methanogen_host_evo/SIPSim_pt2/data/bac_genome1147/atomIncorp_taxaIncorp/0/5/10\n",
      "2017-08-26 11:21:25,319 * INFO * [51735] /ebio/abt3_projects/methanogen_host_evo/SIPSim_pt2/data/bac_genome1147/atomIncorp_taxaIncorp/0/5/5 Finished with 0\n",
      "2017-08-26 11:21:25,329 * INFO * [53389] Started ./SIPSimRun_cMtx.sh in /ebio/abt3_projects/methanogen_host_evo/SIPSim_pt2/data/bac_genome1147/atomIncorp_taxaIncorp/0/10/1\n",
      "2017-08-26 11:21:26,402 * INFO * [51733] /ebio/abt3_projects/methanogen_host_evo/SIPSim_pt2/data/bac_genome1147/atomIncorp_taxaIncorp/0/5/4 Finished with 0\n",
      "2017-08-26 11:21:26,411 * INFO * [53417] Started ./SIPSimRun_cMtx.sh in /ebio/abt3_projects/methanogen_host_evo/SIPSim_pt2/data/bac_genome1147/atomIncorp_taxaIncorp/0/10/2\n",
      "2017-08-26 11:21:27,565 * INFO * [51721] /ebio/abt3_projects/methanogen_host_evo/SIPSim_pt2/data/bac_genome1147/atomIncorp_taxaIncorp/0/1/8 Finished with 0\n",
      "2017-08-26 11:21:27,577 * INFO * [53421] Started ./SIPSimRun_cMtx.sh in /ebio/abt3_projects/methanogen_host_evo/SIPSim_pt2/data/bac_genome1147/atomIncorp_taxaIncorp/0/10/3\n",
      "2017-08-26 11:21:28,982 * INFO * [51727] /ebio/abt3_projects/methanogen_host_evo/SIPSim_pt2/data/bac_genome1147/atomIncorp_taxaIncorp/0/5/1 Finished with 0\n",
      "2017-08-26 11:21:28,994 * INFO * [53441] Started ./SIPSimRun_cMtx.sh in /ebio/abt3_projects/methanogen_host_evo/SIPSim_pt2/data/bac_genome1147/atomIncorp_taxaIncorp/0/10/4\n",
      "2017-08-26 11:21:29,284 * INFO * [51719] /ebio/abt3_projects/methanogen_host_evo/SIPSim_pt2/data/bac_genome1147/atomIncorp_taxaIncorp/0/1/7 Finished with 0\n",
      "2017-08-26 11:21:29,290 * INFO * [53445] Started ./SIPSimRun_cMtx.sh in /ebio/abt3_projects/methanogen_host_evo/SIPSim_pt2/data/bac_genome1147/atomIncorp_taxaIncorp/0/10/5\n",
      "2017-08-26 11:21:29,305 * INFO * [51713] /ebio/abt3_projects/methanogen_host_evo/SIPSim_pt2/data/bac_genome1147/atomIncorp_taxaIncorp/0/1/4 Finished with 0\n",
      "2017-08-26 11:21:29,315 * INFO * [53449] Started ./SIPSimRun_cMtx.sh in /ebio/abt3_projects/methanogen_host_evo/SIPSim_pt2/data/bac_genome1147/atomIncorp_taxaIncorp/0/10/6\n",
      "2017-08-26 11:21:29,491 * INFO * [51737] /ebio/abt3_projects/methanogen_host_evo/SIPSim_pt2/data/bac_genome1147/atomIncorp_taxaIncorp/0/5/6 Finished with 0\n",
      "2017-08-26 11:21:29,497 * INFO * [53453] Started ./SIPSimRun_cMtx.sh in /ebio/abt3_projects/methanogen_host_evo/SIPSim_pt2/data/bac_genome1147/atomIncorp_taxaIncorp/0/10/7\n",
      "2017-08-26 11:21:30,246 * INFO * [51745] /ebio/abt3_projects/methanogen_host_evo/SIPSim_pt2/data/bac_genome1147/atomIncorp_taxaIncorp/0/5/10 Finished with 0\n",
      "2017-08-26 11:21:30,253 * INFO * [53457] Started ./SIPSimRun_cMtx.sh in /ebio/abt3_projects/methanogen_host_evo/SIPSim_pt2/data/bac_genome1147/atomIncorp_taxaIncorp/0/10/8\n",
      "2017-08-26 11:21:30,621 * INFO * [51731] /ebio/abt3_projects/methanogen_host_evo/SIPSim_pt2/data/bac_genome1147/atomIncorp_taxaIncorp/0/5/3 Finished with 0\n",
      "2017-08-26 11:21:30,628 * INFO * [53461] Started ./SIPSimRun_cMtx.sh in /ebio/abt3_projects/methanogen_host_evo/SIPSim_pt2/data/bac_genome1147/atomIncorp_taxaIncorp/0/10/9\n",
      "2017-08-26 11:21:30,825 * INFO * [51715] /ebio/abt3_projects/methanogen_host_evo/SIPSim_pt2/data/bac_genome1147/atomIncorp_taxaIncorp/0/1/5 Finished with 0\n",
      "2017-08-26 11:21:30,836 * INFO * [53465] Started ./SIPSimRun_cMtx.sh in /ebio/abt3_projects/methanogen_host_evo/SIPSim_pt2/data/bac_genome1147/atomIncorp_taxaIncorp/0/10/10\n",
      "2017-08-26 11:21:31,220 * INFO * [51741] /ebio/abt3_projects/methanogen_host_evo/SIPSim_pt2/data/bac_genome1147/atomIncorp_taxaIncorp/0/5/8 Finished with 0\n",
      "2017-08-26 11:21:31,231 * INFO * [53469] Started ./SIPSimRun_cMtx.sh in /ebio/abt3_projects/methanogen_host_evo/SIPSim_pt2/data/bac_genome1147/atomIncorp_taxaIncorp/0/25/1\n",
      "2017-08-26 11:21:32,122 * INFO * [51707] /ebio/abt3_projects/methanogen_host_evo/SIPSim_pt2/data/bac_genome1147/atomIncorp_taxaIncorp/0/1/1 Finished with 0\n",
      "2017-08-26 11:21:32,130 * INFO * [53487] Started ./SIPSimRun_cMtx.sh in /ebio/abt3_projects/methanogen_host_evo/SIPSim_pt2/data/bac_genome1147/atomIncorp_taxaIncorp/0/25/2\n",
      "2017-08-26 11:21:32,223 * INFO * [51723] /ebio/abt3_projects/methanogen_host_evo/SIPSim_pt2/data/bac_genome1147/atomIncorp_taxaIncorp/0/1/9 Finished with 0\n",
      "2017-08-26 11:21:32,233 * INFO * [53493] Started ./SIPSimRun_cMtx.sh in /ebio/abt3_projects/methanogen_host_evo/SIPSim_pt2/data/bac_genome1147/atomIncorp_taxaIncorp/0/25/3\n",
      "2017-08-26 11:21:32,403 * INFO * [51743] /ebio/abt3_projects/methanogen_host_evo/SIPSim_pt2/data/bac_genome1147/atomIncorp_taxaIncorp/0/5/9 Finished with 0\n",
      "2017-08-26 11:21:32,409 * INFO * [53511] Started ./SIPSimRun_cMtx.sh in /ebio/abt3_projects/methanogen_host_evo/SIPSim_pt2/data/bac_genome1147/atomIncorp_taxaIncorp/0/25/4\n",
      "2017-08-26 11:21:32,885 * INFO * [51729] /ebio/abt3_projects/methanogen_host_evo/SIPSim_pt2/data/bac_genome1147/atomIncorp_taxaIncorp/0/5/2 Finished with 0\n",
      "2017-08-26 11:21:32,891 * INFO * [53537] Started ./SIPSimRun_cMtx.sh in /ebio/abt3_projects/methanogen_host_evo/SIPSim_pt2/data/bac_genome1147/atomIncorp_taxaIncorp/0/25/5\n",
      "2017-08-26 11:21:32,892 * INFO * [51717] /ebio/abt3_projects/methanogen_host_evo/SIPSim_pt2/data/bac_genome1147/atomIncorp_taxaIncorp/0/1/6 Finished with 0\n",
      "2017-08-26 11:21:32,897 * INFO * [53539] Started ./SIPSimRun_cMtx.sh in /ebio/abt3_projects/methanogen_host_evo/SIPSim_pt2/data/bac_genome1147/atomIncorp_taxaIncorp/0/25/6\n",
      "2017-08-26 11:21:34,345 * INFO * [51739] /ebio/abt3_projects/methanogen_host_evo/SIPSim_pt2/data/bac_genome1147/atomIncorp_taxaIncorp/0/5/7 Finished with 0\n",
      "2017-08-26 11:21:34,356 * INFO * [53592] Started ./SIPSimRun_cMtx.sh in /ebio/abt3_projects/methanogen_host_evo/SIPSim_pt2/data/bac_genome1147/atomIncorp_taxaIncorp/0/25/7\n",
      "2017-08-26 11:21:34,527 * INFO * [51709] /ebio/abt3_projects/methanogen_host_evo/SIPSim_pt2/data/bac_genome1147/atomIncorp_taxaIncorp/0/1/2 Finished with 0\n",
      "2017-08-26 11:21:34,533 * INFO * [53596] Started ./SIPSimRun_cMtx.sh in /ebio/abt3_projects/methanogen_host_evo/SIPSim_pt2/data/bac_genome1147/atomIncorp_taxaIncorp/0/25/8\n",
      "2017-08-26 11:21:35,957 * INFO * [51711] /ebio/abt3_projects/methanogen_host_evo/SIPSim_pt2/data/bac_genome1147/atomIncorp_taxaIncorp/0/1/3 Finished with 0\n",
      "2017-08-26 11:21:35,967 * INFO * [53682] Started ./SIPSimRun_cMtx.sh in /ebio/abt3_projects/methanogen_host_evo/SIPSim_pt2/data/bac_genome1147/atomIncorp_taxaIncorp/0/25/9\n",
      "2017-08-26 11:21:36,923 * INFO * [51725] /ebio/abt3_projects/methanogen_host_evo/SIPSim_pt2/data/bac_genome1147/atomIncorp_taxaIncorp/0/1/10 Finished with 0\n",
      "2017-08-26 11:21:36,934 * INFO * [53746] Started ./SIPSimRun_cMtx.sh in /ebio/abt3_projects/methanogen_host_evo/SIPSim_pt2/data/bac_genome1147/atomIncorp_taxaIncorp/0/25/10\n",
      "2017-08-26 11:22:17,594 * INFO * [53417] /ebio/abt3_projects/methanogen_host_evo/SIPSim_pt2/data/bac_genome1147/atomIncorp_taxaIncorp/0/10/2 Finished with 0\n",
      "2017-08-26 11:22:17,606 * INFO * [55133] Started ./SIPSimRun_cMtx.sh in /ebio/abt3_projects/methanogen_host_evo/SIPSim_pt2/data/bac_genome1147/atomIncorp_taxaIncorp/0/50/1\n",
      "2017-08-26 11:22:18,256 * INFO * [53389] /ebio/abt3_projects/methanogen_host_evo/SIPSim_pt2/data/bac_genome1147/atomIncorp_taxaIncorp/0/10/1 Finished with 0\n",
      "2017-08-26 11:22:18,267 * INFO * [55151] Started ./SIPSimRun_cMtx.sh in /ebio/abt3_projects/methanogen_host_evo/SIPSim_pt2/data/bac_genome1147/atomIncorp_taxaIncorp/0/50/2\n",
      "2017-08-26 11:22:20,034 * INFO * [53449] /ebio/abt3_projects/methanogen_host_evo/SIPSim_pt2/data/bac_genome1147/atomIncorp_taxaIncorp/0/10/6 Finished with 0\n",
      "2017-08-26 11:22:20,047 * INFO * [55197] Started ./SIPSimRun_cMtx.sh in /ebio/abt3_projects/methanogen_host_evo/SIPSim_pt2/data/bac_genome1147/atomIncorp_taxaIncorp/0/50/3\n",
      "2017-08-26 11:22:20,750 * INFO * [53461] /ebio/abt3_projects/methanogen_host_evo/SIPSim_pt2/data/bac_genome1147/atomIncorp_taxaIncorp/0/10/9 Finished with 0\n",
      "2017-08-26 11:22:20,760 * INFO * [55211] Started ./SIPSimRun_cMtx.sh in /ebio/abt3_projects/methanogen_host_evo/SIPSim_pt2/data/bac_genome1147/atomIncorp_taxaIncorp/0/50/4\n",
      "2017-08-26 11:22:20,834 * INFO * [53445] /ebio/abt3_projects/methanogen_host_evo/SIPSim_pt2/data/bac_genome1147/atomIncorp_taxaIncorp/0/10/5 Finished with 0\n",
      "2017-08-26 11:22:20,844 * INFO * [55217] Started ./SIPSimRun_cMtx.sh in /ebio/abt3_projects/methanogen_host_evo/SIPSim_pt2/data/bac_genome1147/atomIncorp_taxaIncorp/0/50/5\n",
      "2017-08-26 11:22:21,400 * INFO * [53537] /ebio/abt3_projects/methanogen_host_evo/SIPSim_pt2/data/bac_genome1147/atomIncorp_taxaIncorp/0/25/5 Finished with 0\n",
      "2017-08-26 11:22:21,411 * INFO * [55244] Started ./SIPSimRun_cMtx.sh in /ebio/abt3_projects/methanogen_host_evo/SIPSim_pt2/data/bac_genome1147/atomIncorp_taxaIncorp/0/50/6\n",
      "2017-08-26 11:22:22,867 * INFO * [53487] /ebio/abt3_projects/methanogen_host_evo/SIPSim_pt2/data/bac_genome1147/atomIncorp_taxaIncorp/0/25/2 Finished with 0\n",
      "2017-08-26 11:22:22,877 * INFO * [55298] Started ./SIPSimRun_cMtx.sh in /ebio/abt3_projects/methanogen_host_evo/SIPSim_pt2/data/bac_genome1147/atomIncorp_taxaIncorp/0/50/7\n",
      "2017-08-26 11:22:22,991 * INFO * [53493] /ebio/abt3_projects/methanogen_host_evo/SIPSim_pt2/data/bac_genome1147/atomIncorp_taxaIncorp/0/25/3 Finished with 0\n",
      "2017-08-26 11:22:23,005 * INFO * [55306] Started ./SIPSimRun_cMtx.sh in /ebio/abt3_projects/methanogen_host_evo/SIPSim_pt2/data/bac_genome1147/atomIncorp_taxaIncorp/0/50/8\n",
      "2017-08-26 11:22:23,823 * INFO * [53457] /ebio/abt3_projects/methanogen_host_evo/SIPSim_pt2/data/bac_genome1147/atomIncorp_taxaIncorp/0/10/8 Finished with 0\n",
      "2017-08-26 11:22:23,838 * INFO * [55329] Started ./SIPSimRun_cMtx.sh in /ebio/abt3_projects/methanogen_host_evo/SIPSim_pt2/data/bac_genome1147/atomIncorp_taxaIncorp/0/50/9\n",
      "2017-08-26 11:22:24,911 * INFO * [53511] /ebio/abt3_projects/methanogen_host_evo/SIPSim_pt2/data/bac_genome1147/atomIncorp_taxaIncorp/0/25/4 Finished with 0\n",
      "2017-08-26 11:22:24,920 * INFO * [55363] Started ./SIPSimRun_cMtx.sh in /ebio/abt3_projects/methanogen_host_evo/SIPSim_pt2/data/bac_genome1147/atomIncorp_taxaIncorp/0/50/10\n",
      "2017-08-26 11:22:25,747 * INFO * [53421] /ebio/abt3_projects/methanogen_host_evo/SIPSim_pt2/data/bac_genome1147/atomIncorp_taxaIncorp/0/10/3 Finished with 0\n",
      "2017-08-26 11:22:25,756 * INFO * [55381] Started ./SIPSimRun_cMtx.sh in /ebio/abt3_projects/methanogen_host_evo/SIPSim_pt2/data/bac_genome1147/atomIncorp_taxaIncorp/15/1/1\n",
      "2017-08-26 11:22:26,157 * INFO * [53441] /ebio/abt3_projects/methanogen_host_evo/SIPSim_pt2/data/bac_genome1147/atomIncorp_taxaIncorp/0/10/4 Finished with 0\n",
      "2017-08-26 11:22:26,165 * INFO * [55422] Started ./SIPSimRun_cMtx.sh in /ebio/abt3_projects/methanogen_host_evo/SIPSim_pt2/data/bac_genome1147/atomIncorp_taxaIncorp/15/1/2\n",
      "2017-08-26 11:22:27,223 * INFO * [53596] /ebio/abt3_projects/methanogen_host_evo/SIPSim_pt2/data/bac_genome1147/atomIncorp_taxaIncorp/0/25/8 Finished with 0\n",
      "2017-08-26 11:22:27,233 * INFO * [55465] Started ./SIPSimRun_cMtx.sh in /ebio/abt3_projects/methanogen_host_evo/SIPSim_pt2/data/bac_genome1147/atomIncorp_taxaIncorp/15/1/3\n",
      "2017-08-26 11:22:28,444 * INFO * [53453] /ebio/abt3_projects/methanogen_host_evo/SIPSim_pt2/data/bac_genome1147/atomIncorp_taxaIncorp/0/10/7 Finished with 0\n",
      "2017-08-26 11:22:28,451 * INFO * [55522] Started ./SIPSimRun_cMtx.sh in /ebio/abt3_projects/methanogen_host_evo/SIPSim_pt2/data/bac_genome1147/atomIncorp_taxaIncorp/15/1/4\n",
      "2017-08-26 11:22:29,234 * INFO * [53469] /ebio/abt3_projects/methanogen_host_evo/SIPSim_pt2/data/bac_genome1147/atomIncorp_taxaIncorp/0/25/1 Finished with 0\n",
      "2017-08-26 11:22:29,244 * INFO * [55565] Started ./SIPSimRun_cMtx.sh in /ebio/abt3_projects/methanogen_host_evo/SIPSim_pt2/data/bac_genome1147/atomIncorp_taxaIncorp/15/1/5\n",
      "2017-08-26 11:22:30,132 * INFO * [53465] /ebio/abt3_projects/methanogen_host_evo/SIPSim_pt2/data/bac_genome1147/atomIncorp_taxaIncorp/0/10/10 Finished with 0\n",
      "2017-08-26 11:22:30,139 * INFO * [55617] Started ./SIPSimRun_cMtx.sh in /ebio/abt3_projects/methanogen_host_evo/SIPSim_pt2/data/bac_genome1147/atomIncorp_taxaIncorp/15/1/6\n",
      "2017-08-26 11:22:30,867 * INFO * [53592] /ebio/abt3_projects/methanogen_host_evo/SIPSim_pt2/data/bac_genome1147/atomIncorp_taxaIncorp/0/25/7 Finished with 0\n",
      "2017-08-26 11:22:30,876 * INFO * [55684] Started ./SIPSimRun_cMtx.sh in /ebio/abt3_projects/methanogen_host_evo/SIPSim_pt2/data/bac_genome1147/atomIncorp_taxaIncorp/15/1/7\n",
      "2017-08-26 11:22:32,167 * INFO * [53682] /ebio/abt3_projects/methanogen_host_evo/SIPSim_pt2/data/bac_genome1147/atomIncorp_taxaIncorp/0/25/9 Finished with 0\n",
      "2017-08-26 11:22:32,176 * INFO * [55723] Started ./SIPSimRun_cMtx.sh in /ebio/abt3_projects/methanogen_host_evo/SIPSim_pt2/data/bac_genome1147/atomIncorp_taxaIncorp/15/1/8\n",
      "2017-08-26 11:22:32,342 * INFO * [53539] /ebio/abt3_projects/methanogen_host_evo/SIPSim_pt2/data/bac_genome1147/atomIncorp_taxaIncorp/0/25/6 Finished with 0\n",
      "2017-08-26 11:22:32,351 * INFO * [55731] Started ./SIPSimRun_cMtx.sh in /ebio/abt3_projects/methanogen_host_evo/SIPSim_pt2/data/bac_genome1147/atomIncorp_taxaIncorp/15/1/9\n",
      "2017-08-26 11:22:34,374 * INFO * [53746] /ebio/abt3_projects/methanogen_host_evo/SIPSim_pt2/data/bac_genome1147/atomIncorp_taxaIncorp/0/25/10 Finished with 0\n",
      "2017-08-26 11:22:34,380 * INFO * [55860] Started ./SIPSimRun_cMtx.sh in /ebio/abt3_projects/methanogen_host_evo/SIPSim_pt2/data/bac_genome1147/atomIncorp_taxaIncorp/15/1/10\n",
      "2017-08-26 11:23:08,044 * INFO * [55133] /ebio/abt3_projects/methanogen_host_evo/SIPSim_pt2/data/bac_genome1147/atomIncorp_taxaIncorp/0/50/1 Finished with 0\n",
      "2017-08-26 11:23:08,052 * INFO * [56908] Started ./SIPSimRun_cMtx.sh in /ebio/abt3_projects/methanogen_host_evo/SIPSim_pt2/data/bac_genome1147/atomIncorp_taxaIncorp/15/5/1\n",
      "2017-08-26 11:23:08,420 * INFO * [55151] /ebio/abt3_projects/methanogen_host_evo/SIPSim_pt2/data/bac_genome1147/atomIncorp_taxaIncorp/0/50/2 Finished with 0\n",
      "2017-08-26 11:23:08,427 * INFO * [56929] Started ./SIPSimRun_cMtx.sh in /ebio/abt3_projects/methanogen_host_evo/SIPSim_pt2/data/bac_genome1147/atomIncorp_taxaIncorp/15/5/2\n",
      "2017-08-26 11:23:09,075 * INFO * [55211] /ebio/abt3_projects/methanogen_host_evo/SIPSim_pt2/data/bac_genome1147/atomIncorp_taxaIncorp/0/50/4 Finished with 0\n",
      "2017-08-26 11:23:09,084 * INFO * [56941] Started ./SIPSimRun_cMtx.sh in /ebio/abt3_projects/methanogen_host_evo/SIPSim_pt2/data/bac_genome1147/atomIncorp_taxaIncorp/15/5/3\n",
      "2017-08-26 11:23:12,889 * INFO * [55197] /ebio/abt3_projects/methanogen_host_evo/SIPSim_pt2/data/bac_genome1147/atomIncorp_taxaIncorp/0/50/3 Finished with 0\n",
      "2017-08-26 11:23:12,900 * INFO * [57017] Started ./SIPSimRun_cMtx.sh in /ebio/abt3_projects/methanogen_host_evo/SIPSim_pt2/data/bac_genome1147/atomIncorp_taxaIncorp/15/5/4\n",
      "2017-08-26 11:23:14,407 * INFO * [55298] /ebio/abt3_projects/methanogen_host_evo/SIPSim_pt2/data/bac_genome1147/atomIncorp_taxaIncorp/0/50/7 Finished with 0\n",
      "2017-08-26 11:23:14,413 * INFO * [57035] Started ./SIPSimRun_cMtx.sh in /ebio/abt3_projects/methanogen_host_evo/SIPSim_pt2/data/bac_genome1147/atomIncorp_taxaIncorp/15/5/5\n",
      "2017-08-26 11:23:14,873 * INFO * [55217] /ebio/abt3_projects/methanogen_host_evo/SIPSim_pt2/data/bac_genome1147/atomIncorp_taxaIncorp/0/50/5 Finished with 0\n",
      "2017-08-26 11:23:14,881 * INFO * [57057] Started ./SIPSimRun_cMtx.sh in /ebio/abt3_projects/methanogen_host_evo/SIPSim_pt2/data/bac_genome1147/atomIncorp_taxaIncorp/15/5/6\n",
      "2017-08-26 11:23:15,848 * INFO * [55306] /ebio/abt3_projects/methanogen_host_evo/SIPSim_pt2/data/bac_genome1147/atomIncorp_taxaIncorp/0/50/8 Finished with 0\n",
      "2017-08-26 11:23:15,861 * INFO * [57062] Started ./SIPSimRun_cMtx.sh in /ebio/abt3_projects/methanogen_host_evo/SIPSim_pt2/data/bac_genome1147/atomIncorp_taxaIncorp/15/5/7\n",
      "2017-08-26 11:23:15,923 * INFO * [55422] /ebio/abt3_projects/methanogen_host_evo/SIPSim_pt2/data/bac_genome1147/atomIncorp_taxaIncorp/15/1/2 Finished with 0\n",
      "2017-08-26 11:23:15,932 * INFO * [57066] Started ./SIPSimRun_cMtx.sh in /ebio/abt3_projects/methanogen_host_evo/SIPSim_pt2/data/bac_genome1147/atomIncorp_taxaIncorp/15/5/8\n",
      "2017-08-26 11:23:16,032 * INFO * [55244] /ebio/abt3_projects/methanogen_host_evo/SIPSim_pt2/data/bac_genome1147/atomIncorp_taxaIncorp/0/50/6 Finished with 0\n",
      "2017-08-26 11:23:16,044 * INFO * [57078] Started ./SIPSimRun_cMtx.sh in /ebio/abt3_projects/methanogen_host_evo/SIPSim_pt2/data/bac_genome1147/atomIncorp_taxaIncorp/15/5/9\n",
      "2017-08-26 11:23:16,700 * INFO * [55465] /ebio/abt3_projects/methanogen_host_evo/SIPSim_pt2/data/bac_genome1147/atomIncorp_taxaIncorp/15/1/3 Finished with 0\n",
      "2017-08-26 11:23:16,710 * INFO * [57098] Started ./SIPSimRun_cMtx.sh in /ebio/abt3_projects/methanogen_host_evo/SIPSim_pt2/data/bac_genome1147/atomIncorp_taxaIncorp/15/5/10\n",
      "2017-08-26 11:23:17,787 * INFO * [55363] /ebio/abt3_projects/methanogen_host"
     ]
    },
    {
     "data": {
      "text/html": [
       "<b>limit_output extension: Maximum message size of 20000 exceeded with 99183 characters</b>"
      ]
     },
     "metadata": {},
     "output_type": "display_data"
    }
   ],
   "source": [
    "%%bash -s $workDir $bashFileTmp $buildDir\n",
    "source activate py2_ley0.4\n",
    "cd $1\n",
    "\n",
    "nestrun --template-file $2 -d $3 --log-file cMtx.log -j 20"
   ]
  },
  {
   "cell_type": "markdown",
   "metadata": {},
   "source": [
    "### Aggregating confusion matrices"
   ]
  },
  {
   "cell_type": "code",
   "execution_count": 57,
   "metadata": {
    "ExecuteTime": {
     "end_time": "2017-08-26T11:39:38.820765",
     "start_time": "2017-08-26T11:34:26.850376"
    },
    "collapsed": true
   },
   "outputs": [],
   "source": [
    "def agg_cMtx(prefix):\n",
    "    # all data\n",
    "    x = prefix + '-cMtx_data.txt'\n",
    "    !nestagg delim \\\n",
    "       -d $buildDir \\\n",
    "       -k percIncorp,percTaxa,rep \\\n",
    "       -o $x \\\n",
    "       --tab \\\n",
    "       $x\n",
    "\n",
    "    # overall\n",
    "    x = prefix + '-cMtx_overall.txt'\n",
    "    !nestagg delim \\\n",
    "        -d $buildDir \\\n",
    "        -k percIncorp,percTaxa,rep \\\n",
    "        -o $x \\\n",
    "        --tab \\\n",
    "        $x\n",
    "\n",
    "    # by class\n",
    "    x = prefix + '-cMtx_byClass.txt'\n",
    "    !nestagg delim \\\n",
    "        -d $buildDir \\\n",
    "        -k percIncorp,percTaxa,rep \\\n",
    "        -o $x \\\n",
    "        --tab \\\n",
    "        $x\n",
    "        \n",
    "agg_cMtx('DESeq2')\n",
    "agg_cMtx('DESeq2_multi')\n",
    "agg_cMtx('qSIP') \n",
    "agg_cMtx('heavyM1')\n",
    "agg_cMtx('heavyM2')\n",
    "agg_cMtx('heavyM3')\n",
    "agg_cMtx('heavyM4')"
   ]
  },
  {
   "cell_type": "code",
   "execution_count": 58,
   "metadata": {
    "ExecuteTime": {
     "end_time": "2017-08-26T11:39:40.080749",
     "start_time": "2017-08-26T11:39:38.822876"
    },
    "collapsed": true
   },
   "outputs": [],
   "source": [
    "%pushmsg \"atomIncorp_taxaIncorp complete!\""
   ]
  },
  {
   "cell_type": "markdown",
   "metadata": {},
   "source": [
    "# --End of simulation--"
   ]
  },
  {
   "cell_type": "markdown",
   "metadata": {},
   "source": [
    "***"
   ]
  },
  {
   "cell_type": "markdown",
   "metadata": {},
   "source": [
    "# Results"
   ]
  },
  {
   "cell_type": "code",
   "execution_count": 59,
   "metadata": {
    "ExecuteTime": {
     "end_time": "2017-08-26T11:39:40.092477",
     "start_time": "2017-08-26T11:39:40.082861"
    }
   },
   "outputs": [
    {
     "data": {
      "text/plain": [
       "['/ebio/abt3_projects/methanogen_host_evo/SIPSim_pt2/data/bac_genome1147/atomIncorp_taxaIncorp/DESeq2-cMtx_byClass.txt',\n",
       " '/ebio/abt3_projects/methanogen_host_evo/SIPSim_pt2/data/bac_genome1147/atomIncorp_taxaIncorp/DESeq2_multi-cMtx_byClass.txt',\n",
       " '/ebio/abt3_projects/methanogen_host_evo/SIPSim_pt2/data/bac_genome1147/atomIncorp_taxaIncorp/qSIP-cMtx_byClass.txt',\n",
       " '/ebio/abt3_projects/methanogen_host_evo/SIPSim_pt2/data/bac_genome1147/atomIncorp_taxaIncorp/heavy-cMtx_byClass.txt',\n",
       " '/ebio/abt3_projects/methanogen_host_evo/SIPSim_pt2/data/bac_genome1147/atomIncorp_taxaIncorp/heavyM1-cMtx_byClass.txt',\n",
       " '/ebio/abt3_projects/methanogen_host_evo/SIPSim_pt2/data/bac_genome1147/atomIncorp_taxaIncorp/heavyM2-cMtx_byClass.txt',\n",
       " '/ebio/abt3_projects/methanogen_host_evo/SIPSim_pt2/data/bac_genome1147/atomIncorp_taxaIncorp/heavyM3-cMtx_byClass.txt',\n",
       " '/ebio/abt3_projects/methanogen_host_evo/SIPSim_pt2/data/bac_genome1147/atomIncorp_taxaIncorp/heavyM4-cMtx_byClass.txt']"
      ]
     },
     "execution_count": 59,
     "metadata": {},
     "output_type": "execute_result"
    }
   ],
   "source": [
    "F = os.path.join(buildDir, '*-cMtx_byClass.txt')\n",
    "files = glob.glob(F)\n",
    "files"
   ]
  },
  {
   "cell_type": "code",
   "execution_count": 60,
   "metadata": {
    "ExecuteTime": {
     "end_time": "2017-08-26T11:40:02.048819",
     "start_time": "2017-08-26T11:39:40.094449"
    }
   },
   "outputs": [
    {
     "name": "stdout",
     "output_type": "stream",
     "text": [
      "2400\r\n"
     ]
    }
   ],
   "source": [
    "# checking for errors\n",
    "!find $buildDir -name \"*log\" | wc -l\n",
    "!find $buildDir -name \"*log\" | xargs grep -i error"
   ]
  },
  {
   "cell_type": "code",
   "execution_count": null,
   "metadata": {
    "collapsed": true
   },
   "outputs": [],
   "source": []
  }
 ],
 "metadata": {
  "kernelspec": {
   "display_name": "Python [conda env:py2_ley0.4]",
   "language": "python",
   "name": "conda-env-py2_ley0.4-py"
  },
  "language_info": {
   "codemirror_mode": {
    "name": "ipython",
    "version": 2
   },
   "file_extension": ".py",
   "mimetype": "text/x-python",
   "name": "python",
   "nbconvert_exporter": "python",
   "pygments_lexer": "ipython2",
   "version": "2.7.12"
  },
  "toc": {
   "colors": {
    "hover_highlight": "#DAA520",
    "running_highlight": "#FF0000",
    "selected_highlight": "#FFD700"
   },
   "moveMenuLeft": true,
   "nav_menu": {
    "height": "354px",
    "width": "252px"
   },
   "navigate_menu": true,
   "number_sections": true,
   "sideBar": true,
   "threshold": 4,
   "toc_cell": false,
   "toc_position": {
    "height": "789px",
    "left": "0px",
    "right": "1381px",
    "top": "106px",
    "width": "212px"
   },
   "toc_section_display": "block",
   "toc_window_display": true
  }
 },
 "nbformat": 4,
 "nbformat_minor": 2
}
