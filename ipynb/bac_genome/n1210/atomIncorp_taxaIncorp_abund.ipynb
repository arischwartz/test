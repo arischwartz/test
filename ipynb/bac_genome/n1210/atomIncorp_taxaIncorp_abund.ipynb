{
 "cells": [
  {
   "cell_type": "markdown",
   "metadata": {},
   "source": [
    "## Accuracy as a function taxon abundance\n",
    "\n",
    "### Variable parameters:\n",
    "\n",
    "* Partition communities into 'dominant' and 'rare' subsets\n",
    "  * __dominant/rare cutoff: 1% relative abundance?__\n",
    "* Assess sensitivity & specificity for each subset\n",
    "* __Note:__ \n",
    "  * Much less time to perform if using data from past simulation run datasets\n",
    "\n",
    "### Analysis:\n",
    "\n",
    "* Sup Figures:\n",
    "  * Same as above simulation runs, but split into 'dominant' vs 'rare'"
   ]
  },
  {
   "cell_type": "markdown",
   "metadata": {},
   "source": [
    "# User variables"
   ]
  },
  {
   "cell_type": "code",
   "execution_count": 1,
   "metadata": {
    "collapsed": true
   },
   "outputs": [],
   "source": [
    "workDir = '/home/nick/notebook/SIPSim/dev/bac_genome1210/'\n",
    "simDir = os.path.join(workDir, 'atomIncorp_taxaIncorp')\n",
    "buildDir = os.path.join(workDir, 'atomIncorp_taxaIncorp_abund')\n",
    "R_dir = '/home/nick/notebook/SIPSim/lib/R/'"
   ]
  },
  {
   "cell_type": "markdown",
   "metadata": {},
   "source": [
    "# Init"
   ]
  },
  {
   "cell_type": "code",
   "execution_count": 2,
   "metadata": {
    "collapsed": true
   },
   "outputs": [],
   "source": [
    "import glob\n",
    "from os.path import abspath\n",
    "import nestly\n",
    "from IPython.display import Image, display"
   ]
  },
  {
   "cell_type": "code",
   "execution_count": 3,
   "metadata": {
    "collapsed": true
   },
   "outputs": [],
   "source": [
    "%load_ext rpy2.ipython"
   ]
  },
  {
   "cell_type": "code",
   "execution_count": 4,
   "metadata": {
    "collapsed": false
   },
   "outputs": [
    {
     "data": {
      "text/plain": [
       "\n",
       "Attaching package: ‘dplyr’\n",
       "\n",
       "The following objects are masked from ‘package:stats’:\n",
       "\n",
       "    filter, lag\n",
       "\n",
       "The following objects are masked from ‘package:base’:\n",
       "\n",
       "    intersect, setdiff, setequal, union\n",
       "\n",
       "Loading required package: grid\n"
      ]
     },
     "metadata": {},
     "output_type": "display_data"
    }
   ],
   "source": [
    "%%R\n",
    "library(ggplot2)\n",
    "library(dplyr)\n",
    "library(tidyr)\n",
    "library(gridExtra)"
   ]
  },
  {
   "cell_type": "code",
   "execution_count": 5,
   "metadata": {
    "collapsed": true
   },
   "outputs": [],
   "source": [
    "if not os.path.isdir(buildDir):\n",
    "    os.makedirs(buildDir)"
   ]
  },
  {
   "cell_type": "markdown",
   "metadata": {},
   "source": [
    "# Analyzing accuracy info"
   ]
  },
  {
   "cell_type": "markdown",
   "metadata": {},
   "source": [
    "# SANDBOX"
   ]
  },
  {
   "cell_type": "code",
   "execution_count": 7,
   "metadata": {
    "collapsed": false
   },
   "outputs": [],
   "source": [
    "%%R -i workDir\n",
    "setwd(workDir)\n",
    "\n",
    "deseq.res = readRDS('./validation/OTU_n2_abs1e10_sub20000_DESeq2')"
   ]
  },
  {
   "cell_type": "code",
   "execution_count": 17,
   "metadata": {
    "collapsed": false
   },
   "outputs": [
    {
     "data": {
      "text/plain": [
       "Source: local data frame [6 x 2]\n",
       "\n",
       "                            taxon_name mean_rel_abund_perc\n",
       "1       Acaryochloris_marina_MBIC11017         0.089773401\n",
       "2       Acetobacterium_woodii_DSM_1030         0.013390418\n",
       "3 Acetobacter_pasteurianus_IFO_3283-12         0.003064792\n",
       "4    Acetohalobium_arabaticum_DSM_5501         0.058114601\n",
       "5         Acholeplasma_laidlawii_PG-8A         0.004121299\n",
       "6        Achromobacter_xylosoxidans_A8         0.024560238\n"
      ]
     },
     "metadata": {},
     "output_type": "display_data"
    }
   ],
   "source": [
    "%%R\n",
    "\n",
    "comm = read.delim('./validation/comm.txt', sep='\\t')\n",
    "comm.s = comm %>%\n",
    "    group_by(taxon_name) %>%\n",
    "    summarize(mean_rel_abund_perc = mean(rel_abund_perc))\n",
    "comm.s %>% head"
   ]
  },
  {
   "cell_type": "code",
   "execution_count": 21,
   "metadata": {
    "collapsed": false
   },
   "outputs": [
    {
     "data": {
      "text/plain": [
       "    baseMean log2FoldChange    lfcSE      stat    pvalue padj         p padj.BH\n",
       "1  0.4745836      0.9200834 1.394946 0.4803651 0.3154839    1 0.3154839       1\n",
       "2  3.2902741     -4.6553395 1.275818 0.0000000 0.9999397    1 0.9999397       1\n",
       "3  4.8031896     -1.0010777 1.176846 0.0000000 0.8561264    1 0.8561264       1\n",
       "4  0.7088409      0.5138864 1.270017 0.2077818 0.4176997    1 0.4176997       1\n",
       "5 28.0436962     -1.2126332 1.274566 0.0000000 0.8744236    1 0.8744236       1\n",
       "6 29.5094790      0.5352219 1.697529 0.1680218 0.4332831    1 0.4332831       1\n",
       "                         taxon_name mean_rel_abund_perc dom_rare\n",
       "1 Acetohalobium_arabaticum_DSM_5501          0.05811460    FALSE\n",
       "2       Acidovorax_citrulli_AAC00-1          0.07152763    FALSE\n",
       "3            Acidovorax_ebreus_TPSY          0.14267760    FALSE\n",
       "4      Aeromonas_hydrophila_AL09-71          0.02364744    FALSE\n",
       "5  Alkalilimnicola_ehrlichii_MLHE-1          0.77596664    FALSE\n",
       "6    Alkaliphilus_oremlandii_OhILAs          1.29218348     TRUE\n"
      ]
     },
     "metadata": {},
     "output_type": "display_data"
    }
   ],
   "source": [
    "%%R\n",
    "tmp = deseq.res %>%\n",
    "    as.data.frame() \n",
    "tmp$taxon_name = rownames(tmp)\n",
    "\n",
    "tmp = inner_join(tmp, comm.s, c('taxon_name' = 'taxon_name'))\n",
    "tmp = tmp %>%\n",
    "    mutate(dom_rare = mean_rel_abund_perc > 1)\n",
    "\n",
    "tmp %>% head"
   ]
  },
  {
   "cell_type": "code",
   "execution_count": 22,
   "metadata": {
    "collapsed": false
   },
   "outputs": [
    {
     "data": {
      "text/plain": [
       "[1] 215\n",
       "[1] 17\n"
      ]
     },
     "metadata": {},
     "output_type": "display_data"
    }
   ],
   "source": [
    "%%R\n",
    "tmp %>% filter(dom_rare == FALSE) %>% nrow %>% print\n",
    "tmp %>% filter(dom_rare == TRUE) %>% nrow %>% print"
   ]
  },
  {
   "cell_type": "code",
   "execution_count": null,
   "metadata": {
    "collapsed": true
   },
   "outputs": [],
   "source": []
  }
 ],
 "metadata": {
  "kernelspec": {
   "display_name": "Python 2",
   "language": "python",
   "name": "python2"
  },
  "language_info": {
   "codemirror_mode": {
    "name": "ipython",
    "version": 2
   },
   "file_extension": ".py",
   "mimetype": "text/x-python",
   "name": "python",
   "nbconvert_exporter": "python",
   "pygments_lexer": "ipython2",
   "version": "2.7.9"
  }
 },
 "nbformat": 4,
 "nbformat_minor": 0
}
