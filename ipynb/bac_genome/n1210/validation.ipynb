{
 "cells": [
  {
   "cell_type": "markdown",
   "metadata": {},
   "source": [
    "# Goal\n",
    "\n",
    "* A basic, full run of the SIPSim pipeline with the whole dataset to see:\n",
    "  * Does it work?\n",
    "  * Does the output as each stage look OK?"
   ]
  },
  {
   "cell_type": "markdown",
   "metadata": {},
   "source": [
    "# Setting variables"
   ]
  },
  {
   "cell_type": "code",
   "execution_count": 5,
   "metadata": {
    "collapsed": true
   },
   "outputs": [],
   "source": [
    "workDir = '/home/nick/notebook/SIPSim/dev/bac_genome1210/validation/'\n",
    "genomeDir = '/home/nick/notebook/SIPSim/dev/bac_genome1210/genomes/'\n",
    "R_dir = '/home/nick/notebook/SIPSim/lib/R/'"
   ]
  },
  {
   "cell_type": "markdown",
   "metadata": {},
   "source": [
    "# Init"
   ]
  },
  {
   "cell_type": "code",
   "execution_count": 2,
   "metadata": {
    "collapsed": true
   },
   "outputs": [],
   "source": [
    "import glob\n",
    "from os.path import abspath\n",
    "import nestly"
   ]
  },
  {
   "cell_type": "code",
   "execution_count": 3,
   "metadata": {
    "collapsed": true
   },
   "outputs": [],
   "source": [
    "%load_ext rpy2.ipython"
   ]
  },
  {
   "cell_type": "code",
   "execution_count": 4,
   "metadata": {
    "collapsed": false
   },
   "outputs": [
    {
     "data": {
      "text/plain": [
       "\n",
       "Attaching package: ‘dplyr’\n",
       "\n",
       "The following objects are masked from ‘package:stats’:\n",
       "\n",
       "    filter, lag\n",
       "\n",
       "The following objects are masked from ‘package:base’:\n",
       "\n",
       "    intersect, setdiff, setequal, union\n",
       "\n",
       "Loading required package: grid\n"
      ]
     },
     "metadata": {},
     "output_type": "display_data"
    }
   ],
   "source": [
    "%%R\n",
    "library(ggplot2)\n",
    "library(dplyr)\n",
    "library(tidyr)\n",
    "library(gridExtra)"
   ]
  },
  {
   "cell_type": "code",
   "execution_count": 6,
   "metadata": {
    "collapsed": true
   },
   "outputs": [],
   "source": [
    "if not os.path.isdir(workDir):\n",
    "    os.makedirs(workDir)"
   ]
  },
  {
   "cell_type": "markdown",
   "metadata": {},
   "source": [
    "# Simulating fragments"
   ]
  },
  {
   "cell_type": "code",
   "execution_count": null,
   "metadata": {
    "collapsed": false
   },
   "outputs": [
    {
     "name": "stdout",
     "output_type": "stream",
     "text": [
      "Processing: \"Kangiella_koreensis_DSM_16069\"\n",
      "  Genome name: Kangiella_koreensis_DSM_16069\n",
      "  Genome length (bp): 2852073\n",
      "  Number of amplicons: 2\n",
      "  Number of fragments simulated: 10000\n",
      "Processing: \"Polymorphum_gilvum_SL003B-26A1\"\n",
      "  Genome name: Polymorphum_gilvum_SL003B-26A1\n",
      "  Genome length (bp): 4649365\n",
      "  Number of amplicons: 2\n",
      "  Number of fragments simulated: 10000\n",
      "Processing: \"_Cellvibrio_gilvus_ATCC_13127\"\n",
      "  Genome name: _Cellvibrio_gilvus_ATCC_13127\n",
      "  Genome length (bp): 3526441\n",
      "  Number of amplicons: 0\n",
      "  Number of fragments simulated: 0\n",
      "Processing: \"Croceibacter_atlanticus_HTCC2559\"\n",
      "  Genome name: Croceibacter_atlanticus_HTCC2559\n",
      "  Genome length (bp): 2952962\n",
      "  Number of amplicons: 2\n",
      "  Number of fragments simulated: 10000\n",
      "Processing: \"Sulfuricurvum_kujiense_DSM_16994\"\n",
      "  Genome name: Sulfuricurvum_kujiense_DSM_16994\n",
      "  Genome length (bp): 2574824\n",
      "  Number of amplicons: 3\n",
      "  Number of fragments simulated: 10000\n",
      "Processing: \"Eubacterium_rectale_ATCC_33656\"\n",
      "  Genome name: Eubacterium_rectale_ATCC_33656\n",
      "  Genome length (bp): 3449685\n",
      "  Number of amplicons: 5\n",
      "  Number of fragments simulated: 10000\n",
      "Processing: \"Nocardia_nova_SH22a\"\n",
      "  Genome name: Nocardia_nova_SH22a\n",
      "  Genome length (bp): 8348532\n",
      "  Number of amplicons: 3\n",
      "  Number of fragments simulated: 10000\n",
      "Processing: \"Gordonia_polyisoprenivorans_VH2\"\n",
      "  Genome name: Gordonia_polyisoprenivorans_VH2\n",
      "  Genome length (bp): 5669805\n",
      "  Number of amplicons: 3\n",
      "  Number of fragments simulated: 10000\n",
      "Processing: \"Aeromonas_salmonicida_subsp_salmonicida_A449\"\n",
      "  Genome name: Aeromonas_salmonicida_subsp_salmonicida_A449\n",
      "  Genome length (bp): 4702402\n",
      "  Number of amplicons: 9\n",
      "  Number of fragments simulated: 10000\n",
      "Processing: \"Thermodesulfobium_narugense_DSM_14796\"\n",
      "  Genome name: Thermodesulfobium_narugense_DSM_14796\n",
      "  Genome length (bp): 1898865\n",
      "  Number of amplicons: 2\n",
      "  Number of fragments simulated: 10000\n",
      "Processing: \"Brevibacillus_brevis_NBRC_100599\"\n",
      "  Genome name: Brevibacillus_brevis_NBRC_100599\n",
      "  Genome length (bp): 6296436\n",
      "  Number of amplicons: 15\n",
      "  Number of fragments simulated: 10000\n",
      "Processing: \"Spiroplasma_culicicola_AES-1\"\n",
      "  Genome name: Spiroplasma_culicicola_AES-1\n",
      "  Genome length (bp): 1175131\n",
      "  Number of amplicons: 1\n",
      "  Number of fragments simulated: 10000\n",
      "Processing: \"Isoptericola_variabilis_225\"\n"
     ]
    }
   ],
   "source": [
    "!cd $workDir; \\\n",
    "    SIPSim fragments \\\n",
    "        $genomeDir/genome_index.txt \\\n",
    "        --fp $genomeDir \\\n",
    "        --fr ../../515F-806R.fna \\\n",
    "        --fld skewed-normal,9000,2500,-5 \\\n",
    "        --flr None,None \\\n",
    "        --nf 10000 \\\n",
    "        --debug \\\n",
    "        > ampFrag.pkl\n",
    "        #2> ampFrags.log \\\n",
    "        "
   ]
  },
  {
   "cell_type": "markdown",
   "metadata": {},
   "source": [
    "# Converting fragments to kde object"
   ]
  },
  {
   "cell_type": "code",
   "execution_count": null,
   "metadata": {
    "collapsed": true
   },
   "outputs": [],
   "source": []
  },
  {
   "cell_type": "markdown",
   "metadata": {},
   "source": [
    "### OLD: nestly pipeline log"
   ]
  },
  {
   "cell_type": "code",
   "execution_count": null,
   "metadata": {
    "collapsed": true
   },
   "outputs": [],
   "source": [
    "%%writefile $bashFile\n",
    "#!/bin/bash\n",
    "\n",
    "# simulating fragments\n",
    "SIPSim fragments \\\n",
    "    {genome_index} \\\n",
    "    --fp {genome_dir} \\\n",
    "    --fr {primers} \\\n",
    "    --fld skewed-normal,9000,2500,-5 \\\n",
    "    --flr None,None \\\n",
    "    --nf 10000 \\\n",
    "    --np {np} \\\n",
    "    2> {fileName}.log \\\n",
    "    > {fileName}.pkl\n",
    "    \n",
    "# converting to kde object\n",
    "SIPSim fragment_kde \\\n",
    "    {fileName}.pkl \\\n",
    "    > {fileName}_kde.pkl\n",
    "    \n",
    "# adding diffusion\n",
    "SIPSim diffusion \\\n",
    "    {fileName}_kde.pkl \\\n",
    "    --np {np} \\\n",
    "    > {fileName}_kde_dif.pkl\n",
    "    \n",
    "# creating a community file\n",
    "SIPSim gradientComms \\\n",
    "    {genome_index} \\\n",
    "    --n_comm 2 \\\n",
    "    > comm.txt\n",
    "\n",
    "# making incorp file\n",
    "SIPSim incorpConfigExample \\\n",
    "  --percTaxa {percTaxa} \\\n",
    "  --percIncorpUnif {percIncorp} \\\n",
    "  > {percTaxa}_{percIncorp}.config\n",
    "\n",
    "# adding isotope incorporation to BD distribution\n",
    "SIPSim isoIncorp \\\n",
    "    {fileName}_kde_dif.pkl \\\n",
    "    {percTaxa}_{percIncorp}.config \\\n",
    "    --comm comm.txt \\\n",
    "    --np {np} \\\n",
    "    > {fileName}_kde_dif_incorp.pkl\n",
    " \n",
    "# calculating BD shift from isotope incorporation\n",
    "SIPSim BD_shift \\\n",
    "    {fileName}_kde_dif.pkl \\\n",
    "    {fileName}_kde_dif_incorp.pkl \\\n",
    "    --np {np} \\\n",
    "    > {fileName}_kde_dif_incorp_BD-shift.txt\n",
    "       \n",
    "# simulating gradient fractions\n",
    "SIPSim fractions \\\n",
    "    comm.txt \\\n",
    "    > fracs.txt\n",
    "\n",
    "# simulating an OTU table\n",
    "SIPSim OTU_table \\\n",
    "    {fileName}_kde_dif_incorp.pkl \\\n",
    "    comm.txt \\\n",
    "    fracs.txt \\\n",
    "    --abs {abs} \\\n",
    "    --np {np} \\\n",
    "    > OTU_abs{abs}.txt\n",
    "    \n",
    "# subsampling from the OTU table (simulating sequencing of the DNA pool)\n",
    "SIPSim OTU_subsample \\\n",
    "    --dist_params low:{subsample},high:{subsample} \\\n",
    "    OTU_abs{abs}.txt \\\n",
    "    > OTU_n2_abs{abs}_sub{subsample}.txt\n",
    "\n",
    "# making a wide table\n",
    "SIPSim OTU_wideLong -w \\\n",
    "    OTU_n2_abs{abs}_sub{subsample}.txt \\\n",
    "    > OTU_n2_abs{abs}_sub{subsample}_w.txt\n",
    "    \n",
    "# making metadata (phyloseq: sample_data)\n",
    "SIPSim OTU_sampleData \\\n",
    "    OTU_n2_abs{abs}_sub{subsample}.txt \\\n",
    "    > OTU_n2_abs{abs}_sub{subsample}_meta.txt\n",
    "  \n",
    "#-- R analysis --#\n",
    "export PATH={R_dir}:$PATH\n",
    "# plotting taxon abundances\n",
    "OTU_taxonAbund.r \\\n",
    "    OTU_n2_abs{abs}_sub{subsample}.txt \\\n",
    "    -r {topTaxaToPlot} \\\n",
    "    -o OTU_n2_abs{abs}_sub{subsample} \n",
    "# running DeSeq2 and making confusion matrix on predicting incorporators\n",
    "## making phyloseq object from OTU table\n",
    "phyloseq_make.r \\\n",
    "    OTU_n2_abs{abs}_sub{subsample}_w.txt \\\n",
    "    -s OTU_n2_abs{abs}_sub{subsample}_meta.txt \\\n",
    "    > OTU_n2_abs{abs}_sub{subsample}.physeq\n",
    "## filtering phyloseq object to just taxa/samples of interest\n",
    "phyloseq_edit.r \\\n",
    "    OTU_n2_abs{abs}_sub{subsample}.physeq \\\n",
    "    --BD_min {BD_min} --BD_max {BD_max} \\\n",
    "    > OTU_n2_abs{abs}_sub{subsample}_filt.physeq\n",
    "## making ordination\n",
    "phyloseq_ordination.r \\\n",
    "    OTU_n2_abs{abs}_sub{subsample}_filt.physeq \\\n",
    "    OTU_n2_abs{abs}_sub{subsample}_bray-NMDS.pdf\n",
    "## DESeq2\n",
    "phyloseq_DESeq2.r \\\n",
    "    OTU_n2_abs{abs}_sub{subsample}_filt.physeq \\\n",
    "    > OTU_n2_abs{abs}_sub{subsample}_DESeq2\n",
    "## Confusion matrix\n",
    "DESeq2_confuseMtx.r \\\n",
    "    {fileName}_kde_dif_incorp_BD-shift.txt \\\n",
    "    OTU_n2_abs{abs}_sub{subsample}_DESeq2 \\\n",
    "    --padj {padj} --log2neg {log2neg} "
   ]
  }
 ],
 "metadata": {
  "kernelspec": {
   "display_name": "Python 2",
   "language": "python",
   "name": "python2"
  },
  "language_info": {
   "codemirror_mode": {
    "name": "ipython",
    "version": 2
   },
   "file_extension": ".py",
   "mimetype": "text/x-python",
   "name": "python",
   "nbconvert_exporter": "python",
   "pygments_lexer": "ipython2",
   "version": "2.7.9"
  }
 },
 "nbformat": 4,
 "nbformat_minor": 0
}
