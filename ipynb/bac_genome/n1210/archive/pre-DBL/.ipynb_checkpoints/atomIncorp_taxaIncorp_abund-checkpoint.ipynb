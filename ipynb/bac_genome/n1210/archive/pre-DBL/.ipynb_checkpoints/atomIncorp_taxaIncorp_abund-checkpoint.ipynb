{
 "cells": [
  {
   "cell_type": "markdown",
   "metadata": {},
   "source": [
    "## Accuracy as a function taxon abundance\n",
    "\n",
    "### Variable parameters:\n",
    "\n",
    "* Partition communities into 'dominant' and 'rare' subsets\n",
    "  * __dominant/rare cutoff: 1% relative abundance?__\n",
    "* Assess sensitivity & specificity for each subset\n",
    "* __Note:__ \n",
    "  * Much less computational time since I'm using data from past simulation run datasets\n",
    "\n",
    "### Analysis:\n",
    "\n",
    "* Sup Figures:\n",
    "  * Same as above simulation runs, but split into 'dominant' vs 'rare'"
   ]
  },
  {
   "cell_type": "markdown",
   "metadata": {},
   "source": [
    "# User variables"
   ]
  },
  {
   "cell_type": "code",
   "execution_count": 2,
   "metadata": {
    "collapsed": true
   },
   "outputs": [],
   "source": [
    "workDir = '/home/nick/notebook/SIPSim/dev/bac_genome1210/'\n",
    "sourceDir = os.path.join(workDir, 'atomIncorp_taxaIncorp')\n",
    "buildDir = os.path.join(workDir, 'atomIncorp_taxaIncorp_abund')\n",
    "R_dir = '/home/nick/notebook/SIPSim/lib/R/'"
   ]
  },
  {
   "cell_type": "markdown",
   "metadata": {},
   "source": [
    "# Init"
   ]
  },
  {
   "cell_type": "code",
   "execution_count": 3,
   "metadata": {
    "collapsed": true
   },
   "outputs": [],
   "source": [
    "import glob\n",
    "from os.path import abspath\n",
    "import nestly\n",
    "from IPython.display import Image, display"
   ]
  },
  {
   "cell_type": "code",
   "execution_count": 4,
   "metadata": {
    "collapsed": false
   },
   "outputs": [],
   "source": [
    "%load_ext rpy2.ipython"
   ]
  },
  {
   "cell_type": "code",
   "execution_count": 5,
   "metadata": {
    "collapsed": false
   },
   "outputs": [
    {
     "data": {
      "text/plain": [
       "\n",
       "Attaching package: ‘dplyr’\n",
       "\n",
       "The following objects are masked from ‘package:stats’:\n",
       "\n",
       "    filter, lag\n",
       "\n",
       "The following objects are masked from ‘package:base’:\n",
       "\n",
       "    intersect, setdiff, setequal, union\n",
       "\n",
       "Loading required package: grid\n"
      ]
     },
     "metadata": {},
     "output_type": "display_data"
    }
   ],
   "source": [
    "%%R\n",
    "library(ggplot2)\n",
    "library(dplyr)\n",
    "library(tidyr)\n",
    "library(gridExtra)"
   ]
  },
  {
   "cell_type": "code",
   "execution_count": 6,
   "metadata": {
    "collapsed": true
   },
   "outputs": [],
   "source": [
    "if not os.path.isdir(buildDir):\n",
    "    os.makedirs(buildDir)"
   ]
  },
  {
   "cell_type": "markdown",
   "metadata": {},
   "source": [
    "# Nestly"
   ]
  },
  {
   "cell_type": "code",
   "execution_count": 71,
   "metadata": {
    "collapsed": false
   },
   "outputs": [],
   "source": [
    "# building tree structure\n",
    "nest = nestly.Nest()\n",
    "\n",
    "## varying params\n",
    "#-- full run --#\n",
    "nest.add('percIncorp', [0, 25, 50, 100])\n",
    "nest.add('percTaxa', [1, 5, 10, 25, 50])\n",
    "nest.add('rep', range(1,21))\n",
    "\n",
    "## set params\n",
    "nest.add('np', [6], create_dir=False)\n",
    "nest.add('abs', ['1e9'], create_dir=False)\n",
    "nest.add('subsample_mean', [30000], create_dir=False) \n",
    "nest.add('subsample_scale', [5000], create_dir=False) \n",
    "nest.add('BD_min', [1.71], create_dir=False)\n",
    "nest.add('BD_max', [1.75], create_dir=False)\n",
    "nest.add('padj', [0.1], create_dir=False)\n",
    "nest.add('log2', [0.25], create_dir=False)\n",
    "nest.add('topTaxaToPlot', [100], create_dir=False)\n",
    "\n",
    "## input/output files\n",
    "nest.add('buildDir', [buildDir], create_dir=False)\n",
    "nest.add('sourceDir', [sourceDir], create_dir=False)\n",
    "nest.add('frag_file', ['ampFrags_kde_dif'], create_dir=False)\n",
    "nest.add('comm_file', ['comm.txt'], create_dir=False)\n",
    "nest.add('R_dir', [R_dir], create_dir=False)\n",
    "\n",
    "# building directory tree\n",
    "nest.build(buildDir)"
   ]
  },
  {
   "cell_type": "code",
   "execution_count": 72,
   "metadata": {
    "collapsed": true
   },
   "outputs": [],
   "source": [
    "bashFile = os.path.join(buildDir, 'SIPSimRun.sh')"
   ]
  },
  {
   "cell_type": "code",
   "execution_count": 73,
   "metadata": {
    "collapsed": false
   },
   "outputs": [
    {
     "name": "stdout",
     "output_type": "stream",
     "text": [
      "Overwriting /home/nick/notebook/SIPSim/dev/bac_genome1210/atomIncorp_taxaIncorp_abund/SIPSimRun.sh\n"
     ]
    }
   ],
   "source": [
    "%%writefile $bashFile\n",
    "#!/bin/bash\n",
    "\n",
    "export PATH={R_dir}:$PATH\n",
    "\n",
    "# copying DESeq files\n",
    "cp {sourceDir}/{percIncorp}/{percTaxa}/{rep}/{comm_file} .\n",
    "cp {sourceDir}/{percIncorp}/{percTaxa}/{rep}/OTU_n2_abs{abs}_sub-norm_DESeq2 .\n",
    "cp {sourceDir}/{percIncorp}/{percTaxa}/{rep}/{frag_file}_incorp_BD-shift.txt .\n",
    "\n",
    "## DESeq2\n",
    "DESeq2_rare-dominant.r \\\n",
    "    OTU_n2_abs{abs}_sub-norm_DESeq2 \\\n",
    "    {comm_file} \\\n",
    "    -o OTU_n2_abs{abs}_sub-norm_DESeq2\n",
    "    \n",
    "## Confusion matrix\n",
    "### dominant\n",
    "DESeq2_confuseMtx.r \\\n",
    "    {frag_file}_incorp_BD-shift.txt \\\n",
    "    OTU_n2_abs{abs}_sub-norm_DESeq2_dom \\\n",
    "    --padj {padj} \\\n",
    "    -o DESeq2-cMtx_dom\n",
    "### rare    \n",
    "DESeq2_confuseMtx.r \\\n",
    "    {frag_file}_incorp_BD-shift.txt \\\n",
    "    OTU_n2_abs{abs}_sub-norm_DESeq2_rare \\\n",
    "    --padj {padj} \\\n",
    "    -o DESeq2-cMtx_rare"
   ]
  },
  {
   "cell_type": "code",
   "execution_count": null,
   "metadata": {
    "collapsed": false
   },
   "outputs": [],
   "source": [
    "!chmod 775 $bashFile"
   ]
  },
  {
   "cell_type": "code",
   "execution_count": null,
   "metadata": {
    "collapsed": false
   },
   "outputs": [
    {
     "name": "stdout",
     "output_type": "stream",
     "text": [
      "2015-08-06 20:22:53,344 * INFO * Template: ./SIPSimRun.sh\n",
      "2015-08-06 20:22:53,362 * INFO * [82516] Started ./SIPSimRun.sh in atomIncorp_taxaIncorp_abund/50/50/20\n",
      "2015-08-06 20:22:53,385 * INFO * [82518] Started ./SIPSimRun.sh in atomIncorp_taxaIncorp_abund/50/50/14\n",
      "2015-08-06 20:22:53,400 * INFO * [82522] Started ./SIPSimRun.sh in atomIncorp_taxaIncorp_abund/50/50/7\n",
      "2015-08-06 20:22:53,410 * INFO * [82527] Started ./SIPSimRun.sh in atomIncorp_taxaIncorp_abund/50/50/19\n",
      "2015-08-06 20:22:53,419 * INFO * [82530] Started ./SIPSimRun.sh in atomIncorp_taxaIncorp_abund/50/50/18\n",
      "2015-08-06 20:22:53,433 * INFO * [82536] Started ./SIPSimRun.sh in atomIncorp_taxaIncorp_abund/50/50/15\n",
      "2015-08-06 20:22:53,451 * INFO * [82547] Started ./SIPSimRun.sh in atomIncorp_taxaIncorp_abund/50/50/11\n",
      "2015-08-06 20:22:53,473 * INFO * [82563] Started ./SIPSimRun.sh in atomIncorp_taxaIncorp_abund/50/50/16\n",
      "2015-08-06 20:22:53,497 * INFO * [82578] Started ./SIPSimRun.sh in atomIncorp_taxaIncorp_abund/50/50/9\n",
      "2015-08-06 20:22:53,521 * INFO * [82584] Started ./SIPSimRun.sh in atomIncorp_taxaIncorp_abund/50/50/17\n",
      "2015-08-06 20:23:46,258 * INFO * [82536] atomIncorp_taxaIncorp_abund/50/50/15 Finished with 0\n",
      "2015-08-06 20:23:46,272 * INFO * [83027] Started ./SIPSimRun.sh in atomIncorp_taxaIncorp_abund/50/50/8\n",
      "2015-08-06 20:23:46,877 * INFO * [82527] atomIncorp_taxaIncorp_abund/50/50/19 Finished with 0\n",
      "2015-08-06 20:23:46,890 * INFO * [83041] Started ./SIPSimRun.sh in atomIncorp_taxaIncorp_abund/50/50/3\n",
      "2015-08-06 20:24:01,624 * INFO * [82522] atomIncorp_taxaIncorp_abund/50/50/7 Finished with 0\n",
      "2015-08-06 20:24:01,638 * INFO * [83179] Started ./SIPSimRun.sh in atomIncorp_taxaIncorp_abund/50/50/13\n",
      "2015-08-06 20:24:02,520 * INFO * [82518] atomIncorp_taxaIncorp_abund/50/50/14 Finished with 0\n",
      "2015-08-06 20:24:02,533 * INFO * [83199] Started ./SIPSimRun.sh in atomIncorp_taxaIncorp_abund/50/50/10\n",
      "2015-08-06 20:24:06,578 * INFO * [82530] atomIncorp_taxaIncorp_abund/50/50/18 Finished with 0\n",
      "2015-08-06 20:24:06,593 * INFO * [83211] Started ./SIPSimRun.sh in atomIncorp_taxaIncorp_abund/50/50/2\n",
      "2015-08-06 20:24:12,438 * INFO * [82516] atomIncorp_taxaIncorp_abund/50/50/20 Finished with 0\n",
      "2015-08-06 20:24:12,449 * INFO * [83236] Started ./SIPSimRun.sh in atomIncorp_taxaIncorp_abund/50/50/12\n",
      "2015-08-06 20:24:12,627 * INFO * [82584] atomIncorp_taxaIncorp_abund/50/50/17 Finished with 0\n",
      "2015-08-06 20:24:12,640 * INFO * [83248] Started ./SIPSimRun.sh in atomIncorp_taxaIncorp_abund/50/50/1\n",
      "2015-08-06 20:24:15,836 * INFO * [82578] atomIncorp_taxaIncorp_abund/50/50/9 Finished with 0\n",
      "2015-08-06 20:24:15,850 * INFO * [83283] Started ./SIPSimRun.sh in atomIncorp_taxaIncorp_abund/50/50/4\n",
      "2015-08-06 20:24:21,068 * INFO * [82563] atomIncorp_taxaIncorp_abund/50/50/16 Finished with 0\n",
      "2015-08-06 20:24:21,085 * INFO * [83317] Started ./SIPSimRun.sh in atomIncorp_taxaIncorp_abund/50/50/5\n",
      "2015-08-06 20:24:29,993 * INFO * [83179] atomIncorp_taxaIncorp_abund/50/50/13 Finished with 0\n",
      "2015-08-06 20:24:30,002 * INFO * [83365] Started ./SIPSimRun.sh in atomIncorp_taxaIncorp_abund/50/50/6\n",
      "2015-08-06 20:24:31,474 * INFO * [82547] atomIncorp_taxaIncorp_abund/50/50/11 Finished with 0\n",
      "2015-08-06 20:24:31,488 * INFO * [83377] Started ./SIPSimRun.sh in atomIncorp_taxaIncorp_abund/50/25/20\n",
      "2015-08-06 20:24:33,136 * INFO * [83211] atomIncorp_taxaIncorp_abund/50/50/2 Finished with 0\n",
      "2015-08-06 20:24:33,149 * INFO * [83395] Started ./SIPSimRun.sh in atomIncorp_taxaIncorp_abund/50/25/14\n",
      "2015-08-06 20:24:43,393 * INFO * [83199] atomIncorp_taxaIncorp_abund/50/50/10 Finished with 0\n",
      "2015-08-06 20:24:43,408 * INFO * [83456] Started ./SIPSimRun.sh in atomIncorp_taxaIncorp_abund/50/25/7\n",
      "2015-08-06 20:24:50,561 * INFO * [83236] atomIncorp_taxaIncorp_abund/50/50/12 Finished with 0\n",
      "2015-08-06 20:24:50,576 * INFO * [83484] Started ./SIPSimRun.sh in atomIncorp_taxaIncorp_abund/50/25/19\n",
      "2015-08-06 20:24:58,062 * INFO * [83248] atomIncorp_taxaIncorp_abund/50/50/1 Finished with 0\n",
      "2015-08-06 20:24:58,076 * INFO * [83502] Started ./SIPSimRun.sh in atomIncorp_taxaIncorp_abund/50/25/18\n",
      "2015-08-06 20:25:07,737 * INFO * [83027] atomIncorp_taxaIncorp_abund/50/50/8 Finished with 0\n",
      "2015-08-06 20:25:07,748 * INFO * [83549] Started ./SIPSimRun.sh in atomIncorp_taxaIncorp_abund/50/25/15\n",
      "2015-08-06 20:25:11,165 * INFO * [83041] atomIncorp_taxaIncorp_abund/50/50/3 Finished with 0\n",
      "2015-08-06 20:25:11,180 * INFO * [83591] Started ./SIPSimRun.sh in atomIncorp_taxaIncorp_abund/50/25/11\n",
      "2015-08-06 20:25:25,173 * INFO * [83365] atomIncorp_taxaIncorp_abund/50/50/6 Finished with 0\n",
      "2015-08-06 20:25:25,188 * INFO * [83671] Started ./SIPSimRun.sh in atomIncorp_taxaIncorp_abund/50/25/16\n",
      "2015-08-06 20:25:25,696 * INFO * [83283] atomIncorp_taxaIncorp_abund/50/50/4 Finished with 0\n",
      "2015-08-06 20:25:25,708 * INFO * [83683] Started ./SIPSimRun.sh in atomIncorp_taxaIncorp_abund/50/25/9\n",
      "2015-08-06 20:25:30,741 * INFO * [83317] atomIncorp_taxaIncorp_abund/50/50/5 Finished with 0\n",
      "2015-08-06 20:25:30,750 * INFO * [83703] Started ./SIPSimRun.sh in atomIncorp_taxaIncorp_abund/50/25/17\n",
      "2015-08-06 20:25:36,323 * INFO * [83484] atomIncorp_taxaIncorp_abund/50/25/19 Finished with 0\n",
      "2015-08-06 20:25:36,333 * INFO * [83745] Started ./SIPSimRun.sh in atomIncorp_taxaIncorp_abund/50/25/8\n",
      "2015-08-06 20:25:56,912 * INFO * [83456] atomIncorp_taxaIncorp_abund/50/25/7 Finished with 0\n",
      "2015-08-06 20:25:56,919 * INFO * [83851] Started ./SIPSimRun.sh in atomIncorp_taxaIncorp_abund/50/25/3\n",
      "2015-08-06 20:25:57,840 * INFO * [83683] atomIncorp_taxaIncorp_abund/50/25/9 Finished with 0\n",
      "2015-08-06 20:25:57,849 * INFO * [83863] Started ./SIPSimRun.sh in atomIncorp_taxaIncorp_abund/50/25/13\n",
      "2015-08-06 20:25:58,646 * INFO * [83591] atomIncorp_taxaIncorp_abund/50/25/11 Finished with 0\n",
      "2015-08-06 20:25:58,658 * INFO * [83875] Started ./SIPSimRun.sh in atomIncorp_taxaIncorp_abund/50/25/10\n",
      "2015-08-06 20:25:59,448 * INFO * [83395] atomIncorp_taxaIncorp_abund/50/25/14 Finished with 0\n",
      "2015-08-06 20:25:59,460 * INFO * [83887] Started ./SIPSimRun.sh in atomIncorp_taxaIncorp_abund/50/25/2\n",
      "2015-08-06 20:26:06,300 * INFO * [83377] atomIncorp_taxaIncorp_abund/50/25/20 Finished with 0\n",
      "2015-08-06 20:26:06,312 * INFO * [83931] Started ./SIPSimRun.sh in atomIncorp_taxaIncorp_abund/50/25/12\n",
      "2015-08-06 20:26:09,461 * INFO * [83745] atomIncorp_taxaIncorp_abund/50/25/8 Finished with 0\n",
      "2015-08-06 20:26:09,470 * INFO * [83951] Started ./SIPSimRun.sh in atomIncorp_taxaIncorp_abund/50/25/1\n",
      "2015-08-06 20:26:16,611 * INFO * [83703] atomIncorp_taxaIncorp_abund/50/25/17 Finished with 0\n",
      "2015-08-06 20:26:16,621 * INFO * [83963] Started ./SIPSimRun.sh in atomIncorp_taxaIncorp_abund/50/25/4\n",
      "2015-08-06 20:26:18,121 * INFO * [83502] atomIncorp_taxaIncorp_abund/50/25/18 Finished with 0\n",
      "2015-08-06 20:26:18,131 * INFO * [83981] Started ./SIPSimRun.sh in atomIncorp_taxaIncorp_abund/50/25/5\n",
      "2015-08-06 20:26:22,496 * INFO * [83671] atomIncorp_taxaIncorp_abund/50/25/16 Finished with 0\n",
      "2015-08-06 20:26:22,504 * INFO * [84007] Started ./SIPSimRun.sh in atomIncorp_taxaIncorp_abund/50/25/6\n",
      "2015-08-06 20:26:23,195 * INFO * [83549] atomIncorp_taxaIncorp_abund/50/25/15 Finished with 0\n",
      "2015-08-06 20:26:23,205 * INFO * [84019] Started ./SIPSimRun.sh in atomIncorp_taxaIncorp_abund/50/10/20\n",
      "2015-08-06 20:26:34,799 * INFO * [83863] atomIncorp_taxaIncorp_abund/50/25/13 Finished with 0\n",
      "2015-08-06 20:26:34,813 * INFO * [84109] Started ./SIPSimRun.sh in atomIncorp_taxaIncorp_abund/50/10/14\n",
      "2015-08-06 20:26:47,946 * INFO * [83875] atomIncorp_taxaIncorp_abund/50/25/10 Finished with 0\n",
      "2015-08-06 20:26:47,957 * INFO * [84159] Started ./SIPSimRun.sh in atomIncorp_taxaIncorp_abund/50/10/7\n",
      "2015-08-06 20:26:48,137 * INFO * [83981] atomIncorp_taxaIncorp_abund/50/25/5 Finished with 0\n",
      "2015-08-06 20:26:48,147 * INFO * [84171] Started ./SIPSimRun.sh in atomIncorp_taxaIncorp_abund/50/10/19\n",
      "2015-08-06 20:26:55,843 * INFO * [83887] atomIncorp_taxaIncorp_abund/50/25/2 Finished with 0\n",
      "2015-08-06 20:26:55,851 * INFO * [84221] Started ./SIPSimRun.sh in atomIncorp_taxaIncorp_abund/50/10/18\n",
      "2015-08-06 20:27:02,245 * INFO * [83851] atomIncorp_taxaIncorp_abund/50/25/3 Finished with 0\n",
      "2015-08-06 20:27:02,257 * INFO * [84253] Started ./SIPSimRun.sh in atomIncorp_taxaIncorp_abund/50/10/15\n",
      "2015-08-06 20:27:02,555 * INFO * [83931] atomIncorp_taxaIncorp_abund/50/25/12 Finished with 0\n",
      "2015-08-06 20:27:02,568 * INFO * [84265] Started ./SIPSimRun.sh in atomIncorp_taxaIncorp_abund/50/10/11\n",
      "2015-08-06 20:27:06,219 * INFO * [83963] atomIncorp_taxaIncorp_abund/50/25/4 Finished with 0\n",
      "2015-08-06 20:27:06,227 * INFO * [84293] Started ./SIPSimRun.sh in atomIncorp_taxaIncorp_abund/50/10/16\n",
      "2015-08-06 20:27:19,854 * INFO * [84171] atomIncorp_taxaIncorp_abund/50/10/19 Finished with 0\n",
      "2015-08-06 20:27:19,868 * INFO * [84355] Started ./SIPSimRun.sh in atomIncorp_taxaIncorp_abund/50/10/9\n",
      "2015-08-06 20:27:24,458 * INFO * [83951] atomIncorp_taxaIncorp_abund/50/25/1 Finished with 0\n",
      "2015-08-06 20:27:24,471 * INFO * [84381] Started ./SIPSimRun.sh in atomIncorp_taxaIncorp_abund/50/10/17\n",
      "2015-08-06 20:27:35,162 * INFO * [84019] atomIncorp_taxaIncorp_abund/50/10/20 Finished with 0\n",
      "2015-08-06 20:27:35,169 * INFO * [84415] Started ./SIPSimRun.sh in atomIncorp_taxaIncorp_abund/50/10/8\n",
      "2015-08-06 20:27:45,249 * INFO * [84253] atomIncorp_taxaIncorp_abund/50/10/15 Finished with 0\n",
      "2015-08-06 20:27:45,262 * INFO * [84484] Started ./SIPSimRun.sh in atomIncorp_taxaIncorp_abund/50/10/3\n",
      "2015-08-06 20:28:03,223 * INFO * [84109] atomIncorp_taxaIncorp_abund/50/10/14 Finished with 0\n",
      "2015-08-06 20:28:03,231 * INFO * [84555] Started ./SIPSimRun.sh in atomIncorp_taxaIncorp_abund/50/10/13\n",
      "2015-08-06 20:28:03,344 * INFO * [84221] atomIncorp_taxaIncorp_abund/50/10/18 Finished with 0\n",
      "2015-08-06 20:28:03,357 * INFO * [84570] Started ./SIPSimRun.sh in atomIncorp_taxaIncorp_abund/50/10/10\n",
      "2015-08-06 20:28:04,851 * INFO * [84265] atomIncorp_taxaIncorp_abund/50/10/11 Finished with 0\n",
      "2015-08-06 20:28:04,860 * INFO * [84583] Started ./SIPSimRun.sh in atomIncorp_taxaIncorp_abund/50/10/2\n",
      "2015-08-06 20:28:04,985 * INFO * [84007] atomIncorp_taxaIncorp_abund/50/25/6 Finished with 0\n",
      "2015-08-06 20:28:05,000 * INFO * [84594] Started ./SIPSimRun.sh in atomIncorp_taxaIncorp_abund/50/10/12\n",
      "2015-08-06 20:28:32,969 * INFO * [84381] atomIncorp_taxaIncorp_abund/50/10/17 Finished with 0\n",
      "2015-08-06 20:28:32,983 * INFO * [84660] Started ./SIPSimRun.sh in atomIncorp_taxaIncorp_abund/50/10/1\n",
      "2015-08-06 20:28:36,467 * INFO * [84355] atomIncorp_taxaIncorp_abund/50/10/9 Finished with 0\n",
      "2015-08-06 20:28:36,483 * INFO * [84678] Started ./SIPSimRun.sh in atomIncorp_taxaIncorp_abund/50/10/4\n",
      "2015-08-06 20:28:38,788 * INFO * [84293] atomIncorp_taxaIncorp_abund/50/10/16 Finished with 0\n",
      "2015-08-06 20:28:38,800 * INFO * [84698] Started ./SIPSimRun.sh in atomIncorp_taxaIncorp_abund/50/10/5\n",
      "2015-08-06 20:28:47,243 * INFO * [84159] atomIncorp_taxaIncorp_abund/50/10/7 Finished with 0\n",
      "2015-08-06 20:28:47,260 * INFO * [84732] Started ./SIPSimRun.sh in atomIncorp_taxaIncorp_abund/50/10/6\n",
      "2015-08-06 20:28:50,496 * INFO * [84415] atomIncorp_taxaIncorp_abund/50/10/8 Finished with 0\n",
      "2015-08-06 20:28:50,512 * INFO * [84750] Started ./SIPSimRun.sh in atomIncorp_taxaIncorp_abund/50/1/20\n",
      "2015-08-06 20:28:54,306 * INFO * [84484] atomIncorp_taxaIncorp_abund/50/10/3 Finished with 0\n",
      "2015-08-06 20:28:54,324 * INFO * [84782] Started ./SIPSimRun.sh in atomIncorp_taxaIncorp_abund/50/1/14\n",
      "2015-08-06 20:29:04,359 * INFO * [84570] atomIncorp_taxaIncorp_abund/50/10/10 Finished with 0\n",
      "2015-08-06 20:29:04,372 * INFO * [84832] Started ./SIPSimRun.sh in atomIncorp_taxaIncorp_abund/50/1/7\n",
      "2015-08-06 20:29:08,393 * INFO * [84583] atomIncorp_taxaIncorp_abund/50/10/2 Finished with 0\n",
      "2015-08-06 20:29:08,412 * INFO * [84852] Started ./SIPSimRun.sh in atomIncorp_taxaIncorp_abund/50/1/19\n",
      "2015-08-06 20:29:12,678 * INFO * [84698] atomIncorp_taxaIncorp_abund/50/10/5 Finished with 0\n",
      "2015-08-06 20:29:12,697 * INFO * [84872] Started ./SIPSimRun.sh in atomIncorp_taxaIncorp_abund/50/1/18\n",
      "2015-08-06 20:29:32,546 * INFO * [84594] atomIncorp_taxaIncorp_abund/50/10/12 Finished with 0\n",
      "2015-08-06 20:29:32,558 * INFO * [84948] Started ./SIPSimRun.sh in atomIncorp_taxaIncorp_abund/50/1/15\n",
      "2015-08-06 20:29:44,625 * INFO * [84872] atomIncorp_taxaIncorp_abund/50/1/18 Finished with 0\n",
      "2015-08-06 20:29:44,637 * INFO * [85004] Started ./SIPSimRun.sh in atomIncorp_taxaIncorp_abund/50/1/11\n",
      "2015-08-06 20:29:59,209 * INFO * [84555] atomIncorp_taxaIncorp_abund/50/10/13 Finished with 0\n",
      "2015-08-06 20:29:59,223 * INFO * [85066] Started ./SIPSimRun.sh in atomIncorp_taxaIncorp_abund/50/1/16\n",
      "2015-08-06 20:30:00,340 * INFO * [84852] atomIncorp_taxaIncorp_abund/50/1/19 Finished with 0\n",
      "2015-08-06 20:30:00,354 * INFO * [85078] Started ./SIPSimRun.sh in atomIncorp_taxaIncorp_abund/50/1/9\n",
      "2015-08-06 20:30:08,621 * INFO * [84660] atomIncorp_taxaIncorp_abund/50/10/1 Finished with 0\n",
      "2015-08-06 20:30:08,636 * INFO * [85122] Started ./SIPSimRun.sh in atomIncorp_taxaIncorp_abund/50/1/17\n",
      "2015-08-06 20:30:09,016 * INFO * [84678] atomIncorp_taxaIncorp_abund/50/10/4 Finished with 0\n",
      "2015-08-06 20:30:09,031 * INFO * [85134] Started ./SIPSimRun.sh in atomIncorp_taxaIncorp_abund/50/1/8\n",
      "2015-08-06 20:30:16,631 * INFO * [84750] atomIncorp_taxaIncorp_abund/50/1/20 Finished with 0\n",
      "2015-08-06 20:30:16,649 * INFO * [85160] Started ./SIPSimRun.sh in atomIncorp_taxaIncorp_abund/50/1/3\n",
      "2015-08-06 20:30:18,988 * INFO * [84732] atomIncorp_taxaIncorp_abund/50/10/6 Finished with 0\n",
      "2015-08-06 20:30:19,003 * INFO * [85172] Started ./SIPSimRun.sh in atomIncorp_taxaIncorp_abund/50/1/13\n",
      "2015-08-06 20:30:41,121 * INFO * [85078] atomIncorp_taxaIncorp_abund/50/1/9 Finished with 0\n",
      "2015-08-06 20:30:41,134 * INFO * [85282] Started ./SIPSimRun.sh in atomIncorp_taxaIncorp_abund/50/1/10\n",
      "2015-08-06 20:30:45,030 * INFO * [85004] atomIncorp_taxaIncorp_abund/50/1/11 Finished with 0\n",
      "2015-08-06 20:30:45,046 * INFO * [85308] Started ./SIPSimRun.sh in atomIncorp_taxaIncorp_abund/50/1/2\n",
      "2015-08-06 20:30:52,942 * INFO * [84948] atomIncorp_taxaIncorp_abund/50/1/15 Finished with 0\n",
      "2015-08-06 20:30:52,957 * INFO * [85326] Started ./SIPSimRun.sh in atomIncorp_taxaIncorp_abund/50/1/12\n",
      "2015-08-06 20:30:58,782 * INFO * [84782] atomIncorp_taxaIncorp_abund/50/1/14 Finished with 0\n",
      "2015-08-06 20:30:58,797 * INFO * [85354] Started ./SIPSimRun.sh in atomIncorp_taxaIncorp_abund/50/1/1\n",
      "2015-08-06 20:31:04,249 * INFO * [85134] atomIncorp_taxaIncorp_abund/50/1/8 Finished with 0\n",
      "2015-08-06 20:31:04,262 * INFO * [85386] Started ./SIPSimRun.sh in atomIncorp_taxaIncorp_abund/50/1/4\n",
      "2015-08-06 20:31:12,058 * INFO * [85066] atomIncorp_taxaIncorp_abund/50/1/16 Finished with 0\n",
      "2015-08-06 20:31:12,076 * INFO * [85420] Started ./SIPSimRun.sh in atomIncorp_taxaIncorp_abund/50/1/5\n",
      "2015-08-06 20:31:12,318 * INFO * [85122] atomIncorp_taxaIncorp_abund/50/1/17 Finished with 0\n",
      "2015-08-06 20:31:12,337 * INFO * [85432] Started ./SIPSimRun.sh in atomIncorp_taxaIncorp_abund/50/1/6\n",
      "2015-08-06 20:31:13,227 * INFO * [84832] atomIncorp_taxaIncorp_abund/50/1/7 Finished with 0\n",
      "2015-08-06 20:31:13,243 * INFO * [85444] Started ./SIPSimRun.sh in atomIncorp_taxaIncorp_abund/50/5/20\n",
      "2015-08-06 20:31:22,869 * INFO * [85326] atomIncorp_taxaIncorp_abund/50/1/12 Finished with 0\n",
      "2015-08-06 20:31:22,882 * INFO * [85488] Started ./SIPSimRun.sh in atomIncorp_taxaIncorp_abund/50/5/14\n",
      "2015-08-06 20:31:33,313 * INFO * [85354] atomIncorp_taxaIncorp_abund/50/1/1 Finished with 0\n",
      "2015-08-06 20:31:33,329 * INFO * [85536] Started ./SIPSimRun.sh in atomIncorp_taxaIncorp_abund/50/5/7\n",
      "2015-08-06 20:31:39,255 * INFO * [85160] atomIncorp_taxaIncorp_abund/50/1/3 Finished with 0\n",
      "2015-08-06 20:31:39,268 * INFO * [85570] Started ./SIPSimRun.sh in atomIncorp_taxaIncorp_abund/50/5/19\n",
      "2015-08-06 20:31:40,372 * INFO * [85172] atomIncorp_taxaIncorp_abund/50/1/13 Finished with 0\n",
      "2015-08-06 20:31:40,384 * INFO * [85582] Started ./SIPSimRun.sh in atomIncorp_taxaIncorp_abund/50/5/18\n",
      "2015-08-06 20:31:45,872 * INFO * [85432] atomIncorp_taxaIncorp_abund/50/1/6 Finished with 0\n",
      "2015-08-06 20:31:45,887 * INFO * [85620] Started ./SIPSimRun.sh in atomIncorp_taxaIncorp_abund/50/5/15\n",
      "2015-08-06 20:31:52,309 * INFO * [85282] atomIncorp_taxaIncorp_abund/50/1/10 Finished with 0\n",
      "2015-08-06 20:31:52,319 * INFO * [85648] Started ./SIPSimRun.sh in atomIncorp_taxaIncorp_abund/50/5/11\n",
      "2015-08-06 20:32:08,717 * INFO * [85488] atomIncorp_taxaIncorp_abund/50/5/14 Finished with 0\n",
      "2015-08-06 20:32:08,729 * INFO * [85718] Started ./SIPSimRun.sh in atomIncorp_taxaIncorp_abund/50/5/16\n",
      "2015-08-06 20:32:09,561 * INFO * [85536] atomIncorp_taxaIncorp_abund/50/5/7 Finished with 0\n",
      "2015-08-06 20:32:09,577 * INFO * [85736] Started ./SIPSimRun.sh in atomIncorp_taxaIncorp_abund/50/5/9\n",
      "2015-08-06 20:32:29,730 * INFO * [85386] atomIncorp_taxaIncorp_abund/50/1/4 Finished with 0\n",
      "2015-08-06 20:32:29,742 * INFO * [85847] Started ./SIPSimRun.sh in atomIncorp_taxaIncorp_abund/50/5/17\n",
      "2015-08-06 20:32:31,774 * INFO * [85582] atomIncorp_taxaIncorp_abund/50/5/18 Finished with 0\n",
      "2015-08-06 20:32:31,784 * INFO * [85867] Started ./SIPSimRun.sh in atomIncorp_taxaIncorp_abund/50/5/8\n",
      "2015-08-06 20:32:31,885 * INFO * [85570] atomIncorp_taxaIncorp_abund/50/5/19 Finished with 0\n",
      "2015-08-06 20:32:31,893 * INFO * [85879] Started ./SIPSimRun.sh in atomIncorp_taxaIncorp_abund/50/5/3\n",
      "2015-08-06 20:32:35,935 * INFO * [85308] atomIncorp_taxaIncorp_abund/50/1/2 Finished with 0\n",
      "2015-08-06 20:32:35,948 * INFO * [85907] Started ./SIPSimRun.sh in atomIncorp_taxaIncorp_abund/50/5/13\n",
      "2015-08-06 20:32:37,458 * INFO * [85420] atomIncorp_taxaIncorp_abund/50/1/5 Finished with 0\n",
      "2015-08-06 20:32:37,470 * INFO * [85925] Started ./SIPSimRun.sh in atomIncorp_taxaIncorp_abund/50/5/10\n",
      "2015-08-06 20:32:38,356 * INFO * [85444] atomIncorp_taxaIncorp_abund/50/5/20 Finished with 0\n",
      "2015-08-06 20:32:38,365 * INFO * [85937] Started ./SIPSimRun.sh in atomIncorp_taxaIncorp_abund/50/5/2\n",
      "2015-08-06 20:33:00,553 * INFO * [85847] atomIncorp_taxaIncorp_abund/50/5/17 Finished with 0\n",
      "2015-08-06 20:33:00,562 * INFO * [86039] Started ./SIPSimRun.sh in atomIncorp_taxaIncorp_abund/50/5/12\n",
      "2015-08-06 20:33:01,518 * INFO * [85736] atomIncorp_taxaIncorp_abund/50/5/9 Finished with 0\n",
      "2015-08-06 20:33:01,531 * INFO * [86051] Started ./SIPSimRun.sh in atomIncorp_taxaIncorp_abund/50/5/1\n",
      "2015-08-06 20:33:06,880 * INFO * [85718] atomIncorp_taxaIncorp_abund/50/5/16 Finished with 0\n",
      "2015-08-06 20:33:06,891 * INFO * [86075] Started ./SIPSimRun.sh in atomIncorp_taxaIncorp_abund/50/5/4\n",
      "2015-08-06 20:33:07,403 * INFO * [85620] atomIncorp_taxaIncorp_abund/50/5/15 Finished with 0\n",
      "2015-08-06 20:33:07,416 * INFO * [86087] Started ./SIPSimRun.sh in atomIncorp_taxaIncorp_abund/50/5/5\n",
      "2015-08-06 20:33:07,530 * INFO * [85907] atomIncorp_taxaIncorp_abund/50/5/13 Finished with 0\n",
      "2015-08-06 20:33:07,543 * INFO * [86099] Started ./SIPSimRun.sh in atomIncorp_taxaIncorp_abund/50/5/6\n",
      "2015-08-06 20:33:09,020 * INFO * [85648] atomIncorp_taxaIncorp_abund/50/5/11 Finished with 0\n",
      "2015-08-06 20:33:09,032 * INFO * [86111] Started ./SIPSimRun.sh in atomIncorp_taxaIncorp_abund/0/50/20\n",
      "2015-08-06 20:33:28,200 * INFO * [85925] atomIncorp_taxaIncorp_abund/50/5/10 Finished with 0\n",
      "2015-08-06 20:33:28,213 * INFO * [86233] Started ./SIPSimRun.sh in atomIncorp_taxaIncorp_abund/0/50/14\n",
      "2015-08-06 20:33:33,809 * INFO * [86051] atomIncorp_taxaIncorp_abund/50/5/1 Finished with 0\n",
      "2015-08-06 20:33:33,819 * INFO * [86261] Started ./SIPSimRun.sh in atomIncorp_taxaIncorp_abund/0/50/7\n",
      "2015-08-06 20:33:40,467 * INFO * [85879] atomIncorp_taxaIncorp_abund/50/5/3 Finished with 0\n",
      "2015-08-06 20:33:40,480 * INFO * [86287] Started ./SIPSimRun.sh in atomIncorp_taxaIncorp_abund/0/50/19\n",
      "2015-08-06 20:33:48,398 * INFO * [86075] atomIncorp_taxaIncorp_abund/50/5/4 Finished with 0\n",
      "2015-08-06 20:33:48,407 * INFO * [86319] Started ./SIPSimRun.sh in atomIncorp_taxaIncorp_abund/0/50/18\n",
      "2015-08-06 20:33:48,659 * INFO * [86039] atomIncorp_taxaIncorp_abund/50/5/12 Finished with 0\n",
      "2015-08-06 20:33:48,669 * INFO * [86331] Started ./SIPSimRun.sh in atomIncorp_taxaIncorp_abund/0/50/15\n",
      "2015-08-06 20:33:52,562 * INFO * [85867] atomIncorp_taxaIncorp_abund/50/5/8 Finished with 0\n",
      "2015-08-06 20:33:52,576 * INFO * [86351] Started ./SIPSimRun.sh in atomIncorp_taxaIncorp_abund/0/50/11\n",
      "2015-08-06 20:34:01,267 * INFO * [86111] atomIncorp_taxaIncorp_abund/0/50/20 Finished with 0\n",
      "2015-08-06 20:34:01,279 * INFO * [86403] Started ./SIPSimRun.sh in atomIncorp_taxaIncorp_abund/0/50/16\n",
      "2015-08-06 20:34:03,053 * INFO * [85937] atomIncorp_taxaIncorp_abund/50/5/2 Finished with 0\n",
      "2015-08-06 20:34:03,068 * INFO * [86423] Started ./SIPSimRun.sh in atomIncorp_taxaIncorp_abund/0/50/9\n",
      "2015-08-06 20:34:03,208 * INFO * [86261] atomIncorp_taxaIncorp_abund/0/50/7 Finished with 0\n",
      "2015-08-06 20:34:03,219 * INFO * [86435] Started ./SIPSimRun.sh in atomIncorp_taxaIncorp_abund/0/50/17\n",
      "2015-08-06 20:34:24,471 * INFO * [86351] atomIncorp_taxaIncorp_abund/0/50/11 Finished with 0\n",
      "2015-08-06 20:34:24,484 * INFO * [86552] Started ./SIPSimRun.sh in atomIncorp_taxaIncorp_abund/0/50/8\n",
      "2015-08-06 20:34:24,545 * INFO * [86331] atomIncorp_taxaIncorp_abund/0/50/15 Finished with 0\n",
      "2015-08-06 20:34:24,560 * INFO * [86564] Started ./SIPSimRun.sh in atomIncorp_taxaIncorp_abund/0/50/3\n",
      "2015-08-06 20:34:28,247 * INFO * [86099] atomIncorp_taxaIncorp_abund/50/5/6 Finished with 0\n",
      "2015-08-06 20:34:28,260 * INFO * [86608] Started ./SIPSimRun.sh in atomIncorp_taxaIncorp_abund/0/50/13\n",
      "2015-08-06 20:34:31,070 * INFO * [86087] atomIncorp_taxaIncorp_abund/50/5/5 Finished with 0\n",
      "2015-08-06 20:34:31,081 * INFO * [86628] Started ./SIPSimRun.sh in atomIncorp_taxaIncorp_abund/0/50/10\n",
      "2015-08-06 20:34:34,888 * INFO * [86403] atomIncorp_taxaIncorp_abund/0/50/16 Finished with 0\n",
      "2015-08-06 20:34:34,904 * INFO * [86656] Started ./SIPSimRun.sh in atomIncorp_taxaIncorp_abund/0/50/2\n",
      "2015-08-06 20:34:42,015 * INFO * [86319] atomIncorp_taxaIncorp_abund/0/50/18 Finished with 0\n",
      "2015-08-06 20:34:42,033 * INFO * [86688] Started ./SIPSimRun.sh in atomIncorp_taxaIncorp_abund/0/50/12\n",
      "2015-08-06 20:34:50,897 * INFO * [86233] atomIncorp_taxaIncorp_abund/0/50/14 Finished with 0\n",
      "2015-08-06 20:34:50,908 * INFO * [86724] Started ./SIPSimRun.sh in atomIncorp_taxaIncorp_abund/0/50/1\n",
      "2015-08-06 20:34:55,029 * INFO * [86564] atomIncorp_taxaIncorp_abund/0/50/3 Finished with 0\n",
      "2015-08-06 20:34:55,042 * INFO * [86760] Started ./SIPSimRun.sh in atomIncorp_taxaIncorp_abund/0/50/4\n",
      "2015-08-06 20:34:59,038 * INFO * [86608] atomIncorp_taxaIncorp_abund/0/50/13 Finished with 0\n",
      "2015-08-06 20:34:59,052 * INFO * [86780] Started ./SIPSimRun.sh in atomIncorp_taxaIncorp_abund/0/50/5\n",
      "2015-08-06 20:35:02,185 * INFO * [86423] atomIncorp_taxaIncorp_abund/0/50/9 Finished with 0\n",
      "2015-08-06 20:35:02,197 * INFO * [86807] Started ./SIPSimRun.sh in atomIncorp_taxaIncorp_abund/0/50/6\n",
      "2015-08-06 20:35:17,101 * INFO * [86435] atomIncorp_taxaIncorp_abund/0/50/17 Finished with 0\n",
      "2015-08-06 20:35:17,117 * INFO * [86891] Started ./SIPSimRun.sh in atomIncorp_taxaIncorp_abund/0/25/20\n",
      "2015-08-06 20:35:20,126 * INFO * [86724] atomIncorp_taxaIncorp_abund/0/50/1 Finished with 0\n",
      "2015-08-06 20:35:20,144 * INFO * [86911] Started ./SIPSimRun.sh in atomIncorp_taxaIncorp_abund/0/25/14\n",
      "2015-08-06 20:35:26,169 * INFO * [86287] atomIncorp_taxaIncorp_abund/0/50/19 Finished with 0\n",
      "2015-08-06 20:35:26,184 * INFO * [86953] Started ./SIPSimRun.sh in atomIncorp_taxaIncorp_abund/0/25/7\n",
      "2015-08-06 20:35:32,893 * INFO * [86656] atomIncorp_taxaIncorp_abund/0/50/2 Finished with 0\n",
      "2015-08-06 20:35:32,908 * INFO * [86985] Started ./SIPSimRun.sh in atomIncorp_taxaIncorp_abund/0/25/19\n",
      "2015-08-06 20:35:45,711 * INFO * [86780] atomIncorp_taxaIncorp_abund/0/50/5 Finished with 0\n",
      "2015-08-06 20:35:45,728 * INFO * [87027] Started ./SIPSimRun.sh in atomIncorp_taxaIncorp_abund/0/25/18\n",
      "2015-08-06 20:35:49,023 * INFO * [86628] atomIncorp_taxaIncorp_abund/0/50/10 Finished with 0\n",
      "2015-08-06 20:35:49,041 * INFO * [87055] Started ./SIPSimRun.sh in atomIncorp_taxaIncorp_abund/0/25/15\n",
      "2015-08-06 20:35:49,124 * INFO * [86760] atomIncorp_taxaIncorp_abund/0/50/4 Finished with 0\n",
      "2015-08-06 20:35:49,137 * INFO * [87065] Started ./SIPSimRun.sh in atomIncorp_taxaIncorp_abund/0/25/11\n",
      "2015-08-06 20:35:53,299 * INFO * [86552] atomIncorp_taxaIncorp_abund/0/50/8 Finished with 0\n",
      "2015-08-06 20:35:53,312 * INFO * [87093] Started ./SIPSimRun.sh in atomIncorp_taxaIncorp_abund/0/25/16\n",
      "2015-08-06 20:36:09,855 * INFO * [86891] atomIncorp_taxaIncorp_abund/0/25/20 Finished with 0\n",
      "2015-08-06 20:36:09,863 * INFO * [87187] Started ./SIPSimRun.sh in atomIncorp_taxaIncorp_abund/0/25/9\n",
      "2015-08-06 20:36:11,410 * INFO * [86911] atomIncorp_taxaIncorp_abund/0/25/14 Finished with 0\n",
      "2015-08-06 20:36:11,421 * INFO * [87199] Started ./SIPSimRun.sh in atomIncorp_taxaIncorp_abund/0/25/17\n",
      "2015-08-06 20:36:17,719 * INFO * [86688] atomIncorp_taxaIncorp_abund/0/50/12 Finished with 0\n",
      "2015-08-06 20:36:17,731 * INFO * [87223] Started ./SIPSimRun.sh in atomIncorp_taxaIncorp_abund/0/25/8\n",
      "2015-08-06 20:36:17,749 * INFO * [86985] atomIncorp_taxaIncorp_abund/0/25/19 Finished with 0\n",
      "2015-08-06 20:36:17,759 * INFO * [87229] Started ./SIPSimRun.sh in atomIncorp_taxaIncorp_abund/0/25/3\n",
      "2015-08-06 20:36:23,983 * INFO * [87027] atomIncorp_taxaIncorp_abund/0/25/18 Finished with 0\n",
      "2015-08-06 20:36:23,991 * INFO * [87277] Started ./SIPSimRun.sh in atomIncorp_taxaIncorp_abund/0/25/13\n",
      "2015-08-06 20:36:24,239 * INFO * [87093] atomIncorp_taxaIncorp_abund/0/25/16 Finished with 0\n",
      "2015-08-06 20:36:24,247 * INFO * [87289] Started ./SIPSimRun.sh in atomIncorp_taxaIncorp_abund/0/25/10\n",
      "2015-08-06 20:36:32,106 * INFO * [86807] atomIncorp_taxaIncorp_abund/0/50/6 Finished with 0\n",
      "2015-08-06 20:36:32,118 * INFO * [87351] Started ./SIPSimRun.sh in atomIncorp_taxaIncorp_abund/0/25/2\n",
      "2015-08-06 20:36:47,296 * INFO * [86953] atomIncorp_taxaIncorp_abund/0/25/7 Finished with 0\n",
      "2015-08-06 20:36:47,304 * INFO * [87423] Started ./SIPSimRun.sh in atomIncorp_taxaIncorp_abund/0/25/12\n",
      "2015-08-06 20:36:48,932 * INFO * [87223] atomIncorp_taxaIncorp_abund/0/25/8 Finished with 0\n",
      "2015-08-06 20:36:48,943 * INFO * [87435] Started ./SIPSimRun.sh in atomIncorp_taxaIncorp_abund/0/25/1\n",
      "2015-08-06 20:36:50,275 * INFO * [87187] atomIncorp_taxaIncorp_abund/0/25/9 Finished with 0\n",
      "2015-08-06 20:36:50,288 * INFO * [87447] Started ./SIPSimRun.sh in atomIncorp_taxaIncorp_abund/0/25/4\n",
      "2015-08-06 20:36:59,518 * INFO * [87055] atomIncorp_taxaIncorp_abund/0/25/15 Finished with 0\n",
      "2015-08-06 20:36:59,528 * INFO * [87495] Started ./SIPSimRun.sh in atomIncorp_taxaIncorp_abund/0/25/5\n",
      "2015-08-06 20:37:04,180 * INFO * [87199] atomIncorp_taxaIncorp_abund/0/25/17 Finished with 0\n",
      "2015-08-06 20:37:04,193 * INFO * [87531] Started ./SIPSimRun.sh in atomIncorp_taxaIncorp_abund/0/25/6\n",
      "2015-08-06 20:37:20,295 * INFO * [87423] atomIncorp_taxaIncorp_abund/0/25/12 Finished with 0\n",
      "2015-08-06 20:37:20,308 * INFO * [87611] Started ./SIPSimRun.sh in atomIncorp_taxaIncorp_abund/0/10/20\n",
      "2015-08-06 20:37:21,201 * INFO * [87435] atomIncorp_taxaIncorp_abund/0/25/1 Finished with 0\n",
      "2015-08-06 20:37:21,216 * INFO * [87623] Started ./SIPSimRun.sh in atomIncorp_taxaIncorp_abund/0/10/14\n",
      "2015-08-06 20:37:21,682 * INFO * [87229] atomIncorp_taxaIncorp_abund/0/25/3 Finished with 0\n",
      "2015-08-06 20:37:21,695 * INFO * [87636] Started ./SIPSimRun.sh in atomIncorp_taxaIncorp_abund/0/10/7\n",
      "2015-08-06 20:37:24,740 * INFO * [87277] atomIncorp_taxaIncorp_abund/0/25/13 Finished with 0\n",
      "2015-08-06 20:37:24,751 * INFO * [87653] Started ./SIPSimRun.sh in atomIncorp_taxaIncorp_abund/0/10/19\n",
      "2015-08-06 20:37:27,846 * INFO * [87351] atomIncorp_taxaIncorp_abund/0/25/2 Finished with 0\n",
      "2015-08-06 20:37:27,858 * INFO * [87665] Started ./SIPSimRun.sh in atomIncorp_taxaIncorp_abund/0/10/18\n",
      "2015-08-06 20:37:29,586 * INFO * [87065] atomIncorp_taxaIncorp_abund/0/25/11 Finished with 0\n",
      "2015-08-06 20:37:29,601 * INFO * [87677] Started ./SIPSimRun.sh in atomIncorp_taxaIncorp_abund/0/10/15\n",
      "2015-08-06 20:37:31,220 * INFO * [87289] atomIncorp_taxaIncorp_abund/0/25/10 Finished with 0\n",
      "2015-08-06 20:37:31,237 * INFO * [87689] Started ./SIPSimRun.sh in atomIncorp_taxaIncorp_abund/0/10/11\n",
      "2015-08-06 20:37:52,074 * INFO * [87531] atomIncorp_taxaIncorp_abund/0/25/6 Finished with 0\n",
      "2015-08-06 20:37:52,089 * INFO * [87821] Started ./SIPSimRun.sh in atomIncorp_taxaIncorp_abund/0/10/16\n",
      "2015-08-06 20:37:52,646 * INFO * [87611] atomIncorp_taxaIncorp_abund/0/10/20 Finished with 0\n",
      "2015-08-06 20:37:52,660 * INFO * [87833] Started ./SIPSimRun.sh in atomIncorp_taxaIncorp_abund/0/10/9\n",
      "2015-08-06 20:37:58,278 * INFO * [87677] atomIncorp_taxaIncorp_abund/0/10/15 Finished with 0\n",
      "2015-08-06 20:37:58,292 * INFO * [87853] Started ./SIPSimRun.sh in atomIncorp_taxaIncorp_abund/0/10/17\n",
      "2015-08-06 20:38:00,799 * INFO * [87495] atomIncorp_taxaIncorp_abund/0/25/5 Finished with 0\n",
      "2015-08-06 20:38:00,809 * INFO * [87871] Started ./SIPSimRun.sh in atomIncorp_taxaIncorp_abund/0/10/8\n",
      "2015-08-06 20:38:05,089 * INFO * [87447] atomIncorp_taxaIncorp_abund/0/25/4 Finished with 0\n",
      "2015-08-06 20:38:05,102 * INFO * [87909] Started ./SIPSimRun.sh in atomIncorp_taxaIncorp_abund/0/10/3\n",
      "2015-08-06 20:38:12,980 * INFO * [87636] atomIncorp_taxaIncorp_abund/0/10/7 Finished with 0\n",
      "2015-08-06 20:38:12,996 * INFO * [87959] Started ./SIPSimRun.sh in atomIncorp_taxaIncorp_abund/0/10/13\n",
      "2015-08-06 20:38:29,664 * INFO * [87623] atomIncorp_taxaIncorp_abund/0/10/14 Finished with 0\n",
      "2015-08-06 20:38:29,676 * INFO * [88065] Started ./SIPSimRun.sh in atomIncorp_taxaIncorp_abund/0/10/10\n",
      "2015-08-06 20:38:34,897 * INFO * [87689] atomIncorp_taxaIncorp_abund/0/10/11 Finished with 0\n",
      "2015-08-06 20:38:34,910 * INFO * [88095] Started ./SIPSimRun.sh in atomIncorp_taxaIncorp_abund/0/10/2\n",
      "2015-08-06 20:38:35,864 * INFO * [87909] atomIncorp_taxaIncorp_abund/0/10/3 Finished with 0\n",
      "2015-08-06 20:38:35,880 * INFO * [88115] Started ./SIPSimRun.sh in atomIncorp_taxaIncorp_abund/0/10/12\n",
      "2015-08-06 20:38:40,407 * INFO * [87821] atomIncorp_taxaIncorp_abund/0/10/16 Finished with 0\n",
      "2015-08-06 20:38:40,419 * INFO * [88143] Started ./SIPSimRun.sh in atomIncorp_taxaIncorp_abund/0/10/1\n",
      "2015-08-06 20:38:43,999 * INFO * [87871] atomIncorp_taxaIncorp_abund/0/10/8 Finished with 0\n",
      "2015-08-06 20:38:44,010 * INFO * [88155] Started ./SIPSimRun.sh in atomIncorp_taxaIncorp_abund/0/10/4\n",
      "2015-08-06 20:38:44,893 * INFO * [87959] atomIncorp_taxaIncorp_abund/0/10/13 Finished with 0\n",
      "2015-08-06 20:38:44,904 * INFO * [88167] Started ./SIPSimRun.sh in atomIncorp_taxaIncorp_abund/0/10/5\n",
      "2015-08-06 20:38:45,134 * INFO * [87653] atomIncorp_taxaIncorp_abund/0/10/19 Finished with 0\n",
      "2015-08-06 20:38:45,146 * INFO * [88179] Started ./SIPSimRun.sh in atomIncorp_taxaIncorp_abund/0/10/6\n",
      "2015-08-06 20:38:50,947 * INFO * [87665] atomIncorp_taxaIncorp_abund/0/10/18 Finished with 0\n",
      "2015-08-06 20:38:50,955 * INFO * [88197] Started ./SIPSimRun.sh in atomIncorp_taxaIncorp_abund/0/1/20\n",
      "2015-08-06 20:38:57,296 * INFO * [87833] atomIncorp_taxaIncorp_abund/0/10/9 Finished with 0\n",
      "2015-08-06 20:38:57,307 * INFO * [88235] Started ./SIPSimRun.sh in atomIncorp_taxaIncorp_abund/0/1/14\n",
      "2015-08-06 20:39:05,152 * INFO * [87853] atomIncorp_taxaIncorp_abund/0/10/17 Finished with 0\n",
      "2015-08-06 20:39:05,165 * INFO * [88291] Started ./SIPSimRun.sh in atomIncorp_taxaIncorp_abund/0/1/7\n",
      "2015-08-06 20:39:19,032 * INFO * [88197] atomIncorp_taxaIncorp_abund/0/1/20 Finished with 0\n",
      "2015-08-06 20:39:19,047 * INFO * [88361] Started ./SIPSimRun.sh in atomIncorp_taxaIncorp_abund/0/1/19\n",
      "2015-08-06 20:39:27,314 * INFO * [88143] atomIncorp_taxaIncorp_abund/0/10/1 Finished with 0\n",
      "2015-08-06 20:39:27,328 * INFO * [88419] Started ./SIPSimRun.sh in atomIncorp_taxaIncorp_abund/0/1/18\n",
      "2015-08-06 20:39:33,231 * INFO * [88155] atomIncorp_taxaIncorp_abund/0/10/4 Finished with 0\n",
      "2015-08-06 20:39:33,248 * INFO * [88469] Started ./SIPSimRun.sh in atomIncorp_taxaIncorp_abund/0/1/15\n",
      "2015-08-06 20:39:33,649 * INFO * [88291] atomIncorp_taxaIncorp_abund/0/1/7 Finished with 0\n",
      "2015-08-06 20:39:33,661 * INFO * [88481] Started ./SIPSimRun.sh in atomIncorp_taxaIncorp_abund/0/1/11\n",
      "2015-08-06 20:39:34,572 * INFO * [88065] atomIncorp_taxaIncorp_abund/0/10/10 Finished with 0\n",
      "2015-08-06 20:39:34,583 * INFO * [88495] Started ./SIPSimRun.sh in atomIncorp_taxaIncorp_abund/0/1/16\n",
      "2015-08-06 20:39:35,144 * INFO * [88095] atomIncorp_taxaIncorp_abund/0/10/2 Finished with 0\n",
      "2015-08-06 20:39:35,160 * INFO * [88513] Started ./SIPSimRun.sh in atomIncorp_taxaIncorp_abund/0/1/9\n",
      "2015-08-06 20:39:37,231 * INFO * [88115] atomIncorp_taxaIncorp_abund/0/10/12 Finished with 0\n",
      "2015-08-06 20:39:37,244 * INFO * [88525] Started ./SIPSimRun.sh in atomIncorp_taxaIncorp_abund/0/1/17\n",
      "2015-08-06 20:39:48,034 * INFO * [88179] atomIncorp_taxaIncorp_abund/0/10/6 Finished with 0\n",
      "2015-08-06 20:39:48,043 * INFO * [88559] Started ./SIPSimRun.sh in atomIncorp_taxaIncorp_abund/0/1/8\n",
      "2015-08-06 20:39:55,460 * INFO * [88167] atomIncorp_taxaIncorp_abund/0/10/5 Finished with 0\n",
      "2015-08-06 20:39:55,471 * INFO * [88613] Started ./SIPSimRun.sh in atomIncorp_taxaIncorp_abund/0/1/3\n",
      "2015-08-06 20:40:04,190 * INFO * [88469] atomIncorp_taxaIncorp_abund/0/1/15 Finished with 0\n",
      "2015-08-06 20:40:04,199 * INFO * [88675] Started ./SIPSimRun.sh in atomIncorp_taxaIncorp_abund/0/1/13\n",
      "2015-08-06 20:40:04,491 * INFO * [88361] atomIncorp_taxaIncorp_abund/0/1/19 Finished with 0\n",
      "2015-08-06 20:40:04,503 * INFO * [88687] Started ./SIPSimRun.sh in atomIncorp_taxaIncorp_abund/0/1/10\n",
      "2015-08-06 20:40:17,365 * INFO * [88559] atomIncorp_taxaIncorp_abund/0/1/8 Finished with 0\n",
      "2015-08-06 20:40:17,375 * INFO * [88789] Started ./SIPSimRun.sh in atomIncorp_taxaIncorp_abund/0/1/2\n",
      "2015-08-06 20:40:18,807 * INFO * [88513] atomIncorp_taxaIncorp_abund/0/1/9 Finished with 0\n",
      "2015-08-06 20:40:18,821 * INFO * [88801] Started ./SIPSimRun.sh in atomIncorp_taxaIncorp_abund/0/1/12\n",
      "2015-08-06 20:40:19,332 * INFO * [88235] atomIncorp_taxaIncorp_abund/0/1/14 Finished with 0\n",
      "2015-08-06 20:40:19,343 * INFO * [88817] Started ./SIPSimRun.sh in atomIncorp_taxaIncorp_abund/0/1/1\n",
      "2015-08-06 20:40:27,965 * INFO * [88419] atomIncorp_taxaIncorp_abund/0/1/18 Finished with 0\n",
      "2015-08-06 20:40:27,974 * INFO * [88863] Started ./SIPSimRun.sh in atomIncorp_taxaIncorp_abund/0/1/4\n",
      "2015-08-06 20:40:28,889 * INFO * [88481] atomIncorp_taxaIncorp_abund/0/1/11 Finished with 0\n",
      "2015-08-06 20:40:28,899 * INFO * [88875] Started ./SIPSimRun.sh in atomIncorp_taxaIncorp_abund/0/1/5\n",
      "2015-08-06 20:40:33,858 * INFO * [88525] atomIncorp_taxaIncorp_abund/0/1/17 Finished with 0\n",
      "2015-08-06 20:40:33,864 * INFO * [88903] Started ./SIPSimRun.sh in atomIncorp_taxaIncorp_abund/0/1/6\n",
      "2015-08-06 20:40:39,158 * INFO * [88495] atomIncorp_taxaIncorp_abund/0/1/16 Finished with 0\n",
      "2015-08-06 20:40:39,165 * INFO * [88941] Started ./SIPSimRun.sh in atomIncorp_taxaIncorp_abund/0/5/20\n",
      "2015-08-06 20:40:39,773 * INFO * [88613] atomIncorp_taxaIncorp_abund/0/1/3 Finished with 0\n",
      "2015-08-06 20:40:39,783 * INFO * [88961] Started ./SIPSimRun.sh in atomIncorp_taxaIncorp_abund/0/5/14\n",
      "2015-08-06 20:40:47,303 * INFO * [88687] atomIncorp_taxaIncorp_abund/0/1/10 Finished with 0\n",
      "2015-08-06 20:40:47,315 * INFO * [88989] Started ./SIPSimRun.sh in atomIncorp_taxaIncorp_abund/0/5/7\n",
      "2015-08-06 20:40:55,483 * INFO * [88863] atomIncorp_taxaIncorp_abund/0/1/4 Finished with 0\n",
      "2015-08-06 20:40:55,493 * INFO * [89053] Started ./SIPSimRun.sh in atomIncorp_taxaIncorp_abund/0/5/19\n",
      "2015-08-06 20:40:56,730 * INFO * [88675] atomIncorp_taxaIncorp_abund/0/1/13 Finished with 0\n",
      "2015-08-06 20:40:56,737 * INFO * [89065] Started ./SIPSimRun.sh in atomIncorp_taxaIncorp_abund/0/5/18\n",
      "2015-08-06 20:40:56,864 * INFO * [88789] atomIncorp_taxaIncorp_abund/0/1/2 Finished with 0\n",
      "2015-08-06 20:40:56,875 * INFO * [89077] Started ./SIPSimRun.sh in atomIncorp_taxaIncorp_abund/0/5/15\n",
      "2015-08-06 20:41:02,812 * INFO * [88817] atomIncorp_taxaIncorp_abund/0/1/1 Finished with 0\n",
      "2015-08-06 20:41:02,820 * INFO * [89123] Started ./SIPSimRun.sh in atomIncorp_taxaIncorp_abund/0/5/11\n",
      "2015-08-06 20:41:08,871 * INFO * [88941] atomIncorp_taxaIncorp_abund/0/5/20 Finished with 0\n",
      "2015-08-06 20:41:08,880 * INFO * [89163] Started ./SIPSimRun.sh in atomIncorp_taxaIncorp_abund/0/5/16\n",
      "2015-08-06 20:41:27,080 * INFO * [88801] atomIncorp_taxaIncorp_abund/0/1/12 Finished with 0\n",
      "2015-08-06 20:41:27,092 * INFO * [89273] Started ./SIPSimRun.sh in atomIncorp_taxaIncorp_abund/0/5/9\n",
      "2015-08-06 20:41:29,569 * INFO * [89053] atomIncorp_taxaIncorp_abund/0/5/19 Finished with 0\n",
      "2015-08-06 20:41:29,581 * INFO * [89285] Started ./SIPSimRun.sh in atomIncorp_taxaIncorp_abund/0/5/17\n",
      "2015-08-06 20:41:37,079 * INFO * [88903] atomIncorp_taxaIncorp_abund/0/1/6 Finished with 0\n",
      "2015-08-06 20:41:37,093 * INFO * [89319] Started ./SIPSimRun.sh in atomIncorp_taxaIncorp_abund/0/5/8\n",
      "2015-08-06 20:41:37,912 * INFO * [89123] atomIncorp_taxaIncorp_abund/0/5/11 Finished with 0\n",
      "2015-08-06 20:41:37,927 * INFO * [89331] Started ./SIPSimRun.sh in atomIncorp_taxaIncorp_abund/0/5/3\n",
      "2015-08-06 20:41:42,454 * INFO * [88875] atomIncorp_taxaIncorp_abund/0/1/5 Finished with 0\n",
      "2015-08-06 20:41:42,467 * INFO * [89365] Started ./SIPSimRun.sh in atomIncorp_taxaIncorp_abund/0/5/13\n",
      "2015-08-06 20:41:42,916 * INFO * [88961] atomIncorp_taxaIncorp_abund/0/5/14 Finished with 0\n",
      "2015-08-06 20:41:42,925 * INFO * [89377] Started ./SIPSimRun.sh in atomIncorp_taxaIncorp_abund/0/5/10\n",
      "2015-08-06 20:41:46,065 * INFO * [89077] atomIncorp_taxaIncorp_abund/0/5/15 Finished with 0\n",
      "2015-08-06 20:41:46,077 * INFO * [89397] Started ./SIPSimRun.sh in atomIncorp_taxaIncorp_abund/0/5/2\n",
      "2015-08-06 20:41:57,496 * INFO * [89273] atomIncorp_taxaIncorp_abund/0/5/9 Finished with 0\n",
      "2015-08-06 20:41:57,509 * INFO * [89467] Started ./SIPSimRun.sh in atomIncorp_taxaIncorp_abund/0/5/12\n",
      "2015-08-06 20:42:10,857 * INFO * [89163] atomIncorp_taxaIncorp_abund/0/5/16 Finished with 0\n",
      "2015-08-06 20:42:10,872 * INFO * [89533] Started ./SIPSimRun.sh in atomIncorp_taxaIncorp_abund/0/5/1\n",
      "2015-08-06 20:42:10,874 * INFO * [88989] atomIncorp_taxaIncorp_abund/0/5/7 Finished with 0\n",
      "2015-08-06 20:42:10,883 * INFO * [89535] Started ./SIPSimRun.sh in atomIncorp_taxaIncorp_abund/0/5/4\n",
      "2015-08-06 20:42:12,581 * INFO * [89397] atomIncorp_taxaIncorp_abund/0/5/2 Finished with 0\n",
      "2015-08-06 20:42:12,593 * INFO * [89555] Started ./SIPSimRun.sh in atomIncorp_taxaIncorp_abund/0/5/5\n",
      "2015-08-06 20:42:12,903 * INFO * [89065] atomIncorp_taxaIncorp_abund/0/5/18 Finished with 0\n",
      "2015-08-06 20:42:12,915 * INFO * [89567] Started ./SIPSimRun.sh in atomIncorp_taxaIncorp_abund/0/5/6\n",
      "2015-08-06 20:42:24,297 * INFO * [89467] atomIncorp_taxaIncorp_abund/0/5/12 Finished with 0\n",
      "2015-08-06 20:42:24,308 * INFO * [89627] Started ./SIPSimRun.sh in atomIncorp_taxaIncorp_abund/100/50/20\n",
      "2015-08-06 20:42:28,835 * INFO * [89377] atomIncorp_taxaIncorp_abund/0/5/10 Finished with 0\n",
      "2015-08-06 20:42:28,848 * INFO * [89661] Started ./SIPSimRun.sh in atomIncorp_taxaIncorp_abund/100/50/14\n",
      "2015-08-06 20:42:32,853 * INFO * [89331] atomIncorp_taxaIncorp_abund/0/5/3 Finished with 0\n",
      "2015-08-06 20:42:32,866 * INFO * [89697] Started ./SIPSimRun.sh in atomIncorp_taxaIncorp_abund/100/50/7\n",
      "2015-08-06 20:42:44,071 * INFO * [89319] atomIncorp_taxaIncorp_abund/0/5/8 Finished with 0\n",
      "2015-08-06 20:42:44,076 * INFO * [89845] Started ./SIPSimRun.sh in atomIncorp_taxaIncorp_abund/100/50/19\n",
      "2015-08-06 20:42:50,306 * INFO * [89533] atomIncorp_taxaIncorp_abund/0/5/1 Finished with 0\n",
      "2015-08-06 20:42:50,317 * INFO * [89952] Started ./SIPSimRun.sh in atomIncorp_taxaIncorp_abund/100/50/18\n",
      "2015-08-06 20:42:52,106 * INFO * [89627] atomIncorp_taxaIncorp_abund/100/50/20 Finished with 0\n",
      "2015-08-06 20:42:52,112 * INFO * [89986] Started ./SIPSimRun.sh in atomIncorp_taxaIncorp_abund/100/50/15\n",
      "2015-08-06 20:42:52,154 * INFO * [89661] atomIncorp_taxaIncorp_abund/100/50/14 Finished with 0\n",
      "2015-08-06 20:42:52,159 * INFO * [89998] Started ./SIPSimRun.sh in atomIncorp_taxaIncorp_abund/100/50/11\n",
      "2015-08-06 20:42:54,067 * INFO * [89555] atomIncorp_taxaIncorp_abund/0/5/5 Finished with 0\n",
      "2015-08-06 20:42:54,073 * INFO * [90018] Started ./SIPSimRun.sh in atomIncorp_taxaIncorp_abund/100/50/16\n",
      "2015-08-06 20:42:57,134 * INFO * [89697] atomIncorp_taxaIncorp_abund/100/50/7 Finished with 0\n",
      "2015-08-06 20:42:57,139 * INFO * [90044] Started ./SIPSimRun.sh in atomIncorp_taxaIncorp_abund/100/50/9\n",
      "2015-08-06 20:42:57,577 * INFO * [89365] atomIncorp_taxaIncorp_abund/0/5/13 Finished with 0\n",
      "2015-08-06 20:42:57,583 * INFO * [90056] Started ./SIPSimRun.sh in atomIncorp_taxaIncorp_abund/100/50/17\n",
      "2015-08-06 20:42:59,458 * INFO * [89567] atomIncorp_taxaIncorp_abund/0/5/6 Finished with 0\n",
      "2015-08-06 20:42:59,463 * INFO * [90082] Started ./SIPSimRun.sh in atomIncorp_taxaIncorp_abund/100/50/8\n",
      "2015-08-06 20:43:00,586 * INFO * [89285] atomIncorp_taxaIncorp_abund/0/5/17 Finished with 0\n",
      "2015-08-06 20:43:00,591 * INFO * [90108] Started ./SIPSimRun.sh in atomIncorp_taxaIncorp_abund/100/50/3\n",
      "2015-08-06 20:43:09,272 * INFO * [89952] atomIncorp_taxaIncorp_abund/100/50/18 Finished with 0\n",
      "2015-08-06 20:43:09,278 * INFO * [90188] Started ./SIPSimRun.sh in atomIncorp_taxaIncorp_abund/100/50/13\n",
      "2015-08-06 20:43:12,325 * INFO * [89998] atomIncorp_taxaIncorp_abund/100/50/11 Finished with 0\n",
      "2015-08-06 20:43:12,330 * INFO * [90232] Started ./SIPSimRun.sh in atomIncorp_taxaIncorp_abund/100/50/10\n",
      "2015-08-06 20:43:14,844 * INFO * [89986] atomIncorp_taxaIncorp_abund/100/50/15 Finished with 0\n",
      "2015-08-06 20:43:14,851 * INFO * [90250] Started ./SIPSimRun.sh in atomIncorp_taxaIncorp_abund/100/50/2\n",
      "2015-08-06 20:43:18,715 * INFO * [90044] atomIncorp_taxaIncorp_abund/100/50/9 Finished with 0\n",
      "2015-08-06 20:43:18,721 * INFO * [90278] Started ./SIPSimRun.sh in atomIncorp_taxaIncorp_abund/100/50/12\n",
      "2015-08-06 20:43:19,459 * INFO * [90056] atomIncorp_taxaIncorp_abund/100/50/17 Finished with 0\n",
      "2015-08-06 20:43:19,470 * INFO * [90292] Started ./SIPSimRun.sh in atomIncorp_taxaIncorp_abund/100/50/1\n",
      "2015-08-06 20:43:30,126 * INFO * [89535] atomIncorp_taxaIncorp_abund/0/5/4 Finished with 0\n",
      "2015-08-06 20:43:30,134 * INFO * [90362] Started ./SIPSimRun.sh in atomIncorp_taxaIncorp_abund/100/50/4\n",
      "2015-08-06 20:43:31,596 * INFO * [89845] atomIncorp_taxaIncorp_abund/100/50/19 Finished with 0\n",
      "2015-08-06 20:43:31,604 * INFO * [90374] Started ./SIPSimRun.sh in atomIncorp_taxaIncorp_abund/100/50/5\n",
      "2015-08-06 20:43:39,235 * INFO * [90018] atomIncorp_taxaIncorp_abund/100/50/16 Finished with 0\n",
      "2015-08-06 20:43:39,244 * INFO * [90434] Started ./SIPSimRun.sh in atomIncorp_taxaIncorp_abund/100/50/6\n",
      "2015-08-06 20:43:40,580 * INFO * [90082] atomIncorp_taxaIncorp_abund/100/50/8 Finished with 0\n",
      "2015-08-06 20:43:40,590 * INFO * [90452] Started ./SIPSimRun.sh in atomIncorp_taxaIncorp_abund/100/25/20\n",
      "2015-08-06 20:43:48,519 * INFO * [90278] atomIncorp_taxaIncorp_abund/100/50/12 Finished with 0\n",
      "2015-08-06 20:43:48,528 * INFO * [90480] Started ./SIPSimRun.sh in atomIncorp_taxaIncorp_abund/100/25/14\n",
      "2015-08-06 20:43:53,882 * INFO * [90292] atomIncorp_taxaIncorp_abund/100/50/1 Finished with 0\n",
      "2015-08-06 20:43:53,889 * INFO * [90526] Started ./SIPSimRun.sh in atomIncorp_taxaIncorp_abund/100/25/7\n",
      "2015-08-06 20:43:58,124 * INFO * [90108] atomIncorp_taxaIncorp_abund/100/50/3 Finished with 0\n",
      "2015-08-06 20:43:58,131 * INFO * [90546] Started ./SIPSimRun.sh in atomIncorp_taxaIncorp_abund/100/25/19\n",
      "2015-08-06 20:43:58,237 * INFO * [90188] atomIncorp_taxaIncorp_abund/100/50/13 Finished with 0\n",
      "2015-08-06 20:43:58,245 * INFO * [90558] Started ./SIPSimRun.sh in atomIncorp_taxaIncorp_abund/100/25/18\n",
      "2015-08-06 20:43:58,954 * INFO * [90232] atomIncorp_taxaIncorp_abund/100/50/10 Finished with 0\n",
      "2015-08-06 20:43:58,961 * INFO * [90570] Started ./SIPSimRun.sh in atomIncorp_taxaIncorp_abund/100/25/15\n",
      "2015-08-06 20:44:13,601 * INFO * [90362] atomIncorp_taxaIncorp_abund/100/50/4 Finished with 0\n",
      "2015-08-06 20:44:13,609 * INFO * [90686] Started ./SIPSimRun.sh in atomIncorp_taxaIncorp_abund/100/25/11\n",
      "2015-08-06 20:44:15,523 * INFO * [90434] atomIncorp_taxaIncorp_abund/100/50/6 Finished with 0\n",
      "2015-08-06 20:44:15,528 * INFO * [90698] Started ./SIPSimRun.sh in atomIncorp_taxaIncorp_abund/100/25/16\n",
      "2015-08-06 20:44:18,697 * INFO * [90452] atomIncorp_taxaIncorp_abund/100/25/20 Finished with 0\n",
      "2015-08-06 20:44:18,705 * INFO * [90740] Started ./SIPSimRun.sh in atomIncorp_taxaIncorp_abund/100/25/9\n",
      "2015-08-06 20:44:19,098 * INFO * [90250] atomIncorp_taxaIncorp_abund/100/50/2 Finished with 0\n",
      "2015-08-06 20:44:19,103 * INFO * [90752] Started ./SIPSimRun.sh in atomIncorp_taxaIncorp_abund/100/25/17\n",
      "2015-08-06 20:44:24,226 * INFO * [90546] atomIncorp_taxaIncorp_abund/100/25/19 Finished with 0\n",
      "2015-08-06 20:44:24,231 * INFO * [90770] Started ./SIPSimRun.sh in atomIncorp_taxaIncorp_abund/100/25/8\n",
      "2015-08-06 20:44:25,703 * INFO * [90480] atomIncorp_taxaIncorp_abund/100/25/14 Finished with 0\n",
      "2015-08-06 20:44:25,711 * INFO * [90796] Started ./SIPSimRun.sh in atomIncorp_taxaIncorp_abund/100/25/3\n",
      "2015-08-06 20:44:33,469 * INFO * [90374] atomIncorp_taxaIncorp_abund/100/50/5 Finished with 0\n",
      "2015-08-06 20:44:33,476 * INFO * [90874] Started ./SIPSimRun.sh in atomIncorp_taxaIncorp_abund/100/25/13\n",
      "2015-08-06 20:44:36,698 * INFO * [90526] atomIncorp_taxaIncorp_abund/100/25/7 Finished with 0\n",
      "2015-08-06 20:44:36,702 * INFO * [90922] Started ./SIPSimRun.sh in atomIncorp_taxaIncorp_abund/100/25/10\n",
      "2015-08-06 20:44:36,754 * INFO * [90570] atomIncorp_taxaIncorp_abund/100/25/15 Finished with 0\n",
      "2015-08-06 20:44:36,758 * INFO * [90934] Started ./SIPSimRun.sh in atomIncorp_taxaIncorp_abund/100/25/2\n",
      "2015-08-06 20:44:41,470 * INFO * [90740] atomIncorp_taxaIncorp_abund/100/25/9 Finished with 0\n",
      "2015-08-06 20:44:41,477 * INFO * [90985] Started ./SIPSimRun.sh in atomIncorp_taxaIncorp_abund/100/25/12\n",
      "2015-08-06 20:44:44,177 * INFO * [90752] atomIncorp_taxaIncorp_abund/100/25/17 Finished with 0\n",
      "2015-08-06 20:44:44,184 * INFO * [91007] Started ./SIPSimRun.sh in atomIncorp_taxaIncorp_abund/100/25/1\n",
      "2015-08-06 20:44:50,362 * INFO * [90558] atomIncorp_taxaIncorp_abund/100/25/18 Finished with 0\n",
      "2015-08-06 20:44:50,367 * INFO * [91096] Started ./SIPSimRun.sh in atomIncorp_taxaIncorp_abund/100/25/4\n",
      "2015-08-06 20:44:52,538 * INFO * [90796] atomIncorp_taxaIncorp_abund/100/25/3 Finished with 0\n",
      "2015-08-06 20:44:52,543 * INFO * [91120] Started ./SIPSimRun.sh in atomIncorp_taxaIncorp_abund/100/25/5\n",
      "2015-08-06 20:44:54,732 * INFO * [90770] atomIncorp_taxaIncorp_abund/100/25/8 Finished with 0\n",
      "2015-08-06 20:44:54,738 * INFO * [91154] Started ./SIPSimRun.sh in atomIncorp_taxaIncorp_abund/100/25/6\n",
      "2015-08-06 20:45:06,756 * INFO * [90686] atomIncorp_taxaIncorp_abund/100/25/11 Finished with 0\n",
      "2015-08-06 20:45:06,763 * INFO * [91252] Started ./SIPSimRun.sh in atomIncorp_taxaIncorp_abund/100/10/20\n",
      "2015-08-06 20:45:07,319 * INFO * [90698] atomIncorp_taxaIncorp_abund/100/25/16 Finished with 0\n",
      "2015-08-06 20:45:07,330 * INFO * [91264] Started ./SIPSimRun.sh in atomIncorp_taxaIncorp_abund/100/10/14\n",
      "2015-08-06 20:45:09,548 * INFO * [90985] atomIncorp_taxaIncorp_abund/100/25/12 Finished with 0\n",
      "2015-08-06 20:45:09,558 * INFO * [91276] Started ./SIPSimRun.sh in atomIncorp_taxaIncorp_abund/100/10/7\n",
      "2015-08-06 20:45:10,445 * INFO * [90922] atomIncorp_taxaIncorp_abund/100/25/10 Finished with 0\n",
      "2015-08-06 20:45:10,451 * INFO * [91288] Started ./SIPSimRun.sh in atomIncorp_taxaIncorp_abund/100/10/19\n",
      "2015-08-06 20:45:12,320 * INFO * [91007] atomIncorp_taxaIncorp_abund/100/25/1 Finished with 0\n",
      "2015-08-06 20:45:12,330 * INFO * [91306] Started ./SIPSimRun.sh in atomIncorp_taxaIncorp_abund/100/10/18\n",
      "2015-08-06 20:45:19,262 * INFO * [91096] atomIncorp_taxaIncorp_abund/100/25/4 Finished with 0\n",
      "2015-08-06 20:45:19,269 * INFO * [91356] Started ./SIPSimRun.sh in atomIncorp_taxaIncorp_abund/100/10/15\n",
      "2015-08-06 20:45:24,877 * INFO * [90934] atomIncorp_taxaIncorp_abund/100/25/2 Finished with 0\n",
      "2015-08-06 20:45:24,884 * INFO * [91406] Started ./SIPSimRun.sh in atomIncorp_taxaIncorp_abund/100/10/11\n",
      "2015-08-06 20:45:30,690 * INFO * [90874] atomIncorp_taxaIncorp_abund/100/25/13 Finished with 0\n",
      "2015-08-06 20:45:30,698 * INFO * [91453] Started ./SIPSimRun.sh in atomIncorp_taxaIncorp_abund/100/10/16\n",
      "2015-08-06 20:45:36,941 * INFO * [91120] atomIncorp_taxaIncorp_abund/100/25/5 Finished with 0\n",
      "2015-08-06 20:45:36,946 * INFO * [91519] Started ./SIPSimRun.sh in atomIncorp_taxaIncorp_abund/100/10/9\n",
      "2015-08-06 20:45:37,770 * INFO * [91154] atomIncorp_taxaIncorp_abund/100/25/6 Finished with 0\n",
      "2015-08-06 20:45:37,775 * INFO * [91539] Started ./SIPSimRun.sh in atomIncorp_taxaIncorp_abund/100/10/17\n",
      "2015-08-06 20:45:41,240 * INFO * [91306] atomIncorp_taxaIncorp_abund/100/10/18 Finished with 0\n",
      "2015-08-06 20:45:41,248 * INFO * [91559] Started ./SIPSimRun.sh in atomIncorp_taxaIncorp_abund/100/10/8\n",
      "2015-08-06 20:45:43,744 * INFO * [91356] atomIncorp_taxaIncorp_abund/100/10/15 Finished with 0\n",
      "2015-08-06 20:45:43,752 * INFO * [91577] Started ./SIPSimRun.sh in atomIncorp_taxaIncorp_abund/100/10/3\n",
      "2015-08-06 20:45:52,140 * INFO * [91406] atomIncorp_taxaIncorp_abund/100/10/11 Finished with 0\n",
      "2015-08-06 20:45:52,152 * INFO * [91619] Started ./SIPSimRun.sh in atomIncorp_taxaIncorp_abund/100/10/13\n",
      "2015-08-06 20:45:53,588 * INFO * [91264] atomIncorp_taxaIncorp_abund/100/10/14 Finished with 0\n",
      "2015-08-06 20:45:53,595 * INFO * [91651] Started ./SIPSimRun.sh in atomIncorp_taxaIncorp_abund/100/10/10\n",
      "2015-08-06 20:45:57,029 * INFO * [91276] atomIncorp_taxaIncorp_abund/100/10/7 Finished with 0\n",
      "2015-08-06 20:45:57,035 * INFO * [91679] Started ./SIPSimRun.sh in atomIncorp_taxaIncorp_abund/100/10/2\n",
      "2015-08-06 20:45:59,785 * INFO * [91252] atomIncorp_taxaIncorp_abund/100/10/20 Finished with 0\n",
      "2015-08-06 20:45:59,793 * INFO * [91705] Started ./SIPSimRun.sh in atomIncorp_taxaIncorp_abund/100/10/12\n",
      "2015-08-06 20:46:08,403 * INFO * [91288] atomIncorp_taxaIncorp_abund/100/10/19 Finished with 0\n",
      "2015-08-06 20:46:08,408 * INFO * [91755] Started ./SIPSimRun.sh in atomIncorp_taxaIncorp_abund/100/10/1\n",
      "2015-08-06 20:46:09,326 * INFO * [91453] atomIncorp_taxaIncorp_abund/100/10/16 Finished with 0\n",
      "2015-08-06 20:46:09,333 * INFO * [91773] Started ./SIPSimRun.sh in atomIncorp_taxaIncorp_abund/100/10/4\n",
      "2015-08-06 20:46:12,877 * INFO * [91539] atomIncorp_taxaIncorp_abund/100/10/17 Finished with 0\n",
      "2015-08-06 20:46:12,883 * INFO * [91812] Started ./SIPSimRun.sh in atomIncorp_taxaIncorp_abund/100/10/5\n",
      "2015-08-06 20:46:20,228 * INFO * [91619] atomIncorp_taxaIncorp_abund/100/10/13 Finished with 0\n",
      "2015-08-06 20:46:20,235 * INFO * [91889] Started ./SIPSimRun.sh in atomIncorp_taxaIncorp_abund/100/10/6\n",
      "2015-08-06 20:46:20,313 * INFO * [91577] atomIncorp_taxaIncorp_abund/100/10/3 Finished with 0\n",
      "2015-08-06 20:46:20,321 * INFO * [91901] Started ./SIPSimRun.sh in atomIncorp_taxaIncorp_abund/100/1/20\n",
      "2015-08-06 20:46:23,530 * INFO * [91519] atomIncorp_taxaIncorp_abund/100/10/9 Finished with 0\n",
      "2015-08-06 20:46:23,536 * INFO * [91929] Started ./SIPSimRun.sh in atomIncorp_taxaIncorp_abund/100/1/14\n",
      "2015-08-06 20:46:27,210 * INFO * [91559] atomIncorp_taxaIncorp_abund/100/10/8 Finished with 0\n",
      "2015-08-06 20:46:27,217 * INFO * [91971] Started ./SIPSimRun.sh in atomIncorp_taxaIncorp_abund/100/1/7\n",
      "2015-08-06 20:46:33,795 * INFO * [91705] atomIncorp_taxaIncorp_abund/100/10/12 Finished with 0\n",
      "2015-08-06 20:46:33,803 * INFO * [92035] Started ./SIPSimRun.sh in atomIncorp_taxaIncorp_abund/100/1/19\n",
      "2015-08-06 20:46:38,741 * INFO * [91812] atomIncorp_taxaIncorp_abund/100/10/5 Finished with 0\n",
      "2015-08-06 20:46:38,754 * INFO * [92065] Started ./SIPSimRun.sh in atomIncorp_taxaIncorp_abund/100/1/18\n",
      "2015-08-06 20:46:39,725 * INFO * [91651] atomIncorp_taxaIncorp_abund/100/10/10 Finished with 0\n",
      "2015-08-06 20:46:39,739 * INFO * [92083] Started ./SIPSimRun.sh in atomIncorp_taxaIncorp_abund/100/1/15\n",
      "2015-08-06 20:46:40,473 * INFO * [91773] atomIncorp_taxaIncorp_abund/100/10/4 Finished with 0\n",
      "2015-08-06 20:46:40,482 * INFO * [92098] Started ./SIPSimRun.sh in atomIncorp_taxaIncorp_abund/100/1/11\n",
      "2015-08-06 20:46:47,996 * INFO * [91679] atomIncorp_taxaIncorp_abund/100/10/2 Finished with 0\n",
      "2015-08-06 20:46:48,007 * INFO * [92143] Started ./SIPSimRun.sh in atomIncorp_taxaIncorp_abund/100/1/16\n",
      "2015-08-06 20:46:52,846 * INFO * [91755] atomIncorp_taxaIncorp_abund/100/10/1 Finished with 0\n",
      "2015-08-06 20:46:52,859 * INFO * [92177] Started ./SIPSimRun.sh in atomIncorp_taxaIncorp_abund/100/1/9\n",
      "2015-08-06 20:46:53,923 * INFO * [91929] atomIncorp_taxaIncorp_abund/100/1/14 Finished with 0\n",
      "2015-08-06 20:46:53,935 * INFO * [92197] Started ./SIPSimRun.sh in atomIncorp_taxaIncorp_abund/100/1/17\n",
      "2015-08-06 20:46:56,154 * INFO * [91889] atomIncorp_taxaIncorp_abund/100/10/6 Finished with 0\n",
      "2015-08-06 20:46:56,166 * INFO * [92227] Started ./SIPSimRun.sh in atomIncorp_taxaIncorp_abund/100/1/8\n",
      "2015-08-06 20:47:06,134 * INFO * [91901] atomIncorp_taxaIncorp_abund/100/1/20 Finished with 0\n",
      "2015-08-06 20:47:06,143 * INFO * [92286] Started ./SIPSimRun.sh in atomIncorp_taxaIncorp_abund/100/1/3\n",
      "2015-08-06 20:47:09,868 * INFO * [92065] atomIncorp_taxaIncorp_abund/100/1/18 Finished with 0\n",
      "2015-08-06 20:47:09,879 * INFO * [92332] Started ./SIPSimRun.sh in atomIncorp_taxaIncorp_abund/100/1/13\n",
      "2015-08-06 20:47:19,876 * INFO * [92035] atomIncorp_taxaIncorp_abund/100/1/19 Finished with 0\n",
      "2015-08-06 20:47:19,884 * INFO * [92406] Started ./SIPSimRun.sh in atomIncorp_taxaIncorp_abund/100/1/10\n",
      "2015-08-06 20:47:23,473 * INFO * [91971] atomIncorp_taxaIncorp_abund/100/1/7 Finished with 0\n",
      "2015-08-06 20:47:23,484 * INFO * [92434] Started ./SIPSimRun.sh in atomIncorp_taxaIncorp_abund/100/1/2\n",
      "2015-08-06 20:47:24,930 * INFO * [92098] atomIncorp_taxaIncorp_abund/100/1/11 Finished with 0\n",
      "2015-08-06 20:47:24,944 * INFO * [92446] Started ./SIPSimRun.sh in atomIncorp_taxaIncorp_abund/100/1/12\n",
      "2015-08-06 20:47:31,571 * INFO * [92177] atomIncorp_taxaIncorp_abund/100/1/9 Finished with 0\n",
      "2015-08-06 20:47:31,578 * INFO * [92488] Started ./SIPSimRun.sh in atomIncorp_taxaIncorp_abund/100/1/1\n",
      "2015-08-06 20:47:33,363 * INFO * [92227] atomIncorp_taxaIncorp_abund/100/1/8 Finished with 0\n",
      "2015-08-06 20:47:33,375 * INFO * [92500] Started ./SIPSimRun.sh in atomIncorp_taxaIncorp_abund/100/1/4\n",
      "2015-08-06 20:47:33,888 * INFO * [92083] atomIncorp_taxaIncorp_abund/100/1/15 Finished with 0\n",
      "2015-08-06 20:47:33,899 * INFO * [92512] Started ./SIPSimRun.sh in atomIncorp_taxaIncorp_abund/100/1/5\n",
      "2015-08-06 20:47:39,009 * INFO * [92143] atomIncorp_taxaIncorp_abund/100/1/16 Finished with 0\n",
      "2015-08-06 20:47:39,019 * INFO * [92544] Started ./SIPSimRun.sh in atomIncorp_taxaIncorp_abund/100/1/6\n",
      "2015-08-06 20:47:42,137 * INFO * [92286] atomIncorp_taxaIncorp_abund/100/1/3 Finished with 0\n",
      "2015-08-06 20:47:42,145 * INFO * [92568] Started ./SIPSimRun.sh in atomIncorp_taxaIncorp_abund/100/5/20\n",
      "2015-08-06 20:47:44,998 * INFO * [92197] atomIncorp_taxaIncorp_abund/100/1/17 Finished with 0\n",
      "2015-08-06 20:47:45,006 * INFO * [92593] Started ./SIPSimRun.sh in atomIncorp_taxaIncorp_abund/100/5/14\n",
      "2015-08-06 20:47:57,216 * INFO * [92446] atomIncorp_taxaIncorp_abund/100/1/12 Finished with 0\n",
      "2015-08-06 20:47:57,224 * INFO * [92682] Started ./SIPSimRun.sh in atomIncorp_taxaIncorp_abund/100/5/7\n",
      "2015-08-06 20:47:58,313 * INFO * [92332] atomIncorp_taxaIncorp_abund/100/1/13 Finished with 0\n",
      "2015-08-06 20:47:58,320 * INFO * [92702] Started ./SIPSimRun.sh in atomIncorp_taxaIncorp_abund/100/5/19\n",
      "2015-08-06 20:48:04,255 * INFO * [92434] atomIncorp_taxaIncorp_abund/100/1/2 Finished with 0\n",
      "2015-08-06 20:48:04,265 * INFO * [92738] Started ./SIPSimRun.sh in atomIncorp_taxaIncorp_abund/100/5/18\n",
      "2015-08-06 20:48:06,004 * INFO * [92500] atomIncorp_taxaIncorp_abund/100/1/4 Finished with 0\n",
      "2015-08-06 20:48:06,014 * INFO * [92756] Started ./SIPSimRun.sh in atomIncorp_taxaIncorp_abund/100/5/15\n",
      "2015-08-06 20:48:09,434 * INFO * [92406] atomIncorp_taxaIncorp_abund/100/1/10 Finished with 0\n",
      "2015-08-06 20:48:09,441 * INFO * [92792] Started ./SIPSimRun.sh in atomIncorp_taxaIncorp_abund/100/5/11\n",
      "2015-08-06 20:48:16,249 * INFO * [92544] atomIncorp_taxaIncorp_abund/100/1/6 Finished with 0\n",
      "2015-08-06 20:48:16,260 * INFO * [92850] Started ./SIPSimRun.sh in atomIncorp_taxaIncorp_abund/100/5/16\n",
      "2015-08-06 20:48:25,309 * INFO * [92512] atomIncorp_taxaIncorp_abund/100/1/5 Finished with 0\n",
      "2015-08-06 20:48:25,318 * INFO * [92920] Started ./SIPSimRun.sh in atomIncorp_taxaIncorp_abund/100/5/9\n",
      "2015-08-06 20:48:27,805 * INFO * [92702] atomIncorp_taxaIncorp_abund/100/5/19 Finished with 0\n",
      "2015-08-06 20:48:27,815 * INFO * [92934] Started ./SIPSimRun.sh in atomIncorp_taxaIncorp_abund/100/5/17\n",
      "2015-08-06 20:48:27,835 * INFO * [92488] atomIncorp_taxaIncorp_abund/100/1/1 Finished with 0\n",
      "2015-08-06 20:48:27,845 * INFO * [92939] Started ./SIPSimRun.sh in atomIncorp_taxaIncorp_abund/100/5/8\n",
      "2015-08-06 20:48:29,873 * INFO * [92593] atomIncorp_taxaIncorp_abund/100/5/14 Finished with 0\n",
      "2015-08-06 20:48:29,880 * INFO * [92962] Started ./SIPSimRun.sh in atomIncorp_taxaIncorp_abund/100/5/3\n",
      "2015-08-06 20:48:30,150 * INFO * [92738] atomIncorp_taxaIncorp_abund/100/5/18 Finished with 0\n",
      "2015-08-06 20:48:30,156 * INFO * [92974] Started ./SIPSimRun.sh in atomIncorp_taxaIncorp_abund/100/5/13\n",
      "2015-08-06 20:48:41,234 * INFO * [92792] atomIncorp_taxaIncorp_abund/100/5/11 Finished with 0\n",
      "2015-08-06 20:48:41,244 * INFO * [93044] Started ./SIPSimRun.sh in atomIncorp_taxaIncorp_abund/100/5/10\n",
      "2015-08-06 20:48:50,594 * INFO * [92568] atomIncorp_taxaIncorp_abund/100/5/20 Finished with 0\n",
      "2015-08-06 20:48:50,604 * INFO * [93120] Started ./SIPSimRun.sh in atomIncorp_taxaIncorp_abund/100/5/2\n",
      "2015-08-06 20:48:57,281 * INFO * [92850] atomIncorp_taxaIncorp_abund/100/5/16 Finished with 0\n",
      "2015-08-06 20:48:57,291 * INFO * [93150] Started ./SIPSimRun.sh in atomIncorp_taxaIncorp_abund/100/5/12\n",
      "2015-08-06 20:48:57,397 * INFO * [92962] atomIncorp_taxaIncorp_abund/100/5/3 Finished with 0\n",
      "2015-08-06 20:48:57,406 * INFO * [93162] Started ./SIPSimRun.sh in atomIncorp_taxaIncorp_abund/100/5/1\n",
      "2015-08-06 20:48:59,117 * INFO * [92974] atomIncorp_taxaIncorp_abund/100/5/13 Finished with 0\n",
      "2015-08-06 20:48:59,127 * INFO * [93182] Started ./SIPSimRun.sh in atomIncorp_taxaIncorp_abund/100/5/4\n",
      "2015-08-06 20:49:00,761 * INFO * [92682] atomIncorp_taxaIncorp_abund/100/5/7 Finished with 0\n",
      "2015-08-06 20:49:00,771 * INFO * [93194] Started ./SIPSimRun.sh in atomIncorp_taxaIncorp_abund/100/5/5\n",
      "2015-08-06 20:49:02,492 * INFO * [92920] atomIncorp_taxaIncorp_abund/100/5/9 Finished with 0\n",
      "2015-08-06 20:49:02,502 * INFO * [93212] Started ./SIPSimRun.sh in atomIncorp_taxaIncorp_abund/100/5/6\n",
      "2015-08-06 20:49:02,956 * INFO * [92756] atomIncorp_taxaIncorp_abund/100/5/15 Finished with 0\n",
      "2015-08-06 20:49:02,964 * INFO * [93224] Started ./SIPSimRun.sh in atomIncorp_taxaIncorp_abund/25/50/20\n",
      "2015-08-06 20:49:17,942 * INFO * [93120] atomIncorp_taxaIncorp_abund/100/5/2 Finished with 0\n",
      "2015-08-06 20:49:17,952 * INFO * [93324] Started ./SIPSimRun.sh in atomIncorp_taxaIncorp_abund/25/50/14\n",
      "2015-08-06 20:49:25,811 * INFO * [93044] atomIncorp_taxaIncorp_abund/100/5/10 Finished with 0\n",
      "2015-08-06 20:49:25,820 * INFO * [93376] Started ./SIPSimRun.sh in atomIncorp_taxaIncorp_abund/25/50/7\n",
      "2015-08-06 20:49:26,261 * INFO * [92939] atomIncorp_taxaIncorp_abund/100/5/8 Finished with 0\n",
      "2015-08-06 20:49:26,272 * INFO * [93389] Started ./SIPSimRun.sh in atomIncorp_taxaIncorp_abund/25/50/19\n",
      "2015-08-06 20:49:31,293 * INFO * [92934] atomIncorp_taxaIncorp_abund/100/5/17 Finished with 0\n",
      "2015-08-06 20:49:31,307 * INFO * [93428] Started ./SIPSimRun.sh in atomIncorp_taxaIncorp_abund/25/50/18\n",
      "2015-08-06 20:49:32,273 * INFO * [93182] atomIncorp_taxaIncorp_abund/100/5/4 Finished with 0\n",
      "2015-08-06 20:49:32,283 * INFO * [93440] Started ./SIPSimRun.sh in atomIncorp_taxaIncorp_abund/25/50/15\n",
      "2015-08-06 20:49:33,886 * INFO * [93162] atomIncorp_taxaIncorp_abund/100/5/1 Finished with 0\n",
      "2015-08-06 20:49:33,896 * INFO * [93452] Started ./SIPSimRun.sh in atomIncorp_taxaIncorp_abund/25/50/11\n",
      "2015-08-06 20:49:34,527 * INFO * [93194] atomIncorp_taxaIncorp_abund/100/5/5 Finished with 0\n",
      "2015-08-06 20:49:34,536 * INFO * [93464] Started ./SIPSimRun.sh in atomIncorp_taxaIncorp_abund/25/50/16\n",
      "2015-08-06 20:49:36,630 * INFO * [93150] atomIncorp_taxaIncorp_abund/100/5/12 Finished with 0\n",
      "2015-08-06 20:49:36,644 * INFO * [93498] Started ./SIPSimRun.sh in atomIncorp_taxaIncorp_abund/25/50/9\n",
      "2015-08-06 20:49:52,234 * INFO * [93224] atomIncorp_taxaIncorp_abund/25/50/20 Finished with 0\n",
      "2015-08-06 20:49:52,243 * INFO * [93586] Started ./SIPSimRun.sh in atomIncorp_taxaIncorp_abund/25/50/17\n",
      "2015-08-06 20:49:55,818 * INFO * [93324] atomIncorp_taxaIncorp_abund/25/50/14 Finished with 0\n",
      "2015-08-06 20:49:55,824 * INFO * [93652] Started ./SIPSimRun.sh in atomIncorp_taxaIncorp_abund/25/50/8\n",
      "2015-08-06 20:50:05,506 * INFO * [93464] atomIncorp_taxaIncorp_abund/25/50/16 Finished with 0\n",
      "2015-08-06 20:50:05,519 * INFO * [93694] Started ./SIPSimRun.sh in atomIncorp_taxaIncorp_abund/25/50/3\n",
      "2015-08-06 20:50:06,688 * INFO * [93428] atomIncorp_taxaIncorp_abund/25/50/18 Finished with 0\n",
      "2015-08-06 20:50:06,698 * INFO * [93714] Started ./SIPSimRun.sh in atomIncorp_taxaIncorp_abund/25/50/13\n",
      "2015-08-06 20:50:10,381 * INFO * [93212] atomIncorp_taxaIncorp_abund/100/5/6 Finished with 0\n",
      "2015-08-06 20:50:10,394 * INFO * [93740] Started ./SIPSimRun.sh in atomIncorp_taxaIncorp_abund/25/50/10\n",
      "2015-08-06 20:50:11,725 * INFO * [93498] atomIncorp_taxaIncorp_abund/25/50/9 Finished with 0\n",
      "2015-08-06 20:50:11,734 * INFO * [93776] Started ./SIPSimRun.sh in atomIncorp_taxaIncorp_abund/25/50/2\n",
      "2015-08-06 20:50:19,504 * INFO * [93440] atomIncorp_taxaIncorp_abund/25/50/15 Finished with 0\n",
      "2015-08-06 20:50:19,515 * INFO * [93810] Started ./SIPSimRun.sh in atomIncorp_taxaIncorp_abund/25/50/12\n",
      "2015-08-06 20:50:20,084 * INFO * [93389] atomIncorp_taxaIncorp_abund/25/50/19 Finished with 0\n",
      "2015-08-06 20:50:20,095 * INFO * [93822] Started ./SIPSimRun.sh in atomIncorp_taxaIncorp_abund/25/50/1\n",
      "2015-08-06 20:50:20,824 * INFO * [93586] atomIncorp_taxaIncorp_abund/25/50/17 Finished with 0\n",
      "2015-08-06 20:50:20,837 * INFO * [93834] Started ./SIPSimRun.sh in atomIncorp_taxaIncorp_abund/25/50/4\n",
      "2015-08-06 20:50:27,007 * INFO * [93376] atomIncorp_taxaIncorp_abund/25/50/7 Finished with 0\n",
      "2015-08-06 20:50:27,016 * INFO * [93862] Started ./SIPSimRun.sh in atomIncorp_taxaIncorp_abund/25/50/5\n",
      "2015-08-06 20:50:30,963 * INFO * [93652] atomIncorp_taxaIncorp_abund/25/50/8 Finished with 0\n",
      "2015-08-06 20:50:30,972 * INFO * [93894] Started ./SIPSimRun.sh in atomIncorp_taxaIncorp_abund/25/50/6\n",
      "2015-08-06 20:50:31,681 * INFO * [93452] atomIncorp_taxaIncorp_abund/25/50/11 Finished with 0\n",
      "2015-08-06 20:50:31,691 * INFO * [93906] Started ./SIPSimRun.sh in atomIncorp_taxaIncorp_abund/25/25/20\n",
      "2015-08-06 20:50:36,229 * INFO * [93694] atomIncorp_taxaIncorp_abund/25/50/3 Finished with 0\n",
      "2015-08-06 20:50:36,239 * INFO * [93940] Started ./SIPSimRun.sh in atomIncorp_taxaIncorp_abund/25/25/14\n",
      "2015-08-06 20:50:53,723 * INFO * [93810] atomIncorp_taxaIncorp_abund/25/50/12 Finished with 0\n",
      "2015-08-06 20:50:53,734 * INFO * [94077] Started ./SIPSimRun.sh in atomIncorp_taxaIncorp_abund/25/25/7\n",
      "2015-08-06 20:50:59,171 * INFO * [93822] atomIncorp_taxaIncorp_abund/25/50/1 Finished with 0\n",
      "2015-08-06 20:50:59,183 * INFO * [94105] Started ./SIPSimRun.sh in atomIncorp_taxaIncorp_abund/25/25/19\n",
      "2015-08-06 20:50:59,425 * INFO * [93776] atomIncorp_taxaIncorp_abund/25/50/2 Finished with 0\n",
      "2015-08-06 20:50:59,433 * INFO * [94117] Started ./SIPSimRun.sh in atomIncorp_taxaIncorp_abund/25/25/18\n",
      "2015-08-06 20:51:02,822 * INFO * [93714] atomIncorp_taxaIncorp_abund/25/50/13 Finished with 0\n",
      "2015-08-06 20:51:02,832 * INFO * [94151] Started ./SIPSimRun.sh in atomIncorp_taxaIncorp_abund/25/25/15\n",
      "2015-08-06 20:51:03,940 * INFO * [93740] atomIncorp_taxaIncorp_abund/25/50/10 Finished with 0\n",
      "2015-08-06 20:51:03,950 * INFO * [94163] Started ./SIPSimRun.sh in atomIncorp_taxaIncorp_abund/25/25/11\n",
      "2015-08-06 20:51:10,256 * INFO * [93894] atomIncorp_taxaIncorp_abund/25/50/6 Finished with 0\n",
      "2015-08-06 20:51:10,267 * INFO * [94197] Started ./SIPSimRun.sh in atomIncorp_taxaIncorp_abund/25/25/16\n",
      "2015-08-06 20:51:12,583 * INFO * [93862] atomIncorp_taxaIncorp_abund/25/50/5 Finished with 0\n",
      "2015-08-06 20:51:12,595 * INFO * [94223] Started ./SIPSimRun.sh in atomIncorp_taxaIncorp_abund/25/25/9\n",
      "2015-08-06 20:51:20,853 * INFO * [93834] atomIncorp_taxaIncorp_abund/25/50/4 Finished with 0\n",
      "2015-08-06 20:51:20,862 * INFO * [94271] Started ./SIPSimRun.sh in atomIncorp_taxaIncorp_abund/25/25/17\n",
      "2015-08-06 20:51:22,494 * INFO * [93906] atomIncorp_taxaIncorp_abund/25/25/20 Finished with 0\n",
      "2015-08-06 20:51:22,503 * INFO * [94289] Started ./SIPSimRun.sh in atomIncorp_taxaIncorp_abund/25/25/8\n",
      "2015-08-06 20:51:25,733 * INFO * [93940] atomIncorp_taxaIncorp_abund/25/25/14 Finished with 0\n",
      "2015-08-06 20:51:25,744 * INFO * [94331] Started ./SIPSimRun.sh in atomIncorp_taxaIncorp_abund/25/25/3\n",
      "2015-08-06 20:51:33,009 * INFO * [94151] atomIncorp_taxaIncorp_abund/25/25/15 Finished with 0\n",
      "2015-08-06 20:51:33,019 * INFO * [94367] Started ./SIPSimRun.sh in atomIncorp_taxaIncorp_abund/25/25/13\n",
      "2015-08-06 20:51:38,379 * INFO * [94077] atomIncorp_taxaIncorp_abund/25/25/7 Finished with 0\n",
      "2015-08-06 20:51:38,391 * INFO * [94399] Started ./SIPSimRun.sh in atomIncorp_taxaIncorp_abund/25/25/10\n",
      "2015-08-06 20:51:43,943 * INFO * [94197] atomIncorp_taxaIncorp_abund/25/25/16 Finished with 0\n",
      "2015-08-06 20:51:43,953 * INFO * [94441] Started ./SIPSimRun.sh in atomIncorp_taxaIncorp_abund/25/25/2\n",
      "2015-08-06 20:51:48,712 * INFO * [94117] atomIncorp_taxaIncorp_abund/25/25/18 Finished with 0\n",
      "2015-08-06 20:51:48,720 * INFO * [94484] Started ./SIPSimRun.sh in atomIncorp_taxaIncorp_abund/25/25/12\n",
      "2015-08-06 20:51:54,146 * INFO * [94163] atomIncorp_taxaIncorp_abund/25/25/11 Finished with 0\n",
      "2015-08-06 20:51:54,157 * INFO * [94528] Started ./SIPSimRun.sh in atomIncorp_taxaIncorp_abund/25/25/1\n",
      "2015-08-06 20:51:57,507 * INFO * [94223] atomIncorp_taxaIncorp_abund/25/25/9 Finished with 0\n",
      "2015-08-06 20:51:57,527 * INFO * [94562] Started ./SIPSimRun.sh in atomIncorp_taxaIncorp_abund/25/25/4\n",
      "2015-08-06 20:51:58,238 * INFO * [94105] atomIncorp_taxaIncorp_abund/25/25/19 Finished with 0\n",
      "2015-08-06 20:51:58,248 * INFO * [94574] Started ./SIPSimRun.sh in atomIncorp_taxaIncorp_abund/25/25/5\n",
      "2015-08-06 20:52:01,899 * INFO * [94331] atomIncorp_taxaIncorp_abund/25/25/3 Finished with 0\n",
      "2015-08-06 20:52:01,907 * INFO * [94594] Started ./SIPSimRun.sh in atomIncorp_taxaIncorp_abund/25/25/6\n",
      "2015-08-06 20:52:09,462 * INFO * [94399] atomIncorp_taxaIncorp_abund/25/25/10 Finished with 0\n",
      "2015-08-06 20:52:09,472 * INFO * [94628] Started ./SIPSimRun.sh in atomIncorp_taxaIncorp_abund/25/10/20\n",
      "2015-08-06 20:52:11,176 * INFO * [94289] atomIncorp_taxaIncorp_abund/25/25/8 Finished with 0\n",
      "2015-08-06 20:52:11,192 * INFO * [94640] Started ./SIPSimRun.sh in atomIncorp_taxaIncorp_abund/25/10/14\n",
      "2015-08-06 20:52:12,399 * INFO * [94271] atomIncorp_taxaIncorp_abund/25/25/17 Finished with 0\n",
      "2015-08-06 20:52:12,411 * INFO * [94652] Started ./SIPSimRun.sh in atomIncorp_taxaIncorp_abund/25/10/7\n",
      "2015-08-06 20:52:19,633 * INFO * [94367] atomIncorp_taxaIncorp_abund/25/25/13 Finished with 0\n",
      "2015-08-06 20:52:19,644 * INFO * [94698] Started ./SIPSimRun.sh in atomIncorp_taxaIncorp_abund/25/10/19\n",
      "2015-08-06 20:52:28,866 * INFO * [94562] atomIncorp_taxaIncorp_abund/25/25/4 Finished with 0\n",
      "2015-08-06 20:52:28,871 * INFO * [94774] Started ./SIPSimRun.sh in atomIncorp_taxaIncorp_abund/25/10/18\n",
      "2015-08-06 20:52:32,724 * INFO * [94594] atomIncorp_taxaIncorp_abund/25/25/6 Finished with 0\n",
      "2015-08-06 20:52:32,734 * INFO * [94800] Started ./SIPSimRun.sh in atomIncorp_taxaIncorp_abund/25/10/15\n",
      "2015-08-06 20:52:49,445 * INFO * [94484] atomIncorp_taxaIncorp_abund/25/25/12 Finished with 0\n",
      "2015-08-06 20:52:49,455 * INFO * [94926] Started ./SIPSimRun.sh in atomIncorp_taxaIncorp_abund/25/10/11\n",
      "2015-08-06 20:52:49,663 * INFO * [94698] atomIncorp_taxaIncorp_abund/25/10/19 Finished with 0\n",
      "2015-08-06 20:52:49,674 * INFO * [94938] Started ./SIPSimRun.sh in atomIncorp_taxaIncorp_abund/25/10/16\n",
      "2015-08-06 20:52:53,248 * INFO * [94574] atomIncorp_taxaIncorp_abund/25/25/5 Finished with 0\n",
      "2015-08-06 20:52:53,258 * INFO * [94950] Started ./SIPSimRun.sh in atomIncorp_taxaIncorp_abund/25/10/9\n",
      "2015-08-06 20:53:01,667 * INFO * [94774] atomIncorp_taxaIncorp_abund/25/10/18 Finished with 0\n",
      "2015-08-06 20:53:01,673 * INFO * [95000] Started ./SIPSimRun.sh in atomIncorp_taxaIncorp_abund/25/10/17\n",
      "2015-08-06 20:53:02,741 * INFO * [94528] atomIncorp_taxaIncorp_abund/25/25/1 Finished with 0\n",
      "2015-08-06 20:53:02,750 * INFO * [95012] Started ./SIPSimRun.sh in atomIncorp_taxaIncorp_abund/25/10/8\n",
      "2015-08-06 20:53:02,949 * INFO * [94441] atomIncorp_taxaIncorp_abund/25/25/2 Finished with 0\n",
      "2015-08-06 20:53:02,957 * INFO * [95024] Started ./SIPSimRun.sh in atomIncorp_taxaIncorp_abund/25/10/3\n",
      "2015-08-06 20:53:05,264 * INFO * [94628] atomIncorp_taxaIncorp_abund/25/10/20 Finished with 0\n",
      "2015-08-06 20:53:05,273 * INFO * [95056] Started ./SIPSimRun.sh in atomIncorp_taxaIncorp_abund/25/10/13\n",
      "2015-08-06 20:53:09,066 * INFO * [94652] atomIncorp_taxaIncorp_abund/25/10/7 Finished with 0\n",
      "2015-08-06 20:53:09,076 * INFO * [95068] Started ./SIPSimRun.sh in atomIncorp_taxaIncorp_abund/25/10/10\n",
      "2015-08-06 20:53:11,669 * INFO * [94640] atomIncorp_taxaIncorp_abund/25/10/14 Finished with 0\n",
      "2015-08-06 20:53:11,680 * INFO * [95094] Started ./SIPSimRun.sh in atomIncorp_taxaIncorp_abund/25/10/2\n",
      "2015-08-06 20:53:18,718 * INFO * [94800] atomIncorp_taxaIncorp_abund/25/10/15 Finished with 0\n",
      "2015-08-06 20:53:18,729 * INFO * [95134] Started ./SIPSimRun.sh in atomIncorp_taxaIncorp_abund/25/10/12\n",
      "2015-08-06 20:53:27,942 * INFO * [94938] atomIncorp_taxaIncorp_abund/25/10/16 Finished with 0\n",
      "2015-08-06 20:53:27,954 * INFO * [95200] Started ./SIPSimRun.sh in atomIncorp_taxaIncorp_abund/25/10/1\n",
      "2015-08-06 20:53:31,510 * INFO * [95000] atomIncorp_taxaIncorp_abund/25/10/17 Finished with 0\n",
      "2015-08-06 20:53:31,521 * INFO * [95218] Started ./SIPSimRun.sh in atomIncorp_taxaIncorp_abund/25/10/4\n",
      "2015-08-06 20:53:37,680 * INFO * [94950] atomIncorp_taxaIncorp_abund/25/10/9 Finished with 0\n",
      "2015-08-06 20:53:37,691 * INFO * [95258] Started ./SIPSimRun.sh in atomIncorp_taxaIncorp_abund/25/10/5\n",
      "2015-08-06 20:53:40,328 * INFO * [94926] atomIncorp_taxaIncorp_abund/25/10/11 Finished with 0\n",
      "2015-08-06 20:53:40,336 * INFO * [95286] Started ./SIPSimRun.sh in atomIncorp_taxaIncorp_abund/25/10/6\n",
      "2015-08-06 20:53:42,114 * INFO * [95094] atomIncorp_taxaIncorp_abund/25/10/2 Finished with 0\n",
      "2015-08-06 20:53:42,125 * INFO * [95306] Started ./SIPSimRun.sh in atomIncorp_taxaIncorp_abund/25/1/20\n",
      "2015-08-06 20:53:48,268 * INFO * [95056] atomIncorp_taxaIncorp_abund/25/10/13 Finished with 0\n",
      "2015-08-06 20:53:48,276 * INFO * [95346] Started ./SIPSimRun.sh in atomIncorp_taxaIncorp_abund/25/1/14\n",
      "2015-08-06 20:53:59,040 * INFO * [95134] atomIncorp_taxaIncorp_abund/25/10/12 Finished with 0\n",
      "2015-08-06 20:53:59,046 * INFO * [95432] Started ./SIPSimRun.sh in atomIncorp_taxaIncorp_abund/25/1/7\n",
      "2015-08-06 20:54:01,836 * INFO * [95012] atomIncorp_taxaIncorp_abund/25/10/8 Finished with 0\n",
      "2015-08-06 20:54:01,845 * INFO * [95446] Started ./SIPSimRun.sh in atomIncorp_taxaIncorp_abund/25/1/19\n",
      "2015-08-06 20:54:03,554 * INFO * [95286] atomIncorp_taxaIncorp_abund/25/10/6 Finished with 0\n",
      "2015-08-06 20:54:03,561 * INFO * [95471] Started ./SIPSimRun.sh in atomIncorp_taxaIncorp_abund/25/1/18\n",
      "2015-08-06 20:54:05,129 * INFO * [95024] atomIncorp_taxaIncorp_abund/25/10/3 Finished with 0\n",
      "2015-08-06 20:54:05,137 * INFO * [95499] Started ./SIPSimRun.sh in atomIncorp_taxaIncorp_abund/25/1/15\n",
      "2015-08-06 20:54:12,945 * INFO * [95218] atomIncorp_taxaIncorp_abund/25/10/4 Finished with 0\n",
      "2015-08-06 20:54:12,955 * INFO * [95562] Started ./SIPSimRun.sh in atomIncorp_taxaIncorp_abund/25/1/11\n",
      "2015-08-06 20:54:13,525 * INFO * [95306] atomIncorp_taxaIncorp_abund/25/1/20 Finished with 0\n",
      "2015-08-06 20:54:13,532 * INFO * [95588] Started ./SIPSimRun.sh in atomIncorp_taxaIncorp_abund/25/1/16\n",
      "2015-08-06 20:54:23,867 * INFO * [95068] atomIncorp_taxaIncorp_abund/25/10/10 Finished with 0\n",
      "2015-08-06 20:54:23,876 * INFO * [95727] Started ./SIPSimRun.sh in atomIncorp_taxaIncorp_abund/25/1/9\n",
      "2015-08-06 20:54:29,548 * INFO * [95200] atomIncorp_taxaIncorp_abund/25/10/1 Finished with 0\n",
      "2015-08-06 20:54:29,557 * INFO * [95777] Started ./SIPSimRun.sh in atomIncorp_taxaIncorp_abund/25/1/17\n",
      "2015-08-06 20:54:30,155 * INFO * [95499] atomIncorp_taxaIncorp_abund/25/1/15 Finished with 0\n",
      "2015-08-06 20:54:30,160 * INFO * [95789] Started ./SIPSimRun.sh in atomIncorp_taxaIncorp_abund/25/1/8\n",
      "2015-08-06 20:54:30,856 * INFO * [95471] atomIncorp_taxaIncorp_abund/25/1/18 Finished with 0\n",
      "2015-08-06 20:54:30,863 * INFO * [95801] Started ./SIPSimRun.sh in atomIncorp_taxaIncorp_abund/25/1/3\n",
      "2015-08-06 20:54:40,091 * INFO * [95562] atomIncorp_taxaIncorp_abund/25/1/11 Finished with 0\n",
      "2015-08-06 20:54:40,101 * INFO * [95871] Started ./SIPSimRun.sh in atomIncorp_taxaIncorp_abund/25/1/13\n",
      "2015-08-06 20:54:42,889 * INFO * [95258] atomIncorp_taxaIncorp_abund/25/10/5 Finished with 0\n",
      "2015-08-06 20:54:42,897 * INFO * [95899] Started ./SIPSimRun.sh in atomIncorp_taxaIncorp_abund/25/1/10\n",
      "2015-08-06 20:54:48,852 * INFO * [95432] atomIncorp_taxaIncorp_abund/25/1/7 Finished with 0\n",
      "2015-08-06 20:54:48,859 * INFO * [95941] Started ./SIPSimRun.sh in atomIncorp_taxaIncorp_abund/25/1/2\n",
      "2015-08-06 20:54:50,795 * INFO * [95446] atomIncorp_taxaIncorp_abund/25/1/19 Finished with 0\n",
      "2015-08-06 20:54:50,801 * INFO * [95959] Started ./SIPSimRun.sh in atomIncorp_taxaIncorp_abund/25/1/12\n",
      "2015-08-06 20:54:51,807 * INFO * [95346] atomIncorp_taxaIncorp_abund/25/1/14 Finished with 0\n",
      "2015-08-06 20:54:51,816 * INFO * [95979] Started ./SIPSimRun.sh in atomIncorp_taxaIncorp_abund/25/1/1\n",
      "2015-08-06 20:55:01,370 * INFO * [95727] atomIncorp_taxaIncorp_abund/25/1/9 Finished with 0\n",
      "2015-08-06 20:55:01,379 * INFO * [96043] Started ./SIPSimRun.sh in atomIncorp_taxaIncorp_abund/25/1/4\n",
      "2015-08-06 20:55:02,520 * INFO * [95588] atomIncorp_taxaIncorp_abund/25/1/16 Finished with 0\n",
      "2015-08-06 20:55:02,527 * INFO * [96072] Started ./SIPSimRun.sh in atomIncorp_taxaIncorp_abund/25/1/5\n",
      "2015-08-06 20:55:08,581 * INFO * [95871] atomIncorp_taxaIncorp_abund/25/1/13 Finished with 0\n",
      "2015-08-06 20:55:08,592 * INFO * [96122] Started ./SIPSimRun.sh in atomIncorp_taxaIncorp_abund/25/1/6\n",
      "2015-08-06 20:55:15,249 * INFO * [95941] atomIncorp_taxaIncorp_abund/25/1/2 Finished with 0\n",
      "2015-08-06 20:55:15,254 * INFO * [96172] Started ./SIPSimRun.sh in atomIncorp_taxaIncorp_abund/25/5/20\n",
      "2015-08-06 20:55:15,369 * INFO * [95777] atomIncorp_taxaIncorp_abund/25/1/17 Finished with 0\n",
      "2015-08-06 20:55:15,375 * INFO * [96184] Started ./SIPSimRun.sh in atomIncorp_taxaIncorp_abund/25/5/14\n",
      "2015-08-06 20:55:17,385 * INFO * [95959] atomIncorp_taxaIncorp_abund/25/1/12 Finished with 0\n",
      "2015-08-06 20:55:17,391 * INFO * [96202] Started ./SIPSimRun.sh in atomIncorp_taxaIncorp_abund/25/5/7\n",
      "2015-08-06 20:55:17,593 * INFO * [95801] atomIncorp_taxaIncorp_abund/25/1/3 Finished with 0\n",
      "2015-08-06 20:55:17,600 * INFO * [96214] Started ./SIPSimRun.sh in atomIncorp_taxaIncorp_abund/25/5/19\n",
      "2015-08-06 20:55:23,023 * INFO * [95979] atomIncorp_taxaIncorp_abund/25/1/1 Finished with 0\n",
      "2015-08-06 20:55:23,030 * INFO * [96234] Started ./SIPSimRun.sh in atomIncorp_taxaIncorp_abund/25/5/18\n",
      "2015-08-06 20:55:25,867 * INFO * [95789] atomIncorp_taxaIncorp_abund/25/1/8 Finished with 0\n",
      "2015-08-06 20:55:25,872 * INFO * [96252] Started ./SIPSimRun.sh in atomIncorp_taxaIncorp_abund/25/5/15\n",
      "2015-08-06 20:55:32,419 * INFO * [96043] atomIncorp_taxaIncorp_abund/25/1/4 Finished with 0\n",
      "2015-08-06 20:55:32,424 * INFO * [96322] Started ./SIPSimRun.sh in atomIncorp_taxaIncorp_abund/25/5/11\n",
      "2015-08-06 20:55:44,480 * INFO * [96172] atomIncorp_taxaIncorp_abund/25/5/20 Finished with 0\n",
      "2015-08-06 20:55:44,487 * INFO * [96418] Started ./SIPSimRun.sh in atomIncorp_taxaIncorp_abund/25/5/16\n",
      "2015-08-06 20:55:45,616 * INFO * [96214] atomIncorp_taxaIncorp_abund/25/5/19 Finished with 0\n",
      "2015-08-06 20:55:45,624 * INFO * [96430] Started ./SIPSimRun.sh in atomIncorp_taxaIncorp_abund/25/5/9\n",
      "2015-08-06 20:55:47,849 * INFO * [96234] atomIncorp_taxaIncorp_abund/25/5/18 Finished with 0\n",
      "2015-08-06 20:55:47,856 * INFO * [96448] Started ./SIPSimRun.sh in atomIncorp_taxaIncorp_abund/25/5/17\n",
      "2015-08-06 20:55:47,951 * INFO * [96072] atomIncorp_taxaIncorp_abund/25/1/5 Finished with 0\n",
      "2015-08-06 20:55:47,956 * INFO * [96460] Started ./SIPSimRun.sh in atomIncorp_taxaIncorp_abund/25/5/8\n",
      "2015-08-06 20:55:48,648 * INFO * [95899] atomIncorp_taxaIncorp_abund/25/1/10 Finished with 0\n",
      "2015-08-06 20:55:48,655 * INFO * [96480] Started ./SIPSimRun.sh in atomIncorp_taxaIncorp_abund/25/5/3\n",
      "2015-08-06 20:55:53,282 * INFO * [96122] atomIncorp_taxaIncorp_abund/25/1/6 Finished with 0\n",
      "2015-08-06 20:55:53,286 * INFO * [96498] Started ./SIPSimRun.sh in atomIncorp_taxaIncorp_abund/25/5/13\n",
      "2015-08-06 20:55:55,337 * INFO * [96202] atomIncorp_taxaIncorp_abund/25/5/7 Finished with 0\n",
      "2015-08-06 20:55:55,343 * INFO * [96536] Started ./SIPSimRun.sh in atomIncorp_taxaIncorp_abund/25/5/10\n",
      "2015-08-06 20:55:56,145 * INFO * [96184] atomIncorp_taxaIncorp_abund/25/5/14 Finished with 0\n",
      "2015-08-06 20:55:56,152 * INFO * [96554] Started ./SIPSimRun.sh in atomIncorp_taxaIncorp_abund/25/5/2\n",
      "2015-08-06 20:56:09,466 * INFO * [96460] atomIncorp_taxaIncorp_abund/25/5/8 Finished with 0\n",
      "2015-08-06 20:56:09,473 * INFO * [96676] Started ./SIPSimRun.sh in atomIncorp_taxaIncorp_abund/25/5/12\n",
      "2015-08-06 20:56:10,567 * INFO * [96480] atomIncorp_taxaIncorp_abund/25/5/3 Finished with 0\n",
      "2015-08-06 20:56:10,573 * INFO * [96702] Started ./SIPSimRun.sh in atomIncorp_taxaIncorp_abund/25/5/1\n",
      "2015-08-06 20:56:15,663 * INFO * [96252] atomIncorp_taxaIncorp_abund/25/5/15 Finished with 0\n",
      "2015-08-06 20:56:15,669 * INFO * [96744] Started ./SIPSimRun.sh in atomIncorp_taxaIncorp_abund/25/5/4\n",
      "2015-08-06 20:56:18,226 * INFO * [96430] atomIncorp_taxaIncorp_abund/25/5/9 Finished with 0\n",
      "2015-08-06 20:56:18,232 * INFO * [96764] Started ./SIPSimRun.sh in atomIncorp_taxaIncorp_abund/25/5/5\n",
      "2015-08-06 20:56:20,854 * INFO * [96448] atomIncorp_taxaIncorp_abund/25/5/17 Finished with 0\n",
      "2015-08-06 20:56:20,859 * INFO * [96784] Started ./SIPSimRun.sh in atomIncorp_taxaIncorp_abund/25/5/6\n",
      "2015-08-06 20:56:24,997 * INFO * [96322] atomIncorp_taxaIncorp_abund/25/5/11 Finished with 0\n",
      "2015-08-06 20:56:25,373 * INFO * [96418] atomIncorp_taxaIncorp_abund/25/5/16 Finished with 0\n",
      "2015-08-06 20:56:26,595 * INFO * [96498] atomIncorp_taxaIncorp_abund/25/5/13 Finished with 0\n",
      "2015-08-06 20:56:29,912 * INFO * [96536] atomIncorp_taxaIncorp_abund/25/5/10 Finished with 0\n",
      "2015-08-06 20:56:35,265 * INFO * [96554] atomIncorp_taxaIncorp_abund/25/5/2 Finished with 0\n"
     ]
    }
   ],
   "source": [
    "!cd $workDir; \\\n",
    "    nestrun -j 10 --template-file $bashFile -d atomIncorp_taxaIncorp_abund --log-file log.txt"
   ]
  },
  {
   "cell_type": "code",
   "execution_count": 81,
   "metadata": {
    "collapsed": false
   },
   "outputs": [],
   "source": [
    "# aggregating confusion matrix data\n",
    "## byClass\n",
    "### dominant\n",
    "!cd $workDir; \\\n",
    "    nestagg delim \\\n",
    "        -d atomIncorp_taxaIncorp_abund \\\n",
    "        -k percIncorp,percTaxa,rep \\\n",
    "        -o ./atomIncorp_taxaIncorp_abund/DESeq2-cMtx_dom_byClass.csv \\\n",
    "        DESeq2-cMtx_dom_byClass.csv\n",
    "\n",
    "### rare\n",
    "!cd $workDir; \\\n",
    "    nestagg delim \\\n",
    "        -d atomIncorp_taxaIncorp_abund \\\n",
    "        -k percIncorp,percTaxa,rep \\\n",
    "        -o ./atomIncorp_taxaIncorp_abund/DESeq2-cMtx_rare_byClass.csv \\\n",
    "        DESeq2-cMtx_rare_byClass.csv        "
   ]
  },
  {
   "cell_type": "markdown",
   "metadata": {},
   "source": [
    "# Plotting accuracy"
   ]
  },
  {
   "cell_type": "markdown",
   "metadata": {},
   "source": [
    "## Dominant taxa"
   ]
  },
  {
   "cell_type": "code",
   "execution_count": 82,
   "metadata": {
    "collapsed": false
   },
   "outputs": [
    {
     "data": {
      "text/plain": [
       "               X   byClass percIncorp percTaxa rep\n",
       "1    Sensitivity 0.5000000         50       50  20\n",
       "2    Specificity 1.0000000         50       50  20\n",
       "3 Pos Pred Value 1.0000000         50       50  20\n",
       "4 Neg Pred Value 0.4285714         50       50  20\n",
       "5     Prevalence 0.7272727         50       50  20\n",
       "6 Detection Rate 0.3636364         50       50  20\n"
      ]
     },
     "metadata": {},
     "output_type": "display_data"
    }
   ],
   "source": [
    "%%R -i workDir\n",
    "setwd(workDir)\n",
    "\n",
    "byClass = read.csv('./atomIncorp_taxaIncorp_abund/DESeq2-cMtx_dom_byClass.csv')\n",
    "byClass %>% head"
   ]
  },
  {
   "cell_type": "code",
   "execution_count": 83,
   "metadata": {
    "collapsed": false
   },
   "outputs": [
    {
     "data": {
      "image/png": "[encoded data removed]"
     },
     "metadata": {},
     "output_type": "display_data"
    }
   ],
   "source": [
    "%%R -w 700 \n",
    "\n",
    "col2keep = c('Balanced Accuracy', 'Sensitivity','Specificity')\n",
    "\n",
    "byClass.f = byClass %>%\n",
    "    filter(X %in% col2keep) %>%\n",
    "    mutate(percIncorp = as.character(percIncorp),\n",
    "           percTaxa = as.character(percTaxa))\n",
    "\n",
    "byClass.f$percIncorp = factor(byClass.f$percIncorp, levels=sort(unique(as.numeric(byClass.f$percIncorp))))\n",
    "byClass.f$percTaxa = factor(byClass.f$percTaxa, levels=sort(unique(as.numeric(byClass.f$percTaxa))))\n",
    "\n",
    "\n",
    "ggplot(byClass.f, aes(percIncorp, byClass, fill=percTaxa)) +\n",
    "    geom_boxplot(position='dodge') +\n",
    "    labs(y='Value', x='Atom percent 13C') +\n",
    "    facet_grid(X ~ .) +\n",
    "    theme(\n",
    "        text = element_text(size=16)\n",
    "        )"
   ]
  },
  {
   "cell_type": "markdown",
   "metadata": {},
   "source": [
    "## Rare taxa"
   ]
  },
  {
   "cell_type": "code",
   "execution_count": 84,
   "metadata": {
    "collapsed": false
   },
   "outputs": [
    {
     "data": {
      "text/plain": [
       "               X    byClass percIncorp percTaxa rep\n",
       "1    Sensitivity 0.13725490         50       50  20\n",
       "2    Specificity 1.00000000         50       50  20\n",
       "3 Pos Pred Value 1.00000000         50       50  20\n",
       "4 Neg Pred Value 0.52857143         50       50  20\n",
       "5     Prevalence 0.50830565         50       50  20\n",
       "6 Detection Rate 0.06976744         50       50  20\n"
      ]
     },
     "metadata": {},
     "output_type": "display_data"
    }
   ],
   "source": [
    "%%R -i workDir\n",
    "setwd(workDir)\n",
    "\n",
    "byClass = read.csv('./atomIncorp_taxaIncorp_abund/DESeq2-cMtx_rare_byClass.csv')\n",
    "byClass %>% head"
   ]
  },
  {
   "cell_type": "code",
   "execution_count": 85,
   "metadata": {
    "collapsed": false
   },
   "outputs": [
    {
     "data": {
      "image/png": "[encoded data removed]"
     },
     "metadata": {},
     "output_type": "display_data"
    }
   ],
   "source": [
    "%%R -w 700 \n",
    "\n",
    "col2keep = c('Balanced Accuracy', 'Sensitivity','Specificity')\n",
    "\n",
    "byClass.f = byClass %>%\n",
    "    filter(X %in% col2keep) %>%\n",
    "    mutate(percIncorp = as.character(percIncorp),\n",
    "           percTaxa = as.character(percTaxa))\n",
    "\n",
    "byClass.f$percIncorp = factor(byClass.f$percIncorp, levels=sort(unique(as.numeric(byClass.f$percIncorp))))\n",
    "byClass.f$percTaxa = factor(byClass.f$percTaxa, levels=sort(unique(as.numeric(byClass.f$percTaxa))))\n",
    "\n",
    "\n",
    "ggplot(byClass.f, aes(percIncorp, byClass, fill=percTaxa)) +\n",
    "    geom_boxplot(position='dodge') +\n",
    "    labs(y='Value', x='Atom percent 13C') +\n",
    "    facet_grid(X ~ .) +\n",
    "    theme(\n",
    "        text = element_text(size=16)\n",
    "        )"
   ]
  },
  {
   "cell_type": "markdown",
   "metadata": {},
   "source": [
    "__Notes:__\n",
    "\n",
    "* Dominants can produce higher sensitivity, but (likely) smaller sample size, so crap shoot on whether dominant taxon is in the optimal GC window for the DESeq2 analysis. \n",
    "* Rares essentially match whole-community accuracy.\n",
    "  * Likely due to sample size of rares (most of community for log-normal abundance distribution)\n",
    "\n",
    "__Questions:__\n",
    "\n",
    "* What is the sample size of dominants and rares?"
   ]
  },
  {
   "cell_type": "markdown",
   "metadata": {},
   "source": [
    "# Sample size of dominants and rares\n",
    "\n",
    "* Method:\n",
    "    * Get number of taxa from dominant/rare-parsed DESeq2 object files"
   ]
  },
  {
   "cell_type": "code",
   "execution_count": 59,
   "metadata": {
    "collapsed": false
   },
   "outputs": [],
   "source": [
    "%%R -i workDir\n",
    "setwd(workDir)\n",
    "\n",
    "dom.files = grep('DESeq2_dom$', list.files('./atomIncorp_taxaIncorp_abund/', recursive=TRUE), value=TRUE)\n",
    "rare.files = grep('DESeq2_rare$', list.files('./atomIncorp_taxaIncorp_abund/', recursive=TRUE), value=TRUE)\n",
    "\n",
    "read_taxa = function(file.name, dir='atomIncorp_taxaIncorp_abund'){\n",
    "    f = paste(c(dir, file.name), collapse='/')\n",
    "    deseq.res = readRDS(f)\n",
    "    n.taxa = length(unique(rownames(deseq.res)))\n",
    "    return(n.taxa)\n",
    "    }\n",
    "\n",
    "dom.taxa = list()\n",
    "for(f in dom.files){\n",
    "    dom.taxa[[f]] = read_taxa(f)\n",
    "    }\n",
    "\n",
    "rare.taxa = list()\n",
    "for(f in rare.files){\n",
    "    rare.taxa[[f]] = read_taxa(f)\n",
    "    }\n"
   ]
  },
  {
   "cell_type": "code",
   "execution_count": 60,
   "metadata": {
    "collapsed": false
   },
   "outputs": [
    {
     "data": {
      "text/plain": [
       "                                          N.taxa    abund percIncorp percTaxa\n",
       "0/10/10/OTU_n2_abs1e9_sub-norm_DESeq2_dom     13 Dominant          0       10\n",
       "0/10/11/OTU_n2_abs1e9_sub-norm_DESeq2_dom     12 Dominant          0       10\n",
       "0/10/12/OTU_n2_abs1e9_sub-norm_DESeq2_dom     15 Dominant          0       10\n",
       "0/10/13/OTU_n2_abs1e9_sub-norm_DESeq2_dom     12 Dominant          0       10\n",
       "0/10/14/OTU_n2_abs1e9_sub-norm_DESeq2_dom     16 Dominant          0       10\n",
       "0/10/15/OTU_n2_abs1e9_sub-norm_DESeq2_dom     11 Dominant          0       10\n",
       "                                          rep                              file\n",
       "0/10/10/OTU_n2_abs1e9_sub-norm_DESeq2_dom  10 OTU_n2_abs1e9_sub-norm_DESeq2_dom\n",
       "0/10/11/OTU_n2_abs1e9_sub-norm_DESeq2_dom  11 OTU_n2_abs1e9_sub-norm_DESeq2_dom\n",
       "0/10/12/OTU_n2_abs1e9_sub-norm_DESeq2_dom  12 OTU_n2_abs1e9_sub-norm_DESeq2_dom\n",
       "0/10/13/OTU_n2_abs1e9_sub-norm_DESeq2_dom  13 OTU_n2_abs1e9_sub-norm_DESeq2_dom\n",
       "0/10/14/OTU_n2_abs1e9_sub-norm_DESeq2_dom  14 OTU_n2_abs1e9_sub-norm_DESeq2_dom\n",
       "0/10/15/OTU_n2_abs1e9_sub-norm_DESeq2_dom  15 OTU_n2_abs1e9_sub-norm_DESeq2_dom\n"
      ]
     },
     "metadata": {},
     "output_type": "display_data"
    }
   ],
   "source": [
    "%%R \n",
    "tbl.dom = as.data.frame(do.call(rbind, dom.taxa))\n",
    "tbl.dom$abund = 'Dominant'\n",
    "tbl.rare = as.data.frame(do.call(rbind, rare.taxa))\n",
    "tbl.rare$abund = 'Rare'\n",
    "\n",
    "tbl.dom.rare = rbind(tbl.dom, tbl.rare)\n",
    "colnames(tbl.dom.rare)[1] = 'N.taxa'\n",
    "tbl.dom.rare$file = rownames(tbl.dom.rare) \n",
    "tbl.dom.rare = tbl.dom.rare %>% \n",
    "    separate(file, c('percIncorp','percTaxa','rep','file'), sep='/') \n",
    "tbl.dom.rare %>% head"
   ]
  },
  {
   "cell_type": "code",
   "execution_count": 61,
   "metadata": {
    "collapsed": false
   },
   "outputs": [
    {
     "data": {
      "image/png": "[encoded data removed]"
     },
     "metadata": {},
     "output_type": "display_data"
    }
   ],
   "source": [
    "%%R -w 700 -h 400\n",
    "\n",
    "tbl.dom.rare$percIncorp = factor(tbl.dom.rare$percIncorp, levels=sort(unique(as.numeric(tbl.dom.rare$percIncorp))))\n",
    "tbl.dom.rare$percTaxa = factor(tbl.dom.rare$percTaxa, levels=sort(unique(as.numeric(tbl.dom.rare$percTaxa))))\n",
    "\n",
    "ggplot(tbl.dom.rare, aes(percIncorp, N.taxa, fill=percTaxa)) +\n",
    "    geom_boxplot(position='dodge') +\n",
    "    labs(y='Number of taxa', x='Atom percent 13C') +\n",
    "    facet_grid(abund ~ ., scales='free_y') +\n",
    "    theme(\n",
    "        text = element_text(size=16)\n",
    "        )"
   ]
  },
  {
   "cell_type": "markdown",
   "metadata": {},
   "source": [
    "__Notes:__\n",
    "\n",
    "* Figure is showing number of taxa in each group\n",
    "* Dominant n-taxa very low (mean values) with a high variance"
   ]
  },
  {
   "cell_type": "markdown",
   "metadata": {},
   "source": [
    "# Plotting sensitivity ~ taxon_abundance\n",
    "\n",
    "* Method: \n",
    "  * table join: DESeq res file & BD-shift\n",
    "    * join on taxon\n",
    "  * use cutoffs to select which taxa 'incorporated'\n",
    "    * padj < 0.1\n",
    "  * compare DESeq result to true result\n",
    "    * TP,FP,TN,FN\n",
    "\n",
    "* Figure:\n",
    "  * axes: taxon ~ abundance (pointrange: replicates)\n",
    "    * ordered by abundance\n",
    "  * color by classification (TP,FP,TN,FN)\n",
    "  * facet: percIncorp ~ percTaxa"
   ]
  },
  {
   "cell_type": "code",
   "execution_count": null,
   "metadata": {
    "collapsed": false
   },
   "outputs": [],
   "source": [
    "%%bash -s \"$R_dir\"\n",
    "\n",
    "find atomIncorp_taxaIncorp_abund/ -name \"*DESeq2\" | \\\n",
    "    perl -pe 's/(.+\\/).+/\\1/' | \\\n",
    "    xargs -P 8 -I % bash -c \\\n",
    "    \"$1DESeq2_addInfo.r %OTU_n2_abs1e9_sub-norm_DESeq2 %comm.txt %ampFrags_kde_dif_incorp_BD-shift.txt > %OTU_n2_abs1e9_sub-norm_DESeq2_info\"\n",
    "    "
   ]
  },
  {
   "cell_type": "code",
   "execution_count": 25,
   "metadata": {
    "collapsed": false
   },
   "outputs": [
    {
     "data": {
      "text/plain": [
       "    baseMean log2FoldChange     lfcSE       stat    pvalue      padj         p\n",
       "1  0.5049108     0.11107666 0.2718697 0.00000000 0.6953218 0.9936258 0.6953218\n",
       "2 14.5871544    -0.26250401 0.3395417 0.00000000 0.9344016 0.9936258 0.9344016\n",
       "3  0.0000000             NA        NA         NA        NA        NA        NA\n",
       "4  3.7093265     0.27897603 0.4076513 0.07108044 0.4716669 0.9936258 0.4716669\n",
       "5  2.2722084    -0.16705365 0.3580337 0.00000000 0.8779590 0.9936258 0.8779590\n",
       "6  9.7317017     0.03058377 0.3786109 0.00000000 0.7188841 0.9936258 0.7188841\n",
       "    padj.BH                                 taxon lib1 lib2 BD_shift\n",
       "1 0.9936258        Acaryochloris_marina_MBIC11017   NA    2        0\n",
       "2 0.9936258  Acetobacter_pasteurianus_IFO_3283-12   NA    2        0\n",
       "3        NA     Acetohalobium_arabaticum_DSM_5501   NA    2        0\n",
       "4 0.9936258         Achromobacter_xylosoxidans_A8   NA    2        0\n",
       "5 0.9936258  Acidaminococcus_fermentans_DSM_20731   NA    2        0\n",
       "6 0.9936258 Acidimicrobium_ferrooxidans_DSM_10331   NA    2        0\n",
       "  mean_rel_abund_perc rank\n",
       "1         0.130105629 1076\n",
       "2         0.077478995 1004\n",
       "3         0.009772099  575\n",
       "4         0.020127186  754\n",
       "5         0.016309341  699\n",
       "6         0.049043241  932\n",
       "                                                                       file\n",
       "1 ./atomIncorp_taxaIncorp_abund//0/10/10/OTU_n2_abs1e9_sub-norm_DESeq2_info\n",
       "2 ./atomIncorp_taxaIncorp_abund//0/10/10/OTU_n2_abs1e9_sub-norm_DESeq2_info\n",
       "3 ./atomIncorp_taxaIncorp_abund//0/10/10/OTU_n2_abs1e9_sub-norm_DESeq2_info\n",
       "4 ./atomIncorp_taxaIncorp_abund//0/10/10/OTU_n2_abs1e9_sub-norm_DESeq2_info\n",
       "5 ./atomIncorp_taxaIncorp_abund//0/10/10/OTU_n2_abs1e9_sub-norm_DESeq2_info\n",
       "6 ./atomIncorp_taxaIncorp_abund//0/10/10/OTU_n2_abs1e9_sub-norm_DESeq2_info\n"
      ]
     },
     "metadata": {},
     "output_type": "display_data"
    }
   ],
   "source": [
    "%%R -i workDir\n",
    "setwd(workDir)\n",
    "\n",
    "deseq.files = grep('_DESeq2_info$', list.files('./atomIncorp_taxaIncorp_abund/', recursive=TRUE), value=TRUE)\n",
    "\n",
    "\n",
    "tbl.l = list()\n",
    "for(f in deseq.files){\n",
    "    f = paste(c('./atomIncorp_taxaIncorp_abund/', f), collapse='/')\n",
    "    tbl.l[[f]] = readRDS(f) %>% mutate(file = f)\n",
    "    }\n",
    "\n",
    "tbl = do.call(rbind, tbl.l)\n",
    "rownames(tbl) = seq(1,nrow(tbl))\n",
    "\n",
    "tbl %>% head"
   ]
  },
  {
   "cell_type": "code",
   "execution_count": 33,
   "metadata": {
    "collapsed": false
   },
   "outputs": [
    {
     "data": {
      "text/plain": [
       "    baseMean log2FoldChange     lfcSE       stat    pvalue      padj         p\n",
       "1  0.5049108     0.11107666 0.2718697 0.00000000 0.6953218 0.9936258 0.6953218\n",
       "2 14.5871544    -0.26250401 0.3395417 0.00000000 0.9344016 0.9936258 0.9344016\n",
       "3  0.0000000             NA        NA         NA        NA        NA        NA\n",
       "4  3.7093265     0.27897603 0.4076513 0.07108044 0.4716669 0.9936258 0.4716669\n",
       "5  2.2722084    -0.16705365 0.3580337 0.00000000 0.8779590 0.9936258 0.8779590\n",
       "6  9.7317017     0.03058377 0.3786109 0.00000000 0.7188841 0.9936258 0.7188841\n",
       "    padj.BH                                 taxon lib1 lib2 BD_shift\n",
       "1 0.9936258        Acaryochloris_marina_MBIC11017   NA    2        0\n",
       "2 0.9936258  Acetobacter_pasteurianus_IFO_3283-12   NA    2        0\n",
       "3        NA     Acetohalobium_arabaticum_DSM_5501   NA    2        0\n",
       "4 0.9936258         Achromobacter_xylosoxidans_A8   NA    2        0\n",
       "5 0.9936258  Acidaminococcus_fermentans_DSM_20731   NA    2        0\n",
       "6 0.9936258 Acidimicrobium_ferrooxidans_DSM_10331   NA    2        0\n",
       "  mean_rel_abund_perc rank percIncorp_percTaxa percIncorp percTaxa rep\n",
       "1         0.130105629 1076                0_10          0       10  10\n",
       "2         0.077478995 1004                0_10          0       10  10\n",
       "3         0.009772099  575                0_10          0       10  10\n",
       "4         0.020127186  754                0_10          0       10  10\n",
       "5         0.016309341  699                0_10          0       10  10\n",
       "6         0.049043241  932                0_10          0       10  10\n",
       "                                file\n",
       "1 OTU_n2_abs1e9_sub-norm_DESeq2_info\n",
       "2 OTU_n2_abs1e9_sub-norm_DESeq2_info\n",
       "3 OTU_n2_abs1e9_sub-norm_DESeq2_info\n",
       "4 OTU_n2_abs1e9_sub-norm_DESeq2_info\n",
       "5 OTU_n2_abs1e9_sub-norm_DESeq2_info\n",
       "6 OTU_n2_abs1e9_sub-norm_DESeq2_info\n"
      ]
     },
     "metadata": {},
     "output_type": "display_data"
    }
   ],
   "source": [
    "%%R\n",
    "tbl.e = tbl %>%\n",
    "    mutate(file = gsub('.+//','', file)) %>%\n",
    "    separate(file, c('percIncorp','percTaxa','rep','file'), sep='/') %>%\n",
    "    unite(percIncorp_percTaxa, percIncorp, percTaxa, sep='_', remove=FALSE)\n",
    "tbl.e %>% head"
   ]
  },
  {
   "cell_type": "code",
   "execution_count": 34,
   "metadata": {
    "collapsed": false
   },
   "outputs": [
    {
     "data": {
      "text/plain": [
       "    baseMean log2FoldChange     lfcSE       stat    pvalue      padj         p\n",
       "1  0.5049108     0.11107666 0.2718697 0.00000000 0.6953218 0.9936258 0.6953218\n",
       "2 14.5871544    -0.26250401 0.3395417 0.00000000 0.9344016 0.9936258 0.9344016\n",
       "3  0.0000000             NA        NA         NA        NA        NA        NA\n",
       "4  3.7093265     0.27897603 0.4076513 0.07108044 0.4716669 0.9936258 0.4716669\n",
       "5  2.2722084    -0.16705365 0.3580337 0.00000000 0.8779590 0.9936258 0.8779590\n",
       "6  9.7317017     0.03058377 0.3786109 0.00000000 0.7188841 0.9936258 0.7188841\n",
       "    padj.BH                                 taxon lib1 lib2 BD_shift\n",
       "1 0.9936258        Acaryochloris_marina_MBIC11017   NA    2        0\n",
       "2 0.9936258  Acetobacter_pasteurianus_IFO_3283-12   NA    2        0\n",
       "3        NA     Acetohalobium_arabaticum_DSM_5501   NA    2        0\n",
       "4 0.9936258         Achromobacter_xylosoxidans_A8   NA    2        0\n",
       "5 0.9936258  Acidaminococcus_fermentans_DSM_20731   NA    2        0\n",
       "6 0.9936258 Acidimicrobium_ferrooxidans_DSM_10331   NA    2        0\n",
       "  mean_rel_abund_perc rank percIncorp_percTaxa percIncorp percTaxa rep\n",
       "1         0.130105629 1076                0_10          0       10  10\n",
       "2         0.077478995 1004                0_10          0       10  10\n",
       "3         0.009772099  575                0_10          0       10  10\n",
       "4         0.020127186  754                0_10          0       10  10\n",
       "5         0.016309341  699                0_10          0       10  10\n",
       "6         0.049043241  932                0_10          0       10  10\n",
       "                                file true_incorp DESeq_incorp  cls\n",
       "1 OTU_n2_abs1e9_sub-norm_DESeq2_info       FALSE        FALSE   TN\n",
       "2 OTU_n2_abs1e9_sub-norm_DESeq2_info       FALSE        FALSE   TN\n",
       "3 OTU_n2_abs1e9_sub-norm_DESeq2_info       FALSE           NA <NA>\n",
       "4 OTU_n2_abs1e9_sub-norm_DESeq2_info       FALSE        FALSE   TN\n",
       "5 OTU_n2_abs1e9_sub-norm_DESeq2_info       FALSE        FALSE   TN\n",
       "6 OTU_n2_abs1e9_sub-norm_DESeq2_info       FALSE        FALSE   TN\n"
      ]
     },
     "metadata": {},
     "output_type": "display_data"
    }
   ],
   "source": [
    "%%R\n",
    "BD.shift.cut = 0.05\n",
    "padj.cut = 0.1\n",
    "\n",
    "\n",
    "clsfy = function(guess,known){\n",
    "    if(is.na(guess) | is.na(known)){\n",
    "        return(NA)\n",
    "        }\n",
    "    if(guess == TRUE){\n",
    "        if(guess == known){\n",
    "            return('TP')\n",
    "            } else {\n",
    "            return('FP')\n",
    "            }\n",
    "        } else\n",
    "    if(guess == FALSE){\n",
    "        if(guess == known){\n",
    "            return('TN')\n",
    "            } else {\n",
    "            return('FN')\n",
    "            }\n",
    "        } else {\n",
    "        stop('Error: true or false needed')\n",
    "        }\n",
    "    }\n",
    "\n",
    "tbl.e = tbl.e %>% \n",
    "    mutate(true_incorp = BD_shift > BD.shift.cut,\n",
    "           DESeq_incorp = padj < padj.cut,\n",
    "           cls = mapply(clsfy, DESeq_incorp, true_incorp)) \n",
    "    \n",
    "tbl.e %>% head    "
   ]
  },
  {
   "cell_type": "code",
   "execution_count": 35,
   "metadata": {
    "collapsed": true
   },
   "outputs": [],
   "source": [
    "%%R\n",
    "tbl.e$taxon = reorder(tbl.e$taxon, dense_rank(tbl.e$mean_rel_abund_perc))\n",
    "tbl.e$percIncorp = factor(tbl.e$percIncorp, levels=sort(unique(as.numeric(tbl.e$percIncorp))))\n",
    "tbl.e$percTaxa = factor(tbl.e$percTaxa, levels=sort(unique(as.numeric(tbl.e$percTaxa))))"
   ]
  },
  {
   "cell_type": "code",
   "execution_count": 40,
   "metadata": {
    "collapsed": false
   },
   "outputs": [
    {
     "data": {
      "image/png": "[encoded data removed]"
     },
     "metadata": {},
     "output_type": "display_data"
    }
   ],
   "source": [
    "%%R -w 1000\n",
    "\n",
    "ggplot(tbl.e, aes(taxon, mean_rel_abund_perc, color=cls)) +\n",
    "    geom_point(alpha=0.5) +\n",
    "    facet_grid(percIncorp ~ percTaxa) +\n",
    "    theme(\n",
    "        text = element_text(size=16),\n",
    "        axis.text.x = element_blank()\n",
    "        )"
   ]
  },
  {
   "cell_type": "code",
   "execution_count": 52,
   "metadata": {
    "collapsed": false
   },
   "outputs": [
    {
     "data": {
      "text/plain": [
       "Source: local data frame [6 x 3]\n",
       "Groups: percIncorp\n",
       "\n",
       "  percIncorp percTaxa cor.pearson\n",
       "1         25        1 -0.03261236\n",
       "2         25        5 -0.10158500\n",
       "3         25       10 -0.08790304\n",
       "4         25       25 -0.02180432\n",
       "5         25       50  0.02516361\n",
       "6         50        1 -0.20735579\n"
      ]
     },
     "metadata": {},
     "output_type": "display_data"
    }
   ],
   "source": [
    "%%R\n",
    "\n",
    "clsfy = function(guess,known){\n",
    "    if(is.na(guess) | is.na(known)){\n",
    "        return(NA)\n",
    "        }\n",
    "    if(guess == TRUE){\n",
    "        if(guess == known){\n",
    "            return(1)\n",
    "            } else {\n",
    "            return(NA)\n",
    "            }\n",
    "        } else\n",
    "    if(guess == FALSE){\n",
    "        if(guess == known){\n",
    "            return(NA)\n",
    "            } else {\n",
    "            return(0)\n",
    "            }\n",
    "        } else {\n",
    "        stop('Error: true or false needed')\n",
    "        }\n",
    "    }\n",
    "\n",
    "tbl.s.c = tbl.e %>%\n",
    "    mutate(TP_FN = mapply(clsfy, DESeq_incorp, true_incorp)) %>%\n",
    "    filter(! is.na(TP_FN)) %>%\n",
    "    group_by(percIncorp, percTaxa) %>%\n",
    "    summarize(cor.pearson = cor(mean_rel_abund_perc, TP_FN))\n",
    "\n",
    "tbl.s.c %>% head"
   ]
  },
  {
   "cell_type": "code",
   "execution_count": 64,
   "metadata": {
    "collapsed": false
   },
   "outputs": [
    {
     "data": {
      "image/png": "[encoded data removed]"
     },
     "metadata": {},
     "output_type": "display_data"
    }
   ],
   "source": [
    "%%R -w 600 -h 350\n",
    "ggplot(tbl.s.c, aes(percIncorp, cor.pearson, fill=percTaxa)) +\n",
    "    geom_bar(stat='identity', position='dodge', width=0.5) +\n",
    "    labs(x='Atom percent 13C', y='r_pb', title='Point-biserial correlation coefficients') +\n",
    "    theme(\n",
    "        text = element_text(size=16)\n",
    "        )"
   ]
  },
  {
   "cell_type": "markdown",
   "metadata": {},
   "source": [
    "__Notes:__\n",
    "\n",
    "* Suggests that the correlation between sensitivity and taxon abundance is dependant on % atom incorp & percent of taxa that incorporated\n",
    "  * If only a few incorporator taxa, sensitivity will be poor regardless of abundance.\n",
    "  * Higher % atom produces weak positive correlation between taxon abundance and correct classification.\n",
    "* Tecnically, values are point-biserial correlation coefficients (not pearson)"
   ]
  },
  {
   "cell_type": "markdown",
   "metadata": {},
   "source": [
    "***"
   ]
  },
  {
   "cell_type": "markdown",
   "metadata": {},
   "source": [
    "# SANDBOX"
   ]
  },
  {
   "cell_type": "code",
   "execution_count": 170,
   "metadata": {
    "collapsed": false
   },
   "outputs": [
    {
     "data": {
      "text/plain": [
       "                                    baseMean log2FoldChange    lfcSE      stat\n",
       "Acetohalobium_arabaticum_DSM_5501  0.4745836      0.9200834 1.394946 0.4803651\n",
       "Acidovorax_citrulli_AAC00-1        3.2902741     -4.6553395 1.275818 0.0000000\n",
       "Acidovorax_ebreus_TPSY             4.8031896     -1.0010777 1.176846 0.0000000\n",
       "Aeromonas_hydrophila_AL09-71       0.7088409      0.5138864 1.270017 0.2077818\n",
       "Alkalilimnicola_ehrlichii_MLHE-1  28.0436962     -1.2126332 1.274566 0.0000000\n",
       "Alkaliphilus_oremlandii_OhILAs    29.5094790      0.5352219 1.697529 0.1680218\n",
       "                                     pvalue padj         p padj.BH\n",
       "Acetohalobium_arabaticum_DSM_5501 0.3154839    1 0.3154839       1\n",
       "Acidovorax_citrulli_AAC00-1       0.9999397    1 0.9999397       1\n",
       "Acidovorax_ebreus_TPSY            0.8561264    1 0.8561264       1\n",
       "Aeromonas_hydrophila_AL09-71      0.4176997    1 0.4176997       1\n",
       "Alkalilimnicola_ehrlichii_MLHE-1  0.8744236    1 0.8744236       1\n",
       "Alkaliphilus_oremlandii_OhILAs    0.4332831    1 0.4332831       1\n",
       "                                                              taxon\n",
       "Acetohalobium_arabaticum_DSM_5501 Acetohalobium_arabaticum_DSM_5501\n",
       "Acidovorax_citrulli_AAC00-1             Acidovorax_citrulli_AAC00-1\n",
       "Acidovorax_ebreus_TPSY                       Acidovorax_ebreus_TPSY\n",
       "Aeromonas_hydrophila_AL09-71           Aeromonas_hydrophila_AL09-71\n",
       "Alkalilimnicola_ehrlichii_MLHE-1   Alkalilimnicola_ehrlichii_MLHE-1\n",
       "Alkaliphilus_oremlandii_OhILAs       Alkaliphilus_oremlandii_OhILAs\n"
      ]
     },
     "metadata": {},
     "output_type": "display_data"
    }
   ],
   "source": [
    "%%R -i workDir\n",
    "setwd(workDir)\n",
    "\n",
    "x.deseq = './validation/OTU_n2_abs1e10_sub20000_DESeq2'\n",
    "deseq.res = readRDS(x.deseq)\n",
    "deseq.res = as.data.frame(deseq.res)\n",
    "deseq.res$taxon = rownames(deseq.res)\n",
    "deseq.res %>% head"
   ]
  },
  {
   "cell_type": "code",
   "execution_count": 171,
   "metadata": {
    "collapsed": false
   },
   "outputs": [
    {
     "data": {
      "text/plain": [
       "Source: local data frame [6 x 3]\n",
       "\n",
       "                            taxon_name mean_rel_abund_perc rank\n",
       "1       Acaryochloris_marina_MBIC11017         0.089773401 1010\n",
       "2       Acetobacterium_woodii_DSM_1030         0.013390418  609\n",
       "3 Acetobacter_pasteurianus_IFO_3283-12         0.003064792  270\n",
       "4    Acetohalobium_arabaticum_DSM_5501         0.058114601  928\n",
       "5         Acholeplasma_laidlawii_PG-8A         0.004121299  323\n",
       "6        Achromobacter_xylosoxidans_A8         0.024560238  752\n"
      ]
     },
     "metadata": {},
     "output_type": "display_data"
    }
   ],
   "source": [
    "%%R -i workDir\n",
    "setwd(workDir) \n",
    "\n",
    "x.comm = 'validation/comm.txt'\n",
    "comm = read.delim(x.comm, sep='\\t')\n",
    "comm.s = comm %>%\n",
    "    group_by(taxon_name) %>%\n",
    "    summarize(mean_rel_abund_perc = mean(rel_abund_perc)) %>%\n",
    "    mutate(rank = dense_rank(mean_rel_abund_perc))\n",
    "comm.s %>% head "
   ]
  },
  {
   "cell_type": "code",
   "execution_count": 172,
   "metadata": {
    "collapsed": false
   },
   "outputs": [
    {
     "data": {
      "text/plain": [
       "  lib1 lib2                              taxon BD_shift\n",
       "1   NA    2         Vibrio_vulnificus_MO6-24_O        0\n",
       "2   NA    2        Caldisericum_exile_AZM16c01      NaN\n",
       "3   NA    2        Spiroplasma_taiwanense_CT-1        0\n",
       "4   NA    2 Thermoanaerobacter_wiegelii_Rt8_B1        0\n",
       "5   NA    2       Anabaena_cylindrica_PCC_7122        0\n",
       "6   NA    2    Haemophilus_parainfluenzae_T3T1        0\n"
      ]
     },
     "metadata": {},
     "output_type": "display_data"
    }
   ],
   "source": [
    "%%R -i workDir\n",
    "setwd(workDir) \n",
    "\n",
    "x.BD = 'validation/ampFrags_kde_dif_incorp_BD-shift.txt'\n",
    "BD.shift = read.delim(x.BD, sep='\\t')\n",
    "BD.shift = BD.shift %>% \n",
    "    filter(lib2 == 2)\n",
    "BD.shift %>% head "
   ]
  },
  {
   "cell_type": "code",
   "execution_count": 173,
   "metadata": {
    "collapsed": false
   },
   "outputs": [
    {
     "data": {
      "text/plain": [
       "    baseMean log2FoldChange    lfcSE      stat    pvalue padj         p padj.BH\n",
       "1  0.4745836      0.9200834 1.394946 0.4803651 0.3154839    1 0.3154839       1\n",
       "2  3.2902741     -4.6553395 1.275818 0.0000000 0.9999397    1 0.9999397       1\n",
       "3  4.8031896     -1.0010777 1.176846 0.0000000 0.8561264    1 0.8561264       1\n",
       "4  0.7088409      0.5138864 1.270017 0.2077818 0.4176997    1 0.4176997       1\n",
       "5 28.0436962     -1.2126332 1.274566 0.0000000 0.8744236    1 0.8744236       1\n",
       "6 29.5094790      0.5352219 1.697529 0.1680218 0.4332831    1 0.4332831       1\n",
       "                              taxon lib1 lib2  BD_shift mean_rel_abund_perc\n",
       "1 Acetohalobium_arabaticum_DSM_5501   NA    2 0.0000000          0.05811460\n",
       "2       Acidovorax_citrulli_AAC00-1   NA    2 0.9994683          0.07152763\n",
       "3            Acidovorax_ebreus_TPSY   NA    2 0.0000000          0.14267760\n",
       "4      Aeromonas_hydrophila_AL09-71   NA    2 0.9968581          0.02364744\n",
       "5  Alkalilimnicola_ehrlichii_MLHE-1   NA    2 0.0000000          0.77596664\n",
       "6    Alkaliphilus_oremlandii_OhILAs   NA    2 0.0000000          1.29218348\n",
       "  rank\n",
       "1  928\n",
       "2  970\n",
       "3 1068\n",
       "4  745\n",
       "5 1187\n",
       "6 1199\n"
      ]
     },
     "metadata": {},
     "output_type": "display_data"
    }
   ],
   "source": [
    "%%R\n",
    "\n",
    "tbl.j = inner_join(deseq.res, BD.shift, c('taxon' = 'taxon'))\n",
    "tbl.j = inner_join(tbl.j, comm.s, c('taxon' = 'taxon_name'))\n",
    "tbl.j %>% head"
   ]
  },
  {
   "cell_type": "code",
   "execution_count": 174,
   "metadata": {
    "collapsed": false
   },
   "outputs": [
    {
     "data": {
      "text/plain": [
       "    baseMean log2FoldChange    lfcSE      stat    pvalue padj         p padj.BH\n",
       "1  0.4745836      0.9200834 1.394946 0.4803651 0.3154839    1 0.3154839       1\n",
       "2  3.2902741     -4.6553395 1.275818 0.0000000 0.9999397    1 0.9999397       1\n",
       "3  4.8031896     -1.0010777 1.176846 0.0000000 0.8561264    1 0.8561264       1\n",
       "4  0.7088409      0.5138864 1.270017 0.2077818 0.4176997    1 0.4176997       1\n",
       "5 28.0436962     -1.2126332 1.274566 0.0000000 0.8744236    1 0.8744236       1\n",
       "6 29.5094790      0.5352219 1.697529 0.1680218 0.4332831    1 0.4332831       1\n",
       "                              taxon lib1 lib2  BD_shift mean_rel_abund_perc\n",
       "1 Acetohalobium_arabaticum_DSM_5501   NA    2 0.0000000          0.05811460\n",
       "2       Acidovorax_citrulli_AAC00-1   NA    2 0.9994683          0.07152763\n",
       "3            Acidovorax_ebreus_TPSY   NA    2 0.0000000          0.14267760\n",
       "4      Aeromonas_hydrophila_AL09-71   NA    2 0.9968581          0.02364744\n",
       "5  Alkalilimnicola_ehrlichii_MLHE-1   NA    2 0.0000000          0.77596664\n",
       "6    Alkaliphilus_oremlandii_OhILAs   NA    2 0.0000000          1.29218348\n",
       "  rank true_incorp DESeq_incorp cls\n",
       "1  928       FALSE        FALSE  TN\n",
       "2  970        TRUE        FALSE  FN\n",
       "3 1068       FALSE        FALSE  TN\n",
       "4  745        TRUE        FALSE  FN\n",
       "5 1187       FALSE        FALSE  TN\n",
       "6 1199       FALSE        FALSE  TN\n"
      ]
     },
     "metadata": {},
     "output_type": "display_data"
    }
   ],
   "source": [
    "%%R\n",
    "BD.shift.cut = 0.05\n",
    "padj.cut = 0.1\n",
    "\n",
    "\n",
    "clsfy = function(guess,known){\n",
    "    if(guess == TRUE){\n",
    "        if(guess == known){\n",
    "            return('TP')\n",
    "            } else {\n",
    "            return('FP')\n",
    "            }\n",
    "        } else\n",
    "    if(guess == FALSE){\n",
    "        if(guess == known){\n",
    "            return('TN')\n",
    "            } else {\n",
    "            return('FN')\n",
    "            }\n",
    "        } else {\n",
    "        stop('Error: true or false needed')\n",
    "        }\n",
    "    }\n",
    "\n",
    "tbl.j = tbl.j %>% \n",
    "    mutate(true_incorp = BD_shift > BD.shift.cut,\n",
    "           DESeq_incorp = padj < padj.cut,\n",
    "           cls = mapply(clsfy, DESeq_incorp, true_incorp)) \n",
    "    \n",
    "tbl.j %>% head    "
   ]
  },
  {
   "cell_type": "code",
   "execution_count": 175,
   "metadata": {
    "collapsed": false
   },
   "outputs": [
    {
     "data": {
      "image/png": "[encoded data removed]"
     },
     "metadata": {},
     "output_type": "display_data"
    }
   ],
   "source": [
    "%%R -w 900\n",
    "\n",
    "tbl.j$taxon = reorder(tbl.j$taxon, tbl.j$mean_rel_abund_perc)\n",
    "\n",
    "ggplot(tbl.j, aes(taxon, mean_rel_abund_perc, color=cls)) +\n",
    "    geom_point()"
   ]
  },
  {
   "cell_type": "markdown",
   "metadata": {},
   "source": [
    "***"
   ]
  },
  {
   "cell_type": "code",
   "execution_count": null,
   "metadata": {
    "collapsed": true
   },
   "outputs": [],
   "source": [
    "%%R -i workDir\n",
    "setwd(workDir)\n",
    "\n",
    "deseq.res = readRDS('./validation/OTU_n2_abs1e10_sub20000_DESeq2')"
   ]
  },
  {
   "cell_type": "code",
   "execution_count": 17,
   "metadata": {
    "collapsed": false
   },
   "outputs": [
    {
     "data": {
      "text/plain": [
       "Source: local data frame [6 x 2]\n",
       "\n",
       "                            taxon_name mean_rel_abund_perc\n",
       "1       Acaryochloris_marina_MBIC11017         0.089773401\n",
       "2       Acetobacterium_woodii_DSM_1030         0.013390418\n",
       "3 Acetobacter_pasteurianus_IFO_3283-12         0.003064792\n",
       "4    Acetohalobium_arabaticum_DSM_5501         0.058114601\n",
       "5         Acholeplasma_laidlawii_PG-8A         0.004121299\n",
       "6        Achromobacter_xylosoxidans_A8         0.024560238\n"
      ]
     },
     "metadata": {},
     "output_type": "display_data"
    }
   ],
   "source": [
    "%%R\n",
    "\n",
    "comm = read.delim('./validation/comm.txt', sep='\\t')\n",
    "comm.s = comm %>%\n",
    "    group_by(taxon_name) %>%\n",
    "    summarize(mean_rel_abund_perc = mean(rel_abund_perc))\n",
    "comm.s %>% head"
   ]
  },
  {
   "cell_type": "code",
   "execution_count": 21,
   "metadata": {
    "collapsed": false
   },
   "outputs": [
    {
     "data": {
      "text/plain": [
       "    baseMean log2FoldChange    lfcSE      stat    pvalue padj         p padj.BH\n",
       "1  0.4745836      0.9200834 1.394946 0.4803651 0.3154839    1 0.3154839       1\n",
       "2  3.2902741     -4.6553395 1.275818 0.0000000 0.9999397    1 0.9999397       1\n",
       "3  4.8031896     -1.0010777 1.176846 0.0000000 0.8561264    1 0.8561264       1\n",
       "4  0.7088409      0.5138864 1.270017 0.2077818 0.4176997    1 0.4176997       1\n",
       "5 28.0436962     -1.2126332 1.274566 0.0000000 0.8744236    1 0.8744236       1\n",
       "6 29.5094790      0.5352219 1.697529 0.1680218 0.4332831    1 0.4332831       1\n",
       "                         taxon_name mean_rel_abund_perc dom_rare\n",
       "1 Acetohalobium_arabaticum_DSM_5501          0.05811460    FALSE\n",
       "2       Acidovorax_citrulli_AAC00-1          0.07152763    FALSE\n",
       "3            Acidovorax_ebreus_TPSY          0.14267760    FALSE\n",
       "4      Aeromonas_hydrophila_AL09-71          0.02364744    FALSE\n",
       "5  Alkalilimnicola_ehrlichii_MLHE-1          0.77596664    FALSE\n",
       "6    Alkaliphilus_oremlandii_OhILAs          1.29218348     TRUE\n"
      ]
     },
     "metadata": {},
     "output_type": "display_data"
    }
   ],
   "source": [
    "%%R\n",
    "tmp = deseq.res %>%\n",
    "    as.data.frame() \n",
    "tmp$taxon_name = rownames(tmp)\n",
    "\n",
    "tmp = inner_join(tmp, comm.s, c('taxon_name' = 'taxon_name'))\n",
    "tmp = tmp %>%\n",
    "    mutate(dom_rare = mean_rel_abund_perc > 1)\n",
    "\n",
    "tmp %>% head"
   ]
  },
  {
   "cell_type": "code",
   "execution_count": 22,
   "metadata": {
    "collapsed": false
   },
   "outputs": [
    {
     "data": {
      "text/plain": [
       "[1] 215\n",
       "[1] 17\n"
      ]
     },
     "metadata": {},
     "output_type": "display_data"
    }
   ],
   "source": [
    "%%R\n",
    "tmp %>% filter(dom_rare == FALSE) %>% nrow %>% print\n",
    "tmp %>% filter(dom_rare == TRUE) %>% nrow %>% print"
   ]
  },
  {
   "cell_type": "code",
   "execution_count": null,
   "metadata": {
    "collapsed": true
   },
   "outputs": [],
   "source": []
  }
 ],
 "metadata": {
  "hide_input": true,
  "kernelspec": {
   "display_name": "Python 2",
   "language": "python",
   "name": "python2"
  },
  "language_info": {
   "codemirror_mode": {
    "name": "ipython",
    "version": 2
   },
   "file_extension": ".py",
   "mimetype": "text/x-python",
   "name": "python",
   "nbconvert_exporter": "python",
   "pygments_lexer": "ipython2",
   "version": "2.7.10"
  }
 },
 "nbformat": 4,
 "nbformat_minor": 0
}
