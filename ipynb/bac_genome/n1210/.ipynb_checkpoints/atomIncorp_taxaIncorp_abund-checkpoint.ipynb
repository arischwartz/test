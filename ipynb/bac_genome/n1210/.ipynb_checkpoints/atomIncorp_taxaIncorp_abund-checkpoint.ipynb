{
 "cells": [
  {
   "cell_type": "markdown",
   "metadata": {},
   "source": [
    "## Accuracy as a function taxon abundance\n",
    "\n",
    "### Variable parameters:\n",
    "\n",
    "* Partition communities into 'dominant' and 'rare' subsets\n",
    "  * __dominant/rare cutoff: 1% relative abundance?__\n",
    "* Assess sensitivity & specificity for each subset\n",
    "* __Note:__ \n",
    "  * Much less time to perform if using data from past simulation run datasets\n",
    "\n",
    "### Analysis:\n",
    "\n",
    "* Sup Figures:\n",
    "  * Same as above simulation runs, but split into 'dominant' vs 'rare'"
   ]
  },
  {
   "cell_type": "markdown",
   "metadata": {},
   "source": [
    "# User variables"
   ]
  },
  {
   "cell_type": "code",
   "execution_count": 1,
   "metadata": {
    "collapsed": true
   },
   "outputs": [],
   "source": [
    "workDir = '/home/nick/notebook/SIPSim/dev/bac_genome1210/'\n",
    "simDir = os.path.join(workDir, 'atomIncorp_taxaIncorp')\n",
    "buildDir = os.path.join(workDir, 'atomIncorp_taxaIncorp_abund')\n",
    "R_dir = '/home/nick/notebook/SIPSim/lib/R/'"
   ]
  },
  {
   "cell_type": "code",
   "execution_count": null,
   "metadata": {
    "collapsed": true
   },
   "outputs": [],
   "source": []
  }
 ],
 "metadata": {
  "kernelspec": {
   "display_name": "Python 2",
   "language": "python",
   "name": "python2"
  },
  "language_info": {
   "codemirror_mode": {
    "name": "ipython",
    "version": 2
   },
   "file_extension": ".py",
   "mimetype": "text/x-python",
   "name": "python",
   "nbconvert_exporter": "python",
   "pygments_lexer": "ipython2",
   "version": "2.7.9"
  }
 },
 "nbformat": 4,
 "nbformat_minor": 0
}
