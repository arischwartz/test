{
 "cells": [
  {
   "cell_type": "markdown",
   "metadata": {},
   "source": [
    "# Goal\n",
    "\n",
    "__Question:__ how is incorporator identification accuracy affected by the percent isotope incorporation of taxa?\n",
    "\n",
    "* Using genome dataset created in the \"dataset\" notebook\n",
    "\n",
    "* Simulates isotope dilution or short incubations\n",
    "  * Method  \n",
    "    * 25% taxa incorporate\n",
    "    * incorporation % same for all incorporators\n",
    "    * incorporation % treatments: 10, 20, 40, 60, 80, 100%\n",
    "    * Total treatments: 6\n",
    "    * Title: perc_incorp"
   ]
  },
  {
   "cell_type": "markdown",
   "metadata": {},
   "source": [
    "# User variables"
   ]
  },
  {
   "cell_type": "code",
   "execution_count": 37,
   "metadata": {
    "collapsed": true
   },
   "outputs": [],
   "source": [
    "workDir = '/home/nick/notebook/SIPSim/dev/bac_genome1210/'\n",
    "genomeDir = '/home/nick/notebook/SIPSim/dev/bac_genome1210/genomes/'\n",
    "R_dir = '/home/nick/notebook/SIPSim/lib/R/'"
   ]
  },
  {
   "cell_type": "markdown",
   "metadata": {},
   "source": [
    "# Init"
   ]
  },
  {
   "cell_type": "code",
   "execution_count": 38,
   "metadata": {
    "collapsed": true
   },
   "outputs": [],
   "source": [
    "import glob\n",
    "from os.path import abspath\n",
    "import nestly"
   ]
  },
  {
   "cell_type": "code",
   "execution_count": 39,
   "metadata": {
    "collapsed": false
   },
   "outputs": [
    {
     "name": "stdout",
     "output_type": "stream",
     "text": [
      "The rpy2.ipython extension is already loaded. To reload it, use:\n",
      "  %reload_ext rpy2.ipython\n"
     ]
    }
   ],
   "source": [
    "%load_ext rpy2.ipython"
   ]
  },
  {
   "cell_type": "code",
   "execution_count": 40,
   "metadata": {
    "collapsed": false
   },
   "outputs": [],
   "source": [
    "%%R\n",
    "library(ggplot2)\n",
    "library(dplyr)\n",
    "library(tidyr)\n",
    "library(gridExtra)"
   ]
  },
  {
   "cell_type": "markdown",
   "metadata": {},
   "source": [
    "# Test run of nestly with different incorporation percentages"
   ]
  },
  {
   "cell_type": "code",
   "execution_count": 61,
   "metadata": {
    "collapsed": false
   },
   "outputs": [],
   "source": [
    "# building tree structure\n",
    "nest = nestly.Nest()\n",
    "\n",
    "## varying params\n",
    "nest.add('percIncorp', range(0,101,20))\n",
    "\n",
    "## set params\n",
    "nest.add('np', [24], create_dir=False)\n",
    "nest.add('percTaxa', [25], create_dir=False)\n",
    "nest.add('abs', ['1e8'], create_dir=False)\n",
    "nest.add('subsample', [20000], create_dir=False) \n",
    "nest.add('BD_min', [1.71], create_dir=False)\n",
    "nest.add('BD_max', [2], create_dir=False)\n",
    "nest.add('padj', [0.05], create_dir=False)\n",
    "nest.add('log2neg', [0.05], create_dir=False)\n",
    "nest.add('topTaxaToPlot', [100], create_dir=False)\n",
    "\n",
    "## input/output files\n",
    "nest.add('fileName', ['ampFrags'], create_dir=False)\n",
    "nest.add('genome_index', [os.path.join(genomeDir, 'genome_index.txt')], create_dir=False)\n",
    "nest.add('genome_dir', [genomeDir], create_dir=False)\n",
    "nest.add('primers', [os.path.join(workDir, '../', '515F-806R.fna')], create_dir=False)\n",
    "nest.add('R_dir', [R_dir], create_dir=False)\n",
    "\n",
    "# building directory tree\n",
    "buildDir = os.path.join(workDir, 'percIncorpUnif')\n",
    "nest.build(buildDir)"
   ]
  },
  {
   "cell_type": "code",
   "execution_count": 62,
   "metadata": {
    "collapsed": true
   },
   "outputs": [],
   "source": [
    "bashFile = os.path.join(workDir, 'SIPSimRun.sh')"
   ]
  },
  {
   "cell_type": "code",
   "execution_count": 63,
   "metadata": {
    "collapsed": false
   },
   "outputs": [
    {
     "name": "stdout",
     "output_type": "stream",
     "text": [
      "Overwriting /home/nick/notebook/SIPSim/dev/bac_genome1210/SIPSimRun.sh\n"
     ]
    }
   ],
   "source": [
    "%%writefile $bashFile\n",
    "#!/bin/bash\n",
    "\n",
    "# simulating fragments\n",
    "SIPSim fragments \\\n",
    "    {genome_index} \\\n",
    "    --fp {genome_dir} \\\n",
    "    --fr {primers} \\\n",
    "    --fld skewed-normal,9000,2500,-5 \\\n",
    "    --flr None,None \\\n",
    "    --nf 10000 \\\n",
    "    --np {np} \\\n",
    "    2> {fileName}.log \\\n",
    "    > {fileName}.pkl\n",
    "    \n",
    "# converting to kde object\n",
    "SIPSim fragment_kde \\\n",
    "    {fileName}.pkl \\\n",
    "    > {fileName}_kde.pkl\n",
    "    \n",
    "# adding diffusion\n",
    "SIPSim diffusion \\\n",
    "    {fileName}_kde.pkl \\\n",
    "    --np {np} \\\n",
    "    > {fileName}_kde_dif.pkl\n",
    "    \n",
    "# creating a community file\n",
    "SIPSim gradientComms \\\n",
    "    {genome_index} \\\n",
    "    --n_comm 2 \\\n",
    "    > comm.txt\n",
    "\n",
    "# making incorp file\n",
    "SIPSim incorpConfigExample \\\n",
    "  --percTaxa {percTaxa} \\\n",
    "  --percIncorpUnif {percIncorp} \\\n",
    "  > {percTaxa}_{percIncorp}.config\n",
    "\n",
    "# adding isotope incorporation to BD distribution\n",
    "SIPSim isoIncorp \\\n",
    "    {fileName}_kde_dif.pkl \\\n",
    "    {percTaxa}_{percIncorp}.config \\\n",
    "    --comm comm.txt \\\n",
    "    --np {np} \\\n",
    "    > {fileName}_kde_dif_incorp.pkl\n",
    " \n",
    "# calculating BD shift from isotope incorporation\n",
    "SIPSim BD_shift \\\n",
    "    {fileName}_kde_dif.pkl \\\n",
    "    {fileName}_kde_dif_incorp.pkl \\\n",
    "    --np {np} \\\n",
    "    > {fileName}_kde_dif_incorp_BD-shift.txt\n",
    "       \n",
    "# simulating gradient fractions\n",
    "SIPSim fractions \\\n",
    "    comm.txt \\\n",
    "    > fracs.txt\n",
    "\n",
    "# simulating an OTU table\n",
    "SIPSim OTU_table \\\n",
    "    {fileName}_kde_dif_incorp.pkl \\\n",
    "    comm.txt \\\n",
    "    fracs.txt \\\n",
    "    --abs {abs} \\\n",
    "    --np {np} \\\n",
    "    > OTU_abs{abs}.txt\n",
    "    \n",
    "# subsampling from the OTU table (simulating sequencing of the DNA pool)\n",
    "SIPSim OTU_subsample \\\n",
    "    --dist_params low:{subsample},high:{subsample} \\\n",
    "    OTU_abs{abs}.txt \\\n",
    "    > OTU_n2_abs{abs}_sub{subsample}.txt\n",
    "\n",
    "# making a wide table\n",
    "SIPSim OTU_wideLong -w \\\n",
    "    OTU_n2_abs{abs}_sub{subsample}.txt \\\n",
    "    > OTU_n2_abs{abs}_sub{subsample}_w.txt\n",
    "    \n",
    "# making metadata (phyloseq: sample_data)\n",
    "SIPSim OTU_sampleData \\\n",
    "    OTU_n2_abs{abs}_sub{subsample}.txt \\\n",
    "    > OTU_n2_abs{abs}_sub{subsample}_meta.txt\n",
    "  \n",
    "#-- R analysis --#\n",
    "export PATH={R_dir}:$PATH\n",
    "# plotting taxon abundances\n",
    "OTU_taxonAbund.r \\\n",
    "    OTU_n2_abs{abs}_sub{subsample}.txt \\\n",
    "    -r {topTaxaToPlot} \\\n",
    "    -o OTU_n2_abs{abs}_sub{subsample} \n",
    "# running DeSeq2 and making confusion matrix on predicting incorporators\n",
    "## making phyloseq object from OTU table\n",
    "phyloseq_make.r \\\n",
    "    OTU_n2_abs{abs}_sub{subsample}_w.txt \\\n",
    "    -s OTU_n2_abs{abs}_sub{subsample}_meta.txt \\\n",
    "    > OTU_n2_abs{abs}_sub{subsample}.physeq\n",
    "## filtering phyloseq object to just taxa/samples of interest\n",
    "phyloseq_edit.r \\\n",
    "    OTU_n2_abs{abs}_sub{subsample}.physeq \\\n",
    "    --BD_min {BD_min} --BD_max {BD_max} \\\n",
    "    > OTU_n2_abs{abs}_sub{subsample}_filt.physeq\n",
    "## making ordination\n",
    "phyloseq_ordination.r \\\n",
    "    OTU_n2_abs{abs}_sub{subsample}_filt.physeq \\\n",
    "    OTU_n2_abs{abs}_sub{subsample}_bray-NMDS.pdf\n",
    "## DESeq2\n",
    "phyloseq_DESeq2.r \\\n",
    "    OTU_n2_abs{abs}_sub{subsample}_filt.physeq \\\n",
    "    > OTU_n2_abs{abs}_sub{subsample}_DESeq2\n",
    "## Confusion matrix\n",
    "DESeq2_confuseMtx.r \\\n",
    "    {fileName}_kde_dif_incorp_BD-shift.txt \\\n",
    "    OTU_n2_abs{abs}_sub{subsample}_DESeq2 \\\n",
    "    --padj {padj} --log2neg {log2neg} "
   ]
  },
  {
   "cell_type": "code",
   "execution_count": 64,
   "metadata": {
    "collapsed": true
   },
   "outputs": [],
   "source": [
    "!chmod 775 $bashFile"
   ]
  },
  {
   "cell_type": "code",
   "execution_count": null,
   "metadata": {
    "collapsed": false
   },
   "outputs": [
    {
     "name": "stdout",
     "output_type": "stream",
     "text": [
      "2015-06-29 11:35:38,231 * INFO * Template: ./SIPSimRun.sh\r\n",
      "2015-06-29 11:35:38,233 * INFO * [29113] Started ./SIPSimRun.sh in percIncorpUnif/80\r\n"
     ]
    }
   ],
   "source": [
    "!cd $workDir; \\\n",
    "    nestrun -j 1 --template-file $bashFile -d percIncorpUnif"
   ]
  },
  {
   "cell_type": "code",
   "execution_count": null,
   "metadata": {
    "collapsed": false
   },
   "outputs": [],
   "source": [
    "# aggregating confusion matrix data\n",
    "## table\n",
    "!cd $workDir; \\\n",
    "    nestagg delim \\\n",
    "        -d percIncorpUnif \\\n",
    "        -k percIncorpUnif \\\n",
    "        -o ./percIncorpUnif/DESeq2-cMtx_table.csv \\\n",
    "        DESeq2-cMtx_table.csv\n",
    "\n",
    "## overall\n",
    "!cd $workDir; \\\n",
    "    nestagg delim \\\n",
    "        -d percIncorpUnif \\\n",
    "        -k percIncorpUnif \\\n",
    "        -o ./percIncorpUnif/DESeq2-cMtx_overall.csv \\\n",
    "        DESeq2-cMtx_overall.csv\n",
    "    \n",
    "## byClass\n",
    "!cd $workDir; \\\n",
    "    nestagg delim \\\n",
    "        -d percIncorpUnif \\\n",
    "        -k percIncorpUnif \\\n",
    "        -o ./percIncorpUnif/DESeq2-cMtx_byClass.csv \\\n",
    "        DESeq2-cMtx_byClass.csv"
   ]
  },
  {
   "cell_type": "markdown",
   "metadata": {},
   "source": [
    "#WAITING"
   ]
  },
  {
   "cell_type": "markdown",
   "metadata": {},
   "source": [
    "### Plotting results"
   ]
  },
  {
   "cell_type": "code",
   "execution_count": 233,
   "metadata": {
    "collapsed": false
   },
   "outputs": [
    {
     "data": {
      "image/png": "[encoded data removed]"
     },
     "metadata": {},
     "output_type": "display_data"
    }
   ],
   "source": [
    "%%R -i workDir -w 600 -h 400\n",
    "setwd(workDir)\n",
    "\n",
    "byClass = read.csv('./percIncorpUnif/DESeq2-cMtx_byClass.csv')\n",
    "\n",
    "byClass$byClass[is.na(byClass$byClass)] = 0\n",
    "\n",
    "byClass$percIncorpUnif = as.character(byClass$percIncorpUnif)\n",
    "ggplot(byClass, aes(X, byClass, color=percIncorpUnif)) +\n",
    "    geom_point() +\n",
    "    labs(y='value') +\n",
    "    theme_bw() +\n",
    "    theme(\n",
    "        text=element_text(size=16),\n",
    "        axis.text.x=element_text(angle=90, hjust=1, vjust=0.5),\n",
    "        axis.title.x=element_blank()\n",
    "        )"
   ]
  },
  {
   "cell_type": "markdown",
   "metadata": {},
   "source": [
    "### Plotting false negative taxa (actual incorporators) "
   ]
  },
  {
   "cell_type": "code",
   "execution_count": 243,
   "metadata": {
    "collapsed": false
   },
   "outputs": [],
   "source": [
    "%%R -i workDir\n",
    "\n",
    "setwd(workDir)\n",
    "\n",
    "tbl.c = read.csv('percIncorpUnif/50/DESeq2-cMtx_data.csv')\n",
    "\n",
    "tbl.c.f = tbl.c %>% \n",
    "    filter(incorp.known==TRUE & incorp.pred==FALSE) %>%\n",
    "    select(taxon)\n",
    "\n",
    "write.table(tbl.c.f, file='percIncorpUnif/50/DESeq2-cMtx_FN', row.names=F, col.names=F, quote=F)"
   ]
  },
  {
   "cell_type": "code",
   "execution_count": 250,
   "metadata": {
    "collapsed": false
   },
   "outputs": [
    {
     "name": "stdout",
     "output_type": "stream",
     "text": [
      "File written: DESeq2-cMtx_FN_abs-abund.pdf\n",
      "Warning messages:\n",
      "1: Removed 48 rows containing missing values (position_stack). \n",
      "2: Removed 16 rows containing missing values (position_stack). \n",
      "File written: DESeq2-cMtx_FN_rel-abund.pdf\n"
     ]
    }
   ],
   "source": [
    "!cd $workDir'percIncorpUnif/50/'; \\\n",
    "    $R_dir/OTU_taxonAbund.r OTU_n2_abs1e8_sub30000.txt -t DESeq2-cMtx_FN -l -o DESeq2-cMtx_FN --width 14"
   ]
  },
  {
   "cell_type": "code",
   "execution_count": 252,
   "metadata": {
    "collapsed": false
   },
   "outputs": [],
   "source": [
    "%%R -i workDir\n",
    "\n",
    "setwd(workDir)\n",
    "\n",
    "tbl.c = read.csv('percIncorpUnif/50/DESeq2-cMtx_data.csv')\n",
    "\n",
    "tbl.c.f = tbl.c %>% \n",
    "    filter(incorp.known==FALSE & incorp.pred==TRUE) %>%\n",
    "    select(taxon)\n",
    "\n",
    "write.table(tbl.c.f, file='percIncorpUnif/50/DESeq2-cMtx_FP', row.names=F, col.names=F, quote=F)"
   ]
  },
  {
   "cell_type": "code",
   "execution_count": 253,
   "metadata": {
    "collapsed": false
   },
   "outputs": [
    {
     "name": "stdout",
     "output_type": "stream",
     "text": [
      "File written: DESeq2-cMtx_FP_abs-abund.pdf\n",
      "Warning messages:\n",
      "1: Removed 9 rows containing missing values (position_stack). \n",
      "2: Removed 3 rows containing missing values (position_stack). \n",
      "File written: DESeq2-cMtx_FP_rel-abund.pdf\n"
     ]
    }
   ],
   "source": [
    "!cd $workDir'percIncorpUnif/50/'; \\\n",
    "    $R_dir/OTU_taxonAbund.r OTU_n2_abs1e8_sub30000.txt -t DESeq2-cMtx_FP -l -o DESeq2-cMtx_FP --width 14"
   ]
  },
  {
   "cell_type": "code",
   "execution_count": 256,
   "metadata": {
    "collapsed": false
   },
   "outputs": [
    {
     "data": {
      "text/plain": [
       "  lib1 lib2                                    taxon BD_shift incorp.known\n",
       "1   NA    2 Corynebacterium_pseudotuberculosis_FRC41        0        FALSE\n",
       "2   NA    2            Anaplasma_centrale_str_Israel        0        FALSE\n",
       "3   NA    2         Dyadobacter_fermentans_DSM_18053        0        FALSE\n",
       "   baseMean log2FoldChange     lfcSE     stat       pvalue        padj\n",
       "1 2.3478747       3.801071 0.8494856 4.474555 7.657045e-06 0.000344567\n",
       "2 0.9337178       4.130228 1.0213776 4.043782 5.259585e-05 0.001183407\n",
       "3 1.0835454       3.158858 0.8578349 3.682362 2.310831e-04 0.003466247\n",
       "  incorp.pred\n",
       "1        TRUE\n",
       "2        TRUE\n",
       "3        TRUE\n"
      ]
     },
     "metadata": {},
     "output_type": "display_data"
    }
   ],
   "source": [
    "%%R\n",
    "tbl.c %>% filter(taxon %in% tbl.c.f$taxon)"
   ]
  },
  {
   "cell_type": "markdown",
   "metadata": {},
   "source": [
    "***"
   ]
  },
  {
   "cell_type": "markdown",
   "metadata": {},
   "source": [
    "# Sandbox"
   ]
  },
  {
   "cell_type": "code",
   "execution_count": 73,
   "metadata": {
    "collapsed": false
   },
   "outputs": [],
   "source": [
    "# building tree structure\n",
    "from os.path import abspath\n",
    "nest = nestly.Nest()\n",
    "\n",
    "##  values\n",
    "vals = [str(x) for x in range(1,5)]\n",
    "nest.add('vals', vals)\n",
    "\n",
    "\n",
    "## input files\n",
    "nest.add('--np', [1], create_dir=False)\n",
    "\n",
    "buildDir = '/home/nick/t/nestly/' #os.path.join(workDir, 'vals')\n",
    "nest.build(buildDir)"
   ]
  },
  {
   "cell_type": "code",
   "execution_count": 74,
   "metadata": {
    "collapsed": false
   },
   "outputs": [
    {
     "name": "stdout",
     "output_type": "stream",
     "text": [
      "Writing /home/nick/t/example.sh\n"
     ]
    }
   ],
   "source": [
    "%%writefile /home/nick/t/example.sh\n",
    "#!/bin/bash\n",
    "\n",
    "export TIME='elapsed,maxmem,exitstatus\\n%e,%M,%x'\n",
    "\n",
    "echo {--np} > {--np}_test.txt"
   ]
  },
  {
   "cell_type": "code",
   "execution_count": 75,
   "metadata": {
    "collapsed": false
   },
   "outputs": [],
   "source": [
    "!cd /home/nick/t/; \\\n",
    "    chmod 777 example.sh "
   ]
  },
  {
   "cell_type": "code",
   "execution_count": 76,
   "metadata": {
    "collapsed": false
   },
   "outputs": [
    {
     "name": "stdout",
     "output_type": "stream",
     "text": [
      "2015-06-24 12:13:25,688 * INFO * Template: ./example.sh\r\n",
      "2015-06-24 12:13:25,690 * INFO * [204263] Started ./example.sh in nestly/3\r\n",
      "2015-06-24 12:13:25,692 * INFO * [204264] Started ./example.sh in nestly/2\r\n",
      "2015-06-24 12:13:25,692 * INFO * [204263] nestly/3 Finished with 0\r\n",
      "2015-06-24 12:13:25,694 * INFO * [204265] Started ./example.sh in nestly/1\r\n",
      "2015-06-24 12:13:25,694 * INFO * [204264] nestly/2 Finished with 0\r\n",
      "2015-06-24 12:13:25,696 * INFO * [204266] Started ./example.sh in nestly/4\r\n",
      "2015-06-24 12:13:25,696 * INFO * [204265] nestly/1 Finished with 0\r\n",
      "2015-06-24 12:13:25,696 * INFO * [204266] nestly/4 Finished with 0\r\n"
     ]
    }
   ],
   "source": [
    "!cd /home/nick/t/; \\\n",
    "    nestrun -j 2 --template-file example.sh -d nestly"
   ]
  },
  {
   "cell_type": "code",
   "execution_count": null,
   "metadata": {
    "collapsed": true
   },
   "outputs": [],
   "source": []
  },
  {
   "cell_type": "code",
   "execution_count": null,
   "metadata": {
    "collapsed": true
   },
   "outputs": [],
   "source": []
  }
 ],
 "metadata": {
  "kernelspec": {
   "display_name": "Python 2",
   "language": "python",
   "name": "python2"
  },
  "language_info": {
   "codemirror_mode": {
    "name": "ipython",
    "version": 2
   },
   "file_extension": ".py",
   "mimetype": "text/x-python",
   "name": "python",
   "nbconvert_exporter": "python",
   "pygments_lexer": "ipython2",
   "version": "2.7.9"
  }
 },
 "nbformat": 4,
 "nbformat_minor": 0
}
