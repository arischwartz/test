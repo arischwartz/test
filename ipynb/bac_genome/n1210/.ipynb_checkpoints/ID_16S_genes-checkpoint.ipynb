{
 "cells": [
  {
   "cell_type": "markdown",
   "metadata": {},
   "source": [
    "# Goal:\n",
    " \n",
    "* ID and pull out the sequences of all 16S genes in bac_genome_n1210 dataset"
   ]
  },
  {
   "cell_type": "markdown",
   "metadata": {},
   "source": [
    "# User variables"
   ]
  },
  {
   "cell_type": "code",
   "execution_count": 2,
   "metadata": {
    "collapsed": false
   },
   "outputs": [],
   "source": [
    "baseDir = '/home/nick/notebook/SIPSim/dev/bac_genome1210/'\n",
    "genomeDir = os.path.join(baseDir, 'genomes')\n",
    "rnammerDir = os.path.join(baseDir, 'rnammer')"
   ]
  },
  {
   "cell_type": "markdown",
   "metadata": {},
   "source": [
    "# Init"
   ]
  },
  {
   "cell_type": "code",
   "execution_count": 3,
   "metadata": {
    "collapsed": true
   },
   "outputs": [],
   "source": [
    "import glob\n",
    "from IPython.display import Image"
   ]
  },
  {
   "cell_type": "code",
   "execution_count": 4,
   "metadata": {
    "collapsed": true
   },
   "outputs": [],
   "source": [
    "%load_ext rpy2.ipython"
   ]
  },
  {
   "cell_type": "code",
   "execution_count": 5,
   "metadata": {
    "collapsed": false
   },
   "outputs": [
    {
     "data": {
      "text/plain": [
       "\n",
       "Attaching package: ‘dplyr’\n",
       "\n",
       "The following objects are masked from ‘package:stats’:\n",
       "\n",
       "    filter, lag\n",
       "\n",
       "The following objects are masked from ‘package:base’:\n",
       "\n",
       "    intersect, setdiff, setequal, union\n",
       "\n",
       "Loading required package: grid\n"
      ]
     },
     "metadata": {},
     "output_type": "display_data"
    }
   ],
   "source": [
    "%%R\n",
    "library(ggplot2)\n",
    "library(dplyr)\n",
    "library(tidyr)\n",
    "library(gridExtra)"
   ]
  },
  {
   "cell_type": "code",
   "execution_count": 6,
   "metadata": {
    "collapsed": true
   },
   "outputs": [],
   "source": [
    "if not os.path.isdir(rnammerDir):\n",
    "    os.makedirs(rnammerDir)"
   ]
  },
  {
   "cell_type": "markdown",
   "metadata": {},
   "source": [
    "# rnammer run"
   ]
  },
  {
   "cell_type": "code",
   "execution_count": 13,
   "metadata": {
    "collapsed": false
   },
   "outputs": [],
   "source": [
    "%%bash -s \"$genomeDir\" \"$rnammerDir\"\n",
    "\n",
    "find $1 -name \"*fasta\" | \\\n",
    "    perl -pe 's/.+\\/|\\.fasta//g' | \\\n",
    "    xargs -n 1 -I % -P 30 bash -c \\\n",
    "    \"rnammer -S bac -m ssu -gff $2/%_rrn.gff -f $2/%_rrn.fna -xml $2/%_rrn.xml < $1/%.fasta\""
   ]
  },
  {
   "cell_type": "code",
   "execution_count": 14,
   "metadata": {
    "collapsed": true
   },
   "outputs": [],
   "source": [
    "## Summarizing the results\n",
    "\n",
    "!cd $rnammerDir; \\\n",
    "    egrep -v \"^#\" *.gff | \\\n",
    "    grep \"16s_rRNA\" | \\\n",
    "    perl -pe 's/:/\\t/' > ssu_summary.txt"
   ]
  },
  {
   "cell_type": "code",
   "execution_count": 28,
   "metadata": {
    "collapsed": false
   },
   "outputs": [
    {
     "name": "stdout",
     "output_type": "stream",
     "text": [
      "ssu gene length distribution:\n",
      "1\tmin\t589.20\n",
      "1\tQ1\t1873.20\n",
      "1\tmean\t1895.42\n",
      "1\tmedian\t1938.90\n",
      "1\tQ3\t1975.30\n",
      "1\tmax\t2090.20\n",
      "1\tstdev\t146.53\n"
     ]
    }
   ],
   "source": [
    "%%bash -s \"$rnammerDir\"\n",
    "cd $1\n",
    "\n",
    "printf \"ssu gene length distribution:\\n\"\n",
    "cut -d $'\\t' -f 7 ssu_summary.txt | NY_misc_perl stats_descriptive"
   ]
  },
  {
   "cell_type": "markdown",
   "metadata": {},
   "source": [
    "## Compiling 16S sequences"
   ]
  },
  {
   "cell_type": "code",
   "execution_count": 29,
   "metadata": {
    "collapsed": false
   },
   "outputs": [
    {
     "name": "stdout",
     "output_type": "stream",
     "text": [
      "Number of sequences: 4557\n"
     ]
    }
   ],
   "source": [
    "! cd $rnammerDir; \\\n",
    "    cat *_rrn.fna > bac_genome1210_16S.fna\n",
    "    \n",
    "!printf \"Number of sequences: \"\n",
    "! cd $rnammerDir; \\\n",
    "    grep -c \">\" bac_genome1210_16S.fna"
   ]
  },
  {
   "cell_type": "code",
   "execution_count": null,
   "metadata": {
    "collapsed": true
   },
   "outputs": [],
   "source": []
  }
 ],
 "metadata": {
  "kernelspec": {
   "display_name": "Python 2",
   "language": "python",
   "name": "python2"
  },
  "language_info": {
   "codemirror_mode": {
    "name": "ipython",
    "version": 2
   },
   "file_extension": ".py",
   "mimetype": "text/x-python",
   "name": "python",
   "nbconvert_exporter": "python",
   "pygments_lexer": "ipython2",
   "version": "2.7.9"
  }
 },
 "nbformat": 4,
 "nbformat_minor": 0
}
