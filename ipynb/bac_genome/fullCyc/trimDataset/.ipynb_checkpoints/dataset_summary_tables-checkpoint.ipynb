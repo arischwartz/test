{
 "cells": [
  {
   "cell_type": "markdown",
   "metadata": {},
   "source": [
    "# Description\n",
    "\n",
    "* Trimming the FullCyc 12C-Con HR-SIP dataset to match the reference genome pool size"
   ]
  },
  {
   "cell_type": "markdown",
   "metadata": {},
   "source": [
    "# Setting variables"
   ]
  },
  {
   "cell_type": "code",
   "execution_count": 1,
   "metadata": {
    "collapsed": false
   },
   "outputs": [],
   "source": [
    "workDir = '/home/nick/notebook/SIPSim/dev/fullCyc_trim/'\n",
    "\n",
    "emp_data = 'SIP-core_unk_trm'\n",
    "emp_data_preFrac = 'bulk-core_trm'"
   ]
  },
  {
   "cell_type": "markdown",
   "metadata": {},
   "source": [
    "# Init"
   ]
  },
  {
   "cell_type": "code",
   "execution_count": 2,
   "metadata": {
    "collapsed": false
   },
   "outputs": [],
   "source": [
    "import os\n",
    "import sys\n",
    "%load_ext rpy2.ipython\n",
    "%load_ext pushnote"
   ]
  },
  {
   "cell_type": "code",
   "execution_count": 3,
   "metadata": {
    "collapsed": false
   },
   "outputs": [
    {
     "name": "stdout",
     "output_type": "stream",
     "text": [
      "/home/nick/notebook/SIPSim/dev/fullCyc_trim\n"
     ]
    }
   ],
   "source": [
    "if not os.path.isdir(workDir):\n",
    "    os.makedirs(workDir)\n",
    "    \n",
    "%cd $workDir"
   ]
  },
  {
   "cell_type": "markdown",
   "metadata": {},
   "source": [
    "# Making a table of variance in BD spans\n",
    "\n",
    "* binning pre-fractionation abundances\n",
    "* calculating variance of BD span in each bin"
   ]
  },
  {
   "cell_type": "code",
   "execution_count": 6,
   "metadata": {
    "collapsed": false
   },
   "outputs": [
    {
     "name": "stdout",
     "output_type": "stream",
     "text": [
      "Warning messages:\n",
      "1: replacing previous import by ‘scales::alpha’ when loading ‘phyloseq’ \n",
      "2: replacing previous import by ‘ggplot2::Position’ when loading ‘DESeq2’ \n",
      "Warning message:\n",
      "In inner_join_impl(x, y, by$x, by$y) :\n",
      "  joining character vector and factor, coercing into character vector\n",
      "\n",
      "library\tpreFrac_abund_bin\tmean_preFrac_abund\tvar_BD_range\n",
      "1\t1\t0.000133102622121656\t-3.9263703156005\n",
      "1\t4\t0.000199653933182484\t-3.82465727466131\n",
      "1\t5\t0.000266205244243312\t-4.14976777201553\n",
      "1\t7\t0.00033275655530414\t-4.61832490128665\n",
      "1\t9\t0.000399307866364967\t-5.06761965400593\n",
      "1\t10\t0.000471731351931162\t-6.7658640203828\n",
      "1\t11\t0.000532410488486623\t-4.70317721012234\n",
      "1\t12\t0.000633623940724966\t-6.94346960030243\n",
      "1\t13\t0.000732064421669107\t-7.03786971671449\n"
     ]
    }
   ],
   "source": [
    "!/home/nick/notebook/SIPSim/lib/R/BD_span_calc.r -l \\\n",
    "    $emp_data $emp_data_preFrac > SIP-core_unk_trm_BD-span.txt\n",
    "\n",
    "!echo; head SIP-core_unk_trm_BD-span.txt"
   ]
  },
  {
   "cell_type": "markdown",
   "metadata": {},
   "source": [
    "# Making a community ~ BD correlogram"
   ]
  },
  {
   "cell_type": "code",
   "execution_count": 7,
   "metadata": {
    "collapsed": false
   },
   "outputs": [
    {
     "name": "stdout",
     "output_type": "stream",
     "text": [
      "Warning messages:\n",
      "1: replacing previous import by ‘scales::alpha’ when loading ‘phyloseq’ \n",
      "2: replacing previous import by ‘ggplot2::Position’ when loading ‘DESeq2’ \n",
      "Warning message:\n",
      "In class(x) <- c(\"tbl_df\", \"tbl\", \"data.frame\") :\n",
      "  Setting class(x) to multiple strings (\"tbl_df\", \"tbl\", ...); result will no longer be an S4 object\n",
      "\n",
      "library\tclass.index\tn.dist\tMantel.corr\tPr\tPr.corr\n",
      "3\t0.00407508416666661\t42\t0.331706071854786\t0.001\t0.001\n",
      "3\t0.00785421250000005\t36\t0.19639324714689\t0.001\t0.002\n",
      "3\t0.0116333408333334\t38\t0.0530221584985681\t0.145\t0.145\n",
      "3\t0.0154124691666667\t34\t-0.0529265612029437\t0.133\t0.266\n",
      "3\t0.0191915975000001\t38\t-0.117836888575665\t0.004\t0.012\n",
      "3\t0.0229707258333334\t34\t-0.165359556577443\t0.001\t0.006\n",
      "3\t0.0267498541666667\t32\t-0.16049259338204\t0.001\t0.007\n",
      "3\t0.0305289825000001\t28\t-0.133471979780941\t0.002\t0.008\n",
      "3\t0.0343081108333334\t28\t-0.0994298276283408\t0.015\t0.045\n"
     ]
    }
   ],
   "source": [
    "!/home/nick/notebook/SIPSim/lib/R/correlogram_make.r -l \\\n",
    "    $emp_data > SIP-core_unk_trm_corr.txt\n",
    "\n",
    "!echo; head SIP-core_unk_trm_corr.txt"
   ]
  },
  {
   "cell_type": "code",
   "execution_count": null,
   "metadata": {
    "collapsed": true
   },
   "outputs": [],
   "source": []
  }
 ],
 "metadata": {
  "hide_input": true,
  "kernelspec": {
   "display_name": "Python 2",
   "language": "python",
   "name": "python2"
  },
  "language_info": {
   "codemirror_mode": {
    "name": "ipython",
    "version": 2
   },
   "file_extension": ".py",
   "mimetype": "text/x-python",
   "name": "python",
   "nbconvert_exporter": "python",
   "pygments_lexer": "ipython2",
   "version": "2.7.11"
  }
 },
 "nbformat": 4,
 "nbformat_minor": 0
}
