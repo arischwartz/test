{
 "cells": [
  {
   "cell_type": "markdown",
   "metadata": {
    "code_folding": []
   },
   "source": [
    "# Goal\n",
    "\n",
    "* Trying varying levels of bandwidth and DBL scaling with pre-fractionation abundances ('DBL-comm')\n",
    "* Varying parameters\n",
    "  * bandwidth (bw)\n",
    "    * 0.006, 0.02, 0.2, 0.4, 0.6, 0.8\n",
    "  * diffusive boundary layer (DBL) scaling (DBL scaling by abundance)\n",
    "    * 0, 0.2, 0.3, 0.4, 0.5, 0.6, 0.7, 0.8\n",
    "* **NOTE:** using default bandwidth for DBL & isotope incorporation steps\n",
    "* **NOTE:** using less replicate Monte Carlo replicates to save on memory\n",
    "* **Note:** using 4 kb size selection (simulated in validation notebook)"
   ]
  },
  {
   "cell_type": "markdown",
   "metadata": {},
   "source": [
    "## Init"
   ]
  },
  {
   "cell_type": "code",
   "execution_count": 1,
   "metadata": {
    "collapsed": false
   },
   "outputs": [],
   "source": [
    "import os\n",
    "import glob\n",
    "import re\n",
    "import nestly"
   ]
  },
  {
   "cell_type": "code",
   "execution_count": 2,
   "metadata": {
    "collapsed": false
   },
   "outputs": [],
   "source": [
    "%load_ext rpy2.ipython\n",
    "%load_ext pushnote"
   ]
  },
  {
   "cell_type": "code",
   "execution_count": 3,
   "metadata": {
    "collapsed": false
   },
   "outputs": [
    {
     "name": "stderr",
     "output_type": "stream",
     "text": [
      "/opt/anaconda/lib/python2.7/site-packages/rpy2/robjects/functions.py:106: UserWarning: \n",
      "Attaching package: ‘dplyr’\n",
      "\n",
      "\n",
      "  res = super(Function, self).__call__(*new_args, **new_kwargs)\n",
      "/opt/anaconda/lib/python2.7/site-packages/rpy2/robjects/functions.py:106: UserWarning: The following objects are masked from ‘package:stats’:\n",
      "\n",
      "    filter, lag\n",
      "\n",
      "\n",
      "  res = super(Function, self).__call__(*new_args, **new_kwargs)\n",
      "/opt/anaconda/lib/python2.7/site-packages/rpy2/robjects/functions.py:106: UserWarning: The following objects are masked from ‘package:base’:\n",
      "\n",
      "    intersect, setdiff, setequal, union\n",
      "\n",
      "\n",
      "  res = super(Function, self).__call__(*new_args, **new_kwargs)\n"
     ]
    }
   ],
   "source": [
    "%%R\n",
    "library(ggplot2)\n",
    "library(dplyr)\n",
    "library(tidyr)\n",
    "library(gridExtra)\n",
    "library(phyloseq)"
   ]
  },
  {
   "cell_type": "markdown",
   "metadata": {},
   "source": [
    "### BD min/max"
   ]
  },
  {
   "cell_type": "code",
   "execution_count": 4,
   "metadata": {
    "collapsed": false
   },
   "outputs": [
    {
     "name": "stdout",
     "output_type": "stream",
     "text": [
      "Min BD: 1.67323\n",
      "Max BD: 1.7744\n"
     ]
    }
   ],
   "source": [
    "## min G+C cutoff\n",
    "min_GC = 13.5\n",
    "## max G+C cutoff\n",
    "max_GC = 80\n",
    "## max G+C shift\n",
    "max_13C_shift_in_BD = 0.036\n",
    "\n",
    "\n",
    "min_BD = min_GC/100.0 * 0.098 + 1.66    \n",
    "max_BD = max_GC/100.0 * 0.098 + 1.66    \n",
    "\n",
    "max_BD = max_BD + max_13C_shift_in_BD\n",
    "\n",
    "print 'Min BD: {}'.format(min_BD)\n",
    "print 'Max BD: {}'.format(max_BD)"
   ]
  },
  {
   "cell_type": "markdown",
   "metadata": {},
   "source": [
    "# Nestly\n",
    "\n",
    "* assuming fragments already simulated"
   ]
  },
  {
   "cell_type": "code",
   "execution_count": 5,
   "metadata": {
    "collapsed": false
   },
   "outputs": [],
   "source": [
    "workDir = '/home/nick/notebook/SIPSim/dev/fullCyc/n1147_frag_norm_9_2.5_n5/'\n",
    "buildDir = os.path.join(workDir, 'rep4_DBL-comm_bw_ALL5')\n",
    "R_dir = '/home/nick/notebook/SIPSim/lib/R/'\n",
    "\n",
    "fragFile = '/home/nick/notebook/SIPSim/dev/bac_genome1147/validation/ampFrags_kde.pkl'\n",
    "commFile = '/home/nick/notebook/SIPSim/dev/fullCyc/fullCyc_12C-Con_trm_comm.txt'\n",
    "\n",
    "# emperical data for validation\n",
    "emp_shan_file = '/home/nick/notebook/SIPSim/dev/fullCyc_trim/SIP-core_unk_shan.txt'\n",
    "emp_BDspan_file = '/home/nick/notebook/SIPSim/dev/fullCyc_trim/SIP-core_unk_trm_BD-span.txt'\n",
    "emp_corr_file = '/home/nick/notebook/SIPSim/dev/fullCyc_trim/SIP-core_unk_trm_corr.txt'\n",
    "\n",
    "nreps = 4"
   ]
  },
  {
   "cell_type": "code",
   "execution_count": 6,
   "metadata": {
    "collapsed": false
   },
   "outputs": [],
   "source": [
    "# building tree structure\n",
    "nest = nestly.Nest()\n",
    "\n",
    "# varying params\n",
    "nest.add('DBL_scaling', [0, 0.2, 0.3, 0.4, 0.5, 0.6, 0.7, 0.8])\n",
    "nest.add('bandwidth', [0.002, 0.02, 0.2, 0.4, 0.6, 0.8])\n",
    "nest.add('rep', [x + 1 for x in xrange(nreps)])\n",
    "\n",
    "## set params\n",
    "nest.add('abs', ['1e9'], create_dir=False)\n",
    "nest.add('percIncorp', [0], create_dir=False)\n",
    "nest.add('percTaxa', [0], create_dir=False)\n",
    "nest.add('np', [8], create_dir=False)\n",
    "nest.add('subsample_dist', ['lognormal'], create_dir=False)\n",
    "nest.add('subsample_mean', [9.432], create_dir=False)\n",
    "nest.add('subsample_scale', [0.5], create_dir=False)\n",
    "nest.add('subsample_min', [10000], create_dir=False)\n",
    "nest.add('subsample_max', [30000], create_dir=False)\n",
    "nest.add('min_BD', [min_BD], create_dir=False)\n",
    "nest.add('max_BD', [max_BD], create_dir=False)\n",
    "\n",
    "### input/output files\n",
    "nest.add('buildDir', [buildDir], create_dir=False)\n",
    "nest.add('R_dir', [R_dir], create_dir=False)\n",
    "nest.add('fragFile', [fragFile], create_dir=False)\n",
    "nest.add('commFile', [commFile], create_dir=False)\n",
    "\n",
    "\n",
    "# building directory tree\n",
    "nest.build(buildDir)\n",
    "\n",
    "# bash file to run\n",
    "bashFile = os.path.join(buildDir, 'SIPSimRun.sh')"
   ]
  },
  {
   "cell_type": "code",
   "execution_count": 7,
   "metadata": {
    "collapsed": false
   },
   "outputs": [
    {
     "name": "stdout",
     "output_type": "stream",
     "text": [
      "Writing /home/nick/notebook/SIPSim/dev/fullCyc/n1147_frag_norm_9_2.5_n5/rep4_DBL-comm_bw_ALL5/SIPSimRun.sh\n"
     ]
    }
   ],
   "source": [
    "%%writefile $bashFile\n",
    "#!/bin/bash\n",
    "\n",
    "export PATH={R_dir}:$PATH\n",
    "\n",
    "echo '#-- SIPSim pipeline --#'\n",
    "\n",
    "echo '# shuffling taxa in comm file'\n",
    "comm_shuffle_taxa.r {commFile} > comm.txt\n",
    "\n",
    "echo '# simulating gradient fractions'\n",
    "SIPSim gradient_fractions \\\n",
    "    --BD_min {min_BD} \\\n",
    "    --BD_max {max_BD} \\\n",
    "    comm.txt \\\n",
    "    > fracs.txt \n",
    "    \n",
    "echo '# adding diffusion'    \n",
    "SIPSim diffusion \\\n",
    "    {fragFile} \\\n",
    "    -n 100000 \\\n",
    "    --bw {bandwidth} \\\n",
    "    --np {np} \\\n",
    "    > ampFrags_KDE_dif.pkl    \n",
    "\n",
    "echo '# adding DBL contamination; abundance-weighted smearing'\n",
    "SIPSim DBL \\\n",
    "    ampFrags_KDE_dif.pkl \\\n",
    "    -n 100000 \\\n",
    "    --comm comm.txt \\\n",
    "    --commx {DBL_scaling} \\\n",
    "    --np {np} \\\n",
    "    > ampFrags_KDE_dif_DBL.pkl\n",
    "    \n",
    "echo '# making incorp file'\n",
    "SIPSim incorpConfigExample \\\n",
    "  --percTaxa {percTaxa} \\\n",
    "  --percIncorpUnif {percIncorp} \\\n",
    "  > {percTaxa}_{percIncorp}.config\n",
    "\n",
    "echo '# adding isotope incorporation to BD distribution'\n",
    "SIPSim isotope_incorp \\\n",
    "    ampFrags_KDE_dif_DBL.pkl \\\n",
    "    {percTaxa}_{percIncorp}.config \\\n",
    "    -n 100000 \\\n",
    "    --comm comm.txt \\\n",
    "    --np {np} \\\n",
    "    > ampFrags_KDE_dif_DBL_inc.pkl\n",
    "\n",
    "echo '# simulating an OTU table'\n",
    "SIPSim OTU_table \\\n",
    "    ampFrags_KDE_dif_DBL_inc.pkl \\\n",
    "    comm.txt \\\n",
    "    fracs.txt \\\n",
    "    --abs {abs} \\\n",
    "    --np {np} \\\n",
    "    > OTU_abs{abs}.txt\n",
    "    \n",
    "#-- w/ PCR simulation --#\n",
    "echo '# simulating PCR'\n",
    "SIPSim OTU_PCR \\\n",
    "    OTU_abs{abs}.txt \\\n",
    "    > OTU_abs{abs}_PCR.txt    \n",
    "    \n",
    "echo '# subsampling from the OTU table (simulating sequencing of the DNA pool)'\n",
    "SIPSim OTU_subsample \\\n",
    "    --dist {subsample_dist} \\\n",
    "    --dist_params mean:{subsample_mean},sigma:{subsample_scale} \\\n",
    "    --min_size {subsample_min} \\\n",
    "    --max_size {subsample_max} \\\n",
    "    OTU_abs{abs}_PCR.txt \\\n",
    "    > OTU_abs{abs}_PCR_sub.txt\n",
    "        \n",
    "echo '# making a wide-formatted table'\n",
    "SIPSim OTU_wideLong -w \\\n",
    "    OTU_abs{abs}_PCR_sub.txt \\\n",
    "    > OTU_abs{abs}_PCR_sub_w.txt\n",
    "    \n",
    "echo '# making metadata (phyloseq: sample_data)'\n",
    "SIPSim OTU_sampleData \\\n",
    "    OTU_abs{abs}_PCR_sub.txt \\\n",
    "    > OTU_abs{abs}_PCR_sub_meta.txt\n",
    "    \n",
    "\n",
    "#-- w/out PCR simulation --#    \n",
    "echo '# subsampling from the OTU table (simulating sequencing of the DNA pool)'\n",
    "SIPSim OTU_subsample \\\n",
    "    --dist {subsample_dist} \\\n",
    "    --dist_params mean:{subsample_mean},sigma:{subsample_scale} \\\n",
    "    --min_size {subsample_min} \\\n",
    "    --max_size {subsample_max} \\\n",
    "    OTU_abs{abs}.txt \\\n",
    "    > OTU_abs{abs}_sub.txt\n",
    "        \n",
    "echo '# making a wide-formatted table'\n",
    "SIPSim OTU_wideLong -w \\\n",
    "    OTU_abs{abs}_sub.txt \\\n",
    "    > OTU_abs{abs}_sub_w.txt\n",
    "    \n",
    "echo '# making metadata (phyloseq: sample_data)'\n",
    "SIPSim OTU_sampleData \\\n",
    "    OTU_abs{abs}_sub.txt \\\n",
    "    > OTU_abs{abs}_sub_meta.txt    \n",
    "    \n",
    "    \n",
    "    \n",
    "#-- making summary tables --#\n",
    "# PCR\n",
    "shannon_calc.r OTU_abs{abs}_PCR_sub.txt > OTU_abs{abs}_PCR_sub_shan.txt\n",
    "BD_span_calc.r OTU_abs{abs}_PCR_sub.txt comm.txt > OTU_abs{abs}_PCR_sub_BD-span.txt\n",
    "correlogram_make.r OTU_abs{abs}_PCR_sub.txt > OTU_abs{abs}_PCR_sub_corr.txt    \n",
    "# no PCR\n",
    "shannon_calc.r OTU_abs{abs}_sub.txt > OTU_abs{abs}_sub_shan.txt\n",
    "BD_span_calc.r OTU_abs{abs}_sub.txt comm.txt > OTU_abs{abs}_sub_BD-span.txt\n",
    "correlogram_make.r OTU_abs{abs}_sub.txt > OTU_abs{abs}_sub_corr.txt\n",
    "\n",
    "\n",
    "#-- removing large intermediate files --#\n",
    "rm -f ampFrags_KDE_dif.pkl\n",
    "rm -f ampFrags_KDE_dif_DBL.pkl\n",
    "rm -f ampFrags_KDE_dif_DBL_inc.pkl"
   ]
  },
  {
   "cell_type": "code",
   "execution_count": null,
   "metadata": {
    "collapsed": false
   },
   "outputs": [
    {
     "name": "stdout",
     "output_type": "stream",
     "text": [
      "2016-03-22 06:42:14,142 * INFO * Template: ./SIPSimRun.sh\r\n",
      "2016-03-22 06:42:14,144 * INFO * [240011] Started ./SIPSimRun.sh in rep4_DBL-comm_bw_ALL5/0.4/0.4/3\r\n",
      "2016-03-22 06:42:14,147 * INFO * [240012] Started ./SIPSimRun.sh in rep4_DBL-comm_bw_ALL5/0.4/0.4/2\r\n"
     ]
    }
   ],
   "source": [
    "!chmod 777 $bashFile\n",
    "!cd $workDir; \\\n",
    "    nestrun --template-file $bashFile -d rep4_DBL-comm_bw_ALL5 --log-file log.txt -j 2"
   ]
  },
  {
   "cell_type": "code",
   "execution_count": null,
   "metadata": {
    "collapsed": true
   },
   "outputs": [],
   "source": [
    "%pushnote rep4_DBL-comm_bw_ALL5 complete"
   ]
  },
  {
   "cell_type": "markdown",
   "metadata": {},
   "source": [
    "# Comparing to emperical data\n",
    "\n",
    "* correlation/regression analyses of metrics on community composition"
   ]
  },
  {
   "cell_type": "code",
   "execution_count": null,
   "metadata": {
    "collapsed": true
   },
   "outputs": [],
   "source": [
    "%%R\n",
    "\n",
    "# function for loading dataset files\n",
    "load.data.files = function(sim.files, emp.file){\n",
    "    # loading\n",
    "    ## simulations\n",
    "    df = list()\n",
    "    for(x in sim.files){\n",
    "        # simulation\n",
    "        tmp = read.delim(x, sep='\\t')\n",
    "        xx = strsplit(x, '/')[[1]]\n",
    "        tmp$DBL_scale = xx[10] %>% as.numeric\n",
    "        tmp$bw = xx[11] %>% as.numeric\n",
    "        tmp$SIM_rep = xx[12] %>% as.numeric  \n",
    "        tmp$dataset = 'Simulation'       \n",
    "        df[[x]] = tmp \n",
    "        \n",
    "        # emperical (matched for each simulation)\n",
    "        if(xx[12] %>% as.numeric == 1){\n",
    "            tmp = read.delim(emp.file, sep='\\t')\n",
    "            tmp$DBL_scale = xx[10] %>% as.numeric\n",
    "            tmp$bw = xx[11] %>% as.numeric\n",
    "            tmp$SIM_rep = 1\n",
    "            tmp$dataset = 'Emperical'        \n",
    "            xy = paste0(x, '_EMP')\n",
    "            df[[xy]] = tmp\n",
    "        }\n",
    "    }\n",
    "    df = do.call(rbind, df) %>% as.data.frame \n",
    "    rownames(df) = 1:nrow(df)\n",
    "\n",
    "    # return\n",
    "    return(df)\n",
    "    }"
   ]
  },
  {
   "cell_type": "markdown",
   "metadata": {},
   "source": [
    "## Shannon index"
   ]
  },
  {
   "cell_type": "code",
   "execution_count": null,
   "metadata": {
    "collapsed": false
   },
   "outputs": [],
   "source": [
    "sim_shan_files = !find $buildDir -name \"OTU_abs1e9_PCR_sub_shan.txt\"\n",
    "print len(sim_shan_files)\n",
    "print emp_shan_file"
   ]
  },
  {
   "cell_type": "code",
   "execution_count": null,
   "metadata": {
    "code_folding": [],
    "collapsed": false
   },
   "outputs": [],
   "source": [
    "# checking for empty files\n",
    "for x in sim_shan_files:\n",
    "    ret = !ls -thlc $x\n",
    "    if ret[0].split(' ')[4] == '0':\n",
    "        print ret"
   ]
  },
  {
   "cell_type": "code",
   "execution_count": null,
   "metadata": {
    "collapsed": false
   },
   "outputs": [],
   "source": [
    "%%R -i sim_shan_files -i emp_shan_file\n",
    "\n",
    "df.shan = load.data.files(sim_shan_files, emp_shan_file) \n",
    "df.shan %>% tail(n=3)"
   ]
  },
  {
   "cell_type": "code",
   "execution_count": null,
   "metadata": {
    "collapsed": false
   },
   "outputs": [],
   "source": [
    "%%R -w 800 -h 600\n",
    "# summarizing\n",
    "df.shan.s = df.shan %>%\n",
    "    group_by(dataset, bw, DBL_scale, BD_bin = ntile(Buoyant_density, 24)) %>%\n",
    "    summarize(mean_shannon = mean(shannon), \n",
    "              sd_shannon = sd(shannon), \n",
    "              mean_BD = mean(Buoyant_density))\n",
    "\n",
    "ggplot(df.shan.s, aes(mean_BD, mean_shannon, color=dataset,\n",
    "                      ymin=mean_shannon-sd_shannon, ymax=mean_shannon+sd_shannon)) +\n",
    "    geom_pointrange() +\n",
    "    facet_grid(DBL_scale ~ bw) +\n",
    "    labs(x='Buoyant density (binned; 24 bins)', y='Shannon index') +\n",
    "    theme_bw() +\n",
    "    theme(\n",
    "        text = element_text(size=16),\n",
    "        axis.text.x = element_text(angle=45, hjust=1)\n",
    "    )"
   ]
  },
  {
   "cell_type": "code",
   "execution_count": null,
   "metadata": {
    "collapsed": false
   },
   "outputs": [],
   "source": [
    "%%R -w 650 -h 600\n",
    "# pairwise correlations for each dataset\n",
    "df.shan.bin = df.shan %>%\n",
    "    group_by(BD_bin = ntile(Buoyant_density, 24))\n",
    "\n",
    "calc.pearson = function(x){\n",
    "    cor(x[,'shannon.x'], x['shannon.y'], method='pearson')[1,1]\n",
    "}\n",
    "\n",
    "\n",
    "df.shan.corr = inner_join(df.shan.bin, df.shan.bin, c('BD_bin' = 'BD_bin',\n",
    "                                                      'bw' = 'bw',\n",
    "                                                      'DBL_scale' = 'DBL_scale')) %>%\n",
    "    group_by(bw, DBL_scale, dataset.x, dataset.y) %>%\n",
    "    nest() %>%\n",
    "    mutate(model = purrr::map(data, calc.pearson)) %>%\n",
    "    unnest(pearson = model %>% purrr::map(function(x) x)) %>%\n",
    "    ungroup() %>%\n",
    "    select(-data, -model) %>%\n",
    "    mutate(pearson_txt = round(pearson, 2))\n",
    "\n",
    "        \n",
    "# plotting\n",
    "ggplot(df.shan.corr, aes(dataset.x, dataset.y, fill=pearson)) +\n",
    "    geom_tile() +\n",
    "    geom_text(aes(label=pearson_txt), color='white', size=5) +\n",
    "    scale_fill_gradient(low='black', high='red') +\n",
    "    labs(title='Shannon index') +\n",
    "    facet_grid(DBL_scale ~ bw) +        \n",
    "    theme(\n",
    "        text = element_text(size=16),\n",
    "        axis.text.x = element_text(angle=45, hjust=1)        \n",
    "    )  "
   ]
  },
  {
   "cell_type": "code",
   "execution_count": null,
   "metadata": {
    "collapsed": false
   },
   "outputs": [],
   "source": [
    "%%R -w 500 -h 250\n",
    "\n",
    "# getting emperical-emperical corr        \n",
    "emp.val = df.shan.corr %>% \n",
    "    filter((dataset.x == 'Emperical' &\n",
    "            dataset.y == 'Emperical')) %>%\n",
    "    group_by() %>%\n",
    "    summarize(max_value = max(pearson)) %>%\n",
    "    ungroup() %>%\n",
    "    select(max_value) %>% as.matrix %>% as.vector\n",
    "emp.val = emp.val[1] \n",
    "\n",
    "# filtering \n",
    "df.shan.corr.f = df.shan.corr %>% \n",
    "    filter((dataset.x == 'Simulation' &\n",
    "            dataset.y == 'Emperical')) %>%\n",
    "    mutate(DBL_scale = DBL_scale %>% as.character,\n",
    "           bw = bw %>% as.character,\n",
    "           gt_emp = ifelse(round(pearson,2) >= round(emp.val, 2), 'bold.italic', 'plain')) %>%\n",
    "    complete(DBL_scale, bw)\n",
    "df.shan.corr.f %>% head(n=3)\n",
    "   \n",
    "        \n",
    "# plotting\n",
    "ggplot(df.shan.corr.f, aes(DBL_scale,bw, fill=pearson)) +\n",
    "    geom_tile() +\n",
    "    geom_text(aes(label=pearson_txt,fontface=gt_emp), color='white', size=5.5) +\n",
    "    scale_color_manual(values=c('white', 'black')) +\n",
    "    scale_fill_gradient('Pearson', low='black', high='red') +\n",
    "    labs(title='Shannon index', x='DBL scaling', y='KDE Bandwidth') +       \n",
    "    theme(\n",
    "        text = element_text(size=15)\n",
    "    ) "
   ]
  },
  {
   "cell_type": "markdown",
   "metadata": {},
   "source": [
    "## BD spans"
   ]
  },
  {
   "cell_type": "code",
   "execution_count": null,
   "metadata": {
    "collapsed": false
   },
   "outputs": [],
   "source": [
    "sim_BDspan_files = !find $buildDir -name \"OTU_abs1e9_PCR_sub_BD-span.txt\"\n",
    "print len(sim_BDspan_files)\n",
    "print emp_BDspan_file"
   ]
  },
  {
   "cell_type": "code",
   "execution_count": null,
   "metadata": {
    "collapsed": false
   },
   "outputs": [],
   "source": [
    "%%R -i sim_BDspan_files -i emp_BDspan_file\n",
    "df.BDspan = load.data.files(sim_BDspan_files, emp_BDspan_file) \n",
    "df.BDspan %>% head"
   ]
  },
  {
   "cell_type": "code",
   "execution_count": null,
   "metadata": {
    "collapsed": false
   },
   "outputs": [],
   "source": [
    "%%R -w 700 -h 600\n",
    "\n",
    "# plotting\n",
    "ggplot(df.BDspan, aes(mean_preFrac_abund, BD_range_perc, fill=dataset)) +\n",
    "    geom_hex(alpha=0.5) +\n",
    "    scale_x_log10() +\n",
    "    facet_grid(DBL_scale ~ bw) +\n",
    "    labs(x='Pre-fractionation abundance', y='BD span') +\n",
    "    theme_bw() +\n",
    "    theme(\n",
    "        text = element_text(size=16),\n",
    "        axis.text.x = element_text(angle=45, hjust=1)        \n",
    "    )"
   ]
  },
  {
   "cell_type": "code",
   "execution_count": null,
   "metadata": {
    "collapsed": false
   },
   "outputs": [],
   "source": [
    "%%R -i sim_BDspan_files -i emp_BDspan_file\n",
    "\n",
    "# binning by pre-fractionation abundances\n",
    "n.tile = 20\n",
    "df.BDspan = df.BDspan %>%\n",
    "    group_by(dataset, library, DBL_scale, bw, preFrac_abund_bin = ntile(mean_preFrac_abund, n.tile)) %>%\n",
    "    summarize(mean_preFrac_abund = mean(mean_preFrac_abund),\n",
    "              var_BD_range = var(BD_range),\n",
    "              sd_BD_range = sd(BD_range))\n",
    "\n",
    "df.BDspan %>% tail(n=3)"
   ]
  },
  {
   "cell_type": "code",
   "execution_count": null,
   "metadata": {
    "collapsed": false
   },
   "outputs": [],
   "source": [
    "%%R -w 675 -h 600\n",
    "calc.spearman = function(x){\n",
    "    cor(x[,'var_BD_range.x'], x['var_BD_range.y'], method='spearman')[1,1]\n",
    "}\n",
    "\n",
    "df.BDspan.corr = inner_join(df.BDspan, df.BDspan, c('preFrac_abund_bin' = 'preFrac_abund_bin',\n",
    "                                                    'DBL_scale' = 'DBL_scale',\n",
    "                                                    'bw' = 'bw')) %>%\n",
    "    group_by(DBL_scale, bw, dataset.x, dataset.y) %>%\n",
    "    nest() %>%\n",
    "    mutate(model = purrr::map(data, calc.spearman)) %>%\n",
    "    unnest(spearman = model %>% purrr::map(function(x) x)) %>%\n",
    "    ungroup() %>%\n",
    "    select(-data, -model)  %>%\n",
    "    mutate(spearman_txt = round(spearman, 2))\n",
    "\n",
    "\n",
    "# plotting\n",
    "ggplot(df.BDspan.corr, aes(dataset.x, dataset.y, fill=spearman)) +\n",
    "    geom_tile() +\n",
    "    geom_text(aes(label=spearman_txt), color='white', size=5) +\n",
    "    scale_fill_gradient(low='black', high='red') +\n",
    "    labs(title='BD span') +\n",
    "    facet_grid(DBL_scale ~ bw) +\n",
    "    theme(\n",
    "        text = element_text(size=16),\n",
    "        axis.text.x = element_text(angle=45, hjust=1)        \n",
    "    )  "
   ]
  },
  {
   "cell_type": "code",
   "execution_count": null,
   "metadata": {
    "collapsed": false
   },
   "outputs": [],
   "source": [
    "%%R -w 500 -h 250\n",
    "# getting emperical-emperical corr        \n",
    "emp.val = df.BDspan.corr %>% \n",
    "    filter((dataset.x == 'Emperical' &\n",
    "            dataset.y == 'Emperical')) %>%\n",
    "    group_by() %>%\n",
    "    summarize(max_value = max(spearman, na.rm=TRUE)) %>%\n",
    "    ungroup() %>%\n",
    "    select(max_value) %>% as.matrix %>% as.vector\n",
    "emp.val = emp.val[1]   \n",
    "        \n",
    "# filtering \n",
    "df.BDspan.corr.f = df.BDspan.corr %>% \n",
    "    filter((dataset.x == 'Simulation' &\n",
    "            dataset.y == 'Emperical')) %>%\n",
    "    mutate(DBL_scale = DBL_scale %>% as.character,\n",
    "           bw = bw %>% as.character,\n",
    "           gt_emp = ifelse(round(spearman,2) >= round(emp.val,2), 'bold.italic', 'plain')) %>%\n",
    "    complete(DBL_scale, bw)\n",
    "   \n",
    "# plotting\n",
    "ggplot(df.BDspan.corr.f, aes(DBL_scale, bw, fill=spearman)) +\n",
    "    geom_tile() +\n",
    "    geom_text(aes(label=spearman_txt, fontface=gt_emp), color='white', size=5.5) +\n",
    "    scale_color_manual(values=c('white', 'black')) +\n",
    "    scale_fill_gradient('Spearman', low='black', high='red') +\n",
    "    labs(title='BD span', x='DBL scaling', y='KDE Bandwidth') +   \n",
    "    theme(\n",
    "        text = element_text(size=16)\n",
    "    )               "
   ]
  },
  {
   "cell_type": "markdown",
   "metadata": {},
   "source": [
    "## correlograms (jaccard ~ BD)"
   ]
  },
  {
   "cell_type": "code",
   "execution_count": null,
   "metadata": {
    "collapsed": false
   },
   "outputs": [],
   "source": [
    "sim_corr_files = !find $buildDir -name \"OTU_abs1e9_PCR_sub_corr.txt\"\n",
    "print len(sim_corr_files)\n",
    "print emp_corr_file"
   ]
  },
  {
   "cell_type": "code",
   "execution_count": null,
   "metadata": {
    "collapsed": false
   },
   "outputs": [],
   "source": [
    "# checking for empty files\n",
    "for x in sim_corr_files:\n",
    "    ret = !ls -thlc $x\n",
    "    if ret[0].split(' ')[4] == '0':\n",
    "        print ret"
   ]
  },
  {
   "cell_type": "code",
   "execution_count": null,
   "metadata": {
    "collapsed": false
   },
   "outputs": [],
   "source": [
    "%%R -i sim_corr_files -i emp_corr_file\n",
    "\n",
    "df.corr = load.data.files(sim_corr_files, emp_corr_file) \n",
    "\n",
    "# binning\n",
    "df.corr = df.corr %>%\n",
    "    filter(!is.na(Mantel.corr)) %>%\n",
    "    group_by(DBL_scale, bw, dataset, library, class.index.bin = ntile(class.index, 12)) \n",
    "\n",
    "df.corr %>% tail(n=3) %>% as.data.frame"
   ]
  },
  {
   "cell_type": "code",
   "execution_count": null,
   "metadata": {
    "collapsed": false
   },
   "outputs": [],
   "source": [
    "%%R -w 800 -h 600\n",
    "# plotting\n",
    "df.corr.s = df.corr %>%\n",
    "    group_by(DBL_scale, bw, dataset, class.index.bin) %>%\n",
    "    summarize(mean_Mantel.corr = mean(Mantel.corr),\n",
    "              sd_Mantel.corr = sd(Mantel.corr), \n",
    "              mean_class.index = mean(class.index))\n",
    "\n",
    "ggplot(df.corr.s, aes(mean_class.index, mean_Mantel.corr, color=dataset,\n",
    "                     ymin=mean_Mantel.corr-sd_Mantel.corr,\n",
    "                     ymax=mean_Mantel.corr+sd_Mantel.corr)) +\n",
    "    geom_pointrange(size=0.2) +\n",
    "    labs(x='Class index (binned; 12 bins)', y='Mantel correlation coef.') +\n",
    "    facet_grid(DBL_scale ~ bw) + \n",
    "    theme_bw() +\n",
    "    theme(\n",
    "        text = element_text(size=16),\n",
    "        axis.text.x = element_text(angle=45, hjust=1)        \n",
    "    )"
   ]
  },
  {
   "cell_type": "code",
   "execution_count": null,
   "metadata": {
    "collapsed": false
   },
   "outputs": [],
   "source": [
    "%%R -w 700 -h 600\n",
    "# pairwise correlations for each dataset\n",
    "df.shan.bin = df.shan %>%\n",
    "    group_by(BD_bin = ntile(Buoyant_density, 24))\n",
    "\n",
    "calc.pearson = function(x){\n",
    "    cor(x[,'Mantel.corr.x'], x['Mantel.corr.y'], method='pearson')[1,1]\n",
    "}\n",
    "\n",
    "df.corr.lm = inner_join(df.corr, df.corr, c('class.index.bin' = 'class.index.bin',\n",
    "                                                      'bw' = 'bw',\n",
    "                                                      'DBL_scale' = 'DBL_scale')) %>%\n",
    "    group_by(bw, DBL_scale, dataset.x, dataset.y) %>%\n",
    "    nest() %>%\n",
    "    mutate(model = purrr::map(data, calc.pearson)) %>%\n",
    "    unnest(pearson = model %>% purrr::map(function(x) x)) %>%\n",
    "    ungroup() %>%\n",
    "    select(-data, -model) %>%\n",
    "    mutate(pearson_txt = round(pearson, 2))\n",
    "\n",
    "        \n",
    "# plotting\n",
    "ggplot(df.corr.lm, aes(dataset.x, dataset.y, fill=pearson)) +\n",
    "    geom_tile() +\n",
    "    geom_text(aes(label=pearson_txt), color='white', size=5) +\n",
    "    scale_fill_gradient(low='black', high='red') +\n",
    "    labs(title='Beta diversity correlogram') +\n",
    "    facet_grid(DBL_scale ~ bw) +        \n",
    "    theme(\n",
    "        text = element_text(size=16),\n",
    "        axis.text.x = element_text(angle=45, hjust=1)            \n",
    "    )  "
   ]
  },
  {
   "cell_type": "code",
   "execution_count": null,
   "metadata": {
    "collapsed": false
   },
   "outputs": [],
   "source": [
    "%%R -w 500 -h 250\n",
    "\n",
    "# getting emperical-emperical corr        \n",
    "emp.val = df.corr.lm %>% \n",
    "    filter((dataset.x == 'Emperical' &\n",
    "            dataset.y == 'Emperical')) %>%\n",
    "    group_by() %>%\n",
    "    summarize(max_value = max(pearson)) %>%\n",
    "    ungroup() %>%\n",
    "    select(max_value) %>% as.matrix %>% as.vector\n",
    "emp.val = emp.val[1]\n",
    "print(emp.val)    \n",
    "        \n",
    "# filtering \n",
    "df.corr.lm.f = df.corr.lm %>% \n",
    "    filter((dataset.x == 'Simulation' &\n",
    "            dataset.y == 'Emperical')) %>%\n",
    "    mutate(DBL_scale = DBL_scale %>% as.character,\n",
    "           bw = bw %>% as.character,\n",
    "           gt_emp = ifelse(round(pearson,2) >= round(emp.val,2), 'bold.italic', 'plain')) %>%\n",
    "    complete(DBL_scale, bw)\n",
    "df.corr.lm.f %>% head(n=3)\n",
    "   \n",
    "        \n",
    "# plotting\n",
    "ggplot(df.corr.lm.f, aes(DBL_scale,bw, fill=pearson)) +\n",
    "    geom_tile() +\n",
    "    geom_text(aes(label=pearson_txt,fontface=gt_emp), color='white', size=5.5) +\n",
    "    scale_color_manual(values=c('white', 'black')) +\n",
    "    scale_fill_gradient('Pearson', low='black', high='red') +\n",
    "    labs(title='Beta diversity correlogram', x='DBL scaling', y='KDE Bandwidth') +     \n",
    "    theme(\n",
    "        text = element_text(size=16)\n",
    "    )         "
   ]
  },
  {
   "cell_type": "markdown",
   "metadata": {
    "collapsed": true
   },
   "source": [
    "# Conclusions\n",
    "\n",
    "* Optimum bandwidth = 0.8\n",
    "* Optimum DBL scaling = 0.5"
   ]
  },
  {
   "cell_type": "code",
   "execution_count": null,
   "metadata": {
    "collapsed": true
   },
   "outputs": [],
   "source": []
  }
 ],
 "metadata": {
  "hide_input": true,
  "kernelspec": {
   "display_name": "Python 2",
   "language": "python",
   "name": "python2"
  },
  "language_info": {
   "codemirror_mode": {
    "name": "ipython",
    "version": 2
   },
   "file_extension": ".py",
   "mimetype": "text/x-python",
   "name": "python",
   "nbconvert_exporter": "python",
   "pygments_lexer": "ipython2",
   "version": "2.7.11"
  }
 },
 "nbformat": 4,
 "nbformat_minor": 0
}
