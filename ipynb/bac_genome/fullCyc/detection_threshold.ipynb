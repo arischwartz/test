{
 "cells": [
  {
   "cell_type": "markdown",
   "metadata": {},
   "source": [
    "# Description\n",
    "\n",
    "* The relatively abundant taxa seem to be present in all gradient fractions.\n",
    "  * \\>0.1% pre-fractionation abundance (at least for 1 12C-con gradient)\n",
    "* Goal: \n",
    "  * For all 12C-Con gradients determine the detection threshold:\n",
    "    * What is the % abundance cutoff where taxa are no longer detected in all gradients"
   ]
  },
  {
   "cell_type": "markdown",
   "metadata": {},
   "source": [
    "# Setting parameters"
   ]
  },
  {
   "cell_type": "code",
   "execution_count": 2,
   "metadata": {
    "collapsed": true
   },
   "outputs": [],
   "source": [
    "%load_ext rpy2.ipython"
   ]
  },
  {
   "cell_type": "code",
   "execution_count": 3,
   "metadata": {
    "collapsed": false
   },
   "outputs": [],
   "source": [
    "%%R\n",
    "physeqDir = '/var/seq_data/fullCyc/MiSeq_16SrRNA/515f-806r/lib1-7/phyloseq/'\n",
    "physeq_bulkCore = 'bulk-core'\n",
    "physeq_SIP_core = 'SIP-core_unk'"
   ]
  },
  {
   "cell_type": "markdown",
   "metadata": {},
   "source": [
    "# Init"
   ]
  },
  {
   "cell_type": "code",
   "execution_count": 4,
   "metadata": {
    "collapsed": false
   },
   "outputs": [
    {
     "name": "stderr",
     "output_type": "stream",
     "text": [
      "/opt/anaconda/lib/python2.7/site-packages/rpy2/robjects/functions.py:106: UserWarning: \n",
      "Attaching package: ‘dplyr’\n",
      "\n",
      "\n",
      "  res = super(Function, self).__call__(*new_args, **new_kwargs)\n",
      "/opt/anaconda/lib/python2.7/site-packages/rpy2/robjects/functions.py:106: UserWarning: The following objects are masked from ‘package:stats’:\n",
      "\n",
      "    filter, lag\n",
      "\n",
      "\n",
      "  res = super(Function, self).__call__(*new_args, **new_kwargs)\n",
      "/opt/anaconda/lib/python2.7/site-packages/rpy2/robjects/functions.py:106: UserWarning: The following objects are masked from ‘package:base’:\n",
      "\n",
      "    intersect, setdiff, setequal, union\n",
      "\n",
      "\n",
      "  res = super(Function, self).__call__(*new_args, **new_kwargs)\n"
     ]
    }
   ],
   "source": [
    "%%R\n",
    "library(dplyr)\n",
    "library(tidyr)\n",
    "library(ggplot2)\n",
    "library(phyloseq)"
   ]
  },
  {
   "cell_type": "markdown",
   "metadata": {},
   "source": [
    "# Mapping bulk and SIP data"
   ]
  },
  {
   "cell_type": "code",
   "execution_count": 5,
   "metadata": {
    "collapsed": false
   },
   "outputs": [
    {
     "data": {
      "text/plain": [
       "phyloseq-class experiment-level object\n",
       "otu_table()   OTU Table:         [ 4950 taxa and 9 samples ]\n",
       "sample_data() Sample Data:       [ 9 samples by 17 sample variables ]\n",
       "tax_table()   Taxonomy Table:    [ 4950 taxa by 8 taxonomic ranks ]\n",
       "phy_tree()    Phylogenetic Tree: [ 4950 tips and 4949 internal nodes ]\n"
      ]
     },
     "metadata": {},
     "output_type": "display_data"
    }
   ],
   "source": [
    "%%R\n",
    "physeq.file = file.path(physeqDir, physeq_bulkCore)\n",
    "physeq = readRDS(physeq.file)\n",
    "physeq.m = physeq %>% sample_data\n",
    "physeq"
   ]
  },
  {
   "cell_type": "code",
   "execution_count": 7,
   "metadata": {
    "collapsed": false
   },
   "outputs": [
    {
     "data": {
      "text/plain": [
       "phyloseq-class experiment-level object\n",
       "otu_table()   OTU Table:         [ 4950 taxa and 9 samples ]\n",
       "sample_data() Sample Data:       [ 9 samples by 17 sample variables ]\n",
       "tax_table()   Taxonomy Table:    [ 4950 taxa by 8 taxonomic ranks ]\n",
       "phy_tree()    Phylogenetic Tree: [ 4950 tips and 4949 internal nodes ]\n"
      ]
     },
     "metadata": {},
     "output_type": "display_data"
    }
   ],
   "source": [
    "%%R \n",
    "# parsing out to just 12C-Con gradients\n",
    "physeq.f = prune_samples((physeq.m$Exp_type == 'microcosm_bulk') | \n",
    "                         (physeq.m$Exp_type == 'SIP' & \n",
    "                          physeq.m$Substrate == '12C-Con'),\n",
    "                         physeq) %>% \n",
    "    filter_taxa(function(x) sum(x) > 0, TRUE)\n",
    "physeq.f.m = physeq.f %>% sample_data %>% as.matrix %>% as.data.frame \n",
    "physeq.f         "
   ]
  },
  {
   "cell_type": "code",
   "execution_count": null,
   "metadata": {
    "collapsed": true
   },
   "outputs": [],
   "source": []
  },
  {
   "cell_type": "code",
   "execution_count": 103,
   "metadata": {
    "collapsed": false
   },
   "outputs": [
    {
     "data": {
      "text/plain": [
       "Source: local data frame [2 x 4]\n",
       "Groups: Exp_type, Day [?]\n",
       "\n",
       "        Exp_type    Day Substrate     n\n",
       "          (fctr) (fctr)    (fctr) (int)\n",
       "1 microcosm_bulk      1   12C-Con     1\n",
       "2            SIP      1   12C-Con    26\n"
      ]
     },
     "metadata": {},
     "output_type": "display_data"
    }
   ],
   "source": [
    "%%R\n",
    "# check of samples\n",
    "physeq.f.m %>% \n",
    "    as.data.frame() %>%\n",
    "    group_by(Exp_type, Day, Substrate) %>%\n",
    "    summarize(n = n())"
   ]
  }
 ],
 "metadata": {
  "hide_input": true,
  "kernelspec": {
   "display_name": "Python 2",
   "language": "python",
   "name": "python2"
  },
  "language_info": {
   "codemirror_mode": {
    "name": "ipython",
    "version": 2
   },
   "file_extension": ".py",
   "mimetype": "text/x-python",
   "name": "python",
   "nbconvert_exporter": "python",
   "pygments_lexer": "ipython2",
   "version": "2.7.10"
  }
 },
 "nbformat": 4,
 "nbformat_minor": 0
}
