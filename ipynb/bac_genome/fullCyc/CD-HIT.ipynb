{
 "cells": [
  {
   "cell_type": "markdown",
   "metadata": {},
   "source": [
    "# Goal: \n",
    "\n",
    "* Running CD-HIT on fullCyc OTUs & bac_genome1210 16S rRNA gene dataset\n",
    "  * cutoff 97% seqID\n",
    "  * ID OTUs with taxa from both datasets\n",
    "    * target genomes"
   ]
  },
  {
   "cell_type": "markdown",
   "metadata": {},
   "source": [
    "# Setting variables"
   ]
  },
  {
   "cell_type": "code",
   "execution_count": 13,
   "metadata": {
    "collapsed": false
   },
   "outputs": [],
   "source": [
    "import os\n",
    "\n",
    "baseDir = '/home/nick/notebook/SIPSim/dev/fullCyc/'\n",
    "workDir = os.path.join(baseDir, 'CD-HIT')\n",
    "\n",
    "rnammerSeqs = '/home/nick/notebook/SIPSim/dev/bac_genome1147/rnammer/bac_genome1147_16S.fna'\n",
    "otuRepFile = '/home/nick/notebook/SIPSim/dev/fullCyc/OTU_reps.fna'\n",
    "otuTaxFile = '/var/seq_data/fullCyc/MiSeq_16SrRNA/515f-806r/lib1-7/OTU_binning/otusn_tax/otusn_tax_assignments.txt'\n",
    "genomeDir = '/var/seq_data/ncbi_db/genome/Jan2016/bac_complete_spec-rep1_rn/'\n",
    "#genomeDir = '/home/nick/notebook/SIPSim/dev/bac_genome1210/genomes/'\n",
    "#otuTableFile = '/var/seq_data/priming_exp/data/otu_table.txt'"
   ]
  },
  {
   "cell_type": "markdown",
   "metadata": {},
   "source": [
    "# Init"
   ]
  },
  {
   "cell_type": "code",
   "execution_count": 3,
   "metadata": {
    "collapsed": true
   },
   "outputs": [],
   "source": [
    "import re\n",
    "import glob\n",
    "import itertools\n",
    "import random\n",
    "from pprint import pprint\n",
    "%load_ext rpy2.ipython"
   ]
  },
  {
   "cell_type": "code",
   "execution_count": 4,
   "metadata": {
    "collapsed": false
   },
   "outputs": [
    {
     "name": "stderr",
     "output_type": "stream",
     "text": [
      "/opt/anaconda/lib/python2.7/site-packages/rpy2/robjects/functions.py:106: UserWarning: \n",
      "Attaching package: ‘dplyr’\n",
      "\n",
      "\n",
      "  res = super(Function, self).__call__(*new_args, **new_kwargs)\n",
      "/opt/anaconda/lib/python2.7/site-packages/rpy2/robjects/functions.py:106: UserWarning: The following objects are masked from ‘package:stats’:\n",
      "\n",
      "    filter, lag\n",
      "\n",
      "\n",
      "  res = super(Function, self).__call__(*new_args, **new_kwargs)\n",
      "/opt/anaconda/lib/python2.7/site-packages/rpy2/robjects/functions.py:106: UserWarning: The following objects are masked from ‘package:base’:\n",
      "\n",
      "    intersect, setdiff, setequal, union\n",
      "\n",
      "\n",
      "  res = super(Function, self).__call__(*new_args, **new_kwargs)\n"
     ]
    }
   ],
   "source": [
    "%%R\n",
    "library(ggplot2)\n",
    "library(dplyr)\n",
    "library(tidyr)\n",
    "library(gridExtra)"
   ]
  },
  {
   "cell_type": "code",
   "execution_count": 5,
   "metadata": {
    "collapsed": true
   },
   "outputs": [],
   "source": [
    "if not os.path.isdir(workDir):\n",
    "    os.makedirs(workDir)"
   ]
  },
  {
   "cell_type": "markdown",
   "metadata": {},
   "source": [
    "# Making input fasta"
   ]
  },
  {
   "cell_type": "code",
   "execution_count": 8,
   "metadata": {
    "collapsed": false
   },
   "outputs": [
    {
     "name": "stdout",
     "output_type": "stream",
     "text": [
      "Number of sequences: 8868\n"
     ]
    }
   ],
   "source": [
    "# concatenating sequences\n",
    "!cd $workDir; \\\n",
    "    cat $otuRepFile $rnammerSeqs > ssu_all.fna\n",
    "!printf 'Number of sequences: '\n",
    "!cd $workDir; \\\n",
    "    grep -c \">\" ssu_all.fna"
   ]
  },
  {
   "cell_type": "markdown",
   "metadata": {},
   "source": [
    "# CD-HIT run"
   ]
  },
  {
   "cell_type": "code",
   "execution_count": 9,
   "metadata": {
    "collapsed": false
   },
   "outputs": [
    {
     "name": "stdout",
     "output_type": "stream",
     "text": [
      "================================================================\n",
      "Program: CD-HIT, V4.6, Feb 20 2014, 09:04:54\n",
      "Command: cd-hit-est -i ssu_all.fna -o ssu_all_cdhit -c 0.97 -d\n",
      "         0\n",
      "\n",
      "Started: Fri Jan 15 13:12:33 2016\n",
      "================================================================\n",
      "                            Output                              \n",
      "----------------------------------------------------------------\n",
      "total seq: 8868\n",
      "longest and shortest : 3198 and 239\n",
      "Total letters: 7975133\n",
      "Sequences have been sorted\n",
      "\n",
      "Approximated minimal memory consumption:\n",
      "Sequence        : 9M\n",
      "Buffer          : 1 X 12M = 12M\n",
      "Table           : 1 X 16M = 16M\n",
      "Miscellaneous   : 4M\n",
      "Total           : 43M\n",
      "\n",
      "Table limit with the given memory limit:\n",
      "Max number of representatives: 464937\n",
      "Max number of word counting entries: 94568193\n",
      "\n",
      "comparing sequences from          0  to       8868\n",
      "........\n",
      "     8868  finished       4959  clusters\n",
      "\n",
      "Apprixmated maximum memory consumption: 61M\n",
      "writing new database\n",
      "writing clustering information\n",
      "program completed !\n",
      "\n",
      "Total CPU time 6.84\n"
     ]
    }
   ],
   "source": [
    "!cd $workDir; \\\n",
    "    cd-hit-est -i ssu_all.fna -o ssu_all_cdhit -c 0.97 -d 0"
   ]
  },
  {
   "cell_type": "markdown",
   "metadata": {},
   "source": [
    "## Finding clusters with sequences from both datasets"
   ]
  },
  {
   "cell_type": "code",
   "execution_count": 10,
   "metadata": {
    "collapsed": false
   },
   "outputs": [
    {
     "name": "stdout",
     "output_type": "stream",
     "text": [
      "Number of clusters loaded: 4959\n"
     ]
    }
   ],
   "source": [
    "inFile = os.path.join(workDir, 'ssu_all_cdhit.clstr')\n",
    "\n",
    "tbl = {}\n",
    "with open(inFile, 'rb') as inFH:\n",
    "    clst_id = None\n",
    "    for line in inFH:\n",
    "        line = line.rstrip()\n",
    "        if line.startswith('>'):\n",
    "            clst_id = line.lstrip('>Cluster ')\n",
    "            tbl[clst_id] = []\n",
    "        else:\n",
    "            tbl[clst_id].append(re.split('\\t|, ', line))\n",
    "            \n",
    "print \"Number of clusters loaded: {}\".format(len(tbl.keys()))            "
   ]
  },
  {
   "cell_type": "code",
   "execution_count": 11,
   "metadata": {
    "collapsed": false
   },
   "outputs": [
    {
     "name": "stdout",
     "output_type": "stream",
     "text": [
      "Number of clusters with OTUs and genomes: 159\n"
     ]
    }
   ],
   "source": [
    "# clusters that have '>OTU'  and '>rRNA' (OTU and genome)\n",
    "def shared_clust(x):\n",
    "    otus = any([y[2].startswith('>OTU') for y in x])\n",
    "    genomes = any([y[2].startswith('>rRNA') for y in x])    \n",
    "    return otus == True and genomes == True\n",
    "\n",
    "tbl_f = {x:y for x,y in tbl.items() if shared_clust(y)}\n",
    "print \"Number of clusters with OTUs and genomes: {}\".format(len(tbl_f.keys()))"
   ]
  },
  {
   "cell_type": "markdown",
   "metadata": {},
   "source": [
    "### Getting taxonomic classification of OTUs in target clusters"
   ]
  },
  {
   "cell_type": "code",
   "execution_count": 14,
   "metadata": {
    "collapsed": false
   },
   "outputs": [],
   "source": [
    "# loading tax file\n",
    "tax = {}\n",
    "with open(otuTaxFile, 'rb') as inFH:\n",
    "    for line in inFH:\n",
    "        line = line.rstrip()\n",
    "        if not line.startswith('OTU'):\n",
    "            continue\n",
    "        otu,cls,boot,_ = line.split('\\t')\n",
    "        cls = [x.lstrip(' __') for x in cls.split(';')]\n",
    "        for i in range(8):\n",
    "            try:\n",
    "                len(cls[i])\n",
    "            except IndexError:\n",
    "                cls.append('Unclassified')\n",
    "        tax[otu] = cls"
   ]
  },
  {
   "cell_type": "code",
   "execution_count": 15,
   "metadata": {
    "collapsed": true
   },
   "outputs": [],
   "source": [
    "def printDict(d, n=10):\n",
    "    cnt = 0\n",
    "    for x,y in d.items():\n",
    "        pprint(x)\n",
    "        print(y)\n",
    "        cnt += 1\n",
    "        if cnt >= n:\n",
    "            break"
   ]
  },
  {
   "cell_type": "code",
   "execution_count": 16,
   "metadata": {
    "collapsed": false
   },
   "outputs": [
    {
     "name": "stdout",
     "output_type": "stream",
     "text": [
      "'OTU.8469'\n",
      "['Bacteria', 'Proteobacteria', 'Deltaproteobacteria', 'Bdellovibrionales', 'Bacteriovoracaceae', 'Peredibacter', 'uncultured_bacterium', 'Unclassified']\n",
      "'OTU.11582'\n",
      "['Bacteria', 'Acidobacteria', 'DA023', 'uncultured_bacterium', 'Unclassified', 'Unclassified', 'Unclassified', 'Unclassified']\n",
      "'OTU.5687'\n",
      "['Bacteria', 'Actinobacteria', 'Thermoleophilia', 'Solirubrobacterales', '480-2', 'uncultured_bacterium', 'Unclassified', 'Unclassified']\n"
     ]
    }
   ],
   "source": [
    "printDict(tax, n=3)"
   ]
  },
  {
   "cell_type": "code",
   "execution_count": 17,
   "metadata": {
    "collapsed": true
   },
   "outputs": [],
   "source": [
    "# adding taxonomic classifications to OTUs in target clusters\n",
    "\n",
    "for clstr,x in tbl_f.items():\n",
    "    for y in x:\n",
    "        ID = y[2].lstrip('>')\n",
    "        ID = re.sub('\\.\\.\\..+','', ID)\n",
    "        #print 'ID: \"{}\"'.format(ID)\n",
    "        try:\n",
    "            y.append(tax[ID])\n",
    "        except KeyError:\n",
    "            y.append(None)                  "
   ]
  },
  {
   "cell_type": "code",
   "execution_count": 18,
   "metadata": {
    "collapsed": false,
    "scrolled": false
   },
   "outputs": [
    {
     "name": "stdout",
     "output_type": "stream",
     "text": [
      "Cluster: 212\n",
      "Bacteria:Proteobacteria:Gammaproteobacteria:Pseudomonadales:Moraxellaceae:Acinetobacter:Unclassified\n",
      "rRNA_NC_010611_Acinetobacter_baumannii_ACICU__Acinetobacter_baumannii_ACICU_3391663-3393187_DIR-... \n",
      "rRNA_NC_010611_Acinetobacter_baumannii_ACICU__Acinetobacter_baumannii_ACICU_40143-41667_DIR+... at +\n",
      "rRNA_NC_010611_Acinetobacter_baumannii_ACICU__Acinetobacter_baumannii_ACICU_3891232-3892756_DIR-... \n",
      "rRNA_NC_010611_Acinetobacter_baumannii_ACICU__Acinetobacter_baumannii_ACICU_686949-688473_DIR+... at\n",
      "rRNA_NC_010611_Acinetobacter_baumannii_ACICU__Acinetobacter_baumannii_ACICU_216608-218132_DIR+... at\n",
      "rRNA_NC_010611_Acinetobacter_baumannii_ACICU__Acinetobacter_baumannii_ACICU_3424880-3426404_DIR-... \n",
      "rRNA_NC_014259_Acinetobacter_oleivorans_DR1__Acinetobacter_oleivorans_DR1_3479770-3481295_DIR-... at\n",
      "rRNA_NC_014259_Acinetobacter_oleivorans_DR1__Acinetobacter_oleivorans_DR1_18773-20298_DIR+... at +/1\n",
      "rRNA_NC_014259_Acinetobacter_oleivorans_DR1__Acinetobacter_oleivorans_DR1_4120139-4121673_DIR-... *\n",
      "rRNA_NC_014259_Acinetobacter_oleivorans_DR1__Acinetobacter_oleivorans_DR1_541439-542964_DIR+... at +\n",
      "rRNA_NC_014259_Acinetobacter_oleivorans_DR1__Acinetobacter_oleivorans_DR1_505907-507432_DIR+... at +\n",
      "rRNA_NC_014259_Acinetobacter_oleivorans_DR1__Acinetobacter_oleivorans_DR1_3939237-3940762_DIR-... at\n",
      "rRNA_NC_016603_Acinetobacter_calcoaceticus_PHEA_2_chromosome__Acinetobacter_calcoa_3321374-3322899_D\n",
      "rRNA_NC_016603_Acinetobacter_calcoaceticus_PHEA_2_chromosome__Acinetobacter_calcoa_2678134-2679660_D\n",
      "Cluster: 762\n",
      "Bacteria:Proteobacteria:Alphaproteobacteria:Rhizobiales:Phyllobacteriaceae:Mesorhizobium:Unclassifie\n",
      "rRNA_NC_019973_Mesorhizobium_australicum_WSM2073__Mesorhizobium_australicum_WSM207_1738466-1739938_D\n",
      "rRNA_NC_019973_Mesorhizobium_australicum_WSM2073__Mesorhizobium_australicum_WSM207_1746046-1747518_D\n",
      "rRNA_NC_014923_Mesorhizobium_ciceri_biovar_biserrulae_WSM1271_chromosome__Mesorhiz_1686680-1688152_D\n",
      "rRNA_NC_014923_Mesorhizobium_ciceri_biovar_biserrulae_WSM1271_chromosome__Mesorhiz_1694553-1696026_D\n",
      "rRNA_NC_002678_Mesorhizobium_loti_MAFF303099_DNA__Mesorhizobium_loti_MAFF303099_DN_2757519-2758991_D\n",
      "rRNA_NC_002678_Mesorhizobium_loti_MAFF303099_DNA__Mesorhizobium_loti_MAFF303099_DN_2750006-2751478_D\n",
      "rRNA_NC_015675_Mesorhizobium_opportunistum_WSM2075__Mesorhizobium_opportunistum_WS_1728175-1729647_D\n",
      "rRNA_NC_015675_Mesorhizobium_opportunistum_WSM2075__Mesorhizobium_opportunistum_WS_1735934-1737406_D\n",
      "Cluster: 663\n",
      "Bacteria:Bacteroidetes:Cytophagia:Cytophagales:Cytophagaceae:Dyadobacter:Unclassified:Unclassified\n",
      "rRNA_NC_013037_Dyadobacter_fermentans_DSM_18053__Dyadobacter_fermentans_DSM_18053_4611730-4613224_DI\n",
      "rRNA_NC_013037_Dyadobacter_fermentans_DSM_18053__Dyadobacter_fermentans_DSM_18053_4003859-4005353_DI\n",
      "rRNA_NC_013037_Dyadobacter_fermentans_DSM_18053__Dyadobacter_fermentans_DSM_18053_5058638-5060132_DI\n",
      "rRNA_NC_013037_Dyadobacter_fermentans_DSM_18053__Dyadobacter_fermentans_DSM_18053_4639275-4640769_DI\n",
      "Cluster: 767\n",
      "Bacteria:Proteobacteria:Alphaproteobacteria:Rhizobiales:Brucellaceae:Ochrobactrum:Unclassified:Uncla\n",
      "rRNA_NC_016795_Brucella_abortus_A13334_chromosome_1__complete_sequence__Brucella_a_606124-607596_DIR\n",
      "rRNA_NC_016777_Brucella_abortus_A13334_chromosome_2__complete_sequence__Brucella_a_51294-52766_DIR-.\n",
      "rRNA_NC_016795_Brucella_abortus_A13334_chromosome_1__complete_sequence__Brucella_a_810199-811671_DIR\n",
      "rRNA_NC_016796_Brucella_canis_HSK_A52141_chromosome_2__complete_sequence__Brucella_893350-894822_DIR\n",
      "rRNA_NC_016778_Brucella_canis_HSK_A52141_chromosome_1__complete_sequence__Brucella_1571481-1572953_D\n",
      "rRNA_NC_016778_Brucella_canis_HSK_A52141_chromosome_1__complete_sequence__Brucella_1367069-1368541_D\n",
      "rRNA_NC_022906_Brucella_ceti_TE10759_12_chromosome_2__complete_sequence__Brucella__189519-190991_DIR\n",
      "rRNA_NC_022905_Brucella_ceti_TE10759_12_chromosome_1__complete_sequence__Brucella__396455-397927_DIR\n",
      "rRNA_NC_022905_Brucella_ceti_TE10759_12_chromosome_1__complete_sequence__Brucella__198336-199808_DIR\n",
      "rRNA_NC_012442_Brucella_melitensis_ATCC_23457_chromosome_II__complete_sequence__Br_1086380-1087852_D\n",
      "rRNA_NC_012441_Brucella_melitensis_ATCC_23457_chromosome_I__complete_sequence__Bru_1608394-1609866_D\n",
      "rRNA_NC_012441_Brucella_melitensis_ATCC_23457_chromosome_I__complete_sequence__Bru_1811793-1813265_D\n",
      "rRNA_NC_013118_Brucella_microti_CCM_4915_chromosome_2__complete_sequence__Brucella_1121082-1122554_D\n",
      "rRNA_NC_013119_Brucella_microti_CCM_4915_chromosome_1__complete_sequence__Brucella_1596962-1598434_D\n",
      "rRNA_NC_013119_Brucella_microti_CCM_4915_chromosome_1__complete_sequence__Brucella_1801654-1803126_D\n",
      "rRNA_NC_009504_Brucella_ovis_ATCC_25840_chromosome_II__complete_sequence__Brucella_1066188-1067660_D\n",
      "rRNA_NC_009505_Brucella_ovis_ATCC_25840_chromosome_I__complete_sequence__Brucella__1596490-1597962_D\n",
      "rRNA_NC_009505_Brucella_ovis_ATCC_25840_chromosome_I__complete_sequence__Brucella__1797640-1799112_D\n",
      "rRNA_NC_015857_Brucella_pinnipedialis_B2_94_chromosome_1__complete_sequence__Bruce_1824429-1825901_D\n",
      "rRNA_NC_015858_Brucella_pinnipedialis_B2_94_chromosome_2__complete_sequence__Bruce_1161698-1163170_D\n",
      "rRNA_NC_015857_Brucella_pinnipedialis_B2_94_chromosome_1__complete_sequence__Bruce_1619360-1620832_D\n",
      "rRNA_NC_004310_Brucella_suis_1330_chromosome_I__complete_sequence__Brucella_suis_1_1793668-1795140_D\n",
      "rRNA_NC_004311_Brucella_suis_1330_chromosome_II__complete_sequence__Brucella_suis__1108145-1109617_D\n",
      "rRNA_NC_004310_Brucella_suis_1330_chromosome_I__complete_sequence__Brucella_suis_1_1588606-1590078_D\n",
      "rRNA_NC_009668_Ochrobactrum_anthropi_ATCC_49188_chromosome_2__complete_sequence__O_456833-458303_DIR\n",
      "rRNA_NC_009667_Ochrobactrum_anthropi_ATCC_49188_chromosome_1__complete_sequence__O_1346251-1347721_D\n",
      "rRNA_NC_009667_Ochrobactrum_anthropi_ATCC_49188_chromosome_1__complete_sequence__O_1084028-1085498_D\n",
      "rRNA_NC_009668_Ochrobactrum_anthropi_ATCC_49188_chromosome_2__complete_sequence__O_1602089-1603559_D\n",
      "Cluster: 132\n",
      "Bacteria:Firmicutes:Bacilli:Lactobacillales:Streptococcaceae:Streptococcus:uncultured_bacterium:Uncl\n",
      "rRNA_NC_009785_Streptococcus_gordonii_str__Challis_substr__CH1__Streptococcus_gord_661158-662702_DIR\n",
      "rRNA_NC_009785_Streptococcus_gordonii_str__Challis_substr__CH1__Streptococcus_gord_1768564-1770108_D\n",
      "rRNA_NC_009785_Streptococcus_gordonii_str__Challis_substr__CH1__Streptococcus_gord_2020574-2022118_D\n",
      "rRNA_NC_009785_Streptococcus_gordonii_str__Challis_substr__CH1__Streptococcus_gord_2177015-2178559_D\n",
      "rRNA_NC_009009_Streptococcus_sanguinis_SK36_chromosome__Streptococcus_sanguinis_SK_16386-17921_DIR+.\n",
      "rRNA_NC_009009_Streptococcus_sanguinis_SK36_chromosome__Streptococcus_sanguinis_SK_1827868-1829403_D\n",
      "rRNA_NC_009009_Streptococcus_sanguinis_SK36_chromosome__Streptococcus_sanguinis_SK_1933929-1935464_D\n",
      "rRNA_NC_009009_Streptococcus_sanguinis_SK36_chromosome__Streptococcus_sanguinis_SK_124370-125905_DIR\n",
      "Cluster: 131\n",
      "Bacteria:Proteobacteria:Deltaproteobacteria:Myxococcales:Sorangiineae:Polyangiaceae:Sorangium:Unclas\n",
      "rRNA_NC_021658_Sorangium_cellulosum_So0157_2__Sorangium_cellulosum_So0157_2_3603982-3605526_DIR+... \n",
      "rRNA_NC_021658_Sorangium_cellulosum_So0157_2__Sorangium_cellulosum_So0157_2_6708274-6709818_DIR-... \n",
      "rRNA_NC_021658_Sorangium_cellulosum_So0157_2__Sorangium_cellulosum_So0157_2_12129676-12131220_DIR-..\n",
      "rRNA_NC_021658_Sorangium_cellulosum_So0157_2__Sorangium_cellulosum_So0157_2_4322994-4324538_DIR+... \n",
      "Cluster: 138\n",
      "Bacteria:Proteobacteria:Deltaproteobacteria:Myxococcales:Nannocystineae:Haliangiaceae:Haliangium:Unc\n",
      "rRNA_NC_013440_Haliangium_ochraceum_DSM_14365__Haliangium_ochraceum_DSM_14365_171442-172985_DIR+... \n",
      "rRNA_NC_013440_Haliangium_ochraceum_DSM_14365__Haliangium_ochraceum_DSM_14365_2898792-2900335_DIR+..\n",
      "Cluster: 25\n",
      "Bacteria:Firmicutes:Clostridia:Clostridiales:Veillonellaceae:Pelosinus:uncultured_bacterium:Unclassi\n",
      "rRNA_NZ_CP010978_Pelosinus_fermentans_JBW45__Pelosinus_fermentans_JBW45_4381642-4383187_DIR-... at +\n",
      "rRNA_NZ_CP010978_Pelosinus_fermentans_JBW45__Pelosinus_fermentans_JBW45_2255618-2257263_DIR+... *\n",
      "rRNA_NZ_CP010978_Pelosinus_fermentans_JBW45__Pelosinus_fermentans_JBW45_4375737-4377282_DIR-... at +\n",
      "rRNA_NZ_CP010978_Pelosinus_fermentans_JBW45__Pelosinus_fermentans_JBW45_2776214-2777851_DIR-... at +\n",
      "rRNA_NZ_CP010978_Pelosinus_fermentans_JBW45__Pelosinus_fermentans_JBW45_31829-33374_DIR+... at +/97.\n",
      "rRNA_NZ_CP010978_Pelosinus_fermentans_JBW45__Pelosinus_fermentans_JBW45_3215241-3216886_DIR-... at +\n",
      "rRNA_NZ_CP010978_Pelosinus_fermentans_JBW45__Pelosinus_fermentans_JBW45_5043623-5045168_DIR-... at +\n",
      "rRNA_NZ_CP010978_Pelosinus_fermentans_JBW45__Pelosinus_fermentans_JBW45_25880-27525_DIR+... at +/99.\n",
      "rRNA_NZ_CP010978_Pelosinus_fermentans_JBW45__Pelosinus_fermentans_JBW45_5037863-5039408_DIR-... at +\n",
      "Cluster: 27\n",
      "Bacteria:Firmicutes:Clostridia:Clostridiales:Ruminococcaceae:Incertae_Sedis:Unclassified:Unclassifie\n",
      "rRNA_NC_011898_Clostridium_cellulolyticum_H10__Clostridium_cellulolyticum_H10_4055819-4057459_DIR-..\n",
      "rRNA_NC_011898_Clostridium_cellulolyticum_H10__Clostridium_cellulolyticum_H10_654800-656440_DIR+... \n",
      "rRNA_NC_011898_Clostridium_cellulolyticum_H10__Clostridium_cellulolyticum_H10_3983643-3985283_DIR-..\n",
      "rRNA_NC_011898_Clostridium_cellulolyticum_H10__Clostridium_cellulolyticum_H10_605119-606759_DIR+... \n",
      "rRNA_NC_011898_Clostridium_cellulolyticum_H10__Clostridium_cellulolyticum_H10_2914118-2915758_DIR-..\n",
      "rRNA_NC_011898_Clostridium_cellulolyticum_H10__Clostridium_cellulolyticum_H10_887840-889480_DIR+... \n",
      "rRNA_NC_011898_Clostridium_cellulolyticum_H10__Clostridium_cellulolyticum_H10_453791-455431_DIR+... \n",
      "rRNA_NC_011898_Clostridium_cellulolyticum_H10__Clostridium_cellulolyticum_H10_1851052-1852690_DIR+..\n",
      "Cluster: 22\n",
      "Bacteria:Firmicutes:Clostridia:Clostridiales:Peptococcaceae:Desulfosporosinus:uncultured_bacterium:U\n",
      "rRNA_NC_018068_Desulfosporosinus_acidiphilus_SJ4__Desulfosporosinus_acidiphilus_SJ_3672910-3674465_D\n",
      "rRNA_NC_018068_Desulfosporosinus_acidiphilus_SJ4__Desulfosporosinus_acidiphilus_SJ_2953029-2954675_D\n",
      "rRNA_NC_018068_Desulfosporosinus_acidiphilus_SJ4__Desulfosporosinus_acidiphilus_SJ**OUTPUT MUTED**"
     ]
    }
   ],
   "source": [
    "# gut check: manual check of OTU classifications & genome names \n",
    "\n",
    "for clstr,x in tbl_f.items():\n",
    "    print 'Cluster: {}'.format(clstr)\n",
    "    for y in x:\n",
    "        ID = y[2].lstrip('>')\n",
    "        if ID.startswith('OTU'):\n",
    "            # classifications\n",
    "            try:\n",
    "                print ':'.join(y[3])[:100]\n",
    "            except IndexError:\n",
    "                print ':'.join(y[3])\n",
    "        elif ID.startswith('rRNA'):\n",
    "            # genome names\n",
    "            try:\n",
    "                print ID[:100]\n",
    "            except IndexError:\n",
    "                print ID"
   ]
  },
  {
   "cell_type": "markdown",
   "metadata": {},
   "source": [
    "__Notes:__\n",
    "\n",
    "* At least most of the taxonomic classifications make sense for the genomes in each cluster"
   ]
  },
  {
   "cell_type": "markdown",
   "metadata": {},
   "source": [
    "### Writing out a list of target genomes and their corresponding OTUs\n",
    "\n",
    "* If an OTU has multiple associations with a genome, selecting 1 a random\n",
    "  * ie., 1-to-1 association"
   ]
  },
  {
   "cell_type": "code",
   "execution_count": 24,
   "metadata": {
    "collapsed": false
   },
   "outputs": [
    {
     "name": "stdout",
     "output_type": "stream",
     "text": [
      "Index length: 1231\n"
     ]
    }
   ],
   "source": [
    "# making a index of scaffolds for each genome\n",
    "genome_list = glob.glob(os.path.join(genomeDir, '*.fna'))\n",
    "\n",
    "def fasta_seqID(fastaFiles):\n",
    "    file_seqID = {}\n",
    "    for f in fastaFiles:\n",
    "        with open(f, 'rb') as iFH:\n",
    "            for line in iFH:\n",
    "                if line.startswith('>'):\n",
    "                    line = line.lstrip('>').rstrip()\n",
    "                    file_seqID[line] = f\n",
    "    return file_seqID\n",
    "\n",
    "seqID_fastaID = fasta_seqID(genome_list)                    \n",
    "print 'Index length: {}'.format(len(seqID_fastaID))"
   ]
  },
  {
   "cell_type": "code",
   "execution_count": 25,
   "metadata": {
    "collapsed": true
   },
   "outputs": [],
   "source": [
    "def write_targets(tbl, oFH, seqID_fastaID):\n",
    "    \"\"\"\n",
    "    Args:\n",
    "    tbl -- cd-hit results\n",
    "    oFH -- output file handle\n",
    "    seqID_fastaID -- dict(seqName : fastaFileName)\n",
    "    \"\"\"\n",
    "    oFH.write('\\t'.join(['cluster', 'ssu_ID', 'genome_fileID', 'genomeID',\n",
    "                         'genome_seqID', 'OTU', 'OTU_taxonomy']) + '\\n')\n",
    "    for clstr,rows in tbl.items():\n",
    "        # parsing cluster; getting all OTUs and genome_IDs\n",
    "        targets = []\n",
    "        otus = []\n",
    "        for row in rows:\n",
    "            ID = row[2].lstrip('>')\n",
    "            ID = re.sub('\\.\\.\\..+','', ID)        \n",
    "            if ID.startswith('OTU'):\n",
    "                otu = [ID, ':'.join(row[3])]\n",
    "                otus.append(otu)\n",
    "            elif ID.startswith('rRNA'):\n",
    "                targets.append(ID)\n",
    "                \n",
    "                        \n",
    "        # writing out list\n",
    "        ## one 1 randomly selected genome is associated with OTU\n",
    "        random.shuffle(targets)\n",
    "        for otu, target in zip(otus, itertools.cycle(targets)):\n",
    "            # genome sequence name\n",
    "            seqID = target[5:]  # removing rRNA_\n",
    "            seqID = re.sub('_\\d+-\\d+_DIR.+', '', seqID)\n",
    "            # genome file name\n",
    "            try:\n",
    "                fileID = seqID_fastaID[seqID]\n",
    "            except KeyError:\n",
    "                msg = 'Cannot find \"{}\"'\n",
    "                print msg.format(seqID)\n",
    "                fileID = ''\n",
    "                genomeID = ''\n",
    "            else:\n",
    "                # genome name                \n",
    "                x = os.path.split(fileID)\n",
    "                genomeID = os.path.splitext(x[1])[0]\n",
    "            \n",
    "            # writing row\n",
    "            oFH.write('\\t'.join([clstr, target, fileID, genomeID, seqID] + otu) + '\\n')        "
   ]
  },
  {
   "cell_type": "code",
   "execution_count": 26,
   "metadata": {
    "collapsed": false,
    "scrolled": false
   },
   "outputs": [],
   "source": [
    "outFile = os.path.join(workDir, 'target_taxa.txt')\n",
    "with open(outFile, 'wb') as oFH:\n",
    "    write_targets(tbl_f, oFH, seqID_fastaID)"
   ]
  },
  {
   "cell_type": "markdown",
   "metadata": {},
   "source": [
    "### Gut check on written file\n",
    "\n",
    "* Multiple OTUs will likely cluster with some representative genomes\n",
    "  * Thus, the number of target genomes should be > target OTUs"
   ]
  },
  {
   "cell_type": "code",
   "execution_count": 27,
   "metadata": {
    "collapsed": false
   },
   "outputs": [
    {
     "name": "stdout",
     "output_type": "stream",
     "text": [
      "Number of rows in table: 194\n"
     ]
    }
   ],
   "source": [
    "!printf \"Number of rows in table: \"\n",
    "!cd $workDir; \\\n",
    "    tail -n +2 target_taxa.txt | wc -l"
   ]
  },
  {
   "cell_type": "code",
   "execution_count": 28,
   "metadata": {
    "collapsed": false
   },
   "outputs": [
    {
     "name": "stdout",
     "output_type": "stream",
     "text": [
      "Number of clusters: 159\n"
     ]
    }
   ],
   "source": [
    "!printf \"Number of clusters: \"\n",
    "!cd $workDir; \\\n",
    "    tail -n +2 target_taxa.txt | cut -f 1 | sort -u | wc -l"
   ]
  },
  {
   "cell_type": "code",
   "execution_count": 29,
   "metadata": {
    "collapsed": false
   },
   "outputs": [
    {
     "name": "stdout",
     "output_type": "stream",
     "text": [
      "Number of target genomes: 165\n"
     ]
    }
   ],
   "source": [
    "!printf \"Number of target genomes: \"\n",
    "!cd $workDir; \\\n",
    "    tail -n +2 target_taxa.txt | cut -f 3 | sort -u | wc -l"
   ]
  },
  {
   "cell_type": "code",
   "execution_count": 30,
   "metadata": {
    "collapsed": false
   },
   "outputs": [
    {
     "name": "stdout",
     "output_type": "stream",
     "text": [
      "Number of OTUs: 165\n"
     ]
    }
   ],
   "source": [
    "!printf \"Number of OTUs: \"\n",
    "!cd $workDir; \\\n",
    "    tail -n +2 target_taxa.txt | cut -f 4 | sort -u | wc -l"
   ]
  },
  {
   "cell_type": "code",
   "execution_count": null,
   "metadata": {
    "collapsed": true
   },
   "outputs": [],
   "source": []
  }
 ],
 "metadata": {
  "hide_input": true,
  "kernelspec": {
   "display_name": "Python 2",
   "language": "python",
   "name": "python2"
  },
  "language_info": {
   "codemirror_mode": {
    "name": "ipython",
    "version": 2
   },
   "file_extension": ".py",
   "mimetype": "text/x-python",
   "name": "python",
   "nbconvert_exporter": "python",
   "pygments_lexer": "ipython2",
   "version": "2.7.11"
  }
 },
 "nbformat": 4,
 "nbformat_minor": 0
}
