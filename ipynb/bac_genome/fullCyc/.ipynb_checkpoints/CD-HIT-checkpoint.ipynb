{
 "cells": [
  {
   "cell_type": "markdown",
   "metadata": {},
   "source": [
    "# Goal: \n",
    "\n",
    "* Running CD-HIT on fullCyc OTUs & bac_genome1210 16S rRNA gene dataset\n",
    "  * cutoff 97% seqID\n",
    "  * ID OTUs with taxa from both datasets\n",
    "    * target genomes"
   ]
  },
  {
   "cell_type": "markdown",
   "metadata": {},
   "source": [
    "# User variables"
   ]
  },
  {
   "cell_type": "code",
   "execution_count": 15,
   "metadata": {
    "collapsed": true
   },
   "outputs": [],
   "source": [
    "baseDir = '/home/nick/notebook/SIPSim/dev/fullCyc/'\n",
    "workDir = os.path.join(baseDir, 'CD-HIT')\n",
    "\n",
    "rnammerSeqs = '/home/nick/notebook/SIPSim/dev/bac_genome1210/rnammer/bac_genome1210_16S.fna'\n",
    "otuRepFile = '/home/nick/notebook/SIPSim/dev/fullCyc/OTU_reps.fna'\n",
    "otuTaxFile = '/home/nick/notebook/fullCyc/data/MiSeq_16S/515f-806r/V4_Lib1-7/OTU_binning/otusn_tax/otusn_tax_assignments.txt'\n",
    "genomeDir = '/home/nick/notebook/SIPSim/dev/bac_genome1210/genomes/'\n",
    "#otuTableFile = '/var/seq_data/priming_exp/data/otu_table.txt'"
   ]
  },
  {
   "cell_type": "markdown",
   "metadata": {},
   "source": [
    "# Init"
   ]
  },
  {
   "cell_type": "code",
   "execution_count": 19,
   "metadata": {
    "collapsed": true
   },
   "outputs": [],
   "source": [
    "import re\n",
    "import glob\n",
    "import itertools\n",
    "import random\n",
    "from pprint import pprint"
   ]
  },
  {
   "cell_type": "code",
   "execution_count": 4,
   "metadata": {
    "collapsed": false
   },
   "outputs": [],
   "source": [
    "%load_ext rpy2.ipython"
   ]
  },
  {
   "cell_type": "code",
   "execution_count": 5,
   "metadata": {
    "collapsed": false
   },
   "outputs": [
    {
     "name": "stderr",
     "output_type": "stream",
     "text": [
      "/opt/anaconda/lib/python2.7/site-packages/rpy2/robjects/functions.py:106: UserWarning: \n",
      "Attaching package: ‘dplyr’\n",
      "\n",
      "\n",
      "  res = super(Function, self).__call__(*new_args, **new_kwargs)\n",
      "/opt/anaconda/lib/python2.7/site-packages/rpy2/robjects/functions.py:106: UserWarning: The following objects are masked from ‘package:stats’:\n",
      "\n",
      "    filter, lag\n",
      "\n",
      "\n",
      "  res = super(Function, self).__call__(*new_args, **new_kwargs)\n",
      "/opt/anaconda/lib/python2.7/site-packages/rpy2/robjects/functions.py:106: UserWarning: The following objects are masked from ‘package:base’:\n",
      "\n",
      "    intersect, setdiff, setequal, union\n",
      "\n",
      "\n",
      "  res = super(Function, self).__call__(*new_args, **new_kwargs)\n"
     ]
    }
   ],
   "source": [
    "%%R\n",
    "library(ggplot2)\n",
    "library(dplyr)\n",
    "library(tidyr)\n",
    "library(gridExtra)"
   ]
  },
  {
   "cell_type": "code",
   "execution_count": 6,
   "metadata": {
    "collapsed": true
   },
   "outputs": [],
   "source": [
    "if not os.path.isdir(workDir):\n",
    "    os.makedirs(workDir)"
   ]
  },
  {
   "cell_type": "markdown",
   "metadata": {},
   "source": [
    "# Making input fasta"
   ]
  },
  {
   "cell_type": "code",
   "execution_count": 10,
   "metadata": {
    "collapsed": false
   },
   "outputs": [
    {
     "name": "stdout",
     "output_type": "stream",
     "text": [
      "8927\r\n"
     ]
    }
   ],
   "source": [
    "# concatenating sequences\n",
    "!cd $workDir; \\\n",
    "    cat $otuRepFile $rnammerSeqs > ssu_all.fna\n",
    "!cd $workDir; \\\n",
    "    grep -c \">\" ssu_all.fna"
   ]
  },
  {
   "cell_type": "markdown",
   "metadata": {},
   "source": [
    "# CD-HIT run"
   ]
  },
  {
   "cell_type": "code",
   "execution_count": 11,
   "metadata": {
    "collapsed": false
   },
   "outputs": [
    {
     "name": "stdout",
     "output_type": "stream",
     "text": [
      "================================================================\n",
      "Program: CD-HIT, V4.6, Feb 20 2014, 09:04:54\n",
      "Command: cd-hit-est -i ssu_all.fna -o ssu_all_cdhit -c 0.97 -d\n",
      "         0\n",
      "\n",
      "Started: Sat Oct 17 12:57:17 2015\n",
      "================================================================\n",
      "                            Output                              \n",
      "----------------------------------------------------------------\n",
      "total seq: 8927\n",
      "longest and shortest : 3286 and 239\n",
      "Total letters: 8078543\n",
      "Sequences have been sorted\n",
      "\n",
      "Approximated minimal memory consumption:\n",
      "Sequence        : 9M\n",
      "Buffer          : 1 X 12M = 12M\n",
      "Table           : 1 X 16M = 16M\n",
      "Miscellaneous   : 4M\n",
      "Total           : 43M\n",
      "\n",
      "Table limit with the given memory limit:\n",
      "Max number of representatives: 465479\n",
      "Max number of word counting entries: 94567221\n",
      "\n",
      "comparing sequences from          0  to       8927\n",
      "........\n",
      "     8927  finished       5017  clusters\n",
      "\n",
      "Apprixmated maximum memory consumption: 62M\n",
      "writing new database\n",
      "writing clustering information\n",
      "program completed !\n",
      "\n",
      "Total CPU time 6.87\n"
     ]
    }
   ],
   "source": [
    "!cd $workDir; \\\n",
    "    cd-hit-est -i ssu_all.fna -o ssu_all_cdhit -c 0.97 -d 0"
   ]
  },
  {
   "cell_type": "markdown",
   "metadata": {},
   "source": [
    "## Finding clusters with sequences from both datasets"
   ]
  },
  {
   "cell_type": "code",
   "execution_count": 12,
   "metadata": {
    "collapsed": false
   },
   "outputs": [
    {
     "name": "stdout",
     "output_type": "stream",
     "text": [
      "Number of clusters loaded: 5017\n"
     ]
    }
   ],
   "source": [
    "inFile = os.path.join(workDir, 'ssu_all_cdhit.clstr')\n",
    "\n",
    "tbl = {}\n",
    "with open(inFile, 'rb') as inFH:\n",
    "    clst_id = None\n",
    "    for line in inFH:\n",
    "        line = line.rstrip()\n",
    "        if line.startswith('>'):\n",
    "            clst_id = line.lstrip('>Cluster ')\n",
    "            tbl[clst_id] = []\n",
    "        else:\n",
    "            tbl[clst_id].append(re.split('\\t|, ', line))\n",
    "            \n",
    "print \"Number of clusters loaded: {}\".format(len(tbl.keys()))            "
   ]
  },
  {
   "cell_type": "code",
   "execution_count": 13,
   "metadata": {
    "collapsed": false
   },
   "outputs": [
    {
     "name": "stdout",
     "output_type": "stream",
     "text": [
      "Number of clusters with OTUs and genomes: 162\n"
     ]
    }
   ],
   "source": [
    "# clusters that have '>OTU'  and '>rRNA' (OTU and genome)\n",
    "def shared_clust(x):\n",
    "    otus = any([y[2].startswith('>OTU') for y in x])\n",
    "    genomes = any([y[2].startswith('>rRNA') for y in x])    \n",
    "    return otus == True and genomes == True\n",
    "\n",
    "tbl_f = {x:y for x,y in tbl.items() if shared_clust(y)}\n",
    "print \"Number of clusters with OTUs and genomes: {}\".format(len(tbl_f.keys()))"
   ]
  },
  {
   "cell_type": "markdown",
   "metadata": {},
   "source": [
    "### Getting taxonomic classification of OTUs in target clusters"
   ]
  },
  {
   "cell_type": "code",
   "execution_count": 16,
   "metadata": {
    "collapsed": false
   },
   "outputs": [],
   "source": [
    "# loading tax file\n",
    "tax = {}\n",
    "with open(otuTaxFile, 'rb') as inFH:\n",
    "    for line in inFH:\n",
    "        line = line.rstrip()\n",
    "        if not line.startswith('OTU'):\n",
    "            continue\n",
    "        otu,cls,boot,_ = line.split('\\t')\n",
    "        cls = [x.lstrip(' __') for x in cls.split(';')]\n",
    "        for i in range(8):\n",
    "            try:\n",
    "                len(cls[i])\n",
    "            except IndexError:\n",
    "                cls.append('Unclassified')\n",
    "        tax[otu] = cls"
   ]
  },
  {
   "cell_type": "code",
   "execution_count": 17,
   "metadata": {
    "collapsed": true
   },
   "outputs": [],
   "source": [
    "def printDict(d, n=10):\n",
    "    cnt = 0\n",
    "    for x,y in d.items():\n",
    "        pprint(x)\n",
    "        print(y)\n",
    "        cnt += 1\n",
    "        if cnt >= n:\n",
    "            break"
   ]
  },
  {
   "cell_type": "code",
   "execution_count": 20,
   "metadata": {
    "collapsed": false
   },
   "outputs": [
    {
     "name": "stdout",
     "output_type": "stream",
     "text": [
      "'OTU.8469'\n",
      "['Bacteria', 'Proteobacteria', 'Deltaproteobacteria', 'Bdellovibrionales', 'Bacteriovoracaceae', 'Peredibacter', 'uncultured_bacterium', 'Unclassified']\n",
      "'OTU.11582'\n",
      "['Bacteria', 'Acidobacteria', 'DA023', 'uncultured_bacterium', 'Unclassified', 'Unclassified', 'Unclassified', 'Unclassified']\n",
      "'OTU.5687'\n",
      "['Bacteria', 'Actinobacteria', 'Thermoleophilia', 'Solirubrobacterales', '480-2', 'uncultured_bacterium', 'Unclassified', 'Unclassified']\n"
     ]
    }
   ],
   "source": [
    "printDict(tax, n=3)"
   ]
  },
  {
   "cell_type": "code",
   "execution_count": 21,
   "metadata": {
    "collapsed": true
   },
   "outputs": [],
   "source": [
    "# adding taxonomic classifications to OTUs in target clusters\n",
    "\n",
    "for clstr,x in tbl_f.items():\n",
    "    for y in x:\n",
    "        ID = y[2].lstrip('>')\n",
    "        ID = re.sub('\\.\\.\\..+','', ID)\n",
    "        #print 'ID: \"{}\"'.format(ID)\n",
    "        try:\n",
    "            y.append(tax[ID])\n",
    "        except KeyError:\n",
    "            y.append(None)                  "
   ]
  },
  {
   "cell_type": "code",
   "execution_count": 22,
   "metadata": {
    "collapsed": false,
    "scrolled": false
   },
   "outputs": [
    {
     "name": "stdout",
     "output_type": "stream",
     "text": [
      "Cluster: 210\n",
      "Bacteria:Proteobacteria:Gammaproteobacteria:Xanthomonadales:Xanthomonadaceae:Pseudoxanthomonas:Uncla\n",
      "rRNA_CP003093_Pseudoxanthomonas_spadix_BD_a59_3414517-3416053_DIR-... *\n",
      "Cluster: 668\n",
      "Bacteria:Firmicutes:Clostridia:Clostridiales:Clostridiaceae:Clostridium:uncultured_bacterium:Unclass\n",
      "rRNA_CP006903_Clostridium_botulinum_202F_2486924-2488425_DIR-... at +/99.67%\n",
      "rRNA_CP006903_Clostridium_botulinum_202F_3019041-3020542_DIR+... at +/99.73%\n",
      "rRNA_CP006903_Clostridium_botulinum_202F_2480928-2482428_DIR-... at +/98.60%\n",
      "rRNA_CP006903_Clostridium_botulinum_202F_2390736-2392237_DIR-... at +/99.87%\n",
      "rRNA_CP006903_Clostridium_botulinum_202F_2781623-2783125_DIR+... *\n",
      "rRNA_CP006903_Clostridium_botulinum_202F_2407620-2409121_DIR-... at +/99.73%\n",
      "rRNA_CP006903_Clostridium_botulinum_202F_2513527-2515028_DIR-... at +/99.87%\n",
      "rRNA_CP006903_Clostridium_botulinum_202F_2605272-2606773_DIR+... at +/99.73%\n",
      "rRNA_CP006903_Clostridium_botulinum_202F_2499962-2501463_DIR-... at +/99.47%\n",
      "rRNA_CP006903_Clostridium_botulinum_202F_2493749-2495250_DIR-... at +/99.60%\n",
      "Cluster: 664\n",
      "Bacteria:Actinobacteria:Micromonosporales:Micromonosporaceae:Unclassified:Unclassified:Unclassified:\n",
      "rRNA_CP002162_Micromonospora_aurantiaca_ATCC_27029_2546563-2548065_DIR+... at +/97.67%\n",
      "rRNA_CP002162_Micromonospora_aurantiaca_ATCC_27029_5533833-5535335_DIR-... at +/97.67%\n",
      "rRNA_CP002162_Micromonospora_aurantiaca_ATCC_27029_6680542-6682043_DIR-... at +/97.67%\n",
      "rRNA_CP000850_Salinispora_arenicola_CNS_205_222631-224134_DIR+... *\n",
      "rRNA_CP000850_Salinispora_arenicola_CNS_205_4414872-4416375_DIR-... at +/100.00%\n",
      "rRNA_CP000850_Salinispora_arenicola_CNS_205_2184758-2186261_DIR+... at +/100.00%\n",
      "rRNA_CP000667_Salinispora_tropica_CNB_440_202585-204088_DIR+... at +/99.53%\n",
      "rRNA_CP000667_Salinispora_tropica_CNB_440_4012956-4014459_DIR-... at +/99.53%\n",
      "rRNA_CP000667_Salinispora_tropica_CNB_440_2172807-2174310_DIR+... at +/99.53%\n",
      "Cluster: 218\n",
      "Bacteria:Actinobacteria:Thermoleophilia:Solirubrobacterales:Patulibacteraceae:Patulibacter:Unclassif\n",
      "rRNA_CP001854_Conexibacter_woesei_DSM_14684_3764582-3766117_DIR-... *\n",
      "Cluster: 132\n",
      "Bacteria:Proteobacteria:Deltaproteobacteria:Desulfuromonadales:BVA18:Unclassified:Unclassified:Uncla\n",
      "Bacteria:Proteobacteria:Deltaproteobacteria:Desulfuromonadales:AKYG597:uncultured_bacterium:Unclassi\n",
      "rRNA_CP000482_Pelobacter_propionicus_DSM_2379_1352684-1354229_DIR+... *\n",
      "rRNA_CP000482_Pelobacter_propionicus_DSM_2379_2886442-2887987_DIR-... at +/100.00%\n",
      "rRNA_CP000482_Pelobacter_propionicus_DSM_2379_3334716-3336261_DIR-... at +/100.00%\n",
      "rRNA_CP000482_Pelobacter_propionicus_DSM_2379_1803507-1805052_DIR+... at +/100.00%\n",
      "Cluster: 135\n",
      "Bacteria:Proteobacteria:Deltaproteobacteria:Myxococcales:Sorangiineae:Polyangiaceae:Sorangium:Unclas\n",
      "rRNA_AM746676_Sorangium_cellulosum__So_ce_56_3027066-3028610_DIR+... at +/100.00%\n",
      "rRNA_AM746676_Sorangium_cellulosum__So_ce_56_5523319-5524864_DIR-... *\n",
      "rRNA_AM746676_Sorangium_cellulosum__So_ce_56_10340262-10341806_DIR-... at +/100.00%\n",
      "rRNA_AM746676_Sorangium_cellulosum__So_ce_56_3486020-3487564_DIR+... at +/100.00%\n",
      "Cluster: 165\n",
      "Bacteria:Firmicutes:Bacilli:Bacillales:Bacillaceae:Bacillus:Bacillus_thuringiensis:Unclassified\n",
      "rRNA_CP002091_Bacillus_anthracis_str__H9401_267258-268797_DIR+... at +/99.55%\n",
      "rRNA_CP002091_Bacillus_anthracis_str__H9401_82431-83970_DIR+... at +/99.48%\n",
      "rRNA_CP002091_Bacillus_anthracis_str__H9401_280557-282096_DIR+... at +/99.48%\n",
      "rRNA_CP002091_Bacillus_anthracis_str__H9401_732591-734130_DIR+... at +/99.42%\n",
      "rRNA_CP002091_Bacillus_anthracis_str__H9401_29109-30648_DIR+... at +/99.48%\n",
      "rRNA_CP002091_Bacillus_anthracis_str__H9401_523452-524991_DIR+... at +/99.42%\n",
      "rRNA_CP002091_Bacillus_anthracis_str__H9401_145495-147034_DIR+... at +/99.29%\n",
      "rRNA_CP002091_Bacillus_anthracis_str__H9401_9315-10854_DIR+... at +/99.48%\n",
      "rRNA_CP002091_Bacillus_anthracis_str__H9401_4646563-4648102_DIR-... at +/99.42%\n",
      "rRNA_CP002091_Bacillus_anthracis_str__H9401_246679-248218_DIR+... at +/99.48%\n",
      "rRNA_CP007512_Bacillus_bombysepticus_str__Wang_147504-149043_DIR+... at +/99.55%\n",
      "rRNA_CP007512_Bacillus_bombysepticus_str__Wang_5227062-5228601_DIR+... at +/99.55%\n",
      "rRNA_CP007512_Bacillus_bombysepticus_str__Wang_117685-119224_DIR+... at +/99.55%\n",
      "rRNA_CP007512_Bacillus_bombysepticus_str__Wang_361949-363488_DIR+... at +/99.55%\n",
      "rRNA_CP007512_Bacillus_bombysepticus_str__Wang_5154435-5155974_DIR+... at +/99.55%\n",
      "rRNA_CP007512_Bacillus_bombysepticus_str__Wang_110415-111954_DIR+... at +/99.55%\n",
      "rRNA_CP007512_Bacillus_bombysepticus_str__Wang_5290280-5291819_DIR+... at +/99.55%\n",
      "rRNA_CP007512_Bacillus_bombysepticus_str__Wang_567604-569143_DIR+... at +/99.61%\n",
      "rRNA_CP007512_Bacillus_bombysepticus_str__Wang_128095-129634_DIR+... at +/99.55%\n",
      "rRNA_CP007512_Bacillus_bombysepticus_str__Wang_89841-91380_DIR+... at +/99.55%\n",
      "rRNA_CP007512_Bacillus_bombysepticus_str__Wang_5174003-5175542_DIR+... at +/99.55%\n",
      "rRNA_CP007512_Bacillus_bombysepticus_str__Wang_4561167-4562706_DIR-... at +/99.55%\n",
      "rRNA_CP007512_Bacillus_bombysepticus_str__Wang_140354-141893_DIR+... at +/99.61%\n",
      "rRNA_CP009590_Bacillus_cereus_G9241_2223860-2225399_DIR-... at +/99.48%\n",
      "rRNA_CP009590_Bacillus_cereus_G9241_1964190-1965729_DIR-... at +/99.42%\n",
      "rRNA_CP009590_Bacillus_cereus_G9241_2447547-2449086_DIR-... at +/99.48%\n",
      "rRNA_CP009590_Bacillus_cereus_G9241_2203335-2204874_DIR-... at +/99.55%\n",
      "rRNA_CP009590_Bacillus_cereus_G9241_2183603-2185142_DIR-... at +/99.55%\n",
      "rRNA_CP009590_Bacillus_cereus_G9241_2467321-2468860_DIR-... at +/99.48%\n",
      "rRNA_CP009590_Bacillus_cereus_G9241_1731484-1733023_DIR-... at +/99.48%\n",
      "rRNA_CP009590_Bacillus_cereus_G9241_2196146-2197685_DIR-... at +/99.55%\n",
      "rRNA_CP009590_Bacillus_cereus_G9241_2388333-2389872_DIR-... at +/99.35%\n",
      "rRNA_CP009590_Bacillus_cereus_G9241_3030700-3032239_DIR+... at +/99.48%\n",
      "rRNA_CP009590_Bacillus_cereus_G9241_2175037-2176576_DIR-... at +/99.48%\n",
      "rRNA_CP009590_Bacillus_cereus_G9241_2394046-2395585_DIR-... at +/99.22%\n",
      "rRNA_CP009590_Bacillus_cereus_G9241_2325259-2326798_DIR-... at +/99.55%\n",
      "rRNA_CP000764_Bacillus_cytotoxicus_NVH_391_98_256593-258131_DIR+... at +/97.86%\n",
      "rRNA_CP000764_Bacillus_cytotoxicus_NVH_391_98_515522-517060_DIR+... at +/97.60%\n",
      "rRNA_CP000764_Bacillus_cytotoxicus_NVH_391_98_82758-84296_DIR+... at +/97.79%\n",
      "rRNA_CP000764_Bacillus_cytotoxicus_NVH_391_98_277345-278883_DIR+... at +/97.73%\n",
      "rRNA_CP000764_Bacillus_cytotoxicus_NVH_391_98_295269-296807_DIR+... at +/97.86%\n",
      "rRNA_CP000764_Bacillus_cytotoxicus_NVH_391_98_29256-30794_DIR+... at +/97.73%\n",
      "rRNA_CP000764_Bacillus_cytotoxicus_NVH_391_98_691784-693322_DIR+... at +/97.79%\n",
      "rRNA_CP000764_Bacillus_cytotoxicus_NVH_391_98_285014-286552_DIR+... at +/97.79%\n",
      "rRNA_CP000764_Bacillus_cytotoxicus_NVH_391_98_88601-90139_DIR+... at +/97.79%\n",
      "rRNA_CP000764_Bacillus_cytotoxicus_NVH_391_98_9424-10962_DIR+... at +/97.79%\n",
      "rRNA_CP000764_Bacillus_cytotoxicus_NVH_391_98_302785-304323_DIR+... at +/97.79%\n",
      "rRNA_CP000764_Bacillus_cytotoxicus_NVH_391_98_3575252-3576790_DIR-... at +/97.53%\n",
      "rRNA_CP000764_Bacillus_cytotoxicus_NVH_391_98_151867-153405_DIR+... at +/97.79%\n",
      "rRNA_CP010089_Bacillus_thuringiensis_serovar_galleriae_strain_HD_29_247184-248722_DIR+... at +/99.55\n",
      "rRNA_CP010089_Bacillus_thuringiensis_serovar_galleriae_strain_HD_29_5643341-5644879_DIR+... at +/99.\n",
      "rRNA_CP010089_Bacillus_thuringiensis_serovar_galleriae_strain_HD_29_209026-210567_DIR+... *\n",
      "rRNA_CP010089_Bacillus_thuringiensis_serovar_galleriae_strain_HD_29_463436-464975_DIR+... at +/99.55\n",
      "rRNA_CP010089_Bacillus_thuringiensis_serovar_galleriae_strain_HD_29_940320-941858_DIR+... at +/99.48\n",
      "rRNA_CP010089_Bacillus_thuringiensis_serovar_galleriae_strain_HD_29_148976-150515_DIR+... at +/99.61\n",
      "rRNA_CP010089_Bacillus_thuringiensis_serovar_galleriae_strain_HD_29_5696624-5698163_DIR+... at +/99.\n",
      "rRNA_CP010089_Bacillus_thuringiensis_serovar_galleriae_strain_HD_29_4916207-4917746_DIR-... at +/99.\n",
      "rRNA_CP010089_Bacillus_thuringiensis_serovar_galleriae_strain_HD_29_670414-671953_DIR+... at +/99.55\n",
      "rRNA_CP010089_Bacillus_thuringiensis_serovar_galleriae_strain_HD_29_216297-217836_DIR+... at +/99.61\n",
      "rRNA_CP010089_Bacillus_thuringiensis_serovar_galleriae_strain_HD_29_58653-60192_DIR+... at +/99.48%\n",
      "rRNA_CP010089_Bacillus_thuringiensis_serovar_galleriae_strain_HD_29_5623601-5625140_DIR+... at +/99.\n",
      "rRNA_CP010089_Bacillus_thuringiensis_serovar_galleriae_strain_HD_29_240033-241572_DIR+... at +/99.48\n",
      "rRNA_CP010089_Bacillus_thuringiensis_serovar_galleriae_strain_HD_29_226717-228256_DIR+... at +/99.61\n",
      "rRNA_CP006863_Bacillus_toyonensis_BCT_7112_2882139-2883678_DIR+... at +/99.35%\n",
      "rRNA_CP006863_Bacillus_toyonensis_BCT_7112_3351651-3353190_DIR+... at +/99.35%\n",
      "rRNA_CP006863_Bacillus_toyonensis_BCT_7112_2704279-2705817_DIR+... at +/99.35%\n",
      "rRNA_CP006863_Bacillus_toyonensis_BCT_7112_2895490-2897029_DIR+... at +/99.35%\n",
      "rRNA_CP006863_Bacillus_toyonensis_BCT_7112_2913227-2914766_DIR+... at +/99.35%\n",
      "rRNA_CP006863_Bacillus_toyonensis_BCT_7112_2650835-2652374_DIR+... at +/99.35%\n",
      "rRNA_CP006863_Bacillus_toyonensis_BCT_7112_2068715-2070254_DIR-... at +/99.29%\n",
      "rRNA_CP006863_Bacillus_toyonensis_BCT_7112_2902704-2904243_DIR+... at +/99.35%\n",
      "rRNA_CP006863_Bacillus_toyonensis_BCT_7112_2767375-2768914_DIR+... at +/99.29%\n",
      "rRNA_CP006863_Bacillus_toyonensis_BCT_7112_2631028-2632567_DIR+... at +/99.35%\n",
      "rRNA_CP006863_Bacillus_toyonensis_BCT_7112_3137586-3139125_DIR+... at +/99.29%\n",
      "rRNA_CP006863_Bacillus_toyonensis_BCT_7112_2859793-2861332_DIR+... at +/99.35%\n",
      "rRNA_CP000903_Bacillus_weihenstephanensis_KBAB4_247808-249347_DIR+... at +/99.16%\n",
      "rRNA_CP000903_Bacillus_weihenstephanensis_KBAB4_307053-308592_DIR+... at +/99.16%\n",
      "rRNA_CP000903_Bacillus_weihenstephanensis_KBAB4_82288-83827_DIR+... at +/99.16%\n",
      "rRNA_CP000903_Bacillus_weihenstephanensis_KBAB4_268373-269912_DIR+... at +/99.16%\n",
      "rRNA_CP000903_Bacillus_weihenstephanensis_KBAB4_288925-290464_DIR+... at +/99.09%\n",
      "rRNA_CP000903_Bacillus_weihenstephanensis_KBAB4_28861-30400_DIR+... at +/99.16%\n",
      "rRNA_CP000903_Bacillus_weihenstephanensis_KBAB4_515954-517493_DIR+... at +/99.16%\n",
      "rRNA_CP000903_Bacillus_weihenstephanensis_KBAB4_4698646-4700185_DIR-... at +/99.16%\n",
      "rRNA_CP000903_Bacillus_weihens**OUTPUT MUTED**"
     ]
    }
   ],
   "source": [
    "# gut check: manual check of OTU classifications & genome names \n",
    "\n",
    "for clstr,x in tbl_f.items():\n",
    "    print 'Cluster: {}'.format(clstr)\n",
    "    for y in x:\n",
    "        ID = y[2].lstrip('>')\n",
    "        if ID.startswith('OTU'):\n",
    "            # classifications\n",
    "            try:\n",
    "                print ':'.join(y[3])[:100]\n",
    "            except IndexError:\n",
    "                print ':'.join(y[3])\n",
    "        elif ID.startswith('rRNA'):\n",
    "            # genome names\n",
    "            try:\n",
    "                print ID[:100]\n",
    "            except IndexError:\n",
    "                print ID"
   ]
  },
  {
   "cell_type": "markdown",
   "metadata": {},
   "source": [
    "__Notes:__\n",
    "\n",
    "* At least most of the taxonomic classifications make sense for the genomes in each cluster"
   ]
  },
  {
   "cell_type": "markdown",
   "metadata": {},
   "source": [
    "### Writing out a list of target genomes and their corresponding OTUs\n",
    "\n",
    "* If an OTU has multiple associations with a genome, selecting 1 a random\n",
    "  * ie., 1-to-1 association"
   ]
  },
  {
   "cell_type": "code",
   "execution_count": 23,
   "metadata": {
    "collapsed": true
   },
   "outputs": [],
   "source": [
    "def write_targets(tbl, fh):\n",
    "    fh.write('\\t'.join(['cluster', 'ssu_ID', 'target_genome', 'OTU', 'OTU_taxonomy']) + '\\n')\n",
    "    for clstr,rows in tbl.items():\n",
    "        # parsing cluster; getting all OTUs and genome_IDs\n",
    "        targets = []\n",
    "        otus = []\n",
    "        for row in rows:\n",
    "            ID = row[2].lstrip('>')\n",
    "            ID = re.sub('\\.\\.\\..+','', ID)        \n",
    "            if ID.startswith('OTU'):\n",
    "                otu = [ID, ':'.join(row[3])]\n",
    "                otus.append(otu)\n",
    "            elif ID.startswith('rRNA'):\n",
    "                targets.append(ID)\n",
    "                        \n",
    "        # writing out list\n",
    "        ## one 1 randomly selected genome is associated with OTU\n",
    "        random.shuffle(targets)\n",
    "        for otu, target in zip(otus, itertools.cycle(targets)):\n",
    "            genome = target.lstrip('rRNA_')\n",
    "            genome = re.sub('_\\d+-\\d+_DIR.+', '', genome)\n",
    "            fh.write('\\t'.join([clstr, target, genome] + otu) + '\\n')        "
   ]
  },
  {
   "cell_type": "code",
   "execution_count": 24,
   "metadata": {
    "collapsed": true
   },
   "outputs": [],
   "source": [
    "outFile = os.path.join(workDir, 'target_taxa.txt')\n",
    "with open(outFile, 'wb') as oFH:\n",
    "    write_targets(tbl_f, oFH)"
   ]
  },
  {
   "cell_type": "markdown",
   "metadata": {},
   "source": [
    "#### Gut check on written file"
   ]
  },
  {
   "cell_type": "code",
   "execution_count": 25,
   "metadata": {
    "collapsed": false
   },
   "outputs": [
    {
     "name": "stdout",
     "output_type": "stream",
     "text": [
      "Number of rows in table: 199\n"
     ]
    }
   ],
   "source": [
    "!printf \"Number of rows in table: \"\n",
    "!cd $workDir; \\\n",
    "    tail -n +2 target_taxa.txt | wc -l"
   ]
  },
  {
   "cell_type": "code",
   "execution_count": 26,
   "metadata": {
    "collapsed": false
   },
   "outputs": [
    {
     "name": "stdout",
     "output_type": "stream",
     "text": [
      "Number of clusters: 162\n"
     ]
    }
   ],
   "source": [
    "!printf \"Number of clusters: \"\n",
    "!cd $workDir; \\\n",
    "    tail -n +2 target_taxa.txt | cut -f 1 | sort -u | wc -l"
   ]
  },
  {
   "cell_type": "code",
   "execution_count": 27,
   "metadata": {
    "collapsed": false
   },
   "outputs": [
    {
     "name": "stdout",
     "output_type": "stream",
     "text": [
      "Number of target genomes: 169\n"
     ]
    }
   ],
   "source": [
    "!printf \"Number of target genomes: \"\n",
    "!cd $workDir; \\\n",
    "    tail -n +2 target_taxa.txt | cut -f 3 | sort -u | wc -l"
   ]
  },
  {
   "cell_type": "code",
   "execution_count": 28,
   "metadata": {
    "collapsed": false
   },
   "outputs": [
    {
     "name": "stdout",
     "output_type": "stream",
     "text": [
      "Number of OTUs: 199\n"
     ]
    }
   ],
   "source": [
    "!printf \"Number of OTUs: \"\n",
    "!cd $workDir; \\\n",
    "    tail -n +2 target_taxa.txt | cut -f 4 | sort -u | wc -l"
   ]
  },
  {
   "cell_type": "code",
   "execution_count": null,
   "metadata": {
    "collapsed": true
   },
   "outputs": [],
   "source": []
  }
 ],
 "metadata": {
  "hide_input": true,
  "kernelspec": {
   "display_name": "Python 2",
   "language": "python",
   "name": "python2"
  },
  "language_info": {
   "codemirror_mode": {
    "name": "ipython",
    "version": 2
   },
   "file_extension": ".py",
   "mimetype": "text/x-python",
   "name": "python",
   "nbconvert_exporter": "python",
   "pygments_lexer": "ipython2",
   "version": "2.7.10"
  }
 },
 "nbformat": 4,
 "nbformat_minor": 0
}
