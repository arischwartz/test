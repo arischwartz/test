{
 "cells": [
  {
   "cell_type": "markdown",
   "metadata": {
    "code_folding": []
   },
   "source": [
    "# Goal\n",
    "\n",
    "* Simulating fullCyc Day1 control gradients\n",
    "  * Not simulating incorporation (all 0% isotope incorp.)\n",
    "    * Don't know how much true incorporatation for emperical data\n",
    "* Richness = genome reference pool size (n=1147)\n",
    "* Simulating 10 replicate gradients to assess simulation stochasticity."
   ]
  },
  {
   "cell_type": "markdown",
   "metadata": {},
   "source": [
    "## Init"
   ]
  },
  {
   "cell_type": "code",
   "execution_count": 1,
   "metadata": {
    "collapsed": false
   },
   "outputs": [],
   "source": [
    "import os\n",
    "import glob\n",
    "import re\n",
    "import nestly"
   ]
  },
  {
   "cell_type": "code",
   "execution_count": 2,
   "metadata": {
    "collapsed": false
   },
   "outputs": [],
   "source": [
    "%load_ext rpy2.ipython\n",
    "%load_ext pushnote"
   ]
  },
  {
   "cell_type": "code",
   "execution_count": 3,
   "metadata": {
    "collapsed": false
   },
   "outputs": [
    {
     "name": "stderr",
     "output_type": "stream",
     "text": [
      "/opt/anaconda/lib/python2.7/site-packages/rpy2/robjects/functions.py:106: UserWarning: \n",
      "Attaching package: ‘dplyr’\n",
      "\n",
      "\n",
      "  res = super(Function, self).__call__(*new_args, **new_kwargs)\n",
      "/opt/anaconda/lib/python2.7/site-packages/rpy2/robjects/functions.py:106: UserWarning: The following objects are masked from ‘package:stats’:\n",
      "\n",
      "    filter, lag\n",
      "\n",
      "\n",
      "  res = super(Function, self).__call__(*new_args, **new_kwargs)\n",
      "/opt/anaconda/lib/python2.7/site-packages/rpy2/robjects/functions.py:106: UserWarning: The following objects are masked from ‘package:base’:\n",
      "\n",
      "    intersect, setdiff, setequal, union\n",
      "\n",
      "\n",
      "  res = super(Function, self).__call__(*new_args, **new_kwargs)\n"
     ]
    }
   ],
   "source": [
    "%%R\n",
    "library(ggplot2)\n",
    "library(dplyr)\n",
    "library(tidyr)\n",
    "library(gridExtra)\n",
    "library(phyloseq)\n",
    "\n",
    "## BD for G+C of 0 or 100\n",
    "BD.GCp0 = 0 * 0.098 + 1.66\n",
    "BD.GCp100 = 1 * 0.098 + 1.66"
   ]
  },
  {
   "cell_type": "markdown",
   "metadata": {},
   "source": [
    "# Nestly\n",
    "\n",
    "* assuming fragments already simulated"
   ]
  },
  {
   "cell_type": "code",
   "execution_count": 10,
   "metadata": {
    "collapsed": false
   },
   "outputs": [],
   "source": [
    "workDir = '/home/nick/notebook/SIPSim/dev/fullCyc/n1147_frag_norm_9_2.5_n5/'\n",
    "buildDir = os.path.join(workDir, 'Day1_rep10_justOverlap')\n",
    "R_dir = '/home/nick/notebook/SIPSim/lib/R/'\n",
    "\n",
    "fragFile= '/home/nick/notebook/SIPSim/dev/bac_genome1147/validation/ampFrags.pkl'\n",
    "targetFile = '/home/nick/notebook/SIPSim/dev/fullCyc/CD-HIT/target_taxa.txt'\n",
    "\n",
    "physeqDir = '/var/seq_data/fullCyc/MiSeq_16SrRNA/515f-806r/lib1-7/phyloseq/'\n",
    "physeq_bulkCore = 'bulk-core'\n",
    "physeq_SIP_core = 'SIP-core_unk'\n",
    "\n",
    "nreps = 10\n",
    "prefrac_comm_abundance = '1e9'\n",
    "\n",
    "seq_per_fraction = ['lognormal', 9.432, 0.5, 10000, 30000] # dist, mean, scale, min, max\n",
    "bulk_days = [1]\n",
    "nprocs = 20"
   ]
  },
  {
   "cell_type": "code",
   "execution_count": 11,
   "metadata": {
    "collapsed": false
   },
   "outputs": [],
   "source": [
    "# building tree structure\n",
    "nest = nestly.Nest()\n",
    "\n",
    "    ## varying params\n",
    "nest.add('rep', [x + 1 for x in xrange(nreps)])\n",
    "\n",
    "## set params\n",
    "nest.add('bulk_day', bulk_days, create_dir=False)\n",
    "nest.add('abs', [prefrac_comm_abundance], create_dir=False)\n",
    "nest.add('percIncorp', [0], create_dir=False)\n",
    "nest.add('percTaxa', [0], create_dir=False)\n",
    "nest.add('np', [nprocs], create_dir=False)\n",
    "nest.add('subsample_dist', [seq_per_fraction[0]], create_dir=False)\n",
    "nest.add('subsample_mean', [seq_per_fraction[1]], create_dir=False)\n",
    "nest.add('subsample_scale', [seq_per_fraction[2]], create_dir=False)\n",
    "nest.add('subsample_min', [seq_per_fraction[3]], create_dir=False)\n",
    "nest.add('subsample_max', [seq_per_fraction[4]], create_dir=False)\n",
    "nest.add('cmd', ['\"print unless /NA$/\"'], create_dir=False)\n",
    "\n",
    "### input/output files\n",
    "nest.add('buildDir', [buildDir], create_dir=False)\n",
    "nest.add('R_dir', [R_dir], create_dir=False)\n",
    "nest.add('fragFile', [fragFile], create_dir=False)\n",
    "nest.add('targetFile', [targetFile], create_dir=False)\n",
    "nest.add('physeqDir', [physeqDir], create_dir=False)\n",
    "nest.add('physeq_bulkCore', [physeq_bulkCore], create_dir=False)\n",
    "\n",
    "\n",
    "# building directory tree\n",
    "nest.build(buildDir)\n",
    "\n",
    "# bash file to run\n",
    "bashFile = os.path.join(buildDir, 'SIPSimRun.sh')"
   ]
  },
  {
   "cell_type": "code",
   "execution_count": 12,
   "metadata": {
    "collapsed": false
   },
   "outputs": [
    {
     "name": "stdout",
     "output_type": "stream",
     "text": [
      "Overwriting /home/nick/notebook/SIPSim/dev/fullCyc/n1147_frag_norm_9_2.5_n5/Day1_rep10_justOverlap/SIPSimRun.sh\n"
     ]
    }
   ],
   "source": [
    "%%writefile $bashFile\n",
    "#!/bin/bash\n",
    "\n",
    "export PATH={R_dir}:$PATH\n",
    "\n",
    "#-- making DNA pool similar to gradient of interest\n",
    "echo '# Creating comm file from phyloseq'\n",
    "phyloseq2comm.r {physeqDir}{physeq_bulkCore} -s 12C-Con -d {bulk_day} > {physeq_bulkCore}_comm.txt\n",
    "printf 'Number of lines: '; wc -l {physeq_bulkCore}_comm.txt\n",
    "\n",
    "echo '## Adding target taxa to comm file'\n",
    "comm_add_target.r {physeq_bulkCore}_comm.txt {targetFile} > {physeq_bulkCore}_comm_target.txt\n",
    "printf 'Number of lines: '; wc -l {physeq_bulkCore}_comm_target.txt\n",
    "\n",
    "echo '## Selecting just target taxa'\n",
    "perl -ne {cmd} {physeq_bulkCore}_comm_target.txt > tmp.txt\n",
    "rm -f {physeq_bulkCore}_comm_target.txt\n",
    "mv tmp.txt {physeq_bulkCore}_comm_target.txt\n",
    "\n",
    "echo '## parsing out genome fragments to make simulated DNA pool resembling the gradient of interest'\n",
    "## all OTUs without an associated reference genome will be assigned a random reference (of the reference genome pool)\n",
    "### this is done through --NA-random\n",
    "SIPSim fragment_KDE_parse {fragFile} {physeq_bulkCore}_comm_target.txt \\\n",
    "    --rename taxon_name --NA-random > fragsParsed.pkl\n",
    "\n",
    "\n",
    "echo '#-- SIPSim pipeline --#'\n",
    "echo '# converting fragments to KDE'\n",
    "SIPSim fragment_KDE \\\n",
    "    fragsParsed.pkl \\\n",
    "    > fragsParsed_KDE.pkl\n",
    "    \n",
    "echo '# adding diffusion'\n",
    "SIPSim diffusion \\\n",
    "    fragsParsed_KDE.pkl \\\n",
    "    --np {np} \\\n",
    "    > fragsParsed_KDE_dif.pkl    \n",
    "\n",
    "echo '# adding DBL contamination'\n",
    "SIPSim DBL \\\n",
    "    fragsParsed_KDE_dif.pkl \\\n",
    "    --np {np} \\\n",
    "    > fragsParsed_KDE_dif_DBL.pkl      \n",
    "    \n",
    "echo '# making incorp file'\n",
    "SIPSim incorpConfigExample \\\n",
    "  --percTaxa {percTaxa} \\\n",
    "  --percIncorpUnif {percIncorp} \\\n",
    "  > {percTaxa}_{percIncorp}.config\n",
    "\n",
    "echo '# adding isotope incorporation to BD distribution'\n",
    "SIPSim isotope_incorp \\\n",
    "    fragsParsed_KDE_dif_DBL.pkl \\\n",
    "    {percTaxa}_{percIncorp}.config \\\n",
    "    --comm {physeq_bulkCore}_comm_target.txt \\\n",
    "    --np {np} \\\n",
    "    > fragsParsed_KDE_dif_DBL_inc.pkl\n",
    "    \n",
    "#echo '# calculating BD shift from isotope incorporation'\n",
    "#SIPSim BD_shift \\\n",
    "#    fragsParsed_KDE_dif_DBL.pkl \\\n",
    "#    fragsParsed_KDE_dif_DBL_inc.pkl \\\n",
    "#    --np {np} \\\n",
    "#    > fragsParsed_KDE_dif_DBL_inc_BD-shift.txt\n",
    "\n",
    "echo '# simulating gradient fractions'\n",
    "SIPSim gradient_fractions \\\n",
    "    {physeq_bulkCore}_comm_target.txt \\\n",
    "    > fracs.txt \n",
    "\n",
    "echo '# simulating an OTU table'\n",
    "SIPSim OTU_table \\\n",
    "    fragsParsed_KDE_dif_DBL_inc.pkl \\\n",
    "    {physeq_bulkCore}_comm_target.txt \\\n",
    "    fracs.txt \\\n",
    "    --abs {abs} \\\n",
    "    --np {np} \\\n",
    "    > OTU_abs{abs}.txt\n",
    "    \n",
    "echo '# simulating PCR'\n",
    "SIPSim OTU_PCR \\\n",
    "    OTU_abs{abs}.txt \\\n",
    "    > OTU_abs{abs}_PCR.txt    \n",
    "    \n",
    "echo '# subsampling from the OTU table (simulating sequencing of the DNA pool)'\n",
    "SIPSim OTU_subsample \\\n",
    "    --dist {subsample_dist} \\\n",
    "    --dist_params mean:{subsample_mean},sigma:{subsample_scale} \\\n",
    "    --min_size {subsample_min} \\\n",
    "    --max_size {subsample_max} \\\n",
    "    OTU_abs{abs}_PCR.txt \\\n",
    "    > OTU_abs{abs}_PCR_sub.txt\n",
    "        \n",
    "echo '# making a wide-formatted table'\n",
    "SIPSim OTU_wideLong -w \\\n",
    "    OTU_abs{abs}_PCR_sub.txt \\\n",
    "    > OTU_abs{abs}_PCR_sub_w.txt\n",
    "    \n",
    "echo '# making metadata (phyloseq: sample_data)'\n",
    "SIPSim OTU_sampleData \\\n",
    "    OTU_abs{abs}_PCR_sub.txt \\\n",
    "    > OTU_abs{abs}_PCR_sub_meta.txt"
   ]
  },
  {
   "cell_type": "code",
   "execution_count": 13,
   "metadata": {
    "collapsed": false
   },
   "outputs": [
    {
     "name": "stdout",
     "output_type": "stream",
     "text": [
      "2016-02-05 07:34:58,670 * INFO * Template: ./SIPSimRun.sh\n",
      "2016-02-05 07:34:58,672 * INFO * [205288] Started ./SIPSimRun.sh in Day1_rep10_justOverlap/7\n",
      "2016-02-05 07:35:17,829 * WARNING * [205288] Day1_rep10_justOverlap/7 Finished with non-zero exit status 1\n",
      "  File \"/opt/anaconda/lib/python2.7/site-packages/pandas/io/parsers.py\", line 250, in _read\n",
      "    parser = TextFileReader(filepath_or_buffer, **kwds)\n",
      "  File \"/opt/anaconda/lib/python2.7/site-packages/pandas/io/parsers.py\", line 566, in __init__\n",
      "    self._make_engine(self.engine)\n",
      "  File \"/opt/anaconda/lib/python2.7/site-packages/pandas/io/parsers.py\", line 705, in _make_engine\n",
      "    self._engine = CParserWrapper(self.f, **self.options)\n",
      "  File \"/opt/anaconda/lib/python2.7/site-packages/pandas/io/parsers.py\", line 1072, in __init__\n",
      "    self._reader = _parser.TextReader(src, **kwds)\n",
      "  File \"pandas/parser.pyx\", line 512, in pandas.parser.TextReader.__cinit__ (pandas/parser.c:4814)\n",
      "ValueError: No columns to parse from file\n",
      "\n",
      "2016-02-05 07:35:17,833 * INFO * [205566] Started ./SIPSimRun.sh in Day1_rep10_justOverlap/9\n",
      "2016-02-05 07:35:36,610 * WARNING * [205566] Day1_rep10_justOverlap/9 Finished with non-zero exit status 1\n",
      "  File \"/opt/anaconda/lib/python2.7/site-packages/pandas/io/parsers.py\", line 250, in _read\n",
      "    parser = TextFileReader(filepath_or_buffer, **kwds)\n",
      "  File \"/opt/anaconda/lib/python2.7/site-packages/pandas/io/parsers.py\", line 566, in __init__\n",
      "    self._make_engine(self.engine)\n",
      "  File \"/opt/anaconda/lib/python2.7/site-packages/pandas/io/parsers.py\", line 705, in _make_engine\n",
      "    self._engine = CParserWrapper(self.f, **self.options)\n",
      "  File \"/opt/anaconda/lib/python2.7/site-packages/pandas/io/parsers.py\", line 1072, in __init__\n",
      "    self._reader = _parser.TextReader(src, **kwds)\n",
      "  File \"pandas/parser.pyx\", line 512, in pandas.parser.TextReader.__cinit__ (pandas/parser.c:4814)\n",
      "ValueError: No columns to parse from file\n",
      "\n",
      "2016-02-05 07:35:36,614 * INFO * [205820] Started ./SIPSimRun.sh in Day1_rep10_justOverlap/8\n",
      "2016-02-05 07:35:55,032 * WARNING * [205820] Day1_rep10_justOverlap/8 Finished with non-zero exit status 1\n",
      "  File \"/opt/anaconda/lib/python2.7/site-packages/pandas/io/parsers.py\", line 250, in _read\n",
      "    parser = TextFileReader(filepath_or_buffer, **kwds)\n",
      "  File \"/opt/anaconda/lib/python2.7/site-packages/pandas/io/parsers.py\", line 566, in __init__\n",
      "    self._make_engine(self.engine)\n",
      "  File \"/opt/anaconda/lib/python2.7/site-packages/pandas/io/parsers.py\", line 705, in _make_engine\n",
      "    self._engine = CParserWrapper(self.f, **self.options)\n",
      "  File \"/opt/anaconda/lib/python2.7/site-packages/pandas/io/parsers.py\", line 1072, in __init__\n",
      "    self._reader = _parser.TextReader(src, **kwds)\n",
      "  File \"pandas/parser.pyx\", line 512, in pandas.parser.TextReader.__cinit__ (pandas/parser.c:4814)\n",
      "ValueError: No columns to parse from file\n",
      "\n",
      "2016-02-05 07:35:55,035 * INFO * [206035] Started ./SIPSimRun.sh in Day1_rep10_justOverlap/3\n",
      "2016-02-05 07:36:13,883 * WARNING * [206035] Day1_rep10_justOverlap/3 Finished with non-zero exit status 1\n",
      "  File \"/opt/anaconda/lib/python2.7/site-packages/pandas/io/parsers.py\", line 250, in _read\n",
      "    parser = TextFileReader(filepath_or_buffer, **kwds)\n",
      "  File \"/opt/anaconda/lib/python2.7/site-packages/pandas/io/parsers.py\", line 566, in __init__\n",
      "    self._make_engine(self.engine)\n",
      "  File \"/opt/anaconda/lib/python2.7/site-packages/pandas/io/parsers.py\", line 705, in _make_engine\n",
      "    self._engine = CParserWrapper(self.f, **self.options)\n",
      "  File \"/opt/anaconda/lib/python2.7/site-packages/pandas/io/parsers.py\", line 1072, in __init__\n",
      "    self._reader = _parser.TextReader(src, **kwds)\n",
      "  File \"pandas/parser.pyx\", line 512, in pandas.parser.TextReader.__cinit__ (pandas/parser.c:4814)\n",
      "ValueError: No columns to parse from file\n",
      "\n",
      "2016-02-05 07:36:13,886 * INFO * [206249] Started ./SIPSimRun.sh in Day1_rep10_justOverlap/10\n",
      "2016-02-05 07:36:32,645 * WARNING * [206249] Day1_rep10_justOverlap/10 Finished with non-zero exit status 1\n",
      "  File \"/opt/anaconda/lib/python2.7/site-packages/pandas/io/parsers.py\", line 250, in _read\n",
      "    parser = TextFileReader(filepath_or_buffer, **kwds)\n",
      "  File \"/opt/anaconda/lib/python2.7/site-packages/pandas/io/parsers.py\", line 566, in __init__\n",
      "    self._make_engine(self.engine)\n",
      "  File \"/opt/anaconda/lib/python2.7/site-packages/pandas/io/parsers.py\", line 705, in _make_engine\n",
      "    self._engine = CParserWrapper(self.f, **self.options)\n",
      "  File \"/opt/anaconda/lib/python2.7/site-packages/pandas/io/parsers.py\", line 1072, in __init__\n",
      "    self._reader = _parser.TextReader(src, **kwds)\n",
      "  File \"pandas/parser.pyx\", line 512, in pandas.parser.TextReader.__cinit__ (pandas/parser.c:4814)\n",
      "ValueError: No columns to parse from file\n",
      "\n",
      "2016-02-05 07:36:32,649 * INFO * [206475] Started ./SIPSimRun.sh in Day1_rep10_justOverlap/2\n",
      "2016-02-05 07:36:51,201 * WARNING * [206475] Day1_rep10_justOverlap/2 Finished with non-zero exit status 1\n",
      "  File \"/opt/anaconda/lib/python2.7/site-packages/pandas/io/parsers.py\", line 250, in _read\n",
      "    parser = TextFileReader(filepath_or_buffer, **kwds)\n",
      "  File \"/opt/anaconda/lib/python2.7/site-packages/pandas/io/parsers.py\", line 566, in __init__\n",
      "    self._make_engine(self.engine)\n",
      "  File \"/opt/anaconda/lib/python2.7/site-packages/pandas/io/parsers.py\", line 705, in _make_engine\n",
      "    self._engine = CParserWrapper(self.f, **self.options)\n",
      "  File \"/opt/anaconda/lib/python2.7/site-packages/pandas/io/parsers.py\", line 1072, in __init__\n",
      "    self._reader = _parser.TextReader(src, **kwds)\n",
      "  File \"pandas/parser.pyx\", line 512, in pandas.parser.TextReader.__cinit__ (pandas/parser.c:4814)\n",
      "ValueError: No columns to parse from file\n",
      "\n",
      "2016-02-05 07:36:51,205 * INFO * [206721] Started ./SIPSimRun.sh in Day1_rep10_justOverlap/1\n",
      "2016-02-05 07:37:10,452 * WARNING * [206721] Day1_rep10_justOverlap/1 Finished with non-zero exit status 1\n",
      "  File \"/opt/anaconda/lib/python2.7/site-packages/pandas/io/parsers.py\", line 250, in _read\n",
      "    parser = TextFileReader(filepath_or_buffer, **kwds)\n",
      "  File \"/opt/anaconda/lib/python2.7/site-packages/pandas/io/parsers.py\", line 566, in __init__\n",
      "    self._make_engine(self.engine)\n",
      "  File \"/opt/anaconda/lib/python2.7/site-packages/pandas/io/parsers.py\", line 705, in _make_engine\n",
      "    self._engine = CParserWrapper(self.f, **self.options)\n",
      "  File \"/opt/anaconda/lib/python2.7/site-packages/pandas/io/parsers.py\", line 1072, in __init__\n",
      "    self._reader = _parser.TextReader(src, **kwds)\n",
      "  File \"pandas/parser.pyx\", line 512, in pandas.parser.TextReader.__cinit__ (pandas/parser.c:4814)\n",
      "ValueError: No columns to parse from file\n",
      "\n",
      "2016-02-05 07:37:10,456 * INFO * [206952] Started ./SIPSimRun.sh in Day1_rep10_justOverlap/4\n",
      "2016-02-05 07:37:29,251 * WARNING * [206952] Day1_rep10_justOverlap/4 Finished with non-zero exit status 1\n",
      "  File \"/opt/anaconda/lib/python2.7/site-packages/pandas/io/parsers.py\", line 250, in _read\n",
      "    parser = TextFileReader(filepath_or_buffer, **kwds)\n",
      "  File \"/opt/anaconda/lib/python2.7/site-packages/pandas/io/parsers.py\", line 566, in __init__\n",
      "    self._make_engine(self.engine)\n",
      "  File \"/opt/anaconda/lib/python2.7/site-packages/pandas/io/parsers.py\", line 705, in _make_engine\n",
      "    self._engine = CParserWrapper(self.f, **self.options)\n",
      "  File \"/opt/anaconda/lib/python2.7/site-packages/pandas/io/parsers.py\", line 1072, in __init__\n",
      "    self._reader = _parser.TextReader(src, **kwds)\n",
      "  File \"pandas/parser.pyx\", line 512, in pandas.parser.TextReader.__cinit__ (pandas/parser.c:4814)\n",
      "ValueError: No columns to parse from file\n",
      "\n",
      "2016-02-05 07:37:29,254 * INFO * [207174] Started ./SIPSimRun.sh in Day1_rep10_justOverlap/5\n",
      "2016-02-05 07:37:47,864 * WARNING * [207174] Day1_rep10_justOverlap/5 Finished with non-zero exit status 1\n",
      "  File \"/opt/anaconda/lib/python2.7/site-packages/pandas/io/parsers.py\", line 250, in _read\n",
      "    parser = TextFileReader(filepath_or_buffer, **kwds)\n",
      "  File \"/opt/anaconda/lib/python2.7/site-packages/pandas/io/parsers.py\", line 566, in __init__\n",
      "    self._make_engine(self.engine)\n",
      "  File \"/opt/anaconda/lib/python2.7/site-packages/pandas/io/parsers.py\", line 705, in _make_engine\n",
      "    self._engine = CParserWrapper(self.f, **self.options)\n",
      "  File \"/opt/anaconda/lib/python2.7/site-packages/pandas/io/parsers.py\", line 1072, in __init__\n",
      "    self._reader = _parser.TextReader(src, **kwds)\n",
      "  File \"pandas/parser.pyx\", line 512, in pandas.parser.TextReader.__cinit__ (pandas/parser.c:4814)\n",
      "ValueError: No columns to parse from file\n",
      "\n",
      "2016-02-05 07:37:47,867 * INFO * [207397] Started ./SIPSimRun.sh in Day1_rep10_justOverlap/6\n",
      "2016-02-05 07:38:06,703 * WARNING * [207397] Day1_rep10_justOverlap/6 Finished with non-zero exit status 1\n",
      "  File \"/opt/anaconda/lib/python2.7/site-packages/pandas/io/parsers.py\", line 250, in _read\n",
      "    parser = TextFileReader(filepath_or_buffer, **kwds)\n",
      "  File \"/opt/anaconda/lib/python2.7/site-packages/pandas/io/parsers.py\", line 566, in __init__\n",
      "    self._make_engine(self.engine)\n",
      "  File \"/opt/anaconda/lib/python2.7/site-packages/pandas/io/parsers.py\", line 705, in _make_engine\n",
      "    self._engine = CParserWrapper(self.f, **self.options)\n",
      "  File \"/opt/anaconda/lib/python2.7/site-packages/pandas/io/parsers.py\", line 1072, in __init__\n",
      "    self._reader = _parser.TextReader(src, **kwds)\n",
      "  File \"pandas/parser.pyx\", line 512, in pandas.parser.TextReader.__cinit__ (pandas/parser.c:4814)\n",
      "ValueError: No columns to parse from file\n",
      "\n"
     ]
    }
   ],
   "source": [
    "!chmod 777 $bashFile\n",
    "!cd $workDir; \\\n",
    "    nestrun  --template-file $bashFile -d Day1_rep10_justOverlap --log-file log.txt -j 1"
   ]
  },
  {
   "cell_type": "markdown",
   "metadata": {},
   "source": [
    "# BD min/max\n",
    "\n",
    "* what is the min/max BD that we care about?"
   ]
  },
  {
   "cell_type": "code",
   "execution_count": null,
   "metadata": {
    "collapsed": false
   },
   "outputs": [],
   "source": [
    "%%R\n",
    "## min G+C cutoff\n",
    "min_GC = 13.5\n",
    "## max G+C cutoff\n",
    "max_GC = 80\n",
    "## max G+C shift\n",
    "max_13C_shift_in_BD = 0.036\n",
    "\n",
    "\n",
    "min_BD = min_GC/100.0 * 0.098 + 1.66    \n",
    "max_BD = max_GC/100.0 * 0.098 + 1.66    \n",
    "\n",
    "max_BD = max_BD + max_13C_shift_in_BD\n",
    "\n",
    "cat('Min BD:', min_BD, '\\n')\n",
    "cat('Max BD:', max_BD, '\\n')"
   ]
  },
  {
   "cell_type": "markdown",
   "metadata": {},
   "source": [
    "# Loading data"
   ]
  },
  {
   "cell_type": "markdown",
   "metadata": {},
   "source": [
    "## Emperical"
   ]
  },
  {
   "cell_type": "markdown",
   "metadata": {},
   "source": [
    "### SIP data"
   ]
  },
  {
   "cell_type": "code",
   "execution_count": null,
   "metadata": {
    "collapsed": false
   },
   "outputs": [],
   "source": [
    "%%R \n",
    "# simulated OTU table file\n",
    "OTU.table.dir = '/home/nick/notebook/SIPSim/dev/fullCyc/frag_norm_9_2.5_n5/Day1_default_run/1e9/'\n",
    "OTU.table.file = 'OTU_abs1e9_PCR_sub.txt'\n",
    "#OTU.table.file = 'OTU_abs1e9_sub.txt'\n",
    "#OTU.table.file = 'OTU_abs1e9.txt'"
   ]
  },
  {
   "cell_type": "code",
   "execution_count": null,
   "metadata": {
    "collapsed": false
   },
   "outputs": [],
   "source": [
    "%%R -i physeqDir -i physeq_SIP_core -i bulk_days\n",
    "\n",
    "# bulk core samples\n",
    "F = file.path(physeqDir, physeq_SIP_core)\n",
    "physeq.SIP.core = readRDS(F) \n",
    "physeq.SIP.core.m = physeq.SIP.core %>% sample_data\n",
    "\n",
    "physeq.SIP.core = prune_samples(physeq.SIP.core.m$Substrate == '12C-Con' & \n",
    "                                physeq.SIP.core.m$Day %in% bulk_days, \n",
    "                                physeq.SIP.core) %>%\n",
    "    filter_taxa(function(x) sum(x) > 0, TRUE)\n",
    "physeq.SIP.core.m = physeq.SIP.core %>% sample_data        \n",
    "\n",
    "physeq.SIP.core"
   ]
  },
  {
   "cell_type": "code",
   "execution_count": null,
   "metadata": {
    "collapsed": false
   },
   "outputs": [],
   "source": [
    "%%R \n",
    "## dataframe\n",
    "df.EMP = physeq.SIP.core %>% otu_table %>%\n",
    "    as.matrix %>% as.data.frame\n",
    "df.EMP$OTU = rownames(df.EMP)\n",
    "df.EMP = df.EMP %>%    \n",
    "    gather(sample, abundance, 1:(ncol(df.EMP)-1)) \n",
    "\n",
    "df.EMP = inner_join(df.EMP, physeq.SIP.core.m, c('sample' = 'X.Sample')) \n",
    "\n",
    "df.EMP.nt = df.EMP %>%\n",
    "    group_by(sample) %>%\n",
    "    mutate(n_taxa = sum(abundance > 0)) %>%\n",
    "    ungroup() %>%\n",
    "    distinct(sample) %>%\n",
    "    filter(Buoyant_density >= min_BD, \n",
    "           Buoyant_density <= max_BD)\n",
    "    \n",
    "df.EMP.nt %>% head(n=3)"
   ]
  },
  {
   "cell_type": "markdown",
   "metadata": {},
   "source": [
    "### bulk soil samples"
   ]
  },
  {
   "cell_type": "code",
   "execution_count": null,
   "metadata": {
    "collapsed": false
   },
   "outputs": [],
   "source": [
    "%%R\n",
    "physeq.dir = '/var/seq_data/fullCyc/MiSeq_16SrRNA/515f-806r/lib1-7/phyloseq/'\n",
    "physeq.bulk = 'bulk-core'\n",
    "physeq.file = file.path(physeq.dir, physeq.bulk)\n",
    "physeq.bulk = readRDS(physeq.file)\n",
    "physeq.bulk.m = physeq.bulk %>% sample_data\n",
    "physeq.bulk = prune_samples(physeq.bulk.m$Exp_type == 'microcosm_bulk' &\n",
    "                            physeq.bulk.m$Day %in% bulk_days, physeq.bulk)\n",
    "\n",
    "physeq.bulk.m = physeq.bulk %>% sample_data\n",
    "physeq.bulk"
   ]
  },
  {
   "cell_type": "code",
   "execution_count": null,
   "metadata": {
    "collapsed": false
   },
   "outputs": [],
   "source": [
    "%%R\n",
    "physeq.bulk.n = transform_sample_counts(physeq.bulk, function(x) x/sum(x))\n",
    "physeq.bulk.n"
   ]
  },
  {
   "cell_type": "code",
   "execution_count": null,
   "metadata": {
    "code_folding": [],
    "collapsed": false
   },
   "outputs": [],
   "source": [
    "%%R\n",
    "# making long format of each bulk table\n",
    "bulk.otu = physeq.bulk.n %>% otu_table %>% as.data.frame\n",
    "ncol = ncol(bulk.otu)\n",
    "bulk.otu$OTU = rownames(bulk.otu)\n",
    "bulk.otu = bulk.otu %>%\n",
    "    gather(sample, abundance, 1:ncol) \n",
    "\n",
    "bulk.otu = inner_join(physeq.bulk.m, bulk.otu, c('X.Sample' = 'sample')) %>%\n",
    "    dplyr::select(OTU, abundance) %>%\n",
    "    rename('bulk_abund' = abundance)\n",
    "bulk.otu %>% head(n=3)"
   ]
  },
  {
   "cell_type": "code",
   "execution_count": null,
   "metadata": {
    "collapsed": false
   },
   "outputs": [],
   "source": [
    "%%R\n",
    "# joining tables\n",
    "df.EMP.j = inner_join(df.EMP, bulk.otu, c('OTU' = 'OTU')) %>%\n",
    "    filter(Buoyant_density >= min_BD, \n",
    "           Buoyant_density <= max_BD) \n",
    "    \n",
    "df.EMP.j %>% head(n=3)"
   ]
  },
  {
   "cell_type": "markdown",
   "metadata": {},
   "source": [
    "## Simulated"
   ]
  },
  {
   "cell_type": "code",
   "execution_count": null,
   "metadata": {
    "collapsed": false
   },
   "outputs": [],
   "source": [
    "OTU_files = !find $buildDir -name \"OTU_abs1e9_PCR_sub.txt\"\n",
    "OTU_files"
   ]
  },
  {
   "cell_type": "code",
   "execution_count": null,
   "metadata": {
    "collapsed": false
   },
   "outputs": [],
   "source": [
    "%%R -i OTU_files\n",
    "# loading files\n",
    "\n",
    "df.SIM = list()\n",
    "for (x in OTU_files){\n",
    "    SIM_rep = gsub('/home/nick/notebook/SIPSim/dev/fullCyc/n1147_frag_norm_9_2.5_n5/Day1_rep10/', '', x)\n",
    "    SIM_rep = gsub('/OTU_abs1e9_PCR_sub.txt', '', SIM_rep)\n",
    "    df.SIM[[SIM_rep]] = read.delim(x, sep='\\t') \n",
    "    }\n",
    "df.SIM = do.call('rbind', df.SIM)\n",
    "df.SIM$SIM_rep = gsub('\\\\.[0-9]+$', '', rownames(df.SIM))\n",
    "rownames(df.SIM) = 1:nrow(df.SIM)\n",
    "df.SIM %>% head"
   ]
  },
  {
   "cell_type": "code",
   "execution_count": null,
   "metadata": {
    "collapsed": false
   },
   "outputs": [],
   "source": [
    "%%R\n",
    "## edit table\n",
    "df.SIM.nt = df.SIM %>%\n",
    "    filter(count > 0) %>%\n",
    "    group_by(SIM_rep, library, BD_mid) %>%\n",
    "    summarize(n_taxa = n()) %>%\n",
    "    filter(BD_mid >= min_BD, \n",
    "           BD_mid <= max_BD)\n",
    "df.SIM.nt %>% head    "
   ]
  },
  {
   "cell_type": "markdown",
   "metadata": {},
   "source": [
    "### 'bulk soil' community files"
   ]
  },
  {
   "cell_type": "code",
   "execution_count": null,
   "metadata": {
    "collapsed": false
   },
   "outputs": [],
   "source": [
    "# loading comm files\n",
    "comm_files = !find $buildDir -name \"bulk-core_comm_target.txt\"\n",
    "comm_files"
   ]
  },
  {
   "cell_type": "code",
   "execution_count": null,
   "metadata": {
    "collapsed": false
   },
   "outputs": [],
   "source": [
    "%%R -i comm_files\n",
    "\n",
    "df.comm = list()\n",
    "for (f in comm_files){\n",
    "    rep = gsub('.+/Day1_rep10/([0-9]+)/.+', '\\\\1', f)\n",
    "    df.comm[[rep]] = read.delim(f, sep='\\t') %>%\n",
    "        dplyr::select(library, taxon_name, rel_abund_perc) %>%\n",
    "        rename('bulk_abund' = rel_abund_perc) %>%\n",
    "        mutate(bulk_abund = bulk_abund / 100)\n",
    "}\n",
    "\n",
    "df.comm = do.call('rbind', df.comm)\n",
    "df.comm$SIM_rep = gsub('\\\\.[0-9]+$', '', rownames(df.comm))\n",
    "rownames(df.comm) = 1:nrow(df.comm)\n",
    "df.comm %>% head(n=3)"
   ]
  },
  {
   "cell_type": "code",
   "execution_count": null,
   "metadata": {
    "collapsed": false
   },
   "outputs": [],
   "source": [
    "%%R\n",
    "## joining tables\n",
    "df.SIM.j = inner_join(df.SIM, df.comm, c('SIM_rep' = 'SIM_rep',\n",
    "                                         'library' = 'library',\n",
    "                                         'taxon' = 'taxon_name')) %>%\n",
    "    filter(BD_mid >= min_BD, \n",
    "           BD_mid <= max_BD)\n",
    "    \n",
    "df.SIM.j %>% head(n=3)"
   ]
  },
  {
   "cell_type": "code",
   "execution_count": null,
   "metadata": {
    "collapsed": false
   },
   "outputs": [],
   "source": [
    "%%R \n",
    "# filtering & combining emperical w/ simulated data\n",
    "\n",
    "## emperical \n",
    "max_BD_range = max(df.EMP.j$Buoyant_density) - min(df.EMP.j$Buoyant_density)\n",
    "df.EMP.j.f = df.EMP.j %>%\n",
    "    filter(abundance > 0) %>%\n",
    "    group_by(OTU) %>%\n",
    "    summarize(mean_rel_abund = mean(bulk_abund),\n",
    "              min_BD = min(Buoyant_density),\n",
    "              max_BD = max(Buoyant_density),\n",
    "              BD_range = max_BD - min_BD,\n",
    "              BD_range_perc = BD_range / max_BD_range * 100) %>%\n",
    "    ungroup() %>%\n",
    "    mutate(dataset = 'emperical',\n",
    "           SIM_rep = NA)\n",
    "\n",
    "## simulated\n",
    "max_BD_range = max(df.SIM.j$BD_mid) - min(df.SIM.j$BD_mid)\n",
    "df.SIM.j.f = df.SIM.j %>%\n",
    "    filter(count > 0) %>%\n",
    "    group_by(SIM_rep, taxon) %>%\n",
    "    summarize(mean_rel_abund = mean(bulk_abund),\n",
    "              min_BD = min(BD_mid),\n",
    "              max_BD = max(BD_mid),\n",
    "              BD_range = max_BD - min_BD,\n",
    "              BD_range_perc = BD_range / max_BD_range * 100) %>%\n",
    "    ungroup() %>%\n",
    "    rename('OTU' = taxon) %>%\n",
    "    mutate(dataset = 'simulated')\n",
    "\n",
    "## join\n",
    "df.j = rbind(df.EMP.j.f, df.SIM.j.f) %>%\n",
    "    filter(BD_range_perc > 0,\n",
    "            mean_rel_abund > 0)\n",
    "\n",
    "df.j$SIM_rep = reorder(df.j$SIM_rep, df.j$SIM_rep %>% as.numeric)\n",
    "\n",
    "df.j %>% head(n=3)"
   ]
  },
  {
   "cell_type": "code",
   "execution_count": null,
   "metadata": {
    "collapsed": false
   },
   "outputs": [],
   "source": [
    "%%R -h 400\n",
    "## plotting\n",
    "ggplot(df.j, aes(mean_rel_abund, BD_range_perc, color=SIM_rep)) +\n",
    "    geom_point(alpha=0.3) +\n",
    "    scale_x_log10() +\n",
    "    scale_y_continuous() +\n",
    "    labs(x='Pre-fractionation abundance', y='% of total BD range') +\n",
    "    facet_grid(dataset ~ .) +\n",
    "    theme_bw() +\n",
    "    theme(\n",
    "        text = element_text(size=16),\n",
    "        panel.grid = element_blank()#,\n",
    "        #legend.position = 'none'\n",
    "        )\n"
   ]
  },
  {
   "cell_type": "markdown",
   "metadata": {},
   "source": [
    "## BD span of just overlapping taxa\n",
    "\n",
    "* Taxa overlapping between emperical data and genomes in dataset\n",
    "* These taxa should have the same relative abundances in both datasets.\n",
    "  * The comm file was created from the emperical dataset phyloseq file."
   ]
  },
  {
   "cell_type": "code",
   "execution_count": null,
   "metadata": {
    "collapsed": false
   },
   "outputs": [],
   "source": [
    "%%R -i targetFile\n",
    "\n",
    "df.target = read.delim(targetFile, sep='\\t')\n",
    "df.target %>% nrow %>% print\n",
    "df.target %>% head(n=3)"
   ]
  },
  {
   "cell_type": "code",
   "execution_count": null,
   "metadata": {
    "collapsed": false
   },
   "outputs": [],
   "source": [
    "%%R\n",
    "# filtering to just target taxa\n",
    "df.j.t = df.j %>% \n",
    "    filter(OTU %in% df.target$OTU) \n",
    "df.j %>% nrow %>% print\n",
    "df.j.t %>% nrow %>% print\n",
    "\n",
    "## plotting\n",
    "ggplot(df.j.t, aes(mean_rel_abund, BD_range_perc, color=SIM_rep)) +\n",
    "    geom_point(alpha=0.5, shape='O') +\n",
    "    scale_x_log10() +\n",
    "    scale_y_continuous() +\n",
    "    #scale_color_manual(values=c('blue', 'red')) +\n",
    "    labs(x='Pre-fractionation abundance', y='% of total BD range') +\n",
    "    facet_grid(dataset ~ .) +\n",
    "    theme_bw() +\n",
    "    theme(\n",
    "        text = element_text(size=16),\n",
    "        panel.grid = element_blank()#,\n",
    "        #legend.position = 'none'\n",
    "        )"
   ]
  },
  {
   "cell_type": "markdown",
   "metadata": {},
   "source": [
    "### Check \n",
    "\n",
    "* Are all target (overlapping) taxa the same relative abundances in both datasets?"
   ]
  },
  {
   "cell_type": "code",
   "execution_count": null,
   "metadata": {
    "collapsed": false
   },
   "outputs": [],
   "source": [
    "%%R -w 600 -h 500\n",
    "# formatting data\n",
    "df.1 = df.j.t %>% \n",
    "    filter(dataset == 'simulated') %>%\n",
    "    select(SIM_rep, OTU, mean_rel_abund, BD_range, BD_range_perc)\n",
    "\n",
    "df.2 = df.j.t %>%\n",
    "    filter(dataset == 'emperical') %>%\n",
    "    select(SIM_rep, OTU, mean_rel_abund, BD_range, BD_range_perc)\n",
    "\n",
    "df.12 = inner_join(df.1, df.2, c('OTU' = 'OTU')) %>%\n",
    "    mutate(BD_diff_perc = BD_range_perc.y - BD_range_perc.x)\n",
    "\n",
    "\n",
    "df.12$SIM_rep.x = reorder(df.12$SIM_rep.x, df.12$SIM_rep.x  %>% as.numeric)\n",
    "\n",
    "## plotting\n",
    "p1 = ggplot(df.12, aes(mean_rel_abund.x, mean_rel_abund.y)) +\n",
    "    geom_point(alpha=0.5) +\n",
    "    scale_x_log10() +\n",
    "    scale_y_log10() +\n",
    "    labs(x='Relative abundance (simulated)', y='Relative abundance (emperical)') +\n",
    "    facet_wrap(~ SIM_rep.x)\n",
    "    theme_bw() +\n",
    "    theme(\n",
    "        text = element_text(size=16),\n",
    "        panel.grid = element_blank(),\n",
    "        legend.position = 'none'\n",
    "        )\n",
    "p1"
   ]
  },
  {
   "cell_type": "markdown",
   "metadata": {},
   "source": [
    "### Correlation between relative abundance and BD_range diff\n",
    "\n",
    "* Are low abundant taxa more variable in their BD span"
   ]
  },
  {
   "cell_type": "code",
   "execution_count": null,
   "metadata": {
    "collapsed": false
   },
   "outputs": [],
   "source": [
    "%%R -w 800 -h 500\n",
    "\n",
    "ggplot(df.12, aes(mean_rel_abund.x, BD_diff_perc)) +\n",
    "    geom_point(alpha=0.5) +\n",
    "    scale_x_log10() +\n",
    "    labs(x='Pre-fractionation relative abundance', \n",
    "         y='Difference in % of gradient spanned\\n(emperical - simulated)',\n",
    "         title='Overlapping taxa') +\n",
    "    facet_wrap(~ SIM_rep.x) +\n",
    "    theme_bw() +\n",
    "    theme(\n",
    "        text = element_text(size=16),\n",
    "        panel.grid = element_blank(),\n",
    "        legend.position = 'none'\n",
    "        )\n"
   ]
  },
  {
   "cell_type": "markdown",
   "metadata": {},
   "source": [
    "#### Notes\n",
    "\n",
    "* between Day1_rep10, Day1_richFromTarget_rep10, and Day1_add_Rich_rep10:\n",
    "  * Day1_rep10 has the most accurate representation of BD span (% of gradient spanned by taxa).\n",
    "    * Accuracy drops at ~1e-3 to ~5e-4, but this is caused by detection limits (veil-line effect)."
   ]
  },
  {
   "cell_type": "markdown",
   "metadata": {},
   "source": [
    "# Comparing abundance distributions of overlapping taxa"
   ]
  },
  {
   "cell_type": "code",
   "execution_count": null,
   "metadata": {
    "collapsed": false
   },
   "outputs": [],
   "source": [
    "%%R\n",
    "\n",
    "join_abund_dists = function(df.EMP.j, df.SIM.j, df.target){\n",
    "    ## emperical \n",
    "    df.EMP.j.f = df.EMP.j %>%\n",
    "        filter(abundance > 0) %>%\n",
    "        dplyr::select(OTU, sample, abundance, Buoyant_density, bulk_abund) %>%\n",
    "        mutate(dataset = 'emperical', SIM_rep = NA) %>%\n",
    "        filter(OTU %in% df.target$OTU) \n",
    "    \n",
    "    ## simulated\n",
    "    df.SIM.j.f = df.SIM.j %>%\n",
    "        filter(count > 0) %>%\n",
    "        dplyr::select(taxon, fraction, count, BD_mid, bulk_abund, SIM_rep) %>%\n",
    "        rename('OTU' = taxon,\n",
    "               'sample' = fraction,\n",
    "               'Buoyant_density' = BD_mid,\n",
    "               'abundance' = count) %>%\n",
    "        mutate(dataset = 'simulated') %>%\n",
    "        filter(OTU %in% df.target$OTU) \n",
    "    \n",
    "    ## getting just intersecting OTUs\n",
    "    OTUs.int = intersect(df.EMP.j.f$OTU, df.SIM.j.f$OTU)\n",
    "    \n",
    "    df.j = rbind(df.EMP.j.f, df.SIM.j.f) %>%\n",
    "        filter(OTU %in% OTUs.int) %>%\n",
    "        group_by(sample) %>%\n",
    "        mutate(rel_abund = abundance / sum(abundance))\n",
    "    \n",
    "    cat('Number of overlapping OTUs between emperical & simulated:', \n",
    "            df.j$OTU %>% unique %>% length, '\\n\\n')\n",
    "    return(df.j)\n",
    "    }\n",
    "\n",
    "\n",
    "df.j = join_abund_dists(df.EMP.j, df.SIM.j, df.target)\n",
    "df.j %>% head(n=3) %>% as.data.frame                  "
   ]
  },
  {
   "cell_type": "code",
   "execution_count": null,
   "metadata": {
    "collapsed": false
   },
   "outputs": [],
   "source": [
    "%%R\n",
    "# closure operation\n",
    "df.j = df.j %>%\n",
    "    ungroup() %>%\n",
    "    mutate(SIM_rep = SIM_rep %>% as.numeric) %>%\n",
    "    group_by(dataset, SIM_rep, sample) %>%\n",
    "    mutate(rel_abund_c = rel_abund / sum(rel_abund)) %>%\n",
    "    ungroup()\n",
    "\n",
    "df.j %>% head(n=3) %>% as.data.frame"
   ]
  },
  {
   "cell_type": "code",
   "execution_count": null,
   "metadata": {
    "collapsed": false
   },
   "outputs": [],
   "source": [
    "%%R -h 1500 -w 800\n",
    "# plotting \n",
    "plot_abunds = function(df){\n",
    "    p = ggplot(df, aes(Buoyant_density, rel_abund_c, fill=OTU)) +\n",
    "        geom_area(stat='identity', position='dodge', alpha=0.5) +\n",
    "        labs(x='Buoyant density', \n",
    "             y='Subsampled community\\n(relative abundance for subset taxa)') +\n",
    "        theme_bw() +\n",
    "        theme( \n",
    "            text = element_text(size=16),\n",
    "            legend.position = 'none',\n",
    "              axis.title.y = element_text(vjust=1),        \n",
    "              axis.title.x = element_blank(),\n",
    "              plot.margin=unit(c(0.1,1,0.1,1), \"cm\")\n",
    "             )\n",
    "    return(p)\n",
    "    }\n",
    "\n",
    "\n",
    "# simulations\n",
    "df.j.f = df.j %>%\n",
    "    filter(dataset == 'simulated')\n",
    "p.SIM = plot_abunds(df.j.f)\n",
    "p.SIM = p.SIM + facet_grid(SIM_rep ~ .)\n",
    "\n",
    "# emperical\n",
    "df.j.f = df.j %>%\n",
    "    filter(dataset == 'emperical')\n",
    "p.EMP = plot_abunds(df.j.f)\n",
    "\n",
    "# make figure\n",
    "grid.arrange(p.EMP, p.SIM, ncol=1, heights=c(1,5))"
   ]
  },
  {
   "cell_type": "markdown",
   "metadata": {},
   "source": [
    "## Check: plotting closure abs-abunds of overlapping taxa\n",
    "\n",
    "* The overlapping taxa should have the same closure-transformed relative abundances for both:\n",
    "  * absolute abundances (OTU table)\n",
    "  * relative abundances (subsampled OTU table; as above)"
   ]
  },
  {
   "cell_type": "markdown",
   "metadata": {},
   "source": [
    "### Loading OTU table (abs abunds)"
   ]
  },
  {
   "cell_type": "code",
   "execution_count": null,
   "metadata": {
    "collapsed": false
   },
   "outputs": [],
   "source": [
    "OTU_files = !find $buildDir -name \"OTU_abs1e9.txt\"\n",
    "OTU_files"
   ]
  },
  {
   "cell_type": "code",
   "execution_count": null,
   "metadata": {
    "collapsed": false
   },
   "outputs": [],
   "source": [
    "%%R -i OTU_files\n",
    "# loading files\n",
    "\n",
    "df.SIM.abs = list()\n",
    "for (x in OTU_files){\n",
    "    SIM_rep = gsub('/home/nick/notebook/SIPSim/dev/fullCyc/n1147_frag_norm_9_2.5_n5/Day1_rep10/', '', x)\n",
    "    SIM_rep = gsub('/OTU_abs1e9.txt', '', SIM_rep)\n",
    "    df.SIM.abs[[SIM_rep]] = read.delim(x, sep='\\t') \n",
    "    }\n",
    "df.SIM.abs = do.call('rbind', df.SIM.abs)\n",
    "df.SIM.abs$SIM_rep = gsub('\\\\.[0-9]+$', '', rownames(df.SIM.abs))\n",
    "rownames(df.SIM.abs) = 1:nrow(df.SIM.abs)\n",
    "df.SIM.abs %>% head"
   ]
  },
  {
   "cell_type": "code",
   "execution_count": null,
   "metadata": {
    "collapsed": false
   },
   "outputs": [],
   "source": [
    "%%R\n",
    "# subset just overlapping taxa\n",
    "# & closure operation\n",
    "df.SIM.abs.t = df.SIM.abs %>%\n",
    "    filter(taxon %in% df.target$OTU) %>%\n",
    "    group_by(SIM_rep, fraction) %>%\n",
    "    mutate(rel_abund_c = count / sum(count)) %>%\n",
    "    rename('Buoyant_density' = BD_mid,\n",
    "           'OTU' = taxon)\n",
    "\n",
    "df.SIM.abs.t %>% head(n=3) %>% as.data.frame"
   ]
  },
  {
   "cell_type": "code",
   "execution_count": null,
   "metadata": {
    "collapsed": false
   },
   "outputs": [],
   "source": [
    "%%R -w 800 -h 1200\n",
    "# plotting\n",
    "p.abs = plot_abunds(df.SIM.abs.t) \n",
    "p.abs + facet_grid(SIM_rep ~ .)"
   ]
  },
  {
   "cell_type": "markdown",
   "metadata": {},
   "source": [
    "#### Notes\n",
    "\n",
    "* The abundance distributions of the overlapping OTUs look pretty similar between 'absolute' and 'relative' (post-PCR & post-sequencing simulation). \n",
    "  * The difference between absolute and relative are probably due to the PCR simulation"
   ]
  },
  {
   "cell_type": "markdown",
   "metadata": {},
   "source": [
    "# Calculating center of mass for overlapping taxa\n",
    "\n",
    "* weighted mean BD, where weights are relative abundances"
   ]
  },
  {
   "cell_type": "code",
   "execution_count": null,
   "metadata": {
    "collapsed": false
   },
   "outputs": [],
   "source": [
    "%%R\n",
    "\n",
    "center_mass = function(df){\n",
    "    df = df %>%\n",
    "        group_by(dataset, SIM_rep, OTU) %>%\n",
    "        summarize(center_mass = weighted.mean(Buoyant_density, rel_abund_c, na.rm=T)) %>%\n",
    "        ungroup()\n",
    "    return(df)\n",
    "}\n",
    "\n",
    "df.j.cm = center_mass(df.j) "
   ]
  },
  {
   "cell_type": "code",
   "execution_count": null,
   "metadata": {
    "collapsed": false
   },
   "outputs": [],
   "source": [
    "%%R\n",
    "# getting mean cm for all SIM_reps\n",
    "df.j.cm.s = df.j.cm %>%\n",
    "    group_by(dataset, OTU) %>%\n",
    "    summarize(mean_cm = mean(center_mass, na.rm=T),\n",
    "              stdev_cm = sd(center_mass)) %>%\n",
    "    ungroup() %>%\n",
    "    spread(dataset, mean_cm) %>%\n",
    "    group_by(OTU) %>%\n",
    "    summarize(stdev_cm = mean(stdev_cm, na.rm=T),\n",
    "              emperical = mean(emperical, na.rm=T),\n",
    "              simulated = mean(simulated, na.rm=T)) %>%\n",
    "    ungroup()\n",
    "\n",
    "# check\n",
    "cat('Number of OTUs:', df.j.cm.s$OTU %>% unique %>% length, '\\n')\n",
    "\n",
    "# plotting\n",
    "ggplot(df.j.cm.s, aes(emperical, simulated,\n",
    "                    ymin = simulated - stdev_cm,\n",
    "                    ymax = simulated + stdev_cm)) +\n",
    "    geom_pointrange() +\n",
    "    stat_function(fun = function(x) x, linetype='dashed', alpha=0.5, color='red') +\n",
    "    scale_x_continuous(limits=c(1.69, 1.74)) +\n",
    "    scale_y_continuous(limits=c(1.7, 1.75)) +\n",
    "    labs(title='Center of mass') +\n",
    "    theme_bw() +\n",
    "    theme(\n",
    "        text = element_text(size=16)\n",
    "    )"
   ]
  },
  {
   "cell_type": "markdown",
   "metadata": {},
   "source": [
    "#### Notes\n",
    "\n",
    "* Error bars are stdev of simulation reps\n",
    "* The center of mass for most OTUs is shifted heavier in the simulations vs the emperical data\n",
    "* Also, most have a mean simulated BD of ~1.73\n",
    "  * This is approximately the middle of the BD range (1.725)\n",
    "  * It suggests that many of the taxa are equally dispersed across the gradient"
   ]
  },
  {
   "cell_type": "code",
   "execution_count": null,
   "metadata": {
    "collapsed": false
   },
   "outputs": [],
   "source": [
    "%%R\n",
    "BD_MIN = df.j$Buoyant_density %>% min \n",
    "BD_MAX = df.j$Buoyant_density %>% max\n",
    "BD_AVE = mean(c(BD_MIN, BD_MAX))\n",
    "print(c(BD_MIN, BD_AVE, BD_MAX))"
   ]
  },
  {
   "cell_type": "markdown",
   "metadata": {},
   "source": [
    "## R^2 for each SIM_rep"
   ]
  },
  {
   "cell_type": "code",
   "execution_count": null,
   "metadata": {
    "collapsed": false
   },
   "outputs": [],
   "source": [
    "%%R\n",
    "# formatting table\n",
    "df.j.cm.j = inner_join(df.j.cm %>% \n",
    "                           filter(dataset == 'simulated') %>%\n",
    "                           rename('cm_SIM' = center_mass),\n",
    "                       df.j.cm %>% \n",
    "                           filter(dataset == 'emperical') %>%\n",
    "                           rename('cm_EMP' = center_mass),\n",
    "                       c('OTU' = 'OTU')) %>%\n",
    "    select(-starts_with('dataset'))\n",
    "\n",
    "df.j.cm.j %>% head"
   ]
  },
  {
   "cell_type": "code",
   "execution_count": null,
   "metadata": {
    "collapsed": false
   },
   "outputs": [],
   "source": [
    "%%R -w 300 -h 400\n",
    "# lm()\n",
    "df.j.cm.j.lm = df.j.cm.j %>%\n",
    "    group_by(SIM_rep.x) %>%\n",
    "    do(fit = lm(cm_EMP ~ cm_SIM, data = .)) %>%\n",
    "    mutate(R2 =  summary(fit)$coeff[2],\n",
    "           data = 'simulated')\n",
    "\n",
    "#df.j.cm.j.lm %>% head\n",
    "\n",
    "# plotting\n",
    "ggplot(df.j.cm.j.lm, aes(data, R2)) +\n",
    "    geom_boxplot() +\n",
    "    geom_jitter(height=0, width=0.2, color='red') +\n",
    "    labs(y='R^2', title='simulated ~ emperical') +\n",
    "    theme_bw() +\n",
    "    theme(\n",
    "        text = element_text(size=16)\n",
    "    )\n"
   ]
  },
  {
   "cell_type": "markdown",
   "metadata": {},
   "source": [
    "#### Notes:\n",
    "\n",
    "* Pretty low R^2, with 1 simulation rep at almost 0"
   ]
  },
  {
   "cell_type": "markdown",
   "metadata": {},
   "source": [
    "## Plotting abundances of some outlier taxa\n",
    "\n",
    "* why is simulated so different in center of mass vs emperical?"
   ]
  },
  {
   "cell_type": "code",
   "execution_count": null,
   "metadata": {
    "collapsed": false
   },
   "outputs": [],
   "source": [
    "%%R -h 1100 -w 800\n",
    "\n",
    "# cutoff on which OTU are major outliers (varying between simulated and emperical)\n",
    "BD.diff.cut = 0.015\n",
    "\n",
    "# which OTU to plot?\n",
    "df.j.cm.s.f = df.j.cm.s %>% \n",
    "    mutate(cm_diff = abs(emperical - simulated)) %>%\n",
    "    filter(cm_diff > BD.diff.cut, ! is.na(simulated)) \n",
    "\n",
    "print('OTUs:')\n",
    "print(df.j.cm.s.f$OTU)\n",
    "\n",
    "# filtering to just target taxon\n",
    "## Simulated\n",
    "df.j.f = df.j %>%\n",
    "    filter(dataset == 'simulated', \n",
    "           OTU %in% df.j.cm.s.f$OTU) \n",
    "\n",
    "p.SIM = plot_abunds(df.j.f)\n",
    "p.SIM = p.SIM + facet_grid(SIM_rep ~ .)\n",
    "\n",
    "## Emperical\n",
    "df.j.f = df.j %>%\n",
    "    filter(dataset == 'emperical', \n",
    "           OTU %in% df.j.cm.s.f$OTU)\n",
    "p.EMP = plot_abunds(df.j.f)\n",
    "\n",
    "# make figure\n",
    "grid.arrange(p.EMP, p.SIM, ncol=1, heights=c(1,5))"
   ]
  },
  {
   "cell_type": "markdown",
   "metadata": {},
   "source": [
    "#### Notes\n",
    "\n",
    "* The center of mass seems to be correct: most taxa are shifted heavier relative to the emperical data"
   ]
  },
  {
   "cell_type": "markdown",
   "metadata": {},
   "source": [
    "### Check: which taxon is the highly abundant one?\n",
    "\n",
    "* why is it shifted so far to 'heavy'\n",
    "* the abundance distribution mode is ~1.73, which is a G+C of ~0.71\n",
    "\n",
    "\n",
    "**Abundant taxon: OTU.32**\n",
    "  * rep genome: Pseudonocardia_dioxanivorans_CB1190.fna\n",
    "    * genome GC = 73.31\n",
    "    * do the G+C contents of this amplicon region vary among taxa in the genus?\n",
    "    * No, genome G+C for all 7 genomes in ncbi are ~70 "
   ]
  },
  {
   "cell_type": "markdown",
   "metadata": {},
   "source": [
    "### Check: plotting 'absolute' abudance distributions for major CM outliers"
   ]
  },
  {
   "cell_type": "code",
   "execution_count": null,
   "metadata": {
    "collapsed": false
   },
   "outputs": [],
   "source": [
    "%%R\n",
    "# subset outliers\n",
    "df.SIM.abs.t = df.SIM.abs %>%\n",
    "    filter(taxon %in% df.target$OTU) %>%\n",
    "    group_by(SIM_rep, fraction) %>%\n",
    "    mutate(rel_abund_c = count / sum(count)) %>%\n",
    "    rename('Buoyant_density' = BD_mid,\n",
    "           'OTU' = taxon) %>%\n",
    "    filter(OTU %in% df.j.cm.s.f$OTU) \n",
    "\n",
    "df.SIM.abs.t %>% head(n=3) %>% as.data.frame"
   ]
  },
  {
   "cell_type": "code",
   "execution_count": null,
   "metadata": {
    "collapsed": false
   },
   "outputs": [],
   "source": [
    "%%R -w 800 -h 1200\n",
    "# plotting\n",
    "p.abs = plot_abunds(df.SIM.abs.t) \n",
    "p.abs + facet_grid(SIM_rep ~ .)"
   ]
  },
  {
   "cell_type": "markdown",
   "metadata": {},
   "source": [
    "#### Notes:\n",
    "\n",
    "* simulated absolute abundances seem similar to the simulated relative abundances: both shifted heavy vs emperical"
   ]
  },
  {
   "cell_type": "markdown",
   "metadata": {},
   "source": [
    "### What genomes are these outliers?"
   ]
  },
  {
   "cell_type": "code",
   "execution_count": null,
   "metadata": {
    "collapsed": false
   },
   "outputs": [],
   "source": [
    "%%R -w 800\n",
    "genomes = df.target %>% \n",
    "    filter(OTU %in% df.SIM.abs.t$OTU) \n",
    "\n",
    "df.genInfo = read.delim('/var/seq_data/ncbi_db/genome/Jan2016/bac_complete_spec-rep1_rn/genome_info.txt')\n",
    "df.genInfo.f = df.genInfo %>% \n",
    "    filter(seq_name %in% genomes$genome_seqID) %>%\n",
    "    mutate(genome_ID = gsub('\\\\.fna', '', file_name))\n",
    "\n",
    "df.genInfo.f$genome_ID = reorder(df.genInfo.f$genome_ID, df.genInfo.f$total_GC)\n",
    "\n",
    "# plotting\n",
    "ggplot(df.genInfo.f, aes(genome_ID, total_GC)) +\n",
    "    geom_point() +\n",
    "    theme_bw() +\n",
    "    theme(\n",
    "        text = element_text(size=16),\n",
    "        axis.text.x = element_text(angle=50, hjust=1)\n",
    "    )"
   ]
  },
  {
   "cell_type": "markdown",
   "metadata": {},
   "source": [
    "#### Notes\n",
    "\n",
    "* Odd... these outlier OTUs are simulated from genomes with high G+C.\n",
    "  * I would have expected the OTUs to be shifted right in the emperical data.\n",
    "  * Are the simulations over-shifting the distributions of heavy G+C taxa?"
   ]
  },
  {
   "cell_type": "markdown",
   "metadata": {},
   "source": [
    "### Plotting rep genome G+C of all overlapping taxa"
   ]
  },
  {
   "cell_type": "code",
   "execution_count": null,
   "metadata": {
    "collapsed": false
   },
   "outputs": [],
   "source": [
    "%%R -w 800\n",
    "\n",
    "df.genInfo = read.delim('/var/seq_data/ncbi_db/genome/Jan2016/bac_complete_spec-rep1_rn/genome_info.txt')\n",
    "df.genInfo.f = df.genInfo %>% \n",
    "    filter(seq_name %in% df.target$genome_seqID) %>%\n",
    "    mutate(genome_ID = gsub('\\\\.fna', '', file_name))\n",
    "\n",
    "df.genInfo.f$genome_ID = reorder(df.genInfo.f$genome_ID, df.genInfo.f$total_GC)\n",
    "\n",
    "# plotting\n",
    "ggplot(df.genInfo.f, aes(genome_ID, total_GC)) +\n",
    "    geom_point() +\n",
    "    theme_bw() +\n",
    "    theme(\n",
    "        text = element_text(size=16),\n",
    "        axis.text.x = element_blank()\n",
    "    )"
   ]
  },
  {
   "cell_type": "markdown",
   "metadata": {},
   "source": [
    "***\n",
    "***\n",
    "***\n",
    "# -- OLD --"
   ]
  },
  {
   "cell_type": "markdown",
   "metadata": {},
   "source": [
    "## Plotting number of taxa in each fraction"
   ]
  },
  {
   "cell_type": "markdown",
   "metadata": {},
   "source": [
    "### Emperical data (fullCyc)"
   ]
  },
  {
   "cell_type": "code",
   "execution_count": null,
   "metadata": {
    "collapsed": false
   },
   "outputs": [],
   "source": [
    "%%R \n",
    "# simulated OTU table file\n",
    "OTU.table.dir = '/home/nick/notebook/SIPSim/dev/fullCyc/frag_norm_9_2.5_n5/Day1_default_run/1e9/'\n",
    "OTU.table.file = 'OTU_abs1e9_PCR_sub.txt'\n",
    "#OTU.table.file = 'OTU_abs1e9_sub.txt'\n",
    "#OTU.table.file = 'OTU_abs1e9.txt'"
   ]
  },
  {
   "cell_type": "code",
   "execution_count": null,
   "metadata": {
    "collapsed": false
   },
   "outputs": [],
   "source": [
    "%%R -i physeqDir -i physeq_SIP_core -i bulk_days\n",
    "\n",
    "# bulk core samples\n",
    "F = file.path(physeqDir, physeq_SIP_core)\n",
    "physeq.SIP.core = readRDS(F) \n",
    "physeq.SIP.core.m = physeq.SIP.core %>% sample_data\n",
    "\n",
    "physeq.SIP.core = prune_samples(physeq.SIP.core.m$Substrate == '12C-Con' & \n",
    "                                physeq.SIP.core.m$Day %in% bulk_days, \n",
    "                                physeq.SIP.core) %>%\n",
    "    filter_taxa(function(x) sum(x) > 0, TRUE)\n",
    "physeq.SIP.core.m = physeq.SIP.core %>% sample_data        \n",
    "\n",
    "physeq.SIP.core"
   ]
  },
  {
   "cell_type": "code",
   "execution_count": null,
   "metadata": {
    "collapsed": false
   },
   "outputs": [],
   "source": [
    "%%R -w 800 -h 300 \n",
    "\n",
    "## dataframe\n",
    "df.EMP = physeq.SIP.core %>% otu_table %>%\n",
    "    as.matrix %>% as.data.frame\n",
    "df.EMP$OTU = rownames(df.EMP)\n",
    "df.EMP = df.EMP %>%    \n",
    "    gather(sample, abundance, 1:(ncol(df.EMP)-1)) \n",
    "\n",
    "df.EMP = inner_join(df.EMP, physeq.SIP.core.m, c('sample' = 'X.Sample')) \n",
    "\n",
    "df.EMP.nt = df.EMP %>%\n",
    "    group_by(sample) %>%\n",
    "    mutate(n_taxa = sum(abundance > 0)) %>%\n",
    "    ungroup() %>%\n",
    "    distinct(sample) %>%\n",
    "    filter(Buoyant_density >= min_BD, \n",
    "           Buoyant_density <= max_BD)\n",
    "    \n",
    "\n",
    "## plotting\n",
    "p = ggplot(df.EMP.nt, aes(Buoyant_density, n_taxa)) +\n",
    "    geom_point(color='blue') +\n",
    "    geom_line(color='blue') +\n",
    "    #geom_vline(xintercept=c(BD.GCp0, BD.GCp100), linetype='dashed', alpha=0.5) +\n",
    "    labs(x='Buoyant density', y='Number of taxa') +\n",
    "    theme_bw() +\n",
    "    theme( \n",
    "        text = element_text(size=16),\n",
    "        legend.position = 'none'\n",
    "    )\n",
    "p"
   ]
  },
  {
   "cell_type": "markdown",
   "metadata": {},
   "source": [
    "### w/ simulated data"
   ]
  },
  {
   "cell_type": "code",
   "execution_count": null,
   "metadata": {
    "collapsed": false
   },
   "outputs": [],
   "source": [
    "OTU_files = !find $buildDir -name \"OTU_abs1e9_PCR_sub.txt\"\n",
    "OTU_files"
   ]
  },
  {
   "cell_type": "code",
   "execution_count": null,
   "metadata": {
    "collapsed": false
   },
   "outputs": [],
   "source": [
    "%%R -i OTU_files\n",
    "# loading files\n",
    "\n",
    "df.SIM = list()\n",
    "for (x in OTU_files){\n",
    "    SIM_rep = gsub('/home/nick/notebook/SIPSim/dev/fullCyc/n1147_frag_norm_9_2.5_n5/Day1_rep10/', '', x)\n",
    "    SIM_rep = gsub('/OTU_abs1e9_PCR_sub.txt', '', SIM_rep)\n",
    "    df.SIM[[SIM_rep]] = read.delim(x, sep='\\t') \n",
    "    }\n",
    "df.SIM = do.call('rbind', df.SIM)\n",
    "df.SIM$SIM_rep = gsub('\\\\.[0-9]+$', '', rownames(df.SIM))\n",
    "rownames(df.SIM) = 1:nrow(df.SIM)\n",
    "df.SIM %>% head"
   ]
  },
  {
   "cell_type": "code",
   "execution_count": null,
   "metadata": {
    "collapsed": false
   },
   "outputs": [],
   "source": [
    "%%R\n",
    "## edit table\n",
    "df.SIM.nt = df.SIM %>%\n",
    "    filter(count > 0) %>%\n",
    "    group_by(SIM_rep, library, BD_mid) %>%\n",
    "    summarize(n_taxa = n()) %>%\n",
    "    filter(BD_mid >= min_BD, \n",
    "           BD_mid <= max_BD)\n",
    "df.SIM.nt %>% head    "
   ]
  },
  {
   "cell_type": "code",
   "execution_count": null,
   "metadata": {
    "collapsed": false
   },
   "outputs": [],
   "source": [
    "%%R -w 800 -h 300\n",
    "# plotting\n",
    "p = ggplot(df.SIM.nt, aes(BD_mid, n_taxa, group=SIM_rep)) +\n",
    "    geom_point(color='red') +\n",
    "    geom_line(color='red', alpha=0.5) +\n",
    "    #geom_smooth(color='red') +\n",
    "    geom_point(data=df.EMP.nt, aes(x=Buoyant_density), color='blue') +\n",
    "    geom_line(data=df.EMP.nt, aes(x=Buoyant_density), color='blue') +\n",
    "    #geom_vline(xintercept=c(BD.GCp0, BD.GCp100), linetype='dashed', alpha=0.5) +\n",
    "    labs(x='Buoyant density', y='Number of taxa') +\n",
    "    theme_bw() +\n",
    "    theme( \n",
    "        text = element_text(size=16),\n",
    "        legend.position = 'none'\n",
    "    )\n",
    "p"
   ]
  },
  {
   "cell_type": "markdown",
   "metadata": {},
   "source": [
    "### Normalized by max sample abundance "
   ]
  },
  {
   "cell_type": "code",
   "execution_count": null,
   "metadata": {
    "collapsed": false
   },
   "outputs": [],
   "source": [
    "%%R -w 800 -h 300\n",
    "# normalized by max number of taxa\n",
    "\n",
    "## edit table\n",
    "df.SIM.nt = df.SIM.nt %>%\n",
    "    group_by(SIM_rep) %>%\n",
    "    mutate(n_taxa_norm = n_taxa / max(n_taxa))\n",
    "\n",
    "df.EMP.nt = df.EMP.nt %>%\n",
    "    group_by() %>%\n",
    "    mutate(n_taxa_norm = n_taxa / max(n_taxa))\n",
    "\n",
    "\n",
    "## plot\n",
    "p = ggplot(df.SIM.nt, aes(BD_mid, n_taxa_norm, group=SIM_rep)) +\n",
    "    geom_point(color='red') +\n",
    "    geom_line(color='red') +\n",
    "    geom_point(data=df.EMP.nt, aes(x=Buoyant_density), color='blue') +\n",
    "    geom_line(data=df.EMP.nt, aes(x=Buoyant_density), color='blue') +\n",
    "    #geom_vline(xintercept=c(BD.GCp0, BD.GCp100), linetype='dashed', alpha=0.5) +\n",
    "    scale_y_continuous(limits=c(0, 1)) +\n",
    "    labs(x='Buoyant density', y='Number of taxa\\n(fraction of max)') +\n",
    "    theme_bw() +\n",
    "    theme( \n",
    "        text = element_text(size=16),\n",
    "        legend.position = 'none'\n",
    "    )\n",
    "p"
   ]
  },
  {
   "cell_type": "markdown",
   "metadata": {},
   "source": [
    "## Total sequence count"
   ]
  },
  {
   "cell_type": "code",
   "execution_count": null,
   "metadata": {
    "collapsed": false
   },
   "outputs": [],
   "source": [
    "%%R -w 800 -h 300\n",
    "\n",
    "# simulated\n",
    "df.SIM.s = df.SIM %>%\n",
    "    group_by(SIM_rep, library, BD_mid) %>%\n",
    "    summarize(total_abund = sum(count)) %>%\n",
    "    rename('Day' = library, 'Buoyant_density' = BD_mid) %>%\n",
    "    ungroup() %>%\n",
    "    mutate(dataset='simulated')\n",
    "# emperical\n",
    "df.EMP.s = df.EMP %>% \n",
    "    group_by(Day, Buoyant_density) %>%\n",
    "    summarize(total_abund = sum(abundance))  %>%\n",
    "    ungroup() %>%\n",
    "    mutate(dataset='emperical', SIM_rep = NA)\n",
    "\n",
    "# join\n",
    "df.j = rbind(df.SIM.s, df.EMP.s) %>%\n",
    "    filter(Buoyant_density >= min_BD, \n",
    "           Buoyant_density <= max_BD)\n",
    "    \n",
    "df.SIM.s = df.EMP.s = \"\"\n",
    "\n",
    "# plot\n",
    "ggplot(df.j, aes(Buoyant_density, total_abund, color=dataset, group=SIM_rep)) +\n",
    "    geom_point() +\n",
    "    geom_line(alpha=0.3) +\n",
    "    geom_line(data=df.j %>% filter(dataset=='emperical')) +\n",
    "    scale_color_manual(values=c('blue', 'red')) +\n",
    "    labs(x='Buoyant density', y='Total sequences per sample') +\n",
    "    theme_bw() +\n",
    "    theme( \n",
    "        text = element_text(size=16),\n",
    "        legend.position = 'none'\n",
    "    )"
   ]
  },
  {
   "cell_type": "markdown",
   "metadata": {},
   "source": [
    "## Plotting Shannon diversity for each"
   ]
  },
  {
   "cell_type": "code",
   "execution_count": null,
   "metadata": {
    "collapsed": false
   },
   "outputs": [],
   "source": [
    "%%R\n",
    "shannon_index_long = function(df, abundance_col, ...){\n",
    "    # calculating shannon diversity index from a 'long' formated table\n",
    "    ## community_col = name of column defining communities\n",
    "    ## abundance_col = name of column defining taxon abundances\n",
    "    df = df %>% as.data.frame\n",
    "    cmd = paste0(abundance_col, '/sum(', abundance_col, ')')\n",
    "    df.s = df %>%\n",
    "        group_by_(...) %>%\n",
    "        mutate_(REL_abundance = cmd) %>%\n",
    "        mutate(pi__ln_pi = REL_abundance * log(REL_abundance),\n",
    "               shannon = -sum(pi__ln_pi, na.rm=TRUE)) %>%\n",
    "        ungroup() %>% \n",
    "        dplyr::select(-REL_abundance, -pi__ln_pi) %>%\n",
    "        distinct_(...) \n",
    "    return(df.s)\n",
    "}"
   ]
  },
  {
   "cell_type": "code",
   "execution_count": null,
   "metadata": {
    "collapsed": false
   },
   "outputs": [],
   "source": [
    "%%R\n",
    "# calculating shannon\n",
    "df.SIM.shan = shannon_index_long(df.SIM, 'count', 'SIM_rep', 'library', 'fraction') %>%\n",
    "    filter(BD_mid >= min_BD, \n",
    "           BD_mid <= max_BD)\n",
    "    \n",
    "df.EMP.shan = shannon_index_long(df.EMP, 'abundance', 'sample') %>%\n",
    "    filter(Buoyant_density >= min_BD, \n",
    "           Buoyant_density <= max_BD)\n",
    "    "
   ]
  },
  {
   "cell_type": "code",
   "execution_count": null,
   "metadata": {
    "collapsed": false
   },
   "outputs": [],
   "source": [
    "%%R -w 800 -h 300\n",
    "# plotting\n",
    "p = ggplot(df.SIM.shan, aes(BD_mid, shannon, group=SIM_rep)) +\n",
    "    geom_point(color='red') +\n",
    "    geom_line(color='red', alpha=0.3) +\n",
    "    geom_point(data=df.EMP.shan, aes(x=Buoyant_density), color='blue') +\n",
    "    geom_line(data=df.EMP.shan, aes(x=Buoyant_density), color='blue') +\n",
    "    scale_y_continuous(limits=c(4, 7.5)) +\n",
    "    labs(x='Buoyant density', y='Shannon index') +\n",
    "    theme_bw() +\n",
    "    theme( \n",
    "        text = element_text(size=16),\n",
    "        legend.position = 'none'\n",
    "    )\n",
    "p\n"
   ]
  },
  {
   "cell_type": "markdown",
   "metadata": {},
   "source": [
    "# min/max abundances of taxa"
   ]
  },
  {
   "cell_type": "code",
   "execution_count": null,
   "metadata": {
    "code_folding": [],
    "collapsed": false
   },
   "outputs": [],
   "source": [
    "%%R -h 300 -w 800\n",
    "\n",
    "# simulated\n",
    "df.SIM.s = df.SIM %>% \n",
    "    filter(rel_abund > 0) %>%\n",
    "    group_by(SIM_rep, BD_mid) %>%\n",
    "    summarize(min_abund = min(rel_abund),\n",
    "              max_abund = max(rel_abund)) %>%\n",
    "    ungroup() %>%\n",
    "    rename('Buoyant_density' = BD_mid) %>%\n",
    "    mutate(dataset = 'simulated')\n",
    "\n",
    "# emperical\n",
    "df.EMP.s = df.EMP %>%\n",
    "    group_by(Buoyant_density) %>%\n",
    "    mutate(rel_abund = abundance / sum(abundance)) %>%\n",
    "    filter(rel_abund > 0) %>%\n",
    "    summarize(min_abund = min(rel_abund),\n",
    "              max_abund = max(rel_abund)) %>%\n",
    "    ungroup() %>%\n",
    "    mutate(dataset = 'emperical',\n",
    "           SIM_rep = NA)\n",
    "\n",
    "df.j = rbind(df.SIM.s, df.EMP.s) %>%\n",
    "    filter(Buoyant_density >= min_BD, \n",
    "           Buoyant_density <= max_BD)\n",
    "    \n",
    "\n",
    "# plotting\n",
    "ggplot(df.j, aes(Buoyant_density, max_abund, color=dataset, group=SIM_rep)) +\n",
    "    geom_point() +\n",
    "    geom_line(alpha=0.3) +\n",
    "    geom_line(data=df.j %>% filter(dataset=='emperical')) +\n",
    "    scale_color_manual(values=c('blue', 'red')) +\n",
    "    labs(x='Buoyant density', y='Maximum relative abundance') +\n",
    "    theme_bw() +\n",
    "    theme( \n",
    "        text = element_text(size=16),\n",
    "        legend.position = 'none'\n",
    "    )"
   ]
  },
  {
   "cell_type": "markdown",
   "metadata": {},
   "source": [
    "# BD range where an OTU is detected \n",
    "\n",
    "* Do the simulated OTU BD distributions span the same BD range of the emperical data?"
   ]
  },
  {
   "cell_type": "markdown",
   "metadata": {},
   "source": [
    "### Simulated"
   ]
  },
  {
   "cell_type": "code",
   "execution_count": null,
   "metadata": {
    "collapsed": false
   },
   "outputs": [],
   "source": [
    "# loading comm files\n",
    "comm_files = !find $buildDir -name \"bulk-core_comm_target.txt\"\n",
    "comm_files"
   ]
  },
  {
   "cell_type": "code",
   "execution_count": null,
   "metadata": {
    "collapsed": false
   },
   "outputs": [],
   "source": [
    "%%R -i comm_files\n",
    "\n",
    "df.comm = list()\n",
    "for (f in comm_files){\n",
    "    rep = gsub('.+/Day1_rep10/([0-9]+)/.+', '\\\\1', f)\n",
    "    df.comm[[rep]] = read.delim(f, sep='\\t') %>%\n",
    "        dplyr::select(library, taxon_name, rel_abund_perc) %>%\n",
    "        rename('bulk_abund' = rel_abund_perc) %>%\n",
    "        mutate(bulk_abund = bulk_abund / 100)\n",
    "}\n",
    "\n",
    "df.comm = do.call('rbind', df.comm)\n",
    "df.comm$SIM_rep = gsub('\\\\.[0-9]+$', '', rownames(df.comm))\n",
    "rownames(df.comm) = 1:nrow(df.comm)\n",
    "df.comm %>% head(n=3)"
   ]
  },
  {
   "cell_type": "code",
   "execution_count": null,
   "metadata": {
    "collapsed": false
   },
   "outputs": [],
   "source": [
    "%%R\n",
    "\n",
    "## joining\n",
    "df.SIM.j = inner_join(df.SIM, df.comm, c('SIM_rep' = 'SIM_rep',\n",
    "                                         'library' = 'library',\n",
    "                                         'taxon' = 'taxon_name')) %>%\n",
    "    filter(BD_mid >= min_BD, \n",
    "           BD_mid <= max_BD)\n",
    "    \n",
    "df.SIM.j %>% head(n=3)"
   ]
  },
  {
   "cell_type": "markdown",
   "metadata": {},
   "source": [
    "### Emperical"
   ]
  },
  {
   "cell_type": "code",
   "execution_count": null,
   "metadata": {
    "collapsed": true
   },
   "outputs": [],
   "source": [
    "%%R\n",
    "bulk_days = c(1)"
   ]
  },
  {
   "cell_type": "code",
   "execution_count": null,
   "metadata": {
    "collapsed": false
   },
   "outputs": [],
   "source": [
    "%%R\n",
    "physeq.dir = '/var/seq_data/fullCyc/MiSeq_16SrRNA/515f-806r/lib1-7/phyloseq/'\n",
    "physeq.bulk = 'bulk-core'\n",
    "physeq.file = file.path(physeq.dir, physeq.bulk)\n",
    "physeq.bulk = readRDS(physeq.file)\n",
    "physeq.bulk.m = physeq.bulk %>% sample_data\n",
    "physeq.bulk = prune_samples(physeq.bulk.m$Exp_type == 'microcosm_bulk' &\n",
    "                            physeq.bulk.m$Day %in% bulk_days, physeq.bulk)\n",
    "\n",
    "physeq.bulk.m = physeq.bulk %>% sample_data\n",
    "physeq.bulk"
   ]
  },
  {
   "cell_type": "markdown",
   "metadata": {},
   "source": [
    "### Emperical"
   ]
  },
  {
   "cell_type": "code",
   "execution_count": null,
   "metadata": {
    "collapsed": true
   },
   "outputs": [],
   "source": [
    "%%R\n",
    "bulk_days = c(1)"
   ]
  },
  {
   "cell_type": "code",
   "execution_count": null,
   "metadata": {
    "collapsed": false
   },
   "outputs": [],
   "source": [
    "%%R\n",
    "physeq.dir = '/var/seq_data/fullCyc/MiSeq_16SrRNA/515f-806r/lib1-7/phyloseq/'\n",
    "physeq.bulk = 'bulk-core'\n",
    "physeq.file = file.path(physeq.dir, physeq.bulk)\n",
    "physeq.bulk = readRDS(physeq.file)\n",
    "physeq.bulk.m = physeq.bulk %>% sample_data\n",
    "physeq.bulk = prune_samples(physeq.bulk.m$Exp_type == 'microcosm_bulk' &\n",
    "                            physeq.bulk.m$Day %in% bulk_days, physeq.bulk)\n",
    "\n",
    "physeq.bulk.m = physeq.bulk %>% sample_data\n",
    "physeq.bulk"
   ]
  },
  {
   "cell_type": "code",
   "execution_count": null,
   "metadata": {
    "collapsed": false
   },
   "outputs": [],
   "source": [
    "%%R\n",
    "physeq.bulk.n = transform_sample_counts(physeq.bulk, function(x) x/sum(x))\n",
    "physeq.bulk.n"
   ]
  },
  {
   "cell_type": "code",
   "execution_count": null,
   "metadata": {
    "code_folding": [],
    "collapsed": false
   },
   "outputs": [],
   "source": [
    "%%R\n",
    "# making long format of each bulk table\n",
    "bulk.otu = physeq.bulk.n %>% otu_table %>% as.data.frame\n",
    "ncol = ncol(bulk.otu)\n",
    "bulk.otu$OTU = rownames(bulk.otu)\n",
    "bulk.otu = bulk.otu %>%\n",
    "    gather(sample, abundance, 1:ncol) \n",
    "\n",
    "bulk.otu = inner_join(physeq.bulk.m, bulk.otu, c('X.Sample' = 'sample')) %>%\n",
    "    dplyr::select(OTU, abundance) %>%\n",
    "    rename('bulk_abund' = abundance)\n",
    "bulk.otu %>% head(n=3)"
   ]
  },
  {
   "cell_type": "code",
   "execution_count": null,
   "metadata": {
    "collapsed": false
   },
   "outputs": [],
   "source": [
    "%%R\n",
    "# joining tables\n",
    "df.EMP.j = inner_join(df.EMP, bulk.otu, c('OTU' = 'OTU')) %>%\n",
    "    filter(Buoyant_density >= min_BD, \n",
    "           Buoyant_density <= max_BD) \n",
    "    \n",
    "df.EMP.j %>% head(n=3)"
   ]
  },
  {
   "cell_type": "code",
   "execution_count": null,
   "metadata": {
    "collapsed": false
   },
   "outputs": [],
   "source": [
    "%%R \n",
    "# filtering & combining emperical w/ simulated data\n",
    "\n",
    "## emperical \n",
    "max_BD_range = max(df.EMP.j$Buoyant_density) - min(df.EMP.j$Buoyant_density)\n",
    "df.EMP.j.f = df.EMP.j %>%\n",
    "    filter(abundance > 0) %>%\n",
    "    group_by(OTU) %>%\n",
    "    summarize(mean_rel_abund = mean(bulk_abund),\n",
    "              min_BD = min(Buoyant_density),\n",
    "              max_BD = max(Buoyant_density),\n",
    "              BD_range = max_BD - min_BD,\n",
    "              BD_range_perc = BD_range / max_BD_range * 100) %>%\n",
    "    ungroup() %>%\n",
    "    mutate(dataset = 'emperical',\n",
    "           SIM_rep = NA)\n",
    "\n",
    "## simulated\n",
    "max_BD_range = max(df.SIM.j$BD_mid) - min(df.SIM.j$BD_mid)\n",
    "df.SIM.j.f = df.SIM.j %>%\n",
    "    filter(count > 0) %>%\n",
    "    group_by(SIM_rep, taxon) %>%\n",
    "    summarize(mean_rel_abund = mean(bulk_abund),\n",
    "              min_BD = min(BD_mid),\n",
    "              max_BD = max(BD_mid),\n",
    "              BD_range = max_BD - min_BD,\n",
    "              BD_range_perc = BD_range / max_BD_range * 100) %>%\n",
    "    ungroup() %>%\n",
    "    rename('OTU' = taxon) %>%\n",
    "    mutate(dataset = 'simulated')\n",
    "\n",
    "## join\n",
    "df.j = rbind(df.EMP.j.f, df.SIM.j.f) %>%\n",
    "    filter(BD_range_perc > 0,\n",
    "            mean_rel_abund > 0)\n",
    "\n",
    "df.j %>% head(n=3)"
   ]
  },
  {
   "cell_type": "code",
   "execution_count": null,
   "metadata": {
    "collapsed": false
   },
   "outputs": [],
   "source": [
    "%%R -h 400\n",
    "## plotting\n",
    "ggplot(df.j, aes(mean_rel_abund, BD_range_perc, color=SIM_rep)) +\n",
    "    geom_point(alpha=0.5, shape='O') +\n",
    "    scale_x_log10() +\n",
    "    scale_y_continuous() +\n",
    "    labs(x='Pre-fractionation abundance', y='% of total BD range') +\n",
    "    facet_grid(dataset ~ .) +\n",
    "    theme_bw() +\n",
    "    theme(\n",
    "        text = element_text(size=16),\n",
    "        panel.grid = element_blank()#,\n",
    "        #legend.position = 'none'\n",
    "        )\n"
   ]
  },
  {
   "cell_type": "code",
   "execution_count": null,
   "metadata": {
    "collapsed": false
   },
   "outputs": [],
   "source": [
    "%%R -h 400\n",
    "## plotting\n",
    "ggplot(df.j, aes(mean_rel_abund, BD_range_perc, color=dataset)) +\n",
    "    #geom_point(alpha=0.5, shape='O') +\n",
    "    stat_density2d() +\n",
    "    scale_x_log10() +\n",
    "    scale_y_continuous() +\n",
    "    scale_color_manual(values=c('blue', 'red')) +\n",
    "    labs(x='Pre-fractionation abundance', y='% of total BD range') +\n",
    "    #geom_vline(xintercept=0.001, linetype='dashed', alpha=0.5) +\n",
    "    facet_grid(dataset ~ .) +\n",
    "    theme_bw() +\n",
    "    theme(\n",
    "        text = element_text(size=16),\n",
    "        panel.grid = element_blank(),\n",
    "        legend.position = 'none'\n",
    "        )\n"
   ]
  },
  {
   "cell_type": "markdown",
   "metadata": {},
   "source": [
    "## BD span of just overlapping taxa\n",
    "\n",
    "* Taxa overlapping between emperical data and genomes in dataset\n",
    "* These taxa should have the same relative abundances in both datasets.\n",
    "  * The comm file was created from the emperical dataset phyloseq file."
   ]
  },
  {
   "cell_type": "code",
   "execution_count": null,
   "metadata": {
    "collapsed": false
   },
   "outputs": [],
   "source": [
    "%%R -i targetFile\n",
    "\n",
    "df.target = read.delim(targetFile, sep='\\t')\n",
    "df.target %>% nrow %>% print\n",
    "df.target %>% head(n=3)"
   ]
  },
  {
   "cell_type": "code",
   "execution_count": null,
   "metadata": {
    "collapsed": false
   },
   "outputs": [],
   "source": [
    "%%R\n",
    "# filtering to just target taxa\n",
    "df.j.t = df.j %>% \n",
    "    filter(OTU %in% df.target$OTU) \n",
    "df.j %>% nrow %>% print\n",
    "df.j.t %>% nrow %>% print\n",
    "\n",
    "## plotting\n",
    "ggplot(df.j.t, aes(mean_rel_abund, BD_range_perc, color=SIM_rep)) +\n",
    "    geom_point(alpha=0.5, shape='O') +\n",
    "    scale_x_log10() +\n",
    "    scale_y_continuous() +\n",
    "    #scale_color_manual(values=c('blue', 'red')) +\n",
    "    labs(x='Pre-fractionation abundance', y='% of total BD range') +\n",
    "    facet_grid(dataset ~ .) +\n",
    "    theme_bw() +\n",
    "    theme(\n",
    "        text = element_text(size=16),\n",
    "        panel.grid = element_blank()#,\n",
    "        #legend.position = 'none'\n",
    "        )"
   ]
  },
  {
   "cell_type": "markdown",
   "metadata": {},
   "source": [
    "### Check \n",
    "\n",
    "* Are all target (overlapping) taxa the same relative abundances in both datasets?"
   ]
  },
  {
   "cell_type": "code",
   "execution_count": null,
   "metadata": {
    "collapsed": false
   },
   "outputs": [],
   "source": [
    "%%R -w 600 -h 500\n",
    "# formatting data\n",
    "df.1 = df.j.t %>% \n",
    "    filter(dataset == 'simulated') %>%\n",
    "    select(SIM_rep, OTU, mean_rel_abund, BD_range, BD_range_perc)\n",
    "\n",
    "df.2 = df.j.t %>%\n",
    "    filter(dataset == 'emperical') %>%\n",
    "    select(SIM_rep, OTU, mean_rel_abund, BD_range, BD_range_perc)\n",
    "\n",
    "df.12 = inner_join(df.1, df.2, c('OTU' = 'OTU')) %>%\n",
    "    mutate(BD_diff_perc = BD_range_perc.x - BD_range_perc.y)\n",
    "\n",
    "\n",
    "df.12$SIM_rep.x = reorder(df.12$SIM_rep.x, df.12$SIM_rep.x  %>% as.numeric)\n",
    "\n",
    "## plotting\n",
    "p1 = ggplot(df.12, aes(mean_rel_abund.x, mean_rel_abund.y)) +\n",
    "    geom_point(alpha=0.5) +\n",
    "    scale_x_log10() +\n",
    "    scale_y_log10() +\n",
    "    labs(x='Relative abundance (simulated)', y='Relative abundance (emperical)') +\n",
    "    facet_wrap(~ SIM_rep.x)\n",
    "    theme_bw() +\n",
    "    theme(\n",
    "        text = element_text(size=16),\n",
    "        panel.grid = element_blank(),\n",
    "        legend.position = 'none'\n",
    "        )\n",
    "p1"
   ]
  },
  {
   "cell_type": "markdown",
   "metadata": {},
   "source": [
    "### Correlation between relative abundance and BD_range diff\n",
    "\n",
    "* Are low abundant taxa more variable in their BD span"
   ]
  },
  {
   "cell_type": "code",
   "execution_count": null,
   "metadata": {
    "collapsed": false
   },
   "outputs": [],
   "source": [
    "%%R -w 800 -h 500\n",
    "\n",
    "ggplot(df.12, aes(mean_rel_abund.x, BD_diff_perc)) +\n",
    "    geom_point(alpha=0.5) +\n",
    "    scale_x_log10() +\n",
    "    labs(x='Relative abundance', \n",
    "         y='Difference in % of gradient spanned\\n(simulated vs emperical)',\n",
    "         title='Overlapping taxa') +\n",
    "    facet_wrap(~ SIM_rep.x) +\n",
    "    theme_bw() +\n",
    "    theme(\n",
    "        text = element_text(size=16),\n",
    "        panel.grid = element_blank(),\n",
    "        legend.position = 'none'\n",
    "        )\n"
   ]
  },
  {
   "cell_type": "code",
   "execution_count": null,
   "metadata": {
    "collapsed": true
   },
   "outputs": [],
   "source": []
  },
  {
   "cell_type": "markdown",
   "metadata": {},
   "source": [
    "# Plotting abundance distributions"
   ]
  },
  {
   "cell_type": "code",
   "execution_count": null,
   "metadata": {
    "collapsed": false
   },
   "outputs": [],
   "source": [
    "%%R -w 800 -h 400\n",
    "\n",
    "plot_abund_dists = function(df.EMP.j, df.SIM.j, sim_rep){\n",
    "    ## emperical \n",
    "    df.EMP.j.f = df.EMP.j %>%\n",
    "        filter(abundance > 0) %>%\n",
    "        dplyr::select(OTU, sample, abundance, Buoyant_density, bulk_abund) %>%\n",
    "        mutate(dataset = 'emperical') \n",
    "    \n",
    "    ## simulated\n",
    "    df.SIM.j.f = df.SIM.j %>%\n",
    "        filter(SIM_rep == sim_rep) %>%\n",
    "        filter(count > 0) %>%\n",
    "        dplyr::select(taxon, fraction, count, BD_mid, bulk_abund) %>%\n",
    "        rename('OTU' = taxon,\n",
    "               'sample' = fraction,\n",
    "               'Buoyant_density' = BD_mid,\n",
    "               'abundance' = count) %>%\n",
    "        mutate(dataset = 'simulated') \n",
    "    \n",
    "    df.j = rbind(df.EMP.j.f, df.SIM.j.f) %>%\n",
    "        group_by(sample) %>%\n",
    "        mutate(rel_abund = abundance / sum(abundance))\n",
    "    \n",
    "    title = paste0('Simulation Replicate ', sim_rep)\n",
    "    \n",
    "    p = ggplot(df.j, aes(Buoyant_density, abundance, fill=OTU)) +\n",
    "        geom_area(stat='identity', position='dodge', alpha=0.5) +\n",
    "        labs(x='Buoyant density', y='Subsampled community\\n(absolute abundance)', title=title) +\n",
    "        facet_grid(dataset ~ .) +\n",
    "        theme_bw() +\n",
    "        theme( \n",
    "            text = element_text(size=16),\n",
    "            legend.position = 'none',\n",
    "              axis.title.y = element_text(vjust=1),        \n",
    "              axis.title.x = element_blank(),\n",
    "              plot.margin=unit(c(0.1,1,0.1,1), \"cm\")\n",
    "             )\n",
    "    return(p)\n",
    "    }\n",
    "\n",
    "plot_abund_dists(df.EMP.j, df.SIM.j, sim_rep=1)"
   ]
  },
  {
   "cell_type": "code",
   "execution_count": null,
   "metadata": {
    "collapsed": false
   },
   "outputs": [],
   "source": [
    "%%R -w 800 -h 400\n",
    "\n",
    "plot_abund_dists(df.EMP.j, df.SIM.j, sim_rep=2)"
   ]
  },
  {
   "cell_type": "code",
   "execution_count": null,
   "metadata": {
    "collapsed": false
   },
   "outputs": [],
   "source": [
    "%%R -w 800 -h 400\n",
    "\n",
    "plot_abund_dists(df.EMP.j, df.SIM.j, sim_rep=3)"
   ]
  },
  {
   "cell_type": "code",
   "execution_count": null,
   "metadata": {
    "collapsed": false
   },
   "outputs": [],
   "source": [
    "%%R -w 800 -h 400\n",
    "\n",
    "plot_abund_dists(df.EMP.j, df.SIM.j, sim_rep=4)"
   ]
  },
  {
   "cell_type": "code",
   "execution_count": null,
   "metadata": {
    "collapsed": false
   },
   "outputs": [],
   "source": [
    "%%R -w 800 -h 400\n",
    "\n",
    "plot_abund_dists(df.EMP.j, df.SIM.j, sim_rep=5)"
   ]
  },
  {
   "cell_type": "code",
   "execution_count": null,
   "metadata": {
    "collapsed": false
   },
   "outputs": [],
   "source": [
    "%%R -w 800 -h 400\n",
    "\n",
    "plot_abund_dists(df.EMP.j, df.SIM.j, sim_rep=6)"
   ]
  },
  {
   "cell_type": "code",
   "execution_count": null,
   "metadata": {
    "collapsed": false
   },
   "outputs": [],
   "source": [
    "%%R -w 800 -h 400\n",
    "\n",
    "plot_abund_dists(df.EMP.j, df.SIM.j, sim_rep=10)"
   ]
  },
  {
   "cell_type": "markdown",
   "metadata": {},
   "source": [
    "#### Notes\n",
    "\n",
    "* The lack of full-BD span for some simulation replicates is due to certain low/high GC taxa being very abundant"
   ]
  }
 ],
 "metadata": {
  "hide_input": true,
  "kernelspec": {
   "display_name": "Python 2",
   "language": "python",
   "name": "python2"
  },
  "language_info": {
   "codemirror_mode": {
    "name": "ipython",
    "version": 2
   },
   "file_extension": ".py",
   "mimetype": "text/x-python",
   "name": "python",
   "nbconvert_exporter": "python",
   "pygments_lexer": "ipython2",
   "version": "2.7.11"
  }
 },
 "nbformat": 4,
 "nbformat_minor": 0
}
