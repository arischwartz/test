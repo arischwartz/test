{
 "cells": [
  {
   "cell_type": "markdown",
   "metadata": {
    "code_folding": []
   },
   "source": [
    "# Goal\n",
    "\n",
    "* Creating wrapper functions for simulating a gradient with SIPSim\n",
    "  * will help to run multiple gradients through pipeline\n",
    "  * also will help to try differing params for validation"
   ]
  },
  {
   "cell_type": "markdown",
   "metadata": {},
   "source": [
    "## Input parameters\n",
    "  * phyloseq.bulk file \n",
    "  * taxon mapping file\n",
    "  * list of genomes\n",
    "  * fragments simulated for all genomes\n",
    "  * bulk community richness\n",
    "\n",
    "\n",
    "## workflow\n",
    "\n",
    "* Creating a community file from OTU abundances in bulk soil samples\n",
    "  * phyloseq.bulk --> OTU table --> filter to sample --> community table format\n",
    "* Fragment simulation\n",
    "  * simulated_fragments --> parse out fragments for target OTUs \n",
    "  * simulated_fragments --> parse out fragments from random genomes to obtain richness of interest\n",
    "  * combine fragment python objects\n",
    "* Convert fragment lists to kde object\n",
    "* Add diffusion\n",
    "* Make incorp config file\n",
    "* Add isotope incorporation\n",
    "* Calculating BD shift from isotope incorp\n",
    "* Simulating gradient fractions\n",
    "* Simulating OTU table\n",
    "* Simulating PCR\n",
    "* Subsampling from the OTU table\n",
    "* Adding count error"
   ]
  },
  {
   "cell_type": "markdown",
   "metadata": {},
   "source": [
    "# Possible methods for validation\n",
    "\n",
    "## Number of taxa \n",
    "\n",
    "* Create BD range interval\n",
    "* For each BD range interval:\n",
    "  * Weighted mean of number of taxa for actual and simulated\n",
    "  * Calculate pearsons correlation coef\n",
    " \n",
    "## Center & distribution of mass \n",
    "\n",
    "* [CSIP center of mass notebook](https://github.com/chuckpr/CSIP_succession_data_analysis/blob/master/figures_and_stats/OTU_density_shifts.ipynb)\n",
    "  * see wavg() function\n",
    "* [interpolating compositional data](https://www.researchgate.net/post/Interpolating_compositional_data_ie_soil_particle_size_fraction/1)\n",
    "\n",
    "\n",
    "* For each taxon:\n",
    "  * Calculate center of mass BD value\n",
    "  * Calculate distribution of mass (95%) for BD values\n",
    "  \n",
    "  "
   ]
  },
  {
   "cell_type": "markdown",
   "metadata": {},
   "source": [
    "## Init"
   ]
  },
  {
   "cell_type": "code",
   "execution_count": 1,
   "metadata": {
    "collapsed": false
   },
   "outputs": [],
   "source": [
    "import os\n",
    "import glob\n",
    "import cPickle as pickle\n",
    "import copy\n",
    "import re\n",
    "import nestly"
   ]
  },
  {
   "cell_type": "code",
   "execution_count": 2,
   "metadata": {
    "collapsed": false
   },
   "outputs": [],
   "source": [
    "%load_ext rpy2.ipython"
   ]
  },
  {
   "cell_type": "code",
   "execution_count": 3,
   "metadata": {
    "collapsed": false
   },
   "outputs": [
    {
     "name": "stderr",
     "output_type": "stream",
     "text": [
      "/opt/anaconda/lib/python2.7/site-packages/rpy2/robjects/functions.py:106: UserWarning: \n",
      "Attaching package: ‘dplyr’\n",
      "\n",
      "\n",
      "  res = super(Function, self).__call__(*new_args, **new_kwargs)\n",
      "/opt/anaconda/lib/python2.7/site-packages/rpy2/robjects/functions.py:106: UserWarning: The following objects are masked from ‘package:stats’:\n",
      "\n",
      "    filter, lag\n",
      "\n",
      "\n",
      "  res = super(Function, self).__call__(*new_args, **new_kwargs)\n",
      "/opt/anaconda/lib/python2.7/site-packages/rpy2/robjects/functions.py:106: UserWarning: The following objects are masked from ‘package:base’:\n",
      "\n",
      "    intersect, setdiff, setequal, union\n",
      "\n",
      "\n",
      "  res = super(Function, self).__call__(*new_args, **new_kwargs)\n"
     ]
    }
   ],
   "source": [
    "%%R\n",
    "library(ggplot2)\n",
    "library(dplyr)\n",
    "library(tidyr)\n",
    "library(gridExtra)\n",
    "library(phyloseq)\n",
    "\n",
    "## BD for G+C of 0 or 100\n",
    "BD.GCp0 = 0 * 0.098 + 1.66\n",
    "BD.GCp100 = 1 * 0.098 + 1.66"
   ]
  },
  {
   "cell_type": "markdown",
   "metadata": {},
   "source": [
    "# Input variables"
   ]
  },
  {
   "cell_type": "code",
   "execution_count": 4,
   "metadata": {
    "collapsed": true
   },
   "outputs": [],
   "source": [
    "# work_dir = '/home/nick/notebook/SIPSim/dev/fullCyc/frag_norm_9_2.5_-5/'\n",
    "# genome_index = '/home/nick/notebook/SIPSim/dev/bac_genome1210/genomes/genome_index.txt'\n",
    "# genome_dir = '/home/nick/notebook/SIPSim/dev/bac_genome1210/genomes/'\n",
    "# primer_file = '/home/nick/notebook/SIPSim/dev/515F-806R.fna'\n",
    "\n",
    "# target_file = '/home/nick/notebook/SIPSim/dev/fullCyc/CD-HIT/target_taxa.txt'\n",
    "\n",
    "# physeq_dir = '/home/nick/notebook/fullCyc/data/MiSeq_16S/515f-806r/V4_Lib1-7/phyloseq/'\n",
    "# physeq_bulkCore = 'bulk-core'\n",
    "# physeq_SIP_core = 'SIP-core_unk'\n",
    "# physeq_SIP_core_spar = 'SIP-core_unk_spar0.3'\n",
    "# bulk_day = 1\n",
    "\n",
    "# seq_per_fraction = ['lognormal', 9.432, 0.5]\n",
    "\n",
    "# nprocs = 12"
   ]
  },
  {
   "cell_type": "code",
   "execution_count": 6,
   "metadata": {
    "collapsed": false
   },
   "outputs": [],
   "source": [
    "#if not os.path.isdir(work_dir):\n",
    "#    os.makedirs(work_dir)"
   ]
  },
  {
   "cell_type": "markdown",
   "metadata": {},
   "source": [
    "# Nestly\n",
    "\n",
    "* assuming fragments already simulated"
   ]
  },
  {
   "cell_type": "code",
   "execution_count": 24,
   "metadata": {
    "collapsed": false
   },
   "outputs": [],
   "source": [
    "workDir = '/home/nick/notebook/SIPSim/dev/fullCyc/frag_norm_9_2.5_n5'\n",
    "buildDir = os.path.join(workDir, 'default_run')\n",
    "R_dir = '/home/nick/notebook/SIPSim/lib/R/'\n",
    "\n",
    "fragFile= os.path.join(workDir, 'ampFrags.pkl')\n",
    "targetFile = '/home/nick/notebook/SIPSim/dev/fullCyc/CD-HIT/target_taxa.txt'\n",
    "\n",
    "physeqDir = '/var/seq_data/fullCyc/MiSeq_16SrRNA/515f-806r/lib1-7/phyloseq/'\n",
    "physeq_bulkCore = 'bulk-core'\n",
    "physeq_SIP_core = 'SIP-core_unk'\n",
    "\n",
    "seq_per_fraction = ['lognormal', 9.432, 0.5, 10000, 80000] # dist, mean, scale, min, max\n",
    "nprocs = 30"
   ]
  },
  {
   "cell_type": "code",
   "execution_count": 25,
   "metadata": {
    "collapsed": false
   },
   "outputs": [],
   "source": [
    "# building tree structure\n",
    "nest = nestly.Nest()\n",
    "\n",
    "## varying params\n",
    "nest.add('bulk_day', [1])\n",
    "\n",
    "## set params\n",
    "nest.add('percIncorp', [0], create_dir=False)\n",
    "nest.add('percTaxa', [0], create_dir=False)\n",
    "nest.add('np', [nprocs], create_dir=False)\n",
    "nest.add('abs', ['5e9'], create_dir=False)\n",
    "nest.add('subsample_dist', [seq_per_fraction[0]], create_dir=False)\n",
    "nest.add('subsample_mean', [seq_per_fraction[1]], create_dir=False)\n",
    "nest.add('subsample_scale', [seq_per_fraction[2]], create_dir=False)\n",
    "nest.add('subsample_min', [seq_per_fraction[3]], create_dir=False)\n",
    "nest.add('subsample_max', [seq_per_fraction[4]], create_dir=False)\n",
    "\n",
    "### input/output files\n",
    "nest.add('buildDir', [buildDir], create_dir=False)\n",
    "nest.add('R_dir', [R_dir], create_dir=False)\n",
    "nest.add('fragFile', [fragFile], create_dir=False)\n",
    "nest.add('targetFile', [targetFile], create_dir=False)\n",
    "nest.add('physeqDir', [physeqDir], create_dir=False)\n",
    "nest.add('physeq_bulkCore', [physeq_bulkCore], create_dir=False)\n",
    "\n",
    "\n",
    "# building directory tree\n",
    "nest.build(buildDir)\n",
    "\n",
    "# bash file to run\n",
    "bashFile = os.path.join(buildDir, 'SIPSimRun.sh')"
   ]
  },
  {
   "cell_type": "code",
   "execution_count": 26,
   "metadata": {
    "collapsed": false
   },
   "outputs": [
    {
     "name": "stdout",
     "output_type": "stream",
     "text": [
      "Writing /home/nick/notebook/SIPSim/dev/fullCyc/frag_norm_9_2.5_n5/default_run/SIPSimRun.sh\n"
     ]
    }
   ],
   "source": [
    "%%writefile $bashFile\n",
    "#!/bin/bash\n",
    "\n",
    "export PATH={R_dir}:$PATH\n",
    "\n",
    "#-- making DNA pool similar to gradient of interest\n",
    "echo '# Creating comm file from phyloseq'\n",
    "phyloseq2comm.r {physeqDir}{physeq_bulkCore} -s 12C-Con -d {bulk_day} > {physeq_bulkCore}_comm.txt\n",
    "printf 'Number of lines: '; wc -l {physeq_bulkCore}_comm.txt\n",
    "\n",
    "echo '## Adding target taxa to comm file'\n",
    "comm_add_target.r {physeq_bulkCore}_comm.txt {targetFile} > {physeq_bulkCore}_comm_target.txt\n",
    "printf 'Number of lines: '; wc -l {physeq_bulkCore}_comm_target.txt\n",
    "\n",
    "echo '## parsing out genome fragments to make simulated DNA pool resembling the gradient of interest'\n",
    "## all OTUs without an associated reference genome will be assigned a random reference (of the reference genome pool)\n",
    "### this is done through --NA-random\n",
    "SIPSim fragment_kde_parse {fragFile} {physeq_bulkCore}_comm_target.txt \\\n",
    "    --rename taxon_name --NA-random > fragsParsed.pkl\n",
    "#echo '### target'\n",
    "#SIPSim fragment_kde_parse {fragFile} {physeq_bulkCore}_comm_target.txt \\\n",
    "#    --rename taxon_name > frags_target.pkl\n",
    "#echo '### non-target'\n",
    "#SIPSim fragment_kde_parse {fragFile} {physeq_bulkCore}_comm_target.txt \\\n",
    "#    --rename taxon_name --invert > frags_nontarget.pkl\n",
    "#echo '### combining'\n",
    "#SIPSim fragment_kde_cat frags_target.pkl frags_nontarget.pkl > fragsComb.pkl\n",
    "\n",
    "\n",
    "echo '#-- SIPSim pipeline --#'\n",
    "echo '# simulating gradient fractions'\n",
    "SIPSim gradient_fractions \\\n",
    "    {physeq_bulkCore}_comm_target.txt \\\n",
    "    > fracs.txt    \n",
    "    \n",
    "echo '# making incorp file'\n",
    "SIPSim incorpConfigExample \\\n",
    "  --percTaxa {percTaxa} \\\n",
    "  --percIncorpUnif {percIncorp} \\\n",
    "  > {percTaxa}_{percIncorp}.config\n",
    "\n",
    "echo '# adding isotope incorporation to BD distribution'\n",
    "SIPSim isotope_incorp \\\n",
    "    fragsParsed.pkl \\\n",
    "    {percTaxa}_{percIncorp}.config \\\n",
    "    --comm {physeq_bulkCore}_comm_target.txt \\\n",
    "    --np {np} \\\n",
    "    > fragsParsed_incorp.pkl\n",
    " \n",
    "echo '# calculating BD shift from isotope incorporation'\n",
    "echo '## SKIP'\n",
    "#SIPSim BD_shift \\\n",
    "#    fragsComb.pkl \\\n",
    "#    fragsComb_incorp.pkl \\\n",
    "#    --np {np} \\\n",
    "#    > fragsComb_incorp_BD-shift.txt\n",
    "\n",
    "echo '# simulating an OTU table'\n",
    "SIPSim OTU_table \\\n",
    "    fragsParsed_incorp.pkl \\\n",
    "    --comm {physeq_bulkCore}_comm_target.txt \\\n",
    "    fracs.txt \\\n",
    "    --abs {abs} \\\n",
    "    --np {np} \\\n",
    "    > OTU_abs{abs}.txt\n",
    "    \n",
    "echo '# simulating PCR'\n",
    "SIPSim OTU_PCR \\\n",
    "    OTU_abs{abs}.txt \\\n",
    "    > OTU_abs{abs}_PCR.txt    \n",
    "    \n",
    "echo '# subsampling from the OTU table (simulating sequencing of the DNA pool)'\n",
    "SIPSim OTU_subsample \\\n",
    "    --dist {subsample_dist} \\\n",
    "    --dist_params loc:{subsample_mean},scale:{subsample_scale} \\\n",
    "    --min_size {subsample_min} \\\n",
    "    --max_size {subsample_max} \\\n",
    "    OTU_abs{abs}_PCR.txt \\\n",
    "    > OTU_abs{abs}_PCR_sub.txt\n",
    "    \n",
    "echo '# adding count error'\n",
    "SIPSim OTU_add_error \\\n",
    "    OTU_abs{abs}_PCR_sub.txt \\\n",
    "    > OTU_abs{abs}_PCR_sub_negBin.txt \n",
    "    \n",
    "echo '# making a wide-formatted table'\n",
    "SIPSim OTU_wideLong -w \\\n",
    "    OTU_abs{abs}_PCR_sub_negBin.txt \\\n",
    "    > OTU_abs{abs}_PCR_sub_negBin_w.txt\n",
    "    \n",
    "echo '# making metadata (phyloseq: sample_data)'\n",
    "SIPSim OTU_sampleData \\\n",
    "    OTU_abs{abs}_PCR_sub_negBin.txt \\\n",
    "    > OTU_abs{abs}_PCR_sub_negBin_meta.txt"
   ]
  },
  {
   "cell_type": "code",
   "execution_count": 27,
   "metadata": {
    "collapsed": false
   },
   "outputs": [
    {
     "name": "stdout",
     "output_type": "stream",
     "text": [
      "2015-11-30 19:41:00,001 * INFO * Template: ./SIPSimRun.sh\n",
      "2015-11-30 19:41:00,004 * INFO * [15832] Started ./SIPSimRun.sh in default_run/1\n",
      "2015-11-30 19:54:15,056 * WARNING * [15832] default_run/1 Finished with non-zero exit status 1\n",
      "  File \"/opt/anaconda/lib/python2.7/site-packages/pandas/io/parsers.py\", line 250, in _read\n",
      "    parser = TextFileReader(filepath_or_buffer, **kwds)\n",
      "  File \"/opt/anaconda/lib/python2.7/site-packages/pandas/io/parsers.py\", line 566, in __init__\n",
      "    self._make_engine(self.engine)\n",
      "  File \"/opt/anaconda/lib/python2.7/site-packages/pandas/io/parsers.py\", line 705, in _make_engine\n",
      "    self._engine = CParserWrapper(self.f, **self.options)\n",
      "  File \"/opt/anaconda/lib/python2.7/site-packages/pandas/io/parsers.py\", line 1072, in __init__\n",
      "    self._reader = _parser.TextReader(src, **kwds)\n",
      "  File \"pandas/parser.pyx\", line 512, in pandas.parser.TextReader.__cinit__ (pandas/parser.c:4814)\n",
      "ValueError: No columns to parse from file\n",
      "\n"
     ]
    }
   ],
   "source": [
    "!chmod 777 $bashFile\n",
    "!cd $workDir; \\\n",
    "    nestrun  --template-file $bashFile -d default_run --log-file log.txt"
   ]
  },
  {
   "cell_type": "markdown",
   "metadata": {},
   "source": [
    "# WAITING"
   ]
  },
  {
   "cell_type": "code",
   "execution_count": 21,
   "metadata": {
    "collapsed": false
   },
   "outputs": [
    {
     "name": "stdout",
     "output_type": "stream",
     "text": [
      "Loading fragment_kde object...\n",
      "Parsing fragments...\n",
      "Number of genomes with simulated fragments: 1210\n",
      "........................................................................................................................................................................................................\n"
     ]
    }
   ],
   "source": [
    "#-- debug --#\n",
    "!cd ~/notebook/SIPSim/dev/fullCyc/frag_norm_9_2.5_n5/default_run/1; \\\n",
    "    SIPSim fragment_kde_parse \\\n",
    "    /home/nick/notebook/SIPSim/dev/fullCyc/frag_norm_9_2.5_n5/ampFrags.pkl \\\n",
    "    bulk-core_comm_target.txt \\\n",
    "    --rename taxon_name \\\n",
    "    --NA-random > fragsTEST2.pkl"
   ]
  },
  {
   "cell_type": "markdown",
   "metadata": {},
   "source": [
    "# WAITING"
   ]
  },
  {
   "cell_type": "code",
   "execution_count": 207,
   "metadata": {
    "collapsed": true
   },
   "outputs": [],
   "source": [
    "#-- debug --#\n",
    "SIPSim isotope_incorp fragsParsed.pkl 0_0.config --comm bulk-core_comm_target.txt \n",
    "    > fragsParsed_incorp.pkl\n",
    "    \n",
    "    \n",
    "SIPSim fragment_kde_parse /home/nick/notebook/SIPSim/dev/fullCyc/frag_norm_9_2.5_n5/ampFrags.pkl bulk-core_comm_target.txt --rename taxon_name    "
   ]
  },
  {
   "cell_type": "code",
   "execution_count": null,
   "metadata": {
    "collapsed": true
   },
   "outputs": [],
   "source": []
  },
  {
   "cell_type": "code",
   "execution_count": null,
   "metadata": {
    "collapsed": true
   },
   "outputs": [],
   "source": [
    "# RESTART\n",
    "!cd $workDir; rm -rf $buildDir"
   ]
  },
  {
   "cell_type": "code",
   "execution_count": 39,
   "metadata": {
    "collapsed": false
   },
   "outputs": [
    {
     "data": {
      "text/plain": [
       "[1] 2008\n",
       "[1] 2008\n",
       "[1] 2008\n"
      ]
     },
     "metadata": {},
     "output_type": "display_data"
    }
   ],
   "source": [
    "%%R \n",
    "#-- debug\n",
    "df.id = read.delim('/home/nick/notebook/SIPSim/dev/fullCyc/frag_norm_9_2.5_n5/default_run/1/fragsParsed_IDs.txt', sep='\\t', header=F)\n",
    "df.comm = read.delim('/home/nick/notebook/SIPSim/dev/fullCyc/frag_norm_9_2.5_n5/default_run/1/bulk-core_comm_target.txt', sep='\\t')\n",
    "\n",
    "df.id %>% nrow %>% print\n",
    "df.comm %>% nrow %>% print\n",
    "inner_join(df.id, df.comm, c('V1' = 'taxon_name')) %>% nrow %>% print"
   ]
  },
  {
   "cell_type": "markdown",
   "metadata": {},
   "source": [
    "***\n",
    "***\n",
    "***"
   ]
  },
  {
   "cell_type": "markdown",
   "metadata": {},
   "source": [
    "# Creating a community file from bulk soil sample\n",
    "\n",
    "* will be used to determine community richness"
   ]
  },
  {
   "cell_type": "markdown",
   "metadata": {},
   "source": [
    "### bulk-core samples"
   ]
  },
  {
   "cell_type": "code",
   "execution_count": 386,
   "metadata": {
    "collapsed": false
   },
   "outputs": [
    {
     "data": {
      "text/plain": [
       "phyloseq-class experiment-level object\n",
       "otu_table()   OTU Table:         [ 4950 taxa and 9 samples ]\n",
       "sample_data() Sample Data:       [ 9 samples by 17 sample variables ]\n",
       "tax_table()   Taxonomy Table:    [ 4950 taxa by 8 taxonomic ranks ]\n",
       "phy_tree()    Phylogenetic Tree: [ 4950 tips and 4949 internal nodes ]\n"
      ]
     },
     "metadata": {},
     "output_type": "display_data"
    }
   ],
   "source": [
    "%%R -i physeq_dir -i physeq_bulkCore\n",
    "# bulk core samples\n",
    "F = file.path(physeq_dir, physeq_bulkCore)\n",
    "physeq.bulk = readRDS(F)\n",
    "physeq.bulk.m = physeq.bulk %>% sample_data\n",
    "physeq.bulk"
   ]
  },
  {
   "cell_type": "code",
   "execution_count": 387,
   "metadata": {
    "collapsed": false
   },
   "outputs": [
    {
     "data": {
      "text/plain": [
       "phyloseq-class experiment-level object\n",
       "otu_table()   OTU Table:         [ 2008 taxa and 1 samples ]\n",
       "sample_data() Sample Data:       [ 1 samples by 17 sample variables ]\n",
       "tax_table()   Taxonomy Table:    [ 2008 taxa by 8 taxonomic ranks ]\n",
       "phy_tree()    Phylogenetic Tree: [ 2008 tips and 2007 internal nodes ]\n"
      ]
     },
     "metadata": {},
     "output_type": "display_data"
    }
   ],
   "source": [
    "%%R -i bulk_day\n",
    "# just 12C-Con samples\n",
    "physeq.bulk.12C = prune_samples(physeq.bulk.m$Substrate == '12C-Con' & \n",
    "                                physeq.bulk.m$Day == bulk_day, physeq.bulk) %>%\n",
    "    filter_taxa(function(x) sum(x) > 0, TRUE)\n",
    "physeq.bulk.12C.m = physeq.bulk.12C %>% sample_data\n",
    "physeq.bulk.12C"
   ]
  },
  {
   "cell_type": "code",
   "execution_count": 389,
   "metadata": {
    "collapsed": false
   },
   "outputs": [
    {
     "data": {
      "text/plain": [
       "Community richness:  2008 \n",
       "File written:  /home/nick/notebook/SIPSim/dev/fullCyc/frag_norm_9_2.5_-5//comm_bulk_12C-Con.D1.txt \n"
      ]
     },
     "metadata": {},
     "output_type": "display_data"
    }
   ],
   "source": [
    "%%R -i work_dir -i bulk_day\n",
    "\n",
    "physeq2comm = function(physeq){\n",
    "    df.otu = physeq %>% otu_table %>% as.matrix %>% as.data.frame\n",
    "    df.otu$taxon_name = rownames(df.otu)\n",
    "    df.otu = gather(df.otu, 'sample', 'abundance', 1:(ncol(df.otu)-1))\n",
    "    df.otu = df.otu %>%\n",
    "        group_by(sample) %>%\n",
    "        mutate(rel_abund_perc = abundance / sum(abundance) * 100,\n",
    "               rank = row_number(-abundance)) %>%\n",
    "        ungroup() %>%\n",
    "        mutate(library = gsub('^', '_', sample) %>% as.factor %>% as.numeric) %>%\n",
    "        select(library, taxon_name, rel_abund_perc, rank) %>%\n",
    "        arrange(library, rank)\n",
    "    return(df.otu)\n",
    "}\n",
    "\n",
    "comm.bulk.12C = physeq2comm(physeq.bulk.12C)\n",
    "cat('Community richness: ', comm.bulk.12C$taxon_name %>% unique %>% length, '\\n')\n",
    "\n",
    "# writing out comm file\n",
    "x = paste(c('comm_bulk_12C-Con.D',bulk_day, '.txt'), collapse='')\n",
    "comm_file = file.path(work_dir, x)\n",
    "write.table(comm.bulk.12C, comm_file, quote=FALSE, row.names=FALSE, sep='\\t')\n",
    "cat('File written: ', comm_file, '\\n')"
   ]
  },
  {
   "cell_type": "markdown",
   "metadata": {},
   "source": [
    "### Adding on target (OTU <--> genome) to comm object\n",
    "\n",
    "* For selecting target & non-target OTUs and then parsing out genome fragments"
   ]
  },
  {
   "cell_type": "code",
   "execution_count": 390,
   "metadata": {
    "collapsed": false
   },
   "outputs": [
    {
     "data": {
      "text/plain": [
       "  library taxon_name rel_abund_perc rank cluster\n",
       "1       1  OTU.14142       5.918292    1      NA\n",
       "2       1      OTU.2       5.856579    2     134\n",
       "3       1  OTU.12920       4.424833    3      NA\n",
       "                                                                ssu_ID\n",
       "1                                                                 <NA>\n",
       "2 rRNA_AP012157_Solibacillus_silvestris_StLB046_DNA_290186-291730_DIR+\n",
       "3                                                                 <NA>\n",
       "                                                                                genome_fileID\n",
       "1                                                                                        <NA>\n",
       "2 /home/nick/notebook/SIPSim/dev/bac_genome1210/genomes/Solibacillus_silvestris_StLB046.fasta\n",
       "3                                                                                        <NA>\n",
       "                         genomeID                                 genome_seqID\n",
       "1                            <NA>                                         <NA>\n",
       "2 Solibacillus_silvestris_StLB046 AP012157_Solibacillus_silvestris_StLB046_DNA\n",
       "3                            <NA>                                         <NA>\n",
       "                                                                           OTU_taxonomy\n",
       "1                                                                                  <NA>\n",
       "2 Bacteria:Firmicutes:Bacilli:Bacillales:Bacillaceae:Bacillus:Unclassified:Unclassified\n",
       "3                                                                                  <NA>\n"
      ]
     },
     "metadata": {},
     "output_type": "display_data"
    }
   ],
   "source": [
    "%%R -i target_file \n",
    "\n",
    "df_targets = read.delim(target_file, sep='\\t')\n",
    "comm_bulk_12C_j = left_join(comm.bulk.12C, df_targets, c('taxon_name' = 'OTU')) %>% \n",
    "    as.data.frame %>%\n",
    "    mutate(ssu_ID = ssu_ID %>% as.character,\n",
    "           genome_fileID = genome_fileID %>% as.character,\n",
    "           genomeID = genomeID %>% as.character,\n",
    "           genome_seqID = genome_seqID %>% as.character,\n",
    "           OTU_taxonomy = OTU_taxonomy %>% as.character)\n",
    "comm_bulk_12C_j %>% head(n=3)"
   ]
  },
  {
   "cell_type": "code",
   "execution_count": 391,
   "metadata": {
    "collapsed": false
   },
   "outputs": [
    {
     "data": {
      "text/html": [
       "<div>\n",
       "<table border=\"1\" class=\"dataframe\">\n",
       "  <thead>\n",
       "    <tr style=\"text-align: right;\">\n",
       "      <th></th>\n",
       "      <th>library</th>\n",
       "      <th>taxon_name</th>\n",
       "      <th>rel_abund_perc</th>\n",
       "      <th>rank</th>\n",
       "      <th>cluster</th>\n",
       "      <th>ssu_ID</th>\n",
       "      <th>genome_fileID</th>\n",
       "      <th>genomeID</th>\n",
       "      <th>genome_seqID</th>\n",
       "      <th>OTU_taxonomy</th>\n",
       "    </tr>\n",
       "  </thead>\n",
       "  <tbody>\n",
       "    <tr>\n",
       "      <th>0</th>\n",
       "      <td>1</td>\n",
       "      <td>OTU.14142</td>\n",
       "      <td>5.918292</td>\n",
       "      <td>1</td>\n",
       "      <td>-2147483648</td>\n",
       "      <td>NA</td>\n",
       "      <td>NA</td>\n",
       "      <td>NA</td>\n",
       "      <td>NA</td>\n",
       "      <td>NA</td>\n",
       "    </tr>\n",
       "    <tr>\n",
       "      <th>1</th>\n",
       "      <td>1</td>\n",
       "      <td>OTU.2</td>\n",
       "      <td>5.856579</td>\n",
       "      <td>2</td>\n",
       "      <td>134</td>\n",
       "      <td>rRNA_AP012157_Solibacillus_silvestris_StLB046_...</td>\n",
       "      <td>/home/nick/notebook/SIPSim/dev/bac_genome1210/...</td>\n",
       "      <td>Solibacillus_silvestris_StLB046</td>\n",
       "      <td>AP012157_Solibacillus_silvestris_StLB046_DNA</td>\n",
       "      <td>Bacteria:Firmicutes:Bacilli:Bacillales:Bacilla...</td>\n",
       "    </tr>\n",
       "    <tr>\n",
       "      <th>2</th>\n",
       "      <td>1</td>\n",
       "      <td>OTU.12920</td>\n",
       "      <td>4.424833</td>\n",
       "      <td>3</td>\n",
       "      <td>-2147483648</td>\n",
       "      <td>NA</td>\n",
       "      <td>NA</td>\n",
       "      <td>NA</td>\n",
       "      <td>NA</td>\n",
       "      <td>NA</td>\n",
       "    </tr>\n",
       "  </tbody>\n",
       "</table>\n",
       "</div>"
      ],
      "text/plain": [
       "   library taxon_name  rel_abund_perc  rank     cluster  \\\n",
       "0        1  OTU.14142        5.918292     1 -2147483648   \n",
       "1        1      OTU.2        5.856579     2         134   \n",
       "2        1  OTU.12920        4.424833     3 -2147483648   \n",
       "\n",
       "                                              ssu_ID  \\\n",
       "0                                                 NA   \n",
       "1  rRNA_AP012157_Solibacillus_silvestris_StLB046_...   \n",
       "2                                                 NA   \n",
       "\n",
       "                                       genome_fileID  \\\n",
       "0                                                 NA   \n",
       "1  /home/nick/notebook/SIPSim/dev/bac_genome1210/...   \n",
       "2                                                 NA   \n",
       "\n",
       "                          genomeID  \\\n",
       "0                               NA   \n",
       "1  Solibacillus_silvestris_StLB046   \n",
       "2                               NA   \n",
       "\n",
       "                                   genome_seqID  \\\n",
       "0                                            NA   \n",
       "1  AP012157_Solibacillus_silvestris_StLB046_DNA   \n",
       "2                                            NA   \n",
       "\n",
       "                                        OTU_taxonomy  \n",
       "0                                                 NA  \n",
       "1  Bacteria:Firmicutes:Bacilli:Bacillales:Bacilla...  \n",
       "2                                                 NA  "
      ]
     },
     "execution_count": 391,
     "metadata": {},
     "output_type": "execute_result"
    }
   ],
   "source": [
    "# R to python\n",
    "%Rpull comm_bulk_12C_j\n",
    "comm_bulk_12C_j.head(n=3)"
   ]
  },
  {
   "cell_type": "markdown",
   "metadata": {},
   "source": [
    "# Genome Fragments"
   ]
  },
  {
   "cell_type": "markdown",
   "metadata": {},
   "source": [
    "## Fragment simulation of dataset genomes"
   ]
  },
  {
   "cell_type": "code",
   "execution_count": 10,
   "metadata": {
    "collapsed": true
   },
   "outputs": [],
   "source": [
    "!cd $work_dir; \\\n",
    "    SIPSim fragments \\\n",
    "    $genome_index \\\n",
    "    --fp $genome_dir \\\n",
    "    --fr $primer_file \\\n",
    "    --fld skewed-normal,9000,2500,-5 \\\n",
    "    --flr None,None \\\n",
    "    --nf 10000 \\\n",
    "    --np $nprocs \\\n",
    "    2> ampFrags.log \\\n",
    "    > ampFrags.pkl        "
   ]
  },
  {
   "cell_type": "code",
   "execution_count": 392,
   "metadata": {
    "collapsed": false
   },
   "outputs": [
    {
     "name": "stdout",
     "output_type": "stream",
     "text": [
      "Count of frag-GC KDEs for all genomes: 1210\n"
     ]
    }
   ],
   "source": [
    "# loading amplicon fragments from full genome KDE dataset\n",
    "ampFragFile = os.path.join(work_dir, 'ampFrags.pkl')\n",
    "\n",
    "ampFrag_all = []\n",
    "with open(ampFragFile, 'rb') as iFH:\n",
    "    ampFrag_all = pickle.load(iFH)\n",
    "print 'Count of frag-GC KDEs for all genomes: {}'.format(len(ampFrag_all))    "
   ]
  },
  {
   "cell_type": "markdown",
   "metadata": {},
   "source": [
    "## Parsing out fragments for matching OTU-genomes"
   ]
  },
  {
   "cell_type": "code",
   "execution_count": 397,
   "metadata": {
    "collapsed": false
   },
   "outputs": [
    {
     "name": "stdout",
     "output_type": "stream",
     "text": [
      "Number of OTUs in community with matching genomes: 96\n"
     ]
    }
   ],
   "source": [
    "comm_nontarget = comm_bulk_12C_j.loc[comm_bulk_12C_j['cluster'] >= 0, :]\n",
    "print 'Number of OTUs in community with matching genomes: {}'.format(comm_nontarget.shape[0])"
   ]
  },
  {
   "cell_type": "code",
   "execution_count": 394,
   "metadata": {
    "collapsed": false
   },
   "outputs": [
    {
     "name": "stderr",
     "output_type": "stream",
     "text": [
      "Number of OTU-genome matches: 96\n",
      "Number of genomes with simulated fragments: 1210\n",
      "10,20,30,40,50,60,70,80,90,"
     ]
    }
   ],
   "source": [
    "def parse_target_ampFrags(ampFrags, comm):\n",
    "    # just OTUs in community with matching genome\n",
    "    comm_target = comm.loc[comm['cluster'] >= 0, :]\n",
    "    msg = 'Number of OTU-genome matches: {}\\n'\n",
    "    sys.stderr.write(msg.format(comm_target.shape[0]))\n",
    "                               \n",
    "    # making an index for ampFrag list\n",
    "    target_idx = {g[0]:i for i,g in enumerate(ampFrag_all)}\n",
    "    msg = 'Number of genomes with simulated fragments: {}\\n'\n",
    "    sys.stderr.write(msg.format(len(target_idx))) \n",
    "        \n",
    "    # parsing out ampFrags\n",
    "    ampFrag_target = []\n",
    "    stat_cnt = 0\n",
    "    for count,row in comm_target.iterrows():\n",
    "        stat_cnt += 1\n",
    "        if stat_cnt % 10 == 0:\n",
    "            sys.stderr.write('{},'.format(stat_cnt))\n",
    "        tg = row['genomeID']\n",
    "        try:\n",
    "            idx = target_idx[tg]\n",
    "        except KeyError:\n",
    "            idx = None\n",
    "            msg = 'Cannot find \"{}\" in target list'\n",
    "            print msg.format(tg)\n",
    "        try:\n",
    "            ampFrag_target.append(copy.deepcopy(ampFrags[idx]))\n",
    "        except TypeError:\n",
    "            pass\n",
    "        \n",
    "    # renaming genome fragment KDEs for target OTUs by target OTU-ID\n",
    "    for i in range(comm_target.shape[0]):\n",
    "        ampFrag_target[i][0] =  comm_target.iloc[i,1]               \n",
    "        \n",
    "    # check that all were found\n",
    "    x_len = len(ampFrag_target)\n",
    "    y_len = comm_target.shape[0]\n",
    "    if(x_len != y_len):\n",
    "        msg = 'No matching genomes for {} OTUs!\\n'.format(y_len - x_len)\n",
    "        sys.stderr.write(msg)\n",
    "        \n",
    "    return(ampFrag_target)\n",
    "    \n",
    "# main    \n",
    "ampFrag_target = parse_target_ampFrags(ampFrag_all, comm_bulk_12C_j)"
   ]
  },
  {
   "cell_type": "markdown",
   "metadata": {},
   "source": [
    "## Parsing out fragments of random genomes for all non-matching OTUs "
   ]
  },
  {
   "cell_type": "code",
   "execution_count": 395,
   "metadata": {
    "collapsed": false
   },
   "outputs": [
    {
     "name": "stdout",
     "output_type": "stream",
     "text": [
      "Number of OTUs in community without matching genomes: 1912\n"
     ]
    }
   ],
   "source": [
    "comm_nontarget = comm_bulk_12C_j.loc[comm_bulk_12C_j['cluster'] < 0, :]\n",
    "print 'Number of OTUs in community without matching genomes: {}'.format(comm_nontarget.shape[0])"
   ]
  },
  {
   "cell_type": "code",
   "execution_count": 398,
   "metadata": {
    "collapsed": false
   },
   "outputs": [
    {
     "name": "stderr",
     "output_type": "stream",
     "text": [
      "Number of random taxa needed to reach richness: 2407\n",
      "Number of OTUs in community without matching genomes: 1912\n",
      "Non-target fragment pool size: 1122\n",
      "10,20,30,40,50,60,70,80,90,100,110,120,130,140,150,160,170,180,190,200,210,220,230,240,250,260,270,280,290,300,310,320,330,340,350,360,370,380,390,400,410,420,430,440,450,460,470,480,490,500,510,520,530,540,550,560,570,580,590,600,610,620,630,640,650,660,670,680,690,700,710,720,730,740,750,760,770,780,790,800,810,820,830,840,850,860,870,880,890,900,910,920,930,940,950,960,970,980,990,1000,1010,1020,1030,1040,1050,1060,1070,1080,1090,1100,1110,1120,1130,1140,1150,1160,1170,1180,1190,1200,1210,1220,1230,1240,1250,1260,1270,1280,1290,1300,1310,1320,1330,1340,1350,1360,1370,1380,1390,1400,1410,1420,1430,1440,1450,1460,1470,1480,1490,1500,1510,1520,1530,1540,1550,1560,1570,1580,1590,1600,1610,1620,1630,1640,1650,1660,1670,1680,1690,1700,1710,1720,1730,1740,1750,1760,1770,1780,1790,1800,1810,1820,1830,1840,1850,1860,1870,1880,1890,1900,1910,"
     ]
    }
   ],
   "source": [
    "def parse_target_non_ampFrags(ampFrags, comm): #, richness_needed):\n",
    "    # just OTUs in community with matching genome\n",
    "    comm_nontarget = comm.loc[comm['cluster'] < 0, :]\n",
    "    richness_needed = comm_nontarget.shape[0]\n",
    "    msg = 'Number of OTUs in community without matching genomes: {}\\n'\n",
    "    sys.stderr.write(msg.format(richness_needed))\n",
    "    \n",
    "    # making an index of non-target genome fragments\n",
    "    ## will select randomly from index to select genome fragments\n",
    "    nt = set(comm['genomeID'])\n",
    "    ampFrag_nonTarget_idx = [i for i,x in enumerate(ampFrags) if x[0] not in nt]\n",
    "    pool_size = len(ampFrag_nonTarget_idx)\n",
    "    msg = 'Non-target fragment pool size: {}\\n'\n",
    "    sys.stderr.write(msg.format(pool_size))\n",
    "        \n",
    "    # parsing amp frag\n",
    "    ampFrag_rand = []\n",
    "    if richness_needed > 0:\n",
    "        # random choice index\n",
    "        r_idx = range(len(ampFrag_nonTarget_idx))\n",
    "        r_idx = np.random.choice(r_idx, richness_needed)\n",
    "    \n",
    "        # parsing out randomly selected fragments for each non-target OTU\n",
    "        stat_cnt = 0\n",
    "        for i in r_idx:\n",
    "            stat_cnt += 1\n",
    "            if stat_cnt % 10 == 0:\n",
    "                sys.stderr.write('{},'.format(stat_cnt))\n",
    "            ii = ampFrag_nonTarget_idx[i]\n",
    "            ampFrag_rand.append(copy.deepcopy(ampFrag_all[ii]))\n",
    "        \n",
    "        # renaming randomly selected KDEs by comm OTU_IDs\n",
    "        comm_nontarget_size = comm_nontarget.shape[0]\n",
    "        for i in range(richness_needed):\n",
    "            ampFrag_rand[i][0] = comm_nontarget.iloc[i,1]\n",
    "        \n",
    "        # checking\n",
    "        x_len = len(ampFrag_rand)\n",
    "        if(x_len != richness_needed):\n",
    "            msg = 'Richness != needed richess; non-target richness = {}'\n",
    "            sys.stderr.write(msg.format(x_len))       \n",
    "            \n",
    "    return ampFrag_rand\n",
    "    \n",
    "    \n",
    "# main   \n",
    "## richness needed\n",
    "richness_needed = richness - len(ampFrag_target)\n",
    "msg = 'Number of random taxa needed to reach richness: {}\\n'\n",
    "sys.stderr.write(msg.format(richness_needed))\n",
    "\n",
    "## parsing out fragments\n",
    "ampFrag_rand = parse_target_non_ampFrags(ampFrag_all, comm_bulk_12C_j) #, richness_needed)      "
   ]
  },
  {
   "cell_type": "markdown",
   "metadata": {},
   "source": [
    "## Combining into 1 fragment distribution dataset"
   ]
  },
  {
   "cell_type": "code",
   "execution_count": 401,
   "metadata": {
    "collapsed": false
   },
   "outputs": [
    {
     "name": "stdout",
     "output_type": "stream",
     "text": [
      "CHECKED: amplicon fragment richness == bulk community richness\n"
     ]
    }
   ],
   "source": [
    "# check of richness\n",
    "comm_richness = comm_bulk_12C_j.shape[0]\n",
    "if len(ampFrag_target) + len(ampFrag_rand) != comm_richness:\n",
    "    msg = 'WARNING: incorrect richness!\\n'\n",
    "    sys.stderr.write(msg)\n",
    "else:\n",
    "    print 'CHECKED: amplicon fragment richness == bulk community richness'"
   ]
  },
  {
   "cell_type": "code",
   "execution_count": 402,
   "metadata": {
    "collapsed": false
   },
   "outputs": [
    {
     "name": "stdout",
     "output_type": "stream",
     "text": [
      "Number of taxa in output: 2008\n"
     ]
    }
   ],
   "source": [
    "# appending random taxa to target taxa and writing\n",
    "outFile = os.path.join(work_dir, 'ampFrags_wRand.pkl')\n",
    "\n",
    "with open(outFile, 'wb') as oFH:\n",
    "    x = ampFrag_target + ampFrag_rand\n",
    "    print 'Number of taxa in output: {}'.format(len(x))\n",
    "    pickle.dump(x, oFH)\n",
    "    x = ()"
   ]
  },
  {
   "cell_type": "code",
   "execution_count": 403,
   "metadata": {
    "collapsed": true
   },
   "outputs": [],
   "source": [
    "### remove large ampFrag objects from memory\n",
    "ampFrag_all = ()\n",
    "ampFrag_target = ()\n",
    "ampFrag_rand = ()"
   ]
  },
  {
   "cell_type": "code",
   "execution_count": 340,
   "metadata": {
    "collapsed": false
   },
   "outputs": [
    {
     "name": "stdout",
     "output_type": "stream",
     "text": [
      "Count of frag-GC KDEs for all genomes: 1210\n"
     ]
    }
   ],
   "source": [
    "#-- debug --#\n",
    "ampFragFile = os.path.join(work_dir, 'ampFrags_wRand.pkl')\n",
    "\n",
    "ampFrag_debug = []\n",
    "with open(ampFragFile, 'rb') as iFH:\n",
    "    ampFrag_debug = pickle.load(iFH)\n",
    "print 'Count of frag-GC KDEs for all genomes: {}'.format(len(ampFrag_debug))    "
   ]
  },
  {
   "cell_type": "code",
   "execution_count": 378,
   "metadata": {
    "collapsed": false
   },
   "outputs": [],
   "source": [
    "#-- debug --#\n",
    "#sorted([x[0] for x ina ampFrag_debug], reverse=True)"
   ]
  },
  {
   "cell_type": "markdown",
   "metadata": {},
   "source": [
    "# Converting fragments to kde object"
   ]
  },
  {
   "cell_type": "code",
   "execution_count": 404,
   "metadata": {
    "collapsed": false
   },
   "outputs": [],
   "source": [
    "!cd $work_dir; \\\n",
    "    SIPSim fragment_kde \\\n",
    "    ampFrags_wRand.pkl \\\n",
    "    > ampFrags_wRand_kde.pkl"
   ]
  },
  {
   "cell_type": "markdown",
   "metadata": {},
   "source": [
    "# Adding diffusion"
   ]
  },
  {
   "cell_type": "code",
   "execution_count": 405,
   "metadata": {
    "collapsed": false
   },
   "outputs": [
    {
     "name": "stdout",
     "output_type": "stream",
     "text": [
      "Processing: OTU.752\n",
      "Processing: OTU.1207\n",
      "Processing: OTU.1201\n",
      "Processing: OTU.7657\n",
      "Processing: OTU.740\n",
      "Processing: OTU.741\n",
      "Processing: OTU.1159\n",
      "Processing: OTU.6020\n",
      "Processing: OTU.750\n",
      "Processing: OTU.601\n",
      "Processing: OTU.14085\n",
      "Processing: OTU.8136\n",
      "Processing: OTU.3828\n",
      "Processing: OTU.744\n",
      "Processing: OTU.8844\n",
      "Processing: OTU.346\n",
      "Processing: OTU.9144\n",
      "Processing: OTU.760\n",
      "Processing: OTU.1415\n",
      "Processing: OTU.1416\n",
      "Processing: OTU.756\n",
      "Processing: OTU.1203\n",
      "Processing: OTU.1636\n",
      "Processing: OTU.8216\n",
      "Processing: OTU.9174\n",
      "Processing: OTU.8137\n",
      "Processing: OTU.12162\n",
      "Processing: OTU.745\n",
      "Processing: OTU.611\n",
      "Processing: OTU.1157\n",
      "Processing: OTU.761\n",
      "Processing: OTU.2323\n",
      "Processing: OTU.1418\n",
      "Processing: OTU.231\n",
      "Processing: OTU.2955\n",
      "Processing: OTU.177\n",
      "Processing: OTU.5647\n",
      "Processing: OTU.9406\n",
      "Processing: OTU.1403\n",
      "Processing: OTU.7324\n",
      "Processing: OTU.746\n",
      "Processing: OTU.340\n",
      "Processing: OTU.1151\n",
      "Processing: OTU.766\n",
      "Processing: OTU.2320\n",
      "Processing: OTU.4139\n",
      "Processing: OTU.11847\n",
      "Processing: OTU.1209\n",
      "Processing: OTU.175\n",
      "Processing: OTU.4426\n",
      "Processing: OTU.9953\n",
      "Processing: OTU.4120\n",
      "Processing: OTU.747\n",
      "Processing: OTU.617\n",
      "Processing: OTU.12901\n",
      "Processing: OTU.1952\n",
      "Processing: OTU.7995\n",
      "Processing: OTU.818\n",
      "Processing: OTU.9632\n",
      "Processing: OTU.1208\n",
      "Processing: OTU.174\n",
      "Processing: OTU.12738\n",
      "Processing: OTU.3440\n",
      "Processing: OTU.1406\n",
      "Processing: OTU.2317\n",
      "Processing: OTU.342\n",
      "Processing: OTU.4432\n",
      "Processing: OTU.768\n",
      "Processing: OTU.2325\n",
      "Processing: OTU.8432\n",
      "Processing: OTU.10648\n",
      "Processing: OTU.9777\n",
      "Processing: OTU.173\n",
      "Processing: OTU.13601\n",
      "Processing: OTU.11274\n",
      "Processing: OTU.8117\n",
      "Processing: OTU.5473\n",
      "Processing: OTU.615\n",
      "Processing: OTU.6463\n",
      "Processing: OTU.769\n",
      "Processing: OTU.2324\n",
      "Processing: OTU.8434\n",
      "Processing: OTU.10646\n",
      "Processing: OTU.4334\n",
      "Processing: OTU.172\n",
      "Processing: OTU.7101\n",
      "Processing: OTU.6129\n",
      "Processing: OTU.8115\n",
      "Processing: OTU.5470\n",
      "Processing: OTU.164\n",
      "Processing: OTU.3949\n",
      "Processing: OTU.13121\n",
      "Processing: OTU.917\n",
      "Processing: OTU.3142\n",
      "Processing: OTU.8436\n",
      "Processing: OTU.1376\n",
      "Processing: OTU.14106\n",
      "Processing: OTU.171\n",
      "Processing: OTU.1060\n",
      "Processing: OTU.7531\n",
      "Processing: OTU.9422\n",
      "Processing: OTU.646\n",
      "Processing: OTU.166\n",
      "Processing: OTU.4496\n",
      "Processing: OTU.14158\n",
      "Processing: OTU.4640\n",
      "Processing: OTU.8949\n",
      "Processing: OTU.10642\n",
      "Processing: OTU.344\n",
      "Processing: OTU.9573\n",
      "Processing: OTU.170\n",
      "Processing: OTU.9153\n",
      "Processing: OTU.11071\n",
      "Processing: OTU.134\n",
      "Processing: OTU.6301\n",
      "Processing: OTU.167\n",
      "Processing: OTU.7822\n",
      "Processing: OTU.6784\n",
      "Processing: OTU.1089\n",
      "Processing: OTU.4641\n",
      "Processing: OTU.9437\n",
      "Processing: OTU.10464\n",
      "Processing: OTU.2301\n",
      "Processing: OTU.179\n",
      "Processing: OTU.6672\n",
      "Processing: OTU.1793\n",
      "Processing: OTU.9426\n",
      "Processing: OTU.5478\n",
      "Processing: OTU.160\n",
      "Processing: OTU.2948\n",
      "Processing: OTU.10125\n",
      "Processing: OTU.11652\n",
      "Processing: OTU.1088\n",
      "Processing: OTU.4646\n",
      "Processing: OTU.823\n",
      "Processing: OTU.12945\n",
      "Processing: OTU.178\n",
      "Processing: OTU.3956\n",
      "Processing: OTU.1797\n",
      "Processing: OTU.1795\n",
      "Processing: OTU.8681\n",
      "Processing: OTU.3154\n",
      "Processing: OTU.161\n",
      "Processing: OTU.2946\n",
      "Processing: OTU.9799\n",
      "Processing: OTU.1087\n",
      "Processing: OTU.4647\n",
      "Processing: OTU.1525\n",
      "Processing: OTU.12053\n",
      "Processing: OTU.345\n",
      "Processing: OTU.994\n",
      "Processing: OTU.4684\n",
      "Processing: OTU.8933\n",
      "Processing: OTU.7315\n",
      "Processing: OTU.9797\n",
      "Processing: OTU.162\n",
      "Processing: OTU.1552\n",
      "Processing: OTU.2943\n",
      "Processing: OTU.1086\n",
      "Processing: OTU.12246\n",
      "Processing: OTU.1520\n",
      "Processing: OTU.1436\n",
      "Processing: OTU.996\n",
      "Processing: OTU.6478\n",
      "Processing: OTU.1556\n",
      "Processing: OTU.11053\n",
      "Processing: OTU.9796\n",
      "Processing: OTU.7317\n",
      "Processing: OTU.163\n",
      "Processing: OTU.2942\n",
      "Processing: OTU.10821\n",
      "Processing: OTU.4523\n",
      "Processing: OTU.1521\n",
      "Processing: OTU.8057\n",
      "Processing: OTU.4114\n",
      "Processing: OTU.990\n",
      "Processing: OTU.10091\n",
      "Processing: OTU.11383\n",
      "Processing: OTU.5270\n",
      "Processing: OTU.1378\n",
      "Processing: OTU.12010\n",
      "Processing: OTU.168\n",
      "Processing: OTU.4322\n",
      "Processing: OTU.1083\n",
      "Processing: OTU.2715\n",
      "Processing: OTU.2543\n",
      "Processing: OTU.1435\n",
      "Processing: OTU.993\n",
      "Processing: OTU.2973\n",
      "Processing: OTU.2551\n",
      "Processing: OTU.11058\n",
      "Processing: OTU.1370\n",
      "Processing: OTU.12234\n",
      "Processing: OTU.169\n",
      "Processing: OTU.11664\n",
      "Processing: OTU.5592\n",
      "Processing: OTU.12390\n",
      "Processing: OTU.1432\n",
      "Processing: OTU.2016\n",
      "Processing: OTU.12005\n",
      "Processing: OTU.5257\n",
      "Processing: OTU.838\n",
      "Processing: OTU.3225\n",
      "Processing: OTU.1373\n",
      "Processing: OTU.2171\n",
      "Processing: OTU.2004\n",
      "Processing: OTU.11663\n",
      "Processing: OTU.3817\n",
      "Processing: OTU.1968\n",
      "Processing: OTU.8108\n",
      "Processing: OTU.3549\n",
      "Processing: OTU.3492\n",
      "Processing: OTU.839\n",
      "Processing: OTU.2978\n",
      "Processing: OTU.1532\n",
      "Processing: OTU.1374\n",
      "Processing: OTU.2772\n",
      "Processing: OTU.986\n",
      "Processing: OTU.984\n",
      "Processing: OTU.14212\n",
      "Processing: OTU.5634\n",
      "Processing: OTU.2554\n",
      "Processing: OTU.1964\n",
      "Processing: OTU.1966\n",
      "Processing: OTU.1967\n",
      "Processing: OTU.8457\n",
      "Processing: OTU.2784\n",
      "Processing: OTU.511\n",
      "Processing: OTU.4352\n",
      "Processing: OTU.11900\n",
      "Processing: OTU.1377\n",
      "Processing: OTU.7005\n",
      "Processing: OTU.298\n",
      "Processing: OTU.985\n",
      "Processing: OTU.4228\n",
      "Processing: OTU.13185\n",
      "Processing: OTU.7012\n",
      "Processing: OTU.11594\n",
      "Processing: OTU.2783\n",
      "Processing: OTU.510\n",
      "Processing: OTU.9556\n",
      "Processing: OTU.2005\n",
      "Processing: OTU.1538\n",
      "Processing: OTU.4256\n",
      "Processing: OTU.7006\n",
      "Processing: OTU.988\n",
      "Processing: OTU.1307\n",
      "Processing: OTU.13187\n",
      "Processing: OTU.1438\n",
      "Processing: OTU.1961\n",
      "Processing: OTU.2169\n",
      "Processing: OTU.513\n",
      "Processing: OTU.296\n",
      "Processing: OTU.8220\n",
      "Processing: OTU.5873\n",
      "Processing: OTU.9085\n",
      "Processing: OTU.2576\n",
      "Processing: OTU.1977\n",
      "Processing: OTU.989\n",
      "Processing: OTU.294\n",
      "Processing: OTU.148\n",
      "Processing: OTU.5631\n",
      "Processing: OTU.1439\n",
      "Processing: OTU.12661\n",
      "Processing: OTU.2168\n",
      "Processing: OTU.8550\n",
      "Processing: OTU.514\n",
      "Processing: OTU.14170\n",
      "Processing: OTU.4903\n",
      "Processing: OTU.527\n",
      "Processing: OTU.1974\n",
      "Processing: OTU.12032\n",
      "Processing: OTU.8223\n",
      "Processing: OTU.5315\n",
      "Processing: OTU.5314\n",
      "Processing: OTU.6500\n",
      "Processing: OTU.9455\n",
      "Processing: OTU.13822\n",
      "Processing: OTU.567\n",
      "Processing: OTU.517\n",
      "Processing: OTU.292\n",
      "Processing: OTU.13770\n",
      "Processing: OTU.2575\n",
      "Processing: OTU.1973\n",
      "Processing: OTU.8557\n",
      "Processing: OTU.5253\n",
      "Processing: OTU.12037\n",
      "Processing: OTU.5319\n",
      "Processing: OTU.2427\n",
      "Processing: OTU.12744\n",
      "Processing: OTU.2989\n",
      "Processing: OTU.13285\n",
      "Processing: OTU.1894\n",
      "Processing: OTU.3015\n",
      "Processing: OTU.837\n",
      "Processing: OTU.10272\n",
      "Processing: OTU.3008\n",
      "Processing: OTU.8228\n",
      "Processing: OTU.9\n",
      "Processing: OTU.3487\n",
      "Processing: OTU.506\n",
      "Processing: OTU.522\n",
      "Processing: OTU.12743\n",
      "Processing: OTU.9892\n",
      "Processing: OTU.99\n",
      "Processing: OTU.9457\n",
      "Processing: OTU.1897\n",
      "Processing: OTU.12804\n",
      "Processing: OTU.3786\n",
      "Processing: OTU.5309\n",
      "Processing: OTU.10271\n",
      "Processing: OTU.3556\n",
      "Processing: OTU.8\n",
      "Processing: OTU.523\n",
      "Processing: OTU.504\n",
      "Processing: OTU.1893\n",
      "Processing: OTU.98\n",
      "Processing: OTU.7114\n",
      "Processing: OTU.614\n",
      "Processing: OTU.5066\n",
      "Processing: OTU.13627\n",
      "Processing: OTU.8559\n",
      "Processing: OTU.10270\n",
      "Processing: OTU.7228\n",
      "Processing: OTU.3006\n",
      "Processing: OTU.11867\n",
      "Processing: OTU.1\n",
      "Processing: OTU.1899\n",
      "Processing: OTU.505\n",
      "Processing: OTU.13984\n",
      "Processing: OTU.8694\n",
      "Processing: OTU.3847\n",
      "Processing: OTU.7498\n",
      "Processing: OTU.3022\n",
      "Processing: OTU.88\n",
      "Processing: OTU.415\n",
      "Processing: OTU.4239\n",
      "Processing: OTU.6070\n",
      "Processing: OTU.3\n",
      "Processing: OTU.6206\n",
      "Processing: OTU.4691\n",
      "Processing: OTU.502\n",
      "Processing: OTU.2987\n",
      "Processing: OTU.2052\n",
      "Processing: OTU.91\n",
      "Processing: OTU.199\n",
      "Processing: OTU.7225\n",
      "Processing: OTU.9314\n",
      "Processing: OTU.3798\n",
      "Processing: OTU.1318\n",
      "Processing: OTU.2\n",
      "Processing: OTU.9182\n",
      "Processing: OTU.90\n",
      "Processing: OTU.4695\n",
      "Processing: OTU.503\n",
      "Processing: OTU.10511\n",
      "Processing: OTU.12481\n",
      "Processing: OTU.5469\n",
      "Processing: OTU.198\n",
      "Processing: OTU.7248\n",
      "Processing: OTU.9310\n",
      "Processing: OTU.1317\n",
      "Processing: OTU.775\n",
      "Processing: OTU.774\n",
      "Processing: OTU.12345\n",
      "Processing: OTU.93\n",
      "Processing: OTU.631\n",
      "Processing: OTU.235\n",
      "Processing: OTU.501\n",
      "Processing: OTU.2379\n",
      "Processing: OTU.12488\n",
      "Processing: OTU.194\n",
      "Processing: OTU.188\n",
      "Processing: OTU.83\n",
      "Processing: OTU.777\n",
      "Processing: OTU.1316\n",
      "Processing: OTU.4\n",
      "Processing: OTU.92\n",
      "Processing: OTU.633\n",
      "Processing: OTU.189\n",
      "Processing: OTU.13501\n",
      "Processing: OTU.509\n",
      "Processing: OTU.1509\n",
      "Processing: OTU.1623\n",
      "Processing: OTU.7077\n",
      "Processing: OTU.196\n",
      "Processing: OTU.80\n",
      "Processing: OTU.1310\n",
      "Processing: OTU.634\n",
      "Processing: OTU.637\n",
      "Processing: OTU.6\n",
      "Processing: OTU.95\n",
      "Processing: OTU.182\n",
      "Processing: OTU.13505\n",
      "Processing: OTU.81\n",
      "Processing: OTU.2194\n",
      "Processing: OTU.89\n",
      "Processing: OTU.13759\n",
      "Processing: OTU.770\n",
      "Processing: OTU.191\n",
      "Processing: OTU.638\n",
      "Processing: OTU.643\n",
      "Processing: OTU.5324\n",
      "Processing: OTU.3830\n",
      "Processing: OTU.86\n",
      "Processing: OTU.2950\n",
      "Processing: OTU.10625\n",
      "Processing: OTU.779\n",
      "Processing: OTU.6995\n",
      "Processing: OTU.2195\n",
      "Processing: OTU.8074\n",
      "Processing: OTU.647\n",
      "Processing: OTU.190\n",
      "Processing: OTU.87\n",
      "Processing: OTU.748\n",
      "Processing: OTU.6859\n",
      "Processing: OTU.1098\n",
      "Processing: OTU.4782\n",
      "Processing: OTU.186\n",
      "Processing: OTU.97\n",
      "Processing: OTU.8328\n",
      "Processing: OTU.5521\n",
      "Processing: OTU.6659\n",
      "Processing: OTU.4423\n",
      "Processing: OTU.6286\n",
      "Processing: OTU.193\n",
      "Processing: OTU.84\n",
      "Processing: OTU.749\n",
      "Processing: OTU.9888\n",
      "Processing: OTU.1907\n",
      "Processing: OTU.96\n",
      "Processing: OTU.417\n",
      "Processing: OTU.5652\n",
      "Processing: OTU.184\n",
      "Processing: OTU.185\n",
      "Processing: OTU.7563\n",
      "Processing: OTU.85\n",
      "Processing: OTU.1883\n",
      "Processing: OTU.1141\n",
      "Processing: OTU.6043\n",
      "Processing: OTU.7495\n",
      "Processing: OTU.127\n",
      "Processing: OTU.1095\n",
      "Processing: OTU.9887\n",
      "Processing: OTU.11725\n",
      "Processing: OTU.618\n",
      "Processing: OTU.5651\n",
      "Processing: OTU.2205\n",
      "Processing: OTU.4346\n",
      "Processing: OTU.1146\n",
      "Processing: OTU.1410\n",
      "Processing: OTU.3560\n",
      "Processing: OTU.608\n",
      "Processing: OTU.1097\n",
      "Processing: OTU.2216\n",
      "Processing: OTU.6856\n",
      "Processing: OTU.2207\n",
      "Processing: OTU.7477\n",
      "Processing: OTU.619\n",
      "Processing: OTU.1763\n",
      "**OUTPUT MUTED**"
     ]
    }
   ],
   "source": [
    "!cd $work_dir; \\\n",
    "    SIPSim diffusion \\\n",
    "    ampFrags_wRand_kde.pkl \\\n",
    "    --np $nprocs \\\n",
    "    > ampFrags_wRand_kde_dif.pkl    "
   ]
  },
  {
   "cell_type": "markdown",
   "metadata": {},
   "source": [
    "# Making an incorp config file\n",
    "\n",
    "* no isotope incorporation: 12C-Con sample"
   ]
  },
  {
   "cell_type": "code",
   "execution_count": 406,
   "metadata": {
    "collapsed": true
   },
   "outputs": [],
   "source": [
    "!cd $work_dir; \\\n",
    "    SIPSim incorpConfigExample \\\n",
    "    --percTaxa 0 \\\n",
    "    --percIncorpUnif 0 \\\n",
    "    > PT0_PI0.config"
   ]
  },
  {
   "cell_type": "markdown",
   "metadata": {},
   "source": [
    "# Adding isotope incorporation to BD distribution"
   ]
  },
  {
   "cell_type": "code",
   "execution_count": 407,
   "metadata": {
    "collapsed": false
   },
   "outputs": [
    {
     "name": "stdout",
     "output_type": "stream",
     "text": [
      "Processing: OTU.752\n",
      "Processing: OTU.1201\n",
      "Processing: OTU.7657\n",
      "Processing: OTU.750\n",
      "Processing: OTU.741\n",
      "Processing: OTU.14085\n",
      "Processing: OTU.9144\n",
      "Processing: OTU.8136\n",
      "Processing: OTU.1415\n",
      "Processing: OTU.1416\n",
      "Processing: OTU.756\n",
      "Processing: OTU.744\n",
      "Processing: OTU.177\n",
      "Processing: OTU.1203\n",
      "Processing: OTU.1157\n",
      "Processing: OTU.5647\n",
      "Processing: OTU.1418\n",
      "Processing: OTU.8137\n",
      "Processing: OTU.8844\n",
      "Processing: OTU.2323\n",
      "Processing: OTU.745\n",
      "Processing: OTU.346\n",
      "Processing: OTU.175\n",
      "Processing: OTU.2955\n",
      "Processing: OTU.4426\n",
      "Processing: OTU.1151\n",
      "Processing: OTU.760\n",
      "Processing: OTU.4139\n",
      "Processing: OTU.9406\n",
      "Processing: OTU.2320\n",
      "Processing: OTU.8216\n",
      "Processing: OTU.12162\n",
      "Processing: OTU.746\n",
      "Processing: OTU.611\n",
      "Processing: OTU.1209\n",
      "Processing: OTU.174\n",
      "Processing: OTU.12738\n",
      "Processing: OTU.12901\n",
      "Processing: OTU.761\n",
      "Processing: OTU.1403\n",
      "Processing: OTU.7324\n",
      "Processing: OTU.8432\n",
      "Processing: OTU.9953\n",
      "Processing: OTU.2325\n",
      "Processing: OTU.11847\n",
      "Processing: OTU.747\n",
      "Processing: OTU.340\n",
      "Processing: OTU.4120\n",
      "Processing: OTU.1208\n",
      "Processing: OTU.173\n",
      "Processing: OTU.13601\n",
      "Processing: OTU.4432\n",
      "Processing: OTU.766\n",
      "Processing: OTU.8434\n",
      "Processing: OTU.1406\n",
      "Processing: OTU.3440\n",
      "Processing: OTU.2324\n",
      "Processing: OTU.9632\n",
      "Processing: OTU.617\n",
      "Processing: OTU.2317\n",
      "Processing: OTU.9777\n",
      "Processing: OTU.8117\n",
      "Processing: OTU.172\n",
      "Processing: OTU.7101\n",
      "Processing: OTU.6463\n",
      "Processing: OTU.8436\n",
      "Processing: OTU.1952\n",
      "Processing: OTU.11274\n",
      "Processing: OTU.8115\n",
      "Processing: OTU.3142\n",
      "Processing: OTU.10648\n",
      "Processing: OTU.342\n",
      "Processing: OTU.5473\n",
      "Processing: OTU.4334\n",
      "Processing: OTU.171\n",
      "Processing: OTU.1060\n",
      "Processing: OTU.9422\n",
      "Processing: OTU.3949\n",
      "Processing: OTU.13121\n",
      "Processing: OTU.8949\n",
      "Processing: OTU.768\n",
      "Processing: OTU.6129\n",
      "Processing: OTU.4640\n",
      "Processing: OTU.10646\n",
      "Processing: OTU.134\n",
      "Processing: OTU.615\n",
      "Processing: OTU.14106\n",
      "Processing: OTU.5470\n",
      "Processing: OTU.9153\n",
      "Processing: OTU.170\n",
      "Processing: OTU.9426\n",
      "Processing: OTU.4496\n",
      "Processing: OTU.9437\n",
      "Processing: OTU.7531\n",
      "Processing: OTU.769\n",
      "Processing: OTU.1376\n",
      "Processing: OTU.4641\n",
      "Processing: OTU.8681\n",
      "Processing: OTU.164\n",
      "Processing: OTU.9573\n",
      "Processing: OTU.3473\n",
      "Processing: OTU.6672\n",
      "Processing: OTU.2301\n",
      "Processing: OTU.179\n",
      "Processing: OTU.823\n",
      "Processing: OTU.7822\n",
      "Processing: OTU.11071\n",
      "Processing: OTU.917\n",
      "Processing: OTU.8933\n",
      "Processing: OTU.6301\n",
      "Processing: OTU.10642\n",
      "Processing: OTU.344\n",
      "Processing: OTU.4646\n",
      "Processing: OTU.166\n",
      "Processing: OTU.6784\n",
      "Processing: OTU.3956\n",
      "Processing: OTU.5478\n",
      "Processing: OTU.178\n",
      "Processing: OTU.1525\n",
      "Processing: OTU.2948\n",
      "Processing: OTU.1793\n",
      "Processing: OTU.11053\n",
      "Processing: OTU.14158\n",
      "Processing: OTU.10464\n",
      "Processing: OTU.4647\n",
      "Processing: OTU.3154\n",
      "Processing: OTU.167\n",
      "Processing: OTU.10125\n",
      "Processing: OTU.11652\n",
      "Processing: OTU.4684\n",
      "Processing: OTU.7315\n",
      "Processing: OTU.994\n",
      "Processing: OTU.1520\n",
      "Processing: OTU.1797\n",
      "Processing: OTU.1795\n",
      "Processing: OTU.2946\n",
      "Processing: OTU.12945\n",
      "Processing: OTU.5270\n",
      "Processing: OTU.12246\n",
      "Processing: OTU.1089\n",
      "Processing: OTU.160\n",
      "Processing: OTU.9799\n",
      "Processing: OTU.6478\n",
      "Processing: OTU.7317\n",
      "Processing: OTU.996\n",
      "Processing: OTU.1521\n",
      "Processing: OTU.8057\n",
      "Processing: OTU.1552\n",
      "Processing: OTU.2943\n",
      "Processing: OTU.345\n",
      "Processing: OTU.4523\n",
      "Processing: OTU.11058\n",
      "Processing: OTU.1088\n",
      "Processing: OTU.161\n",
      "Processing: OTU.9797\n",
      "Processing: OTU.132\n",
      "Processing: OTU.12010\n",
      "Processing: OTU.519\n",
      "Processing: OTU.990\n",
      "Processing: OTU.1556\n",
      "Processing: OTU.2942\n",
      "Processing: OTU.1436\n",
      "Processing: OTU.2715\n",
      "Processing: OTU.3225\n",
      "Processing: OTU.1087\n",
      "Processing: OTU.162\n",
      "Processing: OTU.9796\n",
      "Processing: OTU.815\n",
      "Processing: OTU.12234\n",
      "Processing: OTU.2016\n",
      "Processing: OTU.993\n",
      "Processing: OTU.11383\n",
      "Processing: OTU.4114\n",
      "Processing: OTU.12390\n",
      "Processing: OTU.4322\n",
      "Processing: OTU.1532\n",
      "Processing: OTU.1086\n",
      "Processing: OTU.163\n",
      "Processing: OTU.1378\n",
      "Processing: OTU.10091\n",
      "Processing: OTU.2171\n",
      "Processing: OTU.3549\n",
      "Processing: OTU.12005\n",
      "Processing: OTU.2551\n",
      "Processing: OTU.1435\n",
      "Processing: OTU.1968\n",
      "Processing: OTU.11664\n",
      "Processing: OTU.11900\n",
      "Processing: OTU.168\n",
      "Processing: OTU.1083\n",
      "Processing: OTU.1370\n",
      "Processing: OTU.2973\n",
      "Processing: OTU.2772\n",
      "Processing: OTU.511\n",
      "Processing: OTU.838\n",
      "Processing: OTU.3492\n",
      "Processing: OTU.1432\n",
      "Processing: OTU.1964\n",
      "Processing: OTU.1966\n",
      "Processing: OTU.1967\n",
      "Processing: OTU.11663\n",
      "Processing: OTU.169\n",
      "Processing: OTU.1538\n",
      "Processing: OTU.5592\n",
      "Processing: OTU.1373\n",
      "Processing: OTU.5257\n",
      "Processing: OTU.7005\n",
      "Processing: OTU.510\n",
      "Processing: OTU.839\n",
      "Processing: OTU.2784\n",
      "Processing: OTU.8108\n",
      "Processing: OTU.7012\n",
      "Processing: OTU.2004\n",
      "Processing: OTU.14212\n",
      "Processing: OTU.2576\n",
      "Processing: OTU.1374\n",
      "Processing: OTU.2978\n",
      "Processing: OTU.3817\n",
      "Processing: OTU.7006\n",
      "Processing: OTU.513\n",
      "Processing: OTU.2554\n",
      "Processing: OTU.2783\n",
      "Processing: OTU.8457\n",
      "Processing: OTU.1961\n",
      "Processing: OTU.986\n",
      "Processing: OTU.984\n",
      "Processing: OTU.4228\n",
      "Processing: OTU.4903\n",
      "Processing: OTU.1377\n",
      "Processing: OTU.4352\n",
      "Processing: OTU.5634\n",
      "Processing: OTU.1977\n",
      "Processing: OTU.3017\n",
      "Processing: OTU.298\n",
      "Processing: OTU.11594\n",
      "Processing: OTU.2169\n",
      "Processing: OTU.12661\n",
      "Processing: OTU.985\n",
      "Processing: OTU.4256\n",
      "Processing: OTU.9556\n",
      "Processing: OTU.1307\n",
      "Processing: OTU.2575\n",
      "Processing: OTU.13185\n",
      "Processing: OTU.1974\n",
      "Processing: OTU.517\n",
      "Processing: OTU.2005\n",
      "Processing: OTU.1438\n",
      "Processing: OTU.2168\n",
      "Processing: OTU.13822\n",
      "Processing: OTU.988\n",
      "Processing: OTU.9085\n",
      "Processing: OTU.8220\n",
      "Processing: OTU.5873\n",
      "Processing: OTU.148\n",
      "Processing: OTU.3008\n",
      "Processing: OTU.13187\n",
      "Processing: OTU.1973\n",
      "Processing: OTU.3015\n",
      "Processing: OTU.296\n",
      "Processing: OTU.1439\n",
      "Processing: OTU.13285\n",
      "Processing: OTU.567\n",
      "Processing: OTU.989\n",
      "Processing: OTU.14170\n",
      "Processing: OTU.8550\n",
      "Processing: OTU.3556\n",
      "Processing: OTU.5315\n",
      "Processing: OTU.5314\n",
      "Processing: OTU.5631\n",
      "Processing: OTU.9\n",
      "Processing: OTU.3786\n",
      "Processing: OTU.294\n",
      "Processing: OTU.9455\n",
      "Processing: OTU.12804\n",
      "Processing: OTU.1894\n",
      "Processing: OTU.12032\n",
      "Processing: OTU.13770\n",
      "Processing: OTU.8223\n",
      "Processing: OTU.3006\n",
      "Processing: OTU.5319\n",
      "Processing: OTU.2427\n",
      "Processing: OTU.8\n",
      "Processing: OTU.6500\n",
      "Processing: OTU.13627\n",
      "Processing: OTU.527\n",
      "Processing: OTU.2989\n",
      "Processing: OTU.5066\n",
      "Processing: OTU.1897\n",
      "Processing: OTU.12037\n",
      "Processing: OTU.10272\n",
      "Processing: OTU.8557\n",
      "Processing: OTU.5253\n",
      "Processing: OTU.6070\n",
      "Processing: OTU.9892\n",
      "Processing: OTU.99\n",
      "Processing: OTU.1\n",
      "Processing: OTU.7498\n",
      "Processing: OTU.12744\n",
      "Processing: OTU.292\n",
      "Processing: OTU.9457\n",
      "Processing: OTU.3847\n",
      "Processing: OTU.3487\n",
      "Processing: OTU.506\n",
      "Processing: OTU.1893\n",
      "Processing: OTU.10271\n",
      "Processing: OTU.8228\n",
      "Processing: OTU.3798\n",
      "Processing: OTU.98\n",
      "Processing: OTU.3\n",
      "Processing: OTU.199\n",
      "Processing: OTU.12743\n",
      "Processing: OTU.837\n",
      "Processing: OTU.614\n",
      "Processing: OTU.2052\n",
      "Processing: OTU.504\n",
      "Processing: OTU.10270\n",
      "Processing: OTU.1899\n",
      "Processing: OTU.5309\n",
      "Processing: OTU.7248\n",
      "Processing: OTU.2\n",
      "Processing: OTU.11867\n",
      "Processing: OTU.198\n",
      "Processing: OTU.522\n",
      "Processing: OTU.7114\n",
      "Processing: OTU.8694\n",
      "Processing: OTU.12481\n",
      "Processing: OTU.505\n",
      "Processing: OTU.4239\n",
      "Processing: OTU.8559\n",
      "Processing: OTU.6206\n",
      "Processing: OTU.12345\n",
      "Processing: OTU.194\n",
      "Processing: OTU.188\n",
      "Processing: OTU.415\n",
      "Processing: OTU.835\n",
      "Processing: OTU.13984\n",
      "Processing: OTU.2987\n",
      "Processing: OTU.12488\n",
      "Processing: OTU.502\n",
      "Processing: OTU.1318\n",
      "Processing: OTU.88\n",
      "Processing: OTU.9182\n",
      "Processing: OTU.4\n",
      "Processing: OTU.196\n",
      "Processing: OTU.189\n",
      "Processing: OTU.91\n",
      "Processing: OTU.7228\n",
      "Processing: OTU.4691\n",
      "Processing: OTU.10511\n",
      "Processing: OTU.1623\n",
      "Processing: OTU.503\n",
      "Processing: OTU.1317\n",
      "Processing: OTU.9314\n",
      "Processing: OTU.775\n",
      "Processing: OTU.774\n",
      "Processing: OTU.182\n",
      "Processing: OTU.191\n",
      "Processing: OTU.6\n",
      "Processing: OTU.3022\n",
      "Processing: OTU.90\n",
      "Processing: OTU.4695\n",
      "Processing: OTU.2379\n",
      "Processing: OTU.13759\n",
      "Processing: OTU.501\n",
      "Processing: OTU.1316\n",
      "Processing: OTU.9310\n",
      "Processing: OTU.777\n",
      "Processing: OTU.2950\n",
      "Processing: OTU.190\n",
      "Processing: OTU.3830\n",
      "Processing: OTU.7225\n",
      "Processing: OTU.93\n",
      "Processing: OTU.235\n",
      "Processing: OTU.1509\n",
      "Processing: OTU.647\n",
      "Processing: OTU.509\n",
      "Processing: OTU.1310\n",
      "Processing: OTU.83\n",
      "Processing: OTU.7077\n",
      "Processing: OTU.186\n",
      "Processing: OTU.193\n",
      "Processing: OTU.4782\n",
      "Processing: OTU.5469\n",
      "Processing: OTU.92\n",
      "Processing: OTU.13501\n",
      "Processing: OTU.6659\n",
      "Processing: OTU.4423\n",
      "Processing: OTU.89\n",
      "Processing: OTU.2194\n",
      "Processing: OTU.5324\n",
      "Processing: OTU.80\n",
      "Processing: OTU.770\n",
      "Processing: OTU.184\n",
      "Processing: OTU.185\n",
      "Processing: OTU.7495\n",
      "Processing: OTU.5652\n",
      "Processing: OTU.631\n",
      "Processing: OTU.95\n",
      "Processing: OTU.13505\n",
      "Processing: OTU.1141\n",
      "Processing: OTU.6859\n",
      "Processing: OTU.2195\n",
      "Processing: OTU.8074\n",
      "Processing: OTU.81\n",
      "Processing: OTU.779\n",
      "Processing: OTU.5651\n",
      "Processing: OTU.618\n",
      "Processing: OTU.608\n",
      "Processing: OTU.633\n",
      "Processing: OTU.10625\n",
      "Processing: OTU.1763\n",
      "Processing: OTU.1146\n",
      "Processing: OTU.9888\n",
      "Processing: OTU.5521\n",
      "Processing: OTU.6995\n",
      "Processing: OTU.6286\n",
      "Processing: OTU.86\n",
      "Processing: OTU.1098\n",
      "Processing: OTU.13636\n",
      "Processing: OTU.358\n",
      "Processing: OTU.619\n",
      "Processing: OTU.634\n",
      "Processing: OTU.637\n",
      "Processing: OTU.97\n",
      "Processing: OTU.13634\n",
      "Processing: OTU.1622\n",
      "Processing: OTU.9887\n",
      "Processing: OTU.1883\n",
      "Processing: OTU.8328\n",
      "Processing: OTU.87\n",
      "Processing: OTU.6043\n",
      "Processing: OTU.1907\n",
      "Processing: OTU.605\n",
      "Processing: OTU.638\n",
      "Processing: OTU.643\n",
      "Processing: OTU.348\n",
      "Processing: OTU.829\n",
      "Processing: OTU.96\n",
      "Processing: OTU.417\n",
      "Processing: OTU.6856\n",
      "Processing: OTU.1205\n",
      "Processing: OTU.2205\n",
      "Processing: OTU.7563\n",
      "Processing: OTU.84\n",
      "Processing: OTU.1095\n",
      "Processing: OTU.3560\n",
      "Processing: OTU.748\n",
      "Processing: OTU.13740\n",
      "Processing: OTU.1631\n",
      "Processing: OTU.349\n",
      "Processing: OTU.127\n",
      "Processing: OTU.14192\n",
      "Processing: OTU.9880\n",
      "Processing: OTU.1204\n",
      "Processing: OTU.2207\n",
      "Processing: OTU.4346\n",
      "Processing: OTU.85\n",
      "Processing: OTU.8169\n",
      "Processing: OTU.1097\n",
      "Processing: OTU.749\n",
      "**OUTPUT MUTED**"
     ]
    }
   ],
   "source": [
    "comm_file = os.path.join(work_dir, 'comm_bulk_12C-Con.D{}.txt'.format(bulk_day))\n",
    "\n",
    "!cd $work_dir; \\\n",
    "    SIPSim isotope_incorp \\\n",
    "    ampFrags_wRand_kde_dif.pkl \\\n",
    "    PT0_PI0.config \\\n",
    "    --comm $comm_file \\\n",
    "    --np $nprocs \\\n",
    "    > ampFrags_wRand_kde_dif_incorp.pkl"
   ]
  },
  {
   "cell_type": "markdown",
   "metadata": {},
   "source": [
    "# Calculating BD shift from isotope incorporation"
   ]
  },
  {
   "cell_type": "code",
   "execution_count": 408,
   "metadata": {
    "collapsed": false
   },
   "outputs": [
    {
     "name": "stdout",
     "output_type": "stream",
     "text": [
      "skipping; probably not needed\n"
     ]
    }
   ],
   "source": [
    "print 'skipping; probably not needed'\n",
    "# !cd $work_dir; \\\n",
    "#     SIPSim BD_shift \\\n",
    "#     ampFrags_wRand_kde_dif.pkl \\\n",
    "#     ampFrags_wRand_kde_dif_incorp.pkl \\\n",
    "#     --np $nprocs \\\n",
    "#     > ampFrags_wRand_kde_dif_incorp_BD-shift.txt"
   ]
  },
  {
   "cell_type": "markdown",
   "metadata": {},
   "source": [
    "# Simulating gradient fractions"
   ]
  },
  {
   "cell_type": "code",
   "execution_count": 410,
   "metadata": {
    "collapsed": true
   },
   "outputs": [],
   "source": [
    "!cd $work_dir; \\\n",
    "    SIPSim gradient_fractions \\\n",
    "    $comm_file \\\n",
    "    > fracs.txt"
   ]
  },
  {
   "cell_type": "markdown",
   "metadata": {},
   "source": [
    "# Simulating an OTU table"
   ]
  },
  {
   "cell_type": "code",
   "execution_count": 411,
   "metadata": {
    "collapsed": false
   },
   "outputs": [
    {
     "name": "stdout",
     "output_type": "stream",
     "text": [
      "Loading files...\n",
      "Simulating OTUs...\n",
      "Processing library: \"1\"\n",
      "  Processing taxon: \"OTU.14142\"\n",
      "   taxon abs-abundance:  295914589\n",
      "  Processing taxon: \"OTU.20\"\n",
      "   taxon abs-abundance:  13576895\n",
      "  Processing taxon: \"OTU.396\"\n",
      "   taxon abs-abundance:  7714145\n",
      "  Processing taxon: \"OTU.570\"\n",
      "   taxon abs-abundance:  5862750\n",
      "  Processing taxon: \"OTU.123\"\n",
      "   taxon abs-abundance:  4628487\n",
      "  Processing taxon: \"OTU.9712\"\n",
      "   taxon abs-abundance:  3702789\n",
      "  Processing taxon: \"OTU.539\"\n",
      "   taxon abs-abundance:  3394224\n",
      "  Processing taxon: \"OTU.344\"\n",
      "   taxon abs-abundance:  2777092\n",
      "  Processing taxon: \"OTU.849\"\n",
      "   taxon abs-abundance:  2468526\n",
      "  Processing taxon: \"OTU.12743\"\n",
      "   taxon abs-abundance:  2159961\n",
      "  Processing taxon: \"OTU.11058\"\n",
      "   taxon abs-abundance:  1851395\n",
      "  Processing taxon: \"OTU.322\"\n",
      "   taxon abs-abundance:  1851395\n",
      "  Processing taxon: \"OTU.12595\"\n",
      "   taxon abs-abundance:  1851395\n",
      "  Processing taxon: \"OTU.10353\"\n",
      "   taxon abs-abundance:  2159961\n",
      "  Processing taxon: \"OTU.14212\"\n",
      "   taxon abs-abundance:  2468526\n",
      "  Processing taxon: \"OTU.1623\"\n",
      "   taxon abs-abundance:  1851395\n",
      "  Processing taxon: \"OTU.1269\"\n",
      "   taxon abs-abundance:  2777092\n",
      "  Processing taxon: \"OTU.397\"\n",
      "   taxon abs-abundance:  3394224\n",
      "  Processing taxon: \"OTU.6859\"\n",
      "   taxon abs-abundance:  3702789\n",
      "  Processing taxon: \"OTU.3517\"\n",
      "   taxon abs-abundance:  4628487\n",
      "  Processing taxon: \"OTU.6299\"\n",
      "   taxon abs-abundance:  1851395\n",
      "  Processing taxon: \"OTU.726\"\n",
      "   taxon abs-abundance:  1851395\n",
      "  Processing taxon: \"OTU.8694\"\n",
      "   taxon abs-abundance:  2159961\n",
      "  Processing taxon: \"OTU.10\"\n",
      "   taxon abs-abundance:  5862750\n",
      "  Processing taxon: \"OTU.196\"\n",
      "   taxon abs-abundance:  2468526\n",
      "  Processing taxon: \"OTU.7410\"\n",
      "   taxon abs-abundance:  3702789\n",
      "  Processing taxon: \"OTU.274\"\n",
      "   taxon abs-abundance:  2777092\n",
      "  Processing taxon: \"OTU.11664\"\n",
      "   taxon abs-abundance:  1851395\n",
      "  Processing taxon: \"OTU.1277\"\n",
      "   taxon abs-abundance:  1542829\n",
      "  Processing taxon: \"OTU.159\"\n",
      "   taxon abs-abundance:  3394224\n",
      "  Processing taxon: \"OTU.96\"\n",
      "   taxon abs-abundance:  2159961\n",
      "   WARNING: No bins for taxon; likely caused by no BD KDE\n",
      "  Processing taxon: \"OTU.141\"\n",
      "   taxon abs-abundance:  2159961\n",
      "  Processing taxon: \"OTU.175\"\n",
      "   taxon abs-abundance:  7714145\n",
      "  Processing taxon: \"OTU.201\"\n",
      "   taxon abs-abundance:  2468526\n",
      "  Processing taxon: \"OTU.10271\"\n",
      "   taxon abs-abundance:  1851395\n",
      "  Processing taxon: \"OTU.946\"\n",
      "   taxon abs-abundance:  1542829\n",
      "  Processing taxon: \"OTU.523\"\n",
      "   taxon abs-abundance:  3702789\n",
      "  Processing taxon: \"OTU.484\"\n",
      "   taxon abs-abundance:  2777092\n",
      "  Processing taxon: \"OTU.136\"\n",
      "   taxon abs-abundance:  4628487\n",
      "  Processing taxon: \"OTU.224\"\n",
      "   taxon abs-abundance:  2159961\n",
      "  Processing taxon: \"OTU.1247\"\n",
      "   taxon abs-abundance:  1542829\n",
      "  Processing taxon: \"OTU.464\"\n",
      "   taxon abs-abundance:  1851395\n",
      "  Processing taxon: \"OTU.575\"\n",
      "   taxon abs-abundance:  3085658\n",
      "  Processing taxon: \"OTU.2463\"\n",
      "   taxon abs-abundance:  2468526\n",
      "  Processing taxon: \"OTU.1060\"\n",
      "   taxon abs-abundance:  1542829\n",
      "  Processing taxon: \"OTU.9729\"\n",
      "   taxon abs-abundance:  5862750\n",
      "  Processing taxon: \"OTU.490\"\n",
      "   taxon abs-abundance:  2777092\n",
      "  Processing taxon: \"OTU.8487\"\n",
      "   taxon abs-abundance:  2159961\n",
      "  Processing taxon: \"OTU.7859\"\n",
      "   taxon abs-abundance:  1851395\n",
      "  Processing taxon: \"OTU.9144\"\n",
      "   taxon abs-abundance:  3702789\n",
      "  Processing taxon: \"OTU.784\"\n",
      "   taxon abs-abundance:  1542829\n",
      "  Processing taxon: \"OTU.237\"\n",
      "   taxon abs-abundance:  2468526\n",
      "  Processing taxon: \"OTU.11339\"\n",
      "   taxon abs-abundance:  2777092\n",
      "  Processing taxon: \"OTU.4469\"\n",
      "   taxon abs-abundance:  12959763\n",
      "  Processing taxon: \"OTU.420\"\n",
      "   taxon abs-abundance:  3085658\n",
      "  Processing taxon: \"OTU.5979\"\n",
      "   taxon abs-abundance:  1851395\n",
      "  Processing taxon: \"OTU.228\"\n",
      "   taxon abs-abundance:  2159961\n",
      "  Processing taxon: \"OTU.7194\"\n",
      "   taxon abs-abundance:  1542829\n",
      "  Processing taxon: \"OTU.10075\"\n",
      "   taxon abs-abundance:  4628487\n",
      "  Processing taxon: \"OTU.8700\"\n",
      "   taxon abs-abundance:  3702789\n",
      "  Processing taxon: \"OTU.733\"\n",
      "   taxon abs-abundance:  1851395\n",
      "  Processing taxon: \"OTU.55\"\n",
      "   taxon abs-abundance:  7714145\n",
      "  Processing taxon: \"OTU.4379\"\n",
      "   taxon abs-abundance:  2468526\n",
      "  Processing taxon: \"OTU.7342\"\n",
      "  Processing taxon: \"OTU.293\"\n",
      "   taxon abs-abundance:  2777092\n",
      "   taxon abs-abundance:  1542829\n",
      "  Processing taxon: \"OTU.1330\"\n",
      "   taxon abs-abundance:  2159961\n",
      "  Processing taxon: \"OTU.392\"\n",
      "   taxon abs-abundance:  3085658\n",
      "   WARNING: No bins for taxon; likely caused by no BD KDE\n",
      "  Processing taxon: \"OTU.282\"\n",
      "   taxon abs-abundance:  3085658\n",
      "  Processing taxon: \"OTU.2021\"\n",
      "   taxon abs-abundance:  1851395\n",
      "  Processing taxon: \"OTU.730\"\n",
      "   taxon abs-abundance:  1542829\n",
      "  Processing taxon: \"OTU.3893\"\n",
      "   taxon abs-abundance:  5862750\n",
      "  Processing taxon: \"OTU.353\"\n",
      "   taxon abs-abundance:  3702789\n",
      "  Processing taxon: \"OTU.370\"\n",
      "   taxon abs-abundance:  2159961\n",
      "  Processing taxon: \"OTU.4412\"\n",
      "   taxon abs-abundance:  2468526\n",
      "  Processing taxon: \"OTU.234\"\n",
      "   taxon abs-abundance:  2777092\n",
      "  Processing taxon: \"OTU.5108\"\n",
      "   taxon abs-abundance:  1542829\n",
      "  Processing taxon: \"OTU.316\"\n",
      "   taxon abs-abundance:  4628487\n",
      "  Processing taxon: \"OTU.6020\"\n",
      "   taxon abs-abundance:  1851395\n",
      "  Processing taxon: \"OTU.53\"\n",
      "   taxon abs-abundance:  2159961\n",
      "   WARNING: No bins for taxon; likely caused by no BD KDE\n",
      "  Processing taxon: \"OTU.2614\"\n",
      "   taxon abs-abundance:  2159961\n",
      "  Processing taxon: \"OTU.345\"\n",
      "   taxon abs-abundance:  3085658\n",
      "  Processing taxon: \"OTU.551\"\n",
      "   taxon abs-abundance:  1542829\n",
      "  Processing taxon: \"OTU.1783\"\n",
      "   taxon abs-abundance:  3702789\n",
      "  Processing taxon: \"OTU.164\"\n",
      "   taxon abs-abundance:  2159961\n",
      "  Processing taxon: \"OTU.337\"\n",
      "   taxon abs-abundance:  2468526\n",
      "  Processing taxon: \"OTU.897\"\n",
      "   taxon abs-abundance:  1851395\n",
      "  Processing taxon: \"OTU.167\"\n",
      "   taxon abs-abundance:  2777092\n",
      "  Processing taxon: \"OTU.835\"\n",
      "   taxon abs-abundance:  1542829\n",
      "  Processing taxon: \"OTU.12050\"\n",
      "  Processing taxon: \"OTU.124\"\n",
      "   taxon abs-abundance:  3702789\n",
      "   taxon abs-abundance:  2159961\n",
      "  Processing taxon: \"OTU.183\"\n",
      "   taxon abs-abundance:  1851395\n",
      "  Processing taxon: \"OTU.182\"\n",
      "   taxon abs-abundance:  3085658\n",
      "  Processing taxon: \"OTU.558\"\n",
      "   taxon abs-abundance:  2468526\n",
      "  Processing taxon: \"OTU.8740\"\n",
      "   taxon abs-abundance:  7405579\n",
      "  Processing taxon: \"OTU.1043\"\n",
      "   taxon abs-abundance:  5862750\n",
      "  Processing taxon: \"OTU.5697\"\n",
      "   taxon abs-abundance:  1542829\n",
      "  Processing taxon: \"OTU.101\"\n",
      "   taxon abs-abundance:  4628487\n",
      "  Processing taxon: \"OTU.292\"\n",
      "   taxon abs-abundance:  2159961\n",
      "  Processing taxon: \"OTU.11344\"\n",
      "   taxon abs-abundance:  2777092\n",
      "  Processing taxon: \"OTU.996\"\n",
      "   taxon abs-abundance:  1851395\n",
      "  Processing taxon: \"OTU.676\"\n",
      "  Processing taxon: \"OTU.9077\"\n",
      "   taxon abs-abundance:  2159961\n",
      "   taxon abs-abundance:  1542829\n",
      "  Processing taxon: \"OTU.12563\"\n",
      "   taxon abs-abundance:  3702789\n",
      "   WARNING: No bins for taxon; likely caused by no BD KDE\n",
      "  Processing taxon: \"OTU.188\"\n",
      "   taxon abs-abundance:  3702789\n",
      "  Processing taxon: \"OTU.380\"\n",
      "   taxon abs-abundance:  2468526\n",
      "  Processing taxon: \"OTU.10844\"\n",
      "   taxon abs-abundance:  3085658\n",
      "  Processing taxon: \"OTU.5013\"\n",
      "   taxon abs-abundance:  1851395\n",
      "  Processing taxon: \"OTU.18\"\n",
      "   taxon abs-abundance:  12651197\n",
      "  Processing taxon: \"OTU.4647\"\n",
      "   taxon abs-abundance:  1542829\n",
      "  Processing taxon: \"OTU.522\"\n",
      "   taxon abs-abundance:  2159961\n",
      "  Processing taxon: \"OTU.229\"\n",
      "   taxon abs-abundance:  2777092\n",
      "  Processing taxon: \"OTU.145\"\n",
      "   taxon abs-abundance:  2159961\n",
      "  Processing taxon: \"OTU.9046\"\n",
      "   taxon abs-abundance:  1542829\n",
      "  Processing taxon: \"OTU.10735\"\n",
      "   taxon abs-abundance:  1851395\n",
      "  Processing taxon: \"OTU.393\"\n",
      "   taxon abs-abundance:  2468526\n",
      "  Processing taxon: \"OTU.266\"\n",
      "   taxon abs-abundance:  4319921\n",
      "  Processing taxon: \"OTU.365\"\n",
      "   taxon abs-abundance:  3702789\n",
      "  Processing taxon: \"OTU.252\"\n",
      "   taxon abs-abundance:  3085658\n",
      "  Processing taxon: \"OTU.147\"\n",
      "   taxon abs-abundance:  5862750\n",
      "  Processing taxon: \"OTU.502\"\n",
      "   taxon abs-abundance:  2777092\n",
      "  Processing taxon: \"OTU.4631\"\n",
      "   taxon abs-abundance:  1542829\n",
      "  Processing taxon: \"OTU.358\"\n",
      "   taxon abs-abundance:  2159961\n",
      "  Processing taxon: \"OTU.517\"\n",
      "   taxon abs-abundance:  1851395\n",
      "  Processing taxon: \"OTU.560\"\n",
      "   taxon abs-abundance:  2468526\n",
      "  Processing taxon: \"OTU.737\"\n",
      "   taxon abs-abundance:  7405579\n",
      "   WARNING: No bins for taxon; likely caused by no BD KDE\n",
      "  Processing taxon: \"OTU.94\"\n",
      "   taxon abs-abundance:  7405579\n",
      "  Processing taxon: \"OTU.1336\"\n",
      "   taxon abs-abundance:  1542829\n",
      "  Processing taxon: \"OTU.7214\"\n",
      "   taxon abs-abundance:  1851395\n",
      "  Processing taxon: \"OTU.298\"\n",
      "   taxon abs-abundance:  2159961\n",
      "  Processing taxon: \"OTU.93\"\n",
      "   taxon abs-abundance:  3085658\n",
      "  Processing taxon: \"OTU.4036\"\n",
      "   taxon abs-abundance:  2777092\n",
      "  Processing taxon: \"OTU.160\"\n",
      "   taxon abs-abundance:  3702789\n",
      "  Processing taxon: \"OTU.673\"\n",
      "   taxon abs-abundance:  1542829\n",
      "  Processing taxon: \"OTU.510\"\n",
      "   taxon abs-abundance:  4319921\n",
      "  Processing taxon: \"OTU.6723\"\n",
      "   taxon abs-abundance:  2468526\n",
      "   WARNING: No bins for taxon; likely caused by no BD KDE\n",
      "  Processing taxon: \"OTU.12481\"\n",
      "   taxon abs-abundance:  2468526\n",
      "  Processing taxon: \"OTU.304\"\n",
      "   taxon abs-abundance:  1851395\n",
      "  Processing taxon: \"OTU.366\"\n",
      "   taxon abs-abundance:  2159961\n",
      "  Processing taxon: \"OTU.10648\"\n",
      "   taxon abs-abundance:  1542829\n",
      "  Processing taxon: \"OTU.468\"\n",
      "   taxon abs-abundance:  2777092\n",
      "  Processing taxon: \"OTU.493\"\n",
      "  Processing taxon: \"OTU.218\"\n",
      "   taxon abs-abundance:  5554184\n",
      "   taxon abs-abundance:  3085658\n",
      "  Processing taxon: \"OTU.425\"\n",
      "   taxon abs-abundance:  1851395\n",
      "  Processing taxon: \"OTU.275\"\n",
      "   taxon abs-abundance:  2468526\n",
      "  Processing taxon: \"OTU.10035\"\n",
      "   taxon abs-abundance:  1542829\n",
      "  Processing taxon: \"OTU.81\"\n",
      "   taxon abs-abundance:  3702789\n",
      "  Processing taxon: \"OTU.828\"\n",
      "   taxon abs-abundance:  2159961\n",
      "**OUTPUT MUTED**"
     ]
    }
   ],
   "source": [
    "!cd $work_dir; \\\n",
    "    SIPSim OTU_table \\\n",
    "    ampFrags_wRand_kde_dif_incorp.pkl \\\n",
    "    $comm_file \\\n",
    "    fracs.txt \\\n",
    "    --abs 5e9 \\\n",
    "    --np $nprocs \\\n",
    "    > OTU_abs5e9.txt"
   ]
  },
  {
   "cell_type": "markdown",
   "metadata": {},
   "source": [
    "## Plotting taxon abundances"
   ]
  },
  {
   "cell_type": "markdown",
   "metadata": {},
   "source": [
    "### Real SIP data"
   ]
  },
  {
   "cell_type": "code",
   "execution_count": 473,
   "metadata": {
    "collapsed": false
   },
   "outputs": [
    {
     "data": {
      "text/plain": [
       "phyloseq-class experiment-level object\n",
       "otu_table()   OTU Table:         [ 2269 taxa and 25 samples ]\n",
       "sample_data() Sample Data:       [ 25 samples by 17 sample variables ]\n",
       "tax_table()   Taxonomy Table:    [ 2269 taxa by 8 taxonomic ranks ]\n",
       "phy_tree()    Phylogenetic Tree: [ 2269 tips and 2268 internal nodes ]\n"
      ]
     },
     "metadata": {},
     "output_type": "display_data"
    }
   ],
   "source": [
    "%%R -i physeq_dir -i physeq_SIP_core_spar -i bulk_day\n",
    "\n",
    "# bulk core samples\n",
    "F = file.path(physeq_dir, physeq_SIP_core_spar)\n",
    "physeq.SIP.core = readRDS(F) \n",
    "physeq.SIP.core.m = physeq.SIP.core %>% sample_data\n",
    "\n",
    "physeq.SIP.core = prune_samples(physeq.SIP.core.m$Substrate == '12C-Con' & \n",
    "                                physeq.SIP.core.m$Day == bulk_day, physeq.SIP.core) %>%\n",
    "    filter_taxa(function(x) sum(x) > 0, TRUE)\n",
    "physeq.SIP.core.m = physeq.SIP.core %>% sample_data        \n",
    "\n",
    "physeq.SIP.core"
   ]
  },
  {
   "cell_type": "code",
   "execution_count": 474,
   "metadata": {
    "collapsed": false
   },
   "outputs": [
    {
     "data": {
      "image/png": "[encoded data removed]"
     },
     "metadata": {},
     "output_type": "display_data"
    }
   ],
   "source": [
    "%%R -w 800 -h 300 \n",
    "\n",
    "## dataframe\n",
    "df.OTU = physeq.SIP.core %>% otu_table %>%\n",
    "    as.matrix %>% as.data.frame\n",
    "df.OTU$OTU = rownames(df.OTU)\n",
    "df.OTU = df.OTU %>%    \n",
    "    gather(sample, abundance, 1:(ncol(df.OTU)-1)) %>%\n",
    "    group_by(sample) %>%\n",
    "    summarize(n_taxa = sum(abundance > 0)) %>%\n",
    "    ungroup()\n",
    "\n",
    "df.OTU.real = inner_join(df.OTU, physeq.SIP.core.m, c('sample' = 'X.Sample')) \n",
    "\n",
    "## plotting\n",
    "p = ggplot(df.OTU.real, aes(Buoyant_density, n_taxa)) +\n",
    "    geom_point(color='blue') +\n",
    "    geom_line(color='blue') +\n",
    "    geom_vline(xintercept=c(BD.GCp0, BD.GCp100), linetype='dashed', alpha=0.5) +\n",
    "    labs(x='Buoyant density', y='Number of taxa') +\n",
    "    theme_bw() +\n",
    "    theme( \n",
    "        text = element_text(size=16),\n",
    "        legend.position = 'none'\n",
    "    )\n",
    "p"
   ]
  },
  {
   "cell_type": "code",
   "execution_count": 490,
   "metadata": {
    "collapsed": false
   },
   "outputs": [
    {
     "data": {
      "image/png": "[encoded data removed]"
     },
     "metadata": {},
     "output_type": "display_data"
    }
   ],
   "source": [
    "%%R -w 800 -h 300 -i work_dir\n",
    "# plotting number of taxa at each BD\n",
    "setwd(work_dir)\n",
    "\n",
    "# loading file\n",
    "df.OTU = read.delim('OTU_abs5e9.txt', sep='\\t')\n",
    "\n",
    "## edit table\n",
    "df.OTU.nt = df.OTU %>%\n",
    "    filter(count > 0) %>%\n",
    "    group_by(library, BD_mid) %>%\n",
    "    summarize(n_taxa = n())\n",
    "\n",
    "## plot\n",
    "p = ggplot(df.OTU.nt, aes(BD_mid, n_taxa)) +\n",
    "    geom_point(color='red') +\n",
    "    geom_line(color='red') +\n",
    "    geom_point(data=df.OTU.real, aes(x=Buoyant_density), color='blue') +\n",
    "    geom_line(data=df.OTU.real, aes(x=Buoyant_density), color='blue') +\n",
    "    geom_vline(xintercept=c(BD.GCp0, BD.GCp100), linetype='dashed', alpha=0.5) +\n",
    "    labs(x='Buoyant density', y='Number of taxa') +\n",
    "    theme_bw() +\n",
    "    theme( \n",
    "        text = element_text(size=16),\n",
    "        legend.position = 'none'\n",
    "    )\n",
    "p"
   ]
  },
  {
   "cell_type": "markdown",
   "metadata": {},
   "source": [
    "### Normalized by max n-taxa"
   ]
  },
  {
   "cell_type": "code",
   "execution_count": 491,
   "metadata": {
    "collapsed": false
   },
   "outputs": [
    {
     "data": {
      "image/png": "[encoded data removed]"
     },
     "metadata": {},
     "output_type": "display_data"
    }
   ],
   "source": [
    "%%R -w 800 -h 300\n",
    "\n",
    "## edit table\n",
    "df.OTU.nt = df.OTU.nt %>%\n",
    "    group_by() %>%\n",
    "    mutate(n_taxa_norm = n_taxa / max(n_taxa))\n",
    "\n",
    "df.OTU.real = df.OTU.real %>%\n",
    "    group_by() %>%\n",
    "    mutate(n_taxa_norm = n_taxa / max(n_taxa))\n",
    "\n",
    "\n",
    "## plot\n",
    "p = ggplot(df.OTU.nt, aes(BD_mid, n_taxa_norm)) +\n",
    "    geom_point(color='red') +\n",
    "    geom_line(color='red') +\n",
    "    geom_point(data=df.OTU.real, aes(x=Buoyant_density), color='blue') +\n",
    "    geom_line(data=df.OTU.real, aes(x=Buoyant_density), color='blue') +\n",
    "    geom_vline(xintercept=c(BD.GCp0, BD.GCp100), linetype='dashed', alpha=0.5) +\n",
    "    labs(x='Buoyant density', y='Number of taxa\\n(fraction of max)') +\n",
    "    theme_bw() +\n",
    "    theme( \n",
    "        text = element_text(size=16),\n",
    "        legend.position = 'none'\n",
    "    )\n",
    "p"
   ]
  },
  {
   "cell_type": "markdown",
   "metadata": {},
   "source": [
    "# Simulating PCR "
   ]
  },
  {
   "cell_type": "code",
   "execution_count": 668,
   "metadata": {
    "collapsed": false
   },
   "outputs": [
    {
     "name": "stdout",
     "output_type": "stream",
     "text": [
      "library\ttaxon\tfraction\tBD_min\tBD_mid\tBD_max\tcount\trel_abund\r\n",
      "1\tOTU.1\t-inf-1.660\t-inf\t1.659\t1.659\t0\t0.0\r\n",
      "1\tOTU.1\t1.660-1.662\t1.66\t1.661\t1.662\t0\t0.0\r\n",
      "1\tOTU.1\t1.662-1.667\t1.662\t1.664\t1.667\t0\t0.0\r\n"
     ]
    }
   ],
   "source": [
    "!cd $work_dir; \\\n",
    "    SIPSim OTU_PCR \\\n",
    "    OTU_abs5e9.txt \\\n",
    "    > OTU_abs5e9_PCR.txt\n",
    "    \n",
    "!cd $work_dir; \\\n",
    "    head -n 4 OTU_abs5e9_PCR.txt"
   ]
  },
  {
   "cell_type": "code",
   "execution_count": 670,
   "metadata": {
    "collapsed": false
   },
   "outputs": [
    {
     "data": {
      "image/png": "[encoded data removed]"
     },
     "metadata": {},
     "output_type": "display_data"
    }
   ],
   "source": [
    "%%R -w 800 -h 300 -i work_dir\n",
    "# plotting number of taxa at each BD\n",
    "setwd(work_dir)\n",
    "\n",
    "# loading file\n",
    "df.OTU = read.delim('OTU_abs5e9_PCR.txt', sep='\\t')\n",
    "\n",
    "## edit table\n",
    "df.OTU.nt = df.OTU %>%\n",
    "    filter(count > 0) %>%\n",
    "    group_by(library, BD_mid) %>%\n",
    "    summarize(n_taxa = n())\n",
    "\n",
    "## plot\n",
    "p = ggplot(df.OTU.nt, aes(BD_mid, n_taxa)) +\n",
    "    geom_point(color='red') +\n",
    "    geom_line(color='red') +\n",
    "    geom_point(data=df.OTU.real, aes(x=Buoyant_density), color='blue') +\n",
    "    geom_line(data=df.OTU.real, aes(x=Buoyant_density), color='blue') +\n",
    "    geom_vline(xintercept=c(BD.GCp0, BD.GCp100), linetype='dashed', alpha=0.5) +\n",
    "    labs(x='Buoyant density', y='Number of taxa') +\n",
    "    theme_bw() +\n",
    "    theme( \n",
    "        text = element_text(size=16),\n",
    "        legend.position = 'none'\n",
    "    )\n",
    "p"
   ]
  },
  {
   "cell_type": "code",
   "execution_count": 671,
   "metadata": {
    "collapsed": false
   },
   "outputs": [
    {
     "data": {
      "image/png": "[encoded data removed]"
     },
     "metadata": {},
     "output_type": "display_data"
    }
   ],
   "source": [
    "%%R -w 800 -h 300\n",
    "\n",
    "## edit table\n",
    "df.OTU.nt = df.OTU.nt %>%\n",
    "    group_by() %>%\n",
    "    mutate(n_taxa_norm = n_taxa / max(n_taxa))\n",
    "\n",
    "df.OTU.real = df.OTU.real %>%\n",
    "    group_by() %>%\n",
    "    mutate(n_taxa_norm = n_taxa / max(n_taxa))\n",
    "\n",
    "\n",
    "## plot\n",
    "p = ggplot(df.OTU.nt, aes(BD_mid, n_taxa_norm)) +\n",
    "    geom_point(color='red') +\n",
    "    geom_line(color='red') +\n",
    "    geom_point(data=df.OTU.real, aes(x=Buoyant_density), color='blue') +\n",
    "    geom_line(data=df.OTU.real, aes(x=Buoyant_density), color='blue') +\n",
    "    geom_vline(xintercept=c(BD.GCp0, BD.GCp100), linetype='dashed', alpha=0.5) +\n",
    "    labs(x='Buoyant density', y='Number of taxa\\n(fraction of max)') +\n",
    "    theme_bw() +\n",
    "    theme( \n",
    "        text = element_text(size=16),\n",
    "        legend.position = 'none'\n",
    "    )\n",
    "p"
   ]
  },
  {
   "cell_type": "markdown",
   "metadata": {},
   "source": [
    "# Subsampling from the OTU table"
   ]
  },
  {
   "cell_type": "code",
   "execution_count": 672,
   "metadata": {
    "collapsed": false
   },
   "outputs": [
    {
     "name": "stdout",
     "output_type": "stream",
     "text": [
      "library\tfraction\ttaxon\tBD_min\tBD_mid\tBD_max\tcount\trel_abund\r\n",
      "1\t-inf-1.660\tOTU.1\t-inf\t1.659\t1.659\t0\t0.0\r\n",
      "1\t1.660-1.662\tOTU.1\t1.66\t1.661\t1.662\t0\t0.0\r\n",
      "1\t1.662-1.667\tOTU.1\t1.662\t1.664\t1.667\t0\t0.0\r\n"
     ]
    }
   ],
   "source": [
    "dist,loc,scale = seq_per_fraction\n",
    "\n",
    "!cd $work_dir; \\\n",
    "    SIPSim OTU_subsample \\\n",
    "    --dist $dist \\\n",
    "    --dist_params mean:$loc,sigma:$scale \\\n",
    "    --walk 4 \\\n",
    "    --min_size 10000 \\\n",
    "    --max_size 80000 \\\n",
    "    OTU_abs5e9_PCR.txt \\\n",
    "    > OTU_abs5e9_PCR_sub.txt \n",
    "    \n",
    "!cd $work_dir; \\\n",
    "    head -n 4 OTU_abs5e9_PCR_sub.txt   "
   ]
  },
  {
   "cell_type": "markdown",
   "metadata": {},
   "source": [
    "### Plotting sample size distribution"
   ]
  },
  {
   "cell_type": "code",
   "execution_count": 673,
   "metadata": {
    "collapsed": false
   },
   "outputs": [
    {
     "data": {
      "image/png": "[encoded data removed]"
     },
     "metadata": {},
     "output_type": "display_data"
    }
   ],
   "source": [
    "%%R -h 300 -i work_dir\n",
    "setwd(work_dir)\n",
    "\n",
    "tbl = read.csv('OTU_abs5e9_PCR_sub.txt', sep='\\t') \n",
    "\n",
    "tbl.s = tbl %>% \n",
    "    group_by(library, fraction) %>%\n",
    "    summarize(total_count = sum(count)) %>%\n",
    "    ungroup() %>%\n",
    "    mutate(library = as.character(library))\n",
    "\n",
    "ggplot(tbl.s, aes(total_count)) +\n",
    "    geom_density(fill='blue') +\n",
    "    theme_bw() +\n",
    "    theme( text = element_text(size=16) )"
   ]
  },
  {
   "cell_type": "code",
   "execution_count": 674,
   "metadata": {
    "collapsed": false
   },
   "outputs": [
    {
     "data": {
      "image/png": "[encoded data removed]"
     },
     "metadata": {},
     "output_type": "display_data"
    }
   ],
   "source": [
    "%%R -h 300 -w 600 -i work_dir\n",
    "setwd(work_dir)\n",
    "\n",
    "tbl = read.csv('OTU_abs5e9_PCR_sub.txt', sep='\\t') \n",
    "\n",
    "tbl.s = tbl %>%\n",
    "    group_by(fraction, BD_min, BD_mid, BD_max) %>%\n",
    "    summarize(total_count = sum(count)) \n",
    "\n",
    "ggplot(tbl.s, aes(BD_mid, total_count)) +\n",
    "    geom_point() +\n",
    "    geom_line() +\n",
    "    labs(x='Buoyant density', y='Total sequences') +\n",
    "    theme_bw() +\n",
    "    theme(\n",
    "        text = element_text(size=16)\n",
    "        )"
   ]
  },
  {
   "cell_type": "markdown",
   "metadata": {},
   "source": [
    "## Plotting taxon abundances"
   ]
  },
  {
   "cell_type": "code",
   "execution_count": 606,
   "metadata": {
    "collapsed": false
   },
   "outputs": [
    {
     "data": {
      "image/png": "[encoded data removed]"
     },
     "metadata": {},
     "output_type": "display_data"
    }
   ],
   "source": [
    "%%R -w 800 -h 300 -i work_dir\n",
    "# plotting number of taxa at each BD\n",
    "setwd(work_dir)\n",
    "\n",
    "# loading file\n",
    "df.OTU = read.delim('OTU_abs5e9_PCR_sub.txt', sep='\\t')\n",
    "\n",
    "## edit table\n",
    "df.OTU.nt = df.OTU %>%\n",
    "    filter(count > 0) %>%\n",
    "    group_by(library, BD_mid) %>%\n",
    "    summarize(n_taxa = n())\n",
    "\n",
    "## plot\n",
    "p = ggplot(df.OTU.nt, aes(BD_mid, n_taxa)) +\n",
    "    geom_point(color='red') +\n",
    "    geom_line(color='red') +\n",
    "    geom_point(data=df.OTU.real, aes(x=Buoyant_density), color='blue') +\n",
    "    geom_line(data=df.OTU.real, aes(x=Buoyant_density), color='blue') +\n",
    "    geom_vline(xintercept=c(BD.GCp0, BD.GCp100), linetype='dashed', alpha=0.5) +\n",
    "    labs(x='Buoyant density', y='Number of taxa') +\n",
    "    theme_bw() +\n",
    "    theme( \n",
    "        text = element_text(size=16),\n",
    "        legend.position = 'none'\n",
    "    )\n",
    "p"
   ]
  },
  {
   "cell_type": "code",
   "execution_count": 675,
   "metadata": {
    "collapsed": false
   },
   "outputs": [
    {
     "data": {
      "image/png": "[encoded data removed]"
     },
     "metadata": {},
     "output_type": "display_data"
    }
   ],
   "source": [
    "%%R -w 800 -h 300\n",
    "\n",
    "## edit table\n",
    "df.OTU.nt = df.OTU.nt %>%\n",
    "    group_by() %>%\n",
    "    mutate(n_taxa_norm = n_taxa / max(n_taxa))\n",
    "\n",
    "df.OTU.real = df.OTU.real %>%\n",
    "    group_by() %>%\n",
    "    mutate(n_taxa_norm = n_taxa / max(n_taxa))\n",
    "\n",
    "\n",
    "## plot\n",
    "p = ggplot(df.OTU.nt, aes(BD_mid, n_taxa_norm)) +\n",
    "    geom_point(color='red') +\n",
    "    geom_line(color='red') +\n",
    "    geom_point(data=df.OTU.real, aes(x=Buoyant_density), color='blue') +\n",
    "    geom_line(data=df.OTU.real, aes(x=Buoyant_density), color='blue') +\n",
    "    geom_vline(xintercept=c(BD.GCp0, BD.GCp100), linetype='dashed', alpha=0.5) +\n",
    "    labs(x='Buoyant density', y='Number of taxa\\n(fraction of max)') +\n",
    "    theme_bw() +\n",
    "    theme( \n",
    "        text = element_text(size=16),\n",
    "        legend.position = 'none'\n",
    "    )\n",
    "p"
   ]
  },
  {
   "cell_type": "markdown",
   "metadata": {},
   "source": [
    "# Adding count error"
   ]
  },
  {
   "cell_type": "code",
   "execution_count": 571,
   "metadata": {
    "collapsed": false
   },
   "outputs": [
    {
     "name": "stdout",
     "output_type": "stream",
     "text": [
      "library\tfraction\ttaxon\tBD_min\tBD_mid\tBD_max\tcount\trel_abund\r\n",
      "1\t-inf-1.660\tOTU.1\t-inf\t1.659\t1.659\t0\t0.0\r\n",
      "1\t1.660-1.662\tOTU.1\t1.66\t1.661\t1.662\t0\t0.0\r\n",
      "1\t1.662-1.667\tOTU.1\t1.662\t1.664\t1.667\t0\t0.0\r\n"
     ]
    }
   ],
   "source": [
    "!cd $work_dir; \\\n",
    "    SIPSim OTU_add_error \\\n",
    "    OTU_abs5e9_PCR_sub.txt \\\n",
    "    > OTU_abs5e9_PCR_sub_negBin.txt \n",
    "    \n",
    "!cd $work_dir; \\\n",
    "    head -n 4 OTU_abs5e9_PCR_sub_negBin.txt "
   ]
  },
  {
   "cell_type": "markdown",
   "metadata": {},
   "source": [
    "## Plotting taxon abundances"
   ]
  },
  {
   "cell_type": "code",
   "execution_count": 572,
   "metadata": {
    "collapsed": false
   },
   "outputs": [
    {
     "data": {
      "image/png": "[encoded data removed]"
     },
     "metadata": {},
     "output_type": "display_data"
    }
   ],
   "source": [
    "%%R -w 800 -h 300 -i work_dir\n",
    "# plotting number of taxa at each BD\n",
    "setwd(work_dir)\n",
    "\n",
    "# loading file\n",
    "df.OTU = read.delim('OTU_abs5e9_PCR_sub_negBin.txt', sep='\\t')\n",
    "\n",
    "## edit table\n",
    "df.OTU.nt = df.OTU %>%\n",
    "    filter(count > 0) %>%\n",
    "    group_by(library, BD_mid) %>%\n",
    "    summarize(n_taxa = n())\n",
    "\n",
    "## plot\n",
    "p = ggplot(df.OTU.nt, aes(BD_mid, n_taxa)) +\n",
    "    geom_point(color='red') +\n",
    "    geom_line(color='red') +\n",
    "    geom_point(data=df.OTU.real, aes(x=Buoyant_density), color='blue') +\n",
    "    geom_line(data=df.OTU.real, aes(x=Buoyant_density), color='blue') +\n",
    "    geom_vline(xintercept=c(BD.GCp0, BD.GCp100), linetype='dashed', alpha=0.5) +\n",
    "    labs(x='Buoyant density', y='Number of taxa') +\n",
    "    theme_bw() +\n",
    "    theme( \n",
    "        text = element_text(size=16),\n",
    "        legend.position = 'none'\n",
    "    )\n",
    "p"
   ]
  },
  {
   "cell_type": "markdown",
   "metadata": {},
   "source": [
    "### Normalized by max n-taxa"
   ]
  },
  {
   "cell_type": "code",
   "execution_count": 573,
   "metadata": {
    "collapsed": false
   },
   "outputs": [
    {
     "data": {
      "image/png": "[encoded data removed]"
     },
     "metadata": {},
     "output_type": "display_data"
    }
   ],
   "source": [
    "%%R -w 800 -h 300\n",
    "\n",
    "## edit table\n",
    "df.OTU.nt = df.OTU.nt %>%\n",
    "    group_by() %>%\n",
    "    mutate(n_taxa_norm = n_taxa / max(n_taxa))\n",
    "\n",
    "df.OTU.real = df.OTU.real %>%\n",
    "    group_by() %>%\n",
    "    mutate(n_taxa_norm = n_taxa / max(n_taxa))\n",
    "\n",
    "\n",
    "## plot\n",
    "p = ggplot(df.OTU.nt, aes(BD_mid, n_taxa_norm)) +\n",
    "    geom_point(color='red') +\n",
    "    geom_line(color='red') +\n",
    "    geom_point(data=df.OTU.real, aes(x=Buoyant_density), color='blue') +\n",
    "    geom_line(data=df.OTU.real, aes(x=Buoyant_density), color='blue') +\n",
    "    geom_vline(xintercept=c(BD.GCp0, BD.GCp100), linetype='dashed', alpha=0.5) +\n",
    "    labs(x='Buoyant density', y='Number of taxa\\n(fraction of max)') +\n",
    "    theme_bw() +\n",
    "    theme( \n",
    "        text = element_text(size=16),\n",
    "        legend.position = 'none'\n",
    "    )\n",
    "p"
   ]
  },
  {
   "cell_type": "markdown",
   "metadata": {},
   "source": [
    "# Comparing abundance distributions of each target taxon"
   ]
  },
  {
   "cell_type": "code",
   "execution_count": 574,
   "metadata": {
    "collapsed": true
   },
   "outputs": [],
   "source": [
    "# function for comparing abundance distributions for each taxon\n",
    "## comparing medians & IQRs of each target OTU"
   ]
  },
  {
   "cell_type": "code",
   "execution_count": 577,
   "metadata": {
    "collapsed": false
   },
   "outputs": [
    {
     "data": {
      "text/plain": [
       "       OTU                        genomeID\n",
       "1  OTU.381 Pseudoxanthomonas_spadix_BD-a59\n",
       "2  OTU.931      Clostridium_botulinum_202F\n",
       "3 OTU.3328     Salinispora_tropica_CNB-440\n",
       "4  OTU.146   Conexibacter_woesei_DSM_14684\n",
       "5 OTU.1199 Pelobacter_propionicus_DSM_2379\n",
       "6 OTU.3790 Pelobacter_propionicus_DSM_2379\n",
       "                              genome_seqID\n",
       "1 CP003093_Pseudoxanthomonas_spadix_BD_a59\n",
       "2      CP006903_Clostridium_botulinum_202F\n",
       "3     CP000667_Salinispora_tropica_CNB_440\n",
       "4   CP001854_Conexibacter_woesei_DSM_14684\n",
       "5 CP000482_Pelobacter_propionicus_DSM_2379\n",
       "6 CP000482_Pelobacter_propionicus_DSM_2379\n"
      ]
     },
     "metadata": {},
     "output_type": "display_data"
    }
   ],
   "source": [
    "%%R -i target_file \n",
    "\n",
    "df_targets = read.delim(target_file, sep='\\t') %>%\n",
    "    select(OTU, genomeID, genome_seqID)\n",
    "df_targets %>% head"
   ]
  },
  {
   "cell_type": "code",
   "execution_count": 585,
   "metadata": {
    "collapsed": false
   },
   "outputs": [
    {
     "data": {
      "text/plain": [
       "Source: local data frame [2,008 x 2]\n",
       "\n",
       "       taxon         x\n",
       "      (fctr)     (dbl)\n",
       "1      OTU.1 17.942512\n",
       "2     OTU.10 22.814440\n",
       "3    OTU.100 14.174295\n",
       "4   OTU.1000 14.444046\n",
       "5  OTU.10001  6.699847\n",
       "6   OTU.1002 30.228782\n",
       "7  OTU.10027 15.308750\n",
       "8   OTU.1003 28.428420\n",
       "9  OTU.10030       NaN\n",
       "10 OTU.10033 25.205357\n",
       "..       ...       ...\n"
      ]
     },
     "metadata": {},
     "output_type": "display_data"
    }
   ],
   "source": [
    "%%R -i work_dir\n",
    "# plotting number of taxa at each BD\n",
    "setwd(work_dir)\n",
    "\n",
    "# loading file\n",
    "df.OTU = read.delim('OTU_abs5e9_PCR.txt', sep='\\t')\n",
    "\n",
    "df.OTU %>% \n",
    "    group_by(taxon) %>%\n",
    "    arrange(BD_mid) %>%\n",
    "    #mutate(mass = count / sum(count),\n",
    "    #       mass_cs = cumsum(mass)) %>%\n",
    "    mutate(cs = cumsum(count),\n",
    "           mass = cs / sum(count)) %>% \n",
    "    summarize(x = sum(mass))\n",
    "           "
   ]
  }
 ],
 "metadata": {
  "hide_input": true,
  "kernelspec": {
   "display_name": "Python 2",
   "language": "python",
   "name": "python2"
  },
  "language_info": {
   "codemirror_mode": {
    "name": "ipython",
    "version": 2
   },
   "file_extension": ".py",
   "mimetype": "text/x-python",
   "name": "python",
   "nbconvert_exporter": "python",
   "pygments_lexer": "ipython2",
   "version": "2.7.10"
  }
 },
 "nbformat": 4,
 "nbformat_minor": 0
}
