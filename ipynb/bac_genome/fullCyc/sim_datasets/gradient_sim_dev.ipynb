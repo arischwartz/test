{
 "cells": [
  {
   "cell_type": "markdown",
   "metadata": {},
   "source": [
    "# Creating wrapper functions for simulating a gradient with SIPSim\n",
    "\n",
    "* help to run multiple gradients through pipeline"
   ]
  },
  {
   "cell_type": "markdown",
   "metadata": {},
   "source": [
    "## Input parameters\n",
    "  * phyloseq.bulk file \n",
    "  * taxon mapping file\n",
    "  * list of genomes\n",
    "  * fragments simulated for all genomes\n",
    "  * bulk community richness\n",
    "\n",
    "\n",
    "## workflow\n",
    "\n",
    "* Creating a community file from OTU abundances in bulk soil samples\n",
    "  * phyloseq.bulk --> OTU table --> filter to sample --> community table format\n",
    "* Fragment simulation\n",
    "  * simulated_fragments --> parse out fragments for target OTUs \n",
    "  * simulated_fragments --> parse out fragments from random genomes to obtain richness of interest\n",
    "  * combine fragment python objects\n",
    "* Convert fragment lists to kde object\n",
    "* Add diffusion\n",
    "* Make incorp config file\n",
    "* Add isotope incorporation\n",
    "* Calculating BD shift from isotope incorp\n",
    "* Simulating gradient fractions\n",
    "* Simulating OTU table\n",
    "* Simulating PCR\n",
    "* Subsampling from the OTU table\n",
    "* Adding count error"
   ]
  },
  {
   "cell_type": "markdown",
   "metadata": {},
   "source": [
    "## Init"
   ]
  },
  {
   "cell_type": "code",
   "execution_count": 244,
   "metadata": {
    "collapsed": true
   },
   "outputs": [],
   "source": [
    "import glob\n",
    "import cPickle as pickle\n",
    "import copy\n",
    "import re\n",
    "from IPython.display import Image"
   ]
  },
  {
   "cell_type": "code",
   "execution_count": 245,
   "metadata": {
    "collapsed": false
   },
   "outputs": [
    {
     "name": "stdout",
     "output_type": "stream",
     "text": [
      "The rpy2.ipython extension is already loaded. To reload it, use:\n",
      "  %reload_ext rpy2.ipython\n"
     ]
    }
   ],
   "source": [
    "%load_ext rpy2.ipython"
   ]
  },
  {
   "cell_type": "code",
   "execution_count": 246,
   "metadata": {
    "collapsed": false
   },
   "outputs": [],
   "source": [
    "%%R\n",
    "library(ggplot2)\n",
    "library(dplyr)\n",
    "library(tidyr)\n",
    "library(gridExtra)\n",
    "library(phyloseq)"
   ]
  },
  {
   "cell_type": "markdown",
   "metadata": {},
   "source": [
    "# Input variables"
   ]
  },
  {
   "cell_type": "code",
   "execution_count": 338,
   "metadata": {
    "collapsed": true
   },
   "outputs": [],
   "source": [
    "work_dir = '/home/nick/notebook/SIPSim/dev/fullCyc/frag_norm_9_2.5_-5/'\n",
    "genome_index = '/home/nick/notebook/SIPSim/dev/bac_genome1210/genomes/genome_index.txt'\n",
    "genome_dir = '/home/nick/notebook/SIPSim/dev/bac_genome1210/genomes/'\n",
    "primer_file = '/home/nick/notebook/SIPSim/dev/515F-806R.fna'\n",
    "\n",
    "target_file = '/home/nick/notebook/SIPSim/dev/fullCyc/CD-HIT/target_taxa.txt'\n",
    "\n",
    "physeq_dir = '/home/nick/notebook/fullCyc/data/MiSeq_16S/515f-806r/V4_Lib1-7/phyloseq/'\n",
    "physeq_bulkCore = 'bulk-core'\n",
    "bulk_day = 1\n",
    "\n",
    "richness = 2503    # estimated total richness of sample\n",
    "nprocs = 12"
   ]
  },
  {
   "cell_type": "code",
   "execution_count": 248,
   "metadata": {
    "collapsed": true
   },
   "outputs": [],
   "source": [
    "if not os.path.isdir(work_dir):\n",
    "    os.makedirs(work_dir)"
   ]
  },
  {
   "cell_type": "markdown",
   "metadata": {},
   "source": [
    "# Creating a community file from bulk soil sample"
   ]
  },
  {
   "cell_type": "code",
   "execution_count": 249,
   "metadata": {
    "collapsed": false
   },
   "outputs": [
    {
     "data": {
      "text/plain": [
       "phyloseq-class experiment-level object\n",
       "otu_table()   OTU Table:         [ 4950 taxa and 9 samples ]\n",
       "sample_data() Sample Data:       [ 9 samples by 17 sample variables ]\n",
       "tax_table()   Taxonomy Table:    [ 4950 taxa by 8 taxonomic ranks ]\n",
       "phy_tree()    Phylogenetic Tree: [ 4950 tips and 4949 internal nodes ]\n"
      ]
     },
     "metadata": {},
     "output_type": "display_data"
    }
   ],
   "source": [
    "%%R -i physeq_dir -i physeq_bulkCore\n",
    "# bulk core samples\n",
    "F = file.path(physeq_dir, physeq_bulkCore)\n",
    "physeq.bulk = readRDS(F)\n",
    "physeq.bulk.m = physeq.bulk %>% sample_data\n",
    "physeq.bulk"
   ]
  },
  {
   "cell_type": "code",
   "execution_count": 250,
   "metadata": {
    "collapsed": false
   },
   "outputs": [
    {
     "data": {
      "text/plain": [
       "phyloseq-class experiment-level object\n",
       "otu_table()   OTU Table:         [ 2008 taxa and 1 samples ]\n",
       "sample_data() Sample Data:       [ 1 samples by 17 sample variables ]\n",
       "tax_table()   Taxonomy Table:    [ 2008 taxa by 8 taxonomic ranks ]\n",
       "phy_tree()    Phylogenetic Tree: [ 2008 tips and 2007 internal nodes ]\n"
      ]
     },
     "metadata": {},
     "output_type": "display_data"
    }
   ],
   "source": [
    "%%R -i bulk_day\n",
    "# just 12C-Con samples\n",
    "physeq.bulk.12C = prune_samples(physeq.bulk.m$Substrate == '12C-Con' & \n",
    "                                physeq.bulk.m$Day == bulk_day, physeq.bulk) %>%\n",
    "    filter_taxa(function(x) sum(x) > 0, TRUE)\n",
    "physeq.bulk.12C.m = physeq.bulk.12C %>% sample_data\n",
    "physeq.bulk.12C"
   ]
  },
  {
   "cell_type": "code",
   "execution_count": 251,
   "metadata": {
    "collapsed": false
   },
   "outputs": [
    {
     "data": {
      "text/plain": [
       "File written:  /home/nick/notebook/SIPSim/dev/fullCyc/frag_norm_9_2.5_-5//comm_bulk_12C-Con.D1.txt \n"
      ]
     },
     "metadata": {},
     "output_type": "display_data"
    }
   ],
   "source": [
    "%%R -i work_dir -i bulk_day\n",
    "\n",
    "physeq2comm = function(physeq){\n",
    "    df.otu = physeq %>% otu_table %>% as.matrix %>% as.data.frame\n",
    "    df.otu$taxon_name = rownames(df.otu)\n",
    "    df.otu = gather(df.otu, 'sample', 'abundance', 1:(ncol(df.otu)-1))\n",
    "    df.otu = df.otu %>%\n",
    "        group_by(sample) %>%\n",
    "        mutate(rel_abund_perc = abundance / sum(abundance) * 100,\n",
    "               rank = row_number(-abundance)) %>%\n",
    "        ungroup() %>%\n",
    "        mutate(library = gsub('^', '_', sample) %>% as.factor %>% as.numeric) %>%\n",
    "        select(library, taxon_name, rel_abund_perc, rank) %>%\n",
    "        arrange(library, rank)\n",
    "    \n",
    "}\n",
    "\n",
    "comm.bulk.12C = physeq2comm(physeq.bulk.12C)\n",
    "#comm.bulk.12C %>% head\n",
    "\n",
    "# writing out comm file\n",
    "x = paste(c('comm_bulk_12C-Con.D',bulk_day, '.txt'), collapse='')\n",
    "comm_file = file.path(work_dir, x)\n",
    "write.table(comm.bulk.12C, comm_file, quote=FALSE, row.names=FALSE, sep='\\t')\n",
    "cat('File written: ', comm_file, '\\n')"
   ]
  },
  {
   "cell_type": "markdown",
   "metadata": {},
   "source": [
    "### Adding on target (OTU <--> genome) to comm object"
   ]
  },
  {
   "cell_type": "code",
   "execution_count": 252,
   "metadata": {
    "collapsed": false
   },
   "outputs": [
    {
     "data": {
      "text/plain": [
       "  library taxon_name rel_abund_perc rank cluster\n",
       "1       1  OTU.14142       5.918292    1      NA\n",
       "2       1      OTU.2       5.856579    2     134\n",
       "3       1  OTU.12920       4.424833    3      NA\n",
       "                                                                ssu_ID\n",
       "1                                                                 <NA>\n",
       "2 rRNA_AP012157_Solibacillus_silvestris_StLB046_DNA_290186-291730_DIR+\n",
       "3                                                                 <NA>\n",
       "                                                                                genome_fileID\n",
       "1                                                                                        <NA>\n",
       "2 /home/nick/notebook/SIPSim/dev/bac_genome1210/genomes/Solibacillus_silvestris_StLB046.fasta\n",
       "3                                                                                        <NA>\n",
       "                         genomeID                                 genome_seqID\n",
       "1                            <NA>                                         <NA>\n",
       "2 Solibacillus_silvestris_StLB046 AP012157_Solibacillus_silvestris_StLB046_DNA\n",
       "3                            <NA>                                         <NA>\n",
       "                                                                           OTU_taxonomy\n",
       "1                                                                                  <NA>\n",
       "2 Bacteria:Firmicutes:Bacilli:Bacillales:Bacillaceae:Bacillus:Unclassified:Unclassified\n",
       "3                                                                                  <NA>\n"
      ]
     },
     "metadata": {},
     "output_type": "display_data"
    }
   ],
   "source": [
    "%%R -i target_file \n",
    "\n",
    "df_targets = read.delim(target_file, sep='\\t')\n",
    "comm_bulk_12C_j = left_join(comm.bulk.12C, df_targets, c('taxon_name' = 'OTU')) %>% \n",
    "    as.data.frame %>%\n",
    "    mutate(ssu_ID = ssu_ID %>% as.character,\n",
    "           genome_fileID = genome_fileID %>% as.character,\n",
    "           genomeID = genomeID %>% as.character,\n",
    "           genome_seqID = genome_seqID %>% as.character,\n",
    "           OTU_taxonomy = OTU_taxonomy %>% as.character)\n",
    "comm_bulk_12C_j %>% head(n=3)"
   ]
  },
  {
   "cell_type": "code",
   "execution_count": 253,
   "metadata": {
    "collapsed": false
   },
   "outputs": [
    {
     "data": {
      "text/html": [
       "<div>\n",
       "<table border=\"1\" class=\"dataframe\">\n",
       "  <thead>\n",
       "    <tr style=\"text-align: right;\">\n",
       "      <th></th>\n",
       "      <th>library</th>\n",
       "      <th>taxon_name</th>\n",
       "      <th>rel_abund_perc</th>\n",
       "      <th>rank</th>\n",
       "      <th>cluster</th>\n",
       "      <th>ssu_ID</th>\n",
       "      <th>genome_fileID</th>\n",
       "      <th>genomeID</th>\n",
       "      <th>genome_seqID</th>\n",
       "      <th>OTU_taxonomy</th>\n",
       "    </tr>\n",
       "  </thead>\n",
       "  <tbody>\n",
       "    <tr>\n",
       "      <th>0</th>\n",
       "      <td>1</td>\n",
       "      <td>OTU.14142</td>\n",
       "      <td>5.918292</td>\n",
       "      <td>1</td>\n",
       "      <td>-2147483648</td>\n",
       "      <td>NA</td>\n",
       "      <td>NA</td>\n",
       "      <td>NA</td>\n",
       "      <td>NA</td>\n",
       "      <td>NA</td>\n",
       "    </tr>\n",
       "    <tr>\n",
       "      <th>1</th>\n",
       "      <td>1</td>\n",
       "      <td>OTU.2</td>\n",
       "      <td>5.856579</td>\n",
       "      <td>2</td>\n",
       "      <td>134</td>\n",
       "      <td>rRNA_AP012157_Solibacillus_silvestris_StLB046_...</td>\n",
       "      <td>/home/nick/notebook/SIPSim/dev/bac_genome1210/...</td>\n",
       "      <td>Solibacillus_silvestris_StLB046</td>\n",
       "      <td>AP012157_Solibacillus_silvestris_StLB046_DNA</td>\n",
       "      <td>Bacteria:Firmicutes:Bacilli:Bacillales:Bacilla...</td>\n",
       "    </tr>\n",
       "    <tr>\n",
       "      <th>2</th>\n",
       "      <td>1</td>\n",
       "      <td>OTU.12920</td>\n",
       "      <td>4.424833</td>\n",
       "      <td>3</td>\n",
       "      <td>-2147483648</td>\n",
       "      <td>NA</td>\n",
       "      <td>NA</td>\n",
       "      <td>NA</td>\n",
       "      <td>NA</td>\n",
       "      <td>NA</td>\n",
       "    </tr>\n",
       "  </tbody>\n",
       "</table>\n",
       "</div>"
      ],
      "text/plain": [
       "   library taxon_name  rel_abund_perc  rank     cluster  \\\n",
       "0        1  OTU.14142        5.918292     1 -2147483648   \n",
       "1        1      OTU.2        5.856579     2         134   \n",
       "2        1  OTU.12920        4.424833     3 -2147483648   \n",
       "\n",
       "                                              ssu_ID  \\\n",
       "0                                                 NA   \n",
       "1  rRNA_AP012157_Solibacillus_silvestris_StLB046_...   \n",
       "2                                                 NA   \n",
       "\n",
       "                                       genome_fileID  \\\n",
       "0                                                 NA   \n",
       "1  /home/nick/notebook/SIPSim/dev/bac_genome1210/...   \n",
       "2                                                 NA   \n",
       "\n",
       "                          genomeID  \\\n",
       "0                               NA   \n",
       "1  Solibacillus_silvestris_StLB046   \n",
       "2                               NA   \n",
       "\n",
       "                                   genome_seqID  \\\n",
       "0                                            NA   \n",
       "1  AP012157_Solibacillus_silvestris_StLB046_DNA   \n",
       "2                                            NA   \n",
       "\n",
       "                                        OTU_taxonomy  \n",
       "0                                                 NA  \n",
       "1  Bacteria:Firmicutes:Bacilli:Bacillales:Bacilla...  \n",
       "2                                                 NA  "
      ]
     },
     "execution_count": 253,
     "metadata": {},
     "output_type": "execute_result"
    }
   ],
   "source": [
    "# R to python\n",
    "%Rpull comm_bulk_12C_j\n",
    "comm_bulk_12C_j.head(n=3)"
   ]
  },
  {
   "cell_type": "markdown",
   "metadata": {},
   "source": [
    "# Genome Fragments"
   ]
  },
  {
   "cell_type": "markdown",
   "metadata": {},
   "source": [
    "## Fragment simulation of dataset genomes"
   ]
  },
  {
   "cell_type": "code",
   "execution_count": 10,
   "metadata": {
    "collapsed": true
   },
   "outputs": [],
   "source": [
    "!cd $work_dir; \\\n",
    "    SIPSim fragments \\\n",
    "    $genome_index \\\n",
    "    --fp $genome_dir \\\n",
    "    --fr $primer_file \\\n",
    "    --fld skewed-normal,9000,2500,-5 \\\n",
    "    --flr None,None \\\n",
    "    --nf 10000 \\\n",
    "    --np $nprocs \\\n",
    "    2> ampFrags.log \\\n",
    "    > ampFrags.pkl        "
   ]
  },
  {
   "cell_type": "code",
   "execution_count": 353,
   "metadata": {
    "collapsed": false
   },
   "outputs": [
    {
     "name": "stdout",
     "output_type": "stream",
     "text": [
      "Count of frag-GC KDEs for all genomes: 1210\n"
     ]
    }
   ],
   "source": [
    "# loading amplicon fragments from full genome KDE dataset\n",
    "ampFragFile = os.path.join(work_dir, 'ampFrags.pkl')\n",
    "\n",
    "ampFrag_all = []\n",
    "with open(ampFragFile, 'rb') as iFH:\n",
    "    ampFrag_all = pickle.load(iFH)\n",
    "print 'Count of frag-GC KDEs for all genomes: {}'.format(len(ampFrag_all))    "
   ]
  },
  {
   "cell_type": "markdown",
   "metadata": {},
   "source": [
    "## Parsing out fragments for matching OTU-genomes"
   ]
  },
  {
   "cell_type": "code",
   "execution_count": 354,
   "metadata": {
    "collapsed": false
   },
   "outputs": [
    {
     "data": {
      "text/plain": [
       "(96, 10)"
      ]
     },
     "execution_count": 354,
     "metadata": {},
     "output_type": "execute_result"
    }
   ],
   "source": [
    "x = comm_bulk_12C_j.loc[comm_bulk_12C_j['cluster'] >= 0, :]\n",
    "x.shape"
   ]
  },
  {
   "cell_type": "code",
   "execution_count": 355,
   "metadata": {
    "collapsed": false
   },
   "outputs": [
    {
     "name": "stderr",
     "output_type": "stream",
     "text": [
      "Number of OTU-genome matches: 96\n",
      "Number of genomes with simulated fragments: 1210\n",
      "10,20,30,40,50,60,70,80,90,"
     ]
    }
   ],
   "source": [
    "def parse_target_ampFrags(ampFrags, comm):\n",
    "    # just OTUs in community with matching genome\n",
    "    comm_target = comm.loc[comm['cluster'] >= 0, :]\n",
    "    msg = 'Number of OTU-genome matches: {}\\n'\n",
    "    sys.stderr.write(msg.format(comm_target.shape[0]))\n",
    "                               \n",
    "    # making an index for ampFrag list\n",
    "    target_idx = {g[0]:i for i,g in enumerate(ampFrag_all)}\n",
    "    msg = 'Number of genomes with simulated fragments: {}\\n'\n",
    "    sys.stderr.write(msg.format(len(target_idx))) \n",
    "        \n",
    "    # parsing out ampFrags\n",
    "    ampFrag_target = []\n",
    "    stat_cnt = 0\n",
    "    for count,row in comm_target.iterrows():\n",
    "        stat_cnt += 1\n",
    "        if stat_cnt % 10 == 0:\n",
    "            sys.stderr.write('{},'.format(stat_cnt))\n",
    "        tg = row['genomeID']\n",
    "        try:\n",
    "            idx = target_idx[tg]\n",
    "        except KeyError:\n",
    "            idx = None\n",
    "            msg = 'Cannot find \"{}\" in target list'\n",
    "            print msg.format(tg)\n",
    "        try:\n",
    "            ampFrag_target.append(copy.deepcopy(ampFrags[idx]))\n",
    "        except TypeError:\n",
    "            pass\n",
    "        \n",
    "    # renaming genome fragment KDEs for target OTUs by target OTU-ID\n",
    "    for i in range(comm_target.shape[0]):\n",
    "        ampFrag_target[i][0] =  comm_target.iloc[i,1]               \n",
    "        \n",
    "    # check that all were found\n",
    "    x_len = len(ampFrag_target)\n",
    "    y_len = comm_target.shape[0]\n",
    "    if(x_len != y_len):\n",
    "        msg = 'No matching genomes for {} OTUs!\\n'.format(y_len - x_len)\n",
    "        sys.stderr.write(msg)\n",
    "        \n",
    "    return(ampFrag_target)\n",
    "    \n",
    "# main    \n",
    "ampFrag_target = parse_target_ampFrags(ampFrag_all, comm_bulk_12C_j)"
   ]
  },
  {
   "cell_type": "markdown",
   "metadata": {},
   "source": [
    "## Parsing out fragments of random genomes for all non-matching OTUs "
   ]
  },
  {
   "cell_type": "code",
   "execution_count": 356,
   "metadata": {
    "collapsed": false
   },
   "outputs": [
    {
     "name": "stdout",
     "output_type": "stream",
     "text": [
      "Number of OTUs in community without matching genomes: 1912\n"
     ]
    }
   ],
   "source": [
    "comm_nontarget = comm_bulk_12C_j.loc[comm_bulk_12C_j['cluster'] < 0, :]\n",
    "print 'Number of OTUs in community without matching genomes: {}'.format(comm_nontarget.shape[0])"
   ]
  },
  {
   "cell_type": "code",
   "execution_count": 373,
   "metadata": {
    "collapsed": false
   },
   "outputs": [
    {
     "name": "stderr",
     "output_type": "stream",
     "text": [
      "Number of random taxa needed to reach richness: 2407\n",
      "Number of OTUs in community without matching genomes: 1912\n",
      "Non-target fragment pool size: 1122\n",
      "10,20,30,40,50,60,70,80,90,100,110,120,130,140,150,160,170,180,190,200,210,220,230,240,250,260,270,280,290,300,310,320,330,340,350,360,370,380,390,400,410,420,430,440,450,460,470,480,490,500,510,520,530,540,550,560,570,580,590,600,610,620,630,640,650,660,670,680,690,700,710,720,730,740,750,760,770,780,790,800,810,820,830,840,850,860,870,880,890,900,910,920,930,940,950,960,970,980,990,1000,1010,1020,1030,1040,1050,1060,1070,1080,1090,1100,1110,1120,1130,1140,1150,1160,1170,1180,1190,1200,1210,1220,1230,1240,1250,1260,1270,1280,1290,1300,1310,1320,1330,1340,1350,1360,1370,1380,1390,1400,1410,1420,1430,1440,1450,1460,1470,1480,1490,1500,1510,1520,1530,1540,1550,1560,1570,1580,1590,1600,1610,1620,1630,1640,1650,1660,1670,1680,1690,1700,1710,1720,1730,1740,1750,1760,1770,1780,1790,1800,1810,1820,1830,1840,1850,1860,1870,1880,1890,1900,1910,1920,1930,1940,1950,1960,1970,1980,1990,2000,2010,2020,2030,2040,2050,2060,2070,2080,2090,2100,2110,2120,2130,2140,2150,2160,2170,2180,2190,2200,2210,2220,2230,2240,2250,2260,2270,2280,2290,2300,2310,2320,2330,2340,2350,2360,2370,2380,2390,2400,"
     ]
    }
   ],
   "source": [
    "def parse_target_non_ampFrags(ampFrags, comm, richness_needed):\n",
    "    # just OTUs in community with matching genome\n",
    "    comm_nontarget = comm.loc[comm['cluster'] < 0, :]\n",
    "    msg = 'Number of OTUs in community without matching genomes: {}\\n'\n",
    "    sys.stderr.write(msg.format(comm_nontarget.shape[0]))\n",
    "    \n",
    "    # making an index of non-target genome fragments\n",
    "    ## will select randomly from index to select genome fragments\n",
    "    nt = set(comm['genomeID'])\n",
    "    ampFrag_nonTarget_idx = [i for i,x in enumerate(ampFrags) if x[0] not in nt]\n",
    "    pool_size = len(ampFrag_nonTarget_idx)\n",
    "    msg = 'Non-target fragment pool size: {}\\n'\n",
    "    sys.stderr.write(msg.format(pool_size))\n",
    "        \n",
    "    # parsing amp frag\n",
    "    ampFrag_rand = []\n",
    "    if richness_needed > 0:\n",
    "        # random choice index\n",
    "        r_idx = range(len(ampFrag_nonTarget_idx))\n",
    "        r_idx = np.random.choice(r_idx, richness_needed)\n",
    "    \n",
    "        # parsing out randomly selected fragments for each non-target OTU\n",
    "        stat_cnt = 0\n",
    "        for i in r_idx:\n",
    "            stat_cnt += 1\n",
    "            if stat_cnt % 10 == 0:\n",
    "                sys.stderr.write('{},'.format(stat_cnt))\n",
    "            ii = ampFrag_nonTarget_idx[i]\n",
    "            ampFrag_rand.append(copy.deepcopy(ampFrag_all[ii]))\n",
    "        \n",
    "        # renaming randomly selected KDEs by random OTU_IDs\n",
    "        comm_nontarget_size = comm_nontarget.shape[0]\n",
    "        for i in range(richness_needed):\n",
    "            ampFrag_rand[i][0] = 'OTU.r{}'.format(i)\n",
    "            #ampFrag_rand[i][0] = comm_nontarget.iloc[i,1]\n",
    "        \n",
    "        # checking\n",
    "        x_len = len(ampFrag_rand)\n",
    "        if(x_len != richness_needed):\n",
    "            msg = 'Richness != needed richess; non-target richness = {}'\n",
    "            sys.stderr.write(msg.format(x_len))       \n",
    "            \n",
    "    return ampFrag_rand\n",
    "    \n",
    "    \n",
    "# main   \n",
    "## richness needed\n",
    "richness_needed = richness - len(ampFrag_target)\n",
    "msg = 'Number of random taxa needed to reach richness: {}\\n'\n",
    "sys.stderr.write(msg.format(richness_needed))\n",
    "\n",
    "## parsing out fragments\n",
    "ampFrag_rand = parse_target_non_ampFrags(ampFrag_all, comm_bulk_12C_j, richness_needed)      "
   ]
  },
  {
   "cell_type": "markdown",
   "metadata": {},
   "source": [
    "## Combining into 1 fragment distribution dataset"
   ]
  },
  {
   "cell_type": "code",
   "execution_count": 375,
   "metadata": {
    "collapsed": false
   },
   "outputs": [],
   "source": [
    "# final check\n",
    "if len(ampFrag_target) + len(ampFrag_rand) != richness:\n",
    "    msg = 'WARNING: incorrect richness!\\n'\n",
    "    sys.stderr.write(msg)"
   ]
  },
  {
   "cell_type": "code",
   "execution_count": 376,
   "metadata": {
    "collapsed": false
   },
   "outputs": [
    {
     "name": "stdout",
     "output_type": "stream",
     "text": [
      "Number of taxa in output: 2503\n"
     ]
    }
   ],
   "source": [
    "# appending random taxa to target taxa and writing\n",
    "outFile = os.path.join(work_dir, 'ampFrags_wRand.pkl')\n",
    "\n",
    "with open(outFile, 'wb') as oFH:\n",
    "    x = ampFrag_target + ampFrag_rand\n",
    "    print 'Number of taxa in output: {}'.format(len(x))\n",
    "    pickle.dump(x, oFH)\n",
    "    x = ()"
   ]
  },
  {
   "cell_type": "markdown",
   "metadata": {},
   "source": [
    "### Making a comm file for all OTUs"
   ]
  },
  {
   "cell_type": "code",
   "execution_count": 377,
   "metadata": {
    "collapsed": true
   },
   "outputs": [],
   "source": [
    "### remove large ampFrag objects from memory\n",
    "ampFrag_all = ()\n",
    "ampFrag_target = ()\n",
    "ampFrag_rand = ()"
   ]
  },
  {
   "cell_type": "code",
   "execution_count": 340,
   "metadata": {
    "collapsed": false
   },
   "outputs": [
    {
     "name": "stdout",
     "output_type": "stream",
     "text": [
      "Count of frag-GC KDEs for all genomes: 1210\n"
     ]
    }
   ],
   "source": [
    "#-- debug --#\n",
    "ampFragFile = os.path.join(work_dir, 'ampFrags_wRand.pkl')\n",
    "\n",
    "ampFrag_debug = []\n",
    "with open(ampFragFile, 'rb') as iFH:\n",
    "    ampFrag_debug = pickle.load(iFH)\n",
    "print 'Count of frag-GC KDEs for all genomes: {}'.format(len(ampFrag_debug))    "
   ]
  },
  {
   "cell_type": "code",
   "execution_count": 378,
   "metadata": {
    "collapsed": false
   },
   "outputs": [],
   "source": [
    "#sorted([x[0] for x ina ampFrag_debug], reverse=True)"
   ]
  },
  {
   "cell_type": "markdown",
   "metadata": {},
   "source": [
    "# Converting fragments to kde object"
   ]
  },
  {
   "cell_type": "code",
   "execution_count": 379,
   "metadata": {
    "collapsed": false
   },
   "outputs": [],
   "source": [
    "!cd $work_dir; \\\n",
    "    SIPSim fragment_kde \\\n",
    "    ampFrags_wRand.pkl \\\n",
    "    > ampFrags_wRand_kde.pkl"
   ]
  },
  {
   "cell_type": "markdown",
   "metadata": {},
   "source": [
    "# Adding diffusion"
   ]
  },
  {
   "cell_type": "code",
   "execution_count": 380,
   "metadata": {
    "collapsed": false
   },
   "outputs": [
    {
     "name": "stdout",
     "output_type": "stream",
     "text": [
      "Processing: OTU.r275\n",
      "Processing: OTU.r1412\n",
      "Processing: OTU.r1742\n",
      "Processing: OTU.r820\n",
      "Processing: OTU.r274\n",
      "Processing: OTU.r2053\n",
      "Processing: OTU.r1411\n",
      "Processing: OTU.1\n",
      "Processing: OTU.r1741\n",
      "Processing: OTU.r1990\n",
      "Processing: OTU.r821\n",
      "Processing: OTU.r2063\n",
      "Processing: OTU.r2062\n",
      "Processing: OTU.r277\n",
      "Processing: OTU.r2050\n",
      "Processing: OTU.r2051\n",
      "Processing: OTU.r1696\n",
      "Processing: OTU.r1410\n",
      "Processing: OTU.r1030\n",
      "Processing: OTU.3\n",
      "Processing: OTU.r1740\n",
      "Processing: OTU.r2275\n",
      "Processing: OTU.r1991\n",
      "Processing: OTU.r822\n",
      "Processing: OTU.r1516\n",
      "Processing: OTU.r1517\n",
      "Processing: OTU.r2061\n",
      "Processing: OTU.r276\n",
      "Processing: OTU.r442\n",
      "Processing: OTU.r1691\n",
      "Processing: OTU.r1417\n",
      "Processing: OTU.r1033\n",
      "Processing: OTU.2\n",
      "Processing: OTU.r1747\n",
      "Processing: OTU.r1949\n",
      "Processing: OTU.r1996\n",
      "Processing: OTU.r823\n",
      "Processing: OTU.r2060\n",
      "Processing: OTU.r1514\n",
      "Processing: OTU.r1825\n",
      "Processing: OTU.r271\n",
      "Processing: OTU.r443\n",
      "Processing: OTU.r440\n",
      "Processing: OTU.r1690\n",
      "Processing: OTU.r1416\n",
      "Processing: OTU.r1032\n",
      "Processing: OTU.5\n",
      "Processing: OTU.r1746\n",
      "Processing: OTU.r828\n",
      "Processing: OTU.r2278\n",
      "Processing: OTU.r1997\n",
      "Processing: OTU.r2067\n",
      "Processing: OTU.r1512\n",
      "Processing: OTU.r270\n",
      "Processing: OTU.r441\n",
      "Processing: OTU.r1693\n",
      "Processing: OTU.r1692\n",
      "Processing: OTU.r1509\n",
      "Processing: OTU.r1415\n",
      "Processing: OTU.r1035\n",
      "Processing: OTU.4\n",
      "Processing: OTU.r1745\n",
      "Processing: OTU.r829\n",
      "Processing: OTU.r2279\n",
      "Processing: OTU.r1994\n",
      "Processing: OTU.r2066\n",
      "Processing: OTU.r1513\n",
      "Processing: OTU.r273\n",
      "Processing: OTU.r446\n",
      "Processing: OTU.r1508\n",
      "Processing: OTU.r1414\n",
      "Processing: OTU.r1034\n",
      "Processing: OTU.6\n",
      "Processing: OTU.r1963\n",
      "Processing: OTU.r1744\n",
      "Processing: OTU.r1948\n",
      "Processing: OTU.r1995\n",
      "Processing: OTU.r2065\n",
      "Processing: OTU.r1510\n",
      "Processing: OTU.r272\n",
      "Processing: OTU.r447\n",
      "Processing: OTU.r1505\n",
      "Processing: OTU.r1419\n",
      "Processing: OTU.r1037\n",
      "Processing: OTU.r138\n",
      "Processing: OTU.r1809\n",
      "Processing: OTU.r1989\n",
      "Processing: OTU.r2098\n",
      "Processing: OTU.r1192\n",
      "Processing: OTU.r2064\n",
      "Processing: OTU.r1511\n",
      "Processing: OTU.r2197\n",
      "Processing: OTU.r444\n",
      "Processing: OTU.r1504\n",
      "Processing: OTU.r1418\n",
      "Processing: OTU.r1036\n",
      "Processing: OTU.r139\n",
      "Processing: OTU.r1961\n",
      "Processing: OTU.r1988\n",
      "Processing: OTU.r2099\n",
      "Processing: OTU.r1193\n",
      "Processing: OTU.r2069\n",
      "Processing: OTU.r1435\n",
      "Processing: OTU.r2196\n",
      "Processing: OTU.r445\n",
      "Processing: OTU.r1507\n",
      "Processing: OTU.r109\n",
      "Processing: OTU.2978\n",
      "Processing: OTU.r1960\n",
      "Processing: OTU.r136\n",
      "Processing: OTU.r1981\n",
      "Processing: OTU.r2092\n",
      "Processing: OTU.r1190\n",
      "Processing: OTU.r2068\n",
      "Processing: OTU.r2308\n",
      "Processing: OTU.r2195\n",
      "Processing: OTU.r2194\n",
      "Processing: OTU.r2294\n",
      "Processing: OTU.r1506\n",
      "Processing: OTU.r108\n",
      "Processing: OTU.4239\n",
      "Processing: OTU.r1967\n",
      "Processing: OTU.r137\n",
      "Processing: OTU.r1980\n",
      "Processing: OTU.r2093\n",
      "Processing: OTU.r1191\n",
      "Processing: OTU.3492\n",
      "Processing: OTU.r2309\n",
      "Processing: OTU.r279\n",
      "Processing: OTU.r2295\n",
      "Processing: OTU.r1501\n",
      "Processing: OTU.r1966\n",
      "Processing: OTU.r103\n",
      "Processing: OTU.r936\n",
      "Processing: OTU.r134\n",
      "Processing: OTU.r1983\n",
      "Processing: OTU.r2090\n",
      "Processing: OTU.r1196\n",
      "Processing: OTU.r455\n",
      "Processing: OTU.r2260\n",
      "Processing: OTU.r1434\n",
      "Processing: OTU.838\n",
      "Processing: OTU.r278\n",
      "Processing: OTU.r448\n",
      "Processing: OTU.r1500\n",
      "Processing: OTU.r102\n",
      "Processing: OTU.r937\n",
      "Processing: OTU.r135\n",
      "Processing: OTU.r1982\n",
      "Processing: OTU.r2091\n",
      "Processing: OTU.r1197\n",
      "Processing: OTU.r2302\n",
      "Processing: OTU.r611\n",
      "Processing: OTU.r457\n",
      "Processing: OTU.r2191\n",
      "Processing: OTU.r449\n",
      "Processing: OTU.r1503\n",
      "Processing: OTU.r1502\n",
      "Processing: OTU.r101\n",
      "Processing: OTU.r934\n",
      "Processing: OTU.r132\n",
      "Processing: OTU.r1985\n",
      "Processing: OTU.r2096\n",
      "Processing: OTU.r1194\n",
      "Processing: OTU.r1964\n",
      "Processing: OTU.r756\n",
      "Processing: OTU.r2303\n",
      "Processing: OTU.r2290\n",
      "Processing: OTU.r456\n",
      "Processing: OTU.r2190\n",
      "Processing: OTU.r2319\n",
      "Processing: OTU.r100\n",
      "Processing: OTU.r935\n",
      "Processing: OTU.r133\n",
      "Processing: OTU.r2291\n",
      "Processing: OTU.r1984\n",
      "Processing: OTU.r1801\n",
      "Processing: OTU.r2097\n",
      "Processing: OTU.r1195\n",
      "Processing: OTU.r2300\n",
      "Processing: OTU.r451\n",
      "Processing: OTU.r2049\n",
      "Processing: OTU.r705\n",
      "Processing: OTU.r704\n",
      "Processing: OTU.r2292\n",
      "Processing: OTU.r107\n",
      "Processing: OTU.r932\n",
      "Processing: OTU.r1802\n",
      "Processing: OTU.r130\n",
      "Processing: OTU.r1987\n",
      "Processing: OTU.r2094\n",
      "Processing: OTU.r1198\n",
      "Processing: OTU.r2301\n",
      "Processing: OTU.r450\n",
      "Processing: OTU.r2048\n",
      "Processing: OTU.r2293\n",
      "Processing: OTU.r2311\n",
      "Processing: OTU.r1803\n",
      "Processing: OTU.r106\n",
      "Processing: OTU.r933\n",
      "Processing: OTU.r131\n",
      "Processing: OTU.r1986\n",
      "Processing: OTU.r2095\n",
      "Processing: OTU.r1199\n",
      "Processing: OTU.r628\n",
      "Processing: OTU.r2306\n",
      "Processing: OTU.r453\n",
      "Processing: OTU.r2045\n",
      "Processing: OTU.r1804\n",
      "Processing: OTU.r2310\n",
      "Processing: OTU.r105\n",
      "Processing: OTU.r930\n",
      "Processing: OTU.r629\n",
      "Processing: OTU.r1578\n",
      "Processing: OTU.r903\n",
      "Processing: OTU.r330\n",
      "Processing: OTU.r1438\n",
      "Processing: OTU.r1805\n",
      "Processing: OTU.r2307\n",
      "Processing: OTU.r452\n",
      "Processing: OTU.r2044\n",
      "Processing: OTU.r2313\n",
      "Processing: OTU.r622\n",
      "Processing: OTU.r104\n",
      "Processing: OTU.r931\n",
      "Processing: OTU.634\n",
      "Processing: OTU.r1806\n",
      "Processing: OTU.r1579\n",
      "Processing: OTU.r902\n",
      "Processing: OTU.r331\n",
      "Processing: OTU.2955\n",
      "Processing: OTU.r2304\n",
      "Processing: OTU.r2269\n",
      "Processing: OTU.r623\n",
      "Processing: OTU.r2047\n",
      "Processing: OTU.r2312\n",
      "Processing: OTU.r1807\n",
      "Processing: OTU.r299\n",
      "Processing: OTU.r938\n",
      "Processing: OTU.r1570\n",
      "Processing: OTU.r901\n",
      "Processing: OTU.r332\n",
      "Processing: OTU.r1181\n",
      "Processing: OTU.r620\n",
      "Processing: OTU.r2305\n",
      "Processing: OTU.r2268\n",
      "Processing: OTU.r2180\n",
      "Processing: OTU.r2046\n",
      "Processing: OTU.r2315\n",
      "Processing: OTU.r621\n",
      "Processing: OTU.r298\n",
      "Processing: OTU.r939\n",
      "Processing: OTU.r1571\n",
      "Processing: OTU.r333\n",
      "Processing: OTU.r900\n",
      "Processing: OTU.r1180\n",
      "Processing: OTU.r2181\n",
      "Processing: OTU.r1336\n",
      "Processing: OTU.r459\n",
      "Processing: OTU.r2041\n",
      "Processing: OTU.r2040\n",
      "Processing: OTU.r626\n",
      "Processing: OTU.r707\n",
      "Processing: OTU.r293\n",
      "Processing: OTU.r2027\n",
      "Processing: OTU.r2182\n",
      "Processing: OTU.r1572\n",
      "Processing: OTU.r334\n",
      "Processing: OTU.r907\n",
      "Processing: OTU.r1183\n",
      "Processing: OTU.r1337\n",
      "Processing: OTU.r627\n",
      "Processing: OTU.r458\n",
      "Processing: OTU.r2043\n",
      "Processing: OTU.r2317\n",
      "Processing: OTU.r2183\n",
      "Processing: OTU.r292\n",
      "Processing: OTU.r808\n",
      "Processing: OTU.r1573\n",
      "Processing: OTU.r624\n",
      "Processing: OTU.r335\n",
      "Processing: OTU.r336\n",
      "Processing: OTU.r906\n",
      "Processing: OTU.r1182\n",
      "Processing: OTU.r1334\n",
      "Processing: OTU.r2089\n",
      "Processing: OTU.r2088\n",
      "Processing: OTU.r2184\n",
      "Processing: OTU.r2042\n",
      "Processing: OTU.r2316\n",
      "Processing: OTU.r625\n",
      "Processing: OTU.r809\n",
      "Processing: OTU.r291\n",
      "Processing: OTU.r1574\n",
      "Processing: OTU.r337\n",
      "Processing: OTU.r1185\n",
      "Processing: OTU.r905\n",
      "Processing: OTU.r2185\n",
      "Processing: OTU.r1335\n",
      "Processing: OTU.r639\n",
      "Processing: OTU.r2289\n",
      "Processing: OTU.r1974\n",
      "Processing: OTU.r1325\n",
      "Processing: OTU.r290\n",
      "Processing: OTU.r2026\n",
      "Processing: OTU.r1575\n",
      "Processing: OTU.r486\n",
      "Processing: OTU.r1184\n",
      "Processing: OTU.r904\n",
      "Processing: OTU.r1975\n",
      "Processing: OTU.r2186\n",
      "Processing: OTU.r1332\n",
      "Processing: OTU.r638\n",
      "Processing: OTU.r2288\n",
      "Processing: OTU.r1324\n",
      "Processing: OTU.r802\n",
      "Processing: OTU.r297\n",
      "Processing: OTU.r1976\n",
      "Processing: OTU.r2187\n",
      "Processing: OTU.r1576\n",
      "Processing: OTU.r487\n",
      "Processing: OTU.r909\n",
      "Processing: OTU.r1187\n",
      "Processing: OTU.r1333\n",
      "Processing: OTU.r635\n",
      "Processing: OTU.r479\n",
      "Processing: OTU.r1327\n",
      "Processing: OTU.r1977\n",
      "Processing: OTU.r803\n",
      "Processing: OTU.r296\n",
      "Processing: OTU.r2188\n",
      "Processing: OTU.r1577\n",
      "Processing: OTU.r484\n",
      "Processing: OTU.r557\n",
      "Processing: OTU.r1186\n",
      "Processing: OTU.r1330\n",
      "Processing: OTU.r634\n",
      "Processing: OTU.r1970\n",
      "Processing: OTU.r478\n",
      "Processing: OTU.r706\n",
      "Processing: OTU.r800\n",
      "Processing: OTU.r2189\n",
      "Processing: OTU.r295\n",
      "Processing: OTU.r2348\n",
      "Processing: OTU.r485\n",
      "Processing: OTU.r1971\n",
      "Processing: OTU.146\n",
      "Processing: OTU.r1189\n",
      "Processing: OTU.r1188\n",
      "Processing: OTU.r1331\n",
      "Processing: OTU.r637\n",
      "Processing: OTU.r477\n",
      "Processing: OTU.r1321\n",
      "Processing: OTU.r1972\n",
      "Processing: OTU.r1973\n",
      "Processing: OTU.r801\n",
      "Processing: OTU.747\n",
      "Processing: OTU.r294\n",
      "Processing: OTU.r482\n",
      "Processing: OTU.r2349\n",
      "Processing: OTU.r837\n",
      "Processing: OTU.r2283\n",
      "Processing: OTU.r1338\n",
      "Processing: OTU.r636\n",
      "Processing: OTU.r1978\n",
      "Processing: OTU.r1320\n",
      "Processing: OTU.r476\n",
      "Processing: OTU.r806\n",
      "Processing: OTU.r594\n",
      "Processing: OTU.r1567\n",
      "Processing: OTU.r483\n",
      "Processing: OTU.r1350\n",
      "Processing: OTU.r836\n",
      "Processing: OTU.r2282\n",
      "Processing: OTU.r1339\n",
      "Processing: OTU.r1979\n",
      "Processing: OTU.r631\n",
      "Processing: OTU.r630\n",
      "Processing: OTU.r633\n",
      "Processing: OTU.r1323\n",
      "Processing: OTU.r475\n",
      "Processing: OTU.r807\n",
      "Processing: OTU.r595\n",
      "Processing: OTU.r1566\n",
      "Processing: OTU.r1404\n",
      "Processing: OTU.r480\n",
      "Processing: OTU.r1351\n",
      "Processing: OTU.r835\n",
      "Processing: OTU.r1202\n",
      "Processing: OTU.r2281\n",
      "Processing: OTU.r632\n",
      "Processing: OTU.r1322\n",
      "Processing: OTU.r474\n",
      "Processing: OTU.r1405\n",
      "Processing: OTU.r804\n",
      "Processing: OTU.r596\n",
      "Processing: OTU.r1565\n",
      "Processing: OTU.r481\n",
      "Processing: OTU.r1352\n",
      "Processing: OTU.r834\n",
      "Processing: OTU.r1203\n",
      "Processing: OTU.r1200\n",
      "Processing: OTU.r1406\n",
      "Processing: OTU.r910\n",
      "Processing: OTU.r2405\n",
      "Processing: OTU.r701\n",
      "Processing: OTU.r2287\n",
      "Processing: OTU.r805\n",
      "Processing: OTU.r597\n",
      "Processing: OTU.r1564\n",
      "Processing: OTU.r1822\n",
      "Processing: OTU.r1823\n",
      "Processing: OTU.r1353\n",
      "Processing: OTU.r1354\n",
      "Processing: OTU.r833\n",
      "Processing: OTU.r1407\n",
      "Processing: OTU.r1201\n",
      "Processing: OTU.r911\n",
      "Processing: OTU.r2404\n",
      "Processing: OTU.r1329\n",
      "Processing: OTU.r472\n",
      "Processing: OTU.r967\n",
      "Processing: OTU.r590\n",
      "Processing: OTU.r591\n",
      "Processing: OTU.r1400\n",
      "Processing: OTU.r1563\n",
      "Processing: OTU.r1820\n",
      "Processing: OTU.r1355\n",
      "Processing: OTU.r832\n",
      "Processing: OTU.r1206\n",
      "Processing: OTU.r2406\n",
      "Processing: OTU.r912\n",
      "Processing: OTU.r1328\n",
      "Processing: OTU.r1401\n",
      "Processing: OTU.r1402\n",
      "Processing: OTU.r471\n",
      "Processing: OTU.r2029\n",
      "Processing: OTU.r592\n",
      "Processing: OTU.r1562\n",
      "Processing: OTU.r154\n",
      "Processing: OTU.r1356\n",
      "Processing: OTU.r831\n",
      "Processing: OTU.r1207\n",
      "Processing: OTU.r913\n",
      "**OUTPUT MUTED**"
     ]
    }
   ],
   "source": [
    "!cd $work_dir; \\\n",
    "    SIPSim diffusion \\\n",
    "    ampFrags_wRand_kde.pkl \\\n",
    "    --np $nprocs \\\n",
    "    > ampFrags_wRand_kde_dif.pkl    "
   ]
  },
  {
   "cell_type": "markdown",
   "metadata": {},
   "source": [
    "# Making an incorp config file\n",
    "\n",
    "* no isotope incorporation: 12C-Con sample"
   ]
  },
  {
   "cell_type": "code",
   "execution_count": 381,
   "metadata": {
    "collapsed": true
   },
   "outputs": [],
   "source": [
    "!cd $work_dir; \\\n",
    "    SIPSim incorpConfigExample \\\n",
    "    --percTaxa 0 \\\n",
    "    --percIncorpUnif 0 \\\n",
    "    > PT0_PI0.config"
   ]
  },
  {
   "cell_type": "markdown",
   "metadata": {},
   "source": [
    "# Adding isotope incorporation to BD distribution"
   ]
  },
  {
   "cell_type": "code",
   "execution_count": 384,
   "metadata": {
    "collapsed": false
   },
   "outputs": [
    {
     "name": "stdout",
     "output_type": "stream",
     "text": [
      "Traceback (most recent call last):\r\n",
      "  File \"/home/nick/notebook/SIPSim/bin/isotope_incorp.py\", line 140, in <module>\r\n",
      "    IsoIncorp.main(args)\r\n",
      "  File \"/home/nick/notebook/SIPSim/bin/../lib/IsoIncorp.py\", line 47, in main\r\n",
      "    _add_comm_to_kde(KDE_BD, comm)\r\n",
      "  File \"/home/nick/notebook/SIPSim/bin/../lib/IsoIncorp.py\", line 177, in _add_comm_to_kde\r\n",
      "    d['abundances'][libID] = abund[0]\r\n",
      "IndexError: list index out of range\r\n"
     ]
    }
   ],
   "source": [
    "comm_file = os.path.join(work_dir, 'comm_bulk_12C-Con.D{}.txt'.format(bulk_day))\n",
    "\n",
    "!cd $work_dir; \\\n",
    "    SIPSim isotope_incorp \\\n",
    "    ampFrags_wRand_kde_dif.pkl \\\n",
    "    PT0_PI0.config \\\n",
    "    --comm $comm_file \\\n",
    "    --np $nprocs \\\n",
    "    > ampFrags_wRand_kde_dif_incorp.pkl"
   ]
  },
  {
   "cell_type": "markdown",
   "metadata": {},
   "source": [
    "# Calculating BD shift from isotope incorporation"
   ]
  },
  {
   "cell_type": "code",
   "execution_count": null,
   "metadata": {
    "collapsed": true
   },
   "outputs": [],
   "source": [
    "print 'skipping; probably not needed'\n",
    "# !cd $work_dir; \\\n",
    "#     SIPSim BD_shift \\\n",
    "#     ampFrags_wRand_kde_dif.pkl \\\n",
    "#     ampFrags_wRand_kde_dif_incorp.pkl \\\n",
    "#     --np $nprocs \\\n",
    "#     > ampFrags_wRand_kde_dif_incorp_BD-shift.txt"
   ]
  }
 ],
 "metadata": {
  "hide_input": true,
  "kernelspec": {
   "display_name": "Python 2",
   "language": "python",
   "name": "python2"
  },
  "language_info": {
   "codemirror_mode": {
    "name": "ipython",
    "version": 2
   },
   "file_extension": ".py",
   "mimetype": "text/x-python",
   "name": "python",
   "nbconvert_exporter": "python",
   "pygments_lexer": "ipython2",
   "version": "2.7.10"
  }
 },
 "nbformat": 4,
 "nbformat_minor": 0
}
