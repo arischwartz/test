{
 "cells": [
  {
   "cell_type": "markdown",
   "metadata": {},
   "source": [
    "# Wrapper functions for simulating a gradient with SIPSim"
   ]
  },
  {
   "cell_type": "markdown",
   "metadata": {},
   "source": [
    "## Input parameters\n",
    "  * phyloseq.bulk file \n",
    "  * taxon mapping file\n",
    "  * list of genomes\n",
    "  * fragments simulated for all genomes\n",
    "  * bulk community richness\n",
    "\n",
    "\n",
    "## workflow\n",
    "\n",
    "* Creating a community file from OTU abundances in bulk soil samples\n",
    "  * phyloseq.bulk --> OTU table --> filter to sample --> community table format\n",
    "* Fragment simulation\n",
    "  * simulated_fragments --> parse out fragments for target OTUs \n",
    "  * simulated_fragments --> parse out fragments from random genomes to obtain richness of interest\n",
    "  * combine fragment python objects\n",
    "* Convert fragment lists to kde object\n",
    "* Add diffusion\n",
    "* Make incorp config file\n",
    "* Add isotope incorporation\n",
    "* Calculating BD shift from isotope incorp\n",
    "* Simulating gradient fractions\n",
    "* Simulating OTU table\n",
    "* Simulating PCR\n",
    "* Subsampling from the OTU table\n",
    "* Adding count error"
   ]
  },
  {
   "cell_type": "markdown",
   "metadata": {},
   "source": [
    "## Init"
   ]
  },
  {
   "cell_type": "code",
   "execution_count": 54,
   "metadata": {
    "collapsed": true
   },
   "outputs": [],
   "source": [
    "import glob\n",
    "import cPickle as pickle\n",
    "import copy\n",
    "import re\n",
    "from IPython.display import Image"
   ]
  },
  {
   "cell_type": "code",
   "execution_count": 2,
   "metadata": {
    "collapsed": true
   },
   "outputs": [],
   "source": [
    "%load_ext rpy2.ipython"
   ]
  },
  {
   "cell_type": "code",
   "execution_count": 124,
   "metadata": {
    "collapsed": false
   },
   "outputs": [],
   "source": [
    "%%R\n",
    "library(ggplot2)\n",
    "library(dplyr)\n",
    "library(tidyr)\n",
    "library(gridExtra)\n",
    "library(phyloseq)"
   ]
  },
  {
   "cell_type": "markdown",
   "metadata": {},
   "source": [
    "# Input variables"
   ]
  },
  {
   "cell_type": "code",
   "execution_count": 127,
   "metadata": {
    "collapsed": true
   },
   "outputs": [],
   "source": [
    "work_dir = '/home/nick/notebook/SIPSim/dev/fullCyc/frag_norm_9_2.5_-5/'\n",
    "genome_index = '/home/nick/notebook/SIPSim/dev/bac_genome1210/genomes/genome_index.txt'\n",
    "genome_dir = '/home/nick/notebook/SIPSim/dev/bac_genome1210/genomes/'\n",
    "primer_file = '/home/nick/notebook/SIPSim/dev/515F-806R.fna'\n",
    "\n",
    "target_file = '/home/nick/notebook/SIPSim/dev/fullCyc/CD-HIT/target_taxa.txt'\n",
    "\n",
    "physeq_dir = '/home/nick/notebook/fullCyc/data/MiSeq_16S/515f-806r/V4_Lib1-7/phyloseq/'\n",
    "physeq_bulkCore = 'bulk-core'\n",
    "bulk_day = 1\n",
    "\n",
    "richness = 2503\n",
    "nprocs = 12"
   ]
  },
  {
   "cell_type": "code",
   "execution_count": 8,
   "metadata": {
    "collapsed": true
   },
   "outputs": [],
   "source": [
    "if not os.path.isdir(work_dir):\n",
    "    os.makedirs(work_dir)"
   ]
  },
  {
   "cell_type": "markdown",
   "metadata": {},
   "source": [
    "# Creating a community file from bulk soil sample"
   ]
  },
  {
   "cell_type": "code",
   "execution_count": 125,
   "metadata": {
    "collapsed": false
   },
   "outputs": [
    {
     "data": {
      "text/plain": [
       "phyloseq-class experiment-level object\n",
       "otu_table()   OTU Table:         [ 4950 taxa and 9 samples ]\n",
       "sample_data() Sample Data:       [ 9 samples by 17 sample variables ]\n",
       "tax_table()   Taxonomy Table:    [ 4950 taxa by 8 taxonomic ranks ]\n",
       "phy_tree()    Phylogenetic Tree: [ 4950 tips and 4949 internal nodes ]\n"
      ]
     },
     "metadata": {},
     "output_type": "display_data"
    }
   ],
   "source": [
    "%%R -i physeq_dir -i physeq_bulkCore\n",
    "# bulk core samples\n",
    "F = file.path(physeq_dir, physeq_bulkCore)\n",
    "physeq.bulk = readRDS(F)\n",
    "physeq.bulk.m = physeq.bulk %>% sample_data\n",
    "physeq.bulk"
   ]
  },
  {
   "cell_type": "code",
   "execution_count": 131,
   "metadata": {
    "collapsed": false
   },
   "outputs": [
    {
     "data": {
      "text/plain": [
       "phyloseq-class experiment-level object\n",
       "otu_table()   OTU Table:         [ 2008 taxa and 1 samples ]\n",
       "sample_data() Sample Data:       [ 1 samples by 17 sample variables ]\n",
       "tax_table()   Taxonomy Table:    [ 2008 taxa by 8 taxonomic ranks ]\n",
       "phy_tree()    Phylogenetic Tree: [ 2008 tips and 2007 internal nodes ]\n"
      ]
     },
     "metadata": {},
     "output_type": "display_data"
    }
   ],
   "source": [
    "%%R -i bulk_day\n",
    "# just 12C-Con samples\n",
    "physeq.bulk.12C = prune_samples(physeq.bulk.m$Substrate == '12C-Con' & \n",
    "                                physeq.bulk.m$Day == bulk_day, physeq.bulk) %>%\n",
    "    filter_taxa(function(x) sum(x) > 0, TRUE)\n",
    "physeq.bulk.12C.m = physeq.bulk.12C %>% sample_data\n",
    "physeq.bulk.12C"
   ]
  },
  {
   "cell_type": "code",
   "execution_count": 181,
   "metadata": {
    "collapsed": false
   },
   "outputs": [
    {
     "data": {
      "text/plain": [
       "File written:  /home/nick/notebook/SIPSim/dev/fullCyc/frag_norm_9_2.5_-5//comm_bulk_12C-Con.D1.txt \n"
      ]
     },
     "metadata": {},
     "output_type": "display_data"
    }
   ],
   "source": [
    "%%R -i work_dir -i bulk_day\n",
    "\n",
    "physeq2comm = function(physeq){\n",
    "    df.otu = physeq %>% otu_table %>% as.matrix %>% as.data.frame\n",
    "    df.otu$taxon_name = rownames(df.otu)\n",
    "    df.otu = gather(df.otu, 'sample', 'abundance', 1:(ncol(df.otu)-1))\n",
    "    df.otu = df.otu %>%\n",
    "        group_by(sample) %>%\n",
    "        mutate(rel_abund_perc = abundance / sum(abundance) * 100,\n",
    "               rank = row_number(-abundance)) %>%\n",
    "        ungroup() %>%\n",
    "        mutate(library = gsub('^', '_', sample) %>% as.factor %>% as.numeric) %>%\n",
    "        select(library, taxon_name, rel_abund_perc, rank) %>%\n",
    "        arrange(library, rank)\n",
    "    \n",
    "}\n",
    "\n",
    "comm.bulk.12C = physeq2comm(physeq.bulk.12C)\n",
    "#comm.bulk.12C %>% head\n",
    "\n",
    "# writing out comm file\n",
    "x = paste(c('comm_bulk_12C-Con.D',bulk_day, '.txt'), collapse='')\n",
    "comm_file = file.path(work_dir, x)\n",
    "write.table(comm.bulk.12C, comm_file, quote=FALSE, row.names=FALSE, sep='\\t')\n",
    "cat('File written: ', comm_file, '\\n')"
   ]
  },
  {
   "cell_type": "markdown",
   "metadata": {},
   "source": [
    "### Adding on target (OTU <--> genome) to comm object"
   ]
  },
  {
   "cell_type": "code",
   "execution_count": 215,
   "metadata": {
    "collapsed": false
   },
   "outputs": [
    {
     "data": {
      "text/plain": [
       "  library taxon_name rel_abund_perc rank cluster\n",
       "1       1  OTU.14142       5.918292    1      NA\n",
       "2       1      OTU.2       5.856579    2     134\n",
       "3       1  OTU.12920       4.424833    3      NA\n",
       "                                                                ssu_ID\n",
       "1                                                                 <NA>\n",
       "2 rRNA_AP012157_Solibacillus_silvestris_StLB046_DNA_290186-291730_DIR+\n",
       "3                                                                 <NA>\n",
       "                                                                                genome_fileID\n",
       "1                                                                                        <NA>\n",
       "2 /home/nick/notebook/SIPSim/dev/bac_genome1210/genomes/Solibacillus_silvestris_StLB046.fasta\n",
       "3                                                                                        <NA>\n",
       "                         genomeID                                 genome_seqID\n",
       "1                            <NA>                                         <NA>\n",
       "2 Solibacillus_silvestris_StLB046 AP012157_Solibacillus_silvestris_StLB046_DNA\n",
       "3                            <NA>                                         <NA>\n",
       "                                                                           OTU_taxonomy\n",
       "1                                                                                  <NA>\n",
       "2 Bacteria:Firmicutes:Bacilli:Bacillales:Bacillaceae:Bacillus:Unclassified:Unclassified\n",
       "3                                                                                  <NA>\n"
      ]
     },
     "metadata": {},
     "output_type": "display_data"
    }
   ],
   "source": [
    "%%R -i target_file \n",
    "\n",
    "df_targets = read.delim(target_file, sep='\\t')\n",
    "comm_bulk_12C_j = left_join(comm.bulk.12C, df_targets, c('taxon_name' = 'OTU')) %>% \n",
    "    as.data.frame %>%\n",
    "    mutate(ssu_ID = ssu_ID %>% as.character,\n",
    "           genome_fileID = genome_fileID %>% as.character,\n",
    "           genomeID = genomeID %>% as.character,\n",
    "           genome_seqID = genome_seqID %>% as.character,\n",
    "           OTU_taxonomy = OTU_taxonomy %>% as.character)\n",
    "comm_bulk_12C_j %>% head(n=3)"
   ]
  },
  {
   "cell_type": "code",
   "execution_count": 216,
   "metadata": {
    "collapsed": false
   },
   "outputs": [
    {
     "data": {
      "text/html": [
       "<div>\n",
       "<table border=\"1\" class=\"dataframe\">\n",
       "  <thead>\n",
       "    <tr style=\"text-align: right;\">\n",
       "      <th></th>\n",
       "      <th>library</th>\n",
       "      <th>taxon_name</th>\n",
       "      <th>rel_abund_perc</th>\n",
       "      <th>rank</th>\n",
       "      <th>cluster</th>\n",
       "      <th>ssu_ID</th>\n",
       "      <th>genome_fileID</th>\n",
       "      <th>genomeID</th>\n",
       "      <th>genome_seqID</th>\n",
       "      <th>OTU_taxonomy</th>\n",
       "    </tr>\n",
       "  </thead>\n",
       "  <tbody>\n",
       "    <tr>\n",
       "      <th>0</th>\n",
       "      <td>1</td>\n",
       "      <td>OTU.14142</td>\n",
       "      <td>5.918292</td>\n",
       "      <td>1</td>\n",
       "      <td>-2147483648</td>\n",
       "      <td>NA</td>\n",
       "      <td>NA</td>\n",
       "      <td>NA</td>\n",
       "      <td>NA</td>\n",
       "      <td>NA</td>\n",
       "    </tr>\n",
       "    <tr>\n",
       "      <th>1</th>\n",
       "      <td>1</td>\n",
       "      <td>OTU.2</td>\n",
       "      <td>5.856579</td>\n",
       "      <td>2</td>\n",
       "      <td>134</td>\n",
       "      <td>rRNA_AP012157_Solibacillus_silvestris_StLB046_...</td>\n",
       "      <td>/home/nick/notebook/SIPSim/dev/bac_genome1210/...</td>\n",
       "      <td>Solibacillus_silvestris_StLB046</td>\n",
       "      <td>AP012157_Solibacillus_silvestris_StLB046_DNA</td>\n",
       "      <td>Bacteria:Firmicutes:Bacilli:Bacillales:Bacilla...</td>\n",
       "    </tr>\n",
       "    <tr>\n",
       "      <th>2</th>\n",
       "      <td>1</td>\n",
       "      <td>OTU.12920</td>\n",
       "      <td>4.424833</td>\n",
       "      <td>3</td>\n",
       "      <td>-2147483648</td>\n",
       "      <td>NA</td>\n",
       "      <td>NA</td>\n",
       "      <td>NA</td>\n",
       "      <td>NA</td>\n",
       "      <td>NA</td>\n",
       "    </tr>\n",
       "  </tbody>\n",
       "</table>\n",
       "</div>"
      ],
      "text/plain": [
       "   library taxon_name  rel_abund_perc  rank     cluster  \\\n",
       "0        1  OTU.14142        5.918292     1 -2147483648   \n",
       "1        1      OTU.2        5.856579     2         134   \n",
       "2        1  OTU.12920        4.424833     3 -2147483648   \n",
       "\n",
       "                                              ssu_ID  \\\n",
       "0                                                 NA   \n",
       "1  rRNA_AP012157_Solibacillus_silvestris_StLB046_...   \n",
       "2                                                 NA   \n",
       "\n",
       "                                       genome_fileID  \\\n",
       "0                                                 NA   \n",
       "1  /home/nick/notebook/SIPSim/dev/bac_genome1210/...   \n",
       "2                                                 NA   \n",
       "\n",
       "                          genomeID  \\\n",
       "0                               NA   \n",
       "1  Solibacillus_silvestris_StLB046   \n",
       "2                               NA   \n",
       "\n",
       "                                   genome_seqID  \\\n",
       "0                                            NA   \n",
       "1  AP012157_Solibacillus_silvestris_StLB046_DNA   \n",
       "2                                            NA   \n",
       "\n",
       "                                        OTU_taxonomy  \n",
       "0                                                 NA  \n",
       "1  Bacteria:Firmicutes:Bacilli:Bacillales:Bacilla...  \n",
       "2                                                 NA  "
      ]
     },
     "execution_count": 216,
     "metadata": {},
     "output_type": "execute_result"
    }
   ],
   "source": [
    "# R to python\n",
    "%Rpull comm_bulk_12C_j\n",
    "comm_bulk_12C_j.head(n=3)"
   ]
  },
  {
   "cell_type": "markdown",
   "metadata": {},
   "source": [
    "# List of OTUs with matching genomes & present in sample"
   ]
  },
  {
   "cell_type": "code",
   "execution_count": 158,
   "metadata": {
    "collapsed": false
   },
   "outputs": [
    {
     "data": {
      "text/plain": [
       "Number of overlapping OTUs:  96 \n",
       "File written:  /home/nick/notebook/SIPSim/dev/fullCyc/CD-HIT/target_taxa_bulk_D1.txt \n"
      ]
     },
     "metadata": {},
     "output_type": "display_data"
    }
   ],
   "source": [
    "%%R -i target_file -i work_dir -i bulk_day\n",
    "\n",
    "# df_targets = read.delim(target_file, sep='\\t')\n",
    "# OTU.j = semi_join(df_targets, comm.bulk.12C, c('OTU' = 'taxon_name')) \n",
    "\n",
    "# cat('Number of overlapping OTUs: ', OTU.j %>% nrow, '\\n')\n",
    "\n",
    "# # writing edited file\n",
    "# x = paste(c('_bulk_D', bulk_day, '.txt'), collapse='')\n",
    "# target_file_parsed = gsub('\\\\.[^.]+$', x, target_file)\n",
    "# write.table(OTU.j, target_file_parsed, quote=FALSE, row.names=FALSE, sep='\\t')\n",
    "# cat('File written: ', target_file_parsed, '\\n')"
   ]
  },
  {
   "cell_type": "code",
   "execution_count": 194,
   "metadata": {
    "collapsed": false
   },
   "outputs": [],
   "source": [
    "# R to python\n",
    "# %Rpull comm_file\n",
    "# comm_file = comm_file[0]\n",
    "# print comm_file \n",
    "\n",
    "# %Rpull target_file_parsed\n",
    "# target_file_parsed = target_file_parsed[0]\n",
    "# print target_file_parsed"
   ]
  },
  {
   "cell_type": "markdown",
   "metadata": {},
   "source": [
    "# Genome Fragments"
   ]
  },
  {
   "cell_type": "markdown",
   "metadata": {},
   "source": [
    "## Fragment simulation of dataset genomes"
   ]
  },
  {
   "cell_type": "code",
   "execution_count": 10,
   "metadata": {
    "collapsed": true
   },
   "outputs": [],
   "source": [
    "!cd $work_dir; \\\n",
    "    SIPSim fragments \\\n",
    "    $genome_index \\\n",
    "    --fp $genome_dir \\\n",
    "    --fr $primer_file \\\n",
    "    --fld skewed-normal,9000,2500,-5 \\\n",
    "    --flr None,None \\\n",
    "    --nf 10000 \\\n",
    "    --np $nprocs \\\n",
    "    2> ampFrags.log \\\n",
    "    > ampFrags.pkl        "
   ]
  },
  {
   "cell_type": "code",
   "execution_count": 102,
   "metadata": {
    "collapsed": false
   },
   "outputs": [
    {
     "name": "stdout",
     "output_type": "stream",
     "text": [
      "Count of frag-GC KDEs for all genomes: 1210\n"
     ]
    }
   ],
   "source": [
    "# loading amplicon fragments from full genome KDE dataset\n",
    "ampFragFile = os.path.join(work_dir, 'ampFrags.pkl')\n",
    "\n",
    "ampFrag_all = []\n",
    "with open(ampFragFile, 'rb') as iFH:\n",
    "    ampFrag_all = pickle.load(iFH)\n",
    "print 'Count of frag-GC KDEs for all genomes: {}'.format(len(ampFrag_all))    "
   ]
  },
  {
   "cell_type": "markdown",
   "metadata": {},
   "source": [
    "## Parsing out fragments for matching OTU-genomes"
   ]
  },
  {
   "cell_type": "code",
   "execution_count": 200,
   "metadata": {
    "collapsed": false
   },
   "outputs": [
    {
     "data": {
      "text/plain": [
       "(96, 10)"
      ]
     },
     "execution_count": 200,
     "metadata": {},
     "output_type": "execute_result"
    }
   ],
   "source": [
    "x = comm_bulk_12C_j.loc[comm_bulk_12C_j['cluster'] >= 0, :]\n",
    "x.shape"
   ]
  },
  {
   "cell_type": "code",
   "execution_count": 217,
   "metadata": {
    "collapsed": false
   },
   "outputs": [
    {
     "name": "stderr",
     "output_type": "stream",
     "text": [
      "1,3,5,6,7,14,16,18,20,25,26,27,44,47,57,62,65,71,80,96,114,121,122,132,134,142,145,146,154,159,179,193,198,202,220,232,266,284,295,296,319,320,323,361,383,444,446,485,486,493,524,555,558,597,600,601,602,639,661,669,705,707,708,771,774,777,819,850,853,857,904,950,954,966,1075,1149,1195,1228,1267,1268,1335,1337,1370,1568,1575,1668,1678,1682,1752,1773,1782,1821,1960,1961,1992,1998,"
     ]
    },
    {
     "name": "stdout",
     "output_type": "stream",
     "text": [
      "Number of OTU-genome matches: 96\n",
      "Number of genomes with simulated fragments: 1210\n"
     ]
    }
   ],
   "source": [
    "def parse_target_ampFrags(ampFrags, comm):\n",
    "    # just OTUs in community with matching genome\n",
    "    comm_target = comm.loc[comm['cluster'] >= 0, :]\n",
    "    print 'Number of OTU-genome matches: {}'.format(comm_target.shape[0])\n",
    "                               \n",
    "    # making an index for ampFrag list\n",
    "    target_idx = {g[0]:i for i,g in enumerate(ampFrag_all)}\n",
    "    msg = 'Number of genomes with simulated fragments: {}'\n",
    "    print msg.format(len(target_idx)) \n",
    "        \n",
    "    # parsing out ampFrags\n",
    "    ampFrag_target = []\n",
    "    for count,row in comm_target.iterrows():\n",
    "        sys.stderr.write('{},'.format(count))\n",
    "        tg = row['genomeID']\n",
    "        try:\n",
    "            idx = target_idx[tg]\n",
    "        except KeyError:\n",
    "            idx = None\n",
    "            msg = 'Cannot find \"{}\" in target list'\n",
    "            print msg.format(tg)\n",
    "        try:\n",
    "            ampFrag_target.append(copy.deepcopy(ampFrags[idx]))\n",
    "        except TypeError:\n",
    "            pass\n",
    "        \n",
    "    # check that all were found\n",
    "    x_len = len(ampFrag_target)\n",
    "    y_len = comm_target.shape[0]\n",
    "    if(x_len != y_len):\n",
    "        msg = 'No matching genomes for {} OTUs!\\n'.format(y_len - x_len)\n",
    "        sys.stderr.write(msg)\n",
    "        \n",
    "    return(ampFrag_target)\n",
    "    \n",
    "# main    \n",
    "ampFrag_target = parse_target_ampFrags(ampFrag_all, comm_bulk_12C_j)"
   ]
  },
  {
   "cell_type": "markdown",
   "metadata": {},
   "source": [
    "## Parsing out fragments of random genomes for all non-matching OTUs "
   ]
  },
  {
   "cell_type": "code",
   "execution_count": 219,
   "metadata": {
    "collapsed": false
   },
   "outputs": [
    {
     "name": "stdout",
     "output_type": "stream",
     "text": [
      "Number of OTU-genome non-matches: 1912\n"
     ]
    }
   ],
   "source": [
    "comm_nontarget = comm_bulk_12C_j.loc[comm_bulk_12C_j['cluster'] < 0, :]\n",
    "print 'Number of OTUs in community without matching genomes: {}'.format(comm_nontarget.shape[0])"
   ]
  },
  {
   "cell_type": "code",
   "execution_count": null,
   "metadata": {
    "collapsed": false
   },
   "outputs": [
    {
     "name": "stderr",
     "output_type": "stream",
     "text": [
      "53,449,550,283,277,172,507,466,876,409,99,436,843,129,402,930,560,76,166,969,1052,999,351,777,641,689,64,688,172,12,128,426,482,524,202,1045,615,518,127,916,269,117,683,154,563,213,475,243,684,439,1089,63,30,1007,929,512,308,272,30,338,238,256,246,878,971,1008,922,1022,490,860,737,108,348,602,827,755,620,776,529,353,628,648,809,670,776,642,1069,1051,707,766,938,771,1047,460,257,941,19,60,369,974,297,307,648,914,963,281,957,925,166,1108,768,864,220,764,966,1112,1048,960,1002,189,267,841,959,54,553,842,1103,329,136,930,536,311,1096,24,714,71,1040,272,797,558,754,630,549,170,706,609,587,945,40,1072,775,457,666,446,760,942,942,241,383,887,814,296,119,739,544,627,269,389,481,975,77,1028,100,81,767,661,532,759,535,738,215,186,486,36,552,508,861,62,350,1003,705,646,125,808,936,787,953,599,939,8,805,182,530,189,335,789,669,471,859,1106,903,670,299,217,274,686,133,434,431,478,781,528,1084,568,800,457,217,343,873,282,595,280,1003,364,833,390,104,554,758,586,939,297,1101,159,147,718,281,54,379,859,542,1061,344,356,856,340,1059,580,528,851,305,163,481,910,774,94,740,102,1020,561,329,179,970,859,821,420,1084,445,826,52,3,92,231,398,44,999,162,541,444,343,284,667,259,384,118,599,1107,262,387,950,511,864,626,662,783,1111,861,881,487,295,299,702,19,933,689,207,1009,4,735,886,307,356,1072,552,1044,911,77,108,679,297,913,375,910,398,932,306,306,622,738,373,1092,180,972,164,359,20,1111,63,1039,299,1029,449,638,1118,756,19,15,138,922,953,685,718,192,536,419,922,884,675,305,775,161,1092,250,27,725,773,72,600,836,4,797,835,183,950,586,28,356,218,874,349,286,471,457,704,1037,608,836,861,389,40,1081,795,972,681,196,409,854,552,122,516,879,242,806,788,627,837,98,972,396,840,230,938,827,312,337,535,742,466,172,505,332,318,226,740,427,649,328,686,782,276,281,1035,962,242,856,651,406,108,248,162,1044,38,670,912,503,804,481,130,894,76,303,517,665,685,1024,1089,850,704,333,1080,1019,560,805,26,91,1056,988,417,808,1019,862,674,717,354,810,891,953,823,913,133,823,143,996,17,301,478,932,127,494,719,75,816,804,761,895,647,363,340,535,648,258,895,591,1083,784,563,1113,31,549,120,753,69,851,289,165,396,394,962,439,1105,482,153,69,1055,204,471,647,40,179,1094,760,402,219,1086,614,989,111,17,1023,1004,1089,964,185,1106,293,276,328,991,851,209,884,636,655,427,384,303,166,228,766,386,735,321,649,732,413,465,442,404,1080,324,915,1016,"
     ]
    }
   ],
   "source": [
    "def parse_target_non_ampFrags(ampFrags, comm, richness_needed):\n",
    "    # just OTUs in community with matching genome\n",
    "    comm_nontarget = comm.loc[comm['cluster'] < 0, :]\n",
    "    msg = 'Number of OTUs in community without matching genomes: {}'\n",
    "    print msg.format(comm_nontarget.shape[0])\n",
    "    \n",
    "    # making an index of non-target genome fragments\n",
    "    ## will select randomly from index to select genome fragments\n",
    "    nt = set(comm['genomeID'])\n",
    "    ampFrag_nonTarget_idx = [i for i,x in enumerate(ampFrags) if x[0] not in nt]\n",
    "    pool_size = len(ampFrag_nonTarget_idx)\n",
    "    print 'Non-target fragment pool size: {}'.format(pool_size)\n",
    "        \n",
    "    # parsing amp frag\n",
    "    ampFrag_rand = []\n",
    "    if richness_needed > 0:\n",
    "        r_idx = range(len(ampFrag_nonTarget_idx))\n",
    "        r_idx = np.random.choice(r_idx, richness_needed)\n",
    "    \n",
    "        for i in r_idx:\n",
    "            sys.stderr.write('{},'.format(i))\n",
    "            ii = ampFrag_nonTarget_idx[i]\n",
    "            ampFrag_rand.append(copy.deepcopy(ampFrag_all[ii]))\n",
    "        \n",
    "        # checking\n",
    "        x_len = len(ampFrag_rand)\n",
    "        if(x_len != richness_needed):\n",
    "            msg = 'Richness != needed richess; non-target richness = {}'\n",
    "            sys.stderr.write(msg.format(x_len))       \n",
    "            \n",
    "    return ampFrag_rand\n",
    "    \n",
    "    \n",
    "# main   \n",
    "## richness needed\n",
    "richness_needed = richness - len(ampFrag_target)\n",
    "msg = 'Number of random taxa needed to reach richness: {}'\n",
    "print msg.format(richness_needed)\n",
    "\n",
    "## parsing out fragments\n",
    "parse_target_non_ampFrags(ampFrag_all, comm_bulk_12C_j, richness_needed)      "
   ]
  },
  {
   "cell_type": "code",
   "execution_count": 163,
   "metadata": {
    "collapsed": false
   },
   "outputs": [
    {
     "name": "stdout",
     "output_type": "stream",
     "text": [
      "Non-target fragment pool size: 1122\n"
     ]
    }
   ],
   "source": [
    "# making an index of non-target genome fragments\n",
    "\n",
    "# ampFrag_target_IDs = set([x[0] for x in ampFrag_target])\n",
    "# ampFrag_nonTarget_idx = [i for i,x in enumerate(ampFrag_all) if x[0] not in ampFrag_target_IDs]\n",
    "# print 'Non-target fragment pool size: {}'.format(len(ampFrag_nonTarget_idx))"
   ]
  },
  {
   "cell_type": "code",
   "execution_count": 164,
   "metadata": {
    "collapsed": false
   },
   "outputs": [
    {
     "name": "stderr",
     "output_type": "stream",
     "text": [
      "Number of random taxa needed to reach richness: 2407\n",
      "840,1008,969,291,172,875,121,693,222,179,416,866,58,252,286,665,424,279,38,506,248,16,640,17,802,1088,92,374,159,1095,300,606,841,1092,612,16,896,933,507,695,24,378,625,25,313,608,1060,572,333,964,231,623,909,656,986,1050,82,223,236,223,800,612,949,1062,294,342,898,579,1010,399,1032,24,413,1039,716,594,139,948,67,23,306,354,406,1055,90,565,947,1038,531,192,195,1062,128,770,485,250,1006,1047,929,360,59,8,412,704,1007,843,562,1030,510,975,37,98,352,227,408,785,884,714,667,515,793,411,516,498,206,1007,1080,844,1066,84,503,774,1057,869,627,14,625,149,79,820,912,339,643,332,994,624,818,494,1017,980,488,553,654,308,431,215,738,547,839,70,781,237,688,134,302,237,251,138,675,682,0,510,953,512,487,1005,500,3,707,725,319,550,213,618,463,54,191,1029,792,529,823,583,364,142,266,150,121,217,868,970,357,912,591,821,317,1083,396,899,600,737,660,660,906,118,258,1075,1090,1037,308,503,323,405,181,445,561,8,363,1084,769,743,969,221,685,343,860,286,66,347,264,614,387,752,223,998,940,419,350,891,995,110,1013,974,628,782,971,807,110,1066,1116,1038,904,15,731,434,511,1065,220,1068,305,327,636,775,697,516,253,1053,377,844,171,106,395,372,461,1066,958,758,947,313,294,591,60,1049,1004,951,1114,862,952,433,1046,29,475,245,790,779,1109,87,234,754,514,928,151,938,269,741,373,365,556,1106,243,630,598,814,173,477,302,416,519,897,39,717,393,608,785,568,28,330,86,91,206,852,407,859,427,382,836,198,981,558,323,46,329,370,688,1110,146,812,1060,57,639,989,417,702,1014,121,733,820,853,678,1114,403,138,928,524,849,433,589,627,171,806,894,1107,91,561,1055,891,96,854,603,77,67,797,797,490,1081,1001,745,689,28,728,827,607,757,172,620,333,1068,1066,1022,268,406,1006,343,390,738,1100,591,558,705,97,737,586,901,898,835,823,675,507,105,1120,13,889,555,362,478,862,39,175,319,520,401,601,773,291,412,132,267,196,909,1030,1043,739,772,214,270,882,968,527,536,754,850,724,677,631,446,203,1101,720,685,386,684,384,59,462,108,410,146,342,492,29,465,621,970,309,900,744,605,737,714,1037,832,504,1097,553,368,399,32,281,38,841,583,365,209,400,132,393,317,977,161,821,90,693,221,1055,420,911,382,8,685,725,232,701,283,216,702,146,102,1101,48,371,11,398,251,771,571,463,598,982,903,890,22,416,816,25,284,87,355,620,268,654,53,297,647,1107,670,115,679,809,991,534,665,547,670,521,40,989,1040,660,570,368,827,924,523,692,342,781,720,814,401,526,801,1066,96,1077,73,272,825,67,774,279,786,194,877,669,337,546,555,1045,905,567,1105,269,716,626,876,915,277,1096,449,172,1003,512,741,71,490,1015,132,215,1087,1088,810,353,575,950,115,567,1085,1120,843,270,150,809,62,346,223,924,1058,466,848,845,793,981,394,61,576,3,39,912,1067,571,229,362,19,179,664,780,357,844,984,665,730,972,17,1018,144,348,528,854,705,1056,956,516,346,984,374,828,288,843,379,704,151,811,512,972,773,154,982,347,435,454,180,415,537,885,618,385,81,1014,486,229,601,277,1066,911,677,122,861,483,945,325,836,529,844,665,358,294,154,695,307,736,1048,30,516,42,1114,534,963,807,431,1066,221,43,1050,468,513,25,37,467,130,877,978,85,1053,123,712,202,661,142,57,3,753,37,671,871,250,109,676,1006,262,11,991,475,1047,582,37,89,476,687,931,1016,726,213,705,328,464,574,141,932,393,130,1043,302,855,828,1004,283,569,239,274,165,82,975,469,1012,437,356,975,951,964,522,921,374,1105,437,412,267,345,795,757,1011,951,244,446,795,823,346,960,13,153,646,905,147,729,658,863,887,440,470,215,9,685,92,1055,590,976,141,756,591,941,1070,800,597,445,617,1003,146,493,845,226,994,264,1086,289,975,989,1080,1035,971,940,241,661,528,942,962,1087,779,237,695,388,159,991,230,1106,877,81,856,178,290,659,645,586,395,552,574,1011,522,203,262,334,983,845,593,1051,288,448,4,11,864,993,372,218,548,436,379,825,447,902,962,78,180,48,33,405,317,387,60,990,492,265,763,649,851,1014,534,831,129,1079,377,403,307,788,802,462,490,402,905,768,668,859,827,1000,115,655,241,419,237,401,924,599,806,940,1003,1088,36,387,595,397,221,902,936,1079,868,957,408,1027,582,97,321,434,391,755,24,768,942,428,208,458,248,1023,526,835,891,184,193,895,343,614,1042,100,289,933,630,418,657,15,517,615,238,1059,269,827,849,985,528,265,328,144,788,488,134,213,544,245,677,111,764,253,476,899,496,256,482,1062,897,1026,729,997,1079,629,332,607,252,253,488,905,88,1027,1053,1004,1102,682,539,921,708,545,1121,686,343,82,181,110,1092,192,605,1066,770,68,840,625,149,757,22,1110,1085,1082,904,570,1026,238,539,441,356,990,1014,910,35,72,31,970,312,110,765,720,608,123,255,1091,620,42,680,685,771,214,1024,188,868,734,823,221,6,992,654,469,283,159,900,353,57,91,1032,608,352,715,201,913,1029,956,516,137,1089,884,451,168,789,805,1100,161,251,545,296,1118,294,296,522,147,617,890,1113,547,100,421,959,237,852,763,93,1057,33,852,1108,139,267,1107,688,802,24,345,814,921,486,176,960,898,545,77,704,141,565,450,833,851,196,860,103,1031,953,195,240,275,949,736,131,22,438,151,52,994,402,524,116,664,168,898,915,68,134,796,624,820,933,281,95,269,31,558,96,207,442,0,231,141,92,2,664,101,101,1103,492,3,405,851,208,757,156,945,965,703,1054,425,512,35,603,682,795,299,61,400,721,4,214,129,884,324,495,1113,945,492,308,532,460,1045,1091,638,320,1108,244,811,1058,495,790,164,276,278,812,984,341,62,19,502,568,678,89,815,51,67,192,1101,489,345,50,559,1021,175,796,447,787,696,978,1034,377,251,878,255,282,729,448,919,133,436,350,371,545,571,238,868,1032,116,547,368,134,650,140,132,310,623,883,494,476,1109,809,236,63,161,562,724,901,1083,7,877,957,656,394,405,235,387,1,1071,236,110,282,252,1091,666,423,140,817,1100,11,661,1078,479,27,371,936,185,982,448,891,177,511,524,797,15,111,406,987,558,852,148,926,323,531,745,730,1061,240,109,984,667,500,524,81,687,602,549,610,167,983,612,759,528,955,102,374,83,112,937,271,202,104,572,539,879,208,915,171,391,367,262,278,323,374,443,121,727,354,46,415,331,535,177,320,118,562,163,39,747,154,228,463,76,373,417,264,78,219,794,944,1105,526,8,622,107,37,808,55,893,148,910,1100,622,783,220,367,298,152,169,304,619,158,574,769,476,717,195,829,8,734,440,35,868,1004,345,690,178,513,561,810,1080,342,1048,976,18,814,868,1016,54,1083,249,155,735,258,793,933,527,158,498,730,766,422,182,76,309,309,279,812,68,511,281,123,1030,964,13,106,972,449,435,1097,879,1061,831,989,204,552,372,749,709,452,985,976,749,698,629,62,535,1010,975,656,280,121,735,102,1085,301,440,318,1037,62,642,452,163,235,39,491,454,428,690,42,267,115,809,670,1109,12,255,168,867,995,788,478,544,581,599,162,379,794,699,11,62,758,988,485,953,212,797,834,264,943,251,755,1003,170,542,50,701,754,934,294,1107,671,514,348,328,188,540,212,225,667,963,941,343,640,1048,218,746,388,1045,531,825,438,234,738,36,553,812,798,10,127,556,241,534,708,744,1116,502,780,178,612,967,260,1032,911,362,441,1101,166,798,997,630,697,520,73,152,73,415,308,40,1120,755,603,760,739,539,476,973,442,850,818,14,209,499,986,167,888,866,202,469,1101,133,243,1018,271,381,838,671,16,408,1075,714,535,317,372,958,925,547,1080,832,242,646,717,442,890,1093,1003,97,119,188,545,299,172,559,853,29,482,365,75,325,1051,604,383,569,1073,277,364,562,141,999,111,479,102,48,791,335,344,255,499,152,564,191,1017,618,835,486,146,1116,22,318,59,239,757,497,80,1044,142,998,615,348,246,517,288,21,364,414,243,162,24,693,408,450,259,47,262,687,902,582,99,946,144,480,718,245,610,236,304,585,594,666,138,372,808,774,253,1055,135,301,21,1016,409,569,916,36,570,383,106,621,95,618,527,1021,14,183,226,333,426,590,958,101,880,89,639,864,1109,148,918,1029,788,486,687,619,886,452,206,542,656,11,298,291,934,1082,181,392,568,472,943,1069,723,73,0,640,12,715,629,590,1061,446,990,183,92,591,247,975,85,44,526,684,1071,379,598,103,141,118,127,888,31,869,68,380,79,955,638,92,280,923,923,1065,385,953,1055,130,173,682,333,347,440,498,204,293,412,947,956,409,235,834,128,930,865,658,712,35,4,237,1100,1095,820,335,1117,658,248,168,9,120,414,390,1046,18,83,485,404,671,913,197,19,440,472,1009,42,639,17,480,46,322,564,941,947,685,25,937,445,484,783,343,750,963,1056,1112,372,1010,870,422,1092,548,652,892,848,373,560,436,141,456,1054,551,537,151,704,820,40,618,317,624,661,495,847,177,734,179,195,312,492,164,741,782,125,1095,67,417,716,866,1022,883,106,789,100,724,980,1021,61,355,620,944,492,385,327,187,418,148,350,689,996,670,735,113,223,503,766,165,386,352,1120,275,1058,604,43,1025,449,106,149,216,831,492,564,506,785,125,464,116,1079,483,427,627,860,346,36,1092,790,1075,801,961,554,806,187,1065,611,959,89,1043,21,78,181,22,207,807,53,79,55,887,338,437,297,159,259,510,182,958,834,357,350,620,1006,425,415,712,248,1036,205,822,282,284,714,290,1025,745,276,567,706,825,335,746,961,11,482,86,591,45,205,732,516,123,966,659,840,1008,356,944,575,92,822,684,892,641,912,953,122,919,352,780,919,819,991,1091,786,874,340,70,1037,841,982,701,1050,8,1053,229,212,729,1029,400,552,809,113,94,19,224,220,713,983,802,328,395,874,1117,43,490,400,135,853,90,1030,808,1071,653,616,313,1121,20,745,442,133,312,130,496,870,686,27,1068,44,742,1086,854,406,627,559,444,1013,809,299,961,105,858,643,675,348,604,570,23,313,100,247,505,820,558,222,814,794,953,698,464,114,237,524,1083,368,873,188,91,709,66,391,121,111,16,822,468,552,60,104,295,618,940,629,851,106,953,588,880,578,286,999,506,28,252,221,405,1067,1090,812,539,582,470,466,133,8,294,155,343,380,876,204,891,89,140,835,669,734,358,243,846,1047,99,912,693,20,125,312,344,815,1069,206,1021,828,101,499,522,902,220,794,30,515,460,413,530,296,480,462,886,552,725,34,496,90,559,647,116,104,851,999,353,724,173,181,641,716,749,914,85,637,736,861,811,110,380,831,376,135,416,763,779,42,152,673,568,238,988,858,117,23,773,313,816,152,65,657,916,255,333,220,245,268,567,3,200,470,478,814,465,935,703,156,947,504,455,172,254,1017,73,348,225,868,846,330,1001,303,1096,438,230,99,357,429,657,815,9,332,403,718,703,625,953,413,589,661,"
     ]
    }
   ],
   "source": [
    "richness_needed = richness - len(ampFrag_target)\n",
    "msg = 'Number of random taxa needed to reach richness: {}\\n'\n",
    "sys.stderr.write(msg.format(richness_needed))\n",
    "\n",
    "ampFrag_rand = []\n",
    "if richness_needed > 0:\n",
    "    index = range(len(ampFrag_nonTarget_idx))\n",
    "    index = np.random.choice(index, richness_needed)\n",
    "    \n",
    "    for i in index:\n",
    "        sys.stderr.write('{},'.format(i))\n",
    "        ii = ampFrag_nonTarget_idx[i]\n",
    "        ampFrag_rand.append(copy.deepcopy(ampFrag_all[ii]))\n",
    "        \n",
    "    # checking\n",
    "    x_len = len(ampFrag_rand)\n",
    "    if(x_len != richness_needed):\n",
    "        msg = 'Richness != needed richess; non-target richness = {}'\n",
    "        sys.stderr.write(msg.format(x_len))        "
   ]
  },
  {
   "cell_type": "code",
   "execution_count": 171,
   "metadata": {
    "collapsed": false
   },
   "outputs": [
    {
     "data": {
      "text/html": [
       "<div>\n",
       "<table border=\"1\" class=\"dataframe\">\n",
       "  <thead>\n",
       "    <tr style=\"text-align: right;\">\n",
       "      <th></th>\n",
       "      <th>library</th>\n",
       "      <th>taxon_name</th>\n",
       "      <th>rel_abund_perc</th>\n",
       "      <th>rank</th>\n",
       "    </tr>\n",
       "  </thead>\n",
       "  <tbody>\n",
       "    <tr>\n",
       "      <th>0</th>\n",
       "      <td>1</td>\n",
       "      <td>OTU.14142</td>\n",
       "      <td>5.918292</td>\n",
       "      <td>1</td>\n",
       "    </tr>\n",
       "    <tr>\n",
       "      <th>1</th>\n",
       "      <td>1</td>\n",
       "      <td>OTU.2</td>\n",
       "      <td>5.856579</td>\n",
       "      <td>2</td>\n",
       "    </tr>\n",
       "    <tr>\n",
       "      <th>2</th>\n",
       "      <td>1</td>\n",
       "      <td>OTU.12920</td>\n",
       "      <td>4.424833</td>\n",
       "      <td>3</td>\n",
       "    </tr>\n",
       "    <tr>\n",
       "      <th>3</th>\n",
       "      <td>1</td>\n",
       "      <td>OTU.1</td>\n",
       "      <td>2.801777</td>\n",
       "      <td>4</td>\n",
       "    </tr>\n",
       "    <tr>\n",
       "      <th>4</th>\n",
       "      <td>1</td>\n",
       "      <td>OTU.6870</td>\n",
       "      <td>2.801777</td>\n",
       "      <td>5</td>\n",
       "    </tr>\n",
       "    <tr>\n",
       "      <th>5</th>\n",
       "      <td>1</td>\n",
       "      <td>OTU.5</td>\n",
       "      <td>2.715379</td>\n",
       "      <td>6</td>\n",
       "    </tr>\n",
       "    <tr>\n",
       "      <th>6</th>\n",
       "      <td>1</td>\n",
       "      <td>OTU.3</td>\n",
       "      <td>1.913108</td>\n",
       "      <td>7</td>\n",
       "    </tr>\n",
       "    <tr>\n",
       "      <th>7</th>\n",
       "      <td>1</td>\n",
       "      <td>OTU.67</td>\n",
       "      <td>1.894594</td>\n",
       "      <td>8</td>\n",
       "    </tr>\n",
       "    <tr>\n",
       "      <th>8</th>\n",
       "      <td>1</td>\n",
       "      <td>OTU.10663</td>\n",
       "      <td>1.271291</td>\n",
       "      <td>9</td>\n",
       "    </tr>\n",
       "    <tr>\n",
       "      <th>9</th>\n",
       "      <td>1</td>\n",
       "      <td>OTU.5236</td>\n",
       "      <td>1.024438</td>\n",
       "      <td>10</td>\n",
       "    </tr>\n",
       "    <tr>\n",
       "      <th>10</th>\n",
       "      <td>1</td>\n",
       "      <td>OTU.14040</td>\n",
       "      <td>0.901012</td>\n",
       "      <td>11</td>\n",
       "    </tr>\n",
       "    <tr>\n",
       "      <th>11</th>\n",
       "      <td>1</td>\n",
       "      <td>OTU.10323</td>\n",
       "      <td>0.882498</td>\n",
       "      <td>12</td>\n",
       "    </tr>\n",
       "    <tr>\n",
       "      <th>12</th>\n",
       "      <td>1</td>\n",
       "      <td>OTU.8744</td>\n",
       "      <td>0.777586</td>\n",
       "      <td>13</td>\n",
       "    </tr>\n",
       "    <tr>\n",
       "      <th>13</th>\n",
       "      <td>1</td>\n",
       "      <td>OTU.14085</td>\n",
       "      <td>0.635646</td>\n",
       "      <td>14</td>\n",
       "    </tr>\n",
       "    <tr>\n",
       "      <th>14</th>\n",
       "      <td>1</td>\n",
       "      <td>OTU.747</td>\n",
       "      <td>0.543076</td>\n",
       "      <td>15</td>\n",
       "    </tr>\n",
       "    <tr>\n",
       "      <th>15</th>\n",
       "      <td>1</td>\n",
       "      <td>OTU.9994</td>\n",
       "      <td>0.536904</td>\n",
       "      <td>16</td>\n",
       "    </tr>\n",
       "    <tr>\n",
       "      <th>16</th>\n",
       "      <td>1</td>\n",
       "      <td>OTU.4</td>\n",
       "      <td>0.530733</td>\n",
       "      <td>17</td>\n",
       "    </tr>\n",
       "    <tr>\n",
       "      <th>17</th>\n",
       "      <td>1</td>\n",
       "      <td>OTU.9380</td>\n",
       "      <td>0.512219</td>\n",
       "      <td>18</td>\n",
       "    </tr>\n",
       "    <tr>\n",
       "      <th>18</th>\n",
       "      <td>1</td>\n",
       "      <td>OTU.22</td>\n",
       "      <td>0.493705</td>\n",
       "      <td>19</td>\n",
       "    </tr>\n",
       "    <tr>\n",
       "      <th>19</th>\n",
       "      <td>1</td>\n",
       "      <td>OTU.14</td>\n",
       "      <td>0.487534</td>\n",
       "      <td>20</td>\n",
       "    </tr>\n",
       "    <tr>\n",
       "      <th>20</th>\n",
       "      <td>1</td>\n",
       "      <td>OTU.44</td>\n",
       "      <td>0.450506</td>\n",
       "      <td>21</td>\n",
       "    </tr>\n",
       "    <tr>\n",
       "      <th>21</th>\n",
       "      <td>1</td>\n",
       "      <td>OTU.62</td>\n",
       "      <td>0.450506</td>\n",
       "      <td>22</td>\n",
       "    </tr>\n",
       "    <tr>\n",
       "      <th>22</th>\n",
       "      <td>1</td>\n",
       "      <td>OTU.21</td>\n",
       "      <td>0.450506</td>\n",
       "      <td>23</td>\n",
       "    </tr>\n",
       "    <tr>\n",
       "      <th>23</th>\n",
       "      <td>1</td>\n",
       "      <td>OTU.98</td>\n",
       "      <td>0.431992</td>\n",
       "      <td>24</td>\n",
       "    </tr>\n",
       "    <tr>\n",
       "      <th>24</th>\n",
       "      <td>1</td>\n",
       "      <td>OTU.76</td>\n",
       "      <td>0.407307</td>\n",
       "      <td>25</td>\n",
       "    </tr>\n",
       "    <tr>\n",
       "      <th>25</th>\n",
       "      <td>1</td>\n",
       "      <td>OTU.15</td>\n",
       "      <td>0.401136</td>\n",
       "      <td>26</td>\n",
       "    </tr>\n",
       "    <tr>\n",
       "      <th>26</th>\n",
       "      <td>1</td>\n",
       "      <td>OTU.84</td>\n",
       "      <td>0.382622</td>\n",
       "      <td>27</td>\n",
       "    </tr>\n",
       "    <tr>\n",
       "      <th>27</th>\n",
       "      <td>1</td>\n",
       "      <td>OTU.50</td>\n",
       "      <td>0.364108</td>\n",
       "      <td>28</td>\n",
       "    </tr>\n",
       "    <tr>\n",
       "      <th>28</th>\n",
       "      <td>1</td>\n",
       "      <td>OTU.80</td>\n",
       "      <td>0.345594</td>\n",
       "      <td>29</td>\n",
       "    </tr>\n",
       "    <tr>\n",
       "      <th>29</th>\n",
       "      <td>1</td>\n",
       "      <td>OTU.6659</td>\n",
       "      <td>0.345594</td>\n",
       "      <td>30</td>\n",
       "    </tr>\n",
       "    <tr>\n",
       "      <th>...</th>\n",
       "      <td>...</td>\n",
       "      <td>...</td>\n",
       "      <td>...</td>\n",
       "      <td>...</td>\n",
       "    </tr>\n",
       "    <tr>\n",
       "      <th>1978</th>\n",
       "      <td>1</td>\n",
       "      <td>OTU.10816</td>\n",
       "      <td>0.006171</td>\n",
       "      <td>1979</td>\n",
       "    </tr>\n",
       "    <tr>\n",
       "      <th>1979</th>\n",
       "      <td>1</td>\n",
       "      <td>OTU.9953</td>\n",
       "      <td>0.006171</td>\n",
       "      <td>1980</td>\n",
       "    </tr>\n",
       "    <tr>\n",
       "      <th>1980</th>\n",
       "      <td>1</td>\n",
       "      <td>OTU.13476</td>\n",
       "      <td>0.006171</td>\n",
       "      <td>1981</td>\n",
       "    </tr>\n",
       "    <tr>\n",
       "      <th>1981</th>\n",
       "      <td>1</td>\n",
       "      <td>OTU.1697</td>\n",
       "      <td>0.006171</td>\n",
       "      <td>1982</td>\n",
       "    </tr>\n",
       "    <tr>\n",
       "      <th>1982</th>\n",
       "      <td>1</td>\n",
       "      <td>OTU.1279</td>\n",
       "      <td>0.006171</td>\n",
       "      <td>1983</td>\n",
       "    </tr>\n",
       "    <tr>\n",
       "      <th>1983</th>\n",
       "      <td>1</td>\n",
       "      <td>OTU.2948</td>\n",
       "      <td>0.006171</td>\n",
       "      <td>1984</td>\n",
       "    </tr>\n",
       "    <tr>\n",
       "      <th>1984</th>\n",
       "      <td>1</td>\n",
       "      <td>OTU.1514</td>\n",
       "      <td>0.006171</td>\n",
       "      <td>1985</td>\n",
       "    </tr>\n",
       "    <tr>\n",
       "      <th>1985</th>\n",
       "      <td>1</td>\n",
       "      <td>OTU.5253</td>\n",
       "      <td>0.006171</td>\n",
       "      <td>1986</td>\n",
       "    </tr>\n",
       "    <tr>\n",
       "      <th>1986</th>\n",
       "      <td>1</td>\n",
       "      <td>OTU.2772</td>\n",
       "      <td>0.006171</td>\n",
       "      <td>1987</td>\n",
       "    </tr>\n",
       "    <tr>\n",
       "      <th>1987</th>\n",
       "      <td>1</td>\n",
       "      <td>OTU.9707</td>\n",
       "      <td>0.006171</td>\n",
       "      <td>1988</td>\n",
       "    </tr>\n",
       "    <tr>\n",
       "      <th>1988</th>\n",
       "      <td>1</td>\n",
       "      <td>OTU.4604</td>\n",
       "      <td>0.006171</td>\n",
       "      <td>1989</td>\n",
       "    </tr>\n",
       "    <tr>\n",
       "      <th>1989</th>\n",
       "      <td>1</td>\n",
       "      <td>OTU.249</td>\n",
       "      <td>0.006171</td>\n",
       "      <td>1990</td>\n",
       "    </tr>\n",
       "    <tr>\n",
       "      <th>1990</th>\n",
       "      <td>1</td>\n",
       "      <td>OTU.458</td>\n",
       "      <td>0.006171</td>\n",
       "      <td>1991</td>\n",
       "    </tr>\n",
       "    <tr>\n",
       "      <th>1991</th>\n",
       "      <td>1</td>\n",
       "      <td>OTU.1723</td>\n",
       "      <td>0.006171</td>\n",
       "      <td>1992</td>\n",
       "    </tr>\n",
       "    <tr>\n",
       "      <th>1992</th>\n",
       "      <td>1</td>\n",
       "      <td>OTU.1466</td>\n",
       "      <td>0.006171</td>\n",
       "      <td>1993</td>\n",
       "    </tr>\n",
       "    <tr>\n",
       "      <th>1993</th>\n",
       "      <td>1</td>\n",
       "      <td>OTU.1581</td>\n",
       "      <td>0.006171</td>\n",
       "      <td>1994</td>\n",
       "    </tr>\n",
       "    <tr>\n",
       "      <th>1994</th>\n",
       "      <td>1</td>\n",
       "      <td>OTU.1525</td>\n",
       "      <td>0.006171</td>\n",
       "      <td>1995</td>\n",
       "    </tr>\n",
       "    <tr>\n",
       "      <th>1995</th>\n",
       "      <td>1</td>\n",
       "      <td>OTU.1068</td>\n",
       "      <td>0.006171</td>\n",
       "      <td>1996</td>\n",
       "    </tr>\n",
       "    <tr>\n",
       "      <th>1996</th>\n",
       "      <td>1</td>\n",
       "      <td>OTU.3828</td>\n",
       "      <td>0.006171</td>\n",
       "      <td>1997</td>\n",
       "    </tr>\n",
       "    <tr>\n",
       "      <th>1997</th>\n",
       "      <td>1</td>\n",
       "      <td>OTU.438</td>\n",
       "      <td>0.006171</td>\n",
       "      <td>1998</td>\n",
       "    </tr>\n",
       "    <tr>\n",
       "      <th>1998</th>\n",
       "      <td>1</td>\n",
       "      <td>OTU.3492</td>\n",
       "      <td>0.006171</td>\n",
       "      <td>1999</td>\n",
       "    </tr>\n",
       "    <tr>\n",
       "      <th>1999</th>\n",
       "      <td>1</td>\n",
       "      <td>OTU.1793</td>\n",
       "      <td>0.006171</td>\n",
       "      <td>2000</td>\n",
       "    </tr>\n",
       "    <tr>\n",
       "      <th>2000</th>\n",
       "      <td>1</td>\n",
       "      <td>OTU.13279</td>\n",
       "      <td>0.006171</td>\n",
       "      <td>2001</td>\n",
       "    </tr>\n",
       "    <tr>\n",
       "      <th>2001</th>\n",
       "      <td>1</td>\n",
       "      <td>OTU.11163</td>\n",
       "      <td>0.006171</td>\n",
       "      <td>2002</td>\n",
       "    </tr>\n",
       "    <tr>\n",
       "      <th>2002</th>\n",
       "      <td>1</td>\n",
       "      <td>OTU.2946</td>\n",
       "      <td>0.006171</td>\n",
       "      <td>2003</td>\n",
       "    </tr>\n",
       "    <tr>\n",
       "      <th>2003</th>\n",
       "      <td>1</td>\n",
       "      <td>OTU.804</td>\n",
       "      <td>0.006171</td>\n",
       "      <td>2004</td>\n",
       "    </tr>\n",
       "    <tr>\n",
       "      <th>2004</th>\n",
       "      <td>1</td>\n",
       "      <td>OTU.3415</td>\n",
       "      <td>0.006171</td>\n",
       "      <td>2005</td>\n",
       "    </tr>\n",
       "    <tr>\n",
       "      <th>2005</th>\n",
       "      <td>1</td>\n",
       "      <td>OTU.1587</td>\n",
       "      <td>0.006171</td>\n",
       "      <td>2006</td>\n",
       "    </tr>\n",
       "    <tr>\n",
       "      <th>2006</th>\n",
       "      <td>1</td>\n",
       "      <td>OTU.1756</td>\n",
       "      <td>0.006171</td>\n",
       "      <td>2007</td>\n",
       "    </tr>\n",
       "    <tr>\n",
       "      <th>2007</th>\n",
       "      <td>1</td>\n",
       "      <td>OTU.2216</td>\n",
       "      <td>0.006171</td>\n",
       "      <td>2008</td>\n",
       "    </tr>\n",
       "  </tbody>\n",
       "</table>\n",
       "<p>2008 rows × 4 columns</p>\n",
       "</div>"
      ],
      "text/plain": [
       "      library taxon_name  rel_abund_perc  rank\n",
       "0           1  OTU.14142        5.918292     1\n",
       "1           1      OTU.2        5.856579     2\n",
       "2           1  OTU.12920        4.424833     3\n",
       "3           1      OTU.1        2.801777     4\n",
       "4           1   OTU.6870        2.801777     5\n",
       "5           1      OTU.5        2.715379     6\n",
       "6           1      OTU.3        1.913108     7\n",
       "7           1     OTU.67        1.894594     8\n",
       "8           1  OTU.10663        1.271291     9\n",
       "9           1   OTU.5236        1.024438    10\n",
       "10          1  OTU.14040        0.901012    11\n",
       "11          1  OTU.10323        0.882498    12\n",
       "12          1   OTU.8744        0.777586    13\n",
       "13          1  OTU.14085        0.635646    14\n",
       "14          1    OTU.747        0.543076    15\n",
       "15          1   OTU.9994        0.536904    16\n",
       "16          1      OTU.4        0.530733    17\n",
       "17          1   OTU.9380        0.512219    18\n",
       "18          1     OTU.22        0.493705    19\n",
       "19          1     OTU.14        0.487534    20\n",
       "20          1     OTU.44        0.450506    21\n",
       "21          1     OTU.62        0.450506    22\n",
       "22          1     OTU.21        0.450506    23\n",
       "23          1     OTU.98        0.431992    24\n",
       "24          1     OTU.76        0.407307    25\n",
       "25          1     OTU.15        0.401136    26\n",
       "26          1     OTU.84        0.382622    27\n",
       "27          1     OTU.50        0.364108    28\n",
       "28          1     OTU.80        0.345594    29\n",
       "29          1   OTU.6659        0.345594    30\n",
       "...       ...        ...             ...   ...\n",
       "1978        1  OTU.10816        0.006171  1979\n",
       "1979        1   OTU.9953        0.006171  1980\n",
       "1980        1  OTU.13476        0.006171  1981\n",
       "1981        1   OTU.1697        0.006171  1982\n",
       "1982        1   OTU.1279        0.006171  1983\n",
       "1983        1   OTU.2948        0.006171  1984\n",
       "1984        1   OTU.1514        0.006171  1985\n",
       "1985        1   OTU.5253        0.006171  1986\n",
       "1986        1   OTU.2772        0.006171  1987\n",
       "1987        1   OTU.9707        0.006171  1988\n",
       "1988        1   OTU.4604        0.006171  1989\n",
       "1989        1    OTU.249        0.006171  1990\n",
       "1990        1    OTU.458        0.006171  1991\n",
       "1991        1   OTU.1723        0.006171  1992\n",
       "1992        1   OTU.1466        0.006171  1993\n",
       "1993        1   OTU.1581        0.006171  1994\n",
       "1994        1   OTU.1525        0.006171  1995\n",
       "1995        1   OTU.1068        0.006171  1996\n",
       "1996        1   OTU.3828        0.006171  1997\n",
       "1997        1    OTU.438        0.006171  1998\n",
       "1998        1   OTU.3492        0.006171  1999\n",
       "1999        1   OTU.1793        0.006171  2000\n",
       "2000        1  OTU.13279        0.006171  2001\n",
       "2001        1  OTU.11163        0.006171  2002\n",
       "2002        1   OTU.2946        0.006171  2003\n",
       "2003        1    OTU.804        0.006171  2004\n",
       "2004        1   OTU.3415        0.006171  2005\n",
       "2005        1   OTU.1587        0.006171  2006\n",
       "2006        1   OTU.1756        0.006171  2007\n",
       "2007        1   OTU.2216        0.006171  2008\n",
       "\n",
       "[2008 rows x 4 columns]"
      ]
     },
     "execution_count": 171,
     "metadata": {},
     "output_type": "execute_result"
    }
   ],
   "source": [
    "# renaming randomly selected KDEs by non-target OTU-ID\n",
    "df_comm = pd.read_csv(comm_file, sep='\\t')\n",
    "df_comm\n",
    "\n",
    "#for i in range(len(ampFrag_rand)):\n",
    "#    ampFrag_rand[i][0] = nonTarget[i]"
   ]
  },
  {
   "cell_type": "markdown",
   "metadata": {},
   "source": [
    "## Combining into 1 fragment distribution dataset"
   ]
  },
  {
   "cell_type": "code",
   "execution_count": null,
   "metadata": {
    "collapsed": true
   },
   "outputs": [],
   "source": []
  },
  {
   "cell_type": "markdown",
   "metadata": {},
   "source": [
    "### Delete large object\n",
    "\n",
    "ampFrag_all = ()"
   ]
  }
 ],
 "metadata": {
  "hide_input": true,
  "kernelspec": {
   "display_name": "Python 2",
   "language": "python",
   "name": "python2"
  },
  "language_info": {
   "codemirror_mode": {
    "name": "ipython",
    "version": 2
   },
   "file_extension": ".py",
   "mimetype": "text/x-python",
   "name": "python",
   "nbconvert_exporter": "python",
   "pygments_lexer": "ipython2",
   "version": "2.7.10"
  }
 },
 "nbformat": 4,
 "nbformat_minor": 0
}
