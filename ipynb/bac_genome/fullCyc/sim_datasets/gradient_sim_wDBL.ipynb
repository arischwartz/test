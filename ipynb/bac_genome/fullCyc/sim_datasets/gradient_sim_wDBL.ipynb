{
 "cells": [
  {
   "cell_type": "markdown",
   "metadata": {
    "code_folding": []
   },
   "source": [
    "# Goal\n",
    "\n",
    "* Simulating fullCyc gradient(s) using SIPSim and comparing simulated to empirical data"
   ]
  },
  {
   "cell_type": "markdown",
   "metadata": {},
   "source": [
    "## Init"
   ]
  },
  {
   "cell_type": "code",
   "execution_count": 1,
   "metadata": {
    "collapsed": false
   },
   "outputs": [],
   "source": [
    "import os\n",
    "import glob\n",
    "import cPickle as pickle\n",
    "import copy\n",
    "import re\n",
    "import nestly"
   ]
  },
  {
   "cell_type": "code",
   "execution_count": 2,
   "metadata": {
    "collapsed": false
   },
   "outputs": [],
   "source": [
    "%load_ext rpy2.ipython"
   ]
  },
  {
   "cell_type": "code",
   "execution_count": 3,
   "metadata": {
    "collapsed": false
   },
   "outputs": [
    {
     "name": "stderr",
     "output_type": "stream",
     "text": [
      "/opt/anaconda/lib/python2.7/site-packages/rpy2/robjects/functions.py:106: UserWarning: \n",
      "Attaching package: ‘dplyr’\n",
      "\n",
      "\n",
      "  res = super(Function, self).__call__(*new_args, **new_kwargs)\n",
      "/opt/anaconda/lib/python2.7/site-packages/rpy2/robjects/functions.py:106: UserWarning: The following objects are masked from ‘package:stats’:\n",
      "\n",
      "    filter, lag\n",
      "\n",
      "\n",
      "  res = super(Function, self).__call__(*new_args, **new_kwargs)\n",
      "/opt/anaconda/lib/python2.7/site-packages/rpy2/robjects/functions.py:106: UserWarning: The following objects are masked from ‘package:base’:\n",
      "\n",
      "    intersect, setdiff, setequal, union\n",
      "\n",
      "\n",
      "  res = super(Function, self).__call__(*new_args, **new_kwargs)\n"
     ]
    }
   ],
   "source": [
    "%%R\n",
    "library(ggplot2)\n",
    "library(dplyr)\n",
    "library(tidyr)\n",
    "library(gridExtra)\n",
    "library(phyloseq)\n",
    "\n",
    "## BD for G+C of 0 or 100\n",
    "BD.GCp0 = 0 * 0.098 + 1.66\n",
    "BD.GCp100 = 1 * 0.098 + 1.66"
   ]
  },
  {
   "cell_type": "markdown",
   "metadata": {},
   "source": [
    "# Nestly\n",
    "\n",
    "* assuming fragments already simulated"
   ]
  },
  {
   "cell_type": "code",
   "execution_count": 73,
   "metadata": {
    "collapsed": false
   },
   "outputs": [],
   "source": [
    "workDir = '/home/nick/notebook/SIPSim/dev/fullCyc/frag_norm_9_2.5_n5/'\n",
    "buildDir = os.path.join(workDir, 'DBL')\n",
    "R_dir = '/home/nick/notebook/SIPSim/lib/R/'\n",
    "\n",
    "fragFile= os.path.join(workDir, 'ampFrags.pkl')\n",
    "targetFile = '/home/nick/notebook/SIPSim/dev/fullCyc/CD-HIT/target_taxa.txt'\n",
    "\n",
    "physeqDir = '/var/seq_data/fullCyc/MiSeq_16SrRNA/515f-806r/lib1-7/phyloseq/'\n",
    "physeq_bulkCore = 'bulk-core'\n",
    "physeq_SIP_core = 'SIP-core_unk'\n",
    "\n",
    "bulk_days = [1]\n",
    "\n",
    "seq_per_fraction = ['lognormal', 9.432, 0.5, 10000, 80000] # dist, mean, scale, min, max\n",
    "nprocs = 24\n",
    "prefrac_comm_abundance = '1e10'"
   ]
  },
  {
   "cell_type": "code",
   "execution_count": 74,
   "metadata": {
    "collapsed": false
   },
   "outputs": [],
   "source": [
    "# building tree structure\n",
    "nest = nestly.Nest()\n",
    "\n",
    "## varying params\n",
    "nest.add('bulk_day', bulk_days)\n",
    "\n",
    "## set params\n",
    "nest.add('percIncorp', [0], create_dir=False)\n",
    "nest.add('percTaxa', [0], create_dir=False)\n",
    "nest.add('np', [nprocs], create_dir=False)\n",
    "nest.add('abs', [prefrac_comm_abundance], create_dir=False)\n",
    "nest.add('subsample_dist', [seq_per_fraction[0]], create_dir=False)\n",
    "nest.add('subsample_mean', [seq_per_fraction[1]], create_dir=False)\n",
    "nest.add('subsample_scale', [seq_per_fraction[2]], create_dir=False)\n",
    "nest.add('subsample_min', [seq_per_fraction[3]], create_dir=False)\n",
    "nest.add('subsample_max', [seq_per_fraction[4]], create_dir=False)\n",
    "\n",
    "### input/output files\n",
    "nest.add('buildDir', [buildDir], create_dir=False)\n",
    "nest.add('R_dir', [R_dir], create_dir=False)\n",
    "nest.add('fragFile', [fragFile], create_dir=False)\n",
    "nest.add('targetFile', [targetFile], create_dir=False)\n",
    "nest.add('physeqDir', [physeqDir], create_dir=False)\n",
    "nest.add('physeq_bulkCore', [physeq_bulkCore], create_dir=False)\n",
    "\n",
    "\n",
    "# building directory tree\n",
    "nest.build(buildDir)\n",
    "\n",
    "# bash file to run\n",
    "bashFile = os.path.join(buildDir, 'SIPSimRun.sh')"
   ]
  },
  {
   "cell_type": "code",
   "execution_count": 75,
   "metadata": {
    "collapsed": false
   },
   "outputs": [
    {
     "name": "stdout",
     "output_type": "stream",
     "text": [
      "Writing /home/nick/notebook/SIPSim/dev/fullCyc/frag_norm_9_2.5_n5/DBL/SIPSimRun.sh\n"
     ]
    }
   ],
   "source": [
    "%%writefile $bashFile\n",
    "#!/bin/bash\n",
    "\n",
    "export PATH={R_dir}:$PATH\n",
    "\n",
    "#-- making DNA pool similar to gradient of interest\n",
    "echo '# Creating comm file from phyloseq'\n",
    "phyloseq2comm.r {physeqDir}{physeq_bulkCore} -s 12C-Con -d {bulk_day} > {physeq_bulkCore}_comm.txt\n",
    "printf 'Number of lines: '; wc -l {physeq_bulkCore}_comm.txt\n",
    "\n",
    "echo '## Adding target taxa to comm file'\n",
    "comm_add_target.r {physeq_bulkCore}_comm.txt {targetFile} > {physeq_bulkCore}_comm_target.txt\n",
    "printf 'Number of lines: '; wc -l {physeq_bulkCore}_comm_target.txt\n",
    "\n",
    "echo '## parsing out genome fragments to make simulated DNA pool resembling the gradient of interest'\n",
    "## all OTUs without an associated reference genome will be assigned a random reference (of the reference genome pool)\n",
    "### this is done through --NA-random\n",
    "SIPSim fragment_KDE_parse {fragFile} {physeq_bulkCore}_comm_target.txt \\\n",
    "    --rename taxon_name --NA-random > fragsParsed.pkl\n",
    "\n",
    "\n",
    "echo '#-- SIPSim pipeline --#'\n",
    "echo '# converting fragments to KDE'\n",
    "SIPSim fragment_KDE \\\n",
    "    fragsParsed.pkl \\\n",
    "    > fragsParsed_KDE.pkl\n",
    "    \n",
    "echo '# adding diffusion'    \n",
    "SIPSim diffusion \\\n",
    "    fragsParsed_KDE.pkl \\\n",
    "    --np {np} \\\n",
    "    > fragsParsed_KDE_dif.pkl  \n",
    "    \n",
    "echo '# adding DBL contamination'\n",
    "SIPSim DBL \\\n",
    "    fragsParsed_KDE_dif.pkl \\\n",
    "    --np {np} \\\n",
    "    > fragsParsed_KDE_dif_DBL.pkl  \n",
    "    \n",
    "echo '# making incorp file'\n",
    "SIPSim incorpConfigExample \\\n",
    "  --percTaxa {percTaxa} \\\n",
    "  --percIncorpUnif {percIncorp} \\\n",
    "  > {percTaxa}_{percIncorp}.config\n",
    "\n",
    "echo '# adding isotope incorporation to BD distribution'\n",
    "SIPSim isotope_incorp \\\n",
    "    fragsParsed_KDE_dif_DBL.pkl \\\n",
    "    {percTaxa}_{percIncorp}.config \\\n",
    "    --comm {physeq_bulkCore}_comm_target.txt \\\n",
    "    --np {np} \\\n",
    "    > fragsParsed_KDE_dif_DBL_inc.pkl\n",
    " \n",
    "#echo '# calculating BD shift from isotope incorporation'\n",
    "#SIPSim BD_shift \\\n",
    "#    fragsComb.pkl \\\n",
    "#    fragsComb_incorp.pkl \\\n",
    "#    --np {np} \\\n",
    "#    > fragsComb_incorp_BD-shift.txt\n",
    "\n",
    "echo '# simulating gradient fractions'\n",
    "SIPSim gradient_fractions \\\n",
    "    {physeq_bulkCore}_comm_target.txt \\\n",
    "    > fracs.txt \n",
    "\n",
    "echo '# simulating an OTU table'\n",
    "SIPSim OTU_table \\\n",
    "    fragsParsed_KDE_dif_DBL_inc.pkl \\\n",
    "    {physeq_bulkCore}_comm_target.txt \\\n",
    "    fracs.txt \\\n",
    "    --abs {abs} \\\n",
    "    --np {np} \\\n",
    "    > OTU_abs{abs}.txt\n",
    "    \n",
    "echo '# simulating PCR'\n",
    "SIPSim OTU_PCR \\\n",
    "    OTU_abs{abs}.txt \\\n",
    "    > OTU_abs{abs}_PCR.txt    \n",
    "    \n",
    "echo '# subsampling from the OTU table (simulating sequencing of the DNA pool)'\n",
    "SIPSim OTU_subsample \\\n",
    "    --dist {subsample_dist} \\\n",
    "    --dist_params mean:{subsample_mean},sigma:{subsample_scale} \\\n",
    "    --min_size {subsample_min} \\\n",
    "    --max_size {subsample_max} \\\n",
    "    OTU_abs{abs}_PCR.txt \\\n",
    "    > OTU_abs{abs}_PCR_sub.txt\n",
    "    \n",
    "echo '# adding count error'\n",
    "SIPSim OTU_add_error \\\n",
    "    OTU_abs{abs}_PCR_sub.txt \\\n",
    "    > OTU_abs{abs}_PCR_sub_negBin.txt \n",
    "    \n",
    "echo '# making a wide-formatted table'\n",
    "SIPSim OTU_wideLong -w \\\n",
    "    OTU_abs{abs}_PCR_sub_negBin.txt \\\n",
    "    > OTU_abs{abs}_PCR_sub_negBin_w.txt\n",
    "    \n",
    "echo '# making metadata (phyloseq: sample_data)'\n",
    "SIPSim OTU_sampleData \\\n",
    "    OTU_abs{abs}_PCR_sub_negBin.txt \\\n",
    "    > OTU_abs{abs}_PCR_sub_negBin_meta.txt"
   ]
  },
  {
   "cell_type": "code",
   "execution_count": 76,
   "metadata": {
    "collapsed": false
   },
   "outputs": [
    {
     "name": "stdout",
     "output_type": "stream",
     "text": [
      "2015-12-17 13:51:09,737 * INFO * Template: ./SIPSimRun.sh\n",
      "2015-12-17 13:51:09,739 * INFO * [141867] Started ./SIPSimRun.sh in DBL/1\n",
      "2015-12-17 14:32:08,783 * INFO * [141867] DBL/1 Finished with 0\n"
     ]
    }
   ],
   "source": [
    "!chmod 777 $bashFile\n",
    "!cd $workDir; \\\n",
    "    nestrun  --template-file $bashFile -d DBL --log-file log.txt"
   ]
  },
  {
   "cell_type": "markdown",
   "metadata": {},
   "source": [
    "# Plotting number of taxa in each fraction\n",
    "\n",
    "* Both simulated and emperical datasets"
   ]
  },
  {
   "cell_type": "code",
   "execution_count": 82,
   "metadata": {
    "collapsed": true
   },
   "outputs": [],
   "source": [
    "%%R\n",
    "# simulated file info\n",
    "OTU.table.dir = '/home/nick/notebook/SIPSim/dev/fullCyc/frag_norm_9_2.5_n5/DBL/1/'\n",
    "OTU.table.file = 'OTU_abs1e10_PCR_sub_negBin.txt'"
   ]
  },
  {
   "cell_type": "code",
   "execution_count": 78,
   "metadata": {
    "collapsed": false
   },
   "outputs": [
    {
     "data": {
      "text/plain": [
       "phyloseq-class experiment-level object\n",
       "otu_table()   OTU Table:         [ 7025 taxa and 25 samples ]\n",
       "sample_data() Sample Data:       [ 25 samples by 17 sample variables ]\n",
       "tax_table()   Taxonomy Table:    [ 7025 taxa by 8 taxonomic ranks ]\n",
       "phy_tree()    Phylogenetic Tree: [ 7025 tips and 7024 internal nodes ]\n"
      ]
     },
     "metadata": {},
     "output_type": "display_data"
    }
   ],
   "source": [
    "%%R -i physeqDir -i physeq_SIP_core -i bulk_days\n",
    "\n",
    "# bulk core samples\n",
    "F = file.path(physeqDir, physeq_SIP_core)\n",
    "physeq.SIP.core = readRDS(F) \n",
    "physeq.SIP.core.m = physeq.SIP.core %>% sample_data\n",
    "\n",
    "physeq.SIP.core = prune_samples(physeq.SIP.core.m$Substrate == '12C-Con' & \n",
    "                                physeq.SIP.core.m$Day %in% bulk_days, \n",
    "                                physeq.SIP.core) %>%\n",
    "    filter_taxa(function(x) sum(x) > 0, TRUE)\n",
    "physeq.SIP.core.m = physeq.SIP.core %>% sample_data        \n",
    "\n",
    "physeq.SIP.core"
   ]
  },
  {
   "cell_type": "code",
   "execution_count": 79,
   "metadata": {
    "collapsed": false
   },
   "outputs": [
    {
     "data": {
      "image/png": "[encoded data removed]"
     },
     "metadata": {},
     "output_type": "display_data"
    }
   ],
   "source": [
    "%%R -w 800 -h 300 \n",
    "\n",
    "## dataframe\n",
    "df.OTU = physeq.SIP.core %>% otu_table %>%\n",
    "    as.matrix %>% as.data.frame\n",
    "df.OTU$OTU = rownames(df.OTU)\n",
    "df.OTU = df.OTU %>%    \n",
    "    gather(sample, abundance, 1:(ncol(df.OTU)-1)) %>%\n",
    "    group_by(sample) %>%\n",
    "    summarize(n_taxa = sum(abundance > 0)) %>%\n",
    "    ungroup()\n",
    "\n",
    "df.OTU.real = inner_join(df.OTU, physeq.SIP.core.m, c('sample' = 'X.Sample')) \n",
    "\n",
    "## plotting\n",
    "p = ggplot(df.OTU.real, aes(Buoyant_density, n_taxa)) +\n",
    "    geom_point(color='blue') +\n",
    "    geom_line(color='blue') +\n",
    "    geom_vline(xintercept=c(BD.GCp0, BD.GCp100), linetype='dashed', alpha=0.5) +\n",
    "    labs(x='Buoyant density', y='Number of taxa') +\n",
    "    theme_bw() +\n",
    "    theme( \n",
    "        text = element_text(size=16),\n",
    "        legend.position = 'none'\n",
    "    )\n",
    "p"
   ]
  },
  {
   "cell_type": "code",
   "execution_count": 84,
   "metadata": {
    "collapsed": false
   },
   "outputs": [
    {
     "data": {
      "image/png": "[encoded data removed]"
     },
     "metadata": {},
     "output_type": "display_data"
    }
   ],
   "source": [
    "%%R -w 800 -h 300\n",
    "\n",
    "# loading file\n",
    "F = file.path(OTU.table.dir, OTU.table.file)\n",
    "df.OTU = read.delim(F, sep='\\t')\n",
    "\n",
    "## edit table\n",
    "df.OTU.nt = df.OTU %>%\n",
    "    filter(count > 0) %>%\n",
    "    group_by(library, BD_mid) %>%\n",
    "    summarize(n_taxa = n())\n",
    "\n",
    "## plot\n",
    "p = ggplot(df.OTU.nt, aes(BD_mid, n_taxa)) +\n",
    "    geom_point(color='red') +\n",
    "    geom_line(color='red') +\n",
    "    geom_point(data=df.OTU.real, aes(x=Buoyant_density), color='blue') +\n",
    "    geom_line(data=df.OTU.real, aes(x=Buoyant_density), color='blue') +\n",
    "    geom_vline(xintercept=c(BD.GCp0, BD.GCp100), linetype='dashed', alpha=0.5) +\n",
    "    labs(x='Buoyant density', y='Number of taxa') +\n",
    "    theme_bw() +\n",
    "    theme( \n",
    "        text = element_text(size=16),\n",
    "        legend.position = 'none'\n",
    "    )\n",
    "p"
   ]
  },
  {
   "cell_type": "code",
   "execution_count": 85,
   "metadata": {
    "collapsed": false
   },
   "outputs": [
    {
     "data": {
      "image/png": "[encoded data removed]"
     },
     "metadata": {},
     "output_type": "display_data"
    }
   ],
   "source": [
    "%%R -w 800 -h 300\n",
    "# normalized by max number of taxa\n",
    "\n",
    "## edit table\n",
    "df.OTU.nt = df.OTU.nt %>%\n",
    "    group_by() %>%\n",
    "    mutate(n_taxa_norm = n_taxa / max(n_taxa))\n",
    "\n",
    "df.OTU.real = df.OTU.real %>%\n",
    "    group_by() %>%\n",
    "    mutate(n_taxa_norm = n_taxa / max(n_taxa))\n",
    "\n",
    "\n",
    "## plot\n",
    "p = ggplot(df.OTU.nt, aes(BD_mid, n_taxa_norm)) +\n",
    "    geom_point(color='red') +\n",
    "    geom_line(color='red') +\n",
    "    geom_point(data=df.OTU.real, aes(x=Buoyant_density), color='blue') +\n",
    "    geom_line(data=df.OTU.real, aes(x=Buoyant_density), color='blue') +\n",
    "    geom_vline(xintercept=c(BD.GCp0, BD.GCp100), linetype='dashed', alpha=0.5) +\n",
    "    labs(x='Buoyant density', y='Number of taxa\\n(fraction of max)') +\n",
    "    theme_bw() +\n",
    "    theme( \n",
    "        text = element_text(size=16),\n",
    "        legend.position = 'none'\n",
    "    )\n",
    "p"
   ]
  },
  {
   "cell_type": "markdown",
   "metadata": {},
   "source": [
    "## Plotting Shannon diversity for each"
   ]
  },
  {
   "cell_type": "code",
   "execution_count": 86,
   "metadata": {
    "collapsed": false
   },
   "outputs": [],
   "source": [
    "%%R\n",
    "shannon_index_long = function(df, abundance_col, ...){\n",
    "    # calculating shannon diversity index from a 'long' formated table\n",
    "    ## community_col = name of column defining communities\n",
    "    ## abundance_col = name of column defining taxon abundances\n",
    "    cmd = paste0(abundance_col, '/sum(', abundance_col, ')')\n",
    "    df.s = df %>%\n",
    "        group_by_(...) %>%\n",
    "        mutate_(REL_abundance = cmd) %>%\n",
    "        mutate(pi__ln_pi = REL_abundance * log(REL_abundance),\n",
    "               shannon = -sum(pi__ln_pi, na.rm=TRUE)) %>%\n",
    "        ungroup() %>%\n",
    "        select(-REL_abundance, -pi__ln_pi) %>%\n",
    "        distinct_(...) \n",
    "    return(df.s)\n",
    "}"
   ]
  },
  {
   "cell_type": "code",
   "execution_count": 87,
   "metadata": {
    "collapsed": false
   },
   "outputs": [
    {
     "data": {
      "text/plain": [
       "       OTU            sample abundance primer_number fwd_barcode rev_barcode\n",
       "1 OTU.1101 12C-Con.D1.R2_F23         2           134    TCGACGAG    TGAGTACG\n",
       "2 OTU.1130 12C-Con.D1.R2_F23         0           134    TCGACGAG    TGAGTACG\n",
       "3 OTU.9833 12C-Con.D1.R2_F23         0           134    TCGACGAG    TGAGTACG\n",
       "  Substrate Day Microcosm_replicate Fraction Buoyant_density        library\n",
       "1   12C-Con   1                   2       23         1.69362 150721_V4_Lib4\n",
       "2   12C-Con   1                   2       23         1.69362 150721_V4_Lib4\n",
       "3   12C-Con   1                   2       23         1.69362 150721_V4_Lib4\n",
       "  core_dataset\n",
       "1         TRUE\n",
       "2         TRUE\n",
       "3         TRUE\n"
      ]
     },
     "metadata": {},
     "output_type": "display_data"
    }
   ],
   "source": [
    "%%R\n",
    "# OTU table of real data\n",
    "df.OTU = physeq.SIP.core %>% otu_table %>%\n",
    "    as.matrix %>% as.data.frame\n",
    "df.OTU$OTU = rownames(df.OTU)\n",
    "df.OTU = df.OTU %>%    \n",
    "    gather(sample, abundance, 1:(ncol(df.OTU)-1)) \n",
    "\n",
    "df.OTU.real = inner_join(df.OTU, physeq.SIP.core.m, c('sample' = 'X.Sample')) %>%\n",
    "    select(-Sample_type, -Exp_type, -Sample_location, \n",
    "           -Sample_date, -Sample_treatment, -Sample_subtreatment)\n",
    "\n",
    "\n",
    "df.OTU.real %>% head(n=3)"
   ]
  },
  {
   "cell_type": "code",
   "execution_count": 88,
   "metadata": {
    "collapsed": false
   },
   "outputs": [
    {
     "data": {
      "text/plain": [
       "  library    fraction taxon BD_min BD_mid BD_max count rel_abund\n",
       "1       1  -inf-1.660 OTU.1   -Inf  1.659  1.659     0         0\n",
       "2       1 1.660-1.663 OTU.1  1.660  1.661  1.663     0         0\n",
       "3       1 1.663-1.667 OTU.1  1.663  1.665  1.667     0         0\n"
      ]
     },
     "metadata": {},
     "output_type": "display_data"
    }
   ],
   "source": [
    "%%R\n",
    "\n",
    "# OTU table of simulated OTUs\n",
    "F = file.path(OTU.table.dir, OTU.table.file)\n",
    "df.OTU.nt = read.delim(F, sep='\\t')\n",
    "\n",
    "df.OTU.nt %>% head(n=3)"
   ]
  },
  {
   "cell_type": "code",
   "execution_count": 89,
   "metadata": {
    "collapsed": false
   },
   "outputs": [],
   "source": [
    "%%R\n",
    "# calculating shannon\n",
    "df.OTU.nt.shan = shannon_index_long(df.OTU.nt, 'count', 'library', 'fraction')\n",
    "df.OTU.real.shan = shannon_index_long(df.OTU.real, 'abundance', 'sample')"
   ]
  },
  {
   "cell_type": "code",
   "execution_count": 90,
   "metadata": {
    "collapsed": false
   },
   "outputs": [
    {
     "data": {
      "image/png": "[encoded data removed]"
     },
     "metadata": {},
     "output_type": "display_data"
    }
   ],
   "source": [
    "%%R -w 800 -h 300\n",
    "# plotting\n",
    "p = ggplot(df.OTU.nt.shan, aes(BD_mid, shannon)) +\n",
    "    geom_point(color='red') +\n",
    "    geom_line(color='red') +\n",
    "    geom_point(data=df.OTU.real.shan, aes(x=Buoyant_density), color='blue') +\n",
    "    geom_line(data=df.OTU.real.shan, aes(x=Buoyant_density), color='blue') +\n",
    "    geom_vline(xintercept=c(BD.GCp0, BD.GCp100), linetype='dashed', alpha=0.5) +\n",
    "    labs(x='Buoyant density', y='Shannon index') +\n",
    "    theme_bw() +\n",
    "    theme( \n",
    "        text = element_text(size=16),\n",
    "        legend.position = 'none'\n",
    "    )\n",
    "p"
   ]
  },
  {
   "cell_type": "markdown",
   "metadata": {},
   "source": [
    "# DBL with different average particle densities"
   ]
  },
  {
   "cell_type": "code",
   "execution_count": 98,
   "metadata": {
    "collapsed": false
   },
   "outputs": [],
   "source": [
    "workDir = '/home/nick/notebook/SIPSim/dev/fullCyc/frag_norm_9_2.5_n5/'\n",
    "buildDir = os.path.join(workDir, 'DBL_avePartDens')\n",
    "R_dir = '/home/nick/notebook/SIPSim/lib/R/'\n",
    "\n",
    "fragFile= os.path.join(workDir, 'ampFrags.pkl')\n",
    "targetFile = '/home/nick/notebook/SIPSim/dev/fullCyc/CD-HIT/target_taxa.txt'\n",
    "\n",
    "physeqDir = '/var/seq_data/fullCyc/MiSeq_16SrRNA/515f-806r/lib1-7/phyloseq/'\n",
    "physeq_bulkCore = 'bulk-core'\n",
    "physeq_SIP_core = 'SIP-core_unk'\n",
    "\n",
    "# varying param\n",
    "ave_part_density = [1.69, 1.7, 1.71]\n",
    "\n",
    "seq_per_fraction = ['lognormal', 9.432, 0.5, 10000, 80000] # dist, mean, scale, min, max\n",
    "nprocs = [24]\n",
    "prefrac_comm_abundance = ['1e9']\n",
    "bulk_days = [1]"
   ]
  },
  {
   "cell_type": "code",
   "execution_count": 99,
   "metadata": {
    "collapsed": false
   },
   "outputs": [],
   "source": [
    "# building tree structure\n",
    "nest = nestly.Nest()\n",
    "\n",
    "## varying params\n",
    "nest.add('ave_part_density', ave_part_density)\n",
    "\n",
    "## set params\n",
    "nest.add('bulk_day', bulk_days, create_dir=False)\n",
    "nest.add('percIncorp', [0], create_dir=False)\n",
    "nest.add('percTaxa', [0], create_dir=False)\n",
    "nest.add('np', nprocs, create_dir=False)\n",
    "nest.add('abs', prefrac_comm_abundance, create_dir=False)\n",
    "nest.add('subsample_dist', [seq_per_fraction[0]], create_dir=False)\n",
    "nest.add('subsample_mean', [seq_per_fraction[1]], create_dir=False)\n",
    "nest.add('subsample_scale', [seq_per_fraction[2]], create_dir=False)\n",
    "nest.add('subsample_min', [seq_per_fraction[3]], create_dir=False)\n",
    "nest.add('subsample_max', [seq_per_fraction[4]], create_dir=False)\n",
    "\n",
    "### input/output files\n",
    "nest.add('buildDir', [buildDir], create_dir=False)\n",
    "nest.add('R_dir', [R_dir], create_dir=False)\n",
    "nest.add('fragFile', [fragFile], create_dir=False)\n",
    "nest.add('targetFile', [targetFile], create_dir=False)\n",
    "nest.add('physeqDir', [physeqDir], create_dir=False)\n",
    "nest.add('physeq_bulkCore', [physeq_bulkCore], create_dir=False)\n",
    "\n",
    "\n",
    "# building directory tree\n",
    "nest.build(buildDir)\n",
    "\n",
    "# bash file to run\n",
    "bashFile = os.path.join(buildDir, 'SIPSimRun.sh')"
   ]
  },
  {
   "cell_type": "code",
   "execution_count": 100,
   "metadata": {
    "collapsed": false
   },
   "outputs": [
    {
     "name": "stdout",
     "output_type": "stream",
     "text": [
      "Writing /home/nick/notebook/SIPSim/dev/fullCyc/frag_norm_9_2.5_n5/DBL_avePartDens/SIPSimRun.sh\n"
     ]
    }
   ],
   "source": [
    "%%writefile $bashFile\n",
    "#!/bin/bash\n",
    "\n",
    "export PATH={R_dir}:$PATH\n",
    "\n",
    "#-- making DNA pool similar to gradient of interest\n",
    "echo '# Creating comm file from phyloseq'\n",
    "phyloseq2comm.r {physeqDir}{physeq_bulkCore} -s 12C-Con -d {bulk_day} > {physeq_bulkCore}_comm.txt\n",
    "printf 'Number of lines: '; wc -l {physeq_bulkCore}_comm.txt\n",
    "\n",
    "echo '## Adding target taxa to comm file'\n",
    "comm_add_target.r {physeq_bulkCore}_comm.txt {targetFile} > {physeq_bulkCore}_comm_target.txt\n",
    "printf 'Number of lines: '; wc -l {physeq_bulkCore}_comm_target.txt\n",
    "\n",
    "echo '## parsing out genome fragments to make simulated DNA pool resembling the gradient of interest'\n",
    "## all OTUs without an associated reference genome will be assigned a random reference (of the reference genome pool)\n",
    "### this is done through --NA-random\n",
    "SIPSim fragment_KDE_parse {fragFile} {physeq_bulkCore}_comm_target.txt \\\n",
    "    --rename taxon_name --NA-random > fragsParsed.pkl\n",
    "\n",
    "\n",
    "echo '#-- SIPSim pipeline --#'\n",
    "echo '# converting fragments to KDE'\n",
    "SIPSim fragment_KDE \\\n",
    "    fragsParsed.pkl \\\n",
    "    > fragsParsed_KDE.pkl\n",
    "    \n",
    "echo '# adding diffusion'    \n",
    "SIPSim diffusion \\\n",
    "    fragsParsed_KDE.pkl \\\n",
    "    --np {np} \\\n",
    "    > fragsParsed_KDE_dif.pkl  \n",
    "    \n",
    "echo '# adding DBL contamination'\n",
    "SIPSim DBL \\\n",
    "    fragsParsed_KDE_dif.pkl \\\n",
    "    -D {ave_part_density} \\\n",
    "    --np {np} \\\n",
    "    > fragsParsed_KDE_dif_DBL.pkl  \n",
    "    \n",
    "echo '# making incorp file'\n",
    "SIPSim incorpConfigExample \\\n",
    "  --percTaxa {percTaxa} \\\n",
    "  --percIncorpUnif {percIncorp} \\\n",
    "  > {percTaxa}_{percIncorp}.config\n",
    "\n",
    "echo '# adding isotope incorporation to BD distribution'\n",
    "SIPSim isotope_incorp \\\n",
    "    fragsParsed_KDE_dif_DBL.pkl \\\n",
    "    {percTaxa}_{percIncorp}.config \\\n",
    "    --comm {physeq_bulkCore}_comm_target.txt \\\n",
    "    --np {np} \\\n",
    "    > fragsParsed_KDE_dif_DBL_inc.pkl\n",
    " \n",
    "#echo '# calculating BD shift from isotope incorporation'\n",
    "#SIPSim BD_shift \\\n",
    "#    fragsComb.pkl \\\n",
    "#    fragsComb_incorp.pkl \\\n",
    "#    --np {np} \\\n",
    "#    > fragsComb_incorp_BD-shift.txt\n",
    "\n",
    "echo '# simulating gradient fractions'\n",
    "SIPSim gradient_fractions \\\n",
    "    {physeq_bulkCore}_comm_target.txt \\\n",
    "    > fracs.txt \n",
    "\n",
    "echo '# simulating an OTU table'\n",
    "SIPSim OTU_table \\\n",
    "    fragsParsed_KDE_dif_DBL_inc.pkl \\\n",
    "    {physeq_bulkCore}_comm_target.txt \\\n",
    "    fracs.txt \\\n",
    "    --abs {abs} \\\n",
    "    --np {np} \\\n",
    "    > OTU_abs{abs}.txt\n",
    "    \n",
    "echo '# simulating PCR'\n",
    "SIPSim OTU_PCR \\\n",
    "    OTU_abs{abs}.txt \\\n",
    "    > OTU_abs{abs}_PCR.txt    \n",
    "    \n",
    "echo '# subsampling from the OTU table (simulating sequencing of the DNA pool)'\n",
    "SIPSim OTU_subsample \\\n",
    "    --dist {subsample_dist} \\\n",
    "    --dist_params mean:{subsample_mean},sigma:{subsample_scale} \\\n",
    "    --min_size {subsample_min} \\\n",
    "    --max_size {subsample_max} \\\n",
    "    OTU_abs{abs}_PCR.txt \\\n",
    "    > OTU_abs{abs}_PCR_sub.txt\n",
    "    \n",
    "echo '# adding count error'\n",
    "SIPSim OTU_add_error \\\n",
    "    OTU_abs{abs}_PCR_sub.txt \\\n",
    "    > OTU_abs{abs}_PCR_sub_negBin.txt \n",
    "    \n",
    "echo '# making a wide-formatted table'\n",
    "SIPSim OTU_wideLong -w \\\n",
    "    OTU_abs{abs}_PCR_sub_negBin.txt \\\n",
    "    > OTU_abs{abs}_PCR_sub_negBin_w.txt\n",
    "    \n",
    "echo '# making metadata (phyloseq: sample_data)'\n",
    "SIPSim OTU_sampleData \\\n",
    "    OTU_abs{abs}_PCR_sub_negBin.txt \\\n",
    "    > OTU_abs{abs}_PCR_sub_negBin_meta.txt"
   ]
  },
  {
   "cell_type": "code",
   "execution_count": 101,
   "metadata": {
    "collapsed": false
   },
   "outputs": [
    {
     "name": "stdout",
     "output_type": "stream",
     "text": [
      "2015-12-18 07:33:00,903 * INFO * Template: ./SIPSimRun.sh\n",
      "2015-12-18 07:33:00,905 * INFO * [172770] Started ./SIPSimRun.sh in DBL_avePartDens/1.69\n",
      "2015-12-18 07:49:39,518 * INFO * [172770] DBL_avePartDens/1.69 Finished with 0\n",
      "2015-12-18 07:49:39,522 * INFO * [173622] Started ./SIPSimRun.sh in DBL_avePartDens/1.71\n",
      "Traceback (most recent call last):\n",
      "  File \"/opt/anaconda/bin/nestrun\", line 11, in <module>\n",
      "    sys.exit(main())\n",
      "  File \"/opt/anaconda/lib/python2.7/site-packages/nestly/scripts/nestrun.py\", line 383, in main\n",
      "    invoke(max_procs, data, json_files)\n",
      "  File \"/opt/anaconda/lib/python2.7/site-packages/nestly/scripts/nestrun.py\", line 127, in invoke\n",
      "    pid, proc.working_dir, exit_status, proc.log_tail())\n",
      "  File \"/opt/anaconda/lib/python2.7/site-packages/nestly/scripts/nestrun.py\", line 206, in log_tail\n",
      "    with open(log_path) as fp:\n",
      "IOError: [Errno 2] No such file or directory: 'DBL_avePartDens/1.71/log.txt'\n"
     ]
    }
   ],
   "source": [
    "!chmod 777 $bashFile\n",
    "!cd $workDir; \\\n",
    "    nestrun  --template-file $bashFile -d DBL_avePartDens --log-file log.txt -j 1"
   ]
  },
  {
   "cell_type": "code",
   "execution_count": null,
   "metadata": {
    "collapsed": true
   },
   "outputs": [],
   "source": []
  }
 ],
 "metadata": {
  "hide_input": true,
  "kernelspec": {
   "display_name": "Python 2",
   "language": "python",
   "name": "python2"
  },
  "language_info": {
   "codemirror_mode": {
    "name": "ipython",
    "version": 2
   },
   "file_extension": ".py",
   "mimetype": "text/x-python",
   "name": "python",
   "nbconvert_exporter": "python",
   "pygments_lexer": "ipython2",
   "version": "2.7.10"
  }
 },
 "nbformat": 4,
 "nbformat_minor": 0
}
