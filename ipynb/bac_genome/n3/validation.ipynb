{
 "cells": [
  {
   "cell_type": "markdown",
   "metadata": {},
   "source": [
    "# Making modeling scheme validation figures using 3 taxa\n",
    "\n",
    "* Taxa differing in G+C content\n",
    "  * low GC = \n",
    "  * mid GC = E. coli\n",
    "  * high GC = \n",
    "\n",
    "### Genomic fragment simulation\n",
    "\n",
    "* Sup Figure:\n",
    "  * 3 taxa of differing GC\n",
    "  * Fragment length distributions\n",
    "    * 'realistic' = skewed normal\n",
    "    * 'large' = ~50 kb\n",
    "    * 'small' = ~1-2 kb\n",
    "  * faceted heatmap:\n",
    "    * taxa ~ (fragment length distribution)\n",
    "\n",
    "### Diffusion calculations\n",
    "\n",
    "* Sup Figure:\n",
    "  * 3 taxa of differing GC (same as last)\n",
    "  * histograms:\n",
    "    * BD distribution for pre & post diffusion \n",
    "  * Shows effect of diffusion & how it relates to fragment length\n"
   ]
  },
  {
   "cell_type": "markdown",
   "metadata": {},
   "source": [
    "# Setting variables"
   ]
  },
  {
   "cell_type": "code",
   "execution_count": 1,
   "metadata": {
    "collapsed": true
   },
   "outputs": [],
   "source": [
    "workDir = '/home/nick/notebook/SIPSim/dev/bac_genome3/validation/'\n",
    "genomeDir = '/home/nick/notebook/SIPSim/dev/bac_genome3/genomes/'\n",
    "R_dir = '/home/nick/notebook/SIPSim/lib/R/'\n",
    "figDir = '/home/nick/notebook/SIPSim/figures/'\n",
    "\n",
    "bandwidth=0.2\n",
    "nprocs = 3"
   ]
  },
  {
   "cell_type": "markdown",
   "metadata": {},
   "source": [
    "# Init"
   ]
  },
  {
   "cell_type": "code",
   "execution_count": 2,
   "metadata": {
    "collapsed": true
   },
   "outputs": [],
   "source": [
    "import os\n",
    "import glob\n",
    "import nestly\n",
    "from IPython.display import Image\n",
    "import dill\n",
    "import numpy as np                                                              \n",
    "import pandas as pd                                                             \n",
    "import scipy.stats as stats"
   ]
  },
  {
   "cell_type": "code",
   "execution_count": 3,
   "metadata": {
    "collapsed": false
   },
   "outputs": [],
   "source": [
    "%load_ext rpy2.ipython"
   ]
  },
  {
   "cell_type": "code",
   "execution_count": 4,
   "metadata": {
    "collapsed": false
   },
   "outputs": [
    {
     "name": "stderr",
     "output_type": "stream",
     "text": [
      "/opt/anaconda/lib/python2.7/site-packages/rpy2/robjects/functions.py:106: UserWarning: \n",
      "Attaching package: ‘dplyr’\n",
      "\n",
      "\n",
      "  res = super(Function, self).__call__(*new_args, **new_kwargs)\n",
      "/opt/anaconda/lib/python2.7/site-packages/rpy2/robjects/functions.py:106: UserWarning: The following objects are masked from ‘package:plyr’:\n",
      "\n",
      "    arrange, count, desc, failwith, id, mutate, rename, summarise,\n",
      "    summarize\n",
      "\n",
      "\n",
      "  res = super(Function, self).__call__(*new_args, **new_kwargs)\n",
      "/opt/anaconda/lib/python2.7/site-packages/rpy2/robjects/functions.py:106: UserWarning: The following objects are masked from ‘package:stats’:\n",
      "\n",
      "    filter, lag\n",
      "\n",
      "\n",
      "  res = super(Function, self).__call__(*new_args, **new_kwargs)\n",
      "/opt/anaconda/lib/python2.7/site-packages/rpy2/robjects/functions.py:106: UserWarning: The following objects are masked from ‘package:base’:\n",
      "\n",
      "    intersect, setdiff, setequal, union\n",
      "\n",
      "\n",
      "  res = super(Function, self).__call__(*new_args, **new_kwargs)\n",
      "/opt/anaconda/lib/python2.7/site-packages/rpy2/robjects/functions.py:106: UserWarning: \n",
      "Attaching package: ‘gridExtra’\n",
      "\n",
      "\n",
      "  res = super(Function, self).__call__(*new_args, **new_kwargs)\n",
      "/opt/anaconda/lib/python2.7/site-packages/rpy2/robjects/functions.py:106: UserWarning: The following object is masked from ‘package:dplyr’:\n",
      "\n",
      "    combine\n",
      "\n",
      "\n",
      "  res = super(Function, self).__call__(*new_args, **new_kwargs)\n"
     ]
    }
   ],
   "source": [
    "%%R\n",
    "library(ggplot2)\n",
    "library(plyr)\n",
    "library(dplyr)\n",
    "library(tidyr)\n",
    "library(gridExtra)"
   ]
  },
  {
   "cell_type": "code",
   "execution_count": 5,
   "metadata": {
    "collapsed": false
   },
   "outputs": [
    {
     "name": "stdout",
     "output_type": "stream",
     "text": [
      "/home/nick/notebook/SIPSim/dev/bac_genome3/validation\n"
     ]
    }
   ],
   "source": [
    "if not os.path.isdir(workDir):\n",
    "    os.makedirs(workDir)\n",
    "    \n",
    "%cd $workDir    "
   ]
  },
  {
   "cell_type": "markdown",
   "metadata": {},
   "source": [
    "# Simulating fragments\n",
    "\n",
    "  * Fragment length distributions\n",
    "    * 'realistic' = skewed normal\n",
    "    * 'large' = ~50 kb\n",
    "    * 'small' = ~1-2 kb"
   ]
  },
  {
   "cell_type": "code",
   "execution_count": 33,
   "metadata": {
    "collapsed": true
   },
   "outputs": [],
   "source": [
    "# skewed-normal\n",
    "!SIPSim fragments \\\n",
    "    $genomeDir/genome_index.txt \\\n",
    "    --fp $genomeDir \\\n",
    "    --fr ../../515F-806R.fna \\\n",
    "    --fld skewed-normal,9000,2500,-5 \\\n",
    "    --flr None,None \\\n",
    "    --nf 10000 \\\n",
    "    --np $nprocs \\\n",
    "    --tbl \\\n",
    "    2> ampFrags_real.log \\\n",
    "    > ampFrags_real.txt       "
   ]
  },
  {
   "cell_type": "code",
   "execution_count": 34,
   "metadata": {
    "collapsed": true
   },
   "outputs": [],
   "source": [
    "# uniform (small)\n",
    "!SIPSim fragments \\\n",
    "    $genomeDir/genome_index.txt \\\n",
    "    --fp $genomeDir \\\n",
    "    --fr ../../515F-806R.fna \\\n",
    "    --fld uniform,1000,2000 \\\n",
    "    --flr None,None \\\n",
    "    --nf 10000 \\\n",
    "    --np $nprocs \\\n",
    "    --tbl \\\n",
    "    2> ampFrags_sm.log \\\n",
    "    > ampFrags_sm.txt       "
   ]
  },
  {
   "cell_type": "code",
   "execution_count": 35,
   "metadata": {
    "collapsed": true
   },
   "outputs": [],
   "source": [
    "# uniform (largs)\n",
    "!SIPSim fragments \\\n",
    "    $genomeDir/genome_index.txt \\\n",
    "    --fp $genomeDir \\\n",
    "    --fr ../../515F-806R.fna \\\n",
    "    --fld uniform,50000,51000 \\\n",
    "    --flr None,None \\\n",
    "    --nf 10000 \\\n",
    "    --np $nprocs \\\n",
    "    --tbl \\\n",
    "    2> ampFrags_lg.log \\\n",
    "    > ampFrags_lg.txt       "
   ]
  },
  {
   "cell_type": "markdown",
   "metadata": {},
   "source": [
    "## Plotting fragments"
   ]
  },
  {
   "cell_type": "code",
   "execution_count": 6,
   "metadata": {
    "collapsed": false
   },
   "outputs": [
    {
     "data": {
      "text/plain": [
       "                                           taxon_name\n",
       "ampFrags_real.txt.1 Clostridium_ljungdahlii_DSM_13528\n",
       "ampFrags_real.txt.2 Clostridium_ljungdahlii_DSM_13528\n",
       "ampFrags_real.txt.3 Clostridium_ljungdahlii_DSM_13528\n",
       "                                                    scaffoldID fragStart\n",
       "ampFrags_real.txt.1 CP001666_Clostridium_ljungdahlii_DSM_13528   4480839\n",
       "ampFrags_real.txt.2 CP001666_Clostridium_ljungdahlii_DSM_13528     86453\n",
       "ampFrags_real.txt.3 CP001666_Clostridium_ljungdahlii_DSM_13528    110150\n",
       "                    fragLength   fragGC\n",
       "ampFrags_real.txt.1       7913 42.33540\n",
       "ampFrags_real.txt.2       8254 33.72910\n",
       "ampFrags_real.txt.3       9318 40.66323\n"
      ]
     },
     "metadata": {},
     "output_type": "display_data"
    }
   ],
   "source": [
    "%%R -i workDir\n",
    "setwd(workDir)\n",
    "\n",
    "files = c('ampFrags_real.txt',\n",
    "          'ampFrags_sm.txt',\n",
    "          'ampFrags_lg.txt')\n",
    "\n",
    "tbl.l = list()\n",
    "for(f in files){\n",
    "    tbl.l[[f]] = read.delim(f, sep='\\t')\n",
    "    }\n",
    "tbl = do.call(rbind, tbl.l)\n",
    "tbl %>% head(n=3)"
   ]
  },
  {
   "cell_type": "code",
   "execution_count": 7,
   "metadata": {
    "collapsed": false
   },
   "outputs": [
    {
     "data": {
      "text/plain": [
       "                                           taxon_name\n",
       "ampFrags_real.txt.1 Clostridium_ljungdahlii_DSM_13528\n",
       "ampFrags_real.txt.2 Clostridium_ljungdahlii_DSM_13528\n",
       "ampFrags_real.txt.3 Clostridium_ljungdahlii_DSM_13528\n",
       "                                                    scaffoldID fragStart\n",
       "ampFrags_real.txt.1 CP001666_Clostridium_ljungdahlii_DSM_13528   4480839\n",
       "ampFrags_real.txt.2 CP001666_Clostridium_ljungdahlii_DSM_13528     86453\n",
       "ampFrags_real.txt.3 CP001666_Clostridium_ljungdahlii_DSM_13528    110150\n",
       "                    fragLength   fragGC           fld\n",
       "ampFrags_real.txt.1       7913 42.33540 ampFrags_real\n",
       "ampFrags_real.txt.2       8254 33.72910 ampFrags_real\n",
       "ampFrags_real.txt.3       9318 40.66323 ampFrags_real\n"
      ]
     },
     "metadata": {},
     "output_type": "display_data"
    }
   ],
   "source": [
    "%%R\n",
    "tbl$fld = gsub('\\\\.txt.+', '', rownames(tbl))\n",
    "tbl %>% head(n=3)"
   ]
  },
  {
   "cell_type": "code",
   "execution_count": 8,
   "metadata": {
    "collapsed": false
   },
   "outputs": [
    {
     "data": {
      "text/plain": [
       "                          taxon_name                                 scaffoldID\n",
       "1 Clostridium ljungdahlii\\nDSM 13528 CP001666_Clostridium_ljungdahlii_DSM_13528\n",
       "2 Clostridium ljungdahlii\\nDSM 13528 CP001666_Clostridium_ljungdahlii_DSM_13528\n",
       "3 Clostridium ljungdahlii\\nDSM 13528 CP001666_Clostridium_ljungdahlii_DSM_13528\n",
       "  fragStart fragLength   fragGC                       fld\n",
       "1   4480839       7913 42.33540 skewed normal (mean=9 kb)\n",
       "2     86453       8254 33.72910 skewed normal (mean=9 kb)\n",
       "3    110150       9318 40.66323 skewed normal (mean=9 kb)\n"
      ]
     },
     "metadata": {},
     "output_type": "display_data"
    }
   ],
   "source": [
    "%%R \n",
    "\n",
    "fld.revalue = c('ampFrags_real' = 'skewed normal (mean=9 kb)',\n",
    "                  'ampFrags_sm' = 'uniform (1-2 kb)',\n",
    "                  'ampFrags_lg' = 'uniform (50-51 kb)')\n",
    "\n",
    "taxon.revalue = c('Clostridium_ljungdahlii_DSM_13528' = 'Clostridium_ljungdahlii\\nDSM_13528',\n",
    "                  'Streptomyces_pratensis_ATCC_33331' = 'Streptomyces_pratensis\\nATCC_33331')\n",
    "\n",
    "\n",
    "tbl.f = tbl %>%\n",
    "    mutate(taxon_name = revalue(taxon_name, taxon.revalue),\n",
    "           fld = revalue(fld, fld.revalue)) %>%\n",
    "    mutate(taxon_name = gsub('_', ' ', taxon_name))\n",
    "\n",
    "tbl.f %>% head(n=3)"
   ]
  },
  {
   "cell_type": "code",
   "execution_count": 22,
   "metadata": {
    "collapsed": false
   },
   "outputs": [
    {
     "data": {
      "image/png": "[encoded data removed]"
     },
     "metadata": {},
     "output_type": "display_data"
    }
   ],
   "source": [
    "%%R -w 800 -h 350\n",
    "\n",
    "ggplot(tbl.f %>% mutate(fragLength = fragLength / 1000), \n",
    "       aes(fragGC, fragLength, color=fld)) +\n",
    "    stat_density2d() +\n",
    "    scale_color_discrete(name='') +\n",
    "    labs(x='Fragment G+C', y='Fragment length (kb)',\n",
    "         title='An example of fragment simulation from reference genomes') +\n",
    "    facet_grid(. ~ taxon_name) +\n",
    "    theme_bw() +\n",
    "    theme(\n",
    "        text=element_text(size=16),\n",
    "        title=element_text(size=13),\n",
    "        axis.title.y=element_text(vjust=1)#,\n",
    "#        legend.position = 'bottom'\n",
    "        )"
   ]
  },
  {
   "cell_type": "code",
   "execution_count": 23,
   "metadata": {
    "collapsed": false
   },
   "outputs": [
    {
     "data": {
      "text/plain": [
       "File written /home/nick/notebook/SIPSim/figures//genome3_fragKDE.pdf \n"
      ]
     },
     "metadata": {},
     "output_type": "display_data"
    }
   ],
   "source": [
    "%%R -i figDir\n",
    "\n",
    "outFile = paste(c(figDir, 'genome3_fragKDE.pdf'), collapse='/')\n",
    "ggsave(outFile, width=10, height=4)\n",
    "cat('File written', outFile, '\\n')"
   ]
  },
  {
   "cell_type": "markdown",
   "metadata": {},
   "source": [
    "# Converting to KDE"
   ]
  },
  {
   "cell_type": "code",
   "execution_count": 43,
   "metadata": {
    "collapsed": false
   },
   "outputs": [],
   "source": [
    "!SIPSim fragment_KDE \\\n",
    "    ampFrags_real.txt \\\n",
    "    > ampFrags_real_kde.pkl\n",
    "    \n",
    "!SIPSim fragment_KDE \\\n",
    "    ampFrags_sm.txt \\\n",
    "    > ampFrags_sm_kde.pkl\n",
    "    \n",
    "!SIPSim fragment_KDE \\\n",
    "    ampFrags_lg.txt \\\n",
    "    > ampFrags_lg_kde.pkl    "
   ]
  },
  {
   "cell_type": "markdown",
   "metadata": {},
   "source": [
    "# Adding diffusion"
   ]
  },
  {
   "cell_type": "code",
   "execution_count": 51,
   "metadata": {
    "collapsed": false
   },
   "outputs": [
    {
     "name": "stdout",
     "output_type": "stream",
     "text": [
      "Index size: 90508\n",
      "Processing: Streptomyces_pratensis_ATCC_33331\n",
      "Processing: Escherichia_coli_1303\n",
      "Processing: Clostridium_ljungdahlii_DSM_13528\n",
      "Index size: 90508\n",
      "Processing: Streptomyces_pratensis_ATCC_33331\n",
      "Processing: Escherichia_coli_1303\n",
      "Processing: Clostridium_ljungdahlii_DSM_13528\n",
      "Index size: 90508\n",
      "Processing: Streptomyces_pratensis_ATCC_33331\n",
      "Processing: Escherichia_coli_1303\n",
      "Processing: Clostridium_ljungdahlii_DSM_13528\n"
     ]
    }
   ],
   "source": [
    "!SIPSim diffusion \\\n",
    "    ampFrags_real_kde.pkl \\\n",
    "    --bw $bandwidth \\\n",
    "    --np $nprocs \\\n",
    "    > ampFrags_real_kde_dif.pkl    \n",
    "    \n",
    "!SIPSim diffusion \\\n",
    "    ampFrags_sm_kde.pkl \\\n",
    "    --bw $bandwidth \\\n",
    "    --np $nprocs \\\n",
    "    > ampFrags_sm_kde_dif.pkl    \n",
    "    \n",
    "!SIPSim diffusion \\\n",
    "    ampFrags_lg_kde.pkl \\\n",
    "    --bw $bandwidth \\\n",
    "    --np $nprocs \\\n",
    "    > ampFrags_lg_kde_dif.pkl        "
   ]
  },
  {
   "cell_type": "markdown",
   "metadata": {},
   "source": [
    "# Plotting fragment distribution w/ and w/out diffusion"
   ]
  },
  {
   "cell_type": "markdown",
   "metadata": {},
   "source": [
    "## Making a table of fragment values from KDEs"
   ]
  },
  {
   "cell_type": "code",
   "execution_count": 52,
   "metadata": {
    "collapsed": false
   },
   "outputs": [],
   "source": [
    "%%bash \n",
    "\n",
    "n=100000\n",
    "\n",
    "SIPSim KDE_sample -n $n ampFrags_real_kde.pkl > ampFrags_real_kde.txt\n",
    "SIPSim KDE_sample -n $n ampFrags_real_kde_dif.pkl > ampFrags_real_kde_dif.txt\n",
    "\n",
    "SIPSim KDE_sample -n $n ampFrags_sm_kde.pkl > ampFrags_sm_kde.txt\n",
    "SIPSim KDE_sample -n $n ampFrags_sm_kde_dif.pkl > ampFrags_sm_kde_dif.txt\n",
    "\n",
    "SIPSim KDE_sample -n $n ampFrags_lg_kde.pkl > ampFrags_lg_kde.txt\n",
    "SIPSim KDE_sample -n $n ampFrags_lg_kde_dif.pkl > ampFrags_lg_kde_dif.txt"
   ]
  },
  {
   "cell_type": "markdown",
   "metadata": {},
   "source": [
    "## Plotting"
   ]
  },
  {
   "cell_type": "code",
   "execution_count": 24,
   "metadata": {
    "collapsed": false
   },
   "outputs": [
    {
     "data": {
      "text/plain": [
       "  X libID         data           fld                        taxon_name       BD\n",
       "1 0     1 no diffusion ampFrags_real Clostridium_ljungdahlii_DSM_13528 1.694562\n",
       "2 1     1 no diffusion ampFrags_real Clostridium_ljungdahlii_DSM_13528 1.700353\n",
       "3 2     1 no diffusion ampFrags_real Clostridium_ljungdahlii_DSM_13528 1.702735\n"
      ]
     },
     "metadata": {},
     "output_type": "display_data"
    }
   ],
   "source": [
    "%%R -i workDir\n",
    "\n",
    "kde.files = c('ampFrags_real_kde.txt',\n",
    "              'ampFrags_sm_kde.txt',\n",
    "              'ampFrags_lg_kde.txt')\n",
    "kde.dif.files = c('ampFrags_real_kde_dif.txt',\n",
    "                  'ampFrags_sm_kde_dif.txt',\n",
    "                  'ampFrags_lg_kde_dif.txt')\n",
    "\n",
    "\n",
    "load.tables = function(files, data.id){\n",
    "    tbl.l = list()\n",
    "    for(f in files){\n",
    "        F = file.path(workDir, f)\n",
    "        x = read.delim(F, sep='\\t')\n",
    "        x = mutate(x, \n",
    "                   data = data.id,\n",
    "                   fld = gsub('_kde(_dif)*.txt', '', f))\n",
    "        tbl.l[[f]] = x\n",
    "        }\n",
    "    \n",
    "    tbl = do.call(rbind, tbl.l) %>%\n",
    "        gather('taxon_name','BD', 2:4)\n",
    "    return(tbl)\n",
    "    }\n",
    "\n",
    "tbl1 = load.tables(kde.files, 'no diffusion')\n",
    "tbl2 = load.tables(kde.dif.files, 'diffusion')\n",
    "tbl = rbind(tbl1, tbl2)\n",
    "tbl %>% head(n=3)"
   ]
  },
  {
   "cell_type": "code",
   "execution_count": 33,
   "metadata": {
    "collapsed": false
   },
   "outputs": [],
   "source": [
    "%%R \n",
    "\n",
    "fld.revalue = c('ampFrags_real' = 'skewed normal\\n(mean = 9 kb)',\n",
    "                'ampFrags_sm' = 'uniform\\n(1-2 kb)',\n",
    "                'ampFrags_lg' = 'uniform\\n(50-51 kb)')\n",
    "\n",
    "taxon.revalue = c('Clostridium_ljungdahlii_DSM_13528' = 'Clostridium_ljungdahlii\\nDSM_13528',\n",
    "                  'Streptomyces_pratensis_ATCC_33331' = 'Streptomyces_pratensis\\nATCC_33331')\n",
    "\n",
    "\n",
    "tbl.f = tbl %>%\n",
    "    mutate(taxon_name = revalue(taxon_name, taxon.revalue),\n",
    "           fld = revalue(fld, fld.revalue)) %>%\n",
    "    mutate(taxon_name = gsub('_', ' ', taxon_name)) %>%\n",
    "    mutate(data = ifelse(data=='diffusion', 'Gaussian BD', 'Discrete BD'))"
   ]
  },
  {
   "cell_type": "code",
   "execution_count": 34,
   "metadata": {
    "collapsed": false
   },
   "outputs": [
    {
     "data": {
      "image/png": "[encoded data removed]"
     },
     "metadata": {},
     "output_type": "display_data"
    }
   ],
   "source": [
    "%%R -w 700 -h 400\n",
    "\n",
    "tbl.f$fld = factor(tbl.f$fld, \n",
    "                   levels=c('uniform\\n(1-2 kb)','skewed normal\\n(mean = 9 kb)','uniform\\n(50-51 kb)'))\n",
    "\n",
    "x.lab = expression(paste('Buoyant density (g ml' ^ '-1', ')'))\n",
    "\n",
    "ggplot(tbl.f, aes(BD, fill=data)) +\n",
    "    geom_density(alpha=0.25) +\n",
    "    scale_x_continuous(limits=c(1.68, 1.74)) +\n",
    "    facet_grid(fld ~ taxon_name, scales='free_y') +    \n",
    "    scale_fill_discrete('') +\n",
    "    labs(x = x.lab, y='Probability density') +\n",
    "    theme_bw() +\n",
    "    theme(\n",
    "        text=element_text(size=16),\n",
    "        axis.title.y = element_text(vjust=1),\n",
    "        axis.text.x = element_text(angle=50, hjust=1)\n",
    "        )"
   ]
  },
  {
   "cell_type": "code",
   "execution_count": 36,
   "metadata": {
    "collapsed": false
   },
   "outputs": [
    {
     "data": {
      "text/plain": [
       "File written: /home/nick/notebook/SIPSim/figures//genome3_fragKDE_dif.pdf \n"
      ]
     },
     "metadata": {},
     "output_type": "display_data"
    }
   ],
   "source": [
    "%%R -i figDir \n",
    "\n",
    "outFile = paste(c(figDir, 'genome3_fragKDE_dif.pdf'), collapse='/')\n",
    "ggsave(outFile, width=10, height=5.71) \n",
    "cat('File written:', outFile, '\\n')"
   ]
  },
  {
   "cell_type": "markdown",
   "metadata": {
    "collapsed": true
   },
   "source": [
    "# Adding DBL 'smearing' to diffusion KDEs"
   ]
  },
  {
   "cell_type": "code",
   "execution_count": 57,
   "metadata": {
    "collapsed": false
   },
   "outputs": [
    {
     "name": "stdout",
     "output_type": "stream",
     "text": [
      "DBL_index file written: \"DBL_index.txt\"\n",
      "Processing: Clostridium_ljungdahlii_DSM_13528\n",
      "Processing: Streptomyces_pratensis_ATCC_33331\n",
      "Processing: Escherichia_coli_1303\n",
      "DBL_index file written: \"DBL_index.txt\"\n",
      "Processing: Clostridium_ljungdahlii_DSM_13528\n",
      "Processing: Streptomyces_pratensis_ATCC_33331\n",
      "Processing: Escherichia_coli_1303\n",
      "DBL_index file written: \"DBL_index.txt\"\n",
      "Processing: Clostridium_ljungdahlii_DSM_13528\n",
      "Processing: Streptomyces_pratensis_ATCC_33331\n",
      "Processing: Escherichia_coli_1303\n"
     ]
    }
   ],
   "source": [
    "# fraction of fragments in DBL\n",
    "frac_abs = 0.001\n",
    "\n",
    "!SIPSim DBL \\\n",
    "    ampFrags_real_kde_dif.pkl \\\n",
    "    --frac_abs $frac_abs \\\n",
    "    --bw $bandwidth \\\n",
    "    --np $nprocs \\\n",
    "    > ampFrags_real_kde_dif_DBL.pkl    \n",
    "    \n",
    "!SIPSim DBL \\\n",
    "    ampFrags_sm_kde_dif.pkl \\\n",
    "    --frac_abs $frac_abs \\\n",
    "    --bw $bandwidth \\\n",
    "    --np $nprocs \\\n",
    "    > ampFrags_sm_kde_dif_DBL.pkl    \n",
    "    \n",
    "!SIPSim DBL \\\n",
    "    ampFrags_lg_kde_dif.pkl \\\n",
    "    --frac_abs $frac_abs \\\n",
    "    --bw $bandwidth \\\n",
    "    --np $nprocs \\\n",
    "    > ampFrags_lg_kde_dif_DBL.pkl        "
   ]
  },
  {
   "cell_type": "code",
   "execution_count": 58,
   "metadata": {
    "collapsed": false
   },
   "outputs": [
    {
     "name": "stdout",
     "output_type": "stream",
     "text": [
      "Processing: Clostridium_ljungdahlii_DSM_13528\n",
      "Processing: Streptomyces_pratensis_ATCC_33331\n",
      "Processing: Escherichia_coli_1303\n",
      "Processing: Clostridium_ljungdahlii_DSM_13528\n",
      "Processing: Streptomyces_pratensis_ATCC_33331\n",
      "Processing: Escherichia_coli_1303\n",
      "Processing: Clostridium_ljungdahlii_DSM_13528\n",
      "Processing: Streptomyces_pratensis_ATCC_33331\n",
      "Processing: Escherichia_coli_1303\n"
     ]
    }
   ],
   "source": [
    "# viewing DBL logs\n",
    "g_path = os.path.join(workDir, '*_DBL.log')\n",
    "files = glob.glob(g_path)\n",
    "for f in files:\n",
    "    !tail $f"
   ]
  },
  {
   "cell_type": "markdown",
   "metadata": {},
   "source": [
    "## Making a table of fragment values from KDEs"
   ]
  },
  {
   "cell_type": "code",
   "execution_count": 59,
   "metadata": {
    "collapsed": false
   },
   "outputs": [],
   "source": [
    "%%bash -s \"$workDir\"\n",
    "\n",
    "n=100000\n",
    "\n",
    "SIPSim KDE_sample -n $n ampFrags_real_kde_dif_DBL.pkl > ampFrags_real_kde_dif_DBL.txt\n",
    "SIPSim KDE_sample -n $n ampFrags_sm_kde_dif_DBL.pkl > ampFrags_sm_kde_dif_DBL.txt\n",
    "SIPSim KDE_sample -n $n ampFrags_lg_kde_dif_DBL.pkl > ampFrags_lg_kde_dif_DBL.txt"
   ]
  },
  {
   "cell_type": "markdown",
   "metadata": {},
   "source": [
    "## Plotting fragment BD distributions (no DBL vs DBL)"
   ]
  },
  {
   "cell_type": "code",
   "execution_count": 37,
   "metadata": {
    "collapsed": false
   },
   "outputs": [
    {
     "data": {
      "text/plain": [
       "  X libID      data           fld                        taxon_name       BD\n",
       "1 0     1 diffusion ampFrags_real Clostridium_ljungdahlii_DSM_13528 1.695162\n",
       "2 1     1 diffusion ampFrags_real Clostridium_ljungdahlii_DSM_13528 1.707110\n",
       "3 2     1 diffusion ampFrags_real Clostridium_ljungdahlii_DSM_13528 1.701430\n"
      ]
     },
     "metadata": {},
     "output_type": "display_data"
    }
   ],
   "source": [
    "%%R -i workDir\n",
    "\n",
    "kde.dif.files = c('ampFrags_real_kde_dif.txt',\n",
    "                  'ampFrags_sm_kde_dif.txt',\n",
    "                  'ampFrags_lg_kde_dif.txt')\n",
    "kde.DBL.files = c('ampFrags_real_kde_dif_DBL.txt',\n",
    "                  'ampFrags_sm_kde_dif_DBL.txt',\n",
    "                  'ampFrags_lg_kde_dif_DBL.txt')\n",
    "\n",
    "\n",
    "load.tables = function(files, data.id){\n",
    "    tbl.l = list()\n",
    "    for(f in files){\n",
    "        F = file.path(workDir, f)\n",
    "        x = read.delim(F, sep='\\t') %>%\n",
    "                mutate(data = data.id,\n",
    "                       fld = gsub('_kde_dif(_DBL)*.txt', '', f))\n",
    "        if (!any('libID' %in% colnames(x))){\n",
    "            x$libID = '1'\n",
    "        }\n",
    "        tbl.l[[f]] = x\n",
    "        }\n",
    "    \n",
    "    tbl = do.call(rbind, tbl.l) %>%\n",
    "        gather('taxon_name','BD', 2:4)\n",
    "    return(tbl)\n",
    "    }\n",
    "\n",
    "tbl1 = load.tables(kde.dif.files, 'diffusion')\n",
    "tbl2 = load.tables(kde.DBL.files, 'diffusion_wDBL')\n",
    "tbl = rbind(tbl1, tbl2)\n",
    "tbl %>% head(n=3)"
   ]
  },
  {
   "cell_type": "code",
   "execution_count": 38,
   "metadata": {
    "collapsed": false
   },
   "outputs": [],
   "source": [
    "%%R \n",
    "\n",
    "fld.revalue = c('ampFrags_real' = 'skewed normal\\n(mean = 9 kb)',\n",
    "                'ampFrags_sm' = 'uniform\\n(1-2 kb)',\n",
    "                'ampFrags_lg' = 'uniform\\n(50-51 kb)')\n",
    "\n",
    "taxon.revalue = c('Clostridium_ljungdahlii_DSM_13528' = 'Clostridium_ljungdahlii\\nDSM_13528',\n",
    "                  'Streptomyces_pratensis_ATCC_33331' = 'Streptomyces_pratensis\\nATCC_33331')\n",
    "\n",
    "\n",
    "tbl.f = tbl %>%\n",
    "    mutate(taxon_name = revalue(taxon_name, taxon.revalue),\n",
    "           fld = revalue(fld, fld.revalue)) %>%\n",
    "    mutate(taxon_name = gsub('_', ' ', taxon_name))"
   ]
  },
  {
   "cell_type": "code",
   "execution_count": 39,
   "metadata": {
    "collapsed": false,
    "scrolled": true
   },
   "outputs": [
    {
     "data": {
      "image/png": "[encoded data removed]"
     },
     "metadata": {},
     "output_type": "display_data"
    }
   ],
   "source": [
    "%%R -w 700 -h 400\n",
    "\n",
    "tbl.f$fld = factor(tbl.f$fld, \n",
    "                   levels=c('uniform\\n(1-2 kb)','skewed normal\\n(mean = 9 kb)','uniform\\n(50-51 kb)'))\n",
    "\n",
    "\n",
    "p1 = ggplot(tbl.f, aes(BD, fill=data)) +\n",
    "    geom_density(alpha=0.25) +\n",
    "    scale_x_continuous(limits=c(1.68, 1.74)) +\n",
    "    facet_grid(fld ~ taxon_name, scales='free_y') +    \n",
    "    labs(x = 'Buoyant density') +\n",
    "    theme_bw() +\n",
    "    theme(\n",
    "        text=element_text(size=16),\n",
    "        axis.title.y = element_text(vjust=1),\n",
    "        axis.text.x = element_text(angle=50, hjust=1)\n",
    "        )\n",
    "p1"
   ]
  },
  {
   "cell_type": "code",
   "execution_count": 40,
   "metadata": {
    "collapsed": false
   },
   "outputs": [],
   "source": [
    "%%R -w 700 -h 400\n",
    "p2 = p1 + scale_y_log10() "
   ]
  },
  {
   "cell_type": "markdown",
   "metadata": {
    "collapsed": true
   },
   "source": [
    "# Adding abundance-weighted DBL smearing"
   ]
  },
  {
   "cell_type": "code",
   "execution_count": 64,
   "metadata": {
    "collapsed": false
   },
   "outputs": [
    {
     "name": "stdout",
     "output_type": "stream",
     "text": [
      "Loading KDEs...\n",
      "Clostridium_ljungdahlii_DSM_13528\n",
      "Escherichia_coli_1303\n",
      "Streptomyces_pratensis_ATCC_33331\n"
     ]
    }
   ],
   "source": [
    "# getting file listing taxon names\n",
    "!SIPSim KDE_info \\\n",
    "    -t ampFrags.pkl \\\n",
    "    > taxon_names.txt\n",
    "    \n",
    "!head taxon_names.txt    "
   ]
  },
  {
   "cell_type": "code",
   "execution_count": 65,
   "metadata": {
    "collapsed": false
   },
   "outputs": [
    {
     "name": "stdout",
     "output_type": "stream",
     "text": [
      "library\ttaxon_name\trel_abund_perc\trank\r\n",
      "1\tStreptomyces_pratensis_ATCC_33331\t48.614330446\t1\r\n",
      "1\tEscherichia_coli_1303\t29.238216324\t2\r\n",
      "1\tClostridium_ljungdahlii_DSM_13528\t22.147453230\t3\r\n"
     ]
    }
   ],
   "source": [
    "# making a community file\n",
    "comm_params = 'mean:-9.5,sigma:0.9'\n",
    "\n",
    "!SIPSim communities \\\n",
    "    --abund_dist_p $comm_params \\\n",
    "    taxon_names.txt \\\n",
    "    > comm.txt\n",
    "    \n",
    "!head comm.txt    "
   ]
  },
  {
   "cell_type": "code",
   "execution_count": 66,
   "metadata": {
    "collapsed": false
   },
   "outputs": [
    {
     "name": "stdout",
     "output_type": "stream",
     "text": [
      "DBL_index file written: \"DBL_index.txt\"\n",
      "Processing: Clostridium_ljungdahlii_DSM_13528\n",
      "Processing: Streptomyces_pratensis_ATCC_33331\n",
      "Processing: Escherichia_coli_1303\n",
      "DBL_index file written: \"DBL_index.txt\"\n",
      "Processing: Clostridium_ljungdahlii_DSM_13528\n",
      "Processing: Streptomyces_pratensis_ATCC_33331\n",
      "Processing: Escherichia_coli_1303\n",
      "DBL_index file written: \"DBL_index.txt\"\n",
      "Processing: Clostridium_ljungdahlii_DSM_13528\n",
      "Processing: Streptomyces_pratensis_ATCC_33331\n",
      "Processing: Escherichia_coli_1303\n"
     ]
    }
   ],
   "source": [
    "# fraction of fragments in DBL\n",
    "\n",
    "!SIPSim DBL \\\n",
    "    ampFrags_real_kde_dif.pkl \\\n",
    "    --frac_abs $frac_abs \\\n",
    "    --comm comm.txt \\\n",
    "    --bw $bandwidth \\\n",
    "    --np $nprocs \\\n",
    "    > ampFrags_real_kde_dif_DBL-comm.pkl    \n",
    "    \n",
    "!SIPSim DBL \\\n",
    "    ampFrags_sm_kde_dif.pkl \\\n",
    "    --frac_abs $frac_abs \\\n",
    "    --comm comm.txt \\\n",
    "    --bw $bandwidth \\\n",
    "    --np $nprocs \\\n",
    "    > ampFrags_sm_kde_dif_DBL-comm.pkl    \n",
    "    \n",
    "!SIPSim DBL \\\n",
    "    ampFrags_lg_kde_dif.pkl \\\n",
    "    --frac_abs $frac_abs \\\n",
    "    --comm comm.txt \\\n",
    "    --bw $bandwidth \\\n",
    "    --np $nprocs \\\n",
    "    > ampFrags_lg_kde_dif_DBL-comm.pkl        "
   ]
  },
  {
   "cell_type": "code",
   "execution_count": null,
   "metadata": {
    "collapsed": true
   },
   "outputs": [],
   "source": []
  }
 ],
 "metadata": {
  "hide_input": true,
  "kernelspec": {
   "display_name": "Python 2",
   "language": "python",
   "name": "python2"
  },
  "language_info": {
   "codemirror_mode": {
    "name": "ipython",
    "version": 2
   },
   "file_extension": ".py",
   "mimetype": "text/x-python",
   "name": "python",
   "nbconvert_exporter": "python",
   "pygments_lexer": "ipython2",
   "version": "2.7.11"
  },
  "notify_time": "5"
 },
 "nbformat": 4,
 "nbformat_minor": 0
}
