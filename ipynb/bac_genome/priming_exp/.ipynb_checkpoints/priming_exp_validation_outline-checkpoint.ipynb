{
 "cells": [
  {
   "cell_type": "markdown",
   "metadata": {},
   "source": [
    "# Goal\n",
    "\n",
    "* model validation: compare the priming experiment HR-SIP sequencing data to simulations of that same data"
   ]
  },
  {
   "cell_type": "markdown",
   "metadata": {},
   "source": [
    "# Method\n",
    "\n",
    "* Find taxa that are closely related to sequenced genomes \n",
    "  * relatedness based on 16S rRNA\n",
    "  * CD-HIT: OTU rep sequences & complete genome 16S seqeuences\n",
    "    * cutoff = 97% seqID\n",
    "  * Select a particular 13C gradient (& matching 12C control): \n",
    "    * Infer total abundance of each target taxon\n",
    "    * Infer total richness of starting community\n",
    "    * Get distribution of total OTU abundances per fraction\n",
    "* HR-SIP simulation with target taxa abundances set by Priming Exp\n",
    "  * Fill in rest of community with pseudo-genomes\n",
    "    * pseudo-genomes are just fragment-length/GC distributions \n",
    "      * GC distribution as a normal\n",
    "        * GC_dist_mean is drawn from normal distribution (mean=50, sd=7)\n",
    "    * number of pseudo-genomes: gradient community\n",
    "  * abundance distribution: lognormal\n",
    "  * total abundance: 1e9\n",
    "  * subsampled: based on Ashley's dataset"
   ]
  },
  {
   "cell_type": "code",
   "execution_count": null,
   "metadata": {
    "collapsed": true
   },
   "outputs": [],
   "source": []
  },
  {
   "cell_type": "code",
   "execution_count": null,
   "metadata": {
    "collapsed": true
   },
   "outputs": [],
   "source": []
  },
  {
   "cell_type": "markdown",
   "metadata": {},
   "source": [
    "# OLD"
   ]
  },
  {
   "cell_type": "markdown",
   "metadata": {},
   "source": [
    "\n",
    "* Use the genomes of target taxa to simulate the subset of the HR-SIP dataset\n",
    "  * Use inferred \n",
    "* Fill in rest of community with pseudo-genomes\n",
    "  * pseudo-genomes are just fragment-length/GC distributions \n",
    "    * GC distribution as a normal\n",
    "      * GC_dist_mean is drawn from normal distribution (mean=50, sd=7)\n",
    "  * number of pseudo-genomes: 5000?\n",
    "* Simulate HR-SIP data\n",
    "  * abundance distribution: lognormal\n",
    "  * total abundance: 1e9\n",
    "  * subsampled: 20k?"
   ]
  }
 ],
 "metadata": {
  "kernelspec": {
   "display_name": "Python 2",
   "language": "python",
   "name": "python2"
  },
  "language_info": {
   "codemirror_mode": {
    "name": "ipython",
    "version": 2
   },
   "file_extension": ".py",
   "mimetype": "text/x-python",
   "name": "python",
   "nbconvert_exporter": "python",
   "pygments_lexer": "ipython2",
   "version": "2.7.9"
  }
 },
 "nbformat": 4,
 "nbformat_minor": 0
}
