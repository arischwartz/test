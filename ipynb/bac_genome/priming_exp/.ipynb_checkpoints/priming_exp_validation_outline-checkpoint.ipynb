{
 "cells": [
  {
   "cell_type": "markdown",
   "metadata": {},
   "source": [
    "# Goal\n",
    "\n",
    "* model validation: compare the priming experiment HR-SIP sequencing data to simulations of that same data"
   ]
  },
  {
   "cell_type": "markdown",
   "metadata": {},
   "source": [
    "# Method\n",
    "\n",
    "* Find taxa that are closely related to sequenced genomes \n",
    "  * relatedness based on 16S rRNA\n",
    "* Use the genomes of interest to simulate the subset of the HR-SIP dataset\n",
    "* Fill in rest of community with pseudo-genomes\n",
    "  * pseudo-genomes are just fragment-length/GC distributions \n",
    "    * GC distribution is normal\n",
    "      * GC_dist_mean is drawn from normal distribution (mean=50, sd=7)\n",
    "  * number of pseudo-genomes: 5000?\n",
    "* Simulate HR-SIP data\n",
    "  * abundance distribution: lognormal\n",
    "  * total abundance: 1e9\n",
    "  * subsampled: 20k?"
   ]
  },
  {
   "cell_type": "code",
   "execution_count": null,
   "metadata": {
    "collapsed": true
   },
   "outputs": [],
   "source": []
  }
 ],
 "metadata": {
  "kernelspec": {
   "display_name": "Python 2",
   "language": "python",
   "name": "python2"
  },
  "language_info": {
   "codemirror_mode": {
    "name": "ipython",
    "version": 2
   },
   "file_extension": ".py",
   "mimetype": "text/x-python",
   "name": "python",
   "nbconvert_exporter": "python",
   "pygments_lexer": "ipython2",
   "version": "2.7.9"
  }
 },
 "nbformat": 4,
 "nbformat_minor": 0
}
