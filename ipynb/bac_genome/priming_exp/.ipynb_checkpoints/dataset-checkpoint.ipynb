{
 "cells": [
  {
   "cell_type": "markdown",
   "metadata": {},
   "source": [
    "# Initial dataset setup for priming_exp validation"
   ]
  },
  {
   "cell_type": "code",
   "execution_count": 2,
   "metadata": {
    "collapsed": true
   },
   "outputs": [],
   "source": [
    "primingExpDir = '/var/seq_data/priming_exp/'\n",
    "otuTableFile = '/var/seq_data/priming_exp/data/otu_table.txt'\n",
    "otuTableSumFile = '/var/seq_data/priming_exp/data/otu_table_summary.txt'\n",
    "otuRepFile = '/var/seq_data/priming_exp/otusn.pick.fasta'"
   ]
  },
  {
   "cell_type": "markdown",
   "metadata": {},
   "source": [
    "# Init"
   ]
  },
  {
   "cell_type": "code",
   "execution_count": 3,
   "metadata": {
    "collapsed": true
   },
   "outputs": [],
   "source": [
    "import glob\n",
    "from os.path import abspath\n",
    "from IPython.display import Image"
   ]
  },
  {
   "cell_type": "code",
   "execution_count": 4,
   "metadata": {
    "collapsed": true
   },
   "outputs": [],
   "source": [
    "%load_ext rpy2.ipython"
   ]
  },
  {
   "cell_type": "code",
   "execution_count": 5,
   "metadata": {
    "collapsed": false
   },
   "outputs": [
    {
     "data": {
      "text/plain": [
       "\n",
       "Attaching package: ‘dplyr’\n",
       "\n",
       "The following objects are masked from ‘package:stats’:\n",
       "\n",
       "    filter, lag\n",
       "\n",
       "The following objects are masked from ‘package:base’:\n",
       "\n",
       "    intersect, setdiff, setequal, union\n",
       "\n",
       "Loading required package: grid\n"
      ]
     },
     "metadata": {},
     "output_type": "display_data"
    }
   ],
   "source": [
    "%%R\n",
    "library(ggplot2)\n",
    "library(dplyr)\n",
    "library(tidyr)\n",
    "library(gridExtra)"
   ]
  },
  {
   "cell_type": "markdown",
   "metadata": {},
   "source": [
    "# Checking files"
   ]
  },
  {
   "cell_type": "code",
   "execution_count": 11,
   "metadata": {
    "collapsed": false
   },
   "outputs": [
    {
     "name": "stdout",
     "output_type": "stream",
     "text": [
      "Number of OTUs in table file: 10361 /dev/fd/8\n",
      "Number of sequences in OTU rep file: 10361\n"
     ]
    }
   ],
   "source": [
    "%%bash -s \"$otuTableFile\" \"$otuRepFile\" \n",
    "\n",
    "printf \"Number of OTUs in table file: \"\n",
    "wc -l <(tail -n +2 $1)\n",
    "\n",
    "printf \"Number of sequences in OTU rep file: \"\n",
    "grep -c \">\" $2"
   ]
  },
  {
   "cell_type": "code",
   "execution_count": 17,
   "metadata": {
    "collapsed": false
   },
   "outputs": [
    {
     "name": "stdout",
     "output_type": "stream",
     "text": [
      "10\n",
      "10\n"
     ]
    },
    {
     "name": "stderr",
     "output_type": "stream",
     "text": [
      "tail: write error\n"
     ]
    }
   ],
   "source": [
    "%%bash -s \"$otuTableFile\" \"$otuRepFile\" \n",
    "# checking overlap\n",
    "\n",
    "tail -n +2 $1 | head | cut -f 1 | \\\n",
    "    xargs -I % grep % $2 | wc -l\n",
    "    \n",
    "tail $1 | cut -f 1 | \\\n",
    "    xargs -I % grep % $2 | wc -l"
   ]
  },
  {
   "cell_type": "markdown",
   "metadata": {},
   "source": [
    "# Dataset naming scheme"
   ]
  },
  {
   "cell_type": "code",
   "execution_count": 6,
   "metadata": {
    "collapsed": false
   },
   "outputs": [
    {
     "data": {
      "text/plain": [
       "                  X\n",
       "1 X12C.700.45.01.24\n",
       "2 X12C.700.14.06.14\n",
       "3 X12C.100.14.05.18\n",
       "4 X12C.700.14.06.05\n",
       "5 X12C.000.14.05.18\n",
       "6 X12C.100.14.05.11\n"
      ]
     },
     "metadata": {},
     "output_type": "display_data"
    }
   ],
   "source": [
    "%%R -i otuTableFile\n",
    "\n",
    "tbl = read.delim(otuTableFile, sep='\\t')\n",
    "col.n = colnames(tbl) %>% as.data.frame\n",
    "colnames(col.n) = 'X'\n",
    "col.n = filter(col.n, X != 'OTUId')\n",
    "col.n %>% head"
   ]
  },
  {
   "cell_type": "code",
   "execution_count": 9,
   "metadata": {
    "collapsed": false,
    "scrolled": true
   },
   "outputs": [
    {
     "data": {
      "text/plain": [
       "  isotope treatment day rep fraction\n",
       "1    X12C       700  45  01       24\n",
       "2    X12C       700  14  06       14\n",
       "3    X12C       100  14  05       18\n",
       "4    X12C       700  14  06        5\n",
       "5    X12C       000  14  05       18\n",
       "6    X12C       100  14  05       11\n"
      ]
     },
     "metadata": {},
     "output_type": "display_data"
    }
   ],
   "source": [
    "%%R\n",
    "col.ns = col.n %>% \n",
    "    separate(X, c('isotope','treatment','day','rep','fraction'), sep='\\\\.') %>%\n",
    "    mutate(day = as.numeric(day),\n",
    "           rep = as.character(rep),\n",
    "           fraction = as.numeric(fraction))\n",
    "           \n",
    "\n",
    "col.ns %>% head"
   ]
  },
  {
   "cell_type": "code",
   "execution_count": 17,
   "metadata": {
    "collapsed": false
   },
   "outputs": [
    {
     "data": {
      "image/png": "[encoded data removed]"
     },
     "metadata": {},
     "output_type": "display_data"
    }
   ],
   "source": [
    "%%R -w 800 -h 400\n",
    "\n",
    "col.ns.f = filter(col.ns, grepl('X1[23]C', isotope))\n",
    "\n",
    "ggplot(col.ns.f, aes(day, fraction, color=rep)) +\n",
    "    geom_point() +\n",
    "    facet_grid(isotope ~ treatment)"
   ]
  },
  {
   "cell_type": "code",
   "execution_count": 24,
   "metadata": {
    "collapsed": false
   },
   "outputs": [
    {
     "data": {
      "image/png": "[encoded data removed]"
     },
     "metadata": {},
     "output_type": "display_data"
    }
   ],
   "source": [
    "%%R -w 600 -h 600\n",
    "\n",
    "col.ns.f$day = factor(col.ns.f$day, levels=c(14, 28, 45))\n",
    "\n",
    "ggplot(col.ns.f, aes(fraction, rep, color=isotope)) +\n",
    "    geom_point() +\n",
    "    facet_grid(day ~ treatment)"
   ]
  },
  {
   "cell_type": "code",
   "execution_count": 23,
   "metadata": {
    "collapsed": false
   },
   "outputs": [
    {
     "data": {
      "image/png": "[encoded data removed]"
     },
     "metadata": {},
     "output_type": "display_data"
    }
   ],
   "source": [
    "%%R -w 500 -h 300\n",
    "\n",
    "col.ns.cc = filter(col.ns, !grepl('X1[23]C', isotope))\n",
    "\n",
    "ggplot(col.ns.cc, aes(day, rep)) +\n",
    "    geom_point()"
   ]
  }
 ],
 "metadata": {
  "kernelspec": {
   "display_name": "Python 2",
   "language": "python",
   "name": "python2"
  },
  "language_info": {
   "codemirror_mode": {
    "name": "ipython",
    "version": 2
   },
   "file_extension": ".py",
   "mimetype": "text/x-python",
   "name": "python",
   "nbconvert_exporter": "python",
   "pygments_lexer": "ipython2",
   "version": "2.7.9"
  }
 },
 "nbformat": 4,
 "nbformat_minor": 0
}
