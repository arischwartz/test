{
 "metadata": {
  "name": "",
  "signature": "sha256:fa093bb5d59e14ac37a9eaa0ed5593e61d0ce0b091ebdb062b23bfbd8e1b998d"
 },
 "nbformat": 3,
 "nbformat_minor": 0,
 "worksheets": [
  {
   "cells": [
    {
     "cell_type": "markdown",
     "metadata": {},
     "source": [
      "# Description:\n",
      "\n",
      "* Getting the needed dataset"
     ]
    },
    {
     "cell_type": "code",
     "collapsed": false,
     "input": [
      "workDir = '/home/nick/notebook/SIPSim/dev/Ecoli/'\n",
      "SIPSimExe = '/home/nick/notebook/SIPSim/SIPSim'"
     ],
     "language": "python",
     "metadata": {},
     "outputs": [],
     "prompt_number": 1
    },
    {
     "cell_type": "code",
     "collapsed": false,
     "input": [
      "import os,sys\n",
      "import numpy as np\n",
      "import pandas as pd\n",
      "from ggplot import *\n",
      "import matplotlib.pyplot as plt"
     ],
     "language": "python",
     "metadata": {},
     "outputs": [],
     "prompt_number": 2
    },
    {
     "cell_type": "code",
     "collapsed": false,
     "input": [
      "%load_ext rpy2.ipython\n",
      "%matplotlib inline"
     ],
     "language": "python",
     "metadata": {},
     "outputs": [],
     "prompt_number": 3
    },
    {
     "cell_type": "code",
     "collapsed": false,
     "input": [
      "if not os.path.isdir(workDir):\n",
      "    os.mkdir(workDir)"
     ],
     "language": "python",
     "metadata": {},
     "outputs": [],
     "prompt_number": 4
    },
    {
     "cell_type": "code",
     "collapsed": false,
     "input": [
      "!cd $workDir; \\\n",
      "    cp ../bac_genome10/genomes/Escherichia_coli_APEC_O78.fna ./genomes/"
     ],
     "language": "python",
     "metadata": {},
     "outputs": [],
     "prompt_number": 8
    },
    {
     "cell_type": "markdown",
     "metadata": {},
     "source": [
      "# Genome info"
     ]
    },
    {
     "cell_type": "code",
     "collapsed": false,
     "input": [
      "!cd $workDir; \\\n",
      "    NY_misc fasta_info --tl --tgc --header genomes/Escherichia_coli_APEC_O78.fna"
     ],
     "language": "python",
     "metadata": {},
     "outputs": [
      {
       "output_type": "stream",
       "stream": "stdout",
       "text": [
        "total_seq_length\ttotal_GC\r\n",
        "4798435\t50.68\r\n"
       ]
      }
     ],
     "prompt_number": 17
    },
    {
     "cell_type": "markdown",
     "metadata": {},
     "source": [
      "# Indexing genome"
     ]
    },
    {
     "cell_type": "code",
     "collapsed": false,
     "input": [
      "# list of all genomes files and their associated names\n",
      "!cd $workDir; \\\n",
      "    find ./genomes/ -name \"*fna\" -o -name \"*fasta\" | \\\n",
      "    perl -pe 's/.+\\///' | \\\n",
      "    perl -pe 's/(.+)(\\.[^.]+)/\\$1\\t\\$1\\$2/' > ./genomes/genome_index.txt"
     ],
     "language": "python",
     "metadata": {},
     "outputs": [],
     "prompt_number": 18
    },
    {
     "cell_type": "code",
     "collapsed": false,
     "input": [
      "!cd $workDir; \\\n",
      "    $SIPSimExe indexGenomes ./genomes/genome_index.txt --fp ./genomes/"
     ],
     "language": "python",
     "metadata": {},
     "outputs": [
      {
       "output_type": "stream",
       "stream": "stdout",
       "text": [
        "Indexing: \"Escherichia_coli_APEC_O78\"\r\n"
       ]
      },
      {
       "output_type": "stream",
       "stream": "stdout",
       "text": [
        "0\r\n"
       ]
      },
      {
       "output_type": "stream",
       "stream": "stdout",
       "text": [
        "0: 2.08%, 0:00:01.162683\r\n"
       ]
      },
      {
       "output_type": "stream",
       "stream": "stdout",
       "text": [
        "0: 4.17%, 0:00:01.962949\r\n"
       ]
      },
      {
       "output_type": "stream",
       "stream": "stdout",
       "text": [
        "0: 6.25%, 0:00:02.967027\r\n"
       ]
      },
      {
       "output_type": "stream",
       "stream": "stdout",
       "text": [
        "0: 8.34%, 0:00:03.804804\r\n"
       ]
      },
      {
       "output_type": "stream",
       "stream": "stdout",
       "text": [
        "0: 10.42%, 0:00:04.651214\r\n"
       ]
      },
      {
       "output_type": "stream",
       "stream": "stdout",
       "text": [
        "0: 12.50%, 0:00:05.521980\r\n"
       ]
      },
      {
       "output_type": "stream",
       "stream": "stdout",
       "text": [
        "0: 14.59%, 0:00:06.377826\r\n"
       ]
      },
      {
       "output_type": "stream",
       "stream": "stdout",
       "text": [
        "0: 16.67%, 0:00:07.236149\r\n"
       ]
      },
      {
       "output_type": "stream",
       "stream": "stdout",
       "text": [
        "0: 18.76%, 0:00:08.097119\r\n"
       ]
      },
      {
       "output_type": "stream",
       "stream": "stdout",
       "text": [
        "0: 20.84%, 0:00:08.960474\r\n"
       ]
      },
      {
       "output_type": "stream",
       "stream": "stdout",
       "text": [
        "0: 22.92%, 0:00:09.826337\r\n"
       ]
      },
      {
       "output_type": "stream",
       "stream": "stdout",
       "text": [
        "0: 25.01%, 0:00:10.695392\r\n"
       ]
      },
      {
       "output_type": "stream",
       "stream": "stdout",
       "text": [
        "0: 27.09%, 0:00:11.566717\r\n"
       ]
      },
      {
       "output_type": "stream",
       "stream": "stdout",
       "text": [
        "0: 29.18%, 0:00:12.437703\r\n"
       ]
      },
      {
       "output_type": "stream",
       "stream": "stdout",
       "text": [
        "0: 31.26%, 0:00:13.307057\r\n"
       ]
      },
      {
       "output_type": "stream",
       "stream": "stdout",
       "text": [
        "0: 33.34%, 0:00:14.177734\r\n"
       ]
      },
      {
       "output_type": "stream",
       "stream": "stdout",
       "text": [
        "0: 35.43%, 0:00:15.051524\r\n"
       ]
      },
      {
       "output_type": "stream",
       "stream": "stdout",
       "text": [
        "0: 37.51%, 0:00:15.926728\r\n"
       ]
      },
      {
       "output_type": "stream",
       "stream": "stdout",
       "text": [
        "0: 39.60%, 0:00:16.803168\r\n"
       ]
      },
      {
       "output_type": "stream",
       "stream": "stdout",
       "text": [
        "0: 41.68%, 0:00:18.012569\r\n"
       ]
      },
      {
       "output_type": "stream",
       "stream": "stdout",
       "text": [
        "0: 43.76%, 0:00:18.927148\r\n"
       ]
      },
      {
       "output_type": "stream",
       "stream": "stdout",
       "text": [
        "0: 45.85%, 0:00:19.806638\r\n"
       ]
      },
      {
       "output_type": "stream",
       "stream": "stdout",
       "text": [
        "0: 47.93%, 0:00:20.686016\r\n"
       ]
      },
      {
       "output_type": "stream",
       "stream": "stdout",
       "text": [
        "0: 50.02%, 0:00:21.565219\r\n"
       ]
      },
      {
       "output_type": "stream",
       "stream": "stdout",
       "text": [
        "0: 52.10%, 0:00:22.444821\r\n"
       ]
      },
      {
       "output_type": "stream",
       "stream": "stdout",
       "text": [
        "0: 54.18%, 0:00:23.328704\r\n"
       ]
      },
      {
       "output_type": "stream",
       "stream": "stdout",
       "text": [
        "0: 56.27%, 0:00:24.213726\r\n"
       ]
      },
      {
       "output_type": "stream",
       "stream": "stdout",
       "text": [
        "0: 58.35%, 0:00:25.097212\r\n"
       ]
      },
      {
       "output_type": "stream",
       "stream": "stdout",
       "text": [
        "0: 60.44%, 0:00:26.080528\r\n"
       ]
      },
      {
       "output_type": "stream",
       "stream": "stdout",
       "text": [
        "0: 62.52%, 0:00:26.968224\r\n"
       ]
      },
      {
       "output_type": "stream",
       "stream": "stdout",
       "text": [
        "0: 64.60%, 0:00:27.858191\r\n"
       ]
      },
      {
       "output_type": "stream",
       "stream": "stdout",
       "text": [
        "0: 66.69%, 0:00:28.749758\r\n"
       ]
      },
      {
       "output_type": "stream",
       "stream": "stdout",
       "text": [
        "0: 68.77%, 0:00:29.639975\r\n"
       ]
      },
      {
       "output_type": "stream",
       "stream": "stdout",
       "text": [
        "0: 70.86%, 0:00:30.534470\r\n"
       ]
      },
      {
       "output_type": "stream",
       "stream": "stdout",
       "text": [
        "0: 72.94%, 0:00:31.427015\r\n"
       ]
      },
      {
       "output_type": "stream",
       "stream": "stdout",
       "text": [
        "0: 75.02%, 0:00:32.584769\r\n"
       ]
      },
      {
       "output_type": "stream",
       "stream": "stdout",
       "text": [
        "0: 77.11%, 0:00:33.633438\r\n"
       ]
      },
      {
       "output_type": "stream",
       "stream": "stdout",
       "text": [
        "0: 79.19%, 0:00:34.525244\r\n"
       ]
      },
      {
       "output_type": "stream",
       "stream": "stdout",
       "text": [
        "0: 81.28%, 0:00:35.419857\r\n"
       ]
      },
      {
       "output_type": "stream",
       "stream": "stdout",
       "text": [
        "0: 83.36%, 0:00:36.315902\r\n"
       ]
      },
      {
       "output_type": "stream",
       "stream": "stdout",
       "text": [
        "0: 85.44%, 0:00:37.212971\r\n"
       ]
      },
      {
       "output_type": "stream",
       "stream": "stdout",
       "text": [
        "0: 87.53%, 0:00:38.109444\r\n"
       ]
      },
      {
       "output_type": "stream",
       "stream": "stdout",
       "text": [
        "0: 89.61%, 0:00:39.007340\r\n"
       ]
      },
      {
       "output_type": "stream",
       "stream": "stdout",
       "text": [
        "0: 91.70%, 0:00:39.907965\r\n"
       ]
      },
      {
       "output_type": "stream",
       "stream": "stdout",
       "text": [
        "0: 93.78%, 0:00:40.809269\r\n"
       ]
      },
      {
       "output_type": "stream",
       "stream": "stdout",
       "text": [
        "0: 95.86%, 0:00:41.710398\r\n"
       ]
      },
      {
       "output_type": "stream",
       "stream": "stdout",
       "text": [
        "0: 97.95%, 0:00:42.613686\r\n"
       ]
      },
      {
       "output_type": "stream",
       "stream": "stdout",
       "text": [
        "Time used: 0:00:46.020041\r\n",
        "Done.\r\n"
       ]
      },
      {
       "output_type": "stream",
       "stream": "stdout",
       "text": [
        "#-- All genomes indexed --#\r\n"
       ]
      }
     ],
     "prompt_number": 19
    },
    {
     "cell_type": "code",
     "collapsed": false,
     "input": [],
     "language": "python",
     "metadata": {},
     "outputs": []
    }
   ],
   "metadata": {}
  }
 ]
}