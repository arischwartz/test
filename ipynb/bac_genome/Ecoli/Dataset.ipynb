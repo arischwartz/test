{
 "cells": [
  {
   "cell_type": "markdown",
   "metadata": {},
   "source": [
    "# Description:\n",
    "\n",
    "* Getting the needed dataset"
   ]
  },
  {
   "cell_type": "markdown",
   "metadata": {},
   "source": [
    "# Setting variables"
   ]
  },
  {
   "cell_type": "code",
   "execution_count": 1,
   "metadata": {
    "collapsed": false
   },
   "outputs": [],
   "source": [
    "workDir = '/home/nick/notebook/SIPSim/dev/Ecoli/'\n",
    "SIPSimExe = '/home/nick/notebook/SIPSim/SIPSim'"
   ]
  },
  {
   "cell_type": "markdown",
   "metadata": {},
   "source": [
    "# Init"
   ]
  },
  {
   "cell_type": "code",
   "execution_count": 2,
   "metadata": {
    "collapsed": false
   },
   "outputs": [],
   "source": [
    "import os,sys\n",
    "import numpy as np\n",
    "import pandas as pd\n",
    "from ggplot import *\n",
    "import matplotlib.pyplot as plt"
   ]
  },
  {
   "cell_type": "code",
   "execution_count": 3,
   "metadata": {
    "collapsed": false
   },
   "outputs": [],
   "source": [
    "%load_ext rpy2.ipython\n",
    "%matplotlib inline"
   ]
  },
  {
   "cell_type": "code",
   "execution_count": 4,
   "metadata": {
    "collapsed": false
   },
   "outputs": [],
   "source": [
    "if not os.path.isdir(workDir):\n",
    "    os.mkdir(workDir)"
   ]
  },
  {
   "cell_type": "code",
   "execution_count": 9,
   "metadata": {
    "collapsed": false
   },
   "outputs": [],
   "source": [
    "genomeDir = os.path.join(workDir, 'genomes')\n",
    "if not os.path.isdir(genomeDir):\n",
    "    os.mkdir(genomeDir)"
   ]
  },
  {
   "cell_type": "markdown",
   "metadata": {},
   "source": [
    "# Downloading genome"
   ]
  },
  {
   "cell_type": "code",
   "execution_count": 10,
   "metadata": {
    "collapsed": false
   },
   "outputs": [
    {
     "name": "stdout",
     "output_type": "stream",
     "text": [
      "Starting batch: 1\n",
      "Starting trial: 1\n",
      "\n",
      "--------------------- WARNING ---------------------\n",
      "MSG: No whitespace allowed in FASTA ID [AE005174|Escherichia coli O157:H7 EDL933, complete genome.]\n",
      "---------------------------------------------------\n",
      "\n",
      "--------------------- WARNING ---------------------\n",
      "MSG: No whitespace allowed in FASTA ID [AE005174|Escherichia coli O157:H7 EDL933, complete genome.]\n",
      "---------------------------------------------------\n"
     ]
    }
   ],
   "source": [
    "!cd $genomeDir; \\\n",
    "    seqDB_tools accession-GI2fasta < ../accession.txt > Ecoli_O157H7.fna"
   ]
  },
  {
   "cell_type": "markdown",
   "metadata": {},
   "source": [
    "# Genome info"
   ]
  },
  {
   "cell_type": "code",
   "execution_count": 12,
   "metadata": {
    "collapsed": false
   },
   "outputs": [
    {
     "name": "stdout",
     "output_type": "stream",
     "text": [
      "total_seq_length\ttotal_GC\r\n",
      "5528445\t50.38\r\n"
     ]
    }
   ],
   "source": [
    "!cd $genomeDir; \\\n",
    "    seq_tools fasta_info --tl --tgc --header Ecoli_O157H7.fna"
   ]
  },
  {
   "cell_type": "markdown",
   "metadata": {},
   "source": [
    "# Indexing genome"
   ]
  },
  {
   "cell_type": "code",
   "execution_count": 13,
   "metadata": {
    "collapsed": false
   },
   "outputs": [],
   "source": [
    "# list of all genomes files and their associated names\n",
    "!cd $genomeDir; \\\n",
    "    find . -name \"*fna\" | \\\n",
    "    perl -pe 's/.+\\///' | \\\n",
    "    perl -pe 's/(.+)(\\.[^.]+)/\\$1\\t\\$1\\$2/' > genome_index.txt"
   ]
  },
  {
   "cell_type": "code",
   "execution_count": 14,
   "metadata": {
    "collapsed": false
   },
   "outputs": [
    {
     "name": "stdout",
     "output_type": "stream",
     "text": [
      "Indexing: \"Ecoli_O157H7\"\n",
      "0\n",
      "0: 1.81%, 0:00:00.885690\n",
      "0: 3.62%, 0:00:01.596740\n",
      "0: 5.43%, 0:00:02.329085\n",
      "0: 7.24%, 0:00:03.076365\n",
      "0: 9.04%, 0:00:03.836068\n",
      "0: 10.85%, 0:00:04.601638\n",
      "0: 12.66%, 0:00:05.373581\n",
      "0: 14.47%, 0:00:06.146811\n",
      "0: 16.28%, 0:00:06.922546\n",
      "0: 18.09%, 0:00:07.701694\n",
      "0: 19.90%, 0:00:08.481591\n",
      "0: 21.71%, 0:00:09.262435\n",
      "0: 23.51%, 0:00:10.041371\n",
      "0: 25.32%, 0:00:10.826290\n",
      "0: 27.13%, 0:00:11.612463\n",
      "0: 28.94%, 0:00:12.398390\n",
      "0: 30.75%, 0:00:13.183941\n",
      "0: 32.56%, 0:00:13.945560\n",
      "0: 34.37%, 0:00:14.730293\n",
      "0: 36.18%, 0:00:15.517682\n",
      "0: 37.99%, 0:00:16.308253\n",
      "0: 39.79%, 0:00:17.096117\n",
      "0: 41.60%, 0:00:17.888693\n",
      "0: 43.41%, 0:00:18.681459\n",
      "0: 45.22%, 0:00:19.476137\n",
      "0: 47.03%, 0:00:20.270224\n",
      "0: 48.84%, 0:00:21.065014\n",
      "0: 50.65%, 0:00:21.858216\n",
      "0: 52.46%, 0:00:22.654421\n",
      "0: 54.26%, 0:00:23.445138\n",
      "0: 56.07%, 0:00:24.242237\n",
      "0: 57.88%, 0:00:25.041500\n",
      "0: 59.69%, 0:00:25.841211\n",
      "0: 61.50%, 0:00:26.642007\n",
      "0: 63.31%, 0:00:27.443267\n",
      "0: 65.12%, 0:00:28.243499\n",
      "0: 66.93%, 0:00:29.047837\n",
      "0: 68.74%, 0:00:29.852749\n",
      "0: 70.54%, 0:00:30.658524\n",
      "0: 72.35%, 0:00:31.465123\n",
      "0: 74.16%, 0:00:32.273945\n",
      "0: 75.97%, 0:00:33.081771\n",
      "0: 77.78%, 0:00:33.890411\n",
      "0: 79.59%, 0:00:34.702737\n",
      "0: 81.40%, 0:00:35.515972\n",
      "0: 83.21%, 0:00:36.327419\n",
      "0: 85.02%, 0:00:37.138094\n",
      "0: 86.82%, 0:00:37.951932\n",
      "0: 88.63%, 0:00:38.765231\n",
      "0: 90.44%, 0:00:39.581108\n",
      "0: 92.25%, 0:00:40.395221\n",
      "0: 94.06%, 0:00:41.212436\n",
      "0: 95.87%, 0:00:42.029935\n",
      "0: 97.68%, 0:00:42.847313\n",
      "0: 99.49%, 0:00:43.665670\n",
      "Time used: 0:00:46.529657\n",
      "Done.\n",
      "#-- All genomes indexed --#\n"
     ]
    }
   ],
   "source": [
    "!cd $genomeDir; \\\n",
    "    $SIPSimExe indexGenomes genome_index.txt --fp ."
   ]
  },
  {
   "cell_type": "code",
   "execution_count": null,
   "metadata": {
    "collapsed": false
   },
   "outputs": [],
   "source": []
  }
 ],
 "metadata": {
  "kernelspec": {
   "display_name": "Python 2",
   "language": "python",
   "name": "python2"
  },
  "language_info": {
   "codemirror_mode": {
    "name": "ipython",
    "version": 2
   },
   "file_extension": ".py",
   "mimetype": "text/x-python",
   "name": "python",
   "nbconvert_exporter": "python",
   "pygments_lexer": "ipython2",
   "version": "2.7.9"
  }
 },
 "nbformat": 4,
 "nbformat_minor": 0
}
