{
 "metadata": {
  "name": "",
  "signature": "sha256:c849cd9d762aa64e16824330a5bbc69eef7ddf332ca1674011cd9550a6805871"
 },
 "nbformat": 3,
 "nbformat_minor": 0,
 "worksheets": [
  {
   "cells": [
    {
     "cell_type": "markdown",
     "metadata": {},
     "source": [
      "## Simulations just using 1 genome: E. coli"
     ]
    },
    {
     "cell_type": "code",
     "collapsed": false,
     "input": [],
     "language": "python",
     "metadata": {},
     "outputs": []
    }
   ],
   "metadata": {}
  }
 ]
}