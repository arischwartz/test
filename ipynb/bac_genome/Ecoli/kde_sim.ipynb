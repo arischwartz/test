{
 "cells": [
  {
   "cell_type": "markdown",
   "metadata": {},
   "source": [
    "# Goal\n",
    "\n",
    "Validation of fragment KDE estimation.\n",
    "\n",
    "* Settings to test:\n",
    "  * Trying differing bandwidths"
   ]
  },
  {
   "cell_type": "markdown",
   "metadata": {},
   "source": [
    "# Setting variables"
   ]
  },
  {
   "cell_type": "code",
   "execution_count": 5,
   "metadata": {
    "collapsed": true
   },
   "outputs": [],
   "source": [
    "workDir = '/home/nick/notebook/SIPSim/dev/Ecoli/'\n",
    "genomeDir = '/home/nick/notebook/SIPSim/dev/Ecoli/genomes/'"
   ]
  },
  {
   "cell_type": "markdown",
   "metadata": {},
   "source": [
    "# Init"
   ]
  },
  {
   "cell_type": "code",
   "execution_count": 6,
   "metadata": {
    "collapsed": true
   },
   "outputs": [],
   "source": [
    "import glob\n",
    "import nestly"
   ]
  },
  {
   "cell_type": "code",
   "execution_count": 7,
   "metadata": {
    "collapsed": false
   },
   "outputs": [
    {
     "name": "stdout",
     "output_type": "stream",
     "text": [
      "The rpy2.ipython extension is already loaded. To reload it, use:\n",
      "  %reload_ext rpy2.ipython\n"
     ]
    }
   ],
   "source": [
    "%load_ext rpy2.ipython"
   ]
  },
  {
   "cell_type": "code",
   "execution_count": 8,
   "metadata": {
    "collapsed": false
   },
   "outputs": [],
   "source": [
    "%%R\n",
    "library(ggplot2)\n",
    "library(dplyr)\n",
    "library(tidyr)\n",
    "library(gridExtra)"
   ]
  },
  {
   "cell_type": "markdown",
   "metadata": {},
   "source": [
    "# Setting up nestly"
   ]
  },
  {
   "cell_type": "code",
   "execution_count": 9,
   "metadata": {
    "collapsed": false
   },
   "outputs": [],
   "source": [
    "# building tree structure\n",
    "nest = nestly.Nest()\n",
    "\n",
    "## varying params\n",
    "nest.add('bw', \n",
    "         ['scott',\n",
    "          'silverman',\n",
    "          0.1, 0.01, 0.001])\n",
    "\n",
    "## set params\n",
    "nest.add('np', [1], create_dir=False)\n",
    "\n",
    "## input/output files\n",
    "nest.add('fileName', ['ampFrags'], create_dir=False)\n",
    "nest.add('genome_index', [os.path.join(genomeDir, 'genome_index.txt')], create_dir=False)\n",
    "nest.add('genome_dir', [genomeDir], create_dir=False)\n",
    "nest.add('primers', [os.path.join(workDir, '../', '515F-806R.fna')], create_dir=False)\n",
    "\n",
    "# building directory tree\n",
    "buildDir = os.path.join(workDir, 'frag_kde')\n",
    "nest.build(buildDir)"
   ]
  },
  {
   "cell_type": "code",
   "execution_count": 10,
   "metadata": {
    "collapsed": true
   },
   "outputs": [],
   "source": [
    "bashFile = os.path.join(workDir, 'SIPSimRun.sh')"
   ]
  },
  {
   "cell_type": "code",
   "execution_count": 11,
   "metadata": {
    "collapsed": false
   },
   "outputs": [
    {
     "name": "stdout",
     "output_type": "stream",
     "text": [
      "Overwriting /home/nick/notebook/SIPSim/dev/Ecoli/SIPSimRun.sh\n"
     ]
    }
   ],
   "source": [
    "%%writefile $bashFile\n",
    "#!/bin/bash\n",
    "\n",
    "# simulating fragments\n",
    "SIPSim fragments \\\n",
    "    {genome_index} \\\n",
    "    --fp {genome_dir} \\\n",
    "    --fr {primers} \\\n",
    "    --fld skewed-normal,9000,2500,-5 \\\n",
    "    --flr None,None \\\n",
    "    --nf 10000 \\\n",
    "    --np {np} \\\n",
    "    2> {fileName}.log \\\n",
    "    > {fileName}.pkl\n",
    "    \n",
    "# converting to kde object\n",
    "SIPSim fragment_kde \\\n",
    "    {fileName}.pkl \\\n",
    "    --bw {bw} \\\n",
    "    > {fileName}_kde.pkl    "
   ]
  },
  {
   "cell_type": "code",
   "execution_count": 12,
   "metadata": {
    "collapsed": true
   },
   "outputs": [],
   "source": [
    "!chmod 775 $bashFile"
   ]
  },
  {
   "cell_type": "code",
   "execution_count": 13,
   "metadata": {
    "collapsed": false
   },
   "outputs": [
    {
     "name": "stdout",
     "output_type": "stream",
     "text": [
      "2015-06-30 15:08:00,114 * INFO * Template: ./SIPSimRun.sh\n",
      "2015-06-30 15:08:00,116 * INFO * [161416] Started ./SIPSimRun.sh in frag_kde/0.1\n",
      "2015-06-30 15:08:00,118 * INFO * [161417] Started ./SIPSimRun.sh in frag_kde/0.01\n",
      "2015-06-30 15:08:00,121 * INFO * [161420] Started ./SIPSimRun.sh in frag_kde/scott\n",
      "2015-06-30 15:08:00,123 * INFO * [161422] Started ./SIPSimRun.sh in frag_kde/0.001\n",
      "2015-06-30 15:08:00,125 * INFO * [161424] Started ./SIPSimRun.sh in frag_kde/silverman\n",
      "2015-06-30 15:08:03,519 * INFO * [161417] frag_kde/0.01 Finished with 0\n",
      "2015-06-30 15:08:03,524 * INFO * [161422] frag_kde/0.001 Finished with 0\n",
      "2015-06-30 15:08:03,597 * INFO * [161424] frag_kde/silverman Finished with 0\n",
      "2015-06-30 15:08:03,597 * INFO * [161416] frag_kde/0.1 Finished with 0\n",
      "2015-06-30 15:08:03,603 * INFO * [161420] frag_kde/scott Finished with 0\n"
     ]
    }
   ],
   "source": [
    "!cd $workDir; \\\n",
    "    nestrun -j 6 --template-file $bashFile -d frag_kde"
   ]
  },
  {
   "cell_type": "markdown",
   "metadata": {
    "collapsed": false
   },
   "source": [
    "# TODO: \n",
    "    * make KDE plotting script\n",
    "    * plot each kde\n",
    "    * display kdes as ipython Images"
   ]
  },
  {
   "cell_type": "markdown",
   "metadata": {},
   "source": [
    "# Plotting"
   ]
  },
  {
   "cell_type": "code",
   "execution_count": null,
   "metadata": {
    "collapsed": true
   },
   "outputs": [],
   "source": []
  }
 ],
 "metadata": {
  "kernelspec": {
   "display_name": "Python 2",
   "language": "python",
   "name": "python2"
  },
  "language_info": {
   "codemirror_mode": {
    "name": "ipython",
    "version": 2
   },
   "file_extension": ".py",
   "mimetype": "text/x-python",
   "name": "python",
   "nbconvert_exporter": "python",
   "pygments_lexer": "ipython2",
   "version": "2.7.9"
  }
 },
 "nbformat": 4,
 "nbformat_minor": 0
}
