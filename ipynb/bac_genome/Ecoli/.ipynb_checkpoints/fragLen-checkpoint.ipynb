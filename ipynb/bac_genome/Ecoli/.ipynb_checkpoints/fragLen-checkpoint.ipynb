{
 "metadata": {
  "name": "",
  "signature": "sha256:2d89337b7ad873aacd052049f4dc3938cda5198da63f65d611251b8617a3e1ef"
 },
 "nbformat": 3,
 "nbformat_minor": 0,
 "worksheets": [
  {
   "cells": [
    {
     "cell_type": "markdown",
     "metadata": {},
     "source": [
      "# Description:\n",
      "\n",
      "* testing how fragment length affects the BD distribution of simulated amplicon fragments\n",
      "  * fragment distributions:\n",
      "    * uniform, large range\n",
      "    * uniform, all small fragments\n",
      "    * uniform, all large fragments\n",
      "    * skewed normal, 4 kb size cutoff\n",
      "    * skewed normal, 0.5 kb size cutoff"
     ]
    },
    {
     "cell_type": "markdown",
     "metadata": {},
     "source": [
      "# Init"
     ]
    },
    {
     "cell_type": "code",
     "collapsed": false,
     "input": [
      "workDir = '/home/nick/notebook/SIPSim/dev/Ecoli/fragLen/'\n",
      "SIPSimExe = '/home/nick/notebook/SIPSim/SIPSim'"
     ],
     "language": "python",
     "metadata": {},
     "outputs": [],
     "prompt_number": 2
    },
    {
     "cell_type": "code",
     "collapsed": false,
     "input": [
      "import os,sys\n",
      "import numpy as np\n",
      "import pandas as pd\n",
      "from ggplot import *\n",
      "import matplotlib.pyplot as plt"
     ],
     "language": "python",
     "metadata": {},
     "outputs": [],
     "prompt_number": 3
    },
    {
     "cell_type": "code",
     "collapsed": false,
     "input": [
      "%load_ext rpy2.ipython\n",
      "%matplotlib inline"
     ],
     "language": "python",
     "metadata": {},
     "outputs": [],
     "prompt_number": 4
    },
    {
     "cell_type": "code",
     "collapsed": false,
     "input": [
      "%%R\n",
      "library(ggplot2)\n",
      "library(dplyr)\n",
      "library(tidyr)"
     ],
     "language": "python",
     "metadata": {},
     "outputs": [
      {
       "metadata": {},
       "output_type": "display_data",
       "text": [
        "\n",
        "Attaching package: \u2018dplyr\u2019\n",
        "\n",
        "The following object is masked from \u2018package:stats\u2019:\n",
        "\n",
        "    filter\n",
        "\n",
        "The following objects are masked from \u2018package:base\u2019:\n",
        "\n",
        "    intersect, setdiff, setequal, union\n",
        "\n"
       ]
      }
     ],
     "prompt_number": 26
    },
    {
     "cell_type": "code",
     "collapsed": false,
     "input": [
      "if not os.path.isdir(workDir):\n",
      "    os.mkdir(workDir)"
     ],
     "language": "python",
     "metadata": {},
     "outputs": [],
     "prompt_number": 5
    },
    {
     "cell_type": "markdown",
     "metadata": {},
     "source": [
      "# Simulating gradient communities"
     ]
    },
    {
     "cell_type": "code",
     "collapsed": false,
     "input": [
      "%%bash -s \"$workDir\"\n",
      "\n",
      "cd $1 \n",
      "\n",
      "echo \"-sp 100\n",
      "-nl 1\n",
      "-am exponential\" > grinder_profile"
     ],
     "language": "python",
     "metadata": {},
     "outputs": [],
     "prompt_number": 11
    },
    {
     "cell_type": "code",
     "collapsed": false,
     "input": [
      "!cd $workDir; \\\n",
      "    $SIPSimExe gradientComms ../genomes/genome_index.txt \\\n",
      "    --fp ../genomes/  --pf grinder_profile \\\n",
      "    > comm-n1-exp.txt"
     ],
     "language": "python",
     "metadata": {},
     "outputs": [
      {
       "output_type": "stream",
       "stream": "stdout",
       "text": [
        "Overall diversity = 1 genomes\r\n"
       ]
      }
     ],
     "prompt_number": 16
    },
    {
     "cell_type": "markdown",
     "metadata": {},
     "source": [
      "# Simulating isotope incorporation"
     ]
    },
    {
     "cell_type": "code",
     "collapsed": false,
     "input": [
      "# making config file\n",
      "config = \"\"\"\n",
      "[library 1]\n",
      "  # baseline: no incorp\n",
      "  \n",
      "  [[intraPopDist 1]]\n",
      "  distribution = uniform\n",
      "  weight = 1\n",
      "\n",
      "    [[[start]]]\n",
      "\n",
      "      [[[[interPopDist 1]]]]\n",
      "        distribution = uniform\n",
      "        start = 0\n",
      "        end = 0\n",
      "\n",
      "    [[[end]]]\n",
      "\n",
      "      [[[[interPopDist 1]]]]\n",
      "        distribution = uniform\n",
      "        start = 0\n",
      "        end = 0\n",
      "\"\"\"\n",
      "\n",
      "outfile = os.path.join(workDir, 'incorp.config')\n",
      "\n",
      "outf = open(outfile, 'wb')\n",
      "outf.write(config)\n",
      "outf.close()"
     ],
     "language": "python",
     "metadata": {},
     "outputs": [],
     "prompt_number": 17
    },
    {
     "cell_type": "code",
     "collapsed": false,
     "input": [
      "!cd $workDir; \\\n",
      "     $SIPSimExe isoIncorp comm-n1-exp.txt incorp.config > incorp-n1-exp.txt"
     ],
     "language": "python",
     "metadata": {},
     "outputs": [],
     "prompt_number": 18
    },
    {
     "cell_type": "markdown",
     "metadata": {},
     "source": [
      "# Simulating gradient fractions"
     ]
    },
    {
     "cell_type": "code",
     "collapsed": false,
     "input": [
      "!cd $workDir; \\\n",
      "    $SIPSimExe fractions comm-n1-exp.txt > fracs-n1-exp.txt"
     ],
     "language": "python",
     "metadata": {},
     "outputs": [],
     "prompt_number": 19
    },
    {
     "cell_type": "markdown",
     "metadata": {},
     "source": [
      "# Simulating fragments and calculating G+C"
     ]
    },
    {
     "cell_type": "markdown",
     "metadata": {},
     "source": [
      "## Uniform fragment length distribution: large range"
     ]
    },
    {
     "cell_type": "code",
     "collapsed": false,
     "input": [
      "!cd $workDir;\\\n",
      "    $SIPSimExe fragGC ../genomes/genome_index.txt \\\n",
      "    --fp ../genomes/ --fr ../../515Fm-927Rm.fna \\\n",
      "    --fld uniform,500,15000 \\\n",
      "    --flr 500,None \\\n",
      "    --nf 50x \\\n",
      "    > ampFragGC_unif5-150.txt"
     ],
     "language": "python",
     "metadata": {},
     "outputs": [
      {
       "output_type": "stream",
       "stream": "stdout",
       "text": [
        "Processing: \"Escherichia_coli_APEC_O78\"\r\n"
       ]
      },
      {
       "output_type": "stream",
       "stream": "stdout",
       "text": [
        "  Genome name: Escherichia_coli_APEC_O78\r\n",
        "  Genome length (bp): 4798435\r\n",
        "  Number of amplicons: 6\r\n",
        "  Number of fragments simulated: 31061\r\n"
       ]
      }
     ],
     "prompt_number": 20
    },
    {
     "cell_type": "markdown",
     "metadata": {},
     "source": [
      "## Creating OTU table"
     ]
    },
    {
     "cell_type": "code",
     "collapsed": false,
     "input": [
      "!cd $workDir; \\\n",
      "    $SIPSimExe OTU_table \\\n",
      "    ampFragGC_unif5-150.txt \\\n",
      "    comm-n1-exp.txt \\\n",
      "    incorp-n1-exp.txt \\\n",
      "    fracs-n1-exp.txt \\\n",
      "    --abs_abund 1e8 \\\n",
      "    > OTU-n1-exp_unif5-150_A1e8.txt"
     ],
     "language": "python",
     "metadata": {},
     "outputs": [
      {
       "output_type": "stream",
       "stream": "stdout",
       "text": [
        "Processing library: \"1\"\r\n"
       ]
      },
      {
       "output_type": "stream",
       "stream": "stdout",
       "text": [
        "  Processing taxon: \"Escherichia_coli_APEC_O78\"\r\n",
        "    N-fragments:   100000000\r\n"
       ]
      }
     ]
    },
    {
     "cell_type": "markdown",
     "metadata": {},
     "source": [
      "## Plotting OTU table"
     ]
    },
    {
     "cell_type": "code",
     "collapsed": false,
     "input": [
      "%%R -i workDir\n",
      "\n",
      "# loading file\n",
      "infile = paste(c(workDir, 'OTU-n1-exp_unif5-150_A1e8.txt'), collapse='/')\n",
      "tbl = read.csv(infile, sep='\\t')\n",
      "\n",
      "# formatting table\n",
      "tbl$BD_min = gsub('-.+', '', tbl$fractions)\n",
      "tbl$BD_min = as.numeric(tbl$BD_min)\n",
      "tbl$BD_max = gsub('.+-', '', tbl$fractions)\n",
      "tbl$BD_max = as.numeric(tbl$BD_max)"
     ],
     "language": "python",
     "metadata": {},
     "outputs": [],
     "prompt_number": 50
    },
    {
     "cell_type": "code",
     "collapsed": false,
     "input": [
      "%%R\n",
      "\n",
      "# summarizing counts (should be approx. total abundance)\n",
      "tbl %>%\n",
      "    group_by(library) %>%\n",
      "    summarize(sum(count))"
     ],
     "language": "python",
     "metadata": {},
     "outputs": [
      {
       "metadata": {},
       "output_type": "display_data",
       "text": [
        "Source: local data frame [1 x 2]\n",
        "\n",
        "  library sum(count)\n",
        "1       1   99999999\n"
       ]
      }
     ],
     "prompt_number": 51
    },
    {
     "cell_type": "code",
     "collapsed": false,
     "input": [
      "%%R -w 800 -h 350\n",
      "# plotting absolute abundances\n",
      "\n",
      "## BD for G+C of 0 or 100\n",
      "BD.GCp0 = 0 * 0.098 + 1.66\n",
      "BD.GCp100 = 1 * 0.098 + 1.66\n",
      "\n",
      "## plot\n",
      "p = ggplot(tbl, aes(BD_min, count, fill=taxon, group=taxon)) +\n",
      "    geom_area(stat='identity', alpha=0.5, position='dodge') +\n",
      "    geom_vline(xintercept=c(BD.GCp0, BD.GCp100), linetype='dashed', alpha=0.5) +\n",
      "    labs(x='Buoyant density') +\n",
      "    theme( \n",
      "        text = element_text(size=16) \n",
      "    )\n",
      "p"
     ],
     "language": "python",
     "metadata": {},
     "outputs": [
      {
       "metadata": {},
       "output_type": "display_data",
       "png": "[encoded data removed]"
      }
     ],
     "prompt_number": 52
    },
    {
     "cell_type": "code",
     "collapsed": false,
     "input": [
      "%%R -w 800 -h 350\n",
      "\n",
      "p + scale_y_log10()"
     ],
     "language": "python",
     "metadata": {},
     "outputs": [
      {
       "metadata": {},
       "output_type": "display_data",
       "png": "[encoded data removed]"
      }
     ],
     "prompt_number": 53
    },
    {
     "cell_type": "markdown",
     "metadata": {},
     "source": [
      "## Uniform fragment length distribution: small range, small fragments"
     ]
    },
    {
     "cell_type": "code",
     "collapsed": false,
     "input": [
      "!cd $workDir;\\\n",
      "    $SIPSimExe fragGC ../genomes/genome_index.txt \\\n",
      "    --fp ../genomes/ --fr ../../515Fm-927Rm.fna \\\n",
      "    --fld uniform,500,3000 \\\n",
      "    --flr 500,None \\\n",
      "    --nf 50x \\\n",
      "    > ampFragGC_unif5-30.txt"
     ],
     "language": "python",
     "metadata": {},
     "outputs": []
    },
    {
     "cell_type": "markdown",
     "metadata": {},
     "source": [
      "## Creating OTU table"
     ]
    },
    {
     "cell_type": "code",
     "collapsed": false,
     "input": [
      "!cd $workDir; \\\n",
      "    $SIPSimExe OTU_table \\\n",
      "    ampFragGC_unif5-30.txt \\\n",
      "    comm-n1-exp.txt \\\n",
      "    incorp-n1-exp.txt \\\n",
      "    fracs-n1-exp.txt \\\n",
      "    --abs_abund 1e8 \\\n",
      "    > OTU-n1-exp_unif5-30_A1e8.txt"
     ],
     "language": "python",
     "metadata": {},
     "outputs": []
    },
    {
     "cell_type": "markdown",
     "metadata": {},
     "source": [
      "## Plotting OTU table"
     ]
    },
    {
     "cell_type": "code",
     "collapsed": false,
     "input": [
      "%%R -i workDir\n",
      "\n",
      "# loading file\n",
      "infile = paste(c(workDir, 'OTU-n1-exp_unif5-30_A1e8.txt'), collapse='/')\n",
      "tbl = read.csv(infile, sep='\\t')\n",
      "\n",
      "# formatting table\n",
      "tbl$BD_min = gsub('-.+', '', tbl$fractions)\n",
      "tbl$BD_min = as.numeric(tbl$BD_min)\n",
      "tbl$BD_max = gsub('.+-', '', tbl$fractions)\n",
      "tbl$BD_max = as.numeric(tbl$BD_max)"
     ],
     "language": "python",
     "metadata": {},
     "outputs": [],
     "prompt_number": 54
    },
    {
     "cell_type": "code",
     "collapsed": false,
     "input": [
      "%%R -w 800 -h 350\n",
      "# plotting absolute abundances\n",
      "\n",
      "## BD for G+C of 0 or 100\n",
      "BD.GCp0 = 0 * 0.098 + 1.66\n",
      "BD.GCp100 = 1 * 0.098 + 1.66\n",
      "\n",
      "## plot\n",
      "p = ggplot(tbl, aes(BD_min, count, fill=taxon, group=taxon)) +\n",
      "    geom_area(stat='identity', alpha=0.5, position='dodge') +\n",
      "    geom_vline(xintercept=c(BD.GCp0, BD.GCp100), linetype='dashed', alpha=0.5) +\n",
      "    labs(x='Buoyant density') +\n",
      "    theme( \n",
      "        text = element_text(size=16) \n",
      "    )\n",
      "p"
     ],
     "language": "python",
     "metadata": {},
     "outputs": [
      {
       "metadata": {},
       "output_type": "display_data",
       "png": "[encoded data removed]"
      }
     ],
     "prompt_number": 55
    },
    {
     "cell_type": "code",
     "collapsed": false,
     "input": [
      "%%R -w 800 -h 350\n",
      "\n",
      "p + scale_y_log10()"
     ],
     "language": "python",
     "metadata": {},
     "outputs": [
      {
       "metadata": {},
       "output_type": "display_data",
       "png": "[encoded data removed]"
      }
     ],
     "prompt_number": 56
    },
    {
     "cell_type": "markdown",
     "metadata": {},
     "source": [
      "## Uniform fragment length distribution: small range, large fragments"
     ]
    },
    {
     "cell_type": "code",
     "collapsed": false,
     "input": [
      "!cd $workDir;\\\n",
      "    $SIPSimExe fragGC ../genomes/genome_index.txt \\\n",
      "    --fp ../genomes/ --fr ../../515Fm-927Rm.fna \\\n",
      "    --fld uniform,50000,60000 \\\n",
      "    --nf 50x \\\n",
      "    > ampFragGC_unif500-600.txt"
     ],
     "language": "python",
     "metadata": {},
     "outputs": []
    },
    {
     "cell_type": "markdown",
     "metadata": {},
     "source": [
      "## Creating OTU table"
     ]
    },
    {
     "cell_type": "code",
     "collapsed": false,
     "input": [
      "!cd $workDir; \\\n",
      "    $SIPSimExe OTU_table \\\n",
      "    ampFragGC_unif500-600.txt \\\n",
      "    comm-n1-exp.txt \\\n",
      "    incorp-n1-exp.txt \\\n",
      "    fracs-n1-exp.txt \\\n",
      "    --abs_abund 1e8 \\\n",
      "    > OTU-n1-exp_unif500-600_A1e8.txt"
     ],
     "language": "python",
     "metadata": {},
     "outputs": []
    },
    {
     "cell_type": "markdown",
     "metadata": {},
     "source": [
      "## Plotting OTU table"
     ]
    },
    {
     "cell_type": "code",
     "collapsed": false,
     "input": [
      "%%R -i workDir\n",
      "\n",
      "# loading file\n",
      "infile = paste(c(workDir, 'OTU-n1-exp_unif500-600_A1e8.txt'), collapse='/')\n",
      "tbl = read.csv(infile, sep='\\t')\n",
      "\n",
      "# formatting table\n",
      "tbl$BD_min = gsub('-.+', '', tbl$fractions)\n",
      "tbl$BD_min = as.numeric(tbl$BD_min)\n",
      "tbl$BD_max = gsub('.+-', '', tbl$fractions)\n",
      "tbl$BD_max = as.numeric(tbl$BD_max)"
     ],
     "language": "python",
     "metadata": {},
     "outputs": [],
     "prompt_number": 57
    },
    {
     "cell_type": "code",
     "collapsed": false,
     "input": [
      "%%R -w 800 -h 350\n",
      "# plotting absolute abundances\n",
      "\n",
      "## BD for G+C of 0 or 100\n",
      "BD.GCp0 = 0 * 0.098 + 1.66\n",
      "BD.GCp100 = 1 * 0.098 + 1.66\n",
      "\n",
      "## plot\n",
      "p = ggplot(tbl, aes(BD_min, count, fill=taxon, group=taxon)) +\n",
      "    geom_area(stat='identity', alpha=0.5, position='dodge') +\n",
      "    geom_vline(xintercept=c(BD.GCp0, BD.GCp100), linetype='dashed', alpha=0.5) +\n",
      "    labs(x='Buoyant density') +\n",
      "    theme( \n",
      "        text = element_text(size=16) \n",
      "    )\n",
      "p"
     ],
     "language": "python",
     "metadata": {},
     "outputs": [
      {
       "metadata": {},
       "output_type": "display_data",
       "png": "[encoded data removed]"
      }
     ],
     "prompt_number": 58
    },
    {
     "cell_type": "code",
     "collapsed": false,
     "input": [
      "%%R -w 800 -h 350\n",
      "\n",
      "p + scale_y_log10()"
     ],
     "language": "python",
     "metadata": {},
     "outputs": [
      {
       "metadata": {},
       "output_type": "display_data",
       "png": "[encoded data removed]"
      }
     ],
     "prompt_number": 59
    },
    {
     "cell_type": "markdown",
     "metadata": {},
     "source": [
      "## Skewed-normal fragment length distribution \n",
      "\n",
      "* default params (explicitly set for this run)"
     ]
    },
    {
     "cell_type": "code",
     "collapsed": false,
     "input": [
      "!cd $workDir;\\\n",
      "    $SIPSimExe fragGC \\\n",
      "    ../genomes/genome_index.txt \\\n",
      "    --fp ../genomes/ \\\n",
      "    --fr ../../515Fm-927Rm.fna \\\n",
      "    --fld skewed-normal,9000,2500,-5 \\\n",
      "    --nf 50x \\\n",
      "    > ampFragGC_skewN90-25-n5.txt"
     ],
     "language": "python",
     "metadata": {},
     "outputs": [
      {
       "output_type": "stream",
       "stream": "stdout",
       "text": [
        "Processing: \"Escherichia_coli_APEC_O78\"\r\n"
       ]
      },
      {
       "output_type": "stream",
       "stream": "stdout",
       "text": [
        "  Genome name: Escherichia_coli_APEC_O78\r\n",
        "  Genome length (bp): 4798435\r\n",
        "  Number of amplicons: 6\r\n",
        "  Number of fragments simulated: 33172\r\n"
       ]
      }
     ],
     "prompt_number": 61
    },
    {
     "cell_type": "markdown",
     "metadata": {},
     "source": [
      "## Creating OTU table"
     ]
    },
    {
     "cell_type": "code",
     "collapsed": false,
     "input": [
      "!cd $workDir; \\\n",
      "    $SIPSimExe OTU_table \\\n",
      "    ampFragGC_skewN90-25-n5.txt \\\n",
      "    comm-n1-exp.txt \\\n",
      "    incorp-n1-exp.txt \\\n",
      "    fracs-n1-exp.txt \\\n",
      "    --abs_abund 1e8 \\\n",
      "    > OTU-n1-exp_skewN90-25-n5_A1e8.txt"
     ],
     "language": "python",
     "metadata": {},
     "outputs": [
      {
       "output_type": "stream",
       "stream": "stdout",
       "text": [
        "Processing library: \"1\"\r\n",
        "  Processing taxon: \"Escherichia_coli_APEC_O78\"\r\n",
        "    N-fragments:   100000000\r\n"
       ]
      }
     ]
    },
    {
     "cell_type": "markdown",
     "metadata": {},
     "source": [
      "## Plotting OTU table"
     ]
    },
    {
     "cell_type": "code",
     "collapsed": false,
     "input": [
      "%%R -i workDir\n",
      "\n",
      "# loading file\n",
      "infile = paste(c(workDir, 'OTU-n1-exp_skewN90-25-n5_A1e8.txt'), collapse='/')\n",
      "tbl = read.csv(infile, sep='\\t')\n",
      "\n",
      "# formatting table\n",
      "tbl$BD_min = gsub('-.+', '', tbl$fractions)\n",
      "tbl$BD_min = as.numeric(tbl$BD_min)\n",
      "tbl$BD_max = gsub('.+-', '', tbl$fractions)\n",
      "tbl$BD_max = as.numeric(tbl$BD_max)"
     ],
     "language": "python",
     "metadata": {},
     "outputs": []
    },
    {
     "cell_type": "code",
     "collapsed": false,
     "input": [
      "%%R -w 800 -h 350\n",
      "# plotting absolute abundances\n",
      "\n",
      "## BD for G+C of 0 or 100\n",
      "BD.GCp0 = 0 * 0.098 + 1.66\n",
      "BD.GCp100 = 1 * 0.098 + 1.66\n",
      "\n",
      "## plot\n",
      "p = ggplot(tbl, aes(BD_min, count, fill=taxon, group=taxon)) +\n",
      "    geom_area(stat='identity', alpha=0.5, position='dodge') +\n",
      "    geom_vline(xintercept=c(BD.GCp0, BD.GCp100), linetype='dashed', alpha=0.5) +\n",
      "    labs(x='Buoyant density') +\n",
      "    theme( \n",
      "        text = element_text(size=16) \n",
      "    )\n",
      "p"
     ],
     "language": "python",
     "metadata": {},
     "outputs": []
    },
    {
     "cell_type": "code",
     "collapsed": false,
     "input": [
      "%%R -w 800 -h 350\n",
      "\n",
      "p + scale_y_log10()"
     ],
     "language": "python",
     "metadata": {},
     "outputs": []
    },
    {
     "cell_type": "code",
     "collapsed": false,
     "input": [],
     "language": "python",
     "metadata": {},
     "outputs": []
    }
   ],
   "metadata": {}
  }
 ]
}