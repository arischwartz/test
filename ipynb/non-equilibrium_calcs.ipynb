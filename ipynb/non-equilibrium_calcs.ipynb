{
 "cells": [
  {
   "cell_type": "markdown",
   "metadata": {},
   "source": [
    "# Description:\n",
    "\n",
    "* calculations for modeling fragments in a CsCl gradient under non-equilibrium conditions"
   ]
  },
  {
   "cell_type": "markdown",
   "metadata": {},
   "source": [
    "# Notes"
   ]
  },
  {
   "cell_type": "markdown",
   "metadata": {},
   "source": [
    "* Good chapter on determining G+C content from CsCl gradient analysis\n",
    "http://www.academia.edu/428160/Using_Analytical_Ultracentrifugation_of_DNA_in_CsCl_Gradients_to_Explore_Large-Scale_Properties_of_Genomes\n",
    "\n",
    "http://www.analyticalultracentrifugation.com/dynamic_density_gradients.htm\n",
    "\n",
    "Meselson et al. - 1957 - Equilibrium Sedimentation of Macromolecules in Den\n",
    "Vinograd et al. - 1963 - Band-Centrifugation of Macromolecules and Viruses \n",
    "\n",
    "http://onlinelibrary.wiley.com.proxy.library.cornell.edu/doi/10.1002/bip.360101011/pdf\n",
    "\n",
    "\n",
    "## Ultracentrigation book\n",
    "http://books.google.com/books?hl=en&lr=&id=vxcSBQAAQBAJ&oi=fnd&pg=PA143&dq=Measurement+of+Density+Heterogeneity+by+Sedimentation+in&ots=l8ObYN-zVv&sig=Vcldf9_aqrJ-u7nQ1lBRKbknHps#v=onepage&q&f=false\n",
    "\n",
    "\n",
    "## Forum info\n",
    "* http://stackoverflow.com/questions/18624005/how-do-i-perform-a-convolution-in-python-with-a-variable-width-gaussian\n",
    "* http://timstaley.co.uk/posts/convolving-pdfs-in-python/\n",
    "\n",
    "\n",
    "## Possible workflows:\n",
    "### KDE convolution\n",
    "* KDE of fragment GC values\n",
    "* bandwidth cross validation: https://jakevdp.github.io/blog/2013/12/01/kernel-density-estimation/\n",
    "* convolution of KDE with diffusion function:\n",
    "\t* gaussian w/ mean of 0 and scale param = 44.5 (kb) / (mean fragment length)\n",
    "\t\t* http://www.academia.edu/428160/Using_Analytical_Ultracentrifugation_of_DNA_in_CsCl_Gradients_to_Explore_Large-Scale_Properties_of_Genomes\n",
    "\t* http://nbviewer.ipython.org/github/timstaley/ipython-notebooks/blob/compiled/probabilistic_programming/convolving_distributions_illustration.ipynb\n",
    "\n",
    "##variable KDE \n",
    "* variable KDE of fragment GC values where kernel sigma is determined by mean fragment length\n",
    "\t* gaussian w/ scale param = 44.5 (kb) / fragment length\n",
    "\n"
   ]
  },
  {
   "cell_type": "markdown",
   "metadata": {},
   "source": [
    "# Standard deviation of homogeneous DNA fragments"
   ]
  },
  {
   "cell_type": "markdown",
   "metadata": {},
   "source": [
    "Vinograd et al., 1963; (band-centrifugation): \n",
    "\n",
    "\\begin{align}\n",
    "\\sigma^2 = \\frac{r_0}{r_0^0} \\left\\{ \\frac{r_0}{r_0^0} + 2D \\left( t - t^0 \\right) \\right\\}\n",
    "\\end{align}"
   ]
  },
  {
   "cell_type": "markdown",
   "metadata": {},
   "source": [
    "## Standard deviation of Gaussian band (assuming equilibrium), Meselson et al., 1957:\n",
    "\n",
    "\\begin{align}\n",
    "\\sigma^2 = -\\sqrt{w} \\\\\n",
    "w = \\textrm{molecular weight}\n",
    "\\end{align}"
   ]
  },
  {
   "cell_type": "markdown",
   "metadata": {},
   "source": [
    "## Standard deviation of Gaussian band at a given time, Meselson et al., 1957:\n",
    "\n",
    "\\begin{equation}\n",
    "t^* = \\frac{\\sigma^2}{D} \\left(ln \\frac{L}{\\sigma} + 1.26 \\right), \\quad L\\gg\\sigma \\\\\n",
    "\\sigma^2 = \\textrm{stdev at equilibrium} \\\\\n",
    "L = \\textrm{length of column}\n",
    "\\end{equation}\n",
    "\n",
    "\n",
    "\n",
    "\n",
    "* Gaussian within 1% of equillibrium value from center.\n",
    "* ! assumes density gradient established at t = 0\n",
    "\n",
    "\n",
    "### Alternative form:\n",
    "\n",
    "\\begin{align}\n",
    "t = \\frac{\\beta^{\\circ}(p_p - p_m)}{w^4 r_p^2 s} * \\left(1.26 + ln \\frac{r_b - r_t}{\\sigma}\\right)\n",
    "\\end{align}\n",
    "\n",
    "\n",
    "\\begin{equation}\n",
    "t = \\textrm{time in seconds} \\\\\n",
    "\\beta^{\\circ} = \\beta^{\\circ} \\textrm{ of salt forming the density gradient (CsCl = ?)} \\\\\n",
    "p_p = \\textrm{buoyant density of the the particle in the salt} \\\\\n",
    "p_m = \\textrm{density of the medium (at the given radius?)} \\\\\n",
    "w = \\textrm{angular velocity} \\\\\n",
    "r_p = \\textrm{distance (cm) of particle from from the axis of rotation} \\\\\n",
    "s = \\textrm{sedimentation rate } (S_{20,w} * 10^{-13}) \\\\\n",
    "r_b = \\textrm{distance to top of gradient} \\\\\n",
    "r_t = \\textrm{distance to bottom of gradient} \\\\\n",
    "r_b - r_t = \\textrm{length of gradient (L)}\n",
    "\\end{equation}\n",
    "\n",
    "\n",
    "### Solving for sigma:\n",
    "\n",
    "\\begin{align}\n",
    "\\sigma = \\frac{L}{e^{\\left(\\frac{w^4 r_p^2 s t}{\\beta^{\\circ}(p_p - p_m)} - 1.26\\right)}}\n",
    "\\end{align}"
   ]
  },
  {
   "cell_type": "markdown",
   "metadata": {},
   "source": [
    "# Variables specific to the Buckley lab setup\n",
    "\n",
    "\\begin{equation}\n",
    "\\omega = (2\\pi \\times \\textrm{RPM}) /60, \\quad \\textrm{RPM} = 55000 \\\\\n",
    "\\beta^{\\circ} = 1.14 \\times 10^9 \\\\\n",
    "r_b = 4.85 \\\\\n",
    "r_t = 2.6 \\\\\n",
    "L = r_b - r_t \\\\\n",
    "s = S_{20,w} * 10^{-13} = 2.8 + 0.00834 * (l*666)^{0.479}, \\quad \\textrm{where l = length of fragment} \\\\\n",
    "p_m = 1.7 \\\\\n",
    "p_p = \\textrm{buoyant density of the particle in CsCl} \\\\\n",
    "r_p = ? \\\\\n",
    "t = \\textrm{independent variable}\n",
    "\\end{equation}\n",
    "\n",
    "\n",
    "__isoconcentration point__\n",
    "\n",
    "\\begin{equation}\n",
    "r_c = \\sqrt{(r_t^2 + r_t * r_b + r_b^2)/3}\n",
    "\\end{equation}\n",
    "\n",
    "__r<sub>p</sub> in relation to the particle's buoyant density (assuming equilibrium?)__\n",
    "\n",
    "\\begin{equation}\n",
    "r_p = \\sqrt{ ((p_p-p_m)*2*\\frac{\\beta^{\\circ}}{w}) + r_c^2 } \\\\\n",
    "p_p = \\textrm{buoyant density}\n",
    "\\end{equation}\n",
    "\n",
    "Maybe this should be drawn from a uniform distribution (particules distributed evenly across the gradient)???\n",
    "\n",
    "__buoyant density of a DNA fragment in CsCl__\n",
    "\n",
    "\\begin{equation}\n",
    "p_p = 0.098F + 1.66, \\quad \\textrm{where F = G+C molar fraction}\n",
    "\\end{equation}\n",
    "\n",
    "__calculating gradient density at specific radius (to calculate p_m)__\n",
    "\n",
    "??\n",
    "\n",
    "__info needed on a DNA fragment to determine it's sigma of the Guassian distribution__\n",
    "\n",
    "* fragment length\n",
    "* fragment G+C"
   ]
  },
  {
   "cell_type": "markdown",
   "metadata": {},
   "source": [
    "# Graphing the equations above"
   ]
  },
  {
   "cell_type": "code",
   "execution_count": 1,
   "metadata": {
    "collapsed": false
   },
   "outputs": [
    {
     "name": "stdout",
     "output_type": "stream",
     "text": [
      "Populating the interactive namespace from numpy and matplotlib\n"
     ]
    }
   ],
   "source": [
    "%pylab inline"
   ]
  },
  {
   "cell_type": "code",
   "execution_count": 2,
   "metadata": {
    "collapsed": false
   },
   "outputs": [],
   "source": [
    "import scipy as sp\n",
    "import numpy as np\n",
    "import pandas as pd\n",
    "import matplotlib.pyplot as plt\n",
    "import mixture\n",
    "#import sklearn.mixture as mixture"
   ]
  },
  {
   "cell_type": "markdown",
   "metadata": {},
   "source": [
    "## Generating fragments"
   ]
  },
  {
   "cell_type": "code",
   "execution_count": 72,
   "metadata": {
    "collapsed": false
   },
   "outputs": [],
   "source": [
    "n_frags = 10000\n",
    "frag_GC = np.random.normal(0.5,0.1,n_frags)\n",
    "frag_GC[frag_GC < 0] = 0\n",
    "frag_GC[frag_GC > 1] = 1\n",
    "frag_len = np.random.normal(10000,1000,n_frags)"
   ]
  },
  {
   "cell_type": "code",
   "execution_count": 73,
   "metadata": {
    "collapsed": false
   },
   "outputs": [
    {
     "data": {
      "image/png": "[encoded data removed]",
      "text/plain": [
       "<matplotlib.figure.Figure at 0x7f0da39a3510>"
      ]
     },
     "metadata": {},
     "output_type": "display_data"
    }
   ],
   "source": [
    "ret = plt.hist2d(frag_GC, frag_len, bins=100)"
   ]
  },
  {
   "cell_type": "markdown",
   "metadata": {},
   "source": [
    "## Setting variables"
   ]
  },
  {
   "cell_type": "code",
   "execution_count": 89,
   "metadata": {
    "collapsed": false
   },
   "outputs": [],
   "source": [
    "RPM = 55000\n",
    "omega = (2 * np.pi * RPM) / 60\n",
    "\n",
    "beta_o = 1.14 * 10**9\n",
    "\n",
    "radius_bottom = 4.85 \n",
    "radius_top = 2.6 \n",
    "col_len = radius_bottom - radius_top\n",
    "\n",
    "density_medium = 1.7"
   ]
  },
  {
   "cell_type": "markdown",
   "metadata": {},
   "source": [
    "## Calculation functions"
   ]
  },
  {
   "cell_type": "code",
   "execution_count": 75,
   "metadata": {
    "collapsed": false
   },
   "outputs": [
    {
     "data": {
      "image/png": "[encoded data removed]",
      "text/plain": [
       "<matplotlib.figure.Figure at 0x7f0da391b0d0>"
      ]
     },
     "metadata": {},
     "output_type": "display_data"
    }
   ],
   "source": [
    "# BD from GC\n",
    "frag_BD = 0.098 * frag_GC + 1.66\n",
    "\n",
    "ret = plt.hist(frag_BD, bins=100)"
   ]
  },
  {
   "cell_type": "code",
   "execution_count": 84,
   "metadata": {
    "collapsed": false
   },
   "outputs": [
    {
     "data": {
      "image/png": "[encoded data removed]",
      "text/plain": [
       "<matplotlib.figure.Figure at 0x7f0da356b1d0>"
      ]
     },
     "metadata": {},
     "output_type": "display_data"
    }
   ],
   "source": [
    "sedimentation = (frag_len*666)**0.479 * 0.00834 + 2.8   # l = length of fragment\n",
    "\n",
    "ret = plt.hist(sedimentation, bins=100)"
   ]
  },
  {
   "cell_type": "code",
   "execution_count": 86,
   "metadata": {
    "collapsed": false
   },
   "outputs": [
    {
     "data": {
      "image/png": "[encoded data removed]",
      "text/plain": [
       "<matplotlib.figure.Figure at 0x7f0da33abad0>"
      ]
     },
     "metadata": {},
     "output_type": "display_data"
    }
   ],
   "source": [
    "# sedimentation as a function of fragment length \n",
    "len_range = np.arange(1,10000, 100)\n",
    "\n",
    "ret = plt.scatter(len_range, 2.8 + 0.00834 * (len_range*666)**0.479 )"
   ]
  },
  {
   "cell_type": "code",
   "execution_count": 113,
   "metadata": {
    "collapsed": false
   },
   "outputs": [
    {
     "data": {
      "text/plain": [
       "3.7812035121109258"
      ]
     },
     "execution_count": 113,
     "metadata": {},
     "output_type": "execute_result"
    }
   ],
   "source": [
    "# isoconcentration point\n",
    "iso_point = sqrt((radius_top**2 + radius_top * radius_bottom + radius_bottom**2)/3)\n",
    "iso_point"
   ]
  },
  {
   "cell_type": "code",
   "execution_count": 101,
   "metadata": {
    "collapsed": false
   },
   "outputs": [
    {
     "data": {
      "text/plain": [
       "array([ 62.83472857,  65.24947889,  71.07927139,  39.2627203 ,\n",
       "        83.56106181,  60.12239077,  73.64807884,          nan,  91.27392451])"
      ]
     },
     "execution_count": 101,
     "metadata": {},
     "output_type": "execute_result"
    }
   ],
   "source": [
    "# radius of particle\n",
    "\n",
    "#radius_particle = np.sqrt( (frag_BD - density_medium)*2*(beta_o/omega) + iso_point**2 )\n",
    "\n",
    "\n",
    "#ret = plt.hist(radius_particle)"
   ]
  },
  {
   "cell_type": "code",
   "execution_count": null,
   "metadata": {
    "collapsed": false
   },
   "outputs": [],
   "source": []
  },
  {
   "cell_type": "markdown",
   "metadata": {},
   "source": [
    "# Testing out speed of mixture models"
   ]
  },
  {
   "cell_type": "code",
   "execution_count": 95,
   "metadata": {
    "collapsed": false
   },
   "outputs": [],
   "source": [
    "n_dists = 10\n",
    "n_samp = 10000"
   ]
  },
  {
   "cell_type": "code",
   "execution_count": 96,
   "metadata": {
    "collapsed": false
   },
   "outputs": [],
   "source": [
    "def make_mm(n_dists):\n",
    "    dist_loc = np.random.uniform(0,1,n_dists)\n",
    "    dist_scale = np.random.uniform(0,0.1, n_dists)\n",
    "    dists = [mixture.NormalDistribution(x,y) for x,y in zip(dist_loc, dist_scale)]\n",
    "    eq_weights = np.array([1.0 / n_dists] * n_dists)\n",
    "    eq_weights[0] += 1.0 - np.sum(eq_weights)\n",
    "    return mixture.MixtureModel(n_dists, eq_weights, dists)"
   ]
  },
  {
   "cell_type": "code",
   "execution_count": 97,
   "metadata": {
    "collapsed": false
   },
   "outputs": [],
   "source": [
    "mm = make_mm(n_dists)"
   ]
  },
  {
   "cell_type": "code",
   "execution_count": 98,
   "metadata": {
    "collapsed": false
   },
   "outputs": [
    {
     "name": "stdout",
     "output_type": "stream",
     "text": [
      "10 loops, best of 3: 98.4 ms per loop\n"
     ]
    }
   ],
   "source": [
    "%%timeit\n",
    "smp = mm.sampleDataSet(n_samp).getInternalFeature(0).flatten()"
   ]
  },
  {
   "cell_type": "code",
   "execution_count": 99,
   "metadata": {
    "collapsed": false
   },
   "outputs": [
    {
     "name": "stdout",
     "output_type": "stream",
     "text": [
      "10 loops, best of 3: 65.4 ms per loop\n"
     ]
    }
   ],
   "source": [
    "%%timeit\n",
    "smp = np.array([mm.sample() for i in arange(n_samp)])"
   ]
  },
  {
   "cell_type": "code",
   "execution_count": 100,
   "metadata": {
    "collapsed": false
   },
   "outputs": [],
   "source": [
    "n_dists = 1000\n",
    "mm = make_mm(n_dists)"
   ]
  },
  {
   "cell_type": "code",
   "execution_count": 101,
   "metadata": {
    "collapsed": false
   },
   "outputs": [
    {
     "name": "stdout",
     "output_type": "stream",
     "text": [
      "1 loops, best of 3: 1.7 s per loop\n"
     ]
    }
   ],
   "source": [
    "%%timeit\n",
    "smp = mm.sampleDataSet(n_samp).getInternalFeature(0).flatten()"
   ]
  },
  {
   "cell_type": "code",
   "execution_count": 102,
   "metadata": {
    "collapsed": false
   },
   "outputs": [
    {
     "name": "stdout",
     "output_type": "stream",
     "text": [
      "1 loops, best of 3: 1.64 s per loop\n"
     ]
    }
   ],
   "source": [
    "%%timeit\n",
    "smp = np.array([mm.sample() for i in arange(n_samp)])"
   ]
  },
  {
   "cell_type": "code",
   "execution_count": 103,
   "metadata": {
    "collapsed": false
   },
   "outputs": [],
   "source": [
    "n_dists = 10000\n",
    "mm = make_mm(n_dists)"
   ]
  },
  {
   "cell_type": "code",
   "execution_count": 104,
   "metadata": {
    "collapsed": false
   },
   "outputs": [
    {
     "name": "stdout",
     "output_type": "stream",
     "text": [
      "1 loops, best of 3: 17 s per loop\n"
     ]
    }
   ],
   "source": [
    "%%timeit\n",
    "smp = mm.sampleDataSet(n_samp).getInternalFeature(0).flatten()"
   ]
  },
  {
   "cell_type": "code",
   "execution_count": 105,
   "metadata": {
    "collapsed": false
   },
   "outputs": [
    {
     "name": "stdout",
     "output_type": "stream",
     "text": [
      "1 loops, best of 3: 16.7 s per loop\n"
     ]
    }
   ],
   "source": [
    "%%timeit\n",
    "smp = np.array([mm.sample() for i in arange(n_samp)])"
   ]
  },
  {
   "cell_type": "code",
   "execution_count": 106,
   "metadata": {
    "collapsed": false
   },
   "outputs": [],
   "source": [
    "n_samp = 100000"
   ]
  },
  {
   "cell_type": "code",
   "execution_count": 107,
   "metadata": {
    "collapsed": false
   },
   "outputs": [
    {
     "name": "stdout",
     "output_type": "stream",
     "text": [
      "1 loops, best of 3: 2min 51s per loop\n"
     ]
    }
   ],
   "source": [
    "%%timeit\n",
    "smp = mm.sampleDataSet(n_samp).getInternalFeature(0).flatten()"
   ]
  },
  {
   "cell_type": "code",
   "execution_count": 108,
   "metadata": {
    "collapsed": false
   },
   "outputs": [
    {
     "name": "stdout",
     "output_type": "stream",
     "text": [
      "1 loops, best of 3: 2min 46s per loop\n"
     ]
    }
   ],
   "source": [
    "%%timeit\n",
    "smp = np.array([mm.sample() for i in arange(n_samp)])"
   ]
  },
  {
   "cell_type": "markdown",
   "metadata": {},
   "source": [
    "__Notes:__\n",
    "\n",
    "* a mixture model with many distributions (>1000) is very slow for sampling"
   ]
  },
  {
   "cell_type": "code",
   "execution_count": 109,
   "metadata": {
    "collapsed": false
   },
   "outputs": [],
   "source": [
    "x = np.random.normal(3, 1, 100)\n",
    "y = np.random.normal(1, 1, 100)\n",
    "H, xedges, yedges = np.histogram2d(y, x, bins=100)"
   ]
  },
  {
   "cell_type": "code",
   "execution_count": 110,
   "metadata": {
    "collapsed": false
   },
   "outputs": [
    {
     "data": {
      "text/plain": [
       "array([[ 0.,  0.,  0., ...,  0.,  0.,  0.],\n",
       "       [ 0.,  0.,  0., ...,  0.,  0.,  0.],\n",
       "       [ 0.,  0.,  0., ...,  0.,  0.,  0.],\n",
       "       ..., \n",
       "       [ 0.,  0.,  0., ...,  0.,  0.,  0.],\n",
       "       [ 0.,  0.,  0., ...,  0.,  0.,  0.],\n",
       "       [ 0.,  0.,  0., ...,  0.,  0.,  0.]])"
      ]
     },
     "execution_count": 110,
     "metadata": {},
     "output_type": "execute_result"
    }
   ],
   "source": [
    "H"
   ]
  },
  {
   "cell_type": "markdown",
   "metadata": {},
   "source": [
    "***\n",
    "***"
   ]
  },
  {
   "cell_type": "markdown",
   "metadata": {},
   "source": [
    "# Workflow for modeling DNA fragment locations in a gradient\n",
    "\n",
    "For each genome in mock community, simulate N fragments and calculate their Guassian distributions in the gradient.\n",
    "Create a mixture model of those Guassian distributions to sample A<sub>a</sub> fragments,\n",
    "where A<sub>a</sub> = the absolute abundance of the taxon in the mock community.\n",
    "One mixture model per genome.\n",
    "\n",
    "## User defined:\n",
    "\n",
    "* Rotor specs\n",
    "* cfg parameters (RPM, time)\n",
    "\n",
    "## Generate fragment density distributions\n",
    "\n",
    "* For each genome in the mock community:\n",
    "  * Simulate fragments\n",
    "  * Calculate sigma of Gaussian density distribution\n",
    "  * Create mixture model from all Gaussians of the fragments\n",
    "  \n",
    "## Simulate fraction communities\n",
    "\n",
    "* For each genome in mock community:\n",
    "  * sample fragments from mixture model based on total abundance of taxon in mock community\n",
    "  * bin fragments into gradient fractions"
   ]
  },
  {
   "cell_type": "code",
   "execution_count": null,
   "metadata": {
    "collapsed": false
   },
   "outputs": [],
   "source": []
  }
 ],
 "metadata": {
  "kernelspec": {
   "display_name": "Python 2",
   "language": "python",
   "name": "python2"
  },
  "language_info": {
   "codemirror_mode": {
    "name": "ipython",
    "version": 2
   },
   "file_extension": ".py",
   "mimetype": "text/x-python",
   "name": "python",
   "nbconvert_exporter": "python",
   "pygments_lexer": "ipython2",
   "version": "2.7.9"
  }
 },
 "nbformat": 4,
 "nbformat_minor": 0
}
